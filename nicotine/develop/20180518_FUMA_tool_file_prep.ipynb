{
 "cells": [
  {
   "cell_type": "markdown",
   "metadata": {},
   "source": [
    "# FUMA tool\n",
    "I would like to try out the new FUMA tool (http://fuma.ctglab.nl/) with our existing ND meta results (Q:\\Analysis\\META\\1df\\044.eur13cohorts.afr.9cohorts.eagle_lung.jhs_aric.1000G_p3_markerName_FinalDatasetDNMT3Bpaper\\). It seems pretty straightforward to implement, but I need some help with file prep as I need a zipped file with genome-wide results that is <600Mb. With that , can you please prepare a file that concatenates all of the chr-specific files into one, and includes only the following meta-analysis output columns?\n",
    "\n",
    " \n",
    "```\n",
    "Chr\n",
    "\n",
    "Position\n",
    "\n",
    "MarkerName\n",
    "\n",
    "P-value\n",
    "\n",
    "Allele1\n",
    "\n",
    "Allele2\n",
    "\n",
    "Effect\n",
    "\n",
    "StdErr```\n",
    "\n",
    "Example files:\n",
    "\n",
    "`cogend+copdgene+decode+eagle+sage+uw-tturc+gain+nongain+yale-penn+ntr+finnish+aand+jhs+dental_caries+cogend2.afr+eur.chr1.1df\n",
    "cogend+copdgene+decode+eagle+sage+uw-tturc+gain+nongain+yale-penn+ntr+finnish+aand+jhs+dental_caries+cogend2.afr+eur.chr2.1df\n",
    "`"
   ]
  },
  {
   "cell_type": "code",
   "execution_count": null,
   "metadata": {},
   "outputs": [],
   "source": [
    "awk '{print $2,$3,$1,$8,$4,$5,$6,$7;exit}'\\\n",
    "    cogend+copdgene+decode+eagle+sage+uw-tturc+gain+nongain+yale-penn+ntr+finnish+aand+jhs+dental_caries+cogend2.afr+eur.chr1.1df >\\\n",
    "    cogend+copdgene+decode+eagle+sage+uw-tturc+gain+nongain+yale-penn+ntr+finnish+aand+jhs+dental_caries+cogend2.afr+eur.ALL_CHR.FUMA_READY.1df\n",
    "for chr in {1..22}; do\n",
    "    echo processing chr$chr\n",
    "    awk 'NR>=2{print $2,$3,$1,$8,$4,$5,$6,$7}'\\\n",
    "    cogend+copdgene+decode+eagle+sage+uw-tturc+gain+nongain+yale-penn+ntr+finnish+aand+jhs+dental_caries+cogend2.afr+eur.chr$chr.1df >>\\\n",
    "    cogend+copdgene+decode+eagle+sage+uw-tturc+gain+nongain+yale-penn+ntr+finnish+aand+jhs+dental_caries+cogend2.afr+eur.ALL_CHR.FUMA_READY.1df\n",
    "done\n",
    "    "
   ]
  },
  {
   "cell_type": "markdown",
   "metadata": {},
   "source": [
    "PC |Df | Sum Sq | Mean Sq | F value | Pr(>F) | PVE\n",
    "|--|-- | -- | -- | -- | -- | --\n",
    "PC3|1 | 97.377888664 | 97.377888664 | 7069.7406344 | 0.000000e+00 | 71.54\n",
    "PC6|1 | 33.653635410 | 33.653635410 | 2443.2905357 | 0.000000e+00 | 24.72\n",
    "PC2|1 | 2.577168570 | 2.577168570 | 187.1052414 | 6.487391e-41 | 1.89\n",
    "PC5|1 | 2.060871185 | 2.060871185 | 149.6214896 | 2.565479e-33 | 1.51\n",
    "PC8|1 | 0.238007426 | 0.238007426 | 17.2795980 | 3.351871e-05 | 0.17\n",
    "PC9|1 | 0.099194782 | 0.099194782 | 7.2016491 | 7.339093e-03 | 0.07\n",
    "PC7|1 | 0.064608247 | 0.064608247 | 4.6906290 | 3.043634e-02 | 0.05\n",
    "PC4|1 | 0.037486043 | 0.037486043 | 2.7215275 | 9.914823e-02 | 0.03\n",
    "PC1|1 | 0.003348685 | 0.003348685 | 0.2431182 | 6.220130e-01 | 0.00\n",
    "PC10|1 | 0.004836362 | 0.004836362 | 0.3511252 | 5.535387e-01 | 0.00"
   ]
  },
  {
   "cell_type": "code",
   "execution_count": null,
   "metadata": {},
   "outputs": [],
   "source": [
    "sh /shared/bioinformatics/software/scripts/qsub_job.sh \\\n",
    "        --job_name fuma.file.afr+eur \\\n",
    "        --script_prefix fuma.file.afr+eur \\\n",
    "        --mem 3.5 \\\n",
    "        --nslots 1 \\\n",
    "        --priority 0 \\\n",
    "        --program bash fuma.afr+eur.sh\n"
   ]
  },
  {
   "cell_type": "code",
   "execution_count": null,
   "metadata": {},
   "outputs": [],
   "source": []
  }
 ],
 "metadata": {
  "kernelspec": {
   "display_name": "R",
   "language": "R",
   "name": "ir"
  },
  "language_info": {
   "codemirror_mode": "r",
   "file_extension": ".r",
   "mimetype": "text/x-r-source",
   "name": "R",
   "pygments_lexer": "r",
   "version": "3.5.1"
  },
  "toc": {
   "nav_menu": {},
   "number_sections": true,
   "sideBar": true,
   "skip_h1_title": false,
   "toc_cell": false,
   "toc_position": {},
   "toc_section_display": "block",
   "toc_window_display": false
  }
 },
 "nbformat": 4,
 "nbformat_minor": 2
}
