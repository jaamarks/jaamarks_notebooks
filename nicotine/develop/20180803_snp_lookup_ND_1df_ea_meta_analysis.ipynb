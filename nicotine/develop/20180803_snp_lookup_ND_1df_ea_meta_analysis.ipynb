{
 "cells": [
  {
   "cell_type": "markdown",
   "metadata": {},
   "source": [
    "# SNP lookup\n",
    "\n",
    "**Author**: Jesse Marks\n",
    "\n",
    "**Date**: August 3, 2018\n",
    "\n",
    "This document was created in an effort to reaffirm the validity of our FTND meta-analysis pipeline (see email thread initiated by Dana Hancock on 20180802 with the subject titled \"RE: EUR-specific ND meta file with cohort results\"). We will use the EA-specific results to perform this sanity check. Specifically, we will perform a SNP lookup in the individual EA-cohorts and compare the betas and p-values with the meta-analysis results to make sure there is concordance. \n",
    "\n",
    "Our current meta-analysis implements the METAL software. The AA-specific meta-analysis carried out with METAL outputted the meta-analysis results with the cohort-specific data appended. The EA-specific meta-analysis was also carried out with METAL, however, the cohort-specific data was NOT appended. We are not sure why these results were not appended but one theory is that maybe METAL has a output-file size limit on the meta-analysis results. Afterall, there were more EA-specific cohorts than AA-specific cohorts. In any case, we will have to perform a SNP lookup manually in the EA-specific GWAS results and append those results to the meta-analysis results outputted by METAL. After discussion with Dana Hancock, it will suffice to perform the SNP look-up on the top 1000 SNPs. This will allow us to ascertain the general trend and tell if the meta-analysis results are copacetic. Note, we were able to verify the validity of the AA-specific results and in another recent meta-analysis implementing the METAL software so really this is a quote unquote triple-check. "
   ]
  },
  {
   "cell_type": "markdown",
   "metadata": {},
   "source": [
    "The latest FTND meta-analysis results---as of the production of this notebook---are stored on the local share:drive (`\\\\rcdcollaboration01.rti.ns`). The path to an Excel file that contains the most significant SNPs (Pvalue < 0.001) from the EA-specific meta-analysis is:\n",
    "\n",
    "`\\Analysis\\META\\1df\\057.eur18cohorts.1000G_p3\\cogend+cogend2+copdgene1+copdgene2+decode+dental_caries+eagle+emerge+finrisk+ftc+gain+german+minnesota_twins+nongain+ntr+sage+uw-tturc+yale-penn.eur.1df.p_lte_0.001`\n",
    "\n",
    "The paths to the individual 1df FTND EA-specific GWAS results are documented in the a CSV file (also on the share:drive) located at:\n",
    "\n",
    "`//rcdcollaboration01/GxG/Analysis/Imported%20table-Grid%20view.csv`\n",
    "\n",
    "If you open this CSV file in Microsoft Excel, column `H` contains the corresponding share:drive paths. From the CSV this CSV file the EA-specific cohorts along with their corresponding path were obtain and are provided in the following table:\n",
    "```\n",
    "EA-specific cohorts\n",
    "\n",
    "COGEND_EA\n",
    "COGEND2_EA  \n",
    "COPDGENE1_EA  \n",
    "COPDGENE2_EA  \n",
    "DECODE_EA \n",
    "DENTAL_CARIES_EA \n",
    "EAGLE_EA \n",
    "EMERGE_EA\n",
    "FINRISK_EA \n",
    "FTC_EA\n",
    "GAIN_EA \n",
    "GERMAN_EA  \n",
    "MINNESOTA_TWINS_EA\n",
    "NONGAIN_EA\n",
    "NTR_EA\n",
    "SAGE_EA\n",
    "UW_TTURC_EA\n",
    "YALE_PENN_EA\n",
    "```\n",
    "\n",
    "| EA-specific cohort | Path on share:drive                                                        |\n",
    "|--------------------|----------------------------------------------------------------------------|\n",
    "| COGEND_EA          | \\\\rcdcollaboration01\\GxG\\Analysis\\COGEND\\association\\ea\\1df\\008            |\n",
    "| COGEND2_EA         | \\\\rcdcollaboration01\\GxG\\Analysis\\COGEND_COGEND2\\association\\v1\\ea\\1df\\001 |\n",
    "| COPDGENE1_EA       |  TBD                                                                          |\n",
    "| COPDGENE2_EA       |  TBD                                                                          |\n",
    "| DECODE_EA          |  TBD                                                                          |\n",
    "| DENTAL_CARIES_EA   | \\\\rcdcollaboration01\\GxG\\Analysis\\dental_caries\\association\\ea\\1df\\006     |\n",
    "| EAGLE_EA           | \\\\rcdcollaboration01\\GxG\\Analysis\\EAGLE\\association\\ea\\1df\\008             |\n",
    "| EMERGE_EA          | \\\\rcdcollaboration01.rti.ns\\gxg\\Analysis\\eMERGE\\association\\ea\\1df         |\n",
    "| FINRISK_EA         | \\\\rcdcollaboration01\\GxG\\Analysis\\FINRISK\\ea\\1df\\001                       |\n",
    "| FTC_EA             |  TBD                                                                         |\n",
    "| GAIN_EA            | \\\\rcdcollaboration01\\GxG\\Analysis\\Schizo_GAIN\\association\\ea\\1df\\008       |\n",
    "| GERMAN_EA          | \\\\rcdcollaboration01\\GxG\\Analysis\\GermanCohort\\association\\1df\\002         |\n",
    "| MINNESOTA_TWINS_EA | \\\\rcdcollaboration01\\GxG\\Analysis\\minnesota_twins\\ea\\1df\\001               |\n",
    "| NONGAIN_EA         | \\\\rcdcollaboration01\\GxG\\Analysis\\Schizo_nonGAIN\\association\\ea\\1df\\009    |\n",
    "| NTR_EA             | \\\\rcdcollaboration01\\GxG\\Analysis\\NTR\\1kgp3_001                            |\n",
    "| SAGE_EA            | \\\\rcdcollaboration01\\GxG\\Analysis\\SAGE\\association\\ea\\1df\\009\\             |\n",
    "| UW_TTURC_EA        | \\\\rcdcollaboration01\\GxG\\Analysis\\UW-TTURC\\association\\ea\\1df\\008          |\n",
    "| YALE_PENN_EA       | \\\\rcdcollaboration01\\GxG\\Analysis\\Yale-Penn\\association\\ea\\1df\\003         |"
   ]
  },
  {
   "cell_type": "code",
   "execution_count": null,
   "metadata": {},
   "outputs": [],
   "source": []
  }
 ],
 "metadata": {
  "kernelspec": {
   "display_name": "R",
   "language": "R",
   "name": "ir"
  },
  "language_info": {
   "codemirror_mode": "r",
   "file_extension": ".r",
   "mimetype": "text/x-r-source",
   "name": "R",
   "pygments_lexer": "r",
   "version": "3.5.1"
  },
  "toc": {
   "nav_menu": {},
   "number_sections": true,
   "sideBar": true,
   "skip_h1_title": false,
   "toc_cell": false,
   "toc_position": {},
   "toc_section_display": "block",
   "toc_window_display": false
  }
 },
 "nbformat": 4,
 "nbformat_minor": 2
}
