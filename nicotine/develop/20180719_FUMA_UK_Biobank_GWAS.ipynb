{
 "cells": [
  {
   "cell_type": "markdown",
   "metadata": {},
   "source": [
    "# FUMA tool\n",
    "**Author:** Jesse Marks\n",
    "\n",
    "The UK Biobank GWAS results are on the share drive in the folder:`//rcdcollaboration01.rti.ns/gxg/UKBiobank_GWASresults`. Include only the following meta-analysis output columns.\n",
    "\n",
    " \n",
    "```\n",
    "Chr\n",
    "\n",
    "Position\n",
    "\n",
    "MarkerName\n",
    "\n",
    "P-value\n",
    "\n",
    "Allele1\n",
    "\n",
    "Allele2\n",
    "\n",
    "Effect\n",
    "\n",
    "StdErr```\n",
    "\n",
    "File of interest: `Heavy_vs_never_smokers.csv`\n",
    "\n",
    "`head Heavy_vs_never_smokers.csv`\n",
    "```\n",
    "rsid,chromosome,position,nonref_allele,ref_allele,minor_allele,info,MAF_%,MAC,beta,se,P,se_gc,P_gc,P_Firth\n",
    "rs185832753,1,51954,G,C,C,0.556,0.112,109,-1.01,0.257,8.78e-05,0.269,0.000186,\n",
    "rs199502715,1,53234,CAT,C,C,0.661,0.115,112,0.148,0.231,0.521,0.242,0.541,\n",
    "rs140052487,1,54353,C,A,A,0.548,0.199,195,0.234,0.194,0.228,0.204,0.251,\n",
    "rs190850374,1,55367,G,A,A,0.619,0.0287,28.1,-0.0244,0.467,0.958,0.490,0.960,\n",
    "```\n",
    "\n",
    "So, we want columns: 2,3,1,12,5,6,10,11"
   ]
  },
  {
   "cell_type": "code",
   "execution_count": null,
   "metadata": {},
   "outputs": [],
   "source": [
    "# print header\n",
    "awk -F ',' ' NR==1{print $2,$3,$1,$12,$5,$6,$10,$11;exit}' Heavy_vs_never_smokers.csv > \\\n",
    "    Heavy_vs_never_smokers.ALL_CHR.FUMA\n",
    "\n",
    "# rename ref_allele and minor_allele to A1 and A2 respectively (FUMA convention)\n",
    "awk 'NR==1 { $5=\"A1\"; $6=\"A2\";print $0;exit}' Heavy_vs_never_smokers.ALL_CHR.FUMA >\\\n",
    "    tmp && mv tmp Heavy_vs_never_smokers.ALL_CHR.FUMA\n",
    "awk -F ',' ' NR>=2 { {if ( $2 > 23) { exit }}  {print $2,$3,$1,$12,$5,$6,$10,$11}}' \\\n",
    "     Heavy_vs_never_smokers.csv >> Heavy_vs_never_smokers.ALL_CHR.FUMA &\n",
    "\n",
    "gzip Heavy_vs_never_smokers.ALL_CHR.FUMA"
   ]
  },
  {
   "cell_type": "code",
   "execution_count": null,
   "metadata": {},
   "outputs": [],
   "source": [
    "chromosome position rsid P A1 A2 beta se\n",
    "\n",
    "\n",
    "awk ' { if ( $1==23) {exit }} {print $0} ' <(zcat Heavy_vs_never_smokers.ALL_CHR.FUMA.gz) | head"
   ]
  },
  {
   "cell_type": "code",
   "execution_count": null,
   "metadata": {},
   "outputs": [],
   "source": [
    "## EC2 command line\n",
    "for chr in {2..22};do\n",
    "    zcat Heavy_vs_never_smokers.ALL_CHR.FUMA.gz | head -n1 > heavy.never.test/chr$chr.test.a\n",
    "\n",
    "    awk -v chr=\"$chr\" ' { if ( $1 == chr ) { print $0 } if ( $1 == chr+1 ) { exit } }' \\\n",
    "        <(zcat Heavy_vs_never_smokers.ALL_CHR.FUMA.gz) >> heavy.never.test/chr$chr.test.a &\n",
    "done\n",
    "\n",
    "gzip test.folder/*a &\n"
   ]
  },
  {
   "cell_type": "markdown",
   "metadata": {},
   "source": [
    "# Chr15 and Chr7 throwing errors"
   ]
  },
  {
   "cell_type": "markdown",
   "metadata": {},
   "source": [
    "## Chr15\n",
    "### Remove duplicate SNPs\n",
    "According to the [FUMA user guide forum](https://groups.google.com/forum/#!categories/fuma-gwas-users) and ERROR 6 may be because of duplicate SNPs. So I will test this by removing any duplicate SNPs, both dublicate positions and rsIDs.\n",
    "\n",
    "I removed duplicate SNPs both by position and by rsID. Still recieved ERROR 006. Must be something else."
   ]
  },
  {
   "cell_type": "code",
   "execution_count": null,
   "metadata": {},
   "outputs": [],
   "source": [
    "tail -n +2 chr15.test.a | awk '{ if (!seen[$2]++) {print $0}}' | wc -l\n",
    "'706154'\n",
    "\n",
    "tail -n +2 chr15.test.a | awk '{ if (!seen[$3]++) {print $0}}' | wc -l\n",
    "'706152'\n",
    "\n",
    "cat chr15.test.a | awk '{ if (!seen[$2]++) {print $0}}' > chr15.test.c02\n",
    "cat chr15.test.c02 | awk '{ if (!seen[$3]++) {print $0}}' > chr15.test.c03\n",
    "wc -l chr15.test.c03\n",
    "'706120'\n",
    "# job name: chr15.c03 removed all dups (rsID and position)\n",
    "# This job failed; ERROR 006\n"
   ]
  },
  {
   "cell_type": "markdown",
   "metadata": {},
   "source": [
    "### The following snp is throwing error 6\n",
    "I found this SNP by the bisection method. Namely, submitting jobs with different combinations of SNPs until I had narrowed down this SNP as problematic."
   ]
  },
  {
   "cell_type": "code",
   "execution_count": null,
   "metadata": {},
   "outputs": [],
   "source": [
    "more chr15.test.e463421\n",
    "chromosome position rsid P A1 A2 beta se\n",
    "15 78915370 rs34573245;rs202041589 1.14e-14 CT C -0.101 0.0131\n",
    "\n",
    "SNP on 15:78719501 have rs72736802;rs200422183"
   ]
  },
  {
   "cell_type": "markdown",
   "metadata": {},
   "source": [
    "1. remove the snp from the entire results\n",
    "    - once I have identified another problematic SNP, I can add SNP 78915370 back in to make sure it is still problematic."
   ]
  },
  {
   "cell_type": "code",
   "execution_count": null,
   "metadata": {},
   "outputs": [],
   "source": [
    " grep -n 78915370 chr15.test.a\n",
    "475138:15 78915370 rs34573245;rs202041589 1.14e-14 CT C -0.101 0.0131\n",
    "\n",
    "sed '475138d' chr15.test.a > chr15.test.b01\n",
    "# this test case failed with FUMA\n",
    "# next subset these data to the first 500,000 lines\n",
    "\n",
    "head -n500000 chr15.test.b01 > chr15.test.b02\n",
    "# This test case failed with FUMA\n",
    "# next subset these data to the first 450,000 lines\n",
    "\n",
    "head -n450000 chr15.test.b01 > chr15.test.b03 # chr15.b03(removed 78915370 and subset to 450K)\n",
    "# This test case past\n",
    "# next subset these data to the first 475K lines\n",
    "\n",
    "head -n475000 chr15.test.b01 > chr15.test.b04 # chr15.b04(removed 78915370 and subset to 475K)\n",
    "# This test case failed, ERROR 6\n",
    "# next test the last 25K (from 475-500K) to determine if any erroneous SNPs there.\n",
    "\n",
    "head -n1 chr15.test.b01 > chr15.test.b05\n",
    "tail -n +475001 chr15.test.b01 | head -n 25000 >> chr15.test.b05 # chr15.b05(removed 78915370 and subset to 475K-500K)#\n",
    "# This test case passed without any errors\n",
    "# next test the first 470K lines\n",
    "\n",
    "head -n470000 chr15.test.b01 > chr15.test.b06 # chr15.b06(removed 78915370 and subset to 470K)\n",
    "# This test case past; ERROR 5\n",
    "# next test lines 470K-474K\n",
    "\n",
    "head -n1 chr15.test.b01 > chr15.test.b07\n",
    "tail -n +470000 chr15.test.b01 | head -n 4000 >> chr15.test.b07 # chr15.b07(removed 78915370 and subset to 470K-474K)\n",
    "# This test case failed; ERROR 6\n",
    "# next test lines 470K-472\n",
    "\n",
    "head -n1 chr15.test.b01 > chr15.test.b08\n",
    "tail -n +475001 chr15.test.b01 >> chr15.test.b08 # chr15.b08(removed 78915370 and subset to 475K-end)#\n",
    "# This test case passed!\n",
    "# next test lines 470K-472K\n",
    "\n",
    "head -n1 chr15.test.b01 > chr15.test.b09\n",
    "tail -n +470000 chr15.test.b01 | head -n 2000 >> chr15.test.b09  # chr15.b09(removed 78915370 and subset to 470K-472K)#\n",
    "# This test case passed; ERROR 5\n",
    "# next test 472K-473K\n",
    "\n",
    "head -n1 chr15.test.b01 > chr15.test.b10\n",
    "tail -n +472000 chr15.test.b01 | head -n 1000 >> chr15.test.b10  # chr15.b10(removed 78915370 and subset to 472K-473K)#\n",
    "# This test case passed passed\n",
    "# Next test 473K-474K\n",
    "\n",
    "head -n1 chr15.test.b01 > chr15.test.b11\n",
    "tail -n +473000 chr15.test.b01 | head -n 1000 >> chr15.test.b11  # chr15.b11(removed 78915370 and subset to 473K-474K)#\n",
    "# This test case failed; ERROR 6\n",
    "# Next test 473-473.5K\n",
    "\n",
    "head -n1 chr15.test.b01 > chr15.test.b12\n",
    "tail -n +473000 chr15.test.b01 | head -n 500 >> chr15.test.b12  # chr15.b12(removed 78915370 and subset to 473K-473.5K)#\n",
    "# This test case failed; ERROR 6\n",
    "# Next test 473.5K-474K\n",
    "\n",
    "head -n1 chr15.test.b01 > chr15.test.b13\n",
    "tail -n +473500 chr15.test.b01 | head -n 500 >> chr15.test.b13  # chr15.b13(removed 78915370 and subset to 473.5K-474K)#\n",
    "# This test case failed; ERROR 6\n",
    "# Next test 473-473.25K (note I need to test 473.5-473.75K && 473.75-474K)\n",
    "\n",
    "head -n1 chr15.test.b01 > chr15.test.b14\n",
    "tail -n +473000 chr15.test.b01 | head -n 250 >> chr15.test.b14  # chr15.b14(removed 78915370 and subset to 473K-473.25K)#\n",
    "# This test case passed \n",
    "# Next test 473.25-473.5 (should fail!)\n",
    "\n",
    "head -n1 chr15.test.b01 > chr15.test.b15\n",
    "tail -n +473250 chr15.test.b01 | head -n 250 >> chr15.test.b15  # chr15.b15(removed 78915370 and subset to 473.25-473.5K)#\n",
    "# This test case fail; ERROR 6\n",
    "# Next test 473.75-474K\n",
    "\n",
    "head -n1 chr15.test.b01 > chr15.test.b16\n",
    "tail -n +473750 chr15.test.b01 | head -n 250 >> chr15.test.b16  # chr15.b16(removed 78915370 and subset to 473.75K-474K)#\n",
    "# This test case failed; ERROR 6\n",
    "# Next test 473.4-473.5\n",
    "\n",
    "\n",
    "head -n1 chr15.test.b01 > chr15.test.b17\n",
    "tail -n +473400 chr15.test.b01 | head -n 100 >> chr15.test.b17  # chr15.b17(removed 78915370 and subset to 473.75K-474K)#\n",
    "# This test case Passed\n",
    "# Next test 473.4-473.5"
   ]
  },
  {
   "cell_type": "markdown",
   "metadata": {},
   "source": [
    "note that it could be markerIDs that have a semi-colon in them and or markernames that start with Affx-\n",
    "* It turns out that it is the markerIDs which have multiple rsIDs separated by a semicolon. The solution is to remove the trailing rsIDs."
   ]
  },
  {
   "cell_type": "code",
   "execution_count": null,
   "metadata": {},
   "outputs": [],
   "source": [
    "sed '473000,475000d' chr15.test.a > chr15.test.d01 # chr15.d01 (removed 473K-475K)\n",
    "# failed\n",
    "wc -l chr15.test.a\n",
    "wc -l chr15.test.d01\n",
    "\n",
    "sed '470000,476000d' chr15.test.a > chr15.test.d02 # chr15.d02 (removed 470K-476K)"
   ]
  },
  {
   "cell_type": "markdown",
   "metadata": {},
   "source": [
    "## Problem and Solution\n",
    "\n",
    "The problem was due to SNPs which have multiple rsID separated by \";\".\n",
    "For example, SNP on 15:78719501 have rs72736802;rs200422183 in rsID column.\n",
    "If you select one or replace with unique ID like 15:78719501:A:T, you can avoid this error."
   ]
  },
  {
   "cell_type": "code",
   "execution_count": null,
   "metadata": {},
   "outputs": [],
   "source": [
    "awk ' {gsub(\"\", \"\")}'\n",
    "awk '{ gsub(\"/\", \"_\") ; system( \"echo \"  $0) }'\n",
    "\n",
    "awk '{gsub(/;$/, \"\", $1); print $1}' > chr15.test.e463421 \n",
    "$ awk '{gsub ( /;.+$/, \"\", $3); print $0}' chr15.test.a > chr15.test.z001"
   ]
  },
  {
   "cell_type": "markdown",
   "metadata": {},
   "source": [
    "## Chr7"
   ]
  },
  {
   "cell_type": "code",
   "execution_count": null,
   "metadata": {},
   "outputs": [],
   "source": [
    "awk '{gsub ( /;.+$/, \"\", $3); print $0}'  chr7.test.a > chr7.test.z001"
   ]
  },
  {
   "cell_type": "markdown",
   "metadata": {},
   "source": [
    "## Genome-wide"
   ]
  },
  {
   "cell_type": "code",
   "execution_count": null,
   "metadata": {},
   "outputs": [],
   "source": [
    "awk '{gsub ( /;.+$/, \"\", $3); print $0}' <(zcat Heavy_vs_never_smokers.ALL_CHR.FUMA.gz) >\\\n",
    "    Heavy_vs_never_smokers.ALL_CHR.cleaned_rsIDs.FUMA\n",
    "    \n",
    "gzip Heavy_vs_never_smokers.ALL_CHR.cleaned_rsIDs.FUMA"
   ]
  },
  {
   "cell_type": "code",
   "execution_count": null,
   "metadata": {},
   "outputs": [],
   "source": []
  },
  {
   "cell_type": "code",
   "execution_count": null,
   "metadata": {},
   "outputs": [],
   "source": []
  },
  {
   "cell_type": "code",
   "execution_count": null,
   "metadata": {},
   "outputs": [],
   "source": []
  },
  {
   "cell_type": "code",
   "execution_count": null,
   "metadata": {},
   "outputs": [],
   "source": []
  }
 ],
 "metadata": {
  "kernelspec": {
   "display_name": "R",
   "language": "R",
   "name": "ir"
  },
  "language_info": {
   "codemirror_mode": "r",
   "file_extension": ".r",
   "mimetype": "text/x-r-source",
   "name": "R",
   "pygments_lexer": "r",
   "version": "3.5.1"
  },
  "toc": {
   "nav_menu": {},
   "number_sections": true,
   "sideBar": true,
   "skip_h1_title": false,
   "toc_cell": false,
   "toc_position": {},
   "toc_section_display": "block",
   "toc_window_display": false
  }
 },
 "nbformat": 4,
 "nbformat_minor": 2
}
