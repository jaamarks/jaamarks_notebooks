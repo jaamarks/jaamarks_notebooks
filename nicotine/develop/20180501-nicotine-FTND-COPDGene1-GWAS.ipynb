{
 "cells": [
  {
   "cell_type": "markdown",
   "metadata": {},
   "source": [
    "# COPDGene1 Fagerstrom Test For Nicotine Dependence (FTND) GWAS\n",
    "__Author:__ Jesse Marks\n",
    "\n",
    "See [GitHub Issue #78](See [GitHub Issue #78](https://github.com/RTIInternational/bioinformatics/issues/78))\n",
    "\n",
    "This document logs the steps taken to process:\n",
    "\n",
    "* `Genetic Epidemiology of COPD (COPDGene) Funded by the National Heart, Lung, and Blood Institute` data and perform the FTND GWAS. The [COPDGene](https://www.ncbi.nlm.nih.gov/projects/gap/cgi-bin/study.cgi?study_id=phs000179.v1.p1) cohort is racially diverse and sufficiently large and appropriately designed for genome-wide association analysis of COPD. \n",
    "\n",
    "* There are 10k subjects including control smokers, definitie COPD cases (GOLD Stage 2 to 4) and subjects not included in either group (GOLD 1 or GOLD-Unclassified). \n",
    "\n",
    "* The focus of this study is genome-wide association analysis to identify the genetic risk factors that determine susceptibility for COPD and COPD-related phenotypes.\n",
    "\n",
    "* Our phenotype of interest is FTND\n",
    "\n",
    "FTND is a standard instrument for assessing the physical addiction to nicotine. For more information, see [this website](https://cde.drugabuse.gov/instrument/d7c0b0f5-b865-e4de-e040-bb89ad43202b).\n",
    "\n",
    "The imputed genotype are stored on Amazon Web Services S3 at:\n",
    "\n",
    "`s3://rti-nd/COPDGene`\n",
    "\n",
    "* We use the variable `FTNDboth_cat` variable that lumps together the former smokers that have lifetime FTND (N=736) with the current smokers that have current FTND (N=78). This will optimize sample size, especially since the severe category is slim.\n",
    "\n",
    "* **Note**: I will first perform the GWAS with only the autosomes \n",
    "\n",
    "* John Guo would like me to try this with the nextFlow pipeline"
   ]
  },
  {
   "cell_type": "markdown",
   "metadata": {},
   "source": [
    "## Notes about study\n",
    "**Note**: these notes are not cohesive but serve as a personal reference for information I gathered on the study\n",
    "\n",
    "* we have 1000 Genomes phase 3 imputation already available on the full COPDGene dataset\n",
    "\n",
    "* we will run COPDGene1 and COPDGene2 separately because FTND was collected several years apart and there were some key differences in the way that the questions were asked in the different waves. We will keep the two waves separate to circumvent any potential discrepancies which could arrise because of the phenotypes being less than harmonious and then we will combine them in a meta-analysis later. \n",
    "\n",
    "\n",
    "* I will run the GWAS analysis with the following variables:\n",
    "\n",
    "**COPDGene2** (all data from phase 2 LFU dataset, except for gender and finalGOLD which was collected only in phase 1)\n",
    "The criteria for COPDGene2 are:\n",
    "\n",
    "```1) WstFTND_cat_p2 (mostly former smokers with some current smokers picked up)\n",
    "2) age_p1 (age at current visit)\n",
    "3) gender (1=male, 2=female)\n",
    "4) Goldneg1 (between case and control - exhibits signs of both. Failed one diagnostic test while passing another.)\n",
    "5) Gold1or2 (cases)\n",
    "6) Gold3or4 (severe cases)\n",
    "7) EVs to be selected```\n",
    "\n",
    "**Also, I need to split the data up by race** (1=white, 2=black) \n",
    "\n",
    "\n",
    "**Note** We cannot assume that the increments in the GOLD classification are equal which is why we need to embed dummy variables rather than a single categorical variable in our regression models.\n",
    "\n",
    "* GOLD stands for the Global Initiative for Chronic Obstructive Lung Disease. Essentially, GOLD it is a metric for quantifying the severity of COPD a patient has.\n",
    "\n",
    "* FTND outcome and covariates are now ready at the path:\n",
    "    \n",
    "    `\\\\rcdcollaboration01.rti.ns\\GxG\\Analysis\\COPDGene\\phenotypes\\Phase2\\COPD Both waves with Cat FTND_v2.xls`\n",
    "    \n",
    "\n",
    "* For COPDGene1, we are increasing the sample size by several hundred. This is because, the previous analysis of COPDGene1 included only the subjects with determinant COPD GOLD status (finalGold=0 for controls, 1/2 for cases, and 3/4 for severe cases.) Now we know that subjects with an indeterminant status (i.e. finalGold=-1) were subjects that were classified to be between case and control. With this newfound knowledge, we can go ahead and include these subjects and rerun COPDGene1 with these subjects plus the subjects that were in the previous analysis. The model will be:\n",
    "\n",
    "`CurFTND_cat_p1 = SNP + age_p1 + gender + Goldneg1 +Gold1or2 + Gold3or4 + EVs to be selected`\n",
    "    * Also note that in this phase1, the subjects were all current smokers. (max N=5289)\n",
    "\n",
    "* For phase2, COPDGene2, we need to exclude all of the subjects which were included in COPDGene1. This will leave *mostly* former smokers with lifetime FTND reported (max N=2934). There will be some current smokers picked up in phase2 and we will include them here.\n",
    "\n",
    "`WstFTND_cat_p2 = SNP + age_p1 + gender + Goldneg1 +Gold1or2 + Gold3or4 + EVs to be selected`\n",
    "\n",
    "\n",
    "* So, 2,934 is the maximum number of subjects that will be included in COPDGene2. We will have to filter this down based on if the subjects have `sex, age, GOLD status,` and `genotype data.` Also, there are reportedly 4 subjects for COPDGene2 (have entries for the WstFTND_cat_p2 variable) that are missing finalGold status. Of those 4, 3 marked 0 for `Goldneg1`, `Gold1or2`, or `Gold3or4` and the other 1 has NA for those three variables. We will treat these 4 subjects as missing and exclude them from the analysis."
   ]
  },
  {
   "cell_type": "markdown",
   "metadata": {},
   "source": [
    "### CstFTND_cat_p2 variable description\n",
    "| cat | Freq |\n",
    "|-----|------|\n",
    "| 0   | 1,506 |   \n",
    "| 1   | 2,353 |   \n",
    "| 2   | 1,430 |   \n",
    "\n",
    "* Where FTND conversion is 0=0-3, 1=4-6, and 2=7+"
   ]
  },
  {
   "cell_type": "markdown",
   "metadata": {},
   "source": [
    "# Prepare files for ProbABEL\n",
    "## Phenotype Data COPDGene1\n",
    "**Age p1 filtered table**\n",
    "___\n",
    "\n",
    "\n",
    "| Filtering Criterion                   | Subjects Removed  | Total |\n",
    "|---------------------------------------|-------------------|-------|\n",
    "| Initial Data                          | 0                 | 10,300|\n",
    "| Initial subjects (CurFTND)            | 5,011             | 5,289 |\n",
    "| Missing finalgold status              | 47                | 5,242 |\n",
    "| Missing sex                           | 0                 | 5,242 |\n",
    "| Missing age (p1)                      | 0                 | 5,242 |\n",
    "| Missing Genotype                      | 159               | 5,083 |\n",
    "\n",
    "* Number of EAs: 2,549 \n",
    "* Number of AAs: 2,534 \n",
    "\n",
    "\n",
    "___\n",
    "**Age p2 filtered table**\n",
    "\n",
    "\n",
    "| Filtering Criterion                   | Subjects Removed  | Total |\n",
    "|---------------------------------------|-------------------|-------|\n",
    "| Initial Data                          | 0                 | 10,300|\n",
    "| Initial subjects (CurFTND)            | 5,011             | 5,289 |\n",
    "| Missing finalgold status              | 47                | 5,242 |\n",
    "| Missing sex                           | 0                 | 5,242 |\n",
    "| Missing age (p2)                      | 2,353             | 2,889 |\n",
    "| Missing Genotype                      | 80                | 2,809 |\n",
    "\n",
    "* Number of EAs: 1,466\n",
    "* Number of AAs: 1,343\n",
    "\n",
    "### Apply Filters"
   ]
  },
  {
   "cell_type": "code",
   "execution_count": 11,
   "metadata": {},
   "outputs": [
    {
     "data": {
      "text/plain": [
       "\n",
       "   0    1    2 \n",
       "1506 2353 1430 "
      ]
     },
     "metadata": {},
     "output_type": "display_data"
    },
    {
     "name": "stdout",
     "output_type": "stream",
     "text": [
      "[1] \"Below is the table head of the entire phenotype file.\"\n"
     ]
    },
    {
     "data": {
      "text/html": [
       "<table>\n",
       "<thead><tr><th scope=col>sid</th><th scope=col>gender</th><th scope=col>race</th><th scope=col>ethnic</th><th scope=col>fagerstrom_index</th><th scope=col>finalgold</th><th scope=col>age_p1</th><th scope=col>age_p2</th><th scope=col>have_lfu</th><th scope=col>fagerstrom_index_lfu</th><th scope=col>CurFTND_cat_p1</th><th scope=col>WstFTND_cat_p2</th><th scope=col>Gold_Cat</th><th scope=col>Goldneg1</th><th scope=col>Gold1or2</th><th scope=col>Gold3or4</th></tr></thead>\n",
       "<tbody>\n",
       "\t<tr><td>15814W</td><td>2     </td><td>1     </td><td>2     </td><td>NA    </td><td>-2    </td><td>NA    </td><td>NA    </td><td>      </td><td>NA    </td><td>NA    </td><td>NA    </td><td>NA    </td><td>NA    </td><td>NA    </td><td>NA    </td></tr>\n",
       "\t<tr><td>16032X</td><td>1     </td><td>1     </td><td>2     </td><td>NA    </td><td>-2    </td><td>NA    </td><td>NA    </td><td>      </td><td>NA    </td><td>NA    </td><td>NA    </td><td>NA    </td><td>NA    </td><td>NA    </td><td>NA    </td></tr>\n",
       "\t<tr><td>16126G</td><td>2     </td><td>1     </td><td>2     </td><td>NA    </td><td>-2    </td><td>NA    </td><td>NA    </td><td>      </td><td>NA    </td><td>NA    </td><td>NA    </td><td>NA    </td><td>NA    </td><td>NA    </td><td>NA    </td></tr>\n",
       "\t<tr><td>16281S</td><td>2     </td><td>1     </td><td>2     </td><td>NA    </td><td>-2    </td><td>NA    </td><td>NA    </td><td>      </td><td>NA    </td><td>NA    </td><td>NA    </td><td>NA    </td><td>NA    </td><td>NA    </td><td>NA    </td></tr>\n",
       "\t<tr><td>16303C</td><td>1     </td><td>1     </td><td>2     </td><td>NA    </td><td>-2    </td><td>NA    </td><td>NA    </td><td>      </td><td>NA    </td><td>NA    </td><td>NA    </td><td>NA    </td><td>NA    </td><td>NA    </td><td>NA    </td></tr>\n",
       "\t<tr><td>16311B</td><td>2     </td><td>1     </td><td>2     </td><td>NA    </td><td>-2    </td><td>NA    </td><td>NA    </td><td>      </td><td>NA    </td><td>NA    </td><td>NA    </td><td>NA    </td><td>NA    </td><td>NA    </td><td>NA    </td></tr>\n",
       "</tbody>\n",
       "</table>\n"
      ],
      "text/latex": [
       "\\begin{tabular}{r|llllllllllllllll}\n",
       " sid & gender & race & ethnic & fagerstrom\\_index & finalgold & age\\_p1 & age\\_p2 & have\\_lfu & fagerstrom\\_index\\_lfu & CurFTND\\_cat\\_p1 & WstFTND\\_cat\\_p2 & Gold\\_Cat & Goldneg1 & Gold1or2 & Gold3or4\\\\\n",
       "\\hline\n",
       "\t 15814W & 2      & 1      & 2      & NA     & -2     & NA     & NA     &        & NA     & NA     & NA     & NA     & NA     & NA     & NA    \\\\\n",
       "\t 16032X & 1      & 1      & 2      & NA     & -2     & NA     & NA     &        & NA     & NA     & NA     & NA     & NA     & NA     & NA    \\\\\n",
       "\t 16126G & 2      & 1      & 2      & NA     & -2     & NA     & NA     &        & NA     & NA     & NA     & NA     & NA     & NA     & NA    \\\\\n",
       "\t 16281S & 2      & 1      & 2      & NA     & -2     & NA     & NA     &        & NA     & NA     & NA     & NA     & NA     & NA     & NA    \\\\\n",
       "\t 16303C & 1      & 1      & 2      & NA     & -2     & NA     & NA     &        & NA     & NA     & NA     & NA     & NA     & NA     & NA    \\\\\n",
       "\t 16311B & 2      & 1      & 2      & NA     & -2     & NA     & NA     &        & NA     & NA     & NA     & NA     & NA     & NA     & NA    \\\\\n",
       "\\end{tabular}\n"
      ],
      "text/markdown": [
       "\n",
       "sid | gender | race | ethnic | fagerstrom_index | finalgold | age_p1 | age_p2 | have_lfu | fagerstrom_index_lfu | CurFTND_cat_p1 | WstFTND_cat_p2 | Gold_Cat | Goldneg1 | Gold1or2 | Gold3or4 | \n",
       "|---|---|---|---|---|---|\n",
       "| 15814W | 2      | 1      | 2      | NA     | -2     | NA     | NA     |        | NA     | NA     | NA     | NA     | NA     | NA     | NA     | \n",
       "| 16032X | 1      | 1      | 2      | NA     | -2     | NA     | NA     |        | NA     | NA     | NA     | NA     | NA     | NA     | NA     | \n",
       "| 16126G | 2      | 1      | 2      | NA     | -2     | NA     | NA     |        | NA     | NA     | NA     | NA     | NA     | NA     | NA     | \n",
       "| 16281S | 2      | 1      | 2      | NA     | -2     | NA     | NA     |        | NA     | NA     | NA     | NA     | NA     | NA     | NA     | \n",
       "| 16303C | 1      | 1      | 2      | NA     | -2     | NA     | NA     |        | NA     | NA     | NA     | NA     | NA     | NA     | NA     | \n",
       "| 16311B | 2      | 1      | 2      | NA     | -2     | NA     | NA     |        | NA     | NA     | NA     | NA     | NA     | NA     | NA     | \n",
       "\n",
       "\n"
      ],
      "text/plain": [
       "  sid    gender race ethnic fagerstrom_index finalgold age_p1 age_p2 have_lfu\n",
       "1 15814W 2      1    2      NA               -2        NA     NA             \n",
       "2 16032X 1      1    2      NA               -2        NA     NA             \n",
       "3 16126G 2      1    2      NA               -2        NA     NA             \n",
       "4 16281S 2      1    2      NA               -2        NA     NA             \n",
       "5 16303C 1      1    2      NA               -2        NA     NA             \n",
       "6 16311B 2      1    2      NA               -2        NA     NA             \n",
       "  fagerstrom_index_lfu CurFTND_cat_p1 WstFTND_cat_p2 Gold_Cat Goldneg1 Gold1or2\n",
       "1 NA                   NA             NA             NA       NA       NA      \n",
       "2 NA                   NA             NA             NA       NA       NA      \n",
       "3 NA                   NA             NA             NA       NA       NA      \n",
       "4 NA                   NA             NA             NA       NA       NA      \n",
       "5 NA                   NA             NA             NA       NA       NA      \n",
       "6 NA                   NA             NA             NA       NA       NA      \n",
       "  Gold3or4\n",
       "1 NA      \n",
       "2 NA      \n",
       "3 NA      \n",
       "4 NA      \n",
       "5 NA      \n",
       "6 NA      "
      ]
     },
     "metadata": {},
     "output_type": "display_data"
    }
   ],
   "source": [
    "pheno.data <- read.table(\"C:/Users/jmarks/Desktop/Projects/Nicotine/COPDGene/pheno/Copy of COPD Both waves with Cat FTND_v2.csv\",\n",
    "                        sep=\",\", header=T)\n",
    "\n",
    "table(pheno.data$CurFTND_cat_p1)\n",
    "print(\"Below is the table head of the entire phenotype file.\")\n",
    "head(pheno.data)"
   ]
  },
  {
   "cell_type": "markdown",
   "metadata": {},
   "source": [
    "#### Initial numbers"
   ]
  },
  {
   "cell_type": "code",
   "execution_count": 8,
   "metadata": {},
   "outputs": [
    {
     "name": "stdout",
     "output_type": "stream",
     "text": [
      "[1] \"Max number of subjects for COPDGene1 (both ancestries)\"\n"
     ]
    },
    {
     "data": {
      "text/html": [
       "5289"
      ],
      "text/latex": [
       "5289"
      ],
      "text/markdown": [
       "5289"
      ],
      "text/plain": [
       "[1] 5289"
      ]
     },
     "metadata": {},
     "output_type": "display_data"
    },
    {
     "name": "stdout",
     "output_type": "stream",
     "text": [
      "[1] \"Below is the table head of the COPDGene1 data before any filters (save FTND) have been applied.\"\n"
     ]
    },
    {
     "data": {
      "text/html": [
       "<table>\n",
       "<thead><tr><th></th><th scope=col>sid</th><th scope=col>gender</th><th scope=col>race</th><th scope=col>ethnic</th><th scope=col>fagerstrom_index</th><th scope=col>finalgold</th><th scope=col>age_p1</th><th scope=col>age_p2</th><th scope=col>have_lfu</th><th scope=col>fagerstrom_index_lfu</th><th scope=col>CurFTND_cat_p1</th><th scope=col>WstFTND_cat_p2</th><th scope=col>Gold_Cat</th><th scope=col>Goldneg1</th><th scope=col>Gold1or2</th><th scope=col>Gold3or4</th></tr></thead>\n",
       "<tbody>\n",
       "\t<tr><th scope=row>101</th><td>10008W</td><td>1     </td><td>1     </td><td>2     </td><td>1     </td><td>-1    </td><td>55.1  </td><td>  NA  </td><td>      </td><td>NA    </td><td>0     </td><td>NA    </td><td>1     </td><td>1     </td><td>0     </td><td>0     </td></tr>\n",
       "\t<tr><th scope=row>104</th><td>10248Q</td><td>1     </td><td>1     </td><td>2     </td><td>9     </td><td>-1    </td><td>66.9  </td><td>  NA  </td><td>      </td><td>NA    </td><td>2     </td><td>NA    </td><td>1     </td><td>1     </td><td>0     </td><td>0     </td></tr>\n",
       "\t<tr><th scope=row>109</th><td>10521I</td><td>2     </td><td>1     </td><td>2     </td><td>5     </td><td>-1    </td><td>53.3  </td><td>  NA  </td><td>      </td><td>NA    </td><td>1     </td><td>NA    </td><td>1     </td><td>1     </td><td>0     </td><td>0     </td></tr>\n",
       "\t<tr><th scope=row>113</th><td>10604M</td><td>2     </td><td>1     </td><td>2     </td><td>5     </td><td>-1    </td><td>64.9  </td><td>70.5  </td><td>LFU   </td><td> 4    </td><td>1     </td><td> 1    </td><td>1     </td><td>1     </td><td>0     </td><td>0     </td></tr>\n",
       "\t<tr><th scope=row>116</th><td>10705S</td><td>2     </td><td>1     </td><td>2     </td><td>3     </td><td>-1    </td><td>70.6  </td><td>76.4  </td><td>LFU   </td><td> 4    </td><td>0     </td><td> 1    </td><td>1     </td><td>1     </td><td>0     </td><td>0     </td></tr>\n",
       "\t<tr><th scope=row>119</th><td>10918J</td><td>2     </td><td>1     </td><td>2     </td><td>4     </td><td>-1    </td><td>54.0  </td><td>  NA  </td><td>      </td><td>NA    </td><td>1     </td><td>NA    </td><td>1     </td><td>1     </td><td>0     </td><td>0     </td></tr>\n",
       "</tbody>\n",
       "</table>\n"
      ],
      "text/latex": [
       "\\begin{tabular}{r|llllllllllllllll}\n",
       "  & sid & gender & race & ethnic & fagerstrom\\_index & finalgold & age\\_p1 & age\\_p2 & have\\_lfu & fagerstrom\\_index\\_lfu & CurFTND\\_cat\\_p1 & WstFTND\\_cat\\_p2 & Gold\\_Cat & Goldneg1 & Gold1or2 & Gold3or4\\\\\n",
       "\\hline\n",
       "\t101 & 10008W & 1      & 1      & 2      & 1      & -1     & 55.1   &   NA   &        & NA     & 0      & NA     & 1      & 1      & 0      & 0     \\\\\n",
       "\t104 & 10248Q & 1      & 1      & 2      & 9      & -1     & 66.9   &   NA   &        & NA     & 2      & NA     & 1      & 1      & 0      & 0     \\\\\n",
       "\t109 & 10521I & 2      & 1      & 2      & 5      & -1     & 53.3   &   NA   &        & NA     & 1      & NA     & 1      & 1      & 0      & 0     \\\\\n",
       "\t113 & 10604M & 2      & 1      & 2      & 5      & -1     & 64.9   & 70.5   & LFU    &  4     & 1      &  1     & 1      & 1      & 0      & 0     \\\\\n",
       "\t116 & 10705S & 2      & 1      & 2      & 3      & -1     & 70.6   & 76.4   & LFU    &  4     & 0      &  1     & 1      & 1      & 0      & 0     \\\\\n",
       "\t119 & 10918J & 2      & 1      & 2      & 4      & -1     & 54.0   &   NA   &        & NA     & 1      & NA     & 1      & 1      & 0      & 0     \\\\\n",
       "\\end{tabular}\n"
      ],
      "text/markdown": [
       "\n",
       "| <!--/--> | sid | gender | race | ethnic | fagerstrom_index | finalgold | age_p1 | age_p2 | have_lfu | fagerstrom_index_lfu | CurFTND_cat_p1 | WstFTND_cat_p2 | Gold_Cat | Goldneg1 | Gold1or2 | Gold3or4 | \n",
       "|---|---|---|---|---|---|\n",
       "| 101 | 10008W | 1      | 1      | 2      | 1      | -1     | 55.1   |   NA   |        | NA     | 0      | NA     | 1      | 1      | 0      | 0      | \n",
       "| 104 | 10248Q | 1      | 1      | 2      | 9      | -1     | 66.9   |   NA   |        | NA     | 2      | NA     | 1      | 1      | 0      | 0      | \n",
       "| 109 | 10521I | 2      | 1      | 2      | 5      | -1     | 53.3   |   NA   |        | NA     | 1      | NA     | 1      | 1      | 0      | 0      | \n",
       "| 113 | 10604M | 2      | 1      | 2      | 5      | -1     | 64.9   | 70.5   | LFU    |  4     | 1      |  1     | 1      | 1      | 0      | 0      | \n",
       "| 116 | 10705S | 2      | 1      | 2      | 3      | -1     | 70.6   | 76.4   | LFU    |  4     | 0      |  1     | 1      | 1      | 0      | 0      | \n",
       "| 119 | 10918J | 2      | 1      | 2      | 4      | -1     | 54.0   |   NA   |        | NA     | 1      | NA     | 1      | 1      | 0      | 0      | \n",
       "\n",
       "\n"
      ],
      "text/plain": [
       "    sid    gender race ethnic fagerstrom_index finalgold age_p1 age_p2 have_lfu\n",
       "101 10008W 1      1    2      1                -1        55.1     NA           \n",
       "104 10248Q 1      1    2      9                -1        66.9     NA           \n",
       "109 10521I 2      1    2      5                -1        53.3     NA           \n",
       "113 10604M 2      1    2      5                -1        64.9   70.5   LFU     \n",
       "116 10705S 2      1    2      3                -1        70.6   76.4   LFU     \n",
       "119 10918J 2      1    2      4                -1        54.0     NA           \n",
       "    fagerstrom_index_lfu CurFTND_cat_p1 WstFTND_cat_p2 Gold_Cat Goldneg1\n",
       "101 NA                   0              NA             1        1       \n",
       "104 NA                   2              NA             1        1       \n",
       "109 NA                   1              NA             1        1       \n",
       "113  4                   1               1             1        1       \n",
       "116  4                   0               1             1        1       \n",
       "119 NA                   1              NA             1        1       \n",
       "    Gold1or2 Gold3or4\n",
       "101 0        0       \n",
       "104 0        0       \n",
       "109 0        0       \n",
       "113 0        0       \n",
       "116 0        0       \n",
       "119 0        0       "
      ]
     },
     "metadata": {},
     "output_type": "display_data"
    }
   ],
   "source": [
    "# COPDGene1\n",
    "# Calculate number of subjects with CurFTND data\n",
    "cur.ftnd.vec <-  which(pheno.data$CurFTND_cat_p1 >= 0)\n",
    "\n",
    "cur.ftnd.filtered <- pheno.data[cur.ftnd.vec,]\n",
    "print(\"Max number of subjects for COPDGene1 (both ancestries)\")\n",
    "length(cur.ftnd.filtered[,1])\n",
    "\n",
    "print(\"Below is the table head of the COPDGene1 data before any filters (save FTND) have been applied.\")\n",
    "head(cur.ftnd.filtered)"
   ]
  },
  {
   "cell_type": "markdown",
   "metadata": {},
   "source": [
    "#### Missing finalgold filter\n",
    "Remove subjects missing `finalgold` variable"
   ]
  },
  {
   "cell_type": "code",
   "execution_count": 12,
   "metadata": {},
   "outputs": [
    {
     "name": "stdout",
     "output_type": "stream",
     "text": [
      "[1] \"These are the sequential indices in the cur.ftnd.filtered at which they occur.\"\n"
     ]
    },
    {
     "data": {
      "text/html": [
       "<ol class=list-inline>\n",
       "\t<li>2620</li>\n",
       "\t<li>2621</li>\n",
       "\t<li>2622</li>\n",
       "\t<li>2623</li>\n",
       "\t<li>2624</li>\n",
       "\t<li>2625</li>\n",
       "\t<li>2626</li>\n",
       "\t<li>2627</li>\n",
       "\t<li>2628</li>\n",
       "\t<li>2629</li>\n",
       "\t<li>2630</li>\n",
       "\t<li>2631</li>\n",
       "\t<li>2632</li>\n",
       "\t<li>5256</li>\n",
       "\t<li>5257</li>\n",
       "\t<li>5258</li>\n",
       "\t<li>5259</li>\n",
       "\t<li>5260</li>\n",
       "\t<li>5261</li>\n",
       "\t<li>5262</li>\n",
       "\t<li>5263</li>\n",
       "\t<li>5264</li>\n",
       "\t<li>5265</li>\n",
       "\t<li>5266</li>\n",
       "\t<li>5267</li>\n",
       "\t<li>5268</li>\n",
       "\t<li>5269</li>\n",
       "\t<li>5270</li>\n",
       "\t<li>5271</li>\n",
       "\t<li>5272</li>\n",
       "\t<li>5273</li>\n",
       "\t<li>5274</li>\n",
       "\t<li>5275</li>\n",
       "\t<li>5276</li>\n",
       "\t<li>5277</li>\n",
       "\t<li>5278</li>\n",
       "\t<li>5279</li>\n",
       "\t<li>5280</li>\n",
       "\t<li>5281</li>\n",
       "\t<li>5282</li>\n",
       "\t<li>5283</li>\n",
       "\t<li>5284</li>\n",
       "\t<li>5285</li>\n",
       "\t<li>5286</li>\n",
       "\t<li>5287</li>\n",
       "\t<li>5288</li>\n",
       "\t<li>5289</li>\n",
       "</ol>\n"
      ],
      "text/latex": [
       "\\begin{enumerate*}\n",
       "\\item 2620\n",
       "\\item 2621\n",
       "\\item 2622\n",
       "\\item 2623\n",
       "\\item 2624\n",
       "\\item 2625\n",
       "\\item 2626\n",
       "\\item 2627\n",
       "\\item 2628\n",
       "\\item 2629\n",
       "\\item 2630\n",
       "\\item 2631\n",
       "\\item 2632\n",
       "\\item 5256\n",
       "\\item 5257\n",
       "\\item 5258\n",
       "\\item 5259\n",
       "\\item 5260\n",
       "\\item 5261\n",
       "\\item 5262\n",
       "\\item 5263\n",
       "\\item 5264\n",
       "\\item 5265\n",
       "\\item 5266\n",
       "\\item 5267\n",
       "\\item 5268\n",
       "\\item 5269\n",
       "\\item 5270\n",
       "\\item 5271\n",
       "\\item 5272\n",
       "\\item 5273\n",
       "\\item 5274\n",
       "\\item 5275\n",
       "\\item 5276\n",
       "\\item 5277\n",
       "\\item 5278\n",
       "\\item 5279\n",
       "\\item 5280\n",
       "\\item 5281\n",
       "\\item 5282\n",
       "\\item 5283\n",
       "\\item 5284\n",
       "\\item 5285\n",
       "\\item 5286\n",
       "\\item 5287\n",
       "\\item 5288\n",
       "\\item 5289\n",
       "\\end{enumerate*}\n"
      ],
      "text/markdown": [
       "1. 2620\n",
       "2. 2621\n",
       "3. 2622\n",
       "4. 2623\n",
       "5. 2624\n",
       "6. 2625\n",
       "7. 2626\n",
       "8. 2627\n",
       "9. 2628\n",
       "10. 2629\n",
       "11. 2630\n",
       "12. 2631\n",
       "13. 2632\n",
       "14. 5256\n",
       "15. 5257\n",
       "16. 5258\n",
       "17. 5259\n",
       "18. 5260\n",
       "19. 5261\n",
       "20. 5262\n",
       "21. 5263\n",
       "22. 5264\n",
       "23. 5265\n",
       "24. 5266\n",
       "25. 5267\n",
       "26. 5268\n",
       "27. 5269\n",
       "28. 5270\n",
       "29. 5271\n",
       "30. 5272\n",
       "31. 5273\n",
       "32. 5274\n",
       "33. 5275\n",
       "34. 5276\n",
       "35. 5277\n",
       "36. 5278\n",
       "37. 5279\n",
       "38. 5280\n",
       "39. 5281\n",
       "40. 5282\n",
       "41. 5283\n",
       "42. 5284\n",
       "43. 5285\n",
       "44. 5286\n",
       "45. 5287\n",
       "46. 5288\n",
       "47. 5289\n",
       "\n",
       "\n"
      ],
      "text/plain": [
       " [1] 2620 2621 2622 2623 2624 2625 2626 2627 2628 2629 2630 2631 2632 5256 5257\n",
       "[16] 5258 5259 5260 5261 5262 5263 5264 5265 5266 5267 5268 5269 5270 5271 5272\n",
       "[31] 5273 5274 5275 5276 5277 5278 5279 5280 5281 5282 5283 5284 5285 5286 5287\n",
       "[46] 5288 5289"
      ]
     },
     "metadata": {},
     "output_type": "display_data"
    },
    {
     "name": "stdout",
     "output_type": "stream",
     "text": [
      "[1] \"Number of subjects missing finalgold.\"\n"
     ]
    },
    {
     "data": {
      "text/html": [
       "47"
      ],
      "text/latex": [
       "47"
      ],
      "text/markdown": [
       "47"
      ],
      "text/plain": [
       "[1] 47"
      ]
     },
     "metadata": {},
     "output_type": "display_data"
    },
    {
     "name": "stdout",
     "output_type": "stream",
     "text": [
      "[1] \"Here are the data of those subjects with missing finalgold.\"\n"
     ]
    },
    {
     "data": {
      "text/html": [
       "<table>\n",
       "<thead><tr><th></th><th scope=col>sid</th><th scope=col>gender</th><th scope=col>race</th><th scope=col>ethnic</th><th scope=col>fagerstrom_index</th><th scope=col>finalgold</th><th scope=col>age_p1</th><th scope=col>age_p2</th><th scope=col>have_lfu</th><th scope=col>fagerstrom_index_lfu</th><th scope=col>CurFTND_cat_p1</th><th scope=col>WstFTND_cat_p2</th><th scope=col>Gold_Cat</th><th scope=col>Goldneg1</th><th scope=col>Gold1or2</th><th scope=col>Gold3or4</th></tr></thead>\n",
       "<tbody>\n",
       "\t<tr><th scope=row>6866</th><td>10279B</td><td>1     </td><td>1     </td><td>2     </td><td>2     </td><td>NA    </td><td>68.2  </td><td>  NA  </td><td>      </td><td>NA    </td><td>0     </td><td>NA    </td><td>NA    </td><td> 0    </td><td> 0    </td><td> 0    </td></tr>\n",
       "\t<tr><th scope=row>6867</th><td>10818F</td><td>1     </td><td>1     </td><td>2     </td><td>3     </td><td>NA    </td><td>63.2  </td><td>  NA  </td><td>      </td><td>NA    </td><td>0     </td><td>NA    </td><td>NA    </td><td> 0    </td><td> 0    </td><td> 0    </td></tr>\n",
       "\t<tr><th scope=row>6869</th><td>11125F</td><td>1     </td><td>1     </td><td>2     </td><td>4     </td><td>NA    </td><td>55.9  </td><td>61.0  </td><td>LFU   </td><td> 5    </td><td>1     </td><td> 1    </td><td>NA    </td><td> 0    </td><td> 0    </td><td> 0    </td></tr>\n",
       "\t<tr><th scope=row>6870</th><td>11182R</td><td>1     </td><td>1     </td><td>2     </td><td>7     </td><td>NA    </td><td>64.5  </td><td>72.7  </td><td>LFU   </td><td> 6    </td><td>2     </td><td> 1    </td><td>NA    </td><td> 0    </td><td> 0    </td><td> 0    </td></tr>\n",
       "\t<tr><th scope=row>6871</th><td>11832E</td><td>2     </td><td>1     </td><td>2     </td><td>7     </td><td>NA    </td><td>60.4  </td><td>  NA  </td><td>      </td><td>NA    </td><td>2     </td><td>NA    </td><td>NA    </td><td> 0    </td><td> 0    </td><td> 0    </td></tr>\n",
       "\t<tr><th scope=row>6876</th><td>15765J</td><td>1     </td><td>1     </td><td>2     </td><td>5     </td><td>NA    </td><td>53.7  </td><td>59.9  </td><td>LFU   </td><td> 1    </td><td>1     </td><td> 0    </td><td>NA    </td><td> 0    </td><td> 0    </td><td> 0    </td></tr>\n",
       "\t<tr><th scope=row>6877</th><td>17778C</td><td>2     </td><td>1     </td><td>2     </td><td>5     </td><td>NA    </td><td>62.8  </td><td>68.0  </td><td>LFU   </td><td> 2    </td><td>1     </td><td> 0    </td><td>NA    </td><td> 0    </td><td> 0    </td><td> 0    </td></tr>\n",
       "\t<tr><th scope=row>6878</th><td>18595Z</td><td>2     </td><td>1     </td><td>2     </td><td>4     </td><td>NA    </td><td>47.5  </td><td>  NA  </td><td>      </td><td>NA    </td><td>1     </td><td>NA    </td><td>NA    </td><td> 0    </td><td> 0    </td><td> 0    </td></tr>\n",
       "\t<tr><th scope=row>6879</th><td>18916T</td><td>2     </td><td>1     </td><td>2     </td><td>8     </td><td>NA    </td><td>64.3  </td><td>  NA  </td><td>      </td><td>NA    </td><td>2     </td><td>NA    </td><td>NA    </td><td> 0    </td><td> 0    </td><td> 0    </td></tr>\n",
       "\t<tr><th scope=row>6880</th><td>19004H</td><td>1     </td><td>1     </td><td>2     </td><td>6     </td><td>NA    </td><td>66.0  </td><td>71.0  </td><td>LFU   </td><td> 4    </td><td>1     </td><td> 1    </td><td>NA    </td><td> 0    </td><td> 0    </td><td> 0    </td></tr>\n",
       "\t<tr><th scope=row>6881</th><td>21613Y</td><td>1     </td><td>1     </td><td>2     </td><td>3     </td><td>NA    </td><td>47.1  </td><td>52.7  </td><td>LFU   </td><td> 8    </td><td>0     </td><td> 2    </td><td>NA    </td><td> 0    </td><td> 0    </td><td> 0    </td></tr>\n",
       "\t<tr><th scope=row>6882</th><td>22271B</td><td>1     </td><td>1     </td><td>2     </td><td>6     </td><td>NA    </td><td>53.8  </td><td>  NA  </td><td>      </td><td>NA    </td><td>1     </td><td>NA    </td><td>NA    </td><td> 0    </td><td> 0    </td><td> 0    </td></tr>\n",
       "\t<tr><th scope=row>6883</th><td>24152D</td><td>1     </td><td>1     </td><td>2     </td><td>5     </td><td>NA    </td><td>56.0  </td><td>  NA  </td><td>      </td><td>NA    </td><td>1     </td><td>NA    </td><td>NA    </td><td> 0    </td><td> 0    </td><td> 0    </td></tr>\n",
       "\t<tr><th scope=row>10258</th><td>10321A</td><td>1     </td><td>2     </td><td>2     </td><td>7     </td><td>NA    </td><td>57.5  </td><td>63.4  </td><td>      </td><td>NA    </td><td>2     </td><td>NA    </td><td>NA    </td><td>NA    </td><td>NA    </td><td>NA    </td></tr>\n",
       "\t<tr><th scope=row>10259</th><td>11122Z</td><td>1     </td><td>2     </td><td>2     </td><td>6     </td><td>NA    </td><td>49.1  </td><td>  NA  </td><td>      </td><td>NA    </td><td>1     </td><td>NA    </td><td>NA    </td><td>NA    </td><td>NA    </td><td>NA    </td></tr>\n",
       "\t<tr><th scope=row>10260</th><td>11180N</td><td>1     </td><td>2     </td><td>2     </td><td>6     </td><td>NA    </td><td>48.6  </td><td>54.0  </td><td>      </td><td>NA    </td><td>1     </td><td>NA    </td><td>NA    </td><td>NA    </td><td>NA    </td><td>NA    </td></tr>\n",
       "\t<tr><th scope=row>10261</th><td>11272S</td><td>1     </td><td>2     </td><td>2     </td><td>6     </td><td>NA    </td><td>55.0  </td><td>  NA  </td><td>      </td><td>NA    </td><td>1     </td><td>NA    </td><td>NA    </td><td>NA    </td><td>NA    </td><td>NA    </td></tr>\n",
       "\t<tr><th scope=row>10262</th><td>11576M</td><td>2     </td><td>2     </td><td>2     </td><td>3     </td><td>NA    </td><td>47.4  </td><td>52.7  </td><td>      </td><td>NA    </td><td>0     </td><td>NA    </td><td>NA    </td><td>NA    </td><td>NA    </td><td>NA    </td></tr>\n",
       "\t<tr><th scope=row>10263</th><td>12228U</td><td>2     </td><td>2     </td><td>2     </td><td>7     </td><td>NA    </td><td>54.5  </td><td>  NA  </td><td>      </td><td>NA    </td><td>2     </td><td>NA    </td><td>NA    </td><td>NA    </td><td>NA    </td><td>NA    </td></tr>\n",
       "\t<tr><th scope=row>10264</th><td>12670J</td><td>2     </td><td>2     </td><td>2     </td><td>5     </td><td>NA    </td><td>52.0  </td><td>  NA  </td><td>      </td><td>NA    </td><td>1     </td><td>NA    </td><td>NA    </td><td>NA    </td><td>NA    </td><td>NA    </td></tr>\n",
       "\t<tr><th scope=row>10265</th><td>12838V</td><td>1     </td><td>2     </td><td>2     </td><td>5     </td><td>NA    </td><td>52.9  </td><td>  NA  </td><td>      </td><td>NA    </td><td>1     </td><td>NA    </td><td>NA    </td><td>NA    </td><td>NA    </td><td>NA    </td></tr>\n",
       "\t<tr><th scope=row>10266</th><td>13274G</td><td>2     </td><td>2     </td><td>2     </td><td>8     </td><td>NA    </td><td>61.1  </td><td>67.2  </td><td>LFU   </td><td> 6    </td><td>2     </td><td> 1    </td><td>NA    </td><td>NA    </td><td>NA    </td><td>NA    </td></tr>\n",
       "\t<tr><th scope=row>10267</th><td>14465S</td><td>1     </td><td>2     </td><td>2     </td><td>4     </td><td>NA    </td><td>57.3  </td><td>65.0  </td><td>LFU   </td><td> 3    </td><td>1     </td><td> 0    </td><td>NA    </td><td>NA    </td><td>NA    </td><td>NA    </td></tr>\n",
       "\t<tr><th scope=row>10268</th><td>14509M</td><td>2     </td><td>2     </td><td>2     </td><td>6     </td><td>NA    </td><td>50.2  </td><td>55.3  </td><td>LFU   </td><td> 2    </td><td>1     </td><td> 0    </td><td>NA    </td><td>NA    </td><td>NA    </td><td>NA    </td></tr>\n",
       "\t<tr><th scope=row>10270</th><td>14782E</td><td>1     </td><td>2     </td><td>2     </td><td>3     </td><td>NA    </td><td>53.8  </td><td>  NA  </td><td>      </td><td>NA    </td><td>0     </td><td>NA    </td><td>NA    </td><td>NA    </td><td>NA    </td><td>NA    </td></tr>\n",
       "\t<tr><th scope=row>10271</th><td>14959R</td><td>1     </td><td>2     </td><td>2     </td><td>5     </td><td>NA    </td><td>56.3  </td><td>  NA  </td><td>      </td><td>NA    </td><td>1     </td><td>NA    </td><td>NA    </td><td>NA    </td><td>NA    </td><td>NA    </td></tr>\n",
       "\t<tr><th scope=row>10274</th><td>15416K</td><td>1     </td><td>2     </td><td>2     </td><td>5     </td><td>NA    </td><td>47.6  </td><td>53.5  </td><td>      </td><td>NA    </td><td>1     </td><td>NA    </td><td>NA    </td><td>NA    </td><td>NA    </td><td>NA    </td></tr>\n",
       "\t<tr><th scope=row>10275</th><td>15498M</td><td>1     </td><td>2     </td><td>2     </td><td>8     </td><td>NA    </td><td>54.1  </td><td>  NA  </td><td>      </td><td>NA    </td><td>2     </td><td>NA    </td><td>NA    </td><td>NA    </td><td>NA    </td><td>NA    </td></tr>\n",
       "\t<tr><th scope=row>10276</th><td>15791K</td><td>1     </td><td>2     </td><td>2     </td><td>5     </td><td>NA    </td><td>53.4  </td><td>  NA  </td><td>      </td><td>NA    </td><td>1     </td><td>NA    </td><td>NA    </td><td>NA    </td><td>NA    </td><td>NA    </td></tr>\n",
       "\t<tr><th scope=row>10277</th><td>15828H</td><td>1     </td><td>2     </td><td>2     </td><td>7     </td><td>NA    </td><td>54.1  </td><td>  NA  </td><td>      </td><td>NA    </td><td>2     </td><td>NA    </td><td>NA    </td><td>NA    </td><td>NA    </td><td>NA    </td></tr>\n",
       "\t<tr><th scope=row>10278</th><td>16376D</td><td>1     </td><td>2     </td><td>2     </td><td>7     </td><td>NA    </td><td>48.5  </td><td>  NA  </td><td>      </td><td>NA    </td><td>2     </td><td>NA    </td><td>NA    </td><td>NA    </td><td>NA    </td><td>NA    </td></tr>\n",
       "\t<tr><th scope=row>10279</th><td>16690J</td><td>1     </td><td>2     </td><td>2     </td><td>9     </td><td>NA    </td><td>59.0  </td><td>  NA  </td><td>      </td><td>NA    </td><td>2     </td><td>NA    </td><td>NA    </td><td>NA    </td><td>NA    </td><td>NA    </td></tr>\n",
       "\t<tr><th scope=row>10280</th><td>16970P</td><td>1     </td><td>2     </td><td>2     </td><td>0     </td><td>NA    </td><td>46.5  </td><td>54.2  </td><td>      </td><td>NA    </td><td>0     </td><td>NA    </td><td>NA    </td><td>NA    </td><td>NA    </td><td>NA    </td></tr>\n",
       "\t<tr><th scope=row>10281</th><td>17394K</td><td>1     </td><td>2     </td><td>2     </td><td>7     </td><td>NA    </td><td>59.7  </td><td>  NA  </td><td>      </td><td>NA    </td><td>2     </td><td>NA    </td><td>NA    </td><td>NA    </td><td>NA    </td><td>NA    </td></tr>\n",
       "\t<tr><th scope=row>10282</th><td>17447F</td><td>1     </td><td>2     </td><td>2     </td><td>4     </td><td>NA    </td><td>46.9  </td><td>52.9  </td><td>      </td><td>NA    </td><td>1     </td><td>NA    </td><td>NA    </td><td>NA    </td><td>NA    </td><td>NA    </td></tr>\n",
       "\t<tr><th scope=row>10284</th><td>17650C</td><td>2     </td><td>2     </td><td>2     </td><td>9     </td><td>NA    </td><td>48.9  </td><td>53.5  </td><td>      </td><td>NA    </td><td>2     </td><td>NA    </td><td>NA    </td><td>NA    </td><td>NA    </td><td>NA    </td></tr>\n",
       "\t<tr><th scope=row>10285</th><td>18113H</td><td>1     </td><td>2     </td><td>2     </td><td>2     </td><td>NA    </td><td>53.8  </td><td>  NA  </td><td>      </td><td>NA    </td><td>0     </td><td>NA    </td><td>NA    </td><td>NA    </td><td>NA    </td><td>NA    </td></tr>\n",
       "\t<tr><th scope=row>10287</th><td>18546M</td><td>2     </td><td>2     </td><td>2     </td><td>8     </td><td>NA    </td><td>62.5  </td><td>  NA  </td><td>      </td><td>NA    </td><td>2     </td><td>NA    </td><td>NA    </td><td>NA    </td><td>NA    </td><td>NA    </td></tr>\n",
       "\t<tr><th scope=row>10288</th><td>18930N</td><td>1     </td><td>2     </td><td>2     </td><td>7     </td><td>NA    </td><td>61.3  </td><td>66.4  </td><td>LFU   </td><td> 3    </td><td>2     </td><td> 0    </td><td>NA    </td><td>NA    </td><td>NA    </td><td>NA    </td></tr>\n",
       "\t<tr><th scope=row>10290</th><td>19964J</td><td>2     </td><td>2     </td><td>2     </td><td>3     </td><td>NA    </td><td>52.4  </td><td>  NA  </td><td>LFU   </td><td> 6    </td><td>0     </td><td> 1    </td><td>NA    </td><td>NA    </td><td>NA    </td><td>NA    </td></tr>\n",
       "\t<tr><th scope=row>10291</th><td>20010P</td><td>2     </td><td>2     </td><td>2     </td><td>2     </td><td>NA    </td><td>59.9  </td><td>66.1  </td><td>LFU   </td><td> 3    </td><td>0     </td><td> 0    </td><td>NA    </td><td>NA    </td><td>NA    </td><td>NA    </td></tr>\n",
       "\t<tr><th scope=row>10292</th><td>20433R</td><td>2     </td><td>2     </td><td>2     </td><td>6     </td><td>NA    </td><td>47.8  </td><td>52.6  </td><td>LFU   </td><td> 6    </td><td>1     </td><td> 1    </td><td>NA    </td><td>NA    </td><td>NA    </td><td>NA    </td></tr>\n",
       "\t<tr><th scope=row>10293</th><td>20572F</td><td>2     </td><td>2     </td><td>2     </td><td>7     </td><td>NA    </td><td>50.5  </td><td>  NA  </td><td>      </td><td>NA    </td><td>2     </td><td>NA    </td><td>NA    </td><td>NA    </td><td>NA    </td><td>NA    </td></tr>\n",
       "\t<tr><th scope=row>10295</th><td>24586K</td><td>1     </td><td>2     </td><td>2     </td><td>5     </td><td>NA    </td><td>53.5  </td><td>60.2  </td><td>      </td><td>NA    </td><td>1     </td><td>NA    </td><td>NA    </td><td>NA    </td><td>NA    </td><td>NA    </td></tr>\n",
       "\t<tr><th scope=row>10296</th><td>25522P</td><td>1     </td><td>2     </td><td>2     </td><td>9     </td><td>NA    </td><td>45.2  </td><td>  NA  </td><td>      </td><td>NA    </td><td>2     </td><td>NA    </td><td>NA    </td><td>NA    </td><td>NA    </td><td>NA    </td></tr>\n",
       "\t<tr><th scope=row>10299</th><td>25576M</td><td>1     </td><td>2     </td><td>2     </td><td>2     </td><td>NA    </td><td>50.6  </td><td>55.3  </td><td>      </td><td>NA    </td><td>0     </td><td>NA    </td><td>NA    </td><td>NA    </td><td>NA    </td><td>NA    </td></tr>\n",
       "\t<tr><th scope=row>10300</th><td>25929T</td><td>2     </td><td>2     </td><td>2     </td><td>8     </td><td>NA    </td><td>45.3  </td><td>  NA  </td><td>      </td><td>NA    </td><td>2     </td><td>NA    </td><td>NA    </td><td>NA    </td><td>NA    </td><td>NA    </td></tr>\n",
       "</tbody>\n",
       "</table>\n"
      ],
      "text/latex": [
       "\\begin{tabular}{r|llllllllllllllll}\n",
       "  & sid & gender & race & ethnic & fagerstrom\\_index & finalgold & age\\_p1 & age\\_p2 & have\\_lfu & fagerstrom\\_index\\_lfu & CurFTND\\_cat\\_p1 & WstFTND\\_cat\\_p2 & Gold\\_Cat & Goldneg1 & Gold1or2 & Gold3or4\\\\\n",
       "\\hline\n",
       "\t6866 & 10279B & 1      & 1      & 2      & 2      & NA     & 68.2   &   NA   &        & NA     & 0      & NA     & NA     &  0     &  0     &  0    \\\\\n",
       "\t6867 & 10818F & 1      & 1      & 2      & 3      & NA     & 63.2   &   NA   &        & NA     & 0      & NA     & NA     &  0     &  0     &  0    \\\\\n",
       "\t6869 & 11125F & 1      & 1      & 2      & 4      & NA     & 55.9   & 61.0   & LFU    &  5     & 1      &  1     & NA     &  0     &  0     &  0    \\\\\n",
       "\t6870 & 11182R & 1      & 1      & 2      & 7      & NA     & 64.5   & 72.7   & LFU    &  6     & 2      &  1     & NA     &  0     &  0     &  0    \\\\\n",
       "\t6871 & 11832E & 2      & 1      & 2      & 7      & NA     & 60.4   &   NA   &        & NA     & 2      & NA     & NA     &  0     &  0     &  0    \\\\\n",
       "\t6876 & 15765J & 1      & 1      & 2      & 5      & NA     & 53.7   & 59.9   & LFU    &  1     & 1      &  0     & NA     &  0     &  0     &  0    \\\\\n",
       "\t6877 & 17778C & 2      & 1      & 2      & 5      & NA     & 62.8   & 68.0   & LFU    &  2     & 1      &  0     & NA     &  0     &  0     &  0    \\\\\n",
       "\t6878 & 18595Z & 2      & 1      & 2      & 4      & NA     & 47.5   &   NA   &        & NA     & 1      & NA     & NA     &  0     &  0     &  0    \\\\\n",
       "\t6879 & 18916T & 2      & 1      & 2      & 8      & NA     & 64.3   &   NA   &        & NA     & 2      & NA     & NA     &  0     &  0     &  0    \\\\\n",
       "\t6880 & 19004H & 1      & 1      & 2      & 6      & NA     & 66.0   & 71.0   & LFU    &  4     & 1      &  1     & NA     &  0     &  0     &  0    \\\\\n",
       "\t6881 & 21613Y & 1      & 1      & 2      & 3      & NA     & 47.1   & 52.7   & LFU    &  8     & 0      &  2     & NA     &  0     &  0     &  0    \\\\\n",
       "\t6882 & 22271B & 1      & 1      & 2      & 6      & NA     & 53.8   &   NA   &        & NA     & 1      & NA     & NA     &  0     &  0     &  0    \\\\\n",
       "\t6883 & 24152D & 1      & 1      & 2      & 5      & NA     & 56.0   &   NA   &        & NA     & 1      & NA     & NA     &  0     &  0     &  0    \\\\\n",
       "\t10258 & 10321A & 1      & 2      & 2      & 7      & NA     & 57.5   & 63.4   &        & NA     & 2      & NA     & NA     & NA     & NA     & NA    \\\\\n",
       "\t10259 & 11122Z & 1      & 2      & 2      & 6      & NA     & 49.1   &   NA   &        & NA     & 1      & NA     & NA     & NA     & NA     & NA    \\\\\n",
       "\t10260 & 11180N & 1      & 2      & 2      & 6      & NA     & 48.6   & 54.0   &        & NA     & 1      & NA     & NA     & NA     & NA     & NA    \\\\\n",
       "\t10261 & 11272S & 1      & 2      & 2      & 6      & NA     & 55.0   &   NA   &        & NA     & 1      & NA     & NA     & NA     & NA     & NA    \\\\\n",
       "\t10262 & 11576M & 2      & 2      & 2      & 3      & NA     & 47.4   & 52.7   &        & NA     & 0      & NA     & NA     & NA     & NA     & NA    \\\\\n",
       "\t10263 & 12228U & 2      & 2      & 2      & 7      & NA     & 54.5   &   NA   &        & NA     & 2      & NA     & NA     & NA     & NA     & NA    \\\\\n",
       "\t10264 & 12670J & 2      & 2      & 2      & 5      & NA     & 52.0   &   NA   &        & NA     & 1      & NA     & NA     & NA     & NA     & NA    \\\\\n",
       "\t10265 & 12838V & 1      & 2      & 2      & 5      & NA     & 52.9   &   NA   &        & NA     & 1      & NA     & NA     & NA     & NA     & NA    \\\\\n",
       "\t10266 & 13274G & 2      & 2      & 2      & 8      & NA     & 61.1   & 67.2   & LFU    &  6     & 2      &  1     & NA     & NA     & NA     & NA    \\\\\n",
       "\t10267 & 14465S & 1      & 2      & 2      & 4      & NA     & 57.3   & 65.0   & LFU    &  3     & 1      &  0     & NA     & NA     & NA     & NA    \\\\\n",
       "\t10268 & 14509M & 2      & 2      & 2      & 6      & NA     & 50.2   & 55.3   & LFU    &  2     & 1      &  0     & NA     & NA     & NA     & NA    \\\\\n",
       "\t10270 & 14782E & 1      & 2      & 2      & 3      & NA     & 53.8   &   NA   &        & NA     & 0      & NA     & NA     & NA     & NA     & NA    \\\\\n",
       "\t10271 & 14959R & 1      & 2      & 2      & 5      & NA     & 56.3   &   NA   &        & NA     & 1      & NA     & NA     & NA     & NA     & NA    \\\\\n",
       "\t10274 & 15416K & 1      & 2      & 2      & 5      & NA     & 47.6   & 53.5   &        & NA     & 1      & NA     & NA     & NA     & NA     & NA    \\\\\n",
       "\t10275 & 15498M & 1      & 2      & 2      & 8      & NA     & 54.1   &   NA   &        & NA     & 2      & NA     & NA     & NA     & NA     & NA    \\\\\n",
       "\t10276 & 15791K & 1      & 2      & 2      & 5      & NA     & 53.4   &   NA   &        & NA     & 1      & NA     & NA     & NA     & NA     & NA    \\\\\n",
       "\t10277 & 15828H & 1      & 2      & 2      & 7      & NA     & 54.1   &   NA   &        & NA     & 2      & NA     & NA     & NA     & NA     & NA    \\\\\n",
       "\t10278 & 16376D & 1      & 2      & 2      & 7      & NA     & 48.5   &   NA   &        & NA     & 2      & NA     & NA     & NA     & NA     & NA    \\\\\n",
       "\t10279 & 16690J & 1      & 2      & 2      & 9      & NA     & 59.0   &   NA   &        & NA     & 2      & NA     & NA     & NA     & NA     & NA    \\\\\n",
       "\t10280 & 16970P & 1      & 2      & 2      & 0      & NA     & 46.5   & 54.2   &        & NA     & 0      & NA     & NA     & NA     & NA     & NA    \\\\\n",
       "\t10281 & 17394K & 1      & 2      & 2      & 7      & NA     & 59.7   &   NA   &        & NA     & 2      & NA     & NA     & NA     & NA     & NA    \\\\\n",
       "\t10282 & 17447F & 1      & 2      & 2      & 4      & NA     & 46.9   & 52.9   &        & NA     & 1      & NA     & NA     & NA     & NA     & NA    \\\\\n",
       "\t10284 & 17650C & 2      & 2      & 2      & 9      & NA     & 48.9   & 53.5   &        & NA     & 2      & NA     & NA     & NA     & NA     & NA    \\\\\n",
       "\t10285 & 18113H & 1      & 2      & 2      & 2      & NA     & 53.8   &   NA   &        & NA     & 0      & NA     & NA     & NA     & NA     & NA    \\\\\n",
       "\t10287 & 18546M & 2      & 2      & 2      & 8      & NA     & 62.5   &   NA   &        & NA     & 2      & NA     & NA     & NA     & NA     & NA    \\\\\n",
       "\t10288 & 18930N & 1      & 2      & 2      & 7      & NA     & 61.3   & 66.4   & LFU    &  3     & 2      &  0     & NA     & NA     & NA     & NA    \\\\\n",
       "\t10290 & 19964J & 2      & 2      & 2      & 3      & NA     & 52.4   &   NA   & LFU    &  6     & 0      &  1     & NA     & NA     & NA     & NA    \\\\\n",
       "\t10291 & 20010P & 2      & 2      & 2      & 2      & NA     & 59.9   & 66.1   & LFU    &  3     & 0      &  0     & NA     & NA     & NA     & NA    \\\\\n",
       "\t10292 & 20433R & 2      & 2      & 2      & 6      & NA     & 47.8   & 52.6   & LFU    &  6     & 1      &  1     & NA     & NA     & NA     & NA    \\\\\n",
       "\t10293 & 20572F & 2      & 2      & 2      & 7      & NA     & 50.5   &   NA   &        & NA     & 2      & NA     & NA     & NA     & NA     & NA    \\\\\n",
       "\t10295 & 24586K & 1      & 2      & 2      & 5      & NA     & 53.5   & 60.2   &        & NA     & 1      & NA     & NA     & NA     & NA     & NA    \\\\\n",
       "\t10296 & 25522P & 1      & 2      & 2      & 9      & NA     & 45.2   &   NA   &        & NA     & 2      & NA     & NA     & NA     & NA     & NA    \\\\\n",
       "\t10299 & 25576M & 1      & 2      & 2      & 2      & NA     & 50.6   & 55.3   &        & NA     & 0      & NA     & NA     & NA     & NA     & NA    \\\\\n",
       "\t10300 & 25929T & 2      & 2      & 2      & 8      & NA     & 45.3   &   NA   &        & NA     & 2      & NA     & NA     & NA     & NA     & NA    \\\\\n",
       "\\end{tabular}\n"
      ],
      "text/markdown": [
       "\n",
       "| <!--/--> | sid | gender | race | ethnic | fagerstrom_index | finalgold | age_p1 | age_p2 | have_lfu | fagerstrom_index_lfu | CurFTND_cat_p1 | WstFTND_cat_p2 | Gold_Cat | Goldneg1 | Gold1or2 | Gold3or4 | \n",
       "|---|---|---|---|---|---|---|---|---|---|---|---|---|---|---|---|---|---|---|---|---|---|---|---|---|---|---|---|---|---|---|---|---|---|---|---|---|---|---|---|---|---|---|---|---|---|---|\n",
       "| 6866 | 10279B | 1      | 1      | 2      | 2      | NA     | 68.2   |   NA   |        | NA     | 0      | NA     | NA     |  0     |  0     |  0     | \n",
       "| 6867 | 10818F | 1      | 1      | 2      | 3      | NA     | 63.2   |   NA   |        | NA     | 0      | NA     | NA     |  0     |  0     |  0     | \n",
       "| 6869 | 11125F | 1      | 1      | 2      | 4      | NA     | 55.9   | 61.0   | LFU    |  5     | 1      |  1     | NA     |  0     |  0     |  0     | \n",
       "| 6870 | 11182R | 1      | 1      | 2      | 7      | NA     | 64.5   | 72.7   | LFU    |  6     | 2      |  1     | NA     |  0     |  0     |  0     | \n",
       "| 6871 | 11832E | 2      | 1      | 2      | 7      | NA     | 60.4   |   NA   |        | NA     | 2      | NA     | NA     |  0     |  0     |  0     | \n",
       "| 6876 | 15765J | 1      | 1      | 2      | 5      | NA     | 53.7   | 59.9   | LFU    |  1     | 1      |  0     | NA     |  0     |  0     |  0     | \n",
       "| 6877 | 17778C | 2      | 1      | 2      | 5      | NA     | 62.8   | 68.0   | LFU    |  2     | 1      |  0     | NA     |  0     |  0     |  0     | \n",
       "| 6878 | 18595Z | 2      | 1      | 2      | 4      | NA     | 47.5   |   NA   |        | NA     | 1      | NA     | NA     |  0     |  0     |  0     | \n",
       "| 6879 | 18916T | 2      | 1      | 2      | 8      | NA     | 64.3   |   NA   |        | NA     | 2      | NA     | NA     |  0     |  0     |  0     | \n",
       "| 6880 | 19004H | 1      | 1      | 2      | 6      | NA     | 66.0   | 71.0   | LFU    |  4     | 1      |  1     | NA     |  0     |  0     |  0     | \n",
       "| 6881 | 21613Y | 1      | 1      | 2      | 3      | NA     | 47.1   | 52.7   | LFU    |  8     | 0      |  2     | NA     |  0     |  0     |  0     | \n",
       "| 6882 | 22271B | 1      | 1      | 2      | 6      | NA     | 53.8   |   NA   |        | NA     | 1      | NA     | NA     |  0     |  0     |  0     | \n",
       "| 6883 | 24152D | 1      | 1      | 2      | 5      | NA     | 56.0   |   NA   |        | NA     | 1      | NA     | NA     |  0     |  0     |  0     | \n",
       "| 10258 | 10321A | 1      | 2      | 2      | 7      | NA     | 57.5   | 63.4   |        | NA     | 2      | NA     | NA     | NA     | NA     | NA     | \n",
       "| 10259 | 11122Z | 1      | 2      | 2      | 6      | NA     | 49.1   |   NA   |        | NA     | 1      | NA     | NA     | NA     | NA     | NA     | \n",
       "| 10260 | 11180N | 1      | 2      | 2      | 6      | NA     | 48.6   | 54.0   |        | NA     | 1      | NA     | NA     | NA     | NA     | NA     | \n",
       "| 10261 | 11272S | 1      | 2      | 2      | 6      | NA     | 55.0   |   NA   |        | NA     | 1      | NA     | NA     | NA     | NA     | NA     | \n",
       "| 10262 | 11576M | 2      | 2      | 2      | 3      | NA     | 47.4   | 52.7   |        | NA     | 0      | NA     | NA     | NA     | NA     | NA     | \n",
       "| 10263 | 12228U | 2      | 2      | 2      | 7      | NA     | 54.5   |   NA   |        | NA     | 2      | NA     | NA     | NA     | NA     | NA     | \n",
       "| 10264 | 12670J | 2      | 2      | 2      | 5      | NA     | 52.0   |   NA   |        | NA     | 1      | NA     | NA     | NA     | NA     | NA     | \n",
       "| 10265 | 12838V | 1      | 2      | 2      | 5      | NA     | 52.9   |   NA   |        | NA     | 1      | NA     | NA     | NA     | NA     | NA     | \n",
       "| 10266 | 13274G | 2      | 2      | 2      | 8      | NA     | 61.1   | 67.2   | LFU    |  6     | 2      |  1     | NA     | NA     | NA     | NA     | \n",
       "| 10267 | 14465S | 1      | 2      | 2      | 4      | NA     | 57.3   | 65.0   | LFU    |  3     | 1      |  0     | NA     | NA     | NA     | NA     | \n",
       "| 10268 | 14509M | 2      | 2      | 2      | 6      | NA     | 50.2   | 55.3   | LFU    |  2     | 1      |  0     | NA     | NA     | NA     | NA     | \n",
       "| 10270 | 14782E | 1      | 2      | 2      | 3      | NA     | 53.8   |   NA   |        | NA     | 0      | NA     | NA     | NA     | NA     | NA     | \n",
       "| 10271 | 14959R | 1      | 2      | 2      | 5      | NA     | 56.3   |   NA   |        | NA     | 1      | NA     | NA     | NA     | NA     | NA     | \n",
       "| 10274 | 15416K | 1      | 2      | 2      | 5      | NA     | 47.6   | 53.5   |        | NA     | 1      | NA     | NA     | NA     | NA     | NA     | \n",
       "| 10275 | 15498M | 1      | 2      | 2      | 8      | NA     | 54.1   |   NA   |        | NA     | 2      | NA     | NA     | NA     | NA     | NA     | \n",
       "| 10276 | 15791K | 1      | 2      | 2      | 5      | NA     | 53.4   |   NA   |        | NA     | 1      | NA     | NA     | NA     | NA     | NA     | \n",
       "| 10277 | 15828H | 1      | 2      | 2      | 7      | NA     | 54.1   |   NA   |        | NA     | 2      | NA     | NA     | NA     | NA     | NA     | \n",
       "| 10278 | 16376D | 1      | 2      | 2      | 7      | NA     | 48.5   |   NA   |        | NA     | 2      | NA     | NA     | NA     | NA     | NA     | \n",
       "| 10279 | 16690J | 1      | 2      | 2      | 9      | NA     | 59.0   |   NA   |        | NA     | 2      | NA     | NA     | NA     | NA     | NA     | \n",
       "| 10280 | 16970P | 1      | 2      | 2      | 0      | NA     | 46.5   | 54.2   |        | NA     | 0      | NA     | NA     | NA     | NA     | NA     | \n",
       "| 10281 | 17394K | 1      | 2      | 2      | 7      | NA     | 59.7   |   NA   |        | NA     | 2      | NA     | NA     | NA     | NA     | NA     | \n",
       "| 10282 | 17447F | 1      | 2      | 2      | 4      | NA     | 46.9   | 52.9   |        | NA     | 1      | NA     | NA     | NA     | NA     | NA     | \n",
       "| 10284 | 17650C | 2      | 2      | 2      | 9      | NA     | 48.9   | 53.5   |        | NA     | 2      | NA     | NA     | NA     | NA     | NA     | \n",
       "| 10285 | 18113H | 1      | 2      | 2      | 2      | NA     | 53.8   |   NA   |        | NA     | 0      | NA     | NA     | NA     | NA     | NA     | \n",
       "| 10287 | 18546M | 2      | 2      | 2      | 8      | NA     | 62.5   |   NA   |        | NA     | 2      | NA     | NA     | NA     | NA     | NA     | \n",
       "| 10288 | 18930N | 1      | 2      | 2      | 7      | NA     | 61.3   | 66.4   | LFU    |  3     | 2      |  0     | NA     | NA     | NA     | NA     | \n",
       "| 10290 | 19964J | 2      | 2      | 2      | 3      | NA     | 52.4   |   NA   | LFU    |  6     | 0      |  1     | NA     | NA     | NA     | NA     | \n",
       "| 10291 | 20010P | 2      | 2      | 2      | 2      | NA     | 59.9   | 66.1   | LFU    |  3     | 0      |  0     | NA     | NA     | NA     | NA     | \n",
       "| 10292 | 20433R | 2      | 2      | 2      | 6      | NA     | 47.8   | 52.6   | LFU    |  6     | 1      |  1     | NA     | NA     | NA     | NA     | \n",
       "| 10293 | 20572F | 2      | 2      | 2      | 7      | NA     | 50.5   |   NA   |        | NA     | 2      | NA     | NA     | NA     | NA     | NA     | \n",
       "| 10295 | 24586K | 1      | 2      | 2      | 5      | NA     | 53.5   | 60.2   |        | NA     | 1      | NA     | NA     | NA     | NA     | NA     | \n",
       "| 10296 | 25522P | 1      | 2      | 2      | 9      | NA     | 45.2   |   NA   |        | NA     | 2      | NA     | NA     | NA     | NA     | NA     | \n",
       "| 10299 | 25576M | 1      | 2      | 2      | 2      | NA     | 50.6   | 55.3   |        | NA     | 0      | NA     | NA     | NA     | NA     | NA     | \n",
       "| 10300 | 25929T | 2      | 2      | 2      | 8      | NA     | 45.3   |   NA   |        | NA     | 2      | NA     | NA     | NA     | NA     | NA     | \n",
       "\n",
       "\n"
      ],
      "text/plain": [
       "      sid    gender race ethnic fagerstrom_index finalgold age_p1 age_p2\n",
       "6866  10279B 1      1    2      2                NA        68.2     NA  \n",
       "6867  10818F 1      1    2      3                NA        63.2     NA  \n",
       "6869  11125F 1      1    2      4                NA        55.9   61.0  \n",
       "6870  11182R 1      1    2      7                NA        64.5   72.7  \n",
       "6871  11832E 2      1    2      7                NA        60.4     NA  \n",
       "6876  15765J 1      1    2      5                NA        53.7   59.9  \n",
       "6877  17778C 2      1    2      5                NA        62.8   68.0  \n",
       "6878  18595Z 2      1    2      4                NA        47.5     NA  \n",
       "6879  18916T 2      1    2      8                NA        64.3     NA  \n",
       "6880  19004H 1      1    2      6                NA        66.0   71.0  \n",
       "6881  21613Y 1      1    2      3                NA        47.1   52.7  \n",
       "6882  22271B 1      1    2      6                NA        53.8     NA  \n",
       "6883  24152D 1      1    2      5                NA        56.0     NA  \n",
       "10258 10321A 1      2    2      7                NA        57.5   63.4  \n",
       "10259 11122Z 1      2    2      6                NA        49.1     NA  \n",
       "10260 11180N 1      2    2      6                NA        48.6   54.0  \n",
       "10261 11272S 1      2    2      6                NA        55.0     NA  \n",
       "10262 11576M 2      2    2      3                NA        47.4   52.7  \n",
       "10263 12228U 2      2    2      7                NA        54.5     NA  \n",
       "10264 12670J 2      2    2      5                NA        52.0     NA  \n",
       "10265 12838V 1      2    2      5                NA        52.9     NA  \n",
       "10266 13274G 2      2    2      8                NA        61.1   67.2  \n",
       "10267 14465S 1      2    2      4                NA        57.3   65.0  \n",
       "10268 14509M 2      2    2      6                NA        50.2   55.3  \n",
       "10270 14782E 1      2    2      3                NA        53.8     NA  \n",
       "10271 14959R 1      2    2      5                NA        56.3     NA  \n",
       "10274 15416K 1      2    2      5                NA        47.6   53.5  \n",
       "10275 15498M 1      2    2      8                NA        54.1     NA  \n",
       "10276 15791K 1      2    2      5                NA        53.4     NA  \n",
       "10277 15828H 1      2    2      7                NA        54.1     NA  \n",
       "10278 16376D 1      2    2      7                NA        48.5     NA  \n",
       "10279 16690J 1      2    2      9                NA        59.0     NA  \n",
       "10280 16970P 1      2    2      0                NA        46.5   54.2  \n",
       "10281 17394K 1      2    2      7                NA        59.7     NA  \n",
       "10282 17447F 1      2    2      4                NA        46.9   52.9  \n",
       "10284 17650C 2      2    2      9                NA        48.9   53.5  \n",
       "10285 18113H 1      2    2      2                NA        53.8     NA  \n",
       "10287 18546M 2      2    2      8                NA        62.5     NA  \n",
       "10288 18930N 1      2    2      7                NA        61.3   66.4  \n",
       "10290 19964J 2      2    2      3                NA        52.4     NA  \n",
       "10291 20010P 2      2    2      2                NA        59.9   66.1  \n",
       "10292 20433R 2      2    2      6                NA        47.8   52.6  \n",
       "10293 20572F 2      2    2      7                NA        50.5     NA  \n",
       "10295 24586K 1      2    2      5                NA        53.5   60.2  \n",
       "10296 25522P 1      2    2      9                NA        45.2     NA  \n",
       "10299 25576M 1      2    2      2                NA        50.6   55.3  \n",
       "10300 25929T 2      2    2      8                NA        45.3     NA  \n",
       "      have_lfu fagerstrom_index_lfu CurFTND_cat_p1 WstFTND_cat_p2 Gold_Cat\n",
       "6866           NA                   0              NA             NA      \n",
       "6867           NA                   0              NA             NA      \n",
       "6869  LFU       5                   1               1             NA      \n",
       "6870  LFU       6                   2               1             NA      \n",
       "6871           NA                   2              NA             NA      \n",
       "6876  LFU       1                   1               0             NA      \n",
       "6877  LFU       2                   1               0             NA      \n",
       "6878           NA                   1              NA             NA      \n",
       "6879           NA                   2              NA             NA      \n",
       "6880  LFU       4                   1               1             NA      \n",
       "6881  LFU       8                   0               2             NA      \n",
       "6882           NA                   1              NA             NA      \n",
       "6883           NA                   1              NA             NA      \n",
       "10258          NA                   2              NA             NA      \n",
       "10259          NA                   1              NA             NA      \n",
       "10260          NA                   1              NA             NA      \n",
       "10261          NA                   1              NA             NA      \n",
       "10262          NA                   0              NA             NA      \n",
       "10263          NA                   2              NA             NA      \n",
       "10264          NA                   1              NA             NA      \n",
       "10265          NA                   1              NA             NA      \n",
       "10266 LFU       6                   2               1             NA      \n",
       "10267 LFU       3                   1               0             NA      \n",
       "10268 LFU       2                   1               0             NA      \n",
       "10270          NA                   0              NA             NA      \n",
       "10271          NA                   1              NA             NA      \n",
       "10274          NA                   1              NA             NA      \n",
       "10275          NA                   2              NA             NA      \n",
       "10276          NA                   1              NA             NA      \n",
       "10277          NA                   2              NA             NA      \n",
       "10278          NA                   2              NA             NA      \n",
       "10279          NA                   2              NA             NA      \n",
       "10280          NA                   0              NA             NA      \n",
       "10281          NA                   2              NA             NA      \n",
       "10282          NA                   1              NA             NA      \n",
       "10284          NA                   2              NA             NA      \n",
       "10285          NA                   0              NA             NA      \n",
       "10287          NA                   2              NA             NA      \n",
       "10288 LFU       3                   2               0             NA      \n",
       "10290 LFU       6                   0               1             NA      \n",
       "10291 LFU       3                   0               0             NA      \n",
       "10292 LFU       6                   1               1             NA      \n",
       "10293          NA                   2              NA             NA      \n",
       "10295          NA                   1              NA             NA      \n",
       "10296          NA                   2              NA             NA      \n",
       "10299          NA                   0              NA             NA      \n",
       "10300          NA                   2              NA             NA      \n",
       "      Goldneg1 Gold1or2 Gold3or4\n",
       "6866   0        0        0      \n",
       "6867   0        0        0      \n",
       "6869   0        0        0      \n",
       "6870   0        0        0      \n",
       "6871   0        0        0      \n",
       "6876   0        0        0      \n",
       "6877   0        0        0      \n",
       "6878   0        0        0      \n",
       "6879   0        0        0      \n",
       "6880   0        0        0      \n",
       "6881   0        0        0      \n",
       "6882   0        0        0      \n",
       "6883   0        0        0      \n",
       "10258 NA       NA       NA      \n",
       "10259 NA       NA       NA      \n",
       "10260 NA       NA       NA      \n",
       "10261 NA       NA       NA      \n",
       "10262 NA       NA       NA      \n",
       "10263 NA       NA       NA      \n",
       "10264 NA       NA       NA      \n",
       "10265 NA       NA       NA      \n",
       "10266 NA       NA       NA      \n",
       "10267 NA       NA       NA      \n",
       "10268 NA       NA       NA      \n",
       "10270 NA       NA       NA      \n",
       "10271 NA       NA       NA      \n",
       "10274 NA       NA       NA      \n",
       "10275 NA       NA       NA      \n",
       "10276 NA       NA       NA      \n",
       "10277 NA       NA       NA      \n",
       "10278 NA       NA       NA      \n",
       "10279 NA       NA       NA      \n",
       "10280 NA       NA       NA      \n",
       "10281 NA       NA       NA      \n",
       "10282 NA       NA       NA      \n",
       "10284 NA       NA       NA      \n",
       "10285 NA       NA       NA      \n",
       "10287 NA       NA       NA      \n",
       "10288 NA       NA       NA      \n",
       "10290 NA       NA       NA      \n",
       "10291 NA       NA       NA      \n",
       "10292 NA       NA       NA      \n",
       "10293 NA       NA       NA      \n",
       "10295 NA       NA       NA      \n",
       "10296 NA       NA       NA      \n",
       "10299 NA       NA       NA      \n",
       "10300 NA       NA       NA      "
      ]
     },
     "metadata": {},
     "output_type": "display_data"
    },
    {
     "name": "stdout",
     "output_type": "stream",
     "text": [
      "[1] \"Number of subjects remaining after filtering by missing finalgold data.\"\n"
     ]
    },
    {
     "data": {
      "text/html": [
       "5242"
      ],
      "text/latex": [
       "5242"
      ],
      "text/markdown": [
       "5242"
      ],
      "text/plain": [
       "[1] 5242"
      ]
     },
     "metadata": {},
     "output_type": "display_data"
    }
   ],
   "source": [
    "# some subjects with reported GOLD status are missing in the finalgold variable\n",
    "gold.data <- cur.ftnd.filtered$finalgold[]\n",
    "print(\"These are the sequential indices in the cur.ftnd.filtered at which they occur.\")\n",
    "which(is.na(gold.data))\n",
    "print(\"Number of subjects missing finalgold.\")\n",
    "length(which(is.na(gold.data)))\n",
    "\n",
    "print(\"Here are the data of those subjects with missing finalgold.\")\n",
    "cur.ftnd.filtered[which(is.na(gold.data)),]\n",
    "\n",
    "# exclude those subjects with missing finalgold\n",
    "cur.ftnd.fg.filtered <- cur.ftnd.filtered[-which(is.na(gold.data)),]\n",
    "\n",
    "print(\"Number of subjects remaining after filtering by missing finalgold data.\")\n",
    "length(cur.ftnd.fg.filtered[,1])"
   ]
  },
  {
   "cell_type": "markdown",
   "metadata": {},
   "source": [
    "#### Missing Sex filter\n",
    "Remove any subjects missing sex data."
   ]
  },
  {
   "cell_type": "code",
   "execution_count": 13,
   "metadata": {},
   "outputs": [
    {
     "name": "stdout",
     "output_type": "stream",
     "text": [
      "[1] \"Number of COPDGene2 subjects after FTND, finalgold, and sex filtering.\"\n"
     ]
    },
    {
     "data": {
      "text/html": [
       "5242"
      ],
      "text/latex": [
       "5242"
      ],
      "text/markdown": [
       "5242"
      ],
      "text/plain": [
       "[1] 5242"
      ]
     },
     "metadata": {},
     "output_type": "display_data"
    }
   ],
   "source": [
    "# filtered out any subjects missing sex data\n",
    "cur.ftnd.fg.sex.filtered <- cur.ftnd.fg.filtered[complete.cases(cur.ftnd.fg.filtered[, \"gender\"]),]\n",
    "\n",
    "print(\"Number of COPDGene1 subjects after FTND, finalgold, and sex filtering.\")\n",
    "length(cur.ftnd.fg.sex.filtered[,1])"
   ]
  },
  {
   "cell_type": "markdown",
   "metadata": {},
   "source": [
    "**Note:** no subjects missing sex data. "
   ]
  },
  {
   "cell_type": "markdown",
   "metadata": {},
   "source": [
    "#### Missing Age filter\n",
    "Remove any subjects missing age data. \n",
    "\n",
    "#### age_p1\n",
    "Filter by variable `age_p1` then write to file."
   ]
  },
  {
   "cell_type": "code",
   "execution_count": 18,
   "metadata": {},
   "outputs": [
    {
     "name": "stdout",
     "output_type": "stream",
     "text": [
      "[1] \"Number of COPDGene1 subjects after FTND, finalgold, sex, and age (p1) filtering.\"\n"
     ]
    },
    {
     "data": {
      "text/html": [
       "5242"
      ],
      "text/latex": [
       "5242"
      ],
      "text/markdown": [
       "5242"
      ],
      "text/plain": [
       "[1] 5242"
      ]
     },
     "metadata": {},
     "output_type": "display_data"
    },
    {
     "name": "stdout",
     "output_type": "stream",
     "text": [
      "[1] \"Head of filtered data (age_p1).\"\n"
     ]
    },
    {
     "data": {
      "text/html": [
       "<table>\n",
       "<thead><tr><th></th><th scope=col>sid</th><th scope=col>gender</th><th scope=col>race</th><th scope=col>age_p1</th><th scope=col>CurFTND_cat_p1</th><th scope=col>Goldneg1</th><th scope=col>Gold1or2</th><th scope=col>Gold3or4</th></tr></thead>\n",
       "<tbody>\n",
       "\t<tr><th scope=row>101</th><td>10008W</td><td>1     </td><td>1     </td><td>55.1  </td><td>0     </td><td>1     </td><td>0     </td><td>0     </td></tr>\n",
       "\t<tr><th scope=row>104</th><td>10248Q</td><td>1     </td><td>1     </td><td>66.9  </td><td>2     </td><td>1     </td><td>0     </td><td>0     </td></tr>\n",
       "\t<tr><th scope=row>109</th><td>10521I</td><td>2     </td><td>1     </td><td>53.3  </td><td>1     </td><td>1     </td><td>0     </td><td>0     </td></tr>\n",
       "\t<tr><th scope=row>113</th><td>10604M</td><td>2     </td><td>1     </td><td>64.9  </td><td>1     </td><td>1     </td><td>0     </td><td>0     </td></tr>\n",
       "\t<tr><th scope=row>116</th><td>10705S</td><td>2     </td><td>1     </td><td>70.6  </td><td>0     </td><td>1     </td><td>0     </td><td>0     </td></tr>\n",
       "\t<tr><th scope=row>119</th><td>10918J</td><td>2     </td><td>1     </td><td>54.0  </td><td>1     </td><td>1     </td><td>0     </td><td>0     </td></tr>\n",
       "</tbody>\n",
       "</table>\n"
      ],
      "text/latex": [
       "\\begin{tabular}{r|llllllll}\n",
       "  & sid & gender & race & age\\_p1 & CurFTND\\_cat\\_p1 & Goldneg1 & Gold1or2 & Gold3or4\\\\\n",
       "\\hline\n",
       "\t101 & 10008W & 1      & 1      & 55.1   & 0      & 1      & 0      & 0     \\\\\n",
       "\t104 & 10248Q & 1      & 1      & 66.9   & 2      & 1      & 0      & 0     \\\\\n",
       "\t109 & 10521I & 2      & 1      & 53.3   & 1      & 1      & 0      & 0     \\\\\n",
       "\t113 & 10604M & 2      & 1      & 64.9   & 1      & 1      & 0      & 0     \\\\\n",
       "\t116 & 10705S & 2      & 1      & 70.6   & 0      & 1      & 0      & 0     \\\\\n",
       "\t119 & 10918J & 2      & 1      & 54.0   & 1      & 1      & 0      & 0     \\\\\n",
       "\\end{tabular}\n"
      ],
      "text/markdown": [
       "\n",
       "| <!--/--> | sid | gender | race | age_p1 | CurFTND_cat_p1 | Goldneg1 | Gold1or2 | Gold3or4 | \n",
       "|---|---|---|---|---|---|\n",
       "| 101 | 10008W | 1      | 1      | 55.1   | 0      | 1      | 0      | 0      | \n",
       "| 104 | 10248Q | 1      | 1      | 66.9   | 2      | 1      | 0      | 0      | \n",
       "| 109 | 10521I | 2      | 1      | 53.3   | 1      | 1      | 0      | 0      | \n",
       "| 113 | 10604M | 2      | 1      | 64.9   | 1      | 1      | 0      | 0      | \n",
       "| 116 | 10705S | 2      | 1      | 70.6   | 0      | 1      | 0      | 0      | \n",
       "| 119 | 10918J | 2      | 1      | 54.0   | 1      | 1      | 0      | 0      | \n",
       "\n",
       "\n"
      ],
      "text/plain": [
       "    sid    gender race age_p1 CurFTND_cat_p1 Goldneg1 Gold1or2 Gold3or4\n",
       "101 10008W 1      1    55.1   0              1        0        0       \n",
       "104 10248Q 1      1    66.9   2              1        0        0       \n",
       "109 10521I 2      1    53.3   1              1        0        0       \n",
       "113 10604M 2      1    64.9   1              1        0        0       \n",
       "116 10705S 2      1    70.6   0              1        0        0       \n",
       "119 10918J 2      1    54.0   1              1        0        0       "
      ]
     },
     "metadata": {},
     "output_type": "display_data"
    }
   ],
   "source": [
    "cur.ftnd.fg.sex.age1.filtered <- cur.ftnd.fg.sex.filtered[complete.cases(cur.ftnd.fg.sex.filtered[,\"age_p1\"]),]\n",
    "\n",
    "print(\"Number of COPDGene1 subjects after FTND, finalgold, sex, and age (p1) filtering.\")\n",
    "length(cur.ftnd.fg.sex.age1.filtered[,1])\n",
    "\n",
    "variables.of.interest1 <- c(\"sid\", \"gender\", \"race\", \"age_p1\", \"CurFTND_cat_p1\", \"Goldneg1\", \"Gold1or2\", \"Gold3or4\")\n",
    "pheno1 <- cur.ftnd.fg.sex.age1.filtered[,variables.of.interest1]\n",
    "\n",
    "print(\"Head of filtered data (age_p1).\")\n",
    "head(pheno1)\n",
    "\n",
    "setwd(\"C:/Users/jmarks/Desktop/Projects/Nicotine/COPDGene/pheno/one\")\n",
    "write.table(pheno1, \"phenotype.ftnd.fg.sex.age1.filtered.txt\", sep = \" \", row.names = F, quote = F)"
   ]
  },
  {
   "cell_type": "markdown",
   "metadata": {},
   "source": [
    "##### age_p2\n",
    "\n",
    "Filter by variable `age_p2` then write to file."
   ]
  },
  {
   "cell_type": "code",
   "execution_count": 19,
   "metadata": {},
   "outputs": [
    {
     "name": "stdout",
     "output_type": "stream",
     "text": [
      "[1] \"Number of COPDGene1 subjects after FTND, finalgold, sex, and age (p2) filtering.\"\n"
     ]
    },
    {
     "data": {
      "text/html": [
       "2889"
      ],
      "text/latex": [
       "2889"
      ],
      "text/markdown": [
       "2889"
      ],
      "text/plain": [
       "[1] 2889"
      ]
     },
     "metadata": {},
     "output_type": "display_data"
    },
    {
     "name": "stdout",
     "output_type": "stream",
     "text": [
      "[1] \"Head of filtered data (age_p2).\"\n"
     ]
    },
    {
     "data": {
      "text/html": [
       "<table>\n",
       "<thead><tr><th></th><th scope=col>sid</th><th scope=col>gender</th><th scope=col>race</th><th scope=col>age_p2</th><th scope=col>CurFTND_cat_p1</th><th scope=col>Goldneg1</th><th scope=col>Gold1or2</th><th scope=col>Gold3or4</th></tr></thead>\n",
       "<tbody>\n",
       "\t<tr><th scope=row>113</th><td>10604M</td><td>2     </td><td>1     </td><td>70.5  </td><td>1     </td><td>1     </td><td>0     </td><td>0     </td></tr>\n",
       "\t<tr><th scope=row>116</th><td>10705S</td><td>2     </td><td>1     </td><td>76.4  </td><td>0     </td><td>1     </td><td>0     </td><td>0     </td></tr>\n",
       "\t<tr><th scope=row>120</th><td>10935J</td><td>1     </td><td>1     </td><td>55.1  </td><td>1     </td><td>1     </td><td>0     </td><td>0     </td></tr>\n",
       "\t<tr><th scope=row>123</th><td>11020R</td><td>2     </td><td>1     </td><td>54.5  </td><td>1     </td><td>1     </td><td>0     </td><td>0     </td></tr>\n",
       "\t<tr><th scope=row>127</th><td>11081L</td><td>2     </td><td>1     </td><td>59.1  </td><td>1     </td><td>1     </td><td>0     </td><td>0     </td></tr>\n",
       "\t<tr><th scope=row>132</th><td>11159W</td><td>1     </td><td>1     </td><td>66.2  </td><td>1     </td><td>1     </td><td>0     </td><td>0     </td></tr>\n",
       "</tbody>\n",
       "</table>\n"
      ],
      "text/latex": [
       "\\begin{tabular}{r|llllllll}\n",
       "  & sid & gender & race & age\\_p2 & CurFTND\\_cat\\_p1 & Goldneg1 & Gold1or2 & Gold3or4\\\\\n",
       "\\hline\n",
       "\t113 & 10604M & 2      & 1      & 70.5   & 1      & 1      & 0      & 0     \\\\\n",
       "\t116 & 10705S & 2      & 1      & 76.4   & 0      & 1      & 0      & 0     \\\\\n",
       "\t120 & 10935J & 1      & 1      & 55.1   & 1      & 1      & 0      & 0     \\\\\n",
       "\t123 & 11020R & 2      & 1      & 54.5   & 1      & 1      & 0      & 0     \\\\\n",
       "\t127 & 11081L & 2      & 1      & 59.1   & 1      & 1      & 0      & 0     \\\\\n",
       "\t132 & 11159W & 1      & 1      & 66.2   & 1      & 1      & 0      & 0     \\\\\n",
       "\\end{tabular}\n"
      ],
      "text/markdown": [
       "\n",
       "| <!--/--> | sid | gender | race | age_p2 | CurFTND_cat_p1 | Goldneg1 | Gold1or2 | Gold3or4 | \n",
       "|---|---|---|---|---|---|\n",
       "| 113 | 10604M | 2      | 1      | 70.5   | 1      | 1      | 0      | 0      | \n",
       "| 116 | 10705S | 2      | 1      | 76.4   | 0      | 1      | 0      | 0      | \n",
       "| 120 | 10935J | 1      | 1      | 55.1   | 1      | 1      | 0      | 0      | \n",
       "| 123 | 11020R | 2      | 1      | 54.5   | 1      | 1      | 0      | 0      | \n",
       "| 127 | 11081L | 2      | 1      | 59.1   | 1      | 1      | 0      | 0      | \n",
       "| 132 | 11159W | 1      | 1      | 66.2   | 1      | 1      | 0      | 0      | \n",
       "\n",
       "\n"
      ],
      "text/plain": [
       "    sid    gender race age_p2 CurFTND_cat_p1 Goldneg1 Gold1or2 Gold3or4\n",
       "113 10604M 2      1    70.5   1              1        0        0       \n",
       "116 10705S 2      1    76.4   0              1        0        0       \n",
       "120 10935J 1      1    55.1   1              1        0        0       \n",
       "123 11020R 2      1    54.5   1              1        0        0       \n",
       "127 11081L 2      1    59.1   1              1        0        0       \n",
       "132 11159W 1      1    66.2   1              1        0        0       "
      ]
     },
     "metadata": {},
     "output_type": "display_data"
    }
   ],
   "source": [
    "cur.ftnd.fg.sex.age2.filtered <- cur.ftnd.fg.sex.filtered[complete.cases(cur.ftnd.fg.sex.filtered[,\"age_p2\"]),]\n",
    "\n",
    "print(\"Number of COPDGene1 subjects after FTND, finalgold, sex, and age (p2) filtering.\")\n",
    "length(cur.ftnd.fg.sex.age2.filtered[,1])\n",
    "\n",
    "variables.of.interest2 <- c(\"sid\", \"gender\", \"race\", \"age_p2\", \"CurFTND_cat_p1\", \"Goldneg1\", \"Gold1or2\", \"Gold3or4\")\n",
    "pheno2 <- cur.ftnd.fg.sex.age2.filtered[,variables.of.interest2]\n",
    "\n",
    "print(\"Head of filtered data (age_p2).\")\n",
    "head(pheno2)\n",
    "\n",
    "setwd(\"C:/Users/jmarks/Desktop/Projects/Nicotine/COPDGene/pheno/one\")\n",
    "write.table(pheno2, \"phenotype.ftnd.fg.sex.age2.filtered.txt\", sep = \" \", row.names = F, quote = F)"
   ]
  },
  {
   "cell_type": "markdown",
   "metadata": {},
   "source": [
    "#### Genotype filter\n",
    "Construct subject-filtered PLINK file sets by filterine out subjects missing genotype data."
   ]
  },
  {
   "cell_type": "code",
   "execution_count": null,
   "metadata": {},
   "outputs": [],
   "source": [
    "## local machine ##\n",
    "cd /cygdrive/c/Users/jmarks/Desktop/Projects/Nicotine/COPDGene/pheno/one\n",
    "\n",
    "# create directory structure on MIDAS\n",
    "mkdir -p jmarks@rtplhpc01.rti.ns:/share/nas03/jmarks/studies/copdgene1/{eigenstrat,data/{assoc_tests,genotype/{observed,imputed},phenotype}}\n",
    "\n",
    "# copy phenotype data over to MIDAS\n",
    "scp phenotype.ftnd.fg.sex.age1.filtered.txt jmarks@rtplhpc01.rti.ns:/share/nas03/jmarks/studies/copdgene1/data/phenotype/\n",
    "scp phenotype.ftnd.fg.sex.age2.filtered.txt jmarks@rtplhpc01.rti.ns:/share/nas03/jmarks/studies/copdgene1/data/phenotype/"
   ]
  },
  {
   "cell_type": "code",
   "execution_count": null,
   "metadata": {},
   "outputs": [],
   "source": [
    "## MIDAS console ##\n",
    "\n",
    "cd /share/nas03/jmarks/studies/copdgene1/data/\n",
    "\n",
    "cp /share/nas03/bioinformatics_group/data/studies/copdgene/observed/final_filtered/gxg_qc/copdgene.{aa,ea}.{fam,bim,bed} \\\n",
    "    genotype/observed\n",
    "\n",
    "# create a new PLINK fam file based on subjects with phenotype and genotype data\n",
    "## age_p1 filter\n",
    "### EA\n",
    "awk 'FNR==NR {a[$1]; next} ($2 in a)' phenotype/phenotype.ftnd.fg.sex.age1.filtered.txt \\\n",
    "    genotype/observed/copdgene.ea.fam > phenotype/ea.phenotype1.all.filters.txt\n",
    "     \n",
    "### AA\n",
    "awk 'FNR==NR {a[$1]; next} ($2 in a)' phenotype/phenotype.ftnd.fg.sex.age1.filtered.txt \\\n",
    "    genotype/observed/copdgene.aa.fam > phenotype/aa.phenotype1.all.filters.fam\n",
    "     \n",
    "\n",
    "## age_p2 filter\n",
    "### EA\n",
    "awk 'FNR==NR {a[$1]; next} ($2 in a)' phenotype/phenotype.ftnd.fg.sex.age2.filtered.txt\\\n",
    "    genotype/observed/copdgene.ea.fam > phenotype/ea.phenotype2.all.filters.txt\n",
    "     \n",
    "### AA\n",
    "awk 'FNR==NR {a[$1]; next} ($2 in a)' phenotype/phenotype.ftnd.fg.sex.age2.filtered.txt \\\n",
    "    genotype/observed/copdgene.aa.fam > phenotype/aa.phenotype2.all.filters.fam\n",
    "     \n",
    "\n",
    "wc -l phenotype/{ea,aa}.phenotype1.all.filters.fam\n",
    "\"\"\"  \n",
    "2549 phenotype/ea.phenotype1.all.filters.txt\n",
    "  2534 phenotype/aa.phenotype1.all.filters.txt\n",
    "  5083 total\n",
    "\"\"\"\n",
    "\n",
    "wc -l phenotype/{ea,aa}.phenotype2.all.filters.txt\n",
    "\"\"\" \n",
    "1466 phenotype/ea.phenotype2.all.filters.txt\n",
    " 1343 phenotype/aa.phenotype2.all.filters.txt\n",
    " 2809 total\n",
    "\"\"\"\n"
   ]
  },
  {
   "cell_type": "markdown",
   "metadata": {},
   "source": [
    "### PCA (EIGENSTRAT)\n",
    "\n",
    "To obtain principal component covariates to use in the GWAS statistical model, EIGENSTRAT is run on LD-pruned observed genotypes for each ancestry group. \n",
    "\n",
    "#### Construct subject-filtered PLINK file sets\n",
    "\n",
    "**Note:** Might have to transfer data to AWS because MIDAS is full: data storage has reached capacity."
   ]
  },
  {
   "cell_type": "code",
   "execution_count": null,
   "metadata": {},
   "outputs": [],
   "source": [
    "cd ~/Desktop/\n",
    "scp -r jmarks@rtplhpc01.rti.ns:/share/nas03/jmarks/studies/* .\n",
    "\n",
    "aws s3 sync copdgene1 s3://rti-nd/COPDGene/copdgene1/  --quiet &\n",
    "aws s3 sync copdgene2 s3://rti-nd/COPDGene/copdgene2/  --quiet &\n",
    "cd ssh -i ~/.ssh/gwas_rsa ec2-user@35.171.207.199"
   ]
  },
  {
   "cell_type": "code",
   "execution_count": null,
   "metadata": {},
   "outputs": [],
   "source": [
    "## EC2 ##\n",
    "mkdir -p \n",
    "cd /shared/s3/copdgene1/data/phenotype\n",
    "\n",
    "# generate ID list to filter data with \n",
    "awk ' NR>=2 { print $1,$1 }' phenotype.ftnd.fg.sex.age1.filtered.txt > id_list.txt\n",
    "\n",
    "# Remove subjects by phenotype criteria\n",
    "## EA & AA\n",
    "base_dir=/shared/s3/copdgene1\n",
    "for ancestry in {\"ea\",\"aa\"}; do\n",
    "    /shared/bioinformatics/software/third_party/plink-1.90-beta-4.10-x86_64/plink \\\n",
    "        --noweb \\\n",
    "        --memory 2048 \\\n",
    "        --bfile ${base_dir}/data/genotype/observed/copdgene.${ancestry} \\\n",
    "        --keep id_list.txt \\\n",
    "        --make-bed \\\n",
    "        --out ${base_dir}/eigenstrat/${ancestry}_pheno_filter\n",
    "done\n",
    "\n",
    "wc -l ${base_dir}/eigenstrat/*.fam\n",
    "\"\"\"\n",
    " 2534 aa_pheno_filter.fam\n",
    "  2549 ea_pheno_filter.fam\n",
    "  5083 total\n",
    "\"\"\""
   ]
  },
  {
   "cell_type": "markdown",
   "metadata": {},
   "source": [
    "#### Remove high-LD region variants"
   ]
  },
  {
   "cell_type": "code",
   "execution_count": null,
   "metadata": {},
   "outputs": [],
   "source": [
    "## EC2 ##\n",
    "cd /shared/s3/copdgene1/eigenstrat\n",
    "\n",
    "# Remove high-LD region variants\n",
    "for ancestry in {\"ea\",\"aa\"}; do\n",
    "    # Generate list of variants in known high-LD regions\n",
    "    perl -lane 'if (($F[0]==5 && $F[3] >= 43964243 && $F[3] <= 51464243) || ($F[0]==6 && $F[3] >= 24892021 && $F[3] <= 33392022) || ($F[0]==8 && $F[3] >= 7962590 && $F[3] <= 11962591) || ($F[0]==11 && $F[3] >= 45043424 && $F[3] <= 57243424)) { print $F[1].\"\\n\"; }' ${ancestry}_pheno_filter.bim \\\n",
    "        > ${ancestry}.high_ld_regions.remove\n",
    "\n",
    "    # Remove SNPs in known high-LD regions\n",
    "    /shared/bioinformatics/software/third_party/plink-1.90-beta-4.10-x86_64/plink \\\n",
    "        --noweb \\\n",
    "        --memory 2048 \\\n",
    "        --bfile ${ancestry}_pheno_filter \\\n",
    "        --exclude ${ancestry}.high_ld_regions.remove \\\n",
    "        --make-bed \\\n",
    "        --out ${ancestry}_pheno_filter_high_ld_regions_removed\n",
    "done\n",
    "\n",
    "wc -l *.bim\n",
    "\"\"\"\n",
    "  674935 aa_pheno_filter.bim\n",
    "  665179 aa_pheno_filter_high_ld_regions_removed.bim\n",
    "  622168 ea_pheno_filter.bim\n",
    "  612893 ea_pheno_filter_high_ld_regions_removed.bim\n",
    " 2575175 total\n",
    "\"\"\""
   ]
  },
  {
   "cell_type": "markdown",
   "metadata": {},
   "source": [
    "#### Linkage disequilibrium pruning¶\n",
    "Linkage disequilibrium (LD) pruning eliminates a large degree of redundancy in the data and reduces the influence of chromosomal artifacts. The objective of LD pruning is to select a subset of variants based off of LD such that the variants in the subset are independent. This filtering will not carry forward to the final processed results, but this step improves the quality of EIGENSTRAT calculations. Consequently, the LD pruned data will be used as input for those calculations.\n",
    "\n",
    "LD pruning is implemented using PLINK `--indep-pairwise.`"
   ]
  },
  {
   "cell_type": "code",
   "execution_count": null,
   "metadata": {},
   "outputs": [],
   "source": [
    "## EC2 ##\n",
    "cd /shared/s3/copdgene1/eigenstrat\n",
    "\n",
    "# Remove high-LD region variants\n",
    "for ancestry in {\"ea\",\"aa\"}; do\n",
    "    # Run per chromosome LD pruning for each chr\n",
    "    for chr in {1..23}; do\n",
    "        sh /shared/bioinformatics/software/scripts/qsub_job.sh \\\n",
    "            --job_name ${ancestry}_${chr}_ld_prune \\\n",
    "            --script_prefix ${ancestry}_${chr}_ld_prune \\\n",
    "            --mem 3.5 \\\n",
    "            --priority 0 \\\n",
    "            --program /shared/bioinformatics/software/third_party/plink-1.90-beta-4.10-x86_64/plink \\\n",
    "                --noweb \\\n",
    "                --memory 3500 \\\n",
    "                --bfile ${ancestry}_pheno_filter_high_ld_regions_removed \\\n",
    "                --indep-pairwise 1500 150 0.2 \\\n",
    "                --chr ${chr} \\\n",
    "                --out ${ancestry}_chr${chr}_ld_pruned\n",
    "    done\n",
    "done\n",
    "\n",
    "# Note, make sure to wait until the above jobs have been completed\n",
    "#Create LD pruned PLINK file sets\n",
    "for ancestry in {\"ea\",\"aa\"}; do\n",
    "    # Merge *prune.in files\n",
    "    cat ${ancestry}_chr*_ld_pruned.prune.in > ${ancestry}_chr_all_ld_pruned.prune.in\n",
    "\n",
    "    # Create new PLINK filesets with only lD pruned variants\n",
    "    /shared/bioinformatics/software/third_party/plink-1.90-beta-4.10-x86_64/plink \\\n",
    "        --noweb \\\n",
    "        --memory 2048 \\\n",
    "        --bfile ${ancestry}_pheno_filter_high_ld_regions_removed \\\n",
    "        --extract ${ancestry}_chr_all_ld_pruned.prune.in \\\n",
    "        --make-bed \\\n",
    "        --out ${ancestry}_ld_pruned\n",
    "done\n",
    "\n",
    "# Clean up\n",
    "rm *ld_pruned.{prune.in,prune.out,log}\n",
    "rm *qsub*\n",
    "rm *high_ld_regions*\n",
    "rm *nosex\n",
    "rm *pheno_filter*\n",
    "\n",
    "wc -l *.bim\n",
    "\"\"\" 230131 aa_ld_pruned.bim\n",
    " 110351 ea_ld_pruned.bim\n",
    "\"\"\""
   ]
  },
  {
   "cell_type": "markdown",
   "metadata": {},
   "source": [
    "#### Rename BIM/FAM file IDs\n",
    "BIM and FAM file IDs have the potential issue of being too long if encoded using the 1000 Genomes Phase 3 IMPUTE2 format. This will cause smartpca to throw an error. To resolve this the IDs are replaced by numeric values if needed."
   ]
  },
  {
   "cell_type": "code",
   "execution_count": null,
   "metadata": {},
   "outputs": [],
   "source": [
    "## EC2 ##\n",
    "cd /shared/s3/copdgene1/eigenstrat\n",
    "\n",
    "# Count ID lengths greater than 39 characters\n",
    "ancestry=\"ea\"\n",
    "for ancestry in {\"ea\",\"aa\"}; do\n",
    "    echo -e \"\\n\\n======== ${ancestry} ========\\n\\n\"\n",
    "    awk '{ if(length($1)+length($2)>39){print $2} }' ${ancestry}_ld_pruned.fam | wc -l\n",
    "    awk '{ if(length($2)>39){print $2} }' ${ancestry}_ld_pruned.bim | wc -l\n",
    "done\n",
    "\n",
    "\"\"\"\n",
    "======== ea ========\n",
    "\n",
    "\n",
    "0\n",
    "0\n",
    "\n",
    "\n",
    "======== aa ========\n",
    "\n",
    "\n",
    "0\n",
    "0\n",
    "\"\"\"\n",
    "\n",
    "# Rename BIM file IDs\n",
    "# Make new BIM\n",
    "#awk '{$2=\"ID_\"NR; print $0}' ${ancestry}_ld_pruned.bim \\\n",
    "#    > ${ancestry}_ld_pruned_id_renamed.bim\n",
    "\n",
    "# Rename FAM file IDs\n",
    "# Make new FAM\n",
    "#awk '{$1=\"ID_\"NR; print $0}' ${ancestry}_ld_pruned.fam \\\n",
    "#   > ${ancestry}_ld_pruned_id_renamed.fam"
   ]
  },
  {
   "cell_type": "markdown",
   "metadata": {},
   "source": [
    "**Note**: based on these results, we will not rename the `bim` or `fam` files for either ancestry.\n",
    "**Also**: These data are have not been renamed to the 1000 Genomes Phase 3 format."
   ]
  },
  {
   "cell_type": "markdown",
   "metadata": {},
   "source": [
    "#### Remove Case-Control Status from .fam file\n",
    "We need to remove the case-control status in the last column of the `.fam` file. Some of the subjects have a 1, 2, or -9. When running `smartpca` because all of the subjects do not have a 1 or 2, which signifies case or control, then the subjects with a -9 entry will be assumed to be missing data and they will be removed from the outcome. To remedy this we will set all of the subjects to have -9 and then they will not be excluded from the outcome since none of the subjects have case-control status.\n",
    "\n",
    "The log file should say something like: \n",
    "`all individuals set ignore.  Likely input problem (col 6)\n",
    "resetting all individual...\n",
    "`"
   ]
  },
  {
   "cell_type": "code",
   "execution_count": null,
   "metadata": {},
   "outputs": [],
   "source": [
    "## EC2 ##\n",
    "cd /shared/s3/copdgene1/eigenstrat \n",
    "\n",
    "awk '{$6 = -9; print $0}' aa_ld_pruned.fam > aa_ld_pruned_final.fam\n",
    "\n",
    "awk '{$6 = -9; print $0}' ea_ld_pruned.fam > ea_ld_pruned_final.fam"
   ]
  },
  {
   "cell_type": "markdown",
   "metadata": {},
   "source": [
    "#### Run EIGENSTRAT\n",
    "**NOTE**: For `smartpca` to run, the BIM and FAM file IDs need to be less than 39 characters in length. Often this is not a problem, but with a BIM file that has IDs renamed to the 1000 Genomes Phase 3 format, the IDs for indels can exceed the character limit. Also, the EIGENSOFT bin directory should be in ~/.bashrc as an addition to the PATH variable. If it is not, it can be added as following\n",
    "\n",
    "export PATH=$PATH:/shared/bioinformatics/software/third_party/EIG-6.1.4/bin/ # Add EIGENSOFT bin to path\n",
    "\n",
    "The smartpca.pl program documentation is shown below:\n",
    "\n",
    "DOCUMENTATION of smartpca.pl program:\n",
    "\n",
    "This program calls the smartpca program (see ../POPGEN/README). For this to work, the bin directory containing smartpca MUST be in your path. See ./example.perl for a toy example.\n",
    "\n",
    "../bin/smartpca.pl \n",
    "-i example.geno  : genotype file in any format (see ../CONVERTF/README)\n",
    "-a example.snp   : snp file in any format (see ../CONVERTF/README)\n",
    "-b example.ind   : indiv file in any format (see ../CONVERTF/README)\n",
    "-k k             : (Default is 10) number of principal components to output\n",
    "-o example.pca   : output file of principal components.  Individuals removed\n",
    "                   as outliers will have all values set to 0.0 in this file.\n",
    "-p example.plot  : prefix of output plot files of top 2 principal components.\n",
    "                   (labeling individuals according to labels in indiv file)\n",
    "-e example.eval  : output file of all eigenvalues\n",
    "-l example.log   : output logfile\n",
    "-m maxiter       : (Default is 5) maximum number of outlier removal iterations.\n",
    "                   To turn off outlier removal, set -m 0.\n",
    "-t topk          : (Default is 10) number of principal components along which \n",
    "                   to remove outliers during each outlier removal iteration.\n",
    "-s sigma         : (Default is 6.0) number of standard deviations which an\n",
    "                   individual must exceed, along one of topk top principal\n",
    "           components, in order to be removed as an outlier.\n",
    "\n",
    "OPTIONAL FLAGS:\n",
    "-w poplist       : compute eigenvectors using populations in poplist only,\n",
    "                   where poplist is an ASCII file with one population per line\n",
    "-y plotlist      : output plot will include populations in plotlist only, \n",
    "                   where plotlist is an ASCII file with one population per line\n",
    "-z badsnpname    : list of SNPs which should be excluded from the analysis\n",
    "-q YES/NO        : If set to YES, assume that there is a single population and\n",
    "                   the population field contains real-valued phenotypes.\n",
    "           (Corresponds to qtmode parameter in smartpca program.)\n",
    "           The default value for this parameter is NO.\n",
    "\n",
    "Estimated running time of the smartpca program is \n",
    "  2.5e-12 * nSNP * NSAMPLES^2 hours            if not removing outliers.\n",
    "  2.5e-12 * nSNP * NSAMPLES^2 hours * (1+m)    if m outlier removal iterations.\n",
    "Thus, under the default of up to 5 outlier removal iterations, running time is \n",
    "  up to 1.5e-11 * nSNP * NSAMPLES^2 hours."
   ]
  },
  {
   "cell_type": "code",
   "execution_count": null,
   "metadata": {},
   "outputs": [],
   "source": [
    "## EC2 ##\n",
    "cd /shared/s3/copdgene1/eigenstrat\n",
    "\n",
    "mkdir results\n",
    "\n",
    "for ancestry in {\"ea\",\"aa\"};do\n",
    "    # Run EIGENSTRAT smartpca \n",
    "    sh /shared/bioinformatics/software/scripts/qsub_job.sh \\\n",
    "        --job_name ${ancestry}_smartpca \\\n",
    "        --script_prefix results/smartpca_${ancestry} \\\n",
    "        --mem 13.5 \\\n",
    "        --nslots 2 \\\n",
    "        --priority 0 \\\n",
    "        --program /shared/bioinformatics/software/third_party/EIG-6.1.4/bin/smartpca.perl \\\n",
    "            -i ${ancestry}_ld_pruned.bed \\\n",
    "            -a ${ancestry}_ld_pruned.bim \\\n",
    "            -b ${ancestry}_ld_pruned_final.fam \\\n",
    "            -o results/${ancestry}_ld_pruned.pca \\\n",
    "            -p results/${ancestry}_ld_pruned.plot \\\n",
    "            -e results/${ancestry}_ld_pruned.eval \\\n",
    "            -l results/${ancestry}_ld_pruned.pca.log \\\n",
    "            -m 0\n",
    "done"
   ]
  },
  {
   "cell_type": "markdown",
   "metadata": {},
   "source": [
    "#### View PCs from EIGENSTRAT"
   ]
  },
  {
   "cell_type": "code",
   "execution_count": null,
   "metadata": {},
   "outputs": [],
   "source": [
    "## local machine ##\n",
    "# Copy results over to local machine so we can visualize the results.\n",
    "scp -i ~/.ssh/gwas_rsa ec2-user@35.171.207.199:/shared/s3/copdgene1/eigenstrat/results/ea_ld_pruned.pca.evec \\\n",
    "    /cygdrive/c/Users/jmarks/Desktop/Projects/Nicotine/COPDGene/copdgene1/eigenstrat\n",
    "scp -i ~/.ssh/gwas_rsa ec2-user@35.171.207.199:/shared/s3/copdgene1/eigenstrat/results/aa_ld_pruned.pca.evec \\\n",
    "    /cygdrive/c/Users/jmarks/Desktop/Projects/Nicotine/COPDGene/copdgene1/eigenstrat"
   ]
  },
  {
   "cell_type": "code",
   "execution_count": 107,
   "metadata": {},
   "outputs": [
    {
     "name": "stdout",
     "output_type": "stream",
     "text": [
      "[1] \"ea table\"\n"
     ]
    },
    {
     "data": {
      "text/html": [
       "<table>\n",
       "<thead><tr><th></th><th scope=col>V2</th><th scope=col>V3</th><th scope=col>V4</th><th scope=col>V5</th><th scope=col>V6</th><th scope=col>V7</th><th scope=col>V8</th><th scope=col>V9</th><th scope=col>V10</th><th scope=col>V11</th><th scope=col>V12</th></tr></thead>\n",
       "<tbody>\n",
       "\t<tr><th scope=row>10005Q:10005Q</th><td>0.0069 </td><td>-0.0087</td><td>-0.0074</td><td>-0.0020</td><td> 0.0318</td><td>0.0029 </td><td>-0.0141</td><td>-0.0055</td><td>-0.0185</td><td> 0.0034</td><td>???    </td></tr>\n",
       "\t<tr><th scope=row>10010J:10010J</th><td>0.0032 </td><td>-0.0020</td><td>-0.0054</td><td>-0.0084</td><td>-0.0010</td><td>0.0081 </td><td>-0.0040</td><td> 0.0102</td><td> 0.0108</td><td>-0.0121</td><td>???    </td></tr>\n",
       "\t<tr><th scope=row>10028C:10028C</th><td>0.0153 </td><td> 0.0770</td><td>-0.0096</td><td> 0.0042</td><td> 0.0180</td><td>0.0175 </td><td> 0.0048</td><td>-0.0103</td><td>-0.0081</td><td>-0.0073</td><td>???    </td></tr>\n",
       "\t<tr><th scope=row>10031R:10031R</th><td>0.0139 </td><td>-0.0105</td><td>-0.0052</td><td>-0.0039</td><td> 0.0176</td><td>0.0110 </td><td> 0.0111</td><td>-0.0232</td><td> 0.0360</td><td> 0.0044</td><td>???    </td></tr>\n",
       "\t<tr><th scope=row>10041U:10041U</th><td>0.0112 </td><td>-0.0091</td><td>-0.0063</td><td>-0.0066</td><td>-0.0127</td><td>0.0153 </td><td>-0.0070</td><td> 0.0121</td><td>-0.0068</td><td> 0.0036</td><td>???    </td></tr>\n",
       "</tbody>\n",
       "</table>\n"
      ],
      "text/latex": [
       "\\begin{tabular}{r|lllllllllll}\n",
       "  & V2 & V3 & V4 & V5 & V6 & V7 & V8 & V9 & V10 & V11 & V12\\\\\n",
       "\\hline\n",
       "\t10005Q:10005Q & 0.0069  & -0.0087 & -0.0074 & -0.0020 &  0.0318 & 0.0029  & -0.0141 & -0.0055 & -0.0185 &  0.0034 & ???    \\\\\n",
       "\t10010J:10010J & 0.0032  & -0.0020 & -0.0054 & -0.0084 & -0.0010 & 0.0081  & -0.0040 &  0.0102 &  0.0108 & -0.0121 & ???    \\\\\n",
       "\t10028C:10028C & 0.0153  &  0.0770 & -0.0096 &  0.0042 &  0.0180 & 0.0175  &  0.0048 & -0.0103 & -0.0081 & -0.0073 & ???    \\\\\n",
       "\t10031R:10031R & 0.0139  & -0.0105 & -0.0052 & -0.0039 &  0.0176 & 0.0110  &  0.0111 & -0.0232 &  0.0360 &  0.0044 & ???    \\\\\n",
       "\t10041U:10041U & 0.0112  & -0.0091 & -0.0063 & -0.0066 & -0.0127 & 0.0153  & -0.0070 &  0.0121 & -0.0068 &  0.0036 & ???    \\\\\n",
       "\\end{tabular}\n"
      ],
      "text/markdown": [
       "\n",
       "| <!--/--> | V2 | V3 | V4 | V5 | V6 | V7 | V8 | V9 | V10 | V11 | V12 | \n",
       "|---|---|---|---|---|\n",
       "| 10005Q:10005Q | 0.0069  | -0.0087 | -0.0074 | -0.0020 |  0.0318 | 0.0029  | -0.0141 | -0.0055 | -0.0185 |  0.0034 | ???     | \n",
       "| 10010J:10010J | 0.0032  | -0.0020 | -0.0054 | -0.0084 | -0.0010 | 0.0081  | -0.0040 |  0.0102 |  0.0108 | -0.0121 | ???     | \n",
       "| 10028C:10028C | 0.0153  |  0.0770 | -0.0096 |  0.0042 |  0.0180 | 0.0175  |  0.0048 | -0.0103 | -0.0081 | -0.0073 | ???     | \n",
       "| 10031R:10031R | 0.0139  | -0.0105 | -0.0052 | -0.0039 |  0.0176 | 0.0110  |  0.0111 | -0.0232 |  0.0360 |  0.0044 | ???     | \n",
       "| 10041U:10041U | 0.0112  | -0.0091 | -0.0063 | -0.0066 | -0.0127 | 0.0153  | -0.0070 |  0.0121 | -0.0068 |  0.0036 | ???     | \n",
       "\n",
       "\n"
      ],
      "text/plain": [
       "              V2     V3      V4      V5      V6      V7     V8      V9     \n",
       "10005Q:10005Q 0.0069 -0.0087 -0.0074 -0.0020  0.0318 0.0029 -0.0141 -0.0055\n",
       "10010J:10010J 0.0032 -0.0020 -0.0054 -0.0084 -0.0010 0.0081 -0.0040  0.0102\n",
       "10028C:10028C 0.0153  0.0770 -0.0096  0.0042  0.0180 0.0175  0.0048 -0.0103\n",
       "10031R:10031R 0.0139 -0.0105 -0.0052 -0.0039  0.0176 0.0110  0.0111 -0.0232\n",
       "10041U:10041U 0.0112 -0.0091 -0.0063 -0.0066 -0.0127 0.0153 -0.0070  0.0121\n",
       "              V10     V11     V12\n",
       "10005Q:10005Q -0.0185  0.0034 ???\n",
       "10010J:10010J  0.0108 -0.0121 ???\n",
       "10028C:10028C -0.0081 -0.0073 ???\n",
       "10031R:10031R  0.0360  0.0044 ???\n",
       "10041U:10041U -0.0068  0.0036 ???"
      ]
     },
     "metadata": {},
     "output_type": "display_data"
    },
    {
     "name": "stdout",
     "output_type": "stream",
     "text": [
      "[1] \"aa table\"\n"
     ]
    },
    {
     "data": {
      "text/html": [
       "<table>\n",
       "<thead><tr><th></th><th scope=col>V2</th><th scope=col>V3</th><th scope=col>V4</th><th scope=col>V5</th><th scope=col>V6</th><th scope=col>V7</th><th scope=col>V8</th><th scope=col>V9</th><th scope=col>V10</th><th scope=col>V11</th><th scope=col>V12</th></tr></thead>\n",
       "<tbody>\n",
       "\t<tr><th scope=row>10067M:10067M</th><td>-0.0522</td><td> 0.0005</td><td> 0.0581</td><td>-0.0003</td><td>-0.0475</td><td>-0.0008</td><td>-0.0281</td><td>-0.0019</td><td>-0.0051</td><td>-0.0276</td><td>???    </td></tr>\n",
       "\t<tr><th scope=row>10096T:10096T</th><td>-0.0016</td><td> 0.0097</td><td> 0.0171</td><td>-0.0107</td><td>-0.0083</td><td> 0.0372</td><td> 0.0113</td><td>-0.0149</td><td> 0.0086</td><td>-0.0340</td><td>???    </td></tr>\n",
       "\t<tr><th scope=row>10168S:10168S</th><td>-0.0017</td><td>-0.0144</td><td> 0.0457</td><td> 0.0035</td><td> 0.0015</td><td> 0.0246</td><td>-0.0168</td><td> 0.0201</td><td>-0.0078</td><td>-0.0347</td><td>???    </td></tr>\n",
       "\t<tr><th scope=row>10181K:10181K</th><td> 0.0201</td><td> 0.0036</td><td>-0.0038</td><td>-0.0205</td><td>-0.0154</td><td> 0.0017</td><td> 0.0070</td><td>-0.0093</td><td> 0.0077</td><td>-0.0082</td><td>???    </td></tr>\n",
       "\t<tr><th scope=row>10185S:10185S</th><td> 0.0149</td><td> 0.0061</td><td>-0.0096</td><td> 0.0051</td><td>-0.0058</td><td> 0.0043</td><td> 0.0061</td><td> 0.0253</td><td>-0.0160</td><td> 0.0037</td><td>???    </td></tr>\n",
       "</tbody>\n",
       "</table>\n"
      ],
      "text/latex": [
       "\\begin{tabular}{r|lllllllllll}\n",
       "  & V2 & V3 & V4 & V5 & V6 & V7 & V8 & V9 & V10 & V11 & V12\\\\\n",
       "\\hline\n",
       "\t10067M:10067M & -0.0522 &  0.0005 &  0.0581 & -0.0003 & -0.0475 & -0.0008 & -0.0281 & -0.0019 & -0.0051 & -0.0276 & ???    \\\\\n",
       "\t10096T:10096T & -0.0016 &  0.0097 &  0.0171 & -0.0107 & -0.0083 &  0.0372 &  0.0113 & -0.0149 &  0.0086 & -0.0340 & ???    \\\\\n",
       "\t10168S:10168S & -0.0017 & -0.0144 &  0.0457 &  0.0035 &  0.0015 &  0.0246 & -0.0168 &  0.0201 & -0.0078 & -0.0347 & ???    \\\\\n",
       "\t10181K:10181K &  0.0201 &  0.0036 & -0.0038 & -0.0205 & -0.0154 &  0.0017 &  0.0070 & -0.0093 &  0.0077 & -0.0082 & ???    \\\\\n",
       "\t10185S:10185S &  0.0149 &  0.0061 & -0.0096 &  0.0051 & -0.0058 &  0.0043 &  0.0061 &  0.0253 & -0.0160 &  0.0037 & ???    \\\\\n",
       "\\end{tabular}\n"
      ],
      "text/markdown": [
       "\n",
       "| <!--/--> | V2 | V3 | V4 | V5 | V6 | V7 | V8 | V9 | V10 | V11 | V12 | \n",
       "|---|---|---|---|---|\n",
       "| 10067M:10067M | -0.0522 |  0.0005 |  0.0581 | -0.0003 | -0.0475 | -0.0008 | -0.0281 | -0.0019 | -0.0051 | -0.0276 | ???     | \n",
       "| 10096T:10096T | -0.0016 |  0.0097 |  0.0171 | -0.0107 | -0.0083 |  0.0372 |  0.0113 | -0.0149 |  0.0086 | -0.0340 | ???     | \n",
       "| 10168S:10168S | -0.0017 | -0.0144 |  0.0457 |  0.0035 |  0.0015 |  0.0246 | -0.0168 |  0.0201 | -0.0078 | -0.0347 | ???     | \n",
       "| 10181K:10181K |  0.0201 |  0.0036 | -0.0038 | -0.0205 | -0.0154 |  0.0017 |  0.0070 | -0.0093 |  0.0077 | -0.0082 | ???     | \n",
       "| 10185S:10185S |  0.0149 |  0.0061 | -0.0096 |  0.0051 | -0.0058 |  0.0043 |  0.0061 |  0.0253 | -0.0160 |  0.0037 | ???     | \n",
       "\n",
       "\n"
      ],
      "text/plain": [
       "              V2      V3      V4      V5      V6      V7      V8      V9     \n",
       "10067M:10067M -0.0522  0.0005  0.0581 -0.0003 -0.0475 -0.0008 -0.0281 -0.0019\n",
       "10096T:10096T -0.0016  0.0097  0.0171 -0.0107 -0.0083  0.0372  0.0113 -0.0149\n",
       "10168S:10168S -0.0017 -0.0144  0.0457  0.0035  0.0015  0.0246 -0.0168  0.0201\n",
       "10181K:10181K  0.0201  0.0036 -0.0038 -0.0205 -0.0154  0.0017  0.0070 -0.0093\n",
       "10185S:10185S  0.0149  0.0061 -0.0096  0.0051 -0.0058  0.0043  0.0061  0.0253\n",
       "              V10     V11     V12\n",
       "10067M:10067M -0.0051 -0.0276 ???\n",
       "10096T:10096T  0.0086 -0.0340 ???\n",
       "10168S:10168S -0.0078 -0.0347 ???\n",
       "10181K:10181K  0.0077 -0.0082 ???\n",
       "10185S:10185S -0.0160  0.0037 ???"
      ]
     },
     "metadata": {},
     "output_type": "display_data"
    }
   ],
   "source": [
    "## R console ##\n",
    "# Load PCA data\n",
    "setwd(dir = \"C:/Users/jmarks/Desktop/Projects/Nicotine/COPDGene/copdgene1/eigenstrat/\")\n",
    "options(stringsAsFactors=F)\n",
    "ea.evec <- read.table(\"ea_ld_pruned.pca.evec\",\n",
    "                      comment.char=\"#\", sep=\"\", row.names=1)\n",
    "aa.evec <- read.table(\"aa_ld_pruned.pca.evec\",\n",
    "                      comment.char=\"#\", sep=\"\", row.names=1)\n",
    "print(\"ea table\")\n",
    "ea.evec[1:5,]\n",
    "print(\"aa table\")\n",
    "aa.evec[1:5,]"
   ]
  },
  {
   "cell_type": "code",
   "execution_count": 109,
   "metadata": {},
   "outputs": [
    {
     "data": {
      "text/html": [
       "2549"
      ],
      "text/latex": [
       "2549"
      ],
      "text/markdown": [
       "2549"
      ],
      "text/plain": [
       "[1] 2549"
      ]
     },
     "metadata": {},
     "output_type": "display_data"
    },
    {
     "data": {
      "text/html": [
       "2534"
      ],
      "text/latex": [
       "2534"
      ],
      "text/markdown": [
       "2534"
      ],
      "text/plain": [
       "[1] 2534"
      ]
     },
     "metadata": {},
     "output_type": "display_data"
    }
   ],
   "source": [
    "length(ea.evec[,11])\n",
    "length(aa.evec[,11])"
   ]
  },
  {
   "cell_type": "code",
   "execution_count": 110,
   "metadata": {},
   "outputs": [
    {
     "data": {
      "image/png": "[encoded data removed]",
      "text/plain": [
       "Plot with title \"COPDGene1 EA\""
      ]
     },
     "metadata": {},
     "output_type": "display_data"
    },
    {
     "data": {
      "image/png": "[encoded data removed]",
      "text/plain": [
       "Plot with title \"COPDGene1 EA\""
      ]
     },
     "metadata": {},
     "output_type": "display_data"
    },
    {
     "data": {
      "image/png": "[encoded data removed]",
      "text/plain": [
       "Plot with title \"COPDGene1 AA\""
      ]
     },
     "metadata": {},
     "output_type": "display_data"
    },
    {
     "data": {
      "image/png": "[encoded data removed]",
      "text/plain": [
       "Plot with title \"COPDGene1 AA\""
      ]
     },
     "metadata": {},
     "output_type": "display_data"
    }
   ],
   "source": [
    "### R console ###\n",
    "\n",
    "# Function for plotting off-diagonal scatterplots\n",
    "plot.offdiag <- function(x, y, colors=label.colors){\n",
    "    #Make x and y axes equal\n",
    "    limits <- c(min(x,y), max(x,y)) * 1.3\n",
    "    par(usr = c(limits, limits))\n",
    "    points(x,y, col=colors, pch=16)\n",
    "}\n",
    "\n",
    "# Function for plotting diagonal density plots\n",
    "plot.diag <- function(x, colors=label.colors){\n",
    "    d <- density(x, bw=0.01, kernel=\"gaussian\")\n",
    "    #Update plot axes limits\n",
    "    par(usr = c(range(d$x), range(d$y)*1.3))\n",
    "    points(d$x,d$y, type=\"l\")\n",
    "    #Add PC values\n",
    "    points(x=x, y=jitter(rep(mean(d$y),times=d$n),factor=5), col=label.colors, pch=16)\n",
    "}\n",
    "\n",
    "#Run PCA and get % variance/\n",
    "ea.dspace <- ea.evec[1:10] #transformed dataspace\n",
    "aa.dspace <- aa.evec[1:10] #transformed dataspace\n",
    "\n",
    "#Color label samples\n",
    "sample.names <- ea.evec[,11]\n",
    "label.colors <- rgb(0,80,190,80, maxColorValue=255) #blue\n",
    "\n",
    "options(repr.plot.width=8, repr.plot.height=8)\n",
    "#Redefine outer margin\n",
    "par(oma = c(4, 1, 2, 1))\n",
    "pairs(x=ea.dspace[,1:5], panel=plot.offdiag, diag.panel=plot.diag, \n",
    "      labels=paste0(\"PC\",1:5), label.pos=0.9, cex.labels=1.8)\n",
    "par(fig=c(0, 1, 0, 1), oma=c(0, 0, 0, 0), mar=c(0, 0, 1.5, 0), new=TRUE)\n",
    "plot(0, 0, type = \"n\", bty = \"n\", xaxt = \"n\", yaxt = \"n\", main=\"COPDGene1 EA\", cex.main=1)\n",
    "\n",
    "par(oma = c(4, 1, 2, 1))\n",
    "pairs(x=ea.dspace[,6:10], panel=plot.offdiag, diag.panel=plot.diag, \n",
    "      labels=paste0(\"PC\",6:10), label.pos=0.9, cex.labels=1.8)\n",
    "par(fig=c(0, 1, 0, 1), oma=c(0, 0, 0, 0), mar=c(0, 0, 1.5, 0), new=TRUE)\n",
    "plot(0, 0, type = \"n\", bty = \"n\", xaxt = \"n\", yaxt = \"n\", main=\"COPDGene1 EA\", cex.main=1)\n",
    "\n",
    "par(oma = c(4, 1, 2, 1))\n",
    "pairs(x=aa.dspace[,1:5], panel=plot.offdiag, diag.panel=plot.diag, \n",
    "      labels=paste0(\"PC\",1:5), label.pos=0.9, cex.labels=1.8)\n",
    "par(fig=c(0, 1, 0, 1), oma=c(0, 0, 0, 0), mar=c(0, 0, 1.5, 0), new=TRUE)\n",
    "plot(0, 0, type = \"n\", bty = \"n\", xaxt = \"n\", yaxt = \"n\", main=\"COPDGene1 AA\", cex.main=1)\n",
    "\n",
    "par(oma = c(4, 1, 2, 1))\n",
    "pairs(x=aa.dspace[,6:10], panel=plot.offdiag, diag.panel=plot.diag, \n",
    "      labels=paste0(\"PC\",6:10), label.pos=0.9, cex.labels=1.8)\n",
    "par(fig=c(0, 1, 0, 1), oma=c(0, 0, 0, 0), mar=c(0, 0, 1.5, 0), new=TRUE)\n",
    "plot(0, 0, type = \"n\", bty = \"n\", xaxt = \"n\", yaxt = \"n\", main=\"COPDGene1 AA\", cex.main=1)\n"
   ]
  },
  {
   "cell_type": "markdown",
   "metadata": {},
   "source": [
    "#### Extract eigenvectors"
   ]
  },
  {
   "cell_type": "code",
   "execution_count": null,
   "metadata": {},
   "outputs": [],
   "source": [
    "## EC2 ##\n",
    "cd /shared/s3/copdgene1/eigenstrat/results\n",
    "\n",
    "# Grab top 10 eigenvectors from PCA \n",
    "for ancestry in {\"ea\",\"aa\"}; do\n",
    "    # Extract eigenvectors\n",
    "    echo \"FID IID EV1 EV2 EV3 EV4 EV5 EV6 EV7 EV8 EV9 EV10\" > ${ancestry}_ld_pruned_top10_eigenvecs.txt\n",
    "    tail -n +2 ${ancestry}_ld_pruned.pca.evec | \\\n",
    "        perl -lne 's/:/ /; @F=split; print join(\" \",$F[0],$F[1],$F[2],$F[3],$F[4],$F[5],$F[6],$F[7],$F[8],$F[9],$F[10],$F[11]);' \\\n",
    "        >> ${ancestry}_ld_pruned_top10_eigenvecs.txt\n",
    "done"
   ]
  },
  {
   "cell_type": "markdown",
   "metadata": {},
   "source": [
    "### EA PC Selection\n",
    "Determine which PCs (eigenvectors) contribute the most influence and include them in the GWAS as covariates. Include the PCs which contribute to at least %75 of the variance.\n",
    "\n",
    "**Note**: we will perform this on our local machine for convenience."
   ]
  },
  {
   "cell_type": "code",
   "execution_count": null,
   "metadata": {},
   "outputs": [],
   "source": [
    "## local machine ##\n",
    "cd /cygdrive/c/Users/jmarks/Desktop/Projects/Nicotine/COPDGene/copdgene1/eigenstrat\n",
    "scp -i ~/.ssh/gwas_rsa ec2-user@35.171.207.199:/shared/s3/copdgene1/eigenstrat/results/ea_ld_pruned_top10_eigenvecs.txt .\n",
    "scp -i ~/.ssh/gwas_rsa ec2-user@35.171.207.199:/shared/s3/copdgene1/eigenstrat/results/aa_ld_pruned_top10_eigenvecs.txt ."
   ]
  },
  {
   "cell_type": "markdown",
   "metadata": {},
   "source": [
    "#### Create PED files \n",
    "The covariates we want to include are `sex`,`age`, and `gold status` and some of the most influential PCs. Sex is encoded as 1=Male and 2=Female in these phenotype data. Here we create the `phen` and `cov` PED files so that downstream processing will be easier. Specifically, creating the PED files will make it easier to select the PCs that explain $\\sim75\\%$ of the variance."
   ]
  },
  {
   "cell_type": "code",
   "execution_count": null,
   "metadata": {},
   "outputs": [],
   "source": [
    "# split phenotype file up by race\n",
    "cd /cygdrive/c/Users/jmarks/Desktop/Projects/Nicotine/COPDGene/copdgene1/pheno/one\n",
    "\n",
    "head -n 1 phenotype.ftnd.fg.sex.age1.filtered.txt > ea.phenotype.data\n",
    "awk 'NR>=2 {if ($3==1) {print $0}}' phenotype.ftnd.fg.sex.age1.filtered.txt >> ea.phenotype.data"
   ]
  },
  {
   "cell_type": "code",
   "execution_count": 113,
   "metadata": {},
   "outputs": [
    {
     "data": {
      "text/html": [
       "<table>\n",
       "<thead><tr><th scope=col>sid</th><th scope=col>gender</th><th scope=col>race</th><th scope=col>age_p1</th><th scope=col>CurFTND_cat_p1</th><th scope=col>Goldneg1</th><th scope=col>Gold1or2</th><th scope=col>Gold3or4</th></tr></thead>\n",
       "<tbody>\n",
       "\t<tr><td>10008W</td><td>1     </td><td>1     </td><td>55.1  </td><td>0     </td><td>1     </td><td>0     </td><td>0     </td></tr>\n",
       "\t<tr><td>10248Q</td><td>1     </td><td>1     </td><td>66.9  </td><td>2     </td><td>1     </td><td>0     </td><td>0     </td></tr>\n",
       "\t<tr><td>10521I</td><td>2     </td><td>1     </td><td>53.3  </td><td>1     </td><td>1     </td><td>0     </td><td>0     </td></tr>\n",
       "\t<tr><td>10604M</td><td>2     </td><td>1     </td><td>64.9  </td><td>1     </td><td>1     </td><td>0     </td><td>0     </td></tr>\n",
       "\t<tr><td>10705S</td><td>2     </td><td>1     </td><td>70.6  </td><td>0     </td><td>1     </td><td>0     </td><td>0     </td></tr>\n",
       "\t<tr><td>10918J</td><td>2     </td><td>1     </td><td>54.0  </td><td>1     </td><td>1     </td><td>0     </td><td>0     </td></tr>\n",
       "</tbody>\n",
       "</table>\n"
      ],
      "text/latex": [
       "\\begin{tabular}{r|llllllll}\n",
       " sid & gender & race & age\\_p1 & CurFTND\\_cat\\_p1 & Goldneg1 & Gold1or2 & Gold3or4\\\\\n",
       "\\hline\n",
       "\t 10008W & 1      & 1      & 55.1   & 0      & 1      & 0      & 0     \\\\\n",
       "\t 10248Q & 1      & 1      & 66.9   & 2      & 1      & 0      & 0     \\\\\n",
       "\t 10521I & 2      & 1      & 53.3   & 1      & 1      & 0      & 0     \\\\\n",
       "\t 10604M & 2      & 1      & 64.9   & 1      & 1      & 0      & 0     \\\\\n",
       "\t 10705S & 2      & 1      & 70.6   & 0      & 1      & 0      & 0     \\\\\n",
       "\t 10918J & 2      & 1      & 54.0   & 1      & 1      & 0      & 0     \\\\\n",
       "\\end{tabular}\n"
      ],
      "text/markdown": [
       "\n",
       "sid | gender | race | age_p1 | CurFTND_cat_p1 | Goldneg1 | Gold1or2 | Gold3or4 | \n",
       "|---|---|---|---|---|---|\n",
       "| 10008W | 1      | 1      | 55.1   | 0      | 1      | 0      | 0      | \n",
       "| 10248Q | 1      | 1      | 66.9   | 2      | 1      | 0      | 0      | \n",
       "| 10521I | 2      | 1      | 53.3   | 1      | 1      | 0      | 0      | \n",
       "| 10604M | 2      | 1      | 64.9   | 1      | 1      | 0      | 0      | \n",
       "| 10705S | 2      | 1      | 70.6   | 0      | 1      | 0      | 0      | \n",
       "| 10918J | 2      | 1      | 54.0   | 1      | 1      | 0      | 0      | \n",
       "\n",
       "\n"
      ],
      "text/plain": [
       "  sid    gender race age_p1 CurFTND_cat_p1 Goldneg1 Gold1or2 Gold3or4\n",
       "1 10008W 1      1    55.1   0              1        0        0       \n",
       "2 10248Q 1      1    66.9   2              1        0        0       \n",
       "3 10521I 2      1    53.3   1              1        0        0       \n",
       "4 10604M 2      1    64.9   1              1        0        0       \n",
       "5 10705S 2      1    70.6   0              1        0        0       \n",
       "6 10918J 2      1    54.0   1              1        0        0       "
      ]
     },
     "metadata": {},
     "output_type": "display_data"
    },
    {
     "data": {
      "text/html": [
       "<table>\n",
       "<thead><tr><th scope=col>FID</th><th scope=col>IID</th><th scope=col>EV1</th><th scope=col>EV2</th><th scope=col>EV3</th><th scope=col>EV4</th><th scope=col>EV5</th><th scope=col>EV6</th><th scope=col>EV7</th><th scope=col>EV8</th><th scope=col>EV9</th><th scope=col>EV10</th></tr></thead>\n",
       "<tbody>\n",
       "\t<tr><td>10005Q </td><td>10005Q </td><td>0.0069 </td><td>-0.0087</td><td>-0.0074</td><td>-0.0020</td><td> 0.0318</td><td>0.0029 </td><td>-0.0141</td><td>-0.0055</td><td>-0.0185</td><td> 0.0034</td></tr>\n",
       "\t<tr><td>10010J </td><td>10010J </td><td>0.0032 </td><td>-0.0020</td><td>-0.0054</td><td>-0.0084</td><td>-0.0010</td><td>0.0081 </td><td>-0.0040</td><td> 0.0102</td><td> 0.0108</td><td>-0.0121</td></tr>\n",
       "\t<tr><td>10028C </td><td>10028C </td><td>0.0153 </td><td> 0.0770</td><td>-0.0096</td><td> 0.0042</td><td> 0.0180</td><td>0.0175 </td><td> 0.0048</td><td>-0.0103</td><td>-0.0081</td><td>-0.0073</td></tr>\n",
       "\t<tr><td>10031R </td><td>10031R </td><td>0.0139 </td><td>-0.0105</td><td>-0.0052</td><td>-0.0039</td><td> 0.0176</td><td>0.0110 </td><td> 0.0111</td><td>-0.0232</td><td> 0.0360</td><td> 0.0044</td></tr>\n",
       "\t<tr><td>10041U </td><td>10041U </td><td>0.0112 </td><td>-0.0091</td><td>-0.0063</td><td>-0.0066</td><td>-0.0127</td><td>0.0153 </td><td>-0.0070</td><td> 0.0121</td><td>-0.0068</td><td> 0.0036</td></tr>\n",
       "\t<tr><td>10051X </td><td>10051X </td><td>0.0176 </td><td>-0.0251</td><td>-0.0130</td><td> 0.0129</td><td>-0.0201</td><td>0.0594 </td><td>-0.0257</td><td> 0.0074</td><td> 0.0070</td><td>-0.0115</td></tr>\n",
       "</tbody>\n",
       "</table>\n"
      ],
      "text/latex": [
       "\\begin{tabular}{r|llllllllllll}\n",
       " FID & IID & EV1 & EV2 & EV3 & EV4 & EV5 & EV6 & EV7 & EV8 & EV9 & EV10\\\\\n",
       "\\hline\n",
       "\t 10005Q  & 10005Q  & 0.0069  & -0.0087 & -0.0074 & -0.0020 &  0.0318 & 0.0029  & -0.0141 & -0.0055 & -0.0185 &  0.0034\\\\\n",
       "\t 10010J  & 10010J  & 0.0032  & -0.0020 & -0.0054 & -0.0084 & -0.0010 & 0.0081  & -0.0040 &  0.0102 &  0.0108 & -0.0121\\\\\n",
       "\t 10028C  & 10028C  & 0.0153  &  0.0770 & -0.0096 &  0.0042 &  0.0180 & 0.0175  &  0.0048 & -0.0103 & -0.0081 & -0.0073\\\\\n",
       "\t 10031R  & 10031R  & 0.0139  & -0.0105 & -0.0052 & -0.0039 &  0.0176 & 0.0110  &  0.0111 & -0.0232 &  0.0360 &  0.0044\\\\\n",
       "\t 10041U  & 10041U  & 0.0112  & -0.0091 & -0.0063 & -0.0066 & -0.0127 & 0.0153  & -0.0070 &  0.0121 & -0.0068 &  0.0036\\\\\n",
       "\t 10051X  & 10051X  & 0.0176  & -0.0251 & -0.0130 &  0.0129 & -0.0201 & 0.0594  & -0.0257 &  0.0074 &  0.0070 & -0.0115\\\\\n",
       "\\end{tabular}\n"
      ],
      "text/markdown": [
       "\n",
       "FID | IID | EV1 | EV2 | EV3 | EV4 | EV5 | EV6 | EV7 | EV8 | EV9 | EV10 | \n",
       "|---|---|---|---|---|---|\n",
       "| 10005Q  | 10005Q  | 0.0069  | -0.0087 | -0.0074 | -0.0020 |  0.0318 | 0.0029  | -0.0141 | -0.0055 | -0.0185 |  0.0034 | \n",
       "| 10010J  | 10010J  | 0.0032  | -0.0020 | -0.0054 | -0.0084 | -0.0010 | 0.0081  | -0.0040 |  0.0102 |  0.0108 | -0.0121 | \n",
       "| 10028C  | 10028C  | 0.0153  |  0.0770 | -0.0096 |  0.0042 |  0.0180 | 0.0175  |  0.0048 | -0.0103 | -0.0081 | -0.0073 | \n",
       "| 10031R  | 10031R  | 0.0139  | -0.0105 | -0.0052 | -0.0039 |  0.0176 | 0.0110  |  0.0111 | -0.0232 |  0.0360 |  0.0044 | \n",
       "| 10041U  | 10041U  | 0.0112  | -0.0091 | -0.0063 | -0.0066 | -0.0127 | 0.0153  | -0.0070 |  0.0121 | -0.0068 |  0.0036 | \n",
       "| 10051X  | 10051X  | 0.0176  | -0.0251 | -0.0130 |  0.0129 | -0.0201 | 0.0594  | -0.0257 |  0.0074 |  0.0070 | -0.0115 | \n",
       "\n",
       "\n"
      ],
      "text/plain": [
       "  FID    IID    EV1    EV2     EV3     EV4     EV5     EV6    EV7     EV8    \n",
       "1 10005Q 10005Q 0.0069 -0.0087 -0.0074 -0.0020  0.0318 0.0029 -0.0141 -0.0055\n",
       "2 10010J 10010J 0.0032 -0.0020 -0.0054 -0.0084 -0.0010 0.0081 -0.0040  0.0102\n",
       "3 10028C 10028C 0.0153  0.0770 -0.0096  0.0042  0.0180 0.0175  0.0048 -0.0103\n",
       "4 10031R 10031R 0.0139 -0.0105 -0.0052 -0.0039  0.0176 0.0110  0.0111 -0.0232\n",
       "5 10041U 10041U 0.0112 -0.0091 -0.0063 -0.0066 -0.0127 0.0153 -0.0070  0.0121\n",
       "6 10051X 10051X 0.0176 -0.0251 -0.0130  0.0129 -0.0201 0.0594 -0.0257  0.0074\n",
       "  EV9     EV10   \n",
       "1 -0.0185  0.0034\n",
       "2  0.0108 -0.0121\n",
       "3 -0.0081 -0.0073\n",
       "4  0.0360  0.0044\n",
       "5 -0.0068  0.0036\n",
       "6  0.0070 -0.0115"
      ]
     },
     "metadata": {},
     "output_type": "display_data"
    },
    {
     "data": {
      "text/html": [
       "<table>\n",
       "<thead><tr><th scope=col>fid</th><th scope=col>iid</th><th scope=col>patid</th><th scope=col>matid</th><th scope=col>sex</th><th scope=col>age</th><th scope=col>goldneg1</th><th scope=col>gold1or2</th><th scope=col>gold3or4</th><th scope=col>ftnd</th></tr></thead>\n",
       "<tbody>\n",
       "\t<tr><td>10005Q</td><td>10005Q</td><td>NA    </td><td>NA    </td><td>2     </td><td>54.5  </td><td>0     </td><td>0     </td><td>0     </td><td>1     </td></tr>\n",
       "\t<tr><td>10010J</td><td>10010J</td><td>NA    </td><td>NA    </td><td>2     </td><td>65.9  </td><td>0     </td><td>0     </td><td>1     </td><td>0     </td></tr>\n",
       "\t<tr><td>10028C</td><td>10028C</td><td>NA    </td><td>NA    </td><td>1     </td><td>61.8  </td><td>0     </td><td>1     </td><td>0     </td><td>0     </td></tr>\n",
       "\t<tr><td>10031R</td><td>10031R</td><td>NA    </td><td>NA    </td><td>1     </td><td>60.9  </td><td>0     </td><td>1     </td><td>0     </td><td>1     </td></tr>\n",
       "\t<tr><td>10041U</td><td>10041U</td><td>NA    </td><td>NA    </td><td>1     </td><td>63.4  </td><td>0     </td><td>0     </td><td>1     </td><td>0     </td></tr>\n",
       "\t<tr><td>10051X</td><td>10051X</td><td>NA    </td><td>NA    </td><td>2     </td><td>54.3  </td><td>0     </td><td>1     </td><td>0     </td><td>1     </td></tr>\n",
       "</tbody>\n",
       "</table>\n"
      ],
      "text/latex": [
       "\\begin{tabular}{r|llllllllll}\n",
       " fid & iid & patid & matid & sex & age & goldneg1 & gold1or2 & gold3or4 & ftnd\\\\\n",
       "\\hline\n",
       "\t 10005Q & 10005Q & NA     & NA     & 2      & 54.5   & 0      & 0      & 0      & 1     \\\\\n",
       "\t 10010J & 10010J & NA     & NA     & 2      & 65.9   & 0      & 0      & 1      & 0     \\\\\n",
       "\t 10028C & 10028C & NA     & NA     & 1      & 61.8   & 0      & 1      & 0      & 0     \\\\\n",
       "\t 10031R & 10031R & NA     & NA     & 1      & 60.9   & 0      & 1      & 0      & 1     \\\\\n",
       "\t 10041U & 10041U & NA     & NA     & 1      & 63.4   & 0      & 0      & 1      & 0     \\\\\n",
       "\t 10051X & 10051X & NA     & NA     & 2      & 54.3   & 0      & 1      & 0      & 1     \\\\\n",
       "\\end{tabular}\n"
      ],
      "text/markdown": [
       "\n",
       "fid | iid | patid | matid | sex | age | goldneg1 | gold1or2 | gold3or4 | ftnd | \n",
       "|---|---|---|---|---|---|\n",
       "| 10005Q | 10005Q | NA     | NA     | 2      | 54.5   | 0      | 0      | 0      | 1      | \n",
       "| 10010J | 10010J | NA     | NA     | 2      | 65.9   | 0      | 0      | 1      | 0      | \n",
       "| 10028C | 10028C | NA     | NA     | 1      | 61.8   | 0      | 1      | 0      | 0      | \n",
       "| 10031R | 10031R | NA     | NA     | 1      | 60.9   | 0      | 1      | 0      | 1      | \n",
       "| 10041U | 10041U | NA     | NA     | 1      | 63.4   | 0      | 0      | 1      | 0      | \n",
       "| 10051X | 10051X | NA     | NA     | 2      | 54.3   | 0      | 1      | 0      | 1      | \n",
       "\n",
       "\n"
      ],
      "text/plain": [
       "  fid    iid    patid matid sex age  goldneg1 gold1or2 gold3or4 ftnd\n",
       "1 10005Q 10005Q NA    NA    2   54.5 0        0        0        1   \n",
       "2 10010J 10010J NA    NA    2   65.9 0        0        1        0   \n",
       "3 10028C 10028C NA    NA    1   61.8 0        1        0        0   \n",
       "4 10031R 10031R NA    NA    1   60.9 0        1        0        1   \n",
       "5 10041U 10041U NA    NA    1   63.4 0        0        1        0   \n",
       "6 10051X 10051X NA    NA    2   54.3 0        1        0        1   "
      ]
     },
     "metadata": {},
     "output_type": "display_data"
    },
    {
     "data": {
      "text/html": [
       "<table>\n",
       "<thead><tr><th scope=col>fid</th><th scope=col>iid</th><th scope=col>patid</th><th scope=col>matid</th><th scope=col>sex</th><th scope=col>age</th><th scope=col>goldneg1</th><th scope=col>gold1or2</th><th scope=col>gold3or4</th><th scope=col>PC1</th><th scope=col>PC2</th><th scope=col>PC3</th><th scope=col>PC4</th><th scope=col>PC5</th><th scope=col>PC6</th><th scope=col>PC7</th><th scope=col>PC8</th><th scope=col>PC9</th><th scope=col>PC10</th></tr></thead>\n",
       "<tbody>\n",
       "\t<tr><td>10005Q </td><td>10005Q </td><td>NA     </td><td>NA     </td><td>2      </td><td>54.5   </td><td>0      </td><td>0      </td><td>0      </td><td>0.0069 </td><td>-0.0087</td><td>-0.0074</td><td>-0.0020</td><td> 0.0318</td><td>0.0029 </td><td>-0.0141</td><td>-0.0055</td><td>-0.0185</td><td> 0.0034</td></tr>\n",
       "\t<tr><td>10010J </td><td>10010J </td><td>NA     </td><td>NA     </td><td>2      </td><td>65.9   </td><td>0      </td><td>0      </td><td>1      </td><td>0.0032 </td><td>-0.0020</td><td>-0.0054</td><td>-0.0084</td><td>-0.0010</td><td>0.0081 </td><td>-0.0040</td><td> 0.0102</td><td> 0.0108</td><td>-0.0121</td></tr>\n",
       "\t<tr><td>10028C </td><td>10028C </td><td>NA     </td><td>NA     </td><td>1      </td><td>61.8   </td><td>0      </td><td>1      </td><td>0      </td><td>0.0153 </td><td> 0.0770</td><td>-0.0096</td><td> 0.0042</td><td> 0.0180</td><td>0.0175 </td><td> 0.0048</td><td>-0.0103</td><td>-0.0081</td><td>-0.0073</td></tr>\n",
       "\t<tr><td>10031R </td><td>10031R </td><td>NA     </td><td>NA     </td><td>1      </td><td>60.9   </td><td>0      </td><td>1      </td><td>0      </td><td>0.0139 </td><td>-0.0105</td><td>-0.0052</td><td>-0.0039</td><td> 0.0176</td><td>0.0110 </td><td> 0.0111</td><td>-0.0232</td><td> 0.0360</td><td> 0.0044</td></tr>\n",
       "\t<tr><td>10041U </td><td>10041U </td><td>NA     </td><td>NA     </td><td>1      </td><td>63.4   </td><td>0      </td><td>0      </td><td>1      </td><td>0.0112 </td><td>-0.0091</td><td>-0.0063</td><td>-0.0066</td><td>-0.0127</td><td>0.0153 </td><td>-0.0070</td><td> 0.0121</td><td>-0.0068</td><td> 0.0036</td></tr>\n",
       "\t<tr><td>10051X </td><td>10051X </td><td>NA     </td><td>NA     </td><td>2      </td><td>54.3   </td><td>0      </td><td>1      </td><td>0      </td><td>0.0176 </td><td>-0.0251</td><td>-0.0130</td><td> 0.0129</td><td>-0.0201</td><td>0.0594 </td><td>-0.0257</td><td> 0.0074</td><td> 0.0070</td><td>-0.0115</td></tr>\n",
       "</tbody>\n",
       "</table>\n"
      ],
      "text/latex": [
       "\\begin{tabular}{r|lllllllllllllllllll}\n",
       " fid & iid & patid & matid & sex & age & goldneg1 & gold1or2 & gold3or4 & PC1 & PC2 & PC3 & PC4 & PC5 & PC6 & PC7 & PC8 & PC9 & PC10\\\\\n",
       "\\hline\n",
       "\t 10005Q  & 10005Q  & NA      & NA      & 2       & 54.5    & 0       & 0       & 0       & 0.0069  & -0.0087 & -0.0074 & -0.0020 &  0.0318 & 0.0029  & -0.0141 & -0.0055 & -0.0185 &  0.0034\\\\\n",
       "\t 10010J  & 10010J  & NA      & NA      & 2       & 65.9    & 0       & 0       & 1       & 0.0032  & -0.0020 & -0.0054 & -0.0084 & -0.0010 & 0.0081  & -0.0040 &  0.0102 &  0.0108 & -0.0121\\\\\n",
       "\t 10028C  & 10028C  & NA      & NA      & 1       & 61.8    & 0       & 1       & 0       & 0.0153  &  0.0770 & -0.0096 &  0.0042 &  0.0180 & 0.0175  &  0.0048 & -0.0103 & -0.0081 & -0.0073\\\\\n",
       "\t 10031R  & 10031R  & NA      & NA      & 1       & 60.9    & 0       & 1       & 0       & 0.0139  & -0.0105 & -0.0052 & -0.0039 &  0.0176 & 0.0110  &  0.0111 & -0.0232 &  0.0360 &  0.0044\\\\\n",
       "\t 10041U  & 10041U  & NA      & NA      & 1       & 63.4    & 0       & 0       & 1       & 0.0112  & -0.0091 & -0.0063 & -0.0066 & -0.0127 & 0.0153  & -0.0070 &  0.0121 & -0.0068 &  0.0036\\\\\n",
       "\t 10051X  & 10051X  & NA      & NA      & 2       & 54.3    & 0       & 1       & 0       & 0.0176  & -0.0251 & -0.0130 &  0.0129 & -0.0201 & 0.0594  & -0.0257 &  0.0074 &  0.0070 & -0.0115\\\\\n",
       "\\end{tabular}\n"
      ],
      "text/markdown": [
       "\n",
       "fid | iid | patid | matid | sex | age | goldneg1 | gold1or2 | gold3or4 | PC1 | PC2 | PC3 | PC4 | PC5 | PC6 | PC7 | PC8 | PC9 | PC10 | \n",
       "|---|---|---|---|---|---|\n",
       "| 10005Q  | 10005Q  | NA      | NA      | 2       | 54.5    | 0       | 0       | 0       | 0.0069  | -0.0087 | -0.0074 | -0.0020 |  0.0318 | 0.0029  | -0.0141 | -0.0055 | -0.0185 |  0.0034 | \n",
       "| 10010J  | 10010J  | NA      | NA      | 2       | 65.9    | 0       | 0       | 1       | 0.0032  | -0.0020 | -0.0054 | -0.0084 | -0.0010 | 0.0081  | -0.0040 |  0.0102 |  0.0108 | -0.0121 | \n",
       "| 10028C  | 10028C  | NA      | NA      | 1       | 61.8    | 0       | 1       | 0       | 0.0153  |  0.0770 | -0.0096 |  0.0042 |  0.0180 | 0.0175  |  0.0048 | -0.0103 | -0.0081 | -0.0073 | \n",
       "| 10031R  | 10031R  | NA      | NA      | 1       | 60.9    | 0       | 1       | 0       | 0.0139  | -0.0105 | -0.0052 | -0.0039 |  0.0176 | 0.0110  |  0.0111 | -0.0232 |  0.0360 |  0.0044 | \n",
       "| 10041U  | 10041U  | NA      | NA      | 1       | 63.4    | 0       | 0       | 1       | 0.0112  | -0.0091 | -0.0063 | -0.0066 | -0.0127 | 0.0153  | -0.0070 |  0.0121 | -0.0068 |  0.0036 | \n",
       "| 10051X  | 10051X  | NA      | NA      | 2       | 54.3    | 0       | 1       | 0       | 0.0176  | -0.0251 | -0.0130 |  0.0129 | -0.0201 | 0.0594  | -0.0257 |  0.0074 |  0.0070 | -0.0115 | \n",
       "\n",
       "\n"
      ],
      "text/plain": [
       "  fid    iid    patid matid sex age  goldneg1 gold1or2 gold3or4 PC1    PC2    \n",
       "1 10005Q 10005Q NA    NA    2   54.5 0        0        0        0.0069 -0.0087\n",
       "2 10010J 10010J NA    NA    2   65.9 0        0        1        0.0032 -0.0020\n",
       "3 10028C 10028C NA    NA    1   61.8 0        1        0        0.0153  0.0770\n",
       "4 10031R 10031R NA    NA    1   60.9 0        1        0        0.0139 -0.0105\n",
       "5 10041U 10041U NA    NA    1   63.4 0        0        1        0.0112 -0.0091\n",
       "6 10051X 10051X NA    NA    2   54.3 0        1        0        0.0176 -0.0251\n",
       "  PC3     PC4     PC5     PC6    PC7     PC8     PC9     PC10   \n",
       "1 -0.0074 -0.0020  0.0318 0.0029 -0.0141 -0.0055 -0.0185  0.0034\n",
       "2 -0.0054 -0.0084 -0.0010 0.0081 -0.0040  0.0102  0.0108 -0.0121\n",
       "3 -0.0096  0.0042  0.0180 0.0175  0.0048 -0.0103 -0.0081 -0.0073\n",
       "4 -0.0052 -0.0039  0.0176 0.0110  0.0111 -0.0232  0.0360  0.0044\n",
       "5 -0.0063 -0.0066 -0.0127 0.0153 -0.0070  0.0121 -0.0068  0.0036\n",
       "6 -0.0130  0.0129 -0.0201 0.0594 -0.0257  0.0074  0.0070 -0.0115"
      ]
     },
     "metadata": {},
     "output_type": "display_data"
    },
    {
     "data": {
      "text/html": [
       "2549"
      ],
      "text/latex": [
       "2549"
      ],
      "text/markdown": [
       "2549"
      ],
      "text/plain": [
       "[1] 2549"
      ]
     },
     "metadata": {},
     "output_type": "display_data"
    }
   ],
   "source": [
    "### R (local) ###\n",
    "\n",
    "setwd(\"C:/Users/jmarks/Desktop/Projects/Nicotine/COPDGene/copdgene1/pheno/one/\")\n",
    "p.data.ea <- \"ea.phenotype.data\"\n",
    "pheno.data.ea <- read.csv(p.data.ea, sep = \" \", header = T, stringsAsFactors = F, \n",
    "                       colClasses=c(\"character\", \"integer\", \"integer\",\"double\",\n",
    "                                    \"integer\",\"integer\",\"integer\", \"integer\"))\n",
    "head(pheno.data.ea)\n",
    "pca.data.ea <- read.csv(\"C:/Users/jmarks/Desktop/Projects/Nicotine/COPDGene/copdgene1/eigenstrat/ea_ld_pruned_top10_eigenvecs.txt\",\n",
    "                        sep = \" \" , header = T, \n",
    "                        colClasses=c(rep(\"character\",times=2), rep(\"double\",times = 10)))\n",
    "head(pca.data.ea)\n",
    "\n",
    "num.subjects.ea <- length(pca.data.ea[,1])\n",
    "\n",
    "header.names <- c(\"fid\", \"iid\", \"patid\", \"matid\", \"sex\", \"age\", \"goldneg1\", \"gold1or2\", \"gold3or4\", \"ftnd\")\n",
    "ped.file.ea <- data.frame(matrix(ncol = length(header.names), nrow = num.subjects.ea))\n",
    "colnames(ped.file.ea) <- header.names\n",
    "ped.file.ea[,1] <- pca.data.ea[,1]\n",
    "ped.file.ea[,2] <- pca.data.ea[,1] # will the iid be the same as the fid?\n",
    "\n",
    "# map loop (goal to fill in sex, age, ftnd, and gold status data on ped.file from the pheno.data)\n",
    "for (i in 1:num.subjects.ea){\n",
    "    key <- noquote(ped.file.ea[i,2])\n",
    "    \n",
    "    my_match <- match(key, pheno.data.ea[,1])\n",
    "    ped.file.ea[i,5] <- pheno.data.ea[my_match,2]# sex\n",
    "    ped.file.ea[i,6] <- pheno.data.ea[my_match,4] # age\n",
    "    ped.file.ea[i,7] <- pheno.data.ea[my_match,6] # goldneg1\n",
    "    ped.file.ea[i,8] <- pheno.data.ea[my_match,7] # gold1or2\n",
    "    ped.file.ea[i,9] <- pheno.data.ea[my_match,8] # gold3or4\n",
    "    ped.file.ea[i,10] <- pheno.data.ea[my_match,5] # ftnd\n",
    "    \n",
    "} # end i loop\n",
    "head(ped.file.ea)\n",
    "\n",
    "write.table(ped.file.ea, \"COPDGene1_EUR_phen.ped\", sep = \"\\t\", row.names = F, quote=F)\n",
    "\n",
    "#----------------------------------------------------------------------------------\n",
    "### Cov file\n",
    "\n",
    "# 10 PCs plus all of the covariates (exclude ftnd data)\n",
    "col.names.ea <- c(\"fid\", \"iid\", \"patid\", \"matid\", \"sex\", \"age\",\n",
    "                  \"goldneg1\", \"gold1or2\", \"gold3or4\", \"PC1\", \"PC2\",\n",
    "                  \"PC3\",\"PC4\",\"PC5\",\"PC6\",\"PC7\",\"PC8\",\"PC9\",\"PC10\")\n",
    "num.columns.ea <- length(col.names.ea)\n",
    "covar.data.ea <- data.frame(matrix(ncol = num.columns.ea, nrow = num.subjects.ea))\n",
    "names(covar.data.ea) <- col.names.ea\n",
    "num.covs.ea <- length(ped.file.ea) - 1\n",
    "covar.data.ea[,1:num.covs.ea] <- ped.file.ea[,1:num.covs.ea]\n",
    "\n",
    "covar.data.ea[,(num.covs.ea+1):length(col.names.ea)] <- pca.data.ea[,3:length(pca.data.ea)]\n",
    "\n",
    "head(covar.data.ea)\n",
    "length(covar.data.ea[,1])\n",
    "\n",
    "write.table(covar.data.ea, \"COPDGene1_EUR_cov.ped\", quote=FALSE, row.names = FALSE, sep = \"\\t\")"
   ]
  },
  {
   "cell_type": "code",
   "execution_count": 114,
   "metadata": {},
   "outputs": [
    {
     "data": {
      "text/html": [
       "<table>\n",
       "<thead><tr><th scope=col>iid</th><th scope=col>ftnd</th><th scope=col>PC1</th><th scope=col>PC2</th><th scope=col>PC3</th><th scope=col>PC4</th><th scope=col>PC5</th><th scope=col>PC6</th><th scope=col>PC7</th><th scope=col>PC8</th><th scope=col>PC9</th><th scope=col>PC10</th></tr></thead>\n",
       "<tbody>\n",
       "\t<tr><td>10005Q </td><td>1      </td><td>0.0069 </td><td>-0.0087</td><td>-0.0074</td><td>-0.0020</td><td> 0.0318</td><td>0.0029 </td><td>-0.0141</td><td>-0.0055</td><td>-0.0185</td><td> 0.0034</td></tr>\n",
       "\t<tr><td>10010J </td><td>0      </td><td>0.0032 </td><td>-0.0020</td><td>-0.0054</td><td>-0.0084</td><td>-0.0010</td><td>0.0081 </td><td>-0.0040</td><td> 0.0102</td><td> 0.0108</td><td>-0.0121</td></tr>\n",
       "\t<tr><td>10028C </td><td>0      </td><td>0.0153 </td><td> 0.0770</td><td>-0.0096</td><td> 0.0042</td><td> 0.0180</td><td>0.0175 </td><td> 0.0048</td><td>-0.0103</td><td>-0.0081</td><td>-0.0073</td></tr>\n",
       "\t<tr><td>10031R </td><td>1      </td><td>0.0139 </td><td>-0.0105</td><td>-0.0052</td><td>-0.0039</td><td> 0.0176</td><td>0.0110 </td><td> 0.0111</td><td>-0.0232</td><td> 0.0360</td><td> 0.0044</td></tr>\n",
       "\t<tr><td>10041U </td><td>0      </td><td>0.0112 </td><td>-0.0091</td><td>-0.0063</td><td>-0.0066</td><td>-0.0127</td><td>0.0153 </td><td>-0.0070</td><td> 0.0121</td><td>-0.0068</td><td> 0.0036</td></tr>\n",
       "\t<tr><td>10051X </td><td>1      </td><td>0.0176 </td><td>-0.0251</td><td>-0.0130</td><td> 0.0129</td><td>-0.0201</td><td>0.0594 </td><td>-0.0257</td><td> 0.0074</td><td> 0.0070</td><td>-0.0115</td></tr>\n",
       "</tbody>\n",
       "</table>\n"
      ],
      "text/latex": [
       "\\begin{tabular}{r|llllllllllll}\n",
       " iid & ftnd & PC1 & PC2 & PC3 & PC4 & PC5 & PC6 & PC7 & PC8 & PC9 & PC10\\\\\n",
       "\\hline\n",
       "\t 10005Q  & 1       & 0.0069  & -0.0087 & -0.0074 & -0.0020 &  0.0318 & 0.0029  & -0.0141 & -0.0055 & -0.0185 &  0.0034\\\\\n",
       "\t 10010J  & 0       & 0.0032  & -0.0020 & -0.0054 & -0.0084 & -0.0010 & 0.0081  & -0.0040 &  0.0102 &  0.0108 & -0.0121\\\\\n",
       "\t 10028C  & 0       & 0.0153  &  0.0770 & -0.0096 &  0.0042 &  0.0180 & 0.0175  &  0.0048 & -0.0103 & -0.0081 & -0.0073\\\\\n",
       "\t 10031R  & 1       & 0.0139  & -0.0105 & -0.0052 & -0.0039 &  0.0176 & 0.0110  &  0.0111 & -0.0232 &  0.0360 &  0.0044\\\\\n",
       "\t 10041U  & 0       & 0.0112  & -0.0091 & -0.0063 & -0.0066 & -0.0127 & 0.0153  & -0.0070 &  0.0121 & -0.0068 &  0.0036\\\\\n",
       "\t 10051X  & 1       & 0.0176  & -0.0251 & -0.0130 &  0.0129 & -0.0201 & 0.0594  & -0.0257 &  0.0074 &  0.0070 & -0.0115\\\\\n",
       "\\end{tabular}\n"
      ],
      "text/markdown": [
       "\n",
       "iid | ftnd | PC1 | PC2 | PC3 | PC4 | PC5 | PC6 | PC7 | PC8 | PC9 | PC10 | \n",
       "|---|---|---|---|---|---|\n",
       "| 10005Q  | 1       | 0.0069  | -0.0087 | -0.0074 | -0.0020 |  0.0318 | 0.0029  | -0.0141 | -0.0055 | -0.0185 |  0.0034 | \n",
       "| 10010J  | 0       | 0.0032  | -0.0020 | -0.0054 | -0.0084 | -0.0010 | 0.0081  | -0.0040 |  0.0102 |  0.0108 | -0.0121 | \n",
       "| 10028C  | 0       | 0.0153  |  0.0770 | -0.0096 |  0.0042 |  0.0180 | 0.0175  |  0.0048 | -0.0103 | -0.0081 | -0.0073 | \n",
       "| 10031R  | 1       | 0.0139  | -0.0105 | -0.0052 | -0.0039 |  0.0176 | 0.0110  |  0.0111 | -0.0232 |  0.0360 |  0.0044 | \n",
       "| 10041U  | 0       | 0.0112  | -0.0091 | -0.0063 | -0.0066 | -0.0127 | 0.0153  | -0.0070 |  0.0121 | -0.0068 |  0.0036 | \n",
       "| 10051X  | 1       | 0.0176  | -0.0251 | -0.0130 |  0.0129 | -0.0201 | 0.0594  | -0.0257 |  0.0074 |  0.0070 | -0.0115 | \n",
       "\n",
       "\n"
      ],
      "text/plain": [
       "  iid    ftnd PC1    PC2     PC3     PC4     PC5     PC6    PC7     PC8    \n",
       "1 10005Q 1    0.0069 -0.0087 -0.0074 -0.0020  0.0318 0.0029 -0.0141 -0.0055\n",
       "2 10010J 0    0.0032 -0.0020 -0.0054 -0.0084 -0.0010 0.0081 -0.0040  0.0102\n",
       "3 10028C 0    0.0153  0.0770 -0.0096  0.0042  0.0180 0.0175  0.0048 -0.0103\n",
       "4 10031R 1    0.0139 -0.0105 -0.0052 -0.0039  0.0176 0.0110  0.0111 -0.0232\n",
       "5 10041U 0    0.0112 -0.0091 -0.0063 -0.0066 -0.0127 0.0153 -0.0070  0.0121\n",
       "6 10051X 1    0.0176 -0.0251 -0.0130  0.0129 -0.0201 0.0594 -0.0257  0.0074\n",
       "  PC9     PC10   \n",
       "1 -0.0185  0.0034\n",
       "2  0.0108 -0.0121\n",
       "3 -0.0081 -0.0073\n",
       "4  0.0360  0.0044\n",
       "5 -0.0068  0.0036\n",
       "6  0.0070 -0.0115"
      ]
     },
     "metadata": {},
     "output_type": "display_data"
    }
   ],
   "source": [
    "### R console ###\n",
    "\n",
    "# Load PCA data\n",
    "setwd('C:/Users/jmarks/Desktop/Projects/Nicotine/COPDGene/copdgene1/pheno/one/')\n",
    "options(stringsAsFactors=F)\n",
    "ea.cov.data <- read.delim(\"COPDGene1_EUR_cov.ped\", header=T, sep=\"\\t\")\n",
    "ea.phen.data <- read.delim(\"COPDGene1_EUR_phen.ped\", header=T, sep=\"\\t\")\n",
    "\n",
    "# Combine PCs and phenotype into one data frame\n",
    "phen.name <- \"ftnd\"\n",
    "pc.names <- paste0(\"PC\", 1:10)\n",
    "ea.data <- merge(x=ea.phen.data[,c(\"iid\",phen.name)], y=ea.cov.data[, c(\"iid\", paste0(\"PC\",1:10))], by=\"iid\")\n",
    "head(ea.data)"
   ]
  },
  {
   "cell_type": "markdown",
   "metadata": {},
   "source": [
    "#### Regression analysis\n",
    "We use a regression model of the general structure $$\\begin{align}\n",
    "\\text{FTND = PC1 + PC2 + ... + PC10}\n",
    "\\end{align}$$"
   ]
  },
  {
   "cell_type": "code",
   "execution_count": 115,
   "metadata": {},
   "outputs": [
    {
     "name": "stdout",
     "output_type": "stream",
     "text": [
      "MODEL FORMULA:\n",
      "\n",
      " ftnd ~ PC1 + PC2 + PC3 + PC4 + PC5 + PC6 + PC7 + PC8 + PC9 + PC10 \n",
      "\n",
      "\n",
      "================ EA group ================"
     ]
    },
    {
     "data": {
      "text/plain": [
       "\n",
       "Call:\n",
       "lm(formula = as.formula(model.str), data = ea.data)\n",
       "\n",
       "Residuals:\n",
       "    Min      1Q  Median      3Q     Max \n",
       "-1.2618 -0.9335  0.0212  0.9707  1.1586 \n",
       "\n",
       "Coefficients:\n",
       "            Estimate Std. Error t value Pr(>|t|)    \n",
       "(Intercept)  0.97842    0.01483  65.964   <2e-16 ***\n",
       "PC1          0.38037    0.74884   0.508    0.612    \n",
       "PC2         -0.75472    0.74888  -1.008    0.314    \n",
       "PC3          1.86165    0.74885   2.486    0.013 *  \n",
       "PC4          0.46348    0.74889   0.619    0.536    \n",
       "PC5         -0.06664    0.74888  -0.089    0.929    \n",
       "PC6          0.29754    0.74888   0.397    0.691    \n",
       "PC7          0.53155    0.74886   0.710    0.478    \n",
       "PC8         -0.31581    0.74884  -0.422    0.673    \n",
       "PC9          0.85473    0.74887   1.141    0.254    \n",
       "PC10         0.95201    0.74890   1.271    0.204    \n",
       "---\n",
       "Signif. codes:  0 '***' 0.001 '**' 0.01 '*' 0.05 '.' 0.1 ' ' 1\n",
       "\n",
       "Residual standard error: 0.7489 on 2538 degrees of freedom\n",
       "Multiple R-squared:  0.004551,\tAdjusted R-squared:  0.0006292 \n",
       "F-statistic:  1.16 on 10 and 2538 DF,  p-value: 0.313\n"
      ]
     },
     "metadata": {},
     "output_type": "display_data"
    },
    {
     "data": {
      "text/html": [
       "<table>\n",
       "<thead><tr><th></th><th scope=col>Df</th><th scope=col>Sum Sq</th><th scope=col>Mean Sq</th><th scope=col>F value</th><th scope=col>Pr(&gt;F)</th><th scope=col>PVE</th></tr></thead>\n",
       "<tbody>\n",
       "\t<tr><th scope=row>PC3</th><td>1          </td><td>3.466383107</td><td>3.466383107</td><td>6.181160177</td><td>0.01297563 </td><td>53.27      </td></tr>\n",
       "\t<tr><th scope=row>PC10</th><td>1          </td><td>0.906230599</td><td>0.906230599</td><td>1.615965783</td><td>0.20377171 </td><td>13.93      </td></tr>\n",
       "\t<tr><th scope=row>PC9</th><td>1          </td><td>0.730654620</td><td>0.730654620</td><td>1.302883467</td><td>0.25379488 </td><td>11.23      </td></tr>\n",
       "\t<tr><th scope=row>PC2</th><td>1          </td><td>0.569673001</td><td>0.569673001</td><td>1.015825418</td><td>0.31360736 </td><td> 8.75      </td></tr>\n",
       "\t<tr><th scope=row>PC7</th><td>1          </td><td>0.282521909</td><td>0.282521909</td><td>0.503785392</td><td>0.47790676 </td><td> 4.34      </td></tr>\n",
       "\t<tr><th scope=row>PC4</th><td>1          </td><td>0.214779178</td><td>0.214779178</td><td>0.382988396</td><td>0.53606376 </td><td> 3.30      </td></tr>\n",
       "\t<tr><th scope=row>PC1</th><td>1          </td><td>0.144701465</td><td>0.144701465</td><td>0.258027721</td><td>0.61152253 </td><td> 2.22      </td></tr>\n",
       "\t<tr><th scope=row>PC8</th><td>1          </td><td>0.099731089</td><td>0.099731089</td><td>0.177837768</td><td>0.67327377 </td><td> 1.53      </td></tr>\n",
       "\t<tr><th scope=row>PC6</th><td>1          </td><td>0.088470325</td><td>0.088470325</td><td>0.157757880</td><td>0.69126263 </td><td> 1.36      </td></tr>\n",
       "\t<tr><th scope=row>PC5</th><td>1          </td><td>0.004445061</td><td>0.004445061</td><td>0.007926313</td><td>0.92906522 </td><td> 0.07      </td></tr>\n",
       "</tbody>\n",
       "</table>\n"
      ],
      "text/latex": [
       "\\begin{tabular}{r|llllll}\n",
       "  & Df & Sum Sq & Mean Sq & F value & Pr(>F) & PVE\\\\\n",
       "\\hline\n",
       "\tPC3 & 1           & 3.466383107 & 3.466383107 & 6.181160177 & 0.01297563  & 53.27      \\\\\n",
       "\tPC10 & 1           & 0.906230599 & 0.906230599 & 1.615965783 & 0.20377171  & 13.93      \\\\\n",
       "\tPC9 & 1           & 0.730654620 & 0.730654620 & 1.302883467 & 0.25379488  & 11.23      \\\\\n",
       "\tPC2 & 1           & 0.569673001 & 0.569673001 & 1.015825418 & 0.31360736  &  8.75      \\\\\n",
       "\tPC7 & 1           & 0.282521909 & 0.282521909 & 0.503785392 & 0.47790676  &  4.34      \\\\\n",
       "\tPC4 & 1           & 0.214779178 & 0.214779178 & 0.382988396 & 0.53606376  &  3.30      \\\\\n",
       "\tPC1 & 1           & 0.144701465 & 0.144701465 & 0.258027721 & 0.61152253  &  2.22      \\\\\n",
       "\tPC8 & 1           & 0.099731089 & 0.099731089 & 0.177837768 & 0.67327377  &  1.53      \\\\\n",
       "\tPC6 & 1           & 0.088470325 & 0.088470325 & 0.157757880 & 0.69126263  &  1.36      \\\\\n",
       "\tPC5 & 1           & 0.004445061 & 0.004445061 & 0.007926313 & 0.92906522  &  0.07      \\\\\n",
       "\\end{tabular}\n"
      ],
      "text/markdown": [
       "\n",
       "| <!--/--> | Df | Sum Sq | Mean Sq | F value | Pr(>F) | PVE | \n",
       "|---|---|---|---|---|---|---|---|---|---|\n",
       "| PC3 | 1           | 3.466383107 | 3.466383107 | 6.181160177 | 0.01297563  | 53.27       | \n",
       "| PC10 | 1           | 0.906230599 | 0.906230599 | 1.615965783 | 0.20377171  | 13.93       | \n",
       "| PC9 | 1           | 0.730654620 | 0.730654620 | 1.302883467 | 0.25379488  | 11.23       | \n",
       "| PC2 | 1           | 0.569673001 | 0.569673001 | 1.015825418 | 0.31360736  |  8.75       | \n",
       "| PC7 | 1           | 0.282521909 | 0.282521909 | 0.503785392 | 0.47790676  |  4.34       | \n",
       "| PC4 | 1           | 0.214779178 | 0.214779178 | 0.382988396 | 0.53606376  |  3.30       | \n",
       "| PC1 | 1           | 0.144701465 | 0.144701465 | 0.258027721 | 0.61152253  |  2.22       | \n",
       "| PC8 | 1           | 0.099731089 | 0.099731089 | 0.177837768 | 0.67327377  |  1.53       | \n",
       "| PC6 | 1           | 0.088470325 | 0.088470325 | 0.157757880 | 0.69126263  |  1.36       | \n",
       "| PC5 | 1           | 0.004445061 | 0.004445061 | 0.007926313 | 0.92906522  |  0.07       | \n",
       "\n",
       "\n"
      ],
      "text/plain": [
       "     Df Sum Sq      Mean Sq     F value     Pr(>F)     PVE  \n",
       "PC3  1  3.466383107 3.466383107 6.181160177 0.01297563 53.27\n",
       "PC10 1  0.906230599 0.906230599 1.615965783 0.20377171 13.93\n",
       "PC9  1  0.730654620 0.730654620 1.302883467 0.25379488 11.23\n",
       "PC2  1  0.569673001 0.569673001 1.015825418 0.31360736  8.75\n",
       "PC7  1  0.282521909 0.282521909 0.503785392 0.47790676  4.34\n",
       "PC4  1  0.214779178 0.214779178 0.382988396 0.53606376  3.30\n",
       "PC1  1  0.144701465 0.144701465 0.258027721 0.61152253  2.22\n",
       "PC8  1  0.099731089 0.099731089 0.177837768 0.67327377  1.53\n",
       "PC6  1  0.088470325 0.088470325 0.157757880 0.69126263  1.36\n",
       "PC5  1  0.004445061 0.004445061 0.007926313 0.92906522  0.07"
      ]
     },
     "metadata": {},
     "output_type": "display_data"
    }
   ],
   "source": [
    "# Build model formula\n",
    "model.str <- paste0(phen.name, \" ~ \", paste(pc.names, collapse=\" + \"))\n",
    "cat(\"MODEL FORMULA:\\n\\n\", model.str, \"\\n\")\n",
    "\n",
    "# Get model fits\n",
    "lm.fit.ea <- lm(formula=as.formula(model.str), data=ea.data)\n",
    "\n",
    "# Get sequential (type I) sum of squares\n",
    "anova.ea <- anova(lm.fit.ea)\n",
    "\n",
    "# Calculate percent variance explained and sort\n",
    "ea.pve <- cbind(anova.ea[pc.names,], \n",
    "                PVE=round(anova.ea[pc.names, \"Mean Sq\"]/sum(anova.ea[pc.names, \"Mean Sq\"])*100, digits=2))\n",
    "ea.pve.sorted <- ea.pve[order(ea.pve$PVE, decreasing=T),]\n",
    "\n",
    "# Output regression info\n",
    "cat(\"\\n\\n================ EA group ================\")\n",
    "summary(lm.fit.ea)\n",
    "ea.pve.sorted"
   ]
  },
  {
   "cell_type": "markdown",
   "metadata": {},
   "source": [
    "#### Percent Variance Explained Visualization"
   ]
  },
  {
   "cell_type": "code",
   "execution_count": 116,
   "metadata": {},
   "outputs": [
    {
     "data": {
      "image/png": "[encoded data removed]",
      "text/plain": [
       "Plot with title \"EA PVE Cumulative Sum\""
      ]
     },
     "metadata": {},
     "output_type": "display_data"
    },
    {
     "data": {
      "image/png": "[encoded data removed]",
      "text/plain": [
       "Plot with title \"EA PVE Cumulative Sum (Sorted PCs)\""
      ]
     },
     "metadata": {},
     "output_type": "display_data"
    }
   ],
   "source": [
    "options(repr.plot.width=13, repr.plot.height=5)\n",
    "\n",
    "# Set graphical parameters\n",
    "cex.factor = 0.9\n",
    "barplot.ylim.ea = c(0, max(ea.pve$PVE)*1.2)\n",
    "\n",
    "# Visualize PVE\n",
    "par(mfrow=c(1,2))\n",
    "barplot(height=ea.pve$PVE, names.arg=rownames(ea.pve), beside=T, cex.names=cex.factor, \n",
    "        col=\"red3\", border=\"red3\", ylim=barplot.ylim.ea, \n",
    "        main=\"EA Percent Variance Explained\", ylab=\"PVE\")\n",
    "plot(cumsum(ea.pve$PVE), type=\"b\", main=\"EA PVE Cumulative Sum\", ylab=\"PVE\", \n",
    "     lwd=2, col=\"red3\", pch=17, xaxt=\"n\", xlab=\"\", ylim=c(0,100))\n",
    "axis(side=1, at=c(1:10), labels=rownames(ea.pve), cex.axis=cex.factor)\n",
    "\n",
    "par(mfrow=c(1,2))\n",
    "barplot(height=ea.pve.sorted$PVE, names.arg=rownames(ea.pve.sorted), beside=T, cex.names=cex.factor, \n",
    "        col=\"red3\", border=\"red3\", ylim=barplot.ylim.ea, main=\"EA Percent Variance Explained (Sorted PCs)\", ylab=\"PVE\")\n",
    "plot(cumsum(ea.pve.sorted$PVE), type=\"b\", main=\"EA PVE Cumulative Sum (Sorted PCs)\", ylab=\"PVE\", \n",
    "     lwd=2, col=\"red3\", pch=17, xaxt=\"n\", xlab=\"\", ylim=c(0,100))\n",
    "axis(side=1, at=c(1:10), labels=rownames(ea.pve.sorted), cex.axis=cex.factor)"
   ]
  },
  {
   "cell_type": "markdown",
   "metadata": {},
   "source": [
    "Based on these results we will use PC3, PC10, and PC9. These PCs explain ~78% of the variance."
   ]
  },
  {
   "cell_type": "markdown",
   "metadata": {},
   "source": [
    "#### Construct a phenotype file for ProbABEL with PCs\n",
    "* Need to include PC8, PC2, PC9, and PC7.\n",
    "* Header needs to be\n",
    "\n",
    "```\n",
    "IID     CAT_FTND      SEX     EV3     EV10     EV9     \n",
    "```"
   ]
  },
  {
   "cell_type": "code",
   "execution_count": null,
   "metadata": {},
   "outputs": [],
   "source": [
    "## local machine ##\n",
    "cd /cygdrive/c/Users/jmarks/Desktop/Projects/Nicotine/COPDGene/copdgene1/pheno/one\n",
    "\n",
    "# the IID in the phenotype file needs to be of the form \"iid\"\n",
    "# to match the iid in the mldose file\n",
    "ancestry=ea\n",
    "awk 'BEGIN{} NR>=2{print $1}' COPDGene1_EUR_cov.ped > IID.${ancestry}.txt"
   ]
  },
  {
   "cell_type": "code",
   "execution_count": 123,
   "metadata": {},
   "outputs": [
    {
     "data": {
      "text/html": [
       "2549"
      ],
      "text/latex": [
       "2549"
      ],
      "text/markdown": [
       "2549"
      ],
      "text/plain": [
       "[1] 2549"
      ]
     },
     "metadata": {},
     "output_type": "display_data"
    },
    {
     "data": {
      "text/html": [
       "<table>\n",
       "<thead><tr><th scope=col>IID</th><th scope=col>CAT_FTND</th><th scope=col>SEX</th><th scope=col>AGE</th><th scope=col>GOLDNEG1</th><th scope=col>GOLD1OR2</th><th scope=col>GOLD3OR4</th><th scope=col>EV3</th><th scope=col>EV10</th><th scope=col>EV9</th></tr></thead>\n",
       "<tbody>\n",
       "\t<tr><td>10005Q </td><td>1      </td><td>2      </td><td>54.5   </td><td>0      </td><td>0      </td><td>0      </td><td>-0.0074</td><td> 0.0034</td><td>-0.0185</td></tr>\n",
       "\t<tr><td>10010J </td><td>0      </td><td>2      </td><td>65.9   </td><td>0      </td><td>0      </td><td>1      </td><td>-0.0054</td><td>-0.0121</td><td> 0.0108</td></tr>\n",
       "\t<tr><td>10028C </td><td>0      </td><td>1      </td><td>61.8   </td><td>0      </td><td>1      </td><td>0      </td><td>-0.0096</td><td>-0.0073</td><td>-0.0081</td></tr>\n",
       "\t<tr><td>10031R </td><td>1      </td><td>1      </td><td>60.9   </td><td>0      </td><td>1      </td><td>0      </td><td>-0.0052</td><td> 0.0044</td><td> 0.0360</td></tr>\n",
       "\t<tr><td>10041U </td><td>0      </td><td>1      </td><td>63.4   </td><td>0      </td><td>0      </td><td>1      </td><td>-0.0063</td><td> 0.0036</td><td>-0.0068</td></tr>\n",
       "\t<tr><td>10051X </td><td>1      </td><td>2      </td><td>54.3   </td><td>0      </td><td>1      </td><td>0      </td><td>-0.0130</td><td>-0.0115</td><td> 0.0070</td></tr>\n",
       "</tbody>\n",
       "</table>\n"
      ],
      "text/latex": [
       "\\begin{tabular}{r|llllllllll}\n",
       " IID & CAT\\_FTND & SEX & AGE & GOLDNEG1 & GOLD1OR2 & GOLD3OR4 & EV3 & EV10 & EV9\\\\\n",
       "\\hline\n",
       "\t 10005Q  & 1       & 2       & 54.5    & 0       & 0       & 0       & -0.0074 &  0.0034 & -0.0185\\\\\n",
       "\t 10010J  & 0       & 2       & 65.9    & 0       & 0       & 1       & -0.0054 & -0.0121 &  0.0108\\\\\n",
       "\t 10028C  & 0       & 1       & 61.8    & 0       & 1       & 0       & -0.0096 & -0.0073 & -0.0081\\\\\n",
       "\t 10031R  & 1       & 1       & 60.9    & 0       & 1       & 0       & -0.0052 &  0.0044 &  0.0360\\\\\n",
       "\t 10041U  & 0       & 1       & 63.4    & 0       & 0       & 1       & -0.0063 &  0.0036 & -0.0068\\\\\n",
       "\t 10051X  & 1       & 2       & 54.3    & 0       & 1       & 0       & -0.0130 & -0.0115 &  0.0070\\\\\n",
       "\\end{tabular}\n"
      ],
      "text/markdown": [
       "\n",
       "IID | CAT_FTND | SEX | AGE | GOLDNEG1 | GOLD1OR2 | GOLD3OR4 | EV3 | EV10 | EV9 | \n",
       "|---|---|---|---|---|---|\n",
       "| 10005Q  | 1       | 2       | 54.5    | 0       | 0       | 0       | -0.0074 |  0.0034 | -0.0185 | \n",
       "| 10010J  | 0       | 2       | 65.9    | 0       | 0       | 1       | -0.0054 | -0.0121 |  0.0108 | \n",
       "| 10028C  | 0       | 1       | 61.8    | 0       | 1       | 0       | -0.0096 | -0.0073 | -0.0081 | \n",
       "| 10031R  | 1       | 1       | 60.9    | 0       | 1       | 0       | -0.0052 |  0.0044 |  0.0360 | \n",
       "| 10041U  | 0       | 1       | 63.4    | 0       | 0       | 1       | -0.0063 |  0.0036 | -0.0068 | \n",
       "| 10051X  | 1       | 2       | 54.3    | 0       | 1       | 0       | -0.0130 | -0.0115 |  0.0070 | \n",
       "\n",
       "\n"
      ],
      "text/plain": [
       "  IID    CAT_FTND SEX AGE  GOLDNEG1 GOLD1OR2 GOLD3OR4 EV3     EV10    EV9    \n",
       "1 10005Q 1        2   54.5 0        0        0        -0.0074  0.0034 -0.0185\n",
       "2 10010J 0        2   65.9 0        0        1        -0.0054 -0.0121  0.0108\n",
       "3 10028C 0        1   61.8 0        1        0        -0.0096 -0.0073 -0.0081\n",
       "4 10031R 1        1   60.9 0        1        0        -0.0052  0.0044  0.0360\n",
       "5 10041U 0        1   63.4 0        0        1        -0.0063  0.0036 -0.0068\n",
       "6 10051X 1        2   54.3 0        1        0        -0.0130 -0.0115  0.0070"
      ]
     },
     "metadata": {},
     "output_type": "display_data"
    }
   ],
   "source": [
    "### R console ###\n",
    "setwd(\"C:/Users/jmarks/Desktop/Projects/Nicotine/COPDGene/copdgene1/pheno/one\")\n",
    "\n",
    "# read in data files\n",
    "phen <- read.table(\"COPDGene1_EUR_phen.ped\", header=T)\n",
    "cov <- read.table(\"COPDGene1_EUR_cov.ped\", header=T)\n",
    "iid <- read.table(\"IID.ea.txt\", header=F)\n",
    "num.subjects <- length(iid[,1])\n",
    "num.subjects\n",
    "\n",
    "# create data frame to combine those files\n",
    "covar.names <- c(\"IID\", \"CAT_FTND\", \"SEX\", \"AGE\", \"GOLDNEG1\", \n",
    "                       \"GOLD1OR2\", \"GOLD3OR4\", \"EV3\", \"EV10\", \"EV9\")\n",
    "covar.data <- data.frame(matrix(ncol = length(covar.names), nrow = num.subjects))\n",
    "names(covar.data) <- covar.names\n",
    "covar.data[1] <- iid[1]\n",
    "covar.data[2] <- phen[10]\n",
    "covar.data[3] <- phen[5]\n",
    "covar.data[4] <- phen[6]\n",
    "covar.data[5] <- phen[7]\n",
    "covar.data[6] <- phen[8]\n",
    "covar.data[7] <- phen[9]\n",
    "# PCs\n",
    "covar.data[8] <- cov[12]\n",
    "covar.data[9] <- cov[19]\n",
    "covar.data[10] <- cov[18]\n",
    "head(covar.data)\n",
    "\n",
    "write.table(x = covar.data, file = \"copdgene1.ea.CAT_FTND.SEX.AGE.GOLD.EVs\", quote = F, row.names = F)"
   ]
  },
  {
   "cell_type": "markdown",
   "metadata": {},
   "source": [
    "### AA PC Selection\n",
    "Determine which PCs (eigenvectors) contribute the most influence and include them in the GWAS as covariates. Include the PCs which contribute to at least %75 of the variance.\n",
    "\n",
    "**Note**: we will perform this on our local machine for convenience."
   ]
  },
  {
   "cell_type": "markdown",
   "metadata": {},
   "source": [
    "#### Create PED files \n",
    "The covariates we want to include are `sex`,`age`, and `gold status` and some of the most influential PCs. Sex is encoded as 1=Male and 2=Female in these phenotype data. Here we create the `phen` and `cov` PED files so that downstream processing will be easier. Specifically, creating the PED files will make it easier to select the PCs that explain $\\sim75\\%$ of the variance."
   ]
  },
  {
   "cell_type": "code",
   "execution_count": null,
   "metadata": {},
   "outputs": [],
   "source": [
    "## local console  ##\n",
    "# split phenotype file up by race\n",
    "cd /cygdrive/c/Users/jmarks/Desktop/Projects/Nicotine/COPDGene/copdgene1/pheno/one\n",
    "\n",
    "head -n 1 phenotype.ftnd.fg.sex.age1.filtered.txt > aa.phenotype.data\n",
    "awk 'NR>=2 {if ($3==2) {print $0}}' phenotype.ftnd.fg.sex.age1.filtered.txt >> aa.phenotype.data"
   ]
  },
  {
   "cell_type": "code",
   "execution_count": 127,
   "metadata": {},
   "outputs": [
    {
     "data": {
      "text/html": [
       "<table>\n",
       "<thead><tr><th scope=col>sid</th><th scope=col>gender</th><th scope=col>race</th><th scope=col>age_p1</th><th scope=col>CurFTND_cat_p1</th><th scope=col>Goldneg1</th><th scope=col>Gold1or2</th><th scope=col>Gold3or4</th></tr></thead>\n",
       "<tbody>\n",
       "\t<tr><td>10181K</td><td>2     </td><td>2     </td><td>58.1  </td><td>0     </td><td>1     </td><td>0     </td><td>0     </td></tr>\n",
       "\t<tr><td>10185S</td><td>1     </td><td>2     </td><td>49.6  </td><td>0     </td><td>1     </td><td>0     </td><td>0     </td></tr>\n",
       "\t<tr><td>10365U</td><td>2     </td><td>2     </td><td>52.8  </td><td>1     </td><td>1     </td><td>0     </td><td>0     </td></tr>\n",
       "\t<tr><td>10642U</td><td>1     </td><td>2     </td><td>70.8  </td><td>1     </td><td>1     </td><td>0     </td><td>0     </td></tr>\n",
       "\t<tr><td>10702M</td><td>1     </td><td>2     </td><td>53.4  </td><td>0     </td><td>1     </td><td>0     </td><td>0     </td></tr>\n",
       "\t<tr><td>10744C</td><td>2     </td><td>2     </td><td>50.1  </td><td>1     </td><td>1     </td><td>0     </td><td>0     </td></tr>\n",
       "</tbody>\n",
       "</table>\n"
      ],
      "text/latex": [
       "\\begin{tabular}{r|llllllll}\n",
       " sid & gender & race & age\\_p1 & CurFTND\\_cat\\_p1 & Goldneg1 & Gold1or2 & Gold3or4\\\\\n",
       "\\hline\n",
       "\t 10181K & 2      & 2      & 58.1   & 0      & 1      & 0      & 0     \\\\\n",
       "\t 10185S & 1      & 2      & 49.6   & 0      & 1      & 0      & 0     \\\\\n",
       "\t 10365U & 2      & 2      & 52.8   & 1      & 1      & 0      & 0     \\\\\n",
       "\t 10642U & 1      & 2      & 70.8   & 1      & 1      & 0      & 0     \\\\\n",
       "\t 10702M & 1      & 2      & 53.4   & 0      & 1      & 0      & 0     \\\\\n",
       "\t 10744C & 2      & 2      & 50.1   & 1      & 1      & 0      & 0     \\\\\n",
       "\\end{tabular}\n"
      ],
      "text/markdown": [
       "\n",
       "sid | gender | race | age_p1 | CurFTND_cat_p1 | Goldneg1 | Gold1or2 | Gold3or4 | \n",
       "|---|---|---|---|---|---|\n",
       "| 10181K | 2      | 2      | 58.1   | 0      | 1      | 0      | 0      | \n",
       "| 10185S | 1      | 2      | 49.6   | 0      | 1      | 0      | 0      | \n",
       "| 10365U | 2      | 2      | 52.8   | 1      | 1      | 0      | 0      | \n",
       "| 10642U | 1      | 2      | 70.8   | 1      | 1      | 0      | 0      | \n",
       "| 10702M | 1      | 2      | 53.4   | 0      | 1      | 0      | 0      | \n",
       "| 10744C | 2      | 2      | 50.1   | 1      | 1      | 0      | 0      | \n",
       "\n",
       "\n"
      ],
      "text/plain": [
       "  sid    gender race age_p1 CurFTND_cat_p1 Goldneg1 Gold1or2 Gold3or4\n",
       "1 10181K 2      2    58.1   0              1        0        0       \n",
       "2 10185S 1      2    49.6   0              1        0        0       \n",
       "3 10365U 2      2    52.8   1              1        0        0       \n",
       "4 10642U 1      2    70.8   1              1        0        0       \n",
       "5 10702M 1      2    53.4   0              1        0        0       \n",
       "6 10744C 2      2    50.1   1              1        0        0       "
      ]
     },
     "metadata": {},
     "output_type": "display_data"
    },
    {
     "data": {
      "text/html": [
       "<table>\n",
       "<thead><tr><th scope=col>FID</th><th scope=col>IID</th><th scope=col>EV1</th><th scope=col>EV2</th><th scope=col>EV3</th><th scope=col>EV4</th><th scope=col>EV5</th><th scope=col>EV6</th><th scope=col>EV7</th><th scope=col>EV8</th><th scope=col>EV9</th><th scope=col>EV10</th></tr></thead>\n",
       "<tbody>\n",
       "\t<tr><td>10067M </td><td>10067M </td><td>-0.0522</td><td> 0.0005</td><td> 0.0581</td><td>-0.0003</td><td>-0.0475</td><td>-0.0008</td><td>-0.0281</td><td>-0.0019</td><td>-0.0051</td><td>-0.0276</td></tr>\n",
       "\t<tr><td>10096T </td><td>10096T </td><td>-0.0016</td><td> 0.0097</td><td> 0.0171</td><td>-0.0107</td><td>-0.0083</td><td> 0.0372</td><td> 0.0113</td><td>-0.0149</td><td> 0.0086</td><td>-0.0340</td></tr>\n",
       "\t<tr><td>10168S </td><td>10168S </td><td>-0.0017</td><td>-0.0144</td><td> 0.0457</td><td> 0.0035</td><td> 0.0015</td><td> 0.0246</td><td>-0.0168</td><td> 0.0201</td><td>-0.0078</td><td>-0.0347</td></tr>\n",
       "\t<tr><td>10181K </td><td>10181K </td><td> 0.0201</td><td> 0.0036</td><td>-0.0038</td><td>-0.0205</td><td>-0.0154</td><td> 0.0017</td><td> 0.0070</td><td>-0.0093</td><td> 0.0077</td><td>-0.0082</td></tr>\n",
       "\t<tr><td>10185S </td><td>10185S </td><td> 0.0149</td><td> 0.0061</td><td>-0.0096</td><td> 0.0051</td><td>-0.0058</td><td> 0.0043</td><td> 0.0061</td><td> 0.0253</td><td>-0.0160</td><td> 0.0037</td></tr>\n",
       "\t<tr><td>10228K </td><td>10228K </td><td> 0.0041</td><td> 0.0171</td><td>-0.0388</td><td>-0.0109</td><td>-0.0162</td><td>-0.0020</td><td>-0.0085</td><td>-0.0272</td><td> 0.0373</td><td>-0.0051</td></tr>\n",
       "</tbody>\n",
       "</table>\n"
      ],
      "text/latex": [
       "\\begin{tabular}{r|llllllllllll}\n",
       " FID & IID & EV1 & EV2 & EV3 & EV4 & EV5 & EV6 & EV7 & EV8 & EV9 & EV10\\\\\n",
       "\\hline\n",
       "\t 10067M  & 10067M  & -0.0522 &  0.0005 &  0.0581 & -0.0003 & -0.0475 & -0.0008 & -0.0281 & -0.0019 & -0.0051 & -0.0276\\\\\n",
       "\t 10096T  & 10096T  & -0.0016 &  0.0097 &  0.0171 & -0.0107 & -0.0083 &  0.0372 &  0.0113 & -0.0149 &  0.0086 & -0.0340\\\\\n",
       "\t 10168S  & 10168S  & -0.0017 & -0.0144 &  0.0457 &  0.0035 &  0.0015 &  0.0246 & -0.0168 &  0.0201 & -0.0078 & -0.0347\\\\\n",
       "\t 10181K  & 10181K  &  0.0201 &  0.0036 & -0.0038 & -0.0205 & -0.0154 &  0.0017 &  0.0070 & -0.0093 &  0.0077 & -0.0082\\\\\n",
       "\t 10185S  & 10185S  &  0.0149 &  0.0061 & -0.0096 &  0.0051 & -0.0058 &  0.0043 &  0.0061 &  0.0253 & -0.0160 &  0.0037\\\\\n",
       "\t 10228K  & 10228K  &  0.0041 &  0.0171 & -0.0388 & -0.0109 & -0.0162 & -0.0020 & -0.0085 & -0.0272 &  0.0373 & -0.0051\\\\\n",
       "\\end{tabular}\n"
      ],
      "text/markdown": [
       "\n",
       "FID | IID | EV1 | EV2 | EV3 | EV4 | EV5 | EV6 | EV7 | EV8 | EV9 | EV10 | \n",
       "|---|---|---|---|---|---|\n",
       "| 10067M  | 10067M  | -0.0522 |  0.0005 |  0.0581 | -0.0003 | -0.0475 | -0.0008 | -0.0281 | -0.0019 | -0.0051 | -0.0276 | \n",
       "| 10096T  | 10096T  | -0.0016 |  0.0097 |  0.0171 | -0.0107 | -0.0083 |  0.0372 |  0.0113 | -0.0149 |  0.0086 | -0.0340 | \n",
       "| 10168S  | 10168S  | -0.0017 | -0.0144 |  0.0457 |  0.0035 |  0.0015 |  0.0246 | -0.0168 |  0.0201 | -0.0078 | -0.0347 | \n",
       "| 10181K  | 10181K  |  0.0201 |  0.0036 | -0.0038 | -0.0205 | -0.0154 |  0.0017 |  0.0070 | -0.0093 |  0.0077 | -0.0082 | \n",
       "| 10185S  | 10185S  |  0.0149 |  0.0061 | -0.0096 |  0.0051 | -0.0058 |  0.0043 |  0.0061 |  0.0253 | -0.0160 |  0.0037 | \n",
       "| 10228K  | 10228K  |  0.0041 |  0.0171 | -0.0388 | -0.0109 | -0.0162 | -0.0020 | -0.0085 | -0.0272 |  0.0373 | -0.0051 | \n",
       "\n",
       "\n"
      ],
      "text/plain": [
       "  FID    IID    EV1     EV2     EV3     EV4     EV5     EV6     EV7     EV8    \n",
       "1 10067M 10067M -0.0522  0.0005  0.0581 -0.0003 -0.0475 -0.0008 -0.0281 -0.0019\n",
       "2 10096T 10096T -0.0016  0.0097  0.0171 -0.0107 -0.0083  0.0372  0.0113 -0.0149\n",
       "3 10168S 10168S -0.0017 -0.0144  0.0457  0.0035  0.0015  0.0246 -0.0168  0.0201\n",
       "4 10181K 10181K  0.0201  0.0036 -0.0038 -0.0205 -0.0154  0.0017  0.0070 -0.0093\n",
       "5 10185S 10185S  0.0149  0.0061 -0.0096  0.0051 -0.0058  0.0043  0.0061  0.0253\n",
       "6 10228K 10228K  0.0041  0.0171 -0.0388 -0.0109 -0.0162 -0.0020 -0.0085 -0.0272\n",
       "  EV9     EV10   \n",
       "1 -0.0051 -0.0276\n",
       "2  0.0086 -0.0340\n",
       "3 -0.0078 -0.0347\n",
       "4  0.0077 -0.0082\n",
       "5 -0.0160  0.0037\n",
       "6  0.0373 -0.0051"
      ]
     },
     "metadata": {},
     "output_type": "display_data"
    },
    {
     "data": {
      "text/html": [
       "<table>\n",
       "<thead><tr><th scope=col>fid</th><th scope=col>iid</th><th scope=col>patid</th><th scope=col>matid</th><th scope=col>sex</th><th scope=col>age</th><th scope=col>goldneg1</th><th scope=col>gold1or2</th><th scope=col>gold3or4</th><th scope=col>ftnd</th></tr></thead>\n",
       "<tbody>\n",
       "\t<tr><td>10067M</td><td>10067M</td><td>NA    </td><td>NA    </td><td>2     </td><td>45.5  </td><td>0     </td><td>0     </td><td>0     </td><td>1     </td></tr>\n",
       "\t<tr><td>10096T</td><td>10096T</td><td>NA    </td><td>NA    </td><td>2     </td><td>47.8  </td><td>0     </td><td>0     </td><td>1     </td><td>1     </td></tr>\n",
       "\t<tr><td>10168S</td><td>10168S</td><td>NA    </td><td>NA    </td><td>1     </td><td>47.5  </td><td>0     </td><td>0     </td><td>0     </td><td>1     </td></tr>\n",
       "\t<tr><td>10181K</td><td>10181K</td><td>NA    </td><td>NA    </td><td>2     </td><td>58.1  </td><td>1     </td><td>0     </td><td>0     </td><td>0     </td></tr>\n",
       "\t<tr><td>10185S</td><td>10185S</td><td>NA    </td><td>NA    </td><td>1     </td><td>49.6  </td><td>1     </td><td>0     </td><td>0     </td><td>0     </td></tr>\n",
       "\t<tr><td>10228K</td><td>10228K</td><td>NA    </td><td>NA    </td><td>1     </td><td>59.7  </td><td>0     </td><td>1     </td><td>0     </td><td>2     </td></tr>\n",
       "</tbody>\n",
       "</table>\n"
      ],
      "text/latex": [
       "\\begin{tabular}{r|llllllllll}\n",
       " fid & iid & patid & matid & sex & age & goldneg1 & gold1or2 & gold3or4 & ftnd\\\\\n",
       "\\hline\n",
       "\t 10067M & 10067M & NA     & NA     & 2      & 45.5   & 0      & 0      & 0      & 1     \\\\\n",
       "\t 10096T & 10096T & NA     & NA     & 2      & 47.8   & 0      & 0      & 1      & 1     \\\\\n",
       "\t 10168S & 10168S & NA     & NA     & 1      & 47.5   & 0      & 0      & 0      & 1     \\\\\n",
       "\t 10181K & 10181K & NA     & NA     & 2      & 58.1   & 1      & 0      & 0      & 0     \\\\\n",
       "\t 10185S & 10185S & NA     & NA     & 1      & 49.6   & 1      & 0      & 0      & 0     \\\\\n",
       "\t 10228K & 10228K & NA     & NA     & 1      & 59.7   & 0      & 1      & 0      & 2     \\\\\n",
       "\\end{tabular}\n"
      ],
      "text/markdown": [
       "\n",
       "fid | iid | patid | matid | sex | age | goldneg1 | gold1or2 | gold3or4 | ftnd | \n",
       "|---|---|---|---|---|---|\n",
       "| 10067M | 10067M | NA     | NA     | 2      | 45.5   | 0      | 0      | 0      | 1      | \n",
       "| 10096T | 10096T | NA     | NA     | 2      | 47.8   | 0      | 0      | 1      | 1      | \n",
       "| 10168S | 10168S | NA     | NA     | 1      | 47.5   | 0      | 0      | 0      | 1      | \n",
       "| 10181K | 10181K | NA     | NA     | 2      | 58.1   | 1      | 0      | 0      | 0      | \n",
       "| 10185S | 10185S | NA     | NA     | 1      | 49.6   | 1      | 0      | 0      | 0      | \n",
       "| 10228K | 10228K | NA     | NA     | 1      | 59.7   | 0      | 1      | 0      | 2      | \n",
       "\n",
       "\n"
      ],
      "text/plain": [
       "  fid    iid    patid matid sex age  goldneg1 gold1or2 gold3or4 ftnd\n",
       "1 10067M 10067M NA    NA    2   45.5 0        0        0        1   \n",
       "2 10096T 10096T NA    NA    2   47.8 0        0        1        1   \n",
       "3 10168S 10168S NA    NA    1   47.5 0        0        0        1   \n",
       "4 10181K 10181K NA    NA    2   58.1 1        0        0        0   \n",
       "5 10185S 10185S NA    NA    1   49.6 1        0        0        0   \n",
       "6 10228K 10228K NA    NA    1   59.7 0        1        0        2   "
      ]
     },
     "metadata": {},
     "output_type": "display_data"
    },
    {
     "data": {
      "text/html": [
       "<table>\n",
       "<thead><tr><th scope=col>fid</th><th scope=col>iid</th><th scope=col>patid</th><th scope=col>matid</th><th scope=col>sex</th><th scope=col>age</th><th scope=col>goldneg1</th><th scope=col>gold1or2</th><th scope=col>gold3or4</th><th scope=col>PC1</th><th scope=col>PC2</th><th scope=col>PC3</th><th scope=col>PC4</th><th scope=col>PC5</th><th scope=col>PC6</th><th scope=col>PC7</th><th scope=col>PC8</th><th scope=col>PC9</th><th scope=col>PC10</th></tr></thead>\n",
       "<tbody>\n",
       "\t<tr><td>10067M </td><td>10067M </td><td>NA     </td><td>NA     </td><td>2      </td><td>45.5   </td><td>0      </td><td>0      </td><td>0      </td><td>-0.0522</td><td> 0.0005</td><td> 0.0581</td><td>-0.0003</td><td>-0.0475</td><td>-0.0008</td><td>-0.0281</td><td>-0.0019</td><td>-0.0051</td><td>-0.0276</td></tr>\n",
       "\t<tr><td>10096T </td><td>10096T </td><td>NA     </td><td>NA     </td><td>2      </td><td>47.8   </td><td>0      </td><td>0      </td><td>1      </td><td>-0.0016</td><td> 0.0097</td><td> 0.0171</td><td>-0.0107</td><td>-0.0083</td><td> 0.0372</td><td> 0.0113</td><td>-0.0149</td><td> 0.0086</td><td>-0.0340</td></tr>\n",
       "\t<tr><td>10168S </td><td>10168S </td><td>NA     </td><td>NA     </td><td>1      </td><td>47.5   </td><td>0      </td><td>0      </td><td>0      </td><td>-0.0017</td><td>-0.0144</td><td> 0.0457</td><td> 0.0035</td><td> 0.0015</td><td> 0.0246</td><td>-0.0168</td><td> 0.0201</td><td>-0.0078</td><td>-0.0347</td></tr>\n",
       "\t<tr><td>10181K </td><td>10181K </td><td>NA     </td><td>NA     </td><td>2      </td><td>58.1   </td><td>1      </td><td>0      </td><td>0      </td><td> 0.0201</td><td> 0.0036</td><td>-0.0038</td><td>-0.0205</td><td>-0.0154</td><td> 0.0017</td><td> 0.0070</td><td>-0.0093</td><td> 0.0077</td><td>-0.0082</td></tr>\n",
       "\t<tr><td>10185S </td><td>10185S </td><td>NA     </td><td>NA     </td><td>1      </td><td>49.6   </td><td>1      </td><td>0      </td><td>0      </td><td> 0.0149</td><td> 0.0061</td><td>-0.0096</td><td> 0.0051</td><td>-0.0058</td><td> 0.0043</td><td> 0.0061</td><td> 0.0253</td><td>-0.0160</td><td> 0.0037</td></tr>\n",
       "\t<tr><td>10228K </td><td>10228K </td><td>NA     </td><td>NA     </td><td>1      </td><td>59.7   </td><td>0      </td><td>1      </td><td>0      </td><td> 0.0041</td><td> 0.0171</td><td>-0.0388</td><td>-0.0109</td><td>-0.0162</td><td>-0.0020</td><td>-0.0085</td><td>-0.0272</td><td> 0.0373</td><td>-0.0051</td></tr>\n",
       "</tbody>\n",
       "</table>\n"
      ],
      "text/latex": [
       "\\begin{tabular}{r|lllllllllllllllllll}\n",
       " fid & iid & patid & matid & sex & age & goldneg1 & gold1or2 & gold3or4 & PC1 & PC2 & PC3 & PC4 & PC5 & PC6 & PC7 & PC8 & PC9 & PC10\\\\\n",
       "\\hline\n",
       "\t 10067M  & 10067M  & NA      & NA      & 2       & 45.5    & 0       & 0       & 0       & -0.0522 &  0.0005 &  0.0581 & -0.0003 & -0.0475 & -0.0008 & -0.0281 & -0.0019 & -0.0051 & -0.0276\\\\\n",
       "\t 10096T  & 10096T  & NA      & NA      & 2       & 47.8    & 0       & 0       & 1       & -0.0016 &  0.0097 &  0.0171 & -0.0107 & -0.0083 &  0.0372 &  0.0113 & -0.0149 &  0.0086 & -0.0340\\\\\n",
       "\t 10168S  & 10168S  & NA      & NA      & 1       & 47.5    & 0       & 0       & 0       & -0.0017 & -0.0144 &  0.0457 &  0.0035 &  0.0015 &  0.0246 & -0.0168 &  0.0201 & -0.0078 & -0.0347\\\\\n",
       "\t 10181K  & 10181K  & NA      & NA      & 2       & 58.1    & 1       & 0       & 0       &  0.0201 &  0.0036 & -0.0038 & -0.0205 & -0.0154 &  0.0017 &  0.0070 & -0.0093 &  0.0077 & -0.0082\\\\\n",
       "\t 10185S  & 10185S  & NA      & NA      & 1       & 49.6    & 1       & 0       & 0       &  0.0149 &  0.0061 & -0.0096 &  0.0051 & -0.0058 &  0.0043 &  0.0061 &  0.0253 & -0.0160 &  0.0037\\\\\n",
       "\t 10228K  & 10228K  & NA      & NA      & 1       & 59.7    & 0       & 1       & 0       &  0.0041 &  0.0171 & -0.0388 & -0.0109 & -0.0162 & -0.0020 & -0.0085 & -0.0272 &  0.0373 & -0.0051\\\\\n",
       "\\end{tabular}\n"
      ],
      "text/markdown": [
       "\n",
       "fid | iid | patid | matid | sex | age | goldneg1 | gold1or2 | gold3or4 | PC1 | PC2 | PC3 | PC4 | PC5 | PC6 | PC7 | PC8 | PC9 | PC10 | \n",
       "|---|---|---|---|---|---|\n",
       "| 10067M  | 10067M  | NA      | NA      | 2       | 45.5    | 0       | 0       | 0       | -0.0522 |  0.0005 |  0.0581 | -0.0003 | -0.0475 | -0.0008 | -0.0281 | -0.0019 | -0.0051 | -0.0276 | \n",
       "| 10096T  | 10096T  | NA      | NA      | 2       | 47.8    | 0       | 0       | 1       | -0.0016 |  0.0097 |  0.0171 | -0.0107 | -0.0083 |  0.0372 |  0.0113 | -0.0149 |  0.0086 | -0.0340 | \n",
       "| 10168S  | 10168S  | NA      | NA      | 1       | 47.5    | 0       | 0       | 0       | -0.0017 | -0.0144 |  0.0457 |  0.0035 |  0.0015 |  0.0246 | -0.0168 |  0.0201 | -0.0078 | -0.0347 | \n",
       "| 10181K  | 10181K  | NA      | NA      | 2       | 58.1    | 1       | 0       | 0       |  0.0201 |  0.0036 | -0.0038 | -0.0205 | -0.0154 |  0.0017 |  0.0070 | -0.0093 |  0.0077 | -0.0082 | \n",
       "| 10185S  | 10185S  | NA      | NA      | 1       | 49.6    | 1       | 0       | 0       |  0.0149 |  0.0061 | -0.0096 |  0.0051 | -0.0058 |  0.0043 |  0.0061 |  0.0253 | -0.0160 |  0.0037 | \n",
       "| 10228K  | 10228K  | NA      | NA      | 1       | 59.7    | 0       | 1       | 0       |  0.0041 |  0.0171 | -0.0388 | -0.0109 | -0.0162 | -0.0020 | -0.0085 | -0.0272 |  0.0373 | -0.0051 | \n",
       "\n",
       "\n"
      ],
      "text/plain": [
       "  fid    iid    patid matid sex age  goldneg1 gold1or2 gold3or4 PC1     PC2    \n",
       "1 10067M 10067M NA    NA    2   45.5 0        0        0        -0.0522  0.0005\n",
       "2 10096T 10096T NA    NA    2   47.8 0        0        1        -0.0016  0.0097\n",
       "3 10168S 10168S NA    NA    1   47.5 0        0        0        -0.0017 -0.0144\n",
       "4 10181K 10181K NA    NA    2   58.1 1        0        0         0.0201  0.0036\n",
       "5 10185S 10185S NA    NA    1   49.6 1        0        0         0.0149  0.0061\n",
       "6 10228K 10228K NA    NA    1   59.7 0        1        0         0.0041  0.0171\n",
       "  PC3     PC4     PC5     PC6     PC7     PC8     PC9     PC10   \n",
       "1  0.0581 -0.0003 -0.0475 -0.0008 -0.0281 -0.0019 -0.0051 -0.0276\n",
       "2  0.0171 -0.0107 -0.0083  0.0372  0.0113 -0.0149  0.0086 -0.0340\n",
       "3  0.0457  0.0035  0.0015  0.0246 -0.0168  0.0201 -0.0078 -0.0347\n",
       "4 -0.0038 -0.0205 -0.0154  0.0017  0.0070 -0.0093  0.0077 -0.0082\n",
       "5 -0.0096  0.0051 -0.0058  0.0043  0.0061  0.0253 -0.0160  0.0037\n",
       "6 -0.0388 -0.0109 -0.0162 -0.0020 -0.0085 -0.0272  0.0373 -0.0051"
      ]
     },
     "metadata": {},
     "output_type": "display_data"
    },
    {
     "data": {
      "text/html": [
       "2534"
      ],
      "text/latex": [
       "2534"
      ],
      "text/markdown": [
       "2534"
      ],
      "text/plain": [
       "[1] 2534"
      ]
     },
     "metadata": {},
     "output_type": "display_data"
    }
   ],
   "source": [
    "### R (local) ###\n",
    "\n",
    "setwd(\"C:/Users/jmarks/Desktop/Projects/Nicotine/COPDGene/copdgene1/pheno/one/\")\n",
    "p.data.aa <- \"aa.phenotype.data\"\n",
    "pheno.data.aa <- read.csv(p.data.aa, sep = \" \", header = T, stringsAsFactors = F, \n",
    "                       colClasses=c(\"character\", \"integer\", \"integer\",\"double\",\n",
    "                                    \"integer\",\"integer\",\"integer\", \"integer\"))\n",
    "head(pheno.data.aa)\n",
    "pca.data.aa <- read.csv(\"C:/Users/jmarks/Desktop/Projects/Nicotine/COPDGene/copdgene1/eigenstrat/aa_ld_pruned_top10_eigenvecs.txt\", sep = \" \" , \n",
    "                    colClasses=c(rep(\"character\",times=2), rep(\"double\",times = 10)))\n",
    "head(pca.data.aa)\n",
    "\n",
    "num.subjects.aa <- length(pca.data.aa[,1])\n",
    "\n",
    "header.names <- c(\"fid\", \"iid\", \"patid\", \"matid\", \"sex\", \"age\", \"goldneg1\", \"gold1or2\", \"gold3or4\", \"ftnd\")\n",
    "ped.file.aa <- data.frame(matrix(ncol = length(header.names), nrow = num.subjects.aa))\n",
    "colnames(ped.file.aa) <- header.names\n",
    "ped.file.aa[,1] <- pca.data.aa[,1]\n",
    "ped.file.aa[,2] <- pca.data.aa[,1] # will the iid be the same as the fid?\n",
    "\n",
    "# map loop (goal to fill in sex, age, ftnd, and gold status data on ped.file from the pheno.data)\n",
    "for (i in 1:num.subjects.aa){\n",
    "    key <- noquote(ped.file.aa[i,2])\n",
    "    \n",
    "    my_match <- match(key, pheno.data.aa[,1])\n",
    "    ped.file.aa[i,5] <- pheno.data.aa[my_match,2]# sex\n",
    "    ped.file.aa[i,6] <- pheno.data.aa[my_match,4] # age\n",
    "    ped.file.aa[i,7] <- pheno.data.aa[my_match,6] # goldneg1\n",
    "    ped.file.aa[i,8] <- pheno.data.aa[my_match,7] # gold1or2\n",
    "    ped.file.aa[i,9] <- pheno.data.aa[my_match,8] # gold3or4\n",
    "    ped.file.aa[i,10] <- pheno.data.aa[my_match,5] # ftnd\n",
    "    \n",
    "} # end i loop\n",
    "head(ped.file.aa)\n",
    "#\n",
    "write.table(ped.file.aa, \"COPDGene1_AA_phen.ped\", sep = \"\\t\", row.names = F, quote=F)\n",
    "#\n",
    "##----------------------------------------------------------------------------------\n",
    "### Cov file\n",
    "\n",
    "# 10 PCs plus all of the covariates (exclude ftnd data)\n",
    "col.names.aa <- c(\"fid\", \"iid\", \"patid\", \"matid\", \"sex\", \"age\",\n",
    "                  \"goldneg1\", \"gold1or2\", \"gold3or4\", \"PC1\", \"PC2\",\n",
    "                  \"PC3\",\"PC4\",\"PC5\",\"PC6\",\"PC7\",\"PC8\",\"PC9\",\"PC10\")\n",
    "num.columns.aa <- length(col.names.aa)\n",
    "covar.data.aa <- data.frame(matrix(ncol = num.columns.aa, nrow = num.subjects.aa))\n",
    "names(covar.data.aa) <- col.names.aa\n",
    "num.covs.aa <- length(ped.file.aa) - 1\n",
    "covar.data.aa[,1:num.covs.aa] <- ped.file.aa[,1:num.covs.aa]\n",
    "\n",
    "covar.data.aa[,(num.covs.aa+1):length(covar.data.aa)] <- pca.data.aa[,3:length(pca.data.aa)]\n",
    "head(covar.data.aa)\n",
    "length(covar.data.aa[,1])\n",
    "\n",
    "write.table(covar.data.aa, \"COPDGene1_AA_cov.ped\", quote=FALSE, row.names = FALSE, sep = \"\\t\")"
   ]
  },
  {
   "cell_type": "code",
   "execution_count": 128,
   "metadata": {},
   "outputs": [
    {
     "data": {
      "text/html": [
       "<table>\n",
       "<thead><tr><th scope=col>iid</th><th scope=col>ftnd</th><th scope=col>PC1</th><th scope=col>PC2</th><th scope=col>PC3</th><th scope=col>PC4</th><th scope=col>PC5</th><th scope=col>PC6</th><th scope=col>PC7</th><th scope=col>PC8</th><th scope=col>PC9</th><th scope=col>PC10</th></tr></thead>\n",
       "<tbody>\n",
       "\t<tr><td>10067M </td><td>1      </td><td>-0.0522</td><td> 0.0005</td><td> 0.0581</td><td>-0.0003</td><td>-0.0475</td><td>-0.0008</td><td>-0.0281</td><td>-0.0019</td><td>-0.0051</td><td>-0.0276</td></tr>\n",
       "\t<tr><td>10096T </td><td>1      </td><td>-0.0016</td><td> 0.0097</td><td> 0.0171</td><td>-0.0107</td><td>-0.0083</td><td> 0.0372</td><td> 0.0113</td><td>-0.0149</td><td> 0.0086</td><td>-0.0340</td></tr>\n",
       "\t<tr><td>10168S </td><td>1      </td><td>-0.0017</td><td>-0.0144</td><td> 0.0457</td><td> 0.0035</td><td> 0.0015</td><td> 0.0246</td><td>-0.0168</td><td> 0.0201</td><td>-0.0078</td><td>-0.0347</td></tr>\n",
       "\t<tr><td>10181K </td><td>0      </td><td> 0.0201</td><td> 0.0036</td><td>-0.0038</td><td>-0.0205</td><td>-0.0154</td><td> 0.0017</td><td> 0.0070</td><td>-0.0093</td><td> 0.0077</td><td>-0.0082</td></tr>\n",
       "\t<tr><td>10185S </td><td>0      </td><td> 0.0149</td><td> 0.0061</td><td>-0.0096</td><td> 0.0051</td><td>-0.0058</td><td> 0.0043</td><td> 0.0061</td><td> 0.0253</td><td>-0.0160</td><td> 0.0037</td></tr>\n",
       "\t<tr><td>10228K </td><td>2      </td><td> 0.0041</td><td> 0.0171</td><td>-0.0388</td><td>-0.0109</td><td>-0.0162</td><td>-0.0020</td><td>-0.0085</td><td>-0.0272</td><td> 0.0373</td><td>-0.0051</td></tr>\n",
       "</tbody>\n",
       "</table>\n"
      ],
      "text/latex": [
       "\\begin{tabular}{r|llllllllllll}\n",
       " iid & ftnd & PC1 & PC2 & PC3 & PC4 & PC5 & PC6 & PC7 & PC8 & PC9 & PC10\\\\\n",
       "\\hline\n",
       "\t 10067M  & 1       & -0.0522 &  0.0005 &  0.0581 & -0.0003 & -0.0475 & -0.0008 & -0.0281 & -0.0019 & -0.0051 & -0.0276\\\\\n",
       "\t 10096T  & 1       & -0.0016 &  0.0097 &  0.0171 & -0.0107 & -0.0083 &  0.0372 &  0.0113 & -0.0149 &  0.0086 & -0.0340\\\\\n",
       "\t 10168S  & 1       & -0.0017 & -0.0144 &  0.0457 &  0.0035 &  0.0015 &  0.0246 & -0.0168 &  0.0201 & -0.0078 & -0.0347\\\\\n",
       "\t 10181K  & 0       &  0.0201 &  0.0036 & -0.0038 & -0.0205 & -0.0154 &  0.0017 &  0.0070 & -0.0093 &  0.0077 & -0.0082\\\\\n",
       "\t 10185S  & 0       &  0.0149 &  0.0061 & -0.0096 &  0.0051 & -0.0058 &  0.0043 &  0.0061 &  0.0253 & -0.0160 &  0.0037\\\\\n",
       "\t 10228K  & 2       &  0.0041 &  0.0171 & -0.0388 & -0.0109 & -0.0162 & -0.0020 & -0.0085 & -0.0272 &  0.0373 & -0.0051\\\\\n",
       "\\end{tabular}\n"
      ],
      "text/markdown": [
       "\n",
       "iid | ftnd | PC1 | PC2 | PC3 | PC4 | PC5 | PC6 | PC7 | PC8 | PC9 | PC10 | \n",
       "|---|---|---|---|---|---|\n",
       "| 10067M  | 1       | -0.0522 |  0.0005 |  0.0581 | -0.0003 | -0.0475 | -0.0008 | -0.0281 | -0.0019 | -0.0051 | -0.0276 | \n",
       "| 10096T  | 1       | -0.0016 |  0.0097 |  0.0171 | -0.0107 | -0.0083 |  0.0372 |  0.0113 | -0.0149 |  0.0086 | -0.0340 | \n",
       "| 10168S  | 1       | -0.0017 | -0.0144 |  0.0457 |  0.0035 |  0.0015 |  0.0246 | -0.0168 |  0.0201 | -0.0078 | -0.0347 | \n",
       "| 10181K  | 0       |  0.0201 |  0.0036 | -0.0038 | -0.0205 | -0.0154 |  0.0017 |  0.0070 | -0.0093 |  0.0077 | -0.0082 | \n",
       "| 10185S  | 0       |  0.0149 |  0.0061 | -0.0096 |  0.0051 | -0.0058 |  0.0043 |  0.0061 |  0.0253 | -0.0160 |  0.0037 | \n",
       "| 10228K  | 2       |  0.0041 |  0.0171 | -0.0388 | -0.0109 | -0.0162 | -0.0020 | -0.0085 | -0.0272 |  0.0373 | -0.0051 | \n",
       "\n",
       "\n"
      ],
      "text/plain": [
       "  iid    ftnd PC1     PC2     PC3     PC4     PC5     PC6     PC7     PC8    \n",
       "1 10067M 1    -0.0522  0.0005  0.0581 -0.0003 -0.0475 -0.0008 -0.0281 -0.0019\n",
       "2 10096T 1    -0.0016  0.0097  0.0171 -0.0107 -0.0083  0.0372  0.0113 -0.0149\n",
       "3 10168S 1    -0.0017 -0.0144  0.0457  0.0035  0.0015  0.0246 -0.0168  0.0201\n",
       "4 10181K 0     0.0201  0.0036 -0.0038 -0.0205 -0.0154  0.0017  0.0070 -0.0093\n",
       "5 10185S 0     0.0149  0.0061 -0.0096  0.0051 -0.0058  0.0043  0.0061  0.0253\n",
       "6 10228K 2     0.0041  0.0171 -0.0388 -0.0109 -0.0162 -0.0020 -0.0085 -0.0272\n",
       "  PC9     PC10   \n",
       "1 -0.0051 -0.0276\n",
       "2  0.0086 -0.0340\n",
       "3 -0.0078 -0.0347\n",
       "4  0.0077 -0.0082\n",
       "5 -0.0160  0.0037\n",
       "6  0.0373 -0.0051"
      ]
     },
     "metadata": {},
     "output_type": "display_data"
    }
   ],
   "source": [
    "### R console ###\n",
    "\n",
    "# Load PCA data\n",
    "setwd('C:/Users/jmarks/Desktop/Projects/Nicotine/COPDGene/copdgene1/pheno/one/')\n",
    "options(stringsAsFactors=F)\n",
    "aa.cov.data <- read.delim(\"COPDGene1_AA_cov.ped\", header=T, sep=\"\\t\")\n",
    "aa.phen.data <- read.delim(\"COPDGene1_AA_phen.ped\", header=T, sep=\"\\t\")\n",
    "\n",
    "# Combine PCs and phenotype into one data frame\n",
    "phen.name <- \"ftnd\"\n",
    "pc.names <- paste0(\"PC\", 1:10)\n",
    "aa.data <- merge(x=aa.phen.data[,c(\"iid\",phen.name)], y=aa.cov.data[, c(\"iid\", paste0(\"PC\",1:10))], by=\"iid\")\n",
    "head(aa.data)"
   ]
  },
  {
   "cell_type": "markdown",
   "metadata": {},
   "source": [
    "#### Regression analysis\n",
    "We use a regression model of the general structure $$\\begin{align}\n",
    "\\text{FTND = PC1 + PC2 + ... + PC10}\n",
    "\\end{align}$$"
   ]
  },
  {
   "cell_type": "code",
   "execution_count": 129,
   "metadata": {},
   "outputs": [
    {
     "name": "stdout",
     "output_type": "stream",
     "text": [
      "MODEL FORMULA:\n",
      "\n",
      " ftnd ~ PC1 + PC2 + PC3 + PC4 + PC5 + PC6 + PC7 + PC8 + PC9 + PC10 \n",
      "\n",
      "\n",
      "================ AA group ================"
     ]
    },
    {
     "data": {
      "text/plain": [
       "\n",
       "Call:\n",
       "lm(formula = as.formula(model.str), data = aa.data)\n",
       "\n",
       "Residuals:\n",
       "     Min       1Q   Median       3Q      Max \n",
       "-1.14745 -0.92511  0.01384  0.93993  1.18519 \n",
       "\n",
       "Coefficients:\n",
       "            Estimate Std. Error t value Pr(>|t|)    \n",
       "(Intercept)  0.98540    0.01469  67.099   <2e-16 ***\n",
       "PC1         -0.28503    0.73926  -0.386    0.700    \n",
       "PC2         -1.09416    0.73922  -1.480    0.139    \n",
       "PC3          0.34701    0.73927   0.469    0.639    \n",
       "PC4         -0.83943    0.73925  -1.136    0.256    \n",
       "PC5          0.14987    0.73923   0.203    0.839    \n",
       "PC6          0.78682    0.73926   1.064    0.287    \n",
       "PC7          0.45849    0.73925   0.620    0.535    \n",
       "PC8         -1.18542    0.73924  -1.604    0.109    \n",
       "PC9         -0.99198    0.73928  -1.342    0.180    \n",
       "PC10        -0.51711    0.73930  -0.699    0.484    \n",
       "---\n",
       "Signif. codes:  0 '***' 0.001 '**' 0.01 '*' 0.05 '.' 0.1 ' ' 1\n",
       "\n",
       "Residual standard error: 0.7393 on 2523 degrees of freedom\n",
       "Multiple R-squared:  0.004054,\tAdjusted R-squared:  0.0001061 \n",
       "F-statistic: 1.027 on 10 and 2523 DF,  p-value: 0.4176\n"
      ]
     },
     "metadata": {},
     "output_type": "display_data"
    },
    {
     "data": {
      "text/html": [
       "<table>\n",
       "<thead><tr><th></th><th scope=col>Df</th><th scope=col>Sum Sq</th><th scope=col>Mean Sq</th><th scope=col>F value</th><th scope=col>Pr(&gt;F)</th><th scope=col>PVE</th></tr></thead>\n",
       "<tbody>\n",
       "\t<tr><th scope=row>PC8</th><td>1         </td><td>1.40532200</td><td>1.40532200</td><td>2.5714423 </td><td>0.1089337 </td><td>25.04     </td></tr>\n",
       "\t<tr><th scope=row>PC2</th><td>1         </td><td>1.19731996</td><td>1.19731996</td><td>2.1908425 </td><td>0.1389582 </td><td>21.34     </td></tr>\n",
       "\t<tr><th scope=row>PC9</th><td>1         </td><td>0.98398965</td><td>0.98398965</td><td>1.8004931 </td><td>0.1797736 </td><td>17.53     </td></tr>\n",
       "\t<tr><th scope=row>PC4</th><td>1         </td><td>0.70478778</td><td>0.70478778</td><td>1.2896127 </td><td>0.2562272 </td><td>12.56     </td></tr>\n",
       "\t<tr><th scope=row>PC6</th><td>1         </td><td>0.61909681</td><td>0.61909681</td><td>1.1328163 </td><td>0.2872773 </td><td>11.03     </td></tr>\n",
       "\t<tr><th scope=row>PC10</th><td>1         </td><td>0.26738285</td><td>0.26738285</td><td>0.4892541 </td><td>0.4843247 </td><td> 4.76     </td></tr>\n",
       "\t<tr><th scope=row>PC7</th><td>1         </td><td>0.21002035</td><td>0.21002035</td><td>0.3842929 </td><td>0.5353707 </td><td> 3.74     </td></tr>\n",
       "\t<tr><th scope=row>PC3</th><td>1         </td><td>0.12035445</td><td>0.12035445</td><td>0.2202232 </td><td>0.6389104 </td><td> 2.14     </td></tr>\n",
       "\t<tr><th scope=row>PC1</th><td>1         </td><td>0.08127430</td><td>0.08127430</td><td>0.1487148 </td><td>0.6997991 </td><td> 1.45     </td></tr>\n",
       "\t<tr><th scope=row>PC5</th><td>1         </td><td>0.02244669</td><td>0.02244669</td><td>0.0410727 </td><td>0.8394140 </td><td> 0.40     </td></tr>\n",
       "</tbody>\n",
       "</table>\n"
      ],
      "text/latex": [
       "\\begin{tabular}{r|llllll}\n",
       "  & Df & Sum Sq & Mean Sq & F value & Pr(>F) & PVE\\\\\n",
       "\\hline\n",
       "\tPC8 & 1          & 1.40532200 & 1.40532200 & 2.5714423  & 0.1089337  & 25.04     \\\\\n",
       "\tPC2 & 1          & 1.19731996 & 1.19731996 & 2.1908425  & 0.1389582  & 21.34     \\\\\n",
       "\tPC9 & 1          & 0.98398965 & 0.98398965 & 1.8004931  & 0.1797736  & 17.53     \\\\\n",
       "\tPC4 & 1          & 0.70478778 & 0.70478778 & 1.2896127  & 0.2562272  & 12.56     \\\\\n",
       "\tPC6 & 1          & 0.61909681 & 0.61909681 & 1.1328163  & 0.2872773  & 11.03     \\\\\n",
       "\tPC10 & 1          & 0.26738285 & 0.26738285 & 0.4892541  & 0.4843247  &  4.76     \\\\\n",
       "\tPC7 & 1          & 0.21002035 & 0.21002035 & 0.3842929  & 0.5353707  &  3.74     \\\\\n",
       "\tPC3 & 1          & 0.12035445 & 0.12035445 & 0.2202232  & 0.6389104  &  2.14     \\\\\n",
       "\tPC1 & 1          & 0.08127430 & 0.08127430 & 0.1487148  & 0.6997991  &  1.45     \\\\\n",
       "\tPC5 & 1          & 0.02244669 & 0.02244669 & 0.0410727  & 0.8394140  &  0.40     \\\\\n",
       "\\end{tabular}\n"
      ],
      "text/markdown": [
       "\n",
       "| <!--/--> | Df | Sum Sq | Mean Sq | F value | Pr(>F) | PVE | \n",
       "|---|---|---|---|---|---|---|---|---|---|\n",
       "| PC8 | 1          | 1.40532200 | 1.40532200 | 2.5714423  | 0.1089337  | 25.04      | \n",
       "| PC2 | 1          | 1.19731996 | 1.19731996 | 2.1908425  | 0.1389582  | 21.34      | \n",
       "| PC9 | 1          | 0.98398965 | 0.98398965 | 1.8004931  | 0.1797736  | 17.53      | \n",
       "| PC4 | 1          | 0.70478778 | 0.70478778 | 1.2896127  | 0.2562272  | 12.56      | \n",
       "| PC6 | 1          | 0.61909681 | 0.61909681 | 1.1328163  | 0.2872773  | 11.03      | \n",
       "| PC10 | 1          | 0.26738285 | 0.26738285 | 0.4892541  | 0.4843247  |  4.76      | \n",
       "| PC7 | 1          | 0.21002035 | 0.21002035 | 0.3842929  | 0.5353707  |  3.74      | \n",
       "| PC3 | 1          | 0.12035445 | 0.12035445 | 0.2202232  | 0.6389104  |  2.14      | \n",
       "| PC1 | 1          | 0.08127430 | 0.08127430 | 0.1487148  | 0.6997991  |  1.45      | \n",
       "| PC5 | 1          | 0.02244669 | 0.02244669 | 0.0410727  | 0.8394140  |  0.40      | \n",
       "\n",
       "\n"
      ],
      "text/plain": [
       "     Df Sum Sq     Mean Sq    F value   Pr(>F)    PVE  \n",
       "PC8  1  1.40532200 1.40532200 2.5714423 0.1089337 25.04\n",
       "PC2  1  1.19731996 1.19731996 2.1908425 0.1389582 21.34\n",
       "PC9  1  0.98398965 0.98398965 1.8004931 0.1797736 17.53\n",
       "PC4  1  0.70478778 0.70478778 1.2896127 0.2562272 12.56\n",
       "PC6  1  0.61909681 0.61909681 1.1328163 0.2872773 11.03\n",
       "PC10 1  0.26738285 0.26738285 0.4892541 0.4843247  4.76\n",
       "PC7  1  0.21002035 0.21002035 0.3842929 0.5353707  3.74\n",
       "PC3  1  0.12035445 0.12035445 0.2202232 0.6389104  2.14\n",
       "PC1  1  0.08127430 0.08127430 0.1487148 0.6997991  1.45\n",
       "PC5  1  0.02244669 0.02244669 0.0410727 0.8394140  0.40"
      ]
     },
     "metadata": {},
     "output_type": "display_data"
    }
   ],
   "source": [
    "# Build model formula\n",
    "model.str <- paste0(phen.name, \" ~ \", paste(pc.names, collapse=\" + \"))\n",
    "cat(\"MODEL FORMULA:\\n\\n\", model.str, \"\\n\")\n",
    "\n",
    "# Get model fits\n",
    "lm.fit.aa <- lm(formula=as.formula(model.str), data=aa.data)\n",
    "\n",
    "# Get sequential (type I) sum of squares\n",
    "anova.aa <- anova(lm.fit.aa)\n",
    "\n",
    "# Calculate percent variance explained and sort\n",
    "aa.pve <- cbind(anova.aa[pc.names,], \n",
    "                PVE=round(anova.aa[pc.names, \"Mean Sq\"]/sum(anova.aa[pc.names, \"Mean Sq\"])*100, digits=2))\n",
    "aa.pve.sorted <- aa.pve[order(aa.pve$PVE, decreasing=T),]\n",
    "\n",
    "# Output regression info\n",
    "cat(\"\\n\\n================ AA group ================\")\n",
    "summary(lm.fit.aa)\n",
    "aa.pve.sorted"
   ]
  },
  {
   "cell_type": "markdown",
   "metadata": {},
   "source": [
    "#### Percent Variance Explained Visualization"
   ]
  },
  {
   "cell_type": "code",
   "execution_count": 130,
   "metadata": {},
   "outputs": [
    {
     "data": {
      "image/png": "[encoded data removed]",
      "text/plain": [
       "Plot with title \"AA PVE Cumulative Sum\""
      ]
     },
     "metadata": {},
     "output_type": "display_data"
    },
    {
     "data": {
      "image/png": "[encoded data removed]",
      "text/plain": [
       "Plot with title \"aa PVE Cumulative Sum (Sorted PCs)\""
      ]
     },
     "metadata": {},
     "output_type": "display_data"
    }
   ],
   "source": [
    "options(repr.plot.width=13, repr.plot.height=5)\n",
    "\n",
    "# Set graphical parameters\n",
    "cex.factor = 0.9\n",
    "barplot.ylim.aa = c(0, max(aa.pve$PVE)*1.2)\n",
    "\n",
    "# Visualize PVE\n",
    "par(mfrow=c(1,2))\n",
    "barplot(height=aa.pve$PVE, names.arg=rownames(aa.pve), beside=T, cex.names=cex.factor, \n",
    "        col=\"red3\", border=\"red3\", ylim=barplot.ylim.aa, \n",
    "        main=\"AA Percent Variance Explained\", ylab=\"PVE\")\n",
    "plot(cumsum(aa.pve$PVE), type=\"b\", main=\"AA PVE Cumulative Sum\", ylab=\"PVE\", \n",
    "     lwd=2, col=\"red3\", pch=17, xaxt=\"n\", xlab=\"\", ylim=c(0,100))\n",
    "axis(side=1, at=c(1:10), labels=rownames(aa.pve), cex.axis=cex.factor)\n",
    "\n",
    "par(mfrow=c(1,2))\n",
    "barplot(height=aa.pve.sorted$PVE, names.arg=rownames(aa.pve.sorted), beside=T, cex.names=cex.factor, \n",
    "        col=\"red3\", border=\"red3\", ylim=barplot.ylim.aa, main=\"aa Percent Variance Explained (Sorted PCs)\", ylab=\"PVE\")\n",
    "plot(cumsum(aa.pve.sorted$PVE), type=\"b\", main=\"aa PVE Cumulative Sum (Sorted PCs)\", ylab=\"PVE\", \n",
    "     lwd=2, col=\"red3\", pch=17, xaxt=\"n\", xlab=\"\", ylim=c(0,100))\n",
    "axis(side=1, at=c(1:10), labels=rownames(aa.pve.sorted), cex.axis=cex.factor)"
   ]
  },
  {
   "cell_type": "markdown",
   "metadata": {},
   "source": [
    "Based on these results we will use PC8, PC2, PC9, and PC4. These PCs explain ~76% of the variance."
   ]
  },
  {
   "cell_type": "markdown",
   "metadata": {},
   "source": [
    "#### Construct a phenotype file for ProbABEL with PCs\n",
    "* Need to include PC8, PC2, PC9, and PC4.\n",
    "* Header needs to be\n",
    "\n",
    "```\n",
    "IID     CAT_FTND      SEX     EV8     EV2     EV9     EV4\n",
    "```"
   ]
  },
  {
   "cell_type": "code",
   "execution_count": null,
   "metadata": {},
   "outputs": [],
   "source": [
    "## local machine ##\n",
    "cd /cygdrive/c/Users/jmarks/Desktop/Projects/Nicotine/COPDGene/copdgene1/pheno/one\n",
    "\n",
    "# the IID in the phenotype file needs to be of the form \"iid\"\n",
    "# to match the iid in the mldose file\n",
    "awk 'BEGIN{} NR>=2{print $1}' COPDGene1_AA_cov.ped > IID.aa.txt"
   ]
  },
  {
   "cell_type": "code",
   "execution_count": 132,
   "metadata": {},
   "outputs": [
    {
     "data": {
      "text/html": [
       "2534"
      ],
      "text/latex": [
       "2534"
      ],
      "text/markdown": [
       "2534"
      ],
      "text/plain": [
       "[1] 2534"
      ]
     },
     "metadata": {},
     "output_type": "display_data"
    },
    {
     "data": {
      "text/html": [
       "<table>\n",
       "<thead><tr><th scope=col>IID</th><th scope=col>CAT_FTND</th><th scope=col>SEX</th><th scope=col>AGE</th><th scope=col>GOLDNEG1</th><th scope=col>GOLD1OR2</th><th scope=col>GOLD3OR4</th><th scope=col>EV3</th><th scope=col>EV5</th><th scope=col>EV2</th><th scope=col>EV8</th><th scope=col>EV10</th></tr></thead>\n",
       "<tbody>\n",
       "\t<tr><td>10067M </td><td>1      </td><td>2      </td><td>45.5   </td><td>0      </td><td>0      </td><td>0      </td><td> 0.0581</td><td>-0.0475</td><td> 0.0005</td><td>-0.0019</td><td>-0.0276</td></tr>\n",
       "\t<tr><td>10096T </td><td>1      </td><td>2      </td><td>47.8   </td><td>0      </td><td>0      </td><td>1      </td><td> 0.0171</td><td>-0.0083</td><td> 0.0097</td><td>-0.0149</td><td>-0.0340</td></tr>\n",
       "\t<tr><td>10168S </td><td>1      </td><td>1      </td><td>47.5   </td><td>0      </td><td>0      </td><td>0      </td><td> 0.0457</td><td> 0.0015</td><td>-0.0144</td><td> 0.0201</td><td>-0.0347</td></tr>\n",
       "\t<tr><td>10181K </td><td>0      </td><td>2      </td><td>58.1   </td><td>1      </td><td>0      </td><td>0      </td><td>-0.0038</td><td>-0.0154</td><td> 0.0036</td><td>-0.0093</td><td>-0.0082</td></tr>\n",
       "\t<tr><td>10185S </td><td>0      </td><td>1      </td><td>49.6   </td><td>1      </td><td>0      </td><td>0      </td><td>-0.0096</td><td>-0.0058</td><td> 0.0061</td><td> 0.0253</td><td> 0.0037</td></tr>\n",
       "\t<tr><td>10228K </td><td>2      </td><td>1      </td><td>59.7   </td><td>0      </td><td>1      </td><td>0      </td><td>-0.0388</td><td>-0.0162</td><td> 0.0171</td><td>-0.0272</td><td>-0.0051</td></tr>\n",
       "</tbody>\n",
       "</table>\n"
      ],
      "text/latex": [
       "\\begin{tabular}{r|llllllllllll}\n",
       " IID & CAT\\_FTND & SEX & AGE & GOLDNEG1 & GOLD1OR2 & GOLD3OR4 & EV3 & EV5 & EV2 & EV8 & EV10\\\\\n",
       "\\hline\n",
       "\t 10067M  & 1       & 2       & 45.5    & 0       & 0       & 0       &  0.0581 & -0.0475 &  0.0005 & -0.0019 & -0.0276\\\\\n",
       "\t 10096T  & 1       & 2       & 47.8    & 0       & 0       & 1       &  0.0171 & -0.0083 &  0.0097 & -0.0149 & -0.0340\\\\\n",
       "\t 10168S  & 1       & 1       & 47.5    & 0       & 0       & 0       &  0.0457 &  0.0015 & -0.0144 &  0.0201 & -0.0347\\\\\n",
       "\t 10181K  & 0       & 2       & 58.1    & 1       & 0       & 0       & -0.0038 & -0.0154 &  0.0036 & -0.0093 & -0.0082\\\\\n",
       "\t 10185S  & 0       & 1       & 49.6    & 1       & 0       & 0       & -0.0096 & -0.0058 &  0.0061 &  0.0253 &  0.0037\\\\\n",
       "\t 10228K  & 2       & 1       & 59.7    & 0       & 1       & 0       & -0.0388 & -0.0162 &  0.0171 & -0.0272 & -0.0051\\\\\n",
       "\\end{tabular}\n"
      ],
      "text/markdown": [
       "\n",
       "IID | CAT_FTND | SEX | AGE | GOLDNEG1 | GOLD1OR2 | GOLD3OR4 | EV3 | EV5 | EV2 | EV8 | EV10 | \n",
       "|---|---|---|---|---|---|\n",
       "| 10067M  | 1       | 2       | 45.5    | 0       | 0       | 0       |  0.0581 | -0.0475 |  0.0005 | -0.0019 | -0.0276 | \n",
       "| 10096T  | 1       | 2       | 47.8    | 0       | 0       | 1       |  0.0171 | -0.0083 |  0.0097 | -0.0149 | -0.0340 | \n",
       "| 10168S  | 1       | 1       | 47.5    | 0       | 0       | 0       |  0.0457 |  0.0015 | -0.0144 |  0.0201 | -0.0347 | \n",
       "| 10181K  | 0       | 2       | 58.1    | 1       | 0       | 0       | -0.0038 | -0.0154 |  0.0036 | -0.0093 | -0.0082 | \n",
       "| 10185S  | 0       | 1       | 49.6    | 1       | 0       | 0       | -0.0096 | -0.0058 |  0.0061 |  0.0253 |  0.0037 | \n",
       "| 10228K  | 2       | 1       | 59.7    | 0       | 1       | 0       | -0.0388 | -0.0162 |  0.0171 | -0.0272 | -0.0051 | \n",
       "\n",
       "\n"
      ],
      "text/plain": [
       "  IID    CAT_FTND SEX AGE  GOLDNEG1 GOLD1OR2 GOLD3OR4 EV3     EV5     EV2    \n",
       "1 10067M 1        2   45.5 0        0        0         0.0581 -0.0475  0.0005\n",
       "2 10096T 1        2   47.8 0        0        1         0.0171 -0.0083  0.0097\n",
       "3 10168S 1        1   47.5 0        0        0         0.0457  0.0015 -0.0144\n",
       "4 10181K 0        2   58.1 1        0        0        -0.0038 -0.0154  0.0036\n",
       "5 10185S 0        1   49.6 1        0        0        -0.0096 -0.0058  0.0061\n",
       "6 10228K 2        1   59.7 0        1        0        -0.0388 -0.0162  0.0171\n",
       "  EV8     EV10   \n",
       "1 -0.0019 -0.0276\n",
       "2 -0.0149 -0.0340\n",
       "3  0.0201 -0.0347\n",
       "4 -0.0093 -0.0082\n",
       "5  0.0253  0.0037\n",
       "6 -0.0272 -0.0051"
      ]
     },
     "metadata": {},
     "output_type": "display_data"
    }
   ],
   "source": [
    "### R console ###\n",
    "setwd(\"C:/Users/jmarks/Desktop/Projects/Nicotine/COPDGene/copdgene1/pheno/one\")\n",
    "\n",
    "# read in data files\n",
    "phen <- read.table(\"COPDGene1_AA_phen.ped\", header=T)\n",
    "cov <- read.table(\"COPDGene1_AA_cov.ped\", header=T)\n",
    "iid <- read.table(\"IID.aa.txt\", header=F)\n",
    "num.subjects <- length(iid[,1])\n",
    "num.subjects\n",
    "\n",
    "# create data frame to combine those files\n",
    "covar.names <- c(\"IID\", \"CAT_FTND\", \"SEX\", \"AGE\", \"GOLDNEG1\", \n",
    "                       \"GOLD1OR2\", \"GOLD3OR4\", \"EV3\", \"EV5\", \"EV2\", \"EV8\", \"EV10\")\n",
    "covar.data <- data.frame(matrix(ncol = length(covar.names), nrow = num.subjects))\n",
    "names(covar.data) <- covar.names\n",
    "covar.data[1] <- iid[1]\n",
    "covar.data[2] <- phen[10]\n",
    "covar.data[3] <- phen[5]\n",
    "covar.data[4] <- phen[6]\n",
    "covar.data[5] <- phen[7]\n",
    "covar.data[6] <- phen[8]\n",
    "covar.data[7] <- phen[9]\n",
    "covar.data[8] <- cov[12]\n",
    "covar.data[9] <- cov[14]\n",
    "covar.data[10] <- cov[11]\n",
    "covar.data[11] <- cov[17]\n",
    "covar.data[12] <- cov[19]\n",
    "head(covar.data)\n",
    "\n",
    "write.table(x = covar.data, file = \"copdgene1.aa.CAT_FTND.SEX.AGE.GOLD.EVs\", quote = F, row.names = F)"
   ]
  },
  {
   "cell_type": "markdown",
   "metadata": {},
   "source": [
    "### Transfer Phenotype Files \n",
    "This analysis is going to be performed on MIDAS. We will therefore have to transfer these EA and AA phenotype files that we created."
   ]
  },
  {
   "cell_type": "code",
   "execution_count": null,
   "metadata": {},
   "outputs": [],
   "source": [
    "## MIDAS ##\n",
    "\n",
    "# create directory structure\n",
    "mkdir -p ~/gwas/{association_tests,phenotype/{processing,final}}"
   ]
  },
  {
   "cell_type": "code",
   "execution_count": null,
   "metadata": {},
   "outputs": [],
   "source": [
    "## local command line ##\n",
    "cd /cygdrive/c/Users/jmarks/Desktop/Projects/Nicotine/COPDGene/copdgene1/pheno/one\n",
    "\n",
    "scp copdgene1.* jmarks@rtplhpc01.rti.ns:~/gwas/copdgene1/phenotype/processing"
   ]
  },
  {
   "cell_type": "markdown",
   "metadata": {},
   "source": [
    "## Genotype Data COPDGene1\n",
    "The genotype data have been imputed on the in-house computing cluster MIDAS using impute2. IMPUTE2 is a computer program for phasing observed genotypes and imputing missing genotypes\n",
    "\n",
    "The imputed data are split by chromosome and the chromosome data are further split into chunks. Because of this, we will incorporate the Nextflow pipeline that has already been established. "
   ]
  },
  {
   "cell_type": "markdown",
   "metadata": {},
   "source": [
    "# ProbABEL Analysis with Nextflow\n",
    "We try out ProbABEL as integrated into [Nextflow](https://www.nextflow.io/). Nextflow allows you to write a computational pipeline by making it simpler to put together many different tasks. \n",
    "\n",
    "* For the analysis, I will need the script: `_pipeline.association.out_stats_files.run.sh` and `nextflow.config`.\n",
    "\n",
    "* To generate the plots I will need: `_methods.cogend.imputed.v3.association_tests.006.sh`\n",
    "\n",
    "These scripts were copied to my working directory from an example directory on MIDAS at the location:\n",
    "\n",
    "`/share/nas04/bioinformatics_group/data/studies/jhs_aric_aa/imputed/v3/association_tests/001`"
   ]
  },
  {
   "cell_type": "markdown",
   "metadata": {},
   "source": [
    "## Scripts to run analysis\n",
    "These scripts should be placed in the working directory. For this analysis on MIDAS, the working directory they were placed in was `/home/jmarks/gwas/copdgene1`\n",
    "#### pipeline script"
   ]
  },
  {
   "cell_type": "code",
   "execution_count": null,
   "metadata": {},
   "outputs": [],
   "source": [
    "#!/bin/sh\n",
    "\n",
    "for ancestry in {ea,aa}; do\n",
    "    working_dir=/share/nas04/jmarks/gwas/copdgene1/association_tests/002/${ancestry}\n",
    "    imputation_root=/share/nas03/bioinformatics_group/data/studies/copdgene/imputed/v3/imputations/\n",
    "    # path to phenotype file created in the section above\n",
    "    phenotype_root=/share/nas04/jmarks/gwas/copdgene1/phenotype/processing \n",
    "\n",
    "    method=palinear # GWAS method\n",
    "\n",
    "    for (( chr=1; chr<24; chr++ )); do\n",
    "        out_file=copdgene1.${ancestry}.1000G_p3.chr$chr.CAT_FTND~SNP+AGE+SEX+EVs.stats\n",
    "        phenotype_file=copdgene1.${ancestry}.CAT_FTND.SEX.AGE.GOLD.EVs\n",
    "        geno_prefix=copdgene.${ancestry}.1000G_p3.chr\n",
    "\n",
    "        /share/nas03/bioinformatics_group/software/nextflow/nextflow-0.25.1-all \\\n",
    "        /share/nas03/bioinformatics_group/software/pipeline/_pipeline.association.out_stats_files.v0.1.nf \\\n",
    "            --final_chunks $imputation_root/chunks/final_chunks.chr$chr \\\n",
    "            --input_pheno $phenotype_root/$phenotype_file \\\n",
    "            --imputation_dir $imputation_root/${ancestry}/chr$chr \\\n",
    "            --example_mldose $imputation_root/${ancestry}/chr$chr/copdgene.${ancestry}.1000G_p3.chr$chr.2.mach.mldose.gz \\\n",
    "            --geno_prefix $geno_prefix \\\n",
    "            --working_dirs $working_dir \\\n",
    "            --out $working_dir/$out_file \\\n",
    "            --method $method\n",
    "\n",
    "        rm -r $working_dir/../work\n",
    "    done\n",
    "done\n"
   ]
  },
  {
   "cell_type": "markdown",
   "metadata": {},
   "source": [
    "#### nextflow.config"
   ]
  },
  {
   "cell_type": "code",
   "execution_count": null,
   "metadata": {},
   "outputs": [],
   "source": [
    "## MIDAS ##\n",
    "cd /share/nas04/jmarks/gwas/copdgene1/associtation_tests/001/\n",
    "\n",
    "cat nextflow.config\n",
    "\"\"\"\n",
    "process.executor = 'sge'\n",
    "process.clusterOptions = '-S /bin/bash'\n",
    "\"\"\""
   ]
  },
  {
   "cell_type": "markdown",
   "metadata": {},
   "source": [
    "**Inspect Chr15**"
   ]
  },
  {
   "cell_type": "code",
   "execution_count": null,
   "metadata": {},
   "outputs": [],
   "source": [
    "## local console ##\n",
    "mkdir -p /cygdrive/c/Users/jmarks/Desktop/Projects/Nicotine/COPDGene/copdgene1/results\n",
    "cd /cygdrive/c/Users/jmarks/Desktop/Projects/Nicotine/COPDGene/copdgene1/results\n",
    "\n",
    "scp jmarks@rtplhpc01.rti.ns:/share/nas04/jmarks/gwas/copdgene1/association_tests/002/ea/* .\n",
    "scp jmarks@rtplhpc01.rti.ns:/share/nas04/jmarks/gwas/copdgene1/association_tests/002/aa/* .\n"
   ]
  },
  {
   "cell_type": "markdown",
   "metadata": {},
   "source": [
    "# Capture missing data\n",
    "While running the association analysis, there were a few errors. The EA subjects finished without a hitch. \n",
    "The AA subjects produced some errors. Specifically, chromosomes 1 and 5 threw some errors and did not finish. \n",
    "We need to redo:\n",
    "\n",
    "* chr1 chunk 92\n",
    "* chr5 chunk 9\n",
    "\n",
    "I will specify these missing data in a file called `failed_chunks`, which should have the contents:\n",
    "\n",
    "`\n",
    "failed_chunks_convert\n",
    "1       92\n",
    "5       9`"
   ]
  },
  {
   "cell_type": "markdown",
   "metadata": {},
   "source": [
    "Gzip the mldose file that was created. \n",
    "\n",
    "Attempt Nextflow pipeline again."
   ]
  },
  {
   "cell_type": "markdown",
   "metadata": {},
   "source": [
    "# Filter Results and Plot\n",
    "This scripts should be placed in the working directory. For this analysis on MIDAS, the working directory they were placed in was `/share/nas04/jmarks/gwas/copdgene1/association_tests/001`.\n",
    "\n",
    "`_methods.copdgene1.imputed.v1.association_tests.sh`\n",
    "\n",
    "We will apply the filters\n",
    "* MAF > 0.01\n",
    "* and Rsq > 0.3\n",
    "\n",
    "to the results of the GWAS analysis. Once the results are filtered, we will generate a [quantile-quantile (QQ) plot](http://physiology.med.cornell.edu/people/banfelder/qbio/resources_2013/2013_1_Mezey.pdf) as well as a [Manhattan plot](https://www.sciencedirect.com/topics/medicine-and-dentistry/manhattan-plot).\n",
    "\n",
    "**Note**: The script below should be modified for each cohort and/or ancestry group. For example:\n",
    "* line 2 and line 194 should be changed to copdgene2 for that cohort\n",
    "*  if running for both ancestry groups line 7 should be commented out while, line 6, 16, 29, 59, 66, 88, 110, 133, 172, 192,  should be uncommented out\n",
    "* uncomment all of the end-loop *done* expressions that correspond to the above bullet-point example\n",
    "\n",
    "Also note this is the legacy script designed for execution on the in-house MIDAS cluster. The paths should be modified as necessary for computing on different computing platforms."
   ]
  },
  {
   "cell_type": "code",
   "execution_count": null,
   "metadata": {},
   "outputs": [],
   "source": [
    "# ASSOCIATION_ROOT=/share/nas04/jmarks/gwas/copdgene1/association_tests/001\n",
    "COHORT=copdgene1\n",
    "MODEL=CAT_FTND~SNP+AGE+SEX+GOLD+EVs\n",
    "\n",
    "# making directories to process the results\n",
    "#for ancestry in {ea,aa}; do\n",
    "ancestry=ea\n",
    "    for (( chr=1; chr<24; chr++ )); do\n",
    "        mkdir -p $ASSOCIATION_ROOT/$ancestry/processing/chr$chr\n",
    "    done\n",
    "    mkdir $ASSOCIATION_ROOT/$ancestry/final\n",
    "#done\n",
    "### START Filter ###\n",
    "\n",
    "# add in chr id\n",
    "#for ancestry in {ea,aa}; do\n",
    "\n",
    "    for (( chr=1; chr<24; chr++ )); do\n",
    "        inFile=$ASSOCIATION_ROOT/$ancestry/$COHORT.$ancestry.1000G_p3.chr$chr.$MODEL.stats\n",
    "        echo Processing $inFile\n",
    "        outFile=$ASSOCIATION_ROOT/$ancestry/processing/chr$chr/$COHORT.$ancestry.1000G_p3.chr$chr.$MODEL.stats\n",
    "        echo -e \"chr\\tname\\tposition\\tA1\\tA2\\tFreq1\\tMAF\\tQuality\\tRsq\\tn\\tMean_predictor_allele\\tbeta_SNP_add\\tsebeta_SNP_add\\tchi2_SNP\\tchi\\tp\\tor_95_percent_ci\" > $outFile\n",
    "        tail -n +1 $inFile |\n",
    "          perl -slne '{ print join(\"\\t\", \"$chr\", \"$_\"); }' -- -chr=\"$chr\" >> $outFile # pass rudamentary arg\n",
    "    done\n",
    "#done\n",
    "\n",
    "# MAF > 0.01 in AFR (AA) or EUR (EA)\n",
    "#for ancestry in {ea,aa};do\n",
    "  if [ $ancestry == \"aa\" ]; then\n",
    "    group=afr\n",
    "  else\n",
    "    group=eur\n",
    "  fi\n",
    "    for (( chr=1; chr<24; chr++ )); do\n",
    "      if [ $chr == \"23\" ]; then\n",
    "        # this is a list of all of the variants that have a MAF less than 0.01. We will use this as a remove list.\n",
    "        idList=/share/nas03/bioinformatics_group/data/ref_panels/1000G/2014.10/1000GP_Phase3_chrX_NONPAR.maf_lte_0.01_$group\n",
    "      else\n",
    "        idList=/share/nas03/bioinformatics_group/data/ref_panels/1000G/2014.10/1000GP_Phase3_chr$chr.maf_lte_0.01_$group\n",
    "      fi\n",
    "      /share/nas03/bioinformatics_group/software/scripts/qsub_job.sh \\\n",
    "        --job_name ${ancestry}_${chr} \\\n",
    "        --script_prefix $ASSOCIATION_ROOT/$ancestry/processing/chr$chr/$COHORT.$ancestry.1000G_p3.chr$chr.$MODEL.maf_gt_0.01_$group \\\n",
    "        --mem 3.8 \\\n",
    "        --priority 0 \\\n",
    "        --program /share/nas03/bioinformatics_group/software/perl/extract_rows.pl \\\n",
    "        --source $ASSOCIATION_ROOT/$ancestry/processing/chr$chr/$COHORT.$ancestry.1000G_p3.chr$chr.$MODEL.stats \\\n",
    "        --id_list $idList \\\n",
    "        --out $ASSOCIATION_ROOT/$ancestry/processing/chr$chr/$COHORT.$ancestry.1000G_p3.chr$chr.$MODEL.maf_gt_0.01_$group \\\n",
    "        --header 0 \\\n",
    "        --id_column 1 \\\n",
    "        --remove\n",
    "    done\n",
    "#done\n",
    "\n",
    "python /home/jmarks/monitor.py # report progress on jobs\n",
    "\n",
    "#for ancestry in aa; do\n",
    "# note the three question marks is a wildcard\n",
    "  mv $ASSOCIATION_ROOT/$ancestry/processing/chr*/*.maf_gt_0.01_??? \\\n",
    "   $ASSOCIATION_ROOT/$ancestry/final\n",
    "#done\n",
    "\n",
    "# Filter out variants with MAF <= 0.01 in study\n",
    "#for ancestry in {ea,aa}; do\n",
    "    if [ $ancestry == \"aa\" ]; then\n",
    "        group=afr\n",
    "    else\n",
    "        group=eur\n",
    "    fi\n",
    "    for (( chr=1; chr<24; chr++ )); do\n",
    "        inFile=$ASSOCIATION_ROOT/$ancestry/final/$COHORT.$ancestry.1000G_p3.chr$chr.$MODEL.maf_gt_0.01_$group\n",
    "        outFile=$ASSOCIATION_ROOT/$ancestry/final/$COHORT.$ancestry.1000G_p3.chr$chr.$MODEL.maf_gt_0.01_${group}+$COHORT\n",
    "        echo Processing $inFile\n",
    "        head -n 1 $inFile > $outFile\n",
    "        tail -n +2 $inFile |\n",
    "            # ?: is a non-capturing group. Basically, This is skipping groups 1-6 and capturing\n",
    "            # the 7th column which is the MAF column\n",
    "            perl -lne '/^(?:\\S+\\s+){6}(\\S+)/;\n",
    "                        if ( $1 > 0.01) {\n",
    "                            print;\n",
    "                        }' >> $outFile\n",
    "    done\n",
    "#done\n",
    "\n",
    "# Filter out variants with Rsq <= 0.3 in study\n",
    "#for ancestry in {ea,aa}; do\n",
    "    if [ $ancestry == \"aa\" ]; then\n",
    "        group=afr\n",
    "    else\n",
    "        group=eur\n",
    "    fi\n",
    "    for (( chr=1; chr<24; chr++ )); do\n",
    "    inFile=$ASSOCIATION_ROOT/$ancestry/final/$COHORT.$ancestry.1000G_p3.chr$chr.$MODEL.maf_gt_0.01_${group}+$COHORT\n",
    "    outFile=$ASSOCIATION_ROOT/$ancestry/final/$COHORT.$ancestry.1000G_p3.chr$chr.$MODEL.maf_gt_0.01_${group}+$COHORT.rsq_gt_0.3\n",
    "    echo Processing $inFile\n",
    "    head -n 1 $inFile > $outFile\n",
    "    tail -n +2 $inFile |\n",
    "        perl -lne '/^(?:\\S+\\s+){8}(\\S+)/;\n",
    "                    if ( $1 > 0.3) {\n",
    "                        print;\n",
    "                    }' >> $outFile\n",
    "    done\n",
    "#done\n",
    "\n",
    "### END Filter ###\n",
    "\n",
    "### START Generate plots ###\n",
    "#for ancestry in aa; do\n",
    "  if [ $ancestry == \"aa\" ]; then\n",
    "    group=afr\n",
    "  else\n",
    "    group=eur\n",
    "  fi\n",
    "  for ext in $group ${group}+$COHORT.rsq_gt_0.3; do\n",
    "        outFile=$ASSOCIATION_ROOT/$ancestry/processing/$COHORT.$ancestry.1000G_p3.$MODEL.maf_gt_0.01_$ext.table\n",
    "echo -e \"VARIANT_ID\\tCHR\\tPOSITION\\tP\\tTYPE\" > $outFile\n",
    "for (( chr=1; chr<24; chr++ )); do\n",
    "    inFile=$ASSOCIATION_ROOT/$ancestry/final/$COHORT.$ancestry.1000G_p3.chr$chr.$MODEL.maf_gt_0.01_$ext\n",
    "    echo Processing $inFile\n",
    "    tail -n +2 $inFile |\n",
    "      perl -lne '/^(\\S+)\\s+(\\S+)\\s+(\\S+)\\s+(\\S+)\\s+(\\S+)(?:\\s+\\S+){10}\\s+(\\S+)/;\n",
    "                 if (($4 eq \"A\" || $4 eq \"C\" || $4 eq \"G\" || $4 eq \"T\") && ($5 eq \"A\" || $5 eq \"C\" || $5 eq \"G\" || $5 eq \"T\")) {\n",
    "                   print join(\"\\t\",$2,$1,$3,$6,\"snp\");\n",
    "                 } else {\n",
    "                   print join(\"\\t\",$2,$1,$3,$6,\"indel\");\n",
    "                 }' >> $outFile\n",
    "done\n",
    "done\n",
    "#done\n",
    "\n",
    "#for ancestry in {ea,aa}; do\n",
    "  if [ $ancestry == \"aa\" ]; then\n",
    "    group=afr\n",
    "  else\n",
    "    group=eur\n",
    "  fi\n",
    "  for ext in $group ${group}+$COHORT.rsq_gt_0.3; do\n",
    "/share/nas03/bioinformatics_group/software/scripts/qsub_job.sh \\\n",
    "  --job_name gwas_plots \\\n",
    "  --script_prefix $ASSOCIATION_ROOT/$ancestry/processing/$COHORT.$ancestry.1000G_p3.$MODEL.maf_gt_0.01_$ext.plots \\\n",
    "  --mem 15 \\\n",
    "  --priority 0 \\\n",
    "  --program /share/nas03/bioinformatics_group/software/R/dev/generate_gwas_plots.v6.R \\\n",
    "  --in $ASSOCIATION_ROOT/$ancestry/processing/$COHORT.$ancestry.1000G_p3.$MODEL.maf_gt_0.01_$ext.table \\\n",
    "  --in_chromosomes autosomal_nonPAR \\\n",
    "  --in_header \\\n",
    "  --out $ASSOCIATION_ROOT/$ancestry/final/$COHORT.$ancestry.1000G_p3.$MODEL.maf_gt_0.01_$ext \\\n",
    "  --col_id VARIANT_ID \\\n",
    "  --col_chromosome CHR \\\n",
    "  --col_position POSITION \\\n",
    "  --col_p P \\\n",
    "  --col_variant_type TYPE \\\n",
    "  --generate_snp_indel_manhattan_plot \\\n",
    "  --manhattan_odd_chr_color red \\\n",
    "  --manhattan_even_chr_color blue \\\n",
    "  --manhattan_points_cex 1.5 \\\n",
    "  --generate_snp_indel_qq_plot \\\n",
    "  --qq_lines \\\n",
    "  --qq_points_bg black \\\n",
    "  --qq_lambda\n",
    "done\n",
    "#done\n",
    "\n",
    "### END Generate plots ###\n",
    "\n",
    "\n",
    "### START Filter by p-value ###\n",
    "\n",
    "# MAF > 0.01 in AFR and EUR\n",
    "#for ancestry in aa; do\n",
    "  if [ $ancestry == \"aa\" ]; then\n",
    "    group=afr\n",
    "  else\n",
    "    group=eur\n",
    "  fi\n",
    "  for ext in $group ${group}+$COHORT.rsq_gt_0.3; do\n",
    "    outFile=$ASSOCIATION_ROOT/$ancestry/processing/$COHORT.$ancestry.1000G_p3.$MODEL.maf_gt_0.01_$ext.p_lte_0.001\n",
    "    head -n 1 $ASSOCIATION_ROOT/$ancestry/final/$COHORT.$ancestry.1000G_p3.chr1.$MODEL.maf_gt_0.01_$ext > \\\n",
    "      $outFile\n",
    "    for (( chr=1; chr<24; chr++ )); do\n",
    "      echo Processing ${ASSOCIATION_ROOT}/$ancestry/final/$COHORT.$ancestry.1000G_p3.chr$chr.$MODEL.maf_gt_0.01_$ext\n",
    "      tail -n +2 $ASSOCIATION_ROOT/$ancestry/final/$COHORT.$ancestry.1000G_p3.chr$chr.$MODEL.maf_gt_0.01_$ext |\n",
    "        perl -lane 'if ($F[15] <= 0.001) { print; }' >> \\\n",
    "        $outFile\n",
    "    done\n",
    "done\n",
    "#done\n",
    "\n",
    "# Sort\n",
    "#for (ancestry in c(\"ea\",\"aa\")){\n",
    "for (ancestry in c(\"ea\")){\n",
    "        cohort=\"copdgene1\"\n",
    "        if (ancestry == \"aa\") { group = \"afr\" } else if (ancestry == \"ea\") { group = \"eur\" }\n",
    "        dat=read.table(paste0('/share/nas04/jmarks/gwas/', cohort, '/association_tests/001/',\n",
    "                              ancestry,'/processing/', cohort, '.',ancestry,\n",
    "                              '.1000G_p3.CAT_FTND~SNP+AGE+SEX+GOLD+EVs.maf_gt_0.01_',\n",
    "                              group,'.p_lte_0.001'), header = TRUE)\n",
    "        dat = dat[order(dat$p),]\n",
    "        write.csv(dat,\n",
    "            file = paste0('/share/nas04/jmarks/gwas/',cohort,'/association_tests/001/',\n",
    "                          ancestry,'/final/', cohort, '.',ancestry,'.1000G_p3.CAT_FTND~SNP+AGE+SEX+GOLD+EVs.maf_gt_0.01_',\n",
    "                          group,'.p_lte_0.001.csv'), row.names = FALSE)\n",
    "    \n",
    "    \n",
    "        dat=read.table(paste0('/share/nas04/jmarks/gwas/', cohort,'/association_tests/001/',\n",
    "                              ancestry,'/processing/', cohort, '.',ancestry,\n",
    "                              '.1000G_p3.CAT_FTND~SNP+AGE+SEX+GOLD+EVs.maf_gt_0.01_',group,\n",
    "                              '+', cohort, '.rsq_gt_0.3.p_lte_0.001'), header=TRUE)\n",
    "        dat = dat[order(dat$p),]\n",
    "        write.csv(dat,\n",
    "                  file = paste0('/share/nas04/jmarks/gwas/', cohort, '/association_tests/001/',\n",
    "                         ancestry,'/final/', cohort, '.', ancestry, '.1000G_p3.CAT_FTND~SNP+AGE+SEX+GOLD+EVs.maf_gt_0.01_',\n",
    "                         group,'+',cohort,'.rsq_gt_0.3.p_lte_0.001.csv'), row.names = FALSE)\n",
    "}\n",
    "\n",
    "## END Filter by p-value ###                                                                                           "
   ]
  },
  {
   "cell_type": "markdown",
   "metadata": {},
   "source": [
    "## monitor.py\n",
    "This python script was used in the above filtering/plotting script to let the user know the status of the processing jobs.\n",
    "\n",
    "Location: `/home/jmarks/monitor.py`"
   ]
  },
  {
   "cell_type": "code",
   "execution_count": null,
   "metadata": {},
   "outputs": [],
   "source": [
    "import subprocess\n",
    "from sys import stdout, argv\n",
    "from time import sleep\n",
    "def check():\n",
    "    p = subprocess.Popen(['qstat'], stdout = subprocess.PIPE, stderr = subprocess.PIPE)\n",
    "    out, err = p.communicate()\n",
    "    return len(out.split('\\n')) - 3, out\n",
    "\n",
    "rows, msg = check()\n",
    "\n",
    "while(rows > 0):\n",
    "    stdout.write(\"\\r%d jobs remaining...............\" % rows)\n",
    "    if(len(argv) > 1 and argv[1] == \"show\"):\n",
    "        stdout.write('/n/')\n",
    "        stdout.write(msg)\n",
    "    stdout.flush()\n",
    "    sleep(10)\n",
    "    rows, msg = check()\n",
    "stdout.write(\"\\n\" + \"Finished.\\n\")"
   ]
  },
  {
   "cell_type": "markdown",
   "metadata": {},
   "source": [
    "## Copy Results to Local"
   ]
  },
  {
   "cell_type": "code",
   "execution_count": null,
   "metadata": {},
   "outputs": [],
   "source": [
    "## local console ##\n",
    "cd /cygdrive/c/Users/jmarks/Desktop/Projects/Nicotine/COPDGene/copdgene1/results/ea/figures\n",
    "scp jmarks@rtplhpc01.rti.ns:/share/nas04/jmarks/gwas/copdgene1/association_tests/001/ea/final/*png .\n",
    "\n",
    "cd /cygdrive/c/Users/jmarks/Desktop/Projects/Nicotine/COPDGene/copdgene1/results/aa/figures\n",
    "scp jmarks@rtplhpc01.rti.ns:/share/nas04/jmarks/gwas/copdgene1/association_tests/003/aa/final/*png .\n",
    "\n",
    "cd /cygdrive/c/Users/jmarks/Desktop/Projects/Nicotine/COPDGene/copdgene1/results/ea/\n",
    "scp jmarks@rtplhpc01.rti.ns:/share/nas04/jmarks/gwas/copdgene1/association_tests/001/ea/final/*.csv .\n",
    "\n",
    "cd /cygdrive/c/Users/jmarks/Desktop/Projects/Nicotine/COPDGene/copdgene1/results/aa/\n",
    "scp jmarks@rtplhpc01.rti.ns:/share/nas04/jmarks/gwas/copdgene1/association_tests/001/aa/processing/*001 ."
   ]
  },
  {
   "cell_type": "markdown",
   "metadata": {},
   "source": [
    "# 20220514 update\n",
    "It was discovered that chr16 results did not get properly uploaded to AWS S3 at:\n",
    "`s3://rti-nd/gwas/copdgene1/results/categorical_ftnd/0001/afr/final_stats/copdgene1.aa.1000G_p3.chr16.CAT_FTND~SNP+AGE+SEX+GOLD+EVs.maf_gt_0.01_afr+copdgene1+RSQ.phase3ID.gz`\n",
    "All that is present in this results file is the header. The mere fact that the file exists likely contributed to us not realizing that the results were empty. So we will reprocess the chr16 results, and go from there.\n",
    "\n",
    "Once I get a chr16 result, be sure to perform a sanity check on some established results like chr15 for example."
   ]
  },
  {
   "cell_type": "markdown",
   "metadata": {},
   "source": [
    "## Phenotype data\n",
    "We should be able to use the phenotype file that was previously used for this GWAS.\n",
    "`s3://rti-nd/gwas/copdgene1/data/phenotype/`\n",
    "\n"
   ]
  },
  {
   "cell_type": "code",
   "execution_count": null,
   "metadata": {},
   "outputs": [],
   "source": [
    "# sample size N=2534\n",
    "mkdir -p /shared/jmarks/rti-nd/gwas/copdgene1/data/phenotype/0001/aa\n",
    "cd /shared/jmarks/rti-nd/gwas/copdgene1/data/phenotype/0001/aa\n",
    "aws s3 cp s3://rti-nd/gwas/copdgene1/data/phenotype/copdgene1.aa.CAT_FTND.SEX.AGE.GOLD.EVs ."
   ]
  },
  {
   "cell_type": "code",
   "execution_count": null,
   "metadata": {},
   "outputs": [],
   "source": [
    "# Prepare phenotype file\n",
    "#/home/ec2-user/bioinformatics/software/perl/utilities/prepare_probabel_files.pl \\\n",
    "#    --in_mldose $imputationRoot/ea/chr1/heroin_icghd.ea.1000G_p3.chr1.0.mach.mldose.gz \\\n",
    "#    --in_pheno $phenotypePath/nelson.ea.CAT_FTND.AGE.SEX.EVs.v1 \\\n",
    "#    --out_pheno $baseDir/phenotype/nelson.ea.CAT_FTND.AGE.SEX.EVs.v1\n"
   ]
  },
  {
   "cell_type": "markdown",
   "metadata": {},
   "source": [
    "## Genotype Data COPDGene1\n",
    "\n",
    "The genotype data have been imputed on the retired in-house computing cluster MIDAS using impute2. IMPUTE2 is a computer program for phasing observed genotypes and imputing missing genotypes.\n",
    "\n",
    "The imputed data are split by chromosome and the chromosome data are further split into chunks. We previously implemented the Nextflow pipeline that had already been established. We will attempt to process the data without Nextflow though because we no longer have access to that pipeline."
   ]
  },
  {
   "cell_type": "code",
   "execution_count": null,
   "metadata": {},
   "outputs": [],
   "source": [
    "# Download data\n",
    "mkdir -p /shared/jmarks/rti-nd/gwas/copdgene1/data/genotype/imputed/aa/chr16/probabel_formatted/\n",
    "cd /shared/jmarks/rti-nd/gwas/copdgene1/data/genotype/imputed/aa/chr16/\n",
    "aws s3 sync s3://rti-nd/gwas/copdgene1/data/genotype/imputed/aa/chr16/ .\n"
   ]
  },
  {
   "cell_type": "markdown",
   "metadata": {},
   "source": [
    "## Prepare Files "
   ]
  },
  {
   "cell_type": "markdown",
   "metadata": {},
   "source": [
    "### Prune MaCH files\n",
    "The converted genotype data (mach format) files need to be reorder and pruned to match the subjects in the phenotype file. Pg. 7 of the [ProbABEL manual](http://www.genabel.org/sites/default/files/pdfs/ProbABEL_manual.pdf) (or try [this link](https://people.montefiore.uliege.be/kvansteen/GBIO0009-1/ac20102011/Class8/ProbABELmanual.pdf)) reports that the genomic predictor file—which is the dosage file—has in the first column a sequential ID, followed by an arrow followed by the study ID.\n",
    "\n",
    "We will first get a list of the IDs from the phenotype file."
   ]
  },
  {
   "cell_type": "code",
   "execution_count": null,
   "metadata": {},
   "outputs": [],
   "source": [
    "phenD=/shared/jmarks/nicotine/emerge/phenotype/final\n",
    "genD=/shared/jmarks/nicotine/emerge/genotype/imputed\n",
    "filename=copdgene1.aa.CAT_FTND.SEX.AGE.GOLD.EVs\n",
    "\n",
    "tail -n +2 $filename | cut -d\" \" -f1 > phenotype.ids\n",
    "#ln -s $phenD/phenotype.ids $genD\n",
    "\n",
    "#wc -l $genD/phenotype.ids\n",
    "wc -l phenotype.ids\n",
    "\"\"\"2534\"\"\""
   ]
  },
  {
   "cell_type": "code",
   "execution_count": null,
   "metadata": {},
   "outputs": [],
   "source": [
    "## python ##\n",
    "\"\"\"\n",
    "processing.genotype.files.py\n",
    "\n",
    "This script will process the mach.dose genotype files.\n",
    "In particular, it will remove any subjects that are not\n",
    "the phenotype file. It will output the new filtered mach.dose\n",
    "file as well as a file that contains the order of the subject\n",
    "IDs in the genotype files. We will then use this information to\n",
    "reorder the phenotype file.\n",
    "\n",
    "input: chrom name_of_order_file\n",
    "\n",
    "where chrom is the chromosome to process and name_of_order_file is the \n",
    "output name of the file that contains the order of the samples in the genoytpe data\n",
    "\"\"\"\n",
    "import gzip, sys, os\n",
    "\n",
    "os.chdir(\"/shared/jmarks/rti-nd/gwas/copdgene1/data/genotype/imputed/aa\")\n",
    "\n",
    "#chrom = sys.argv[1]\n",
    "chrom = 16\n",
    "#order_name = sys.argv[2]\n",
    "order_name = \"copd1_sample_order.txt\"\n",
    "chunk = 26\n",
    "\n",
    "print(chrom)\n",
    "myfile = \"chr{0}/copdgene.aa.1000G_p3.chr{0}.{1}.mach.mldose.gz\".format(chrom, chunk)\n",
    "keep_ids = \"/shared/jmarks/rti-nd/gwas/copdgene1/data/phenotype/0001/aa/phenotype.ids\"\n",
    "outfile = \"chr{0}/probabel_formatted/copdgene.aa.1000G_p3.chr{0}.{1}.mach.mldose.filtered\".format(chrom, chunk)\n",
    "out_order = \"chr{0}/probabel_formatted/{1}\".format(chrom, order_name)\n",
    "\n",
    "#order.of.genotype.ids\n",
    "with gzip.open(myfile) as inF, open(keep_ids) as sexF, open(outfile, 'w') as outF, open(out_order, \"w\") as outID:\n",
    "    sex_set = set()\n",
    "    for line in sexF:\n",
    "        sex_set.add(line.strip())\n",
    "\n",
    "    line = inF.readline()\n",
    "    count = 1\n",
    "    while line:\n",
    "        sl = line.split()\n",
    "        #gen_id = sl[0].split(\"->\")[0]\n",
    "        gen_id = sl[0]\n",
    "        \n",
    "        if gen_id in sex_set:\n",
    "            sl[0] = \"{}->{}\".format(count, gen_id)\n",
    "            count += 1\n",
    "            newline = \" \".join(sl)\n",
    "            outF.write(newline + \"\\n\")\n",
    "            outID.write(gen_id + \"\\n\")\n",
    "\n",
    "        line = inF.readline()\n",
    "\n",
    "    message = \"chr{0} all done!\".format(chrom)\n",
    "    print(message)"
   ]
  },
  {
   "cell_type": "markdown",
   "metadata": {},
   "source": [
    "###  Reorder phenotype file\n",
    "Reorder the phenotype file to be of the same order as the genotype files.\n",
    "\n",
    "**Note:** the autosomes and chrX will have different orders and will therefore require different phenotype files. This is because chrX is imputed separately for males and females on the Michigan Imputation Server. We have to merge the data after we get them which results in the genotype data being in a disparate order than the autosomes. It might be handier if we just reorder chrX genotype file to be the same order as the autosomes so that we don't have to have to different phenotype files.\n",
    "\n",
    "Since we are not processing chrX for COPDGene1_AA, we will not need to worry about this."
   ]
  },
  {
   "cell_type": "code",
   "execution_count": null,
   "metadata": {},
   "outputs": [],
   "source": [
    "phenD=/shared/jmarks/rti-nd/gwas/copdgene1/data/phenotype/0001/aa\n",
    "head -1 $phenD/copdgene1.aa.CAT_FTND.SEX.AGE.GOLD.EVs >\\\n",
    "    $phenD/copdgene1.aa.CAT_FTND.SEX.AGE.GOLD.EVs.ordered.txt\n",
    "\n",
    "awk 'FNR==NR {x2[$1] = $0; next} $1 in x2 {print x2[$1]}' \\\n",
    "    $phenD/copdgene1.aa.CAT_FTND.SEX.AGE.GOLD.EVs $phenD/copd1_sample_order.txt >>\\\n",
    "    $phenD/copdgene1.aa.CAT_FTND.SEX.AGE.GOLD.EVs.ordered.txt \n",
    "\n",
    "head copdgene1.aa.CAT_FTND.SEX.AGE.GOLD.EVs.ordered.txt\n",
    "#IID CAT_FTND SEX AGE GOLDNEG1 GOLD1OR2 GOLD3OR4 EV3 EV5 EV2 EV8 EV10\n",
    "#10067M 1 2 45.5 0 0 0 0.0581 -0.0475 5e-04 -0.0019 -0.0276\n",
    "#10096T 1 2 47.79999924 0 0 1 0.0171 -0.0083 0.0097 -0.0149 -0.034\n",
    "#10168S 1 1 47.5 0 0 0 0.0457 0.0015 -0.0144 0.0201 -0.0347"
   ]
  },
  {
   "cell_type": "markdown",
   "metadata": {},
   "source": [
    "## Perform GWAS"
   ]
  },
  {
   "cell_type": "code",
   "execution_count": null,
   "metadata": {},
   "outputs": [],
   "source": [
    "procD=/shared/jmarks/rti-nd/gwas/copdgene1/results/categorical_ftnd/0001/afr/processing\n",
    "mkdir -p $workingD\n",
    "genD=/shared/jmarks/rti-nd/gwas/copdgene1/data/genotype/imputed/aa/chr16\n",
    "\n",
    "pheno=/shared/jmarks/rti-nd/gwas/copdgene1/data/phenotype/0001/aa/copdgene1.aa.CAT_FTND.SEX.AGE.GOLD.EVs.ordered.txt\n",
    "\n",
    "method=palinear # GWAS method\n",
    "chr=16\n",
    "ancestry=aa\n",
    "geno_prefix=copdgene.${ancestry}.1000G_p3.chr\n",
    "\n",
    "\n",
    "for chunk in {0..36}; do\n",
    "    outFile=$procD/copdgene1.aa.1000G_p3.chr16.$chunk.CAT_FTND~SNP+AGE+SEX+GOLD+EVs\n",
    "\n",
    "    /shared/jmarks/bioinformatics/software/third_party/probabel-0.5.0/bin/$method \\\n",
    "        --pheno $pheno \\\n",
    "        --dose $genD/probabel_formatted/copdgene.aa.1000G_p3.chr16.$chunk.mach.mldose.filtered \\\n",
    "        --info $genD/copdgene.aa.1000G_p3.chr16.$chunk.mach.mlinfo \\\n",
    "        --map $genD/copdgene.aa.1000G_p3.chr16.$chunk.legend \\\n",
    "        --chrom ${chr} \\\n",
    "        --out $outFile\n",
    "\n",
    "done"
   ]
  },
  {
   "cell_type": "markdown",
   "metadata": {},
   "source": [
    "### Calculate chi, p, and OR"
   ]
  },
  {
   "cell_type": "code",
   "execution_count": null,
   "metadata": {
    "collapsed": true,
    "jupyter": {
     "outputs_hidden": true
    }
   },
   "outputs": [],
   "source": [
    "for chunk in {0..36}; do\n",
    "    Rscript /shared/jmarks/bioinformatics/software/R/calculate_stats_for_probabel_results.R \\\n",
    "        --in_file $procD/copdgene1.aa.1000G_p3.chr16.$chunk.CAT_FTND~SNP+AGE+SEX+GOLD+EVs_add.out.txt \\\n",
    "        --out_file $procD/copdgene1.aa.1000G_p3.chr16.$chunk.CAT_FTND~SNP+AGE+SEX+GOLD+EVs_add.out.stats.txt \\\n",
    "        --complete\n",
    "done"
   ]
  },
  {
   "cell_type": "markdown",
   "metadata": {},
   "source": [
    "### Combine Chunks"
   ]
  },
  {
   "cell_type": "code",
   "execution_count": null,
   "metadata": {},
   "outputs": [],
   "source": [
    "head -1 $procD/copdgene1.aa.1000G_p3.chr16.0.CAT_FTND~SNP+AGE+SEX+GOLD+EVs_add.out.stats.txt >\\\n",
    "    $procD/copdgene1.aa.1000G_p3.chr16.CAT_FTND~SNP+AGE+SEX+GOLD+EVs_add.out.stats.txt\n",
    "\n",
    "for chunk in {0..36}; do\n",
    "    tail -n +2 $procD/copdgene1.aa.1000G_p3.chr16.$chunk.CAT_FTND~SNP+AGE+SEX+GOLD+EVs_add.out.stats.txt >>\\\n",
    "    $procD/copdgene1.aa.1000G_p3.chr16.CAT_FTND~SNP+AGE+SEX+GOLD+EVs_add.out.stats.txt\n",
    "done"
   ]
  },
  {
   "cell_type": "markdown",
   "metadata": {},
   "source": [
    "### Filter Results and Plot\n",
    "\n",
    "We will apply the filters\n",
    "* MAF > 0.01\n",
    "* and Rsq > 0.3\n",
    "\n",
    "to the results of the GWAS analysis. Once the results are filtered, we will generate a [quantile-quantile (QQ) plot](http://physiology.med.cornell.edu/people/banfelder/qbio/resources_2013/2013_1_Mezey.pdf) as well as a [Manhattan plot](https://www.sciencedirect.com/topics/medicine-and-dentistry/manhattan-plot).\n"
   ]
  },
  {
   "cell_type": "code",
   "execution_count": null,
   "metadata": {},
   "outputs": [],
   "source": [
    "\n",
    "# MAF > 0.01 in AFR (AA)\n",
    "\n",
    "# this is a list of all of the variants that have a MAF less than 0.01. We will use this as a remove list.\n",
    "\n",
    "/shared/jmarks/bioinformatics/software/perl/utilities/extract_rows.pl \\\n",
    "    --source $procD/copdgene1.aa.1000G_p3.chr16.CAT_FTND~SNP+AGE+SEX+GOLD+EVs_add.out.stats.txt \\\n",
    "    --id_list /shared/jmarks/rti-common/ref_panels/1000G/2014.10/1000GP_Phase3_chr16.maf_lte_0.01_afr \\\n",
    "    --out $procD/copdgene1.aa.1000G_p3.chr16.CAT_FTND~SNP+AGE+SEX+GOLD+EVs.maf_gt_0.01_afr \\\n",
    "    --header 1 \\\n",
    "    --id_column 0 \\\n",
    "    --remove\n",
    "done\n",
    "\n",
    "# move to file dir\n",
    "mv $procD/copdgene1.aa.1000G_p3.chr16.CAT_FTND~SNP+AGE+SEX+GOLD+EVs.maf_gt_0.01_afr \\\n",
    "    /shared/jmarks/rti-nd/gwas/copdgene1/results/categorical_ftnd/0001/afr/final\n",
    "\n",
    "wc -l  copdgene1.aa.1000G_p3.chr16.CAT_FTND~SNP+AGE+SEX+GOLD+EVs.maf_gt_0.01_afr\n",
    "#531786 copdgene1.aa.1000G_p3.chr16.CAT_FTND~SNP+AGE+SEX+GOLD+EVs.maf_gt_0.01_afr\n",
    "\n",
    "\n",
    "inFile=copdgene1.aa.1000G_p3.chr16.CAT_FTND~SNP+AGE+SEX+GOLD+EVs.maf_gt_0.01_afr\n",
    "outFile=copdgene1.aa.1000G_p3.chr16.CAT_FTND~SNP+AGE+SEX+GOLD+EVs.maf_gt_0.01_afr+copdgene1\n",
    "echo Processing $inFile\n",
    "head -n 1 $inFile > $outFile\n",
    "tail -n +2 $inFile | \\\n",
    "# ?: is a non-capturing group. Basically, This is skipping groups 1-6 and capturing\n",
    "# the 7th column which is the MAF column\n",
    "perl -lne '/^(?:\\S+\\s+){6}(\\S+)/;\n",
    "            if ( $1 > 0.01) {\n",
    "                print;\n",
    "            }' >> $outFile\n",
    "\n",
    "# Filter out variants with Rsq <= 0.3 in study\n",
    "inFile=copdgene1.aa.1000G_p3.chr16.CAT_FTND~SNP+AGE+SEX+GOLD+EVs.maf_gt_0.01_afr+copdgene1\n",
    "outFile=copdgene1.aa.1000G_p3.chr16.CAT_FTND~SNP+AGE+SEX+GOLD+EVs.maf_gt_0.01_afr+copdgene1.rsq_gt_0.3\n",
    "echo Processing $inFile\n",
    "head -n 1 $inFile > $outFile\n",
    "tail -n +2 $inFile |\n",
    "    perl -lne '/^(?:\\S+\\s+){8}(\\S+)/;\n",
    "                if ( $1 > 0.3) {\n",
    "                    print;\n",
    "                }' >> $outFile\n",
    "\n",
    "\n",
    "\n",
    "\n",
    "### END Filter ###\n"
   ]
  },
  {
   "cell_type": "code",
   "execution_count": null,
   "metadata": {},
   "outputs": [],
   "source": [
    "# upload to S3\n",
    "gzip copdgene1.aa.1000G_p3.chr16.CAT_FTND~SNP+AGE+SEX+GOLD+EVs.maf_gt_0.01_afr+copdgene1.rsq_gt_0.3\n",
    "\n",
    "aws s3 cp copdgene1.aa.1000G_p3.chr16.CAT_FTND~SNP+AGE+SEX+GOLD+EVs.maf_gt_0.01_afr+copdgene1.rsq_gt_0.3.gz \\\n",
    "s3://rti-nd/gwas/copdgene1/results/categorical_ftnd/0001/afr/final_stats/copdgene1.aa.1000G_p3.chr16.CAT_FTND~SNP+AGE+SEX+GOLD+EVs.maf_gt_0.01_afr+copdgene1+RSQ.phase3ID.gz\n",
    "\n",
    "# note that I came back a few hours later and reordered the columns and changed the name\n",
    "# of a few of the fields to match the other chr results"
   ]
  },
  {
   "cell_type": "code",
   "execution_count": null,
   "metadata": {},
   "outputs": [],
   "source": [
    "### START Generate plots ###\n",
    "# use automated workflow\n",
    "\n",
    "# view the plots on S3\n",
    "#s3://rti-nd/gwas/copdgene1/results/categorical_ftnd/0001/afr/plots/"
   ]
  }
 ],
 "metadata": {
  "kernelspec": {
   "display_name": "R",
   "language": "R",
   "name": "ir"
  },
  "language_info": {
   "codemirror_mode": "r",
   "file_extension": ".r",
   "mimetype": "text/x-r-source",
   "name": "R",
   "pygments_lexer": "r",
   "version": "4.0.3"
  },
  "toc": {
   "nav_menu": {},
   "number_sections": true,
   "sideBar": true,
   "skip_h1_title": false,
   "toc_cell": false,
   "toc_position": {
    "height": "724px",
    "left": "0px",
    "right": "1468px",
    "top": "111px",
    "width": "212px"
   },
   "toc_section_display": "block",
   "toc_window_display": true
  }
 },
 "nbformat": 4,
 "nbformat_minor": 4
}
