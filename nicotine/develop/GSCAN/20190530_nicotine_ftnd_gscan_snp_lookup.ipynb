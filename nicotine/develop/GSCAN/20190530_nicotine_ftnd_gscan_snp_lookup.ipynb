{
 "cells": [
  {
   "cell_type": "markdown",
   "metadata": {},
   "source": [
    "# Extension of GSCAN results to nicotine dependence (issue #59)\n",
    "\n",
    "**Author:** Jesse Marks\n",
    "\n",
    "We have preliminary results from a very large-scale genome-wide study for cigarette smoking phenotypes that relate to our nicotine dependence GWAS results. See the supplemental Tables S7-S9 here: \n",
    "\n",
    "`//RTPNFIL02/dhancock/Analysis/GSCAN/shared MS version 1/Supplementary_Tables_S6-S12_Loci.xlsx`.\n",
    "\n",
    "The phenotypes of interest to us include: \n",
    "\n",
    "1) **Age of smoking initiation (AI)** - supplemental table 6\n",
    "\n",
    "2) **Cigarettes per day (CPD)** - supplemental table 7\n",
    "\n",
    "3) **Smoking cessation (SC)** - supplemental table 8\n",
    "\n",
    "4) **smoking initiation (SI)** - supplemental table 9\n",
    "\n",
    "We're interested in seeing whether these associations extend over to nicotine dependence. I use the SNP look-up script to extend Tables S6-S9 with our FTND meta-analysis results on S3 at:\n",
    "* `s3://rti-nd/META/1df/results/cross/final`\n",
    "* `s3://rti-nd/META/1df/results/ea/final`\n",
    "* `s3://rti-nd/META/1df/results/aa`\n",
    "\n",
    "<br>\n",
    "\n",
    "**Note** that because the meta-analysis results files are quite large, we will not perform the search locally. "
   ]
  },
  {
   "cell_type": "markdown",
   "metadata": {},
   "source": [
    "## Download Data\n",
    "Create the directory structure and download the meta-analysis results to EC2. Also, create a list of SNPs for the lookup from the GSCAN Excel sheet. Copy the SNPs from each of the four Excel sheets (supplemental tables) into separate files and then combine them (no duplicates)."
   ]
  },
  {
   "cell_type": "code",
   "execution_count": null,
   "metadata": {
    "collapsed": true,
    "jupyter": {
     "outputs_hidden": true
    }
   },
   "outputs": [],
   "source": [
    "## EC2 ##\n",
    "\n",
    "# Create directory \n",
    "mkdir -p /shared/jmarks/nicotine/gscan/lookup/20190530/{aa,ea,cross}\n",
    "cd /shared/jmarks/nicotine/gscan/lookup/20190530\n",
    "\n",
    "# populate these files with the SNPs from respective Excel sheets\n",
    "touch age_of_initiation.tsv  cig_per_day.tsv  smoking_cessation.tsv  smoking_initiation.tsv\n",
    "wc -l * # note these are with headers\n",
    "\"\"\"\n",
    "   11 age_of_initiation\n",
    "   56 cig_per_day\n",
    "   25 smoking_cessation\n",
    "  377 smoking_initiation\n",
    "\"\"\"\n",
    "\n",
    "head age_of_initiation\n",
    "\"\"\"\n",
    "Chr     Pos     rsID    Reference Allele        Alternate Allele\n",
    "2       145638766       rs72853300      C       T\n",
    "2       225353649       rs12611472      T       C\n",
    "2       63622309        rs7559982       T       A\n",
    "3       85699040        rs11915747      C       G\n",
    "4       140908755       rs13136239      G       A\n",
    "\"\"\"\n",
    "\n",
    "# combine SNPs into one file, make sure SNPs are not listed twice\n",
    "head -1 age_of_initiation.tsv > combined_snp_list.tsv\n",
    "for file in age_of_initiation.tsv cig_per_day.tsv smoking_cessation.tsv smoking_initiation.tsv; do\n",
    "    tail -n +2 $file >> combined_snp_list.tsv\n",
    "done\n",
    "\n",
    "# filter so that there are no duplicated SNPs (no header either)\n",
    "tail -n +2 combined_snp_list.tsv | sort -u > combined_snp_list_filtered.tsv\n",
    "\n",
    "# convert to 1000g_p3 format\n",
    "awk '{print $3\":\"$2\":\"$4\":\"$5\"\\t\"$1}' combined_snp_list_filtered.tsv > combined_snp_list_filtered_1000g_p3_chr.tsv"
   ]
  },
  {
   "cell_type": "markdown",
   "metadata": {},
   "source": [
    "``` \n",
    "wc -l combined_snp_list_filtered_1000g_p3_chr.tsv\n",
    "460 combined_snp_list_filtered_1000g_p3_chr.tsv\n",
    "\n",
    " head combined_snp_list_filtered_1000g_p3_chr.tsv\n",
    "rs7920501:10043159:T:A  10\n",
    "rs7901883:103186838:G:A 10\n",
    "rs11594623:103960351:T:C        10\n",
    "rs11191269:104120522:C:G        10\n",
    "rs28408682:104403310:A:G        10\n",
    "rs12244388:104640052:G:A        10\n",
    "rs111842178:104852121:A:G       10\n",
    "rs34970111:106078937:C:T        10\n",
    "rs9787523:106460460:T:C 10\n",
    "rs11192347:106929313:G:A        10\n",
    "```"
   ]
  },
  {
   "cell_type": "markdown",
   "metadata": {},
   "source": [
    "## SNP lookup\n",
    "I need to create a dictionary of the GSCAN SNPs and then see if each SNP in the meta-analysis is in the dictionary. I think this makes more sense rather than vice-versa; in particular, creating a dictionary for each SNP in the meta-analysis and then searching to see if the GSCAN SNPs are in the dictionary. This latter strategy would require a large amount of memory to create the Python dictionary. The former strategy makes more sense when comsidering computation expense. \n",
    "\n",
    "Also note that there are some SNPs in the meta-analysis which have the format of `chr:position:a1:a2` instead of `rsid:position:a1:a2`. I think the reason is that these SNPs of the former format did not have an associated rsID available. If a GSCAN SNP is not found in the lookup, then we need to output the SNPs that were not found and deal with those later. It might be the case that we have to convert them from `rsid:position:a1:a2` format to `chr:position:a1:a2` and then perform the search again with just these SNPs."
   ]
  },
  {
   "cell_type": "markdown",
   "metadata": {},
   "source": [
    "### AA"
   ]
  },
  {
   "cell_type": "code",
   "execution_count": null,
   "metadata": {},
   "outputs": [],
   "source": [
    "### Python3 ###\n",
    "\"\"\"\n",
    "*SNP lookup*\n",
    "\n",
    "    Make sure the IDs are of the same format for the snp-list\n",
    "    and the IDs in the meta-analysis results. e.g. 1000g_p3 or rsID only\n",
    "\"\"\"\n",
    "import gzip\n",
    "\n",
    "################################################################################\n",
    "date = \"20190530\" # date the results were generated (in results files name)\n",
    "ancestry = \"aa\"\n",
    "\n",
    "if ancestry==\"aa\":\n",
    "    pop = \"afr\"\n",
    "elif ancestry==\"ea\":\n",
    "    pop = \"eur\"\n",
    "else:\n",
    "    pop = \"afr+eur\"\n",
    "\n",
    "## dict to hold gscan snps and the number of times they were found.\n",
    "## we can tell which SNPs did not show up in any of the meta files\n",
    "gscan_dict =  {}\n",
    "base_dir = \"/shared/jmarks/nicotine/gscan/lookup/20190530\"\n",
    "snp_list = \"{}/combined_snp_list_filtered_1000g_p3_chr.tsv\".format(base_dir)\n",
    "\n",
    "for chrom in range(1,23):\n",
    "    progress = \"Prosessing {} {}\".format(ancestry, chrom)\n",
    "    #print(progress)\n",
    "    out_file = \"{}/{}/{}_{}_chr{}_ftnd_meta_analysis_wave3_1df_gscan_lookup.txt\".format(base_dir, ancestry, date, pop, chrom)\n",
    "    results = \"20181106_ftnd_meta_analysis_wave3.afr.chr{}.exclude_singletons.1df.gz\".format(chrom)\n",
    "    meta = \"/shared/jmarks/nicotine/meta/results/{}/{}\".format(ancestry, results)\n",
    "    not_found = \"{}/{}/{}_{}_ftnd_meta_analysis_wave3_gscan_snps_not_found\".format(base_dir, ancestry, date, pop)\n",
    "################################################################################\n",
    "\n",
    "    with gzip.open(meta) as metF, open(snp_list) as gscanF, open(out_file, \"w\") as outF:\n",
    "        gscan_line = gscanF.readline()\n",
    "        met_head = metF.readline()\n",
    "        met_line = metF.readline()\n",
    "\n",
    "        outF.write(met_head)\n",
    "\n",
    "        ## create a dictionary containing the gscan snps (just 1000G_p3 portion)\n",
    "        if len(gscan_dict) == 0:\n",
    "            while gscan_line:\n",
    "                key = gscan_line.split()[0] # SNP id\n",
    "                value = gscan_line.split()[1] #chromosome\n",
    "                gscan_dict[key] = [0, value]\n",
    "                gscan_line = gscanF.readline()\n",
    "\n",
    "        while met_line:\n",
    "            met_id = met_line.split()[0] # the 1000g_p3 ID in the meta-analysis\n",
    "            if met_id in gscan_dict:\n",
    "                gscan_dict[met_id][0] += 1\n",
    "                outF.write(met_line)\n",
    "            met_line = metF.readline()\n",
    "\n",
    "with open(not_found, \"w\") as notF:\n",
    "    notF.write(\"id\\tchr\\n\")\n",
    "    for key, value in gscan_dict.items():\n",
    "        if value[0]==0:\n",
    "            notF.write(key + \"\\t\" +  value[1] + \"\\n\")"
   ]
  },
  {
   "cell_type": "code",
   "execution_count": null,
   "metadata": {},
   "outputs": [],
   "source": [
    "### bash ###\n",
    "\n",
    "## merge results\n",
    "cd /shared/jmarks/nicotine/gscan/lookup/20190530/aa\n",
    "head -1 20190530_afr_chr6_ftnd_meta_analysis_wave3_1df_gscan_lookup.txt >\\\n",
    "    20190530_afr_ftnd_1df_meta_analysis_wave3_gscan_lookup_merged_results.txt\n",
    "    \n",
    "for file in 20190530_afr_chr{1..22}_ftnd_meta_analysis_wave3_1df_gscan_lookup.txt; do\n",
    "    tail -n +2 $file >> 20190530_afr_ftnd_1df_meta_analysis_wave3_gscan_lookup_merged_results.txt \n",
    "done "
   ]
  },
  {
   "cell_type": "markdown",
   "metadata": {},
   "source": [
    "### EA\n",
    "simply change the `ancestry, pop,` and `date` variables at the top of the script."
   ]
  },
  {
   "cell_type": "code",
   "execution_count": null,
   "metadata": {},
   "outputs": [],
   "source": [
    "### bash ### \n",
    "\n",
    "## merge results\n",
    "cd /shared/jmarks/nicotine/gscan/lookup/20190530/ea\n",
    "head -1 20190530_eur_chr8_ftnd_meta_analysis_wave3_1df_gscan_lookup.txt >\\\n",
    "    20190530_eur_ftnd_1df_meta_analysis_wave3_gscan_lookup_merged_results.txt\n",
    "for file in 20190530_eur_chr{1..22}_ftnd_meta_analysis_wave3_1df_gscan_lookup.txt;do\n",
    "    tail -n +2 $file >> 20190530_eur_ftnd_1df_meta_analysis_wave3_gscan_lookup_merged_results.txt\n",
    "done"
   ]
  },
  {
   "cell_type": "markdown",
   "metadata": {},
   "source": [
    "### Cross-Ancestry\n",
    "simply change the `ancestry, pop,` and `date` variables at the top of the script."
   ]
  },
  {
   "cell_type": "code",
   "execution_count": null,
   "metadata": {},
   "outputs": [],
   "source": [
    "### bash ### \n",
    "\n",
    "## merge results\n",
    "cd /shared/jmarks/nicotine/gscan/lookup/cross\n",
    "head -1 20190530_afr+eur_chr8_ftnd_meta_analysis_wave3_1df_gscan_lookup.txt >\\\n",
    "    20190530_afr+eur_ftnd_1df_meta_analysis_wave3_gscan_lookup_merged_results.txt\n",
    "for file in 20190530_afr+eur_chr{1..22}_ftnd_meta_analysis_wave3_1df_gscan_lookup.txt;do\n",
    "    tail -n +2 $file >> 20190530_afr+eur_ftnd_1df_meta_analysis_wave3_gscan_lookup_merged_results.txt\n",
    "done"
   ]
  },
  {
   "cell_type": "markdown",
   "metadata": {},
   "source": [
    "# Retrieve Missing SNPs\n",
    "Some SNPs were not retrieved.\n",
    "* 43 not found for AA\n",
    "* 10 not found for EA\n",
    "* 10 not found for cross-ancestry"
   ]
  }
 ],
 "metadata": {
  "kernelspec": {
   "display_name": "Python 3",
   "language": "python",
   "name": "python3"
  },
  "language_info": {
   "codemirror_mode": {
    "name": "ipython",
    "version": 3
   },
   "file_extension": ".py",
   "mimetype": "text/x-python",
   "name": "python",
   "nbconvert_exporter": "python",
   "pygments_lexer": "ipython3",
   "version": "3.9.4"
  },
  "toc": {
   "nav_menu": {},
   "number_sections": true,
   "sideBar": true,
   "skip_h1_title": false,
   "toc_cell": false,
   "toc_position": {
    "height": "628px",
    "left": "0px",
    "right": "1468px",
    "top": "107px",
    "width": "266px"
   },
   "toc_section_display": "block",
   "toc_window_display": false
  }
 },
 "nbformat": 4,
 "nbformat_minor": 4
}
