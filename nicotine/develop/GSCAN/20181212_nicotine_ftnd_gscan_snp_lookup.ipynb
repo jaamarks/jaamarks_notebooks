{
 "cells": [
  {
   "cell_type": "markdown",
   "metadata": {},
   "source": [
    "# Extension of GSCAN results to nicotine dependence (issue #59)\n",
    "\n",
    "**Author:** Jesse Marks\n",
    "\n",
    "We have preliminary results from a very large-scale genome-wide study for cigarette smoking phenotypes that relate to our nicotine dependence GWAS results. See the supplemental Tables S7-S9 here: \n",
    "\n",
    "`\\rcdcollaboration01.rti.ns\\GxG\\Analysis\\GSCAN\\shared MS version 1\\`.\n",
    "\n",
    "The phenotypes of interest to us include: \n",
    "\n",
    "1) **Age of smoking initiation (AI)** - supplemental table 6\n",
    "\n",
    "2) **Cigarettes per day (CPD)** - supplemental table 7\n",
    "\n",
    "3) **Smoking cessation (SC)** - supplemental table 8\n",
    "\n",
    "4) **smoking initiation (SI)** - supplemental table 9\n",
    "\n",
    "We're interested in seeing whether these associations extend over to nicotine dependence. I use the SNP look-up script to extend Tables S6-S9 with our FTND meta-analysis results on S3 at:\n",
    "`s3://rti-nd/META/1df/20181108/results/{aa,cross,ea}`\n",
    "\n",
    "<br>\n",
    "\n",
    "**Note** that because the meta-analysis results files are quite large, we will not perform the search locally. Also, the meta-analysis results were already on my EC2 instance so that I did not have to download them from S3.\n",
    "`/shared/jmarks/nicotine/meta/results/aa/20181106/final`\n",
    "`/shared/jmarks/nicotine/meta/results/ea/20181106/final`\n",
    "`/shared/jmarks/nicotine/meta/results/cross/20181106/final`"
   ]
  },
  {
   "cell_type": "markdown",
   "metadata": {},
   "source": [
    "## Download Data\n",
    "Create the directory structure and download the meta-analysis results to EC2. Also, create a list of SNPs for the lookup from the GSCAN Excel sheet. Copy the SNPs from each of the four Excel sheets (supplemental tables) into separate files and then combine them (no duplicates)."
   ]
  },
  {
   "cell_type": "code",
   "execution_count": null,
   "metadata": {
    "collapsed": true
   },
   "outputs": [],
   "source": [
    "## EC2 ##\n",
    "\n",
    "# Create directory structure locally\n",
    "cd /shared/jmarks/nicotine/gscan/lookup/20181212\n",
    "\n",
    "# populate these files with the SNPs from respective Excel sheets\n",
    "touch age_of_initiation.tsv  cig_per_day.tsv  smoking_cessation.tsv  smoking_initiation.tsv\n",
    "wc -l * # note these are with headers\n",
    "\"\"\"\n",
    "   11 age_of_initiation\n",
    "   56 cig_per_day\n",
    "   25 smoking_cessation\n",
    "  377 smoking_initiation\n",
    "\"\"\"\n",
    "\n",
    "# combine SNPs into one file, make sure SNPs are not listed twice\n",
    "head -1 age_of_initiation.tsv > combined_snp_list.tsv\n",
    "for file in age_of_initiation.tsv cig_per_day.tsv smoking_cessation.tsv smoking_initiation.tsv;do\n",
    "    tail -n +2 $file >> combined_snp_list.tsv\n",
    "done\n",
    "\n",
    "# filter so that there are no duplicated SNPs (no header either)\n",
    "tail -n +2 combined_snp_list.tsv | sort -u > combined_snp_list_filtered.tsv\n",
    "\n",
    "# convert to 1000g_p3 format\n",
    "awk '{print $3\":\"$2\":\"$4\":\"$5\"\\t\"$1}' combined_snp_list_filtered.tsv > combined-snp_list-filtered-1000g_p3-chr.tsv"
   ]
  },
  {
   "cell_type": "markdown",
   "metadata": {},
   "source": [
    "``` \n",
    "wc -l combined-snp_list-filtered-1000g_p3-chr.tsv\n",
    "460 combined-snp_list-filtered-1000g_p3-chr.tsv\n",
    "\n",
    " head combined-snp_list-filtered-1000g_p3-chr.tsv\n",
    "rs7920501:10043159:T:A  10\n",
    "rs7901883:103186838:G:A 10\n",
    "rs11594623:103960351:T:C        10\n",
    "rs11191269:104120522:C:G        10\n",
    "rs28408682:104403310:A:G        10\n",
    "rs12244388:104640052:G:A        10\n",
    "```\n",
    "\n"
   ]
  },
  {
   "cell_type": "markdown",
   "metadata": {},
   "source": [
    "## SNP lookup\n",
    "The latest FTND meta-analysis results, as of 20181212, are at the location `/shared/jmarks/nicotine/meta/results/{aa,ea,cross}`. They are also on AWS S3 at: `s3://rti-nd/META/1df/20181108/results/{aa,ea,cross}`. If they had not been on my EC2 instance already I would have had to download the data from S3.\n",
    "\n",
    "I need to create a dictionary of the GSCAN SNPs and then see if each SNP in the meta-analysis is in the dictionary. I think this makes more sense than vice-versa; in particular, creating a dictionary for each SNP in the meta-analysis and then searching to see if the GSCAN SNPs are in the dictionary. This latter strategy would require a large amount of memory to create the Python dictionary. I think the former strategy makes more computational sense. \n",
    "\n",
    "Also note that there are some SNPs in the meta-analysis which have the format of `chr:position:a1:a2` instead of `rsid:position:a1:a2`. I think the reason is that these SNPs of the former format did not have an associated rsID available. If a GSCAN SNP is not found in the lookup, then we need to output the SNPs that were not found and deal with those later. It might be the case that they we have to convert them from `rsid:position:a1:a2` format to `chr:position:a1:a2` and then perform the search again with just these SNPs."
   ]
  },
  {
   "cell_type": "markdown",
   "metadata": {},
   "source": [
    "### AA"
   ]
  },
  {
   "cell_type": "code",
   "execution_count": null,
   "metadata": {},
   "outputs": [],
   "source": [
    "### Python3 ###\n",
    "\"\"\"\n",
    "*SNP lookup*\n",
    "\n",
    "    Make sure the IDs are of the same format for the snp-list\n",
    "    and the IDs in the meta-analysis results. e.g. 1000g_p3 or rsID only\n",
    "\"\"\"\n",
    "import gzip\n",
    "\n",
    "################################################################################\n",
    "date = \"20181108\" # date the results were generated (in results files name)\n",
    "ancestry = \"ea\"\n",
    "\n",
    "if ancestry==\"aa\":\n",
    "    pop = \"afr\"\n",
    "elif ancestry==\"ea\":\n",
    "    pop = \"eur\"\n",
    "else:\n",
    "    pop = \"afr+eur\"\n",
    "\n",
    "## dict to hold gscan snps and the number of times they were found.\n",
    "## we can tell which SNPs did not show up in any of the meta files\n",
    "gscan_dict =  {}\n",
    "out_dir = \"/shared/jmarks/nicotine/gscan/lookup/20181212\"\n",
    "snp_list = \"{}/combined-snp_list-filtered-1000g_p3-chr.tsv\".format(out_dir)\n",
    "\n",
    "for chrom in range(1,23):\n",
    "    out_file = \"{}/{}/002/{}-{}-chr{}-ftnd_meta_analysis-wave3-1df-gscan-lookup.txt\".format(out_dir, ancestry, date, pop, chrom)\n",
    "    results = \"{}_ftnd_meta_analysis_wave3.{}.chr{}.exclude_singletons.1df.gz\".format(date, pop, chrom)\n",
    "    meta = \"/shared/jmarks/nicotine/meta/results/{}/{}/final/{}\".format(ancestry, date, results)\n",
    "    not_found = \"{}/{}/002/{}-{}-ftnd_meta_analysis_wave3-gscan-snps-not-found\".format(out_dir, ancestry, date, pop)\n",
    "################################################################################\n",
    "\n",
    "    with gzip.open(meta) as metF, open(snp_list) as gscanF, open(out_file, \"w\") as outF:\n",
    "        gscan_line = gscanF.readline()\n",
    "        met_head = metF.readline()\n",
    "        met_line = metF.readline()\n",
    "\n",
    "        outF.write(met_head)\n",
    "\n",
    "\n",
    "        ## create a dictionary containing the gscan snps\n",
    "        if len(gscan_dict) == 0:\n",
    "            while gscan_line:\n",
    "                key = gscan_line.split()[0]\n",
    "                gscan_dict[key] = 0\n",
    "                gscan_line = gscanF.readline()\n",
    "\n",
    "\n",
    "        while met_line:\n",
    "            met_id = met_line.split()[0] # the 1000g_p3 ID in the meta-analysis\n",
    "\n",
    "            if met_id in gscan_dict:\n",
    "                gscan_dict[met_id] += 1\n",
    "                outF.write(met_line)\n",
    "            met_line = metF.readline()\n",
    "\n",
    "with open(not_found, \"w\") as notF:\n",
    "    for key, value in gscan_dict.items():\n",
    "        if value==0:\n",
    "            notF.write(key + \"\\n\")\n",
    "\n",
    "                                                                                                                                "
   ]
  },
  {
   "cell_type": "code",
   "execution_count": null,
   "metadata": {},
   "outputs": [],
   "source": [
    "### bash ###\n",
    "\n",
    "## merge results\n",
    "cd /shared/jmarks/nicotine/gscan/lookup/20181212/aa/002\n",
    "head -1 20181106-afr-chr8-ftnd_meta_analysis-wave3-1df-gscan-lookup.txt >\\\n",
    "    20181106-afr-ftnd-1df-meta_analysis-wave3-gscan-lookup-merged-results.txt\n",
    "    \n",
    "for file in 20181106-afr-chr{1..22}-ftnd_meta_analysis-wave3-1df-gscan-lookup.txt; do\n",
    "    tail -n +2 $file >> 20181106-afr-ftnd-1df-meta_analysis-wave3-gscan-lookup-merged-results.txt\n",
    "done"
   ]
  },
  {
   "cell_type": "markdown",
   "metadata": {},
   "source": [
    "### EA\n",
    "simply change the `ancestry, pop,` and `date` variables at the top of the script."
   ]
  },
  {
   "cell_type": "code",
   "execution_count": null,
   "metadata": {},
   "outputs": [],
   "source": [
    "### bash ### \n",
    "\n",
    "## merge results\n",
    "cd /shared/jmarks/nicotine/gscan/lookup/20181212/ea/002\n",
    "head -1 20181108-eur-chr8-ftnd_meta_analysis-wave3-1df-gscan-lookup.txt >\\\n",
    "    20181108-eur-ftnd-1df-meta_analysis-wave3-gscan-lookup-merged-results.txt\n",
    "for file in 20181108-eur-chr{1..22}-ftnd_meta_analysis-wave3-1df-gscan-lookup.txt;do\n",
    "    tail -n +2 $file >> 20181108-eur-ftnd-1df-meta_analysis-wave3-gscan-lookup-merged-results.txt\n",
    "done"
   ]
  },
  {
   "cell_type": "markdown",
   "metadata": {},
   "source": [
    "### Cross-Ancestry\n",
    "simply change the `ancestry, pop,` and `date` variables at the top of the script."
   ]
  },
  {
   "cell_type": "code",
   "execution_count": null,
   "metadata": {},
   "outputs": [],
   "source": [
    "### bash ### \n",
    "\n",
    "## merge results\n",
    "cd /shared/jmarks/nicotine/gscan/lookup/20181212/cross/002\n",
    "head -1 20181108-afr+eur-chr8-ftnd_meta_analysis-wave3-1df-gscan-lookup.txt > 20181108-afr+eur-ftnd-1df-meta_analysis-wave3-gscan-lookup-merged-results.txt\n",
    "for file in 20181108-afr+eur-chr{1..22}-ftnd_meta_analysis-wave3-1df-gscan-lookup.txt;do\n",
    "    tail -n +2 $file >> 20181108-afr+eur-ftnd-1df-meta_analysis-wave3-gscan-lookup-merged-results.txt\n",
    "done\n"
   ]
  },
  {
   "cell_type": "markdown",
   "metadata": {},
   "source": [
    "# Retrieve Missing SNPs\n",
    "There were four SNPs missing from the SNP-lookup—the same four SNPs for each meta-analysis (i.e. aa, ea, and cross)."
   ]
  }
 ],
 "metadata": {
  "kernelspec": {
   "display_name": "Python 3",
   "language": "python",
   "name": "python3"
  },
  "language_info": {
   "codemirror_mode": {
    "name": "ipython",
    "version": 3
   },
   "file_extension": ".py",
   "mimetype": "text/x-python",
   "name": "python",
   "nbconvert_exporter": "python",
   "pygments_lexer": "ipython3",
   "version": "3.7.1"
  },
  "toc": {
   "nav_menu": {},
   "number_sections": true,
   "sideBar": true,
   "skip_h1_title": false,
   "toc_cell": false,
   "toc_position": {
    "height": "628px",
    "left": "0px",
    "right": "1468px",
    "top": "107px",
    "width": "266px"
   },
   "toc_section_display": "block",
   "toc_window_display": false
  }
 },
 "nbformat": 4,
 "nbformat_minor": 2
}
