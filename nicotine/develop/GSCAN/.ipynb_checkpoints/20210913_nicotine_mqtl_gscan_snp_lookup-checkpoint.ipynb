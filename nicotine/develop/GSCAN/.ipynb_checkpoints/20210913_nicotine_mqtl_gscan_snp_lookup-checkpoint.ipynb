{
 "cells": [
  {
   "cell_type": "markdown",
   "metadata": {},
   "source": [
    "# Extension of GSCAN results to mQTL\n",
    "\n",
    "**Author:** Jesse Marks\n",
    "\n",
    "**GitHub Issue:**  [LIBD NAc mQTL Analysis #142](https://github.com/RTIInternational/bioinformatics/issues/142)\n",
    "\n",
    "We have preliminary results from a very large-scale genome-wide study for cigarette smoking phenotypes that relate to our nicotine dependence GWAS results. See the supplemental Tables S6-S9 here: \n",
    "\n",
    "`smb://RTPNFIL02/dhancock/dhancock/Nicotine/Analysis/GSCAN/shared MS version 1/Supplementary_Tables_S6-S12_Loci.xlsx`\n",
    "\n",
    "The phenotypes of interest to us include: \n",
    "\n",
    "1) **Age of smoking initiation (AI)** - supplemental table 6\n",
    "\n",
    "2) **Cigarettes per day (CPD)** - supplemental table 7\n",
    "\n",
    "3) **Smoking cessation (SC)** - supplemental table 8\n",
    "\n",
    "4) **smoking initiation (SI)** - supplemental table 9"
   ]
  },
  {
   "cell_type": "markdown",
   "metadata": {},
   "source": [
    "## Download Data\n",
    "Create the directory structure and download the meta-analysis results to EC2. Also, create a list of SNPs for the lookup from the GSCAN Excel sheet. Copy the SNPs from each of the four Excel sheets (supplemental tables) into separate files and then combine them (no duplicates)."
   ]
  },
  {
   "cell_type": "code",
   "execution_count": null,
   "metadata": {
    "tags": []
   },
   "outputs": [],
   "source": [
    "## EC2 ##\n",
    "# Create directory \n",
    "mkdir -p /shared/rti-nd/lookup/gscan/20210915/\n",
    "cd /shared/rti-nd/lookup/gscan/20210915/\n",
    "\n",
    "# populate these files with the SNPs from respective Excel sheets\n",
    "# I just copy/pasted since there were not that many\n",
    "touch table6_age_of_initiation.txt  table7_cig_per_day.txt  table8_smoking_cessation.txt  table9_smoking_initiation.txt\n",
    "\n",
    "# make space separated (and use vim to edit header by adding underscores in header name when spaces are present in one field)\n",
    "awk '$1=$1' table6_age_of_initiation.txt  > tmp && mv tmp table6_age_of_initiation.txt\n",
    "awk '$1=$1' table7_cig_per_day.txt  > tmp && mv tmp table7_cig_per_day.txt\n",
    "awk '$1=$1' table8_smoking_cessation.txt  > tmp && mv tmp table8_smoking_cessation.txt\n",
    "awk '$1=$1' table9_smoking_initiation.txt  > tmp && mv tmp table9_smoking_initiation.txt\n",
    "\n",
    "wc -l * # note these are with headers\n",
    "\"\"\"\n",
    "   11 table6_age_of_initiation.txt\n",
    "   56 table7_cig_per_day.txt\n",
    "   25 table8_smoking_cessation.txt\n",
    "  377 table9_smoking_initiation.txt\n",
    "\"\"\"\n",
    "\n",
    "head table6_age_of_initiation.txt\n",
    "\"\"\"\n",
    "head table6_age_of_initiation.txt\n",
    "Chr Pos rsID Reference_Allele Alternate_Allele\n",
    "2 145638766 rs72853300 C T\n",
    "2 225353649 rs12611472 T C\n",
    "2 63622309 rs7559982 T A\n",
    "3 85699040 rs11915747 C G\n",
    "4 140908755 rs13136239 G A\n",
    "\"\"\""
   ]
  },
  {
   "cell_type": "code",
   "execution_count": null,
   "metadata": {},
   "outputs": [],
   "source": [
    "## Download joint 2df results from the mQTL mapping\n",
    "aws s3 sync s3://rti-nd/libd/results/methylation_qtl/strat_2df/maf_filtered_qtls/ .\n",
    "    \n",
    "head filtered_MAF_gte_0.05_sorted_LIBD_NAc_MEGA_strat2df_new_model_chr10_cis_qtl_table.txt\n",
    "#SNP     gene    case_beta       ctrl_beta       case_t_stat     ctrl_t_stat     case_p  ctrl_p  chisq_stat      chisq_p\n",
    "#10:10001753:TAAAG:T     cg02458642      -0.824762223341344      0.331612703669845       -2.07465254377  1.6076694029    0.043899527866893       0.109879160224346      6.8887840864    0.03192416465703847\n",
    "#10:10001753:TAAAG:T     cg02703020      -0.496341358240632      0.0797450361608843      -1.59883376047  0.448872731902  0.117014807406559       0.654130827296118      2.75775612306   0.2518609671122902"
   ]
  },
  {
   "cell_type": "markdown",
   "metadata": {},
   "source": [
    "## SNP lookup\n",
    "I need to create a dictionary of the GSCAN SNPs and then see if each SNP in the stratified 2df results.  \n",
    "\n",
    "Also note that there are some SNPs in the mQTL mapping results which have the format of `chr:position:a1:a2` of  others of the form `rsid:position:a1:a2`. We can first try to just search for the ones with rsIDs. We may end up searching for them based on chr:position though if we can't find them. "
   ]
  },
  {
   "cell_type": "markdown",
   "metadata": {},
   "source": [
    "### Table 6: AI Loci"
   ]
  },
  {
   "cell_type": "code",
   "execution_count": null,
   "metadata": {},
   "outputs": [],
   "source": [
    "### Python3 ###\n",
    "\"\"\"\n",
    "*SNP lookup*\n",
    "\n",
    "    Make sure the IDs are of the same format for the snp-list\n",
    "    and the IDs in the meta-analysis results. e.g. 1000g_p3 or rsID only\n",
    "\"\"\"\n",
    "import gzip\n",
    "\n",
    "################################################################################\n",
    "################################################################################\n",
    "\n",
    "table = \"table6_age_of_initiation\" # no file extension\n",
    "base_dir = \"/shared/rti-nd/lookup/gscan/20210915\"  # no forward slash at the end\n",
    "\n",
    "## dict to hold gscan snps and the number of times they were found.\n",
    "## we can tell which SNPs did not show up in any of the mqtl mapping files\n",
    "snp_list = \"{}/{}.txt\".format(base_dir, table)\n",
    "progress = \"Processing {}\".format(table)\n",
    "\n",
    "out_file = \"{}/lookup_results/2df_mqtl_mapping_{}_gscan_lookup.txt\".format(base_dir, table)\n",
    "not_found = \"{}/lookup_results/2df_mqtl_mapping_{}_gscan_snps_not_found\".format(base_dir, table)\n",
    "head_line = \"false\" # write the header to out file then change to true so it won't print it again\n",
    "with open(snp_list) as gscanF, open(out_file, \"w\") as outF:\n",
    "    gscan_line = gscanF.readline()\n",
    "\n",
    "    ## create a dictionary containing the gscan snps (rsIDs)\n",
    "    gscan_dict =  {}\n",
    "    gscan_posdict =  {} # some variants have depricated rsIDs, so we'll also search by position\n",
    "    if len(gscan_dict) == 0:\n",
    "        gscan_line = gscanF.readline() # 1st non-header line\n",
    "        while gscan_line:\n",
    "            # Chr Pos rsID Reference_Allele Alternate_Allele\n",
    "            rsid = gscan_line.split()[2]\n",
    "            position = gscan_line.split()[1]\n",
    "            gscan_dict[rsid] = 0 # initiate the number of times it has been found\n",
    "            gscan_posdict[position] = rsid\n",
    "            gscan_line = gscanF.readline()\n",
    "    print(gscan_dict)\n",
    "    print(gscan_posdict)\n",
    "\n",
    "    for chrom in range(1,22):\n",
    "        which_chrom = \"chr{}\".format(chrom)\n",
    "        print(which_chrom)\n",
    "        mqtl_results = \"{}/mqtl_mapping/filtered_MAF_gte_0.05_sorted_LIBD_NAc_MEGA_strat2df_new_model_chr{}_cis_qtl_table.txt\".format(base_dir, chrom)\n",
    "        with open(mqtl_results) as mqtlF:\n",
    "            mqtl_head = mqtlF.readline()\n",
    "            if head_line == \"false\":\n",
    "                outF.write(mqtl_head)\n",
    "                head_line = \"true\"\n",
    "                \n",
    "            mqtl_line = mqtlF.readline()\n",
    "            while mqtl_line: # look at all of the variety\n",
    "                # SNP     gene    case_beta       ctrl_beta  ...    \n",
    "                #2:100060310:C:CT        cg00151788      -0.20686045775319       -0.0148707568224241 ... \n",
    "                # rs72853300:145638766:C:T        cg27382459      0.0206777132739697      0.0305212347955355 ...\n",
    "                #GA006823        cg00029583      0.237828601989225       0.0853544190919354  ...\n",
    "                # rs1000007       cg00002145      -0.129089093196684      -0.0565450971892582  ...\n",
    "\n",
    "                variant_id = mqtl_line.split()[0] # SNP\n",
    "                if variant_id[0:2] == \"rs\":\n",
    "                    if \":\" in variant_id:\n",
    "                        rs_id = variant_id.split(\":\")[0] # just the rsIDs\n",
    "                        variant_pos = variant_id.split(\":\")[1] # just the position\n",
    "\n",
    "                        if rs_id in gscan_dict:\n",
    "                            gscan_dict[rs_id] += 1 # mark the variant as found\n",
    "                            outF.write(mqtl_line)\n",
    "                        elif variant_pos in gscan_posdict:\n",
    "                            gscan_rs = gscan_posdict[variant_pos]\n",
    "                            gscan_dict[gscan_rs] += 1 # mark the variant as found\n",
    "                            outF.write(mqtl_line)\n",
    "                    elif variant_id in gscan_dict:\n",
    "                        gscan_dict[variant_id] += 1 # mark the variant as found\n",
    "                        outF.write(mqtl_line)\n",
    "\n",
    "                mqtl_line = mqtlF.readline()\n",
    "\n",
    "with open(not_found, \"w\") as notF:\n",
    "    notF.write(\"variant\\n\")\n",
    "    for key, value in gscan_dict.items():\n",
    "        if value==0:\n",
    "            notF.write(key + \"\\n\")"
   ]
  },
  {
   "cell_type": "markdown",
   "metadata": {},
   "source": [
    "### Table 7: CPD Loci\n",
    "Same as table6, just change file name."
   ]
  },
  {
   "cell_type": "markdown",
   "metadata": {},
   "source": [
    "### Table 8: SC Loci\n",
    "Same as table6, just change file name."
   ]
  },
  {
   "cell_type": "markdown",
   "metadata": {},
   "source": [
    "### Table 9: SI Loci\n",
    "Same as table6, just change file name."
   ]
  },
  {
   "cell_type": "markdown",
   "metadata": {},
   "source": [
    "## Report results in Excel\n",
    "See the Excel Spreadsheet\n",
    "`/Users/jmarks/OneDrive - Research Triangle Institute/Projects/nicotine/lookup/gscan/20210921/20210921_gscan_lookup_in_2df_mqtl_mapping.xlsx`"
   ]
  },
  {
   "cell_type": "markdown",
   "metadata": {},
   "source": [
    "# Redo lookup with random SNPs: 20210923\n",
    "```css\n",
    "We’re getting a lot of significant results in here, which may reflect true biology or indicate some inflation. Can you pull a random set of 371 SNPs across the genome and repeat the lookup of QTL results?\n",
    "\n",
    "Thanks,\n",
    "Dana\n",
    "```\n",
    "\n",
    "Log into GOBOT sandbox server."
   ]
  },
  {
   "cell_type": "code",
   "execution_count": null,
   "metadata": {},
   "outputs": [],
   "source": [
    "mkdir -p ~/rti-nd/lookup/gscan/20210923/mqtls/\n",
    "\n",
    "# download data\n",
    "cd ~/rti-nd/lookup/gscan/20210923/mqtls/\n",
    "aws s3 sync s3://rti-nd/libd/results/methylation_qtl/strat_2df/maf_filtered_qtls/ . --quiet\n",
    "\n",
    "cd ../\n",
    "# get header\n",
    "head -1 mqtls/filtered_MAF_gte_0.05_sorted_LIBD_NAc_MEGA_strat2df_new_model_chr1_cis_qtl_table.txt > \\\n",
    "    strat2df_cis_qtl_table_371_random_snps_across_genome.txt\n",
    "\n",
    "# In order to get exactly 371 SNPs, we need to partition the chromosomes up.\n",
    "# In particular, we will extract 17 random lines from 19 largest chromosomes,\n",
    "# and 16 random lines from the 3 smallest chromosomes. This equals 371 total lines.\n",
    "n=17\n",
    "for chr in {1..19}; do\n",
    "    file=mqtls/filtered_MAF_gte_0.05_sorted_LIBD_NAc_MEGA_strat2df_new_model_chr${chr}_cis_qtl_table.txt\n",
    "    shuf -n $N <(tail -n +2 $file) >> strat2df_cis_qtl_table_371_random_snps_across_genome.txt\n",
    "done &\n",
    "\n",
    "N=16\n",
    "for chr in {20..22}; do\n",
    "    file=mqtls/filtered_MAF_gte_0.05_sorted_LIBD_NAc_MEGA_strat2df_new_model_chr${chr}_cis_qtl_table.txt\n",
    "    shuf -n $N <(tail -n +2 $file) >> strat2df_cis_qtl_table_371_random_snps_across_genome.txt\n",
    "done\n",
    "\n",
    "# This could potentially output non-unique SNPs since some SNPs are present on multiple lines.\n",
    "# Let's make sure that all 371 lines are unique. (372 with header)\n",
    "cut -f1 strat2df_cis_qtl_table_371_random_snps_across_genome.txt  | sort -u | wc -l\n",
    "# 372\n",
    "\n",
    "################################################################################\n",
    "################################################################################\n",
    "\n",
    "### Now perform lookup of those SNPs\n",
    "\n",
    "# paste those 371 SNPs into a file named snp_list.txt then perform lookup\n",
    "### Python3 ###\n",
    "\"\"\"\n",
    "*SNP lookup*\n",
    "\n",
    "    Make sure the IDs are of the same format for the snp-list\n",
    "    and the IDs in the meta-analysis results. e.g. 1000g_p3 or rsID only\n",
    "\"\"\"\n",
    "import gzip\n",
    "\n",
    "table = \"snp_list\" # no file extension\n",
    "base_dir = \"/gobot/jmarks/rti-nd/lookup/gscan/20210923\"  # no forward slash at the end\n",
    "\n",
    "## dict to hold gscan snps and the number of times they were found.\n",
    "## we can tell which SNPs did not show up in any of the mqtl mapping files\n",
    "snp_list = \"{}/{}.txt\".format(base_dir, table)\n",
    "progress = \"Processing {}\".format(table)\n",
    "\n",
    "out_file = \"{}/results/2df_mqtl_mapping_{}_gscan_lookup.txt\".format(base_dir, table)\n",
    "head_line = \"false\" # write the header to out file then change to true so it won't print it again\n",
    "with open(snp_list) as gscanF, open(out_file, \"w\") as outF:\n",
    "    gscan_line = gscanF.readline()\n",
    "\n",
    "    ## create a dictionary containing the gscan snps (rsIDs)\n",
    "    gscan_dict =  {}\n",
    "    if len(gscan_dict) == 0:\n",
    "        gscan_line = gscanF.readline() # 1st non-header line\n",
    "        while gscan_line:\n",
    "            rsid = gscan_line.split()[0]\n",
    "            gscan_dict[rsid] = 0 # initiate the number of times it has been found\n",
    "            gscan_line = gscanF.readline()\n",
    "    print(gscan_dict)\n",
    "\n",
    "    for chrom in range(1,23):\n",
    "        which_chrom = \"chr{}\".format(chrom)\n",
    "        print(which_chrom)\n",
    "        mqtl_results = \"{}/mqtls/filtered_MAF_gte_0.05_sorted_LIBD_NAc_MEGA_strat2df_new_model_chr{}_cis_qtl_table.txt\".format(base_dir, chrom)\n",
    "        with open(mqtl_results) as mqtlF:\n",
    "            mqtl_head = mqtlF.readline()\n",
    "            if head_line == \"false\":\n",
    "                outF.write(mqtl_head)\n",
    "                head_line = \"true\"\n",
    "\n",
    "            mqtl_line = mqtlF.readline()\n",
    "            while mqtl_line: # look at all of the variety\n",
    "                variant_id = mqtl_line.split()[0] # SNP\n",
    "                if variant_id in gscan_dict:\n",
    "                    gscan_dict[variant_id] += 1 # mark the variant as found\n",
    "                    outF.write(mqtl_line)\n",
    "\n",
    "                mqtl_line = mqtlF.readline()"
   ]
  },
  {
   "cell_type": "code",
   "execution_count": 14,
   "metadata": {},
   "outputs": [
    {
     "data": {
      "text/plain": [
       "323"
      ]
     },
     "execution_count": 14,
     "metadata": {},
     "output_type": "execute_result"
    }
   ],
   "source": [
    "#17 * 19 + (16 * 3)\n",
    "17 * 19\n"
   ]
  },
  {
   "cell_type": "code",
   "execution_count": null,
   "metadata": {},
   "outputs": [],
   "source": []
  }
 ],
 "metadata": {
  "kernelspec": {
   "display_name": "Python 3",
   "language": "python",
   "name": "python3"
  },
  "language_info": {
   "codemirror_mode": {
    "name": "ipython",
    "version": 3
   },
   "file_extension": ".py",
   "mimetype": "text/x-python",
   "name": "python",
   "nbconvert_exporter": "python",
   "pygments_lexer": "ipython3",
   "version": "3.9.4"
  },
  "toc": {
   "nav_menu": {},
   "number_sections": true,
   "sideBar": true,
   "skip_h1_title": false,
   "toc_cell": false,
   "toc_position": {
    "height": "628px",
    "left": "0px",
    "right": "1468px",
    "top": "107px",
    "width": "266px"
   },
   "toc_section_display": "block",
   "toc_window_display": false
  }
 },
 "nbformat": 4,
 "nbformat_minor": 4
}
