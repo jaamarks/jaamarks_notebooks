{
 "cells": [
  {
   "cell_type": "markdown",
   "id": "bbded8e0-bb6b-4eaa-a26e-b9046797cff4",
   "metadata": {},
   "source": [
    "# GSCAN lookup: updated method.\n",
    "**Author**: Jesse Marks\n",
    "\n",
    "**Description**:<br>\n",
    "This notebook performs a lookup of the gw-GSCAN SNPs in the LIBD mQTL and eQTL results using the updated lookup procedure. In particular, there are 462 unique genome-wide significant GSCAN SNPs across the four phenotypes:\n",
    "* Age of Initiation\n",
    "* Cigarettes per Day\n",
    "* Smoking Cessation\n",
    "* Smoking Initiation.\n",
    "\n",
    "We lookup these SNPs within the LIBD mQTL results and eQTL results. This lookup was previously performed, but we didn't capture all of the results we could have. In our previous lookup, some of the variants were missed from the results due to a discordance between the rsIDs in the GSCAN results compared to the rsIDs used in the LIBD results. The LIBD results had a mixture of formats. There was no chromosome position information either. \n",
    "\n",
    "We resolved this issue by first performing the GSCAN lookup within the LIBD genotype data. These genotype data allowed us to match strictly by chromosome:position and thus ignore the discordant SNP names. Then we created a list of the GSCAN gw-sig SNPs using the LIBD SNP names that were actually in the LIBD genotype data. Then we use that lookup list to extract the mQTL and eQTL results."
   ]
  },
  {
   "cell_type": "markdown",
   "id": "a8d9738d-206a-420d-8d34-528a8c63b103",
   "metadata": {},
   "source": [
    "## Genotype lookup\n",
    "Perform the lookup in the genotype data first so we can capture the SNP names based off of the chromosome and genome positional information.\n",
    "\n",
    "* 462 unique GSCAN SNPs.\n",
    "* 373 found in the genotype data (89 not found)\n",
    "\n",
    "[Association studies of up to 1.2 million individuals yield new insights into the genetic etiology of tobacco and alcohol use](https://www.ncbi.nlm.nih.gov/pmc/articles/PMC6358542/)\n",
    "* [supplementary table](https://www.ncbi.nlm.nih.gov/pmc/articles/PMC6358542/bin/NIHMS1511852-supplement-2.xlsx)\n"
   ]
  },
  {
   "cell_type": "markdown",
   "id": "ff9c4668-391e-43ce-bfe2-5c76792c3569",
   "metadata": {},
   "source": [
    "### Create GSCAN table\n",
    "\n",
    "Create GSCAN table from the spreadsheet you can download from the publication."
   ]
  },
  {
   "cell_type": "code",
   "execution_count": null,
   "id": "ce0f4ce7-7485-4b18-a5f6-7a9e9d7380a9",
   "metadata": {},
   "outputs": [],
   "source": [
    "# paste just the chr,pos,rsID,ref allele, alt allele, and phenotype from the spreadsheet (include header)\n",
    "wc -l age_at_initiation_snps.txt cigs_per_day_snps.txt smoking_cessation_snps.txt smoking_initiation_snps.txt\n",
    "#      11 age_at_initiation_snps.txt\n",
    "#      56 cigs_per_day_snps.txt\n",
    "#      25 smoking_cessation_snps.txt\n",
    "#     379 smoking_initiation_snps.txt\n",
    "#     471 total\n",
    "# \n",
    "# so should be 467 without the header\n",
    "\n",
    "# there are 5 SNPs that show up in two phenotypes. So there are 462 uniq SNPs.\n",
    "\n",
    "# Now we will combine those tables, taking care to note the phenotype(s) of those 462 SNPs \n",
    "cut -f1-6 age_at_initiation_snps.txt > gscan_tables_1-4_phen_chr_pos_rsid_ref_alt.txt\n",
    "tail -n +2 cigs_per_day_snps.txt | cut -f1-6  >> gscan_tables_1-4_phen_chr_pos_rsid_ref_alt.txt\n",
    "tail -n +2 smoking_cessation_snps.txt | cut -f1-6  >> gscan_tables_1-4_phen_chr_pos_rsid_ref_alt.txt\n",
    "tail -n +2 smoking_initiation_snps.txt | cut -f1-6  >> gscan_tables_1-4_phen_chr_pos_rsid_ref_alt.txt\n",
    "\n",
    "# since there are only 5, we will just manually add the information about the following SNPs.\n",
    "# delete the duplicate lines and then manually edit the Phenotype column\n",
    "#rs11780471 is in si and aai\n",
    "#rs117824460 is in cpd and sc\n",
    "#rs1565735 is in si and sc\n",
    "#rs56113850 is in cpd and sc\n",
    "#rs6011779 is in si and sc\n",
    "\n",
    "\n",
    "# notice how rs11780471 has two phenotypes\n",
    "head -11 gscan_tables_1-4_phen_chr_pos_rsid_ref_alt.txt\n",
    "#Phenotype    Chr    Pos    rsID    Reference_Allele    Alternate_Allele\n",
    "#aai    2    145638766    rs72853300    C    T\n",
    "#aai    2    225353649    rs12611472    T    C\n",
    "#aai    2    63622309    rs7559982    T    A\n",
    "#aai    3    85699040    rs11915747    C    G\n",
    "#aai    4    140908755    rs13136239    G    A\n",
    "#aai    4    28589079    rs2471711    C    T\n",
    "#aai    4    2881256    rs624833    T    G\n",
    "#aai    4    68000888    rs7682598    A    G\n",
    "#aai    7    2032865    rs1403174    A    T\n",
    "#aai_si    8    27344719    rs11780471    G    A\n",
    "\n",
    "wc -l gscan_tables_1-4_phen_chr_pos_rsid_ref_alt.txt # 463 (includes header)"
   ]
  },
  {
   "cell_type": "code",
   "execution_count": null,
   "id": "c8ff9c19-0399-4c82-889e-0eda1a278ddb",
   "metadata": {},
   "outputs": [],
   "source": [
    "infile = \"gscan_tables_1-4_phen_chr_pos_rsid_ref_alt.txt\"\n",
    "libd = \"/shared/mcarnes/matrix_eQTL/Preprocessing/MEGA/Genotype/LIBD_NAc_MEGA_baseline_genotype_matrixeQTL_input.bim\" # on the mcarnes cluster\n",
    "#outfile = \"gscan_not_found_in_libd_genotype_data.txt\"\n",
    "outfile = \"gscan_found_in_libd_genotype_data.txt\"\n",
    "\n",
    "with open(infile) as inF, open(libd) as libdF, open(outfile, 'w') as outF:\n",
    "    line = libdF.readline()\n",
    "\n",
    "    libd_dic = dict()\n",
    "    print(line) # 1\trs140435168:256586:T:G\t0\t256586\tG\tT\n",
    "    while line:\n",
    "        sl = line.split()\n",
    "        chrom = sl[0]\n",
    "        pos = sl[3]\n",
    "        togeth = \"{}:{}\".format(chrom, pos)\n",
    "        libd_dic[togeth] = sl[1] \n",
    "        line = libdF.readline()\n",
    "\n",
    "    #outF.write(\"Chr\\tPos\\trsID\\tReference_Allele\\tAlternate_Allele\\n\")\n",
    "    line = inF.readline()\n",
    "    line = inF.readline()\n",
    "    #Chr     Pos     rsID    Reference_Allele        Alternate_Allele\n",
    "    #2       145638766       rs72853300      C       T\n",
    "    while line:\n",
    "        sl = line.split()\n",
    "        chrom = sl[0]\n",
    "        pos = sl[1]\n",
    "        togeth = \"{}:{}\".format(chrom, pos)\n",
    "        if togeth in libd_dic:\n",
    "            outF.write(libd_dic[togeth] + \"\\n\")\n",
    "        line = inF.readline()\n"
   ]
  },
  {
   "cell_type": "code",
   "execution_count": null,
   "id": "5b1f75ce-9604-4d49-b7d5-be6e259a42c1",
   "metadata": {},
   "outputs": [],
   "source": []
  }
 ],
 "metadata": {
  "kernelspec": {
   "display_name": "Python 3 (ipykernel)",
   "language": "python",
   "name": "python3"
  },
  "language_info": {
   "codemirror_mode": {
    "name": "ipython",
    "version": 3
   },
   "file_extension": ".py",
   "mimetype": "text/x-python",
   "name": "python",
   "nbconvert_exporter": "python",
   "pygments_lexer": "ipython3",
   "version": "3.9.15"
  }
 },
 "nbformat": 4,
 "nbformat_minor": 5
}
