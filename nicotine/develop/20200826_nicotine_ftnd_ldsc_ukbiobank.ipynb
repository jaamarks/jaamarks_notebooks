{
 "cells": [
  {
   "cell_type": "markdown",
   "metadata": {},
   "source": [
    "# FTND LD Score Regression (LDSC) Update\n",
    "**Author:** Jesse Marks  <br>\n",
    "**GitHub Issue:** [#103](https://github.com/RTIInternational/bioinformatics/issues/103#issuecomment-680284119)\n",
    "\n",
    "In this notebook we document the [LD Score Regression](https://github.com/bulik/ldsc) (LDSC) analysis performed for our paper [Expanding the Genetic Architecture of Nicotine Dependence and its Shared Genetics with Multiple Traits: Findings from the Nicotine Dependence GenOmics (iNDiGO) Consortium](https://www.biorxiv.org/content/10.1101/2020.01.15.898858v1.full). The reviewer-3 for this paper commented about adding UK Biobank heaviness of smoking index (HSI) to the plot, as well as updating the color scheme to ensure that our figures are accessable to color-blind readers.\n",
    "\n",
    "\n",
    "\n",
    "## Data Locations\n",
    "* `s3://rti-nd/gwas/uk_biobank/GWA_003/ukb.hsi.sex.age.4evs.white.chr{1..22}.1df.1df.1000g_p3.maf_gt_0.01.rsq_gt_0.3.txt.gz`\n",
    "* `s3://rti-nd/gwas_meta/categorical_ftnd/results/1df/0001/eur/final_stats/ftnd_wave3_meta_analysis_chr{1..22}_eur.txt.gz`"
   ]
  },
  {
   "cell_type": "markdown",
   "metadata": {},
   "source": [
    "## Workflow Guideline\n",
    "1. Create Excel phenotype file locally then upload to EC2 instance\n",
    "2. Clone https://github.com/RTIInternational/ld-regression-pipeline\n",
    "3. Then edit full_ld_regression_wf_template.json to include the reference data of choice\n",
    "4. Use dockerized tool to finish filling out the json file that will be input for workflow\n",
    "5. Run the WDL workflow for LDSC"
   ]
  },
  {
   "cell_type": "markdown",
   "metadata": {},
   "source": [
    "## Create Input Files\n"
   ]
  },
  {
   "cell_type": "code",
   "execution_count": null,
   "metadata": {},
   "outputs": [],
   "source": [
    "## UK Biobank\n",
    "cd /shared/rti-nd/ldsc/0002/processing/\n",
    "\n",
    "# donwload results\n",
    "for chr in {1..22}; do\n",
    "    file=s3://rti-nd/gwas/uk_biobank/GWA_003/ukb.hsi.sex.age.4evs.white.chr$chr.1df.1000g_p3.maf_gt_0.01.rsq_gt_0.3.txt.gz\n",
    "    aws s3 cp $file .\n",
    "done\n",
    "\n",
    "\n",
    "# combine into one file\n",
    "outf=ukb_gwa_003_ldsc_ready.txt\n",
    "echo -e \"SNP\\tCHR\\tPOS\\tA1\\tA2\\tBETA\\tP\\tN\" > $outf\n",
    "for chr in {1..22};do\n",
    "    inf=ukb.hsi.sex.age.4evs.white.chr$chr.1df.1000g_p3.maf_gt_0.01.rsq_gt_0.3.txt.gz\n",
    "    # MarkerName, CHR, POS, Allele1, Allele2, Effect, P-value, N\n",
    "    tail -n +2 <(zcat $inf) | \\\n",
    "    awk 'BEGIN{OFS=\"\\t\"} {print $2,$1,$3,$4,$5,$12,$16,$10}'  >> $outf\n",
    "done &\n",
    "\n",
    "gzip $outf\n",
    "\n",
    "## clean up directory\n",
    "rm ukb.hsi.sex.age.4evs.white.chr*.1df.1000g_p3.maf_gt_0.01.rsq_gt_0.3.txt.gz\n",
    "\n",
    "## upload to S3\n",
    "aws s3 cp $outf.gz s3://rti-shared/ldsc/data/ukb_hsi/ "
   ]
  },
  {
   "cell_type": "markdown",
   "metadata": {},
   "source": [
    "## Run Analysis Workflow\n",
    "``"
   ]
  },
  {
   "cell_type": "code",
   "execution_count": null,
   "metadata": {},
   "outputs": [],
   "source": [
    "procD=/shared/rti-nd/ldsc/0002/\n",
    "\n",
    "# enter compute node and use screen tool\n",
    "\n",
    "# clone github repo\n",
    "cd $procD\n",
    "git clone https://github.com/RTIInternational/ld-regression-pipeline\n",
    "    \n",
    "# edit file-input json\n",
    "cd ld-regression-pipeline\n",
    "mkdir workflow_inputs\n",
    "cp json_input/full_ld_regression_wf_template.json workflow_inputs\n",
    "cd workflow_inputs\n",
    "\n",
    "## vim edit file (see README.md at https://github.com/RTIInternational/ld-regression-pipeline)\n",
    "\n",
    "\n",
    "# create final workflow input (a json file)\n",
    "docker run -v $procD/ld-regression-pipeline/workflow_inputs:/data/ \\\n",
    "    rticode/generate_ld_regression_input_json:1ddbd682cb1e44dab6d11ee571add34bd1d06e21 \\\n",
    "    --json-input /data/full_ld_regression_wf_template.json \\\n",
    "    --pheno-file /data/ftnd_ldsc_phenotypes_local.xlsx >\\\n",
    "        $procD/ld-regression-pipeline/workflow_inputs/final_wf_inputs.json\n",
    "\n",
    "## zip appropriate files \n",
    "# Change to directory immediately above ld-regression-pipeline\n",
    "cd $procD/ld-regression-pipeline\n",
    "cd ..\n",
    "# Make zipped copy of repo somewhere\n",
    "zip --exclude=*var/* --exclude=*.git/* -r \\\n",
    "    $procD/ld-regression-pipeline/workflow_inputs/ld-regression-pipeline.zip \\\n",
    "    ld-regression-pipeline\n",
    "\n",
    "\n",
    "## run ldsc workflow on AWS EC2 instance\n",
    "curl -X POST \"http://localhost:8000/api/workflows/v1\" -H \"accept: application/json\" \\\n",
    "    -F \"workflowSource=@$procD/ld-regression-pipeline/workflow/full_ld_regression_wf.wdl\" \\\n",
    "    -F \"workflowInputs=@$procD/ld-regression-pipeline/workflow_inputs/final_wf_inputs.json\" \\\n",
    "    -F \"workflowDependencies=@$procD/ld-regression-pipeline/workflow_inputs/ld-regression-pipeline.zip\""
   ]
  },
  {
   "cell_type": "raw",
   "metadata": {},
   "source": [
    "{\"id\":\"e249ac6d-7f7b-4e40-b5e4-e45340fa771e\",\"status\":\"Submitted\"}"
   ]
  },
  {
   "cell_type": "code",
   "execution_count": 2,
   "metadata": {},
   "outputs": [
    {
     "name": "stdout",
     "output_type": "stream",
     "text": [
      "download: s3://rti-cromwell-output/cromwell-execution/full_ld_regression_wf/e249ac6d-7f7b-4e40-b5e4-e45340fa771e/call-plot_ld/PLOT.plot_ld_regression_wf/db51a7ef-ad81-4c71-9562-c62da4e3cb00/call-adj_pvalues/ftnd_test.ld_regression_results.adj_pvalue.csv to ./ftnd_test.ld_regression_results.adj_pvalue.csv\n",
      "download: s3://rti-cromwell-output/cromwell-execution/full_ld_regression_wf/e249ac6d-7f7b-4e40-b5e4-e45340fa771e/call-munge_pheno/shard-0/MUNGE_TRAIT_WF.munge_phenotype_sumstats_wf/f76a178a-2d7f-49d5-bc49-758ac35ed401/call-merge_munge_output/ukb_gwa_003_ldsc_ready.txt.munged.merged.txt to ./ukb_gwa_003_ldsc_ready.txt.munged.merged.txt\n",
      "download: s3://rti-cromwell-output/cromwell-execution/full_ld_regression_wf/e249ac6d-7f7b-4e40-b5e4-e45340fa771e/call-munge_ref/MUNGE_REF_WF.munge_sumstats_wf/dd31f839-1fac-4e22-9bd0-03c763a60fd2/call-merge_munge_output/test.merged.txt to ./test.merged.txt\n",
      "download: s3://rti-cromwell-output/cromwell-execution/full_ld_regression_wf/e249ac6d-7f7b-4e40-b5e4-e45340fa771e/call-plot_ld/PLOT.plot_ld_regression_wf/db51a7ef-ad81-4c71-9562-c62da4e3cb00/call-plot_ld_regression_results/ftnd_test.ld_regression_results.pdf to ./ftnd_test.ld_regression_results.pdf\n",
      "download: s3://rti-cromwell-output/cromwell-execution/full_ld_regression_wf/e249ac6d-7f7b-4e40-b5e4-e45340fa771e/call-ld_regression/shard-0/LDSC.single_ld_regression_wf/3073c9e1-05ce-48a2-9816-d49552d35c6a/call-ld_regression/ftnd_by_ukbhsi.ldsc_regression.log to logs/shard-0/LDSC.single_ld_regression_wf/3073c9e1-05ce-48a2-9816-d49552d35c6a/call-ld_regression/ftnd_by_ukbhsi.ldsc_regression.log\n",
      "upload: ./final_logs_e249ac6d-7f7b-4e40-b5e4-e45340fa771e.json to s3://rti-nd/ldsc_genetic_correlation/results/ftnd_wave3/eur/0002b/output/processing/final_logs_e249ac6d-7f7b-4e40-b5e4-e45340fa771e.json\n",
      "upload: logs/ftnd_by_ukbhsi.ldsc_regression.log to s3://rti-nd/ldsc_genetic_correlation/results/ftnd_wave3/eur/0002b/output/processing/logs/ftnd_by_ukbhsi.ldsc_regression.log\n",
      "upload: ./ftnd_test.ld_regression_results.pdf to s3://rti-nd/ldsc_genetic_correlation/results/ftnd_wave3/eur/0002b/output/processing/ftnd_test.ld_regression_results.pdf\n",
      "upload: ./ftnd_test.ld_regression_results.adj_pvalue.csv to s3://rti-nd/ldsc_genetic_correlation/results/ftnd_wave3/eur/0002b/output/processing/ftnd_test.ld_regression_results.adj_pvalue.csv\n",
      "upload: ./final_outputs_e249ac6d-7f7b-4e40-b5e4-e45340fa771e.json to s3://rti-nd/ldsc_genetic_correlation/results/ftnd_wave3/eur/0002b/output/processing/final_outputs_e249ac6d-7f7b-4e40-b5e4-e45340fa771e.json\n",
      "upload: ./test.merged.txt.gz to s3://rti-nd/ldsc_genetic_correlation/results/ftnd_wave3/eur/0002b/output/processing/test.merged.txt.gz\n",
      "upload: ./ukb_gwa_003_ldsc_ready.txt.munged.merged.txt.gz to s3://rti-nd/ldsc_genetic_correlation/results/ftnd_wave3/eur/0002b/output/processing/ukb_gwa_003_ldsc_ready.txt.munged.merged.txt.gz\n"
     ]
    },
    {
     "name": "stderr",
     "output_type": "stream",
     "text": [
      "  % Total    % Received % Xferd  Average Speed   Time    Time     Time  Current\n",
      "                                 Dload  Upload   Total   Spent    Left  Speed\n",
      "100  1269  100  1269    0     0   8348      0 --:--:-- --:--:-- --:--:--  8348\n",
      "  % Total    % Received % Xferd  Average Speed   Time    Time     Time  Current\n",
      "                                 Dload  Upload   Total   Spent    Left  Speed\n",
      "100    45  100    45    0     0    326      0 --:--:-- --:--:-- --:--:--   326\n"
     ]
    }
   ],
   "source": [
    "%%bash \n",
    "\n",
    "# local\n",
    "\n",
    "job=\"e249ac6d-7f7b-4e40-b5e4-e45340fa771e\"\n",
    "phen=\"ftnd_wave3\"\n",
    "project=\"nicotine\"\n",
    "version=\"0002b\"\n",
    "aws_path=\"s3://rti-nd/ldsc_genetic_correlation/results/$phen/eur/$version/output/processing/\"\n",
    "\n",
    "mkdir -p ~/Projects/$project/ldsc/$phen/$version/output/processing/logs/\n",
    "cd ~/Projects/$project/ldsc/$phen/$version/output/processing/\n",
    "\n",
    "\n",
    "    \n",
    "# Download output JSON from Swagger UI.\n",
    "curl -X GET \"http://localhost:8000/api/workflows/v1/$job/outputs\" -H \"accept: application/json\" \\\n",
    "    > final_outputs_${job}.json\n",
    "\n",
    "curl -X GET \"http://localhost:8000/api/workflows/v1/$job/logs\" -H \"accept: application/json\" \\\n",
    "    > final_logs_${job}.json\n",
    "\n",
    "# Projects note that I had to unindent here to get it to run\n",
    "python - <<EOF\n",
    "import json\n",
    "import os\n",
    "\n",
    "def traverse(o, tree_types=(list, tuple)):\n",
    "    if isinstance(o, tree_types):\n",
    "        for value in o:\n",
    "            for subvalue in traverse(value, tree_types):\n",
    "                yield subvalue\n",
    "    else:\n",
    "        yield o\n",
    "\n",
    "with open('final_outputs_' + \"$job\" + '.json') as f:\n",
    "    outputs = json.load(f)\n",
    "    outputs = outputs[\"outputs\"]\n",
    "    for key in outputs:\n",
    "        if (type(outputs[key]) == list):\n",
    "            for value in traverse(outputs[key]):\n",
    "                if (str(value)[0:2] == \"s3\"):\n",
    "                    message = \"aws s3 cp {} .\".format(value)\n",
    "                    os.system(message)\n",
    "        else:\n",
    "            if (str(outputs[key])[0:2] == \"s3\"):\n",
    "                message = \"aws s3 cp {} .\".format(outputs[key])\n",
    "                os.system(message)\n",
    "EOF\n",
    "\n",
    "# Download logs that contain h2\n",
    "aws s3 cp s3://rti-cromwell-output/cromwell-execution/full_ld_regression_wf/$job/call-ld_regression/ \\\n",
    "    logs/ --recursive --exclude \"*\" --include \"*.ldsc_regression.log\" \n",
    "    \n",
    "mv logs/shard-*/LDSC.single_ld_regression_wf/*/call-ld_regression/*.ldsc_regression.log logs/\n",
    "aws s3 sync logs/ $aws_path\n",
    "rm -rf logs/shard-*\n",
    "\n",
    "gzip *txt \n",
    "aws s3 sync . $aws_path"
   ]
  },
  {
   "cell_type": "markdown",
   "metadata": {},
   "source": [
    "# Final Plot\n",
    "We combine these updated results with the previous set of genetic correlation results.\n",
    "\n",
    "Upload the plot table to EC2 instance to run docker and create the plot."
   ]
  },
  {
   "cell_type": "code",
   "execution_count": null,
   "metadata": {},
   "outputs": [],
   "source": [
    "## enter interactive mode ##\n",
    "# note that the image tag corresponds to the latest tag for this image\n",
    "\n",
    "docker run -it -v\"/shared/rti-nd/ldsc/0002/plot/:/data/\" \\\n",
    "    rticode/plot_ld_regression_results:d3e8c7694a472ba6125a43a2d6fa32da7342ee1d  /bin/bash\n",
    "\n",
    "inf=20200827_ftnd_ld_regression_results.csv\n",
    "#outf=20200827_ftnd_ld_regression_results_colorblind_with_ukb_hsi.pdf\n",
    "#inf=20200827_ftnd_ld_regression_results_no_ukb.csv\n",
    "#outf=20200827_ftnd_ld_regression_results_colorblind.pdf\n",
    "outf=20200827_ftnd_ld_regression_results.pdf\n",
    "\n",
    "Rscript /opt/plot_ld_regression/plot_ld_regression_results.R  \\\n",
    "    --input_file $inf \\\n",
    "    --output_file $outf \\\n",
    "    --group_order_file ftnd_rg_plot_order.csv \\\n",
    "    --comma_delimited \\\n",
    "    --vertical_rg 1 \n",
    "\n",
    "inf=20200827_ftnd_ld_regression_results.csv\n",
    "outf=test03.pdf\n",
    "\n",
    "Rscript plot_ld_regression_results.R  \\\n",
    "    --input_file $inf \\\n",
    "    --output_file $outf \\\n",
    "    --group_order_file ftnd_rg_plot_order.csv \\\n",
    "    --comma_delimited \\\n",
    "    --vertical_rg 1 \\\n",
    "    --colorblind\n"
   ]
  },
  {
   "cell_type": "code",
   "execution_count": null,
   "metadata": {},
   "outputs": [],
   "source": []
  }
 ],
 "metadata": {
  "kernelspec": {
   "display_name": "Python 3",
   "language": "python",
   "name": "python3"
  },
  "language_info": {
   "codemirror_mode": {
    "name": "ipython",
    "version": 3
   },
   "file_extension": ".py",
   "mimetype": "text/x-python",
   "name": "python",
   "nbconvert_exporter": "python",
   "pygments_lexer": "ipython3",
   "version": "3.8.3"
  },
  "toc": {
   "base_numbering": 1,
   "nav_menu": {},
   "number_sections": true,
   "sideBar": true,
   "skip_h1_title": false,
   "title_cell": "Table of Contents",
   "title_sidebar": "Contents",
   "toc_cell": false,
   "toc_position": {},
   "toc_section_display": true,
   "toc_window_display": false
  }
 },
 "nbformat": 4,
 "nbformat_minor": 4
}
