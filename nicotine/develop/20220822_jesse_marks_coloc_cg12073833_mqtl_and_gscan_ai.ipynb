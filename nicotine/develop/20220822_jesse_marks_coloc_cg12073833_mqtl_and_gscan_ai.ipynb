{
 "cells": [
  {
   "cell_type": "markdown",
   "metadata": {},
   "source": [
    "# Coloc review\n",
    "Perform a sanity check on the coloc analysis.\n",
    "|     Dataset1    |     Dataset2               |     CpG           |     Pval vs   Beta/se    |     stdev   methyl    |\n",
    "|-----------------|----------------------------|-------------------|--------------------------|-----------------------|\n",
    "|     GSCAN       |     mQTL   filtered        |     cg12073833    |     P-value              |     Yes               |\n",
    "|     GSCAN       |     mQTL   filtered        |     cg12073833    |     Beta/se              |     Yes               |\n",
    "|     GSCAN       |     mQTL   filtered        |     cg12073833    |     P-value              |     no                |\n",
    "|     GSCAN       |     mQTL   filtered        |     cg12073833    |     Beta/se              |     no                |\n",
    "|     GSCAN       |     mQTL   non-filtered    |     cg12073833    |     P-value              |     Yes               |\n",
    "|     GSCAN       |     mQTL   non-filtered    |     cg12073833    |     Beta/se              |     Yes               |\n",
    "|     GSCAN       |     mQTL   non-filtered    |     cg12073833    |     P-value              |     no                |\n",
    "|     GSCAN       |     mQTL   non-filtered    |     cg12073833    |     Beta/se              |     no                |"
   ]
  },
  {
   "cell_type": "code",
   "execution_count": 1,
   "metadata": {
    "vscode": {
     "languageId": "r"
    }
   },
   "outputs": [
    {
     "data": {
      "text/plain": [
       "'/home/ubuntu/rti-nd/coloc_review'"
      ]
     },
     "execution_count": 1,
     "metadata": {},
     "output_type": "execute_result"
    }
   ],
   "source": [
    "pwd"
   ]
  },
  {
   "cell_type": "markdown",
   "metadata": {},
   "source": [
    "# Split up input data\n",
    "Currently the baseline mQTL results are merged with the GSCAN results."
   ]
  },
  {
   "cell_type": "markdown",
   "metadata": {},
   "source": [
    "## Non-filtered"
   ]
  },
  {
   "cell_type": "code",
   "execution_count": 30,
   "metadata": {
    "vscode": {
     "languageId": "r"
    }
   },
   "outputs": [
    {
     "name": "stdout",
     "output_type": "stream",
     "text": [
      "Chromosome\tGRCh37.p13_position\tSNP_ID\tGene\tmQTL_Beta\tmQTL_SE\tmQTL_test_stat\tmQTL_pvalue\tmQTL_original_SNP_ID\tmQTL_Effect_Allele\tMAF\tGSCAN_Effect_Allele\tGSCAN_pvalue\tGSCAN_Beta\tGSCAN_SE\tGSCAN_N\tGSCAN_Effective_N\n",
      "7\t1952582\trs6944877:1952582:T:G\tcg11050988\t1.2353351130762\t0.0405091\t30.4952180873861\t1.83259348812666e-79\trs6944877:1952582:T:G\tT\t0.424946\tG\t0.0311\t0.00711\t0.00306\t262990\t258485\n",
      "\n",
      "Chromosome\tGRCh37.p13_position\tSNP_ID\tGene\tmQTL_Beta\tmQTL_SE\tmQTL_test_stat\tmQTL_pvalue\tmQTL_original_SNP_ID\tmQTL_Effect_Allele\n",
      "7\t1952582\trs6944877:1952582:T:G\tcg11050988\t1.2353351130762\t0.0405091\t30.4952180873861\t1.83259348812666e-79\trs6944877:1952582:T:G\tT\n",
      "\n",
      "Chromosome\tGRCh37.p13_position\tSNP_ID\tGene\tMAF\tGSCAN_Effect_Allele\tGSCAN_pvalue\tGSCAN_Beta\tGSCAN_SE\tGSCAN_N\tGSCAN_Effective_N\n",
      "7\t1952582\trs6944877:1952582:T:G\tcg11050988\t0.424946\tG\t0.0311\t0.00711\t0.00306\t262990\t258485\n"
     ]
    }
   ],
   "source": [
    "%%bash\n",
    "\n",
    "# split data up by GSCAN and mQTL results\n",
    "cd mqtls/input_datasets/baseline/age_of_initiation/\n",
    "head -2 baseline_coloc_input_dataset_GSCAN_age_of_initiation_locus_chr7_1532865_2532865.txt\n",
    "echo \n",
    "\n",
    "cut -f1-10  baseline_coloc_input_dataset_GSCAN_age_of_initiation_locus_chr7_1532865_2532865.txt > coloc_input_dataset1_locus_chr7_1532865_2532865_baseline.txt\n",
    "\n",
    "head -2 coloc_input_dataset1_locus_chr7_1532865_2532865_baseline.txt\n",
    "echo \n",
    "\n",
    "cut -f1-4,11-17  baseline_coloc_input_dataset_GSCAN_age_of_initiation_locus_chr7_1532865_2532865.txt > coloc_input_dataset2_locus_chr7_1532865_2532865_gscan_ai.txt\n",
    "\n",
    "head -2 coloc_input_dataset2_locus_chr7_1532865_2532865_gscan_ai.txt"
   ]
  },
  {
   "cell_type": "markdown",
   "metadata": {},
   "source": [
    "## filtered"
   ]
  },
  {
   "cell_type": "code",
   "execution_count": 17,
   "metadata": {
    "vscode": {
     "languageId": "r"
    }
   },
   "outputs": [
    {
     "name": "stdout",
     "output_type": "stream",
     "text": [
      "Chromosome\tGRCh37.p13_position\tSNP_ID\tGene\tmQTL_Beta\tmQTL_SE\tmQTL_test_stat\tmQTL_pvalue\tmQTL_original_SNP_ID\tmQTL_Effect_Allele\tMAF\tGSCAN_Effect_Allele\tGSCAN_pvalue\tGSCAN_Beta\tGSCAN_SE\tGSCAN_N\tGSCAN_Effective_N\n",
      "7\t1952582\trs6944877:1952582:T:G\tcg11050988\t1.2353351130762\t0.0405091\t30.4952180873861\t1.83259348812666e-79\trs6944877:1952582:T:G\tT\t0.424946\tG\t0.0311\t0.00711\t0.00306\t262990\t258485\n",
      "\n",
      "Chromosome\tGRCh37.p13_position\tSNP_ID\tGene\tmQTL_Beta\tmQTL_SE\tmQTL_test_stat\tmQTL_pvalue\tmQTL_original_SNP_ID\tmQTL_Effect_Allele\n",
      "7\t1952582\trs6944877:1952582:T:G\tcg11050988\t1.2353351130762\t0.0405091\t30.4952180873861\t1.83259348812666e-79\trs6944877:1952582:T:G\tT\n",
      "\n",
      "Chromosome\tGRCh37.p13_position\tSNP_ID\tGene\tMAF\tGSCAN_Effect_Allele\tGSCAN_pvalue\tGSCAN_Beta\tGSCAN_SE\tGSCAN_N\tGSCAN_Effective_N\n",
      "7\t1952582\trs6944877:1952582:T:G\tcg11050988\t0.424946\tG\t0.0311\t0.00711\t0.00306\t262990\t258485\n"
     ]
    }
   ],
   "source": [
    "%%bash\n",
    "\n",
    "# split filterd data up by GSCAN and mQTL results\n",
    "cd mqtls/input_datasets/baseline/age_of_initiation/\n",
    "head -2 MAF_0.05_GENO_0.1_AA_CAUC_filtered_baseline_coloc_input_dataset_GSCAN_age_of_initiation_locus_chr7_1532865_2532865.txt\n",
    "echo \n",
    "\n",
    "cut -f1-10  MAF_0.05_GENO_0.1_AA_CAUC_filtered_baseline_coloc_input_dataset_GSCAN_age_of_initiation_locus_chr7_1532865_2532865.txt > coloc_input_dataset1_locus_chr7_1532865_2532865_baseline_filtered.txt\n",
    "\n",
    "head -2 coloc_input_dataset1_locus_chr7_1532865_2532865_baseline_filtered.txt\n",
    "echo \n",
    "\n",
    "cut -f1-4,11-17  MAF_0.05_GENO_0.1_AA_CAUC_filtered_baseline_coloc_input_dataset_GSCAN_age_of_initiation_locus_chr7_1532865_2532865.txt > coloc_input_dataset2_locus_chr7_1532865_2532865_gscan_ai_filtered.txt\n",
    "\n",
    "head -2 coloc_input_dataset2_locus_chr7_1532865_2532865_gscan_ai_filtered.txt\n"
   ]
  },
  {
   "cell_type": "markdown",
   "metadata": {},
   "source": [
    "# cg12073833 \n",
    "Extract only the results for this CpG. This is one that was way off the diagonal when we plotted the coloc results indicating that using p-value inputs was way different that using beta/se."
   ]
  },
  {
   "cell_type": "code",
   "execution_count": 25,
   "metadata": {
    "vscode": {
     "languageId": "r"
    }
   },
   "outputs": [
    {
     "name": "stdout",
     "output_type": "stream",
     "text": [
      "MAF_0.05_GENO_0.1_AA_CAUC_filtered_baseline_coloc_input_dataset_GSCAN_age_of_initiation_locus_chr7_1532865_2532865.txt\n",
      "baseline_coloc_input_dataset_GSCAN_age_of_initiation_locus_chr7_1532865_2532865.txt\n",
      "coloc_input_dataset1_locus_chr7_1532865_2532865_baseline.txt\n",
      "coloc_input_dataset1_locus_chr7_1532865_2532865_baseline_filtered.txt\n",
      "coloc_input_dataset1_locus_cpg12073833_baseline.txt\n",
      "coloc_input_dataset1_locus_cpg12073833_baseline_filtered.txt\n",
      "coloc_input_dataset2_locus_chr7_1532865_2532865_gscan_ai.txt\n",
      "coloc_input_dataset2_locus_chr7_1532865_2532865_gscan_ai_filtered.txt\n",
      "coloc_input_dataset2_locus_cpg12073833_gscan_ai.txt\n",
      "\n",
      "1856 coloc_input_dataset1_locus_cpg12073833_baseline.txt\n",
      "\n",
      "Chromosome\tGRCh37.p13_position\tSNP_ID\tGene\tmQTL_Beta\tmQTL_SE\tmQTL_test_stat\tmQTL_pvalue\tmQTL_original_SNP_ID\tmQTL_Effect_Allele\n",
      "7\t1979425\trs11770899:1979425:C:T\tcg12073833\t0.570940965506915\t0.0881546\t6.47658412528508\t6.43513092936016e-10\trs11770899:1979425:C:T\tC\n",
      "\n",
      "1186 coloc_input_dataset1_locus_cpg12073833_baseline_filtered.txt\n",
      "\n",
      "Chromosome\tGRCh37.p13_position\tSNP_ID\tGene\tmQTL_Beta\tmQTL_SE\tmQTL_test_stat\tmQTL_pvalue\tmQTL_original_SNP_ID\tmQTL_Effect_Allele\n",
      "7\t1979425\trs11770899:1979425:C:T\tcg12073833\t0.570940965506915\t0.0881546\t6.47658412528508\t6.43513092936016e-10\trs11770899:1979425:C:T\tC\n",
      "\n"
     ]
    }
   ],
   "source": [
    "%%bash\n",
    "\n",
    "cd mqtls/input_datasets/baseline/age_of_initiation/\n",
    "ls \n",
    "echo\n",
    "\n",
    "# mQTL non-filtered\n",
    "head -1 coloc_input_dataset1_locus_chr7_1532865_2532865_baseline.txt > coloc_input_dataset1_locus_cpg12073833_baseline.txt\n",
    "grep cg12073833 coloc_input_dataset1_locus_chr7_1532865_2532865_baseline.txt >> coloc_input_dataset1_locus_cpg12073833_baseline.txt\n",
    "\n",
    "wc -l coloc_input_dataset1_locus_cpg12073833_baseline.txt\n",
    "echo\n",
    "head -2 coloc_input_dataset1_locus_cpg12073833_baseline.txt\n",
    "echo\n",
    "\n",
    "# mQTL filtered\n",
    "head -1 coloc_input_dataset1_locus_chr7_1532865_2532865_baseline_filtered.txt > coloc_input_dataset1_locus_cpg12073833_baseline_filtered.txt\n",
    "grep cg12073833 coloc_input_dataset1_locus_chr7_1532865_2532865_baseline_filtered.txt >> coloc_input_dataset1_locus_cpg12073833_baseline_filtered.txt\n",
    "\n",
    "wc -l coloc_input_dataset1_locus_cpg12073833_baseline_filtered.txt\n",
    "echo\n",
    "head -2 coloc_input_dataset1_locus_cpg12073833_baseline_filtered.txt\n",
    "echo\n"
   ]
  },
  {
   "cell_type": "code",
   "execution_count": 31,
   "metadata": {
    "vscode": {
     "languageId": "r"
    }
   },
   "outputs": [
    {
     "name": "stdout",
     "output_type": "stream",
     "text": [
      "MAF_0.05_GENO_0.1_AA_CAUC_filtered_baseline_coloc_input_dataset_GSCAN_age_of_initiation_locus_chr7_1532865_2532865.txt\n",
      "baseline_coloc_input_dataset_GSCAN_age_of_initiation_locus_chr7_1532865_2532865.txt\n",
      "coloc_input_dataset1_locus_chr7_1532865_2532865_baseline.txt\n",
      "coloc_input_dataset1_locus_chr7_1532865_2532865_baseline_filtered.txt\n",
      "coloc_input_dataset1_locus_cpg12073833_baseline.txt\n",
      "coloc_input_dataset1_locus_cpg12073833_baseline_filtered.txt\n",
      "coloc_input_dataset2_locus_chr7_1532865_2532865_gscan_ai.txt\n",
      "coloc_input_dataset2_locus_chr7_1532865_2532865_gscan_ai_filtered.txt\n",
      "\n",
      "1856 coloc_input_dataset2_locus_cpg12073833_gscan_ai.txt\n",
      "\n",
      "Chromosome\tGRCh37.p13_position\tSNP_ID\tGene\tMAF\tGSCAN_Effect_Allele\tGSCAN_pvalue\tGSCAN_Beta\tGSCAN_SE\tGSCAN_N\tGSCAN_Effective_N\n",
      "7\t1979425\trs11770899:1979425:C:T\tcg12073833\t0.383123\tT\t0.000324\t0.0113\t0.00311\t262990\t257466\n",
      "\n",
      "1186 coloc_input_dataset2_locus_cpg12073833_gscan_ai_filtered.txt\n",
      "\n",
      "Chromosome\tGRCh37.p13_position\tSNP_ID\tGene\tMAF\tGSCAN_Effect_Allele\tGSCAN_pvalue\tGSCAN_Beta\tGSCAN_SE\tGSCAN_N\tGSCAN_Effective_N\n",
      "7\t1979425\trs11770899:1979425:C:T\tcg12073833\t0.383123\tT\t0.000324\t0.0113\t0.00311\t262990\t257466\n"
     ]
    }
   ],
   "source": [
    "%%bash\n",
    "\n",
    "cd mqtls/input_datasets/baseline/age_of_initiation/\n",
    "ls \n",
    "echo\n",
    "\n",
    "# GSCAN non-filtered\n",
    "head -1 coloc_input_dataset2_locus_chr7_1532865_2532865_gscan_ai.txt > coloc_input_dataset2_locus_cpg12073833_gscan_ai.txt\n",
    "grep cg12073833 coloc_input_dataset2_locus_chr7_1532865_2532865_gscan_ai.txt >> coloc_input_dataset2_locus_cpg12073833_gscan_ai.txt\n",
    "\n",
    "wc -l coloc_input_dataset2_locus_cpg12073833_gscan_ai.txt\n",
    "echo\n",
    "head -2 coloc_input_dataset2_locus_cpg12073833_gscan_ai.txt\n",
    "echo\n",
    "\n",
    "# mQTL filtered\n",
    "head -1 coloc_input_dataset2_locus_chr7_1532865_2532865_gscan_ai_filtered.txt > coloc_input_dataset2_locus_cpg12073833_gscan_ai_filtered.txt\n",
    "grep cg12073833 coloc_input_dataset2_locus_chr7_1532865_2532865_gscan_ai_filtered.txt >> coloc_input_dataset2_locus_cpg12073833_gscan_ai_filtered.txt\n",
    "\n",
    "wc -l coloc_input_dataset2_locus_cpg12073833_gscan_ai_filtered.txt\n",
    "echo\n",
    "head -2 coloc_input_dataset2_locus_cpg12073833_gscan_ai_filtered.txt"
   ]
  },
  {
   "cell_type": "markdown",
   "metadata": {},
   "source": [
    "## coloc"
   ]
  },
  {
   "cell_type": "code",
   "execution_count": 43,
   "metadata": {
    "vscode": {
     "languageId": "r"
    }
   },
   "outputs": [
    {
     "data": {
      "text/html": [
       "<style>\n",
       ".list-inline {list-style: none; margin:0; padding: 0}\n",
       ".list-inline>li {display: inline-block}\n",
       ".list-inline>li:not(:last-child)::after {content: \"\\00b7\"; padding: 0 .5ex}\n",
       "</style>\n",
       "<ol class=list-inline><li>0.719655345726588</li><li>0.705241523327758</li><li>0.729659636474802</li><li>0.716479310658444</li><li>0.716685466360408</li><li>0.766853165346677</li></ol>\n"
      ],
      "text/latex": [
       "\\begin{enumerate*}\n",
       "\\item 0.719655345726588\n",
       "\\item 0.705241523327758\n",
       "\\item 0.729659636474802\n",
       "\\item 0.716479310658444\n",
       "\\item 0.716685466360408\n",
       "\\item 0.766853165346677\n",
       "\\end{enumerate*}\n"
      ],
      "text/markdown": [
       "1. 0.719655345726588\n",
       "2. 0.705241523327758\n",
       "3. 0.729659636474802\n",
       "4. 0.716479310658444\n",
       "5. 0.716685466360408\n",
       "6. 0.766853165346677\n",
       "\n",
       "\n"
      ],
      "text/plain": [
       "[1] 0.7196553 0.7052415 0.7296596 0.7164793 0.7166855 0.7668532"
      ]
     },
     "metadata": {},
     "output_type": "display_data"
    },
    {
     "data": {
      "text/html": [
       "0.0269402510301528"
      ],
      "text/latex": [
       "0.0269402510301528"
      ],
      "text/markdown": [
       "0.0269402510301528"
      ],
      "text/plain": [
       "[1] 0.02694025"
      ]
     },
     "metadata": {},
     "output_type": "display_data"
    }
   ],
   "source": [
    "library(coloc)\n",
    "\n",
    "# read in input data\n",
    "qtls <- read.table(\"/home/ubuntu/rti-nd/coloc_review/mqtls/input_datasets/baseline/age_of_initiation/coloc_input_dataset1_locus_cpg12073833_baseline.txt\", header=TRUE)\n",
    "#head(qtls, 2)\n",
    "\n",
    "gscan <- read.table(\"/home/ubuntu/rti-nd/coloc_review/mqtls/input_datasets/baseline/age_of_initiation/coloc_input_dataset2_locus_cpg12073833_gscan_ai.txt\", header=TRUE)\n",
    "#head(gscan, 2)\n",
    "\n",
    "meth <- read.table(\"/home/ubuntu/rti-nd/coloc_review/expression_file/mqtl_methylation_data/LIBD_NAc_MEGA_OMIC_full_matrixeQTL_input.txt\", header=TRUE)\n",
    "\n",
    "# flip GSCAN beta if the effect alleles don't match QTL effect alleles\n",
    "qtls$mQTL_Effect_Allele<-as.character(qtls$mQTL_Effect_Allele)\n",
    "gscan$GSCAN_Effect_Allele<-as.character(gscan$GSCAN_Effect_Allele)\n",
    "gscan$GSCAN_Beta<-as.numeric(gscan$GSCAN_Beta)\n",
    "for (i in 1:length(gscan$GSCAN_Beta)) {\n",
    "    if (qtls$mQTL_Effect_Allele[i] != gscan$GSCAN_Effect_Allele[i]) {\n",
    "        gscan$GSCAN_Beta[i] = -1 * gscan$GSCAN_Beta[i]\n",
    "    }\n",
    "}\n",
    "#head(gscan, 2)\n",
    "\n",
    "\n",
    "meth <- meth[which(meth$cg_id==\"cg12073833\"),]\n",
    "meth <- as.numeric(meth[1,2:ncol(meth)])\n",
    "head(meth)\n",
    "meth_sd <- sd(meth)\n",
    "meth_sd # 0.0269402510301528"
   ]
  },
  {
   "cell_type": "markdown",
   "metadata": {},
   "source": [
    "## 001: non-filtered, beta/se, no stdev-methyl "
   ]
  },
  {
   "cell_type": "code",
   "execution_count": 31,
   "metadata": {
    "vscode": {
     "languageId": "r"
    }
   },
   "outputs": [
    {
     "name": "stderr",
     "output_type": "stream",
     "text": [
      "Warning message in sdY.est(d$varbeta, d$MAF, d$N):\n",
      "“estimating sdY from maf and varbeta, please directly supply sdY if known”\n",
      "Warning message in sdY.est(d$varbeta, d$MAF, d$N):\n",
      "“estimating sdY from maf and varbeta, please directly supply sdY if known”\n"
     ]
    },
    {
     "name": "stdout",
     "output_type": "stream",
     "text": [
      "PP.H0.abf PP.H1.abf PP.H2.abf PP.H3.abf PP.H4.abf \n",
      " 1.48e-05  1.46e-02  4.71e-05  4.57e-02  9.40e-01 \n",
      "[1] \"PP abf for shared variant: 94%\"\n"
     ]
    }
   ],
   "source": [
    "# coloc using beta/se\n",
    "my.res1 <- coloc.abf(dataset1=list(beta=qtls$mQTL_Beta, \n",
    "                                   varbeta=(qtls$mQTL_SE)**2, \n",
    "                                   N=220, \n",
    "                                   type=\"quant\"),\n",
    "                     dataset2=list(beta=gscan$GSCAN_Beta, \n",
    "                                   varbeta=(gscan$GSCAN_SE)**2, N=gscan$GSCAN_Effective_N, \n",
    "                                   type=\"quant\"),\n",
    "                    MAF=gscan$MAF)"
   ]
  },
  {
   "cell_type": "markdown",
   "metadata": {},
   "source": [
    "## 002: non-filtered, p-value, no stdev-methyl "
   ]
  },
  {
   "cell_type": "code",
   "execution_count": 3,
   "metadata": {
    "vscode": {
     "languageId": "r"
    }
   },
   "outputs": [
    {
     "name": "stdout",
     "output_type": "stream",
     "text": [
      "PP.H0.abf PP.H1.abf PP.H2.abf PP.H3.abf PP.H4.abf \n",
      " 9.63e-05  3.00e-02  1.69e-04  5.16e-02  9.18e-01 \n",
      "[1] \"PP abf for shared variant: 91.8%\"\n"
     ]
    }
   ],
   "source": [
    "# perform coloc with p-values\n",
    "my.res2 <- coloc.abf(dataset1=list(pvalues=qtls$mQTL_pvalue, \n",
    "                                   N=220, \n",
    "                                   type=\"quant\"),\n",
    "                     dataset2=list(pvalues=gscan$GSCAN_pvalue,\n",
    "                                   N=gscan$GSCAN_Effective_N, \n",
    "                                   type=\"quant\"), \n",
    "                    MAF=gscan$MAF)"
   ]
  },
  {
   "cell_type": "markdown",
   "metadata": {},
   "source": [
    "## 003: non-filtered, beta/se, WITH stdev-methyl "
   ]
  },
  {
   "cell_type": "code",
   "execution_count": 4,
   "metadata": {
    "vscode": {
     "languageId": "r"
    }
   },
   "outputs": [
    {
     "name": "stderr",
     "output_type": "stream",
     "text": [
      "Warning message in sdY.est(d$varbeta, d$MAF, d$N):\n",
      "“estimating sdY from maf and varbeta, please directly supply sdY if known”\n"
     ]
    },
    {
     "name": "stdout",
     "output_type": "stream",
     "text": [
      "PP.H0.abf PP.H1.abf PP.H2.abf PP.H3.abf PP.H4.abf \n",
      "   0.1890    0.0351    0.6020    0.1120    0.0621 \n",
      "[1] \"PP abf for shared variant: 6.21%\"\n"
     ]
    }
   ],
   "source": [
    "# coloc using beta/se with meth_sd\n",
    "my.res3 <- coloc.abf(dataset1=list(beta=qtls$mQTL_Beta, \n",
    "                                   varbeta=(qtls$mQTL_SE)**2, \n",
    "                                   N=220, \n",
    "                                   type=\"quant\", \n",
    "                                   sdY=meth_sd),\n",
    "                     dataset2=list(beta=gscan$GSCAN_Beta, \n",
    "                                   varbeta=(gscan$GSCAN_SE)**2,\n",
    "                                   N=gscan$GSCAN_Effective_N, \n",
    "                                   type=\"quant\", \n",
    "                                   MAF=gscan$MAF))"
   ]
  },
  {
   "cell_type": "markdown",
   "metadata": {},
   "source": [
    "## 004: non-filtered, p-value, with stdev-methyl "
   ]
  },
  {
   "cell_type": "code",
   "execution_count": 18,
   "metadata": {
    "vscode": {
     "languageId": "r"
    }
   },
   "outputs": [
    {
     "name": "stdout",
     "output_type": "stream",
     "text": [
      "PP.H0.abf PP.H1.abf PP.H2.abf PP.H3.abf PP.H4.abf \n",
      " 9.63e-05  3.00e-02  1.69e-04  5.16e-02  9.18e-01 \n",
      "[1] \"PP abf for shared variant: 91.8%\"\n"
     ]
    }
   ],
   "source": [
    "# p-value using standard deviation of methylation data as estimate of sdY for mqtls and using maf for gscan\n",
    "my.res4 <- coloc.abf(dataset1=list(pvalues=qtls$mQTL_pvalue, \n",
    "                                   N=220, \n",
    "                                   type=\"quant\", \n",
    "                                   sdY=meth_sd),\n",
    "                     dataset2=list(pvalues=gscan$GSCAN_pvalue,\n",
    "                                   N=gscan$GSCAN_Effective_N, \n",
    "                                   type=\"quant\"), \n",
    "                    MAF=gscan$MAF)\n"
   ]
  },
  {
   "cell_type": "code",
   "execution_count": 19,
   "metadata": {
    "vscode": {
     "languageId": "r"
    }
   },
   "outputs": [
    {
     "name": "stderr",
     "output_type": "stream",
     "text": [
      "Warning message in sdY.est(vbeta = (qtls$mQTL_SE)^2, maf = gscan$MAF, n = 220):\n",
      "“estimating sdY from maf and varbeta, please directly supply sdY if known”\n"
     ]
    }
   ],
   "source": [
    "sdY.est <- function(vbeta, maf, n) {\n",
    "    warning(\"estimating sdY from maf and varbeta, please directly supply sdY if known\")\n",
    "    oneover <- 1/vbeta\n",
    "    nvx <- 2 * n * maf * (1-maf)\n",
    "    m <- lm(nvx ~ oneover - 1)\n",
    "    cf <- coef(m)[['oneover']]\n",
    "    if(cf < 0)\n",
    "        stop(\"estimated sdY is negative - this can happen with small datasets, or those with errors.  A reasonable estimate of sdY is required to continue.\")\n",
    "    return(sqrt(cf))\n",
    "}\n",
    "\n",
    "meth_sd2 <- sdY.est(vbeta=(qtls$mQTL_SE)**2, maf=gscan$MAF, n=220) # 0.961596439610978"
   ]
  },
  {
   "cell_type": "code",
   "execution_count": 1,
   "metadata": {
    "vscode": {
     "languageId": "r"
    }
   },
   "outputs": [
    {
     "data": {
      "text/plain": [
       "'/home/ubuntu/rti-nd/coloc_review'"
      ]
     },
     "execution_count": 1,
     "metadata": {},
     "output_type": "execute_result"
    }
   ],
   "source": [
    "pwd"
   ]
  },
  {
   "cell_type": "markdown",
   "metadata": {},
   "source": [
    "## filtered"
   ]
  },
  {
   "cell_type": "code",
   "execution_count": null,
   "metadata": {
    "vscode": {
     "languageId": "r"
    }
   },
   "outputs": [
    {
     "name": "stdout",
     "output_type": "stream",
     "text": [
      "Chromosome\tGRCh37.p13_position\tSNP_ID\tGene\tmQTL_Beta\tmQTL_SE\tmQTL_test_stat\tmQTL_pvalue\tmQTL_original_SNP_ID\tmQTL_Effect_Allele\tMAF\tGSCAN_Effect_Allele\tGSCAN_pvalue\tGSCAN_Beta\tGSCAN_SE\tGSCAN_N\tGSCAN_Effective_N\n",
      "7\t1952582\trs6944877:1952582:T:G\tcg11050988\t1.2353351130762\t0.0405091\t30.4952180873861\t1.83259348812666e-79\trs6944877:1952582:T:G\tT\t0.424946\tG\t0.0311\t0.00711\t0.00306\t262990\t258485\n",
      "\n",
      "Chromosome\tGRCh37.p13_position\tSNP_ID\tGene\tmQTL_Beta\tmQTL_SE\tmQTL_test_stat\tmQTL_pvalue\tmQTL_original_SNP_ID\tmQTL_Effect_Allele\n",
      "7\t1952582\trs6944877:1952582:T:G\tcg11050988\t1.2353351130762\t0.0405091\t30.4952180873861\t1.83259348812666e-79\trs6944877:1952582:T:G\tT\n",
      "\n",
      "Chromosome\tGRCh37.p13_position\tSNP_ID\tGene\tMAF\tGSCAN_Effect_Allele\tGSCAN_pvalue\tGSCAN_Beta\tGSCAN_SE\tGSCAN_N\tGSCAN_Effective_N\n",
      "7\t1952582\trs6944877:1952582:T:G\tcg11050988\t0.424946\tG\t0.0311\t0.00711\t0.00306\t262990\t258485\n"
     ]
    }
   ],
   "source": [
    "%%bash\n",
    "\n",
    "# split filterd data up by GSCAN and mQTL results\n",
    "cd mqtls/input_datasets/baseline/age_of_initiation/\n",
    "head -2 MAF_0.05_GENO_0.1_AA_CAUC_filtered_baseline_coloc_input_dataset_GSCAN_age_of_initiation_locus_chr7_1532865_2532865.txt\n",
    "echo \n",
    "\n",
    "cut -f1-10  MAF_0.05_GENO_0.1_AA_CAUC_filtered_baseline_coloc_input_dataset_GSCAN_age_of_initiation_locus_chr7_1532865_2532865.txt > coloc_input_dataset1_locus_chr7_1532865_2532865_baseline_filtered.txt\n",
    "\n",
    "head -2 coloc_input_dataset1_locus_chr7_1532865_2532865_baseline_filtered.txt\n",
    "echo \n",
    "\n",
    "cut -f1-4,11-17  MAF_0.05_GENO_0.1_AA_CAUC_filtered_baseline_coloc_input_dataset_GSCAN_age_of_initiation_locus_chr7_1532865_2532865.txt > coloc_input_dataset2_locus_chr7_1532865_2532865_gscan_ai_filtered.txt\n",
    "\n",
    "head -2 coloc_input_dataset2_locus_chr7_1532865_2532865_gscan_ai_filtered.txt\n"
   ]
  },
  {
   "cell_type": "markdown",
   "metadata": {},
   "source": [
    "# cg05226172 \n",
    "Extract only the results for this CpG. This is one that was way off the diagonal when we plotted the coloc results indicating that using p-value inputs was way different that using beta/se."
   ]
  },
  {
   "cell_type": "code",
   "execution_count": 1,
   "metadata": {
    "vscode": {
     "languageId": "r"
    }
   },
   "outputs": [
    {
     "name": "stdout",
     "output_type": "stream",
     "text": [
      "MAF_0.05_GENO_0.1_AA_CAUC_filtered_baseline_coloc_input_dataset_GSCAN_age_of_initiation_locus_chr7_1532865_2532865.txt\n",
      "baseline_coloc_input_dataset_GSCAN_age_of_initiation_locus_chr7_1532865_2532865.txt\n",
      "coloc_input_dataset1_locus_chr7_1532865_2532865_baseline.txt\n",
      "coloc_input_dataset1_locus_chr7_1532865_2532865_baseline_filtered.txt\n",
      "coloc_input_dataset1_locus_cpg05226172_baseline.txt\n",
      "coloc_input_dataset1_locus_cpg05226172_baseline_filtered.txt\n",
      "coloc_input_dataset1_locus_cpg12073833_baseline.txt\n",
      "coloc_input_dataset1_locus_cpg12073833_baseline_filtered.txt\n",
      "coloc_input_dataset2_locus_chr7_1532865_2532865_gscan_ai.txt\n",
      "coloc_input_dataset2_locus_chr7_1532865_2532865_gscan_ai_filtered.txt\n",
      "coloc_input_dataset2_locus_cpg05226172_gscan_ai.txt\n",
      "coloc_input_dataset2_locus_cpg05226172_gscan_ai_filtered.txt\n",
      "coloc_input_dataset2_locus_cpg12073833_gscan_ai.txt\n",
      "coloc_input_dataset2_locus_cpg12073833_gscan_ai_filtered.txt\n",
      "\n",
      "1867 coloc_input_dataset1_locus_cpg05226172_baseline.txt\n",
      "\n",
      "Chromosome\tGRCh37.p13_position\tSNP_ID\tGene\tmQTL_Beta\tmQTL_SE\tmQTL_test_stat\tmQTL_pvalue\tmQTL_original_SNP_ID\tmQTL_Effect_Allele\n",
      "7\t2034193\trs3857706:2034193:A:G\tcg05226172\t-0.394324096947506\t0.101795\t-3.87372104447984\t0.000142826728710564\trs3857706:2034193:A:G\tA\n",
      "\n",
      "1080 coloc_input_dataset1_locus_cpg05226172_baseline_filtered.txt\n",
      "\n",
      "Chromosome\tGRCh37.p13_position\tSNP_ID\tGene\tmQTL_Beta\tmQTL_SE\tmQTL_test_stat\tmQTL_pvalue\tmQTL_original_SNP_ID\tmQTL_Effect_Allele\n",
      "7\t2034193\trs3857706:2034193:A:G\tcg05226172\t-0.394324096947506\t0.101795\t-3.87372104447984\t0.000142826728710564\trs3857706:2034193:A:G\tA\n",
      "\n"
     ]
    }
   ],
   "source": [
    "%%bash\n",
    "\n",
    "cd mqtls/input_datasets/baseline/age_of_initiation/\n",
    "ls \n",
    "echo\n",
    "\n",
    "# mQTL non-filtered\n",
    "head -1 coloc_input_dataset1_locus_chr7_1532865_2532865_baseline.txt > coloc_input_dataset1_locus_cpg05226172_baseline.txt\n",
    "grep cg05226172 coloc_input_dataset1_locus_chr7_1532865_2532865_baseline.txt >> coloc_input_dataset1_locus_cpg05226172_baseline.txt\n",
    "\n",
    "wc -l coloc_input_dataset1_locus_cpg05226172_baseline.txt\n",
    "echo\n",
    "head -2 coloc_input_dataset1_locus_cpg05226172_baseline.txt\n",
    "echo\n",
    "\n",
    "# mQTL filtered\n",
    "head -1 coloc_input_dataset1_locus_chr7_1532865_2532865_baseline_filtered.txt > coloc_input_dataset1_locus_cpg05226172_baseline_filtered.txt\n",
    "grep cg05226172 coloc_input_dataset1_locus_chr7_1532865_2532865_baseline_filtered.txt >> coloc_input_dataset1_locus_cpg05226172_baseline_filtered.txt\n",
    "\n",
    "wc -l coloc_input_dataset1_locus_cpg05226172_baseline_filtered.txt\n",
    "echo\n",
    "head -2 coloc_input_dataset1_locus_cpg05226172_baseline_filtered.txt\n",
    "echo\n"
   ]
  },
  {
   "cell_type": "code",
   "execution_count": 2,
   "metadata": {
    "vscode": {
     "languageId": "r"
    }
   },
   "outputs": [
    {
     "name": "stdout",
     "output_type": "stream",
     "text": [
      "MAF_0.05_GENO_0.1_AA_CAUC_filtered_baseline_coloc_input_dataset_GSCAN_age_of_initiation_locus_chr7_1532865_2532865.txt\n",
      "baseline_coloc_input_dataset_GSCAN_age_of_initiation_locus_chr7_1532865_2532865.txt\n",
      "coloc_input_dataset1_locus_chr7_1532865_2532865_baseline.txt\n",
      "coloc_input_dataset1_locus_chr7_1532865_2532865_baseline_filtered.txt\n",
      "coloc_input_dataset1_locus_cpg05226172_baseline.txt\n",
      "coloc_input_dataset1_locus_cpg05226172_baseline_filtered.txt\n",
      "coloc_input_dataset1_locus_cpg12073833_baseline.txt\n",
      "coloc_input_dataset1_locus_cpg12073833_baseline_filtered.txt\n",
      "coloc_input_dataset2_locus_chr7_1532865_2532865_gscan_ai.txt\n",
      "coloc_input_dataset2_locus_chr7_1532865_2532865_gscan_ai_filtered.txt\n",
      "coloc_input_dataset2_locus_cpg05226172_gscan_ai.txt\n",
      "coloc_input_dataset2_locus_cpg05226172_gscan_ai_filtered.txt\n",
      "coloc_input_dataset2_locus_cpg12073833_gscan_ai.txt\n",
      "coloc_input_dataset2_locus_cpg12073833_gscan_ai_filtered.txt\n",
      "\n",
      "1867 coloc_input_dataset2_locus_cpg05226172_gscan_ai.txt\n",
      "\n",
      "Chromosome\tGRCh37.p13_position\tSNP_ID\tGene\tMAF\tGSCAN_Effect_Allele\tGSCAN_pvalue\tGSCAN_Beta\tGSCAN_SE\tGSCAN_N\tGSCAN_Effective_N\n",
      "7\t2034193\trs3857706:2034193:A:G\tcg05226172\t0.412827\tG\t3.39e-07\t0.0158\t0.00304\t262990\t259154\n",
      "\n",
      "1080 coloc_input_dataset2_locus_cpg05226172_gscan_ai_filtered.txt\n",
      "\n",
      "Chromosome\tGRCh37.p13_position\tSNP_ID\tGene\tMAF\tGSCAN_Effect_Allele\tGSCAN_pvalue\tGSCAN_Beta\tGSCAN_SE\tGSCAN_N\tGSCAN_Effective_N\n",
      "7\t2034193\trs3857706:2034193:A:G\tcg05226172\t0.412827\tG\t3.39e-07\t0.0158\t0.00304\t262990\t259154\n"
     ]
    }
   ],
   "source": [
    "%%bash\n",
    "\n",
    "cd mqtls/input_datasets/baseline/age_of_initiation/\n",
    "ls \n",
    "echo\n",
    "\n",
    "# GSCAN non-filtered\n",
    "head -1 coloc_input_dataset2_locus_chr7_1532865_2532865_gscan_ai.txt > coloc_input_dataset2_locus_cpg05226172_gscan_ai.txt\n",
    "grep cg05226172 coloc_input_dataset2_locus_chr7_1532865_2532865_gscan_ai.txt >> coloc_input_dataset2_locus_cpg05226172_gscan_ai.txt\n",
    "\n",
    "wc -l coloc_input_dataset2_locus_cpg05226172_gscan_ai.txt\n",
    "echo\n",
    "head -2 coloc_input_dataset2_locus_cpg05226172_gscan_ai.txt\n",
    "echo\n",
    "\n",
    "# mQTL filtered\n",
    "head -1 coloc_input_dataset2_locus_chr7_1532865_2532865_gscan_ai_filtered.txt > coloc_input_dataset2_locus_cpg05226172_gscan_ai_filtered.txt\n",
    "grep cg05226172 coloc_input_dataset2_locus_chr7_1532865_2532865_gscan_ai_filtered.txt >> coloc_input_dataset2_locus_cpg05226172_gscan_ai_filtered.txt\n",
    "\n",
    "wc -l coloc_input_dataset2_locus_cpg05226172_gscan_ai_filtered.txt\n",
    "echo\n",
    "head -2 coloc_input_dataset2_locus_cpg05226172_gscan_ai_filtered.txt"
   ]
  },
  {
   "cell_type": "markdown",
   "metadata": {},
   "source": [
    "## coloc"
   ]
  },
  {
   "cell_type": "code",
   "execution_count": 3,
   "metadata": {
    "vscode": {
     "languageId": "r"
    }
   },
   "outputs": [
    {
     "data": {
      "text/html": [
       "<table class=\"dataframe\">\n",
       "<caption>A data.frame: 2 × 10</caption>\n",
       "<thead>\n",
       "\t<tr><th></th><th scope=col>Chromosome</th><th scope=col>GRCh37.p13_position</th><th scope=col>SNP_ID</th><th scope=col>Gene</th><th scope=col>mQTL_Beta</th><th scope=col>mQTL_SE</th><th scope=col>mQTL_test_stat</th><th scope=col>mQTL_pvalue</th><th scope=col>mQTL_original_SNP_ID</th><th scope=col>mQTL_Effect_Allele</th></tr>\n",
       "\t<tr><th></th><th scope=col>&lt;int&gt;</th><th scope=col>&lt;int&gt;</th><th scope=col>&lt;chr&gt;</th><th scope=col>&lt;chr&gt;</th><th scope=col>&lt;dbl&gt;</th><th scope=col>&lt;dbl&gt;</th><th scope=col>&lt;dbl&gt;</th><th scope=col>&lt;dbl&gt;</th><th scope=col>&lt;chr&gt;</th><th scope=col>&lt;chr&gt;</th></tr>\n",
       "</thead>\n",
       "<tbody>\n",
       "\t<tr><th scope=row>1</th><td>7</td><td>2034193</td><td>rs3857706:2034193:A:G </td><td>cg05226172</td><td>-0.3943241</td><td>0.101795</td><td>-3.873721</td><td>0.0001428267</td><td>rs3857706:2034193:A:G </td><td>A </td></tr>\n",
       "\t<tr><th scope=row>2</th><td>7</td><td>1837416</td><td>rs5881908:1837416:TA:T</td><td>cg05226172</td><td>-0.4212490</td><td>0.111240</td><td>-3.786841</td><td>0.0001986860</td><td>rs5881908:1837416:TA:T</td><td>TA</td></tr>\n",
       "</tbody>\n",
       "</table>\n"
      ],
      "text/latex": [
       "A data.frame: 2 × 10\n",
       "\\begin{tabular}{r|llllllllll}\n",
       "  & Chromosome & GRCh37.p13\\_position & SNP\\_ID & Gene & mQTL\\_Beta & mQTL\\_SE & mQTL\\_test\\_stat & mQTL\\_pvalue & mQTL\\_original\\_SNP\\_ID & mQTL\\_Effect\\_Allele\\\\\n",
       "  & <int> & <int> & <chr> & <chr> & <dbl> & <dbl> & <dbl> & <dbl> & <chr> & <chr>\\\\\n",
       "\\hline\n",
       "\t1 & 7 & 2034193 & rs3857706:2034193:A:G  & cg05226172 & -0.3943241 & 0.101795 & -3.873721 & 0.0001428267 & rs3857706:2034193:A:G  & A \\\\\n",
       "\t2 & 7 & 1837416 & rs5881908:1837416:TA:T & cg05226172 & -0.4212490 & 0.111240 & -3.786841 & 0.0001986860 & rs5881908:1837416:TA:T & TA\\\\\n",
       "\\end{tabular}\n"
      ],
      "text/markdown": [
       "\n",
       "A data.frame: 2 × 10\n",
       "\n",
       "| <!--/--> | Chromosome &lt;int&gt; | GRCh37.p13_position &lt;int&gt; | SNP_ID &lt;chr&gt; | Gene &lt;chr&gt; | mQTL_Beta &lt;dbl&gt; | mQTL_SE &lt;dbl&gt; | mQTL_test_stat &lt;dbl&gt; | mQTL_pvalue &lt;dbl&gt; | mQTL_original_SNP_ID &lt;chr&gt; | mQTL_Effect_Allele &lt;chr&gt; |\n",
       "|---|---|---|---|---|---|---|---|---|---|---|\n",
       "| 1 | 7 | 2034193 | rs3857706:2034193:A:G  | cg05226172 | -0.3943241 | 0.101795 | -3.873721 | 0.0001428267 | rs3857706:2034193:A:G  | A  |\n",
       "| 2 | 7 | 1837416 | rs5881908:1837416:TA:T | cg05226172 | -0.4212490 | 0.111240 | -3.786841 | 0.0001986860 | rs5881908:1837416:TA:T | TA |\n",
       "\n"
      ],
      "text/plain": [
       "  Chromosome GRCh37.p13_position SNP_ID                 Gene       mQTL_Beta \n",
       "1 7          2034193             rs3857706:2034193:A:G  cg05226172 -0.3943241\n",
       "2 7          1837416             rs5881908:1837416:TA:T cg05226172 -0.4212490\n",
       "  mQTL_SE  mQTL_test_stat mQTL_pvalue  mQTL_original_SNP_ID  \n",
       "1 0.101795 -3.873721      0.0001428267 rs3857706:2034193:A:G \n",
       "2 0.111240 -3.786841      0.0001986860 rs5881908:1837416:TA:T\n",
       "  mQTL_Effect_Allele\n",
       "1 A                 \n",
       "2 TA                "
      ]
     },
     "metadata": {},
     "output_type": "display_data"
    },
    {
     "data": {
      "text/html": [
       "<table class=\"dataframe\">\n",
       "<caption>A data.frame: 2 × 11</caption>\n",
       "<thead>\n",
       "\t<tr><th></th><th scope=col>Chromosome</th><th scope=col>GRCh37.p13_position</th><th scope=col>SNP_ID</th><th scope=col>Gene</th><th scope=col>MAF</th><th scope=col>GSCAN_Effect_Allele</th><th scope=col>GSCAN_pvalue</th><th scope=col>GSCAN_Beta</th><th scope=col>GSCAN_SE</th><th scope=col>GSCAN_N</th><th scope=col>GSCAN_Effective_N</th></tr>\n",
       "\t<tr><th></th><th scope=col>&lt;int&gt;</th><th scope=col>&lt;int&gt;</th><th scope=col>&lt;chr&gt;</th><th scope=col>&lt;chr&gt;</th><th scope=col>&lt;dbl&gt;</th><th scope=col>&lt;chr&gt;</th><th scope=col>&lt;dbl&gt;</th><th scope=col>&lt;dbl&gt;</th><th scope=col>&lt;dbl&gt;</th><th scope=col>&lt;int&gt;</th><th scope=col>&lt;int&gt;</th></tr>\n",
       "</thead>\n",
       "<tbody>\n",
       "\t<tr><th scope=row>1</th><td>7</td><td>2034193</td><td>rs3857706:2034193:A:G </td><td>cg05226172</td><td>0.412827</td><td>G</td><td>3.39e-07</td><td>0.0158</td><td>0.00304</td><td>262990</td><td>259154</td></tr>\n",
       "\t<tr><th scope=row>2</th><td>7</td><td>1837416</td><td>rs5881908:1837416:TA:T</td><td>cg05226172</td><td>0.312899</td><td>T</td><td>7.02e-02</td><td>0.0115</td><td>0.00625</td><td>122844</td><td>122315</td></tr>\n",
       "</tbody>\n",
       "</table>\n"
      ],
      "text/latex": [
       "A data.frame: 2 × 11\n",
       "\\begin{tabular}{r|lllllllllll}\n",
       "  & Chromosome & GRCh37.p13\\_position & SNP\\_ID & Gene & MAF & GSCAN\\_Effect\\_Allele & GSCAN\\_pvalue & GSCAN\\_Beta & GSCAN\\_SE & GSCAN\\_N & GSCAN\\_Effective\\_N\\\\\n",
       "  & <int> & <int> & <chr> & <chr> & <dbl> & <chr> & <dbl> & <dbl> & <dbl> & <int> & <int>\\\\\n",
       "\\hline\n",
       "\t1 & 7 & 2034193 & rs3857706:2034193:A:G  & cg05226172 & 0.412827 & G & 3.39e-07 & 0.0158 & 0.00304 & 262990 & 259154\\\\\n",
       "\t2 & 7 & 1837416 & rs5881908:1837416:TA:T & cg05226172 & 0.312899 & T & 7.02e-02 & 0.0115 & 0.00625 & 122844 & 122315\\\\\n",
       "\\end{tabular}\n"
      ],
      "text/markdown": [
       "\n",
       "A data.frame: 2 × 11\n",
       "\n",
       "| <!--/--> | Chromosome &lt;int&gt; | GRCh37.p13_position &lt;int&gt; | SNP_ID &lt;chr&gt; | Gene &lt;chr&gt; | MAF &lt;dbl&gt; | GSCAN_Effect_Allele &lt;chr&gt; | GSCAN_pvalue &lt;dbl&gt; | GSCAN_Beta &lt;dbl&gt; | GSCAN_SE &lt;dbl&gt; | GSCAN_N &lt;int&gt; | GSCAN_Effective_N &lt;int&gt; |\n",
       "|---|---|---|---|---|---|---|---|---|---|---|---|\n",
       "| 1 | 7 | 2034193 | rs3857706:2034193:A:G  | cg05226172 | 0.412827 | G | 3.39e-07 | 0.0158 | 0.00304 | 262990 | 259154 |\n",
       "| 2 | 7 | 1837416 | rs5881908:1837416:TA:T | cg05226172 | 0.312899 | T | 7.02e-02 | 0.0115 | 0.00625 | 122844 | 122315 |\n",
       "\n"
      ],
      "text/plain": [
       "  Chromosome GRCh37.p13_position SNP_ID                 Gene       MAF     \n",
       "1 7          2034193             rs3857706:2034193:A:G  cg05226172 0.412827\n",
       "2 7          1837416             rs5881908:1837416:TA:T cg05226172 0.312899\n",
       "  GSCAN_Effect_Allele GSCAN_pvalue GSCAN_Beta GSCAN_SE GSCAN_N\n",
       "1 G                   3.39e-07     0.0158     0.00304  262990 \n",
       "2 T                   7.02e-02     0.0115     0.00625  122844 \n",
       "  GSCAN_Effective_N\n",
       "1 259154           \n",
       "2 122315           "
      ]
     },
     "metadata": {},
     "output_type": "display_data"
    },
    {
     "data": {
      "text/html": [
       "<table class=\"dataframe\">\n",
       "<caption>A data.frame: 2 × 11</caption>\n",
       "<thead>\n",
       "\t<tr><th></th><th scope=col>Chromosome</th><th scope=col>GRCh37.p13_position</th><th scope=col>SNP_ID</th><th scope=col>Gene</th><th scope=col>MAF</th><th scope=col>GSCAN_Effect_Allele</th><th scope=col>GSCAN_pvalue</th><th scope=col>GSCAN_Beta</th><th scope=col>GSCAN_SE</th><th scope=col>GSCAN_N</th><th scope=col>GSCAN_Effective_N</th></tr>\n",
       "\t<tr><th></th><th scope=col>&lt;int&gt;</th><th scope=col>&lt;int&gt;</th><th scope=col>&lt;chr&gt;</th><th scope=col>&lt;chr&gt;</th><th scope=col>&lt;dbl&gt;</th><th scope=col>&lt;chr&gt;</th><th scope=col>&lt;dbl&gt;</th><th scope=col>&lt;dbl&gt;</th><th scope=col>&lt;dbl&gt;</th><th scope=col>&lt;int&gt;</th><th scope=col>&lt;int&gt;</th></tr>\n",
       "</thead>\n",
       "<tbody>\n",
       "\t<tr><th scope=row>1</th><td>7</td><td>2034193</td><td>rs3857706:2034193:A:G </td><td>cg05226172</td><td>0.412827</td><td>G</td><td>3.39e-07</td><td>-0.0158</td><td>0.00304</td><td>262990</td><td>259154</td></tr>\n",
       "\t<tr><th scope=row>2</th><td>7</td><td>1837416</td><td>rs5881908:1837416:TA:T</td><td>cg05226172</td><td>0.312899</td><td>T</td><td>7.02e-02</td><td>-0.0115</td><td>0.00625</td><td>122844</td><td>122315</td></tr>\n",
       "</tbody>\n",
       "</table>\n"
      ],
      "text/latex": [
       "A data.frame: 2 × 11\n",
       "\\begin{tabular}{r|lllllllllll}\n",
       "  & Chromosome & GRCh37.p13\\_position & SNP\\_ID & Gene & MAF & GSCAN\\_Effect\\_Allele & GSCAN\\_pvalue & GSCAN\\_Beta & GSCAN\\_SE & GSCAN\\_N & GSCAN\\_Effective\\_N\\\\\n",
       "  & <int> & <int> & <chr> & <chr> & <dbl> & <chr> & <dbl> & <dbl> & <dbl> & <int> & <int>\\\\\n",
       "\\hline\n",
       "\t1 & 7 & 2034193 & rs3857706:2034193:A:G  & cg05226172 & 0.412827 & G & 3.39e-07 & -0.0158 & 0.00304 & 262990 & 259154\\\\\n",
       "\t2 & 7 & 1837416 & rs5881908:1837416:TA:T & cg05226172 & 0.312899 & T & 7.02e-02 & -0.0115 & 0.00625 & 122844 & 122315\\\\\n",
       "\\end{tabular}\n"
      ],
      "text/markdown": [
       "\n",
       "A data.frame: 2 × 11\n",
       "\n",
       "| <!--/--> | Chromosome &lt;int&gt; | GRCh37.p13_position &lt;int&gt; | SNP_ID &lt;chr&gt; | Gene &lt;chr&gt; | MAF &lt;dbl&gt; | GSCAN_Effect_Allele &lt;chr&gt; | GSCAN_pvalue &lt;dbl&gt; | GSCAN_Beta &lt;dbl&gt; | GSCAN_SE &lt;dbl&gt; | GSCAN_N &lt;int&gt; | GSCAN_Effective_N &lt;int&gt; |\n",
       "|---|---|---|---|---|---|---|---|---|---|---|---|\n",
       "| 1 | 7 | 2034193 | rs3857706:2034193:A:G  | cg05226172 | 0.412827 | G | 3.39e-07 | -0.0158 | 0.00304 | 262990 | 259154 |\n",
       "| 2 | 7 | 1837416 | rs5881908:1837416:TA:T | cg05226172 | 0.312899 | T | 7.02e-02 | -0.0115 | 0.00625 | 122844 | 122315 |\n",
       "\n"
      ],
      "text/plain": [
       "  Chromosome GRCh37.p13_position SNP_ID                 Gene       MAF     \n",
       "1 7          2034193             rs3857706:2034193:A:G  cg05226172 0.412827\n",
       "2 7          1837416             rs5881908:1837416:TA:T cg05226172 0.312899\n",
       "  GSCAN_Effect_Allele GSCAN_pvalue GSCAN_Beta GSCAN_SE GSCAN_N\n",
       "1 G                   3.39e-07     -0.0158    0.00304  262990 \n",
       "2 T                   7.02e-02     -0.0115    0.00625  122844 \n",
       "  GSCAN_Effective_N\n",
       "1 259154           \n",
       "2 122315           "
      ]
     },
     "metadata": {},
     "output_type": "display_data"
    },
    {
     "data": {
      "text/html": [
       "0.0319845914097218"
      ],
      "text/latex": [
       "0.0319845914097218"
      ],
      "text/markdown": [
       "0.0319845914097218"
      ],
      "text/plain": [
       "[1] 0.03198459"
      ]
     },
     "metadata": {},
     "output_type": "display_data"
    }
   ],
   "source": [
    "library(coloc)\n",
    "\n",
    "# read in input data\n",
    "qtls <- read.table(\"/home/ubuntu/rti-nd/coloc_review/mqtls/input_datasets/baseline/age_of_initiation/coloc_input_dataset1_locus_cpg05226172_baseline.txt\", header=TRUE)\n",
    "head(qtls, 2)\n",
    "\n",
    "gscan <- read.table(\"/home/ubuntu/rti-nd/coloc_review/mqtls/input_datasets/baseline/age_of_initiation/coloc_input_dataset2_locus_cpg05226172_gscan_ai.txt\", header=TRUE)\n",
    "head(gscan, 2)\n",
    "\n",
    "meth <- read.table(\"/home/ubuntu/rti-nd/coloc_review/expression_file/mqtl_methylation_data/LIBD_NAc_MEGA_OMIC_full_matrixeQTL_input.txt\", header=TRUE)\n",
    "\n",
    "# flip GSCAN beta if the effect alleles don't match QTL effect alleles\n",
    "qtls$mQTL_Effect_Allele<-as.character(qtls$mQTL_Effect_Allele)\n",
    "gscan$GSCAN_Effect_Allele<-as.character(gscan$GSCAN_Effect_Allele)\n",
    "gscan$GSCAN_Beta<-as.numeric(gscan$GSCAN_Beta)\n",
    "for (i in 1:length(gscan$GSCAN_Beta)) {\n",
    "    if (qtls$mQTL_Effect_Allele[i] != gscan$GSCAN_Effect_Allele[i]) {\n",
    "        gscan$GSCAN_Beta[i] = -1 * gscan$GSCAN_Beta[i]\n",
    "    }\n",
    "}\n",
    "head(gscan, 2)\n",
    "\n",
    "\n",
    "meth <- meth[which(meth$cg_id==\"cg05226172\"),]\n",
    "meth_sd <- sd(meth[1,2:ncol(meth)])\n",
    "meth_sd"
   ]
  },
  {
   "cell_type": "markdown",
   "metadata": {},
   "source": [
    "## 001: non-filtered, beta/se, no stdev-methyl "
   ]
  },
  {
   "cell_type": "code",
   "execution_count": 4,
   "metadata": {
    "vscode": {
     "languageId": "r"
    }
   },
   "outputs": [
    {
     "name": "stderr",
     "output_type": "stream",
     "text": [
      "Warning message in check_dataset(d = dataset1, 1):\n",
      "“minimum p value is: 0.00010719\n",
      "If this is what you expected, this is not a problem.\n",
      "If this is not as small as you expected, please check the 02_data vignette.”\n",
      "Warning message in sdY.est(d$varbeta, d$MAF, d$N):\n",
      "“estimating sdY from maf and varbeta, please directly supply sdY if known”\n",
      "Warning message in sdY.est(d$varbeta, d$MAF, d$N):\n",
      "“estimating sdY from maf and varbeta, please directly supply sdY if known”\n"
     ]
    },
    {
     "name": "stdout",
     "output_type": "stream",
     "text": [
      "PP.H0.abf PP.H1.abf PP.H2.abf PP.H3.abf PP.H4.abf \n",
      "   0.0482    0.0195    0.1500    0.0600    0.7220 \n",
      "[1] \"PP abf for shared variant: 72.2%\"\n"
     ]
    }
   ],
   "source": [
    "# coloc using beta/se\n",
    "my.res1 <- coloc.abf(dataset1=list(beta=qtls$mQTL_Beta, varbeta=(qtls$mQTL_SE)**2, N=220, type=\"quant\"),\n",
    "                    dataset2=list(beta=gscan$GSCAN_Beta, varbeta=(gscan$GSCAN_SE)**2, N=gscan$GSCAN_Effective_N, type=\"quant\"),\n",
    "                    MAF=gscan$MAF)\n"
   ]
  },
  {
   "cell_type": "markdown",
   "metadata": {},
   "source": [
    "## 002: non-filtered, p-value, no stdev-methyl "
   ]
  },
  {
   "cell_type": "code",
   "execution_count": 5,
   "metadata": {
    "vscode": {
     "languageId": "r"
    }
   },
   "outputs": [
    {
     "name": "stderr",
     "output_type": "stream",
     "text": [
      "Warning message in check_dataset(d = dataset1, 1):\n",
      "“minimum p value is: 0.00014283\n",
      "If this is what you expected, this is not a problem.\n",
      "If this is not as small as you expected, please check the 02_data vignette.”\n"
     ]
    },
    {
     "name": "stdout",
     "output_type": "stream",
     "text": [
      "PP.H0.abf PP.H1.abf PP.H2.abf PP.H3.abf PP.H4.abf \n",
      "   0.0860    0.0326    0.1480    0.0555    0.6780 \n",
      "[1] \"PP abf for shared variant: 67.8%\"\n"
     ]
    }
   ],
   "source": [
    "# perform coloc with p-values\n",
    "my.res2 <- coloc.abf(dataset1=list(pvalues=qtls$mQTL_pvalue, N=220, type=\"quant\"),\n",
    "                    dataset2=list(pvalues=gscan$GSCAN_pvalue, N=gscan$GSCAN_Effective_N, type=\"quant\"),\n",
    "                    MAF=gscan$MAF)\n"
   ]
  },
  {
   "cell_type": "markdown",
   "metadata": {},
   "source": [
    "## 003: non-filtered, beta/se, WITH stdev-methyl "
   ]
  },
  {
   "cell_type": "code",
   "execution_count": 6,
   "metadata": {
    "vscode": {
     "languageId": "r"
    }
   },
   "outputs": [
    {
     "name": "stderr",
     "output_type": "stream",
     "text": [
      "Warning message in check_dataset(d = dataset1, 1):\n",
      "“minimum p value is: 0.00010719\n",
      "If this is what you expected, this is not a problem.\n",
      "If this is not as small as you expected, please check the 02_data vignette.”\n",
      "Warning message in sdY.est(d$varbeta, d$MAF, d$N):\n",
      "“estimating sdY from maf and varbeta, please directly supply sdY if known”\n"
     ]
    },
    {
     "name": "stdout",
     "output_type": "stream",
     "text": [
      "PP.H0.abf PP.H1.abf PP.H2.abf PP.H3.abf PP.H4.abf \n",
      "   0.1930    0.0360    0.5990    0.1120    0.0605 \n",
      "[1] \"PP abf for shared variant: 6.05%\"\n"
     ]
    }
   ],
   "source": [
    "# coloc using beta/se with meth_sd\n",
    "my.res3 <- coloc.abf(dataset1=list(beta=qtls$mQTL_Beta, varbeta=(qtls$mQTL_SE)**2, N=220, type=\"quant\", sdY=meth_sd),\n",
    "                    dataset2=list(beta=gscan$GSCAN_Beta, varbeta=(gscan$GSCAN_SE)**2, N=gscan$GSCAN_Effective_N, type=\"quant\", MAF=gscan$MAF))"
   ]
  },
  {
   "cell_type": "code",
   "execution_count": 8,
   "metadata": {
    "vscode": {
     "languageId": "r"
    }
   },
   "outputs": [
    {
     "name": "stderr",
     "output_type": "stream",
     "text": [
      "Warning message in sdY.est(vbeta = (qtls$mQTL_SE)^2, maf = gscan$MAF, n = 220):\n",
      "“estimating sdY from maf and varbeta, please directly supply sdY if known”\n"
     ]
    },
    {
     "data": {
      "text/html": [
       "1.03252151235383"
      ],
      "text/latex": [
       "1.03252151235383"
      ],
      "text/markdown": [
       "1.03252151235383"
      ],
      "text/plain": [
       "[1] 1.032522"
      ]
     },
     "metadata": {},
     "output_type": "display_data"
    }
   ],
   "source": [
    "sdY.est <- function(vbeta, maf, n) {\n",
    "    warning(\"estimating sdY from maf and varbeta, please directly supply sdY if known\")\n",
    "    oneover <- 1/vbeta\n",
    "    nvx <- 2 * n * maf * (1-maf)\n",
    "    m <- lm(nvx ~ oneover - 1)\n",
    "    cf <- coef(m)[['oneover']]\n",
    "    if(cf < 0)\n",
    "        stop(\"estimated sdY is negative - this can happen with small datasets, or those with errors.  A reasonable estimate of sdY is required to continue.\")\n",
    "    return(sqrt(cf))\n",
    "}\n",
    "\n",
    "meth_sd2 <- sdY.est(vbeta=(qtls$mQTL_SE)**2, maf=gscan$MAF, n=220) # 1.03252151235383\n",
    "meth_sd2"
   ]
  },
  {
   "cell_type": "markdown",
   "metadata": {},
   "source": [
    "# MAF\n",
    "\n",
    "Megan:\n",
    "```\n",
    "When we use this: meth_sd2 <- sdY.est(vbeta=(qtls$mQTL_SE)**2, maf=gscan$MAF, n=220) # 0.961596439610978\n",
    "\n",
    "We should see what happens when we replace maf=gscan$MAF with maf=mQTLs$MAF Then re-run beta/se, with new sd-meth\n",
    "```"
   ]
  },
  {
   "cell_type": "code",
   "execution_count": 5,
   "metadata": {
    "vscode": {
     "languageId": "r"
    }
   },
   "outputs": [
    {
     "name": "stdout",
     "output_type": "stream",
     "text": [
      "/home/ubuntu/rti-nd/coloc_review\n"
     ]
    }
   ],
   "source": [
    "%%bash\n",
    "\n",
    "pwd\n",
    "aws s3 cp s3://rti-nd/scratch/mcarnes/nac_mqtl/mQTLs_MEGA_baseline.afreq ."
   ]
  },
  {
   "cell_type": "code",
   "execution_count": 7,
   "metadata": {
    "vscode": {
     "languageId": "r"
    }
   },
   "outputs": [
    {
     "name": "stdout",
     "output_type": "stream",
     "text": [
      "Chromosome\tGRCh37.p13_position\tSNP_ID\tGene\tmQTL_Beta\tmQTL_SE\tmQTL_test_stat\tmQTL_pvalue\tmQTL_original_SNP_ID\tmQTL_Effect_Allele\n",
      "7\t1979425\trs11770899:1979425:C:T\tcg12073833\t0.570940965506915\t0.0881546\t6.47658412528508\t6.43513092936016e-10\trs11770899:1979425:C:T\tC\n"
     ]
    }
   ],
   "source": [
    "%%bash \n",
    "\n",
    "head -2 /home/ubuntu/rti-nd/coloc_review/mqtls/input_datasets/baseline/age_of_initiation/coloc_input_dataset1_locus_cpg12073833_baseline.txt"
   ]
  },
  {
   "cell_type": "markdown",
   "metadata": {},
   "source": [
    "## Add MAF to qtl data"
   ]
  },
  {
   "cell_type": "code",
   "execution_count": null,
   "metadata": {
    "vscode": {
     "languageId": "r"
    }
   },
   "outputs": [],
   "source": [
    "## Python3\n",
    "freqf = \"mQTLs_MEGA_baseline.afreq\"\n",
    "qtlf = \"/home/ubuntu/rti-nd/coloc_review/mqtls/input_datasets/baseline/age_of_initiation/coloc_input_dataset1_locus_cpg12073833_baseline.txt\"\n",
    "outf = \"/home/ubuntu/rti-nd/coloc_review/mqtls/input_datasets/baseline/age_of_initiation/coloc_input_dataset1_locus_cpg12073833_baseline_with_qtl_maf.txt\"\n",
    "\n",
    "with open(freqf) as frqF, open(qtlf) as qtlF, open(outf, \"w\") as outF:\n",
    "    head = frqF.readline() # #CHROM  ID      REF     ALT     ALT_FREQS       OBS_CT\n",
    "    line = frqF.readline() # 1       rs140435168:256586:T:G  T       G       0.0148515       404\n",
    "\n",
    "    freq_set = dict()\n",
    "    while line:\n",
    "        sl = line.split()\n",
    "        if sl[0] == \"7\": # chromosome 7\n",
    "            rsid = sl[1]\n",
    "            maf = sl[4]\n",
    "            freq_set[rsid] = maf\n",
    "        if sl[0] == \"8\":\n",
    "            break\n",
    "        line = frqF.readline()\n",
    "\n",
    "    #print(dict(list(freq_set.items())[0:2]))\n",
    "\n",
    "\n",
    "    head = qtlF.readline().split() # Chromosome      GRCh37.p13_position     SNP_ID  Gene    mQTL_Beta       mQTL_SE mQTL_test_stat  mQTL_pvalue     mQTL_original_SNP_ID    mQTL_Effect_Allele\n",
    "    head.append(\"MEGA_MAF\")\n",
    "    head = \"\\t\".join(head) + \"\\n\"\n",
    "    outF.write(head)\n",
    "    line = qtlF.readline() # 7       1979425 rs11770899:1979425:C:T  cg12073833      0.570940965506915       0.0881546       6.47658412528508        6.43513092936016e-10    rs11770899:1979425:C:T C\n",
    "\n",
    "    while line:\n",
    "        sl = line.split()\n",
    "        rsid = sl[8]\n",
    "        if rsid in freq_set:\n",
    "            maf = freq_set[rsid]\n",
    "            sl.append(maf)\n",
    "            outline = \"\\t\".join(sl) + \"\\n\"\n",
    "            outF.write(outline)\n",
    "        line = qtlF.readline()"
   ]
  },
  {
   "cell_type": "markdown",
   "metadata": {},
   "source": [
    "## coloc: cg12073833"
   ]
  },
  {
   "cell_type": "code",
   "execution_count": 26,
   "metadata": {
    "vscode": {
     "languageId": "r"
    }
   },
   "outputs": [
    {
     "data": {
      "text/html": [
       "<table class=\"dataframe\">\n",
       "<caption>A data.frame: 2 × 11</caption>\n",
       "<thead>\n",
       "\t<tr><th></th><th scope=col>Chromosome</th><th scope=col>GRCh37.p13_position</th><th scope=col>SNP_ID</th><th scope=col>Gene</th><th scope=col>mQTL_Beta</th><th scope=col>mQTL_SE</th><th scope=col>mQTL_test_stat</th><th scope=col>mQTL_pvalue</th><th scope=col>mQTL_original_SNP_ID</th><th scope=col>mQTL_Effect_Allele</th><th scope=col>MEGA_MAF</th></tr>\n",
       "\t<tr><th></th><th scope=col>&lt;int&gt;</th><th scope=col>&lt;int&gt;</th><th scope=col>&lt;chr&gt;</th><th scope=col>&lt;chr&gt;</th><th scope=col>&lt;dbl&gt;</th><th scope=col>&lt;dbl&gt;</th><th scope=col>&lt;dbl&gt;</th><th scope=col>&lt;dbl&gt;</th><th scope=col>&lt;chr&gt;</th><th scope=col>&lt;chr&gt;</th><th scope=col>&lt;dbl&gt;</th></tr>\n",
       "</thead>\n",
       "<tbody>\n",
       "\t<tr><th scope=row>1</th><td>7</td><td>1979425</td><td>rs11770899:1979425:C:T</td><td>cg12073833</td><td>0.570941</td><td>0.0881546</td><td>6.476584</td><td>6.435131e-10</td><td>rs11770899:1979425:C:T</td><td>C</td><td>0.495098</td></tr>\n",
       "\t<tr><th scope=row>2</th><td>7</td><td>2025040</td><td>rs4721282:2025040:A:G </td><td>cg12073833</td><td>0.537640</td><td>0.0860770</td><td>6.246037</td><td>2.269349e-09</td><td>rs4721282:2025040:A:G </td><td>A</td><td>0.345794</td></tr>\n",
       "</tbody>\n",
       "</table>\n"
      ],
      "text/latex": [
       "A data.frame: 2 × 11\n",
       "\\begin{tabular}{r|lllllllllll}\n",
       "  & Chromosome & GRCh37.p13\\_position & SNP\\_ID & Gene & mQTL\\_Beta & mQTL\\_SE & mQTL\\_test\\_stat & mQTL\\_pvalue & mQTL\\_original\\_SNP\\_ID & mQTL\\_Effect\\_Allele & MEGA\\_MAF\\\\\n",
       "  & <int> & <int> & <chr> & <chr> & <dbl> & <dbl> & <dbl> & <dbl> & <chr> & <chr> & <dbl>\\\\\n",
       "\\hline\n",
       "\t1 & 7 & 1979425 & rs11770899:1979425:C:T & cg12073833 & 0.570941 & 0.0881546 & 6.476584 & 6.435131e-10 & rs11770899:1979425:C:T & C & 0.495098\\\\\n",
       "\t2 & 7 & 2025040 & rs4721282:2025040:A:G  & cg12073833 & 0.537640 & 0.0860770 & 6.246037 & 2.269349e-09 & rs4721282:2025040:A:G  & A & 0.345794\\\\\n",
       "\\end{tabular}\n"
      ],
      "text/markdown": [
       "\n",
       "A data.frame: 2 × 11\n",
       "\n",
       "| <!--/--> | Chromosome &lt;int&gt; | GRCh37.p13_position &lt;int&gt; | SNP_ID &lt;chr&gt; | Gene &lt;chr&gt; | mQTL_Beta &lt;dbl&gt; | mQTL_SE &lt;dbl&gt; | mQTL_test_stat &lt;dbl&gt; | mQTL_pvalue &lt;dbl&gt; | mQTL_original_SNP_ID &lt;chr&gt; | mQTL_Effect_Allele &lt;chr&gt; | MEGA_MAF &lt;dbl&gt; |\n",
       "|---|---|---|---|---|---|---|---|---|---|---|---|\n",
       "| 1 | 7 | 1979425 | rs11770899:1979425:C:T | cg12073833 | 0.570941 | 0.0881546 | 6.476584 | 6.435131e-10 | rs11770899:1979425:C:T | C | 0.495098 |\n",
       "| 2 | 7 | 2025040 | rs4721282:2025040:A:G  | cg12073833 | 0.537640 | 0.0860770 | 6.246037 | 2.269349e-09 | rs4721282:2025040:A:G  | A | 0.345794 |\n",
       "\n"
      ],
      "text/plain": [
       "  Chromosome GRCh37.p13_position SNP_ID                 Gene       mQTL_Beta\n",
       "1 7          1979425             rs11770899:1979425:C:T cg12073833 0.570941 \n",
       "2 7          2025040             rs4721282:2025040:A:G  cg12073833 0.537640 \n",
       "  mQTL_SE   mQTL_test_stat mQTL_pvalue  mQTL_original_SNP_ID  \n",
       "1 0.0881546 6.476584       6.435131e-10 rs11770899:1979425:C:T\n",
       "2 0.0860770 6.246037       2.269349e-09 rs4721282:2025040:A:G \n",
       "  mQTL_Effect_Allele MEGA_MAF\n",
       "1 C                  0.495098\n",
       "2 A                  0.345794"
      ]
     },
     "metadata": {},
     "output_type": "display_data"
    },
    {
     "data": {
      "text/html": [
       "<table class=\"dataframe\">\n",
       "<caption>A data.frame: 2 × 11</caption>\n",
       "<thead>\n",
       "\t<tr><th></th><th scope=col>Chromosome</th><th scope=col>GRCh37.p13_position</th><th scope=col>SNP_ID</th><th scope=col>Gene</th><th scope=col>MAF</th><th scope=col>GSCAN_Effect_Allele</th><th scope=col>GSCAN_pvalue</th><th scope=col>GSCAN_Beta</th><th scope=col>GSCAN_SE</th><th scope=col>GSCAN_N</th><th scope=col>GSCAN_Effective_N</th></tr>\n",
       "\t<tr><th></th><th scope=col>&lt;int&gt;</th><th scope=col>&lt;int&gt;</th><th scope=col>&lt;chr&gt;</th><th scope=col>&lt;chr&gt;</th><th scope=col>&lt;dbl&gt;</th><th scope=col>&lt;chr&gt;</th><th scope=col>&lt;dbl&gt;</th><th scope=col>&lt;dbl&gt;</th><th scope=col>&lt;dbl&gt;</th><th scope=col>&lt;int&gt;</th><th scope=col>&lt;int&gt;</th></tr>\n",
       "</thead>\n",
       "<tbody>\n",
       "\t<tr><th scope=row>1</th><td>7</td><td>1979425</td><td>rs11770899:1979425:C:T</td><td>cg12073833</td><td>0.383123</td><td>T</td><td>0.000324</td><td>0.0113</td><td>0.00311</td><td>262990</td><td>257466</td></tr>\n",
       "\t<tr><th scope=row>2</th><td>7</td><td>2025040</td><td>rs4721282:2025040:A:G </td><td>cg12073833</td><td>0.371466</td><td>G</td><td>0.000533</td><td>0.0106</td><td>0.00307</td><td>262990</td><td>258825</td></tr>\n",
       "</tbody>\n",
       "</table>\n"
      ],
      "text/latex": [
       "A data.frame: 2 × 11\n",
       "\\begin{tabular}{r|lllllllllll}\n",
       "  & Chromosome & GRCh37.p13\\_position & SNP\\_ID & Gene & MAF & GSCAN\\_Effect\\_Allele & GSCAN\\_pvalue & GSCAN\\_Beta & GSCAN\\_SE & GSCAN\\_N & GSCAN\\_Effective\\_N\\\\\n",
       "  & <int> & <int> & <chr> & <chr> & <dbl> & <chr> & <dbl> & <dbl> & <dbl> & <int> & <int>\\\\\n",
       "\\hline\n",
       "\t1 & 7 & 1979425 & rs11770899:1979425:C:T & cg12073833 & 0.383123 & T & 0.000324 & 0.0113 & 0.00311 & 262990 & 257466\\\\\n",
       "\t2 & 7 & 2025040 & rs4721282:2025040:A:G  & cg12073833 & 0.371466 & G & 0.000533 & 0.0106 & 0.00307 & 262990 & 258825\\\\\n",
       "\\end{tabular}\n"
      ],
      "text/markdown": [
       "\n",
       "A data.frame: 2 × 11\n",
       "\n",
       "| <!--/--> | Chromosome &lt;int&gt; | GRCh37.p13_position &lt;int&gt; | SNP_ID &lt;chr&gt; | Gene &lt;chr&gt; | MAF &lt;dbl&gt; | GSCAN_Effect_Allele &lt;chr&gt; | GSCAN_pvalue &lt;dbl&gt; | GSCAN_Beta &lt;dbl&gt; | GSCAN_SE &lt;dbl&gt; | GSCAN_N &lt;int&gt; | GSCAN_Effective_N &lt;int&gt; |\n",
       "|---|---|---|---|---|---|---|---|---|---|---|---|\n",
       "| 1 | 7 | 1979425 | rs11770899:1979425:C:T | cg12073833 | 0.383123 | T | 0.000324 | 0.0113 | 0.00311 | 262990 | 257466 |\n",
       "| 2 | 7 | 2025040 | rs4721282:2025040:A:G  | cg12073833 | 0.371466 | G | 0.000533 | 0.0106 | 0.00307 | 262990 | 258825 |\n",
       "\n"
      ],
      "text/plain": [
       "  Chromosome GRCh37.p13_position SNP_ID                 Gene       MAF     \n",
       "1 7          1979425             rs11770899:1979425:C:T cg12073833 0.383123\n",
       "2 7          2025040             rs4721282:2025040:A:G  cg12073833 0.371466\n",
       "  GSCAN_Effect_Allele GSCAN_pvalue GSCAN_Beta GSCAN_SE GSCAN_N\n",
       "1 T                   0.000324     0.0113     0.00311  262990 \n",
       "2 G                   0.000533     0.0106     0.00307  262990 \n",
       "  GSCAN_Effective_N\n",
       "1 257466           \n",
       "2 258825           "
      ]
     },
     "metadata": {},
     "output_type": "display_data"
    },
    {
     "data": {
      "text/html": [
       "<table class=\"dataframe\">\n",
       "<caption>A data.frame: 2 × 11</caption>\n",
       "<thead>\n",
       "\t<tr><th></th><th scope=col>Chromosome</th><th scope=col>GRCh37.p13_position</th><th scope=col>SNP_ID</th><th scope=col>Gene</th><th scope=col>MAF</th><th scope=col>GSCAN_Effect_Allele</th><th scope=col>GSCAN_pvalue</th><th scope=col>GSCAN_Beta</th><th scope=col>GSCAN_SE</th><th scope=col>GSCAN_N</th><th scope=col>GSCAN_Effective_N</th></tr>\n",
       "\t<tr><th></th><th scope=col>&lt;int&gt;</th><th scope=col>&lt;int&gt;</th><th scope=col>&lt;chr&gt;</th><th scope=col>&lt;chr&gt;</th><th scope=col>&lt;dbl&gt;</th><th scope=col>&lt;chr&gt;</th><th scope=col>&lt;dbl&gt;</th><th scope=col>&lt;dbl&gt;</th><th scope=col>&lt;dbl&gt;</th><th scope=col>&lt;int&gt;</th><th scope=col>&lt;int&gt;</th></tr>\n",
       "</thead>\n",
       "<tbody>\n",
       "\t<tr><th scope=row>1</th><td>7</td><td>1979425</td><td>rs11770899:1979425:C:T</td><td>cg12073833</td><td>0.383123</td><td>T</td><td>0.000324</td><td>-0.0113</td><td>0.00311</td><td>262990</td><td>257466</td></tr>\n",
       "\t<tr><th scope=row>2</th><td>7</td><td>2025040</td><td>rs4721282:2025040:A:G </td><td>cg12073833</td><td>0.371466</td><td>G</td><td>0.000533</td><td>-0.0106</td><td>0.00307</td><td>262990</td><td>258825</td></tr>\n",
       "</tbody>\n",
       "</table>\n"
      ],
      "text/latex": [
       "A data.frame: 2 × 11\n",
       "\\begin{tabular}{r|lllllllllll}\n",
       "  & Chromosome & GRCh37.p13\\_position & SNP\\_ID & Gene & MAF & GSCAN\\_Effect\\_Allele & GSCAN\\_pvalue & GSCAN\\_Beta & GSCAN\\_SE & GSCAN\\_N & GSCAN\\_Effective\\_N\\\\\n",
       "  & <int> & <int> & <chr> & <chr> & <dbl> & <chr> & <dbl> & <dbl> & <dbl> & <int> & <int>\\\\\n",
       "\\hline\n",
       "\t1 & 7 & 1979425 & rs11770899:1979425:C:T & cg12073833 & 0.383123 & T & 0.000324 & -0.0113 & 0.00311 & 262990 & 257466\\\\\n",
       "\t2 & 7 & 2025040 & rs4721282:2025040:A:G  & cg12073833 & 0.371466 & G & 0.000533 & -0.0106 & 0.00307 & 262990 & 258825\\\\\n",
       "\\end{tabular}\n"
      ],
      "text/markdown": [
       "\n",
       "A data.frame: 2 × 11\n",
       "\n",
       "| <!--/--> | Chromosome &lt;int&gt; | GRCh37.p13_position &lt;int&gt; | SNP_ID &lt;chr&gt; | Gene &lt;chr&gt; | MAF &lt;dbl&gt; | GSCAN_Effect_Allele &lt;chr&gt; | GSCAN_pvalue &lt;dbl&gt; | GSCAN_Beta &lt;dbl&gt; | GSCAN_SE &lt;dbl&gt; | GSCAN_N &lt;int&gt; | GSCAN_Effective_N &lt;int&gt; |\n",
       "|---|---|---|---|---|---|---|---|---|---|---|---|\n",
       "| 1 | 7 | 1979425 | rs11770899:1979425:C:T | cg12073833 | 0.383123 | T | 0.000324 | -0.0113 | 0.00311 | 262990 | 257466 |\n",
       "| 2 | 7 | 2025040 | rs4721282:2025040:A:G  | cg12073833 | 0.371466 | G | 0.000533 | -0.0106 | 0.00307 | 262990 | 258825 |\n",
       "\n"
      ],
      "text/plain": [
       "  Chromosome GRCh37.p13_position SNP_ID                 Gene       MAF     \n",
       "1 7          1979425             rs11770899:1979425:C:T cg12073833 0.383123\n",
       "2 7          2025040             rs4721282:2025040:A:G  cg12073833 0.371466\n",
       "  GSCAN_Effect_Allele GSCAN_pvalue GSCAN_Beta GSCAN_SE GSCAN_N\n",
       "1 T                   0.000324     -0.0113    0.00311  262990 \n",
       "2 G                   0.000533     -0.0106    0.00307  262990 \n",
       "  GSCAN_Effective_N\n",
       "1 257466           \n",
       "2 258825           "
      ]
     },
     "metadata": {},
     "output_type": "display_data"
    },
    {
     "data": {
      "text/html": [
       "0.0269402510301528"
      ],
      "text/latex": [
       "0.0269402510301528"
      ],
      "text/markdown": [
       "0.0269402510301528"
      ],
      "text/plain": [
       "[1] 0.02694025"
      ]
     },
     "metadata": {},
     "output_type": "display_data"
    }
   ],
   "source": [
    "library(coloc)\n",
    "\n",
    "# read in input data\n",
    "qtls <- read.table(\"/home/ubuntu/rti-nd/coloc_review/mqtls/input_datasets/baseline/age_of_initiation/coloc_input_dataset1_locus_cpg12073833_baseline_with_qtl_maf.txt\", header=TRUE)\n",
    "head(qtls, 2)\n",
    "\n",
    "gscan <- read.table(\"/home/ubuntu/rti-nd/coloc_review/mqtls/input_datasets/baseline/age_of_initiation/coloc_input_dataset2_locus_cpg12073833_gscan_ai.txt\", header=TRUE)\n",
    "head(gscan, 2)\n",
    "\n",
    "meth <- read.table(\"/home/ubuntu/rti-nd/coloc_review/expression_file/mqtl_methylation_data/LIBD_NAc_MEGA_OMIC_full_matrixeQTL_input.txt\", header=TRUE)\n",
    "\n",
    "# flip GSCAN beta if the effect alleles don't match QTL effect alleles\n",
    "qtls$mQTL_Effect_Allele<-as.character(qtls$mQTL_Effect_Allele)\n",
    "gscan$GSCAN_Effect_Allele<-as.character(gscan$GSCAN_Effect_Allele)\n",
    "gscan$GSCAN_Beta<-as.numeric(gscan$GSCAN_Beta)\n",
    "for (i in 1:length(gscan$GSCAN_Beta)) {\n",
    "    if (qtls$mQTL_Effect_Allele[i] != gscan$GSCAN_Effect_Allele[i]) {\n",
    "        gscan$GSCAN_Beta[i] = -1 * gscan$GSCAN_Beta[i]\n",
    "    }\n",
    "}\n",
    "head(gscan, 2)\n",
    "\n",
    "meth <- meth[which(meth$cg_id==\"cg12073833\"),]\n",
    "meth_sd <- sd(meth[1,2:ncol(meth)])\n",
    "meth_sd"
   ]
  },
  {
   "cell_type": "markdown",
   "metadata": {},
   "source": [
    "### 001: non-filtered, beta/se, no stdev-methyl, qtl MAF"
   ]
  },
  {
   "cell_type": "code",
   "execution_count": 22,
   "metadata": {
    "vscode": {
     "languageId": "r"
    }
   },
   "outputs": [
    {
     "name": "stderr",
     "output_type": "stream",
     "text": [
      "Warning message in sdY.est(d$varbeta, d$MAF, d$N):\n",
      "“estimating sdY from maf and varbeta, please directly supply sdY if known”\n",
      "Warning message in sdY.est(d$varbeta, d$MAF, d$N):\n",
      "“estimating sdY from maf and varbeta, please directly supply sdY if known”\n"
     ]
    },
    {
     "name": "stdout",
     "output_type": "stream",
     "text": [
      "PP.H0.abf PP.H1.abf PP.H2.abf PP.H3.abf PP.H4.abf \n",
      " 1.57e-05  1.46e-02  4.99e-05  4.56e-02  9.40e-01 \n",
      "[1] \"PP abf for shared variant: 94%\"\n"
     ]
    }
   ],
   "source": [
    "# coloc using beta/se\n",
    "my.res1 <- coloc.abf(dataset1=list(beta=qtls$mQTL_Beta, \n",
    "                                   varbeta=(qtls$mQTL_SE)**2, \n",
    "                                   N=220, \n",
    "                                   type=\"quant\",\n",
    "                                   MAF=qtls$MEGA_MAF),\n",
    "                     dataset2=list(beta=gscan$GSCAN_Beta, \n",
    "                                   varbeta=(gscan$GSCAN_SE)**2, \n",
    "                                   N=gscan$GSCAN_Effective_N, \n",
    "                                   type=\"quant\",\n",
    "                                   MAF=gscan$MAF))\n"
   ]
  },
  {
   "cell_type": "markdown",
   "metadata": {},
   "source": [
    "### 002: non-filtered, p-value, no stdev-methyl, qtl MAF"
   ]
  },
  {
   "cell_type": "code",
   "execution_count": 29,
   "metadata": {
    "vscode": {
     "languageId": "r"
    }
   },
   "outputs": [
    {
     "name": "stdout",
     "output_type": "stream",
     "text": [
      "PP.H0.abf PP.H1.abf PP.H2.abf PP.H3.abf PP.H4.abf \n",
      " 0.000091  0.023500  0.000160  0.040200  0.936000 \n",
      "[1] \"PP abf for shared variant: 93.6%\"\n"
     ]
    }
   ],
   "source": [
    "# p-value, mqtl maf, no sdY\n",
    "my.res2 <- coloc.abf(dataset1=list(pvalues=qtls$mQTL_pvalue, \n",
    "                                   N=220, \n",
    "                                   type=\"quant\", \n",
    "                                   MAF=qtls$MEGA_MAF),\n",
    "                     dataset2=list(pvalues=gscan$GSCAN_pvalue,\n",
    "                                   N=gscan$GSCAN_Effective_N, \n",
    "                                   type=\"quant\"), \n",
    "                                   MAF=gscan$MAF)"
   ]
  },
  {
   "cell_type": "markdown",
   "metadata": {},
   "source": [
    "### 003: beta/se, with stdev-methyl, qtl MAF"
   ]
  },
  {
   "cell_type": "code",
   "execution_count": 28,
   "metadata": {
    "vscode": {
     "languageId": "r"
    }
   },
   "outputs": [
    {
     "name": "stderr",
     "output_type": "stream",
     "text": [
      "Warning message in sdY.est(d$varbeta, d$MAF, d$N):\n",
      "“estimating sdY from maf and varbeta, please directly supply sdY if known”\n"
     ]
    },
    {
     "name": "stdout",
     "output_type": "stream",
     "text": [
      "PP.H0.abf PP.H1.abf PP.H2.abf PP.H3.abf PP.H4.abf \n",
      "   0.1890    0.0351    0.6020    0.1120    0.0621 \n",
      "[1] \"PP abf for shared variant: 6.21%\"\n"
     ]
    }
   ],
   "source": [
    "# coloc using beta/se\n",
    "my.res3 <- coloc.abf(dataset1=list(beta=qtls$mQTL_Beta, \n",
    "                                   varbeta=(qtls$mQTL_SE)**2, \n",
    "                                   N=220, \n",
    "                                   type=\"quant\",\n",
    "                                   MAF=qtls$MEGA_MAF,\n",
    "                                   sdY=meth_sd),\n",
    "                     dataset2=list(beta=gscan$GSCAN_Beta, \n",
    "                                   varbeta=(gscan$GSCAN_SE)**2, \n",
    "                                   N=gscan$GSCAN_Effective_N, \n",
    "                                   type=\"quant\",\n",
    "                                   MAF=gscan$MAF))\n"
   ]
  },
  {
   "cell_type": "markdown",
   "metadata": {},
   "source": [
    "### 004: pvalue, with stdev-methyl, qtl MAF"
   ]
  },
  {
   "cell_type": "code",
   "execution_count": 25,
   "metadata": {
    "vscode": {
     "languageId": "r"
    }
   },
   "outputs": [
    {
     "name": "stdout",
     "output_type": "stream",
     "text": [
      "PP.H0.abf PP.H1.abf PP.H2.abf PP.H3.abf PP.H4.abf \n",
      " 0.000091  0.023500  0.000160  0.040200  0.936000 \n",
      "[1] \"PP abf for shared variant: 93.6%\"\n"
     ]
    }
   ],
   "source": [
    "# coloc using beta/se\n",
    "my.res4 <- coloc.abf(dataset1=list(pvalues=qtls$mQTL_pvalue, \n",
    "                                   N=220, \n",
    "                                   type=\"quant\",\n",
    "                                   MAF=qtls$MEGA_MAF,\n",
    "                                   sdY=meth_sd),\n",
    "                     dataset2=list(pvalues=gscan$GSCAN_pvalue, \n",
    "                                   N=gscan$GSCAN_Effective_N, \n",
    "                                   type=\"quant\",\n",
    "                                   MAF=gscan$MAF))"
   ]
  },
  {
   "cell_type": "markdown",
   "metadata": {},
   "source": [
    "# coloc 003\n",
    "Applying RINT function to methlylation data for sdY calculation."
   ]
  },
  {
   "cell_type": "code",
   "execution_count": 48,
   "metadata": {
    "vscode": {
     "languageId": "r"
    }
   },
   "outputs": [
    {
     "data": {
      "image/png": "[encoded data removed]",
      "text/plain": [
       "Plot with title “Histogram of meth B4 rint”"
      ]
     },
     "metadata": {
      "image/png": {
       "height": 420,
       "width": 420
      }
     },
     "output_type": "display_data"
    },
    {
     "data": {
      "text/html": [
       "<style>\n",
       ".list-inline {list-style: none; margin:0; padding: 0}\n",
       ".list-inline>li {display: inline-block}\n",
       ".list-inline>li:not(:last-child)::after {content: \"\\00b7\"; padding: 0 .5ex}\n",
       "</style>\n",
       "<ol class=list-inline><li>-0.247468774342615</li><li>-0.89988431473858</li><li>0.028488265166309</li><li>-0.428644689178854</li><li>-0.416187607396528</li><li>1.37806954235926</li></ol>\n"
      ],
      "text/latex": [
       "\\begin{enumerate*}\n",
       "\\item -0.247468774342615\n",
       "\\item -0.89988431473858\n",
       "\\item 0.028488265166309\n",
       "\\item -0.428644689178854\n",
       "\\item -0.416187607396528\n",
       "\\item 1.37806954235926\n",
       "\\end{enumerate*}\n"
      ],
      "text/markdown": [
       "1. -0.247468774342615\n",
       "2. -0.89988431473858\n",
       "3. 0.028488265166309\n",
       "4. -0.428644689178854\n",
       "5. -0.416187607396528\n",
       "6. 1.37806954235926\n",
       "\n",
       "\n"
      ],
      "text/plain": [
       "[1] -0.24746877 -0.89988431  0.02848827 -0.42864469 -0.41618761  1.37806954"
      ]
     },
     "metadata": {},
     "output_type": "display_data"
    },
    {
     "data": {
      "text/html": [
       "0.999355523800719"
      ],
      "text/latex": [
       "0.999355523800719"
      ],
      "text/markdown": [
       "0.999355523800719"
      ],
      "text/plain": [
       "[1] 0.9993555"
      ]
     },
     "metadata": {},
     "output_type": "display_data"
    },
    {
     "data": {
      "image/png": "[encoded data removed]",
      "text/plain": [
       "Plot with title “Histogram of meth AFTER rint”"
      ]
     },
     "metadata": {
      "image/png": {
       "height": 420,
       "width": 420
      }
     },
     "output_type": "display_data"
    }
   ],
   "source": [
    "library(coloc)\n",
    "\n",
    "# read in input data\n",
    "qtls <- read.table(\"/home/ubuntu/rti-nd/coloc_review/mqtls/input_datasets/baseline/age_of_initiation/coloc_input_dataset1_locus_cpg12073833_baseline.txt\", header=TRUE)\n",
    "#head(qtls, 2)\n",
    "\n",
    "gscan <- read.table(\"/home/ubuntu/rti-nd/coloc_review/mqtls/input_datasets/baseline/age_of_initiation/coloc_input_dataset2_locus_cpg12073833_gscan_ai.txt\", header=TRUE)\n",
    "#head(gscan, 2)\n",
    "\n",
    "meth <- read.table(\"/home/ubuntu/rti-nd/coloc_review/expression_file/mqtl_methylation_data/LIBD_NAc_MEGA_OMIC_full_matrixeQTL_input.txt\", header=TRUE)\n",
    "\n",
    "# flip GSCAN beta if the effect alleles don't match QTL effect alleles\n",
    "qtls$mQTL_Effect_Allele<-as.character(qtls$mQTL_Effect_Allele)\n",
    "gscan$GSCAN_Effect_Allele<-as.character(gscan$GSCAN_Effect_Allele)\n",
    "gscan$GSCAN_Beta<-as.numeric(gscan$GSCAN_Beta)\n",
    "for (i in 1:length(gscan$GSCAN_Beta)) {\n",
    "    if (qtls$mQTL_Effect_Allele[i] != gscan$GSCAN_Effect_Allele[i]) {\n",
    "        gscan$GSCAN_Beta[i] = -1 * gscan$GSCAN_Beta[i]\n",
    "    }\n",
    "}\n",
    "#head(gscan, 2)\n",
    "\n",
    "\n",
    "meth <- meth[which(meth$cg_id==\"cg12073833\"),]\n",
    "# Apply a rank inverse transform to a data vector\n",
    "# \n",
    "# Args:\n",
    "#   - data: A numeric vector.\n",
    "#\n",
    "# Returns: Rank inverse transformed values of the input vector.\n",
    "rint <- function(data){\n",
    "    if(! is.vector(data)){\n",
    "        stop(\"Error: Input data is not a vector.\")\n",
    "    }\n",
    "    zscore <- scale(data)\n",
    "    rankings <- rank(zscore) - 0.5\n",
    "    scaled.rank <- rankings / (max(rankings, na.rm = T) + 0.5)\n",
    "    rint.values <- qnorm(scaled.rank)\n",
    "    return(rint.values)\n",
    "}\n",
    "\n",
    "meth <- as.numeric(meth[1,2:ncol(meth)])\n",
    "hist(meth, main=\"Histogram of meth B4 rint\")\n",
    "meth <- rint(meth)\n",
    "hist(meth, main=\"Histogram of meth AFTER rint\")\n",
    "head(meth)\n",
    "meth_sd <- sd(meth)\n",
    "meth_sd # 0.999355523800719"
   ]
  },
  {
   "cell_type": "markdown",
   "metadata": {},
   "source": [
    "## 001: non-filtered, beta/se, no stdev-methyl "
   ]
  },
  {
   "cell_type": "code",
   "execution_count": 49,
   "metadata": {
    "vscode": {
     "languageId": "r"
    }
   },
   "outputs": [
    {
     "name": "stderr",
     "output_type": "stream",
     "text": [
      "Warning message in sdY.est(d$varbeta, d$MAF, d$N):\n",
      "“estimating sdY from maf and varbeta, please directly supply sdY if known”\n",
      "Warning message in sdY.est(d$varbeta, d$MAF, d$N):\n",
      "“estimating sdY from maf and varbeta, please directly supply sdY if known”\n"
     ]
    },
    {
     "name": "stdout",
     "output_type": "stream",
     "text": [
      "PP.H0.abf PP.H1.abf PP.H2.abf PP.H3.abf PP.H4.abf \n",
      " 1.48e-05  1.46e-02  4.71e-05  4.57e-02  9.40e-01 \n",
      "[1] \"PP abf for shared variant: 94%\"\n"
     ]
    }
   ],
   "source": [
    "# coloc using beta/se\n",
    "my.res1 <- coloc.abf(dataset1=list(beta=qtls$mQTL_Beta, \n",
    "                                   varbeta=(qtls$mQTL_SE)**2, \n",
    "                                   N=220, \n",
    "                                   type=\"quant\"),\n",
    "                     dataset2=list(beta=gscan$GSCAN_Beta, \n",
    "                                   varbeta=(gscan$GSCAN_SE)**2, N=gscan$GSCAN_Effective_N, \n",
    "                                   type=\"quant\"),\n",
    "                    MAF=gscan$MAF)"
   ]
  },
  {
   "cell_type": "markdown",
   "metadata": {},
   "source": [
    "## 002: non-filtered, p-value, no stdev-methyl "
   ]
  },
  {
   "cell_type": "code",
   "execution_count": 50,
   "metadata": {
    "vscode": {
     "languageId": "r"
    }
   },
   "outputs": [
    {
     "name": "stdout",
     "output_type": "stream",
     "text": [
      "PP.H0.abf PP.H1.abf PP.H2.abf PP.H3.abf PP.H4.abf \n",
      " 9.63e-05  3.00e-02  1.69e-04  5.16e-02  9.18e-01 \n",
      "[1] \"PP abf for shared variant: 91.8%\"\n"
     ]
    }
   ],
   "source": [
    "# perform coloc with p-values\n",
    "my.res2 <- coloc.abf(dataset1=list(pvalues=qtls$mQTL_pvalue, \n",
    "                                   N=220, \n",
    "                                   type=\"quant\"),\n",
    "                     dataset2=list(pvalues=gscan$GSCAN_pvalue,\n",
    "                                   N=gscan$GSCAN_Effective_N, \n",
    "                                   type=\"quant\"), \n",
    "                    MAF=gscan$MAF)"
   ]
  },
  {
   "cell_type": "markdown",
   "metadata": {},
   "source": [
    "## 003: non-filtered, beta/se, WITH stdev-methyl "
   ]
  },
  {
   "cell_type": "code",
   "execution_count": 51,
   "metadata": {
    "vscode": {
     "languageId": "r"
    }
   },
   "outputs": [
    {
     "name": "stderr",
     "output_type": "stream",
     "text": [
      "Warning message in sdY.est(d$varbeta, d$MAF, d$N):\n",
      "“estimating sdY from maf and varbeta, please directly supply sdY if known”\n"
     ]
    },
    {
     "name": "stdout",
     "output_type": "stream",
     "text": [
      "PP.H0.abf PP.H1.abf PP.H2.abf PP.H3.abf PP.H4.abf \n",
      " 1.16e-05  1.47e-02  3.68e-05  4.61e-02  9.39e-01 \n",
      "[1] \"PP abf for shared variant: 93.9%\"\n"
     ]
    }
   ],
   "source": [
    "# coloc using beta/se with meth_sd\n",
    "my.res3 <- coloc.abf(dataset1=list(beta=qtls$mQTL_Beta, \n",
    "                                   varbeta=(qtls$mQTL_SE)**2, \n",
    "                                   N=220, \n",
    "                                   type=\"quant\", \n",
    "                                   sdY=meth_sd),\n",
    "                     dataset2=list(beta=gscan$GSCAN_Beta, \n",
    "                                   varbeta=(gscan$GSCAN_SE)**2,\n",
    "                                   N=gscan$GSCAN_Effective_N, \n",
    "                                   type=\"quant\", \n",
    "                                   MAF=gscan$MAF))"
   ]
  },
  {
   "cell_type": "markdown",
   "metadata": {},
   "source": [
    "## 004: non-filtered, p-value, with stdev-methyl "
   ]
  },
  {
   "cell_type": "code",
   "execution_count": 54,
   "metadata": {
    "vscode": {
     "languageId": "r"
    }
   },
   "outputs": [
    {
     "name": "stdout",
     "output_type": "stream",
     "text": [
      "PP.H0.abf PP.H1.abf PP.H2.abf PP.H3.abf PP.H4.abf \n",
      " 9.63e-05  3.00e-02  1.69e-04  5.16e-02  9.18e-01 \n",
      "[1] \"PP abf for shared variant: 91.8%\"\n"
     ]
    }
   ],
   "source": [
    "# p-value using standard deviation of methylation data as estimate of sdY for mqtls and using maf for gscan\n",
    "my.res4 <- coloc.abf(dataset1=list(pvalues=qtls$mQTL_pvalue, \n",
    "                                   N=220, \n",
    "                                   type=\"quant\", \n",
    "                                   sdY=meth_sd),\n",
    "                     dataset2=list(pvalues=gscan$GSCAN_pvalue,\n",
    "                                   N=gscan$GSCAN_Effective_N, \n",
    "                                   type=\"quant\"), \n",
    "                    MAF=gscan$MAF)\n"
   ]
  },
  {
   "cell_type": "code",
   "execution_count": null,
   "metadata": {
    "vscode": {
     "languageId": "r"
    }
   },
   "outputs": [
    {
     "name": "stderr",
     "output_type": "stream",
     "text": [
      "Warning message in sdY.est(vbeta = (qtls$mQTL_SE)^2, maf = gscan$MAF, n = 220):\n",
      "“estimating sdY from maf and varbeta, please directly supply sdY if known”\n"
     ]
    }
   ],
   "source": [
    "sdY.est <- function(vbeta, maf, n) {\n",
    "    warning(\"estimating sdY from maf and varbeta, please directly supply sdY if known\")\n",
    "    oneover <- 1/vbeta\n",
    "    nvx <- 2 * n * maf * (1-maf)\n",
    "    m <- lm(nvx ~ oneover - 1)\n",
    "    cf <- coef(m)[['oneover']]\n",
    "    if(cf < 0)\n",
    "        stop(\"estimated sdY is negative - this can happen with small datasets, or those with errors.  A reasonable estimate of sdY is required to continue.\")\n",
    "    return(sqrt(cf))\n",
    "}\n",
    "\n",
    "meth_sd2 <- sdY.est(vbeta=(qtls$mQTL_SE)**2, maf=gscan$MAF, n=220) # 0.961596439610978"
   ]
  }
 ],
 "metadata": {
  "kernelspec": {
   "display_name": "R",
   "language": "R",
   "name": "ir"
  },
  "language_info": {
   "codemirror_mode": "r",
   "file_extension": ".r",
   "mimetype": "text/x-r-source",
   "name": "R",
   "pygments_lexer": "r",
   "version": "4.2.1"
  },
  "orig_nbformat": 4,
  "vscode": {
   "interpreter": {
    "hash": "7a2c4b191d1ae843dde5cb5f4d1f62fa892f6b79b0f9392a84691e890e33c5a4"
   }
  }
 },
 "nbformat": 4,
 "nbformat_minor": 2
}
