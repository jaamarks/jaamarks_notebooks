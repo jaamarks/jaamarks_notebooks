{
 "cells": [
  {
   "cell_type": "code",
   "execution_count": 1,
   "metadata": {},
   "outputs": [],
   "source": [
    "dat <- read.csv(\"/share/storage/FTND/UKBiobank/observed/phenotype/ukb23019.csv\", stringsAsFactors = FALSE)"
   ]
  },
  {
   "cell_type": "markdown",
   "metadata": {},
   "source": [
    "# Heaviness of Smoking Index (HSI)\n",
    "\n",
    "## 1. On the days that you smoke, how soon after you wake up do you have your first cigarette?\n",
    " - A. Within 5 minutes (3 points)\n",
    " - B. 6- 30 minutes (2 points)\n",
    " - C. 31-60 minutes (1 point)\n",
    " - D. After 60 minutes (0 points)\n",
    "\n",
    "## 2. How many cigarettes do you typically smoke per day?\n",
    " - A. 10 or fewer (0 points)\n",
    " - B. 11-20 (1 point)\n",
    " - C. 21-30 (2 points)\n",
    " - D. 31 or more (3 points)\n",
    "\n",
    "## SCORING:\n",
    " - 0-2: low addiction\n",
    " - 3-4: moderate addiction\n",
    " - 5-6: high addiction\n"
   ]
  },
  {
   "cell_type": "markdown",
   "metadata": {},
   "source": [
    "## how soon after wake up to first cigarette\n",
    " - 1 Less than 5 minutes\n",
    " - 2   Between 5-15 minutes\n",
    " - 3   Between 30 minutes - 1 hour\n",
    " - 4   Between 1 and 2 hours\n",
    " - 5   Longer than 2 hours\n",
    " - -1  Do not know\n",
    " - -3  Prefer not to answer"
   ]
  },
  {
   "cell_type": "code",
   "execution_count": 2,
   "metadata": {},
   "outputs": [],
   "source": [
    "dat$score.time <- NA\n",
    "dat$score.time[dat$X3466.0.0 == 1] <- 3\n",
    "dat$score.time[dat$X3466.0.0 == 2] <- 2\n",
    "dat$score.time[dat$X3466.0.0 == 3] <- 1\n",
    "dat$score.time[dat$X3466.0.0 %in% c(4,5)] <- 0\n"
   ]
  },
  {
   "cell_type": "markdown",
   "metadata": {},
   "source": [
    "## Number of cigarettes currently smoked daily (current cigarette smokers)\n",
    " - -10   Less than one a day\n",
    " - -1  Do not know\n",
    " - -3  Prefer not to answer\n"
   ]
  },
  {
   "cell_type": "code",
   "execution_count": 3,
   "metadata": {},
   "outputs": [],
   "source": [
    "dat$score.cpd <- NA\n",
    "dat$score.cpd[dat$X3456.0.0 == -10 | ( dat$X3456.0.0 > 0 & dat$X3456.0.0 <= 10)] <- 0\n",
    "dat$score.cpd[dat$X3456.0.0 > 10 & dat$X3456.0.0 <= 20] <- 1\n",
    "dat$score.cpd[dat$X3456.0.0 > 20 & dat$X3456.0.0 <= 30] <- 2\n",
    "dat$score.cpd[dat$X3456.0.0 > 30 ] <- 3\n"
   ]
  },
  {
   "cell_type": "code",
   "execution_count": 4,
   "metadata": {},
   "outputs": [],
   "source": [
    "dat$heaviness <- dat$score.time + dat$score.cpd"
   ]
  },
  {
   "cell_type": "markdown",
   "metadata": {},
   "source": [
    "# Kinship"
   ]
  },
  {
   "cell_type": "markdown",
   "metadata": {},
   "source": [
    "kinship coefficient range >0.354, [0.177, 0.354], [0.0884, 0.177] and [0.0442, 0.0884] corresponds to duplicate/MZ twin, 1st-degree, 2nd-degree, and 3rd-degree relationships respectively"
   ]
  },
  {
   "cell_type": "code",
   "execution_count": 5,
   "metadata": {},
   "outputs": [],
   "source": [
    "related <- read.table(\"/share/storage/FTND/UKBiobank/observed/rel/ukb24603_rel_s488295.dat\", head = TRUE, stringsAsFactors = FALSE)"
   ]
  },
  {
   "cell_type": "code",
   "execution_count": 6,
   "metadata": {},
   "outputs": [
    {
     "data": {
      "text/html": [
       "<table>\n",
       "<thead><tr><th scope=col>ID1</th><th scope=col>ID2</th><th scope=col>HetHet</th><th scope=col>IBS0</th><th scope=col>Kinship</th></tr></thead>\n",
       "<tbody>\n",
       "\t<tr><td>1000031</td><td>3813341</td><td>0.067  </td><td>0.0002 </td><td>0.2451 </td></tr>\n",
       "\t<tr><td>1000237</td><td>1231015</td><td>0.045  </td><td>0.0143 </td><td>0.0595 </td></tr>\n",
       "\t<tr><td>1000251</td><td>5910072</td><td>0.046  </td><td>0.0141 </td><td>0.0677 </td></tr>\n",
       "\t<tr><td>1000262</td><td>5259319</td><td>0.076  </td><td>0.0051 </td><td>0.2465 </td></tr>\n",
       "\t<tr><td>1000286</td><td>5319336</td><td>0.050  </td><td>0.0098 </td><td>0.1165 </td></tr>\n",
       "\t<tr><td>1000295</td><td>5338158</td><td>0.045  </td><td>0.0151 </td><td>0.0569 </td></tr>\n",
       "</tbody>\n",
       "</table>\n"
      ],
      "text/latex": [
       "\\begin{tabular}{r|lllll}\n",
       " ID1 & ID2 & HetHet & IBS0 & Kinship\\\\\n",
       "\\hline\n",
       "\t 1000031 & 3813341 & 0.067   & 0.0002  & 0.2451 \\\\\n",
       "\t 1000237 & 1231015 & 0.045   & 0.0143  & 0.0595 \\\\\n",
       "\t 1000251 & 5910072 & 0.046   & 0.0141  & 0.0677 \\\\\n",
       "\t 1000262 & 5259319 & 0.076   & 0.0051  & 0.2465 \\\\\n",
       "\t 1000286 & 5319336 & 0.050   & 0.0098  & 0.1165 \\\\\n",
       "\t 1000295 & 5338158 & 0.045   & 0.0151  & 0.0569 \\\\\n",
       "\\end{tabular}\n"
      ],
      "text/markdown": [
       "\n",
       "| ID1 | ID2 | HetHet | IBS0 | Kinship |\n",
       "|---|---|---|---|---|\n",
       "| 1000031 | 3813341 | 0.067   | 0.0002  | 0.2451  |\n",
       "| 1000237 | 1231015 | 0.045   | 0.0143  | 0.0595  |\n",
       "| 1000251 | 5910072 | 0.046   | 0.0141  | 0.0677  |\n",
       "| 1000262 | 5259319 | 0.076   | 0.0051  | 0.2465  |\n",
       "| 1000286 | 5319336 | 0.050   | 0.0098  | 0.1165  |\n",
       "| 1000295 | 5338158 | 0.045   | 0.0151  | 0.0569  |\n",
       "\n"
      ],
      "text/plain": [
       "  ID1     ID2     HetHet IBS0   Kinship\n",
       "1 1000031 3813341 0.067  0.0002 0.2451 \n",
       "2 1000237 1231015 0.045  0.0143 0.0595 \n",
       "3 1000251 5910072 0.046  0.0141 0.0677 \n",
       "4 1000262 5259319 0.076  0.0051 0.2465 \n",
       "5 1000286 5319336 0.050  0.0098 0.1165 \n",
       "6 1000295 5338158 0.045  0.0151 0.0569 "
      ]
     },
     "metadata": {},
     "output_type": "display_data"
    }
   ],
   "source": [
    "head(related)"
   ]
  },
  {
   "cell_type": "code",
   "execution_count": 7,
   "metadata": {},
   "outputs": [],
   "source": [
    "has.hsi <- dat$eid[ !is.na(dat$heaviness) ]"
   ]
  },
  {
   "cell_type": "code",
   "execution_count": 8,
   "metadata": {},
   "outputs": [
    {
     "data": {
      "text/html": [
       "35564"
      ],
      "text/latex": [
       "35564"
      ],
      "text/markdown": [
       "35564"
      ],
      "text/plain": [
       "[1] 35564"
      ]
     },
     "metadata": {},
     "output_type": "display_data"
    }
   ],
   "source": [
    "length(has.hsi)"
   ]
  },
  {
   "cell_type": "code",
   "execution_count": 9,
   "metadata": {},
   "outputs": [
    {
     "data": {
      "text/html": [
       "<ol class=list-inline>\n",
       "\t<li>930</li>\n",
       "\t<li>5</li>\n",
       "</ol>\n"
      ],
      "text/latex": [
       "\\begin{enumerate*}\n",
       "\\item 930\n",
       "\\item 5\n",
       "\\end{enumerate*}\n"
      ],
      "text/markdown": [
       "1. 930\n",
       "2. 5\n",
       "\n",
       "\n"
      ],
      "text/plain": [
       "[1] 930   5"
      ]
     },
     "metadata": {},
     "output_type": "display_data"
    }
   ],
   "source": [
    "related.hsi <- related[ (related$ID1 %in% has.hsi) & (related$ID2 %in% has.hsi), ]\n",
    "dim(related.hsi)"
   ]
  },
  {
   "cell_type": "markdown",
   "metadata": {},
   "source": [
    "### Degrees"
   ]
  },
  {
   "cell_type": "code",
   "execution_count": 10,
   "metadata": {},
   "outputs": [
    {
     "data": {
      "text/plain": [
       "\n",
       "   1    2    3    4    6    7    8 \n",
       "1622   82   15    2    1    1    1 "
      ]
     },
     "metadata": {},
     "output_type": "display_data"
    }
   ],
   "source": [
    "# degree\n",
    "table(table(c(related.hsi$ID1, related.hsi$ID2)))"
   ]
  },
  {
   "cell_type": "markdown",
   "metadata": {},
   "source": [
    "### Remove one with 8 relatives"
   ]
  },
  {
   "cell_type": "code",
   "execution_count": 11,
   "metadata": {},
   "outputs": [
    {
     "data": {
      "text/html": [
       "'4910503'"
      ],
      "text/latex": [
       "'4910503'"
      ],
      "text/markdown": [
       "'4910503'"
      ],
      "text/plain": [
       "[1] \"4910503\""
      ]
     },
     "metadata": {},
     "output_type": "display_data"
    }
   ],
   "source": [
    "remove.list <- c()\n",
    "# Remove degree = 8\n",
    "remove.list <- c(remove.list, names(table(c(related.hsi$ID1, related.hsi$ID2))[which(table(c(related.hsi$ID1, related.hsi$ID2)) == 8)]))\n",
    "remove.list"
   ]
  },
  {
   "cell_type": "code",
   "execution_count": 12,
   "metadata": {},
   "outputs": [
    {
     "data": {
      "text/plain": [
       "\n",
       "   1    2    3    5    7 \n",
       "1620   85   14    1    1 "
      ]
     },
     "metadata": {},
     "output_type": "display_data"
    }
   ],
   "source": [
    "# exclude individual\n",
    "related.hsi <- related.hsi[ (! related.hsi$ID1 %in% remove.list) & (! related.hsi$ID2 %in% remove.list), ]\n",
    "# degree\n",
    "table(table(c(related.hsi$ID1, related.hsi$ID2)))"
   ]
  },
  {
   "cell_type": "markdown",
   "metadata": {},
   "source": [
    "### Remove one with 7 relatives"
   ]
  },
  {
   "cell_type": "code",
   "execution_count": 13,
   "metadata": {},
   "outputs": [
    {
     "data": {
      "text/html": [
       "<ol class=list-inline>\n",
       "\t<li>'4910503'</li>\n",
       "\t<li>'4820463'</li>\n",
       "</ol>\n"
      ],
      "text/latex": [
       "\\begin{enumerate*}\n",
       "\\item '4910503'\n",
       "\\item '4820463'\n",
       "\\end{enumerate*}\n"
      ],
      "text/markdown": [
       "1. '4910503'\n",
       "2. '4820463'\n",
       "\n",
       "\n"
      ],
      "text/plain": [
       "[1] \"4910503\" \"4820463\""
      ]
     },
     "metadata": {},
     "output_type": "display_data"
    },
    {
     "data": {
      "text/plain": [
       "\n",
       "   1    2    3    5 \n",
       "1613   85   14    1 "
      ]
     },
     "metadata": {},
     "output_type": "display_data"
    }
   ],
   "source": [
    "# Remove degree = 7\n",
    "remove.list <- c(remove.list, names(table(c(related.hsi$ID1, related.hsi$ID2))[which(table(c(related.hsi$ID1, related.hsi$ID2)) == 7)]))\n",
    "remove.list\n",
    "# exclude individual\n",
    "related.hsi <- related.hsi[ (! related.hsi$ID1 %in% remove.list) & (! related.hsi$ID2 %in% remove.list), ]\n",
    "# degree\n",
    "table(table(c(related.hsi$ID1, related.hsi$ID2)))"
   ]
  },
  {
   "cell_type": "markdown",
   "metadata": {},
   "source": [
    "### Remove one with 5 relatives"
   ]
  },
  {
   "cell_type": "code",
   "execution_count": 14,
   "metadata": {},
   "outputs": [
    {
     "data": {
      "text/html": [
       "<ol class=list-inline>\n",
       "\t<li>'4910503'</li>\n",
       "\t<li>'4820463'</li>\n",
       "\t<li>'1967456'</li>\n",
       "</ol>\n"
      ],
      "text/latex": [
       "\\begin{enumerate*}\n",
       "\\item '4910503'\n",
       "\\item '4820463'\n",
       "\\item '1967456'\n",
       "\\end{enumerate*}\n"
      ],
      "text/markdown": [
       "1. '4910503'\n",
       "2. '4820463'\n",
       "3. '1967456'\n",
       "\n",
       "\n"
      ],
      "text/plain": [
       "[1] \"4910503\" \"4820463\" \"1967456\""
      ]
     },
     "metadata": {},
     "output_type": "display_data"
    },
    {
     "data": {
      "text/plain": [
       "\n",
       "   1    2    3 \n",
       "1614   85   12 "
      ]
     },
     "metadata": {},
     "output_type": "display_data"
    }
   ],
   "source": [
    "# Remove degree = 5\n",
    "remove.list <- c(remove.list, names(table(c(related.hsi$ID1, related.hsi$ID2))[which(table(c(related.hsi$ID1, related.hsi$ID2)) == 5)]))\n",
    "remove.list\n",
    "# exclude individual\n",
    "related.hsi <- related.hsi[ (! related.hsi$ID1 %in% remove.list) & (! related.hsi$ID2 %in% remove.list), ]\n",
    "# degree\n",
    "table(table(c(related.hsi$ID1, related.hsi$ID2)))"
   ]
  },
  {
   "cell_type": "markdown",
   "metadata": {},
   "source": [
    "### Remove ones with 3 relatives\n",
    "Turns out to be three families of 4 people each"
   ]
  },
  {
   "cell_type": "code",
   "execution_count": 15,
   "metadata": {},
   "outputs": [
    {
     "data": {
      "text/html": [
       "<table>\n",
       "<thead><tr><th></th><th scope=col>ID1</th><th scope=col>ID2</th><th scope=col>HetHet</th><th scope=col>IBS0</th><th scope=col>Kinship</th><th scope=col>ID1.hsi</th><th scope=col>ID2.hsi</th></tr></thead>\n",
       "<tbody>\n",
       "\t<tr><th scope=row>18716</th><td>1872767</td><td>3945318</td><td>0.048  </td><td>0.0128 </td><td>0.0822 </td><td>2      </td><td>0      </td></tr>\n",
       "\t<tr><th scope=row>18717</th><td>1872767</td><td>4490044</td><td>0.071  </td><td>0.0053 </td><td>0.2260 </td><td>2      </td><td>2      </td></tr>\n",
       "\t<tr><th scope=row>18718</th><td>1872767</td><td>5849383</td><td>0.046  </td><td>0.0147 </td><td>0.0576 </td><td>2      </td><td>3      </td></tr>\n",
       "\t<tr><th scope=row>51668</th><td>3428259</td><td>6024683</td><td>0.078  </td><td>0.0040 </td><td>0.2638 </td><td>0      </td><td>1      </td></tr>\n",
       "\t<tr><th scope=row>52469</th><td>3465351</td><td>3603014</td><td>0.080  </td><td>0.0047 </td><td>0.2661 </td><td>2      </td><td>4      </td></tr>\n",
       "\t<tr><th scope=row>52471</th><td>3465351</td><td>5110221</td><td>0.079  </td><td>0.0055 </td><td>0.2573 </td><td>2      </td><td>3      </td></tr>\n",
       "\t<tr><th scope=row>53452</th><td>3509789</td><td>3465351</td><td>0.078  </td><td>0.0052 </td><td>0.2514 </td><td>0      </td><td>2      </td></tr>\n",
       "\t<tr><th scope=row>53453</th><td>3509789</td><td>3603014</td><td>0.076  </td><td>0.0045 </td><td>0.2526 </td><td>0      </td><td>4      </td></tr>\n",
       "\t<tr><th scope=row>53455</th><td>3509789</td><td>5110221</td><td>0.074  </td><td>0.0038 </td><td>0.2505 </td><td>0      </td><td>3      </td></tr>\n",
       "\t<tr><th scope=row>59678</th><td>3807272</td><td>3428259</td><td>0.079  </td><td>0.0049 </td><td>0.2590 </td><td>5      </td><td>0      </td></tr>\n",
       "\t<tr><th scope=row>59679</th><td>3807272</td><td>6024683</td><td>0.072  </td><td>0.0047 </td><td>0.2337 </td><td>5      </td><td>1      </td></tr>\n",
       "\t<tr><th scope=row>62599</th><td>3945318</td><td>4490044</td><td>0.047  </td><td>0.0139 </td><td>0.0707 </td><td>0      </td><td>2      </td></tr>\n",
       "\t<tr><th scope=row>62600</th><td>3945318</td><td>5849383</td><td>0.049  </td><td>0.0127 </td><td>0.0860 </td><td>0      </td><td>3      </td></tr>\n",
       "\t<tr><th scope=row>73908</th><td>4490044</td><td>5849383</td><td>0.045  </td><td>0.0149 </td><td>0.0544 </td><td>2      </td><td>3      </td></tr>\n",
       "\t<tr><th scope=row>87427</th><td>5110221</td><td>3603014</td><td>0.080  </td><td>0.0046 </td><td>0.2685 </td><td>3      </td><td>4      </td></tr>\n",
       "\t<tr><th scope=row>93368</th><td>5389420</td><td>3428259</td><td>0.046  </td><td>0.0134 </td><td>0.0713 </td><td>1      </td><td>0      </td></tr>\n",
       "\t<tr><th scope=row>93369</th><td>5389420</td><td>3807272</td><td>0.046  </td><td>0.0128 </td><td>0.0737 </td><td>1      </td><td>5      </td></tr>\n",
       "\t<tr><th scope=row>93370</th><td>5389420</td><td>6024683</td><td>0.045  </td><td>0.0132 </td><td>0.0696 </td><td>1      </td><td>1      </td></tr>\n",
       "</tbody>\n",
       "</table>\n"
      ],
      "text/latex": [
       "\\begin{tabular}{r|lllllll}\n",
       "  & ID1 & ID2 & HetHet & IBS0 & Kinship & ID1.hsi & ID2.hsi\\\\\n",
       "\\hline\n",
       "\t18716 & 1872767 & 3945318 & 0.048   & 0.0128  & 0.0822  & 2       & 0      \\\\\n",
       "\t18717 & 1872767 & 4490044 & 0.071   & 0.0053  & 0.2260  & 2       & 2      \\\\\n",
       "\t18718 & 1872767 & 5849383 & 0.046   & 0.0147  & 0.0576  & 2       & 3      \\\\\n",
       "\t51668 & 3428259 & 6024683 & 0.078   & 0.0040  & 0.2638  & 0       & 1      \\\\\n",
       "\t52469 & 3465351 & 3603014 & 0.080   & 0.0047  & 0.2661  & 2       & 4      \\\\\n",
       "\t52471 & 3465351 & 5110221 & 0.079   & 0.0055  & 0.2573  & 2       & 3      \\\\\n",
       "\t53452 & 3509789 & 3465351 & 0.078   & 0.0052  & 0.2514  & 0       & 2      \\\\\n",
       "\t53453 & 3509789 & 3603014 & 0.076   & 0.0045  & 0.2526  & 0       & 4      \\\\\n",
       "\t53455 & 3509789 & 5110221 & 0.074   & 0.0038  & 0.2505  & 0       & 3      \\\\\n",
       "\t59678 & 3807272 & 3428259 & 0.079   & 0.0049  & 0.2590  & 5       & 0      \\\\\n",
       "\t59679 & 3807272 & 6024683 & 0.072   & 0.0047  & 0.2337  & 5       & 1      \\\\\n",
       "\t62599 & 3945318 & 4490044 & 0.047   & 0.0139  & 0.0707  & 0       & 2      \\\\\n",
       "\t62600 & 3945318 & 5849383 & 0.049   & 0.0127  & 0.0860  & 0       & 3      \\\\\n",
       "\t73908 & 4490044 & 5849383 & 0.045   & 0.0149  & 0.0544  & 2       & 3      \\\\\n",
       "\t87427 & 5110221 & 3603014 & 0.080   & 0.0046  & 0.2685  & 3       & 4      \\\\\n",
       "\t93368 & 5389420 & 3428259 & 0.046   & 0.0134  & 0.0713  & 1       & 0      \\\\\n",
       "\t93369 & 5389420 & 3807272 & 0.046   & 0.0128  & 0.0737  & 1       & 5      \\\\\n",
       "\t93370 & 5389420 & 6024683 & 0.045   & 0.0132  & 0.0696  & 1       & 1      \\\\\n",
       "\\end{tabular}\n"
      ],
      "text/markdown": [
       "\n",
       "| <!--/--> | ID1 | ID2 | HetHet | IBS0 | Kinship | ID1.hsi | ID2.hsi |\n",
       "|---|---|---|---|---|---|---|---|\n",
       "| 18716 | 1872767 | 3945318 | 0.048   | 0.0128  | 0.0822  | 2       | 0       |\n",
       "| 18717 | 1872767 | 4490044 | 0.071   | 0.0053  | 0.2260  | 2       | 2       |\n",
       "| 18718 | 1872767 | 5849383 | 0.046   | 0.0147  | 0.0576  | 2       | 3       |\n",
       "| 51668 | 3428259 | 6024683 | 0.078   | 0.0040  | 0.2638  | 0       | 1       |\n",
       "| 52469 | 3465351 | 3603014 | 0.080   | 0.0047  | 0.2661  | 2       | 4       |\n",
       "| 52471 | 3465351 | 5110221 | 0.079   | 0.0055  | 0.2573  | 2       | 3       |\n",
       "| 53452 | 3509789 | 3465351 | 0.078   | 0.0052  | 0.2514  | 0       | 2       |\n",
       "| 53453 | 3509789 | 3603014 | 0.076   | 0.0045  | 0.2526  | 0       | 4       |\n",
       "| 53455 | 3509789 | 5110221 | 0.074   | 0.0038  | 0.2505  | 0       | 3       |\n",
       "| 59678 | 3807272 | 3428259 | 0.079   | 0.0049  | 0.2590  | 5       | 0       |\n",
       "| 59679 | 3807272 | 6024683 | 0.072   | 0.0047  | 0.2337  | 5       | 1       |\n",
       "| 62599 | 3945318 | 4490044 | 0.047   | 0.0139  | 0.0707  | 0       | 2       |\n",
       "| 62600 | 3945318 | 5849383 | 0.049   | 0.0127  | 0.0860  | 0       | 3       |\n",
       "| 73908 | 4490044 | 5849383 | 0.045   | 0.0149  | 0.0544  | 2       | 3       |\n",
       "| 87427 | 5110221 | 3603014 | 0.080   | 0.0046  | 0.2685  | 3       | 4       |\n",
       "| 93368 | 5389420 | 3428259 | 0.046   | 0.0134  | 0.0713  | 1       | 0       |\n",
       "| 93369 | 5389420 | 3807272 | 0.046   | 0.0128  | 0.0737  | 1       | 5       |\n",
       "| 93370 | 5389420 | 6024683 | 0.045   | 0.0132  | 0.0696  | 1       | 1       |\n",
       "\n"
      ],
      "text/plain": [
       "      ID1     ID2     HetHet IBS0   Kinship ID1.hsi ID2.hsi\n",
       "18716 1872767 3945318 0.048  0.0128 0.0822  2       0      \n",
       "18717 1872767 4490044 0.071  0.0053 0.2260  2       2      \n",
       "18718 1872767 5849383 0.046  0.0147 0.0576  2       3      \n",
       "51668 3428259 6024683 0.078  0.0040 0.2638  0       1      \n",
       "52469 3465351 3603014 0.080  0.0047 0.2661  2       4      \n",
       "52471 3465351 5110221 0.079  0.0055 0.2573  2       3      \n",
       "53452 3509789 3465351 0.078  0.0052 0.2514  0       2      \n",
       "53453 3509789 3603014 0.076  0.0045 0.2526  0       4      \n",
       "53455 3509789 5110221 0.074  0.0038 0.2505  0       3      \n",
       "59678 3807272 3428259 0.079  0.0049 0.2590  5       0      \n",
       "59679 3807272 6024683 0.072  0.0047 0.2337  5       1      \n",
       "62599 3945318 4490044 0.047  0.0139 0.0707  0       2      \n",
       "62600 3945318 5849383 0.049  0.0127 0.0860  0       3      \n",
       "73908 4490044 5849383 0.045  0.0149 0.0544  2       3      \n",
       "87427 5110221 3603014 0.080  0.0046 0.2685  3       4      \n",
       "93368 5389420 3428259 0.046  0.0134 0.0713  1       0      \n",
       "93369 5389420 3807272 0.046  0.0128 0.0737  1       5      \n",
       "93370 5389420 6024683 0.045  0.0132 0.0696  1       1      "
      ]
     },
     "metadata": {},
     "output_type": "display_data"
    }
   ],
   "source": [
    "# Remove degree = 3\n",
    "degree.3 <- names(table(c(related.hsi$ID1, related.hsi$ID2))[which(table(c(related.hsi$ID1, related.hsi$ID2)) == 3)])\n",
    "tmp <- related.hsi[(related.hsi$ID1 %in% degree.3) | (related.hsi$ID2 %in% degree.3),]\n",
    "tmp$ID1.hsi <- dat$heaviness[match(tmp$ID1, dat$eid)]\n",
    "tmp$ID2.hsi <- dat$heaviness[match(tmp$ID2, dat$eid)]\n",
    "tmp"
   ]
  },
  {
   "cell_type": "code",
   "execution_count": 16,
   "metadata": {},
   "outputs": [
    {
     "data": {
      "text/html": [
       "<ol class=list-inline>\n",
       "\t<li>'4910503'</li>\n",
       "\t<li>'4820463'</li>\n",
       "\t<li>'1967456'</li>\n",
       "\t<li>'1872767'</li>\n",
       "\t<li>'3428259'</li>\n",
       "\t<li>'3465351'</li>\n",
       "\t<li>'3509789'</li>\n",
       "\t<li>'3945318'</li>\n",
       "\t<li>'4490044'</li>\n",
       "\t<li>'5110221'</li>\n",
       "\t<li>'5389420'</li>\n",
       "\t<li>'6024683'</li>\n",
       "</ol>\n"
      ],
      "text/latex": [
       "\\begin{enumerate*}\n",
       "\\item '4910503'\n",
       "\\item '4820463'\n",
       "\\item '1967456'\n",
       "\\item '1872767'\n",
       "\\item '3428259'\n",
       "\\item '3465351'\n",
       "\\item '3509789'\n",
       "\\item '3945318'\n",
       "\\item '4490044'\n",
       "\\item '5110221'\n",
       "\\item '5389420'\n",
       "\\item '6024683'\n",
       "\\end{enumerate*}\n"
      ],
      "text/markdown": [
       "1. '4910503'\n",
       "2. '4820463'\n",
       "3. '1967456'\n",
       "4. '1872767'\n",
       "5. '3428259'\n",
       "6. '3465351'\n",
       "7. '3509789'\n",
       "8. '3945318'\n",
       "9. '4490044'\n",
       "10. '5110221'\n",
       "11. '5389420'\n",
       "12. '6024683'\n",
       "\n",
       "\n"
      ],
      "text/plain": [
       " [1] \"4910503\" \"4820463\" \"1967456\" \"1872767\" \"3428259\" \"3465351\" \"3509789\"\n",
       " [8] \"3945318\" \"4490044\" \"5110221\" \"5389420\" \"6024683\""
      ]
     },
     "metadata": {},
     "output_type": "display_data"
    },
    {
     "data": {
      "text/plain": [
       "\n",
       "   1    2 \n",
       "1614   85 "
      ]
     },
     "metadata": {},
     "output_type": "display_data"
    }
   ],
   "source": [
    "# Keep 1 each from the three families\n",
    "remove.list <- c(remove.list, \n",
    "                 setdiff(degree.3, \n",
    "                        c(\"5849383\", \"3807272\", \"3603014\")))\n",
    "remove.list\n",
    "# exclude individual\n",
    "related.hsi <- related.hsi[ (! related.hsi$ID1 %in% remove.list) & (! related.hsi$ID2 %in% remove.list), ]\n",
    "# degree\n",
    "table(table(c(related.hsi$ID1, related.hsi$ID2)))"
   ]
  },
  {
   "cell_type": "markdown",
   "metadata": {},
   "source": [
    "### Remove ones with 2 relatives\n",
    "One complicated family, removed manually"
   ]
  },
  {
   "cell_type": "code",
   "execution_count": 17,
   "metadata": {},
   "outputs": [
    {
     "data": {
      "text/html": [
       "<table>\n",
       "<thead><tr><th></th><th scope=col>ID1</th><th scope=col>ID2</th><th scope=col>HetHet</th><th scope=col>IBS0</th><th scope=col>Kinship</th><th scope=col>ID1.hsi</th><th scope=col>ID2.hsi</th></tr></thead>\n",
       "<tbody>\n",
       "\t<tr><th scope=row>1128</th><td>1054543</td><td>3901066</td><td>0.046  </td><td>0.0151 </td><td>0.0561 </td><td>4      </td><td>2      </td></tr>\n",
       "\t<tr><th scope=row>2480</th><td>1118785</td><td>5960697</td><td>0.053  </td><td>0.0094 </td><td>0.1274 </td><td>2      </td><td>0      </td></tr>\n",
       "\t<tr><th scope=row>2481</th><td>1118785</td><td>5997372</td><td>0.076  </td><td>0.0035 </td><td>0.2562 </td><td>2      </td><td>2      </td></tr>\n",
       "\t<tr><th scope=row>5876</th><td>1274655</td><td>3492974</td><td>0.075  </td><td>0.0053 </td><td>0.2387 </td><td>3      </td><td>3      </td></tr>\n",
       "\t<tr><th scope=row>6935</th><td>1322350</td><td>1048890</td><td>0.045  </td><td>0.0144 </td><td>0.0598 </td><td>6      </td><td>3      </td></tr>\n",
       "\t<tr><th scope=row>6936</th><td>1322350</td><td>4432199</td><td>0.043  </td><td>0.0154 </td><td>0.0444 </td><td>6      </td><td>3      </td></tr>\n",
       "</tbody>\n",
       "</table>\n"
      ],
      "text/latex": [
       "\\begin{tabular}{r|lllllll}\n",
       "  & ID1 & ID2 & HetHet & IBS0 & Kinship & ID1.hsi & ID2.hsi\\\\\n",
       "\\hline\n",
       "\t1128 & 1054543 & 3901066 & 0.046   & 0.0151  & 0.0561  & 4       & 2      \\\\\n",
       "\t2480 & 1118785 & 5960697 & 0.053   & 0.0094  & 0.1274  & 2       & 0      \\\\\n",
       "\t2481 & 1118785 & 5997372 & 0.076   & 0.0035  & 0.2562  & 2       & 2      \\\\\n",
       "\t5876 & 1274655 & 3492974 & 0.075   & 0.0053  & 0.2387  & 3       & 3      \\\\\n",
       "\t6935 & 1322350 & 1048890 & 0.045   & 0.0144  & 0.0598  & 6       & 3      \\\\\n",
       "\t6936 & 1322350 & 4432199 & 0.043   & 0.0154  & 0.0444  & 6       & 3      \\\\\n",
       "\\end{tabular}\n"
      ],
      "text/markdown": [
       "\n",
       "| <!--/--> | ID1 | ID2 | HetHet | IBS0 | Kinship | ID1.hsi | ID2.hsi |\n",
       "|---|---|---|---|---|---|---|---|\n",
       "| 1128 | 1054543 | 3901066 | 0.046   | 0.0151  | 0.0561  | 4       | 2       |\n",
       "| 2480 | 1118785 | 5960697 | 0.053   | 0.0094  | 0.1274  | 2       | 0       |\n",
       "| 2481 | 1118785 | 5997372 | 0.076   | 0.0035  | 0.2562  | 2       | 2       |\n",
       "| 5876 | 1274655 | 3492974 | 0.075   | 0.0053  | 0.2387  | 3       | 3       |\n",
       "| 6935 | 1322350 | 1048890 | 0.045   | 0.0144  | 0.0598  | 6       | 3       |\n",
       "| 6936 | 1322350 | 4432199 | 0.043   | 0.0154  | 0.0444  | 6       | 3       |\n",
       "\n"
      ],
      "text/plain": [
       "     ID1     ID2     HetHet IBS0   Kinship ID1.hsi ID2.hsi\n",
       "1128 1054543 3901066 0.046  0.0151 0.0561  4       2      \n",
       "2480 1118785 5960697 0.053  0.0094 0.1274  2       0      \n",
       "2481 1118785 5997372 0.076  0.0035 0.2562  2       2      \n",
       "5876 1274655 3492974 0.075  0.0053 0.2387  3       3      \n",
       "6935 1322350 1048890 0.045  0.0144 0.0598  6       3      \n",
       "6936 1322350 4432199 0.043  0.0154 0.0444  6       3      "
      ]
     },
     "metadata": {},
     "output_type": "display_data"
    },
    {
     "data": {
      "text/html": [
       "<ol class=list-inline>\n",
       "\t<li>114</li>\n",
       "\t<li>7</li>\n",
       "</ol>\n"
      ],
      "text/latex": [
       "\\begin{enumerate*}\n",
       "\\item 114\n",
       "\\item 7\n",
       "\\end{enumerate*}\n"
      ],
      "text/markdown": [
       "1. 114\n",
       "2. 7\n",
       "\n",
       "\n"
      ],
      "text/plain": [
       "[1] 114   7"
      ]
     },
     "metadata": {},
     "output_type": "display_data"
    }
   ],
   "source": [
    "# Remove degree = 2\n",
    "degree.2 <- names(table(c(related.hsi$ID1, related.hsi$ID2))[which(table(c(related.hsi$ID1, related.hsi$ID2)) == 2)])\n",
    "tmp <- related.hsi[(related.hsi$ID1 %in% degree.2) | (related.hsi$ID2 %in% degree.2),]\n",
    "tmp$ID1.hsi <- dat$heaviness[match(tmp$ID1, dat$eid)]\n",
    "tmp$ID2.hsi <- dat$heaviness[match(tmp$ID2, dat$eid)]\n",
    "head(tmp)\n",
    "dim(tmp)"
   ]
  },
  {
   "cell_type": "code",
   "execution_count": 18,
   "metadata": {},
   "outputs": [
    {
     "data": {
      "text/html": [
       "143"
      ],
      "text/latex": [
       "143"
      ],
      "text/markdown": [
       "143"
      ],
      "text/plain": [
       "[1] 143"
      ]
     },
     "metadata": {},
     "output_type": "display_data"
    },
    {
     "name": "stdout",
     "output_type": "stream",
     "text": [
      "           ID1     ID2 HetHet   IBS0 Kinship ID1.hsi ID2.hsi\n",
      "73107  4452717 1904744  0.042 0.0148  0.0447       2       3\n",
      "73149  4452717 6002751  0.041 0.0136  0.0475       2       0\n",
      "89659  5216767 4358391  0.041 0.0146  0.0444       2       1\n",
      "106762 6002751 4358391  0.041 0.0141  0.0456       0       1\n"
     ]
    },
    {
     "data": {
      "text/html": [
       "92"
      ],
      "text/latex": [
       "92"
      ],
      "text/markdown": [
       "92"
      ],
      "text/plain": [
       "[1] 92"
      ]
     },
     "metadata": {},
     "output_type": "display_data"
    }
   ],
   "source": [
    "length(unique(c(tmp$ID1, tmp$ID2)))\n",
    "degree.2.remove <- c()\n",
    "while(dim(tmp)[1] > 0){\n",
    "    tmp.fam <- tmp[(tmp$ID1 %in% c(tmp$ID1[1], tmp$ID2[1])) | (tmp$ID2 %in% c(tmp$ID1[1], tmp$ID2[1])),]\n",
    "    fam <- unique(c(tmp.fam$ID1, tmp.fam$ID2))\n",
    "    l <- 0\n",
    "    # there are complicated family structure\n",
    "    while(length(fam) != l){\n",
    "        l <- length(fam)\n",
    "        tmp.fam <- tmp[tmp$ID1 %in% fam | tmp$ID2 %in% fam,]\n",
    "        fam <- unique(c(tmp.fam$ID1, tmp.fam$ID2))\n",
    "    }\n",
    "\n",
    "    tmp.fam <- tmp[tmp$ID1 %in% fam | tmp$ID2 %in% fam,]\n",
    "    if(dim(tmp.fam)[1] > 3) {\n",
    "        print(tmp.fam)\n",
    "    } else {\n",
    "        fam.hsi <- dat$heaviness[match(fam, dat$eid)]\n",
    "        keep <- sample(which(fam.hsi == max(fam.hsi)), 1)\n",
    "        degree.2.remove <- c(degree.2.remove, fam[-keep])\n",
    "    }\n",
    "    # remove family from tmp\n",
    "    tmp <- tmp[(! tmp$ID1 %in% fam) & (! tmp$ID2 %in% fam), ]\n",
    "}\n",
    "length(degree.2.remove)"
   ]
  },
  {
   "cell_type": "markdown",
   "metadata": {},
   "source": [
    "### Check\n",
    "143 - 5 (special family) = 138\n",
    "\n",
    "138 / 3 = 46 families of three\n",
    "\n",
    "number removed = 46*2 = 92\n",
    "\n",
    "number of independent ids = 46*3 + 5 = 143\n",
    "\n",
    "Correct"
   ]
  },
  {
   "cell_type": "code",
   "execution_count": 19,
   "metadata": {},
   "outputs": [],
   "source": [
    "degree.2.remove <- c(degree.2.remove, \"4452717\", \"4358391\")\n"
   ]
  },
  {
   "cell_type": "markdown",
   "metadata": {},
   "source": [
    "### Remove ones with 1 relatives"
   ]
  },
  {
   "cell_type": "code",
   "execution_count": 20,
   "metadata": {},
   "outputs": [
    {
     "data": {
      "text/plain": [
       "\n",
       "   1 \n",
       "1556 "
      ]
     },
     "metadata": {},
     "output_type": "display_data"
    }
   ],
   "source": [
    "# Keep 1 each from the three families\n",
    "remove.list <- c(remove.list, degree.2.remove)\n",
    "# exclude individual\n",
    "related.hsi <- related.hsi[ (! related.hsi$ID1 %in% remove.list) & (! related.hsi$ID2 %in% remove.list), ]\n",
    "# degree\n",
    "table(table(c(related.hsi$ID1, related.hsi$ID2)))\n"
   ]
  },
  {
   "cell_type": "code",
   "execution_count": 21,
   "metadata": {},
   "outputs": [
    {
     "data": {
      "text/html": [
       "<ol class=list-inline>\n",
       "\t<li>778</li>\n",
       "\t<li>5</li>\n",
       "</ol>\n"
      ],
      "text/latex": [
       "\\begin{enumerate*}\n",
       "\\item 778\n",
       "\\item 5\n",
       "\\end{enumerate*}\n"
      ],
      "text/markdown": [
       "1. 778\n",
       "2. 5\n",
       "\n",
       "\n"
      ],
      "text/plain": [
       "[1] 778   5"
      ]
     },
     "metadata": {},
     "output_type": "display_data"
    }
   ],
   "source": [
    "dim(related.hsi)"
   ]
  },
  {
   "cell_type": "code",
   "execution_count": 22,
   "metadata": {},
   "outputs": [
    {
     "data": {
      "text/html": [
       "<table>\n",
       "<thead><tr><th></th><th scope=col>ID1</th><th scope=col>ID2</th><th scope=col>HetHet</th><th scope=col>IBS0</th><th scope=col>Kinship</th><th scope=col>ID1.hsi</th><th scope=col>ID2.hsi</th></tr></thead>\n",
       "<tbody>\n",
       "\t<tr><th scope=row>92</th><td>1005357</td><td>2112322</td><td>0.077  </td><td>0.0059 </td><td>0.2404 </td><td>3      </td><td>0      </td></tr>\n",
       "\t<tr><th scope=row>140</th><td>1007749</td><td>2606200</td><td>0.055  </td><td>0.0086 </td><td>0.1394 </td><td>1      </td><td>3      </td></tr>\n",
       "\t<tr><th scope=row>223</th><td>1011536</td><td>3959448</td><td>0.047  </td><td>0.0136 </td><td>0.0716 </td><td>0      </td><td>1      </td></tr>\n",
       "\t<tr><th scope=row>311</th><td>1015603</td><td>4854910</td><td>0.043  </td><td>0.0152 </td><td>0.0444 </td><td>2      </td><td>1      </td></tr>\n",
       "\t<tr><th scope=row>544</th><td>1026903</td><td>2646986</td><td>0.081  </td><td>0.0043 </td><td>0.2710 </td><td>1      </td><td>3      </td></tr>\n",
       "\t<tr><th scope=row>686</th><td>1034249</td><td>3995206</td><td>0.045  </td><td>0.0148 </td><td>0.0580 </td><td>2      </td><td>6      </td></tr>\n",
       "</tbody>\n",
       "</table>\n"
      ],
      "text/latex": [
       "\\begin{tabular}{r|lllllll}\n",
       "  & ID1 & ID2 & HetHet & IBS0 & Kinship & ID1.hsi & ID2.hsi\\\\\n",
       "\\hline\n",
       "\t92 & 1005357 & 2112322 & 0.077   & 0.0059  & 0.2404  & 3       & 0      \\\\\n",
       "\t140 & 1007749 & 2606200 & 0.055   & 0.0086  & 0.1394  & 1       & 3      \\\\\n",
       "\t223 & 1011536 & 3959448 & 0.047   & 0.0136  & 0.0716  & 0       & 1      \\\\\n",
       "\t311 & 1015603 & 4854910 & 0.043   & 0.0152  & 0.0444  & 2       & 1      \\\\\n",
       "\t544 & 1026903 & 2646986 & 0.081   & 0.0043  & 0.2710  & 1       & 3      \\\\\n",
       "\t686 & 1034249 & 3995206 & 0.045   & 0.0148  & 0.0580  & 2       & 6      \\\\\n",
       "\\end{tabular}\n"
      ],
      "text/markdown": [
       "\n",
       "| <!--/--> | ID1 | ID2 | HetHet | IBS0 | Kinship | ID1.hsi | ID2.hsi |\n",
       "|---|---|---|---|---|---|---|---|\n",
       "| 92 | 1005357 | 2112322 | 0.077   | 0.0059  | 0.2404  | 3       | 0       |\n",
       "| 140 | 1007749 | 2606200 | 0.055   | 0.0086  | 0.1394  | 1       | 3       |\n",
       "| 223 | 1011536 | 3959448 | 0.047   | 0.0136  | 0.0716  | 0       | 1       |\n",
       "| 311 | 1015603 | 4854910 | 0.043   | 0.0152  | 0.0444  | 2       | 1       |\n",
       "| 544 | 1026903 | 2646986 | 0.081   | 0.0043  | 0.2710  | 1       | 3       |\n",
       "| 686 | 1034249 | 3995206 | 0.045   | 0.0148  | 0.0580  | 2       | 6       |\n",
       "\n"
      ],
      "text/plain": [
       "    ID1     ID2     HetHet IBS0   Kinship ID1.hsi ID2.hsi\n",
       "92  1005357 2112322 0.077  0.0059 0.2404  3       0      \n",
       "140 1007749 2606200 0.055  0.0086 0.1394  1       3      \n",
       "223 1011536 3959448 0.047  0.0136 0.0716  0       1      \n",
       "311 1015603 4854910 0.043  0.0152 0.0444  2       1      \n",
       "544 1026903 2646986 0.081  0.0043 0.2710  1       3      \n",
       "686 1034249 3995206 0.045  0.0148 0.0580  2       6      "
      ]
     },
     "metadata": {},
     "output_type": "display_data"
    }
   ],
   "source": [
    "# Remove degree = 1\n",
    "related.hsi$ID1.hsi <- dat$heaviness[match(related.hsi$ID1, dat$eid)]\n",
    "related.hsi$ID2.hsi <- dat$heaviness[match(related.hsi$ID2, dat$eid)]\n",
    "head(related.hsi)"
   ]
  },
  {
   "cell_type": "code",
   "execution_count": 23,
   "metadata": {},
   "outputs": [
    {
     "data": {
      "text/html": [
       "<table>\n",
       "<thead><tr><th></th><th scope=col>ID1</th><th scope=col>ID2</th><th scope=col>HetHet</th><th scope=col>IBS0</th><th scope=col>Kinship</th><th scope=col>ID1.hsi</th><th scope=col>ID2.hsi</th><th scope=col>remove</th></tr></thead>\n",
       "<tbody>\n",
       "\t<tr><th scope=row>92</th><td>1005357</td><td>2112322</td><td>0.077  </td><td>0.0059 </td><td>0.2404 </td><td>3      </td><td>0      </td><td>2112322</td></tr>\n",
       "\t<tr><th scope=row>140</th><td>1007749</td><td>2606200</td><td>0.055  </td><td>0.0086 </td><td>0.1394 </td><td>1      </td><td>3      </td><td>1007749</td></tr>\n",
       "\t<tr><th scope=row>223</th><td>1011536</td><td>3959448</td><td>0.047  </td><td>0.0136 </td><td>0.0716 </td><td>0      </td><td>1      </td><td>1011536</td></tr>\n",
       "\t<tr><th scope=row>311</th><td>1015603</td><td>4854910</td><td>0.043  </td><td>0.0152 </td><td>0.0444 </td><td>2      </td><td>1      </td><td>4854910</td></tr>\n",
       "\t<tr><th scope=row>544</th><td>1026903</td><td>2646986</td><td>0.081  </td><td>0.0043 </td><td>0.2710 </td><td>1      </td><td>3      </td><td>1026903</td></tr>\n",
       "\t<tr><th scope=row>686</th><td>1034249</td><td>3995206</td><td>0.045  </td><td>0.0148 </td><td>0.0580 </td><td>2      </td><td>6      </td><td>1034249</td></tr>\n",
       "</tbody>\n",
       "</table>\n"
      ],
      "text/latex": [
       "\\begin{tabular}{r|llllllll}\n",
       "  & ID1 & ID2 & HetHet & IBS0 & Kinship & ID1.hsi & ID2.hsi & remove\\\\\n",
       "\\hline\n",
       "\t92 & 1005357 & 2112322 & 0.077   & 0.0059  & 0.2404  & 3       & 0       & 2112322\\\\\n",
       "\t140 & 1007749 & 2606200 & 0.055   & 0.0086  & 0.1394  & 1       & 3       & 1007749\\\\\n",
       "\t223 & 1011536 & 3959448 & 0.047   & 0.0136  & 0.0716  & 0       & 1       & 1011536\\\\\n",
       "\t311 & 1015603 & 4854910 & 0.043   & 0.0152  & 0.0444  & 2       & 1       & 4854910\\\\\n",
       "\t544 & 1026903 & 2646986 & 0.081   & 0.0043  & 0.2710  & 1       & 3       & 1026903\\\\\n",
       "\t686 & 1034249 & 3995206 & 0.045   & 0.0148  & 0.0580  & 2       & 6       & 1034249\\\\\n",
       "\\end{tabular}\n"
      ],
      "text/markdown": [
       "\n",
       "| <!--/--> | ID1 | ID2 | HetHet | IBS0 | Kinship | ID1.hsi | ID2.hsi | remove |\n",
       "|---|---|---|---|---|---|---|---|---|\n",
       "| 92 | 1005357 | 2112322 | 0.077   | 0.0059  | 0.2404  | 3       | 0       | 2112322 |\n",
       "| 140 | 1007749 | 2606200 | 0.055   | 0.0086  | 0.1394  | 1       | 3       | 1007749 |\n",
       "| 223 | 1011536 | 3959448 | 0.047   | 0.0136  | 0.0716  | 0       | 1       | 1011536 |\n",
       "| 311 | 1015603 | 4854910 | 0.043   | 0.0152  | 0.0444  | 2       | 1       | 4854910 |\n",
       "| 544 | 1026903 | 2646986 | 0.081   | 0.0043  | 0.2710  | 1       | 3       | 1026903 |\n",
       "| 686 | 1034249 | 3995206 | 0.045   | 0.0148  | 0.0580  | 2       | 6       | 1034249 |\n",
       "\n"
      ],
      "text/plain": [
       "    ID1     ID2     HetHet IBS0   Kinship ID1.hsi ID2.hsi remove \n",
       "92  1005357 2112322 0.077  0.0059 0.2404  3       0       2112322\n",
       "140 1007749 2606200 0.055  0.0086 0.1394  1       3       1007749\n",
       "223 1011536 3959448 0.047  0.0136 0.0716  0       1       1011536\n",
       "311 1015603 4854910 0.043  0.0152 0.0444  2       1       4854910\n",
       "544 1026903 2646986 0.081  0.0043 0.2710  1       3       1026903\n",
       "686 1034249 3995206 0.045  0.0148 0.0580  2       6       1034249"
      ]
     },
     "metadata": {},
     "output_type": "display_data"
    }
   ],
   "source": [
    "related.hsi$remove <- related.hsi$ID1\n",
    "related.hsi$remove[related.hsi$ID1.hsi > related.hsi$ID2.hsi] <- related.hsi$ID2[related.hsi$ID1.hsi > related.hsi$ID2.hsi]\n",
    "head(related.hsi)"
   ]
  },
  {
   "cell_type": "code",
   "execution_count": 24,
   "metadata": {},
   "outputs": [],
   "source": [
    "remove.list <- c(remove.list, related.hsi$remove)"
   ]
  },
  {
   "cell_type": "code",
   "execution_count": 25,
   "metadata": {},
   "outputs": [],
   "source": [
    "unrelated <- dat[ !is.na(dat$heaviness) & (! dat$eid %in% remove.list), ]"
   ]
  },
  {
   "cell_type": "markdown",
   "metadata": {},
   "source": [
    "# Age, sex, PCs"
   ]
  },
  {
   "cell_type": "code",
   "execution_count": 26,
   "metadata": {},
   "outputs": [
    {
     "data": {
      "text/plain": [
       "   \n",
       "       0    1    2    3    4    5    6\n",
       "  0 5696 5328 7492    0    0    0    0\n",
       "  1    0    0    0 9126 4627    0    0\n",
       "  2    0    0    0    0    0 1819  592"
      ]
     },
     "metadata": {},
     "output_type": "display_data"
    }
   ],
   "source": [
    "unrelated$hsi <- 0\n",
    "unrelated$hsi[unrelated$heaviness >= 3 & unrelated$heaviness <= 4] <- 1\n",
    "unrelated$hsi[unrelated$heaviness >= 5 & unrelated$heaviness <= 6] <- 2\n",
    "table(unrelated$hsi, unrelated$heaviness)\n",
    "\n",
    "unrelated$Sex <- unrelated$X31.0.0\n",
    "unrelated$Age <- scale(unrelated$X21022.0.0)\n",
    "unrelated$Age2 <- scale(unrelated$Age * unrelated$Age)\n",
    "unrelated$Age.Sex <- unrelated$Age * unrelated$Sex\n",
    "unrelated$Age2.Sex <- unrelated$Age2 * unrelated$Sex\n",
    "for (i in 1:20){\n",
    "    unrelated[[paste0(\"PC\", i)]] <- unrelated[[paste0(\"X22009.0.\", i)]]\n",
    "}"
   ]
  },
  {
   "cell_type": "code",
   "execution_count": 27,
   "metadata": {},
   "outputs": [
    {
     "data": {
      "text/html": [
       "<table>\n",
       "<thead><tr><th></th><th scope=col>Estimate</th><th scope=col>Std. Error</th><th scope=col>t value</th><th scope=col>Pr(&gt;|t|)</th></tr></thead>\n",
       "<tbody>\n",
       "\t<tr><th scope=row>(Intercept)</th><td> 0.4558371938</td><td>4.753419e-03 </td><td> 95.89669400 </td><td>0.000000e+00 </td></tr>\n",
       "\t<tr><th scope=row>Age</th><td>-0.0146036021</td><td>4.779602e-03 </td><td> -3.05540125 </td><td>2.249345e-03 </td></tr>\n",
       "\t<tr><th scope=row>Age2</th><td>-0.0297690165</td><td>4.731022e-03 </td><td> -6.29230190 </td><td>3.166170e-10 </td></tr>\n",
       "\t<tr><th scope=row>Sex</th><td> 0.1394813877</td><td>6.704344e-03 </td><td> 20.80462808 </td><td>1.560534e-95 </td></tr>\n",
       "\t<tr><th scope=row>Age.Sex</th><td> 0.0032795079</td><td>6.687094e-03 </td><td>  0.49042346 </td><td>6.238375e-01 </td></tr>\n",
       "\t<tr><th scope=row>Age2.Sex</th><td>-0.0071168180</td><td>6.678506e-03 </td><td> -1.06563031 </td><td>2.865984e-01 </td></tr>\n",
       "\t<tr><th scope=row>PC1</th><td>-0.0008588929</td><td>6.380421e-05 </td><td>-13.46138192 </td><td>3.370176e-41 </td></tr>\n",
       "\t<tr><th scope=row>PC2</th><td> 0.0007643330</td><td>1.385915e-04 </td><td>  5.51500488 </td><td>3.513168e-08 </td></tr>\n",
       "\t<tr><th scope=row>PC3</th><td>-0.0013244145</td><td>2.613074e-04 </td><td> -5.06841599 </td><td>4.032505e-07 </td></tr>\n",
       "\t<tr><th scope=row>PC4</th><td> 0.0012022078</td><td>3.456371e-04 </td><td>  3.47823733 </td><td>5.053570e-04 </td></tr>\n",
       "\t<tr><th scope=row>PC5</th><td> 0.0041493878</td><td>4.179151e-04 </td><td>  9.92878055 </td><td>3.357196e-23 </td></tr>\n",
       "\t<tr><th scope=row>PC6</th><td>-0.0022635984</td><td>8.962661e-04 </td><td> -2.52558732 </td><td>1.155503e-02 </td></tr>\n",
       "\t<tr><th scope=row>PC7</th><td>-0.0003813022</td><td>6.334201e-04 </td><td> -0.60197359 </td><td>5.471957e-01 </td></tr>\n",
       "\t<tr><th scope=row>PC8</th><td> 0.0025701110</td><td>7.199074e-04 </td><td>  3.57005784 </td><td>3.573967e-04 </td></tr>\n",
       "\t<tr><th scope=row>PC9</th><td> 0.0035346045</td><td>7.899551e-04 </td><td>  4.47443705 </td><td>7.686238e-06 </td></tr>\n",
       "\t<tr><th scope=row>PC10</th><td>-0.0003518459</td><td>7.958076e-04 </td><td> -0.44212432 </td><td>6.584021e-01 </td></tr>\n",
       "\t<tr><th scope=row>PC11</th><td> 0.0029186794</td><td>8.671333e-04 </td><td>  3.36589459 </td><td>7.638070e-04 </td></tr>\n",
       "\t<tr><th scope=row>PC12</th><td>-0.0018736033</td><td>9.395040e-04 </td><td> -1.99424725 </td><td>4.613305e-02 </td></tr>\n",
       "\t<tr><th scope=row>PC13</th><td>-0.0010705515</td><td>1.192641e-03 </td><td> -0.89763130 </td><td>3.693885e-01 </td></tr>\n",
       "\t<tr><th scope=row>PC14</th><td> 0.0038387877</td><td>1.013196e-03 </td><td>  3.78879006 </td><td>1.516448e-04 </td></tr>\n",
       "\t<tr><th scope=row>PC15</th><td>-0.0017559860</td><td>1.251697e-03 </td><td> -1.40288461 </td><td>1.606604e-01 </td></tr>\n",
       "\t<tr><th scope=row>PC16</th><td> 0.0007115079</td><td>1.135708e-03 </td><td>  0.62648825 </td><td>5.309990e-01 </td></tr>\n",
       "\t<tr><th scope=row>PC17</th><td> 0.0010042292</td><td>1.292117e-03 </td><td>  0.77719669 </td><td>4.370482e-01 </td></tr>\n",
       "\t<tr><th scope=row>PC18</th><td> 0.0000881416</td><td>1.198463e-03 </td><td>  0.07354551 </td><td>9.413725e-01 </td></tr>\n",
       "\t<tr><th scope=row>PC19</th><td>-0.0005628141</td><td>1.185163e-03 </td><td> -0.47488317 </td><td>6.348733e-01 </td></tr>\n",
       "\t<tr><th scope=row>PC20</th><td> 0.0024010173</td><td>1.193731e-03 </td><td>  2.01135621 </td><td>4.429576e-02 </td></tr>\n",
       "</tbody>\n",
       "</table>\n"
      ],
      "text/latex": [
       "\\begin{tabular}{r|llll}\n",
       "  & Estimate & Std. Error & t value & Pr(>\\textbar{}t\\textbar{})\\\\\n",
       "\\hline\n",
       "\t(Intercept) &  0.4558371938 & 4.753419e-03  &  95.89669400  & 0.000000e+00 \\\\\n",
       "\tAge & -0.0146036021 & 4.779602e-03  &  -3.05540125  & 2.249345e-03 \\\\\n",
       "\tAge2 & -0.0297690165 & 4.731022e-03  &  -6.29230190  & 3.166170e-10 \\\\\n",
       "\tSex &  0.1394813877 & 6.704344e-03  &  20.80462808  & 1.560534e-95 \\\\\n",
       "\tAge.Sex &  0.0032795079 & 6.687094e-03  &   0.49042346  & 6.238375e-01 \\\\\n",
       "\tAge2.Sex & -0.0071168180 & 6.678506e-03  &  -1.06563031  & 2.865984e-01 \\\\\n",
       "\tPC1 & -0.0008588929 & 6.380421e-05  & -13.46138192  & 3.370176e-41 \\\\\n",
       "\tPC2 &  0.0007643330 & 1.385915e-04  &   5.51500488  & 3.513168e-08 \\\\\n",
       "\tPC3 & -0.0013244145 & 2.613074e-04  &  -5.06841599  & 4.032505e-07 \\\\\n",
       "\tPC4 &  0.0012022078 & 3.456371e-04  &   3.47823733  & 5.053570e-04 \\\\\n",
       "\tPC5 &  0.0041493878 & 4.179151e-04  &   9.92878055  & 3.357196e-23 \\\\\n",
       "\tPC6 & -0.0022635984 & 8.962661e-04  &  -2.52558732  & 1.155503e-02 \\\\\n",
       "\tPC7 & -0.0003813022 & 6.334201e-04  &  -0.60197359  & 5.471957e-01 \\\\\n",
       "\tPC8 &  0.0025701110 & 7.199074e-04  &   3.57005784  & 3.573967e-04 \\\\\n",
       "\tPC9 &  0.0035346045 & 7.899551e-04  &   4.47443705  & 7.686238e-06 \\\\\n",
       "\tPC10 & -0.0003518459 & 7.958076e-04  &  -0.44212432  & 6.584021e-01 \\\\\n",
       "\tPC11 &  0.0029186794 & 8.671333e-04  &   3.36589459  & 7.638070e-04 \\\\\n",
       "\tPC12 & -0.0018736033 & 9.395040e-04  &  -1.99424725  & 4.613305e-02 \\\\\n",
       "\tPC13 & -0.0010705515 & 1.192641e-03  &  -0.89763130  & 3.693885e-01 \\\\\n",
       "\tPC14 &  0.0038387877 & 1.013196e-03  &   3.78879006  & 1.516448e-04 \\\\\n",
       "\tPC15 & -0.0017559860 & 1.251697e-03  &  -1.40288461  & 1.606604e-01 \\\\\n",
       "\tPC16 &  0.0007115079 & 1.135708e-03  &   0.62648825  & 5.309990e-01 \\\\\n",
       "\tPC17 &  0.0010042292 & 1.292117e-03  &   0.77719669  & 4.370482e-01 \\\\\n",
       "\tPC18 &  0.0000881416 & 1.198463e-03  &   0.07354551  & 9.413725e-01 \\\\\n",
       "\tPC19 & -0.0005628141 & 1.185163e-03  &  -0.47488317  & 6.348733e-01 \\\\\n",
       "\tPC20 &  0.0024010173 & 1.193731e-03  &   2.01135621  & 4.429576e-02 \\\\\n",
       "\\end{tabular}\n"
      ],
      "text/markdown": [
       "\n",
       "| <!--/--> | Estimate | Std. Error | t value | Pr(>|t|) |\n",
       "|---|---|---|---|---|\n",
       "| (Intercept) |  0.4558371938 | 4.753419e-03  |  95.89669400  | 0.000000e+00  |\n",
       "| Age | -0.0146036021 | 4.779602e-03  |  -3.05540125  | 2.249345e-03  |\n",
       "| Age2 | -0.0297690165 | 4.731022e-03  |  -6.29230190  | 3.166170e-10  |\n",
       "| Sex |  0.1394813877 | 6.704344e-03  |  20.80462808  | 1.560534e-95  |\n",
       "| Age.Sex |  0.0032795079 | 6.687094e-03  |   0.49042346  | 6.238375e-01  |\n",
       "| Age2.Sex | -0.0071168180 | 6.678506e-03  |  -1.06563031  | 2.865984e-01  |\n",
       "| PC1 | -0.0008588929 | 6.380421e-05  | -13.46138192  | 3.370176e-41  |\n",
       "| PC2 |  0.0007643330 | 1.385915e-04  |   5.51500488  | 3.513168e-08  |\n",
       "| PC3 | -0.0013244145 | 2.613074e-04  |  -5.06841599  | 4.032505e-07  |\n",
       "| PC4 |  0.0012022078 | 3.456371e-04  |   3.47823733  | 5.053570e-04  |\n",
       "| PC5 |  0.0041493878 | 4.179151e-04  |   9.92878055  | 3.357196e-23  |\n",
       "| PC6 | -0.0022635984 | 8.962661e-04  |  -2.52558732  | 1.155503e-02  |\n",
       "| PC7 | -0.0003813022 | 6.334201e-04  |  -0.60197359  | 5.471957e-01  |\n",
       "| PC8 |  0.0025701110 | 7.199074e-04  |   3.57005784  | 3.573967e-04  |\n",
       "| PC9 |  0.0035346045 | 7.899551e-04  |   4.47443705  | 7.686238e-06  |\n",
       "| PC10 | -0.0003518459 | 7.958076e-04  |  -0.44212432  | 6.584021e-01  |\n",
       "| PC11 |  0.0029186794 | 8.671333e-04  |   3.36589459  | 7.638070e-04  |\n",
       "| PC12 | -0.0018736033 | 9.395040e-04  |  -1.99424725  | 4.613305e-02  |\n",
       "| PC13 | -0.0010705515 | 1.192641e-03  |  -0.89763130  | 3.693885e-01  |\n",
       "| PC14 |  0.0038387877 | 1.013196e-03  |   3.78879006  | 1.516448e-04  |\n",
       "| PC15 | -0.0017559860 | 1.251697e-03  |  -1.40288461  | 1.606604e-01  |\n",
       "| PC16 |  0.0007115079 | 1.135708e-03  |   0.62648825  | 5.309990e-01  |\n",
       "| PC17 |  0.0010042292 | 1.292117e-03  |   0.77719669  | 4.370482e-01  |\n",
       "| PC18 |  0.0000881416 | 1.198463e-03  |   0.07354551  | 9.413725e-01  |\n",
       "| PC19 | -0.0005628141 | 1.185163e-03  |  -0.47488317  | 6.348733e-01  |\n",
       "| PC20 |  0.0024010173 | 1.193731e-03  |   2.01135621  | 4.429576e-02  |\n",
       "\n"
      ],
      "text/plain": [
       "            Estimate      Std. Error   t value      Pr(>|t|)    \n",
       "(Intercept)  0.4558371938 4.753419e-03  95.89669400 0.000000e+00\n",
       "Age         -0.0146036021 4.779602e-03  -3.05540125 2.249345e-03\n",
       "Age2        -0.0297690165 4.731022e-03  -6.29230190 3.166170e-10\n",
       "Sex          0.1394813877 6.704344e-03  20.80462808 1.560534e-95\n",
       "Age.Sex      0.0032795079 6.687094e-03   0.49042346 6.238375e-01\n",
       "Age2.Sex    -0.0071168180 6.678506e-03  -1.06563031 2.865984e-01\n",
       "PC1         -0.0008588929 6.380421e-05 -13.46138192 3.370176e-41\n",
       "PC2          0.0007643330 1.385915e-04   5.51500488 3.513168e-08\n",
       "PC3         -0.0013244145 2.613074e-04  -5.06841599 4.032505e-07\n",
       "PC4          0.0012022078 3.456371e-04   3.47823733 5.053570e-04\n",
       "PC5          0.0041493878 4.179151e-04   9.92878055 3.357196e-23\n",
       "PC6         -0.0022635984 8.962661e-04  -2.52558732 1.155503e-02\n",
       "PC7         -0.0003813022 6.334201e-04  -0.60197359 5.471957e-01\n",
       "PC8          0.0025701110 7.199074e-04   3.57005784 3.573967e-04\n",
       "PC9          0.0035346045 7.899551e-04   4.47443705 7.686238e-06\n",
       "PC10        -0.0003518459 7.958076e-04  -0.44212432 6.584021e-01\n",
       "PC11         0.0029186794 8.671333e-04   3.36589459 7.638070e-04\n",
       "PC12        -0.0018736033 9.395040e-04  -1.99424725 4.613305e-02\n",
       "PC13        -0.0010705515 1.192641e-03  -0.89763130 3.693885e-01\n",
       "PC14         0.0038387877 1.013196e-03   3.78879006 1.516448e-04\n",
       "PC15        -0.0017559860 1.251697e-03  -1.40288461 1.606604e-01\n",
       "PC16         0.0007115079 1.135708e-03   0.62648825 5.309990e-01\n",
       "PC17         0.0010042292 1.292117e-03   0.77719669 4.370482e-01\n",
       "PC18         0.0000881416 1.198463e-03   0.07354551 9.413725e-01\n",
       "PC19        -0.0005628141 1.185163e-03  -0.47488317 6.348733e-01\n",
       "PC20         0.0024010173 1.193731e-03   2.01135621 4.429576e-02"
      ]
     },
     "metadata": {},
     "output_type": "display_data"
    }
   ],
   "source": [
    "## Fit the model among all UKB samples\n",
    "fit <- lm(hsi ~ Age + Age2 + Sex + Age.Sex + Age2.Sex +\n",
    "          PC1 + PC2 + PC3 + PC4 + PC5 + PC6 + PC7 + PC8 + PC9 + PC10 +\n",
    "          PC11 + PC12 + PC13 + PC14 + PC15 + PC16 + PC17 + PC18 + PC19 + PC20,\n",
    "          data = unrelated)\n",
    "summary(fit)$coefficient\n"
   ]
  },
  {
   "cell_type": "code",
   "execution_count": 28,
   "metadata": {},
   "outputs": [],
   "source": [
    "keep <- unrelated[, c(\"eid\", \"hsi\", \"Sex\", \"Age\", \"Age2\", \"Age.Sex\", \"Age2.Sex\", paste0(\"PC\", 1:20))]\n",
    "keep <- keep[ rowSums(is.na(keep)) == 0, ]\n",
    "write.table(keep, \"/share/storage/FTND/UKBiobank/HeavinessSmokingIndex/phenotypes/HSI~Sex.Age.Age2.AgeSex.Age2Sex.20EVs.txt\", row.names = FALSE, col.names = TRUE, quote = FALSE)\n",
    "write.table(keep$eid, \"/share/storage/FTND/UKBiobank/HeavinessSmokingIndex/phenotypes/HSI.samples\", row.names = FALSE, col.names = FALSE, quote = FALSE)"
   ]
  },
  {
   "cell_type": "code",
   "execution_count": 29,
   "metadata": {},
   "outputs": [
    {
     "data": {
      "text/html": [
       "884"
      ],
      "text/latex": [
       "884"
      ],
      "text/markdown": [
       "884"
      ],
      "text/plain": [
       "[1] 884"
      ]
     },
     "metadata": {},
     "output_type": "display_data"
    }
   ],
   "source": [
    "length(remove.list)"
   ]
  },
  {
   "cell_type": "code",
   "execution_count": 30,
   "metadata": {},
   "outputs": [],
   "source": [
    "mrBig <- read.table(\"/share/storage/FTND/UKBiobank/observed/rs16969968/ukb_rs16969968.mach.mldose\", stringsAsFactors = FALSE)\n",
    "keep$rs16969968 <- mrBig$V3[match(keep$eid, mrBig$V1)]\n",
    "keep <- keep[, c(\"eid\", \"hsi\", \"rs16969968\", \"Sex\", \"Age\", \"Age2\", \"Age.Sex\", \"Age2.Sex\", paste0(\"PC\", 1:20))]\n",
    "write.table(keep, \"/share/storage/FTND/UKBiobank/HeavinessSmokingIndex/phenotypes/HSI~rs16969968.Sex.Age.Age2.AgeSex.Age2Sex.20EVs.txt\", row.names = FALSE, col.names = TRUE, quote = FALSE)\n"
   ]
  },
  {
   "cell_type": "markdown",
   "metadata": {},
   "source": [
    "## Update 03/27/2019 - Keep Cauc only using X22006 and keep only PCs explaining 75% var"
   ]
  },
  {
   "cell_type": "code",
   "execution_count": 41,
   "metadata": {},
   "outputs": [
    {
     "data": {
      "text/html": [
       "<ol class=list-inline>\n",
       "\t<li>1.56254639342669</li>\n",
       "\t<li>144.219142746519</li>\n",
       "\t<li>72.0536416605097</li>\n",
       "\t<li>13.3711827883733</li>\n",
       "\t<li>11.8261609817969</li>\n",
       "\t<li>6.23243450913067</li>\n",
       "\t<li>40.6448319799819</li>\n",
       "\t<li>0.346437107520702</li>\n",
       "\t<li>0.475405851830071</li>\n",
       "\t<li>5.94162240277132</li>\n",
       "\t<li>7.84520096602908</li>\n",
       "\t<li>0.04056271417067</li>\n",
       "\t<li>3.46145609497361</li>\n",
       "\t<li>1.94732989523093</li>\n",
       "\t<li>0.225108177881482</li>\n",
       "\t<li>5.67540650006458</li>\n",
       "\t<li>0.664079403105919</li>\n",
       "\t<li>0.105634070748705</li>\n",
       "\t<li>0.230268611092736</li>\n",
       "\t<li>0.00286891025746677</li>\n",
       "\t<li>0.148929356903616</li>\n",
       "\t<li>1.63966036684101</li>\n",
       "\t<li>12773.764259337</li>\n",
       "</ol>\n"
      ],
      "text/latex": [
       "\\begin{enumerate*}\n",
       "\\item 1.56254639342669\n",
       "\\item 144.219142746519\n",
       "\\item 72.0536416605097\n",
       "\\item 13.3711827883733\n",
       "\\item 11.8261609817969\n",
       "\\item 6.23243450913067\n",
       "\\item 40.6448319799819\n",
       "\\item 0.346437107520702\n",
       "\\item 0.475405851830071\n",
       "\\item 5.94162240277132\n",
       "\\item 7.84520096602908\n",
       "\\item 0.04056271417067\n",
       "\\item 3.46145609497361\n",
       "\\item 1.94732989523093\n",
       "\\item 0.225108177881482\n",
       "\\item 5.67540650006458\n",
       "\\item 0.664079403105919\n",
       "\\item 0.105634070748705\n",
       "\\item 0.230268611092736\n",
       "\\item 0.00286891025746677\n",
       "\\item 0.148929356903616\n",
       "\\item 1.63966036684101\n",
       "\\item 12773.764259337\n",
       "\\end{enumerate*}\n"
      ],
      "text/markdown": [
       "1. 1.56254639342669\n",
       "2. 144.219142746519\n",
       "3. 72.0536416605097\n",
       "4. 13.3711827883733\n",
       "5. 11.8261609817969\n",
       "6. 6.23243450913067\n",
       "7. 40.6448319799819\n",
       "8. 0.346437107520702\n",
       "9. 0.475405851830071\n",
       "10. 5.94162240277132\n",
       "11. 7.84520096602908\n",
       "12. 0.04056271417067\n",
       "13. 3.46145609497361\n",
       "14. 1.94732989523093\n",
       "15. 0.225108177881482\n",
       "16. 5.67540650006458\n",
       "17. 0.664079403105919\n",
       "18. 0.105634070748705\n",
       "19. 0.230268611092736\n",
       "20. 0.00286891025746677\n",
       "21. 0.148929356903616\n",
       "22. 1.63966036684101\n",
       "23. 12773.764259337\n",
       "\n",
       "\n"
      ],
      "text/plain": [
       " [1] 1.562546e+00 1.442191e+02 7.205364e+01 1.337118e+01 1.182616e+01\n",
       " [6] 6.232435e+00 4.064483e+01 3.464371e-01 4.754059e-01 5.941622e+00\n",
       "[11] 7.845201e+00 4.056271e-02 3.461456e+00 1.947330e+00 2.251082e-01\n",
       "[16] 5.675407e+00 6.640794e-01 1.056341e-01 2.302686e-01 2.868910e-03\n",
       "[21] 1.489294e-01 1.639660e+00 1.277376e+04"
      ]
     },
     "metadata": {},
     "output_type": "display_data"
    }
   ],
   "source": [
    "unrelated_white <- unrelated[(unrelated$X21000.0.0 %in% c(1, 1001, 1002, 1003)),]\n",
    "keep <- unrelated_white[, c(\"eid\", \"hsi\", \"Sex\", \"Age\", paste0(\"PC\", 1:20))]\n",
    "keep <- keep[ rowSums(is.na(keep)) == 0, ]\n",
    "fit <- lm(hsi ~ Age + Sex + \n",
    "          PC1 + PC2 + PC3 + PC4 + PC5 + PC6 + PC7 + PC8 + PC9 + PC10 +\n",
    "          PC11 + PC12 + PC13 + PC14 + PC15 + PC16 + PC17 + PC18 + PC19 + PC20,\n",
    "          data = unrelated)\n"
   ]
  },
  {
   "cell_type": "code",
   "execution_count": 55,
   "metadata": {},
   "outputs": [
    {
     "data": {
      "text/html": [
       "<dl class=dl-horizontal>\n",
       "\t<dt>PC1</dt>\n",
       "\t\t<dd>0.41678842297997</dd>\n",
       "\t<dt>PC5</dt>\n",
       "\t\t<dd>0.235106720948803</dd>\n",
       "\t<dt>PC2</dt>\n",
       "\t\t<dd>0.0773445180467176</dd>\n",
       "\t<dt>PC3</dt>\n",
       "\t\t<dd>0.0684074652150692</dd>\n",
       "\t<dt>PC9</dt>\n",
       "\t\t<dd>0.0453799261666502</dd>\n",
       "\t<dt>PC4</dt>\n",
       "\t\t<dd>0.0360510099215454</dd>\n",
       "\t<dt>PC8</dt>\n",
       "\t\t<dd>0.034368830972644</dd>\n",
       "\t<dt>PC14</dt>\n",
       "\t\t<dd>0.0328289267609442</dd>\n",
       "\t<dt>PC11</dt>\n",
       "\t\t<dd>0.020022510920904</dd>\n",
       "\t<dt>PC12</dt>\n",
       "\t\t<dd>0.0112641712112086</dd>\n",
       "\t<dt>PC20</dt>\n",
       "\t\t<dd>0.00948448187724242</dd>\n",
       "\t<dt>PC15</dt>\n",
       "\t\t<dd>0.0038413132324121</dd>\n",
       "\t<dt>PC7</dt>\n",
       "\t\t<dd>0.00274994643842271</dd>\n",
       "\t<dt>PC6</dt>\n",
       "\t\t<dd>0.00200393723867022</dd>\n",
       "\t<dt>PC17</dt>\n",
       "\t\t<dd>0.00133197003048535</dd>\n",
       "\t<dt>PC13</dt>\n",
       "\t\t<dd>0.00130211992478013</dd>\n",
       "\t<dt>PC19</dt>\n",
       "\t\t<dd>0.000861469737945236</dd>\n",
       "\t<dt>PC16</dt>\n",
       "\t\t<dd>0.000611031680643521</dd>\n",
       "\t<dt>PC10</dt>\n",
       "\t\t<dd>0.000234631717167552</dd>\n",
       "\t<dt>PC18</dt>\n",
       "\t\t<dd>1.65949777738434e-05</dd>\n",
       "</dl>\n"
      ],
      "text/latex": [
       "\\begin{description*}\n",
       "\\item[PC1] 0.41678842297997\n",
       "\\item[PC5] 0.235106720948803\n",
       "\\item[PC2] 0.0773445180467176\n",
       "\\item[PC3] 0.0684074652150692\n",
       "\\item[PC9] 0.0453799261666502\n",
       "\\item[PC4] 0.0360510099215454\n",
       "\\item[PC8] 0.034368830972644\n",
       "\\item[PC14] 0.0328289267609442\n",
       "\\item[PC11] 0.020022510920904\n",
       "\\item[PC12] 0.0112641712112086\n",
       "\\item[PC20] 0.00948448187724242\n",
       "\\item[PC15] 0.0038413132324121\n",
       "\\item[PC7] 0.00274994643842271\n",
       "\\item[PC6] 0.00200393723867022\n",
       "\\item[PC17] 0.00133197003048535\n",
       "\\item[PC13] 0.00130211992478013\n",
       "\\item[PC19] 0.000861469737945236\n",
       "\\item[PC16] 0.000611031680643521\n",
       "\\item[PC10] 0.000234631717167552\n",
       "\\item[PC18] 1.65949777738434e-05\n",
       "\\end{description*}\n"
      ],
      "text/markdown": [
       "PC1\n",
       ":   0.41678842297997PC5\n",
       ":   0.235106720948803PC2\n",
       ":   0.0773445180467176PC3\n",
       ":   0.0684074652150692PC9\n",
       ":   0.0453799261666502PC4\n",
       ":   0.0360510099215454PC8\n",
       ":   0.034368830972644PC14\n",
       ":   0.0328289267609442PC11\n",
       ":   0.020022510920904PC12\n",
       ":   0.0112641712112086PC20\n",
       ":   0.00948448187724242PC15\n",
       ":   0.0038413132324121PC7\n",
       ":   0.00274994643842271PC6\n",
       ":   0.00200393723867022PC17\n",
       ":   0.00133197003048535PC13\n",
       ":   0.00130211992478013PC19\n",
       ":   0.000861469737945236PC16\n",
       ":   0.000611031680643521PC10\n",
       ":   0.000234631717167552PC18\n",
       ":   1.65949777738434e-05\n",
       "\n"
      ],
      "text/plain": [
       "         PC1          PC5          PC2          PC3          PC9          PC4 \n",
       "4.167884e-01 2.351067e-01 7.734452e-02 6.840747e-02 4.537993e-02 3.605101e-02 \n",
       "         PC8         PC14         PC11         PC12         PC20         PC15 \n",
       "3.436883e-02 3.282893e-02 2.002251e-02 1.126417e-02 9.484482e-03 3.841313e-03 \n",
       "         PC7          PC6         PC17         PC13         PC19         PC16 \n",
       "2.749946e-03 2.003937e-03 1.331970e-03 1.302120e-03 8.614697e-04 6.110317e-04 \n",
       "        PC10         PC18 \n",
       "2.346317e-04 1.659498e-05 "
      ]
     },
     "metadata": {},
     "output_type": "display_data"
    }
   ],
   "source": [
    "ss <- anova(fit)[3:22, 2]\n",
    "names(ss) <- paste0(\"PC\", 1:20)\n",
    "ss_sorted <- sort(ss, decreasing = T)\n",
    "ss_pct <- ss_sorted / sum(ss_sorted)\n",
    "ss_pct"
   ]
  },
  {
   "cell_type": "code",
   "execution_count": 57,
   "metadata": {},
   "outputs": [],
   "source": [
    "unrelated_white <- unrelated[(unrelated$X21000.0.0 %in% c(1, 1001, 1002, 1003)),]\n",
    "keep <- unrelated_white[, c(\"eid\", \"hsi\", \"Sex\", \"Age\", paste0(\"PC\", c(1,5,2,3)))]\n",
    "keep <- keep[ rowSums(is.na(keep)) == 0, ]"
   ]
  },
  {
   "cell_type": "code",
   "execution_count": 58,
   "metadata": {},
   "outputs": [],
   "source": [
    "write.table(keep, \"/share/storage/FTND/UKBiobank/HeavinessSmokingIndex/phenotypes/HSI~Sex.Age.4EVs.white.txt\", row.names = FALSE, col.names = TRUE, quote = FALSE)\n",
    "write.table(keep$eid, \"/share/storage/FTND/UKBiobank/HeavinessSmokingIndex/phenotypes/HSI.white.samples\", row.names = FALSE, col.names = FALSE, quote = FALSE)\n",
    "mrBig <- read.table(\"/share/storage/FTND/UKBiobank/observed/rs16969968/ukb_rs16969968.mach.mldose\", stringsAsFactors = FALSE)\n",
    "keep$rs16969968 <- mrBig$V3[match(keep$eid, mrBig$V1)]\n",
    "keep <- keep[, c(\"eid\", \"hsi\", \"rs16969968\", \"Sex\", \"Age\", paste0(\"PC\", c(1,5,2,3)))]\n",
    "write.table(keep, \"/share/storage/FTND/UKBiobank/HeavinessSmokingIndex/phenotypes/HSI~rs16969968.Sex.Age.4EVs.white.txt\", row.names = FALSE, col.names = TRUE, quote = FALSE)\n"
   ]
  },
  {
   "cell_type": "code",
   "execution_count": 59,
   "metadata": {},
   "outputs": [
    {
     "data": {
      "text/html": [
       "<ol class=list-inline>\n",
       "\t<li>31854</li>\n",
       "\t<li>9</li>\n",
       "</ol>\n"
      ],
      "text/latex": [
       "\\begin{enumerate*}\n",
       "\\item 31854\n",
       "\\item 9\n",
       "\\end{enumerate*}\n"
      ],
      "text/markdown": [
       "1. 31854\n",
       "2. 9\n",
       "\n",
       "\n"
      ],
      "text/plain": [
       "[1] 31854     9"
      ]
     },
     "metadata": {},
     "output_type": "display_data"
    }
   ],
   "source": [
    "dim(keep)"
   ]
  }
 ],
 "metadata": {
  "kernelspec": {
   "display_name": "R",
   "language": "R",
   "name": "ir"
  },
  "language_info": {
   "codemirror_mode": "r",
   "file_extension": ".r",
   "mimetype": "text/x-r-source",
   "name": "R",
   "pygments_lexer": "r",
   "version": "3.5.1"
  }
 },
 "nbformat": 4,
 "nbformat_minor": 2
}
