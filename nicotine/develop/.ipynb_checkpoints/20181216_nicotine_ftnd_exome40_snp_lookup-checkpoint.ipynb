{
 "cells": [
  {
   "cell_type": "markdown",
   "metadata": {},
   "source": [
    "# Exome40 results to nicotine dependence\n",
    "\n",
    "**Author:** Jesse Marks\n",
    "\n",
    "We have preliminary results from a very large-scale genome-wide study for cigarette smoking phenotypes that relate to our nicotine dependence GWAS results. The study of interest is called `Meta-analysis of up to 622,409 individuals identifies 40 novel smoking behaviour associated genetic loci` by A. Mesut Erzurumluoglu1 et al. We're interested in seeing whether these 40 novel associations extend over to nicotine dependence (FTND).\n",
    "\n",
    "<br>\n",
    "\n",
    "Our FTND 1df meta-analysis results are located on AWS S3 at: \n",
    "`rti-nd/META/1df/20181108/results`"
   ]
  },
  {
   "cell_type": "markdown",
   "metadata": {},
   "source": [
    "## Download Data\n",
    "Create the directory structure and download the meta-analysis results to EC2. Also, create a list of SNPs for the lookup from the GSCAN Excel sheet. Copy the SNPs from each of the four Excel sheets (supplemental tables) into separate files and then combine them (no duplicates)."
   ]
  },
  {
   "cell_type": "code",
   "execution_count": null,
   "metadata": {},
   "outputs": [],
   "source": [
    "## EC2 ##\n",
    "\n",
    "# Create directory structure locally\n",
    "mkdir -p /shared/jmarks/nicotine/exome40/lookup/20181216\n",
    "\n",
    "# add the exome40 novel SNPs to a snp-lookup file (1000G_p3 format)\n",
    "touch combined-snp_list.tsv\n"
   ]
  },
  {
   "cell_type": "markdown",
   "metadata": {},
   "source": [
    "convert SNPs to 1000g_p3 format"
   ]
  },
  {
   "cell_type": "code",
   "execution_count": 6,
   "metadata": {},
   "outputs": [
    {
     "name": "stdout",
     "output_type": "stream",
     "text": [
      "rs141611945\t1:161771868\tG:A\n",
      "\n",
      "rs141611945:161771868:G:A\n",
      "rs1190736:136113464:A:C\n",
      "rs462779:111695887:A:G\n",
      "rs216195:2203167:G:T\n",
      "rs11539157:68381264:A:C\n",
      "rs12616219:104352495:A:C\n",
      "rs1150691:28168033:G:A\n",
      "rs2841334:128122320:A:G\n",
      "rs202664:41813886:C:T\n",
      "rs11895381:60053727:A:G\n",
      "rs12780116:104821946:A:G\n",
      "rs1514175:74991644:G:A\n",
      "rs7096169:104618695:G:A\n",
      "rs2292239:56482180:G:T\n",
      "rs216195:2203167:G:T\n",
      "rs2960306:2990499:T:G\n",
      "rs4908760:8526142:A:G\n",
      "rs6692219:179989584:C:G\n",
      "rs11971186:126437897:G:A\n",
      "rs150493199:179721072:A:T\n",
      "rs3001723:44037685:A:G\n",
      "rs1937455:66416939:G:A\n",
      "rs72720396:91191582:G:A\n",
      "rs6673752:154219177:C:G\n",
      "rs2947411:614168:G:A\n",
      "rs528301:45154908:A:G\n",
      "rs6738833:104150891:T:C\n",
      "rs13026471:137564022:T:C\n",
      "rs6724928:156005991:C:T\n",
      "rs13022438:162800372:G:A\n",
      "rs1869244:5724531:A:G\n",
      "rs35438712:85588205:T:C\n",
      "rs6883351:22193967:T:C\n",
      "rs6414946:87729711:C:A\n",
      "rs11747772:166992708:C:T\n",
      "rs9320995:98726381:G:A\n",
      "rs10255516:1675621:G:A\n",
      "rs10807839:3344629:G:A\n",
      "rs6965740:117514840:T:G\n",
      "rs11776293:27418429:T:C\n",
      "rs1562612:59817068:G:A\n",
      "rs3857914:93184065:C:T\n",
      "rs2799849:86752641:C:T\n",
      "rs6482190:22037809:A:G\n",
      "rs4523689:7950797:G:A\n",
      "rs933006:38350193:A:G\n",
      "rs557899:47643795:A:C\n",
      "rs76608582:4474725:A:C\n"
     ]
    }
   ],
   "source": [
    "import os\n",
    "os.chdir(\"C:\\\\Users\\\\jmarks\\\\Desktop\\\\Projects\\\\Nicotine\\\\exome40\")\n",
    "with open(\"20181216-nicotine-ftnd-exome40-snp-lookup.txt\") as inF, open(\"snp_list.txt\", \"w\") as outF:\n",
    "    head = inF.readline()\n",
    "    line = inF.readline()\n",
    "    while line:\n",
    "        rs = line.split()[0]\n",
    "        pos = line.split()[1]\n",
    "        pos = pos.split(\":\")[1]\n",
    "        a1a2 = line.split()[2]\n",
    "        newl = \"{}:{}:{}\".format(rs, pos, a1a2)\n",
    "        print(newl)\n",
    "        outF.write(newl + \"\\n\")\n",
    "        line = inF.readline()\n"
   ]
  },
  {
   "cell_type": "markdown",
   "metadata": {},
   "source": [
    "## SNP lookup\n",
    "The latest FTND meta-analysis results, as of 20181216, are at the location `/shared/jmarks/nicotine/meta/results/{aa,ea,cross}`. They are also on AWS S3 at: `s3://rti-nd/META/1df/20181108/results/{aa,ea,cross}`. If they had not been on my EC2 instance already I would have had to download the data from S3.\n",
    "\n",
    "I need to create a dictionary of the exome40 SNPs and then see if each SNP in the meta-analysis is in the dictionary. I think this makes more sense than vice-versa; in particular, creating a dictionary for each SNP in the meta-analysis and then searching to see if the exome SNPs are in the dictionary. This latter strategy would require a large amount of memory to create the Python dictionary. I think the former strategy makes more computational sense. \n",
    "\n",
    "Also note that there are some SNPs in the meta-analysis which have the format of `chr:position:a1:a2` instead of `rsid:position:a1:a2`. I think the reason is that these SNPs of the former format did not have an associated rsID available. "
   ]
  },
  {
   "cell_type": "markdown",
   "metadata": {},
   "source": [
    "### AA"
   ]
  },
  {
   "cell_type": "code",
   "execution_count": null,
   "metadata": {},
   "outputs": [],
   "source": [
    "### Python3 ###\n",
    "\"\"\"\n",
    "*SNP lookup*\n",
    "\n",
    "    Make sure the IDs are of the same format for the snp-list\n",
    "    and the IDs in the meta-analysis results. e.g. 1000g_p3 or rsID only\n",
    "\"\"\"\n",
    "import gzip\n",
    "\n",
    "################################################################################\n",
    "date = \"20181108\" # date the results were generated (in results files name)\n",
    "ancestry = \"ea\"\n",
    "\n",
    "if ancestry==\"aa\":\n",
    "    pop = \"afr\"\n",
    "elif ancestry==\"ea\":\n",
    "    pop = \"eur\"\n",
    "else:\n",
    "    pop = \"afr+eur\"\n",
    "\n",
    "## dict to hold exome40 snps and the number of times they were found.\n",
    "## we can tell which SNPs did not show up in any of the meta files\n",
    "exome40_dict =  {}\n",
    "out_dir = \"/shared/jmarks/nicotine/exome40/lookup/20181216\"\n",
    "snp_list = \"{}/snp_list.txt\".format(out_dir)\n",
    "\n",
    "for chrom in range(1,23):\n",
    "    out_file = \"{}/{}/{}-{}-chr{}-ftnd_meta_analysis-wave3-1df-exome40-lookup.txt\".format(out_dir, ancestry, date, pop, chrom)\n",
    "    results = \"{}_ftnd_meta_analysis_wave3.{}.chr{}.exclude_singletons.1df.gz\".format(date, pop, chrom)\n",
    "    meta = \"/shared/jmarks/nicotine/meta/results/{}/{}\".format(ancestry, results)\n",
    "    not_found = \"{}/{}/{}-{}-ftnd_meta_analysis_wave3-exome40-snps-not-found\".format(out_dir, ancestry, date, pop)\n",
    "################################################################################\n",
    "\n",
    "    with gzip.open(meta) as metF, open(snp_list) as exome40F, open(out_file, \"w\") as outF:\n",
    "        exome40_line = exome40F.readline()\n",
    "        met_head = metF.readline()\n",
    "        met_line = metF.readline()\n",
    "\n",
    "        outF.write(met_head)\n",
    "\n",
    "\n",
    "        ## create a dictionary containing the exome40 snps\n",
    "        if len(exome40_dict) == 0:\n",
    "            while exome40_line:\n",
    "                key = exome40_line.split()[0]\n",
    "                exome40_dict[key] = 0\n",
    "                exome40_line = exome40F.readline()\n",
    "\n",
    "\n",
    "        while met_line:\n",
    "            met_id = met_line.split()[0] # the 1000g_p3 ID in the meta-analysis\n",
    "\n",
    "            if met_id in exome40_dict:\n",
    "                exome40_dict[met_id] += 1\n",
    "                outF.write(met_line)\n",
    "            met_line = metF.readline()\n",
    "\n",
    "with open(not_found, \"w\") as notF:\n",
    "    for key, value in exome40_dict.items():\n",
    "        if value==0:\n",
    "            notF.write(key + \"\\n\")\n",
    "\n",
    "                                                                                                                                "
   ]
  },
  {
   "cell_type": "code",
   "execution_count": null,
   "metadata": {},
   "outputs": [],
   "source": [
    "### bash ###\n",
    "\n",
    "an=\"aa\"\n",
    "## submit job\n",
    "/shared/bioinformatics/software/scripts/qsub_job.sh \\\n",
    "    --job_name  exome40_${an}\\\n",
    "    --script_prefix $an/exome40-${an} \\\n",
    "    --mem 15 \\\n",
    "    --nslots 1 \\\n",
    "    --priority 0 \\\n",
    "    --program python extract_snps.py\n",
    "\n",
    "## merge results\n",
    "cd /shared/jmarks/nicotine/exome40/lookup/20181216/aa\n",
    "head -1 20181106-afr-chr1-ftnd_meta_analysis-wave3-1df-exome40-lookup.txt >\\\n",
    "    20181216-afr-ftnd-1df-meta_analysis-wave3-exome40-lookup-merged-results.txt\n",
    "    \n",
    "for file in 20181106-afr-chr{1..22}-ftnd_meta_analysis-wave3-1df-exome40-lookup.txt; do\n",
    "    tail -n +2 $file >> 20181216-afr-ftnd-1df-meta_analysis-wave3-exome40-lookup-merged-results.txt\n",
    "done"
   ]
  },
  {
   "cell_type": "markdown",
   "metadata": {},
   "source": [
    "### EA\n",
    "simply change the `ancestry, pop,` and `date` variables at the top of the script."
   ]
  },
  {
   "cell_type": "code",
   "execution_count": null,
   "metadata": {},
   "outputs": [],
   "source": [
    "### bash ### \n",
    "\n",
    "## merge results\n",
    "cd /shared/jmarks/nicotine/exome40/lookup/20181216/ea\n",
    "head -1 20181108-eur-chr1-ftnd_meta_analysis-wave3-1df-exome40-lookup.txt >\\\n",
    "    20181216-eur-ftnd-1df-meta_analysis-wave3-exome40-lookup-merged-results.txt\n",
    "    \n",
    "for file in 20181108-eur-chr{1..22}-ftnd_meta_analysis-wave3-1df-exome40-lookup.txt; do\n",
    "    tail -n +2 $file >> 20181216-eur-ftnd-1df-meta_analysis-wave3-exome40-lookup-merged-results.txt\n",
    "done"
   ]
  },
  {
   "cell_type": "markdown",
   "metadata": {},
   "source": [
    "### Cross-Ancestry\n",
    "simply change the `ancestry, pop,` and `date` variables at the top of the script."
   ]
  },
  {
   "cell_type": "code",
   "execution_count": null,
   "metadata": {},
   "outputs": [],
   "source": [
    "### bash ### \n",
    "\n",
    "## merge results\n",
    "cd /shared/jmarks/nicotine/exome40/lookup/20181216/cross\n",
    "head -1 20181108-afr+eur-chr1-ftnd_meta_analysis-wave3-1df-exome40-lookup.txt >\\\n",
    "    20181216-afr+eur-ftnd-1df-meta_analysis-wave3-exome40-lookup-merged-results.txt\n",
    "    \n",
    "for file in 20181108-afr+eur-chr{1..22}-ftnd_meta_analysis-wave3-1df-exome40-lookup.txt; do\n",
    "    tail -n +2 $file >> 20181216-afr+eur-ftnd-1df-meta_analysis-wave3-exome40-lookup-merged-results.txt\n",
    "done"
   ]
  }
 ],
 "metadata": {
  "kernelspec": {
   "display_name": "Python 3",
   "language": "python",
   "name": "python3"
  },
  "language_info": {
   "codemirror_mode": {
    "name": "ipython",
    "version": 3
   },
   "file_extension": ".py",
   "mimetype": "text/x-python",
   "name": "python",
   "nbconvert_exporter": "python",
   "pygments_lexer": "ipython3",
   "version": "3.6.4"
  },
  "toc": {
   "nav_menu": {},
   "number_sections": true,
   "sideBar": true,
   "skip_h1_title": false,
   "toc_cell": false,
   "toc_position": {
    "height": "628px",
    "left": "0px",
    "right": "1468px",
    "top": "107px",
    "width": "266px"
   },
   "toc_section_display": "block",
   "toc_window_display": false
  }
 },
 "nbformat": 4,
 "nbformat_minor": 2
}
