{
 "cells": [
  {
   "cell_type": "markdown",
   "id": "91af86ae-0079-4b72-89f3-a5dc7e66eedd",
   "metadata": {},
   "source": [
    "# Wave 3 FTND AA meta-analysis: exclude SAGE\n",
    "**Created by:** Jesse Marks \n",
    "\n",
    "**Results**: The results of this meta-analysis are on AWS S3 at: `s3://rti-nd/gwas_meta/categorical_ftnd/results/1df/`<br>\n",
    "\n",
    "**GitHub Issue:** [1df GWAS analyses](https://github.com/RTIInternational/bioinformatics/issues/55)<br>\n",
    "\n",
    "**Paper**: [B. Quach et al.](https://www.nature.com/articles/s41467-020-19265-z)\n",
    "\n",
    "Here we perform an AFR-specific meta-analysis.\n",
    "1. Peter Barr and colleagues are responding to reviewer critiques on this paper: https://www.medrxiv.org/content/10.1101/2022.01.27.22269750v1. FTND summary statistics were obtained via dbGaP approval, but in order to address reviewer critiques, they need SAGE removed from our African American-specific meta-analysis to avoid overlap with their primary data. Peter has requested a single leave-SAGE-out meta-analysis. The results would be used for polygenic score testing.\n",
    "The total sample count for the AFR-specific meta-analysis as published in Quach et al was 11,787. Excluding SAGE_AA (N=633, see [Supplementary Table 2](https://static-content.springer.com/esm/art%3A10.1038%2Fs41467-020-19265-z/MediaObjects/41467_2020_19265_MOESM1_ESM.pdf)) lowers the sample count to 11,154.\n",
    "\n",
    "**All AA FTND wave3 cohorts**\n",
    "```\n",
    "AAND_AFR (N=1,687)\n",
    "ADAA_AFR (N=1,145)\n",
    "COGEND_AFR (N=704)\n",
    "COGEND2_AFR (N=313)\n",
    "COPDGENE1_AFR (N=2,534)\n",
    "COPDGENE2_AFR (N=267) \n",
    "GAIN_AFR (N=477)\n",
    "JHS_ARIC_AFR (N=1,143)\n",
    "SAGE_AFR (N=633)\n",
    "UW_TTURC_AFR (N=247)\n",
    "YALE_PENN_AFR (N=2,637)\n",
    "```"
   ]
  },
  {
   "cell_type": "markdown",
   "id": "c3fb7153-e897-4099-8a01-c75f007f3171",
   "metadata": {},
   "source": [
    "## Description\n",
    "We will be utilizing the automated WDL workflow on GitHub:\n",
    "* https://github.com/RTIInternational/biocloud-wdl-workflows/tree/main/workflows/biocloud_gwas_workflows/meta_analysis/metal/gwas\n",
    "\n",
    "The GWAS summary statistics are on AWS S3:\n",
    "* s3://rti-nd/gwas/"
   ]
  },
  {
   "cell_type": "markdown",
   "id": "70514187-5e9d-4e08-88dd-74299b6dba91",
   "metadata": {},
   "source": [
    "## Data Munging\n",
    "The GWAS summary statistics for each cohort are separated by chromosome. However, the automated workflow requires that each cohort's summary statitics be combined into one file. Therefore, we will need to perform some data munging. "
   ]
  },
  {
   "cell_type": "markdown",
   "id": "251fa4c5-ab14-48cc-b6dd-358ca5d4f408",
   "metadata": {},
   "source": [
    "### AAND\n",
    "\n",
    "Initiated restore."
   ]
  },
  {
   "cell_type": "markdown",
   "id": "ebf22aa7-29ee-45db-957c-7c7890f99584",
   "metadata": {},
   "source": [
    "### ADAA\n",
    "\n",
    "Initiated restore."
   ]
  },
  {
   "cell_type": "markdown",
   "id": "571b178f-2859-4b19-b530-715ac90738f0",
   "metadata": {},
   "source": [
    "### COGEND\n",
    "\n",
    "Initiated restore."
   ]
  },
  {
   "cell_type": "markdown",
   "id": "c13462f2-6f90-47cf-9791-71da07ed5184",
   "metadata": {},
   "source": [
    "### COGEND2\n",
    "Initiated restore."
   ]
  },
  {
   "cell_type": "markdown",
   "id": "9dc1dc67-cbd0-4044-99b7-c915b3470237",
   "metadata": {},
   "source": [
    "### COPD_Gene1\n",
    "Initiated restore.\n",
    "\n",
    "Why is chromosome 16 empty?"
   ]
  },
  {
   "cell_type": "markdown",
   "id": "6f8fcad3-bc12-48f6-8a89-43dad2eb4689",
   "metadata": {},
   "source": [
    "### COPD_Gene2\n",
    "Initiated restore."
   ]
  },
  {
   "cell_type": "markdown",
   "id": "c3abd0a9-b43e-42d1-a5e2-7677cde61a91",
   "metadata": {},
   "source": [
    "### GAIN\n",
    "Initiated restore."
   ]
  },
  {
   "cell_type": "markdown",
   "id": "df6efa8c-d48c-4355-ac07-4eeeefe8027e",
   "metadata": {},
   "source": [
    "### JHS_ARIC\n",
    "Initiated restore."
   ]
  },
  {
   "cell_type": "markdown",
   "id": "567f44ac-11e7-4617-8b36-862e3fb95ea9",
   "metadata": {},
   "source": [
    "### UW_TTURC\n",
    "Initiated restore."
   ]
  },
  {
   "cell_type": "markdown",
   "id": "dcdd1262-4cff-43ca-aeba-83118854d025",
   "metadata": {},
   "source": [
    "### Yale-Penn\n",
    "Initiated restore."
   ]
  }
 ],
 "metadata": {
  "kernelspec": {
   "display_name": "R",
   "language": "R",
   "name": "ir"
  },
  "language_info": {
   "codemirror_mode": "r",
   "file_extension": ".r",
   "mimetype": "text/x-r-source",
   "name": "R",
   "pygments_lexer": "r",
   "version": "4.0.3"
  }
 },
 "nbformat": 4,
 "nbformat_minor": 5
}
