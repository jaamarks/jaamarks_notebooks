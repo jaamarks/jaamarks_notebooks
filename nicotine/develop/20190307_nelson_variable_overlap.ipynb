{
 "cells": [
  {
   "cell_type": "code",
   "execution_count": 70,
   "metadata": {},
   "outputs": [
    {
     "data": {
      "text/html": [
       "<table>\n",
       "<thead><tr><th scope=col>iid</th><th scope=col>FTND</th><th scope=col>alcabuse</th><th scope=col>alcoholdep4</th></tr></thead>\n",
       "<tbody>\n",
       "\t<tr><td>124153</td><td>0     </td><td>1     </td><td>1     </td></tr>\n",
       "\t<tr><td>153753</td><td>0     </td><td>1     </td><td>1     </td></tr>\n",
       "\t<tr><td>141752</td><td>0     </td><td>2     </td><td>1     </td></tr>\n",
       "\t<tr><td> 32552</td><td>0     </td><td>1     </td><td>1     </td></tr>\n",
       "\t<tr><td>104552</td><td>0     </td><td>1     </td><td>1     </td></tr>\n",
       "\t<tr><td>104802</td><td>0     </td><td>2     </td><td>1     </td></tr>\n",
       "</tbody>\n",
       "</table>\n"
      ],
      "text/latex": [
       "\\begin{tabular}{r|llll}\n",
       " iid & FTND & alcabuse & alcoholdep4\\\\\n",
       "\\hline\n",
       "\t 124153 & 0      & 1      & 1     \\\\\n",
       "\t 153753 & 0      & 1      & 1     \\\\\n",
       "\t 141752 & 0      & 2      & 1     \\\\\n",
       "\t  32552 & 0      & 1      & 1     \\\\\n",
       "\t 104552 & 0      & 1      & 1     \\\\\n",
       "\t 104802 & 0      & 2      & 1     \\\\\n",
       "\\end{tabular}\n"
      ],
      "text/markdown": [
       "\n",
       "iid | FTND | alcabuse | alcoholdep4 | \n",
       "|---|---|---|---|---|---|\n",
       "| 124153 | 0      | 1      | 1      | \n",
       "| 153753 | 0      | 1      | 1      | \n",
       "| 141752 | 0      | 2      | 1      | \n",
       "|  32552 | 0      | 1      | 1      | \n",
       "| 104552 | 0      | 1      | 1      | \n",
       "| 104802 | 0      | 2      | 1      | \n",
       "\n",
       "\n"
      ],
      "text/plain": [
       "  iid    FTND alcabuse alcoholdep4\n",
       "1 124153 0    1        1          \n",
       "2 153753 0    1        1          \n",
       "3 141752 0    2        1          \n",
       "4  32552 0    1        1          \n",
       "5 104552 0    1        1          \n",
       "6 104802 0    2        1          "
      ]
     },
     "metadata": {},
     "output_type": "display_data"
    },
    {
     "data": {
      "text/html": [
       "1138"
      ],
      "text/latex": [
       "1138"
      ],
      "text/markdown": [
       "1138"
      ],
      "text/plain": [
       "[1] 1138"
      ]
     },
     "metadata": {},
     "output_type": "display_data"
    }
   ],
   "source": [
    "setwd(\"/Users/jmarks/OneDrive - Research Triangle Institute/Projects/Nicotine/nelson/\")\n",
    "alcohol <- read.table(\"20190307.nicotine.nelson.alcabuse+alcoholdep4+ftnd.overlap.txt\", header=T)\n",
    "\n",
    "head(alcohol)\n",
    "length(alcohol$FTND)"
   ]
  },
  {
   "cell_type": "code",
   "execution_count": 77,
   "metadata": {},
   "outputs": [
    {
     "data": {
      "image/png": "[encoded data removed]",
      "text/plain": [
       "Plot with title \"Alcohol Dependence (alcoholdep4) overlap with FTND\""
      ]
     },
     "metadata": {},
     "output_type": "display_data"
    }
   ],
   "source": [
    "mycols <- c(\"FTND_0\", \"FTND_1\", \"FTND_2\")\n",
    "myrows <- c(\"case\", \"control\")\n",
    "mydf <- data.frame(matrix(ncol = 3, nrow = 2))\n",
    "colnames(mydf) <- mycols\n",
    "row.names(mydf) <- myrows\n",
    "\n",
    "for (ftnd_score in 0:2) {\n",
    "    control_count <- 0\n",
    "    case_count <- 0\n",
    "    for (score in 1:length(alcohol$FTND)) {\n",
    "       if (alcohol$FTND[score] == ftnd_score){\n",
    "           if (alcohol$alcoholdep4[score] == 1) {\n",
    "               control_count <- control_count + 1\n",
    "           }\n",
    "           else {\n",
    "               case_count <- case_count + 1\n",
    "           }\n",
    "       }\n",
    "    }\n",
    "    mydf[1, ftnd_score + 1] <- case_count\n",
    "    mydf[2, ftnd_score + 1] <- control_count\n",
    "}\n",
    "\n",
    "#hist(alcohol$FTND)\n",
    "\n",
    "ylim = 1.1*c(0, max(mydf))\n",
    "x <- barplot(as.matrix(mydf), main=\"Alcohol Dependence (alcoholdep4) overlap with FTND\",\n",
    "  xlab=\"FTND Score\", col=c(\"darkblue\",\"red\"), ylab=\"Frequency\",\n",
    "  legend = rownames(mydf), beside=TRUE, ylim=ylim)\n",
    "\n",
    "y<-as.matrix(mydf)\n",
    "\n",
    "text(x, y+22,labels=as.character(y))"
   ]
  }
 ],
 "metadata": {
  "kernelspec": {
   "display_name": "R",
   "language": "R",
   "name": "ir"
  },
  "language_info": {
   "codemirror_mode": "r",
   "file_extension": ".r",
   "mimetype": "text/x-r-source",
   "name": "R",
   "pygments_lexer": "r",
   "version": "3.5.1"
  },
  "toc": {
   "nav_menu": {},
   "number_sections": true,
   "sideBar": true,
   "skip_h1_title": false,
   "toc_cell": false,
   "toc_position": {},
   "toc_section_display": "block",
   "toc_window_display": false
  }
 },
 "nbformat": 4,
 "nbformat_minor": 2
}
