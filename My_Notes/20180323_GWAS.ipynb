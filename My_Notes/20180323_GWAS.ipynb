{
 "cells": [
  {
   "cell_type": "markdown",
   "metadata": {},
   "source": [
    "# PLOS Ch. 11: Genome-Wide Association Studies (GWAS)\n",
    "__Author__: Jesse Marks\n",
    "\n",
    "This document is intended as a learning tool and for personal use only. Therefore, some of the material in here may be directory from a source without citation."
   ]
  },
  {
   "cell_type": "markdown",
   "metadata": {
    "collapsed": true
   },
   "source": [
    "GWAS have evolved in the last 10 years into a powerful tool for investigating the architecture of human disease.\n"
   ]
  },
  {
   "cell_type": "markdown",
   "metadata": {},
   "source": [
    "## Important questions in human genetics\n",
    "\n",
    "There is one central goals of human genetics. The goal is to identify genetic risk factors for complex and rare diseases. There are many different approaches and GWAS is one approach which analyzes the DNA sequence variations accross the entire genome. There is one ultimate goal of GWAS as well. That goal is to \n",
    "* identify genetic risk factors and to be able to make predictions about who is at risk and better understand the biological underpinnings of disease so that new medicine and preventative practices can be implemented.\n",
    "\n",
    "Another application of GWAS, aside from identifying risk factors for complex diseases, is to identify genomic variations which influence the metabolism and efficacy of certain drugs. This is giving rise to personalized medicine which bases healthcare decisions based off of a persons genetic makeup. "
   ]
  },
  {
   "cell_type": "code",
   "execution_count": null,
   "metadata": {
    "collapsed": true
   },
   "outputs": [],
   "source": []
  }
 ],
 "metadata": {
  "kernelspec": {
   "display_name": "Python 3",
   "language": "python",
   "name": "python3"
  },
  "language_info": {
   "codemirror_mode": {
    "name": "ipython",
    "version": 3
   },
   "file_extension": ".py",
   "mimetype": "text/x-python",
   "name": "python",
   "nbconvert_exporter": "python",
   "pygments_lexer": "ipython3",
   "version": "3.6.3"
  },
  "toc": {
   "nav_menu": {},
   "number_sections": true,
   "sideBar": true,
   "skip_h1_title": false,
   "toc_cell": false,
   "toc_position": {},
   "toc_section_display": "block",
   "toc_window_display": false
  }
 },
 "nbformat": 4,
 "nbformat_minor": 2
}
