{
 "cells": [
  {
   "cell_type": "markdown",
   "metadata": {},
   "source": [
    "# PLOS Ch. 11: Genome-Wide Association Studies (GWAS)\n",
    "__Author__: Jesse Marks\n",
    "\n",
    "This document is intended as a learning tool and for personal use only. Therefore, some of the material in here may be directory from a source without citation."
   ]
  },
  {
   "cell_type": "markdown",
   "metadata": {
    "collapsed": true
   },
   "source": [
    "GWAS have evolved in the last 10 years into a powerful tool for investigating the architecture of human disease.\n"
   ]
  },
  {
   "cell_type": "markdown",
   "metadata": {},
   "source": [
    "## Important questions in human genetics\n",
    "\n",
    "There is one central goals of human genetics. The goal is to identify genetic risk factors for complex and rare diseases. __Note__: a Mendelian disease is a disease which is the result of a mutation at one locus in the genome. There are many different approaches and GWAS is one approach which analyzes the DNA sequence variations accross the entire genome. There is one ultimate goal of GWAS as well. That goal is to \n",
    "* identify genetic risk factors and to be able to make predictions about who is at risk and better understand the biological underpinnings of disease so that new medicine and preventative practices can be implemented.\n",
    "\n",
    "Another application of GWAS, aside from identifying risk factors for complex diseases, is to identify genomic variations which influence the metabolism and efficacy of certain drugs. This is giving rise to personalized medicine which bases healthcare decisions based off of a persons genetic makeup. "
   ]
  },
  {
   "cell_type": "markdown",
   "metadata": {},
   "source": [
    "## Concepts Underlying the Study Design\n",
    "### SNPs\n",
    "SNPs are typically used as markers of a genomic region, with a large majority of them having a minimal impact on biological systems. They can, however, have some significant effects too. They are the most abundant form of genetic variation in the genome. SNPs are *common* genetic variants. Variants (rare) that occur very infrequently in a population are called *mutations*.\n",
    "\n",
    "### Failures of Linkage for Complex Disease\n",
    "Most rare genetic disorders can be caused be multiple different genetic variants in a gene. *Linkage analysis* is the examination of a segregating collection variants with a complex disease.\n",
    "\n",
    "### Common Disease Commaon Variant Hypothesis\n",
    "Common disorders are influenced by variants that are common in the population. \n",
    "* common variants have low penetrance\n",
    "* total genetic risk due to common genetic variants must be spread across multiple genetic factors"
   ]
  },
  {
   "cell_type": "markdown",
   "metadata": {
    "collapsed": true
   },
   "source": [
    "## Capturing Common Variation\n",
    "### The Human Haplotype Map Project\n",
    "\n",
    "The Internation HapMap Project was designed to identify variation across the genome and to characterize correlations among variants. These data allow the examination of *linkage disequilibrium*.\n",
    "\n",
    "### Linkage Disequilibrium (LD)\n",
    "LD describes the degree to which an allele of a SNP is inherited together or is correlated with an allele of another SNP, usually in close proximity. *Linkage equilibrium* of two alleles means that they are independent. Different human sub-populations have different degrees of patterns of LD. African ancestry is the oldest and therefore has fewer number of LD alleles. European ancestries have larger regions of LD than African because they have had fewer generations. Calculating LD is essential the degree of difference between the observed frequency of co-occurance for two alleles vs expected frequency if those two were independent."
   ]
  },
  {
   "cell_type": "code",
   "execution_count": null,
   "metadata": {
    "collapsed": true
   },
   "outputs": [],
   "source": []
  }
 ],
 "metadata": {
  "kernelspec": {
   "display_name": "Python 3",
   "language": "python",
   "name": "python3"
  },
  "language_info": {
   "codemirror_mode": {
    "name": "ipython",
    "version": 3
   },
   "file_extension": ".py",
   "mimetype": "text/x-python",
   "name": "python",
   "nbconvert_exporter": "python",
   "pygments_lexer": "ipython3",
   "version": "3.6.3"
  },
  "toc": {
   "nav_menu": {},
   "number_sections": true,
   "sideBar": true,
   "skip_h1_title": false,
   "toc_cell": false,
   "toc_position": {},
   "toc_section_display": "block",
   "toc_window_display": false
  }
 },
 "nbformat": 4,
 "nbformat_minor": 2
}
