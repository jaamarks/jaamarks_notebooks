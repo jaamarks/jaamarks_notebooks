{
 "cells": [
  {
   "cell_type": "markdown",
   "metadata": {},
   "source": [
    "# Artificial Intelligence\n",
    "AI is already around us in subtle ways. \n",
    "\n",
    "**def**: Intelligent behavior in an autonomous agent.\n",
    "\n",
    "* AI is not the robot (hardware), it is the brain (software).\n",
    "\n",
    "AGI, or artificial general intelligence is what we are shooting for. This is when AI will be indistiguishable from humans.\n",
    "\n",
    "The are some cornerstones of AI which include:\n",
    "\n",
    "1) Machine Learning\n",
    "\n",
    "2) Deep Learning\n",
    "\n",
    "3) Natural Language Understanding,\n",
    "\n",
    "4) Context Awareness,\n",
    "\n",
    "5) Data Privacy"
   ]
  },
  {
   "cell_type": "markdown",
   "metadata": {},
   "source": [
    "AI is the machinification of humans."
   ]
  },
  {
   "cell_type": "markdown",
   "metadata": {},
   "source": [
    "## Machine Learning\n",
    "This is a component of AI. ML is the ability of an algorithm to learn from prior data in order to produce some behavior.\n",
    "\n",
    "There are different kinds of ML. One is called **supervised machine learning**. This is when you feed the algorithm some training data and tell it what the right decision is. After the model has been trained, you feed it new data and hopefully it will be able to make a well-informed decision."
   ]
  },
  {
   "cell_type": "markdown",
   "metadata": {},
   "source": [
    "## Deep Learning\n",
    "This is a branch of ML. Artificial neurons find patterns in the data similar to how neurons in the brain would. The more layers of artificial neurons there are, the better the model is to be able to learn increasingly abstract concepts."
   ]
  },
  {
   "cell_type": "markdown",
   "metadata": {},
   "source": [
    "## Natural Language Processing\n",
    "Human communication is not straight forward and therefore is very complex because if its dependence on context. Once AI can communicate with humans efficiently, there will be many complex questions decoded."
   ]
  },
  {
   "cell_type": "code",
   "execution_count": null,
   "metadata": {
    "collapsed": true
   },
   "outputs": [],
   "source": []
  },
  {
   "cell_type": "code",
   "execution_count": null,
   "metadata": {
    "collapsed": true
   },
   "outputs": [],
   "source": []
  },
  {
   "cell_type": "code",
   "execution_count": null,
   "metadata": {
    "collapsed": true
   },
   "outputs": [],
   "source": []
  },
  {
   "cell_type": "code",
   "execution_count": null,
   "metadata": {
    "collapsed": true
   },
   "outputs": [],
   "source": [
    "\n",
    "\n",
    "\n",
    "\n",
    "\n",
    "\n",
    "\n",
    "\n",
    "\n",
    "\n",
    "\n",
    "\n",
    "\n",
    "\n",
    "\n",
    "\n",
    "\n",
    "\n",
    "\n",
    "\n",
    "\n",
    "\n",
    "\n",
    "\n",
    "\n",
    "\n",
    "\n",
    "\n",
    "\n",
    "\n",
    "\n",
    "\n",
    "\n",
    "\n",
    "\n",
    "\n",
    "\n",
    "\n",
    "\n",
    "\n",
    "\n",
    "\n",
    "\n",
    "\n",
    "\n",
    "\n",
    "\n",
    "\n",
    "\n",
    "\n",
    "\n"
   ]
  }
 ],
 "metadata": {
  "kernelspec": {
   "display_name": "R",
   "language": "R",
   "name": "ir"
  },
  "language_info": {
   "codemirror_mode": "r",
   "file_extension": ".r",
   "mimetype": "text/x-r-source",
   "name": "R",
   "pygments_lexer": "r",
   "version": "3.4.1"
  },
  "toc": {
   "nav_menu": {},
   "number_sections": true,
   "sideBar": true,
   "skip_h1_title": false,
   "toc_cell": false,
   "toc_position": {},
   "toc_section_display": "block",
   "toc_window_display": false
  }
 },
 "nbformat": 4,
 "nbformat_minor": 2
}
