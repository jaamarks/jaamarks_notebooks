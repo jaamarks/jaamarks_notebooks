{
 "cells": [
  {
   "cell_type": "markdown",
   "metadata": {},
   "source": [
    "# NIDA (National Institute of Drug Abuse) Genetics Consortium (NGC)\n",
    "NGC protocol for analyzing a small set of opioid addition (OA) phenotypes using the larges meta-analysis to date. The effort is to identify novel genome-wide significant associations. The meta-analysis will be conducted by the Integrative Genomics Group (us) here at RTI.\n",
    "\n",
    "The three phenotypes are:\n",
    "1. OA cases vs all controls\n",
    "2. OA cases vs opioid-exposed controls\n",
    "3. frequency of opioid use (FOU) among users. \n",
    "\n",
    "Cohorts level analysis will be stratified by ancestry."
   ]
  },
  {
   "cell_type": "markdown",
   "metadata": {},
   "source": [
    "## Software\n",
    "* 1000 Genomes phase 3 imputation using Michigan Imputation Server (MIS)\n",
    "    * SHAPTEIT for phasing & Minimac3 for imputation on in-house conducted analysis"
   ]
  },
  {
   "cell_type": "markdown",
   "metadata": {},
   "source": [
    "## Data Set Preparation\n",
    "### Genotypes\n",
    "#### Array\n",
    "Need info on array used and manufacturer of chip along with >200k markers.\n",
    "#### Multiple Arrays used in same cohort\n",
    "If no overlap, analyze the studies separately. If all samples overlap, use best array and merge. If partial overlap, use intersection.\n",
    "#### Genotype QC\n",
    "QC is up to the discretion of each individual sight.\n"
   ]
  }
 ],
 "metadata": {
  "kernelspec": {
   "display_name": "R",
   "language": "R",
   "name": "ir"
  },
  "language_info": {
   "codemirror_mode": "r",
   "file_extension": ".r",
   "mimetype": "text/x-r-source",
   "name": "R",
   "pygments_lexer": "r",
   "version": "3.4.2"
  },
  "toc": {
   "nav_menu": {},
   "number_sections": true,
   "sideBar": true,
   "skip_h1_title": false,
   "toc_cell": false,
   "toc_position": {},
   "toc_section_display": "block",
   "toc_window_display": false
  }
 },
 "nbformat": 4,
 "nbformat_minor": 2
}
