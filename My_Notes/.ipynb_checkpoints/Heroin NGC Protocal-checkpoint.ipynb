{
 "cells": [
  {
   "cell_type": "markdown",
   "metadata": {},
   "source": [
    "# NIDA (National Institute of Drug Abuse) Genetics Consortium (NGC)\n",
    "NGC protocol for analyzing a small set of opioid addition (OA) phenotypes using the larges meta-analysis to date. The effort is to identify novel genome-wide significant associations. The meta-analysis will be conducted by the Integrative Genomics Group (us) here at RTI.\n",
    "\n",
    "The three phenotypes are:\n",
    "1. OA cases vs all controls\n",
    "2. OA cases vs opioid-exposed controls\n",
    "3. frequency of opioid use (FOU) among users. \n",
    "\n",
    "Cohorts level analysis will be stratified by ancestry."
   ]
  },
  {
   "cell_type": "markdown",
   "metadata": {},
   "source": [
    "## Software\n",
    "* 1000 Genomes phase 3 imputation using Michigan Imputation Server (MIS)\n",
    "    * SHAPTEIT for phasing & Minimac3 for imputation on in-house conducted analysis"
   ]
  },
  {
   "cell_type": "markdown",
   "metadata": {},
   "source": [
    "## Data Set Preparation\n",
    "\n",
    "### Genotypes\n",
    "#### Array\n",
    "Need info on array used and manufacturer of chip along with >200k markers.\n",
    "#### Multiple Arrays used in same cohort\n",
    "If no overlap, analyze the studies separately. If all samples overlap, use best array and merge. If partial overlap, use intersection.\n",
    "#### Genotype QC\n",
    "QC is up to the discretion of each individual sight.\n",
    "#### Strand\n",
    "Very important - use GRCh37 forward strand. \n",
    "__Note__: Illumina TOP strand or illumina forward strand, ARE NOT the same as GRCH34 forward strand.\n",
    "#### Variant Call Format (VCF) files\n",
    "Can convert PLINK files to VCF using PLINK 1.9."
   ]
  },
  {
   "cell_type": "markdown",
   "metadata": {},
   "source": [
    "### Imputation\n",
    "Imputation will be with the 1000 Genome Phase 3 Reference Panel, which on MIS has indels and CNVs. It also has non-European ancestry reference panels.\n",
    "#### MIS\n",
    "Can specify reference panel, automatically performs QC checks, and is free.\n",
    "#### Downloading your imputed genotypes, info files, and QC report\n",
    "When MIS is finished running, I will get an email. The email will contain a password to decrypt the data. Make sure to download all of the files!"
   ]
  },
  {
   "cell_type": "markdown",
   "metadata": {},
   "source": [
    "### Defining Phenotypes & Covariates\n",
    "* OAall - all controls (1 controls, 2 OA cases)\n",
    "* OAexp - exposed, no history of addiction (1 opioid-exposed controls, 2 OA cases)\n",
    "* FOU - Frequency of use times used in past 30 days.\n",
    "\n",
    "For FOU data, they are typically skewed positively and need to be transformed to a normal distribution. Use Box-Cox transformation left-anchored at 1.0. R package MASS can help with this.\n",
    "\n",
    "To standardize for meta-analysis, I need to convert the Box-cox transformed phenotype for FOU to a z-score (mean 0 and unit variance). \n",
    "#### Covariates\n",
    "Sex and age are covariates in all analyses. Also include recruitment site (if multi-site) and genetic principal components (PCs) to adjust for potential population stratification (should not be stratification in controls, mind you). Note that I can add other covariates as needed, example comorbid substance use disorders."
   ]
  },
  {
   "cell_type": "markdown",
   "metadata": {},
   "source": [
    "### Association Testing\n",
    "For each phenotype file created, you will also create a covariate file (one for each ancestry)."
   ]
  },
  {
   "cell_type": "code",
   "execution_count": 1,
   "metadata": {},
   "outputs": [
    {
     "data": {
      "text/html": [
       "'C:/Users/jmarks/Desktop/GitHub/jaamarks_notebooks/My_Notes'"
      ],
      "text/latex": [
       "'C:/Users/jmarks/Desktop/GitHub/jaamarks\\_notebooks/My\\_Notes'"
      ],
      "text/markdown": [
       "'C:/Users/jmarks/Desktop/GitHub/jaamarks_notebooks/My_Notes'"
      ],
      "text/plain": [
       "[1] \"C:/Users/jmarks/Desktop/GitHub/jaamarks_notebooks/My_Notes\""
      ]
     },
     "metadata": {},
     "output_type": "display_data"
    }
   ],
   "source": [
    "getwd()"
   ]
  },
  {
   "cell_type": "code",
   "execution_count": 5,
   "metadata": {},
   "outputs": [
    {
     "ename": "ERROR",
     "evalue": "Error in library(Biobase): there is no package called 'Biobase'\n",
     "output_type": "error",
     "traceback": [
      "Error in library(Biobase): there is no package called 'Biobase'\nTraceback:\n",
      "1. library(Biobase)",
      "2. stop(txt, domain = NA)"
     ]
    }
   ],
   "source": [
    "library(Biobase)\n",
    "openPDF(normalizePath(\"C:/Users/jmarks/Downloads/NGC OA GWAS Analysis Plan v2.0_20170927 BCQ NCG.pdf\"))\n"
   ]
  },
  {
   "cell_type": "code",
   "execution_count": null,
   "metadata": {
    "collapsed": true
   },
   "outputs": [],
   "source": []
  }
 ],
 "metadata": {
  "kernelspec": {
   "display_name": "R",
   "language": "R",
   "name": "ir"
  },
  "language_info": {
   "codemirror_mode": "r",
   "file_extension": ".r",
   "mimetype": "text/x-r-source",
   "name": "R",
   "pygments_lexer": "r",
   "version": "3.4.2"
  },
  "toc": {
   "nav_menu": {},
   "number_sections": true,
   "sideBar": true,
   "skip_h1_title": false,
   "toc_cell": false,
   "toc_position": {},
   "toc_section_display": "block",
   "toc_window_display": false
  }
 },
 "nbformat": 4,
 "nbformat_minor": 2
}
