{
 "cells": [
  {
   "cell_type": "markdown",
   "metadata": {},
   "source": [
    "# Using the ESN FIPS-mod environment\n",
    "**Author:** Jesse Marks\n",
    "\n",
    "This document contains notes and pertinent emails for gaining access to and using the new ESN FIPS-mod environment.\n",
    "\n",
    "For ESN VDI access you need to initiate that through MyServicePortal. Submit ticket for FIPS Moderate (MOD-VDI) account. You will need a charge code for monthly fee. After gaining access I received the following message:"
   ]
  },
  {
   "cell_type": "markdown",
   "metadata": {},
   "source": [
    "**Note**: Connection to Pulse before you log in to the FIPS Mod environment."
   ]
  },
  {
   "cell_type": "markdown",
   "metadata": {},
   "source": [
    "## Email Subject: Request Item RITM0084828 has been updated\n",
    "Hello Jesse:\n",
    "Your new FIPS-Moderate network virtual PC is now available.\n",
    "Your account has been added to FIPS-MOD-VDI Users security group which means you can start using the VDI environment today.\n",
    "Before you do anything else, I strongly suggest you update your Citrix Receiver to version 4.x first: https://www.citrix.com/products/receiver/ (This install will uninstall old versions too)\n",
    "Here are some of the key aspects of VDI:\n",
    "1. The web site link is https://fipsmodvdi.rti.ns/Citrix/storeWeb/. The Service Now/Help Desk documentation link is FIPS Mod VDI User Guide\n",
    "2. You will be a local admin on your own persistent PC desktop with a local profile. (in other words, you \"own\" this desktop and can install/customize it any way you see fit and your settings will be retained). This desktop replaces your ESN Published Desktop.\n",
    "3. Software that is not already installed on your virtual machine can be installed from the file share (see below) or by a request to the helpdesk. There is a list of software in the documentation which will tell you if it is installable or a HD request is required to have it \"pushed\" to your machine.\n",
    "4. \\\\esnwfil03\\VDI-software is a common area with many software packages that have already downloaded and moved into the MOD network. You can also SFTP downloaded software into the environment and store it there.\n",
    "5. ITS DTG or ITAM can be of assistance with software pushes and installs. Your VDI machine is a PC and is supported the same way as your local laptop or PC.\n",
    "6. NOTE: Do not Shut Down your VDI PC and only reboot it prompted by patching software –if you do shutdown or restart you VDI machine, expect a 5-10 minute delay before you will be able to get back in. On a regular basis, it is recommended your just Disconnect from your VDI desktop."
   ]
  },
  {
   "cell_type": "markdown",
   "metadata": {},
   "source": [
    "## Email Subject: Azure MOD HPC - Account Created\n",
    "George McConnell sent me the following message:\n",
    "\n",
    "```\n",
    "Jesse, Bryan, Christina-\n",
    "\n",
    "\n",
    " I have created your accounts on the Azure Moderate HPC cluster.\n",
    " \n",
    "\n",
    "Notes:\n",
    "\n",
    " \n",
    "\n",
    "Your initial group membership is ‘ftnd’.\n",
    "Project storage is available under /share/storage.\n",
    "i.e. - /share/storage/FTND\n",
    "Your project directory has a quota of 5TB\n",
    "Software is installed under /share/apps. \n",
    "i.e. - /share/apps/R\n",
    "Mail sent from the scheduler will be delivered to your ‘rti.org’ eMail address.\n",
    "The job scheduler is PBS Pro (Community Edition).  This has slightly different syntax than the schedulers on the other clusters. Please refer to the excellent documentation found below.\n",
    "https://pbsworks.com/pdfs/PBSUserGuide14.2.pdf\n",
    "https://pbsworks.com/pdfs/PBSRefGuide14.2.pdf\n",
    "All submitted jobs will default to 1GB memory and 1 CPU allocated if not specified during job submission. To request more resources:\n",
    "qsub -l mem=4gb,ncpus=4 (or define in script submission)\n",
    "There is currently one queue, workq, and all jobs will be submitted there by default.\n",
    "There are currently 8 compute nodes, n0-n7. They have 16 CPU and 112GB RAM.\n",
    "Your home directory has a quota of 7GB.\n",
    " \n",
    "\n",
    "To log into the head node (MSALMODHPC01), you must have an allocated Moderate VDI Desktop. From your MOD-VDI, you can find required software at \\\\esnwfil03\\VDI-Software . You should copy Putty and RealVNC Viewer to your VDI.\n",
    "\n",
    " \n",
    "\n",
    "You will use your RTI.NS domain username and password to log in (i.e. – jmarks/bquach/cmarkunas). There may be a pause between entering your password and successfully logging in. Please be patient.\n",
    "\n",
    " \n",
    "\n",
    "To get a VNC desktop, run RealVNC Viewer and connect to msalmodhpc01.rti.ns:5999. A VNC desktop will be provisioned and will be persistent when you disconnect (not logout); your running applications will continue to run when you disconnect. Continue to connect to the same address and port and you will be redirected to your persistent desktop.\n",
    "\n",
    " \n",
    "\n",
    "You can use Putty to connect to msalmodhpc01.rti.ns if you are comfortable with CLI and do not need a persistent session.\n",
    "\n",
    " \n",
    "\n",
    "My recommendation is to use a VNC desktop session. There can be infrequent disconnects between MOD-VDI and MSALMODHPC01 that will cause you to lose work if you are using an SSH CLI session without a terminal multiplexor such as GNU screen or tmux.\n",
    "```"
   ]
  },
  {
   "cell_type": "markdown",
   "metadata": {},
   "source": [
    "## Email Subject: HPC Status 12/1/2017\n",
    "\n",
    "John Guo email:\n",
    "```\n",
    "However, pbsnodes -l does not give me anything, unlike qhost gives the compute node load, memory use, etc. Qstat -a also does not give me anything\n",
    "```\n",
    "\n",
    "George McConnel reply:\n",
    "```\n",
    "Try ‘pbsnodes –a’. Additionally, you can run ‘pbsnodes –v n0’, ‘pbsnodes –S –a’. The –l option lists down or offline nodes. For ‘qstat’, I think you want ‘qstat –Q’, ‘qstat –Qf’, ‘qstat –asn’. The equivalent command to ‘qrsh’ would be ‘qsub –I’ (that is a capital i). I believe the equivalent for ‘qmod’ you are looking for is ‘qalter’. All of these commands have installed man pages. The man page for pbs_resources is also very informative.\n",
    "```"
   ]
  },
  {
   "cell_type": "markdown",
   "metadata": {},
   "source": [
    "### PBS job scheduler\n",
    "\n",
    "Documentation on PBS is [here](https://pbsworks.com/pdfs/PBSUserGuide14.2.pdf) and [here](https://pbsworks.com/pdfs/PBSRefGuide14.2.pdf)"
   ]
  },
  {
   "cell_type": "markdown",
   "metadata": {},
   "source": [
    "## Quick start\n",
    "* Connect to Pulse\n",
    "* login to the VDI environment (with citrix receiver) \n",
    "* using RealVNC Viewer, login to head node (MSALMODHPC01)\n",
    "* open terminal and go to /share/storage"
   ]
  },
  {
   "cell_type": "markdown",
   "metadata": {},
   "source": [
    "## File transfer with FildZilla\n",
    "[FileZilla](https://filezilla-project.org/index.php) is a free open source file transfer protocol (FTP) solution.\n",
    "\n",
    "The file transfer will be a two step process, namely:\n",
    " \n",
    "**local machine <-->  FIPS Mod environment  <-->  Azure HPC cluster**\n",
    "\n",
    "To transfer from Azure HPC to FIPS open FileZilla in the FIPS. The host is `msalmodhpc01.rti.ns`, choose SFTP PROTOCOL. The Port is `22`. Username is same as on local machine, ex. `jmarks`. Password is same as password to login to local machine. Click `quickconnect`. "
   ]
  },
  {
   "cell_type": "code",
   "execution_count": null,
   "metadata": {},
   "outputs": [],
   "source": []
  },
  {
   "cell_type": "markdown",
   "metadata": {},
   "source": [
    "# PBS\n",
    "[Here is a link](http://qcd.phys.cmu.edu/QCDcluster/pbs/run_serial.html) to a sample PBS script for serial job submission."
   ]
  },
  {
   "cell_type": "code",
   "execution_count": null,
   "metadata": {},
   "outputs": [],
   "source": []
  }
 ],
 "metadata": {
  "kernelspec": {
   "display_name": "R",
   "language": "R",
   "name": "ir"
  },
  "language_info": {
   "codemirror_mode": "r",
   "file_extension": ".r",
   "mimetype": "text/x-r-source",
   "name": "R",
   "pygments_lexer": "r",
   "version": "3.4.3"
  },
  "toc": {
   "nav_menu": {},
   "number_sections": true,
   "sideBar": true,
   "skip_h1_title": false,
   "toc_cell": false,
   "toc_position": {},
   "toc_section_display": "block",
   "toc_window_display": false
  }
 },
 "nbformat": 4,
 "nbformat_minor": 2
}
