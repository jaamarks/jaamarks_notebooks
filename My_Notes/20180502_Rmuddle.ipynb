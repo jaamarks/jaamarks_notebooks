{
 "cells": [
  {
   "cell_type": "markdown",
   "metadata": {},
   "source": [
    "# R muddle\n",
    "**Kasey Jones and Rob Chew**\n",
    "\n",
    "R offers a wide variety of statistical capabilities and visualizations. With over 12450 packages, a dynamic dashboarding tool in R-Shiny, and a growing community of R-users, R is increasingly becoming a popular choice for new and experienced programmers. Regardless of your statistical background, programming capabilities, or love for expensive programs such as SAS or Stata, this Muddle will offer a quick dive into how R is being used at RTI and the advantages this open-source software has over its competitors. We will spend time focusing on how to get started with R, the capabilities of the software that are already being used at RTI, and provide a quick demo of how R’s visualization offerings are truly limitless with the progression of the htmlwidgets package."
   ]
  },
  {
   "cell_type": "markdown",
   "metadata": {},
   "source": [
    "* R shiny dashboards\n",
    "\n",
    "R is actually a programming language\n",
    "\n",
    "It is on the rise as a language\n",
    "\n",
    "R is more popular and becoming more and more\n",
    "\n",
    "- it is free and open source\n",
    "- can do any kind of stat analysis\n",
    "* its an open source as you can get (free across the board)\n",
    "\n",
    "* all kinds of packages available\n",
    "\n",
    "* published two packages in the last year\n",
    "- rollmatch\n",
    "-mobforest\n",
    "\n",
    "* thousands more available on GitHub\n",
    "\n",
    "- R is where new things emerge (easyiest way to share work)\n",
    "* R is community driven (share it)\n",
    "\n",
    "* low bar of entry (simple framework)\n",
    "* runs on all platforms (windows mac linux)\n",
    "\n",
    "* R-studio is much cleaner than SAS IDE etc\n",
    "( user friendly errors  for debugging tools)\n",
    "\n",
    "( R struggles with memory management )"
   ]
  },
  {
   "cell_type": "markdown",
   "metadata": {},
   "source": [
    "## R-Shiny\n",
    "* dashboard visualization\n",
    "\n",
    "* quick and free\n",
    "\n",
    "* upload data\n",
    "* metafile data "
   ]
  },
  {
   "cell_type": "markdown",
   "metadata": {},
   "source": [
    "## Packages\n",
    "\n",
    "* framework for sharing function\n",
    "\n",
    "* To submit to CRAN (read Hadley R packages)\n",
    "    * recommended\n",
    "    - unit testing\n",
    "    - following a style guide: on Google\n",
    "    * required\n",
    "    -\n",
    "    \n",
    "* Good resume builder\n",
    "    - great for own workflow\n",
    "    \n",
    "    - if you find yourself doing something over and over make a function\n",
    "    - find yourself using same functions, make a package\n",
    "    "
   ]
  },
  {
   "cell_type": "markdown",
   "metadata": {},
   "source": [
    "## Rollmatch\n",
    "An R package for Rolling entry matching\n",
    "\n"
   ]
  },
  {
   "cell_type": "markdown",
   "metadata": {},
   "source": [
    "## Visualizations\n",
    "- ggplot2\n",
    "- plotly\n",
    "    * interactive (builds off of ggplot2)\n",
    "- Htmlwidges\n",
    "* D3 (interactive)\n",
    "\n",
    "Don't need a background in 10 different fields\n",
    "Don't need to be a software engineer with 20 hours to put it in an html\n"
   ]
  },
  {
   "cell_type": "markdown",
   "metadata": {},
   "source": [
    "# Resources\n",
    "* Datacamp\n",
    "* MOOC\n",
    " - edX\n",
    "* Books about R\n",
    " - R for Data Science\n",
    "* Swirl\n",
    " - code locally\n",
    " - working with the software to learn R\n",
    " - R package to learn how to learn R"
   ]
  },
  {
   "cell_type": "markdown",
   "metadata": {},
   "source": [
    "## Python nlp capabilities are more advanced\n",
    "* qualatative analysis should do in Python\n",
    "\n",
    "* QCA package on R that most people use"
   ]
  },
  {
   "cell_type": "code",
   "execution_count": null,
   "metadata": {},
   "outputs": [],
   "source": []
  }
 ],
 "metadata": {
  "kernelspec": {
   "display_name": "R",
   "language": "R",
   "name": "ir"
  },
  "language_info": {
   "codemirror_mode": "r",
   "file_extension": ".r",
   "mimetype": "text/x-r-source",
   "name": "R",
   "pygments_lexer": "r",
   "version": "3.4.3"
  },
  "toc": {
   "nav_menu": {},
   "number_sections": true,
   "sideBar": true,
   "skip_h1_title": false,
   "toc_cell": false,
   "toc_position": {},
   "toc_section_display": "block",
   "toc_window_display": false
  }
 },
 "nbformat": 4,
 "nbformat_minor": 2
}
