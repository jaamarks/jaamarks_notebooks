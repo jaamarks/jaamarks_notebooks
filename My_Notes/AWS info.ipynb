{
 "cells": [
  {
   "cell_type": "markdown",
   "metadata": {},
   "source": [
    "## Increase number of compute nodes \n",
    "Log into the cluster launcher and edit the `.cfncluster/config` file. Edit the line that says `max_queue_size`. You can check the limit on the number of compute nodes for your master instance by searching [EC2 Service Limits](https://console.aws.amazon.com/ec2/v2/home?region=us-east-1#Limits:). After editing your config file, you must perform the following command in the cluster launcher:\n",
    "\n",
    "`cfncluster update mycluster -t default`\n",
    "\n",
    "where mycluster would be what ever the name of your master instance is. For example, I created an instance named `428retirement`, So the command would be:\n",
    "\n",
    "`cfncluster update 428retirement -t default`\n",
    "\n",
    "See [here](http://cfncluster.readthedocs.io/en/latest/commands.html#update) for more information about cfncluster commands."
   ]
  },
  {
   "cell_type": "markdown",
   "metadata": {
    "collapsed": true
   },
   "source": [
    "## Login to a new compute node\n",
    "The simplest way to login to an interactive compute node is to `qrsh` into it."
   ]
  },
  {
   "cell_type": "code",
   "execution_count": 12,
   "metadata": {},
   "outputs": [
    {
     "ename": "ERROR",
     "evalue": "Error in parse(text = x, srcfile = src): <text>:5:3: unexpected string constant\n13: \n14: '\n      ^\n",
     "output_type": "error",
     "traceback": [
      "Error in parse(text = x, srcfile = src): <text>:5:3: unexpected string constant\n13: \n14: '\n      ^\nTraceback:\n"
     ]
    }
   ],
   "source": [
    "# command line\n",
    "qhost\n",
    "\n",
    "# output\n",
    "'''\n",
    "HOSTNAME                ARCH         NCPU NSOC NCOR NTHR  LOAD  MEMTOT  MEMUSE  SWAPTO  SWAPUS\n",
    "----------------------------------------------------------------------------------------------\n",
    "global                  -               -    -    -    -     -       -       -       -       -\n",
    "ip-172-31-17-41         lx-amd64        8    1    4    8     -   31.4G       -     0.0       -\n",
    "ip-172-31-22-254        lx-amd64        8    1    4    8     -   31.4G       -     0.0       -\n",
    "ip-172-31-23-82         lx-amd64        8    1    4    8     -   31.4G       -     0.0       -\n",
    "ip-172-31-31-193        lx-amd64        8    1    4    8  0.00   31.4G  260.4M     0.0     0.0\n",
    "\n",
    "'''\n",
    "\n",
    "# For a specific compute instance: Ex\n",
    "qrsh -l h='ip-172-31-31-193'\n",
    "\n",
    "# or just go to one by default by:\n",
    "qrsh"
   ]
  },
  {
   "cell_type": "code",
   "execution_count": null,
   "metadata": {
    "collapsed": true
   },
   "outputs": [],
   "source": []
  }
 ],
 "metadata": {
  "kernelspec": {
   "display_name": "R",
   "language": "R",
   "name": "ir"
  },
  "language_info": {
   "codemirror_mode": "r",
   "file_extension": ".r",
   "mimetype": "text/x-r-source",
   "name": "R",
   "pygments_lexer": "r",
   "version": "3.4.2"
  },
  "toc": {
   "nav_menu": {},
   "number_sections": true,
   "sideBar": true,
   "skip_h1_title": false,
   "toc_cell": false,
   "toc_position": {},
   "toc_section_display": "block",
   "toc_window_display": false
  }
 },
 "nbformat": 4,
 "nbformat_minor": 2
}
