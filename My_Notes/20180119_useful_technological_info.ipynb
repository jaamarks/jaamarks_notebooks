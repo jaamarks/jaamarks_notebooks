{
 "cells": [
  {
   "cell_type": "markdown",
   "metadata": {},
   "source": [
    "# Websites, Technology, & Software\n",
    "A compilation of websites, technology, and software I have found to be helpful or useful in some capacity."
   ]
  },
  {
   "cell_type": "markdown",
   "metadata": {},
   "source": [
    "**Author:** Jesse Marks\n",
    "\n",
    "This notebook is a compilation useful information, whether the the information is describe technology or tips for being more productive.\n",
    "\n",
    "*Disclaimer:* This is a personal notebook which you can use at your own descretion. Because this document is intended for personal use, some of the content may be direct text from unreferenced sources."
   ]
  },
  {
   "cell_type": "markdown",
   "metadata": {},
   "source": [
    "## Bash for Windows\n",
    "[Cygwin](https://cygwin.com/) (pronounced 'si-gwin) a large collection of GNU and Open Source tools which provide functionality similar to a Linux distribution on Windows. You can install Cygwin [here](https://cygwin.com/install.html)"
   ]
  },
  {
   "cell_type": "markdown",
   "metadata": {},
   "source": [
    "### apt-cyg\n",
    "You may have heard of programs like apt-get (Ubuntu), yum/dnf (Fedora), pacman (Arch), or brew (Mac OS X). These programs help manage the installation and upkeep of other command line programs on their respective operating system (for this reason, they are known as \"package managers\"). The analogous program for Cygwin is called apt-cyg.\n",
    "\n",
    "To install apt-cyg save the contents of [this file](https://raw.githubusercontent.com/transcode-open/apt-cyg/master/apt-cyg) in `/bin/apt-cyg`. Then run:"
   ]
  },
  {
   "cell_type": "code",
   "execution_count": null,
   "metadata": {
    "collapsed": true
   },
   "outputs": [],
   "source": [
    "# make apt-cyg executable\n",
    "chmod +x /bin/apt-cyg\n",
    "\n",
    "# set up apt-cyg to use the official repo when downloading programs\n",
    "apt-cyg mirror ftp://sourceware.org/pub/cygwin"
   ]
  },
  {
   "cell_type": "markdown",
   "metadata": {},
   "source": [
    "For more information about installation of `apt-cyg` see [this website](http://www.contrib.andrew.cmu.edu/~adbenson/setup.html)."
   ]
  },
  {
   "cell_type": "markdown",
   "metadata": {},
   "source": [
    "# Shell Programming and Scripting\n",
    "A compilation of helpful commands to execute in the terminal. Also includes explanation of concepts and examples."
   ]
  },
  {
   "cell_type": "markdown",
   "metadata": {
    "collapsed": true
   },
   "source": [
    "## AWK\n",
    "The name `AWK` comes from the initials of its designers: Alfred V. Aho, Peter J. Weinberger, and Brian W. Kernighan. The manual can be found on [here on GNU.org](https://www.gnu.org/software/gawk/manual/gawk.html). Essentially, AWK is a programming language designed for text processing and typically used as a data extraction and reporting tool. \n",
    "\n",
    "Below are some of the features of AWK I have used and found handy."
   ]
  },
  {
   "cell_type": "markdown",
   "metadata": {},
   "source": [
    "### OFS\n",
    "OFS in inbuid command in awk that stands for Output Field Separator Variable. Information for how this built in variable is used can be found [here on thegeekstuff.com](https://www.thegeekstuff.com/2010/01/8-powerful-awk-built-in-variables-fs-ofs-rs-ors-nr-nf-filename-fnr/?ref=binfind.com/web).\n",
    "\n",
    "What ever `OFS=` will separate the output fields."
   ]
  },
  {
   "cell_type": "code",
   "execution_count": null,
   "metadata": {
    "collapsed": true
   },
   "outputs": [],
   "source": [
    "# OFS example"
   ]
  },
  {
   "cell_type": "markdown",
   "metadata": {},
   "source": [
    "### Examples"
   ]
  },
  {
   "cell_type": "code",
   "execution_count": null,
   "metadata": {
    "collapsed": true
   },
   "outputs": [],
   "source": [
    "# change field one of file 1 ()\n",
    "awk 'NR==FNR{_[$2]=$5;next}$1 in _{$1=_[$1]}1' OFS=' ' Subject.MULTI.txt  phs000634_lung_cancer_id_sex_age_covar.txt.copy >\\\n",
    "file3.txt\n"
   ]
  }
 ],
 "metadata": {
  "kernelspec": {
   "display_name": "Python 3",
   "language": "python",
   "name": "python3"
  },
  "language_info": {
   "codemirror_mode": {
    "name": "ipython",
    "version": 3
   },
   "file_extension": ".py",
   "mimetype": "text/x-python",
   "name": "python",
   "nbconvert_exporter": "python",
   "pygments_lexer": "ipython3",
   "version": "3.6.3"
  },
  "toc": {
   "nav_menu": {},
   "number_sections": true,
   "sideBar": true,
   "skip_h1_title": false,
   "toc_cell": false,
   "toc_position": {},
   "toc_section_display": "block",
   "toc_window_display": false
  }
 },
 "nbformat": 4,
 "nbformat_minor": 2
}
