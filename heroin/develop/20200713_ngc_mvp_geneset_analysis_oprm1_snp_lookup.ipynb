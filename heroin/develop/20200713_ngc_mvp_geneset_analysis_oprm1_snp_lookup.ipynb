{
 "cells": [
  {
   "cell_type": "markdown",
   "metadata": {},
   "source": [
    "# OPRM1 comparison in MVP vs NGC GWAS results\n",
    "\n",
    "**Author**: Jesse Marks \n",
    "**GitHub Issue**: [152](https://github.com/RTIInternational/bioinformatics/issues/152)\n",
    "\n",
    "Analyze the [Million Vets Program](https://www.research.va.gov/mvp/) GWAS data for the NGC project.\n",
    "\n",
    "**MVP GWAS Results Location**: <br>\n",
    "`s3://rti-common/dbGaP/phs001672_mvp/RootStudyConsentSet_phs001672.MVP.v4.p1.c1.HMB-MDS/AnalysisFiles`\n"
   ]
  },
  {
   "cell_type": "markdown",
   "metadata": {
    "toc-hr-collapsed": true,
    "toc-nb-collapsed": true
   },
   "source": [
    "# MVP \n",
    "\n",
    "Look up the 798 SNPs that make up the OPRMI gene in the summary stats of the MVP results. We will perform this for each ancestry group. These SNPs were sent to me by Eric O. Johnson in a file titled `oaall_oprm1_magma_snps_EOJ.xlsx`.\n",
    "I stored this file on my local at: `~/Projects/heroin/ngc/oaall_oprm1_magma_snps_EOJ.xlsx`"
   ]
  },
  {
   "cell_type": "markdown",
   "metadata": {},
   "source": [
    "## OPRM1 SNP lookup"
   ]
  },
  {
   "cell_type": "code",
   "execution_count": null,
   "metadata": {},
   "outputs": [],
   "source": [
    "cd /shared/rti-heroin/gene_set_analysis/mvp/data/mvp\n",
    "aws s3 sync s3://rti-common/dbGaP/phs001672_mvp/RootStudyConsentSet_phs001672.MVP.v4.p1.c1.HMB-MDS/AnalysisFiles .\n",
    "\n",
    "for file in *; do\n",
    "    tar -xvzf $file\n",
    "done\n",
    "\n",
    "rm *z\n",
    "\n",
    "cd release/Submissions/sub20200313/\n",
    "ls  *z"
   ]
  },
  {
   "cell_type": "markdown",
   "metadata": {},
   "source": [
    "```\n",
    "OUD_AA_MVP1_Mar12.txt.gz       OUD_AA_MVP1_MVP2_YP_Mar12.txt.gz  OUD_EA_MVP1_Mar12.txt.gz       OUD_EA_MVP1_MVP2_YP_SAGE_Mar12.txt.gz  OUD_trans_ancestry_meta_Mar12.txt.gz\n",
    "OUD_AA_MVP1_MVP2_Mar12.txt.gz  OUD_AA_MVP2_Mar12.txt.gz          OUD_EA_MVP1_MVP2_Mar12.txt.gz  OUD_EA_MVP2_Mar12.txt.gz\n",
    "```"
   ]
  },
  {
   "cell_type": "code",
   "execution_count": null,
   "metadata": {},
   "outputs": [],
   "source": [
    "zcat /shared/rti-heroin/gene_set_analysis/mvp/data/mvp/release/Submissions/sub20200313/OUD_trans_ancestry_meta_Mar12.txt.gz  | head"
   ]
  },
  {
   "cell_type": "markdown",
   "metadata": {},
   "source": [
    "```\n",
    "SNP_ID  Chromosome      Position        Allele1 Allele2 EA      EAF     Effective_N     Original_N      Zscore  PValue  Direction\n",
    "rs3131972       1       752721  A       G       A       0.5755  18314.7 34411   1.031   0.3027  +-??+?+++-\n",
    "rs3115860       1       753405  A       C       A       0.7386  43502.8 106784  -1.117  0.2642  -+--?????+\n",
    "rs3131970       1       753425  T       C       T       0.2671  43203.4 106795  1.119   0.2632  +-++??????\n",
    "```"
   ]
  },
  {
   "cell_type": "code",
   "execution_count": null,
   "metadata": {},
   "outputs": [],
   "source": [
    "# copy oprm1 SNP list created from the Excel sheet to EC2\n",
    "scp -i ~/.ssh/gwas_rsa oprm1_snp_list.txt  ec2-user@34.195.174.206:/shared/rti-heroin/gene_set_analysis/mvp/data/oprm1/"
   ]
  },
  {
   "cell_type": "markdown",
   "metadata": {},
   "source": [
    "### AFR"
   ]
  },
  {
   "cell_type": "code",
   "execution_count": null,
   "metadata": {},
   "outputs": [],
   "source": [
    "ancestry=afr\n",
    "cd /shared/rti-heroin/gene_set_analysis/mvp/results/0001/$ancestry/\n",
    "\n",
    "docker run -it \\\n",
    "  -v \"/shared/rti-heroin/gene_set_analysis/mvp/data/:/data/mvp/\" \\\n",
    "  -v \"/shared/rti-heroin/gene_set_analysis/mvp/results/0001/$ancestry/:/results/\" \\\n",
    "    python:3.8.4  python /results/lookup.py"
   ]
  },
  {
   "cell_type": "code",
   "execution_count": null,
   "metadata": {},
   "outputs": [],
   "source": [
    "# Python3\n",
    "import gzip\n",
    "\n",
    "infile = \"/data/mvp/mvp/release/Submissions/sub20200313/OUD_AA_MVP1_MVP2_Mar12.txt.gz\"\n",
    "outfile = \"/results/oprm1_snps_in_mvp_oud_afr.txt\"\n",
    "snplist = \"/data/mvp/oprm1/oprm1_snp_list.txt\"\n",
    "\n",
    "with gzip.open(infile, \"rt\") as inF, open(outfile, \"w\") as outF, open(snplist) as inSNP:\n",
    "    head = inF.readline()\n",
    "    outF.write(head)\n",
    "    line = inF.readline()\n",
    "\n",
    "    snp_dic = dict()\n",
    "\n",
    "    inSNP.readline() # head\n",
    "    snp_line = inSNP.readline()\n",
    "    # populate dictionary \n",
    "    while snp_line:\n",
    "        sl = snp_line.split()\n",
    "        chrom = sl[1]; position = sl[2]\n",
    "        chrom_pos = \"{}:{}\".format(chrom, position)\n",
    "        snp_dic[chrom_pos] = snp_line\n",
    "        snp_line = inSNP.readline()\n",
    "\n",
    "    while line:\n",
    "        sl = line.split()\n",
    "        chrom = sl[1]; position = sl[2]\n",
    "        chrom_pos = \"{}:{}\".format(chrom, position)\n",
    "\n",
    "        if chrom_pos in snp_dic:\n",
    "            outF.write(line)\n",
    "        line = inF.readline()\n"
   ]
  },
  {
   "cell_type": "markdown",
   "metadata": {},
   "source": [
    "### EUR"
   ]
  },
  {
   "cell_type": "code",
   "execution_count": null,
   "metadata": {},
   "outputs": [],
   "source": [
    "ancestry=eur\n",
    "cd /shared/rti-heroin/gene_set_analysis/mvp/results/0001/$ancestry/\n",
    "\n",
    "docker run -it \\\n",
    "  -v \"/shared/rti-heroin/gene_set_analysis/mvp/data/:/data/mvp/\" \\\n",
    "  -v \"/shared/rti-heroin/gene_set_analysis/mvp/results/0001/$ancestry/:/results/\" \\\n",
    "    python:3.8.4  python /results/lookup.py"
   ]
  },
  {
   "cell_type": "code",
   "execution_count": null,
   "metadata": {},
   "outputs": [],
   "source": [
    "# Python3\n",
    "import gzip\n",
    "\n",
    "infile = \"/data/mvp/mvp/release/Submissions/sub20200313/OUD_EA_MVP1_MVP2_Mar12.txt.gz\"\n",
    "outfile = \"/results/oprm1_snps_in_mvp_oud_eur.txt\"\n",
    "snplist = \"/data/mvp/oprm1/oprm1_snp_list.txt\"\n",
    "\n",
    "with gzip.open(infile, \"rt\") as inF, open(outfile, \"w\") as outF, open(snplist) as inSNP:\n",
    "    head = inF.readline()\n",
    "    outF.write(head)\n",
    "    line = inF.readline()\n",
    "\n",
    "    snp_dic = dict()\n",
    "\n",
    "    inSNP.readline() # head\n",
    "    snp_line = inSNP.readline()\n",
    "    # populate dictionary \n",
    "    while snp_line:\n",
    "        sl = snp_line.split()\n",
    "        chrom = sl[1]; position = sl[2]\n",
    "        chrom_pos = \"{}:{}\".format(chrom, position)\n",
    "        snp_dic[chrom_pos] = snp_line\n",
    "        snp_line = inSNP.readline()\n",
    "\n",
    "    while line:\n",
    "        sl = line.split()\n",
    "        chrom = sl[1]; position = sl[2]\n",
    "        chrom_pos = \"{}:{}\".format(chrom, position)\n",
    "\n",
    "        if chrom_pos in snp_dic:\n",
    "            outF.write(line)\n",
    "        line = inF.readline()"
   ]
  },
  {
   "cell_type": "markdown",
   "metadata": {},
   "source": [
    "### Trans-ethnic"
   ]
  },
  {
   "cell_type": "code",
   "execution_count": null,
   "metadata": {},
   "outputs": [],
   "source": [
    "cd /shared/rti-heroin/gene_set_analysis/mvp/results/0001/trans/\n",
    "\n",
    "docker run -it \\\n",
    "  -v \"/shared/rti-heroin/gene_set_analysis/mvp/data/:/data/mvp/\" \\\n",
    "  -v \"/shared/rti-heroin/gene_set_analysis/mvp/results/0001/$ancestry/:/results/\" \\\n",
    "    python:3.8.4  python /results/lookup.py"
   ]
  },
  {
   "cell_type": "markdown",
   "metadata": {},
   "source": [
    "## OPRM1 Beta Comparison\n",
    "Compare the effect size between the AFR and EUR groups. We want to create a scatterplot of the SNP effect sizes with the intersection set. "
   ]
  },
  {
   "cell_type": "markdown",
   "metadata": {},
   "source": [
    "### P <= 0.05 in both"
   ]
  },
  {
   "cell_type": "code",
   "execution_count": null,
   "metadata": {},
   "outputs": [],
   "source": [
    "library(ggplot2)\n",
    "setwd(\"~/Projects/heroin/snp-lookup/0002/results/\")\n",
    "eur_df <- read.delim(\"eur/oprm1_snps_in_mvp_oud_eur.txt\", stringsAsFactors = F)\n",
    "afr_df <- read.delim(\"afr/oprm1_snps_in_mvp_oud_afr.txt\", stringsAsFactors = F)\n",
    "\n",
    "\n",
    "afr_sig <- afr_df[which(afr_df$PValue <= 0.05),]\n",
    "eur_sig <- eur_df[which(eur_df$PValue <= 0.05),]\n",
    "\n",
    "snp_intersection <- intersect(eur_sig$SNP_ID, afr_sig$SNP_ID)\n",
    "\n",
    "\n",
    "eur_final <- eur_sig[eur_sig$SNP_ID %in% snp_intersection, ]\n",
    "afr_final <- afr_sig[afr_sig$SNP_ID %in% snp_intersection, ]\n",
    "\n",
    "#identical(eur_final$SNP_ID,afr_final$SNP_ID)\n",
    "\n",
    "qplot(x = eur_final$Effect, y = afr_final$Effect,\n",
    "      colour = I(rgb(0,100,0,90, maxColorValue=255)),\n",
    "     main = \"OPRM1 SNP Effect Sizes in MVP AFR & EUR:\\nIn both and P≤0.05\",\n",
    "     xlab = \"EUR β\",\n",
    "     ylab = \"AFR β\",) +\n",
    "    theme(plot.title = element_text(hjust = 0.5))\n",
    "\n",
    "write.table(eur_final, file = \"eur/oprm1_snps_in_mvp_oud_eur_p_le_0.05_both.txt\", append = FALSE, quote = FALSE, sep = \"\\t\",\n",
    "            eol = \"\\n\", na = \"NA\", dec = \".\", row.names = FALSE,\n",
    "            col.names = TRUE, qmethod = c(\"escape\", \"double\"),\n",
    "            fileEncoding = \"\")\n",
    "\n",
    "write.table(afr_final, file = \"afr/oprm1_snps_in_mvp_oud_afr_p_le_0.05_both.txt\", append = FALSE, quote = FALSE, sep = \"\\t\",\n",
    "            eol = \"\\n\", na = \"NA\", dec = \".\", row.names = FALSE,\n",
    "            col.names = TRUE, qmethod = c(\"escape\", \"double\"),\n",
    "            fileEncoding = \"\")"
   ]
  },
  {
   "cell_type": "markdown",
   "metadata": {},
   "source": [
    "### P <= 0.05 in either"
   ]
  },
  {
   "cell_type": "code",
   "execution_count": null,
   "metadata": {},
   "outputs": [],
   "source": [
    "library(ggplot2)\n",
    "setwd(\"~/Projects/heroin/snp-lookup/0002/results/\")\n",
    "eur_df <- read.delim(\"eur/oprm1_snps_in_mvp_oud_eur.txt\", stringsAsFactors = F)\n",
    "afr_df <- read.delim(\"afr/oprm1_snps_in_mvp_oud_afr.txt\", stringsAsFactors = F)\n",
    "\n",
    "\n",
    "snp_intersection <- intersect(eur_df$SNP_ID, afr_df$SNP_ID)\n",
    "\n",
    "\n",
    "# filter to only the intersection \n",
    "eur_int <- eur_df[eur_df$SNP_ID %in% snp_intersection, ]\n",
    "afr_int <- afr_df[afr_df$SNP_ID %in% snp_intersection, ]\n",
    "\n",
    "# create lists of SNPs significant in either EUR or AFR\n",
    "eur_sig <- eur_int[which(eur_int$PValue <= 0.05), \"SNP_ID\"]\n",
    "afr_sig <- afr_int[which(afr_int$PValue <= 0.05), \"SNP_ID\"]\n",
    "\n",
    "# combine SNP sets but remove duplicates\n",
    "unique_snps <- unique(c(afr_sig, eur_sig))\n",
    "\n",
    "# filter both ancestries to this \"either or\" significant SNP list\n",
    "eur_final <- eur_int[eur_int$SNP_ID %in% unique_snps, ]\n",
    "afr_final <- afr_int[afr_int$SNP_ID %in% unique_snps, ]\n",
    "\n",
    "\n",
    "#identical(eur_final$SNP_ID,afr_final$SNP_ID)\n",
    "\n",
    "qplot(x = eur_final$Effect, y = afr_final$Effect,\n",
    "      colour = I(rgb(0,100,0,90, maxColorValue=255)),\n",
    "      size = I(2),\n",
    "     main = \"OPRM1 SNP Effect Sizes in MVP AFR & EUR:\\n P≤0.05 in either\",\n",
    "     xlab = \"EUR β\",\n",
    "     ylab = \"AFR β\",) +\n",
    "    theme(plot.title = element_text(hjust = 0.5))\n",
    "\n",
    "write.table(eur_final, file = \"eur/oprm1_snps_in_mvp_oud_eur_p_le_0.05_either.txt\", append = FALSE, quote = FALSE, sep = \"\\t\",\n",
    "            eol = \"\\n\", na = \"NA\", dec = \".\", row.names = FALSE,\n",
    "            col.names = TRUE, qmethod = c(\"escape\", \"double\"),\n",
    "            fileEncoding = \"\")\n",
    "\n",
    "write.table(afr_final, file = \"afr/oprm1_snps_in_mvp_oud_afr_p_le_0.05_either.txt\", append = FALSE, quote = FALSE, sep = \"\\t\",\n",
    "            eol = \"\\n\", na = \"NA\", dec = \".\", row.names = FALSE,\n",
    "            col.names = TRUE, qmethod = c(\"escape\", \"double\"),\n",
    "            fileEncoding = \"\")\n"
   ]
  },
  {
   "cell_type": "markdown",
   "metadata": {},
   "source": [
    "## Gene set analysis \n",
    "We will be performing a gene-set analysis using the [MAGMA](https://ctg.cncr.nl/software/magma#:~:text=MAGMA%20is%20a%20tool%20for%20gene%20analysis%20and,SNP%20p-values%20from%20a%20previous%20GWAS%20or%20meta-analysis.) tool."
   ]
  },
  {
   "cell_type": "markdown",
   "metadata": {},
   "source": [
    "### Generate SNP location & P-value file\n",
    "The SNP location file should contain three columns: SNP ID, chromosome, and base pair position."
   ]
  },
  {
   "cell_type": "code",
   "execution_count": null,
   "metadata": {},
   "outputs": [],
   "source": [
    "for ancestry in {afr,eur}; do\n",
    "    if [[ $ancestry == afr ]]; then pop=AA; else pop=EA; fi\n",
    "\n",
    "    outFile=/shared/rti-heroin/gene_set_analysis/mvp/data/0002/magma_input/mvp_${ancestry}_snp_loc.tsv\n",
    "    dataD=/shared/rti-heroin/gene_set_analysis/mvp/data/mvp/release/Submissions/sub20200313/\n",
    "    studyf=OUD_${pop}_MVP1_MVP2_Mar12.txt.gz\n",
    "    inFile=$dataD/$studyf\n",
    "    \n",
    "    # header\n",
    "    printf \"SNP\\tCHR\\tBP\\tP\\tN\\n\" > $outFile\n",
    "\n",
    "    zcat $inFile | tail -n +2 |\\\n",
    "    perl -lane ' print join(\"\\t\",$F[0],$F[1],$F[2], $F[12], $F[7]);' >> $outFile\n",
    "done\n"
   ]
  },
  {
   "cell_type": "markdown",
   "metadata": {},
   "source": [
    "### Annotate"
   ]
  },
  {
   "cell_type": "code",
   "execution_count": null,
   "metadata": {},
   "outputs": [],
   "source": [
    "magma=/shared/bioinformatics/software/third_party/magma_v1.07b/magma\n",
    "\n",
    "for ancestry in {afr,eur}; do\n",
    "    $magma \\\n",
    "    --annotate \\\n",
    "    --snp-loc /shared/rti-heroin/gene_set_analysis/mvp/data/0002/magma_input/mvp_${ancestry}_snp_loc.tsv \\\n",
    "    --gene-loc /shared/bioinformatics/software/third_party/magma_v1.07b/gene_loc/NCBI37.3/NCBI37.3.gene.loc \\\n",
    "    --out /shared/rti-heroin/gene_set_analysis/mvp/data/0002/magma_input/annotate_mvp_${ancestry}\n",
    "done\n"
   ]
  },
  {
   "cell_type": "markdown",
   "metadata": {},
   "source": [
    "### Gene Analysis"
   ]
  },
  {
   "cell_type": "code",
   "execution_count": null,
   "metadata": {},
   "outputs": [],
   "source": [
    "mvp_fun () {\n",
    "    \n",
    "       echo \"\n",
    "      /shared/bioinformatics/software/third_party/magma_v1.07b/magma \\\n",
    "        --gene-model multi \\\n",
    "        --bfile /shared/rti-common/ref_panels/1000G/magma/NCBI37.3/g1000_$1/g1000_$1 \\\n",
    "        --pval /shared/rti-heroin/gene_set_analysis/mvp/data/0002/magma_input/mvp_$1_snp_loc.tsv  ncol=N \\\n",
    "        --gene-annot /shared/rti-heroin/gene_set_analysis/mvp/data/0002/magma_input/annotate_mvp_$1.genes.annot \\\n",
    "        --out /shared/rti-heroin/gene_set_analysis/mvp/results/0002/mvp_$1_gene_set_analysis\"\n",
    "}\n",
    "\n",
    "\n",
    "for ancestry in {afr,eur}; do\n",
    "    /shared/bioinformatics/software/scripts/qsub_job.sh \\\n",
    "        --job_name ${ancestry}_opioid_mvp_gene_analysis \\\n",
    "        --script_prefix ${ancestry}_mvp_opioid_gene_analysis \\\n",
    "        --mem 7 \\\n",
    "        --nslots 2 \\\n",
    "        --priority 0 \\\n",
    "        --program $(mvp_fun $ancestry)\n",
    "done"
   ]
  },
  {
   "cell_type": "markdown",
   "metadata": {},
   "source": [
    "### Add Gene Symbols"
   ]
  },
  {
   "cell_type": "code",
   "execution_count": null,
   "metadata": {},
   "outputs": [],
   "source": [
    "cd /shared/rti-heroin/gene_set_analysis/mvp/results/0002\n",
    "for file in *.genes.out; do\n",
    "    inFile=$file\n",
    "    outFile=$file.tsv\n",
    "    head -n 1 $inFile |\n",
    "    perl -lne '\n",
    "        s/\\s+/\\t/g;\n",
    "        /^(\\S+)\\s+(.+)/;\n",
    "        print join(\"\\t\",$1,\"SYMBOL\",$2);\n",
    "        ' > $outFile\n",
    "\n",
    "    tail -n +2 $inFile |\n",
    "    perl -lne '\n",
    "        BEGIN {\n",
    "            %symbols = ();\n",
    "            open(XREF, \"/shared/bioinformatics/software/third_party/magma_v1.07b/gene_loc/NCBI37.3/NCBI37.3.gene.loc\");\n",
    "            while (<XREF>) {\n",
    "            /(\\S+)(?:\\s+\\S+){4}\\s+(\\S+)/;\n",
    "                $symbols{$1} = $2;\n",
    "            }\n",
    "            close XREF;\n",
    "        }\n",
    "        s/\\s+/\\t/g;\n",
    "        /^(\\S+)\\s+(.+)/;\n",
    "        if (exists($symbols{$1})) {\n",
    "            print join(\"\\t\",$1,$symbols{$1},$2);\n",
    "        } else {\n",
    "            print join(\"\\t\",$1,\"\",$2);\n",
    "        }' >> $outFile\n",
    "done\n"
   ]
  },
  {
   "cell_type": "markdown",
   "metadata": {
    "toc-hr-collapsed": true,
    "toc-nb-collapsed": true
   },
   "source": [
    "# NGC OAexp\n",
    "**Data locations:**\n",
    "* AFR-specific    S3://rti-heroin/rti-midas-data/studies/ngc/meta/109/processing/oaexp/\n",
    "* EUR-specific    S3://rti-heroin/rti-midas-data/studies/ngc/meta/110/processing/oaexp/"
   ]
  },
  {
   "cell_type": "markdown",
   "metadata": {},
   "source": [
    "## SNP lookup"
   ]
  },
  {
   "cell_type": "code",
   "execution_count": null,
   "metadata": {},
   "outputs": [],
   "source": [
    "# EC2\n",
    "mkdir -p /shared/rti-heroin/snp-lookup/oaexp/0001/data/oprm1\n",
    "mkdir -p /shared/rti-heroin/snp-lookup/oaexp/0001/results/{afr,eur}\n",
    "\n",
    "cd /shared/rti-heroin/snp-lookup/oaexp/0001/data\n",
    "aws s3 cp s3://rti-heroin/rti-midas-data/studies/ngc/meta/109/processing/oaexp/adaa_coga_yale_penn.aa.chr6.maf_gt_0.01.rsq_gt_0.3.with_cohort_data.tsv.gz .\n",
    "aws s3 cp s3://rti-heroin/rti-midas-data/studies/ngc/meta/110/processing/oaexp/coga_decode_yale_penn.ea.chr6.maf_gt_0.01.rsq_gt_0.3.with_cohort_data.tsv.gz .\n",
    "\n",
    "\n",
    "# copy oprm1 SNP list created from the Excel sheet to EC2\n",
    "cd /home/jesse/Projects/heroin/snp-lookup/oaexp/0001/data/  # local\n",
    "scp -i ~/.ssh/gwas_rsa oprm1_snp_list.txt  ec2-user@34.195.174.206:/shared/rti-heroin/snp-lookup/oaexp/0001/data/oprm1/"
   ]
  },
  {
   "cell_type": "markdown",
   "metadata": {},
   "source": [
    "### AFR"
   ]
  },
  {
   "cell_type": "code",
   "execution_count": null,
   "metadata": {},
   "outputs": [],
   "source": [
    "ancestry=afr\n",
    "cd /shared/rti-heroin/snp-lookup/oaexp/0001/results/$ancestry\n",
    "\n",
    "docker run -it \\\n",
    "  -v \"/shared/rti-heroin/snp-lookup/oaexp/0001/data/:/data/\" \\\n",
    "  -v \"/shared/rti-heroin/snp-lookup/oaexp/0001/results/$ancestry/:/results/\" \\\n",
    "    python:3.8.4  python /results/lookup.py"
   ]
  },
  {
   "cell_type": "code",
   "execution_count": null,
   "metadata": {},
   "outputs": [],
   "source": [
    "# Python3\n",
    "import gzip\n",
    "\n",
    "infile = \"/data/adaa_coga_yale_penn.aa.chr6.maf_gt_0.01.rsq_gt_0.3.with_cohort_data.tsv.gz\"\n",
    "outfile = \"/results/oprm1_snps_in_ngc_oaexp_afr.txt\"\n",
    "snplist = \"/data/oprm1/oprm1_snp_list.txt\"\n",
    "\n",
    "with gzip.open(infile, \"rt\") as inF, open(outfile, \"w\") as outF, open(snplist) as inSNP:\n",
    "    head = inF.readline()\n",
    "    outF.write(head)\n",
    "    line = inF.readline()\n",
    "\n",
    "    snp_dic = dict()\n",
    "\n",
    "    inSNP.readline() # head\n",
    "    snp_line = inSNP.readline()\n",
    "    # populate dictionary \n",
    "    while snp_line:\n",
    "        sl = snp_line.split()\n",
    "        snp_dic[sl[0]] = snp_line\n",
    "        snp_line = inSNP.readline()\n",
    "\n",
    "    while line:\n",
    "        sl = line.split()\n",
    "        snp_id = sl[0]\n",
    "\n",
    "        if snp_id in snp_dic:\n",
    "            outF.write(line)\n",
    "        line = inF.readline()\n"
   ]
  },
  {
   "cell_type": "markdown",
   "metadata": {},
   "source": [
    "### EUR"
   ]
  },
  {
   "cell_type": "code",
   "execution_count": null,
   "metadata": {},
   "outputs": [],
   "source": [
    "ancestry=eur\n",
    "cd /shared/rti-heroin/snp-lookup/oaexp/0001/results/$ancestry\n",
    "\n",
    "docker run -it \\\n",
    "  -v \"/shared/rti-heroin/snp-lookup/oaexp/0001/data/:/data/\" \\\n",
    "  -v \"/shared/rti-heroin/snp-lookup/oaexp/0001/results/$ancestry/:/results/\" \\\n",
    "    python:3.8.4  python /results/lookup.py"
   ]
  },
  {
   "cell_type": "code",
   "execution_count": null,
   "metadata": {},
   "outputs": [],
   "source": [
    "# Python3\n",
    "import gzip\n",
    "\n",
    "infile = \"/data/coga_decode_yale_penn.ea.chr6.maf_gt_0.01.rsq_gt_0.3.with_cohort_data.tsv.gz\"\n",
    "outfile = \"/results/oprm1_snps_in_ngc_oaexp_eur.txt\"\n",
    "snplist = \"/data/oprm1/oprm1_snp_list.txt\"\n",
    "\n",
    "with gzip.open(infile, \"rt\") as inF, open(outfile, \"w\") as outF, open(snplist) as inSNP:\n",
    "    head = inF.readline()\n",
    "    outF.write(head)\n",
    "    line = inF.readline()\n",
    "\n",
    "    snp_dic = dict()\n",
    "\n",
    "    inSNP.readline() # head\n",
    "    snp_line = inSNP.readline()\n",
    "    # populate dictionary \n",
    "    while snp_line:\n",
    "        sl = snp_line.split()\n",
    "        snp_dic[sl[0]] = snp_line\n",
    "        snp_line = inSNP.readline()\n",
    "\n",
    "    while line:\n",
    "        sl = line.split()\n",
    "        snp_id = sl[0]\n",
    "\n",
    "        if snp_id in snp_dic:\n",
    "            outF.write(line)\n",
    "        line = inF.readline()"
   ]
  },
  {
   "cell_type": "markdown",
   "metadata": {},
   "source": [
    "## Beta Comparison\n",
    "Compare the effect size between the AFR and EUR groups. We want to create a scatterplot of the SNP effect sizes with the intersection set. "
   ]
  },
  {
   "cell_type": "markdown",
   "metadata": {},
   "source": [
    "### Meta AFR vs EUR"
   ]
  },
  {
   "cell_type": "code",
   "execution_count": null,
   "metadata": {},
   "outputs": [],
   "source": [
    "library(ggplot2)\n",
    "options(repr.plot.width=7, repr.plot.height=5)\n",
    "\n",
    "setwd(\"~/Projects/heroin/snp-lookup/oaexp/0001/results/\")\n",
    "eur_df <- read.delim(\"eur/oprm1_snps_in_ngc_oaexp_eur.txt\", stringsAsFactors = F)\n",
    "afr_df <- read.delim(\"afr/oprm1_snps_in_ngc_oaexp_afr.txt\", stringsAsFactors = F)\n",
    "\n",
    "snp_intersection <- intersect(eur_df$MarkerName, afr_df$MarkerName)\n",
    "\n",
    "\n",
    "# filter to only the intersection \n",
    "eur_int <- eur_df[eur_df$MarkerName %in% snp_intersection, ]\n",
    "afr_int <- afr_df[afr_df$MarkerName %in% snp_intersection, ]\n",
    "\n",
    "# create lists of SNPs significant in either EUR or AFR\n",
    "eur_sig <- eur_int[which(eur_int$P.value <= 0.05), \"MarkerName\"]\n",
    "afr_sig <- afr_int[which(afr_int$P.value <= 0.05), \"MarkerName\"]\n",
    "\n",
    "# combine SNP sets but remove duplicates\n",
    "unique_snps <- unique(c(afr_sig, eur_sig))\n",
    "\n",
    "# filter both ancestries to this \"either or\" significant SNP list\n",
    "eur_final <- eur_int[eur_int$MarkerName %in% unique_snps, ]\n",
    "afr_final <- afr_int[afr_int$MarkerName %in% unique_snps, ]\n",
    "\n",
    "\n",
    "qplot(x = eur_final$Effect, y = afr_final$Effect,\n",
    "      colour = I(rgb(0,100,0,90, maxColorValue=255)),\n",
    "      size = I(2),\n",
    "     main = \"OPRM1 SNP Effect Sizes in NGC OAexp AFR & EUR:\\n P≤0.05 in either\",\n",
    "     xlab = \"EUR β\",\n",
    "     ylab = \"AFR β\",) +\n",
    "    theme(plot.title = element_text(hjust = 0.5))"
   ]
  },
  {
   "cell_type": "markdown",
   "metadata": {},
   "source": [
    "### COGA\n",
    "In reponse to [this](https://github.com/RTIInternational/bioinformatics/issues/152#issuecomment-659584937) comment by EOJ.\n",
    "Compare the effect size between the AFR and EUR groups of these two cohorts. We want to create a scatterplot of the SNP effect sizes with the intersection set. \n",
    "\n",
    "P <= 0.05 in either"
   ]
  },
  {
   "cell_type": "code",
   "execution_count": null,
   "metadata": {},
   "outputs": [],
   "source": [
    "library(ggplot2)\n",
    "options(repr.plot.width=7, repr.plot.height=5)\n",
    "\n",
    "setwd(\"~/Projects/heroin/snp-lookup/oaexp/0001/results/\")\n",
    "eur_df <- read.delim(\"eur/oprm1_snps_in_ngc_oaexp_eur.txt\", stringsAsFactors = F)\n",
    "afr_df <- read.delim(\"afr/oprm1_snps_in_ngc_oaexp_afr.txt\", stringsAsFactors = F)\n",
    "\n",
    "snp_intersection <- intersect(eur_df$MarkerName, afr_df$MarkerName)\n",
    "\n",
    "\n",
    "# filter to only the intersection \n",
    "eur_int <- eur_df[eur_df$MarkerName %in% snp_intersection, ]\n",
    "afr_int <- afr_df[afr_df$MarkerName %in% snp_intersection, ]\n",
    "\n",
    "# create lists of SNPs significant in either EUR or AFR\n",
    "eur_sig <- eur_int[which(eur_int$coga.ea.PVALUE <= 0.05), \"MarkerName\"]\n",
    "afr_sig <- afr_int[which(afr_int$coga.aa.PVALUE <= 0.05), \"MarkerName\"]\n",
    "\n",
    "# combine SNP sets but remove duplicates\n",
    "unique_snps <- unique(c(afr_sig, eur_sig))\n",
    "\n",
    "# filter both ancestries to this \"either or\" significant SNP list\n",
    "eur_final <- eur_int[eur_int$MarkerName %in% unique_snps, ]\n",
    "afr_final <- afr_int[afr_int$MarkerName %in% unique_snps, ]\n",
    "\n",
    "\n",
    "qplot(x = eur_final$coga.ea.ALT_EFFSIZE, y = afr_final$coga.aa.ALT_EFFSIZE,\n",
    "      colour = I(rgb(0,100,0,90, maxColorValue=255)),\n",
    "      size = I(1.5),\n",
    "     main = \"OPRM1 SNP Effect Sizes in COGA OAexp AFR & EUR:\\n P≤0.05 in either\",\n",
    "     xlab = \"EUR β\",\n",
    "     ylab = \"AFR β\",) +\n",
    "    theme(plot.title = element_text(hjust = 0.5))\n"
   ]
  },
  {
   "cell_type": "markdown",
   "metadata": {},
   "source": [
    "### Yale-Penn\n",
    "In reponse to [this](https://github.com/RTIInternational/bioinformatics/issues/152#issuecomment-659584937) comment by EOJ.\n",
    "Compare the effect size between the AFR and EUR groups of these two cohorts. We want to create a scatterplot of the SNP effect sizes with the intersection set. \n",
    "\n",
    "P <= 0.05 in either"
   ]
  },
  {
   "cell_type": "code",
   "execution_count": null,
   "metadata": {},
   "outputs": [],
   "source": [
    "library(ggplot2)\n",
    "options(repr.plot.width=7, repr.plot.height=5)\n",
    "\n",
    "setwd(\"~/Projects/heroin/snp-lookup/oaexp/0001/results/\")\n",
    "eur_df <- read.delim(\"eur/oprm1_snps_in_ngc_oaexp_eur.txt\", stringsAsFactors = F)\n",
    "afr_df <- read.delim(\"afr/oprm1_snps_in_ngc_oaexp_afr.txt\", stringsAsFactors = F)\n",
    "\n",
    "snp_intersection <- intersect(eur_df$MarkerName, afr_df$MarkerName)\n",
    "\n",
    "\n",
    "# filter to only the intersection \n",
    "eur_int <- eur_df[eur_df$MarkerName %in% snp_intersection, ]\n",
    "afr_int <- afr_df[afr_df$MarkerName %in% snp_intersection, ]\n",
    "\n",
    "# create lists of SNPs significant in either EUR or AFR\n",
    "eur_sig <- eur_int[which(eur_int$yale.penn.ea.PVALUE <= 0.05), \"MarkerName\"]\n",
    "afr_sig <- afr_int[which(afr_int$yale.penn.aa.PVALUE <= 0.05), \"MarkerName\"]\n",
    "\n",
    "# combine SNP sets but remove duplicates\n",
    "unique_snps <- unique(c(afr_sig, eur_sig))\n",
    "\n",
    "# filter both ancestries to this \"either or\" significant SNP list\n",
    "eur_final <- eur_int[eur_int$MarkerName %in% unique_snps, ]\n",
    "afr_final <- afr_int[afr_int$MarkerName %in% unique_snps, ]\n",
    "\n",
    "\n",
    "qplot(x = eur_final$yale.penn.ea.ALT_EFFSIZE, y = afr_final$yale.penn.aa.ALT_EFFSIZE,\n",
    "      colour = I(rgb(0,100,0,90, maxColorValue=255)),\n",
    "      size = I(1.5),\n",
    "     main = \"OPRM1 SNP Effect Sizes in Yale-Penn OAexp AFR & EUR:\\n P≤0.05 in either\",\n",
    "     xlab = \"EUR β\",\n",
    "     ylab = \"AFR β\",) +\n",
    "    theme(plot.title = element_text(hjust = 0.5))\n"
   ]
  },
  {
   "cell_type": "markdown",
   "metadata": {},
   "source": [
    "### Yale-Penn_AFR vs ADAA_AFR\n",
    "In reponse to [this](https://github.com/RTIInternational/bioinformatics/issues/152#issuecomment-659624200) comment by EOJ.\n",
    "Compare the effect size between these two AFR groups. We want to create a scatterplot of the SNP effect sizes with the intersection set. \n",
    "\n",
    "\n",
    "```css\n",
    "@jaamarks Here I would do OPRM1 variants that are nominally significant in either adaa or yale-penn AAs for one figure and then do OPRM1 variants that are nominally sig in either adaa or yale-penn EA. Im guessing that the sign of the associations will be different for one of these comparisons and not the other, (probably the yale-penn AAs) indicating a source of these flipped effects.\n",
    "```"
   ]
  },
  {
   "cell_type": "code",
   "execution_count": null,
   "metadata": {},
   "outputs": [],
   "source": [
    "library(ggplot2)\n",
    "options(repr.plot.width=7, repr.plot.height=5)\n",
    "\n",
    "setwd(\"~/Projects/heroin/snp-lookup/oaexp/0001/results/\")\n",
    "afr_df <- read.delim(\"afr/oprm1_snps_in_ngc_oaexp_afr.txt\", stringsAsFactors = F)\n",
    "\n",
    "# create lists of SNPs significant in either ADAA or Yale-Penn\n",
    "yp_sig <- afr_df[which(afr_df$yale.penn.aa.PVALUE <= 0.05), \"MarkerName\"]\n",
    "adaa_sig <- afr_df[which(afr_df$adaa.aa.PVALUE <= 0.05), \"MarkerName\"]\n",
    "\n",
    "# combine SNP sets but remove duplicates\n",
    "unique_snps <- unique(c(yp_sig, adaa_sig))\n",
    "\n",
    "afr_final <- afr_df[afr_df$MarkerName %in% unique_snps, ]\n",
    "\n",
    "\n",
    "# ADAA & YP AFR\n",
    "qplot(x = afr_final$adaa.aa.ALT_EFFSIZE, y = afr_final$yale.penn.aa.ALT_EFFSIZE,\n",
    "      colour = I(rgb(0,100,0,90, maxColorValue=255)),\n",
    "      size = I(1.5),\n",
    "     main = \"OPRM1 SNP Effect Sizes in OAexp Yale-Penn_AFR & ADAA_AFR:\\n P≤0.05 in either\",\n",
    "     xlab = \"ADAA AFR β\",\n",
    "     ylab = \"Yale-Penn AFR β\",) +\n",
    "    theme(plot.title = element_text(hjust = 0.5))"
   ]
  },
  {
   "cell_type": "markdown",
   "metadata": {},
   "source": [
    "### Yale-Penn_EUR vs ADAA_AFR\n",
    "In reponse to [this](https://github.com/RTIInternational/bioinformatics/issues/152#issuecomment-659624200) comment by EOJ.\n",
    "Compare the effect size between these two AFR groups. We want to create a scatterplot of the SNP effect sizes with the intersection set. \n",
    "\n",
    "\n",
    "```css\n",
    "@jaamarks Here I would do OPRM1 variants that are nominally significant in either adaa or yale-penn AAs for one figure and then do OPRM1 variants that are nominally sig in either adaa or yale-penn EA. Im guessing that the sign of the associations will be different for one of these comparisons and not the other, (probably the yale-penn AAs) indicating a source of these flipped effects.\n",
    "```"
   ]
  },
  {
   "cell_type": "code",
   "execution_count": null,
   "metadata": {},
   "outputs": [],
   "source": [
    "library(ggplot2)\n",
    "options(repr.plot.width=7, repr.plot.height=5)\n",
    "\n",
    "setwd(\"~/Projects/heroin/snp-lookup/oaexp/0001/results/\")\n",
    "eur_df <- read.delim(\"eur/oprm1_snps_in_ngc_oaexp_eur.txt\", stringsAsFactors = F)\n",
    "afr_df <- read.delim(\"afr/oprm1_snps_in_ngc_oaexp_afr.txt\", stringsAsFactors = F)\n",
    "\n",
    "snp_intersection <- intersect(eur_df$MarkerName, afr_df$MarkerName)\n",
    "\n",
    "# filter to only the intersection \n",
    "eur_int <- eur_df[eur_df$MarkerName %in% snp_intersection, ]\n",
    "afr_int <- afr_df[afr_df$MarkerName %in% snp_intersection, ]\n",
    "\n",
    "# create lists of SNPs significant in either YP EUR or ADAA AFR\n",
    "eur_sig <- eur_int[which(eur_int$yale.penn.ea.PVALUE <= 0.05), \"MarkerName\"]\n",
    "afr_sig <- afr_int[which(afr_int$adaa.aa.PVALUE <= 0.05), \"MarkerName\"]\n",
    "\n",
    "# combine SNP sets but remove duplicates\n",
    "unique_snps <- unique(c(afr_sig, eur_sig))\n",
    "\n",
    "# filter both ancestries to this \"either or\" significant SNP list\n",
    "eur_final <- eur_int[eur_int$MarkerName %in% unique_snps, ]\n",
    "afr_final <- afr_int[afr_int$MarkerName %in% unique_snps, ]\n",
    "\n",
    "\n",
    "qplot(x = afr_final$adaa.aa.ALT_EFFSIZE, y = eur_final$yale.penn.ea.ALT_EFFSIZE,\n",
    "      colour = I(rgb(0,100,0,90, maxColorValue=255)),\n",
    "      size = I(1.5),\n",
    "     main = \"OPRM1 SNP Effect Sizes in OAexp Yale-Penn EUR and ADAA AFR:\\n P≤0.05 in either\",\n",
    "     xlab = \"ADAA AFR β\",\n",
    "     ylab = \"Yale-Penn EUR β\") +\n",
    "    theme(plot.title = element_text(hjust = 0.5))\n"
   ]
  },
  {
   "cell_type": "markdown",
   "metadata": {},
   "source": [
    "# NGC OAall\n",
    "\n",
    "* AFR-specific  `s3://rti-heroin/rti-midas-data/studies/ngc/meta/112/processing/oaall/adaa+alive+coga+kreek+uhs+yale-penn.aa.chr6.maf_gt_0.01.rsq_gt_0.3.with_cohort_data.tsv.gz`\n",
    "* EUR-specific   `s3://rti-heroin/rti-midas-data/studies/ngc/meta/115/processing/oaall/cats+coga+decode+kreek+odb+uhs+vidus+yale-penn.ea.chr6.maf_gt_0.01.rsq_gt_0.3.with_cohort_data.tsv.gz`"
   ]
  },
  {
   "cell_type": "markdown",
   "metadata": {
    "toc-hr-collapsed": true,
    "toc-nb-collapsed": true
   },
   "source": [
    "## SNP lookup"
   ]
  },
  {
   "cell_type": "markdown",
   "metadata": {
    "toc-hr-collapsed": true,
    "toc-nb-collapsed": true
   },
   "source": [
    "### 112 & 115"
   ]
  },
  {
   "cell_type": "code",
   "execution_count": null,
   "metadata": {},
   "outputs": [],
   "source": [
    "# EC2\n",
    "version=0003\n",
    "mkdir -p /shared/rti-heroin/snp-lookup/oaall/${version}/data/oprm1\n",
    "mkdir -p /shared/rti-heroin/snp-lookup/oaall/${version}/results/{afr,eur}\n",
    "\n",
    "cd /shared/rti-heroin/snp-lookup/oaall/${version}/data\n",
    "aws s3 cp s3://rti-heroin/rti-midas-data/studies/ngc/meta/112/processing/oaall/adaa+alive+coga+kreek+uhs+yale-penn.aa.chr6.maf_gt_0.01.rsq_gt_0.3.with_cohort_data.tsv.gz .\n",
    "aws s3 cp s3://rti-heroin/rti-midas-data/studies/ngc/meta/115/processing/oaall/cats+coga+decode+kreek+odb+uhs+vidus+yale-penn.ea.chr6.maf_gt_0.01.rsq_gt_0.3.with_cohort_data.tsv.gz .\n",
    "\n",
    "# copy oprm1 SNP list created from the Excel sheet to EC2\n",
    "mkdir -p /home/jesse/Projects/heroin/snp-lookup/oaall/${version}/{data,results}/  # local\n",
    "cd /home/jesse/Projects/heroin/snp-lookup/oaall/${version}/data/  # local\n",
    "scp -i ~/.ssh/gwas_rsa oprm1_snp_list.txt  ec2-user@34.195.174.206:/shared/rti-heroin/snp-lookup/oaall/${version}/data/oprm1/\n"
   ]
  },
  {
   "cell_type": "markdown",
   "metadata": {},
   "source": [
    "#### AFR"
   ]
  },
  {
   "cell_type": "code",
   "execution_count": null,
   "metadata": {},
   "outputs": [],
   "source": [
    "ancestry=afr\n",
    "cd /shared/rti-heroin/snp-lookup/oaall/${version}/results/$ancestry/\n",
    "\n",
    "docker run -it \\\n",
    "  -v \"/shared/rti-heroin/snp-lookup/oaall/0003/data/:/data/\" \\\n",
    "  -v \"/shared/rti-heroin/snp-lookup/oaall/0003/results/$ancestry/:/results/\" \\\n",
    "    python:3.8.4  python /results/lookup.py\n"
   ]
  },
  {
   "cell_type": "code",
   "execution_count": null,
   "metadata": {},
   "outputs": [],
   "source": [
    "# Python3\n",
    "import gzip\n",
    "\n",
    "results = \"adaa+alive+coga+kreek+uhs+yale-penn.aa.chr6.maf_gt_0.01.rsq_gt_0.3.with_cohort_data.tsv.gz\"\n",
    "meta_num = \"112\"\n",
    "ancestry=\"afr\"\n",
    "\n",
    "infile = \"/data/{}\".format(results)\n",
    "outfile = \"/results/oprm1_snps_in_ngc_oaall_{}_{}.txt\".format(meta_num, ancestry)\n",
    "#snplist = \"/data/oprm1/oprm1_snp_list.txt\"\n",
    "snplist = \"/data/oprm1/oprm1_snp_list2.txt\"\n",
    "\n",
    "\n",
    "\n",
    "with gzip.open(infile, \"rt\") as inF, open(outfile, \"w\") as outF, open(snplist) as inSNP:\n",
    "    head = inF.readline()\n",
    "    outF.write(head)\n",
    "    line = inF.readline()\n",
    "\n",
    "    snp_dic = dict()\n",
    "\n",
    "    inSNP.readline() # head\n",
    "    snp_line = inSNP.readline()\n",
    "    # populate dictionary \n",
    "    while snp_line:\n",
    "        sl = snp_line.split()\n",
    "        snp_dic[sl[0]] = snp_line\n",
    "        snp_line = inSNP.readline()\n",
    "\n",
    "    while line:\n",
    "        sl = line.split()\n",
    "        snp_id = sl[0]\n",
    "\n",
    "        if snp_id in snp_dic:\n",
    "            outF.write(line)\n",
    "        line = inF.readline()\n"
   ]
  },
  {
   "cell_type": "markdown",
   "metadata": {},
   "source": [
    "#### EUR"
   ]
  },
  {
   "cell_type": "code",
   "execution_count": null,
   "metadata": {},
   "outputs": [],
   "source": [
    "ancestry=eur\n",
    "cd /shared/rti-heroin/snp-lookup/oaall/0003/results/$ancestry/\n",
    "\n",
    "docker run -it \\\n",
    "  -v \"/shared/rti-heroin/snp-lookup/oaall/0003/data/:/data/\" \\\n",
    "  -v \"/shared/rti-heroin/snp-lookup/oaall/0003/results/$ancestry/:/results/\" \\\n",
    "    python:3.8.4  python /results/lookup.py\n"
   ]
  },
  {
   "cell_type": "code",
   "execution_count": null,
   "metadata": {},
   "outputs": [],
   "source": [
    "# Python3\n",
    "import gzip\n",
    "\n",
    "results = \"cats+coga+decode+kreek+odb+uhs+vidus+yale-penn.ea.chr6.maf_gt_0.01.rsq_gt_0.3.with_cohort_data.tsv.gz\"\n",
    "meta_num = \"115\"\n",
    "ancestry=\"eur\"\n",
    "\n",
    "infile = \"/data/{}\".format(results)\n",
    "outfile = \"/results/oprm1_snps_in_ngc_oaall_{}_{}.txt\".format(meta_num, ancestry)\n",
    "#snplist = \"/data/oprm1/oprm1_snp_list.txt\"\n",
    "snplist = \"/data/oprm1/oprm1_snp_list2.txt\"\n",
    "\n",
    "\n",
    "\n",
    "with gzip.open(infile, \"rt\") as inF, open(outfile, \"w\") as outF, open(snplist) as inSNP:\n",
    "    head = inF.readline()\n",
    "    outF.write(head)\n",
    "    line = inF.readline()\n",
    "\n",
    "    snp_dic = dict()\n",
    "\n",
    "    inSNP.readline() # head\n",
    "    snp_line = inSNP.readline()\n",
    "    # populate dictionary \n",
    "    while snp_line:\n",
    "        sl = snp_line.split()\n",
    "        snp_dic[sl[0]] = snp_line\n",
    "        snp_line = inSNP.readline()\n",
    "\n",
    "    while line:\n",
    "        sl = line.split()\n",
    "        snp_id = sl[0]\n",
    "\n",
    "        if snp_id in snp_dic:\n",
    "            outF.write(line)\n",
    "        line = inF.readline()"
   ]
  },
  {
   "cell_type": "markdown",
   "metadata": {
    "toc-hr-collapsed": true,
    "toc-nb-collapsed": true
   },
   "source": [
    "### 112 & 113"
   ]
  },
  {
   "cell_type": "code",
   "execution_count": null,
   "metadata": {},
   "outputs": [],
   "source": [
    "# EC2\n",
    "version=0006\n",
    "mkdir -p /shared/rti-heroin/snp-lookup/oaall/${version}/data/oprm1\n",
    "mkdir -p /shared/rti-heroin/snp-lookup/oaall/${version}/results/{afr,eur}\n",
    "\n",
    "# download data\n",
    "cd /shared/rti-heroin/snp-lookup/oaall/${version}/data\n",
    "aws s3 cp s3://rti-heroin/rti-midas-data/studies/ngc/meta/113/processing/oaall/cats+coga+decode+kreek+odb+uhs+vidus+yale-penn.ea.chr6.maf_gt_0.01.rsq_gt_0.3.with_cohort_data.tsv.gz .\n",
    "aws s3 cp s3://rti-heroin/rti-midas-data/studies/ngc/meta/112/processing/oaall/adaa+alive+coga+kreek+uhs+yale-penn.aa.chr6.maf_gt_0.01.rsq_gt_0.3.with_cohort_data.tsv.gz .\n",
    "\n",
    "# copy oprm1 SNP list created from the Excel sheet to EC2\n",
    "mkdir -p /home/jesse/Projects/heroin/snp-lookup/oaall/${version}/{data,results}/  # local\n",
    "cd /home/jesse/Projects/heroin/snp-lookup/oaall/${version}/data/  # local\n",
    "scp -i ~/.ssh/gwas_rsa oprm1_snp_list.txt  ec2-user@34.195.174.206:/shared/rti-heroin/snp-lookup/oaall/${version}/data/oprm1/\n"
   ]
  },
  {
   "cell_type": "markdown",
   "metadata": {},
   "source": [
    "#### AFR"
   ]
  },
  {
   "cell_type": "code",
   "execution_count": null,
   "metadata": {},
   "outputs": [],
   "source": [
    "ancestry=afr\n",
    "cd /shared/rti-heroin/snp-lookup/oaall/${version}/results/$ancestry/\n",
    "\n",
    "docker run -it \\\n",
    "  -v \"/shared/rti-heroin/snp-lookup/oaall/${version}/data/:/data/\" \\\n",
    "  -v \"/shared/rti-heroin/snp-lookup/oaall/${version}/results/$ancestry/:/results/\" \\\n",
    "    python:3.8.4  python /results/lookup.py\n"
   ]
  },
  {
   "cell_type": "code",
   "execution_count": null,
   "metadata": {},
   "outputs": [],
   "source": [
    "# Python3\n",
    "import gzip\n",
    "\n",
    "afr = \"adaa+alive+coga+kreek+uhs+yale-penn.aa.chr6.maf_gt_0.01.rsq_gt_0.3.with_cohort_data.gz\"\n",
    "meta = \"72\"\n",
    "\n",
    "infile = \"/data/{}\".format()\n",
    "outfile = \"/results/oprm1_snps_in_ngc_oaall_{}_afr.txt\".format(meta)\n",
    "snplist = \"/data/oprm1/oprm1_snp_list.txt\"\n",
    "\n",
    "with gzip.open(infile, \"rt\") as inF, open(outfile, \"w\") as outF, open(snplist) as inSNP:\n",
    "    head = inF.readline()\n",
    "    outF.write(head)\n",
    "    line = inF.readline()\n",
    "\n",
    "    snp_dic = dict()\n",
    "\n",
    "    inSNP.readline() # head\n",
    "    snp_line = inSNP.readline()\n",
    "    # populate dictionary \n",
    "    while snp_line:\n",
    "        sl = snp_line.split()\n",
    "        snp_dic[sl[0]] = snp_line\n",
    "        snp_line = inSNP.readline()\n",
    "\n",
    "    while line:\n",
    "        sl = line.split()\n",
    "        snp_id = sl[0]\n",
    "\n",
    "        if snp_id in snp_dic:\n",
    "            outF.write(line)\n",
    "        line = inF.readline()\n"
   ]
  },
  {
   "cell_type": "markdown",
   "metadata": {},
   "source": [
    "#### EUR"
   ]
  },
  {
   "cell_type": "code",
   "execution_count": null,
   "metadata": {},
   "outputs": [],
   "source": [
    "ancestry=eur\n",
    "cd /shared/rti-heroin/snp-lookup/oaall/${version}/results/$ancestry/\n",
    "\n",
    "docker run -it \\\n",
    "  -v \"/shared/rti-heroin/snp-lookup/oaall/${version}/data/:/data/\" \\\n",
    "  -v \"/shared/rti-heroin/snp-lookup/oaall/${version}/results/$ancestry/:/results/\" \\\n",
    "    python:3.8.4  python /results/lookup.py\n"
   ]
  },
  {
   "cell_type": "code",
   "execution_count": null,
   "metadata": {},
   "outputs": [],
   "source": [
    "# Python3\n",
    "import gzip\n",
    "\n",
    "results = \"cats+coga+decode+kreek+odb+uhs+vidus+yale-penn.ea.chr6.maf_gt_0.01.rsq_gt_0.3.with_cohort_data.gz\"\n",
    "meta_num = \"113\"\n",
    "ancestry = \"eur\"\n",
    "\n",
    "\n",
    "infile = \"/data/{}\".format(results)\n",
    "outfile = \"/results/oprm1_snps_in_ngc_oaall_{}_{}.txt\".format(meta_num,ancestry)\n",
    "snplist = \"/data/oprm1/oprm1_snp_list.txt\"\n",
    "\n",
    "with gzip.open(infile, \"rt\") as inF, open(outfile, \"w\") as outF, open(snplist) as inSNP:\n",
    "    head = inF.readline()\n",
    "    outF.write(head)\n",
    "    line = inF.readline()\n",
    "\n",
    "    snp_dic = dict()\n",
    "\n",
    "    inSNP.readline() # head\n",
    "    snp_line = inSNP.readline()\n",
    "    # populate dictionary \n",
    "    while snp_line:\n",
    "        sl = snp_line.split()\n",
    "        snp_dic[sl[0]] = snp_line\n",
    "        snp_line = inSNP.readline()\n",
    "\n",
    "    while line:\n",
    "        sl = line.split()\n",
    "        snp_id = sl[0]\n",
    "\n",
    "        if snp_id in snp_dic:\n",
    "            outF.write(line)\n",
    "        line = inF.readline()"
   ]
  },
  {
   "cell_type": "markdown",
   "metadata": {
    "toc-hr-collapsed": true,
    "toc-nb-collapsed": true
   },
   "source": [
    "### 72 & 89\n",
    "AFR 72\n",
    "EUR 89 with deCODE OAall"
   ]
  },
  {
   "cell_type": "code",
   "execution_count": null,
   "metadata": {},
   "outputs": [],
   "source": [
    "# EC2\n",
    "version=0004\n",
    "mkdir -p /shared/rti-heroin/snp-lookup/oaall/${version}/data/oprm1\n",
    "mkdir -p /shared/rti-heroin/snp-lookup/oaall/${version}/results/{afr,eur}\n",
    "\n",
    "# download data\n",
    "cd /shared/rti-heroin/snp-lookup/oaall/${version}/data\n",
    "aws s3 cp s3://rti-heroin/rti-midas-data/studies/ngc/meta/089/processing/oaall/cats+coga+decode+kreek+odb+uhs+vidus+yale-penn.ea.chr6.maf_gt_0.01.rsq_gt_0.3.with_cohort_data.gz .\n",
    "aws s3 cp s3://rti-heroin/rti-midas-data/studies/ngc/meta/072/processing/oaall/adaa+alive+coga+kreek+uhs+yale-penn.aa.chr6.maf_gt_0.01.rsq_gt_0.3.with_cohort_data.gz .\n",
    "\n",
    "# copy oprm1 SNP list created from the Excel sheet to EC2\n",
    "mkdir -p /home/jesse/Projects/heroin/snp-lookup/oaall/${version}/{data,results}/  # local\n",
    "cd /home/jesse/Projects/heroin/snp-lookup/oaall/${version}/data/  # local\n",
    "scp -i ~/.ssh/gwas_rsa oprm1_snp_list.txt  ec2-user@34.195.174.206:/shared/rti-heroin/snp-lookup/oaall/${version}/data/oprm1/\n"
   ]
  },
  {
   "cell_type": "markdown",
   "metadata": {},
   "source": [
    "#### AFR"
   ]
  },
  {
   "cell_type": "code",
   "execution_count": null,
   "metadata": {},
   "outputs": [],
   "source": [
    "ancestry=afr\n",
    "cd /shared/rti-heroin/snp-lookup/oaall/${version}/results/$ancestry/\n",
    "\n",
    "docker run -it \\\n",
    "  -v \"/shared/rti-heroin/snp-lookup/oaall/${version}/data/:/data/\" \\\n",
    "  -v \"/shared/rti-heroin/snp-lookup/oaall/${version}/results/$ancestry/:/results/\" \\\n",
    "    python:3.8.4  python /results/lookup.py\n"
   ]
  },
  {
   "cell_type": "code",
   "execution_count": null,
   "metadata": {},
   "outputs": [],
   "source": [
    "# Python3\n",
    "import gzip\n",
    "\n",
    "afr = \"adaa+alive+coga+kreek+uhs+yale-penn.aa.chr6.maf_gt_0.01.rsq_gt_0.3.with_cohort_data.gz\"\n",
    "meta = \"72\"\n",
    "\n",
    "infile = \"/data/{}\".format()\n",
    "outfile = \"/results/oprm1_snps_in_ngc_oaall_{}_afr.txt\".format(meta)\n",
    "snplist = \"/data/oprm1/oprm1_snp_list.txt\"\n",
    "\n",
    "with gzip.open(infile, \"rt\") as inF, open(outfile, \"w\") as outF, open(snplist) as inSNP:\n",
    "    head = inF.readline()\n",
    "    outF.write(head)\n",
    "    line = inF.readline()\n",
    "\n",
    "    snp_dic = dict()\n",
    "\n",
    "    inSNP.readline() # head\n",
    "    snp_line = inSNP.readline()\n",
    "    # populate dictionary \n",
    "    while snp_line:\n",
    "        sl = snp_line.split()\n",
    "        snp_dic[sl[0]] = snp_line\n",
    "        snp_line = inSNP.readline()\n",
    "\n",
    "    while line:\n",
    "        sl = line.split()\n",
    "        snp_id = sl[0]\n",
    "\n",
    "        if snp_id in snp_dic:\n",
    "            outF.write(line)\n",
    "        line = inF.readline()\n"
   ]
  },
  {
   "cell_type": "markdown",
   "metadata": {},
   "source": [
    "#### EUR"
   ]
  },
  {
   "cell_type": "code",
   "execution_count": null,
   "metadata": {},
   "outputs": [],
   "source": [
    "ancestry=eur\n",
    "cd /shared/rti-heroin/snp-lookup/oaall/${version}/results/$ancestry/\n",
    "\n",
    "docker run -it \\\n",
    "  -v \"/shared/rti-heroin/snp-lookup/oaall/${version}/data/:/data/\" \\\n",
    "  -v \"/shared/rti-heroin/snp-lookup/oaall/${version}/results/$ancestry/:/results/\" \\\n",
    "    python:3.8.4  python /results/lookup.py\n"
   ]
  },
  {
   "cell_type": "code",
   "execution_count": null,
   "metadata": {},
   "outputs": [],
   "source": [
    "# Python3\n",
    "import gzip\n",
    "\n",
    "results = \"cats+coga+decode+kreek+odb+uhs+vidus+yale-penn.ea.chr6.maf_gt_0.01.rsq_gt_0.3.with_cohort_data.gz\"\n",
    "meta_num = \"89\"\n",
    "ancestry = \"eur\"\n",
    "\n",
    "\n",
    "infile = \"/data/{}\".format(results)\n",
    "outfile = \"/results/oprm1_snps_in_ngc_oaall_{}_{}.txt\".format(meta_num,ancestry)\n",
    "snplist = \"/data/oprm1/oprm1_snp_list.txt\"\n",
    "\n",
    "with gzip.open(infile, \"rt\") as inF, open(outfile, \"w\") as outF, open(snplist) as inSNP:\n",
    "    head = inF.readline()\n",
    "    outF.write(head)\n",
    "    line = inF.readline()\n",
    "\n",
    "    snp_dic = dict()\n",
    "\n",
    "    inSNP.readline() # head\n",
    "    snp_line = inSNP.readline()\n",
    "    # populate dictionary \n",
    "    while snp_line:\n",
    "        sl = snp_line.split()\n",
    "        snp_dic[sl[0]] = snp_line\n",
    "        snp_line = inSNP.readline()\n",
    "\n",
    "    while line:\n",
    "        sl = line.split()\n",
    "        snp_id = sl[0]\n",
    "\n",
    "        if snp_id in snp_dic:\n",
    "            outF.write(line)\n",
    "        line = inF.readline()"
   ]
  },
  {
   "cell_type": "markdown",
   "metadata": {
    "toc-hr-collapsed": true,
    "toc-nb-collapsed": true
   },
   "source": [
    "### 72 & 94\n",
    "72 AFR\n",
    "94 EUR with deCODE OAexp"
   ]
  },
  {
   "cell_type": "code",
   "execution_count": null,
   "metadata": {},
   "outputs": [],
   "source": [
    "# EC2\n",
    "version=0005\n",
    "mkdir -p /shared/rti-heroin/snp-lookup/oaall/${version}/data/oprm1\n",
    "mkdir -p /shared/rti-heroin/snp-lookup/oaall/${version}/results/{afr,eur}\n",
    "\n",
    "# download data\n",
    "cd /shared/rti-heroin/snp-lookup/oaall/${version}/data\n",
    "aws s3 cp s3://rti-heroin/rti-midas-data/studies/ngc/meta/072/processing/oaall/adaa+alive+coga+kreek+uhs+yale-penn.aa.chr6.maf_gt_0.01.rsq_gt_0.3.with_cohort_data.gz .\n",
    "aws s3 cp s3://rti-heroin/rti-midas-data/studies/ngc/meta/094/processing/oaall/cats+coga+decode+kreek+odb+uhs+vidus+yale-penn.ea.chr6.maf_gt_0.01.rsq_gt_0.3.with_cohort_data.gz .\n",
    "\n",
    "# copy oprm1 SNP list created from the Excel sheet to EC2\n",
    "mkdir -p /home/jesse/Projects/heroin/snp-lookup/oaall/${version}/{data,results}/  # local\n",
    "cd /home/jesse/Projects/heroin/snp-lookup/oaall/${version}/data/  # local\n",
    "scp -i ~/.ssh/gwas_rsa oprm1_snp_list.txt  ec2-user@34.195.174.206:/shared/rti-heroin/snp-lookup/oaall/${version}/data/oprm1/"
   ]
  },
  {
   "cell_type": "markdown",
   "metadata": {},
   "source": [
    "#### AFR"
   ]
  },
  {
   "cell_type": "code",
   "execution_count": null,
   "metadata": {},
   "outputs": [],
   "source": [
    "ancestry=afr\n",
    "cd /shared/rti-heroin/snp-lookup/oaall/${version}/results/$ancestry/\n",
    "\n",
    "docker run -it \\\n",
    "  -v \"/shared/rti-heroin/snp-lookup/oaall/${version}/data/:/data/\" \\\n",
    "  -v \"/shared/rti-heroin/snp-lookup/oaall/${version}/results/$ancestry/:/results/\" \\\n",
    "    python:3.8.4  python /results/lookup.py\n"
   ]
  },
  {
   "cell_type": "code",
   "execution_count": null,
   "metadata": {},
   "outputs": [],
   "source": [
    "# Python3\n",
    "import gzip\n",
    "\n",
    "results = \"adaa+alive+coga+kreek+uhs+yale-penn.aa.chr6.maf_gt_0.01.rsq_gt_0.3.with_cohort_data.tsv.gz\"\n",
    "meta_num = \"72\"\n",
    "\n",
    "infile = \"/data/{}\".format(results)\n",
    "outfile = \"/results/oprm1_snps_in_ngc_oaall_{}_afr.txt\".format(meta_num)\n",
    "snplist = \"/data/oprm1/oprm1_snp_list.txt\"\n",
    "\n",
    "with gzip.open(infile, \"rt\") as inF, open(outfile, \"w\") as outF, open(snplist) as inSNP:\n",
    "    head = inF.readline()\n",
    "    outF.write(head)\n",
    "    line = inF.readline()\n",
    "\n",
    "    snp_dic = dict()\n",
    "\n",
    "    inSNP.readline() # head\n",
    "    snp_line = inSNP.readline()\n",
    "    # populate dictionary\n",
    "    while snp_line:\n",
    "        sl = snp_line.split()\n",
    "        snp_dic[sl[0]] = snp_line\n",
    "        snp_line = inSNP.readline()\n",
    "\n",
    "    while line:\n",
    "        sl = line.split()\n",
    "        snp_id = sl[0]\n",
    "\n",
    "        if snp_id in snp_dic:\n",
    "            outF.write(line)\n",
    "        line = inF.readline()"
   ]
  },
  {
   "cell_type": "markdown",
   "metadata": {},
   "source": [
    "#### EUR"
   ]
  },
  {
   "cell_type": "code",
   "execution_count": null,
   "metadata": {},
   "outputs": [],
   "source": [
    "ancestry=eur\n",
    "cd /shared/rti-heroin/snp-lookup/oaall/${version}/results/$ancestry/\n",
    "\n",
    "docker run -it \\\n",
    "  -v \"/shared/rti-heroin/snp-lookup/oaall/${version}/data/:/data/\" \\\n",
    "  -v \"/shared/rti-heroin/snp-lookup/oaall/${version}/results/$ancestry/:/results/\" \\\n",
    "    python:3.8.4  python /results/lookup.py\n"
   ]
  },
  {
   "cell_type": "code",
   "execution_count": null,
   "metadata": {},
   "outputs": [],
   "source": [
    "# Python3\n",
    "import gzip\n",
    "\n",
    "results = \"cats+coga+decode+kreek+odb+uhs+vidus+yale-penn.ea.chr6.maf_gt_0.01.rsq_gt_0.3.with_cohort_data.gz\"\n",
    "meta_num = \"89\"\n",
    "ancestry = \"eur\"\n",
    "\n",
    "\n",
    "infile = \"/data/{}\".format(results)\n",
    "outfile = \"/results/oprm1_snps_in_ngc_oaall_{}_{}.txt\".format(meta_num,ancestry)\n",
    "snplist = \"/data/oprm1/oprm1_snp_list.txt\"\n",
    "\n",
    "with gzip.open(infile, \"rt\") as inF, open(outfile, \"w\") as outF, open(snplist) as inSNP:\n",
    "    head = inF.readline()\n",
    "    outF.write(head)\n",
    "    line = inF.readline()\n",
    "\n",
    "    snp_dic = dict()\n",
    "\n",
    "    inSNP.readline() # head\n",
    "    snp_line = inSNP.readline()\n",
    "    # populate dictionary \n",
    "    while snp_line:\n",
    "        sl = snp_line.split()\n",
    "        snp_dic[sl[0]] = snp_line\n",
    "        snp_line = inSNP.readline()\n",
    "\n",
    "    while line:\n",
    "        sl = line.split()\n",
    "        snp_id = sl[0]\n",
    "\n",
    "        if snp_id in snp_dic:\n",
    "            outF.write(line)\n",
    "        line = inF.readline()"
   ]
  },
  {
   "cell_type": "markdown",
   "metadata": {
    "toc-hr-collapsed": true,
    "toc-nb-collapsed": true
   },
   "source": [
    "### 106 & 107\n",
    "106 AFR\n",
    "107 EUR\n",
    "`s3://rti-heroin/rti-midas-data/studies/ngc/meta/106/processing/oaall/adaa+alive+coga+kreek+uhs.aa.chr6.maf_gt_0.01.rsq_gt_0.3.with_cohort_data.gz`\n",
    "`s3://rti-heroin/rti-midas-data/studies/ngc/meta/107/processing/oaall/cats+coga+decode+kreek+odb+uhs+vidus.ea.chr6.maf_gt_0.01.rsq_gt_0.3.with_cohort_data.gz`"
   ]
  },
  {
   "cell_type": "code",
   "execution_count": null,
   "metadata": {},
   "outputs": [],
   "source": [
    "# EC2\n",
    "version=0008\n",
    "mkdir -p /shared/rti-heroin/snp-lookup/oaall/${version}/data/oprm1\n",
    "mkdir -p /shared/rti-heroin/snp-lookup/oaall/${version}/results/{afr,eur}\n",
    "\n",
    "# download data\n",
    "cd /shared/rti-heroin/snp-lookup/oaall/${version}/data\n",
    "aws s3 cp s3://rti-heroin/rti-midas-data/studies/ngc/meta/106/processing/oaall/adaa+alive+coga+kreek+uhs.aa.chr6.maf_gt_0.01.rsq_gt_0.3.with_cohort_data.gz .\n",
    "aws s3 cp s3://rti-heroin/rti-midas-data/studies/ngc/meta/107/processing/oaall/cats+coga+decode+kreek+odb+uhs+vidus.ea.chr6.maf_gt_0.01.rsq_gt_0.3.with_cohort_data.gz .\n",
    "\n",
    "# copy oprm1 SNP list created from the Excel sheet to EC2\n",
    "mkdir -p /home/jesse/Projects/heroin/snp-lookup/oaall/${version}/{data,results}/  # local\n",
    "cd /home/jesse/Projects/heroin/snp-lookup/oaall/${version}/data/  # local\n",
    "scp -i ~/.ssh/gwas_rsa oprm1_snp_list.txt  ec2-user@34.195.174.206:/shared/rti-heroin/snp-lookup/oaall/${version}/data/oprm1/"
   ]
  },
  {
   "cell_type": "markdown",
   "metadata": {},
   "source": [
    "#### AFR"
   ]
  },
  {
   "cell_type": "code",
   "execution_count": null,
   "metadata": {},
   "outputs": [],
   "source": [
    "ancestry=afr\n",
    "cd /shared/rti-heroin/snp-lookup/oaall/${version}/results/$ancestry/\n",
    "\n",
    "docker run -it \\\n",
    "  -v \"/shared/rti-heroin/snp-lookup/oaall/${version}/data/:/data/\" \\\n",
    "  -v \"/shared/rti-heroin/snp-lookup/oaall/${version}/results/$ancestry/:/results/\" \\\n",
    "    python:3.8.4  python /results/lookup.py\n"
   ]
  },
  {
   "cell_type": "code",
   "execution_count": null,
   "metadata": {},
   "outputs": [],
   "source": [
    "# Python3\n",
    "import gzip\n",
    "\n",
    "results = \"adaa+alive+coga+kreek+uhs.aa.chr6.maf_gt_0.01.rsq_gt_0.3.with_cohort_data.gz\"\n",
    "meta_num = \"106\"\n",
    "ancestry = \"afr\"\n",
    "\n",
    "infile = \"/data/{}\".format(results)\n",
    "outfile = \"/results/oprm1_snps_in_ngc_oaall_{}_{}.txt\".format(meta_num, ancestry)\n",
    "snplist = \"/data/oprm1/oprm1_snp_list.txt\"\n",
    "\n",
    "with gzip.open(infile, \"rt\") as inF, open(outfile, \"w\") as outF, open(snplist) as inSNP:\n",
    "    head = inF.readline()\n",
    "    outF.write(head)\n",
    "    line = inF.readline()\n",
    "\n",
    "    snp_dic = dict()\n",
    "\n",
    "    inSNP.readline() # head\n",
    "    snp_line = inSNP.readline()\n",
    "    # populate dictionary\n",
    "    while snp_line:\n",
    "        sl = snp_line.split()\n",
    "        snp_dic[sl[0]] = snp_line\n",
    "        snp_line = inSNP.readline()\n",
    "\n",
    "    while line:\n",
    "        sl = line.split()\n",
    "        snp_id = sl[0]\n",
    "\n",
    "        if snp_id in snp_dic:\n",
    "            outF.write(line)\n",
    "        line = inF.readline()"
   ]
  },
  {
   "cell_type": "markdown",
   "metadata": {},
   "source": [
    "#### EUR"
   ]
  },
  {
   "cell_type": "code",
   "execution_count": null,
   "metadata": {},
   "outputs": [],
   "source": [
    "ancestry=eur\n",
    "cd /shared/rti-heroin/snp-lookup/oaall/${version}/results/$ancestry/\n",
    "\n",
    "docker run -it \\\n",
    "  -v \"/shared/rti-heroin/snp-lookup/oaall/${version}/data/:/data/\" \\\n",
    "  -v \"/shared/rti-heroin/snp-lookup/oaall/${version}/results/$ancestry/:/results/\" \\\n",
    "    python:3.8.4  python /results/lookup.py\n"
   ]
  },
  {
   "cell_type": "code",
   "execution_count": null,
   "metadata": {},
   "outputs": [],
   "source": [
    "# Python3\n",
    "import gzip\n",
    "\n",
    "results = \"cats+coga+decode+kreek+odb+uhs+vidus+yale-penn.ea.chr6.maf_gt_0.01.rsq_gt_0.3.with_cohort_data.gz\"\n",
    "meta_num = \"89\"\n",
    "ancestry = \"eur\"\n",
    "\n",
    "\n",
    "infile = \"/data/{}\".format(results)\n",
    "outfile = \"/results/oprm1_snps_in_ngc_oaall_{}_{}.txt\".format(meta_num,ancestry)\n",
    "snplist = \"/data/oprm1/oprm1_snp_list.txt\"\n",
    "\n",
    "with gzip.open(infile, \"rt\") as inF, open(outfile, \"w\") as outF, open(snplist) as inSNP:\n",
    "    head = inF.readline()\n",
    "    outF.write(head)\n",
    "    line = inF.readline()\n",
    "\n",
    "    snp_dic = dict()\n",
    "\n",
    "    inSNP.readline() # head\n",
    "    snp_line = inSNP.readline()\n",
    "    # populate dictionary \n",
    "    while snp_line:\n",
    "        sl = snp_line.split()\n",
    "        snp_dic[sl[0]] = snp_line\n",
    "        snp_line = inSNP.readline()\n",
    "\n",
    "    while line:\n",
    "        sl = line.split()\n",
    "        snp_id = sl[0]\n",
    "\n",
    "        if snp_id in snp_dic:\n",
    "            outF.write(line)\n",
    "        line = inF.readline()"
   ]
  },
  {
   "cell_type": "markdown",
   "metadata": {},
   "source": [
    "## Beta Comparison\n",
    "Compare the effect size between the AFR and EUR groups. We want to create a scatterplot of the SNP effect sizes with the intersection set. "
   ]
  },
  {
   "cell_type": "markdown",
   "metadata": {},
   "source": [
    "### meta 112 vs 115\n",
    "`s3://rti-heroin/rti-midas-data/studies/ngc/meta/112/processing/oaall/adaa+alive+coga+kreek+uhs+yale-penn.aa.chr6.maf_gt_0.01.rsq_gt_0.3.with_cohort_data.tsv.gz`\n",
    "\n",
    "`s3://rti-heroin/rti-midas-data/studies/ngc/meta/115/processing/oaall/cats+coga+decode+kreek+odb+uhs+vidus+yale-penn.ea.chr6.maf_gt_0.01.rsq_gt_0.3.with_cohort_data.tsv.gz`"
   ]
  },
  {
   "cell_type": "code",
   "execution_count": 22,
   "metadata": {},
   "outputs": [
    {
     "data": {
      "text/html": [
       "208"
      ],
      "text/latex": [
       "208"
      ],
      "text/markdown": [
       "208"
      ],
      "text/plain": [
       "[1] 208"
      ]
     },
     "metadata": {},
     "output_type": "display_data"
    },
    {
     "data": {
      "image/png": "[encoded data removed]",
      "text/plain": [
       "plot without title"
      ]
     },
     "metadata": {},
     "output_type": "display_data"
    }
   ],
   "source": [
    "library(ggplot2)\n",
    "options(repr.plot.width=7, repr.plot.height=5)\n",
    "\n",
    "setwd(\"~/Projects/heroin/snp-lookup/oaall/0003/results/\")\n",
    "eur_df <- read.delim(\"eur/oprm1_snps_in_ngc_oaall_115_eur.txt\", stringsAsFactors = F)\n",
    "afr_df <- read.delim(\"afr/oprm1_snps_in_ngc_oaall_112_afr.txt\", stringsAsFactors = F)\n",
    "pvalue = 0.05\n",
    "\n",
    "snp_intersection <- intersect(eur_df$MarkerName, afr_df$MarkerName)\n",
    "\n",
    "\n",
    "# filter to only the intersection \n",
    "eur_int <- eur_df[eur_df$MarkerName %in% snp_intersection, ]\n",
    "afr_int <- afr_df[afr_df$MarkerName %in% snp_intersection, ]\n",
    "\n",
    "# create lists of SNPs significant in either EUR or AFR\n",
    "eur_sig <- eur_int[which(eur_int$P.value <= pvalue), \"MarkerName\"]\n",
    "afr_sig <- afr_int[which(afr_int$P.value <= pvalue), \"MarkerName\"]\n",
    "\n",
    "# combine SNP sets but remove duplicates\n",
    "unique_snps <- unique(c(afr_sig, eur_sig))\n",
    "length(unique_snps)\n",
    "\n",
    "# filter both ancestries to this \"either or\" significant SNP list\n",
    "eur_final <- eur_int[eur_int$MarkerName %in% unique_snps, ]\n",
    "afr_final <- afr_int[afr_int$MarkerName %in% unique_snps, ]\n",
    "\n",
    "mytitle <- paste(\"OPRM1 SNP Effect Sizes in NGC OAall AFR (112) & EUR (115):\\n P≤\", pvalue, \"in either\")\n",
    "qplot(x = eur_final$Effect, y = afr_final$Effect,\n",
    "      colour = I(rgb(0,100,0,90, maxColorValue=255)),\n",
    "      size = I(2),\n",
    "     main = mytitle,\n",
    "     xlab = \"EUR β\",\n",
    "     ylab = \"AFR β\",) +\n",
    "    theme(plot.title = element_text(hjust = 0.5))\n"
   ]
  },
  {
   "cell_type": "markdown",
   "metadata": {},
   "source": [
    "### meta 112 vs 113\n",
    "`s3://rti-heroin/rti-midas-data/studies/ngc/meta/112/processing/oaall/adaa+alive+coga+kreek+uhs+yale-penn.aa.chr6.maf_gt_0.01.rsq_gt_0.3.with_cohort_data.tsv.gz`\n",
    "\n",
    "`s3://rti-heroin/rti-midas-data/studies/ngc/meta/113/processing/oaall/cats+coga+decode+kreek+odb+uhs+vidus+yale-penn.ea.chr6.maf_gt_0.01.rsq_gt_0.3.with_cohort_data.tsv.gz`"
   ]
  },
  {
   "cell_type": "code",
   "execution_count": null,
   "metadata": {},
   "outputs": [],
   "source": [
    "library(ggplot2)\n",
    "options(repr.plot.width=7, repr.plot.height=5)\n",
    "\n",
    "setwd(\"~/Projects/heroin/snp-lookup/oaall/0006/results/\")\n",
    "eur_df <- read.delim(\"eur/oprm1_snps_in_ngc_oaall_113_eur.txt\", stringsAsFactors = F)\n",
    "afr_df <- read.delim(\"afr/oprm1_snps_in_ngc_oaall_112_afr.txt\", stringsAsFactors = F)\n",
    "pvalue <- 0.05\n",
    "\n",
    "snp_intersection <- intersect(eur_df$MarkerName, afr_df$MarkerName)\n",
    "\n",
    "\n",
    "# filter to only the intersection \n",
    "eur_int <- eur_df[eur_df$MarkerName %in% snp_intersection, ]\n",
    "afr_int <- afr_df[afr_df$MarkerName %in% snp_intersection, ]\n",
    "\n",
    "# create lists of SNPs significant in either EUR or AFR\n",
    "eur_sig <- eur_int[which(eur_int$P.value <= pvalue), \"MarkerName\"]\n",
    "afr_sig <- afr_int[which(afr_int$P.value <= pvalue), \"MarkerName\"]\n",
    "\n",
    "# combine SNP sets but remove duplicates\n",
    "unique_snps <- unique(c(afr_sig, eur_sig))\n",
    "\n",
    "# filter both ancestries to this \"either or\" significant SNP list\n",
    "eur_final <- eur_int[eur_int$MarkerName %in% unique_snps, ]\n",
    "afr_final <- afr_int[afr_int$MarkerName %in% unique_snps, ]\n",
    "\n",
    "mytitle <- paste(\"OPRM1 SNP Effect Sizes in NGC OAall AFR (112) & EUR (113):\\n P≤\", pvalue, \"in either\")\n",
    "qplot(x = eur_final$Effect, y = afr_final$Effect,\n",
    "      colour = I(rgb(0,100,0,90, maxColorValue=255)),\n",
    "      size = I(2),\n",
    "     main = mytitle, \n",
    "     xlab = \"EUR β\",\n",
    "     ylab = \"AFR β\",) +\n",
    "    theme(plot.title = element_text(hjust = 0.5))"
   ]
  },
  {
   "cell_type": "markdown",
   "metadata": {},
   "source": [
    "### meta 72 vs 89\n",
    "`s3://rti-heroin/rti-midas-data/studies/ngc/meta/072/processing/oaall/adaa+alive+coga+kreek+uhs+yale-penn.aa.chr6.maf_gt_0.01.rsq_gt_0.3.with_cohort_data.gz`\n",
    "\n",
    "`s3://rti-heroin/rti-midas-data/studies/ngc/meta/089/processing/oaall/cats+coga+decode+kreek+odb+uhs+vidus+yale-penn.ea.chr6.maf_gt_0.01.rsq_gt_0.3.with_cohort_data.gz`\n"
   ]
  },
  {
   "cell_type": "code",
   "execution_count": 13,
   "metadata": {},
   "outputs": [
    {
     "data": {
      "image/png": "[encoded data removed]",
      "text/plain": [
       "plot without title"
      ]
     },
     "metadata": {},
     "output_type": "display_data"
    }
   ],
   "source": [
    "library(ggplot2)\n",
    "options(repr.plot.width=7, repr.plot.height=5)\n",
    "\n",
    "setwd(\"~/Projects/heroin/snp-lookup/oaall/0004/results/\")\n",
    "eur_df <- read.delim(\"eur/oprm1_snps_in_ngc_oaall_89_eur.txt\", stringsAsFactors = F)\n",
    "afr_df <- read.delim(\"afr/oprm1_snps_in_ngc_oaall_72_afr.txt\", stringsAsFactors = F)\n",
    "\n",
    "snp_intersection <- intersect(eur_df$MarkerName, afr_df$MarkerName)\n",
    "\n",
    "\n",
    "# filter to only the intersection \n",
    "eur_int <- eur_df[eur_df$MarkerName %in% snp_intersection, ]\n",
    "afr_int <- afr_df[afr_df$MarkerName %in% snp_intersection, ]\n",
    "\n",
    "# create lists of SNPs significant in either EUR or AFR\n",
    "eur_sig <- eur_int[which(eur_int$P.value <= 0.05), \"MarkerName\"]\n",
    "afr_sig <- afr_int[which(afr_int$P.value <= 0.05), \"MarkerName\"]\n",
    "\n",
    "# combine SNP sets but remove duplicates\n",
    "unique_snps <- unique(c(afr_sig, eur_sig))\n",
    "\n",
    "# filter both ancestries to this \"either or\" significant SNP list\n",
    "eur_final <- eur_int[eur_int$MarkerName %in% unique_snps, ]\n",
    "afr_final <- afr_int[afr_int$MarkerName %in% unique_snps, ]\n",
    "\n",
    "\n",
    "qplot(x = eur_final$Effect, y = afr_final$Effect,\n",
    "      colour = I(rgb(0,100,0,90, maxColorValue=255)),\n",
    "      size = I(2),\n",
    "     main = \"OPRM1 SNP Effect Sizes in NGC OAall AFR (072) & EUR (089):\\n P≤0.05 in either\",\n",
    "     xlab = \"EUR β\",\n",
    "     ylab = \"AFR β\",) +\n",
    "    theme(plot.title = element_text(hjust = 0.5))\n"
   ]
  },
  {
   "cell_type": "markdown",
   "metadata": {},
   "source": [
    "### meta 72 vs 94\n",
    "`s3://rti-heroin/rti-midas-data/studies/ngc/meta/072/processing/oaall/adaa+alive+coga+kreek+uhs+yale-penn.aa.chr6.maf_gt_0.01.rsq_gt_0.3.with_cohort_data.gz`\n",
    "\n",
    "`s3://rti-heroin/rti-midas-data/studies/ngc/meta/094/processing/oaall/cats+coga+decode+kreek+odb+uhs+vidus+yale-penn.ea.chr6.maf_gt_0.01.rsq_gt_0.3.with_cohort_data.gz`"
   ]
  },
  {
   "cell_type": "code",
   "execution_count": 16,
   "metadata": {},
   "outputs": [
    {
     "data": {
      "image/png": "[encoded data removed]",
      "text/plain": [
       "plot without title"
      ]
     },
     "metadata": {},
     "output_type": "display_data"
    }
   ],
   "source": [
    "library(ggplot2)\n",
    "options(repr.plot.width=7, repr.plot.height=5)\n",
    "\n",
    "setwd(\"~/Projects/heroin/snp-lookup/oaall/0005/results/\")\n",
    "eur_df <- read.delim(\"eur/oprm1_snps_in_ngc_oaall_94_eur.txt\", stringsAsFactors = F)\n",
    "afr_df <- read.delim(\"afr/oprm1_snps_in_ngc_oaall_72_afr.txt\", stringsAsFactors = F)\n",
    "pvalue <- 0.001\n",
    "\n",
    "snp_intersection <- intersect(eur_df$MarkerName, afr_df$MarkerName)\n",
    "\n",
    "\n",
    "# filter to only the intersection \n",
    "eur_int <- eur_df[eur_df$MarkerName %in% snp_intersection, ]\n",
    "afr_int <- afr_df[afr_df$MarkerName %in% snp_intersection, ]\n",
    "\n",
    "# create lists of SNPs significant in either EUR or AFR\n",
    "eur_sig <- eur_int[which(eur_int$P.value <= pvalue), \"MarkerName\"]\n",
    "afr_sig <- afr_int[which(afr_int$P.value <= pvalue), \"MarkerName\"]\n",
    "\n",
    "# combine SNP sets but remove duplicates\n",
    "unique_snps <- unique(c(afr_sig, eur_sig))\n",
    "\n",
    "# filter both ancestries to this \"either or\" significant SNP list\n",
    "eur_final <- eur_int[eur_int$MarkerName %in% unique_snps, ]\n",
    "afr_final <- afr_int[afr_int$MarkerName %in% unique_snps, ]\n",
    "\n",
    "mytitle <- paste(\"OPRM1 SNP Effect Sizes in NGC OAall AFR (072) & EUR (094):\\n P≤\", pvalue, \"in either\")\n",
    "qplot(x = eur_final$Effect, y = afr_final$Effect,\n",
    "      colour = I(rgb(0,100,0,90, maxColorValue=255)),\n",
    "      size = I(2),\n",
    "     main = mytitle, \n",
    "     xlab = \"EUR β\",\n",
    "     ylab = \"AFR β\",) +\n",
    "    theme(plot.title = element_text(hjust = 0.5))\n"
   ]
  },
  {
   "cell_type": "markdown",
   "metadata": {},
   "source": [
    "### meta 106 vs 107\n",
    "106 AFR<br>\n",
    "107 EUR<br>\n",
    "`s3://rti-heroin/rti-midas-data/studies/ngc/meta/106/processing/oaall/adaa+alive+coga+kreek+uhs.aa.chr6.maf_gt_0.01.rsq_gt_0.3.with_cohort_data.gz`\n",
    "`s3://rti-heroin/rti-midas-data/studies/ngc/meta/107/processing/oaall/cats+coga+decode+kreek+odb+uhs+vidus.ea.chr6.maf_gt_0.01.rsq_gt_0.3.with_cohort_data.gz`"
   ]
  },
  {
   "cell_type": "code",
   "execution_count": 25,
   "metadata": {},
   "outputs": [
    {
     "data": {
      "image/png": "[encoded data removed]",
      "text/plain": [
       "plot without title"
      ]
     },
     "metadata": {},
     "output_type": "display_data"
    }
   ],
   "source": [
    "library(ggplot2)\n",
    "options(repr.plot.width=7, repr.plot.height=5)\n",
    "\n",
    "setwd(\"~/Projects/heroin/snp-lookup/oaall/0008/results/\")\n",
    "eur_df <- read.delim(\"eur/oprm1_snps_in_ngc_oaall_107_eur.txt\", stringsAsFactors = F)\n",
    "afr_df <- read.delim(\"afr/oprm1_snps_in_ngc_oaall_106_afr.txt\", stringsAsFactors = F)\n",
    "pvalue <- 0.05\n",
    "\n",
    "snp_intersection <- intersect(eur_df$MarkerName, afr_df$MarkerName)\n",
    "\n",
    "\n",
    "# filter to only the intersection \n",
    "eur_int <- eur_df[eur_df$MarkerName %in% snp_intersection, ]\n",
    "afr_int <- afr_df[afr_df$MarkerName %in% snp_intersection, ]\n",
    "\n",
    "# create lists of SNPs significant in either EUR or AFR\n",
    "eur_sig <- eur_int[which(eur_int$P.value <= pvalue), \"MarkerName\"]\n",
    "afr_sig <- afr_int[which(afr_int$P.value <= pvalue), \"MarkerName\"]\n",
    "\n",
    "# combine SNP sets but remove duplicates\n",
    "unique_snps <- unique(c(afr_sig, eur_sig))\n",
    "\n",
    "# filter both ancestries to this \"either or\" significant SNP list\n",
    "eur_final <- eur_int[eur_int$MarkerName %in% unique_snps, ]\n",
    "afr_final <- afr_int[afr_int$MarkerName %in% unique_snps, ]\n",
    "\n",
    "mytitle <- paste(\"OPRM1 SNP Effect Sizes in NGC OAall AFR (106) & EUR (107):\\n P≤\", pvalue, \"in either\")\n",
    "qplot(x = eur_final$Effect, y = afr_final$Effect,\n",
    "      colour = I(rgb(0,100,0,90, maxColorValue=255)),\n",
    "      size = I(2),\n",
    "     main = mytitle, \n",
    "     xlab = \"EUR β\",\n",
    "     ylab = \"AFR β\",) +\n",
    "    theme(plot.title = element_text(hjust = 0.5))\n"
   ]
  },
  {
   "cell_type": "markdown",
   "metadata": {},
   "source": [
    "### meta Excel: 72 vs 89\n",
    "EOJ wanted me to plot EUR vs AFR with the results in the Excel sheet on the share drive:\n",
    "`/Volumes/eojohnson/Heroin/NGC GWAS/gene_set_analysis/oaall/oaall-oprm1_magama_snps.xlsx`"
   ]
  },
  {
   "cell_type": "code",
   "execution_count": null,
   "metadata": {},
   "outputs": [],
   "source": [
    "library(ggplot2)\n",
    "library(xlsx)\n",
    "options(repr.plot.width=7, repr.plot.height=5)\n",
    "\n",
    "setwd(\"~/Projects/heroin/snp-lookup/oaall/0007/\")\n",
    "#eur_df <- read.xlsx(\"oaall_oprm1_magma_snps.xlsx\", sheetName = \"EUR deCODE OAall\")\n",
    "#afr_df <- read.xlsx(\"oaall_oprm1_magma_snps.xlsx\", sheetName = \"AFR\")"
   ]
  },
  {
   "cell_type": "code",
   "execution_count": 20,
   "metadata": {},
   "outputs": [
    {
     "data": {
      "text/html": [
       "107"
      ],
      "text/latex": [
       "107"
      ],
      "text/markdown": [
       "107"
      ],
      "text/plain": [
       "[1] 107"
      ]
     },
     "metadata": {},
     "output_type": "display_data"
    },
    {
     "data": {
      "image/png": "[encoded data removed]",
      "text/plain": [
       "plot without title"
      ]
     },
     "metadata": {},
     "output_type": "display_data"
    }
   ],
   "source": [
    "library(ggplot2)\n",
    "options(repr.plot.width=7, repr.plot.height=5)\n",
    "\n",
    "setwd(\"~/Projects/heroin/snp-lookup/oaall/0007/\")\n",
    "eur_df <- read.delim(\"oaall_oprm1_magma_snps_decode_oaall.txt\", stringsAsFactors = F)\n",
    "afr_df <- read.delim(\"oaall_oprm1_magma_snps_afr.txt\", stringsAsFactors = F)\n",
    "\n",
    "pvalue <- 0.001\n",
    "snp_intersection <- intersect(eur_df$MarkerName, afr_df$MarkerName)\n",
    "\n",
    "\n",
    "# filter to only the intersection \n",
    "eur_int <- eur_df[eur_df$MarkerName %in% snp_intersection, ]\n",
    "afr_int <- afr_df[afr_df$MarkerName %in% snp_intersection, ]\n",
    "\n",
    "# create lists of SNPs significant in either EUR or AFR\n",
    "eur_sig <- eur_int[which(eur_int$P.value <= pvalue), \"MarkerName\"]\n",
    "afr_sig <- afr_int[which(afr_int$P.value <= pvalue), \"MarkerName\"]\n",
    "\n",
    "# combine SNP sets but remove duplicates\n",
    "unique_snps <- unique(c(afr_sig, eur_sig))\n",
    "length(unique_snps)\n",
    "\n",
    "# filter both ancestries to this \"either or\" significant SNP list\n",
    "eur_final <- eur_int[eur_int$MarkerName %in% unique_snps, ]\n",
    "afr_final <- afr_int[afr_int$MarkerName %in% unique_snps, ]\n",
    "\n",
    "mytitle <- paste(\"OPRM1 SNP Effect Sizes in NGC OAall AFR (72) & EUR (089):\\n P≤\", pvalue, \"in either\")\n",
    "qplot(x = eur_final$Effect, y = afr_final$Effect,\n",
    "      colour = I(rgb(0,100,0,90, maxColorValue=255)),\n",
    "      size = I(2),\n",
    "     main = mytitle, \n",
    "     xlab = \"EUR β\",\n",
    "     ylab = \"AFR β\",) +\n",
    "    theme(plot.title = element_text(hjust = 0.5))\n"
   ]
  },
  {
   "cell_type": "markdown",
   "metadata": {},
   "source": [
    "### meta Excel: 72 vs 94\n",
    "EOJ wanted me to plot EUR vs AFR with the results in the Excel sheet on the share drive:\n",
    "`/Volumes/eojohnson/Heroin/NGC GWAS/gene_set_analysis/oaall/oaall-oprm1_magama_snps.xlsx`"
   ]
  },
  {
   "cell_type": "code",
   "execution_count": 19,
   "metadata": {},
   "outputs": [
    {
     "data": {
      "text/html": [
       "108"
      ],
      "text/latex": [
       "108"
      ],
      "text/markdown": [
       "108"
      ],
      "text/plain": [
       "[1] 108"
      ]
     },
     "metadata": {},
     "output_type": "display_data"
    },
    {
     "data": {
      "image/png": "[encoded data removed]",
      "text/plain": [
       "plot without title"
      ]
     },
     "metadata": {},
     "output_type": "display_data"
    }
   ],
   "source": [
    "library(ggplot2)\n",
    "options(repr.plot.width=7, repr.plot.height=5)\n",
    "\n",
    "setwd(\"~/Projects/heroin/snp-lookup/oaall/0007/\")\n",
    "eur_df <- read.delim(\"oaall_oprm1_magma_snps_decode_oaexp.txt\", stringsAsFactors = F)\n",
    "afr_df <- read.delim(\"oaall_oprm1_magma_snps_afr.txt\", stringsAsFactors = F)\n",
    "\n",
    "pvalue <- 0.001\n",
    "snp_intersection <- intersect(eur_df$MarkerName, afr_df$MarkerName)\n",
    "\n",
    "\n",
    "# filter to only the intersection \n",
    "eur_int <- eur_df[eur_df$MarkerName %in% snp_intersection, ]\n",
    "afr_int <- afr_df[afr_df$MarkerName %in% snp_intersection, ]\n",
    "\n",
    "# create lists of SNPs significant in either EUR or AFR\n",
    "eur_sig <- eur_int[which(eur_int$P.value <= pvalue), \"MarkerName\"]\n",
    "afr_sig <- afr_int[which(afr_int$P.value <= pvalue), \"MarkerName\"]\n",
    "\n",
    "# combine SNP sets but remove duplicates\n",
    "unique_snps <- unique(c(afr_sig, eur_sig))\n",
    "length(unique_snps)\n",
    "\n",
    "# filter both ancestries to this \"either or\" significant SNP list\n",
    "eur_final <- eur_int[eur_int$MarkerName %in% unique_snps, ]\n",
    "afr_final <- afr_int[afr_int$MarkerName %in% unique_snps, ]\n",
    "\n",
    "mytitle <- paste(\"OPRM1 SNP Effect Sizes in NGC OAall AFR (72) & EUR (94):\\n P≤\", pvalue, \"in either\")\n",
    "qplot(x = eur_final$Effect, y = afr_final$Effect,\n",
    "      colour = I(rgb(0,100,0,90, maxColorValue=255)),\n",
    "      size = I(2),\n",
    "     main = mytitle, \n",
    "     xlab = \"EUR β\",\n",
    "     ylab = \"AFR β\",) +\n",
    "    theme(plot.title = element_text(hjust = 0.5))"
   ]
  },
  {
   "cell_type": "markdown",
   "metadata": {},
   "source": [
    "### Yale-Penn CIDR"
   ]
  },
  {
   "cell_type": "code",
   "execution_count": null,
   "metadata": {},
   "outputs": [],
   "source": [
    "### R ###\n",
    "library(ggplot2)\n",
    "options(repr.plot.width=7, repr.plot.height=5)\n",
    "\n",
    "setwd(\"~/Projects/heroin/snp-lookup/oaall/0003/results/\")\n",
    "eur_df <- read.delim(\"eur/oprm1_snps_in_ngc_oaall_eur.txt\", stringsAsFactors = F)\n",
    "afr_df <- read.delim(\"afr/oprm1_snps_in_ngc_oaall_afr.txt\", stringsAsFactors = F)\n",
    "\n",
    "snp_intersection <- intersect(eur_df$MarkerName, afr_df$MarkerName)\n",
    "\n",
    "# filter to only the intersection \n",
    "eur_int <- eur_df[eur_df$MarkerName %in% snp_intersection, ]\n",
    "afr_int <- afr_df[afr_df$MarkerName %in% snp_intersection, ]\n",
    "\n",
    "# create lists of SNPs significant in either EUR or AFR\n",
    "eur_sig <- eur_int[which(eur_int$yale.penn.cidr.ea.PVALUE <= 0.05), \"MarkerName\"]\n",
    "afr_sig <- afr_int[which(afr_int$yale.penn.cidr.aa.PVALUE <= 0.05), \"MarkerName\"]\n",
    "\n",
    "# combine SNP sets but remove duplicates\n",
    "unique_snps <- unique(c(afr_sig, eur_sig))\n",
    "\n",
    "# filter both ancestries to this \"either or\" significant SNP list\n",
    "eur_final <- eur_int[eur_int$MarkerName %in% unique_snps, ]\n",
    "afr_final <- afr_int[afr_int$MarkerName %in% unique_snps, ]\n",
    "\n",
    "\n",
    "qplot(x = eur_final$yale.penn.cidr.ea.ALT_EFFSIZE , y = afr_final$yale.penn.cidr.aa.ALT_EFFSIZE,\n",
    "      colour = I(rgb(0,100,0,90, maxColorValue=255)),\n",
    "      size = I(1.5),\n",
    "     main = \"OPRM1 SNP Effect Sizes in Yale-Penn_CIDR AFR & EUR:\\n P≤0.05 in either\",\n",
    "     xlab = \"EUR β\",\n",
    "     ylab = \"AFR β\",) +\n",
    "    theme(plot.title = element_text(hjust = 0.5))\n",
    "\n",
    "#qplot(x = eur_final$yale.penn.go.ea.ALT_EFFSIZE , y = afr_final$yale.penn.go.aa.ALT_EFFSIZE,\n",
    "#      colour = I(rgb(0,100,0,90, maxColorValue=255)),\n",
    "#      size = I(1.5),\n",
    "#     main = \"OPRM1 SNP Effect Sizes in Yale-Penn_GO AFR & EUR:\\n P≤0.05 in either\",\n",
    "#     xlab = \"EUR β\",\n",
    "#     ylab = \"AFR β\",) +\n",
    "#    theme(plot.title = element_text(hjust = 0.5))\n",
    "#\n",
    "#qplot(x = eur_final$coga.ea.ALT_EFFSIZE , y = afr_final$coga.aa.ALT_EFFSIZE,\n",
    "#      colour = I(rgb(0,100,0,90, maxColorValue=255)),\n",
    "#      size = I(1.5),\n",
    "#     main = \"OPRM1 SNP Effect Sizes in COGA AFR & EUR:\\n P≤0.05 in either\",\n",
    "#     xlab = \"EUR β\",\n",
    "#     ylab = \"AFR β\",) +\n",
    "#    theme(plot.title = element_text(hjust = 0.5))\n",
    "#\n",
    "#qplot(x = eur_final$kreek.ea.ALT_EFFSIZE , y = afr_final$kreek.aa.ALT_EFFSIZE,\n",
    "#      colour = I(rgb(0,100,0,90, maxColorValue=255)),\n",
    "#      size = I(1.5),\n",
    "#     main = \"OPRM1 SNP Effect Sizes in Kreek AFR & EUR:\\n P≤0.05 in either\",\n",
    "#     xlab = \"EUR β\",\n",
    "#     ylab = \"AFR β\",) +\n",
    "#    theme(plot.title = element_text(hjust = 0.5))\n",
    "#\n",
    "#qplot(x = eur_final$uhs1.ea.ALT_EFFSIZE , y = afr_final$uhs1.2.3.aa.ALT_EFFSIZE,\n",
    "#      colour = I(rgb(0,100,0,90, maxColorValue=255)),\n",
    "#      size = I(1.5),\n",
    "#     main = \"OPRM1 SNP Effect Sizes in UHS1_EUR vs UHS123_AFR:\\n P≤0.05 in either\",\n",
    "#     xlab = \"EUR β\",\n",
    "#     ylab = \"AFR β\",) +\n",
    "#    theme(plot.title = element_text(hjust = 0.5))"
   ]
  },
  {
   "cell_type": "markdown",
   "metadata": {},
   "source": [
    "### Yale-Penn GO"
   ]
  },
  {
   "cell_type": "code",
   "execution_count": null,
   "metadata": {},
   "outputs": [],
   "source": [
    "### R ###\n",
    "library(ggplot2)\n",
    "options(repr.plot.width=7, repr.plot.height=5)\n",
    "\n",
    "setwd(\"~/Projects/heroin/snp-lookup/oaall/0003/results/\")\n",
    "eur_df <- read.delim(\"eur/oprm1_snps_in_ngc_oaall_eur.txt\", stringsAsFactors = F)\n",
    "afr_df <- read.delim(\"afr/oprm1_snps_in_ngc_oaall_afr.txt\", stringsAsFactors = F)\n",
    "\n",
    "snp_intersection <- intersect(eur_df$MarkerName, afr_df$MarkerName)\n",
    "\n",
    "# filter to only the intersection \n",
    "eur_int <- eur_df[eur_df$MarkerName %in% snp_intersection, ]\n",
    "afr_int <- afr_df[afr_df$MarkerName %in% snp_intersection, ]\n",
    "\n",
    "# create lists of SNPs significant in either EUR or AFR\n",
    "eur_sig <- eur_int[which(eur_int$yale.penn.go.ea.PVALUE <= 0.05), \"MarkerName\"]\n",
    "afr_sig <- afr_int[which(afr_int$yale.penn.go.aa.PVALUE <= 0.05), \"MarkerName\"]\n",
    "\n",
    "# combine SNP sets but remove duplicates\n",
    "unique_snps <- unique(c(afr_sig, eur_sig))\n",
    "\n",
    "# filter both ancestries to this \"either or\" significant SNP list\n",
    "eur_final <- eur_int[eur_int$MarkerName %in% unique_snps, ]\n",
    "afr_final <- afr_int[afr_int$MarkerName %in% unique_snps, ]\n",
    "\n",
    "\n",
    "qplot(x = eur_final$yale.penn.go.ea.ALT_EFFSIZE , y = afr_final$yale.penn.go.aa.ALT_EFFSIZE,\n",
    "      colour = I(rgb(0,100,0,90, maxColorValue=255)),\n",
    "      size = I(1.5),\n",
    "     main = \"OPRM1 SNP Effect Sizes in Yale-Penn_GO AFR & EUR:\\n P≤0.05 in either\",\n",
    "     xlab = \"EUR β\",\n",
    "     ylab = \"AFR β\",) +\n",
    "    theme(plot.title = element_text(hjust = 0.5))\n",
    "\n",
    "#qplot(x = eur_final$coga.ea.ALT_EFFSIZE , y = afr_final$coga.aa.ALT_EFFSIZE,\n",
    "#      colour = I(rgb(0,100,0,90, maxColorValue=255)),\n",
    "#      size = I(1.5),\n",
    "#     main = \"OPRM1 SNP Effect Sizes in COGA AFR & EUR:\\n P≤0.05 in either\",\n",
    "#     xlab = \"EUR β\",\n",
    "#     ylab = \"AFR β\",) +\n",
    "#    theme(plot.title = element_text(hjust = 0.5))\n",
    "#\n",
    "#qplot(x = eur_final$kreek.ea.ALT_EFFSIZE , y = afr_final$kreek.aa.ALT_EFFSIZE,\n",
    "#      colour = I(rgb(0,100,0,90, maxColorValue=255)),\n",
    "#      size = I(1.5),\n",
    "#     main = \"OPRM1 SNP Effect Sizes in Kreek AFR & EUR:\\n P≤0.05 in either\",\n",
    "#     xlab = \"EUR β\",\n",
    "#     ylab = \"AFR β\",) +\n",
    "#    theme(plot.title = element_text(hjust = 0.5))\n",
    "#\n",
    "#qplot(x = eur_final$uhs1.ea.ALT_EFFSIZE , y = afr_final$uhs1.2.3.aa.ALT_EFFSIZE,\n",
    "#      colour = I(rgb(0,100,0,90, maxColorValue=255)),\n",
    "#      size = I(1.5),\n",
    "#     main = \"OPRM1 SNP Effect Sizes in UHS1_EUR vs UHS123_AFR:\\n P≤0.05 in either\",\n",
    "#     xlab = \"EUR β\",\n",
    "#     ylab = \"AFR β\",) +\n",
    "#    theme(plot.title = element_text(hjust = 0.5))"
   ]
  },
  {
   "cell_type": "markdown",
   "metadata": {},
   "source": [
    "### COGA"
   ]
  },
  {
   "cell_type": "code",
   "execution_count": null,
   "metadata": {},
   "outputs": [],
   "source": [
    "### R ###\n",
    "library(ggplot2)\n",
    "options(repr.plot.width=7, repr.plot.height=5)\n",
    "\n",
    "setwd(\"~/Projects/heroin/snp-lookup/oaall/0003/results/\")\n",
    "eur_df <- read.delim(\"eur/oprm1_snps_in_ngc_oaall_eur.txt\", stringsAsFactors = F)\n",
    "afr_df <- read.delim(\"afr/oprm1_snps_in_ngc_oaall_afr.txt\", stringsAsFactors = F)\n",
    "\n",
    "snp_intersection <- intersect(eur_df$MarkerName, afr_df$MarkerName)\n",
    "\n",
    "# filter to only the intersection \n",
    "eur_int <- eur_df[eur_df$MarkerName %in% snp_intersection, ]\n",
    "afr_int <- afr_df[afr_df$MarkerName %in% snp_intersection, ]\n",
    "\n",
    "# create lists of SNPs significant in either EUR or AFR\n",
    "eur_sig <- eur_int[which(eur_int$coga.ea.PVALUE <= 0.05), \"MarkerName\"]\n",
    "afr_sig <- afr_int[which(afr_int$coga.aa.PVALUE <= 0.05), \"MarkerName\"]\n",
    "\n",
    "# combine SNP sets but remove duplicates\n",
    "unique_snps <- unique(c(afr_sig, eur_sig))\n",
    "\n",
    "# filter both ancestries to this \"either or\" significant SNP list\n",
    "eur_final <- eur_int[eur_int$MarkerName %in% unique_snps, ]\n",
    "afr_final <- afr_int[afr_int$MarkerName %in% unique_snps, ]\n",
    "\n",
    "\n",
    "qplot(x = eur_final$coga.ea.ALT_EFFSIZE , y = afr_final$coga.aa.ALT_EFFSIZE,\n",
    "      colour = I(rgb(0,100,0,90, maxColorValue=255)),\n",
    "      size = I(1.5),\n",
    "     main = \"OPRM1 SNP Effect Sizes in COGA AFR & EUR:\\n P≤0.05 in either\",\n",
    "     xlab = \"EUR β\",\n",
    "     ylab = \"AFR β\",) +\n",
    "    theme(plot.title = element_text(hjust = 0.5))\n"
   ]
  },
  {
   "cell_type": "markdown",
   "metadata": {},
   "source": [
    "### Kreek"
   ]
  },
  {
   "cell_type": "code",
   "execution_count": null,
   "metadata": {},
   "outputs": [],
   "source": [
    "### R ###\n",
    "library(ggplot2)\n",
    "options(repr.plot.width=7, repr.plot.height=5)\n",
    "\n",
    "setwd(\"~/Projects/heroin/snp-lookup/oaall/0003/results/\")\n",
    "eur_df <- read.delim(\"eur/oprm1_snps_in_ngc_oaall_eur.txt\", stringsAsFactors = F)\n",
    "afr_df <- read.delim(\"afr/oprm1_snps_in_ngc_oaall_afr.txt\", stringsAsFactors = F)\n",
    "\n",
    "snp_intersection <- intersect(eur_df$MarkerName, afr_df$MarkerName)\n",
    "\n",
    "# filter to only the intersection \n",
    "eur_int <- eur_df[eur_df$MarkerName %in% snp_intersection, ]\n",
    "afr_int <- afr_df[afr_df$MarkerName %in% snp_intersection, ]\n",
    "\n",
    "# create lists of SNPs significant in either EUR or AFR\n",
    "eur_sig <- eur_int[which(eur_int$kreek.ea.PVALUE <= 0.05), \"MarkerName\"]\n",
    "afr_sig <- afr_int[which(afr_int$kreek.aa.PVALUE <= 0.05), \"MarkerName\"]\n",
    "\n",
    "# combine SNP sets but remove duplicates\n",
    "unique_snps <- unique(c(afr_sig, eur_sig))\n",
    "\n",
    "# filter both ancestries to this \"either or\" significant SNP list\n",
    "eur_final <- eur_int[eur_int$MarkerName %in% unique_snps, ]\n",
    "afr_final <- afr_int[afr_int$MarkerName %in% unique_snps, ]\n",
    "\n",
    "qplot(x = eur_final$kreek.ea.ALT_EFFSIZE , y = afr_final$kreek.aa.ALT_EFFSIZE,\n",
    "      colour = I(rgb(0,100,0,90, maxColorValue=255)),\n",
    "      size = I(1.5),\n",
    "     main = \"OPRM1 SNP Effect Sizes in Kreek AFR & EUR:\\n P≤0.05 in either\",\n",
    "     xlab = \"EUR β\",\n",
    "     ylab = \"AFR β\",) +\n",
    "    theme(plot.title = element_text(hjust = 0.5))\n",
    "\n",
    "#qplot(x = eur_final$uhs1.ea.ALT_EFFSIZE , y = afr_final$uhs1.2.3.aa.ALT_EFFSIZE,\n",
    "#      colour = I(rgb(0,100,0,90, maxColorValue=255)),\n",
    "#      size = I(1.5),\n",
    "#     main = \"OPRM1 SNP Effect Sizes in UHS1_EUR vs UHS123_AFR:\\n P≤0.05 in either\",\n",
    "#     xlab = \"EUR β\",\n",
    "#     ylab = \"AFR β\",) +\n",
    "#    theme(plot.title = element_text(hjust = 0.5))"
   ]
  },
  {
   "cell_type": "markdown",
   "metadata": {},
   "source": [
    "### UHS1_EUR vs UHS123_AFR"
   ]
  },
  {
   "cell_type": "code",
   "execution_count": null,
   "metadata": {},
   "outputs": [],
   "source": [
    "### R ###\n",
    "library(ggplot2)\n",
    "options(repr.plot.width=7, repr.plot.height=5)\n",
    "\n",
    "setwd(\"~/Projects/heroin/snp-lookup/oaall/0003/results/\")\n",
    "eur_df <- read.delim(\"eur/oprm1_snps_in_ngc_oaall_eur.txt\", stringsAsFactors = F)\n",
    "afr_df <- read.delim(\"afr/oprm1_snps_in_ngc_oaall_afr.txt\", stringsAsFactors = F)\n",
    "\n",
    "snp_intersection <- intersect(eur_df$MarkerName, afr_df$MarkerName)\n",
    "\n",
    "# filter to only the intersection \n",
    "eur_int <- eur_df[eur_df$MarkerName %in% snp_intersection, ]\n",
    "afr_int <- afr_df[afr_df$MarkerName %in% snp_intersection, ]\n",
    "\n",
    "# create lists of SNPs significant in either EUR or AFR\n",
    "eur_sig <- eur_int[which(eur_int$uhs1.ea.PVALUE <= 0.05), \"MarkerName\"]\n",
    "afr_sig <- afr_int[which(afr_int$uhs1.2.3.aa.PVALUE <= 0.05), \"MarkerName\"]\n",
    "\n",
    "# combine SNP sets but remove duplicates\n",
    "unique_snps <- unique(c(afr_sig, eur_sig))\n",
    "\n",
    "# filter both ancestries to this \"either or\" significant SNP list\n",
    "eur_final <- eur_int[eur_int$MarkerName %in% unique_snps, ]\n",
    "afr_final <- afr_int[afr_int$MarkerName %in% unique_snps, ]\n",
    "\n",
    "qplot(x = eur_final$uhs1.ea.ALT_EFFSIZE , y = afr_final$uhs1.2.3.aa.ALT_EFFSIZE,\n",
    "      colour = I(rgb(0,100,0,90, maxColorValue=255)),\n",
    "      size = I(1.5),\n",
    "     main = \"OPRM1 SNP Effect Sizes in UHS1_EUR vs UHS123_AFR:\\n P≤0.05 in either\",\n",
    "     xlab = \"EUR β\",\n",
    "     ylab = \"AFR β\",) +\n",
    "    theme(plot.title = element_text(hjust = 0.5))"
   ]
  },
  {
   "cell_type": "code",
   "execution_count": null,
   "metadata": {},
   "outputs": [],
   "source": []
  }
 ],
 "metadata": {
  "kernelspec": {
   "display_name": "R",
   "language": "R",
   "name": "ir"
  },
  "language_info": {
   "codemirror_mode": "r",
   "file_extension": ".r",
   "mimetype": "text/x-r-source",
   "name": "R",
   "pygments_lexer": "r",
   "version": "3.6.1"
  }
 },
 "nbformat": 4,
 "nbformat_minor": 4
}
