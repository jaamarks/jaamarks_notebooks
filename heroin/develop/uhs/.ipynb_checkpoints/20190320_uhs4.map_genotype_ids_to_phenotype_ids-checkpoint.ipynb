{
 "cells": [
  {
   "cell_type": "markdown",
   "metadata": {},
   "source": [
    "# Map genotype ids to phenotype ids\n",
    "The individual IDs are made up of different portions (e.g. AS00-00347_8002022294_HHG10078_12_H06). To map these genotype IDs to the phenotype IDs is not straight forward. In particular, some of the IDs we might be able to map to the phenotype file by the cell_line portion (e.g. HHG10078) while other times we might have to try to map to the phenotype file using the serum ID (e.g. AS00-00347). The follow script does this searching for us. \n",
    "\n",
    "___\n",
    "\n",
    "## files needed\n",
    "* master phenotype file\n",
    "* master genotype ID file\n",
    "* ancestry specific genotype ID file\n",
    "\n",
    "**master phenotype file** <br>\n",
    "The corrected master phenotype file contains the variables of interest to used as phenotypes and covariates. This master phenotype file is located on S3 at:\n",
    "`s3://rti-heroin/hiv_all_merged_with_uhs_all_phenotype_data_08282017.csv.gz`.\n",
    "The updated CSV file uses quotes to demarcate column values.\n",
    "\n",
    "\n",
    "**master genotype file** <br>\n",
    "The file `master.genotype.ids.n3469` contains the genotype IDs for all of the UHS4 subjects. It has three columns:\n",
    "1. The AS number portion of the genotype ID\n",
    "2. The HHG, or cell_line, portion of the genotype ID\n",
    "3. The full genotype ID\n",
    "\n",
    "head -4 master.genotype.ids.n3469\n",
    "```\n",
    "AS# HHG#    Full_ID\n",
    "AS00-00347      HHG10078        AS00-00347_8002022294_HHG10078_12_H06\n",
    "AS00-00351      HHG6146 AS00-00351_8002220319_HHG6146_36_C02\n",
    "AS00-00437      HHG6150 AS00-00437_8002220343_HHG6150_36_D02\n",
    "```\n",
    "\n",
    "**ancestry specific genotype ID file**\n",
    "This file contains only the genotype subject IDs that you are interested in. You use this to filter the mapping file down to ancestry specific phenotype file.\n",
    "head ha.ids.8\n",
    "```\n",
    "AS00-00584_8002022306_HHG10079_12_A07\n",
    "AS00-00631_8002022318_HHG10080_15_D03\n",
    "AS00-00672_8002022247_HHG10082_11_E10\n",
    "AS00-00675_8002022259_HHG10083_37_D08\n",
    "AS00-01586_8002022283_HHG10085_13_A10\n",
    "AS00-01589_8002022295_HHG10086_11_H07\n",
    "```"
   ]
  },
  {
   "cell_type": "markdown",
   "metadata": {},
   "source": [
    "## Proportion of HA subjects with HIV\n",
    "We need to know what the proportion of HA subjects have HIV when we consider the subjects classified as HA during the STRUCTURE analysis when the standad 25% threshold was used and also when the 8% threshold was used.\n",
    "\n",
    "We will need a list of those subjects. We created these two lists and copied them to our local machine."
   ]
  },
  {
   "cell_type": "code",
   "execution_count": null,
   "metadata": {},
   "outputs": [],
   "source": [
    "cut -f2 ha_filtered.0.25 | xargs -I{} grep {} genotype.to.phenotype.map2 > genotype.to.phenotype.ha.0.25 &\n",
    "cut -f2 ha_filtered.0.08 | xargs -I{} grep {} genotype.to.phenotype.map2 > genotype.to.phenotype.ha.0.08 &"
   ]
  },
  {
   "cell_type": "code",
   "execution_count": 155,
   "metadata": {},
   "outputs": [
    {
     "name": "stdout",
     "output_type": "stream",
     "text": [
      "Hello, Jesse!\n",
      "\n",
      "\n",
      "All done, Jess!\n"
     ]
    }
   ],
   "source": [
    "### python ###\n",
    "import itertools, os\n",
    "\"\"\"\n",
    "This function will parse the master phenotype file and map the genotype IDs to the\n",
    "corresponding phenotype IDs. This was developed because there is no straight forward \n",
    "way to map the gentype IDs to the phenotype file. \n",
    "\"\"\"\n",
    "\n",
    "base_dir = \"/Users/jmarks/OneDrive - Research Triangle Institute/Projects/heroin/ngc/uhs4/phenotype\"\n",
    "date = \"20190321\" # current data; this will be prepended to the output-file-name\n",
    "ancestry_file = \"ha.ids.8\"\n",
    "match_var = '\"viralload_log10.y\"' # phenotype variable of interest in the master phenotype file\n",
    "\n",
    "# file which contains only the subject genotype IDs of the subjects that were classified\n",
    "# as HA after the STRUCTURE analysis\n",
    "filter_file = \"{}/processing/{}\".format(base_dir, ancestry_file) \n",
    "\n",
    "# create the header for the output file\n",
    "out_head = \"{}\\t{}\\t{}\\t{}\\t{}\\t{}\".format(\"genotype_id\", \"phenotype_column\", \"ancestry_selfreport\", match_var.strip('\\\"'), \"age\", \"sex_selfreport\")\n",
    "gen = \"{}/processing/master.genotype.ids.n3469\".format(base_dir)\n",
    "phen = \"{}/unprocessed/hiv_all_merged_with_uhs_all_phenotype_data_08282017.csv\".format(base_dir)\n",
    "out_file = \"{}/processing/{}.genotype.to.phenotype.ancestry.{}.ha_8percent.map\".format(base_dir, date, match_var.strip('\\\"'))\n",
    "\n",
    "#================================================================================\n",
    "\n",
    "def main():\n",
    "    print(\"Hello, Jesse!\\n\")\n",
    "    gen_to_phen(match_var)\n",
    "    ancestry_filter(filter_file, out_file)\n",
    "    print(\"\\nAll done, Jess!\")\n",
    "\n",
    "# view head of dictionaries\n",
    "def glance(d, size):\n",
    "    return dict(itertools.islice(d.items(), size))\n",
    "\n",
    "# function that maps the genotype IDs to the phenotype variables\n",
    "def gen_to_phen(match_var):\n",
    "    with open(gen) as asF, open(phen) as pF:\n",
    "        phead = pF.readline()\n",
    "        phead = phead.split(\",\")\n",
    "        \n",
    "        # note that all the cells in the phenotype file have quotes around the entries\n",
    "        # which is why we have to use double quotes for the following vars of interest\n",
    "        serum_index = phead.index('\"serum\"')\n",
    "        cell_line_index = phead.index('\"cell_line\"')\n",
    "        gwas_index = phead.index('\"gwasserum\"')\n",
    "        ancestry_index = phead.index('\"ancestry_selfreport\"')\n",
    "        age = phead.index('\"age\"')\n",
    "        sex = phead.index('\"sex_selfreport\"')\n",
    "        hiv_index = phead.index(match_var) \n",
    "\n",
    "        # initialized dictionaries that capture the variables-of-interest information \n",
    "        # for all subjects in phenotype file\n",
    "        cell_dic = {}\n",
    "        serum_dic = {}\n",
    "        gwas_dic = {}\n",
    "        \n",
    "        line = pF.readline() \n",
    "        while line: # parse each line of the master phenotype file\n",
    "            sl = line.split(\",\")\n",
    "            \n",
    "            # creating three mapping dictionaries because we are ultimately not sure\n",
    "            # which ID variable we will have to use to map the genotype ID to the corresponding\n",
    "            # phenotype information. It is actually going to take a combination of all three.\n",
    "            cell_dic[sl[cell_line_index]] = (phead[cell_line_index], sl[ancestry_index],\n",
    "                                             sl[hiv_index], sl[age], sl[sex])\n",
    "            serum_dic[sl[serum_index]] = (phead[serum_index], sl[ancestry_index], \n",
    "                                          sl[hiv_index], sl[age], sl[sex])\n",
    "            gwas_dic[sl[gwas_index]] = (phead[gwas_index], sl[ancestry_index],\n",
    "                                        sl[hiv_index], sl[age], sl[sex])\n",
    "            line = pF.readline()\n",
    "        #print(glance(cell_dic, 3))\n",
    "\n",
    "        keep_list = []\n",
    "        next(asF) # skip header line\n",
    "        sline = asF.readline()\n",
    "        while sline:\n",
    "            spl = sline.split()\n",
    "            spl = [f'\"{word}\"' for word in spl]\n",
    "            if spl[1] in cell_dic:\n",
    "                tmptup = (spl[2], cell_dic[spl[1]])\n",
    "                keep_list.append(tmptup)\n",
    "            elif spl[0] in serum_dic:\n",
    "                tmptup = (spl[2], serum_dic[spl[0]])\n",
    "                keep_list.append(tmptup)\n",
    "            elif spl[0] in gwas_dic:\n",
    "                tmptup = (spl[2], gwas_dic[spl[0]])\n",
    "                keep_list.append(tmptup)\n",
    "            else:\n",
    "                print(\"Didn't find the following ID:\\n\")\n",
    "                print(spl[2])\n",
    "            sline = asF.readline()\n",
    "\n",
    "        with open(out_file, 'w') as outF:\n",
    "            outF.write(out_head + \"\\n\")\n",
    "            for x in mapped_ids:\n",
    "                line = \"\\t\".join(str(i).strip('\\\"') for i in x)\n",
    "                outF.write(line + \"\\n\")\n",
    "\n",
    "# filter the map file that was created above to only the subjects classified\n",
    "# as HA after the STRUCTURE analysis, as well as .\n",
    "def ancestry_filter(filter_file, map_file):\n",
    "    out_file2 = \"{}.ha_only\".format(map_file)\n",
    "    with open(filter_file) as inF, open(map_file) as mF, open(out_file2, \"w\") as outF:\n",
    "        head = mF.readline()\n",
    "        outF.write(head)\n",
    "        data_dic = {}\n",
    "        line = mF.readline()\n",
    "        while line:\n",
    "            sl = line.split()\n",
    "            data_dic[sl[0]] = line\n",
    "            line = mF.readline()\n",
    "\n",
    "        line = inF.readline()\n",
    "        while line:\n",
    "            sl = line.strip()\n",
    "            outF.write(data_dic[sl])\n",
    "            line = inF.readline()\n",
    "\n",
    "#================================================================================\n",
    "\n",
    "if __name__ == \"__main__\":\n",
    "    main()"
   ]
  },
  {
   "cell_type": "markdown",
   "metadata": {},
   "source": [
    "# Sandbox"
   ]
  },
  {
   "cell_type": "markdown",
   "metadata": {},
   "source": [
    "## Variable summary\n",
    "### 25%"
   ]
  },
  {
   "cell_type": "code",
   "execution_count": null,
   "metadata": {},
   "outputs": [],
   "source": [
    "# number of HA classified subjects being HIV cases using 25% threshold for the ancestry cutoff\n",
    "awk '$4==1' 20190313.genotype.to.phenotype.ancestry.hiv.ha_25percent.map.ha_only| ww\n",
    "\"\"\"23\"\"\"\n",
    "\n",
    "# number of HA classified subjects being HIV cases using 25% threshold for the ancestry cutoff\n",
    "awk '$4==1' 20190313.genotype.to.phenotype.ancestry.hivstat.ha_25percent.map.ha_only| ww\n",
    "\"\"\"23\"\"\"\n",
    "\n",
    "# number of HA classified subjects being HIV cases using 25% threshold for the ancestry cutoff\n",
    "awk '$4==1' 20190313.genotype.to.phenotype.ancestry.hiv_status.ha_25percent.map.ha_only| ww\n",
    "\"\"\"23\"\"\"\n",
    "\n",
    "# number of HA classified subjects being HIV cases using 25% threshold for the ancestry cutoff\n",
    "awk '$4==1' 20190313.genotype.to.phenotype.ancestry.gwashiv.ha_25percent.map.ha_only| ww\n",
    "\"\"\"23\"\"\"\n",
    "\n",
    "# number of HA classified subjects with viral load using 25% threshold for the ancestry cutoff\n",
    "awk '$4!=-9' 20190313.genotype.to.phenotype.ancestry.viralload_cperml.y.ha_25percent.map.ha_only| ww\n",
    "\"\"\"23\"\"\"\n",
    "\n",
    "# number of HA classified subjects with viral load using 25% threshold for the ancestry cutoff\n",
    "awk '$4!~\"NA\"' 20190313.genotype.to.phenotype.ancestry.viralload_cperml.x.ha_25percent.map.ha_only | ww\n",
    "\"\"\"23\"\"\""
   ]
  },
  {
   "cell_type": "markdown",
   "metadata": {},
   "source": [
    "### 8%"
   ]
  },
  {
   "cell_type": "code",
   "execution_count": null,
   "metadata": {},
   "outputs": [],
   "source": [
    "# number of HA classified subjects being HIV cases using 8% threshold for the ancestry cutoff\n",
    "awk '$4==1' 20190313.genotype.to.phenotype.ancestry.hiv.ha_8percent.map.ha_only| ww\n",
    "#\"\"\"71\"\"\"\n",
    "\n",
    "# number of HA classified subjects being HIV cases using 8% threshold for the ancestry cutoff\n",
    "awk '$4==1' 20190313.genotype.to.phenotype.ancestry.hivstat.ha_8percent.map.ha_only| ww\n",
    "#\"\"\"71\"\"\"\n",
    "\n",
    "# number of HA classified subjects being HIV cases using 8% threshold for the ancestry cutoff\n",
    "awk '$4==1' 20190313.genotype.to.phenotype.ancestry.hiv_status.ha_8percent.map.ha_only| ww\n",
    "#\"\"\"71\"\"\"\n",
    "\n",
    "# number of HA classified subjects being HIV cases using 8% threshold for the ancestry cutoff\n",
    "awk '$4~1' 20190313.genotype.to.phenotype.ancestry.gwashiv.ha_8percent.map.ha_only| ww\n",
    "#\"\"\"0\"\"\"\n",
    "\n",
    "# number of HA classified subjects with viral load using 8% threshold for the ancestry cutoff\n",
    "awk '$4!=-9' 20190313.genotype.to.phenotype.ancestry.viralload_cperml.y.ha_8percent.map.ha_only| ww\n",
    "#\"\"\"66\"\"\"\n",
    "\n",
    "# number of HA classified subjects with viral load using 8% threshold for the ancestry cutoff\n",
    "awk '$4!~\"NA\"' 20190313.genotype.to.phenotype.ancestry.viralload_cperml.x.ha_8percent.map.ha_only | ww\n",
    "#\"\"\"70\"\"\""
   ]
  },
  {
   "cell_type": "code",
   "execution_count": 73,
   "metadata": {},
   "outputs": [
    {
     "data": {
      "text/plain": [
       "'viralload_cperml.y'"
      ]
     },
     "execution_count": 73,
     "metadata": {},
     "output_type": "execute_result"
    }
   ],
   "source": [
    "## BASH ##\n",
    "awk '$4!=\"-9\"' 20190320.genotype.to.phenotype.ancestry.viralload_log10.y.ha_8percent.map.ha_only >\\\n",
    "    20190320.genotype.to.phenotype.ancestry.viralload_log10.y.ha_8percent.map.ha_only.complete"
   ]
  },
  {
   "cell_type": "markdown",
   "metadata": {},
   "source": [
    "## Proportion of HA subjects with HIV\n",
    "We need to know what the proportion of HA subjects have HIV when we consider the subjects classified as HA during the STRUCTURE analysis when the standad 25% threshold was used and also when the 8% threshold was used.\n",
    "\n",
    "We will need a list of those subjects. We created these two lists and copied them to our local machine."
   ]
  },
  {
   "cell_type": "code",
   "execution_count": null,
   "metadata": {},
   "outputs": [],
   "source": [
    "cut -f2 ha_filtered.0.25 | xargs -I{} grep {} genotype.to.phenotype.map2 > genotype.to.phenotype.ha.0.25 &\n",
    "cut -f2 ha_filtered.0.08 | xargs -I{} grep {} genotype.to.phenotype.map2 > genotype.to.phenotype.ha.0.08 &"
   ]
  },
  {
   "cell_type": "code",
   "execution_count": null,
   "metadata": {},
   "outputs": [],
   "source": [
    "\n",
    "\n",
    "\n",
    "\n",
    "\n",
    "\n",
    "\n",
    "\n",
    "\n"
   ]
  }
 ],
 "metadata": {
  "kernelspec": {
   "display_name": "Python 3",
   "language": "python",
   "name": "python3"
  },
  "language_info": {
   "codemirror_mode": {
    "name": "ipython",
    "version": 3
   },
   "file_extension": ".py",
   "mimetype": "text/x-python",
   "name": "python",
   "nbconvert_exporter": "python",
   "pygments_lexer": "ipython3",
   "version": "3.7.1"
  },
  "toc": {
   "nav_menu": {},
   "number_sections": true,
   "sideBar": true,
   "skip_h1_title": false,
   "toc_cell": false,
   "toc_position": {},
   "toc_section_display": true,
   "toc_window_display": false
  }
 },
 "nbformat": 4,
 "nbformat_minor": 2
}
