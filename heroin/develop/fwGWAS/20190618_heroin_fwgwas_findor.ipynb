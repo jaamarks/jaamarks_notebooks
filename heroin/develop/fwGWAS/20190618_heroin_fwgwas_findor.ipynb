{
 "cells": [
  {
   "cell_type": "markdown",
   "metadata": {},
   "source": [
    "# Functionally Informed Novel Discovery of Risk Loci (FINDOR)\n",
    "**Author**: Jesse Marks\n",
    "\n",
    "This notebook outlines the FINDOR method and the steps taken to apply this functionally-weighted GWAS (fwGWAS) method. \n",
    "\n",
    "## Introduction\n",
    "\n",
    "FINDOR is a method published in *The American Journal of Human Genetics (2019)* by Kichaev et al that leverages functional polygenic functional enrichment to improve GWAS power. It is an approach to increase GWAS power when increasing the sample size is not an option. The FINDOR method utilizes functional annotiation to upweight certain classes of variants: \n",
    "    - Coding, conserved, regulatory, and LD-related genomic annotations\n",
    "The paper illustrates how the FINDOR method can find novel loci while controling for type1 errors.\n",
    "\n",
    "## Methods & Materials \n",
    "\n",
    "This method can be found [here on GitHub](https://github.com/gkichaev/FINDOR/blob/master/README.md).\n",
    "\n",
    "### Required data\n",
    "LDscores for 75 annotation model of BaselineLD model [here](https://data.broadinstitute.org/alkesgroup/LDSCORE/1000G_Phase3_baselineLD_v1.1_ldscores.tgz)\n",
    "### Running FINDOR\n",
    "1. Run LD-score regression\n",
    "2. run findor on entore GWAS. requires:\n",
    "    * Full GWAS data set (with N, SNP, Z columns)\n",
    "    * BaselineLD model LD scores\n",
    "    * .results file from applying LD score regression with BaselineLD model on GWAS data\n",
    "    \n",
    "Example command:\n",
    "```\n",
    "python FINDOR.py --ref-ld-chr \"$PATH_TO_LDSCORES\"/baselineLD. --gwas-data \"$PATH_TO_GWAS_DATA\"/gwas.data --regression-results \"$PATH_TO_GWAS_DATA\"/gwas.data.results --out \"$PATH_TO_GWAS_DATA\"/gwas.data.reweighted\n",
    "```"
   ]
  },
  {
   "cell_type": "code",
   "execution_count": null,
   "metadata": {},
   "outputs": [],
   "source": [
    "## ldsc TL;DR\n",
    "wget https://data.broadinstitute.org/alkesgroup/LDSCORE/1kg_eur.tar.bz2\n",
    "tar -jxvf 1kg_eur.tar.bz2\n",
    "python ../../ldsc.py --bfile 22 --l2 --ld-wind-cm 1 --out 22"
   ]
  }
 ],
 "metadata": {
  "kernelspec": {
   "display_name": "R",
   "language": "R",
   "name": "ir"
  },
  "language_info": {
   "codemirror_mode": "r",
   "file_extension": ".r",
   "mimetype": "text/x-r-source",
   "name": "R",
   "pygments_lexer": "r",
   "version": "3.6.1"
  },
  "toc": {
   "nav_menu": {},
   "number_sections": true,
   "sideBar": true,
   "skip_h1_title": false,
   "toc_cell": false,
   "toc_position": {},
   "toc_section_display": "block",
   "toc_window_display": false
  }
 },
 "nbformat": 4,
 "nbformat_minor": 4
}
