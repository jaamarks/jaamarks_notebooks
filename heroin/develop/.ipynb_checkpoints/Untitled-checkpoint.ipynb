{
 "cells": [
  {
   "cell_type": "code",
   "execution_count": null,
   "metadata": {},
   "outputs": [],
   "source": [
    "java -jar ~/bin/cromwell/cromwell-54.jar run play.wdl \\\n",
    "    --inputs 1inputs.json\n",
    "\n",
    "# create a task that keeps only specific columns\n",
    "\n",
    "VARIANT_ID      CHR     POS     REF     ALT     ALT_AF  MAF     POP_MAF SOURCE  IMP_QUAL        N       ALT_EFFECT      SE      P\n",
    "rs28375825:66861:C:T    1       66861   C       T       0.1185  0.1185  NA      IMP     0.3256  4015    -0.118687       0.167204        0.477806\n",
    "            \n",
    "    scheme=\"STDERR\"\n",
    "    \n",
    "            \n",
    "echo -e \"VARIANT_ID\\tCHR\\tPOS\\tREF\\tALT\\tALT_EFFECT\\tSE\\tP\\tMAF\\tR_SQUARED\" > head.txt\n",
    "\n",
    "var=1\n",
    "chrom=2\n",
    "\n",
    "for file in *chr*; do\n",
    "    outfile=${file}_ordered.tsv\n",
    "    cat head.txt > $outfile\n",
    "    awk -v var_name=$var  \\\n",
    "        -v chrom_col=$chrom  \\\n",
    "    '\n",
    "        {print $var_name, $chrom_col}\n",
    "    ' OFS=\"\\t\" <(tail -n +2 $file) >> $outfile\n",
    "done\n",
    "\n",
    "    SCHEME STDERR                                                                                                                                                                               PVALUE P                                                                                                                                                                                    FREQLABEL ALT_AF                                                                                                                                                                            AVERAGEFREQ ON                                                                                                                                                                              MARKER VARIANT_ID\n",
    "    ALLELE ALT REF\n",
    "    EFFECT ALT_EFFECT\n",
    "    STDERR SE\n",
    "    GENOMICCONTROL OFF\n",
    "    PROCESS ${sep= ' \\n PROCESS ' gwas_files}\n",
    "    ALLELE ALT REF\n",
    "    EFFECT ALT_EFFECT\n",
    "    STDERR SE\n",
    "    GENOMICCONTROL OFF\n",
    "    PROCESS ${sep= ' \\n PROCESS ' gwas_files}\n",
    "    OUTFILE ${ancestry}_meta_analysis_chr${chromosome}_output .metal\n",
    "    ANALYZE HETEROGENEITY\n",
    "    QUIT\" > metal.txt"
   ]
  },
  {
   "cell_type": "markdown",
   "metadata": {},
   "source": [
    "```\n",
    " \"outputs\": {\n",
    "    \"meta_analysis.preprocessing.proc_output\": \n",
    "    [[\"/shared/jmarks/wdl/metal-meta-wf/012/cromwell-executions/meta_analysis/43287f4c-b0e8-4d1b-95f3-eaa6b297017a/call-preprocessing/shard-0/PREPROCESS.preprocessing/58ae37e4-3036-4af6-b0fa-f428ad2dd342/call-keep_columns/shard-0/execution/uhs1234_chr1_specific_columns.tsv\", \"/shared/jmarks/wdl/metal-meta-wf/012/cromwell-executions/meta_analysis/43287f4c-b0e8-4d1b-95f3-eaa6b297017a/call-preprocessing/shard-0/PREPROCESS.preprocessing/58ae37e4-3036-4af6-b0fa-f428ad2dd342/call-keep_columns/shard-1/execution/uhs1234_chr13_specific_columns.tsv\", \"/shared/jmarks/wdl/metal-meta-wf/012/cromwell-executions/meta_analysis/43287f4c-b0e8-4d1b-95f3-eaa6b297017a/call-preprocessing/shard-0/PREPROCESS.preprocessing/58ae37e4-3036-4af6-b0fa-f428ad2dd342/call-keep_columns/shard-2/execution/uhs1234_chr2_specific_columns.tsv\", \"/shared/jmarks/wdl/metal-meta-wf/012/cromwell-executions/meta_analysis/43287f4c-b0e8-4d1b-95f3-eaa6b297017a/call-preprocessing/shard-0/PREPROCESS.preprocessing/58ae37e4-3036-4af6-b0fa-f428ad2dd342/call-keep_columns/shard-3/execution/uhs1234_chr22_specific_columns.tsv\"], \n",
    "    \n",
    "    [\"/shared/jmarks/wdl/metal-meta-wf/012/cromwell-executions/meta_analysis/43287f4c-b0e8-4d1b-95f3-eaa6b297017a/call-preprocessing/shard-1/PREPROCESS.preprocessing/3916bb02-dce2-4b1d-b05d-8c101e07100a/call-keep_columns/shard-0/execution/wihs1_chr1_specific_columns.tsv\", \"/shared/jmarks/wdl/metal-meta-wf/012/cromwell-executions/meta_analysis/43287f4c-b0e8-4d1b-95f3-eaa6b297017a/call-preprocessing/shard-1/PREPROCESS.preprocessing/3916bb02-dce2-4b1d-b05d-8c101e07100a/call-keep_columns/shard-1/execution/wihs1_chr13_specific_columns.tsv\", \"/shared/jmarks/wdl/metal-meta-wf/012/cromwell-executions/meta_analysis/43287f4c-b0e8-4d1b-95f3-eaa6b297017a/call-preprocessing/shard-1/PREPROCESS.preprocessing/3916bb02-dce2-4b1d-b05d-8c101e07100a/call-keep_columns/shard-2/execution/wihs1_chr2_specific_columns.tsv\", \"/shared/jmarks/wdl/metal-meta-wf/012/cromwell-executions/meta_analysis/43287f4c-b0e8-4d1b-95f3-eaa6b297017a/call-preprocessing/shard-1/PREPROCESS.preprocessing/3916bb02-dce2-4b1d-b05d-8c101e07100a/call-keep_columns/shard-3/execution/wihs1_chr22_specific_columns.tsv\"]],\n",
    "    \n",
    "\"meta_analysis.preprocessing.chromosome_order\": [[1, 13, 2, 22], [1, 13, 2, 22]]\n",
    "\n",
    "```"
   ]
  },
  {
   "cell_type": "code",
   "execution_count": null,
   "metadata": {},
   "outputs": [],
   "source": []
  },
  {
   "cell_type": "markdown",
   "metadata": {},
   "source": [
    "```\n",
    "\"meta_analysis.preprocessing.chromosome_order\": [[1, 13, 2, 22], [1, 13, 2, 22]],\n",
    "\n",
    "\"meta_analysis.metal.metal_results\": [\n",
    "\"/shared/jmarks/wdl/metal-meta-wf/013/cromwell-executions/meta_analysis/7c247266-3cad-4c93-8016-fc97a1d22a1d/call-metal/shard-0/execution/afr_meta_analysis_chr1_output1.metal\", \"/shared/jmarks/wdl/metal-meta-wf/013/cromwell-executions/meta_analysis/7c247266-3cad-4c93-8016-fc97a1d22a1d/call-metal/shard-1/execution/afr_meta_analysis_chr13_output1.metal\", \"/shared/jmarks/wdl/metal-meta-wf/013/cromwell-executions/meta_analysis/7c247266-3cad-4c93-8016-fc97a1d22a1d/call-metal/shard-2/execution/afr_meta_analysis_chr2_output1.metal\", \"/shared/jmarks/wdl/metal-meta-wf/013/cromwell-executions/meta_analysis/7c247266-3cad-4c93-8016-fc97a1d22a1d/call-metal/shard-3/execution/afr_meta_analysis_chr22_output1.metal\"]\n",
    "```"
   ]
  },
  {
   "cell_type": "code",
   "execution_count": null,
   "metadata": {},
   "outputs": [],
   "source": []
  },
  {
   "cell_type": "code",
   "execution_count": null,
   "metadata": {},
   "outputs": [],
   "source": []
  },
  {
   "cell_type": "code",
   "execution_count": null,
   "metadata": {},
   "outputs": [],
   "source": [
    "\n",
    "\n",
    "\n",
    "\n",
    "\n",
    "\n",
    "\n",
    "\n",
    "\n",
    "\n",
    "\n",
    "\n",
    "\n",
    "\n",
    "\n"
   ]
  }
 ],
 "metadata": {
  "kernelspec": {
   "display_name": "Python 3",
   "language": "python",
   "name": "python3"
  },
  "language_info": {
   "codemirror_mode": {
    "name": "ipython",
    "version": 3
   },
   "file_extension": ".py",
   "mimetype": "text/x-python",
   "name": "python",
   "nbconvert_exporter": "python",
   "pygments_lexer": "ipython3",
   "version": "3.8.3"
  }
 },
 "nbformat": 4,
 "nbformat_minor": 4
}
