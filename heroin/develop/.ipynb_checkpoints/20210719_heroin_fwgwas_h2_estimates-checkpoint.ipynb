{
 "cells": [
  {
   "cell_type": "markdown",
   "id": "8d6f1c08-c7fd-4d48-976e-821d3be879ee",
   "metadata": {},
   "source": [
    "# Heritability estimates for the fwGWAS project\n",
    "**Author:** Jesse Marks\n",
    "\n",
    "[LD Score Regression GitHub Repository](https://github.com/bulik/ldsc)\n",
    "\n",
    "Amy Moore reached out to ask if I would perform heritability estimates for the fwGWAS project.\n",
    "\n",
    "**See section 002 for methods. 001 is now deprecated.**\n",
    "\n",
    "``` css\n",
    "Eric mentioned that you had an LDSC pipeline up and working.\n",
    "Would you be able to run some files through it for me to get \n",
    "the SNP heritability of each trait? They are located at\n",
    "rti-heroin/fwGWAS/LDSC/\n",
    " \n",
    "All are zipped, tab-delimited, and have the headers \n",
    "\"snpid\", \"chr\", \"bpos\", \"a1\", \"a2\", \"N\", \"z\", \"p\", \"info\". \n",
    "\n",
    "European ancestry. \n",
    "The charge code is 0215889.001.001 (functional weighted GWAS project).\n",
    "```\n",
    "\n",
    "## Data\n",
    "* `s3://rti-heroin/fwGWAS/LDSC/bpd1_forldsc_withneff.txt.gz`\n",
    "* `s3://rti-heroin/fwGWAS/LDSC/bpd2_forldsc_withneff.txt.gz`\n",
    "* `s3://rti-heroin/fwGWAS/LDSC/mdd1_forldsc_withneff.txt.gz`\n",
    "* `s3://rti-heroin/fwGWAS/LDSC/mdd2_forldsc_withneff.txt.gz`\n",
    "* `s3://rti-heroin/fwGWAS/LDSC/mpv1_forldsc.txt.gz`\n",
    "* `s3://rti-heroin/fwGWAS/LDSC/scz1_forldsc_withneff.txt.gz`\n",
    "* `s3://rti-heroin/fwGWAS/LDSC/scz2_forldsc_withneff.txt.gz`\n",
    "* `s3://rti-heroin/fwGWAS/LDSC/wbc1_forldsc.txt.gz`"
   ]
  },
  {
   "cell_type": "markdown",
   "id": "287b4367-4e9d-4cfd-a18b-a5c215dd6b0e",
   "metadata": {},
   "source": [
    "# 001 DEPRECATED "
   ]
  },
  {
   "cell_type": "code",
   "execution_count": null,
   "id": "ee2deac6-4705-436f-8abd-b3676ba4d9b6",
   "metadata": {},
   "outputs": [],
   "source": [
    "## Create directory structure\n",
    "mkdir -p /shared/rti-heroin/ldsc/fwgwas/h2_estimate/0001/\n",
    "\n",
    "## Download data\n",
    "cd /shared/rti-heroin/ldsc/fwgwas/h2_estimate/0001/\n",
    "\n",
    "aws s3 cp s3://rti-heroin/fwGWAS/LDSC/bpd1_forldsc_withneff.txt.gz .\n",
    "aws s3 cp s3://rti-heroin/fwGWAS/LDSC/bpd2_forldsc_withneff.txt.gz .\n",
    "aws s3 cp s3://rti-heroin/fwGWAS/LDSC/mdd1_forldsc_withneff.txt.gz .\n",
    "aws s3 cp s3://rti-heroin/fwGWAS/LDSC/mdd2_forldsc_withneff.txt.gz .\n",
    "aws s3 cp s3://rti-heroin/fwGWAS/LDSC/mpv1_forldsc.txt.gz .\n",
    "aws s3 cp s3://rti-heroin/fwGWAS/LDSC/scz1_forldsc_withneff.txt.gz .\n",
    "aws s3 cp s3://rti-heroin/fwGWAS/LDSC/scz2_forldsc_withneff.txt.gz .\n",
    "aws s3 cp s3://rti-heroin/fwGWAS/LDSC/wbc1_forldsc.txt.gz ."
   ]
  },
  {
   "cell_type": "code",
   "execution_count": null,
   "id": "ed3b46d0-81bb-482d-a5de-a9252c6c2775",
   "metadata": {},
   "outputs": [],
   "source": [
    "## Check the header of each data set\n",
    "for file in *z; do \n",
    "    echo $file\n",
    "    head -2 <(zcat $file)\n",
    "    echo\n",
    "done"
   ]
  },
  {
   "cell_type": "markdown",
   "id": "17cbfa96-0089-45d0-b427-46e51845c5a2",
   "metadata": {},
   "source": [
    "```\n",
    "bpd1_forldsc_withneff.txt.gz\n",
    "snpid   chr     bpos    a1      a2      N       z       p       info    Neff\n",
    "rs12565286      1       721290  C       G       16731   -0.13842058561571       0.8899  0.3693  16543.9603131911\n",
    "\n",
    "bpd2_forldsc_withneff.txt.gz\n",
    "snpid   chr     bpos    a1      a2      N       z       p       info    Neff\n",
    "rs185339560     10      2392426 T       C       49203   1.68368558594107        0.09239 0.67    22093.09\n",
    "\n",
    "mdd1_forldsc_withneff.txt.gz\n",
    "snpid   chr     bpos    a1      a2      N       z       p       info    Neff\n",
    "rs12562034      1       768448  A       G       18759   -1.07696995120038       0.2817  1.02    18754.8504717735\n",
    "\n",
    "mdd2_forldsc_withneff.txt.gz\n",
    "snpid   chr     bpos    a1      a2      N       z       p       info    Neff\n",
    "rs62513865      8       101592213       T       C       173005  0.947993608026667       0.3438  0.957   69115.85\n",
    "\n",
    "mpv1_forldsc.txt.gz\n",
    "snpid   chr     bpos    a1      a2      N       z       p       info\n",
    "rs367896724     1       10177   AC      A       127230  -0.225507214052312      0.8215847       0.489705\n",
    "\n",
    "scz1_forldsc_withneff.txt.gz\n",
    "snpid   chr     bpos    a1      a2      N       z       p       info    Neff\n",
    "rs3131972       1       752721  A       G       21856   0.303895884206327       0.761033        0.1613  21425.3345534407\n",
    "\n",
    "scz2_forldsc_withneff.txt.gz\n",
    "snpid   chr     bpos    a1      a2      N       z       p       info    Neff\n",
    "rs4951859       1       729679  C       G       83550   -1.25455684646165       0.2083  0.631   81650.4236505087\n",
    "\n",
    "wbc1_forldsc.txt.gz\n",
    "snpid   chr     bpos    a1      a2      N       z       p       info\n",
    "rs367896724     1       10177   AC      A       131969  -0.937000326284833      0.3487584       0.489705\n",
    "```"
   ]
  },
  {
   "cell_type": "code",
   "execution_count": null,
   "id": "9912775e-d820-4ff8-b1f8-c2d8b78ebbed",
   "metadata": {},
   "outputs": [],
   "source": [
    "## to use the automated wf \"ld-regression-pipeline\"\n",
    "## we need to make one of these files the referece trait\n",
    "mkdir summary_stats\n",
    "mv *z summary_stats\n",
    "\n",
    "mkdir processing/\n",
    "cd processing\n",
    "\n",
    "ln -s ../summary_stats/bpd1_forldsc_withneff.txt.gz\n",
    "\n",
    "## split by chromosome\n",
    "awk '\n",
    "NR==1{h = $0}\n",
    "NR>1{ print (!a[$2]++ ? h ORS $0: $0) > \"bpd1_forldsc_withneff_chr\"$2\".txt\"}\n",
    "' <(zcat bpd1_forldsc_withneff.txt.gz)\n",
    "\n",
    "## gzip\n",
    "gzip bpd1_forldsc_withneff_chr*.txt\n",
    "\n",
    "## upload to S3\n",
    "for file in bpd1_forldsc_withneff_chr*.txt.gz; do\n",
    "    aws s3 mv $file s3://rti-heroin/fwGWAS/LDSC/bpd1_split_by_chr/\n",
    "done"
   ]
  },
  {
   "cell_type": "markdown",
   "id": "e46bbb27-7e33-46f9-8b57-71f444ac1ed8",
   "metadata": {},
   "source": [
    "## Inputs\n",
    "Create an Excel file out of these phenotypes using the following fields:\n",
    "```\n",
    "trait plot_label sumstats_path pmid category sample_size id_col chr_col pos_col effect_allele_col ref_allele_col effect_col pvalue_col sample_size_col effect_type w_ld_chr \n",
    "```\n",
    "\n",
    "Also create config files"
   ]
  },
  {
   "cell_type": "code",
   "execution_count": null,
   "id": "44e6da37-b35d-4e18-aae7-398b572ab320",
   "metadata": {},
   "outputs": [],
   "source": [
    "## 1. Upload Excel phenotype file from local to EC2 instance\n",
    "## 2. Edit full_ld_regression_wf_template.json to include the reference data of choice\n",
    "## 3. Lastly, use dockerized tool to finish filling out the json file that will be input for workflow\n",
    "\n",
    "phen=20210719_heroin_fwgwas_ldsc_phenotypes_local.xlsx\n",
    "procD=/shared/rti-heroin/ldsc/fwgwas/h2_estimate/0001\n",
    "git clone https://github.com/RTIInternational/ld-regression-pipeline/ $procD/ld-regression-pipeline\n",
    "mkdir $procD/ld-regression-pipeline/workflow_inputs\n",
    "\n",
    "# create final workflow input (a json file) \n",
    "cp $procD/ld-regression-pipeline/json_input/full_ld_regression_wf_template.json \\\n",
    "    $procD/ld-regression-pipeline/workflow_inputs/\n",
    "# edit this file\n",
    "\n",
    "## upload Excel to */workflow_inputs/\n",
    "\n",
    "docker run -v $procD/ld-regression-pipeline/workflow_inputs/:/data/ \\\n",
    "    rticode/generate_ld_regression_input_json:1ddbd682cb1e44dab6d11ee571add34bd1d06e21 \\\n",
    "    --json-input /data/full_ld_regression_wf_template.json \\\n",
    "    --pheno-file /data/$phen >\\\n",
    "        $procD/ld-regression-pipeline/workflow_inputs/final_wf_inputs.json"
   ]
  },
  {
   "cell_type": "markdown",
   "id": "019346d0-69b1-4de0-8e17-e7633fabe163",
   "metadata": {},
   "source": [
    "## Submit job"
   ]
  },
  {
   "cell_type": "code",
   "execution_count": null,
   "id": "bee8e311-2fcb-4464-8578-5562ca8099c1",
   "metadata": {},
   "outputs": [],
   "source": [
    "## zip appropriate files \n",
    "# Change to directory immediately above metaxcan-pipeline repo\n",
    "cd $procD/ld-regression-pipeline\n",
    "cd ..\n",
    "# Make zipped copy of repo somewhere\n",
    "zip --exclude=*var/* --exclude=*.git/* -r \\\n",
    "    $procD/ld-regression-pipeline/workflow_inputs/ld-regression-pipeline.zip \\\n",
    "    ld-regression-pipeline\n",
    "\n",
    "curl -X POST \"http://localhost:8000/api/workflows/v1\" -H \"accept: application/json\" \\\n",
    "    -F \"workflowSource=@$procD/ld-regression-pipeline/workflow/full_ld_regression_wf.wdl\" \\\n",
    "    -F \"workflowInputs=@$procD/ld-regression-pipeline/workflow_inputs/final_wf_inputs.json\" \\\n",
    "    -F \"workflowDependencies=@$procD/ld-regression-pipeline/workflow_inputs/ld-regression-pipeline.zip\" "
   ]
  },
  {
   "cell_type": "code",
   "execution_count": null,
   "id": "553d3e45-a026-40a9-9471-4efcb59d7959",
   "metadata": {},
   "outputs": [],
   "source": [
    "#job=\"bd0c27d6-0d91-4a20-937a-66a78de1cfe7\"\n",
    "#job=c4263c80-5796-430d-b7b8-aaeb4dac41e2\n",
    "#job=9c4ece6a-611a-440b-8aa8-5788f144788e\n",
    "job=50f483b1-ed3c-4b72-99bf-c0da08e938cf\n",
    "curl -X GET \"http://localhost:8000/api/workflows/v1/${job}/status\"   \n",
    "# {\"status\":\"Succeeded\",\"id\":\"50f483b1-ed3c-4b72-99bf-c0da08e938cf\"}"
   ]
  },
  {
   "cell_type": "markdown",
   "id": "8a8e4d66-7e17-477f-9a15-aea6d093c69f",
   "metadata": {},
   "source": [
    "## Processing results"
   ]
  },
  {
   "cell_type": "code",
   "execution_count": null,
   "id": "f8c68ce4-2b05-4499-8d45-3a6a3cb8be81",
   "metadata": {},
   "outputs": [],
   "source": [
    "cd /shared/rti-heroin/ldsc/fwgwas/h2_estimate/0001\n",
    "mkdir results\n",
    "cd results\n",
    "\n",
    "job=50f483b1-ed3c-4b72-99bf-c0da08e938cf\n",
    "\n",
    "    \n",
    "# Download output JSON from Swagger UI.\n",
    "curl -X GET \"http://localhost:8000/api/workflows/v1/$job/outputs\" -H \"accept: application/json\" \\\n",
    "    > final_outputs_${job}.json\n",
    "\n",
    "curl -X GET \"http://localhost:8000/api/workflows/v1/$job/logs\" -H \"accept: application/json\" \\\n",
    "    > final_logs_${job}.json\n",
    "\n",
    "# Download logs that contain h2\n",
    "aws s3 cp s3://rti-cromwell-output/cromwell-execution/full_ld_regression_wf/$job/call-ld_regression/ \\\n",
    "    logs/ --recursive --exclude \"*\" --include \"*.ldsc_regression.log\" \n",
    "    \n",
    "mv logs/shard-*/LDSC.single_ld_regression_wf/*/call-ld_regression/*.ldsc_regression.log logs/\n",
    "#aws s3 sync logs/ $aws_path\n",
    "rm -rf logs/shard-*\n",
    "\n",
    "# Download plot\n",
    "aws s3 cp s3://rti-cromwell-output/cromwell-execution/full_ld_regression_wf/$job/call-plot_ld/ \\\n",
    "    . --recursive --exclude \"*\" --include \"*.ld_regression_results.*\"\n",
    "    \n",
    "mv PLOT.plot_ld_regression_wf/*/call-*/*ld_regression_results* .\n"
   ]
  },
  {
   "cell_type": "code",
   "execution_count": null,
   "id": "67761aa8-af47-4f74-9ddc-c6de96516141",
   "metadata": {},
   "outputs": [],
   "source": [
    "#%%bash\n",
    "\n",
    "## upload to S3\n",
    "# Projects note that I had to unindent here to get it to run\n",
    "#python - <<EOF\n",
    "#import json\n",
    "#import os\n",
    "#\n",
    "#\n",
    "#def traverse(o, tree_types=(list, tuple)):\n",
    "#    if isinstance(o, tree_types):\n",
    "#        for value in o:\n",
    "#            for subvalue in traverse(value, tree_types):\n",
    "#                yield subvalue\n",
    "#    else:\n",
    "#        yield o\n",
    "#\n",
    "#with open('final_outputs_' + \"$job\" + '.json') as f:\n",
    "#    outputs = json.load(f)\n",
    "#    outputs = outputs[\"outputs\"]\n",
    "#    for key in outputs:\n",
    "#        if (type(outputs[key]) == list):\n",
    "#            for value in traverse(outputs[key]):\n",
    "#                if (str(value)[0:2] == \"s3\"):\n",
    "#                    message = \"aws s3 cp {} $aws_path\".format(value)\n",
    "#                    os.system(message)\n",
    "#        else:\n",
    "#            if (str(outputs[key])[0:2] == \"s3\"):\n",
    "#                message = \"aws s3 cp {} $aws_path\".format(outputs[key])\n",
    "#                os.system(message)\n",
    "#EOF\n",
    "\n",
    "rm -rf PLOT.plot_ld_regression_wf\n"
   ]
  },
  {
   "cell_type": "markdown",
   "id": "5ee7a596-287d-4408-b054-c7187f2694c2",
   "metadata": {},
   "source": [
    "## H2 results"
   ]
  },
  {
   "attachments": {
    "68a5fc1f-1ee2-4023-8679-90193fe1241b.png": {
     "image/png": "[encoded data removed]"
    }
   },
   "cell_type": "markdown",
   "id": "73685510-d7eb-4b47-b29a-7c6a2b98b9d1",
   "metadata": {},
   "source": [
    "![image.png](attachment:68a5fc1f-1ee2-4023-8679-90193fe1241b.png)"
   ]
  },
  {
   "cell_type": "markdown",
   "id": "8865b771-c879-44f1-942a-0beb87dec892",
   "metadata": {},
   "source": [
    "|    | BPD1            | BPD2           | MDD1            | MDD2            | MVP1            | SCZ1            | SCZ2            | WBC1            |\n",
    "|----|-----------------|----------------|-----------------|-----------------|-----------------|-----------------|-----------------|-----------------|\n",
    "| h2 | 0.4993 (0.0368) | 0.766 (0.0351) | 0.1589 (0.0276) | 0.1973 (0.0112) | 0.3109 (0.0436) | 0.5694 (0.0306) | 0.4452 (0.0167) | 0.2006 (0.0188) |"
   ]
  },
  {
   "cell_type": "markdown",
   "id": "5e595a3d-97a0-47d4-a683-8aaeaecdd5dd",
   "metadata": {},
   "source": [
    "# 002 (observed to liability transform)\n",
    "\n",
    "* `s3://rti-heroin/fwGWAS/LDSC/bpd1_forldsc_withneff.txt.gz`\n",
    "* `s3://rti-heroin/fwGWAS/LDSC/bpd2_forldsc_withneff.txt.gz`\n",
    "* `s3://rti-heroin/fwGWAS/LDSC/mdd1_forldsc_withneff.txt.gz`\n",
    "* `s3://rti-heroin/fwGWAS/LDSC/mdd2_forldsc_withneff.txt.gz`\n",
    "* `s3://rti-heroin/fwGWAS/LDSC/mpv1_forldsc.txt.gz`\n",
    "* `s3://rti-heroin/fwGWAS/LDSC/scz1_forldsc_withneff.txt.gz`\n",
    "* `s3://rti-heroin/fwGWAS/LDSC/scz2_forldsc_withneff.txt.gz`\n",
    "* `s3://rti-heroin/fwGWAS/LDSC/wbc1_forldsc.txt.gz`"
   ]
  },
  {
   "cell_type": "code",
   "execution_count": null,
   "id": "803f08ae-6bc4-447b-86b3-913a9647ec16",
   "metadata": {},
   "outputs": [],
   "source": [
    "# Download summary stats\n",
    "mkdir -p /shared/rti-heroin/ldsc/fwgwas/h2_estimate/0001/liability_transform/0001/{sumstats,ld_data}/\n",
    "cd /shared/rti-heroin/ldsc/fwgwas/h2_estimate/0001/liability_transform/0001/sumstats/\n",
    "\n",
    "aws s3 cp s3://rti-heroin/fwGWAS/LDSC/bpd1_forldsc_withneff.txt.gz .\n",
    "aws s3 cp s3://rti-heroin/fwGWAS/LDSC/bpd2_forldsc_withneff.txt.gz .\n",
    "aws s3 cp s3://rti-heroin/fwGWAS/LDSC/mdd1_forldsc_withneff.txt.gz .\n",
    "aws s3 cp s3://rti-heroin/fwGWAS/LDSC/mdd2_forldsc_withneff.txt.gz .\n",
    "aws s3 cp s3://rti-heroin/fwGWAS/LDSC/mpv1_forldsc.txt.gz .\n",
    "aws s3 cp s3://rti-heroin/fwGWAS/LDSC/scz1_forldsc_withneff.txt.gz .\n",
    "aws s3 cp s3://rti-heroin/fwGWAS/LDSC/scz2_forldsc_withneff.txt.gz .\n",
    "aws s3 cp s3://rti-heroin/fwGWAS/LDSC/wbc1_forldsc.txt.gz .\n",
    "\n",
    "    \n",
    "# Download pre-computed LD Score\n",
    "cd /shared/rti-heroin/ldsc/fwgwas/h2_estimate/0001/liability_transform/0001/ld_data/\n",
    "wget https://data.broadinstitute.org/alkesgroup/LDSCORE/eur_w_ld_chr.tar.bz2\n",
    "wget https://data.broadinstitute.org/alkesgroup/LDSCORE/w_hm3.snplist.bz2\n",
    "tar -jxvf eur_w_ld_chr.tar.bz2\n",
    "bunzip2 w_hm3.snplist.bz2\n",
    "\n",
    "cd /shared/rti-heroin/ldsc/fwgwas/h2_estimate/0001/liability_transform/0001/\n",
    "\n",
    "# Start interactive session\n",
    "docker run -it -v $PWD:/data/ rtibiocloud/ldsc:v1.0.1_31bd7c2 /bin/bash\n",
    "        \n",
    "mkdir munged_sumstats h2_estimates\n"
   ]
  },
  {
   "cell_type": "markdown",
   "id": "b2bd0075-bd06-4050-b295-fd9e14c02d75",
   "metadata": {},
   "source": [
    "## Munge Data & h2 estimate"
   ]
  },
  {
   "cell_type": "markdown",
   "id": "a69efc2d-d6ed-4c8e-af3e-8c1d63032242",
   "metadata": {},
   "source": [
    "### SCZ1"
   ]
  },
  {
   "cell_type": "code",
   "execution_count": null,
   "id": "eeaae2ce-2f3f-40cd-ab7b-d9863dc16afc",
   "metadata": {},
   "outputs": [],
   "source": [
    "zcat scz1_forldsc_withneff.txt.gz  | head -2\n",
    "#snpid   chr     bpos    a1      a2      N       z       p       info    Neff\n",
    "#rs3131972       1       752721  A       G       21856   0.303895884206327       0.761033        0.1613  21425.3345534407\n",
    "\n",
    "# munge scz1\n",
    "/opt/ldsc/munge_sumstats.py \\\n",
    "    --sumstats /data/sumstats/scz1_forldsc_withneff.txt.gz \\\n",
    "    --out /data/munged_sumstats/scz1 \\\n",
    "    --merge-alleles /data/ld_data/w_hm3.snplist\n",
    "\n",
    "\n",
    "# h2 estimate\n",
    "/opt/ldsc/ldsc.py \\\n",
    "    --h2 /data/munged_sumstats/scz1.sumstats.gz \\\n",
    "    --ref-ld-chr /data/ld_data/eur_w_ld_chr/ \\\n",
    "    --w-ld-chr /data/ld_data/eur_w_ld_chr/ \\\n",
    "    --samp-prev 0.429813324 \\\n",
    "    --pop-prev 0.005 \\\n",
    "    --out /data/h2_estimates/scz1_pop_prev_0.005_h2\n",
    "\n",
    "# h2 estimate\n",
    "/opt/ldsc/ldsc.py \\\n",
    "    --h2 /data/munged_sumstats/scz1.sumstats.gz \\\n",
    "    --ref-ld-chr /data/ld_data/eur_w_ld_chr/ \\\n",
    "    --w-ld-chr /data/ld_data/eur_w_ld_chr/ \\\n",
    "    --samp-prev 0.429813324 \\\n",
    "    --pop-prev 0.01 \\\n",
    "    --out /data/h2_estimates/scz1_pop_prev_0.01_h2"
   ]
  },
  {
   "cell_type": "markdown",
   "id": "13bb92f4-4a91-4f21-9030-61bd9c88985c",
   "metadata": {},
   "source": [
    "### SCZ2"
   ]
  },
  {
   "cell_type": "code",
   "execution_count": null,
   "id": "97e0944e-39a9-4cb8-a21e-5f78339439ae",
   "metadata": {},
   "outputs": [],
   "source": [
    "zcat scz2_forldsc_withneff.txt.gz  | head -2\n",
    "#snpid   chr     bpos    a1      a2      N       z       p       info    Neff\n",
    "#rs4951859       1       729679  C       G       83550   -1.25455684646165       0.2083  0.631   81650.4236505087\n",
    "\n",
    "\n",
    "# munge scz2\n",
    "/opt/ldsc/munge_sumstats.py \\\n",
    "    --sumstats /data/sumstats/scz2_forldsc_withneff.txt.gz \\\n",
    "    --out munged_sumstats/scz2 \\\n",
    "    --merge-alleles /data/ld_data/w_hm3.snplist\n",
    "\n",
    "# h2 estimate\n",
    "/opt/ldsc/ldsc.py \\\n",
    "    --h2 /data/munged_sumstats/scz2.sumstats.gz \\\n",
    "    --ref-ld-chr /data/ld_data/eur_w_ld_chr/ \\\n",
    "    --w-ld-chr /data/ld_data/eur_w_ld_chr/ \\\n",
    "    --samp-prev 0.424608019 \\\n",
    "    --pop-prev 0.005 \\\n",
    "    --out /data/h2_estimates/scz2_pop_prev_0.005_h2\n",
    "\n",
    "# h2 estimate\n",
    "/opt/ldsc/ldsc.py \\\n",
    "    --h2 /data/munged_sumstats/scz2.sumstats.gz \\\n",
    "    --ref-ld-chr /data/ld_data/eur_w_ld_chr/ \\\n",
    "    --w-ld-chr /data/ld_data/eur_w_ld_chr/ \\\n",
    "    --samp-prev 0.424608019 \\\n",
    "    --pop-prev 0.01 \\\n",
    "    --out /data/h2_estimates/scz2_pop_prev_0.01_h2"
   ]
  },
  {
   "cell_type": "markdown",
   "id": "845ec4aa-2db3-4925-b2e4-11a8b782baff",
   "metadata": {},
   "source": [
    "### BPD1"
   ]
  },
  {
   "cell_type": "code",
   "execution_count": null,
   "id": "e89170a8-ff9c-49de-816e-7f30b925abce",
   "metadata": {},
   "outputs": [],
   "source": [
    "zcat bpd1_forldsc_withneff.txt.gz  | head -2\n",
    "#snpid   chr     bpos    a1      a2      N       z       p       info    Neff\n",
    "#rs12565286      1       721290  C       G       16731   -0.13842058561571       0.8899  0.3693  16543.9603131911\n",
    "\n",
    "# munge bpd1\n",
    "/opt/ldsc/munge_sumstats.py \\\n",
    "    --sumstats /data/sumstats/bpd1_forldsc_withneff.txt.gz \\\n",
    "    --out munged_sumstats/bpd1 \\\n",
    "    --merge-alleles /data/ld_data/w_hm3.snplist\n",
    "\n",
    "# h2 estimate\n",
    "/opt/ldsc/ldsc.py \\\n",
    "    --h2 /data/munged_sumstats/bpd1.sumstats.gz \\\n",
    "    --ref-ld-chr /data/ld_data/eur_w_ld_chr/ \\\n",
    "    --w-ld-chr /data/ld_data/eur_w_ld_chr/ \\\n",
    "    --samp-prev 0.447134063 \\\n",
    "    --pop-prev 0.01 \\\n",
    "    --out /data/h2_estimates/bpd1_h2"
   ]
  },
  {
   "cell_type": "markdown",
   "id": "d396ced8-8109-4bff-ad36-2ad2fd08a671",
   "metadata": {},
   "source": [
    "### BPD2"
   ]
  },
  {
   "cell_type": "code",
   "execution_count": null,
   "id": "91acd695-5660-4836-877a-4980ac4a90ff",
   "metadata": {},
   "outputs": [],
   "source": [
    "zcat bpd2_forldsc_withneff.txt.gz  | head -2\n",
    "#snpid   chr     bpos    a1      a2      N       z       p       info    Neff\n",
    "#rs185339560     10      2392426 T       C       49203   1.68368558594107        0.09239 0.67    22093.09\n",
    "\n",
    "# munge bpd2\n",
    "/opt/ldsc/munge_sumstats.py \\\n",
    "    --sumstats /data/sumstats/bpd2_forldsc_withneff.txt.gz \\\n",
    "    --out munged_sumstats/bpd2 \\\n",
    "    --merge-alleles /data/ld_data/w_hm3.snplist\n",
    "\n",
    "# h2 estimate\n",
    "/opt/ldsc/ldsc.py \\\n",
    "    --h2 /data/munged_sumstats/bpd2.sumstats.gz \\\n",
    "    --ref-ld-chr /data/ld_data/eur_w_ld_chr/ \\\n",
    "    --w-ld-chr /data/ld_data/eur_w_ld_chr/ \\\n",
    "    --samp-prev 0.393579578 \\\n",
    "    --pop-prev 0.01 \\\n",
    "    --out /data/h2_estimates/bpd2_h2"
   ]
  },
  {
   "cell_type": "markdown",
   "id": "88f7e73a-4300-41ca-9084-2ee16a0b1fca",
   "metadata": {},
   "source": [
    "### MDD1"
   ]
  },
  {
   "cell_type": "code",
   "execution_count": null,
   "id": "b71ff355-4dd6-42ac-ba00-1892ebcd474f",
   "metadata": {},
   "outputs": [],
   "source": [
    "zcat mdd1_forldsc_withneff.txt.gz  | head -2\n",
    "#snpid   chr     bpos    a1      a2      N       z       p       info    Neff\n",
    "#rs12562034      1       768448  A       G       18759   -1.07696995120038       0.2817  1.02    18754.8504717735\n",
    "\n",
    "# munge mdd1\n",
    "/opt/ldsc/munge_sumstats.py \\\n",
    "    --sumstats /data/sumstats/mdd1_forldsc_withneff.txt.gz \\\n",
    "    --out munged_sumstats/mdd1 \\\n",
    "    --merge-alleles /data/ld_data/w_hm3.snplist\n",
    "\n",
    "# h2 estimate\n",
    "/opt/ldsc/ldsc.py \\\n",
    "    --h2 /data/munged_sumstats/mdd1.sumstats.gz \\\n",
    "    --ref-ld-chr /data/ld_data/eur_w_ld_chr/ \\\n",
    "    --w-ld-chr /data/ld_data/eur_w_ld_chr/ \\\n",
    "    --samp-prev 0.492563569 \\\n",
    "    --pop-prev 0.15 \\\n",
    "    --out /data/h2_estimates/mdd1_h2"
   ]
  },
  {
   "cell_type": "markdown",
   "id": "b6a9e633-28a2-449c-bc81-32e2add801aa",
   "metadata": {},
   "source": [
    "### MDD2"
   ]
  },
  {
   "cell_type": "code",
   "execution_count": null,
   "id": "456130c6-8740-413d-b78c-6e719f46c384",
   "metadata": {},
   "outputs": [],
   "source": [
    "zcat mdd2_forldsc_withneff.txt.gz  | head -2\n",
    "#snpid   chr     bpos    a1      a2      N       z       p       info    Neff\n",
    "#rs62513865      8       101592213       T       C       173005  0.947993608026667       0.3438  0.957   69115.85\n",
    "\n",
    "# munge mdd2\n",
    "/opt/ldsc/munge_sumstats.py \\\n",
    "    --sumstats /data/sumstats/mdd2_forldsc_withneff.txt.gz \\\n",
    "    --out munged_sumstats/mdd2 \\\n",
    "    --merge-alleles /data/ld_data/w_hm3.snplist\n",
    "\n",
    "\n",
    "# h2 estimate\n",
    "/opt/ldsc/ldsc.py \\\n",
    "    --h2 /data/munged_sumstats/mdd2.sumstats.gz \\\n",
    "    --ref-ld-chr /data/ld_data/eur_w_ld_chr/ \\\n",
    "    --w-ld-chr /data/ld_data/eur_w_ld_chr/ \\\n",
    "    --samp-prev 0.345949539 \\\n",
    "    --pop-prev 0.15 \\\n",
    "    --out /data/h2_estimates/mdd2_h2"
   ]
  },
  {
   "cell_type": "markdown",
   "id": "bb20d7b4-f42c-4d15-9275-7f9bbdc0bb92",
   "metadata": {},
   "source": [
    "## Gather h2 estimates\n",
    "From the log files"
   ]
  },
  {
   "cell_type": "code",
   "execution_count": null,
   "id": "32204993-ec69-4ef4-85a2-eca8cd89c46d",
   "metadata": {},
   "outputs": [],
   "source": [
    "(py39) ➜  h2_estimates grep \"Total Liability scale h2\" scz1_pop_prev_0.005_h2.log\n",
    "Total Liability scale h2: 0.2653 (0.0167)\n",
    "    \n",
    "(py39) ➜  h2_estimates grep \"Total Liability scale h2\" scz1_pop_prev_0.01_h2.log\n",
    "Total Liability scale h2: 0.3092 (0.0194)\n",
    "    \n",
    "(py39) ➜  h2_estimates grep \"Total Liability scale h2\" scz2_pop_prev_0.005_h2.log\n",
    "Total Liability scale h2: 0.2058 (0.0082)\n",
    "    \n",
    "(py39) ➜  h2_estimates grep \"Total Liability scale h2\" scz2_pop_prev_0.01_h2.log\n",
    "Total Liability scale h2: 0.2398 (0.0095)\n",
    "    \n",
    "(py39) ➜  h2_estimates grep \"Total Liability scale h2\" bpd1_h2.log\n",
    "Total Liability scale h2: 0.2625 (0.023)\n",
    "    \n",
    "(py39) ➜  h2_estimates grep \"Total Liability scale h2\" bpd2_h2.log\n",
    "Total Liability scale h2: 0.2005 (0.0101)\n",
    "    \n",
    "(py39) ➜  h2_estimates grep \"Total Liability scale h2\" mdd1_h2.log\n",
    "Total Liability scale h2: 0.1867 (0.0355)\n",
    "    \n",
    "(py39) ➜  h2_estimates grep \"Total Liability scale h2\" mdd2_h2.log\n",
    "Total Liability scale h2: 0.1021 (0.0063)"
   ]
  }
 ],
 "metadata": {
  "kernelspec": {
   "display_name": "Python 3",
   "language": "python",
   "name": "python3"
  },
  "language_info": {
   "codemirror_mode": {
    "name": "ipython",
    "version": 3
   },
   "file_extension": ".py",
   "mimetype": "text/x-python",
   "name": "python",
   "nbconvert_exporter": "python",
   "pygments_lexer": "ipython3",
   "version": "3.9.4"
  },
  "toc-showtags": false
 },
 "nbformat": 4,
 "nbformat_minor": 5
}
