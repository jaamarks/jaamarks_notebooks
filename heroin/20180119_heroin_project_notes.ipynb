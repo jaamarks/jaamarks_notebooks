{
 "cells": [
  {
   "cell_type": "markdown",
   "metadata": {},
   "source": [
    "# Heroin Project Notes\n",
    "This document logs my notes, thoughts, and comments for the R01 project referred to as \"fwGWAS Heroin\""
   ]
  },
  {
   "cell_type": "markdown",
   "metadata": {},
   "source": [
    "## Unfamiliar concepts"
   ]
  },
  {
   "cell_type": "markdown",
   "metadata": {},
   "source": [
    "### split PARs (Pseudoautosomal Regions)\n",
    "If the QC pipeline, we have a section of code (below) that I need clarification on. We are breaking the genomic data up into autosomes and chromosome X. For chromosome X we include split PARs. Read link [here](https://www.ncbi.nlm.nih.gov/pmc/articles/PMC2435358/) for a description of these split PARs."
   ]
  },
  {
   "cell_type": "code",
   "execution_count": 1,
   "metadata": {},
   "outputs": [
    {
     "ename": "ERROR",
     "evalue": "Error in parse(text = x, srcfile = src): <text>:2:1: unexpected '/'\n1: # ChrX (include split PARs)\n2: /\n   ^\n",
     "output_type": "error",
     "traceback": [
      "Error in parse(text = x, srcfile = src): <text>:2:1: unexpected '/'\n1: # ChrX (include split PARs)\n2: /\n   ^\nTraceback:\n"
     ]
    }
   ],
   "source": [
    "# ChrX (include split PARs)\n",
    "/shared/bioinformatics/software/third_party/plink-1.90-beta-4.10-x86_64/plink \\\n",
    "    --bfile genotypes_b37_dbsnp138 \\\n",
    "    --chr 23,25 \\\n",
    "    --make-bed \\\n",
    "    --out chrX/genotypes_b37_dbsnp138_unmerged\n",
    "\n",
    "# Combine split chrX and PARs\n",
    "/shared/bioinformatics/software/third_party/plink-1.90-beta-4.10-x86_64/plink \\\n",
    "    --bfile chrX/genotypes_b37_dbsnp138_unmerged \\\n",
    "    --merge-x \\\n",
    "    --make-bed \\\n",
    "    --out chrX/genotypes_b37_dbsnp138"
   ]
  },
  {
   "cell_type": "code",
   "execution_count": null,
   "metadata": {
    "collapsed": true
   },
   "outputs": [],
   "source": [
    "truncate -s 0 structure/input_files/input_afr_eas_eur\n",
    "for pop in {AFR,EAS,EUR}; do\n",
    "    cat structure/1000g_data/${pop}_10k_snp_random_sample.final.ped | \\\n",
    "    /shared/bioinformatics/software/perl/boneyard/ped2structure.pl 1 ${groupID} \\\n",
    "    >> structure/input_files/input_afr_eas_eur\n",
    "    groupID=`echo ${groupID} + 1 | bc`\n",
    "done"
   ]
  },
  {
   "cell_type": "markdown",
   "metadata": {},
   "source": [
    "## Unfamiliar code or software"
   ]
  },
  {
   "cell_type": "markdown",
   "metadata": {},
   "source": [
    "### Awk"
   ]
  },
  {
   "cell_type": "code",
   "execution_count": null,
   "metadata": {
    "collapsed": true
   },
   "outputs": [],
   "source": [
    "# output field separator, if the last field (the missing call rate) is 1 then append fields 1 and 2\n",
    "awk '{ OFS=\"\\t\" } { if($6==1){ print $1,$2 } }' >> autosomes/missing_whole_autosome.remove"
   ]
  },
  {
   "cell_type": "code",
   "execution_count": null,
   "metadata": {
    "collapsed": true
   },
   "outputs": [],
   "source": [
    "# Prepare results for triangle plot\n",
    "\n",
    "# # Annotation: in the text file, if the line that has the characters %Miss are encountered, then we know we can start\n",
    "# next if we have encountered %Miss and the line does not contain the characters \"Label\" and the line also is not\n",
    "# blank (beginning of the line is a blank space and it is followed by more whitespaces all the way to the end!)\n",
    "# then, if all of these criteria are met then create an array with the data sets AFR, EAS, EUR and Study_AA\n",
    "# remove any whitespace at the beginning of the line\n",
    "# Create a new array called F. The fields of F will be the entries split by space in the output file\n",
    "# note that $_ is the default variable - which is the line being read in this case\n",
    "\n",
    "perl -ne 'if (/%Miss/) {  \n",
    "              $in=1;\n",
    "              print \"num\\tID\\tpop\\tcluster1\\tcluster2\\tcluster3\\n\";\n",
    "          }\n",
    "          if ($in==1 && !/Label/ && !/^\\s+$/) {\n",
    "              @datasets=(\"AFR\",\"EAS\",\"EUR\",\"Study_AA\");\n",
    "              s/^\\s+//g;\n",
    "              @F=split /\\s+/;\n",
    "              # Grab only study data set groups by ID\n",
    "              if ($F[3] > 3) {\n",
    "                  print $F[0].\"\\t\".$F[1].\"\\t\".$datasets[$F[3]-1].\"\\t\".$F[5].\"\\t\".$F[6].\"\\t\".$F[7].\"\\n\";\n",
    "              }\n",
    "          } \n",
    "          s/\\s+//g;\n",
    "          if ($_ eq \"\") { $in=0; }' structure/output_files/output_afr_eas_eur_f > \\\n",
    "    structure/triangle_plots/afr_eas_eur.triangle_input"
   ]
  },
  {
   "cell_type": "markdown",
   "metadata": {},
   "source": [
    "### Perl\n",
    "**Links to helpful resources**\n",
    "* [The command-line options](https://users.cs.cf.ac.uk/Dave.Marshall/PERL/node161.html#SECTION001820000000000000000)\n",
    "* [Uncommon* but Useful Perl Command Line Options for One-liners](http://www.perlmonks.org/?node_id=324749)\n",
    "* [Predefined names](https://www.cs.cmu.edu/afs/cs/usr/rgs/mosaic/pl-predef.html)\n",
    "* [The top 10 tricks of Perl one-liners](https://blogs.oracle.com/ksplice/the-top-10-tricks-of-perl-one-liners)\n",
    "* [Information about the default variable](https://perlmaven.com/the-default-variable-of-perl)\n",
    "\n",
    "Also note that `chomp` removes trailing new line character at the end of the file."
   ]
  },
  {
   "cell_type": "code",
   "execution_count": null,
   "metadata": {
    "collapsed": true
   },
   "outputs": [],
   "source": [
    "# Create triangle plot input with potential outliers filtered\n",
    "head -1 structure/triangle_plots/afr_eas_eur.triangle_input_master >/\n",
    "structure/triangle_plots/afr_eas_eur_filtered.triangle_input_master\n",
    "tail -n +2 structure/triangle_plots/afr_eas_eur.triangle_input_master | \\\n",
    "    perl -lane 'if ($F[2] eq \"Study_AA\" && ($F[3] >= 0.25 && $F[4] <= 0.4)) { print $_; }' \\\n",
    "\n",
    "\n",
    "# another example which prints to screen a list of files and their link counts\n",
    "ls -l | perl -lane 'print \"$F[8] $F[1]\"'"
   ]
  },
  {
   "cell_type": "markdown",
   "metadata": {},
   "source": [
    "##### -l parameter\n",
    "-- This option turns on line-ending processing. It can be used to set the output line terminator variable (\\$/) by specifying an octal value. See \"Example: Using the -0 option\" for an example of using octal numbers. If no octal number is specified, the output line terminator is set equal to the input line terminator (such as `\\$\\ = \\$/`)\n",
    "\n",
    "**Mnemonic** this specifies what the end of the line should be"
   ]
  },
  {
   "cell_type": "markdown",
   "metadata": {},
   "source": [
    "#####  -a parameter\n",
    "-- This option splits the line up from \\$_ into fields into \\$F."
   ]
  },
  {
   "cell_type": "markdown",
   "metadata": {},
   "source": [
    "##### -n parameter\n",
    "-- This option assumes a loop-like condition on the \\$_ variable and operates on it for each iteration\n",
    "\n",
    "**Note** that the -p parameter is similar to this only differing in that it prints \\$_ after each  iteration."
   ]
  },
  {
   "cell_type": "markdown",
   "metadata": {},
   "source": [
    "#####  -e parameter\n",
    "-- This option basically lets perl know that it is going to be a one-liner. There is not going to be a perl script in a file that is executed. The perl code that follows is what needs to be executed. It lets you pass a snippet of code to the terminal."
   ]
  },
  {
   "cell_type": "markdown",
   "metadata": {},
   "source": []
  },
  {
   "cell_type": "code",
   "execution_count": null,
   "metadata": {
    "collapsed": true
   },
   "outputs": [],
   "source": []
  },
  {
   "cell_type": "code",
   "execution_count": null,
   "metadata": {
    "collapsed": true
   },
   "outputs": [],
   "source": []
  },
  {
   "cell_type": "code",
   "execution_count": null,
   "metadata": {
    "collapsed": true
   },
   "outputs": [],
   "source": []
  },
  {
   "cell_type": "code",
   "execution_count": null,
   "metadata": {
    "collapsed": true
   },
   "outputs": [],
   "source": []
  },
  {
   "cell_type": "code",
   "execution_count": null,
   "metadata": {
    "collapsed": true
   },
   "outputs": [],
   "source": []
  },
  {
   "cell_type": "code",
   "execution_count": null,
   "metadata": {
    "collapsed": true
   },
   "outputs": [],
   "source": []
  },
  {
   "cell_type": "code",
   "execution_count": null,
   "metadata": {
    "collapsed": true
   },
   "outputs": [],
   "source": []
  },
  {
   "cell_type": "code",
   "execution_count": null,
   "metadata": {
    "collapsed": true
   },
   "outputs": [],
   "source": []
  },
  {
   "cell_type": "code",
   "execution_count": null,
   "metadata": {
    "collapsed": true
   },
   "outputs": [],
   "source": []
  },
  {
   "cell_type": "code",
   "execution_count": null,
   "metadata": {
    "collapsed": true
   },
   "outputs": [],
   "source": []
  }
 ],
 "metadata": {
  "kernelspec": {
   "display_name": "Python 3",
   "language": "python",
   "name": "python3"
  },
  "language_info": {
   "codemirror_mode": {
    "name": "ipython",
    "version": 3
   },
   "file_extension": ".py",
   "mimetype": "text/x-python",
   "name": "python",
   "nbconvert_exporter": "python",
   "pygments_lexer": "ipython3",
   "version": "3.7.4"
  },
  "toc": {
   "nav_menu": {},
   "number_sections": true,
   "sideBar": true,
   "skip_h1_title": false,
   "toc_cell": false,
   "toc_position": {},
   "toc_section_display": "block",
   "toc_window_display": false
  }
 },
 "nbformat": 4,
 "nbformat_minor": 2
}
