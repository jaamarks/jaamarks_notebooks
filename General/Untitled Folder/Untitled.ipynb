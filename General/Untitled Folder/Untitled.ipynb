{
 "cells": [
  {
   "cell_type": "code",
   "execution_count": null,
   "metadata": {},
   "outputs": [],
   "source": [
    "docker run -v \"/shared/jmarks/sandbox/wdl/metal-meta-wf/001/data1:/data/\" \\\n",
    "jessemarks/metal:2020.05.05_e961f8e /opt/metal \\\n",
    "    \"/data/metal1.txt\"\n",
    "    \n",
    "    \n",
    "SCHEME STDERR\n",
    "PVALUE P\n",
    "FREQLABEL ALT_AF\n",
    "AVERAGEFREQ ON\n",
    "MARKER VARIANT_ID\n",
    "ALLELE ALT REF\n",
    "EFFECT ALT_EFFECT\n",
    "STDERR SE\n",
    "GENOMICCONTROL OFF\n",
    "PROCESS /shared/rti-hiv/gwas_meta/data/wihs2/afr/MetaScore_rsq_gt_0.8_sample_maf_gt_0.05_chr1.tsv\n",
    "OUTFILE hiv_acquisition_gwas_meta_afr.chr1.1df .metal\n",
    "ANALYZE HETEROGENEITY\n",
    "QUIT\n",
    "\n",
    "\n",
    "## Smallest p-value is 1.11e-05 at marker '1:207871087:A:G'"
   ]
  }
 ],
 "metadata": {
  "kernelspec": {
   "display_name": "Python 3",
   "language": "python",
   "name": "python3"
  },
  "language_info": {
   "codemirror_mode": {
    "name": "ipython",
    "version": 3
   },
   "file_extension": ".py",
   "mimetype": "text/x-python",
   "name": "python",
   "nbconvert_exporter": "python",
   "pygments_lexer": "ipython3",
   "version": "3.8.3"
  }
 },
 "nbformat": 4,
 "nbformat_minor": 4
}
