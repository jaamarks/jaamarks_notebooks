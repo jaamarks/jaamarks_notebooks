{
 "cells": [
  {
   "cell_type": "code",
   "execution_count": null,
   "metadata": {
    "collapsed": true
   },
   "outputs": [],
   "source": [
    "wget https://imputationserver.sph.umich.edu/share/results/3549e1cff69f8ee3a6a3d5d3ce4b4ee2/chr_1.log\n",
    "wget https://imputationserver.sph.umich.edu/share/results/8276aa4411e483091def69d2798637aa/chr_10.log\n",
    "wget https://imputationserver.sph.umich.edu/share/results/7a85c2128150376c39dec56b812cbf6f/chr_11.log\n",
    "wget https://imputationserver.sph.umich.edu/share/results/5c20f174f90cf293f015756a575950b3/chr_12.log\n",
    "wget https://imputationserver.sph.umich.edu/share/results/81fd6a27692cd5bcf901eb3797264b61/chr_13.log\n",
    "wget https://imputationserver.sph.umich.edu/share/results/a7e409fdb5f808f7466b169d1bb301e5/chr_14.log\n",
    "wget https://imputationserver.sph.umich.edu/share/results/d5558a0cc8820e03e7307b6344fb8110/chr_15.log\n",
    "wget https://imputationserver.sph.umich.edu/share/results/f95acdd5422347ba1d4873903319d5dc/chr_16.log\n",
    "wget https://imputationserver.sph.umich.edu/share/results/223e0f11f63a4e3a72bf5c1a2e2727e9/chr_17.log\n",
    "wget https://imputationserver.sph.umich.edu/share/results/f743af552f435a2cc052719d92c35e7b/chr_18.log\n",
    "wget https://imputationserver.sph.umich.edu/share/results/dfd3328bd95735582529be9badf26f6a/chr_19.log\n",
    "wget https://imputationserver.sph.umich.edu/share/results/3ce08300527722c059477af3de660626/chr_2.log\n",
    "wget https://imputationserver.sph.umich.edu/share/results/fd536276fbe05cce0930d65a8f97736/chr_20.log\n",
    "wget https://imputationserver.sph.umich.edu/share/results/4a671c374a01971a63ef789b3ba392d7/chr_21.log\n",
    "wget https://imputationserver.sph.umich.edu/share/results/423bfbb39b9cf2976a76e1824dd5cc8f/chr_22.log\n",
    "wget https://imputationserver.sph.umich.edu/share/results/f07fbb19cf3a2d93fe01728c1ee54c85/chr_3.log\n",
    "wget https://imputationserver.sph.umich.edu/share/results/edbaa72e6c94f3d37e953b4ad4411e0c/chr_4.log\n",
    "wget https://imputationserver.sph.umich.edu/share/results/b0030bb15d0df5a41c3dbe9af4ce513f/chr_5.log\n",
    "wget https://imputationserver.sph.umich.edu/share/results/585811fa1e1b17551044baf2ab904a8a/chr_6.log\n",
    "wget https://imputationserver.sph.umich.edu/share/results/4c142af6198bc2694e7dd775c441d2ce/chr_7.log\n",
    "wget https://imputationserver.sph.umich.edu/share/results/45e5d10c685f8fd7cd32ad7382b8b0b7/chr_8.log\n",
    "wget https://imputationserver.sph.umich.edu/share/results/6673556ed5606da9ce77b8cedb721cfa/chr_9.log\n"
   ]
  }
 ],
 "metadata": {
  "kernelspec": {
   "display_name": "Python 3",
   "language": "python",
   "name": "python3"
  },
  "language_info": {
   "codemirror_mode": {
    "name": "ipython",
    "version": 3
   },
   "file_extension": ".py",
   "mimetype": "text/x-python",
   "name": "python",
   "nbconvert_exporter": "python",
   "pygments_lexer": "ipython3",
   "version": "3.6.3"
  },
  "toc": {
   "nav_menu": {},
   "number_sections": true,
   "sideBar": true,
   "skip_h1_title": false,
   "toc_cell": false,
   "toc_position": {},
   "toc_section_display": "block",
   "toc_window_display": false
  }
 },
 "nbformat": 4,
 "nbformat_minor": 2
}
