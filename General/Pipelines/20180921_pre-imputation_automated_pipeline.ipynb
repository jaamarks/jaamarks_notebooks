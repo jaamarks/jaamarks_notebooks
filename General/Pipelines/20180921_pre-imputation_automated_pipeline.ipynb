{
 "cells": [
  {
   "cell_type": "markdown",
   "metadata": {},
   "source": [
    "\n",
    "# Pre-Imputation Automated Pipeline (chrX)\n",
    "**Author:** Jesse Marks <br>\n",
    "**Date:** September 21, 2018 <br>\n",
    "**To do:** Automate Pipeline\n",
    "\n",
    "This document details an ~~automated~~ pipeline for the pre-imputation genotype data processing necessary for the submission to the [Michigan Imputation Server (MIS)](https://imputationserver.sph.umich.edu/start.html). To submit genotype data to MIS for imputation, you must create an account/profile on their website. \n",
    "\n",
    "The starting point (input data) for this pipeline is after the quality control (QC) of the observed genotype data. This pipeline is currently ready for chrX (chr23), from one cohort, and will eventually be adapted to handle all chromosomes (automsomes & chrX) and multiple cohorts. The QC genotype data should be oriented on the GRGh37 plus strand. When multiple data sets are to be merged for imputation, the intersection set of variants will be used for imputation; this is based on the finding from [Johnson et al.](https://link.springer.com/article/10.1007/s00439-013-1266-7). \n",
    "\n",
    "## Software and tools\n",
    "The software and tools used for porcessing these data are:\n",
    "* [Michigan Imputation Server](https://imputationserver.sph.umich.edu/index.html) (MIS)\n",
    "* [Amazon Web Services (AWS) - Cloud Computing Services](https://aws.amazon.com/)\n",
    "    * Linux AMI\n",
    "* [PLINK v1.90 beta 4.10](https://www.cog-genomics.org/plink/)\n",
    "* [bgzip](http://www.htslib.org/doc/tabix.html)\n",
    "* [BCF Tools](http://www.htslib.org/doc/bcftools.html)\n",
    "* Windows 10 with [Cygwin](https://cygwin.com/) installed\n",
    "* GNU bash version 4.2.46\n",
    "\n",
    "## Example Data Set\n",
    "The example cohort we test this pipeline on is [VIDUS](https://www.bccsu.ca/vidus/). There is only one ancestry associated with this cohort, namely European ancestry (EA).\n",
    "\n",
    "### QC Stats Summary:\n",
    "* start 17565;\n",
    "* post missingness 16472;\n",
    "* post HWE 16471\n",
    "\n",
    "### Post-QC Data Location\n",
    "Updated VIDUS chrX QC - new files located here: \n",
    "\n",
    "* https://rti-midas-data.s3.amazonaws.com/studies/vidus/observed/final/vidus.ea.chr23.bed <br>\n",
    "* https://rti-midas-data.s3.amazonaws.com/studies/vidus/observed/final/vidus.ea.chr23.bim <br>\n",
    "* https://rti-midas-data.s3.amazonaws.com/studies/vidus/observed/final/vidus.ea.chr23.fam <br>\n",
    "\n",
    "### Pre-Imputation Stats Summary\n",
    "| Data Set      | Initial Variants (Post-QC) | Variants Post-Filtering  | Intersection     |\n",
    "|---------------|----------------------------|--------------------------|------------------|\n",
    "| VIDUS         |   16,471                   |  14,705                  | NA               |"
   ]
  },
  {
   "cell_type": "markdown",
   "metadata": {},
   "source": [
    "# Data Processing"
   ]
  },
  {
   "cell_type": "markdown",
   "metadata": {},
   "source": [
    "## Create Directory Stucture & Download Data\n",
    "The following section needs to be modified each time to reflect:\n",
    "* where the genotype data (post-QC) are stored\n",
    "* where the base directory for the pre-imputation data processing will be\n",
    "* the study or studies involved\n",
    "* the ancesty group(s) involved\n",
    "* the data to be processed (all_chr or chr23)"
   ]
  },
  {
   "cell_type": "code",
   "execution_count": null,
   "metadata": {
    "collapsed": true
   },
   "outputs": [],
   "source": [
    "### Bash ###\n",
    "\n",
    "# parameters \n",
    "base_dir=/home/ec2-user/jmarks/heroin/chr23_impute # DO NOT end in forward slash\n",
    "base_name=\"chr23\" # chr23 or chr_all\n",
    "ancestry_list=\"ea\" # space delimited Ex. \"ea aa ha\"\n",
    "study_list=\"VIDUS\" # space delimited \n",
    "\n",
    "# create directory structure\n",
    "mkdir ${base_dir}/1000g\n",
    "for study in ${study_list};do\n",
    "    for ancestry in ${ancestry_list};do\n",
    "        mkdir -p ${base_dir}/${study}/genotype/observed/${ancestry}\n",
    "    done\n",
    "done\n",
    "\n",
    "# Download the genotype data to the directory structure created above\n",
    "# Note, the data should be downloaded to the appropriate study and ancestry directories\n",
    "for ext in {bed,bim,fam};do\n",
    "    aws s3 cp s3://rti-midas-data/studies/vidus/observed/final/vidus.ea.chr23.${ext} \\\n",
    "        ${base_dir}/VIDUS/genotype/observed/ea/ --quiet &\n",
    "done"
   ]
  },
  {
   "cell_type": "markdown",
   "metadata": {},
   "source": [
    "## GRCh37 strand and allele discordance check\n",
    "### MAF for study data (all chromosomes)"
   ]
  },
  {
   "cell_type": "code",
   "execution_count": null,
   "metadata": {},
   "outputs": [],
   "source": [
    "### Bash ###\n",
    "\n",
    "# Write out the MAF report\n",
    "for study in ${study_list}; do\n",
    "    study_dir=${base_dir}/${study}/strand_check\n",
    "    mkdir ${study_dir}\n",
    "    for ancestry in ${ancestry_list};do\n",
    "        data_dir=${base_dir}/${study}/genotype/observed/${ancestry}\n",
    "        /shared/bioinformatics/software/third_party/plink-1.90-beta-4.10-x86_64/plink \\\n",
    "            --noweb \\\n",
    "            --memory 2048 \\\n",
    "            --bed ${data_dir}/*bed\\\n",
    "            --bim ${data_dir}/*bim\\\n",
    "            --fam ${data_dir}/*fam\\\n",
    "            --freq \\\n",
    "            --out ${study_dir}/${ancestry}_${base_name}\n",
    "    done\n",
    "done\n",
    "\n",
    "# Get list of variants from all studies\n",
    "for ancestry in ${ancestry_list}; do\n",
    "    for study in ${study_list};do\n",
    "        cat ${base_dir}/${study}/genotype/observed/${ancestry}/*bim | \\\n",
    "                perl -lane 'if (($F[0]+0) <= 23) { print $F[1]; }' | \\\n",
    "                sort -u > ${base_dir}/${ancestry}_${base_name}_sorted_variants.txt\n",
    "    done\n",
    "done"
   ]
  },
  {
   "cell_type": "markdown",
   "metadata": {},
   "source": [
    "### MAF for 1000G\n",
    "The current setup requires the 1000G MAF for autosomes and chrX to be processed separately. This pipeline is also currently set up to handle EUR and AFR populations. \n",
    "#### Autosomes\n",
    "Get 1000G MAF for chromosomes 1&ndash;22 (autosomes)."
   ]
  },
  {
   "cell_type": "code",
   "execution_count": null,
   "metadata": {},
   "outputs": [],
   "source": [
    "### EC2 command line (Bash)\n",
    "\n",
    "# Calculate autosome MAFs for 1000G populations\n",
    "for ancestry in ${ancestry_list};do\n",
    "\n",
    "    if [ $ancestry == \"ea\" ]\n",
    "    then\n",
    "        pop=\"EUR\"\n",
    "    else\n",
    "        pop=\"AFR\"\n",
    "    fi\n",
    "    \n",
    "for chr in {1..22}; do\n",
    "    /shared/bioinformatics/software/scripts/qsub_job.sh \\\n",
    "        --job_name ${pop}_${chr}_MAF \\\n",
    "        --script_prefix ${base_dir}/1000g/${pop}_chr${chr}.maf \\\n",
    "        --mem 6.8 \\\n",
    "        --nslots 1 \\\n",
    "        --priority 0 \\\n",
    "        --program /shared/bioinformatics/software/perl/stats/calculate_maf_from_impute2_hap_file.pl \\\n",
    "            --hap /shared/data/ref_panels/1000G/2014.10/1000GP_Phase3_chr${chr}.hap.gz\\\n",
    "            --legend /shared/data/ref_panels/1000G/2014.10/1000GP_Phase3_chr${chr}.legend.gz \\\n",
    "            --sample /shared/data/ref_panels/1000G/2014.10/1000GP_Phase3.sample \\\n",
    "            --chr ${chr} \\\n",
    "            --out ${base_dir}/1000g/${pop}_chr${chr}.maf \\\n",
    "            --extract ${base_dir}/${ancestry}_${base_name}_sorted_variants.txt \\\n",
    "            --keep_groups ${pop}\n",
    "done"
   ]
  },
  {
   "cell_type": "markdown",
   "metadata": {},
   "source": [
    "#### chrX \n",
    "Get 1000G MAF for chromosome 23 (chrX)."
   ]
  },
  {
   "cell_type": "code",
   "execution_count": null,
   "metadata": {},
   "outputs": [],
   "source": [
    "### Bash ###\n",
    "\n",
    "for ancestry in ${ancestry_list};do\n",
    "    chr=23\n",
    "\n",
    "    if [ $ancestry == \"ea\" ]\n",
    "    then\n",
    "        pop=\"EUR\"\n",
    "    else\n",
    "        pop=\"AFR\"\n",
    "    fi\n",
    "\n",
    "    /shared/bioinformatics/software/scripts/qsub_job.sh \\\n",
    "        --job_name ${pop}_23_MAF \\\n",
    "        --script_prefix ${base_dir}/1000g/${pop}_chr${chr}.maf \\\n",
    "        --mem 6.8 \\\n",
    "        --nslots 1 \\\n",
    "        --priority 0 \\\n",
    "        --program /shared/bioinformatics/software/perl/stats/calculate_maf_from_impute2_hap_file.pl \\\n",
    "            --hap /shared/data/ref_panels/1000G/2014.10/1000GP_Phase3_chrX_NONPAR.hap.gz\\\n",
    "            --legend /shared/data/ref_panels/1000G/2014.10/1000GP_Phase3_chrX_NONPAR.legend.gz \\\n",
    "            --sample /shared/data/ref_panels/1000G/2014.10/1000GP_Phase3.sample \\\n",
    "            --chr $chr \\\n",
    "            --out ${base_dir}/1000g/${pop}_chr${chr}.maf \\\n",
    "            --extract ${ancestry}_${base_name}_sorted_variants.txt \\\n",
    "            --keep_groups ${pop}\n",
    "done"
   ]
  },
  {
   "cell_type": "markdown",
   "metadata": {},
   "source": [
    "### Merge 1000G chromosomes\n",
    "Only need to perform this if there were multiple chromosomes for which the MAF was calculated."
   ]
  },
  {
   "cell_type": "code",
   "execution_count": null,
   "metadata": {},
   "outputs": [],
   "source": [
    "### Bash ###\n",
    "\n",
    "# Merge per chr MAFs for each 1000G population\n",
    "for ancestry in ${ancestry_list};do\n",
    "    if [ $ancestry == \"ea\" ]\n",
    "    then\n",
    "        pop=\"EUR\"\n",
    "    else\n",
    "        pop=\"AFR\"\n",
    "    fi\n",
    "    \n",
    "        head -n 1 ${base_dir}/1000g/${pop}_chr1.maf > 1000g/${pop}_chr_all.maf\n",
    "        tail -q -n +2 1000g/${pop}_chr{1..23}.maf \\\n",
    "            >> 1000g/${pop}_chr_all.maf\n",
    "done"
   ]
  },
  {
   "cell_type": "markdown",
   "metadata": {},
   "source": [
    "### Autosome Discordant Check"
   ]
  },
  {
   "cell_type": "code",
   "execution_count": null,
   "metadata": {},
   "outputs": [],
   "source": [
    "### Bash ###\n",
    "\n",
    "# Run discordance checks for each ancestry group\n",
    "for study in ${study_list}; do\n",
    "    for ancestry in ${ancestry_list};do\n",
    "        if [ $ancestry = \"ea\" ]; then\n",
    "            pop=EUR\n",
    "        else\n",
    "            pop=AFR\n",
    "        fi\n",
    "\n",
    "       /shared/bioinformatics/software/scripts/qsub_job.sh \\\n",
    "           --job_name ${ancestry}_${study}_crosscheck \\\n",
    "           --script_prefix ${base_dir}/strand_check/${ancestry}_allele_discordance_check \\\n",
    "           --mem 6 \\\n",
    "           --nslots 4 \\\n",
    "           --priority 0 \\\n",
    "           --program \"Rscript /shared/bioinformatics/software/R/check_study_data_against_1000G.R\n",
    "               --study_bim_file ${base_dir}/${study}/genotype/observed/${ancestry}/*bim\n",
    "               --study_frq_file ${base_dir}/${study}/strand_check/${ancestry}_chr_all.frq\n",
    "               --ref_maf_file ${base_dir}/1000g/${pop}_chr_all.maf\n",
    "               --out_prefix ${base_dir}/${study}/strand_check/${ancestry}_allele_discordance\"\n",
    "    done\n",
    "done"
   ]
  },
  {
   "cell_type": "markdown",
   "metadata": {},
   "source": [
    "### chrX Discordant Check"
   ]
  },
  {
   "cell_type": "code",
   "execution_count": null,
   "metadata": {},
   "outputs": [],
   "source": [
    "### Bash ###\n",
    "\n",
    "for study in ${study_list}; do\n",
    "    for ancestry in ${ancestry_list};do\n",
    "        if [ $ancestry = \"ea\" ]; then\n",
    "            pop=EUR\n",
    "        else\n",
    "            pop=AFR\n",
    "        fi\n",
    "\n",
    "        # chr23 discordance check\n",
    "        /shared/bioinformatics/software/scripts/qsub_job.sh \\\n",
    "            --job_name ${ancestry}_${study}_crosscheck \\\n",
    "            --script_prefix ${base_dir}/${study}/strand_check/${ancestry}_allele_discordance_check \\\n",
    "            --mem 6.8 \\\n",
    "            --nslots 2 \\\n",
    "            --priority 0 \\\n",
    "            --program \"Rscript /shared/bioinformatics/software/R/check_study_data_against_1000G.R\n",
    "                --study_bim_file ${base_dir}/${study}/genotype/observed/${ancestry}/*bim\n",
    "                --study_frq_file ${base_dir}/${study}/strand_check/${ancestry}_chr23.frq\n",
    "                --ref_maf_file ${base_dir}/1000g/${pop}_chr23.maf\n",
    "                --out_prefix ${base_dir}/${study}/strand_check/${ancestry}_allele_discordance\"\n",
    "    done\n",
    "done"
   ]
  },
  {
   "cell_type": "markdown",
   "metadata": {},
   "source": [
    "### Resolving allele discordances\n",
    "The allele discordances will be resolved by\n",
    "* Flipping allele discordances that are fixed by flipping\n",
    "* Removing SNPs with discordant names\n",
    "* Removing SNPs with discordant positions\n",
    "* Removing allele discordances that are not resolved by flipping\n",
    "* Removing alleles with large deviations from the reference population allele frequencies"
   ]
  },
  {
   "cell_type": "code",
   "execution_count": null,
   "metadata": {
    "collapsed": true
   },
   "outputs": [],
   "source": [
    "### Bash ###\n",
    "\n",
    "# Apply filters\n",
    "for study in ${study_list}; do\n",
    "    for ancestry in ${ancestry_list};do\n",
    "        echo -e \"\\n===============\\nProcessing ${study}_${ancestry}\\n\"\n",
    "        echo \"Making remove list\"\n",
    "        cat <(cut -f2,2 ${base_dir}/${study}/strand_check/${ancestry}_allele_discordance.discordant_alleles_not_fixed_by_strand_flip | tail -n +2) \\\n",
    "            <(cut -f2,2 ${base_dir}/${study}/strand_check/${ancestry}_allele_discordance.at_cg_snps_freq_diff_gt_0.2 | tail -n +2) \\\n",
    "            <(cut -f2,2 ${base_dir}/${study}/strand_check/${ancestry}_allele_discordance.discordant_names | tail -n +2) \\\n",
    "            <(cut -f2,2 ${base_dir}/${study}/strand_check/${ancestry}_allele_discordance.discordant_positions | tail -n +2) \\\n",
    "            <(cut -f2,2 ${base_dir}/${study}/strand_check/${ancestry}_allele_discordance.discordant_alleles_polymorphic_in_study_not_fixed_by_strand_flip | tail -n +2) | \\\n",
    "              sort -u > ${base_dir}/${study}/strand_check/${ancestry}_snps.remove\n",
    "\n",
    "        # Create flip list\n",
    "        echo \"Making flip list\"\n",
    "        comm -23 <(cut -f2,2 ${base_dir}/${study}/strand_check/${ancestry}_allele_discordance.discordant_alleles | tail -n +2 | sort -u) \\\n",
    "            <(cut -f2,2 ${base_dir}/${study}/strand_check/${ancestry}_allele_discordance.discordant_alleles_not_fixed_by_strand_flip | tail -n +2 | sort -u) \\\n",
    "            > ${base_dir}/${study}/strand_check/${ancestry}_snps.flip\n",
    "\n",
    "        # Apply filters\n",
    "        /shared/bioinformatics/software/third_party/plink-1.90-beta-4.10-x86_64/plink \\\n",
    "            --noweb \\\n",
    "            --memory 2048 \\\n",
    "            --bed ${base_dir}/${study}/genotype/observed/${ancestry}/*bed \\\n",
    "            --bim ${base_dir}/${study}/genotype/observed/${ancestry}/*bim \\\n",
    "            --fam ${base_dir}/${study}/genotype/observed/${ancestry}/*fam \\\n",
    "            --exclude ${base_dir}/${study}/strand_check/${ancestry}_snps.remove \\\n",
    "            --flip ${base_dir}/${study}/strand_check/${ancestry}_snps.flip \\\n",
    "            --make-bed \\\n",
    "            --out ${base_dir}/${study}/genotype/observed/${ancestry}/${ancestry}_filtered\n",
    "    done\n",
    "done"
   ]
  },
  {
   "cell_type": "markdown",
   "metadata": {},
   "source": [
    "### Remove monomorphic variants\n",
    "Monomorphic variants prevent MIS from accepting the genotype data. In this case, an arbitrarily small MAF is set that is smaller than the lower bound for these data."
   ]
  },
  {
   "cell_type": "code",
   "execution_count": null,
   "metadata": {
    "collapsed": true
   },
   "outputs": [],
   "source": [
    "### Bash ###\n",
    "\n",
    "# Apply filters\n",
    "for study in ${study_list}; do\n",
    "    for ancestry in ${ancestry_list};do\n",
    "        geno_dir=${base_dir}/${study}/genotype/observed/${ancestry}\n",
    "\n",
    "        /shared/bioinformatics/software/third_party/plink-1.90-beta-4.10-x86_64/plink \\\n",
    "            --noweb \\\n",
    "            --memory 2048 \\\n",
    "            --bfile ${geno_dir}/${ancestry}_filtered \\\n",
    "            --maf 0.000001 \\\n",
    "            --make-bed \\\n",
    "            --out ${geno_dir}/${ancestry}_filtered_mono\n",
    "    done\n",
    "done"
   ]
  },
  {
   "cell_type": "markdown",
   "metadata": {},
   "source": [
    "## Snp Intersection\n",
    "This section will have to be developed when there are multiple datasets merged together (variant intersection) for imputation."
   ]
  },
  {
   "cell_type": "code",
   "execution_count": null,
   "metadata": {},
   "outputs": [],
   "source": []
  },
  {
   "cell_type": "markdown",
   "metadata": {},
   "source": [
    "## Imputation preparation for Michigan Imputation Server\n",
    "Visit the [MIS Getting Started Webpage](https://imputationserver.sph.umich.edu/start.html#!pages/help) for more information about the preparing the data for upload to MIS.\n",
    "### VCF File Conversion\n",
    "\n",
    "**Note**: this section will be different once the intersection section has been created (see above)."
   ]
  },
  {
   "cell_type": "code",
   "execution_count": null,
   "metadata": {
    "collapsed": true
   },
   "outputs": [],
   "source": [
    "### Bash ###\n",
    "\n",
    "mkdir ${base_dir}/phase_prep\n",
    "\n",
    "# Split by chr and remove any individuals with missing data for whole chr\n",
    "\n",
    "for study in ${study_list}; do\n",
    "    for ancestry in ${ancestry_list};do\n",
    "        geno_dir=${base_dir}/${study}/genotype/observed/${ancestry}\n",
    "        for chr in {1..23}; do\n",
    "            /shared/bioinformatics/software/third_party/plink-1.90-beta-4.10-x86_64/plink \\\n",
    "                --noweb \\\n",
    "                --memory 4000 \\\n",
    "                --bfile ${geno_dir}/${ancestry}_filtered_mono \\\n",
    "                --chr ${chr} \\\n",
    "                --mind 0.99 \\\n",
    "                --make-bed \\\n",
    "                --out ${base_dir}/phase_prep/${ancestry}_chr${chr}_for_phasing \n",
    "        done > chr_splitting.log\n",
    "    done\n",
    "done"
   ]
  },
  {
   "cell_type": "markdown",
   "metadata": {},
   "source": [
    "__Note__: No subjects were removed."
   ]
  },
  {
   "cell_type": "code",
   "execution_count": null,
   "metadata": {
    "collapsed": true
   },
   "outputs": [],
   "source": [
    "# EC2 command line #\n",
    "\n",
    "chr=23\n",
    "for study in ${study_list}; do\n",
    "    for ancestry in ${ancestry_list};do\n",
    "        mkdir ${base_dir}/phase_prep/${ancestry}\n",
    "\n",
    "        /shared/bioinformatics/software/third_party/plink-1.90-beta-4.10-x86_64/plink \\\n",
    "            --noweb \\\n",
    "            --memory 5000 \\\n",
    "            --bfile ${base_dir}/phase_prep/${ancestry}_chr${chr}_for_phasing \\\n",
    "            --output-chr M \\\n",
    "            --set-hh-missing \\\n",
    "            --recode vcf bgz \\\n",
    "            --out ${base_dir}/phase_prep/${ancestry}/${ancestry}_chr${chr}_final\n",
    "    done\n",
    "done"
   ]
  },
  {
   "cell_type": "markdown",
   "metadata": {},
   "source": [
    "# Upload to Michigan Imputation Server (MIS)\n",
    "Transfer the `*.vcf` files to local machine (per chromosome) and then upload to MIS.\n",
    "\n",
    "## Uploading parameters EA\n",
    "These are the parameters that were selected on MIS:\n",
    "\n",
    "__Name__: VIDUS_ea_chr23\n",
    "\n",
    "__Reference Panel__ 1000G Phase 3 v5\n",
    "\n",
    "__Input Files__ File Upload <br>\n",
    "\n",
    "* Select Files - select VCF files that were downloaded to local machine from cloud. <br>\n",
    "\n",
    "__Phasing__: ShapeIT v2.r790 (unphased) \n",
    "\n",
    "__Population__: EUR\n",
    "\n",
    "__Mode__: Quality Control & Imputation\n",
    "\n",
    "* I will not attempt to re-identify or contact research participants.\n",
    "* I will report any inadvertent data release, security breach or other data management incident of which I become aware."
   ]
  },
  {
   "cell_type": "markdown",
   "metadata": {},
   "source": [
    "**Input Validation**\n",
    "```\n",
    "1 valid VCF file(s) found.\n",
    "\n",
    "Samples: 940\n",
    "Chromosomes: X\n",
    "SNPs: 14705\n",
    "Chunks: 8\n",
    "Datatype: unphased\n",
    "Reference Panel: phase3\n",
    "Phasing: shapeit\n",
    "```\n",
    "\n",
    "**Quality Control**\n",
    "```\n",
    "ChrX Statistics: \n",
    "Submitting 2 jobs: \n",
    "chrX Non.Par male ( as Chr X II ) \n",
    "chrX Non.Par female ( as Chr X I ) \n",
    "NonPar Sex Check: \n",
    "Males: 712\n",
    "Females: 228\n",
    "No Sex dedected and therefore filtered: 0\n",
    "```"
   ]
  },
  {
   "cell_type": "markdown",
   "metadata": {},
   "source": [
    "# Download Imputed Data from MIS\n",
    "First Download the data form the Michigan Imputation Server by clicking on the link provided in the email they send out to alert you that your data has finished. Here you will find commands for downloading the data."
   ]
  },
  {
   "cell_type": "code",
   "execution_count": null,
   "metadata": {},
   "outputs": [],
   "source": [
    "cd /home/ec2-user/jmarks/heroin/chr23_impute/VIDUS/genotype/imputed\n",
    "\n",
    "wget https://imputationserver.sph.umich.edu/share/results/82285d4825c7da133fc96eb8d36954c7/chr_X.no.auto_female.zip\n",
    "wget https://imputationserver.sph.umich.edu/share/results/97b24fa6b1c8ed67fafc61ea0f4e859c/chr_X.no.auto_male.zip"
   ]
  },
  {
   "cell_type": "markdown",
   "metadata": {},
   "source": [
    "## Inflate imputation results\n",
    "The zip files from Michigan Imputation Server (MIS) need to be inflated before you can begin working with them. They require a passcode that is sent by MIS to email. So, you would need to replace the passcode `cBrhKJoZ5pX0G` for your data. Consider submitting the inflation processes as a job if there are multiple chromosomes to inflate (e.g. inflate all autosomes). See the commented out code below for an example of this."
   ]
  },
  {
   "cell_type": "code",
   "execution_count": null,
   "metadata": {},
   "outputs": [],
   "source": [
    "### EC2 console ###\n",
    "cd /shared/imputed/kreek/data/genotype/imputed/ea\n",
    "\n",
    "# inflate chr results\n",
    "for file in *zip;do\n",
    "    unzip -P \"cBrhKJoZ5pX0G\" $file \n",
    "done\n",
    "\n",
    "# # inflate chr results\n",
    "# for f in {1..23};do\n",
    "# echo '#!/bin/bash' > chr_$f.sh\n",
    "# echo '' >> chr_$f.sh\n",
    "# echo 'unzip -P \"\\aKcPO5MYw6qr\" chr_'$f'.zip' >> chr_$f.sh\n",
    "# done\n",
    "\n",
    "# for chr in {1..22}; do\n",
    "#     sh /shared/bioinformatics/software/scripts/qsub_job.sh \\\n",
    "#     --job_name ea.inflate_chr${chr} \\\n",
    "#     --script_prefix ea.chr${chr}_inflation \\\n",
    "#     --mem 5 \\\n",
    "#     --priority 0 \\\n",
    "#     --nslots 1 \\\n",
    "#     --program bash chr_${chr}.sh\n",
    "# done\n",
    "\n",
    "# rm *.sh"
   ]
  },
  {
   "cell_type": "markdown",
   "metadata": {},
   "source": [
    "# Upload to S3\n",
    "Include a README file with the uploaded data following the template:\n",
    "\n",
    "```\n",
    "Author: Jesse Marks\n",
    "Date: September 21, 2018\n",
    "GitHub Issue: #98 (https://github.com/RTIInternational/bioinformatics/issues/98#)\n",
    "\n",
    "Data: VIDUS_EA, chrX\n",
    "Genotype Data Retrieved from:\n",
    "        https://rti-midas-data.s3.amazonaws.com/studies/vidus/observed/final/vidus.ea.chr23.bed\n",
    "        https://rti-midas-data.s3.amazonaws.com/studies/vidus/observed/final/vidus.ea.chr23.bim\n",
    "        https://rti-midas-data.s3.amazonaws.com/studies/vidus/observed/final/vidus.ea.chr23.fam\n",
    "\n",
    "Imputation Platform: Michigan Imputation Server\n",
    "Reference Panel: 1000G Phase 3 v5\n",
    "Phasing: ShapeIT v2.r790 (unphased)\n",
    "\n",
    "\n",
    "Summary Statistics\n",
    "| Data Set      | Initial Variants (Post-QC)| Variants Post-Filtering  | Intersection     |\n",
    "|---------------|---------------------------|--------------------------|------------------|\n",
    "| VIDUS         |   16,471                  |  14,705                  | NA               |\n",
    "```"
   ]
  },
  {
   "cell_type": "code",
   "execution_count": null,
   "metadata": {},
   "outputs": [],
   "source": [
    "aws s3 sync . s3://rti-midas-data/studies/vidus/imputed/20180921/"
   ]
  }
 ],
 "metadata": {
  "kernelspec": {
   "display_name": "R",
   "language": "R",
   "name": "ir"
  },
  "language_info": {
   "codemirror_mode": "r",
   "file_extension": ".r",
   "mimetype": "text/x-r-source",
   "name": "R",
   "pygments_lexer": "r",
   "version": "3.4.3"
  },
  "toc": {
   "nav_menu": {},
   "number_sections": true,
   "sideBar": true,
   "skip_h1_title": false,
   "toc_cell": false,
   "toc_position": {
    "height": "746px",
    "left": "0px",
    "right": "1533.47px",
    "top": "111px",
    "width": "212px"
   },
   "toc_section_display": "block",
   "toc_window_display": true
  }
 },
 "nbformat": 4,
 "nbformat_minor": 2
}
