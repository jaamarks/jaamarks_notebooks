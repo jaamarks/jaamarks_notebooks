{
 "cells": [
  {
   "cell_type": "markdown",
   "metadata": {},
   "source": [
    "[Weighting sequence variants based on their annotation\n",
    "increases power of whole-genome association studies.(Sveinbjornsson et al Nature 2016)](./files/Sveinbjornsson_et_al-2016-Nature_Genetics.pdf)"
   ]
  },
  {
   "cell_type": "code",
   "execution_count": 3,
   "metadata": {},
   "outputs": [
    {
     "data": {
      "text/html": [
       "'C:/Users/jmarks/Desktop/GitHub/jaamarks_notebooks/General/Papers'"
      ],
      "text/latex": [
       "'C:/Users/jmarks/Desktop/GitHub/jaamarks\\_notebooks/General/Papers'"
      ],
      "text/markdown": [
       "'C:/Users/jmarks/Desktop/GitHub/jaamarks_notebooks/General/Papers'"
      ],
      "text/plain": [
       "[1] \"C:/Users/jmarks/Desktop/GitHub/jaamarks_notebooks/General/Papers\""
      ]
     },
     "metadata": {},
     "output_type": "display_data"
    }
   ],
   "source": []
  }
 ],
 "metadata": {
  "kernelspec": {
   "display_name": "R",
   "language": "R",
   "name": "ir"
  },
  "language_info": {
   "codemirror_mode": "r",
   "file_extension": ".r",
   "mimetype": "text/x-r-source",
   "name": "R",
   "pygments_lexer": "r",
   "version": "3.4.3"
  },
  "toc": {
   "nav_menu": {},
   "number_sections": true,
   "sideBar": true,
   "skip_h1_title": false,
   "toc_cell": false,
   "toc_position": {},
   "toc_section_display": "block",
   "toc_window_display": false
  }
 },
 "nbformat": 4,
 "nbformat_minor": 2
}
