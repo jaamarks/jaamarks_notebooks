{
 "cells": [
  {
   "cell_type": "markdown",
   "metadata": {},
   "source": [
    "[Weighting sequence variants based on their annotation\n",
    "increases power of whole-genome association studies.(Sveinbjornsson et al Nature 2016)](/files/GitHub/Sveinbjornsson_et_al-2016-Nature_Genetics.pdf)"
   ]
  },
  {
   "cell_type": "markdown",
   "metadata": {},
   "source": [
    "* Functional annotiations can be used to improve power to detect associations\n",
    "\n",
    "* The weighted Bonferroni correction leads to thresholds for genome-wide significanct that depend on sequence annotations rather than being the same for all sequence variants. \n",
    "\n",
    "* Ferritin is a universal intracellular protein that stores iron and releases it in a controlled fashion. The protein is produced by almost all living organisms, including algae, bacteria, higher plants, and animals.\n",
    "\n",
    "* Exome sequencing, sometimes called ‘whole exome sequencing’ (WES), instead [of WGS] focuses on just the protein coding sequences."
   ]
  }
 ],
 "metadata": {
  "kernelspec": {
   "display_name": "R",
   "language": "R",
   "name": "ir"
  },
  "language_info": {
   "codemirror_mode": "r",
   "file_extension": ".r",
   "mimetype": "text/x-r-source",
   "name": "R",
   "pygments_lexer": "r",
   "version": "3.4.3"
  },
  "toc": {
   "nav_menu": {},
   "number_sections": true,
   "sideBar": true,
   "skip_h1_title": false,
   "toc_cell": false,
   "toc_position": {},
   "toc_section_display": "block",
   "toc_window_display": false
  }
 },
 "nbformat": 4,
 "nbformat_minor": 2
}
