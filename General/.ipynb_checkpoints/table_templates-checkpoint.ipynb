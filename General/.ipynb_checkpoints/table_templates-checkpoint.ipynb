{
 "cells": [
  {
   "cell_type": "markdown",
   "metadata": {},
   "source": [
    "# Templates of empty tables"
   ]
  },
  {
   "cell_type": "markdown",
   "metadata": {},
   "source": [
    "### Quality Control Sample Tracking\n",
    "#### Pre-chromosome type partitioning\n",
    "The table below provides statistics on variants and subjects filtered during each step of the QC process.\n",
    "\n",
    "| QC procedure                         | Variants removed | Variants retained | Subjects removed | Subjects retained |\n",
    "|--------------------------------------|------------------|-------------------|------------------|-------------------|\n",
    "| Initial dbGaP dataset                |                  |                   |                  |                   |\n",
    "| Genome build 37 and dbGaP 138 update |                  |                   |                  |                   |\n",
    "| Duplicate rsID filtering             |                  |                   |                  |                   |"
   ]
  },
  {
   "cell_type": "markdown",
   "metadata": {},
   "source": [
    "### Autosome statistics\n",
    "This table includes filtering statistics prior to merging with chrX.\n",
    "\n",
    "| QC procedure                                    | Variants removed | Variants retained | Subjects removed | Subjects added | Subjects retained |\n",
    "|-------------------------------------------------|------------------|-------------------|------------------|----------------|-------------------|\n",
    "| Pre-partitioning w/initial procedures (all chr) |                  |                   |                  |               |                    |\n",
    "| Partitioning to only autosomes                  |                  |                   |                  |               |                    |\n",
    "| Remove subjects missing whole autosome data     |                  |                   |                  |               |                    |\n",
    "| Remove ancestral outliers                       |                  |                   |                  |               |                    |\n",
    "| Remove sujects with re-assigned ancestry        |                  |                   |                  |               |                    |\n",
    "| Add subjects re-assigned by STRUCTURE           |                  |                   |                  |              |                      |\n",
    "| Remove variants with missing call rate > 3%     |                  |                   |                  |               |                    |\n",
    "| Remove variants with HWE p < 0.0001             |                  |                   |                  |               |                    | "
   ]
  },
  {
   "cell_type": "markdown",
   "metadata": {},
   "source": [
    "#### ChrX statistics¶\n",
    "This table includes filtering statistics prior to merging with autosomes.\n",
    "\n",
    "| QC procedure                                    | Variants removed | Variants retained | Subjects removed | Subjects added | Subjects retained |\n",
    "|-------------------------------------------------|------------------|-------------------|------------------|---------------|-------------------|\n",
    "| Pre-partitioning w/initial procedures (all chr) |                  |                   |                  |               |                   |\n",
    "| Partitioning to only chrX                       |                  |                   |                  |               |                   |\n",
    "| Remove subjects missing whole autosome data     |                  |                   |                  |               |                   |\n",
    "| Remove ancestral outliers                       |                  |                   |                  |               |                   |\n",
    "| Remove sujects with re-assigned ancestry        |                  |                   |                  |               |                   |\n",
    "| Add subjects re-assigned by STRUCTURE           |                  |                   |                  |              |                     |\n",
    "| Remove variants with missing call rate > 3%     |                  |                   |                  |               |                   |\n",
    "| Remove variants with HWE p < 0.0001             |                  |                   |                  |               |                   |"
   ]
  },
  {
   "cell_type": "markdown",
   "metadata": {},
   "source": [
    "### Merged autosome and chrX statistics\n",
    "\n",
    "| QC procedure                                            | Variants removed | Variants retained | Subjects removed | Subjects added | Subjects retained |\n",
    "|---------------------------------------------------------|------------------|-------------------|------------------|----------------------|-------------------|\n",
    "| Merge autosomes and chrX                                |                  |                   |                  |                      |                   |\n",
    "| Remove subjects with IBD > 0.4, IBS > 0.9, KING > 0.177 |                  |                   |                  |                      |                   |\n",
    "| Remove subjects with missing call rate > 3%             |                  |                   |                  |                      |                   |\n",
    "| Sex discordance filter                                  |                  |                   |                  |                      |                   |\n",
    "| Excessive homozygosity filter                           |                  |                   |                  |                      |                   |\n",
    "| Duplicate variant ID filter after 1000G renaming        |                  |                   |                  |                      |                   |"
   ]
  },
  {
   "cell_type": "code",
   "execution_count": null,
   "metadata": {
    "collapsed": true
   },
   "outputs": [],
   "source": []
  }
 ],
 "metadata": {
  "kernelspec": {
   "display_name": "R",
   "language": "R",
   "name": "ir"
  },
  "language_info": {
   "codemirror_mode": "r",
   "file_extension": ".r",
   "mimetype": "text/x-r-source",
   "name": "R",
   "pygments_lexer": "r",
   "version": "3.4.2"
  },
  "toc": {
   "nav_menu": {},
   "number_sections": true,
   "sideBar": true,
   "skip_h1_title": false,
   "toc_cell": false,
   "toc_position": {},
   "toc_section_display": "block",
   "toc_window_display": false
  }
 },
 "nbformat": 4,
 "nbformat_minor": 2
}
