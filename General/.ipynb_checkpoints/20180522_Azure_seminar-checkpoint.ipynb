{
 "cells": [
  {
   "cell_type": "markdown",
   "metadata": {},
   "source": [
    "# Azure training \n",
    "* www.microsoftazure.com\n",
    "* W9I6YGHE3JRQEJ2DYJ\n",
    "\n",
    "* IT work made easy (they really emphasize this.)\n",
    "\n",
    "* wealth of options available to you\n",
    "\n",
    "* 500 hours of training with my membership and 90 days\n",
    "    - https://portal.azure.com/#@jessemarksoutlook.onmicrosoft.com/dashboard/private/e1115ca7-a549-49e5-bac5-1176a9bd9010\n",
    "* azure4research.com\n",
    "* slides available at the end\n",
    "* literally just money\n",
    "    - money is the only thing that keeps you from getting things done\n",
    "    - before it was other things like compliancy and other things.\n",
    "    \n",
    "    \n",
    "* three ways to get data up\n",
    "    - Fast Data Transfer Tool (for big files)\n",
    "        - new tool\n",
    "    - AZ copy (command line tool) primary way\n",
    "        - multi-threaded\n",
    "        \n",
    "        \n",
    "* [internet2](https://www.internet2.edu/about-us/) [and here](https://en.wikipedia.org/wiki/Internet2)\n",
    "    - very high bandwidth for research that connects campus to Azure\n",
    "* Microsoft investing big into data security / trust. (3 backups for data)\n",
    "* aka.ms/learncloud has labs with sample data\n",
    "    - [azure portal](portal.azure.com)\n",
    "    - jesse.marks@outlook.com\n",
    "    \n",
    "* with the virtual pass I have $500 to use as I like (note that they told us to use non-work email)\n",
    "    - https://www.microsoftazurepass.com/Redeemed\n",
    "    \n",
    "* [Getting started](https://docs.microsoft.com/en-us/azure/)"
   ]
  },
  {
   "cell_type": "markdown",
   "metadata": {},
   "source": [
    "## Creating an Account"
   ]
  },
  {
   "cell_type": "markdown",
   "metadata": {},
   "source": [
    "* https://azure.microsoft.com/en-us/free/search/?&OCID=AID631184_SEM_G4ikmCuW&lnkd=Google_Azure_Brand&gclid=EAIaIQobChMInpLZxPiZ2wIVk1uGCh1KKQf0EAAYASAAEgIg2PD_BwE\n",
    "\n",
    "* creating a free account gets you 12 months and $200 of service for free to try out Azure (in first 30 days)\n",
    "* "
   ]
  },
  {
   "cell_type": "markdown",
   "metadata": {},
   "source": [
    "## Azure Resource Manager\n",
    "* You want to deploy, manage, and monitor your resources as a group\n",
    "* Resource Manager provides security, auditing, and **tagging** features to help you manage your resources after deployment."
   ]
  },
  {
   "cell_type": "markdown",
   "metadata": {},
   "source": [
    "Azure for research\n",
    "https://www.microsoft.com/en-us/research/academic-program/microsoft-azure-for-research/"
   ]
  },
  {
   "cell_type": "markdown",
   "metadata": {},
   "source": [
    "## Fast Data Transfer\n",
    "* [fast data transfer tool](https://www.microsoft.com/en-us/garage/profiles/fast-data-transfer/)\n",
    "* internet2?\n",
    "* Fast data transfer\n",
    "* up to 4 terabytes per hour from a single client machine.\n",
    "*  It moves data from your premises to Blob Storage, to a clustered file system, or direct to an Azure VM. It can also move data between Azure regions."
   ]
  },
  {
   "cell_type": "markdown",
   "metadata": {},
   "source": [
    "## Features"
   ]
  },
  {
   "cell_type": "markdown",
   "metadata": {},
   "source": [
    "* data is encrypted by default\n",
    "* Fast Data Transfer Tool\n",
    "    - Microsoft Garage\n",
    "* can change VM by rebooting\n",
    "* Fast Data Transfer Tool\n",
    "    - open-source (helps push data very very quickly) no cost\n",
    "    "
   ]
  },
  {
   "cell_type": "markdown",
   "metadata": {},
   "source": [
    "## Data Science\n",
    "All of the IT work is done for you with the Virtual Machines\n",
    "* tools deployed automatically!\n",
    "* resource groups great for grouping resources\n",
    "\n",
    "* GPU N-series (they have 3 generations)\n",
    "    - not every series is in every region\n",
    "* East US has everything but East US2 may not have everything\n",
    "* very low latency between data centers\n",
    "* data is encypryted by default"
   ]
  },
  {
   "cell_type": "markdown",
   "metadata": {},
   "source": [
    "### Cost?\n",
    "* GPU nodes vs CPU nodes\n",
    "    - we will not necessarily need gpu for our stuff\n",
    "\n",
    "* We can rent workstation, (don't need running all of the time.) Turn on and turn off.\n",
    "* operation expenses vs capital expenses.\n",
    "* pricing calculator (azure)\n",
    "* pay as you go vs reserved \n",
    "    - can trade up when do the reserve (sign up for another 3 year reservation)\n",
    "    \n",
    "* can return reservation for 12%\n",
    "* does AWS have reservations?\n",
    "\n",
    "* no education discount, but other features like internet2\n"
   ]
  },
  {
   "cell_type": "markdown",
   "metadata": {},
   "source": [
    "# Introduction to Azure & Portal Tour\n",
    "* Tone of Microsoft has changed in the last few years from proprietary to more open-source\n",
    "    - public cloud\n",
    "* 1.6 million miles of fiber\n",
    "* 50 regions\n",
    "* Democratizing AI\n",
    "    - take it from the ivory towers and make it accessible for all.\n",
    "    - We’re building the world’s most powerful AI supercomputer and making it available to anyone, via the cloud, to enable all to harness its power and tackle AI challenges, large and small.\n",
    "    \n",
    "* IT work made easy (they really emphasize this.)"
   ]
  },
  {
   "cell_type": "markdown",
   "metadata": {},
   "source": [
    "# Storage and Cross Platform Tools\n",
    "* azure storage is the first step you take\n",
    "* blobs ( have limitations)\n",
    "    - data lakes are the answer to these limitations\n",
    "    \n",
    "* Block Blobs (stores three copies of data locally)\n",
    "    - $0.002/GB per month\n",
    "    \n",
    "* Azure storage explorer\n",
    "    - getting data up to the blob\n"
   ]
  },
  {
   "cell_type": "markdown",
   "metadata": {},
   "source": [
    "# Azure Machine Learning\n",
    "* [AML](https://studio.azureml.net/)\n",
    "* Didn't seem like we didn't need the services. Felt like more useful for students learning machine learning\n",
    "* A visualization tool\n",
    "* consider whether there’s a clear business case for using them\n",
    "* expanding ML to Deep Learning (tensor flow)\n",
    "    - deep learning does not have the visualization like the traditional ML right now"
   ]
  },
  {
   "cell_type": "markdown",
   "metadata": {},
   "source": [
    "## Azure notebooks (jupyter)\n",
    "* just a gateway to all the machine learning tools"
   ]
  },
  {
   "cell_type": "markdown",
   "metadata": {},
   "source": [
    "# Containers in Azure (running Docker, Kubernetes)\n",
    "* hot for vm\n",
    "* most popular is kubernetes service"
   ]
  },
  {
   "cell_type": "markdown",
   "metadata": {},
   "source": [
    "## Azure Container Service\n",
    "* \n",
    "* [Azure Kubernetes Service (AKS)](https://azure.microsoft.com/en-us/services/container-service/?&OCID=AID631184_SEM_jYmSn7zU&lnkd=Google_Azure_Brand&gclid=CjwKCAjw_47YBRBxEiwAYuKdw13TeiVz8nXVym5dmd9L6_2OdYlAJc77TPbt7o183wj4Uc6xfv_UthoCCBEQAvD_BwE\n",
    "\n",
    "* Tagging resources\n",
    " - key value pairs\n",
    "* dockerhub \n",
    "    - repos that have containers\n",
    "* load container with yaml file"
   ]
  },
  {
   "cell_type": "markdown",
   "metadata": {},
   "source": [
    "# Handling Big-Data Workloads with Azure Data Lake\n",
    "https://azure.microsoft.com/en-us/services/data-lake-analytics/?&OCID=AID631184_SEM_xjCRVy91&lnkd=Google_Azure_Brand&gclid=CjwKCAjw_47YBRBxEiwAYuKdw2UPZzyQ9AxBLZ1YJuAMfrvbG8D02xNMAfmMu1-dQdjMNf9Tqr8QJhoChywQAvD_BwE"
   ]
  },
  {
   "cell_type": "markdown",
   "metadata": {},
   "source": [
    "* blob cannot handle big big data\n",
    "* aggregated data storage with data lake\n",
    "* has better through-put than blob\n",
    "* first step is to put data in (the data lake)\n",
    "* highly distributed\n",
    "* azure automation\n",
    "* azure logic apps ( helps for running apps automatically)"
   ]
  },
  {
   "cell_type": "markdown",
   "metadata": {},
   "source": [
    "## Logig App\n",
    "* if this then that\n",
    "* can alter parameters so that it will look for data every 3 minutes or so"
   ]
  },
  {
   "cell_type": "markdown",
   "metadata": {},
   "source": [
    "# Big Data Analytics with Apache Spark for Azure HDInsight\n",
    "* azure cluster templates \n",
    "    - look on github\n",
    "    "
   ]
  },
  {
   "cell_type": "markdown",
   "metadata": {},
   "source": [
    "# Cognitive Services and Logic Apps - Sentiment Analysis from Twitter"
   ]
  },
  {
   "cell_type": "markdown",
   "metadata": {},
   "source": [
    "* real-time translational tools\n",
    "* image recognition technology (cognitive services)\n",
    "    - can train model with existing data (images) and then it will be able to parse data and pull out the relevant images"
   ]
  },
  {
   "cell_type": "markdown",
   "metadata": {},
   "source": [
    "# Summary, Questions & Wrap-up"
   ]
  },
  {
   "cell_type": "code",
   "execution_count": null,
   "metadata": {},
   "outputs": [],
   "source": []
  }
 ],
 "metadata": {
  "kernelspec": {
   "display_name": "Python 3",
   "language": "python",
   "name": "python3"
  },
  "language_info": {
   "codemirror_mode": {
    "name": "ipython",
    "version": 3
   },
   "file_extension": ".py",
   "mimetype": "text/x-python",
   "name": "python",
   "nbconvert_exporter": "python",
   "pygments_lexer": "ipython3",
   "version": "3.6.4"
  },
  "toc": {
   "nav_menu": {},
   "number_sections": true,
   "sideBar": true,
   "skip_h1_title": false,
   "toc_cell": false,
   "toc_position": {
    "height": "724px",
    "left": "0px",
    "right": "1282.73px",
    "top": "111px",
    "width": "245px"
   },
   "toc_section_display": "block",
   "toc_window_display": true
  }
 },
 "nbformat": 4,
 "nbformat_minor": 2
}
