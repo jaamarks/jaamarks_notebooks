{
 "cells": [
  {
   "cell_type": "code",
   "execution_count": 3,
   "metadata": {},
   "outputs": [],
   "source": [
    "import pandas as pd\n",
    "\n",
    "url = \"https://archive.ics.uci.edu/ml/machine-learning-databases/autos/imports-85.data\"\n",
    "df = pd.read_csv(url, header = None)"
   ]
  },
  {
   "cell_type": "code",
   "execution_count": 11,
   "metadata": {},
   "outputs": [
    {
     "name": "stdout",
     "output_type": "stream",
     "text": [
      "<class 'pandas.core.frame.DataFrame'>\n",
      "RangeIndex: 205 entries, 0 to 204\n",
      "Data columns (total 26 columns):\n",
      "0     205 non-null int64\n",
      "1     205 non-null object\n",
      "2     205 non-null object\n",
      "3     205 non-null object\n",
      "4     205 non-null object\n",
      "5     205 non-null object\n",
      "6     205 non-null object\n",
      "7     205 non-null object\n",
      "8     205 non-null object\n",
      "9     205 non-null float64\n",
      "10    205 non-null float64\n",
      "11    205 non-null float64\n",
      "12    205 non-null float64\n",
      "13    205 non-null int64\n",
      "14    205 non-null object\n",
      "15    205 non-null object\n",
      "16    205 non-null int64\n",
      "17    205 non-null object\n",
      "18    205 non-null object\n",
      "19    205 non-null object\n",
      "20    205 non-null float64\n",
      "21    205 non-null object\n",
      "22    205 non-null object\n",
      "23    205 non-null int64\n",
      "24    205 non-null int64\n",
      "25    205 non-null object\n",
      "dtypes: float64(5), int64(5), object(16)\n",
      "memory usage: 41.7+ KB\n"
     ]
    }
   ],
   "source": [
    "df.head(5)\n",
    "df.tail(5)\n",
    "df.describe(include=\"all\")\n",
    "df.info()"
   ]
  }
 ],
 "metadata": {
  "kernelspec": {
   "display_name": "Python 3",
   "language": "python",
   "name": "python3"
  },
  "language_info": {
   "codemirror_mode": {
    "name": "ipython",
    "version": 3
   },
   "file_extension": ".py",
   "mimetype": "text/x-python",
   "name": "python",
   "nbconvert_exporter": "python",
   "pygments_lexer": "ipython3",
   "version": "3.6.4"
  },
  "toc": {
   "nav_menu": {},
   "number_sections": true,
   "sideBar": true,
   "skip_h1_title": false,
   "toc_cell": false,
   "toc_position": {},
   "toc_section_display": "block",
   "toc_window_display": false
  }
 },
 "nbformat": 4,
 "nbformat_minor": 2
}
