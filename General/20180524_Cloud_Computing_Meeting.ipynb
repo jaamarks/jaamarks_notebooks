{
 "cells": [
  {
   "cell_type": "markdown",
   "metadata": {},
   "source": [
    "# Meeting Agenda (AWS)"
   ]
  },
  {
   "cell_type": "markdown",
   "metadata": {},
   "source": [
    "## Azure\n",
    "* free 1.5 years \n",
    "* 5Tb per funded PI\n",
    "\n"
   ]
  },
  {
   "cell_type": "code",
   "execution_count": null,
   "metadata": {},
   "outputs": [],
   "source": [
    "#!/bin/sh\n",
    "\n",
    "ancestry=ea\n",
    "for ethnicity in ea; do\n",
    "\n",
    "    #for (( chr=1; chr<24; chr++ )); do\n",
    "    #for chr in {5,6,11};do\n",
    "    for chr in 11; do\n",
    "        for chunk in $(grep -P \"^$chr\\s+\" /share/nas04/jmarks/gwas/copdgene2/association_tests/0011/failed_chunks | perl -lane 'print $F[1];'); do\n",
    "            prefix=/share/nas03/bioinformatics_group/data/studies/copdgene/imputed/v3/imputations/$ethnicity/chr$chr/copdgene.$ethnicity.1000G_p3.chr$chr.$chunk\n",
    "            my_dir=/share/nas04/jmarks/gwas/copdgene2/association_tests/0011/$ancestry/copdgene.$ethnicity.1000G_p3.chr$chr.$chunk\n",
    "\n",
    "            # note: there was a --remove parameter that I excluded\n",
    "            /share/nas03/bioinformatics_group/software/scripts/qsub_job.sh \\\n",
    "                --job_name copdgene_${ethnicity}_${chr}_${chunk} \\\n",
    "                --script_prefix $prefix.convert \\\n",
    "                --mem 30 \\\n",
    "                --priority 0 \\\n",
    "                --program /share/nas03/bioinformatics_group/software/perl/convert_impute2_files_v7.pl \\\n",
    "                --gen $prefix.gen.gz \\\n",
    "                --sample /share/nas03/bioinformatics_group/data/studies/copdgene/imputed/v1/prephasing/$ethnicity/phased_genotypes/copdgene.$ethnicity.for_imputation.chr$chr.phased.sample.gz \\\n",
    "                --gen_info $prefix.gen_info \\\n",
    "                --out $my_dir \\\n",
    "                --generate_mach_mldose_file \\\n",
    "                --generate_mach_mlinfo_file \\\n",
    "                --generate_legend_file \\\n",
    "                --variant_type all\n",
    "        done\n",
    "\n",
    "\n",
    "\n",
    "    done\n",
    "done\n",
    "\n",
    "\n",
    "\n",
    "/share/nas03/bioinformatics_group/software/impute2\\\n",
    "-use_prephased_g\\ \n",
    "-known_haps_g /share/nas03/bioinformatics_group/data/studies/copdgene/imputed/v1/prephasing/ea/phased_genotypes/copdgene.ea.for_imputation.chr11.phased.haps\n",
    ".gz \\\n",
    "-h /share/nas03/bioinformatics_group/data/ref_panels/1000G/2014.10/1000GP_Phase3_chr11.hap.gz\\\n",
    "-l /share/nas03/bioinformatics_group/data/ref_panels/1000G/2014.10/1000GP_Phase3_chr11.legend.gz\\\n",
    "-m /share/nas03/bioinformatics_group/common/genetic_maps/b37/genetic_map_chr11_combined_b37.txt \\\n",
    "-o /share/nas04/jmarks/gwas/copdgene2/association_tests/0011/ea/copdgene.ea.1000G_p3.chr11.20.gen \\\n",
    "-k_hap 198 \\\n",
    "-int 40061395 42061394 \\\n",
    "-buffer 1000 \\\n",
    "-allow_large_regions\\\n",
    "-o_gz\n",
    "\n",
    "\n",
    "/share/nas03/bioinformatics_group/software/impute2 -use_prephased_g -known_haps_g /share/nas03/bioinformatics_group/data/studies/copdgene/imputed/v1/prephasing/ea/phased_genotypes/copdgene.ea.for_imputation.chr11.phased.haps.gz -h /share/nas03/bioinformatics_group/data/ref_panels/1000G/2014.10/1000GP_Phase3_chr11.hap.gz -l /share/nas03/bioinformatics_group/data/ref_panels/1000G/2014.10/1000GP_Phase3_chr11.legend.gz -m /share/nas03/bioinformatics_group/common/genetic_maps/b37/genetic_map_chr11_combined_b37.txt -o /share/nas04/jmarks/gwas/copdgene2/association_tests/0011/ea/copdgene.ea.1000G_p3.chr11.20.gen -k_hap 198 -int 40061395 42061394 -buffer 1000 -allow_large_regions -o_gz\n",
    "\n",
    "\n",
    "\n",
    "            /share/nas03/bioinformatics_group/software/scripts/qsub_job.sh \\\n",
    "                --job_name eachunk40_copdgene2 \\\n",
    "                --script_prefix /share/nas04/jmarks/gwas/copdgene2/association_tests/0011/convert \\\n",
    "                --mem 30 \\\n",
    "                --priority 0 \\\n",
    "                --program bash /share/nas04/jmarks/gwas/copdgene2/association_tests/0011/impute.sh "
   ]
  },
  {
   "cell_type": "code",
   "execution_count": null,
   "metadata": {},
   "outputs": [],
   "source": [
    "/share/nas03/bioinformatics_group/software/scripts/qsub_job.sh \\\n",
    "    --job_name compat.check \\\n",
    "    --script_prefix /share/nas04/jmarks/gwas/copdgene2/association_tests/0011/convert \\\n",
    "    --mem 30 \\\n",
    "    --priority 0 \\\n",
    "    --program bash /share/nas04/jmarks/gwas/copdgene2/association_tests/0011/compatible.sh \n",
    "\n",
    "cat compatible.sh\n",
    "#!/bin/bash\n",
    "myPath=/share/nas03/bioinformatics_group/data/studies/copdgene/imputed/v3/imputations/ea/chr11\n",
    "workingDir=/share/nas04/jmarks/gwas/copdgene2/association_tests/0011\n",
    "touch incompatible.chunks\n",
    "for chunk in {0..63};do\n",
    "    one=$(zcat $myPath/copdgene.ea.1000G_p3.chr11.$chunk.gen_info.gz | wc -l | bc)\n",
    "    two=$(zcat $myPath/copdgene.ea.1000G_p3.chr11.$chunk.gen.gz | wc -l | bc)\n",
    "    three=`expr $one - $two`\n",
    "    if [ $three != 1 ];then\n",
    "        echo $chunk >> $workingDir/incompatible.chunks\n",
    "    fi\n",
    "done"
   ]
  }
 ],
 "metadata": {
  "kernelspec": {
   "display_name": "R",
   "language": "R",
   "name": "ir"
  },
  "language_info": {
   "codemirror_mode": "r",
   "file_extension": ".r",
   "mimetype": "text/x-r-source",
   "name": "R",
   "pygments_lexer": "r",
   "version": "3.4.3"
  },
  "toc": {
   "nav_menu": {},
   "number_sections": true,
   "sideBar": true,
   "skip_h1_title": false,
   "toc_cell": false,
   "toc_position": {},
   "toc_section_display": "block",
   "toc_window_display": false
  }
 },
 "nbformat": 4,
 "nbformat_minor": 2
}
