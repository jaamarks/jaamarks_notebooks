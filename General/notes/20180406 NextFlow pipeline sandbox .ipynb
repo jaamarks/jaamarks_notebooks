{
 "cells": [
  {
   "cell_type": "markdown",
   "metadata": {},
   "source": [
    "# NextFlow pipeline sandbox\n",
    "__Author__: Jesse Marks\n",
    "\n",
    "This notebook will be dedicated toward learning the NextFlow pipeline. This pipeline is executed to perform a GWAS on Nicotine projects. The NextFlow pipeline has been tailored to expect output from IMPUTE2 that has been converted to mldose format.\n",
    "\n",
    "One important distinction between the heroin protocol and the nicotine one, is that the nicotine cohorts need to be analyzed using ProbABEL so that we can embed interactions for some of the analyses and run subsequent joint 2df meta-analyses."
   ]
  },
  {
   "cell_type": "markdown",
   "metadata": {},
   "source": [
    "## Unfamiliar concepts\n",
    "### NextFlow\n",
    "\n",
    "This is a framework that eases writing computational pipelines with complex data. Linux is the lingua franca of data science. Nextflow extends the approach of Linux by adding the ability to add new definitions and interactions between complex programming as well as high-level parallel computing. \n",
    "\n",
    "Essentially Nextflow pipeline script is a series of scripting language commands joined together. Nextflow allows you to write a computational pipeline by making it easier to join many different tasks together."
   ]
  },
  {
   "cell_type": "markdown",
   "metadata": {},
   "source": [
    "### ProbABEL\n",
    "\n",
    "This is a tool for GWAS analysis of imputed genetic data. These imputed data are probabilistic in nature. With imputed data, the genotypic status of the person is know with a much lower confidence than directly genotyped markers. The results of imputed data are that the unknowed genotype is given a probability between different possibilities. One could just accept the highest probability and treat it as an observed genotype. This is a biased approach, however. It does not take into account the uncertainty about the true genotypic status. The ProbABEL package was designed to perform an association analysis by means of regression of the outcome of interest onto estimated genotypic probabilities. For our studies, we will be implementing a linear regression. \n",
    "\n",
    "\n",
    "#### Input files\n",
    "Three files are needed as input:\n",
    "1. snp info file (MLINFO file of MaCH)\n",
    "2. genome- or chromosome-wide predictor information (e.g. the MLDOSE file of MaCH)\n",
    "3. file containing phenotype of interest and covariates.\n",
    "\n",
    "\n",
    "* The program to run a linear regression is called `palinear`\n",
    "* The `--interaction` option allows you to include interaction between SNPs and any covariate. Such as age * SNP\n",
    "    * I believe this is why we are wanting to use probABEL instead of rvtest for the GWAS.\n",
    "\n",
    "See [manual](http://www.genabel.org/sites/default/files/pdfs/ProbABEL_manual.pdf) for more information."
   ]
  },
  {
   "cell_type": "code",
   "execution_count": null,
   "metadata": {
    "collapsed": true
   },
   "outputs": [],
   "source": []
  },
  {
   "cell_type": "markdown",
   "metadata": {},
   "source": [
    "### Joint 2df meta-analyses"
   ]
  },
  {
   "cell_type": "code",
   "execution_count": null,
   "metadata": {
    "collapsed": true
   },
   "outputs": [],
   "source": []
  },
  {
   "cell_type": "markdown",
   "metadata": {},
   "source": [
    "### Genomics meta-analysis"
   ]
  },
  {
   "cell_type": "code",
   "execution_count": null,
   "metadata": {
    "collapsed": true
   },
   "outputs": [],
   "source": []
  },
  {
   "cell_type": "markdown",
   "metadata": {},
   "source": [
    "## SGE\n",
    "Sun Grid Engine is a cluster environment. This is necessary scheduling system when limited computational resources are shared by many."
   ]
  },
  {
   "cell_type": "code",
   "execution_count": null,
   "metadata": {
    "collapsed": true
   },
   "outputs": [],
   "source": []
  },
  {
   "cell_type": "markdown",
   "metadata": {},
   "source": [
    "## Pipeline analysis\n",
    "\n",
    "John Guo pointed me towards an example on MIDAS at:\n",
    "\n",
    "`/share/nas04/bioinformatics_group/data/studies/jhs_aric_aa/imputed/v3/association_tests/001`\n",
    "\n",
    "I copied the contents over to my local directory on MIDAS at:\n",
    "\n",
    "`/home/jmarks/nextflow/001`\n",
    "\n",
    "### Contents of pipeline\n",
    "There are three files named:\n",
    "\n",
    "__` _methods.cogend.imputed.v3.association_tests.006.sh  nextflow.config  _pipeline.association.out_stats_files.run.sh`__\n",
    "\n",
    "and one directory named:\n",
    "\n",
    "__`aa`__.\n",
    "\n",
    "#### _methods.cogend.imputed.v3.association_tests.006.sh\n",
    "The code of this methods file is below. We will go through this code to get an understanding of what is going on. We will annotate as much as we can."
   ]
  },
  {
   "cell_type": "code",
   "execution_count": null,
   "metadata": {
    "collapsed": true
   },
   "outputs": [],
   "source": [
    "ASSOCIATION_ROOT=/share/nas04/bioinformatics_group/data/studies/jhs_aric_aa/imputed/v3/association_tests/001\n",
    "COHORT=jhs_aric_aa\n",
    "MODEL=CAT_FTND~SNP+AGE+SEX+EVs\n",
    "\n",
    "for ethnicity in aa; do\n",
    "        for (( chr=1; chr<24; chr++ )); do\n",
    "        mkdir -p $ASSOCIATION_ROOT/$ethnicity/processing/chr$chr\n",
    "        done\n",
    "        mkdir $ASSOCIATION_ROOT/$ethnicity/final\n",
    "done\n",
    "### START Filter ###\n",
    "\n",
    "# add in chr id\n",
    "for ethnicity in aa; do\n",
    "    for (( chr=1; chr<24; chr++ )); do\n",
    "        inFile=$ASSOCIATION_ROOT/$ethnicity/$COHORT.$ethnicity.1000G_p3.chr$chr.$MODEL.stats\n",
    "        echo Processing $inFile\n",
    "        outFile=$ASSOCIATION_ROOT/$ethnicity/processing/chr$chr/$COHORT.$ethnicity.1000G_p3.chr$chr.$MODEL.stats\n",
    "        echo -e \"chr\\tname\\tposition\\tA1\\tA2\\tFreq1\\tMAF\\tQuality\\tRsq\\tn\\tMean_predictor_allele\\tbeta_SNP_add\\tsebeta_SNP_add\\tchi2_SNP\\tchi\\tp\\tor_95_percent_ci\" > $outFile\n",
    "        tail -n +1 $inFile |\n",
    "          perl -slne '{ print join(\"\\t\", \"$chr\", \"$_\"); }' -- -chr=\"$chr\" >> $outFile\n",
    "    done\n",
    "done\n",
    "\n",
    "# MAF > 0.01 in AFR (AA) or EUR (EA)\n",
    "for ethnicity in aa;do\n",
    "  if [ $ethnicity == \"aa\" ]; then\n",
    "    group=afr\n",
    "  else\n",
    "    group=eur\n",
    "  fi\n",
    "    for (( chr=1; chr<24; chr++ )); do\n",
    "      if [ $chr == \"23\" ]; then\n",
    "        idList=/share/nas03/bioinformatics_group/data/ref_panels/1000G/2014.10/1000GP_Phase3_chrX_NONPAR.maf_lte_0.01_$group\n",
    "      else\n",
    "        idList=/share/nas03/bioinformatics_group/data/ref_panels/1000G/2014.10/1000GP_Phase3_chr$chr.maf_lte_0.01_$group\n",
    "      fi\n",
    "      /share/nas03/bioinformatics_group/software/scripts/qsub_job.sh \\\n",
    "        --job_name ${ethnicity}_${chr} \\\n",
    "        --script_prefix $ASSOCIATION_ROOT/$ethnicity/processing/chr$chr/$COHORT.$ethnicity.1000G_p3.chr$chr.$MODEL.maf_gt_0.01_$group \\\n",
    "        --mem 3.8 \\\n",
    "        --priority 0 \\\n",
    "        --program /share/nas03/bioinformatics_group/software/perl/extract_rows.pl \\\n",
    "        --source $ASSOCIATION_ROOT/$ethnicity/processing/chr$chr/$COHORT.$ethnicity.1000G_p3.chr$chr.$MODEL.stats \\\n",
    "        --id_list $idList \\\n",
    "        --out $ASSOCIATION_ROOT/$ethnicity/processing/chr$chr/$COHORT.$ethnicity.1000G_p3.chr$chr.$MODEL.maf_gt_0.01_$group \\\n",
    "        --header 0 \\\n",
    "        --id_column 1 \\\n",
    "        --remove\n",
    "    done\n",
    "done\n",
    "\n",
    "python /home/jyguo/monitor.py\n",
    "\n",
    "for ethnicity in aa; do\n",
    "  mv $ASSOCIATION_ROOT/$ethnicity/processing/chr*/*.maf_gt_0.01_??? \\\n",
    "   $ASSOCIATION_ROOT/$ethnicity/final\n",
    "done\n",
    "\n",
    "# Filter out variants with MAF <= 0.01 in COGEND\n",
    "for ethnicity in aa; do\n",
    "    if [ $ethnicity == \"aa\" ]; then\n",
    "        group=afr\n",
    "    else\n",
    "        group=eur\n",
    "    fi\n",
    "    for (( chr=1; chr<24; chr++ )); do\n",
    "        inFile=$ASSOCIATION_ROOT/$ethnicity/final/$COHORT.$ethnicity.1000G_p3.chr$chr.$MODEL.maf_gt_0.01_$group\n",
    "        outFile=$ASSOCIATION_ROOT/$ethnicity/final/$COHORT.$ethnicity.1000G_p3.chr$chr.$MODEL.maf_gt_0.01_${group}+$COHORT\n",
    "        echo Processing $inFile\n",
    "        head -n 1 $inFile > $outFile\n",
    "        tail -n +2 $inFile |\n",
    "            perl -lne '/^(?:\\S+\\s+){6}(\\S+)/;\n",
    "                        if ( $1 > 0.01) {\n",
    "                            print;\n",
    "                        }' >> $outFile\n",
    "    done\n",
    "done\n",
    "\n",
    "\n",
    "### END Filter ###\n",
    "\n",
    "### START Generate plots ###\n",
    "for ethnicity in aa; do\n",
    "  if [ $ethnicity == \"aa\" ]; then\n",
    "    group=afr\n",
    "  else\n",
    "    group=eur\n",
    "  fi\n",
    "  for ext in $group ${group}+$COHORT; do\n",
    "        outFile=$ASSOCIATION_ROOT/$ethnicity/processing/$COHORT.$ethnicity.1000G_p3.$MODEL.maf_gt_0.01_$ext.table\n",
    "echo -e \"VARIANT_ID\\tCHR\\tPOSITION\\tP\\tTYPE\" > $outFile\n",
    "for (( chr=1; chr<24; chr++ )); do\n",
    "    inFile=$ASSOCIATION_ROOT/$ethnicity/final/$COHORT.$ethnicity.1000G_p3.chr$chr.$MODEL.maf_gt_0.01_$ext\n",
    "    echo Processing $inFile\n",
    "    tail -n +2 $inFile |\n",
    "      perl -lne '/^(\\S+)\\s+(\\S+)\\s+(\\S+)\\s+(\\S+)\\s+(\\S+)(?:\\s+\\S+){10}\\s+(\\S+)/;\n",
    "                 if (($4 eq \"A\" || $4 eq \"C\" || $4 eq \"G\" || $4 eq \"T\") && ($5 eq \"A\" || $5 eq \"C\" || $5 eq \"G\" || $5 eq \"T\")) {\n",
    "                   print join(\"\\t\",$2,$1,$3,$6,\"snp\");\n",
    "                 } else {\n",
    "                   print join(\"\\t\",$2,$1,$3,$6,\"indel\");\n",
    "                 }' >> $outFile\n",
    "done\n",
    "done\n",
    "done\n",
    "\n",
    "for ethnicity in aa; do\n",
    "  if [ $ethnicity == \"aa\" ]; then\n",
    "    group=afr\n",
    "  else\n",
    "    group=eur\n",
    "  fi\n",
    "  for ext in $group ${group}+$COHORT; do\n",
    "/share/nas03/bioinformatics_group/software/scripts/qsub_job.sh \\\n",
    "  --job_name gwas_plots \\\n",
    "  --script_prefix $ASSOCIATION_ROOT/$ethnicity/processing/$COHORT.$ethnicity.1000G_p3.$MODEL.maf_gt_0.01_$ext.plots \\\n",
    "  --mem 15 \\\n",
    "  --priority 0 \\\n",
    "  --program /share/nas03/bioinformatics_group/software/R/dev/generate_gwas_plots.v6.R \\\n",
    "  --in $ASSOCIATION_ROOT/$ethnicity/processing/$COHORT.$ethnicity.1000G_p3.$MODEL.maf_gt_0.01_$ext.table \\\n",
    "  --in_chromosomes autosomal_nonPAR \\\n",
    "  --in_header \\\n",
    "  --out $ASSOCIATION_ROOT/$ethnicity/final/$COHORT.$ethnicity.1000G_p3.$MODEL.maf_gt_0.01_$ext \\\n",
    "  --col_id VARIANT_ID \\\n",
    "  --col_chromosome CHR \\\n",
    "  --col_position POSITION \\\n",
    "  --col_p P \\\n",
    "  --col_variant_type TYPE \\\n",
    "  --generate_snp_indel_manhattan_plot \\\n",
    "  --manhattan_odd_chr_color red \\\n",
    "  --manhattan_even_chr_color blue \\\n",
    "  --manhattan_points_cex 1.5 \\\n",
    "  --generate_snp_indel_qq_plot \\\n",
    "  --qq_lines \\\n",
    "  --qq_points_bg black \\\n",
    "  --qq_lambda\n",
    "done\n",
    "done\n",
    "\n",
    "### END Generate plots ###\n",
    "\n",
    "\n",
    "### START Filter by p-value ###\n",
    "\n",
    "# MAF > 0.01 in AFR and EUR\n",
    "for ethnicity in aa; do\n",
    "  if [ $ethnicity == \"aa\" ]; then\n",
    "    group=afr\n",
    "  else\n",
    "    group=eur\n",
    "  fi\n",
    "  for ext in $group ${group}+$COHORT; do\n",
    "    outFile=$ASSOCIATION_ROOT/$ethnicity/processing/$COHORT.$ethnicity.1000G_p3.$MODEL.maf_gt_0.01_$ext.p_lte_0.001\n",
    "    head -n 1 $ASSOCIATION_ROOT/$ethnicity/final/$COHORT.$ethnicity.1000G_p3.chr1.$MODEL.maf_gt_0.01_$ext > \\\n",
    "      $outFile\n",
    "    for (( chr=1; chr<24; chr++ )); do\n",
    "      echo Processing ${ASSOCIATION_ROOT}/$ethnicity/final/$COHORT.$ethnicity.1000G_p3.chr$chr.$MODEL.maf_gt_0.01_$ext\n",
    "      tail -n +2 $ASSOCIATION_ROOT/$ethnicity/final/$COHORT.$ethnicity.1000G_p3.chr$chr.$MODEL.maf_gt_0.01_$ext |\n",
    "        perl -lane 'if ($F[15] <= 0.001) { print; }' >> \\\n",
    "        $outFile\n",
    "    done\n",
    "done\n",
    "done\n",
    "\n",
    "# Sort\n",
    "for (ethnicity in c(\"aa\")){\n",
    "        if (ethnicity == \"aa\") { group = \"afr\" } else if (ethnicity == \"ea\") { group = \"eur\" }\n",
    "        dat=read.table(paste0('/share/nas04/bioinformatics_group/data/studies/jhs_aric_aa/imputed/v3/association_tests/001/',ethnicity,'/processing/jhs_aric_aa.',ethnicity,'.1000G_p3.CAT_FTND~SNP+AGE+SEX+EVs.maf_gt_0.01_',group,'.p_lte_0.001'), header = TRUE)\n",
    "        dat = dat[order(dat$p),]\n",
    "        write.csv(dat, file = paste0('/share/nas04/bioinformatics_group/data/studies/jhs_aric_aa/imputed/v3/association_tests/001/',ethnicity,'/final/jhs_aric_aa.',ethnicity,'.1000G_p3.CAT_FTND~SNP+AGE+SEX+EVs.maf_gt_0.01_',group,'.p_lte_0.001.csv'), row.names = FALSE)\n",
    "        dat=read.table(paste0('/share/nas04/bioinformatics_group/data/studies/jhs_aric_aa/imputed/v3/association_tests/001/',ethnicity,'/processing/jhs_aric_aa.',ethnicity,'.1000G_p3.CAT_FTND~SNP+AGE+SEX+EVs.maf_gt_0.01_',group,'+jhs_aric_aa.p_lte_0.001'), header = TRUE)\n",
    "        dat = dat[order(dat$p),]\n",
    "        write.csv(dat, file = paste0('/share/nas04/bioinformatics_group/data/studies/jhs_aric_aa/imputed/v3/association_tests/001/',ethnicity,'/final/jhs_aric_aa.',ethnicity,'.1000G_p3.CAT_FTND~SNP+AGE+SEX+EVs.maf_gt_0.01_',group,'+jhs_aric_aa.p_lte_0.001.csv'), row.names = FALSE)\n",
    "}\n",
    "\n",
    "## END Filter by p-value ###"
   ]
  },
  {
   "cell_type": "markdown",
   "metadata": {},
   "source": [
    "#### nextflow.config\n",
    "The contents of nextflow.config are below. The config file is used to define which executor to use, ENV. variables, pipeline parameters, ect."
   ]
  },
  {
   "cell_type": "code",
   "execution_count": null,
   "metadata": {
    "collapsed": true
   },
   "outputs": [],
   "source": [
    "process.executor = 'sge' # definining the target execution system\n",
    "process.clusterOptions = '-S /bin/bash'"
   ]
  },
  {
   "cell_type": "markdown",
   "metadata": {},
   "source": [
    "#### _pipeline.association.out_stats_files.run.sh\n",
    "The contents of this bash script are below.\n",
    "\n",
    "__Notes__:\n",
    "\n",
    "* Need to organize my phenotype data similar to what is seen in\n",
    "\n",
    "`phenotypes/probabel/jhs_aric_aa.CAT_FTND.AGE.SEX.EVs.v1` "
   ]
  },
  {
   "cell_type": "code",
   "execution_count": null,
   "metadata": {
    "collapsed": true
   },
   "outputs": [],
   "source": [
    "#!/bin/sh\n",
    "\n",
    "for ethnicity in aa; do\n",
    "        working_dir=/share/nas04/bioinformatics_group/data/studies/jhs_aric_aa/imputed/v3/association_tests/001/$ethnicity\n",
    "        imputation_root=/share/nas04/bioinformatics_group/data/studies/jhs_aric_aa/imputed/v3/imputations/\n",
    "        phenotype_root=/share/nas04/bioinformatics_group/data/studies/jhs_aric_aa/phenotypes/probabel/\n",
    "\n",
    "        method=palinear\n",
    "\n",
    "        for (( chr=1; chr<24; chr++ )); do\n",
    "        out_file=jhs_aric_aa.$ethnicity.1000G_p3.chr$chr.CAT_FTND~SNP+AGE+SEX+EVs.stats\n",
    "            phenotype_file=jhs_aric_aa.CAT_FTND.AGE.SEX.EVs.v1\n",
    "\n",
    "#head phenotypes/probabel/jhs_aric_aa.CAT_FTND.AGE.SEX.EVs.v1\n",
    "\"\"\"\n",
    "IID     CAT_FTND        AGE     SEX     EV3     EV5     EV8\n",
    "PT-7X6C 1       68      1       0.0139  0.0166  0.0127\n",
    "PT-7ZI1 0       46      2       0.0003  0.0042  -0.0046\n",
    "PT-7ZHW 2       47      1       0.0045  -0.0002 0.0151\n",
    "\"\"\"\n",
    "            geno_prefix=jhs_aric_aa.$ethnicity.1000G_p3.chr\n",
    "\n",
    "            /share/nas03/bioinformatics_group/software/nextflow/nextflow-0.25.1-all \\\n",
    "            /share/nas03/bioinformatics_group/software/pipeline/_pipeline.association.out_stats_files.v0.1.nf \\\n",
    "                --final_chunks $imputation_root/chunks/final_chunks.chr$chr \\\n",
    "                --input_pheno $phenotype_root/$phenotype_file \\\n",
    "                --imputation_dir $imputation_root/$ethnicity/chr$chr \\\n",
    "                --example_mldose $imputation_root/$ethnicity/chr$chr/jhs_aric_aa.$ethnicity.1000G_p3.chr$chr.2.mach.mldose.gz \\\n",
    "                --geno_prefix $geno_prefix \\\n",
    "                --working_dirs $working_dir \\\n",
    "                --out $working_dir/$out_file \\\n",
    "                --method $method\n",
    "\n",
    "                rm -r $working_dir/../work\n",
    "        done\n",
    "done"
   ]
  },
  {
   "cell_type": "markdown",
   "metadata": {},
   "source": [
    "#### aa\n",
    "\n",
    "This directory contains another directory: `processing/chr1` that has 3 files:\n",
    "\n",
    "* jhs_aric_aa.aa.1000G_p3.chr1.CAT_FTND~SNP+AGE+SEX+EVs.maf_gt_0.01_afr.qsub.log\n",
    "* jhs_aric_aa.aa.1000G_p3.chr1.CAT_FTND~SNP+AGE+SEX+EVs.maf_gt_0.01_afr.qsub.sh\n",
    "* jhs_aric_aa.aa.1000G_p3.chr1.CAT_FTND~SNP+AGE+SEX+EVs.stats\n",
    "\n",
    "\n",
    "__Note__: I deleted the other `chr#` directories to save space."
   ]
  },
  {
   "cell_type": "code",
   "execution_count": null,
   "metadata": {
    "collapsed": true
   },
   "outputs": [],
   "source": []
  },
  {
   "cell_type": "markdown",
   "metadata": {},
   "source": [
    "## Converting from VCF to mldose"
   ]
  },
  {
   "cell_type": "code",
   "execution_count": null,
   "metadata": {
    "collapsed": true
   },
   "outputs": [],
   "source": []
  }
 ],
 "metadata": {
  "kernelspec": {
   "display_name": "R",
   "language": "R",
   "name": "ir"
  },
  "language_info": {
   "codemirror_mode": "r",
   "file_extension": ".r",
   "mimetype": "text/x-r-source",
   "name": "R",
   "pygments_lexer": "r",
   "version": "3.4.1"
  },
  "toc": {
   "nav_menu": {},
   "number_sections": true,
   "sideBar": true,
   "skip_h1_title": false,
   "toc_cell": false,
   "toc_position": {
    "height": "727px",
    "left": "0px",
    "right": "1315.28px",
    "top": "107px",
    "width": "212px"
   },
   "toc_section_display": "block",
   "toc_window_display": true
  }
 },
 "nbformat": 4,
 "nbformat_minor": 2
}
