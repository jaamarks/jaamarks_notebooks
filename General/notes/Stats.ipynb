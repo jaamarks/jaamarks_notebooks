{
 "cells": [
  {
   "cell_type": "markdown",
   "metadata": {},
   "source": [
    "# Notebook Dedicated to Statistics \n",
    "**Author**: Jesse Marks\n",
    "\n",
    "Most of this information has been derived from [The Nature of Statistics](http://www.mv.helsinki.fi/home/jmisotal/BoS.pdf). \n",
    "\n",
    "*Disclaimer*: This docment is intended for a personal use as a way to clarify and understand statisticical concepts better. Therfore, some of the content may be direct text from unreferenced sources. Most of the content I have tried explain or define the concepts in my own words and understanding."
   ]
  },
  {
   "cell_type": "markdown",
   "metadata": {},
   "source": [
    "## What is statistics?\n",
    "\n",
    "The science or methodology of gathering information and searching for patterns in data and drawing conclusions from these interpretations.\n",
    "\n",
    "Data: Statistics is anything that is even remotely involved in or having to do with data in the following ways.\n",
    "1) collection\n",
    "\n",
    "2) processing\n",
    "\n",
    "3) interpretation\n",
    "\n",
    "4) presentation\n"
   ]
  },
  {
   "cell_type": "markdown",
   "metadata": {},
   "source": [
    "##### Categorical Data\n",
    "This is data which is not numerical. It is qualitative data. **Examples** of such are: color of hair, mood, favorite movies, etc."
   ]
  },
  {
   "cell_type": "markdown",
   "metadata": {},
   "source": [
    "### Questions that statistics may be able to answer\n",
    "1) What question are be trying to solve\n",
    "\n",
    "2) What kind of data (numerical, categorical) do we need to collect\n",
    "\n",
    "3) How should the data be used in an a way such that information can be gleaned from it\n",
    "\n",
    "4) What steps need to be taken to prepare the data so that it can used\n",
    "\n",
    "5) How can we interpret what the data is saying and draw conclusions from it\n",
    "\n",
    "6) How certain can we be of the conclusions that we drew and how can we assess the outcome or phenomena represented by the data\n",
    "\n",
    "\n",
    "### Examples of where statistics is used\n",
    "\n",
    "* measure the effectiveness of a drug\n",
    "\n",
    "* determine if a gene is correlated with some phenotype\n",
    "\n",
    "* Determine if a method or style of teaching is perferred by students \n",
    "\n",
    "* evaluate how locations of items in a grocery store effect how frequently they are purchased"
   ]
  },
  {
   "cell_type": "code",
   "execution_count": null,
   "metadata": {
    "collapsed": true
   },
   "outputs": [],
   "source": []
  }
 ],
 "metadata": {
  "kernelspec": {
   "display_name": "R",
   "language": "R",
   "name": "ir"
  },
  "language_info": {
   "codemirror_mode": "r",
   "file_extension": ".r",
   "mimetype": "text/x-r-source",
   "name": "R",
   "pygments_lexer": "r",
   "version": "3.4.2"
  },
  "toc": {
   "nav_menu": {},
   "number_sections": true,
   "sideBar": true,
   "skip_h1_title": false,
   "toc_cell": false,
   "toc_position": {},
   "toc_section_display": "block",
   "toc_window_display": true
  }
 },
 "nbformat": 4,
 "nbformat_minor": 2
}
