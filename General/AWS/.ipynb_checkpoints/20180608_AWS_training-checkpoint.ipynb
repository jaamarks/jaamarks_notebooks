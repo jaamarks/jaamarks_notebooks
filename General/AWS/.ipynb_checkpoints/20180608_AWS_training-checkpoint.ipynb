{
 "cells": [
  {
   "cell_type": "markdown",
   "metadata": {},
   "source": [
    "# AWS Training\n",
    "* Define AWS Cloud and its basic global infrastructure\n",
    "* key services\n",
    "* basic AWS Cloud architectural principles\n",
    "* security aspects\n",
    "* billing\n",
    "* documentation \n",
    "* AWS Cloud value proposition \n",
    "* basic characteristics of deploying and operating in the AWS Cloud"
   ]
  },
  {
   "cell_type": "markdown",
   "metadata": {},
   "source": [
    "## AWS Cloud Concepts\n",
    "* intro to cloud"
   ]
  },
  {
   "cell_type": "markdown",
   "metadata": {},
   "source": [
    "**Cloud computing** is the on-demand delivery of IT resources and applications, via the internet, with pay-as-you-go pricing.\n",
    "\n",
    "Before cloud computing you would have to guess about theoretical peaks in computing. If you didn't meet the predictions or yo exceeded them that was not ideal.\n",
    "\n",
    "With cloud computing you don't have to deal with this guess work, real estate, cooling, etc.\n",
    "\n",
    "You can initiate what ever you want in seconds. Treat the resources as temporary and disposable. You can become more agile and efficient.\n",
    "\n",
    "**Agility**\n",
    "* speed\n",
    "    - Resources are just a click away so that you don't have to wait weeks for data to come etc.\n",
    "* experimentation\n",
    "    - operations are just code. spin up any size node for testing to see what works best\n",
    "* culture of innovation\n",
    "    - low cost low risk so can experiment more. This leads to more discovery about what works best.\n",
    "\n",
    "AWS has facilities all of the world. \n",
    "\n",
    "\n",
    "\n",
    "\n"
   ]
  },
  {
   "cell_type": "markdown",
   "metadata": {},
   "source": [
    "## Core Services\n",
    "* global infrastructure"
   ]
  },
  {
   "cell_type": "markdown",
   "metadata": {},
   "source": [
    "## Security\n",
    "* shared repsonsibility model"
   ]
  },
  {
   "cell_type": "markdown",
   "metadata": {},
   "source": [
    "## Architecting\n",
    "* intro to well-architected framework"
   ]
  },
  {
   "cell_type": "markdown",
   "metadata": {},
   "source": [
    "## pricing and support\n",
    "* fundamentals of pricing"
   ]
  },
  {
   "cell_type": "markdown",
   "metadata": {},
   "source": [
    "## Bonus \n",
    "* reinforce material"
   ]
  },
  {
   "cell_type": "code",
   "execution_count": null,
   "metadata": {},
   "outputs": [],
   "source": []
  }
 ],
 "metadata": {
  "kernelspec": {
   "display_name": "R",
   "language": "R",
   "name": "ir"
  },
  "language_info": {
   "codemirror_mode": "r",
   "file_extension": ".r",
   "mimetype": "text/x-r-source",
   "name": "R",
   "pygments_lexer": "r",
   "version": "3.4.3"
  },
  "toc": {
   "nav_menu": {},
   "number_sections": true,
   "sideBar": true,
   "skip_h1_title": false,
   "toc_cell": false,
   "toc_position": {},
   "toc_section_display": "block",
   "toc_window_display": false
  }
 },
 "nbformat": 4,
 "nbformat_minor": 2
}
