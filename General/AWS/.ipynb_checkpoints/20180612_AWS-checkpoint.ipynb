{
 "cells": [
  {
   "cell_type": "markdown",
   "metadata": {},
   "source": [
    "# AWS Training\n",
    "* Define AWS Cloud and its basic global infrastructure\n",
    "* key services\n",
    "* basic AWS Cloud architectural principles\n",
    "* security aspects\n",
    "* billing\n",
    "* documentation \n",
    "* AWS Cloud value proposition \n",
    "* basic characteristics of deploying and operating in the AWS Cloud"
   ]
  },
  {
   "cell_type": "markdown",
   "metadata": {},
   "source": [
    "[curriculum link](https://www.aws.training/transcript/curriculumplayer?transcriptId=DJunNo9xAUCUX3lqjQhosA2)"
   ]
  },
  {
   "cell_type": "markdown",
   "metadata": {},
   "source": [
    "## AWS Cloud Concepts\n",
    "* intro to cloud"
   ]
  },
  {
   "cell_type": "markdown",
   "metadata": {},
   "source": [
    "**Cloud computing** is the on-demand delivery of IT resources and applications, via the internet, with pay-as-you-go pricing.\n",
    "\n",
    "Before cloud computing you would have to guess about theoretical peaks in computing. If you didn't meet the predictions or yo exceeded them that was not ideal.\n",
    "\n",
    "With cloud computing you don't have to deal with this guess work, real estate, cooling, etc.\n",
    "\n",
    "You can initiate what ever you want in seconds. Treat the resources as temporary and disposable. You can become more agile and efficient.\n",
    "\n",
    "**Agility**\n",
    "* speed\n",
    "    - Resources are just a click away so that you don't have to wait weeks for data to come etc.\n",
    "* experimentation\n",
    "    - operations are just code. spin up any size node for testing to see what works best\n",
    "* culture of innovation\n",
    "    - low cost low risk so can experiment more. This leads to more discovery about what works best.\n",
    "\n",
    "AWS has facilities all of the world. "
   ]
  },
  {
   "cell_type": "markdown",
   "metadata": {},
   "source": [
    "### Elasticity, Scalability, and High Performance in Cloud Computing\n",
    "* powerful force in cloud computing\n",
    " \n",
    "Elasticity is the power to scale computing resources up or down easily, while only paying for the actual resources used.\n",
    "\n",
    "    - instantly scale up if workload grows\n",
    "    - instantly shut resources down\n",
    "    - scale down and not pay for infrastructure\n",
    "Auto Scaling\n",
    "\n",
    "Deploy system in multiple regions\n",
    "\n",
    "* virtually any work load can be handled"
   ]
  },
  {
   "cell_type": "markdown",
   "metadata": {},
   "source": [
    "### Security\n",
    "staffed 24 by 7\n",
    "\n",
    "multiple regions to ensure security"
   ]
  },
  {
   "cell_type": "markdown",
   "metadata": {},
   "source": [
    "### Reliability\n",
    "* higher performing\n",
    "* ability to recover from failures\n",
    "* dynamically acquire resources\n",
    "\n",
    "Must have well-planned foundation!\n",
    "    - handle changes in demand\n",
    "    - automatically detect failure and heal itself\n",
    "    \n",
    "* reduce uncertainty of forecasting hardware needs"
   ]
  },
  {
   "cell_type": "markdown",
   "metadata": {},
   "source": [
    "### Knowledge check\n",
    "1. Number one reason customers are switching to cloud computing\n",
    "    - Agility\n",
    "2. What is the pricing model that allows AWS customers to pay for resources on as as needed basis?\n",
    "    - Pay as you go\n",
    "3. Which of the floowing AWS tools help your application scale up or down based on demand?\n",
    "    - Auto Scaling\n",
    "    - Elastic Load Balancing (automatically distribute resources across multiple targets)\n",
    "4. What is true about regions?\n",
    "    - Each region is located in a separate geographic area\n",
    "5. NOT a benefit of AWS cloud computing?\n",
    "    - Multiple procurement cycles\n",
    "    - high latency\n",
    "6. Which of the following are advatages of AWS cloud security?\n",
    "    - AWS uses multi-factor access control systems\n",
    "    - You retain control of regions\n",
    "7. NOT an advantage of cloud computing over on-premise computing?\n",
    "    - Pay for for racking, stacking and powering needs."
   ]
  },
  {
   "cell_type": "markdown",
   "metadata": {},
   "source": [
    "## Core Services\n",
    "\n",
    "* global infrastructure\n",
    "\n",
    "Very well documented on anything AWS has.\n",
    "\n",
    "* compute (EC2), storage (S3, EBS), databases (Aurora), networking , and security"
   ]
  },
  {
   "cell_type": "markdown",
   "metadata": {},
   "source": [
    "### Global infrastructure\n",
    "1. Regions\n",
    "2. Availability zones (A.Z.)\n",
    "3. Edge locations (E.L.)\n",
    "\n",
    "#### Regions\n",
    "Geographic regions that hold 2>= availability zones. Want to pick a region that will optimize latency (greatly affected by how far away the user is and the quality of the network). Latency is basically the time it takes to process a request.\n",
    "\n",
    "#### A.Z.\n",
    "Collection of data centers within a region. They are isolated. Protects against site failures and data compromisation.\n",
    "\n",
    "#### E.L.\n",
    "cloud front. quicker content deliver. Theses sites host a content delivery network. This is like the frontend for the service we access."
   ]
  },
  {
   "cell_type": "markdown",
   "metadata": {},
   "source": [
    "### Virtual Private Cloud (VPC)\n",
    "* Networking AWS service\n",
    "VPC allows you to use same concepts as on premise networking\n",
    "\n",
    "EC2 instances are deployed into your VPC. Databases deploy there too. Understanding AWS VPC will allow you to fully use other AWS services.\n",
    "\n",
    "#### Example VPC\n",
    "Region based so select one. Give VPC name and ipAddress. Create a subnet. Specify AZ. create another subnet. Add internet gateway to public subnet."
   ]
  },
  {
   "cell_type": "markdown",
   "metadata": {},
   "source": [
    "### Security groups\n",
    "* 1 of highest priority\n",
    "Virtual Built-in-firewall. How eccessable your instances are. Control traffic to one or more instances. Can create rules and managed on console.\n",
    "\n",
    "**Create security group**: "
   ]
  },
  {
   "cell_type": "markdown",
   "metadata": {},
   "source": [
    "### Compute services\n"
   ]
  },
  {
   "cell_type": "markdown",
   "metadata": {},
   "source": [
    "## Security\n",
    "* shared repsonsibility model"
   ]
  },
  {
   "cell_type": "markdown",
   "metadata": {},
   "source": [
    "## Architecting\n",
    "* intro to well-architected framework"
   ]
  },
  {
   "cell_type": "markdown",
   "metadata": {},
   "source": [
    "## pricing and support\n",
    "* fundamentals of pricing"
   ]
  },
  {
   "cell_type": "markdown",
   "metadata": {},
   "source": [
    "## Bonus \n",
    "* reinforce material"
   ]
  },
  {
   "cell_type": "code",
   "execution_count": null,
   "metadata": {},
   "outputs": [],
   "source": []
  }
 ],
 "metadata": {
  "kernelspec": {
   "display_name": "R",
   "language": "R",
   "name": "ir"
  },
  "language_info": {
   "codemirror_mode": "r",
   "file_extension": ".r",
   "mimetype": "text/x-r-source",
   "name": "R",
   "pygments_lexer": "r",
   "version": "3.4.3"
  },
  "toc": {
   "nav_menu": {},
   "number_sections": true,
   "sideBar": true,
   "skip_h1_title": false,
   "toc_cell": false,
   "toc_position": {},
   "toc_section_display": "block",
   "toc_window_display": false
  }
 },
 "nbformat": 4,
 "nbformat_minor": 2
}
