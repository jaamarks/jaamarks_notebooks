{
 "cells": [
  {
   "cell_type": "markdown",
   "metadata": {},
   "source": [
    "# Templates of empty tables"
   ]
  },
  {
   "cell_type": "markdown",
   "metadata": {},
   "source": [
    "### Quality Control Sample Tracking\n",
    "#### Pre-chromosome type partitioning\n",
    "The table below provides statistics on variants and subjects filtered during each step of the QC process.\n",
    "\n",
    "| QC procedure                         | Variants removed | Variants retained | Subjects removed | Subjects retained |\n",
    "|--------------------------------------|------------------|-------------------|------------------|-------------------|\n",
    "| Initial dbGaP dataset                |                  |                   |                  |                   |\n",
    "| Genome build 37 and dbGaP 138 update |                  |                   |                  |                   |\n",
    "| Duplicate rsID filtering             |                  |                   |                  |                   |\n",
    "\n",
    "### Autosome statistics\n",
    "This table includes filtering statistics prior to merging with chrX.\n",
    "\n",
    "| QC procedure                                    | Variants removed | Variants retained | Subjects removed | Subjects added | Subjects retained |\n",
    "|-------------------------------------------------|------------------|-------------------|------------------|----------------|--------------------|\n",
    "| Pre-partitioning w/initial procedures (all chr) |                  |                   |                  |                |                     |\n",
    "| Partitioning to only autosomes                  |                  |                   |                  |                |                     |\n",
    "| Remove subjects missing whole autosome data     |                  |                   |                  |                |                     |\n",
    "| Remove ancestral outliers                       |                  |                   |                  |                |                     |\n",
    "| Remove sujects with re-assigned ancestry        |                  |                   |                  |                |                     |\n",
    "| Add subjects re-assigned by STRUCTURE           |                  |                   |                  |                |                       |\n",
    "| Remove variants with missing call rate > 3%     |                  |                   |                  |                |                     |\n",
    "| Remove variants with HWE p < 0.0001             |                  |                   |                  |                |                     | \n",
    "\n",
    "#### ChrX statistics¶\n",
    "This table includes filtering statistics prior to merging with autosomes.\n",
    "\n",
    "| QC procedure                                    | Variants removed | Variants retained | Subjects removed | Subjects added | Subjects retained |\n",
    "|-------------------------------------------------|------------------|-------------------|------------------|---------------|---------------------|\n",
    "| Pre-partitioning w/initial procedures (all chr) |                  |                   |                  |               |                     |\n",
    "| Partitioning to only chrX                       |                  |                   |                  |               |                     |\n",
    "| Remove subjects missing whole chrX data         |                  |                   |                  |               |                     |\n",
    "| Remove ancestral outliers                       |                  |                   |                  |               |                     |\n",
    "| Remove sujects with re-assigned ancestry        |                  |                   |                  |               |                     |\n",
    "| Add subjects re-assigned by STRUCTURE           |                  |                   |                  |               |                     |\n",
    "| Remove variants with missing call rate > 3%     |                  |                   |                  |               |                     |\n",
    "| Remove variants with HWE p < 0.0001             |                  |                   |                  |               |                     |\n",
    "\n",
    "### Merged autosome and chrX statistics\n",
    "\n",
    "| QC procedure                                            | Variants removed | Variants retained | Subjects removed | Subjects added | Subjects retained |\n",
    "|---------------------------------------------------------|------------------|-------------------|------------------|----------------------|-------------------|\n",
    "| Merge autosomes and chrX                                |                  |                   |                  |                      |                   |\n",
    "| Remove subjects with IBD > 0.4, IBS > 0.9, KING > 0.177 |                  |                   |                  |                      |                   |\n",
    "| Remove subjects with missing call rate > 3%             |                  |                   |                  |                      |                   |\n",
    "| Sex discordance filter                                  |                  |                   |                  |                      |                   |\n",
    "| Excessive homozygosity filter                           |                  |                   |                  |                      |                   |\n",
    "| Duplicate variant ID filter after 1000G renaming        |                  |                   |                  |                      |                   |"
   ]
  },
  {
   "cell_type": "markdown",
   "metadata": {
    "collapsed": true
   },
   "source": [
    "| Sex | Age | EV1 | EV2 | EV3 | EV4 | EV5 | EV6 | EV7 | EV8 | EV9 | EV10 |\n",
    "|-----|-----|-----|-----|-----|-----|-----|-----|-----|-----|-----|------|\n"
   ]
  },
  {
   "cell_type": "markdown",
   "metadata": {
    "collapsed": true
   },
   "source": [
    "## African Ancestry\n",
    "The table below provides statistics on variants and subjects filtered during each step of the QC process.\n",
    "\n",
    "**Note**: Initial subject counts are determined by considering only subjects with both genotype and phenotype data available. Consequently, initial numbers may not match between the .fam files and the phenotype files\n",
    "\n",
    "### Autosome statistics\n",
    "This table includes filtering statistics prior to merging with chrX.\n",
    "\n",
    "| QC procedure                                     | Variants removed | Variants retained | Subjects removed | Subjects added | Subjects retained |\n",
    "|--------------------------------------------------|------------------|-------------------|------------------|----------------|-------------------|\n",
    "| AA subject filter w/initial procedures (all chr) |                  |                   |                  |                |                   |\n",
    "| Partitioning to only autosomes                   |                  |                   |                  |                |                   |\n",
    "| Remove subjects missing whole autosome data      |                  |                   |                  |                |                   |\n",
    "| Duplicate rsID filtering                         |                  |                   |                  |                |                   |\n",
    "| Strand flipping and polymorphic SNP filter       |                  |                   |                  |                |                   |\n",
    "| Remove ancestral outliers                        |                  |                   |                  |                |                   |\n",
    "| Add reassigned subjects based on STRUCTURE       |                  |                   |                  |                |                   |\n",
    "| Remove variants with missing call rate > 3%      |                  |                   |                  |                |                   |\n",
    "| Remove variants with HWE p < 0.0001              |                  |                   |                  |                |                   |\n",
    "\n",
    "### ChrX statistics\n",
    "This table includes filtering statistics prior to merging with autosomes.\n",
    "\n",
    "| QC procedure                                     | Variants removed | Variants retained | Subjects removed | Subjects added | Subjects retained |\n",
    "|--------------------------------------------------|------------------|-------------------|------------------|----------------|-------------------|\n",
    "| AA subject filter w/initial procedures (all chr) |                  |                   |                  | 0              |                   |\n",
    "| Partitioning to only chrX                        |                  |                   |                  | 0              |                   |\n",
    "| Remove subjects missing whole chrX data          |                  |                   |                  | 0              |                   |\n",
    "| Duplicate rsID filtering                         |                  |                   |                  | 0              |                   |\n",
    "| Remove/reassign ancestral outliers               |                  |                   |                  | 0              |                   |\n",
    "| Remove variants with missing call rate > 3%      |                  |                   |                  | 0              |                   |\n",
    "| Remove variants with HWE p < 0.0001              |                  |                   |                  | 0              |                   |\n",
    "\n",
    "### Merged autosome and chrX statistics\n",
    "\n",
    "| QC procedure                                     | Variants removed | Variants retained | Subjects removed | Subjects added | Subjects retained |\n",
    "|--------------------------------------------------|------------------|-------------------|------------------|----------------|-------------------|\n",
    "| Merge autosomes and chrX                         |                  |                   |                  | 0              |                   |\n",
    "| Remove subjects with IBD > 0.4 or IBS > 0.9      |                  |                   |                  | 0              |                   |\n",
    "| Remove subjects with missing call rate > 3%      |                  |                   |                  | 0              |                   |\n",
    "| Sex discordance filter                           |                  |                   |                  | 0              |                   |\n",
    "| Excessive homozygosity filter                    |                  |                   |                  | 0              |                   |\n",
    "| Duplicate variant ID filter after 1000G renaming |                  |                   |                  | 0              |                   |\n",
    "| Remove ambiguous SNPs                            |                  |                   |                  | 0              |                   |"
   ]
  }
 ],
 "metadata": {
  "kernelspec": {
   "display_name": "R",
   "language": "R",
   "name": "ir"
  },
  "language_info": {
   "codemirror_mode": "r",
   "file_extension": ".r",
   "mimetype": "text/x-r-source",
   "name": "R",
   "pygments_lexer": "r",
   "version": "3.4.3"
  },
  "toc": {
   "nav_menu": {},
   "number_sections": true,
   "sideBar": true,
   "skip_h1_title": false,
   "toc_cell": false,
   "toc_position": {},
   "toc_section_display": "block",
   "toc_window_display": false
  }
 },
 "nbformat": 4,
 "nbformat_minor": 2
}
