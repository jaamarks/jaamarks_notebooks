{
 "cells": [
  {
   "cell_type": "markdown",
   "metadata": {},
   "source": [
    "# Finding a Shared Motif\n",
    "\n",
    "## Problem\n",
    "A common substring of a collection of strings is a substring of every member of the collection. We say that a common substring is a longest common substring if there does not exist a longer common substring. For example, \"CG\" is a common substring of \"ACGTACGT\" and \"AACCGTATA\", but it is not as long as possible; in this case, \"CGTA\" is a longest common substring of \"ACGTACGT\" and \"AACCGTATA\".\n",
    "\n",
    "Note that the longest common substring is not necessarily unique; for a simple example, \"AA\" and \"CC\" are both longest common substrings of \"AACC\" and \"CCAA\".\n",
    "\n",
    "**Given:** A collection of k (k≤100) DNA strings of length at most 1 kbp each in FASTA format.\n",
    "\n",
    "**Return**: A longest common substring of the collection. (If multiple solutions exist, you may return any single solution.)\n",
    "\n",
    "_____\n",
    "\n",
    "**Sample Input**\n",
    "```\n",
    ">Rosalind_1\n",
    "GATTACA\n",
    ">Rosalind_2\n",
    "TAGACCA\n",
    ">Rosalind_3\n",
    "ATACA\n",
    "```\n",
    "\n",
    "\n",
    "**Sample Output** <br>\n",
    "`AC`"
   ]
  },
  {
   "cell_type": "markdown",
   "metadata": {},
   "source": [
    "## sandbox"
   ]
  },
  {
   "cell_type": "code",
   "execution_count": 60,
   "metadata": {},
   "outputs": [],
   "source": [
    "def process_fasta(dna_string):\n",
    "    dna_dict = {}\n",
    "    for item in dna_string:\n",
    "        if item[0] == \">\":\n",
    "            current_seq = item.strip()\n",
    "            dna_dict[current_seq] = \"\"\n",
    "        else:\n",
    "            dna_dict[current_seq] += item.strip()\n",
    "    return dna_dict\n",
    "\n",
    "def all_substrings(string):\n",
    "    substring_list = set( string[i:j +1] for i in range(len(string)) for j in range(i, len(string)) )\n",
    "    return substring_list\n",
    "\n",
    "def max_motif(fasta_path):\n",
    "    with open(fasta_path) as inF:\n",
    "        dna_list = inF.readlines()\n",
    "\n",
    "    dna_dict = process_fasta(dna_list)\n",
    "    compiled_sets = []\n",
    "    for key in dna_dict:\n",
    "        compiled_sets.append(all_substrings(dna_dict[key]))\n",
    "    set_intersect = set.intersection(*compiled_sets)\n",
    "    print(max(set_intersect, key=len))"
   ]
  },
  {
   "cell_type": "code",
   "execution_count": 63,
   "metadata": {},
   "outputs": [
    {
     "name": "stdout",
     "output_type": "stream",
     "text": [
      "GTAGTTTTTACAAACGCACGATAATCTGTTGGTTGTGCCTACGCTGCGCATTTCAGGTAGGCATGGTCGTGCATTCCGGAGC\n"
     ]
    }
   ],
   "source": [
    "my_file = \"/Users/jmarks/Desktop/GitHub/jaamarks_notebooks/General/sandbox/ros_file\"\n",
    "my_file = \"/Users/jmarks/Downloads/rosalind_lcsm.txt\"\n",
    "\n",
    "max_motif(my_file)"
   ]
  },
  {
   "cell_type": "code",
   "execution_count": null,
   "metadata": {},
   "outputs": [],
   "source": []
  },
  {
   "cell_type": "code",
   "execution_count": null,
   "metadata": {},
   "outputs": [],
   "source": []
  },
  {
   "cell_type": "code",
   "execution_count": null,
   "metadata": {},
   "outputs": [],
   "source": [
    " \n",
    "    \n",
    "    \n",
    "    \n",
    "    \n",
    "    \n",
    "    \n",
    "    \n",
    "    \n",
    "    \n",
    "    \n",
    "    \n",
    "    \n",
    "    \n",
    "    \n",
    "    \n",
    "    \n",
    "    \n",
    "    "
   ]
  }
 ],
 "metadata": {
  "kernelspec": {
   "display_name": "Python 3",
   "language": "python",
   "name": "python3"
  },
  "language_info": {
   "codemirror_mode": {
    "name": "ipython",
    "version": 3
   },
   "file_extension": ".py",
   "mimetype": "text/x-python",
   "name": "python",
   "nbconvert_exporter": "python",
   "pygments_lexer": "ipython3",
   "version": "3.6.4"
  },
  "toc": {
   "nav_menu": {},
   "number_sections": true,
   "sideBar": true,
   "skip_h1_title": false,
   "toc_cell": false,
   "toc_position": {},
   "toc_section_display": "block",
   "toc_window_display": false
  }
 },
 "nbformat": 4,
 "nbformat_minor": 2
}
