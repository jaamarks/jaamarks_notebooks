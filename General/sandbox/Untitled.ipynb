{
 "cells": [
  {
   "cell_type": "code",
   "execution_count": 36,
   "metadata": {},
   "outputs": [
    {
     "name": "stdout",
     "output_type": "stream",
     "text": [
      "['b', 'ba', 'ban', 'bana', 'banan', 'banana', 'a', 'an', 'ana', 'anan', 'anana', 'n', 'na', 'nan', 'nana', 'a', 'an', 'ana', 'n', 'na', 'a']\n",
      "Jesse scored:  12\n"
     ]
    }
   ],
   "source": [
    "string = \"banana\"\n",
    "\n",
    "vowels = (\"a\", \"e\", \"i\", \"o\", \"u\")\n",
    "\n",
    "subs = [string[i:j+1] for i in range(len(string)) for j in range(i, len(string))]\n",
    "subs = list(filter(None, subs))\n",
    "print(subs)\n",
    "\n",
    "kevin = {}\n",
    "jesse = {}\n",
    "for sub in subs:\n",
    "    if sub[0] in vowels:\n",
    "        if sub not in kevin:\n",
    "            kevin[sub] = 1\n",
    "        else:\n",
    "            kevin[sub] += 1\n",
    "    else:\n",
    "        if sub not in jesse:\n",
    "            jesse[sub] = 1\n",
    "        else:\n",
    "            jesse[sub] += 1\n",
    "        \n",
    "kevin_score = sum(kevin.values())\n",
    "jesse_score = sum(jesse.values())\n",
    "\n",
    "if kevin_score > jesse_score:\n",
    "    print(\"Kevin scored: \",kevin_score )\n",
    "else:\n",
    "    print(\"Jesse scored: \", jesse_score)\n"
   ]
  },
  {
   "cell_type": "code",
   "execution_count": 33,
   "metadata": {},
   "outputs": [
    {
     "data": {
      "text/plain": [
       "3"
      ]
     },
     "execution_count": 33,
     "metadata": {},
     "output_type": "execute_result"
    }
   ],
   "source": [
    "subs.count(\"a\")"
   ]
  }
 ],
 "metadata": {
  "kernelspec": {
   "display_name": "Python 3",
   "language": "python",
   "name": "python3"
  },
  "language_info": {
   "codemirror_mode": {
    "name": "ipython",
    "version": 3
   },
   "file_extension": ".py",
   "mimetype": "text/x-python",
   "name": "python",
   "nbconvert_exporter": "python",
   "pygments_lexer": "ipython3",
   "version": "3.7.1"
  },
  "toc": {
   "nav_menu": {},
   "number_sections": true,
   "sideBar": true,
   "skip_h1_title": false,
   "toc_cell": false,
   "toc_position": {},
   "toc_section_display": "block",
   "toc_window_display": false
  }
 },
 "nbformat": 4,
 "nbformat_minor": 2
}
