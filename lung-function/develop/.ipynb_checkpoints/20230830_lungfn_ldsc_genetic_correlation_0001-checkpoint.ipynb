{
 "cells": [
  {
   "cell_type": "markdown",
   "id": "41207c24-9442-429a-9fc5-02c376a39892",
   "metadata": {},
   "source": [
    "# Lung function heritability and genetic correlation analyses\n",
    "**Author:** Jesse Marks (jmarks@rti.org)\n",
    "\n",
    "Our goals involve estimating the following key parameters:\n",
    " \n",
    "1. SNP-Heritability for Lung-Function\n",
    "   We intend to calculate the SNP-heritability for lung-function, specifically focusing on FEV (Forced Expiratory Volume), FVC (Forced Vital Capacity), and Ratio.\n",
    " \n",
    "2. Genetic Correlation with COPD and Asthma Studies\n",
    "   Additionally, we aim to investigate the genetic correlation between lung-function traits (FEV, FVC, Ratio) and various studies related to COPD and asthma.\n",
    " \n",
    "To summarize, the analyses we are planning to undertake are as follows:\n",
    " \n",
    "- Estimation of SNP-heritability for FEV and calculation of genetic correlation between FEV and the different COPD and asthma studies.\n",
    "- Estimation of SNP-heritability for FVC and calculation of genetic correlation between FVC and the various COPD and asthma studies.\n",
    "- Estimation of SNP-heritability for Ratio and calculation of genetic correlation between Ratio and the various COPD and asthma studies.\n",
    " "
   ]
  },
  {
   "cell_type": "markdown",
   "id": "ac03d171-299e-473c-a676-8e4e3d68d2aa",
   "metadata": {},
   "source": [
    "## Background information about lung function measurements\n",
    "FVC, FEV, and Ratio are terms commonly used in respiratory medicine to describe lung function measurements during pulmonary function tests.\n",
    "These measurements help assess lung health and diagnose various respiratory conditions.\n",
    "Here's what each term stands for:\n",
    "\n",
    "1. **FVC (Forced Vital Capacity):**\n",
    "   - FVC refers to the maximum amount of air a person can exhale forcefully and completely after taking a deep breath in. It's a measure of lung capacity and is often used to evaluate overall lung function. FVC is an important indicator for assessing conditions such as obstructive lung diseases (e.g., asthma, chronic obstructive pulmonary disease) and restrictive lung diseases (e.g., pulmonary fibrosis).\n",
    "\n",
    "2. **FEV (Forced Expiratory Volume):**\n",
    "   - FEV represents the volume of air that a person can forcefully exhale during a specific time interval of a pulmonary function test. Different FEV measurements are taken at specific time points during the forced exhalation. Common FEV measurements include:\n",
    "     - FEV1 (Forced Expiratory Volume in 1 second): The volume of air exhaled in the first second of a forced exhalation. It's a key parameter for diagnosing and monitoring obstructive lung diseases.\n",
    "     - FEV2, FEV3, etc.: Volumes of air exhaled in the second and third seconds, respectively, and so on.\n",
    "\n",
    "3. **Ratio:**\n",
    "   - The \"Ratio\" typically refers to the FEV1/FVC ratio. It's the ratio of the amount of air exhaled in the first second (FEV1) to the total volume of air exhaled (FVC) during the same exhalation maneuver. This ratio is crucial for diagnosing and classifying lung diseases:\n",
    "     - Normal Ratio: A healthy individual will have an FEV1/FVC ratio close to 1.\n",
    "     - Reduced Ratio: In obstructive lung diseases, the FEV1/FVC ratio is reduced due to a limitation in the ability to exhale air quickly. Conditions like asthma and COPD often lead to a decreased FEV1/FVC ratio.\n",
    "     - Preserved Ratio: In restrictive lung diseases, the FEV1/FVC ratio might be preserved or increased, but both FEV1 and FVC are reduced due to decreased lung capacity.\n",
    "\n",
    "These lung function measurements play a significant role in diagnosing and managing respiratory conditions. They provide valuable insights into the health and functionality of the lungs, helping healthcare professionals determine appropriate treatments and interventions."
   ]
  },
  {
   "cell_type": "markdown",
   "id": "61232919-dc6e-48da-82fb-c8f6002e06ab",
   "metadata": {},
   "source": [
    "## Data Description\n",
    "### Lung Function\n",
    "The table below has the initial GWAS we would like to use for the heritability analyses. The sum stats from our GWAS (3 different phenotypes) are located here:\n",
    "- FEV: s3://rti-pulmonary/gwas_meta/pft_longitudinal/results/fev1/0002/POST2_FULL_fev_EA_bothSEX_fuma.tsv.gz\n",
    "- FVC: s3://rti-pulmonary/gwas_meta/pft_longitudinal/results/fvc/0002/POST2_FULL_fvc_EA_bothSEX_fuma.tsv.gz\n",
    "- Ratio: s3://rti-pulmonary/gwas_meta/pft_longitudinal/results/fev1_fvc_ratio/0002/POST2_FULL_ratio_EA_bothSEX_fuma.tsv.gz"
   ]
  },
  {
   "cell_type": "markdown",
   "id": "ae71f84d-4910-41cf-b025-7b447c197f46",
   "metadata": {},
   "source": [
    "### Other GWAS\n",
    "| Author | Year | PubMed ID | N Study | N Cases | Trait | Study |\n",
    "| --- | --- | --- | --- | --- | --- | --- |\n",
    "| Sakornsakolpat P | 2019 | [30804561](https://www.ebi.ac.uk/gwas/publications/30804561) | 222,076 | 35,735 | COPD | SpiroMeta Consortium, International COPD Genetics Consortium |\n",
    "| Pividori M | 2019 | [31036433](https://www.ebi.ac.uk/gwas/publications/31036433) | 328113 | 9,876 | asthma | UKBB |\n",
    "| Kim W | 2020 | [33106845](https://www.ebi.ac.uk/gwas/publications/33106845) | 200766 | 21,077 | COPD | UKBB, COPDGene, SpiroMeta |\n",
    "| John C | 2022 | 35104449 | 48428 | 8,068 | COPD and asthma | UKBB |\n",
    "| Do Ar | 2022 | [36543808](https://www.ebi.ac.uk/gwas/publications/36543808) | 7828 | 1,391 | COPD and Asthma | Korea |\n",
    "| Sakaue S | 2021 | [34594039](https://www.ebi.ac.uk/gwas/publications/34594039) | 166670 | 4,017 | COPD | Biobank japan |\n",
    "| Burkart KM | 2018 | [29394082](https://www.ebi.ac.uk/gwas/publications/29394082) | 5616 | 363 | COPD | HCHS/SOL |\n",
    "| Ishigaki K | 2020 | [32514122](https://www.ebi.ac.uk/gwas/publications/32514122) | 105944 | 2,855 | COPD | Japan |"
   ]
  },
  {
   "cell_type": "markdown",
   "id": "c38d3948-9b5f-4f11-9999-66f76a88b6ae",
   "metadata": {},
   "source": [
    "## Download data\n",
    "Download the data from the links above and store them in our AWS account on S3.\n",
    "Also update the Teams file PASS_descriptions.xlsx.\n",
    "\n",
    "- [ ] Sakornsakolpat P 30804561 \n",
    "- [ ] Pividori M 31036433\n",
    "- [ ] Kim W 33106845\n",
    "- [ ] ~John C 35104449~ (sumstats weren't available)\n",
    "- [ ] Do Ar 36543808]\n",
    "- [ ] Sakaue S 34594039\n",
    "- [ ] Burkart KM 29394082\n",
    "- [ ] Ishigaki K 32514122"
   ]
  },
  {
   "cell_type": "code",
   "execution_count": null,
   "id": "dfa5c4c5-11fb-4bec-b5d2-ce270e366974",
   "metadata": {},
   "outputs": [],
   "source": []
  },
  {
   "cell_type": "markdown",
   "id": "f4c19dd9-1fef-4715-b364-f69bbacbdd79",
   "metadata": {},
   "source": [
    "## FEV (Forced Expiratory Volume)\n"
   ]
  },
  {
   "cell_type": "markdown",
   "id": "e75f975a-2059-40d7-a242-7639481c4b0a",
   "metadata": {},
   "source": [
    "## FVC (Forced Vital Capacity)"
   ]
  },
  {
   "cell_type": "markdown",
   "id": "6617795c-08be-41c7-891a-3922be549079",
   "metadata": {},
   "source": [
    "## Ratio (FEV1/FVC)"
   ]
  },
  {
   "cell_type": "code",
   "execution_count": null,
   "id": "89f09f04-f863-416e-bbca-947fe4744a8b",
   "metadata": {},
   "outputs": [],
   "source": []
  }
 ],
 "metadata": {
  "kernelspec": {
   "display_name": "Python 3 (ipykernel)",
   "language": "python",
   "name": "python3"
  },
  "language_info": {
   "codemirror_mode": {
    "name": "ipython",
    "version": 3
   },
   "file_extension": ".py",
   "mimetype": "text/x-python",
   "name": "python",
   "nbconvert_exporter": "python",
   "pygments_lexer": "ipython3",
   "version": "3.9.16"
  }
 },
 "nbformat": 4,
 "nbformat_minor": 5
}
