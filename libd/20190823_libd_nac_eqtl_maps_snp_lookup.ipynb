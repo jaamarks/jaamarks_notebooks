{
 "cells": [
  {
   "cell_type": "markdown",
   "metadata": {},
   "source": [
    "# Extension of GSCAN results to LIBD Data eQTL maps: baseline, interaction, and stratified 2df\n",
    "\n",
    "**Author:** Jesse Marks <br>\n",
    "**GitHub Issue:** [LIBD NAc eQTL Analysis #122](https://github.com/RTIInternational/bioinformatics/issues/122)<br>\n",
    "**Results**: `~/Desktop/Projects/LIBD/gscan_lookup/20190823/20190823_libd_eqtl_analysis_gscan_tables1-4_snp_lookup_results_v02.xlsx`\n",
    "\n",
    "This notebook documents the steps taken to perform a SNP lookup of the GW significant SNPs from GSCAN in our eQTL analysis. In particular, Bryan Quach performed the eQTL analysis on the human nucleus accumbens data [(NAc)](https://en.wikipedia.org/wiki/Nucleus_accumbens) provided by Lieber Institute for Brain Development (LIBD).\n",
    "\n",
    "\n",
    "For top GSCAN results, see the supplemental Tables S1-S4 here:<br>\n",
    "`\\\\rtpnfil02\\dhancock\\Analysis\\GSCAN\\PublishedVersion\\GSCAN_SupplTables.xlsx`.\n",
    "\n",
    "<br>\n",
    "\n",
    "The GSCAN phenotypes of interest to us include: \n",
    "\n",
    "1) **Age of smoking initiation (AI)** - supplemental table 1\n",
    "\n",
    "2) **Cigarettes per day (CPD)** - supplemental table 2\n",
    "\n",
    "3) **Smoking cessation (SC)** - supplemental table 3\n",
    "\n",
    "4) **smoking initiation (SI)** - supplemental table 4\n",
    "\n",
    "\n",
    "<br>\n",
    "<br>\n",
    "<br>\n",
    "\n",
    "___\n",
    "\n",
    "**Note**: Bryan Quach pointed me to the data on his master EC2 instance (100.24.91.78 bquach):\n",
    "* **Baseline Results**: `/shared/data/libd/eqtl/data/results/baseline/*/libd_nac_eqtl_chr_all_counts_based_cis_qtl_updated_table_mac_lt_3.txt` \n",
    "\n",
    "* **Interaction Results**: \n",
    "`/shared/data/libd/eqtl/data/results/interaction/*/libd_nac_eqtl_chr_all_counts_based_cis_qtl_updated_table_mac_lt_3.txt`\n",
    "\n",
    "* **Stratified 2df Results**:\n",
    "`/shared/data/libd/eqtl/data/results/stratified_smoking_2df/*/libd_nac_eqtl_chr_all_counts_based_cis_qtl_updated_table_mac_lt_3.txt`\n",
    "\n",
    "<br>\n",
    "\n",
    "* **SNP ID to location map**:\n",
    "`/shared/data/libd/eqtl/data/snp_locations/`"
   ]
  },
  {
   "cell_type": "markdown",
   "metadata": {},
   "source": [
    "## Download Data\n",
    "\n",
    "Create the directory structure.  Also, create a list of SNPs for the lookup from the GSCAN Excel sheet. Copy the SNPs from each of the four Excel sheets (supplemental tables) into separate files and then combine them (no duplicates).\n",
    "\n",
    "**Note**: We do not have to download the data from S3 for this case because the data was already residing on Bryan Q.'s EC2 instance."
   ]
  },
  {
   "cell_type": "code",
   "execution_count": null,
   "metadata": {
    "collapsed": true
   },
   "outputs": [],
   "source": [
    "## EC2 ##\n",
    "\n",
    "# Create directory \n",
    "dir=/shared/jmarks/libd/snp_lookup/20190821\n",
    "mkdir -p $dir/{baseline,interaction,stratified}/{cross,ea,aa}/lookup_results\n",
    "\n",
    "\n",
    "# populate these files with the SNPs from respective Excel sheets\n",
    "\n",
    "touch age_of_initiation.tsv  cig_per_day.tsv  smoking_cessation.tsv  smoking_initiation.tsv\n",
    "wc -l * # note these are with headers\n",
    "\"\"\"\n",
    "   11 age_of_initiation\n",
    "   56 cig_per_day\n",
    "   25 smoking_cessation\n",
    "  379 smoking_initiation\n",
    "\"\"\"\n",
    "\n",
    "head age_of_initiation.tsv\n",
    "\"\"\"\n",
    "Chr     Pos     rsID    Reference Allele        Alternate Allele\n",
    "2       145638766       rs72853300      C       T\n",
    "2       225353649       rs12611472      T       C\n",
    "2       63622309        rs7559982       T       A\n",
    "3       85699040        rs11915747      C       G\n",
    "4       140908755       rs13136239      G       A\n",
    "\"\"\"\n",
    "\n",
    "# combine SNPs into one file, make sure SNPs are not listed twice\n",
    "head -1 age_of_initiation.tsv > combined_snp_list.tsv\n",
    "for file in age_of_initiation.tsv cig_per_day.tsv smoking_cessation.tsv smoking_initiation.tsv; do\n",
    "    tail -n +2 $file >> combined_snp_list.tsv\n",
    "done\n",
    "\n",
    "# filter so that there are no duplicated SNPs (no header either)\n",
    "tail -n +2 combined_snp_list.tsv | sort -u > combined_snp_list_filtered.tsv\n",
    "\n",
    "# convert to 1000g_p3 format\n",
    "awk '{print $3\":\"$2\":\"$4\":\"$5\"\\t\"$1}' combined_snp_list_filtered.tsv > combined_snp_list_filtered_1000g_p3_chr.tsv"
   ]
  },
  {
   "cell_type": "markdown",
   "metadata": {},
   "source": [
    "``` \n",
    "wc -l combined_snp_list_filtered_1000g_p3_chr.tsv\n",
    "462 combined_snp_list_filtered_1000g_p3_chr.tsv\n",
    "\n",
    " head combined_snp_list_filtered_1000g_p3_chr.tsv\n",
    "rs7920501:10043159:T:A  10\n",
    "rs7901883:103186838:G:A 10\n",
    "rs11594623:103960351:T:C        10\n",
    "rs11191269:104120522:C:G        10\n",
    "rs28408682:104403310:A:G        10\n",
    "rs12244388:104640052:G:A        10\n",
    "rs111842178:104852121:A:G       10\n",
    "rs34970111:106078937:C:T        10\n",
    "rs9787523:106460460:T:C 10\n",
    "rs11192347:106929313:G:A        10\n",
    "```"
   ]
  },
  {
   "attachments": {},
   "cell_type": "markdown",
   "metadata": {},
   "source": [
    "## Recapture Missing SNPs\n",
    "Some of the SNPs in the eQTL analysis results were of a different format: \n",
    "```\n",
    "\t rs12142098:59009279:T:C\t1:100016494:T:TAATAA\trs2180184\tGA000234\t1:156556241:C:<INS:ME:SVA>:156557143\n",
    "```\n",
    "\n",
    "I will try to capture those SNPs by including in my input three different formats of the same SNP. For example:\n",
    "```\n",
    "rs7920501\n",
    "rs7920501:10043159:T:A\n",
    "10:rs7920501:T:A\n",
    "```\n",
    "This is three different formats for the same SNP. So, our list of SNPs will be $462 \\times 3 = 1,386$"
   ]
  },
  {
   "cell_type": "code",
   "execution_count": null,
   "metadata": {},
   "outputs": [],
   "source": [
    "### python3 ###\n",
    "\n",
    "infile = \"combined_snp_list_filtered.tsv\"\n",
    "outfile = \"combined_snp_list_filtered_all_formats.tsv\"\n",
    "\n",
    "with open(infile) as inF, open(outfile, \"w\") as outF:\n",
    "    line = inF.readline()\n",
    "    while line:\n",
    "        sl = line.split()\n",
    "        chrom = sl[0]\n",
    "        pos = sl[1]\n",
    "        rsid = sl[2]\n",
    "        a1 = sl[3]\n",
    "        a2 = sl[4]\n",
    "\n",
    "        id1 = \"{}:{}:{}:{}\".format(rsid,pos,a1,a2)\n",
    "        id2 = \"{}:{}:{}:{}\".format(chrom,pos,a1,a2)\n",
    "\n",
    "        line1 = \"{}\\t{}\\n\".format(rsid, chrom) # rsid and chromosome\n",
    "        line2 = \"{}\\t{}\\n\".format(id1, chrom)  # rsid:pos:a1:a2 and chromosome\n",
    "        line3 = \"{}\\t{}\\n\".format(id2, chrom)  # chrom:pos:a1:a2 and chromosome\n",
    "\n",
    "        outF.write(line1)\n",
    "        outF.write(line2)\n",
    "        outF.write(line3)\n",
    "\n",
    "        line = inF.readline()"
   ]
  },
  {
   "cell_type": "markdown",
   "metadata": {},
   "source": [
    "## SNP lookup\n",
    "I need to create a dictionary of the GSCAN SNPs and then see if each SNP in the meta-analysis is in the dictionary. I think this makes more sense rather than vice-versa; in particular, creating a dictionary for each SNP in the meta-analysis and then searching to see if the GSCAN SNPs are in the dictionary. This latter strategy would require a large amount of memory to create the Python dictionary. The former strategy makes more sense when comsidering computation expense. \n",
    "\n",
    "Also note that there are some SNPs in the meta-analysis which have the format of `chr:position:a1:a2` instead of `rsid:position:a1:a2`. I think the reason is that these SNPs of the former format did not have an associated rsID available. If a GSCAN SNP is not found in the lookup, then we need to output the SNPs that were not found and deal with those later. It might be the case that we have to convert them from `rsid:position:a1:a2` format to `chr:position:a1:a2` and then perform the search again with just these SNPs."
   ]
  },
  {
   "cell_type": "markdown",
   "metadata": {},
   "source": [
    "### Baseline\n",
    "\n",
    "#### AA\n",
    "\n",
    "#### EA\n",
    "\n",
    "#### Cross"
   ]
  },
  {
   "cell_type": "code",
   "execution_count": null,
   "metadata": {
    "code_folding": [
     0
    ]
   },
   "outputs": [],
   "source": [
    "### Python3 ###\n",
    "\"\"\"\n",
    "*SNP lookup*\n",
    "\n",
    "    Make sure the IDs are of the same format for the snp-list\n",
    "    and the IDs in the  eQTL analysis results. e.g. 1000g_p3 or rsID only\n",
    "\"\"\"\n",
    "#import gzip\n",
    "\n",
    "################################################################################\n",
    "date = \"20190821\" # date the results were generated (in results files name)\n",
    "ancestry = \"aa\"\n",
    "study = \"baseline\"\n",
    "file_name = \"libd_nac_eqtl_chr_all_counts_based_cis_qtl_updated_table_mac_lt_3.txt\"\n",
    "\n",
    "## dict to hold gscan snps and the number of times they were found.\n",
    "## we can tell which SNPs did not show up in any of the eQTL files\n",
    "gscan_dict =  {}\n",
    "\n",
    "# directory contaiting combined_snp_list_filtered_1000g_p3_chr.tsv\n",
    "base_dir = \"/shared/jmarks/libd/snp_lookup/20190821/{}/{}\".format(study, ancestry)\n",
    "snp_list = \"/shared/jmarks/libd/snp_lookup/20190821/combined_snp_list_filtered_1000g_p3_chr.tsv\".format(base_dir)\n",
    "results = \"{}/{}\".format(base_dir, file_name)\n",
    "\n",
    "out_file = \"{}/lookup_results/{}_libd_{}_{}_nac_eqtl_analysis_snp_lookup_results.txt\".format(base_dir, date, study, ancestry)\n",
    "not_found = \"{}/lookup_results/{}_libd_{}_{}_nac_eqtl_analysis_snp_lookup_results_not_found.txt\".format(base_dir, date, study, ancestry)\n",
    "################################################################################\n",
    "\n",
    "with open(results) as qtlF, open(snp_list) as gscanF, open(out_file, \"w\") as outF:\n",
    "    gscan_line = gscanF.readline()\n",
    "    qtl_head = qtlF.readline()\n",
    "    qtl_line = qtlF.readline()\n",
    "\n",
    "    print(qtl_head)\n",
    "    #outF.write(qtl_head)\n",
    "\n",
    "    ## create a dictionary containing the gscan snps (just 1000G_p3 portion)\n",
    "    if len(gscan_dict) == 0:\n",
    "        while gscan_line:\n",
    "            key = gscan_line.split()[0] # SNP id\n",
    "            value = gscan_line.split()[1] #chromosome\n",
    "            gscan_dict[key] = [0, value]\n",
    "            gscan_line = gscanF.readline()\n",
    "\n",
    "    while qtl_line:\n",
    "        qtl_id = qtl_line.split()[0] # the 1000g_p3 ID in the eqtl-analysis\n",
    "        if qtl_id in gscan_dict:\n",
    "            gscan_dict[qtl_id][0] += 1\n",
    "            outF.write(qtl_line)\n",
    "        qtl_line = qtlF.readline()\n",
    "\n",
    "with open(not_found, \"w\") as notF:\n",
    "notF.write(\"id\\tchr\\n\")\n",
    "for key, value in gscan_dict.items():\n",
    "    if value[0]==0:\n",
    "        notF.write(key + \"\\t\" +  value[1] + \"\\n\")\n"
   ]
  },
  {
   "cell_type": "markdown",
   "metadata": {},
   "source": [
    "### Interaction\n",
    "\n",
    "#### AA\n",
    "\n",
    "#### EA\n",
    "\n",
    "#### Cross"
   ]
  },
  {
   "cell_type": "markdown",
   "metadata": {},
   "source": [
    "### Stratified 2df\n",
    "\n",
    "#### AA\n",
    "\n",
    "#### EA\n",
    "\n",
    "#### Cross"
   ]
  },
  {
   "cell_type": "code",
   "execution_count": null,
   "metadata": {},
   "outputs": [],
   "source": []
  },
  {
   "cell_type": "code",
   "execution_count": null,
   "metadata": {},
   "outputs": [],
   "source": []
  },
  {
   "cell_type": "markdown",
   "metadata": {},
   "source": [
    "# Missing SNPs"
   ]
  },
  {
   "cell_type": "code",
   "execution_count": null,
   "metadata": {},
   "outputs": [],
   "source": [
    "### local ###\n",
    "cd ~/Desktop/Projects/LIBD/gscan_lookup/20190823/\n",
    "\n",
    "for study in {baseline,stratified,interaction}; do\n",
    "    for an in {aa,ea,cross}; do\n",
    "        tail -n +2 ${study}/${an}/lookup_results/20190823_libd_${study}_${an}_nac_eqtl_analysis_snp_lookup_results_not_found.txt | \\\n",
    "            cut -f2,3 | uniq -c | awk '$1==3 {print $3,$2}' > ${study}/${an}/lookup_results/snps_not_found.txt\n",
    "    done\n",
    "done"
   ]
  }
 ],
 "metadata": {
  "kernelspec": {
   "display_name": "Python 3",
   "language": "python",
   "name": "python3"
  },
  "language_info": {
   "codemirror_mode": {
    "name": "ipython",
    "version": 3
   },
   "file_extension": ".py",
   "mimetype": "text/x-python",
   "name": "python",
   "nbconvert_exporter": "python",
   "pygments_lexer": "ipython3",
   "version": "3.7.1"
  },
  "toc": {
   "nav_menu": {},
   "number_sections": true,
   "sideBar": true,
   "skip_h1_title": false,
   "toc_cell": false,
   "toc_position": {
    "height": "628px",
    "left": "0px",
    "right": "1468px",
    "top": "107px",
    "width": "266px"
   },
   "toc_section_display": "block",
   "toc_window_display": false
  }
 },
 "nbformat": 4,
 "nbformat_minor": 2
}
