{
 "cells": [
  {
   "cell_type": "markdown",
   "metadata": {},
   "source": [
    "# VIDUS imputation\n",
    "__Author__: Jesse Marks <br>\n",
    "\n",
    "**GitHub Issue**: [#42](https://github.com/RTIInternational/bioinformatics/issues/42)\n",
    "\n",
    "This document logs the steps taken to perform pre-imputation procedures on the [Vancouver Injection Drug Users Study (VIDUS)](https://www.bccsu.ca/vidus/) dataset, EAs. The starting point for this analysis is after quality control of observed genotypes. The quality controlled genotypes are oriented on the GRCh37 plus strand. \n",
    "\n",
    "## Software and tools\n",
    "The software and tools used for porcessing these data are\n",
    "* [Michigan Imputation Server](https://imputationserver.sph.umich.edu/index.html) (MIS)\n",
    "* [Amazon Web Services (AWS) - Cloud Computing Services](https://aws.amazon.com/)\n",
    "    * Linux AMI\n",
    "* [PLINK v1.90 beta 4.10](https://www.cog-genomics.org/plink/)\n",
    "* [bgzip](http://www.htslib.org/doc/tabix.html)\n",
    "* [BCF Tools](http://www.htslib.org/doc/bcftools.html)\n",
    "* Windows 10 with [Cygwin](https://cygwin.com/) installed\n",
    "* GNU bash version 4.2.46\n",
    "\n",
    "## Data retrieval and organization\n",
    "PLINK binary filesets will be obtained from AWS S3 storage.\n",
    "\n",
    "Nathan Gaddis performed the original QC and stored the observed genotype data at:\n",
    "\n",
    "```\n",
    "s3://rti-midas-data/studies/vidus/observed/final\n",
    "```\n",
    "\n",
    "These genotype data were QC'ed by Jesse Marks and stored on S3 at:\n",
    "\n",
    "`s3://rti-hiv/vidus/data/genotype/observed/final`"
   ]
  },
  {
   "cell_type": "markdown",
   "metadata": {},
   "source": [
    "## Create Directory Structure & Download Data\n",
    "The following section needs to be modified each time to reflect where the data is stored!\n",
    "\n",
    "**Note**: download genotype data for each study to respective data directories. For example, download STUDY genotype data (post-QC) to the appropriate directory: `${base_dir}/processing/STUDY/genotype/observed/$ancestry`"
   ]
  },
  {
   "cell_type": "code",
   "execution_count": 1,
   "metadata": {},
   "outputs": [],
   "source": [
    "### EC2 command line (bash) ###\n",
    "\n",
    "# Modify variables below\n",
    "######################################################################\n",
    "base_dir=/shared/jmarks/hiv/vidus/genotype/impute/processing/003\n",
    "base_name=\"chr_all\" # chr23 or chr_all\n",
    "chr_list={1..23} # {1..23} or {1..22} \n",
    "ancestry_list=\"ea\" # space delimited Ex. \"ea aa ha\"\n",
    "study_list=\"vidus\" # space delimited, lowercase\n",
    "######################################################################\n",
    "\n",
    "mkdir -p ${base_dir}/../final\n",
    "mkdir ${base_dir}/{intersect,1000g,impute_prep} \n",
    "for study in ${study_list};do\n",
    "    for ancestry in ${ancestry_list};do\n",
    "        mkdir -p ${base_dir}/${study}/genotype/observed/${ancestry}\n",
    "    done\n",
    "done\n",
    "\n",
    "## download genotype (with AWS CLI tools) to respective directories ##\n",
    "\n",
    "# cd ${base_dir}/vidus/genotype/observed/ea/\n",
    "# ln -s /shared/jmarks/hiv/vidus/genotype/observed/final/002/ea_chr_all.* ."
   ]
  },
  {
   "cell_type": "markdown",
   "metadata": {},
   "source": [
    "# Data Processing\n",
    "Make sure to merge autosomes with chrX for this pipeline."
   ]
  },
  {
   "cell_type": "markdown",
   "metadata": {},
   "source": [
    "## GRCh37 strand and allele discordance check\n",
    "### MAF for study data"
   ]
  },
  {
   "cell_type": "code",
   "execution_count": null,
   "metadata": {
    "collapsed": true
   },
   "outputs": [],
   "source": [
    "### EC1 command line (Bash) ###\n",
    "\n",
    "# write out the MAF report\n",
    "for study in ${study_list}; do\n",
    "    study_dir=${base_dir}/${study}/strand_check\n",
    "    mkdir ${study_dir}\n",
    "    for ancestry in ${ancestry_list};do\n",
    "        data_dir=${base_dir}/${study}/genotype/observed/${ancestry}\n",
    "        /shared/bioinformatics/software/third_party/plink-1.90-beta-4.10-x86_64/plink \\\n",
    "            --noweb \\\n",
    "            --memory 2048 \\\n",
    "            --bed ${data_dir}/*bed\\\n",
    "            --bim ${data_dir}/*bim\\\n",
    "            --fam ${data_dir}/*fam\\\n",
    "            --freq \\\n",
    "            --out ${study_dir}/${ancestry}_${base_name}\n",
    "    done\n",
    "done\n",
    "\n",
    "# Get list of variants from all studies\n",
    "for ancestry in ${ancestry_list}; do\n",
    "    for study in ${study_list};do\n",
    "        cat ${base_dir}/${study}/genotype/observed/${ancestry}/*bim | \\\n",
    "                perl -lane 'if (($F[0]+0) <= 23) { print $F[1]; }' | \\\n",
    "                sort -u > ${base_dir}/${ancestry}_${base_name}_sorted_variants.txt\n",
    "    done\n",
    "done"
   ]
  },
  {
   "cell_type": "markdown",
   "metadata": {},
   "source": [
    "```\n",
    "wc -l ${base_dir}/*txt\n",
    "700727 /shared/jmarks/heroin/vidus/genotype/impute/processing/002/ea_chr_all_sorted_variants.txt\n",
    "```"
   ]
  },
  {
   "cell_type": "markdown",
   "metadata": {},
   "source": [
    "### MAF for 1000G\n",
    "This pipeline is currently set up to handle EUR and AFR populations.\n",
    "#### Autosomes\n",
    "Get 1000G MAF for chromosomes 1–22 (autosomes)."
   ]
  },
  {
   "cell_type": "code",
   "execution_count": null,
   "metadata": {},
   "outputs": [],
   "source": [
    "### EC2 command line (Bash)\n",
    "\n",
    "# Calculate autosome MAFs for 1000G populations\n",
    "for ancestry in ${ancestry_list};do\n",
    "\n",
    "    if [ $ancestry == \"ea\" ]\n",
    "    then\n",
    "        pop=\"EUR\"\n",
    "    else\n",
    "        pop=\"AFR\"\n",
    "    fi\n",
    "    \n",
    "    for chr in {1..22}; do\n",
    "        /shared/bioinformatics/software/scripts/qsub_job.sh \\\n",
    "            --job_name ${pop}_${chr}_MAF \\\n",
    "            --script_prefix ${base_dir}/1000g/${pop}_chr${chr}.maf \\\n",
    "            --mem 6.8 \\\n",
    "            --nslots 1 \\\n",
    "            --priority 0 \\\n",
    "            --program /shared/bioinformatics/software/perl/stats/calculate_maf_from_impute2_hap_file.pl \\\n",
    "                --hap /shared/data/ref_panels/1000G/2014.10/1000GP_Phase3_chr${chr}.hap.gz\\\n",
    "                --legend /shared/data/ref_panels/1000G/2014.10/1000GP_Phase3_chr${chr}.legend.gz \\\n",
    "                --sample /shared/data/ref_panels/1000G/2014.10/1000GP_Phase3.sample \\\n",
    "                --chr ${chr} \\\n",
    "                --out ${base_dir}/1000g/${pop}_chr${chr}.maf \\\n",
    "                --extract ${base_dir}/${ancestry}_${base_name}_sorted_variants.txt \\\n",
    "                --keep_groups ${pop}\n",
    "    done\n",
    "done"
   ]
  },
  {
   "cell_type": "markdown",
   "metadata": {},
   "source": [
    "#### chrX\n",
    "Get 1000G MAF for chromosome 23 (chrX)."
   ]
  },
  {
   "cell_type": "code",
   "execution_count": null,
   "metadata": {},
   "outputs": [],
   "source": [
    "### Bash ###\n",
    "\n",
    "chr=23\n",
    "for ancestry in ${ancestry_list};do\n",
    "\n",
    "    if [ $ancestry == \"ea\" ]\n",
    "    then\n",
    "        pop=\"EUR\"\n",
    "    else\n",
    "        pop=\"AFR\"\n",
    "    fi\n",
    "\n",
    "    /shared/bioinformatics/software/scripts/qsub_job.sh \\\n",
    "        --job_name ${pop}_23_MAF \\\n",
    "        --script_prefix ${base_dir}/1000g/${pop}_chr${chr}.maf \\\n",
    "        --mem 6.8 \\\n",
    "        --nslots 1 \\\n",
    "        --priority 0 \\\n",
    "        --program /shared/bioinformatics/software/perl/stats/calculate_maf_from_impute2_hap_file.pl \\\n",
    "            --hap /shared/data/ref_panels/1000G/2014.10/1000GP_Phase3_chrX_NONPAR.hap.gz\\\n",
    "            --legend /shared/data/ref_panels/1000G/2014.10/1000GP_Phase3_chrX_NONPAR.legend.gz \\\n",
    "            --sample /shared/data/ref_panels/1000G/2014.10/1000GP_Phase3.sample \\\n",
    "            --chr $chr \\\n",
    "            --out ${base_dir}/1000g/${pop}_chr${chr}.maf \\\n",
    "            --extract ${base_dir}/${ancestry}_${base_name}_sorted_variants.txt \\\n",
    "            --keep_groups ${pop}\n",
    "done"
   ]
  },
  {
   "cell_type": "markdown",
   "metadata": {},
   "source": [
    "### Merge 1000G chromosomes\n",
    "Only need to perform this if there were multiple chromosomes for which the MAF was calculated—e.g. more than just chrX."
   ]
  },
  {
   "cell_type": "code",
   "execution_count": null,
   "metadata": {},
   "outputs": [],
   "source": [
    "### Bash ###\n",
    "\n",
    "# Merge per chr MAFs for each 1000G population\n",
    "for ancestry in ${ancestry_list};do\n",
    "    if [ $ancestry == \"ea\" ]\n",
    "    then\n",
    "        pop=\"EUR\"\n",
    "    else\n",
    "        pop=\"AFR\"\n",
    "    fi\n",
    "    \n",
    "        head -n 1 ${base_dir}/1000g/${pop}_chr1.maf > ${base_dir}/1000g/${pop}_chr_all.maf\n",
    "        tail -q -n +2 ${base_dir}/1000g/${pop}_chr??maf  >> ${base_dir}/1000g/${pop}_chr_all.maf\n",
    "done"
   ]
  },
  {
   "cell_type": "markdown",
   "metadata": {},
   "source": [
    "```\n",
    "wc -l ${base_dir}/1000g/???_chr_all.maf\n",
    "/shared/jmarks/hiv/vidus/genotype/impute/processing/003/1000g/EUR_chr_all.maf\n",
    "```"
   ]
  },
  {
   "cell_type": "markdown",
   "metadata": {},
   "source": [
    "###  Allele Discordances Check\n",
    "The allele discordances will be resolved by\n",
    "* Flipping allele discordances that are fixed by flipping\n",
    "* Removing SNPs with discordant names\n",
    "* Removing SNPs with discordant positions\n",
    "* Removing allele discordances that are not resolved by flipping\n",
    "* Removing alleles with large deviations from the reference population allele frequencies\n",
    "\n",
    "Given that the allele discordance check was done using a union set of SNPs across all studies within an ancestry group, some of the SNPs logged as discordant for a given study may not actually be in the study. Fortunately, if they are not in a given study they will not interfere with the filtering procedures. Note that the intersection set is used for the final studies merger.\n",
    "\n",
    "#### Autosomes"
   ]
  },
  {
   "cell_type": "code",
   "execution_count": null,
   "metadata": {},
   "outputs": [],
   "source": [
    "### Bash ###\n",
    "\n",
    "chr=\"all\"\n",
    "# Run discordance checks for each ancestry group\n",
    "for study in ${study_list}; do\n",
    "    for ancestry in ${ancestry_list};do\n",
    "        if [ $ancestry = \"ea\" ]; then\n",
    "            pop=EUR\n",
    "        else\n",
    "            pop=AFR\n",
    "        fi\n",
    "\n",
    "       /shared/bioinformatics/software/scripts/qsub_job.sh \\\n",
    "           --job_name ${ancestry}_${study}_crosscheck_chr_${chr} \\\n",
    "           --script_prefix ${base_dir}/$study/strand_check/${ancestry}_allele_discordance_check \\\n",
    "           --mem 6 \\\n",
    "           --nslots 4 \\\n",
    "           --priority 0 \\\n",
    "           --program \"Rscript /shared/bioinformatics/software/R/check_study_data_against_1000G.R\n",
    "               --study_bim_file ${base_dir}/${study}/genotype/observed/${ancestry}/*bim\n",
    "               --study_frq_file ${base_dir}/${study}/strand_check/${ancestry}_chr_all.frq\n",
    "               --ref_maf_file ${base_dir}/1000g/${pop}_chr_all.maf\n",
    "               --out_prefix ${base_dir}/${study}/strand_check/${ancestry}_allele_discordance\"\n",
    "    done\n",
    "done"
   ]
  },
  {
   "cell_type": "markdown",
   "metadata": {},
   "source": [
    "#### chrX \n",
    "The following code should not be run unless chr23 was the only chromosome processed."
   ]
  },
  {
   "cell_type": "code",
   "execution_count": null,
   "metadata": {},
   "outputs": [],
   "source": [
    "#### Bash ###\n",
    "#\n",
    "#chr=23\n",
    "#for study in ${study_list}; do\n",
    "#    for ancestry in ${ancestry_list};do\n",
    "#        if [ $ancestry = \"ea\" ]; then\n",
    "#            pop=EUR\n",
    "#        else\n",
    "#            pop=AFR\n",
    "#        fi\n",
    "#\n",
    "#        # chr23 discordance check\n",
    "#        /shared/bioinformatics/software/scripts/qsub_job.sh \\\n",
    "#            --job_name ${ancestry}_${study}_crosscheck_chr${chr} \\\n",
    "#            --script_prefix ${base_dir}/${study}/strand_check/${ancestry}_allele_discordance_check \\\n",
    "#            --mem 6.8 \\\n",
    "#            --nslots 1 \\\n",
    "#            --priority 0 \\\n",
    "#            --program \"Rscript /shared/bioinformatics/software/R/check_study_data_against_1000G.R\n",
    "#                --study_bim_file ${base_dir}/${study}/genotype/observed/${ancestry}/*bim\n",
    "#                --study_frq_file ${base_dir}/${study}/strand_check/${ancestry}_chr23.frq\n",
    "#                --ref_maf_file ${base_dir}/1000g/${pop}_chr23.maf\n",
    "#                --out_prefix ${base_dir}/${study}/strand_check/${ancestry}_allele_discordance_${chr}\"\n",
    "#    done\n",
    "#done"
   ]
  },
  {
   "cell_type": "markdown",
   "metadata": {},
   "source": [
    "### Resolving Allele Discordances"
   ]
  },
  {
   "cell_type": "code",
   "execution_count": null,
   "metadata": {
    "collapsed": true
   },
   "outputs": [],
   "source": [
    "### Bash ###\n",
    "\n",
    "# Apply filters\n",
    "for study in ${study_list}; do\n",
    "    for ancestry in ${ancestry_list};do\n",
    "        echo -e \"\\n===============\\nProcessing ${study}_${ancestry}\\n\"\n",
    "        echo \"Making remove list\"\n",
    "        cat <(cut -f2,2 ${base_dir}/${study}/strand_check/${ancestry}_allele_discordance.discordant_alleles_not_fixed_by_strand_flip | tail -n +2) \\\n",
    "            <(cut -f2,2 ${base_dir}/${study}/strand_check/${ancestry}_allele_discordance.at_cg_snps_freq_diff_gt_0.2 | tail -n +2) \\\n",
    "            <(cut -f2,2 ${base_dir}/${study}/strand_check/${ancestry}_allele_discordance.discordant_names | tail -n +2) \\\n",
    "            <(cut -f2,2 ${base_dir}/${study}/strand_check/${ancestry}_allele_discordance.discordant_positions | tail -n +2) \\\n",
    "            <(cut -f2,2 ${base_dir}/${study}/strand_check/${ancestry}_allele_discordance.discordant_alleles_polymorphic_in_study_not_fixed_by_strand_flip | tail -n +2) | \\\n",
    "              sort -u > ${base_dir}/${study}/strand_check/${ancestry}_snps.remove\n",
    "\n",
    "        # Create flip list\n",
    "        echo \"Making flip list\"\n",
    "        comm -23 <(cut -f2,2 ${base_dir}/${study}/strand_check/${ancestry}_allele_discordance.discordant_alleles | tail -n +2 | sort -u) \\\n",
    "                 <(cut -f2,2 ${base_dir}/${study}/strand_check/${ancestry}_allele_discordance.discordant_alleles_not_fixed_by_strand_flip | tail -n +2 | sort -u) \\\n",
    "                 > ${base_dir}/${study}/strand_check/${ancestry}_snps.flip\n",
    "\n",
    "        # Apply filters\n",
    "        /shared/bioinformatics/software/third_party/plink-1.90-beta-4.10-x86_64/plink \\\n",
    "            --noweb \\\n",
    "            --memory 2048 \\\n",
    "            --bed     ${base_dir}/${study}/genotype/observed/${ancestry}/*bed \\\n",
    "            --bim     ${base_dir}/${study}/genotype/observed/${ancestry}/*bim \\\n",
    "            --fam     ${base_dir}/${study}/genotype/observed/${ancestry}/*fam \\\n",
    "            --exclude ${base_dir}/${study}/strand_check/${ancestry}_snps.remove \\\n",
    "            --flip    ${base_dir}/${study}/strand_check/${ancestry}_snps.flip \\\n",
    "            --make-bed \\\n",
    "            --out     ${base_dir}/${study}/${ancestry}_filtered\n",
    "    done\n",
    "done"
   ]
  },
  {
   "cell_type": "markdown",
   "metadata": {},
   "source": [
    " ```\n",
    " wc -l ${base_dir}/*/*bim\n",
    " 696828 /shared/jmarks/hiv/vidus/genotype/impute/processing/003/vidus/ea_filtered.bim\n",
    "```"
   ]
  },
  {
   "cell_type": "markdown",
   "metadata": {},
   "source": [
    "## Remove monomorphic variants\n",
    "Monomorphic variants prevent MIS from accepting the genotype data. In this case, an arbitrarily small MAF is set that is smaller than the lower bound for these data."
   ]
  },
  {
   "cell_type": "code",
   "execution_count": null,
   "metadata": {
    "collapsed": true
   },
   "outputs": [],
   "source": [
    "### Bash ###\n",
    "\n",
    "# Apply filters\n",
    "for study in ${study_list}; do\n",
    "    for ancestry in ${ancestry_list};do\n",
    "        geno_dir=${base_dir}/${study}\n",
    "\n",
    "        /shared/bioinformatics/software/third_party/plink-1.90-beta-4.10-x86_64/plink \\\n",
    "            --noweb \\\n",
    "            --memory 2048 \\\n",
    "            --bfile ${geno_dir}/${ancestry}_filtered \\\n",
    "            --maf 0.000001 \\\n",
    "            --make-bed \\\n",
    "            --out ${geno_dir}/${ancestry}_filtered_mono\n",
    "    done\n",
    "done"
   ]
  },
  {
   "cell_type": "markdown",
   "metadata": {},
   "source": [
    "```\n",
    " wc -l ${base_dir}/*/*mono.bim\n",
    " /shared/jmarks/hiv/vidus/genotype/impute/processing/003/vidus/ea_filtered_mono.bim\n",
    "```"
   ]
  },
  {
   "cell_type": "markdown",
   "metadata": {},
   "source": [
    "### SNP intersection\n",
    "Only run if merging multiple data sets."
   ]
  },
  {
   "cell_type": "code",
   "execution_count": null,
   "metadata": {
    "collapsed": true
   },
   "outputs": [],
   "source": [
    "#studies=($study_list)  #studies=(UHS1 UHS2 UHS3_v1-2 UHS3_v1-3) # array of study names\n",
    "#num=${#studies[@]}\n",
    "#\n",
    "## Get intersection set\n",
    "#for ancestry in ${ancestry_list};do\n",
    "#    bim_files=()\n",
    "#    for (( i=0; i<${num}; i++ ));do\n",
    "#        bim_files+=(${base_dir}/processing/${studies[$i]}/${ancestry}_filtered_mono.bim)\n",
    "#    done\n",
    "#    \n",
    "#    echo -e \"\\nCalculating intersection between $ancestry ${study_list}...\\n\"\n",
    "#    sort ${bim_files[@]} | uniq -dc | awk -v num=$num '$1 == num {print $3}' \\\n",
    "#        > ${base_dir}/processing/intersect/${ancestry}_variant_intersection.txt\n",
    "#\n",
    "#    # Make new PLINK binary file sets\n",
    "#    for study in ${studies[@]}; do\n",
    "#        /shared/bioinformatics/software/third_party/plink-1.90-beta-4.10-x86_64/plink \\\n",
    "#            --noweb \\\n",
    "#            --bfile ${base_dir}/processing/${study}/${ancestry}_filtered_mono \\\n",
    "#            --extract ${base_dir}/processing/intersect/${ancestry}_variant_intersection.txt \\\n",
    "#            --make-bed \\\n",
    "#            --out ${base_dir}/processing/intersect/${study}_${ancestry}_filtered_snp_intersection\n",
    "#    done\n",
    "#done"
   ]
  },
  {
   "cell_type": "markdown",
   "metadata": {},
   "source": [
    "```wc -l *txt\n",
    "\n",
    "```"
   ]
  },
  {
   "cell_type": "markdown",
   "metadata": {},
   "source": [
    "### Merge test\n",
    "If merging multiple datasets together:\n",
    "\n",
    "As a final check to confirm that our data sets are all compatible, a PLINK file set merge is conducted. If any issues persist then an error will be raised."
   ]
  },
  {
   "cell_type": "code",
   "execution_count": null,
   "metadata": {
    "collapsed": true
   },
   "outputs": [],
   "source": [
    "#for ancestry in $ancestry_list;do\n",
    "#\n",
    "#    echo \"Creating $ancestry merge-list\"\n",
    "#    touch ${base_dir}/processing/intersect/${ancestry}_merge_list.txt\n",
    "#    for study in $study_list;do\n",
    "#        echo ${base_dir}/processing/intersect/${study}_${ancestry}_filtered_snp_intersection >>\\\n",
    "#             ${base_dir}/processing/intersect/${ancestry}_merge_list.txt\n",
    "#    done\n",
    "#\n",
    "## Merge file sets\n",
    "#    echo -e \"\\n\\n======== ${ancestry} ========\\n\\n\"\n",
    "#    /shared/bioinformatics/software/third_party/plink-1.90-beta-4.10-x86_64/plink \\\n",
    "#        --noweb \\\n",
    "#        --memory 4000 \\\n",
    "#        --merge-list ${base_dir}/processing/intersect/${ancestry}_merge_list.txt \\\n",
    "#        --make-bed \\\n",
    "#        --out ${base_dir}/processing/intersect/${ancestry}_studies_merged\n",
    "#done"
   ]
  },
  {
   "cell_type": "markdown",
   "metadata": {},
   "source": [
    "```\n",
    " wc -l *merged.bim\n",
    "```"
   ]
  },
  {
   "cell_type": "markdown",
   "metadata": {},
   "source": [
    "## Imputation preparation for Michigan Imputation Server\n",
    "Visit the [MIS Getting Started Webpage](https://imputationserver.sph.umich.edu/start.html#!pages/help) for more information about the preparing the data for upload to MIS.\n"
   ]
  },
  {
   "cell_type": "markdown",
   "metadata": {},
   "source": [
    "### VCF File Conversion"
   ]
  },
  {
   "cell_type": "markdown",
   "metadata": {},
   "source": [
    "#### If merging was done"
   ]
  },
  {
   "cell_type": "code",
   "execution_count": null,
   "metadata": {},
   "outputs": [],
   "source": [
    "### Split by chr and remove any individuals with missing data for whole chr\n",
    "\n",
    "## if merged data sets together\n",
    "#for ancestry in $ancestry_list;do\n",
    "#    # Remove SNPs\n",
    "#    /shared/bioinformatics/software/third_party/plink-1.90-beta-4.10-x86_64/plink \\\n",
    "#        --noweb \\\n",
    "#        --memory 4000 \\\n",
    "#        --bfile ${base_dir}/processing/intersect/${ancestry}_studies_merged \\\n",
    "#        --chr ${chr} \\\n",
    "#        --mind 0.99 \\\n",
    "#        --make-bed \\\n",
    "#        --out ${base_dir}/processing/impute_prep/${ancestry}_chr${chr}_for_phasing \n",
    "#done > ${base_dir}/processing/impute_prep/chr_splitting.log "
   ]
  },
  {
   "cell_type": "markdown",
   "metadata": {},
   "source": [
    "#### If NO merging was performed \n",
    "I.e. if there was only one data set being processing."
   ]
  },
  {
   "cell_type": "code",
   "execution_count": null,
   "metadata": {},
   "outputs": [],
   "source": [
    "## if NO merging was done\n",
    "for ancestry in $ancestry_list;do\n",
    "    for chr in {1..23};do\n",
    "        # Remove SNPs\n",
    "        /shared/bioinformatics/software/third_party/plink-1.90-beta-4.10-x86_64/plink \\\n",
    "            --noweb \\\n",
    "            --memory 4000 \\\n",
    "            --bfile ${base_dir}/$study/${ancestry}_filtered_mono \\\n",
    "            --chr ${chr} \\\n",
    "            --mind 0.99 \\\n",
    "            --make-bed \\\n",
    "            --out ${base_dir}/impute_prep/${ancestry}_chr${chr}_for_phasing \n",
    "    done\n",
    "done > ${base_dir}/impute_prep/chr_splitting.log "
   ]
  },
  {
   "cell_type": "markdown",
   "metadata": {},
   "source": [
    "__Note__: No subjects were removed.\n",
    "\n",
    "```\n",
    "grep removed ${base_dir}/impute_prep/chr_splitting.log\n",
    "0 people removed due to missing genotype data (--mind).\n",
    "0 people removed due to missing genotype data (--mind).\n",
    "0 people removed due to missing genotype data (--mind).\n",
    "0 people removed due to missing genotype data (--mind).\n",
    "0 people removed due to missing genotype data (--mind).\n",
    "0 people removed due to missing genotype data (--mind).\n",
    "0 people removed due to missing genotype data (--mind).\n",
    "0 people removed due to missing genotype data (--mind).\n",
    "0 people removed due to missing genotype data (--mind).\n",
    "0 people removed due to missing genotype data (--mind).\n",
    "0 people removed due to missing genotype data (--mind).\n",
    "0 people removed due to missing genotype data (--mind).\n",
    "0 people removed due to missing genotype data (--mind).\n",
    "0 people removed due to missing genotype data (--mind).\n",
    "0 people removed due to missing genotype data (--mind).\n",
    "0 people removed due to missing genotype data (--mind).\n",
    "0 people removed due to missing genotype data (--mind).\n",
    "0 people removed due to missing genotype data (--mind).\n",
    "0 people removed due to missing genotype data (--mind).\n",
    "0 people removed due to missing genotype data (--mind).\n",
    "0 people removed due to missing genotype data (--mind).\n",
    "0 people removed due to missing genotype data (--mind).\n",
    "0 people removed due to missing genotype data (--mind).\n",
    "```"
   ]
  },
  {
   "cell_type": "code",
   "execution_count": null,
   "metadata": {
    "collapsed": true
   },
   "outputs": [],
   "source": [
    "# EC2 command line #\n",
    "\n",
    "for chr in {1..23};do\n",
    "    for ancestry in ${ancestry_list};do\n",
    "        final_dir=${base_dir}/impute_prep/${ancestry}\n",
    "        mkdir $final_dir\n",
    "        /shared/bioinformatics/software/third_party/plink-1.90-beta-4.10-x86_64/plink \\\n",
    "            --noweb \\\n",
    "            --memory 5000 \\\n",
    "            --bfile ${final_dir}/../${ancestry}_chr${chr}_for_phasing \\\n",
    "            --output-chr M \\\n",
    "            --set-hh-missing \\\n",
    "            --recode vcf bgz \\\n",
    "            --out ${final_dir}/${ancestry}_chr${chr}_final\n",
    "    done\n",
    "done"
   ]
  },
  {
   "cell_type": "markdown",
   "metadata": {},
   "source": [
    "Transfer the *.vcf.gz files to local machine (per chromosome) and then upload to MIS.\n",
    "```\n",
    "scp -i ~/.ssh/gwas_rsa ec2-user@34.206.166.72:/shared/jmarks/hiv/vidus/genotype/impute/processing/003/impute_prep/ea/*gz .\n",
    "```"
   ]
  },
  {
   "cell_type": "markdown",
   "metadata": {},
   "source": [
    "## Upload to Michigan Imputation Server (MIS)\n",
    "Note, it is best to upload the autosomes and chrX independently from each other; if one chromosome crashes then the entire job will fail.\n",
    "\n",
    "### Uploading parameters\n",
    "These are the parameters that were selected on MIS.\n",
    "\n",
    "__Name__: VIDUS_marks_qc_20190208\n",
    "\n",
    "__Reference Panel__ 1000G Phase 3 v5\n",
    "\n",
    "__Input Files__ File Upload <br>\n",
    "\n",
    "* Select Files - select VCF (.gz) files that were downloaded to local machine from cloud. <br>\n",
    "\n",
    "__Phasing__: ShapeIT v2.r790 (unphased) \n",
    "\n",
    "__Population__: EUR\n",
    "\n",
    "__Mode__: Quality Control & Imputation\n",
    "\n",
    "* I will not attempt to re-identify or contact research participants.\n",
    "* I will report any inadvertent data release, security breach or other data management incident of which I become aware."
   ]
  },
  {
   "cell_type": "markdown",
   "metadata": {},
   "source": [
    "# Download Imputed Results from MIS\n",
    "First, download the data form the Michigan Imputation Server (MIS) by clicking on the link provided in the email they send out to alert you that your data has finished. Here you will find commands for downloading the data.\n",
    "\n",
    "The zip files from Michigan Imputation Server (MIS) need to be inflated before you can begin working with them. They require a passcode that is sent by MIS to email.\n",
    "\n",
    "Then, inflate imputation results."
   ]
  },
  {
   "cell_type": "markdown",
   "metadata": {},
   "source": [
    "## EA\n",
    "### Autosomes"
   ]
  },
  {
   "cell_type": "code",
   "execution_count": null,
   "metadata": {},
   "outputs": [],
   "source": [
    "ancestry=ea\n",
    "passW=\"i2ikMTaOUj9Td$\"\n",
    "cd /shared/jmarks/hiv/vidus/genotype/impute/final/$ancestry/auto\n",
    "\n",
    "# bash script\n",
    "################################################################################\n",
    "# QC-results\n",
    " wget https://imputationserver.sph.umich.edu/share/results/db6ff65759a52629a98a8ef7347e1cae/qcreport.html\n",
    "\n",
    "# SNP Statistics\n",
    " wget https://imputationserver.sph.umich.edu/share/results/9833912b9bca5c2d4ef6f4f0c56f76ce/statistics.txt\n",
    "\n",
    "\n",
    "# Logs\n",
    "wget https://imputationserver.sph.umich.edu/share/results/d16683383b897f0595fa699ab4701d49/chr_1.log\n",
    "wget https://imputationserver.sph.umich.edu/share/results/61324872ab49c6258854865e0dd97983/chr_10.log\n",
    "wget https://imputationserver.sph.umich.edu/share/results/1f2ec453b2fe2c5c66951c558b321529/chr_11.log\n",
    "wget https://imputationserver.sph.umich.edu/share/results/a2b4613ffab2dea702cf557f5be5df9f/chr_12.log\n",
    "wget https://imputationserver.sph.umich.edu/share/results/8dbc8e218f3fdd0d8daff70ec9584bbb/chr_13.log\n",
    "wget https://imputationserver.sph.umich.edu/share/results/da09ded63240bc7ec1b25d1499d327be/chr_14.log\n",
    "wget https://imputationserver.sph.umich.edu/share/results/e085389e514d5ca45b26e7ab1f7a4aa6/chr_15.log\n",
    "wget https://imputationserver.sph.umich.edu/share/results/86618e84bdf8b66e3a5574fee3aebd14/chr_16.log\n",
    "wget https://imputationserver.sph.umich.edu/share/results/d8b0b924435442589d7b35bd84b0c256/chr_17.log\n",
    "wget https://imputationserver.sph.umich.edu/share/results/a814fd0edd6ed2c4903b74eb7af522b8/chr_18.log\n",
    "wget https://imputationserver.sph.umich.edu/share/results/de884f09772f691fe64fb6a7a804fd83/chr_19.log\n",
    "wget https://imputationserver.sph.umich.edu/share/results/a1bf834909b0ab47b1e0984f1b29004d/chr_2.log\n",
    "wget https://imputationserver.sph.umich.edu/share/results/5b6d83f20722c7bcab28d3f4584319fc/chr_20.log\n",
    "wget https://imputationserver.sph.umich.edu/share/results/8124b8f60738b484441688d948fb7c93/chr_21.log\n",
    "wget https://imputationserver.sph.umich.edu/share/results/29097fef87f5a487042e7cec9ce557c1/chr_22.log\n",
    "wget https://imputationserver.sph.umich.edu/share/results/b6cf95751033f16d29d48d452606fac/chr_3.log\n",
    "wget https://imputationserver.sph.umich.edu/share/results/9395b19aa1698836c160b1d2c3474db1/chr_4.log\n",
    "wget https://imputationserver.sph.umich.edu/share/results/4a2cf45d3b20230ab636b604631ca900/chr_5.log\n",
    "wget https://imputationserver.sph.umich.edu/share/results/3ba6c0a459147b02808d335477e2ed8a/chr_6.log\n",
    "wget https://imputationserver.sph.umich.edu/share/results/297f42cafe630f4d32353580061fe59a/chr_7.log\n",
    "wget https://imputationserver.sph.umich.edu/share/results/6988498cd4f208740b2c11fbacb2793d/chr_8.log\n",
    "wget https://imputationserver.sph.umich.edu/share/results/c89c83929edeae6673dba52c0bea84fd/chr_9.log\n",
    "\n",
    "\n",
    "# Imputation Results\n",
    "wget https://imputationserver.sph.umich.edu/share/results/58a7777e1e46e5a3f8ec4c82c28bc443/chr_1.zip\n",
    "wget https://imputationserver.sph.umich.edu/share/results/f80a30a996475edf9ed239cbf9d92ba1/chr_10.zip\n",
    "wget https://imputationserver.sph.umich.edu/share/results/17ef033d634dc1c5180e05060a0adbf9/chr_11.zip\n",
    "wget https://imputationserver.sph.umich.edu/share/results/bc7aed458198db05edc8892db1d17b45/chr_12.zip\n",
    "wget https://imputationserver.sph.umich.edu/share/results/2e175b75021f2fd4130accf0e937fba3/chr_13.zip\n",
    "wget https://imputationserver.sph.umich.edu/share/results/3d80c89175480da4f8da07d149f9e2bd/chr_14.zip\n",
    "wget https://imputationserver.sph.umich.edu/share/results/4887fa0c9524663e52c713e07d885488/chr_15.zip\n",
    "wget https://imputationserver.sph.umich.edu/share/results/58174f6a3dad7f72b083a4144d42a16b/chr_16.zip\n",
    "wget https://imputationserver.sph.umich.edu/share/results/935a4f7dfeb5e80f2297b57b30539fd1/chr_17.zip\n",
    "wget https://imputationserver.sph.umich.edu/share/results/e26d8cfadbf6ec8e55afb6401af10f6e/chr_18.zip\n",
    "wget https://imputationserver.sph.umich.edu/share/results/7b70f0e6f24eb7dd28a1ed4e12445d65/chr_19.zip\n",
    "wget https://imputationserver.sph.umich.edu/share/results/bd9342657a0f3e28137fd02f6b7aae3a/chr_2.zip\n",
    "wget https://imputationserver.sph.umich.edu/share/results/79b9444b0cac767b6cd3f4a0dacd1f9c/chr_20.zip\n",
    "wget https://imputationserver.sph.umich.edu/share/results/5fd700d2cc141735603be99f9329a534/chr_21.zip\n",
    "wget https://imputationserver.sph.umich.edu/share/results/c1375f9e6cc0c96e8e0b34d8dcb50dff/chr_22.zip\n",
    "wget https://imputationserver.sph.umich.edu/share/results/c191cdd8689bd9457c7df8e5e3aaac00/chr_3.zip\n",
    "wget https://imputationserver.sph.umich.edu/share/results/77219af4da5fa39575fd038f7da769a4/chr_4.zip\n",
    "wget https://imputationserver.sph.umich.edu/share/results/2ef544943ae73539fe8f950af8e96cf/chr_5.zip\n",
    "wget https://imputationserver.sph.umich.edu/share/results/f372dda74f12b5651b7bda7cd108ed5a/chr_6.zip\n",
    "wget https://imputationserver.sph.umich.edu/share/results/aab623d6a9116135ad977103baf3150c/chr_7.zip\n",
    "wget https://imputationserver.sph.umich.edu/share/results/3ba0c3646d2b0d890e324cbb329f7460/chr_8.zip\n",
    "wget https://imputationserver.sph.umich.edu/share/results/af952aef884a234569740fcce3421259/chr_9.zip\n",
    "\n",
    "\n",
    "################################################################################\n",
    "\n",
    "\n",
    "# paste code above into bash script \n",
    "/shared/bioinformatics/software/scripts/qsub_job.sh \\\n",
    "    --job_name ${ancestry}_impute_down_auto \\\n",
    "    --script_prefix ${ancestry}_impute_download_auto \\\n",
    "    --mem 6.8 \\\n",
    "    --nslots 1 \\\n",
    "    --priority 0 \\\n",
    "    --program bash download_auto\n",
    "\n",
    "# inflate chr results\n",
    "for file in *zip;do\n",
    "    /shared/bioinformatics/software/scripts/qsub_job.sh \\\n",
    "        --job_name ${ancestry}_unzip_auto \\\n",
    "        --script_prefix ${ancestry}_unzip_auto \\\n",
    "        --mem 6.8 \\\n",
    "        --nslots 1 \\\n",
    "        --priority 0 \\\n",
    "        --program unzip -P $passW $file\n",
    "done\n",
    "rm -rf *zip"
   ]
  },
  {
   "cell_type": "markdown",
   "metadata": {},
   "source": [
    "### chrX \n",
    "The zip files from Michigan Imputation Server (MIS) need to be inflated before you can begin working with them. They require a passcode that is sent by MIS to email.\n",
    "\n",
    "Then, inflate imputation results."
   ]
  },
  {
   "cell_type": "code",
   "execution_count": null,
   "metadata": {},
   "outputs": [],
   "source": [
    "passW=\"omZS0WOh)VdeT2\"\n",
    "ancestry=ea\n",
    "cd /shared/jmarks/hiv/vidus/genotype/impute/final/$ancestry/chrx\n",
    "\n",
    "# bash script\n",
    "################################################################################\n",
    "# QC-results\n",
    " wget https://imputationserver.sph.umich.edu/share/results/bd59e47457e5ef3e2df0276f7468a822/qcreport.html\n",
    "\n",
    "# SNP Statistics\n",
    " wget https://imputationserver.sph.umich.edu/share/results/859e69d7b121decef8cadd9c438678fc/statistics.txt\n",
    "\n",
    "# Logs\n",
    "wget https://imputationserver.sph.umich.edu/share/results/f64a6a8d68d20321986ba81e195e2e6/chr_X.no.auto_female.log\n",
    "wget https://imputationserver.sph.umich.edu/share/results/cb9d2166556b549cdeafc5ff762aeef6/chr_X.no.auto_male.log\n",
    "\n",
    "# Imputation Results\n",
    "wget https://imputationserver.sph.umich.edu/share/results/12957a26892de47840e5d1f592bc1f04/chr_X.no.auto_female.zip\n",
    "wget https://imputationserver.sph.umich.edu/share/results/b4a1fc9cc75dcf2a2a83f1902356aad4/chr_X.no.auto_male.zip\n",
    "################################################################################\n",
    "\n",
    "\n",
    "# paste code above into bash script called download_chrx\n",
    "/shared/bioinformatics/software/scripts/qsub_job.sh \\\n",
    "    --job_name ${ancestry}_impute_down \\\n",
    "    --script_prefix ${ancestry}_impute_download \\\n",
    "    --mem 6.8 \\\n",
    "    --nslots 1 \\\n",
    "    --priority 0 \\\n",
    "    --program bash download_chrx\n",
    "\n",
    "# inflate chr results\n",
    "for file in *zip;do\n",
    "    /shared/bioinformatics/software/scripts/qsub_job.sh \\\n",
    "        --job_name ${ancestry}_unzip_chrx \\\n",
    "        --script_prefix ${ancestry}_unzip_chrx \\\n",
    "        --mem 6.8 \\\n",
    "        --nslots 1 \\\n",
    "        --priority 0 \\\n",
    "        --program unzip -P $passW $file\n",
    "done\n",
    "\n",
    "rm -rf *zip"
   ]
  },
  {
   "cell_type": "markdown",
   "metadata": {},
   "source": [
    "# Upload to S3\n",
    "## autosomes"
   ]
  },
  {
   "cell_type": "code",
   "execution_count": null,
   "metadata": {},
   "outputs": [],
   "source": [
    "cd /shared/jmarks/hiv/vidus/genotype/impute/final/ea/auto\n",
    "\n",
    "/shared/bioinformatics/software/scripts/qsub_job.sh \\\n",
    "    --job_name ${ancestry}_upload_auto \\\n",
    "    --script_prefix ${ancestry}_upload_auto \\\n",
    "    --mem 6.8 \\\n",
    "    --nslots 1 \\\n",
    "    --priority 0 \\\n",
    "    --program aws s3 sync . s3://rti-hiv/vidus/data/genotype/imputed/"
   ]
  },
  {
   "cell_type": "markdown",
   "metadata": {},
   "source": [
    "## chrx"
   ]
  },
  {
   "cell_type": "code",
   "execution_count": null,
   "metadata": {},
   "outputs": [],
   "source": [
    "cd /shared/jmarks/hiv/vidus/genotype/impute/final/ea/chrx\n",
    "\n",
    "/shared/bioinformatics/software/scripts/qsub_job.sh \\\n",
    "    --job_name ${ancestry}_upload_chrx \\\n",
    "    --script_prefix ${ancestry}_upload_chrx \\\n",
    "    --mem 6.8 \\\n",
    "    --nslots 1 \\\n",
    "    --priority 0 \\\n",
    "    --program aws s3 sync . s3://rti-hiv/vidus/data/genotype/imputed/"
   ]
  }
 ],
 "metadata": {
  "kernelspec": {
   "display_name": "R",
   "language": "R",
   "name": "ir"
  },
  "language_info": {
   "codemirror_mode": "r",
   "file_extension": ".r",
   "mimetype": "text/x-r-source",
   "name": "R",
   "pygments_lexer": "r",
   "version": "3.5.1"
  },
  "toc": {
   "nav_menu": {},
   "number_sections": true,
   "sideBar": true,
   "skip_h1_title": false,
   "toc_cell": false,
   "toc_position": {},
   "toc_section_display": "block",
   "toc_window_display": false
  }
 },
 "nbformat": 4,
 "nbformat_minor": 2
}
