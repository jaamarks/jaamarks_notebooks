{
 "cells": [
  {
   "cell_type": "markdown",
   "metadata": {},
   "source": [
    "# VIDUS chr23 GWAS\n",
    "__Author__: Jesse Marks <br>\n",
    "**Date**: September 20, 2018 <br>\n",
    "**GitHub**: [Issue #98](https://github.com/RTIInternational/bioinformatics/issues/98#) <br>\n",
    "\n",
    "This document logs the steps taken to perform GWAS for HIV Acquisition on chrX of the dataset [VIDUS](https://www.bccsu.ca/vidus/). The starting point for this analysis is after quality control of observed genotypes and subsequently imputed on the Michigan Imputation Server. The quality controlled genotypes are oriented on the GRCh37 plus strand. \n",
    "\n",
    "## Software and tools\n",
    "The software and tools used for porcessing these data are\n",
    "* [Michigan Imputation Server](https://imputationserver.sph.umich.edu/index.html) (MIS)\n",
    "* [Amazon Web Services (AWS) - Cloud Computing Services](https://aws.amazon.com/)\n",
    "    * Linux AMI\n",
    "* [PLINK v1.90 beta 4.10](https://www.cog-genomics.org/plink/)\n",
    "* [bgzip](http://www.htslib.org/doc/tabix.html)\n",
    "* [BCF Tools](http://www.htslib.org/doc/bcftools.html)\n",
    "* Windows 10 with [Cygwin](https://cygwin.com/) installed\n",
    "* GNU bash version 4.2.46\n",
    "\n",
    "## Data retrieval and organization\n",
    "\n",
    "VIDUS <br>\n",
    "EA: start 17565; post missingness 16472; post HWE 16471\n",
    "\n",
    "Updated VIDUS chrX QC - new files located here: <br>\n",
    "https://rti-midas-data.s3.amazonaws.com/studies/vidus/observed/final/vidus.ea.chr23.bed <br>\n",
    "https://rti-midas-data.s3.amazonaws.com/studies/vidus/observed/final/vidus.ea.chr23.bim <br>\n",
    "https://rti-midas-data.s3.amazonaws.com/studies/vidus/observed/final/vidus.ea.chr23.fam <br>\n",
    "\n",
    "Imputed data located at:\n",
    "s3://rti-midas-data/studies/vidus/imputed/20180921"
   ]
  },
  {
   "cell_type": "markdown",
   "metadata": {},
   "source": [
    "### chrX Statistics Breakdown \n",
    "This table includes the initial number of variants in each study as well as the final number of variants in the intersection set. The `Variants Post-Filtering` is in referral to the filtering steps (1) remove discordant alleles & (2) removal of monomorphic variants.\n",
    "\n",
    "#### EA\n",
    "| Data Set      | Initial Variants (Post-QC)| Variants Post-Filtering  | Intersection     |\n",
    "|---------------|---------------------------|--------------------------|------------------|\n",
    "| VIDUS         |   16,471                  |  14,705                  | NA               |\n",
    "\n",
    "\n",
    " zcat chrX.no.auto_female.dose.vcf.gz | wc -l\n",
    "1825784\n",
    " zcat chrX.no.auto_male.dose.vcf.gz | wc -l\n",
    "1825786"
   ]
  },
  {
   "cell_type": "markdown",
   "metadata": {},
   "source": [
    "Download and process phenotype data.\n",
    "\n",
    "Note, the observed genotype data were already downloaded from: <br>\n",
    "`s3://rti-midas-data.s3.amazonaws.com/studies/vidus/observed/final/`"
   ]
  },
  {
   "cell_type": "code",
   "execution_count": null,
   "metadata": {},
   "outputs": [],
   "source": [
    "# create directory structure\n",
    "data_dir=/home/ec2-user/jmarks/sandbox/001\n",
    "processing_dir=/home/ec2-user/jmarks/sandbox/001\n",
    "study=vidus\n",
    "ancestry=ea\n",
    "mkdir -p ${data_dir}/phenotype/processing \n",
    "mkdir -p ${data_dir}/genotype/{observed,imputed} \n",
    "mkdir -p ${processing_dir}/eigenstrat/results\n",
    "\n",
    "# Download data (remove --dryrun to actually download)\n",
    "aws s3 sync s3://rti-hiv/vidas_data/phenotype/ ${data_dir}/phenotype --dryrun\n",
    "aws s3 sync s3://rti-midas-data/studies/vidus/imputed/20180921/ ${data_dir}/genotype/imputed/ --dryrun\n",
    "# had to convert this file to unix format - it was in dos\n",
    "aws s3 cp s3://rti-hiv/vidas_data/fang_processing/vidus_iid.txt ${data_dir}/phenotype # gwas_id --> iid"
   ]
  },
  {
   "cell_type": "markdown",
   "metadata": {},
   "source": [
    "# Prepare Files for ProbABEL\n",
    "## Phenotype"
   ]
  },
  {
   "cell_type": "markdown",
   "metadata": {},
   "source": [
    "* check the distribution of phenotypes and covariates in R at local machine"
   ]
  },
  {
   "cell_type": "code",
   "execution_count": 2,
   "metadata": {},
   "outputs": [
    {
     "data": {
      "text/plain": [
       "\n",
       "  0   1 \n",
       "685 253 "
      ]
     },
     "metadata": {},
     "output_type": "display_data"
    },
    {
     "data": {},
     "metadata": {},
     "output_type": "display_data"
    },
    {
     "data": {},
     "metadata": {},
     "output_type": "display_data"
    },
    {
     "data": {
      "image/png": "[encoded data removed]",
      "text/plain": [
       "plot without title"
      ]
     },
     "metadata": {},
     "output_type": "display_data"
    },
    {
     "data": {
      "image/png": "[encoded data removed]",
      "text/plain": [
       "plot without title"
      ]
     },
     "metadata": {},
     "output_type": "display_data"
    }
   ],
   "source": [
    "### R (local) ###\n",
    "setwd(\"C:/Users/jmarks/Desktop/Projects/HIV/vidus/\")\n",
    "pheno <- read.csv(\"GWAS-Cohort-n938_passed_g_qc_only_HIV status_baseline.csv\")\n",
    "\n",
    "library(lattice)\n",
    "\n",
    "gender <- rep(\"male\",dim(pheno)[1])\n",
    "gender[pheno$female==1] <- \"female\"\n",
    "\n",
    "table(pheno$hiv)\n",
    "\n",
    "hiv_status <- rep(\"No HIV\", dim(pheno)[1])\n",
    "hiv_status[pheno$hiv==1] <- \"HIV\"\n",
    "\n",
    "histogram( ~ ageatint | hiv_status, data=cbind(pheno,hiv_status))\n",
    "\n",
    "histogram( ~ gender | hiv_status, data=cbind(pheno,gender,hiv_status))"
   ]
  },
  {
   "cell_type": "markdown",
   "metadata": {},
   "source": [
    "### Filters\n",
    "* Intersecting genotypic and phenotypic data\n",
    "* remove subjects with any missing phenotype data (sex, status, etc)"
   ]
  },
  {
   "cell_type": "code",
   "execution_count": null,
   "metadata": {},
   "outputs": [],
   "source": [
    "### Bash ###\n",
    "geno_dir=/home/ec2-user/jmarks/sandbox/001/genotype\n",
    "pheno_dir=/home/ec2-user/jmarks/sandbox/001/phenotype\n",
    "processing_dir=/home/ec2-user/jmarks/sandbox/001/eigenstrat\n",
    "study=vidus\n",
    "ancestry=ea\n",
    "pheno_file=GWAS-Cohort-n938_passed_g_qc_only_HIV_status_baseline.csv\n",
    "chr=23\n",
    "\n",
    "# # split by chr\n",
    "# /shared/bioinformatics/software/third_party/plink-1.90-beta-4.10-x86_64/plink \\\n",
    "#     --noweb \\\n",
    "#     --chr $chr \\\n",
    "#     --bed vidus.ea.bed \\\n",
    "#     --bim vidus.ea.bim.bak \\\n",
    "#     --fam vidus.ea.fam \\\n",
    "#     --make-bed \\\n",
    "#     --out chr$chr\n",
    "\n",
    "\n",
    "## Create list of subjects who have both baseline HIV status and genotype info\n",
    "sed 's/,/\\t/g' ${pheno_dir}/${pheno_file}  > \\\n",
    "    ${pheno_dir}/pheno_hiv.txt\n",
    "# append iid column to pheno data. NOTE: \n",
    "    # I edited the vidus_iid.txt file so that the headers match with pheno_hiv.txt file.\n",
    "    # Namely, I edited \"GWAS_CODE\" to \"gwas_code\".\n",
    "awk 'NR==FNR {map[$1]=$2;next} {print $0\"\\t\"map[$1]}' \\\n",
    "    ${pheno_dir}/vidus_iid.txt  ${pheno_dir}/pheno_hiv.txt >\\\n",
    "    ${pheno_dir}/pheno_hiv_iid.txt\n",
    "\n",
    "awk  'NR==FNR{map[$1]=$2;next} ($5 in map){print map[$5],$5}' \\\n",
    "    ${geno_dir}/*.fam ${pheno_dir}/pheno_hiv_iid.txt > \\\n",
    "    ${pheno_dir}/pheno_geno_shared_iid.txt\n",
    "\n",
    "# Extract non-hispanic subjects who have both baseline HIV status and genotype info\n",
    "/shared/bioinformatics/software/third_party/plink-1.90-beta-4.10-x86_64/plink \\\n",
    "    --noweb \\\n",
    "    --bfile ${geno_dir}/vidus.ea.chr23 \\\n",
    "    --keep ${pheno_dir}/pheno_geno_shared_iid.txt \\\n",
    "    --make-bed \\\n",
    "    --out ${processing_dir}/${study}_${ancestry}"
   ]
  },
  {
   "cell_type": "code",
   "execution_count": null,
   "metadata": {},
   "outputs": [],
   "source": [
    "# remove heterozygous\n",
    "    /shared/bioinformatics/software/third_party/plink-1.90-beta-4.10-x86_64/plink \\\n",
    "    --noweb \\\n",
    "    --memory 4000 \\\n",
    "    --bfile vidus_ea1 \\\n",
    "    --set-hh-missing \\\n",
    "    --maf 0.000001 \\\n",
    "    --make-bed \\\n",
    "    --out vidus_ea2\n",
    "\n",
    "/shared/bioinformatics/software/third_party/plink-1.90-beta-4.10-x86_64/plink \\\n",
    "    --noweb \\\n",
    "    --memory 4000 \\\n",
    "    --bfile vidus_ea_high_ld_regions_removed_ld_pruned \\\n",
    "    --recode12 \\\n",
    "    --make-bed \\\n",
    "    --out tmp"
   ]
  },
  {
   "cell_type": "markdown",
   "metadata": {},
   "source": [
    "### PCA\n",
    "#### LD Prune"
   ]
  },
  {
   "cell_type": "code",
   "execution_count": null,
   "metadata": {},
   "outputs": [],
   "source": [
    "# data_dir=/home/ec2-user/jmarks/hiv/VIDUS/data\n",
    "# processing_dir=/home/ec2-user/jmarks/hiv/VIDUS/processing/eigenstrat\n",
    "study=vidus\n",
    "ancestry=ea\n",
    "# pheno_file=GWAS-Cohort-n938_passed_g_qc_only_HIV_status_baseline.csv\n",
    "# pheno_dir=${data_dir}/phenotype/processing\n",
    "# geno_dir=${data_dir}/genotype/observed\n",
    "\n",
    "# Generate list of SNPs in known high-LD regions\n",
    "perl -lane 'if (($F[0]==5 && $F[3] >= 43964243 && $F[3] <= 51464243) || ($F[0]==6 && $F[3] >= 24892021 && $F[3] <= 33392022) || ($F[0]==8 && $F[3] >= 7962590 && $F[3] <= 11962591) || ($F[0]==11 && $F[3] >= 45043424 && $F[3] <= 57243424)) { print $F[1].\"\\n\"; }' ${processing_dir}/*bim > \\\n",
    "  ${processing_dir}/${study}_${ancestry}_high_ld_regions_remove\n",
    "\n",
    "remove_file=${processing_dir}/${study}_${ancestry}_high_ld_regions_remove\n",
    "\n",
    "# Remove SNPs in known high-LD regions\n",
    "/shared/bioinformatics/software/third_party/plink-1.90-beta-4.10-x86_64/plink \\\n",
    "  --noweb \\\n",
    "  --bfile ${processing_dir}/${study}_${ancestry} \\\n",
    "  --exclude ${remove_file} \\\n",
    "  --make-bed \\\n",
    "  --out ${processing_dir}/${study}_${ancestry}_high_ld_regions_removed\n",
    "\n",
    "in_file=${processing_dir}/${study}_${ancestry}_high_ld_regions_removed\n",
    "\n",
    "# LD prune\n",
    "#for (( chr=1; chr<24; chr++ )); do\n",
    "#   /shared/bioinformatics/software/scripts/qsub_job.sh \\\n",
    "#     --job_name ${ancestry}_ld_$chr \\\n",
    "#     --script_prefix ${in_file}_${chr}_indep \\\n",
    "#     --mem 1.8 \\\n",
    "#     --priority 0 \\\n",
    "    --program /shared/bioinformatics/software/third_party/plink-1.90-beta-4.10-x86_64/plink \\\n",
    "        --noweb \\\n",
    "        --bfile ${in_file} \\\n",
    "        --indep-pairwise 1500 150 0.2 \\\n",
    "        --chr $chr \\\n",
    "        --out ${in_file}_${chr}_indep\n",
    "#done\n",
    "\n",
    "\"\"\"\n",
    "Pruned 11446 variants from chromosome 23, leaving 3259.\n",
    "Pruning complete.  11446 of 14705 variants removed.\n",
    "\"\"\"\n",
    "\n",
    "cat ${in_file}_*_indep.prune.in >  ${in_file}_indep.prune.in\n",
    "  \n",
    "/shared/bioinformatics/software/third_party/plink-1.90-beta-4.10-x86_64/plink \\\n",
    "    --noweb \\\n",
    "    --bfile ${in_file} \\\n",
    "    --extract ${in_file}_indep.prune.in \\\n",
    "    --make-bed \\\n",
    "    --out ${in_file}_ld_pruned\n",
    "\n",
    "/shared/bioinformatics/software/third_party/plink-1.90-beta-4.10-x86_64/plink \\\n",
    "    --noweb \\\n",
    "    --bfile vidus_ea_high_ld_regions_removed \\\n",
    "    --extract vidus_ea_high_ld_regions_removed_indep.prune.in \\\n",
    "    --make-bed \\\n",
    "    --out vidus_ea_high_ld_regions_removed_ld_pruned\n",
    "\n",
    "in_file=${in_file}_ld_pruned"
   ]
  },
  {
   "cell_type": "markdown",
   "metadata": {},
   "source": [
    "```wc -l *bim\n",
    "  16471 vidus_ea1.bim\n",
    "  16471 vidus_ea_high_ld_regions_removed.bim\n",
    "   3262 vidus_ea_high_ld_regions_removed_ld_pruned.bim\n",
    "```"
   ]
  },
  {
   "cell_type": "markdown",
   "metadata": {},
   "source": [
    "### Calculating PCs with smartpca (Run Eigenstrat)\n",
    "Rename BIM/FAM file IDs <br>\n",
    "BIM and FAM file IDs have the potential issue of being too long if encoded using the 1000 Genomes Phase 3 IMPUTE2 format. This will cause smartpca to throw an error. To resolve this the IDs are replaced by numeric values if needed."
   ]
  },
  {
   "cell_type": "code",
   "execution_count": null,
   "metadata": {},
   "outputs": [],
   "source": [
    "# processing_dir=/home/ec2-user/jmarks/hiv/VIDUS/processing/eigenstrat\n",
    "# study=vidus\n",
    "# ancestry=ea\n",
    "#in_file=/home/ec2-user/jmarks/hiv/VIDUS/processing/eigenstrat/vidus_ea_high_ld_regions_removed_ld_pruned\n",
    "\n",
    "echo -e \"\\n\\n======== ${ancestry} ========\\n\\n\"\n",
    "    awk '{ if(length($1)+length($2)>39){print $2} }' ${in_file}.fam | wc -l\n",
    "\"937\"\n",
    "    awk '{ if(length($2)>39){print $2} }' ${in_file}.bim | wc -l\n",
    "\"0\"\n",
    "\n",
    "# Rename FAM file IDs, make new FAM\n",
    "mv ${in_file}.fam ${in_file}.fam.bak\n",
    "awk '{$1=\"ID_\"NR; print $0}' ${in_file}.fam.bak > ${in_file}.fam\n",
    "# Set all phenotypes to control \n",
    "perl -i -lpe 's/\\S+$/1/;' ${in_file}.fam\n",
    "\n",
    "\n",
    "#in_file=/home/ec2-user/jmarks/hiv/VIDUS/association_tests/001/vidus_ea_high_ld_regions_removed_ld_pruned\n",
    "# Run smartpca\n",
    "/shared/bioinformatics/software/third_party/EIG-6.1.4/bin/smartpca.perl \\\n",
    "  -i ${in_file}.bed \\\n",
    "  -a tmpX.bim \\\n",
    "  -b ${in_file}.fam \\\n",
    "  -o ${processing_dir}/results/${study}_${ancestry}.pca \\\n",
    "  -p ${processing_dir}/results/${study}_${ancestry}.plot \\\n",
    "  -e ${processing_dir}/results/${study}_${ancestry}.eval \\\n",
    "  -l ${processing_dir}/results/${study}_${ancestry}.pca.log \\\n",
    "  -m 0\n",
    "\n",
    "\n",
    "# Extract top 10 EVs\n",
    "out_file=${in_file}.evecs\n",
    "echo \"FID IID EV1 EV2 EV3 EV4 EV5 EV6 EV7 EV8 EV9 EV10\" > $out_file\n",
    "tail -n +2 ${in_file}.pca.evec |\n",
    "  perl -lne 's/:/ /; @F=split; print join(\" \",$F[0],$F[1],$F[2],$F[3],$F[4],$F[5],$F[6],$F[7],$F[8],$F[9],$F[10],$F[11]);' >> $out_file\n",
    "\n",
    "# Convert back to original IDs\n",
    "mv $out_file $out_file.bak\n",
    "head -n 1 $out_file.bak > $out_file\n",
    "tail -n +2 $out_file.bak |\n",
    "  perl -lane '\n",
    "    BEGIN {\n",
    "      %idXref = ();\n",
    "      open(FAM,\"/shared/bioinformatics/ffang/vidus/processing/vidus.ea.high_ld_regions_removed.ld_pruned.fam.bak\");\n",
    "      while(<FAM>) {\n",
    "        @fields = split;\n",
    "        $fields[0] =~ /(\\d\\d\\d\\d)$/;\n",
    "        $idXref{int($1)} = $fields[0];\n",
    "      }\n",
    "      close FAM;\n",
    "    }\n",
    "    print join(\"\\t\",$idXref{int($F[0])},$idXref{int($F[1])},@F[2 .. @F]);\n",
    "    ' >> $out_file"
   ]
  },
  {
   "cell_type": "markdown",
   "metadata": {},
   "source": [
    "# Note that I should be doing all of this processing in a different dir\n",
    "Namely, I should be doing it in the develop dir or maybe a processing dir."
   ]
  },
  {
   "cell_type": "markdown",
   "metadata": {},
   "source": [
    "### Check the variance explained by PCs in R and Select PCs\n",
    "Only PCs explaining at least 75% variance are selected as covariates in later GWA\n",
    "\n",
    "Linear Regression model is used: $$HIV=PC1+PC2+...+PC10$$"
   ]
  },
  {
   "cell_type": "code",
   "execution_count": null,
   "metadata": {},
   "outputs": [],
   "source": []
  },
  {
   "cell_type": "code",
   "execution_count": null,
   "metadata": {},
   "outputs": [],
   "source": []
  },
  {
   "cell_type": "code",
   "execution_count": null,
   "metadata": {},
   "outputs": [],
   "source": []
  },
  {
   "cell_type": "code",
   "execution_count": null,
   "metadata": {},
   "outputs": [],
   "source": []
  },
  {
   "cell_type": "code",
   "execution_count": null,
   "metadata": {},
   "outputs": [],
   "source": []
  },
  {
   "cell_type": "code",
   "execution_count": null,
   "metadata": {},
   "outputs": [],
   "source": []
  },
  {
   "cell_type": "code",
   "execution_count": null,
   "metadata": {},
   "outputs": [],
   "source": []
  },
  {
   "cell_type": "markdown",
   "metadata": {},
   "source": [
    "## Genotype Data\n",
    "### combine imputed data\n",
    "MIS splits the male and female data. We will combine these data back.\n",
    "\n",
    "female: `1825771`<br>\n",
    "male: `1825773`\n",
    "\n",
    "**Why discordance in variant count?**\n",
    "* which variants?"
   ]
  },
  {
   "cell_type": "code",
   "execution_count": null,
   "metadata": {},
   "outputs": [],
   "source": []
  },
  {
   "cell_type": "code",
   "execution_count": null,
   "metadata": {},
   "outputs": [],
   "source": []
  },
  {
   "cell_type": "code",
   "execution_count": null,
   "metadata": {},
   "outputs": [],
   "source": []
  },
  {
   "cell_type": "markdown",
   "metadata": {},
   "source": [
    "# Sandbox"
   ]
  },
  {
   "cell_type": "code",
   "execution_count": null,
   "metadata": {},
   "outputs": [],
   "source": [
    "perl /shared/bioinformatics/software/third_party/EIG-6.1.4/bin/smartpca.perl \\\n",
    "  -i tmp.bed \\\n",
    "  -a tmpX.bim \\\n",
    "  -b tmp.fam \\\n",
    "  -o results/my.pca \\\n",
    "  -p results/my.plot \\\n",
    "  -e results/my.eval \\\n",
    "  -l results/my.pca.log \\\n",
    "  -m 0\n"
   ]
  },
  {
   "cell_type": "code",
   "execution_count": null,
   "metadata": {},
   "outputs": [],
   "source": [
    "\n",
    "\n",
    "\n",
    "\n",
    "\n",
    "\n",
    "\n",
    "\n",
    "\n",
    "\n",
    "\n",
    "\n",
    "\n",
    "\n",
    "\n",
    "\n",
    "\n",
    "\n",
    "\n",
    "\n",
    "\n",
    "\n",
    "\n",
    "\n",
    "\n",
    "\n",
    "\n",
    "\n",
    "\n",
    "\n",
    "\n",
    "\n",
    "\n",
    "\n"
   ]
  }
 ],
 "metadata": {
  "kernelspec": {
   "display_name": "R",
   "language": "R",
   "name": "ir"
  },
  "language_info": {
   "codemirror_mode": "r",
   "file_extension": ".r",
   "mimetype": "text/x-r-source",
   "name": "R",
   "pygments_lexer": "r",
   "version": "3.4.3"
  },
  "toc": {
   "nav_menu": {},
   "number_sections": true,
   "sideBar": true,
   "skip_h1_title": false,
   "toc_cell": false,
   "toc_position": {},
   "toc_section_display": "block",
   "toc_window_display": false
  }
 },
 "nbformat": 4,
 "nbformat_minor": 2
}
