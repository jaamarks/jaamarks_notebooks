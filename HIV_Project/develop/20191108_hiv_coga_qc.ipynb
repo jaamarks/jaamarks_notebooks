{
 "cells": [
  {
   "cell_type": "markdown",
   "metadata": {},
   "source": [
    "# COGA Genotype Quality Control Data Processing\n",
    "\n",
    "**Author:** Jesse Marks\n",
    "\n",
    "**GitHub Issue**: [#133](https://github.com/RTIInternational/bioinformatics/issues/133)\n",
    "\n",
    "This notebook documents the steps taken to process the subjects from the [Collaborative Study on the Genetics of Alcoholism (COGA)](https://www.ncbi.nlm.nih.gov/projects/gap/cgi-bin/study.cgi?study_id=phs001208.v2.p1). The starting place is downloading the genotype data and prepare it for imputation and ultimately a GWAS by running the data through our QC pipeline. We will combine these HIV controls with the [Centers for AIDS Research (CFAR)](https://www.ncbi.nlm.nih.gov/projects/gap/cgi-bin/study.cgi?study_id=phs001788.v1.p1&phv=404381&phd=&pha=&pht=8818&phvf=12&phdf=&phaf=&phtf=&dssp=1&consent=&temp=1) data.\n",
    "\n",
    "**S3 Location**: These data were retrieved from AWS S3: <br>\n",
    "* `s3://rti-common/dbGaP/phs001208_coga`\n",
    "\n",
    "**Genotype Array**: Smokescreen (Affymetrix based). Note that for the Axiom product line, the annotations are fixed on the plus strand of the reference genome.  "
   ]
  },
  {
   "cell_type": "markdown",
   "metadata": {},
   "source": [
    "**The software and tools needed for this analysis are:**\n",
    "\n",
    "* [Docker](https://www.docker.com/)\n",
    "* [Aspera Connect](https://downloads.asperasoft.com/en/downloads/8?list)\n",
    "* [Michigan Imputation Server (MIS)](https://imputationserver.sph.umich.edu/index.html#!pages/home)\n",
    "* [PLINK v1.9](https://www.cog-genomics.org/plink/1.9/)\n",
    "* AWS EC2\n",
    "* SRA toolkit\n",
    "* STRUCTURE\n",
    "* KING"
   ]
  },
  {
   "cell_type": "markdown",
   "metadata": {},
   "source": [
    "## Data Acquisition\n",
    "We downloaded these data from dbGaP with Aspera Connect using the PI Eric Otto Johnson's authorized access information. We then decrypted the data with the sratoolkit.\n",
    "\n",
    "### Download Aspera Connect\n",
    "Aspera Connect is needed to download the data from dbGaP. We follow the directions at [this GitHub repo](https://gist.github.com/mfansler/71f09c8b6c9a95ec4e759a8ffc488be3)."
   ]
  },
  {
   "cell_type": "code",
   "execution_count": null,
   "metadata": {},
   "outputs": [],
   "source": [
    "cd /shared/jmarks/bin\n",
    "\n",
    "## Check for latest link: http://downloads.asperasoft.com/en/downloads/8?list\n",
    "wget -qO- https://download.asperasoft.com/download/sw/connect/3.9.6/ibm-aspera-connect-3.9.6.173386-linux-g2.12-64.tar.gz |\\\n",
    "    tar xvz\n",
    "\n",
    "## run it\n",
    "chmod +x ibm-aspera-connect-3.9.6.173386-linux-g2.12-64.sh\n",
    "./ibm-aspera-connect-3.9.6.173386-linux-g2.12-64.sh\n",
    "\n",
    "## add it to the path now and in the future\n",
    "export PATH=$PATH:~/.aspera/connect/bin/\n",
    "echo 'export PATH=$PATH:~/.aspera/connect/bin/' >> ~/.bash_profile"
   ]
  },
  {
   "cell_type": "markdown",
   "metadata": {},
   "source": [
    "### Download Data "
   ]
  },
  {
   "cell_type": "code",
   "execution_count": null,
   "metadata": {},
   "outputs": [],
   "source": [
    "cd /shared/jmarks/proj/hiv/coga\n",
    "\n",
    "\"$HOME/.aspera/connect/bin/ascp\" -QTr -l 300M -k 1 -i \\\n",
    "    \"$HOME/.aspera/connect/etc/asperaweb_id_dsa.openssh\" -W\\\n",
    "    A5084DD91DFF041519231D049C022E63F895A5F06A9924D54BB098AB432CDB68714C9C12312B848A694B4A6052A685AF6D \\\n",
    "    dbtest@gap-upload.ncbi.nlm.nih.gov:data/instant/cloviseoj/70568 ."
   ]
  },
  {
   "cell_type": "markdown",
   "metadata": {},
   "source": [
    "### Decrypt Data\n",
    "These are NCBI encrypted data and therefore need to be decyrpted. We use the sratoolkit to decrypt the data. A guide explaining the steps to download dbGaP data using the SRA toolkit can be found [here](https://trace.ncbi.nlm.nih.gov/Traces/sra/sra.cgi?view=toolkit_doc&f=dbgap_use). In short, you need to:\n",
    "\n",
    "* download the dbGaP repository key\n",
    "* configure sratoolkit to point to this key\n",
    "* decrypt the data"
   ]
  },
  {
   "cell_type": "code",
   "execution_count": null,
   "metadata": {},
   "outputs": [],
   "source": [
    "## Download project key from dbGaP authorized access\n",
    "\n",
    "## upload key to EC2 instance\n",
    "scp -i ~/.ssh/gwas_rsa prj_2556.ngc   ec2-user@54.84.72.140:/shared/jmarks/ncbi/dbGaP-2556/\n",
    "\n",
    "## configure sratoolkit\n",
    "/shared/bioinformatics/software/third_party/sratoolkit.2.8.2-1-centos_linux64/bin/vdb-config -i\n",
    "\n",
    "## In order to access the projects data, you will need to change directory or \"cd\" to the project's workspace.\n",
    "cd /shared/jmarks/ncbi/dbGaP-2556/\n",
    "/shared/bioinformatics/software/third_party/sratoolkit.2.8.2-1-centos_linux64/bin/vdb-decrypt -q \\\n",
    "    /shared/jmarks/proj/hiv/coga/70568 &"
   ]
  },
  {
   "cell_type": "markdown",
   "metadata": {},
   "source": [
    "### Upload to S3"
   ]
  },
  {
   "cell_type": "code",
   "execution_count": null,
   "metadata": {},
   "outputs": [],
   "source": [
    "cd /shared/jmarks/proj/hiv/coga/70568/PhenoGenotypeFiles\n",
    "aws s3 sync . s3://rti-common/dbGaP/phs001208/"
   ]
  },
  {
   "cell_type": "markdown",
   "metadata": {},
   "source": [
    "# Phenotype Processing\n",
    "TBT"
   ]
  },
  {
   "cell_type": "code",
   "execution_count": null,
   "metadata": {},
   "outputs": [],
   "source": [
    "# rename phenotype data and move to processing directory\n",
    "for file in *; do \n",
    "    mv $file  $(echo $file | perl -pi -e s/.+Screen_//)\n",
    "done"
   ]
  },
  {
   "cell_type": "markdown",
   "metadata": {},
   "source": [
    "# Genotype Processing\n",
    "Once converting the data to PLINK format, the genotype processing workflow on the `observed` genotypes is as follows:\n",
    "\n",
    "1) Remove probe sets that do not have a dbSNP rsID annotation and convert Illumina probe IDs to rsIDs. Remove subjects that do not pass initial phenotype filtering\n",
    "\n",
    "2) Update genome build and dbSNP build\n",
    "\n",
    "3) Partition data by ancestry. Subsequent steps are performed by ancestry\n",
    "\n",
    "4) Remove subjects with data missing for whole autosomes. Subsequent steps up to 16 are performed using autosomes only.\n",
    "\n",
    "5) Remove duplicates for rsIDs\n",
    "\n",
    "6) Set genotypes to positive strand orientation\n",
    "\n",
    "7) Run STRUCTURE to detect and remove subjects that are ancestral outliers\n",
    "\n",
    "8) Calculate genotype missing call rate. Filter variants with high missing call rates\n",
    "\n",
    "9) Calculate Hardy-Weinberg (HW) equilibrium for each variant. Filter variants by HW p-values\n",
    "\n",
    "10) Remove subjects with high missing genotype call rates (as pre-processing for LD pruning)\n",
    "\n",
    "11) Apply linkage disequilibrium pruning (as pre-processing for steps 12 and 13)\n",
    "\n",
    "12) Check for sample duplications and monozygotic twins using identical-by-state estimates\n",
    "\n",
    "13) Check relatedness using identical-by-descent estimates\n",
    "\n",
    "14) Use KING for calculating IBD for African ancestry subjects\n",
    "\n",
    "15) Repeat steps 4, 5, 6, 7 (use pre-calculated remove list), 8, and 9 for chrX. Merge autosomes with chrX\n",
    "\n",
    "16) Remove subjects that meet relatedness filtering criteria\n",
    "\n",
    "17) Repeat step 10 with all chromosomes\n",
    "\n",
    "18) Apply linkage disequilibrium pruning (as pre-processing for steps 18 and 19)\n",
    "\n",
    "19) Remove subjects exhibiting sex discordance\n",
    "\n",
    "20) Remove subjects exhibiting excessive homozygosity\n",
    "\n",
    "21) Recode variants in relation to 1000 Genomes phase 3 reference panel. Remove discordant alleles\n",
    "\n",
    "Many of these steps are done using PLINK commands that update the binary filesets. Generally, each time a new binary fileset is created, text files containing identifiers for what to include or exclude are provided. Consequently, much of the data processing emphasizes creating these text files to be used with PLINK. Note: PLINK has a specific order of operations. Be sure to note this when combining commands and filtering steps."
   ]
  },
  {
   "cell_type": "markdown",
   "metadata": {},
   "source": [
    "## Pre-STRUCTURE Analysis\n",
    "Gathering initial information. Note that the flip file was created using the SNP annotation information found in the file `Marker_info/Axiom_Smokesc1.na34.annot.csv` file."
   ]
  },
  {
   "cell_type": "code",
   "execution_count": null,
   "metadata": {},
   "outputs": [],
   "source": [
    "### bash ###\n",
    "study=coga\n",
    "version=005 #version incase you need to redo the gc at some point\n",
    "\n",
    "procD=/shared/jmarks/hiv/$study/genotype/observed/processing/$version # processing directory\n",
    "mkdir -p /shared/jmarks/hiv/$study/phenotype/{final,processing,unprocessed}\n",
    "mkdir -p /shared/jmarks/hiv/$study/genotype/observed/{final,processing,unprocessed}\n",
    "mkdir -p $procD/{prestructure,structure,post_structure}\n",
    "mkdir -p $procD/prestructure/{autosomes,chrx,gw}\n",
    "mkdir -p $procD/structure/{1000g_data,input_files,output_files,triangle_plots/filtered}\n",
    "mkdir -p $procD/structure/1000g_data/{AFR,EAS,EUR}\n",
    "mkdir -p $procD/post_structure/1000g_name_recoding/1000g_data\n",
    "\n",
    "anlist=\"ea\" # ancestry list (just enter ea if not sure which ancestries groups are in your data)\n",
    "gcr=0.03 # genotype call-rate threshold filter (typically 0.03 but sometimes 0.10) \n",
    "hwe=0.0001 # hardy weinberg equilibrium threshold (typically 0.0001)\n",
    "#flipFile=/shared/common/chip_info/InfiniumOmniExpress-24v1-2_A1/InfiniumOmniExpress-24v1-2_A1-b37.top_to_plus.flip"
   ]
  },
  {
   "cell_type": "code",
   "execution_count": null,
   "metadata": {},
   "outputs": [],
   "source": [
    "# download, rename, and move genotype data to processing directory\n",
    "cd /shared/jmarks/hiv/coga/genotype/observed/unprocessed/\n",
    "aws s3 cp s3://rti-common/dbGaP/phs001208_coga/RootStudyConsentSet_phs001208.COGA_SmokeScreen.v1.p1.c1.DS-ADX-IRB/GenotypeFiles/phg000985.v1.NIDA_COGA_SmokeScreen.genotype-calls-matrixfmt.c1.DS-ADX-IRB.tar .\n",
    "tar -xvf phg000985.v1.NIDA_COGA_SmokeScreen.genotype-calls-matrixfmt.c1.DS-ADX-IRB.tar --directory $procD/prestructure/\n",
    "gunzip -r $procD/prestructure/phg000985.v1.NIDA_COGA_SmokeScreen.genotype-calls-matrixfmt.c1/subject_level_PLINK_sets/*{fam.gz,bim.gz,bed.gz}\n",
    "\n",
    "for file in $procD/prestructure/phg000985.v1.NIDA_COGA_SmokeScreen.genotype-calls-matrixfmt.c1/subject_level_PLINK_sets/*{bed,bim,fam}; do\n",
    "    ext=${file:3,-3} \n",
    "    cp $file $procD/prestructure/$study.$ext\n",
    "done\n",
    "\n",
    "wc -l $procD/prestructure/$study.{bim,fam}"
   ]
  },
  {
   "cell_type": "markdown",
   "metadata": {},
   "source": [
    "```\n",
    "  581036 /shared/jmarks/hiv/coga/genotype/observed/processing/005/prestructure/coga.bim\n",
    "    5415 /shared/jmarks/hiv/coga/genotype/observed/processing/005/prestructure/coga.fam\n",
    "```"
   ]
  },
  {
   "cell_type": "markdown",
   "metadata": {},
   "source": [
    "### Convert Markername to rsid\n",
    "Convert the ax-id (affymetrix chip to rsid). This information is provided in the `Axiom_Smokesc1.na34.annot.csv`"
   ]
  },
  {
   "cell_type": "code",
   "execution_count": null,
   "metadata": {},
   "outputs": [],
   "source": [
    "annF=/shared/common/chip_info/Axiom_Smokesc1_na34/axiom_smokesc1.na34.annot.csv\n",
    "conversionF=$procD/prestructure/axiom_smokesc1_na34_affy_to_rsid.tsv\n",
    "\n",
    "# create markername conversion file\n",
    "tail -n +21 $annF | \\\n",
    "    awk -F\",\" \\\n",
    "        ' BEGIN{OFS=\"\\t\"}\n",
    "        function GSUB(F) \\\n",
    "        {gsub(/\"/, \"\", $F)} \\\n",
    "        {GSUB( 1 ); GSUB( 3 )}\\\n",
    "        {print $1,$3}' > $conversionF\n",
    "\n",
    "# convert Affx-ID to rs-ID\n",
    "docker run -v $procD/prestructure/:/data/ \\\n",
    "    rticode/plink:1.9 plink \\\n",
    "        --bfile /data/$study \\\n",
    "        --update-name /data/axiom_smokesc1_na34_affy_to_rsid.tsv \\\n",
    "        --make-bed \\\n",
    "        --out /data/${study}_rsid"
   ]
  },
  {
   "cell_type": "code",
   "execution_count": null,
   "metadata": {},
   "outputs": [],
   "source": [
    "# remove SNPs that did not have rsID after conversion\n",
    "grep rs $procD/prestructure/${study}_rsid.bim  |\\\n",
    "    cut -f2 > $procD/prestructure/keep_rsid.txt\n",
    "\n",
    "docker run -v $procD/prestructure/:/data/ \\\n",
    "    rticode/plink:1.9 plink \\\n",
    "        --bfile /data/${study}_rsid \\\n",
    "        --extract /data/keep_rsid.txt \\\n",
    "        --make-bed \\\n",
    "        --out /data/${study}_rsid_only\n",
    "\n",
    "wc -l $procD/prestructure/${study}_rsid_only.bim"
   ]
  },
  {
   "cell_type": "markdown",
   "metadata": {},
   "source": [
    "```\n",
    "568167 /shared/jmarks/hiv/coga/genotype/observed/processing/005/prestructure/coga_rsid_only.bim\n",
    "```"
   ]
  },
  {
   "cell_type": "markdown",
   "metadata": {},
   "source": [
    "### Add Sex info \n",
    "[HWE is typically applied to only females](https://www.ncbi.nlm.nih.gov/pubmed/27071844), therefore that is the approach we will take.\n",
    "\n",
    "Plink format:\n",
    "```\n",
    "Sex code ('1' = male, '2' = female, '0' = unknown)\n",
    "```\n",
    "\n",
    "**Note**: The sex information is already coded."
   ]
  },
  {
   "cell_type": "code",
   "execution_count": null,
   "metadata": {},
   "outputs": [],
   "source": [
    "## add sex information to fam file\n",
    "#cut -f2,4 /shared/jmarks/hiv/vidus/genotype/observed/unprocessed/Eric_Johnson_OmniExpress_re-analysis_A1_Manifest_QC-REPORT_AUG2017.txt > $procD/sex_info.txt\n",
    "#awk '{if ($2==\"Male\") {$2=1} else {$2=2} {print $0}}' sex_info.txt | tail -n +2 > $procD/sex_info.mapped.txt\n",
    "#awk 'FNR==NR{map[$1]=$2;next} {$5=map[$1];print $0}' sex_info.mapped.txt ea/chrX/vidus.dbsnp138.b37.structure.variant_missing_lte_0.03_filter.fam \\\n",
    "#    > ea/chrX/vidus.dbsnp138.b37.structure.variant_missing_lte_0.03_filter.mapped.fam"
   ]
  },
  {
   "cell_type": "markdown",
   "metadata": {},
   "source": [
    "### Convert to foward (plus) strand\n",
    "We may need to obtain a flip file associated with the genotype chip the samples were processed on. Use [this website](https://www.well.ox.ac.uk/~wrayner/strand/) to find information on a particular chip. Create a flip file from this information. See [SNPedia - Orientation](https://www.snpedia.com/index.php/Orientation) for more information about SNP strand orientation. You may see the terms strand and orientation used interchangably.\n",
    "\n",
    "<br>\n",
    "\n",
    "**Note**: for this cohort we do not have to flip to the forward strand because they are all already oriented on the forward strand.\n",
    "\n",
    "```\n",
    "5. Strand (+|-)\n",
    "\n",
    "      The strand (of the reference genome) where the SNP is\n",
    "      mapped. This information may not be the same as that of\n",
    "      dbSNP for the same SNP. For the Axiom product line, the\n",
    "      annotations are fixed on the plus strand of the reference genome.\n",
    "      Thus, for Axiom arrays, this value should always be \"+\", unless the\n",
    "      SNP is unmapped, in which case the value is \"---\".\n",
    "```"
   ]
  },
  {
   "cell_type": "code",
   "execution_count": null,
   "metadata": {},
   "outputs": [],
   "source": [
    "## Flip ##\n",
    "#/shared/bioinformatics/software/third_party/plink-1.90-beta-4.10-x86_64/plink \\\n",
    "#    --noweb \\\n",
    "#    --bfile $procD/prestructure/$study.no_controls \\\n",
    "#    --flip $flipFile \\\n",
    "#    --make-bed \\\n",
    "#    --out $procD/prestructure/$study.no_controls.plus"
   ]
  },
  {
   "cell_type": "markdown",
   "metadata": {},
   "source": [
    "### Update dbSNP and genome build\n",
    "To ensure that all of the variant and genomic data are in dbSNP 138 and genome build 37 format, ID and position mappers are used to make data updates.\n",
    "\n",
    "#### Update to dbSNP138\n",
    "\n",
    "**Note** according to the annotation information for these data (`Axiom_Smokesc1.na34.annot.csv`), we are already in build 37 (hg19) so no conversion is necessary."
   ]
  },
  {
   "cell_type": "code",
   "execution_count": null,
   "metadata": {},
   "outputs": [],
   "source": [
    "## use a compute node with larger memory or risk freezing master node\n",
    "aws s3 sync s3://rti-common/snp_id_conversion/b138 \\\n",
    "    /shared/common/snp_id_conversion/b138\n",
    "gunzip /shared/common/snp_id_conversion/b138/old_to_current.xref.gz\n",
    "\n",
    "docker run -v $procD/prestructure/:/data/ \\\n",
    "           -v /shared/common/snp_id_conversion/b138/:/data/db/ \\\n",
    "    rticode/plink:1.9 plink \\\n",
    "        --bfile /data/${study}_rsid_only \\\n",
    "        --update-name /data/db/old_to_current.xref \\\n",
    "        --make-bed \\\n",
    "        --out /data/${study}_rsid_only_db138\n",
    "\n",
    "#### Update name to dbSNP 144 ##\n",
    "#mv $procD/prestructure/${study}_rsid_only.bim \\\n",
    "#    $procD/prestructure/${study}_rsid_only_old.bim \n",
    "\n",
    "\n",
    "#/shared/bioinformatics/software/scripts/qsub_job.sh \\\n",
    "#    --job_name update144 \\\n",
    "#    --script_prefix $procD/prestructure/update_to_dbsnp144 \\\n",
    "#    --mem 3.8 \\\n",
    "#    --priority 0 \\\n",
    "#    --program   \n",
    "#perl -lane \\\n",
    "#    'BEGIN {\n",
    "#    %xref = ();\n",
    "#    open(XREF, \"/shared/common/snp_id_conversion/b144/old_to_current.xref\");\n",
    "#    while(<XREF>) {\n",
    "#        chomp;\n",
    "#        @fields = split;\n",
    "#        $xref{$fields[0]} = $fields[1];\n",
    "#        }\n",
    "#    close XREF;\n",
    "#    }\n",
    "#    if (exists($xref{$F[1]})) {\n",
    "#        print join(\"\\t\", $F[0], $xref{$F[1]}, @F[2 .. 5]);\n",
    "#    } else {\n",
    "#        print join(\"\\t\", @F);\n",
    "#    }' $procD/prestructure/${study}_rsid_only_old.bim >  $procD/prestructure/${study}_rsid_only.bim \n",
    "#\n",
    "#\n",
    "### check for duplicate rsIDs\n",
    "### Append _X (where X is a number) to the end of the rs IDs for all but 1st occurrence of duplicates\n",
    "#perl -lane 'BEGIN { %idCounts = (); }\n",
    "#                    if (exists($idCounts{$F[1]})) {\n",
    "#                        $idCounts{$F[1]}++;\n",
    "#                        print join(\"\\t\",$F[0],$F[1].\"_\".$idCounts{$F[1]},$F[2],$F[3],$F[4],$F[5]);\n",
    "#                    } else {\n",
    "#                        $idCounts{$F[1]} = 1;\n",
    "#                        print;\n",
    "#                    } ' $procD/prestructure/${study}_rsid_only.bim >\\\n",
    "#                        $procD/prestructure/${study}_rsid_only_renamed.bim\n",
    "#\n",
    "#grep -P \"_\\d\" $procD/prestructure/${study}_rsid_only_renamed.bim | \\\n",
    "#    perl -lane 'print substr($F[1], 0, index($F[1],\"_\")).\"\\n\".$F[1];' \\\n",
    "#    > $procD/prestructure/${study}_rsid_only_renamed.duplicate_snps\n",
    "#\n",
    "#wc -l $procD/prestructure/${study}_rsid_only_renamed.duplicate_snps\n",
    "#\"\"\"\n",
    "#0 /shared/jmarks/hiv/cfar/genotype/observed/processing/006/prestructure/cfar_rsid_only_renamed.duplicate_snps\n",
    "#\"\"\"\n",
    "\n",
    "## check for an rsIDs\n",
    "#grep rs *snps\n",
    "\n",
    "## make remove list with simply ---\n",
    "#echo \"---\" > remove.list\n",
    "## these were the snps that didn't have an equivalent rsID so they were not given an ID\n",
    "\n",
    "\n",
    "## remove those non rsID snps\n",
    "#/shared/bioinformatics/software/third_party/plink-1.90-beta-4.10-x86_64/plink \\\n",
    "#   --bfile $procD/prestructure/${study}_rsid \\\n",
    "#   --exclude $procD/prestructure/remove.list \\\n",
    "#   --make-bed \\\n",
    "#   --out $procD/prestructure/${study}_rsid_clean\n",
    "\n",
    "\n",
    "### Update name to dbSNP 138 ##\n",
    "#/shared/bioinformatics/software/third_party/plink-1.90-beta-4.10-x86_64/plink \\\n",
    "#    --noweb \\\n",
    "#    --memory 2048 \\\n",
    "#    --bfile $study.no_controls.plus \\\n",
    "#    --update-name /shared/common/snp_id_conversion/b138/old_to_current.xref \\\n",
    "#    --make-bed \\\n",
    "#    --out $study.no_controls.plus.db138\n",
    "#\n",
    "## check for duplicate rsIDs\n",
    "## Append _X (where X is a number) to the end of the rs IDs for all but 1st occurrence of duplicates\n",
    "#perl -lane 'BEGIN { %idCounts = (); }\n",
    "#                    if (exists($idCounts{$F[1]})) {\n",
    "#                        $idCounts{$F[1]}++;\n",
    "#                        print join(\"\\t\",$F[0],$F[1].\"_\".$idCounts{$F[1]},$F[2],$F[3],$F[4],$F[5]);\n",
    "#                    } else {\n",
    "#                        $idCounts{$F[1]} = 1;\n",
    "#                        print;\n",
    "#                    } ' $study.no_controls.plus.db138.bim > $study.no_controls.plus.db138.renamed.bim\n",
    "#\n",
    "#grep -P \"_\\d\" $study.no_controls.plus.db138.renamed.bim | \\\n",
    "#    perl -lane 'print substr($F[1], 0, index($F[1],\"_\")).\"\\n\".$F[1];' \\\n",
    "#    > $study.no_controls.plus.db138.renamed.duplicate_snps\n",
    "#\n",
    "#wc -l $study.no_controls.plus.db138.renamed.duplicate_snps\n",
    "#\"0\"\n",
    "#\n",
    "## Get call rates for duplicate SNPs\n",
    "#/shared/bioinformatics/software/third_party/plink-1.90-beta-4.10-x86_64/plink \\\n",
    "#            --bed genotypes_duplicates_removed_rsid_update.bed \\\n",
    "#            --bim genotypes_duplicates_removed_rsid_update_renamed.bim \\\n",
    "#            --fam genotypes_duplicates_removed_rsid_update.fam \\\n",
    "#            --extract genotypes_duplicates_removed_rsid_update_renamed.duplicate_snps \\\n",
    "#            --missing \\\n",
    "#            --out genotypes_duplicates_removed_rsid_update.duplicate_snps.missing\n",
    "#\n",
    "## Create remove list for duplicates containing duplicate with higher missing rate\n",
    "#tail -n +2 genotypes_duplicates_removed_rsid_update.duplicate_snps.missing.lmiss |\\\n",
    "#perl -lane 'BEGIN { %missingness = (); }\n",
    "#                        if ($F[1] =~ /^(\\S+)_/) {\n",
    "#                            $duplicateName = $1\n",
    "#                        } else {\n",
    "#                            $duplicateName = $F[1].\"_2\";\n",
    "#                        }\n",
    "#                        if (exists($missingness{$duplicateName})) {\n",
    "#                            if ($missingness{$duplicateName} > $F[4]) {\n",
    "#                                print $duplicateName;\n",
    "#                            } else {\n",
    "#                                print $F[1];\n",
    "#                            }\n",
    "#                        } else {    \n",
    "#                            $missingness{$F[1]} = $F[4];\n",
    "#                        }' > genotypes_duplicates_removed_rsid_update.duplicate_snps.remove\n",
    "#\n",
    "## Remove duplicates with higher missing rate\n",
    "#/shared/bioinformatics/software/third_party/plink-1.90-beta-4.10-x86_64/plink \\\n",
    "#   --bed genotypes_duplicates_removed_rsid_update.bed \\\n",
    "#   --bim genotypes_duplicates_removed_rsid_update_renamed.bim \\\n",
    "#   --fam genotypes_duplicates_removed_rsid_update.fam \\\n",
    "#   --exclude genotypes_duplicates_removed_rsid_update.duplicate_snps.remove \\\n",
    "#   --make-bed \\\n",
    "#   --out genotypes_duplicates_removed_rsid_update_duplicates_removed\n",
    "#\n",
    "## Remove \"_X\" from rs IDs\n",
    "#perl -i.bak -lne 's/_\\d\\t/\\t/; print;'  genotypes_duplicates_removed_rsid_update_duplicates_removed.bim\n",
    "#"
   ]
  },
  {
   "cell_type": "markdown",
   "metadata": {},
   "source": [
    "#### Update to genome build (37)\n",
    "To ensure that all of the population controls have variant and genomic data in dbSNP 138 and genome build 37 format, I use ID and position mappers to make the updates."
   ]
  },
  {
   "cell_type": "code",
   "execution_count": null,
   "metadata": {},
   "outputs": [],
   "source": [
    "## update to GRCh37 ##\n",
    "\n",
    "# Update variant chr\n",
    "/shared/bioinformatics/software/third_party/plink-1.90-beta-4.10-x86_64/plink \\\n",
    "    --noweb \\\n",
    "    --memory 2048 \\\n",
    "    --bfile $procD/prestructure/${study}_rsid_only_db138 \\\n",
    "    --update-chr /shared/common/build_conversion/b37/dbsnp_b138/uniquely_mapped_snps.chromosomes \\\n",
    "    --make-bed \\\n",
    "    --out $procD/prestructure/${study}_rsid_only_db138_chr37\n",
    "\n",
    "#Update variant chr coordinate\n",
    "/shared/bioinformatics/software/third_party/plink-1.90-beta-4.10-x86_64/plink \\\n",
    "    --bfile $procD/prestructure/${study}_rsid_only_db138_chr37 \\\n",
    "    --update-map /shared/common/build_conversion/b37/dbsnp_b138/uniquely_mapped_snps.positions \\\n",
    "    --make-bed \\\n",
    "    --out $procD/prestructure/${study}_rsid_only_db138_chr37_position37\n",
    "\n",
    "# Filter to only build 37 uniquely mapped variants\n",
    "/shared/bioinformatics/software/third_party/plink-1.90-beta-4.10-x86_64/plink \\\n",
    "    --bfile $procD/prestructure/${study}_rsid_only_db138_chr37_position37 \\\n",
    "    --extract /shared/common/build_conversion/b37/dbsnp_b138/uniquely_mapped_snps.ids \\\n",
    "    --make-bed \\\n",
    "    --out $procD/prestructure/${study}_rsid_only_db138_chr37_position37_uniq37"
   ]
  },
  {
   "cell_type": "markdown",
   "metadata": {},
   "source": [
    "```\n",
    "ww *bim\n",
    "   581036 coga.bim\n",
    "   581036 coga_rsid.bim\n",
    "   568167 coga_rsid_only.bim\n",
    "   568167 coga_rsid_only_db138.bim\n",
    "   568167 coga_rsid_only_db138_chr37.bim\n",
    "   568167 coga_rsid_only_db138_chr37_position37.bim\n",
    "   567891 coga_rsid_only_db138_chr37_position37_uniq37.bim\n",
    "```"
   ]
  },
  {
   "cell_type": "markdown",
   "metadata": {},
   "source": [
    "### Ancestry partitioning\n",
    "We will treat all of the subjects as Eur subjects until after we perform the Structure analysis."
   ]
  },
  {
   "cell_type": "code",
   "execution_count": null,
   "metadata": {},
   "outputs": [],
   "source": [
    "#for an in $anlist;do\n",
    "#    mkdir $procD/$an\n",
    "#    cp $procD/genomewide/$study.dbsnp138.b37* $procD/$an\n",
    "#done\n",
    "\n",
    "### code below was from another study but we will not have to use in this case.\n",
    "\n",
    "## Construct a subject ID list for each ancestry group\n",
    "#tail -n +12 ../../../phenotype/processing/Subject_Phenotypes.DS-ADX-IRB-NPU.txt | \\\n",
    "#    awk '{ FS=\"\\t\"; OFS=\"\\t\" } { if($5==\"African_American\"){print 0,$2} }' >  ../../../phenotype/processing/aa_subject_ids.txt\n",
    "#\n",
    "#tail -n +12 ../../../phenotype/processing/Subject_Phenotypes.DS-ADX-IRB-NPU.txt | \\\n",
    "#    awk '{ FS=\"\\t\"; OFS=\"\\t\" } { if($5==\"Hispanic\"){print 0,$2} }' > ../../../phenotype/processing/ha_subject_ids.txt\n",
    "#\n",
    "#tail -n +12 ../../../phenotype/processing/Subject_Phenotypes.DS-ADX-IRB-NPU.txt | \\\n",
    "#    awk '{ FS=\"\\t\"; OFS=\"\\t\" } { if($5==\"White\"){print 0,$2} }' > ../../../phenotype/processing/ea_subject_ids.txt\n",
    "#\n",
    "## Make new binary filesets for each ancestry group\n",
    "#for ancestry in {aa,ha,ea}; do\n",
    "#    echo -e \"\\n\\n ================ ${ancestry} ================\\n\\n\"\n",
    "#    mkdir ${ancestry}\n",
    "#    /shared/bioinformatics/software/third_party/plink-1.90-beta-4.10-x86_64/plink \\\n",
    "#      --bfile genotypes_b37_dbsnp138 \\\n",
    "#      --keep ../../../phenotype/processing/${ancestry}_subject_ids.txt \\\n",
    "#      --make-bed \\\n",
    "#      --out ${ancestry}/genotypes_b37_dbsnp138\n",
    "#done\n"
   ]
  },
  {
   "cell_type": "markdown",
   "metadata": {},
   "source": [
    "### Partition into autosome and chrX groups\n",
    "I apply QC to autosomes and chrX separately, so separate subdirectories are created for the processing of each set."
   ]
  },
  {
   "cell_type": "code",
   "execution_count": null,
   "metadata": {},
   "outputs": [],
   "source": [
    "## copy genome-wide to respective directory ##\n",
    "for ext in {fam,bed,bim}; do\n",
    "    cp $procD/prestructure/${study}_rsid_only_db138_chr37_position37_uniq37.$ext \\\n",
    "        $procD/prestructure/gw/$study.$ext\n",
    "done\n",
    "\n",
    "wc -l $procD/prestructure/gw/*{bim,fam}\n"
   ]
  },
  {
   "cell_type": "markdown",
   "metadata": {},
   "source": [
    "```\n",
    "  567891 /shared/jmarks/hiv/coga/genotype/observed/processing/005/prestructure/gw/coga.bim\n",
    "    5415 /shared/jmarks/hiv/coga/genotype/observed/processing/005/prestructure/gw/coga.fam\n",
    "```"
   ]
  },
  {
   "cell_type": "code",
   "execution_count": null,
   "metadata": {},
   "outputs": [],
   "source": [
    "# Autosomes\n",
    "docker run -v $procD/prestructure/:/data/ \\\n",
    "rticode/plink:1.9 plink \\\n",
    "    --bfile /data/gw/$study \\\n",
    "    --autosome \\\n",
    "    --make-bed \\\n",
    "    --out /data/autosomes/$study\n",
    "\n",
    "# ChrX\n",
    "docker run -v $procD/prestructure/:/data/ \\\n",
    "rticode/plink:1.9 plink \\\n",
    "    --bfile /data/gw/$study \\\n",
    "    --chr 23 \\\n",
    "    --make-bed \\\n",
    "    --out /data/chrx/$study\n",
    "\n",
    "# get SNP counts\n",
    "wc -l $procD/prestructure/{autosomes,chrx}/*bim"
   ]
  },
  {
   "cell_type": "markdown",
   "metadata": {},
   "source": [
    "```\n",
    "  553902 /shared/jmarks/hiv/coga/genotype/observed/processing/005/prestructure/autosomes/coga.bim\n",
    "   12408 /shared/jmarks/hiv/coga/genotype/observed/processing/005/prestructure/chrx/coga.bim\n",
    "```"
   ]
  },
  {
   "cell_type": "markdown",
   "metadata": {},
   "source": [
    "### Missing autosome data subject filtering\n",
    "We calculate the proportion of missing genotype calls per chromosome using PLINK to assess whether any subjects have data missing for whole autosomes."
   ]
  },
  {
   "cell_type": "code",
   "execution_count": null,
   "metadata": {},
   "outputs": [],
   "source": [
    "## missing autosome data subject filtering ##\n",
    "for chr in {1..22}; do\n",
    "    /shared/bioinformatics/software/scripts/qsub_job.sh \\\n",
    "        --job_name chr${chr}_test \\\n",
    "        --script_prefix $procD/prestructure/autosomes/chr${chr}_missing_call_rate \\\n",
    "        --mem 3.8 \\\n",
    "        --priority 0 \\\n",
    "        --program docker run -v \"$procD/prestructure/:/data/\" \\\n",
    "            rticode/plink:1.9 plink \\\n",
    "                --bfile /data/autosomes/$study \\\n",
    "                --missing \\\n",
    "                --chr $chr \\\n",
    "                --out /data/autosomes/chr${chr}_missing_call_rate\n",
    "done"
   ]
  },
  {
   "cell_type": "code",
   "execution_count": null,
   "metadata": {},
   "outputs": [],
   "source": [
    "# if the missing call rate is 1 (i.e. all data was missing for that chromosome)\n",
    "for chr in {1..22}; do\n",
    "    tail -n +2 $procD/prestructure/autosomes/chr${chr}_missing_call_rate.imiss | \\\n",
    "    awk '{ OFS=\"\\t\" } { if($6==1){ print $1,$2 } }' >>\\\n",
    "        $procD/prestructure/autosomes/missing_whole_autosome.remove\n",
    "done\n",
    "\n",
    "cat $procD/prestructure/autosomes/missing_whole_autosome.remove"
   ]
  },
  {
   "cell_type": "markdown",
   "metadata": {},
   "source": [
    "For this case, no subjects were flagged as having missing autosome data. If subjects ever show up as having missing autosome data then further discussions need to be had on whether these subjects should be removed completely or whether they should only be excluded for the missing chromosomes."
   ]
  },
  {
   "cell_type": "markdown",
   "metadata": {},
   "source": [
    "##  STRUCTURE Analysis—Detecting ancestral outliears \n",
    "[STRUCTURE](https://web.stanford.edu/group/pritchardlab/structure.html) is a software tool that can be used to identify admixed individuals, among other uses. By comparing the study subjects with reference panel populations such as HapMap or 1000 Genomes, we can estimate the composition of an individual's ancestry to determine any discrepancies between self-reporting and genetic information. For this study data, we will be comparing the individuals to 3 different superpopulations from the 1000 Genomes Phase 3 reference panel\n",
    "\n",
    "* AFR (African)\n",
    "* EAS (East Asian)\n",
    "* EUR (European)\n",
    "\n",
    "**SNP subset selection**\n",
    "For computational efficiency 10,000 SNPs are randomly chosen from the intersection of SNPs in the study data with the 3 1000 Genomes superpopulations of interest. As of 10/09/2017 the binary filesets per chromosome in PLINK format for 1000G Phase 3 can be found in \n",
    "`/shared/data/ref_panels/1000G/2013.05/plink`. According to the [1000 Genomes paper](https://www.ncbi.nlm.nih.gov/pmc/articles/PMC4750478/).\n",
    "\n",
    "**NOTE:** The location `/shared/data/ref_panels/1000G/2014.10/1000GP_Phase3` also contatins 1000G phase 3 data derived from the May 2013 release. The difference is that it was downloaded from the [IMPUTE2 website](https://mathgen.stats.ox.ac.uk/impute/1000GP_Phase3.html) and reformatted to be directly compatible with IMPUTE2."
   ]
  },
  {
   "cell_type": "code",
   "execution_count": null,
   "metadata": {},
   "outputs": [],
   "source": [
    "# Get lists of non-A/T and non-C/G SNPs\n",
    "docker run -i -v $procD/prestructure/autosomes:/data perl:5.30.0 \\\n",
    "    perl -lane 'if (($F[4] eq \"A\" && ($F[5] eq \"C\" || $F[5] eq \"G\")) ||\n",
    "        ($F[4] eq \"T\" && ($F[5] eq \"C\" || $F[5] eq \"G\")) ||\n",
    "        ($F[4] eq \"C\" && ($F[5] eq \"A\" || $F[5] eq \"T\")) || \n",
    "        ($F[4] eq \"G\" && ($F[5] eq \"A\" || $F[5] eq \"T\"))) { print $F[1]; }' \\\n",
    "    /data/$study.bim | \\\n",
    "    sort -u | \\\n",
    "    grep \"rs\" > $procD/structure/${study}_no_at_cg_snps.txt \n",
    "\n",
    "\n",
    "wc -l $procD/structure/${study}_no_at_cg_snps.txt"
   ]
  },
  {
   "cell_type": "markdown",
   "metadata": {},
   "source": [
    "```\n",
    "468672 /shared/jmarks/hiv/coga/genotype/observed/processing/005/structure/coga_no_at_cg_snps.txt\n",
    "```"
   ]
  },
  {
   "cell_type": "code",
   "execution_count": null,
   "metadata": {},
   "outputs": [],
   "source": [
    "## Get list of variants from 1000G\n",
    "aws s3 cp s3://rti-common/ref_panels/1000G/2013.05/1000g_phase3_snps.txt.gz $procD/structure/1000g_data/\n",
    "gunzip $procD/structure/1000g_data/1000g_phase3_snps.txt.gz\n",
    "\n",
    "# Get SNP overlap between study data and 1000G\n",
    "comm -12 $procD/structure/${study}_no_at_cg_snps.txt $procD/structure/1000g_data/1000g_phase3_snps.txt >\\\n",
    "    $procD/structure/${study}_1000g_shared_snps.txt \n",
    "\n",
    "#gzip $procD/structure/1000g_data/1000g_phase3_snps.txt &\n",
    "wc -l $procD/structure/${study}_1000g_shared_snps.txt "
   ]
  },
  {
   "cell_type": "markdown",
   "metadata": {},
   "source": [
    "```\n",
    " 455807 /shared/jmarks/hiv/coga/genotype/observed/processing/005/structure/coga_1000g_shared_snps.txt\n",
    "```"
   ]
  },
  {
   "cell_type": "code",
   "execution_count": null,
   "metadata": {},
   "outputs": [],
   "source": [
    "# Select 10,000 random SNPs from study and 1000G overlap\n",
    "docker run -i -v \"$procD/structure/:/data/\" -w \"/data/\" perl:5.30.0 \\\n",
    "    perl -ne  'print rand().\"\\t\".$_'\\\n",
    "        ${study}_1000g_shared_snps.txt | \\\n",
    "        sort -k1,1 | \\\n",
    "        head -10000 | \\\n",
    "        cut -f2,2 \\\n",
    "        > $procD/structure/10k_snp_random_sample.txt "
   ]
  },
  {
   "cell_type": "markdown",
   "metadata": {},
   "source": [
    "### Extract SNP subset PLINK binary filesets for Study data"
   ]
  },
  {
   "cell_type": "code",
   "execution_count": null,
   "metadata": {},
   "outputs": [],
   "source": [
    "# Create ped and map files for study genotype data for SNP subset\n",
    "docker run -v $procD/:/data/ rticode/plink:1.9 \\\n",
    "    plink \\\n",
    "    --bfile /data/prestructure/autosomes/$study \\\n",
    "    --extract /data/structure/10k_snp_random_sample.txt \\\n",
    "    --snps-only just-acgt \\\n",
    "    --recode \\\n",
    "    --out /data/structure/${study}_10k_snp_random_sample\n",
    "\n",
    "wc -l $procD/structure/${study}_10k_snp_random_sample.map"
   ]
  },
  {
   "cell_type": "markdown",
   "metadata": {},
   "source": [
    "```\n",
    "10000 \n",
    "```"
   ]
  },
  {
   "cell_type": "markdown",
   "metadata": {},
   "source": [
    "### Extract SNP subset PLINK binary filesets for 1000G data\n",
    "\n",
    "The 05/2013 release of the 1000 Genomes data have been previously processed and converted to PLINK binary fileset format, but the files include all the 1000G individuals. We are interested in only four superpopulations, so we create filesets specifically for each of these groups. It was brought to my attention that 1000G Phase 3 rsIDs may be duplicated across chromosomes potentially causing chromosome merging issues. For that reason, it is typically recommended to process the chromosomes separately initially, then combine post SNP subsetting. Subject IDs with superpopulation classifications are available at:\n",
    "\n",
    "`/shared/data/ref_panels/1000G/igsr_samples.tsv`"
   ]
  },
  {
   "cell_type": "code",
   "execution_count": null,
   "metadata": {},
   "outputs": [],
   "source": [
    "## Get subject IDs by ancestry (superpopulations) ##\n",
    "## EAS ##\n",
    "aws s3 cp s3://rti-common/ref_panels/1000G/populations_1000G/super/EAS.fam.gz \\\n",
    "    $procD/structure/1000g_data/EAS/\n",
    "gunzip $procD/structure/1000g_data/EAS/EAS.fam.gz\n",
    "\n",
    "## EUR ##\n",
    "aws s3 cp s3://rti-common/ref_panels/1000G/populations_1000G/super/EUR.fam.gz \\\n",
    "    $procD/structure/1000g_data/EUR/\n",
    "gunzip $procD/structure/1000g_data/EUR/EUR.fam.gz\n",
    "\n",
    "## AFR ##\n",
    "aws s3 cp s3://rti-common/ref_panels/1000G/populations_1000G/super/AFR.fam.gz \\\n",
    "    $procD/structure/1000g_data/AFR/\n",
    "gunzip $procD/structure/1000g_data/AFR/AFR.fam.gz"
   ]
  },
  {
   "cell_type": "code",
   "execution_count": null,
   "metadata": {},
   "outputs": [],
   "source": [
    "# Make new binary filesets for each 1000G group\n",
    "# only keeping the data from individuals which are from 1 of the three super populations\n",
    "for pop in {AFR,EAS,EUR}; do\n",
    "    for chr in {1..22}; do\n",
    "        /shared/bioinformatics/software/scripts/qsub_job.sh \\\n",
    "            --job_name ${pop}_${chr}_filter \\\n",
    "            --script_prefix $procD/structure/1000g_data/${pop}/ancestry_partition_chr${chr} \\\n",
    "            --mem 15.5 \\\n",
    "            --priority 0 \\\n",
    "            --program docker run -v \"$procD/structure/:/data/\"  \\\n",
    "                                 -v \"/shared/data/ref_panels/1000G/2013.05/plink/:/data/plink/\" \\\n",
    "                  rticode/plink:1.9 plink \\\n",
    "                --bfile /data/plink/ALL.chr${chr} \\\n",
    "                --keep /data/1000g_data/${pop}/$pop.fam \\\n",
    "                --extract /data/10k_snp_random_sample.txt \\\n",
    "                --make-bed \\\n",
    "                --out /data/1000g_data/${pop}/${pop}_chr${chr}_10k_snp_random_sample\n",
    "    done\n",
    "done"
   ]
  },
  {
   "cell_type": "code",
   "execution_count": null,
   "metadata": {},
   "outputs": [],
   "source": [
    "# 10K sample\n",
    "# Create merge lists and merge autosomes for each 1000G population\n",
    "for pop in {AFR,EAS,EUR}; do\n",
    "    for chr in {1..22}; do\n",
    "        echo \"/data/1000g_data/${pop}/${pop}_chr${chr}_10k_snp_random_sample\" \\\n",
    "        >> $procD/structure/1000g_data/${pop}/${pop}_autosome_merge_list.txt\n",
    "    done\n",
    "done\n",
    "\n",
    "\n",
    "for pop in {AFR,EAS,EUR}; do\n",
    "    /shared/bioinformatics/software/scripts/qsub_job.sh \\\n",
    "        --job_name ${pop}_merge_plink_filesets \\\n",
    "        --script_prefix $procD/structure/1000g_data/${pop}/merge_plink_filesets \\\n",
    "        --mem 4 \\\n",
    "        --priority 0 \\\n",
    "        --program docker run -v \"$procD/structure/:/data/\" rticode/plink:1.9 plink \\\n",
    "            --memory 4000 \\\n",
    "            --merge-list /data/1000g_data/${pop}/${pop}_autosome_merge_list.txt \\\n",
    "            --snps-only just-acgt \\\n",
    "            --make-bed \\\n",
    "            --out /data/1000g_data/${pop}/${pop}_all_autosomes_10k_snp_random_sample\n",
    "done"
   ]
  },
  {
   "cell_type": "markdown",
   "metadata": {},
   "source": [
    "### Discrepancy assessment between Study and 1000G data\n",
    "As a quality check that the SNP data subsampled from the study data and 1000 Genomes data are the same, I will attempt to merge an arbitrarily selected group from each data set using PLINK. If any errors are found, PLINK will generate an error file. Likely causes of errors would be:\n",
    "\n",
    "* SNP genomic coordinates not matching\n",
    "* SNP duplicates found\n",
    "* SNP strand orientation flipped\n",
    "\n",
    "If errors are found the two options for moving forward are\n",
    "\n",
    "1. Re-run the 10,000 SNP subsampling and hope the SNPs chosen do not raise issues\n",
    "2. Remove the problematic SNPs"
   ]
  },
  {
   "cell_type": "code",
   "execution_count": null,
   "metadata": {},
   "outputs": [],
   "source": [
    "# Merge EA and EUR genotype files\n",
    "# --merge-mode 7 (no merge) Report mismatching nonmissing calls.\n",
    "docker run -v $procD/structure/:/data/ rticode/plink:1.9 plink \\\n",
    "    --file /data/${study}_10k_snp_random_sample \\\n",
    "    --bmerge /data/1000g_data/EUR/EUR_all_autosomes_10k_snp_random_sample \\\n",
    "    --merge-mode 7 \\\n",
    "    --out /data/1000g_EUR_${study}_10k_snp_random_sample\n",
    "\n",
    "if [ -f $procD/structure/1000g_EUR_${study}_10k_snp_random_sample.missnp ]; then\n",
    "    echo -e \"\\n\\nmerge was unsuccessful.\"\n",
    "else \n",
    "    echo -e \"\\n\\nmerge was a success\"\n",
    "    # creating a dummy file for subsequent processing\n",
    "    touch $procD/structure/1000g_EUR_${study}_10k_snp_random_sample.missnp\n",
    "fi"
   ]
  },
  {
   "cell_type": "markdown",
   "metadata": {},
   "source": [
    "```\n",
    "merge was a success.\n",
    "```"
   ]
  },
  {
   "cell_type": "markdown",
   "metadata": {},
   "source": [
    "### STRUCTURE input file construction"
   ]
  },
  {
   "cell_type": "code",
   "execution_count": null,
   "metadata": {},
   "outputs": [],
   "source": [
    "## EC2 console ##\n",
    "\n",
    "# Create final ped and map files for study genotype data for SNP subset\n",
    "docker run -v \"$procD/:/data/\" rticode/plink:1.9 plink \\\n",
    "    --memory 3000 \\\n",
    "    --bfile /data/prestructure/autosomes/$study \\\n",
    "    --extract /data/structure/10k_snp_random_sample.txt \\\n",
    "    --exclude /data/structure/1000g_EUR_${study}_10k_snp_random_sample.missnp \\\n",
    "    --snps-only just-acgt \\\n",
    "    --recode \\\n",
    "    --out /data/structure/${study}_10k_snp_random_sample.final\n",
    "\n",
    "# Create ped and map files for each 1000G population\n",
    "for pop in {AFR,EAS,EUR}; do\n",
    "    docker run -v \"$procD/structure/:/data/\" rticode/plink:1.9 plink \\\n",
    "        --bfile /data/1000g_data/${pop}/${pop}_all_autosomes_10k_snp_random_sample \\\n",
    "        --exclude /data/1000g_EUR_${study}_10k_snp_random_sample.missnp \\\n",
    "        --recode \\\n",
    "        --out /data/1000g_data/${pop}_10k_snp_random_sample.final\n",
    "done\n",
    "\n",
    "# Final check for SNP discrepancies\n",
    "docker run -v \"$procD/structure/:/data\" rticode/plink:1.9 plink \\\n",
    "    --noweb \\\n",
    "    --file /data/${study}_10k_snp_random_sample.final \\\n",
    "    --merge /data/1000g_data/EUR_10k_snp_random_sample.final \\\n",
    "    --recode \\\n",
    "    --out /data/structure_input_test_10\n",
    "\n",
    "wc -l  $procD/structure/*.map"
   ]
  },
  {
   "cell_type": "markdown",
   "metadata": {},
   "source": [
    "```\n",
    " 10000 /shared/jmarks/hiv/coga/genotype/observed/processing/005/structure/coga_10k_snp_random_sample.final.map\n",
    " 10000 /shared/jmarks/hiv/coga/genotype/observed/processing/005/structure/structure_input_test_10.map\n",
    "```"
   ]
  },
  {
   "cell_type": "markdown",
   "metadata": {},
   "source": [
    "No merging issues were identified in the final check, so I will use the script ped2structure.pl to convert the PED file into a STRUCTURE input file format. This script takes two inputs. The first is an integer that serves as an ID to distinguish between a reference panel population or a study data set group. The second input is an integer that is unique to each group/population regardless of whether it's from the study or 1000G data.\n",
    "\n",
    "The goal of the conversion script is to generate a single STRUCTURE input file containing genotype information for the ~10,000 (post-filtered) subsampled SNPs and the individuals from the study and 1000G data sets. Documentation on the format can be found [here](https://web.stanford.edu/group/pritchardlab/structure_software/release_versions/v2.3.4/structure_doc.pdf). The first three columns contatin the following information respectively\n",
    "\n",
    "1. Subject identifier\n",
    "2. Group/population identifier. Distinct for each ancestry group or superpopulation\n",
    "3. Boolean indicator (1=True, 0=False) specifying reference panel populations. This is used by STRUCTURE to define the ancestry groups\n",
    "\n",
    "We will be running structure assuming that the study subjects descended from three populations. The traditional approach would be to use AFR, EAS, and EUR. I will run STRUCTURE using these 1000G superpopulations.\n",
    "\n",
    "Note: for $K$ reference panel populations used for ancestry comparisons, the reference panel populations must be given group IDs between 1 and $K$."
   ]
  },
  {
   "cell_type": "code",
   "execution_count": null,
   "metadata": {},
   "outputs": [],
   "source": [
    "groupID=1 #distinguish between all groups\n",
    "\n",
    "# Append 1000G populations to STRUCTURE file\n",
    "truncate -s 0 $procD/structure/input_files/input_afr_eas_eur\n",
    "for pop in {AFR,EAS,EUR}; do\n",
    "    cat $procD/structure/1000g_data/${pop}_10k_snp_random_sample.final.ped | \\\n",
    "    /shared/bioinformatics/software/perl/file_conversion/ped2structure.pl 1 ${groupID} \\\n",
    "    >> $procD/structure/input_files/input_afr_eas_eur\n",
    "    groupID=`echo ${groupID} + 1 | bc`\n",
    "done\n",
    "\n",
    "# Append study data to STRUCTURE file\n",
    "cat $procD/structure/${study}_10k_snp_random_sample.final.ped | \\\n",
    "    /shared/bioinformatics/software/perl/file_conversion/ped2structure.pl 0 ${groupID} \\\n",
    "    >> $procD/structure/input_files/input_afr_eas_eur"
   ]
  },
  {
   "cell_type": "markdown",
   "metadata": {},
   "source": [
    "### Run STRUCTURE\n",
    "For running STRUCTURE, the following command line parameters are explicitly specified\n",
    "\n",
    "* m - Main parameter file\n",
    "* e - Additional parameter file\n",
    "* i - Input data file\n",
    "* o - Output file\n",
    "* L - Number of loci in data file\n",
    "* N - Number of subjects\n",
    "* K - Maximum number of populations\n",
    "\n",
    "The remaining parameters are specified in the mainparams and extraparams files. Any values specified on the command-line override the values in the configuration files. Documentation on the parameter options can be found [here](https://web.stanford.edu/group/pritchardlab/structure_software/release_versions/v2.3.4/structure_doc.pdf).\n",
    "\n",
    "Because I am using combinations of three from the five 1000G superpopulations, I will run STRUCTURE for each of these combinations."
   ]
  },
  {
   "cell_type": "code",
   "execution_count": null,
   "metadata": {},
   "outputs": [],
   "source": [
    "L=$(wc -l $procD/structure/${study}_10k_snp_random_sample.final.map | \\\n",
    "    docker run -i perl:5.30.0 perl -lane 'print $F[0];')\n",
    "N=$(wc -l $procD/structure/input_files/input_afr_eas_eur | \\\n",
    "    docker run -i perl:5.30.0 perl -lane 'print $F[0]/2;')\n",
    "\n",
    "### Run Structure using AFR, EAS, and EUR ##\n",
    "#bash /shared/bioinformatics/software/scripts/qsub_job.sh \\\n",
    "#    --job_name $study.structure \\\n",
    "#    --script_prefix $procD/structure/output_files/structure_afr_eas_eur \\\n",
    "#    --mem 10 \\\n",
    "#    --nslots 1 \\\n",
    "#    --priority 0 \\\n",
    "#    --program docker run -v \"/$procD/structure/:/data/\" rticode/structure:2.3.4 /opt/structure \\\n",
    "#         -m /opt/data/mainparams.rti \\\n",
    "#         -e /opt/data/extraparams.rti \\\n",
    "#         -i /data/input_files/input_afr_eas_eur \\\n",
    "#         -o /data/output_files/output_afr_eas_eur \\\n",
    "#         -L $L \\\n",
    "#         -N $N \\\n",
    "#         -K 3 \n",
    "\n",
    "\n",
    "/shared/bioinformatics/software/scripts/qsub_job.sh \\\n",
    "    --job_name $study.10k.structure \\\n",
    "    --script_prefix $procD/structure/output_files/structure_afr_eas_eur \\\n",
    "    --mem 10 \\\n",
    "    --priority 0 \\\n",
    "    --program /shared/bioinformatics/software/third_party/structure_v2.3.4/console/structure \\\n",
    "         -m /shared/bioinformatics/software/third_party/structure_v2.3.4/console/mainparams \\\n",
    "         -e /shared/bioinformatics/software/third_party/structure_v2.3.4/console/extraparams \\\n",
    "         -i $procD/structure/input_files/input_afr_eas_eur \\\n",
    "         -o $procD/structure/output_files/output_afr_eas_eur \\\n",
    "         -L $L \\\n",
    "         -N $N \\\n",
    "         -K 3 \\\n",
    "         -D 1570044612 "
   ]
  },
  {
   "cell_type": "markdown",
   "metadata": {},
   "source": [
    "### Producing triangle plots\n",
    "[Triangle or ternary plots](https://en.wikipedia.org/wiki/Ternary_plot) provide a means to visualize membership strength. For the purposes of the Kreek data, the triangle plots are used to determine how similar self-reports of individuals from a Kreek ancestry group are to three disparate reference populations. The visualizations allow for the identification of potential outliers that would be removed from downstream processing and analysis.\n",
    "\n",
    "**Note**: The command line Perl script below assumes a specific order of the STRUCTURE output data in regards to the group IDs. Modifications should be made as necessary to ensure that the labels match with the ID. Additionally, `triangle_plot.R` does not check that the cluster specifications match the given 1000G superpopulation labels. Be sure to assign the right label to the right group ID from previous processing steps."
   ]
  },
  {
   "cell_type": "code",
   "execution_count": null,
   "metadata": {},
   "outputs": [],
   "source": [
    "#### AFR, EAS, and EUR ####\n",
    "# Prepare results for triangle plot\n",
    "# note the @datasets should be in the same ancestral order as the inputfile\n",
    "STUDY=${study^^}\n",
    "docker run -i -v  $procD/structure:/data/ \\\n",
    "    perl:5.30.0 perl -slne \\\n",
    "        'if (/%Miss/) {\n",
    "             $in=1;\n",
    "             print \"num\\tID\\tpop\\tcluster1\\tcluster2\\tcluster3\";\n",
    "         }\n",
    "         if ($in==1 && !/Label/ && !/^\\s+$/) {\n",
    "             @datasets=(\"AFR\",\"EAS\",\"EUR\", $mystudy);\n",
    "             s/^\\s+//g;\n",
    "             @F=split /\\s+/;\n",
    "             # Grab only study groups by ID\n",
    "             if ($F[3] > 3) {\n",
    "                 print $F[0].\"\\t\".$F[1].\"\\t\".$datasets[$F[3]-1].\"\\t\".$F[5].\"\\t\".$F[6].\"\\t\".$F[7];\n",
    "             }\n",
    "         } \n",
    "         s/\\s+//g;\n",
    "         if ($_ eq \"\") { $in=0; }' -- -mystudy=$STUDY \\\n",
    "    /data/output_files/output_afr_eas_eur_f  > \\\n",
    "    $procD/structure/triangle_plots/afr_eas_eur.triangle_input\n",
    "\n",
    "\n",
    "#docker run -i -v  $procD/structure:/data/ \\\n",
    "#    perl:5.30.0 perl -slne \\\n",
    "#        'if (/%Miss/) {\n",
    "#             $in=1;\n",
    "#             print \"num\\tID\\tpop\\tcluster1\\tcluster2\\tcluster3\";\n",
    "#         }\n",
    "#         if ($in==1 && !/Label/ && !/^\\s+$/) {\n",
    "#             @datasets=(\"AFR\",\"EAS\",\"EUR\", $mystudy);\n",
    "#             s/^\\s+//g;\n",
    "#             @F=split /\\s+/;\n",
    "#             # Grab only study groups by ID\n",
    "#             if ($F[3] > 3) {\n",
    "#                 print $F[0].\"\\t\".$F[1].\"\\t\".$datasets[$F[3]-1].\"\\t\".$F[5].\"\\t\".$F[6].\"\\t\".$F[7];\n",
    "#             }\n",
    "#         } \n",
    "#         s/\\s+//g;\n",
    "#         if ($_ eq \"\") { $in=0; }' -- -mystudy=$STUDY \\\n",
    "#    /data/output_files/output_afr_eas_eur2_f  > \\\n",
    "#    $procD/structure/triangle_plots/afr_eas_eur.triangle_input2"
   ]
  },
  {
   "cell_type": "code",
   "execution_count": null,
   "metadata": {},
   "outputs": [],
   "source": [
    "# Prepare id xref file (cross reference file)\n",
    "docker run -i -v  $procD/structure/:/data/  perl:5.30.0 perl -ne \\\n",
    "    'if ($count==0) { print \"num\\tID\\n\"; }\n",
    "     if (!defined $even) { print STDERR \"LALALA\\n\";} \n",
    "     if ($even==0) {/^(\\S+)/; print $count+1; print \"\\t\".$1.\"\\n\"; $count++; $even=1}\n",
    "     else {$even=0}' \\\n",
    "    /data/input_files/input_afr_eas_eur > \\\n",
    "    $procD/structure/triangle_plots/afr_eas_eur_id_xref\n",
    "\n",
    "# Generate triangle plot \n",
    "Rscript /shared/bioinformatics/software/R/triangle_plot.R \\\n",
    "    --data $procD/structure/triangle_plots/afr_eas_eur.triangle_input \\\n",
    "    --prefix $procD/structure/triangle_plots/afr_eas_eur \\\n",
    "    --cluster1 African \\\n",
    "    --cluster2 Asian \\\n",
    "    --cluster3 European \\\n",
    "    --xref $procD/structure/triangle_plots/afr_eas_eur_id_xref\n"
   ]
  },
  {
   "cell_type": "code",
   "execution_count": 2,
   "metadata": {},
   "outputs": [
    {
     "data": {
      "image/png": "[encoded data removed]"
     },
     "metadata": {
      "height": 700,
      "width": 700
     },
     "output_type": "display_data"
    }
   ],
   "source": [
    "## R console ##\n",
    "library(\"IRdisplay\")\n",
    "display_png(file=\"/Users/jmarks/OneDrive - Research Triangle Institute/Projects/HIV/cfar_coga/qc/coga/structure/005/afr_eas_eur_COGA.jpg\", width=700, height=700)"
   ]
  },
  {
   "cell_type": "markdown",
   "metadata": {},
   "source": [
    "#### Reassigning and removing outliers\n",
    "The following retainment thresholds should be implemented:\n",
    "\n",
    "\n",
    "| Action Description | Thresholding Criteria      |\n",
    "|--------------------|----------------------------|\n",
    "| For EA retainment | (AFR < 25%)$ \\wedge $(EAS < 25%) |\n",
    "| For AA retainment | (AFR > 25%)$ \\wedge $(EAS < 25%) |\n",
    "| For HA retainment | (AFR < 25%)$ \\wedge $(EAS > 25%) |"
   ]
  },
  {
   "cell_type": "markdown",
   "metadata": {},
   "source": [
    "Subject counts after applying the filters above.\n",
    "```\n",
    "wc -l $plots/*filtered\n",
    "   159 /shared/jmarks/hiv/coga/genotype/observed/processing/005/structure/triangle_plots/filtered/aa_filtered\n",
    "  5030 /shared/jmarks/hiv/coga/genotype/observed/processing/005/structure/triangle_plots/filtered/ea_filtered\n",
    "   223 /shared/jmarks/hiv/coga/genotype/observed/processing/005/structure/triangle_plots/filtered/ha_filtered\n",
    "```\n",
    "\n",
    "<br>\n",
    "\n",
    "These subjects was not assigned to any ancestry group:\n",
    "\n",
    "```\n",
    "num     ID.y    pop     cluster1        cluster2        cluster3\n",
    "3397    13419_4612403   COGA    0.393   0.253   0.354\n",
    "4737    63312_3392564   COGA    0.017   0.25    0.733\n",
    "6565    88029_5227817   COGA    0.052   0.25    0.698\n",
    "```"
   ]
  },
  {
   "cell_type": "code",
   "execution_count": null,
   "metadata": {},
   "outputs": [],
   "source": [
    "## EC2 command line\n",
    "### get details on which subjects are reassigned ###\n",
    "\n",
    "plots=$procD/structure/triangle_plots/filtered\n",
    "ln -s $procD/structure/triangle_plots/afr_eas_eur.triangle_input $plots/\n",
    "\n",
    "# AA retained\n",
    "#--------------------------------------------------------------------------------\n",
    "# Create triangle plot input with potential outliers filtered\n",
    "eth=AA\n",
    "\n",
    "head -1 $procD/structure/triangle_plots/afr_eas_eur.triangle_input > \\\n",
    "    $plots/afr_eas_eur_filtered.triangle_input\n",
    "\n",
    "tail -n +2 $plots/afr_eas_eur.triangle_input | \\\n",
    "    perl -lane 'if (($F[3] > 0.25 && $F[4] < 0.25)) { print $_ }' \\\n",
    "    > $plots/aa_filtered\n",
    "\n",
    "# study=vidus, for example\n",
    "awk -v study=\"$study\" -v eth=\"$eth\" 'BEGIN{OFS=\"\\t\"} {$3=study \"_\" eth;print $0}' $plots/aa_filtered >>\\\n",
    "    $plots/afr_eas_eur_filtered.triangle_input\n",
    "\n",
    "\n",
    "# EA retained\n",
    "#--------------------------------------------------------------------------------\n",
    "# Create triangle plot input with potential outliers filtered\n",
    "eth=EA\n",
    "\n",
    "tail -n +2 $plots/afr_eas_eur.triangle_input |\\\n",
    "    perl -lane 'if (($F[3] < 0.25 && $F[4] < 0.25)) { print $_; }' \\\n",
    "    > $plots/ea_filtered\n",
    "awk -v study=\"$study\" -v eth=\"$eth\" 'BEGIN{OFS=\"\\t\"} {$3=study \"_\" eth;print $0}' $plots/ea_filtered >>\\\n",
    "    $plots/afr_eas_eur_filtered.triangle_input\n",
    "#--------------------------------------------------------------------------------\n",
    "\n",
    "# HA retained\n",
    "#--------------------------------------------------------------------------------\n",
    "# Create triangle plot input with potential outliers filtered\n",
    "eth=HA\n",
    "\n",
    "tail -n +2 $plots/afr_eas_eur.triangle_input |\\\n",
    "    perl -lane 'if (($F[3] < 0.25 && $F[4] > 0.25)) { print $_; }' \\\n",
    "    > $plots/ha_filtered\n",
    "awk -v study=\"$study\" -v eth=\"$eth\" 'BEGIN{OFS=\"\\t\"} {$3=study \"_\" eth;print $0}' $plots/ha_filtered >>\\\n",
    "    $plots/afr_eas_eur_filtered.triangle_input\n",
    "#--------------------------------------------------------------------------------\n",
    "\n",
    "\n",
    "# subjects not assigned to any ancestry group\n",
    "comm -23 <(cut -f1 $procD/structure/triangle_plots/afr_eas_eur.triangle_input | sort) \\\n",
    "    <(cut -f1 $procD/structure/triangle_plots/filtered/afr_eas_eur_filtered.triangle_input | sort) >\\\n",
    "    $plots/tmp\n",
    "\n",
    "awk 'FNR==NR{map[$1] = $0; next} FNR==1{print map[\"num\"]}\n",
    "    {print map[$1]}' $procD/structure/triangle_plots/afr_eas_eur_for_filtering.txt $plots/tmp \\\n",
    "    > $plots/filtered_full_id.txt"
   ]
  },
  {
   "cell_type": "code",
   "execution_count": null,
   "metadata": {},
   "outputs": [],
   "source": [
    "# Generate filtered triangle plot\n",
    "Rscript /shared/bioinformatics/software/R/triangle_plot.R \\\n",
    "    --data $plots/afr_eas_eur_filtered.triangle_input \\\n",
    "    --prefix $plots/afr_eas_eur_filtered \\\n",
    "    --cluster1 African \\\n",
    "    --cluster2 Asian \\\n",
    "    --cluster3 European \\\n",
    "    --xref $procD/structure/triangle_plots/afr_eas_eur_id_xref"
   ]
  },
  {
   "cell_type": "markdown",
   "metadata": {},
   "source": [
    "#### Filtered results"
   ]
  },
  {
   "cell_type": "code",
   "execution_count": 4,
   "metadata": {},
   "outputs": [
    {
     "data": {
      "image/png": "[encoded data removed]"
     },
     "metadata": {
      "height": 700,
      "width": 700
     },
     "output_type": "display_data"
    },
    {
     "data": {
      "image/png": "[encoded data removed]"
     },
     "metadata": {
      "height": 700,
      "width": 700
     },
     "output_type": "display_data"
    },
    {
     "data": {
      "image/png": "[encoded data removed]"
     },
     "metadata": {
      "height": 700,
      "width": 700
     },
     "output_type": "display_data"
    }
   ],
   "source": [
    "## R console ##\n",
    "library(\"IRdisplay\")\n",
    "display_png(file=\"/Users/jmarks/OneDrive - Research Triangle Institute/Projects/HIV/cfar_coga/qc/coga/structure/005/afr_eas_eur_filtered_coga_EA.jpg\", width=700, height=700)\n",
    "display_png(file=\"/Users/jmarks/OneDrive - Research Triangle Institute/Projects/HIV/cfar_coga/qc/coga/structure/005/afr_eas_eur_filtered_coga_AA.jpg\", width=700, height=700)\n",
    "display_png(file=\"/Users/jmarks/OneDrive - Research Triangle Institute/Projects/HIV/cfar_coga/qc/coga/structure/005/afr_eas_eur_filtered_coga_HA.jpg\", width=700, height=700)"
   ]
  },
  {
   "cell_type": "markdown",
   "metadata": {},
   "source": [
    "Because there are only:\n",
    "* X  HA subjects <br>\n",
    "left after applying the ancestral thresholds for filtering, we will proceed with only the EAs and AAs."
   ]
  },
  {
   "cell_type": "markdown",
   "metadata": {},
   "source": [
    "## Post-Structure\n",
    "### Create updated PLINK filesets"
   ]
  },
  {
   "cell_type": "code",
   "execution_count": null,
   "metadata": {},
   "outputs": [],
   "source": [
    "## EC2 command line\n",
    "anlist=\"aa ea ha\"\n",
    "\n",
    "\n",
    "# create directory structure\n",
    "for ancestry in $anlist;do\n",
    "    mkdir -p $procD/post_structure/$ancestry/{autosomes,chrx}\n",
    "done\n",
    "\n",
    "# get ancestry counts after filtering + create a keepIDs list\n",
    "for an in $anlist;do\n",
    "    awk -v an=\"${an^^}\" -v study=\"$study\" '$3==study\"_\"an {print $2}' \\\n",
    "        $plots/afr_eas_eur_filtered_for_filtering.txt > \\\n",
    "        $procD/post_structure/$an/subject_ids_keep.txt\n",
    "    wc -l $procD/post_structure/$an/subject_ids_keep.txt\n",
    "done"
   ]
  },
  {
   "cell_type": "markdown",
   "metadata": {},
   "source": [
    "```\n",
    "159 /shared/jmarks/hiv/coga/genotype/observed/processing/005/post_structure/aa/subject_ids_keep.txt\n",
    "5030 /shared/jmarks/hiv/coga/genotype/observed/processing/005/post_structure/ea/subject_ids_keep.txt\n",
    "223 /shared/jmarks/hiv/coga/genotype/observed/processing/005/post_structure/ha/subject_ids_keep.txt\n",
    "```"
   ]
  },
  {
   "cell_type": "code",
   "execution_count": null,
   "metadata": {},
   "outputs": [],
   "source": [
    "# split famID_IID up by tab --> famID\"\\t\"IID\n",
    "for an in $anlist;do\n",
    "    awk -F\"_\" '{print $1, $2}' $procD/post_structure/$an/subject_ids_keep.txt >\\\n",
    "        $procD/post_structure/$an/subject_ids_keep_formatted.txt\n",
    "done\n",
    "\n",
    "for ancestry in $anlist; do\n",
    "    echo -e \"\\n\\n======== ${ancestry} ========\\n\\n\"\n",
    "    docker run -v \"$procD/:/data/\" rticode/plink:1.9 plink \\\n",
    "        --memory 5000 \\\n",
    "        --bfile /data/prestructure/gw/$study \\\n",
    "        --keep /data/post_structure/$ancestry/subject_ids_keep_formatted.txt \\\n",
    "        --make-bed \\\n",
    "        --out /data/post_structure/$ancestry/${study}_structure\n",
    "done\n",
    "\n",
    "for an in $anlist; do\n",
    "    wc -l $procD/post_structure/$an/*{bim,fam}\n",
    "done            "
   ]
  },
  {
   "cell_type": "markdown",
   "metadata": {},
   "source": [
    "```\n",
    "  567891 /shared/jmarks/hiv/coga/genotype/observed/processing/005/post_structure/aa/coga_structure.bim\n",
    "     157 /shared/jmarks/hiv/coga/genotype/observed/processing/005/post_structure/aa/coga_structure.fam\n",
    "  568048 total\n",
    "  567891 /shared/jmarks/hiv/coga/genotype/observed/processing/005/post_structure/ea/coga_structure.bim\n",
    "    5030 /shared/jmarks/hiv/coga/genotype/observed/processing/005/post_structure/ea/coga_structure.fam\n",
    "  572921 total\n",
    "  567891 /shared/jmarks/hiv/coga/genotype/observed/processing/005/post_structure/ha/coga_structure.bim\n",
    "     223 /shared/jmarks/hiv/coga/genotype/observed/processing/005/post_structure/ha/coga_structure.fam\n",
    "```"
   ]
  },
  {
   "cell_type": "code",
   "execution_count": null,
   "metadata": {},
   "outputs": [],
   "source": [
    "# Create autosome and chrx file sets\n",
    "for ancestry in $anlist; do\n",
    "    echo -e \"\\n\\n======== ${ancestry} ========\\n\\n\"\n",
    "\n",
    "    # Autosomes\n",
    "    docker run -v \"$procD/post_structure/:/data/\" rticode/plink:1.9 plink \\\n",
    "        --bfile /data/${ancestry}/${study}_structure \\\n",
    "        --autosome \\\n",
    "        --make-bed \\\n",
    "        --out /data/${ancestry}/autosomes/${study}_structure\n",
    "\n",
    "    # Chrx (include split PARs)\n",
    "    docker run -v \"$procD/post_structure/:/data/\" rticode/plink:1.9 plink \\\n",
    "        --bfile /data/${ancestry}/${study}_structure \\\n",
    "        --chr 23,25 \\\n",
    "        --make-bed \\\n",
    "        --out /data/${ancestry}/chrx/${study}_unmerged\n",
    "\n",
    "    # Combine split chrx and PARs\n",
    "    docker run -v \"$procD/post_structure/$ancestry/chrx:/data/\" rticode/plink:1.9 plink \\\n",
    "        --noweb \\\n",
    "        --memory 5000 \\\n",
    "        --bfile /data/${study}_unmerged \\\n",
    "        --merge-x \\\n",
    "        --make-bed \\\n",
    "        --out /data/${study}_structure\n",
    "done\n",
    "\n",
    "## get counts\n",
    "for an in $anlist;do\n",
    "    wc -l $procD/post_structure/$an/{chrx,autosomes}/*structure.bim\n",
    "done"
   ]
  },
  {
   "cell_type": "markdown",
   "metadata": {},
   "source": [
    "```\n",
    "   13989 /shared/jmarks/hiv/coga/genotype/observed/processing/005/post_structure/aa/chrx/coga_structure.bim\n",
    "  553902 /shared/jmarks/hiv/coga/genotype/observed/processing/005/post_structure/aa/autosomes/coga_structure.bim\n",
    "  567891 total\n",
    "   13989 /shared/jmarks/hiv/coga/genotype/observed/processing/005/post_structure/ea/chrx/coga_structure.bim\n",
    "  553902 /shared/jmarks/hiv/coga/genotype/observed/processing/005/post_structure/ea/autosomes/coga_structure.bim\n",
    "  567891 total\n",
    "   13989 /shared/jmarks/hiv/coga/genotype/observed/processing/005/post_structure/ha/chrx/coga_structure.bim\n",
    "  553902 /shared/jmarks/hiv/coga/genotype/observed/processing/005/post_structure/ha/autosomes/coga_structure.bim\n",
    "```"
   ]
  },
  {
   "cell_type": "markdown",
   "metadata": {},
   "source": [
    "### Autosome Processing\n",
    "#### Genotype call rate variant filter\n",
    "I calculate the genotype missing call rate and remove any variants with a rate >3%."
   ]
  },
  {
   "cell_type": "code",
   "execution_count": null,
   "metadata": {},
   "outputs": [],
   "source": [
    "## Genotype call rate variant filter ##\n",
    "for ancestry in $anlist; do\n",
    "    echo -e \"\\n\\n================ ${ancestry} ================\\n\\n\"\n",
    "    docker run -v \"$procD/post_structure/$ancestry/autosomes/:/data/\" rticode/plink:1.9 plink \\\n",
    "        --bfile /data/${study}_structure \\\n",
    "        --geno $gcr \\\n",
    "        --make-bed \\\n",
    "        --out /data/${study}_structure_variant_gcr_filter\n",
    "done\n",
    "\n",
    "for an in $anlist;do\n",
    "    wc -l $procD/post_structure/$an/autosomes/${study}_structure_variant_gcr_filter.bim\n",
    "    echo \"\"\n",
    "done"
   ]
  },
  {
   "cell_type": "markdown",
   "metadata": {},
   "source": [
    "```\n",
    "500900 /shared/jmarks/hiv/coga/genotype/observed/processing/005/post_structure/aa/autosomes/coga_structure_variant_gcr_filter.bim\n",
    "\n",
    "512338 /shared/jmarks/hiv/coga/genotype/observed/processing/005/post_structure/ea/autosomes/coga_structure_variant_gcr_filter.bim\n",
    "\n",
    "505881 /shared/jmarks/hiv/coga/genotype/observed/processing/005/post_structure/ha/autosomes/coga_structure_variant_gcr_filter.bim\n",
    "```"
   ]
  },
  {
   "cell_type": "markdown",
   "metadata": {},
   "source": [
    "#### Hardy-Weinberg equilibrium filtering\n",
    "Extensive deviation from Hardy-Weinberg equilibrium (HWE) can be indicative of a genotyping or genotype calling error. Using PLINK --hardy, I calculate goodness of fit test p-values for allele frequencies compared to HWE. Any variant with p < 0.0001 is removed."
   ]
  },
  {
   "cell_type": "code",
   "execution_count": null,
   "metadata": {},
   "outputs": [],
   "source": [
    "## Calculate HW p-values for each ancestry group ##\n",
    "for ancestry in $anlist; do\n",
    "    echo -e \"\\n\\n================ ${ancestry} ================\\n\\n\"\n",
    "    docker run -v \"$procD/post_structure/$ancestry/autosomes/:/data/\" rticode/plink:1.9 plink \\\n",
    "        --bfile /data/${study}_structure_variant_gcr_filter \\\n",
    "        --hwe $hwe \\\n",
    "        --make-bed \\\n",
    "        --out /data/${study}_structure_variant_gcr_hwe_filter\n",
    "done\n",
    "\n",
    "for an in $anlist;do\n",
    "    wc -l $procD/post_structure/$an/autosomes/${study}_structure_variant_gcr_hwe_filter*{bim,fam}\n",
    "    echo \"\"\n",
    "done"
   ]
  },
  {
   "cell_type": "markdown",
   "metadata": {},
   "source": [
    "```\n",
    "  500853 /shared/jmarks/hiv/coga/genotype/observed/processing/005/post_structure/aa/autosomes/coga_structure_variant_gcr_hwe_filter.bim\n",
    "     157 /shared/jmarks/hiv/coga/genotype/observed/processing/005/post_structure/aa/autosomes/coga_structure_variant_gcr_hwe_filter.fam\n",
    "  501010 total\n",
    "\n",
    "  511522 /shared/jmarks/hiv/coga/genotype/observed/processing/005/post_structure/ea/autosomes/coga_structure_variant_gcr_hwe_filter.bim\n",
    "    5030 /shared/jmarks/hiv/coga/genotype/observed/processing/005/post_structure/ea/autosomes/coga_structure_variant_gcr_hwe_filter.fam\n",
    "  516552 total\n",
    "\n",
    "  505822 /shared/jmarks/hiv/coga/genotype/observed/processing/005/post_structure/ha/autosomes/coga_structure_variant_gcr_hwe_filter.bim\n",
    "     223 /shared/jmarks/hiv/coga/genotype/observed/processing/005/post_structure/ha/autosomes/coga_structure_variant_gcr_hwe_filter.fam\n",
    "```"
   ]
  },
  {
   "cell_type": "markdown",
   "metadata": {},
   "source": [
    "#### Genotype call rate subject filter\n",
    "**Note**: The genotype call rate subject filtering and the subsequent LD pruning are specifically for relatedness filtering calculations. Autosomes and chrX merging will be done using the PLINK file sets generated in the preceding step (HWE filtering).\n",
    "\n",
    "I calculate the genotype missing call rate and remove any subjects with a rate > $3\\%$."
   ]
  },
  {
   "cell_type": "code",
   "execution_count": null,
   "metadata": {},
   "outputs": [],
   "source": [
    "## Genotype call rate subject filter ##\n",
    "for ancestry in $anlist; do\n",
    "    echo -e \"\\n\\n================ ${ancestry} ================\\n\\n\"\n",
    "    docker run -v \"$procD/post_structure/$ancestry/autosomes/:/data/\" rticode/plink:1.9 plink \\\n",
    "        --bfile /data/${study}_structure_variant_gcr_hwe_filter \\\n",
    "        --mind $gcr \\\n",
    "        --make-bed \\\n",
    "        --out /data/${study}_structure_variant_gcr_hwe_subject_gcr_filter\n",
    "done\n",
    "\n",
    "for an in $anlist;do\n",
    "    wc -l $procD/post_structure/$an/autosomes/${study}_structure_variant_gcr_hwe_subject_gcr_filter.{fam,irem,bim}\n",
    "    echo \"\"\n",
    "done"
   ]
  },
  {
   "cell_type": "markdown",
   "metadata": {},
   "source": [
    "```\n",
    "     157 /shared/jmarks/hiv/coga/genotype/observed/processing/005/post_structure/aa/autosomes/coga_structure_variant_gcr_hwe_subject_gcr_filter.fam\n",
    "wc: /shared/jmarks/hiv/coga/genotype/observed/processing/005/post_structure/aa/autosomes/coga_structure_variant_gcr_hwe_subject_gcr_filter.irem: No such file or directory\n",
    "  500853 /shared/jmarks/hiv/coga/genotype/observed/processing/005/post_structure/aa/autosomes/coga_structure_variant_gcr_hwe_subject_gcr_filter.bim\n",
    "  \n",
    "\n",
    "    5017 /shared/jmarks/hiv/coga/genotype/observed/processing/005/post_structure/ea/autosomes/coga_structure_variant_gcr_hwe_subject_gcr_filter.fam\n",
    "      13 /shared/jmarks/hiv/coga/genotype/observed/processing/005/post_structure/ea/autosomes/coga_structure_variant_gcr_hwe_subject_gcr_filter.irem\n",
    "  511522 /shared/jmarks/hiv/coga/genotype/observed/processing/005/post_structure/ea/autosomes/coga_structure_variant_gcr_hwe_subject_gcr_filter.bim\n",
    "  \n",
    "\n",
    "     223 /shared/jmarks/hiv/coga/genotype/observed/processing/005/post_structure/ha/autosomes/coga_structure_variant_gcr_hwe_subject_gcr_filter.fam\n",
    "wc: /shared/jmarks/hiv/coga/genotype/observed/processing/005/post_structure/ha/autosomes/coga_structure_variant_gcr_hwe_subject_gcr_filter.irem: No such file or directory\n",
    "  505822 /shared/jmarks/hiv/coga/genotype/observed/processing/005/post_structure/ha/autosomes/coga_structure_variant_gcr_hwe_subject_gcr_filter.bim\n",
    "\n",
    "```"
   ]
  },
  {
   "cell_type": "markdown",
   "metadata": {},
   "source": [
    "#### Linkage disequilibrium pruning\n",
    "Linkage disequilibrium (LD) pruning eliminates a large degree of redundancy in the data and reduces the influence of chromosomal artifacts. The objective of LD pruning is to select a subset of variants based off of LD such that the variants in the subset are independent. This filtering will not carry forward to the final processed results, but this step improves the quality of identity-by-state (IBS) and identity-by-descent (IBD) calculations. Consequently, the LD pruned data will be used as input into IBS and IBD calculations.\n",
    "\n",
    "LD pruning is implemented using [PLINK --indep-pairwise](https://www.cog-genomics.org/plink/1.9/ld#indep)."
   ]
  },
  {
   "cell_type": "code",
   "execution_count": null,
   "metadata": {},
   "outputs": [],
   "source": [
    "## LD pruning \n",
    "for ancestry in $anlist; do\n",
    "    echo -e \"\\n\\n================ ${ancestry} ================\\n\\n\"\n",
    "    for chr in {1..22}; do\n",
    "        /shared/bioinformatics/software/scripts/qsub_job.sh \\\n",
    "            --job_name ${ancestry}_${chr}_ld_prune \\\n",
    "            --script_prefix $procD/post_structure/${ancestry}/autosomes/${ancestry}_${chr}_ld_prune \\\n",
    "            --mem 7.5 \\\n",
    "            --priority 0 \\\n",
    "            --nslots 1 \\\n",
    "            --program  docker run -v \"$procD/post_structure/$ancestry/autosomes/:/data/\" rticode/plink:1.9 plink \\\n",
    "                --bfile /data/${study}_structure_variant_gcr_hwe_subject_gcr_filter \\\n",
    "                --indep-pairwise 50 5 0.5 \\\n",
    "                --chr $chr \\\n",
    "                --out /data/${study}_genotypes_for_relatedness_filtering_ld_prune_chr${chr}\n",
    "    done\n",
    "done"
   ]
  },
  {
   "cell_type": "code",
   "execution_count": null,
   "metadata": {},
   "outputs": [],
   "source": [
    "for ancestry in $anlist; do\n",
    "    echo -e \"\\n\\n================ ${ancestry} ================\\n\\n\"\n",
    "    # Merge *prune.in files\n",
    "    cat $procD/post_structure/${ancestry}/autosomes/${study}_genotypes_for_relatedness_filtering_ld_prune_chr*.prune.in \\\n",
    "      > $procD/post_structure/${ancestry}/autosomes/${study}_genotypes_for_relatedness_filtering_ld_prune_autosomes.prune.in\n",
    "\n",
    "    # Create new PLINK filesets with only lD pruned variants\n",
    "    docker run -v \"$procD/post_structure/$ancestry/autosomes/:/data/\" rticode/plink:1.9 plink \\\n",
    "        --bfile /data/${study}_structure_variant_gcr_hwe_subject_gcr_filter \\\n",
    "        --extract /data/${study}_genotypes_for_relatedness_filtering_ld_prune_autosomes.prune.in \\\n",
    "        --make-bed \\\n",
    "        --out /data/${study}_genotypes_for_relatedness_ld_prune_filter\n",
    "done\n",
    "\n",
    "for an in $anlist;do\n",
    "    wc -l $procD/post_structure/$an/autosomes/${study}_genotypes_for_relatedness_ld_prune_filter.{bim,fam}\n",
    "    echo \"\"\n",
    "done"
   ]
  },
  {
   "cell_type": "markdown",
   "metadata": {},
   "source": [
    "```\n",
    "  317683 /shared/jmarks/hiv/coga/genotype/observed/processing/005/post_structure/aa/autosomes/coga_genotypes_for_relatedness_ld_prune_filter.bim\n",
    "     157 /shared/jmarks/hiv/coga/genotype/observed/processing/005/post_structure/aa/autosomes/coga_genotypes_for_relatedness_ld_prune_filter.fam\n",
    "  317840 total\n",
    "\n",
    " 272084 /shared/jmarks/hiv/coga/genotype/observed/processing/005/post_structure/ea/autosomes/coga_genotypes_for_relatedness_ld_prune_filter.bim\n",
    "   5017 /shared/jmarks/hiv/coga/genotype/observed/processing/005/post_structure/ea/autosomes/coga_genotypes_for_relatedness_ld_prune_filter.fam\n",
    " 277101 total\n",
    "\n",
    " 233199 /shared/jmarks/hiv/coga/genotype/observed/processing/005/post_structure/ha/autosomes/coga_genotypes_for_relatedness_ld_prune_filter.bim\n",
    "    223 /shared/jmarks/hiv/coga/genotype/observed/processing/005/post_structure/ha/autosomes/coga_genotypes_for_relatedness_ld_prune_filter.fam\n",
    "```"
   ]
  },
  {
   "cell_type": "markdown",
   "metadata": {},
   "source": [
    "#### Identical-by-state and identical-by-descent filtering\n",
    "Identical-by-state or identity-by-state (IBS) filtering provides a means to identify duplicate subjects or monozygotic twins. Identical-by-descent or identity-by-descent allows for detection of high relatedness. For computational efficiency and memory usage limitations, ibd_pipeline.v4.sh is used to perform IBS/IBD calculations on data chunks that are used as input for IBS and IBD filtering. If the study contains AA subjects, then for AA subjects only, [KING](http://people.virginia.edu/~wc9c/KING/manual.html) is used as an additional relationship inference tool for filtering.\n",
    "\n",
    "For these filtering steps, a list of individuals is identified separately for each filtering type then combined into a final list for exclusion. Following IBS filtering, if any individuals are identified for removal, a graph analysis needs to be done to account for an individual being related/identical to multiple individuals. Removal criteria is based on genotype calling rate. These individuals would need to be removed before running IBD filtering and KING. Graph analysis would need to be run after IBD calculations/KING if individuals were selected for removal."
   ]
  },
  {
   "cell_type": "code",
   "execution_count": null,
   "metadata": {},
   "outputs": [],
   "source": [
    "## Identical-by-state filtering ##\n",
    "\n",
    "# Calculate allele frequencies in data chunks\n",
    "for ancestry in $anlist; do\n",
    "    echo -e \"\\n\\n================ ${ancestry} ================\\n\\n\"\n",
    "    /shared/bioinformatics/software/scripts/ibd_pipeline.sh \\\n",
    "        --in_prefix $procD/post_structure/$ancestry/autosomes/${study}_genotypes_for_relatedness_ld_prune_filter \\\n",
    "        --out_dir   $procD/post_structure/$ancestry/autosomes/\n",
    "    sleep 5s\n",
    "done"
   ]
  },
  {
   "cell_type": "code",
   "execution_count": null,
   "metadata": {},
   "outputs": [],
   "source": [
    "# Aggregate data \n",
    "for ancestry in $anlist; do\n",
    "    outfile=$procD/post_structure/${ancestry}/autosomes/${study}_genotypes_for_relatedness_ld_prune_filter.genome\n",
    "    head -1 `ls $procD/post_structure/${ancestry}/autosomes/data.sub.genome* | head -1` > ${outfile}\n",
    "    cat $procD/post_structure/${ancestry}/autosomes/data.sub.genome* | \\\n",
    "        grep -v FID1 >> ${outfile}\n",
    "\n",
    "    # Remove temporary files\n",
    "    rm $procD/post_structure/${ancestry}/autosomes/data.sub.*\n",
    "    rm $procD/post_structure/${ancestry}/autosomes/tmp_sh*.sh\n",
    "done"
   ]
  },
  {
   "cell_type": "markdown",
   "metadata": {},
   "source": [
    "#### IBS filtering\n",
    "For individual pairs with greater than 0.9 IBS score, only the individual with the lower genotype missing call rate is retained. I create a list of individuals to remove that will be combined with the IBD list for final filtering but removed from the LD pruned data before running IBD filtering."
   ]
  },
  {
   "cell_type": "code",
   "execution_count": null,
   "metadata": {},
   "outputs": [],
   "source": [
    "# Calculate missingness\n",
    "for ancestry in $anlist; do\n",
    "    echo -e \"\\n\\n================ ${ancestry} ================\\n\\n\"\n",
    "    docker run -v \"$procD/post_structure/$ancestry/autosomes/:/data/\" rticode/plink:1.9 plink \\\n",
    "        --noweb \\\n",
    "        --bfile  /data/${study}_structure_variant_gcr_hwe_subject_gcr_filter \\\n",
    "        --missing \\\n",
    "        --out /data/autosome_missing_call_rate\n",
    "done\n",
    "\n",
    "# Get list of individuals with IBS > 0.9\n",
    "## note that I  changed it to underscore after study\n",
    "for ancestry in $anlist; do\n",
    "    echo -e \"\\n\\n================ ${ancestry} ================\\n\"\n",
    "    Rscript /shared/bioinformatics/software/R/merge_genome_missing.R \\\n",
    "        --genome $procD/post_structure/$ancestry/autosomes/${study}_genotypes_for_relatedness_ld_prune_filter.genome \\\n",
    "        --imiss $procD/post_structure/$ancestry/autosomes/autosome_missing_call_rate.imiss \\\n",
    "        --type IBS \\\n",
    "        --out $procD/post_structure/$ancestry/autosomes/${study}_genotypes_for_relatedness_ld_prune_ibs_gt_0.9_filter\n",
    "done"
   ]
  },
  {
   "cell_type": "markdown",
   "metadata": {},
   "source": [
    "```\n",
    "================ aa ================\n",
    "\n",
    "[1] \"Reading genome file /shared/jmarks/hiv/coga/genotype/observed/processing/005/post_structure/aa/autosomes/coga_genotypes_for_relatedness_ld_prune_filter.genome\"\n",
    "[1] \"Reading missing file /shared/jmarks/hiv/coga/genotype/observed/processing/005/post_structure/aa/autosomes/autosome_missing_call_rate.imiss\"\n",
    "[1] \"Filtering\"\n",
    "[1] \"IBS\"\n",
    "[1] \"0 rows meet filtering criteria\"\n",
    "[1] \"Merging files\"\n",
    "[1] \"Printing output\"\n",
    "\n",
    "\n",
    "================ ea ================\n",
    "\n",
    "[1] \"Reading genome file /shared/jmarks/hiv/coga/genotype/observed/processing/005/post_structure/ea/autosomes/coga_genotypes_for_relatedness_ld_prune_filter.genome\"\n",
    "[1] \"Reading missing file /shared/jmarks/hiv/coga/genotype/observed/processing/005/post_structure/ea/autosomes/autosome_missing_call_rate.imiss\"\n",
    "[1] \"Filtering\"\n",
    "[1] \"IBS\"\n",
    "[1] \"663 rows meet filtering criteria\"\n",
    "[1] \"Merging files\"\n",
    "[1] \"Printing output\"\n",
    "\n",
    "\n",
    "================ ha ================\n",
    "\n",
    "[1] \"Reading genome file /shared/jmarks/hiv/coga/genotype/observed/processing/005/post_structure/ha/autosomes/coga_genotypes_for_relatedness_ld_prune_filter.genome\"\n",
    "[1] \"Reading missing file /shared/jmarks/hiv/coga/genotype/observed/processing/005/post_structure/ha/autosomes/autosome_missing_call_rate.imiss\"\n",
    "[1] \"Filtering\"\n",
    "[1] \"IBS\"\n",
    "[1] \"8 rows meet filtering criteria\"\n",
    "[1] \"Merging files\"\n",
    "[1] \"Printing output\"\n",
    "```"
   ]
  },
  {
   "cell_type": "markdown",
   "metadata": {},
   "source": [
    "#### Graph Analysis for IBS\n",
    "In graph analysis a network of related individuals is created. Genotype call rate is calculated within this network to determine which individuals to remove. The purpose of using a network-based filtering is to prevent too many individuals from being unnecessarily removed when relationships extend beyond pairwise relatedness.\n",
    "\n",
    "**Note:** For this case, since no individuals were flagged as problematic, we can skip the IBS graph analysis."
   ]
  },
  {
   "cell_type": "code",
   "execution_count": null,
   "metadata": {},
   "outputs": [],
   "source": [
    "# R console #\n",
    "# Graph analysis to determine minimum # of subjects to remove\n",
    "R\n",
    "library(igraph)\n",
    "\n",
    "study <- \"coga\"\n",
    "setwd(\"/shared/jmarks/hiv/coga/genotype/observed/processing/005/post_structure\")\n",
    "for(ancestry in c(\"ea\", \"ha\")){\n",
    "    stats = read.table(paste0(ancestry, \"/autosomes/\", study, \"_genotypes_for_relatedness_ld_prune_ibs_gt_0.9_filter.stats\"), header = TRUE, colClasses=\"character\")\n",
    "    ibdPairs = as.data.frame(cbind(paste(stats$FID2, stats$IID2, sep=\"__\"), paste(stats$FID1, stats$IID1, sep=\"__\")), stringsAsFactors = FALSE)\n",
    "    colnames(ibdPairs) = c(\"fid_iid_1\",\"fid_iid_2\")\n",
    "    ibdGraph = graph.data.frame(ibdPairs, directed = FALSE)\n",
    "    vertexDegrees = sort(degree(ibdGraph), decreasing = TRUE)\n",
    "    removeList = vector()\n",
    "    while (length(vertexDegrees) > 0 && vertexDegrees[1] > 1) {\n",
    "        if (exists(\"removeList\")) {\n",
    "            removeList = c(removeList, names(vertexDegrees[1]))\n",
    "        } else {\n",
    "            removeList = names(vertexDegrees[1])\n",
    "        }\n",
    "        ibdGraph = ibdGraph - names(vertexDegrees[1])\n",
    "        vertexDegrees = sort(degree(ibdGraph), decreasing = TRUE)\n",
    "    }\n",
    "    ibdPairs = ibdPairs[!(ibdPairs[,1] %in% removeList) & !(ibdPairs[,2] %in% removeList),]\n",
    "    imiss = read.table(paste0(ancestry, \"/autosomes/autosome_missing_call_rate.imiss\"), header = TRUE, colClasses = \"character\")\n",
    "    imiss = as.data.frame(cbind(paste(imiss$FID, imiss$IID, sep=\"__\"), as.numeric(imiss$F_MISS)), stringsAsFactors = FALSE)\n",
    "    colnames(imiss) = c(\"fid_iid_1\",\"f_miss_1\")\n",
    "    ibdPairs = merge(ibdPairs, imiss, by=\"fid_iid_1\", sort = FALSE)\n",
    "    colnames(imiss) = c(\"fid_iid_2\",\"f_miss_2\")\n",
    "    ibdPairs = merge(ibdPairs, imiss, by=\"fid_iid_2\", sort = FALSE)\n",
    "    removeList = c(removeList, ibdPairs[ibdPairs[\"f_miss_1\"] < ibdPairs[\"f_miss_2\"],\"fid_iid_2\"])\n",
    "    removeList = c(removeList, ibdPairs[ibdPairs[\"f_miss_1\"] >= ibdPairs[\"f_miss_2\"],\"fid_iid_1\"])\n",
    "    removeList = cbind(lapply(strsplit(removeList,\"__\"), function(x) x[1]),lapply(strsplit(removeList,\"__\"), function(x) x[2]))\n",
    "    write.table(removeList, file=paste0(ancestry, \"/autosomes/\", study, \"_genotypes_for_relatedness_ld_prune_ibs_gt_0.9_igraph.remove\"), row.names = FALSE, col.names = FALSE, quote = FALSE)\n",
    "    rm(removeList)\n",
    "}"
   ]
  },
  {
   "cell_type": "markdown",
   "metadata": {},
   "source": [
    "#### Remove IBS problematic subjects\n",
    "Before proceeding with IBD filtering, the problematic IBS subjects need to be removed."
   ]
  },
  {
   "cell_type": "code",
   "execution_count": null,
   "metadata": {},
   "outputs": [],
   "source": [
    "for ancestry in $anlist;do\n",
    "    ibs_remove=$procD/post_structure/$ancestry/autosomes/${study}_genotypes_for_relatedness_ld_prune_ibs_gt_0.9_igraph.remove\n",
    "    if [ -f ${ibs_remove} ]; then\n",
    "        ## Make new PLINK file set\n",
    "        echo -e \"\\n\\n================ ${ancestry} ================\\n\\n\"\n",
    "        docker run -v \"$procD/post_structure/:/data/\" rticode/plink:1.9 plink \\\n",
    "            --bfile /data/$ancestry/autosomes/${study}_genotypes_for_relatedness_ld_prune_filter \\\n",
    "            --remove /data/$ancestry/autosomes/${study}_genotypes_for_relatedness_ld_prune_ibs_gt_0.9_igraph.remove \\\n",
    "            --make-bed \\\n",
    "            --out /data/$ancestry/autosomes/${study}_genotypes_for_relatedness_ld_prune_ibs_gt_0.9_filter\n",
    "\n",
    "        num_removed=$(wc -l ${ibs_remove} | awk '{print $1}')\n",
    "        echo -e \"\\n\\n${num_removed} $ancestry IBS subjects removed.\"\n",
    "    else\n",
    "        ## go ahead and make updated plink filesets to keep the naming convention\n",
    "        echo -e \"\\n\\n================ ${ancestry} ================\\n\\n\"\n",
    "        docker run -v \"$procD/post_structure/:/data/\" rticode/plink:1.9 plink \\\n",
    "            --bfile /data/$ancestry/autosomes/${study}_genotypes_for_relatedness_ld_prune_filter \\\n",
    "            --make-bed \\\n",
    "            --out /data/$ancestry/autosomes/${study}_genotypes_for_relatedness_ld_prune_ibs_gt_0.9_filter\n",
    "        echo -e \"\\n\\nNo $ancestry IBS subjects to removed.\\n\\n\"\n",
    "    fi\n",
    "\n",
    "    sleep 5\n",
    "done\n",
    "\n",
    "for an in $anlist;do\n",
    "    wc -l $procD/post_structure/$an/autosomes/${study}_genotypes_for_relatedness_ld_prune_ibs_gt_0.9_filter.fam\n",
    "    echo \n",
    "done"
   ]
  },
  {
   "cell_type": "markdown",
   "metadata": {},
   "source": [
    "```\n",
    "No aa IBS subjects to removed.\n",
    "521 ea IBS subjects removed.\n",
    "6 ha IBS subjects removed.\n",
    "\n",
    "157 /shared/jmarks/hiv/coga/genotype/observed/processing/005/post_structure/aa/autosomes/coga_genotypes_for_relatedness_ld_prune_ibs_gt_0.9_filter.fam\n",
    "\n",
    "4496 /shared/jmarks/hiv/coga/genotype/observed/processing/005/post_structure/ea/autosomes/coga_genotypes_for_relatedness_ld_prune_ibs_gt_0.9_filter.fam\n",
    "\n",
    "217 /shared/jmarks/hiv/coga/genotype/observed/processing/005/post_structure/ha/autosomes/coga_genotypes_for_relatedness_ld_prune_ibs_gt_0.9_filter.fam\n",
    "```"
   ]
  },
  {
   "cell_type": "code",
   "execution_count": null,
   "metadata": {},
   "outputs": [],
   "source": [
    "# Calculate allele frequencies in data chunks\n",
    "for ancestry in $anlist; do\n",
    "    echo -e \"\\n\\n================ ${ancestry} ================\\n\\n\"\n",
    "    /shared/bioinformatics/software/scripts/ibd_pipeline.sh \\\n",
    "        --in_prefix $procD/post_structure/${ancestry}/autosomes/${study}_genotypes_for_relatedness_ld_prune_ibs_gt_0.9_filter \\\n",
    "        --out_dir $procD/post_structure/${ancestry}/autosomes\n",
    "    sleep 5s\n",
    "done"
   ]
  },
  {
   "cell_type": "code",
   "execution_count": null,
   "metadata": {},
   "outputs": [],
   "source": [
    "# Aggregate data\n",
    "for ancestry in $anlist; do\n",
    "    outfile=$procD/post_structure/${ancestry}/autosomes/${study}_genotypes_for_relatedness_ld_prune_ibs_gt_0.9_filter.genome\n",
    "    head -1 `ls $procD/post_structure/${ancestry}/autosomes/data.sub.genome* | head -1` > ${outfile}\n",
    "    cat $procD/post_structure/${ancestry}/autosomes/data.sub.genome* | \\\n",
    "        grep -v FID1 >> ${outfile}\n",
    "\n",
    "    # Remove temporary files\n",
    "    rm $procD/post_structure/${ancestry}/autosomes/data.sub.*\n",
    "    rm $procD/post_structure/${ancestry}/autosomes/tmp_sh*.sh\n",
    "done"
   ]
  },
  {
   "cell_type": "markdown",
   "metadata": {},
   "source": [
    "#### IBD filtering\n",
    "For individual pairs with greater than 0.4 IBD score, only the individual with the lower genotype missing call rate is retained. I create a list of individuals to remove that will be combined with the IBS list."
   ]
  },
  {
   "cell_type": "code",
   "execution_count": null,
   "metadata": {},
   "outputs": [],
   "source": [
    "## EC2 command line\n",
    "\n",
    "# Get list of individuals with IBD > 0.4\n",
    "for ancestry in $anlist; do\n",
    "    echo -e \"\\n\\n================ ${ancestry} ================\\n\\n\"\n",
    "    Rscript /shared/bioinformatics/software/R/merge_genome_missing.R \\\n",
    "        --genome $procD/post_structure/$ancestry/autosomes/${study}_genotypes_for_relatedness_ld_prune_ibs_gt_0.9_filter.genome \\\n",
    "        --imiss $procD/post_structure/$ancestry/autosomes/autosome_missing_call_rate.imiss \\\n",
    "        --type IBD \\\n",
    "        --pi_hat_threshold 0.4 \\\n",
    "        --out $procD/post_structure/${ancestry}/autosomes/${study}_genotypes_for_relatedness_ld_prune_ibd_gt_0.4_filter\n",
    "done"
   ]
  },
  {
   "cell_type": "markdown",
   "metadata": {},
   "source": [
    "```\n",
    "================ aa ================\n",
    "\n",
    "\n",
    "[1] \"Reading genome file /shared/jmarks/hiv/coga/genotype/observed/processing/005/post_structure/aa/autosomes/coga_genotypes_for_relatedness_ld_prune_ibs_gt_0.9_filter.genome\"\n",
    "[1] \"Reading missing file /shared/jmarks/hiv/coga/genotype/observed/processing/005/post_structure/aa/autosomes/autosome_missing_call_rate.imiss\"\n",
    "[1] \"Filtering\"\n",
    "[1] \"IBD > 0.4\"\n",
    "[1] \"40 rows meet filtering criteria\"\n",
    "[1] \"Merging files\"\n",
    "[1] \"Printing output\"\n",
    "\n",
    "\n",
    "================ ea ================\n",
    "\n",
    "\n",
    "[1] \"Reading genome file /shared/jmarks/hiv/coga/genotype/observed/processing/005/post_structure/ea/autosomes/coga_genotypes_for_relatedness_ld_prune_ibs_gt_0.9_filter.genome\"\n",
    "[1] \"Reading missing file /shared/jmarks/hiv/coga/genotype/observed/processing/005/post_structure/ea/autosomes/autosome_missing_call_rate.imiss\"\n",
    "[1] \"Filtering\"\n",
    "[1] \"IBD > 0.4\"\n",
    "[1] \"3938 rows meet filtering criteria\"\n",
    "[1] \"Merging files\"\n",
    "[1] \"Printing output\"\n",
    "\n",
    "\n",
    "================ ha ================\n",
    "\n",
    "\n",
    "[1] \"Reading genome file /shared/jmarks/hiv/coga/genotype/observed/processing/005/post_structure/ha/autosomes/coga_genotypes_for_relatedness_ld_prune_ibs_gt_0.9_filter.genome\"\n",
    "[1] \"Reading missing file /shared/jmarks/hiv/coga/genotype/observed/processing/005/post_structure/ha/autosomes/autosome_missing_call_rate.imiss\"\n",
    "[1] \"Filtering\"\n",
    "[1] \"IBD > 0.4\"\n",
    "[1] \"209 rows meet filtering criteria\"\n",
    "[1] \"Merging files\"\n",
    "[1] \"Printing output\"\n",
    "```"
   ]
  },
  {
   "cell_type": "markdown",
   "metadata": {},
   "source": [
    "#### KING - relationship inference for AAs\n",
    "For subjects with African ancestry, KING probides a better estimation of relatedness. I use this software to further identify subjects for removal."
   ]
  },
  {
   "cell_type": "code",
   "execution_count": null,
   "metadata": {},
   "outputs": [],
   "source": [
    "/shared/bioinformatics/software/third_party/king_v2.1.2/king \\\n",
    "    -b $procD/post_structure/aa/autosomes/${study}_genotypes_for_relatedness_ld_prune_ibs_gt_0.9_filter.bed \\\n",
    "    --kinship \\\n",
    "    --prefix $procD/post_structure/aa/autosomes/${study}_genotypes_for_relatedness_ld_prune_ibs_gt_0.9_filter.king\n",
    "\n",
    "# Extract PLINK IBD calculations for subject pairs\n",
    "outFile=$procD/post_structure/aa/autosomes/${study}_genotypes_for_relatedness.genome_lite\n",
    "echo -e \"PAIR_ID\\tPI_HAT\" > $outFile\n",
    "tail -n +2 $procD/post_structure/aa/autosomes/${study}_genotypes_for_relatedness_ld_prune_ibs_gt_0.9_filter.genome | \\\n",
    "    perl -lane '$pairId = \"\";\n",
    "        if ($F[0] < $F[2] || ($F[0] == $F[2] && $F[1] < $F[3])) {\n",
    "            $pairId = join(\"_\",$F[0],$F[1],$F[2],$F[3]);\n",
    "        } else {\n",
    "            $pairId = join(\"_\",$F[2],$F[3],$F[0],$F[1]);\n",
    "        }\n",
    "        print $pairId.\"\\t\".$F[9];' >> $outFile\n",
    "\n",
    "# Extract KING kinship calculations for subject pairs\n",
    "outFile=$procD/post_structure/aa/autosomes/${study}_genotypes_for_relatedness_ld_prune_ibs_gt_0.9_filter.king.king_lite\n",
    "echo -e \"PAIR_ID\\tKINSHIP\" > $outFile\n",
    "tail -n +2 $procD/post_structure/aa/autosomes/${study}_genotypes_for_relatedness_ld_prune_ibs_gt_0.9_filter.king.kin0 | \\\n",
    "    perl -lane '$pairId = \"\";\n",
    "        if ($F[0] < $F[2] || ($F[0] == $F[2] && $F[1] < $F[3])) {\n",
    "            $pairId = join(\"_\",$F[0],$F[1],$F[2],$F[3]);\n",
    "        } else {\n",
    "            $pairId = join(\"_\",$F[2],$F[3],$F[0],$F[1]);\n",
    "        }\n",
    "        print $pairId.\"\\t\".$F[7];' >> $outFile\n",
    "\n",
    "tail -n +2 $procD/post_structure/aa/autosomes/${study}_genotypes_for_relatedness_ld_prune_ibs_gt_0.9_filter.king.kin | \\\n",
    "    perl -lane '$pairId = \"\";\n",
    "        if ($F[1] < $F[2]) {\n",
    "            $pairId = join(\"_\",$F[0],$F[1],$F[0],$F[2]);\n",
    "        } else {\n",
    "            $pairId = join(\"_\",$F[0],$F[2],$F[0],$F[1]);\n",
    "        }\n",
    "        print $pairId.\"\\t\".$F[8];' >> $outFile\n",
    "\n",
    "\n",
    "# Combine IBD and kinship results\n",
    "Rscript /shared/bioinformatics/software/R/merge_datasets.R \\\n",
    "    --in_1 $procD/post_structure/aa/autosomes/${study}_genotypes_for_relatedness.genome_lite \\\n",
    "    --in_1_column PAIR_ID \\\n",
    "    --in_1_header \\\n",
    "    --in_2 $procD/post_structure/aa/autosomes/${study}_genotypes_for_relatedness_ld_prune_ibs_gt_0.9_filter.king.king_lite \\\n",
    "    --in_2_column PAIR_ID \\\n",
    "    --in_2_header \\\n",
    "    --out $procD/post_structure/aa/autosomes/${study}_genotypes_for_relatedness_ld_prune_ibs_gt_0.9_filter.genome_king \\\n",
    "    --out_header\n",
    "\n",
    "# Identify discrepancies between PLINK IBD and KING kinship values\n",
    "perl -lane 'if ($F[2] > 0.177 && $F[1] > 0.4) { print \"AGREE\\t\".$_; } elsif ($F[2] > 0.177 || $F[1] > 0.4) { print \"DISAGREE\\t\".$_; }' $procD/post_structure/aa/autosomes/${study}_genotypes_for_relatedness_ld_prune_ibs_gt_0.9_filter.genome_king \\\n",
    "    > $procD/post_structure/aa/autosomes/${study}_genotypes_for_relatedness_ld_prune_ibs_gt_0.9_filter_genome_king.ibd_comparison\n"
   ]
  },
  {
   "cell_type": "markdown",
   "metadata": {},
   "source": [
    "1 was identified by KING to remove.\n",
    "```\n",
    "DISAGREE        23694_3206386_23694_7240510 0.3438 0.1951\n",
    "```"
   ]
  },
  {
   "cell_type": "code",
   "execution_count": null,
   "metadata": {},
   "outputs": [],
   "source": [
    "# subjects identified exclusively by KING\n",
    "awk '$1==\"DISAGREE\" { if ($4>0.177) {print $2}}' $procD/post_structure/aa/autosomes/${study}_genotypes_for_relatedness_ld_prune_ibs_gt_0.9_filter_genome_king.ibd_comparison \\\n",
    "    > $procD/post_structure/aa/autosomes/${study}_genotypes_for_relatedness_ld_prune_ibs_gt_0.9_filter_genome_king.ibd_comparison_king_only\n",
    "\n",
    "# split ids\n",
    "awk -F\"_\" '{print $1,$2, $3,$4}' $procD/post_structure/aa/autosomes/${study}_genotypes_for_relatedness_ld_prune_ibs_gt_0.9_filter_genome_king.ibd_comparison_king_only \\\n",
    "    > tmp && mv tmp $procD/post_structure/aa/autosomes/${study}_genotypes_for_relatedness_ld_prune_ibs_gt_0.9_filter_genome_king.ibd_comparison_king_only\n",
    "\n",
    "\n",
    "# create a file that contains the king subject(s) to add to the stats file\n",
    "awk 'NR==FNR{map[$3\":\"$4\":\"$1\":\"$2] = $0; map[$1\":\"$2\":\"$3\":\"$4] = $0; next} \\\n",
    "    {print map[$1\":\"$2\":\"$3\":\"$4] }'  $procD/post_structure/aa/autosomes/${study}_genotypes_for_relatedness_ld_prune_ibs_gt_0.9_filter.genome \\\n",
    "    *only > $procD/post_structure/aa/autosomes/king_tmp1\n",
    "\n",
    "## WARNING make sure IID1 and IID2 are in the same order as ones in king_tmp1 \n",
    "## we will have to manually check this for now\n",
    "awk 'NR==FNR {map[$1\":\"$2] = $1\" \"$3\" \"$4\" \"$5\" \"$6; next} \n",
    "        {print map[$3\":\"$4], map[$1\":\"$2]}' \\\n",
    "    $procD/post_structure/aa/autosomes/autosome_missing_call_rate.imiss \\\n",
    "    $procD/post_structure/aa/autosomes/coga_genotypes_for_relatedness_ld_prune_ibs_gt_0.9_filter_genome_king.ibd_comparison_king_only \\\n",
    "    > $procD/post_structure/aa/autosomes/king_tmp2\n",
    "\n",
    "paste $procD/post_structure/aa/autosomes/king_tmp1\\\n",
    "    $procD/post_structure/aa/autosomes/king_tmp2 >>\\\n",
    "    $procD/post_structure/aa/autosomes/${study}_genotypes_for_relatedness_ld_prune_ibd_gt_0.4_filter.stats"
   ]
  },
  {
   "cell_type": "markdown",
   "metadata": {},
   "source": [
    "#### Graph Analysis for IBD\n",
    "In graph analysis a network of related individuals is created. Genotype call rate is calculated within this network to determine which individuals to remove. The purpose of using a network-based filtering is to prevent too many individuals from being unnecessarily removed when relationships extend beyond pairwise relatedness."
   ]
  },
  {
   "cell_type": "code",
   "execution_count": null,
   "metadata": {},
   "outputs": [],
   "source": [
    "## EC2 command line\n",
    "\n",
    "# Get genotype missing call rate for graph analysis\n",
    "for ancestry in $anlist; do\n",
    "    echo -e \"\\n\\n================ ${ancestry} ================\\n\\n\"\n",
    "        docker run -v \"$procD/post_structure/$ancestry/autosomes:/data/\" rticode/plink:1.9 plink \\\n",
    "        --bfile /data/${study}_structure_variant_gcr_hwe_subject_gcr_filter \\\n",
    "        --missing \\\n",
    "        --out /data/${study}_genotypes_for_relatedness\n",
    "done"
   ]
  },
  {
   "cell_type": "code",
   "execution_count": null,
   "metadata": {},
   "outputs": [],
   "source": [
    "# R console #\n",
    "# Graph analysis to determine minimum # of subjects to remove\n",
    "R\n",
    "library(igraph)\n",
    "study <- \"coga\"\n",
    "setwd(\"/shared/jmarks/hiv/coga/genotype/observed/processing/005/post_structure/\")\n",
    "for(ancestry in c(\"ea\",\"aa\", \"ha\")){\n",
    "    stats = read.table(paste0(ancestry, \"/autosomes/\", study, \"_genotypes_for_relatedness_ld_prune_ibd_gt_0.4_filter.stats\"), header = TRUE, colClasses=\"character\")\n",
    "    ibdPairs = as.data.frame(cbind(paste(stats$FID2, stats$IID2, sep=\"__\"), paste(stats$FID1, stats$IID1, sep=\"__\")), stringsAsFactors = FALSE)\n",
    "    colnames(ibdPairs) = c(\"fid_iid_1\",\"fid_iid_2\")\n",
    "    ibdGraph = graph.data.frame(ibdPairs, directed = FALSE)\n",
    "    vertexDegrees = sort(degree(ibdGraph), decreasing = TRUE)\n",
    "    removeList = vector()\n",
    "    while (length(vertexDegrees) > 0 && vertexDegrees[1] > 1) {\n",
    "        if (exists(\"removeList\")) {\n",
    "            removeList = c(removeList, names(vertexDegrees[1]))\n",
    "        } else {\n",
    "            removeList = names(vertexDegrees[1])\n",
    "        }\n",
    "        ibdGraph = ibdGraph - names(vertexDegrees[1])\n",
    "        vertexDegrees = sort(degree(ibdGraph), decreasing = TRUE)\n",
    "    }\n",
    "    ibdPairs = ibdPairs[!(ibdPairs[,1] %in% removeList) & !(ibdPairs[,2] %in% removeList),]\n",
    "    imiss = read.table(paste0(ancestry, \"/autosomes/autosome_missing_call_rate.imiss\"), header = TRUE, colClasses = \"character\")\n",
    "    imiss = as.data.frame(cbind(paste(imiss$FID, imiss$IID, sep=\"__\"), as.numeric(imiss$F_MISS)), stringsAsFactors = FALSE)\n",
    "    colnames(imiss) = c(\"fid_iid_1\",\"f_miss_1\")\n",
    "    ibdPairs = merge(ibdPairs, imiss, by=\"fid_iid_1\", sort = FALSE)\n",
    "    colnames(imiss) = c(\"fid_iid_2\",\"f_miss_2\")\n",
    "    ibdPairs = merge(ibdPairs, imiss, by=\"fid_iid_2\", sort = FALSE)\n",
    "    removeList = c(removeList, ibdPairs[ibdPairs[\"f_miss_1\"] < ibdPairs[\"f_miss_2\"],\"fid_iid_2\"])\n",
    "    removeList = c(removeList, ibdPairs[ibdPairs[\"f_miss_1\"] >= ibdPairs[\"f_miss_2\"],\"fid_iid_1\"])\n",
    "    removeList = cbind(lapply(strsplit(removeList,\"__\"), function(x) x[1]),lapply(strsplit(removeList,\"__\"), function(x) x[2]))\n",
    "    write.table(removeList, file=paste0(ancestry, \"/autosomes/\", study, \"_genotypes_for_relatedness_ld_prune_ibd_gt_0.4_igraph.remove\"), row.names = FALSE, col.names = FALSE, quote = FALSE)\n",
    "    rm(removeList)\n",
    "}"
   ]
  },
  {
   "cell_type": "markdown",
   "metadata": {},
   "source": [
    "##### View alcohol case distribution: post-filtering"
   ]
  },
  {
   "cell_type": "code",
   "execution_count": 76,
   "metadata": {
    "scrolled": false
   },
   "outputs": [
    {
     "data": {
      "image/png": "[encoded data removed]",
      "text/plain": [
       "Plot with title \"Pre-IBS/IBD \""
      ]
     },
     "metadata": {},
     "output_type": "display_data"
    },
    {
     "data": {
      "image/png": "[encoded data removed]",
      "text/plain": [
       "Plot with title \"EA\""
      ]
     },
     "metadata": {},
     "output_type": "display_data"
    },
    {
     "data": {
      "image/png": "[encoded data removed]",
      "text/plain": [
       "Plot with title \"AA\""
      ]
     },
     "metadata": {},
     "output_type": "display_data"
    },
    {
     "data": {
      "image/png": "[encoded data removed]",
      "text/plain": [
       "Plot with title \"HA\""
      ]
     },
     "metadata": {},
     "output_type": "display_data"
    }
   ],
   "source": [
    "setwd(\"C://Users/jmarks/OneDrive - Research Triangle Institute/Projects//HIV/cfar_coga/qc/coga/ibs_ibd/\")\n",
    "mytable <- read.table(\"subject_phenotype.tsv\", header=T, sep=\"\\t\")\n",
    "ea <- read.table(\"ea/coga_genotypes_for_relatedness_ld_prune_ibd_gt_0.4_filter.fam\")\n",
    "aa <- read.table(\"aa/coga_genotypes_for_relatedness_ld_prune_ibd_gt_0.4_filter.fam\")\n",
    "ha <- read.table(\"ha/coga_genotypes_for_relatedness_ld_prune_ibd_gt_0.4_filter.fam\")\n",
    "\n",
    "ea_overlap <- mytable[mytable$SUBJECT_ID %in% ea$V2,]\n",
    "aa_overlap <- mytable[mytable$SUBJECT_ID %in% aa$V2,]\n",
    "ha_overlap <- mytable[mytable$SUBJECT_ID %in% ha$V2,]\n",
    "\n",
    "options(repr.plot.width=10, repr.plot.height=8)\n",
    "\n",
    "colors <- c(\"blue\", \"green\")\n",
    "hist(mytable$AFFECTION_STATUS,\n",
    "     col=colors, labels=T, main=\"Pre-IBS/IBD \", xlab=\"\")\n",
    "legend(\"topright\", c(\"control\", \"case\"), col=c(\"blue\", \"green\"), lwd=10)\n",
    "\n",
    "#par(mfrow=c(1,3))\n",
    "## EA\n",
    "colors <- c(\"purple\", \"dark green\")\n",
    "hist(ea_overlap$AFFECTION_STATUS,\n",
    "     col=colors, labels=T, main=\"EA\", xlab=\"\")\n",
    "legend(\"topright\", c(\"control\", \"case\"), col=c(\"purple\", \"dark green\"), lwd=10)\n",
    "\n",
    "## AA\n",
    "colors <- c(\"red\", \"orange\")\n",
    "hist(aa_overlap$AFFECTION_STATUS,\n",
    "     col=colors, labels=T, main=\"AA\", xlab=\"\")\n",
    "legend(\"topright\", c(\"control\", \"case\"), col=c(\"red\", \"orange\"), lwd=10)\n",
    "\n",
    "## HA\n",
    "colors <- c(\"black\", \"grey\")\n",
    "hist(ha_overlap$AFFECTION_STATUS,\n",
    "     col=colors, labels=T, main=\"HA\", xlab=\"\")\n",
    "legend(\"topright\", c(\"control\", \"case\"), col=c(\"black\", \"grey\"), lwd=10)\n"
   ]
  },
  {
   "cell_type": "markdown",
   "metadata": {},
   "source": [
    "#### Constructing relatedness filtering lists\n",
    "The output of the IBS filtering and the IBD filtering are combined into a single remove list."
   ]
  },
  {
   "cell_type": "code",
   "execution_count": null,
   "metadata": {},
   "outputs": [],
   "source": [
    "# Get list of individuals from IBD and IBS filter lists\n",
    "\n",
    "# create empty dummy files if they do not exist\n",
    "function exists_file {\n",
    "    if [ ! -f $1 ]; then\n",
    "    echo -e \"Creating an empty file:\\n$1\\n\"\n",
    "    touch $1\n",
    "    fi\n",
    "}\n",
    "\n",
    "for ancestry in $anlist; do\n",
    "    ibd_file=$procD/post_structure/${ancestry}/autosomes/${study}_genotypes_for_relatedness_ld_prune_ibd_gt_0.4_igraph.remove\n",
    "    ibs_file=$procD/post_structure/${ancestry}/autosomes/${study}_genotypes_for_relatedness_ld_prune_ibs_gt_0.9_igraph.remove\n",
    "    combined_file=$procD/post_structure/${ancestry}/autosomes/ibs_gt_0.9_ibd_gt_0.4.remove\n",
    "\n",
    "    exists_file $ibd_file\n",
    "    exists_file $ibs_file\n",
    "\n",
    "    cat $ibd_file $ibs_file | sort -u > $combined_file\n",
    "\n",
    "done\n",
    "\n",
    "for an in $anlist;do\n",
    "\n",
    "    ibd_file=$procD/post_structure/${an}/autosomes/${study}_genotypes_for_relatedness_ld_prune_ibd_gt_0.4_igraph.remove\n",
    "    ibs_file=$procD/post_structure/${an}/autosomes/${study}_genotypes_for_relatedness_ld_prune_ibs_gt_0.9_igraph.remove\n",
    "    combined_file=$procD/post_structure/${an}/autosomes/ibs_gt_0.9_ibd_gt_0.4.remove\n",
    "\n",
    "    ibs_removed=$(wc -l ${ibs_file} | awk '{print $1}')\n",
    "    ibd_removed=$(wc -l ${ibd_file} | awk '{print $1}')\n",
    "    combined_removed=$(wc -l ${combined_file} | awk '{print $1}')\n",
    "\n",
    "    echo -e \"Number of $an subjects removed by IBS: ${ibs_removed}\"\n",
    "    echo -e \"Number of $an subjects removed by IBD: ${ibd_removed}\"\n",
    "    echo -e \"Number of $an subjects removed by IBS & IBD: ${combined_removed}\"\n",
    "    echo\n",
    "done\n"
   ]
  },
  {
   "cell_type": "markdown",
   "metadata": {},
   "source": [
    "The list of subjects in this `*remove` file will be retained as a filtering list for the merged autosome and chrX PLINK file sets. This list includes subjects that were indicated for removal by both `ibs` and `ibd` filtering steps."
   ]
  },
  {
   "cell_type": "markdown",
   "metadata": {},
   "source": [
    "```\n",
    "Number of aa subjects removed by IBS: 0\n",
    "Number of aa subjects removed by IBD: 22\n",
    "Number of aa subjects removed by IBS & IBD: 22\n",
    "\n",
    "Number of ea subjects removed by IBS: 521\n",
    "Number of ea subjects removed by IBD: 2022\n",
    "Number of ea subjects removed by IBS & IBD: 2543\n",
    "\n",
    "Number of ha subjects removed by IBS: 6\n",
    "Number of ha subjects removed by IBD: 99\n",
    "Number of ha subjects removed by IBS & IBD: 105\n",
    "```"
   ]
  },
  {
   "cell_type": "markdown",
   "metadata": {},
   "source": [
    "### ChrX Processing \n",
    "#### Missing data subject filtering\n",
    "We calculate the proportion of missing genotype calls on chrX using PLINK to assess whether any subjects have data missing for the whole chromosome."
   ]
  },
  {
   "cell_type": "code",
   "execution_count": null,
   "metadata": {},
   "outputs": [],
   "source": [
    "# Get missing call rate for chrx\n",
    "for ancestry in $anlist; do\n",
    "    echo -e \"\\n\\n================ ${ancestry} ================\\n\\n\"\n",
    "    docker run -v \"$procD/post_structure/$ancestry/chrx:/data/\" rticode/plink:1.9 plink \\\n",
    "        --noweb \\\n",
    "        --memory 3000 \\\n",
    "        --bfile /data/${study}_structure \\\n",
    "        --missing \\\n",
    "        --chr 23 \\\n",
    "        --out /data/chrx_missing_call_rate\n",
    "\n",
    "    # Find subjects that have data missing for whole chrx\n",
    "    tail -n +2 $procD/post_structure/${ancestry}/chrx/chrx_missing_call_rate.imiss | \\\n",
    "        awk '{ OFS=\"\\t\" } { if($6==1){ print $1,$2 } }' >> \\\n",
    "        $procD/post_structure/${ancestry}/chrx/missing_whole_chrx.remove\n",
    "done\n",
    "\n",
    "for ancestry in $anlist; do\n",
    "    echo -e \"\\nNumber of ${ancestry} subjects with missing whole chromosome: $(wc -l $procD/post_structure/${ancestry}/chrx/missing_whole_chrx.remove)\\n\"\n",
    "done"
   ]
  },
  {
   "cell_type": "markdown",
   "metadata": {},
   "source": [
    "**Note:** If subjects ever show up as having missing data then further discussions need to be had on whether these subjects should be removed completely or whether they should only be excluded for the missing chromosome."
   ]
  },
  {
   "cell_type": "markdown",
   "metadata": {},
   "source": [
    "```\n",
    "Number of aa subjects with missing whole chromosome: 0 /shared/jmarks/hiv/coga/genotype/observed/processing/005/post_structure/aa/chrx/missing_whole_chrx.remove\n",
    "\n",
    "Number of ea subjects with missing whole chromosome: 0 /shared/jmarks/hiv/coga/genotype/observed/processing/005/post_structure/ea/chrx/missing_whole_chrx.remove\n",
    "\n",
    "Number of ha subjects with missing whole chromosome: 0 /shared/jmarks/hiv/coga/genotype/observed/processing/005/post_structure/ha/chrx/missing_whole_chrx.remove\n",
    "```"
   ]
  },
  {
   "cell_type": "code",
   "execution_count": null,
   "metadata": {},
   "outputs": [],
   "source": [
    "# clean up chrx directory\n",
    "for an in $anlist;do\n",
    "    rm -f $procD/post_structure/$an/chrx/chr*missing_call_rate*\n",
    "done"
   ]
  },
  {
   "cell_type": "markdown",
   "metadata": {},
   "source": [
    "#### Genotype call rate variant filter\n",
    "I calculate the genotype missing call rate and remove any variants with a rate $> 3\\%$."
   ]
  },
  {
   "cell_type": "code",
   "execution_count": null,
   "metadata": {},
   "outputs": [],
   "source": [
    "## Genotype call rate variant filter\n",
    "for ancestry in $anlist; do\n",
    "    echo -e \"\\n\\n================ ${ancestry} ================\\n\\n\"\n",
    "    docker run -v \"$procD/post_structure/$ancestry/chrx:/data/\" rticode/plink:1.9 plink \\\n",
    "        --bfile /data/${study}_structure \\\n",
    "        --geno $gcr \\\n",
    "        --make-bed \\\n",
    "        --out /data/${study}_structure_variant_gcr_filter\n",
    "done\n",
    "\n",
    "for ancestry in $anlist; do\n",
    "    wc -l $procD/post_structure/$ancestry/chrx/*bim\n",
    "done"
   ]
  },
  {
   "cell_type": "markdown",
   "metadata": {},
   "source": [
    "```\n",
    "  13989 /shared/jmarks/hiv/coga/genotype/observed/processing/005/post_structure/aa/chrx/coga_structure.bim\n",
    "  12475 /shared/jmarks/hiv/coga/genotype/observed/processing/005/post_structure/aa/chrx/coga_structure_variant_gcr_filter.bim\n",
    "  13989 /shared/jmarks/hiv/coga/genotype/observed/processing/005/post_structure/aa/chrx/coga_unmerged.bim\n",
    "  40453 total\n",
    "  13989 /shared/jmarks/hiv/coga/genotype/observed/processing/005/post_structure/ea/chrx/coga_structure.bim\n",
    "  12666 /shared/jmarks/hiv/coga/genotype/observed/processing/005/post_structure/ea/chrx/coga_structure_variant_gcr_filter.bim\n",
    "  13989 /shared/jmarks/hiv/coga/genotype/observed/processing/005/post_structure/ea/chrx/coga_unmerged.bim\n",
    "  40644 total\n",
    "  13989 /shared/jmarks/hiv/coga/genotype/observed/processing/005/post_structure/ha/chrx/coga_structure.bim\n",
    "  12518 /shared/jmarks/hiv/coga/genotype/observed/processing/005/post_structure/ha/chrx/coga_structure_variant_gcr_filter.bim\n",
    "  13989 /shared/jmarks/hiv/coga/genotype/observed/processing/005/post_structure/ha/chrx/coga_unmerged.bim\n",
    "```"
   ]
  },
  {
   "cell_type": "markdown",
   "metadata": {},
   "source": [
    "#### Hardy-Weinberg equilibrium filtering (for females)\n",
    "The Hardy-Weinberg Theorem (or Law) characterizes the distributions of genotype frequencies. It is basically the null model for population genetics. Tests for Hardy-Weinberg genotype frequencies are used primarily to test for population stratification and other forms of non-random mating. Extensive deviation from Hardy-Weinberg equilibrium (HWE) can be indicative of a genotyping or genotype calling error. Using PLINK `--hardy`, I calculate goodness of fit test p-values for allele frequencies compared to HWE. Any variant with p < 0.0001 is removed.\n",
    "\n",
    "See [nature webpage](https://www.nature.com/scitable/knowledge/library/the-hardy-weinberg-principle-13235724) which describes more about HWE.\n",
    "\n",
    "**Note**: [HWE is typically applied to only females](https://www.ncbi.nlm.nih.gov/pubmed/27071844), therefore that is the approach we will take.\n",
    "\n",
    "```\n",
    "Sex code ('1' = male, '2' = female, '0' = unknown)\n",
    "```\n",
    "\n",
    "**Note2**: For this case, all of the subjects are female."
   ]
  },
  {
   "cell_type": "code",
   "execution_count": null,
   "metadata": {},
   "outputs": [],
   "source": [
    "for ancestry in $anlist; do\n",
    "    echo -e \"\\n\\n================ ${ancestry} ================\\n\\n\"\n",
    "    docker run -v \"$procD/post_structure/$ancestry/chrx/:/data/\" rticode/plink:1.9 plink \\\n",
    "        --bfile /data/${study}_structure_variant_gcr_filter \\\n",
    "        --hwe $hwe \\\n",
    "        --filter-females \\\n",
    "        --make-bed \\\n",
    "        --out /data/${study}_hwe_female_filter\n",
    "\n",
    "    awk '{print $2}' $procD/post_structure/$ancestry/chrx/${study}_hwe_female_filter.bim >\\\n",
    "        $procD/post_structure/$ancestry/chrx/${study}_hwe_extract.txt\n",
    "\n",
    "    docker run -v \"$procD/post_structure/$ancestry/chrx/:/data/\" rticode/plink:1.9 plink \\\n",
    "        --bfile /data/${study}_structure_variant_gcr_filter \\\n",
    "        --extract /data/${study}_hwe_extract.txt \\\n",
    "        --make-bed \\\n",
    "        --out /data/${study}_structure_variant_gcr_hwe_filter\n",
    "\n",
    "done\n",
    "\n",
    "for an in $anlist;do\n",
    "    wc -l $procD/post_structure/$an/chrx/${study}_structure_*bim\n",
    "    echo \"\"\n",
    "done\n"
   ]
  },
  {
   "cell_type": "markdown",
   "metadata": {},
   "source": [
    "```\n",
    " 12475 /shared/jmarks/hiv/coga/genotype/observed/processing/005/post_structure/aa/chrx/coga_structure_variant_gcr_filter.bim\n",
    " 12474 /shared/jmarks/hiv/coga/genotype/observed/processing/005/post_structure/aa/chrx/coga_structure_variant_gcr_hwe_filter.bim\n",
    " 24949 total\n",
    "\n",
    " 12666 /shared/jmarks/hiv/coga/genotype/observed/processing/005/post_structure/ea/chrx/coga_structure_variant_gcr_filter.bim\n",
    " 12657 /shared/jmarks/hiv/coga/genotype/observed/processing/005/post_structure/ea/chrx/coga_structure_variant_gcr_hwe_filter.bim\n",
    " 25323 total\n",
    "\n",
    " 12518 /shared/jmarks/hiv/coga/genotype/observed/processing/005/post_structure/ha/chrx/coga_structure_variant_gcr_filter.bim\n",
    " 12518 /shared/jmarks/hiv/coga/genotype/observed/processing/005/post_structure/ha/chrx/coga_structure_variant_gcr_hwe_filter.bim\n",
    "```"
   ]
  },
  {
   "cell_type": "code",
   "execution_count": null,
   "metadata": {},
   "outputs": [],
   "source": [
    "### legacy code, might come in handy someday ###\n",
    "\n",
    "\n",
    "## update PLINK file set\n",
    "#/shared/bioinformatics/software/third_party/plink-1.90-beta-4.10-x86_64/plink \\\n",
    "#    --bed ea/chrX/vidus.dbsnp138.b37.structure.variant_missing_lte_0.03_filter.bed \\\n",
    "#    --bim ea/chrX/vidus.dbsnp138.b37.structure.variant_missing_lte_0.03_filter.bim \\\n",
    "#    --fam ea/chrX/vidus.dbsnp138.b37.structure.variant_missing_lte_0.03_filter.mapped.fam \\\n",
    "#    --make-bed \\\n",
    "#    --out $procD/ea/chrX/vidus.dbsnp138.b37.structure.variant_missing_lte_0.03_filter\n",
    "#\n",
    "## create a fam file of only females\n",
    "#awk '{ if($5==2) {print $1,$2}}' $procD/ea/chrX/vidus.dbsnp138.b37.structure.variant_missing_lte_0.03_filter.fam >\\\n",
    "#    $procD/ea/chrX/females_ids\n",
    "#\n",
    "#/shared/bioinformatics/software/third_party/plink-1.90-beta-4.10-x86_64/plink \\\n",
    "#    --memory 3800 \\\n",
    "#    --noweb \\\n",
    "#    --bfile $procD/ea/chrX/vidus.dbsnp138.b37.structure.variant_missing_lte_0.03_filter \\\n",
    "#    --keep $procD/ea/chrX/females_ids \\\n",
    "#    --make-bed \\\n",
    "#    --out $procD/ea/chrX/$study.dbsnp138.b37.structure.variant_missing_lte_0.03_filter.females\n",
    "#\n",
    "#wc -l $procD/ea/chrX/vidus.dbsnp138.b37.structure.variant_missing_lte_0.03_filter.females.fam\n",
    "#\"\"\"\n",
    "#236 /shared/jmarks/hiv/vidus/genotype/observed/processing/004/ea/chrX/vidus.dbsnp138.b37.structure.variant_missing_lte_0.03_filter.females.fam\n",
    "#\"\"\"\n",
    "#\n",
    "## Calculate HW p-values for the females for each ancestry group\n",
    "#for ancestry in $anlist; do\n",
    "#    echo -e \"\\n\\n================ ${ancestry} ================\\n\\n\"\n",
    "#    /shared/bioinformatics/software/third_party/plink-1.90-beta-4.10-x86_64/plink \\\n",
    "#        --memory 3800 \\\n",
    "#        --noweb \\\n",
    "#        --bfile $procD/$ancestry/chrX/$study.dbsnp138.b37.structure.variant_missing_lte_0.03_filter.females \\\n",
    "#        --hwe $hwe \\\n",
    "#        --make-bed \\\n",
    "#        --out $procD/${ancestry}/chrX/hwe.filtered\n",
    "#done\n",
    "#\n",
    "#wc -l /shared/jmarks/hiv/vidus/genotype/observed/processing/004/ea/chrX/hwe.filtered.{bim,fam}\n",
    "#\"\"\"\n",
    "# 16877 /shared/jmarks/hiv/vidus/genotype/observed/processing/004/ea/chrX/hwe.filtered.bim\n",
    "#   236 /shared/jmarks/hiv/vidus/genotype/observed/processing/004/ea/chrX/hwe.filtered.fam\n",
    "#\"\"\"\n",
    "#\n",
    "#cut -f2 /shared/jmarks/hiv/vidus/genotype/observed/processing/004/ea/chrX/hwe.filtered.bim  >\\\n",
    "#    $procD/ea/chrX/hwe.filtered.keep\n",
    "#\n",
    "## now extract those SNPs from combined (male & female) data set\n",
    "#for ancestry in $anlist; do\n",
    "#    echo -e \"\\n\\n================ ${ancestry} ================\\n\\n\"\n",
    "#    /shared/bioinformatics/software/third_party/plink-1.90-beta-4.10-x86_64/plink \\\n",
    "#        --memory 3800 \\\n",
    "#        --noweb \\\n",
    "#        --bfile $procD/$ancestry/chrX/$study.dbsnp138.b37.structure.variant_missing_lte_0.03_filter \\\n",
    "#        --extract $procD/ea/chrX/hwe.filtered.keep \\\n",
    "#        --make-bed \\\n",
    "#        --out $procD/ea/chrX/$study.dbsnp138.b37.structure.variant_missing_lte_0.03.hwe_filter\n",
    "#done\n",
    "#\n",
    "#wc -l $procD/ea/chrX/$study.dbsnp138.b37.structure.variant_missing_lte_0.03.hwe_filter.*\n",
    "#\"\"\" \n",
    "#    1849 /shared/jmarks/hiv/vidus/genotype/observed/processing/004/ea/chrX/vidus.dbsnp138.b37.structure.variant_missing_lte_0.03.hwe_filter.bed\n",
    "#   16877 /shared/jmarks/hiv/vidus/genotype/observed/processing/004/ea/chrX/vidus.dbsnp138.b37.structure.variant_missing_lte_0.03.hwe_filter.bim\n",
    "#     972 /shared/jmarks/hiv/vidus/genotype/observed/processing/004/ea/chrX/vidus.dbsnp138.b37.structure.variant_missing_lte_0.03.hwe_filter.fam\n",
    "#\"\"\"\n"
   ]
  },
  {
   "cell_type": "markdown",
   "metadata": {},
   "source": [
    "### Merge autosomes and chrX\n",
    "The data processed through to HWE filtering for both the autosomes and chrX are merged before applying the final subject filtering steps."
   ]
  },
  {
   "cell_type": "code",
   "execution_count": null,
   "metadata": {},
   "outputs": [],
   "source": [
    "## Merge autosomes and chrX\n",
    "for ancestry in $anlist; do\n",
    "    echo -e \"\\n\\n================ ${ancestry} ================\\n\\n\"\n",
    "    docker run -v \"$procD/post_structure/$ancestry/:/data/\" rticode/plink:1.9 plink \\\n",
    "        --noweb \\\n",
    "        --bfile /data/autosomes/${study}_structure_variant_gcr_hwe_filter \\\n",
    "        --bmerge /data/chrx/${study}_structure_variant_gcr_hwe_filter \\\n",
    "        --make-bed \\\n",
    "        --out /data/${study}_structure_variant_gcr_hwe_filter\n",
    "done\n",
    "\n",
    "for ancestry in $anlist; do\n",
    "    wc -l $procD/post_structure/$ancestry/*.{bim,fam}\n",
    "done"
   ]
  },
  {
   "cell_type": "markdown",
   "metadata": {},
   "source": [
    "```\n",
    "  567891 /shared/jmarks/hiv/coga/genotype/observed/processing/005/post_structure/aa/coga_structure.bim\n",
    "  513327 /shared/jmarks/hiv/coga/genotype/observed/processing/005/post_structure/aa/coga_structure_variant_gcr_hwe_filter.bim\n",
    "     157 /shared/jmarks/hiv/coga/genotype/observed/processing/005/post_structure/aa/coga_structure.fam\n",
    "     157 /shared/jmarks/hiv/coga/genotype/observed/processing/005/post_structure/aa/coga_structure_variant_gcr_hwe_filter.fam\n",
    "     \n",
    "  567891 /shared/jmarks/hiv/coga/genotype/observed/processing/005/post_structure/ea/coga_structure.bim\n",
    "  524179 /shared/jmarks/hiv/coga/genotype/observed/processing/005/post_structure/ea/coga_structure_variant_gcr_hwe_filter.bim\n",
    "    5030 /shared/jmarks/hiv/coga/genotype/observed/processing/005/post_structure/ea/coga_structure.fam\n",
    "    5030 /shared/jmarks/hiv/coga/genotype/observed/processing/005/post_structure/ea/coga_structure_variant_gcr_hwe_filter.fam\n",
    "    \n",
    "  567891 /shared/jmarks/hiv/coga/genotype/observed/processing/005/post_structure/ha/coga_structure.bim\n",
    "  518340 /shared/jmarks/hiv/coga/genotype/observed/processing/005/post_structure/ha/coga_structure_variant_gcr_hwe_filter.bim\n",
    "     223 /shared/jmarks/hiv/coga/genotype/observed/processing/005/post_structure/ha/coga_structure.fam\n",
    "     223 /shared/jmarks/hiv/coga/genotype/observed/processing/005/post_structure/ha/coga_structure_variant_gcr_hwe_filter.fam\n",
    "```"
   ]
  },
  {
   "cell_type": "markdown",
   "metadata": {},
   "source": [
    "#### Relatedness filter\n",
    "IBS & IBD filters <br>\n",
    "From relatedness calculations on the autosomal data, I remove subjects that are closely related or seemingly identical."
   ]
  },
  {
   "cell_type": "code",
   "execution_count": null,
   "metadata": {},
   "outputs": [],
   "source": [
    "## Relatedness filter\n",
    "# Remove subjects \n",
    "for ancestry in $anlist; do\n",
    "    echo -e \"\\n\\n================ ${ancestry} ================\\n\\n\"\n",
    "    docker run -v \"$procD/post_structure/$ancestry/:/data/\" rticode/plink:1.9 plink \\\n",
    "        --bfile /data/${study}_structure_variant_gcr_hwe_filter \\\n",
    "        --remove /data/autosomes/ibs_gt_0.9_ibd_gt_0.4.remove \\\n",
    "        --make-bed \\\n",
    "        --out /data/${study}_structure_variant_gcr_hwe_ibs_ibd_filter\n",
    "    #echo -e \"\\nNumber of ${ancestry} subjects removed: $(wc -l  ${ancestry}/autosomes/ibs_gt_0.9_ibd_gt_0.4.remove)\\n\\n\"\n",
    "done\n",
    "\n",
    "for ancestry in $anlist;do\n",
    "    wc -l $procD/post_structure/${ancestry}/${study}_structure*fam\n",
    "done"
   ]
  },
  {
   "cell_type": "markdown",
   "metadata": {},
   "source": [
    "```\n",
    "  157 /shared/jmarks/hiv/coga/genotype/observed/processing/005/post_structure/aa/coga_structure.fam\n",
    "  157 /shared/jmarks/hiv/coga/genotype/observed/processing/005/post_structure/aa/coga_structure_variant_gcr_hwe_filter.fam\n",
    "  135 /shared/jmarks/hiv/coga/genotype/observed/processing/005/post_structure/aa/coga_structure_variant_gcr_hwe_ibs_ibd_filter.fam\n",
    "  \n",
    "  5030 /shared/jmarks/hiv/coga/genotype/observed/processing/005/post_structure/ea/coga_structure.fam\n",
    "  5030 /shared/jmarks/hiv/coga/genotype/observed/processing/005/post_structure/ea/coga_structure_variant_gcr_hwe_filter.fam\n",
    "  2487 /shared/jmarks/hiv/coga/genotype/observed/processing/005/post_structure/ea/coga_structure_variant_gcr_hwe_ibs_ibd_filter.fam\n",
    "  \n",
    "  223 /shared/jmarks/hiv/coga/genotype/observed/processing/005/post_structure/ha/coga_structure.fam\n",
    "  223 /shared/jmarks/hiv/coga/genotype/observed/processing/005/post_structure/ha/coga_structure_variant_gcr_hwe_filter.fam\n",
    "  118 /shared/jmarks/hiv/coga/genotype/observed/processing/005/post_structure/ha/coga_structure_variant_gcr_hwe_ibs_ibd_filter.fam\n",
    "```"
   ]
  },
  {
   "cell_type": "markdown",
   "metadata": {},
   "source": [
    "#### Genotype call rate subject filter\n",
    "I calculate the genotype missing call rate and remove any subjects with a rate $> 3\\%$."
   ]
  },
  {
   "cell_type": "code",
   "execution_count": null,
   "metadata": {},
   "outputs": [],
   "source": [
    "## Genotype call rate subject filter \n",
    "for ancestry in $anlist; do\n",
    "    echo -e \"\\n\\n================ ${ancestry} ================\\n\\n\"\n",
    "    docker run -v \"$procD/post_structure/$ancestry/:/data/\" rticode/plink:1.9 plink \\\n",
    "        --noweb \\\n",
    "        --bfile /data/${study}_structure_variant_gcr_hwe_ibs_ibd_filter \\\n",
    "        --mind $gcr \\\n",
    "        --make-bed \\\n",
    "        --out /data/${study}_structure_variant_gcr_hwe_ibs_ibd_subject_gcr_filter\n",
    "done\n",
    "\n",
    "for ancestry in $anlist; do\n",
    "    wc -l $procD/post_structure/$ancestry/${study}_structure*.fam\n",
    "done"
   ]
  },
  {
   "cell_type": "markdown",
   "metadata": {},
   "source": [
    "```\n",
    "  157 /shared/jmarks/hiv/coga/genotype/observed/processing/005/post_structure/aa/coga_structure.fam\n",
    "  157 /shared/jmarks/hiv/coga/genotype/observed/processing/005/post_structure/aa/coga_structure_variant_gcr_hwe_filter.fam\n",
    "  135 /shared/jmarks/hiv/coga/genotype/observed/processing/005/post_structure/aa/coga_structure_variant_gcr_hwe_ibs_ibd_filter.fam\n",
    "  135 /shared/jmarks/hiv/coga/genotype/observed/processing/005/post_structure/aa/coga_structure_variant_gcr_hwe_ibs_ibd_subject_gcr_filter.fam\n",
    "  \n",
    "  5030 /shared/jmarks/hiv/coga/genotype/observed/processing/005/post_structure/ea/coga_structure.fam\n",
    "  5030 /shared/jmarks/hiv/coga/genotype/observed/processing/005/post_structure/ea/coga_structure_variant_gcr_hwe_filter.fam\n",
    "  2487 /shared/jmarks/hiv/coga/genotype/observed/processing/005/post_structure/ea/coga_structure_variant_gcr_hwe_ibs_ibd_filter.fam\n",
    "  2475 /shared/jmarks/hiv/coga/genotype/observed/processing/005/post_structure/ea/coga_structure_variant_gcr_hwe_ibs_ibd_subject_gcr_filter.fam\n",
    "  \n",
    "  223 /shared/jmarks/hiv/coga/genotype/observed/processing/005/post_structure/ha/coga_structure.fam\n",
    "  223 /shared/jmarks/hiv/coga/genotype/observed/processing/005/post_structure/ha/coga_structure_variant_gcr_hwe_filter.fam\n",
    "  118 /shared/jmarks/hiv/coga/genotype/observed/processing/005/post_structure/ha/coga_structure_variant_gcr_hwe_ibs_ibd_filter.fam\n",
    "  118 /shared/jmarks/hiv/coga/genotype/observed/processing/005/post_structure/ha/coga_structure_variant_gcr_hwe_ibs_ibd_subject_gcr_filter.fam\n",
    "```"
   ]
  },
  {
   "cell_type": "markdown",
   "metadata": {},
   "source": [
    "#### Sex Check\n",
    "To verify that self-reported gender status matches with the genetic information, I use PLINK `--split-x` followed by `--check-sex` to confirm the data agree. Our discrepancy criteria are\n",
    "\n",
    "* Reported as male (coded as 1) but F < 0.2\n",
    "* Reported as female (coded as 2) but F > 0.8\n",
    "\n",
    "First, need to create an LD pruned set of SNPs. Linkage disequilibrium (LD) pruning eliminates a large degree of redundancy in the data and reduces the influence of chromosomal artifacts. The objective of LD pruning is to select a subset of variants based off of LD such that the variants in the subset are indepedendent. This filtering will not carried forward to the final processed results, but this step improves the quality of sex check and excessive homozygosity calculations. Consequently, the LD pruned data will be used as input for those calculations.\n",
    "\n",
    "LD pruning is implemented using [PLINK --indep-pairwise](https://www.cog-genomics.org/plink/1.9/ld#indep)."
   ]
  },
  {
   "cell_type": "code",
   "execution_count": null,
   "metadata": {},
   "outputs": [],
   "source": [
    "## LD prune (for sex check and excessive homozygosity filters)\n",
    "for ancestry in $anlist; do\n",
    "    mkdir -p $procD/post_structure/${ancestry}/ld_prune\n",
    "    for chr in {1..23}; do\n",
    "        /shared/bioinformatics/software/scripts/qsub_job.sh \\\n",
    "            --job_name ${ancestry}_${chr}_ld_prune \\\n",
    "            --script_prefix $procD/post_structure/${ancestry}/ld_prune/${ancestry}_${chr}_ld_prune \\\n",
    "            --mem 7.5 \\\n",
    "            --nslots 1 \\\n",
    "            --priority 0 \\\n",
    "            --program  docker run -v \"$procD/post_structure/$ancestry/:/data/\" rticode/plink:1.9 plink \\\n",
    "                --bfile /data/${study}_structure_variant_gcr_hwe_ibs_ibd_subject_gcr_filter \\\n",
    "                --indep-pairwise 50 5 0.5 \\\n",
    "                --chr ${chr} \\\n",
    "                --out /data/ld_prune/${study}_variant_gcr_hwe_ibs_ibd_subject_gcr_filter_ld_prune_chr$chr\n",
    "    done\n",
    "done\n",
    "\n",
    "\n",
    "## Merge *prune.in files\n",
    "for ancestry in $anlist; do\n",
    "    cat $procD/post_structure/${ancestry}/ld_prune/${study}_variant_gcr_hwe_ibs_ibd_subject_gcr_filter_ld_prune_chr*.in \\\n",
    "        > $procD/post_structure/${ancestry}/ld_prune/ld_pruned_snps\n",
    "\n",
    "    # Create new PLINK filesets with only lD pruned variants\n",
    "    docker run -v \"$procD/post_structure/$ancestry/:/data/\" rticode/plink:1.9 plink \\\n",
    "        --bfile /data/${study}_structure_variant_gcr_hwe_ibs_ibd_subject_gcr_filter \\\n",
    "        --extract /data/ld_prune/ld_pruned_snps \\\n",
    "        --make-bed \\\n",
    "        --out /data/ld_prune/${study}_structure_variant_gcr_hwe_ibs_ibd_subject_gcr_filter_ld_pruned_chr_all\n",
    "done"
   ]
  },
  {
   "cell_type": "code",
   "execution_count": null,
   "metadata": {},
   "outputs": [],
   "source": [
    "# Break out the pseudo-autosomal region on chrX (will be stored as chr 25)\n",
    "for ancestry in $anlist; do\n",
    "    docker run -v \"$procD/post_structure/$ancestry/:/data/\" rticode/plink:1.9 plink \\\n",
    "        --bfile /data/ld_prune/${study}_structure_variant_gcr_hwe_ibs_ibd_subject_gcr_filter_ld_pruned_chr_all \\\n",
    "        --split-x b37 \\\n",
    "        --make-bed \\\n",
    "        --out /data/ld_prune/${study}_structure_variant_gcr_hwe_ibs_ibd_subject_gcr_filter_ld_pruned_chr_all_split_chrx\n",
    "\n",
    "    # Run sex check\n",
    "    docker run -v \"$procD/post_structure/$ancestry/:/data/\" rticode/plink:1.9 plink \\\n",
    "        --bfile /data/ld_prune/${study}_structure_variant_gcr_hwe_ibs_ibd_subject_gcr_filter_ld_pruned_chr_all_split_chrx \\\n",
    "        --check-sex \\\n",
    "        --out /data/ld_prune/${study}_structure_variant_gcr_hwe_ibs_ibd_subject_gcr_filter_ld_pruned_chr_all_split_chrx\n",
    "\n",
    "    # Get subjects that do not meet inbreeding coefficient thresholds\n",
    "    perl -lane 'if ($F[2]==1 && $F[5]<0.2) { print $_; } elsif ($F[2]==2 && $F[5]>0.8) { print $F[0].\"\\t\".$F[1]; }' \\\n",
    "        $procD/post_structure/${ancestry}/ld_prune/${study}_structure_variant_gcr_hwe_ibs_ibd_subject_gcr_filter_ld_pruned_chr_all_split_chrx.sexcheck \\\n",
    "        > $procD/post_structure/${ancestry}/ld_prune/${study}_structure_variant_gcr_hwe_ibs_ibd_subject_gcr_filter_ld_pruned_chr_all_split_chrx.sexcheck.threshold_fail\n",
    "\n",
    "    # Get subjects that are problematic due to no inbreeding coefficient value\n",
    "    perl -lane 'if ($F[4] eq \"PROBLEM\" && $F[5] eq \"nan\") { print $F[0].\"\\t\".$F[1]; }' \\\n",
    "        $procD/post_structure/${ancestry}/ld_prune/${study}_structure_variant_gcr_hwe_ibs_ibd_subject_gcr_filter_ld_pruned_chr_all_split_chrx.sexcheck \\\n",
    "        > $procD/post_structure/${ancestry}/ld_prune/${study}_structure_variant_gcr_hwe_ibs_ibd_subject_gcr_filter_ld_pruned_chr_all_split_chrx.sexcheck.nan_fail\n",
    "\n",
    "    # Combine discordant subjects into one remove list\n",
    "    cat $procD/post_structure/${ancestry}/ld_prune/${study}_structure_variant_gcr_hwe_ibs_ibd_subject_gcr_filter_ld_pruned_chr_all_split_chrx.sexcheck.*_fail | \\\n",
    "        sort -u \\\n",
    "        > $procD/post_structure/${ancestry}/ld_prune/${study}_structure_variant_gcr_hwe_ibs_ibd_subject_gcr_filter_ld_pruned_chr_all_split_chrx.sexcheck.remove\n",
    "\n",
    "done\n",
    "\n",
    "# Print number of discrepancies\n",
    "for ancestry in $anlist; do\n",
    "    wc -l $procD/post_structure/${ancestry}/ld_prune/${study}_structure_variant_gcr_hwe_ibs_ibd_subject_gcr_filter_ld_pruned_chr_all_split_chrx.sexcheck.remove\n",
    "    echo\n",
    "done"
   ]
  },
  {
   "cell_type": "markdown",
   "metadata": {},
   "source": [
    "If any individuals failed the check then they would be removed before subsequent steps using the file set generated after gentoype call rate subject filtering (before removing the pseudo-autosomal chrX region).\n",
    "\n",
    "```\n",
    "0 /shared/jmarks/hiv/coga/genotype/observed/processing/005/post_structure/aa/ld_prune/coga_structure_variant_gcr_hwe_ibs_ibd_subject_gcr_filter_ld_pruned_chr_all_split_chrx.sexcheck.remove\n",
    "\n",
    "4 /shared/jmarks/hiv/coga/genotype/observed/processing/005/post_structure/ea/ld_prune/coga_structure_variant_gcr_hwe_ibs_ibd_subject_gcr_filter_ld_pruned_chr_all_split_chrx.sexcheck.remove\n",
    "\n",
    "0 /shared/jmarks/hiv/coga/genotype/observed/processing/005/post_structure/ha/ld_prune/coga_structure_variant_gcr_hwe_ibs_ibd_subject_gcr_filter_ld_pruned_chr_all_split_chrx.sexcheck.remove\n",
    "```"
   ]
  },
  {
   "cell_type": "code",
   "execution_count": null,
   "metadata": {},
   "outputs": [],
   "source": [
    "## remove individuals with sex discprepancies\n",
    "for ancestry in $anlist; do\n",
    "    echo -e \"\\n\\n================ ${ancestry} ================\\n\\n\"\n",
    "\n",
    "    # create remove file for plink\n",
    "    awk '{print $1,$2}' $procD/post_structure/${ancestry}/ld_prune/${study}_structure_variant_gcr_hwe_ibs_ibd_subject_gcr_filter_ld_pruned_chr_all_split_chrx.sexcheck.remove \\\n",
    "        > $procD/post_structure/${ancestry}/ld_prune/${study}_sexcheck.remove\n",
    "\n",
    "    # remove from ld-pruned data\n",
    "    docker run -v \"$procD/post_structure/$ancestry/ld_prune:/data/\" rticode/plink:1.9 plink \\\n",
    "        --bfile /data/${study}_structure_variant_gcr_hwe_ibs_ibd_subject_gcr_filter_ld_pruned_chr_all \\\n",
    "        --remove /data/${study}_sexcheck.remove \\\n",
    "        --make-bed \\\n",
    "        --out /data/${study}_structure_variant_gcr_hwe_ibs_ibd_subject_gcr_sexcheck_filter_ld_pruned_chr_all\n",
    "    \n",
    "    # removed from whole data\n",
    "    docker run -v \"$procD/post_structure/$ancestry:/data/\" rticode/plink:1.9 plink \\\n",
    "        --bfile /data/${study}_structure_variant_gcr_hwe_ibs_ibd_subject_gcr_filter \\\n",
    "        --remove /data/ld_prune/${study}_sexcheck.remove \\\n",
    "        --make-bed \\\n",
    "        --out /data/${study}_structure_variant_gcr_hwe_ibs_ibd_subject_gcr_sexcheck_filter\n",
    "done"
   ]
  },
  {
   "cell_type": "markdown",
   "metadata": {},
   "source": [
    "#### Excessive homozygosity filter\n",
    "Excessive homozygosity checks for inbreeding and population substructure. This check is implemented using PLINK. According to their documentation, the statistics used for this filtering are not LD-sensitive, i.e., an LD pruned dataset is recommended as input. Additionally, the documentation states that only autosomal data are used, so concerns of chrX biasing results are irrelevant."
   ]
  },
  {
   "cell_type": "code",
   "execution_count": null,
   "metadata": {},
   "outputs": [],
   "source": [
    "# Get homozygosity stats\n",
    "for ancestry in $anlist; do\n",
    "    echo -e \"\\n\\n================ ${ancestry} ================\\n\\n\"\n",
    "    docker run -v \"$procD/post_structure/$ancestry/ld_prune:/data/\" rticode/plink:1.9 plink \\\n",
    "        --bfile /data/${study}_structure_variant_gcr_hwe_ibs_ibd_subject_gcr_sexcheck_filter_ld_pruned_chr_all \\\n",
    "        --het \\\n",
    "        --out /data/${study}_structure_variant_gcr_hwe_ibs_ibd_subject_gcr_sexcheck_filter_ld_pruned_chr_all\n",
    "\n",
    "   # Identify problematic subjects\n",
    "    perl -lane 'if ($F[5] < -0.2 || $F[5] > 0.5) { print $F[0].\" \".$F[1]; }'\\\n",
    "        $procD/post_structure/$ancestry/ld_prune/${study}_structure_variant_gcr_hwe_ibs_ibd_subject_gcr_sexcheck_filter_ld_pruned_chr_all.het \\\n",
    "    > $procD/post_structure/$ancestry/ld_prune/${study}_structure_variant_gcr_hwe_ibs_ibd_subject_gcr_sexcheck_filter_ld_pruned_chr_all_homo.remove\n",
    "\n",
    "    echo -e \"\\nNumber of ${ancestry} subjects removed: $(wc -l  $procD/post_structure/${ancestry}/ld_prune/${study}_structure_variant_gcr_hwe_ibs_ibd_subject_gcr_sexcheck_filter_ld_pruned_chr_all_homo.remove)\\n\\n\"\n",
    "\n",
    "# Remove problematic subjects\n",
    "    docker run -v \"$procD/post_structure/$ancestry:/data/\" rticode/plink:1.9 plink \\\n",
    "        --bfile /data/${study}_structure_variant_gcr_hwe_ibs_ibd_subject_gcr_sexcheck_filter \\\n",
    "        --remove /data/ld_prune/${study}_structure_variant_gcr_hwe_ibs_ibd_subject_gcr_sexcheck_filter_ld_pruned_chr_all_homo.remove \\\n",
    "        --make-bed \\\n",
    "        --out /data/${study}_structure_variant_gcr_hwe_ibs_ibd_subject_gcr_sexcheck_homozyg_filter\n",
    "\n",
    "    echo -e \"\\nNumber of ${ancestry} subjects removed: $(wc -l  $procD/post_structure/${ancestry}/ld_prune/${study}_structure_variant_gcr_hwe_ibs_ibd_subject_gcr_sexcheck_filter_ld_pruned_chr_all_homo.remove)\\n\\n\"\n",
    "done\n",
    "\n",
    "for an in $anlist; do\n",
    "    echo\n",
    "    wc -l $procD/post_structure/$an/ld_prune/*homo.remove\n",
    "    echo\n",
    "done\n"
   ]
  },
  {
   "cell_type": "markdown",
   "metadata": {},
   "source": [
    "No subjects to remove, in this case. "
   ]
  },
  {
   "cell_type": "markdown",
   "metadata": {},
   "source": [
    "### Recoding variants for 1000G phase 3\n",
    "RefSeq IDs (rsIDs) for variants can vary depending on the dbSNP build used and variant IDs do not all use RefSeq nomenclature. To provide a common nomenclature that will make comparisons across data sets feasible, I use a script that recodes all variant names to match 1000G phase 3 variants by position and alleles. The 1000G Phase 3 data I used for STRUCTURE are from /shared/data/ref_panels/1000G/2013.05/plink on AWS EC2, but /shared/data/ref_panels/1000G/2014.10/ also contains 1000G Phase 3 data derived from the May 2013 release. The difference is that it was downloaded from the IMPUTE2 website and reformatted to be directly compatible with IMPUTE2.\n",
    "\n",
    "The data in `/shared/data/ref_panels/1000G/2014.10/` is used for variant name recoding, but the 1000G genotype information is acquired from `/shared/data/ref_panels/1000G/2013.05/plink`."
   ]
  },
  {
   "cell_type": "code",
   "execution_count": null,
   "metadata": {},
   "outputs": [],
   "source": [
    "for ancestry in $anlist; do\n",
    "    for ext in {bed,bim,fam}; do\n",
    "        cp  $procD/post_structure/$ancestry/${study}_structure_variant_gcr_hwe_ibs_ibd_subject_gcr_sexcheck_homozyg_filter.${ext} \\\n",
    "            $procD/post_structure/1000g_name_recoding/${ancestry}_chr_all.${ext}\n",
    "    done\n",
    "done\n",
    "\n",
    "wc -l $procD/post_structure/1000g_name_recoding/*{bim,fam}"
   ]
  },
  {
   "cell_type": "markdown",
   "metadata": {},
   "source": [
    "```\n",
    "  513327 /shared/jmarks/hiv/cfar_coga/genotype/observed/coga/processing/post_structure/1000g_name_recoding/aa_chr_all.bim\n",
    "  524179 /shared/jmarks/hiv/cfar_coga/genotype/observed/coga/processing/post_structure/1000g_name_recoding/ea_chr_all.bim\n",
    "  518340 /shared/jmarks/hiv/cfar_coga/genotype/observed/coga/processing/post_structure/1000g_name_recoding/ha_chr_all.bim\n",
    "     135 /shared/jmarks/hiv/cfar_coga/genotype/observed/coga/processing/post_structure/1000g_name_recoding/aa_chr_all.fam\n",
    "    2471 /shared/jmarks/hiv/cfar_coga/genotype/observed/coga/processing/post_structure/1000g_name_recoding/ea_chr_all.fam\n",
    "     118 /shared/jmarks/hiv/cfar_coga/genotype/observed/coga/processing/post_structure/1000g_name_recoding/ha_chr_all.fam\n",
    "```"
   ]
  },
  {
   "cell_type": "markdown",
   "metadata": {},
   "source": [
    "#### Variant ID updating\n",
    "Because the 1000G data and the study data have RefSeq IDs (rsIDs) from different dbSNP builds, I standardize them using convert_to_1000g_ids.pl. In the study data set, certain indels may be represented as two variants, a monomorphic variant and an indel with the - symbol for one of the alleles. For example:\n",
    "\n",
    "```\n",
    "1   rs201826967  0.809   57873968   0   G\n",
    "1   rs11284630   0.809   57873969   -   A\n",
    "```\n",
    "\n",
    "These two variants represent a G:GA indel and is coded as such in the 1000 Genomes data. The script to update the names to 1000 Genomes IMPUTE2 format will assign the same ID to these two variants, so that the indel above will be coded as:\n",
    "\n",
    "```\n",
    "1       rs11284630:57873968:GA:G        0.809   57873968        0       G\n",
    "1       rs11284630:57873968:GA:G        0.809   57873969        -       A\n",
    "```\n",
    "\n",
    "The duplicated IDs will cause problems for PLINK filtering, so I will remove the variant from a set of duplicate IDs that has the lower genotype call rate. Duplicates may arise for other reasons, and they will be filtered based on the same criterion."
   ]
  },
  {
   "cell_type": "code",
   "execution_count": null,
   "metadata": {},
   "outputs": [],
   "source": [
    "thouN=$procD/post_structure/1000g_name_recoding\n",
    "\n",
    "# Break out data by chr\n",
    "for ancestry in $anlist; do\n",
    "    for chr in {1..23}; do\n",
    "    docker run -v \"$thouN:/data/\" rticode/plink:1.9 plink \\\n",
    "            --noweb \\\n",
    "            --memory 2048 \\\n",
    "            --bfile /data/${ancestry}_chr_all \\\n",
    "            --chr ${chr} \\\n",
    "            --make-bed \\\n",
    "            --out /data/${ancestry}_chr${chr}\n",
    "    done\n",
    "done"
   ]
  },
  {
   "cell_type": "code",
   "execution_count": null,
   "metadata": {},
   "outputs": [],
   "source": [
    "# Rename study autosome variant IDs\n",
    "for ancestry in $anlist; do\n",
    "    for chr in {1..22}; do\n",
    "        /shared/bioinformatics/software/scripts/qsub_job.sh \\\n",
    "            --job_name recode_to_1000g_${chr}_$ancestry \\\n",
    "            --script_prefix $thouN/${ancestry}_chr${chr}_id_rename \\\n",
    "            --mem 6 \\\n",
    "            --nslots 2 \\\n",
    "            --priority 0 \\\n",
    "            --program perl /shared/bioinformatics/software/perl/id_conversion/convert_to_1000g_p3_ids.pl \\\n",
    "                --file_in $thouN/${ancestry}_chr${chr}.bim \\\n",
    "                --file_out $thouN/${ancestry}_chr${chr}_renamed.bim \\\n",
    "                --legend /shared/data/ref_panels/1000G/2014.10/1000GP_Phase3_chr$chr.legend.gz \\\n",
    "                --file_in_header 0 \\\n",
    "                --file_in_id_col 1 \\\n",
    "                --file_in_chr_col 0 \\\n",
    "                --file_in_pos_col 3 \\\n",
    "                --file_in_a1_col 4 \\\n",
    "                --file_in_a2_col 5 \\\n",
    "                --chr ${chr}\n",
    "    done\n",
    "done\n",
    "\n",
    "# Rename study chrX variant IDs\n",
    "chr=23\n",
    "for ancestry in $anlist; do\n",
    "    /shared/bioinformatics/software/scripts/qsub_job.sh \\\n",
    "        --job_name recode_to_1000g_${chr}_$ancestry \\\n",
    "        --script_prefix $thouN/${ancestry}_chr${chr}_id_rename \\\n",
    "        --mem 6 \\\n",
    "        --nslots 2 \\\n",
    "        --priority 0 \\\n",
    "        --program perl /shared/bioinformatics/software/perl/id_conversion/convert_to_1000g_p3_ids.pl \\\n",
    "            --file_in $thouN/${ancestry}_chr${chr}.bim \\\n",
    "            --file_out $thouN/${ancestry}_chr${chr}_renamed.bim \\\n",
    "            --legend /shared/data/ref_panels/1000G/2014.10/1000GP_Phase3_chrX_NONPAR.legend.gz \\\n",
    "            --file_in_header 0 \\\n",
    "            --file_in_id_col 1 \\\n",
    "            --file_in_chr_col 0 \\\n",
    "            --file_in_pos_col 3 \\\n",
    "            --file_in_a1_col 4 \\\n",
    "            --file_in_a2_col 5 \\\n",
    "            --chr ${chr}\n",
    "done\n",
    "\n",
    "# Rename 1000G autosome variant IDs\n",
    "for chr in {1..22}; do\n",
    "    /shared/bioinformatics/software/scripts/qsub_job.sh \\\n",
    "        --job_name recode_to_1000g_${chr}_ref \\\n",
    "        --script_prefix $thouN/${ancestry}_chr${chr}_id_rename \\\n",
    "        --mem 8 \\\n",
    "        --nslots 2 \\\n",
    "        --priority 0 \\\n",
    "        --program perl /shared/bioinformatics/software/perl/id_conversion/convert_to_1000g_p3_ids.pl \\\n",
    "            --file_in /shared/data/ref_panels/1000G/2013.05/plink/ALL.chr${chr}.bim \\\n",
    "            --file_out $thouN/1000g_data/chr${chr}_renamed.bim \\\n",
    "            --legend /shared/data/ref_panels/1000G/2014.10/1000GP_Phase3_chr$chr.legend.gz \\\n",
    "            --file_in_header 0 \\\n",
    "            --file_in_id_col 1 \\\n",
    "            --file_in_chr_col 0 \\\n",
    "            --file_in_pos_col 3 \\\n",
    "            --file_in_a1_col 4 \\\n",
    "            --file_in_a2_col 5 \\\n",
    "            --chr ${chr}\n",
    "done\n",
    "\n",
    "# Rename 1000G chrX variant IDs\n",
    "chr=23\n",
    "/shared/bioinformatics/software/scripts/qsub_job.sh \\\n",
    "    --job_name recode_to_1000g_${chr}_ref \\\n",
    "    --script_prefix $thouN/${ancestry}_chr${chr}_id_rename \\\n",
    "    --mem 8 \\\n",
    "    --priority 0 \\\n",
    "    --nslots 2 \\\n",
    "    --program perl /shared/bioinformatics/software/perl/id_conversion/convert_to_1000g_p3_ids.pl \\\n",
    "        --file_in /shared/data/ref_panels/1000G/2013.05/plink/ALL.chrX.bim \\\n",
    "        --file_out $thouN/1000g_data/chr${chr}_renamed.bim \\\n",
    "        --legend /shared/data/ref_panels/1000G/2014.10/1000GP_Phase3_chrX_NONPAR.legend.gz \\\n",
    "        --file_in_header 0 \\\n",
    "        --file_in_id_col 1 \\\n",
    "        --file_in_chr_col 0 \\\n",
    "        --file_in_pos_col 3 \\\n",
    "        --file_in_a1_col 4 \\\n",
    "        --file_in_a2_col 5 \\\n",
    "        --chr ${chr}\n"
   ]
  },
  {
   "cell_type": "markdown",
   "metadata": {},
   "source": [
    "#### Remove duplicate variant ID\n",
    "Many of the functions in PLINK will throw errors when duplicate variant IDs are found.To resolve this, duplicate variant IDs are identified, and only the duplicate variant with the best genotype call rate is retained."
   ]
  },
  {
   "cell_type": "code",
   "execution_count": null,
   "metadata": {},
   "outputs": [],
   "source": [
    "for ancestry in $anlist; do\n",
    "    for chr in {1..23}; do\n",
    "        echo -e \"\\n ==== ${ancestry} - chr${chr} ==== \\n\"\n",
    "        # Append _X (where X is a number) to the end of the variant IDs for all but 1st occurrence of duplicates\n",
    "        perl -lane 'BEGIN { %idCounts = (); }\n",
    "                    if (exists($idCounts{$F[1]})) {\n",
    "                        $idCounts{$F[1]}++;\n",
    "                        print join(\"\\t\",$F[0],$F[1].\"_\".$idCounts{$F[1]},$F[2],$F[3],$F[4],$F[5]);\n",
    "                    } else {\n",
    "                        $idCounts{$F[1]} = 1;\n",
    "                        print;\n",
    "                    }' $thouN/${ancestry}_chr${chr}_renamed.bim > \\\n",
    "            $thouN/${ancestry}_chr${chr}_renamed_dups.bim\n",
    "\n",
    "        # Generate list of duplicate SNPs\n",
    "        grep -P \"_[1-9]\" $thouN/${ancestry}_chr${chr}_renamed_dups.bim |\n",
    "            perl -lane 'print substr($F[1], 0, index($F[1],\"_\")).\"\\n\".$F[1];' > \\\n",
    "            $thouN/${ancestry}_chr${chr}_renamed_dups.dupvar_list\n",
    "    done\n",
    "done\n",
    "\n",
    "# Check if any duplicates were found\n",
    "for an in $anlist;do\n",
    "    wc -l $thouN/${an}*.dupvar_list\n",
    "done"
   ]
  },
  {
   "cell_type": "markdown",
   "metadata": {},
   "source": [
    "There were duplicate SNPs cause be indel recoding. We will therefore proceed to the next section to remove the SNP with the lower gcr."
   ]
  },
  {
   "cell_type": "code",
   "execution_count": null,
   "metadata": {},
   "outputs": [],
   "source": [
    "for ancestry in $anlist; do\n",
    "    for chr in $(wc -l $thouN/$ancestry*.dupvar_list | perl -lane 'if ($F[0] != 0) { $F[1] =~ /chr(\\d+)/; print $1; }'); do\n",
    "        ## Get call rates for duplicate SNPs\n",
    "        docker run -v \"$thouN:/data/\" rticode/plink:1.9 plink \\\n",
    "            --bed /data/${ancestry}_chr${chr}.bed \\\n",
    "            --bim /data/${ancestry}_chr${chr}_renamed_dups.bim \\\n",
    "            --fam /data/${ancestry}_chr${chr}.fam \\\n",
    "            --extract /data/${ancestry}_chr${chr}_renamed_dups.dupvar_list \\\n",
    "            --missing \\\n",
    "            --out /data/${ancestry}_chr${chr}_renamed_dups\n",
    "\n",
    "        # Create remove list that contains the duplicate with the higher missing rate\n",
    "        tail -n +2 $thouN/${ancestry}_chr${chr}_renamed_dups.lmiss | \\\n",
    "            perl -lane 'BEGIN { %missingness = (); }\n",
    "                        if ($F[1] =~ /^(\\S+)\\_/) {\n",
    "                            $duplicateName = $1\n",
    "                        } else {\n",
    "                            $duplicateName = $F[1].\"_2\";\n",
    "                        }\n",
    "                        if (exists($missingness{$duplicateName})) {\n",
    "                            if ($missingness{$duplicateName} > $F[4]) {\n",
    "                                print $duplicateName;\n",
    "                            } else {\n",
    "                                print $F[1];\n",
    "                            }\n",
    "                        } else {\n",
    "                            $missingness{$F[1]} = $F[4];\n",
    "                        }' \\\n",
    "                > $thouN/${ancestry}_chr${chr}_renamed_dups.remove\n",
    "\n",
    "        docker run -v \"$thouN:/data/\" rticode/plink:1.9 plink \\\n",
    "            --bed /data/${ancestry}_chr${chr}.bed \\\n",
    "            --bim /data/${ancestry}_chr${chr}_renamed_dups.bim \\\n",
    "            --fam /data/${ancestry}_chr${chr}.fam \\\n",
    "            --exclude /data/${ancestry}_chr${chr}_renamed_dups.remove \\\n",
    "            --make-bed \\\n",
    "            --out /data/${ancestry}_chr${chr}_renamed_dups_removed\n",
    "\n",
    "        # Remove appendages (i.e. _2) from any variant IDs \n",
    "        perl -i.bak -lne 's/\\_2//; print;' $thouN/${ancestry}_chr${chr}_renamed_dups_removed.bim\n",
    "    done\n",
    "done"
   ]
  },
  {
   "cell_type": "markdown",
   "metadata": {},
   "source": [
    "### Merge chromosome data"
   ]
  },
  {
   "cell_type": "code",
   "execution_count": null,
   "metadata": {},
   "outputs": [],
   "source": [
    "## Merge chromosome data\n",
    "\n",
    "# Add chromosomes that had duplicates removed to the merge list\n",
    "for ancestry in $anlist; do\n",
    "    echo -e \"\\n\\n================ ${ancestry} ================\\n\\n\"\n",
    "    for chr in $(wc -l $thouN/$ancestry*.dupvar_list | perl -lane 'if ($F[0] != 0) { $F[1] =~ /chr(\\d+)/;  print $1;  }'); do\n",
    "        baseName=/data/${ancestry}_chr${chr}_renamed_dups_removed\n",
    "        echo ${baseName}.bed ${baseName}.bim ${baseName}.fam\n",
    "    done > $thouN/${ancestry}_renamed.chr_merge\n",
    "\n",
    "    # Add all other chromosomes to the merge list\n",
    "    for chr in $(wc -l $thouN/$ancestry*.dupvar_list | perl -lane 'if ($F[0] == 0) { $F[1] =~ /chr(\\d+)/; print $1; }'); do\n",
    "        baseName=/data/${ancestry}_chr${chr}\n",
    "        echo ${baseName}.bed ${baseName}_renamed.bim ${baseName}.fam\n",
    "    done >> $thouN/${ancestry}_renamed.chr_merge\n",
    "\n",
    "    # Merge chromosomes\n",
    "    docker run -v \"$thouN:/data/\" rticode/plink:1.9 plink \\\n",
    "        --merge-list /data/${ancestry}_renamed.chr_merge \\\n",
    "        --make-bed \\\n",
    "        --out /data/${ancestry}_chr_all_renamed\n",
    "done\n",
    "\n",
    "for an in $anlist;do\n",
    "    wc -l $thouN/${an}_chr_all_renamed.*{fam,bim}\n",
    "done\n"
   ]
  },
  {
   "cell_type": "markdown",
   "metadata": {},
   "source": [
    "```\n",
    "     135 post_structure/1000g_name_recoding/aa_chr_all_renamed.fam\n",
    "  513320 post_structure/1000g_name_recoding/aa_chr_all_renamed.bim\n",
    "  \n",
    "    2471 post_structure/1000g_name_recoding/ea_chr_all_renamed.fam\n",
    "  524172 post_structure/1000g_name_recoding/ea_chr_all_renamed.bim\n",
    "  \n",
    "     118 post_structure/1000g_name_recoding/ha_chr_all_renamed.fam\n",
    "  518333 post_structure/1000g_name_recoding/ha_chr_all_renamed.bim\n",
    "```"
   ]
  },
  {
   "cell_type": "markdown",
   "metadata": {},
   "source": [
    "### Allele discordance\n",
    "As a way of standardizing the data, I use 1000G phase 3 data as a reference. The study data may not match the 1000G phase 3 data for several reasons including\n",
    "\n",
    "* Discordant names\n",
    "* Discordant positions\n",
    "* Discordant alleles (swapped major and minor alleles)\n",
    "* Polymorphic alleles not fixed by strand flipping\n",
    "* Discordant allele frequencies\n",
    "\n",
    "I perform checks for these discordances using the 1000G Phase 3 data derived from data/ref_panels/1000G/2014.10/ derived from the May 2013 release. These data were downloaded from the [IMPUTE2 website](https://mathgen.stats.ox.ac.uk/impute/1000GP_Phase3.html) and reformatted to be directly compatible with IMPUTE2. These data will be used for ID recoding and MAF calculations.\n",
    "\n",
    "To determine if any study data variants have flipped alleles, I compare the variants to the appropriate 1000 Genomes Phase 3 reference superpopulation. For example, African ancestry is compared to AFR, European ancestry is compared to EUR, and Hispanic ancestry is compared to AMR.\n",
    "\n",
    "Discordance checks are used mainly to\n",
    "\n",
    "1. Determine allele frequency discordances to remove prior to imputation\n",
    "2. Determine if alleles are properly coded in reference to the forward/positive genome strand\n",
    "\n",
    "A large number of discordant variants indicates potential allele flipping/mismatching issues. If the number of discordant heterozygous variants is less than approximately 10,000, then it is unlikely that there were major issues with flipping or mismatching that indicate coding alleles to the wrong strand.\n",
    "\n",
    "#### Preparing study data\n",
    "The allele discordance script requires as input a file of MAFs, so I calculate this using PLINK."
   ]
  },
  {
   "cell_type": "code",
   "execution_count": null,
   "metadata": {},
   "outputs": [],
   "source": [
    "# Calculate allele frequencies\n",
    "for ancestry in $anlist; do\n",
    "    docker run -v \"$thouN:/data/\" rticode/plink:1.9 plink \\\n",
    "        --bfile /data/${ancestry}_chr_all_renamed \\\n",
    "        --freq \\\n",
    "        --out /data/${ancestry}_chr_all_renamed\n",
    "done"
   ]
  },
  {
   "cell_type": "markdown",
   "metadata": {},
   "source": [
    "#### Preparing 1000G phase 3 data\n",
    "MAF data are needed for 1000 Genomes data in addition to the study data, so I calculate these for the superpopulations(s) that matches the study group subject ancestries."
   ]
  },
  {
   "cell_type": "code",
   "execution_count": null,
   "metadata": {},
   "outputs": [],
   "source": [
    "# Get list of study variant IDs\n",
    "for ancestry in $anlist; do\n",
    "    perl -lane 'if ($F[0] <= 23) { print $F[1]; }' $thouN/${ancestry}_chr_all_renamed.bim | \\\n",
    "        sort > $thouN/${ancestry}_chr_all_sorted_variants.txt\n",
    "done"
   ]
  },
  {
   "cell_type": "code",
   "execution_count": null,
   "metadata": {},
   "outputs": [],
   "source": [
    "# Calculate autosome and chrX MAFs for 1000G EUR\n",
    "for ancestry in $anlist;do\n",
    "    if [ $ancestry == \"ea\" ]; then\n",
    "        pop=\"EUR\"\n",
    "    elif [ $ancestry == \"ha\" ]; then \n",
    "        pop=\"AMR\"\n",
    "    else\n",
    "        pop=\"AFR\"\n",
    "    fi\n",
    "    \n",
    "    for chr in {1..22}; do\n",
    "        /shared/bioinformatics/software/scripts/qsub_job.sh \\\n",
    "            --job_name ${pop}_${chr} \\\n",
    "            --script_prefix $thouN/1000g_data/${pop}_chr${chr}.maf \\\n",
    "            --mem 6.8 \\\n",
    "            --nslots 3 \\\n",
    "            --priority 0 \\\n",
    "            --program perl /shared/bioinformatics/software/perl/stats/calculate_maf_from_impute2_hap_file.pl \\\n",
    "                --hap /shared/data/ref_panels/1000G/2014.10/1000GP_Phase3_chr${chr}.hap.gz\\\n",
    "                --legend /shared/data/ref_panels/1000G/2014.10/1000GP_Phase3_chr${chr}.legend.gz \\\n",
    "                --sample /shared/data/ref_panels/1000G/2014.10/1000GP_Phase3.sample \\\n",
    "                --chr ${chr} \\\n",
    "                --out $thouN/1000g_data/${ancestry}_${pop}_overlap_chr${chr}.maf \\\n",
    "                --extract $thouN/${ancestry}_chr_all_sorted_variants.txt \\\n",
    "                --keep_groups ${pop}\n",
    "    done\n",
    "\n",
    "    chr=23\n",
    "    /shared/bioinformatics/software/scripts/qsub_job.sh \\\n",
    "        --job_name ${pop}_${chr} \\\n",
    "        --script_prefix $thouN/1000g_data/${pop}_chr${chr}.maf \\\n",
    "        --mem 7 \\\n",
    "        --priority 0 \\\n",
    "        --program perl /shared/bioinformatics/software/perl/stats/calculate_maf_from_impute2_hap_file.pl \\\n",
    "            --hap /shared/data/ref_panels/1000G/2014.10/1000GP_Phase3_chrX_NONPAR.hap.gz\\\n",
    "            --legend /shared/data/ref_panels/1000G/2014.10/1000GP_Phase3_chrX_NONPAR.legend.gz \\\n",
    "            --sample /shared/data/ref_panels/1000G/2014.10/1000GP_Phase3.sample \\\n",
    "            --chr ${chr} \\\n",
    "            --out $thouN/1000g_data/${ancestry}_${pop}_overlap_chr${chr}.maf \\\n",
    "            --extract $thouN/${ancestry}_chr_all_sorted_variants.txt \\\n",
    "            --keep_groups ${pop}\n",
    "done"
   ]
  },
  {
   "cell_type": "code",
   "execution_count": null,
   "metadata": {},
   "outputs": [],
   "source": [
    "# Merge per chr MAFs for overlap\n",
    "for ancestry in $anlist; do\n",
    "    if [ $ancestry == \"ea\" ]; then\n",
    "        pop=\"EUR\"\n",
    "    elif [ $ancestry == \"ha\" ]; then \n",
    "        pop=\"AMR\"\n",
    "    else\n",
    "        pop=\"AFR\"\n",
    "    fi\n",
    "\n",
    "    head -n 1 $thouN/1000g_data/${ancestry}_${pop}_overlap_chr1.maf >\\\n",
    "        $thouN/1000g_data/${ancestry}_${pop}_overlap_chr_all.maf\n",
    "    tail -q -n +2 $thouN/1000g_data/${ancestry}_${pop}_overlap_chr{1..23}.maf >> \\\n",
    "        $thouN/1000g_data/${ancestry}_${pop}_overlap_chr_all.maf\n",
    "done"
   ]
  },
  {
   "cell_type": "markdown",
   "metadata": {},
   "source": [
    "#### Discordance check"
   ]
  },
  {
   "cell_type": "code",
   "execution_count": null,
   "metadata": {},
   "outputs": [],
   "source": [
    "# Run discordance checks for each ancestry group\n",
    "for ancestry in $anlist;do\n",
    "    if [ $ancestry == \"ea\" ]; then\n",
    "        pop=\"EUR\"\n",
    "    elif [ $ancestry == \"ha\" ]; then \n",
    "        pop=\"AMR\"\n",
    "    else\n",
    "        pop=\"AFR\"\n",
    "    fi\n",
    "    /shared/bioinformatics/software/scripts/qsub_job.sh \\\n",
    "        --job_name ${ancestry}_crosscheck \\\n",
    "        --script_prefix $thouN/${ancestry}_chr_all_renamed_1000g_discordance_check \\\n",
    "        --mem 6 \\\n",
    "        --priority 0 \\\n",
    "        --program \"Rscript /shared/bioinformatics/software/R/check_study_data_against_1000G.R \\\n",
    "            --study_bim_file $thouN/${ancestry}_chr_all_renamed.bim\n",
    "            --study_frq_file $thouN/${ancestry}_chr_all_renamed.frq\n",
    "            --ref_maf_file $thouN/1000g_data/${ancestry}_${pop}_overlap_chr_all.maf\n",
    "            --out_prefix $thouN/${ancestry}_chr_all_renamed_1000g_discordance_check\"\n",
    "done"
   ]
  },
  {
   "cell_type": "code",
   "execution_count": null,
   "metadata": {},
   "outputs": [],
   "source": [
    "# Print summary of discordances\n",
    "for ancestry in $anlist; do\n",
    "    echo \"$thouN/${ancestry}_chr_all_renamed_1000g_discordance_check.summary\"\n",
    "    cat $thouN/${ancestry}_chr_all_renamed_1000g_discordance_check.summary\n",
    "    echo\n",
    "done"
   ]
  },
  {
   "cell_type": "markdown",
   "metadata": {},
   "source": [
    "```\n",
    "/shared/jmarks/hiv/coga/genotype/observed/processing/005/post_structure/1000g_name_recoding/aa_chr_all_renamed_1000g_discordance_check.summary\n",
    "discordant_positions    4006\n",
    "discordant_names        21\n",
    "discordant_alleles      22963\n",
    "discordant_alleles_not_fixed_by_strand_flip     19213\n",
    "discordant_alleles_polymorphic_in_study_not_fixed_by_strand_flip        1\n",
    "at_cg_snps_freq_diff_gt_0.2     174\n",
    "\n",
    "/shared/jmarks/hiv/coga/genotype/observed/processing/005/post_structure/1000g_name_recoding/ea_chr_all_renamed_1000g_discordance_check.summary\n",
    "discordant_positions    4172\n",
    "discordant_names        23\n",
    "discordant_alleles      23265\n",
    "discordant_alleles_not_fixed_by_strand_flip     19454\n",
    "discordant_alleles_polymorphic_in_study_not_fixed_by_strand_flip        1\n",
    "at_cg_snps_freq_diff_gt_0.2     164\n",
    "\n",
    "/shared/jmarks/hiv/coga/genotype/observed/processing/005/post_structure/1000g_name_recoding/ha_chr_all_renamed_1000g_discordance_check.summary\n",
    "discordant_positions    4118\n",
    "discordant_names        22\n",
    "discordant_alleles      23245\n",
    "discordant_alleles_not_fixed_by_strand_flip     19439\n",
    "discordant_alleles_polymorphic_in_study_not_fixed_by_strand_flip        1\n",
    "at_cg_snps_freq_diff_gt_0.2     241\n",
    "```"
   ]
  },
  {
   "cell_type": "code",
   "execution_count": null,
   "metadata": {},
   "outputs": [],
   "source": [
    "wc -l $thouN/*_chr_all_renamed.*{bim,fam}"
   ]
  },
  {
   "cell_type": "markdown",
   "metadata": {},
   "source": [
    "```\n",
    "  513320 /shared/jmarks/hiv/coga/genotype/observed/processing/005/post_structure/1000g_name_recoding/aa_chr_all_renamed.bim\n",
    "  524172 /shared/jmarks/hiv/coga/genotype/observed/processing/005/post_structure/1000g_name_recoding/ea_chr_all_renamed.bim\n",
    "  518333 /shared/jmarks/hiv/coga/genotype/observed/processing/005/post_structure/1000g_name_recoding/ha_chr_all_renamed.bim\n",
    "     135 /shared/jmarks/hiv/coga/genotype/observed/processing/005/post_structure/1000g_name_recoding/aa_chr_all_renamed.fam\n",
    "    2471 /shared/jmarks/hiv/coga/genotype/observed/processing/005/post_structure/1000g_name_recoding/ea_chr_all_renamed.fam\n",
    "     118 /shared/jmarks/hiv/coga/genotype/observed/processing/005/post_structure/1000g_name_recoding/ha_chr_all_renamed.fam\n",
    "```"
   ]
  },
  {
   "cell_type": "markdown",
   "metadata": {},
   "source": [
    "### Set heterozygous haploids to missing"
   ]
  },
  {
   "cell_type": "code",
   "execution_count": null,
   "metadata": {},
   "outputs": [],
   "source": [
    "## Set heterozygous haploids to missing\n",
    "for ancestry in $anlist; do\n",
    "    docker run -v \"$thouN:/data/\" rticode/plink:1.9 plink \\\n",
    "    --noweb \\\n",
    "    --memory 4000 \\\n",
    "    --bfile /data/${ancestry}_chr_all_renamed \\\n",
    "    --set-hh-missing \\\n",
    "    --make-bed \\\n",
    "    --out /data/${ancestry}_chr_all_renamed_hh_missing\n",
    "done\n",
    "\n",
    "\n",
    "wc -l $thouN/*_chr_all_renamed_hh_missing.*{bim,fam}"
   ]
  },
  {
   "cell_type": "markdown",
   "metadata": {},
   "source": [
    "```\n",
    "  513320 /shared/jmarks/hiv/coga/genotype/observed/processing/005/post_structure/1000g_name_recoding/aa_chr_all_renamed_hh_missing.bim\n",
    "  524172 /shared/jmarks/hiv/coga/genotype/observed/processing/005/post_structure/1000g_name_recoding/ea_chr_all_renamed_hh_missing.bim\n",
    "  518333 /shared/jmarks/hiv/coga/genotype/observed/processing/005/post_structure/1000g_name_recoding/ha_chr_all_renamed_hh_missing.bim\n",
    "     135 /shared/jmarks/hiv/coga/genotype/observed/processing/005/post_structure/1000g_name_recoding/aa_chr_all_renamed_hh_missing.fam\n",
    "    2471 /shared/jmarks/hiv/coga/genotype/observed/processing/005/post_structure/1000g_name_recoding/ea_chr_all_renamed_hh_missing.fam\n",
    "     118 /shared/jmarks/hiv/coga/genotype/observed/processing/005/post_structure/1000g_name_recoding/ha_chr_all_renamed_hh_missing.fam\n",
    "     ```"
   ]
  },
  {
   "cell_type": "markdown",
   "metadata": {},
   "source": [
    "### Observed genotype finalization\n",
    "As a starting point for haplotype phasing and imputation, I store the final QC processed PLINK binary fileset in a new directory final."
   ]
  },
  {
   "cell_type": "code",
   "execution_count": null,
   "metadata": {},
   "outputs": [],
   "source": [
    "## Observed genotype finalization\n",
    "final=$procD/../../final/\n",
    "\n",
    "# Copy file sets to final directory\n",
    "for ancestry in $anlist; do\n",
    "    for ext in {bed,bim,fam}; do\n",
    "        cp $thouN/${ancestry}_chr_all_renamed_hh_missing.${ext} $final/${study}_${ancestry}_chr_all.${ext}\n",
    "    done\n",
    "done\n",
    "\n",
    "wc -l $final/*{bim,fam}"
   ]
  },
  {
   "cell_type": "markdown",
   "metadata": {},
   "source": [
    "```\n",
    "  513320 /shared/jmarks/hiv/coga/genotype/observed/processing/005/../../final//coga_aa_chr_all.bim\n",
    "  524172 /shared/jmarks/hiv/coga/genotype/observed/processing/005/../../final//coga_ea_chr_all.bim\n",
    "  518333 /shared/jmarks/hiv/coga/genotype/observed/processing/005/../../final//coga_ha_chr_all.bim\n",
    "     135 /shared/jmarks/hiv/coga/genotype/observed/processing/005/../../final//coga_aa_chr_all.fam\n",
    "    2471 /shared/jmarks/hiv/coga/genotype/observed/processing/005/../../final//coga_ea_chr_all.fam\n",
    "     118 /shared/jmarks/hiv/coga/genotype/observed/processing/005/../../final//coga_ha_chr_all.fam\n",
    "```"
   ]
  },
  {
   "cell_type": "markdown",
   "metadata": {},
   "source": [
    "# Final upload to S3\n",
    "Upload post-qc genotype files to AWS S3."
   ]
  },
  {
   "cell_type": "code",
   "execution_count": null,
   "metadata": {},
   "outputs": [],
   "source": [
    "# gzip final files \n",
    "for f in $final/*; do\n",
    "    gzip $f\n",
    "done\n",
    "\n",
    "aws s3 sync $final s3://rti-hiv/coga/data/genotype/observed/final\n",
    "\n",
    "# gzip processing files\n",
    "gzip -r $procD &\n",
    "\n",
    "aws s3 sync $procD s3://rti-hiv/wihs3/data/genotype/observed/processing/"
   ]
  }
 ],
 "metadata": {
  "kernelspec": {
   "display_name": "R",
   "language": "R",
   "name": "ir"
  },
  "language_info": {
   "codemirror_mode": "r",
   "file_extension": ".r",
   "mimetype": "text/x-r-source",
   "name": "R",
   "pygments_lexer": "r",
   "version": "3.6.1"
  },
  "toc": {
   "nav_menu": {},
   "number_sections": true,
   "sideBar": true,
   "skip_h1_title": false,
   "toc_cell": false,
   "toc_position": {
    "height": "714.716px",
    "left": "0px",
    "right": "1315.28px",
    "top": "110.284px",
    "width": "255px"
   },
   "toc_section_display": "block",
   "toc_window_display": true
  }
 },
 "nbformat": 4,
 "nbformat_minor": 2
}
