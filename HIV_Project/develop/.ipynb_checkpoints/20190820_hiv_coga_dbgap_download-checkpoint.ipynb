{
 "cells": [
  {
   "cell_type": "markdown",
   "metadata": {},
   "source": [
    "# Download CFAR from dbGaP\n",
    "**Author:** Jesse Marks <br>"
   ]
  },
  {
   "cell_type": "markdown",
   "metadata": {},
   "source": [
    "## Download Aspera Connect\n",
    "Aspera Connect is needed to download the data from dbGaP. We follow the directions at [this GitHub repo](https://gist.github.com/mfansler/71f09c8b6c9a95ec4e759a8ffc488be3)."
   ]
  },
  {
   "cell_type": "code",
   "execution_count": null,
   "metadata": {},
   "outputs": [],
   "source": [
    "cd /shared/jmarks/bin\n",
    "\n",
    "## Check for latest link: http://downloads.asperasoft.com/en/downloads/8?list\n",
    "wget -qO- https://download.asperasoft.com/download/sw/connect/3.9.6/ibm-aspera-connect-3.9.6.173386-linux-g2.12-64.tar.gz |\\\n",
    "    tar xvz\n",
    "\n",
    "## run it\n",
    "chmod +x ibm-aspera-connect-3.9.6.173386-linux-g2.12-64.sh\n",
    "./ibm-aspera-connect-3.9.6.173386-linux-g2.12-64.sh\n",
    "\n",
    "## add it to the path now and in the future\n",
    "export PATH=$PATH:~/.aspera/connect/bin/\n",
    "echo 'export PATH=$PATH:~/.aspera/connect/bin/' >> ~/.bash_profile"
   ]
  },
  {
   "cell_type": "markdown",
   "metadata": {},
   "source": [
    "## Download Data\n",
    "After creating a dbGaP authorized access data request, execute the following in your shell to download the data."
   ]
  },
  {
   "cell_type": "code",
   "execution_count": null,
   "metadata": {},
   "outputs": [],
   "source": [
    "cd /shared/jmarks/proj/hiv/cfar\n",
    "\n",
    "\"$HOME/.aspera/connect/bin/ascp\" -QTr -l 300M -k 1 -i \\\n",
    "    \"$HOME/.aspera/connect/etc/asperaweb_id_dsa.openssh\" -W \\\n",
    "    A294A459507974743BE3379E372FBA117A4CE5CB4F217445B839BCD4CBE62884A6E405F6DFDE644978CFA5455902F71A7D \\\n",
    "    dbtest@gap-upload.ncbi.nlm.nih.gov:data/instant/cloviseoj/70563 ."
   ]
  },
  {
   "cell_type": "markdown",
   "metadata": {},
   "source": [
    "## Decrypt Data: sratoolkit\n",
    "These are NCBI encrypted data and therefore need to be decyrpted. We use the sratoolkit to decrypt the data. A guide explaining the steps to download dbGaP data using the SRA toolkit can be found [here](https://trace.ncbi.nlm.nih.gov/Traces/sra/sra.cgi?view=toolkit_doc&f=dbgap_use). In short, you need to \n",
    "* download the dbGaP repository key\n",
    "* configure sratoolkit to point to this key\n",
    "* decrypt the data"
   ]
  },
  {
   "cell_type": "code",
   "execution_count": null,
   "metadata": {},
   "outputs": [],
   "source": [
    "## Download project key from dbGaP authorized access\n",
    "\n",
    "## upload key to EC2 instance\n",
    "scp -i ~/.ssh/gwas_rsa prj_2556.ngc   ec2-user@54.84.72.140:/shared/jmarks/ncbi/dbGaP-2556/\n",
    "\n",
    "## configure sratoolkit\n",
    "/shared/bioinformatics/software/third_party/sratoolkit.2.8.2-1-centos_linux64/bin/vdb-config -i\n",
    "\n",
    "## In order to access the projects data, you will need to change directory or \"cd\" to the project's workspace.\n",
    "cd /shared/jmarks/ncbi/dbGaP-2556/\n",
    "/shared/bioinformatics/software/third_party/sratoolkit.2.8.2-1-centos_linux64/bin/vdb-decrypt -q \\\n",
    "    /shared/jmarks/proj/hiv/cfar/70563 &\n"
   ]
  },
  {
   "cell_type": "markdown",
   "metadata": {},
   "source": [
    "## Upload to S3"
   ]
  },
  {
   "cell_type": "code",
   "execution_count": null,
   "metadata": {},
   "outputs": [],
   "source": [
    "\n",
    "cd /shared/jmarks/proj/hiv/cfar/70563/PhenoGenotypeFiles/\n",
    "aws s3 sync . s3://rti-common/dbGaP/phs001788_cfar/"
   ]
  }
 ],
 "metadata": {
  "kernelspec": {
   "display_name": "R",
   "language": "R",
   "name": "ir"
  },
  "language_info": {
   "codemirror_mode": "r",
   "file_extension": ".r",
   "mimetype": "text/x-r-source",
   "name": "R",
   "pygments_lexer": "r",
   "version": "3.5.1"
  },
  "toc": {
   "nav_menu": {},
   "number_sections": true,
   "sideBar": true,
   "skip_h1_title": false,
   "toc_cell": false,
   "toc_position": {},
   "toc_section_display": "block",
   "toc_window_display": false
  }
 },
 "nbformat": 4,
 "nbformat_minor": 2
}
