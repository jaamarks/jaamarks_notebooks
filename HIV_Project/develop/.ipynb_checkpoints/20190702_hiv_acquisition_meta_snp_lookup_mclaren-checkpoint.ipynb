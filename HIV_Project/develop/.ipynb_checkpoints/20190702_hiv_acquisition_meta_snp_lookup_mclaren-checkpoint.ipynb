{
 "cells": [
  {
   "cell_type": "markdown",
   "metadata": {},
   "source": [
    "# HIV Acquisition SNP Lookup with McLaren Results in Meta-Analyses \n",
    "**Author:** Jesse Marks\n",
    "**GitHub:** [issue #97](https://github.com/RTIInternational/bioinformatics/issues/97)\n",
    "\n",
    "This notebook will be performing two different SNP lookups—call them 001 and 002. First for SNP lookup 001, we will search the McLaren Results for SNPs which had a p-value <= 5e-6 and create a list of these SNPs. We will search for the SNPs from this list in our HIV acquisition meta-analyses results—EA-specific (016) and cross-ancestry (015). \n",
    "\n",
    "The second SNP lookup 002 will be the reverse of this. Namely, we will perform two more SNP lookups: one we will search the 015 results for SNPs with p-value <=5e-6 and from this list search for those SNPs in the McLaren results; then we will do the same for the 016 results.\n",
    "\n",
    "The McLaren results are on the share drive at: <br> \n",
    "`//RTPNFIL02/eojohnson/HIV/1.HIV GWAS II/technical/McLarenGWASacquisition/dan.assoc.dosage.meta.ngt.metadaner.ALL_CHR.FUMA_no_SE.gz`.\n",
    "\n",
    "Our HIV acquisition meta-analyses results are on S3 at:\n",
    "* `s3://rti-hiv/meta_new/015` (cross-ancestry)\n",
    "* `s3://rti-hiv/meta_new/016` (ea specific)\n"
   ]
  },
  {
   "cell_type": "markdown",
   "metadata": {},
   "source": [
    "## Download Data\n",
    "Create the directory structure and download the meta-analyses results to EC2. Also, create a list of SNPs for the lookup from the McLaren results. The list should have two columns, a markername column and a chr column (no headers).\n",
    "\n",
    "```\n",
    "rs1:23:T:A  10\n",
    "rs2:24:G:A  10\n",
    "rs9:83:T:C  10\n",
    "...\n",
    "rs56:183:G:T  22\n",
    "```"
   ]
  },
  {
   "cell_type": "code",
   "execution_count": null,
   "metadata": {
    "collapsed": true
   },
   "outputs": [],
   "source": [
    "## EC2 ##\n",
    "\n",
    "# Create directory \n",
    "mkdir -p /shared/jmarks/hiv/meta/lookup/20190702/{ea,cross}/{001,002}\n",
    "cd /shared/jmarks/hiv/meta/lookup/20190702\n",
    "\n",
    "zcat dan.assoc.dosage.meta.ngt.metadaner.ALL_CHR.FUMA_no_SE.gz  |\\\n",
    "    awk '$4 <= 0.000005' > dan.assoc.dosage.meta.ngt.metadaner.p_le_5e-6.FUMA \n",
    "\n",
    "awk '{print $3\":\"$2\":\"$5\":\"$6\"\\t\"$1}' *A > combined_snp_list_1kg.tsv"
   ]
  },
  {
   "cell_type": "markdown",
   "metadata": {},
   "source": [
    "``` \n",
    "wc -l combined_snp_list_1kg.tsv\n",
    "560 combined_snp_list_1kg.tsv\n",
    "\n",
    "head combined_snp_list_1kg.tsv\n",
    "rs115440143:34513535:T:C        1\n",
    "rs60675294:47169845:C:G 1\n",
    "rs1075982:47108365:A:G  1\n",
    "rs2304745:47154272:T:C  1\n",
    "rs2218189:47176818:T:C  1\n",
    "rs1440489:47126392:T:C  1\n",
    "rs11804665:47104708:T:C 1\n",
    "1_47148686:47148686:I2:D        1\n",
    "rs1048380:47142538:A:G  1\n",
    "rs3766214:47181300:T:C  1\n",
    "```"
   ]
  },
  {
   "cell_type": "markdown",
   "metadata": {},
   "source": [
    "# SNP lookup 001\n",
    "I need to create a dictionary of the GSCAN SNPs and then see if each SNP in the meta-analysis is in the dictionary. I think this makes more sense rather than vice-versa; in particular, creating a dictionary for each SNP in the meta-analysis and then searching to see if the GSCAN SNPs are in the dictionary. This latter strategy would require a large amount of memory to create the Python dictionary. The former strategy makes more sense when comsidering computation expense. \n",
    "\n",
    "Also note that there are some SNPs in the meta-analysis which have the format of `chr:position:a1:a2` instead of `rsid:position:a1:a2`. I think the reason is that these SNPs of the former format did not have an associated rsID available. If a GSCAN SNP is not found in the lookup, then we need to output the SNPs that were not found and deal with those later. It might be the case that we have to convert them from `rsid:position:a1:a2` format to `chr:position:a1:a2` and then perform the search again with just these SNPs."
   ]
  },
  {
   "cell_type": "code",
   "execution_count": null,
   "metadata": {},
   "outputs": [],
   "source": [
    "### Python3 ###\n",
    "\"\"\"\n",
    "*SNP lookup*\n",
    "\n",
    "    Make sure the IDs are of the same format for the snp-list\n",
    "    and the IDs in the meta-analysis results. e.g. 1000g_p3 or rsID only\n",
    "\"\"\"\n",
    "import gzip\n",
    "\n",
    "################################################################################\n",
    "date = \"20190702\" # date the results were generated (in results files name)\n",
    "ancestry = \"cross\"\n",
    "\n",
    "if ancestry==\"aa\":\n",
    "    pop = \"afr\"\n",
    "elif ancestry==\"ea\":\n",
    "    pop = \"eur\"\n",
    "else:\n",
    "    pop = \"cross\"\n",
    "\n",
    "## dict to hold gscan snps and the number of times they were found.\n",
    "## we can tell which SNPs did not show up in any of the meta files\n",
    "gscan_dict =  {}\n",
    "base_dir = \"/shared/jmarks/hiv/meta/lookup/20190702\"\n",
    "snp_list = \"{}/combined_snp_list_1kg.tsv\".format(base_dir)\n",
    "\n",
    "for chrom in range(1,23):\n",
    "    progress = \"Prosessing {} {}\".format(ancestry, chrom)\n",
    "    #print(progress)\n",
    "    out_file = \"{}/{}/{}_{}_chr{}_hiv_acq_meta_analysis_1df_mclaren_lookup.txt\".format(base_dir, ancestry, date, pop, chrom)\n",
    "    results_files = \"hiv_acquisition_1df_meta_analysis_uhs1-4_aa+uhs1-4_ea+vidus_ea+wihs1_aa+wihs1_ea+wihs1_ha+wihs2_aa.chr{}.exclude_singletons.1df.gz\".format(chrom)\n",
    "    meta = \"/shared/jmarks/hiv/meta/results/015/final/{}\".format(results_files)\n",
    "    not_found = \"{}/{}/{}_{}_hiv_acq_meta_analysis_mclaren_snps_not_found.txt\".format(base_dir, ancestry, date, pop)\n",
    "################################################################################\n",
    "\n",
    "    with gzip.open(meta) as metF, open(snp_list) as gscanF, open(out_file, \"w\") as outF:\n",
    "        gscan_line = gscanF.readline()\n",
    "        met_head = metF.readline()\n",
    "        met_line = metF.readline()\n",
    "\n",
    "        outF.write(met_head)\n",
    "\n",
    "        ## create a dictionary containing the gscan snps (just 1000G_p3 portion)\n",
    "        if len(gscan_dict) == 0:\n",
    "            while gscan_line:\n",
    "                key = gscan_line.split()[0] # SNP id\n",
    "                value = gscan_line.split()[1] #chromosome\n",
    "                gscan_dict[key] = [0, value]\n",
    "                gscan_line = gscanF.readline()\n",
    "\n",
    "        while met_line:\n",
    "            met_id = met_line.split()[0] # the 1000g_p3 ID in the meta-analysis\n",
    "            if met_id in gscan_dict:\n",
    "                gscan_dict[met_id][0] += 1\n",
    "                outF.write(met_line)\n",
    "            met_line = metF.readline()\n",
    "\n",
    "with open(not_found, \"w\") as notF:\n",
    "    notF.write(\"id\\tchr\\n\")\n",
    "    for key, value in gscan_dict.items():\n",
    "        if value[0]==0:\n",
    "            notF.write(key + \"\\t\" +  value[1] + \"\\n\")"
   ]
  },
  {
   "cell_type": "markdown",
   "metadata": {},
   "source": [
    "### cross\n",
    "Merge the cross ancestry results"
   ]
  },
  {
   "cell_type": "code",
   "execution_count": null,
   "metadata": {},
   "outputs": [],
   "source": [
    "### bash ###\n",
    "\n",
    "## merge results\n",
    "cd /shared/jmarks/hiv/meta/lookup/20190702/test/cross\n",
    "head -1 20190702_cross_chr7_hiv_acq_meta_analysis_1df_mclaren_lookup.txt >\\\n",
    "    20190702_cross_hiv_acq_meta_analysis_1df_mclaren_lookup_merged_results.txt\n",
    "    \n",
    "for file in 20190702_cross_chr{1..22}_hiv_acq_meta_analysis_1df_mclaren_lookup.txt; do\n",
    "    tail -n +2 $file >> 20190702_cross_hiv_acq_meta_analysis_1df_mclaren_lookup_merged_results.txt \n",
    "done "
   ]
  },
  {
   "cell_type": "markdown",
   "metadata": {},
   "source": [
    "### EA\n",
    "Merge the ea-specific ancestry results. \n",
    "\n",
    "Note that we run the same script as above except simply change the `ancestry, pop,` and `date` variables at the top of the script to reflect the different results."
   ]
  },
  {
   "cell_type": "code",
   "execution_count": null,
   "metadata": {},
   "outputs": [],
   "source": [
    "### bash ###\n",
    "\n",
    "## merge results\n",
    "cd /shared/jmarks/hiv/meta/lookup/20190702/test/ea\n",
    "head -1 20190702_eur_chr7_hiv_acq_meta_analysis_1df_mclaren_lookup.txt >\\\n",
    "    20190702_eur_hiv_acq_meta_analysis_1df_mclaren_lookup_merged_results.txt\n",
    "    \n",
    "for file in 20190702_eur_chr{1..22}_hiv_acq_meta_analysis_1df_mclaren_lookup.txt; do\n",
    "    tail -n +2 $file >> 20190702_eur_hiv_acq_meta_analysis_1df_mclaren_lookup_merged_results.txt \n",
    "done "
   ]
  },
  {
   "cell_type": "markdown",
   "metadata": {},
   "source": [
    "## Retrieve Missing SNPs\n",
    "Many SNPs were not retrieved.\n",
    "* 424 not found for EA\n",
    "* 424 not found for cross-ancestry\n",
    "\n",
    "This may be because the McLaren results are 1000g phase 1 SNPs and our HIV acquisition meta-analyses results are 1000g phase 3. There may be some discrepancies. Therefore, we will create a new script that will search for the rsID as well as the SNP position. "
   ]
  },
  {
   "cell_type": "code",
   "execution_count": null,
   "metadata": {},
   "outputs": [],
   "source": [
    "### Python3 ###\n",
    "\"\"\"\n",
    "*SNP lookup v2*\n",
    "\n",
    "Convert the SNP IDs to 1000g_p3 format (rsID:position:A1:A2)\n",
    "in both the meta-analysis results and the SNP lookup list.\n",
    "\"\"\"\n",
    "import gzip\n",
    "\n",
    "################################################################################\n",
    "date = \"20190702\" # date the results were generated (in results files name)\n",
    "ancestry = \"cross\"\n",
    "\n",
    "if ancestry==\"aa\":\n",
    "    pop = \"afr\"\n",
    "elif ancestry==\"ea\":\n",
    "    pop = \"eur\"\n",
    "else:\n",
    "    pop = \"cross\"\n",
    "\n",
    "## dict to hold lookup snps and the number of times they were found.\n",
    "## we can tell which SNPs did not show up in any of the meta files\n",
    "lookup_dict =  {}\n",
    "base_dir = \"/shared/jmarks/hiv/meta/lookup/20190702\"\n",
    "snp_list = \"{}/combined_snp_list_1kg.tsv\".format(base_dir)\n",
    "\n",
    "for chrom in range(1,23):\n",
    "    progress = \"Prosessing {} {}\".format(ancestry, chrom)\n",
    "    #print(progress)\n",
    "    out_file = \"{}/{}/001/{}_{}_chr{}_hiv_acq_meta_analysis_1df_mclaren_lookup.txt\".format(base_dir, ancestry, date, pop, chrom)\n",
    "    results_files = \"hiv_acquisition_1df_meta_analysis_uhs1-4_aa+uhs1-4_ea+vidus_ea+wihs1_aa+wihs1_ea+wihs1_ha+wihs2_aa.chr{}.exclude_singletons.1df.gz\".format(chrom)\n",
    "    meta = \"/shared/jmarks/hiv/meta/results/015/final/{}\".format(results_files)\n",
    "    not_found = \"{}/{}/001/{}_{}_hiv_acq_meta_analysis_mclaren_snps_not_found.txt\".format(base_dir, ancestry, date, pop)\n",
    "################################################################################\n",
    "\n",
    "    with gzip.open(meta) as metF, open(snp_list) as lookupF, open(out_file, \"w\") as outF:\n",
    "        lookup_line = lookupF.readline()\n",
    "        met_head = metF.readline()\n",
    "        met_line = metF.readline()\n",
    "\n",
    "        outF.write(met_head)\n",
    "\n",
    "        ## create a dictionary containing the lookup snps (just 1000G_p3 portion)\n",
    "        if len(lookup_dict) == 0:\n",
    "            while lookup_line:\n",
    "                thou_name = lookup_line.split()[0] # 1000g_p3 SNP id\n",
    "                lookup_chrm = lookup_line.split()[1] #chromosome\n",
    "                lookup_pos = thou_name.split(\":\")[1] # position\n",
    "                key = \"{}:{}\".format(lookup_chrm,lookup_pos)\n",
    "                lookup_dict[key] = [0, lookup_chrm, thou_name]\n",
    "                lookup_line = lookupF.readline()\n",
    "\n",
    "        while met_line:\n",
    "            met_chr = met_line.split()[1]\n",
    "            met_id = met_line.split()[0] # the 1000g_p3 ID in the meta-analysis\n",
    "            met_pos = met_id.split(\":\")[1] # position\n",
    "            met_id = \"{}:{}\".format(met_chr,met_pos)\n",
    "            if met_id in lookup_dict:\n",
    "                lookup_dict[met_id][0] += 1\n",
    "                outF.write(met_line)\n",
    "            met_line = metF.readline()\n",
    "\n",
    "with open(not_found, \"w\") as notF:\n",
    "    notF.write(\"chr\\tid\\n\")\n",
    "    for key, value in lookup_dict.items():\n",
    "        if value[0]==0:\n",
    "            notF.write(\"\\t\".join(str(v) for v in value[1:]) + \"\\n\")"
   ]
  },
  {
   "cell_type": "markdown",
   "metadata": {},
   "source": [
    "### merge EA"
   ]
  },
  {
   "cell_type": "code",
   "execution_count": null,
   "metadata": {},
   "outputs": [],
   "source": [
    "## merge results\n",
    "cd /shared/jmarks/hiv/meta/lookup/20190702/ea/001\n",
    "head -1 20190702_eur_chr7_hiv_acq_meta_analysis_1df_mclaren_lookup.txt >\\\n",
    "    20190702_eur_hiv_acq_meta_analysis_1df_mclaren_lookup_merged_results.txt\n",
    "    \n",
    "for file in 20190702_eur_chr{1..22}_hiv_acq_meta_analysis_1df_mclaren_lookup.txt; do\n",
    "    tail -n +2 $file >> 20190702_eur_hiv_acq_meta_analysis_1df_mclaren_lookup_merged_results.txt \n",
    "done "
   ]
  },
  {
   "cell_type": "markdown",
   "metadata": {},
   "source": [
    "## merge Cross"
   ]
  },
  {
   "cell_type": "code",
   "execution_count": null,
   "metadata": {},
   "outputs": [],
   "source": [
    "## merge results\n",
    "cd /shared/jmarks/hiv/meta/lookup/20190702/cross/001\n",
    "head -1 20190702_cross_chr7_hiv_acq_meta_analysis_1df_mclaren_lookup.txt >\\\n",
    "    20190702_cross_hiv_acq_meta_analysis_1df_mclaren_lookup_merged_results.txt\n",
    "    \n",
    "for file in 20190702_cross_chr{1..22}_hiv_acq_meta_analysis_1df_mclaren_lookup.txt; do\n",
    "    tail -n +2 $file >> 20190702_cross_hiv_acq_meta_analysis_1df_mclaren_lookup_merged_results.txt \n",
    "done "
   ]
  },
  {
   "cell_type": "markdown",
   "metadata": {},
   "source": [
    "# SNP Lookup 002\n",
    "Now we will perform two more SNP lookups: one we will search the 015 results for SNPs with p-value <=5e-6 and from this list search for those SNPs in the McLaren results; then we will do the same for the 016 results."
   ]
  },
  {
   "cell_type": "code",
   "execution_count": null,
   "metadata": {},
   "outputs": [],
   "source": [
    "## copy results to corresponding lookup directory\n",
    "cp hiv_acquisition_1df_meta_analysis_uhs1-4_aa+uhs1-4_ea+vidus_ea+wihs1_aa+wihs1_ea+wihs1_ha+wihs2_aa.exclude_singletons.1df.p_lte_0.001.csv\\\n",
    "    /shared/jmarks/hiv/meta/lookup/20190702/cross/002\n",
    "cp hiv_acquisition_1df_meta_analysis_uhs1-4_ea+vidus_ea+wihs1_ea.exclude_singletons.1df.p_lte_0.001.csv\\\n",
    "    /shared/jmarks/hiv/meta/lookup/20190702/ea/002/\n",
    "\n",
    "## filter to SNPs with pvalue <= 5e-6\n",
    "cd /shared/jmarks/hiv/meta/lookup/20190702/cross/002/\n",
    "head -1 hiv_acquisition_1df_meta_analysis_uhs1-4_aa+uhs1-4_ea+vidus_ea+wihs1_aa+wihs1_ea+wihs1_ha+wihs2_aa.exclude_singletons.1df.p_lte_0.001.csv >\\\n",
    "    015_snps_pval_le_5e-6.txt\n",
    "awk -F \",\"  ' $8 <= 0.000005 ' hiv_acquisition_1df_meta_analysis_uhs1-4_aa+uhs1-4_ea+vidus_ea+wihs1_aa+wihs1_ea+wihs1_ha+wihs2_aa.exclude_singletons.1df.p_lte_0.001.csv \\\n",
    "    >> 015_snps_pval_le_5e-6.txt\n",
    "\n",
    "cd /shared/jmarks/hiv/meta/lookup/20190702/ea/002/\n",
    "head -1 hiv_acquisition_1df_meta_analysis_uhs1-4_ea+vidus_ea+wihs1_ea.exclude_singletons.1df.p_lte_0.001.csv >\\\n",
    "    016_snps_pval_le_5e-6.txt\n",
    "awk -F \",\"  ' $8 <= 0.000005 ' hiv_acquisition_1df_meta_analysis_uhs1-4_ea+vidus_ea+wihs1_ea.exclude_singletons.1df.p_lte_0.001.csv \\\n",
    "    >> 016_snps_pval_le_5e-6.txt"
   ]
  },
  {
   "cell_type": "markdown",
   "metadata": {},
   "source": [
    "## cross"
   ]
  },
  {
   "cell_type": "code",
   "execution_count": null,
   "metadata": {},
   "outputs": [],
   "source": [
    "### python ###\n",
    "\"\"\"\n",
    "cd to working directory\n",
    "\"\"\"\n",
    "import gzip\n",
    "\n",
    "mclaren = \"/shared/jmarks/hiv/meta/lookup/20190702/dan.assoc.dosage.meta.ngt.metadaner.ALL_CHR.FUMA_no_SE.gz\"\n",
    "meta = \"015_snps_pval_le_5e-6.txt\"\n",
    "out = \"20190702_cross_hiv_acq_1df_meta_snp_lookup_results_version2.txt\"\n",
    "not_found = \"20190702_cross_hiv_acq_1df_meta_snps_not_found_version2.txt\"\n",
    "\n",
    "mdic = {}\n",
    "\n",
    "with gzip.open(mclaren) as mcF, open(out, 'w') as outF, open(meta) as metF:\n",
    "    met_head = metF.readline()\n",
    "    outF.write(met_head)\n",
    "    met_line = metF.readline()\n",
    "    while met_line:\n",
    "        sl = met_line.split(\",\")\n",
    "        key = \"{}:{}\".format(sl[1], sl[2]) # chr:position\n",
    "        \n",
    "        mdic[key] = [0, met_line]\n",
    "        met_line = metF.readline()\n",
    "\n",
    "    mc_line = mcF.readline()\n",
    "    mc_line = mcF.readline()\n",
    "    while mc_line:\n",
    "        mc_chr = mc_line.split()[0]\n",
    "        mc_pos = mc_line.split()[1]\n",
    "        mc_key = \"{}:{}\".format(mc_chr, mc_pos)\n",
    "        if mc_key in mdic:\n",
    "            mdic[mc_key][0] += 1\n",
    "            outF.write(mc_line)\n",
    "        mc_line = mcF.readline()\n",
    "\n",
    "\n",
    "with open(not_found, \"w\") as notF:\n",
    "    for key, value in mdic.items():\n",
    "        if value[0]==0:\n",
    "            notF.write(value[1])"
   ]
  },
  {
   "cell_type": "markdown",
   "metadata": {},
   "source": [
    "## EA\n",
    "simply change the variables at the top of the script to reflect the different lookup."
   ]
  },
  {
   "cell_type": "code",
   "execution_count": null,
   "metadata": {},
   "outputs": [],
   "source": []
  }
 ],
 "metadata": {
  "kernelspec": {
   "display_name": "Python 3",
   "language": "python",
   "name": "python3"
  },
  "language_info": {
   "codemirror_mode": {
    "name": "ipython",
    "version": 3
   },
   "file_extension": ".py",
   "mimetype": "text/x-python",
   "name": "python",
   "nbconvert_exporter": "python",
   "pygments_lexer": "ipython3",
   "version": "3.7.1"
  },
  "toc": {
   "nav_menu": {},
   "number_sections": true,
   "sideBar": true,
   "skip_h1_title": false,
   "toc_cell": false,
   "toc_position": {
    "height": "628px",
    "left": "0px",
    "right": "1468px",
    "top": "107px",
    "width": "266px"
   },
   "toc_section_display": "block",
   "toc_window_display": false
  }
 },
 "nbformat": 4,
 "nbformat_minor": 2
}
