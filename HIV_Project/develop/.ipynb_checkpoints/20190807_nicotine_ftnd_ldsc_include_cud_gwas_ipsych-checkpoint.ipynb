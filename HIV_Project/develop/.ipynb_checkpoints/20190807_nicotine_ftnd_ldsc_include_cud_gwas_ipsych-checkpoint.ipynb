{
 "cells": [
  {
   "cell_type": "markdown",
   "metadata": {},
   "source": [
    "# LD Score Regression: Update FTND with CUB\n",
    "**Author**: Jesse Marks <br>\n",
    "**GitHub Issue:** [#103](https://github.com/RTIInternational/bioinformatics/issues/103)\n",
    "\n",
    "LD score regression (LDSC) analyses are needed for EUR-specific meta-analysis results for FTND. Dana Hancock is wanting to update the latest LDSC for FTND to include a recently published Nature Neuroscience paper: [cannabis use disorder (CUB) GWAS](https://www.nature.com/articles/s41593-019-0416-1). Alex Waldrop ran the last LDSC for FTND and you can find the plot and table [at this link](https://github.com/RTIInternational/bioinformatics/issues/103#issuecomment-514772578)\n",
    "\n",
    "We are going to utilize the [LD score regression pipeline](https://github.com/RTIInternational/ld-regression-pipeline) that Alex Waldrop developed to perform LD score regression. We will be using the LDSC pipeline on Docker to complete these analyses.\n",
    "\n",
    "<br><br>\n",
    "\n",
    "### Workflow guideline\n",
    " 1. Create Excel phenotype file locally then upload to EC2 instance\n",
    " 2. Clone https://github.com/RTIInternational/ld-regression-pipeline\n",
    " 3. Then edit full_ld_regression_wf_template.json to include the reference data of choice\n",
    " 4. Use dockerized tool to finish filling out the json file that will be input for workflow\n",
    " 5. Run the WDL workflow for LDSC\n",
    "\n",
    "### workflow ID number:\n",
    "`8123c2fa-61ef-4095-9e41-4ccd014c2ebc`"
   ]
  },
  {
   "cell_type": "markdown",
   "metadata": {},
   "source": [
    "## Create WorkFlow inputs\n",
    "Here is an example entry in the Excel Phenotype File:\n",
    "\n",
    "**trait\tplot_label\tsumstats_path\tpmid\tcategory\tsample_size\tid_col\tchr_col\tpos_col\teffect_allele_col\tref_allele_col\teffect_col\tpvalue_col\tsample_size_col\teffect_type\tw_ld_chr**\n",
    "```\n",
    "COPDGWAS Hobbs et al.\tCOPD\ts3://rti-nd/LDSC/COPDGWAS_HobbsEtAl/modGcNoOtherMinMissSorted.withchrpos.txt.gz\t28166215\tRespiratory\t51772\t3\t1\t2\t4\t5\t10\t12\t\tbeta\ts3://clustername--files/eur_w_ld_chr.tar.bz2\n",
    "```\n",
    "\n",
    "**Note**: the data we used for this run was at `s3://rti-nd/LDSC/CUD_GWAS_iPSYCH_June2019/CUD_GWAS_iPSYCH_June2019.gz`"
   ]
  },
  {
   "cell_type": "code",
   "execution_count": null,
   "metadata": {},
   "outputs": [],
   "source": [
    "### EC2 ###\n",
    "# enter compute node and use screen tool\n",
    "qrsh -l h=ip-172-31-29-161\n",
    "screen \n",
    "\n",
    "# clone github repo\n",
    "cd /shared/jmarks/projects/nicotine/ldsc/001\n",
    "git clone https://github.com/RTIInternational/ld-regression-pipeline\n",
    "    \n",
    "# edit file-input json\n",
    "cd ld-regression-pipeline\n",
    "mkdir workflow_inputs\n",
    "cp json_input/full_ld_regression_wf_template.json workflow_inputs\n",
    "cd workflow_inputs\n",
    "\n",
    "## vim edit file (see README.md at https://github.com/RTIInternational/ld-regression-pipeline)"
   ]
  },
  {
   "cell_type": "code",
   "execution_count": null,
   "metadata": {},
   "outputs": [],
   "source": [
    "### local ###\n",
    "\n",
    "## edit phenotype file and upload to EC2 instance\n",
    "cd /cygdrive/c/Users/jmarks/Desktop/Projects/Nicotine/ldsc/001/inputs\n",
    "scp -i ~/.ssh/gwas_rsa hiv*xlsx ec2-user@3.221.213.211:/shared/jmarks/projects/nicotine/ldsc/001/ld-regression-pipeline/workflow_inputs"
   ]
  },
  {
   "cell_type": "code",
   "execution_count": null,
   "metadata": {},
   "outputs": [],
   "source": [
    "### EC2 ###\n",
    "\n",
    "# create final workflow input (a json file)\n",
    "docker run -v /shared/jmarks/projects/nicotine/ldsc/001/ld-regression-pipeline/workflow_inputs:/data/ \\\n",
    "    rticode/generate_ld_regression_input_json:1ddbd682cb1e44dab6d11ee571add34bd1d06e21 \\\n",
    "    --json-input /data/full_ld_regression_wf_template.json \\\n",
    "    --pheno-file /data/ftnd_ldsc_phenotypes_local.xlsx >\\\n",
    "        /shared/jmarks/projects/nicotine/ldsc/001/ld-regression-pipeline/workflow_inputs/final_wf_inputs.json"
   ]
  },
  {
   "cell_type": "markdown",
   "metadata": {},
   "source": [
    "## Run Analysis Workflow"
   ]
  },
  {
   "cell_type": "code",
   "execution_count": null,
   "metadata": {},
   "outputs": [],
   "source": [
    "## zip appropriate files \n",
    "# Change to directory immediately above ld-regression-pipeline\n",
    "cd /shared/jmarks/projects/nicotine/ldsc/001/ld-regression-pipeline\n",
    "cd ..\n",
    "# Make zipped copy of repo somewhere\n",
    "zip --exclude=*var/* --exclude=*.git/* -r \\\n",
    "    /shared/jmarks/projects/nicotine/ldsc/001/ld-regression-pipeline/workflow_inputs/ld-regression-pipeline.zip \\\n",
    "    ld-regression-pipeline\n",
    "\n",
    "## download cromwell and the config file, if necessary\n",
    "cd /shared/jmarks/bin/cromwell\n",
    "#aws s3 cp s3://rti-cromwell-output/cromwell-config/cromwell_default_genomics_queue.conf .\n",
    "#wget https://github.com/broadinstitute/cromwell/releases/download/44/cromwell-44.jar\n",
    "\n",
    "## run ldsc workflow on AWS EC2 instance\n",
    "java -Dconfig.file=/shared/jmarks/bin/cromwell/cromwell_default_genomics_queue.conf \\\n",
    "    -jar cromwell-44.jar \\\n",
    "    run /shared/jmarks/projects/nicotine/ldsc/001/ld-regression-pipeline/workflow/full_ld_regression_wf.wdl \\\n",
    "    -i /shared/jmarks/projects/nicotine/ldsc/001/ld-regression-pipeline/workflow_inputs/final_wf_inputs.json \\\n",
    "    -p /shared/jmarks/projects/nicotine/ldsc/001/ld-regression-pipeline/workflow_inputs/ld-regression-pipeline.zip"
   ]
  },
  {
   "cell_type": "markdown",
   "metadata": {},
   "source": [
    "Record workflow ID at top."
   ]
  },
  {
   "cell_type": "markdown",
   "metadata": {},
   "source": [
    "### Copy Workflow Results to Local"
   ]
  },
  {
   "cell_type": "code",
   "execution_count": null,
   "metadata": {},
   "outputs": [],
   "source": [
    "# copy input files from EC2\n",
    "cd /cygdrive/c/Users/jmarks/Desktop/Projects/Nicotine/ldsc/001/input\n",
    "scp -i ~/.ssh/gwas_rsa  ec2-user@3.221.213.211:/shared/jmarks/projects/nicotine/ldsc/001/ld-regression-pipeline/workflow_inputs/* .\n",
    "\n",
    "# copy results log files from LDSC\n",
    "cd ../output/    \n",
    "aws s3 cp s3://rti-cromwell-output/cromwell-execution/full_ld_regression_wf/8123c2fa-61ef-4095-9e41-4ccd014c2ebc/call-ld_regression/shard-0/LDSC.single_ld_regression_wf/6d08dfa9-bfbb-4125-8cc8-97948012739c/call-ld_regression/ftnd_by_copd.ldsc_regression.log .\n",
    "aws s3 cp s3://rti-cromwell-output/cromwell-execution/full_ld_regression_wf/8123c2fa-61ef-4095-9e41-4ccd014c2ebc/call-ld_regression/shard-1/LDSC.single_ld_regression_wf/46b8b583-9065-440a-ae41-f51ca89ef644/call-ld_regression/ftnd_by_cudipsych.ldsc_regression.log .\n",
    "    \n",
    "# copy plot table\n",
    "aws s3 cp s3://rti-cromwell-output/cromwell-execution/full_ld_regression_wf/8123c2fa-61ef-4095-9e41-4ccd014c2ebc/call-plot_ld/PLOT.plot_ld_regression_wf/2b30b9c4-9155-4753-acdc-51b4fec8eacb/call-make_plot_table/ftnd_test.ld_regression_results.tsv .\n",
    "\n",
    "# copy plot\n",
    "aws s3 cp s3://rti-cromwell-output/cromwell-execution/full_ld_regression_wf/8123c2fa-61ef-4095-9e41-4ccd014c2ebc/call-plot_ld/PLOT.plot_ld_regression_wf/2b30b9c4-9155-4753-acdc-51b4fec8eacb/call-plot_ld_regression_results/ftnd_test.ld_regression_results.pdf .\n"
   ]
  },
  {
   "cell_type": "markdown",
   "metadata": {},
   "source": [
    "## LD Hub\n",
    "How to prepare/format data for LDHub.\n",
    "\n",
    "```\n",
    "Important notes for your uploaded file:\n",
    "\n",
    "1. To save the uploading time, LD Hub only accepts zipped files as input (e.g. mydata.zip).\n",
    "\n",
    "2. Please check that there is ONLY ONE plain TXT file (e.g. mydata.txt) in your zipped file.\n",
    "\n",
    "3. Please make sure you do NOT zip any folder together with the plain txt file (e.g. /myfolder/mydata.txt), otherwise you will get an error: [Errno 2] No such file or directory\n",
    "\n",
    "4. Please do NOT zip multiple files (e.g. zip mydata.zip file1.txt file2.txt ..) or zip a file with in a folder (e.g. zip mydata.zip /path/to/my/file/mydata.txt).\n",
    "\n",
    "5. Please keep the file name of your plain txt file short (less than 50 characters), otherwise you may get an error: [Errno 2] No such file or directory\n",
    "\n",
    "6. Please zip your plain txt file using following command (ONE file at a time):\n",
    "\n",
    "For Windows system: 1) Locate the file that you want to compress. 2) Right-click the file, point to Send to, and then click Compressed (zipped) folder.\n",
    "\n",
    "For Linux and Mac OS system: zip mydata.zip mydata.txt\n",
    "\n",
    "Reminder: for Mac OS system, please do NOT zip you file by right click mouse and click \"Compress\" to zip your file, this will automatically create a folder called \"__MACOS\". You will get an error: [Errno 2] No such file or directory.\n",
    "\n",
    "Upload the trait of interest\n",
    "To save your upload time, we highly recommend you to use the SNP list we used in LD Hub to reduce the number of SNPs in your uploaded file. Click here to download our SNP list (w_hm3.noMHC.snplist.zip).\n",
    "\n",
    "Please upload the zipped file you just created. Click here to download an input example.\n",
    "```\n",
    "\n",
    "**Note:** for this run, we did not have any LDHub studies to test. They had already been done. We simply added out LDSC results from our pipeline to the previous table of results at:\n",
    "`s3://rti-nd/LDSC/alex_ldsc_5-14-19/final_figure_6-6-19/ftnd_ld_regression_results_6-6-19.xlsx`"
   ]
  },
  {
   "cell_type": "code",
   "execution_count": null,
   "metadata": {},
   "outputs": [],
   "source": [
    "## Download outputs for each ref chr from rftm_sumstats step\n",
    "#cd /shared/jmarks/hiv/ldsc/ldhub\n",
    "#aws s3 sync s3://rti-cromwell-output/cromwell-execution/full_ld_regression_wf/ed5747ed-ccbe-4bc9-bb44-1f2d750a27eb/call-munge_ref/MUNGE_REF_WF.munge_sumstats_wf/e6c9491a-ca22-4ca0-8ad6-79d2b13a6dbe/call-munge_chr_wf/ .\n",
    "#    \n",
    "#mv  */MUNGE_CHR.munge_sumstats_chr_wf/*/call-rfmt_sumstats/hiv_acquisition_1df_meta_analysis_uhs1-4_ea+vidus_ea+wihs1_ea.chr*.exclude_singletons.1df.standardized.phase3ID.munge_ready.txt .\n",
    "#\n",
    "## Concat into single file\n",
    "#cat hiv_acquisition_1df_meta_analysis_uhs1-4_ea+vidus_ea+wihs1_ea.chr1.exclude_singletons.1df.standardized.phase3ID.munge_ready.txt >\\\n",
    "#    hiv016_ld_hub_with_pvalues.txt\n",
    "#for chr in {2..22}\n",
    "#do\n",
    "#    tail -n +2  hiv_acquisition_1df_meta_analysis_uhs1-4_ea+vidus_ea+wihs1_ea.chr$chr.exclude_singletons.1df.standardized.phase3ID.munge_ready.txt >>\\\n",
    "#        hiv016_ld_hub_with_pvalues.txt\n",
    "#done\n",
    "#\n",
    "#\n",
    "## Remove unnecessary columns (need snpID, A1, A2, Beta, Pvalue)\n",
    "#cat hiv016_ld_hub_with_pvalues.txt | cut -f 1,4,5,6,7 > tmp && mv tmp hiv016_ld_hub_with_pvalues.txt\n",
    "#\n",
    "## Add sample size column (sample = 46213.00)\n",
    "#cat hiv016_ld_hub_with_pvalues.txt | awk -v OFS=\"\\t\" -F\"\\t\" '{print $1,$2,$3,$4,\"4664.000\",$5}' > hiv016_ld_hub.txt\n",
    "#\n",
    "## Use vi to change column names to be:\n",
    "#snpid A1 A2 BETA N P-value"
   ]
  },
  {
   "cell_type": "markdown",
   "metadata": {},
   "source": [
    "# Create rg Plot\n",
    "We are updating the plot that was posted in GitHub [in this commment](https://github.com/RTIInternational/bioinformatics/issues/103#issuecomment-514772578). We are simply adding the results of this run of LDSC performed between our FTND meta-analysis results and the CUD GWAS (2019). We just need to add our results to the bottom of the input file found at:<br>\n",
    "`s3://rti-nd/LDSC/alex_ldsc_5-14-19/final_figure_6-6-19/figure_input_files/ftnd_revised_plot_table_6-6-19.csv`"
   ]
  },
  {
   "cell_type": "code",
   "execution_count": null,
   "metadata": {},
   "outputs": [],
   "source": [
    "### local ###\n",
    "\n",
    "# upload figure generation files to s3\n",
    "cd /cygdrive/c/Users/jmarks/Desktop/Projects/Nicotine/ldsc/001/plot\n",
    "aws s3 sync . s3://rti-nd/LDSC/jmarks_ldsc_8-7-19/figure_generation/\n",
    "    \n",
    "# upload figure generation files to EC2\n",
    "scp -i ~/.ssh/gwas_rsa *  ec2-user@3.221.213.211:/shared/jmarks/projects/nicotine/ldsc/001/final"
   ]
  },
  {
   "cell_type": "code",
   "execution_count": null,
   "metadata": {},
   "outputs": [],
   "source": [
    "### EC2 ###\n",
    "\n",
    "# enter interactive mode\n",
    "docker run -it -v\"/shared/jmarks/projects/nicotine/ldsc/001/final/:/data/\" \\\n",
    "    rticode/plot_ld_regression_results:1ddbd682cb1e44dab6d11ee571add34bd1d06e21 /bin/bash\n",
    "    \n",
    "Rscript /opt/plot_ld_regression/plot_ld_regression_results.R \\\n",
    "    --input_file 20190807_ftnd_rg_plot_table.csv \\\n",
    "    --output_file 20190807_ftnd_ld_regression_results.pdf \\\n",
    "    --group_order_file ftnd_rg_plot_order.csv \\\n",
    "    --comma_delimited"
   ]
  },
  {
   "cell_type": "code",
   "execution_count": null,
   "metadata": {},
   "outputs": [],
   "source": [
    "### local ###\n",
    "\n",
    "# copy results to local\n",
    "scp -i ~/.ssh/gwas_rsa  ec2-user@3.221.213.211:/shared/jmarks/projects/nicotine/ldsc/001/final/*pdf ."
   ]
  },
  {
   "attachments": {
    "20190807_ftnd_ld_regression_results.pdf": {
     "application/pdf": "[encoded data removed]"
    }
   },
   "cell_type": "markdown",
   "metadata": {},
   "source": [
    "![20190807_ftnd_ld_regression_results.pdf](attachment:20190807_ftnd_ld_regression_results.pdf)"
   ]
  },
  {
   "cell_type": "code",
   "execution_count": 21,
   "metadata": {},
   "outputs": [
    {
     "data": {
      "text/html": [
       "<iframe src=20190807_ftnd_ld_regression_results.pdf width=300 height=250></iframe>"
      ],
      "text/latex": [
       "\\includegraphics[width=1.0\\textwidth]{20190807_ftnd_ld_regression_results.pdf}"
      ],
      "text/plain": [
       "<__main__.PDF at 0x1d3d0038588>"
      ]
     },
     "execution_count": 21,
     "metadata": {},
     "output_type": "execute_result"
    }
   ],
   "source": [
    "class PDF(object):\n",
    "    def __init__(self, pdf, size=(200,200)):\n",
    "        self.pdf = pdf\n",
    "        self.size = size\n",
    "\n",
    "    def _repr_html_(self):\n",
    "        return '<iframe src={0} width={1[0]} height={1[1]}></iframe>'.format(self.pdf, self.size)\n",
    "\n",
    "    def _repr_latex_(self):\n",
    "        return r'\\includegraphics[width=1.0\\textwidth]{{{0}}}'.format(self.pdf)\n",
    "PDF('',size=(300,250))\n",
    "\n"
   ]
  },
  {
   "cell_type": "markdown",
   "metadata": {},
   "source": [
    "# Sandbox"
   ]
  },
  {
   "cell_type": "markdown",
   "metadata": {},
   "source": [
    "## Create local phenotype file"
   ]
  },
  {
   "cell_type": "code",
   "execution_count": null,
   "metadata": {},
   "outputs": [],
   "source": [
    "aws s3 sync s3://rti-hiv/meta_new/016/results/stats/exclude_singletons .\n",
    "file=hiv_acquisition_1df_meta_analysis_uhs1-4_ea+vidus_ea+wihs1_ea.chr1.exclude_singletons.1df.gz\n",
    "cut -d \" \" -f2,3,1,4,5,6,8 <(zcat $file) > hiv_acq_016.txt\n",
    "\n",
    "for file in hiv_acquisition_1df_meta_analysis_uhs1-4_ea+vidus_ea+wihs1_ea.chr{2..22}.exclude_singletons.1df.gz; do\n",
    "    cut -d \" \" -f2,3,1,4,5,6,8 <(zcat $file) >> hiv_acq_016.txt \n",
    "done &"
   ]
  },
  {
   "cell_type": "code",
   "execution_count": null,
   "metadata": {},
   "outputs": [],
   "source": [
    "Workflow inputs does not exist: /shared/jmarks/studies/hiv/ldsc/016_vs_019/ld-regression-pipeline/workflow_inputs/final_wf_inputs.json\n",
    "# "
   ]
  },
  {
   "cell_type": "code",
   "execution_count": null,
   "metadata": {},
   "outputs": [],
   "source": [
    "/shared/bioinformatics/software/scripts/qsub_job.sh \\\n",
    "    --job_name test01 \\\n",
    "    --script_prefix mytest.20190806 \\\n",
    "    --mem 3 \\\n",
    "    --nslots 1 \\\n",
    "    --priority 0 \\\n",
    "    --program sleep 1 "
   ]
  }
 ],
 "metadata": {
  "kernelspec": {
   "display_name": "Python 3",
   "language": "python",
   "name": "python3"
  },
  "language_info": {
   "codemirror_mode": {
    "name": "ipython",
    "version": 3
   },
   "file_extension": ".py",
   "mimetype": "text/x-python",
   "name": "python",
   "nbconvert_exporter": "python",
   "pygments_lexer": "ipython3",
   "version": "3.7.1"
  },
  "toc": {
   "nav_menu": {},
   "number_sections": true,
   "sideBar": true,
   "skip_h1_title": false,
   "toc_cell": false,
   "toc_position": {},
   "toc_section_display": "block",
   "toc_window_display": false
  }
 },
 "nbformat": 4,
 "nbformat_minor": 2
}
