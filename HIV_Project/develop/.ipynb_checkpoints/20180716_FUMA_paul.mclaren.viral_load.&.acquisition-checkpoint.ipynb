{
 "cells": [
  {
   "cell_type": "markdown",
   "metadata": {},
   "source": [
    "# FUMA tool\n",
    "**Author**: Jesse Marks\n",
    "\n",
    "The results processed here were saved to:\n",
    "`\\\\rcdcollaboration01.rti.ns\\johnson_share\\1.HIV GWAS II\\technical\\McLarenGWAS\\`\n",
    "\n",
    "FUMA tool (http://fuma.ctglab.nl/) file prep for HIV - Meta-Analysis for viral load. Need a zipped file with genome-wide results that is <600Mb. Prepare a file that concatenates all of the chr-specific files into one, and includes only the following meta-analysis output columns.\n",
    "\n",
    " \n",
    "```\n",
    "Chr\n",
    "\n",
    "Position\n",
    "\n",
    "MarkerName\n",
    "\n",
    "P-value\n",
    "\n",
    "Allele1\n",
    "\n",
    "Allele2\n",
    "\n",
    "Effect\n",
    "\n",
    "StdErr```\n",
    "\n",
    "Example files:\n",
    "\n",
    "`ihac2.chr17.eur.meta\n",
    "ihac2.chr16.eur.meta\n",
    "`\n",
    "\n",
    "Results are at:\n",
    "`s3://rti-uploads/paul.mclarenicgh_VL_results.tgz`"
   ]
  },
  {
   "cell_type": "markdown",
   "metadata": {},
   "source": [
    "## Processing Viral Load\n",
    "cat vl.README\n",
    "```\n",
    "#### Written by Paul McLaren (paul.mclaren@canada.ca)\n",
    "#### When using these results and for more information please cite PMID: 26553974\n",
    "\n",
    "# The tar file  contains 22 separate results files separated by chromosome\n",
    "# Note: Although labeled OR, effect sizes are betas from linear regression NOT odds ratios\n",
    "# Betas indicate change in spVL (HIV RNA copies/ml of plasma) per allele copy\n",
    "\n",
    "# Each file contains the following columns:\n",
    "# CHR  - Chromosome\n",
    "# BP   - Position in base pairs (Hg19)\n",
    "# SNP  - SNP ID if available\n",
    "# A1   - Allele 1 (reference allele for effect)\n",
    "# A2   - Allele 2\n",
    "# N    - Number cohorts constributing genotype information\n",
    "# P    - Pvalue (fixed effects meta analysis)\n",
    "# P(R) - Pvalue (random effects meta analysis)\n",
    "# OR   - Effect size (beta) of A1 (fixed effects meta analysis)\n",
    "# OR(R)- Effect size (beta) of A1 (random effects meta analysis)\n",
    "# Q    - Q^2 test for heterogeneity across cohorts\n",
    "# I    - I^2 test for heterogeneity across cohorts\n",
    "```"
   ]
  },
  {
   "cell_type": "code",
   "execution_count": null,
   "metadata": {},
   "outputs": [],
   "source": [
    "## EC2\n",
    "cd aws s3 cp s3://rti-uploads/paul.mclaren/icgh_VL_results.tgz .\n",
    "tar -xvzf icgh_VL_results.tgz\n",
    "\n",
    "awk '{print $1,$2,$3,$7,$4,$5,$9,;exit}'\\\n",
    "    ihac2.chr1.eur.meta >\\\n",
    "    ihac2.eur.meta.ALL_CHR.FUMA\n",
    "for chr in {1..22}; do\n",
    "    echo processing chr$chr\n",
    "    awk 'NR>=2{print $1,$2,$3,$7,$4,$5,$9}'\\\n",
    "    ihac2.chr$chr.eur.meta >> ihac2.eur.meta.ALL_CHR.FUMA\n",
    "done &\n",
    "    \n",
    "gzip ihac2.eur.meta.ALL_CHR.FUMA"
   ]
  },
  {
   "cell_type": "markdown",
   "metadata": {},
   "source": [
    "## Processing Acquisition\n",
    "`cat acquisition.README`\n",
    "```\n",
    "#### Written by Paul McLaren (paul.mclaren@canada.ca)\n",
    "#### When using these results and for more information please cite PMID: 23935489\n",
    "\n",
    "# The tar file icgh_aquisition_results.tar contains 925 separate\n",
    "# gzipped results files separated by chromosome and position\n",
    "# Naming convention: dan_chr$N_$Start_pos[Mb]_$Stop_pos[Mb].assoc.dosage.meta.ngt.metadaner.gz\n",
    "# Note: these files are unfiltered and contain many low frequency and low imputation quality variants\n",
    "\n",
    "# Each file contains the following columns:\n",
    "# CHR  - Chromosome\n",
    "# SNP  - SNP ID if available\n",
    "# BP   - Position in base pairs (Hg18)\n",
    "# A1   - Allele 1 (reference allele for frequency and odds ratio)\n",
    "# A2   - Allele 2\n",
    "# FRQ_A_6334 - A1 Frequency in 6,334 HIV infected individuals\n",
    "# FRQ_U_7247 - A1 Frequency in 7,247 population controls\n",
    "# INFO - Average imputation quality score across included samples\n",
    "# OR   - Odds ratio (A1)\n",
    "# SE   - Stadard error of the odds ratio\n",
    "# P    - Pvalue (fixed effects meta analysis)\n",
    "# ngt  - Number of cohorts constributing genotype information\n",
    "# Direction - Text marker indivating the direction of effect per contributing cohort (+ = OR > 1 ; - = OR < 1)\n",
    "# HetISqt   - I^2 test for heterogeneity across cohorts\n",
    "# HetChiSq  - Chi^2 test for heterogeneity across cohorts\n",
    "# HetDf     - Degrees of freedom for heterogeneity test\n",
    "# HetPVa    - P value for test of heterogeneity across cohorts\n",
    "```\n",
    "\n",
    "**Note**: for the FUMA file submission the number of subjects `N` is required. According to this README file, there are 6,334 cases and 6,247 controls which totals 13,581."
   ]
  },
  {
   "cell_type": "code",
   "execution_count": null,
   "metadata": {},
   "outputs": [],
   "source": [
    "cd /shared/data/sandbox\n",
    "aws s3 cp s3://rti-uploads/paul.mclaren/icgh_aquisition_results.tar . --quiet &\n",
    "\n",
    "awk '{print $1,$3,$2,$11,$4,$5,$9,$10;exit}'\\\n",
    "    dan_chr9_141_144.assoc.dosage.meta.ngt.metadaner >\\\n",
    "    dan.assoc.dosage.meta.ngt.metadaner.ALL_CHR.FUMA\n",
    "\n",
    "for chr in {1..22};do\n",
    "    awk 'NR>=2{print $1,$3,$2,$11,$4,$5,$9,$10}' dan_chr$chr\\_*.assoc.dosage.meta.ngt.metadaner >>  dan.assoc.dosage.meta.ngt.metadaner.ALL_CHR.FUMA \n",
    "done &\n",
    "\n",
    "gzip dan.assoc.dosage.meta.ngt.metadaner.ALL_CHR.FUMA"
   ]
  },
  {
   "cell_type": "markdown",
   "metadata": {},
   "source": [
    "### FUMA error\n",
    "We are getting an error for the FUMA file upload. Firstly, the file is too large (>600MB) therefore we will remove the standard error column. Another error we are getting (ERROR:001) states that the input file format was not correct. We use the approach of submitting each chromosome at a time and see if we can narrow down what exactly the error is."
   ]
  },
  {
   "cell_type": "markdown",
   "metadata": {},
   "source": [
    "#### chr1 test\n",
    "Note that this is with the standard error file removed.\n",
    "\n",
    "`zcat dan.assoc.dosage.meta.ngt.metadaner.ALL_CHR.FUMA_no_SE.gz | head`\n",
    "\n",
    "```\n",
    "CHR BP SNP P A1 A2 OR\n",
    "1 2712128 rs183704632 0.7174 A G 1.36\n",
    "1 1767948 rs192615700 0.4913 A G 1.501\n",
    "1 2866021 rs116066119 0.4732 T G 0.8986\n",
    "1 1801450 rs189263802 0.1137 A C 6.509e+17\n",
    "1 1417994 rs142344235 0.8742 A G 1.163\n",
    "1 1122319 rs7415847 0.07094 T C 0.9203\n",
    "1 1986224 rs28522768 0.7055 T G 0.8675\n",
    "1 2715720 rs115586403 0.1593 T C 0.8707\n",
    "1 1499749 rs146184020 0.7471 A G 1.24\n",
    "```"
   ]
  },
  {
   "cell_type": "code",
   "execution_count": null,
   "metadata": {},
   "outputs": [],
   "source": [
    "## EC2 command line ##\n",
    "zcat dan.assoc.dosage.meta.ngt.metadaner.ALL_CHR.FUMA_no_SE.gz | head -n1 > chr1.test.a\n",
    "\n",
    "awk ' { if ( $1 == 1 ) { print $0 } if ( $1 == 2 ) { exit } }' \\\n",
    "    <(zcat dan.assoc.dosage.meta.ngt.metadaner.ALL_CHR.FUMA_no_SE.gz) >> chr1.test.a"
   ]
  },
  {
   "cell_type": "markdown",
   "metadata": {},
   "source": [
    "We submitted the job on July 18, 2018 at ~noon under the title `mclaren.hiv.acquisition.test.chr1`.\n",
    "\n",
    "* Got results back at ~noon:45. Error:005 occurred which is a benign error stating that no significant SNPs were identified."
   ]
  },
  {
   "cell_type": "markdown",
   "metadata": {},
   "source": [
    "#### chr2 test"
   ]
  },
  {
   "cell_type": "code",
   "execution_count": null,
   "metadata": {},
   "outputs": [],
   "source": [
    "## EC2 command line ##\n",
    "zcat dan.assoc.dosage.meta.ngt.metadaner.ALL_CHR.FUMA_no_SE.gz | head -n1 > chr2.test.a\n",
    "\n",
    "awk ' { if ( $1 == 2 ) { print $0 } if ( $1 == 3 ) { exit } }' \\\n",
    "    <(zcat dan.assoc.dosage.meta.ngt.metadaner.ALL_CHR.FUMA_no_SE.gz) >> chr2.test.a &"
   ]
  },
  {
   "cell_type": "markdown",
   "metadata": {},
   "source": [
    "We submitted the job on July 18, 2018 at ~noon:30 under the title `mclaren.hiv.acquisition.test.chr2`.\n",
    "* Got results back at ~1pm. Error:005 occurred which is a benign error stating that no significant SNPs were identified."
   ]
  },
  {
   "cell_type": "markdown",
   "metadata": {},
   "source": [
    "#### chr3 test"
   ]
  },
  {
   "cell_type": "code",
   "execution_count": null,
   "metadata": {},
   "outputs": [],
   "source": [
    "## EC2 command line ##\n",
    "zcat dan.assoc.dosage.meta.ngt.metadaner.ALL_CHR.FUMA_no_SE.gz | head -n1 > chr3.test.a\n",
    "\n",
    "awk ' { if ( $1 == 3 ) { print $0 } if ( $1 == 4 ) { exit } }' \\\n",
    "    <(zcat dan.assoc.dosage.meta.ngt.metadaner.ALL_CHR.FUMA_no_SE.gz) >> test.folder/chr3.test.a &\n",
    "gzip test.folder/chr3.test.a"
   ]
  },
  {
   "cell_type": "markdown",
   "metadata": {},
   "source": [
    "We submitted the job on July 18, 2018 at ~noon:45 under the title `mclaren.hiv.acquisition.test.chr3`.\n",
    "* Got results back at ~1pm. Error:005 occurred which is a benign error stating that no significant SNPs were identified."
   ]
  },
  {
   "cell_type": "markdown",
   "metadata": {},
   "source": [
    "#### chr4 test"
   ]
  },
  {
   "cell_type": "code",
   "execution_count": null,
   "metadata": {},
   "outputs": [],
   "source": [
    "## EC2 command line ##\n",
    "zcat dan.assoc.dosage.meta.ngt.metadaner.ALL_CHR.FUMA_no_SE.gz | head -n1 > test.folder/chr4.test.a\n",
    "\n",
    "awk ' { if ( $1 == 4 ) { print $0 } if ( $1 == 5 ) { exit } }' \\\n",
    "    <(zcat dan.assoc.dosage.meta.ngt.metadaner.ALL_CHR.FUMA_no_SE.gz) >> test.folder/chr4.test.a &\n",
    "gzip test.folder/chr4.test.a"
   ]
  },
  {
   "cell_type": "markdown",
   "metadata": {},
   "source": [
    "We submitted the job on July 18, 2018 at ~noon:45 under the title `mclaren.hiv.acquisition.test.chr4`.\n",
    "* Got results back at ~1pm. Error:005 occurred which is a benign error stating that no significant SNPs were identified."
   ]
  },
  {
   "cell_type": "markdown",
   "metadata": {},
   "source": [
    "#### chr5 test"
   ]
  },
  {
   "cell_type": "code",
   "execution_count": null,
   "metadata": {},
   "outputs": [],
   "source": [
    "## EC2 command line ##\n",
    "zcat dan.assoc.dosage.meta.ngt.metadaner.ALL_CHR.FUMA_no_SE.gz | head -n1 > test.folder/chr5.test.a\n",
    "\n",
    "awk ' { if ( $1 == 5 ) { print $0 } if ( $1 == 6 ) { exit } }' \\\n",
    "    <(zcat dan.assoc.dosage.meta.ngt.metadaner.ALL_CHR.FUMA_no_SE.gz) >> test.folder/chr5.test.a &\n",
    "gzip test.folder/chr5.test.a"
   ]
  },
  {
   "cell_type": "markdown",
   "metadata": {},
   "source": [
    "We submitted the job on July 18, 2018 at ~noon:45 under the title `mclaren.hiv.acquisition.test.chr5`.\n",
    "* Got results back at ~1pm. Error:005 occurred which is a benign error stating that no significant SNPs were identified."
   ]
  },
  {
   "cell_type": "markdown",
   "metadata": {},
   "source": [
    "#### chr6-22 test\n",
    "Generate the individual chromosome results in parallel."
   ]
  },
  {
   "cell_type": "code",
   "execution_count": null,
   "metadata": {},
   "outputs": [],
   "source": [
    "## EC2 command line\n",
    "for chr in {6..22};do\n",
    "    zcat dan.assoc.dosage.meta.ngt.metadaner.ALL_CHR.FUMA_no_SE.gz | head -n1 > test.folder/chr$chr.test.a\n",
    "\n",
    "    awk -v chr=\"$chr\" ' { if ( $1 == chr ) { print $0 } if ( $1 == chr+1 ) { exit } }' \\\n",
    "        <(zcat dan.assoc.dosage.meta.ngt.metadaner.ALL_CHR.FUMA_no_SE.gz) >> test.folder/chr$chr.test.a &\n",
    "done\n",
    "\n",
    "gzip test.folder/*a &\n",
    "\n",
    "## share drive ##\n",
    "scp -i ~/.ssh/gwas_rsa  ec2-user@35.168.108.18:~/test.folder/chr{6..22}* . &"
   ]
  },
  {
   "cell_type": "markdown",
   "metadata": {},
   "source": [
    "* chr6: FUMA job completed\n",
    "* chr7: ERROR 5\n",
    "* chr8: ERROR 5\n",
    "* chr9:\n",
    "* chr10: \n",
    "* chr11:\n",
    "* chr12:\n",
    "* chr13:\n",
    "* chr14:\n",
    "* chr15:\n",
    "* chr16:\n",
    "* chr17:\n",
    "* chr18:\n",
    "* chr19:\n",
    "* chr20:\n",
    "* chr21:\n",
    "* chr22:"
   ]
  },
  {
   "cell_type": "code",
   "execution_count": null,
   "metadata": {},
   "outputs": [],
   "source": []
  },
  {
   "cell_type": "code",
   "execution_count": null,
   "metadata": {},
   "outputs": [],
   "source": []
  },
  {
   "cell_type": "code",
   "execution_count": null,
   "metadata": {},
   "outputs": [],
   "source": []
  },
  {
   "cell_type": "code",
   "execution_count": null,
   "metadata": {},
   "outputs": [],
   "source": []
  },
  {
   "cell_type": "code",
   "execution_count": null,
   "metadata": {},
   "outputs": [],
   "source": []
  },
  {
   "cell_type": "code",
   "execution_count": null,
   "metadata": {},
   "outputs": [],
   "source": []
  },
  {
   "cell_type": "code",
   "execution_count": null,
   "metadata": {},
   "outputs": [],
   "source": []
  },
  {
   "cell_type": "code",
   "execution_count": null,
   "metadata": {},
   "outputs": [],
   "source": []
  },
  {
   "cell_type": "code",
   "execution_count": null,
   "metadata": {},
   "outputs": [],
   "source": []
  },
  {
   "cell_type": "code",
   "execution_count": null,
   "metadata": {},
   "outputs": [],
   "source": []
  },
  {
   "cell_type": "code",
   "execution_count": null,
   "metadata": {},
   "outputs": [],
   "source": []
  },
  {
   "cell_type": "code",
   "execution_count": null,
   "metadata": {},
   "outputs": [],
   "source": []
  },
  {
   "cell_type": "code",
   "execution_count": null,
   "metadata": {},
   "outputs": [],
   "source": []
  },
  {
   "cell_type": "markdown",
   "metadata": {},
   "source": [
    "#### "
   ]
  }
 ],
 "metadata": {
  "kernelspec": {
   "display_name": "R",
   "language": "R",
   "name": "ir"
  },
  "language_info": {
   "codemirror_mode": "r",
   "file_extension": ".r",
   "mimetype": "text/x-r-source",
   "name": "R",
   "pygments_lexer": "r",
   "version": "3.4.3"
  },
  "toc": {
   "nav_menu": {},
   "number_sections": true,
   "sideBar": true,
   "skip_h1_title": false,
   "toc_cell": false,
   "toc_position": {},
   "toc_section_display": "block",
   "toc_window_display": false
  }
 },
 "nbformat": 4,
 "nbformat_minor": 2
}
