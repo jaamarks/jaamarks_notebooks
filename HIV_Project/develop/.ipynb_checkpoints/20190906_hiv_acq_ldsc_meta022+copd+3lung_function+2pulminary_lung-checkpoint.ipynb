{
 "cells": [
  {
   "cell_type": "markdown",
   "metadata": {},
   "source": [
    "# LD Score Regression: Meta022 + COPD + 3 LDHub Lung Function + 2 Pulminary Lung Function\n",
    "**Author**: Jesse Marks <br>\n",
    "**GitHub Issue:** [#126](https://github.com/RTIInternational/bioinformatics/issues/126)\n",
    "\n",
    "\n",
    "This Jupyter Notebook documents the steps taken to perform LD Score Regression (LDSC)—a tool for estimating heritability and genetic correlation—on our European-specific meta-analysis results. In particular, we perform LDSC on our in-house meta-analysis (labeled 022) compared to: the COPD GWAS results, two sets of GWAS results for pulminary lung function, and 3 GWAS results for lung function on LDHub.\n",
    "\n",
    "## Data \n",
    "\n",
    "**In-house Meta022** <br>\n",
    "The 022 meta-analysis for HIV acquisition has `n=18,245` and includes:\n",
    "* McLaren EA (n=13,581)\n",
    "* UHS1-4 EA (n=3013)\n",
    "* WIHS1 EA (n=720)\n",
    "* VIDUS EA (n=931)\n",
    "\n",
    "**Two Pulminary Lung Function GWAS**: <br>\n",
    "* What is the `N`? \n",
    "* What is the chromosome?\n",
    "```css\n",
    "@jaamarks GWAS results for PFT decline (https://journals.plos.org/plosone/article?id=10.1371/journal.pone.0100776 ) are available here for comparison to HIV acquisition, once you have the new in-house+McLaren GWAS meta:\n",
    "/rti-shares/gxg/R21_GxNutrients/PriorGWASresults/MAres_FEV1_Longitudinal_All_291120121.tbl\n",
    "/rti-shares/gxg/R21_GxNutrients/PriorGWASresults/MAres_FEV1_Longitudinal_sub_291120121.tbl\n",
    "```\n",
    "\n",
    "We are going to utilize the [LD score regression pipeline](https://github.com/RTIInternational/ld-regression-pipeline) that Alex Waldrop developed to perform LD score regression. Specifically, we are going to compare the two studies to determine if VIDUS has a significant effect on heritability. We will be using the LDSC pipeline on Docker to complete these analyses, which will enable us to assess the SNP-based heritability of HIV acquisition and compare whether VIDUS is systematically deflating the heritability (which we would expect if VIDUS is systematic flipping SNP association directions given our prior look-ups of specific regions).\n",
    "\n",
    "<br><br>\n",
    "\n",
    "### Workflow guideline\n",
    " 1. Create Excel phenotype file locally then upload to EC2 instance\n",
    " 2. Clone https://github.com/RTIInternational/ld-regression-pipeline\n",
    " 3. Then edit full_ld_regression_wf_template.json to include the reference data of choice\n",
    " 4. Lastly use dockerized tool to finish filling out the json file that will be input for workflow\n",
    "\n",
    "### workflow ID number:\n",
    "`b8ab345f-b45d-4df2-a4fe-d087f464f684`"
   ]
  },
  {
   "cell_type": "markdown",
   "metadata": {},
   "source": [
    "## Create WorkFlow inputs\n",
    "Here is an example entry in the Excel Phenotype File:\n",
    "\n",
    "**trait\tplot_label\tsumstats_path\tpmid\tcategory\tsample_size\tid_col\tchr_col\tpos_col\teffect_allele_col\tref_allele_col\teffect_col\tpvalue_col\tsample_size_col\teffect_type\tw_ld_chr**\n",
    "```\n",
    "COPDGWAS Hobbs et al.\tCOPD\ts3://rti-nd/LDSC/COPDGWAS_HobbsEtAl/modGcNoOtherMinMissSorted.withchrpos.txt.gz\t28166215\tRespiratory\t51772\t3\t1\t2\t4\t5\t10\t12\t\tbeta\ts3://clustername--files/eur_w_ld_chr.tar.bz2\n",
    "```"
   ]
  },
  {
   "cell_type": "code",
   "execution_count": null,
   "metadata": {},
   "outputs": [],
   "source": [
    "cd /shared/jmarks/projects/hiv/ldsc/20190806/003\n",
    "aws s3 sync s3://rti-hiv/meta_new/019/results/stats/exclude_singletons . --quiet\n",
    "    \n",
    "# create merged summary stats for meta 019 (extract only necessary columns)\n",
    "zcat hiv_acquisition_1df_meta_analysis_uhs1-4_ea+wihs1_ea.chr1.exclude_singletons.1df.gz |\\\n",
    "cut -d \" \" -f1,2,3,4,5,6,8 > hiv_acq_019.txt \n",
    "\n",
    "for chr in {2..22}; do\n",
    "    zcat hiv_acquisition_1df_meta_analysis_uhs1-4_ea+wihs1_ea.chr$chr.exclude_singletons.1df.gz |\\\n",
    "        tail -n +2 | cut -d \" \" -f1,2,3,4,5,6,8 >> hiv_acq_019.txt \n",
    "done &"
   ]
  },
  {
   "cell_type": "code",
   "execution_count": null,
   "metadata": {},
   "outputs": [],
   "source": [
    "### EC2 ###\n",
    "# enter compute node and use screen tool\n",
    "qrsh -l h=ip-172-31-29-161\n",
    "screen \n",
    "\n",
    "# clone github repo\n",
    "cd /shared/jmarks/projects/nicotine/ldsc/001\n",
    "git clone https://github.com/RTIInternational/ld-regression-pipeline\n",
    "    \n",
    "# edit file-input json\n",
    "cd ld-regression-pipeline\n",
    "mkdir workflow_inputs\n",
    "cp json_input/full_ld_regression_wf_template.json workflow_inputs\n",
    "cd workflow_inputs\n",
    "\n",
    "## vim edit file (see README.md at https://github.com/RTIInternational/ld-regression-pipeline)"
   ]
  },
  {
   "cell_type": "code",
   "execution_count": null,
   "metadata": {},
   "outputs": [],
   "source": [
    "### local ###\n",
    "\n",
    "## edit phenotype file and upload to EC2 instance\n",
    "scp -i ~/.ssh/gwas_rsa *xlsx ec2-user@3.221.213.211:/shared/jmarks/projects/nicotine/ldsc/001/ld-regression-pipeline/workflow_inputs"
   ]
  },
  {
   "cell_type": "code",
   "execution_count": null,
   "metadata": {},
   "outputs": [],
   "source": [
    "### EC2 ###\n",
    "\n",
    "# create final workflow input (a json file)\n",
    "docker run -v /shared/jmarks/projects/nicotine/ldsc/001/ld-regression-pipeline/workflow_inputs:/data/ \\\n",
    "    rticode/generate_ld_regression_input_json:1ddbd682cb1e44dab6d11ee571add34bd1d06e21 \\\n",
    "    --json-input /data/full_ld_regression_wf_template.json \\\n",
    "    --pheno-file /data/hiv_acquisition_ldsc_phenotypes_local.xlsx >\\\n",
    "        /shared/jmarks/projects/nicotine/ldsc/001/ld-regression-pipeline/workflow_inputs/final_wf_inputs.json"
   ]
  },
  {
   "cell_type": "markdown",
   "metadata": {},
   "source": [
    "## Run Analysis Workflow"
   ]
  },
  {
   "cell_type": "code",
   "execution_count": null,
   "metadata": {},
   "outputs": [],
   "source": [
    "## copy cromwell config file from S3 to EC2 instance\n",
    "cd /shared/jmarks/bin/cromwell\n",
    "    \n",
    "## zip appropriate files \n",
    "# Change to directory immediately above ld-regression-pipeline\n",
    "cd /shared/jmarks/projects/hiv/ldsc/20190806/003/ld-regression-pipeline\n",
    "cd ..\n",
    "# Make zipped copy of repo somewhere\n",
    "zip --exclude=*var/* --exclude=*.git/* -r \\\n",
    "    /shared/jmarks/projects/hiv/ldsc/20190806/003/ld-regression-pipeline/workflow_inputs/ld-regression-pipeline.zip \\\n",
    "    ld-regression-pipeline\n",
    "\n",
    "## download cromwell and the config file, if necessary\n",
    "cd /shared/jmarks/bin/cromwell\n",
    "#aws s3 cp s3://rti-cromwell-output/cromwell-config/cromwell_default_genomics_queue.conf .\n",
    "#wget https://github.com/broadinstitute/cromwell/releases/download/44/cromwell-44.jar\n",
    "\n",
    "## run ldsc workflow on AWS EC2 instance\n",
    "java -Dconfig.file=/shared/jmarks/bin/cromwell/cromwell_default_genomics_queue.conf \\\n",
    "    -jar cromwell-44.jar \\\n",
    "    run /shared/jmarks/projects/hiv/ldsc/20190806/003/ld-regression-pipeline/workflow/full_ld_regression_wf.wdl \\\n",
    "    -i /shared/jmarks/projects/hiv/ldsc/20190806/003/ld-regression-pipeline/workflow_inputs/final_wf_inputs.json \\\n",
    "    -p /shared/jmarks/projects/hiv/ldsc/20190806/003/ld-regression-pipeline/workflow_inputs/ld-regression-pipeline.zip"
   ]
  },
  {
   "cell_type": "markdown",
   "metadata": {},
   "source": [
    "### workflow ID\n",
    "Get this ID by looking at the log, example: <br>\n",
    "`/shared/jmarks/bin/cromwell/cromwell-workflow-logs/workflow.cffd947c-9345-41f1-a146-3e3454404fa3.log`\n",
    "\n",
    "`b8ab345f-b45d-4df2-a4fe-d087f464f684`"
   ]
  },
  {
   "cell_type": "markdown",
   "metadata": {},
   "source": [
    "### Copy Workflow Results to Local\n"
   ]
  },
  {
   "cell_type": "code",
   "execution_count": null,
   "metadata": {},
   "outputs": [],
   "source": [
    "scp -i ~/.ssh/gwas_rsa   ec2-user@3.221.213.211:/shared/jmarks/projects/hiv/ldsc/20190806/003/ld-regression-pipeline/workflow_inputs/* ."
   ]
  },
  {
   "cell_type": "markdown",
   "metadata": {},
   "source": [
    "## LD Hub\n",
    "```\n",
    "Important notes for your uploaded file:\n",
    "\n",
    "1. To save the uploading time, LD Hub only accepts zipped files as input (e.g. mydata.zip).\n",
    "\n",
    "2. Please check that there is ONLY ONE plain TXT file (e.g. mydata.txt) in your zipped file.\n",
    "\n",
    "3. Please make sure you do NOT zip any folder together with the plain txt file (e.g. /myfolder/mydata.txt), otherwise you will get an error: [Errno 2] No such file or directory\n",
    "\n",
    "4. Please do NOT zip multiple files (e.g. zip mydata.zip file1.txt file2.txt ..) or zip a file with in a folder (e.g. zip mydata.zip /path/to/my/file/mydata.txt).\n",
    "\n",
    "5. Please keep the file name of your plain txt file short (less than 50 characters), otherwise you may get an error: [Errno 2] No such file or directory\n",
    "\n",
    "6. Please zip your plain txt file using following command (ONE file at a time):\n",
    "\n",
    "For Windows system: 1) Locate the file that you want to compress. 2) Right-click the file, point to Send to, and then click Compressed (zipped) folder.\n",
    "\n",
    "For Linux and Mac OS system: zip mydata.zip mydata.txt\n",
    "\n",
    "Reminder: for Mac OS system, please do NOT zip you file by right click mouse and click \"Compress\" to zip your file, this will automatically create a folder called \"__MACOS\". You will get an error: [Errno 2] No such file or directory.\n",
    "\n",
    "Upload the trait of interest\n",
    "To save your upload time, we highly recommend you to use the SNP list we used in LD Hub to reduce the number of SNPs in your uploaded file. Click here to download our SNP list (w_hm3.noMHC.snplist.zip).\n",
    "\n",
    "Please upload the zipped file you just created. Click here to download an input example.\n",
    "```"
   ]
  },
  {
   "cell_type": "code",
   "execution_count": null,
   "metadata": {},
   "outputs": [],
   "source": [
    "## Download outputs for each ref chr from rftm_sumstats step\n",
    "#cd /shared/jmarks/hiv/ldsc/ldhub\n",
    "#aws s3 sync s3://rti-cromwell-output/cromwell-execution/full_ld_regression_wf/ed5747ed-ccbe-4bc9-bb44-1f2d750a27eb/call-munge_ref/MUNGE_REF_WF.munge_sumstats_wf/e6c9491a-ca22-4ca0-8ad6-79d2b13a6dbe/call-munge_chr_wf/ .\n",
    "#    \n",
    "#mv  */MUNGE_CHR.munge_sumstats_chr_wf/*/call-rfmt_sumstats/hiv_acquisition_1df_meta_analysis_uhs1-4_ea+vidus_ea+wihs1_ea.chr*.exclude_singletons.1df.standardized.phase3ID.munge_ready.txt .\n",
    "#\n",
    "## Concat into single file\n",
    "#cat hiv_acquisition_1df_meta_analysis_uhs1-4_ea+vidus_ea+wihs1_ea.chr1.exclude_singletons.1df.standardized.phase3ID.munge_ready.txt >\\\n",
    "#    hiv016_ld_hub_with_pvalues.txt\n",
    "#for chr in {2..22}\n",
    "#do\n",
    "#    tail -n +2  hiv_acquisition_1df_meta_analysis_uhs1-4_ea+vidus_ea+wihs1_ea.chr$chr.exclude_singletons.1df.standardized.phase3ID.munge_ready.txt >>\\\n",
    "#        hiv016_ld_hub_with_pvalues.txt\n",
    "#done\n",
    "#\n",
    "#\n",
    "## Remove unnecessary columns (need snpID, A1, A2, Beta, Pvalue)\n",
    "#cat hiv016_ld_hub_with_pvalues.txt | cut -f 1,4,5,6,7 > tmp && mv tmp hiv016_ld_hub_with_pvalues.txt\n",
    "#\n",
    "## Add sample size column (sample = 46213.00)\n",
    "#cat hiv016_ld_hub_with_pvalues.txt | awk -v OFS=\"\\t\" -F\"\\t\" '{print $1,$2,$3,$4,\"4664.000\",$5}' > hiv016_ld_hub.txt\n",
    "#\n",
    "## Use vi to change column names to be:\n",
    "#snpid A1 A2 BETA N P-value\n",
    "#"
   ]
  },
  {
   "cell_type": "code",
   "execution_count": null,
   "metadata": {},
   "outputs": [],
   "source": [
    "# enter interactive mode\n",
    "docker run -it -v\"/shared/jmarks/hiv/ldsc/final/:/data/\" \\\n",
    "    rticode/plot_ld_regression_results:1ddbd682cb1e44dab6d11ee571add34bd1d06e21 /bin/bash\n",
    "    \n",
    "Rscript /opt/plot_ld_regression/plot_ld_regression_results.R  \\\n",
    "    --input_file 20190806_hiv_aqcuisition_ldsc_016_vs_019_results_table.csv \\\n",
    "    --output_file 20190806_hiv_aqcuisition_meta016_ldsc_copd_lung_function_results_plot.pdf  \\\n",
    "    --comma_delimited\n",
    "    #--group_order_file 20170729_hiv_aqcuisition_meta016_ldsc_copd_lung_function_plot_order.txt"
   ]
  },
  {
   "cell_type": "code",
   "execution_count": null,
   "metadata": {},
   "outputs": [],
   "source": [
    "#Rscript /opt/plot_ld_regression/plot_ld_regression_results.R \\\n",
    "#    --input_file ftnd_revised_plot_table_7-29-19.csv \\\n",
    "#    --output_file ftnd_ld_regression_results_7-29-19.pdf \\\n",
    "#    --comma_delimited"
   ]
  },
  {
   "cell_type": "code",
   "execution_count": null,
   "metadata": {},
   "outputs": [],
   "source": []
  },
  {
   "cell_type": "markdown",
   "metadata": {},
   "source": [
    "```\n",
    "chr     pos     MarkerName      Allele1 Allele2 Freq1   FreqSE  MinFreq MaxFreq Effect  StdErr  P-value Direction       HetISq    HetChiSq        HetDf   HetPVal\n",
    "```"
   ]
  },
  {
   "cell_type": "markdown",
   "metadata": {},
   "source": [
    "## Create local phenotype file"
   ]
  },
  {
   "cell_type": "code",
   "execution_count": null,
   "metadata": {},
   "outputs": [],
   "source": [
    "aws s3 sync s3://rti-hiv/meta_new/016/results/stats/exclude_singletons .\n",
    "file=hiv_acquisition_1df_meta_analysis_uhs1-4_ea+vidus_ea+wihs1_ea.chr1.exclude_singletons.1df.gz\n",
    "cut -d \" \" -f2,3,1,4,5,6,8 <(zcat $file) > hiv_acq_016.txt\n",
    "\n",
    "for file in hiv_acquisition_1df_meta_analysis_uhs1-4_ea+vidus_ea+wihs1_ea.chr{2..22}.exclude_singletons.1df.gz; do\n",
    "    cut -d \" \" -f2,3,1,4,5,6,8 <(zcat $file) >> hiv_acq_016.txt \n",
    "done &"
   ]
  },
  {
   "cell_type": "markdown",
   "metadata": {},
   "source": [
    "# Sandbox"
   ]
  },
  {
   "cell_type": "code",
   "execution_count": null,
   "metadata": {},
   "outputs": [],
   "source": [
    "Workflow inputs does not exist: /shared/jmarks/studies/hiv/ldsc/016_vs_019/ld-regression-pipeline/workflow_inputs/final_wf_inputs.json\n",
    "# "
   ]
  },
  {
   "cell_type": "code",
   "execution_count": null,
   "metadata": {},
   "outputs": [],
   "source": [
    "/shared/bioinformatics/software/scripts/qsub_job.sh \\\n",
    "    --job_name test01 \\\n",
    "    --script_prefix mytest.20190806 \\\n",
    "    --mem 3 \\\n",
    "    --nslots 1 \\\n",
    "    --priority 0 \\\n",
    "    --program sleep 1 "
   ]
  },
  {
   "cell_type": "markdown",
   "metadata": {},
   "source": [
    "HIV_Acquisition_by_hiv019.ldsc_regression.log\n",
    "```\n",
    "Heritability of phenotype 1\n",
    "---------------------------\n",
    "Total Observed scale h2: 0.0948 (0.0958)\n",
    "Lambda GC: 1.0315\n",
    "Mean Chi^2: 1.0304\n",
    "Intercept: 1.0217 (0.0063)\n",
    "Ratio: 0.7154 (0.2082)\n",
    "\n",
    "Heritability of phenotype 2/2\n",
    "-----------------------------\n",
    "Total Observed scale h2: 0.1195 (0.1227)\n",
    "Lambda GC: 1.0315\n",
    "Mean Chi^2: 1.0356\n",
    "Intercept: 1.0269 (0.0069)\n",
    "Ratio: 0.7567 (0.1936)\n",
    "\n",
    "```\n",
    "\n",
    "<br><br><br>\n",
    "HIV_Acquisition_by_copd.ldsc_regression.log\n",
    "\n",
    "```\n",
    "Heritability of phenotype 1\n",
    "---------------------------\n",
    "Total Observed scale h2: 0.0801 (0.0935)\n",
    "Lambda GC: 1.0315\n",
    "Mean Chi^2: 1.0314\n",
    "Intercept: 1.024 (0.0065)\n",
    "Ratio: 0.7625 (0.2055)\n",
    "\n",
    "Heritability of phenotype 2/2\n",
    "-----------------------------\n",
    "Total Observed scale h2: 0.1023 (0.0129)\n",
    "Lambda GC: 1.0618\n",
    "Mean Chi^2: 1.0928\n",
    "Intercept: 0.9869 (0.0075)\n",
    "Ratio < 0 (usually indicates GC correction).\n",
    "\n",
    "```"
   ]
  },
  {
   "cell_type": "code",
   "execution_count": null,
   "metadata": {},
   "outputs": [],
   "source": []
  }
 ],
 "metadata": {
  "kernelspec": {
   "display_name": "Python 3",
   "language": "python",
   "name": "python3"
  },
  "language_info": {
   "codemirror_mode": {
    "name": "ipython",
    "version": 3
   },
   "file_extension": ".py",
   "mimetype": "text/x-python",
   "name": "python",
   "nbconvert_exporter": "python",
   "pygments_lexer": "ipython3",
   "version": "3.7.1"
  },
  "toc": {
   "nav_menu": {},
   "number_sections": true,
   "sideBar": true,
   "skip_h1_title": false,
   "toc_cell": false,
   "toc_position": {},
   "toc_section_display": "block",
   "toc_window_display": false
  }
 },
 "nbformat": 4,
 "nbformat_minor": 2
}
