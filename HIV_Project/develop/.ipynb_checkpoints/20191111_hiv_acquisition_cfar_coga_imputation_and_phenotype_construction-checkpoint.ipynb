{
 "cells": [
  {
   "cell_type": "markdown",
   "metadata": {},
   "source": [
    "# CFAR+COGA pre-imputation and phenotype processing\n",
    "**Author:** Jesse Marks <br>\n",
    "**GitHub:** [133](https://github.com/RTIInternational/bioinformatics/issues/133)\n",
    "\n",
    "This notebook documents the procedures for the pre-imputation genotype data processing of [COGA](https://www.ncbi.nlm.nih.gov/projects/gap/cgi-bin/study.cgi?id=phs001208) and [CFAR](https://www.ncbi.nlm.nih.gov/projects/gap/cgi-bin/study.cgi?id=phs001788) necessary for the submission to the [Michigan Imputation Server (MIS)](https://imputationserver.sph.umich.edu/start.html). The phenotype files are also processed.\n",
    "\n",
    "The starting point (input data) for this pipeline is after the quality control (QC) of the observed genotype data. The QC genotype data should be oriented on the GRGh37 plus strand. When multiple data sets are to be merged for imputation, the intersection set of variants will be used for imputation; this is based on the finding from [Johnson et al.](https://link.springer.com/article/10.1007/s00439-013-1266-7). \n",
    "\n",
    "**Software and tools** <br>\n",
    "The software and tools used for processing these data are:\n",
    "* [Michigan Imputation Server](https://imputationserver.sph.umich.edu/index.html) (MIS)\n",
    "* [Amazon Web Services (AWS) - Cloud Computing Services](https://aws.amazon.com/)\n",
    "    * Linux AMI\n",
    "* [PLINK v1.90 beta 4.10](https://www.cog-genomics.org/plink/)\n",
    "* [bgzip](http://www.htslib.org/doc/tabix.html)\n",
    "* [BCF Tools](http://www.htslib.org/doc/bcftools.html)\n",
    "* Windows 10 with [Cygwin](https://cygwin.com/) installed\n",
    "* GNU bash version 4.2.46\n",
    "\n",
    "**Pre-Imputation Stats Summary**\n",
    "\n",
    "| Data Set      | Initial Variants (Post-QC) | Variants Post-Filtering  | Intersection     |\n",
    "|---------------|----------------------------|--------------------------|------------------|\n",
    "| CFAR          | 495753                     |                          |                  |\n",
    "| COGA          |                            |                          |                  |"
   ]
  },
  {
   "cell_type": "markdown",
   "metadata": {},
   "source": [
    "## Create Directory Stucture & Download Data\n",
    "The following section needs to be modified each time to reflect:\n",
    "* where the genotype data (post-QC) are stored\n",
    "* where the base directory for the pre-imputation data processing will be\n",
    "* the study or studies involved\n",
    "* the ancesty group(s) involved\n",
    "* the data to be processed (all_chr or chr23)"
   ]
  },
  {
   "cell_type": "code",
   "execution_count": null,
   "metadata": {
    "collapsed": true
   },
   "outputs": [],
   "source": [
    "# parameters \n",
    "base_dir=/shared/jmarks/hiv/cfar_coga/genotype/imputed/processing/002 # DO NOT end in forward slash\n",
    "ancestry_list=\"ea\" # space delimited Ex. \"ea aa ha\"\n",
    "study_list=\"cfar coga\" # space delimited \n",
    "#base_name=\"chr_all\" # chr_all chr23 \n",
    "\n",
    "# create directory structure\n",
    "mkdir -p ${base_dir}/{intersect,1000g,impute_prep}\n",
    "for study in ${study_list};do\n",
    "    mkdir -p ${base_dir}/${study}/strand_check\n",
    "    for ancestry in ${ancestry_list};do\n",
    "        mkdir -p ${base_dir}/${study}/genotype/${ancestry}\n",
    "    done\n",
    "done\n",
    "\n",
    "\n",
    "## copy post-qc genotype data to correct directory\n",
    "## AND REMAME TO CORRECT NAMING SCHEMA <study_ancestry.$extension> \n",
    "## also unzip the Plink files\n",
    "\n",
    "#/shared/jmarks/hiv/cfar_coga/genotype/imputed/processing/cfar/genotype/aa\n",
    "#/shared/jmarks/hiv/cfar_coga/genotype/imputed/processing/cfar/genotype/ea\n",
    "#/shared/jmarks/hiv/cfar_coga/genotype/imputed/processing/cfar/genotype/ha\n",
    "#/shared/jmarks/hiv/cfar_coga/genotype/imputed/processing/coga/genotype/aa\n",
    "#/shared/jmarks/hiv/cfar_coga/genotype/imputed/processing/coga/genotype/ea\n",
    "#/shared/jmarks/hiv/cfar_coga/genotype/imputed/processing/coga/genotype/ha"
   ]
  },
  {
   "cell_type": "markdown",
   "metadata": {},
   "source": [
    "## GRCh37 strand and allele discordance check\n",
    "### MAF for study data (all chromosomes)"
   ]
  },
  {
   "cell_type": "code",
   "execution_count": null,
   "metadata": {},
   "outputs": [],
   "source": [
    "# Write out the MAF report\n",
    "for study in ${study_list}; do\n",
    "    for ancestry in ${ancestry_list}; do\n",
    "        docker run -v \"${base_dir}/$study/:/data/\" rticode/plink:1.9 plink \\\n",
    "            --bfile /data/genotype/$ancestry/${study}_${ancestry} \\\n",
    "            --freq \\\n",
    "            --out /data/strand_check/${ancestry}\n",
    "    done\n",
    "done\n",
    "\n",
    "\n",
    "# Get list of variants from all studies\n",
    "studies=($study_list)  #studies=(uhs1 uhs2 uhs3_v1-2 uhs3_v1-3 uhs4) # array of study names\n",
    "num=${#studies[@]}\n",
    "\n",
    "## Get intersection set\n",
    "for ancestry in ${ancestry_list};do\n",
    "    bim_files=()\n",
    "    for (( i=0; i<${num}; i++ ));do\n",
    "        bim_files+=(${base_dir}/${studies[$i]}/genotype/$ancestry/*bim)\n",
    "    done\n",
    "    \n",
    "    echo -e \"\\nCalculating intersection between $ancestry: ${study_list}...\\n\"\n",
    "    cat ${bim_files[@]}| cut -f2 | sort |  uniq -c | awk -v num=$num '$1 == num {print $2}' \\\n",
    "        > ${base_dir}/intersect/${ancestry}_variant_intersection.txt\n",
    "    wc -l ${base_dir}/intersect/${ancestry}_variant_intersection.txt\n",
    "done "
   ]
  },
  {
   "cell_type": "markdown",
   "metadata": {},
   "source": [
    "```\n",
    "477715 /shared/jmarks/hiv/cfar_coga/genotype/imputed/processing/002/intersect/ea_variant_intersection.txt\n",
    "```"
   ]
  },
  {
   "cell_type": "markdown",
   "metadata": {},
   "source": [
    "### MAF for 1000G\n",
    "The current setup requires the 1000G MAF for autosomes and chrX to be processed separately. This pipeline is also currently set up to handle EUR and AFR populations. \n",
    "#### Autosomes\n",
    "Get 1000G MAF for chromosomes 1&ndash;22 (autosomes)."
   ]
  },
  {
   "cell_type": "code",
   "execution_count": null,
   "metadata": {},
   "outputs": [],
   "source": [
    "# Calculate autosome MAFs for 1000G populations\n",
    "for ancestry in ${ancestry_list};do\n",
    "\n",
    "    if [ $ancestry == \"ea\" ]; then\n",
    "        pop=\"EUR\"\n",
    "    elif [ $ancestry == \"ha\" ]; then\n",
    "        pop=\"AMR\"\n",
    "    else\n",
    "        pop=\"AFR\"\n",
    "    fi\n",
    "    \n",
    "    for chr in {1..22}; do\n",
    "        /shared/bioinformatics/software/scripts/qsub_job.sh \\\n",
    "            --job_name ${pop}_${chr}_MAF \\\n",
    "            --script_prefix ${base_dir}/1000g/${pop}_chr${chr}.maf \\\n",
    "            --mem 6.8 \\\n",
    "            --nslots 3 \\\n",
    "            --priority 0 \\\n",
    "            --program /shared/bioinformatics/software/perl/stats/calculate_maf_from_impute2_hap_file.pl \\\n",
    "                --hap /shared/data/ref_panels/1000G/2014.10/1000GP_Phase3_chr${chr}.hap.gz\\\n",
    "                --legend /shared/data/ref_panels/1000G/2014.10/1000GP_Phase3_chr${chr}.legend.gz \\\n",
    "                --sample /shared/data/ref_panels/1000G/2014.10/1000GP_Phase3.sample \\\n",
    "                --chr ${chr} \\\n",
    "                --out ${base_dir}/1000g/${pop}_chr${chr}.maf \\\n",
    "                --extract ${base_dir}/intersect/${ancestry}_variant_intersection.txt \\\n",
    "                --keep_groups ${pop}\n",
    "    done\n",
    "done"
   ]
  },
  {
   "cell_type": "markdown",
   "metadata": {},
   "source": [
    "#### chrX \n",
    "Get 1000G MAF for chromosome 23 (chrX)."
   ]
  },
  {
   "cell_type": "code",
   "execution_count": null,
   "metadata": {},
   "outputs": [],
   "source": [
    "chr=23\n",
    "for ancestry in ${ancestry_list};do\n",
    "\n",
    "    if [ $ancestry == \"ea\" ]; then\n",
    "        pop=\"EUR\"\n",
    "    elif [ $ancestry == \"ha\" ]; then\n",
    "        pop=\"AMR\"\n",
    "    else\n",
    "        pop=\"AFR\"\n",
    "    fi\n",
    "\n",
    "    /shared/bioinformatics/software/scripts/qsub_job.sh \\\n",
    "        --job_name ${pop}_23_MAF \\\n",
    "        --script_prefix ${base_dir}/1000g/${pop}_chr${chr}.maf \\\n",
    "        --mem 6.8 \\\n",
    "        --nslots 1 \\\n",
    "        --priority 0 \\\n",
    "        --program /shared/bioinformatics/software/perl/stats/calculate_maf_from_impute2_hap_file.pl \\\n",
    "            --hap /shared/data/ref_panels/1000G/2014.10/1000GP_Phase3_chrX_NONPAR.hap.gz\\\n",
    "            --legend /shared/data/ref_panels/1000G/2014.10/1000GP_Phase3_chrX_NONPAR.legend.gz \\\n",
    "            --sample /shared/data/ref_panels/1000G/2014.10/1000GP_Phase3.sample \\\n",
    "            --chr $chr \\\n",
    "            --out ${base_dir}/1000g/${pop}_chr${chr}.maf \\\n",
    "            --extract ${base_dir}/intersect/${ancestry}_variant_intersection.txt \\\n",
    "            --keep_groups ${pop}\n",
    "done"
   ]
  },
  {
   "cell_type": "markdown",
   "metadata": {},
   "source": [
    "### Merge 1000G chromosomes\n",
    "Only need to perform this if there were multiple chromosomes for which the MAF was calculated."
   ]
  },
  {
   "cell_type": "code",
   "execution_count": null,
   "metadata": {},
   "outputs": [],
   "source": [
    "# Merge per chr MAFs for each 1000G population\n",
    "for ancestry in ${ancestry_list};do\n",
    "    if [ $ancestry == \"ea\" ]; then\n",
    "        pop=\"EUR\"\n",
    "    elif [ $ancestry == \"ha\" ]; then\n",
    "        pop=\"AMR\"\n",
    "    else\n",
    "        pop=\"AFR\"\n",
    "    fi\n",
    "\n",
    "    head -n1 ${base_dir}/1000g/${pop}_chr1.maf > ${base_dir}/1000g/${pop}_chr_all.maf\n",
    "    for chr in {1..23}; do\n",
    "            tail -q -n +2 ${base_dir}/1000g/${pop}_chr${chr}.maf >> \\\n",
    "                ${base_dir}/1000g/${pop}_chr_all.maf\n",
    "    done\n",
    "done"
   ]
  },
  {
   "cell_type": "markdown",
   "metadata": {},
   "source": [
    "### Autosome Discordant Check"
   ]
  },
  {
   "cell_type": "code",
   "execution_count": null,
   "metadata": {},
   "outputs": [],
   "source": [
    "# Run discordance checks for each ancestry group\n",
    "for study in ${study_list}; do\n",
    "    for ancestry in ${ancestry_list};do\n",
    "        if [ $ancestry = \"ea\" ]; then\n",
    "            pop=\"EUR\"\n",
    "        elif [ $ancestry == \"ha\" ]; then\n",
    "            pop=\"AMR\"\n",
    "        else\n",
    "            pop=\"AFR\"\n",
    "        fi\n",
    "\n",
    "       /shared/bioinformatics/software/scripts/qsub_job.sh \\\n",
    "           --job_name ${ancestry}_${study}_crosscheck \\\n",
    "           --script_prefix ${base_dir}/$study/strand_check/${ancestry}_allele_discordance_check \\\n",
    "           --mem 6 \\\n",
    "           --nslots 3 \\\n",
    "           --priority 0 \\\n",
    "           --program \"Rscript /shared/bioinformatics/software/R/check_study_data_against_1000G.R\n",
    "               --study_bim_file ${base_dir}/${study}/genotype/${ancestry}/*bim\n",
    "               --study_frq_file ${base_dir}/${study}/strand_check/${ancestry}.frq\n",
    "               --ref_maf_file ${base_dir}/1000g/${pop}_chr_all.maf\n",
    "               --out_prefix ${base_dir}/${study}/strand_check/${ancestry}_allele_discordance\"\n",
    "    done\n",
    "done"
   ]
  },
  {
   "cell_type": "markdown",
   "metadata": {},
   "source": [
    "### chrX Discordant Check\n",
    "Run this cell below if you are only processing chrX."
   ]
  },
  {
   "cell_type": "code",
   "execution_count": null,
   "metadata": {},
   "outputs": [],
   "source": [
    "#for study in ${study_list}; do\n",
    "#    for ancestry in ${ancestry_list};do\n",
    "#        if [ $ancestry = \"ea\" ]; then\n",
    "#            pop=EUR\n",
    "#    elif [ $ancestry == \"ha\" ]; then\n",
    "#        pop=\"AMR\"\n",
    "#        else\n",
    "#            pop=AFR\n",
    "#        fi\n",
    "#\n",
    "#        # chr23 discordance check\n",
    "#        /shared/bioinformatics/software/scripts/qsub_job.sh \\\n",
    "#            --job_name ${ancestry}_${study}_crosscheck \\\n",
    "#            --script_prefix ${base_dir}/${study}/strand_check/${ancestry}_allele_discordance_check \\\n",
    "#            --mem 6.8 \\\n",
    "#            --nslots 1 \\\n",
    "#            --priority 0 \\\n",
    "#            --program \"Rscript /shared/bioinformatics/software/R/check_study_data_against_1000G.R\n",
    "#                --study_bim_file ${base_dir}/data/${study}/genotype/${ancestry}/*bim\n",
    "#                --study_frq_file ${base_dir}/${study}/strand_check/${ancestry}_chr23.frq\n",
    "#                --ref_maf_file ${base_dir}/1000g/${pop}_chr23.maf\n",
    "#                --out_prefix ${base_dir}/${study}/strand_check/${ancestry}_allele_discordance\"\n",
    "#    done\n",
    "#done"
   ]
  },
  {
   "cell_type": "markdown",
   "metadata": {},
   "source": [
    "### Resolving allele discordances\n",
    "The allele discordances will be resolved by\n",
    "* Flipping allele discordances that are fixed by flipping\n",
    "* Removing SNPs with discordant names\n",
    "* Removing SNPs with discordant positions\n",
    "* Removing allele discordances that are not resolved by flipping\n",
    "* Removing alleles with large deviations from the reference population allele frequencies\n",
    "\n",
    "**Note**: We could flip the SNPs that are in the snps.flip file we create here, however we are going to opt not to this time because we found that for this case flipping did not actually resolve the issue because most likely they were monomorphic variants."
   ]
  },
  {
   "cell_type": "code",
   "execution_count": null,
   "metadata": {
    "collapsed": true
   },
   "outputs": [],
   "source": [
    "# Apply filters\n",
    "for study in ${study_list}; do\n",
    "    for ancestry in ${ancestry_list};do\n",
    "        echo -e \"\\n===============\\nProcessing ${study}_${ancestry}\\n\"\n",
    "        echo \"Making remove list\"\n",
    "        cat <(cut -f2,2 ${base_dir}/${study}/strand_check/${ancestry}_allele_discordance.discordant_alleles_not_fixed_by_strand_flip | tail -n +2) \\\n",
    "            <(cut -f2,2 ${base_dir}/${study}/strand_check/${ancestry}_allele_discordance.at_cg_snps_freq_diff_gt_0.2 | tail -n +2) \\\n",
    "            <(cut -f2,2 ${base_dir}/${study}/strand_check/${ancestry}_allele_discordance.discordant_names | tail -n +2) \\\n",
    "            <(cut -f2,2 ${base_dir}/${study}/strand_check/${ancestry}_allele_discordance.discordant_positions | tail -n +2) \\\n",
    "            <(cut -f2,2 ${base_dir}/${study}/strand_check/${ancestry}_allele_discordance.discordant_alleles_polymorphic_in_study_not_fixed_by_strand_flip | tail -n +2) | \\\n",
    "              sort -u > ${base_dir}/${study}/strand_check/${ancestry}_snps.remove\n",
    "\n",
    "        # Create flip list\n",
    "        echo \"Making flip list\"\n",
    "        comm -23 <(cut -f2,2 ${base_dir}/${study}/strand_check/${ancestry}_allele_discordance.discordant_alleles | tail -n +2 | sort -u) \\\n",
    "                 <(cut -f2,2 ${base_dir}/${study}/strand_check/${ancestry}_allele_discordance.discordant_alleles_not_fixed_by_strand_flip | tail -n +2 | sort -u) \\\n",
    "                 > ${base_dir}/${study}/strand_check/${ancestry}_snps.flip\n",
    "\n",
    "        # Apply filters\n",
    "        docker run -v ${base_dir}/$study/:/data/ rticode/plink:1.9 plink \\\n",
    "            --bfile  /data/genotype/${ancestry}/${study}_${ancestry} \\\n",
    "            --exclude /data/strand_check/${ancestry}_snps.remove \\\n",
    "            --make-bed \\\n",
    "            --out     /data/${ancestry}_filtered\n",
    "    done\n",
    "done\n",
    "\n",
    "wc -l $base_dir/*/*filtered.bim\n",
    "wc -l $base_dir/*/strand_check/*remove\n",
    "wc -l $base_dir/*/strand_check/*snps.flip"
   ]
  },
  {
   "cell_type": "markdown",
   "metadata": {},
   "source": [
    "```\n",
    "   481055 /shared/jmarks/hiv/cfar_coga/genotype/imputed/processing/cfar/aa_filtered.bim\n",
    "   488471 /shared/jmarks/hiv/cfar_coga/genotype/imputed/processing/cfar/ea_filtered.bim\n",
    "   497570 /shared/jmarks/hiv/cfar_coga/genotype/imputed/processing/cfar/ha_filtered.bim\n",
    "   501192 /shared/jmarks/hiv/cfar_coga/genotype/imputed/processing/coga/aa_filtered.bim\n",
    "   511819 /shared/jmarks/hiv/cfar_coga/genotype/imputed/processing/coga/ea_filtered.bim\n",
    "   505904 /shared/jmarks/hiv/cfar_coga/genotype/imputed/processing/coga/ha_filtered.bim\n",
    "   \n",
    "\n",
    "   7236 /shared/jmarks/hiv/cfar_coga/genotype/imputed/processing/cfar/strand_check/aa_snps.remove\n",
    "   7305 /shared/jmarks/hiv/cfar_coga/genotype/imputed/processing/cfar/strand_check/ea_snps.remove\n",
    "   7303 /shared/jmarks/hiv/cfar_coga/genotype/imputed/processing/cfar/strand_check/ha_snps.remove\n",
    "  12151 /shared/jmarks/hiv/cfar_coga/genotype/imputed/processing/coga/strand_check/aa_snps.remove\n",
    "  12376 /shared/jmarks/hiv/cfar_coga/genotype/imputed/processing/coga/strand_check/ea_snps.remove\n",
    "  12452 /shared/jmarks/hiv/cfar_coga/genotype/imputed/processing/coga/strand_check/ha_snps.remove\n",
    "  \n",
    "  \n",
    "  1034 /shared/jmarks/hiv/cfar_coga/genotype/imputed/processing/cfar/strand_check/aa_snps.flip\n",
    "  1034 /shared/jmarks/hiv/cfar_coga/genotype/imputed/processing/cfar/strand_check/ea_snps.flip\n",
    "  1033 /shared/jmarks/hiv/cfar_coga/genotype/imputed/processing/cfar/strand_check/ha_snps.flip\n",
    "  2615 /shared/jmarks/hiv/cfar_coga/genotype/imputed/processing/coga/strand_check/aa_snps.flip\n",
    "  2666 /shared/jmarks/hiv/cfar_coga/genotype/imputed/processing/coga/strand_check/ea_snps.flip\n",
    "  2667 /shared/jmarks/hiv/cfar_coga/genotype/imputed/processing/coga/strand_check/ha_snps.flip\n",
    "  ```"
   ]
  },
  {
   "cell_type": "markdown",
   "metadata": {},
   "source": [
    "### Remove monomorphic variants\n",
    "Monomorphic variants prevent MIS from accepting the genotype data. In this case, an arbitrarily small MAF is set that is smaller than the lower bound for these data."
   ]
  },
  {
   "cell_type": "code",
   "execution_count": null,
   "metadata": {
    "collapsed": true
   },
   "outputs": [],
   "source": [
    "# Apply filters\n",
    "for study in ${study_list}; do\n",
    "    for ancestry in ${ancestry_list};do\n",
    "        docker run -v \"${base_dir}/$study/:/data/\" rticode/plink:1.9 plink \\\n",
    "            --bfile /data/${ancestry}_filtered \\\n",
    "            --maf 0.000001 \\\n",
    "            --make-bed \\\n",
    "            --out /data/${ancestry}_filtered_mono\n",
    "    done\n",
    "done\n",
    "\n",
    "wc -l $base_dir/*/*mono.bim"
   ]
  },
  {
   "cell_type": "markdown",
   "metadata": {},
   "source": [
    "```\n",
    "  472773 /shared/jmarks/hiv/cfar_coga/genotype/imputed/processing/002/cfar/ea_filtered_mono.bim\n",
    "  455776 /shared/jmarks/hiv/cfar_coga/genotype/imputed/processing/002/coga/ea_filtered_mono.bim\n",
    "```"
   ]
  },
  {
   "cell_type": "markdown",
   "metadata": {},
   "source": [
    "## Snp Intersection\n",
    "Only perform if merging datasets. \n",
    "Note that the intersection sets were created in an earlier step."
   ]
  },
  {
   "cell_type": "code",
   "execution_count": null,
   "metadata": {},
   "outputs": [],
   "source": [
    "studies=($study_list)  #studies=(UHS1 UHS2 UHS3_v1-2 UHS3_v1-3) # array of study names\n",
    "\n",
    "# Make new PLINK binary file sets\n",
    "for ancestry in ${ancestry_list};do\n",
    "    for study in ${studies[@]}; do\n",
    "        docker run -v \"${base_dir}/:/data/\" rticode/plink:1.9 plink \\\n",
    "            --bfile /data/$study/${ancestry}_filtered_mono \\\n",
    "            --extract /data/intersect/${ancestry}_variant_intersection.txt \\\n",
    "            --make-bed \\\n",
    "            --out /data/intersect/${study}_${ancestry}_filtered_snp_intersection\n",
    "    done\n",
    "done\n",
    "    \n",
    "ww $base_dir/intersect/*section.txt"
   ]
  },
  {
   "cell_type": "markdown",
   "metadata": {},
   "source": [
    "```\n",
    "  465495 /shared/jmarks/hiv/cfar_coga/genotype/imputed/processing/intersect/aa_variant_intersection.txt\n",
    "  477715 /shared/jmarks/hiv/cfar_coga/genotype/imputed/processing/intersect/ea_variant_intersection.txt\n",
    "  479563 /shared/jmarks/hiv/cfar_coga/genotype/imputed/processing/intersect/ha_variant_intersection.txt\n",
    "```"
   ]
  },
  {
   "cell_type": "markdown",
   "metadata": {},
   "source": [
    "### Merge test\n",
    "As a final check to confirm that our data sets are all compatible, a PLINK file set merge is conducted. If any issues persist then an error will be raised. \n",
    "\n",
    "Only run this section if merging data."
   ]
  },
  {
   "cell_type": "code",
   "execution_count": null,
   "metadata": {},
   "outputs": [],
   "source": [
    "for ancestry in $ancestry_list; do\n",
    "    echo \"Creating $ancestry merge-list\"\n",
    "    truncate -s 0 ${base_dir}/intersect/${ancestry}_merge_list.txt\n",
    "    for study in $study_list; do\n",
    "        echo /data/${study}_${ancestry}_filtered_snp_intersection >>\\\n",
    "        ${base_dir}/intersect/${ancestry}_merge_list.txt\n",
    "    done\n",
    "    \n",
    "# Merge file sets\n",
    "    echo -e \"\\n\\n======== ${ancestry} ========\\n\\n\"\n",
    "    docker run -v \"${base_dir}/intersect:/data/\" rticode/plink:1.9 plink \\\n",
    "        --merge-list /data/${ancestry}_merge_list.txt \\\n",
    "        --make-bed \\\n",
    "        --out /data/${ancestry}_studies_merged\n",
    "done\n",
    "\n",
    "wc -l $base_dir/intersect/*merged*bim"
   ]
  },
  {
   "cell_type": "markdown",
   "metadata": {},
   "source": [
    "```\n",
    "460644 /shared/jmarks/hiv/cfar_coga/genotype/imputed/processing/002/intersect/ea_studies_merged.bim\n",
    "```"
   ]
  },
  {
   "cell_type": "markdown",
   "metadata": {},
   "source": [
    "## Imputation preparation for Michigan Imputation Server\n",
    "Visit the [MIS Getting Started Webpage](https://imputationserver.sph.umich.edu/start.html#!pages/help) for more information about the preparing the data for upload to MIS.\n",
    "\n",
    "### Remove individuals missing whole chromsome\n",
    "Remove any individual missing, essentially, an entire chromosome. Then convert the data to VCF format."
   ]
  },
  {
   "cell_type": "markdown",
   "metadata": {},
   "source": [
    "#### If NO merging was performed\n",
    "(i.e. only one study being processed)"
   ]
  },
  {
   "cell_type": "code",
   "execution_count": null,
   "metadata": {
    "collapsed": true
   },
   "outputs": [],
   "source": [
    "## Split by chr and remove any individuals with missing data for whole chr\n",
    "#for ancestry in $ancestry_list; do\n",
    "#    for chr in {1..23}; do\n",
    "#        docker run -v \"${base_dir}/:/data/\" rticode/plink:1.9 plink \\\n",
    "#            --bfile /data/$study/${ancestry}_filtered_mono \\\n",
    "#            --chr ${chr} \\\n",
    "#            --mind 0.99 \\\n",
    "#            --make-bed \\\n",
    "#            --out /data/impute_prep/${ancestry}_chr${chr}_for_phasing \n",
    "#    done\n",
    "#done > ${base_dir}/impute_prep/chr_splitting.log \n",
    "#\n",
    "#\n",
    "### look through log files to determine if any subjects were removed\n",
    "#for ancestry in $ancestry_list; do\n",
    "#    grep removed $base_dir/impute_prep/$ancestry*log |\n",
    "#        perl -lne '/(\\d+)(\\speople)/;\n",
    "#             $mycount += $1; \n",
    "#             print $mycount if eof'  > $base_dir/impute_prep/$ancestry.removed\n",
    "#    any_removed=$(cat $base_dir/impute_prep/$ancestry.removed)\n",
    "#    if [ \"$any_removed\" == 0 ]; then\n",
    "#        echo \"No $ancestry subjects removed\"\n",
    "#    else\n",
    "#        echo \"Some $ancestry subjects removed\"\n",
    "#    fi\n",
    "#done"
   ]
  },
  {
   "cell_type": "markdown",
   "metadata": {},
   "source": [
    "#### If merging was performed"
   ]
  },
  {
   "cell_type": "code",
   "execution_count": null,
   "metadata": {
    "collapsed": true
   },
   "outputs": [],
   "source": [
    "## Split by chr and remove any individuals with missing data for whole chr\n",
    "for chr in {1..23}; do \n",
    "    for ancestry in $ancestry_list;do\n",
    "        docker run -v \"${base_dir}:/data/\" rticode/plink:1.9 plink \\\n",
    "            --bfile /data/intersect/${ancestry}_studies_merged \\\n",
    "            --chr ${chr} \\\n",
    "            --mind 0.99 \\\n",
    "            --make-bed \\\n",
    "            --out /data/impute_prep/${ancestry}_chr${chr}_for_phasing\n",
    "    done > ${base_dir}/impute_prep/chr_splitting.log \n",
    "done\n",
    "\n",
    "\n",
    "## look through log files to determine if any subjects were removed\n",
    "for ancestry in $ancestry_list; do\n",
    "    grep removed $base_dir/impute_prep/$ancestry*log |\n",
    "        perl -lne '/(\\d+)(\\speople)/;\n",
    "             $mycount += $1; \n",
    "             print $mycount if eof'  > $base_dir/impute_prep/$ancestry.removed\n",
    "    any_removed=$(cat $base_dir/impute_prep/$ancestry.removed)\n",
    "    if [ \"$any_removed\" == 0 ]; then\n",
    "        echo \"No $ancestry subjects removed\"\n",
    "    else\n",
    "        echo \"Some $ancestry subjects removed\"\n",
    "    fi\n",
    "done"
   ]
  },
  {
   "cell_type": "markdown",
   "metadata": {},
   "source": [
    "```\n",
    "No ea subjects removed\n",
    "```"
   ]
  },
  {
   "cell_type": "markdown",
   "metadata": {},
   "source": [
    "### Convert to VCF"
   ]
  },
  {
   "cell_type": "code",
   "execution_count": null,
   "metadata": {},
   "outputs": [],
   "source": [
    "for ancestry in ${ancestry_list}; do\n",
    "    mkdir -p ${base_dir}/impute_prep/${ancestry}\n",
    "    for chr in {1..23}; do\n",
    "        docker run -v \"${base_dir}/impute_prep/:/data/\" rticode/plink:1.9 plink \\\n",
    "            --bfile /data/${ancestry}_chr${chr}_for_phasing \\\n",
    "            --output-chr M \\\n",
    "            --set-hh-missing \\\n",
    "            --recode vcf bgz \\\n",
    "            --out /data/$ancestry/${ancestry}_chr${chr}_final\n",
    "    done\n",
    "done"
   ]
  },
  {
   "cell_type": "markdown",
   "metadata": {},
   "source": [
    "Transfer the *.vcf.gz files to local machine (per chromosome) and then upload to MIS."
   ]
  },
  {
   "cell_type": "markdown",
   "metadata": {},
   "source": [
    "## Upload to Michigan Imputation Server (MIS)\n",
    "Transfer the `*.vcf` files to local machine (per chromosome) and then upload to MIS.\n",
    "\n",
    "**Uploading parameters** \n",
    "These are the parameters that were selected on MIS:\n",
    "\n",
    "__Name__: CFAR+COGA_EA \n",
    "\n",
    "__Reference Panel__ 1000G Phase 3 v5\n",
    "\n",
    "__Input Files__ File Upload <br>\n",
    "\n",
    "* Select Files - select VCF files that were downloaded to local machine from cloud. <br>\n",
    "\n",
    "__Phasing__: ShapeIT v2.r790 (unphased) \n",
    "\n",
    "__Population__: EUR\n",
    "\n",
    "__Mode__: Quality Control & Imputation\n",
    "\n",
    "* I will not attempt to re-identify or contact research participants.\n",
    "* I will report any inadvertent data release, security breach or other data management incident of which I become aware."
   ]
  },
  {
   "cell_type": "markdown",
   "metadata": {},
   "source": [
    "## Extra Processing\n",
    "We "
   ]
  },
  {
   "cell_type": "code",
   "execution_count": null,
   "metadata": {},
   "outputs": [],
   "source": [
    "docker run -v \"${cwd}:/data/\" rticode/plink:1.9 plink\n",
    "    --bfile /data/ea_chr23_for_phasing\\\n",
    "    --output-chr M\\\n",
    "    --set-hh-missing\\\n",
    "    --filter-females\\\n",
    "    --remove /data/remove_file.txt\\\n",
    "    --recode vcf bgz\\\n",
    "    --out /data/both/ea_chr23_final\n"
   ]
  },
  {
   "cell_type": "markdown",
   "metadata": {},
   "source": [
    "## Download Imputed Data from MIS\n",
    "First Download the data form the Michigan Imputation Server by clicking on the link provided in the email they send out to alert you that your data has finished. Here you will find commands for downloading the data."
   ]
  },
  {
   "cell_type": "code",
   "execution_count": null,
   "metadata": {},
   "outputs": [],
   "source": [
    "ancestry=ea\n",
    "study=cfar_coga\n",
    "passW=\"KlQvLb7Kz9IDvC\"\n",
    "cd /shared/jmarks/hiv/cfar_coga/genotype/imputed/final/$ancestry\n",
    "\n",
    "\n",
    "# download.file\n",
    "####################################################################################################\n",
    "####################################################################################################\n",
    "\n",
    "# QC-report\n",
    "curl -sL https://imputationserver.sph.umich.edu/get/1615357/e4f3711a9e8d8de7076c20af8d704113 | bash\n",
    "# Logs\n",
    "curl -sL https://imputationserver.sph.umich.edu/get/1615364/b4f0d11325e4f642b5435d167de15c08 | bash\n",
    "# SNP Statistics\n",
    "curl -sL https://imputationserver.sph.umich.edu/get/1615363/74bf8093b59774904aadf4e3f9c42f5e | bash\n",
    "# Imputation Results\n",
    "curl -sL https://imputationserver.sph.umich.edu/get/1615360/f1d4b31a9f2c3e15f7d3c11c111aadc8 | bash\n",
    "\n",
    "####################################################################################################\n",
    "####################################################################################################\n",
    "\n",
    "# inflate chr results\n",
    "for file in *zip; do\n",
    "    /shared/bioinformatics/software/scripts/qsub_job.sh \\\n",
    "        --job_name unzip.$study.$ancestry.$file \\\n",
    "        --script_prefix unzip.imputed.$study.$ancestry.data \\\n",
    "        --mem 3 \\\n",
    "        --nslots 3 \\\n",
    "        --priority 0 \\\n",
    "        --program unzip -P $passW $file \n",
    "done \n",
    "\n",
    "# we can remove the original imputed data from MIS after we inflate the zip files\n",
    "rm -rf *zip\n",
    "\n",
    "# upload to s3\n",
    "aws s3 sync . s3://rti-hiv/cfar_coga/data/genotype/imputed/$ancestry --quiet &"
   ]
  },
  {
   "cell_type": "markdown",
   "metadata": {},
   "source": [
    "# Phenotype file construction\n",
    "## Data wrangling\n",
    "Create a phenotype table filtered by the subjects available in the genotype data. <br>\n",
    "variables of interest:\n",
    "\n",
    "`HIV Status`\n",
    "* COGA: we will code all as controls since there are no data available for this\n",
    "* CFAR: (AFFECTION_STATUS; [cases=1](https://www.ncbi.nlm.nih.gov/projects/gap/cgi-bin/variable.cgi?study_id=phs001788.v1.p1&phv=404369&phd=&pha=&pht=8814&phvf=11&phdf=&phaf=&phtf=&dssp=&consent=&temp=1)) phs001788.v1.pht008814.v1.p1.CNICS_Subject.MULTI.txt\n",
    "\n",
    "`Alcohol Use Disorder`\n",
    "* COGA: (AFFECTION_STATUS; [1=control,5=case](https://www.ncbi.nlm.nih.gov/projects/gap/cgi-bin/variable.cgi?study_id=phs001208.v2.p1&phv=397466&phd=&pha=&pht=8654&phvf=11&phdf=&phaf=&phtf=&dssp=1&consent=&temp=1)) in phs001208.v1.pht008654.v1.p1.COGA_SmokeScreen_Subject.MULTI.txt\n",
    "* CFAR: (alcohol_use_disorder; 0=no,1=yes) in phs001788.v1.pht008817.v1.p1.c1.CNICS_Subject_Phenotypes.GRU-IRB.txt\n",
    "\n",
    "`Age`\n",
    "* COGA: (y_o_b) phs001208.v1.pht008657.v1.p1.c1.COGA_SmokeScreen_Subject_Phenotypes.DS-ADX-IRB.txt\n",
    "* CFAR: (birthyear) phs001788.v1.pht008817.v1.p1.c1.CNICS_Subject_Phenotypes.GRU-IRB.txt\n",
    "\n",
    "`Sex`\n",
    "* COGA: (SEX; 1=male/2=female) phs001208.v1.pht008657.v1.p1.c1.COGA_SmokeScreen_Subject_Phenotypes.DS-ADX-IRB.txt\n",
    "* CFAR: (sex; male/female) phs001788.v1.pht008817.v1.p1.c1.CNICS_Subject_Phenotypes.GRU-IRB.txt\n",
    "\n",
    "Note about sex, we will code it as follows: male=0; female=1."
   ]
  },
  {
   "cell_type": "code",
   "execution_count": null,
   "metadata": {},
   "outputs": [],
   "source": [
    "### bash ###\n",
    "## start prepping phenotype files by removing extra headers ##\n",
    "\n",
    "phen=/shared/jmarks/hiv/cfar_coga/phenotype\n",
    "\n",
    "# get list of individuals with genotype data\n",
    "aws s3 cp s3://rti-hiv/cfar_coga/data/genotype/imputed/processing/intersect/ea_studies_merged.fam.gz $phen/processing\n",
    "aws s3 cp s3://rti-hiv/cfar_coga/data/genotype/imputed/processing/intersect/ea_studies_merged.bed.gz $phen/processing\n",
    "aws s3 cp s3://rti-hiv/cfar_coga/data/genotype/imputed/processing/intersect/ea_studies_merged.bim.gz $phen/processing\n",
    "gunzip $phen/processing/ea*\n",
    "\n",
    "# remove COGA header\n",
    "tail -n +11 phs001208.v1.pht008657.v1.p1.c1.COGA_SmokeScreen_Subject_Phenotypes.DS-ADX-IRB.txt >\n",
    "    ../processing/coga_variables.txt\n",
    "# remove CFAR header\n",
    "tail -n +11 phs001788.v1.pht008817.v1.p1.c1.CNICS_Subject_Phenotypes.GRU-IRB.txt >\\\n",
    "    ../processing/cfar_variables.txt\n",
    "tail -n +11 phs001788.v1.pht008814.v1.p1.CNICS_Subject.MULTI.txt >\n",
    "    ../processing/cfar_affection.txt"
   ]
  },
  {
   "cell_type": "code",
   "execution_count": 9,
   "metadata": {},
   "outputs": [
    {
     "data": {
      "text/html": [
       "<table>\n",
       "<thead><tr><th></th><th scope=col>iid</th><th scope=col>hiv</th><th scope=col>sex</th><th scope=col>age</th><th scope=col>alcohol</th></tr></thead>\n",
       "<tbody>\n",
       "\t<tr><th scope=row>2</th><td>400003</td><td>1     </td><td>0     </td><td>59    </td><td>1     </td></tr>\n",
       "\t<tr><th scope=row>5</th><td>400011</td><td>1     </td><td>0     </td><td>66    </td><td>0     </td></tr>\n",
       "\t<tr><th scope=row>6</th><td>400012</td><td>1     </td><td>0     </td><td>54    </td><td>0     </td></tr>\n",
       "\t<tr><th scope=row>9</th><td>400017</td><td>1     </td><td>0     </td><td>39    </td><td>1     </td></tr>\n",
       "\t<tr><th scope=row>11</th><td>400021</td><td>1     </td><td>0     </td><td>49    </td><td>0     </td></tr>\n",
       "\t<tr><th scope=row>15</th><td>400031</td><td>1     </td><td>0     </td><td>68    </td><td>0     </td></tr>\n",
       "</tbody>\n",
       "</table>\n"
      ],
      "text/latex": [
       "\\begin{tabular}{r|lllll}\n",
       "  & iid & hiv & sex & age & alcohol\\\\\n",
       "\\hline\n",
       "\t2 & 400003 & 1      & 0      & 59     & 1     \\\\\n",
       "\t5 & 400011 & 1      & 0      & 66     & 0     \\\\\n",
       "\t6 & 400012 & 1      & 0      & 54     & 0     \\\\\n",
       "\t9 & 400017 & 1      & 0      & 39     & 1     \\\\\n",
       "\t11 & 400021 & 1      & 0      & 49     & 0     \\\\\n",
       "\t15 & 400031 & 1      & 0      & 68     & 0     \\\\\n",
       "\\end{tabular}\n"
      ],
      "text/markdown": [
       "\n",
       "| <!--/--> | iid | hiv | sex | age | alcohol |\n",
       "|---|---|---|---|---|---|\n",
       "| 2 | 400003 | 1      | 0      | 59     | 1      |\n",
       "| 5 | 400011 | 1      | 0      | 66     | 0      |\n",
       "| 6 | 400012 | 1      | 0      | 54     | 0      |\n",
       "| 9 | 400017 | 1      | 0      | 39     | 1      |\n",
       "| 11 | 400021 | 1      | 0      | 49     | 0      |\n",
       "| 15 | 400031 | 1      | 0      | 68     | 0      |\n",
       "\n"
      ],
      "text/plain": [
       "   iid    hiv sex age alcohol\n",
       "2  400003 1   0   59  1      \n",
       "5  400011 1   0   66  0      \n",
       "6  400012 1   0   54  0      \n",
       "9  400017 1   0   39  1      \n",
       "11 400021 1   0   49  0      \n",
       "15 400031 1   0   68  0      "
      ]
     },
     "metadata": {},
     "output_type": "display_data"
    }
   ],
   "source": [
    "### R ###\n",
    "setwd(\"C://Users/jmarks/OneDrive - Research Triangle Institute/Projects/HIV/cfar_coga/phenotype/processing/\")\n",
    "\n",
    "coga <- read.table(\"coga_variables.txt\", header=T, sep=\"\\t\", stringsAsFactors = F)\n",
    "cfar <- read.table(\"cfar_variables.txt\", header=T, sep=\"\\t\", stringsAsFactors = F)\n",
    "cfar_affection <- read.table(\"cfar_affection.txt\", header=T, sep=\"\\t\", stringsAsFactors = F)\n",
    "coga_affection <- read.table(\"coga_affection.txt\", header=T, sep=\"\\t\", stringsAsFactors = F)\n",
    "geno <- read.table(\"ea_studies_merged.fam\")\n",
    "\n",
    "## CFAR ##\n",
    "# subset data down to subjects with genotype data and non-missing phenotype (hiv) data\n",
    "cfar_table <- cfar_affection[cfar_affection$SUBJECT_ID %in%  geno$V2, c(2,4)]\n",
    "cfar_table <- cfar_table[complete.cases(cfar_table),]\n",
    "names(cfar_table)[2] <- \"hiv\"\n",
    "\n",
    "# add sex\n",
    "cfar_table$sex <- cfar[(cfar$SUBJECT_ID %in% cfar_table$SUBJECT_ID), c(3)]\n",
    "male <- which(cfar_table$sex == \"male\" )\n",
    "female <- which(cfar_table$sex == \"female\" )\n",
    "cfar_table[male, \"sex\"] <- 0\n",
    "cfar_table[female, \"sex\"] <- 1\n",
    "\n",
    "# add age\n",
    "cfar_table$age <- cfar[(cfar$SUBJECT_ID %in% cfar_table$SUBJECT_ID), c(4)] \n",
    "cfar_table$age <- 2019 - as.numeric(cfar_table$age) # convert from year to age\n",
    "\n",
    "# add alcohol\n",
    "cfar_table$alcohol <- cfar[(cfar$SUBJECT_ID %in% cfar_table$SUBJECT_ID), c(11)]\n",
    "\n",
    "\n",
    "## COGA ##\n",
    "# subset data down to subjects with genotype data and non-missing phenotype (alcohol) data\n",
    "coga_table <- coga_affection[coga_affection$SUBJECT_ID %in% geno$V2, c(2,8)] \n",
    "coga_table <- coga_table[complete.cases(coga_table),]\n",
    "names(coga_table)[2] <- \"alcohol\"\n",
    "coga_table$alcohol[coga_table$alcohol == 1] <- 0\n",
    "coga_table$alcohol[coga_table$alcohol == 5] <- 1\n",
    "\n",
    "# add sex\n",
    "coga_table$sex <- coga[coga$SUBJECT_ID %in% coga_table$SUBJECT_ID, 3]\n",
    "coga_table$sex[coga_table$sex == 1] <- 0\n",
    "coga_table$sex[coga_table$sex == 2] <- 1\n",
    "\n",
    "# add age\n",
    "coga_table$age <- coga[(coga$SUBJECT_ID %in% coga_table$SUBJECT_ID), c(4)] \n",
    "coga_table$age <- 2019 - as.numeric(coga_table$age) # convert from year to age\n",
    "\n",
    "\n",
    "# add hiv\n",
    "coga_table$hiv <- rep(0, nrow(coga_table))\n",
    "\n",
    "\n",
    "## combined data ##\n",
    "combined_table <- rbind(cfar_table, coga_table)\n",
    "names(combined_table)[1] <- \"iid\"\n",
    "head(combined_table)\n",
    "write.table(combined_table, file=\"combined_phenotype_hiv_age_sex_alcohol.tsv\",\n",
    "            sep=\"\\t\", quote=F, row.names=F)"
   ]
  },
  {
   "cell_type": "code",
   "execution_count": null,
   "metadata": {},
   "outputs": [],
   "source": [
    "## upload to EC2 ##\n",
    "\n",
    "cd /home/jmarks/Projects/HIV/cfar_coga/phenotype/processing\n",
    "scp -i ~/.ssh/gwas_rsa combined_phenotype_hiv_age_sex_alcohol.tsv  ec2-user@34.195.174.206:/shared/jmarks/hiv/cfar_coga/phenotype/processing"
   ]
  },
  {
   "cell_type": "code",
   "execution_count": null,
   "metadata": {},
   "outputs": [],
   "source": [
    "### bash ###\n",
    "study=cfar_coga\n",
    "an=ea\n",
    "\n",
    "# add case control status \n",
    "cd /shared/jmarks/hiv/cfar_coga/phenotype/processing\n",
    "mkdir eig \n",
    "\n",
    "famF=\"/shared/jmarks/hiv/cfar_coga/phenotype/processing/ea_studies_merged.fam\"\n",
    "awk '$2==1{print $1}' combined_phenotype_hiv_age_sex_alcohol.tsv >\\\n",
    "    ${study}_cases.txt # (print cases here)\n",
    "\n",
    "awk 'FNR==NR{map[$1]=1; next} \n",
    "    { if ($2 in map) \n",
    "        {$6=1}\n",
    "      else\n",
    "        {$6=2}\n",
    "    }\n",
    "    {print $0}' ${study}_cases.txt $famF > ea_studies_merged_status_mapped.fam\n",
    "\n",
    "# create keep list\n",
    "# vim add fid and iid to head for later processing\n",
    "awk 'FNR==NR{map[$2]= $1\"\\t\"$2; next}\n",
    "    {if ($1 in map)\n",
    "        {print map[$1]}}' $famF combined_phenotype_hiv_age_sex_alcohol.tsv >\\\n",
    "    cfar_coga.keep\n",
    "\n",
    "# create updated plink filesets for PCA\n",
    "docker run -v /shared/jmarks/hiv/${study}/phenotype/processing:/data/ \\\n",
    "    rticode/plink:1.9 plink \\\n",
    "        --bed /data/${an}_studies_merged.bed \\\n",
    "        --bim /data/${an}_studies_merged.bim \\\n",
    "        --fam /data/${an}_studies_merged_status_mapped.fam \\\n",
    "        --keep /data/cfar_coga.keep \\\n",
    "        --make-bed \\\n",
    "        --out /data/eig/${study}_${an}_genotypes\n",
    "\n",
    "# add fid to phenotype file\n",
    "paste <(cut -f1 cfar_coga.keep) combined_phenotype_hiv_age_sex_alcohol.tsv > tmp |\n",
    "    && mv tmp combined_phenotype_hiv_age_sex_alcohol.tsv"
   ]
  },
  {
   "cell_type": "markdown",
   "metadata": {},
   "source": [
    "## PCA (eigenstrat)"
   ]
  },
  {
   "cell_type": "code",
   "execution_count": null,
   "metadata": {
    "code_folding": [
     0
    ]
   },
   "outputs": [],
   "source": [
    "#!/bin/bash\n",
    "\n",
    "## Set global variables ##\n",
    "anlist=\"ea\" # \"ea\", \"aa\", or \"ea aa\"\n",
    "study=\"cfar_coga\"\n",
    "procD=\"/shared/jmarks/hiv/$study/phenotype/processing\"  # phenotype processing directory\n",
    "eig=\"$procD/eig\" # do not alter\n",
    "mkdir -p $eig/results # do not alter\n",
    "\n",
    "\n",
    "## Genotype Data should be in the directory $eig\n",
    "## The genotype data names should be of the form: ${study}_${an}_genotype.{bed,bim,fam}. For Example:\n",
    "## wihs3_aa_genotypes.bed, wihs3_aa_genotypes.bim, wihs3_aa_genotypes.fam\n",
    "\n",
    "## The FAM file should have case control information in column 6 if applicable\n",
    "\n",
    "# Do not edit below this line\n",
    "################################################################################\n",
    "################################################################################\n",
    "\n",
    "## Remove high-LD region variants ##\n",
    "for an in $anlist; do\n",
    "    perl -lane 'if (($F[0]==5 && $F[3] >= 43964243 && $F[3] <= 51464243) || ($F[0]==6 && $F[3] >= 24892021 && $F[3] <= 33392022) || ($F[0]==8 && $F[3] >= 7962590 && $F[3] <= 11962591) || ($F[0]==11 && $F[3] >= 45043424 && $F[3] <= 57243424)) { print $F[1].\"\\n\"; }' \\\n",
    "        $eig/${study}_${an}_genotypes.bim > $eig/${study}_${an}_genotypes_high_ld_regions.remove\n",
    "\n",
    "    # Remove SNPs in known high-LD regions\n",
    "    /shared/bioinformatics/software/third_party/plink-1.90-beta-4.10-x86_64/plink \\\n",
    "        --noweb \\\n",
    "        --bfile $eig/${study}_${an}_genotypes \\\n",
    "        --exclude $eig/${study}_${an}_genotypes_high_ld_regions.remove \\\n",
    "        --make-bed \\\n",
    "        --out $eig/${study}_${an}_genotypes_high_ld_regions_removed\n",
    "done\n",
    "\n",
    "## Linkage disequilibrium pruning ##\n",
    "for an in $anlist;do\n",
    "    for chr in {1..22}; do\n",
    "        /shared/bioinformatics/software/third_party/plink-1.90-beta-4.10-x86_64/plink \\\n",
    "            --noweb \\\n",
    "            --memory 3000 \\\n",
    "            --bfile $eig/${study}_${an}_genotypes_high_ld_regions_removed \\\n",
    "            --indep-pairwise 1500 150 0.2 \\\n",
    "            --chr ${chr} \\\n",
    "            --out $eig/${an}_chr${chr}_ld_pruned\n",
    "    done\n",
    "done\n",
    "\n",
    "## Merge *prune.in files ##\n",
    "for an in $anlist; do\n",
    "    cat $eig/${an}_chr*_ld_pruned.prune.in > $eig/${an}_chr_all_ld_pruned.prune.in\n",
    "\n",
    "    # Create new PLINK filesets with only lD pruned variants\n",
    "    /shared/bioinformatics/software/third_party/plink-1.90-beta-4.10-x86_64/plink \\\n",
    "        --noweb \\\n",
    "        --bfile $eig/${study}_${an}_genotypes_high_ld_regions_removed \\\n",
    "        --extract $eig/${an}_chr_all_ld_pruned.prune.in \\\n",
    "        --make-bed \\\n",
    "        --out $eig/${study}_${an}_genotypes_ld_pruned\n",
    "done\n",
    "\n",
    "# Clean up\n",
    "rm $eig/*ld_pruned.{prune.in,prune.out,log}\n",
    "rm $eig/*ld_prune*qsub*\n",
    "rm $eig/*high_ld_regions*\n",
    "rm $eig/*nosex\n",
    "\n",
    "\n",
    "## Rename BIM/FAM file IDs ##\n",
    "for an in $anlist;do\n",
    "    # Rename FAM file IDs\n",
    "    awk '{$1=\"ID_\"NR; $2=\"ID_\"NR; print $0}' $eig/${study}_${an}_genotypes_ld_pruned.fam \\\n",
    "        > $eig/${study}_${an}_genotypes_ld_pruned_renamed.fam\n",
    "\n",
    "    ## Rename BIM file IDs ##\n",
    "    awk '{$2=\"ID_\"NR; print $0}' $eig/${study}_${an}_genotypes_ld_pruned.bim \\\n",
    "        > $eig/${study}_${an}_genotypes_ld_pruned_renamed.bim\n",
    "done\n",
    "\n",
    "## run eigenstrat ##\n",
    "for an in $anlist; do\n",
    "    famfile=\"$eig/${study}_${an}_genotypes_ld_pruned_renamed.fam\"\n",
    "    bimfile=\"$eig/${study}_${an}_genotypes_ld_pruned_renamed.bim\"\n",
    "    bedfile=\"$eig/${study}_${an}_genotypes_ld_pruned.bed\"\n",
    "\n",
    "    /shared/bioinformatics/software/third_party/EIG-6.1.4/bin/smartpca.perl \\\n",
    "        -i $bedfile \\\n",
    "        -a $bimfile \\\n",
    "        -b $famfile \\\n",
    "        -o $eig/results/${an}_ld_pruned.pca \\\n",
    "        -p $eig/results/${an}_ld_pruned.plot \\\n",
    "        -e $eig/results/${an}_ld_pruned.eval \\\n",
    "        -l $eig/results/${an}_ld_pruned.pca.log \\\n",
    "        -m 0\n",
    "done\n",
    "\n",
    "## Extract eigenvectors (top 10 PCs) ##\n",
    "for an in $anlist; do\n",
    "    echo \"FID IID EV1 EV2 EV3 EV4 EV5 EV6 EV7 EV8 EV9 EV10\" > $eig/results/${an}_ld_pruned_top10_eigenvecs.txt\n",
    "    tail -n +2 $eig/results/${an}_ld_pruned.pca.evec | \\\n",
    "        perl -lne 's/:/ /; @F=split; print join(\" \",$F[0],$F[1],$F[2],$F[3],$F[4],$F[5],$F[6],$F[7],$F[8],$F[9],$F[10],$F[11]);' \\\n",
    "        >> $eig/results/${an}_ld_pruned_top10_eigenvecs.txt\n",
    "done\n",
    "\n",
    "\n",
    "## Next produce PCA plots"
   ]
  },
  {
   "cell_type": "code",
   "execution_count": null,
   "metadata": {},
   "outputs": [],
   "source": [
    "## run above pipeline\n",
    "/shared/bioinformatics/software/scripts/qsub_job.sh \\\n",
    "    --job_name $study.pca \\\n",
    "    --script_prefix /shared/jmarks/hiv/$study/phenotype/processing/eig/$study.pca \\\n",
    "    --priority 0 \\\n",
    "    --program bash /shared/jmarks/hiv/$study/phenotype/processing/${study}_pca.sh"
   ]
  },
  {
   "cell_type": "markdown",
   "metadata": {},
   "source": [
    "### View PCs"
   ]
  },
  {
   "cell_type": "code",
   "execution_count": null,
   "metadata": {},
   "outputs": [],
   "source": [
    "## Copy top PCs to local\n",
    "cd /home/jmarks/Projects/HIV/cfar_coga/phenotype/processing\n",
    "scp -i ~/.ssh/gwas_rsa   ec2-user@34.195.174.206:/shared/jmarks/hiv/cfar_coga/phenotype/processing/eig/results/* ."
   ]
  },
  {
   "cell_type": "code",
   "execution_count": 3,
   "metadata": {},
   "outputs": [
    {
     "data": {
      "text/html": [
       "<table>\n",
       "<thead><tr><th></th><th scope=col>V2</th><th scope=col>V3</th><th scope=col>V4</th><th scope=col>V5</th><th scope=col>V6</th></tr></thead>\n",
       "<tbody>\n",
       "\t<tr><th scope=row>ID_1:ID_1</th><td>0.0056 </td><td> 0.0005</td><td> 0.0028</td><td>-0.0021</td><td>-0.0047</td></tr>\n",
       "\t<tr><th scope=row>ID_2:ID_2</th><td>0.0047 </td><td> 0.0033</td><td>-0.0002</td><td>-0.0011</td><td>-0.0023</td></tr>\n",
       "\t<tr><th scope=row>ID_3:ID_3</th><td>0.0045 </td><td> 0.0010</td><td> 0.0000</td><td>-0.0019</td><td>-0.0002</td></tr>\n",
       "\t<tr><th scope=row>ID_4:ID_4</th><td>0.0026 </td><td>-0.0052</td><td>-0.0018</td><td>-0.0009</td><td>-0.0069</td></tr>\n",
       "\t<tr><th scope=row>ID_5:ID_5</th><td>0.0049 </td><td> 0.0032</td><td>-0.0003</td><td>-0.0003</td><td>-0.0040</td></tr>\n",
       "\t<tr><th scope=row>ID_6:ID_6</th><td>0.0033 </td><td> 0.0007</td><td>-0.0017</td><td>-0.0017</td><td> 0.0024</td></tr>\n",
       "</tbody>\n",
       "</table>\n"
      ],
      "text/latex": [
       "\\begin{tabular}{r|lllll}\n",
       "  & V2 & V3 & V4 & V5 & V6\\\\\n",
       "\\hline\n",
       "\tID\\_1:ID\\_1 & 0.0056  &  0.0005 &  0.0028 & -0.0021 & -0.0047\\\\\n",
       "\tID\\_2:ID\\_2 & 0.0047  &  0.0033 & -0.0002 & -0.0011 & -0.0023\\\\\n",
       "\tID\\_3:ID\\_3 & 0.0045  &  0.0010 &  0.0000 & -0.0019 & -0.0002\\\\\n",
       "\tID\\_4:ID\\_4 & 0.0026  & -0.0052 & -0.0018 & -0.0009 & -0.0069\\\\\n",
       "\tID\\_5:ID\\_5 & 0.0049  &  0.0032 & -0.0003 & -0.0003 & -0.0040\\\\\n",
       "\tID\\_6:ID\\_6 & 0.0033  &  0.0007 & -0.0017 & -0.0017 &  0.0024\\\\\n",
       "\\end{tabular}\n"
      ],
      "text/markdown": [
       "\n",
       "| <!--/--> | V2 | V3 | V4 | V5 | V6 |\n",
       "|---|---|---|---|---|---|\n",
       "| ID_1:ID_1 | 0.0056  |  0.0005 |  0.0028 | -0.0021 | -0.0047 |\n",
       "| ID_2:ID_2 | 0.0047  |  0.0033 | -0.0002 | -0.0011 | -0.0023 |\n",
       "| ID_3:ID_3 | 0.0045  |  0.0010 |  0.0000 | -0.0019 | -0.0002 |\n",
       "| ID_4:ID_4 | 0.0026  | -0.0052 | -0.0018 | -0.0009 | -0.0069 |\n",
       "| ID_5:ID_5 | 0.0049  |  0.0032 | -0.0003 | -0.0003 | -0.0040 |\n",
       "| ID_6:ID_6 | 0.0033  |  0.0007 | -0.0017 | -0.0017 |  0.0024 |\n",
       "\n"
      ],
      "text/plain": [
       "          V2     V3      V4      V5      V6     \n",
       "ID_1:ID_1 0.0056  0.0005  0.0028 -0.0021 -0.0047\n",
       "ID_2:ID_2 0.0047  0.0033 -0.0002 -0.0011 -0.0023\n",
       "ID_3:ID_3 0.0045  0.0010  0.0000 -0.0019 -0.0002\n",
       "ID_4:ID_4 0.0026 -0.0052 -0.0018 -0.0009 -0.0069\n",
       "ID_5:ID_5 0.0049  0.0032 -0.0003 -0.0003 -0.0040\n",
       "ID_6:ID_6 0.0033  0.0007 -0.0017 -0.0017  0.0024"
      ]
     },
     "metadata": {},
     "output_type": "display_data"
    }
   ],
   "source": [
    "### R console ###\n",
    "# Load PCA data\n",
    "setwd(\"C:/Users/jmarks/OneDrive - Research Triangle Institute/Projects/HIV/cfar_coga/phenotype/processing\")\n",
    "options(stringsAsFactors = F)\n",
    "ea.evec <- read.table(\"ea_ld_pruned.pca.evec\", comment.char=\"#\", sep=\"\", row.names=1)\n",
    "head(ea.evec[,1:5])"
   ]
  },
  {
   "cell_type": "code",
   "execution_count": 3,
   "metadata": {},
   "outputs": [
    {
     "data": {
      "image/png": "[encoded data removed]",
      "text/plain": [
       "Plot with title \"CFAR_COGA EA\""
      ]
     },
     "metadata": {},
     "output_type": "display_data"
    },
    {
     "data": {
      "image/png": "[encoded data removed]",
      "text/plain": [
       "Plot with title \"CFAR_COGA EA\""
      ]
     },
     "metadata": {},
     "output_type": "display_data"
    }
   ],
   "source": [
    "### View PCs ###\n",
    "## R console ##\n",
    "# Function for plotting off-diagonal scatterplots\n",
    "plot.offdiag <- function(x, y, colors=label.colors){\n",
    "    #Make x and y axes equal\n",
    "    limits <- c(min(x,y), max(x,y)) * 1.3\n",
    "    par(usr = c(limits, limits))\n",
    "    points(x,y, col=colors, pch=16)\n",
    "}\n",
    "\n",
    "# Function for plotting diagonal density plots\n",
    "plot.diag <- function(x, colors=label.colors){\n",
    "    d <- density(x, bw=0.01, kernel=\"gaussian\")\n",
    "    #Update plot axes limits\n",
    "    par(usr = c(range(d$x), range(d$y)*1.3))\n",
    "    points(d$x,d$y, type=\"l\")\n",
    "    #Add PC values\n",
    "    points(x=x, y=jitter(rep(mean(d$y),times=d$n),factor=5), col=label.colors, pch=16)\n",
    "}\n",
    "\n",
    "## EA ##\n",
    "#Run PCA and get % variance\n",
    "ea.dspace <- ea.evec[1:10] #transformed dataspace\n",
    "\n",
    "#Color label samples\n",
    "label.colors <- rgb(0,80,190,80, maxColorValue=255) #blue\n",
    "\n",
    "options(repr.plot.width=8, repr.plot.height=8)\n",
    "#Redefine outer margin\n",
    "par(oma = c(4, 1, 2, 1))\n",
    "pairs(x=ea.dspace[,6:10], panel=plot.offdiag, diag.panel=plot.diag, \n",
    "      labels=paste0(\"PC\",6:10), label.pos=0.9, cex.labels=1.8)\n",
    "par(fig=c(0, 1, 0, 1), oma=c(0, 0, 0, 0), mar=c(0, 0, 1.5, 0), new=TRUE)\n",
    "plot(0, 0, type = \"n\", bty = \"n\", xaxt = \"n\", yaxt = \"n\", main=\"CFAR_COGA EA\", cex.main=1)\n",
    "\n",
    "\n",
    "par(oma = c(4, 1, 2, 1))\n",
    "pairs(x=ea.dspace[,1:5], panel=plot.offdiag, diag.panel=plot.diag, \n",
    "      labels=paste0(\"PC\",1:5), label.pos=0.9, cex.labels=1.8)\n",
    "par(fig=c(0, 1, 0, 1), oma=c(0, 0, 0, 0), mar=c(0, 0, 1.5, 0), new=TRUE)\n",
    "plot(0, 0, type = \"n\", bty = \"n\", xaxt = \"n\", yaxt = \"n\", main=\"CFAR_COGA EA\", cex.main=1)"
   ]
  },
  {
   "cell_type": "markdown",
   "metadata": {},
   "source": [
    "### PC Selection"
   ]
  },
  {
   "cell_type": "code",
   "execution_count": 6,
   "metadata": {},
   "outputs": [],
   "source": [
    "### PC Selection ###\n",
    "## R functions, DO NOT ALTER THIS CODE ##\n",
    "create_pedfile <- function(phen_file, pca_file, phenotype, sex_var, covariates, study, ancestry){\n",
    "    \n",
    "    # phenotype file\n",
    "    pheno_data <- read.delim(phen_file, sep=\"\")\n",
    "    pca_data <- read.delim(pca_file, sep=\"\")\n",
    "    other_pedcols <- c(\"fid\", \"iid\", \"patid\", \"matid\", sex_var)\n",
    "    ped_width <- length(other_pedcols) + length(phenotype)\n",
    "    ped_length <- nrow(pheno_data)\n",
    "    ped_file <- data.frame(matrix(ncol=ped_width, nrow=ped_length))\n",
    "    colnames(ped_file) <- c(other_pedcols, phenotype)\n",
    "    ped_file[phenotype] <- pheno_data[phenotype]\n",
    "    ped_file[sex_var] <- pheno_data[sex_var]\n",
    "    ped_file[\"fid\"] <- pheno_data[1]\n",
    "    ped_file[\"iid\"] <- pheno_data[2]\n",
    "    \n",
    "    # covariate file\n",
    "    num_cols <- 14 + length(covs)\n",
    "    covar_data <- data.frame(matrix(ncol=num_cols, nrow=ped_length))\n",
    "    colnames(covar_data) <- c(\"fid\", \"iid\", \"patid\", \"matid\", covs,\n",
    "                             \"PC1\", \"PC2\",\"PC3\",\"PC4\",\"PC5\",\"PC6\",\"PC7\",\"PC8\",\"PC9\",\"PC10\")\n",
    "    covar_data[,1:4] <- ped_file[, 1:4]\n",
    "    for (i in covs){\n",
    "        covar_data[,i] <- pheno_data[,i]\n",
    "    }\n",
    "    \n",
    "    covar_data[, (num_cols-9):num_cols] <- pca_data[,3:12]\n",
    "    write.table(ped_file, paste(study,\"_\", ancestry, \"_phen.ped\", sep=\"\"), sep = \"\\t\", row.names = F, quote=F)\n",
    "    write.table(covar_data, paste(study,\"_\", ancestry, \"_cov.ped\", sep=\"\"), sep = \"\\t\", row.names = F, quote=F)\n",
    "    head(ped_file)\n",
    "    \n",
    "    } # end function\n",
    "\n",
    "regression_analysis <- function(cov_file, phen_file, phenotype_name, model_type, ancestry){\n",
    "    options(stringsAsFactors=F)\n",
    "    \n",
    "    cov_data <- read.delim(cov_file, sep=\"\")\n",
    "    phen_data <- read.delim(phen_file, sep=\"\")\n",
    "    pc_names <- paste0(\"PC\", 1:10)\n",
    "    merge_data <- merge(x=phen_data[,c(\"iid\", phenotype_name)], y=cov_data[, c(\"iid\", pc_names)], by=\"iid\")\n",
    "    \n",
    "    model.str <- paste0(phenotype_name, \"~\", paste(pc_names, collapse=\" + \")) \n",
    "    cat(\"MODEL FORMULA:\\n\\n\", model.str, \"\\n\")\n",
    "    \n",
    "    # Get model fits\n",
    "    if (model_type==\"continuous\"){\n",
    "        model_fit <- lm(formula=as.formula(model.str), data=merge_data)\n",
    "        pve_calc <- \"Mean Sq\"\n",
    "    }\n",
    "    else if (model_type==\"logistic\"){\n",
    "        model_fit <- glm(formula=as.formula(model.str), data=merge_data, family=binomial(link=\"logit\"))\n",
    "        pve_calc <- \"Deviance\"\n",
    "    }\n",
    "    \n",
    "    # Get sequential (type I) sum of squares\n",
    "    anova_model <- anova(model_fit)\n",
    "    \n",
    "    # Calculate percent variance explained and sort\n",
    "    variance_explained <- cbind(anova_model[pc_names,], \n",
    "                    PVE=round(anova_model[pc_names, pve_calc]/sum(anova_model[pc_names, pve_calc])*100, digits=2))\n",
    "    pve_sorted <- variance_explained[order(variance_explained$PVE, decreasing=T),]\n",
    "    \n",
    "    # Output regression info\n",
    "    cat(paste(\"\\n\\n================\", ancestry,  \"group ================\\n\"))\n",
    "    summary(model_fit)\n",
    "    pve_sorted\n",
    "    \n",
    "    # Percent Variance Explained Visualization\n",
    "    options(repr.plot.width=13, repr.plot.height=5)\n",
    "\n",
    "    # Set graphical parameters\n",
    "    cex.factor <- 0.9\n",
    "    barplot_ylim <- c(0, max(variance_explained$PVE)*1.2)\n",
    "\n",
    "    pv_list <- vector(length = 10)\n",
    "    total <- 0\n",
    "    for (i in 1:nrow(pve_sorted)){\n",
    "        pv_list[i] <- row.names(pve_sorted[i,])\n",
    "        total <- total + pve_sorted[i, \"PVE\"]\n",
    "        #print(total)\n",
    "        if (total >= 75) break\n",
    "    }\n",
    "\n",
    "    topPCs <- pv_list[which(pv_list != \"FALSE\")]\n",
    "    cat(\"Top PCs: \",topPCs, \"\\n\")\n",
    "    cat(paste(\"PVE:     \", total))\n",
    "\n",
    "    # Visualize PVE\n",
    "    par(mfrow=c(1,2))\n",
    "    barplot(height=variance_explained$PVE, names.arg=rownames(variance_explained), beside=T, cex.names=cex.factor, \n",
    "            col=\"red3\", border=\"red3\", ylim=barplot_ylim, \n",
    "            main=paste(ancestry,\"Percent Variance Explained\"), ylab=\"PVE\")\n",
    "    plot(cumsum(variance_explained$PVE), type=\"b\", main=paste(ancestry, \"PVE Cumulative Sum\"), ylab=\"PVE\", \n",
    "         lwd=2, col=\"red3\", pch=17, xaxt=\"n\", xlab=\"\", ylim=c(0,100))\n",
    "    axis(side=1, at=c(1:10), labels=rownames(variance_explained), cex.axis=cex.factor)\n",
    "\n",
    "    par(mfrow=c(1,2))\n",
    "    barplot(height=pve_sorted$PVE, names.arg=rownames(pve_sorted), beside=T, cex.names=cex.factor, \n",
    "            col=\"red3\", border=\"red3\", ylim=barplot_ylim, main=paste(ancestry,\"Percent Variance Explained (Sorted PCs)\"), ylab=\"PVE\")\n",
    "    plot(cumsum(pve_sorted$PVE), type=\"b\", main=paste(ancestry,\"PVE Cumulative Sum (Sorted PCs)\"), ylab=\"PVE\", \n",
    "         lwd=2, col=\"red3\", pch=17, xaxt=\"n\", xlab=\"\", ylim=c(0,100))\n",
    "    axis(side=1, at=c(1:10), labels=rownames(pve_sorted), cex.axis=cex.factor)\n",
    "}"
   ]
  },
  {
   "cell_type": "code",
   "execution_count": 10,
   "metadata": {},
   "outputs": [
    {
     "data": {
      "text/html": [
       "<table>\n",
       "<thead><tr><th scope=col>fid</th><th scope=col>iid</th><th scope=col>patid</th><th scope=col>matid</th><th scope=col>sex</th><th scope=col>hiv</th></tr></thead>\n",
       "<tbody>\n",
       "\t<tr><td>400243</td><td>400003</td><td>NA    </td><td>NA    </td><td>0     </td><td>1     </td></tr>\n",
       "\t<tr><td>401559</td><td>400011</td><td>NA    </td><td>NA    </td><td>0     </td><td>1     </td></tr>\n",
       "\t<tr><td>402252</td><td>400012</td><td>NA    </td><td>NA    </td><td>0     </td><td>1     </td></tr>\n",
       "\t<tr><td>402181</td><td>400017</td><td>NA    </td><td>NA    </td><td>0     </td><td>1     </td></tr>\n",
       "\t<tr><td>403508</td><td>400021</td><td>NA    </td><td>NA    </td><td>0     </td><td>1     </td></tr>\n",
       "\t<tr><td>403319</td><td>400031</td><td>NA    </td><td>NA    </td><td>0     </td><td>1     </td></tr>\n",
       "</tbody>\n",
       "</table>\n"
      ],
      "text/latex": [
       "\\begin{tabular}{r|llllll}\n",
       " fid & iid & patid & matid & sex & hiv\\\\\n",
       "\\hline\n",
       "\t 400243 & 400003 & NA     & NA     & 0      & 1     \\\\\n",
       "\t 401559 & 400011 & NA     & NA     & 0      & 1     \\\\\n",
       "\t 402252 & 400012 & NA     & NA     & 0      & 1     \\\\\n",
       "\t 402181 & 400017 & NA     & NA     & 0      & 1     \\\\\n",
       "\t 403508 & 400021 & NA     & NA     & 0      & 1     \\\\\n",
       "\t 403319 & 400031 & NA     & NA     & 0      & 1     \\\\\n",
       "\\end{tabular}\n"
      ],
      "text/markdown": [
       "\n",
       "| fid | iid | patid | matid | sex | hiv |\n",
       "|---|---|---|---|---|---|\n",
       "| 400243 | 400003 | NA     | NA     | 0      | 1      |\n",
       "| 401559 | 400011 | NA     | NA     | 0      | 1      |\n",
       "| 402252 | 400012 | NA     | NA     | 0      | 1      |\n",
       "| 402181 | 400017 | NA     | NA     | 0      | 1      |\n",
       "| 403508 | 400021 | NA     | NA     | 0      | 1      |\n",
       "| 403319 | 400031 | NA     | NA     | 0      | 1      |\n",
       "\n"
      ],
      "text/plain": [
       "  fid    iid    patid matid sex hiv\n",
       "1 400243 400003 NA    NA    0   1  \n",
       "2 401559 400011 NA    NA    0   1  \n",
       "3 402252 400012 NA    NA    0   1  \n",
       "4 402181 400017 NA    NA    0   1  \n",
       "5 403508 400021 NA    NA    0   1  \n",
       "6 403319 400031 NA    NA    0   1  "
      ]
     },
     "metadata": {},
     "output_type": "display_data"
    }
   ],
   "source": [
    "study <- \"CFAR_COGA\" # all caps\n",
    "ancestry <- \"EUR\" # EUR or AFR\n",
    "\n",
    "## variable information from phenotype file ($study_$an_phenotype_table.txt)\n",
    "phenotype <- \"hiv\" \n",
    "sex_var <-  \"sex\" \n",
    "covs <- c(sex_var, \"age\", \"alcohol\") # add other covariates\n",
    "\n",
    "phen_file <- \"combined_phenotype_hiv_age_sex_alcohol.tsv\"\n",
    "pca_file <- \"ea_ld_pruned_top10_eigenvecs.txt\"\n",
    "\n",
    "model_type <- \"logistic\" # continuous or logistic (if log then must be coded 0 or 1)\n",
    "####################################################################################################\n",
    "####################################################################################################\n",
    "\n",
    "cov2 <- paste(study, ancestry, \"cov.ped\", sep=\"_\")\n",
    "phen2 <- paste(study, ancestry, \"phen.ped\", sep=\"_\")\n",
    "\n",
    "create_pedfile(phen_file=phen_file, pca_file=pca_file, phenotype=phenotype,\n",
    "               sex_var=sex_var, covariates=cov_file, study=study, ancestry=ancestry)\n",
    "#regression_analysis(cov_file=cov2, phen_file=phen2,\n",
    "#                    phenotype_name=phenotype, model_type=model_type,\n",
    "#                    ancestry=ancestry)"
   ]
  },
  {
   "cell_type": "markdown",
   "metadata": {},
   "source": [
    "Top PCs:  PC1 PC3 PC7"
   ]
  },
  {
   "cell_type": "code",
   "execution_count": 2,
   "metadata": {},
   "outputs": [
    {
     "data": {
      "image/png": "[encoded data removed]",
      "text/plain": [
       "plot without title"
      ]
     },
     "metadata": {},
     "output_type": "display_data"
    }
   ],
   "source": [
    "library(\"png\")\n",
    "setwd(\"C:/Users/jmarks/OneDrive - Research Triangle Institute/Projects/HIV/cfar_coga/phenotype/processing/\")\n",
    "options(repr.plot.width=4, repr.plot.height=4)\n",
    "\n",
    "plota <- readPNG(\"Rplots-1.png\")\n",
    "plotb <- readPNG(\"Rplots-2.png\")\n",
    "grid::grid.raster(plota)"
   ]
  },
  {
   "cell_type": "code",
   "execution_count": 21,
   "metadata": {},
   "outputs": [
    {
     "data": {
      "image/png": "[encoded data removed]",
      "text/plain": [
       "plot without title"
      ]
     },
     "metadata": {},
     "output_type": "display_data"
    }
   ],
   "source": [
    "grid::grid.raster(plotb)"
   ]
  },
  {
   "cell_type": "markdown",
   "metadata": {},
   "source": [
    "### Alter iid to match imputed data\n",
    "The IDs in the genotype (imputed data) are of the form `fid_iid`. Therefore, I need to map the iid in the PED files to this format."
   ]
  },
  {
   "cell_type": "code",
   "execution_count": null,
   "metadata": {},
   "outputs": [],
   "source": [
    "## Bash ##\n",
    "#study=\"CFAR_COGA\"\n",
    "#\n",
    "## EA\n",
    "#awk '{OFS=\"_\"} { print $2,$2 } ' ${study}_EUR_phen.ped > new_id\n",
    "#awk 'NR==FNR{ map[NR]=$1; next} FNR>=2{$2=map[FNR]} { print $0}' \\\n",
    "#    new_id ${study}_EUR_phen.ped > ${study}_NGCW1_EUR_phen.ped\n",
    "#awk 'BEGIN{OFS=\"\\t\"} NR==FNR{ map[NR]=$1; next} FNR>=2{$2=map[FNR] } {print $0}' \\\n",
    "#    new_id ${study}_EUR_cov.ped > ${study}_NGCW1_EUR_cov.ped\n",
    "#\n",
    "#scp -i ~/.ssh/gwas_rsa *NGCW1* ec2-user@34.206.166.72:/shared/jmarks/hiv/uhs1234/acquisition_gwas/phenotype/processing"
   ]
  },
  {
   "cell_type": "markdown",
   "metadata": {},
   "source": [
    "### Create ProbABEL phenotype file"
   ]
  },
  {
   "cell_type": "code",
   "execution_count": 1,
   "metadata": {},
   "outputs": [],
   "source": [
    "### Convert your phenotype PED files (as is required for rvtests) to the ProbABEL format ###\n",
    "## R function, DO NOT ALTER THIS CODE ##\n",
    "probabel_phenotype <- function(cov_file, pheno_file, study, pop, pcs, other_covs, pheno){\n",
    "    \n",
    "    pc_paste <- paste(pcs, collapse=\"_\")\n",
    "    othercov_paste <- paste(other_covs, collapse=\"_\")\n",
    "    out_name <- paste(study, pop, pheno, othercov_paste, pc_paste, sep=\"_\")\n",
    "    out_name <- paste0(out_name, \".txt\")\n",
    "\n",
    "    all_covs <- c(other_covs, pcs)\n",
    "\n",
    "    # read in data files\n",
    "    my_cov <- read.table(cov_file, header=T)\n",
    "    my_pheno <- read.table(pheno_file, header=T)\n",
    "\n",
    "    num.subjects <- length(my_cov[,1])\n",
    "\n",
    "    # create new phenotype file (dataframe)\n",
    "    num_cols = 2 + length(other_covs) # iid + pheno + covs\n",
    "    covar.data <- data.frame(matrix(ncol = num_cols, nrow = num.subjects))\n",
    "    names(covar.data) <- c(\"iid\", pheno, other_covs)\n",
    "    covar.data[1] <- paste(my_pheno$fid, my_pheno$iid, sep = \"_\")\n",
    "    covar.data[2] <- my_pheno[, pheno]\n",
    "\n",
    "    for (cov in all_covs){\n",
    "        covar.data[, cov] <- my_cov[,cov]\n",
    "    }\n",
    "\n",
    "    write.table(x = covar.data, file = out_name, quote = F, row.names = F)\n",
    "    write.table(x = covar.data[,1], file = paste0(\"phenotype_ids_\", pop), \n",
    "                quote = F, row.names = F, col.names=F)\n",
    "}"
   ]
  },
  {
   "cell_type": "code",
   "execution_count": 3,
   "metadata": {},
   "outputs": [],
   "source": [
    "### EA\n",
    "cov_file   <- \"CFAR_COGA_EUR_cov.ped\"  # name of the input file\n",
    "pheno_file <- \"CFAR_COGA_EUR_phen.ped\" # name of the input file\n",
    "study <- \"cfar_coga\" # lowercase\n",
    "pop <- \"ea\" # ea or aa\n",
    "#pcs = c(\"PC1\", \"PC3\", \"PC7\")\n",
    "pcs = c(\"PC1\", \"PC2\", \"PC3\", \"PC4\", \"PC5\", \"PC6\", \"PC7\", \"PC8\", \"PC9\", \"PC10\")\n",
    "other_covs <- c(\"age\", \"sex\", \"alcohol\") # field names in header of cov file\n",
    "pheno <- \"hiv\" # field names in header of phen file\n",
    "probabel_phenotype(cov_file, pheno_file, study, pop, pcs, other_covs, pheno)"
   ]
  },
  {
   "cell_type": "code",
   "execution_count": null,
   "metadata": {},
   "outputs": [],
   "source": []
  }
 ],
 "metadata": {
  "kernelspec": {
   "display_name": "R",
   "language": "R",
   "name": "ir"
  },
  "language_info": {
   "codemirror_mode": "r",
   "file_extension": ".r",
   "mimetype": "text/x-r-source",
   "name": "R",
   "pygments_lexer": "r",
   "version": "3.6.1"
  },
  "toc": {
   "nav_menu": {},
   "number_sections": true,
   "sideBar": true,
   "skip_h1_title": false,
   "toc_cell": false,
   "toc_position": {
    "height": "714.716px",
    "left": "0px",
    "right": "1533.47px",
    "top": "110.284px",
    "width": "211.989px"
   },
   "toc_section_display": "block",
   "toc_window_display": true
  }
 },
 "nbformat": 4,
 "nbformat_minor": 2
}
