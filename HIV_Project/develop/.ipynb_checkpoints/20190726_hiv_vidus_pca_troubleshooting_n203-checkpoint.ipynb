{
 "cells": [
  {
   "cell_type": "markdown",
   "metadata": {},
   "source": [
    "# VIDUS Viral Load Genotype PCA: troubleshooting\n",
    "**Author:** Jesse Marks\n",
    "\n",
    "**GitHub Issue:** [#102](https://github.com/RTIInternational/bioinformatics/issues/102)\n",
    "\n",
    "This notebook documents the steps taken to perform a PCA on the observed genotype data for VIDUS. We then calculate the PVE of the genotype PCs for the phenotype `viral load`. \n",
    "\n",
    "## Data Description\n",
    "### Genotype data\n",
    "The post-qc observed genotype data was downloaded from S3:\n",
    "`s3://rti-hiv/vidus/data/genotype/observed/final/ea_chr_all.{bed,bim,fam}.gz`\n",
    "\n",
    "Eric Early pointed me to the subset of data (n=203) on his EC2 instance at the location:\n",
    "`/rti-hiv/vidus/data/genotype/observed/final`\n",
    "\n",
    "We downloaded the FAM file from this location (vl_n_203.pruned.fam) and used this to prune down the genotype data to 203 samples. We also used this fam file to filter down the phenotype file. \n",
    "\n",
    "### phenotype data\n",
    "Eric Early sent me the phenotype file from his personal computer. This file was named:\n",
    "`VIDUS RNAseq samples selected_v3_VL.csv`\n",
    "\n",
    "We used the FAM file mentioned above to filter these data (n=215) down to the n=203 samples."
   ]
  },
  {
   "cell_type": "markdown",
   "metadata": {},
   "source": [
    "## Process genotype data\n",
    "Filter down to 203 samples."
   ]
  },
  {
   "cell_type": "code",
   "execution_count": null,
   "metadata": {},
   "outputs": [],
   "source": [
    "## Download full post-qc observed genotypes\n",
    "cd /shared/jmarks/hiv/vidus/troubleshooting\n",
    "aws s3 sync s3://rti-hiv/vidus/data/genotype/observed/final/ .\n",
    "gunzip *\n",
    "\n",
    "## copy vl_n_203.pruned.fam from Eric Early's instance to get subset\n",
    "cut -d\" \" -f1,2 vl_n_203.pruned.fam  > n203_ids.txt\n",
    "\n",
    "## use plink to filter to these data\n",
    "/shared/bioinformatics/software/third_party/plink-1.90-beta-4.10-x86_64/plink \\\n",
    "    --noweb \\\n",
    "    --bfile  original/ea_chr_all \\\n",
    "    --keep early/n203_ids.txt \\\n",
    "    --make-bed \\\n",
    "    --out eig/vidus.ea.genotypes"
   ]
  },
  {
   "cell_type": "markdown",
   "metadata": {},
   "source": [
    "## Process phenotype file\n",
    "Filter down to 203 samples and variables of interest. \n",
    "\n",
    "```\n",
    "head vidus_n203_final.tsv\n",
    "\n",
    "iid     vl_mean female  ageatint\n",
    "8005964579_NA0054695_93-0482    50500   0       64\n",
    "8005964583_NA0053919_93-0005    28820.25        0       40\n",
    "8005964594_NA0054312_93-0257    64102.5 0       51\n",
    "8005964602_NA0054507_93-0379    51175   1       55\n",
    "8005964603_NA0054701_93-0488    8608425 0       25\n",
    "```"
   ]
  },
  {
   "cell_type": "code",
   "execution_count": null,
   "metadata": {},
   "outputs": [],
   "source": [
    "## python ## \n",
    "\"\"\"\n",
    "This python script filters the phenotype file down to the samples of interest and also the variables of interest. \n",
    "The variables we want from the phenotype file are (in this specific order):\n",
    "\n",
    "id column (iid)\n",
    "phenotype column (vllog10_mean)\n",
    "sex column (female)\n",
    "age column (ageatint)\n",
    "\"\"\"\n",
    "\n",
    "infile = \"../VIDUS RNAseq samples selected_v3_VL.csv\" # phenotype file E.E. sent\n",
    "inf2 = \"vl_n_203.pruned.fam\" # genotype fam file that we want to filter the phenotype to\n",
    "outfile = \"vidus_n203_final.tsv\"\n",
    "\n",
    "with open(infile) as inF, open(inf2) as inF2, open(outfile, \"w\") as outF:\n",
    "    head = inF.readline()\n",
    "    head = head.strip().split(\",\")\n",
    "\n",
    "    iidcol = 8\n",
    "    vllog10_mean = 2\n",
    "    female = 5\n",
    "    ageatint = 6\n",
    "\n",
    "    pheno_dic = {}\n",
    "    line = inF.readline()\n",
    "    # create a dictionary with the information (columns) we want from the phenotype file\n",
    "    while line:\n",
    "        sl = line.strip().split(\",\")\n",
    "        newline = \"{}\\t{}\\t{}\\t{}\\n\".format(sl[iidcol], sl[vllog10_mean], sl[female], sl[ageatint])\n",
    "        pheno_dic[sl[iidcol]] = newline\n",
    "        line = inF.readline()\n",
    "\n",
    "    line2 = inF2.readline()\n",
    "    outhead = \"{}\\t{}\\t{}\\t{}\\n\".format(head[iidcol], head[vllog10_mean], head[female], head[ageatint])\n",
    "    outF.write(outhead)\n",
    "    # loop through FAM file to get specific samples from above dictionary\n",
    "    while line2:\n",
    "        sl2 = line2.strip().split()\n",
    "        outF.write(pheno_dic[sl2[0]])\n",
    "        line2 = inF2.readline()"
   ]
  },
  {
   "cell_type": "markdown",
   "metadata": {},
   "source": [
    "### Quantile\n",
    "Partitions phenotype variable into quintiles."
   ]
  },
  {
   "cell_type": "code",
   "execution_count": 2,
   "metadata": {},
   "outputs": [
    {
     "data": {
      "text/html": [
       "<table>\n",
       "<thead><tr><th scope=col>iid</th><th scope=col>vllog10_mean</th><th scope=col>female</th><th scope=col>ageatint</th><th scope=col>bin_vllog10_mean</th></tr></thead>\n",
       "<tbody>\n",
       "\t<tr><td>8005964579_NA0054695_93-0482</td><td>4.529213                    </td><td>0                           </td><td>64                          </td><td>3                           </td></tr>\n",
       "\t<tr><td>8005964583_NA0053919_93-0005</td><td>4.420590                    </td><td>0                           </td><td>40                          </td><td>3                           </td></tr>\n",
       "\t<tr><td>8005964594_NA0054312_93-0257</td><td>4.708277                    </td><td>0                           </td><td>51                          </td><td>3                           </td></tr>\n",
       "\t<tr><td>8005964602_NA0054507_93-0379</td><td>4.647480                    </td><td>1                           </td><td>55                          </td><td>3                           </td></tr>\n",
       "\t<tr><td>8005964603_NA0054701_93-0488</td><td>6.929174                    </td><td>0                           </td><td>25                          </td><td>5                           </td></tr>\n",
       "\t<tr><td>8005964604_NA0054654_93-0109</td><td>3.228047                    </td><td>0                           </td><td>55                          </td><td>2                           </td></tr>\n",
       "</tbody>\n",
       "</table>\n"
      ],
      "text/latex": [
       "\\begin{tabular}{r|lllll}\n",
       " iid & vllog10\\_mean & female & ageatint & bin\\_vllog10\\_mean\\\\\n",
       "\\hline\n",
       "\t 8005964579\\_NA0054695\\_93-0482 & 4.529213                         & 0                                & 64                               & 3                               \\\\\n",
       "\t 8005964583\\_NA0053919\\_93-0005 & 4.420590                         & 0                                & 40                               & 3                               \\\\\n",
       "\t 8005964594\\_NA0054312\\_93-0257 & 4.708277                         & 0                                & 51                               & 3                               \\\\\n",
       "\t 8005964602\\_NA0054507\\_93-0379 & 4.647480                         & 1                                & 55                               & 3                               \\\\\n",
       "\t 8005964603\\_NA0054701\\_93-0488 & 6.929174                         & 0                                & 25                               & 5                               \\\\\n",
       "\t 8005964604\\_NA0054654\\_93-0109 & 3.228047                         & 0                                & 55                               & 2                               \\\\\n",
       "\\end{tabular}\n"
      ],
      "text/markdown": [
       "\n",
       "iid | vllog10_mean | female | ageatint | bin_vllog10_mean | \n",
       "|---|---|---|---|---|---|\n",
       "| 8005964579_NA0054695_93-0482 | 4.529213                     | 0                            | 64                           | 3                            | \n",
       "| 8005964583_NA0053919_93-0005 | 4.420590                     | 0                            | 40                           | 3                            | \n",
       "| 8005964594_NA0054312_93-0257 | 4.708277                     | 0                            | 51                           | 3                            | \n",
       "| 8005964602_NA0054507_93-0379 | 4.647480                     | 1                            | 55                           | 3                            | \n",
       "| 8005964603_NA0054701_93-0488 | 6.929174                     | 0                            | 25                           | 5                            | \n",
       "| 8005964604_NA0054654_93-0109 | 3.228047                     | 0                            | 55                           | 2                            | \n",
       "\n",
       "\n"
      ],
      "text/plain": [
       "  iid                          vllog10_mean female ageatint bin_vllog10_mean\n",
       "1 8005964579_NA0054695_93-0482 4.529213     0      64       3               \n",
       "2 8005964583_NA0053919_93-0005 4.420590     0      40       3               \n",
       "3 8005964594_NA0054312_93-0257 4.708277     0      51       3               \n",
       "4 8005964602_NA0054507_93-0379 4.647480     1      55       3               \n",
       "5 8005964603_NA0054701_93-0488 6.929174     0      25       5               \n",
       "6 8005964604_NA0054654_93-0109 3.228047     0      55       2               "
      ]
     },
     "metadata": {},
     "output_type": "display_data"
    }
   ],
   "source": [
    "setwd(\"C:/Users/jmarks/OneDrive - Research Triangle Institute/Projects/HIV/vidus/troubleshooting/pca/20190725/n203\")\n",
    "\n",
    "mytable <- read.table(\"vidus_n203_final.tsv\", header=T)\n",
    "\n",
    "vl <- mytable$vllog10_mean\n",
    "vl_bins <- cut(x = vl, breaks = 5, labels = FALSE)\n",
    "mytable$bin_vllog10_mean <- vl_bins\n",
    "#mytable$vllog10_mean <- NULL\n",
    "head(mytable)\n",
    "write.table(mytable, \"vidus_n203_final_binned.tsv\", quote = FALSE, row.names = FALSE)"
   ]
  },
  {
   "cell_type": "markdown",
   "metadata": {},
   "source": [
    "## Run PCA\n",
    "\n",
    "Run the following script to produce the PCA for the genotype results.\n",
    "`bash _methods_vidus_pca_20190725.sh &> pca_log.log`"
   ]
  },
  {
   "cell_type": "code",
   "execution_count": null,
   "metadata": {
    "code_folding": [
     0
    ]
   },
   "outputs": [],
   "source": [
    "#!/bin/bash\n",
    "\n",
    "## Set global variables ##\n",
    "anlist=\"ea\" # \"ea\", \"aa\", or \"ea aa\"\n",
    "study=\"vidus\"\n",
    "case_control=\"false\"  # true if (case control phenotype) false if (not)\n",
    "procD=\"/shared/jmarks/hiv/vidus/troubleshooting/n207\"  # processing directory\n",
    "eig=\"$procD/eig\" # do not alter\n",
    "mkdir -p $eig/results # do not alter\n",
    "\n",
    "\n",
    "## Genotype Data should be in the directory $eig\n",
    "## The genotype data names should be of the form: $study.$an.genotype.{bed,bim,fam}. For Example:\n",
    "## vidus.ea.genotype.bim, vidus.ea.genotype.bed, vidus.ea.genotype.fam\n",
    "\n",
    "\n",
    "# Do not edit below this line\n",
    "################################################################################\n",
    "################################################################################\n",
    "\n",
    "## Remove high-LD region variants ##\n",
    "for an in $anlist; do\n",
    "    perl -lane 'if (($F[0]==5 && $F[3] >= 43964243 && $F[3] <= 51464243) || ($F[0]==6 && $F[3] >= 24892021 && $F[3] <= 33392022) || ($F[0]==8 && $F[3] >= 7962590 && $F[3] <= 11962591) || ($F[0]==11 && $F[3] >= 45043424 && $F[3] <= 57243424)) { print $F[1].\"\\n\"; }' \\\n",
    "        $eig/$study.$an.genotypes.bim > $eig/$study.$an.genotypes.high_ld_regions.remove\n",
    "\n",
    "    # Remove SNPs in known high-LD regions\n",
    "    /shared/bioinformatics/software/third_party/plink-1.90-beta-4.10-x86_64/plink \\\n",
    "        --noweb \\\n",
    "        --bfile $eig/$study.$an.genotypes \\\n",
    "        --exclude $eig/$study.$an.genotypes.high_ld_regions.remove \\\n",
    "        --make-bed \\\n",
    "        --out $eig/$study.$an.genotypes.high_ld_regions_removed\n",
    "done\n",
    "\n",
    "## Linkage disequilibrium pruning ##\n",
    "for an in $anlist;do\n",
    "    for chr in {1..22}; do\n",
    "        /shared/bioinformatics/software/third_party/plink-1.90-beta-4.10-x86_64/plink \\\n",
    "            --noweb \\\n",
    "            --memory 3000 \\\n",
    "            --bfile $eig/$study.$an.genotypes.high_ld_regions_removed \\\n",
    "            --indep-pairwise 1500 150 0.2 \\\n",
    "            --chr ${chr} \\\n",
    "            --out $eig/${an}_chr${chr}_ld_pruned\n",
    "    done\n",
    "done\n",
    "\n",
    "## Merge *prune.in files ##\n",
    "for an in $anlist; do\n",
    "    cat $eig/${an}_chr*_ld_pruned.prune.in > $eig/${an}_chr_all_ld_pruned.prune.in\n",
    "\n",
    "    # Create new PLINK filesets with only lD pruned variants\n",
    "    /shared/bioinformatics/software/third_party/plink-1.90-beta-4.10-x86_64/plink \\\n",
    "        --noweb \\\n",
    "        --bfile $eig/$study.$an.genotypes.high_ld_regions_removed \\\n",
    "        --extract $eig/${an}_chr_all_ld_pruned.prune.in \\\n",
    "        --make-bed \\\n",
    "        --out $eig/$study.$an.genotypes.ld_pruned\n",
    "done\n",
    "\n",
    "# Clean up\n",
    "rm $eig/*ld_pruned.{prune.in,prune.out,log}\n",
    "rm $eig/*ld_prune*qsub*\n",
    "rm $eig/*high_ld_regions*\n",
    "rm $eig/*nosex\n",
    "\n",
    "\n",
    "## Rename BIM/FAM file IDs ##\n",
    "for an in $anlist;do\n",
    "    # Rename FAM file IDs\n",
    "    awk '{$1=\"ID_\"NR; $2=\"ID_\"NR; print $0}' $eig/$study.$an.genotypes.ld_pruned.fam \\\n",
    "        > $eig/$study.$an.genotypes.ld_pruned_renamed.fam\n",
    "\n",
    "    ## Rename BIM file IDs ##\n",
    "    awk '{$2=\"ID_\"NR; print $0}' $eig/$study.$an.genotypes.ld_pruned.bim \\\n",
    "        > $eig/$study.$an.genotypes.ld_pruned_renamed.bim\n",
    "done\n",
    "\n",
    "## Assign Case/Control to FAM file if applicable ##\n",
    "if [ $case_control == \"true\" ]; then\n",
    "    for an in $anlist; do\n",
    "        pfile=$procD/$study_${an}_phenotype_for_pca.txt\n",
    "\n",
    "        ## extract the IDs of controls\n",
    "        tail -n +2 $pfile |\\\n",
    "            awk '{ if ($2==0) {print $1}}' > $eig/$an.controls.ids\n",
    "\n",
    "        # Modify FAM file to include case/control status\n",
    "        awk 'NR==FNR{map[$1] = $1; next} {if($2 in map) {$6=1} else {$6=2}} {print $0} ' \\\n",
    "            $eig/$an.controls.ids $eig/$study.$an.genotypes.ld_pruned_renamed.fam >\\\n",
    "            $eig/$study.$an.genotypes.ld_pruned_renamed_case_control.fam\n",
    "    done\n",
    "fi\n",
    "\n",
    "## run eigenstrat ##\n",
    "for an in $anlist; do\n",
    "    if [ $case_control == \"true\" ]; then\n",
    "        famfile=\"$eig/$study.$an.genotypes.ld_pruned_renamed_case_control.fam\"\n",
    "    else\n",
    "        famfile=\"$eig/$study.$an.genotypes.ld_pruned_renamed.fam\"\n",
    "    fi\n",
    "    bimfile=\"$eig/$study.$an.genotypes.ld_pruned_renamed.bim\"\n",
    "    bedfile=\"$eig/$study.$an.genotypes.ld_pruned.bed\"\n",
    "\n",
    "    /shared/bioinformatics/software/third_party/EIG-6.1.4/bin/smartpca.perl \\\n",
    "        -i $bedfile \\\n",
    "        -a $bimfile \\\n",
    "        -b $famfile \\\n",
    "        -o $eig/results/${an}_ld_pruned.pca \\\n",
    "        -p $eig/results/${an}_ld_pruned.plot \\\n",
    "        -e $eig/results/${ancestry}_ld_pruned.eval \\\n",
    "        -l $eig/results/${ancestry}_ld_pruned.pca.log \\\n",
    "        -m 0\n",
    "done\n",
    "\n",
    "## Extract eigenvectors (top 10 PCs) ##\n",
    "for an in $anlist; do\n",
    "    echo \"FID IID EV1 EV2 EV3 EV4 EV5 EV6 EV7 EV8 EV9 EV10\" > $eig/results/${an}_ld_pruned_top10_eigenvecs.txt\n",
    "    tail -n +2 $eig/results/${an}_ld_pruned.pca.evec | \\\n",
    "        perl -lne 's/:/ /; @F=split; print join(\" \",$F[0],$F[1],$F[2],$F[3],$F[4],$F[5],$F[6],$F[7],$F[8],$F[9],$F[10],$F[11]);' \\\n",
    "        >> $eig/results/${an}_ld_pruned_top10_eigenvecs.txt\n",
    "done\n",
    "\n",
    "\n",
    "## Next produce PCA plots"
   ]
  },
  {
   "cell_type": "markdown",
   "metadata": {},
   "source": [
    "## PC Selection "
   ]
  },
  {
   "cell_type": "markdown",
   "metadata": {},
   "source": [
    "### View PCs from EIGENSTRAT\n",
    "Copy results over to local machine."
   ]
  },
  {
   "cell_type": "code",
   "execution_count": null,
   "metadata": {},
   "outputs": [],
   "source": [
    "### bash ###\n",
    "cd /cygdrive/c/Users/jmarks/Desktop/Projects/HIV/vidus/troubleshooting/pca/20190725/n203\n",
    "scp -i ~/.ssh/gwas_rsa ec2-user@34.206.166.72:/shared/jmarks/hiv/vidus/troubleshooting/eig/results/* ."
   ]
  },
  {
   "cell_type": "code",
   "execution_count": 7,
   "metadata": {},
   "outputs": [
    {
     "data": {
      "text/html": [
       "<table>\n",
       "<thead><tr><th></th><th scope=col>V2</th><th scope=col>V3</th><th scope=col>V4</th><th scope=col>V5</th><th scope=col>V6</th></tr></thead>\n",
       "<tbody>\n",
       "\t<tr><th scope=row>ID_1:ID_1</th><td> 0.0105</td><td> 0.0051</td><td>-0.0397</td><td>-0.0592</td><td>-0.0020</td></tr>\n",
       "\t<tr><th scope=row>ID_2:ID_2</th><td>-0.5036</td><td> 0.2759</td><td> 0.0266</td><td>-0.1995</td><td>-0.3747</td></tr>\n",
       "\t<tr><th scope=row>ID_3:ID_3</th><td> 0.0272</td><td>-0.0079</td><td> 0.0127</td><td> 0.0338</td><td> 0.0074</td></tr>\n",
       "\t<tr><th scope=row>ID_4:ID_4</th><td> 0.0361</td><td> 0.0183</td><td> 0.0183</td><td>-0.0155</td><td> 0.0418</td></tr>\n",
       "\t<tr><th scope=row>ID_5:ID_5</th><td> 0.0068</td><td>-0.0110</td><td>-0.0006</td><td>-0.0001</td><td>-0.0060</td></tr>\n",
       "\t<tr><th scope=row>ID_6:ID_6</th><td> 0.0336</td><td>-0.0188</td><td>-0.0200</td><td> 0.0168</td><td>-0.0172</td></tr>\n",
       "</tbody>\n",
       "</table>\n"
      ],
      "text/latex": [
       "\\begin{tabular}{r|lllll}\n",
       "  & V2 & V3 & V4 & V5 & V6\\\\\n",
       "\\hline\n",
       "\tID\\_1:ID\\_1 &  0.0105 &  0.0051 & -0.0397 & -0.0592 & -0.0020\\\\\n",
       "\tID\\_2:ID\\_2 & -0.5036 &  0.2759 &  0.0266 & -0.1995 & -0.3747\\\\\n",
       "\tID\\_3:ID\\_3 &  0.0272 & -0.0079 &  0.0127 &  0.0338 &  0.0074\\\\\n",
       "\tID\\_4:ID\\_4 &  0.0361 &  0.0183 &  0.0183 & -0.0155 &  0.0418\\\\\n",
       "\tID\\_5:ID\\_5 &  0.0068 & -0.0110 & -0.0006 & -0.0001 & -0.0060\\\\\n",
       "\tID\\_6:ID\\_6 &  0.0336 & -0.0188 & -0.0200 &  0.0168 & -0.0172\\\\\n",
       "\\end{tabular}\n"
      ],
      "text/markdown": [
       "\n",
       "| <!--/--> | V2 | V3 | V4 | V5 | V6 | \n",
       "|---|---|---|---|---|---|\n",
       "| ID_1:ID_1 |  0.0105 |  0.0051 | -0.0397 | -0.0592 | -0.0020 | \n",
       "| ID_2:ID_2 | -0.5036 |  0.2759 |  0.0266 | -0.1995 | -0.3747 | \n",
       "| ID_3:ID_3 |  0.0272 | -0.0079 |  0.0127 |  0.0338 |  0.0074 | \n",
       "| ID_4:ID_4 |  0.0361 |  0.0183 |  0.0183 | -0.0155 |  0.0418 | \n",
       "| ID_5:ID_5 |  0.0068 | -0.0110 | -0.0006 | -0.0001 | -0.0060 | \n",
       "| ID_6:ID_6 |  0.0336 | -0.0188 | -0.0200 |  0.0168 | -0.0172 | \n",
       "\n",
       "\n"
      ],
      "text/plain": [
       "          V2      V3      V4      V5      V6     \n",
       "ID_1:ID_1  0.0105  0.0051 -0.0397 -0.0592 -0.0020\n",
       "ID_2:ID_2 -0.5036  0.2759  0.0266 -0.1995 -0.3747\n",
       "ID_3:ID_3  0.0272 -0.0079  0.0127  0.0338  0.0074\n",
       "ID_4:ID_4  0.0361  0.0183  0.0183 -0.0155  0.0418\n",
       "ID_5:ID_5  0.0068 -0.0110 -0.0006 -0.0001 -0.0060\n",
       "ID_6:ID_6  0.0336 -0.0188 -0.0200  0.0168 -0.0172"
      ]
     },
     "metadata": {},
     "output_type": "display_data"
    },
    {
     "data": {
      "text/html": [
       "<table>\n",
       "<thead><tr><th></th><th scope=col>V2</th><th scope=col>V3</th><th scope=col>V4</th><th scope=col>V5</th><th scope=col>V6</th></tr></thead>\n",
       "<tbody>\n",
       "\t<tr><th scope=row>ID_198:ID_198</th><td> 0.0237</td><td>-0.0267</td><td>-0.0464</td><td>-0.0764</td><td>-0.0322</td></tr>\n",
       "\t<tr><th scope=row>ID_199:ID_199</th><td>-0.0084</td><td> 0.0153</td><td> 0.0057</td><td>-0.0504</td><td> 0.0166</td></tr>\n",
       "\t<tr><th scope=row>ID_200:ID_200</th><td> 0.0182</td><td> 0.0062</td><td>-0.0389</td><td> 0.0022</td><td>-0.0014</td></tr>\n",
       "\t<tr><th scope=row>ID_201:ID_201</th><td> 0.0208</td><td>-0.0101</td><td>-0.0066</td><td> 0.0612</td><td> 0.0161</td></tr>\n",
       "\t<tr><th scope=row>ID_202:ID_202</th><td> 0.0230</td><td> 0.0019</td><td>-0.0114</td><td> 0.0143</td><td>-0.0087</td></tr>\n",
       "\t<tr><th scope=row>ID_203:ID_203</th><td> 0.0324</td><td>-0.0059</td><td>-0.0212</td><td>-0.0297</td><td> 0.0160</td></tr>\n",
       "</tbody>\n",
       "</table>\n"
      ],
      "text/latex": [
       "\\begin{tabular}{r|lllll}\n",
       "  & V2 & V3 & V4 & V5 & V6\\\\\n",
       "\\hline\n",
       "\tID\\_198:ID\\_198 &  0.0237 & -0.0267 & -0.0464 & -0.0764 & -0.0322\\\\\n",
       "\tID\\_199:ID\\_199 & -0.0084 &  0.0153 &  0.0057 & -0.0504 &  0.0166\\\\\n",
       "\tID\\_200:ID\\_200 &  0.0182 &  0.0062 & -0.0389 &  0.0022 & -0.0014\\\\\n",
       "\tID\\_201:ID\\_201 &  0.0208 & -0.0101 & -0.0066 &  0.0612 &  0.0161\\\\\n",
       "\tID\\_202:ID\\_202 &  0.0230 &  0.0019 & -0.0114 &  0.0143 & -0.0087\\\\\n",
       "\tID\\_203:ID\\_203 &  0.0324 & -0.0059 & -0.0212 & -0.0297 &  0.0160\\\\\n",
       "\\end{tabular}\n"
      ],
      "text/markdown": [
       "\n",
       "| <!--/--> | V2 | V3 | V4 | V5 | V6 | \n",
       "|---|---|---|---|---|---|\n",
       "| ID_198:ID_198 |  0.0237 | -0.0267 | -0.0464 | -0.0764 | -0.0322 | \n",
       "| ID_199:ID_199 | -0.0084 |  0.0153 |  0.0057 | -0.0504 |  0.0166 | \n",
       "| ID_200:ID_200 |  0.0182 |  0.0062 | -0.0389 |  0.0022 | -0.0014 | \n",
       "| ID_201:ID_201 |  0.0208 | -0.0101 | -0.0066 |  0.0612 |  0.0161 | \n",
       "| ID_202:ID_202 |  0.0230 |  0.0019 | -0.0114 |  0.0143 | -0.0087 | \n",
       "| ID_203:ID_203 |  0.0324 | -0.0059 | -0.0212 | -0.0297 |  0.0160 | \n",
       "\n",
       "\n"
      ],
      "text/plain": [
       "              V2      V3      V4      V5      V6     \n",
       "ID_198:ID_198  0.0237 -0.0267 -0.0464 -0.0764 -0.0322\n",
       "ID_199:ID_199 -0.0084  0.0153  0.0057 -0.0504  0.0166\n",
       "ID_200:ID_200  0.0182  0.0062 -0.0389  0.0022 -0.0014\n",
       "ID_201:ID_201  0.0208 -0.0101 -0.0066  0.0612  0.0161\n",
       "ID_202:ID_202  0.0230  0.0019 -0.0114  0.0143 -0.0087\n",
       "ID_203:ID_203  0.0324 -0.0059 -0.0212 -0.0297  0.0160"
      ]
     },
     "metadata": {},
     "output_type": "display_data"
    }
   ],
   "source": [
    "### R console ###\n",
    "# Load PCA data\n",
    "setwd(\"C:/Users/jmarks/OneDrive - Research Triangle Institute/Projects/HIV/vidus/troubleshooting/pca/20190725/n203\")\n",
    "options(stringsAsFactors = F)\n",
    "ea.evec <- read.table(\"ea_ld_pruned.pca.evec\", comment.char=\"#\", sep=\"\", row.names=1)\n",
    "head(ea.evec[,1:5])\n",
    "tail(ea.evec[,1:5])"
   ]
  },
  {
   "cell_type": "markdown",
   "metadata": {},
   "source": [
    "### Plot top10 PCs"
   ]
  },
  {
   "cell_type": "code",
   "execution_count": 8,
   "metadata": {
    "code_folding": [
     0
    ],
    "scrolled": true
   },
   "outputs": [
    {
     "data": {
      "image/png": "[encoded data removed]",
      "text/plain": [
       "Plot with title \"VIDUS EA\""
      ]
     },
     "metadata": {},
     "output_type": "display_data"
    },
    {
     "data": {
      "image/png": "[encoded data removed]",
      "text/plain": [
       "Plot with title \"VIDUS EA\""
      ]
     },
     "metadata": {},
     "output_type": "display_data"
    }
   ],
   "source": [
    "### R console ###\n",
    "# Function for plotting off-diagonal scatterplots\n",
    "plot.offdiag <- function(x, y, colors=label.colors){\n",
    "    #Make x and y axes equal\n",
    "    limits <- c(min(x,y), max(x,y)) * 1.3\n",
    "    par(usr = c(limits, limits))\n",
    "    points(x,y, col=colors, pch=16)\n",
    "}\n",
    "\n",
    "# Function for plotting diagonal density plots\n",
    "plot.diag <- function(x, colors=label.colors){\n",
    "    d <- density(x, bw=0.01, kernel=\"gaussian\")\n",
    "    #Update plot axes limits\n",
    "    par(usr = c(range(d$x), range(d$y)*1.3))\n",
    "    points(d$x,d$y, type=\"l\")\n",
    "    #Add PC values\n",
    "    points(x=x, y=jitter(rep(mean(d$y),times=d$n),factor=5), col=label.colors, pch=16)\n",
    "}\n",
    "\n",
    "#Run PCA and get % variance\n",
    "ea.dspace <- ea.evec[1:10] #transformed dataspace\n",
    "\n",
    "#Color label samples\n",
    "sample.names <- ea.evec[,11]\n",
    "label.colors <- rep(NA, length(sample.names))\n",
    "#label.colors[grepl(x=sample.names, pattern=\"Case\", ignore.case=T)] <- rgb(0,80,190,80, maxColorValue=255) #blue\n",
    "#label.colors[grepl(x=sample.names, pattern=\"Control\", ignore.case=T)] <- rgb(200,0,0,80, maxColorValue=255) #red\n",
    "legend.cols <- c(rgb(0,80,190,255, maxColorValue=255), rgb(255,0,0,255, maxColorValue=255))\n",
    "\n",
    "label.colors <- rgb(0,80,190,80, maxColorValue=255) #blue\n",
    "\n",
    "options(repr.plot.width=8, repr.plot.height=8)\n",
    "#Redefine outer margin\n",
    "par(oma = c(4, 1, 2, 1))\n",
    "par(oma = c(4, 1, 2, 1))\n",
    "pairs(x=ea.dspace[,1:5], panel=plot.offdiag, diag.panel=plot.diag, \n",
    "      labels=paste0(\"PC\",1:5), label.pos=0.9, cex.labels=1.8)\n",
    "par(fig=c(0, 1, 0, 1), oma=c(0, 0, 0, 0), mar=c(0, 0, 1.5, 0), new=TRUE)\n",
    "plot(0, 0, type = \"n\", bty = \"n\", xaxt = \"n\", yaxt = \"n\", main=\"VIDUS EA\", cex.main=1)\n",
    "\n",
    "par(oma = c(4, 1, 2, 1))\n",
    "pairs(x=ea.dspace[,6:10], panel=plot.offdiag, diag.panel=plot.diag, \n",
    "      labels=paste0(\"PC\",6:10), label.pos=0.9, cex.labels=1.8)\n",
    "par(fig=c(0, 1, 0, 1), oma=c(0, 0, 0, 0), mar=c(0, 0, 1.5, 0), new=TRUE)\n",
    "plot(0, 0, type = \"n\", bty = \"n\", xaxt = \"n\", yaxt = \"n\", main=\"VIDUS EA\", cex.main=1)\n",
    "#legend(\"bottom\", c(\"Cases\", \"Controls\"), \n",
    "legend(\"bottom\", c(\"VIDUS n=203\"), \n",
    "       pch=19, col=legend.cols,\n",
    "       xpd=TRUE, horiz=TRUE, inset=c(0,-0.02), \n",
    "       bty=\"n\", cex=1)\n",
    "\n",
    "\n",
    "#--------------------------------------------------------------------------------\n"
   ]
  },
  {
   "cell_type": "markdown",
   "metadata": {},
   "source": [
    "### Plot PVE\n",
    "PVE of phenotype viral load wrt observed genotype data.\n",
    "\n",
    "The phenotype file should be tab delimited. The order of the samples in the phenotype file and the genotype file (and as a consequence the PCA output file) are in the same order."
   ]
  },
  {
   "cell_type": "code",
   "execution_count": 9,
   "metadata": {
    "code_folding": [
     0
    ]
   },
   "outputs": [],
   "source": [
    "### Functions, Do not edit this cell ###\n",
    "create_pedfile <- function(phen_file, pca_file, phenotype, sex_var, covariates, study, ancestry){\n",
    "    \n",
    "    # phenotype file\n",
    "    pheno_data <- read.delim(phen_file, sep=\"\")\n",
    "    pca_data <- read.delim(pca_file, sep=\"\")\n",
    "    other_pedcols <- c(\"fid\", \"iid\", \"patid\", \"matid\", sex_var)\n",
    "    ped_width <- length(other_pedcols) + length(phenotype)\n",
    "    ped_length <- nrow(pheno_data)\n",
    "    ped_file <- data.frame(matrix(ncol=ped_width, nrow=ped_length))\n",
    "    colnames(ped_file) <- c(other_pedcols, phenotype)\n",
    "    ped_file[phenotype] <- pheno_data[phenotype]\n",
    "    ped_file[sex_var] <- pheno_data[sex_var]\n",
    "    ped_file[\"fid\"] <- pheno_data[1]\n",
    "    ped_file[\"iid\"] <- pheno_data[1]\n",
    "    # covariate file\n",
    "    num_cols <- 14 + length(covs)\n",
    "    covar_data <- data.frame(matrix(ncol=num_cols, nrow=ped_length))\n",
    "    colnames(covar_data) <- c(\"fid\", \"iid\", \"patid\", \"matid\", covs,\n",
    "                             \"PC1\", \"PC2\",\"PC3\",\"PC4\",\"PC5\",\"PC6\",\"PC7\",\"PC8\",\"PC9\",\"PC10\")\n",
    "    covar_data[,1:4] <- ped_file[, 1:4]\n",
    "    for (i in covs){\n",
    "        covar_data[,i] <- pheno_data[,i]\n",
    "    }\n",
    "    \n",
    "    covar_data[, (num_cols-9):num_cols] <- pca_data[,3:12]\n",
    "    write.table(ped_file, paste(study,\"_\", ancestry, \"_phen.ped\", sep=\"\"), sep = \"\\t\", row.names = F, quote=F)\n",
    "    write.table(covar_data, paste(study,\"_\", ancestry, \"_cov.ped\", sep=\"\"), sep = \"\\t\", row.names = F, quote=F)\n",
    "    head(ped_file)\n",
    "    #head(covar_data)\n",
    "    \n",
    "    } # end function\n",
    "\n",
    "\n",
    "regression_analysis <- function(cov_file, phen_file, phenotype_name, model_type, ancestry){\n",
    "    options(stringsAsFactors=F)\n",
    "    \n",
    "    cov_data <- read.delim(cov_file, sep=\"\")\n",
    "    phen_data <- read.delim(phen_file, sep=\"\")\n",
    "    pc_names <- paste0(\"PC\", 1:10)\n",
    "    merge_data <- merge(x=phen_data[,c(\"iid\", phenotype_name)], y=cov_data[, c(\"iid\", pc_names)], by=\"iid\")\n",
    "    \n",
    "    model.str <- paste0(phenotype_name, \"~\", paste(pc_names, collapse=\" + \")) \n",
    "    cat(\"MODEL FORMULA:\\n\\n\", model.str, \"\\n\")\n",
    "    \n",
    "    # Get model fits\n",
    "    if (model_type==\"continuous\"){\n",
    "        model_fit <- lm(formula=as.formula(model.str), data=merge_data)\n",
    "        pve_calc <- \"Mean Sq\"\n",
    "    }\n",
    "    else if (model_type==\"logistic\"){\n",
    "        model_fit <- glm(formula=as.formula(model.str), data=merge_data, family=binomial(link=\"logit\"))\n",
    "        pve_calc <- \"Deviance\"\n",
    "    }\n",
    "    \n",
    "    # Get sequential (type I) sum of squares\n",
    "    anova_model <- anova(model_fit)\n",
    "    \n",
    "    # Calculate percent variance explained and sort\n",
    "    variance_explained <- cbind(anova_model[pc_names,], \n",
    "                    PVE=round(anova_model[pc_names, pve_calc]/sum(anova_model[pc_names, pve_calc])*100, digits=2))\n",
    "    pve_sorted <- variance_explained[order(variance_explained$PVE, decreasing=T),]\n",
    "    \n",
    "    # Output regression info\n",
    "    cat(paste(\"\\n\\n================\", ancestry,  \"group ================\\n\"))\n",
    "    summary(model_fit)\n",
    "    pve_sorted\n",
    "    \n",
    "    # Percent Variance Explained Visualization\n",
    "    options(repr.plot.width=13, repr.plot.height=5)\n",
    "\n",
    "    # Set graphical parameters\n",
    "    cex.factor <- 0.9\n",
    "    barplot_ylim <- c(0, max(variance_explained$PVE)*1.2)\n",
    "\n",
    "    pv_list <- vector(length = 10)\n",
    "    total <- 0\n",
    "    for (i in 1:nrow(pve_sorted)){\n",
    "        pv_list[i] <- row.names(pve_sorted[i,])\n",
    "        total <- total + pve_sorted[i, \"PVE\"]\n",
    "        #print(total)\n",
    "        if (total >= 75) break\n",
    "    }\n",
    "\n",
    "    topPCs <- pv_list[which(pv_list != \"FALSE\")]\n",
    "    cat(\"Top PCs: \",topPCs, \"\\n\")\n",
    "    cat(paste(\"PVE:     \", total))\n",
    "\n",
    "    # Visualize PVE\n",
    "    par(mfrow=c(1,2))\n",
    "    barplot(height=variance_explained$PVE, names.arg=rownames(variance_explained), beside=T, cex.names=cex.factor, \n",
    "            col=\"red3\", border=\"red3\", ylim=barplot_ylim, \n",
    "            main=paste(ancestry,\"Percent Variance Explained\"), ylab=\"PVE\")\n",
    "    plot(cumsum(variance_explained$PVE), type=\"b\", main=paste(ancestry, \"PVE Cumulative Sum\"), ylab=\"PVE\", \n",
    "         lwd=2, col=\"red3\", pch=17, xaxt=\"n\", xlab=\"\", ylim=c(0,100))\n",
    "    axis(side=1, at=c(1:10), labels=rownames(variance_explained), cex.axis=cex.factor)\n",
    "\n",
    "    par(mfrow=c(1,2))\n",
    "    barplot(height=pve_sorted$PVE, names.arg=rownames(pve_sorted), beside=T, cex.names=cex.factor, \n",
    "            col=\"red3\", border=\"red3\", ylim=barplot_ylim, main=paste(ancestry,\"Percent Variance Explained (Sorted PCs)\"), ylab=\"PVE\")\n",
    "    plot(cumsum(pve_sorted$PVE), type=\"b\", main=paste(ancestry,\"PVE Cumulative Sum (Sorted PCs)\"), ylab=\"PVE\", \n",
    "         lwd=2, col=\"red3\", pch=17, xaxt=\"n\", xlab=\"\", ylim=c(0,100))\n",
    "    axis(side=1, at=c(1:10), labels=rownames(pve_sorted), cex.axis=cex.factor)\n",
    "}\n"
   ]
  },
  {
   "cell_type": "code",
   "execution_count": 10,
   "metadata": {},
   "outputs": [
    {
     "data": {
      "text/html": [
       "<table>\n",
       "<thead><tr><th scope=col>fid</th><th scope=col>iid</th><th scope=col>patid</th><th scope=col>matid</th><th scope=col>female</th><th scope=col>bin_vllog10_mean</th></tr></thead>\n",
       "<tbody>\n",
       "\t<tr><td>8005964579_NA0054695_93-0482</td><td>8005964579_NA0054695_93-0482</td><td>NA                          </td><td>NA                          </td><td>0                           </td><td>3                           </td></tr>\n",
       "\t<tr><td>8005964583_NA0053919_93-0005</td><td>8005964583_NA0053919_93-0005</td><td>NA                          </td><td>NA                          </td><td>0                           </td><td>3                           </td></tr>\n",
       "\t<tr><td>8005964594_NA0054312_93-0257</td><td>8005964594_NA0054312_93-0257</td><td>NA                          </td><td>NA                          </td><td>0                           </td><td>3                           </td></tr>\n",
       "\t<tr><td>8005964602_NA0054507_93-0379</td><td>8005964602_NA0054507_93-0379</td><td>NA                          </td><td>NA                          </td><td>1                           </td><td>3                           </td></tr>\n",
       "\t<tr><td>8005964603_NA0054701_93-0488</td><td>8005964603_NA0054701_93-0488</td><td>NA                          </td><td>NA                          </td><td>0                           </td><td>5                           </td></tr>\n",
       "\t<tr><td>8005964604_NA0054654_93-0109</td><td>8005964604_NA0054654_93-0109</td><td>NA                          </td><td>NA                          </td><td>0                           </td><td>2                           </td></tr>\n",
       "</tbody>\n",
       "</table>\n"
      ],
      "text/latex": [
       "\\begin{tabular}{r|llllll}\n",
       " fid & iid & patid & matid & female & bin\\_vllog10\\_mean\\\\\n",
       "\\hline\n",
       "\t 8005964579\\_NA0054695\\_93-0482 & 8005964579\\_NA0054695\\_93-0482 & NA                               & NA                               & 0                                & 3                               \\\\\n",
       "\t 8005964583\\_NA0053919\\_93-0005 & 8005964583\\_NA0053919\\_93-0005 & NA                               & NA                               & 0                                & 3                               \\\\\n",
       "\t 8005964594\\_NA0054312\\_93-0257 & 8005964594\\_NA0054312\\_93-0257 & NA                               & NA                               & 0                                & 3                               \\\\\n",
       "\t 8005964602\\_NA0054507\\_93-0379 & 8005964602\\_NA0054507\\_93-0379 & NA                               & NA                               & 1                                & 3                               \\\\\n",
       "\t 8005964603\\_NA0054701\\_93-0488 & 8005964603\\_NA0054701\\_93-0488 & NA                               & NA                               & 0                                & 5                               \\\\\n",
       "\t 8005964604\\_NA0054654\\_93-0109 & 8005964604\\_NA0054654\\_93-0109 & NA                               & NA                               & 0                                & 2                               \\\\\n",
       "\\end{tabular}\n"
      ],
      "text/markdown": [
       "\n",
       "fid | iid | patid | matid | female | bin_vllog10_mean | \n",
       "|---|---|---|---|---|---|\n",
       "| 8005964579_NA0054695_93-0482 | 8005964579_NA0054695_93-0482 | NA                           | NA                           | 0                            | 3                            | \n",
       "| 8005964583_NA0053919_93-0005 | 8005964583_NA0053919_93-0005 | NA                           | NA                           | 0                            | 3                            | \n",
       "| 8005964594_NA0054312_93-0257 | 8005964594_NA0054312_93-0257 | NA                           | NA                           | 0                            | 3                            | \n",
       "| 8005964602_NA0054507_93-0379 | 8005964602_NA0054507_93-0379 | NA                           | NA                           | 1                            | 3                            | \n",
       "| 8005964603_NA0054701_93-0488 | 8005964603_NA0054701_93-0488 | NA                           | NA                           | 0                            | 5                            | \n",
       "| 8005964604_NA0054654_93-0109 | 8005964604_NA0054654_93-0109 | NA                           | NA                           | 0                            | 2                            | \n",
       "\n",
       "\n"
      ],
      "text/plain": [
       "  fid                          iid                          patid matid female\n",
       "1 8005964579_NA0054695_93-0482 8005964579_NA0054695_93-0482 NA    NA    0     \n",
       "2 8005964583_NA0053919_93-0005 8005964583_NA0053919_93-0005 NA    NA    0     \n",
       "3 8005964594_NA0054312_93-0257 8005964594_NA0054312_93-0257 NA    NA    0     \n",
       "4 8005964602_NA0054507_93-0379 8005964602_NA0054507_93-0379 NA    NA    1     \n",
       "5 8005964603_NA0054701_93-0488 8005964603_NA0054701_93-0488 NA    NA    0     \n",
       "6 8005964604_NA0054654_93-0109 8005964604_NA0054654_93-0109 NA    NA    0     \n",
       "  bin_vllog10_mean\n",
       "1 3               \n",
       "2 3               \n",
       "3 3               \n",
       "4 3               \n",
       "5 5               \n",
       "6 2               "
      ]
     },
     "metadata": {},
     "output_type": "display_data"
    },
    {
     "name": "stdout",
     "output_type": "stream",
     "text": [
      "MODEL FORMULA:\n",
      "\n",
      " bin_vllog10_mean~PC1 + PC2 + PC3 + PC4 + PC5 + PC6 + PC7 + PC8 + PC9 + PC10 \n",
      "\n",
      "\n",
      "================ EUR group ================\n",
      "Top PCs:  PC1 PC5 PC7 \n",
      "PVE:      81.11"
     ]
    },
    {
     "data": {
      "image/png": "[encoded data removed]",
      "text/plain": [
       "Plot with title \"EUR PVE Cumulative Sum\""
      ]
     },
     "metadata": {},
     "output_type": "display_data"
    },
    {
     "data": {
      "image/png": "[encoded data removed]",
      "text/plain": [
       "Plot with title \"EUR PVE Cumulative Sum (Sorted PCs)\""
      ]
     },
     "metadata": {},
     "output_type": "display_data"
    }
   ],
   "source": [
    "### R ###\n",
    "\n",
    "## This code should be run in conjunction with the function from above ##\n",
    "\n",
    "## All of the data should be in the working directory ##\n",
    "setwd(\"C:/Users/jmarks/OneDrive - Research Triangle Institute/Projects/HIV/vidus/troubleshooting/pca/20190725/n203\")\n",
    "\n",
    "study <- \"VIDUS\" # ALL_CAPS\n",
    "ancestry <- \"EUR\" # EUR or AFR\n",
    "phenotype <- \"bin_vllog10_mean\" # phenotype label in of header of phenotype file\n",
    "sex_var <-  \"female\"   # sex label in  header of phenotype file\n",
    "age_var <- \"ageatint\"  # age label in  header of phenotype file\n",
    "phen_file <- \"vidus_n203_final_binned.tsv\" # name of phenotype file\n",
    "pca_file <- \"ea_ld_pruned_top10_eigenvecs.txt\" # name of top 10 eigvec file\n",
    "model_type <- \"continuous\" # continuous or logistic\n",
    "\n",
    "################################################################################\n",
    "################################################################################\n",
    "covs <- c(sex_var, age_var) \n",
    "cov2 <- paste(study, ancestry, \"cov.ped\", sep=\"_\")\n",
    "phen2 <- paste(study, ancestry, \"phen.ped\", sep=\"_\")\n",
    "\n",
    "create_pedfile(phen_file=phen_file, pca_file=pca_file, phenotype=phenotype,\n",
    "               sex_var=sex_var, covariates=cov_file, study=study, ancestry=ancestry)\n",
    "regression_analysis(cov_file=cov2, phen_file=phen2,\n",
    "                    phenotype_name=phenotype, model_type=model_type,\n",
    "                    ancestry=ancestry)"
   ]
  },
  {
   "cell_type": "markdown",
   "metadata": {},
   "source": [
    "### Table of eigenvalues\n",
    "| EV1   | EV2   | EV3   | EV4   | EV5   | EV6   | EV7   | EV8   | EV9   | EV10  |\n",
    "|-------|-------|-------|-------|-------|-------|-------|-------|-------|-------|\n",
    "| 1.451 | 1.264 | 1.192 | 1.172 | 1.139 | 1.132 | 1.126 | 1.117 | 1.112 | 1.107 |"
   ]
  }
 ],
 "metadata": {
  "kernelspec": {
   "display_name": "R",
   "language": "R",
   "name": "ir"
  },
  "language_info": {
   "codemirror_mode": "r",
   "file_extension": ".r",
   "mimetype": "text/x-r-source",
   "name": "R",
   "pygments_lexer": "r",
   "version": "3.5.1"
  },
  "toc": {
   "nav_menu": {},
   "number_sections": true,
   "sideBar": true,
   "skip_h1_title": false,
   "toc_cell": false,
   "toc_position": {},
   "toc_section_display": "block",
   "toc_window_display": false
  }
 },
 "nbformat": 4,
 "nbformat_minor": 2
}
