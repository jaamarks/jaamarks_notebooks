{
 "cells": [
  {
   "cell_type": "markdown",
   "metadata": {},
   "source": [
    "# VIDUS HIV Acquisition GWAS: baseline (1df) & G$\\times$Sex (2df)\n",
    "__Author__: Jesse Marks <br>\n",
    "**GitHub Issue**: [42](https://github.com/RTIInternational/bioinformatics/issues/42)\n",
    "\n",
    "This document revisits the data processing on the [VIDUS](https://www.bccsu.ca/vidus/) EA data set. In particular, we are attempting to reproduce the results that had originally been processed by Nathan Gaddis and subsequently Fang Fang. For any general or specific questions regarding this protocol, speak with Eric O. Johnson.\n",
    "\n",
    "\n",
    "__Genotype Data Location__: `s3:rti-hiv/vidus/data/genotype/{imputed,observed}`\n",
    "\n",
    "\n",
    "**Note**: 7 samples were removed due to discrepant sex reports."
   ]
  },
  {
   "cell_type": "markdown",
   "metadata": {},
   "source": [
    "## Software and tools\n",
    "The software and tools used for processing these data are\n",
    "\n",
    "* [Amazon Elastic Compute Cloud(EC2)](https://aws.amazon.com/ec2/)\n",
    "* GNU bash version 4.1.2\n",
    "* [PLINK v1.9 beta 3.45](https://www.cog-genomics.org/plink/)\n",
    "* [EIGENSOFT v4.2](https://www.hsph.harvard.edu/alkes-price/software/)\n",
    "* [R v3.2.3](https://www.r-project.org/)\n",
    "* [ProbABEL](https://github.com/GenABEL-Project/ProbABEL)"
   ]
  },
  {
   "cell_type": "markdown",
   "metadata": {},
   "source": [
    "## Variable information\n",
    "**NGC Protocol Specifications:**\n",
    "* OAall (coded 1 for all controls, 2 for OA cases)\n",
    "* Sex (coded 1 for female, 2 for male)\n",
    "* Any additional covariates (coded 1 for no, 2 for yes)\n",
    "* Age (years)\n",
    "\n",
    "## Data Description\n",
    "### genotype \n",
    "`wc -l ea_chr_all.fam` <br>\n",
    "* 941 \n",
    "\n",
    "`wc -l ea_chr_all.bim` <br>\n",
    "* 700,727 \n",
    "\n",
    "### phenotype data \n",
    "Referring to the [VIDUS GitHub issue #42](https://github.com/RTIInternational/bioinformatics/issues/42), on Nov 19, 2018 Eric O. Johnson stated:\n",
    "\n",
    "```css\n",
    "\n",
    "The most recently complete source phenotype file is GWAS-Cohort-n938_passed_g_qc_only.dta. From this file and merging with VL & ART files, I created files for specific analyses:\n",
    "GWAS for VL: gwas_vl_art_19feb2018.csv\n",
    "GWAS for Acquisition: GWAS-Cohort-n938_passed _g_qc_HIV status_baseline.dta\n",
    "GWAS heroin Cases: GWAS-Cohort-n938_passed_g_qc_only_CASE.dta\n",
    "GWAS FOU: GWAS-Cohort-n938_passed_g_qc_only_FOU.dta\n",
    "```\n",
    "\n",
    "**variables**:\n",
    "```\n",
    "gwas_code,coh,int_date,DOB_YYYY,female,inj_ever,inj_l6m,borrow_ever,borrow_l6m,drug_noninj_ever,drug_noninj_l6m,num_partners2_ever,num_partners2_l6m,num_partners5_ever,num_partners5_l6m,sextrade_ever,sextrade_l6m,std_ever,std_l6m,anal_ever,anal_l6m,sex_hiv_ever,sex_hiv_l6m,hiv\n",
    "```\n",
    "\n",
    "* There are two samples that passed QC were not included in the phenotype data: 795, 1059\n",
    "    - these respondents did not complete the interview/survey but provided blood\n",
    "    \n",
    "* There are 35 additional phenotype records missing HIV status, only 3 of these are among those with QC passing genotype data: 793, 819, 830.\n",
    "    - Response from M-J (2-24-18) is that these are all HIV+\n",
    "    \n",
    "* Seven samples were removed for sex discrepancies\n",
    "\n",
    "```css\n",
    "Based on a comparison of s3://rti-midas-data/studies/vidus/phenotypes/unprocessed/GWAS-Cohort-n938_passed_g_qc_only.csv and s3://rti-midas-data/studies/vidus/observed/unprocessed/Data_Transfer_12SEP2017/Reports/QC_Reports/Eric_Johnson_OmniExpress_re-analysis_A1_Manifest_QC-REPORT_AUG2017.xlsx\n",
    "the following individuals that passed genotype QC have discrepant sexes and should be removed:\n",
    "\n",
    "8005964966_NA0054149_93-0143\n",
    "8005964978_NA0054150_93-0144\n",
    "8015124413_NA0055272_93-0623\n",
    "8015124401_NA0055273_93-0624\n",
    "8015124354_NA0055285_93-0628\n",
    "8005965380_NA0055556_93-0720\n",
    "8005964955_NA0056463_93-1068\n",
    "```\n",
    "    \n",
    "### file to use\n",
    "We will use the file at the location: `rti-midas-data/studies/vidus/phenotypes/unprocessed/GWAS-Cohort-n938_passed_g_qc_only_HIV status_baseline.csv` which is for the baseline HIV acquisition GWAS. This data set is filtered down to only include:\n",
    "\n",
    "```\n",
    "gwas_code,female,hiv,ageatint\n",
    "1,0,0,55\n",
    "2,0,1,59\n",
    "3,0,1,55\n",
    "4,0,1,54\n",
    "```\n",
    "**Note**: that Jesse Marks had one more person pass genotype QC than Nathan Gaddis did in his original genotype QC of VIDUS. This subject is `8005964586_NA0054435_93-0328`. According to the original data set `GWAS-Data.xlsx` this subject is negative for HIV status. We will manually enter this line in our GWAS phenotype file:\n",
    "\n",
    "```\n",
    "gwas_code,female,hiv,ageatint\n",
    "0328,0,0,64\n",
    "```\n",
    "\n",
    "We will rename this phenotype file to `20190211-GWAS-Cohort-n939_passed_g_qc_only-HIV_status_baseline.csv`"
   ]
  },
  {
   "cell_type": "markdown",
   "metadata": {},
   "source": [
    "# Download Data and Create Directory Structure"
   ]
  },
  {
   "cell_type": "code",
   "execution_count": null,
   "metadata": {},
   "outputs": [],
   "source": [
    "## bash ##\n",
    "\n",
    "### create directory structure ###\n",
    "genoD=/shared/jmarks/hiv/vidus/genotype/observed/final/002 # location of QC'ed genotype data\n",
    "gwasD=/shared/jmarks/hiv/vidus/gwas # base processing dir\n",
    "phenoD=/shared/jmarks/hiv/vidus/phenotype # base phenotype dir\n",
    "eig=$phenoD/processing/eig # location of PCA processing dir\n",
    "ancestry=\"ea\"\n",
    "study=vidus\n",
    "mkdir -p $genoD $gwasD $phenoD/{final,processing,unprocessed} $eig/results \n",
    "\n",
    "### Download data & unzip ###\n",
    "cd /shared/jmarks/hiv/vidus/phenotype/unprocessed\n",
    "aws s3 cp s3://rti-midas-data/studies/vidus/phenotypes/unprocessed/GWAS-Cohort-n938_passed_g_qc_only_HIV status_baseline.csv .\n",
    "aws s3 cp s3://rti-midas-data/studies/vidus/phenotypes/unprocessed/GWAS-Data.xlsx .\n",
    "aws s3 cp s3://rti-midas-data/studies/vidus/phenotypes/unprocessed/GWAS-Dictionary.pdf ."
   ]
  },
  {
   "cell_type": "markdown",
   "metadata": {},
   "source": [
    "# Prepare files for Analysis\n",
    "Note that we follow the process outlined in the NGC protocol for preperations of the phenotype file, even if we don't ultimately use RVTESTS for the analysis. This is so that the phenotype processing steps are consistent."
   ]
  },
  {
   "cell_type": "markdown",
   "metadata": {},
   "source": [
    "## Phenotype processing\n",
    "Create phenotype files for GWAS. We follow the instructions of the NGC protocol distributed by Eric Johnson. This protocol mandates that we create a phenotype file and a covariate file in PED format. See the NGC protocol for more information on this format. There are several initial filters and processing steps to be applied to the subject data. \n",
    "\n",
    "* extract ids of subjects passing genotype QC\n",
    "* phenotype variables of interest\n",
    "    - `gwas_code`, `DOB_YYYY`, `female`, `hiv`\n",
    "* Map sex coding and hiv status per the NGC protocol, to 1=female & 2=male. Currently, the mapping 0's and 1's.\n",
    "\n",
    "### Data wrangling\n",
    "Manually alter file `GWAS-Cohort-n938_passed_g_qc_only_HIV status_baseline.csv` to add the sample `8005964586_NA0054435_93-0328`. "
   ]
  },
  {
   "cell_type": "code",
   "execution_count": null,
   "metadata": {},
   "outputs": [],
   "source": [
    "# copy file from unprocessed to processing dir\n",
    "cp $phenoD/unprocessed/GWAS-Cohort-n938_passed_g_qc_only_HIV\\ status_baseline.csv\\\n",
    "    $phenoD/processing/vidus.phenotype.n939.hiv.baseline.csv\n",
    "\n",
    "# add sample \"0328 0 0 64\" to the file with vim\n",
    "wc -l vidus.phenotype.n939.hiv.baseline.csv\n",
    "\"\"\"940 vidus.phenotype.n939.hiv.baseline.csv\"\"\"\n",
    "\n",
    "# add trailing zeros to entries in phenotype gwas_code to match genotype data code\n",
    "awk -F \",\" 'NR>=2{ $1 = sprintf(\"%04d\", $1) } {print $1,$2,$3,$4}' \\\n",
    "    vidus.phenotype.n939.hiv.baseline.csv  > vidus.ea.phenotype_table\n",
    "\n",
    "# map sex\n",
    "awk '{if ($2==0) {$2=2}}1' vidus.ea.phenotype_table > vidus.ea.phenotype_table.sex_mapped\n",
    "\n",
    "# map hiv status (2=case)\n",
    "awk 'NR>=2{if ($3==1) {$3=2} else{$3=1}}1' vidus.ea.phenotype_table.sex_mapped > vidus.ea.phenotype_table.sex+hiv_mapped"
   ]
  },
  {
   "cell_type": "markdown",
   "metadata": {},
   "source": [
    "Filter down to subjects with both genotype data (in \\*fam plink file) and phenotype data. Note that since these phenotype data had already been processed by Eric Johnson and Nathan Gaddis, the samples list should be equal other than two samples that passed QC were not included in the phenotype data: 795, 1059\n",
    "\n",
    "These respondents did not complete the interview/survey but provided blood. This is detailed in file `Phenotype.QC_recoding.documentation.pdf` that Eric Johnson outlined."
   ]
  },
  {
   "cell_type": "code",
   "execution_count": null,
   "metadata": {},
   "outputs": [],
   "source": [
    "### Bash ###\n",
    "\n",
    "# get IDs of subjects with genotype data\n",
    "cut -d ' ' -f2 $genoD/ea_chr_all.fam > $phenoD/processing/$study.ea.genotype.IDs\n",
    "\n",
    "# if subject has genotype data, then keep\n",
    "# EAs\n",
    "#awk 'NR==FNR{map[substr($1 , length($1) -3 )]=$1;next}  FNR>=2{$1= map[$1]}1' \\\n",
    "#awk 'NR==FNR{map[substr($1 , length($1) -3 )]=$1;next}  FNR>=2{ if ($1 in map) {$1= map[$1]}}1' \\\n",
    "awk 'NR==FNR{map[substr($1 , length($1) -3 )]=$1;next} FNR==1{print$0} FNR>=2{ if ($1 in map) {$1 = map[$1]; print $0}}'  \\\n",
    "    vidus.ea.genotype.IDs vidus.ea.phenotype_table.sex+hiv_mapped >\\\n",
    "    $study.ea.phenotype_table.sex+hiv_mapped.passed_qc\n",
    "                    \n",
    "\n",
    "wc -l $study.ea.phenotype_table.sex+hiv_mapped.passed_qc\n",
    "\"\"\"\n",
    "939 vidus.ea.phenotype_table.sex+hiv_mapped.passed_qc\n",
    "\"\"\"\n",
    "\n",
    "\n",
    "## generate new set of genotype data \n",
    "awk 'NR>=2{print $1,$1}' $phenoD/processing/$study.ea.phenotype_table.sex+hiv_mapped.passed_qc > \\\n",
    "    $phenoD/processing/final_ids\n",
    "\n",
    "/shared/bioinformatics/software/third_party/plink-1.90-beta-4.10-x86_64/plink \\\n",
    "    --noweb \\\n",
    "    --bfile $genoD/${ancestry}_chr_all \\\n",
    "    --keep $phenoD/processing/final_ids \\\n",
    "    --make-bed \\\n",
    "    --out $eig/$study.genotypes"
   ]
  },
  {
   "cell_type": "markdown",
   "metadata": {},
   "source": [
    "**Note**: there was one subject that did not have genotype data.\n",
    "\n",
    "Sample `8005964634_NA0054172_93-0164` was removed during the ibs_gt_0.9_ibd_gt_0.4 filter. "
   ]
  },
  {
   "cell_type": "code",
   "execution_count": null,
   "metadata": {},
   "outputs": [],
   "source": [
    "#copy to local machine \n",
    "\n",
    "cd /home/jmarks/Desktop/Projects/HIV/vidus/phenotype\n",
    "scp -i ~/.ssh/gwas_rsa ec2-user@34.206.166.72:/shared/jmarks/hiv/vidus/phenotype/processing/vidus.ea.phenotype_table.sex+hiv_mapped.passed_qc ."
   ]
  },
  {
   "cell_type": "code",
   "execution_count": 42,
   "metadata": {},
   "outputs": [
    {
     "name": "stdout",
     "output_type": "stream",
     "text": [
      "female: 1 \n",
      "male: 2\n",
      "\n",
      "control: 1 \n",
      "case: 2\n",
      "--------------------------------------------------------------------------------\n",
      "\n",
      "\n",
      "\n",
      "female/male count"
     ]
    },
    {
     "data": {
      "text/plain": [
       "\n",
       "  1   2 \n",
       "229 709 "
      ]
     },
     "metadata": {},
     "output_type": "display_data"
    },
    {
     "name": "stdout",
     "output_type": "stream",
     "text": [
      "\n",
      "\n",
      "\n",
      "\n",
      "EA: ages"
     ]
    },
    {
     "data": {
      "text/plain": [
       "\n",
       "18 19 20 21 22 23 24 25 26 27 28 29 30 31 32 33 34 35 36 37 38 39 40 41 42 43 \n",
       " 1  3  2  5  6  7  6  9 10 10 10 19  7 16 18 17 18 16 11 21 21 20 22 17 19 17 \n",
       "44 45 46 47 48 49 50 51 52 53 54 55 56 57 58 59 60 61 62 63 64 65 66 67 68 70 \n",
       "19 37 30 28 25 37 36 40 45 33 34 39 30 35 24 21 18 18 11  9 13  7  8  5  3  2 \n",
       "71 \n",
       " 3 "
      ]
     },
     "metadata": {},
     "output_type": "display_data"
    },
    {
     "name": "stdout",
     "output_type": "stream",
     "text": [
      "\n",
      "\n",
      "EA: Case/control"
     ]
    },
    {
     "data": {
      "text/plain": [
       "\n",
       "  1   2 \n",
       "685 253 "
      ]
     },
     "metadata": {},
     "output_type": "display_data"
    },
    {
     "name": "stdout",
     "output_type": "stream",
     "text": [
      "Head of EA table"
     ]
    },
    {
     "data": {
      "text/html": [
       "<table>\n",
       "<thead><tr><th scope=col>gwas_code</th><th scope=col>female</th><th scope=col>hiv</th><th scope=col>ageatint</th></tr></thead>\n",
       "<tbody>\n",
       "\t<tr><td>8005965211_NA0055425_93-0001</td><td>2                           </td><td>1                           </td><td>55                          </td></tr>\n",
       "\t<tr><td>8005964642_NA0053910_93-0002</td><td>2                           </td><td>2                           </td><td>59                          </td></tr>\n",
       "\t<tr><td>8005964654_NA0053915_93-0003</td><td>2                           </td><td>2                           </td><td>55                          </td></tr>\n",
       "\t<tr><td>8005964666_NA0053918_93-0004</td><td>2                           </td><td>2                           </td><td>54                          </td></tr>\n",
       "\t<tr><td>8005964583_NA0053919_93-0005</td><td>2                           </td><td>2                           </td><td>40                          </td></tr>\n",
       "\t<tr><td>8005964584_NA0053917_93-0006</td><td>1                           </td><td>1                           </td><td>35                          </td></tr>\n",
       "</tbody>\n",
       "</table>\n"
      ],
      "text/latex": [
       "\\begin{tabular}{r|llll}\n",
       " gwas\\_code & female & hiv & ageatint\\\\\n",
       "\\hline\n",
       "\t 8005965211\\_NA0055425\\_93-0001 & 2                                & 1                                & 55                              \\\\\n",
       "\t 8005964642\\_NA0053910\\_93-0002 & 2                                & 2                                & 59                              \\\\\n",
       "\t 8005964654\\_NA0053915\\_93-0003 & 2                                & 2                                & 55                              \\\\\n",
       "\t 8005964666\\_NA0053918\\_93-0004 & 2                                & 2                                & 54                              \\\\\n",
       "\t 8005964583\\_NA0053919\\_93-0005 & 2                                & 2                                & 40                              \\\\\n",
       "\t 8005964584\\_NA0053917\\_93-0006 & 1                                & 1                                & 35                              \\\\\n",
       "\\end{tabular}\n"
      ],
      "text/markdown": [
       "\n",
       "gwas_code | female | hiv | ageatint | \n",
       "|---|---|---|---|---|---|\n",
       "| 8005965211_NA0055425_93-0001 | 2                            | 1                            | 55                           | \n",
       "| 8005964642_NA0053910_93-0002 | 2                            | 2                            | 59                           | \n",
       "| 8005964654_NA0053915_93-0003 | 2                            | 2                            | 55                           | \n",
       "| 8005964666_NA0053918_93-0004 | 2                            | 2                            | 54                           | \n",
       "| 8005964583_NA0053919_93-0005 | 2                            | 2                            | 40                           | \n",
       "| 8005964584_NA0053917_93-0006 | 1                            | 1                            | 35                           | \n",
       "\n",
       "\n"
      ],
      "text/plain": [
       "  gwas_code                    female hiv ageatint\n",
       "1 8005965211_NA0055425_93-0001 2      1   55      \n",
       "2 8005964642_NA0053910_93-0002 2      2   59      \n",
       "3 8005964654_NA0053915_93-0003 2      2   55      \n",
       "4 8005964666_NA0053918_93-0004 2      2   54      \n",
       "5 8005964583_NA0053919_93-0005 2      2   40      \n",
       "6 8005964584_NA0053917_93-0006 1      1   35      "
      ]
     },
     "metadata": {},
     "output_type": "display_data"
    },
    {
     "data": {
      "image/png": "[encoded data removed]",
      "text/plain": [
       "Plot with title \"Histogram of ea.data$ageatint\""
      ]
     },
     "metadata": {},
     "output_type": "display_data"
    }
   ],
   "source": [
    "### R console ###\n",
    "library(MASS)\n",
    "options(repr.plot.width=10, repr.plot.height=17)\n",
    "# note that I copied over the phenotype data to my local machine to produce the plots\n",
    "setwd('C:/Users/jmarks/OneDrive - Research Triangle Institute/Projects/HIV/vidus/phenotype')\n",
    "\n",
    "ea.data <- read.table(\"vidus.ea.phenotype_table.sex+hiv_mapped.passed_qc\", header=T, colClasses = \n",
    "                      c(\"character\", rep(\"double\",  3)))\n",
    "\n",
    "cat(\"female: 1\", \"\\nmale: 2\\n\\n\")\n",
    "cat(\"control: 1\", \"\\ncase: 2\\n\")\n",
    "cat(\"--------------------------------------------------------------------------------\\n\\n\")\n",
    "cat(\"\\n\\nfemale/male count\")\n",
    "table(ea.data$female)\n",
    "cat(\"\\n\\n\\n\\nEA: ages\")\n",
    "table(ea.data$ageatint)\n",
    "cat(\"\\n\\nEA: Case/control\")\n",
    "table(ea.data$hiv)\n",
    "cat(\"Head of EA table\")\n",
    "head(ea.data)\n",
    "ylimit = max(table(ea.data$ageatint))*3 \n",
    "hist(ea.data$ageatint, ylim=c(0,ylimit), breaks=20)"
   ]
  },
  {
   "cell_type": "markdown",
   "metadata": {},
   "source": [
    "### PCA (EIGENSTRAT)\n",
    "In the GWAS model, one should control from ancestry substructure. This is achieved by including the top genotype principal component as covariates in the GWAS statistical model. The software EIGENSTRAT can be used to perform the PCA. It is run on LD-pruned observed autosome genotypes for each ancestry group. \n",
    "\n",
    "#### Remove high-LD region variants"
   ]
  },
  {
   "cell_type": "code",
   "execution_count": null,
   "metadata": {},
   "outputs": [],
   "source": [
    "## Remove high-LD region variants ##\n",
    "perl -lane 'if (($F[0]==5 && $F[3] >= 43964243 && $F[3] <= 51464243) || ($F[0]==6 && $F[3] >= 24892021 && $F[3] <= 33392022) || ($F[0]==8 && $F[3] >= 7962590 && $F[3] <= 11962591) || ($F[0]==11 && $F[3] >= 45043424 && $F[3] <= 57243424)) { print $F[1].\"\\n\"; }'\\\n",
    "    $eig/$study.genotypes.bim > $eig/$study.genotypes.high_ld_regions.remove\n",
    "            \n",
    "\n",
    "# Remove SNPs in known high-LD regions\n",
    "/shared/bioinformatics/software/third_party/plink-1.90-beta-4.10-x86_64/plink \\\n",
    "    --noweb \\\n",
    "    --bfile $eig/$study.genotypes \\\n",
    "    --exclude $eig/$study.genotypes.high_ld_regions.remove \\\n",
    "    --make-bed \\\n",
    "    --out $eig/$study.genotypes.high_ld_regions_removed\n",
    "\n",
    " wc -l $eig/*bim\n",
    "\"\"\"\n",
    "700727 /shared/jmarks/hiv/vidus/phenotype/processing/eig/vidus.genotypes.bim\n",
    "690233 /shared/jmarks/hiv/vidus/phenotype/processing/eig/ea_high_ld_regions_removed.bim\n",
    "\"\"\""
   ]
  },
  {
   "cell_type": "markdown",
   "metadata": {},
   "source": [
    "#### Linkage disequilibrium pruning\n",
    "Linkage disequilibrium (LD) pruning eliminates a large degree of redundancy in the data and reduces the influence of chromosomal artifacts. The objective of LD pruning is to select a subset of variants based off of LD such that the variants in the subset are indepdendent. This filtering will not carry forward to the final processed results, but this step improves the quality of EIGENSTRAT calculations. Consequently, the LD pruned data will be used as input for those calculations.\n",
    "\n",
    "LD pruning is implemented using [PLINK --indep-pairwise](https://www.cog-genomics.org/plink/1.9/ld#indep)."
   ]
  },
  {
   "cell_type": "code",
   "execution_count": null,
   "metadata": {},
   "outputs": [],
   "source": [
    "### EC2 console ###\n",
    "\n",
    "# note only perform on autosomes\n",
    "for chr in {1..22}; do\n",
    "    /shared/bioinformatics/software/scripts/qsub_job.sh \\\n",
    "        --job_name $study.${ancestry}.chr${chr}.ld_prune \\\n",
    "        --script_prefix $eig/${ancestry}_chr${chr}_ld_prune \\\n",
    "        --mem 3 \\\n",
    "        --nslots 2 \\\n",
    "        --program /shared/bioinformatics/software/third_party/plink-1.90-beta-4.10-x86_64/plink \\\n",
    "            --noweb \\\n",
    "            --memory 3000 \\\n",
    "            --bfile $eig/$study.genotypes.high_ld_regions_removed \\\n",
    "            --indep-pairwise 1500 150 0.2 \\\n",
    "            --chr ${chr} \\\n",
    "            --out $eig/${ancestry}_chr${chr}_ld_pruned\n",
    "done\n",
    "\n",
    "# Merge *prune.in files\n",
    "cat $eig/${ancestry}_chr*_ld_pruned.prune.in > $eig/${ancestry}_chr_all_ld_pruned.prune.in\n",
    "\n",
    "# Create new PLINK filesets with only lD pruned variants\n",
    "/shared/bioinformatics/software/third_party/plink-1.90-beta-4.10-x86_64/plink \\\n",
    "    --noweb \\\n",
    "    --bfile $eig/$study.genotypes.high_ld_regions_removed \\\n",
    "    --extract $eig/${ancestry}_chr_all_ld_pruned.prune.in \\\n",
    "    --make-bed \\\n",
    "    --out $eig/$study.genotypes.ld_pruned\n",
    "\n",
    "# Clean up\n",
    "#rm $eig/*${ancestry}*ld_pruned.{prune.in,prune.out,log}\n",
    "#rm $eig/*${ancestry}*ld_prune*qsub*\n",
    "#rm $eig/*${ancestry}*high_ld_regions*\n",
    "#rm $eig/*${ancestry}*chr23_ld_pruned.hh\n",
    "\n",
    "wc -l $eig/*bim\n",
    "\"\"\" \n",
    "  700727 /shared/jmarks/hiv/vidus/phenotype/processing/eig/vidus.genotypes.bim\n",
    "  690233 /shared/jmarks/hiv/vidus/phenotype/processing/eig/vidus.genotypes.high_ld_regions_removed.bim\n",
    "  124435 /shared/jmarks/hiv/vidus/phenotype/processing/eig/vidus.genotypes.ld_pruned.bim\n",
    "\"\"\""
   ]
  },
  {
   "cell_type": "markdown",
   "metadata": {},
   "source": [
    "#### Rename BIM/FAM file IDs\n",
    "Variant IDs in the PLINK `bim` file have the potential issue of being too long if encoded using the 1000 Genomes Phase 3 IMPUTE2 format. This will cause smartpca to throw an error. To resolve this the IDs are replaced by numeric values. The family IDs in the PLINK `fam` files similarly throw an error in `smartpca` should the number of characters in the IDs be more than 39. For this reason, we will apply an analogous renaming convention."
   ]
  },
  {
   "cell_type": "code",
   "execution_count": null,
   "metadata": {},
   "outputs": [],
   "source": [
    "### EC2 console ###\n",
    "\n",
    "# Count ID lengths greater than 39 characters\n",
    "# an example of an rsID that is too long is the following:\n",
    "# rs141233280:245974067:GAAAGACGCACTTTTC:G\n",
    "awk '{ if(length($1)+length($2)>39){print $2} }' $eig/$study.genotypes.ld_pruned.fam | wc -l\n",
    "awk '{ if(length($2)>39){print $2} }' $eig/$study.genotypes.ld_pruned.bim | wc -l\n",
    "\n",
    "# output is\n",
    "\"\"\"\n",
    "941\n",
    "0\n",
    "\"\"\"\n",
    "\n",
    "## Rename fam file IDs\n",
    "awk '{$1=\"ID_\"NR; print $0}' $eig/$study.genotypes.ld_pruned.fam > $eig/$study.genotypes.ld_pruned.renamed.fam\n",
    "awk '{ if(length($1)+length($2)>39){print $2} }' $eig/$study.genotypes.ld_pruned.renamed.fam | wc -l\n",
    "\"0\""
   ]
  },
  {
   "cell_type": "markdown",
   "metadata": {},
   "source": [
    "**Note** we did not have to rename the bim files for this case."
   ]
  },
  {
   "cell_type": "markdown",
   "metadata": {},
   "source": [
    "#### Assign Cases and Controls\n",
    "Modify the fam file to include case/control status. According to PLINK,\n",
    "\n",
    "`Phenotype value ('1' = control, '2' = case, '-9'/'0'/non-numeric = missing data if case/control)`\n",
    "\n",
    "The NGC protocol is consistent with this assignment."
   ]
  },
  {
   "cell_type": "code",
   "execution_count": null,
   "metadata": {},
   "outputs": [],
   "source": [
    "phenofile=\"vidus.ea.phenotype_table.sex+hiv_mapped.passed_qc\"\n",
    "\n",
    "## extract the IDs of controls \n",
    "tail -n +2 $phenoD/processing/$phenofile |\\\n",
    "    awk '{ if ($3==1) {print $1}}' > $eig/$ancestry.controls.ids\n",
    "\n",
    "# Modify FAM file to include case/control status\n",
    "awk 'NR==FNR{map[$1] = $1; next} {if($2 in map) {$6=1} else {$6=2}} {print $0} ' \\\n",
    "    $eig/$ancestry.controls.ids $eig/$study.genotypes.ld_pruned.renamed.fam >\\\n",
    "    $eig/$study.genotypes.ld_pruned.renamed.case+control.fam"
   ]
  },
  {
   "cell_type": "markdown",
   "metadata": {},
   "source": [
    "#### Run EIGENSTRAT\n",
    "__NOTE__: For `smartpca` to run, the BIM and FAM file IDs need to be less than 39 characters in length. Often this is not a problem, but with a BIM file that has IDs renamed to the 1000 Genomes Phase 3 format, the IDs for indels can exceed the character limit. Also, the EIGENSOFT `bin` directory should be part of the PATH variable.\n",
    "\n",
    "The `smartpca.pl` program documentation is shown below:\n",
    "\n",
    "DOCUMENTATION of `smartpca.pl` program:\n",
    "\n",
    "This program calls the smartpca program (see ../POPGEN/README). \n",
    "For this to work, the bin directory containing smartpca MUST be in your path. \n",
    "See `./example.perl` for a toy example.\n",
    "```\n",
    "../bin/smartpca.pl \n",
    "-i example.geno  : genotype file in any format (see ../CONVERTF/README)\n",
    "-a example.snp   : snp file in any format (see ../CONVERTF/README)\n",
    "-b example.ind   : indiv file in any format (see ../CONVERTF/README)\n",
    "-k k             : (Default is 10) number of principal components to output\n",
    "-o example.pca   : output file of principal components.  Individuals removed\n",
    "                   as outliers will have all values set to 0.0 in this file.\n",
    "-p example.plot  : prefix of output plot files of top 2 principal components.\n",
    "                   (labeling individuals according to labels in indiv file)\n",
    "-e example.eval  : output file of all eigenvalues\n",
    "-l example.log   : output logfile\n",
    "-m maxiter       : (Default is 5) maximum number of outlier removal iterations.\n",
    "                   To turn off outlier removal, set -m 0.\n",
    "-t topk          : (Default is 10) number of principal components along which \n",
    "                   to remove outliers during each outlier removal iteration.\n",
    "-s sigma         : (Default is 6.0) number of standard deviations which an\n",
    "                   individual must exceed, along one of topk top principal\n",
    "           components, in order to be removed as an outlier.\n",
    "\n",
    "OPTIONAL FLAGS:\n",
    "-w poplist       : compute eigenvectors using populations in poplist only,\n",
    "                   where poplist is an ASCII file with one population per line\n",
    "-y plotlist      : output plot will include populations in plotlist only, \n",
    "                   where plotlist is an ASCII file with one population per line\n",
    "-z badsnpname    : list of SNPs which should be excluded from the analysis\n",
    "-q YES/NO        : If set to YES, assume that there is a single population and\n",
    "                   the population field contains real-valued phenotypes.\n",
    "           (Corresponds to qtmode parameter in smartpca program.)\n",
    "           The default value for this parameter is NO.\n",
    "\n",
    "Estimated running time of the smartpca program is \n",
    "  2.5e-12 * nSNP * NSAMPLES^2 hours            if not removing outliers.\n",
    "  2.5e-12 * nSNP * NSAMPLES^2 hours * (1+m)    if m outlier removal iterations.\n",
    "Thus, under the default of up to 5 outlier removal iterations, running time is \n",
    "  up to 1.5e-11 * nSNP * NSAMPLES^2 hours.```"
   ]
  },
  {
   "cell_type": "code",
   "execution_count": null,
   "metadata": {},
   "outputs": [],
   "source": [
    "### EC2 console ###\n",
    "famfile=\"$eig/vidus.genotypes.ld_pruned.renamed.case+control.fam\"\n",
    "bimfile=\"$eig/$study.genotypes.ld_pruned.bim\"\n",
    "bedfile=\"$eig/$study.genotypes.ld_pruned.bed\"\n",
    "\n",
    "# Run smartpca\n",
    "/shared/bioinformatics/software/scripts/qsub_job.sh \\\n",
    "    --job_name $study.smartpca \\\n",
    "    --script_prefix $eig/smartpca.$study.${ancestry} \\\n",
    "    --mem 7.5 \\\n",
    "    --nslots 1 \\\n",
    "    --priority 0 \\\n",
    "    --program /shared/bioinformatics/software/third_party/EIG-6.1.4/bin/smartpca.perl \\\n",
    "        -i $bedfile \\\n",
    "        -a $bimfile \\\n",
    "        -b $famfile \\\n",
    "        -o $eig/results/${ancestry}_ld_pruned.pca \\\n",
    "        -p $eig/results/${ancestry}_ld_pruned.plot \\\n",
    "        -e $eig/results/${ancestry}_ld_pruned.eval \\\n",
    "        -l $eig/results/${ancestry}_ld_pruned.pca.log \\\n",
    "        -m 0"
   ]
  },
  {
   "cell_type": "markdown",
   "metadata": {},
   "source": [
    "#### Extract Eigenvectors"
   ]
  },
  {
   "cell_type": "code",
   "execution_count": null,
   "metadata": {},
   "outputs": [],
   "source": [
    "# Grab top 10 eigenvectors from PCA \n",
    "echo \"FID IID EV1 EV2 EV3 EV4 EV5 EV6 EV7 EV8 EV9 EV10\" > $eig/results/${ancestry}_ld_pruned_top10_eigenvecs.txt\n",
    "tail -n +2 $eig/results/${ancestry}_ld_pruned.pca.evec | \\\n",
    "    perl -lne 's/:/ /; @F=split; print join(\" \",$F[0],$F[1],$F[2],$F[3],$F[4],$F[5],$F[6],$F[7],$F[8],$F[9],$F[10],$F[11]);' \\\n",
    "    >> $eig/results/${ancestry}_ld_pruned_top10_eigenvecs.txt\n",
    "\n",
    "# copy to local"
   ]
  },
  {
   "cell_type": "markdown",
   "metadata": {},
   "source": [
    "#### View PCs from EIGENSTRAT\n",
    "Copy results over to local machine."
   ]
  },
  {
   "cell_type": "code",
   "execution_count": null,
   "metadata": {},
   "outputs": [],
   "source": [
    "#cd /home/jmarks/Desktop/Projects/heroin/ngc/kreek/20181128/eig\n",
    "#scp -i ~/.ssh/gwas_rsa ec2-user@54.90.227.178:/shared/data/studies/heroin/kreek/eig/20181129/results/* .\n",
    "\n",
    "### R console ###\n",
    "# Load PCA data\n",
    "setwd(\"C:/Users/jmarks/OneDrive - Research Triangle Institute/Projects/HIV/vidus/pca/\")\n",
    "options(stringsAsFactors = F)\n",
    "ea.evec <- read.table(\"ea_ld_pruned.pca.evec\", comment.char=\"#\", sep=\"\", row.names=1)\n",
    "ea.evec[,1:5]"
   ]
  },
  {
   "cell_type": "markdown",
   "metadata": {},
   "source": [
    "##### EA"
   ]
  },
  {
   "cell_type": "code",
   "execution_count": null,
   "metadata": {},
   "outputs": [],
   "source": [
    "### R console ###\n",
    "# Function for plotting off-diagonal scatterplots\n",
    "plot.offdiag <- function(x, y, colors=label.colors){\n",
    "    #Make x and y axes equal\n",
    "    limits <- c(min(x,y), max(x,y)) * 1.3\n",
    "    par(usr = c(limits, limits))\n",
    "    points(x,y, col=colors, pch=16)\n",
    "}\n",
    "\n",
    "# Function for plotting diagonal density plots\n",
    "plot.diag <- function(x, colors=label.colors){\n",
    "    d <- density(x, bw=0.01, kernel=\"gaussian\")\n",
    "    #Update plot axes limits\n",
    "    par(usr = c(range(d$x), range(d$y)*1.3))\n",
    "    points(d$x,d$y, type=\"l\")\n",
    "    #Add PC values\n",
    "    points(x=x, y=jitter(rep(mean(d$y),times=d$n),factor=5), col=label.colors, pch=16)\n",
    "}\n",
    "\n",
    "#Run PCA and get % variance\n",
    "ea.dspace <- ea.evec[1:10] #transformed dataspace\n",
    "\n",
    "#Color label samples\n",
    "sample.names <- ea.evec[,11]\n",
    "label.colors <- rep(NA, length(sample.names))\n",
    "label.colors[grepl(x=sample.names, pattern=\"Case\", ignore.case=T)] <- rgb(0,80,190,80, maxColorValue=255) #blue\n",
    "label.colors[grepl(x=sample.names, pattern=\"Control\", ignore.case=T)] <- rgb(200,0,0,80, maxColorValue=255) #red\n",
    "legend.cols <- c(rgb(0,80,190,255, maxColorValue=255), rgb(255,0,0,255, maxColorValue=255))\n",
    "\n",
    "###label.colors <- rgb(0,80,190,80, maxColorValue=255) #blue\n",
    "\n",
    "options(repr.plot.width=8, repr.plot.height=8)\n",
    "#Redefine outer margin\n",
    "par(oma = c(4, 1, 2, 1))\n",
    "par(oma = c(4, 1, 2, 1))\n",
    "pairs(x=ea.dspace[,1:5], panel=plot.offdiag, diag.panel=plot.diag, \n",
    "      labels=paste0(\"PC\",1:5), label.pos=0.9, cex.labels=1.8)\n",
    "par(fig=c(0, 1, 0, 1), oma=c(0, 0, 0, 0), mar=c(0, 0, 1.5, 0), new=TRUE)\n",
    "plot(0, 0, type = \"n\", bty = \"n\", xaxt = \"n\", yaxt = \"n\", main=\"Kreek EA\", cex.main=1)\n",
    "\n",
    "par(oma = c(4, 1, 2, 1))\n",
    "pairs(x=ea.dspace[,6:10], panel=plot.offdiag, diag.panel=plot.diag, \n",
    "      labels=paste0(\"PC\",6:10), label.pos=0.9, cex.labels=1.8)\n",
    "par(fig=c(0, 1, 0, 1), oma=c(0, 0, 0, 0), mar=c(0, 0, 1.5, 0), new=TRUE)\n",
    "plot(0, 0, type = \"n\", bty = \"n\", xaxt = \"n\", yaxt = \"n\", main=\"Kreek EA\", cex.main=1)\n",
    "legend(\"bottom\", c(\"Cases\", \"Controls\"), \n",
    "       pch=19, col=legend.cols,\n",
    "       xpd=TRUE, horiz=TRUE, inset=c(0,-0.02), \n",
    "       bty=\"n\", cex=1)\n",
    "\n",
    "\n",
    "#--------------------------------------------------------------------------------\n"
   ]
  },
  {
   "cell_type": "markdown",
   "metadata": {},
   "source": [
    "### EA PC Selection\n",
    "Determine which PCs (eigenvectors) contribute the most influence and include them in the GWAS as covariates. Include the PCs which contribute to at least %75 of the variance.\n",
    "Make PED format phenotype and covariate file according to the NGC protocol.\n",
    "\n",
    "#### Create PED files\n",
    "The covariates we want to include in this baseline GWAS are age, sex, and some of the most influential PCs. Here we create the `phen` and `cov` PED files so that downstream processing will be easier. Specifically, creating the PED files will make it easier to select the PCs that explain  ∼75%  of the variance."
   ]
  },
  {
   "cell_type": "code",
   "execution_count": 44,
   "metadata": {},
   "outputs": [
    {
     "data": {
      "text/html": [
       "<table>\n",
       "<thead><tr><th scope=col>gwas_code</th><th scope=col>female</th><th scope=col>hiv</th><th scope=col>ageatint</th></tr></thead>\n",
       "<tbody>\n",
       "\t<tr><td>8005965211_NA0055425_93-0001</td><td>2                           </td><td>1                           </td><td>55                          </td></tr>\n",
       "\t<tr><td>8005964642_NA0053910_93-0002</td><td>2                           </td><td>2                           </td><td>59                          </td></tr>\n",
       "\t<tr><td>8005964654_NA0053915_93-0003</td><td>2                           </td><td>2                           </td><td>55                          </td></tr>\n",
       "\t<tr><td>8005964666_NA0053918_93-0004</td><td>2                           </td><td>2                           </td><td>54                          </td></tr>\n",
       "\t<tr><td>8005964583_NA0053919_93-0005</td><td>2                           </td><td>2                           </td><td>40                          </td></tr>\n",
       "\t<tr><td>8005964584_NA0053917_93-0006</td><td>1                           </td><td>1                           </td><td>35                          </td></tr>\n",
       "</tbody>\n",
       "</table>\n"
      ],
      "text/latex": [
       "\\begin{tabular}{r|llll}\n",
       " gwas\\_code & female & hiv & ageatint\\\\\n",
       "\\hline\n",
       "\t 8005965211\\_NA0055425\\_93-0001 & 2                                & 1                                & 55                              \\\\\n",
       "\t 8005964642\\_NA0053910\\_93-0002 & 2                                & 2                                & 59                              \\\\\n",
       "\t 8005964654\\_NA0053915\\_93-0003 & 2                                & 2                                & 55                              \\\\\n",
       "\t 8005964666\\_NA0053918\\_93-0004 & 2                                & 2                                & 54                              \\\\\n",
       "\t 8005964583\\_NA0053919\\_93-0005 & 2                                & 2                                & 40                              \\\\\n",
       "\t 8005964584\\_NA0053917\\_93-0006 & 1                                & 1                                & 35                              \\\\\n",
       "\\end{tabular}\n"
      ],
      "text/markdown": [
       "\n",
       "gwas_code | female | hiv | ageatint | \n",
       "|---|---|---|---|---|---|\n",
       "| 8005965211_NA0055425_93-0001 | 2                            | 1                            | 55                           | \n",
       "| 8005964642_NA0053910_93-0002 | 2                            | 2                            | 59                           | \n",
       "| 8005964654_NA0053915_93-0003 | 2                            | 2                            | 55                           | \n",
       "| 8005964666_NA0053918_93-0004 | 2                            | 2                            | 54                           | \n",
       "| 8005964583_NA0053919_93-0005 | 2                            | 2                            | 40                           | \n",
       "| 8005964584_NA0053917_93-0006 | 1                            | 1                            | 35                           | \n",
       "\n",
       "\n"
      ],
      "text/plain": [
       "  gwas_code                    female hiv ageatint\n",
       "1 8005965211_NA0055425_93-0001 2      1   55      \n",
       "2 8005964642_NA0053910_93-0002 2      2   59      \n",
       "3 8005964654_NA0053915_93-0003 2      2   55      \n",
       "4 8005964666_NA0053918_93-0004 2      2   54      \n",
       "5 8005964583_NA0053919_93-0005 2      2   40      \n",
       "6 8005964584_NA0053917_93-0006 1      1   35      "
      ]
     },
     "metadata": {},
     "output_type": "display_data"
    },
    {
     "data": {
      "text/html": [
       "<table>\n",
       "<thead><tr><th scope=col>fid</th><th scope=col>iid</th><th scope=col>patid</th><th scope=col>matid</th><th scope=col>sex</th><th scope=col>hiv</th></tr></thead>\n",
       "<tbody>\n",
       "\t<tr><td>8005965211_NA0055425_93-0001</td><td>8005965211_NA0055425_93-0001</td><td>NA                          </td><td>NA                          </td><td>2                           </td><td>1                           </td></tr>\n",
       "\t<tr><td>8005964642_NA0053910_93-0002</td><td>8005964642_NA0053910_93-0002</td><td>NA                          </td><td>NA                          </td><td>2                           </td><td>2                           </td></tr>\n",
       "\t<tr><td>8005964654_NA0053915_93-0003</td><td>8005964654_NA0053915_93-0003</td><td>NA                          </td><td>NA                          </td><td>2                           </td><td>2                           </td></tr>\n",
       "\t<tr><td>8005964666_NA0053918_93-0004</td><td>8005964666_NA0053918_93-0004</td><td>NA                          </td><td>NA                          </td><td>2                           </td><td>2                           </td></tr>\n",
       "\t<tr><td>8005964583_NA0053919_93-0005</td><td>8005964583_NA0053919_93-0005</td><td>NA                          </td><td>NA                          </td><td>2                           </td><td>2                           </td></tr>\n",
       "\t<tr><td>8005964584_NA0053917_93-0006</td><td>8005964584_NA0053917_93-0006</td><td>NA                          </td><td>NA                          </td><td>1                           </td><td>1                           </td></tr>\n",
       "</tbody>\n",
       "</table>\n"
      ],
      "text/latex": [
       "\\begin{tabular}{r|llllll}\n",
       " fid & iid & patid & matid & sex & hiv\\\\\n",
       "\\hline\n",
       "\t 8005965211\\_NA0055425\\_93-0001 & 8005965211\\_NA0055425\\_93-0001 & NA                               & NA                               & 2                                & 1                               \\\\\n",
       "\t 8005964642\\_NA0053910\\_93-0002 & 8005964642\\_NA0053910\\_93-0002 & NA                               & NA                               & 2                                & 2                               \\\\\n",
       "\t 8005964654\\_NA0053915\\_93-0003 & 8005964654\\_NA0053915\\_93-0003 & NA                               & NA                               & 2                                & 2                               \\\\\n",
       "\t 8005964666\\_NA0053918\\_93-0004 & 8005964666\\_NA0053918\\_93-0004 & NA                               & NA                               & 2                                & 2                               \\\\\n",
       "\t 8005964583\\_NA0053919\\_93-0005 & 8005964583\\_NA0053919\\_93-0005 & NA                               & NA                               & 2                                & 2                               \\\\\n",
       "\t 8005964584\\_NA0053917\\_93-0006 & 8005964584\\_NA0053917\\_93-0006 & NA                               & NA                               & 1                                & 1                               \\\\\n",
       "\\end{tabular}\n"
      ],
      "text/markdown": [
       "\n",
       "fid | iid | patid | matid | sex | hiv | \n",
       "|---|---|---|---|---|---|\n",
       "| 8005965211_NA0055425_93-0001 | 8005965211_NA0055425_93-0001 | NA                           | NA                           | 2                            | 1                            | \n",
       "| 8005964642_NA0053910_93-0002 | 8005964642_NA0053910_93-0002 | NA                           | NA                           | 2                            | 2                            | \n",
       "| 8005964654_NA0053915_93-0003 | 8005964654_NA0053915_93-0003 | NA                           | NA                           | 2                            | 2                            | \n",
       "| 8005964666_NA0053918_93-0004 | 8005964666_NA0053918_93-0004 | NA                           | NA                           | 2                            | 2                            | \n",
       "| 8005964583_NA0053919_93-0005 | 8005964583_NA0053919_93-0005 | NA                           | NA                           | 2                            | 2                            | \n",
       "| 8005964584_NA0053917_93-0006 | 8005964584_NA0053917_93-0006 | NA                           | NA                           | 1                            | 1                            | \n",
       "\n",
       "\n"
      ],
      "text/plain": [
       "  fid                          iid                          patid matid sex hiv\n",
       "1 8005965211_NA0055425_93-0001 8005965211_NA0055425_93-0001 NA    NA    2   1  \n",
       "2 8005964642_NA0053910_93-0002 8005964642_NA0053910_93-0002 NA    NA    2   2  \n",
       "3 8005964654_NA0053915_93-0003 8005964654_NA0053915_93-0003 NA    NA    2   2  \n",
       "4 8005964666_NA0053918_93-0004 8005964666_NA0053918_93-0004 NA    NA    2   2  \n",
       "5 8005964583_NA0053919_93-0005 8005964583_NA0053919_93-0005 NA    NA    2   2  \n",
       "6 8005964584_NA0053917_93-0006 8005964584_NA0053917_93-0006 NA    NA    1   1  "
      ]
     },
     "metadata": {},
     "output_type": "display_data"
    },
    {
     "data": {
      "text/html": [
       "<table>\n",
       "<thead><tr><th scope=col>fid</th><th scope=col>iid</th><th scope=col>patid</th><th scope=col>matid</th><th scope=col>sex</th><th scope=col>age</th><th scope=col>PC1</th><th scope=col>PC2</th><th scope=col>PC3</th><th scope=col>PC4</th><th scope=col>PC5</th><th scope=col>PC6</th><th scope=col>PC7</th><th scope=col>PC8</th><th scope=col>PC9</th><th scope=col>PC10</th></tr></thead>\n",
       "<tbody>\n",
       "\t<tr><td>8005965211_NA0055425_93-0001</td><td>8005965211_NA0055425_93-0001</td><td>NA                          </td><td>NA                          </td><td>2                           </td><td>55                          </td><td>-0.0073                     </td><td>-0.0065                     </td><td> 0.0008                     </td><td>-0.0017                     </td><td>-0.0067                     </td><td> 0.0033                     </td><td> 0.0142                     </td><td>-0.0165                     </td><td>-0.0181                     </td><td>-0.0177                     </td></tr>\n",
       "\t<tr><td>8005964642_NA0053910_93-0002</td><td>8005964642_NA0053910_93-0002</td><td>NA                          </td><td>NA                          </td><td>2                           </td><td>59                          </td><td>-0.0053                     </td><td>-0.0059                     </td><td>-0.0021                     </td><td>-0.0088                     </td><td>-0.0047                     </td><td>-0.0154                     </td><td>-0.0003                     </td><td>-0.0027                     </td><td> 0.0041                     </td><td>-0.0176                     </td></tr>\n",
       "\t<tr><td>8005964654_NA0053915_93-0003</td><td>8005964654_NA0053915_93-0003</td><td>NA                          </td><td>NA                          </td><td>2                           </td><td>55                          </td><td> 0.0004                     </td><td>-0.0034                     </td><td>-0.0019                     </td><td>-0.0025                     </td><td>-0.0057                     </td><td>-0.0148                     </td><td> 0.0133                     </td><td>-0.0472                     </td><td> 0.0191                     </td><td> 0.0550                     </td></tr>\n",
       "\t<tr><td>8005964666_NA0053918_93-0004</td><td>8005964666_NA0053918_93-0004</td><td>NA                          </td><td>NA                          </td><td>2                           </td><td>54                          </td><td> 0.0088                     </td><td> 0.0129                     </td><td> 0.0124                     </td><td>-0.0008                     </td><td> 0.0080                     </td><td> 0.0001                     </td><td>-0.0146                     </td><td> 0.0236                     </td><td> 0.0103                     </td><td>-0.0046                     </td></tr>\n",
       "\t<tr><td>8005964583_NA0053919_93-0005</td><td>8005964583_NA0053919_93-0005</td><td>NA                          </td><td>NA                          </td><td>2                           </td><td>40                          </td><td> 0.0134                     </td><td> 0.0342                     </td><td> 0.0000                     </td><td>-0.0033                     </td><td>-0.0025                     </td><td> 0.0023                     </td><td>-0.0099                     </td><td>-0.0067                     </td><td> 0.0068                     </td><td> 0.0240                     </td></tr>\n",
       "\t<tr><td>8005964584_NA0053917_93-0006</td><td>8005964584_NA0053917_93-0006</td><td>NA                          </td><td>NA                          </td><td>1                           </td><td>35                          </td><td>-0.0084                     </td><td>-0.0096                     </td><td> 0.0072                     </td><td> 0.0009                     </td><td> 0.0035                     </td><td> 0.0047                     </td><td>-0.0054                     </td><td> 0.0005                     </td><td> 0.0210                     </td><td>-0.0084                     </td></tr>\n",
       "</tbody>\n",
       "</table>\n"
      ],
      "text/latex": [
       "\\begin{tabular}{r|llllllllllllllll}\n",
       " fid & iid & patid & matid & sex & age & PC1 & PC2 & PC3 & PC4 & PC5 & PC6 & PC7 & PC8 & PC9 & PC10\\\\\n",
       "\\hline\n",
       "\t 8005965211\\_NA0055425\\_93-0001 & 8005965211\\_NA0055425\\_93-0001 & NA                               & NA                               & 2                                & 55                               & -0.0073                          & -0.0065                          &  0.0008                          & -0.0017                          & -0.0067                          &  0.0033                          &  0.0142                          & -0.0165                          & -0.0181                          & -0.0177                         \\\\\n",
       "\t 8005964642\\_NA0053910\\_93-0002 & 8005964642\\_NA0053910\\_93-0002 & NA                               & NA                               & 2                                & 59                               & -0.0053                          & -0.0059                          & -0.0021                          & -0.0088                          & -0.0047                          & -0.0154                          & -0.0003                          & -0.0027                          &  0.0041                          & -0.0176                         \\\\\n",
       "\t 8005964654\\_NA0053915\\_93-0003 & 8005964654\\_NA0053915\\_93-0003 & NA                               & NA                               & 2                                & 55                               &  0.0004                          & -0.0034                          & -0.0019                          & -0.0025                          & -0.0057                          & -0.0148                          &  0.0133                          & -0.0472                          &  0.0191                          &  0.0550                         \\\\\n",
       "\t 8005964666\\_NA0053918\\_93-0004 & 8005964666\\_NA0053918\\_93-0004 & NA                               & NA                               & 2                                & 54                               &  0.0088                          &  0.0129                          &  0.0124                          & -0.0008                          &  0.0080                          &  0.0001                          & -0.0146                          &  0.0236                          &  0.0103                          & -0.0046                         \\\\\n",
       "\t 8005964583\\_NA0053919\\_93-0005 & 8005964583\\_NA0053919\\_93-0005 & NA                               & NA                               & 2                                & 40                               &  0.0134                          &  0.0342                          &  0.0000                          & -0.0033                          & -0.0025                          &  0.0023                          & -0.0099                          & -0.0067                          &  0.0068                          &  0.0240                         \\\\\n",
       "\t 8005964584\\_NA0053917\\_93-0006 & 8005964584\\_NA0053917\\_93-0006 & NA                               & NA                               & 1                                & 35                               & -0.0084                          & -0.0096                          &  0.0072                          &  0.0009                          &  0.0035                          &  0.0047                          & -0.0054                          &  0.0005                          &  0.0210                          & -0.0084                         \\\\\n",
       "\\end{tabular}\n"
      ],
      "text/markdown": [
       "\n",
       "fid | iid | patid | matid | sex | age | PC1 | PC2 | PC3 | PC4 | PC5 | PC6 | PC7 | PC8 | PC9 | PC10 | \n",
       "|---|---|---|---|---|---|\n",
       "| 8005965211_NA0055425_93-0001 | 8005965211_NA0055425_93-0001 | NA                           | NA                           | 2                            | 55                           | -0.0073                      | -0.0065                      |  0.0008                      | -0.0017                      | -0.0067                      |  0.0033                      |  0.0142                      | -0.0165                      | -0.0181                      | -0.0177                      | \n",
       "| 8005964642_NA0053910_93-0002 | 8005964642_NA0053910_93-0002 | NA                           | NA                           | 2                            | 59                           | -0.0053                      | -0.0059                      | -0.0021                      | -0.0088                      | -0.0047                      | -0.0154                      | -0.0003                      | -0.0027                      |  0.0041                      | -0.0176                      | \n",
       "| 8005964654_NA0053915_93-0003 | 8005964654_NA0053915_93-0003 | NA                           | NA                           | 2                            | 55                           |  0.0004                      | -0.0034                      | -0.0019                      | -0.0025                      | -0.0057                      | -0.0148                      |  0.0133                      | -0.0472                      |  0.0191                      |  0.0550                      | \n",
       "| 8005964666_NA0053918_93-0004 | 8005964666_NA0053918_93-0004 | NA                           | NA                           | 2                            | 54                           |  0.0088                      |  0.0129                      |  0.0124                      | -0.0008                      |  0.0080                      |  0.0001                      | -0.0146                      |  0.0236                      |  0.0103                      | -0.0046                      | \n",
       "| 8005964583_NA0053919_93-0005 | 8005964583_NA0053919_93-0005 | NA                           | NA                           | 2                            | 40                           |  0.0134                      |  0.0342                      |  0.0000                      | -0.0033                      | -0.0025                      |  0.0023                      | -0.0099                      | -0.0067                      |  0.0068                      |  0.0240                      | \n",
       "| 8005964584_NA0053917_93-0006 | 8005964584_NA0053917_93-0006 | NA                           | NA                           | 1                            | 35                           | -0.0084                      | -0.0096                      |  0.0072                      |  0.0009                      |  0.0035                      |  0.0047                      | -0.0054                      |  0.0005                      |  0.0210                      | -0.0084                      | \n",
       "\n",
       "\n"
      ],
      "text/plain": [
       "  fid                          iid                          patid matid sex age\n",
       "1 8005965211_NA0055425_93-0001 8005965211_NA0055425_93-0001 NA    NA    2   55 \n",
       "2 8005964642_NA0053910_93-0002 8005964642_NA0053910_93-0002 NA    NA    2   59 \n",
       "3 8005964654_NA0053915_93-0003 8005964654_NA0053915_93-0003 NA    NA    2   55 \n",
       "4 8005964666_NA0053918_93-0004 8005964666_NA0053918_93-0004 NA    NA    2   54 \n",
       "5 8005964583_NA0053919_93-0005 8005964583_NA0053919_93-0005 NA    NA    2   40 \n",
       "6 8005964584_NA0053917_93-0006 8005964584_NA0053917_93-0006 NA    NA    1   35 \n",
       "  PC1     PC2     PC3     PC4     PC5     PC6     PC7     PC8     PC9    \n",
       "1 -0.0073 -0.0065  0.0008 -0.0017 -0.0067  0.0033  0.0142 -0.0165 -0.0181\n",
       "2 -0.0053 -0.0059 -0.0021 -0.0088 -0.0047 -0.0154 -0.0003 -0.0027  0.0041\n",
       "3  0.0004 -0.0034 -0.0019 -0.0025 -0.0057 -0.0148  0.0133 -0.0472  0.0191\n",
       "4  0.0088  0.0129  0.0124 -0.0008  0.0080  0.0001 -0.0146  0.0236  0.0103\n",
       "5  0.0134  0.0342  0.0000 -0.0033 -0.0025  0.0023 -0.0099 -0.0067  0.0068\n",
       "6 -0.0084 -0.0096  0.0072  0.0009  0.0035  0.0047 -0.0054  0.0005  0.0210\n",
       "  PC10   \n",
       "1 -0.0177\n",
       "2 -0.0176\n",
       "3  0.0550\n",
       "4 -0.0046\n",
       "5  0.0240\n",
       "6 -0.0084"
      ]
     },
     "metadata": {},
     "output_type": "display_data"
    },
    {
     "data": {
      "text/html": [
       "938"
      ],
      "text/latex": [
       "938"
      ],
      "text/markdown": [
       "938"
      ],
      "text/plain": [
       "[1] 938"
      ]
     },
     "metadata": {},
     "output_type": "display_data"
    }
   ],
   "source": [
    "#mkdir /cygdrive/c/Users/jmarks/Desktop/Projects/heroin/ngc/kreek/20181113/phenotype/final\n",
    "\n",
    "### R (local) ###\n",
    "\n",
    "## Phen file\n",
    "#------------------------------------------------------------------------------------------\n",
    "setwd(\"C:/Users/jmarks/OneDrive - Research Triangle Institute/Projects/HIV/vidus/phenotype/\")\n",
    "p.data <- \"vidus.ea.phenotype_table.sex+hiv_mapped.passed_qc\"\n",
    "study <- \"vidus\"\n",
    "\n",
    "pheno.data.ea <- read.csv(p.data, sep = \" \", header = TRUE, stringsAsFactors = F, \n",
    "                       colClasses=c( \"character\", rep(\"double\",  3)))\n",
    "\n",
    "head(pheno.data.ea)\n",
    "pca.data.ea <- read.csv(\"../pca/ea_ld_pruned_top10_eigenvecs.txt\",\n",
    "                     sep = \" \" , header=T, colClasses=c(rep(\"character\",times=2), rep(\"double\",times = 10)))\n",
    "\n",
    "num.subjects.ea <- length(pca.data.ea[,1])\n",
    "\n",
    "ped.file.ea <- data.frame(matrix(ncol = 6, nrow = num.subjects.ea))\n",
    "colnames(ped.file.ea) <- c(\"fid\", \"iid\", \"patid\", \"matid\", \"sex\",  \"hiv\")\n",
    "ped.file.ea[,1] <- pheno.data.ea[,1]\n",
    "ped.file.ea[,2] <- pheno.data.ea[,1]\n",
    "ped.file.ea[,\"sex\"] <- pheno.data.ea[,\"female\"]\n",
    "ped.file.ea[,\"hiv\"] <- pheno.data.ea[,\"hiv\"]\n",
    "\n",
    "\n",
    "head(ped.file.ea)\n",
    "write.table(ped.file.ea[,1:6], paste(study,\"_EUR_phen.ped\", sep=\"\"), sep = \"\\t\", row.names = F, quote=F)\n",
    "\n",
    "\n",
    "#----------------------------------------------------------------------------------------------------\n",
    "### Cov file\n",
    "\n",
    "# 10 PCs plus all of the covariates (exclude oaall data)\n",
    "col.names.ea <- c(\"fid\", \"iid\", \"patid\", \"matid\", \"sex\", \"age\",\n",
    "                  \"PC1\", \"PC2\",\"PC3\",\"PC4\",\"PC5\",\"PC6\",\"PC7\",\"PC8\",\"PC9\",\"PC10\")\n",
    "num.columns.ea <- length(col.names.ea)\n",
    "covar.data.ea <- data.frame(matrix(ncol = num.columns.ea, nrow = num.subjects.ea))\n",
    "names(covar.data.ea) <- col.names.ea\n",
    "\n",
    "num.covs.ea <- length(ped.file.ea) - 1\n",
    "covar.data.ea[,1:num.covs.ea] <- ped.file.ea[,1:num.covs.ea] # fid, iid, patid, matic, sex\n",
    "covar.data.ea[,num.covs.ea+1] <- pheno.data.ea[,4] # age \n",
    "\n",
    "covar.data.ea[,(num.covs.ea+2):length(col.names.ea)] <- pca.data.ea[,3:length(pca.data.ea)]\n",
    "\n",
    "head(covar.data.ea)\n",
    "length(covar.data.ea[,1])\n",
    "\n",
    "write.table(covar.data.ea, paste(study, \"_EUR_cov.ped\", sep=\"\"), quote=FALSE, row.names = FALSE, sep = \"\\t\")"
   ]
  },
  {
   "cell_type": "code",
   "execution_count": 45,
   "metadata": {},
   "outputs": [
    {
     "data": {
      "text/html": [
       "<table>\n",
       "<thead><tr><th scope=col>iid</th><th scope=col>hiv</th><th scope=col>PC1</th><th scope=col>PC2</th><th scope=col>PC3</th><th scope=col>PC4</th><th scope=col>PC5</th><th scope=col>PC6</th><th scope=col>PC7</th><th scope=col>PC8</th><th scope=col>PC9</th><th scope=col>PC10</th></tr></thead>\n",
       "<tbody>\n",
       "\t<tr><td>8005964577_NA0054973_93-0527</td><td>1                           </td><td>-0.0081                     </td><td>-0.0061                     </td><td> 0.0046                     </td><td> 0.0045                     </td><td> 0.0038                     </td><td> 0.0067                     </td><td>-0.0027                     </td><td> 0.0149                     </td><td>-0.0037                     </td><td> 0.0034                     </td></tr>\n",
       "\t<tr><td>8005964578_NA0054508_93-0381</td><td>1                           </td><td> 0.0204                     </td><td> 0.0065                     </td><td>-0.0075                     </td><td>-0.0085                     </td><td> 0.0022                     </td><td>-0.0149                     </td><td> 0.0690                     </td><td>-0.0660                     </td><td> 0.0255                     </td><td> 0.0979                     </td></tr>\n",
       "\t<tr><td>8005964579_NA0054695_93-0482</td><td>2                           </td><td> 0.0423                     </td><td> 0.0734                     </td><td> 0.0076                     </td><td>-0.0071                     </td><td>-0.0030                     </td><td> 0.0081                     </td><td>-0.0053                     </td><td> 0.0133                     </td><td>-0.0015                     </td><td> 0.0114                     </td></tr>\n",
       "\t<tr><td>8005964580_NA0054659_93-0222</td><td>1                           </td><td>-0.0106                     </td><td>-0.0081                     </td><td> 0.0031                     </td><td> 0.0085                     </td><td>-0.0003                     </td><td> 0.0063                     </td><td>-0.0046                     </td><td> 0.0141                     </td><td>-0.0082                     </td><td>-0.0257                     </td></tr>\n",
       "\t<tr><td>8005964581_NA0054679_93-0478</td><td>1                           </td><td> 0.0324                     </td><td> 0.0552                     </td><td> 0.0104                     </td><td> 0.0044                     </td><td> 0.0066                     </td><td>-0.0033                     </td><td>-0.0117                     </td><td>-0.0381                     </td><td> 0.0163                     </td><td> 0.0735                     </td></tr>\n",
       "\t<tr><td>8005964582_NA0054694_93-0481</td><td>1                           </td><td>-0.0106                     </td><td>-0.0111                     </td><td>-0.0034                     </td><td>-0.0099                     </td><td>-0.0043                     </td><td> 0.0018                     </td><td> 0.0110                     </td><td>-0.0143                     </td><td>-0.0009                     </td><td>-0.0189                     </td></tr>\n",
       "</tbody>\n",
       "</table>\n"
      ],
      "text/latex": [
       "\\begin{tabular}{r|llllllllllll}\n",
       " iid & hiv & PC1 & PC2 & PC3 & PC4 & PC5 & PC6 & PC7 & PC8 & PC9 & PC10\\\\\n",
       "\\hline\n",
       "\t 8005964577\\_NA0054973\\_93-0527 & 1                                & -0.0081                          & -0.0061                          &  0.0046                          &  0.0045                          &  0.0038                          &  0.0067                          & -0.0027                          &  0.0149                          & -0.0037                          &  0.0034                         \\\\\n",
       "\t 8005964578\\_NA0054508\\_93-0381 & 1                                &  0.0204                          &  0.0065                          & -0.0075                          & -0.0085                          &  0.0022                          & -0.0149                          &  0.0690                          & -0.0660                          &  0.0255                          &  0.0979                         \\\\\n",
       "\t 8005964579\\_NA0054695\\_93-0482 & 2                                &  0.0423                          &  0.0734                          &  0.0076                          & -0.0071                          & -0.0030                          &  0.0081                          & -0.0053                          &  0.0133                          & -0.0015                          &  0.0114                         \\\\\n",
       "\t 8005964580\\_NA0054659\\_93-0222 & 1                                & -0.0106                          & -0.0081                          &  0.0031                          &  0.0085                          & -0.0003                          &  0.0063                          & -0.0046                          &  0.0141                          & -0.0082                          & -0.0257                         \\\\\n",
       "\t 8005964581\\_NA0054679\\_93-0478 & 1                                &  0.0324                          &  0.0552                          &  0.0104                          &  0.0044                          &  0.0066                          & -0.0033                          & -0.0117                          & -0.0381                          &  0.0163                          &  0.0735                         \\\\\n",
       "\t 8005964582\\_NA0054694\\_93-0481 & 1                                & -0.0106                          & -0.0111                          & -0.0034                          & -0.0099                          & -0.0043                          &  0.0018                          &  0.0110                          & -0.0143                          & -0.0009                          & -0.0189                         \\\\\n",
       "\\end{tabular}\n"
      ],
      "text/markdown": [
       "\n",
       "iid | hiv | PC1 | PC2 | PC3 | PC4 | PC5 | PC6 | PC7 | PC8 | PC9 | PC10 | \n",
       "|---|---|---|---|---|---|\n",
       "| 8005964577_NA0054973_93-0527 | 1                            | -0.0081                      | -0.0061                      |  0.0046                      |  0.0045                      |  0.0038                      |  0.0067                      | -0.0027                      |  0.0149                      | -0.0037                      |  0.0034                      | \n",
       "| 8005964578_NA0054508_93-0381 | 1                            |  0.0204                      |  0.0065                      | -0.0075                      | -0.0085                      |  0.0022                      | -0.0149                      |  0.0690                      | -0.0660                      |  0.0255                      |  0.0979                      | \n",
       "| 8005964579_NA0054695_93-0482 | 2                            |  0.0423                      |  0.0734                      |  0.0076                      | -0.0071                      | -0.0030                      |  0.0081                      | -0.0053                      |  0.0133                      | -0.0015                      |  0.0114                      | \n",
       "| 8005964580_NA0054659_93-0222 | 1                            | -0.0106                      | -0.0081                      |  0.0031                      |  0.0085                      | -0.0003                      |  0.0063                      | -0.0046                      |  0.0141                      | -0.0082                      | -0.0257                      | \n",
       "| 8005964581_NA0054679_93-0478 | 1                            |  0.0324                      |  0.0552                      |  0.0104                      |  0.0044                      |  0.0066                      | -0.0033                      | -0.0117                      | -0.0381                      |  0.0163                      |  0.0735                      | \n",
       "| 8005964582_NA0054694_93-0481 | 1                            | -0.0106                      | -0.0111                      | -0.0034                      | -0.0099                      | -0.0043                      |  0.0018                      |  0.0110                      | -0.0143                      | -0.0009                      | -0.0189                      | \n",
       "\n",
       "\n"
      ],
      "text/plain": [
       "  iid                          hiv PC1     PC2     PC3     PC4     PC5    \n",
       "1 8005964577_NA0054973_93-0527 1   -0.0081 -0.0061  0.0046  0.0045  0.0038\n",
       "2 8005964578_NA0054508_93-0381 1    0.0204  0.0065 -0.0075 -0.0085  0.0022\n",
       "3 8005964579_NA0054695_93-0482 2    0.0423  0.0734  0.0076 -0.0071 -0.0030\n",
       "4 8005964580_NA0054659_93-0222 1   -0.0106 -0.0081  0.0031  0.0085 -0.0003\n",
       "5 8005964581_NA0054679_93-0478 1    0.0324  0.0552  0.0104  0.0044  0.0066\n",
       "6 8005964582_NA0054694_93-0481 1   -0.0106 -0.0111 -0.0034 -0.0099 -0.0043\n",
       "  PC6     PC7     PC8     PC9     PC10   \n",
       "1  0.0067 -0.0027  0.0149 -0.0037  0.0034\n",
       "2 -0.0149  0.0690 -0.0660  0.0255  0.0979\n",
       "3  0.0081 -0.0053  0.0133 -0.0015  0.0114\n",
       "4  0.0063 -0.0046  0.0141 -0.0082 -0.0257\n",
       "5 -0.0033 -0.0117 -0.0381  0.0163  0.0735\n",
       "6  0.0018  0.0110 -0.0143 -0.0009 -0.0189"
      ]
     },
     "metadata": {},
     "output_type": "display_data"
    }
   ],
   "source": [
    "### R console ###\n",
    "# Load PCA data\n",
    "#setwd(\"C:/Users/jmarks/Desktop/Projects/Heroin/ngc/kreek/20181128/phenotype/\")\n",
    "\n",
    "options(stringsAsFactors=F)\n",
    "ea.cov.data <- read.delim(paste(study, \"_EUR_cov.ped\", sep=\"\"), header=T, sep=\"\\t\")\n",
    "ea.phen.data <- read.delim(paste(study, \"_EUR_phen.ped\", sep=\"\"), header=T, sep=\"\\t\")\n",
    "\n",
    "# Combine PCs and phenotype into one data frame\n",
    "phen.name <- \"hiv\"\n",
    "pc.names <- paste0(\"PC\", 1:10)\n",
    "ea.data <- merge(x=ea.phen.data[,c(\"iid\",phen.name)], y=ea.cov.data[, c(\"iid\", paste0(\"PC\",1:10))], by=\"iid\")\n",
    "head(ea.data)"
   ]
  },
  {
   "cell_type": "markdown",
   "metadata": {},
   "source": [
    "#### Regression analysis\n",
    "We use a regression model of the general structure:\n",
    "\n",
    "$$\\begin{align}\n",
    "\\text{FTND = PC1 + PC2 + ... + PC10}\n",
    "\\end{align}$$"
   ]
  },
  {
   "cell_type": "code",
   "execution_count": 46,
   "metadata": {},
   "outputs": [
    {
     "name": "stdout",
     "output_type": "stream",
     "text": [
      "MODEL FORMULA:\n",
      "\n",
      " hiv ~ PC1 + PC2 + PC3 + PC4 + PC5 + PC6 + PC7 + PC8 + PC9 + PC10 \n",
      "\n",
      "\n",
      "================ EA group ================"
     ]
    },
    {
     "data": {
      "text/plain": [
       "\n",
       "Call:\n",
       "lm(formula = as.formula(model.str), data = ea.data)\n",
       "\n",
       "Residuals:\n",
       "    Min      1Q  Median      3Q     Max \n",
       "-0.4317 -0.2724 -0.2614  0.7021  0.7903 \n",
       "\n",
       "Coefficients:\n",
       "            Estimate Std. Error t value Pr(>|t|)    \n",
       "(Intercept)  1.26972    0.01450  87.587   <2e-16 ***\n",
       "PC1          0.49482    0.44400   1.114   0.2654    \n",
       "PC2         -0.36883    0.44400  -0.831   0.4064    \n",
       "PC3          0.31114    0.44399   0.701   0.4836    \n",
       "PC4         -0.58129    0.44396  -1.309   0.1907    \n",
       "PC5         -0.22394    0.44400  -0.504   0.6141    \n",
       "PC6          0.31495    0.44400   0.709   0.4783    \n",
       "PC7          0.04981    0.44398   0.112   0.9107    \n",
       "PC8         -0.16127    0.44396  -0.363   0.7165    \n",
       "PC9          1.00872    0.44398   2.272   0.0233 *  \n",
       "PC10         0.12110    0.44398   0.273   0.7851    \n",
       "---\n",
       "Signif. codes:  0 '***' 0.001 '**' 0.01 '*' 0.05 '.' 0.1 ' ' 1\n",
       "\n",
       "Residual standard error: 0.444 on 927 degrees of freedom\n",
       "Multiple R-squared:  0.01096,\tAdjusted R-squared:  0.0002939 \n",
       "F-statistic: 1.028 on 10 and 927 DF,  p-value: 0.4177\n"
      ]
     },
     "metadata": {},
     "output_type": "display_data"
    },
    {
     "data": {
      "text/html": [
       "<table>\n",
       "<thead><tr><th></th><th scope=col>Df</th><th scope=col>Sum Sq</th><th scope=col>Mean Sq</th><th scope=col>F value</th><th scope=col>Pr(&gt;F)</th><th scope=col>PVE</th></tr></thead>\n",
       "<tbody>\n",
       "\t<tr><th scope=row>PC9</th><td>1          </td><td>1.017574088</td><td>1.017574088</td><td>5.16208379 </td><td>0.02331355 </td><td>50.24      </td></tr>\n",
       "\t<tr><th scope=row>PC4</th><td>1          </td><td>0.337877209</td><td>0.337877209</td><td>1.71402798 </td><td>0.19078801 </td><td>16.68      </td></tr>\n",
       "\t<tr><th scope=row>PC1</th><td>1          </td><td>0.244790832</td><td>0.244790832</td><td>1.24180716 </td><td>0.26541189 </td><td>12.09      </td></tr>\n",
       "\t<tr><th scope=row>PC2</th><td>1          </td><td>0.136007207</td><td>0.136007207</td><td>0.68995527 </td><td>0.40639347 </td><td> 6.71      </td></tr>\n",
       "\t<tr><th scope=row>PC6</th><td>1          </td><td>0.099209328</td><td>0.099209328</td><td>0.50328214 </td><td>0.47823991 </td><td> 4.90      </td></tr>\n",
       "\t<tr><th scope=row>PC3</th><td>1          </td><td>0.096810832</td><td>0.096810832</td><td>0.49111473 </td><td>0.48360633 </td><td> 4.78      </td></tr>\n",
       "\t<tr><th scope=row>PC5</th><td>1          </td><td>0.050139054</td><td>0.050139054</td><td>0.25435199 </td><td>0.61414709 </td><td> 2.48      </td></tr>\n",
       "\t<tr><th scope=row>PC8</th><td>1          </td><td>0.026001480</td><td>0.026001480</td><td>0.13190373 </td><td>0.71654909 </td><td> 1.28      </td></tr>\n",
       "\t<tr><th scope=row>PC10</th><td>1          </td><td>0.014665942</td><td>0.014665942</td><td>0.07439932 </td><td>0.78509662 </td><td> 0.72      </td></tr>\n",
       "\t<tr><th scope=row>PC7</th><td>1          </td><td>0.002478476</td><td>0.002478476</td><td>0.01257314 </td><td>0.91074459 </td><td> 0.12      </td></tr>\n",
       "</tbody>\n",
       "</table>\n"
      ],
      "text/latex": [
       "\\begin{tabular}{r|llllll}\n",
       "  & Df & Sum Sq & Mean Sq & F value & Pr(>F) & PVE\\\\\n",
       "\\hline\n",
       "\tPC9 & 1           & 1.017574088 & 1.017574088 & 5.16208379  & 0.02331355  & 50.24      \\\\\n",
       "\tPC4 & 1           & 0.337877209 & 0.337877209 & 1.71402798  & 0.19078801  & 16.68      \\\\\n",
       "\tPC1 & 1           & 0.244790832 & 0.244790832 & 1.24180716  & 0.26541189  & 12.09      \\\\\n",
       "\tPC2 & 1           & 0.136007207 & 0.136007207 & 0.68995527  & 0.40639347  &  6.71      \\\\\n",
       "\tPC6 & 1           & 0.099209328 & 0.099209328 & 0.50328214  & 0.47823991  &  4.90      \\\\\n",
       "\tPC3 & 1           & 0.096810832 & 0.096810832 & 0.49111473  & 0.48360633  &  4.78      \\\\\n",
       "\tPC5 & 1           & 0.050139054 & 0.050139054 & 0.25435199  & 0.61414709  &  2.48      \\\\\n",
       "\tPC8 & 1           & 0.026001480 & 0.026001480 & 0.13190373  & 0.71654909  &  1.28      \\\\\n",
       "\tPC10 & 1           & 0.014665942 & 0.014665942 & 0.07439932  & 0.78509662  &  0.72      \\\\\n",
       "\tPC7 & 1           & 0.002478476 & 0.002478476 & 0.01257314  & 0.91074459  &  0.12      \\\\\n",
       "\\end{tabular}\n"
      ],
      "text/markdown": [
       "\n",
       "| <!--/--> | Df | Sum Sq | Mean Sq | F value | Pr(>F) | PVE | \n",
       "|---|---|---|---|---|---|---|---|---|---|\n",
       "| PC9 | 1           | 1.017574088 | 1.017574088 | 5.16208379  | 0.02331355  | 50.24       | \n",
       "| PC4 | 1           | 0.337877209 | 0.337877209 | 1.71402798  | 0.19078801  | 16.68       | \n",
       "| PC1 | 1           | 0.244790832 | 0.244790832 | 1.24180716  | 0.26541189  | 12.09       | \n",
       "| PC2 | 1           | 0.136007207 | 0.136007207 | 0.68995527  | 0.40639347  |  6.71       | \n",
       "| PC6 | 1           | 0.099209328 | 0.099209328 | 0.50328214  | 0.47823991  |  4.90       | \n",
       "| PC3 | 1           | 0.096810832 | 0.096810832 | 0.49111473  | 0.48360633  |  4.78       | \n",
       "| PC5 | 1           | 0.050139054 | 0.050139054 | 0.25435199  | 0.61414709  |  2.48       | \n",
       "| PC8 | 1           | 0.026001480 | 0.026001480 | 0.13190373  | 0.71654909  |  1.28       | \n",
       "| PC10 | 1           | 0.014665942 | 0.014665942 | 0.07439932  | 0.78509662  |  0.72       | \n",
       "| PC7 | 1           | 0.002478476 | 0.002478476 | 0.01257314  | 0.91074459  |  0.12       | \n",
       "\n",
       "\n"
      ],
      "text/plain": [
       "     Df Sum Sq      Mean Sq     F value    Pr(>F)     PVE  \n",
       "PC9  1  1.017574088 1.017574088 5.16208379 0.02331355 50.24\n",
       "PC4  1  0.337877209 0.337877209 1.71402798 0.19078801 16.68\n",
       "PC1  1  0.244790832 0.244790832 1.24180716 0.26541189 12.09\n",
       "PC2  1  0.136007207 0.136007207 0.68995527 0.40639347  6.71\n",
       "PC6  1  0.099209328 0.099209328 0.50328214 0.47823991  4.90\n",
       "PC3  1  0.096810832 0.096810832 0.49111473 0.48360633  4.78\n",
       "PC5  1  0.050139054 0.050139054 0.25435199 0.61414709  2.48\n",
       "PC8  1  0.026001480 0.026001480 0.13190373 0.71654909  1.28\n",
       "PC10 1  0.014665942 0.014665942 0.07439932 0.78509662  0.72\n",
       "PC7  1  0.002478476 0.002478476 0.01257314 0.91074459  0.12"
      ]
     },
     "metadata": {},
     "output_type": "display_data"
    }
   ],
   "source": [
    "# Build model formula\n",
    "model.str <- paste0(phen.name, \" ~ \", paste(pc.names, collapse=\" + \"))\n",
    "cat(\"MODEL FORMULA:\\n\\n\", model.str, \"\\n\")\n",
    "\n",
    "# Get model fits\n",
    "lm.fit.ea <- lm(formula=as.formula(model.str), data=ea.data)\n",
    "\n",
    "# Get sequential (type I) sum of squares\n",
    "anova.ea <- anova(lm.fit.ea)\n",
    "\n",
    "# Calculate percent variance explained and sort\n",
    "ea.pve <- cbind(anova.ea[pc.names,], \n",
    "                PVE=round(anova.ea[pc.names, \"Mean Sq\"]/sum(anova.ea[pc.names, \"Mean Sq\"])*100, digits=2))\n",
    "ea.pve.sorted <- ea.pve[order(ea.pve$PVE, decreasing=T),]\n",
    "\n",
    "# Output regression info\n",
    "cat(\"\\n\\n================ EA group ================\")\n",
    "summary(lm.fit.ea)\n",
    "ea.pve.sorted"
   ]
  },
  {
   "cell_type": "markdown",
   "metadata": {},
   "source": [
    "#### Percent Variance Explained Visualization"
   ]
  },
  {
   "cell_type": "code",
   "execution_count": 47,
   "metadata": {},
   "outputs": [
    {
     "name": "stdout",
     "output_type": "stream",
     "text": [
      "Top PCs:  PC9 PC4 PC1 \n",
      "PVE:      79.01"
     ]
    },
    {
     "data": {
      "image/png": "[encoded data removed]",
      "text/plain": [
       "Plot with title \"EA PVE Cumulative Sum\""
      ]
     },
     "metadata": {},
     "output_type": "display_data"
    },
    {
     "data": {
      "image/png": "[encoded data removed]",
      "text/plain": [
       "Plot with title \"EA PVE Cumulative Sum (Sorted PCs)\""
      ]
     },
     "metadata": {},
     "output_type": "display_data"
    }
   ],
   "source": [
    "options(repr.plot.width=13, repr.plot.height=5)\n",
    "\n",
    "# Set graphical parameters\n",
    "cex.factor <- 0.9\n",
    "barplot.ylim.ea <- c(0, max(ea.pve$PVE)*1.2)\n",
    "\n",
    "pv_list <- vector(length = 10)\n",
    "total <- 0\n",
    "for (i in 1:nrow(ea.pve.sorted)){\n",
    "    pv_list[i] <- row.names(ea.pve.sorted[i,])\n",
    "    total <- total + ea.pve.sorted[i, \"PVE\"]\n",
    "    #print(total)\n",
    "    if (total >= 75) break\n",
    "}\n",
    "\n",
    "topPCs <- pv_list[which(pv_list != \"FALSE\")]\n",
    "cat(\"Top PCs: \",topPCs, \"\\n\")\n",
    "cat(paste(\"PVE:     \", total))\n",
    "\n",
    "# Visualize PVE\n",
    "par(mfrow=c(1,2))\n",
    "barplot(height=ea.pve$PVE, names.arg=rownames(ea.pve), beside=T, cex.names=cex.factor, \n",
    "        col=\"red3\", border=\"red3\", ylim=barplot.ylim.ea, \n",
    "        main=\"EA Percent Variance Explained\", ylab=\"PVE\")\n",
    "plot(cumsum(ea.pve$PVE), type=\"b\", main=\"EA PVE Cumulative Sum\", ylab=\"PVE\", \n",
    "     lwd=2, col=\"red3\", pch=17, xaxt=\"n\", xlab=\"\", ylim=c(0,100))\n",
    "axis(side=1, at=c(1:10), labels=rownames(ea.pve), cex.axis=cex.factor)\n",
    "\n",
    "par(mfrow=c(1,2))\n",
    "barplot(height=ea.pve.sorted$PVE, names.arg=rownames(ea.pve.sorted), beside=T, cex.names=cex.factor, \n",
    "        col=\"red3\", border=\"red3\", ylim=barplot.ylim.ea, main=\"EA Percent Variance Explained (Sorted PCs)\", ylab=\"PVE\")\n",
    "plot(cumsum(ea.pve.sorted$PVE), type=\"b\", main=\"EA PVE Cumulative Sum (Sorted PCs)\", ylab=\"PVE\", \n",
    "     lwd=2, col=\"red3\", pch=17, xaxt=\"n\", xlab=\"\", ylim=c(0,100))\n",
    "axis(side=1, at=c(1:10), labels=rownames(ea.pve.sorted), cex.axis=cex.factor)\n",
    "\n",
    "\n",
    "\n"
   ]
  },
  {
   "cell_type": "markdown",
   "metadata": {},
   "source": [
    "Based on these results we will use PC9, PC4, PC1. These PCs explain ~79% of the variance. "
   ]
  },
  {
   "cell_type": "markdown",
   "metadata": {},
   "source": [
    "### Alter iid to match imputed data\n",
    "The IDs in the genotype (imputed data) are of the form `fid_iid`. Therefore, I need to map the iid in the PED files to this format."
   ]
  },
  {
   "cell_type": "code",
   "execution_count": null,
   "metadata": {},
   "outputs": [],
   "source": [
    "#upload to EC2\n",
    "scp -i ~/.ssh/gwas_rsa *ped ec2-user@34.206.166.72:/shared/jmarks/hiv/vidus/phenotype/processing\n",
    "\n",
    "study=vidus\n",
    "## EA ##\n",
    "awk 'BEGIN{ OFS = \"\\t\"} NR>=2{ $2=$1\"_\"$2} {print $0 }' ${study}_EUR_cov.ped > ../final/${study}_NGCW1_EUR_cov.ped\n",
    "awk 'BEGIN{ OFS = \"\\t\"} NR>=2{ $2=$1\"_\"$2} {print $0 }' ${study}_EUR_phen.ped > ../final/${study}_NGCW1_EUR_phen.ped"
   ]
  },
  {
   "cell_type": "markdown",
   "metadata": {},
   "source": [
    "### ProbABEL format for phenotype file\n",
    "The format of the phenotype thus far has follows the protocol of the NGC protocol, and therefore the phenotype file format is prepared for RVTESTS. Since we are using the ProbABEL software for these analysis we will format the phenotype file to be of the  form:\n",
    "```\n",
    "IID    PHENOTYPE    OTHER_COVARIATES\n",
    "```\n",
    "where `OTHER_COVARIATES` could be sex, age, PCs, etc. \n",
    "\n",
    "**Note**: additional phenotype processing will have to be done once the genotype data are processed. In particular, we will first get the IDs of the samples in the phenotype file. Then we will filter the genotype (imputed) data down to those subjects in the phenotype file. We will get the order of the subjects in the genotype data and then reorder our phenotype data to be the same order; this is more efficient than trying to reorder every genotype file. The formatting issue we address regarding the phenotype file is the coding of case/control status as well as other binary variables. Since we formatted the data per the NGC protocol, the case/control status is coded as `control=1, case=2`. The ProbABEL software dictates that the binary phenotype variable is to be coded as 0s & 1s, presumably control=0, case=1. We go ahead and recode the sex variable to this standard as well."
   ]
  },
  {
   "cell_type": "code",
   "execution_count": null,
   "metadata": {},
   "outputs": [],
   "source": [
    "## R ##\n",
    "setwd(\"/shared/jmarks/hiv/vidus/phenotype/final\")\n",
    "out_name <- \"vidus.ea.HIV_ACQ.AGE.SEX.PC9+PC4+PC1.txt\"\n",
    "\n",
    "pheno <- \"HIV_ACQ\"\n",
    "pcs = c(\"PC9\", \"PC4\", \"PC1\")\n",
    "other_covs <- c(\"AGE\", \"SEX\", pcs)\n",
    "cov_file <- \"vidus_NGCW1_EUR_cov.ped\"\n",
    "pheno_file <- \"vidus_NGCW1_EUR_phen.ped\"\n",
    "\n",
    "# read in data files\n",
    "my_pheno <- read.table(pheno_file, header=T)\n",
    "my_cov <- read.table(cov_file, header=T)\n",
    "\n",
    "num.subjects <- length(my_cov[,1])\n",
    "    \n",
    "\n",
    "# create new phenotype file (dataframe)\n",
    "num_cols = 2 + length(other_covs) # IID + pheno + covs\n",
    "covar.data <- data.frame(matrix(ncol = num_cols, nrow = num.subjects))\n",
    "names(covar.data) <- c(\"IID\", pheno, other_covs)\n",
    "covar.data[1] <- my_pheno$iid\n",
    "covar.data[2] <- my_pheno$hiv\n",
    "covar.data[3] <- my_cov$age\n",
    "covar.data[4] <- my_cov$sex\n",
    "covar.data[5] <- my_cov$PC9\n",
    "covar.data[6] <- my_cov$PC4\n",
    "covar.data[7] <- my_cov$PC1\n",
    "head(covar.data)\n",
    "\n",
    "write.table(x = covar.data, file = out_name, quote = F, row.names = F)"
   ]
  },
  {
   "cell_type": "code",
   "execution_count": null,
   "metadata": {},
   "outputs": [],
   "source": [
    "## bash ##\n",
    "\n",
    "# make phenotype binary of (0,1) and sex too \n",
    "# this makes hiv control 0 and case 1; female 0 and male 1\n",
    "awk ' NR>=2{$2=$2-1}{print $0}' vidus.ea.HIV_ACQ.AGE.SEX.PC9+PC4+PC1.txt > \\\n",
    "    vidus.ea.HIV_ACQ.AGE.SEX.PC9+PC4+PC1.binary.txt\n",
    "awk ' NR>=2{$4=$4-1}{print $0}' vidus.ea.HIV_ACQ.AGE.SEX.PC9+PC4+PC1.binary.txt > tmp \\\n",
    "    && mv tmp vidus.ea.HIV_ACQ.AGE.SEX.PC9+PC4+PC1.binary.txt"
   ]
  },
  {
   "cell_type": "markdown",
   "metadata": {},
   "source": [
    "## Genotype Data\n",
    "Prepare Genotype Data for analysis software.\n",
    "### Inflate imputation results\n",
    "These data were imputed on the Michigan Imputation Server and therefore need to be inflated.\n",
    "### merge chrX\n",
    "The chrX imputed data from the Michigan Imputation Server is split between males and females. We need to merge these data for the GWAS because the other data is not split by sex. We control for that with a sex covariate.\n",
    "\n",
    "Email from Fang Fang:\n",
    "```css\n",
    "I used `bcftools` to merge vcf files.\n",
    "\n",
    "One thing I want to mention is that when you convert the dosage file from vcf to mach, the info files from male/female are not accurate for variants in terms of AF and quality, so I did not use info file in Dosage_Converter. Instead I calculated these AF after GWAS by taking into account both the male and female AFs. The quality score I reported in both genders.\n",
    "```\n",
    "\n",
    "**bcftools parameters** <br>\n",
    "The following information was copied from `/shared/bioinformatics/software/third_party/bcftools-1.6/doc/bcftools.txt`\n",
    "```\n",
    "*-O, --output-type* 'b'|'u'|'z'|'v'::\n",
    "    Output compressed BCF ('b'), uncompressed BCF ('u'), compressed VCF ('z'), uncompressed VCF ('v').\n",
    "    Use the -Ou option when piping between bcftools subcommands to speed up\n",
    "    performance by removing unnecessary compression/decompression and\n",
    "    VCF<-->BCF conversion.\n",
    "    \n",
    "*-o, --output* 'FILE'::\n",
    "    When output consists of a single stream, write it to 'FILE' rather than\n",
    "    to standard output, where it is written by default.    \n",
    "```"
   ]
  },
  {
   "cell_type": "code",
   "execution_count": null,
   "metadata": {},
   "outputs": [],
   "source": [
    "imputedir=/shared/jmarks/hiv/vidus/genotype/impute/final/ea/chrx\n",
    "/shared/bioinformatics/software/scripts/qsub_job.sh \\\n",
    "    --job_name bmerge \\\n",
    "    --script_prefix ${imputedir}/bmerge \\\n",
    "    --mem 7.5 \\\n",
    "    --nslots 2 \\\n",
    "    --priority 0 \\\n",
    "    --program \"/shared/bioinformatics/software/third_party/bcftools-1.6/bcftools merge \\\n",
    "        ${imputedir}/chrX.no.auto_male.dose.vcf.gz ${imputedir}/chrX.no.auto_female.dose.vcf.gz \\\n",
    "        -O z -o ${imputedir}/chrX.no.auto.vcf.gz\""
   ]
  },
  {
   "cell_type": "markdown",
   "metadata": {},
   "source": [
    "### Convert format: dose to mach\n",
    "The ProbABEL software requires the data to be formatted differently than the VCF format that is the output from MIS. In particular, we need to convert the VCF files (dosage) to MaCH format."
   ]
  },
  {
   "cell_type": "code",
   "execution_count": null,
   "metadata": {},
   "outputs": [],
   "source": [
    "base_dir=/shared/jmarks/hiv/vidus/genotype/impute/final/ea\n",
    "\n",
    "# autosomes\n",
    "for chr in {1..22};do\n",
    "    chr_location=${base_dir}/mach/chr${chr}\n",
    "    mkdir -p $chr_location\n",
    "\n",
    "    /shared/bioinformatics/software/scripts/qsub_job.sh \\\n",
    "        --job_name convert_dosage_chr${chr} \\\n",
    "        --script_prefix $chr_location/chr${chr}.convert \\\n",
    "        --mem 10 \\\n",
    "        --buffer 100000 \\\n",
    "        --nslots 3 \\\n",
    "        --priority 0 \\\n",
    "        --program /shared/bioinformatics/software/third_party/dosage_converter_v1.0.4/bin/DosageConvertor \\\n",
    "            --vcfDose ${base_dir}/auto/chr${chr}.dose.vcf.gz \\\n",
    "            --info ${base_dir}/chr${chr}.info.gz \\\n",
    "            --prefix $chr_location/chr${chr} \\\n",
    "            --type mach \\\n",
    "            --format 1 # contains the expected alternate allele count (one value per sample per marker).\n",
    "done\n",
    "\n",
    "# chrX\n",
    "chr=23\n",
    "chr_location=${base_dir}/mach/chr${chr}\n",
    "mkdir -p $chr_location\n",
    "/shared/bioinformatics/software/scripts/qsub_job.sh \\\n",
    "    --job_name convert_dosage_chr${chr} \\\n",
    "    --script_prefix ${chr_location}/chr${chr}.convert \\\n",
    "    --mem 10 \\\n",
    "    --buffer 100000 \\\n",
    "    --nslots 3 \\\n",
    "    --priority 0 \\\n",
    "    --program /shared/bioinformatics/software/third_party/dosage_converter_v1.0.4/bin/DosageConvertor \\\n",
    "        --vcfDose ${base_dir}/chrx/chrX.no.auto.dose.vcf.gz \\\n",
    "        --prefix ${chr_location}/chr${chr} \\\n",
    "        --type mach \\\n",
    "        --format 1 # contains the expected alternate allele count (one value per sample per marker)."
   ]
  },
  {
   "cell_type": "markdown",
   "metadata": {},
   "source": [
    "#### chrX info file\n",
    "**Note:** about chrX. When you convert the dosage file from vcf to mach, the info files from male/female are not accurate for variants in terms of AF and quality, so I did not use info file in Dosage_Converter. Instead I calculated these AF after GWAS by taking into account both the male and female AFs. The quality score I reported in both genders.\n",
    "\n",
    "```css\n",
    "The info file generated by minimac3/4 at the same time as the VCF dosage file\n",
    "(This parameter is optional, but if NO info file is provided, the output MaCH info file will have missing columns.)\n",
    "```\n",
    "\n",
    "female unique SNPs (18):\n",
    "```\n",
    "X:48797086      C       T       0.00877 0.00877 -       -       Typed_Only      -       -       -       -       -\n",
    "X:53460906      C       T       0.00219 0.00219 -       -       Typed_Only      -       -       -       -       -\n",
    "X:59063483      T       C       0.11842 0.11842 -       -       Typed_Only      -       -       -       -       -\n",
    "X:59099494      T       C       0.00439 0.00439 -       -       Typed_Only      -       -       -       -       -\n",
    "X:59134135      A       G       0.00219 0.00219 -       -       Typed_Only      -       -       -       -       -\n",
    "X:59178058      T       C       0.00439 0.00439 -       -       Typed_Only      -       -       -       -       -\n",
    "X:59189481      A       G       0.03728 0.03728 -       -       Typed_Only      -       -       -       -       -\n",
    "X:59213338      G       A       0.00658 0.00658 -       -       Typed_Only      -       -       -       -       -\n",
    "X:59251895      G       A       0.06360 0.06360 -       -       Typed_Only      -       -       -       -       -\n",
    "X:59262486      C       A       0.00219 0.00219 -       -       Typed_Only      -       -       -       -       -\n",
    "X:59282717      G       A       0.01316 0.01316 -       -       Typed_Only      -       -       -       -       -\n",
    "X:59332968      T       C       0.01974 0.01974 -       -       Typed_Only      -       -       -       -       -\n",
    "X:63091629      C       A       0.00219 0.00219 -       -       Typed_Only      -       -       -       -       -\n",
    "X:70625141      T       C       0.00219 0.00219 -       -       Typed_Only      -       -       -       -       -\n",
    "X:88685058      C       T       0.00658 0.00658 -       -       Typed_Only      -       -       -       -       -\n",
    "X:128778535     C       T       0.00658 0.00658 -       -       Typed_Only      -       -       -       -       -\n",
    "X:134303025     C       A       0.00658 0.00658 -       -       Typed_Only      -       -       -       -       -\n",
    "X:134315090     C       T       0.00658 0.00658 -       -       Typed_Only      -       -       -       -       -\n",
    "```\n",
    "\n",
    "male unique SNPs (8):\n",
    "```\n",
    "X:48349873      G       A       0.00140 0.00140 -       -       Typed_Only      -       -       -       -       -\n",
    "X:48772479      C       T       0.00141 0.00141 -       -       Typed_Only      -       -       -       -       -\n",
    "X:50058760      A       G       0.00143 0.00143 -       -       Typed_Only      -       -       -       -       -\n",
    "X:70330483      C       T       0.00140 0.00140 -       -       Typed_Only      -       -       -       -       -\n",
    "X:75651394      T       C       0.00141 0.00141 -       -       Typed_Only      -       -       -       -       -\n",
    "X:101857367     C       T       0.00140 0.00140 -       -       Typed_Only      -       -       -       -       -\n",
    "X:153230408     G       A       0.00281 0.00281 -       -       Typed_Only      -       -       -       -       -\n",
    "X:153629663     C       T       0.00140 0.00140 -       -       Typed_Only      -       -       -       -       -\n",
    "```\n",
    "\n",
    "These were `genotyped-only` SNPs. When we create the info file, we will either exclude these 18 SNPs or handle them separately when we merge the male and female data."
   ]
  },
  {
   "cell_type": "markdown",
   "metadata": {},
   "source": [
    "### Reorder and prune mach files \n",
    "\n",
    "The converted genotype data (mach format) files need to be reorder and pruned to match the subjects in the phenotype file. \n",
    "Pg. 7 of the [ProbABEL manual](http://www.genabel.org/sites/default/files/pdfs/ProbABEL_manual.pdf) reports that the genomic predictor file—which is the dosage file—has in the first column a sequential ID, followed by an arrow followed by the study ID.\n",
    "\n",
    "We will first get a list of the IDs from the phenotype file.\n",
    "\n",
    "**Note**: for this case, we had to remove 7 subjects that had sex discrepancies. "
   ]
  },
  {
   "cell_type": "code",
   "execution_count": null,
   "metadata": {},
   "outputs": [],
   "source": [
    "## python ##\n",
    "\"\"\"\n",
    "remove sex discrepancies from phenotype file\n",
    "\"\"\"\n",
    "import os\n",
    "\n",
    "os.chdir(\"/shared/jmarks/hiv/vidus/phenotype/final\")\n",
    "\n",
    "infile = \"vidus.ea.HIV_ACQ.AGE.SEX.PC9+PC4+PC1.binary.txt\"\n",
    "sex_ids = \"sex.discrepancies\" # list of 7 subjects to be removed\n",
    "outfile = \"vidus.ea.HIV_ACQ.AGE.SEX.PC9+PC4+PC1.removed_sex_conflict.binary.txt\"\n",
    "\n",
    "with open(infile) as inF, open(sex_ids) as sexF, open(outfile, 'w') as outF:\n",
    "    sex_set = set()\n",
    "    \n",
    "    for line in sexF:\n",
    "        sex_set.add(line.strip())\n",
    "        \n",
    "    head = inF.readline()\n",
    "    line = inF.readline()\n",
    "    outF.write(head)\n",
    "    while line:\n",
    "        ids = line.split()[0]\n",
    "        half = ( len(ids) - 1 ) / 2\n",
    "        ids = ids[0:half]\n",
    "        if ids not in sex_set:\n",
    "            outF.write(line)\n",
    "        \n",
    "        line = inF.readline()\n",
    "################################################################################ \n"
   ]
  },
  {
   "cell_type": "code",
   "execution_count": null,
   "metadata": {},
   "outputs": [],
   "source": [
    "## bash ## \n",
    "cd /shared/jmarks/hiv/vidus/phenotype/final\n",
    "tail -n +2 *sex_conflict* | cut -d\" \" -f1 > phenotype.ids.sex_conflict_removed"
   ]
  },
  {
   "cell_type": "code",
   "execution_count": null,
   "metadata": {},
   "outputs": [],
   "source": [
    "## python ##\n",
    "\"\"\"\n",
    "processing.genotype.files.py\n",
    "\n",
    "This script will process the mach.dose genotype files.\n",
    "In particular, it will remove any subjects that are not\n",
    "the phenotype file. It will output the new filtered mach.dose\n",
    "file as well as a file that contains the order of the subject\n",
    "IDs in the genotype files. We will then use this information to\n",
    "reorder the phenotype file.\n",
    "\n",
    "input: chrom name_of_order_file\n",
    "\n",
    "where chrom is the chromosome to process and name_of_order_file is the \n",
    "output name of the file that contains the order of the samples in the genoytpe data\n",
    "\"\"\"\n",
    "import gzip, sys, os\n",
    "\n",
    "os.chdir(\"/shared/jmarks/hiv/vidus/genotype/impute/final/ea/mach\")\n",
    "\n",
    "chrom = sys.argv[1]\n",
    "order_name = sys.argv[2]\n",
    "\n",
    "print(chrom)\n",
    "myfile = \"chr{0}/chr{0}.mach.dose.gz\".format(chrom)\n",
    "keep_ids = \"phenotype.ids.sex_conflict_removed\"\n",
    "outfile = \"chr{0}/chr{0}.mach.dose.sex_filtered\".format(chrom)\n",
    "out_order = \"chr{0}/{1}\".format(chrom, order_name)\n",
    "\n",
    "order.of.genotype.ids\n",
    "with gzip.open(myfile) as inF, open(keep_ids) as sexF, open(outfile, 'w') as outF, open(out_order, \"w\") as outID:\n",
    "    sex_set = set()\n",
    "    for line in sexF:\n",
    "        sex_set.add(line.strip())\n",
    "\n",
    "    line = inF.readline()\n",
    "    count = 1\n",
    "    while line:\n",
    "        sl = line.split()\n",
    "        gen_id = sl[0].split(\"->\")[0]\n",
    "        if gen_id in sex_set:\n",
    "            sl[0] = \"{}->{}\".format(count, gen_id)\n",
    "            count += 1\n",
    "            newline = \" \".join(sl)\n",
    "            outF.write(newline + \"\\n\")\n",
    "            outID.write(gen_id + \"\\n\")\n",
    "\n",
    "        line = inF.readline()\n",
    "\n",
    "    message = \"chr{0} all done!\".format(chrom)\n",
    "    print(message)"
   ]
  },
  {
   "cell_type": "code",
   "execution_count": null,
   "metadata": {},
   "outputs": [],
   "source": [
    "## bash ##\n",
    "\n",
    "# autosomes\n",
    "for chr in {1..22};do\n",
    "    /shared/bioinformatics/software/scripts/qsub_job.sh \\\n",
    "            --job_name chr$chr.gen.data.processing \\\n",
    "            --script_prefix chr$chr/chr$chr.mach.formatting \\\n",
    "            --mem 20 \\\n",
    "            --nslots 3 \\\n",
    "            --program time python processing.genotype.files.py $chr order.of.genotype.ids\n",
    "done\n",
    "\n",
    "# chrX\n",
    "chr=23\n",
    "/shared/bioinformatics/software/scripts/qsub_job.sh \\\n",
    "        --job_name chr$chr.gen.data.processing \\\n",
    "        --script_prefix chr$chr/chr$chr.mach.formatting \\\n",
    "        --mem 20 \\\n",
    "        --nslots 3 \\\n",
    "        --program time python processing.genotype.files.py $chr order.of.genotype.ids.chrx"
   ]
  },
  {
   "cell_type": "markdown",
   "metadata": {},
   "source": [
    "### Reorder phenotype file\n",
    "Reorder the phenotype file to be of the same order as the genotype files. \n",
    "\n",
    "**Note** the autosomes and chrX will have different orders and will therefore require different phenotype files. This is because chrX is imputed separately for males and females on the Michigan Imputation Server. We have to merge the data after we get them which results in the genotype data being in a disparate order than the autosomes. It might be handier if we just reorder chrX genotype file to be the same order as the autosomes so that we don't have to have to different phenotype files."
   ]
  },
  {
   "cell_type": "code",
   "execution_count": null,
   "metadata": {},
   "outputs": [],
   "source": [
    "cd /shared/jmarks/hiv/vidus/phenotype/final\n",
    "\n",
    "ln -s /shared/jmarks/hiv/vidus/genotype/impute/final/ea/mach/chr1/order.of.genotype.ids .\n",
    "ln -s /shared/jmarks/hiv/vidus/genotype/impute/final/ea/mach/chr23/order.of.genotype.ids.chrx .\n",
    "\n",
    "\n",
    "vidus.ea.HIV_ACQ.AGE.SEX.PC9+PC4+PC1.removed_sex_conflict.binary.txt\n",
    "\n",
    "# autosomes\n",
    "awk 'FNR==NR {x2[$1] = $0; next} $1 in x2 {print x2[$1]}' \\\n",
    "    vidus.ea.HIV_ACQ.AGE.SEX.PC9+PC4+PC1.removed_sex_conflict.binary.txt order.of.genotype.ids >\\\n",
    "    vidus.ea.HIV_ACQ.AGE.SEX.PC9+PC4+PC1.removed_sex_conflict.ordered.binary.txt\n",
    "\n",
    "# chrX\n",
    "awk 'FNR==NR {x2[$1] = $0; next} $1 in x2 {print x2[$1]}' \\\n",
    "    vidus.ea.HIV_ACQ.AGE.SEX.PC9+PC4+PC1.removed_sex_conflict.binary.txt order.of.genotype.ids >\\\n",
    "    vidus.ea.HIV_ACQ.AGE.SEX.PC9+PC4+PC1.removed_sex_conflict.ordered.binary.chrx.txt"
   ]
  },
  {
   "cell_type": "markdown",
   "metadata": {},
   "source": [
    "### create legend\n",
    "Pg. 10 of the [ProbABEL manual](http://www.genabel.org/sites/default/files/pdfs/ProbABEL_manual.pdf) reports that the legend should be in HapMap format:\n",
    "\n",
    "rsID, position, allele1, allele2\n",
    "\n",
    "Note: We do not have the rsID right now. We have the chromosome and the position. It shouldn't be to difficult to convert this to the actual rsID. We might be able to use Nathan Gladdis' Nyholt script to convert these. This can be converted later, though. Also, this is an optional file. The only column that is actually used is the SNP location."
   ]
  },
  {
   "cell_type": "code",
   "execution_count": null,
   "metadata": {},
   "outputs": [],
   "source": [
    "## EC2 console ##\n",
    "machD=/shared/jmarks/hiv/vidus/genotype/impute/final/ea/mach\n",
    "\n",
    "# HapMap \"legend\" file format\n",
    "# note that our data is not in rsID format - we have chr:position for the rsID instead\n",
    "for chr in {1..23}; do\n",
    "    # print header\n",
    "    echo \"id position 0 1\" > $machD/chr$chr/map.chr$chr.legend\n",
    "    # grab the SNP, position, allele1 and allele2\n",
    "    tail -n +2 $machD/chr${chr}/*info | awk '{pos = $1; gsub(/^.+:/, \"\", pos); print $1,pos,$2,$3}' >>\\\n",
    "        $machD/chr$chr/map.chr$chr.legend\n",
    "done &"
   ]
  },
  {
   "cell_type": "markdown",
   "metadata": {},
   "source": [
    "### Format info file\n",
    "The ProbABEL manual specifies that the info file should have exactly 7 columns."
   ]
  },
  {
   "cell_type": "code",
   "execution_count": null,
   "metadata": {},
   "outputs": [],
   "source": [
    "## bash ##\n",
    "\n",
    "machD=/shared/jmarks/hiv/vidus/genotype/impute/final/ea/mach\n",
    "\n",
    "for chr in {1..23}; do\n",
    "    cut -f 1-7 $machD/chr${chr}/chr${chr}.mach.info > $machD/chr$chr/chr$chr.mach.pruned.info & \\\n",
    "done"
   ]
  },
  {
   "cell_type": "markdown",
   "metadata": {},
   "source": [
    "# Start ProbABEL Analysis (logistic model)\n",
    "Perform GWAS. Consult [ProbABEL manual](http://www.genabel.org/sites/default/files/pdfs/ProbABEL_manual.pdf) for details about software parameters.\n",
    "\n",
    "| Ancestry | cases | controls | Total |\n",
    "|----------|-------|----------|-------|\n",
    "| EUR      |  681  |  250     | 931   |\n",
    "\n",
    "\n",
    "## EA Baseline GWAS\n",
    "PC9, PC4, & PC1"
   ]
  },
  {
   "cell_type": "code",
   "execution_count": null,
   "metadata": {},
   "outputs": [],
   "source": [
    "## create directory structure \n",
    "version=006 \n",
    "covars=\"sex,age,PC9,PC4,PC1\"\n",
    "ancestry=\"ea\"\n",
    "phenoF=\"vidus.ea.HIV_ACQ.AGE.SEX.PC9+PC4+PC1.removed_sex_conflict.ordered.binary.txt\"\n",
    "phenoXF=\"vidus.ea.HIV_ACQ.AGE.SEX.PC9+PC4+PC1.removed_sex_conflict.ordered.binary.chrx.txt\"\n",
    "\n",
    "if [ $ancestry == \"aa\" ]; then\n",
    "    pop=AFR\n",
    "else\n",
    "    pop=EUR\n",
    "fi\n",
    "\n",
    "genD=/shared/jmarks/hiv/vidus/genotype/impute/final/$ancestry/mach\n",
    "procD=/shared/jmarks/hiv/vidus/gwas/$ancestry/$version\n",
    "phenD=/shared/jmarks/hiv/vidus/phenotype/final\n",
    "mkdir -p $procD/final\n",
    "mkdir -p $procD/processing/chr{1..23}\n",
    "\n",
    "################################################################################\n",
    "## perform GWAS (logistic)\n",
    "for chr in {1..22}; do\n",
    "    /shared/bioinformatics/software/scripts/qsub_job.sh \\\n",
    "        --job_name probabel_gwas_chr${chr} \\\n",
    "        --script_prefix $procD/processing/chr${chr}/chr${chr}_gwas \\\n",
    "        --mem 30 \\\n",
    "        --nslots 7 \\\n",
    "        --program time /shared/bioinformatics/software/third_party/probabel-0.5.0/bin/palogist \\\n",
    "            --pheno ${phenD}/$phenoF \\\n",
    "            --dose $genD/chr${chr}/chr$chr.mach.dose.sex_filtered \\\n",
    "            --info $genD/chr${chr}/chr${chr}.mach.pruned.info \\\n",
    "            --map $genD/chr${chr}/map.chr${chr}.legend \\\n",
    "            --chrom ${chr} \\\n",
    "            --out $procD/processing/chr${chr}/chr${chr}.palogist.results\n",
    "done\n",
    "\n",
    "\n",
    "chr=23\n",
    "# chrx has a different order phenotype file because the dose file is ordered by sex\n",
    "/shared/bioinformatics/software/scripts/qsub_job.sh \\\n",
    "    --job_name probabel_gwas_chr${chr} \\\n",
    "    --script_prefix $procD/processing/chr${chr}/chr${chr}_gwas \\\n",
    "    --mem 30 \\\n",
    "    --nslots 7 \\\n",
    "    --program time /shared/bioinformatics/software/third_party/probabel-0.5.0/bin/palogist \\\n",
    "        --pheno ${phenD}/$phenoXF \\\n",
    "        --dose $genD/chr${chr}/chr$chr.mach.dose.sex_filtered \\\n",
    "        --info $genD/chr${chr}/chr${chr}.mach.pruned.info \\\n",
    "        --map $genD/chr${chr}/map.chr${chr}.legend \\\n",
    "        --chrom ${chr} \\\n",
    "        --out $procD/processing/chr${chr}/chr${chr}.palogist.results"
   ]
  },
  {
   "cell_type": "code",
   "execution_count": null,
   "metadata": {},
   "outputs": [],
   "source": [
    "## check for completion\n",
    "grep -L 100.00% $procD/processing/chr*/*log"
   ]
  },
  {
   "cell_type": "markdown",
   "metadata": {},
   "source": [
    "## 2df GWAS: GxSex \n",
    "**Note1**: we are removing 7 individual that had sex discrepancies. See [GitHub issue #42](https://github.com/RTIInternational/bioinformatics/issues/42#issuecomment-465608600).\n",
    "\n",
    "```\n",
    "8005964966_NA0054149_93-0143\n",
    "8005964978_NA0054150_93-0144\n",
    "8015124413_NA0055272_93-0623\n",
    "8015124401_NA0055273_93-0624\n",
    "8015124354_NA0055285_93-0628\n",
    "8005965380_NA0055556_93-0720\n",
    "8005964955_NA0056463_93-1068\n",
    "```\n",
    "\n",
    "\n",
    "**Note2**: Because performing the GWAS is so memory intensive, we updated the compute node fleet to x1e.2xlarge because they have 244G of memory and 8 CPU. After this analysis is finished, revert to a smaller (less expensive) set of compute nodes."
   ]
  },
  {
   "cell_type": "code",
   "execution_count": null,
   "metadata": {},
   "outputs": [],
   "source": [
    "version=005 \n",
    "phenoF=\"vidus.ea.HIV_ACQ.AGE.SEX.PC9+PC4+PC1.removed_sex_conflict.ordered.binary.txt\"\n",
    "phenoXF=\"vidus.ea.HIV_ACQ.AGE.SEX.PC9+PC4+PC1.removed_sex_conflict.ordered.binary.chrx.txt\"\n",
    "procD=/shared/jmarks/hiv/vidus/gwas/$ancestry/$version\n",
    "mkdir -p $procD/final\n",
    "mkdir -p $procD/processing/chr{1..23}\n",
    "\n",
    "# autosomes\n",
    "for chr in {22..1}; do\n",
    "    /shared/bioinformatics/software/scripts/qsub_job.sh \\\n",
    "        --job_name chr${chr}.GxSex.palogist \\\n",
    "        --script_prefix $procD/processing/chr${chr}/chr${chr}.2df.GxSex.gwas \\\n",
    "        --mem 200 \\\n",
    "        --nslots 7 \\\n",
    "        --program /shared/bioinformatics/software/third_party/probabel-0.5.0/bin/palogist \\\n",
    "            --pheno $phenD/$phenoF \\\n",
    "            --dose $genD/chr${chr}/chr$chr.mach.dose.sex_filtered \\\n",
    "            --info $genD/chr${chr}/chr${chr}.mach.pruned.info \\\n",
    "            --map $genD/chr${chr}/map.chr${chr}.legend \\\n",
    "            --chrom ${chr} \\\n",
    "            --interaction 2 \\\n",
    "            --out time $procD/processing/chr${chr}/chr${chr}.GxSex.palogist.results\n",
    "done\n",
    "\n",
    "\n",
    "# chrX\n",
    "# chrx has a different order phenotype file because the dose file is ordered by sex\n",
    "chr=23\n",
    "/shared/bioinformatics/software/scripts/qsub_job.sh \\\n",
    "    --job_name chr${chr}.GxSex.palogist \\\n",
    "    --script_prefix $procD/processing/chr${chr}/chr${chr}.2df.GxSex.gwas \\\n",
    "    --mem 200 \\\n",
    "    --nslots 7 \\\n",
    "    --program /shared/bioinformatics/software/third_party/probabel-0.5.0/bin/palogist \\\n",
    "        --pheno $phenD/$phenoXF \\\n",
    "        --dose $genD/chr${chr}/chr$chr.mach.dose.sex_filtered \\\n",
    "        --info $genD/chr${chr}/chr${chr}.mach.pruned.info \\\n",
    "        --map $genD/chr${chr}/map.chr${chr}.legend \\\n",
    "        --chrom ${chr} \\\n",
    "        --interaction 2 \\\n",
    "        --out time $procD/processing/chr${chr}/chr${chr}.GxSex.palogist.results"
   ]
  },
  {
   "cell_type": "markdown",
   "metadata": {},
   "source": [
    "### Results Processing\n",
    "#### MAF > 0.01 & Rsq > 0.3\n",
    "Need to add a filter by population MAF too."
   ]
  },
  {
   "cell_type": "code",
   "execution_count": null,
   "metadata": {},
   "outputs": [],
   "source": [
    "## Get list of variants to filter by imputation quality and MAF\n",
    "for chr in {1..22}; do\n",
    "    echo -e \"${ancestry} chr${chr}...\"\n",
    "    zcat $genD/chr${chr}.info.gz | \\\n",
    "        tail -n +2 | \\\n",
    "        awk '{ if($5 > 0.01 && $7 > 0.3){ print $1\":\"$2\":\"$3 } }' \\\n",
    "        > $procD/processing/chr$chr/${ancestry}_chr${chr}_variants_maf_gt_0.01_rsq_gt_0.3.keep\n",
    "done\n",
    "\n",
    "# chrX note that imputed data are split up by males & females (229F 709M)\n",
    "# perform the filtering on both male and female data and then merge results\n",
    "chr=23\n",
    "echo -e \"${ancestry} chr${chr}...\"\n",
    "zcat $genD/chrx/chrX.no.auto_male.info.gz | \\\n",
    "    tail -n +2 | \\\n",
    "    awk '{ if($5 > 0.01 && $7 > 0.3){ print $1\":\"$2\":\"$3 } }' \\\n",
    "    > $procD/processing/chr$chr/${ancestry}_chr${chr}_variants_maf_gt_0.01_rsq_gt_0.3.keep.tmp\n",
    "\n",
    "echo -e \"${ancestry} chr${chr}...\"\n",
    "zcat $genD/chrx/chrX.no.auto_female.info.gz | \\\n",
    "    tail -n +2 | \\\n",
    "    awk '{ if($5 > 0.01 && $7 > 0.3){ print $1\":\"$2\":\"$3 } }' \\\n",
    "    >> $procD/processing/chr$chr/${ancestry}_chr${chr}_variants_maf_gt_0.01_rsq_gt_0.3.keep.tmp\n",
    "\n",
    "# keep only SNPs that passed filters for both males and females\n",
    "sort $procD/processing/chr$chr/${ancestry}_chr${chr}_variants_maf_gt_0.01_rsq_gt_0.3.keep.tmp |\\\n",
    "    uniq -d > $procD/processing/chr$chr/${ancestry}_chr${chr}_variants_maf_gt_0.01_rsq_gt_0.3.keep\n",
    "\n",
    "\n",
    "\n",
    "# Filter results files\n",
    "if [ $ancestry == \"aa\" ]; then\n",
    "    pop=AFR\n",
    "else\n",
    "    pop=EUR\n",
    "fi\n",
    "for chr in {1..23}; do\n",
    "    if [ $chr == 23 ]; then\n",
    "        tchr=\"X\"\n",
    "    else\n",
    "        tchr=$chr\n",
    "    fi\n",
    "\n",
    "    echo \"processing $ancestry chr${chr}...\"\n",
    "    awk '{ if(NR==FNR){ map[$1]=1; next } { if(map[$1\":\"$2\":\"$3\":\"$4]==1){ print $0 } } }' \\\n",
    "        $procD/processing/chr$chr/${ancestry}_chr${chr}_variants_maf_gt_0.01_rsq_gt_0.3.keep \\\n",
    "        <(zgrep -P \"^${tchr}\\s\" $procD/processing/chr$chr/${study}.${pop}.1000G.oaall.chr${chr}.MetaScore.assoc.gz) \\\n",
    "        > $procD/processing/chr$chr/${study}.${ancestry}.1000G.oaall.chr${chr}.tmp\n",
    "done &\n",
    "cat $procD/processing/chr*/${study}.${ancestry}.1000G.oaall.chr*tmp | gzip -c > $procD/final/${study}.${ancestry}.1000G.oaall.maf_gt_0.01.rsq_gt_0.3.gz\n",
    "\n",
    "# cleanup\n",
    "#rm $procD/processing/chr*/*tmp \n",
    "\n",
    "\n",
    "# Make results table\n",
    "outfile=$procD/processing/${study}.${ancestry}.1000G.oaall.maf_gt_0.01.rsq_gt_0.3.assoc.table\n",
    "echo -e \"VARIANT_ID\\tCHR\\tPOSITION\\tP\\tTYPE\" > $outfile\n",
    "infile=$procD/final/${study}.${ancestry}.1000G.oaall.maf_gt_0.01.rsq_gt_0.3.gz\n",
    "echo \"Processing ${infile}\"\n",
    "zcat ${infile} | \\\n",
    "    perl -lane 'if (($F[2] eq \"A\" || $F[2] eq \"C\" || $F[2] eq \"G\" || $F[2] eq \"T\") && (($F[3] eq \"A\" || $F[3] eq \"C\" || $F[3] eq \"G\" || $F[3] eq \"T\"))) {\n",
    "                    print join(\"\\t\",$F[0].\":\".$F[1],$F[0],$F[1],$F[15],\"snp\");\n",
    "                } else {\n",
    "                    print join(\"\\t\",$F[0].\":\".$F[1],$F[0],$F[1],$F[15],\"indel\");\n",
    "                }' >> $outfile\n",
    "\n",
    "\n",
    "# convert chrX to chr23 in this table\n",
    "awk '{if ($2==\"X\") {$2=\"23\"; gsub(\"X\", \"23\", $1)}} {print $0}' \\\n",
    "    vidus.ea.1000G.oaall.maf_gt_0.01.rsq_gt_0.3.assoc.table >\\\n",
    "    tmp && mv tmp vidus.ea.1000G.oaall.maf_gt_0.01.rsq_gt_0.3.assoc.table\n",
    "\n",
    "\n",
    "# Make Q-Q and manhattan plots\n",
    "sh /shared/bioinformatics/software/scripts/qsub_job.sh \\\n",
    "    --job_name gwas_plots_${ancestry} \\\n",
    "    --script_prefix $procD/final/${ancestry}.1000G.oaall.maf_gt_0.01.rsq_gt_0.3.assoc.plot \\\n",
    "    --mem 30 \\\n",
    "    --nslots 7 \\\n",
    "    --priority 0 \\\n",
    "    --program Rscript /shared/bioinformatics/software/R/generate_gwas_plots.R \\\n",
    "        --in $procD/processing/$study.$ancestry.1000G.oaall.maf_gt_0.01.rsq_gt_0.3.assoc.table \\\n",
    "        --in_chromosomes autosomal_nonPAR \\\n",
    "        --in_header \\\n",
    "        --out $procD/final/$study.${ancestry}.1000G.oaall.maf_gt_0.01.rsq_gt_0.3.assoc.plot.all_chr \\\n",
    "        --col_id VARIANT_ID \\\n",
    "        --col_chromosome CHR \\\n",
    "        --col_position POSITION \\\n",
    "        --col_p P \\\n",
    "        --col_variant_type TYPE \\\n",
    "        --generate_snp_indel_manhattan_plot \\\n",
    "        --manhattan_odd_chr_color red3 \\\n",
    "        --manhattan_even_chr_color dodgerblue3 \\\n",
    "        --manhattan_points_cex 1.5 \\\n",
    "        --generate_snp_indel_qq_plot \\\n",
    "        --qq_lines \\\n",
    "        --qq_points_bg black \\\n",
    "        --qq_lambda"
   ]
  },
  {
   "cell_type": "markdown",
   "metadata": {},
   "source": [
    "####   SNP lookup (EA)\n",
    "Eric O. Johnson requested a lookup of rs4878712—a SNP reported in a prior paper whose G allele reduces the risk of HIV. This SNP's position is 37654257 in the GRCh37 build."
   ]
  },
  {
   "cell_type": "markdown",
   "metadata": {},
   "source": [
    "RVTESTS\n",
    "\n",
    "**CHROM   POS     REF     ALT     N_INFORMATIVE   AF      INFORMATIVE_ALT_AC      CALL_RATE       HWE_PVALUE      N_REF   N_HET   N_ALT   U_STAT  SQRT_V_\n",
    "STAT    ALT_EFFSIZE     PVALUE**\n",
    "```\n",
    "9 37654257   G   A   938     0.442446:0.439749:0.443442      830.028:222.513:607.515 1:1:1   0.321703:0.703252:0.163796      299:78:221     448:128:320     191:47:144   -1.46053  9.38474 -0.0165831 0.876326```"
   ]
  },
  {
   "cell_type": "markdown",
   "metadata": {},
   "source": [
    "ProbABEL\n",
    "\n",
    "**name A1 A2 Freq1 MAF Quality Rsq n Mean_predictor_allele chrom position beta_SNP_addA1 sebeta_SNP_addA1 chi2_SNP_add**\n",
    "```\n",
    "9:37654257 G A 0.44264 0.44264 0.99743 0.99155 931 0.443088 9 37654257 -0.0113189 0.106874 0.0112189\n",
    "```"
   ]
  },
  {
   "cell_type": "markdown",
   "metadata": {},
   "source": [
    "### View plots\n",
    "#### EA"
   ]
  },
  {
   "cell_type": "code",
   "execution_count": null,
   "metadata": {},
   "outputs": [],
   "source": [
    "library(\"IRdisplay\")\n",
    "display_png(file=\"C:/Users/jmarks/OneDrive - Research Triangle Institute//Projects/HIV/vidus/gwas/003//vidus.ea.1000G.oaall.maf_gt_0.01.rsq_gt_0.3.assoc.plot.all_chr.snps+indels.manhattan.png\")  \n",
    "display_png(file=\"C:/Users/jmarks/OneDrive - Research Triangle Institute//Projects/HIV/vidus/gwas/003//vidus.ea.1000G.oaall.maf_gt_0.01.rsq_gt_0.3.assoc.plot.all_chr.snps+indels.qq.png\")  "
   ]
  },
  {
   "cell_type": "markdown",
   "metadata": {},
   "source": [
    "# Upload results to S3"
   ]
  },
  {
   "cell_type": "code",
   "execution_count": null,
   "metadata": {},
   "outputs": [],
   "source": [
    "cd \n",
    "study=\"vidus\"\n",
    "\n",
    "/shared/bioinformatics/software/scripts/qsub_job.sh \\\n",
    "    --job_name s3.$study.upload \\\n",
    "    --script_prefix $study.gwas.upload_results \\\n",
    "    --mem 3 \\\n",
    "    --nslots 2 \\\n",
    "    --program aws s3 sync \n",
    "\n",
    "\n",
    "study=uhs4\n",
    "/shared/bioinformatics/software/scripts/qsub_job.sh \\\n",
    "    --job_name s3.$study.upload \\\n",
    "    --script_prefix $study.gwas.upload_results \\\n",
    "    --mem 3 \\\n",
    "    --nslots 1 \\\n",
    "    --program aws s3 sync . s3://rti-heroin/uhs4/data/genotype/observed/20190214/unprocessed"
   ]
  },
  {
   "cell_type": "markdown",
   "metadata": {},
   "source": [
    "# Sandbox"
   ]
  },
  {
   "cell_type": "code",
   "execution_count": null,
   "metadata": {},
   "outputs": [],
   "source": [
    "# time a process\n",
    "outD=/shared/jmarks/hiv/vidus/gwas/ea/sandbox\n",
    "chr=1\n",
    "\n",
    "/shared/bioinformatics/software/scripts/qsub_job.sh \\\n",
    "    --job_name test.chr1.probabel_gwas \\\n",
    "    --script_prefix  $outD/test.time \\\n",
    "    --mem 30 \\\n",
    "    --nslots 7 \\\n",
    "    --program time /shared/bioinformatics/software/third_party/probabel-0.5.0/bin/palogist \\\n",
    "        --pheno ${phenD}/$phenoF \\\n",
    "        --dose $genD/chr${chr}/chr$chr.ordered_mach_renamed.dose \\\n",
    "        --info $genD/chr${chr}/chr${chr}.mach.pruned.info \\\n",
    "        --map $genD/chr${chr}/map.chr${chr}.legend \\\n",
    "        --chrom ${chr} \\\n",
    "        --out $outD/chr${chr}.palogist.results.test.time\n",
    "\n",
    "\n",
    "/shared/bioinformatics/software/scripts/qsub_job.sh \\\n",
    "    --job_name test.chr1.probabel_gwas \\\n",
    "    --script_prefix  $outD/test.time \\\n",
    "    --mem 30 \\\n",
    "    --nslots 7 \\\n",
    "    --program time bash mytest.sh \n"
   ]
  }
 ],
 "metadata": {
  "kernelspec": {
   "display_name": "R",
   "language": "R",
   "name": "ir"
  },
  "language_info": {
   "codemirror_mode": "r",
   "file_extension": ".r",
   "mimetype": "text/x-r-source",
   "name": "R",
   "pygments_lexer": "r",
   "version": "3.4.3"
  },
  "toc": {
   "nav_menu": {},
   "number_sections": true,
   "sideBar": true,
   "skip_h1_title": false,
   "toc_cell": false,
   "toc_position": {
    "height": "797px",
    "left": "0px",
    "right": "1315.28px",
    "top": "110px",
    "width": "284px"
   },
   "toc_section_display": "block",
   "toc_window_display": true
  }
 },
 "nbformat": 4,
 "nbformat_minor": 2
}
