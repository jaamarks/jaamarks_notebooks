{
 "cells": [
  {
   "cell_type": "markdown",
   "metadata": {},
   "source": [
    "# Heroin Project Notes\n",
    "This document logs my notes, thoughts, and comments for the R01 project referred to as \"fwGWAS Heroin\""
   ]
  },
  {
   "cell_type": "markdown",
   "metadata": {},
   "source": [
    "## Unfamiliar concepts"
   ]
  },
  {
   "cell_type": "markdown",
   "metadata": {},
   "source": [
    "### split PARs (Pseudoautosomal Regions)\n",
    "If the QC pipeline, we have a section of code (below) that I need clarification on. We are breaking the genomic data up into autosomes and chromosome X. For chromosome X we include split PARs. Read link [here](https://www.ncbi.nlm.nih.gov/pmc/articles/PMC2435358/) for a description of these split PARs."
   ]
  },
  {
   "cell_type": "code",
   "execution_count": 1,
   "metadata": {},
   "outputs": [
    {
     "ename": "ERROR",
     "evalue": "Error in parse(text = x, srcfile = src): <text>:2:1: unexpected '/'\n1: # ChrX (include split PARs)\n2: /\n   ^\n",
     "output_type": "error",
     "traceback": [
      "Error in parse(text = x, srcfile = src): <text>:2:1: unexpected '/'\n1: # ChrX (include split PARs)\n2: /\n   ^\nTraceback:\n"
     ]
    }
   ],
   "source": [
    "# ChrX (include split PARs)\n",
    "/shared/bioinformatics/software/third_party/plink-1.90-beta-4.10-x86_64/plink \\\n",
    "    --bfile genotypes_b37_dbsnp138 \\\n",
    "    --chr 23,25 \\\n",
    "    --make-bed \\\n",
    "    --out chrX/genotypes_b37_dbsnp138_unmerged\n",
    "\n",
    "# Combine split chrX and PARs\n",
    "/shared/bioinformatics/software/third_party/plink-1.90-beta-4.10-x86_64/plink \\\n",
    "    --bfile chrX/genotypes_b37_dbsnp138_unmerged \\\n",
    "    --merge-x \\\n",
    "    --make-bed \\\n",
    "    --out chrX/genotypes_b37_dbsnp138"
   ]
  },
  {
   "cell_type": "markdown",
   "metadata": {},
   "source": [
    "## Unfamiliar code or software"
   ]
  },
  {
   "cell_type": "markdown",
   "metadata": {},
   "source": [
    "### Awk"
   ]
  },
  {
   "cell_type": "code",
   "execution_count": null,
   "metadata": {
    "collapsed": true
   },
   "outputs": [],
   "source": [
    "# output field separator, if the last field (the missing call rate) is 1 then append fields 1 and 2\n",
    "awk '{ OFS=\"\\t\" } { if($6==1){ print $1,$2 } }' >> autosomes/missing_whole_autosome.remove\n"
   ]
  }
 ],
 "metadata": {
  "kernelspec": {
   "display_name": "R",
   "language": "R",
   "name": "ir"
  },
  "language_info": {
   "codemirror_mode": "r",
   "file_extension": ".r",
   "mimetype": "text/x-r-source",
   "name": "R",
   "pygments_lexer": "r",
   "version": "3.4.2"
  },
  "toc": {
   "nav_menu": {},
   "number_sections": true,
   "sideBar": true,
   "skip_h1_title": false,
   "toc_cell": false,
   "toc_position": {},
   "toc_section_display": "block",
   "toc_window_display": false
  }
 },
 "nbformat": 4,
 "nbformat_minor": 2
}
