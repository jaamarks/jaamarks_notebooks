{
 "cells": [
  {
   "cell_type": "markdown",
   "metadata": {},
   "source": [
    "# Heroin Project Notes\n",
    "This document logs my notes, thoughts, and comments for the R01 project referred to as \"fwGWAS Heroin\""
   ]
  },
  {
   "cell_type": "markdown",
   "metadata": {},
   "source": [
    "## Unfamiliar concepts"
   ]
  },
  {
   "cell_type": "markdown",
   "metadata": {},
   "source": [
    "### split PARs (Pseudoautosomal Regions)\n",
    "If the QC pipeline, we have a section of code (below) that I need clarification on. We are breaking the genomic data up into autosomes and chromosome X. For chromosome X we include split PARs. Read link [here](https://www.ncbi.nlm.nih.gov/pmc/articles/PMC2435358/) for a description of these split PARs."
   ]
  },
  {
   "cell_type": "code",
   "execution_count": 1,
   "metadata": {},
   "outputs": [
    {
     "ename": "ERROR",
     "evalue": "Error in parse(text = x, srcfile = src): <text>:2:1: unexpected '/'\n1: # ChrX (include split PARs)\n2: /\n   ^\n",
     "output_type": "error",
     "traceback": [
      "Error in parse(text = x, srcfile = src): <text>:2:1: unexpected '/'\n1: # ChrX (include split PARs)\n2: /\n   ^\nTraceback:\n"
     ]
    }
   ],
   "source": [
    "# ChrX (include split PARs)\n",
    "/shared/bioinformatics/software/third_party/plink-1.90-beta-4.10-x86_64/plink \\\n",
    "    --bfile genotypes_b37_dbsnp138 \\\n",
    "    --chr 23,25 \\\n",
    "    --make-bed \\\n",
    "    --out chrX/genotypes_b37_dbsnp138_unmerged\n",
    "\n",
    "# Combine split chrX and PARs\n",
    "/shared/bioinformatics/software/third_party/plink-1.90-beta-4.10-x86_64/plink \\\n",
    "    --bfile chrX/genotypes_b37_dbsnp138_unmerged \\\n",
    "    --merge-x \\\n",
    "    --make-bed \\\n",
    "    --out chrX/genotypes_b37_dbsnp138"
   ]
  },
  {
   "cell_type": "code",
   "execution_count": null,
   "metadata": {
    "collapsed": true
   },
   "outputs": [],
   "source": [
    "truncate -s 0 structure/input_files/input_afr_eas_eur\n",
    "for pop in {AFR,EAS,EUR}; do\n",
    "    cat structure/1000g_data/${pop}_10k_snp_random_sample.final.ped | \\\n",
    "    /shared/bioinformatics/software/perl/boneyard/ped2structure.pl 1 ${groupID} \\\n",
    "    >> structure/input_files/input_afr_eas_eur\n",
    "    groupID=`echo ${groupID} + 1 | bc`\n",
    "done"
   ]
  },
  {
   "cell_type": "markdown",
   "metadata": {},
   "source": [
    "## Unfamiliar code or software"
   ]
  },
  {
   "cell_type": "markdown",
   "metadata": {},
   "source": [
    "### Awk"
   ]
  },
  {
   "cell_type": "code",
   "execution_count": null,
   "metadata": {
    "collapsed": true
   },
   "outputs": [],
   "source": [
    "# output field separator, if the last field (the missing call rate) is 1 then append fields 1 and 2\n",
    "awk '{ OFS=\"\\t\" } { if($6==1){ print $1,$2 } }' >> autosomes/missing_whole_autosome.remove"
   ]
  },
  {
   "cell_type": "code",
   "execution_count": null,
   "metadata": {
    "collapsed": true
   },
   "outputs": [],
   "source": [
    "# Prepare results for triangle plot\n",
    "\n",
    "# # Annotation: in the text file, if the line that has the characters %Miss are encountered, then we know we can start\n",
    "# next if we have encountered %Miss and the line does not contain the characters \"Label\" and the line also is not\n",
    "# blank (beginning of the line is a blank space and it is followed by more whitespaces all the way to the end!)\n",
    "# then, if all of these criteria are met then create an array with the data sets AFR, EAS, EUR and Study_AA\n",
    "# remove any whitespace at the beginning of the line\n",
    "# Create a new array called F. The fields of F will be the entries split by space in the output file\n",
    "# note that $_ is the default variable - which is the line being read in this case\n",
    "\n",
    "perl -ne 'if (/%Miss/) {  \n",
    "              $in=1;\n",
    "              print \"num\\tID\\tpop\\tcluster1\\tcluster2\\tcluster3\\n\";\n",
    "          }\n",
    "          if ($in==1 && !/Label/ && !/^\\s+$/) {\n",
    "              @datasets=(\"AFR\",\"EAS\",\"EUR\",\"Study_AA\");\n",
    "              s/^\\s+//g;\n",
    "              @F=split /\\s+/;\n",
    "              # Grab only study data set groups by ID\n",
    "              if ($F[3] > 3) {\n",
    "                  print $F[0].\"\\t\".$F[1].\"\\t\".$datasets[$F[3]-1].\"\\t\".$F[5].\"\\t\".$F[6].\"\\t\".$F[7].\"\\n\";\n",
    "              }\n",
    "          } \n",
    "          s/\\s+//g;\n",
    "          if ($_ eq \"\") { $in=0; }' structure/output_files/output_afr_eas_eur_f > \\\n",
    "    structure/triangle_plots/afr_eas_eur.triangle_input"
   ]
  },
  {
   "cell_type": "markdown",
   "metadata": {},
   "source": [
    "**Information about the default variable** https://perlmaven.com/the-default-variable-of-perl\n",
    "\n",
    "Also note that `chomp removes trailing new line character at the end of the file."
   ]
  }
 ],
 "metadata": {
  "kernelspec": {
   "display_name": "R",
   "language": "R",
   "name": "ir"
  },
  "language_info": {
   "codemirror_mode": "r",
   "file_extension": ".r",
   "mimetype": "text/x-r-source",
   "name": "R",
   "pygments_lexer": "r",
   "version": "3.4.2"
  },
  "toc": {
   "nav_menu": {},
   "number_sections": true,
   "sideBar": true,
   "skip_h1_title": false,
   "toc_cell": false,
   "toc_position": {},
   "toc_section_display": "block",
   "toc_window_display": false
  }
 },
 "nbformat": 4,
 "nbformat_minor": 2
}
