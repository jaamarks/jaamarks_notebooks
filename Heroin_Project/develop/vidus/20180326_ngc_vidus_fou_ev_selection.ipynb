{
 "cells": [
  {
   "cell_type": "markdown",
   "metadata": {},
   "source": [
    "# VIDUS Frequency of Use (FOU) GWAS PCA Eigenvector Selection\n",
    "__Author__: Jesse Marks\n",
    "\n",
    "This document logs the steps taken to calculate the percent variance explained by the top 10 PCA eigenvectors for a regression model with only the eigenvectors as explanatory variables. It is assumed that the phenotype and eigenvector data are readily available in PED format as outlined in the NGC protocol."
   ]
  },
  {
   "cell_type": "markdown",
   "metadata": {},
   "source": [
    "## Data wrangling"
   ]
  },
  {
   "cell_type": "code",
   "execution_count": 12,
   "metadata": {},
   "outputs": [],
   "source": [
    "# Load PCA data\n",
    "setwd('C:/Users/jmarks/Desktop/VIDUS/pheno/')\n",
    "options(stringsAsFactors=F)\n",
    "ea.cov.data <- read.delim(\"VIDUS_NGCW1_EUR_cov.ped\", header=T, sep=\"\\t\")\n",
    "ea.phen.data <- read.delim(\"VIDUS_NGCW1_EUR_phen.ped\", header=T, sep=\"\\t\")\n",
    "\n",
    "# Combine PCs and phenotype into one data frame\n",
    "phen.name <- \"fou\"\n",
    "pc.names <- paste0(\"PC\", 1:10)\n",
    "ea.data <- merge(x=ea.phen.data[,c(\"iid\",phen.name)], y=ea.cov.data[, c(\"iid\", paste0(\"PC\",1:10))], by=\"iid\")"
   ]
  },
  {
   "cell_type": "markdown",
   "metadata": {},
   "source": [
    "## Regression analysis\n",
    "We use a regression model of the general structure\n",
    "\\begin{align}\n",
    "\\text{FOU = PC1 + PC2 + ... + PC10}\n",
    "\\end{align}"
   ]
  },
  {
   "cell_type": "code",
   "execution_count": 13,
   "metadata": {},
   "outputs": [
    {
     "name": "stdout",
     "output_type": "stream",
     "text": [
      "MODEL FORMULA:\n",
      "\n",
      " fou ~ PC1 + PC2 + PC3 + PC4 + PC5 + PC6 + PC7 + PC8 + PC9 + PC10 \n",
      "\n",
      "\n",
      "================ EA group ================"
     ]
    },
    {
     "data": {
      "text/plain": [
       "\n",
       "Call:\n",
       "lm(formula = as.formula(model.str), data = ea.data)\n",
       "\n",
       "Residuals:\n",
       "    Min      1Q  Median      3Q     Max \n",
       "-23.571  -8.621   1.943   7.801  24.328 \n",
       "\n",
       "Coefficients:\n",
       "            Estimate Std. Error t value Pr(>|t|)    \n",
       "(Intercept)  47.5233     0.5929  80.158   <2e-16 ***\n",
       "PC1          -1.5641    10.2693  -0.152    0.879    \n",
       "PC2          -3.1801    10.2683  -0.310    0.757    \n",
       "PC3          -7.4154    10.2685  -0.722    0.471    \n",
       "PC4           1.7207    10.2688   0.168    0.867    \n",
       "PC5          13.3181    10.2690   1.297    0.196    \n",
       "PC6          15.5524    10.2687   1.515    0.131    \n",
       "PC7         -14.7776    10.2685  -1.439    0.151    \n",
       "PC8           3.2262    10.2687   0.314    0.754    \n",
       "PC9          -2.6660    10.2691  -0.260    0.795    \n",
       "PC10         -1.6727    10.2685  -0.163    0.871    \n",
       "---\n",
       "Signif. codes:  0 '***' 0.001 '**' 0.01 '*' 0.05 '.' 0.1 ' ' 1\n",
       "\n",
       "Residual standard error: 10.27 on 289 degrees of freedom\n",
       "Multiple R-squared:  0.02335,\tAdjusted R-squared:  -0.01045 \n",
       "F-statistic: 0.6908 on 10 and 289 DF,  p-value: 0.7329\n"
      ]
     },
     "metadata": {},
     "output_type": "display_data"
    },
    {
     "data": {
      "text/html": [
       "<table>\n",
       "<thead><tr><th></th><th scope=col>Df</th><th scope=col>Sum Sq</th><th scope=col>Mean Sq</th><th scope=col>F value</th><th scope=col>Pr(&gt;F)</th><th scope=col>PVE</th></tr></thead>\n",
       "<tbody>\n",
       "\t<tr><th scope=row>PC6</th><td>1         </td><td>241.883030</td><td>241.883030</td><td>2.29386575</td><td>0.1309790 </td><td>33.21     </td></tr>\n",
       "\t<tr><th scope=row>PC7</th><td>1         </td><td>218.391091</td><td>218.391091</td><td>2.07108305</td><td>0.1511971 </td><td>29.98     </td></tr>\n",
       "\t<tr><th scope=row>PC5</th><td>1         </td><td>177.314402</td><td>177.314402</td><td>1.68153770</td><td>0.1957546 </td><td>24.34     </td></tr>\n",
       "\t<tr><th scope=row>PC3</th><td>1         </td><td> 55.003350</td><td> 55.003350</td><td>0.52161700</td><td>0.4707367 </td><td> 7.55     </td></tr>\n",
       "\t<tr><th scope=row>PC8</th><td>1         </td><td> 10.409500</td><td> 10.409500</td><td>0.09871711</td><td>0.7536013 </td><td> 1.43     </td></tr>\n",
       "\t<tr><th scope=row>PC2</th><td>1         </td><td> 10.111899</td><td> 10.111899</td><td>0.09589486</td><td>0.7570359 </td><td> 1.39     </td></tr>\n",
       "\t<tr><th scope=row>PC9</th><td>1         </td><td>  7.106844</td><td>  7.106844</td><td>0.06739682</td><td>0.7953503 </td><td> 0.98     </td></tr>\n",
       "\t<tr><th scope=row>PC4</th><td>1         </td><td>  2.964868</td><td>  2.964868</td><td>0.02811694</td><td>0.8669515 </td><td> 0.41     </td></tr>\n",
       "\t<tr><th scope=row>PC10</th><td>1         </td><td>  2.798147</td><td>  2.798147</td><td>0.02653586</td><td>0.8707124 </td><td> 0.38     </td></tr>\n",
       "\t<tr><th scope=row>PC1</th><td>1         </td><td>  2.447755</td><td>  2.447755</td><td>0.02321296</td><td>0.8790109 </td><td> 0.34     </td></tr>\n",
       "</tbody>\n",
       "</table>\n"
      ],
      "text/latex": [
       "\\begin{tabular}{r|llllll}\n",
       "  & Df & Sum Sq & Mean Sq & F value & Pr(>F) & PVE\\\\\n",
       "\\hline\n",
       "\tPC6 & 1          & 241.883030 & 241.883030 & 2.29386575 & 0.1309790  & 33.21     \\\\\n",
       "\tPC7 & 1          & 218.391091 & 218.391091 & 2.07108305 & 0.1511971  & 29.98     \\\\\n",
       "\tPC5 & 1          & 177.314402 & 177.314402 & 1.68153770 & 0.1957546  & 24.34     \\\\\n",
       "\tPC3 & 1          &  55.003350 &  55.003350 & 0.52161700 & 0.4707367  &  7.55     \\\\\n",
       "\tPC8 & 1          &  10.409500 &  10.409500 & 0.09871711 & 0.7536013  &  1.43     \\\\\n",
       "\tPC2 & 1          &  10.111899 &  10.111899 & 0.09589486 & 0.7570359  &  1.39     \\\\\n",
       "\tPC9 & 1          &   7.106844 &   7.106844 & 0.06739682 & 0.7953503  &  0.98     \\\\\n",
       "\tPC4 & 1          &   2.964868 &   2.964868 & 0.02811694 & 0.8669515  &  0.41     \\\\\n",
       "\tPC10 & 1          &   2.798147 &   2.798147 & 0.02653586 & 0.8707124  &  0.38     \\\\\n",
       "\tPC1 & 1          &   2.447755 &   2.447755 & 0.02321296 & 0.8790109  &  0.34     \\\\\n",
       "\\end{tabular}\n"
      ],
      "text/markdown": [
       "\n",
       "| <!--/--> | Df | Sum Sq | Mean Sq | F value | Pr(>F) | PVE | \n",
       "|---|---|---|---|---|---|---|---|---|---|\n",
       "| PC6 | 1          | 241.883030 | 241.883030 | 2.29386575 | 0.1309790  | 33.21      | \n",
       "| PC7 | 1          | 218.391091 | 218.391091 | 2.07108305 | 0.1511971  | 29.98      | \n",
       "| PC5 | 1          | 177.314402 | 177.314402 | 1.68153770 | 0.1957546  | 24.34      | \n",
       "| PC3 | 1          |  55.003350 |  55.003350 | 0.52161700 | 0.4707367  |  7.55      | \n",
       "| PC8 | 1          |  10.409500 |  10.409500 | 0.09871711 | 0.7536013  |  1.43      | \n",
       "| PC2 | 1          |  10.111899 |  10.111899 | 0.09589486 | 0.7570359  |  1.39      | \n",
       "| PC9 | 1          |   7.106844 |   7.106844 | 0.06739682 | 0.7953503  |  0.98      | \n",
       "| PC4 | 1          |   2.964868 |   2.964868 | 0.02811694 | 0.8669515  |  0.41      | \n",
       "| PC10 | 1          |   2.798147 |   2.798147 | 0.02653586 | 0.8707124  |  0.38      | \n",
       "| PC1 | 1          |   2.447755 |   2.447755 | 0.02321296 | 0.8790109  |  0.34      | \n",
       "\n",
       "\n"
      ],
      "text/plain": [
       "     Df Sum Sq     Mean Sq    F value    Pr(>F)    PVE  \n",
       "PC6  1  241.883030 241.883030 2.29386575 0.1309790 33.21\n",
       "PC7  1  218.391091 218.391091 2.07108305 0.1511971 29.98\n",
       "PC5  1  177.314402 177.314402 1.68153770 0.1957546 24.34\n",
       "PC3  1   55.003350  55.003350 0.52161700 0.4707367  7.55\n",
       "PC8  1   10.409500  10.409500 0.09871711 0.7536013  1.43\n",
       "PC2  1   10.111899  10.111899 0.09589486 0.7570359  1.39\n",
       "PC9  1    7.106844   7.106844 0.06739682 0.7953503  0.98\n",
       "PC4  1    2.964868   2.964868 0.02811694 0.8669515  0.41\n",
       "PC10 1    2.798147   2.798147 0.02653586 0.8707124  0.38\n",
       "PC1  1    2.447755   2.447755 0.02321296 0.8790109  0.34"
      ]
     },
     "metadata": {},
     "output_type": "display_data"
    }
   ],
   "source": [
    "# Build model formula\n",
    "model.str <- paste0(phen.name, \" ~ \", paste(pc.names, collapse=\" + \"))\n",
    "cat(\"MODEL FORMULA:\\n\\n\", model.str, \"\\n\")\n",
    "\n",
    "# Get model fits\n",
    "lm.fit.ea <- lm(formula=as.formula(model.str), data=ea.data)\n",
    "\n",
    "# Get sequential (type I) sum of squares\n",
    "anova.ea <- anova(lm.fit.ea)\n",
    "\n",
    "# Calculate percent variance explained and sort\n",
    "ea.pve <- cbind(anova.ea[pc.names,], \n",
    "                PVE=round(anova.ea[pc.names, \"Mean Sq\"]/sum(anova.ea[pc.names, \"Mean Sq\"])*100, digits=2))\n",
    "ea.pve.sorted <- ea.pve[order(ea.pve$PVE, decreasing=T),]\n",
    "\n",
    "# Output regression info\n",
    "cat(\"\\n\\n================ EA group ================\")\n",
    "summary(lm.fit.ea)\n",
    "ea.pve.sorted"
   ]
  },
  {
   "cell_type": "markdown",
   "metadata": {},
   "source": [
    "__Note__: the top 3 PCs explain ~87.5% of the variance - PC {6,7,5}"
   ]
  },
  {
   "cell_type": "markdown",
   "metadata": {},
   "source": [
    "## Percent Variance Explained Visualization"
   ]
  },
  {
   "cell_type": "code",
   "execution_count": 14,
   "metadata": {},
   "outputs": [
    {
     "data": {
      "image/png": "[encoded data removed]",
      "text/plain": [
       "Plot with title \"EA PVE Cumulative Sum\""
      ]
     },
     "metadata": {},
     "output_type": "display_data"
    },
    {
     "data": {
      "image/png": "[encoded data removed]",
      "text/plain": [
       "Plot with title \"EA PVE Cumulative Sum (Sorted PCs)\""
      ]
     },
     "metadata": {},
     "output_type": "display_data"
    }
   ],
   "source": [
    "options(repr.plot.width=13, repr.plot.height=5)\n",
    "\n",
    "# Set graphical parameters\n",
    "cex.factor = 0.9\n",
    "barplot.ylim.ea = c(0, max(ea.pve$PVE)*1.2)\n",
    "\n",
    "# Visualize PVE\n",
    "par(mfrow=c(1,2))\n",
    "barplot(height=ea.pve$PVE, names.arg=rownames(ea.pve), beside=T, cex.names=cex.factor, \n",
    "        col=\"red3\", border=\"red3\", ylim=barplot.ylim.ea, \n",
    "        main=\"EA Percent Variance Explained\", ylab=\"PVE\")\n",
    "plot(cumsum(ea.pve$PVE), type=\"b\", main=\"EA PVE Cumulative Sum\", ylab=\"PVE\", \n",
    "     lwd=2, col=\"red3\", pch=17, xaxt=\"n\", xlab=\"\", ylim=c(0,100))\n",
    "axis(side=1, at=c(1:10), labels=rownames(ea.pve), cex.axis=cex.factor)\n",
    "\n",
    "par(mfrow=c(1,2))\n",
    "barplot(height=ea.pve.sorted$PVE, names.arg=rownames(ea.pve.sorted), beside=T, cex.names=cex.factor, \n",
    "        col=\"red3\", border=\"red3\", ylim=barplot.ylim.ea, main=\"EA Percent Variance Explained (Sorted PCs)\", ylab=\"PVE\")\n",
    "plot(cumsum(ea.pve.sorted$PVE), type=\"b\", main=\"EA PVE Cumulative Sum (Sorted PCs)\", ylab=\"PVE\", \n",
    "     lwd=2, col=\"red3\", pch=17, xaxt=\"n\", xlab=\"\", ylim=c(0,100))\n",
    "axis(side=1, at=c(1:10), labels=rownames(ea.pve.sorted), cex.axis=cex.factor)\n"
   ]
  },
  {
   "cell_type": "code",
   "execution_count": null,
   "metadata": {
    "collapsed": true
   },
   "outputs": [],
   "source": []
  }
 ],
 "metadata": {
  "kernelspec": {
   "display_name": "R",
   "language": "R",
   "name": "ir"
  },
  "language_info": {
   "codemirror_mode": "r",
   "file_extension": ".r",
   "mimetype": "text/x-r-source",
   "name": "R",
   "pygments_lexer": "r",
   "version": "3.4.1"
  },
  "toc": {
   "nav_menu": {},
   "number_sections": true,
   "sideBar": true,
   "skip_h1_title": false,
   "toc_cell": false,
   "toc_position": {},
   "toc_section_display": "block",
   "toc_window_display": false
  }
 },
 "nbformat": 4,
 "nbformat_minor": 2
}
