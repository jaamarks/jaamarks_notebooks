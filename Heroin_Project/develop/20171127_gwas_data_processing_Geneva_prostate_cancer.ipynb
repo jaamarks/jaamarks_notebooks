{
 "cells": [
  {
   "cell_type": "markdown",
   "metadata": {},
   "source": [
    "# Geneva prostate cancer (AA subjects only)\n",
    "** Author: ** Jesse Marks\n",
    "This notebook contains the data processing steps (QC pipeline) for the GENEVA prostate cancer study [phs000306.v4.p1](https://www.ncbi.nlm.nih.gov/projects/gap/cgi-bin/study.cgi?study_id=phs000306.v4.p1). The GENEVA prostate cancer study contains multiple consent goups of which we only have access to consent groups c2 and c5. These are both downloaded and then combined into a single directory structure. **Note:** These steps have already been produced by Bryan Quach in the bioinformatics [GitHub Repo](https://github.com/RTIInternational/bquach_notebooks/blob/master/heroin_project/develop/20170928_oa_gwas_data_processing.ipynb)."
   ]
  },
  {
   "cell_type": "markdown",
   "metadata": {},
   "source": [
    "| Item | Description | Price |\n",
    "| --- | --- | ---: |\n",
    "| item1 | item1 description | 1.00 |\n",
    "| item2 | item2 description | 100.00 |"
   ]
  },
  {
   "cell_type": "markdown",
   "metadata": {},
   "source": [
    "### creating directory structure on MIDAS\n",
    "Preprocess data includes gunzip, renaming, etc."
   ]
  },
  {
   "cell_type": "code",
   "execution_count": null,
   "metadata": {
    "collapsed": true
   },
   "outputs": [],
   "source": [
    "# local #\n",
    "ssh jmarks@rtplhpc01.rti.ns\n",
    "\n",
    "# MIDAS #\n",
    "cd /share/nas04/bioinformatics_group/data/amazon_s3/studies\n",
    "cp -r geneva_prostate/ /share/nas03/jmarks/QC-test/\n",
    "cd /share/nas03/jmarks/QC-test/geneva_prostate/\n",
    "\n",
    "# Going to remove the processed data that Bryan did and process everything myself for a sanity check.\n",
    "rm -rf phenotype/processing/*\n",
    "rm -rf genotype/original/processing/*\n",
    "cp -r phenotype/unprocessed/* /phenotype/processing\n",
    "cp -r genotype/original/unprocessed/* /genotype/original/processing\n",
    "\n",
    "# Untar and rename genotype data\n",
    "for i in ./genotype/original/processing/c2/*tar; do tar -xvf $i -C $(dirname $i); done\n",
    "for i in ./genotype/original/processing/c5/*tar; do tar -xvf $i -C $(dirname $i); done\n",
    "rm genotype/original/processing/c2/*.tar\n",
    "rm genotype/original/processing/c5/*.tar\n",
    "gunzip -r */\n",
    "for i in c2/*; do mv $i $(echo $i | perl -pi -e s/phg00.+Cancer_//g); done\n",
    "for i in c5/*; do mv $i $(echo $i | perl -pi -e s/phg00.+Cancer_//g); done"
   ]
  },
  {
   "cell_type": "markdown",
   "metadata": {},
   "source": [
    "## Genotype Processing (AA subjects only)"
   ]
  },
  {
   "cell_type": "markdown",
   "metadata": {},
   "source": [
    "### Quality Control Sample Tracking\n",
    "The table below provides statistics on variants and subjects filtered during each step of the QC process\n",
    "\n",
    "####Pre-chromosome type partitioning\n",
    "** Note: ** This data set contains chrY and chrM variants that will be excluded after reducing to autosomes and chrX. Initial subject counts are determined by considering only subjects with both genotype and phenotype data available. Consequently, initial numbers will not match between the .fam files and the phenotype files (group c5 is completely missing phenotype data)."
   ]
  },
  {
   "cell_type": "markdown",
   "metadata": {},
   "source": [
    "### Exlusion of subjects without phenotype data\n",
    "The .fam file contains more subject IDs than the phenotype file. The subjects without phenotype data are excluded as they provide no benefit for QWA."
   ]
  },
  {
   "cell_type": "code",
   "execution_count": null,
   "metadata": {
    "collapsed": true
   },
   "outputs": [],
   "source": [
    "# MIDAS #\n",
    "# command line \n",
    "\n",
    "# Get subject IDs from phenotype data\n",
    "cd /share/nas03/jmarks/QC-test/geneva_prostate/genotype/original/processing\n",
    "mkdir aa\n",
    "tail -n +12 ../../../phenotype/processing/c2/Subject.MULTI.txt | \\ \\\n",
    "    cut -f 2 | \\\n",
    "    sort > ../../../phenotype/processing/c2/subject_ids.txt\n",
    "\n",
    "# Add family IDs\n",
    "grep -f ../../../phenotype/processing/c2/subject_ids.txt c2/AA.genotype-calls-matrixfmt.c2/subject_level_filtered_PLINK_sets/GENEVA_MEC_ProstateCancer_AA_FORWARD_subject_level_c2.fam | \\\n",
    "    cut -d ' ' -f 1,2 \\\n",
    "    > ../../../phenotype/processing/c2/subject_ids.keep\n",
    "\n",
    "# Create filtered PLINK fileset \n",
    "/share/nas03/bioinformatics_group/software/plink_1.9_beta3.45/plink \\\n",
    "    --noweb \\\n",
    "    --memory 2048 \\\n",
    "    --bfile c2/AA.genotype-calls-matrixfmt.c2/subject_level_filtered_PLINK_sets/GENEVA_MEC_ProstateCancer_AA_FORWARD_subject_level_c2 \\\n",
    "    --keep ../../../phenotype/processing/c2/subject_ids.keep \\\n",
    "    --make-bed \\\n",
    "    --out aa/genotypes\n"
   ]
  },
  {
   "cell_type": "markdown",
   "metadata": {},
   "source": [
    "## Update dbSNP and genome build\n",
    "To ensure that all of the population controls have variant and genomic data in dbSNP 138 and genome build 37 format, use ID and position mappers to make the updates."
   ]
  },
  {
   "cell_type": "code",
   "execution_count": null,
   "metadata": {
    "collapsed": true
   },
   "outputs": [],
   "source": [
    "# command line #\n",
    "cd /share/nas03/jmarks/QC-test/geneva_prostate/genotype/original/processing\n",
    "\n",
    "# Update variant chr\n",
    "/share/nas03/bioinformatics_group/software/plink_1.9_beta3.45/plink \\\n",
    "    --noweb \\\n",
    "    --memory 2048 \\\n",
    "    --bfile aa/genotypes \\\n",
    "    #update variant chromosomes \\\n",
    "    -- update-chr /share/nas03/bioinformatics_group/common/build_conversion/b37/dbsnp_b138/uniquely_mapped_snps.chromosomes \\\n",
    "    --make-bed \\\n",
    "    --out aa/genotypes_chr_b37\n",
    "\n",
    "# Update variant chr coordinate\n",
    "/share/nas03/bioinformatics_group/software/plink_1.9_beta3.45/plink \\\n",
    "    --noweb \\\n",
    "    --memory 2048 \\\n",
    "    --bfile aa/genotypes_chr_b37 \\\n",
    "    --update-map /share/nas03/bioinformatics_group/common/build_conversion/b37/dbsnp_b138/uniquely_mapped_snps.positions \\\n",
    "    --make-bed \\\n",
    "    --out aa/genotypes_chr_position_b37\n",
    "\n",
    "# Filter to only build 37 uniquely mapped variants\n",
    "/share/nas03/bioinformatics_group/software/plink_1.9_beta3.45/plink \\\n",
    "    --noweb \\\n",
    "    --memory 2048 \\\n",
    "    --bfile aa/genotypes_chr_position_b37 \\\n",
    "    --extract /share/nas03/bioinformatics_group/common/build_conversion/b37/dbsnp_b138/uniquely_mapped_snps.ids \\\n",
    "    --make-bed \\\n",
    "    --out aa/genotypes_b37_dbsnp138\n",
    "\n"
   ]
  },
  {
   "cell_type": "markdown",
   "metadata": {},
   "source": [
    "## Partition into autosomes and chrX groups\n",
    "Apply QC to autosomes and chrX separately, so separate subdirectories are created for the processing of each set."
   ]
  },
  {
   "cell_type": "code",
   "execution_count": null,
   "metadata": {
    "collapsed": true
   },
   "outputs": [],
   "source": [
    "# Command line #\n",
    "cd /share/nas03/jmarks/QC-test/geneva_prostate/genotype/original/processing/aa/\n",
    "mkdir autosomes chrX\n",
    "\n",
    "# Autosomes (this command exludes all unplaced and non-autosomal variants)\n",
    "/share/nas03/bioinformatics_group/software/plink_1.9_beta3.45/plink \\\n",
    "    --bfile genotypes_b37_dbsnp138 \\\n",
    "    --autosome \\\n",
    "    --make-bed \\\n",
    "    --out autosomes/genotypes_b37_dbsnp138\n",
    "\n",
    "\n",
    "# ChrX (include split PARs)\n",
    "/share/nas03/bioinformatics_group/software/plink_1.9_beta3.45/plink \\\n",
    "    --bfile genotypes_b37_dbsnp138 \\\n",
    "    --chr 23,25 \\\n",
    "    --make-bed \\\n",
    "    --out chrX/genotypes_b37_dbsnp138_unmerged\n",
    "\n",
    "# Combine split chrX and PARs\n",
    "/share/nas03/bioinformatics_group/software/plink_1.9_beta3.45/plink \\\n",
    "    --bfile chrX/genotypes_b37_dbsnp138_unmerged \\\n",
    "    --merge-x \\\n",
    "    --make-bed \\\n",
    "    --out chrX/genotypes_b37_dbsnp138\n"
   ]
  },
  {
   "cell_type": "markdown",
   "metadata": {},
   "source": [
    "## Missing autosome data subject filtering\n",
    "Calculate the proportion of missing genotype calls per chromosome using PLINK to assess whether any subjects have data missing for whole autosomes."
   ]
  },
  {
   "cell_type": "code",
   "execution_count": null,
   "metadata": {
    "collapsed": true
   },
   "outputs": [],
   "source": [
    "# Command line #\n",
    "cd /share/nas03/jmarks/QC-test/geneva_prostate/genotype/original/processing/aa\n",
    "\n",
    "# Get missing call rate per chr\n",
    "for chr in {1..22}; do\n",
    "    /share/nas03/bioinformatics_group/software/scripts/qsub_job.sh \\\n",
    "    --job_name aa_${chr} \\\n",
    "    --script_prefix autosomes/chr${chr}_missing_call_rate \\\n",
    "    --mem 3.8 \\\n",
    "    --priority 0 \\\n",
    "    --program /share/nas03/bioinformatics_group/software/plink_1.9_beta3.45/plink \\\n",
    "        --noweb \\\n",
    "        --bfile autosomes/genotypes_b37_dbsnp138 \\\n",
    "        --missing \\\n",
    "        --chr $chr \\\n",
    "        --out autosomes/chr${chr}_missing_call_rate\n",
    "done\n",
    "\n",
    "# Find subjects that have missing for whole autosomes\n",
    "for chr in {1..22}; do\n",
    "    tail -n +2 autosomes/chr${chr}_missing_call_rate.imiss | \\\n",
    "        awk '{ OFS=\"\\t\" } { if($6==1){ print $1,$2 } }' >> autosomes/missing_whole_autosome.remove\n",
    "done"
   ]
  },
  {
   "cell_type": "markdown",
   "metadata": {},
   "source": [
    "For this case none of the subjects had missing autosome data. If subjects ever show up as having missing autosome data then further discussions need to be had on whether these subjects should be removed completely or whether they should only be excluded for the missing chromosomes."
   ]
  },
  {
   "cell_type": "code",
   "execution_count": null,
   "metadata": {
    "collapsed": true
   },
   "outputs": [],
   "source": [
    "# clean up autosome directory\n",
    "rm autosomes/chr*missing_call_rate*"
   ]
  },
  {
   "cell_type": "markdown",
   "metadata": {},
   "source": [
    "## Remove duplicate SNPs\n",
    "If multiple rsIDs are present then the one with the better genotype call rate across subjects should be retained. Obtaining the genotype call rates across subjects would need to be calculated using PLINK --missings"
   ]
  },
  {
   "cell_type": "code",
   "execution_count": null,
   "metadata": {
    "collapsed": true
   },
   "outputs": [],
   "source": [
    "# Command line #\n",
    "cd /share/nas03/jmarks/QC-test/geneva_prostate/genotype/original/processing/aa\n",
    "\n",
    "# Find duplicate rsIDs\n",
    "cut -f2,2 autosomes/genotypes_b37_dbsnp138.bim | sort | uniq  -D > autosomes/variant_duplicates.txt"
   ]
  },
  {
   "cell_type": "markdown",
   "metadata": {},
   "source": [
    "Note: no duplicated rsIDs found for this case "
   ]
  },
  {
   "cell_type": "markdown",
   "metadata": {},
   "source": [
    "## DNA strand flipping\n",
    "To determine if strand flipping is an issue, I performed a merge between chr1 of the study data and 1000 Genomes Phase 3 data. Doing this will produce a log of problematic variants that may be attributable to strand flipping. These results can be compared to chr1 data with flipped variants to see if strand orientation is truly the issue.\n",
    "\n",
    "As of 11/17/2017 the binary filesets per chromosome in PLINK format for 1000G Phase 3 can be found in \n",
    "/share/nas03/bioinformatics_group/data/re_panels/1000G/2013.05/plink."
   ]
  },
  {
   "cell_type": "code",
   "execution_count": null,
   "metadata": {
    "collapsed": true
   },
   "outputs": [],
   "source": [
    "# Command line #\n",
    "cd /share/nas03/jmarks/QC-test/geneva_prostate/genotype/original/processing/aa\n",
    "\n",
    "# Extract chr1 unflipped variants\n",
    "/share/nas03/bioinformatics_group/software/plink_1.9_beta3.45/plink \\\n",
    "    --noweb \\\n",
    "    --bfile autosomes/genotypes_b37_dbsnp138 \\\n",
    "    --chr 1 \\\n",
    "    --make-bed \\\n",
    "    --out chr1_unflipped\n",
    "\n",
    "# Attempt merge with 1000G chr1 data\n",
    "/share/nas03/bioinformatics_group/software/plink_1.9_beta3.45/plink \\\n",
    "    --noweb \\\n",
    "    --bfile chr1_unflipped \\\n",
    "    --bmerge /share/nas03/bioinformatics_group/data/ref_panels/1000G/2013.05/plink/ALL.chr1 \\\n",
    "    --make-bed \\\n",
    "    --out chr1_unflipped_test\n",
    "\n",
    "\n",
    "# Extract chr1 flipped variants\n",
    "/share/nas03/bioinformatics_group/software/plink_1.9_beta3.45/plink \\\n",
    "    --noweb \\\n",
    "    --bfile autosomes/genotypes_b37_dbsnp138 \\\n",
    "    --chr 1 \\\n",
    "    --flip chr1_unflipped_test-merge.missnp \\\n",
    "    --make-bed \\\n",
    "    --out chr1_flipped\n",
    "\n",
    "# Attemp merge with 1000G chr1 data\n",
    "/share/nas03/bioinformatics_group/software/plink_1.9_beta3.45/plink \\\n",
    "    --noweb \\\n",
    "    --bfile chr1_flipped \\\n",
    "    --bmerge /share/nas03/bioinformatics_group/data/ref_panels/1000G/2013.05/plink/ALL.chr1 \\\n",
    "    --make-bed \\\n",
    "    --out chr1_flipped_test\n",
    "\n",
    "# Clean up\n",
    "rm chr1_*"
   ]
  },
  {
   "cell_type": "markdown",
   "metadata": {},
   "source": [
    "Between the flipped and unflipped merge, the flipped merge produced drastically less errors. As a consequence, I will apply a merge for each chromosome to produce a flip list then flip the variants."
   ]
  },
  {
   "cell_type": "code",
   "execution_count": 1,
   "metadata": {
    "collapsed": true
   },
   "outputs": [],
   "source": [
    "# Command line #\n",
    "cd /share/nas03/jmarks/QC-test/geneva_prostate/genotype/original/processing/aa/\n",
    "\n",
    "# Get flip list \n",
    "for chr in {1..22}; do\n",
    "    # Extract unflipped variants\n",
    "    /share/nas03/bioinformatics_group/software/plink_1.9_beta3.45/plink \\\n",
    "        --noweb \\\n",
    "        --bfile autosomes/genotypes_b37_dbsnp138 \\\n",
    "        --chr ${chr} \\\n",
    "        --make-bed \\\n",
    "        --out chr${chr}_unflipped\n",
    "\n",
    "    # Attempt merge with 1000G data\n",
    "    /share/nas03/bioinformatics_group/software/plink_1.9_beta3.45/plink \\\n",
    "        --noweb \\\n",
    "        --bfile chr${chr}_unflipped \\\n",
    "        --bmerge /share/nas03/bioinformatics_group/data/ref_panels/1000G/2013.05/plink/ALL.chr${chr} \\\n",
    "        --make-bed \\\n",
    "        --out chr${chr}_unflipped_test\n",
    "\n",
    "    # Extract flipped variants\n",
    "    /share/nas03/bioinformatics_group/software/plink_1.9_beta3.45/plink \\\n",
    "        --noweb \\\n",
    "        --bfile autosomes/genotypes_b37_dbsnp138 \\\n",
    "        --chr ${chr} \\\n",
    "        --flip chr${chr}_unflipped_test-merge.missnp \\\n",
    "        --make-bed \\\n",
    "        --out chr${chr}_flipped\n",
    "\n",
    "    # Attempt merge with 1000G data\n",
    "    /share/nas03/bioinformatics_group/software/plink_1.9_beta3.45/plink \\\n",
    "        --noweb \\\n",
    "        --bfile chr${chr}_flipped \\\n",
    "        --bmerge /share/nas03/bioinformatics_group/data/ref_panels/1000G/2013.05/plink/ALL.chr${chr} \\\n",
    "        --make-bed \\\n",
    "        --out chr${chr}_flipped_test\n",
    "done\n",
    "\n",
    "\n",
    "# Combine flip lists\n",
    "cat chr*_unflipped_test-merge.missnp | sort -u > chr_all_unflipped_test-merge.missnp\n",
    "cat chr*_flipped_test-merge.missnp | sort -u > chr_all_flipped_test-merge.missnp\n",
    "comm -23 chr_all_unflipped_test-merge.missnp chr_all_flipped_test-merge.missnp \\\n",
    "    > autosomes/chr_all.flip\n",
    "\n",
    "# Perform final flip\n",
    "/share/nas03/bioinformatics_group/software/plink_1.9_beta3.45/plink \\\n",
    "    --noweb \\\n",
    "    --bfile autosomes/genotypes_b37_dbsnp138 \\\n",
    "    --flip autosomes/chr_all.flip \\\n",
    "    --make-bed \\\n",
    "    --out autosomes/genotypes_b37_dbsnp138_flipped\n",
    "\n",
    "# Clean up\n",
    "rm chr*flipped*\n"
   ]
  },
  {
   "cell_type": "markdown",
   "metadata": {},
   "source": [
    "## Detecting ancestral outliears with STRUCTURE\n",
    "[STRUCTURE](https://web.stanford.edu/group/pritchardlab/structure.html) is a software tool that can be used to identify admixed individuals, among other uses. By comparing the study subjects with the 10000 Genomes Phase 3 reference panel, I can estimate the composition of an individual's ancestry to determine any discrepancies between self-reporting and genetic information. For the study data, I will be comparing the individuals to 3 different superpopulations from the 1000 Genomes Phase 3 reference panel\n",
    "\n",
    "* AFR (African)\n",
    "* EAS (East Asian)\n",
    "* EUR (European)\n",
    "\n",
    "#### SNP subset selection\n",
    "For computational efficiency 10,000 SNPs are randomly chosen from the intersection of SNPs in the study data with the 3 1000 Genomes superpopulations of interest. As of 11/6/2017 the binary filesets per chromosome in PLINK format for 1000G Phase 3 can be found in `/share/nas03/bioinformatics_group/data/ref_panels/1000G/2013.05/plink`. Although I am unsure of the dbSNP build for the rsIDs, the discrepancies should not be an issue since in the end we are only using a subset of the SNPs for input into STRUCTURE.\n",
    "\n",
    "**NOTE:** From correspondence with Nathan Gaddis I learned that `/share/nas03/bioinformatics_group/data/ref_panels/1000G/2014.10/` also contains 1000G Phase 3 data derived form the May 2013 release. The difference is that it was downloaded from the [IMPUTE2 website](https://mathgen.stats.ox.ac.uk/impute/1000GP_Phase3.html) and reformatted to be directly compatible with IMPUTE2."
   ]
  },
  {
   "cell_type": "code",
   "execution_count": null,
   "metadata": {
    "collapsed": true
   },
   "outputs": [],
   "source": [
    "# Command line #\n",
    "cd /share/nas04/bioinformatics_group/data/amazon_s3/studies/geneva_prostate/genotype/original/processing/\n",
    "mkdir structure\n",
    "\n",
    "# Get lists of non-A/T and non-C/G SNPs\n",
    "ancestry=\"aa\"\n",
    "perl -lane 'if (($F[4] eq \"A\" && $F[5] ne \"T\") || ($F[4] eq \"T\" && $F[5] ne \"A\") || ($F[4] eq \"C\" && $F[5] ne \"G\") || ($F[4] eq \"G\" && $F[5] ne \"C\")) { print $F[1]; }' \\\n",
    "${ancestry}/autosomes/genotypes_b37_dbsnp138_flipped.bim | \\\n",
    "    sort -u | \\\n",
    "    grep \"rs\" \\\n",
    "    > structure/${ancestry}_no_at_cg_snps.txt\n",
    "\n",
    "# Get list of variants from 1000G\n",
    "mkdir structure/1000g_data\n",
    "/share/nas03/bioinformatics_group/software/scripts/qsub_job.sh \\\n",
    "    --job_name merge_1000g_snps \\\n",
    "    --script_prefix structure/1000g_data/merge_1000g_snps \\\n",
    "    --mem 3 \\\n",
    "    --priority 0 \\\n",
    "    --program \"cat /share/nas03/bioinformatics_group/data/ref_panels/1000G/2013.05/plink/ALL.chr{1..22}.bim | \\\n",
    "        cut -f2,2 | \\\n",
    "        sort -u | \\\n",
    "        grep \\\"rs\\\" > structure/1000g_data/1000g_phase3_snps.txt\""
   ]
  },
  {
   "cell_type": "markdown",
   "metadata": {},
   "source": [
    "### Extract SNP subset PLINK binary filesets for 1000G data\n",
    "The 05/2013 release of th 1000 Genomes data have been previously processed and converted to PLINK binary fileset format, but the files included all the 1000G individuals. We are interested in only three superpopulations, so we create filesets specifically for each of these groupls. It was brought to my attention that 1000G Phase 3 rsIDs may be duplicated across chromosomes potentially causing chromosome merging issues. For that reason, it is typically recommended to process the chromosomes separately initially, then combine post SNP subsetting. Subject IDs with superpopulations are available at \n",
    "`/share/nas03/bioinformatics_group/data/ref_panels/1000G/igsr_samples.tsv`"
   ]
  },
  {
   "cell_type": "code",
   "execution_count": null,
   "metadata": {
    "collapsed": true
   },
   "outputs": [],
   "source": [
    "# Command line #\n",
    "cd /share/nas03/jmarks/QC-test/geneva_prostate/genotype/original/processing/\n",
    "\n",
    "# Ancestry specific directories\n",
    "for pop in {AFR,EAS,EUR}; do\n",
    "    mkdir structure/1000g_data/${pop}\n",
    "done\n",
    "\n",
    "# Get subject IDs by ancestry\n",
    "awk 'BEGIN { FS=\"\\t\"; OFS=\"\\t\" } { if($7==\"African\"){print $1,$1} }' /share/nas03/bioinformatics_group/data/ref_panels/1000G/igsr_samples.tsv \\\n",
    "    > structure/1000g_data/AFR/AFR_subject_ids.txt\n",
    "awk 'BEGIN { FS=\"\\t\"; OFS=\"\\t\" } { if($7==\"East Asian\"){print $1,$1} }' /share/nas03/bioinformatics_group/data/ref_panels/1000G/igsr_samples.tsv \\\n",
    "    > structure/1000g_data/EAS/EAS_subject_ids.txt\n",
    "awk 'BEGIN { FS=\"\\t\"; OFS=\"\\t\" } { if($7==\"European\"){print $1,$1} }' /share/nas03/bioinformatics_group/data/ref_panels/1000G/igsr_samples.tsv \\\n",
    "    > structure/1000g_data/EUR/EUR_subject_ids.txt\n",
    "\n",
    "# Make new binary filesets for each 1000G group\n",
    "# Memory request is high because MIDAS fails on this step if whole node not occupied by a job\n",
    "for pop in {AFR,EAS,EUR}; do\n",
    "    for chr in {1..22}; do\n",
    "        /share/nas03/bioinformatics_group/software/scripts/qsub_job.sh \\\n",
    "            --job_name ${pop}_${chr}_filter \\\n",
    "            --script_prefix structure/1000g_data/${pop}/ancestry_partition_chr${chr} \\\n",
    "            --mem 15.5 \\\n",
    "            --priority 0 \\\n",
    "            --program /share/nas03/bioinformatics_group/software/plink_1.9_beta3.45/plink \\\n",
    "                --noweb \\\n",
    "                --memory 10000 \\\n",
    "                --bfile /share/nas03/bioinformatics_group/data/ref_panels/1000G/2013.05/plink/ALL.chr${chr} \\\n",
    "                --keep structure/1000g_data/${pop}/${pop}_subject_ids.txt \\\n",
    "                --make-bed \\\n",
    "                --out structure/1000g_data/${pop}/${pop}.chr${chr}\n",
    "    done\n",
    "done\n",
    "\n",
    "\n",
    "\n",
    "# Apply SNP subset extraction by chr\n",
    "for pop in {AFR,EAS,EUR}; do\n",
    "    for chr in {1..22}; do\n",
    "        /share/nas03/bioinformatics_group/software/scripts/qsub_job.sh \\\n",
    "            --job_name ${pop}_${chr}_subsample \\\n",
    "            --script_prefix structure/1000g_data/${pop}/ancestry_partition_chr${chr} \\\n",
    "            --mem 7.6 \\\n",
    "            --priority 0 \\\n",
    "            --program /share/nas03/bioinformatics_group/software/plink_1.9_beta3.45/plink \\\n",
    "                --noweb \\\n",
    "                --memory 7500 \\\n",
    "                --bfile structure/1000g_data/${pop}/${pop}.chr${chr} \\\n",
    "                --extract structure/10k_snp_random_sample.txt \\\n",
    "                --make-bed \\\n",
    "                --out structure/1000g_data/${pop}/${pop}_chr${chr}_10k_snp_random_sample\n",
    "    done\n",
    "done\n",
    "\n",
    "# Create merge lists and merge autosomes for each 1000G population\n",
    "data_dir=structure/1000g_data\n",
    "for pop in {AFR,EAS,EUR}; do\n",
    "    echo \"${data_dir}/${pop}/${pop}_chr1_10k_snp_random_sample\" > ${data_dir}/${pop}/${pop}_autosome_merge_list.txt\n",
    "    for chr in {2..22}; do\n",
    "        echo \"${data_dir}/${pop}/${pop}_chr${chr}_10k_snp_random_sample\" \\\n",
    "        >> ${data_dir}/${pop}/${pop}_autosome_merge_list.txt\n",
    "    done\n",
    "done\n",
    "\n",
    "for pop in {AFR,EAS,EUR}; do\n",
    "    /share/nas03/bioinformatics_group/software/scripts/qsub_job.sh \\\n",
    "        --job_name ${pop}_merge_plink_filesets \\\n",
    "        --script_prefix structure/1000g_data/${pop}/merge_plink_filesets \\\n",
    "        --mem 4 \\\n",
    "        --priority 0 \\\n",
    "        --program /share/nas03/bioinformatics_group/software/plink_1.9_beta3.45/plink \\\n",
    "            --noweb \\\n",
    "            --memory 4000 \\\n",
    "            --merge-list structure/1000g_data/${pop}/${pop}_autosome_merge_list.txt \\\n",
    "            --snps-only just-acgt \\\n",
    "            --make-bed \\\n",
    "            --out structure/1000g_data/${pop}/${pop}_all_autosomes_10k_snp_random_sample\n",
    "done"
   ]
  },
  {
   "cell_type": "markdown",
   "metadata": {},
   "source": [
    "### Discrepancy assessment between 1000G and study data\n",
    "As a quality check that the SNP data subsampled from the 1000 Genomes and study data are the same, I will attempt to merge an arbitrarily selected group from each data set using PLINK. If any errors are found, PLINK will generate an error file. Likely causes of errors would be:\n",
    "\n",
    "* SNP genomic coordinates not matching\n",
    "* SNP duplicates found\n",
    "* SNP strand orientation flipped\n",
    "\n",
    "If errors are fo;und the two options for mobing forward are\n",
    "1. Re-run the 10,000 SNP subsampling and hope the SNPs chosen do not raise issues\n",
    "2. Remove the problematic SNPs\n",
    "\n",
    "Option #2 is the prfered approach and the one I will be taking."
   ]
  },
  {
   "cell_type": "code",
   "execution_count": null,
   "metadata": {
    "collapsed": true
   },
   "outputs": [],
   "source": [
    "# Command line #\n",
    "cd /share/nas03/jmarks/QC-test/geneva_prostate/genotype/original/processing\n",
    "\n",
    "# Merge AA and AFR genotype files\n",
    "/share/nas03/bioinformatics_group/software/plink_1.9_beta3.45/plink \\\n",
    "    --noweb \\\n",
    "    --file structure/aa_10k_snp_random_sample \\\n",
    "    --bmerge structure/1000g_data/AFR/AFR_all_autosomes_10k_snp_random_sample \\\n",
    "    --recode \\\n",
    "    --out structure/1000g_AFR_prostate_aa_10k_snp_random_sample"
   ]
  },
  {
   "cell_type": "markdown",
   "metadata": {},
   "source": [
    "The attempt merge generated 3 errors. In the case of an unsuccessful merge, the following are common:\n",
    "\n",
    "* Multiple positions found for a variant\n",
    "* Non-biallelic variants found\n",
    "\n",
    "When these occur, I exclude variants with multiple positions and see if flipping the non-biallelic variants resolves the second issue."
   ]
  },
  {
   "cell_type": "code",
   "execution_count": null,
   "metadata": {
    "collapsed": true
   },
   "outputs": [],
   "source": [
    "# Get list of multiple position variants\n",
    "grep \"Multiple positions seen for variant\" structure/1000g_AFR_prostate_aa_10k_snp_random_sample.log | \\\n",
    "    cut -d\"'\" -f2,2 > structure/1000g_AFR_prostate_aa_10k_snp_random_sample.bad_snps.remove\n",
    "\n",
    "# Flip study AA non-biallelic SNPs and remove multi-position variants\n",
    "/share/nas03/bioinformatics_group/software/plink_1.9_beta3.45/plink \\\n",
    "    --noweb \\\n",
    "    --file structure/aa_10k_snp_random_sample \\\n",
    "    --exclude structure/1000g_AFR_prostate_aa_10k_snp_random_sample.bad_snps.remove \\\n",
    "    --flip structure/1000g_AFR_prostate_aa_10k_snp_random_sample.missnp \\\n",
    "    --recode \\\n",
    "    --out structure/aa_10k_snp_random_sample_retry\n",
    "\n",
    "# Remove multi-position variants from 1000G AFR\n",
    "/share/nas03/bioinformatics_group/software/plink_1.9_beta3.45/plink \\\n",
    "    --noweb \\\n",
    "    --bfile structure/1000g_data/AFR/AFR_all_autosomes_10k_snp_random_sample \\\n",
    "    --exclude structure/1000g_AFR_prostate_aa_10k_snp_random_sample.bad_snps.remove \\\n",
    "    --make-bed \\\n",
    "    --out structure/AFR_all_autosomes_10k_snp_random_sample_retry\n",
    "\n",
    "# Retry merge\n",
    "/share/nas03/bioinformatics_group/software/plink_1.9_beta3.45/plink \\\n",
    "    --noweb \\\n",
    "    --file structure/aa_10k_snp_random_sample_retry \\\n",
    "    --bmerge structure/AFR_all_autosomes_10k_snp_random_sample_retry \\\n",
    "    --make-bed \\\n",
    "    --out structure/1000g_AFR_prostate_aa_10k_snp_random_sample_retry"
   ]
  },
  {
   "cell_type": "markdown",
   "metadata": {},
   "source": [
    "If the merge retry fails then the subset of failed flipped SNPs will get combined with the multi-position SNPs into a blacklist to use for creating the final PED files. Otherwise a separate blacklist and flip list will be used with PLINK --exclude and --flip."
   ]
  },
  {
   "cell_type": "code",
   "execution_count": null,
   "metadata": {
    "collapsed": true
   },
   "outputs": [],
   "source": [
    "# Create final exclusion list\n",
    "cat structure/1000g_AFR_prostate_aa_10k_snp_random_sample_retry-merge.missnp structure/1000g_AFR_prostate_aa_10k_snp_random_sample.bad_snps.remove \\\n",
    "> structure/10k_snp_random_sample_blacklist.txt\n",
    "\n",
    "# Create final flip list if retry merge was successful\n",
    "cat structure/1000g_AFR_prostate_aa_10k_snp_random_sample_retry-merge.missnp structure/1000g_AFR_prostate_aa_10k_snp_random_sample.missnp | \\\n",
    "sort | uniq -u > structure/10k_snp_random_sample_flip_list.txt\n",
    "\n",
    "# File cleanup\n",
    "rm structure/1000g_AFR_prostate_aa_10k_snp_random_sample.*"
   ]
  },
  {
   "cell_type": "markdown",
   "metadata": {},
   "source": [
    "### STRUCTURE input file construction\n",
    "Because our initial merge and flip test was unsuccessful, I proceed with applying a blacklist filtering."
   ]
  },
  {
   "cell_type": "code",
   "execution_count": null,
   "metadata": {
    "collapsed": true
   },
   "outputs": [],
   "source": [
    "# Command line #\n",
    "cd /share/nas04/bioinformatics_group/data/amazon_s3/studies/geneva_prostate/genotype/original/processing/\n",
    "\n",
    "# Create final ped and map files for study genotype data for SNP subset\n",
    "ancestry=\"aa\"\n",
    "/share/nas03/bioinformatics_group/software/plink_1.9_beta3.45/plink \\\n",
    "    --noweb \\\n",
    "    --memory 3000 \\\n",
    "    --bfile ${ancestry}/autosomes/genotypes_b37_dbsnp138_flipped \\\n",
    "    --extract structure/10k_snp_random_sample.txt \\\n",
    "    --exclude structure/10k_snp_random_sample_blacklist.txt \\\n",
    "    --snps-only just-acgt \\\n",
    "    --recode \\\n",
    "    --out structure/${ancestry}_10k_snp_random_sample.final\n",
    "\n",
    "\n",
    "# Create ped and map files for each 1000G population\n",
    "for pop in {AFR,EAS,EUR}; do\n",
    "    /share/nas03/bioinformatics_group/software/plink_1.9_beta3.45/plink \\\n",
    "    --noweb \\\n",
    "    --memory 1024 \\\n",
    "    --bfile structure/1000g_data/${pop}/${pop}_all_autosomes_10k_snp_random_sample \\\n",
    "    --exclude structure/10k_snp_random_sample_blacklist.txt \\\n",
    "    --recode \\\n",
    "    --out structure/1000g_data/${pop}_10k_snp_random_sample.final\n",
    "done\n",
    "\n",
    "# Final check for SNP discrepancies\n",
    "/share/nas03/bioinformatics_group/software/plink_1.9_beta3.45/plink \\\n",
    "    --noweb \\\n",
    "    --file structure/aa_10k_snp_random_sample.final \\\n",
    "    --merge structure/1000g_data/AFR_10k_snp_random_sample.final \\\n",
    "    --recode \\\n",
    "    --out structure_input_test\n",
    "\n",
    "# File cleanup\n",
    "rm structure_input_test*"
   ]
  },
  {
   "cell_type": "markdown",
   "metadata": {},
   "source": [
    "No merging issues were identified in the final check, so I will use the script ped2structure.pl to convert the PED file into a STRUCTURE input file format. This script takes two inputs. The first is an integer that serves as an ID to distinguish between a reference panel population or a study data set group. The second input is an integer that is unique to each group/population regardless of whether it's from the study or 1000G data.\n",
    "\n",
    "The goal of the conversion script is to generate a single STRUCTURE input file containing genotype information for the ~10,000 (post-filtered) subsampled SNPs and the individuals from the study and 1000G data sets. Documentation on the format can be found [here](https://web.stanford.edu/group/pritchardlab/structure_software/release_versions/v2.3.4/structure_doc.pdf). The first three columns contain the following information respectively\n",
    "1. Subject indentifier\n",
    "2. Group/population identifier. Distinc for each ancestry group or superpopulation\n",
    "3. Boolean indicatory (1=True, 0=False) specifying reference panel populations. This is used by STRUCTURE to define the ancestry groups\n",
    "\n",
    "We will be runing structure assuming that the study subjects descended from threee populations. The traditional approach would be to use AFR, EAS, and EUR. I will run STRUCTURE using theese 1000G superpopulations.\n",
    "\n",
    "**Note:** For `K` reference panel populations used for ancestry comparisons, the reference panel populations must be given group IDs between 1 and `K`."
   ]
  },
  {
   "cell_type": "code",
   "execution_count": null,
   "metadata": {
    "collapsed": true
   },
   "outputs": [],
   "source": [
    "# Command line #\n",
    "cd /share/nas03/jmarks/QC-test/geneva_prostate/genotype/original/processing\n",
    "mkdir structure/input_files\n",
    "\n",
    "#### Create STRUCTURE file with AFR, EAS, and EUR ####\n",
    "\n",
    "\n",
    "groupID=1 #distinguish between all groups\n",
    "\n",
    "# Append 1000G populations to STRUCTURE file\n",
    "truncate -s 0 structure/input_files/input_afr_eas_eur\n",
    "for pop in {AFR,EAS,EUR}; do\n",
    "    cat structure/1000g_data/${pop}_10k_snp_random_sample.final.ped | \\\n",
    "    /share/nas03/bioinformatics_group/software/perl/ped2structure.pl 1 ${groupID} \\\n",
    "    >> structure/input_files/input_afr_eas_eur\n",
    "    groupID=`echo ${groupID} + 1 | bc`\n",
    "done\n"
   ]
  },
  {
   "cell_type": "code",
   "execution_count": null,
   "metadata": {
    "collapsed": true
   },
   "outputs": [],
   "source": []
  },
  {
   "cell_type": "code",
   "execution_count": null,
   "metadata": {
    "collapsed": true
   },
   "outputs": [],
   "source": [
    "\n",
    "\n",
    "\n",
    "\n",
    "\n",
    "\n",
    "\n",
    "\n",
    "\n",
    "\n",
    "\n",
    "\n",
    "\n",
    "\n",
    "\n",
    "\n",
    "\n",
    "\n",
    "\n",
    "\n",
    "\n",
    "\n",
    "\n",
    "\n",
    "\n"
   ]
  }
 ],
 "metadata": {
  "kernelspec": {
   "display_name": "R",
   "language": "R",
   "name": "ir"
  },
  "language_info": {
   "codemirror_mode": "r",
   "file_extension": ".r",
   "mimetype": "text/x-r-source",
   "name": "R",
   "pygments_lexer": "r",
   "version": "3.4.2"
  },
  "toc": {
   "nav_menu": {},
   "number_sections": true,
   "sideBar": true,
   "skip_h1_title": false,
   "toc_cell": false,
   "toc_position": {},
   "toc_section_display": "block",
   "toc_window_display": false
  }
 },
 "nbformat": 4,
 "nbformat_minor": 2
}
