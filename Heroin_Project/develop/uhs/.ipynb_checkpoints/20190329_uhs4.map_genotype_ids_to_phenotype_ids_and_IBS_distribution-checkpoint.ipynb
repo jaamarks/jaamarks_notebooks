{
 "cells": [
  {
   "cell_type": "markdown",
   "metadata": {},
   "source": [
    "# Map genotype ids to phenotype ids\n",
    "The individual IDs are made up of different portions (e.g. AS00-00347_8002022294_HHG10078_12_H06). To map these genotype IDs to the phenotype IDs is not straight forward. In particular, some of the IDs we might be able to map to the phenotype file by the cell_line portion (e.g. HHG10078) while other times we might have to try to map to the phenotype file using the serum ID (e.g. AS00-00347). The follow script does this searching for us. \n",
    "\n",
    "___\n",
    "\n",
    "## files needed\n",
    "* master phenotype file\n",
    "* master genotype ID file\n",
    "* ancestry specific genotype ID file\n",
    "\n",
    "**master phenotype file** <br>\n",
    "The corrected master phenotype file contains the variables of interest to used as phenotypes and covariates. This master phenotype file is located on S3 at:\n",
    "`s3://rti-heroin/hiv_all_merged_with_uhs_all_phenotype_data_08282017.csv.gz`.\n",
    "The updated CSV file uses quotes to demarcate column values.\n",
    "\n",
    "\n",
    "**master genotype file** <br>\n",
    "The file `master.genotype.ids.n3469` contains the genotype IDs for all of the UHS4 subjects. It has three columns:\n",
    "1. The AS number portion of the genotype ID\n",
    "2. The HHG, or cell_line, portion of the genotype ID\n",
    "3. The full genotype ID\n",
    "\n",
    "head -4 master.genotype.ids.n3469\n",
    "```\n",
    "AS# HHG#    Full_ID\n",
    "AS00-00347      HHG10078        AS00-00347_8002022294_HHG10078_12_H06\n",
    "AS00-00351      HHG6146 AS00-00351_8002220319_HHG6146_36_C02\n",
    "AS00-00437      HHG6150 AS00-00437_8002220343_HHG6150_36_D02\n",
    "```\n",
    "\n",
    "**ancestry specific genotype ID file**\n",
    "This file contains only the genotype subject IDs that you are interested in. You use this to filter the mapping file down to ancestry specific phenotype file.\n",
    "head ha.ids.8\n",
    "```\n",
    "AS00-00584_8002022306_HHG10079_12_A07\n",
    "AS00-00631_8002022318_HHG10080_15_D03\n",
    "AS00-00672_8002022247_HHG10082_11_E10\n",
    "AS00-00675_8002022259_HHG10083_37_D08\n",
    "AS00-01586_8002022283_HHG10085_13_A10\n",
    "AS00-01589_8002022295_HHG10086_11_H07\n",
    "```"
   ]
  },
  {
   "cell_type": "code",
   "execution_count": null,
   "metadata": {},
   "outputs": [],
   "source": [
    "import os, itertools\n",
    "import pandas as pd\n",
    "\n",
    "os.chdir(\"C:/Users/jmarks/OneDrive - Research Triangle Institute/Projects/heroin/ngc/uhs4/phenotype\")\n",
    "phenotype_file = \"unprocessed/hiv_all_merged_with_uhs_all_phenotype_data_08282017.csv\"\n",
    "genotype_file = \"processing/troubleshoot/all_genotype_ids.n3469\"\n",
    "var_list = [\"pmmn\", \"personid\", \"presid\", \"date_acq\", \"gwasdate_acq\", \n",
    "            \"gwaspresid\", \"hivstat\", \"hiv_status\", \"wave.x\", \"wave.y\", \"ind_id\"]\n",
    "date = \"20190328\"\n",
    "out_file = \"processing/troubleshoot/{}_genotype_to_phenotype_map_with_variables3.txt\".format(date)\n",
    "\n",
    "df = pd.read_csv(phenotype_file, dtype=str) "
   ]
  },
  {
   "cell_type": "code",
   "execution_count": null,
   "metadata": {},
   "outputs": [],
   "source": [
    "# view head of dictionaries\n",
    "def glance(d, size):\n",
    "    return dict(itertools.islice(d.items(), size))\n",
    "\n",
    "def gp_map(phenotype_file, var_list, df):\n",
    "    # initialized dictionaries that capture the variables-of-interest information for all subjects in phenotype file\n",
    "    cell_dic = {}\n",
    "    serum_dic = {}\n",
    "    gwas_dic = {}\n",
    "\n",
    "    for row in range(len(df)):\n",
    "        # initialize list for key-value in dictionary\n",
    "        cell_dic[df.loc[row, \"cell_line\"]] = []\n",
    "        serum_dic[df.loc[row, \"serum\"]] = []\n",
    "        gwas_dic[df.loc[row, \"gwasserum\"]] = []\n",
    "\n",
    "        for var in var_list:\n",
    "            cell_dic[df.loc[row, \"cell_line\"]].append(df.loc[row, var])\n",
    "            serum_dic[df.loc[row, \"serum\"]].append(df.loc[row, var])\n",
    "            gwas_dic[df.loc[row, \"gwasserum\"]].append(df.loc[row, var])\n",
    "\n",
    "    print(\"Finished creating the genotype to phenotype map.\\n\")\n",
    "    return cell_dic, serum_dic, gwas_dic"
   ]
  },
  {
   "cell_type": "code",
   "execution_count": null,
   "metadata": {},
   "outputs": [],
   "source": [
    "def newline(dic, identifier, otherline, outF):\n",
    "    line = \"\\t\".join(str(x) for x in dic[identifier])\n",
    "    line = \"{}\\t{}\".format(otherline.strip(), line)\n",
    "    outF.write(line + \"\\n\")\n",
    "\n",
    "def filter_ids(genotype_file, out_file, cell_d, serum_d, gwas_d):\n",
    "    with open(genotype_file) as inF, open(out_file, \"w\") as outF:\n",
    "        field1 = \"genotype_ID\"\n",
    "        head = \"\\t\".join(var_list)\n",
    "        head = \"{}\\t{}\\n\".format(field1, head)\n",
    "        outF.write(head)\n",
    "        line = inF.readline()\n",
    "        while line:\n",
    "            sl = line.split(\"_\")\n",
    "            asnum = sl[0] \n",
    "            hhg = sl[2]\n",
    "\n",
    "            if hhg in cell_d:\n",
    "                newline(cell_d, hhg, line, outF)\n",
    "            elif asnum in serum_d:\n",
    "                newline(serum_d, asnum, line, outF)\n",
    "            elif asnum in gwas_d:\n",
    "                newline(gwas_d, asnum, line, outF)\n",
    "            else:\n",
    "                print(\"Didn't find the following ID:\\n\")\n",
    "                print(line)\n",
    "                print(hhg)\n",
    "            line = inF.readline()\n",
    "    print(\"All done filtering down to the genotype IDs of interest jess.\")\n",
    "    print(\"your file is saved to: %s\" %  out_file)"
   ]
  },
  {
   "cell_type": "code",
   "execution_count": 7,
   "metadata": {},
   "outputs": [
    {
     "name": "stdout",
     "output_type": "stream",
     "text": [
      "Finished creating the genotype to phenotype map.\n",
      "\n",
      "All done filtering down to the genotype IDs of interest jess.\n",
      "your file is saved to: processing/troubleshoot/20190328_genotype_to_phenotype_map_with_variables.txt\n"
     ]
    }
   ],
   "source": [
    "import pandas as pd\n",
    "import os, itertools\n",
    "os.chdir(\"C:/Users/jmarks/OneDrive - Research Triangle Institute/Projects/heroin/ngc/uhs4/phenotype/processing/troubleshoot/\")\n",
    "\n",
    "from uhs_master_phenotype_parse import *\n",
    "os.chdir(\"C:/Users/jmarks/OneDrive - Research Triangle Institute/Projects/heroin/ngc/uhs4/phenotype/\")\n",
    "#===============================================================================================================================\n",
    "\n",
    "phenotype_file = \"unprocessed/hiv_all_merged_with_uhs_all_phenotype_data_08282017.csv\"\n",
    "genotype_file = \"processing/troubleshoot/all_genotype_ids.n3469\" # geno ids to map to pheno\n",
    "var_list = [\"pmmn\", \"personid\", \"presid\", \"date_acq\", \"gwasdate_acq\", \n",
    "            \"gwaspresid\", \"hivstat\", \"hiv_status\", \"wave.x\", \"wave.y\", \"ind_id\"]\n",
    "date = \"20190328\"  # today's date\n",
    "out_suffix = \"_genotype_to_phenotype_map_with_variables.txt\" # suffix of outfile\n",
    "out_file = \"processing/troubleshoot/{}{}\".format(date, out_suffix)\n",
    "#===============================================================================================================================\n",
    "\n",
    "df = pd.read_csv(phenotype_file, dtype=str) \n",
    "cell_d, serum_d, gwas_d = gp_map(phenotype_file, var_list, df)\n",
    "filter_ids(genotype_file, var_list, out_file, cell_d, serum_d, gwas_d)"
   ]
  },
  {
   "cell_type": "code",
   "execution_count": null,
   "metadata": {},
   "outputs": [],
   "source": []
  },
  {
   "cell_type": "code",
   "execution_count": null,
   "metadata": {},
   "outputs": [],
   "source": []
  },
  {
   "cell_type": "code",
   "execution_count": null,
   "metadata": {},
   "outputs": [],
   "source": [
    "\n",
    "\n",
    "\n",
    "\n",
    "\n",
    "\n",
    "\n",
    "\n",
    "\n"
   ]
  },
  {
   "cell_type": "code",
   "execution_count": null,
   "metadata": {},
   "outputs": [],
   "source": []
  },
  {
   "cell_type": "code",
   "execution_count": null,
   "metadata": {},
   "outputs": [],
   "source": []
  },
  {
   "cell_type": "code",
   "execution_count": null,
   "metadata": {},
   "outputs": [],
   "source": []
  }
 ],
 "metadata": {
  "kernelspec": {
   "display_name": "Python 3",
   "language": "python",
   "name": "python3"
  },
  "language_info": {
   "codemirror_mode": {
    "name": "ipython",
    "version": 3
   },
   "file_extension": ".py",
   "mimetype": "text/x-python",
   "name": "python",
   "nbconvert_exporter": "python",
   "pygments_lexer": "ipython3",
   "version": "3.7.1"
  },
  "toc": {
   "nav_menu": {},
   "number_sections": true,
   "sideBar": true,
   "skip_h1_title": false,
   "toc_cell": false,
   "toc_position": {},
   "toc_section_display": true,
   "toc_window_display": false
  }
 },
 "nbformat": 4,
 "nbformat_minor": 2
}
