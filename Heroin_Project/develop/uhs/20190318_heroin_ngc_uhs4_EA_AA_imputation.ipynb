{
 "cells": [
  {
   "cell_type": "markdown",
   "metadata": {},
   "source": [
    "# UHS4 imputation\n",
    "__Author__: Jesse Marks <br>\n",
    "\n",
    "**GitHub Issue:** [Issue #117](https://github.com/RTIInternational/bioinformatics/issues/117)\n",
    "\n",
    "This document logs the steps taken to perform pre-imputation procedures on the UHS4 dataset, both EA and AA. The starting point for this analysis is after quality control of observed genotypes. The quality controlled genotypes are oriented on the GRCh37 plus strand. \n",
    "\n",
    "## Software and tools\n",
    "The software and tools used for porcessing these data are\n",
    "* [Michigan Imputation Server](https://imputationserver.sph.umich.edu/index.html) (MIS)\n",
    "* [Amazon Web Services (AWS) - Cloud Computing Services](https://aws.amazon.com/)\n",
    "    * Linux AMI\n",
    "* [PLINK v1.90 beta 4.10](https://www.cog-genomics.org/plink/)\n",
    "* [bgzip](http://www.htslib.org/doc/tabix.html)\n",
    "* [BCF Tools](http://www.htslib.org/doc/bcftools.html)\n",
    "* Windows 10 with [Cygwin](https://cygwin.com/) installed\n",
    "* GNU bash version 4.2.46\n",
    "\n",
    "## Data retrieval and organization\n",
    "PLINK binary filesets will be obtained from AWS S3 storage.\n",
    "\n",
    "Jesse Marks performed the QC and stored the observed genotype data at:\n",
    "\n",
    "```\n",
    "s3/rti-heroin/uhs4/data/genotype/observed/final/\n",
    "```"
   ]
  },
  {
   "cell_type": "markdown",
   "metadata": {},
   "source": [
    "###  Statistics Breakdown \n",
    "This table includes the initial number of variants in each study as well as the final number of variants in the intersection set. The `Variants Post-Filtering` is in referral to the filtering steps (1) remove discordant alleles & (2) removal of monomorphic variants.\n",
    "\n",
    "#### EA\n",
    "| Data Set      | Initial Variants | Variants Post-Filtering  | Intersection     |\n",
    "|---------------|------------------|--------------------------|------------------|\n",
    "| UHS4          |                  |                          | NA               |\n",
    "\n",
    "#### AA\n",
    "| Data Set      | Initial Variants | Variants Post-Filtering  | Intersection     |\n",
    "|---------------|------------------|--------------------------|------------------|\n",
    "| UHS4          |                  |                          | NA               |"
   ]
  },
  {
   "cell_type": "markdown",
   "metadata": {},
   "source": [
    "## Create Directory Structure & Download Data\n",
    "The following section needs to be modified each time to reflect where the data is stored!"
   ]
  },
  {
   "cell_type": "code",
   "execution_count": 1,
   "metadata": {},
   "outputs": [],
   "source": [
    "### EC2 command line (bash) ###\n",
    "\n",
    "# Modify variables below\n",
    "######################################################################\n",
    "base_dir=/shared/jmarks/heroin/uhs4/genotype/imputed/004\n",
    "genD=/shared/jmarks/heroin/uhs4/genotype/observed/final/004\n",
    "\n",
    "base_name=\"chr_all\" # chr23 or chr_all\n",
    "chr_list={1..23} # or {1..22} \n",
    "ancestry_list=\"ea aa\" # space delimited Ex. \"ea aa ha\"\n",
    "study_list=\"uhs4\" # space delimited, lowercase\n",
    "######################################################################\n",
    "\n",
    "mkdir ${base_dir}/processing/{intersect,1000g,impute_prep}\n",
    "for study in ${study_list};do\n",
    "    for ancestry in ${ancestry_list};do\n",
    "        mkdir -p ${base_dir}/processing/${study}\n",
    "        mkdir -p ${base_dir}/data/${study}/genotype/observed/${ancestry}\n",
    "    done\n",
    "done\n",
    "\n",
    "## download genotype (with AWS CLI tools) to respective directories ##\n",
    "#aws s3 sync s3://rti-heroin/kreek/data/genotype/original/20181128/ \\\n",
    "#    ${base_dir}/data/${study}/genotype/observed/\n",
    "#mv ${base_dir}/data/${study}/genotype/observed/ea* ${base_dir}/data/${study}/genotype/observed/ea\n",
    "#mv ${base_dir}/data/${study}/genotype/observed/aa* ${base_dir}/data/${study}/genotype/observed/aa"
   ]
  },
  {
   "cell_type": "markdown",
   "metadata": {},
   "source": [
    "# Data Processing\n",
    "## GRCh37 strand and allele discordance check\n",
    "### MAF for study data"
   ]
  },
  {
   "cell_type": "code",
   "execution_count": null,
   "metadata": {
    "collapsed": true
   },
   "outputs": [],
   "source": [
    "### EC1 command line (Bash) ###\n",
    "\n",
    "# write out the MAF report\n",
    "for study in ${study_list}; do\n",
    "    study_dir=${base_dir}/processing/${study}/strand_check\n",
    "    mkdir ${study_dir}\n",
    "    for ancestry in ${ancestry_list};do\n",
    "        data_dir=${base_dir}/data/${study}/genotype/observed/${ancestry}\n",
    "        /shared/bioinformatics/software/third_party/plink-1.90-beta-4.10-x86_64/plink \\\n",
    "            --noweb \\\n",
    "            --memory 2048 \\\n",
    "            --bed ${data_dir}/*bed\\\n",
    "            --bim ${data_dir}/*bim\\\n",
    "            --fam ${data_dir}/*fam\\\n",
    "            --freq \\\n",
    "            --out ${study_dir}/${ancestry}_${base_name}\n",
    "    done\n",
    "done\n",
    "\n",
    "# Get list of variants from all studies\n",
    "for ancestry in ${ancestry_list}; do\n",
    "    for study in ${study_list};do\n",
    "        cat ${base_dir}/data/${study}/genotype/observed/${ancestry}/*bim | \\\n",
    "                perl -lane 'if (($F[0]+0) <= 23) { print $F[1]; }' | \\\n",
    "                sort -u > ${base_dir}/processing/${ancestry}_${base_name}_sorted_variants.txt\n",
    "    done\n",
    "     wc -l ${base_dir}/processing/$ancestry*\n",
    "done\n",
    "\n",
    "for ancestry in ${ancestry_list}; do"
   ]
  },
  {
   "cell_type": "markdown",
   "metadata": {},
   "source": [
    "```\n",
    "2006753 /shared/jmarks/heroin/uhs4/genotype/imputed/004/processing/ea_chr_all_sorted_variants.txt\n",
    "1627424 /shared/jmarks/heroin/uhs4/genotype/imputed/004/processing/aa_chr_all_sorted_variants.txt\n",
    " ```"
   ]
  },
  {
   "cell_type": "markdown",
   "metadata": {},
   "source": [
    "### MAF for 1000G\n",
    "This pipeline is currently set up to handle EUR and AFR populations.\n",
    "#### Autosomes\n",
    "Get 1000G MAF for chromosomes 1–22 (autosomes)."
   ]
  },
  {
   "cell_type": "code",
   "execution_count": null,
   "metadata": {},
   "outputs": [],
   "source": [
    "### EC2 command line (Bash)\n",
    "\n",
    "# Calculate autosome MAFs for 1000G populations\n",
    "for ancestry in ${ancestry_list}; do\n",
    "\n",
    "    if [ $ancestry == \"ea\" ]; then\n",
    "        pop=\"EUR\"\n",
    "    elif [ $ancestry == \"ha\" ]; then\n",
    "        pop=\"AMR\";\n",
    "    else\n",
    "        pop=\"AFR\"\n",
    "    fi\n",
    "    \n",
    "    for chr in {1..22}; do\n",
    "        /shared/bioinformatics/software/scripts/qsub_job.sh \\\n",
    "            --job_name ${pop}_${chr}_MAF \\\n",
    "            --script_prefix ${base_dir}/processing/1000g/${pop}_chr${chr}.maf \\\n",
    "            --mem 6.8 \\\n",
    "            --nslots 2 \\\n",
    "            --priority 0 \\\n",
    "            --program /shared/bioinformatics/software/perl/stats/calculate_maf_from_impute2_hap_file.pl \\\n",
    "                --hap /shared/data/ref_panels/1000G/2014.10/1000GP_Phase3_chr${chr}.hap.gz\\\n",
    "                --legend /shared/data/ref_panels/1000G/2014.10/1000GP_Phase3_chr${chr}.legend.gz \\\n",
    "                --sample /shared/data/ref_panels/1000G/2014.10/1000GP_Phase3.sample \\\n",
    "                --chr ${chr} \\\n",
    "                --out ${base_dir}/processing/1000g/${pop}_chr${chr}.maf \\\n",
    "                --extract ${base_dir}/processing/${ancestry}_${base_name}_sorted_variants.txt \\\n",
    "                --keep_groups ${pop}\n",
    "    done\n",
    "done"
   ]
  },
  {
   "cell_type": "markdown",
   "metadata": {},
   "source": [
    "#### chrX\n",
    "Get 1000G MAF for chromosome 23 (chrX)."
   ]
  },
  {
   "cell_type": "code",
   "execution_count": null,
   "metadata": {},
   "outputs": [],
   "source": [
    "chr=23\n",
    "for ancestry in ${ancestry_list};do\n",
    "\n",
    "    if [ $ancestry == \"ea\" ]\n",
    "    then\n",
    "        pop=\"EUR\"\n",
    "    elif [ $ancestry == \"ha\" ]; then\n",
    "        pop=\"AMR\"\n",
    "    else\n",
    "        pop=\"AFR\"\n",
    "    fi\n",
    "\n",
    "    /shared/bioinformatics/software/scripts/qsub_job.sh \\\n",
    "        --job_name ${pop}_23_MAF \\\n",
    "        --script_prefix ${base_dir}/processing/1000g/${pop}_chr${chr}.maf \\\n",
    "        --mem 6.8 \\\n",
    "        --nslots 2 \\\n",
    "        --priority 0 \\\n",
    "        --program /shared/bioinformatics/software/perl/stats/calculate_maf_from_impute2_hap_file.pl \\\n",
    "            --hap /shared/data/ref_panels/1000G/2014.10/1000GP_Phase3_chrX_NONPAR.hap.gz\\\n",
    "            --legend /shared/data/ref_panels/1000G/2014.10/1000GP_Phase3_chrX_NONPAR.legend.gz \\\n",
    "            --sample /shared/data/ref_panels/1000G/2014.10/1000GP_Phase3.sample \\\n",
    "            --chr $chr \\\n",
    "            --out ${base_dir}/processing/1000g/${pop}_chr${chr}.maf \\\n",
    "            --extract ${base_dir}/processing/${ancestry}_${base_name}_sorted_variants.txt \\\n",
    "            --keep_groups ${pop}\n",
    "done"
   ]
  },
  {
   "cell_type": "markdown",
   "metadata": {},
   "source": [
    "### Merge 1000G chromosomes\n",
    "Only need to perform this if there were multiple chromosomes for which the MAF was calculated—e.g. more than just chrX."
   ]
  },
  {
   "cell_type": "code",
   "execution_count": null,
   "metadata": {},
   "outputs": [],
   "source": [
    "### Bash ###\n",
    "\n",
    "# Merge per chr MAFs for each 1000G population\n",
    "for ancestry in ${ancestry_list};do\n",
    "    if [ $ancestry == \"ea\" ]\n",
    "    then\n",
    "        pop=\"EUR\"\n",
    "    elif [ $ancestry == \"ha\" ]; then\n",
    "        pop=\"AMR\"\n",
    "    else\n",
    "        pop=\"AFR\"\n",
    "    fi\n",
    "    \n",
    "    head -n 1 ${base_dir}/processing/1000g/${pop}_chr1.maf > ${base_dir}/processing/1000g/${pop}_chr_all.maf\n",
    "    tail -q -n +2 ${base_dir}/processing/1000g/${pop}_chr??maf  >> ${base_dir}/processing/1000g/${pop}_chr_all.maf\n",
    "    \n",
    "    wc -l $base_dir/processing/1000g/${pop}_chr_all.maf\n",
    "done"
   ]
  },
  {
   "cell_type": "markdown",
   "metadata": {},
   "source": [
    "```\n",
    "1069721 /shared/jmarks/heroin/uhs4/genotype/imputed/004/processing/1000g/EUR_chr_all.maf\n",
    "899125 /shared/jmarks/heroin/uhs4/genotype/imputed/004/processing/1000g/AFR_chr_all.maf\n",
    "```"
   ]
  },
  {
   "cell_type": "markdown",
   "metadata": {},
   "source": [
    "###  Allele Discordances Check\n",
    "The allele discordances will be resolved by\n",
    "* Flipping allele discordances that are fixed by flipping\n",
    "* Removing SNPs with discordant names\n",
    "* Removing SNPs with discordant positions\n",
    "* Removing allele discordances that are not resolved by flipping\n",
    "* Removing alleles with large deviations from the reference population allele frequencies\n",
    "\n",
    "Given that the allele discordance check was done using a union set of SNPs across all studies within an ancestry group, some of the SNPs logged as discordant for a given study may not actually be in the study. Fortunately, if they are not in a given study they will not interfere with the filtering procedures. Note that the intersection set is used for the final studies merger.\n",
    "\n",
    "#### Autosomes"
   ]
  },
  {
   "cell_type": "code",
   "execution_count": null,
   "metadata": {},
   "outputs": [],
   "source": [
    "### Bash ###\n",
    "\n",
    "# Run discordance checks for each ancestry group\n",
    "for study in ${study_list}; do\n",
    "    for ancestry in ${ancestry_list};do\n",
    "        if [ $ancestry = \"ea\" ]; then\n",
    "            pop=EUR\n",
    "        elif [ $ancestry = \"ha\" ]; then\n",
    "            pop=AMR\n",
    "        else\n",
    "            pop=AFR\n",
    "        fi\n",
    "\n",
    "       /shared/bioinformatics/software/scripts/qsub_job.sh \\\n",
    "           --job_name ${ancestry}_${study}_crosscheck \\\n",
    "           --script_prefix ${base_dir}/processing/$study/strand_check/${ancestry}_allele_discordance_check \\\n",
    "           --mem 6 \\\n",
    "           --nslots 4 \\\n",
    "           --priority 0 \\\n",
    "           --program \"Rscript /shared/bioinformatics/software/R/check_study_data_against_1000G.R\n",
    "               --study_bim_file ${base_dir}/data/${study}/genotype/observed/${ancestry}/*bim\n",
    "               --study_frq_file ${base_dir}/processing/${study}/strand_check/${ancestry}_chr_all.frq\n",
    "               --ref_maf_file ${base_dir}/processing/1000g/${pop}_chr_all.maf\n",
    "               --out_prefix ${base_dir}/processing/${study}/strand_check/${ancestry}_allele_discordance\"\n",
    "    done\n",
    "done"
   ]
  },
  {
   "cell_type": "markdown",
   "metadata": {},
   "source": [
    "#### chrX \n",
    "Not necessary to run unless you are only processing chrX."
   ]
  },
  {
   "cell_type": "code",
   "execution_count": null,
   "metadata": {},
   "outputs": [],
   "source": [
    "#for study in ${study_list}; do\n",
    "#    for ancestry in ${ancestry_list};do\n",
    "#        if [ $ancestry = \"ea\" ]; then\n",
    "#            pop=EUR\n",
    "#        elif [ $ancestry == \"ha\" ]; then\n",
    "#            pop=AMR\n",
    "#        else\n",
    "#            pop=AFR\n",
    "#        fi\n",
    "#\n",
    "#        # chr23 discordance check\n",
    "#        /shared/bioinformatics/software/scripts/qsub_job.sh \\\n",
    "#            --job_name ${ancestry}_${study}_crosscheck_chr$chr \\\n",
    "#            --script_prefix ${base_dir}/processing/${study}/strand_check/${ancestry}_allele_discordance_check \\\n",
    "#            --mem 6.8 \\\n",
    "#            --nslots 1 \\\n",
    "#            --priority 0 \\\n",
    "#            --program \"Rscript /shared/bioinformatics/software/R/check_study_data_against_1000G.R\n",
    "#                --study_bim_file ${base_dir}/data/${study}/genotype/observed/${ancestry}/*bim\n",
    "#                --study_frq_file ${base_dir}/processing/${study}/strand_check/${ancestry}_chr23.frq\n",
    "#                --ref_maf_file ${base_dir}/processing/1000g/${pop}_chr23.maf\n",
    "#                --out_prefix ${base_dir}/processing/${study}/strand_check/${ancestry}_allele_discordance\"\n",
    "#    done\n",
    "#done"
   ]
  },
  {
   "cell_type": "markdown",
   "metadata": {},
   "source": [
    "### Resolving Allele Discordances"
   ]
  },
  {
   "cell_type": "code",
   "execution_count": null,
   "metadata": {
    "collapsed": true
   },
   "outputs": [],
   "source": [
    "# Apply filters\n",
    "for study in ${study_list}; do\n",
    "    for ancestry in ${ancestry_list};do\n",
    "        echo -e \"\\n===============\\nProcessing ${study}_${ancestry}\\n\"\n",
    "        echo \"Making remove list\"\n",
    "        cat <(cut -f2,2 ${base_dir}/processing/${study}/strand_check/${ancestry}_allele_discordance.discordant_alleles_not_fixed_by_strand_flip | tail -n +2) \\\n",
    "            <(cut -f2,2 ${base_dir}/processing/${study}/strand_check/${ancestry}_allele_discordance.at_cg_snps_freq_diff_gt_0.2 | tail -n +2) \\\n",
    "            <(cut -f2,2 ${base_dir}/processing/${study}/strand_check/${ancestry}_allele_discordance.discordant_names | tail -n +2) \\\n",
    "            <(cut -f2,2 ${base_dir}/processing/${study}/strand_check/${ancestry}_allele_discordance.discordant_positions | tail -n +2) \\\n",
    "            <(cut -f2,2 ${base_dir}/processing/${study}/strand_check/${ancestry}_allele_discordance.discordant_alleles_polymorphic_in_study_not_fixed_by_strand_flip | tail -n +2) | \\\n",
    "              sort -u > ${base_dir}/processing/${study}/strand_check/${ancestry}_snps.remove\n",
    "\n",
    "        # Create flip list\n",
    "        echo \"Making flip list\"\n",
    "        comm -23 <(cut -f2,2 ${base_dir}/processing/${study}/strand_check/${ancestry}_allele_discordance.discordant_alleles | tail -n +2 | sort -u) \\\n",
    "                 <(cut -f2,2 ${base_dir}/processing/${study}/strand_check/${ancestry}_allele_discordance.discordant_alleles_not_fixed_by_strand_flip | tail -n +2 | sort -u) \\\n",
    "                 > ${base_dir}/processing/${study}/strand_check/${ancestry}_snps.flip\n",
    "\n",
    "        # Apply filters\n",
    "        /shared/bioinformatics/software/third_party/plink-1.90-beta-4.10-x86_64/plink \\\n",
    "            --noweb \\\n",
    "            --memory 2048 \\\n",
    "            --bed     ${base_dir}/data/${study}/genotype/observed/${ancestry}/*bed \\\n",
    "            --bim     ${base_dir}/data/${study}/genotype/observed/${ancestry}/*bim \\\n",
    "            --fam     ${base_dir}/data/${study}/genotype/observed/${ancestry}/*fam \\\n",
    "            --exclude ${base_dir}/processing/${study}/strand_check/${ancestry}_snps.remove \\\n",
    "            --flip    ${base_dir}/processing/${study}/strand_check/${ancestry}_snps.flip \\\n",
    "            --make-bed \\\n",
    "            --out     ${base_dir}/processing/${study}/${ancestry}_filtered\n",
    "    done\n",
    "done\n",
    "\n",
    "wc -l $base_dir/processing/*/*bim"
   ]
  },
  {
   "cell_type": "markdown",
   "metadata": {},
   "source": [
    " ```\n",
    "  1627393 /shared/jmarks/heroin/uhs4/genotype/imputed/004/processing/uhs4/aa_filtered.bim\n",
    "  2006720 /shared/jmarks/heroin/uhs4/genotype/imputed/004/processing/uhs4/ea_filtered.bim\n",
    "```"
   ]
  },
  {
   "cell_type": "markdown",
   "metadata": {},
   "source": [
    "## Remove monomorphic variants\n",
    "Monomorphic variants prevent MIS from accepting the genotype data. In this case, an arbitrarily small MAF is set that is smaller than the lower bound for these data."
   ]
  },
  {
   "cell_type": "code",
   "execution_count": null,
   "metadata": {
    "collapsed": true
   },
   "outputs": [],
   "source": [
    "### Bash ###\n",
    "\n",
    "# Apply filters\n",
    "for study in ${study_list}; do\n",
    "    for ancestry in ${ancestry_list};do\n",
    "        geno_dir=${base_dir}/processing/${study}\n",
    "\n",
    "        /shared/bioinformatics/software/third_party/plink-1.90-beta-4.10-x86_64/plink \\\n",
    "            --noweb \\\n",
    "            --memory 2048 \\\n",
    "            --bfile ${geno_dir}/${ancestry}_filtered \\\n",
    "            --maf 0.000001 \\\n",
    "            --make-bed \\\n",
    "            --out ${geno_dir}/${ancestry}_filtered_mono\n",
    "    done\n",
    "done\n",
    "\n",
    "wc -l $base_dir/processing/*/*mono.bim"
   ]
  },
  {
   "cell_type": "markdown",
   "metadata": {},
   "source": [
    "```\n",
    "  1590276 /shared/jmarks/heroin/uhs4/genotype/imputed/004/processing/uhs4/aa_filtered_mono.bim\n",
    "  1792893 /shared/jmarks/heroin/uhs4/genotype/imputed/004/processing/uhs4/ea_filtered_mono.bim\n",
    "```"
   ]
  },
  {
   "cell_type": "markdown",
   "metadata": {},
   "source": [
    "### SNP intersection\n",
    "Only run if merging multiple data sets."
   ]
  },
  {
   "cell_type": "code",
   "execution_count": null,
   "metadata": {
    "collapsed": true
   },
   "outputs": [],
   "source": [
    "#studies=($study_list)  #studies=(UHS1 UHS2 UHS3_v1-2 UHS3_v1-3) # array of study names\n",
    "#num=${#studies[@]}\n",
    "#\n",
    "## Get intersection set\n",
    "#for ancestry in ${ancestry_list};do\n",
    "#    bim_files=()\n",
    "#    for (( i=0; i<${num}; i++ ));do\n",
    "#        bim_files+=(${base_dir}/processing/${studies[$i]}/${ancestry}_filtered_mono.bim)\n",
    "#    done\n",
    "#    \n",
    "#    echo -e \"\\nCalculating intersection between $ancestry ${study_list}...\\n\"\n",
    "#    sort ${bim_files[@]} | uniq -dc | awk -v num=$num '$1 == num {print $3}' \\\n",
    "#        > ${base_dir}/processing/intersect/${ancestry}_variant_intersection.txt\n",
    "#\n",
    "#    # Make new PLINK binary file sets\n",
    "#    for study in ${studies[@]}; do\n",
    "#        /shared/bioinformatics/software/third_party/plink-1.90-beta-4.10-x86_64/plink \\\n",
    "#            --noweb \\\n",
    "#            --bfile ${base_dir}/processing/${study}/${ancestry}_filtered_mono \\\n",
    "#            --extract ${base_dir}/processing/intersect/${ancestry}_variant_intersection.txt \\\n",
    "#            --make-bed \\\n",
    "#            --out ${base_dir}/processing/intersect/${study}_${ancestry}_filtered_snp_intersection\n",
    "#    done\n",
    "#done"
   ]
  },
  {
   "cell_type": "markdown",
   "metadata": {},
   "source": [
    "```wc -l *txt\n",
    "\n",
    "```"
   ]
  },
  {
   "cell_type": "markdown",
   "metadata": {},
   "source": [
    "### Merge test\n",
    "If merging multiple datasets together:\n",
    "\n",
    "As a final check to confirm that our data sets are all compatible, a PLINK file set merge is conducted. If any issues persist then an error will be raised."
   ]
  },
  {
   "cell_type": "code",
   "execution_count": null,
   "metadata": {
    "collapsed": true
   },
   "outputs": [],
   "source": [
    "#for ancestry in $ancestry_list;do\n",
    "#\n",
    "#    echo \"Creating $ancestry merge-list\"\n",
    "#    touch ${base_dir}/processing/intersect/${ancestry}_merge_list.txt\n",
    "#    for study in $study_list;do\n",
    "#        echo ${base_dir}/processing/intersect/${study}_${ancestry}_filtered_snp_intersection >>\\\n",
    "#             ${base_dir}/processing/intersect/${ancestry}_merge_list.txt\n",
    "#    done\n",
    "#\n",
    "## Merge file sets\n",
    "#    echo -e \"\\n\\n======== ${ancestry} ========\\n\\n\"\n",
    "#    /shared/bioinformatics/software/third_party/plink-1.90-beta-4.10-x86_64/plink \\\n",
    "#        --noweb \\\n",
    "#        --memory 4000 \\\n",
    "#        --merge-list ${base_dir}/processing/intersect/${ancestry}_merge_list.txt \\\n",
    "#        --make-bed \\\n",
    "#        --out ${base_dir}/processing/intersect/${ancestry}_studies_merged\n",
    "#done"
   ]
  },
  {
   "cell_type": "markdown",
   "metadata": {},
   "source": [
    "```\n",
    " wc -l *merged.bim\n",
    "```"
   ]
  },
  {
   "cell_type": "markdown",
   "metadata": {},
   "source": [
    "## Imputation preparation for Michigan Imputation Server\n",
    "Visit the [MIS Getting Started Webpage](https://imputationserver.sph.umich.edu/start.html#!pages/help) for more information about the preparing the data for upload to MIS.\n"
   ]
  },
  {
   "cell_type": "markdown",
   "metadata": {},
   "source": [
    "### VCF File Conversion"
   ]
  },
  {
   "cell_type": "code",
   "execution_count": null,
   "metadata": {},
   "outputs": [],
   "source": [
    "### Split by chr and remove any individuals with missing data for whole chr\n",
    "\n",
    "## if merged data sets together\n",
    "#for ancestry in $ancestry_list;do\n",
    "#    # Remove SNPs\n",
    "#    /shared/bioinformatics/software/third_party/plink-1.90-beta-4.10-x86_64/plink \\\n",
    "#        --noweb \\\n",
    "#        --memory 4000 \\\n",
    "#        --bfile ${base_dir}/processing/intersect/${ancestry}_studies_merged \\\n",
    "#        --chr ${chr} \\\n",
    "#        --mind 0.99 \\\n",
    "#        --make-bed \\\n",
    "#        --out ${base_dir}/processing/impute_prep/${ancestry}_chr${chr}_for_phasing \n",
    "#done > ${base_dir}/processing/impute_prep/chr_splitting.log \n",
    "\n",
    "## if NO merging was done\n",
    "for ancestry in $ancestry_list;do\n",
    "    for chr in {1..23};do\n",
    "        # Remove SNPs\n",
    "        /shared/bioinformatics/software/third_party/plink-1.90-beta-4.10-x86_64/plink \\\n",
    "            --noweb \\\n",
    "            --memory 4000 \\\n",
    "            --bfile ${base_dir}/processing/$study/${ancestry}_filtered_mono \\\n",
    "            --chr ${chr} \\\n",
    "            --mind 0.99 \\\n",
    "            --make-bed \\\n",
    "            --out ${base_dir}/processing/impute_prep/${ancestry}_chr${chr}_for_phasing \n",
    "    done\n",
    "done > ${base_dir}/processing/impute_prep/chr_splitting.log \n",
    "\n",
    "for ancestry in $ancestry_list; do\n",
    "    grep removed $base_dir/processing/impute_prep/$ancestry*log |\n",
    "        perl -lne '/(\\d+)(\\speople)/;\n",
    "             $mycount += $1; \n",
    "             print $mycount if eof'  > $base_dir/processing/impute_prep/$ancestry.removed\n",
    "    any_removed=$(cat $base_dir/processing/impute_prep/$ancestry.removed)\n",
    "    if [ \"$any_removed\" == 0 ]; then\n",
    "        echo \"No $ancestry subjects removed\"\n",
    "    else\n",
    "        echo \"Some $ancestry subjects removed\"\n",
    "    fi\n",
    "done"
   ]
  },
  {
   "cell_type": "markdown",
   "metadata": {},
   "source": [
    "__Note__: No subjects were removed."
   ]
  },
  {
   "cell_type": "code",
   "execution_count": null,
   "metadata": {
    "collapsed": true
   },
   "outputs": [],
   "source": [
    "# EC2 command line #\n",
    "\n",
    "for chr in {1..23};do\n",
    "    for ancestry in ${ancestry_list};do\n",
    "        final_dir=${base_dir}/processing/impute_prep/${ancestry}\n",
    "        mkdir $final_dir\n",
    "        /shared/bioinformatics/software/third_party/plink-1.90-beta-4.10-x86_64/plink \\\n",
    "            --noweb \\\n",
    "            --memory 5000 \\\n",
    "            --bfile ${final_dir}/../${ancestry}_chr${chr}_for_phasing \\\n",
    "            --output-chr M \\\n",
    "            --set-hh-missing \\\n",
    "            --recode vcf bgz \\\n",
    "            --out ${final_dir}/${ancestry}_chr${chr}_final\n",
    "    done\n",
    "done"
   ]
  },
  {
   "cell_type": "markdown",
   "metadata": {},
   "source": [
    "Transfer the *.vcf.gz files to local machine (per chromosome) and then upload to MIS."
   ]
  },
  {
   "cell_type": "markdown",
   "metadata": {},
   "source": [
    "## Upload to Michigan Imputation Server (MIS)\n",
    "\n",
    "### Uploading parameters\n",
    "These are the parameters that were selected on MIS.\n",
    "\n",
    "__Name__: UHS4_HA\n",
    "\n",
    "__Reference Panel__ 1000G Phase 3 v5\n",
    "\n",
    "__Input Files__ File Upload <br>\n",
    "\n",
    "* Select Files - select VCF (.gz) files that were downloaded to local machine from cloud. <br>\n",
    "\n",
    "__Phasing__: ShapeIT v2.r790 (unphased) \n",
    "\n",
    "__Population__: AMR\n",
    "\n",
    "__Mode__: Quality Control & Imputation\n",
    "\n",
    "* I will not attempt to re-identify or contact research participants.\n",
    "* I will report any inadvertent data release, security breach or other data management incident of which I become aware."
   ]
  },
  {
   "cell_type": "markdown",
   "metadata": {},
   "source": [
    "# Download Imputed Results from MIS\n",
    "First, download the data form the Michigan Imputation Server (MIS) by clicking on the link provided in the email they send out to alert you that your data has finished. Here you will find commands for downloading the data."
   ]
  },
  {
   "cell_type": "markdown",
   "metadata": {},
   "source": [
    "## AA\n",
    "The zip files from Michigan Imputation Server (MIS) need to be inflated before you can begin working with them. They require a passcode that is sent by MIS to email.\n",
    "* password: vMA#GHW3ddj5cf\n",
    "\n",
    "Then, inflate imputation results."
   ]
  },
  {
   "cell_type": "code",
   "execution_count": null,
   "metadata": {},
   "outputs": [],
   "source": [
    "ancestry=aa\n",
    "passW=\"'vMA#GHW3ddj5cf'\"\n",
    "cd /shared/jmarks/heroin/uhs4/genotype/imputed/004/final/$ancestry\n",
    "\n",
    "## dowload_data_$ancestry\n",
    "#================================================================================ \n",
    "# QC-results\n",
    "wget https://imputationserver.sph.umich.edu/share/results/87dfa732a018a5c43d93bd33b8c66fe2/qcreport.html\n",
    "\n",
    "# SNP Statistics\n",
    "wget https://imputationserver.sph.umich.edu/share/results/b7626e2d062d088b27934aa16c7ec36b/statistics.txt\n",
    "\n",
    "# Logs\n",
    "wget https://imputationserver.sph.umich.edu/share/results/b9d9d24d235ed5d3eebdb5fe2b29f411/chr_1.log\n",
    "wget https://imputationserver.sph.umich.edu/share/results/2e6bb7fd10abe3cf39ae7c80291497c7/chr_10.log\n",
    "wget https://imputationserver.sph.umich.edu/share/results/47b9144a20d6b5bb902a088aef186f36/chr_11.log\n",
    "wget https://imputationserver.sph.umich.edu/share/results/165097a70ad98d434ee44df1b4193542/chr_12.log\n",
    "wget https://imputationserver.sph.umich.edu/share/results/b1d022d0747b5ccb212f86c2b1955a3b/chr_13.log\n",
    "wget https://imputationserver.sph.umich.edu/share/results/96b78b18dcf9a33607d96dac1d859552/chr_14.log\n",
    "wget https://imputationserver.sph.umich.edu/share/results/f3c3e0c89acf799d53473c2f8be1698f/chr_15.log\n",
    "wget https://imputationserver.sph.umich.edu/share/results/86ffc92788410e68953f6f16240fb984/chr_16.log\n",
    "wget https://imputationserver.sph.umich.edu/share/results/5df3c02b53fccb37968e6d699ea7f249/chr_17.log\n",
    "wget https://imputationserver.sph.umich.edu/share/results/a310ccd27cc24193eff504a01f554af7/chr_18.log\n",
    "wget https://imputationserver.sph.umich.edu/share/results/b448faea06fb9f505f4abd37eab8e97a/chr_19.log\n",
    "wget https://imputationserver.sph.umich.edu/share/results/dd820dbffaf978df5da695ddaf359522/chr_2.log\n",
    "wget https://imputationserver.sph.umich.edu/share/results/658ac06db7c8e7adcfdf467771f8fcb4/chr_20.log\n",
    "wget https://imputationserver.sph.umich.edu/share/results/78a734d302d584bc2c1a0e5405928de8/chr_21.log\n",
    "wget https://imputationserver.sph.umich.edu/share/results/7e05e40c1089eb7c81489e27139f890b/chr_22.log\n",
    "wget https://imputationserver.sph.umich.edu/share/results/49a746ad4207b10d494efce17a6c87f/chr_3.log\n",
    "wget https://imputationserver.sph.umich.edu/share/results/f94a487ad3d1a7749c1c1fdb0db493eb/chr_4.log\n",
    "wget https://imputationserver.sph.umich.edu/share/results/b98046c8e6d180cbc81a21d0d236a9f6/chr_5.log\n",
    "wget https://imputationserver.sph.umich.edu/share/results/72c7d22baa2f093479cc5a7de92c6b5/chr_6.log\n",
    "wget https://imputationserver.sph.umich.edu/share/results/1272b00560e2b74d8212e68701032c80/chr_7.log\n",
    "wget https://imputationserver.sph.umich.edu/share/results/d50e8cbde9117cba7dd15d8699e59d88/chr_8.log\n",
    "wget https://imputationserver.sph.umich.edu/share/results/8463731695ffe32795b0d07a5f8123eb/chr_9.log\n",
    "\n",
    "# Imputation Results\n",
    "wget https://imputationserver.sph.umich.edu/share/results/cd86f2114d5ed93b1ae82529b791d27e/chr_1.zip\n",
    "wget https://imputationserver.sph.umich.edu/share/results/84b90f47066e7220e141b8b3b6c21db0/chr_10.zip\n",
    "wget https://imputationserver.sph.umich.edu/share/results/48c64608d3c3b23e5cefe8675b102684/chr_11.zip\n",
    "wget https://imputationserver.sph.umich.edu/share/results/a8c95c04496ba390120f6a57b4f9ea62/chr_12.zip\n",
    "wget https://imputationserver.sph.umich.edu/share/results/1c244be4219e2e1081232c72909b2852/chr_13.zip\n",
    "wget https://imputationserver.sph.umich.edu/share/results/1a151988b48d0b99953322cf28e4161f/chr_14.zip\n",
    "wget https://imputationserver.sph.umich.edu/share/results/40c5bb037a8b9702346bdf3228a43063/chr_15.zip\n",
    "wget https://imputationserver.sph.umich.edu/share/results/3186f340643902a2106c4f774b12f267/chr_16.zip\n",
    "wget https://imputationserver.sph.umich.edu/share/results/f141baf700d6bc0ffac05d8e796fc6b/chr_17.zip\n",
    "wget https://imputationserver.sph.umich.edu/share/results/299e3317f4d3e05a8b0adebfde555f73/chr_18.zip\n",
    "wget https://imputationserver.sph.umich.edu/share/results/85d661c426704ab58a8ed2dff86dbbb3/chr_19.zip\n",
    "wget https://imputationserver.sph.umich.edu/share/results/3e8ca03982a1f141f3f840ef4e7cb37/chr_2.zip\n",
    "wget https://imputationserver.sph.umich.edu/share/results/b4aa231f198e4448263de1dd6e300238/chr_20.zip\n",
    "wget https://imputationserver.sph.umich.edu/share/results/c3d7eb327f2c915b002dc800ec190f6e/chr_21.zip\n",
    "wget https://imputationserver.sph.umich.edu/share/results/77d843226b9313525921a1cb6b16dcff/chr_22.zip\n",
    "wget https://imputationserver.sph.umich.edu/share/results/2b18e6986c0908c1e77842efa811abce/chr_3.zip\n",
    "wget https://imputationserver.sph.umich.edu/share/results/9418ed8c36a6af7157350b100af5dab2/chr_4.zip\n",
    "wget https://imputationserver.sph.umich.edu/share/results/43e47c9b0a9aae457548207a211a18fd/chr_5.zip\n",
    "wget https://imputationserver.sph.umich.edu/share/results/926264c9082b85a402a884c415b1a351/chr_6.zip\n",
    "wget https://imputationserver.sph.umich.edu/share/results/cc1108e54855b24a7d2389d7a53ed1eb/chr_7.zip\n",
    "wget https://imputationserver.sph.umich.edu/share/results/13760c1d703c26649031064140a645de/chr_8.zip\n",
    "wget https://imputationserver.sph.umich.edu/share/results/1d051ae4b068ac995440a0b66b07d147/chr_9.zip\n",
    "\n",
    "#================================================================================ \n",
    "\n",
    "# paste code above into bash script called download_data\n",
    "/shared/bioinformatics/software/scripts/qsub_job.sh \\\n",
    "    --job_name ${ancestry}_impute_download \\\n",
    "    --script_prefix ${ancestry}_impute_download \\\n",
    "    --mem 6.8 \\\n",
    "    --nslots 4 \\\n",
    "    --priority 0 \\\n",
    "    --program bash download_data_${ancestry}"
   ]
  },
  {
   "cell_type": "code",
   "execution_count": null,
   "metadata": {},
   "outputs": [],
   "source": [
    "# inflate chr results\n",
    "for file in *zip;do\n",
    "    /shared/bioinformatics/software/scripts/qsub_job.sh \\\n",
    "        --job_name ${ancestry}_unzip \\\n",
    "        --script_prefix ${ancestry}_unzip \\\n",
    "        --mem 6.8 \\\n",
    "        --nslots 1 \\\n",
    "        --priority 0 \\\n",
    "        --program unzip -P $passW $file\n",
    "done\n",
    "\n",
    "#rm -rf *zip"
   ]
  },
  {
   "cell_type": "markdown",
   "metadata": {},
   "source": [
    "## EA\n",
    "The zip files from Michigan Imputation Server (MIS) need to be inflated before you can begin working with them. They require a passcode that is sent by MIS to email.\n",
    "* password: y3OdCfNQFzM5vJ\n",
    "\n",
    "Then, inflate imputation results."
   ]
  },
  {
   "cell_type": "code",
   "execution_count": null,
   "metadata": {},
   "outputs": [],
   "source": [
    "ancestry=ea\n",
    "passW=\"'y3OdCfNQFzM5vJ'\"\n",
    "cd /shared/jmarks/heroin/uhs4/genotype/imputed/004/final/$ancestry\n",
    "\n",
    "## dowload_data_$ancestry\n",
    "#================================================================================ \n",
    "# QC-results\n",
    "wget https://imputationserver.sph.umich.edu/share/results/dd14ad588bed1774e46dd214e75f6e70/qcreport.html\n",
    "\n",
    "# SNP Statistics\n",
    "wget https://imputationserver.sph.umich.edu/share/results/717222dab28aec97154deb33e5c95a8c/statistics.txt\n",
    "\n",
    "# Logs\n",
    "wget https://imputationserver.sph.umich.edu/share/results/2a615aafd24e88b3b68cba4099969695/chr_1.log\n",
    "wget https://imputationserver.sph.umich.edu/share/results/e7327cc29540b026099cee457b33db50/chr_10.log\n",
    "wget https://imputationserver.sph.umich.edu/share/results/4f44efd9e94a624a98dfb708adb53fda/chr_11.log\n",
    "wget https://imputationserver.sph.umich.edu/share/results/4600ec581447522352dfdd9620a49f40/chr_12.log\n",
    "wget https://imputationserver.sph.umich.edu/share/results/5762b1538b8806c514e661326bffa2a4/chr_13.log\n",
    "wget https://imputationserver.sph.umich.edu/share/results/6215bfad0b166a52c2a32af1adc3df0b/chr_14.log\n",
    "wget https://imputationserver.sph.umich.edu/share/results/5e15300d16b08215e2c74f94ee193bde/chr_15.log\n",
    "wget https://imputationserver.sph.umich.edu/share/results/61ff293e162800d4c16f1558651f88ea/chr_16.log\n",
    "wget https://imputationserver.sph.umich.edu/share/results/2c9e78c601c4ca9b67cec404986dbbb8/chr_17.log\n",
    "wget https://imputationserver.sph.umich.edu/share/results/9ec2fd857d5b28fd8217e72d1968edbc/chr_18.log\n",
    "wget https://imputationserver.sph.umich.edu/share/results/7b8c14b9740500fd856fbd27f3f99a07/chr_19.log\n",
    "wget https://imputationserver.sph.umich.edu/share/results/7ea880879afa12710f3f89ebc4c264a1/chr_2.log\n",
    "wget https://imputationserver.sph.umich.edu/share/results/37f6ccacbd4ae279b75029cc92b709ec/chr_20.log\n",
    "wget https://imputationserver.sph.umich.edu/share/results/505f88ad7583b9f27c78651c7c03cc3e/chr_21.log\n",
    "wget https://imputationserver.sph.umich.edu/share/results/baf8727796cb866deb2f060c83d7b455/chr_22.log\n",
    "wget https://imputationserver.sph.umich.edu/share/results/1f180f81b46f1c0d9b471b8e06ceba75/chr_3.log\n",
    "wget https://imputationserver.sph.umich.edu/share/results/e8c8c5a9df9b5b8fadf83b3f947401c7/chr_4.log\n",
    "wget https://imputationserver.sph.umich.edu/share/results/e5a3f4c92967eea58d85e2a798083028/chr_5.log\n",
    "wget https://imputationserver.sph.umich.edu/share/results/c9e208b3bb6b968c7e2fb4afb488ee9/chr_6.log\n",
    "wget https://imputationserver.sph.umich.edu/share/results/ae41fd413994d3f5c38136bd24b24759/chr_7.log\n",
    "wget https://imputationserver.sph.umich.edu/share/results/c40bfcde0854e6aae28f052545118de0/chr_8.log\n",
    "wget https://imputationserver.sph.umich.edu/share/results/8b6bb2e196c4c885227117d846458682/chr_9.log\n",
    "\n",
    "# Imputation Results\n",
    "wget https://imputationserver.sph.umich.edu/share/results/9d4b28150080437bab55060ab6e9b986/chr_1.zip\n",
    "wget https://imputationserver.sph.umich.edu/share/results/11e3f84815b78daa835b1c1c4880e1e6/chr_10.zip\n",
    "wget https://imputationserver.sph.umich.edu/share/results/77962cdd7625182b6836899148c8d17e/chr_11.zip\n",
    "wget https://imputationserver.sph.umich.edu/share/results/bd9395cd24b5ad5e7556e6ce911386f8/chr_12.zip\n",
    "wget https://imputationserver.sph.umich.edu/share/results/405ad34c0b04a609f393d3f89216f4a9/chr_13.zip\n",
    "wget https://imputationserver.sph.umich.edu/share/results/bdb17c80d2d3d335abef0f836dd540f6/chr_14.zip\n",
    "wget https://imputationserver.sph.umich.edu/share/results/efdc2db00f999e08cbfa3e7b2d83871e/chr_15.zip\n",
    "wget https://imputationserver.sph.umich.edu/share/results/2eef2da367a7adc880a9dfd6381d56ee/chr_16.zip\n",
    "wget https://imputationserver.sph.umich.edu/share/results/ac72539e571c930de58979848cffae1f/chr_17.zip\n",
    "wget https://imputationserver.sph.umich.edu/share/results/956f12e67d6888eee1c0cbdf04b0657/chr_18.zip\n",
    "wget https://imputationserver.sph.umich.edu/share/results/139f088f1990015acfcb89c8b85fbf7d/chr_19.zip\n",
    "wget https://imputationserver.sph.umich.edu/share/results/47855eda544bf25a3691ea5fb6fd02e0/chr_2.zip\n",
    "wget https://imputationserver.sph.umich.edu/share/results/95725a25c3902ca0e6a5bb000b824b5d/chr_20.zip\n",
    "wget https://imputationserver.sph.umich.edu/share/results/be55570cba8e4652671eb546c82a0aa0/chr_21.zip\n",
    "wget https://imputationserver.sph.umich.edu/share/results/586240dd2b5c37de46017a3b70206d10/chr_22.zip\n",
    "wget https://imputationserver.sph.umich.edu/share/results/f08eb3936f3e6a2481dc0dd0082fec4a/chr_3.zip\n",
    "wget https://imputationserver.sph.umich.edu/share/results/fa14fb6c0dbea442314bd0b9ddfa557a/chr_4.zip\n",
    "wget https://imputationserver.sph.umich.edu/share/results/b84d76d7438af690c9d66530021f6d2e/chr_5.zip\n",
    "wget https://imputationserver.sph.umich.edu/share/results/702f629464e4dedfeb93991085b77acd/chr_6.zip\n",
    "wget https://imputationserver.sph.umich.edu/share/results/5e01222c5d26822cf4dd6c7e6d2f7755/chr_7.zip\n",
    "wget https://imputationserver.sph.umich.edu/share/results/361f47e4cc291db37bfbc6fda2911187/chr_8.zip\n",
    "wget https://imputationserver.sph.umich.edu/share/results/571776434d6278d92e3125530e6978c/chr_9.zip\n",
    "\n",
    "#================================================================================ \n",
    "\n",
    "# paste code above into bash script called download_data\n",
    "/shared/bioinformatics/software/scripts/qsub_job.sh \\\n",
    "    --job_name ${ancestry}_impute_download \\\n",
    "    --script_prefix ${ancestry}_impute_download \\\n",
    "    --mem 6.8 \\\n",
    "    --nslots 4 \\\n",
    "    --priority 0 \\\n",
    "    --program bash download_data_${ancestry}"
   ]
  },
  {
   "cell_type": "code",
   "execution_count": null,
   "metadata": {},
   "outputs": [],
   "source": [
    "# inflate chr results\n",
    "for file in *zip;do\n",
    "    /shared/bioinformatics/software/scripts/qsub_job.sh \\\n",
    "        --job_name ${ancestry}_unzip \\\n",
    "        --script_prefix ${ancestry}_unzip \\\n",
    "        --mem 6.8 \\\n",
    "        --nslots 1 \\\n",
    "        --priority 0 \\\n",
    "        --program unzip -P $passW $file\n",
    "done\n",
    "\n",
    "#rm -rf *zip"
   ]
  },
  {
   "cell_type": "markdown",
   "metadata": {},
   "source": [
    "# Upload to S3"
   ]
  },
  {
   "cell_type": "code",
   "execution_count": null,
   "metadata": {},
   "outputs": [],
   "source": [
    "cd /shared/jmarks/heroin/uhs4/genotype/imputed/004\n",
    "\n",
    "for ancestry in {aa,ea};do\n",
    "    /shared/bioinformatics/software/scripts/qsub_job.sh \\\n",
    "        --job_name ${ancestry}_upload \\\n",
    "        --script_prefix ${ancestry}_upload \\\n",
    "        --mem 6.8 \\\n",
    "        --nslots 1 \\\n",
    "        --priority 0 \\\n",
    "        --program aws s3 sync ${ancestry} s3://rti-heroin/uhs4/data/genotype/imputed/${ancestry}/\n",
    "done"
   ]
  }
 ],
 "metadata": {
  "kernelspec": {
   "display_name": "R",
   "language": "R",
   "name": "ir"
  },
  "language_info": {
   "codemirror_mode": "r",
   "file_extension": ".r",
   "mimetype": "text/x-r-source",
   "name": "R",
   "pygments_lexer": "r",
   "version": "3.5.1"
  },
  "toc": {
   "nav_menu": {},
   "number_sections": true,
   "sideBar": true,
   "skip_h1_title": false,
   "toc_cell": false,
   "toc_position": {},
   "toc_section_display": "block",
   "toc_window_display": false
  }
 },
 "nbformat": 4,
 "nbformat_minor": 2
}
