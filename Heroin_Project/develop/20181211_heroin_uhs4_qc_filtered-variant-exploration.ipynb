{
 "cells": [
  {
   "cell_type": "markdown",
   "metadata": {},
   "source": [
    "# UHS4 Quality Control Data Processing—version 2\n",
    "\n",
    "**Author:** Jesse Marks\n",
    "\n",
    "**GitHub Issue**: [#117](https://github.com/RTIInternational/bioinformatics/issues/117) \n",
    "\n",
    "This notebook documents the steps taken to process the Urban Health Study 4 data to prepare it for imputation and ultimately a GWAS. These data will be used in the FOU and OAall GWAS for the heroin projects (NGC) as well as HIV acquisition GWAS. \n",
    "\n",
    "These data were retrieved from AWS S3 at `s3://rti-heroin/uhs4/data/genotype/observed/unprocessed`\n",
    "\n",
    "____\n",
    "**Update1**: Due to a large number of variants being lost after applying the variant call rate filter (threshold=0.03), we are going to revisit these UHS4 data. Specifically, we are going to apply\n",
    "* the variant call rate filter with a less stringent threshold (threshold=10%)\n",
    "* HWE filter \n",
    "We will apply these filters Pre-STRUCTURE analysis to obtain a cleaner set of SNPs for the STRUCTURE analysis. Post-STRUCTURE analysis we will apply these same filters to each ancestry group.\n",
    "\n",
    "___\n",
    "**Update2**: Eric O. Johnson wanted a report about the SNPs which were filtered out during the missing call rate and HWE filters."
   ]
  },
  {
   "cell_type": "markdown",
   "metadata": {},
   "source": [
    "## Data Description\n",
    "* There are 7 objects with the original data\n",
    "    - Eric_Johnson_Serum_Omni2.5_Manifest_June-Oct_2018_Final.xlsx\n",
    "    - Eric_Johnson_Serum_Genotype_Reports_18OCT2018\n",
    "    - Heroin_Project_Samples_P1-10_29Partial_31-35_36Partial\n",
    "    - Johnson_Sample_Sheets_19OCT2018\n",
    "    - QC_Reports_19OCT2018\n",
    "    - Smokescreen_Project_Samples_P11-30_29Partial_36Partial_37\n",
    "    - Smokescreen_Samples-on-OmniExpress"
   ]
  },
  {
   "cell_type": "markdown",
   "metadata": {},
   "source": [
    "### Genotype files\n",
    "\n",
    "* **chip**: InfiniumOmni2-5-8v1-4_A1\n",
    "\n",
    "The data are in raw format and we will want to convert them to PLINK format [BED, BIM, and FAM formats](https://www.cog-genomics.org/plink2/formats). The data were genotyped on the Omni2.5. Specifically, we see in the following file the genotype chip:\n",
    "`/shared/data/studies/heroin/uhs4/genotype/observed/unprocessed/Johnson_Sample_Sheets_19OCT2018/Heroin_Study_Sample_Sheet/Eric_Johnson_Serum_Omni2-5_v1-4_Heroin_Samples_OCT-2018.csv`\n",
    "\n",
    "* We need to convert this file to tfam/tped format and then convert that to bed/bim/fam (PLINK) format. Nathan Gaddis pointed me to [an example](https://github.com/RTIInternational/bioinformatics/blob/master/methods/data/studies/hiv/observed/processing/uhs2/_methods.hiv.observed.processing.uhs2.sh) of how this was done on the UHS2 data. To start the conversion into tfam/tped format, we want to grab the `Allele` columns from the `Eric_Johnson_Serum_Heroin_Samples_Omni2-5_Genotype_Report_OCT2018.txt` file.\n",
    "\n",
    "\n",
    "* In the Eric_Johnson_Serum_Genotype_Reports_18OCT2018 folder, this file contains the raw genotype data `Eric_Johnson_Serum_Heroin_Samples_Omni2-5_Genotype_Report_OCT2018.txt`.\n",
    "\n",
    "```\n",
    "Index   Name    Address Chr     Position        GenTrain Score  Frac A  Frac C  Frac G  Frac T  AS00-12448_8002697168_HHG0\n",
    "960_1_A01.GType AS00-12448_8002697168_HHG0960_1_A01.Score       AS00-12448_8002697168_HHG0960_1_A01.Theta       AS00-12448\n",
    "_8002697168_HHG0960_1_A01.R     AS00-12448_8002697168_HHG0960_1_A01.B Allele ...\n",
    "```\n"
   ]
  },
  {
   "cell_type": "markdown",
   "metadata": {},
   "source": [
    "### Phenotype files\n",
    "See [this GitHub discussion](https://github.com/RTIInternational/bioinformatics/issues/117#issuecomment-443812360) about how to create the phenotype file."
   ]
  },
  {
   "cell_type": "markdown",
   "metadata": {},
   "source": [
    "## The software and tools needed for this analysis are\n",
    "\n",
    "* Aspera Connect\n",
    "* Michigan Imputation Server\n",
    "* PLINK v1.9\n",
    "* AWS EC2\n",
    "* SRA toolkit\n",
    "* STRUCTURE\n",
    "* KING"
   ]
  },
  {
   "cell_type": "markdown",
   "metadata": {},
   "source": [
    "# Genotype Processing\n",
    "Once converting the data to PLINK format, the genotype processing workflow on the `observed` genotypes is as follows:\n",
    "\n",
    "1) Remove probe sets that do not have a dbSNP rsID annotation and convert Illumina probe IDs to rsIDs. Remove subjects that do not pass initial phenotype filtering\n",
    "\n",
    "2) Update genome build and dbSNP build\n",
    "\n",
    "3) Partition data by ancestry. Subsequent steps are performed by ancestry\n",
    "\n",
    "4) Remove subjects with data missing for whole autosomes. Subsequent steps up to 16 are performed using autosomes only.\n",
    "\n",
    "5) Remove duplicates for rsIDs\n",
    "\n",
    "6) Set genotypes to positive strand orientation\n",
    "\n",
    "7) Run STRUCTURE to detect and remove subjects that are ancestral outliers\n",
    "\n",
    "8) Calculate genotype missing call rate. Filter variants with high missing call rates\n",
    "\n",
    "9) Calculate Hardy-Weinberg (HW) equilibrium for each variant. Filter variants by HW p-values\n",
    "\n",
    "10) Remove subjects with high missing genotype call rates (as pre-processing for LD pruning)\n",
    "\n",
    "11) Apply linkage disequilibrium pruning (as pre-processing for steps 12 and 13)\n",
    "\n",
    "12) Check for sample duplications and monozygotic twins using identical-by-state estimates\n",
    "\n",
    "13) Check relatedness using identical-by-descent estimates\n",
    "\n",
    "14) Use KING for calculating IBD for African ancestry subjects\n",
    "\n",
    "15) Repeat steps 4, 5, 6, 7 (use pre-calculated remove list), 8, and 9 for chrX. Merge autosomes with chrX\n",
    "\n",
    "16) Remove subjects that meet relatedness filtering criteria\n",
    "\n",
    "17) Repeat step 10 with all chromosomes\n",
    "\n",
    "18) Apply linkage disequilibrium pruning (as pre-processing for steps 18 and 19)\n",
    "\n",
    "19) Remove subjects exhibiting sex discordance\n",
    "\n",
    "20) Remove subjects exhibiting excessive homozygosity\n",
    "\n",
    "21) Recode variants in relation to 1000 Genomes phase 3 reference panel. Remove discordant alleles\n",
    "\n",
    "Many of these steps are done using PLINK commands that update the binary filesets. Generally, each time a new binary fileset is created, text files containing identifiers for what to include or exclude are provided. Consequently, much of the data processing emphasizes creating these text files to be used with PLINK. Note: PLINK has a specific order of operations. Be sure to note this when combining commands and filtering steps."
   ]
  },
  {
   "cell_type": "markdown",
   "metadata": {},
   "source": [
    "## Pre-ancestry partitioning quality control sample tracking\n",
    "The table below provides statistics on variants and subjects filtered during each step of the QC process before partitioning into ancestry groups\n",
    "\n",
    "**Note**: Initial subject counts are determined by considering only subjects with both genotype and phenotype data available. Consequently, initial numbers may not match between the .fam files and the phenotype files."
   ]
  },
  {
   "cell_type": "markdown",
   "metadata": {},
   "source": [
    "| QC procedure                                  | Variants removed | Variants retained | Subjects removed | Subjects retained |\n",
    "|-----------------------------------------------|------------------|-------------------|------------------|-------------------|\n",
    "| Initial dbGaP dataset                         | 0                | 2,146,519         | 0                | 1,532               |\n",
    "| Remove positive controls                      | 0                | 2,146,519         | 15               | 1,517               |\n",
    "| Duplicate rsID filtering                      | 8,620            | 2,137,899         | 0                | 1,517               |\n",
    "| Genome build 37 & b138 update                 | 6,953            | 2,130,946         | 0                | 1,517               |"
   ]
  },
  {
   "cell_type": "markdown",
   "metadata": {},
   "source": [
    "## European Ancestry\n",
    "The table below provides statistics on variants and subjects filtered during each step of the QC process.\n",
    "\n",
    "**Note**: Initial subject counts are determined by considering only subjects with both genotype and phenotype data available. Consequently, initial numbers may not match between the .fam files and the phenotype files.\n",
    "\n",
    "### Autosome statistics\n",
    "This table includes filtering statistics prior to merging with chrX.\n",
    "\n",
    "| QC procedure                                     | Variants removed | Variants retained | Subjects removed | Subjects added | Subjects retained |\n",
    "|--------------------------------------------------|------------------|-------------------|------------------|----------------|-------------------|\n",
    "| EA subject filter w/initial procedures (all chr) | 0                | 2,130,946         | 0                | 0              |   1,517           |\n",
    "| Partitioning to only autosomes                   | 46,889           | 2,084,057         | 0                | 0              |   1,517           |\n",
    "| Remove subjects missing whole autosome data      | 0                | 2,084,057         | 0                | 0              |   1,517           |\n",
    "| Add + reassigned subjects based on STRUCTURE     | 0                | 2,084,057         | 802              | 0              |   715             |\n",
    "| Strand flipping and polymorphic SNP filter       | 2,602            | 2,081,455         | 0                | 0              |   715             |\n",
    "| Remove variants with missing call rate > 10%     | 788,520          | 1,292,935         | 0                | 0              |   715             |\n",
    "| Remove variants with HWE p < 0.0001              | 118,936          | 1,173,999         | 0                | 0              |   715             |\n",
    "\n"
   ]
  },
  {
   "cell_type": "markdown",
   "metadata": {},
   "source": [
    "### ChrX statistics\n",
    "This table includes filtering statistics prior to merging with autosomes.\n",
    "\n",
    "| QC procedure                                     | Variants removed | Variants retained | Subjects removed | Subjects added | Subjects retained |\n",
    "|--------------------------------------------------|------------------|-------------------|------------------|----------------|-------------------|\n",
    "| EA subject filter w/initial procedures (all chr) | 0                |  2,130,946        | 0                | 0              | 715               |\n",
    "| Partitioning to only chrX                        | 2,084,057        |  45,301           | 0                | 0              |  715               |\n",
    "| Remove subjects missing whole chrX data          | 0                |  45,301           | 0                | 0              |  715               |\n",
    "| Duplicate rsID filtering                         | 0                |  45,301           | 0                | 0              |  715               |\n",
    "| Remove variants with missing call rate > 10%     | 24,463           |  20,838           | 0                | 0              |  715               |\n",
    "| Remove variants with HWE p < 0.0001              | 10,383           |  10,455           | 0                | 0              |  715               |"
   ]
  },
  {
   "cell_type": "markdown",
   "metadata": {},
   "source": [
    "### Merged autosome and chrX statistics\n",
    "\n",
    "| QC procedure                                     | Variants removed | Variants retained | Subjects removed | Subjects added | Subjects retained |\n",
    "|--------------------------------------------------|------------------|-------------------|------------------|----------------|-------------------|\n",
    "| Merge autosomes and chrX                         | 0                | 1,184,454         | 0                | 0              | 715            |\n",
    "| Remove subjects with IBD > 0.4 or IBS > 0.9      | 0                | 1,184,454         | 39               | 0               | 676            |\n",
    "| Remove subjects with missing call rate > 10%     | 0                | 1,184,454         | 54               | 0              | 622            |\n",
    "| Sex discordance filter                           | 0                | 1,184,454         | 0                | 0              | 622            |\n",
    "| Excessive homozygosity filter                    | 0                | 1,184,454         | 0                | 0              | 622            |\n",
    "| Duplicate variant ID filter after 1000G renaming | 1                | 1,184,453         | 0                | 0              | 622            |\n",
    "| Remove ambiguous SNPs                            | 30,094           | 1,154,359         | 0                | 0              | 622            |"
   ]
  },
  {
   "cell_type": "markdown",
   "metadata": {},
   "source": [
    "## African Ancestry\n",
    "The table below provides statistics on variants and subjects filtered during each step of the QC process.\n",
    "\n",
    "**Note**: Initial subject counts are determined by considering only subjects with both genotype and phenotype data available. Consequently, initial numbers may not match between the .fam files and the phenotype files.\n",
    "\n",
    "### Autosome statistics\n",
    "This table includes filtering statistics prior to merging with chrX.\n",
    "\n",
    "| QC procedure                                     | Variants removed | Variants retained | Subjects removed | Subjects added | Subjects retained |\n",
    "|--------------------------------------------------|------------------|-------------------|------------------|----------------|-------------------|\n",
    "| AA subject filter w/initial procedures (all chr) | 0                | 2,130,946         | 0                | 0              |   1,517           |\n",
    "| Partitioning to only autosomes                   | 46,889           | 2,084,057         | 0                | 0              |   1,517           |\n",
    "| Remove subjects missing whole autosome data      | 0                | 2,084,057         | 0                | 0              |   1,517           |\n",
    "| Add + reassigned subjects based on STRUCTURE     | 0                | 2,084,057         | 802              | 0              |   793             |\n",
    "| Strand flipping and polymorphic SNP filter       | 2,602            | 2,081,455         | 0                | 0              |   793             |\n",
    "| Remove variants with missing call rate > 10%     | 1,012,289        | 1,069,166         | 0                | 0              |   793             |\n",
    "| Remove variants with HWE p < 0.0001              | 101,443          | 967,723           | 0                | 0              |   793             |\n",
    "\n"
   ]
  },
  {
   "cell_type": "markdown",
   "metadata": {},
   "source": [
    "### ChrX statistics\n",
    "This table includes filtering statistics prior to merging with autosomes.\n",
    "\n",
    "| QC procedure                                     | Variants removed | Variants retained | Subjects removed | Subjects added | Subjects retained |\n",
    "|--------------------------------------------------|------------------|-------------------|------------------|----------------|-------------------|\n",
    "| AA subject filter w/initial procedures (all chr) | 0                |  2,130,946        | 0                | 0              |  793              |\n",
    "| Partitioning to only chrX                        | 2,085,645        |  45,301           | 0                | 0              |  793              |\n",
    "| Remove subjects missing whole chrX data          | 0                |  45,301           | 0                | 0              |  793              |\n",
    "| Duplicate rsID filtering                         | 0                |  45,301           | 0                | 0              |  793              |\n",
    "| Remove variants with missing call rate > 10%     | 30,068           |  15,233           | 0                | 0              |  793              |\n",
    "| Remove variants with HWE p < 0.0001              | 10,989           |  4,244            | 0                | 0              |  793              |"
   ]
  },
  {
   "cell_type": "markdown",
   "metadata": {},
   "source": [
    "### Merged autosome and chrX statistics\n",
    "\n",
    "| QC procedure                                     | Variants removed | Variants retained | Subjects removed | Subjects added | Subjects retained |\n",
    "|--------------------------------------------------|------------------|-------------------|------------------|----------------|-------------------|\n",
    "| Merge autosomes and chrX                         | 0                | 971,967           | 0                | 0              | 793            |\n",
    "| Remove subjects with IBD > 0.4 or IBS > 0.9      | 0                | 971,967           | 42               | 0               | 751            |\n",
    "| Relationship inference using KING (AA only)      | 0                | 971,967           | 0                | 0              | 751            |\n",
    "| Remove subjects with missing call rate > 10%     | 0                | 971,967           | 94               | 0               | 657            |\n",
    "| Sex discordance filter                           | 0                | 971,967           | 0                | 0              | 657            |\n",
    "| Excessive homozygosity filter                    | 0                | 971,967           | 0                | 0              | 657            |\n",
    "| Duplicate variant ID filter after 1000G renaming | 1                | 971,966           | 0                | 0              | 657            |\n",
    "| Remove ambiguous SNPs                            | 25,034           | 946,932           | 0                | 0              | 657            |"
   ]
  },
  {
   "cell_type": "markdown",
   "metadata": {},
   "source": [
    "## Pre-STRUCTURE Analysis\n",
    "### Convert Data to PLINK (bed/bim/fam) format\n",
    "Fist convert the data to tped/tfam format, then convert that to bed/bim/fam format.\n",
    "\n",
    "**Note** that in the raw data, the very last row is incomplete. All of the rows have 12,266 columns of data, however the very last row only has 983 columns. This variant is:\n",
    "```\n",
    "Index      Name            Address         Chr     Position\n",
    "2146520    rs5917930       66684989        X       37189187\n",
    "```\n",
    "Because of the incompleteness, we will remove this variant from the genotype data after initially creating the tped file. This was found out after attempting to convert to PLINK format and getting an error in the log file:\n",
    "\n",
    "```\n",
    "ERROR:\n",
    "Problem with line 2146520 in [ /shared/data/studies/heroin/observed/processing/uhs4/uhs4.tped ]\n",
    "Expecting 4 + 2 * 1532 = 3068 columns, but found 246\n",
    "```"
   ]
  },
  {
   "cell_type": "code",
   "execution_count": null,
   "metadata": {},
   "outputs": [],
   "source": [
    "## Create directory structure ##\n",
    "\n",
    "################################################################################\n",
    "study=uhs4\n",
    "project=heroin\n",
    "procD=/shared/data/studies/$project/$study/genotype/observed/processing/002\n",
    "mkdir -p $procD\n",
    "inFile=/shared/data/studies/$project/$study/genotype/observed/unprocessed/Eric_Johnson_Serum_Genotype_Reports_18OCT2018/Eric_Johnson_Serum_Heroin_Samples_Omni2-5_Genotype_Report_OCT2018.txt\n",
    "outFile=$procD/$study.tped\n",
    "anlist=\"ea\" # ancestry list (just enter ea if not sure which ancestries groups are in your data)\n",
    "gcr=0.10 # genotype call-rate threshold filter\n",
    "hwe=0.0001 # hardy weinberg equilibrium threshold\n",
    "\n",
    "\n",
    "# kgp to rsID map file\n",
    "mapF=/shared/common/chip_info/InfiniumOmni2-5-8v1-4_A1/InfiniumOmni2-5-8v1-4_A1_b150_rsids.txt\n",
    "################################################################################\n",
    "\n",
    "## Create tped file ## (Chr Name 0 Position Allele)\n",
    "tail -n +2 $inFile |\n",
    "    perl -ane 'print join(\"\\t\", $F[3], $F[1], \"0\", $F[4]);\n",
    "                for ( $i = 16; $i < @F; $i += 8) {\n",
    "                    if ($F[$i] eq \"--\") {\n",
    "                        print \"\\t0\\t0\";\n",
    "                    } else {\n",
    "                        $F[$i] =~ /(\\S)(\\S)/;\n",
    "                        print \"\\t\".$1.\"\\t\".$2;\n",
    "                    }\n",
    "                }\n",
    "                print \"\\n\";' > $outFile &\n",
    "\n",
    "\n",
    "# remove last row that has incomplete data \n",
    "# found this out by after reading the log files after attempting to convert to bed/bim/fam format\n",
    "sed -i '$d' $outFile\n",
    "\n",
    "\n",
    "## Create tfam file ##\n",
    "head -n 1 /shared/data/studies/$project/observed/unprocessed/uhs4/Eric_Johnson_Serum_Genotype_Reports_18OCT2018/Eric_Johnson\n",
    "_Serum_Heroin_Samples_Omni2-5_Genotype_Report_OCT2018.txt |\n",
    "    perl -lne '@F = split(/\\t/);\n",
    "                for ( $i = 10; $i < @F; $i += 8) {\n",
    "                    $F[$i] =~ s/.GType//;\n",
    "                    print join(\"\\t\", $F[$i], $F[$i], \"0\\t0\\t0\\t0\");\n",
    "                }' > \\\n",
    "    $procD/$study.tfam &\n",
    "\n",
    "\n",
    "## Convert to bed/bim/fam ##\n",
    "/shared/bioinformatics/software/third_party/plink-1.07-x86_64/plink \\\n",
    "    --noweb \\\n",
    "    --tfile $procD/$study \\\n",
    "    --make-bed \\\n",
    "    --out $procD/$study\n",
    "\n",
    "\n",
    "## Remove controls ##\n",
    "grep -P \"^Pos\" $procD/$study.fam > \\\n",
    "    $procD/controls.remove\n",
    "/shared/bioinformatics/software/third_party/plink-1.07-x86_64/plink \\\n",
    "    --noweb \\\n",
    "    --bfile $procD/$study \\\n",
    "    --remove $procD/controls.remove \\\n",
    "    --make-bed \\\n",
    "    --out $procD/$study.no_controls"
   ]
  },
  {
   "cell_type": "markdown",
   "metadata": {},
   "source": [
    "### Map kgpID to rsID\n",
    "Our data is genotyped on the Illumina chip `InfiniumOmni2-5-8v1-4_A1`. I was able to go onto [their website](https://support.illumina.com/array/array_kits/humanomni2_5-8_beadchip_kit/downloads.html) and find the conversion file I needed at the path <br>\n",
    "`Support» Array Support» BeadChip Kits» Infinium Omni2.5-8 Kit» Downloads» Infinium Omni2.5-8 v1.4 Support Files s» Infinium Omni2.5-8 v1.4 Loci Name to rsID Conversion File`\n",
    "\n",
    "```\n",
    "head /shared/common/chip_info/InfiniumOmni2-5-8v1-4_A1/InfiniumOmni2-5-8v1-4_A1_b150_rsids.txt\n",
    "Name    RsID\n",
    "200610-1        rs28619217\n",
    "200610-10       .\n",
    "200610-100      rs367572771\n",
    "```"
   ]
  },
  {
   "cell_type": "code",
   "execution_count": null,
   "metadata": {},
   "outputs": [],
   "source": [
    "# EC2\n",
    "\n",
    "# Remove multi-mapping IDs\n",
    "awk 'BEGIN{ FS=\",\"; OFS=\"\\t\" } { if(NR==FNR){if(id_map[$1]>=1){id_map[$1]=2}else{id_map[$1]=1}; next}; if(id_map[$1]==1){print $1,$2} }' \\\n",
    "    $mapF $mapF > $procD/kgp2rs.tsv\n",
    "\n",
    "# Convert kgp ID to rsID\n",
    "/shared/bioinformatics/software/third_party/plink-1.90-beta-4.10-x86_64/plink \\\n",
    "        --noweb \\\n",
    "        --memory 2048 \\\n",
    "        --bfile $procD/$study.no_controls \\\n",
    "        --update-name $procD/kgp2rs.tsv \\\n",
    "        --make-bed \\\n",
    "        --out $procD/$study.no_controls.kgp_to_rsID"
   ]
  },
  {
   "cell_type": "markdown",
   "metadata": {},
   "source": [
    "### Remove Duplicate SNPs"
   ]
  },
  {
   "cell_type": "code",
   "execution_count": null,
   "metadata": {},
   "outputs": [],
   "source": [
    "# Append _X (where X is a number) to the end of the rs IDs for all but 1st occurrence of duplicates\n",
    "perl -lane 'BEGIN { %idCounts = (); }\n",
    "                    if (exists($idCounts{$F[1]})) {\n",
    "                        $idCounts{$F[1]}++;\n",
    "                        print join(\"\\t\",$F[0],$F[1].\"_\".$idCounts{$F[1]},$F[2],$F[3],$F[4],$F[5]);\n",
    "                    } else {\n",
    "                        $idCounts{$F[1]} = 1;\n",
    "                        print;\n",
    "                    } ' $procD/$study.no_controls.kgp_to_rsID.bim > $procD/$study.no_controls.kgp_to_rsID.renamed.bim\n",
    "\n",
    "# create a list of the duplicate snps\n",
    "grep -P \"_\\d\" $procD/$study.no_controls.kgp_to_rsID.renamed.bim | \\\n",
    "    perl -lane 'print substr($F[1], 0, index($F[1],\"_\")).\"\\n\".$F[1];' \\\n",
    "    > $procD/$study.no_controls.kgp_to_rsID.renamed.duplicate_snps\n",
    "\n",
    "# Get call rates for duplicate SNPs\n",
    "/shared/bioinformatics/software/third_party/plink-1.90-beta-4.10-x86_64/plink \\\n",
    "            --bed $procD/$study.no_controls.kgp_to_rsID.bed \\\n",
    "            --bim $procD/$study.no_controls.kgp_to_rsID.renamed.bim \\\n",
    "            --fam $procD/$study.no_controls.kgp_to_rsID.fam \\\n",
    "            --extract $procD/$study.no_controls.kgp_to_rsID.renamed.duplicate_snps \\\n",
    "            --missing \\\n",
    "            --out $procD/$study.no_controls.kgp_to_rsID.duplicate_snps.missing\n",
    "\n",
    "# Create remove list for duplicates containing duplicate with higher missing rate\n",
    "tail -n +2 $procD/$study.no_controls.kgp_to_rsID.duplicate_snps.missing.lmiss |\\\n",
    "perl -lane 'BEGIN { %missingness = (); }\n",
    "                        if ($F[1] =~ /^(\\S+)_/) {\n",
    "                            $duplicateName = $1\n",
    "                        } else {\n",
    "                            $duplicateName = $F[1].\"_2\";\n",
    "                        }\n",
    "                        if (exists($missingness{$duplicateName})) {\n",
    "                            if ($missingness{$duplicateName} > $F[4]) {\n",
    "                                print $duplicateName;\n",
    "                            } else {\n",
    "                                print $F[1];\n",
    "                            }\n",
    "                        } else {\n",
    "                            $missingness{$F[1]} = $F[4];\n",
    "                        }' > $procD/$study.no_controls.kgp_to_rsID.duplicate_snps.remove\n",
    "\n",
    "# Remove duplicates with higher missing rate\n",
    "/shared/bioinformatics/software/third_party/plink-1.90-beta-4.10-x86_64/plink \\\n",
    "    --bed $procD/$study.no_controls.kgp_to_rsID.bed \\\n",
    "    --bim $procD/$study.no_controls.kgp_to_rsID.renamed.bim \\\n",
    "    --fam $procD/$study.no_controls.kgp_to_rsID.fam \\\n",
    "    --exclude $procD/$study.no_controls.kgp_to_rsID.duplicate_snps.remove \\\n",
    "    --make-bed \\\n",
    "    --out $procD/$study.no_controls.kgp_to_rsID.duplicates_removed\n",
    "\n",
    "# Remove \"_X\" from rs IDs\n",
    "perl -i.bak -lne 's/_\\d\\t/\\t/; print;'  $procD/genotypes_kgpID2rsID_duplicates_removed.bim"
   ]
  },
  {
   "cell_type": "markdown",
   "metadata": {},
   "source": [
    "### Update dbSNP and genome build\n",
    "To ensure that all of the variant and genomic data are in dbSNP 138 and genome build 37 format, ID and position mappers are used to make data updates.\n",
    "\n",
    "#### Update to dbSNP138\n",
    "**Note**: our data is in dbSNP150 (b150), therefore we need not perform the update to dbSNP138 code."
   ]
  },
  {
   "cell_type": "code",
   "execution_count": null,
   "metadata": {},
   "outputs": [],
   "source": [
    "# EC2\n",
    "\n",
    "## Update name to dbSNP 138\n",
    "#/shared/bioinformatics/software/third_party/plink-1.90-beta-4.10-x86_64/plink \\\n",
    "#    --noweb \\\n",
    "#    --memory 2048 \\\n",
    "#    --bfile ea.geno \\\n",
    "#    --update-name /shared/common/snp_id_conversion/b138/old_to_current.xref \\\n",
    "#    --make-bed \\\n",
    "#    --out ea_geno_rsID_update\n",
    "\n",
    "## Recheck for duplicate rsIDs\n",
    "## Append _X (where X is a number) to the end of the rs IDs for all but 1st occurrence of duplicates\n",
    "#perl -lane 'BEGIN { %idCounts = (); }\n",
    "#                    if (exists($idCounts{$F[1]})) {\n",
    "#                        $idCounts{$F[1]}++;\n",
    "#                        print join(\"\\t\",$F[0],$F[1].\"_\".$idCounts{$F[1]},$F[2],$F[3],$F[4],$F[5]);\n",
    "#                    } else {\n",
    "#                        $idCounts{$F[1]} = 1;\n",
    "#                        print;\n",
    "#                    } ' ea_geno_rsid_update.bim > ea_geno_rsid_update_renamed.bim\n",
    "#\n",
    "#grep -P \"_\\d\" ea_geno_rsid_update_renamed.bim | \\\n",
    "#    perl -lane 'print substr($F[1], 0, index($F[1],\"_\")).\"\\n\".$F[1];' \\\n",
    "#    > ea_geno_rsid_update_renamed.duplicate_snps\n",
    "#\n",
    "## note, there are no dups so we will move on\n",
    "#wc -l ea_geno_rsid_update_renamed.duplicate_snps\n",
    "#\"0\"\n",
    "\n",
    "## Get call rates for duplicate SNPs\n",
    "#/shared/bioinformatics/software/third_party/plink-1.90-beta-4.10-x86_64/plink \\\n",
    "#            --bed genotypes_kgpID2rsID_duplicates_removed_rsid_update.bed \\\n",
    "#            --bim genotypes_kgpID2rsID_duplicates_removed_rsid_update_renamed.bim \\\n",
    "#            --fam genotypes_kgpID2rsID_duplicates_removed_rsid_update.fam \\\n",
    "#            --extract genotypes_kgpID2rsID_duplicates_removed_rsid_update_renamed.duplicate_snps \\\n",
    "#            --missing \\\n",
    "#            --out genotypes_kgpID2rsID_duplicates_removed_rsid_update.duplicate_snps.missing\n",
    "#\n",
    "## Create remove list for duplicates containing duplicate with higher missing rate\n",
    "#tail -n +2 genotypes_kgpID2rsID_duplicates_removed_rsid_update.duplicate_snps.missing.lmiss |\\\n",
    "#perl -lane 'BEGIN { %missingness = (); }\n",
    "#                        if ($F[1] =~ /^(\\S+)_/) {\n",
    "#                            $duplicateName = $1\n",
    "#                        } else {\n",
    "#                            $duplicateName = $F[1].\"_2\";\n",
    "#                        }\n",
    "#                        if (exists($missingness{$duplicateName})) {\n",
    "#                            if ($missingness{$duplicateName} > $F[4]) {\n",
    "#                                print $duplicateName;\n",
    "#                            } else {\n",
    "#                                print $F[1];\n",
    "#                            }\n",
    "#                        } else {    \n",
    "#                            $missingness{$F[1]} = $F[4];\n",
    "#                        }' > genotypes_kgpID2rsID_duplicates_removed_rsid_update.duplicate_snps.remove\n",
    "#\n",
    "## Remove duplicates with higher missing rate\n",
    "#/shared/bioinformatics/software/third_party/plink-1.90-beta-4.10-x86_64/plink \\\n",
    "#   --bed genotypes_kgpID2rsID_duplicates_removed_rsid_update.bed \\\n",
    "#   --bim genotypes_kgpID2rsID_duplicates_removed_rsid_update_renamed.bim \\\n",
    "#   --fam genotypes_kgpID2rsID_duplicates_removed_rsid_update.fam \\\n",
    "#   --exclude genotypes_kgpID2rsID_duplicates_removed_rsid_update.duplicate_snps.remove \\\n",
    "#   --make-bed \\\n",
    "#   --out genotypes_kgpID2rsID_duplicates_removed_rsid_update_duplicates_removed\n",
    "#\n",
    "## Remove \"_X\" from rs IDs\n",
    "#perl -i.bak -lne 's/_\\d\\t/\\t/; print;'  genotypes_kgpID2rsID_duplicates_removed_rsid_update_duplicates_removed.bim\n",
    "#"
   ]
  },
  {
   "cell_type": "markdown",
   "metadata": {},
   "source": [
    "#### Update to genome build (37)\n",
    "To ensure that all of the population controls have variant and genomic data in dbSNP 138 and genome build 37 format, I use ID and position mappers to make the updates."
   ]
  },
  {
   "cell_type": "code",
   "execution_count": null,
   "metadata": {},
   "outputs": [],
   "source": [
    "## EC2 console ##\n",
    "genoData=$procD/uhs4.no_controls.kgp_to_rsID.duplicates_removed\n",
    "\n",
    "# Update variant chr\n",
    "/shared/bioinformatics/software/third_party/plink-1.90-beta-4.10-x86_64/plink \\\n",
    "    --noweb \\\n",
    "    --memory 2048 \\\n",
    "    --bfile $genoData \\\n",
    "    --update-chr /shared/common/build_conversion/b37/dbsnp_b138/uniquely_mapped_snps.chromosomes \\\n",
    "    --make-bed \\\n",
    "    --out $procD/genotypes_chr_b37\n",
    "\"2137899 variants and 1517 people pass filters and QC.\"\n",
    "\n",
    "# Update variant chr coordinate\n",
    "/shared/bioinformatics/software/third_party/plink-1.90-beta-4.10-x86_64/plink \\\n",
    "    --noweb \\\n",
    "    --memory 2048 \\\n",
    "    --bfile $procD/genotypes_chr_b37 \\\n",
    "    --update-map /shared/common/build_conversion/b37/dbsnp_b138/uniquely_mapped_snps.positions \\\n",
    "    --make-bed \\\n",
    "    --out $procD/genotypes_chr_position_b37\n",
    "\n",
    "# Filter to only build 37 uniquely mapped variants\n",
    "/shared/bioinformatics/software/third_party/plink-1.90-beta-4.10-x86_64/plink \\\n",
    "    --noweb \\\n",
    "    --memory 2048 \\\n",
    "    --bfile $procD/genotypes_chr_position_b37 \\\n",
    "    --extract /shared/common/build_conversion/b37/dbsnp_b138/uniquely_mapped_snps.ids \\\n",
    "    --make-bed \\\n",
    "    --out $procD/genotypes_b37_dbsnp138\n",
    "\"2130946 variants and 1517 people pass filters and QC.\""
   ]
  },
  {
   "cell_type": "markdown",
   "metadata": {},
   "source": [
    "### Ancestry partitioning\n",
    "Since we do not have any phenotype information about the subjects, we will treat all of the subjects as EA subjects until after we perform the Structure analysis."
   ]
  },
  {
   "cell_type": "code",
   "execution_count": null,
   "metadata": {},
   "outputs": [],
   "source": [
    "## EC2 console ##\n",
    "for an in $anlist;do\n",
    "    mkdir $procD/$an\n",
    "    cp $procD/genotypes_b37* $procD/$an\n",
    "done\n",
    "\n",
    "### code below was from another study but we will not have to use in this case.\n",
    "\n",
    "## Construct a subject ID list for each ancestry group\n",
    "#tail -n +12 ../../../phenotype/processing/Subject_Phenotypes.DS-ADX-IRB-NPU.txt | \\\n",
    "#    awk '{ FS=\"\\t\"; OFS=\"\\t\" } { if($5==\"African_American\"){print 0,$2} }' >  ../../../phenotype/processing/aa_subject_ids.txt\n",
    "#\n",
    "#tail -n +12 ../../../phenotype/processing/Subject_Phenotypes.DS-ADX-IRB-NPU.txt | \\\n",
    "#    awk '{ FS=\"\\t\"; OFS=\"\\t\" } { if($5==\"Hispanic\"){print 0,$2} }' > ../../../phenotype/processing/ha_subject_ids.txt\n",
    "#\n",
    "#tail -n +12 ../../../phenotype/processing/Subject_Phenotypes.DS-ADX-IRB-NPU.txt | \\\n",
    "#    awk '{ FS=\"\\t\"; OFS=\"\\t\" } { if($5==\"White\"){print 0,$2} }' > ../../../phenotype/processing/ea_subject_ids.txt\n",
    "#\n",
    "## Make new binary filesets for each ancestry group\n",
    "#for ancestry in {aa,ha,ea}; do\n",
    "#    echo -e \"\\n\\n ================ ${ancestry} ================\\n\\n\"\n",
    "#    mkdir ${ancestry}\n",
    "#    /shared/bioinformatics/software/third_party/plink-1.90-beta-4.10-x86_64/plink \\\n",
    "#      --bfile genotypes_b37_dbsnp138 \\\n",
    "#      --keep ../../../phenotype/processing/${ancestry}_subject_ids.txt \\\n",
    "#      --make-bed \\\n",
    "#      --out ${ancestry}/genotypes_b37_dbsnp138\n",
    "#done\n"
   ]
  },
  {
   "cell_type": "markdown",
   "metadata": {},
   "source": [
    "### Partition into autosome and chrX groups\n",
    "I apply QC to autosomes and chrX separately, so separate subdirectories are created for the processing of each set."
   ]
  },
  {
   "cell_type": "code",
   "execution_count": null,
   "metadata": {},
   "outputs": [],
   "source": [
    "## EC2 console ##\n",
    "\n",
    "# Make autosome and chrX binary filesets for each ancestry group\n",
    "#for ancestry in {aa,ha,ea}; do\n",
    "for ancestry in $anlist; do\n",
    "\n",
    "    echo -e \"\\n\\n ================ ${ancestry} ================\\n\\n\"\n",
    "    mkdir $procD/${ancestry}/{autosomes,chrX}\n",
    "\n",
    "    # Autosomes\n",
    "    /shared/bioinformatics/software/third_party/plink-1.90-beta-4.10-x86_64/plink \\\n",
    "        --bfile $procD/${ancestry}/genotypes_b37_dbsnp138 \\\n",
    "        --autosome \\\n",
    "        --make-bed \\\n",
    "        --out $procD/${ancestry}/autosomes/genotypes_b37_dbsnp138\n",
    "\n",
    "    # ChrX\n",
    "    /shared/bioinformatics/software/third_party/plink-1.90-beta-4.10-x86_64/plink \\\n",
    "        --bfile $procD/${ancestry}/genotypes_b37_dbsnp138 \\\n",
    "        --chr 23 \\\n",
    "        --make-bed \\\n",
    "        --out $procD/${ancestry}/chrX/genotypes_b37_dbsnp138\n",
    "done"
   ]
  },
  {
   "cell_type": "markdown",
   "metadata": {},
   "source": [
    "```\n",
    "wc -l */*/*bim\n",
    " 2084057 autosomes/genotypes_b37_dbsnp138.bim\n",
    "   43990 chrX/genotypes_b37_dbsnp138.bim\n",
    "```"
   ]
  },
  {
   "cell_type": "markdown",
   "metadata": {},
   "source": [
    "### Missing autosome data subject filtering\n",
    "We calculate the proportion of missing genotype calls per chromosome using PLINK to assess whether any subjects have data missing for whole autosomes."
   ]
  },
  {
   "cell_type": "code",
   "execution_count": null,
   "metadata": {},
   "outputs": [],
   "source": [
    "## EC2 console ##\n",
    "\n",
    "#for ancestry in {aa,ea,ha}; do\n",
    "for ancestry in $anlist; do\n",
    "    echo -e \"\\n\\n ================ ${ancestry} ================\\n\\n\"\n",
    "    for chr in {1..22}; do\n",
    "        /shared/bioinformatics/software/scripts/qsub_job.sh \\\n",
    "            --job_name ${ancestry}_${chr} \\\n",
    "            --script_prefix $procD/${ancestry}/autosomes/chr${chr}_missing_call_rate \\\n",
    "            --mem 3.8 \\\n",
    "            --priority 0 \\\n",
    "            --program /shared/bioinformatics/software/third_party/plink-1.90-beta-4.10-x86_64/plink \\\n",
    "                --noweb \\\n",
    "                --bfile $procD/${ancestry}/autosomes/genotypes_b37_dbsnp138 \\\n",
    "                --missing \\\n",
    "                --chr $chr \\\n",
    "                --out $procD/${ancestry}/autosomes/chr${chr}_missing_call_rate\n",
    "    done\n",
    "done\n",
    "\n",
    "# if the missing call rate is 1 (i.e. all data was missing for that chromosome)\n",
    "# Find subjects that have data missing for whole autosomes\n",
    "#for ancestry in {aa,ha,ea}; do\n",
    "for ancestry in $anlist; do\n",
    "    echo -e \"\\n\\n ================ ${ancestry} ================\\n\\n\"\n",
    "    for chr in {1..22}; do\n",
    "        tail -n +2 $procD/${ancestry}/autosomes/chr${chr}_missing_call_rate.imiss | \\\n",
    "            awk '{ OFS=\"\\t\" } { if($6==1){ print $1,$2 } }' >> $procD/${ancestry}/autosomes/missing_whole_autosome.remove\n",
    "    done\n",
    "done\n",
    "\n",
    "#rm {aa,ea,ha}/autosomes/chr*missing_call_rate*\n",
    "for ancestry in $anlist;do\n",
    "    rm $procD/$ancestry/autosomes/chr*missing_call_rate*\n",
    "done"
   ]
  },
  {
   "cell_type": "markdown",
   "metadata": {},
   "source": [
    "For this case none of the ancestry groups had subjects with missing autosome data. If subjects ever show up as having missing autosome data then further discussions need to be had on whether these subjects should be removed completely or whether they should only be excluded for the missing chromosomes."
   ]
  },
  {
   "cell_type": "markdown",
   "metadata": {},
   "source": [
    "### DNA Strand Flipping\n",
    "According to the NGC protocol: `All genotypes should be on GRCh37 forward strand.` <br>\n",
    "**PLEASE NOTE**: Illumina TOP strand, or Illumina forward strand, ARE NOT the same as GRCH37 forward strand.\n",
    "\n",
    "\n",
    "To determine if strand flipping is an issue, I perform a merge between chr1 of the study data and 1000 Genomes Phase 3 data. Doing this will produce a log of problematic variants that may be attributable to strand flipping. These results can be compared to chr1 data with flipped variants to see if strand orientation is truly the issue.\n",
    "\n",
    "As of 05/04/2018, the binary filesets per chromosome in PLINK format for 1000G Phase 3 can be found in `/shared/data/ref_panels/1000G/2013.05/plink` on AWS."
   ]
  },
  {
   "cell_type": "markdown",
   "metadata": {},
   "source": [
    "#### Create Flip List\n",
    "Creating a flip list with the annotation file provided with the genotype data. Note that because we converted our data from kgp IDs to rsIDs, we need to convert the flip file as well.\n",
    "\n",
    "```\n",
    "cd /shared/common/chip_info/InfiniumOmni2-5-8v1-4_A1\n",
    "\n",
    "tail -n +8 InfiniumOmni2-5-8v1-4_A1.csv  | awk -F \",\" ' $NF==\"-\"{print $2,$NF} ' | head\n",
    "Name RefStrand\n",
    "200610-1 -\n",
    "200610-10 +\n",
    "200610-100 -\n",
    "200610-102 -\n",
    "```"
   ]
  },
  {
   "cell_type": "code",
   "execution_count": null,
   "metadata": {},
   "outputs": [],
   "source": [
    "## Python\n",
    "\n",
    "import sys\n",
    "data_dir = \"/shared/common/chip_info/InfiniumOmni2-5-8v1-4_A1/\"\n",
    "kgp2rs = \"InfiniumOmni2-5-8v1-4_A1_b150_rsids.txt\"\n",
    "flip_file = \"InfiniumOmni2-5-8v1-4_A1.csv\"\n",
    "out_file = \"InfiniumOmni2-5-8v1-4_A1.to_forward_strand.flip\"\n",
    "\n",
    "\n",
    "with open(data_dir + kgp2rs, \"r\") as inF:\n",
    "    # create dictionary of kgp->rsID mapping\n",
    "    rs_dict = dict()\n",
    "    line = inF.readline()\n",
    "    print(line)\n",
    "    while line:\n",
    "        key = line.split()[0]\n",
    "        value = line.split()[1]\n",
    "        rs_dict[key] = value\n",
    "        line = inF.readline()\n",
    "\n",
    "with open(data_dir + flip_file) as inF, open(data_dir + out_file, \"w\") as outF:\n",
    "    line = inF.readline()\n",
    "    while line[0:6] != \"IlmnID\":\n",
    "        line = inF.readline()\n",
    "    line = inF.readline()\n",
    "    while line:\n",
    "        splitl = line.strip().split(\",\")\n",
    "        kgp_id = splitl[1]\n",
    "        strand = splitl[len(splitl)-1]\n",
    "        if strand == \"-\":\n",
    "            mapped_id = rs_dict[kgp_id]\n",
    "            outF.write(mapped_id + \"\\n\")\n",
    "        line = inF.readline()"
   ]
  },
  {
   "cell_type": "markdown",
   "metadata": {},
   "source": [
    "#### Flip Test"
   ]
  },
  {
   "cell_type": "code",
   "execution_count": null,
   "metadata": {},
   "outputs": [],
   "source": [
    "## EC2 console ##\n",
    "flipFile=/shared/common/chip_info/InfiniumOmni2-5-8v1-4_A1/InfiniumOmni2-5-8v1-4_A1.to_forward_strand.flip\n",
    "\n",
    "ancestry=ea\n",
    "# Check flipping issues using chr1\n",
    "echo -e \"\\n\\n================ ${ancestry} ================\\n\\n\"\n",
    "echo -e \"\\n>>>>>>>> UNFLIPPED TEST\\n\"\n",
    "\n",
    "# Extract chr1 unflipped variants\n",
    "/shared/bioinformatics/software/third_party/plink-1.90-beta-4.10-x86_64/plink \\\n",
    "    --noweb \\\n",
    "    --bfile $procD/${ancestry}/autosomes/genotypes_b37_dbsnp138 \\\n",
    "    --chr 1 \\\n",
    "    --make-bed \\\n",
    "    --out $procD/${ancestry}/chr1_unflipped\n",
    "\"167787 variants and 1517 people pass filters and QC.\"\n",
    "\n",
    "# Attempt merge with 1000G chr1 data\n",
    "/shared/bioinformatics/software/third_party/plink-1.90-beta-4.10-x86_64/plink \\\n",
    "    --noweb \\\n",
    "    --bfile $procD/${ancestry}/chr1_unflipped \\\n",
    "    --bmerge /shared/data/ref_panels/1000G/2013.05/plink/ALL.chr1 \\\n",
    "    --make-bed \\\n",
    "    --out $procD/${ancestry}/chr1_unflipped_test\n",
    "\"Error: 57967 variants with 3+ alleles present.\"\n",
    "\n",
    "echo -e \"\\n>>>>>>>> FLIPPED TEST\\n\"\n",
    "# Extract chr1 flipped variants\n",
    "/shared/bioinformatics/software/third_party/plink-1.90-beta-4.10-x86_64/plink \\\n",
    "    --noweb \\\n",
    "    --bfile $procD/${ancestry}/autosomes/genotypes_b37_dbsnp138 \\\n",
    "    --chr 1 \\\n",
    "    --flip $flipFile \\\n",
    "    --make-bed \\\n",
    "    --out $procD/${ancestry}/chr1_flipped\n",
    "\"167787 variants and 1517 people pass filters and QC.\"\n",
    "\n",
    "# Attempt merge with 1000G chr1 data\n",
    "/shared/bioinformatics/software/third_party/plink-1.90-beta-4.10-x86_64/plink \\\n",
    "    --noweb \\\n",
    "    --bfile $procD/${ancestry}/chr1_flipped \\\n",
    "    --bmerge /shared/data/ref_panels/1000G/2013.05/plink/ALL.chr1 \\\n",
    "    --make-bed \\\n",
    "    --out $procD/${ancestry}/chr1_flipped_test\n",
    "\"Error: 57066 variants with 3+ alleles present.\"\n",
    "# obviously this did not remedy the flip issue, therefore we will try to flip just the snps that\n",
    "# were problematic in the first unflipped merge.\n",
    "\n",
    "echo -e \"\\n>>>>>>>> FLIPPED TEST\\n\"\n",
    "# Extract chr1 flipped variants\n",
    "/shared/bioinformatics/software/third_party/plink-1.90-beta-4.10-x86_64/plink \\\n",
    "    --noweb \\\n",
    "    --bfile $procD/${ancestry}/autosomes/genotypes_b37_dbsnp138 \\\n",
    "    --chr 1 \\\n",
    "    --flip $procD/${ancestry}/chr1_unflipped_test-merge.missnp \\\n",
    "    --make-bed \\\n",
    "    --out $procD/${ancestry}/chr1_flipped_v2\n",
    "\n",
    "/shared/bioinformatics/software/third_party/plink-1.90-beta-4.10-x86_64/plink \\\n",
    "    --noweb \\\n",
    "    --bfile $procD/${ancestry}/chr1_flipped_v2 \\\n",
    "    --bmerge /shared/data/ref_panels/1000G/2013.05/plink/ALL.chr1 \\\n",
    "    --make-bed \\\n",
    "    --out $procD/${ancestry}/chr1_flipped_test_v2\n",
    "\"Error: 433 variants with 3+ alleles present.\"\n",
    "\n",
    "# Clean up\n",
    "rm ${ancestry}/chr1_*"
   ]
  },
  {
   "cell_type": "markdown",
   "metadata": {},
   "source": [
    "The merging issues were significantly reduced by flipping the problematic SNPs suggested by PLINK. The flip file we created did not fix the merging issues. With this being the case, we will get a list of all problematic variants and remove them."
   ]
  },
  {
   "cell_type": "markdown",
   "metadata": {},
   "source": [
    "#### Strand Flip\n",
    "Remove all polymorphic SNPs and flip when necessary"
   ]
  },
  {
   "cell_type": "code",
   "execution_count": null,
   "metadata": {},
   "outputs": [],
   "source": [
    "## EC2 console ##\n",
    "\n",
    "# Get flip lists\n",
    "\n",
    "# Extract unflipped variants\n",
    "#for ancestry in {aa,ea,ha}; do\n",
    "for ancestry in $anlist; do\n",
    "    for chr in {1..22}; do\n",
    "        /shared/bioinformatics/software/scripts/qsub_job.sh \\\n",
    "            --job_name ${ancestry}_${chr} \\\n",
    "            --script_prefix $procD/${ancestry}/autosomes/chr${chr}_flip_tests \\\n",
    "            --mem 6 \\\n",
    "            --priority 0 \\\n",
    "            --program  /shared/bioinformatics/software/third_party/plink-1.90-beta-4.10-x86_64/plink \\\n",
    "                --noweb \\\n",
    "                --memory 6000 \\\n",
    "                --bfile $procD/${ancestry}/autosomes/genotypes_b37_dbsnp138 \\\n",
    "                --chr ${chr} \\\n",
    "                --make-bed \\\n",
    "                --out $procD/${ancestry}/chr${chr}_unflipped\n",
    "    done\n",
    "done\n",
    "\n",
    "# Attempt merge with 1000G data\n",
    "for ancestry in $anlist; do\n",
    "    for chr in {1..22}; do\n",
    "        /shared/bioinformatics/software/scripts/qsub_job.sh \\\n",
    "            --job_name ${ancestry}_${chr} \\\n",
    "            --script_prefix $procD/${ancestry}/autosomes/chr${chr}_flip_tests \\\n",
    "            --mem 6 \\\n",
    "            --priority 0 \\\n",
    "            --program  /shared/bioinformatics/software/third_party/plink-1.90-beta-4.10-x86_64/plink \\\n",
    "                --noweb \\\n",
    "                --memory 6000 \\\n",
    "                --bfile $procD/${ancestry}/chr${chr}_unflipped \\\n",
    "                --bmerge /shared/data/ref_panels/1000G/2013.05/plink/ALL.chr${chr} \\\n",
    "                --merge-mode 7 \\\n",
    "                --out $procD/${ancestry}/chr${chr}_unflipped_test\n",
    "    done\n",
    "done\n",
    "\n",
    "# Flip problematic variants\n",
    "for ancestry in $anlist; do\n",
    "    for chr in {1..22}; do\n",
    "        /shared/bioinformatics/software/scripts/qsub_job.sh \\\n",
    "            --job_name ${ancestry}_${chr} \\\n",
    "            --script_prefix $procD/${ancestry}/autosomes/chr${chr}_flip_tests \\\n",
    "            --mem 6 \\\n",
    "            --priority 0 \\\n",
    "            --program  /shared/bioinformatics/software/third_party/plink-1.90-beta-4.10-x86_64/plink \\\n",
    "                --noweb \\\n",
    "                --memory 6000 \\\n",
    "                --bfile $procD/${ancestry}/autosomes/genotypes_b37_dbsnp138 \\\n",
    "                --chr ${chr} \\\n",
    "                --flip $procD/${ancestry}/chr${chr}_unflipped_test.missnp \\\n",
    "                --make-bed \\\n",
    "                --out $procD/${ancestry}/chr${chr}_flipped\n",
    "    done\n",
    "done\n",
    "\n",
    "# Attempt merge with 1000G data\n",
    "for ancestry in $anlist; do\n",
    "    for chr in {1..22}; do\n",
    "        /shared/bioinformatics/software/scripts/qsub_job.sh \\\n",
    "            --job_name ${ancestry}_${chr} \\\n",
    "            --script_prefix $procD/${ancestry}/autosomes/chr${chr}_flip_tests \\\n",
    "            --mem 6 \\\n",
    "            --priority 0 \\\n",
    "            --program  /shared/bioinformatics/software/third_party/plink-1.90-beta-4.10-x86_64/plink \\\n",
    "                --noweb \\\n",
    "                --memory 6000 \\\n",
    "                --bfile $procD/${ancestry}/chr${chr}_flipped \\\n",
    "                --bmerge /shared/data/ref_panels/1000G/2013.05/plink/ALL.chr${chr} \\\n",
    "                --merge-mode 7 \\\n",
    "                --out $procD/${ancestry}/chr${chr}_flipped_test\n",
    "    done\n",
    "done\n",
    "    \n",
    "# Combine flip lists\n",
    "for ancestry in $anlist; do\n",
    "    echo -e \"\\n\\n======== ${ancestry} ========\\n\\n\"\n",
    "    cat $procD/${ancestry}/chr*_unflipped_test.missnp | sort -u > $procD/${ancestry}/chr_all_unflipped_test.missnp\n",
    "    cat $procD/${ancestry}/chr*_flipped_test.missnp | sort -u > $procD/${ancestry}/chr_all_flipped_test.missnp\n",
    "    comm -23 $procD/${ancestry}/chr_all_unflipped_test.missnp $procD/${ancestry}/chr_all_flipped_test.missnp \\\n",
    "        > $procD/${ancestry}/autosomes/chr_all.flip\n",
    "    \n",
    "    # Perform final flip\n",
    "    /shared/bioinformatics/software/third_party/plink-1.90-beta-4.10-x86_64/plink \\\n",
    "        --noweb \\\n",
    "        --bfile $procD/${ancestry}/autosomes/genotypes_b37_dbsnp138 \\\n",
    "        --flip $procD/${ancestry}/autosomes/chr_all.flip \\\n",
    "        --exclude $procD/${ancestry}/chr_all_flipped_test.missnp \\\n",
    "        --make-bed \\\n",
    "        --out $procD/${ancestry}/autosomes/genotypes_b37_dbsnp138_flipped\n",
    "done\n",
    "\n",
    "for an in $anlist;do\n",
    "    wc -l $procD/$an/autosomes/genotypes_b37_dbsnp138_flipped.bim\n",
    "    wc -l $procD/$an/autosomes/chr_all.flip\n",
    "done\n",
    "\"\"\"\n",
    "2081455 /shared/data/studies/heroin/uhs4/genotype/observed/processing/ea/autosomes/genotypes_b37_dbsnp138_flipped.bim\n",
    "888148 /shared/data/studies/heroin/uhs4/genotype/observed/processing/ea/autosomes/chr_all.flip\n",
    "\"\"\"\n",
    "\n",
    "# Clean up\n",
    "for ancestry in $anlist;do\n",
    "    rm $procD/$ancestry/chr*flipped*\n",
    "    rm $procD/$ancestry/autosomes/chr*flip*\n",
    "done"
   ]
  },
  {
   "cell_type": "markdown",
   "metadata": {},
   "source": [
    "### Genotype call rate variant filter"
   ]
  },
  {
   "cell_type": "code",
   "execution_count": null,
   "metadata": {},
   "outputs": [],
   "source": [
    "#gcr=0.10\n",
    "for ancestry in $anlist; do\n",
    "    echo -e \"\\n\\n================ ${ancestry} ================\\n\\n\"\n",
    "    /shared/bioinformatics/software/third_party/plink-1.90-beta-4.10-x86_64/plink \\\n",
    "        --noweb \\\n",
    "        --memory 5000 \\\n",
    "        --bfile $procD/${ancestry}/autosomes/genotypes_b37_dbsnp138_flipped \\\n",
    "        --geno $gcr \\\n",
    "        --make-bed \\\n",
    "        --out $procD/${ancestry}/autosomes/genotypes_b37_dbsnp138_flipped_variant_missing_lte_${gcr}_filter\n",
    "done\n",
    "\n",
    "\"\"\"\n",
    "wc -l */autosomes/*bim\n",
    "  2084057 ea/autosomes/genotypes_b37_dbsnp138.bim\n",
    "  2081455 ea/autosomes/genotypes_b37_dbsnp138_flipped.bim\n",
    "  1174607 ea/autosomes/genotypes_b37_dbsnp138_flipped_variant_missing_lte_0.10_filter.bim\n",
    "\"\"\""
   ]
  },
  {
   "cell_type": "markdown",
   "metadata": {},
   "source": [
    "### HWE"
   ]
  },
  {
   "cell_type": "code",
   "execution_count": null,
   "metadata": {},
   "outputs": [],
   "source": [
    "# Calculate HW p-values for each ancestry group\n",
    "#hwe=0.0001\n",
    "for ancestry in $anlist; do\n",
    "    echo -e \"\\n\\n================ ${ancestry} ================\\n\\n\"\n",
    "    /shared/bioinformatics/software/third_party/plink-1.90-beta-4.10-x86_64/plink \\\n",
    "        --memory 3800 \\\n",
    "        --noweb \\\n",
    "        --bfile $procD/${ancestry}/autosomes/genotypes_b37_dbsnp138_flipped_variant_missing_lte_${gcr}_filter \\\n",
    "        --hwe $hwe \\\n",
    "        --make-bed \\\n",
    "        --out $procD/${ancestry}/autosomes/genotypes_b37_dbsnp138_flipped_variant_missing_lte_${gcr}_hwe_p_gte_${hwe}_filter\n",
    "done\n",
    "\n",
    "wc -l */autosomes/*bim\n",
    "\"\"\"\n",
    "  2084057 ea/autosomes/genotypes_b37_dbsnp138.bim\n",
    "  2081455 ea/autosomes/genotypes_b37_dbsnp138_flipped.bim\n",
    "  1174607 ea/autosomes/genotypes_b37_dbsnp138_flipped_variant_missing_lte_0.10_filter.bim\n",
    "   916037 ea/autosomes/genotypes_b37_dbsnp138_flipped_variant_missing_lte_0.10_hwe_p_gte_0.0001_filter.bim\n",
    "\"\"\""
   ]
  },
  {
   "cell_type": "markdown",
   "metadata": {},
   "source": [
    "##  STRUCTURE Analysis—Detecting ancestral outliears \n",
    "[STRUCTURE](https://web.stanford.edu/group/pritchardlab/structure.html) is a software tool that can be used to identify admixed individuals, among other uses. By comparing the study subjects with reference panel populations such as HapMap or 1000 Genomes, we can estimate the composition of an individual's ancestry to determine any discrepancies between self-reporting and genetic information. For this study data, we will be comparing the individuals to 3 different superpopulations from the 1000 Genomes Phase 3 reference panel\n",
    "\n",
    "* AFR (African)\n",
    "* EAS (East Asian)\n",
    "* EUR (European)\n",
    "\n",
    "**SNP subset selection**\n",
    "For computational efficiency 10,000 SNPs are randomly chosen from the intersection of SNPs in the study data with the 3 1000 Genomes superpopulations of interest. As of 10/09/2017 the binary filesets per chromosome in PLINK format for 1000G Phase 3 can be found in \n",
    "`/shared/data/ref_panels/1000G/2013.05/plink`. According to the [1000 Genomes paper](https://www.ncbi.nlm.nih.gov/pmc/articles/PMC4750478/).\n",
    "\n",
    "**NOTE:** The location `/shared/data/ref_panels/1000G/2014.10/1000GP_Phase3` also contatins 1000G phase 3 data derived from the May 2013 release. The difference is that it was downloaded from the [IMPUTE2 website](https://mathgen.stats.ox.ac.uk/impute/1000GP_Phase3.html) and reformatted to be directly compatible with IMPUTE2."
   ]
  },
  {
   "cell_type": "code",
   "execution_count": null,
   "metadata": {},
   "outputs": [],
   "source": [
    "## EC2 console ##\n",
    "mkdir $procD/structure\n",
    "\n",
    "# Get lists of non-A/T and non-C/G SNPs\n",
    "for ancestry in $anlist; do\n",
    "    perl -lane 'if (($F[4] eq \"A\" && $F[5] ne \"T\") || ($F[4] eq \"T\" && $F[5] ne \"A\") || ($F[4] eq \"C\" && $F[5] ne \"G\") || ($F[4] eq \"G\" && $F[5] ne \"C\")) { print $F[1]; }' \\\n",
    "        $procD/${ancestry}/autosomes/genotypes_b37_dbsnp138_flipped_variant_missing_lte_${gcr}_hwe_p_gte_${hwe}_filter.bim | \\\n",
    "    sort -u | \\\n",
    "    grep \"rs\" \\\n",
    "    > $procD/structure/${ancestry}_no_at_cg_snps.txt\n",
    "done\n",
    "\n",
    "## Get rsID overlap between study data ancestry groups\n",
    "#comm -12 <(comm -12 structure/aa_no_at_cg_snps.txt structure/ea_no_at_cg_snps.txt) structure/ha_no_at_cg_snps.txt | \\\n",
    "#sort > structure/aa_ea_ha_shared_snps.txt\n",
    "#\n",
    "#wc -l structure/aa_ea_ha_shared_snps.txt\n",
    "#\"\"\"476061 structure/aa_ea_ha_shared_snps.txt\"\"\"\n",
    "#\n",
    "wc -l $procD/structure/ea_no_at_cg_snps.txt\n",
    "\"\"\"\n",
    "884469 /shared/data/studies/heroin/uhs4/genotype/observed/processing/002/structure/ea_no_at_cg_snps.txt\n",
    "\"\"\"\n",
    "\n",
    "\n",
    "# Get list of variants from 1000G\n",
    "mkdir $procD/structure/1000g_data\n",
    "/shared/bioinformatics/software/scripts/qsub_job.sh \\\n",
    "    --job_name merge_1000g_snps \\\n",
    "    --script_prefix $procD/structure/1000g_data/merge_1000g_snps \\\n",
    "    --mem 3 \\\n",
    "    --priority 0 \\\n",
    "    --program \"cut -f2,2 /shared/data/ref_panels/1000G/2013.05/plink/ALL.chr{1..22}.bim | \\\n",
    "        grep \\\"rs\\\" | \\\n",
    "        sort -u > $procD/structure/1000g_data/1000g_phase3_snps.txt\"\n",
    "\n",
    "# This should always be 79,873,045\n",
    "wc -l $procD/structure/1000g_data/1000g_phase3_snps.txt\n",
    "\"\"\"\n",
    "79873045 structure/1000g_data/1000g_phase3_snps.txt\n",
    "\"\"\"\n",
    "\n",
    "# Get SNP overlap between study data and 1000G\n",
    "comm -12 $procD/structure/${ancestry}_no_at_cg_snps.txt $procD/structure/1000g_data/1000g_phase3_snps.txt >\\\n",
    "    $procD/structure/${study}_1000g_shared_snps.txt\n",
    "\n",
    "wc -l $procD/structure/${study}_1000g_shared_snps.txt \n",
    "\"\"\"\n",
    "818812 /shared/data/studies/heroin/uhs4/genotype/observed/processing/002/structure/uhs4_1000g_shared_snps.txt\n",
    "\"\"\"\n",
    "\n",
    "# Select 10,000 random SNPs from study and 1000G overlap\n",
    "perl -ne 'print rand().\"\\t\".$_' $procD/structure/${study}_1000g_shared_snps.txt | \\\n",
    "    sort -k1,1 | \\\n",
    "    head -10000 | \\\n",
    "    cut -f2,2 \\\n",
    "    > $procD/structure/10k_snp_random_sample.txt"
   ]
  },
  {
   "cell_type": "markdown",
   "metadata": {},
   "source": [
    "### Extract SNP subset PLINK binary filesets for Study data"
   ]
  },
  {
   "cell_type": "code",
   "execution_count": null,
   "metadata": {},
   "outputs": [],
   "source": [
    "## EC2 console ##\n",
    "\n",
    "# Create ped and map files for study genotype data for SNP subset\n",
    "for ancestry in $anlist; do\n",
    "    /shared/bioinformatics/software/third_party/plink-1.90-beta-4.10-x86_64/plink \\\n",
    "        --noweb \\\n",
    "        --bfile $procD/${ancestry}/autosomes/genotypes_b37_dbsnp138_flipped \\\n",
    "        --extract $procD/structure/10k_snp_random_sample.txt \\\n",
    "        --snps-only just-acgt \\\n",
    "        --recode \\\n",
    "        --out $procD/structure/${ancestry}_10k_snp_random_sample\n",
    "done"
   ]
  },
  {
   "cell_type": "markdown",
   "metadata": {},
   "source": [
    "### Extract SNP subset PLINK binary filesets for 1000G data\n",
    "\n",
    "The 05/2013 release of the 1000 Genomes data have been previously processed and converted to PLINK binary fileset format, but the files include all the 1000G individuals. We are interested in only four superpopulations, so we create filesets specifically for each of these groups. It was brought to my attention that 1000G Phase 3 rsIDs may be duplicated across chromosomes potentially causing chromosome merging issues. For that reason, it is typically recommended to process the chromosomes separately initially, then combine post SNP subsetting. Subject IDs with superpopulation classifications are available at:\n",
    "\n",
    "`/shared/data/ref_panels/1000G/igsr_samples.tsv`"
   ]
  },
  {
   "cell_type": "code",
   "execution_count": null,
   "metadata": {},
   "outputs": [],
   "source": [
    "## EC2 console ##\n",
    "\n",
    "# Ancestry specific directories\n",
    "for pop in {AFR,EAS,EUR}; do\n",
    "    mkdir $procD/structure/1000g_data/${pop}\n",
    "done\n",
    "\n",
    "# Get subject IDs by ancestry\n",
    "awk 'BEGIN { FS=\"\\t\"; OFS=\"\\t\" } { if($7==\"African\"){print $1,$1} }' /shared/data/ref_panels/1000G/2013.05/igsr_samples.tsv \\\n",
    "    > $procD/structure/1000g_data/AFR/AFR_subject_ids.txt\n",
    "awk 'BEGIN { FS=\"\\t\"; OFS=\"\\t\" } { if($7==\"East Asian\"){print $1,$1} }' /shared/data/ref_panels/1000G/2013.05/igsr_samples.tsv \\\n",
    "    > $procD/structure/1000g_data/EAS/EAS_subject_ids.txt\n",
    "awk 'BEGIN { FS=\"\\t\"; OFS=\"\\t\" } { if($7==\"European\"){print $1,$1} }' /shared/data/ref_panels/1000G/2013.05/igsr_samples.tsv \\\n",
    "    > $procD/structure/1000g_data/EUR/EUR_subject_ids.txt\n",
    "\n",
    "# Make new binary filesets for each 1000G group\n",
    "# only keeping the data from individuals which are from 1 of the three super populations\n",
    "for pop in {AFR,EAS,EUR}; do\n",
    "    for chr in {1..22}; do\n",
    "        /shared/bioinformatics/software/scripts/qsub_job.sh \\\n",
    "            --job_name ${pop}_${chr}_filter \\\n",
    "            --script_prefix $procD/structure/1000g_data/${pop}/ancestry_partition_chr${chr} \\\n",
    "            --mem 15.5 \\\n",
    "            --priority 0 \\\n",
    "            --program /shared/bioinformatics/software/third_party/plink-1.90-beta-4.10-x86_64/plink  \\\n",
    "                --noweb \\\n",
    "                --memory 10000 \\\n",
    "                --bfile /shared/data/ref_panels/1000G/2013.05/plink/ALL.chr${chr} \\\n",
    "                --keep $procD/structure/1000g_data/${pop}/${pop}_subject_ids.txt \\\n",
    "                --extract $procD/structure/10k_snp_random_sample.txt \\\n",
    "                --make-bed \\\n",
    "                --out $procD/structure/1000g_data/${pop}/${pop}_chr${chr}_10k_snp_random_sample\n",
    "    done\n",
    "done\n",
    "\n",
    "\n",
    "# Create merge lists and merge autosomes for each 1000G population\n",
    "data_dir=$procD/structure/1000g_data\n",
    "for pop in {AFR,EAS,EUR}; do\n",
    "    echo \"${data_dir}/${pop}/${pop}_chr1_10k_snp_random_sample\" > ${data_dir}/${pop}/${pop}_autosome_merge_list.txt\n",
    "    for chr in {2..22}; do\n",
    "        echo \"${data_dir}/${pop}/${pop}_chr${chr}_10k_snp_random_sample\" \\\n",
    "        >> ${data_dir}/${pop}/${pop}_autosome_merge_list.txt\n",
    "    done\n",
    "done\n",
    "\n",
    "for pop in {AFR,EAS,EUR}; do\n",
    "    /shared/bioinformatics/software/scripts/qsub_job.sh \\\n",
    "        --job_name ${pop}_merge_plink_filesets \\\n",
    "        --script_prefix $procD/structure/1000g_data/${pop}/merge_plink_filesets \\\n",
    "        --mem 4 \\\n",
    "        --priority 0 \\\n",
    "        --program /shared/bioinformatics/software/third_party/plink-1.90-beta-4.10-x86_64/plink \\\n",
    "            --noweb \\\n",
    "            --memory 4000 \\\n",
    "            --merge-list $procD/structure/1000g_data/${pop}/${pop}_autosome_merge_list.txt \\\n",
    "            --snps-only just-acgt \\\n",
    "            --make-bed \\\n",
    "            --out $procD/structure/1000g_data/${pop}/${pop}_all_autosomes_10k_snp_random_sample\n",
    "done"
   ]
  },
  {
   "cell_type": "markdown",
   "metadata": {},
   "source": [
    "### Discrepancy assessment between Study and 1000G data\n",
    "As a quality check that the SNP data subsampled from the Kreek and 1000 Genomes data are the same, I will attempt to merge an arbitrarily selected group from each data set using PLINK. If any errors are found, PLINK will generate an error file. Likely causes of errors would be:\n",
    "\n",
    "* SNP genomic coordinates not matching\n",
    "* SNP duplicates found\n",
    "* SNP strand orientation flipped\n",
    "\n",
    "If errors are found the two options for moving forward are\n",
    "\n",
    "1. Re-run the 10,000 SNP subsampling and hope the SNPs chosen do not raise issues\n",
    "2. Remove the problematic SNPs\n",
    "Option #2 is the prefered approach and the one I will be taking."
   ]
  },
  {
   "cell_type": "code",
   "execution_count": null,
   "metadata": {},
   "outputs": [],
   "source": [
    "## EC2 console ##\n",
    "\n",
    "ancestry=\"ea\"\n",
    "# Merge EA and EUR genotype files\n",
    "# --merge-mode 7 (no merge) Report mismatching nonmissing calls.\n",
    "/shared/bioinformatics/software/third_party/plink-1.90-beta-4.10-x86_64/plink \\\n",
    "    --noweb \\\n",
    "    --file $procD/structure/${ancestry}_10k_snp_random_sample \\\n",
    "    --bmerge $procD/structure/1000g_data/EUR/EUR_all_autosomes_10k_snp_random_sample \\\n",
    "    --merge-mode 7 \\\n",
    "    --out $procD/structure/1000g_EUR_${study}_${ancestry}_10k_snp_random_sample\n",
    "\n",
    "\n",
    "# 1 is for the header\n",
    "    wc -l $procD/structure/*diff\n",
    "\"\"\"\n",
    "1 /shared/data/studies/heroin/uhs4/genotype/observed/processing/002/structure/1000g_EUR_uhs4_ea_10k_snp_random_sample.diff\n",
    "\"\"\""
   ]
  },
  {
   "cell_type": "markdown",
   "metadata": {},
   "source": [
    "### STRUCTURE input file construction\n",
    "Because our initial merge was successful, I proceed without applying a blacklist filtering."
   ]
  },
  {
   "cell_type": "code",
   "execution_count": null,
   "metadata": {},
   "outputs": [],
   "source": [
    "## EC2 console ##\n",
    "\n",
    "# Create final ped and map files for Kreek genotype data for SNP subset\n",
    "for ancestry in $anlist; do\n",
    "    /shared/bioinformatics/software/third_party/plink-1.90-beta-4.10-x86_64/plink \\\n",
    "        --noweb \\\n",
    "        --memory 3000 \\\n",
    "        --bfile $procD/${ancestry}/autosomes/genotypes_b37_dbsnp138_flipped \\\n",
    "        --extract $procD/structure/10k_snp_random_sample.txt \\\n",
    "        --snps-only just-acgt \\\n",
    "        --recode \\\n",
    "        --out $procD/structure/${ancestry}_10k_snp_random_sample.final\n",
    "done\n",
    "\n",
    "# Create ped and map files for each 1000G population\n",
    "for pop in {AFR,EAS,EUR}; do\n",
    "    /shared/bioinformatics/software/third_party/plink-1.90-beta-4.10-x86_64/plink \\\n",
    "        --noweb \\\n",
    "        --memory 1024 \\\n",
    "        --bfile $procD/structure/1000g_data/${pop}/${pop}_all_autosomes_10k_snp_random_sample \\\n",
    "        --recode \\\n",
    "        --out $procD/structure/1000g_data/${pop}_10k_snp_random_sample.final\n",
    "done\n",
    "\n",
    "\n",
    "# Final check for SNP discrepancies\n",
    "/shared/bioinformatics/software/third_party/plink-1.90-beta-4.10-x86_64/plink \\\n",
    "    --noweb \\\n",
    "    --file $procD/structure/ea_10k_snp_random_sample.final \\\n",
    "    --merge $procD/structure/1000g_data/EUR_10k_snp_random_sample.final \\\n",
    "    --recode \\\n",
    "    --out $procD/structure_input_test2\n",
    "\n",
    "\n",
    "wc -l  $procD/structure_input_test*.map\n",
    "\"\"\"\n",
    " 10000 structure_input_test2.map\n",
    "\"\"\""
   ]
  },
  {
   "cell_type": "markdown",
   "metadata": {},
   "source": [
    "No merging issues were identified in the final check, so I will use the script ped2structure.pl to convert the PED file into a STRUCTURE input file format. This script takes two inputs. The first is an integer that serves as an ID to distinguish between a reference panel population or a study data set group. The second input is an integer that is unique to each group/population regardless of whether it's from the study or 1000G data.\n",
    "\n",
    "The goal of the conversion script is to generate a single STRUCTURE input file containing genotype information for the ~10,000 (post-filtered) subsampled SNPs and the individuals from the study and 1000G data sets. Documentation on the format can be found [here](https://web.stanford.edu/group/pritchardlab/structure_software/release_versions/v2.3.4/structure_doc.pdf). The first three columns contatin the following information respectively\n",
    "\n",
    "1. Subject identifier\n",
    "2. Group/population identifier. Distinct for each ancestry group or superpopulation\n",
    "3. Boolean indicator (1=True, 0=False) specifying reference panel populations. This is used by STRUCTURE to define the ancestry groups\n",
    "\n",
    "We will be running structure assuming that the study subjects descended from three populations. The traditional approach would be to use AFR, EAS, and EUR. I will run STRUCTURE using these 1000G superpopulations.\n",
    "\n",
    "Note: for $K$ reference panel populations used for ancestry comparisons, the reference panel populations must be given group IDs between 1 and $K$."
   ]
  },
  {
   "cell_type": "code",
   "execution_count": null,
   "metadata": {},
   "outputs": [],
   "source": [
    "## EC2 console ##\n",
    "mkdir $procD/structure/input_files\n",
    "\n",
    "groupID=1 #distinguish between all groups\n",
    "\n",
    "# Append 1000G populations to STRUCTURE file\n",
    "truncate -s 0 $procD/structure/input_files/input_afr_eas_eur\n",
    "for pop in {AFR,EAS,EUR}; do\n",
    "    cat $procD/structure/1000g_data/${pop}_10k_snp_random_sample.final.ped | \\\n",
    "    /shared/bioinformatics/software/perl/file_conversion/ped2structure.pl 1 ${groupID} \\\n",
    "    >> $procD/structure/input_files/input_afr_eas_eur\n",
    "    groupID=`echo ${groupID} + 1 | bc`\n",
    "done\n",
    "\n",
    "# Append remaining ancestry groups to STRUCTURE file\n",
    "for ancestry in $anlist; do\n",
    "    cat $procD/structure/${ancestry}_10k_snp_random_sample.final.ped | \\\n",
    "    /shared/bioinformatics/software/perl/file_conversion/ped2structure.pl 0 ${groupID} \\\n",
    "    >> $procD/structure/input_files/input_afr_eas_eur\n",
    "    groupID=`echo ${groupID} + 1 | bc` \n",
    "done"
   ]
  },
  {
   "cell_type": "markdown",
   "metadata": {},
   "source": [
    "### Run STRUCUTRE\n",
    "For running STRUCTURE, the following command line parameters are explicitly specified\n",
    "\n",
    "* m - Main parameter file\n",
    "* e - Additional parameter file\n",
    "* i - Input data file\n",
    "* o - Output file\n",
    "* L - Number of loci in data file\n",
    "* N - Number of subjects\n",
    "* K - Maximum number of populations\n",
    "\n",
    "The remaining parameters are specified in the mainparams and extraparams files. Any values specified on the command-line override the values in the configuration files. Documentation on the parameter options can be found [here](https://web.stanford.edu/group/pritchardlab/structure_software/release_versions/v2.3.4/structure_doc.pdf).\n",
    "\n",
    "Because I am using combinations of three from the four 1000G superpopulations, I will run STRUCTURE for each of these combinations."
   ]
  },
  {
   "cell_type": "code",
   "execution_count": null,
   "metadata": {},
   "outputs": [],
   "source": [
    "## EC2 console ##\n",
    "\n",
    "mkdir $procD/structure/output_files\n",
    "ancestry=ea\n",
    "\n",
    "# Run Structure using AFR, EAS, and EUR\n",
    "# Why add the random number generator flag?\n",
    "L=$(wc -l $procD/structure/${ancestry}_10k_snp_random_sample.final.map | perl -lane 'print $F[0];')\n",
    "N=$(wc -l $procD/structure/input_files/input_afr_eas_eur | perl -lane 'print $F[0]/2;')\n",
    "sh /shared/bioinformatics/software/scripts/qsub_job.sh \\\n",
    "    --job_name structure_afr_eas_eur \\\n",
    "    --script_prefix $procD/structure/output_files/structure_afr_eas_eur \\\n",
    "    --mem 15 \\\n",
    "    --nslots 4 \\\n",
    "    --priority 0 \\\n",
    "    --program /shared/bioinformatics/software/third_party/structure_v2.3.4/console/structure \\\n",
    "         -m /shared/bioinformatics/software/third_party/structure_v2.3.4/console/mainparams \\\n",
    "         -e /shared/bioinformatics/software/third_party/structure_v2.3.4/console/extraparams \\\n",
    "         -i $procD/structure/input_files/input_afr_eas_eur \\\n",
    "         -o $procD/structure/output_files/output_afr_eas_eur \\\n",
    "         -L $L \\\n",
    "         -N $N \\\n",
    "         -K 3 \\\n",
    "         -D 1523031945"
   ]
  },
  {
   "cell_type": "markdown",
   "metadata": {},
   "source": [
    "### Producing triangle plots\n",
    "[Triangle or ternary plots](https://en.wikipedia.org/wiki/Ternary_plot) provide a means to visualize membership strength. For the purposes of the Kreek data, the triangle plots are used to determine how similar self-reports of individuals from a Kreek ancestry group are to three disparate reference populations. The visualizations allow for the identification of potential outliers that would be removed from downstream processing and analysis.\n",
    "\n",
    "**Note**: The command line Perl script below assumes a specific order of the STRUCTURE output data in regards to the group IDs. Modifications should be made as necessary to ensure that the labels match with the ID. Additionally, `triangle_plot.R` does not check that the cluster specifications match the given 1000G superpopulation labels. Be sure to assign the right label to the right group ID from previous processing steps."
   ]
  },
  {
   "cell_type": "code",
   "execution_count": null,
   "metadata": {},
   "outputs": [],
   "source": [
    "## EC2 console ##\n",
    "mkdir $procD/structure/triangle_plots\n",
    "\n",
    "#### AFR, EAS, and EUR ####\n",
    "\n",
    "# Prepare results for triangle plot\n",
    "# note to change @datasets to reflect current study\n",
    "perl -ne 'if (/%Miss/) {\n",
    "              $in=1;\n",
    "              print \"num\\tID\\tpop\\tcluster1\\tcluster2\\tcluster3\\n\";\n",
    "          }\n",
    "          if ($in==1 && !/Label/ && !/^\\s+$/) {\n",
    "              @datasets=(\"AFR\",\"EAS\",\"EUR\", \"UHS4\");\n",
    "              s/^\\s+//g;\n",
    "              @F=split /\\s+/;\n",
    "              # Grab only study groups by ID\n",
    "              if ($F[3] > 3) {\n",
    "                  print $F[0].\"\\t\".$F[1].\"\\t\".$datasets[$F[3]-1].\"\\t\".$F[5].\"\\t\".$F[6].\"\\t\".$F[7].\"\\n\";\n",
    "              }\n",
    "          } \n",
    "          s/\\s+//g;\n",
    "          if ($_ eq \"\") { $in=0; }' $procD/structure/output_files/output_afr_eas_eur_f > \\\n",
    "    $procD/structure/triangle_plots/afr_eas_eur.triangle_input\n",
    "\n",
    "# Prepare id xref file\n",
    "perl -ne 'if ($count==0) { print \"num\\tID\\n\"; }\n",
    "          if (!defined $even) { print STDERR \"LALALA\\n\";} \n",
    "          if ($even==0) {/^(\\S+)/; print $count+1; print \"\\t\".$1.\"\\n\"; $count++; $even=1}\n",
    "          else {$even=0}' $procD/structure/input_files/input_afr_eas_eur > \\\n",
    "    $procD/structure/triangle_plots/afr_eas_eur_id_xref\n",
    "\n",
    "# Generate triangle plot\n",
    "Rscript /shared/bioinformatics/software/R/triangle_plot.R \\\n",
    "    --data $procD/structure/triangle_plots/afr_eas_eur.triangle_input \\\n",
    "    --prefix $procD/structure/triangle_plots/afr_eas_eur \\\n",
    "    --cluster1 African \\\n",
    "    --cluster2 Asian \\\n",
    "    --cluster3 European \\\n",
    "    --xref $procD/structure/triangle_plots/afr_eas_eur_id_xref"
   ]
  },
  {
   "cell_type": "code",
   "execution_count": 4,
   "metadata": {},
   "outputs": [
    {
     "data": {
      "image/png": "[encoded data removed]"
     },
     "metadata": {
      "height": 800,
      "width": 800
     },
     "output_type": "display_data"
    }
   ],
   "source": [
    "## R console ##\n",
    "library(\"IRdisplay\")\n",
    "display_png(file=\"C:/Users/jmarks/Desktop/Projects/heroin/ngc/uhs4/qc/002/afr_eas_eur_UHS4.jpg\", width=800, height=800)"
   ]
  },
  {
   "cell_type": "markdown",
   "metadata": {},
   "source": [
    "#### Reassigning and removing outliers\n",
    "The following retainment thresholds should be implemented:\n",
    "\n",
    "\n",
    "| Action Description | Thresholding Criteria      |\n",
    "|--------------------|----------------------------|\n",
    "| For EA retainment | (AFR < 25%)$ \\wedge $(EAS < 25%) |\n",
    "| For AA retainment | (AFR > 25%)$ \\wedge $(EAS < 25%) |\n",
    "| For HA retainment | (AFR < 25%)$ \\wedge $(EAS > 25%) |\n",
    "\n",
    "\n",
    "**Note:** there are no self-report data at this time. There will be once the phenotype file has been constructed."
   ]
  },
  {
   "cell_type": "markdown",
   "metadata": {},
   "source": [
    "Subject counts after applying the filters above.\n",
    "```\n",
    "wc -l *filtered\n",
    " wc -l *red\n",
    "  793 aa_filtered\n",
    "  715 ea_filtered\n",
    "    8 ha_filtered\n",
    " 1516 total\n",
    "```"
   ]
  },
  {
   "cell_type": "code",
   "execution_count": null,
   "metadata": {},
   "outputs": [],
   "source": [
    "## EC2 command line\n",
    "### get details on which subjects are reassigned ###\n",
    "\n",
    "plots=$procD/structure/triangle_plots/no_self\n",
    "mkdir $plots\n",
    "\n",
    "cp $procD/structure/triangle_plots/afr_eas_eur.triangle_input $plots/\n",
    "\n",
    "# AA retained\n",
    "#--------------------------------------------------------------------------------\n",
    "# Create triangle plot input with potential outliers filtered\n",
    "eth=AA\n",
    "\n",
    "head -1 $procD/structure/triangle_plots/afr_eas_eur.triangle_input > \\\n",
    "    $plots/afr_eas_eur_filtered.triangle_input\n",
    "\n",
    "tail -n +2 $plots/afr_eas_eur.triangle_input | \\\n",
    "    perl -lane 'if (($F[3] > 0.25 && $F[4] < 0.25)) { print $_ }' \\\n",
    "    > $plots/aa_filtered\n",
    "\n",
    "# study=uhs4, for example\n",
    "awk -v study=\"$study\" -v eth=\"$eth\" 'BEGIN{OFS=\"\\t\"} {$3=study \"_\" eth;print $0}' $plots/aa_filtered >> $plots/afr_eas_eur_filtered.triangle_input\n",
    "\n",
    "\n",
    "# EA retained\n",
    "#--------------------------------------------------------------------------------\n",
    "# Create triangle plot input with potential outliers filtered\n",
    "eth=EA\n",
    "\n",
    "tail -n +2 $plots/afr_eas_eur.triangle_input |\\\n",
    "    perl -lane 'if (($F[3] < 0.25 && $F[4] < 0.25)) { print $_; }' \\\n",
    "    > $plots/ea_filtered\n",
    "awk -v study=\"$study\" -v eth=\"$eth\" 'BEGIN{OFS=\"\\t\"} {$3=study \"_\" eth;print $0}' $plots/ea_filtered >> $plots/afr_eas_eur_filtered.triangle_input\n",
    "#--------------------------------------------------------------------------------\n",
    "\n",
    "# HA retained\n",
    "#--------------------------------------------------------------------------------\n",
    "# Create triangle plot input with potential outliers filtered\n",
    "eth=HA\n",
    "\n",
    "tail -n +2 $plots/afr_eas_eur.triangle_input |\\\n",
    "    perl -lane 'if (($F[3] < 0.25 && $F[4] > 0.25)) { print $_; }' \\\n",
    "    > $plots/ha_filtered\n",
    "awk -v study=\"$study\" -v eth=\"$eth\" 'BEGIN{OFS=\"\\t\"} {$3=study \"_\" eth;print $0}' $plots/ha_filtered >> $plots/afr_eas_eur_filtered.triangle_input\n",
    "--------------------------------------------------------------------------------\n",
    "\n",
    "\n",
    "# Generate triangle plot\n",
    "Rscript /shared/bioinformatics/software/R/triangle_plot.R \\\n",
    "    --data $plots/afr_eas_eur_filtered.triangle_input \\\n",
    "    --prefix $plots/afr_eas_eur_filtered \\\n",
    "    --cluster1 African \\\n",
    "    --cluster2 Asian \\\n",
    "    --cluster3 European \\\n",
    "    --xref $procD/structure/triangle_plots/afr_eas_eur_id_xref"
   ]
  },
  {
   "cell_type": "markdown",
   "metadata": {},
   "source": [
    "#### Filtered results"
   ]
  },
  {
   "cell_type": "code",
   "execution_count": 5,
   "metadata": {},
   "outputs": [
    {
     "data": {
      "image/png": "[encoded data removed]"
     },
     "metadata": {
      "height": 800,
      "width": 800
     },
     "output_type": "display_data"
    },
    {
     "data": {
      "image/png": "[encoded data removed]"
     },
     "metadata": {
      "height": 800,
      "width": 800
     },
     "output_type": "display_data"
    },
    {
     "data": {
      "image/png": "[encoded data removed]"
     },
     "metadata": {
      "height": 800,
      "width": 800
     },
     "output_type": "display_data"
    }
   ],
   "source": [
    "## R console ##\n",
    "library(\"IRdisplay\")\n",
    "display_png(file=\"C:/Users/jmarks/Desktop/Projects/heroin/ngc/uhs4/qc/002/afr_eas_eur_filtered_uhs4_EA.jpg\", width=800, height=800)\n",
    "display_png(file=\"C:/Users/jmarks/Desktop/Projects/heroin/ngc/uhs4/qc/002/afr_eas_eur_filtered_uhs4_AA.jpg\", width=800, height=800)\n",
    "display_png(file=\"C:/Users/jmarks/Desktop/Projects/heroin/ngc/uhs4/qc/002/afr_eas_eur_filtered_uhs4_HA.jpg\", width=800, height=800)"
   ]
  },
  {
   "cell_type": "markdown",
   "metadata": {},
   "source": [
    "Because there are only 8 HA subjects left after applying the ancestral thresholds for filtering, we will proceed with only the EAs and AAs. "
   ]
  },
  {
   "cell_type": "markdown",
   "metadata": {},
   "source": [
    "## Post-Structure\n",
    "### Create updated PLINK filesets"
   ]
  },
  {
   "cell_type": "code",
   "execution_count": null,
   "metadata": {},
   "outputs": [],
   "source": [
    "## EC2 command line\n",
    "procD=/shared/data/studies/heroin/uhs4/genotype/observed/processing/002\n",
    "#plots=$procD/structure/triangle_plots/no_self\n",
    "\n",
    "anlist=\"ea aa\"\n",
    "\n",
    "\n",
    "# clean up previous processing \n",
    "rm -rf $procD/{aa,ea,ha}/{autosomes,chrX}\n",
    "rm $procD/{aa,ea,ha}/chr*flipped*\n",
    "\n",
    "# create directory structure\n",
    "for ancestry in $anlist;do\n",
    "    mkdir -p $procD/$ancestry/{autosomes,chrX}\n",
    "done\n",
    "\n",
    "# get ancestry counts after filtering + create a keepIDs list\n",
    "for an in $anlist;do\n",
    "    awk -v an=\"${an^^}\" -v study=\"$study\" '$3==study\"_\"an {print $2}' \\\n",
    "        $plots/afr_eas_eur_filtered_for_filtering.txt > $procD/$an/subject_ids.keep\n",
    "    wc -l $procD/$an/subject_ids.keep\n",
    "done\n",
    "\"\"\"\n",
    "715 /shared/data/studies/heroin/uhs4/genotype/observed/processing/002/ea/subject_ids.keep\n",
    "793 /shared/data/studies/heroin/uhs4/genotype/observed/processing/002/aa/subject_ids.keep\n",
    "\"\"\"\n",
    "\n",
    "# split famID_IID up by tab --> famID\"\\t\"IID\n",
    "for an in $anlist;do\n",
    "    while read line;do\n",
    "        half=$(expr ${#line} / 2)\n",
    "        echo ${line:0:$half} ${line:0:$half}\n",
    "    done < $procD/$an/subject_ids.keep > $procD/$an/subject_ids.keep.txt\n",
    "done\n",
    "\n",
    "for ancestry in $anlist; do\n",
    "    echo -e \"\\n\\n======== ${ancestry} ========\\n\\n\"\n",
    "    /shared/bioinformatics/software/third_party/plink-1.90-beta-4.10-x86_64/plink \\\n",
    "        --noweb \\\n",
    "        --memory 5000 \\\n",
    "        --bfile $procD/genotypes_b37_dbsnp138 \\\n",
    "        --keep $procD/${ancestry}/subject_ids.keep.txt \\\n",
    "        --make-bed \\\n",
    "        --out $procD/${ancestry}/genotypes_b37_dbsnp138\n",
    "done\n",
    "\n",
    "wc -l $procD/{aa,ea}/*{bim,fam}\n",
    "\"\"\"\n",
    "  2130946 /shared/data/studies/heroin/uhs4/genotype/observed/processing/002/aa/genotypes_b37_dbsnp138.bim\n",
    "      793 /shared/data/studies/heroin/uhs4/genotype/observed/processing/002/aa/genotypes_b37_dbsnp138.fam\n",
    "  2130946 /shared/data/studies/heroin/uhs4/genotype/observed/processing/002/ea/genotypes_b37_dbsnp138.bim\n",
    "      715 /shared/data/studies/heroin/uhs4/genotype/observed/processing/002/ea/genotypes_b37_dbsnp138.fam\n",
    "\"\"\""
   ]
  },
  {
   "cell_type": "code",
   "execution_count": null,
   "metadata": {},
   "outputs": [],
   "source": [
    "## EC2 command line\n",
    "\n",
    "# Create autosome and chrX file sets\n",
    "for ancestry in $anlist; do\n",
    "    echo -e \"\\n\\n======== ${ancestry} ========\\n\\n\"\n",
    "    mkdir $procD/${ancestry}/{chrX,autosomes}\n",
    "\n",
    "    # Autosomes\n",
    "    /shared/bioinformatics/software/third_party/plink-1.90-beta-4.10-x86_64/plink \\\n",
    "        --noweb \\\n",
    "        --memory 5000 \\\n",
    "        --bfile $procD/${ancestry}/genotypes_b37_dbsnp138 \\\n",
    "        --autosome \\\n",
    "        --make-bed \\\n",
    "        --out $procD/${ancestry}/autosomes/genotypes_b37_dbsnp138\n",
    "\n",
    "    # ChrX (include split PARs)\n",
    "    /shared/bioinformatics/software/third_party/plink-1.90-beta-4.10-x86_64/plink \\\n",
    "        --noweb \\\n",
    "        --memory 5000 \\\n",
    "        --bfile $procD/${ancestry}/genotypes_b37_dbsnp138 \\\n",
    "        --chr 23,25 \\\n",
    "        --make-bed \\\n",
    "        --out $procD/${ancestry}/chrX/genotypes_b37_dbsnp138_unmerged\n",
    "\n",
    "    # Combine split chrX and PARs\n",
    "    /shared/bioinformatics/software/third_party/plink-1.90-beta-4.10-x86_64/plink \\\n",
    "        --noweb \\\n",
    "        --memory 5000 \\\n",
    "        --bfile $procD/${ancestry}/chrX/genotypes_b37_dbsnp138_unmerged \\\n",
    "        --merge-x \\\n",
    "        --make-bed \\\n",
    "        --out $procD/${ancestry}/chrX/genotypes_b37_dbsnp138\n",
    "done\n",
    "\n",
    "## get counts\n",
    " wc -l {ea,aa}/{chrX,autosomes}/*38.bim\n",
    "\"\"\"\n",
    "    45301 ea/chrX/genotypes_b37_dbsnp138.bim\n",
    "  2084057 ea/autosomes/genotypes_b37_dbsnp138.bim\n",
    "    45301 aa/chrX/genotypes_b37_dbsnp138.bim\n",
    "  2084057 aa/autosomes/genotypes_b37_dbsnp138.bim\n",
    "\"\"\""
   ]
  },
  {
   "cell_type": "code",
   "execution_count": null,
   "metadata": {},
   "outputs": [],
   "source": [
    "# EC2 command line\n",
    "\n",
    "# Get flip lists\n",
    "\n",
    "# Extract unflipped variants\n",
    "for ancestry in $anlist; do\n",
    "    for chr in {1..22}; do\n",
    "        /shared/bioinformatics/software/scripts/qsub_job.sh \\\n",
    "            --job_name ${ancestry}_${chr} \\\n",
    "            --script_prefix $procD/${ancestry}/autosomes/chr${chr}_flip_tests \\\n",
    "            --mem 6 \\\n",
    "            --priority 0 \\\n",
    "            --program  /shared/bioinformatics/software/third_party/plink-1.90-beta-4.10-x86_64/plink \\\n",
    "                --noweb \\\n",
    "                --memory 6000 \\\n",
    "                --bfile $procD/${ancestry}/autosomes/genotypes_b37_dbsnp138 \\\n",
    "                --chr ${chr} \\\n",
    "                --make-bed \\\n",
    "                --out $procD/${ancestry}/chr${chr}_unflipped\n",
    "    done\n",
    "done\n",
    "\n",
    "\n",
    "# Attempt merge with 1000G data\n",
    "for ancestry in $anlist; do\n",
    "    for chr in {1..22}; do\n",
    "        /shared/bioinformatics/software/scripts/qsub_job.sh \\\n",
    "            --job_name ${ancestry}_${chr} \\\n",
    "            --script_prefix $procD/${ancestry}/autosomes/chr${chr}_flip_tests \\\n",
    "            --mem 6 \\\n",
    "            --priority 0 \\\n",
    "            --program  /shared/bioinformatics/software/third_party/plink-1.90-beta-4.10-x86_64/plink \\\n",
    "                --noweb \\\n",
    "                --memory 6000 \\\n",
    "                --bfile $procD/${ancestry}/chr${chr}_unflipped \\\n",
    "                --bmerge /shared/data/ref_panels/1000G/2013.05/plink/ALL.chr${chr} \\\n",
    "                --merge-mode 7 \\\n",
    "                --out $procD/${ancestry}/chr${chr}_unflipped_test\n",
    "    done\n",
    "done\n",
    "\n",
    "# Flip problematic variants\n",
    "for ancestry in $anlist; do\n",
    "    for chr in {1..22}; do\n",
    "        /shared/bioinformatics/software/scripts/qsub_job.sh \\\n",
    "            --job_name ${ancestry}_${chr} \\\n",
    "            --script_prefix $procD/${ancestry}/autosomes/chr${chr}_flip_tests \\\n",
    "            --mem 6 \\\n",
    "            --priority 0 \\\n",
    "            --program  /shared/bioinformatics/software/third_party/plink-1.90-beta-4.10-x86_64/plink \\\n",
    "                --noweb \\\n",
    "                --memory 6000 \\\n",
    "                --bfile $procD/${ancestry}/autosomes/genotypes_b37_dbsnp138 \\\n",
    "                --chr ${chr} \\\n",
    "                --flip $procD/${ancestry}/chr${chr}_unflipped_test.missnp \\\n",
    "                --make-bed \\\n",
    "                --out $procD/${ancestry}/chr${chr}_flipped\n",
    "    done\n",
    "done\n",
    "\n",
    "# Attempt merge with 1000G data\n",
    "for ancestry in $anlist; do\n",
    "    for chr in {1..22}; do\n",
    "        /shared/bioinformatics/software/scripts/qsub_job.sh \\\n",
    "            --job_name ${ancestry}_${chr} \\\n",
    "            --script_prefix $procD/${ancestry}/autosomes/chr${chr}_flip_tests \\\n",
    "            --mem 6 \\\n",
    "            --priority 0 \\\n",
    "            --program  /shared/bioinformatics/software/third_party/plink-1.90-beta-4.10-x86_64/plink \\\n",
    "                --noweb \\\n",
    "                --memory 6000 \\\n",
    "                --bfile $procD/${ancestry}/chr${chr}_flipped \\\n",
    "                --bmerge /shared/data/ref_panels/1000G/2013.05/plink/ALL.chr${chr} \\\n",
    "                --merge-mode 7 \\\n",
    "                --out $procD/${ancestry}/chr${chr}_flipped_test\n",
    "    done\n",
    "done\n",
    "\n",
    "# Combine flip lists\n",
    "for ancestry in $anlist; do\n",
    "    echo -e \"\\n\\n======== ${ancestry} ========\\n\\n\"\n",
    "    cat $procD/${ancestry}/chr*_unflipped_test.missnp | sort -u > $procD/${ancestry}/chr_all_unflipped_test.missnp\n",
    "    cat $procD/${ancestry}/chr*_flipped_test.missnp | sort -u > $procD/${ancestry}/chr_all_flipped_test.missnp\n",
    "    comm -23 $procD/${ancestry}/chr_all_unflipped_test.missnp $procD/${ancestry}/chr_all_flipped_test.missnp \\\n",
    "        > $procD/${ancestry}/autosomes/chr_all.flip\n",
    "    \n",
    "    # Perform final flip\n",
    "    /shared/bioinformatics/software/third_party/plink-1.90-beta-4.10-x86_64/plink \\\n",
    "        --noweb \\\n",
    "        --bfile $procD/${ancestry}/autosomes/genotypes_b37_dbsnp138 \\\n",
    "        --flip $procD/${ancestry}/autosomes/chr_all.flip \\\n",
    "        --exclude $procD/${ancestry}/chr_all_flipped_test.missnp \\\n",
    "        --make-bed \\\n",
    "        --out $procD/${ancestry}/autosomes/genotypes_b37_dbsnp138_flipped\n",
    "done\n",
    "\n",
    "# Clean up\n",
    "rm $procD/{aa,ea}/chr*flipped*\n",
    "rm $procD/{aa,ea}/autosomes/chr*flip*\n",
    "\n",
    "wc -l {ea,aa}/autosomes/genotypes_b37_dbsnp138_flipped.bim\n",
    "\"\"\"\n",
    "wc -l {ea,aa}/autosomes/genotypes_b37_dbsnp138_flipped.bim\n",
    "  2081455 ea/autosomes/genotypes_b37_dbsnp138_flipped.bim\n",
    "  2081455 aa/autosomes/genotypes_b37_dbsnp138_flipped.bim\n",
    "\"\"\""
   ]
  },
  {
   "cell_type": "markdown",
   "metadata": {},
   "source": [
    "### Genotype call rate variant filter\n",
    "I calculate the genotype missing call rate and remove any variants with a rate >3%."
   ]
  },
  {
   "cell_type": "code",
   "execution_count": null,
   "metadata": {},
   "outputs": [],
   "source": [
    "## EC2 command line\n",
    "gcr=0.10\n",
    "\n",
    "\n",
    "# Get missing call rate\n",
    "for ancestry in $anlist; do\n",
    "    echo -e \"\\n\\n================ ${ancestry} ================\\n\\n\"\n",
    "    /shared/bioinformatics/software/third_party/plink-1.90-beta-4.10-x86_64/plink \\\n",
    "        --noweb \\\n",
    "        --memory 5000 \\\n",
    "        --bfile $procD/${ancestry}/autosomes/genotypes_b37_dbsnp138_flipped \\\n",
    "        --missing \\\n",
    "        --make-bed \\\n",
    "        --out $procD/${ancestry}/autosomes/20181211-missing-report\n",
    "done\n",
    "\n",
    "\n",
    "# AA\n",
    "wc -l 20181211-missing-report.lmiss\n",
    "\"\"\"2081456\"\"\"\n",
    "\n",
    " awk 'NR==FNR{map[$2]=$0;next} {if ($5 >= 0.10) {print map[$2]}}' $procD/${ancestry}/autosomes/20181211*bim 20181211*lmiss | wc -l\n",
    "\"\"\"\n",
    "1012290\n",
    "\"\"\"\n",
    "\n",
    "# EA\n",
    "awk 'NR==FNR{map[$2]=$0;next} {if ($5 >= 0.10) {print map[$2]}}' $procD/${ancestry}/autosomes/20181211*bim 20181211*lmiss | wc -l\n",
    "\"\"\"788521\"\"\"\n",
    "\n",
    "\n",
    "for ancestry in $anlist;do\n",
    "    awk 'NR==FNR{map[$2]=$0;next} {if ($5 >= 0.10) {print map[$2]}}'\\\n",
    "        $procD/${ancestry}/autosomes/20181211-missing-report.bim \\\n",
    "        $procD/${ancestry}/autosomes/20181211-missing-report.lmiss  \\\n",
    "        > $procD/${ancestry}/autosomes/20181211-gcr_0.10-snps.remove\n",
    "done"
   ]
  },
  {
   "cell_type": "markdown",
   "metadata": {},
   "source": [
    "### Hardy-Weinberg equilibrium filtering\n",
    "Extensive deviation from Hardy-Weinberg equilibrium (HWE) can be indicative of a genotyping or genotype calling error. Using PLINK --hardy, I calculate goodness of fit test p-values for allele frequencies compared to HWE. Any variant with p < 0.0001 is removed."
   ]
  },
  {
   "cell_type": "code",
   "execution_count": 1,
   "metadata": {},
   "outputs": [
    {
     "ename": "ERROR",
     "evalue": "Error in parse(text = x, srcfile = src): <text>:4:5: unexpected symbol\n3: # Calculate HW p-values for each ancestry group\n4: for ancestry\n       ^\n",
     "output_type": "error",
     "traceback": [
      "Error in parse(text = x, srcfile = src): <text>:4:5: unexpected symbol\n3: # Calculate HW p-values for each ancestry group\n4: for ancestry\n       ^\nTraceback:\n"
     ]
    }
   ],
   "source": [
    "## EC2 command line\n",
    "\n",
    "# Calculate HW p-values for each ancestry group\n",
    "for ancestry in $anlist; do\n",
    "    echo -e \"\\n\\n================ ${ancestry} ================\\n\\n\"\n",
    "    /shared/bioinformatics/software/third_party/plink-1.90-beta-4.10-x86_64/plink \\\n",
    "        --noweb \\\n",
    "        --bfile $procD/${ancestry}/autosomes/genotypes_b37_dbsnp138_flipped \\\n",
    "        --hardy  \\\n",
    "        --make-bed \\\n",
    "        --out $procD/${ancestry}/autosomes/20181211-hwe-report\n",
    "done\n",
    "\n",
    "for ancestry in $anlist;do\n",
    "    awk 'NR==FNR{map[$2]=$0;next} {if ( $9<= 0.0001) {print map[$2]}}' \\\n",
    "        $procD/${ancestry}/autosomes/20181211-hwe-report.bim \\\n",
    "        $procD/${ancestry}/autosomes/20181211-hwe-report.hwe \\\n",
    "        > $procD/${ancestry}/autosomes/20181211-hwe-snps.remove\n",
    "done"
   ]
  },
  {
   "cell_type": "markdown",
   "metadata": {},
   "source": [
    "```\n",
    " wc -l */autosomes/*remove\n",
    " 1012290 aa/autosomes/20181211-gcr_0.10-snps.remove\n",
    "  436389 aa/autosomes/20181211-hwe-snps.remove\n",
    " \n",
    "  788521 ea/autosomes/20181211-gcr_0.10-snps.remove\n",
    "  360871 ea/autosomes/20181211-hwe-snps.remove\n",
    "```"
   ]
  },
  {
   "cell_type": "markdown",
   "metadata": {},
   "source": [
    "### union set of filtered SNPs"
   ]
  },
  {
   "cell_type": "code",
   "execution_count": null,
   "metadata": {},
   "outputs": [],
   "source": [
    "for ancestry in $anlist;do\n",
    "    echo $ancestry variant count\n",
    "    cat $procD/$ancestry/autosomes/20181211-gcr_0.10-snps.remove \\\n",
    "        $procD/$ancestry/autosomes/20181211-hwe-snps.remove | sort -u \\\n",
    "        > $procD/$ancestry/autosomes/20181211-gcr_010-hwe_0.0001-snps.remove\n",
    "done\n",
    "\n",
    "\"\"\"\n",
    "aa variant count\n",
    "1113734\n",
    "ea variant count\n",
    "907461\n",
    "\"\"\""
   ]
  },
  {
   "cell_type": "code",
   "execution_count": 1,
   "metadata": {},
   "outputs": [
    {
     "data": {
      "text/html": [
       "'C:/Users/jmarks/Desktop/GitHub/jaamarks_notebooks/Heroin_Project/develop'"
      ],
      "text/latex": [
       "'C:/Users/jmarks/Desktop/GitHub/jaamarks\\_notebooks/Heroin\\_Project/develop'"
      ],
      "text/markdown": [
       "'C:/Users/jmarks/Desktop/GitHub/jaamarks_notebooks/Heroin_Project/develop'"
      ],
      "text/plain": [
       "[1] \"C:/Users/jmarks/Desktop/GitHub/jaamarks_notebooks/Heroin_Project/develop\""
      ]
     },
     "metadata": {},
     "output_type": "display_data"
    }
   ],
   "source": [
    "#setwd(\"C:/Users/jmarks/Desktop/Projects/heroin/ngc/uhs4/filtered_snp_exploration/\")\n",
    "#for an in \"ea aa\";do\n",
    "#    scp -i ~/.ssh/gwas_rsa ec2-user@54.90.227.178:/shared/data/studies/heroin/uhs4/genotype/observed/processing/003/$an/autosomes/2*remove $an\n",
    "#done\n",
    "\n",
    "# run this for both ancestries\n",
    "echo \"FILTERED\" > chr-counts.txt\n",
    "for chr in {1..22}; do\n",
    "    echo chr$chr count: >> chr-counts.txt\n",
    "    awk -v var=$chr '$1==var' 20181211-gcr_010-hwe_0.0001-snps.remove | wc -l >> chr-counts.txt\n",
    "done\n",
    "\n",
    "# split up the chr data\n",
    "mkdir chr{1..22}\n",
    "for chr in {1..22};do awk -v chr=$chr '$1==chr' 20181211-gcr_010-hwe_0.0001-snps.remove \n",
    "    > chr$chr/ea-chr$chr-gcr-hwe-filtered-snps.remove\n",
    "done\n"
   ]
  },
  {
   "cell_type": "code",
   "execution_count": 2,
   "metadata": {},
   "outputs": [
    {
     "data": {
      "text/html": [
       "'C:/Users/jmarks/Desktop/GitHub/jaamarks_notebooks/Heroin_Project/develop'"
      ],
      "text/latex": [
       "'C:/Users/jmarks/Desktop/GitHub/jaamarks\\_notebooks/Heroin\\_Project/develop'"
      ],
      "text/markdown": [
       "'C:/Users/jmarks/Desktop/GitHub/jaamarks_notebooks/Heroin_Project/develop'"
      ],
      "text/plain": [
       "[1] \"C:/Users/jmarks/Desktop/GitHub/jaamarks_notebooks/Heroin_Project/develop\""
      ]
     },
     "metadata": {},
     "output_type": "display_data"
    }
   ],
   "source": [
    "getwd()"
   ]
  },
  {
   "cell_type": "code",
   "execution_count": null,
   "metadata": {},
   "outputs": [],
   "source": []
  },
  {
   "cell_type": "code",
   "execution_count": null,
   "metadata": {},
   "outputs": [],
   "source": [
    "INITIAL COUNTS\n",
    "chr1 variant count: 167787\n",
    "chr2 variant count: 176909\n",
    "chr3 variant count: 144189\n",
    "chr4 variant count: 141558\n",
    "chr5 variant count: 134636\n",
    "chr6 variant count: 129388\n",
    "chr7 variant count: 118560\n",
    "chr8 variant count: 115191\n",
    "chr9 variant count: 94292\n",
    "chr10 variant count: 108865\n",
    "chr11 variant count: 106430\n",
    "chr12 variant count: 103064\n",
    "chr13 variant count: 69535\n",
    "chr14 variant count: 70180\n",
    "chr15 variant count: 65593\n",
    "chr16 variant count: 69092\n",
    "chr17 variant count: 58702\n",
    "chr18 variant count: 60709\n",
    "chr19 variant count: 44190\n",
    "chr20 variant count: 46560\n",
    "chr21 variant count: 29323\n",
    "chr22 variant count: 29304"
   ]
  },
  {
   "cell_type": "markdown",
   "metadata": {},
   "source": [
    "# EA\n",
    "```\n",
    "chr1 count: 73197\n",
    "chr2 count: 75361\n",
    "chr3 count: 61203\n",
    "chr4 count: 62093\n",
    "chr5 count: 57862\n",
    "chr6 count: 56392\n",
    "chr7 count: 51940\n",
    "chr8 count: 49353\n",
    "chr9 count: 41257\n",
    "chr10 count: 46873\n",
    "chr11 count: 46151\n",
    "chr12 count: 44952\n",
    "chr13 count: 30102\n",
    "chr14 count: 30364\n",
    "chr15 count: 28031\n",
    "chr16 count: 29920\n",
    "chr17 count: 26878\n",
    "chr18 count: 26209\n",
    "chr19 count: 22339\n",
    "chr20 count: 19858\n",
    "chr21 count: 13110\n",
    "chr22 count: 14015\n",
    "```"
   ]
  },
  {
   "cell_type": "code",
   "execution_count": null,
   "metadata": {},
   "outputs": [],
   "source": [
    "#for chr in {1..22};do sort -k4 -n chr$chr/* > chr$chr/ea-chr$chr-gcr-hwe-filtered-snps.remove.sorted; done &"
   ]
  },
  {
   "cell_type": "code",
   "execution_count": 31,
   "metadata": {},
   "outputs": [
    {
     "data": {
      "text/html": [
       "<table>\n",
       "<thead><tr><th scope=col>V1</th><th scope=col>V2</th><th scope=col>V3</th><th scope=col>V4</th></tr></thead>\n",
       "<tbody>\n",
       "\t<tr><td>chr1   </td><td>variant</td><td>count: </td><td>167787 </td></tr>\n",
       "\t<tr><td>chr2   </td><td>variant</td><td>count: </td><td>176909 </td></tr>\n",
       "\t<tr><td>chr3   </td><td>variant</td><td>count: </td><td>144189 </td></tr>\n",
       "\t<tr><td>chr4   </td><td>variant</td><td>count: </td><td>141558 </td></tr>\n",
       "\t<tr><td>chr5   </td><td>variant</td><td>count: </td><td>134636 </td></tr>\n",
       "\t<tr><td>chr6   </td><td>variant</td><td>count: </td><td>129388 </td></tr>\n",
       "</tbody>\n",
       "</table>\n"
      ],
      "text/latex": [
       "\\begin{tabular}{r|llll}\n",
       " V1 & V2 & V3 & V4\\\\\n",
       "\\hline\n",
       "\t chr1    & variant & count:  & 167787 \\\\\n",
       "\t chr2    & variant & count:  & 176909 \\\\\n",
       "\t chr3    & variant & count:  & 144189 \\\\\n",
       "\t chr4    & variant & count:  & 141558 \\\\\n",
       "\t chr5    & variant & count:  & 134636 \\\\\n",
       "\t chr6    & variant & count:  & 129388 \\\\\n",
       "\\end{tabular}\n"
      ],
      "text/markdown": [
       "\n",
       "V1 | V2 | V3 | V4 | \n",
       "|---|---|---|---|---|---|\n",
       "| chr1    | variant | count:  | 167787  | \n",
       "| chr2    | variant | count:  | 176909  | \n",
       "| chr3    | variant | count:  | 144189  | \n",
       "| chr4    | variant | count:  | 141558  | \n",
       "| chr5    | variant | count:  | 134636  | \n",
       "| chr6    | variant | count:  | 129388  | \n",
       "\n",
       "\n"
      ],
      "text/plain": [
       "  V1   V2      V3     V4    \n",
       "1 chr1 variant count: 167787\n",
       "2 chr2 variant count: 176909\n",
       "3 chr3 variant count: 144189\n",
       "4 chr4 variant count: 141558\n",
       "5 chr5 variant count: 134636\n",
       "6 chr6 variant count: 129388"
      ]
     },
     "metadata": {},
     "output_type": "display_data"
    },
    {
     "data": {
      "text/html": [
       "<table>\n",
       "<thead><tr><th scope=col>V1</th><th scope=col>V2</th><th scope=col>V3</th></tr></thead>\n",
       "<tbody>\n",
       "\t<tr><td>chr1  </td><td>count:</td><td>73197 </td></tr>\n",
       "\t<tr><td>chr2  </td><td>count:</td><td>75361 </td></tr>\n",
       "\t<tr><td>chr3  </td><td>count:</td><td>61203 </td></tr>\n",
       "\t<tr><td>chr4  </td><td>count:</td><td>62093 </td></tr>\n",
       "\t<tr><td>chr5  </td><td>count:</td><td>57862 </td></tr>\n",
       "\t<tr><td>chr6  </td><td>count:</td><td>56392 </td></tr>\n",
       "</tbody>\n",
       "</table>\n"
      ],
      "text/latex": [
       "\\begin{tabular}{r|lll}\n",
       " V1 & V2 & V3\\\\\n",
       "\\hline\n",
       "\t chr1   & count: & 73197 \\\\\n",
       "\t chr2   & count: & 75361 \\\\\n",
       "\t chr3   & count: & 61203 \\\\\n",
       "\t chr4   & count: & 62093 \\\\\n",
       "\t chr5   & count: & 57862 \\\\\n",
       "\t chr6   & count: & 56392 \\\\\n",
       "\\end{tabular}\n"
      ],
      "text/markdown": [
       "\n",
       "V1 | V2 | V3 | \n",
       "|---|---|---|---|---|---|\n",
       "| chr1   | count: | 73197  | \n",
       "| chr2   | count: | 75361  | \n",
       "| chr3   | count: | 61203  | \n",
       "| chr4   | count: | 62093  | \n",
       "| chr5   | count: | 57862  | \n",
       "| chr6   | count: | 56392  | \n",
       "\n",
       "\n"
      ],
      "text/plain": [
       "  V1   V2     V3   \n",
       "1 chr1 count: 73197\n",
       "2 chr2 count: 75361\n",
       "3 chr3 count: 61203\n",
       "4 chr4 count: 62093\n",
       "5 chr5 count: 57862\n",
       "6 chr6 count: 56392"
      ]
     },
     "metadata": {},
     "output_type": "display_data"
    },
    {
     "data": {
      "text/html": [
       "<table>\n",
       "<thead><tr><th scope=col>V1</th><th scope=col>V2</th><th scope=col>V3</th></tr></thead>\n",
       "<tbody>\n",
       "\t<tr><td>chr1  </td><td>count:</td><td>89851 </td></tr>\n",
       "\t<tr><td>chr2  </td><td>count:</td><td>92950 </td></tr>\n",
       "\t<tr><td>chr3  </td><td>count:</td><td>75612 </td></tr>\n",
       "\t<tr><td>chr4  </td><td>count:</td><td>77102 </td></tr>\n",
       "\t<tr><td>chr5  </td><td>count:</td><td>71194 </td></tr>\n",
       "\t<tr><td>chr6  </td><td>count:</td><td>69151 </td></tr>\n",
       "</tbody>\n",
       "</table>\n"
      ],
      "text/latex": [
       "\\begin{tabular}{r|lll}\n",
       " V1 & V2 & V3\\\\\n",
       "\\hline\n",
       "\t chr1   & count: & 89851 \\\\\n",
       "\t chr2   & count: & 92950 \\\\\n",
       "\t chr3   & count: & 75612 \\\\\n",
       "\t chr4   & count: & 77102 \\\\\n",
       "\t chr5   & count: & 71194 \\\\\n",
       "\t chr6   & count: & 69151 \\\\\n",
       "\\end{tabular}\n"
      ],
      "text/markdown": [
       "\n",
       "V1 | V2 | V3 | \n",
       "|---|---|---|---|---|---|\n",
       "| chr1   | count: | 89851  | \n",
       "| chr2   | count: | 92950  | \n",
       "| chr3   | count: | 75612  | \n",
       "| chr4   | count: | 77102  | \n",
       "| chr5   | count: | 71194  | \n",
       "| chr6   | count: | 69151  | \n",
       "\n",
       "\n"
      ],
      "text/plain": [
       "  V1   V2     V3   \n",
       "1 chr1 count: 89851\n",
       "2 chr2 count: 92950\n",
       "3 chr3 count: 75612\n",
       "4 chr4 count: 77102\n",
       "5 chr5 count: 71194\n",
       "6 chr6 count: 69151"
      ]
     },
     "metadata": {},
     "output_type": "display_data"
    }
   ],
   "source": [
    "init_counts <- read.table(\"C:/Users/jmarks/Desktop/Projects/heroin/ngc/uhs4/filtered_snp_exploration/non-filtered-chr-counts\")\n",
    "ea_filtered <- read.table(\"C:/Users/jmarks/Desktop/Projects/heroin/ngc/uhs4/filtered_snp_exploration/ea/chr-counts.txt\",\n",
    "                         skip=1)\n",
    "aa_filtered <- read.table(\"C:/Users/jmarks/Desktop/Projects/heroin/ngc/uhs4/filtered_snp_exploration/aa/chr-counts.txt\",\n",
    "                         skip=1)\n",
    "head(init_counts)\n",
    "head(ea_filtered)\n",
    "head(aa_filtered)"
   ]
  },
  {
   "cell_type": "code",
   "execution_count": 47,
   "metadata": {},
   "outputs": [
    {
     "data": {
      "text/html": [
       "<ol class=list-inline>\n",
       "\t<li>0.436249530654937</li>\n",
       "\t<li>0.425987372038732</li>\n",
       "\t<li>0.424463724694672</li>\n",
       "\t<li>0.438639992088049</li>\n",
       "\t<li>0.429766184378621</li>\n",
       "\t<li>0.435836399047825</li>\n",
       "</ol>\n"
      ],
      "text/latex": [
       "\\begin{enumerate*}\n",
       "\\item 0.436249530654937\n",
       "\\item 0.425987372038732\n",
       "\\item 0.424463724694672\n",
       "\\item 0.438639992088049\n",
       "\\item 0.429766184378621\n",
       "\\item 0.435836399047825\n",
       "\\end{enumerate*}\n"
      ],
      "text/markdown": [
       "1. 0.436249530654937\n",
       "2. 0.425987372038732\n",
       "3. 0.424463724694672\n",
       "4. 0.438639992088049\n",
       "5. 0.429766184378621\n",
       "6. 0.435836399047825\n",
       "\n",
       "\n"
      ],
      "text/plain": [
       "[1] 0.4362495 0.4259874 0.4244637 0.4386400 0.4297662 0.4358364"
      ]
     },
     "metadata": {},
     "output_type": "display_data"
    },
    {
     "data": {
      "text/html": [
       "<ol class=list-inline>\n",
       "\t<li>0.535506326473446</li>\n",
       "\t<li>0.52541136968724</li>\n",
       "\t<li>0.524395064810769</li>\n",
       "\t<li>0.544667203549075</li>\n",
       "\t<li>0.528788734068154</li>\n",
       "\t<li>0.534446780226914</li>\n",
       "</ol>\n"
      ],
      "text/latex": [
       "\\begin{enumerate*}\n",
       "\\item 0.535506326473446\n",
       "\\item 0.52541136968724\n",
       "\\item 0.524395064810769\n",
       "\\item 0.544667203549075\n",
       "\\item 0.528788734068154\n",
       "\\item 0.534446780226914\n",
       "\\end{enumerate*}\n"
      ],
      "text/markdown": [
       "1. 0.535506326473446\n",
       "2. 0.52541136968724\n",
       "3. 0.524395064810769\n",
       "4. 0.544667203549075\n",
       "5. 0.528788734068154\n",
       "6. 0.534446780226914\n",
       "\n",
       "\n"
      ],
      "text/plain": [
       "[1] 0.5355063 0.5254114 0.5243951 0.5446672 0.5287887 0.5344468"
      ]
     },
     "metadata": {},
     "output_type": "display_data"
    },
    {
     "data": {
      "image/png": "[encoded data removed]",
      "text/plain": [
       "Plot with title \"AA: Percent of SNPs Filtered per Chromosome\""
      ]
     },
     "metadata": {},
     "output_type": "display_data"
    }
   ],
   "source": [
    "ea_percent <- ea_filtered$V3/init_counts$V4\n",
    "aa_percent <- aa_filtered$V3/init_counts$V4\n",
    "head(ea_percent)\n",
    "head(aa_percent)\n",
    "\n",
    "par(mfrow = c(2,1))\n",
    "barplot(ea_percent, beside = TRUE,, main = \"EA: Percent of SNPs Filtered per Chromosome\",\n",
    "         ylab= \"Percent Filtered\", col=c(\"red\", \"blue\"),\n",
    "       ylim = c(0,0.6), names.arg = ea_filtered$V1, las=2)\n",
    "barplot(aa_percent, beside = TRUE,, main = \"AA: Percent of SNPs Filtered per Chromosome\",\n",
    "         ylab= \"Percent Filtered\", col=c(\"red\", \"blue\"),\n",
    "       ylim = c(0,0.6), names.arg = aa_filtered$V1, las=2)\n",
    "        "
   ]
  },
  {
   "cell_type": "code",
   "execution_count": 51,
   "metadata": {},
   "outputs": [
    {
     "ename": "ERROR",
     "evalue": "Error in nndist(x, y): could not find function \"nndist\"\n",
     "output_type": "error",
     "traceback": [
      "Error in nndist(x, y): could not find function \"nndist\"\nTraceback:\n"
     ]
    }
   ],
   "source": [
    "x <- runif(100)\n",
    "y <- runif(100)\n",
    "d <- nndist(x, y)\n",
    "data(cells)\n",
    "d <- nndist(cells)"
   ]
  },
  {
   "cell_type": "markdown",
   "metadata": {},
   "source": [
    "# AA\n",
    "```\n",
    "chr1 count: 89851\n",
    "chr2 count: 92950\n",
    "chr3 count: 75612\n",
    "chr4 count: 77102\n",
    "chr5 count: 71194\n",
    "chr6 count: 69151\n",
    "chr7 count: 63797\n",
    "chr8 count: 60809\n",
    "chr9 count: 50563\n",
    "chr10 count: 57405\n",
    "chr11 count: 56787\n",
    "chr12 count: 55169\n",
    "chr13 count: 37343\n",
    "chr14 count: 37477\n",
    "chr15 count: 34525\n",
    "chr16 count: 36325\n",
    "chr17 count: 32313\n",
    "chr18 count: 32082\n",
    "chr19 count: 26311\n",
    "chr20 count: 24285\n",
    "chr21 count: 16093\n",
    "chr22 count: 16589\n",
    "```"
   ]
  },
  {
   "cell_type": "code",
   "execution_count": null,
   "metadata": {},
   "outputs": [],
   "source": [
    "for chr in {1..22};do sort -k4 -n chr$chr/* > chr$chr/aa-chr$chr-gcr-hwe-filtered-snps.remove.sorted; done &"
   ]
  },
  {
   "cell_type": "markdown",
   "metadata": {},
   "source": [
    "# MAF Distribution\n",
    "## Retained variants\n",
    "Seems pretty uniform. What are the MAF distributions for the lost and retained variants by ancestry?"
   ]
  },
  {
   "cell_type": "code",
   "execution_count": null,
   "metadata": {},
   "outputs": [],
   "source": [
    "for ancestry in $anlist;do\n",
    "    /shared/bioinformatics/software/third_party/plink-1.90-beta-4.10-x86_64/plink \\\n",
    "        --noweb \\\n",
    "        --memory 2048 \\\n",
    "        --bfile $procD/$ancestry/autosomes/genotypes_b37_dbsnp138_flipped_structure_variant_missing_lte_0.10_hwe_p_gte_0.0001_filter\\\n",
    "        --freq \\\n",
    "        --out $procD/$ancestry/autosomes/20181211-${ancestry}-maf_report-retained_snps\n",
    "done"
   ]
  },
  {
   "cell_type": "code",
   "execution_count": null,
   "metadata": {},
   "outputs": [],
   "source": [
    "scp -i ~/.ssh/gwas_rsa ec2-user@54.90.227.178:/shared/data/studies/heroin/uhs4/genotype/observed/processing/003/ea/autosomes/20181211-ea-maf_report-retained_snps.frq .\n",
    "scp -i ~/.ssh/gwas_rsa ec2-user@54.90.227.178:/shared/data/studies/heroin/uhs4/genotype/observed/processing/003/aa/autosomes/20181211-aa-maf_report-retained_snps.frq .\n",
    "\n",
    "# split up the chr data\n",
    "mkdir chr{1..22}\n",
    "for chr in {1..22};do awk -v chr=$chr '$1==chr' 20181211-ea-maf_report-retained_snps.frq \\\n",
    "    > chr$chr/20181211-ea-chr$chr-maf_report-retained_snps.frq\n",
    "done &\n",
    "\n",
    "for chr in {1..22};do awk -v chr=$chr '$1==chr' 20181211-aa-maf_report-retained_snps.frq \\\n",
    "    > chr$chr/20181211-aa-chr$chr-maf_report-retained_snps.frq\n",
    "done &"
   ]
  },
  {
   "cell_type": "code",
   "execution_count": 58,
   "metadata": {},
   "outputs": [
    {
     "data": {
      "text/html": [
       "<table>\n",
       "<thead><tr><th scope=col>CHR</th><th scope=col>SNP</th><th scope=col>A1</th><th scope=col>A2</th><th scope=col>MAF</th><th scope=col>NCHROBS</th></tr></thead>\n",
       "<tbody>\n",
       "\t<tr><td>1          </td><td>rs201475892</td><td>T          </td><td>C          </td><td>0.000000   </td><td>1424       </td></tr>\n",
       "\t<tr><td>1          </td><td>rs3131972  </td><td>A          </td><td>G          </td><td>0.157300   </td><td>1348       </td></tr>\n",
       "\t<tr><td>1          </td><td>rs12184312 </td><td>T          </td><td>G          </td><td>0.034040   </td><td>1410       </td></tr>\n",
       "\t<tr><td>1          </td><td>rs113960458</td><td>0          </td><td>A          </td><td>0.000000   </td><td>1430       </td></tr>\n",
       "\t<tr><td>1          </td><td>rs74045212 </td><td>C          </td><td>T          </td><td>0.001458   </td><td>1372       </td></tr>\n",
       "\t<tr><td>1          </td><td>rs202115817</td><td>A          </td><td>G          </td><td>0.000000   </td><td>1418       </td></tr>\n",
       "</tbody>\n",
       "</table>\n"
      ],
      "text/latex": [
       "\\begin{tabular}{r|llllll}\n",
       " CHR & SNP & A1 & A2 & MAF & NCHROBS\\\\\n",
       "\\hline\n",
       "\t 1           & rs201475892 & T           & C           & 0.000000    & 1424       \\\\\n",
       "\t 1           & rs3131972   & A           & G           & 0.157300    & 1348       \\\\\n",
       "\t 1           & rs12184312  & T           & G           & 0.034040    & 1410       \\\\\n",
       "\t 1           & rs113960458 & 0           & A           & 0.000000    & 1430       \\\\\n",
       "\t 1           & rs74045212  & C           & T           & 0.001458    & 1372       \\\\\n",
       "\t 1           & rs202115817 & A           & G           & 0.000000    & 1418       \\\\\n",
       "\\end{tabular}\n"
      ],
      "text/markdown": [
       "\n",
       "CHR | SNP | A1 | A2 | MAF | NCHROBS | \n",
       "|---|---|---|---|---|---|\n",
       "| 1           | rs201475892 | T           | C           | 0.000000    | 1424        | \n",
       "| 1           | rs3131972   | A           | G           | 0.157300    | 1348        | \n",
       "| 1           | rs12184312  | T           | G           | 0.034040    | 1410        | \n",
       "| 1           | rs113960458 | 0           | A           | 0.000000    | 1430        | \n",
       "| 1           | rs74045212  | C           | T           | 0.001458    | 1372        | \n",
       "| 1           | rs202115817 | A           | G           | 0.000000    | 1418        | \n",
       "\n",
       "\n"
      ],
      "text/plain": [
       "  CHR SNP         A1 A2 MAF      NCHROBS\n",
       "1 1   rs201475892 T  C  0.000000 1424   \n",
       "2 1   rs3131972   A  G  0.157300 1348   \n",
       "3 1   rs12184312  T  G  0.034040 1410   \n",
       "4 1   rs113960458 0  A  0.000000 1430   \n",
       "5 1   rs74045212  C  T  0.001458 1372   \n",
       "6 1   rs202115817 A  G  0.000000 1418   "
      ]
     },
     "metadata": {},
     "output_type": "display_data"
    },
    {
     "data": {
      "text/html": [
       "<table>\n",
       "<thead><tr><th scope=col>CHR</th><th scope=col>SNP</th><th scope=col>A1</th><th scope=col>A2</th><th scope=col>MAF</th><th scope=col>NCHROBS</th></tr></thead>\n",
       "<tbody>\n",
       "\t<tr><td>1          </td><td>rs201475892</td><td>T          </td><td>C          </td><td>0.002649   </td><td>1510       </td></tr>\n",
       "\t<tr><td>1          </td><td>rs3131972  </td><td>G          </td><td>A          </td><td>0.372300   </td><td>1464       </td></tr>\n",
       "\t<tr><td>1          </td><td>rs12184312 </td><td>T          </td><td>G          </td><td>0.030240   </td><td>1554       </td></tr>\n",
       "\t<tr><td>1          </td><td>rs113960458</td><td>0          </td><td>A          </td><td>0.000000   </td><td>1574       </td></tr>\n",
       "\t<tr><td>1          </td><td>rs74045212 </td><td>C          </td><td>T          </td><td>0.071040   </td><td>1464       </td></tr>\n",
       "\t<tr><td>1          </td><td>rs75333668 </td><td>T          </td><td>C          </td><td>0.078000   </td><td>1500       </td></tr>\n",
       "</tbody>\n",
       "</table>\n"
      ],
      "text/latex": [
       "\\begin{tabular}{r|llllll}\n",
       " CHR & SNP & A1 & A2 & MAF & NCHROBS\\\\\n",
       "\\hline\n",
       "\t 1           & rs201475892 & T           & C           & 0.002649    & 1510       \\\\\n",
       "\t 1           & rs3131972   & G           & A           & 0.372300    & 1464       \\\\\n",
       "\t 1           & rs12184312  & T           & G           & 0.030240    & 1554       \\\\\n",
       "\t 1           & rs113960458 & 0           & A           & 0.000000    & 1574       \\\\\n",
       "\t 1           & rs74045212  & C           & T           & 0.071040    & 1464       \\\\\n",
       "\t 1           & rs75333668  & T           & C           & 0.078000    & 1500       \\\\\n",
       "\\end{tabular}\n"
      ],
      "text/markdown": [
       "\n",
       "CHR | SNP | A1 | A2 | MAF | NCHROBS | \n",
       "|---|---|---|---|---|---|\n",
       "| 1           | rs201475892 | T           | C           | 0.002649    | 1510        | \n",
       "| 1           | rs3131972   | G           | A           | 0.372300    | 1464        | \n",
       "| 1           | rs12184312  | T           | G           | 0.030240    | 1554        | \n",
       "| 1           | rs113960458 | 0           | A           | 0.000000    | 1574        | \n",
       "| 1           | rs74045212  | C           | T           | 0.071040    | 1464        | \n",
       "| 1           | rs75333668  | T           | C           | 0.078000    | 1500        | \n",
       "\n",
       "\n"
      ],
      "text/plain": [
       "  CHR SNP         A1 A2 MAF      NCHROBS\n",
       "1 1   rs201475892 T  C  0.002649 1510   \n",
       "2 1   rs3131972   G  A  0.372300 1464   \n",
       "3 1   rs12184312  T  G  0.030240 1554   \n",
       "4 1   rs113960458 0  A  0.000000 1574   \n",
       "5 1   rs74045212  C  T  0.071040 1464   \n",
       "6 1   rs75333668  T  C  0.078000 1500   "
      ]
     },
     "metadata": {},
     "output_type": "display_data"
    }
   ],
   "source": [
    "setwd(\"C:/Users/jmarks/Desktop/Projects/heroin/ngc/uhs4/filtered_snp_exploration/\")\n",
    "\n",
    "ea_maf <- read.table(\"ea/20181211-ea-maf_report-retained_snps.frq\", header = TRUE)\n",
    "aa_maf <- read.table(\"aa/20181211-aa-maf_report-retained_snps.frq\", header = TRUE)\n",
    "\n",
    "head(ea_maf)\n",
    "head(aa_maf)"
   ]
  },
  {
   "cell_type": "code",
   "execution_count": 77,
   "metadata": {},
   "outputs": [
    {
     "data": {
      "image/png": "[encoded data removed]",
      "text/plain": [
       "Plot with title \"AA MAF Distribution, Genome-Wide:\n",
       " Retain SNPs\""
      ]
     },
     "metadata": {},
     "output_type": "display_data"
    }
   ],
   "source": [
    "par(mfrow = c(2,1))\n",
    "hist(ea_maf$MAF, col = \"green\", main = \"EA MAF Distribution, Genome-Wide:\\n Retain SNPs\",\n",
    "     ylim = c(0,6e+05), xlab = \"MAF\")\n",
    "hist(aa_maf$MAF, col = \"green\", main = \"AA MAF Distribution, Genome-Wide:\\n Retain SNPs\",\n",
    "     ylim = c(0,6e+05), xlab = \"MAF\")"
   ]
  },
  {
   "cell_type": "markdown",
   "metadata": {},
   "source": [
    "## Filtered Variants"
   ]
  },
  {
   "cell_type": "code",
   "execution_count": null,
   "metadata": {},
   "outputs": [],
   "source": [
    "for ancestry in $anlist; do\n",
    "    awk '{print $2}' \\\n",
    "        $procD/$ancestry/autosomes/genotypes_b37_dbsnp138_flipped_structure_variant_missing_lte_0.10_hwe_p_gte_0.0001_filter.bim \\\n",
    "        > $procD/$ancestry/autosomes/20181211-${ancestry}-retained-variants-to_filter &\n",
    "done\n",
    "\n",
    "for ancestry in $anlist;do\n",
    "    /shared/bioinformatics/software/third_party/plink-1.90-beta-4.10-x86_64/plink \\\n",
    "        --bfile $procD/$ancestry/autosomes/genotypes_b37_dbsnp138_flipped \\\n",
    "        --exclude $procD/$ancestry/autosomes/20181211-${ancestry}-retained-variants-to_filter \\\n",
    "        --make-bed \\\n",
    "        --out $procD/$ancestry/autosomes/20181211-${ancestry}-only-filtered-variants-remaining\n",
    "done\n",
    "\n",
    "for ancestry in $anlist;do\n",
    "    /shared/bioinformatics/software/third_party/plink-1.90-beta-4.10-x86_64/plink \\\n",
    "        --noweb \\\n",
    "        --memory 2048 \\\n",
    "        --bfile $procD/$ancestry/autosomes/20181211-${ancestry}-only-filtered-variants-remaining \\\n",
    "        --freq \\\n",
    "        --out $procD/$ancestry/autosomes/20181211-${ancestry}-maf_report-filtered_snps\n",
    "done"
   ]
  },
  {
   "cell_type": "code",
   "execution_count": null,
   "metadata": {},
   "outputs": [],
   "source": [
    "scp -i ~/.ssh/gwas_rsa ec2-user@54.90.227.178:/shared/data/studies/heroin/uhs4/genotype/observed/processing/003/aa/autosomes/20181211-aa-maf_report-fi* .\n",
    "scp -i ~/.ssh/gwas_rsa ec2-user@54.90.227.178:/shared/data/studies/heroin/uhs4/genotype/observed/processing/003/ea/autosomes/20181211-ea-maf_report-fi* ."
   ]
  },
  {
   "cell_type": "code",
   "execution_count": 82,
   "metadata": {},
   "outputs": [
    {
     "data": {
      "text/html": [
       "<table>\n",
       "<thead><tr><th scope=col>CHR</th><th scope=col>SNP</th><th scope=col>A1</th><th scope=col>A2</th><th scope=col>MAF</th><th scope=col>NCHROBS</th></tr></thead>\n",
       "<tbody>\n",
       "\t<tr><td>1          </td><td>rs4477212  </td><td>G          </td><td>A          </td><td>0.1295     </td><td>1228       </td></tr>\n",
       "\t<tr><td>1          </td><td>rs114525117</td><td>A          </td><td>G          </td><td>0.1878     </td><td>1198       </td></tr>\n",
       "\t<tr><td>1          </td><td>rs144708130</td><td>A          </td><td>G          </td><td>0.1403     </td><td>1212       </td></tr>\n",
       "\t<tr><td>1          </td><td>rs150785412</td><td>A          </td><td>G          </td><td>0.1698     </td><td>1366       </td></tr>\n",
       "\t<tr><td>1          </td><td>rs12562034 </td><td>A          </td><td>G          </td><td>0.2112     </td><td>1174       </td></tr>\n",
       "\t<tr><td>1          </td><td>rs59066358 </td><td>A          </td><td>G          </td><td>0.2275     </td><td>1222       </td></tr>\n",
       "</tbody>\n",
       "</table>\n"
      ],
      "text/latex": [
       "\\begin{tabular}{r|llllll}\n",
       " CHR & SNP & A1 & A2 & MAF & NCHROBS\\\\\n",
       "\\hline\n",
       "\t 1           & rs4477212   & G           & A           & 0.1295      & 1228       \\\\\n",
       "\t 1           & rs114525117 & A           & G           & 0.1878      & 1198       \\\\\n",
       "\t 1           & rs144708130 & A           & G           & 0.1403      & 1212       \\\\\n",
       "\t 1           & rs150785412 & A           & G           & 0.1698      & 1366       \\\\\n",
       "\t 1           & rs12562034  & A           & G           & 0.2112      & 1174       \\\\\n",
       "\t 1           & rs59066358  & A           & G           & 0.2275      & 1222       \\\\\n",
       "\\end{tabular}\n"
      ],
      "text/markdown": [
       "\n",
       "CHR | SNP | A1 | A2 | MAF | NCHROBS | \n",
       "|---|---|---|---|---|---|\n",
       "| 1           | rs4477212   | G           | A           | 0.1295      | 1228        | \n",
       "| 1           | rs114525117 | A           | G           | 0.1878      | 1198        | \n",
       "| 1           | rs144708130 | A           | G           | 0.1403      | 1212        | \n",
       "| 1           | rs150785412 | A           | G           | 0.1698      | 1366        | \n",
       "| 1           | rs12562034  | A           | G           | 0.2112      | 1174        | \n",
       "| 1           | rs59066358  | A           | G           | 0.2275      | 1222        | \n",
       "\n",
       "\n"
      ],
      "text/plain": [
       "  CHR SNP         A1 A2 MAF    NCHROBS\n",
       "1 1   rs4477212   G  A  0.1295 1228   \n",
       "2 1   rs114525117 A  G  0.1878 1198   \n",
       "3 1   rs144708130 A  G  0.1403 1212   \n",
       "4 1   rs150785412 A  G  0.1698 1366   \n",
       "5 1   rs12562034  A  G  0.2112 1174   \n",
       "6 1   rs59066358  A  G  0.2275 1222   "
      ]
     },
     "metadata": {},
     "output_type": "display_data"
    },
    {
     "data": {
      "text/html": [
       "<table>\n",
       "<thead><tr><th scope=col>CHR</th><th scope=col>SNP</th><th scope=col>A1</th><th scope=col>A2</th><th scope=col>MAF</th><th scope=col>NCHROBS</th></tr></thead>\n",
       "<tbody>\n",
       "\t<tr><td>1          </td><td>rs4477212  </td><td>G          </td><td>A          </td><td>0.125600   </td><td>1330       </td></tr>\n",
       "\t<tr><td>1          </td><td>rs202115817</td><td>A          </td><td>G          </td><td>0.007722   </td><td>1554       </td></tr>\n",
       "\t<tr><td>1          </td><td>rs114525117</td><td>A          </td><td>G          </td><td>0.204900   </td><td>1230       </td></tr>\n",
       "\t<tr><td>1          </td><td>rs144708130</td><td>A          </td><td>G          </td><td>0.170400   </td><td>1244       </td></tr>\n",
       "\t<tr><td>1          </td><td>rs150785412</td><td>A          </td><td>G          </td><td>0.241600   </td><td>1366       </td></tr>\n",
       "\t<tr><td>1          </td><td>rs12562034 </td><td>A          </td><td>G          </td><td>0.208300   </td><td>1282       </td></tr>\n",
       "</tbody>\n",
       "</table>\n"
      ],
      "text/latex": [
       "\\begin{tabular}{r|llllll}\n",
       " CHR & SNP & A1 & A2 & MAF & NCHROBS\\\\\n",
       "\\hline\n",
       "\t 1           & rs4477212   & G           & A           & 0.125600    & 1330       \\\\\n",
       "\t 1           & rs202115817 & A           & G           & 0.007722    & 1554       \\\\\n",
       "\t 1           & rs114525117 & A           & G           & 0.204900    & 1230       \\\\\n",
       "\t 1           & rs144708130 & A           & G           & 0.170400    & 1244       \\\\\n",
       "\t 1           & rs150785412 & A           & G           & 0.241600    & 1366       \\\\\n",
       "\t 1           & rs12562034  & A           & G           & 0.208300    & 1282       \\\\\n",
       "\\end{tabular}\n"
      ],
      "text/markdown": [
       "\n",
       "CHR | SNP | A1 | A2 | MAF | NCHROBS | \n",
       "|---|---|---|---|---|---|\n",
       "| 1           | rs4477212   | G           | A           | 0.125600    | 1330        | \n",
       "| 1           | rs202115817 | A           | G           | 0.007722    | 1554        | \n",
       "| 1           | rs114525117 | A           | G           | 0.204900    | 1230        | \n",
       "| 1           | rs144708130 | A           | G           | 0.170400    | 1244        | \n",
       "| 1           | rs150785412 | A           | G           | 0.241600    | 1366        | \n",
       "| 1           | rs12562034  | A           | G           | 0.208300    | 1282        | \n",
       "\n",
       "\n"
      ],
      "text/plain": [
       "  CHR SNP         A1 A2 MAF      NCHROBS\n",
       "1 1   rs4477212   G  A  0.125600 1330   \n",
       "2 1   rs202115817 A  G  0.007722 1554   \n",
       "3 1   rs114525117 A  G  0.204900 1230   \n",
       "4 1   rs144708130 A  G  0.170400 1244   \n",
       "5 1   rs150785412 A  G  0.241600 1366   \n",
       "6 1   rs12562034  A  G  0.208300 1282   "
      ]
     },
     "metadata": {},
     "output_type": "display_data"
    }
   ],
   "source": [
    "setwd(\"C:/Users/jmarks/Desktop/Projects/heroin/ngc/uhs4/filtered_snp_exploration/\")\n",
    "\n",
    "#ea_maf_fil <- read.table(\"ea/20181211-ea-maf_report-filtered_snps.frq\", header = TRUE)\n",
    "aa_maf_fil <- read.table(\"aa/20181211-aa-maf_report-filtered_snps.frq\", header = TRUE)\n",
    "\n",
    "head(ea_maf_fil)\n",
    "head(aa_maf_fil)"
   ]
  },
  {
   "cell_type": "code",
   "execution_count": 81,
   "metadata": {},
   "outputs": [
    {
     "data": {
      "text/html": [
       "'C:/Users/jmarks/Desktop/Projects/heroin/ngc/uhs4/filtered_snp_exploration'"
      ],
      "text/latex": [
       "'C:/Users/jmarks/Desktop/Projects/heroin/ngc/uhs4/filtered\\_snp\\_exploration'"
      ],
      "text/markdown": [
       "'C:/Users/jmarks/Desktop/Projects/heroin/ngc/uhs4/filtered_snp_exploration'"
      ],
      "text/plain": [
       "[1] \"C:/Users/jmarks/Desktop/Projects/heroin/ngc/uhs4/filtered_snp_exploration\""
      ]
     },
     "metadata": {},
     "output_type": "display_data"
    }
   ],
   "source": [
    "getwd()"
   ]
  },
  {
   "cell_type": "code",
   "execution_count": 87,
   "metadata": {},
   "outputs": [
    {
     "data": {
      "image/png": "[encoded data removed]",
      "text/plain": [
       "Plot with title \"AA MAF Distribution, Genome-Wide:\n",
       " Filtered SNPs\""
      ]
     },
     "metadata": {},
     "output_type": "display_data"
    }
   ],
   "source": [
    "par(mfrow = c(2,1))\n",
    "hist(ea_maf_fil$MAF, col = \"blue\", main = \"EA MAF Distribution, Genome-Wide:\\n Filtered SNPs\",\n",
    "     ylim = c(0,1e+05), xlab = \"MAF\")\n",
    "hist(aa_maf_fil$MAF, col = \"blue\", main = \"AA MAF Distribution, Genome-Wide:\\n Filtered SNPs\",\n",
    "     ylim = c(0,1e+05), xlab = \"MAF\")"
   ]
  },
  {
   "cell_type": "markdown",
   "metadata": {},
   "source": [
    "## call rate >= 10%\n",
    "Can you separate variants filter out due to >10% missing call rate and HWE violations for the MAF distributions? What proportion of the HWE violations were due to gain vs loss of heterozygosity? Thanks."
   ]
  },
  {
   "cell_type": "code",
   "execution_count": null,
   "metadata": {},
   "outputs": [],
   "source": [
    "### Bash ###\n",
    "\n",
    "head -1 20181211-aa-maf_report-filtered_snps.frq > 20181211-aa-maf_report-call_rate-filtered_snps.frq\n",
    "awk ' NR==FNR{ map[$2]=$0; next} {print map[$2]}'\\\n",
    "    20181211-aa-maf_report-filtered_snps.frq \\\n",
    "    20181211-gcr_0.10-snps.remove >> 20181211-aa-maf_report-call_rate-filtered_snps.frq &\n",
    "\n",
    "head -1 20181211-ea-maf_report-filtered_snps.frq > 20181211-ea-maf_report-call_rate-filtered_snps.frq\n",
    "awk ' NR==FNR{ map[$2]=$0; next} {print map[$2]}'\\\n",
    "    20181211-ea-maf_report-filtered_snps.frq \\\n",
    "    20181211-gcr_0.10-snps.remove >> 20181211-ea-maf_report-call_rate-filtered_snps.frq &"
   ]
  },
  {
   "cell_type": "code",
   "execution_count": 88,
   "metadata": {},
   "outputs": [
    {
     "data": {
      "text/html": [
       "<table>\n",
       "<thead><tr><th scope=col>CHR</th><th scope=col>SNP</th><th scope=col>A1</th><th scope=col>A2</th><th scope=col>MAF</th><th scope=col>NCHROBS</th></tr></thead>\n",
       "<tbody>\n",
       "\t<tr><td>1          </td><td>rs4477212  </td><td>G          </td><td>A          </td><td>0.1295     </td><td>1228       </td></tr>\n",
       "\t<tr><td>1          </td><td>rs114525117</td><td>A          </td><td>G          </td><td>0.1878     </td><td>1198       </td></tr>\n",
       "\t<tr><td>1          </td><td>rs144708130</td><td>A          </td><td>G          </td><td>0.1403     </td><td>1212       </td></tr>\n",
       "\t<tr><td>1          </td><td>rs12562034 </td><td>A          </td><td>G          </td><td>0.2112     </td><td>1174       </td></tr>\n",
       "\t<tr><td>1          </td><td>rs59066358 </td><td>A          </td><td>G          </td><td>0.2275     </td><td>1222       </td></tr>\n",
       "\t<tr><td>1          </td><td>rs12022420 </td><td>A          </td><td>G          </td><td>0.1355     </td><td>1166       </td></tr>\n",
       "</tbody>\n",
       "</table>\n"
      ],
      "text/latex": [
       "\\begin{tabular}{r|llllll}\n",
       " CHR & SNP & A1 & A2 & MAF & NCHROBS\\\\\n",
       "\\hline\n",
       "\t 1           & rs4477212   & G           & A           & 0.1295      & 1228       \\\\\n",
       "\t 1           & rs114525117 & A           & G           & 0.1878      & 1198       \\\\\n",
       "\t 1           & rs144708130 & A           & G           & 0.1403      & 1212       \\\\\n",
       "\t 1           & rs12562034  & A           & G           & 0.2112      & 1174       \\\\\n",
       "\t 1           & rs59066358  & A           & G           & 0.2275      & 1222       \\\\\n",
       "\t 1           & rs12022420  & A           & G           & 0.1355      & 1166       \\\\\n",
       "\\end{tabular}\n"
      ],
      "text/markdown": [
       "\n",
       "CHR | SNP | A1 | A2 | MAF | NCHROBS | \n",
       "|---|---|---|---|---|---|\n",
       "| 1           | rs4477212   | G           | A           | 0.1295      | 1228        | \n",
       "| 1           | rs114525117 | A           | G           | 0.1878      | 1198        | \n",
       "| 1           | rs144708130 | A           | G           | 0.1403      | 1212        | \n",
       "| 1           | rs12562034  | A           | G           | 0.2112      | 1174        | \n",
       "| 1           | rs59066358  | A           | G           | 0.2275      | 1222        | \n",
       "| 1           | rs12022420  | A           | G           | 0.1355      | 1166        | \n",
       "\n",
       "\n"
      ],
      "text/plain": [
       "  CHR SNP         A1 A2 MAF    NCHROBS\n",
       "1 1   rs4477212   G  A  0.1295 1228   \n",
       "2 1   rs114525117 A  G  0.1878 1198   \n",
       "3 1   rs144708130 A  G  0.1403 1212   \n",
       "4 1   rs12562034  A  G  0.2112 1174   \n",
       "5 1   rs59066358  A  G  0.2275 1222   \n",
       "6 1   rs12022420  A  G  0.1355 1166   "
      ]
     },
     "metadata": {},
     "output_type": "display_data"
    },
    {
     "data": {
      "text/html": [
       "<table>\n",
       "<thead><tr><th scope=col>CHR</th><th scope=col>SNP</th><th scope=col>A1</th><th scope=col>A2</th><th scope=col>MAF</th><th scope=col>NCHROBS</th></tr></thead>\n",
       "<tbody>\n",
       "\t<tr><td>1          </td><td>rs4477212  </td><td>G          </td><td>A          </td><td>0.1256     </td><td>1330       </td></tr>\n",
       "\t<tr><td>1          </td><td>rs114525117</td><td>A          </td><td>G          </td><td>0.2049     </td><td>1230       </td></tr>\n",
       "\t<tr><td>1          </td><td>rs144708130</td><td>A          </td><td>G          </td><td>0.1704     </td><td>1244       </td></tr>\n",
       "\t<tr><td>1          </td><td>rs150785412</td><td>A          </td><td>G          </td><td>0.2416     </td><td>1366       </td></tr>\n",
       "\t<tr><td>1          </td><td>rs12562034 </td><td>A          </td><td>G          </td><td>0.2083     </td><td>1282       </td></tr>\n",
       "\t<tr><td>1          </td><td>rs59066358 </td><td>A          </td><td>G          </td><td>0.3528     </td><td>1304       </td></tr>\n",
       "</tbody>\n",
       "</table>\n"
      ],
      "text/latex": [
       "\\begin{tabular}{r|llllll}\n",
       " CHR & SNP & A1 & A2 & MAF & NCHROBS\\\\\n",
       "\\hline\n",
       "\t 1           & rs4477212   & G           & A           & 0.1256      & 1330       \\\\\n",
       "\t 1           & rs114525117 & A           & G           & 0.2049      & 1230       \\\\\n",
       "\t 1           & rs144708130 & A           & G           & 0.1704      & 1244       \\\\\n",
       "\t 1           & rs150785412 & A           & G           & 0.2416      & 1366       \\\\\n",
       "\t 1           & rs12562034  & A           & G           & 0.2083      & 1282       \\\\\n",
       "\t 1           & rs59066358  & A           & G           & 0.3528      & 1304       \\\\\n",
       "\\end{tabular}\n"
      ],
      "text/markdown": [
       "\n",
       "CHR | SNP | A1 | A2 | MAF | NCHROBS | \n",
       "|---|---|---|---|---|---|\n",
       "| 1           | rs4477212   | G           | A           | 0.1256      | 1330        | \n",
       "| 1           | rs114525117 | A           | G           | 0.2049      | 1230        | \n",
       "| 1           | rs144708130 | A           | G           | 0.1704      | 1244        | \n",
       "| 1           | rs150785412 | A           | G           | 0.2416      | 1366        | \n",
       "| 1           | rs12562034  | A           | G           | 0.2083      | 1282        | \n",
       "| 1           | rs59066358  | A           | G           | 0.3528      | 1304        | \n",
       "\n",
       "\n"
      ],
      "text/plain": [
       "  CHR SNP         A1 A2 MAF    NCHROBS\n",
       "1 1   rs4477212   G  A  0.1256 1330   \n",
       "2 1   rs114525117 A  G  0.2049 1230   \n",
       "3 1   rs144708130 A  G  0.1704 1244   \n",
       "4 1   rs150785412 A  G  0.2416 1366   \n",
       "5 1   rs12562034  A  G  0.2083 1282   \n",
       "6 1   rs59066358  A  G  0.3528 1304   "
      ]
     },
     "metadata": {},
     "output_type": "display_data"
    }
   ],
   "source": [
    "setwd(\"C:/Users/jmarks/Desktop/Projects/heroin/ngc/uhs4/filtered_snp_exploration/\")\n",
    "\n",
    "ea_maf_call <- read.table(\"ea/20181211-ea-maf_report-call_rate-filtered_snps.frq\", header = TRUE)\n",
    "aa_maf_call <- read.table(\"aa/20181211-aa-maf_report-call_rate-filtered_snps.frq\", header = TRUE)\n",
    "\n",
    "head(ea_maf_call)\n",
    "head(aa_maf_call)"
   ]
  },
  {
   "cell_type": "code",
   "execution_count": 93,
   "metadata": {},
   "outputs": [
    {
     "data": {
      "image/png": "[encoded data removed]",
      "text/plain": [
       "Plot with title \"AA MAF Distribution, Genome-Wide:\n",
       " 10% Call Rate Filtered SNPs\""
      ]
     },
     "metadata": {},
     "output_type": "display_data"
    }
   ],
   "source": [
    "par(mfrow = c(2,1))\n",
    "hist(ea_maf_call$MAF, col = \"blue\", main = \"EA MAF Distribution, Genome-Wide,:\\n 10% Call Rate Filtered SNPs\",\n",
    "     ylim = c(0,1e+05), xlab = \"MAF\")\n",
    "hist(aa_maf_call$MAF, col = \"blue\", main = \"AA MAF Distribution, Genome-Wide:\\n 10% Call Rate Filtered SNPs\",\n",
    "     ylim = c(0,1e+05), xlab = \"MAF\")\n"
   ]
  },
  {
   "cell_type": "markdown",
   "metadata": {},
   "source": [
    "## HWE"
   ]
  },
  {
   "cell_type": "code",
   "execution_count": null,
   "metadata": {},
   "outputs": [],
   "source": [
    "### Bash ##\n",
    "head -1 20181211-aa-maf_report-filtered_snps.frq > 20181211-aa-maf_report-hwe_filtered_snps.frq\n",
    "awk ' NR==FNR{ map[$2]=$0; next} {print map[$2]}'\\\n",
    "    20181211-aa-maf_report-filtered_snps.frq \\\n",
    "    20181211-hwe-snps.remove >> 20181211-aa-maf_report-hwe_filtered_snps.frq &\n",
    "\n",
    "head -1 20181211-ea-maf_report-filtered_snps.frq > 20181211-ea-maf_report-hwe_filtered_snps.frq\n",
    "awk ' NR==FNR{ map[$2]=$0; next} {print map[$2]}'\\\n",
    "    20181211-ea-maf_report-filtered_snps.frq \\\n",
    "    20181211-hwe-snps.remove >> 20181211-ea-maf_report-hwe_filtered_snps.frq &"
   ]
  },
  {
   "cell_type": "code",
   "execution_count": 99,
   "metadata": {},
   "outputs": [
    {
     "data": {
      "text/html": [
       "<table>\n",
       "<thead><tr><th scope=col>CHR</th><th scope=col>SNP</th><th scope=col>A1</th><th scope=col>A2</th><th scope=col>MAF</th><th scope=col>NCHROBS</th></tr></thead>\n",
       "<tbody>\n",
       "\t<tr><td>1          </td><td>rs4477212  </td><td>G          </td><td>A          </td><td>0.1295     </td><td>1228       </td></tr>\n",
       "\t<tr><td>1          </td><td>rs114525117</td><td>A          </td><td>G          </td><td>0.1878     </td><td>1198       </td></tr>\n",
       "\t<tr><td>1          </td><td>rs144708130</td><td>A          </td><td>G          </td><td>0.1403     </td><td>1212       </td></tr>\n",
       "\t<tr><td>1          </td><td>rs150785412</td><td>A          </td><td>G          </td><td>0.1698     </td><td>1366       </td></tr>\n",
       "\t<tr><td>1          </td><td>rs12562034 </td><td>A          </td><td>G          </td><td>0.2112     </td><td>1174       </td></tr>\n",
       "\t<tr><td>1          </td><td>rs59066358 </td><td>A          </td><td>G          </td><td>0.2275     </td><td>1222       </td></tr>\n",
       "</tbody>\n",
       "</table>\n"
      ],
      "text/latex": [
       "\\begin{tabular}{r|llllll}\n",
       " CHR & SNP & A1 & A2 & MAF & NCHROBS\\\\\n",
       "\\hline\n",
       "\t 1           & rs4477212   & G           & A           & 0.1295      & 1228       \\\\\n",
       "\t 1           & rs114525117 & A           & G           & 0.1878      & 1198       \\\\\n",
       "\t 1           & rs144708130 & A           & G           & 0.1403      & 1212       \\\\\n",
       "\t 1           & rs150785412 & A           & G           & 0.1698      & 1366       \\\\\n",
       "\t 1           & rs12562034  & A           & G           & 0.2112      & 1174       \\\\\n",
       "\t 1           & rs59066358  & A           & G           & 0.2275      & 1222       \\\\\n",
       "\\end{tabular}\n"
      ],
      "text/markdown": [
       "\n",
       "CHR | SNP | A1 | A2 | MAF | NCHROBS | \n",
       "|---|---|---|---|---|---|\n",
       "| 1           | rs4477212   | G           | A           | 0.1295      | 1228        | \n",
       "| 1           | rs114525117 | A           | G           | 0.1878      | 1198        | \n",
       "| 1           | rs144708130 | A           | G           | 0.1403      | 1212        | \n",
       "| 1           | rs150785412 | A           | G           | 0.1698      | 1366        | \n",
       "| 1           | rs12562034  | A           | G           | 0.2112      | 1174        | \n",
       "| 1           | rs59066358  | A           | G           | 0.2275      | 1222        | \n",
       "\n",
       "\n"
      ],
      "text/plain": [
       "  CHR SNP         A1 A2 MAF    NCHROBS\n",
       "1 1   rs4477212   G  A  0.1295 1228   \n",
       "2 1   rs114525117 A  G  0.1878 1198   \n",
       "3 1   rs144708130 A  G  0.1403 1212   \n",
       "4 1   rs150785412 A  G  0.1698 1366   \n",
       "5 1   rs12562034  A  G  0.2112 1174   \n",
       "6 1   rs59066358  A  G  0.2275 1222   "
      ]
     },
     "metadata": {},
     "output_type": "display_data"
    },
    {
     "data": {
      "text/html": [
       "<table>\n",
       "<thead><tr><th scope=col>CHR</th><th scope=col>SNP</th><th scope=col>A1</th><th scope=col>A2</th><th scope=col>MAF</th><th scope=col>NCHROBS</th></tr></thead>\n",
       "<tbody>\n",
       "\t<tr><td>1          </td><td>rs202115817</td><td>A          </td><td>G          </td><td>0.007722   </td><td>1554       </td></tr>\n",
       "\t<tr><td>1          </td><td>rs114525117</td><td>A          </td><td>G          </td><td>0.204900   </td><td>1230       </td></tr>\n",
       "\t<tr><td>1          </td><td>rs12562034 </td><td>A          </td><td>G          </td><td>0.208300   </td><td>1282       </td></tr>\n",
       "\t<tr><td>1          </td><td>rs59066358 </td><td>A          </td><td>G          </td><td>0.352800   </td><td>1304       </td></tr>\n",
       "\t<tr><td>1          </td><td>rs12022420 </td><td>A          </td><td>G          </td><td>0.175200   </td><td>1296       </td></tr>\n",
       "\t<tr><td>1          </td><td>rs12124819 </td><td>G          </td><td>A          </td><td>0.154600   </td><td>1216       </td></tr>\n",
       "</tbody>\n",
       "</table>\n"
      ],
      "text/latex": [
       "\\begin{tabular}{r|llllll}\n",
       " CHR & SNP & A1 & A2 & MAF & NCHROBS\\\\\n",
       "\\hline\n",
       "\t 1           & rs202115817 & A           & G           & 0.007722    & 1554       \\\\\n",
       "\t 1           & rs114525117 & A           & G           & 0.204900    & 1230       \\\\\n",
       "\t 1           & rs12562034  & A           & G           & 0.208300    & 1282       \\\\\n",
       "\t 1           & rs59066358  & A           & G           & 0.352800    & 1304       \\\\\n",
       "\t 1           & rs12022420  & A           & G           & 0.175200    & 1296       \\\\\n",
       "\t 1           & rs12124819  & G           & A           & 0.154600    & 1216       \\\\\n",
       "\\end{tabular}\n"
      ],
      "text/markdown": [
       "\n",
       "CHR | SNP | A1 | A2 | MAF | NCHROBS | \n",
       "|---|---|---|---|---|---|\n",
       "| 1           | rs202115817 | A           | G           | 0.007722    | 1554        | \n",
       "| 1           | rs114525117 | A           | G           | 0.204900    | 1230        | \n",
       "| 1           | rs12562034  | A           | G           | 0.208300    | 1282        | \n",
       "| 1           | rs59066358  | A           | G           | 0.352800    | 1304        | \n",
       "| 1           | rs12022420  | A           | G           | 0.175200    | 1296        | \n",
       "| 1           | rs12124819  | G           | A           | 0.154600    | 1216        | \n",
       "\n",
       "\n"
      ],
      "text/plain": [
       "  CHR SNP         A1 A2 MAF      NCHROBS\n",
       "1 1   rs202115817 A  G  0.007722 1554   \n",
       "2 1   rs114525117 A  G  0.204900 1230   \n",
       "3 1   rs12562034  A  G  0.208300 1282   \n",
       "4 1   rs59066358  A  G  0.352800 1304   \n",
       "5 1   rs12022420  A  G  0.175200 1296   \n",
       "6 1   rs12124819  G  A  0.154600 1216   "
      ]
     },
     "metadata": {},
     "output_type": "display_data"
    }
   ],
   "source": [
    "setwd(\"C:/Users/jmarks/Desktop/Projects/heroin/ngc/uhs4/filtered_snp_exploration/\")\n",
    "\n",
    "ea_maf_hwe <- read.table(\"ea/20181211-ea-maf_report-hwe_filtered_snps.frq\", header = TRUE)\n",
    "#aa_maf_hwe <- read.table(\"aa/20181211-aa-maf_report-hwe_filtered_snps.frq\", header = TRUE)\n",
    "\n",
    "head(ea_maf_hwe)\n",
    "head(aa_maf_hwe)"
   ]
  },
  {
   "cell_type": "code",
   "execution_count": 100,
   "metadata": {},
   "outputs": [
    {
     "data": {
      "image/png": "[encoded data removed]",
      "text/plain": [
       "Plot with title \"AA MAF Distribution, Genome-Wide:\n",
       " HWE Filtered SNPs\""
      ]
     },
     "metadata": {},
     "output_type": "display_data"
    }
   ],
   "source": [
    "par(mfrow = c(2,1))\n",
    "hist(ea_maf_hwe$MAF, col = \"brown\", main = \"EA MAF Distribution, Genome-Wide:\\n HWE Filtered SNPs\",\n",
    "     ylim = c(0,1e+05), xlab = \"MAF\")\n",
    "hist(aa_maf_hwe$MAF, col = \"brown\", main = \"AA MAF Distribution, Genome-Wide:\\n HWE Filtered SNPs\",\n",
    "     ylim = c(0,1e+05), xlab = \"MAF\")\n"
   ]
  },
  {
   "cell_type": "markdown",
   "metadata": {},
   "source": [
    "# Nearest Neighbor Distribution\n",
    "Do variants tend to be in close proximity? (Easiest approach would be to calculate distribution of \"distance to closest neighbor variant\" using sorted chr files)"
   ]
  },
  {
   "cell_type": "code",
   "execution_count": null,
   "metadata": {},
   "outputs": [],
   "source": [
    "setwd(\"C:/Users/jmarks/Desktop/Projects/heroin/ngc/uhs4/filtered_snp_exploration/\")\n",
    "\n",
    "aa_chr22 <- read.table()"
   ]
  },
  {
   "cell_type": "code",
   "execution_count": null,
   "metadata": {},
   "outputs": [],
   "source": []
  },
  {
   "cell_type": "markdown",
   "metadata": {},
   "source": [
    "#  STRUCTURE Analysis—Detecting ancestral outliears (revisit)\n",
    "[STRUCTURE](https://web.stanford.edu/group/pritchardlab/structure.html) is a software tool that can be used to identify admixed individuals, among other uses. By comparing the study subjects with reference panel populations such as HapMap or 1000 Genomes, we can estimate the composition of an individual's ancestry to determine any discrepancies between self-reporting and genetic information. For this study data, we will be comparing the individuals to 3 different superpopulations from the 1000 Genomes Phase 3 reference panel\n",
    "\n",
    "* AFR (African)\n",
    "* EAS (East Asian)\n",
    "* EUR (European)\n",
    "\n",
    "**SNP subset selection**\n",
    "For computational efficiency 10,000 SNPs are randomly chosen from the intersection of SNPs in the study data with the 3 1000 Genomes superpopulations of interest. As of 10/09/2017 the binary filesets per chromosome in PLINK format for 1000G Phase 3 can be found in \n",
    "`/shared/data/ref_panels/1000G/2013.05/plink`. According to the [1000 Genomes paper](https://www.ncbi.nlm.nih.gov/pmc/articles/PMC4750478/).\n",
    "\n",
    "**NOTE:** The location `/shared/data/ref_panels/1000G/2014.10/1000GP_Phase3` also contatins 1000G phase 3 data derived from the May 2013 release. The difference is that it was downloaded from the [IMPUTE2 website](https://mathgen.stats.ox.ac.uk/impute/1000GP_Phase3.html) and reformatted to be directly compatible with IMPUTE2.\n",
    "\n",
    "___\n",
    "\n",
    "**NOTE**: After discussion in the group lab meeting on 20181212, it was decided that we want to investigate the bias in the SNPS that were filtered out after the 10% call rate & HWE filters were applied. Specifically, we are going to create a PLINK set of only the SNPs that filtered out. We are going to create a STRUCTURE plot with these SNPs and see what the subsequent triangle plots look like that are based on a 10K subset of these SNPs. \n",
    "\n",
    "## Create PLINK filtered data set\n",
    "Leave only the \"bad\" SNPs—filter out the \"good\" SNPs. In particular, create the PLINK filtered data sets with only the SNPs that were identified to be removed during the 10% call rate and HWE filters. Also note we are assuming ignorance about the ancestry of the samples because we have no self reported data at this time—the phenotype file has not been constructed yet. "
   ]
  },
  {
   "cell_type": "code",
   "execution_count": null,
   "metadata": {},
   "outputs": [],
   "source": [
    "procD=/shared/data/studies/heroin/uhs4/genotype/observed/processing/005\n",
    "anlist=\"ea\"\n",
    "## use the following file to filter from (this is the file with all variants, both good and bad)\n",
    "#genotypes_b37_dbsnp138_flipped.bed\n",
    "\n",
    "## create a \"keep\" list. Note that yesterday (20181211) I had create a PLINK filtered set \n",
    "## of SNPs that were only the \"bad\" SNPs\n",
    "for an in $anlist;do\n",
    "    cut -f2 $procD/$an/autosomes/20181211-$an-only-filtered-variants-remaining.bim \\\n",
    "        > $procD/$an/autosomes/20181212-$an-gcr_0.10-hwe_0.0001-removed-variants.list\n",
    "done\n",
    "\n",
    "\"\"\"\n",
    "wc -l 20181212-ea-gcr_0.10-hwe_0.0001-removed-variants.list\n",
    "907456 20181212-ea-gcr_0.10-hwe_0.0001-removed-variants.list\n",
    "\"\"\"\n",
    "\n",
    "for an in $anlist;do\n",
    "    /shared/bioinformatics/software/third_party/plink-1.90-beta-4.10-x86_64/plink \\\n",
    "        --noweb \\\n",
    "        --bfile $procD/${an}/autosomes/genotypes_b37_dbsnp138_flipped \\\n",
    "        --extract $procD/${an}/autosomes/20181212-$an-gcr_0.10-hwe_0.0001-removed-variants.list \\\n",
    "        --make-bed \\\n",
    "        --out $procD/${an}/autosomes/20181212-$an-grc_0.10-hwe_0.0001-removed-variants\n",
    "done"
   ]
  },
  {
   "cell_type": "markdown",
   "metadata": {},
   "source": [
    "## Subset to 10K SNPs\n",
    "Create a subset of 10K SNPs from these \"bad\" SNPs."
   ]
  },
  {
   "cell_type": "code",
   "execution_count": null,
   "metadata": {},
   "outputs": [],
   "source": [
    "## EC2 console ##\n",
    "mkdir $procD/structure\n",
    "\n",
    "\n",
    "# Get lists of non-A/T and non-C/G SNPs\n",
    "for ancestry in $anlist; do\n",
    "    perl -lane 'if (($F[4] eq \"A\" && $F[5] ne \"T\") || ($F[4] eq \"T\" && $F[5] ne \"A\") || ($F[4] eq \"C\" && $F[5] ne \"G\") || ($F[4] eq \"G\" && $F[5] ne \"C\")) { print $F[1]; }' \\\n",
    "        $procD/${an}/autosomes/20181212-$an-grc_0.10-hwe_0.0001-removed-variants.bim | \\\n",
    "    sort -u | \\\n",
    "    grep \"rs\" \\\n",
    "    > $procD/structure/${ancestry}_no_at_cg_snps.txt\n",
    "done\n",
    "\n",
    "## Get rsID overlap between study data ancestry groups\n",
    "#comm -12 <(comm -12 structure/aa_no_at_cg_snps.txt structure/ea_no_at_cg_snps.txt) structure/ha_no_at_cg_snps.txt | \\\n",
    "#sort > structure/aa_ea_ha_shared_snps.txt\n",
    "#\n",
    "#wc -l structure/aa_ea_ha_shared_snps.txt\n",
    "#\"\"\"476061 structure/aa_ea_ha_shared_snps.txt\"\"\"\n",
    "#\n",
    "wc -l $procD/structure/ea_no_at_cg_snps.txt\n",
    "\"\"\"\n",
    "1010113 /shared/data/studies/heroin/uhs4/genotype/observed/processing/004/structure/ea_no_at_cg_snps.txt\n",
    "\"\"\"\n",
    "\n",
    "\n",
    "# Get list of variants from 1000G\n",
    "mkdir $procD/structure/1000g_data\n",
    "/shared/bioinformatics/software/scripts/qsub_job.sh \\\n",
    "    --job_name merge_1000g_snps \\\n",
    "    --script_prefix $procD/structure/1000g_data/merge_1000g_snps \\\n",
    "    --mem 3 \\\n",
    "    --priority 0 \\\n",
    "    --program \"cut -f2,2 /shared/data/ref_panels/1000G/2013.05/plink/ALL.chr{1..22}.bim | \\\n",
    "        grep \\\"rs\\\" | \\\n",
    "        sort -u > $procD/structure/1000g_data/1000g_phase3_snps.txt\"\n",
    "\n",
    "# This should always be 79,873,045\n",
    "wc -l $procD/structure/1000g_data/1000g_phase3_snps.txt\n",
    "\"\"\"\n",
    "79873045 structure/1000g_data/1000g_phase3_snps.txt\n",
    "\"\"\"\n",
    "\n",
    "# Get SNP overlap between study data and 1000G\n",
    "comm -12 $procD/structure/${ancestry}_no_at_cg_snps.txt $procD/structure/1000g_data/1000g_phase3_snps.txt >\\\n",
    "    $procD/structure/${study}_1000g_shared_snps.txt\n",
    "\n",
    "wc -l $procD/structure/${study}_1000g_shared_snps.txt \n",
    "\"\"\"\n",
    "907965 /shared/data/studies/heroin/uhs4/genotype/observed/processing/004/structure/uhs4_1000g_shared_snps.txt\n",
    "\"\"\"\n",
    "\n",
    "# Select 10,000 random SNPs from study and 1000G overlap\n",
    "perl -ne 'print rand().\"\\t\".$_' $procD/structure/${study}_1000g_shared_snps.txt | \\\n",
    "    sort -k1,1 | \\\n",
    "    head -10000 | \\\n",
    "    cut -f2,2 \\\n",
    "    > $procD/structure/10k_snp_random_sample.txt"
   ]
  },
  {
   "cell_type": "markdown",
   "metadata": {},
   "source": [
    "### Extract SNP subset PLINK binary filesets for Study data"
   ]
  },
  {
   "cell_type": "code",
   "execution_count": null,
   "metadata": {},
   "outputs": [],
   "source": [
    "## EC2 console ##\n",
    "\n",
    "# Create ped and map files for study genotype data for SNP subset\n",
    "for ancestry in $anlist; do\n",
    "    /shared/bioinformatics/software/third_party/plink-1.90-beta-4.10-x86_64/plink \\\n",
    "        --noweb \\\n",
    "        --bfile $procD/${ancestry}/autosomes/genotypes_b37_dbsnp138_flipped \\\n",
    "        --extract $procD/structure/10k_snp_random_sample.txt \\\n",
    "        --snps-only just-acgt \\\n",
    "        --recode \\\n",
    "        --out $procD/structure/${ancestry}_10k_snp_random_sample\n",
    "done"
   ]
  },
  {
   "cell_type": "markdown",
   "metadata": {},
   "source": [
    "### Extract SNP subset PLINK binary filesets for 1000G data\n",
    "\n",
    "The 05/2013 release of the 1000 Genomes data have been previously processed and converted to PLINK binary fileset format, but the files include all the 1000G individuals. We are interested in only four superpopulations, so we create filesets specifically for each of these groups. It was brought to my attention that 1000G Phase 3 rsIDs may be duplicated across chromosomes potentially causing chromosome merging issues. For that reason, it is typically recommended to process the chromosomes separately initially, then combine post SNP subsetting. Subject IDs with superpopulation classifications are available at:\n",
    "\n",
    "`/shared/data/ref_panels/1000G/igsr_samples.tsv`"
   ]
  },
  {
   "cell_type": "code",
   "execution_count": null,
   "metadata": {},
   "outputs": [],
   "source": [
    "## EC2 console ##\n",
    "\n",
    "# Ancestry specific directories\n",
    "for pop in {AFR,EAS,EUR}; do\n",
    "    mkdir $procD/structure/1000g_data/${pop}\n",
    "done\n",
    "\n",
    "# Get subject IDs by ancestry\n",
    "awk 'BEGIN { FS=\"\\t\"; OFS=\"\\t\" } { if($7==\"African\"){print $1,$1} }' /shared/data/ref_panels/1000G/2013.05/igsr_samples.tsv \\\n",
    "    > $procD/structure/1000g_data/AFR/AFR_subject_ids.txt\n",
    "awk 'BEGIN { FS=\"\\t\"; OFS=\"\\t\" } { if($7==\"East Asian\"){print $1,$1} }' /shared/data/ref_panels/1000G/2013.05/igsr_samples.tsv \\\n",
    "    > $procD/structure/1000g_data/EAS/EAS_subject_ids.txt\n",
    "awk 'BEGIN { FS=\"\\t\"; OFS=\"\\t\" } { if($7==\"European\"){print $1,$1} }' /shared/data/ref_panels/1000G/2013.05/igsr_samples.tsv \\\n",
    "    > $procD/structure/1000g_data/EUR/EUR_subject_ids.txt\n",
    "\n",
    "# Make new binary filesets for each 1000G group\n",
    "# only keeping the data from individuals which are from 1 of the three super populations\n",
    "for pop in {AFR,EAS,EUR}; do\n",
    "    for chr in {1..22}; do\n",
    "        /shared/bioinformatics/software/scripts/qsub_job.sh \\\n",
    "            --job_name ${pop}_${chr}_filter \\\n",
    "            --script_prefix $procD/structure/1000g_data/${pop}/ancestry_partition_chr${chr} \\\n",
    "            --mem 15.5 \\\n",
    "            --priority 0 \\\n",
    "            --program /shared/bioinformatics/software/third_party/plink-1.90-beta-4.10-x86_64/plink  \\\n",
    "                --noweb \\\n",
    "                --memory 10000 \\\n",
    "                --bfile /shared/data/ref_panels/1000G/2013.05/plink/ALL.chr${chr} \\\n",
    "                --keep $procD/structure/1000g_data/${pop}/${pop}_subject_ids.txt \\\n",
    "                --extract $procD/structure/10k_snp_random_sample.txt \\\n",
    "                --make-bed \\\n",
    "                --out $procD/structure/1000g_data/${pop}/${pop}_chr${chr}_10k_snp_random_sample\n",
    "    done\n",
    "done\n",
    "\n",
    "\n",
    "# Create merge lists and merge autosomes for each 1000G population\n",
    "data_dir=$procD/structure/1000g_data\n",
    "for pop in {AFR,EAS,EUR}; do\n",
    "    echo \"${data_dir}/${pop}/${pop}_chr1_10k_snp_random_sample\" > ${data_dir}/${pop}/${pop}_autosome_merge_list.txt\n",
    "    for chr in {2..22}; do\n",
    "        echo \"${data_dir}/${pop}/${pop}_chr${chr}_10k_snp_random_sample\" \\\n",
    "        >> ${data_dir}/${pop}/${pop}_autosome_merge_list.txt\n",
    "    done\n",
    "done\n",
    "\n",
    "for pop in {AFR,EAS,EUR}; do\n",
    "    /shared/bioinformatics/software/scripts/qsub_job.sh \\\n",
    "        --job_name ${pop}_merge_plink_filesets \\\n",
    "        --script_prefix $procD/structure/1000g_data/${pop}/merge_plink_filesets \\\n",
    "        --mem 4 \\\n",
    "        --priority 0 \\\n",
    "        --program /shared/bioinformatics/software/third_party/plink-1.90-beta-4.10-x86_64/plink \\\n",
    "            --noweb \\\n",
    "            --memory 4000 \\\n",
    "            --merge-list $procD/structure/1000g_data/${pop}/${pop}_autosome_merge_list.txt \\\n",
    "            --snps-only just-acgt \\\n",
    "            --make-bed \\\n",
    "            --out $procD/structure/1000g_data/${pop}/${pop}_all_autosomes_10k_snp_random_sample\n",
    "done"
   ]
  },
  {
   "cell_type": "markdown",
   "metadata": {},
   "source": [
    "### Discrepancy assessment between Study and 1000G data\n",
    "As a quality check that the SNP data subsampled from the Kreek and 1000 Genomes data are the same, I will attempt to merge an arbitrarily selected group from each data set using PLINK. If any errors are found, PLINK will generate an error file. Likely causes of errors would be:\n",
    "\n",
    "* SNP genomic coordinates not matching\n",
    "* SNP duplicates found\n",
    "* SNP strand orientation flipped\n",
    "\n",
    "If errors are found the two options for moving forward are\n",
    "\n",
    "1. Re-run the 10,000 SNP subsampling and hope the SNPs chosen do not raise issues\n",
    "2. Remove the problematic SNPs\n",
    "Option #2 is the prefered approach and the one I will be taking."
   ]
  },
  {
   "cell_type": "code",
   "execution_count": null,
   "metadata": {},
   "outputs": [],
   "source": [
    "## EC2 console ##\n",
    "\n",
    "ancestry=\"ea\"\n",
    "# Merge EA and EUR genotype files\n",
    "# --merge-mode 7 (no merge) Report mismatching nonmissing calls.\n",
    "/shared/bioinformatics/software/third_party/plink-1.90-beta-4.10-x86_64/plink \\\n",
    "    --noweb \\\n",
    "    --file $procD/structure/${ancestry}_10k_snp_random_sample \\\n",
    "    --bmerge $procD/structure/1000g_data/EUR/EUR_all_autosomes_10k_snp_random_sample \\\n",
    "    --merge-mode 7 \\\n",
    "    --out $procD/structure/1000g_EUR_${study}_${ancestry}_10k_snp_random_sample\n",
    "\n",
    "\n",
    "# There is a header, so 1 is for the header\n",
    "    wc -l $procD/structure/*diff\n",
    "\"\"\"\n",
    "1 /shared/data/studies/heroin/uhs4/genotype/observed/processing/004/structure/1000g_EUR_uhs4_ea_10k_snp_random_sample.diff\n",
    "\"\"\""
   ]
  },
  {
   "cell_type": "markdown",
   "metadata": {},
   "source": [
    "### STRUCTURE input file construction\n",
    "Because our initial merge was successful, I proceed without applying a blacklist filtering."
   ]
  },
  {
   "cell_type": "code",
   "execution_count": null,
   "metadata": {},
   "outputs": [],
   "source": [
    "## EC2 console ##\n",
    "\n",
    "# Create final ped and map files for Kreek genotype data for SNP subset\n",
    "for ancestry in $anlist; do\n",
    "    /shared/bioinformatics/software/third_party/plink-1.90-beta-4.10-x86_64/plink \\\n",
    "        --noweb \\\n",
    "        --memory 3000 \\\n",
    "        --bfile $procD/${ancestry}/autosomes/genotypes_b37_dbsnp138_flipped \\\n",
    "        --extract $procD/structure/10k_snp_random_sample.txt \\\n",
    "        --snps-only just-acgt \\\n",
    "        --recode \\\n",
    "        --out $procD/structure/${ancestry}_10k_snp_random_sample.final\n",
    "done\n",
    "\n",
    "# Create ped and map files for each 1000G population\n",
    "for pop in {AFR,EAS,EUR}; do\n",
    "    /shared/bioinformatics/software/third_party/plink-1.90-beta-4.10-x86_64/plink \\\n",
    "        --noweb \\\n",
    "        --memory 1024 \\\n",
    "        --bfile $procD/structure/1000g_data/${pop}/${pop}_all_autosomes_10k_snp_random_sample \\\n",
    "        --recode \\\n",
    "        --out $procD/structure/1000g_data/${pop}_10k_snp_random_sample.final\n",
    "done\n",
    "\n",
    "\n",
    "# Final check for SNP discrepancies\n",
    "/shared/bioinformatics/software/third_party/plink-1.90-beta-4.10-x86_64/plink \\\n",
    "    --noweb \\\n",
    "    --file $procD/structure/ea_10k_snp_random_sample.final \\\n",
    "    --merge $procD/structure/1000g_data/EUR_10k_snp_random_sample.final \\\n",
    "    --recode \\\n",
    "    --out $procD/structure_input_test2\n",
    "\n",
    "\n",
    "wc -l  $procD/structure_input_test*.map\n",
    "\"\"\"\n",
    " 10000 structure_input_test2.map\n",
    "\"\"\""
   ]
  },
  {
   "cell_type": "markdown",
   "metadata": {},
   "source": [
    "No merging issues were identified in the final check, so I will use the script ped2structure.pl to convert the PED file into a STRUCTURE input file format. This script takes two inputs. The first is an integer that serves as an ID to distinguish between a reference panel population or a study data set group. The second input is an integer that is unique to each group/population regardless of whether it's from the study or 1000G data.\n",
    "\n",
    "The goal of the conversion script is to generate a single STRUCTURE input file containing genotype information for the ~10,000 (post-filtered) subsampled SNPs and the individuals from the study and 1000G data sets. Documentation on the format can be found [here](https://web.stanford.edu/group/pritchardlab/structure_software/release_versions/v2.3.4/structure_doc.pdf). The first three columns contatin the following information respectively\n",
    "\n",
    "1. Subject identifier\n",
    "2. Group/population identifier. Distinct for each ancestry group or superpopulation\n",
    "3. Boolean indicator (1=True, 0=False) specifying reference panel populations. This is used by STRUCTURE to define the ancestry groups\n",
    "\n",
    "We will be running structure assuming that the study subjects descended from three populations. The traditional approach would be to use AFR, EAS, and EUR. I will run STRUCTURE using these 1000G superpopulations.\n",
    "\n",
    "Note: for $K$ reference panel populations used for ancestry comparisons, the reference panel populations must be given group IDs between 1 and $K$."
   ]
  },
  {
   "cell_type": "code",
   "execution_count": null,
   "metadata": {},
   "outputs": [],
   "source": [
    "## EC2 console ##\n",
    "mkdir $procD/structure/input_files\n",
    "\n",
    "groupID=1 #distinguish between all groups\n",
    "\n",
    "# Append 1000G populations to STRUCTURE file\n",
    "truncate -s 0 $procD/structure/input_files/input_afr_eas_eur\n",
    "for pop in {AFR,EAS,EUR}; do\n",
    "    cat $procD/structure/1000g_data/${pop}_10k_snp_random_sample.final.ped | \\\n",
    "    /shared/bioinformatics/software/perl/file_conversion/ped2structure.pl 1 ${groupID} \\\n",
    "    >> $procD/structure/input_files/input_afr_eas_eur\n",
    "    groupID=`echo ${groupID} + 1 | bc`\n",
    "done\n",
    "\n",
    "# Append remaining ancestry groups to STRUCTURE file\n",
    "for ancestry in $anlist; do\n",
    "    cat $procD/structure/${ancestry}_10k_snp_random_sample.final.ped | \\\n",
    "    /shared/bioinformatics/software/perl/file_conversion/ped2structure.pl 0 ${groupID} \\\n",
    "    >> $procD/structure/input_files/input_afr_eas_eur\n",
    "    groupID=`echo ${groupID} + 1 | bc` \n",
    "done"
   ]
  },
  {
   "cell_type": "markdown",
   "metadata": {},
   "source": [
    "### Run STRUCUTRE\n",
    "For running STRUCTURE, the following command line parameters are explicitly specified\n",
    "\n",
    "* m - Main parameter file\n",
    "* e - Additional parameter file\n",
    "* i - Input data file\n",
    "* o - Output file\n",
    "* L - Number of loci in data file\n",
    "* N - Number of subjects\n",
    "* K - Maximum number of populations\n",
    "\n",
    "The remaining parameters are specified in the mainparams and extraparams files. Any values specified on the command-line override the values in the configuration files. Documentation on the parameter options can be found [here](https://web.stanford.edu/group/pritchardlab/structure_software/release_versions/v2.3.4/structure_doc.pdf).\n",
    "\n",
    "Because I am using combinations of three from the four 1000G superpopulations, I will run STRUCTURE for each of these combinations."
   ]
  },
  {
   "cell_type": "code",
   "execution_count": null,
   "metadata": {},
   "outputs": [],
   "source": [
    "mkdir $procD/structure/output_files\n",
    "ancestry=ea\n",
    "\n",
    "# Run Structure using AFR, EAS, and EUR\n",
    "# Why add the random number generator flag?\n",
    "L=$(wc -l $procD/structure/${ancestry}_10k_snp_random_sample.final.map | perl -lane 'print $F[0];')\n",
    "N=$(wc -l $procD/structure/input_files/input_afr_eas_eur | perl -lane 'print $F[0]/2;')\n",
    "sh /shared/bioinformatics/software/scripts/qsub_job.sh \\\n",
    "    --job_name structure_afr_eas_eur \\\n",
    "    --script_prefix $procD/structure/output_files/structure_afr_eas_eur \\\n",
    "    --mem 15 \\\n",
    "    --nslots 4 \\\n",
    "    --priority 0 \\\n",
    "    --program /shared/bioinformatics/software/third_party/structure_v2.3.4/console/structure \\\n",
    "         -m /shared/bioinformatics/software/third_party/structure_v2.3.4/console/mainparams \\\n",
    "         -e /shared/bioinformatics/software/third_party/structure_v2.3.4/console/extraparams \\\n",
    "         -i $procD/structure/input_files/input_afr_eas_eur \\\n",
    "         -o $procD/structure/output_files/output_afr_eas_eur \\\n",
    "         -L $L \\\n",
    "         -N $N \\\n",
    "         -K 3 \\\n",
    "         -D 1523"
   ]
  },
  {
   "cell_type": "markdown",
   "metadata": {},
   "source": [
    "### Producing triangle plots\n",
    "[Triangle or ternary plots](https://en.wikipedia.org/wiki/Ternary_plot) provide a means to visualize membership strength. For the purposes of the Kreek data, the triangle plots are used to determine how similar self-reports of individuals from a Kreek ancestry group are to three disparate reference populations. The visualizations allow for the identification of potential outliers that would be removed from downstream processing and analysis.\n",
    "\n",
    "**Note**: The command line Perl script below assumes a specific order of the STRUCTURE output data in regards to the group IDs. Modifications should be made as necessary to ensure that the labels match with the ID. Additionally, `triangle_plot.R` does not check that the cluster specifications match the given 1000G superpopulation labels. Be sure to assign the right label to the right group ID from previous processing steps."
   ]
  },
  {
   "cell_type": "code",
   "execution_count": null,
   "metadata": {},
   "outputs": [],
   "source": [
    "## EC2 console ##\n",
    "mkdir $procD/structure/triangle_plots\n",
    "\n",
    "#### AFR, EAS, and EUR ####\n",
    "\n",
    "# Prepare results for triangle plot\n",
    "# note to change @datasets to reflect current study\n",
    "perl -ne 'if (/%Miss/) {\n",
    "              $in=1;\n",
    "              print \"num\\tID\\tpop\\tcluster1\\tcluster2\\tcluster3\\n\";\n",
    "          }\n",
    "          if ($in==1 && !/Label/ && !/^\\s+$/) {\n",
    "              @datasets=(\"AFR\",\"EAS\",\"EUR\", \"UHS4\");\n",
    "              s/^\\s+//g;\n",
    "              @F=split /\\s+/;\n",
    "              # Grab only study groups by ID\n",
    "              if ($F[3] > 3) {\n",
    "                  print $F[0].\"\\t\".$F[1].\"\\t\".$datasets[$F[3]-1].\"\\t\".$F[5].\"\\t\".$F[6].\"\\t\".$F[7].\"\\n\";\n",
    "              }\n",
    "          } \n",
    "          s/\\s+//g;\n",
    "          if ($_ eq \"\") { $in=0; }' $procD/structure/output_files/output_afr_eas_eur_f > \\\n",
    "    $procD/structure/triangle_plots/afr_eas_eur.triangle_input\n",
    "\n",
    "# Prepare id xref file\n",
    "perl -ne 'if ($count==0) { print \"num\\tID\\n\"; }\n",
    "          if (!defined $even) { print STDERR \"LALALA\\n\";} \n",
    "          if ($even==0) {/^(\\S+)/; print $count+1; print \"\\t\".$1.\"\\n\"; $count++; $even=1}\n",
    "          else {$even=0}' $procD/structure/input_files/input_afr_eas_eur > \\\n",
    "    $procD/structure/triangle_plots/afr_eas_eur_id_xref\n",
    "\n",
    "# Generate triangle plot\n",
    "Rscript /shared/bioinformatics/software/R/triangle_plot.R \\\n",
    "    --data $procD/structure/triangle_plots/afr_eas_eur.triangle_input \\\n",
    "    --prefix $procD/structure/triangle_plots/afr_eas_eur \\\n",
    "    --cluster1 African \\\n",
    "    --cluster2 Asian \\\n",
    "    --cluster3 European \\\n",
    "    --xref $procD/structure/triangle_plots/afr_eas_eur_id_xref"
   ]
  },
  {
   "cell_type": "code",
   "execution_count": 4,
   "metadata": {},
   "outputs": [
    {
     "data": {
      "image/png": "[encoded data removed]"
     },
     "metadata": {
      "height": 800,
      "width": 800
     },
     "output_type": "display_data"
    }
   ],
   "source": [
    "## R console ##\n",
    "library(\"IRdisplay\")\n",
    "display_png(file=\"C:/Users/jmarks/Desktop/Projects/heroin/ngc/uhs4/qc/002/afr_eas_eur_UHS4.jpg\", width=800, height=800)"
   ]
  },
  {
   "cell_type": "code",
   "execution_count": null,
   "metadata": {},
   "outputs": [],
   "source": []
  },
  {
   "cell_type": "code",
   "execution_count": null,
   "metadata": {},
   "outputs": [],
   "source": []
  },
  {
   "cell_type": "code",
   "execution_count": null,
   "metadata": {},
   "outputs": [],
   "source": []
  },
  {
   "cell_type": "code",
   "execution_count": null,
   "metadata": {},
   "outputs": [],
   "source": [
    "\n",
    "\n",
    "\n",
    "\n",
    "\n",
    "\n",
    "\n",
    "\n",
    "\n",
    "\n",
    "\n",
    "\n",
    "\n",
    "\n",
    "\n",
    "\n",
    "\n",
    "\n",
    "\n",
    "\n",
    "\n",
    "\n",
    "\n",
    "\n",
    "\n"
   ]
  }
 ],
 "metadata": {
  "kernelspec": {
   "display_name": "R",
   "language": "R",
   "name": "ir"
  },
  "language_info": {
   "codemirror_mode": "r",
   "file_extension": ".r",
   "mimetype": "text/x-r-source",
   "name": "R",
   "pygments_lexer": "r",
   "version": "3.4.3"
  },
  "toc": {
   "nav_menu": {},
   "number_sections": true,
   "sideBar": true,
   "skip_h1_title": false,
   "toc_cell": false,
   "toc_position": {
    "height": "798px",
    "left": "0px",
    "right": "1315.28px",
    "top": "110px",
    "width": "241px"
   },
   "toc_section_display": "block",
   "toc_window_display": true
  }
 },
 "nbformat": 4,
 "nbformat_minor": 2
}
