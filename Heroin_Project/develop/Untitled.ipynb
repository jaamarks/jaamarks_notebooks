{
 "cells": [
  {
   "cell_type": "code",
   "execution_count": 4,
   "metadata": {},
   "outputs": [
    {
     "data": {
      "text/plain": [
       "'C:\\\\Users\\\\jmarks\\\\Downloads'"
      ]
     },
     "execution_count": 4,
     "metadata": {},
     "output_type": "execute_result"
    }
   ],
   "source": [
    "import os\n",
    "os.chdir(\"/Users/jmarks/Downloads/\")"
   ]
  },
  {
   "cell_type": "code",
   "execution_count": 55,
   "metadata": {},
   "outputs": [
    {
     "name": "stdout",
     "output_type": "stream",
     "text": [
      "18752 1\n",
      "16111 1\n",
      "17553 1\n",
      "18957 0.75\n",
      "16626 0.5\n",
      "17144 0\n",
      "149893.5\n"
     ]
    }
   ],
   "source": [
    "in_data = \"18752 16111 17553 18957 16626 17144\"\n",
    "\n",
    "#for letter in in_data.split():\n",
    "#    num = int(letter)\n",
    "#    if num >= 1:\n",
    "#        print(\"e\")\n",
    "#    else:\n",
    "#        print(\"nmo\")\n",
    "        \n",
    "def expected_value(in_data):\n",
    "    factor_dict = {1: 1, 2: 1, 3: 1, 4: 0.75, 5: 0.50, 6: 0}\n",
    "    \n",
    "    expected_num = 0\n",
    "    for factor, people in enumerate(in_data.split(), 1):\n",
    "        print(people, factor_dict[factor])\n",
    "        \n",
    "        expected_num += int(people) * factor_dict[factor]\n",
    "    two_kids = 2.0 * expected_num\n",
    "    print(two_kids)\n",
    "expected_value(in_data)"
   ]
  },
  {
   "cell_type": "code",
   "execution_count": 68,
   "metadata": {},
   "outputs": [
    {
     "name": "stdout",
     "output_type": "stream",
     "text": [
      "{'>Rosalind_1': 'GATTACA', '>Rosalind_2': 'TAGACCA', '>Rosalind_3': 'ATACA'}\n",
      ">Rosalind_1\n",
      ">Rosalind_2\n",
      ">Rosalind_3\n"
     ]
    }
   ],
   "source": [
    "my_file = \"/Users/jmarks/Desktop/GitHub/jaamarks_notebooks/General/sandbox/ros_file\"\n",
    "with open(my_file) as inF:\n",
    "    dna_list = inF.readlines()\n",
    "    \n",
    "dna_dict = {}\n",
    "for item in dna_list:\n",
    "    if item[0] == \">\":\n",
    "        current_seq = item.strip()\n",
    "        dna_dict[current_seq] = \"\"\n",
    "    else:\n",
    "        dna_dict[current_seq] += item.strip()\n",
    "\n",
    "print(dna_dict)\n",
    "\n",
    "for key in dna_dict:\n",
    "    print(key)\n",
    "    "
   ]
  }
 ],
 "metadata": {
  "kernelspec": {
   "display_name": "Python 3",
   "language": "python",
   "name": "python3"
  },
  "language_info": {
   "codemirror_mode": {
    "name": "ipython",
    "version": 3
   },
   "file_extension": ".py",
   "mimetype": "text/x-python",
   "name": "python",
   "nbconvert_exporter": "python",
   "pygments_lexer": "ipython3",
   "version": "3.6.4"
  },
  "toc": {
   "nav_menu": {},
   "number_sections": true,
   "sideBar": true,
   "skip_h1_title": false,
   "toc_cell": false,
   "toc_position": {},
   "toc_section_display": "block",
   "toc_window_display": false
  }
 },
 "nbformat": 4,
 "nbformat_minor": 2
}
