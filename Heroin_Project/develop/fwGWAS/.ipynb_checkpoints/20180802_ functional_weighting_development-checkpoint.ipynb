{
 "cells": [
  {
   "cell_type": "markdown",
   "metadata": {},
   "source": [
    "# Function Weighting Development\n",
    "\n",
    "**Author**: Jesse Marks\n",
    "\n",
    "**Date**: August 02, 2018\n",
    "\n",
    "**GitHub Issue**: [issue 99](https://github.com/RTIInternational/bioinformatics/issues/99)\n"
   ]
  },
  {
   "cell_type": "markdown",
   "metadata": {},
   "source": [
    "## Quick start\n",
    "* Connect to Pulse\n",
    "* login to the VDI environment (with Citrix Receiver) \n",
    "* using RealVNC Viewer, login to head node (MSALMODHPC01)\n",
    "* open terminal and go to /share/storage"
   ]
  },
  {
   "cell_type": "code",
   "execution_count": null,
   "metadata": {},
   "outputs": [],
   "source": []
  }
 ],
 "metadata": {
  "kernelspec": {
   "display_name": "R",
   "language": "R",
   "name": "ir"
  },
  "language_info": {
   "codemirror_mode": "r",
   "file_extension": ".r",
   "mimetype": "text/x-r-source",
   "name": "R",
   "pygments_lexer": "r",
   "version": "3.4.3"
  },
  "toc": {
   "nav_menu": {},
   "number_sections": true,
   "sideBar": true,
   "skip_h1_title": false,
   "toc_cell": false,
   "toc_position": {},
   "toc_section_display": "block",
   "toc_window_display": false
  }
 },
 "nbformat": 4,
 "nbformat_minor": 2
}
