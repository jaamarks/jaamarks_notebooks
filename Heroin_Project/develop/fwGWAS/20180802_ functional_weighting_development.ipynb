{
 "cells": [
  {
   "cell_type": "markdown",
   "metadata": {},
   "source": [
    "# Function Weighting Development\n",
    "\n",
    "**Author**: Jesse Marks\n",
    "\n",
    "**Date**: August 14, 2018\n",
    "\n",
    "**GitHub Issue**: [issue 99](https://github.com/RTIInternational/bioinformatics/issues/99)\n"
   ]
  },
  {
   "cell_type": "markdown",
   "metadata": {},
   "source": [
    "## Quick start\n",
    "* Connect to Pulse\n",
    "* login to the VDI environment (with Citrix Receiver) \n",
    "* using RealVNC Viewer, login to head node (MSALMODHPC01)\n",
    "* open terminal and go to /share/storage"
   ]
  },
  {
   "cell_type": "markdown",
   "metadata": {},
   "source": [
    "## Weighting Sequence variants\n",
    "We will be basing our tests off of the approach taken in the 2016 Nature paper by [Sveinbjornsson et al](/files/GitHub/jaamarks_notebooks/General/Papers/Sveinbjornsson_et_al-2016-Nature_Genetics.pdf). Specifically, we will be categorizing variants into four groups with the unique individualized thresholds based off of there functional annotation:\n",
    "1. Loss of function; $5.5 \\times 10^{-7}$ \n",
    "2. Moderate impact; $1.1 \\times 10^{-7}$ \n",
    "3. Low impact; $1.0 \\times 10^{-8}$ \n",
    "4. Other; $1.7 \\times 10^{-9}$ \n",
    "\n",
    "Note, these thresholds were derived from the estimated enrichment of categories among associations signals in the 1000 Genomes."
   ]
  },
  {
   "cell_type": "markdown",
   "metadata": {},
   "source": [
    "## SnpEff\n",
    "We will be using the [SnpEff](http://snpeff.sourceforge.net/) tool for categorizing our variants based on their genomic annotations. See online manual [here](http://snpeff.sourceforge.net/SnpEff_manual.html)\n",
    "\n",
    "### Typical usage\n",
    "\n",
    "\n",
    "**Input:** The inputs are predicted variants (SNPs, insertions, deletions and MNPs). The input file is usually obtained as a result of a sequencing experiment, and it is usually in [variant call format (VCF).](http://www.internationalgenome.org/wiki/Analysis/vcf4.0/)\n",
    "\n",
    "**Output:** SnpEff analyzes the input variants. It annotates the variants and calculates the effects they produce on known genes (e.g. amino acid changes). A list of effects and annotations that SnpEff can calculate can be found here.\n",
    "\n",
    "* SnpEff is really fast, it can calculate predictions for all the SNPs in the 1000 Genomes project in less than 15 minutes. A summary page can be found here. Effect predictions in VCF and TXT formats."
   ]
  },
  {
   "cell_type": "code",
   "execution_count": null,
   "metadata": {},
   "outputs": [],
   "source": [
    "while(line):\n",
    "    "
   ]
  },
  {
   "cell_type": "code",
   "execution_count": null,
   "metadata": {},
   "outputs": [],
   "source": []
  },
  {
   "cell_type": "code",
   "execution_count": null,
   "metadata": {},
   "outputs": [],
   "source": []
  },
  {
   "cell_type": "code",
   "execution_count": null,
   "metadata": {},
   "outputs": [],
   "source": []
  },
  {
   "cell_type": "code",
   "execution_count": null,
   "metadata": {},
   "outputs": [],
   "source": []
  },
  {
   "cell_type": "code",
   "execution_count": null,
   "metadata": {},
   "outputs": [],
   "source": []
  },
  {
   "cell_type": "code",
   "execution_count": null,
   "metadata": {},
   "outputs": [],
   "source": []
  },
  {
   "cell_type": "code",
   "execution_count": null,
   "metadata": {},
   "outputs": [],
   "source": []
  }
 ],
 "metadata": {
  "kernelspec": {
   "display_name": "R",
   "language": "R",
   "name": "ir"
  },
  "language_info": {
   "codemirror_mode": "r",
   "file_extension": ".r",
   "mimetype": "text/x-r-source",
   "name": "R",
   "pygments_lexer": "r",
   "version": "3.4.3"
  },
  "toc": {
   "nav_menu": {},
   "number_sections": true,
   "sideBar": true,
   "skip_h1_title": false,
   "toc_cell": false,
   "toc_position": {},
   "toc_section_display": "block",
   "toc_window_display": false
  }
 },
 "nbformat": 4,
 "nbformat_minor": 2
}
