{
 "cells": [
  {
   "cell_type": "markdown",
   "metadata": {},
   "source": [
    "# Function Weighting Development\n",
    "\n",
    "**Author**: Jesse Marks\n",
    "\n",
    "**GitHub Issue**: [issue 99](https://github.com/RTIInternational/bioinformatics/issues/99)"
   ]
  },
  {
   "cell_type": "markdown",
   "metadata": {},
   "source": [
    "## Quick start\n",
    "* Connect to Pulse (use code from DIGIPASS-ES app on phone)\n",
    "* login to the VDI environment (with Citrix Workspace) \n",
    "* using RealVNC Viewer (a desktop app), login to head node (MSALMODHPC01)\n",
    "* open terminal and go to /share/storage\n",
    "\n",
    "`qsub -I` to login to a compute node\n",
    "\n",
    "**Resources**: [from George McConnell](https://wiki.rti.org/index.php/RunBook:Azure_Mod_HPC_Jupyter_Notebook) and [our group wiki](https://github.com/RTIInternational/bioinformatics/wiki/Jupyter-on-Azure-HPC)."
   ]
  },
  {
   "cell_type": "markdown",
   "metadata": {},
   "source": [
    "## jupyterHub\n",
    "Start jupyterHub on an interactive node. To do this, I have created a document entitled `~/bin/interactive_node.sh` for which I can initiate a compute node for which I can run Jupyter Notebooks through.\n",
    "\n",
    "Once you have submitted the job, then open up Mozilla and go to http://n5:8888 <br>\n",
    "**Note** to change the node depending on which one you specified in the job submission.\n",
    "\n",
    "Again, [this wiki](https://wiki.rti.org/index.php/RunBook:Azure_Mod_HPC_Jupyter_Notebook) by George McConnell for more detailed information about this."
   ]
  },
  {
   "cell_type": "code",
   "execution_count": null,
   "metadata": {},
   "outputs": [],
   "source": [
    "qsub -N JupyNote-jam -l host=n5,ncpus-1,mem-3gb,walltime-8:00:00 -- /share/apps/anaconda3/bin/jupyter lab --no-browser --ip 10.193.194.10"
   ]
  },
  {
   "cell_type": "markdown",
   "metadata": {},
   "source": [
    "## Weighting Sequence variants\n",
    "We will be basing our tests off of the approach taken in the 2016 Nature paper by [Sveinbjornsson et al](/files/GitHub/jaamarks_notebooks/General/Papers/Sveinbjornsson_et_al-2016-Nature_Genetics.pdf). Specifically, we will be categorizing variants into four groups with the unique individualized thresholds based off of there functional annotation:\n",
    "1. Loss of function; $5.5 \\times 10^{-7}$ \n",
    "2. Moderate impact; $1.1 \\times 10^{-7}$ \n",
    "3. Low impact; $1.0 \\times 10^{-8}$ \n",
    "4. Other; $1.7 \\times 10^{-9}$ \n",
    "\n",
    "Note, these thresholds were derived from the estimated enrichment of categories among associations signals in the 1000 Genomes."
   ]
  },
  {
   "cell_type": "markdown",
   "metadata": {},
   "source": [
    "## SnpEff\n",
    "We will be using the [SnpEff](http://snpeff.sourceforge.net/) tool for categorizing our variants based on their genomic annotations. See online manual [here](http://snpeff.sourceforge.net/SnpEff_manual.html)\n",
    "\n",
    "### Typical usage\n",
    "\n",
    "\n",
    "**Input:** The inputs are predicted variants (SNPs, insertions, deletions and MNPs). The input file is usually obtained as a result of a sequencing experiment, and it is usually in [variant call format (VCF).](http://www.internationalgenome.org/wiki/Analysis/vcf4.0/)\n",
    "\n",
    "**Output:** SnpEff analyzes the input variants. It annotates the variants and calculates the effects they produce on known genes (e.g. amino acid changes). A list of effects and annotations that SnpEff can calculate can be found here.\n",
    "\n",
    "* SnpEff is really fast, it can calculate predictions for all the SNPs in the 1000 Genomes project in less than 15 minutes. A summary page can be found here. Effect predictions in VCF and TXT formats."
   ]
  }
 ],
 "metadata": {
  "kernelspec": {
   "display_name": "R",
   "language": "R",
   "name": "ir"
  },
  "language_info": {
   "codemirror_mode": "r",
   "file_extension": ".r",
   "mimetype": "text/x-r-source",
   "name": "R",
   "pygments_lexer": "r",
   "version": "3.5.1"
  },
  "toc": {
   "nav_menu": {},
   "number_sections": true,
   "sideBar": true,
   "skip_h1_title": false,
   "toc_cell": false,
   "toc_position": {},
   "toc_section_display": "block",
   "toc_window_display": false
  }
 },
 "nbformat": 4,
 "nbformat_minor": 2
}
