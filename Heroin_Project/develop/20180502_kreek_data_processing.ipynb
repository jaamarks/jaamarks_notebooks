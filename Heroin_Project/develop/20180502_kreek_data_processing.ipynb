{
 "cells": [
  {
   "cell_type": "markdown",
   "metadata": {},
   "source": [
    "# Kreek Data Set GWAS\n",
    "**Author:** Jesse Marks\n",
    "\n",
    "* `/share/nas04/bioinformatics_group/data/studies/kreek`\n",
    "\n",
    "\n",
    "As a piece of a opiod GWAS meta-analysis in progress referred to as the \"UHS-Nelson\" study, we need to show replication in an independent cohort. We will take advantage of a data set released by Mary-Jeanne Kreek's research group, which we refer to as the \"Kreek\" data set, to assess whether the UHS-Nelson study findings are replicable with the Kreek data. The three types of opioid GWAS we will run are:\n",
    "\n",
    "Opioid cases vs. clean controls (no abuse or dependence of any drug)\n",
    "Opioid cases vs. all controls with no covariates adjusting for other drugs\n",
    "Opioid cases vs. all controls with covariates adjusting for cocaine and alcohol\n",
    "\n",
    "These three GWAS will be run separately for 3 different ancestry groups:\n",
    "\n",
    "* European (EA)\n",
    "* African (AA)\n",
    "* Hispanic (HA)"
   ]
  }
 ],
 "metadata": {
  "kernelspec": {
   "display_name": "R",
   "language": "R",
   "name": "ir"
  },
  "language_info": {
   "codemirror_mode": "r",
   "file_extension": ".r",
   "mimetype": "text/x-r-source",
   "name": "R",
   "pygments_lexer": "r",
   "version": "3.4.3"
  },
  "toc": {
   "nav_menu": {},
   "number_sections": true,
   "sideBar": true,
   "skip_h1_title": false,
   "toc_cell": false,
   "toc_position": {},
   "toc_section_display": "block",
   "toc_window_display": false
  }
 },
 "nbformat": 4,
 "nbformat_minor": 2
}
