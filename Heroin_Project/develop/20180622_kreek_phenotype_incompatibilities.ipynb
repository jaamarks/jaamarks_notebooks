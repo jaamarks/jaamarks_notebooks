{
 "cells": [
  {
   "cell_type": "markdown",
   "metadata": {},
   "source": [
    "# Kreek phenotype inconsistencies - dbGaP Study Accession phs001109.v1.p1\n",
    "**Author**: Jesse Marks\n",
    "\n",
    "There appeared to be some inconsistencies observed between the [Online Variable Report](https://www.ncbi.nlm.nih.gov/projects/gap/cgi-bin/dataset.cgi?study_id=phs001109.v1.p1&phv=261892&phd=6837&pha=&pht=5447&phvf=1&phdf=&phaf=&phtf=1&dssp=1&consent=&temp=1) on the dbGaP web page and the actual phenotype files downloaded from the authorized access page. These inconsistencies were found while working on a GWAS of the Kreek data with the phenotype of interest being \"opioid dependence\". The phenotype data were downloaded on `June 22, 2018` and the dbGaP Online Variable Report was accessed on the same date. This document will detail the inconsistencies found."
   ]
  },
  {
   "cell_type": "markdown",
   "metadata": {},
   "source": [
    "## AFFECTION_STATUS vs Opioid dependence\n",
    "* `AFFECTION_STATUS` is in disagreement with `opioid_dep`. From the variable descriptions one would think that they should be consistent with each other.\n",
    "\n",
    "**AFFECTION_STATUS**: 864 cases & 797 controls <br>\n",
    "**opioid_dep**: 667 cases 994 controls\n",
    "\n",
    "___\n",
    "\n",
    "The variable `AFFECTION_STATUS` belongs to dataset: [pht005445.v1.p1](https://www.ncbi.nlm.nih.gov/projects/gap/cgi-bin/dataset.cgi?study_id=phs001109.v1.p1&phv=261892&phd=6837&pha=&pht=5445&phvf=1&phdf=&phaf=&phtf=&dssp=1&consent=&temp=1) and the file that contains this variable is named phs001109.v1.pht005445.v1.p1.Addictive_Diseases_Subject.MULTI.txt. \n",
    "\n",
    "Variable Description: `AFFECTION_STATUS` is the case control status of the subject for *opioid dependence*.\n",
    "___\n",
    "\n",
    "The variable `opioid_dep` belongs to dataset (phenotype table): [pht005447.v1.p1](https://www.ncbi.nlm.nih.gov/projects/gap/cgi-bin/dataset.cgi?study_id=phs001109.v1.p1&phv=261905&phd=6837&pha=&pht=5447&phvf=1&phdf=&phaf=&phtf=1&dssp=1&consent=&temp=1) and the file that contains this variable is named phs001109.v1.pht005447.v1.p1.c1.Addictive_Diseases_Subject_Phenotypes.DS-ADX-IRB-NPU.txt.\n",
    "\n",
    "Variable Description: `opioid_dep` is described as Opioid dependence"
   ]
  },
  {
   "cell_type": "markdown",
   "metadata": {},
   "source": [
    "## Cocaine_dep\n",
    "* Disagreement between file contents and dbGaP description\n",
    "    - missing data in phenotype file not reported in dbGaP\n",
    "\n",
    "The variable `cocaine_dep` belongs to dataset (phenotype table): [pht005447.v1.p1](https://www.ncbi.nlm.nih.gov/projects/gap/cgi-bin/dataset.cgi?study_id=phs001109.v1.p1&phv=261905&phd=6837&pha=&pht=5447&phvf=1&phdf=&phaf=&phtf=1&dssp=1&consent=&temp=1) and the file that contains this variable is named phs001109.v1.pht005447.v1.p1.c1.Addictive_Diseases_Subject_Phenotypes.DS-ADX-IRB-NPU.txt. According to the [dbGaP description](https://www.ncbi.nlm.nih.gov/projects/gap/cgi-bin/variable.cgi?study_id=phs001109.v1.p1&phv=261906&phd=6837&pha=&pht=5447&phvf=1&phdf=&phaf=&phtf=1&dssp=1&consent=&temp=1) this variable describes whether the subject has a cocaine dependence or not. There should be complete data for all subjects (no NULLs). In the actual phenotype table that was downloaded, there were 5 subjects with missing data (NULL).\n",
    "\n",
    "The subjects that are NULL are: 101465, 102648, 106607, 106646, 107543.\n",
    "\n",
    "These subjects correspond to 5 subjects that have data for the variable `sedative_dep` which, according to dbGaP, there should be no data collected for sedative dependence. \n",
    "\n",
    "```SUBJECT_ID cocaine_dep\n",
    "101465 NULL\n",
    "102648 NULL\n",
    "106607 NULL\n",
    "106646 NULL\n",
    "107543 NULL```\n",
    "\n",
    "\n",
    "```SUBJECT_ID sedative_dep\n",
    "101465 1\n",
    "102648 1\n",
    "106607 0\n",
    "106646 0\n",
    "107543 1```\n",
    "\n",
    "* Note that this is the case for the variables `cocaine_abuse` and `sedative_abuse` as well."
   ]
  },
  {
   "cell_type": "markdown",
   "metadata": {},
   "source": [
    "## Alcohol_dep \n",
    "* Disagreement between file contents and dbGaP description\n",
    "    - missing data in phenotype file not reported in dbGaP\n",
    "\n",
    "The variable `alcohol_dep` belongs to dataset (phenotype table): [pht005447.v1.p1](https://www.ncbi.nlm.nih.gov/projects/gap/cgi-bin/dataset.cgi?study_id=phs001109.v1.p1&phv=261905&phd=6837&pha=&pht=5447&phvf=1&phdf=&phaf=&phtf=1&dssp=1&consent=&temp=1) and the file that contains this variable is named phs001109.v1.pht005447.v1.p1.c1.Addictive_Diseases_Subject_Phenotypes.DS-ADX-IRB-NPU.txt. According to the [dbGaP description](https://www.ncbi.nlm.nih.gov/projects/gap/cgi-bin/variable.cgi?study_id=phs001109.v1.p1&phv=261907&phd=6837&pha=&pht=5447&phvf=1&phdf=&phaf=&phtf=1&dssp=1&consent=&temp=1) this variable describes whether the subject has an alcohol dependence or not. There should be complete data for all subjects (no NULLs). In the actual phenotype table that was downloaded, there was no data for any subjects. \n",
    "\n",
    "It might be the case that the data for this variable was erroneously listed under the variable `other_dep`. This variable is described as other drug dependencies, which according to dbGaP no data was collected for this variable. However, in the phenotype table that was downloaded, this variable has a full set of data."
   ]
  },
  {
   "cell_type": "markdown",
   "metadata": {},
   "source": [
    "## Alcohol_abuse\n",
    "\n",
    "* Disagreement between file contents and dbGaP description\n",
    "    - missing data in phenotype file not reported in dbGaP\n",
    "\n",
    "The variable `alcohol_abuse` belongs to dataset (phenotype table): [pht005447.v1.p1](https://www.ncbi.nlm.nih.gov/projects/gap/cgi-bin/dataset.cgi?study_id=phs001109.v1.p1&phv=261905&phd=6837&pha=&pht=5447&phvf=1&phdf=&phaf=&phtf=1&dssp=1&consent=&temp=1) and the file that contains this variable is named phs001109.v1.pht005447.v1.p1.c1.Addictive_Diseases_Subject_Phenotypes.DS-ADX-IRB-NPU.txt. According to the [dbGaP description](https://www.ncbi.nlm.nih.gov/projects/gap/cgi-bin/variable.cgi?study_id=phs001109.v1.p1&phv=261907&phd=6837&pha=&pht=5447&phvf=1&phdf=&phaf=&phtf=1&dssp=1&consent=&temp=1) this variable describes whether the subject abuses alcohol or not. There should be complete data for all subjects (no NULLs). In the actual phenotype table that was downloaded, there was no data for any subjects. "
   ]
  },
  {
   "cell_type": "markdown",
   "metadata": {},
   "source": [
    "## Other variables are in agreement\n",
    "The variables in agreement with the [dbGaP web page](https://www.ncbi.nlm.nih.gov/projects/gap/cgi-bin/dataset.cgi?study_id=phs001109.v1.p1&phv=261892&phd=6837&pha=&pht=5447&phvf=1&phdf=&phaf=&phtf=1&dssp=1&consent=&temp=1) are:\n",
    "\n",
    "```\n",
    "nicotine_dep\n",
    "cannabis_dep\n",
    "stimulant_dep\n",
    "opioid_abuse\n",
    "cannabis_abuse\n",
    "stimulant_abuse\n",
    "other_abuse\n",
    "```"
   ]
  },
  {
   "cell_type": "code",
   "execution_count": null,
   "metadata": {},
   "outputs": [],
   "source": []
  }
 ],
 "metadata": {
  "kernelspec": {
   "display_name": "R",
   "language": "R",
   "name": "ir"
  },
  "language_info": {
   "codemirror_mode": "r",
   "file_extension": ".r",
   "mimetype": "text/x-r-source",
   "name": "R",
   "pygments_lexer": "r",
   "version": "3.4.3"
  },
  "toc": {
   "nav_menu": {},
   "number_sections": true,
   "sideBar": true,
   "skip_h1_title": false,
   "toc_cell": false,
   "toc_position": {},
   "toc_section_display": "block",
   "toc_window_display": false
  }
 },
 "nbformat": 4,
 "nbformat_minor": 2
}
