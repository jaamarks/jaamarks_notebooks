{
 "cells": [
  {
   "cell_type": "markdown",
   "metadata": {},
   "source": [
    "# UHS1-3 chrX imputation\n",
    "__Author__: Jesse Marks <br>\n",
    "**Date:** October 04, 2018\n",
    "\n",
    "**GitHub Issue:** [Issue #53](https://github.com/RTIInternational/bioinformatics/issues/53)\n",
    "\n",
    "This document logs the steps taken to perform pre-imputation procedures on the Kreek dataset, both EA and AA. The starting point for this analysis is after quality control of observed genotypes. The quality controlled genotypes are oriented on the GRCh37 plus strand. \n",
    "\n",
    "## Software and tools\n",
    "The software and tools used for porcessing these data are\n",
    "* [Michigan Imputation Server](https://imputationserver.sph.umich.edu/index.html) (MIS)\n",
    "* [Amazon Web Services (AWS) - Cloud Computing Services](https://aws.amazon.com/)\n",
    "    * Linux AMI\n",
    "* [PLINK v1.90 beta 4.10](https://www.cog-genomics.org/plink/)\n",
    "* [bgzip](http://www.htslib.org/doc/tabix.html)\n",
    "* [BCF Tools](http://www.htslib.org/doc/bcftools.html)\n",
    "* Windows 10 with [Cygwin](https://cygwin.com/) installed\n",
    "* GNU bash version 4.2.46\n",
    "\n",
    "## Data retrieval and organization\n",
    "PLINK binary filesets will be obtained from AWS S3 storage.\n",
    "\n",
    "Jesse Marks performed the QC and stored the observed genotype data at:\n",
    "\n",
    "```\n",
    "s3/rti-heroin/kreek/data/genotype/original/20181128/\n",
    "```"
   ]
  },
  {
   "cell_type": "markdown",
   "metadata": {},
   "source": [
    "###  Statistics Breakdown \n",
    "This table includes the initial number of variants in each study as well as the final number of variants in the intersection set. The `Variants Post-Filtering` is in referral to the filtering steps (1) remove discordant alleles & (2) removal of monomorphic variants.\n",
    "\n",
    "#### EA\n",
    "| Data Set      | Initial Variants | Variants Post-Filtering  | Intersection     |\n",
    "|---------------|------------------|--------------------------|------------------|\n",
    "| Kreek         |                  |                          | NA               |\n",
    "\n",
    "\n",
    "#### AA\n",
    "| Data Set      | Initial Variants | Variants Post-Filtering  | Intersection     |\n",
    "|---------------|------------------|--------------------------|------------------|\n",
    "| Kreek         |                  |                          | NA               |\n"
   ]
  },
  {
   "cell_type": "markdown",
   "metadata": {},
   "source": [
    "## Create Directory Structure & Download Data\n",
    "The following section needs to be modified each time to reflect where the data is stored!"
   ]
  },
  {
   "cell_type": "code",
   "execution_count": 1,
   "metadata": {},
   "outputs": [],
   "source": [
    "### EC2 command line (bash) ###\n",
    "\n",
    "# Modify variables below\n",
    "######################################################################\n",
    "base_dir=/shared/data/studies/heroin/kreek/genotype/imputed/20181128\n",
    "#genD=/shared/data/studies/heroin/kreek/genotype/observed/final\n",
    "\n",
    "base_name=\"chr_all\" # chr23 or chr_all\n",
    "chr_list={1..23} # or {1..22} \n",
    "ancestry_list=\"aa ea\" # space delimited Ex. \"ea aa ha\"\n",
    "study_list=\"kreek\" # space delimited \n",
    "######################################################################\n",
    "\n",
    "mkdir ${base_dir}/processing/{intersect,1000g,impute_prep}\n",
    "for study in ${study_list};do\n",
    "    for ancestry in ${ancestry_list};do\n",
    "        mkdir -p ${base_dir}/processing/${study}\n",
    "        mkdir -p ${base_dir}/data/${study}/genotype/observed/${ancestry}\n",
    "    done\n",
    "done\n",
    "\n",
    "## download genotype (with AWS CLI tools) to respective directories ##\n",
    "aws s3 sync s3://rti-heroin/kreek/data/genotype/original/20181128/ \\\n",
    "    ${base_dir}/data/${study}/genotype/observed/\n",
    "mv ${base_dir}/data/${study}/genotype/observed/ea* ${base_dir}/data/${study}/genotype/observed/ea\n",
    "mv ${base_dir}/data/${study}/genotype/observed/aa* ${base_dir}/data/${study}/genotype/observed/aa"
   ]
  },
  {
   "cell_type": "markdown",
   "metadata": {},
   "source": [
    "# Data Processing\n",
    "## GRCh37 strand and allele discordance check\n",
    "### MAF for study data"
   ]
  },
  {
   "cell_type": "code",
   "execution_count": null,
   "metadata": {
    "collapsed": true
   },
   "outputs": [],
   "source": [
    "### EC1 command line (Bash) ###\n",
    "\n",
    "# write out the MAF report\n",
    "for study in ${study_list}; do\n",
    "    study_dir=${base_dir}/processing/${study}/strand_check\n",
    "    mkdir ${study_dir}\n",
    "    for ancestry in ${ancestry_list};do\n",
    "        data_dir=${base_dir}/data/${study}/genotype/observed/${ancestry}\n",
    "        /shared/bioinformatics/software/third_party/plink-1.90-beta-4.10-x86_64/plink \\\n",
    "            --noweb \\\n",
    "            --memory 2048 \\\n",
    "            --bed ${data_dir}/*bed\\\n",
    "            --bim ${data_dir}/*bim\\\n",
    "            --fam ${data_dir}/*fam\\\n",
    "            --freq \\\n",
    "            --out ${study_dir}/${ancestry}_${base_name}\n",
    "    done\n",
    "done\n",
    "\n",
    "# Get list of variants from all studies\n",
    "for ancestry in ${ancestry_list}; do\n",
    "    for study in ${study_list};do\n",
    "        cat ${base_dir}/data/${study}/genotype/observed/${ancestry}/*bim | \\\n",
    "                perl -lane 'if (($F[0]+0) <= 23) { print $F[1]; }' | \\\n",
    "                sort -u > ${base_dir}/processing/${ancestry}_${base_name}_sorted_variants.txt\n",
    "    done\n",
    "done"
   ]
  },
  {
   "cell_type": "markdown",
   "metadata": {},
   "source": [
    "```\n",
    " wc -l ${base_dir}/processing/*\n",
    "503120 /shared/data/studies/heroin/kreek/genotype/imputed/20181128/processing/aa_chr_all_sorted_variants.txt\n",
    "  510052 /shared/data/studies/heroin/kreek/genotype/imputed/20181128/processing/ea_chr_all_sorted_variants.txt\n",
    "  ```"
   ]
  },
  {
   "cell_type": "markdown",
   "metadata": {},
   "source": [
    "### MAF for 1000G\n",
    "This pipeline is currently set up to handle EUR and AFR populations.\n",
    "#### Autosomes\n",
    "Get 1000G MAF for chromosomes 1–22 (autosomes)."
   ]
  },
  {
   "cell_type": "code",
   "execution_count": null,
   "metadata": {},
   "outputs": [],
   "source": [
    "### EC2 command line (Bash)\n",
    "\n",
    "# Calculate autosome MAFs for 1000G populations\n",
    "for ancestry in ${ancestry_list};do\n",
    "\n",
    "    if [ $ancestry == \"ea\" ]\n",
    "    then\n",
    "        pop=\"EUR\"\n",
    "    else\n",
    "        pop=\"AFR\"\n",
    "    fi\n",
    "    \n",
    "    for chr in {1..22}; do\n",
    "        /shared/bioinformatics/software/scripts/qsub_job.sh \\\n",
    "            --job_name ${pop}_${chr}_MAF \\\n",
    "            --script_prefix ${base_dir}/processing/1000g/${pop}_chr${chr}.maf \\\n",
    "            --mem 6.8 \\\n",
    "            --nslots 1 \\\n",
    "            --priority 0 \\\n",
    "            --program /shared/bioinformatics/software/perl/stats/calculate_maf_from_impute2_hap_file.pl \\\n",
    "                --hap /shared/data/ref_panels/1000G/2014.10/1000GP_Phase3_chr${chr}.hap.gz\\\n",
    "                --legend /shared/data/ref_panels/1000G/2014.10/1000GP_Phase3_chr${chr}.legend.gz \\\n",
    "                --sample /shared/data/ref_panels/1000G/2014.10/1000GP_Phase3.sample \\\n",
    "                --chr ${chr} \\\n",
    "                --out ${base_dir}/processing/1000g/${pop}_chr${chr}.maf \\\n",
    "                --extract ${base_dir}/processing/${ancestry}_${base_name}_sorted_variants.txt \\\n",
    "                --keep_groups ${pop}\n",
    "    done\n",
    "done"
   ]
  },
  {
   "cell_type": "markdown",
   "metadata": {},
   "source": [
    "#### chrX\n",
    "Get 1000G MAF for chromosome 23 (chrX)."
   ]
  },
  {
   "cell_type": "code",
   "execution_count": null,
   "metadata": {},
   "outputs": [],
   "source": [
    "### Bash ###\n",
    "\n",
    "chr=23\n",
    "for ancestry in ${ancestry_list};do\n",
    "\n",
    "    if [ $ancestry == \"ea\" ]\n",
    "    then\n",
    "        pop=\"EUR\"\n",
    "    else\n",
    "        pop=\"AFR\"\n",
    "    fi\n",
    "\n",
    "    /shared/bioinformatics/software/scripts/qsub_job.sh \\\n",
    "        --job_name ${pop}_23_MAF \\\n",
    "        --script_prefix ${base_dir}/processing/1000g/${pop}_chr${chr}.maf \\\n",
    "        --mem 6.8 \\\n",
    "        --nslots 1 \\\n",
    "        --priority 0 \\\n",
    "        --program /shared/bioinformatics/software/perl/stats/calculate_maf_from_impute2_hap_file.pl \\\n",
    "            --hap /shared/data/ref_panels/1000G/2014.10/1000GP_Phase3_chrX_NONPAR.hap.gz\\\n",
    "            --legend /shared/data/ref_panels/1000G/2014.10/1000GP_Phase3_chrX_NONPAR.legend.gz \\\n",
    "            --sample /shared/data/ref_panels/1000G/2014.10/1000GP_Phase3.sample \\\n",
    "            --chr $chr \\\n",
    "            --out ${base_dir}/processing/1000g/${pop}_chr${chr}.maf \\\n",
    "            --extract ${base_dir}/processing/${ancestry}_${base_name}_sorted_variants.txt \\\n",
    "            --keep_groups ${pop}\n",
    "done"
   ]
  },
  {
   "cell_type": "markdown",
   "metadata": {},
   "source": [
    "### Merge 1000G chromosomes\n",
    "Only need to perform this if there were multiple chromosomes for which the MAF was calculated—e.g. more than just chrX."
   ]
  },
  {
   "cell_type": "code",
   "execution_count": null,
   "metadata": {},
   "outputs": [],
   "source": [
    "### Bash ###\n",
    "\n",
    "\n",
    "\n",
    "# Merge per chr MAFs for each 1000G population\n",
    "for ancestry in ${ancestry_list};do\n",
    "    if [ $ancestry == \"ea\" ]\n",
    "    then\n",
    "        pop=\"EUR\"\n",
    "    else\n",
    "        pop=\"AFR\"\n",
    "    fi\n",
    "    \n",
    "        head -n 1 ${base_dir}/processing/1000g/${pop}_chr1.maf > ${base_dir}/processing/1000g/${pop}_chr_all.maf\n",
    "        tail -q -n +2 ${base_dir}/processing/1000g/${pop}_chr??maf  >> ${base_dir}/processing/1000g/${pop}_chr_all.maf\n",
    "done"
   ]
  },
  {
   "cell_type": "markdown",
   "metadata": {},
   "source": [
    "```\n",
    "wc -l processing/1000g/???_chr_all.maf\n",
    "  275508 processing/1000g/AFR_chr_all.maf\n",
    "  279371 processing/1000g/EUR_chr_all.maf\n",
    "```"
   ]
  },
  {
   "cell_type": "markdown",
   "metadata": {},
   "source": [
    "###  Allele Discordances Check\n",
    "The allele discordances will be resolved by\n",
    "* Flipping allele discordances that are fixed by flipping\n",
    "* Removing SNPs with discordant names\n",
    "* Removing SNPs with discordant positions\n",
    "* Removing allele discordances that are not resolved by flipping\n",
    "* Removing alleles with large deviations from the reference population allele frequencies\n",
    "\n",
    "Given that the allele discordance check was done using a union set of SNPs across all studies within an ancestry group, some of the SNPs logged as discordant for a given study may not actually be in the study. Fortunately, if they are not in a given study they will not interfere with the filtering procedures. Note that the intersection set is used for the final studies merger.\n",
    "\n",
    "#### Autosomes"
   ]
  },
  {
   "cell_type": "code",
   "execution_count": null,
   "metadata": {},
   "outputs": [],
   "source": [
    "### Bash ###\n",
    "\n",
    "# Run discordance checks for each ancestry group\n",
    "for study in ${study_list}; do\n",
    "    for ancestry in ${ancestry_list};do\n",
    "        if [ $ancestry = \"ea\" ]; then\n",
    "            pop=EUR\n",
    "        else\n",
    "            pop=AFR\n",
    "        fi\n",
    "\n",
    "       /shared/bioinformatics/software/scripts/qsub_job.sh \\\n",
    "           --job_name ${ancestry}_${study}_crosscheck \\\n",
    "           --script_prefix ${base_dir}/processing/$study/strand_check/${ancestry}_allele_discordance_check \\\n",
    "           --mem 6 \\\n",
    "           --nslots 4 \\\n",
    "           --priority 0 \\\n",
    "           --program \"Rscript /shared/bioinformatics/software/R/check_study_data_against_1000G.R\n",
    "               --study_bim_file ${base_dir}/data/${study}/genotype/observed/${ancestry}/*bim\n",
    "               --study_frq_file ${base_dir}/processing/${study}/strand_check/${ancestry}_chr_all.frq\n",
    "               --ref_maf_file ${base_dir}/processing/1000g/${pop}_chr_all.maf\n",
    "               --out_prefix ${base_dir}/processing/${study}/strand_check/${ancestry}_allele_discordance\"\n",
    "    done\n",
    "done"
   ]
  },
  {
   "cell_type": "markdown",
   "metadata": {},
   "source": [
    "#### chrX \n",
    "Not necessary to run unless you are only processing chrX."
   ]
  },
  {
   "cell_type": "code",
   "execution_count": null,
   "metadata": {},
   "outputs": [],
   "source": [
    "### Bash ###\n",
    "\n",
    "#for study in ${study_list}; do\n",
    "#    for ancestry in ${ancestry_list};do\n",
    "#        if [ $ancestry = \"ea\" ]; then\n",
    "#            pop=EUR\n",
    "#        else\n",
    "#            pop=AFR\n",
    "#        fi\n",
    "#\n",
    "#        # chr23 discordance check\n",
    "#        /shared/bioinformatics/software/scripts/qsub_job.sh \\\n",
    "#            --job_name ${ancestry}_${study}_crosscheck \\\n",
    "#            --script_prefix ${base_dir}/processing/${study}/strand_check/${ancestry}_allele_discordance_check \\\n",
    "#            --mem 6.8 \\\n",
    "#            --nslots 1 \\\n",
    "#            --priority 0 \\\n",
    "#            --program \"Rscript /shared/bioinformatics/software/R/check_study_data_against_1000G.R\n",
    "#                --study_bim_file ${base_dir}/data/${study}/genotype/observed/${ancestry}/*bim\n",
    "#                --study_frq_file ${base_dir}/processing/${study}/strand_check/${ancestry}_chr23.frq\n",
    "#                --ref_maf_file ${base_dir}/processing/1000g/${pop}_chr23.maf\n",
    "#                --out_prefix ${base_dir}/processing/${study}/strand_check/${ancestry}_allele_discordance\"\n",
    "#    done\n",
    "#done"
   ]
  },
  {
   "cell_type": "markdown",
   "metadata": {},
   "source": [
    "### Resolving Allele Discordances"
   ]
  },
  {
   "cell_type": "code",
   "execution_count": null,
   "metadata": {
    "collapsed": true
   },
   "outputs": [],
   "source": [
    "### Bash ###\n",
    "\n",
    "# Apply filters\n",
    "for study in ${study_list}; do\n",
    "    for ancestry in ${ancestry_list};do\n",
    "        echo -e \"\\n===============\\nProcessing ${study}_${ancestry}\\n\"\n",
    "        echo \"Making remove list\"\n",
    "        cat <(cut -f2,2 ${base_dir}/processing/${study}/strand_check/${ancestry}_allele_discordance.discordant_alleles_not_fixed_by_strand_flip | tail -n +2) \\\n",
    "            <(cut -f2,2 ${base_dir}/processing/${study}/strand_check/${ancestry}_allele_discordance.at_cg_snps_freq_diff_gt_0.2 | tail -n +2) \\\n",
    "            <(cut -f2,2 ${base_dir}/processing/${study}/strand_check/${ancestry}_allele_discordance.discordant_names | tail -n +2) \\\n",
    "            <(cut -f2,2 ${base_dir}/processing/${study}/strand_check/${ancestry}_allele_discordance.discordant_positions | tail -n +2) \\\n",
    "            <(cut -f2,2 ${base_dir}/processing/${study}/strand_check/${ancestry}_allele_discordance.discordant_alleles_polymorphic_in_study_not_fixed_by_strand_flip | tail -n +2) | \\\n",
    "              sort -u > ${base_dir}/processing/${study}/strand_check/${ancestry}_snps.remove\n",
    "\n",
    "        # Create flip list\n",
    "        echo \"Making flip list\"\n",
    "        comm -23 <(cut -f2,2 ${base_dir}/processing/${study}/strand_check/${ancestry}_allele_discordance.discordant_alleles | tail -n +2 | sort -u) \\\n",
    "                 <(cut -f2,2 ${base_dir}/processing/${study}/strand_check/${ancestry}_allele_discordance.discordant_alleles_not_fixed_by_strand_flip | tail -n +2 | sort -u) \\\n",
    "                 > ${base_dir}/processing/${study}/strand_check/${ancestry}_snps.flip\n",
    "\n",
    "        # Apply filters\n",
    "        /shared/bioinformatics/software/third_party/plink-1.90-beta-4.10-x86_64/plink \\\n",
    "            --noweb \\\n",
    "            --memory 2048 \\\n",
    "            --bed     ${base_dir}/data/${study}/genotype/observed/${ancestry}/*bed \\\n",
    "            --bim     ${base_dir}/data/${study}/genotype/observed/${ancestry}/*bim \\\n",
    "            --fam     ${base_dir}/data/${study}/genotype/observed/${ancestry}/*fam \\\n",
    "            --exclude ${base_dir}/processing/${study}/strand_check/${ancestry}_snps.remove \\\n",
    "            --flip    ${base_dir}/processing/${study}/strand_check/${ancestry}_snps.flip \\\n",
    "            --make-bed \\\n",
    "            --out     ${base_dir}/processing/${study}/${ancestry}_filtered\n",
    "    done\n",
    "done"
   ]
  },
  {
   "cell_type": "markdown",
   "metadata": {},
   "source": [
    " ```\n",
    " wc -l processing/*/*bim\n",
    "     493427 processing/kreek/aa_filtered.bim\n",
    "     500336 processing/kreek/ea_filtered.bim\n",
    "  ```"
   ]
  },
  {
   "cell_type": "markdown",
   "metadata": {},
   "source": [
    "## Remove monomorphic variants\n",
    "Monomorphic variants prevent MIS from accepting the genotype data. In this case, an arbitrarily small MAF is set that is smaller than the lower bound for these data."
   ]
  },
  {
   "cell_type": "code",
   "execution_count": null,
   "metadata": {
    "collapsed": true
   },
   "outputs": [],
   "source": [
    "### Bash ###\n",
    "\n",
    "# Apply filters\n",
    "for study in ${study_list}; do\n",
    "    for ancestry in ${ancestry_list};do\n",
    "        geno_dir=${base_dir}/processing/${study}\n",
    "\n",
    "        /shared/bioinformatics/software/third_party/plink-1.90-beta-4.10-x86_64/plink \\\n",
    "            --noweb \\\n",
    "            --memory 2048 \\\n",
    "            --bfile ${geno_dir}/${ancestry}_filtered \\\n",
    "            --maf 0.000001 \\\n",
    "            --make-bed \\\n",
    "            --out ${geno_dir}/${ancestry}_filtered_mono\n",
    "    done\n",
    "done"
   ]
  },
  {
   "cell_type": "markdown",
   "metadata": {},
   "source": [
    "```\n",
    "wc -l processing/*/*mono.bim\n",
    "\n",
    "  459968 processing/kreek/aa_filtered_mono.bim\n",
    "  432255 processing/kreek/ea_filtered_mono.bim\n",
    "  ```"
   ]
  },
  {
   "cell_type": "markdown",
   "metadata": {},
   "source": [
    "### SNP intersection\n",
    "Only run if merging multiple data sets."
   ]
  },
  {
   "cell_type": "code",
   "execution_count": null,
   "metadata": {
    "collapsed": true
   },
   "outputs": [],
   "source": [
    "#studies=($study_list)  #studies=(UHS1 UHS2 UHS3_v1-2 UHS3_v1-3) # array of study names\n",
    "#num=${#studies[@]}\n",
    "#\n",
    "## Get intersection set\n",
    "#for ancestry in ${ancestry_list};do\n",
    "#    bim_files=()\n",
    "#    for (( i=0; i<${num}; i++ ));do\n",
    "#        bim_files+=(${base_dir}/processing/${studies[$i]}/${ancestry}_filtered_mono.bim)\n",
    "#    done\n",
    "#    \n",
    "#    echo -e \"\\nCalculating intersection between $ancestry ${study_list}...\\n\"\n",
    "#    sort ${bim_files[@]} | uniq -dc | awk -v num=$num '$1 == num {print $3}' \\\n",
    "#        > ${base_dir}/processing/intersect/${ancestry}_variant_intersection.txt\n",
    "#\n",
    "#    # Make new PLINK binary file sets\n",
    "#    for study in ${studies[@]}; do\n",
    "#        /shared/bioinformatics/software/third_party/plink-1.90-beta-4.10-x86_64/plink \\\n",
    "#            --noweb \\\n",
    "#            --bfile ${base_dir}/processing/${study}/${ancestry}_filtered_mono \\\n",
    "#            --extract ${base_dir}/processing/intersect/${ancestry}_variant_intersection.txt \\\n",
    "#            --make-bed \\\n",
    "#            --out ${base_dir}/processing/intersect/${study}_${ancestry}_filtered_snp_intersection\n",
    "#    done\n",
    "#done"
   ]
  },
  {
   "cell_type": "markdown",
   "metadata": {},
   "source": [
    "```wc -l *txt\n",
    "\n",
    "```"
   ]
  },
  {
   "cell_type": "markdown",
   "metadata": {},
   "source": [
    "### Merge test\n",
    "If merging multiple datasets together:\n",
    "\n",
    "As a final check to confirm that our data sets are all compatible, a PLINK file set merge is conducted. If any issues persist then an error will be raised."
   ]
  },
  {
   "cell_type": "code",
   "execution_count": null,
   "metadata": {
    "collapsed": true
   },
   "outputs": [],
   "source": [
    "#for ancestry in $ancestry_list;do\n",
    "#\n",
    "#    echo \"Creating $ancestry merge-list\"\n",
    "#    touch ${base_dir}/processing/intersect/${ancestry}_merge_list.txt\n",
    "#    for study in $study_list;do\n",
    "#        echo ${base_dir}/processing/intersect/${study}_${ancestry}_filtered_snp_intersection >>\\\n",
    "#             ${base_dir}/processing/intersect/${ancestry}_merge_list.txt\n",
    "#    done\n",
    "#\n",
    "## Merge file sets\n",
    "#    echo -e \"\\n\\n======== ${ancestry} ========\\n\\n\"\n",
    "#    /shared/bioinformatics/software/third_party/plink-1.90-beta-4.10-x86_64/plink \\\n",
    "#        --noweb \\\n",
    "#        --memory 4000 \\\n",
    "#        --merge-list ${base_dir}/processing/intersect/${ancestry}_merge_list.txt \\\n",
    "#        --make-bed \\\n",
    "#        --out ${base_dir}/processing/intersect/${ancestry}_studies_merged\n",
    "#done"
   ]
  },
  {
   "cell_type": "markdown",
   "metadata": {},
   "source": [
    "```\n",
    " wc -l *merged.bim\n",
    "```"
   ]
  },
  {
   "cell_type": "markdown",
   "metadata": {},
   "source": [
    "## Imputation preparation for Michigan Imputation Server\n",
    "Visit the [MIS Getting Started Webpage](https://imputationserver.sph.umich.edu/start.html#!pages/help) for more information about the preparing the data for upload to MIS.\n"
   ]
  },
  {
   "cell_type": "markdown",
   "metadata": {},
   "source": [
    "### VCF File Conversion"
   ]
  },
  {
   "cell_type": "code",
   "execution_count": null,
   "metadata": {},
   "outputs": [],
   "source": [
    "### Split by chr and remove any individuals with missing data for whole chr\n",
    "\n",
    "## if merged data sets together\n",
    "#for ancestry in $ancestry_list;do\n",
    "#    # Remove SNPs\n",
    "#    /shared/bioinformatics/software/third_party/plink-1.90-beta-4.10-x86_64/plink \\\n",
    "#        --noweb \\\n",
    "#        --memory 4000 \\\n",
    "#        --bfile ${base_dir}/processing/intersect/${ancestry}_studies_merged \\\n",
    "#        --chr ${chr} \\\n",
    "#        --mind 0.99 \\\n",
    "#        --make-bed \\\n",
    "#        --out ${base_dir}/processing/impute_prep/${ancestry}_chr${chr}_for_phasing \n",
    "#done > ${base_dir}/processing/impute_prep/chr_splitting.log \n",
    "\n",
    "## if NO merging was done\n",
    "for ancestry in $ancestry_list;do\n",
    "    for chr in {1..23};do\n",
    "        # Remove SNPs\n",
    "        /shared/bioinformatics/software/third_party/plink-1.90-beta-4.10-x86_64/plink \\\n",
    "            --noweb \\\n",
    "            --memory 4000 \\\n",
    "            --bfile ${base_dir}/processing/$study/${ancestry}_filtered_mono \\\n",
    "            --chr ${chr} \\\n",
    "            --mind 0.99 \\\n",
    "            --make-bed \\\n",
    "            --out ${base_dir}/processing/impute_prep/${ancestry}_chr${chr}_for_phasing \n",
    "    done\n",
    "done > ${base_dir}/processing/impute_prep/chr_splitting.log "
   ]
  },
  {
   "cell_type": "markdown",
   "metadata": {},
   "source": [
    "__Note__: No subjects were removed.\n",
    "\n",
    "```\n",
    "grep remove *log\n",
    "aa_chr10_for_phasing.log:0 people removed due to missing genotype data (--mind).\n",
    "aa_chr11_for_phasing.log:0 people removed due to missing genotype data (--mind).\n",
    "aa_chr12_for_phasing.log:0 people removed due to missing genotype data (--mind).\n",
    "aa_chr13_for_phasing.log:0 people removed due to missing genotype data (--mind).\n",
    "aa_chr14_for_phasing.log:0 people removed due to missing genotype data (--mind).\n",
    "aa_chr15_for_phasing.log:0 people removed due to missing genotype data (--mind).\n",
    "aa_chr16_for_phasing.log:0 people removed due to missing genotype data (--mind).\n",
    "aa_chr17_for_phasing.log:0 people removed due to missing genotype data (--mind).\n",
    "\n",
    "...\n",
    "\n",
    "ea_chr5_for_phasing.log:0 people removed due to missing genotype data (--mind).\n",
    "ea_chr6_for_phasing.log:0 people removed due to missing genotype data (--mind).\n",
    "ea_chr7_for_phasing.log:0 people removed due to missing genotype data (--mind).\n",
    "ea_chr8_for_phasing.log:0 people removed due to missing genotype data (--mind).\n",
    "ea_chr9_for_phasing.log:0 people removed due to missing genotype data (--mind).\n",
    "```"
   ]
  },
  {
   "cell_type": "code",
   "execution_count": null,
   "metadata": {
    "collapsed": true
   },
   "outputs": [],
   "source": [
    "# EC2 command line #\n",
    "\n",
    "for chr in {1..23};do\n",
    "    for ancestry in ${ancestry_list};do\n",
    "        final_dir=${base_dir}/processing/impute_prep/${ancestry}\n",
    "        mkdir $final_dir\n",
    "        /shared/bioinformatics/software/third_party/plink-1.90-beta-4.10-x86_64/plink \\\n",
    "            --noweb \\\n",
    "            --memory 5000 \\\n",
    "            --bfile ${final_dir}/../${ancestry}_chr${chr}_for_phasing \\\n",
    "            --output-chr M \\\n",
    "            --set-hh-missing \\\n",
    "            --recode vcf bgz \\\n",
    "            --out ${final_dir}/${ancestry}_chr${chr}_final\n",
    "    done\n",
    "done"
   ]
  },
  {
   "cell_type": "markdown",
   "metadata": {},
   "source": [
    "Transfer the *.vcf.gz files to local machine (per chromosome) and then upload to MIS."
   ]
  },
  {
   "cell_type": "markdown",
   "metadata": {},
   "source": [
    "## Upload to Michigan Imputation Server (MIS)\n",
    "\n",
    "### Uploading parameters\n",
    "These are the parameters that were selected on MIS.\n",
    "\n",
    "__Name__: Kreek_EA\n",
    "\n",
    "__Reference Panel__ 1000G Phase 3 v5\n",
    "\n",
    "__Input Files__ File Upload <br>\n",
    "\n",
    "* Select Files - select VCF (.gz) files that were downloaded to local machine from cloud. <br>\n",
    "\n",
    "__Phasing__: ShapeIT v2.r790 (unphased) \n",
    "\n",
    "__Population__: EUR\n",
    "\n",
    "__Mode__: Quality Control & Imputation\n",
    "\n",
    "* I will not attempt to re-identify or contact research participants.\n",
    "* I will report any inadvertent data release, security breach or other data management incident of which I become aware."
   ]
  },
  {
   "cell_type": "markdown",
   "metadata": {},
   "source": [
    "# Download Imputed Results from MIS\n",
    "First, download the data form the Michigan Imputation Server (MIS) by clicking on the link provided in the email they send out to alert you that your data has finished. Here you will find commands for downloading the data."
   ]
  },
  {
   "cell_type": "code",
   "execution_count": null,
   "metadata": {},
   "outputs": [],
   "source": [
    "## EC2 (share drive)\n",
    "# Note: jmarks is a symlink; you will have to save results\n",
    "# to the share drive because they are very large)\n",
    "\n",
    "# create directory structure\n",
    "mkdir -p /home/ec2-user/jmarks/hiv/uhs123/data/uhs123_merged/genotype/imputed/{ea,aa}/chr23"
   ]
  },
  {
   "cell_type": "markdown",
   "metadata": {},
   "source": [
    "## EA\n",
    "The zip files from Michigan Imputation Server (MIS) need to be inflated before you can begin working with them. They require a passcode that is sent by MIS to email.\n",
    "* EA password: 4AORikqOU0YbSa\n",
    "\n",
    "Then, inflate imputation results."
   ]
  },
  {
   "cell_type": "code",
   "execution_count": null,
   "metadata": {},
   "outputs": [],
   "source": [
    "cd /shared/data/studies/heroin/kreek/genotype/imputed/20181128/ea\n",
    "\n",
    "# QC-results\n",
    "wget https://imputationserver.sph.umich.edu/share/results/9cc8b01ead466c33ea8cf8fd12e16333/qcreport.html\n",
    "\n",
    "# SNP Statistics\n",
    "wget https://imputationserver.sph.umich.edu/share/results/8e0b7a96bb3320fc4afa56dd7332d516/statistics.txt\n",
    "\n",
    "# Logs\n",
    "wget https://imputationserver.sph.umich.edu/share/results/8c1ba637f2e1521b27f0fe240eeb12d3/chr_1.log\n",
    "wget https://imputationserver.sph.umich.edu/share/results/67bd10ec79e9dbbeb84d80405fd3728/chr_10.log\n",
    "wget https://imputationserver.sph.umich.edu/share/results/5542bcdf75eb9122ce07b75ef96ba4a9/chr_11.log\n",
    "wget https://imputationserver.sph.umich.edu/share/results/4704e2a72c9d3c6edaedd400bbc0ee2/chr_12.log\n",
    "wget https://imputationserver.sph.umich.edu/share/results/94b04eae0ac254ad185c6f19628e13a2/chr_13.log\n",
    "wget https://imputationserver.sph.umich.edu/share/results/2d16285fe8f25e1d0d76d9d996d26d18/chr_14.log\n",
    "wget https://imputationserver.sph.umich.edu/share/results/c102f136ffe1446d0b090ea279c110d3/chr_15.log\n",
    "wget https://imputationserver.sph.umich.edu/share/results/df4e1056ad63c59f7ef0bc6f6ed602dd/chr_16.log\n",
    "wget https://imputationserver.sph.umich.edu/share/results/75dee0fa17320ec65d05b63499ae1e3/chr_19.log\n",
    "wget https://imputationserver.sph.umich.edu/share/results/d13bf856a5420490362c30546bdb80f0/chr_2.log\n",
    "wget https://imputationserver.sph.umich.edu/share/results/2b113eb19c5c23fc117755743079febc/chr_20.log\n",
    "wget https://imputationserver.sph.umich.edu/share/results/8c98bc11cd04b290c39e4ac0a20976cb/chr_21.log\n",
    "wget https://imputationserver.sph.umich.edu/share/results/ea645b55cbfc1cde0236487c2dd88179/chr_22.log\n",
    "wget https://imputationserver.sph.umich.edu/share/results/259a30ff5ed50f0fe4f48d878aacece9/chr_3.log\n",
    "wget https://imputationserver.sph.umich.edu/share/results/c9498a231c5f032ea70d4780df6ab086/chr_4.log\n",
    "wget https://imputationserver.sph.umich.edu/share/results/5101322509b5a377b01cf99339b6a7e1/chr_5.log\n",
    "wget https://imputationserver.sph.umich.edu/share/results/f959b858a1ccb3dbf4fa71a07de4ef96/chr_6.log\n",
    "wget https://imputationserver.sph.umich.edu/share/results/d04bc39e29c1ae059926647532338c60/chr_7.log\n",
    "wget https://imputationserver.sph.umich.edu/share/results/433cee3a0d5a290f6a4a2f587631945d/chr_8.log\n",
    "wget https://imputationserver.sph.umich.edu/share/results/a301102331a7849556b259bc96c7b2e7/chr_9.log\n",
    "wget https://imputationserver.sph.umich.edu/share/results/654836dc1a734fc6a793b2a4169ab402/chr_X.no.auto_female.log\n",
    "wget https://imputationserver.sph.umich.edu/share/results/7ddf6b8be448134055a552acf84ae8ce/chr_X.no.auto_male.log\n",
    "\n",
    "# Imputation Results\n",
    "wget https://imputationserver.sph.umich.edu/share/results/642ac4790aae16d13e4e6479ba798ec7/chr_1.zip\n",
    "wget https://imputationserver.sph.umich.edu/share/results/314be9cb9bb639f8b4ab915635868448/chr_10.zip\n",
    "wget https://imputationserver.sph.umich.edu/share/results/963d85cb5d2bcf0448d8fca5fe3409a/chr_11.zip\n",
    "wget https://imputationserver.sph.umich.edu/share/results/3e7eaff881a87b1b557ee6b5572fdb8f/chr_12.zip\n",
    "wget https://imputationserver.sph.umich.edu/share/results/6ba1a35689dea53978bd3712b5450819/chr_13.zip\n",
    "wget https://imputationserver.sph.umich.edu/share/results/f505ae864b738cd3ebe5d21013df4a4b/chr_14.zip\n",
    "wget https://imputationserver.sph.umich.edu/share/results/438ad1e6d0df969885f64e2449f0f07d/chr_15.zip\n",
    "wget https://imputationserver.sph.umich.edu/share/results/b49fdd1244e74e0a04bb22a0a959d616/chr_16.zip\n",
    "wget https://imputationserver.sph.umich.edu/share/results/3dfa1aff5e95300b24b1e8dff4ce9ea6/chr_17.zip\n",
    "wget https://imputationserver.sph.umich.edu/share/results/72eb662e0a9f026f13ae8f4b7be37b84/chr_18.zip\n",
    "wget https://imputationserver.sph.umich.edu/share/results/7d0129cf2991c85ef71e5529c92c04e/chr_19.zip\n",
    "wget https://imputationserver.sph.umich.edu/share/results/1df4d5629c523a2e5f440aa95c57d5c3/chr_2.zip\n",
    "wget https://imputationserver.sph.umich.edu/share/results/60ca7431abb995e2d2d437f51cad4999/chr_20.zip\n",
    "wget https://imputationserver.sph.umich.edu/share/results/a33c27e28598d7b9a7c0cc3d6238a2ea/chr_21.zip\n",
    "wget https://imputationserver.sph.umich.edu/share/results/85984570259e3014f0ada2b56fa8a2be/chr_22.zip\n",
    "wget https://imputationserver.sph.umich.edu/share/results/f1ecab60d735d4e0ad67340d9b90e679/chr_3.zip\n",
    "wget https://imputationserver.sph.umich.edu/share/results/34dc6e8bd5164c83d051e5fa562d4736/chr_4.zip\n",
    "wget https://imputationserver.sph.umich.edu/share/results/f8bb244760aa049a30cf1d852f82125b/chr_5.zip\n",
    "wget https://imputationserver.sph.umich.edu/share/results/adbdfb17d87aab08d6186e4d39bd5470/chr_6.zip\n",
    "wget https://imputationserver.sph.umich.edu/share/results/add3b937b8588b3086b6a139806a6f50/chr_7.zip\n",
    "wget https://imputationserver.sph.umich.edu/share/results/d142ceb2f49899406a7a585095658c65/chr_8.zip\n",
    "wget https://imputationserver.sph.umich.edu/share/results/b9ae0694ad2f509ba3b73e041a992a81/chr_9.zip\n",
    "wget https://imputationserver.sph.umich.edu/share/results/450fe80feee07f7bb07c15a27d636235/chr_X.no.auto_female.zip\n",
    "wget https://imputationserver.sph.umich.edu/share/results/67eb4dd04188a9f2a336d3eb320b4ce3/chr_X.no.auto_male.zip\n",
    "\n",
    "/shared/bioinformatics/software/scripts/qsub_job.sh \\\n",
    "    --job_name ea_impute_down \\\n",
    "    --script_prefix ea_impute_download \\\n",
    "    --mem 6.8 \\\n",
    "    --nslots 1 \\\n",
    "    --priority 0 \\\n",
    "    --program bash download_data_ea \n",
    "\n",
    "# inflate chr results\n",
    "for file in *zip;do\n",
    "    /shared/bioinformatics/software/scripts/qsub_job.sh \\\n",
    "        --job_name ea_unzip \\\n",
    "        --script_prefix ea_unzip \\\n",
    "        --mem 6.8 \\\n",
    "        --nslots 1 \\\n",
    "        --priority 0 \\\n",
    "        --program unzip -P \"4AORikqOU0YbSa\" $file\n",
    "done\n",
    "\n",
    "\n",
    "# we can remove the original imputed data from MIS after we inflate the zip files\n",
    "rm -rf *zip"
   ]
  },
  {
   "cell_type": "markdown",
   "metadata": {},
   "source": [
    "## AA\n",
    "The zip files from Michigan Imputation Server (MIS) need to be inflated before you can begin working with them. They require a passcode that is sent by MIS to email.\n",
    "* AA password: p2bKgqC6S3LKw\n",
    "\n",
    "Then, inflate imputation results."
   ]
  },
  {
   "cell_type": "code",
   "execution_count": null,
   "metadata": {},
   "outputs": [],
   "source": [
    "cd /shared/data/studies/heroin/kreek/genotype/imputed/20181128/aa\n",
    "\n",
    "# QC-results\n",
    "wget https://imputationserver.sph.umich.edu/share/results/76b2af4e51ddb17106dbd7201a64856/qcreport.html\n",
    "\n",
    "# SNP Statistics\n",
    "wget https://imputationserver.sph.umich.edu/share/results/b0e5f1ba32612be885f018712a3f35fa/statistics.txt\n",
    "\n",
    "# Logs\n",
    "wget https://imputationserver.sph.umich.edu/share/results/520107bc671f90addb78992d088a4bd6/chr_1.log\n",
    "wget https://imputationserver.sph.umich.edu/share/results/c3a24b8358c709a9810d0cd3a8cd43ce/chr_10.log\n",
    "wget https://imputationserver.sph.umich.edu/share/results/612a65dae7a1151fda96c112b2dcfb28/chr_11.log\n",
    "wget https://imputationserver.sph.umich.edu/share/results/390b9b56041aad8c435cecd4c6d90d26/chr_12.log\n",
    "wget https://imputationserver.sph.umich.edu/share/results/4d3a0f700a8fc69a96810f4da3b274ad/chr_13.log\n",
    "wget https://imputationserver.sph.umich.edu/share/results/9a30ac79a5e26b8288d870a63c5e4344/chr_14.log\n",
    "wget https://imputationserver.sph.umich.edu/share/results/78195815df31262452692f9ea3a6e6f8/chr_15.log\n",
    "wget https://imputationserver.sph.umich.edu/share/results/b99b2a2becabc0d1b267538a792eba6/chr_16.log\n",
    "wget https://imputationserver.sph.umich.edu/share/results/e35251c2dc4afe966b6b11025690848d/chr_17.log\n",
    "wget https://imputationserver.sph.umich.edu/share/results/fb37b20d3bfbf9a139881ddaafef2aa2/chr_18.log\n",
    "wget https://imputationserver.sph.umich.edu/share/results/59d2034f8e3232221b584e1dc5cebd01/chr_19.log\n",
    "wget https://imputationserver.sph.umich.edu/share/results/8bc99cead6115da117ab05bbbcf32fd/chr_2.log\n",
    "wget https://imputationserver.sph.umich.edu/share/results/dec04142eb7d5690a5d9e0e257ccbbaf/chr_20.log\n",
    "wget https://imputationserver.sph.umich.edu/share/results/3b8e900f825166e2c66ea5fc73e5a3ba/chr_21.log\n",
    "wget https://imputationserver.sph.umich.edu/share/results/e1541ec29f8d94a01a13ddf885b73c83/chr_22.log\n",
    "wget https://imputationserver.sph.umich.edu/share/results/d307186c6bed8ae73b3563a0ec129cf5/chr_3.log\n",
    "wget https://imputationserver.sph.umich.edu/share/results/b1552ffa9f80ba3430407d2b0f5d3933/chr_4.log\n",
    "wget https://imputationserver.sph.umich.edu/share/results/a07372ed1ce98ea08acd0e660cf4fb17/chr_5.log\n",
    "wget https://imputationserver.sph.umich.edu/share/results/1e555a387bd774cc1277da2c5f0288f5/chr_6.log\n",
    "wget https://imputationserver.sph.umich.edu/share/results/9e9e662f32d60769652ff3f17ab9005/chr_7.log\n",
    "wget https://imputationserver.sph.umich.edu/share/results/cfea49ba8184d362be609a1b1cd6cf0c/chr_8.log\n",
    "wget https://imputationserver.sph.umich.edu/share/results/fc291287c0ac8fcbe1cecacc8f23e5ce/chr_9.log\n",
    "wget https://imputationserver.sph.umich.edu/share/results/c5e12ba854df7d07e4630e0b257aa5f7/chr_X.no.auto_female.log\n",
    "wget https://imputationserver.sph.umich.edu/share/results/ba29e7637d07657831a7efebcad2d2ad/chr_X.no.auto_male.log\n",
    "\n",
    "# Imputation Results\n",
    "wget https://imputationserver.sph.umich.edu/share/results/6e85686d8498e08c5692b2b31cc42512/chr_1.zip\n",
    "wget https://imputationserver.sph.umich.edu/share/results/1a4bd74d9af9d36315230958b89594b9/chr_10.zip\n",
    "wget https://imputationserver.sph.umich.edu/share/results/17a0d344ee027f8dd2ab4241caf9fb84/chr_11.zip\n",
    "wget https://imputationserver.sph.umich.edu/share/results/df7831076d553445538c43422ddaf926/chr_12.zip\n",
    "wget https://imputationserver.sph.umich.edu/share/results/fcf53436fa8f5a971e85157afcccf404/chr_13.zip\n",
    "wget https://imputationserver.sph.umich.edu/share/results/8dfa37b6567eb0ec701310711b0761fa/chr_14.zip\n",
    "wget https://imputationserver.sph.umich.edu/share/results/31d2f83b9df44eeaede4fc671c473b4c/chr_15.zip\n",
    "wget https://imputationserver.sph.umich.edu/share/results/a30b20102062fe6ecc6c661ffb604c00/chr_16.zip\n",
    "wget https://imputationserver.sph.umich.edu/share/results/1b5b42ac3697c55927f641cbe1e2abb5/chr_17.zip\n",
    "wget https://imputationserver.sph.umich.edu/share/results/9063a97c412b7a680a8a7adce693428b/chr_18.zip\n",
    "wget https://imputationserver.sph.umich.edu/share/results/40ab72afda94c7a3c73fc5c05d92a99c/chr_19.zip\n",
    "wget https://imputationserver.sph.umich.edu/share/results/53602f7f9b9128f4523d53f6f3c50b83/chr_2.zip\n",
    "wget https://imputationserver.sph.umich.edu/share/results/48dd96405843563460916d48c39ae386/chr_20.zip\n",
    "wget https://imputationserver.sph.umich.edu/share/results/bf323cfad8f6798e0b288c8d0229acf6/chr_21.zip\n",
    "wget https://imputationserver.sph.umich.edu/share/results/f662aa87dca49b0c01430932e4149941/chr_22.zip\n",
    "wget https://imputationserver.sph.umich.edu/share/results/7a34c9ffbfa4b51f3dea11a44648932f/chr_3.zip\n",
    "wget https://imputationserver.sph.umich.edu/share/results/25b6828ad16a1fbe8d07a836067ac6f6/chr_4.zip\n",
    "wget https://imputationserver.sph.umich.edu/share/results/b760bc250048a4360ff58bef52f44ae5/chr_5.zip\n",
    "wget https://imputationserver.sph.umich.edu/share/results/4bba6830c9493dad608f42657cdefa44/chr_6.zip\n",
    "wget https://imputationserver.sph.umich.edu/share/results/1d0b49c2dba5a08334b7b963a7c75d5e/chr_7.zip\n",
    "wget https://imputationserver.sph.umich.edu/share/results/e68d004b9f8282a71829204587aeed75/chr_8.zip\n",
    "wget https://imputationserver.sph.umich.edu/share/results/bf7be419ce57652d4fb7541792a55669/chr_9.zip\n",
    "wget https://imputationserver.sph.umich.edu/share/results/3d296dc57dadbd74996a5b127c92438/chr_X.no.auto_female.zip\n",
    "wget https://imputationserver.sph.umich.edu/share/results/2dd8373287ba869adacd15b46a8cdd94/chr_X.no.auto_male.zip\n",
    "\n",
    "/shared/bioinformatics/software/scripts/qsub_job.sh \\\n",
    "    --job_name aa_impute_down \\\n",
    "    --script_prefix aa_impute_download \\\n",
    "    --mem 6.8 \\\n",
    "    --nslots 1 \\\n",
    "    --priority 0 \\\n",
    "    --program bash download_data_aa \n",
    "\n",
    "# inflate chr results\n",
    "for file in *zip;do\n",
    "    /shared/bioinformatics/software/scripts/qsub_job.sh \\\n",
    "        --job_name aa_unzip \\\n",
    "        --script_prefix aa_unzip \\\n",
    "        --mem 6.8 \\\n",
    "        --nslots 1 \\\n",
    "        --priority 0 \\\n",
    "        --program unzip -P \"p2bKgqC6S3LKw\" $file\n",
    "done\n",
    "# inflate chr results\n",
    "/shared/bioinformatics/software/scripts/qsub_job.sh \\\n",
    "    --job_name aa_unzip \\\n",
    "    --script_prefix aa_unzip \\\n",
    "    --mem 6.8 \\\n",
    "    --nslots 1 \\\n",
    "    --priority 0 \\\n",
    "    --program unzip -P \"p2bKgqC6S3LKw\" *zip \n",
    "# we can remove the original imputed data from MIS after we inflate the zip files\n",
    "rm -rf *zip"
   ]
  },
  {
   "cell_type": "markdown",
   "metadata": {},
   "source": [
    "# Upload to S3"
   ]
  },
  {
   "cell_type": "code",
   "execution_count": null,
   "metadata": {},
   "outputs": [],
   "source": [
    "cd /shared/data/studies/heroin/kreek/genotype/imputed/20181128\n",
    "\n",
    "for ancestry in {aa,ea};do\n",
    "    /shared/bioinformatics/software/scripts/qsub_job.sh \\\n",
    "        --job_name ${ancestry}_upload \\\n",
    "        --script_prefix ${ancestry}_upload \\\n",
    "        --mem 6.8 \\\n",
    "        --nslots 1 \\\n",
    "        --priority 0 \\\n",
    "        --program aws s3 sync ${ancestry} s3://rti-heroin/kreek/data/genotype/imputed/20181128/${ancestry}/\n",
    "done"
   ]
  }
 ],
 "metadata": {
  "kernelspec": {
   "display_name": "R",
   "language": "R",
   "name": "ir"
  },
  "language_info": {
   "codemirror_mode": "r",
   "file_extension": ".r",
   "mimetype": "text/x-r-source",
   "name": "R",
   "pygments_lexer": "r",
   "version": "3.4.3"
  },
  "toc": {
   "nav_menu": {},
   "number_sections": true,
   "sideBar": true,
   "skip_h1_title": false,
   "toc_cell": false,
   "toc_position": {},
   "toc_section_display": "block",
   "toc_window_display": true
  }
 },
 "nbformat": 4,
 "nbformat_minor": 2
}
