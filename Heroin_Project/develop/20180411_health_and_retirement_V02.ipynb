{
 "cells": [
  {
   "cell_type": "code",
   "execution_count": null,
   "metadata": {
    "collapsed": true
   },
   "outputs": [],
   "source": [
    "for f in {1..21};do\n",
    "    echo '#!/bin/bash' > chr${f}_zip.sh\n",
    "    echo '' >> chr${f}_zip.sh\n",
    "    echo \"cp -r chr\"${f} \"chr\"${f}\"_zipped\" >> chr${f}_zip.sh\n",
    "    echo \"gzip chr\"${f}\"_zipped/*\" >> chr${f}_zip.sh\n",
    "    echo \"aws s3 cp chr\"${f}\"_zipped s3://rti-nd/eMERGE/emerge_ftnd/data/genotype/imputed/ea/mach/chr\"${f}\"_zipped  --recursive --quiet\" >> chr${f}_zip.sh\n",
    "done"
   ]
  },
  {
   "cell_type": "code",
   "execution_count": null,
   "metadata": {
    "collapsed": true
   },
   "outputs": [],
   "source": [
    "for chr in {1..21}; do \n",
    "    /shared/bioinformatics/software/scripts/qsub_job.sh \\\n",
    "        --job_name zip_upload_chr${chr}_emerge \\\n",
    "        --script_prefix zip_chr${chr} \\\n",
    "        --mem 7 \\\n",
    "        --nslots 2 \\\n",
    "        --program bash chr${chr}_zip.sh \n",
    "done"
   ]
  }
 ],
 "metadata": {
  "kernelspec": {
   "display_name": "R",
   "language": "R",
   "name": "ir"
  },
  "language_info": {
   "codemirror_mode": "r",
   "file_extension": ".r",
   "mimetype": "text/x-r-source",
   "name": "R",
   "pygments_lexer": "r",
   "version": "3.4.1"
  },
  "toc": {
   "nav_menu": {},
   "number_sections": true,
   "sideBar": true,
   "skip_h1_title": false,
   "toc_cell": false,
   "toc_position": {},
   "toc_section_display": "block",
   "toc_window_display": false
  }
 },
 "nbformat": 4,
 "nbformat_minor": 2
}
