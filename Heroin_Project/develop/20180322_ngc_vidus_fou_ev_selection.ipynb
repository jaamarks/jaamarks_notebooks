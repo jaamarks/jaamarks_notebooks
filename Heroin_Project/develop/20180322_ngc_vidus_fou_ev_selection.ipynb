{
 "cells": [
  {
   "cell_type": "markdown",
   "metadata": {},
   "source": [
    "# VIDUS Frequency of Use (FOU) GWAS PCA Eigenvector Selection\n",
    "__Author__: Jesse Marks\n",
    "\n",
    "This document logs the steps taken to calculate the percent variance explained by the top 10 PCA eigenvectors for a regression model with only the eigenvectors as explanatory variables. It is assumed that the phenotype and eigenvector data are readily available in PED format as outlined in the NGC protocol."
   ]
  },
  {
   "cell_type": "markdown",
   "metadata": {},
   "source": [
    "## Data wrangling"
   ]
  },
  {
   "cell_type": "code",
   "execution_count": 10,
   "metadata": {
    "collapsed": true
   },
   "outputs": [],
   "source": [
    "# Load PCA data\n",
    "setwd('C:/Users/jmarks/Desktop/VIDUS/pheno/phenotype/')\n",
    "options(stringsAsFactors=F)\n",
    "ea.cov.data <- read.delim(\"VIDUS_NGCW1_EUR_cov.ped\", header=T, sep=\"\\t\")\n",
    "ea.phen.data <- read.delim(\"VIDUS_NGCW1_EUR_phen.ped\", header=T, sep=\"\\t\")\n",
    "\n",
    "# Combine PCs and phenotype into one data frame\n",
    "phen.name <- \"fou\"\n",
    "pc.names <- paste0(\"PC\", 1:10)\n",
    "ea.data <- merge(x=ea.phen.data[,c(\"iid\",phen.name)], y=ea.cov.data[, c(\"iid\", paste0(\"PC\",1:10))], by=\"iid\")"
   ]
  },
  {
   "cell_type": "markdown",
   "metadata": {},
   "source": [
    "## Regression analysis\n",
    "We use a regression model of the general structure\n",
    "\\begin{align}\n",
    "\\text{FOU = PC1 + PC2 + ... + PC10}\n",
    "\\end{align}"
   ]
  },
  {
   "cell_type": "code",
   "execution_count": 14,
   "metadata": {},
   "outputs": [
    {
     "name": "stdout",
     "output_type": "stream",
     "text": [
      "MODEL FORMULA:\n",
      "\n",
      " fou ~ PC1 + PC2 + PC3 + PC4 + PC5 + PC6 + PC7 + PC8 + PC9 + PC10 \n",
      "\n",
      "\n",
      "================ EA group ================"
     ]
    },
    {
     "data": {
      "text/plain": [
       "\n",
       "Call:\n",
       "lm(formula = as.formula(model.str), data = ea.data)\n",
       "\n",
       "Residuals:\n",
       "    Min      1Q  Median      3Q     Max \n",
       "-4.9423 -2.5077 -0.0178  1.2575 10.4158 \n",
       "\n",
       "Coefficients:\n",
       "            Estimate Std. Error t value Pr(>|t|)    \n",
       "(Intercept)  4.74665    0.17022  27.886   <2e-16 ***\n",
       "PC1          3.46421    2.94827   1.175    0.241    \n",
       "PC2         -4.04056    2.94831  -1.370    0.172    \n",
       "PC3          2.49804    2.94826   0.847    0.398    \n",
       "PC4         -0.09012    2.94841  -0.031    0.976    \n",
       "PC5         -2.06412    2.94817  -0.700    0.484    \n",
       "PC6         -2.22066    2.94840  -0.753    0.452    \n",
       "PC7          3.14405    2.94833   1.066    0.287    \n",
       "PC8         -2.45925    2.94830  -0.834    0.405    \n",
       "PC9          0.37367    2.94824   0.127    0.899    \n",
       "PC10         2.19177    2.94817   0.743    0.458    \n",
       "---\n",
       "Signif. codes:  0 '***' 0.001 '**' 0.01 '*' 0.05 '.' 0.1 ' ' 1\n",
       "\n",
       "Residual standard error: 2.948 on 289 degrees of freedom\n",
       "Multiple R-squared:  0.02509,\tAdjusted R-squared:  -0.008646 \n",
       "F-statistic: 0.7437 on 10 and 289 DF,  p-value: 0.683\n"
      ]
     },
     "metadata": {},
     "output_type": "display_data"
    },
    {
     "data": {
      "text/html": [
       "<table>\n",
       "<thead><tr><th></th><th scope=col>Df</th><th scope=col>Sum Sq</th><th scope=col>Mean Sq</th><th scope=col>F value</th><th scope=col>Pr(&gt;F)</th><th scope=col>PVE</th></tr></thead>\n",
       "<tbody>\n",
       "\t<tr><th scope=row>PC2</th><td>1           </td><td>16.32577388 </td><td>16.32577388 </td><td>1.8781678696</td><td>0.1716061   </td><td>25.25       </td></tr>\n",
       "\t<tr><th scope=row>PC1</th><td>1           </td><td>12.00176907 </td><td>12.00176907 </td><td>1.3807208897</td><td>0.2409456   </td><td>18.57       </td></tr>\n",
       "\t<tr><th scope=row>PC7</th><td>1           </td><td> 9.88448767 </td><td> 9.88448767 </td><td>1.1371422442</td><td>0.2871470   </td><td>15.29       </td></tr>\n",
       "\t<tr><th scope=row>PC3</th><td>1           </td><td> 6.24089751 </td><td> 6.24089751 </td><td>0.7179722856</td><td>0.3975110   </td><td> 9.65       </td></tr>\n",
       "\t<tr><th scope=row>PC8</th><td>1           </td><td> 6.04747997 </td><td> 6.04747997 </td><td>0.6957209293</td><td>0.4049142   </td><td> 9.35       </td></tr>\n",
       "\t<tr><th scope=row>PC6</th><td>1           </td><td> 4.93192236 </td><td> 4.93192236 </td><td>0.5673837072</td><td>0.4519136   </td><td> 7.63       </td></tr>\n",
       "\t<tr><th scope=row>PC10</th><td>1           </td><td> 4.80424413 </td><td> 4.80424413 </td><td>0.5526952064</td><td>0.4578225   </td><td> 7.43       </td></tr>\n",
       "\t<tr><th scope=row>PC5</th><td>1           </td><td> 4.26073408 </td><td> 4.26073408 </td><td>0.4901681179</td><td>0.4844155   </td><td> 6.59       </td></tr>\n",
       "\t<tr><th scope=row>PC9</th><td>1           </td><td> 0.13958968 </td><td> 0.13958968 </td><td>0.0160588319</td><td>0.8992474   </td><td> 0.22       </td></tr>\n",
       "\t<tr><th scope=row>PC4</th><td>1           </td><td> 0.00809291 </td><td> 0.00809291 </td><td>0.0009310336</td><td>0.9756791   </td><td> 0.01       </td></tr>\n",
       "</tbody>\n",
       "</table>\n"
      ],
      "text/latex": [
       "\\begin{tabular}{r|llllll}\n",
       "  & Df & Sum Sq & Mean Sq & F value & Pr(>F) & PVE\\\\\n",
       "\\hline\n",
       "\tPC2 & 1            & 16.32577388  & 16.32577388  & 1.8781678696 & 0.1716061    & 25.25       \\\\\n",
       "\tPC1 & 1            & 12.00176907  & 12.00176907  & 1.3807208897 & 0.2409456    & 18.57       \\\\\n",
       "\tPC7 & 1            &  9.88448767  &  9.88448767  & 1.1371422442 & 0.2871470    & 15.29       \\\\\n",
       "\tPC3 & 1            &  6.24089751  &  6.24089751  & 0.7179722856 & 0.3975110    &  9.65       \\\\\n",
       "\tPC8 & 1            &  6.04747997  &  6.04747997  & 0.6957209293 & 0.4049142    &  9.35       \\\\\n",
       "\tPC6 & 1            &  4.93192236  &  4.93192236  & 0.5673837072 & 0.4519136    &  7.63       \\\\\n",
       "\tPC10 & 1            &  4.80424413  &  4.80424413  & 0.5526952064 & 0.4578225    &  7.43       \\\\\n",
       "\tPC5 & 1            &  4.26073408  &  4.26073408  & 0.4901681179 & 0.4844155    &  6.59       \\\\\n",
       "\tPC9 & 1            &  0.13958968  &  0.13958968  & 0.0160588319 & 0.8992474    &  0.22       \\\\\n",
       "\tPC4 & 1            &  0.00809291  &  0.00809291  & 0.0009310336 & 0.9756791    &  0.01       \\\\\n",
       "\\end{tabular}\n"
      ],
      "text/markdown": [
       "\n",
       "| <!--/--> | Df | Sum Sq | Mean Sq | F value | Pr(>F) | PVE | \n",
       "|---|---|---|---|---|---|---|---|---|---|\n",
       "| PC2 | 1            | 16.32577388  | 16.32577388  | 1.8781678696 | 0.1716061    | 25.25        | \n",
       "| PC1 | 1            | 12.00176907  | 12.00176907  | 1.3807208897 | 0.2409456    | 18.57        | \n",
       "| PC7 | 1            |  9.88448767  |  9.88448767  | 1.1371422442 | 0.2871470    | 15.29        | \n",
       "| PC3 | 1            |  6.24089751  |  6.24089751  | 0.7179722856 | 0.3975110    |  9.65        | \n",
       "| PC8 | 1            |  6.04747997  |  6.04747997  | 0.6957209293 | 0.4049142    |  9.35        | \n",
       "| PC6 | 1            |  4.93192236  |  4.93192236  | 0.5673837072 | 0.4519136    |  7.63        | \n",
       "| PC10 | 1            |  4.80424413  |  4.80424413  | 0.5526952064 | 0.4578225    |  7.43        | \n",
       "| PC5 | 1            |  4.26073408  |  4.26073408  | 0.4901681179 | 0.4844155    |  6.59        | \n",
       "| PC9 | 1            |  0.13958968  |  0.13958968  | 0.0160588319 | 0.8992474    |  0.22        | \n",
       "| PC4 | 1            |  0.00809291  |  0.00809291  | 0.0009310336 | 0.9756791    |  0.01        | \n",
       "\n",
       "\n"
      ],
      "text/plain": [
       "     Df Sum Sq      Mean Sq     F value      Pr(>F)    PVE  \n",
       "PC2  1  16.32577388 16.32577388 1.8781678696 0.1716061 25.25\n",
       "PC1  1  12.00176907 12.00176907 1.3807208897 0.2409456 18.57\n",
       "PC7  1   9.88448767  9.88448767 1.1371422442 0.2871470 15.29\n",
       "PC3  1   6.24089751  6.24089751 0.7179722856 0.3975110  9.65\n",
       "PC8  1   6.04747997  6.04747997 0.6957209293 0.4049142  9.35\n",
       "PC6  1   4.93192236  4.93192236 0.5673837072 0.4519136  7.63\n",
       "PC10 1   4.80424413  4.80424413 0.5526952064 0.4578225  7.43\n",
       "PC5  1   4.26073408  4.26073408 0.4901681179 0.4844155  6.59\n",
       "PC9  1   0.13958968  0.13958968 0.0160588319 0.8992474  0.22\n",
       "PC4  1   0.00809291  0.00809291 0.0009310336 0.9756791  0.01"
      ]
     },
     "metadata": {},
     "output_type": "display_data"
    }
   ],
   "source": [
    "# Build model formula\n",
    "model.str <- paste0(phen.name, \" ~ \", paste(pc.names, collapse=\" + \"))\n",
    "cat(\"MODEL FORMULA:\\n\\n\", model.str, \"\\n\")\n",
    "\n",
    "# Get model fits\n",
    "lm.fit.ea <- lm(formula=as.formula(model.str), data=ea.data)\n",
    "\n",
    "# Get sequential (type I) sum of squares\n",
    "anova.ea <- anova(lm.fit.ea)\n",
    "\n",
    "# Calculate percent variance explained and sort\n",
    "ea.pve <- cbind(anova.ea[pc.names,], \n",
    "                PVE=round(anova.ea[pc.names, \"Mean Sq\"]/sum(anova.ea[pc.names, \"Mean Sq\"])*100, digits=2))\n",
    "ea.pve.sorted <- ea.pve[order(ea.pve$PVE, decreasing=T),]\n",
    "\n",
    "# Output regression info\n",
    "cat(\"\\n\\n================ EA group ================\")\n",
    "summary(lm.fit.ea)\n",
    "ea.pve.sorted"
   ]
  },
  {
   "cell_type": "markdown",
   "metadata": {},
   "source": [
    "__Note__: the top 5 PCs explain 75% of the variance - PC {2,1,7,3,8}"
   ]
  },
  {
   "cell_type": "markdown",
   "metadata": {},
   "source": [
    "## Percent Variance Explained Visualization"
   ]
  },
  {
   "cell_type": "code",
   "execution_count": 15,
   "metadata": {},
   "outputs": [
    {
     "data": {
      "image/png": "[encoded data removed]",
      "text/plain": [
       "Plot with title \"EA PVE Cumulative Sum\""
      ]
     },
     "metadata": {},
     "output_type": "display_data"
    },
    {
     "data": {
      "image/png": "[encoded data removed]",
      "text/plain": [
       "Plot with title \"EA PVE Cumulative Sum (Sorted PCs)\""
      ]
     },
     "metadata": {},
     "output_type": "display_data"
    }
   ],
   "source": [
    "options(repr.plot.width=13, repr.plot.height=5)\n",
    "\n",
    "# Set graphical parameters\n",
    "cex.factor = 0.9\n",
    "barplot.ylim.ea = c(0, max(ea.pve$PVE)*1.2)\n",
    "\n",
    "# Visualize PVE\n",
    "par(mfrow=c(1,2))\n",
    "barplot(height=ea.pve$PVE, names.arg=rownames(ea.pve), beside=T, cex.names=cex.factor, \n",
    "        col=\"red3\", border=\"red3\", ylim=barplot.ylim.ea, \n",
    "        main=\"EA Percent Variance Explained\", ylab=\"PVE\")\n",
    "plot(cumsum(ea.pve$PVE), type=\"b\", main=\"EA PVE Cumulative Sum\", ylab=\"PVE\", \n",
    "     lwd=2, col=\"red3\", pch=17, xaxt=\"n\", xlab=\"\", ylim=c(0,100))\n",
    "axis(side=1, at=c(1:10), labels=rownames(ea.pve), cex.axis=cex.factor)\n",
    "\n",
    "par(mfrow=c(1,2))\n",
    "barplot(height=ea.pve.sorted$PVE, names.arg=rownames(ea.pve.sorted), beside=T, cex.names=cex.factor, \n",
    "        col=\"red3\", border=\"red3\", ylim=barplot.ylim.ea, main=\"EA Percent Variance Explained (Sorted PCs)\", ylab=\"PVE\")\n",
    "plot(cumsum(ea.pve.sorted$PVE), type=\"b\", main=\"EA PVE Cumulative Sum (Sorted PCs)\", ylab=\"PVE\", \n",
    "     lwd=2, col=\"red3\", pch=17, xaxt=\"n\", xlab=\"\", ylim=c(0,100))\n",
    "axis(side=1, at=c(1:10), labels=rownames(ea.pve.sorted), cex.axis=cex.factor)\n"
   ]
  }
 ],
 "metadata": {
  "kernelspec": {
   "display_name": "R",
   "language": "R",
   "name": "ir"
  },
  "language_info": {
   "codemirror_mode": "r",
   "file_extension": ".r",
   "mimetype": "text/x-r-source",
   "name": "R",
   "pygments_lexer": "r",
   "version": "3.4.1"
  },
  "toc": {
   "nav_menu": {},
   "number_sections": true,
   "sideBar": true,
   "skip_h1_title": false,
   "toc_cell": false,
   "toc_position": {},
   "toc_section_display": "block",
   "toc_window_display": false
  }
 },
 "nbformat": 4,
 "nbformat_minor": 2
}
