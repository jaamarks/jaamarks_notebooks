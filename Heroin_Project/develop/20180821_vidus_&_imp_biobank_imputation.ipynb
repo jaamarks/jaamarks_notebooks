{
 "cells": [
  {
   "cell_type": "markdown",
   "metadata": {},
   "source": [
    "# VIDUS & IMP BioBank Phasing + Imputation\n",
    "__Author__: Jesse Marks\n",
    "\n",
    "**Date:** August 21, 2018\n",
    "\n",
    "**GitHub Issue:** [Imputation Correction Strategy #104](https://github.com/RTIInternational/bioinformatics/issues/104)\n",
    "\n",
    "This document logs the steps taken to perform phasing and imputation on the merged case-control datasets of [VIDUS](http://www.cfenet.ubc.ca/research/vidus) & [IMP Biobank](https://www.ncbi.nlm.nih.gov/projects/gap/cgi-bin/study.cgi?study_id=phs000388.v1.p1). The starting point for this analysis is after quality control of observed genotypes. The quality controlled genotypes are oriented on the GRCh37 plus strand. Based on findings from [Johnson et al.](https://link.springer.com/article/10.1007/s00439-013-1266-7), the intersection set of variants for will be used for imputation. \n",
    "\n",
    "## Software and tools\n",
    "The software and tools used for porcessing these data are\n",
    "* [Michigan Imputation Server](https://imputationserver.sph.umich.edu/index.html) (MIS)\n",
    "* [Amazon Web Services (AWS) - Cloud Computing Services](https://aws.amazon.com/)\n",
    "    * Linux AMI\n",
    "* [PLINK v1.90 beta 4.10](https://www.cog-genomics.org/plink/)\n",
    "* [bgzip](http://www.htslib.org/doc/tabix.html)\n",
    "* [BCF Tools](http://www.htslib.org/doc/bcftools.html)\n",
    "* Windows 10 with [Cygwin](https://cygwin.com/) installed\n",
    "* GNU bash version 4.2.46\n",
    "\n",
    "## Data retrieval and organization\n",
    "PLINK binary filesets will be obtained from AWS S3 storage."
   ]
  },
  {
   "cell_type": "code",
   "execution_count": null,
   "metadata": {},
   "outputs": [],
   "source": [
    "mkdir -p /home/ec2-user/jmarks/heroin/VIDUS_and_IMP_BIOBANK_imputation/{vidus,imp_biobank}/genotype/original/final\n",
    "cd /home/ec2-user/jmarks/heroin/VIDUS_and_IMP_BIOBANK_imputation/\n",
    "\n",
    "aws s3 sync s3://rti-heroin/imp_biobank/data/genotype/original/final imp_biobank/genotype/original/final\n",
    "aws s3 sync s3://rti-heroin/ngc_vidus_fou/data/genotype/original/ea vidus/genotype/original/final"
   ]
  },
  {
   "cell_type": "markdown",
   "metadata": {},
   "source": [
    "## Data processing\n",
    "### GRCh37 strand and allele discordance check"
   ]
  },
  {
   "cell_type": "code",
   "execution_count": null,
   "metadata": {
    "collapsed": true
   },
   "outputs": [],
   "source": [
    "# EC2 command line #\n",
    "cd /home/ec2-user/jmarks/heroin/VIDUS_and_IMP_BIOBANK_imputation\n",
    "\n",
    "mkdir 1000g\n",
    "ancestry=\"ea\"\n",
    "for study in {imp_biobank,vidus}; do\n",
    "    mkdir ${study}/genotype/strand_check\n",
    "    /shared/bioinformatics/software/third_party/plink-1.90-beta-4.10-x86_64/plink \\\n",
    "        --noweb \\\n",
    "        --memory 2048 \\\n",
    "        --bfile ${study}/genotype/original/final/${ancestry}_chr_all \\\n",
    "        --freq \\\n",
    "        --out ${study}/genotype/strand_check/${ancestry}_chr_all\n",
    "done\n",
    "\n",
    "# Get list of variants from all studies\n",
    "cat {imp_biobank,vidus}/genotype/original/final/${ancestry}_chr_all.bim | \\\n",
    "        perl -lane 'if (($F[0]+0) <= 23) { print $F[1]; }' | \\\n",
    "        sort -u > ${ancestry}_chr_all_sorted_variants.txt\n",
    "\n",
    " wc -l ea_chr_all_sorted_variants.txt\n",
    "\"\"\"1106437 ea_chr_all_sorted_variants.txt\"\"\"\n",
    "\n",
    "\n",
    "# Calculate autosome MAFs for 1000G EUR, \n",
    "pop=\"EUR\"\n",
    "ancestry=\"ea\"\n",
    "for chr in {1..22}; do\n",
    "    /shared/bioinformatics/software/scripts/qsub_job.sh \\\n",
    "        --job_name ${pop}_${chr} \\\n",
    "        --script_prefix ${pop}_chr${chr}.maf \\\n",
    "        --mem 8 \\\n",
    "        --nslots 2 \\\n",
    "        --priority 0 \\\n",
    "        --program /shared/bioinformatics/software/perl/stats/calculate_maf_from_impute2_hap_file.pl \\\n",
    "            --hap /shared/data/ref_panels/1000G/2014.10/1000GP_Phase3_chr${chr}.hap.gz\\\n",
    "            --legend /shared/data/ref_panels/1000G/2014.10/1000GP_Phase3_chr${chr}.legend.gz \\\n",
    "            --sample /shared/data/ref_panels/1000G/2014.10/1000GP_Phase3.sample \\\n",
    "            --chr ${chr} \\\n",
    "            --out 1000g/${pop}_chr${chr}.maf \\\n",
    "            --extract ${ancestry}_chr_all_sorted_variants.txt \\\n",
    "            --keep_groups ${pop}\n",
    "done\n",
    "\n",
    "# Calculate chrX MAFs for 1000G EUR, \n",
    "pop=\"EUR\"\n",
    "ancestry=\"ea\"\n",
    "chr=23\n",
    "/shared/bioinformatics/software/scripts/qsub_job.sh \\\n",
    "    --job_name ${pop}_${chr} \\\n",
    "    --script_prefix ${pop}_chr${chr}.maf \\\n",
    "    --mem 7 \\\n",
    "    --priority 0 \\\n",
    "    --program perl /shared/bioinformatics/software/perl/stats/calculate_maf_from_impute2_hap_file.pl \\\n",
    "        --hap /shared/data/ref_panels/1000G/2014.10/1000GP_Phase3_chrX_NONPAR.hap.gz\\\n",
    "        --legend /shared/data/ref_panels/1000G/2014.10/1000GP_Phase3_chrX_NONPAR.legend.gz \\\n",
    "        --sample /shared/data/ref_panels/1000G/2014.10/1000GP_Phase3.sample \\\n",
    "        --chr ${chr} \\\n",
    "        --extract ${ancestry}_chr_all_sorted_variants.txt \\\n",
    "        --out 1000g/${pop}_chr${chr}.maf \\\n",
    "        --keep_groups ${pop}\n",
    "\n",
    "\n",
    "# Merge per chr MAFs for EUR\n",
    "pop=\"EUR\"\n",
    "head -n 1 1000g/${pop}_chr1.maf > 1000g/${pop}_chr_all.maf\n",
    "tail -q -n +2 1000g/${pop}_chr{1..23}.maf \\\n",
    "    >> 1000g/${pop}_chr_all.maf\n",
    "\n",
    "# Run discordance checks for EA group\n",
    "pop=\"EUR\"\n",
    "ancestry=\"ea\"\n",
    "for study in {imp_biobank,vidus}; do\n",
    "    /shared/bioinformatics/software/scripts/qsub_job.sh \\\n",
    "        --job_name ${ancestry}_${study}_crosscheck \\\n",
    "        --script_prefix ${study}/genotype/strand_check/${ancestry}_allele_discordance_check \\\n",
    "        --mem 6 \\\n",
    "        --priority 0 \\\n",
    "        --program \"Rscript /shared/bioinformatics/software/R/check_study_data_against_1000G.R\n",
    "            --study_bim_file ${study}/genotype/original/final/${ancestry}_chr_all.bim\n",
    "            --study_frq_file ${study}/genotype/strand_check/${ancestry}_chr_all.frq\n",
    "            --ref_maf_file 1000g/${pop}_chr_all.maf\n",
    "            --out_prefix ${study}/genotype/strand_check/${ancestry}_allele_discordance\"\n",
    "done"
   ]
  },
  {
   "cell_type": "markdown",
   "metadata": {},
   "source": [
    "### Resolving allele discordances\n",
    "The allele discordances will be resolved by\n",
    "* Flipping allele discordances that are fixed by flipping\n",
    "* Removing SNPs with discordant names\n",
    "* Removing SNPs with discordant positions\n",
    "* Removing allele discordances that are not resolved by flipping\n",
    "* Removing alleles with large deviations from the reference population allele frequencies\n",
    "\n",
    "Given that the allele discordance check was done using a union set of SNPs across all studies within an ancestry group, some of the SNPs logged as discordant for a given study may not actually be in the study. Fortunately, if they are not in a given study they will not interfere with the filtering procedures."
   ]
  },
  {
   "cell_type": "code",
   "execution_count": null,
   "metadata": {
    "collapsed": true
   },
   "outputs": [],
   "source": [
    "# EC2 command line #\n",
    "cd /home/ec2-user/jmarks/heroin/VIDUS_and_IMP_BIOBANK_imputation\n",
    "\n",
    "ancestry=\"ea\"\n",
    "\n",
    "for study in {imp_biobank,vidus}; do\n",
    "    echo -e \"\\n===============\\nProcessing ${study}\\n\"\n",
    "    # Create remove list\n",
    "    echo \"Making remove list\"\n",
    "    cat <(cut -f2,2 ${study}/genotype/strand_check/${ancestry}_allele_discordance.discordant_alleles_not_fixed_by_strand_flip | tail -n +2) \\\n",
    "        <(cut -f2,2 ${study}/genotype/strand_check/${ancestry}_allele_discordance.at_cg_snps_freq_diff_gt_0.2 | tail -n +2) \\\n",
    "        <(cut -f2,2 ${study}/genotype/strand_check/${ancestry}_allele_discordance.discordant_names | tail -n +2) \\\n",
    "        <(cut -f2,2 ${study}/genotype/strand_check/${ancestry}_allele_discordance.discordant_positions | tail -n +2) \\\n",
    "        <(cut -f2,2 ${study}/genotype/strand_check/${ancestry}_allele_discordance.discordant_alleles_polymorphic_in_study_not_fixed_by_strand_flip | tail -n +2) | \\\n",
    "        sort -u > ${study}/genotype/${ancestry}_snps.remove\n",
    "\n",
    "    # Create flip list\n",
    "    echo \"Making flip list\"\n",
    "    comm -23 <(cut -f2,2 ${study}/genotype/strand_check/${ancestry}_allele_discordance.discordant_alleles | tail -n +2 | sort -u) \\\n",
    "        <(cut -f2,2 ${study}/genotype/strand_check/${ancestry}_allele_discordance.discordant_alleles_not_fixed_by_strand_flip | tail -n +2 | sort -u) \\\n",
    "        > ${study}/genotype/${ancestry}_snps.flip\n",
    "\n",
    "    # Apply filters\n",
    "    /shared/bioinformatics/software/third_party/plink-1.90-beta-4.10-x86_64/plink \\\n",
    "        --noweb \\\n",
    "        --memory 2048 \\\n",
    "        --bfile ${study}/genotype/original/final/${ancestry}_chr_all \\\n",
    "        --exclude ${study}/genotype/${ancestry}_snps.remove \\\n",
    "        --flip ${study}/genotype/${ancestry}_snps.flip \\\n",
    "        --make-bed \\\n",
    "        --out ${study}/genotype/original/final/${ancestry}_filtered\n",
    "done\n",
    "\n",
    "wc -l */genotype/original/final/*bim\n",
    "\"\"\"\n",
    "wc -l */genotype/original/final/*bim\n",
    "   600372 imp_biobank/genotype/original/final/ea_chr_all.bim\n",
    "   600371 imp_biobank/genotype/original/final/ea_filtered.bim\n",
    "   686855 vidus/genotype/original/final/ea_chr_all.bim\n",
    "   679342 vidus/genotype/original/final/ea_filtered.bim\n",
    "\"\"\""
   ]
  },
  {
   "cell_type": "markdown",
   "metadata": {},
   "source": [
    "### Remove monomorphic variants\n",
    "Monomorphic variants prevent MIS from accepting the genotype data. In this case, an arbitrarily small MAF is set that is smaller than the lower bound for these data."
   ]
  },
  {
   "cell_type": "code",
   "execution_count": null,
   "metadata": {
    "collapsed": true
   },
   "outputs": [],
   "source": [
    "# EC2 command line #\n",
    "cd /home/ec2-user/jmarks/heroin/VIDUS_and_IMP_BIOBANK_imputation\n",
    "\n",
    "ancestry=\"ea\"\n",
    "\n",
    "for study in {imp_biobank,vidus}; do\n",
    "    # Apply filters\n",
    "    /shared/bioinformatics/software/third_party/plink-1.90-beta-4.10-x86_64/plink \\\n",
    "        --noweb \\\n",
    "        --memory 2048 \\\n",
    "        --bfile ${study}/genotype/original/final/${ancestry}_filtered \\\n",
    "        --maf 0.000001 \\\n",
    "        --make-bed \\\n",
    "        --out ${study}/genotype/original/final/${ancestry}_filtered_mono\n",
    "done\n",
    "\n",
    "\"\"\"\n",
    "wc -l */genotype/original/final/*bim\n",
    "   600372 imp_biobank/genotype/original/final/ea_chr_all.bim\n",
    "   600371 imp_biobank/genotype/original/final/ea_filtered.bim\n",
    "   600371 imp_biobank/genotype/original/final/ea_filtered_mono.bim\n",
    "   686855 vidus/genotype/original/final/ea_chr_all.bim\n",
    "   679342 vidus/genotype/original/final/ea_filtered.bim\n",
    "   653513 vidus/genotype/original/final/ea_filtered_mono.bim\n",
    "\"\"\""
   ]
  },
  {
   "cell_type": "markdown",
   "metadata": {},
   "source": [
    "### SNP intersection"
   ]
  },
  {
   "cell_type": "code",
   "execution_count": null,
   "metadata": {
    "collapsed": true
   },
   "outputs": [],
   "source": [
    "# EC2 command line #\n",
    "cd /home/ec2-user/jmarks/heroin/VIDUS_and_IMP_BIOBANK_imputation\n",
    "\n",
    "mkdir intersect\n",
    "studies=(imp_biobank vidus) # array of study names\n",
    "\n",
    "# Get intersection set\n",
    "    file1=${studies[0]}/genotype/original/final/${ancestry}_filtered_mono.bim\n",
    "    file2=${studies[1]}/genotype/original/final/${ancestry}_filtered_mono.bim\n",
    "    echo -e \"\\nCalculating intersection between ${file1} and ${file2}...\\n\"\n",
    "    comm -12 <(cut -f 2,2 $file1 | sort -u) <(cut -f 2,2 $file2 | sort -u) \\\n",
    "        > intersect/${ancestry}_variant_intersection.txt\n",
    "\n",
    "# Make new PLINK binary file sets\n",
    "    for study in ${studies[@]}; do\n",
    "        /shared/bioinformatics/software/third_party/plink-1.90-beta-4.10-x86_64/plink \\\n",
    "            --noweb \\\n",
    "            --bfile ${study}/genotype/original/final/${ancestry}_filtered_mono \\\n",
    "            --extract intersect/${ancestry}_variant_intersection.txt \\\n",
    "            --make-bed \\\n",
    "            --out intersect/${study}_${ancestry}_filtered_snp_intersection\n",
    "    done\n",
    "\n",
    "\"\"\"\n",
    " wc -l intersect/*bim\n",
    "  180758 intersect/imp_biobank_ea_filtered_snp_intersection.bim\n",
    "\"\"\""
   ]
  },
  {
   "cell_type": "markdown",
   "metadata": {},
   "source": [
    "### Merge test\n",
    "As a final check to confirm that our data sets are all compatible, a PLINK file set merge is conducted. If any issues persist then an error will be raised."
   ]
  },
  {
   "cell_type": "code",
   "execution_count": null,
   "metadata": {
    "collapsed": true
   },
   "outputs": [],
   "source": [
    "# EC2 command line #\n",
    "cd /home/ec2-user/jmarks/heroin/VIDUS_and_IMP_BIOBANK_imputation/intersect\n",
    "\n",
    "# Merge file sets\n",
    "echo -e \"\\n\\n======== ${ancestry} ========\\n\\n\"\n",
    "/shared/bioinformatics/software/third_party/plink-1.90-beta-4.10-x86_64/plink \\\n",
    "    --noweb \\\n",
    "    --memory 4000 \\\n",
    "    --bfile vidus_${ancestry}_filtered_snp_intersection \\\n",
    "    --bmerge imp_biobank_${ancestry}_filtered_snp_intersection \\\n",
    "    --make-bed \\\n",
    "    --out ${ancestry}_studies_merged"
   ]
  },
  {
   "cell_type": "markdown",
   "metadata": {},
   "source": [
    "## Imputation preparation for Michigan Imputation Server\n",
    "Visit the [MIS Getting Started Webpage](https://imputationserver.sph.umich.edu/start.html#!pages/help) for more information about the preparing the data for upload to MIS.\n",
    "### VCF File Conversion"
   ]
  },
  {
   "cell_type": "code",
   "execution_count": null,
   "metadata": {
    "collapsed": true
   },
   "outputs": [],
   "source": [
    "# EC2 command line #\n",
    "cd /home/ec2-user/jmarks/heroin/VIDUS_and_IMP_BIOBANK_imputation\n",
    "\n",
    "mkdir phase_prep\n",
    "ancestry=\"ea\"\n",
    "\n",
    "# Split by chr and remove any individuals with missing data for whole chr\n",
    "for chr in {1..23}; do\n",
    "    # Remove SNPs\n",
    "    /shared/bioinformatics/software/third_party/plink-1.90-beta-4.10-x86_64/plink \\\n",
    "        --noweb \\\n",
    "        --memory 4000 \\\n",
    "        --bfile intersect/${ancestry}_studies_merged \\\n",
    "        --chr ${chr} \\\n",
    "        --mind 0.99 \\\n",
    "        --make-bed \\\n",
    "        --out phase_prep/${ancestry}_chr${chr}_for_phasing \n",
    "done > chr_splitting.log"
   ]
  },
  {
   "cell_type": "markdown",
   "metadata": {},
   "source": [
    "__Note__: No subjects were removed.\n",
    "\n",
    "```\n",
    " wc -l *bim\n",
    "  10260 ea_chr10_for_phasing.bim\n",
    "   9357 ea_chr11_for_phasing.bim\n",
    "   9111 ea_chr12_for_phasing.bim\n",
    "   6995 ea_chr13_for_phasing.bim\n",
    "   6026 ea_chr14_for_phasing.bim\n",
    "   5866 ea_chr15_for_phasing.bim\n",
    "   6220 ea_chr16_for_phasing.bim\n",
    "   4919 ea_chr17_for_phasing.bim\n",
    "   5803 ea_chr18_for_phasing.bim\n",
    "   3045 ea_chr19_for_phasing.bim\n",
    "  14935 ea_chr1_for_phasing.bim\n",
    "   4857 ea_chr20_for_phasing.bim\n",
    "   2698 ea_chr21_for_phasing.bim\n",
    "   2572 ea_chr22_for_phasing.bim\n",
    "     39 ea_chr23_for_phasing.bim\n",
    "  14950 ea_chr2_for_phasing.bim\n",
    "  12454 ea_chr3_for_phasing.bim\n",
    "  10313 ea_chr4_for_phasing.bim\n",
    "  11018 ea_chr5_for_phasing.bim\n",
    "  11356 ea_chr6_for_phasing.bim\n",
    "   9692 ea_chr7_for_phasing.bim\n",
    "   9719 ea_chr8_for_phasing.bim\n",
    "   8553 ea_chr9_for_phasing.bim\n",
    " 180758 total\n",
    "\n",
    "```"
   ]
  },
  {
   "cell_type": "code",
   "execution_count": null,
   "metadata": {
    "collapsed": true
   },
   "outputs": [],
   "source": [
    "# EC2 command line #\n",
    "cd /home/ec2-user/jmarks/heroin/VIDUS_and_IMP_BIOBANK_imputation/phase_prep\n",
    "mkdir ea\n",
    "\n",
    "ancestry=\"ea\"\n",
    "for chr in {1..22}; do\n",
    "    /shared/bioinformatics/software/third_party/plink-1.90-beta-4.10-x86_64/plink \\\n",
    "        --noweb \\\n",
    "        --memory 5000 \\\n",
    "        --bfile ${ancestry}_chr${chr}_for_phasing \\\n",
    "        --recode vcf bgz \\\n",
    "        --out ${ancestry}/${ancestry}_chr${chr}_final\n",
    "done\n",
    "\n",
    "chr=23\n",
    "/shared/bioinformatics/software/third_party/plink-1.90-beta-4.10-x86_64/plink \\\n",
    "    --noweb \\\n",
    "    --memory 5000 \\\n",
    "    --bfile ${ancestry}_chr${chr}_for_phasing \\\n",
    "    --output-chr M \\\n",
    "    --set-hh-missing \\\n",
    "    --recode vcf bgz \\\n",
    "    --out ${ancestry}/${ancestry}_chr${chr}_final"
   ]
  },
  {
   "cell_type": "markdown",
   "metadata": {},
   "source": [
    "Transfer the *.vcf.gz files to local machine (per chromosome) and then upload to MIS."
   ]
  },
  {
   "cell_type": "code",
   "execution_count": null,
   "metadata": {},
   "outputs": [],
   "source": [
    "cd /cygdrive/c/Users/jmarks/Desktop/data_transfers/michigan_imputation_server/vidus_and_imp_biobank\n",
    "scp -i ~/.ssh/gwas_rsa ec2-user@35.168.108.18:/home/ec2-user/jmarks/heroin/VIDUS_and_IMP_BIOBANK_imputation/phase_prep/ea/*gz ."
   ]
  },
  {
   "cell_type": "markdown",
   "metadata": {},
   "source": [
    "## Upload to Michigan Imputation Server (MIS)\n",
    "\n",
    "### Uploading parameters\n",
    "These are the parameters that were selected on MIS.\n",
    "\n",
    "__Name__: chr1-22\n",
    "\n",
    "__Reference Panel__ 1000G Phase 3 v5\n",
    "\n",
    "__Input Files__ File Upload <br>\n",
    "\n",
    "* Select Files - select VCF files that were downloaded to local machine from cloud. <br>\n",
    "\n",
    "__Phasing__: ShapeIT v2.r790 (unphased) \n",
    "\n",
    "__Population__: EUR\n",
    "\n",
    "__Mode__: Quality Control & Imputation\n",
    "\n",
    "* I will not attempt to re-identify or contact research participants.\n",
    "* I will report any inadvertent data release, security breach or other data management incident of which I become aware."
   ]
  }
 ],
 "metadata": {
  "kernelspec": {
   "display_name": "R",
   "language": "R",
   "name": "ir"
  },
  "language_info": {
   "codemirror_mode": "r",
   "file_extension": ".r",
   "mimetype": "text/x-r-source",
   "name": "R",
   "pygments_lexer": "r",
   "version": "3.4.3"
  },
  "toc": {
   "nav_menu": {},
   "number_sections": true,
   "sideBar": true,
   "skip_h1_title": false,
   "toc_cell": false,
   "toc_position": {},
   "toc_section_display": "block",
   "toc_window_display": false
  }
 },
 "nbformat": 4,
 "nbformat_minor": 2
}
