{
 "cells": [
  {
   "cell_type": "markdown",
   "metadata": {},
   "source": [
    "# VIDUS & IMP BioBank Phasing + Imputation\n",
    "__Author__: Jesse Marks\n",
    "\n",
    "**Date:** August 21, 2018\n",
    "\n",
    "**GitHub Issue:** [Imputation Correction Strategy #104](https://github.com/RTIInternational/bioinformatics/issues/104)\n",
    "\n",
    "This document logs the steps taken to perform phasing and imputation on the merged case-control datasets of [VIDUS](http://www.cfenet.ubc.ca/research/vidus) & [IMP Biobank](https://www.ncbi.nlm.nih.gov/projects/gap/cgi-bin/study.cgi?study_id=phs000388.v1.p1). The starting point for this analysis is after quality control of observed genotypes. The quality controlled genotypes are oriented on the GRCh37 plus strand. Based on findings from [Johnson et al.](https://link.springer.com/article/10.1007/s00439-013-1266-7), the intersection set of variants for will be used for imputation. \n",
    "\n",
    "## Software and tools\n",
    "The software and tools used for porcessing these data are\n",
    "* [Michigan Imputation Server](https://imputationserver.sph.umich.edu/index.html) (MIS)\n",
    "* [Amazon Web Services (AWS) - Cloud Computing Services](https://aws.amazon.com/)\n",
    "    * Linux AMI\n",
    "* [PLINK v1.90 beta 4.10](https://www.cog-genomics.org/plink/)\n",
    "* [bgzip](http://www.htslib.org/doc/tabix.html)\n",
    "* [BCF Tools](http://www.htslib.org/doc/bcftools.html)\n",
    "* Windows 10 with [Cygwin](https://cygwin.com/) installed\n",
    "* GNU bash version 4.2.46\n",
    "\n",
    "## Data retrieval and organization\n",
    "PLINK binary filesets will be obtained from AWS S3 storage."
   ]
  },
  {
   "cell_type": "code",
   "execution_count": null,
   "metadata": {},
   "outputs": [],
   "source": [
    "mkdir -p /home/ec2-user/jmarks/heroin/VIDUS_and_IMP_BIOBANK_imputation/{vidus,imp_biobank}/genotype/original/final\n",
    "cd /home/ec2-user/jmarks/heroin/VIDUS_and_IMP_BIOBANK_imputation/\n",
    "\n",
    "aws s3 sync s3://rti-heroin/imp_biobank/data/genotype/original/final imp_biobank/genotype/original/final\n",
    "aws s3 sync s3://rti-heroin/ngc_vidus_fou/data/genotype/original/ea vidus/genotype/original/final"
   ]
  },
  {
   "cell_type": "markdown",
   "metadata": {},
   "source": [
    "# Statistics Breakdown\n",
    "This table includes the initial number of variants in each study as well as the final number of variants in the intersection set. The `Variants Post-Filtering` is in referral to the filtering steps (1) remove discordant alleles & (2) removal of monomorphic variants.\n",
    "\n",
    "| Data Set                 | Initial Variants | Variants Post-Filtering  | Intersection     |\n",
    "|--------------------------|------------------|--------------------------|------------------|\n",
    "| IMP BioBank              | 600,372          | 600,371                  | 180,758          |\n",
    "| VIDUS                    | 686,855          | 653,513                  | 180,758          |\n",
    "\n",
    "**Note:** The intersection set is significantly smaller than either set of cohort variants. This is due to the fact that different chips were used for the genotyping of the samples. More specifically, an Illumina based chip was used for VIDUS and an Affy based chip was used for the IMP BioBank samples."
   ]
  },
  {
   "cell_type": "markdown",
   "metadata": {},
   "source": [
    "## Data processing\n",
    "### GRCh37 strand and allele discordance check"
   ]
  },
  {
   "cell_type": "code",
   "execution_count": null,
   "metadata": {
    "collapsed": true
   },
   "outputs": [],
   "source": [
    "# EC2 command line #\n",
    "cd /home/ec2-user/jmarks/heroin/VIDUS_and_IMP_BIOBANK_imputation\n",
    "\n",
    "mkdir 1000g\n",
    "ancestry=\"ea\"\n",
    "for study in {imp_biobank,vidus}; do\n",
    "    mkdir ${study}/genotype/strand_check\n",
    "    /shared/bioinformatics/software/third_party/plink-1.90-beta-4.10-x86_64/plink \\\n",
    "        --noweb \\\n",
    "        --memory 2048 \\\n",
    "        --bfile ${study}/genotype/original/final/${ancestry}_chr_all \\\n",
    "        --freq \\\n",
    "        --out ${study}/genotype/strand_check/${ancestry}_chr_all\n",
    "done\n",
    "\n",
    "# Get list of variants from all studies\n",
    "cat {imp_biobank,vidus}/genotype/original/final/${ancestry}_chr_all.bim | \\\n",
    "        perl -lane 'if (($F[0]+0) <= 23) { print $F[1]; }' | \\\n",
    "        sort -u > ${ancestry}_chr_all_sorted_variants.txt\n",
    "\n",
    " wc -l ea_chr_all_sorted_variants.txt\n",
    "\"\"\"1106437 ea_chr_all_sorted_variants.txt\"\"\"\n",
    "\n",
    "\n",
    "# Calculate autosome MAFs for 1000G EUR, \n",
    "pop=\"EUR\"\n",
    "ancestry=\"ea\"\n",
    "for chr in {1..22}; do\n",
    "    /shared/bioinformatics/software/scripts/qsub_job.sh \\\n",
    "        --job_name ${pop}_${chr} \\\n",
    "        --script_prefix ${pop}_chr${chr}.maf \\\n",
    "        --mem 8 \\\n",
    "        --nslots 2 \\\n",
    "        --priority 0 \\\n",
    "        --program /shared/bioinformatics/software/perl/stats/calculate_maf_from_impute2_hap_file.pl \\\n",
    "            --hap /shared/data/ref_panels/1000G/2014.10/1000GP_Phase3_chr${chr}.hap.gz\\\n",
    "            --legend /shared/data/ref_panels/1000G/2014.10/1000GP_Phase3_chr${chr}.legend.gz \\\n",
    "            --sample /shared/data/ref_panels/1000G/2014.10/1000GP_Phase3.sample \\\n",
    "            --chr ${chr} \\\n",
    "            --out 1000g/${pop}_chr${chr}.maf \\\n",
    "            --extract ${ancestry}_chr_all_sorted_variants.txt \\\n",
    "            --keep_groups ${pop}\n",
    "done\n",
    "\n",
    "# Calculate chrX MAFs for 1000G EUR, \n",
    "pop=\"EUR\"\n",
    "ancestry=\"ea\"\n",
    "chr=23\n",
    "/shared/bioinformatics/software/scripts/qsub_job.sh \\\n",
    "    --job_name ${pop}_${chr} \\\n",
    "    --script_prefix ${pop}_chr${chr}.maf \\\n",
    "    --mem 7 \\\n",
    "    --priority 0 \\\n",
    "    --program perl /shared/bioinformatics/software/perl/stats/calculate_maf_from_impute2_hap_file.pl \\\n",
    "        --hap /shared/data/ref_panels/1000G/2014.10/1000GP_Phase3_chrX_NONPAR.hap.gz\\\n",
    "        --legend /shared/data/ref_panels/1000G/2014.10/1000GP_Phase3_chrX_NONPAR.legend.gz \\\n",
    "        --sample /shared/data/ref_panels/1000G/2014.10/1000GP_Phase3.sample \\\n",
    "        --chr ${chr} \\\n",
    "        --extract ${ancestry}_chr_all_sorted_variants.txt \\\n",
    "        --out 1000g/${pop}_chr${chr}.maf \\\n",
    "        --keep_groups ${pop}\n",
    "\n",
    "\n",
    "# Merge per chr MAFs for EUR\n",
    "pop=\"EUR\"\n",
    "head -n 1 1000g/${pop}_chr1.maf > 1000g/${pop}_chr_all.maf\n",
    "tail -q -n +2 1000g/${pop}_chr{1..23}.maf \\\n",
    "    >> 1000g/${pop}_chr_all.maf\n",
    "\n",
    "# Run discordance checks for EA group\n",
    "pop=\"EUR\"\n",
    "ancestry=\"ea\"\n",
    "for study in {imp_biobank,vidus}; do\n",
    "    /shared/bioinformatics/software/scripts/qsub_job.sh \\\n",
    "        --job_name ${ancestry}_${study}_crosscheck \\\n",
    "        --script_prefix ${study}/genotype/strand_check/${ancestry}_allele_discordance_check \\\n",
    "        --mem 6 \\\n",
    "        --priority 0 \\\n",
    "        --program \"Rscript /shared/bioinformatics/software/R/check_study_data_against_1000G.R\n",
    "            --study_bim_file ${study}/genotype/original/final/${ancestry}_chr_all.bim\n",
    "            --study_frq_file ${study}/genotype/strand_check/${ancestry}_chr_all.frq\n",
    "            --ref_maf_file 1000g/${pop}_chr_all.maf\n",
    "            --out_prefix ${study}/genotype/strand_check/${ancestry}_allele_discordance\"\n",
    "done"
   ]
  },
  {
   "cell_type": "markdown",
   "metadata": {},
   "source": [
    "### Resolving allele discordances\n",
    "The allele discordances will be resolved by\n",
    "* Flipping allele discordances that are fixed by flipping\n",
    "* Removing SNPs with discordant names\n",
    "* Removing SNPs with discordant positions\n",
    "* Removing allele discordances that are not resolved by flipping\n",
    "* Removing alleles with large deviations from the reference population allele frequencies\n",
    "\n",
    "Given that the allele discordance check was done using a union set of SNPs across all studies within an ancestry group, some of the SNPs logged as discordant for a given study may not actually be in the study. Fortunately, if they are not in a given study they will not interfere with the filtering procedures."
   ]
  },
  {
   "cell_type": "code",
   "execution_count": null,
   "metadata": {
    "collapsed": true
   },
   "outputs": [],
   "source": [
    "# EC2 command line #\n",
    "cd /home/ec2-user/jmarks/heroin/VIDUS_and_IMP_BIOBANK_imputation\n",
    "\n",
    "ancestry=\"ea\"\n",
    "\n",
    "for study in {imp_biobank,vidus}; do\n",
    "    echo -e \"\\n===============\\nProcessing ${study}\\n\"\n",
    "    # Create remove list\n",
    "    echo \"Making remove list\"\n",
    "    cat <(cut -f2,2 ${study}/genotype/strand_check/${ancestry}_allele_discordance.discordant_alleles_not_fixed_by_strand_flip | tail -n +2) \\\n",
    "        <(cut -f2,2 ${study}/genotype/strand_check/${ancestry}_allele_discordance.at_cg_snps_freq_diff_gt_0.2 | tail -n +2) \\\n",
    "        <(cut -f2,2 ${study}/genotype/strand_check/${ancestry}_allele_discordance.discordant_names | tail -n +2) \\\n",
    "        <(cut -f2,2 ${study}/genotype/strand_check/${ancestry}_allele_discordance.discordant_positions | tail -n +2) \\\n",
    "        <(cut -f2,2 ${study}/genotype/strand_check/${ancestry}_allele_discordance.discordant_alleles_polymorphic_in_study_not_fixed_by_strand_flip | tail -n +2) | \\\n",
    "        sort -u > ${study}/genotype/${ancestry}_snps.remove\n",
    "\n",
    "    # Create flip list\n",
    "    echo \"Making flip list\"\n",
    "    comm -23 <(cut -f2,2 ${study}/genotype/strand_check/${ancestry}_allele_discordance.discordant_alleles | tail -n +2 | sort -u) \\\n",
    "        <(cut -f2,2 ${study}/genotype/strand_check/${ancestry}_allele_discordance.discordant_alleles_not_fixed_by_strand_flip | tail -n +2 | sort -u) \\\n",
    "        > ${study}/genotype/${ancestry}_snps.flip\n",
    "\n",
    "    # Apply filters\n",
    "    /shared/bioinformatics/software/third_party/plink-1.90-beta-4.10-x86_64/plink \\\n",
    "        --noweb \\\n",
    "        --memory 2048 \\\n",
    "        --bfile ${study}/genotype/original/final/${ancestry}_chr_all \\\n",
    "        --exclude ${study}/genotype/${ancestry}_snps.remove \\\n",
    "        --flip ${study}/genotype/${ancestry}_snps.flip \\\n",
    "        --make-bed \\\n",
    "        --out ${study}/genotype/original/final/${ancestry}_filtered\n",
    "done\n",
    "\n",
    "wc -l */genotype/original/final/*bim\n",
    "\"\"\"\n",
    "wc -l */genotype/original/final/*bim\n",
    "   600372 imp_biobank/genotype/original/final/ea_chr_all.bim\n",
    "   600371 imp_biobank/genotype/original/final/ea_filtered.bim\n",
    "   686855 vidus/genotype/original/final/ea_chr_all.bim\n",
    "   679342 vidus/genotype/original/final/ea_filtered.bim\n",
    "\"\"\""
   ]
  },
  {
   "cell_type": "markdown",
   "metadata": {},
   "source": [
    "### Remove monomorphic variants\n",
    "Monomorphic variants prevent MIS from accepting the genotype data. In this case, an arbitrarily small MAF is set that is smaller than the lower bound for these data."
   ]
  },
  {
   "cell_type": "code",
   "execution_count": null,
   "metadata": {
    "collapsed": true
   },
   "outputs": [],
   "source": [
    "# EC2 command line #\n",
    "cd /home/ec2-user/jmarks/heroin/VIDUS_and_IMP_BIOBANK_imputation\n",
    "\n",
    "ancestry=\"ea\"\n",
    "\n",
    "for study in {imp_biobank,vidus}; do\n",
    "    # Apply filters\n",
    "    /shared/bioinformatics/software/third_party/plink-1.90-beta-4.10-x86_64/plink \\\n",
    "        --noweb \\\n",
    "        --memory 2048 \\\n",
    "        --bfile ${study}/genotype/original/final/${ancestry}_filtered \\\n",
    "        --maf 0.000001 \\\n",
    "        --make-bed \\\n",
    "        --out ${study}/genotype/original/final/${ancestry}_filtered_mono\n",
    "done\n",
    "\n",
    "\"\"\"\n",
    "wc -l */genotype/original/final/*bim\n",
    "   600372 imp_biobank/genotype/original/final/ea_chr_all.bim\n",
    "   600371 imp_biobank/genotype/original/final/ea_filtered.bim\n",
    "   600371 imp_biobank/genotype/original/final/ea_filtered_mono.bim\n",
    "   686855 vidus/genotype/original/final/ea_chr_all.bim\n",
    "   679342 vidus/genotype/original/final/ea_filtered.bim\n",
    "   653513 vidus/genotype/original/final/ea_filtered_mono.bim\n",
    "\"\"\""
   ]
  },
  {
   "cell_type": "markdown",
   "metadata": {},
   "source": [
    "### SNP intersection"
   ]
  },
  {
   "cell_type": "code",
   "execution_count": null,
   "metadata": {
    "collapsed": true
   },
   "outputs": [],
   "source": [
    "# EC2 command line #\n",
    "cd /home/ec2-user/jmarks/heroin/VIDUS_and_IMP_BIOBANK_imputation\n",
    "\n",
    "mkdir intersect\n",
    "studies=(imp_biobank vidus) # array of study names\n",
    "\n",
    "# Get intersection set\n",
    "    file1=${studies[0]}/genotype/original/final/${ancestry}_filtered_mono.bim\n",
    "    file2=${studies[1]}/genotype/original/final/${ancestry}_filtered_mono.bim\n",
    "    echo -e \"\\nCalculating intersection between ${file1} and ${file2}...\\n\"\n",
    "    comm -12 <(cut -f 2,2 $file1 | sort -u) <(cut -f 2,2 $file2 | sort -u) \\\n",
    "        > intersect/${ancestry}_variant_intersection.txt\n",
    "\n",
    "# Make new PLINK binary file sets\n",
    "    for study in ${studies[@]}; do\n",
    "        /shared/bioinformatics/software/third_party/plink-1.90-beta-4.10-x86_64/plink \\\n",
    "            --noweb \\\n",
    "            --bfile ${study}/genotype/original/final/${ancestry}_filtered_mono \\\n",
    "            --extract intersect/${ancestry}_variant_intersection.txt \\\n",
    "            --make-bed \\\n",
    "            --out intersect/${study}_${ancestry}_filtered_snp_intersection\n",
    "    done\n",
    "\n",
    "\"\"\"\n",
    " wc -l intersect/*bim\n",
    "  180758 intersect/imp_biobank_ea_filtered_snp_intersection.bim\n",
    "\"\"\""
   ]
  },
  {
   "cell_type": "markdown",
   "metadata": {},
   "source": [
    "### Merge test\n",
    "As a final check to confirm that our data sets are all compatible, a PLINK file set merge is conducted. If any issues persist then an error will be raised."
   ]
  },
  {
   "cell_type": "code",
   "execution_count": null,
   "metadata": {
    "collapsed": true
   },
   "outputs": [],
   "source": [
    "# EC2 command line #\n",
    "cd /home/ec2-user/jmarks/heroin/VIDUS_and_IMP_BIOBANK_imputation/intersect\n",
    "\n",
    "# Merge file sets\n",
    "echo -e \"\\n\\n======== ${ancestry} ========\\n\\n\"\n",
    "/shared/bioinformatics/software/third_party/plink-1.90-beta-4.10-x86_64/plink \\\n",
    "    --noweb \\\n",
    "    --memory 4000 \\\n",
    "    --bfile vidus_${ancestry}_filtered_snp_intersection \\\n",
    "    --bmerge imp_biobank_${ancestry}_filtered_snp_intersection \\\n",
    "    --make-bed \\\n",
    "    --out ${ancestry}_studies_merged"
   ]
  },
  {
   "cell_type": "markdown",
   "metadata": {},
   "source": [
    "## Imputation preparation for Michigan Imputation Server\n",
    "Visit the [MIS Getting Started Webpage](https://imputationserver.sph.umich.edu/start.html#!pages/help) for more information about the preparing the data for upload to MIS.\n",
    "### VCF File Conversion"
   ]
  },
  {
   "cell_type": "code",
   "execution_count": null,
   "metadata": {
    "collapsed": true
   },
   "outputs": [],
   "source": [
    "# EC2 command line #\n",
    "cd /home/ec2-user/jmarks/heroin/VIDUS_and_IMP_BIOBANK_imputation\n",
    "\n",
    "mkdir phase_prep\n",
    "ancestry=\"ea\"\n",
    "\n",
    "# Split by chr and remove any individuals with missing data for whole chr\n",
    "for chr in {1..23}; do\n",
    "    # Remove SNPs\n",
    "    /shared/bioinformatics/software/third_party/plink-1.90-beta-4.10-x86_64/plink \\\n",
    "        --noweb \\\n",
    "        --memory 4000 \\\n",
    "        --bfile intersect/${ancestry}_studies_merged \\\n",
    "        --chr ${chr} \\\n",
    "        --mind 0.99 \\\n",
    "        --make-bed \\\n",
    "        --out phase_prep/${ancestry}_chr${chr}_for_phasing \n",
    "done > chr_splitting.log"
   ]
  },
  {
   "cell_type": "markdown",
   "metadata": {},
   "source": [
    "__Note__: No subjects were removed.\n",
    "\n",
    "```\n",
    " wc -l *bim\n",
    "  10260 ea_chr10_for_phasing.bim\n",
    "   9357 ea_chr11_for_phasing.bim\n",
    "   9111 ea_chr12_for_phasing.bim\n",
    "   6995 ea_chr13_for_phasing.bim\n",
    "   6026 ea_chr14_for_phasing.bim\n",
    "   5866 ea_chr15_for_phasing.bim\n",
    "   6220 ea_chr16_for_phasing.bim\n",
    "   4919 ea_chr17_for_phasing.bim\n",
    "   5803 ea_chr18_for_phasing.bim\n",
    "   3045 ea_chr19_for_phasing.bim\n",
    "  14935 ea_chr1_for_phasing.bim\n",
    "   4857 ea_chr20_for_phasing.bim\n",
    "   2698 ea_chr21_for_phasing.bim\n",
    "   2572 ea_chr22_for_phasing.bim\n",
    "     39 ea_chr23_for_phasing.bim\n",
    "  14950 ea_chr2_for_phasing.bim\n",
    "  12454 ea_chr3_for_phasing.bim\n",
    "  10313 ea_chr4_for_phasing.bim\n",
    "  11018 ea_chr5_for_phasing.bim\n",
    "  11356 ea_chr6_for_phasing.bim\n",
    "   9692 ea_chr7_for_phasing.bim\n",
    "   9719 ea_chr8_for_phasing.bim\n",
    "   8553 ea_chr9_for_phasing.bim\n",
    " 180758 total\n",
    "\n",
    "```"
   ]
  },
  {
   "cell_type": "code",
   "execution_count": null,
   "metadata": {
    "collapsed": true
   },
   "outputs": [],
   "source": [
    "# EC2 command line #\n",
    "cd /home/ec2-user/jmarks/heroin/VIDUS_and_IMP_BIOBANK_imputation/phase_prep\n",
    "mkdir ea\n",
    "\n",
    "ancestry=\"ea\"\n",
    "for chr in {1..22}; do\n",
    "    /shared/bioinformatics/software/third_party/plink-1.90-beta-4.10-x86_64/plink \\\n",
    "        --noweb \\\n",
    "        --memory 5000 \\\n",
    "        --bfile ${ancestry}_chr${chr}_for_phasing \\\n",
    "        --recode vcf bgz \\\n",
    "        --out ${ancestry}/${ancestry}_chr${chr}_final\n",
    "done\n",
    "\n",
    "chr=23\n",
    "/shared/bioinformatics/software/third_party/plink-1.90-beta-4.10-x86_64/plink \\\n",
    "    --noweb \\\n",
    "    --memory 5000 \\\n",
    "    --bfile ${ancestry}_chr${chr}_for_phasing \\\n",
    "    --output-chr M \\\n",
    "    --set-hh-missing \\\n",
    "    --recode vcf bgz \\\n",
    "    --out ${ancestry}/${ancestry}_chr${chr}_final"
   ]
  },
  {
   "cell_type": "markdown",
   "metadata": {},
   "source": [
    "Transfer the *.vcf.gz files to local machine (per chromosome) and then upload to MIS."
   ]
  },
  {
   "cell_type": "code",
   "execution_count": null,
   "metadata": {},
   "outputs": [],
   "source": [
    "cd /cygdrive/c/Users/jmarks/Desktop/data_transfers/michigan_imputation_server/vidus_and_imp_biobank\n",
    "scp -i ~/.ssh/gwas_rsa ec2-user@35.168.108.18:/home/ec2-user/jmarks/heroin/VIDUS_and_IMP_BIOBANK_imputation/phase_prep/ea/*gz ."
   ]
  },
  {
   "cell_type": "markdown",
   "metadata": {},
   "source": [
    "## Upload to Michigan Imputation Server (MIS)\n",
    "\n",
    "### Uploading parameters\n",
    "These are the parameters that were selected on MIS.\n",
    "\n",
    "__Name__: chr1-22\n",
    "\n",
    "__Reference Panel__ 1000G Phase 3 v5\n",
    "\n",
    "__Input Files__ File Upload <br>\n",
    "\n",
    "* Select Files - select VCF files that were downloaded to local machine from cloud. <br>\n",
    "\n",
    "__Phasing__: ShapeIT v2.r790 (unphased) \n",
    "\n",
    "__Population__: EUR\n",
    "\n",
    "__Mode__: Quality Control & Imputation\n",
    "\n",
    "* I will not attempt to re-identify or contact research participants.\n",
    "* I will report any inadvertent data release, security breach or other data management incident of which I become aware."
   ]
  },
  {
   "cell_type": "markdown",
   "metadata": {},
   "source": [
    "# Download Imputed Results"
   ]
  },
  {
   "cell_type": "code",
   "execution_count": null,
   "metadata": {},
   "outputs": [],
   "source": [
    "## EC2 (share drive)\n",
    "# Note: jmarks is a symlink; you will have to save results\n",
    "# to the share drive because they are very large)\n",
    "\n",
    "# create directory structure\n",
    "cd ~/jmarks/heroin/VIDUS_and_IMP_BIOBANK_imputation/imputed_results\n",
    "\n",
    "mkdir chr{1..23}"
   ]
  },
  {
   "cell_type": "markdown",
   "metadata": {},
   "source": [
    "## Autosomes\n",
    "Job name -> `vidus_imp_biobank_1-22`\n",
    "\n",
    "* The password for the imputation results is: HRwTl0U?1RevTh\n",
    "This password was sent in email from MIS once the data were generated.\n"
   ]
  },
  {
   "cell_type": "code",
   "execution_count": null,
   "metadata": {},
   "outputs": [],
   "source": [
    "## EC2 share drive (note jmarks is a symlink; you will have to save results\n",
    "# to the share drive because they are very large)\n",
    "cd ~/jmarks/heroin/VIDUS_and_IMP_BIOBANK_imputation/imputed_results\n",
    "\n",
    "# QC-results\n",
    "wget https://imputationserver.sph.umich.edu/share/results/15d7cfd33016ad1c6c23ff2c3bb6dec6/qcreport.html -a chr1-22.wget.log.report &\n",
    "\n",
    "# SNP Statistics\n",
    "wget https://imputationserver.sph.umich.edu/share/results/f51679f8cccf17e2be83d6a795f42015/statistics.txt -a chr1-22.wget.log.report &\n",
    "\n",
    "# Logs\n",
    "wget https://imputationserver.sph.umich.edu/share/results/528bf38a57fda3e8aa47065a2047fae9/chr_1.log -a chr1-22.wget.log.report &\n",
    "wget https://imputationserver.sph.umich.edu/share/results/e2f9049ed6e4b5647ec703d0059cc6b3/chr_10.log -a chr1-22.wget.log.report &\n",
    "wget https://imputationserver.sph.umich.edu/share/results/20b29d8fe17575c7909072b703c0722e/chr_11.log -a chr1-22.wget.log.report &\n",
    "wget https://imputationserver.sph.umich.edu/share/results/55809bf8a338994e91a68bfc1f4568ce/chr_12.log -a chr1-22.wget.log.report &\n",
    "wget https://imputationserver.sph.umich.edu/share/results/360fa6e89d7ca4b973ffd355077adc8a/chr_13.log -a chr1-22.wget.log.report &\n",
    "wget https://imputationserver.sph.umich.edu/share/results/76ecab86c7e480fa8f304b8f866e5f45/chr_14.log -a chr1-22.wget.log.report &\n",
    "wget https://imputationserver.sph.umich.edu/share/results/f9e496bf617f0db1896bc14d29f16118/chr_15.log -a chr1-22.wget.log.report &\n",
    "wget https://imputationserver.sph.umich.edu/share/results/cda963af9e91f362f946d91ca93c09e3/chr_16.log -a chr1-22.wget.log.report &\n",
    "wget https://imputationserver.sph.umich.edu/share/results/468211956caeb7cdd138c19a1b9b5957/chr_17.log -a chr1-22.wget.log.report &\n",
    "wget https://imputationserver.sph.umich.edu/share/results/eb287d1a1a4d26abdcd6e9668036f565/chr_18.log -a chr1-22.wget.log.report &\n",
    "wget https://imputationserver.sph.umich.edu/share/results/e499b5f438cf514b21256cd42de758f7/chr_19.log -a chr1-22.wget.log.report &\n",
    "wget https://imputationserver.sph.umich.edu/share/results/1cf1b8686eaa6533d9e147bb5c95ffd6/chr_2.log -a chr1-22.wget.log.report &\n",
    "wget https://imputationserver.sph.umich.edu/share/results/c83776228f3274bc9aaef8ab07aea037/chr_20.log -a chr1-22.wget.log.report &\n",
    "wget https://imputationserver.sph.umich.edu/share/results/9f74833822d8e09ede6da972886c27f0/chr_21.log -a chr1-22.wget.log.report &\n",
    "wget https://imputationserver.sph.umich.edu/share/results/73ad60a766e296c4a27e466676fe99c/chr_22.log -a chr1-22.wget.log.report &\n",
    "wget https://imputationserver.sph.umich.edu/share/results/eee2aadd5cef19a3cb2c5da22ac48667/chr_3.log -a chr1-22.wget.log.report &\n",
    "wget https://imputationserver.sph.umich.edu/share/results/d072ae837d55315b9ff7620e3a36e205/chr_4.log -a chr1-22.wget.log.report &\n",
    "wget https://imputationserver.sph.umich.edu/share/results/828fc3514965c82d4dfbd4e7b3804d89/chr_5.log -a chr1-22.wget.log.report &\n",
    "wget https://imputationserver.sph.umich.edu/share/results/d6e6708291b5f88ba191ab5b9acb886d/chr_6.log -a chr1-22.wget.log.report &\n",
    "wget https://imputationserver.sph.umich.edu/share/results/26c2b80f626e675de969055e181e16c8/chr_7.log -a chr1-22.wget.log.report &\n",
    "wget https://imputationserver.sph.umich.edu/share/results/25b90f904871a19bba2926fd8dc74f81/chr_8.log -a chr1-22.wget.log.report &\n",
    "wget https://imputationserver.sph.umich.edu/share/results/2e924e3a952243540265cde07798aa67/chr_9.log -a chr1-22.wget.log.report &\n",
    "\n",
    "# Imputation Results\n",
    "wget https://imputationserver.sph.umich.edu/share/results/fb0dafc0c4fdcbc1384cbadc60a4fc30/chr_1.zip -a chr1-22.wget.log.report &\n",
    "wget https://imputationserver.sph.umich.edu/share/results/77761f1da4ce9729dc41cfa79db3a9dd/chr_10.zip -a chr1-22.wget.log.report &\n",
    "wget https://imputationserver.sph.umich.edu/share/results/e18e2100d4616d321a7de408c5ce2ea7/chr_11.zip -a chr1-22.wget.log.report &\n",
    "wget https://imputationserver.sph.umich.edu/share/results/eb5e9fb78dd8a3393f2554fee0d93ea6/chr_12.zip -a chr1-22.wget.log.report &\n",
    "wget https://imputationserver.sph.umich.edu/share/results/4e6d8d03ec1e0e960f49244c9cb5258e/chr_13.zip -a chr1-22.wget.log.report &\n",
    "wget https://imputationserver.sph.umich.edu/share/results/73e41057d80cb04aa7a4d4611ddd66e0/chr_14.zip -a chr1-22.wget.log.report &\n",
    "wget https://imputationserver.sph.umich.edu/share/results/c4250472e5539c2de225c7277e27655/chr_15.zip -a chr1-22.wget.log.report &\n",
    "wget https://imputationserver.sph.umich.edu/share/results/9a52b28d8585fcbaa0f00d899e8f5e7e/chr_16.zip -a chr1-22.wget.log.report &\n",
    "wget https://imputationserver.sph.umich.edu/share/results/b14b7583f279fb2fce85e34dde72d2c9/chr_17.zip -a chr1-22.wget.log.report &\n",
    "wget https://imputationserver.sph.umich.edu/share/results/b28ce2c6203d1ad104241992f089f68a/chr_18.zip -a chr1-22.wget.log.report &\n",
    "wget https://imputationserver.sph.umich.edu/share/results/cd42b1972ba52a67115523e3c977f4e5/chr_19.zip -a chr1-22.wget.log.report &\n",
    "wget https://imputationserver.sph.umich.edu/share/results/d45eb247e6dafb2029e263aea9f4c92f/chr_2.zip -a chr1-22.wget.log.report &\n",
    "wget https://imputationserver.sph.umich.edu/share/results/3ebef28238bf58ae1b5a1411dfe075ee/chr_20.zip -a chr1-22.wget.log.report &\n",
    "wget https://imputationserver.sph.umich.edu/share/results/577019b3c64f8e7bebe1c3cc3f32713a/chr_21.zip -a chr1-22.wget.log.report &\n",
    "wget https://imputationserver.sph.umich.edu/share/results/5ef11f7837c55b0bbc5eb2934e80706c/chr_22.zip -a chr1-22.wget.log.report &\n",
    "wget https://imputationserver.sph.umich.edu/share/results/bec79ea98b2429dc5dc6e4c3ed9b7508/chr_3.zip -a chr1-22.wget.log.report &\n",
    "wget https://imputationserver.sph.umich.edu/share/results/c33a5a67883a10571200769d610f988f/chr_4.zip -a chr1-22.wget.log.report &\n",
    "wget https://imputationserver.sph.umich.edu/share/results/f7feed686b38725e053ef069f3dbd2f6/chr_5.zip -a chr1-22.wget.log.report &\n",
    "wget https://imputationserver.sph.umich.edu/share/results/9b8ca295ae22e783bba30206dbe03df3/chr_6.zip -a chr1-22.wget.log.report &\n",
    "wget https://imputationserver.sph.umich.edu/share/results/1cca901bc248b284acdd62efe52174d/chr_7.zip -a chr1-22.wget.log.report &\n",
    "wget https://imputationserver.sph.umich.edu/share/results/15a01d8ed114a7130f9d2fb244db84a0/chr_8.zip -a chr1-22.wget.log.report &\n",
    "wget https://imputationserver.sph.umich.edu/share/results/aec349a81e6d98e818ad4fe2c83e702d/chr_9.zip -a chr1-22.wget.log.report &\n",
    "\n",
    "\n",
    "# move files to respective directories\n",
    "for chr in {1..22};do mv chr_$chr.* chr$chr; done"
   ]
  },
  {
   "cell_type": "markdown",
   "metadata": {},
   "source": [
    "### Inflate imputation results\n",
    "The zip files from Michigan Imputation Server (MIS) need to be inflated before you can begin working with them. They require a passcode that is sent by MIS to email."
   ]
  },
  {
   "cell_type": "code",
   "execution_count": null,
   "metadata": {},
   "outputs": [],
   "source": [
    "## EC2\n",
    "cd /home/ec2-user/jmarks/heroin/VIDUS_and_IMP_BIOBANK_imputation/imputed_results\n",
    "\n",
    "# inflate chr results\n",
    "for chr in {1..22};do\n",
    "echo '#!/bin/bash' > chr$chr/chr_$chr.sh\n",
    "echo '' >> chr$chr/chr_$chr.sh\n",
    "echo 'unzip -P \"HRwTl0U?1RevTh\"' chr$chr/chr_$chr.zip >> chr$chr/chr_$chr.sh\n",
    "done\n",
    "\n",
    "for chr in {1..22}; do\n",
    "    sh /shared/bioinformatics/software/scripts/qsub_job.sh \\\n",
    "    --job_name ea.inflate_chr${chr} \\\n",
    "    --script_prefix chr$chr/chr${chr}_inflation \\\n",
    "    --mem 5 \\\n",
    "    --priority 0 \\\n",
    "    --nslots 1 \\\n",
    "    --program bash chr$chr/chr_${chr}.sh\n",
    "done"
   ]
  },
  {
   "cell_type": "markdown",
   "metadata": {},
   "source": [
    "## ChrX\n",
    "Job name -> `vidus_imp_biobank_23`\n",
    "\n",
    "* the password for the imputation results is: zt>3G0BtmrQGY\n",
    "This password was sent in email from MIS once the data were generated."
   ]
  },
  {
   "cell_type": "code",
   "execution_count": null,
   "metadata": {},
   "outputs": [],
   "source": [
    "# QC-results\n",
    "wget https://imputationserver.sph.umich.edu/share/results/5e39060127c4d3c8d440c6d9d42fb279/qcreport.html -a chr23.wget.log.report &\n",
    "\n",
    "# SNP Statistics\n",
    "wget -o chrX.snp_stats.download.log -- -x https://imputationserver.sph.umich.edu/share/results/6a0e50bb9aa337b0558796ca220cb023/statistics.txt -a chr23.wget.log.report &\n",
    "\n",
    "\n",
    "# Logs\n",
    "wget https://imputationserver.sph.umich.edu/share/results/4370b38b5c563aa06c6b52343dc6356e/chr_X.no.auto_female.log -a chr23.wget.log.report &\n",
    "wget https://imputationserver.sph.umich.edu/share/results/cce234154e59153ccbb37ad21f9d615c/chr_X.no.auto_male.log -a chr23.wget.log.report &\n",
    "\n",
    "\n",
    "# Imputation Results\n",
    "wget https://imputationserver.sph.umich.edu/share/results/53f90217f0abc8b697297c38bf53d1a1/chr_X.no.auto_female.zip -a chr23.wget.log.report &\n",
    "\n",
    "mv chr_X* chr23"
   ]
  },
  {
   "cell_type": "markdown",
   "metadata": {},
   "source": [
    "### Inflate imputation results\n",
    "The zip files from Michigan Imputation Server (MIS) need to be inflated before you can begin working with them. They require a passcode that is sent by MIS to email."
   ]
  },
  {
   "cell_type": "code",
   "execution_count": null,
   "metadata": {},
   "outputs": [],
   "source": [
    "# inflate chr results\n",
    "cd /home/ec2-user/jmarks/heroin/VIDUS_and_IMP_BIOBANK_imputation/imputed_results/chr23\n",
    "unzip -P \"zt>3G0BtmrQGY\" *zip "
   ]
  },
  {
   "cell_type": "markdown",
   "metadata": {},
   "source": [
    "# Upload to S3"
   ]
  },
  {
   "cell_type": "code",
   "execution_count": null,
   "metadata": {},
   "outputs": [],
   "source": [
    "cd /home/ec2-user/jmarks/heroin/VIDUS_and_IMP_BIOBANK_imputation/imputed_results\n",
    "\n",
    "\n",
    "# mv inflated results to respective directories and upload to s3\n",
    "for chr in {1..22};do\n",
    "    mv chr$chr.* chr$chr/\n",
    "    aws s3 sync chr$chr/ s3://rti-heroin/imp_biobank-vidus_merged/data/genotype/imputed/chr$chr --quiet &\n",
    "done"
   ]
  }
 ],
 "metadata": {
  "kernelspec": {
   "display_name": "R",
   "language": "R",
   "name": "ir"
  },
  "language_info": {
   "codemirror_mode": "r",
   "file_extension": ".r",
   "mimetype": "text/x-r-source",
   "name": "R",
   "pygments_lexer": "r",
   "version": "3.4.3"
  },
  "toc": {
   "nav_menu": {},
   "number_sections": true,
   "sideBar": true,
   "skip_h1_title": false,
   "toc_cell": false,
   "toc_position": {},
   "toc_section_display": "block",
   "toc_window_display": false
  }
 },
 "nbformat": 4,
 "nbformat_minor": 2
}
