{
 "cells": [
  {
   "cell_type": "markdown",
   "metadata": {},
   "source": [
    "# NGC LDSC Regression\n",
    "**Author**: Jesse Marks <br>\n",
    "**GitHub Issue:** [#140](https://github.com/RTIInternational/bioinformatics/issues/140) <br>\n",
    "**Results Location:** `s3://rti-heroin/ldsc/ngc_20191211`\n",
    "\n",
    "Compare FOU, OAall, OAall_no_deCODE, and OAexp to the following:\n",
    "* **Each other**\n",
    "* **FTND**\n",
    "* **Cigarettes per day (GSCAN)**\n",
    "* **Smoking cessation (current vs. former, GSCAN)**\n",
    "* **Smoking initiation (ever vs. never, GSCAN)**\n",
    "* **Age of smoking initiation (GSCAN)**\n",
    "* **Alcohol dependence**\n",
    "* **Alcohol drinks per week (GSCAN)**\n",
    "* *MVP alcohol*\n",
    "* AUDIT\n",
    "* **Cannabis use disorder**\n",
    "* **Lifetime cannabis use (ever vs. never)**\n",
    "* Parkinson's disease\n",
    "* Amyotrophic lateral sclerosis\n",
    "* Alzheimers disease\n",
    "* Intelligence\n",
    "* Childhood IQ\n",
    "* College completion\n",
    "* Years of schooling\n",
    "* Neuroticism\n",
    "* Conscientiousness\n",
    "* Openness to experience\n",
    "* **Posttraumatic Stress Disorder**\n",
    "* Attention deficit hyperactivity disorder\n",
    "* Depressive symptoms\n",
    "* Major depressive disorder\n",
    "* Bipolar disorder\n",
    "* Psychiatric cross-disorder\n",
    "* Schizophrenia\n",
    "* Autism spectrum disorder\n",
    "* Anorexia Nervosa\n",
    "* Subjective well being\n",
    "* Putamen volume\n",
    "* Accumbens volume\n",
    "* Pallidum volume\n",
    "* Caudate volume\n",
    "* Thalamus volume\n",
    "* Hippocampus volume\n",
    "* Intracranial volume\n",
    "\n",
    "\\* bold are in-house; and italics we will acquire soon.\n",
    "\n",
    "**Note** that most of the in-house data are located on S3 at: `s3://rti-nd/LDSC`\n",
    "\n",
    "**Note**: AUDIT comes with 3 sets of results: AUDIT_T, AUDIT_C, and AUDIT_P. AUDIT_C is the results of a GWAS on items 1-3 which was focused on consumption, AUDIT_P is the results of a GWAS on items 4-10 which was focused on problematic consequences, and AUDIT_T is the results of a GWAS on all the items. We will add all three sets of results in the LDSC regression.\n",
    "\n",
    "We are going to utilize the [LD score regression pipeline](https://github.com/RTIInternational/ld-regression-pipeline) that Alex Waldrop developed to perform LD score regression. \n",
    "\n",
    "## Data\n",
    "NGC summary stats results location:\n",
    "* **FOU**: `s3://rti-midas-data/studies/ngc/meta/087/processing/fou/alive+cats+cogend+start+uhs1-4+vidus+yale-penn.ea.fou.chr[1-22].maf_gt_0.01.rsq_gt_0.3.gz`<br><br>\n",
    "* **OAall**: `s3://rti-midas-data/studies/ngc/meta/089/processing/oaall/cats+coga+decode+kreek+odb+uhs+vidus+yale-penn.ea.chr[1-22].maf_gt_0.01.rsq_gt_0.3.gz`<br><br>\n",
    "* **OAexp**: `s3://rti-midas-data/studies/ngc/meta/060/processing/oaexp/coga+decode+yale_penn.ea.chr[1-22].maf_gt_0.01.rsq_gt_0.3.gz`\n",
    "\n",
    "<br>\n",
    "\n",
    "**sample sizes**\n",
    "* OAall: 304507\n",
    "* OAall with deCODE subset of OAexp: 31,620\n",
    "* OAall_no_deCODE: 29039\n",
    "* OAexp: 5561\n",
    "* FOU: 5388"
   ]
  },
  {
   "cell_type": "markdown",
   "metadata": {},
   "source": [
    "### Data wrangling\n",
    "Format the summary stats for input into cromwell."
   ]
  },
  {
   "cell_type": "code",
   "execution_count": null,
   "metadata": {
    "code_folding": []
   },
   "outputs": [],
   "source": [
    "## FOU\n",
    "cd /shared/jmarks/heroin/ldsc/ngc_all/fou/001/processing\n",
    "for chr in {1..22};do \n",
    "    aws s3 cp s3://rti-midas-data/studies/ngc/meta/087/processing/fou/alive+cats+cogend+start+uhs1-4+vidus+yale-penn.ea.fou.chr$chr.maf_gt_0.01.rsq_gt_0.3.gz . --quiet &\n",
    "done\n",
    "\n",
    "outf=fou_087.txt\n",
    "for chr in {1..22};do\n",
    "    inf=alive+cats+cogend+start+uhs1-4+vidus+yale-penn.ea.fou.chr$chr.maf_gt_0.01.rsq_gt_0.3.gz\n",
    "    awk '{print $1,$2,$3,$4,$5,$6,$8}' <(zcat $inf) >> $outf\n",
    "done &\n",
    "\n",
    "gzip $outf\n",
    "## upload to S3\n",
    "aws s3 cp $outf.gz s3://rti-nd/LDSC/opioid_fou/$outf.gz\n",
    "    \n",
    "    \n",
    "## FOU (002)\n",
    "cd /shared/jmarks/heroin/ldsc/ngc_all/fou/002/processing\n",
    "for chr in {1..22};do \n",
    "    aws s3 cp s3://rti-midas-data/studies/ngc/meta/092/processing/fou/alive+cats+cogend+start+uhs1-3+vidus+yale-penn.ea.fou.chr$chr.maf_gt_0.01.rsq_gt_0.3.gz . --quiet &\n",
    "done\n",
    "\n",
    "outf=fou_092.txt\n",
    "for chr in {1..22};do\n",
    "    inf=alive+cats+cogend+start+uhs1-3+vidus+yale-penn.ea.fou.chr$chr.maf_gt_0.01.rsq_gt_0.3.gz\n",
    "    awk '{print $1,$2,$3,$4,$5,$6,$8}' <(zcat $inf) >> $outf\n",
    "done &\n",
    "\n",
    "gzip $outf\n",
    "## upload to S3\n",
    "aws s3 cp $outf.gz s3://rti-nd/LDSC/opioid_fou/$outf.gz\n",
    "\n",
    "## OAexp\n",
    "for chr in {1..22}; do\n",
    "    aws s3 cp s3://rti-midas-data/studies/ngc/meta/060/processing/oaexp/coga+decode+yale_penn.ea.chr$chr.maf_gt_0.01.rsq_gt_0.3.gz . --quiet &\n",
    "done\n",
    "\n",
    "outf=oaexp_060.txt\n",
    "for chr in {1..22};do\n",
    "    inf=coga+decode+yale_penn.ea.chr$chr.maf_gt_0.01.rsq_gt_0.3.gz\n",
    "    awk '{print $1,$2,$3,$4,$5,$6,$8}' <(zcat $inf) >> $outf\n",
    "done &\n",
    "\n",
    "gzip $outf\n",
    "## upload to S3\n",
    "aws s3 cp $outf.gz s3://rti-nd/LDSC/opioid_oaexp/$outf.gz\n",
    "\n",
    "\n",
    "## OAall\n",
    "for chr in {1..22}; do\n",
    "    aws s3 cp s3://rti-midas-data/studies/ngc/meta/089/processing/oaall/cats+coga+decode+kreek+odb+uhs+vidus+yale-penn.ea.chr$chr.maf_gt_0.01.rsq_gt_0.3.gz . --quiet &\n",
    "done\n",
    "\n",
    "outf=oaall_089.txt\n",
    "for chr in {1..22};do\n",
    "    inf=cats+coga+decode+kreek+odb+uhs+vidus+yale-penn.ea.chr$chr.maf_gt_0.01.rsq_gt_0.3.gz\n",
    "    awk '{print $1,$2,$3,$4,$5,$6,$8}' <(zcat $inf) >> $outf\n",
    "done &\n",
    "\n",
    "gzip $outf\n",
    "## upload to S3\n",
    "aws s3 cp $outf.gz s3://rti-nd/LDSC/opioid_oaall/$outf.gz\n",
    "\n",
    "\n",
    "## OAall (no deCODE)\n",
    "for chr in {1..22}; do\n",
    "    aws s3 cp  s3://rti-midas-data/studies/ngc/meta/091/processing/oaall/cats+coga+kreek+odb+uhs+vidus+yale-penn.ea.chr$chr.maf_gt_0.01.rsq_gt_0.3.gz . --quiet &\n",
    "done\n",
    "\n",
    "outf=oaall_091.txt\n",
    "for chr in {1..22};do\n",
    "    inf=cats+coga+kreek+odb+uhs+vidus+yale-penn.ea.chr$chr.maf_gt_0.01.rsq_gt_0.3.gz\n",
    "    awk '{print $1,$2,$3,$4,$5,$6,$8}' <(zcat $inf) >> $outf\n",
    "done &\n",
    "\n",
    "gzip $outf\n",
    "## upload to S3\n",
    "aws s3 cp $outf.gz s3://rti-nd/LDSC/opioid_oaall/$outf.gz\n",
    "\n",
    "    \n",
    "## AUDIT\n",
    "cd /shared/jmarks/heroin/ldsc/audit\n",
    "aws s3 cp s3://rti-nd/LDSC/audit_ukb/AUDIT_UKB_2018_AJP.txt.gz . --quiet &\n",
    "gunzip *\n",
    "   \n",
    "# keep only SNPs with rsid      \n",
    "awk ' {a=substr($2,1,2)} {if (a==\"rs\") {print $0}}' AUDIT_UKB_2018_AJP.txt  > audit_rsid.txt &\n",
    "\n",
    "# order the SNPs\n",
    "head -1 AUDIT_UKB_2018_AJP.txt > audit_rsid_ordered.txt\n",
    "for chr in {1..22}; do\n",
    "    awk -v chr=$chr '$1==chr' audit_rsid.txt >> audit_rsid_ordered.txt \n",
    "done &\n",
    "\n",
    "\n",
    "## add position information\n",
    "###############################################################################################################################################################                \n",
    "### python3 ###\n",
    "infile = \"audit_rsid_ordered.txt\"\n",
    "\n",
    "with open(infile) as inF:\n",
    "    head = inF.readline()\n",
    "    new_head = \"pos\\t{}\".format(head)\n",
    "    line = inF.readline()\n",
    "    print(head)\n",
    "\n",
    "    audict = dict()\n",
    "    while line:\n",
    "        sl = line.split()\n",
    "        chr_rs = \"{}:{}\".format(sl[0], sl[1])\n",
    "        audict[chr_rs] = sl\n",
    "        line = inF.readline()\n",
    "\n",
    "    # for each  chromosome\n",
    "    for chrom in range(1,23):\n",
    "        plinkfile = \"/shared/data/ref_panels/1000G/2013.05/plink/ALL.chr{}.bim\".format(chrom)\n",
    "        outfile = \"audit_rsid_ordered_positions_chr{}.txt\".format(chrom)\n",
    "\n",
    "        with open(plinkfile) as pF, open(outfile, \"w\") as outF:\n",
    "            outF.write(new_head)\n",
    "            line = pF.readline()\n",
    "            while line:\n",
    "                sl = line.split()\n",
    "                rsid = sl[1]\n",
    "                pos = sl[3]\n",
    "                chrom_id = \"{}:{}\".format(chrom, rsid)\n",
    "\n",
    "                if chrom_id in audict:\n",
    "                    newline = \"{}\\t{}\\n\".format(pos, \"\\t\".join(audict[chrom_id]))\n",
    "                    outF.write(newline)\n",
    "                line = pF.readline()\n",
    "###############################################################################################################################################################                \n",
    "\n",
    "outf=audit_t.txt\n",
    "awk '{print $3,$2,$1,$4,$5,$7,$9, $16}' audit_rsid_ordered_positions_chr1.txt > $outf \n",
    "for chr in {2..22}; do\n",
    "    inf=audit_rsid_ordered_positions_chr$chr.txt\n",
    "    awk '{print $3,$2,$1,$4,$5,$7,$9, $16}' <(tail -n +2 $inf) >> $outf \n",
    "done &\n",
    "    \n",
    "outf=audit_c.txt\n",
    "awk '{print $3,$2,$1,$4,$5,$10,$12, $16}' audit_rsid_ordered_positions_chr1.txt > $outf \n",
    "for chr in {2..22};do\n",
    "    inf=audit_rsid_ordered_positions_chr$chr.txt\n",
    "    awk '{print $3,$2,$1,$4,$5,$10,$12, $16}' <(tail -n +2 $inf) >> $outf\n",
    "done &\n",
    "\n",
    "outf=audit_p.txt\n",
    "awk '{print $3,$2,$1,$4,$5,$13,$15, $16}' audit_rsid_ordered_positions_chr1.txt > $outf \n",
    "for chr in {2..22};do\n",
    "    inf=audit_rsid_ordered_positions_chr$chr.txt\n",
    "    awk '{print $3,$2,$1,$4,$5,$13,$15, $16}' <(tail -n +2 $inf) >> $outf\n",
    "done &\n",
    "\n",
    "gzip audit_{t,c,p}.txt \n",
    "# rename files\n",
    "mv audit_t.txt.gz audit_t_ldsc_cromwell_ready.txt.gz\n",
    "mv audit_c.txt.gz audit_c_ldsc_cromwell_ready.txt.gz\n",
    "mv audit_p.txt.gz audit_p_ldsc_cromwell_ready.txt.gz\n",
    "\n",
    "## upload to S3\n",
    "for file in audit_{t,c,p}_ldsc_cromwell_ready.txt.gz; do\n",
    "    aws s3 cp $file s3://rti-nd/LDSC/audit/$file\n",
    "done"
   ]
  },
  {
   "cell_type": "markdown",
   "metadata": {},
   "source": [
    "# Create WorkFlow inputs\n",
    "Here is an example entry in the Excel Phenotype File:\n",
    "\n",
    "**trait\tplot_label\tsumstats_path\tpmid\tcategory\tsample_size\tid_col\tchr_col\tpos_col\teffect_allele_col\tref_allele_col\teffect_col\tpvalue_col\tsample_size_col\teffect_type\tw_ld_chr**\n",
    "```\n",
    "COPDGWAS Hobbs et al.\tCOPD\ts3://rti-nd/LDSC/COPDGWAS_HobbsEtAl/modGcNoOtherMinMissSorted.withchrpos.txt.gz\t28166215\tRespiratory\t51772\t3\t1\t2\t4\t5\t10\t12\t\tbeta\ts3://clustername--files/eur_w_ld_chr.tar.bz2\n",
    "```\n"
   ]
  },
  {
   "cell_type": "code",
   "execution_count": null,
   "metadata": {},
   "outputs": [],
   "source": [
    "## 1. upload Excel phenotype file to EC2 instance\n",
    "## 2. then edit full_ld_regression_wf_template.json to include the reference data of choice\n",
    "## 3. lastly use dockerized tool to finish filling out the json file that will be input for workflow\n",
    "\n",
    "## login to a larger compute node\n",
    "screen\n",
    "qrsh\n",
    "\n",
    "#phenD=20191209_heroin_ldsc_phenotypes_local.xlsx\n",
    "#procD=/shared/jmarks/heroin/ldsc/ngc_all/fou/001\n",
    "git clone https://github.com/RTIInternational/ld-regression-pipeline/ $procD/ld-regression-pipeline\n",
    "#mkdir $procD/ld-regression-pipeline/workflow_inputs\n",
    "#mkdir -p $procD/{ldhub,plot} # for later processing\n",
    "\n",
    "## upload files to */workflow_inputs/ ##\n",
    "\n",
    "# create final workflow input (a json file) \n",
    "# edit this file\n",
    "cp $procD/ld-regression-pipeline/json_input/full_ld_regression_wf_template.json \\\n",
    "    $procD/ld-regression-pipeline/workflow_inputs\n",
    "\n",
    "docker run -v $procD/ld-regression-pipeline/workflow_inputs/:/data/ \\\n",
    "    rticode/generate_ld_regression_input_json:1ddbd682cb1e44dab6d11ee571add34bd1d06e21 \\\n",
    "    --json-input /data/full_ld_regression_wf_template.json \\\n",
    "    --pheno-file /data/$phenD >\\\n",
    "        $procD/ld-regression-pipeline/workflow_inputs/final_wf_inputs.json"
   ]
  },
  {
   "cell_type": "markdown",
   "metadata": {},
   "source": [
    "## Run Analysis Workflow"
   ]
  },
  {
   "cell_type": "code",
   "execution_count": null,
   "metadata": {},
   "outputs": [],
   "source": [
    "## zip appropriate files \n",
    "# Change to directory immediately above metaxcan-pipeline repo\n",
    "cd $procD/ld-regression-pipeline\n",
    "cd ..\n",
    "# Make zipped copy of repo somewhere\n",
    "zip --exclude=*var/* --exclude=*.git/* -r \\\n",
    "    $procD/ld-regression-pipeline/workflow_inputs/ld-regression-pipeline.zip \\\n",
    "    ld-regression-pipeline\n",
    "\n",
    "## copy cromwell config file from S3 to EC2 instance\n",
    "cd /shared/jmarks/bin/cromwell\n",
    "#aws s3 cp s3://rti-cromwell-output/cromwell-config/cromwell_default_genomics_queue.conf .\n",
    "\n",
    "## Run workflow—Navigate to cromwell directory\n",
    "java -Dconfig.file=/shared/jmarks/bin/cromwell/cromwell_default_genomics_queue.conf \\\n",
    "    -jar cromwell-44.jar \\\n",
    "    run $procD/ld-regression-pipeline/workflow/full_ld_regression_wf.wdl \\\n",
    "    -i $procD/ld-regression-pipeline/workflow_inputs/final_wf_inputs.json \\\n",
    "    -p $procD/ld-regression-pipeline/workflow_inputs/ld-regression-pipeline.zip\n"
   ]
  },
  {
   "cell_type": "markdown",
   "metadata": {},
   "source": [
    "Record the workflow log-ID. Then get the results on s3 at `s3:///rti-cromwell-output/cromwell-execution/full_ld_regression_wf/<log-ID>/` <br>\n",
    "You can find the log-ID in the directory `/shared/jmarks/bin/cromwell/cromwell-workflow-logs/` (for example).\n",
    "<br>\n",
    "<br>\n",
    "<br>\n",
    "<br>\n",
    "<br>\n",
    "<br>"
   ]
  },
  {
   "cell_type": "markdown",
   "metadata": {},
   "source": [
    "# FOU\n",
    "## 001\n",
    "`9ec11018-cab4-4da3-8fa4-e2a4b3b335e7`"
   ]
  },
  {
   "cell_type": "code",
   "execution_count": null,
   "metadata": {},
   "outputs": [],
   "source": [
    "cd /home/jmarks/Projects/heroin/ldsc/ngc_all/fou/001 # local"
   ]
  },
  {
   "cell_type": "code",
   "execution_count": null,
   "metadata": {},
   "outputs": [],
   "source": [
    "phenD=20191209_heroin_ldsc_phenotypes_local.xlsx\n",
    "procD=/shared/jmarks/heroin/ldsc/ngc_all/fou/001"
   ]
  },
  {
   "cell_type": "markdown",
   "metadata": {},
   "source": [
    "### View Plot"
   ]
  },
  {
   "cell_type": "code",
   "execution_count": 11,
   "metadata": {},
   "outputs": [
    {
     "data": {
      "image/png": "[encoded data removed]",
      "text/plain": [
       "plot without title"
      ]
     },
     "metadata": {},
     "output_type": "display_data"
    }
   ],
   "source": [
    "library(\"png\")\n",
    "setwd(\"C:/Users/jmarks/OneDrive - Research Triangle Institute/Projects/heroin/ldsc/ngc_all/fou/001/processing/output/cromwell\")\n",
    "\n",
    "orig <- readPNG(\"ngc_fou.ld_regression_results-1.png\")\n",
    "zoom <- readPNG(\"20191213_heroin_ngc_ldsc_fou_rg_results-1.png\")\n",
    "\n",
    "grid::grid.raster(orig)"
   ]
  },
  {
   "cell_type": "code",
   "execution_count": 12,
   "metadata": {},
   "outputs": [
    {
     "data": {
      "image/png": "[encoded data removed]",
      "text/plain": [
       "plot without title"
      ]
     },
     "metadata": {},
     "output_type": "display_data"
    }
   ],
   "source": [
    "grid::grid.raster(zoom)"
   ]
  },
  {
   "cell_type": "markdown",
   "metadata": {},
   "source": [
    "## 002 (remove UHS4)\n",
    "Running without UHS4. n=4321\n",
    "`s3://rti-midas-data/studies/ngc/meta/092/processing/fou/alive+cats+cogend+start+uhs1-3+vidus+yale-penn.ea.fou.chr1.maf_gt_0.01.rsq_gt_0.3.gz`\n",
    "\n",
    "<br>\n",
    "\n",
    "**workflow number:** <br>\n",
    "~~`a98a9661-efc6-4e38-b59f-8895abf2d2ad`~~ <br>\n",
    "~~`6f415897-53b5-4bfd-b872-cdc4105c725f`~~ <br>\n",
    "`da328ccc-58b8-4eef-bbef-6f32ce19930b` <br>"
   ]
  },
  {
   "cell_type": "code",
   "execution_count": null,
   "metadata": {},
   "outputs": [],
   "source": [
    "phenD=20191217_heroin_ldsc_phenotypes_local.xlsx\n",
    "procD=/shared/jmarks/heroin/ldsc/ngc_all/fou/002"
   ]
  },
  {
   "cell_type": "markdown",
   "metadata": {},
   "source": [
    "### View Plot"
   ]
  },
  {
   "cell_type": "code",
   "execution_count": 13,
   "metadata": {},
   "outputs": [],
   "source": [
    "library(\"png\")\n",
    "setwd(\"C:/Users/jmarks/OneDrive - Research Triangle Institute/Projects/heroin/ldsc/ngc_all/fou/002/processing/output/cromwell\")\n",
    "\n",
    "#orig <- readPNG(\"ngc_fou.ld_regression_results-1.png\")\n",
    "zoom <- readPNG(\"20191219_heroin_ngc_ldsc_fou_rg_results-1.png\")\n",
    "\n",
    "#grid::grid.raster(orig)"
   ]
  },
  {
   "cell_type": "code",
   "execution_count": 15,
   "metadata": {},
   "outputs": [
    {
     "data": {
      "image/png": "[encoded data removed]",
      "text/plain": [
       "plot without title"
      ]
     },
     "metadata": {},
     "output_type": "display_data"
    }
   ],
   "source": [
    "grid::grid.raster(zoom)"
   ]
  },
  {
   "cell_type": "markdown",
   "metadata": {},
   "source": [
    "# OAexp\n",
    "~~`621f706e-0985-45b1-a0d7-deebd4e7720b`~~ <br>\n",
    "`b5167ef6-cc76-4f70-8eef-f7414e441cc8`"
   ]
  },
  {
   "cell_type": "code",
   "execution_count": null,
   "metadata": {},
   "outputs": [],
   "source": [
    "cd /home/jmarks/Projects/heroin/ldsc/ngc_all/oaexp/002"
   ]
  },
  {
   "cell_type": "code",
   "execution_count": null,
   "metadata": {},
   "outputs": [],
   "source": [
    "phenD=20200102_heroin_oaexp_ldsc_phenotypes_local.xlsx\n",
    "procD=/shared/jmarks/heroin/ldsc/ngc_all/oaexp/002"
   ]
  },
  {
   "cell_type": "markdown",
   "metadata": {},
   "source": [
    "### View Plot"
   ]
  },
  {
   "cell_type": "code",
   "execution_count": null,
   "metadata": {},
   "outputs": [],
   "source": [
    "library(\"png\")\n",
    "setwd(\"C:/Users/jmarks/OneDrive - Research Triangle Institute/Projects/heroin/ldsc/ngc_all/oaexp/001/processing/output/cromwell\")\n",
    "\n",
    "orig <- readPNG(\"ngc_oaexp.ld_regression_results-1.png\")\n",
    "zoom <- readPNG(\"20191216_heroin_ngc_ldsc_oaexp_rg_results-1.png\")\n",
    "\n",
    "grid::grid.raster(orig)"
   ]
  },
  {
   "cell_type": "code",
   "execution_count": null,
   "metadata": {},
   "outputs": [],
   "source": [
    "grid::grid.raster(zoom)"
   ]
  },
  {
   "cell_type": "markdown",
   "metadata": {},
   "source": [
    "# OAall\n",
    "\n",
    "`f98f970b-6a93-4773-aaf5-cdbbbf6c68d7`"
   ]
  },
  {
   "cell_type": "code",
   "execution_count": null,
   "metadata": {},
   "outputs": [],
   "source": [
    "cd /home/jmarks/Projects/heroin/ldsc/ngc_all/oaall/001"
   ]
  },
  {
   "cell_type": "code",
   "execution_count": null,
   "metadata": {},
   "outputs": [],
   "source": [
    "phenD=20191210_heroin_oaall_ldsc_phenotypes_local.xlsx\n",
    "procD=/shared/jmarks/heroin/ldsc/ngc_all/oaall/001"
   ]
  },
  {
   "cell_type": "markdown",
   "metadata": {},
   "source": [
    "## 002\n",
    "OAall analysis with a subset of the deCODE data (the subset that contributed to the OAexp analysis). Note that I had to split the run up into 3 portions (a,b, and c) and then combine the results.\n",
    "\n",
    "~~`8ec8acc8-861c-46bf-97c3-93be9c6af0c6`~~ <br>\n",
    "~~`d3feda16-4a29-483d-8f96-a0ac036f20f6`~~ <br>\n",
    "\n",
    "**002_a**\n",
    "`340f3a99-3a2e-485b-8ce3-d169bf36fd27` <br>\n",
    "\n",
    "**002_b**\n",
    "`012440e0-2eab-4727-8091-9edc583b6a6a`\n",
    "\n",
    "**002_c**\n",
    "`9eca04fc-59d2-49de-bd8a-a02fd5f10856`"
   ]
  },
  {
   "cell_type": "code",
   "execution_count": null,
   "metadata": {},
   "outputs": [],
   "source": [
    "phenD=20191220_heroin_oaall_ldsc_phenotypes_local.xlsx\n",
    "procD=/shared/jmarks/heroin/ldsc/ngc_all/oaall/002_b\n"
   ]
  },
  {
   "cell_type": "markdown",
   "metadata": {},
   "source": [
    "### View Plot"
   ]
  },
  {
   "cell_type": "code",
   "execution_count": null,
   "metadata": {},
   "outputs": [],
   "source": [
    "library(\"png\")\n",
    "setwd(\"C:/Users/jmarks/OneDrive - Research Triangle Institute/Projects/heroin/ldsc/ngc_all/oaall/002/processing/output/cromwell\")\n",
    "\n",
    "#orig <- readPNG(\"ngc_oaexp.ld_regression_results-1.png\")\n",
    "zoom <- readPNG(\"20191220_heroin_ngc_ldsc_oaall_rg_results-1.png\")\n",
    "\n",
    "#grid::grid.raster(orig)\n",
    "grid::grid.raster(zoom)"
   ]
  },
  {
   "cell_type": "markdown",
   "metadata": {},
   "source": [
    "## 003\n",
    "Same as regular OAall 001 except added Alcohol cohorts and FOU_no_uhs4.\n",
    "\n",
    "`5e2f9618-b990-4b3d-b8d2-7640ddfbc864`"
   ]
  },
  {
   "cell_type": "code",
   "execution_count": null,
   "metadata": {},
   "outputs": [],
   "source": [
    "phenD=20200102_heroin_oaall_ldsc_phenotypes_local.xlsx\n",
    "procD=/shared/jmarks/heroin/ldsc/ngc_all/oaall/003\n"
   ]
  },
  {
   "cell_type": "markdown",
   "metadata": {},
   "source": [
    "### View Plot"
   ]
  },
  {
   "cell_type": "code",
   "execution_count": null,
   "metadata": {},
   "outputs": [],
   "source": [
    "library(\"png\")\n",
    "setwd(\"C:/Users/jmarks/OneDrive - Research Triangle Institute/Projects/heroin/ldsc/ngc_all/oaall/002/processing/output/cromwell\")\n",
    "\n",
    "#orig <- readPNG(\"ngc_oaexp.ld_regression_results-1.png\")\n",
    "zoom <- readPNG(\"20191220_heroin_ngc_ldsc_oaall_rg_results-1.png\")\n",
    "\n",
    "#grid::grid.raster(orig)\n",
    "grid::grid.raster(zoom)"
   ]
  },
  {
   "cell_type": "markdown",
   "metadata": {},
   "source": [
    "## 004 (add alcohol)\n",
    "OAall with deCODE OAexp subset and add-in the GSCAN drinks per week and the AUD GWAS (same ones as used in the FTND LDSC comparisons). See [this GitHub Issue 140 comment](https://github.com/RTIInternational/bioinformatics/issues/140#issuecomment-581412227).\n",
    "\n",
    "~~`c1186904-6724-42e7-be91-9a8862df80fb`~~ <br>\n",
    "`3fc96edc-3453-45a9-97bc-3b9c5ff75898`"
   ]
  },
  {
   "cell_type": "code",
   "execution_count": null,
   "metadata": {},
   "outputs": [],
   "source": [
    "screen\n",
    "qrsh\n",
    "\n",
    "phenD=20200203_heroin_ldsc_phenotypes_local.xlsx\n",
    "procD=/shared/jmarks/heroin/ldsc/ngc_all/oaall/004\n",
    "git clone https://github.com/RTIInternational/ld-regression-pipeline/ $procD/ld-regression-pipeline"
   ]
  },
  {
   "cell_type": "markdown",
   "metadata": {},
   "source": [
    "# OAall (no deCODE)\n",
    "`1abe35bb-e448-4232-9146-1d9e92ce702a`"
   ]
  },
  {
   "cell_type": "code",
   "execution_count": null,
   "metadata": {},
   "outputs": [],
   "source": [
    "cd /home/jmarks/Projects/heroin/ldsc/ngc_all/oaall_no_decode/001"
   ]
  },
  {
   "cell_type": "code",
   "execution_count": null,
   "metadata": {},
   "outputs": [],
   "source": [
    "phenD=20191210_heroin_oaall_no_decode_ldsc_phenotypes_local.xlsx\n",
    "procD=/shared/jmarks/heroin/ldsc/ngc_all/oaall_no_decode/001\n"
   ]
  },
  {
   "cell_type": "markdown",
   "metadata": {},
   "source": [
    "### View Plot"
   ]
  },
  {
   "cell_type": "code",
   "execution_count": null,
   "metadata": {},
   "outputs": [],
   "source": [
    "library(\"png\")\n",
    "setwd(\"C:/Users/jmarks/OneDrive - Research Triangle Institute/Projects/heroin/ldsc/ngc_all/oaall_no_decode/001/processing/output/cromwell\")\n",
    "#\n",
    "#orig <- readPNG(\"ngc_oaexp.ld_regression_results-1.png\")\n",
    "zoom <- readPNG(\"20191216_heroin_ngc_ldsc_oaall_no_decode_rg_results-1.png\")\n",
    "\n",
    "grid::grid.raster(zoom)"
   ]
  },
  {
   "cell_type": "markdown",
   "metadata": {},
   "source": [
    "# LD Hub"
   ]
  },
  {
   "cell_type": "markdown",
   "metadata": {},
   "source": [
    "## Data Selection\n",
    "* Neurological diseases\n",
    "* Personality traits\n",
    "* Cognitive\n",
    "* Education\n",
    "* Brain Volume (ENIGMA)\n",
    "* Psychiatric diseases"
   ]
  },
  {
   "cell_type": "markdown",
   "metadata": {},
   "source": [
    "## create input files\n",
    "### OAall"
   ]
  },
  {
   "cell_type": "code",
   "execution_count": null,
   "metadata": {},
   "outputs": [],
   "source": [
    "cd /shared/jmarks/heroin/ldsc/ngc_all/oaall/001/ldhub\n",
    "\n",
    "outF=ngc_oaall_ldhub_with_pvalues.txt # name of file to create for ldhub\n",
    "samp_size=304507\n",
    "\n",
    "### Download outputs for each ref chr from rftm_sumstats step ###\n",
    "aws s3 sync s3://rti-heroin/ldsc/ngc_20191211/oaall/call-munge_ref/MUNGE_REF_WF.munge_sumstats_wf/ec7b872f-5fd0-431f-a6de-69f43a787aab/call-munge_chr_wf .\n",
    "        \n",
    "mv  */MUNGE_CHR.munge_sumstats_chr_wf/*/call-rfmt_sumstats/*.standardized.phase3ID.munge_ready.txt .\n",
    "rm -rf shard*\n",
    "\n",
    "## Concat into single file ##\n",
    "cat *.chr1.*.standardized.phase3ID.munge_ready.txt > $outF\n",
    "for chr in {2..22}; do\n",
    "    tail -n +2  *.chr$chr.*.standardized.phase3ID.munge_ready.txt >> $outF\n",
    "done\n",
    "\n",
    "## Remove unnecessary columns (need snpID, A1, A2 Beta, Pvalue) in that order ##\n",
    "head -1 $outF | cut -f1,4,5,6,7 > tmp\n",
    "tail -n +2 $outF | awk 'BEGIN{OFS=\"\\t\"}{print $1, $4, $5, $6, $7}'  >> tmp && mv tmp $outF\n",
    "\n",
    "## Add sample size column (sample = ) and change header names ##\n",
    "cat $outF | awk -v var=$samp_size -F \"\\t\"  \\\n",
    "    'BEGIN{OFS=\"\\t\";} NR==1{print \"snpid\", \"A1\", \"A2\", \"BETA\", \"N\", \"P-value\"} \\\n",
    "    NR>1{print $1,$2,$3,$4,var, $5}' > tmp && mv tmp $outF"
   ]
  },
  {
   "cell_type": "code",
   "execution_count": null,
   "metadata": {},
   "outputs": [],
   "source": [
    "## local ##\n",
    "cd /home/jmarks/Projects/heroin/ldsc/ngc_all/oaall/001/processing/input/ldhub\n",
    "scp -i ~/.ssh/gwas_rsa    ec2-user@34.195.174.206:/shared/jmarks/heroin/ldsc/ngc_all/oaall/001/ldhub/ngc_oaall_ldhub_with_pvalues.txt .\n",
    "    \n",
    "# zip file with 7zip\n",
    "ngc_oaall_ldhub_with_pvalues.txt.zip"
   ]
  },
  {
   "cell_type": "markdown",
   "metadata": {},
   "source": [
    "### OAall 002 (deCODE subset with OAexp)"
   ]
  },
  {
   "cell_type": "code",
   "execution_count": null,
   "metadata": {},
   "outputs": [],
   "source": [
    "cd /shared/jmarks/heroin/ldsc/ngc_all/oaall/002/ldhub\n",
    "\n",
    "outF=ngc_oaall002_decode_oaexp_subset_ldhub_with_pvalues.txt # name of file to create for ldhub\n",
    "samp_size=31620\n",
    "\n",
    "### Download outputs for each ref chr from rftm_sumstats step ###\n",
    "aws s3 sync s3://rti-cromwell-output/cromwell-execution/full_ld_regression_wf/9eca04fc-59d2-49de-bd8a-a02fd5f10856/call-munge_ref/MUNGE_REF_WF.munge_sumstats_wf/de1b59a0-505f-494b-ad96-b4b684e5665e/call-munge_chr_wf/ .\n",
    "        \n",
    "mv  */MUNGE_CHR.munge_sumstats_chr_wf/*/call-rfmt_sumstats/*.standardized.phase3ID.munge_ready.txt .\n",
    "rm -rf shard*\n",
    "\n",
    "## Concat into single file ##\n",
    "cat *.chr1.*.standardized.phase3ID.munge_ready.txt > $outF\n",
    "for chr in {2..22}; do\n",
    "    tail -n +2  *.chr$chr.*.standardized.phase3ID.munge_ready.txt >> $outF\n",
    "done\n",
    "\n",
    "## Remove unnecessary columns (need snpID, A1, A2 Beta, Pvalue) in that order ##\n",
    "head -1 $outF | cut -f1,4,5,6,7 > tmp\n",
    "tail -n +2 $outF | awk 'BEGIN{OFS=\"\\t\"}{print $1, $4, $5, $6, $7}'  >> tmp && mv tmp $outF\n",
    "\n",
    "## Add sample size column (sample = ) and change header names ##\n",
    "cat $outF | awk -v var=$samp_size -F \"\\t\"  \\\n",
    "    'BEGIN{OFS=\"\\t\";} NR==1{print \"snpid\", \"A1\", \"A2\", \"BETA\", \"N\", \"P-value\"} \\\n",
    "    NR>1{print $1,$2,$3,$4,var, $5}' > tmp && mv tmp $outF"
   ]
  },
  {
   "cell_type": "markdown",
   "metadata": {},
   "source": [
    "### OAall No deCODE"
   ]
  },
  {
   "cell_type": "code",
   "execution_count": null,
   "metadata": {},
   "outputs": [],
   "source": [
    "cd /shared/jmarks/heroin/ldsc/ngc_all/oaall_no_decode/001/ldhub\n",
    "outF=oaall_no_decode_with_pvalues.txt # name of file to create for ldhub\n",
    "samp_size=29039\n",
    "\n",
    "### Download outputs for each ref chr from rftm_sumstats step ###\n",
    "aws s3 sync s3://rti-heroin/ldsc/ngc_20191211/oaall_no_decode/call-munge_ref/MUNGE_REF_WF.munge_sumstats_wf/32f0f3ef-8593-4274-9484-0c049e1082ef/call-munge_chr_wf .\n",
    "        \n",
    "mv  */MUNGE_CHR.munge_sumstats_chr_wf/*/call-rfmt_sumstats/*.standardized.phase3ID.munge_ready.txt .\n",
    "rm -rf shard*\n",
    "\n",
    "## Concat into single file ##\n",
    "cat *.chr1.*.standardized.phase3ID.munge_ready.txt > $outF\n",
    "for chr in {2..22}; do\n",
    "    tail -n +2  *.chr$chr.*.standardized.phase3ID.munge_ready.txt >> $outF\n",
    "done\n",
    "\n",
    "## Remove unnecessary columns (need snpID, A1, A2 Beta, Pvalue) in that order ##\n",
    "head -1 $outF | cut -f1,4,5,6,7 > tmp\n",
    "tail -n +2 $outF | awk 'BEGIN{OFS=\"\\t\"}{print $1, $4, $5, $6, $7}'  >> tmp && mv tmp $outF\n",
    "\n",
    "## Add sample size column (sample = 18245.00) and change header names ##\n",
    "cat $outF | awk -v var=$samp_size -F \"\\t\"  \\\n",
    "    'BEGIN{OFS=\"\\t\";} NR==1{print \"snpid\", \"A1\", \"A2\", \"BETA\", \"N\", \"P-value\"} \\\n",
    "    NR>1{print $1,$2,$3,$4,var, $5}' > tmp && mv tmp $outF"
   ]
  },
  {
   "cell_type": "markdown",
   "metadata": {},
   "source": [
    "### OAexp\n",
    "N=5,561"
   ]
  },
  {
   "cell_type": "code",
   "execution_count": null,
   "metadata": {},
   "outputs": [],
   "source": [
    "cd /shared/jmarks/heroin/ldsc/ngc_all/oaexp/002/ldhub\n",
    "outF=oaexp_with_pvalues.txt # name of file to create for ldhub\n",
    "samp_size=5561\n",
    "\n",
    "### Download outputs for each ref chr from rftm_sumstats step ###\n",
    "aws s3 sync s3://rti-cromwell-output/cromwell-execution/full_ld_regression_wf/b5167ef6-cc76-4f70-8eef-f7414e441cc8/call-munge_ref/MUNGE_REF_WF.munge_sumstats_wf/b25fcc19-9146-4fd4-b7bf-2ca291b908c9/call-munge_chr_wf/ . \n",
    "        \n",
    "mv  */MUNGE_CHR.munge_sumstats_chr_wf/*/call-rfmt_sumstats/*.standardized.phase3ID.munge_ready.txt .\n",
    "rm -rf shard*\n",
    "\n",
    "## Concat into single file ##\n",
    "cat *.chr1.*.standardized.phase3ID.munge_ready.txt > $outF\n",
    "for chr in {2..22}; do\n",
    "    tail -n +2  *.chr$chr.*.standardized.phase3ID.munge_ready.txt >> $outF\n",
    "done\n",
    "\n",
    "## Remove unnecessary columns (need snpID, A1, A2 Beta, Pvalue) in that order ##\n",
    "head -1 $outF | cut -f1,4,5,6,7 > tmp\n",
    "tail -n +2 $outF | awk 'BEGIN{OFS=\"\\t\"}{print $1, $4, $5, $6, $7}'  >> tmp && mv tmp $outF\n",
    "\n",
    "## Add sample size column (sample = 18245.00) and change header names ##\n",
    "cat $outF | awk -v var=$samp_size -F \"\\t\"  \\\n",
    "    'BEGIN{OFS=\"\\t\";} NR==1{print \"snpid\", \"A1\", \"A2\", \"BETA\", \"N\", \"P-value\"} \\\n",
    "    NR>1{print $1,$2,$3,$4,var, $5}' > tmp && mv tmp $outF"
   ]
  },
  {
   "cell_type": "markdown",
   "metadata": {},
   "source": [
    "## upload input file\n",
    "Follow the steps above to zip and upload input file. Essentially, \n",
    "* zip the LDHub input file created above (and only this file)\n",
    "* download the file to your local machine.\n",
    "* Login to [LDHub](http://ldsc.broadinstitute.org/ldhub/) by clicking on `Get Started with LDHub` and then sign in with your Google email account. (jambqc for me)\n",
    "* Click `Go Test Center`\n",
    "* Click `Continue`\n",
    "* Upload zipped file by clicking `Choose File`, naming your trait, and clicking `Continue`.\n",
    "* Select traits of interest from LDHub by checking the box next to the trait of interest and then clicking `Submit your request`\n",
    "\n",
    "**Note**: keep browser open during LDSC analysis on LDHub.\n",
    "\n",
    "<br>\n",
    "\n",
    "___\n",
    "\n",
    "```\n",
    "Important notes for your uploaded file:\n",
    "\n",
    "1. To save the uploading time, LD Hub only accepts zipped files as input (e.g. mydata.zip).\n",
    "\n",
    "2. Please check that there is ONLY ONE plain TXT file (e.g. mydata.txt) in your zipped file.\n",
    "\n",
    "3. Please make sure you do NOT zip any folder together with the plain txt file (e.g. /myfolder/mydata.txt), otherwise you will get an error: [Errno 2] No such file or directory\n",
    "\n",
    "4. Please do NOT zip multiple files (e.g. zip mydata.zip file1.txt file2.txt ..) or zip a file with in a folder (e.g. zip mydata.zip /path/to/my/file/mydata.txt).\n",
    "\n",
    "5. Please keep the file name of your plain txt file short (less than 50 characters), otherwise you may get an error: [Errno 2] No such file or directory\n",
    "\n",
    "6. Please zip your plain txt file using following command (ONE file at a time):\n",
    "\n",
    "For Windows system: 1) Locate the file that you want to compress. 2) Right-click the file, point to Send to, and then click Compressed (zipped) folder.\n",
    "\n",
    "For Linux and Mac OS system: zip mydata.zip mydata.txt\n",
    "\n",
    "Reminder: for Mac OS system, please do NOT zip you file by right click mouse and click \"Compress\" to zip your file, this will automatically create a folder called \"__MACOS\". You will get an error: [Errno 2] No such file or directory.\n",
    "\n",
    "Upload the trait of interest\n",
    "To save your upload time, we highly recommend you to use the SNP list we used in LD Hub to reduce the number of SNPs in your uploaded file. Click here to download our SNP list (w_hm3.noMHC.snplist.zip).\n",
    "\n",
    "Please upload the zipped file you just created. Click here to download an input example.\n",
    "```"
   ]
  },
  {
   "cell_type": "markdown",
   "metadata": {},
   "source": [
    "# Create Final Plot\n",
    "Merge the output tables from cromwell and LDHub. The merged table should have the header:\n",
    "```\n",
    "trait2\tTrait_Label\tTrait_Group\trg\tse\tz\tp\th2_obs\th2_obs_se\th2_int\th2_int_se\tgcov_int\tgcov_int_se\n",
    "```\n",
    "\n",
    "**Note**: upload the plot table to EC2 instance to run docker and create the plot."
   ]
  },
  {
   "cell_type": "code",
   "execution_count": null,
   "metadata": {},
   "outputs": [],
   "source": [
    "## enter interactive mode ##\n",
    "# note that the image tag corresponds to the latest tag for this image\n",
    "phen=oaall\n",
    "\n",
    "docker run -it -v\"/shared/jmarks/heroin/ldsc/ngc_all/$phen/004/plot:/data/\" \\\n",
    "    rticode/plot_ld_regression_results:b018e08753390ee773ed7e9eb2ca851c88eee749  /bin/bash\n",
    "\n",
    "\n",
    "Rscript /opt/plot_ld_regression/plot_ld_regression_results.R  \\\n",
    "    --input_file 20200203_heroin_ngc_ldsc_oaall_decode_oaexp_subset_rg_results.csv \\\n",
    "    --output_file 20200203_heroin_ngc_ldsc_oaall_decode_oaexp_subset_rg_results.pdf  \\\n",
    "    --comma_delimited \\\n",
    "    --xmax 1.1 \\\n",
    "    --xmin -.6 \\\n",
    "    --title \"NGC OAall (deCODE subset of OAexp)\"\n",
    "\n",
    "#Rscript /opt/plot_ld_regression/plot_ld_regression_results.R  \\\n",
    "#    --input_file 20191213_heroin_ngc_ldsc_${phen}_rg_results.csv \\\n",
    "#    --output_file 20191213_heroin_ngc_ldsc_${phen}_rg_results.pdf  \\\n",
    "#    --comma_delimited \\\n",
    "#    --xmax 1.6 \\\n",
    "#    --xmin -2.5 \\\n",
    "#    --title \"NGC FOU\"\n",
    "#\n",
    "\n",
    "#Rscript /opt/plot_ld_regression/plot_ld_regression_results.R  \\\n",
    "#    --input_file 20191216_heroin_ngc_ldsc_${phen}_rg_results.csv \\\n",
    "#    --output_file 20191216_heroin_ngc_ldsc_${phen}_rg_results.pdf  \\\n",
    "#    --comma_delimited \\\n",
    "#    --xmax 1.3 \\\n",
    "#    --xmin -.6 \\\n",
    "#    --title \"NGC OAall\"\n",
    "    \n",
    "#Rscript /opt/plot_ld_regression/plot_ld_regression_results.R  \\\n",
    "#    --input_file 20191216_heroin_ngc_ldsc_${phen}_rg_results.csv \\\n",
    "#    --output_file 20191216_heroin_ngc_ldsc_${phen}_rg_results.pdf  \\\n",
    "#    --comma_delimited \\\n",
    "#    --xmax 1.6 \\\n",
    "#    --xmin -.6 \\\n",
    "#    --title \"NGC OAall (no deCODE)\""
   ]
  }
 ],
 "metadata": {
  "kernelspec": {
   "display_name": "R",
   "language": "R",
   "name": "ir"
  },
  "language_info": {
   "codemirror_mode": "r",
   "file_extension": ".r",
   "mimetype": "text/x-r-source",
   "name": "R",
   "pygments_lexer": "r",
   "version": "3.6.1"
  },
  "toc": {
   "nav_menu": {},
   "number_sections": true,
   "sideBar": true,
   "skip_h1_title": false,
   "toc_cell": false,
   "toc_position": {
    "height": "714.716px",
    "left": "0px",
    "right": "1299.83px",
    "top": "110.284px",
    "width": "211.989px"
   },
   "toc_section_display": "block",
   "toc_window_display": true
  }
 },
 "nbformat": 4,
 "nbformat_minor": 2
}
