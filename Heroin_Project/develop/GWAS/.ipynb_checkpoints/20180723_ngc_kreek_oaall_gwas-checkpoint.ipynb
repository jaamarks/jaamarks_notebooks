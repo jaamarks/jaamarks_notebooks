{
 "cells": [
  {
   "cell_type": "markdown",
   "metadata": {},
   "source": [
    "# NGC Kreek OAall GWAS\n",
    "__Author__: Jesse Marks\n",
    "\n",
    "This document logs the steps taken to perform an opioid addiction GWAS on [Kreek](https://www.ncbi.nlm.nih.gov/projects/gap/cgi-bin/dataset.cgi?study_id=phs001109.v1.p1&phv=261899&phd=6837&pha=&pht=5447&phvf=&phdf=&phaf=&phtf=&dssp=1&consent=&temp=1) subjects versus all controls of [](). The processing performed on these data follow the Heroin NIDA Genetics Consortium (NGC) Protocol. For any general or specific questions regarding this protocol, speak with Eric O. Johnson."
   ]
  },
  {
   "cell_type": "markdown",
   "metadata": {},
   "source": [
    "## Software and tools\n",
    "The software and tools used for processing these data are\n",
    "\n",
    "* [Amazon Elastic Compute Cloud(EC2)](https://aws.amazon.com/ec2/)\n",
    "* GNU bash version 4.1.2\n",
    "* [PLINK v1.9 beta 3.45](https://www.cog-genomics.org/plink/)\n",
    "* [EIGENSOFT v4.2](https://www.hsph.harvard.edu/alkes-price/software/)\n",
    "* [R v3.2.3](https://www.r-project.org/)\n",
    "* R packages: MASS, moments\n",
    "* [RVtests](https://render.githubusercontent.com/view/ipynb?commit=3bb8e661ad8b75af027ed2748133452ec251aaed&enc_url=68747470733a2f2f7261772e67697468756275736572636f6e74656e742e636f6d2f525449496e7465726e6174696f6e616c2f6271756163685f6e6f7465626f6f6b732f336262386536363161643862373561663032376564323734383133333435326563323531616165642f6865726f696e5f70726f6a6563742f646576656c6f702f32303138303131305f756873325f756873335f666f755f677761732e6970796e623f746f6b656e3d41664d79344e373237626e764465456f46535a697770346b48776246577964706b7335617570495a7741253344253344&nwo=RTIInternational%2Fbquach_notebooks&path=heroin_project%2Fdevelop%2F20180110_uhs2_uhs3_fou_gwas.ipynb&repository_id=105297875&repository_type=Repository)"
   ]
  },
  {
   "cell_type": "markdown",
   "metadata": {},
   "source": [
    "## Variable information\n",
    "### NGC Protocol Specifications\n",
    "* OAall (coded 1 for all controls, 2 for OA cases)\n",
    "* Sex (coded 1 for female, 2 for male)\n",
    "* Any additional covariates (coded 1 for no, 2 for yes)\n",
    "* Age (years)\n",
    "\n",
    "### Kreek\n",
    "#### genotype data (n=1200)\n",
    "`wc -l aa_chr_all.fam` <br>\n",
    "576\n",
    "`wc -l ea_chr_all.fam` <br>\n",
    "624\n",
    "\n",
    "#### phenotype data (n=1661)\n",
    "Note, I will remap these to be consistent with the NGC protocol. \n",
    "[`affection_status`](https://www.ncbi.nlm.nih.gov/projects/gap/cgi-bin/variable.cgi?study_id=phs001109.v1.p1&phv=261892&phd=6837&pha=&pht=5447&phvf=1&phdf=&phaf=&phtf=&dssp=1&consent=&temp=1) <br>\n",
    "* Case control status of the subject for opioid dependence\n",
    "* 1 is opioid_dependence, 2 is no_opioid_dependence \n",
    "* 864 cases, 797 controls - total 1,661\n",
    "\n",
    "[__OAall Variables__](https://www.ncbi.nlm.nih.gov/projects/gap/cgi-bin/dataset.cgi?study_id=phs001109.v1.p1&phv=261892&phd=6837&pha=&pht=5447&phvf=1&phdf=&phaf=&phtf=1&dssp=1&consent=&temp=1):\n",
    "`Female (sex)` <br>\n",
    "* 1 is male, 2 is female (Note, I will remap these to be consistent with the NGC protocol.)\n",
    "* 1040 males, 616 females - total 1,656 (5 are missing sex data)\n",
    "\n",
    "`Ageatint` <br>\n",
    "* Age (integer) - total 1,661\n",
    "\n",
    "**other variables**:\n",
    "`opioid_dep      cocaine_dep     alcohol_dep   nicotine_dep     cannabis_dep    stimulant_dep   sedative_dep    other_dep       opioid_abuse    cocaine_abuse   alcohol_abuse   cannabis_abuse  stimulant_abuse        sedative_abuse  other_abuse`"
   ]
  },
  {
   "cell_type": "markdown",
   "metadata": {},
   "source": [
    "Note, there is a discrepancy between the `affection_status` variable and the `opioid_dep` variable. \n",
    "\n",
    "## Update\n",
    "**Resolution of Phenotype Concerns**\n",
    "\n",
    "It turns out that there are no discrepancies between the reported phenotype information on dbGaP and what is actually in the phenotype file that was downloaded. The issue stemmed from the fact that five subjects were missing values for the age variable in the phenotype file. This caused the R software and other command line tools to read the data incorrectly. After reading the data into the Python software the issue was resolved.\n",
    "\n",
    "Note, the five subjects with missing age data are:\n",
    "\n",
    "* 101465\n",
    "* 102648\n",
    "* 106607\n",
    "* 106646\n",
    "* 107543"
   ]
  },
  {
   "cell_type": "markdown",
   "metadata": {},
   "source": [
    "## View distribution of other phenotype variable \n",
    "See if we need to adjust for other confounding factors.\n",
    "\n",
    "`0=no abuse/use\n",
    "1=abuse/use`\n",
    "\n",
    "There is data for:\n",
    "\n",
    "`opioid_dep\n",
    "cocaine_dep\n",
    "\n",
    "opioid_abuse\n",
    "cocaine_abuse\n",
    "alcohol_abuse`"
   ]
  },
  {
   "cell_type": "code",
   "execution_count": 1,
   "metadata": {},
   "outputs": [
    {
     "data": {
      "text/html": [
       "'C:/Users/jmarks/Desktop/GitHub/jaamarks_notebooks/Heroin_Project/develop'"
      ],
      "text/latex": [
       "'C:/Users/jmarks/Desktop/GitHub/jaamarks\\_notebooks/Heroin\\_Project/develop'"
      ],
      "text/markdown": [
       "'C:/Users/jmarks/Desktop/GitHub/jaamarks_notebooks/Heroin_Project/develop'"
      ],
      "text/plain": [
       "[1] \"C:/Users/jmarks/Desktop/GitHub/jaamarks_notebooks/Heroin_Project/develop\""
      ]
     },
     "metadata": {},
     "output_type": "display_data"
    }
   ],
   "source": [
    "getwd()"
   ]
  },
  {
   "cell_type": "markdown",
   "metadata": {},
   "source": [
    "Note, there were some issues with read the data with R and command line tools. Because of this, I read the phenotype data into Python and then saved it as `kreek.phenotype.table`."
   ]
  },
  {
   "cell_type": "code",
   "execution_count": 1,
   "metadata": {},
   "outputs": [
    {
     "data": {
      "text/html": [
       "<table>\n",
       "<thead><tr><th scope=col>dbGaP_Subject_ID</th><th scope=col>SUBJECT_ID</th><th scope=col>age</th><th scope=col>sex</th><th scope=col>family_race</th><th scope=col>dxsys</th><th scope=col>twin</th><th scope=col>deceased</th><th scope=col>opioid_dep</th><th scope=col>cocaine_dep</th><th scope=col>...</th><th scope=col>stimulant_dep</th><th scope=col>sedative_dep</th><th scope=col>other_dep</th><th scope=col>opioid_abuse</th><th scope=col>cocaine_abuse</th><th scope=col>alcohol_abuse</th><th scope=col>cannabis_abuse</th><th scope=col>stimulant_abuse</th><th scope=col>sedative_abuse</th><th scope=col>other_abuse</th></tr></thead>\n",
       "<tbody>\n",
       "\t<tr><td>1543617         </td><td>100002          </td><td>34.0            </td><td>1               </td><td>African_American</td><td>DSM4            </td><td>NULL            </td><td>NULL            </td><td>0               </td><td>0               </td><td>...             </td><td>NULL            </td><td>NULL            </td><td>NULL            </td><td>0               </td><td>0               </td><td>0               </td><td>NULL            </td><td>NULL            </td><td>NULL            </td><td>NULL            </td></tr>\n",
       "\t<tr><td>1543710         </td><td>100004          </td><td>56.0            </td><td>1               </td><td>White           </td><td>DSM4            </td><td>NULL            </td><td>NULL            </td><td>1               </td><td>0               </td><td>...             </td><td>NULL            </td><td>NULL            </td><td>NULL            </td><td>0               </td><td>0               </td><td>0               </td><td>NULL            </td><td>NULL            </td><td>NULL            </td><td>NULL            </td></tr>\n",
       "\t<tr><td>1543601         </td><td>100006          </td><td>22.0            </td><td>1               </td><td>White           </td><td>DSM4            </td><td>NULL            </td><td>NULL            </td><td>1               </td><td>0               </td><td>...             </td><td>NULL            </td><td>NULL            </td><td>NULL            </td><td>0               </td><td>0               </td><td>0               </td><td>NULL            </td><td>NULL            </td><td>NULL            </td><td>NULL            </td></tr>\n",
       "\t<tr><td>1543092         </td><td>100007          </td><td>22.0            </td><td>2               </td><td>White           </td><td>DSM4            </td><td>NULL            </td><td>NULL            </td><td>1               </td><td>0               </td><td>...             </td><td>NULL            </td><td>NULL            </td><td>NULL            </td><td>0               </td><td>0               </td><td>0               </td><td>NULL            </td><td>NULL            </td><td>NULL            </td><td>NULL            </td></tr>\n",
       "\t<tr><td>1543808         </td><td>100008          </td><td>50.0            </td><td>1               </td><td>African_American</td><td>DSM4            </td><td>NULL            </td><td>NULL            </td><td>1               </td><td>0               </td><td>...             </td><td>NULL            </td><td>NULL            </td><td>NULL            </td><td>1               </td><td>1               </td><td>0               </td><td>NULL            </td><td>NULL            </td><td>NULL            </td><td>NULL            </td></tr>\n",
       "\t<tr><td>1544154         </td><td>100010          </td><td>20.0            </td><td>1               </td><td>African_American</td><td>DSM4            </td><td>NULL            </td><td>NULL            </td><td>0               </td><td>0               </td><td>...             </td><td>NULL            </td><td>NULL            </td><td>NULL            </td><td>0               </td><td>0               </td><td>0               </td><td>NULL            </td><td>NULL            </td><td>NULL            </td><td>NULL            </td></tr>\n",
       "</tbody>\n",
       "</table>\n"
      ],
      "text/latex": [
       "\\begin{tabular}{r|lllllllllllllllllllllll}\n",
       " dbGaP\\_Subject\\_ID & SUBJECT\\_ID & age & sex & family\\_race & dxsys & twin & deceased & opioid\\_dep & cocaine\\_dep & ... & stimulant\\_dep & sedative\\_dep & other\\_dep & opioid\\_abuse & cocaine\\_abuse & alcohol\\_abuse & cannabis\\_abuse & stimulant\\_abuse & sedative\\_abuse & other\\_abuse\\\\\n",
       "\\hline\n",
       "\t 1543617            & 100002             & 34.0               & 1                  & African\\_American & DSM4               & NULL               & NULL               & 0                  & 0                  & ...                & NULL               & NULL               & NULL               & 0                  & 0                  & 0                  & NULL               & NULL               & NULL               & NULL              \\\\\n",
       "\t 1543710          & 100004           & 56.0             & 1                & White            & DSM4             & NULL             & NULL             & 1                & 0                & ...              & NULL             & NULL             & NULL             & 0                & 0                & 0                & NULL             & NULL             & NULL             & NULL            \\\\\n",
       "\t 1543601          & 100006           & 22.0             & 1                & White            & DSM4             & NULL             & NULL             & 1                & 0                & ...              & NULL             & NULL             & NULL             & 0                & 0                & 0                & NULL             & NULL             & NULL             & NULL            \\\\\n",
       "\t 1543092          & 100007           & 22.0             & 2                & White            & DSM4             & NULL             & NULL             & 1                & 0                & ...              & NULL             & NULL             & NULL             & 0                & 0                & 0                & NULL             & NULL             & NULL             & NULL            \\\\\n",
       "\t 1543808            & 100008             & 50.0               & 1                  & African\\_American & DSM4               & NULL               & NULL               & 1                  & 0                  & ...                & NULL               & NULL               & NULL               & 1                  & 1                  & 0                  & NULL               & NULL               & NULL               & NULL              \\\\\n",
       "\t 1544154            & 100010             & 20.0               & 1                  & African\\_American & DSM4               & NULL               & NULL               & 0                  & 0                  & ...                & NULL               & NULL               & NULL               & 0                  & 0                  & 0                  & NULL               & NULL               & NULL               & NULL              \\\\\n",
       "\\end{tabular}\n"
      ],
      "text/markdown": [
       "\n",
       "dbGaP_Subject_ID | SUBJECT_ID | age | sex | family_race | dxsys | twin | deceased | opioid_dep | cocaine_dep | ... | stimulant_dep | sedative_dep | other_dep | opioid_abuse | cocaine_abuse | alcohol_abuse | cannabis_abuse | stimulant_abuse | sedative_abuse | other_abuse | \n",
       "|---|---|---|---|---|---|\n",
       "| 1543617          | 100002           | 34.0             | 1                | African_American | DSM4             | NULL             | NULL             | 0                | 0                | ...              | NULL             | NULL             | NULL             | 0                | 0                | 0                | NULL             | NULL             | NULL             | NULL             | \n",
       "| 1543710          | 100004           | 56.0             | 1                | White            | DSM4             | NULL             | NULL             | 1                | 0                | ...              | NULL             | NULL             | NULL             | 0                | 0                | 0                | NULL             | NULL             | NULL             | NULL             | \n",
       "| 1543601          | 100006           | 22.0             | 1                | White            | DSM4             | NULL             | NULL             | 1                | 0                | ...              | NULL             | NULL             | NULL             | 0                | 0                | 0                | NULL             | NULL             | NULL             | NULL             | \n",
       "| 1543092          | 100007           | 22.0             | 2                | White            | DSM4             | NULL             | NULL             | 1                | 0                | ...              | NULL             | NULL             | NULL             | 0                | 0                | 0                | NULL             | NULL             | NULL             | NULL             | \n",
       "| 1543808          | 100008           | 50.0             | 1                | African_American | DSM4             | NULL             | NULL             | 1                | 0                | ...              | NULL             | NULL             | NULL             | 1                | 1                | 0                | NULL             | NULL             | NULL             | NULL             | \n",
       "| 1544154          | 100010           | 20.0             | 1                | African_American | DSM4             | NULL             | NULL             | 0                | 0                | ...              | NULL             | NULL             | NULL             | 0                | 0                | 0                | NULL             | NULL             | NULL             | NULL             | \n",
       "\n",
       "\n"
      ],
      "text/plain": [
       "  dbGaP_Subject_ID SUBJECT_ID age  sex family_race      dxsys twin deceased\n",
       "1 1543617          100002     34.0 1   African_American DSM4  NULL NULL    \n",
       "2 1543710          100004     56.0 1   White            DSM4  NULL NULL    \n",
       "3 1543601          100006     22.0 1   White            DSM4  NULL NULL    \n",
       "4 1543092          100007     22.0 2   White            DSM4  NULL NULL    \n",
       "5 1543808          100008     50.0 1   African_American DSM4  NULL NULL    \n",
       "6 1544154          100010     20.0 1   African_American DSM4  NULL NULL    \n",
       "  opioid_dep cocaine_dep ... stimulant_dep sedative_dep other_dep opioid_abuse\n",
       "1 0          0           ... NULL          NULL         NULL      0           \n",
       "2 1          0           ... NULL          NULL         NULL      0           \n",
       "3 1          0           ... NULL          NULL         NULL      0           \n",
       "4 1          0           ... NULL          NULL         NULL      0           \n",
       "5 1          0           ... NULL          NULL         NULL      1           \n",
       "6 0          0           ... NULL          NULL         NULL      0           \n",
       "  cocaine_abuse alcohol_abuse cannabis_abuse stimulant_abuse sedative_abuse\n",
       "1 0             0             NULL           NULL            NULL          \n",
       "2 0             0             NULL           NULL            NULL          \n",
       "3 0             0             NULL           NULL            NULL          \n",
       "4 0             0             NULL           NULL            NULL          \n",
       "5 1             0             NULL           NULL            NULL          \n",
       "6 0             0             NULL           NULL            NULL          \n",
       "  other_abuse\n",
       "1 NULL       \n",
       "2 NULL       \n",
       "3 NULL       \n",
       "4 NULL       \n",
       "5 NULL       \n",
       "6 NULL       "
      ]
     },
     "metadata": {},
     "output_type": "display_data"
    },
    {
     "name": "stdout",
     "output_type": "stream",
     "text": [
      "[1] \"opioid_dep\"\n"
     ]
    },
    {
     "data": {
      "text/plain": [
       "\n",
       "  0   1 \n",
       "797 864 "
      ]
     },
     "metadata": {},
     "output_type": "display_data"
    }
   ],
   "source": [
    "## local machine ##\n",
    "#scp -i ~/.ssh/gwas_rsa ec2-user@34.202.49.209:/shared/impute/kreek/data/phenotype/processing/phs001109.v1.pht005447.v1.p1.c1.Addictive_Diseases_Subject_Phenotypes.DS-ADX-IRB-NPU.txt .\n",
    "#tail -n +11 phs001109.v1.pht005447.v1.p1.c1.Addictive_Diseases_Subject_Phenotypes.DS-ADX-IRB-NPU.txt > phenotypes.all.variables\n",
    "setwd('C:/Users/jmarks/Desktop/Projects/Heroin/ngc/kreek/phenotype/')\n",
    "all.variables <- read.table('kreek.phenotype.table',\n",
    "                            header = TRUE, fill=T)\n",
    "head(all.variables)\n",
    "#affection.status.file <- read.table('phs001109.v1.pht005445.v1.p1.Addictive_Diseases_Subject.MULTI.txt',\n",
    "#                                    header = TRUE, fill=T)\n",
    "#head(affection.status.file)\n",
    "#print(\"AFFECTION_STATUS\")\n",
    "#table(affection.status.file$AFFECTION_STATUS)\n",
    "print(\"opioid_dep\")\n",
    "table(all.variables$opioid_dep)\n",
    "#print(\"opioid_abuse\")\n",
    "#table(all.variables$opioid_abuse)"
   ]
  },
  {
   "cell_type": "markdown",
   "metadata": {},
   "source": [
    "There are 797 controls and 864 cases. "
   ]
  },
  {
   "cell_type": "code",
   "execution_count": 2,
   "metadata": {},
   "outputs": [
    {
     "name": "stdout",
     "output_type": "stream",
     "text": [
      "[1] \"opioid_dep\"\n"
     ]
    },
    {
     "data": {
      "text/plain": [
       "\n",
       "  0   1 \n",
       "797 864 "
      ]
     },
     "metadata": {},
     "output_type": "display_data"
    },
    {
     "name": "stdout",
     "output_type": "stream",
     "text": [
      "[1] \"cocaine_dep\"\n"
     ]
    },
    {
     "data": {
      "text/plain": [
       "\n",
       "  0   1 \n",
       "994 667 "
      ]
     },
     "metadata": {},
     "output_type": "display_data"
    },
    {
     "name": "stdout",
     "output_type": "stream",
     "text": [
      "[1] \"alcohol_dep\"\n"
     ]
    },
    {
     "data": {
      "text/plain": [
       "\n",
       "   0    1 \n",
       "1146  515 "
      ]
     },
     "metadata": {},
     "output_type": "display_data"
    },
    {
     "name": "stdout",
     "output_type": "stream",
     "text": [
      "[1] \"nicotine_dep\"\n"
     ]
    },
    {
     "data": {
      "text/plain": [
       "\n",
       "NULL \n",
       "1661 "
      ]
     },
     "metadata": {},
     "output_type": "display_data"
    },
    {
     "name": "stdout",
     "output_type": "stream",
     "text": [
      "[1] \"cannabis_dep\"\n"
     ]
    },
    {
     "data": {
      "text/plain": [
       "\n",
       "NULL \n",
       "1661 "
      ]
     },
     "metadata": {},
     "output_type": "display_data"
    },
    {
     "name": "stdout",
     "output_type": "stream",
     "text": [
      "[1] \"stimulant_dep\"\n"
     ]
    },
    {
     "data": {
      "text/plain": [
       "\n",
       "NULL \n",
       "1661 "
      ]
     },
     "metadata": {},
     "output_type": "display_data"
    },
    {
     "name": "stdout",
     "output_type": "stream",
     "text": [
      "[1] \"sedative_dep\"\n"
     ]
    },
    {
     "data": {
      "text/plain": [
       "\n",
       "NULL \n",
       "1661 "
      ]
     },
     "metadata": {},
     "output_type": "display_data"
    },
    {
     "name": "stdout",
     "output_type": "stream",
     "text": [
      "[1] \"other_dep\"\n"
     ]
    },
    {
     "data": {
      "text/plain": [
       "\n",
       "NULL \n",
       "1661 "
      ]
     },
     "metadata": {},
     "output_type": "display_data"
    },
    {
     "name": "stdout",
     "output_type": "stream",
     "text": [
      "[1] \"sedative_abuse\"\n"
     ]
    },
    {
     "data": {
      "text/plain": [
       "\n",
       "NULL \n",
       "1661 "
      ]
     },
     "metadata": {},
     "output_type": "display_data"
    },
    {
     "name": "stdout",
     "output_type": "stream",
     "text": [
      "[1] \"opioid_abuse\"\n"
     ]
    },
    {
     "data": {
      "text/plain": [
       "\n",
       "  0   1 \n",
       "972 689 "
      ]
     },
     "metadata": {},
     "output_type": "display_data"
    },
    {
     "name": "stdout",
     "output_type": "stream",
     "text": [
      "[1] \"cocaine_abuse\"\n"
     ]
    },
    {
     "data": {
      "text/plain": [
       "\n",
       "   0    1 \n",
       "1067  594 "
      ]
     },
     "metadata": {},
     "output_type": "display_data"
    },
    {
     "name": "stdout",
     "output_type": "stream",
     "text": [
      "[1] \"alcohol_abuse\"\n"
     ]
    },
    {
     "data": {
      "text/plain": [
       "\n",
       "   0    1 \n",
       "1095  566 "
      ]
     },
     "metadata": {},
     "output_type": "display_data"
    },
    {
     "name": "stdout",
     "output_type": "stream",
     "text": [
      "[1] \"cannabis_abuse\"\n"
     ]
    },
    {
     "data": {
      "text/plain": [
       "\n",
       "NULL \n",
       "1661 "
      ]
     },
     "metadata": {},
     "output_type": "display_data"
    },
    {
     "name": "stdout",
     "output_type": "stream",
     "text": [
      "[1] \"stimulant_abuse\"\n"
     ]
    },
    {
     "data": {
      "text/plain": [
       "\n",
       "NULL \n",
       "1661 "
      ]
     },
     "metadata": {},
     "output_type": "display_data"
    },
    {
     "name": "stdout",
     "output_type": "stream",
     "text": [
      "[1] \"other_abuse\"\n"
     ]
    },
    {
     "data": {
      "text/plain": [
       "\n",
       "NULL \n",
       "1661 "
      ]
     },
     "metadata": {},
     "output_type": "display_data"
    },
    {
     "name": "stdout",
     "output_type": "stream",
     "text": [
      "[1] \"\"\n",
      "[1] \"Note, there are 5 subjects without age data.\"\n"
     ]
    },
    {
     "data": {
      "text/plain": [
       "\n",
       "111.0  17.0  18.0  19.0  20.0  21.0  22.0  23.0  24.0  25.0  26.0  27.0  28.0 \n",
       "    1    14    21    31    21    36    36    26    41    31    23    36    32 \n",
       " 29.0  30.0  31.0  32.0  33.0  34.0  35.0  36.0  37.0  38.0  39.0  40.0  41.0 \n",
       "   27    32    26    35    30    34    21    28    45    50    36    44    45 \n",
       " 42.0  43.0  44.0  45.0  46.0  47.0  48.0  49.0  50.0  51.0  52.0  53.0  54.0 \n",
       "   55    53    57    56    57    55    57    52    35    35    40    32    39 \n",
       " 55.0  56.0  57.0  58.0  59.0  60.0  61.0  62.0  63.0  64.0  65.0  66.0  67.0 \n",
       "   34    23    29    37    21    23    16     8     9    11     2     2     6 \n",
       " 68.0  69.0  70.0  71.0  78.0  NULL \n",
       "    2     3     1     3     1     5 "
      ]
     },
     "metadata": {},
     "output_type": "display_data"
    }
   ],
   "source": [
    "print(\"opioid_dep\")\n",
    "table(all.variables$opioid_dep)\n",
    "print(\"cocaine_dep\")\n",
    "table(all.variables$cocaine_dep)\n",
    "print(\"alcohol_dep\")\n",
    "table(all.variables$alcohol_dep)\n",
    "print(\"nicotine_dep\")\n",
    "table(all.variables$nicotine_dep)\n",
    "print(\"cannabis_dep\")\n",
    "table(all.variables$cannabis_dep)\n",
    "print(\"stimulant_dep\")\n",
    "table(all.variables$stimulant_dep)\n",
    "print(\"sedative_dep\")\n",
    "table(all.variables$sedative_dep)\n",
    "print(\"other_dep\")\n",
    "table(all.variables$other_dep)\n",
    "print(\"sedative_abuse\")\n",
    "table(all.variables$sedative_abuse)\n",
    "print(\"opioid_abuse\")\n",
    "table(all.variables$opioid_abuse)\n",
    "print(\"cocaine_abuse\")\n",
    "table(all.variables$cocaine_abuse)\n",
    "print(\"alcohol_abuse\")\n",
    "table(all.variables$alcohol_abuse)\n",
    "print(\"cannabis_abuse\")\n",
    "table(all.variables$cannabis_abuse)\n",
    "print(\"stimulant_abuse\")\n",
    "table(all.variables$stimulant_abuse)\n",
    "print(\"other_abuse\")\n",
    "table(all.variables$other_abuse)\n",
    "print(\"\")\n",
    "print(\"Note, there are 5 subjects without age data.\")\n",
    "table(all.variables$age)"
   ]
  },
  {
   "cell_type": "markdown",
   "metadata": {},
   "source": [
    "# Prepare files for ProbABEL\n",
    "## Phenotype Data\n",
    "### Filter to variables of interest\n",
    "For this first run, we will be performing a baseline GWAS."
   ]
  },
  {
   "cell_type": "code",
   "execution_count": null,
   "metadata": {},
   "outputs": [],
   "source": [
    "cd /shared/data/studies/kreek/phenotype\n",
    "\n",
    "phenoDir=/shared/data/studies/kreek/phenotype\n",
    "genoDir=/shared/data/studies/kreek/genotype/original\n",
    "# contruct phenotype file (combine columns from phenotype files into one file)\n",
    "# should have age, sex, case/control status\n",
    "awk '{print $2,$3,$4,$9}' kreek.phenotype.table > kreek.phenotype.table.ID.age.sex.opioid_dep\n",
    "\n",
    "\n",
    "# get IDs of subjects with genotype data\n",
    "cut -d ' ' -f2 $genoDir/ea_chr_all.fam > $phenoDir/kreek.ea.genotype.IDs\n",
    "cut -d ' ' -f2 $genoDir/aa_chr_all.fam > $phenoDir/kreek.aa.genotype.IDs\n",
    "\n",
    "# filter phenotype data based on genotype ids (subjects with geno data)\n",
    "# note that there were ancestral reasignments made during the genotype QC,\n",
    "head -n1 kreek.phenotype.table.ID.age.sex.opioid_dep > aa.kreek.phenotype.table.ID.age.sex.opioid_dep\n",
    "head -n1 kreek.phenotype.table.ID.age.sex.opioid_dep > ea.kreek.phenotype.table.ID.age.sex.opioid_dep\n",
    "\n",
    "awk 'NR==FNR{a[$1];next} FNR==1{print $0;next} FNR>=2{ if($1 in a) {print $0}}' \\\n",
    "    kreek.ea.genotype.IDs kreek.phenotype.table.ID.age.sex.opioid_dep >\\\n",
    "    ea.kreek.phenotype.table.ID.age.sex.opioid_dep\n",
    "\n",
    "awk 'NR==FNR{a[$1];next} FNR==1{print $0;next} FNR>=2{ if($1 in a) {print $0}}' \\\n",
    "    kreek.aa.genotype.IDs kreek.phenotype.table.ID.age.sex.opioid_dep >\\\n",
    "    aa.kreek.phenotype.table.ID.age.sex.opioid_dep\n",
    "\n",
    "# filter by missing age.sex.case/control data\n",
    "\n",
    "wc -l *dep\n",
    "```  \n",
    "  577 aa.kreek.phenotype.table.ID.age.sex.opioid_dep\n",
    "  625 ea.kreek.phenotype.table.ID.age.sex.opioid_dep\n",
    "```"
   ]
  },
  {
   "cell_type": "markdown",
   "metadata": {},
   "source": [
    "Note, this removed the subjects with missing age data. Performing the `table` function in R for every variable in the files:\n",
    "\n",
    "```\n",
    "ea.kreek.phenotype.table.ID.age.sex.opioid_dep\n",
    "aa.kreek.phenotype.table.ID.age.sex.opioid_dep\n",
    "```\n",
    "\n",
    "shows that there are no missing data now. "
   ]
  },
  {
   "cell_type": "markdown",
   "metadata": {},
   "source": [
    "### map case/control and sex\n",
    "The NGC protocol requires:\n",
    "* 1=female & 2=male\n",
    "* 1=control & 2=case\n",
    "\n",
    "In out data we have:\n",
    "\n",
    "* 1=male & 2=female\n",
    "* 0=control and 1=case\n",
    "\n",
    "Therefore, we need to map these data appropriately."
   ]
  },
  {
   "cell_type": "code",
   "execution_count": null,
   "metadata": {
    "collapsed": true
   },
   "outputs": [],
   "source": [
    "### EC2 console ###\n",
    "mkdir -p /shared/bioinformatics/jmarks/heroin/kreek/gwas/oaall\n",
    "\n",
    "phenoDir=/shared/data/studies/kreek/phenotype\n",
    "genoDir=/shared/data/studies/kreek/genotype/original\n",
    "# filter the fam files based on the subjects that are in the phenotype data\n",
    "# this is needed to create the PLINK filtered datasets to run eigenstrat\n",
    "# It could be the case that a subject had genotype data and phenotype data but the\n",
    "# phenotype data was incomplete and therefore would not be used in the final anlyses\n",
    "# which is why is it necessary to create a filtered fam file (genotype data).\n",
    "# For this case, the filterd.fam step is not necessary.\n",
    "#grep -f id_list.txt ../genotype/original/final/ea_chr_all.fam > filtered.fam\n",
    "#awk '{print $1,$2 }' filtered.fam > ea_subject_ids.keep\n",
    "\n",
    "head aa.kreek.phenotype.table.ID.age.sex.opioid_dep\n",
    "\"\"\"\n",
    "SUBJECT_ID age sex opioid_dep\n",
    "100002 34.0 1 0\n",
    "100008 50.0 1 1\n",
    "100027 52.0 1 1\n",
    "100063 44.0 2 1\n",
    "100070 52.0 2 0\n",
    "100073 37.0 2 0\n",
    "100085 36.0 2 1\n",
    "100087 26.0 1 0\n",
    "100101 34.0 1 0\n",
    "\"\"\"\n",
    "\n",
    "head ea.kreek.phenotype.table.ID.age.sex.opioid_dep\n",
    "\"\"\"\n",
    "SUBJECT_ID age sex opioid_dep\n",
    "100004 56.0 1 1\n",
    "100006 22.0 1 1\n",
    "100007 22.0 2 1\n",
    "100025 46.0 2 1\n",
    "100032 45.0 2 0\n",
    "100033 45.0 2 1\n",
    "100047 46.0 1 1\n",
    "100112 36.0 2 1\n",
    "100149 36.0 2 0\n",
    "\"\"\"\n",
    "\n",
    "# map sex code and affection_status\n",
    "## AA\n",
    "awk  'NR>=2{ if ( $3 == \"1\" ) {$3=2} else {$3=1}} {print $0}' \n",
    "    aa.kreek.phenotype.table.ID.age.sex.opioid_dep >\\\n",
    "    aa.kreek.phenotype.table.ID.age.sex.opioid_dep.sex.mapped\n",
    "awk 'NR>=2{ if ( $4 == \"0\" ) {$4=1} else {$4=2}} {print $0}' \\\n",
    "    aa.kreek.phenotype.table.ID.age.sex.opioid_dep.sex.mapped > \\\n",
    "    aa.kreek.phenotype.table.ID+age+sex+opioid_dep.sex.case_control.mapped\n",
    "\n",
    "\n",
    "## EA\n",
    "awk  'NR>=2{ if ( $3 == \"1\" ) {$3=2} else {$3=1}} {print $0}' \\\n",
    "    ea.kreek.phenotype.table.ID.age.sex.opioid_dep >\\\n",
    "    ea.kreek.phenotype.table.ID.age.sex.opioid_dep.sex.mapped\n",
    "awk 'NR>=2{ if ( $4 == \"0\" ) {$4=1} else {$4=2}} {print $0}' \\\n",
    "    ea.kreek.phenotype.table.ID.age.sex.opioid_dep.sex.mapped > \\\n",
    "    ea.kreek.phenotype.table.ID+age+sex+opioid_dep.sex.case_control.mapped"
   ]
  },
  {
   "cell_type": "code",
   "execution_count": null,
   "metadata": {},
   "outputs": [],
   "source": [
    "## local command line ##\n",
    "\n",
    "scp -i ~/.ssh/gwas_rsa ec2-user@35.168.108.18:/shared/bioinformatics/jmarks/heroin/kreek/gwas/oaall/data/phenotype/processing/* \\\n",
    "    /cygdrive/c/Users/jmarks/Desktop/Projects/Heroin/ngc/kreek/phenotype"
   ]
  },
  {
   "cell_type": "code",
   "execution_count": 4,
   "metadata": {},
   "outputs": [
    {
     "name": "stdout",
     "output_type": "stream",
     "text": [
      "[1] \"EA:1 is female 2 is male.\"\n"
     ]
    },
    {
     "data": {
      "text/plain": [
       "\n",
       "  1   2 \n",
       "239 385 "
      ]
     },
     "metadata": {},
     "output_type": "display_data"
    },
    {
     "name": "stdout",
     "output_type": "stream",
     "text": [
      "[1] \"EA: age\"\n"
     ]
    },
    {
     "data": {
      "text/plain": [
       "\n",
       "17 18 19 20 21 22 23 24 25 26 27 28 29 30 31 32 33 34 35 36 37 38 39 40 41 42 \n",
       " 7  7 18  9 14 18 14 19 10  8 17 16 14 16 10 18 12 12  5 13 16  8 10 11 11 12 \n",
       "43 44 45 46 47 48 49 50 51 52 53 54 55 56 57 58 59 60 61 62 63 64 65 66 67 68 \n",
       "14 17 18 25 24 25 17 10 14 15 10 16 16 11 10  8  4 12  6  4  4  7  1  2  4  1 \n",
       "69 70 71 \n",
       " 1  1  2 "
      ]
     },
     "metadata": {},
     "output_type": "display_data"
    },
    {
     "name": "stdout",
     "output_type": "stream",
     "text": [
      "[1] \"EA: Case/control - 1 is control & 2 is case\"\n"
     ]
    },
    {
     "data": {
      "text/plain": [
       "\n",
       "  1   2 \n",
       "216 408 "
      ]
     },
     "metadata": {},
     "output_type": "display_data"
    },
    {
     "name": "stdout",
     "output_type": "stream",
     "text": [
      "[1] \"AA:1 is female 2 is male.\"\n"
     ]
    },
    {
     "data": {
      "text/plain": [
       "\n",
       "  1   2 \n",
       "206 370 "
      ]
     },
     "metadata": {},
     "output_type": "display_data"
    },
    {
     "name": "stdout",
     "output_type": "stream",
     "text": [
      "[1] \"AA: Age\"\n"
     ]
    },
    {
     "data": {
      "text/plain": [
       "\n",
       "17 18 19 20 21 22 23 24 25 26 27 28 29 30 31 32 33 34 35 36 37 38 39 40 41 42 \n",
       " 1  4  8  2  8  8  5  5 14  7  7  9  6  4 13  6 10 12  7  8 12 17 13 18 18 28 \n",
       "43 44 45 46 47 48 49 50 51 52 53 54 55 56 57 58 59 60 61 62 63 64 67 68 69 71 \n",
       "24 31 25 19 19 25 28 21  8 16 10 15 10  8 12 17 11  7  8  2  2  2  2  1  1  1 \n",
       "78 \n",
       " 1 "
      ]
     },
     "metadata": {},
     "output_type": "display_data"
    },
    {
     "name": "stdout",
     "output_type": "stream",
     "text": [
      "[1] \"AA:Case/control - 1 is control & 2 is case\"\n"
     ]
    },
    {
     "data": {
      "text/plain": [
       "\n",
       "  1   2 \n",
       "370 206 "
      ]
     },
     "metadata": {},
     "output_type": "display_data"
    }
   ],
   "source": [
    "### R console ###\n",
    "library(MASS)\n",
    "options(repr.plot.width=10, repr.plot.height=17)\n",
    "# note that I copied over the phenotype data to my local machine to produce the plots\n",
    "setwd('C:/Users/jmarks/Desktop/Projects/Heroin/ngc/kreek/phenotype')\n",
    "\n",
    "ea.data <- read.table(\"ea.kreek.phenotype.table.ID+age+sex+opioid_dep.sex.case_control.mapped\", \n",
    "                                     header = T, colClasses =  rep(\"double\",  4))\n",
    "aa.data <- read.table(\"aa.kreek.phenotype.table.ID+age+sex+opioid_dep.sex.case_control.mapped\", \n",
    "                                     header = T, colClasses =  rep(\"double\",  4))\n",
    "\n",
    "print(\"EA:1 is female 2 is male.\")\n",
    "table(ea.data$sex)\n",
    "print(\"EA: age\")\n",
    "table(ea.data$age)\n",
    "print(\"EA: Case/control - 1 is control & 2 is case\")\n",
    "table(ea.data$opioid_dep)\n",
    "print(\"AA:1 is female 2 is male.\")\n",
    "table(aa.data$sex)\n",
    "print(\"AA: Age\")\n",
    "table(aa.data$age)\n",
    "print(\"AA:Case/control - 1 is control & 2 is case\")\n",
    "table(aa.data$opioid_dep)"
   ]
  },
  {
   "cell_type": "markdown",
   "metadata": {},
   "source": [
    "### PCA (EIGENSTRAT)\n",
    "To obtain principal component covariates to use in the GWAS statistical model, EIGENSTRAT is run on LD-pruned observed genotypes for each ancestry group. Usually a GRCh37 plus strand check is implemented, as well as a monomorphic SNP filter and discordant allele flip. Since this was already done for data in preparation for haplotype phasing, the haplotype phasing input PLINK files will be used. \n",
    "\n",
    "**Note**: In addition to these aforementioned data processing steps, ambiguous SNPs identified by reference panel frequency differences in the discordant allele checks were also removed prior to phasing."
   ]
  },
  {
   "cell_type": "markdown",
   "metadata": {},
   "source": [
    "#### Remove high-LD region variants"
   ]
  },
  {
   "cell_type": "code",
   "execution_count": null,
   "metadata": {
    "collapsed": true
   },
   "outputs": [],
   "source": [
    "### EC2 console ###\n",
    "mkdir mkdir /shared/bioinformatics/jmarks/heroin/kreek/gwas/oaall/eigenstrat\n",
    "cd /shared/bioinformatics/jmarks/heroin/kreek/gwas/oaall/eigenstrat\n",
    "\n",
    "genoDir=/shared/bioinformatics/jmarks/heroin/kreek/gwas/oaall/data/genotype/original\n",
    "phenoDir=/shared/bioinformatics/jmarks/heroin/kreek/gwas/oaall/data/phenotype/processing\n",
    "baseDir=/shared/bioinformatics/jmarks/heroin/kreek/gwas/oaall/eigenstrat\n",
    "\n",
    "for ancestry in {ea,aa};do\n",
    "    # Generate list of variants in known high-LD regions\n",
    "    perl -lane 'if (($F[0]==5 && $F[3] >= 43964243 && $F[3] <= 51464243) || ($F[0]==6 && $F[3] >= 24892021 && $F[3] <= 33392022) || ($F[0]==8 && $F[3] >= 7962590 && $F[3] <= 11962591) || ($F[0]==11 && $F[3] >= 45043424 && $F[3] <= 57243424)) { print $F[1].\"\\n\"; }'\\\n",
    "    $genoDir/${ancestry}_chr_all.bim > $baseDir/${ancestry}.high_ld_regions.remove\n",
    "done\n",
    "            \n",
    "\n",
    "# Remove SNPs in known high-LD regions\n",
    "for ancestry in {ea,aa};do\n",
    "    /shared/bioinformatics/software/third_party/plink-1.90-beta-4.10-x86_64/plink \\\n",
    "        --noweb \\\n",
    "        --bfile $genoDir/${ancestry}_chr_all \\\n",
    "        --exclude $baseDir/${ancestry}.high_ld_regions.remove \\\n",
    "        --make-bed \\\n",
    "        --out $baseDir/${ancestry}_high_ld_regions_removed\n",
    "done"
   ]
  },
  {
   "cell_type": "markdown",
   "metadata": {},
   "source": [
    "#### Linkage disequilibrium pruning\n",
    "Linkage disequilibrium (LD) pruning eliminates a large degree of redundancy in the data and reduces the influence of chromosomal artifacts. The objective of LD pruning is to select a subset of variants based off of LD such that the variants in the subset are indepdendent. This filtering will not carry forward to the final processed results, but this step improves the quality of EIGENSTRAT calculations. Consequently, the LD pruned data will be used as input for those calculations.\n",
    "\n",
    "LD pruning is implemented using [PLINK --indep-pairwise](https://www.cog-genomics.org/plink/1.9/ld#indep)."
   ]
  },
  {
   "cell_type": "code",
   "execution_count": null,
   "metadata": {
    "collapsed": true
   },
   "outputs": [],
   "source": [
    "### EC2 console ###\n",
    "cd /shared/bioinformatics/jmarks/heroin/kreek/gwas/oaall/eigenstrat\n",
    "\n",
    "study=kreek\n",
    "baseDir=/shared/bioinformatics/jmarks/heroin/kreek/gwas/oaall/eigenstrat\n",
    "\n",
    "for ancestry in {ea,aa};do\n",
    "    for chr in {1..22}; do\n",
    "        /shared/bioinformatics/software/scripts/qsub_job.sh \\\n",
    "            --job_name $study.${ancestry}.chr${chr}.ld_prune \\\n",
    "            --script_prefix $baseDir/${ancestry}_chr${chr}_ld_prune \\\n",
    "            --mem 3 \\\n",
    "            --nslots 2 \\\n",
    "            --program /shared/bioinformatics/software/third_party/plink-1.90-beta-4.10-x86_64/plink \\\n",
    "                --noweb \\\n",
    "                --memory 3000 \\\n",
    "                --bfile $baseDir/${ancestry}_high_ld_regions_removed \\\n",
    "                --indep-pairwise 1500 150 0.2 \\\n",
    "                --chr ${chr} \\\n",
    "                --out $baseDir/${ancestry}_chr${chr}_ld_pruned\n",
    "    done\n",
    "done\n",
    "\n",
    "# Merge *prune.in files\n",
    "for ancestry in {aa,ea};do\n",
    "    cat ${ancestry}_chr*_ld_pruned.prune.in > ${ancestry}_chr_all_ld_pruned.prune.in\n",
    "done\n",
    "\n",
    "\n",
    "# Create new PLINK filesets with only lD pruned variants\n",
    "for ancestry in {aa,ea};do\n",
    "    /shared/bioinformatics/software/third_party/plink-1.90-beta-4.10-x86_64/plink \\\n",
    "        --noweb \\\n",
    "        --bfile ${ancestry}_high_ld_regions_removed \\\n",
    "        --extract ${ancestry}_chr_all_ld_pruned.prune.in \\\n",
    "        --make-bed \\\n",
    "        --out ${ancestry}_ld_pruned\n",
    "done\n",
    "\n",
    "# Clean up\n",
    "for ancestry in {aa,ea};do\n",
    "    rm *${ancestry}*ld_pruned.{prune.in,prune.out,log}\n",
    "    rm *${ancestry}*ld_prune*qsub*\n",
    "    rm *${ancestry}*high_ld_regions*\n",
    "    rm *${ancestry}*chr23_ld_pruned.hh\n",
    "done"
   ]
  },
  {
   "cell_type": "markdown",
   "metadata": {},
   "source": [
    "#### Rename BIM/FAM file IDs\n",
    "BIM file IDs have the potential issue of being too long if encoded using the 1000 Genomes Phase 3 IMPUTE2 format. This will cause smartpca to throw an error. To resolve this the IDs are replaced by numeric values. FAM file IDs are treated similarly."
   ]
  },
  {
   "cell_type": "code",
   "execution_count": null,
   "metadata": {
    "collapsed": true
   },
   "outputs": [],
   "source": [
    "### EC2 console ###\n",
    "cd /shared/bioinformatics/jmarks/heroin/kreek/gwas/oaall/eigenstrat\n",
    "\n",
    "study=kreek\n",
    "\n",
    "# Count ID lengths greater than 39 characters\n",
    "# an example of an rsID that is too long is the following:\n",
    "# rs141233280:245974067:GAAAGACGCACTTTTC:G\n",
    "for ancestry in {aa,ea};do\n",
    "    awk '{ if(length($1)+length($2)>39){print $2} }' ${ancestry}_ld_pruned.fam | wc -l\n",
    "    awk '{ if(length($2)>39){print $2} }' ${ancestry}_ld_pruned.bim | wc -l\n",
    "done\n",
    "# output is\n",
    "\"\"\"\n",
    "0\n",
    "2\n",
    "0\n",
    "1\n",
    "\"\"\"\n",
    "\n",
    "\n",
    "# Rename BIM file IDs\n",
    "for ancestry in {aa,ea};do\n",
    "    awk '{$2=\"ID_\"NR; print $0}' ${ancestry}_ld_pruned.bim \\\n",
    "        > ${ancestry}_ld_pruned_id_renamed.bim\n",
    "done\n",
    "\n",
    "## Rename FAM file IDs\n",
    "#awk '{$1=\"ID_\"NR; print $0}' ${ancestry}_ld_pruned.fam > ${ancestry}_ld_pruned_id_renamed.fam\n",
    "#done"
   ]
  },
  {
   "cell_type": "markdown",
   "metadata": {},
   "source": [
    "**Note** we did not have to rename the FAM files for this case."
   ]
  },
  {
   "cell_type": "markdown",
   "metadata": {},
   "source": [
    "#### Assign Cases and Controls\n",
    "Modify the fam file to include case/control status. According to PLINK,\n",
    "\n",
    "`Phenotype value ('1' = control, '2' = case, '-9'/'0'/non-numeric = missing data if case/control)`\n",
    "\n",
    "The NGC protocol is consistent with this assignment.\n",
    "\n",
    "**Note**: I can probably do this in the section right before eigenstrat software is actually run."
   ]
  },
  {
   "cell_type": "code",
   "execution_count": null,
   "metadata": {
    "collapsed": true
   },
   "outputs": [],
   "source": [
    "# EC2 command line #\n",
    "cd /shared/bioinformatics/jmarks/heroin/kreek/gwas/oaall/eigenstrat\n",
    "\n",
    "baseDir=/shared/bioinformatics/jmarks/heroin/kreek/gwas/oaall/eigenstrat\n",
    "phenoDir=/shared/bioinformatics/jmarks/heroin/kreek/gwas/oaall/data/phenotype/processing\n",
    "\n",
    "tail -n +2 $phenoDir/aa.kreek.phenotype.table.ID+age+sex+opioid_dep.sex.case_control.mapped |\\\n",
    "    awk '{ if ($4==1) {print $1}}' > $phenoDir/aa.controls.ids\n",
    "\n",
    "tail -n +2 $phenoDir/ea.kreek.phenotype.table.ID+age+sex+opioid_dep.sex.case_control.mapped |\\\n",
    "    awk '{ if ($4==1) {print $1}}' > $phenoDir/ea.controls.ids\n",
    "\n",
    "# Modify FAM file to include case/control status\n",
    "awk 'NR==FNR{map[$1]; next} {if($2 in map) {$6=1} else {$6=2}} {print $0} ' \\\n",
    "    $phenoDir/ea.controls.ids $baseDir/ea_ld_pruned.fam > $baseDir/ea_ld_pruned.case+control.mapped.fam\n",
    "\n",
    "awk 'NR==FNR{map[$1]; next} {if($2 in map) {$6=1} else {$6=2}} {print $0} ' \\\n",
    "    $phenoDir/aa.controls.ids $baseDir/aa_ld_pruned.fam > $baseDir/aa_ld_pruned.case+control.mapped.fam"
   ]
  },
  {
   "cell_type": "markdown",
   "metadata": {},
   "source": [
    "#### Run EIGENSTRAT\n",
    "__NOTE__: For `smartpca` to run, the BIM and FAM file IDs need to be less than 39 characters in length. Often this is not a problem, but with a BIM file that has IDs renamed to the 1000 Genomes Phase 3 format, the IDs for indels can exceed the character limit. Also, the EIGENSOFT `bin` directory should be part of the PATH variable.\n",
    "\n",
    "The `smartpca.pl` program documentation is shown below:\n",
    "\n",
    "DOCUMENTATION of `smartpca.pl` program:\n",
    "\n",
    "This program calls the smartpca program (see ../POPGEN/README). \n",
    "For this to work, the bin directory containing smartpca MUST be in your path. \n",
    "See `./example.perl` for a toy example.\n",
    "```\n",
    "../bin/smartpca.pl \n",
    "-i example.geno  : genotype file in any format (see ../CONVERTF/README)\n",
    "-a example.snp   : snp file in any format (see ../CONVERTF/README)\n",
    "-b example.ind   : indiv file in any format (see ../CONVERTF/README)\n",
    "-k k             : (Default is 10) number of principal components to output\n",
    "-o example.pca   : output file of principal components.  Individuals removed\n",
    "                   as outliers will have all values set to 0.0 in this file.\n",
    "-p example.plot  : prefix of output plot files of top 2 principal components.\n",
    "                   (labeling individuals according to labels in indiv file)\n",
    "-e example.eval  : output file of all eigenvalues\n",
    "-l example.log   : output logfile\n",
    "-m maxiter       : (Default is 5) maximum number of outlier removal iterations.\n",
    "                   To turn off outlier removal, set -m 0.\n",
    "-t topk          : (Default is 10) number of principal components along which \n",
    "                   to remove outliers during each outlier removal iteration.\n",
    "-s sigma         : (Default is 6.0) number of standard deviations which an\n",
    "                   individual must exceed, along one of topk top principal\n",
    "           components, in order to be removed as an outlier.\n",
    "\n",
    "OPTIONAL FLAGS:\n",
    "-w poplist       : compute eigenvectors using populations in poplist only,\n",
    "                   where poplist is an ASCII file with one population per line\n",
    "-y plotlist      : output plot will include populations in plotlist only, \n",
    "                   where plotlist is an ASCII file with one population per line\n",
    "-z badsnpname    : list of SNPs which should be excluded from the analysis\n",
    "-q YES/NO        : If set to YES, assume that there is a single population and\n",
    "                   the population field contains real-valued phenotypes.\n",
    "           (Corresponds to qtmode parameter in smartpca program.)\n",
    "           The default value for this parameter is NO.\n",
    "\n",
    "Estimated running time of the smartpca program is \n",
    "  2.5e-12 * nSNP * NSAMPLES^2 hours            if not removing outliers.\n",
    "  2.5e-12 * nSNP * NSAMPLES^2 hours * (1+m)    if m outlier removal iterations.\n",
    "Thus, under the default of up to 5 outlier removal iterations, running time is \n",
    "  up to 1.5e-11 * nSNP * NSAMPLES^2 hours.```"
   ]
  },
  {
   "cell_type": "code",
   "execution_count": null,
   "metadata": {
    "collapsed": true
   },
   "outputs": [],
   "source": [
    "### EC2 console ###\n",
    "cd /shared/bioinformatics/jmarks/heroin/kreek/gwas/oaall/eigenstrat\n",
    "mkdir results\n",
    "\n",
    "study=kreek\n",
    "baseDir=/shared/bioinformatics/jmarks/heroin/kreek/gwas/oaall/eigenstrat\n",
    "\n",
    "# Run smartpca\n",
    "for ancestry in {ea,aa}; do\n",
    "    /shared/bioinformatics/software/scripts/qsub_job.sh \\\n",
    "        --job_name $study.${ancestry}_smartpca \\\n",
    "        --script_prefix $baseDir/smartpca.$study.${ancestry} \\\n",
    "        --mem 7.5 \\\n",
    "        --nslots 1 \\\n",
    "        --priority 0 \\\n",
    "        --program /shared/bioinformatics/software/third_party/EIG-6.1.4/bin/smartpca.perl \\\n",
    "            -i $baseDir/${ancestry}_ld_pruned.bed \\\n",
    "            -a $baseDir/${ancestry}_ld_pruned_id_renamed.bim \\\n",
    "            -b $baseDir/${ancestry}_ld_pruned.case+control.mapped.fam \\\n",
    "            -o $baseDir/results/${ancestry}_ld_pruned.pca \\\n",
    "            -p $baseDir/results/${ancestry}_ld_pruned.plot \\\n",
    "            -e $baseDir/results/${ancestry}_ld_pruned.eval \\\n",
    "            -l $baseDir/results/${ancestry}_ld_pruned.pca.log \\\n",
    "            -m 0\n",
    "done"
   ]
  },
  {
   "cell_type": "markdown",
   "metadata": {},
   "source": [
    "#### View PCs from EIGENSTRAT"
   ]
  },
  {
   "cell_type": "code",
   "execution_count": null,
   "metadata": {
    "collapsed": true
   },
   "outputs": [],
   "source": [
    "### local machine ###\n",
    "# Copy results over to local machine so we can visualize the results\n",
    "cd /cygdrive/c/Users/jmarks/Desktop/Projects/Heroin/ngc/kreek/eigenstrat\n",
    "scp -i ~/.ssh/gwas_rsa ec2-user@35.168.108.18:/shared/bioinformatics/jmarks/heroin/kreek/gwas/oaall/eigenstrat/results/*pca.evec ."
   ]
  },
  {
   "cell_type": "code",
   "execution_count": 7,
   "metadata": {},
   "outputs": [
    {
     "data": {
      "text/html": [
       "<table>\n",
       "<thead><tr><th></th><th scope=col>V7</th><th scope=col>V8</th><th scope=col>V9</th><th scope=col>V10</th><th scope=col>V11</th><th scope=col>V12</th></tr></thead>\n",
       "<tbody>\n",
       "\t<tr><th scope=row>0:100002</th><td>-0.0102</td><td> 0.0065</td><td>-0.0076</td><td>-0.0066</td><td>-0.0299</td><td>Control</td></tr>\n",
       "\t<tr><th scope=row>0:100008</th><td>-0.0542</td><td> 0.0708</td><td>-0.0063</td><td>-0.0151</td><td> 0.0142</td><td>Case   </td></tr>\n",
       "\t<tr><th scope=row>0:100027</th><td> 0.0089</td><td>-0.0253</td><td>-0.0227</td><td> 0.0215</td><td>-0.0033</td><td>Case   </td></tr>\n",
       "\t<tr><th scope=row>0:100063</th><td>-0.0087</td><td> 0.0040</td><td> 0.0052</td><td>-0.0025</td><td>-0.0065</td><td>Case   </td></tr>\n",
       "\t<tr><th scope=row>0:100070</th><td> 0.0065</td><td>-0.0058</td><td>-0.0005</td><td>-0.0162</td><td>-0.0414</td><td>Control</td></tr>\n",
       "\t<tr><th scope=row>0:100073</th><td>-0.0015</td><td> 0.0039</td><td>-0.0067</td><td> 0.0023</td><td>-0.0039</td><td>Control</td></tr>\n",
       "\t<tr><th scope=row>0:100085</th><td> 0.0189</td><td> 0.0229</td><td>-0.0098</td><td>-0.0070</td><td> 0.0113</td><td>Case   </td></tr>\n",
       "\t<tr><th scope=row>0:100087</th><td> 0.0380</td><td>-0.0493</td><td> 0.0203</td><td> 0.0202</td><td> 0.0282</td><td>Control</td></tr>\n",
       "\t<tr><th scope=row>0:100101</th><td> 0.0082</td><td>-0.0095</td><td>-0.0103</td><td> 0.0169</td><td>-0.0096</td><td>Control</td></tr>\n",
       "\t<tr><th scope=row>0:100119</th><td>-0.0496</td><td> 0.0764</td><td>-0.0136</td><td> 0.0073</td><td> 0.0034</td><td>Case   </td></tr>\n",
       "\t<tr><th scope=row>0:100127</th><td>-0.0113</td><td> 0.0100</td><td>-0.0216</td><td>-0.0244</td><td>-0.0210</td><td>Control</td></tr>\n",
       "\t<tr><th scope=row>0:100129</th><td>-0.0236</td><td>-0.0378</td><td> 0.0456</td><td> 0.0093</td><td> 0.0577</td><td>Case   </td></tr>\n",
       "\t<tr><th scope=row>0:100142</th><td> 0.0054</td><td>-0.0136</td><td> 0.0029</td><td> 0.0027</td><td>-0.0275</td><td>Control</td></tr>\n",
       "\t<tr><th scope=row>0:100184</th><td> 0.0057</td><td>-0.0033</td><td>-0.0168</td><td>-0.0038</td><td>-0.0094</td><td>Case   </td></tr>\n",
       "\t<tr><th scope=row>0:100186</th><td>-0.0640</td><td>-0.0377</td><td> 0.0293</td><td> 0.0029</td><td> 0.0520</td><td>Control</td></tr>\n",
       "\t<tr><th scope=row>0:100195</th><td> 0.0115</td><td> 0.0025</td><td> 0.0085</td><td> 0.0148</td><td>-0.0348</td><td>Control</td></tr>\n",
       "\t<tr><th scope=row>0:100230</th><td>-0.0012</td><td> 0.0533</td><td> 0.0169</td><td>-0.0585</td><td> 0.1146</td><td>Case   </td></tr>\n",
       "\t<tr><th scope=row>0:100231</th><td>-0.0045</td><td>-0.0092</td><td> 0.0078</td><td>-0.0030</td><td>-0.0034</td><td>Control</td></tr>\n",
       "\t<tr><th scope=row>0:100242</th><td>-0.0472</td><td>-0.0186</td><td> 0.0044</td><td>-0.0386</td><td>-0.0273</td><td>Control</td></tr>\n",
       "\t<tr><th scope=row>0:100243</th><td> 0.0030</td><td>-0.0142</td><td> 0.0177</td><td>-0.0065</td><td>-0.0326</td><td>Case   </td></tr>\n",
       "\t<tr><th scope=row>0:100245</th><td> 0.0079</td><td>-0.0144</td><td> 0.0218</td><td> 0.0313</td><td> 0.0348</td><td>Case   </td></tr>\n",
       "\t<tr><th scope=row>0:100252</th><td>-0.0008</td><td> 0.0045</td><td> 0.0144</td><td> 0.0077</td><td> 0.0075</td><td>Control</td></tr>\n",
       "\t<tr><th scope=row>0:100276</th><td>-0.0208</td><td> 0.0226</td><td> 0.0052</td><td>-0.0546</td><td> 0.0342</td><td>Case   </td></tr>\n",
       "\t<tr><th scope=row>0:100286</th><td> 0.0227</td><td> 0.0396</td><td> 0.0032</td><td> 0.0613</td><td> 0.0622</td><td>Control</td></tr>\n",
       "\t<tr><th scope=row>0:100290</th><td>-0.0173</td><td> 0.0233</td><td>-0.0107</td><td> 0.0028</td><td> 0.0049</td><td>Control</td></tr>\n",
       "\t<tr><th scope=row>0:100308</th><td>-0.0314</td><td>-0.0030</td><td> 0.0327</td><td> 0.0257</td><td> 0.0209</td><td>Control</td></tr>\n",
       "\t<tr><th scope=row>0:100322</th><td>-0.0255</td><td>-0.0318</td><td> 0.0345</td><td>-0.0269</td><td> 0.0205</td><td>Control</td></tr>\n",
       "\t<tr><th scope=row>0:100350</th><td>-0.0977</td><td>-0.0151</td><td>-0.0280</td><td>-0.0503</td><td> 0.1223</td><td>Control</td></tr>\n",
       "\t<tr><th scope=row>0:100355</th><td> 0.0033</td><td> 0.0165</td><td>-0.0200</td><td> 0.0008</td><td> 0.0015</td><td>Case   </td></tr>\n",
       "\t<tr><th scope=row>0:100361</th><td> 0.0019</td><td> 0.0089</td><td>-0.0034</td><td>-0.0095</td><td> 0.0190</td><td>Control</td></tr>\n",
       "\t<tr><th scope=row>...</th><td>...</td><td>...</td><td>...</td><td>...</td><td>...</td><td>...</td></tr>\n",
       "\t<tr><th scope=row>0:109319</th><td>-0.0018</td><td>-0.0274</td><td> 0.0312</td><td> 0.0059</td><td>-0.0284</td><td>Case   </td></tr>\n",
       "\t<tr><th scope=row>0:109320</th><td>-0.0779</td><td>-0.0044</td><td>-0.0217</td><td>-0.0490</td><td>-0.0083</td><td>Control</td></tr>\n",
       "\t<tr><th scope=row>0:109325</th><td>-0.0250</td><td>-0.0067</td><td> 0.0398</td><td> 0.0183</td><td> 0.0432</td><td>Control</td></tr>\n",
       "\t<tr><th scope=row>0:109338</th><td> 0.0033</td><td> 0.0013</td><td>-0.0091</td><td>-0.0092</td><td> 0.0008</td><td>Control</td></tr>\n",
       "\t<tr><th scope=row>0:109353</th><td> 0.0066</td><td>-0.0006</td><td>-0.0103</td><td>-0.0208</td><td>-0.0183</td><td>Case   </td></tr>\n",
       "\t<tr><th scope=row>0:109367</th><td>-0.0067</td><td> 0.1646</td><td>-0.1605</td><td> 0.2002</td><td> 0.0516</td><td>Case   </td></tr>\n",
       "\t<tr><th scope=row>0:109386</th><td>-0.0524</td><td> 0.0643</td><td>-0.0057</td><td>-0.0608</td><td> 0.0125</td><td>Control</td></tr>\n",
       "\t<tr><th scope=row>0:109400</th><td> 0.0062</td><td> 0.0024</td><td> 0.0102</td><td> 0.0023</td><td> 0.0200</td><td>Control</td></tr>\n",
       "\t<tr><th scope=row>0:109417</th><td>-0.0403</td><td>-0.0251</td><td> 0.0331</td><td> 0.0051</td><td>-0.0167</td><td>Case   </td></tr>\n",
       "\t<tr><th scope=row>0:109512</th><td>-0.0158</td><td> 0.0105</td><td>-0.0568</td><td> 0.0164</td><td> 0.0113</td><td>Case   </td></tr>\n",
       "\t<tr><th scope=row>0:109515</th><td> 0.0367</td><td>-0.0194</td><td> 0.0089</td><td> 0.0263</td><td>-0.0038</td><td>Case   </td></tr>\n",
       "\t<tr><th scope=row>0:109529</th><td>-0.0248</td><td>-0.0348</td><td> 0.0406</td><td>-0.0056</td><td>-0.0001</td><td>Case   </td></tr>\n",
       "\t<tr><th scope=row>0:109548</th><td>-0.0035</td><td> 0.0188</td><td>-0.0188</td><td> 0.0038</td><td>-0.0179</td><td>Control</td></tr>\n",
       "\t<tr><th scope=row>0:109556</th><td>-0.0252</td><td> 0.0115</td><td>-0.0176</td><td>-0.0082</td><td>-0.0028</td><td>Control</td></tr>\n",
       "\t<tr><th scope=row>0:109567</th><td> 0.2742</td><td> 0.0289</td><td>-0.1508</td><td>-0.0037</td><td>-0.1171</td><td>Case   </td></tr>\n",
       "\t<tr><th scope=row>0:109589</th><td> 0.0123</td><td> 0.0184</td><td>-0.0100</td><td>-0.0075</td><td> 0.0055</td><td>Case   </td></tr>\n",
       "\t<tr><th scope=row>0:109607</th><td>-0.0060</td><td>-0.0175</td><td>-0.0007</td><td>-0.0157</td><td>-0.0104</td><td>Case   </td></tr>\n",
       "\t<tr><th scope=row>0:109608</th><td> 0.0230</td><td>-0.0332</td><td> 0.0427</td><td> 0.0523</td><td> 0.0013</td><td>Control</td></tr>\n",
       "\t<tr><th scope=row>0:109626</th><td>-0.0259</td><td> 0.0913</td><td>-0.0594</td><td> 0.0051</td><td>-0.1424</td><td>Control</td></tr>\n",
       "\t<tr><th scope=row>0:109653</th><td>-0.0202</td><td> 0.0104</td><td>-0.0057</td><td> 0.0110</td><td>-0.0275</td><td>Control</td></tr>\n",
       "\t<tr><th scope=row>0:109674</th><td>-0.1658</td><td> 0.0075</td><td> 0.0985</td><td>-0.1287</td><td> 0.0729</td><td>Control</td></tr>\n",
       "\t<tr><th scope=row>0:109676</th><td> 0.0051</td><td>-0.0124</td><td>-0.0096</td><td>-0.0154</td><td>-0.0233</td><td>Control</td></tr>\n",
       "\t<tr><th scope=row>0:109724</th><td> 0.0123</td><td>-0.0019</td><td> 0.0074</td><td>-0.0339</td><td>-0.0192</td><td>Control</td></tr>\n",
       "\t<tr><th scope=row>0:109802</th><td> 0.0244</td><td>-0.0138</td><td>-0.0042</td><td>-0.0079</td><td> 0.0109</td><td>Control</td></tr>\n",
       "\t<tr><th scope=row>0:109904</th><td>-0.0002</td><td> 0.0137</td><td>-0.0227</td><td>-0.0120</td><td>-0.0189</td><td>Control</td></tr>\n",
       "\t<tr><th scope=row>0:109907</th><td> 0.0010</td><td>-0.0218</td><td> 0.0011</td><td>-0.0248</td><td> 0.0003</td><td>Case   </td></tr>\n",
       "\t<tr><th scope=row>0:109911</th><td> 0.0083</td><td> 0.0304</td><td> 0.0014</td><td> 0.0105</td><td> 0.0434</td><td>Control</td></tr>\n",
       "\t<tr><th scope=row>0:109933</th><td>-0.0079</td><td> 0.0099</td><td> 0.0083</td><td>-0.0006</td><td> 0.0078</td><td>Control</td></tr>\n",
       "\t<tr><th scope=row>0:109935</th><td> 0.0015</td><td>-0.0156</td><td>-0.0197</td><td>-0.0315</td><td> 0.0034</td><td>Case   </td></tr>\n",
       "\t<tr><th scope=row>0:109995</th><td> 0.0098</td><td>-0.0067</td><td> 0.0085</td><td> 0.0269</td><td> 0.0025</td><td>Case   </td></tr>\n",
       "</tbody>\n",
       "</table>\n"
      ],
      "text/latex": [
       "\\begin{tabular}{r|llllll}\n",
       "  & V7 & V8 & V9 & V10 & V11 & V12\\\\\n",
       "\\hline\n",
       "\t0:100002 & -0.0102 &  0.0065 & -0.0076 & -0.0066 & -0.0299 & Control\\\\\n",
       "\t0:100008 & -0.0542 &  0.0708 & -0.0063 & -0.0151 &  0.0142 & Case   \\\\\n",
       "\t0:100027 &  0.0089 & -0.0253 & -0.0227 &  0.0215 & -0.0033 & Case   \\\\\n",
       "\t0:100063 & -0.0087 &  0.0040 &  0.0052 & -0.0025 & -0.0065 & Case   \\\\\n",
       "\t0:100070 &  0.0065 & -0.0058 & -0.0005 & -0.0162 & -0.0414 & Control\\\\\n",
       "\t0:100073 & -0.0015 &  0.0039 & -0.0067 &  0.0023 & -0.0039 & Control\\\\\n",
       "\t0:100085 &  0.0189 &  0.0229 & -0.0098 & -0.0070 &  0.0113 & Case   \\\\\n",
       "\t0:100087 &  0.0380 & -0.0493 &  0.0203 &  0.0202 &  0.0282 & Control\\\\\n",
       "\t0:100101 &  0.0082 & -0.0095 & -0.0103 &  0.0169 & -0.0096 & Control\\\\\n",
       "\t0:100119 & -0.0496 &  0.0764 & -0.0136 &  0.0073 &  0.0034 & Case   \\\\\n",
       "\t0:100127 & -0.0113 &  0.0100 & -0.0216 & -0.0244 & -0.0210 & Control\\\\\n",
       "\t0:100129 & -0.0236 & -0.0378 &  0.0456 &  0.0093 &  0.0577 & Case   \\\\\n",
       "\t0:100142 &  0.0054 & -0.0136 &  0.0029 &  0.0027 & -0.0275 & Control\\\\\n",
       "\t0:100184 &  0.0057 & -0.0033 & -0.0168 & -0.0038 & -0.0094 & Case   \\\\\n",
       "\t0:100186 & -0.0640 & -0.0377 &  0.0293 &  0.0029 &  0.0520 & Control\\\\\n",
       "\t0:100195 &  0.0115 &  0.0025 &  0.0085 &  0.0148 & -0.0348 & Control\\\\\n",
       "\t0:100230 & -0.0012 &  0.0533 &  0.0169 & -0.0585 &  0.1146 & Case   \\\\\n",
       "\t0:100231 & -0.0045 & -0.0092 &  0.0078 & -0.0030 & -0.0034 & Control\\\\\n",
       "\t0:100242 & -0.0472 & -0.0186 &  0.0044 & -0.0386 & -0.0273 & Control\\\\\n",
       "\t0:100243 &  0.0030 & -0.0142 &  0.0177 & -0.0065 & -0.0326 & Case   \\\\\n",
       "\t0:100245 &  0.0079 & -0.0144 &  0.0218 &  0.0313 &  0.0348 & Case   \\\\\n",
       "\t0:100252 & -0.0008 &  0.0045 &  0.0144 &  0.0077 &  0.0075 & Control\\\\\n",
       "\t0:100276 & -0.0208 &  0.0226 &  0.0052 & -0.0546 &  0.0342 & Case   \\\\\n",
       "\t0:100286 &  0.0227 &  0.0396 &  0.0032 &  0.0613 &  0.0622 & Control\\\\\n",
       "\t0:100290 & -0.0173 &  0.0233 & -0.0107 &  0.0028 &  0.0049 & Control\\\\\n",
       "\t0:100308 & -0.0314 & -0.0030 &  0.0327 &  0.0257 &  0.0209 & Control\\\\\n",
       "\t0:100322 & -0.0255 & -0.0318 &  0.0345 & -0.0269 &  0.0205 & Control\\\\\n",
       "\t0:100350 & -0.0977 & -0.0151 & -0.0280 & -0.0503 &  0.1223 & Control\\\\\n",
       "\t0:100355 &  0.0033 &  0.0165 & -0.0200 &  0.0008 &  0.0015 & Case   \\\\\n",
       "\t0:100361 &  0.0019 &  0.0089 & -0.0034 & -0.0095 &  0.0190 & Control\\\\\n",
       "\t... & ... & ... & ... & ... & ... & ...\\\\\n",
       "\t0:109319 & -0.0018 & -0.0274 &  0.0312 &  0.0059 & -0.0284 & Case   \\\\\n",
       "\t0:109320 & -0.0779 & -0.0044 & -0.0217 & -0.0490 & -0.0083 & Control\\\\\n",
       "\t0:109325 & -0.0250 & -0.0067 &  0.0398 &  0.0183 &  0.0432 & Control\\\\\n",
       "\t0:109338 &  0.0033 &  0.0013 & -0.0091 & -0.0092 &  0.0008 & Control\\\\\n",
       "\t0:109353 &  0.0066 & -0.0006 & -0.0103 & -0.0208 & -0.0183 & Case   \\\\\n",
       "\t0:109367 & -0.0067 &  0.1646 & -0.1605 &  0.2002 &  0.0516 & Case   \\\\\n",
       "\t0:109386 & -0.0524 &  0.0643 & -0.0057 & -0.0608 &  0.0125 & Control\\\\\n",
       "\t0:109400 &  0.0062 &  0.0024 &  0.0102 &  0.0023 &  0.0200 & Control\\\\\n",
       "\t0:109417 & -0.0403 & -0.0251 &  0.0331 &  0.0051 & -0.0167 & Case   \\\\\n",
       "\t0:109512 & -0.0158 &  0.0105 & -0.0568 &  0.0164 &  0.0113 & Case   \\\\\n",
       "\t0:109515 &  0.0367 & -0.0194 &  0.0089 &  0.0263 & -0.0038 & Case   \\\\\n",
       "\t0:109529 & -0.0248 & -0.0348 &  0.0406 & -0.0056 & -0.0001 & Case   \\\\\n",
       "\t0:109548 & -0.0035 &  0.0188 & -0.0188 &  0.0038 & -0.0179 & Control\\\\\n",
       "\t0:109556 & -0.0252 &  0.0115 & -0.0176 & -0.0082 & -0.0028 & Control\\\\\n",
       "\t0:109567 &  0.2742 &  0.0289 & -0.1508 & -0.0037 & -0.1171 & Case   \\\\\n",
       "\t0:109589 &  0.0123 &  0.0184 & -0.0100 & -0.0075 &  0.0055 & Case   \\\\\n",
       "\t0:109607 & -0.0060 & -0.0175 & -0.0007 & -0.0157 & -0.0104 & Case   \\\\\n",
       "\t0:109608 &  0.0230 & -0.0332 &  0.0427 &  0.0523 &  0.0013 & Control\\\\\n",
       "\t0:109626 & -0.0259 &  0.0913 & -0.0594 &  0.0051 & -0.1424 & Control\\\\\n",
       "\t0:109653 & -0.0202 &  0.0104 & -0.0057 &  0.0110 & -0.0275 & Control\\\\\n",
       "\t0:109674 & -0.1658 &  0.0075 &  0.0985 & -0.1287 &  0.0729 & Control\\\\\n",
       "\t0:109676 &  0.0051 & -0.0124 & -0.0096 & -0.0154 & -0.0233 & Control\\\\\n",
       "\t0:109724 &  0.0123 & -0.0019 &  0.0074 & -0.0339 & -0.0192 & Control\\\\\n",
       "\t0:109802 &  0.0244 & -0.0138 & -0.0042 & -0.0079 &  0.0109 & Control\\\\\n",
       "\t0:109904 & -0.0002 &  0.0137 & -0.0227 & -0.0120 & -0.0189 & Control\\\\\n",
       "\t0:109907 &  0.0010 & -0.0218 &  0.0011 & -0.0248 &  0.0003 & Case   \\\\\n",
       "\t0:109911 &  0.0083 &  0.0304 &  0.0014 &  0.0105 &  0.0434 & Control\\\\\n",
       "\t0:109933 & -0.0079 &  0.0099 &  0.0083 & -0.0006 &  0.0078 & Control\\\\\n",
       "\t0:109935 &  0.0015 & -0.0156 & -0.0197 & -0.0315 &  0.0034 & Case   \\\\\n",
       "\t0:109995 &  0.0098 & -0.0067 &  0.0085 &  0.0269 &  0.0025 & Case   \\\\\n",
       "\\end{tabular}\n"
      ],
      "text/markdown": [
       "\n",
       "| <!--/--> | V7 | V8 | V9 | V10 | V11 | V12 | \n",
       "|---|---|---|---|---|---|---|---|---|---|---|---|---|---|---|---|---|---|---|---|---|---|---|---|---|---|---|---|---|---|---|---|---|---|---|---|---|---|---|---|---|---|---|---|---|---|---|---|---|---|---|---|---|---|---|---|---|---|---|---|---|\n",
       "| 0:100002 | -0.0102 |  0.0065 | -0.0076 | -0.0066 | -0.0299 | Control | \n",
       "| 0:100008 | -0.0542 |  0.0708 | -0.0063 | -0.0151 |  0.0142 | Case    | \n",
       "| 0:100027 |  0.0089 | -0.0253 | -0.0227 |  0.0215 | -0.0033 | Case    | \n",
       "| 0:100063 | -0.0087 |  0.0040 |  0.0052 | -0.0025 | -0.0065 | Case    | \n",
       "| 0:100070 |  0.0065 | -0.0058 | -0.0005 | -0.0162 | -0.0414 | Control | \n",
       "| 0:100073 | -0.0015 |  0.0039 | -0.0067 |  0.0023 | -0.0039 | Control | \n",
       "| 0:100085 |  0.0189 |  0.0229 | -0.0098 | -0.0070 |  0.0113 | Case    | \n",
       "| 0:100087 |  0.0380 | -0.0493 |  0.0203 |  0.0202 |  0.0282 | Control | \n",
       "| 0:100101 |  0.0082 | -0.0095 | -0.0103 |  0.0169 | -0.0096 | Control | \n",
       "| 0:100119 | -0.0496 |  0.0764 | -0.0136 |  0.0073 |  0.0034 | Case    | \n",
       "| 0:100127 | -0.0113 |  0.0100 | -0.0216 | -0.0244 | -0.0210 | Control | \n",
       "| 0:100129 | -0.0236 | -0.0378 |  0.0456 |  0.0093 |  0.0577 | Case    | \n",
       "| 0:100142 |  0.0054 | -0.0136 |  0.0029 |  0.0027 | -0.0275 | Control | \n",
       "| 0:100184 |  0.0057 | -0.0033 | -0.0168 | -0.0038 | -0.0094 | Case    | \n",
       "| 0:100186 | -0.0640 | -0.0377 |  0.0293 |  0.0029 |  0.0520 | Control | \n",
       "| 0:100195 |  0.0115 |  0.0025 |  0.0085 |  0.0148 | -0.0348 | Control | \n",
       "| 0:100230 | -0.0012 |  0.0533 |  0.0169 | -0.0585 |  0.1146 | Case    | \n",
       "| 0:100231 | -0.0045 | -0.0092 |  0.0078 | -0.0030 | -0.0034 | Control | \n",
       "| 0:100242 | -0.0472 | -0.0186 |  0.0044 | -0.0386 | -0.0273 | Control | \n",
       "| 0:100243 |  0.0030 | -0.0142 |  0.0177 | -0.0065 | -0.0326 | Case    | \n",
       "| 0:100245 |  0.0079 | -0.0144 |  0.0218 |  0.0313 |  0.0348 | Case    | \n",
       "| 0:100252 | -0.0008 |  0.0045 |  0.0144 |  0.0077 |  0.0075 | Control | \n",
       "| 0:100276 | -0.0208 |  0.0226 |  0.0052 | -0.0546 |  0.0342 | Case    | \n",
       "| 0:100286 |  0.0227 |  0.0396 |  0.0032 |  0.0613 |  0.0622 | Control | \n",
       "| 0:100290 | -0.0173 |  0.0233 | -0.0107 |  0.0028 |  0.0049 | Control | \n",
       "| 0:100308 | -0.0314 | -0.0030 |  0.0327 |  0.0257 |  0.0209 | Control | \n",
       "| 0:100322 | -0.0255 | -0.0318 |  0.0345 | -0.0269 |  0.0205 | Control | \n",
       "| 0:100350 | -0.0977 | -0.0151 | -0.0280 | -0.0503 |  0.1223 | Control | \n",
       "| 0:100355 |  0.0033 |  0.0165 | -0.0200 |  0.0008 |  0.0015 | Case    | \n",
       "| 0:100361 |  0.0019 |  0.0089 | -0.0034 | -0.0095 |  0.0190 | Control | \n",
       "| ... | ... | ... | ... | ... | ... | ... | \n",
       "| 0:109319 | -0.0018 | -0.0274 |  0.0312 |  0.0059 | -0.0284 | Case    | \n",
       "| 0:109320 | -0.0779 | -0.0044 | -0.0217 | -0.0490 | -0.0083 | Control | \n",
       "| 0:109325 | -0.0250 | -0.0067 |  0.0398 |  0.0183 |  0.0432 | Control | \n",
       "| 0:109338 |  0.0033 |  0.0013 | -0.0091 | -0.0092 |  0.0008 | Control | \n",
       "| 0:109353 |  0.0066 | -0.0006 | -0.0103 | -0.0208 | -0.0183 | Case    | \n",
       "| 0:109367 | -0.0067 |  0.1646 | -0.1605 |  0.2002 |  0.0516 | Case    | \n",
       "| 0:109386 | -0.0524 |  0.0643 | -0.0057 | -0.0608 |  0.0125 | Control | \n",
       "| 0:109400 |  0.0062 |  0.0024 |  0.0102 |  0.0023 |  0.0200 | Control | \n",
       "| 0:109417 | -0.0403 | -0.0251 |  0.0331 |  0.0051 | -0.0167 | Case    | \n",
       "| 0:109512 | -0.0158 |  0.0105 | -0.0568 |  0.0164 |  0.0113 | Case    | \n",
       "| 0:109515 |  0.0367 | -0.0194 |  0.0089 |  0.0263 | -0.0038 | Case    | \n",
       "| 0:109529 | -0.0248 | -0.0348 |  0.0406 | -0.0056 | -0.0001 | Case    | \n",
       "| 0:109548 | -0.0035 |  0.0188 | -0.0188 |  0.0038 | -0.0179 | Control | \n",
       "| 0:109556 | -0.0252 |  0.0115 | -0.0176 | -0.0082 | -0.0028 | Control | \n",
       "| 0:109567 |  0.2742 |  0.0289 | -0.1508 | -0.0037 | -0.1171 | Case    | \n",
       "| 0:109589 |  0.0123 |  0.0184 | -0.0100 | -0.0075 |  0.0055 | Case    | \n",
       "| 0:109607 | -0.0060 | -0.0175 | -0.0007 | -0.0157 | -0.0104 | Case    | \n",
       "| 0:109608 |  0.0230 | -0.0332 |  0.0427 |  0.0523 |  0.0013 | Control | \n",
       "| 0:109626 | -0.0259 |  0.0913 | -0.0594 |  0.0051 | -0.1424 | Control | \n",
       "| 0:109653 | -0.0202 |  0.0104 | -0.0057 |  0.0110 | -0.0275 | Control | \n",
       "| 0:109674 | -0.1658 |  0.0075 |  0.0985 | -0.1287 |  0.0729 | Control | \n",
       "| 0:109676 |  0.0051 | -0.0124 | -0.0096 | -0.0154 | -0.0233 | Control | \n",
       "| 0:109724 |  0.0123 | -0.0019 |  0.0074 | -0.0339 | -0.0192 | Control | \n",
       "| 0:109802 |  0.0244 | -0.0138 | -0.0042 | -0.0079 |  0.0109 | Control | \n",
       "| 0:109904 | -0.0002 |  0.0137 | -0.0227 | -0.0120 | -0.0189 | Control | \n",
       "| 0:109907 |  0.0010 | -0.0218 |  0.0011 | -0.0248 |  0.0003 | Case    | \n",
       "| 0:109911 |  0.0083 |  0.0304 |  0.0014 |  0.0105 |  0.0434 | Control | \n",
       "| 0:109933 | -0.0079 |  0.0099 |  0.0083 | -0.0006 |  0.0078 | Control | \n",
       "| 0:109935 |  0.0015 | -0.0156 | -0.0197 | -0.0315 |  0.0034 | Case    | \n",
       "| 0:109995 |  0.0098 | -0.0067 |  0.0085 |  0.0269 |  0.0025 | Case    | \n",
       "\n",
       "\n"
      ],
      "text/plain": [
       "         V7      V8      V9      V10     V11     V12    \n",
       "0:100002 -0.0102  0.0065 -0.0076 -0.0066 -0.0299 Control\n",
       "0:100008 -0.0542  0.0708 -0.0063 -0.0151  0.0142 Case   \n",
       "0:100027  0.0089 -0.0253 -0.0227  0.0215 -0.0033 Case   \n",
       "0:100063 -0.0087  0.0040  0.0052 -0.0025 -0.0065 Case   \n",
       "0:100070  0.0065 -0.0058 -0.0005 -0.0162 -0.0414 Control\n",
       "0:100073 -0.0015  0.0039 -0.0067  0.0023 -0.0039 Control\n",
       "0:100085  0.0189  0.0229 -0.0098 -0.0070  0.0113 Case   \n",
       "0:100087  0.0380 -0.0493  0.0203  0.0202  0.0282 Control\n",
       "0:100101  0.0082 -0.0095 -0.0103  0.0169 -0.0096 Control\n",
       "0:100119 -0.0496  0.0764 -0.0136  0.0073  0.0034 Case   \n",
       "0:100127 -0.0113  0.0100 -0.0216 -0.0244 -0.0210 Control\n",
       "0:100129 -0.0236 -0.0378  0.0456  0.0093  0.0577 Case   \n",
       "0:100142  0.0054 -0.0136  0.0029  0.0027 -0.0275 Control\n",
       "0:100184  0.0057 -0.0033 -0.0168 -0.0038 -0.0094 Case   \n",
       "0:100186 -0.0640 -0.0377  0.0293  0.0029  0.0520 Control\n",
       "0:100195  0.0115  0.0025  0.0085  0.0148 -0.0348 Control\n",
       "0:100230 -0.0012  0.0533  0.0169 -0.0585  0.1146 Case   \n",
       "0:100231 -0.0045 -0.0092  0.0078 -0.0030 -0.0034 Control\n",
       "0:100242 -0.0472 -0.0186  0.0044 -0.0386 -0.0273 Control\n",
       "0:100243  0.0030 -0.0142  0.0177 -0.0065 -0.0326 Case   \n",
       "0:100245  0.0079 -0.0144  0.0218  0.0313  0.0348 Case   \n",
       "0:100252 -0.0008  0.0045  0.0144  0.0077  0.0075 Control\n",
       "0:100276 -0.0208  0.0226  0.0052 -0.0546  0.0342 Case   \n",
       "0:100286  0.0227  0.0396  0.0032  0.0613  0.0622 Control\n",
       "0:100290 -0.0173  0.0233 -0.0107  0.0028  0.0049 Control\n",
       "0:100308 -0.0314 -0.0030  0.0327  0.0257  0.0209 Control\n",
       "0:100322 -0.0255 -0.0318  0.0345 -0.0269  0.0205 Control\n",
       "0:100350 -0.0977 -0.0151 -0.0280 -0.0503  0.1223 Control\n",
       "0:100355  0.0033  0.0165 -0.0200  0.0008  0.0015 Case   \n",
       "0:100361  0.0019  0.0089 -0.0034 -0.0095  0.0190 Control\n",
       "...      ...     ...     ...     ...     ...     ...    \n",
       "0:109319 -0.0018 -0.0274  0.0312  0.0059 -0.0284 Case   \n",
       "0:109320 -0.0779 -0.0044 -0.0217 -0.0490 -0.0083 Control\n",
       "0:109325 -0.0250 -0.0067  0.0398  0.0183  0.0432 Control\n",
       "0:109338  0.0033  0.0013 -0.0091 -0.0092  0.0008 Control\n",
       "0:109353  0.0066 -0.0006 -0.0103 -0.0208 -0.0183 Case   \n",
       "0:109367 -0.0067  0.1646 -0.1605  0.2002  0.0516 Case   \n",
       "0:109386 -0.0524  0.0643 -0.0057 -0.0608  0.0125 Control\n",
       "0:109400  0.0062  0.0024  0.0102  0.0023  0.0200 Control\n",
       "0:109417 -0.0403 -0.0251  0.0331  0.0051 -0.0167 Case   \n",
       "0:109512 -0.0158  0.0105 -0.0568  0.0164  0.0113 Case   \n",
       "0:109515  0.0367 -0.0194  0.0089  0.0263 -0.0038 Case   \n",
       "0:109529 -0.0248 -0.0348  0.0406 -0.0056 -0.0001 Case   \n",
       "0:109548 -0.0035  0.0188 -0.0188  0.0038 -0.0179 Control\n",
       "0:109556 -0.0252  0.0115 -0.0176 -0.0082 -0.0028 Control\n",
       "0:109567  0.2742  0.0289 -0.1508 -0.0037 -0.1171 Case   \n",
       "0:109589  0.0123  0.0184 -0.0100 -0.0075  0.0055 Case   \n",
       "0:109607 -0.0060 -0.0175 -0.0007 -0.0157 -0.0104 Case   \n",
       "0:109608  0.0230 -0.0332  0.0427  0.0523  0.0013 Control\n",
       "0:109626 -0.0259  0.0913 -0.0594  0.0051 -0.1424 Control\n",
       "0:109653 -0.0202  0.0104 -0.0057  0.0110 -0.0275 Control\n",
       "0:109674 -0.1658  0.0075  0.0985 -0.1287  0.0729 Control\n",
       "0:109676  0.0051 -0.0124 -0.0096 -0.0154 -0.0233 Control\n",
       "0:109724  0.0123 -0.0019  0.0074 -0.0339 -0.0192 Control\n",
       "0:109802  0.0244 -0.0138 -0.0042 -0.0079  0.0109 Control\n",
       "0:109904 -0.0002  0.0137 -0.0227 -0.0120 -0.0189 Control\n",
       "0:109907  0.0010 -0.0218  0.0011 -0.0248  0.0003 Case   \n",
       "0:109911  0.0083  0.0304  0.0014  0.0105  0.0434 Control\n",
       "0:109933 -0.0079  0.0099  0.0083 -0.0006  0.0078 Control\n",
       "0:109935  0.0015 -0.0156 -0.0197 -0.0315  0.0034 Case   \n",
       "0:109995  0.0098 -0.0067  0.0085  0.0269  0.0025 Case   "
      ]
     },
     "metadata": {},
     "output_type": "display_data"
    }
   ],
   "source": [
    "### R console ###\n",
    "# Load PCA data\n",
    "setwd(\"C:/Users/jmarks/Desktop/Projects/Heroin/ngc/kreek/eigenstrat/\")\n",
    "options(stringsAsFactors = F)\n",
    "ea.evec <- read.table(\"ea_ld_pruned.pca.evec\", comment.char=\"#\", sep=\"\", row.names=1)\n",
    "#ea.evec[,1:5]\n",
    "aa.evec <- read.table(\"aa_ld_pruned.pca.evec\", comment.char=\"#\", sep=\"\", row.names=1)\n",
    "aa.evec[,6:11]"
   ]
  },
  {
   "cell_type": "markdown",
   "metadata": {},
   "source": [
    "##### EA"
   ]
  },
  {
   "cell_type": "code",
   "execution_count": 10,
   "metadata": {},
   "outputs": [
    {
     "data": {
      "image/png": "[encoded data removed]",
      "text/plain": [
       "Plot with title \"Kreek EA\""
      ]
     },
     "metadata": {},
     "output_type": "display_data"
    },
    {
     "data": {
      "image/png": "[encoded data removed]",
      "text/plain": [
       "Plot with title \"Kreek EA\""
      ]
     },
     "metadata": {},
     "output_type": "display_data"
    }
   ],
   "source": [
    "### R console ###\n",
    "# Function for plotting off-diagonal scatterplots\n",
    "plot.offdiag <- function(x, y, colors=label.colors){\n",
    "    #Make x and y axes equal\n",
    "    limits <- c(min(x,y), max(x,y)) * 1.3\n",
    "    par(usr = c(limits, limits))\n",
    "    points(x,y, col=colors, pch=16)\n",
    "}\n",
    "\n",
    "# Function for plotting diagonal density plots\n",
    "plot.diag <- function(x, colors=label.colors){\n",
    "    d <- density(x, bw=0.01, kernel=\"gaussian\")\n",
    "    #Update plot axes limits\n",
    "    par(usr = c(range(d$x), range(d$y)*1.3))\n",
    "    points(d$x,d$y, type=\"l\")\n",
    "    #Add PC values\n",
    "    points(x=x, y=jitter(rep(mean(d$y),times=d$n),factor=5), col=label.colors, pch=16)\n",
    "}\n",
    "\n",
    "#Run PCA and get % variance\n",
    "ea.dspace <- ea.evec[1:10] #transformed dataspace\n",
    "\n",
    "#Color label samples\n",
    "sample.names <- ea.evec[,11]\n",
    "label.colors <- rep(NA, length(sample.names))\n",
    "label.colors[grepl(x=sample.names, pattern=\"Case\", ignore.case=T)] <- rgb(0,80,190,80, maxColorValue=255) #blue\n",
    "label.colors[grepl(x=sample.names, pattern=\"Control\", ignore.case=T)] <- rgb(200,0,0,80, maxColorValue=255) #red\n",
    "legend.cols <- c(rgb(0,80,190,255, maxColorValue=255), rgb(255,0,0,255, maxColorValue=255))\n",
    "\n",
    "###label.colors <- rgb(0,80,190,80, maxColorValue=255) #blue\n",
    "\n",
    "options(repr.plot.width=8, repr.plot.height=8)\n",
    "#Redefine outer margin\n",
    "par(oma = c(4, 1, 2, 1))\n",
    "par(oma = c(4, 1, 2, 1))\n",
    "pairs(x=ea.dspace[,1:5], panel=plot.offdiag, diag.panel=plot.diag, \n",
    "      labels=paste0(\"PC\",1:5), label.pos=0.9, cex.labels=1.8)\n",
    "par(fig=c(0, 1, 0, 1), oma=c(0, 0, 0, 0), mar=c(0, 0, 1.5, 0), new=TRUE)\n",
    "plot(0, 0, type = \"n\", bty = \"n\", xaxt = \"n\", yaxt = \"n\", main=\"Kreek EA\", cex.main=1)\n",
    "\n",
    "par(oma = c(4, 1, 2, 1))\n",
    "pairs(x=ea.dspace[,6:10], panel=plot.offdiag, diag.panel=plot.diag, \n",
    "      labels=paste0(\"PC\",6:10), label.pos=0.9, cex.labels=1.8)\n",
    "par(fig=c(0, 1, 0, 1), oma=c(0, 0, 0, 0), mar=c(0, 0, 1.5, 0), new=TRUE)\n",
    "plot(0, 0, type = \"n\", bty = \"n\", xaxt = \"n\", yaxt = \"n\", main=\"Kreek EA\", cex.main=1)\n",
    "legend(\"bottom\", c(\"Cases\", \"Controls\"), \n",
    "       pch=19, col=legend.cols,\n",
    "       xpd=TRUE, horiz=TRUE, inset=c(0,-0.02), \n",
    "       bty=\"n\", cex=1)\n",
    "\n",
    "\n",
    "#--------------------------------------------------------------------------------\n"
   ]
  },
  {
   "cell_type": "markdown",
   "metadata": {},
   "source": [
    "##### AA"
   ]
  },
  {
   "cell_type": "code",
   "execution_count": 11,
   "metadata": {},
   "outputs": [
    {
     "data": {
      "image/png": "[encoded data removed]",
      "text/plain": [
       "Plot with title \"Kreek AA\""
      ]
     },
     "metadata": {},
     "output_type": "display_data"
    },
    {
     "data": {
      "image/png": "[encoded data removed]",
      "text/plain": [
       "Plot with title \"Kreek AA\""
      ]
     },
     "metadata": {},
     "output_type": "display_data"
    }
   ],
   "source": [
    "### R console ###\n",
    "# Function for plotting off-diagonal scatterplots\n",
    "plot.offdiag <- function(x, y, colors=label.colors){\n",
    "    #Make x and y axes equal\n",
    "    limits <- c(min(x,y), max(x,y)) * 1.3\n",
    "    par(usr = c(limits, limits))\n",
    "    points(x,y, col=colors, pch=16)\n",
    "}\n",
    "\n",
    "# Function for plotting diagonal density plots\n",
    "plot.diag <- function(x, colors=label.colors){\n",
    "    d <- density(x, bw=0.01, kernel=\"gaussian\")\n",
    "    #Update plot axes limits\n",
    "    par(usr = c(range(d$x), range(d$y)*1.3))\n",
    "    points(d$x,d$y, type=\"l\")\n",
    "    #Add PC values\n",
    "    points(x=x, y=jitter(rep(mean(d$y),times=d$n),factor=5), col=label.colors, pch=16)\n",
    "}\n",
    "\n",
    "#Run PCA and get % variance\n",
    "aa.dspace <- aa.evec[1:10] #transformed dataspace\n",
    "\n",
    "#Color label samples\n",
    "sample.names <- aa.evec[,11]\n",
    "label.colors <- rep(NA, length(sample.names))\n",
    "label.colors[grepl(x=sample.names, pattern=\"Case\", ignore.case=T)] <- rgb(0,80,190,80, maxColorValue=255) #blue\n",
    "label.colors[grepl(x=sample.names, pattern=\"Control\", ignore.case=T)] <- rgb(200,0,0,80, maxColorValue=255) #red\n",
    "legend.cols <- c(rgb(0,80,190,255, maxColorValue=255), rgb(255,0,0,255, maxColorValue=255))\n",
    "\n",
    "###label.colors <- rgb(0,80,190,80, maxColorValue=255) #blue\n",
    "\n",
    "options(repr.plot.width=8, repr.plot.height=8)\n",
    "#Redefine outer margin\n",
    "par(oma = c(4, 1, 2, 1))\n",
    "par(oma = c(4, 1, 2, 1))\n",
    "pairs(x=aa.dspace[,1:5], panel=plot.offdiag, diag.panel=plot.diag, \n",
    "      labels=paste0(\"PC\",1:5), label.pos=0.9, cex.labels=1.8)\n",
    "par(fig=c(0, 1, 0, 1), oma=c(0, 0, 0, 0), mar=c(0, 0, 1.5, 0), new=TRUE)\n",
    "plot(0, 0, type = \"n\", bty = \"n\", xaxt = \"n\", yaxt = \"n\", main=\"Kreek AA\", cex.main=1)\n",
    "\n",
    "par(oma = c(4, 1, 2, 1))\n",
    "pairs(x=aa.dspace[,6:10], panel=plot.offdiag, diag.panel=plot.diag, \n",
    "      labels=paste0(\"PC\",6:10), label.pos=0.9, cex.labels=1.8)\n",
    "par(fig=c(0, 1, 0, 1), oma=c(0, 0, 0, 0), mar=c(0, 0, 1.5, 0), new=TRUE)\n",
    "plot(0, 0, type = \"n\", bty = \"n\", xaxt = \"n\", yaxt = \"n\", main=\"Kreek AA\", cex.main=1)\n",
    "legend(\"bottom\", c(\"Cases\", \"Controls\"), \n",
    "       pch=19, col=legend.cols,\n",
    "       xpd=TRUE, horiz=TRUE, inset=c(0,-0.02), \n",
    "       bty=\"n\", cex=1)\n",
    "\n",
    "\n",
    "#--------------------------------------------------------------------------------\n"
   ]
  },
  {
   "cell_type": "markdown",
   "metadata": {},
   "source": [
    "#### Extract Eigenvectors"
   ]
  },
  {
   "cell_type": "code",
   "execution_count": null,
   "metadata": {
    "collapsed": true
   },
   "outputs": [],
   "source": [
    "### EC2 console ###\n",
    "cd /shared/s3/ngc_vidus_oaall/eigenstrat/results\n",
    "\n",
    "# Grab top 10 eigenvectors from PCA \n",
    "for ancestry in {ea,aa};do\n",
    "    echo \"FID IID EV1 EV2 EV3 EV4 EV5 EV6 EV7 EV8 EV9 EV10\" > ${ancestry}_ld_pruned_top10_eigenvecs.txt\n",
    "    tail -n +2 ${ancestry}_ld_pruned.pca.evec | \\\n",
    "        perl -lne 's/:/ /; @F=split; print join(\" \",$F[0],$F[1],$F[2],$F[3],$F[4],$F[5],$F[6],$F[7],$F[8],$F[9],$F[10],$F[11]);' \\\n",
    "        >> ${ancestry}_ld_pruned_top10_eigenvecs.txt\n",
    "done"
   ]
  },
  {
   "cell_type": "markdown",
   "metadata": {},
   "source": [
    "### EA PC Selection\n",
    "Determine which PCs (eigenvectors) contribute the most influence and include them in the GWAS as covariates. Include the PCs which contribute to at least %75 of the variance.\n",
    "Make PED format phenotype and covariate file according to the NGC protocol.\n",
    "\n",
    "#### Create PED files\n",
    "The covariates we want to include in this baseline GWAS are age, sex, and some of the most influential PCs. Here we create the `phen` and `cov` PED files so that downstream processing will be easier. Specifically, creating the PED files will make it easier to select the PCs that explain  ∼75%  of the variance."
   ]
  },
  {
   "cell_type": "code",
   "execution_count": 53,
   "metadata": {},
   "outputs": [
    {
     "data": {
      "text/html": [
       "<table>\n",
       "<thead><tr><th scope=col>SUBJECT_ID</th><th scope=col>age</th><th scope=col>sex</th><th scope=col>opioid_dep</th></tr></thead>\n",
       "<tbody>\n",
       "\t<tr><td>100004</td><td>56    </td><td>2     </td><td>2     </td></tr>\n",
       "\t<tr><td>100006</td><td>22    </td><td>2     </td><td>2     </td></tr>\n",
       "\t<tr><td>100007</td><td>22    </td><td>1     </td><td>2     </td></tr>\n",
       "\t<tr><td>100025</td><td>46    </td><td>1     </td><td>2     </td></tr>\n",
       "\t<tr><td>100032</td><td>45    </td><td>1     </td><td>1     </td></tr>\n",
       "\t<tr><td>100033</td><td>45    </td><td>1     </td><td>2     </td></tr>\n",
       "</tbody>\n",
       "</table>\n"
      ],
      "text/latex": [
       "\\begin{tabular}{r|llll}\n",
       " SUBJECT\\_ID & age & sex & opioid\\_dep\\\\\n",
       "\\hline\n",
       "\t 100004 & 56     & 2      & 2     \\\\\n",
       "\t 100006 & 22     & 2      & 2     \\\\\n",
       "\t 100007 & 22     & 1      & 2     \\\\\n",
       "\t 100025 & 46     & 1      & 2     \\\\\n",
       "\t 100032 & 45     & 1      & 1     \\\\\n",
       "\t 100033 & 45     & 1      & 2     \\\\\n",
       "\\end{tabular}\n"
      ],
      "text/markdown": [
       "\n",
       "SUBJECT_ID | age | sex | opioid_dep | \n",
       "|---|---|---|---|---|---|\n",
       "| 100004 | 56     | 2      | 2      | \n",
       "| 100006 | 22     | 2      | 2      | \n",
       "| 100007 | 22     | 1      | 2      | \n",
       "| 100025 | 46     | 1      | 2      | \n",
       "| 100032 | 45     | 1      | 1      | \n",
       "| 100033 | 45     | 1      | 2      | \n",
       "\n",
       "\n"
      ],
      "text/plain": [
       "  SUBJECT_ID age sex opioid_dep\n",
       "1 100004     56  2   2         \n",
       "2 100006     22  2   2         \n",
       "3 100007     22  1   2         \n",
       "4 100025     46  1   2         \n",
       "5 100032     45  1   1         \n",
       "6 100033     45  1   2         "
      ]
     },
     "metadata": {},
     "output_type": "display_data"
    },
    {
     "data": {
      "text/html": [
       "<table>\n",
       "<thead><tr><th scope=col>fid</th><th scope=col>iid</th><th scope=col>patid</th><th scope=col>matid</th><th scope=col>sex</th><th scope=col>oaall</th></tr></thead>\n",
       "<tbody>\n",
       "\t<tr><td>0     </td><td>100004</td><td>NA    </td><td>NA    </td><td>2     </td><td>2     </td></tr>\n",
       "\t<tr><td>0     </td><td>100006</td><td>NA    </td><td>NA    </td><td>2     </td><td>2     </td></tr>\n",
       "\t<tr><td>0     </td><td>100007</td><td>NA    </td><td>NA    </td><td>1     </td><td>2     </td></tr>\n",
       "\t<tr><td>0     </td><td>100025</td><td>NA    </td><td>NA    </td><td>1     </td><td>2     </td></tr>\n",
       "\t<tr><td>0     </td><td>100032</td><td>NA    </td><td>NA    </td><td>1     </td><td>1     </td></tr>\n",
       "\t<tr><td>0     </td><td>100033</td><td>NA    </td><td>NA    </td><td>1     </td><td>2     </td></tr>\n",
       "</tbody>\n",
       "</table>\n"
      ],
      "text/latex": [
       "\\begin{tabular}{r|llllll}\n",
       " fid & iid & patid & matid & sex & oaall\\\\\n",
       "\\hline\n",
       "\t 0      & 100004 & NA     & NA     & 2      & 2     \\\\\n",
       "\t 0      & 100006 & NA     & NA     & 2      & 2     \\\\\n",
       "\t 0      & 100007 & NA     & NA     & 1      & 2     \\\\\n",
       "\t 0      & 100025 & NA     & NA     & 1      & 2     \\\\\n",
       "\t 0      & 100032 & NA     & NA     & 1      & 1     \\\\\n",
       "\t 0      & 100033 & NA     & NA     & 1      & 2     \\\\\n",
       "\\end{tabular}\n"
      ],
      "text/markdown": [
       "\n",
       "fid | iid | patid | matid | sex | oaall | \n",
       "|---|---|---|---|---|---|\n",
       "| 0      | 100004 | NA     | NA     | 2      | 2      | \n",
       "| 0      | 100006 | NA     | NA     | 2      | 2      | \n",
       "| 0      | 100007 | NA     | NA     | 1      | 2      | \n",
       "| 0      | 100025 | NA     | NA     | 1      | 2      | \n",
       "| 0      | 100032 | NA     | NA     | 1      | 1      | \n",
       "| 0      | 100033 | NA     | NA     | 1      | 2      | \n",
       "\n",
       "\n"
      ],
      "text/plain": [
       "  fid iid    patid matid sex oaall\n",
       "1 0   100004 NA    NA    2   2    \n",
       "2 0   100006 NA    NA    2   2    \n",
       "3 0   100007 NA    NA    1   2    \n",
       "4 0   100025 NA    NA    1   2    \n",
       "5 0   100032 NA    NA    1   1    \n",
       "6 0   100033 NA    NA    1   2    "
      ]
     },
     "metadata": {},
     "output_type": "display_data"
    },
    {
     "data": {
      "text/html": [
       "<table>\n",
       "<thead><tr><th scope=col>fid</th><th scope=col>iid</th><th scope=col>patid</th><th scope=col>matid</th><th scope=col>sex</th><th scope=col>age</th><th scope=col>PC1</th><th scope=col>PC2</th><th scope=col>PC3</th><th scope=col>PC4</th><th scope=col>PC5</th><th scope=col>PC6</th><th scope=col>PC7</th><th scope=col>PC8</th><th scope=col>PC9</th><th scope=col>PC10</th></tr></thead>\n",
       "<tbody>\n",
       "\t<tr><td>0      </td><td>100004 </td><td>NA     </td><td>NA     </td><td>2      </td><td>56     </td><td> 0.0047</td><td>-0.0015</td><td>-0.0179</td><td>-0.0152</td><td> 0.0089</td><td> 0.0023</td><td>-0.0160</td><td>-0.0168</td><td>-0.0062</td><td>-0.0003</td></tr>\n",
       "\t<tr><td>0      </td><td>100006 </td><td>NA     </td><td>NA     </td><td>2      </td><td>22     </td><td> 0.0289</td><td> 0.0071</td><td> 0.0016</td><td> 0.0023</td><td> 0.0039</td><td> 0.0028</td><td>-0.0077</td><td>-0.0016</td><td> 0.0042</td><td> 0.0014</td></tr>\n",
       "\t<tr><td>0      </td><td>100007 </td><td>NA     </td><td>NA     </td><td>1      </td><td>22     </td><td> 0.0334</td><td> 0.0013</td><td>-0.0087</td><td>-0.0030</td><td>-0.0048</td><td>-0.0061</td><td>-0.0017</td><td>-0.0205</td><td>-0.0172</td><td>-0.0002</td></tr>\n",
       "\t<tr><td>0      </td><td>100025 </td><td>NA     </td><td>NA     </td><td>1      </td><td>46     </td><td>-0.0015</td><td> 0.0056</td><td>-0.0075</td><td>-0.0447</td><td> 0.0142</td><td> 0.0079</td><td>-0.0121</td><td> 0.0024</td><td> 0.0132</td><td> 0.0148</td></tr>\n",
       "\t<tr><td>0      </td><td>100032 </td><td>NA     </td><td>NA     </td><td>1      </td><td>45     </td><td>-0.0760</td><td> 0.0158</td><td>-0.0029</td><td> 0.0079</td><td>-0.0013</td><td> 0.0142</td><td> 0.0210</td><td>-0.0068</td><td> 0.0191</td><td> 0.0105</td></tr>\n",
       "\t<tr><td>0      </td><td>100033 </td><td>NA     </td><td>NA     </td><td>1      </td><td>45     </td><td> 0.0207</td><td> 0.0091</td><td>-0.0081</td><td> 0.0066</td><td>-0.0060</td><td>-0.0016</td><td>-0.0111</td><td>-0.0054</td><td>-0.0027</td><td>-0.0012</td></tr>\n",
       "</tbody>\n",
       "</table>\n"
      ],
      "text/latex": [
       "\\begin{tabular}{r|llllllllllllllll}\n",
       " fid & iid & patid & matid & sex & age & PC1 & PC2 & PC3 & PC4 & PC5 & PC6 & PC7 & PC8 & PC9 & PC10\\\\\n",
       "\\hline\n",
       "\t 0       & 100004  & NA      & NA      & 2       & 56      &  0.0047 & -0.0015 & -0.0179 & -0.0152 &  0.0089 &  0.0023 & -0.0160 & -0.0168 & -0.0062 & -0.0003\\\\\n",
       "\t 0       & 100006  & NA      & NA      & 2       & 22      &  0.0289 &  0.0071 &  0.0016 &  0.0023 &  0.0039 &  0.0028 & -0.0077 & -0.0016 &  0.0042 &  0.0014\\\\\n",
       "\t 0       & 100007  & NA      & NA      & 1       & 22      &  0.0334 &  0.0013 & -0.0087 & -0.0030 & -0.0048 & -0.0061 & -0.0017 & -0.0205 & -0.0172 & -0.0002\\\\\n",
       "\t 0       & 100025  & NA      & NA      & 1       & 46      & -0.0015 &  0.0056 & -0.0075 & -0.0447 &  0.0142 &  0.0079 & -0.0121 &  0.0024 &  0.0132 &  0.0148\\\\\n",
       "\t 0       & 100032  & NA      & NA      & 1       & 45      & -0.0760 &  0.0158 & -0.0029 &  0.0079 & -0.0013 &  0.0142 &  0.0210 & -0.0068 &  0.0191 &  0.0105\\\\\n",
       "\t 0       & 100033  & NA      & NA      & 1       & 45      &  0.0207 &  0.0091 & -0.0081 &  0.0066 & -0.0060 & -0.0016 & -0.0111 & -0.0054 & -0.0027 & -0.0012\\\\\n",
       "\\end{tabular}\n"
      ],
      "text/markdown": [
       "\n",
       "fid | iid | patid | matid | sex | age | PC1 | PC2 | PC3 | PC4 | PC5 | PC6 | PC7 | PC8 | PC9 | PC10 | \n",
       "|---|---|---|---|---|---|\n",
       "| 0       | 100004  | NA      | NA      | 2       | 56      |  0.0047 | -0.0015 | -0.0179 | -0.0152 |  0.0089 |  0.0023 | -0.0160 | -0.0168 | -0.0062 | -0.0003 | \n",
       "| 0       | 100006  | NA      | NA      | 2       | 22      |  0.0289 |  0.0071 |  0.0016 |  0.0023 |  0.0039 |  0.0028 | -0.0077 | -0.0016 |  0.0042 |  0.0014 | \n",
       "| 0       | 100007  | NA      | NA      | 1       | 22      |  0.0334 |  0.0013 | -0.0087 | -0.0030 | -0.0048 | -0.0061 | -0.0017 | -0.0205 | -0.0172 | -0.0002 | \n",
       "| 0       | 100025  | NA      | NA      | 1       | 46      | -0.0015 |  0.0056 | -0.0075 | -0.0447 |  0.0142 |  0.0079 | -0.0121 |  0.0024 |  0.0132 |  0.0148 | \n",
       "| 0       | 100032  | NA      | NA      | 1       | 45      | -0.0760 |  0.0158 | -0.0029 |  0.0079 | -0.0013 |  0.0142 |  0.0210 | -0.0068 |  0.0191 |  0.0105 | \n",
       "| 0       | 100033  | NA      | NA      | 1       | 45      |  0.0207 |  0.0091 | -0.0081 |  0.0066 | -0.0060 | -0.0016 | -0.0111 | -0.0054 | -0.0027 | -0.0012 | \n",
       "\n",
       "\n"
      ],
      "text/plain": [
       "  fid iid    patid matid sex age PC1     PC2     PC3     PC4     PC5    \n",
       "1 0   100004 NA    NA    2   56   0.0047 -0.0015 -0.0179 -0.0152  0.0089\n",
       "2 0   100006 NA    NA    2   22   0.0289  0.0071  0.0016  0.0023  0.0039\n",
       "3 0   100007 NA    NA    1   22   0.0334  0.0013 -0.0087 -0.0030 -0.0048\n",
       "4 0   100025 NA    NA    1   46  -0.0015  0.0056 -0.0075 -0.0447  0.0142\n",
       "5 0   100032 NA    NA    1   45  -0.0760  0.0158 -0.0029  0.0079 -0.0013\n",
       "6 0   100033 NA    NA    1   45   0.0207  0.0091 -0.0081  0.0066 -0.0060\n",
       "  PC6     PC7     PC8     PC9     PC10   \n",
       "1  0.0023 -0.0160 -0.0168 -0.0062 -0.0003\n",
       "2  0.0028 -0.0077 -0.0016  0.0042  0.0014\n",
       "3 -0.0061 -0.0017 -0.0205 -0.0172 -0.0002\n",
       "4  0.0079 -0.0121  0.0024  0.0132  0.0148\n",
       "5  0.0142  0.0210 -0.0068  0.0191  0.0105\n",
       "6 -0.0016 -0.0111 -0.0054 -0.0027 -0.0012"
      ]
     },
     "metadata": {},
     "output_type": "display_data"
    },
    {
     "data": {
      "text/html": [
       "624"
      ],
      "text/latex": [
       "624"
      ],
      "text/markdown": [
       "624"
      ],
      "text/plain": [
       "[1] 624"
      ]
     },
     "metadata": {},
     "output_type": "display_data"
    }
   ],
   "source": [
    "### R (local) ###\n",
    "\n",
    "## Phen file\n",
    "#------------------------------------------------------------------------------------------\n",
    "setwd(\"C:/Users/jmarks/Desktop/Projects/Heroin/ngc/kreek/phenotype/\")\n",
    "p.data <- \"ea.kreek.phenotype.table.ID+age+sex+opioid_dep.sex.case_control.mapped\"\n",
    "pheno.data.ea <- read.csv(p.data, sep = \" \", header = T, stringsAsFactors = F, \n",
    "                       colClasses=c(\"integer\", \"double\", \"integer\", \"integer\"))\n",
    "\n",
    "head(pheno.data.ea)\n",
    "pca.data.ea <- read.csv(\"../eigenstrat/ea_ld_pruned_top10_eigenvecs.txt\",\n",
    "                     sep = \" \" , header=T, colClasses=c(rep(\"character\",times=2), rep(\"double\",times = 10)))\n",
    "\n",
    "num.subjects.ea <- length(pca.data.ea[,1])\n",
    "\n",
    "ped.file.ea <- data.frame(matrix(ncol = 6, nrow = num.subjects.ea))\n",
    "colnames(ped.file.ea) <- c(\"fid\", \"iid\", \"patid\", \"matid\", \"sex\",  \"oaall\")\n",
    "ped.file.ea[,1] <- pca.data.ea[,1]\n",
    "ped.file.ea[,2] <- pca.data.ea[,2]\n",
    "\n",
    "# map loop (goal to fill in sex and oaall data on ped.file.ea from the pheno.data.ea)\n",
    "for (i in 1:num.subjects.ea){\n",
    "    # character string of the iid without quotations \n",
    "    key <- noquote(ped.file.ea[i,2])\n",
    "    \n",
    "    # match returns a vector of the positions of (first) matches of its first argument in its second. \n",
    "    my_match <- match(key, pheno.data.ea[,1])\n",
    "    \n",
    "    ped.file.ea[i,5] <- pheno.data.ea[my_match,3] # sex\n",
    "    ped.file.ea[i,6] <- pheno.data.ea[my_match,4] # oaall\n",
    "    \n",
    "} # end i loop\n",
    "\n",
    "head(ped.file.ea)\n",
    "write.table(ped.file.ea[,1:6], \"final/kreek_EUR_phen.ped\", sep = \"\\t\", row.names = F, quote=F)\n",
    "\n",
    "\n",
    "#----------------------------------------------------------------------------------------------------\n",
    "### Cov file\n",
    "\n",
    "# 10 PCs plus all of the covariates (exclude oaall data)\n",
    "col.names.ea <- c(\"fid\", \"iid\", \"patid\", \"matid\", \"sex\", \"age\",\n",
    "                  \"PC1\", \"PC2\",\"PC3\",\"PC4\",\"PC5\",\"PC6\",\"PC7\",\"PC8\",\"PC9\",\"PC10\")\n",
    "num.columns.ea <- length(col.names.ea)\n",
    "covar.data.ea <- data.frame(matrix(ncol = num.columns.ea, nrow = num.subjects.ea))\n",
    "names(covar.data.ea) <- col.names.ea\n",
    "\n",
    "num.covs.ea <- length(ped.file.ea) - 1\n",
    "covar.data.ea[,1:num.covs.ea] <- ped.file.ea[,1:num.covs.ea]\n",
    "covar.data.ea[,num.covs.ea+1] <- pheno.data.ea[,2] # age \n",
    "\n",
    "covar.data.ea[,(num.covs.ea+2):length(col.names.ea)] <- pca.data.ea[,3:length(pca.data.ea)]\n",
    "\n",
    "head(covar.data.ea)\n",
    "length(covar.data.ea[,1])\n",
    "\n",
    "write.table(covar.data.ea, \"final/kreek_EUR_cov.ped\", quote=FALSE, row.names = FALSE, sep = \"\\t\")"
   ]
  },
  {
   "cell_type": "code",
   "execution_count": 54,
   "metadata": {},
   "outputs": [
    {
     "data": {
      "text/html": [
       "<table>\n",
       "<thead><tr><th scope=col>iid</th><th scope=col>oaall</th><th scope=col>PC1</th><th scope=col>PC2</th><th scope=col>PC3</th><th scope=col>PC4</th><th scope=col>PC5</th><th scope=col>PC6</th><th scope=col>PC7</th><th scope=col>PC8</th><th scope=col>PC9</th><th scope=col>PC10</th></tr></thead>\n",
       "<tbody>\n",
       "\t<tr><td>100004 </td><td>2      </td><td> 0.0047</td><td>-0.0015</td><td>-0.0179</td><td>-0.0152</td><td> 0.0089</td><td> 0.0023</td><td>-0.0160</td><td>-0.0168</td><td>-0.0062</td><td>-0.0003</td></tr>\n",
       "\t<tr><td>100006 </td><td>2      </td><td> 0.0289</td><td> 0.0071</td><td> 0.0016</td><td> 0.0023</td><td> 0.0039</td><td> 0.0028</td><td>-0.0077</td><td>-0.0016</td><td> 0.0042</td><td> 0.0014</td></tr>\n",
       "\t<tr><td>100007 </td><td>2      </td><td> 0.0334</td><td> 0.0013</td><td>-0.0087</td><td>-0.0030</td><td>-0.0048</td><td>-0.0061</td><td>-0.0017</td><td>-0.0205</td><td>-0.0172</td><td>-0.0002</td></tr>\n",
       "\t<tr><td>100025 </td><td>2      </td><td>-0.0015</td><td> 0.0056</td><td>-0.0075</td><td>-0.0447</td><td> 0.0142</td><td> 0.0079</td><td>-0.0121</td><td> 0.0024</td><td> 0.0132</td><td> 0.0148</td></tr>\n",
       "\t<tr><td>100032 </td><td>1      </td><td>-0.0760</td><td> 0.0158</td><td>-0.0029</td><td> 0.0079</td><td>-0.0013</td><td> 0.0142</td><td> 0.0210</td><td>-0.0068</td><td> 0.0191</td><td> 0.0105</td></tr>\n",
       "\t<tr><td>100033 </td><td>2      </td><td> 0.0207</td><td> 0.0091</td><td>-0.0081</td><td> 0.0066</td><td>-0.0060</td><td>-0.0016</td><td>-0.0111</td><td>-0.0054</td><td>-0.0027</td><td>-0.0012</td></tr>\n",
       "</tbody>\n",
       "</table>\n"
      ],
      "text/latex": [
       "\\begin{tabular}{r|llllllllllll}\n",
       " iid & oaall & PC1 & PC2 & PC3 & PC4 & PC5 & PC6 & PC7 & PC8 & PC9 & PC10\\\\\n",
       "\\hline\n",
       "\t 100004  & 2       &  0.0047 & -0.0015 & -0.0179 & -0.0152 &  0.0089 &  0.0023 & -0.0160 & -0.0168 & -0.0062 & -0.0003\\\\\n",
       "\t 100006  & 2       &  0.0289 &  0.0071 &  0.0016 &  0.0023 &  0.0039 &  0.0028 & -0.0077 & -0.0016 &  0.0042 &  0.0014\\\\\n",
       "\t 100007  & 2       &  0.0334 &  0.0013 & -0.0087 & -0.0030 & -0.0048 & -0.0061 & -0.0017 & -0.0205 & -0.0172 & -0.0002\\\\\n",
       "\t 100025  & 2       & -0.0015 &  0.0056 & -0.0075 & -0.0447 &  0.0142 &  0.0079 & -0.0121 &  0.0024 &  0.0132 &  0.0148\\\\\n",
       "\t 100032  & 1       & -0.0760 &  0.0158 & -0.0029 &  0.0079 & -0.0013 &  0.0142 &  0.0210 & -0.0068 &  0.0191 &  0.0105\\\\\n",
       "\t 100033  & 2       &  0.0207 &  0.0091 & -0.0081 &  0.0066 & -0.0060 & -0.0016 & -0.0111 & -0.0054 & -0.0027 & -0.0012\\\\\n",
       "\\end{tabular}\n"
      ],
      "text/markdown": [
       "\n",
       "iid | oaall | PC1 | PC2 | PC3 | PC4 | PC5 | PC6 | PC7 | PC8 | PC9 | PC10 | \n",
       "|---|---|---|---|---|---|\n",
       "| 100004  | 2       |  0.0047 | -0.0015 | -0.0179 | -0.0152 |  0.0089 |  0.0023 | -0.0160 | -0.0168 | -0.0062 | -0.0003 | \n",
       "| 100006  | 2       |  0.0289 |  0.0071 |  0.0016 |  0.0023 |  0.0039 |  0.0028 | -0.0077 | -0.0016 |  0.0042 |  0.0014 | \n",
       "| 100007  | 2       |  0.0334 |  0.0013 | -0.0087 | -0.0030 | -0.0048 | -0.0061 | -0.0017 | -0.0205 | -0.0172 | -0.0002 | \n",
       "| 100025  | 2       | -0.0015 |  0.0056 | -0.0075 | -0.0447 |  0.0142 |  0.0079 | -0.0121 |  0.0024 |  0.0132 |  0.0148 | \n",
       "| 100032  | 1       | -0.0760 |  0.0158 | -0.0029 |  0.0079 | -0.0013 |  0.0142 |  0.0210 | -0.0068 |  0.0191 |  0.0105 | \n",
       "| 100033  | 2       |  0.0207 |  0.0091 | -0.0081 |  0.0066 | -0.0060 | -0.0016 | -0.0111 | -0.0054 | -0.0027 | -0.0012 | \n",
       "\n",
       "\n"
      ],
      "text/plain": [
       "  iid    oaall PC1     PC2     PC3     PC4     PC5     PC6     PC7     PC8    \n",
       "1 100004 2      0.0047 -0.0015 -0.0179 -0.0152  0.0089  0.0023 -0.0160 -0.0168\n",
       "2 100006 2      0.0289  0.0071  0.0016  0.0023  0.0039  0.0028 -0.0077 -0.0016\n",
       "3 100007 2      0.0334  0.0013 -0.0087 -0.0030 -0.0048 -0.0061 -0.0017 -0.0205\n",
       "4 100025 2     -0.0015  0.0056 -0.0075 -0.0447  0.0142  0.0079 -0.0121  0.0024\n",
       "5 100032 1     -0.0760  0.0158 -0.0029  0.0079 -0.0013  0.0142  0.0210 -0.0068\n",
       "6 100033 2      0.0207  0.0091 -0.0081  0.0066 -0.0060 -0.0016 -0.0111 -0.0054\n",
       "  PC9     PC10   \n",
       "1 -0.0062 -0.0003\n",
       "2  0.0042  0.0014\n",
       "3 -0.0172 -0.0002\n",
       "4  0.0132  0.0148\n",
       "5  0.0191  0.0105\n",
       "6 -0.0027 -0.0012"
      ]
     },
     "metadata": {},
     "output_type": "display_data"
    }
   ],
   "source": [
    "### R console ###\n",
    "# Load PCA data\n",
    "setwd('C:/Users/jmarks/Desktop/Projects/Heroin/ngc/kreek/phenotype/final/')\n",
    "options(stringsAsFactors=F)\n",
    "ea.cov.data <- read.delim(\"kreek_EUR_cov.ped\", header=T, sep=\"\\t\")\n",
    "ea.phen.data <- read.delim(\"kreek_EUR_phen.ped\", header=T, sep=\"\\t\")\n",
    "\n",
    "# Combine PCs and phenotype into one data frame\n",
    "phen.name <- \"oaall\"\n",
    "pc.names <- paste0(\"PC\", 1:10)\n",
    "ea.data <- merge(x=ea.phen.data[,c(\"iid\",phen.name)], y=ea.cov.data[, c(\"iid\", paste0(\"PC\",1:10))], by=\"iid\")\n",
    "head(ea.data)"
   ]
  },
  {
   "cell_type": "markdown",
   "metadata": {},
   "source": [
    "#### Regression analysis\n",
    "We use a regression model of the general structure:\n",
    "\n",
    "$$\\begin{align}\n",
    "\\text{FTND = PC1 + PC2 + ... + PC10}\n",
    "\\end{align}$$"
   ]
  },
  {
   "cell_type": "code",
   "execution_count": 55,
   "metadata": {},
   "outputs": [
    {
     "name": "stdout",
     "output_type": "stream",
     "text": [
      "MODEL FORMULA:\n",
      "\n",
      " oaall ~ PC1 + PC2 + PC3 + PC4 + PC5 + PC6 + PC7 + PC8 + PC9 + PC10 \n",
      "\n",
      "\n",
      "================ EA group ================"
     ]
    },
    {
     "data": {
      "text/plain": [
       "\n",
       "Call:\n",
       "lm(formula = as.formula(model.str), data = ea.data)\n",
       "\n",
       "Residuals:\n",
       "    Min      1Q  Median      3Q     Max \n",
       "-0.8174 -0.5694  0.2768  0.3087  0.6774 \n",
       "\n",
       "Coefficients:\n",
       "             Estimate Std. Error t value Pr(>|t|)    \n",
       "(Intercept)  1.653845   0.018565  89.082  < 2e-16 ***\n",
       "PC1          2.319669   0.463759   5.002 7.42e-07 ***\n",
       "PC2          0.005811   0.463737   0.013  0.99001    \n",
       "PC3          0.436285   0.463780   0.941  0.34722    \n",
       "PC4         -0.221120   0.463741  -0.477  0.63366    \n",
       "PC5          0.700825   0.463780   1.511  0.13127    \n",
       "PC6         -1.400750   0.463755  -3.020  0.00263 ** \n",
       "PC7          0.359996   0.463741   0.776  0.43788    \n",
       "PC8          0.880168   0.463763   1.898  0.05818 .  \n",
       "PC9          0.350988   0.463755   0.757  0.44944    \n",
       "PC10         0.536596   0.463743   1.157  0.24768    \n",
       "---\n",
       "Signif. codes:  0 '***' 0.001 '**' 0.01 '*' 0.05 '.' 0.1 ' ' 1\n",
       "\n",
       "Residual standard error: 0.4638 on 613 degrees of freedom\n",
       "Multiple R-squared:  0.06648,\tAdjusted R-squared:  0.05125 \n",
       "F-statistic: 4.366 on 10 and 613 DF,  p-value: 6.248e-06\n"
      ]
     },
     "metadata": {},
     "output_type": "display_data"
    },
    {
     "data": {
      "text/html": [
       "<table>\n",
       "<thead><tr><th></th><th scope=col>Df</th><th scope=col>Sum Sq</th><th scope=col>Mean Sq</th><th scope=col>F value</th><th scope=col>Pr(&gt;F)</th><th scope=col>PVE</th></tr></thead>\n",
       "<tbody>\n",
       "\t<tr><th scope=row>PC1</th><td>1           </td><td>5.381453e+00</td><td>5.381453e+00</td><td>2.502120e+01</td><td>7.415170e-07</td><td>57.31       </td></tr>\n",
       "\t<tr><th scope=row>PC6</th><td>1           </td><td>1.962147e+00</td><td>1.962147e+00</td><td>9.123053e+00</td><td>2.629166e-03</td><td>20.90       </td></tr>\n",
       "\t<tr><th scope=row>PC8</th><td>1           </td><td>7.746886e-01</td><td>7.746886e-01</td><td>3.601935e+00</td><td>5.818190e-02</td><td> 8.25       </td></tr>\n",
       "\t<tr><th scope=row>PC5</th><td>1           </td><td>4.911095e-01</td><td>4.911095e-01</td><td>2.283426e+00</td><td>1.312780e-01</td><td> 5.23       </td></tr>\n",
       "\t<tr><th scope=row>PC10</th><td>1           </td><td>2.879598e-01</td><td>2.879598e-01</td><td>1.338876e+00</td><td>2.476829e-01</td><td> 3.07       </td></tr>\n",
       "\t<tr><th scope=row>PC3</th><td>1           </td><td>1.903156e-01</td><td>1.903156e-01</td><td>8.848772e-01</td><td>3.472399e-01</td><td> 2.03       </td></tr>\n",
       "\t<tr><th scope=row>PC7</th><td>1           </td><td>1.295758e-01</td><td>1.295758e-01</td><td>6.024662e-01</td><td>4.379380e-01</td><td> 1.38       </td></tr>\n",
       "\t<tr><th scope=row>PC9</th><td>1           </td><td>1.231802e-01</td><td>1.231802e-01</td><td>5.727295e-01</td><td>4.494671e-01</td><td> 1.31       </td></tr>\n",
       "\t<tr><th scope=row>PC4</th><td>1           </td><td>4.890283e-02</td><td>4.890283e-02</td><td>2.273750e-01</td><td>6.336471e-01</td><td> 0.52       </td></tr>\n",
       "\t<tr><th scope=row>PC2</th><td>1           </td><td>3.401161e-05</td><td>3.401161e-05</td><td>1.581378e-04</td><td>9.899707e-01</td><td> 0.00       </td></tr>\n",
       "</tbody>\n",
       "</table>\n"
      ],
      "text/latex": [
       "\\begin{tabular}{r|llllll}\n",
       "  & Df & Sum Sq & Mean Sq & F value & Pr(>F) & PVE\\\\\n",
       "\\hline\n",
       "\tPC1 & 1            & 5.381453e+00 & 5.381453e+00 & 2.502120e+01 & 7.415170e-07 & 57.31       \\\\\n",
       "\tPC6 & 1            & 1.962147e+00 & 1.962147e+00 & 9.123053e+00 & 2.629166e-03 & 20.90       \\\\\n",
       "\tPC8 & 1            & 7.746886e-01 & 7.746886e-01 & 3.601935e+00 & 5.818190e-02 &  8.25       \\\\\n",
       "\tPC5 & 1            & 4.911095e-01 & 4.911095e-01 & 2.283426e+00 & 1.312780e-01 &  5.23       \\\\\n",
       "\tPC10 & 1            & 2.879598e-01 & 2.879598e-01 & 1.338876e+00 & 2.476829e-01 &  3.07       \\\\\n",
       "\tPC3 & 1            & 1.903156e-01 & 1.903156e-01 & 8.848772e-01 & 3.472399e-01 &  2.03       \\\\\n",
       "\tPC7 & 1            & 1.295758e-01 & 1.295758e-01 & 6.024662e-01 & 4.379380e-01 &  1.38       \\\\\n",
       "\tPC9 & 1            & 1.231802e-01 & 1.231802e-01 & 5.727295e-01 & 4.494671e-01 &  1.31       \\\\\n",
       "\tPC4 & 1            & 4.890283e-02 & 4.890283e-02 & 2.273750e-01 & 6.336471e-01 &  0.52       \\\\\n",
       "\tPC2 & 1            & 3.401161e-05 & 3.401161e-05 & 1.581378e-04 & 9.899707e-01 &  0.00       \\\\\n",
       "\\end{tabular}\n"
      ],
      "text/markdown": [
       "\n",
       "| <!--/--> | Df | Sum Sq | Mean Sq | F value | Pr(>F) | PVE | \n",
       "|---|---|---|---|---|---|---|---|---|---|\n",
       "| PC1 | 1            | 5.381453e+00 | 5.381453e+00 | 2.502120e+01 | 7.415170e-07 | 57.31        | \n",
       "| PC6 | 1            | 1.962147e+00 | 1.962147e+00 | 9.123053e+00 | 2.629166e-03 | 20.90        | \n",
       "| PC8 | 1            | 7.746886e-01 | 7.746886e-01 | 3.601935e+00 | 5.818190e-02 |  8.25        | \n",
       "| PC5 | 1            | 4.911095e-01 | 4.911095e-01 | 2.283426e+00 | 1.312780e-01 |  5.23        | \n",
       "| PC10 | 1            | 2.879598e-01 | 2.879598e-01 | 1.338876e+00 | 2.476829e-01 |  3.07        | \n",
       "| PC3 | 1            | 1.903156e-01 | 1.903156e-01 | 8.848772e-01 | 3.472399e-01 |  2.03        | \n",
       "| PC7 | 1            | 1.295758e-01 | 1.295758e-01 | 6.024662e-01 | 4.379380e-01 |  1.38        | \n",
       "| PC9 | 1            | 1.231802e-01 | 1.231802e-01 | 5.727295e-01 | 4.494671e-01 |  1.31        | \n",
       "| PC4 | 1            | 4.890283e-02 | 4.890283e-02 | 2.273750e-01 | 6.336471e-01 |  0.52        | \n",
       "| PC2 | 1            | 3.401161e-05 | 3.401161e-05 | 1.581378e-04 | 9.899707e-01 |  0.00        | \n",
       "\n",
       "\n"
      ],
      "text/plain": [
       "     Df Sum Sq       Mean Sq      F value      Pr(>F)       PVE  \n",
       "PC1  1  5.381453e+00 5.381453e+00 2.502120e+01 7.415170e-07 57.31\n",
       "PC6  1  1.962147e+00 1.962147e+00 9.123053e+00 2.629166e-03 20.90\n",
       "PC8  1  7.746886e-01 7.746886e-01 3.601935e+00 5.818190e-02  8.25\n",
       "PC5  1  4.911095e-01 4.911095e-01 2.283426e+00 1.312780e-01  5.23\n",
       "PC10 1  2.879598e-01 2.879598e-01 1.338876e+00 2.476829e-01  3.07\n",
       "PC3  1  1.903156e-01 1.903156e-01 8.848772e-01 3.472399e-01  2.03\n",
       "PC7  1  1.295758e-01 1.295758e-01 6.024662e-01 4.379380e-01  1.38\n",
       "PC9  1  1.231802e-01 1.231802e-01 5.727295e-01 4.494671e-01  1.31\n",
       "PC4  1  4.890283e-02 4.890283e-02 2.273750e-01 6.336471e-01  0.52\n",
       "PC2  1  3.401161e-05 3.401161e-05 1.581378e-04 9.899707e-01  0.00"
      ]
     },
     "metadata": {},
     "output_type": "display_data"
    }
   ],
   "source": [
    "# Build model formula\n",
    "model.str <- paste0(phen.name, \" ~ \", paste(pc.names, collapse=\" + \"))\n",
    "cat(\"MODEL FORMULA:\\n\\n\", model.str, \"\\n\")\n",
    "\n",
    "# Get model fits\n",
    "lm.fit.ea <- lm(formula=as.formula(model.str), data=ea.data)\n",
    "\n",
    "# Get sequential (type I) sum of squares\n",
    "anova.ea <- anova(lm.fit.ea)\n",
    "\n",
    "# Calculate percent variance explained and sort\n",
    "ea.pve <- cbind(anova.ea[pc.names,], \n",
    "                PVE=round(anova.ea[pc.names, \"Mean Sq\"]/sum(anova.ea[pc.names, \"Mean Sq\"])*100, digits=2))\n",
    "ea.pve.sorted <- ea.pve[order(ea.pve$PVE, decreasing=T),]\n",
    "\n",
    "# Output regression info\n",
    "cat(\"\\n\\n================ EA group ================\")\n",
    "summary(lm.fit.ea)\n",
    "ea.pve.sorted"
   ]
  },
  {
   "cell_type": "markdown",
   "metadata": {},
   "source": [
    "#### Percent Variance Explained Visualization"
   ]
  },
  {
   "cell_type": "code",
   "execution_count": 56,
   "metadata": {},
   "outputs": [
    {
     "data": {
      "image/png": "[encoded data removed]",
      "text/plain": [
       "Plot with title \"EA PVE Cumulative Sum\""
      ]
     },
     "metadata": {},
     "output_type": "display_data"
    },
    {
     "data": {
      "image/png": "[encoded data removed]",
      "text/plain": [
       "Plot with title \"EA PVE Cumulative Sum (Sorted PCs)\""
      ]
     },
     "metadata": {},
     "output_type": "display_data"
    }
   ],
   "source": [
    "options(repr.plot.width=13, repr.plot.height=5)\n",
    "\n",
    "# Set graphical parameters\n",
    "cex.factor = 0.9\n",
    "barplot.ylim.ea = c(0, max(ea.pve$PVE)*1.2)\n",
    "\n",
    "# Visualize PVE\n",
    "par(mfrow=c(1,2))\n",
    "barplot(height=ea.pve$PVE, names.arg=rownames(ea.pve), beside=T, cex.names=cex.factor, \n",
    "        col=\"red3\", border=\"red3\", ylim=barplot.ylim.ea, \n",
    "        main=\"EA Percent Variance Explained\", ylab=\"PVE\")\n",
    "plot(cumsum(ea.pve$PVE), type=\"b\", main=\"EA PVE Cumulative Sum\", ylab=\"PVE\", \n",
    "     lwd=2, col=\"red3\", pch=17, xaxt=\"n\", xlab=\"\", ylim=c(0,100))\n",
    "axis(side=1, at=c(1:10), labels=rownames(ea.pve), cex.axis=cex.factor)\n",
    "\n",
    "par(mfrow=c(1,2))\n",
    "barplot(height=ea.pve.sorted$PVE, names.arg=rownames(ea.pve.sorted), beside=T, cex.names=cex.factor, \n",
    "        col=\"red3\", border=\"red3\", ylim=barplot.ylim.ea, main=\"EA Percent Variance Explained (Sorted PCs)\", ylab=\"PVE\")\n",
    "plot(cumsum(ea.pve.sorted$PVE), type=\"b\", main=\"EA PVE Cumulative Sum (Sorted PCs)\", ylab=\"PVE\", \n",
    "     lwd=2, col=\"red3\", pch=17, xaxt=\"n\", xlab=\"\", ylim=c(0,100))\n",
    "axis(side=1, at=c(1:10), labels=rownames(ea.pve.sorted), cex.axis=cex.factor)"
   ]
  },
  {
   "cell_type": "markdown",
   "metadata": {},
   "source": [
    "Based on these results we will use PC1 and PC6. These PCs explain ~78% of the variance. \n",
    "\n",
    "#### Construct a phenotype file for ProbABEL with PCs\n",
    "* Need to include PC1 and PC6\n",
    "* Header needs to be:\n",
    "\n",
    "``` \n",
    "IID    OAALL    SEX    AGE    EV1    EV6\n",
    "```\n",
    "\n",
    "See the [ProbABEL manual](http://www.genabel.org/sites/default/files/pdfs/ProbABEL_manual.pdf) for more details."
   ]
  },
  {
   "cell_type": "code",
   "execution_count": null,
   "metadata": {},
   "outputs": [],
   "source": [
    "## local machine ##\n",
    "cd /cygdrive/c/Users/jmarks/Desktop/Projects/Heroin/ngc/kreek/phenotype/final\n",
    "\n",
    "# the IID in the phenotype file needs to be of the form \"iid\"\n",
    "# to match the iid in the mldose file\n",
    "ancestry=ea\n",
    "pop=EUR\n",
    "awk 'BEGIN{} NR>=2{print $2}' kreek_$pop_cov.ped > IID.${ancestry}.txt"
   ]
  },
  {
   "cell_type": "code",
   "execution_count": 1,
   "metadata": {},
   "outputs": [
    {
     "data": {
      "text/html": [
       "624"
      ],
      "text/latex": [
       "624"
      ],
      "text/markdown": [
       "624"
      ],
      "text/plain": [
       "[1] 624"
      ]
     },
     "metadata": {},
     "output_type": "display_data"
    },
    {
     "data": {
      "text/html": [
       "<table>\n",
       "<thead><tr><th scope=col>IID</th><th scope=col>OAALL</th><th scope=col>SEX</th><th scope=col>AGE</th><th scope=col>EV1</th><th scope=col>EV6</th></tr></thead>\n",
       "<tbody>\n",
       "\t<tr><td>100004 </td><td>2      </td><td>2      </td><td>56     </td><td> 0.0047</td><td> 0.0023</td></tr>\n",
       "\t<tr><td>100006 </td><td>2      </td><td>2      </td><td>22     </td><td> 0.0289</td><td> 0.0028</td></tr>\n",
       "\t<tr><td>100007 </td><td>2      </td><td>1      </td><td>22     </td><td> 0.0334</td><td>-0.0061</td></tr>\n",
       "\t<tr><td>100025 </td><td>2      </td><td>1      </td><td>46     </td><td>-0.0015</td><td> 0.0079</td></tr>\n",
       "\t<tr><td>100032 </td><td>1      </td><td>1      </td><td>45     </td><td>-0.0760</td><td> 0.0142</td></tr>\n",
       "\t<tr><td>100033 </td><td>2      </td><td>1      </td><td>45     </td><td> 0.0207</td><td>-0.0016</td></tr>\n",
       "</tbody>\n",
       "</table>\n"
      ],
      "text/latex": [
       "\\begin{tabular}{r|llllll}\n",
       " IID & OAALL & SEX & AGE & EV1 & EV6\\\\\n",
       "\\hline\n",
       "\t 100004  & 2       & 2       & 56      &  0.0047 &  0.0023\\\\\n",
       "\t 100006  & 2       & 2       & 22      &  0.0289 &  0.0028\\\\\n",
       "\t 100007  & 2       & 1       & 22      &  0.0334 & -0.0061\\\\\n",
       "\t 100025  & 2       & 1       & 46      & -0.0015 &  0.0079\\\\\n",
       "\t 100032  & 1       & 1       & 45      & -0.0760 &  0.0142\\\\\n",
       "\t 100033  & 2       & 1       & 45      &  0.0207 & -0.0016\\\\\n",
       "\\end{tabular}\n"
      ],
      "text/markdown": [
       "\n",
       "IID | OAALL | SEX | AGE | EV1 | EV6 | \n",
       "|---|---|---|---|---|---|\n",
       "| 100004  | 2       | 2       | 56      |  0.0047 |  0.0023 | \n",
       "| 100006  | 2       | 2       | 22      |  0.0289 |  0.0028 | \n",
       "| 100007  | 2       | 1       | 22      |  0.0334 | -0.0061 | \n",
       "| 100025  | 2       | 1       | 46      | -0.0015 |  0.0079 | \n",
       "| 100032  | 1       | 1       | 45      | -0.0760 |  0.0142 | \n",
       "| 100033  | 2       | 1       | 45      |  0.0207 | -0.0016 | \n",
       "\n",
       "\n"
      ],
      "text/plain": [
       "  IID    OAALL SEX AGE EV1     EV6    \n",
       "1 100004 2     2   56   0.0047  0.0023\n",
       "2 100006 2     2   22   0.0289  0.0028\n",
       "3 100007 2     1   22   0.0334 -0.0061\n",
       "4 100025 2     1   46  -0.0015  0.0079\n",
       "5 100032 1     1   45  -0.0760  0.0142\n",
       "6 100033 2     1   45   0.0207 -0.0016"
      ]
     },
     "metadata": {},
     "output_type": "display_data"
    }
   ],
   "source": [
    "### R console ###\n",
    "setwd(\"C:/Users/jmarks/Desktop/Projects/Heroin/ngc/kreek/phenotype/final\")\n",
    "\n",
    "# read in data files\n",
    "phen <- read.table(\"kreek_EUR_phen.ped\", header=T)\n",
    "cov <- read.table(\"kreek_EUR_cov.ped\", header=T)\n",
    "iid <- read.table(\"IID.ea.txt\", header=F)\n",
    "num.subjects <- length(iid[,1])\n",
    "num.subjects\n",
    "\n",
    "# create data frame to combine those files\n",
    "covar.names <- c(\"IID\", \"OAALL\", \"SEX\", \"AGE\", \"EV1\", \"EV6\")\n",
    "covar.data <- data.frame(matrix(ncol = length(covar.names), nrow = num.subjects))\n",
    "names(covar.data) <- covar.names\n",
    "covar.data[1] <- iid[1]\n",
    "covar.data[2] <- phen[,6]\n",
    "covar.data[3] <- phen[5]\n",
    "covar.data[4] <- cov[6]\n",
    "# PCs\n",
    "covar.data[5] <- cov[7]\n",
    "covar.data[6] <- cov[12]\n",
    "head(covar.data)\n",
    "#\n",
    "write.table(x = covar.data, file = \"kreek.ea.OAALL.SEX.AGE.EVs\", quote = F, row.names = F)"
   ]
  },
  {
   "cell_type": "markdown",
   "metadata": {},
   "source": [
    "### AA PC Selection\n",
    "Determine which PCs (eigenvectors) contribute the most influence and include them in the GWAS as covariates. Include the PCs which contribute to at least %75 of the variance.\n",
    "Make PED format phenotype and covariate file according to the NGC protocol.\n",
    "\n",
    "#### Create PED files\n",
    "The covariates we want to include in this baseline GWAS are age, sex, and some of the most influential PCs. Here we create the `phen` and `cov` PED files so that downstream processing will be easier. Specifically, creating the PED files will make it easier to select the PCs that explain  ∼75%  of the variance."
   ]
  },
  {
   "cell_type": "code",
   "execution_count": 2,
   "metadata": {},
   "outputs": [
    {
     "data": {
      "text/html": [
       "<table>\n",
       "<thead><tr><th scope=col>SUBJECT_ID</th><th scope=col>age</th><th scope=col>sex</th><th scope=col>opioid_dep</th></tr></thead>\n",
       "<tbody>\n",
       "\t<tr><td>100002</td><td>34    </td><td>2     </td><td>1     </td></tr>\n",
       "\t<tr><td>100008</td><td>50    </td><td>2     </td><td>2     </td></tr>\n",
       "\t<tr><td>100027</td><td>52    </td><td>2     </td><td>2     </td></tr>\n",
       "\t<tr><td>100063</td><td>44    </td><td>1     </td><td>2     </td></tr>\n",
       "\t<tr><td>100070</td><td>52    </td><td>1     </td><td>1     </td></tr>\n",
       "\t<tr><td>100073</td><td>37    </td><td>1     </td><td>1     </td></tr>\n",
       "</tbody>\n",
       "</table>\n"
      ],
      "text/latex": [
       "\\begin{tabular}{r|llll}\n",
       " SUBJECT\\_ID & age & sex & opioid\\_dep\\\\\n",
       "\\hline\n",
       "\t 100002 & 34     & 2      & 1     \\\\\n",
       "\t 100008 & 50     & 2      & 2     \\\\\n",
       "\t 100027 & 52     & 2      & 2     \\\\\n",
       "\t 100063 & 44     & 1      & 2     \\\\\n",
       "\t 100070 & 52     & 1      & 1     \\\\\n",
       "\t 100073 & 37     & 1      & 1     \\\\\n",
       "\\end{tabular}\n"
      ],
      "text/markdown": [
       "\n",
       "SUBJECT_ID | age | sex | opioid_dep | \n",
       "|---|---|---|---|---|---|\n",
       "| 100002 | 34     | 2      | 1      | \n",
       "| 100008 | 50     | 2      | 2      | \n",
       "| 100027 | 52     | 2      | 2      | \n",
       "| 100063 | 44     | 1      | 2      | \n",
       "| 100070 | 52     | 1      | 1      | \n",
       "| 100073 | 37     | 1      | 1      | \n",
       "\n",
       "\n"
      ],
      "text/plain": [
       "  SUBJECT_ID age sex opioid_dep\n",
       "1 100002     34  2   1         \n",
       "2 100008     50  2   2         \n",
       "3 100027     52  2   2         \n",
       "4 100063     44  1   2         \n",
       "5 100070     52  1   1         \n",
       "6 100073     37  1   1         "
      ]
     },
     "metadata": {},
     "output_type": "display_data"
    },
    {
     "data": {
      "text/html": [
       "<table>\n",
       "<thead><tr><th scope=col>fid</th><th scope=col>iid</th><th scope=col>patid</th><th scope=col>matid</th><th scope=col>sex</th><th scope=col>oaall</th></tr></thead>\n",
       "<tbody>\n",
       "\t<tr><td>0     </td><td>100002</td><td>NA    </td><td>NA    </td><td>2     </td><td>1     </td></tr>\n",
       "\t<tr><td>0     </td><td>100008</td><td>NA    </td><td>NA    </td><td>2     </td><td>2     </td></tr>\n",
       "\t<tr><td>0     </td><td>100027</td><td>NA    </td><td>NA    </td><td>2     </td><td>2     </td></tr>\n",
       "\t<tr><td>0     </td><td>100063</td><td>NA    </td><td>NA    </td><td>1     </td><td>2     </td></tr>\n",
       "\t<tr><td>0     </td><td>100070</td><td>NA    </td><td>NA    </td><td>1     </td><td>1     </td></tr>\n",
       "\t<tr><td>0     </td><td>100073</td><td>NA    </td><td>NA    </td><td>1     </td><td>1     </td></tr>\n",
       "</tbody>\n",
       "</table>\n"
      ],
      "text/latex": [
       "\\begin{tabular}{r|llllll}\n",
       " fid & iid & patid & matid & sex & oaall\\\\\n",
       "\\hline\n",
       "\t 0      & 100002 & NA     & NA     & 2      & 1     \\\\\n",
       "\t 0      & 100008 & NA     & NA     & 2      & 2     \\\\\n",
       "\t 0      & 100027 & NA     & NA     & 2      & 2     \\\\\n",
       "\t 0      & 100063 & NA     & NA     & 1      & 2     \\\\\n",
       "\t 0      & 100070 & NA     & NA     & 1      & 1     \\\\\n",
       "\t 0      & 100073 & NA     & NA     & 1      & 1     \\\\\n",
       "\\end{tabular}\n"
      ],
      "text/markdown": [
       "\n",
       "fid | iid | patid | matid | sex | oaall | \n",
       "|---|---|---|---|---|---|\n",
       "| 0      | 100002 | NA     | NA     | 2      | 1      | \n",
       "| 0      | 100008 | NA     | NA     | 2      | 2      | \n",
       "| 0      | 100027 | NA     | NA     | 2      | 2      | \n",
       "| 0      | 100063 | NA     | NA     | 1      | 2      | \n",
       "| 0      | 100070 | NA     | NA     | 1      | 1      | \n",
       "| 0      | 100073 | NA     | NA     | 1      | 1      | \n",
       "\n",
       "\n"
      ],
      "text/plain": [
       "  fid iid    patid matid sex oaall\n",
       "1 0   100002 NA    NA    2   1    \n",
       "2 0   100008 NA    NA    2   2    \n",
       "3 0   100027 NA    NA    2   2    \n",
       "4 0   100063 NA    NA    1   2    \n",
       "5 0   100070 NA    NA    1   1    \n",
       "6 0   100073 NA    NA    1   1    "
      ]
     },
     "metadata": {},
     "output_type": "display_data"
    },
    {
     "data": {
      "text/html": [
       "<table>\n",
       "<thead><tr><th scope=col>fid</th><th scope=col>iid</th><th scope=col>patid</th><th scope=col>matid</th><th scope=col>sex</th><th scope=col>age</th><th scope=col>PC1</th><th scope=col>PC2</th><th scope=col>PC3</th><th scope=col>PC4</th><th scope=col>PC5</th><th scope=col>PC6</th><th scope=col>PC7</th><th scope=col>PC8</th><th scope=col>PC9</th><th scope=col>PC10</th></tr></thead>\n",
       "<tbody>\n",
       "\t<tr><td>0      </td><td>100002 </td><td>NA     </td><td>NA     </td><td>2      </td><td>34     </td><td> 0.0329</td><td>-0.0116</td><td> 0.0008</td><td>-0.0097</td><td>-0.0011</td><td>-0.0102</td><td> 0.0065</td><td>-0.0076</td><td>-0.0066</td><td>-0.0299</td></tr>\n",
       "\t<tr><td>0      </td><td>100008 </td><td>NA     </td><td>NA     </td><td>2      </td><td>50     </td><td>-0.0247</td><td> 0.0351</td><td>-0.0415</td><td>-0.0114</td><td>-0.0058</td><td>-0.0542</td><td> 0.0708</td><td>-0.0063</td><td>-0.0151</td><td> 0.0142</td></tr>\n",
       "\t<tr><td>0      </td><td>100027 </td><td>NA     </td><td>NA     </td><td>2      </td><td>52     </td><td>-0.0168</td><td> 0.0031</td><td> 0.0498</td><td>-0.0325</td><td> 0.0067</td><td> 0.0089</td><td>-0.0253</td><td>-0.0227</td><td> 0.0215</td><td>-0.0033</td></tr>\n",
       "\t<tr><td>0      </td><td>100063 </td><td>NA     </td><td>NA     </td><td>1      </td><td>44     </td><td> 0.0386</td><td>-0.0059</td><td> 0.0087</td><td> 0.0005</td><td>-0.0123</td><td>-0.0087</td><td> 0.0040</td><td> 0.0052</td><td>-0.0025</td><td>-0.0065</td></tr>\n",
       "\t<tr><td>0      </td><td>100070 </td><td>NA     </td><td>NA     </td><td>1      </td><td>52     </td><td>-0.0172</td><td>-0.0110</td><td> 0.0086</td><td>-0.0386</td><td> 0.0312</td><td> 0.0065</td><td>-0.0058</td><td>-0.0005</td><td>-0.0162</td><td>-0.0414</td></tr>\n",
       "\t<tr><td>0      </td><td>100073 </td><td>NA     </td><td>NA     </td><td>1      </td><td>37     </td><td> 0.0408</td><td> 0.0126</td><td> 0.0015</td><td> 0.0092</td><td>-0.0081</td><td>-0.0015</td><td> 0.0039</td><td>-0.0067</td><td> 0.0023</td><td>-0.0039</td></tr>\n",
       "</tbody>\n",
       "</table>\n"
      ],
      "text/latex": [
       "\\begin{tabular}{r|llllllllllllllll}\n",
       " fid & iid & patid & matid & sex & age & PC1 & PC2 & PC3 & PC4 & PC5 & PC6 & PC7 & PC8 & PC9 & PC10\\\\\n",
       "\\hline\n",
       "\t 0       & 100002  & NA      & NA      & 2       & 34      &  0.0329 & -0.0116 &  0.0008 & -0.0097 & -0.0011 & -0.0102 &  0.0065 & -0.0076 & -0.0066 & -0.0299\\\\\n",
       "\t 0       & 100008  & NA      & NA      & 2       & 50      & -0.0247 &  0.0351 & -0.0415 & -0.0114 & -0.0058 & -0.0542 &  0.0708 & -0.0063 & -0.0151 &  0.0142\\\\\n",
       "\t 0       & 100027  & NA      & NA      & 2       & 52      & -0.0168 &  0.0031 &  0.0498 & -0.0325 &  0.0067 &  0.0089 & -0.0253 & -0.0227 &  0.0215 & -0.0033\\\\\n",
       "\t 0       & 100063  & NA      & NA      & 1       & 44      &  0.0386 & -0.0059 &  0.0087 &  0.0005 & -0.0123 & -0.0087 &  0.0040 &  0.0052 & -0.0025 & -0.0065\\\\\n",
       "\t 0       & 100070  & NA      & NA      & 1       & 52      & -0.0172 & -0.0110 &  0.0086 & -0.0386 &  0.0312 &  0.0065 & -0.0058 & -0.0005 & -0.0162 & -0.0414\\\\\n",
       "\t 0       & 100073  & NA      & NA      & 1       & 37      &  0.0408 &  0.0126 &  0.0015 &  0.0092 & -0.0081 & -0.0015 &  0.0039 & -0.0067 &  0.0023 & -0.0039\\\\\n",
       "\\end{tabular}\n"
      ],
      "text/markdown": [
       "\n",
       "fid | iid | patid | matid | sex | age | PC1 | PC2 | PC3 | PC4 | PC5 | PC6 | PC7 | PC8 | PC9 | PC10 | \n",
       "|---|---|---|---|---|---|\n",
       "| 0       | 100002  | NA      | NA      | 2       | 34      |  0.0329 | -0.0116 |  0.0008 | -0.0097 | -0.0011 | -0.0102 |  0.0065 | -0.0076 | -0.0066 | -0.0299 | \n",
       "| 0       | 100008  | NA      | NA      | 2       | 50      | -0.0247 |  0.0351 | -0.0415 | -0.0114 | -0.0058 | -0.0542 |  0.0708 | -0.0063 | -0.0151 |  0.0142 | \n",
       "| 0       | 100027  | NA      | NA      | 2       | 52      | -0.0168 |  0.0031 |  0.0498 | -0.0325 |  0.0067 |  0.0089 | -0.0253 | -0.0227 |  0.0215 | -0.0033 | \n",
       "| 0       | 100063  | NA      | NA      | 1       | 44      |  0.0386 | -0.0059 |  0.0087 |  0.0005 | -0.0123 | -0.0087 |  0.0040 |  0.0052 | -0.0025 | -0.0065 | \n",
       "| 0       | 100070  | NA      | NA      | 1       | 52      | -0.0172 | -0.0110 |  0.0086 | -0.0386 |  0.0312 |  0.0065 | -0.0058 | -0.0005 | -0.0162 | -0.0414 | \n",
       "| 0       | 100073  | NA      | NA      | 1       | 37      |  0.0408 |  0.0126 |  0.0015 |  0.0092 | -0.0081 | -0.0015 |  0.0039 | -0.0067 |  0.0023 | -0.0039 | \n",
       "\n",
       "\n"
      ],
      "text/plain": [
       "  fid iid    patid matid sex age PC1     PC2     PC3     PC4     PC5    \n",
       "1 0   100002 NA    NA    2   34   0.0329 -0.0116  0.0008 -0.0097 -0.0011\n",
       "2 0   100008 NA    NA    2   50  -0.0247  0.0351 -0.0415 -0.0114 -0.0058\n",
       "3 0   100027 NA    NA    2   52  -0.0168  0.0031  0.0498 -0.0325  0.0067\n",
       "4 0   100063 NA    NA    1   44   0.0386 -0.0059  0.0087  0.0005 -0.0123\n",
       "5 0   100070 NA    NA    1   52  -0.0172 -0.0110  0.0086 -0.0386  0.0312\n",
       "6 0   100073 NA    NA    1   37   0.0408  0.0126  0.0015  0.0092 -0.0081\n",
       "  PC6     PC7     PC8     PC9     PC10   \n",
       "1 -0.0102  0.0065 -0.0076 -0.0066 -0.0299\n",
       "2 -0.0542  0.0708 -0.0063 -0.0151  0.0142\n",
       "3  0.0089 -0.0253 -0.0227  0.0215 -0.0033\n",
       "4 -0.0087  0.0040  0.0052 -0.0025 -0.0065\n",
       "5  0.0065 -0.0058 -0.0005 -0.0162 -0.0414\n",
       "6 -0.0015  0.0039 -0.0067  0.0023 -0.0039"
      ]
     },
     "metadata": {},
     "output_type": "display_data"
    },
    {
     "data": {
      "text/html": [
       "576"
      ],
      "text/latex": [
       "576"
      ],
      "text/markdown": [
       "576"
      ],
      "text/plain": [
       "[1] 576"
      ]
     },
     "metadata": {},
     "output_type": "display_data"
    }
   ],
   "source": [
    "### R (local) ###\n",
    "\n",
    "## Phen file\n",
    "#------------------------------------------------------------------------------------------\n",
    "setwd(\"C:/Users/jmarks/Desktop/Projects/Heroin/ngc/kreek/phenotype/\")\n",
    "p.data <- \"aa.kreek.phenotype.table.ID+age+sex+opioid_dep.sex.case_control.mapped\"\n",
    "pheno.data.aa <- read.csv(p.data, sep = \" \", header = T, stringsAsFactors = F, \n",
    "                       colClasses=c(\"integer\", \"double\", \"integer\", \"integer\"))\n",
    "\n",
    "head(pheno.data.aa)\n",
    "pca.data.aa <- read.csv(\"../eigenstrat/aa_ld_pruned_top10_eigenvecs.txt\",\n",
    "                     sep = \" \" , header=T, colClasses=c(rep(\"character\",times=2), rep(\"double\",times = 10)))\n",
    "\n",
    "num.subjects.aa <- length(pca.data.aa[,1])\n",
    "\n",
    "ped.file.aa <- data.frame(matrix(ncol = 6, nrow = num.subjects.aa))\n",
    "colnames(ped.file.aa) <- c(\"fid\", \"iid\", \"patid\", \"matid\", \"sex\",  \"oaall\")\n",
    "ped.file.aa[,1] <- pca.data.aa[,1]\n",
    "ped.file.aa[,2] <- pca.data.aa[,2]\n",
    "\n",
    "# map loop (goal to fill in sex and oaall data on ped.file.aa from the pheno.data.aa)\n",
    "for (i in 1:num.subjects.aa){\n",
    "    # character string of the iid without quotations \n",
    "    key <- noquote(ped.file.aa[i,2])\n",
    "    \n",
    "    # match returns a vector of the positions of (first) matches of its first argument in its second. \n",
    "    my_match <- match(key, pheno.data.aa[,1])\n",
    "    \n",
    "    ped.file.aa[i,5] <- pheno.data.aa[my_match,3] # sex\n",
    "    ped.file.aa[i,6] <- pheno.data.aa[my_match,4] # oaall\n",
    "    \n",
    "} # end i loop\n",
    "\n",
    "head(ped.file.aa)\n",
    "write.table(ped.file.aa[,1:6], \"final/kreek_AFR_phen.ped\", sep = \"\\t\", row.names = F, quote=F)\n",
    "\n",
    "\n",
    "#----------------------------------------------------------------------------------------------------\n",
    "### Cov file\n",
    "\n",
    "# 10 PCs plus all of the covariates (exclude oaall data)\n",
    "col.names.aa <- c(\"fid\", \"iid\", \"patid\", \"matid\", \"sex\", \"age\",\n",
    "                  \"PC1\", \"PC2\",\"PC3\",\"PC4\",\"PC5\",\"PC6\",\"PC7\",\"PC8\",\"PC9\",\"PC10\")\n",
    "num.columns.aa <- length(col.names.aa)\n",
    "covar.data.aa <- data.frame(matrix(ncol = num.columns.aa, nrow = num.subjects.aa))\n",
    "names(covar.data.aa) <- col.names.aa\n",
    "\n",
    "num.covs.aa <- length(ped.file.aa) - 1\n",
    "covar.data.aa[,1:num.covs.aa] <- ped.file.aa[,1:num.covs.aa]\n",
    "covar.data.aa[,num.covs.aa+1] <- pheno.data.aa[,2] # age \n",
    "\n",
    "covar.data.aa[,(num.covs.aa+2):length(col.names.aa)] <- pca.data.aa[,3:length(pca.data.aa)]\n",
    "\n",
    "head(covar.data.aa)\n",
    "length(covar.data.aa[,1])\n",
    "\n",
    "write.table(covar.data.aa, \"final/kreek_AFR_cov.ped\", quote=FALSE, row.names = FALSE, sep = \"\\t\")"
   ]
  },
  {
   "cell_type": "code",
   "execution_count": 3,
   "metadata": {},
   "outputs": [
    {
     "data": {
      "text/html": [
       "<table>\n",
       "<thead><tr><th scope=col>iid</th><th scope=col>oaall</th><th scope=col>PC1</th><th scope=col>PC2</th><th scope=col>PC3</th><th scope=col>PC4</th><th scope=col>PC5</th><th scope=col>PC6</th><th scope=col>PC7</th><th scope=col>PC8</th><th scope=col>PC9</th><th scope=col>PC10</th></tr></thead>\n",
       "<tbody>\n",
       "\t<tr><td>100002 </td><td>1      </td><td> 0.0329</td><td>-0.0116</td><td> 0.0008</td><td>-0.0097</td><td>-0.0011</td><td>-0.0102</td><td> 0.0065</td><td>-0.0076</td><td>-0.0066</td><td>-0.0299</td></tr>\n",
       "\t<tr><td>100008 </td><td>2      </td><td>-0.0247</td><td> 0.0351</td><td>-0.0415</td><td>-0.0114</td><td>-0.0058</td><td>-0.0542</td><td> 0.0708</td><td>-0.0063</td><td>-0.0151</td><td> 0.0142</td></tr>\n",
       "\t<tr><td>100027 </td><td>2      </td><td>-0.0168</td><td> 0.0031</td><td> 0.0498</td><td>-0.0325</td><td> 0.0067</td><td> 0.0089</td><td>-0.0253</td><td>-0.0227</td><td> 0.0215</td><td>-0.0033</td></tr>\n",
       "\t<tr><td>100063 </td><td>2      </td><td> 0.0386</td><td>-0.0059</td><td> 0.0087</td><td> 0.0005</td><td>-0.0123</td><td>-0.0087</td><td> 0.0040</td><td> 0.0052</td><td>-0.0025</td><td>-0.0065</td></tr>\n",
       "\t<tr><td>100070 </td><td>1      </td><td>-0.0172</td><td>-0.0110</td><td> 0.0086</td><td>-0.0386</td><td> 0.0312</td><td> 0.0065</td><td>-0.0058</td><td>-0.0005</td><td>-0.0162</td><td>-0.0414</td></tr>\n",
       "\t<tr><td>100073 </td><td>1      </td><td> 0.0408</td><td> 0.0126</td><td> 0.0015</td><td> 0.0092</td><td>-0.0081</td><td>-0.0015</td><td> 0.0039</td><td>-0.0067</td><td> 0.0023</td><td>-0.0039</td></tr>\n",
       "</tbody>\n",
       "</table>\n"
      ],
      "text/latex": [
       "\\begin{tabular}{r|llllllllllll}\n",
       " iid & oaall & PC1 & PC2 & PC3 & PC4 & PC5 & PC6 & PC7 & PC8 & PC9 & PC10\\\\\n",
       "\\hline\n",
       "\t 100002  & 1       &  0.0329 & -0.0116 &  0.0008 & -0.0097 & -0.0011 & -0.0102 &  0.0065 & -0.0076 & -0.0066 & -0.0299\\\\\n",
       "\t 100008  & 2       & -0.0247 &  0.0351 & -0.0415 & -0.0114 & -0.0058 & -0.0542 &  0.0708 & -0.0063 & -0.0151 &  0.0142\\\\\n",
       "\t 100027  & 2       & -0.0168 &  0.0031 &  0.0498 & -0.0325 &  0.0067 &  0.0089 & -0.0253 & -0.0227 &  0.0215 & -0.0033\\\\\n",
       "\t 100063  & 2       &  0.0386 & -0.0059 &  0.0087 &  0.0005 & -0.0123 & -0.0087 &  0.0040 &  0.0052 & -0.0025 & -0.0065\\\\\n",
       "\t 100070  & 1       & -0.0172 & -0.0110 &  0.0086 & -0.0386 &  0.0312 &  0.0065 & -0.0058 & -0.0005 & -0.0162 & -0.0414\\\\\n",
       "\t 100073  & 1       &  0.0408 &  0.0126 &  0.0015 &  0.0092 & -0.0081 & -0.0015 &  0.0039 & -0.0067 &  0.0023 & -0.0039\\\\\n",
       "\\end{tabular}\n"
      ],
      "text/markdown": [
       "\n",
       "iid | oaall | PC1 | PC2 | PC3 | PC4 | PC5 | PC6 | PC7 | PC8 | PC9 | PC10 | \n",
       "|---|---|---|---|---|---|\n",
       "| 100002  | 1       |  0.0329 | -0.0116 |  0.0008 | -0.0097 | -0.0011 | -0.0102 |  0.0065 | -0.0076 | -0.0066 | -0.0299 | \n",
       "| 100008  | 2       | -0.0247 |  0.0351 | -0.0415 | -0.0114 | -0.0058 | -0.0542 |  0.0708 | -0.0063 | -0.0151 |  0.0142 | \n",
       "| 100027  | 2       | -0.0168 |  0.0031 |  0.0498 | -0.0325 |  0.0067 |  0.0089 | -0.0253 | -0.0227 |  0.0215 | -0.0033 | \n",
       "| 100063  | 2       |  0.0386 | -0.0059 |  0.0087 |  0.0005 | -0.0123 | -0.0087 |  0.0040 |  0.0052 | -0.0025 | -0.0065 | \n",
       "| 100070  | 1       | -0.0172 | -0.0110 |  0.0086 | -0.0386 |  0.0312 |  0.0065 | -0.0058 | -0.0005 | -0.0162 | -0.0414 | \n",
       "| 100073  | 1       |  0.0408 |  0.0126 |  0.0015 |  0.0092 | -0.0081 | -0.0015 |  0.0039 | -0.0067 |  0.0023 | -0.0039 | \n",
       "\n",
       "\n"
      ],
      "text/plain": [
       "  iid    oaall PC1     PC2     PC3     PC4     PC5     PC6     PC7     PC8    \n",
       "1 100002 1      0.0329 -0.0116  0.0008 -0.0097 -0.0011 -0.0102  0.0065 -0.0076\n",
       "2 100008 2     -0.0247  0.0351 -0.0415 -0.0114 -0.0058 -0.0542  0.0708 -0.0063\n",
       "3 100027 2     -0.0168  0.0031  0.0498 -0.0325  0.0067  0.0089 -0.0253 -0.0227\n",
       "4 100063 2      0.0386 -0.0059  0.0087  0.0005 -0.0123 -0.0087  0.0040  0.0052\n",
       "5 100070 1     -0.0172 -0.0110  0.0086 -0.0386  0.0312  0.0065 -0.0058 -0.0005\n",
       "6 100073 1      0.0408  0.0126  0.0015  0.0092 -0.0081 -0.0015  0.0039 -0.0067\n",
       "  PC9     PC10   \n",
       "1 -0.0066 -0.0299\n",
       "2 -0.0151  0.0142\n",
       "3  0.0215 -0.0033\n",
       "4 -0.0025 -0.0065\n",
       "5 -0.0162 -0.0414\n",
       "6  0.0023 -0.0039"
      ]
     },
     "metadata": {},
     "output_type": "display_data"
    }
   ],
   "source": [
    "### R console ###\n",
    "# Load PCA data\n",
    "setwd('C:/Users/jmarks/Desktop/Projects/Heroin/ngc/kreek/phenotype/final/')\n",
    "options(stringsAsFactors=F)\n",
    "aa.cov.data <- read.delim(\"kreek_AFR_cov.ped\", header=T, sep=\"\\t\")\n",
    "aa.phen.data <- read.delim(\"kreek_AFR_phen.ped\", header=T, sep=\"\\t\")\n",
    "\n",
    "# Combine PCs and phenotype into one data frame\n",
    "phen.name <- \"oaall\"\n",
    "pc.names <- paste0(\"PC\", 1:10)\n",
    "aa.data <- merge(x=aa.phen.data[,c(\"iid\",phen.name)], y=aa.cov.data[, c(\"iid\", paste0(\"PC\",1:10))], by=\"iid\")\n",
    "head(aa.data)"
   ]
  },
  {
   "cell_type": "markdown",
   "metadata": {},
   "source": [
    "#### Regression analysis\n",
    "We use a regression model of the general structure:\n",
    "\n",
    "$$\\begin{align}\n",
    "\\text{FTND = PC1 + PC2 + ... + PC10}\n",
    "\\end{align}$$"
   ]
  },
  {
   "cell_type": "code",
   "execution_count": 4,
   "metadata": {},
   "outputs": [
    {
     "name": "stdout",
     "output_type": "stream",
     "text": [
      "MODEL FORMULA:\n",
      "\n",
      " oaall ~ PC1 + PC2 + PC3 + PC4 + PC5 + PC6 + PC7 + PC8 + PC9 + PC10 \n",
      "\n",
      "\n",
      "================ AA group ================"
     ]
    },
    {
     "data": {
      "text/plain": [
       "\n",
       "Call:\n",
       "lm(formula = as.formula(model.str), data = aa.data)\n",
       "\n",
       "Residuals:\n",
       "    Min      1Q  Median      3Q     Max \n",
       "-0.7094 -0.3533 -0.3085  0.6136  0.7293 \n",
       "\n",
       "Coefficients:\n",
       "            Estimate Std. Error t value Pr(>|t|)    \n",
       "(Intercept)  1.35764    0.01993  68.118  < 2e-16 ***\n",
       "PC1         -1.38669    0.47832  -2.899  0.00389 ** \n",
       "PC2         -0.57323    0.47833  -1.198  0.23127    \n",
       "PC3          0.44416    0.47835   0.929  0.35353    \n",
       "PC4         -0.34181    0.47833  -0.715  0.47516    \n",
       "PC5         -0.15154    0.47833  -0.317  0.75151    \n",
       "PC6          0.28945    0.47836   0.605  0.54536    \n",
       "PC7          0.37615    0.47834   0.786  0.43199    \n",
       "PC8         -0.06059    0.47830  -0.127  0.89925    \n",
       "PC9          0.38600    0.47833   0.807  0.42002    \n",
       "PC10         0.28787    0.47834   0.602  0.54755    \n",
       "---\n",
       "Signif. codes:  0 '***' 0.001 '**' 0.01 '*' 0.05 '.' 0.1 ' ' 1\n",
       "\n",
       "Residual standard error: 0.4783 on 565 degrees of freedom\n",
       "Multiple R-squared:  0.02305,\tAdjusted R-squared:  0.005754 \n",
       "F-statistic: 1.333 on 10 and 565 DF,  p-value: 0.2092\n"
      ]
     },
     "metadata": {},
     "output_type": "display_data"
    },
    {
     "data": {
      "text/html": [
       "<table>\n",
       "<thead><tr><th></th><th scope=col>Df</th><th scope=col>Sum Sq</th><th scope=col>Mean Sq</th><th scope=col>F value</th><th scope=col>Pr(&gt;F)</th><th scope=col>PVE</th></tr></thead>\n",
       "<tbody>\n",
       "\t<tr><th scope=row>PC1</th><td>1          </td><td>1.923105443</td><td>1.923105443</td><td>8.40486463 </td><td>0.00388758 </td><td>63.06      </td></tr>\n",
       "\t<tr><th scope=row>PC2</th><td>1          </td><td>0.328556553</td><td>0.328556553</td><td>1.43594485 </td><td>0.23129908 </td><td>10.77      </td></tr>\n",
       "\t<tr><th scope=row>PC3</th><td>1          </td><td>0.197228976</td><td>0.197228976</td><td>0.86198229 </td><td>0.35358101 </td><td> 6.47      </td></tr>\n",
       "\t<tr><th scope=row>PC9</th><td>1          </td><td>0.149004309</td><td>0.149004309</td><td>0.65121809 </td><td>0.42001709 </td><td> 4.89      </td></tr>\n",
       "\t<tr><th scope=row>PC7</th><td>1          </td><td>0.141487776</td><td>0.141487776</td><td>0.61836734 </td><td>0.43198432 </td><td> 4.64      </td></tr>\n",
       "\t<tr><th scope=row>PC4</th><td>1          </td><td>0.116854388</td><td>0.116854388</td><td>0.51070799 </td><td>0.47512769 </td><td> 3.83      </td></tr>\n",
       "\t<tr><th scope=row>PC6</th><td>1          </td><td>0.083790428</td><td>0.083790428</td><td>0.36620312 </td><td>0.54532418 </td><td> 2.75      </td></tr>\n",
       "\t<tr><th scope=row>PC10</th><td>1          </td><td>0.082866433</td><td>0.082866433</td><td>0.36216483 </td><td>0.54754780 </td><td> 2.72      </td></tr>\n",
       "\t<tr><th scope=row>PC5</th><td>1          </td><td>0.022954501</td><td>0.022954501</td><td>0.10032184 </td><td>0.75156075 </td><td> 0.75      </td></tr>\n",
       "\t<tr><th scope=row>PC8</th><td>1          </td><td>0.003672028</td><td>0.003672028</td><td>0.01604847 </td><td>0.89923672 </td><td> 0.12      </td></tr>\n",
       "</tbody>\n",
       "</table>\n"
      ],
      "text/latex": [
       "\\begin{tabular}{r|llllll}\n",
       "  & Df & Sum Sq & Mean Sq & F value & Pr(>F) & PVE\\\\\n",
       "\\hline\n",
       "\tPC1 & 1           & 1.923105443 & 1.923105443 & 8.40486463  & 0.00388758  & 63.06      \\\\\n",
       "\tPC2 & 1           & 0.328556553 & 0.328556553 & 1.43594485  & 0.23129908  & 10.77      \\\\\n",
       "\tPC3 & 1           & 0.197228976 & 0.197228976 & 0.86198229  & 0.35358101  &  6.47      \\\\\n",
       "\tPC9 & 1           & 0.149004309 & 0.149004309 & 0.65121809  & 0.42001709  &  4.89      \\\\\n",
       "\tPC7 & 1           & 0.141487776 & 0.141487776 & 0.61836734  & 0.43198432  &  4.64      \\\\\n",
       "\tPC4 & 1           & 0.116854388 & 0.116854388 & 0.51070799  & 0.47512769  &  3.83      \\\\\n",
       "\tPC6 & 1           & 0.083790428 & 0.083790428 & 0.36620312  & 0.54532418  &  2.75      \\\\\n",
       "\tPC10 & 1           & 0.082866433 & 0.082866433 & 0.36216483  & 0.54754780  &  2.72      \\\\\n",
       "\tPC5 & 1           & 0.022954501 & 0.022954501 & 0.10032184  & 0.75156075  &  0.75      \\\\\n",
       "\tPC8 & 1           & 0.003672028 & 0.003672028 & 0.01604847  & 0.89923672  &  0.12      \\\\\n",
       "\\end{tabular}\n"
      ],
      "text/markdown": [
       "\n",
       "| <!--/--> | Df | Sum Sq | Mean Sq | F value | Pr(>F) | PVE | \n",
       "|---|---|---|---|---|---|---|---|---|---|\n",
       "| PC1 | 1           | 1.923105443 | 1.923105443 | 8.40486463  | 0.00388758  | 63.06       | \n",
       "| PC2 | 1           | 0.328556553 | 0.328556553 | 1.43594485  | 0.23129908  | 10.77       | \n",
       "| PC3 | 1           | 0.197228976 | 0.197228976 | 0.86198229  | 0.35358101  |  6.47       | \n",
       "| PC9 | 1           | 0.149004309 | 0.149004309 | 0.65121809  | 0.42001709  |  4.89       | \n",
       "| PC7 | 1           | 0.141487776 | 0.141487776 | 0.61836734  | 0.43198432  |  4.64       | \n",
       "| PC4 | 1           | 0.116854388 | 0.116854388 | 0.51070799  | 0.47512769  |  3.83       | \n",
       "| PC6 | 1           | 0.083790428 | 0.083790428 | 0.36620312  | 0.54532418  |  2.75       | \n",
       "| PC10 | 1           | 0.082866433 | 0.082866433 | 0.36216483  | 0.54754780  |  2.72       | \n",
       "| PC5 | 1           | 0.022954501 | 0.022954501 | 0.10032184  | 0.75156075  |  0.75       | \n",
       "| PC8 | 1           | 0.003672028 | 0.003672028 | 0.01604847  | 0.89923672  |  0.12       | \n",
       "\n",
       "\n"
      ],
      "text/plain": [
       "     Df Sum Sq      Mean Sq     F value    Pr(>F)     PVE  \n",
       "PC1  1  1.923105443 1.923105443 8.40486463 0.00388758 63.06\n",
       "PC2  1  0.328556553 0.328556553 1.43594485 0.23129908 10.77\n",
       "PC3  1  0.197228976 0.197228976 0.86198229 0.35358101  6.47\n",
       "PC9  1  0.149004309 0.149004309 0.65121809 0.42001709  4.89\n",
       "PC7  1  0.141487776 0.141487776 0.61836734 0.43198432  4.64\n",
       "PC4  1  0.116854388 0.116854388 0.51070799 0.47512769  3.83\n",
       "PC6  1  0.083790428 0.083790428 0.36620312 0.54532418  2.75\n",
       "PC10 1  0.082866433 0.082866433 0.36216483 0.54754780  2.72\n",
       "PC5  1  0.022954501 0.022954501 0.10032184 0.75156075  0.75\n",
       "PC8  1  0.003672028 0.003672028 0.01604847 0.89923672  0.12"
      ]
     },
     "metadata": {},
     "output_type": "display_data"
    }
   ],
   "source": [
    "# Build model formula\n",
    "model.str <- paste0(phen.name, \" ~ \", paste(pc.names, collapse=\" + \"))\n",
    "cat(\"MODEL FORMULA:\\n\\n\", model.str, \"\\n\")\n",
    "\n",
    "# Get model fits\n",
    "lm.fit.aa <- lm(formula=as.formula(model.str), data=aa.data)\n",
    "\n",
    "# Get sequential (type I) sum of squares\n",
    "anova.aa <- anova(lm.fit.aa)\n",
    "\n",
    "# Calculate percent variance explained and sort\n",
    "aa.pve <- cbind(anova.aa[pc.names,], \n",
    "                PVE=round(anova.aa[pc.names, \"Mean Sq\"]/sum(anova.aa[pc.names, \"Mean Sq\"])*100, digits=2))\n",
    "aa.pve.sorted <- aa.pve[order(aa.pve$PVE, decreasing=T),]\n",
    "\n",
    "# Output regression info\n",
    "cat(\"\\n\\n================ AA group ================\")\n",
    "summary(lm.fit.aa)\n",
    "aa.pve.sorted"
   ]
  },
  {
   "cell_type": "markdown",
   "metadata": {},
   "source": [
    "#### Percent Variance Explained Visualization"
   ]
  },
  {
   "cell_type": "code",
   "execution_count": 65,
   "metadata": {},
   "outputs": [
    {
     "data": {
      "image/png": "[encoded data removed]",
      "text/plain": [
       "Plot with title \"AA PVE Cumulative Sum\""
      ]
     },
     "metadata": {},
     "output_type": "display_data"
    },
    {
     "data": {
      "image/png": "[encoded data removed]",
      "text/plain": [
       "Plot with title \"AA PVE Cumulative Sum (Sorted PCs)\""
      ]
     },
     "metadata": {},
     "output_type": "display_data"
    }
   ],
   "source": [
    "options(repr.plot.width=13, repr.plot.height=5)\n",
    "\n",
    "# Set graphical parameters\n",
    "cex.factor = 0.9\n",
    "barplot.ylim.aa = c(0, max(aa.pve$PVE)*1.2)\n",
    "\n",
    "# Visualize PVE\n",
    "par(mfrow=c(1,2))\n",
    "barplot(height=aa.pve$PVE, names.arg=rownames(aa.pve), beside=T, cex.names=cex.factor, \n",
    "        col=\"red3\", border=\"red3\", ylim=barplot.ylim.aa, \n",
    "        main=\"AA Percent Variance Explained\", ylab=\"PVE\")\n",
    "plot(cumsum(aa.pve$PVE), type=\"b\", main=\"AA PVE Cumulative Sum\", ylab=\"PVE\", \n",
    "     lwd=2, col=\"red3\", pch=17, xaxt=\"n\", xlab=\"\", ylim=c(0,100))\n",
    "axis(side=1, at=c(1:10), labels=rownames(aa.pve), cex.axis=cex.factor)\n",
    "\n",
    "par(mfrow=c(1,2))\n",
    "barplot(height=aa.pve.sorted$PVE, names.arg=rownames(aa.pve.sorted), beside=T, cex.names=cex.factor, \n",
    "        col=\"red3\", border=\"red3\", ylim=barplot.ylim.aa, main=\"AA Percent Variance Explained (Sorted PCs)\", ylab=\"PVE\")\n",
    "plot(cumsum(aa.pve.sorted$PVE), type=\"b\", main=\"AA PVE Cumulative Sum (Sorted PCs)\", ylab=\"PVE\", \n",
    "     lwd=2, col=\"red3\", pch=17, xaxt=\"n\", xlab=\"\", ylim=c(0,100))\n",
    "axis(side=1, at=c(1:10), labels=rownames(aa.pve.sorted), cex.axis=cex.factor)"
   ]
  },
  {
   "cell_type": "markdown",
   "metadata": {},
   "source": [
    "Based on these results we will use PC1, PC2, and PC3. These PCs explain ~80% of the variance. \n",
    "\n",
    "#### Construct a phenotype file for ProbABEL with PCs\n",
    "* Need to include PC1, PC2, and PC3\n",
    "* Header needs to be:\n",
    "\n",
    "``` \n",
    "IID    OAALL    SEX    AGE    EV1    EV2    EV3\n",
    "```\n",
    "\n",
    "\n",
    "See the [ProbABEL manual](http://www.genabel.org/sites/default/files/pdfs/ProbABEL_manual.pdf) for more details."
   ]
  },
  {
   "cell_type": "code",
   "execution_count": null,
   "metadata": {},
   "outputs": [],
   "source": [
    "## local machine ##\n",
    "cd /cygdrive/c/Users/jmarks/Desktop/Projects/Heroin/ngc/kreek/phenotype/final\n",
    "\n",
    "# the IID in the phenotype file needs to be of the form \"iid\"\n",
    "# to match the iid in the mldose file\n",
    "ancestry=aa\n",
    "pop=AFR\n",
    "awk 'BEGIN{} NR>=2{print $2}' kreek_${pop}_cov.ped > IID.${ancestry}.txt"
   ]
  },
  {
   "cell_type": "code",
   "execution_count": 7,
   "metadata": {},
   "outputs": [
    {
     "data": {
      "text/html": [
       "576"
      ],
      "text/latex": [
       "576"
      ],
      "text/markdown": [
       "576"
      ],
      "text/plain": [
       "[1] 576"
      ]
     },
     "metadata": {},
     "output_type": "display_data"
    },
    {
     "data": {
      "text/html": [
       "<table>\n",
       "<thead><tr><th scope=col>IID</th><th scope=col>OAALL</th><th scope=col>SEX</th><th scope=col>AGE</th><th scope=col>EV1</th><th scope=col>EV2</th><th scope=col>EV3</th></tr></thead>\n",
       "<tbody>\n",
       "\t<tr><td>100002 </td><td>1      </td><td>2      </td><td>34     </td><td> 0.0329</td><td>-0.0116</td><td> 0.0008</td></tr>\n",
       "\t<tr><td>100008 </td><td>2      </td><td>2      </td><td>50     </td><td>-0.0247</td><td> 0.0351</td><td>-0.0415</td></tr>\n",
       "\t<tr><td>100027 </td><td>2      </td><td>2      </td><td>52     </td><td>-0.0168</td><td> 0.0031</td><td> 0.0498</td></tr>\n",
       "\t<tr><td>100063 </td><td>2      </td><td>1      </td><td>44     </td><td> 0.0386</td><td>-0.0059</td><td> 0.0087</td></tr>\n",
       "\t<tr><td>100070 </td><td>1      </td><td>1      </td><td>52     </td><td>-0.0172</td><td>-0.0110</td><td> 0.0086</td></tr>\n",
       "\t<tr><td>100073 </td><td>1      </td><td>1      </td><td>37     </td><td> 0.0408</td><td> 0.0126</td><td> 0.0015</td></tr>\n",
       "</tbody>\n",
       "</table>\n"
      ],
      "text/latex": [
       "\\begin{tabular}{r|lllllll}\n",
       " IID & OAALL & SEX & AGE & EV1 & EV2 & EV3\\\\\n",
       "\\hline\n",
       "\t 100002  & 1       & 2       & 34      &  0.0329 & -0.0116 &  0.0008\\\\\n",
       "\t 100008  & 2       & 2       & 50      & -0.0247 &  0.0351 & -0.0415\\\\\n",
       "\t 100027  & 2       & 2       & 52      & -0.0168 &  0.0031 &  0.0498\\\\\n",
       "\t 100063  & 2       & 1       & 44      &  0.0386 & -0.0059 &  0.0087\\\\\n",
       "\t 100070  & 1       & 1       & 52      & -0.0172 & -0.0110 &  0.0086\\\\\n",
       "\t 100073  & 1       & 1       & 37      &  0.0408 &  0.0126 &  0.0015\\\\\n",
       "\\end{tabular}\n"
      ],
      "text/markdown": [
       "\n",
       "IID | OAALL | SEX | AGE | EV1 | EV2 | EV3 | \n",
       "|---|---|---|---|---|---|\n",
       "| 100002  | 1       | 2       | 34      |  0.0329 | -0.0116 |  0.0008 | \n",
       "| 100008  | 2       | 2       | 50      | -0.0247 |  0.0351 | -0.0415 | \n",
       "| 100027  | 2       | 2       | 52      | -0.0168 |  0.0031 |  0.0498 | \n",
       "| 100063  | 2       | 1       | 44      |  0.0386 | -0.0059 |  0.0087 | \n",
       "| 100070  | 1       | 1       | 52      | -0.0172 | -0.0110 |  0.0086 | \n",
       "| 100073  | 1       | 1       | 37      |  0.0408 |  0.0126 |  0.0015 | \n",
       "\n",
       "\n"
      ],
      "text/plain": [
       "  IID    OAALL SEX AGE EV1     EV2     EV3    \n",
       "1 100002 1     2   34   0.0329 -0.0116  0.0008\n",
       "2 100008 2     2   50  -0.0247  0.0351 -0.0415\n",
       "3 100027 2     2   52  -0.0168  0.0031  0.0498\n",
       "4 100063 2     1   44   0.0386 -0.0059  0.0087\n",
       "5 100070 1     1   52  -0.0172 -0.0110  0.0086\n",
       "6 100073 1     1   37   0.0408  0.0126  0.0015"
      ]
     },
     "metadata": {},
     "output_type": "display_data"
    }
   ],
   "source": [
    "### R console ###\n",
    "setwd(\"C:/Users/jmarks/Desktop/Projects/Heroin/ngc/kreek/phenotype/final\")\n",
    "\n",
    "# read in data files\n",
    "phen <- read.table(\"kreek_AFR_phen.ped\", header=T)\n",
    "cov <- read.table(\"kreek_AFR_cov.ped\", header=T)\n",
    "iid <- read.table(\"IID.aa.txt\", header=F)\n",
    "num.subjects <- length(iid[,1])\n",
    "num.subjects\n",
    "\n",
    "# create data frame to combine those files\n",
    "covar.names <- c(\"IID\", \"OAALL\", \"SEX\", \"AGE\", \"EV1\", \"EV2\", \"EV3\")\n",
    "covar.data <- data.frame(matrix(ncol = length(covar.names), nrow = num.subjects))\n",
    "names(covar.data) <- covar.names\n",
    "covar.data[1] <- iid[1] # iid\n",
    "covar.data[2] <- phen[,6] # oaall\n",
    "covar.data[3] <- phen[5] # sex\n",
    "covar.data[4] <- cov[6] # age\n",
    "# PCs\n",
    "covar.data[5] <- cov[7]\n",
    "covar.data[6] <- cov[8]\n",
    "covar.data[7] <- cov[9]\n",
    "head(covar.data)\n",
    "#\n",
    "write.table(x = covar.data, file = \"kreek.aa.OAALL.SEX.AGE.EVs\", quote = F, row.names = F)"
   ]
  }
 ],
 "metadata": {
  "kernelspec": {
   "display_name": "R",
   "language": "R",
   "name": "ir"
  },
  "language_info": {
   "codemirror_mode": "r",
   "file_extension": ".r",
   "mimetype": "text/x-r-source",
   "name": "R",
   "pygments_lexer": "r",
   "version": "3.4.3"
  },
  "toc": {
   "nav_menu": {},
   "number_sections": true,
   "sideBar": true,
   "skip_h1_title": false,
   "toc_cell": false,
   "toc_position": {
    "height": "723px",
    "left": "0px",
    "right": "1315.28px",
    "top": "111px",
    "width": "212px"
   },
   "toc_section_display": "block",
   "toc_window_display": true
  }
 },
 "nbformat": 4,
 "nbformat_minor": 2
}
