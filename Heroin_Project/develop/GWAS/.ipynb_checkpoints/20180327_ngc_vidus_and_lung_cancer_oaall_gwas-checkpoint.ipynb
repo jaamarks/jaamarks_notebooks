{
 "cells": [
  {
   "cell_type": "markdown",
   "metadata": {},
   "source": [
    "# NGC VIDUS and Lung Cancer in Never Smokers OAall GWAS\n",
    "__Author__: Jesse Marks\n",
    "\n",
    "This document logs the steps taken to perform an opioid addiction GWAS on [Vancouver Injection Drug Users Study (VIDUS)](http://www.cfenet.ubc.ca/research/vidus) subjects versus all controls of [Lung Cancer in Never Smokers Study](https://www.ncbi.nlm.nih.gov/projects/gap/cgi-bin/study.cgi?study_id=phs000634.v1.p1). The processing performed on these data follow the Heroin NIDA Genetics Consortium (NGC) Protocol. For any general or specific questions regarding this protocol, speak with Eric O. Johnson."
   ]
  },
  {
   "cell_type": "markdown",
   "metadata": {},
   "source": [
    "## Software and tools\n",
    "The software and tools used for processing these data are\n",
    "\n",
    "* [Amazon Elastic Compute Cloud(EC2)](https://aws.amazon.com/ec2/)\n",
    "* GNU bash version 4.1.2\n",
    "* [PLINK v1.9 beta 3.45](https://www.cog-genomics.org/plink/)\n",
    "* [EIGENSOFT v4.2](https://www.hsph.harvard.edu/alkes-price/software/)\n",
    "* [R v3.2.3](https://www.r-project.org/)\n",
    "* R packages: MASS, moments\n",
    "* [RVtests](https://render.githubusercontent.com/view/ipynb?commit=3bb8e661ad8b75af027ed2748133452ec251aaed&enc_url=68747470733a2f2f7261772e67697468756275736572636f6e74656e742e636f6d2f525449496e7465726e6174696f6e616c2f6271756163685f6e6f7465626f6f6b732f336262386536363161643862373561663032376564323734383133333435326563323531616165642f6865726f696e5f70726f6a6563742f646576656c6f702f32303138303131305f756873325f756873335f666f755f677761732e6970796e623f746f6b656e3d41664d79344e373237626e764465456f46535a697770346b48776246577964706b7335617570495a7741253344253344&nwo=RTIInternational%2Fbquach_notebooks&path=heroin_project%2Fdevelop%2F20180110_uhs2_uhs3_fou_gwas.ipynb&repository_id=105297875&repository_type=Repository)"
   ]
  },
  {
   "cell_type": "markdown",
   "metadata": {},
   "source": [
    "## Variable information\n",
    "### NGC Protocol Specifications\n",
    "* OAall (coded 1 for all controls, 2 for OA cases)\n",
    "* Sex (coded 1 for female, 2 for male)\n",
    "* Any additional covariates (coded 1 for no, 2 for yes)\n",
    "* Age (years)\n",
    "\n",
    "### VIDUS\n",
    "__OAall Variables__:\n",
    "\n",
    "`Opiodcase` <br>\n",
    "* Identified opioid addiction cases at those with heroin or prescription use >= 2-3 times/week in last six months (= 4 | = 5 in heroin or prescript use – inj or non). Generated 181 cases. Considered possible additional cases from uses of one or more of these at a level of once/week (=3). However, only 12 noncases by the above criteria have FOU in the same range as the cases, all but 1 of which could get the in-range score from a combination of lower frequency use across the multiple variables and still not be using 2-3 times/week. Decided to stick with the 181 as a cleaner case set.\n",
    "\n",
    "`Female (sex)` <br>\n",
    "* 0 is male, 1 is female \n",
    "\n",
    "`Ageatint` <br>\n",
    "* Age at time of interview.\n",
    "\n",
    "__Note__: Eric Johnson supplied the phenotype data for these VIDUS cases.\n",
    "### Lung Cancer in Never smokers\n",
    "`Opiodcase` \n",
    "* will be zero.\n",
    "\n",
    "`Gender (sex)`\n",
    "* 1 is male, 2 is female (need to reverse these for study)\n",
    "\n",
    "`Age`\n",
    "* subject age"
   ]
  },
  {
   "cell_type": "markdown",
   "metadata": {},
   "source": [
    "## Retrieve OAall data\n",
    "The data have already been filtered to \n",
    "* Remove subjects with opioidcase == 0\n",
    "* Remove duplicate subjects by keeping only the more recent data record\n",
    "* Remove subjects with previously reported sex discrepancy\n",
    "\n",
    "These data are located on EC2 at `/shared/sandbox/ngc_vidus-lung_cancer_fou/phenotype/GWAS-Cohort-n938_passed_g_qc_only_opioid_FOU.csv`\n",
    "\n",
    "* There are 181 subjects in this CASES file.\n",
    "\n",
    "* I need to filter the original `.fam` file based off of the IDs in the FOU phenotype data.\n"
   ]
  },
  {
   "cell_type": "code",
   "execution_count": null,
   "metadata": {
    "collapsed": true
   },
   "outputs": [],
   "source": [
    "### EC2 console ###\n",
    "mkdir -p /shared/s3/ngc_vidus_oaall/{vidus,lung_cancer}\n",
    "cd /shared/s3/ngc_vidus_oaall\n",
    "\n",
    "cp -r ../../sandbox/ngc_vidus-lung_cancer_oaall_case_control/VIDUS/* vidus/\n",
    "cp -r ../../sandbox/ngc_vidus-lung_cancer_oaall_case_control/lung_cancer/* lung_cancer\n",
    "\n",
    "cd /shared/s3/ngc_vidus_oaall/vidus/phenotype\n",
    "\n",
    "# R console on EC2 #\n",
    "pheno <- read.table(\"GWAS-Cohort-n938_passed_g_qc_only_opioid_CASES.csv\", header=T, sep=',')\n",
    "\n",
    "pheno_size <- length(pheno[,1])\n",
    "id_list <- c()\n",
    "\n",
    "for (i in 1:pheno_size){\n",
    "    tmp_num <- sprintf(\"-%04d\", pheno[i,1]) \n",
    "    id_list <- append(id_list, tmp_num)\n",
    "}\n",
    "\n",
    "write(id_list, \"id_list.txt\", sep=\"\\n\")\n",
    "quit()"
   ]
  },
  {
   "cell_type": "code",
   "execution_count": null,
   "metadata": {
    "collapsed": true
   },
   "outputs": [],
   "source": [
    "### EC2 console ###\n",
    "cd /shared/s3/ngc_vidus_oaall/phenotype\n",
    "\n",
    "# filter the fam file based on the subjects that are in the FOU phenotype data\n",
    "# this is needed to create the PLINK filtered datasets to run eigenstrat\n",
    "grep -f id_list.txt ../genotype/original/final/ea_chr_all.fam > filtered.fam\n",
    "awk '{print $1,$2 }' filtered.fam > ea_subject_ids.keep\n",
    "\n",
    "# get covariates\n",
    "awk 'BEGIN{FS=\",\"; OFS=\"\\t\"} {print $1,$2,$17,$20}' GWAS-Cohort-n938_passed_g_qc_only_opioid_CASES.csv > ea_CASES.data\n",
    "head ea_CASES.data\n",
    "\"\"\"\n",
    "gwas_code       female  ageatint        opioidcase\n",
    "3       0       55      1\n",
    "5       0       40      1\n",
    "6       1       35      1\n",
    "11      1       56      1\n",
    "13      0       35      1\n",
    "17      0       34      1\n",
    "18      0       39      1\n",
    "19      0       29      1\n",
    "20      0       37      1\n",
    "\"\"\"\n",
    "\n",
    "# map sex code and gwas_code\n",
    "awk 'NR==FNR{ map[NR]=$1;next } FNR==1{print $0} FNR>=2 {$1=map[FNR-1];print $0}' id_list.txt ea_CASES.data > ea_cases_map.data\n",
    "awk '{ if( $2==0) { $2=2} {print $0}} ' ea_cases_map.data > temp && mv temp ea_cases_map.data && rm temp\n",
    "\n",
    "# make sure there are no missing data for sex, FOU, or age\n",
    "# Note that the phenotype data were already filtered. If they\n",
    "# had not been, we would check for this. I did a visual inspection for \n",
    "# a sanity check though."
   ]
  },
  {
   "cell_type": "code",
   "execution_count": null,
   "metadata": {
    "collapsed": true
   },
   "outputs": [],
   "source": [
    "### R console ###\n",
    "library(MASS)\n",
    "options(repr.plot.width=10, repr.plot.height=17)\n",
    "# note that I copied over the phenotype data to my local machine to produce the plots\n",
    "setwd('C:/Users/jmarks/Desktop/VIDUS/oaall/pheno/')\n",
    "\n",
    "ea.cases.data <- read.table(\"ea_cases_map.data\", header = T, colClasses = c(\"character\", rep(\"integer\",  3)) )\n",
    "table(ea.cases.data$female)"
   ]
  },
  {
   "cell_type": "markdown",
   "metadata": {},
   "source": [
    "## Combine cases and controls\n",
    "\n",
    "### Filter vidus subjects based off case status"
   ]
  },
  {
   "cell_type": "code",
   "execution_count": null,
   "metadata": {
    "collapsed": true
   },
   "outputs": [],
   "source": [
    "### EC2 console ###\n",
    "mkdir /shared/s3/ngc_vidus_oaall/vidus/genotype/original/final/filtered\n",
    "cd /shared/s3/ngc_vidus_oaall/vidus/\n",
    "\n",
    "# Remove vidus subjects by phenotype criteria (case status)\n",
    "ancestry=\"ea\"\n",
    "/shared/bioinformatics/software/third_party/plink-1.90-beta-4.10-x86_64/plink \\\n",
    "    --noweb \\\n",
    "    --memory 2048 \\\n",
    "    --bfile genotype/original/final/ea_chr_all \\\n",
    "    --keep phenotype/ea_subject_ids.keep \\\n",
    "    --make-bed \\\n",
    "    --out genotype/original/final/filtered/${ancestry}_cases"
   ]
  },
  {
   "cell_type": "markdown",
   "metadata": {},
   "source": [
    "### Merge test\n",
    "\n",
    "To determine whether any of the SNPs are flipped between studies, a merge is attempted. If any multi-allelic variants are identified (suggestive of flipping) then an error is raised. In this case, position duplicates were identified, but these will be removed during the SNP intersection step."
   ]
  },
  {
   "cell_type": "code",
   "execution_count": null,
   "metadata": {
    "collapsed": true
   },
   "outputs": [],
   "source": [
    "# EC2 command line #\n",
    "mkdir -p /shared/s3/ngc_vidus_oaall/{intersect,merged}/merge_test\n",
    "cd /shared/s3/ngc_vidus_oaall/merged\n",
    "\n",
    "# Attempt data set merge\n",
    "ancestry=\"ea\"\n",
    "/shared/bioinformatics/software/third_party/plink-1.90-beta-4.10-x86_64/plink \\\n",
    "    --noweb \\\n",
    "    --bfile ../lung_cancer/genotype/original/final/ea_chr_all \\\n",
    "    --bmerge ../vidus/genotype/original/final/filtered/${ancestry}_cases \\\n",
    "    --make-bed \\\n",
    "    --out merge_test/merged_unflipped\n",
    "'Error: 25 variants with 3+ alleles present.'\n",
    "\n",
    "ancestry=\"ea\"\n",
    "studies=(lung_cancer vidus) # array of study names\n",
    "\n",
    "# Get first intersection set\n",
    "file1=/shared/s3/ngc_vidus_oaall/${studies[0]}/genotype/original/final/${ancestry}_chr_all.bim\n",
    "file2=/shared/s3/ngc_vidus_oaall/${studies[1]}/genotype/original/final/filtered/${ancestry}_cases.bim\n",
    "echo -e \"\\nCalculating intersection between ${file1} and ${file2}...\\n\"\n",
    "comm -12 <(cut -f 2,2 $file1 | sort -u) <(cut -f 2,2 $file2 | sort -u) \\\n",
    "    > ../intersect/${ancestry}_variant_intersection.txt\n",
    "\n",
    "wc -l ../intersect/ea_variant_intersection.txt\n",
    "'628804 intersect/ea_variant_intersection.txt'\n",
    "\n",
    "cd ../\n",
    "# Make new PLINK binary file set for lung_cancer\n",
    "study=\"lung_cancer\"\n",
    "/shared/bioinformatics/software/third_party/plink-1.90-beta-4.10-x86_64/plink \\\n",
    "    --noweb \\\n",
    "    --bfile /shared/s3/ngc_vidus_oaall/${study}/genotype/original/final/${ancestry}_chr_all \\\n",
    "    --extract intersect/${ancestry}_variant_intersection.txt \\\n",
    "    --exclude merge_test/merged_unflipped-merge.missnp \\\n",
    "    --make-bed \\\n",
    "    --out intersect/${study}_${ancestry}\n",
    "'--extract: 628804 variants remaining.\n",
    "--exclude: 628779 variants remaining.'\n",
    "\n",
    "\n",
    "study=\"vidus\"\n",
    "# Make new PLINK binary file set for vidus\n",
    "/shared/bioinformatics/software/third_party/plink-1.90-beta-4.10-x86_64/plink \\\n",
    "    --noweb \\\n",
    "    --bfile /shared/s3/ngc_vidus_oaall/${study}/genotype/original/final/filtered/${ancestry}_cases \\\n",
    "    --extract intersect/${ancestry}_variant_intersection.txt \\\n",
    "    --exclude merge_test/merged_unflipped-merge.missnp \\\n",
    "    --make-bed \\\n",
    "    --out intersect/${study}_${ancestry}\n",
    "\n",
    "\n",
    "'--extract: 628804 variants remaining.\n",
    "--exclude: 628779 variants remaining.'"
   ]
  },
  {
   "cell_type": "markdown",
   "metadata": {},
   "source": [
    "### Second pass merge\n",
    "To ensure data set compatipatibility, a second pass merge is executed."
   ]
  },
  {
   "cell_type": "code",
   "execution_count": null,
   "metadata": {
    "collapsed": true
   },
   "outputs": [],
   "source": [
    "# EC2 command line #\n",
    "cd /shared/s3/ngc_vidus_oaall/\n",
    "\n",
    "# Re-attempt data set merge\n",
    "ancestry=\"ea\"\n",
    "/shared/bioinformatics/software/third_party/plink-1.90-beta-4.10-x86_64/plink \\\n",
    "    --noweb \\\n",
    "    --bfile intersect/lung_cancer_ea \\\n",
    "    --bmerge intersect/vidus_ea \\\n",
    "    --make-bed \\\n",
    "    --out merge_test/merged_intersect\n",
    "\n",
    "# Clean-up\n",
    "rm -r merge_test"
   ]
  },
  {
   "cell_type": "markdown",
   "metadata": {},
   "source": [
    "No errors after this 2nd pass merge"
   ]
  },
  {
   "cell_type": "markdown",
   "metadata": {},
   "source": [
    "## Assign Cases and Controls"
   ]
  },
  {
   "cell_type": "code",
   "execution_count": null,
   "metadata": {
    "collapsed": true
   },
   "outputs": [],
   "source": [
    "# EC2 command line #\n",
    "cd /shared/s3/ngc_vidus_oaall/\n",
    "\n",
    "# assign case or control status in fam file (1=control 2=case)\n",
    "\n",
    "ancestry=\"ea\"\n",
    "study1=lung_cancer\n",
    "study2=vidus\n",
    "\n",
    "# Modify FAM file to include case/control status\n",
    "awk '{ $6=1; print $0 }' intersect/${study1}_${ancestry}.fam \\\n",
    "    > intersect/${study1}_${ancestry}_control.fam\n",
    "awk '{ $6=2; print $0 }' intersect/${study2}_${ancestry}.fam \\\n",
    "    > intersect/${study2}_${ancestry}_case.fam"
   ]
  },
  {
   "cell_type": "markdown",
   "metadata": {},
   "source": [
    "## EIGENSTRAT\n",
    "To obtain principal component covariates to use in the GWAS statistical model, EIGENSTRAT is run on LD-pruned observed genotypes for each ancestry group. Usually a GRCh37 plus strand check is implemented, as well as a monomorphic SNP filter and discordant allele flip. Since this was already done for data in preparation for haplotype phasing, the haplotype phasing input PLINK files will be used. Note: In addition to these aforementioned data processing steps, ambiguous SNPs identified by reference panel frequency differences in the discordant allele checks were also removed prior to phasing.\n",
    "\n",
    "### PLINK file set merge and MAF filter\n",
    "* Combine the PLINK file sets to form a cases+controls PLINK fileset"
   ]
  },
  {
   "cell_type": "code",
   "execution_count": null,
   "metadata": {
    "collapsed": true
   },
   "outputs": [],
   "source": [
    "### EC2 console ###\n",
    "mkdir /shared/s3/ngc_vidus_oaall/eigenstrat\n",
    "cd /shared/s3/ngc_vidus_oaall/\n",
    "\n",
    "ancestry=\"ea\"\n",
    "study1=lung_cancer\n",
    "study2=vidus\n",
    "\n",
    "# Create temporary file sets\n",
    "/shared/bioinformatics/software/third_party/plink-1.90-beta-4.10-x86_64/plink \\\n",
    "    --noweb \\\n",
    "    --fam intersect/${study1}_${ancestry}_control.fam \\\n",
    "    --bim intersect/${study1}_${ancestry}.bim \\\n",
    "    --bed intersect/${study1}_${ancestry}.bed \\\n",
    "    --make-bed \\\n",
    "    --out eigenstrat/${study1}_${ancestry}.tmp\n",
    "/shared/bioinformatics/software/third_party/plink-1.90-beta-4.10-x86_64/plink \\\n",
    "    --noweb \\\n",
    "    --fam intersect/${study2}_${ancestry}_case.fam \\\n",
    "    --bim intersect/${study2}_${ancestry}.bim \\\n",
    "    --bed intersect/${study2}_${ancestry}.bed \\\n",
    "    --make-bed \\\n",
    "    --out eigenstrat/${study2}_${ancestry}.tmp\n",
    "\n",
    "# Merge file sets\n",
    "/shared/bioinformatics/software/third_party/plink-1.90-beta-4.10-x86_64/plink \\\n",
    "    --noweb \\\n",
    "    --bfile eigenstrat/${study1}_${ancestry}.tmp \\\n",
    "    --bmerge eigenstrat/${study2}_${ancestry}.tmp \\\n",
    "    --allow-no-sex \\\n",
    "    --make-bed \\\n",
    "    --out eigenstrat/${study1}_vs_${study2}_${ancestry}_merged.tmp\n",
    "\n",
    "# MAF > 0.01\n",
    "/shared/bioinformatics/software/third_party/plink-1.90-beta-4.10-x86_64/plink \\\n",
    "    --noweb \\\n",
    "    --bfile eigenstrat/${study1}_vs_${study2}_${ancestry}_merged.tmp \\\n",
    "    --maf 0.01 \\\n",
    "    --make-bed \\\n",
    "    --out eigenstrat/${study1}_vs_${study2}_${ancestry}\n",
    "\n",
    "# Clean up\n",
    "rm eigenstrat/*.tmp.*"
   ]
  },
  {
   "cell_type": "markdown",
   "metadata": {},
   "source": [
    "### Remove high-LD region variants"
   ]
  },
  {
   "cell_type": "code",
   "execution_count": null,
   "metadata": {
    "collapsed": true
   },
   "outputs": [],
   "source": [
    "### EC2 console ###\n",
    "cd /shared/s3/ngc_vidus_oaall/eigenstrat\n",
    "\n",
    "ancestry=\"ea\"\n",
    "study1=lung_cancer\n",
    "study2=vidus\n",
    "\n",
    "# Generate list of variants in known high-LD regions\n",
    "perl -lane 'if (($F[0]==5 && $F[3] >= 43964243 && $F[3] <= 51464243) || ($F[0]==6 && $F[3] >= 24892021 && $F[3] <= 33392022) || ($F[0]==8 && $F[3] >= 7962590 && $F[3] <= 11962591) || ($F[0]==11 && $F[3] >= 45043424 && $F[3] <= 57243424)) { print $F[1].\"\\n\"; }' ${study1}_vs_${study2}_${ancestry}.bim \\\n",
    "    > ${study1}_vs_${study2}_${ancestry}.high_ld_regions.remove\n",
    "            \n",
    "# Remove SNPs in known high-LD regions\n",
    "/shared/bioinformatics/software/third_party/plink-1.90-beta-4.10-x86_64/plink \\\n",
    "    --noweb \\\n",
    "    --bfile ${study1}_vs_${study2}_${ancestry} \\\n",
    "    --exclude ${study1}_vs_${study2}_${ancestry}.high_ld_regions.remove \\\n",
    "    --make-bed \\\n",
    "    --out ${study1}_vs_${study2}_${ancestry}_high_ld_regions_removed"
   ]
  },
  {
   "cell_type": "markdown",
   "metadata": {},
   "source": [
    "### Linkage disequilibrium pruning\n",
    "Linkage disequilibrium (LD) pruning eliminates a large degree of redundancy in the data and reduces the influence of chromosomal artifacts. The objective of LD pruning is to select a subset of variants based off of LD such that the variants in the subset are indepdendent. This filtering will not carry forward to the final processed results, but this step improves the quality of EIGENSTRAT calculations. Consequently, the LD pruned data will be used as input for those calculations.\n",
    "\n",
    "LD pruning is implemented using [PLINK --indep-pairwise](https://www.cog-genomics.org/plink/1.9/ld#indep)."
   ]
  },
  {
   "cell_type": "code",
   "execution_count": null,
   "metadata": {
    "collapsed": true
   },
   "outputs": [],
   "source": [
    "### EC2 console ###\n",
    "cd /shared/s3/ngc_vidus_oaall/eigenstrat\n",
    "\n",
    "ancestry=\"ea\"\n",
    "study1=lung_cancer\n",
    "study2=vidus\n",
    "\n",
    "for chr in {1..23}; do\n",
    "    /shared/bioinformatics/software/scripts/qsub_job.sh \\\n",
    "        --job_name ${study1}_${study2}_${ancestry}_${chr}_ld_prune \\\n",
    "        --script_prefix ${study1}_vs_${study2}_${ancestry}_${chr}_ld_prune \\\n",
    "        --mem 3 \\\n",
    "        --nslots 1 \\\n",
    "        --program /shared/bioinformatics/software/third_party/plink-1.90-beta-4.10-x86_64/plink \\\n",
    "            --noweb \\\n",
    "            --memory 3000 \\\n",
    "            --bfile ${study1}_vs_${study2}_${ancestry}_high_ld_regions_removed \\\n",
    "            --indep-pairwise 1500 150 0.2 \\\n",
    "            --chr ${chr} \\\n",
    "            --out ${study1}_vs_${study2}_${ancestry}_chr${chr}_ld_pruned\n",
    "done\n",
    "\n",
    "# Merge *prune.in files\n",
    "ancestry=\"ea\"\n",
    "study1=lung_cancer\n",
    "study2=vidus\n",
    "cat ${study1}_vs_${study2}_${ancestry}_chr*_ld_pruned.prune.in > ${study1}_vs_${study2}_${ancestry}_chr_all_ld_pruned.prune.in\n",
    "\n",
    "# Create new PLINK filesets with only lD pruned variants\n",
    "/shared/bioinformatics/software/third_party/plink-1.90-beta-4.10-x86_64/plink \\\n",
    "    --noweb \\\n",
    "    --bfile ${study1}_vs_${study2}_${ancestry} \\\n",
    "    --extract ${study1}_vs_${study2}_${ancestry}_chr_all_ld_pruned.prune.in \\\n",
    "    --make-bed \\\n",
    "    --out ${study1}_vs_${study2}_${ancestry}_ld_pruned\n",
    "\n",
    "# Clean up\n",
    "rm *${ancestry}*ld_pruned.{prune.in,prune.out,log}\n",
    "rm *${ancestry}*ld_prune*qsub*\n",
    "rm *${ancestry}*high_ld_regions*\n",
    "rm *${ancestry}*chr23_ld_pruned.hh"
   ]
  },
  {
   "cell_type": "markdown",
   "metadata": {},
   "source": [
    "### Rename BIM/FAM file IDs\n",
    "BIM file IDs have the potential issue of being too long if encoded using the 1000 Genomes Phase 3 IMPUTE2 format. This will cause smartpca to throw an error. To resolve this the IDs are replaced by numeric values. FAM file IDs are treated similarly."
   ]
  },
  {
   "cell_type": "markdown",
   "metadata": {},
   "source": [
    "## Phenotype visualization\n",
    "We will copy over the phenotype data from the cloud to our local machine for this visualization section."
   ]
  },
  {
   "cell_type": "code",
   "execution_count": null,
   "metadata": {
    "collapsed": true
   },
   "outputs": [],
   "source": [
    "### EC2 console ###\n",
    "cd /shared/s3/ngc_vidus_oaall/eigenstrat\n",
    "\n",
    "# Count ID lengths greater than 39 characters\n",
    "ancestry=\"ea\"\n",
    "study1=lung_cancer\n",
    "study2=vidus\n",
    "\n",
    "awk '{ if(length($1)+length($2)>39){print $2} }' ${study1}_vs_${study2}_${ancestry}_ld_pruned.fam | wc -l\n",
    "awk '{ if(length($2)>39){print $2} }' ${study1}_vs_${study2}_${ancestry}_ld_pruned.bim | wc -l\n",
    "\n",
    "# Rename BIM file IDs\n",
    "#awk '{$2=\"ID_\"NR; print $0}' ${study1}_vs_${study2}_${ancestry}_ld_pruned.bim \\\n",
    "#    > ${study1}_vs_${study2}_${ancestry}_ld_pruned_id_renamed.bim\n",
    "\n",
    "# Rename FAM file IDs\n",
    "awk '{$1=\"ID_\"NR; print $0}' ${study1}_vs_${study2}_${ancestry}_ld_pruned.fam \\\n",
    "    > ${study1}_vs_${study2}_${ancestry}_ld_pruned_id_renamed.fam"
   ]
  },
  {
   "cell_type": "markdown",
   "metadata": {},
   "source": [
    "### Run EIGENSTRAT\n",
    "__NOTE__: For `smartpca` to run, the BIM and FAM file IDs need to be less than 39 characters in length. Often this is not a problem, but with a BIM file that has IDs renamed to the 1000 Genomes Phase 3 format, the IDs for indels can exceed the character limit. Also, the EIGENSOFT `bin` directory should be part of the PATH variable.\n",
    "\n",
    "The `smartpca.pl` program documentation is shown below:\n",
    "\n",
    "DOCUMENTATION of `smartpca.pl` program:\n",
    "\n",
    "This program calls the smartpca program (see ../POPGEN/README). \n",
    "For this to work, the bin directory containing smartpca MUST be in your path. \n",
    "See `./example.perl` for a toy example.\n",
    "```\n",
    "../bin/smartpca.pl \n",
    "-i example.geno  : genotype file in any format (see ../CONVERTF/README)\n",
    "-a example.snp   : snp file in any format (see ../CONVERTF/README)\n",
    "-b example.ind   : indiv file in any format (see ../CONVERTF/README)\n",
    "-k k             : (Default is 10) number of principal components to output\n",
    "-o example.pca   : output file of principal components.  Individuals removed\n",
    "                   as outliers will have all values set to 0.0 in this file.\n",
    "-p example.plot  : prefix of output plot files of top 2 principal components.\n",
    "                   (labeling individuals according to labels in indiv file)\n",
    "-e example.eval  : output file of all eigenvalues\n",
    "-l example.log   : output logfile\n",
    "-m maxiter       : (Default is 5) maximum number of outlier removal iterations.\n",
    "                   To turn off outlier removal, set -m 0.\n",
    "-t topk          : (Default is 10) number of principal components along which \n",
    "                   to remove outliers during each outlier removal iteration.\n",
    "-s sigma         : (Default is 6.0) number of standard deviations which an\n",
    "                   individual must exceed, along one of topk top principal\n",
    "           components, in order to be removed as an outlier.\n",
    "\n",
    "OPTIONAL FLAGS:\n",
    "-w poplist       : compute eigenvectors using populations in poplist only,\n",
    "                   where poplist is an ASCII file with one population per line\n",
    "-y plotlist      : output plot will include populations in plotlist only, \n",
    "                   where plotlist is an ASCII file with one population per line\n",
    "-z badsnpname    : list of SNPs which should be excluded from the analysis\n",
    "-q YES/NO        : If set to YES, assume that there is a single population and\n",
    "                   the population field contains real-valued phenotypes.\n",
    "           (Corresponds to qtmode parameter in smartpca program.)\n",
    "           The default value for this parameter is NO.\n",
    "\n",
    "Estimated running time of the smartpca program is \n",
    "  2.5e-12 * nSNP * NSAMPLES^2 hours            if not removing outliers.\n",
    "  2.5e-12 * nSNP * NSAMPLES^2 hours * (1+m)    if m outlier removal iterations.\n",
    "Thus, under the default of up to 5 outlier removal iterations, running time is \n",
    "  up to 1.5e-11 * nSNP * NSAMPLES^2 hours.```"
   ]
  },
  {
   "cell_type": "code",
   "execution_count": null,
   "metadata": {
    "collapsed": true
   },
   "outputs": [],
   "source": [
    "### EC2 console ###\n",
    "cd /shared/s3/ngc_vidus_oaall/eigenstrat\n",
    "\n",
    "mkdir results\n",
    "\n",
    "ancestry=\"ea\"\n",
    "study1=lung_cancer\n",
    "study2=vidus\n",
    "\n",
    "# Run smartpca\n",
    "/shared/bioinformatics/software/scripts/qsub_job.sh \\\n",
    "    --job_name ${study1}_${study2}_${ancestry}_smartpca \\\n",
    "    --script_prefix smartpca_${study1}_vs_${study2}_${ancestry} \\\n",
    "    --mem 7.5 \\\n",
    "    --nslots 1 \\\n",
    "    --priority 0 \\\n",
    "    --program /shared/bioinformatics/software/third_party/EIG-6.1.4/bin/smartpca.perl \\\n",
    "        -i ${study1}_vs_${study2}_${ancestry}_ld_pruned.bed \\\n",
    "        -a ${study1}_vs_${study2}_${ancestry}_ld_pruned.bim \\\n",
    "        -b ${study1}_vs_${study2}_${ancestry}_ld_pruned_id_renamed.fam \\\n",
    "        -o results/${study1}_vs_${study2}_${ancestry}_ld_pruned.pca \\\n",
    "        -p results/${study1}_vs_${study2}_${ancestry}_ld_pruned.plot \\\n",
    "        -e results/${study1}_vs_${study2}_${ancestry}_ld_pruned.eval \\\n",
    "        -l results/${study1}_vs_${study2}_${ancestry}_ld_pruned.pca.log \\\n",
    "        -m 0"
   ]
  },
  {
   "cell_type": "markdown",
   "metadata": {},
   "source": [
    "## PCA Plot"
   ]
  },
  {
   "cell_type": "code",
   "execution_count": null,
   "metadata": {
    "collapsed": true
   },
   "outputs": [],
   "source": [
    "### local machine ###\n",
    "\n",
    "# grab data from EC2\n",
    "cd /cygdrive/c/Users/jmarks/Desktop/Projects/Heroin/ngc/oaall/eigenstrat\n",
    "scp -i ~/.ssh/gwas_rsa ec2-user@35.171.207.199:/shared/s3/ngc_vidus_oaall/eigenstrat/results/lung_cancer_vs_vidus_ea_ld_pruned.pca.evec .\n"
   ]
  },
  {
   "cell_type": "code",
   "execution_count": null,
   "metadata": {
    "collapsed": true
   },
   "outputs": [],
   "source": [
    "### R console ###\n",
    "# Load PCA data\n",
    "setwd(\"C:/Users/jmarks/Desktop/Projects/Heroin/ngc/oaall/eigenstrat/\")\n",
    "options(stringsAsFactors = F)\n",
    "ea.evec <- read.table(\"lung_cancer_vs_vidus_ea_ld_pruned.pca.evec\", comment.char=\"#\", sep=\"\", row.names=1)\n",
    "ea.evec[,1:5]"
   ]
  },
  {
   "cell_type": "code",
   "execution_count": null,
   "metadata": {
    "collapsed": true
   },
   "outputs": [],
   "source": [
    "### R console ###\n",
    "# Function for plotting off-diagonal scatterplots\n",
    "plot.offdiag <- function(x, y, colors=label.colors){\n",
    "    #Make x and y axes equal\n",
    "    limits <- c(min(x,y), max(x,y)) * 1.3\n",
    "    par(usr = c(limits, limits))\n",
    "    points(x,y, col=colors, pch=16)\n",
    "}\n",
    "\n",
    "# Function for plotting diagonal density plots\n",
    "plot.diag <- function(x, colors=label.colors){\n",
    "    d <- density(x, bw=0.01, kernel=\"gaussian\")\n",
    "    #Update plot axes limits\n",
    "    par(usr = c(range(d$x), range(d$y)*1.3))\n",
    "    points(d$x,d$y, type=\"l\")\n",
    "    #Add PC values\n",
    "    points(x=x, y=jitter(rep(mean(d$y),times=d$n),factor=5), col=label.colors, pch=16)\n",
    "}\n",
    "\n",
    "#Run PCA and get % variance\n",
    "ea.dspace <- ea.evec[1:10] #transformed dataspace\n",
    "\n",
    "#Color label samples\n",
    "sample.names <- ea.evec[,11]\n",
    "label.colors <- rep(NA, length(sample.names))\n",
    "label.colors[grepl(x=sample.names, pattern=\"Case\", ignore.case=T)] <- rgb(0,80,190,80, maxColorValue=255) #blue\n",
    "label.colors[grepl(x=sample.names, pattern=\"Control\", ignore.case=T)] <- rgb(200,0,0,80, maxColorValue=255) #red\n",
    "legend.cols <- c(rgb(0,80,190,255, maxColorValue=255), rgb(255,0,0,255, maxColorValue=255))\n",
    "\n",
    "###label.colors <- rgb(0,80,190,80, maxColorValue=255) #blue\n",
    "\n",
    "options(repr.plot.width=8, repr.plot.height=8)\n",
    "#Redefine outer margin\n",
    "par(oma = c(4, 1, 2, 1))\n",
    "par(oma = c(4, 1, 2, 1))\n",
    "pairs(x=ea.dspace[,1:5], panel=plot.offdiag, diag.panel=plot.diag, \n",
    "      labels=paste0(\"PC\",1:5), label.pos=0.9, cex.labels=1.8)\n",
    "par(fig=c(0, 1, 0, 1), oma=c(0, 0, 0, 0), mar=c(0, 0, 1.5, 0), new=TRUE)\n",
    "plot(0, 0, type = \"n\", bty = \"n\", xaxt = \"n\", yaxt = \"n\", main=\"VIDUS + Controls (LCNS)\", cex.main=1)\n",
    "\n",
    "par(oma = c(4, 1, 2, 1))\n",
    "pairs(x=ea.dspace[,6:10], panel=plot.offdiag, diag.panel=plot.diag, \n",
    "      labels=paste0(\"PC\",6:10), label.pos=0.9, cex.labels=1.8)\n",
    "par(fig=c(0, 1, 0, 1), oma=c(0, 0, 0, 0), mar=c(0, 0, 1.5, 0), new=TRUE)\n",
    "plot(0, 0, type = \"n\", bty = \"n\", xaxt = \"n\", yaxt = \"n\", main=\"VIDUS + Controls EA\", cex.main=1)\n",
    "legend(\"bottom\", c(\"Lung Cancer\", \"Lymphoma\"), \n",
    "       pch=19, col=legend.cols,\n",
    "       xpd=TRUE, horiz=TRUE, inset=c(0,-0.02), \n",
    "       bty=\"n\", cex=1)\n",
    "\n",
    "\n",
    "#--------------------------------------------------------------------------------\n"
   ]
  },
  {
   "cell_type": "markdown",
   "metadata": {},
   "source": [
    "### Extract Eigenvectors"
   ]
  },
  {
   "cell_type": "code",
   "execution_count": null,
   "metadata": {
    "collapsed": true
   },
   "outputs": [],
   "source": [
    "### EC2 console ###\n",
    "cd /shared/s3/ngc_vidus_oaall/eigenstrat/results\n",
    "\n",
    "# Grab top 10 eigenvectors from PCA \n",
    "ancestry=\"ea\"\n",
    "study1=lung_cancer\n",
    "study2=vidus\n",
    "\n",
    "echo \"FID IID EV1 EV2 EV3 EV4 EV5 EV6 EV7 EV8 EV9 EV10\" > ${study1}_vs_${study2}_${ancestry}_ld_pruned_top10_eigenvecs.txt\n",
    "tail -n +2 ${study1}_vs_${study2}_${ancestry}_ld_pruned.pca.evec | \\\n",
    "    perl -lne 's/:/ /; @F=split; print join(\" \",$F[0],$F[1],$F[2],$F[3],$F[4],$F[5],$F[6],$F[7],$F[8],$F[9],$F[10],$F[11]);' \\\n",
    "    >> ${study1}_vs_${study2}_${ancestry}_ld_pruned_top10_eigenvecs.txt"
   ]
  },
  {
   "cell_type": "markdown",
   "metadata": {},
   "source": [
    "## Phenotype processing\n",
    "The covariates we want to include are age and sex. The coding for case-control status will be case=2 and control=1. Sex should be encoded as male=2 and female=1. For the studies being concatenated the coding is currently:\n",
    "\n",
    "* Lung Cancer: male=1, female=2\n",
    "* VIDUS: male=0, female=1\n",
    "\n",
    "These will be corrected to follow the NGC protocol.\n",
    "\n",
    "\n",
    "__Note__: in the future, need to make sure the subjects for the controls are not missing any phenotype data - i.e. the sex, age, or id. \n",
    "\n",
    "\n",
    "Make PED format phenotype and covariate file according to the NGC protocol\n",
    "### PED file contruction: Controls LCNS"
   ]
  },
  {
   "cell_type": "code",
   "execution_count": null,
   "metadata": {
    "collapsed": true
   },
   "outputs": [],
   "source": [
    "### EC2 console ###\n",
    "cd /shared/s3/ngc_vidus_oaall/lung_cancer/phenotype\n",
    "\n",
    "# copy phenotype file from QC directory\n",
    "cp /shared/data/studies/phs000634_lung_cancer/phenotype/processing/Subject_Phenotypes.GRU-MDS.txt .\n",
    "cp /shared/data/studies/phs000634_lung_cancer/phenotype/processing/Subject.MULTI.txt .\n",
    "\n",
    "# LCNS\n",
    "tail -n +11 Subject_Phenotypes.GRU-MDS.txt | \\\n",
    "    awk 'BEGIN{OFS=\"\\t\"} \n",
    "    { print $2,$3,$5}' > lung_cancer_id_sex_age_covar.txt.copy1\n",
    "\n",
    "# add opioid case status\n",
    "awk ' NR==1{$3=\"oaall\" } NR>=2{ $3=1} {print $3}' lung_cancer_id_sex_age_covar.txt.copy1 > tmp.file\n",
    "\n",
    "# combine that column with other covariates\n",
    "paste lung_cancer_id_sex_age_covar.txt.copy1 tmp.file > lung_cancer_id_sex_age_covar.txt.copy2\n",
    "rm tmp.file\n",
    "\n",
    "# copy fam ID\n",
    "awk '{\n",
    "if (NR==1)\n",
    "    {$1=\"fid\"}\n",
    "{print $1}\n",
    "}' lung_cancer_id_sex_age_covar.txt.copy2 > fid.file\n",
    "\n",
    "# map the LCNS fam id to the subject ID \n",
    "awk 'BEGIN{ OFS=\"\\t\"} NR==FNR{_[$2]=$5;next} $1 in _{$1=_[$1]}1' Subject.MULTI.txt \\\n",
    "    lung_cancer_id_sex_age_covar.txt.copy2 > lung_cancer_id_sex_age_covar.txt.copy3\n",
    "\n",
    "# map sex to NGC protocol specifications\n",
    "awk ' BEGIN {OFS=\"\\t\"}\n",
    "{\n",
    "if ($2==1) \n",
    "    {$2=2}\n",
    "else if ($2==2)\n",
    "    {$2=1}\n",
    "}\n",
    "{print $0}' lung_cancer_id_sex_age_covar.txt.copy3 > lung_cancer_id_sex_age_covar.txt.copy4\n",
    "\n",
    "# add fam id column back to file\n",
    "paste fid.file lung_cancer_id_sex_age_covar.txt.copy4 > lung_cancer_id_sex_age_covar.txt.copy5\n",
    "\n",
    "# change column headers according to NGC protocol\n",
    "awk 'BEGIN {OFS=\"\\t\"}{\n",
    "if (NR==1)\n",
    "    {$2=\"iid\"; $3=\"sex\"; $4=\"age\"}\n",
    "}\n",
    "{print $0}' lung_cancer_id_sex_age_covar.txt.copy5 > lung_cancer_id_sex_age_covar.txt.copy6\n",
    "\n",
    "rm lung_cancer_id_sex_age_covar.txt.copy{1..5}\n",
    "rm fid.file"
   ]
  },
  {
   "cell_type": "markdown",
   "metadata": {},
   "source": [
    "#### pheno file - VIDUS_NGCW1_EUR_phen.ped"
   ]
  },
  {
   "cell_type": "code",
   "execution_count": null,
   "metadata": {
    "collapsed": true
   },
   "outputs": [],
   "source": [
    "### R console ###\n",
    "setwd(\"/shared/s3/ngc_vidus_oaall/lung_cancer/phenotype\")\n",
    "pheno.data <- read.table(\"lung_cancer_id_sex_age_covar.txt.copy6\", sep = \"\\t\", header = T, stringsAsFactors = F, \n",
    "                       colClasses=c(\"character\", \"character\", \"integer\", \"integer\", \"integer\"))\n",
    "\n",
    "pca.data <- read.csv(\"../../eigenstrat/results/lung_cancer_vs_vidus_ea_ld_pruned_top10_eigenvecs.txt\", sep = \" \" , \n",
    "                    colClasses=c(rep(\"character\",times=2), rep(\"double\",times = 10)))\n",
    "\n",
    "ped.file <- data.frame(matrix(ncol = 7, nrow = length(pheno.data[,1])))\n",
    "colnames(ped.file) <- c(\"fid\", \"iid\", \"patid\", \"matid\", \"sex\",  \"oaall\", \"age\")\n",
    "ped.file[,1] <- pheno.data[,1]\n",
    "ped.file[,2] <- pheno.data[,2]\n",
    "ped.file[,5] <- pheno.data[,3]\n",
    "ped.file[,6] <- pheno.data[,5]\n",
    "ped.file[,7] <- pheno.data[,4]\n",
    "\n",
    "write.table(ped.file[,1:6], \"controls_NGCW1_EUR_phen.ped\", sep = \"\\t\", row.names = F, quote=F)"
   ]
  },
  {
   "cell_type": "markdown",
   "metadata": {},
   "source": [
    "#### cov file - VIDUS_NGCW1_EUR_cov.ped"
   ]
  },
  {
   "cell_type": "code",
   "execution_count": null,
   "metadata": {
    "collapsed": true
   },
   "outputs": [],
   "source": [
    "covar.data <- data.frame(matrix(ncol = 16, nrow = length(pheno.data[,1])))\n",
    "colnames(covar.data) <- c(\"fid\", \"iid\", \"patid\", \"matid\", \"sex\", \"age\", \n",
    "                        \"PC1\", \"PC2\",\"PC3\",\"PC4\",\"PC5\",\"PC6\",\"PC7\",\"PC8\",\"PC9\",\"PC10\")\n",
    "covar.data[,1:5] <- ped.file[,1:5]\n",
    "covar.data[,6] <- ped.file[,7]\n",
    "\n",
    "\n",
    "\n",
    "# matching the PCA data with the \n",
    "for (i in 1:length(ped.file[,1])){\n",
    "    key <- covar.data[i,2]\n",
    "    \n",
    "    my_match <- match(key, pca.data[,2])\n",
    "    covar.data[i,7:length(covar.data)] <- pca.data[my_match, 3:length(pca.data)]\n",
    "    \n",
    "} # end i loop\n",
    "\n",
    "write.table(covar.data, \"controls_NGCW1_EUR_cov.ped\", quote=FALSE, row.names = FALSE, sep = \"\\t\")"
   ]
  },
  {
   "cell_type": "markdown",
   "metadata": {},
   "source": [
    "#### Alter iid \n",
    "Need to alter the iid in the `cov` and `phen` files to match the iid in the imputed data.\n",
    "\n",
    "The new `iid` will be of the form: `fid_iid`"
   ]
  },
  {
   "cell_type": "code",
   "execution_count": null,
   "metadata": {
    "collapsed": true
   },
   "outputs": [],
   "source": [
    "awk ' BEGIN{ OFS=\"_\"} NR>=2{ print $1,$2}' controls_NGCW1_EUR_cov.ped > new_iid\n",
    "awk ' BEGIN{ OFS=\"\\t\"} NR==FNR{ map[NR] = $1;next } FNR>=2{$2 = map[FNR-1]} {print $0 }' new_iid controls_NGCW1_EUR_cov.ped "
   ]
  },
  {
   "cell_type": "markdown",
   "metadata": {},
   "source": [
    "### Cases - VIDUS"
   ]
  },
  {
   "cell_type": "markdown",
   "metadata": {},
   "source": [
    "#### phen file"
   ]
  },
  {
   "cell_type": "code",
   "execution_count": null,
   "metadata": {
    "collapsed": true
   },
   "outputs": [],
   "source": [
    "### R ###\n",
    "setwd(\"/shared/s3/ngc_vidus_oaall/vidus/phenotype\")\n",
    "\n",
    "pheno.data <- read.csv(\"ea_cases_map.data\", sep = \"\\t\", header = T, stringsAsFactors = F, \n",
    "                       colClasses=c(\"character\", \"integer\", \"integer\", \"integer\"))\n",
    "\n",
    "pca.data <- read.csv(\"../../eigenstrat/results/lung_cancer_vs_vidus_ea_ld_pruned_top10_eigenvecs.txt\", sep = \" \" , \n",
    "                    colClasses=c(rep(\"character\",times=2), rep(\"double\",times = 10)))\n",
    "\n",
    "ped.file <- data.frame(matrix(ncol = 7, nrow = length(pheno.data[,1])))\n",
    "colnames(ped.file) <- c(\"fid\", \"iid\", \"patid\", \"matid\", \"sex\",  \"oaall\", \"age\")\n",
    "\n",
    "# cases are the last 182 entries\n",
    "ped.file[,1] <- pca.data[1997:2177,2]\n",
    "ped.file[,2] <- pca.data[1997:2177,2]\n",
    "\n",
    "# map loop (goal to fill in sex and oaall on ped.file)\n",
    "for (i in 1:length(ped.file[,1])){\n",
    "    a <- nchar(ped.file[i,1])\n",
    "    key <- substr(ped.file[i,1], a-4, a)\n",
    "    \n",
    "    my_match <- match(key, pheno.data[,1])\n",
    "    ped.file[i,5] <- pheno.data[my_match,2]\n",
    "    ped.file[i,6] <- pheno.data[my_match,4]\n",
    "    ped.file[i,7] <- pheno.data[my_match,3]\n",
    "    \n",
    "} # end i loop\n",
    "\n",
    "write.table(ped.file[,1:6], \"cases_VIDUS_NGCW1_EUR_phen.ped\", sep = \"\\t\", row.names = F, quote=F)"
   ]
  },
  {
   "cell_type": "markdown",
   "metadata": {},
   "source": [
    "#### cov file"
   ]
  },
  {
   "cell_type": "code",
   "execution_count": null,
   "metadata": {
    "collapsed": true
   },
   "outputs": [],
   "source": [
    "covar.data <- data.frame(matrix(ncol = 16, nrow = length(pheno.data[,1])))\n",
    "colnames(covar.data) <- c(\"fid\", \"iid\", \"patid\", \"matid\", \"sex\", \"age\", \n",
    "                        \"PC1\", \"PC2\",\"PC3\",\"PC4\",\"PC5\",\"PC6\",\"PC7\",\"PC8\",\"PC9\",\"PC10\")\n",
    "covar.data[,1:5] <- ped.file[,1:5]\n",
    "covar.data[,6] <- ped.file[,7]\n",
    "\n",
    "# matching the PCA data with the \n",
    "for (i in 1:length(ped.file[,1])){\n",
    "    key <- covar.data[i,2]\n",
    "    \n",
    "    my_match <- match(key, pca.data[,2])\n",
    "    covar.data[i,7:length(covar.data)] <- pca.data[my_match, 3:length(pca.data)]\n",
    "    \n",
    "} # end i loop\n",
    "\n",
    "write.table(covar.data, \"cases_NGCW1_EUR_cov.ped\", quote=FALSE, row.names = FALSE, sep = \"\\t\")"
   ]
  },
  {
   "cell_type": "markdown",
   "metadata": {},
   "source": [
    "* note I need to find out which PCAs to use in the GWAS"
   ]
  },
  {
   "cell_type": "markdown",
   "metadata": {},
   "source": [
    "#### Alter iid \n",
    "Need to alter the iid in the `cov` and `phen` files to match the iid in the imputed data."
   ]
  },
  {
   "cell_type": "code",
   "execution_count": null,
   "metadata": {
    "collapsed": true
   },
   "outputs": [],
   "source": [
    "# cases\n",
    "awk '{OFS=\"_\"} { print $2,$2 } ' cases_NGCW1_EUR_phen.ped > new_id\n",
    "\n",
    "awk 'BEGIN{OFS=\"\\t\"} NR==FNR{ map[NR]=$1; next} FNR>=2{$2=map[FNR]} { print $0}' \\\n",
    "    new_id cases_NGCW1_EUR_phen.ped > phen.tmp && \\\n",
    "    mv phen.tmp cases_NGCW1_EUR_phen.ped\n",
    "awk 'BEGIN{OFS=\"\\t\"} NR==FNR{ map[NR]=$1; next} FNR>=2{$2=map[FNR] } {print $0}' \\\n",
    "    new_id cases_NGCW1_EUR_cov.ped > cov.tmp && \\\n",
    "    mv cov.tmp cases_NGCW1_EUR_cov.ped\n",
    "\n",
    "rm new_id\n",
    "\n",
    "\n",
    "# controls\n",
    "awk '{OFS=\"_\"} { print $2,$2 } ' controls_NGCW1_EUR_phen.ped > new_id\n",
    "\n",
    "awk 'BEGIN{OFS=\"\\t\"} NR==FNR{ map[NR]=$1; next} FNR>=2{$2=map[FNR]} { print $0}' \\\n",
    "    new_id controls_NGCW1_EUR_phen.ped > phen.tmp && \\\n",
    "    mv phen.tmp controls_NGCW1_EUR_phen.ped\n",
    "awk 'BEGIN{OFS=\"\\t\"} NR==FNR{ map[NR]=$1; next} FNR>=2{$2=map[FNR] } {print $0}' \\\n",
    "    new_id controls_NGCW1_EUR_cov.ped > cov.tmp && \\\n",
    "    mv cov.tmp controls_NGCW1_EUR_cov.ped\n",
    "\n",
    "rm new_id"
   ]
  },
  {
   "cell_type": "markdown",
   "metadata": {},
   "source": [
    "### Merge cases and controls PED files"
   ]
  },
  {
   "cell_type": "code",
   "execution_count": null,
   "metadata": {
    "collapsed": true
   },
   "outputs": [],
   "source": [
    "### EC2 console ###\n",
    "cd /shared/s3/ngc_vidus_oaall/data/phenotype\n",
    "\n",
    "cp ../../vidus/phenotype/cases_NGCW1_EUR_* .\n",
    "cp ../../lung_cancer/phenotype/controls_NGCW1_EUR_* .\n",
    "\n",
    "cat cases_NGCW1_EUR_cov.ped > VIDUS_NGCW1_EUR_cov.ped\n",
    "tail -n +2 controls_NGCW1_EUR_cov.ped >> VIDUS_NGCW1_EUR_cov.ped\n",
    "\n",
    "cat cases_NGCW1_EUR_phen.ped > VIDUS_NGCW1_EUR_phen.ped\n",
    "tail -n +2 controls_NGCW1_EUR_phen.ped >> VIDUS_NGCW1_EUR_phen.ped\n",
    "\n",
    "\n",
    "# make sure the files have a consistent delimiter across the board\n",
    "awk ' BEGIN{ OFS = \"\\t\" } $1=$1 { print $0 }' VIDUS_NGCW1_EUR_phen.ped > temp && mv temp VIDUS_NGCW1_EUR_phen.ped\n",
    "awk ' BEGIN{ OFS = \"\\t\" } $1=$1 { print $0 }' VIDUS_NGCW1_EUR_cov.ped > temp && mv temp VIDUS_NGCW1_EUR_cov.ped\n",
    "\n",
    "rm cases_NGCW1_EUR_*\n",
    "rm controls*"
   ]
  },
  {
   "cell_type": "markdown",
   "metadata": {},
   "source": [
    "### Alter code for case status for VIDUS cases"
   ]
  },
  {
   "cell_type": "code",
   "execution_count": null,
   "metadata": {
    "collapsed": true
   },
   "outputs": [],
   "source": [
    "cd /shared/s3/ngc_vidus_oaall/data/phenotype\n",
    " awk ' BEGIN{OFS = \"\\t\"} NR <= 182 && NR >=2 {$6 = 2} {print $0}' VIDUS_NGCW1_EUR_phen.ped >\\\n",
    "    temp && mv temp VIDUS_NGCW1_EUR_phen.ped"
   ]
  },
  {
   "cell_type": "markdown",
   "metadata": {},
   "source": [
    "## PC Selection\n",
    "Determine which PCs (eigenvectors) contribute the most influence and include them in the GWAS as covariates. Include the PCs which contribute to at least %75 of the variance.\n",
    "\n",
    "__Note__: we will perform this on our local machine for convenience."
   ]
  },
  {
   "cell_type": "code",
   "execution_count": null,
   "metadata": {
    "collapsed": true
   },
   "outputs": [],
   "source": [
    "$ scp -i ~/.ssh/gwas_rsa ec2-user@35.171.207.199:/shared/s3/ngc_vidus_oaall/data/phenotype/* Projects/Heroin/ngc/oaall/phenotype"
   ]
  },
  {
   "cell_type": "code",
   "execution_count": 1,
   "metadata": {
    "collapsed": true
   },
   "outputs": [],
   "source": [
    "### R console ###\n",
    "\n",
    "# Load PCA data\n",
    "setwd('C:/Users/jmarks/Desktop/Projects/Heroin/ngc/oaall/phenotype')\n",
    "options(stringsAsFactors=F)\n",
    "ea.cov.data <- read.delim(\"VIDUS_NGCW1_EUR_cov.ped\", header=T, sep=\"\\t\")\n",
    "ea.phen.data <- read.delim(\"VIDUS_NGCW1_EUR_phen.ped\", header=T, sep=\"\\t\")\n",
    "\n",
    "# Combine PCs and phenotype into one data frame\n",
    "phen.name <- \"oaall\"\n",
    "pc.names <- paste0(\"PC\", 1:10)\n",
    "ea.data <- merge(x=ea.phen.data[,c(\"iid\",phen.name)], y=ea.cov.data[, c(\"iid\", paste0(\"PC\",1:10))], by=\"iid\")"
   ]
  },
  {
   "cell_type": "markdown",
   "metadata": {},
   "source": [
    "## Regression analysis\n",
    "We use a regression model of the general structure\n",
    "\\begin{align}\n",
    "\\text{FOU = PC1 + PC2 + ... + PC10}\n",
    "\\end{align}"
   ]
  },
  {
   "cell_type": "code",
   "execution_count": 2,
   "metadata": {},
   "outputs": [
    {
     "name": "stdout",
     "output_type": "stream",
     "text": [
      "MODEL FORMULA:\n",
      "\n",
      " oaall ~ PC1 + PC2 + PC3 + PC4 + PC5 + PC6 + PC7 + PC8 + PC9 + PC10 \n",
      "\n",
      "\n",
      "================ EA group ================"
     ]
    },
    {
     "data": {
      "text/plain": [
       "\n",
       "Call:\n",
       "lm(formula = as.formula(model.str), data = ea.data)\n",
       "\n",
       "Residuals:\n",
       "     Min       1Q   Median       3Q      Max \n",
       "-0.44862 -0.07556 -0.00563  0.06814  0.51896 \n",
       "\n",
       "Coefficients:\n",
       "             Estimate Std. Error t value Pr(>|t|)    \n",
       "(Intercept)  1.083145   0.002515 430.613  < 2e-16 ***\n",
       "PC1          0.057072   0.117364   0.486  0.62682    \n",
       "PC2          1.605367   0.117362  13.679  < 2e-16 ***\n",
       "PC3          9.868194   0.117364  84.082  < 2e-16 ***\n",
       "PC4         -0.193696   0.117362  -1.650  0.09900 .  \n",
       "PC5          1.435726   0.117362  12.233  < 2e-16 ***\n",
       "PC6         -5.801138   0.117361 -49.430  < 2e-16 ***\n",
       "PC7          0.254175   0.117364   2.166  0.03044 *  \n",
       "PC8         -0.487866   0.117367  -4.157 3.35e-05 ***\n",
       "PC9         -0.314956   0.117365  -2.684  0.00734 ** \n",
       "PC10        -0.069545   0.117364  -0.593  0.55354    \n",
       "---\n",
       "Signif. codes:  0 '***' 0.001 '**' 0.01 '*' 0.05 '.' 0.1 ' ' 1\n",
       "\n",
       "Residual standard error: 0.1174 on 2166 degrees of freedom\n",
       "  (2 observations deleted due to missingness)\n",
       "Multiple R-squared:  0.8202,\tAdjusted R-squared:  0.8194 \n",
       "F-statistic: 988.2 on 10 and 2166 DF,  p-value: < 2.2e-16\n"
      ]
     },
     "metadata": {},
     "output_type": "display_data"
    },
    {
     "data": {
      "text/html": [
       "<table>\n",
       "<thead><tr><th></th><th scope=col>Df</th><th scope=col>Sum Sq</th><th scope=col>Mean Sq</th><th scope=col>F value</th><th scope=col>Pr(&gt;F)</th><th scope=col>PVE</th></tr></thead>\n",
       "<tbody>\n",
       "\t<tr><th scope=row>PC3</th><td>1           </td><td>97.377888664</td><td>97.377888664</td><td>7069.7406344</td><td>0.000000e+00</td><td>71.54       </td></tr>\n",
       "\t<tr><th scope=row>PC6</th><td>1           </td><td>33.653635410</td><td>33.653635410</td><td>2443.2905357</td><td>0.000000e+00</td><td>24.72       </td></tr>\n",
       "\t<tr><th scope=row>PC2</th><td>1           </td><td> 2.577168570</td><td> 2.577168570</td><td> 187.1052414</td><td>6.487391e-41</td><td> 1.89       </td></tr>\n",
       "\t<tr><th scope=row>PC5</th><td>1           </td><td> 2.060871185</td><td> 2.060871185</td><td> 149.6214896</td><td>2.565479e-33</td><td> 1.51       </td></tr>\n",
       "\t<tr><th scope=row>PC8</th><td>1           </td><td> 0.238007426</td><td> 0.238007426</td><td>  17.2795980</td><td>3.351871e-05</td><td> 0.17       </td></tr>\n",
       "\t<tr><th scope=row>PC9</th><td>1           </td><td> 0.099194782</td><td> 0.099194782</td><td>   7.2016491</td><td>7.339093e-03</td><td> 0.07       </td></tr>\n",
       "\t<tr><th scope=row>PC7</th><td>1           </td><td> 0.064608247</td><td> 0.064608247</td><td>   4.6906290</td><td>3.043634e-02</td><td> 0.05       </td></tr>\n",
       "\t<tr><th scope=row>PC4</th><td>1           </td><td> 0.037486043</td><td> 0.037486043</td><td>   2.7215275</td><td>9.914823e-02</td><td> 0.03       </td></tr>\n",
       "\t<tr><th scope=row>PC1</th><td>1           </td><td> 0.003348685</td><td> 0.003348685</td><td>   0.2431182</td><td>6.220130e-01</td><td> 0.00       </td></tr>\n",
       "\t<tr><th scope=row>PC10</th><td>1           </td><td> 0.004836362</td><td> 0.004836362</td><td>   0.3511252</td><td>5.535387e-01</td><td> 0.00       </td></tr>\n",
       "</tbody>\n",
       "</table>\n"
      ],
      "text/latex": [
       "\\begin{tabular}{r|llllll}\n",
       "  & Df & Sum Sq & Mean Sq & F value & Pr(>F) & PVE\\\\\n",
       "\\hline\n",
       "\tPC3 & 1            & 97.377888664 & 97.377888664 & 7069.7406344 & 0.000000e+00 & 71.54       \\\\\n",
       "\tPC6 & 1            & 33.653635410 & 33.653635410 & 2443.2905357 & 0.000000e+00 & 24.72       \\\\\n",
       "\tPC2 & 1            &  2.577168570 &  2.577168570 &  187.1052414 & 6.487391e-41 &  1.89       \\\\\n",
       "\tPC5 & 1            &  2.060871185 &  2.060871185 &  149.6214896 & 2.565479e-33 &  1.51       \\\\\n",
       "\tPC8 & 1            &  0.238007426 &  0.238007426 &   17.2795980 & 3.351871e-05 &  0.17       \\\\\n",
       "\tPC9 & 1            &  0.099194782 &  0.099194782 &    7.2016491 & 7.339093e-03 &  0.07       \\\\\n",
       "\tPC7 & 1            &  0.064608247 &  0.064608247 &    4.6906290 & 3.043634e-02 &  0.05       \\\\\n",
       "\tPC4 & 1            &  0.037486043 &  0.037486043 &    2.7215275 & 9.914823e-02 &  0.03       \\\\\n",
       "\tPC1 & 1            &  0.003348685 &  0.003348685 &    0.2431182 & 6.220130e-01 &  0.00       \\\\\n",
       "\tPC10 & 1            &  0.004836362 &  0.004836362 &    0.3511252 & 5.535387e-01 &  0.00       \\\\\n",
       "\\end{tabular}\n"
      ],
      "text/markdown": [
       "\n",
       "| <!--/--> | Df | Sum Sq | Mean Sq | F value | Pr(>F) | PVE | \n",
       "|---|---|---|---|---|---|---|---|---|---|\n",
       "| PC3 | 1            | 97.377888664 | 97.377888664 | 7069.7406344 | 0.000000e+00 | 71.54        | \n",
       "| PC6 | 1            | 33.653635410 | 33.653635410 | 2443.2905357 | 0.000000e+00 | 24.72        | \n",
       "| PC2 | 1            |  2.577168570 |  2.577168570 |  187.1052414 | 6.487391e-41 |  1.89        | \n",
       "| PC5 | 1            |  2.060871185 |  2.060871185 |  149.6214896 | 2.565479e-33 |  1.51        | \n",
       "| PC8 | 1            |  0.238007426 |  0.238007426 |   17.2795980 | 3.351871e-05 |  0.17        | \n",
       "| PC9 | 1            |  0.099194782 |  0.099194782 |    7.2016491 | 7.339093e-03 |  0.07        | \n",
       "| PC7 | 1            |  0.064608247 |  0.064608247 |    4.6906290 | 3.043634e-02 |  0.05        | \n",
       "| PC4 | 1            |  0.037486043 |  0.037486043 |    2.7215275 | 9.914823e-02 |  0.03        | \n",
       "| PC1 | 1            |  0.003348685 |  0.003348685 |    0.2431182 | 6.220130e-01 |  0.00        | \n",
       "| PC10 | 1            |  0.004836362 |  0.004836362 |    0.3511252 | 5.535387e-01 |  0.00        | \n",
       "\n",
       "\n"
      ],
      "text/plain": [
       "     Df Sum Sq       Mean Sq      F value      Pr(>F)       PVE  \n",
       "PC3  1  97.377888664 97.377888664 7069.7406344 0.000000e+00 71.54\n",
       "PC6  1  33.653635410 33.653635410 2443.2905357 0.000000e+00 24.72\n",
       "PC2  1   2.577168570  2.577168570  187.1052414 6.487391e-41  1.89\n",
       "PC5  1   2.060871185  2.060871185  149.6214896 2.565479e-33  1.51\n",
       "PC8  1   0.238007426  0.238007426   17.2795980 3.351871e-05  0.17\n",
       "PC9  1   0.099194782  0.099194782    7.2016491 7.339093e-03  0.07\n",
       "PC7  1   0.064608247  0.064608247    4.6906290 3.043634e-02  0.05\n",
       "PC4  1   0.037486043  0.037486043    2.7215275 9.914823e-02  0.03\n",
       "PC1  1   0.003348685  0.003348685    0.2431182 6.220130e-01  0.00\n",
       "PC10 1   0.004836362  0.004836362    0.3511252 5.535387e-01  0.00"
      ]
     },
     "metadata": {},
     "output_type": "display_data"
    }
   ],
   "source": [
    "# Build model formula\n",
    "model.str <- paste0(phen.name, \" ~ \", paste(pc.names, collapse=\" + \"))\n",
    "cat(\"MODEL FORMULA:\\n\\n\", model.str, \"\\n\")\n",
    "\n",
    "# Get model fits\n",
    "lm.fit.ea <- lm(formula=as.formula(model.str), data=ea.data)\n",
    "\n",
    "# Get sequential (type I) sum of squares\n",
    "anova.ea <- anova(lm.fit.ea)\n",
    "\n",
    "# Calculate percent variance explained and sort\n",
    "ea.pve <- cbind(anova.ea[pc.names,], \n",
    "                PVE=round(anova.ea[pc.names, \"Mean Sq\"]/sum(anova.ea[pc.names, \"Mean Sq\"])*100, digits=2))\n",
    "ea.pve.sorted <- ea.pve[order(ea.pve$PVE, decreasing=T),]\n",
    "\n",
    "# Output regression info\n",
    "cat(\"\\n\\n================ EA group ================\")\n",
    "summary(lm.fit.ea)\n",
    "ea.pve.sorted"
   ]
  },
  {
   "cell_type": "markdown",
   "metadata": {},
   "source": [
    "## Percent Variance Explained Visualization"
   ]
  },
  {
   "cell_type": "code",
   "execution_count": 3,
   "metadata": {},
   "outputs": [
    {
     "data": {
      "image/png": "[encoded data removed]",
      "text/plain": [
       "Plot with title \"EA PVE Cumulative Sum\""
      ]
     },
     "metadata": {},
     "output_type": "display_data"
    },
    {
     "data": {
      "image/png": "[encoded data removed]",
      "text/plain": [
       "Plot with title \"EA PVE Cumulative Sum (Sorted PCs)\""
      ]
     },
     "metadata": {},
     "output_type": "display_data"
    }
   ],
   "source": [
    "options(repr.plot.width=13, repr.plot.height=5)\n",
    "\n",
    "# Set graphical parameters\n",
    "cex.factor = 0.9\n",
    "barplot.ylim.ea = c(0, max(ea.pve$PVE)*1.2)\n",
    "\n",
    "# Visualize PVE\n",
    "par(mfrow=c(1,2))\n",
    "barplot(height=ea.pve$PVE, names.arg=rownames(ea.pve), beside=T, cex.names=cex.factor, \n",
    "        col=\"red3\", border=\"red3\", ylim=barplot.ylim.ea, \n",
    "        main=\"EA Percent Variance Explained\", ylab=\"PVE\")\n",
    "plot(cumsum(ea.pve$PVE), type=\"b\", main=\"EA PVE Cumulative Sum\", ylab=\"PVE\", \n",
    "     lwd=2, col=\"red3\", pch=17, xaxt=\"n\", xlab=\"\", ylim=c(0,100))\n",
    "axis(side=1, at=c(1:10), labels=rownames(ea.pve), cex.axis=cex.factor)\n",
    "\n",
    "par(mfrow=c(1,2))\n",
    "barplot(height=ea.pve.sorted$PVE, names.arg=rownames(ea.pve.sorted), beside=T, cex.names=cex.factor, \n",
    "        col=\"red3\", border=\"red3\", ylim=barplot.ylim.ea, main=\"EA Percent Variance Explained (Sorted PCs)\", ylab=\"PVE\")\n",
    "plot(cumsum(ea.pve.sorted$PVE), type=\"b\", main=\"EA PVE Cumulative Sum (Sorted PCs)\", ylab=\"PVE\", \n",
    "     lwd=2, col=\"red3\", pch=17, xaxt=\"n\", xlab=\"\", ylim=c(0,100))\n",
    "axis(side=1, at=c(1:10), labels=rownames(ea.pve.sorted), cex.axis=cex.factor)\n"
   ]
  },
  {
   "cell_type": "markdown",
   "metadata": {},
   "source": [
    "Based on these results we will include PC3 and PC6, which explain ~95 percent of the variance. "
   ]
  },
  {
   "cell_type": "markdown",
   "metadata": {},
   "source": [
    "## Run GWAS\n",
    "### Autosomes"
   ]
  },
  {
   "cell_type": "code",
   "execution_count": null,
   "metadata": {
    "collapsed": true
   },
   "outputs": [],
   "source": [
    "# inflate chr results\n",
    "for f in {1..22};do\n",
    "    echo '#!/bin/bash' > chr_$f.sh\n",
    "    echo '' >> chr_$f.sh\n",
    "    echo 'unzip -P \";7J4dgCwGjAiuG\" chr_'$f'.zip' >> chr_$f.sh\n",
    "done\n",
    "\n",
    "for chr in {1..22}; do\n",
    "    sh /shared/bioinformatics/software/scripts/qsub_job.sh \\\n",
    "        --job_name inflate_chr${chr} \\\n",
    "        --script_prefix test/chr${chr}_results \\\n",
    "        --mem 5 \\\n",
    "        --priority 0 \\\n",
    "        --program bash chr_${chr}.sh \n",
    "done"
   ]
  },
  {
   "cell_type": "code",
   "execution_count": null,
   "metadata": {
    "collapsed": true
   },
   "outputs": [],
   "source": [
    "# Command line # \n",
    "mkdir -p /shared/s3/ngc_vidus_oaall/data/assoc_tests\n",
    "cd /shared/s3/ngc_vidus_oaall/data\n",
    "\n",
    "\n",
    "# Run RVtest\n",
    "ancestry=\"ea\"\n",
    "for chr in {1..22}; do\n",
    "    sh /shared/bioinformatics/software/scripts/qsub_job.sh \\\n",
    "        --job_name ${ancestry}_${chr}_rvtest \\\n",
    "        --script_prefix assoc_tests/${ancestry}_${chr}_rvtest \\\n",
    "        --mem 7.5 \\\n",
    "        --nslots 2 \\\n",
    "        --priority 0 \\\n",
    "        --program /shared/bioinformatics/software/third_party/rvtests/executable/rvtest \\\n",
    "            --inVcf genotype/imputed/${ancestry}/chr${chr}.dose.vcf.gz \\\n",
    "            --pheno phenotype/VIDUS_NGCW1_EUR_phen.ped \\\n",
    "            --pheno-name oaall \\\n",
    "            --covar phenotype/VIDUS_NGCW1_EUR_cov.ped \\\n",
    "            --covar-name sex,age,PC3,PC6 \\\n",
    "            --xLabel X \\\n",
    "            --meta score \\\n",
    "            --useResidualAsPhenotype \\\n",
    "            --inverseNormal \\\n",
    "            --qtl \\\n",
    "            --dosage DS \\\n",
    "            --out assoc_tests/VIDUS_EUR_1000G_oaall_chr${chr}\n",
    "done"
   ]
  },
  {
   "cell_type": "markdown",
   "metadata": {
    "collapsed": true
   },
   "source": [
    "## Results processing\n",
    "\n",
    "### Unfiltered results"
   ]
  },
  {
   "cell_type": "code",
   "execution_count": null,
   "metadata": {
    "collapsed": true
   },
   "outputs": [],
   "source": [
    "### EC2 console ###\n",
    "cd /shared/s3/ngc_vidus_oaall/data/assoc_tests \n",
    "\n",
    "# Concatenate chr results together\n",
    "ancestry=\"EUR\"\n",
    "test=\"oaall\"\n",
    "echo -e \"\\n\\n ======== ${ancestry} ======== \\n\\n\"\n",
    "for chr in {1..22}; do\n",
    "    zgrep -P \"^${chr}\\s\" VIDUS_${ancestry}_1000G_${test}_chr${chr}.MetaScore.assoc.gz\n",
    "done |\n",
    "    gzip -c > VIDUS_${ancestry}_1000G_${test}.gz\n",
    "\n",
    "# Make results table\n",
    "ancestry=\"EUR\"\n",
    "outfile=VIDUS_${ancestry}_1000G_${test}.assoc.table\n",
    "echo -e \"VARIANT_ID\\tCHR\\tPOSITION\\tP\\tTYPE\" > $outfile\n",
    "infile=VIDUS_${ancestry}_1000G_${test}.gz\n",
    "echo \"Processing ${infile}\"\n",
    "zcat ${infile} | \\\n",
    "    perl -lane 'if (($F[2] eq \"A\" || $F[2] eq \"C\" || $F[2] eq \"G\" || $F[2] eq \"T\") && (($F[3] eq \"A\" || $F[3] eq \"C\" || $F[3] eq \"G\" || $F[3] eq \"T\"))) {\n",
    "                    print join(\"\\t\",$F[0].\":\".$F[1],$F[0],$F[1],$F[15],\"snp\");\n",
    "                } else {\n",
    "                    print join(\"\\t\",$F[0].\":\".$F[1],$F[0],$F[1],$F[15],\"indel\");\n",
    "                }' >> $outfile\n",
    "\n",
    "# Make Q-Q and manhattan plots\n",
    "ancestry=EUR\n",
    "# Plot all chromosomes\n",
    "sh /shared/bioinformatics/software/scripts/qsub_job.sh \\\n",
    "    --job_name gwas_plots_${ancestry} \\\n",
    "    --script_prefix VIDUS_${ancestry}_1000G_${test}.assoc.plot \\\n",
    "    --mem 30.6 \\\n",
    "    --priority 0 \\\n",
    "    --program Rscript /shared/bioinformatics/software/R/generate_gwas_plots.R \\\n",
    "        --in VIDUS_${ancestry}_1000G_${test}.assoc.table \\\n",
    "        --in_chromosomes autosomal_nonPAR \\\n",
    "        --in_header \\\n",
    "        --out VIDUS_${ancestry}_1000G_${test}.assoc.plot.all_chr \\\n",
    "        --col_id VARIANT_ID \\\n",
    "        --col_chromosome CHR \\\n",
    "        --col_position POSITION \\\n",
    "        --col_p P \\\n",
    "        --col_variant_type TYPE \\\n",
    "        --generate_snp_indel_manhattan_plot \\\n",
    "        --manhattan_odd_chr_color red3 \\\n",
    "        --manhattan_even_chr_color dodgerblue3 \\\n",
    "        --manhattan_points_cex 1.5 \\\n",
    "        --generate_snp_indel_qq_plot \\\n",
    "        --qq_lines \\\n",
    "        --qq_points_bg black \\\n",
    "        --qq_lambda"
   ]
  },
  {
   "cell_type": "code",
   "execution_count": null,
   "metadata": {
    "collapsed": true
   },
   "outputs": [],
   "source": [
    "### local machine ###\n",
    "scp -i ~/.ssh/gwas_rsa ec2-user@35.171.207.199:/shared/s3/ngc_vidus_oaall/data/assoc_tests/VIDUS_EUR_1000G_oaall.assoc.plot.all_chr.snps+indels.* Projects/Heroin/ngc/oaall/plots/nonfiltered             "
   ]
  },
  {
   "cell_type": "markdown",
   "metadata": {
    "collapsed": true
   },
   "source": [
    "### MAF > 0.01 and imputation quality > 0.3"
   ]
  },
  {
   "cell_type": "code",
   "execution_count": null,
   "metadata": {
    "collapsed": true
   },
   "outputs": [],
   "source": [
    "### EC2 console ###\n",
    "cd /shared/s3/ngc_vidus_oaall/data/assoc_tests \n",
    "\n",
    "# Get list of variants to filter by imputation quality\n",
    "ancestry=\"ea\"\n",
    "for chr in {1..22}; do\n",
    "    echo -e \"${ancestry} chr${chr}...\"\n",
    "    zcat ../genotype/imputed/ea/chr${chr}.info.gz | \\\n",
    "        tail -n +2 | \\\n",
    "        awk '{ if($5 > 0.01 && $7 > 0.3){ print $1\":\"$2\":\"$3 } }' \\\n",
    "        > ${ancestry}_chr${chr}_variants_maf_gt_0.01_rsq_gt_0.3.keep\n",
    "done\n",
    "\n",
    "# Filter results files\n",
    "study=\"oaall\"\n",
    "ancestry=ea\n",
    "ancestry=EUR\n",
    "for chr in {1..22}; do\n",
    "    echo \"chr${chr}...\"\n",
    "    awk '{ if(NR==FNR){ map[$1]=1; next } { if(map[$1\":\"$2\":\"$3\":\"$4]==1){ print $0 } } }' \\\n",
    "        ea_chr${chr}_variants_maf_gt_0.01_rsq_gt_0.3.keep \\\n",
    "        <(zgrep -P \"^${chr}\\s\" VIDUS_${ancestry}_1000G_${study}_chr${chr}.MetaScore.assoc.gz) \\\n",
    "        > VIDUS_${ancestry}_1000G_${study}_chr${chr}.tmp\n",
    "done \n",
    "cat VIDUS_${ancestry}_1000G_${study}_chr*tmp | gzip -c > VIDUS_${ancestry}_1000G_${study}_maf_gt_0.01_rsq_gt_0.3.gz\n",
    "\n",
    "# Clean up\n",
    "rm *tmp\n",
    "\n",
    "# Make results table\n",
    "ancestry=\"EUR\"\n",
    "outfile=VIDUS_${ancestry}_1000G_${study}_maf_gt_0.01_rsq_gt_0.3.assoc.table\n",
    "echo -e \"VARIANT_ID\\tCHR\\tPOSITION\\tP\\tTYPE\" > $outfile\n",
    "infile=VIDUS_${ancestry}_1000G_${study}_maf_gt_0.01_rsq_gt_0.3.gz\n",
    "echo \"Processing ${infile}\"\n",
    "zcat ${infile} | \\\n",
    "    perl -lane 'if (($F[2] eq \"A\" || $F[2] eq \"C\" || $F[2] eq \"G\" || $F[2] eq \"T\") && (($F[3] eq \"A\" || $F[3] eq \"C\" || $F[3] eq \"G\" || $F[3] eq \"T\"))) {\n",
    "                    print join(\"\\t\",$F[0].\":\".$F[1],$F[0],$F[1],$F[15],\"snp\");\n",
    "                } else {\n",
    "                    print join(\"\\t\",$F[0].\":\".$F[1],$F[0],$F[1],$F[15],\"indel\");\n",
    "                }' >> $outfile\n",
    "\n",
    "# Make Q-Q and manhattan plots\n",
    "ancestry=\"EUR\"\n",
    "# Plot all chromosomes\n",
    "sh /shared/bioinformatics/software/scripts/qsub_job.sh \\\n",
    "    --job_name gwas_plots_${ancestry} \\\n",
    "    --script_prefix VIDUS_${ancestry}_1000G_${study}_maf_gt_0.01_rsq_gt_0.3.assoc.plot \\\n",
    "    --mem 30.6 \\\n",
    "    --priority 0 \\\n",
    "    --program Rscript /shared/bioinformatics/software/R/generate_gwas_plots.R \\\n",
    "        --in VIDUS_${ancestry}_1000G_${study}_maf_gt_0.01_rsq_gt_0.3.assoc.table \\\n",
    "        --in_chromosomes autosomal_nonPAR \\\n",
    "        --in_header \\\n",
    "        --out VIDUS_${ancestry}_1000G_${study}_maf_gt_0.01_rsq_gt_0.3.assoc.plot.all_chr \\\n",
    "        --col_id VARIANT_ID \\\n",
    "        --col_chromosome CHR \\\n",
    "        --col_position POSITION \\\n",
    "        --col_p P \\\n",
    "        --col_variant_type TYPE \\\n",
    "        --generate_snp_indel_manhattan_plot \\\n",
    "        --manhattan_odd_chr_color red3 \\\n",
    "        --manhattan_even_chr_color dodgerblue3 \\\n",
    "        --manhattan_points_cex 1.5 \\\n",
    "        --generate_snp_indel_qq_plot \\\n",
    "        --qq_lines \\\n",
    "        --qq_points_bg black \\\n",
    "        --qq_lambda"
   ]
  },
  {
   "cell_type": "code",
   "execution_count": null,
   "metadata": {
    "collapsed": true
   },
   "outputs": [],
   "source": [
    "### local machine ###\n",
    "scp -i ~/.ssh/gwas_rsa ec2-user@35.171.207.199:/shared/s3/ngc_vidus_oaall/data/assoc_tests/VIDUS_EUR_1000G_maf_gt_0.01_rsq_gt_0.3_oaall.assoc.plot.all_chr.snps+indels.* Projects/Heroin/ngc/oaall/plots/filtered             "
   ]
  },
  {
   "cell_type": "markdown",
   "metadata": {
    "collapsed": true
   },
   "source": [
    "## PCA Plots\n",
    "The NGC protocol calls for the submission of the samples projected onto 1000G superpopulation PCA space (EUR, AFR, EAS)."
   ]
  },
  {
   "cell_type": "code",
   "execution_count": null,
   "metadata": {
    "collapsed": true
   },
   "outputs": [],
   "source": [
    "mkdir -p /shared/s3/ngc_vidus_oaall/cohort_projected_on_1000g/1000g\n",
    "cd /shared/s3/ngc_vidus_oaall/cohort_projected_on_1000g\n",
    "\n",
    "# copy study data \n",
    "cp ../eigenstrat/lung_cancer_vs_vidus_ea_ld_pruned.fam ./ea_ld_pruned.fam\n",
    "cp ../eigenstrat/lung_cancer_vs_vidus_ea_ld_pruned.bed ./ea_ld_pruned.bed\n",
    "cp ../eigenstrat/lung_cancer_vs_vidus_ea_ld_pruned.bim ./ea_ld_pruned.bim\n",
    "awk '{print $2}' ea_ld_pruned.bim > all_pruned_variant_ids\n",
    "\n",
    "\n",
    "cd 1000g\n",
    "# Rename 1000G autosome variant IDs\n",
    "ancestry=ea\n",
    "for chr in {1..22}; do\n",
    "    /shared/bioinformatics/software/scripts/qsub_job.sh \\\n",
    "        --job_name recode_to_1000g_${chr} \\\n",
    "        --script_prefix ${ancestry}_chr${chr}_id_rename \\\n",
    "        --mem 8 \\\n",
    "        --nslots 1 \\\n",
    "        --priority 0 \\\n",
    "        --program /shared/bioinformatics/software/perl/id_conversion/convert_to_1000g_p3_ids.pl \\\n",
    "        --file_in /shared/data/ref_panels/1000G/2013.05/plink/ALL.chr${chr}.bim \\\n",
    "        --file_out chr${chr}_renamed.bim \\\n",
    "        --legend /shared/data/ref_panels/1000G/2014.10/1000GP_Phase3_chr$chr.legend.gz \\\n",
    "        --file_in_header 0 \\\n",
    "        --file_in_id_col 1 \\\n",
    "        --file_in_chr_col 0 \\\n",
    "        --file_in_pos_col 3 \\\n",
    "        --file_in_a1_col 4 \\\n",
    "        --file_in_a2_col 5 \\\n",
    "        --chr ${chr}\n",
    "done\n",
    "\n",
    "# get list of all variant IDs\n",
    "touch all_1000g_variants_renamed\n",
    "for chr in {1..22};do\n",
    "awk '{ print $2 }' chr${chr}_renamed.bim >> all_1000g_variants_renamed\n",
    "done\n",
    "\n",
    "sort all_1000g_variants_renamed > all_1000g_variants_renamed_sorted\n",
    "sort all_pruned_variant_ids > all_study_variants_renamed_sorted &\n",
    "\n",
    "\n",
    "# get overlap between 1000g variants and study variants (pruned)\n",
    "comm -12 ../all_study_variants_renamed_sorted all_1000g_variants_renamed_sorted > ../variant_overlap\n",
    "\n",
    "# Get subject IDs by ancestry\n",
    "awk 'BEGIN { FS=\"\\t\"; OFS=\"\\t\" } { if($7==\"African\"){print $1,$1} }'  /shared/data/ref_panels/1000G/igsr_samples.tsv \\\n",
    "    > 1000g_subject_IDs\n",
    "awk 'BEGIN { FS=\"\\t\"; OFS=\"\\t\" } { if($7==\"East Asian\"){print $1,$1} }'  /shared/data/ref_panels/1000G/igsr_samples.tsv \\\n",
    "    >> 1000g_subject_IDs\n",
    "awk 'BEGIN { FS=\"\\t\"; OFS=\"\\t\" } { if($7==\"European\"){print $1,$1} }' /shared/data/ref_panels/1000G/igsr_samples.tsv \\\n",
    "    >> 1000g_subject_IDs\n",
    "\n",
    "\n",
    "\n",
    "# create binary filesets with ld pruned snps\n",
    "for chr in {1..22}; do\n",
    "    /shared/bioinformatics/software/scripts/qsub_job.sh \\\n",
    "        --job_name chr${chr}_filter \\\n",
    "        --script_prefix ancestry_partition_chr${chr} \\\n",
    "        --mem 8 \\\n",
    "        --priority 0 \\\n",
    "        --program /shared/bioinformatics/software/third_party/plink-1.90-beta-4.10-x86_64/plink  \\\n",
    "            --noweb \\\n",
    "            --memory 10000 \\\n",
    "            --bim chr${chr}_renamed.bim \\\n",
    "            --fam /shared/data/ref_panels/1000G/2013.05/plink/ALL.chr${chr}.fam \\\n",
    "            --bed /shared/data/ref_panels/1000G/2013.05/plink/ALL.chr${chr}.bed \\\n",
    "            --bfile /shared/data/ref_panels/1000G/2013.05/plink/ALL.chr${chr} \\\n",
    "            --keep 1000g_subject_IDs \\\n",
    "            --extract ../variant_overlap \\\n",
    "            --make-bed \\\n",
    "            --out 1000g_chr${chr}_ld_pruned\n",
    "done\n",
    "\n",
    "touch autosome_merge_list.txt\n",
    "for chr in {1..22};do\n",
    "   echo \"1000g_chr${chr}_ld_pruned\" >> autosome_merge_list.txt\n",
    "done\n",
    "\n",
    "# merge 1000g autosomes\n",
    "/shared/bioinformatics/software/scripts/qsub_job.sh \\\n",
    "    --job_name merge_plink_filesets \\\n",
    "    --script_prefix merge_plink_filesets \\\n",
    "    --mem 4 \\\n",
    "    --priority 0 \\\n",
    "    --program /shared/bioinformatics/software/third_party/plink-1.90-beta-4.10-x86_64/plink \\\n",
    "        --noweb \\\n",
    "        --memory 4000 \\\n",
    "        --merge-list autosome_merge_list.txt \\\n",
    "        --snps-only just-acgt \\\n",
    "        --make-bed \\\n",
    "        --out 1000g_all_auto_ld_pruned\n",
    "\n",
    "cd /shared/s3/ngc_vidus_oaall/cohort_projected_on_1000g\n",
    "\n",
    "# filter study data to the variants that overlap with 1000g\n",
    "/shared/bioinformatics/software/third_party/plink-1.90-beta-4.10-x86_64/plink \\\n",
    "    --noweb \\\n",
    "    --memory 2048 \\\n",
    "    --bfile ea_ld_pruned \\\n",
    "    --extract variant_overlap \\\n",
    "    --make-bed \\\n",
    "    --out ea_ld_pruned_1000g_overlap\n",
    "\n",
    "# Attempt merge 1000g with study data. produced 2 snps that were ambiguous (will remove)\n",
    "/shared/bioinformatics/software/third_party/plink-1.90-beta-4.10-x86_64/plink \\\n",
    "    --noweb \\\n",
    "    --memory 4000 \\\n",
    "    --bfile 1000g/1000g_all_auto_ld_pruned \\\n",
    "    --bmerge ea_ld_pruned_1000g_overlap \\\n",
    "    --snps-only just-acgt \\\n",
    "    --make-bed \\\n",
    "    --out study_and_1000g_combined_ld_pruned\n",
    "\n",
    "\n",
    "# Exclude ambiguous snps (polymorphic) from study data\n",
    "/shared/bioinformatics/software/third_party/plink-1.90-beta-4.10-x86_64/plink \\\n",
    "    --noweb \\\n",
    "    --memory 2048 \\\n",
    "    --bfile ea_ld_pruned_1000g_overlap \\\n",
    "    --exclude study_and_1000g_combined_ld_pruned-merge.missnp \\\n",
    "    --make-bed \\\n",
    "    --out ea_ld_pruned_1000g_overlap_removed_ambig\n",
    "\n",
    "\n",
    "# Exclude ambiguous snps (polymorphic) from 1000g data\n",
    "/shared/bioinformatics/software/third_party/plink-1.90-beta-4.10-x86_64/plink \\\n",
    "    --noweb \\\n",
    "    --memory 2048 \\\n",
    "    --bfile 1000g/1000g_all_auto_ld_pruned \\\n",
    "    --exclude study_and_1000g_combined_ld_pruned-merge.missnp \\\n",
    "    --make-bed \\\n",
    "    --out 1000g/1000g_all_auto_ld_pruned_removed_ambig\n",
    "\n",
    "# Attempt merge 1000g with study data.\n",
    "/shared/bioinformatics/software/third_party/plink-1.90-beta-4.10-x86_64/plink \\\n",
    "    --noweb \\\n",
    "    --memory 4000 \\\n",
    "    --bfile 1000g/1000g_all_auto_ld_pruned_removed_ambig \\\n",
    "    --bmerge ea_ld_pruned_1000g_overlap_removed_ambig \\\n",
    "    --snps-only just-acgt \\\n",
    "    --allow-no-sex \\\n",
    "    --make-bed \\\n",
    "    --out study_and_1000g_combined_ld_pruned_removed_ambig"
   ]
  },
  {
   "cell_type": "markdown",
   "metadata": {},
   "source": [
    "### Rename BIM/FAM file IDs\n",
    "BIM file IDs have the potential issue of being too long if encoded using the 1000 Genomes Phase 3 IMPUTE2 format. This will cause smartpca to throw an error. To resolve this the IDs are replaced by numeric values. FAM file IDs are treated similarly."
   ]
  },
  {
   "cell_type": "code",
   "execution_count": null,
   "metadata": {
    "collapsed": true
   },
   "outputs": [],
   "source": [
    "# EC2 command line #\n",
    "cd /shared/s3/ngc_vidus_oaall/cohort_projected_on_1000g\n",
    "\n",
    "# Count ID lengths greater than 39 characters\n",
    "ancestry=\"ea\"\n",
    "\n",
    "awk '{ if(length($1)+length($2)>39){print $2} }'  study_and_1000g_combined_ld_pruned_removed_ambig.fam| wc -l\n",
    "awk '{ if(length($2)>39){print $2} }'  study_and_1000g_combined_ld_pruned_removed_ambig.bim | wc -l\n",
    "\n",
    "## Rename BIM file IDs\n",
    "#awk '{$2=\"ID_\"NR; print $0}' study_and_1000g_combined_ld_pruned_removed_ambig.bim \\\n",
    "#    > study_and_1000g_combined_ld_pruned_removed_ambig_id_renamed.bim\n",
    "\n",
    "# Rename FAM file IDs\n",
    "awk '{$1=\"ID_\"NR; print $0}' study_and_1000g_combined_ld_pruned_removed_ambig.fam \\\n",
    "    > study_and_1000g_combined_ld_pruned_removed_ambig_id_renamed.fam"
   ]
  },
  {
   "cell_type": "markdown",
   "metadata": {
    "collapsed": true
   },
   "source": [
    "### Run EIGENSTRAT\n",
    "__Eigenstrat on LD pruned snps - study & 1000g merged__\n",
    "\n",
    "__NOTE__: For `smartpca` to run, the BIM and FAM file IDs need to be less than 39 characters in length. Often this is not a problem, but with a BIM file that has IDs renamed to the 1000 Genomes Phase 3 format, the IDs for indels can exceed the character limit. Also, the EIGENSOFT `bin` directory should be part of the PATH variable.\n",
    "\n",
    "The `smartpca.pl` program documentation is shown below:\n",
    "\n",
    "DOCUMENTATION of `smartpca.pl` program:\n",
    "\n",
    "This program calls the smartpca program (see ../POPGEN/README). \n",
    "For this to work, the bin directory containing smartpca MUST be in your path. \n",
    "See `./example.perl` for a toy example.\n",
    "```\n",
    "../bin/smartpca.pl \n",
    "-i example.geno  : genotype file in any format (see ../CONVERTF/README)\n",
    "-a example.snp   : snp file in any format (see ../CONVERTF/README)\n",
    "-b example.ind   : indiv file in any format (see ../CONVERTF/README)\n",
    "-k k             : (Default is 10) number of principal components to output\n",
    "-o example.pca   : output file of principal components.  Individuals removed\n",
    "                   as outliers will have all values set to 0.0 in this file.\n",
    "-p example.plot  : prefix of output plot files of top 2 principal components.\n",
    "                   (labeling individuals according to labels in indiv file)\n",
    "-e example.eval  : output file of all eigenvalues\n",
    "-l example.log   : output logfile\n",
    "-m maxiter       : (Default is 5) maximum number of outlier removal iterations.\n",
    "                   To turn off outlier removal, set -m 0.\n",
    "-t topk          : (Default is 10) number of principal components along which \n",
    "                   to remove outliers during each outlier removal iteration.\n",
    "-s sigma         : (Default is 6.0) number of standard deviations which an\n",
    "                   individual must exceed, along one of topk top principal\n",
    "           components, in order to be removed as an outlier.\n",
    "\n",
    "OPTIONAL FLAGS:\n",
    "-w poplist       : compute eigenvectors using populations in poplist only,\n",
    "                   where poplist is an ASCII file with one population per line\n",
    "-y plotlist      : output plot will include populations in plotlist only, \n",
    "                   where plotlist is an ASCII file with one population per line\n",
    "-z badsnpname    : list of SNPs which should be excluded from the analysis\n",
    "-q YES/NO        : If set to YES, assume that there is a single population and\n",
    "                   the population field contains real-valued phenotypes.\n",
    "           (Corresponds to qtmode parameter in smartpca program.)\n",
    "           The default value for this parameter is NO.\n",
    "\n",
    "Estimated running time of the smartpca program is \n",
    "  2.5e-12 * nSNP * NSAMPLES^2 hours            if not removing outliers.\n",
    "  2.5e-12 * nSNP * NSAMPLES^2 hours * (1+m)    if m outlier removal iterations.\n",
    "Thus, under the default of up to 5 outlier removal iterations, running time is \n",
    "  up to 1.5e-11 * nSNP * NSAMPLES^2 hours.```"
   ]
  },
  {
   "cell_type": "code",
   "execution_count": null,
   "metadata": {
    "collapsed": true
   },
   "outputs": [],
   "source": [
    "mkdir -p /shared/s3/ngc_vidus_oaall/cohort_projected_on_1000g/results\n",
    "cd /shared/s3/ngc_vidus_oaall/cohort_projected_on_1000g\n",
    "\n",
    "# make not a case nor control in fam file\n",
    "awk '{$6= \"-9\"} {print $0}' study_and_1000g_combined_ld_pruned_removed_ambig_id_renamed.fam > final.fam\n",
    "\n",
    "# Run smartpca\n",
    "/shared/bioinformatics/software/scripts/qsub_job.sh \\\n",
    "    --job_name study_vs_1000g_smartpca \\\n",
    "    --script_prefix smartpca_study_vs_1000g_\\\n",
    "    --mem 8 \\\n",
    "    --nslots 2 \\\n",
    "    --priority 0 \\\n",
    "    --program /shared/bioinformatics/software/third_party/EIG-6.1.4/bin/smartpca.perl \\\n",
    "        -i study_and_1000g_combined_ld_pruned_removed_ambig.bed \\\n",
    "        -a study_and_1000g_combined_ld_pruned_removed_ambig.bim \\\n",
    "        -b final.fam \\\n",
    "        -o results/study_and_1000g_ld_snps.pca \\\n",
    "        -p results/study_and_1000g_ld_snps.plot \\\n",
    "        -e results/study_and_1000g_ld_snps.eval \\\n",
    "        -l results/study_and_1000g_ld_snps.pca.log \\\n",
    "        -m 0"
   ]
  },
  {
   "cell_type": "code",
   "execution_count": 16,
   "metadata": {},
   "outputs": [
    {
     "data": {
      "text/html": [
       "<strong>png:</strong> 3"
      ],
      "text/latex": [
       "\\textbf{png:} 3"
      ],
      "text/markdown": [
       "**png:** 3"
      ],
      "text/plain": [
       "png \n",
       "  3 "
      ]
     },
     "metadata": {},
     "output_type": "display_data"
    }
   ],
   "source": [
    "dev.off()"
   ]
  },
  {
   "cell_type": "markdown",
   "metadata": {},
   "source": [
    "### PCA plotting"
   ]
  },
  {
   "cell_type": "code",
   "execution_count": null,
   "metadata": {
    "collapsed": true
   },
   "outputs": [],
   "source": [
    "### EC2 console ###\n",
    "cd /shared/s3/ngc_vidus_oaall/cohort_projected_on_1000g/results\n",
    " \n",
    "# Get subject IDs by ancestry\n",
    "awk 'BEGIN { FS=\"\\t\"; OFS=\"\\t\" } { if($7==\"African\"){print $1} }'  /shared/data/ref_panels/1000G/igsr_samples.tsv \\\n",
    "    > AFR_1000g_subject_IDs\n",
    "awk 'BEGIN { FS=\"\\t\"; OFS=\"\\t\" } { if($7==\"East Asian\"){print $1} }'  /shared/data/ref_panels/1000G/igsr_samples.tsv \\\n",
    "    > EAS_1000g_subject_IDs\n",
    "awk 'BEGIN { FS=\"\\t\"; OFS=\"\\t\" } { if($7==\"European\"){print $1} }' /shared/data/ref_panels/1000G/igsr_samples.tsv \\\n",
    "    > EUR_1000g_subject_IDs"
   ]
  },
  {
   "cell_type": "code",
   "execution_count": null,
   "metadata": {
    "collapsed": true
   },
   "outputs": [],
   "source": [
    "### R console ###\n",
    "\n",
    "setwd(\"/shared/s3/ngc_vidus_oaall/cohort_projected_on_1000g/results\")\n",
    "\n",
    "# Load PCA data\n",
    "options(stringsAsFactors=F)\n",
    "study.vs_1000 <- read.table(\"study_and_1000g_ld_snps.pca.evec\", comment.char=\"#\", sep=\"\", row.names=1)\n",
    "\n",
    "# Function for plotting off-diagonal scatterplots\n",
    "plot.offdiag <- function(x, y, colors=label.colors){\n",
    "    #Make x and y axes equal\n",
    "    limits <- c(min(x,y), max(x,y)) * 1.3\n",
    "    par(usr = c(limits, limits))\n",
    "    points(x,y, col=colors, pch=16)\n",
    "}\n",
    "\n",
    "# Function for plotting diagonal density plots\n",
    "plot.diag <- function(x, colors=label.colors){\n",
    "    d <- density(x, bw=0.01, kernel=\"gaussian\")\n",
    "    #Update plot axes limits\n",
    "    par(usr = c(range(d$x), range(d$y)*1.3))\n",
    "    points(d$x,d$y, type=\"l\")\n",
    "    #Add PC values\n",
    "    points(x=x, y=jitter(rep(mean(d$y),times=d$n),factor=5), col=label.colors, pch=16)\n",
    "}\n",
    "\n",
    "#Run PCA and get % variance\n",
    "dspace <- study.vs_1000[1:10] #transformed dataspace\n",
    "\n",
    "AFR = scan(file=\"AFR_1000g_subject_IDs\", what=character())\n",
    "EAS = scan(file=\"EAS_1000g_subject_IDs\", what=character())\n",
    "EUR = scan(file=\"EUR_1000g_subject_IDs\", what=character())\n",
    "VIDUS = scan(file=\"VIDUS_subject_IDs\", what=character())\n",
    "lung_cancer = scan(file=\"lung_cancer_subject_IDs\", what=character())\n",
    "\n",
    "\n",
    "\n",
    "#Color label samples\n",
    "sample.names <- row.names(study.vs_1000)\n",
    "label.colors <- rep(NA, length(sample.names))\n",
    "label.colors[grepl(x=sample.names, pattern=paste(lung_cancer,collapse=\"|\"), ignore.case=F)] <- rgb(0,0,0,80, maxColorValue=255) #black\n",
    "label.colors[grepl(x=sample.names, pattern=paste(VIDUS,collapse=\"|\"), ignore.case=F)] <- rgb(255,0,0,80, maxColorValue=255) #red\n",
    "label.colors[grepl(x=sample.names, pattern=paste(EUR,collapse=\"|\"), ignore.case=F)] <- rgb(0,0,255,80, maxColorValue=255) #blue\n",
    "label.colors[grepl(x=sample.names, pattern=paste(EAS,collapse=\"|\"), ignore.case=F)] <- rgb(0,255,0,80, maxColorValue=255) #green\n",
    "label.colors[grepl(x=sample.names, pattern=paste(AFR,collapse=\"|\"), ignore.case=F)] <- rgb(255,215,0,80, maxColorValue=255) #gold\n",
    "legend.cols <- c(rgb(255,215,0,255, maxColorValue=255), rgb(0,255,0,255, maxColorValue=255), \n",
    "                 rgb(0,0,255,255, maxColorValue=255), rgb(255,0,0,255, maxColorValue=255), rgb(0,0,0,255, maxColorValue=255) )\n",
    "\n",
    "options(repr.plot.width=8, repr.plot.height=8)\n",
    "#Redefine outer margin\n",
    "par(oma = c(4, 1, 2, 1))\n",
    "pairs(x=dspace[,1:4], panel=plot.offdiag, diag.panel=plot.diag, \n",
    "      labels=paste0(\"PC\",1:4), label.pos=0.9, cex.labels=1.8)\n",
    "par(fig=c(0, 1, 0, 1), oma=c(0, 0, 0, 0), mar=c(0, 0, 1.5, 0), new=TRUE)\n",
    "plot(0, 0, type = \"n\", bty = \"n\", xaxt = \"n\", yaxt = \"n\", main=\"VIDUS vs LCNS vs 1000G\", cex.main=1)\n",
    "# make sure the label matches the study. \n",
    "legend(\"bottom\", c(\"AFR\", \"EAS\", \"EUR\", \"VIDUS\", \"LCNS\"), \n",
    "       pch=19, col=legend.cols,\n",
    "       xpd=TRUE, horiz=TRUE, inset=c(0,-0.02), \n",
    "       bty=\"n\", cex=1)"
   ]
  },
  {
   "cell_type": "markdown",
   "metadata": {
    "collapsed": true
   },
   "source": [
    "## S3 data transfer"
   ]
  },
  {
   "cell_type": "code",
   "execution_count": null,
   "metadata": {
    "collapsed": true
   },
   "outputs": [],
   "source": [
    "# Copy phenotype data\n",
    "cd /shared/s3/ngc_vidus_oaall/data/phenotype\n",
    "aws s3 cp ./ s3://rti-heroin/ngc_vidus_oaall/data/phenotype \\\n",
    "    --recursive --exclude=\"*\" --include=\"*ped.gz\" --quiet &\n",
    "\n",
    "cd /shared/s3/ngc_vidus_oaall/data/assoc_tests\n",
    "# Copy association test results\n",
    "aws s3 cp ./ s3://rti-heroin/ngc_vidus_oaall/results/rvtest/ \\\n",
    "    --recursive --exclude=\"*\" --include=\"*MetaScore*gz*\" --quiet &\n",
    "aws s3 cp ./ s3://rti-heroin/ngc_vidus_oaall/results/figures/ \\\n",
    "    --recursive --exclude=\"*\" --include=\"*.png.gz\" --quiet &\n",
    "\n",
    "\n",
    "--------------------------------------------------------------------------------\n",
    "# copy imputation files\n",
    "cd /shared/sandbox/ngc_vidus_oaall/genotype/imputed/ea/\n",
    "for ext in {\\\"*.log\\\",\\\"*.info.gz\\\",\\\"*dose.vcf.gz\\\",\\\"*dose.vcf.gz.tbi\\\",\\\"*.html\\\",\\\"*.txt\\\"}; do\n",
    "/shared/bioinformatics/software/scripts/qsub_job.sh \\\n",
    "        --job_name s3_upload_vidus \\\n",
    "        --script_prefix test_${ext} \\\n",
    "        --mem 5 \\\n",
    "        --nslots 1 \\\n",
    "        --program \"aws s3 cp . s3://rti-heroin/ngc_vidus_oaall/data/genotype/imputed/${ancestry}/ \\\n",
    "            --recursive --exclude \\\"*\\\" --include $ext \"\n",
    "done"
   ]
  },
  {
   "cell_type": "code",
   "execution_count": null,
   "metadata": {
    "collapsed": true
   },
   "outputs": [],
   "source": []
  },
  {
   "cell_type": "code",
   "execution_count": null,
   "metadata": {
    "collapsed": true
   },
   "outputs": [],
   "source": []
  },
  {
   "cell_type": "code",
   "execution_count": null,
   "metadata": {
    "collapsed": true
   },
   "outputs": [],
   "source": []
  },
  {
   "cell_type": "code",
   "execution_count": null,
   "metadata": {
    "collapsed": true
   },
   "outputs": [],
   "source": []
  },
  {
   "cell_type": "code",
   "execution_count": null,
   "metadata": {
    "collapsed": true
   },
   "outputs": [],
   "source": [
    "\n",
    "\n",
    "\n",
    "\n",
    "\n",
    "\n",
    "\n",
    "\n",
    "\n",
    "\n",
    "\n",
    "\n",
    "\n",
    "\n",
    "\n",
    "\n",
    "\n",
    "\n",
    "\n",
    "\n",
    "\n",
    "\n",
    "\n",
    "\n",
    "\n",
    "\n",
    "\n",
    "\n",
    "\n",
    "\n",
    "\n",
    "\n",
    "\n",
    "\n",
    "\n",
    "\n",
    "\n",
    "\n",
    "\n",
    "\n",
    "\n",
    "\n",
    "\n"
   ]
  }
 ],
 "metadata": {
  "kernelspec": {
   "display_name": "R",
   "language": "R",
   "name": "ir"
  },
  "language_info": {
   "codemirror_mode": "r",
   "file_extension": ".r",
   "mimetype": "text/x-r-source",
   "name": "R",
   "pygments_lexer": "r",
   "version": "3.4.3"
  },
  "toc": {
   "nav_menu": {},
   "number_sections": true,
   "sideBar": true,
   "skip_h1_title": false,
   "toc_cell": false,
   "toc_position": {
    "height": "727px",
    "left": "0px",
    "right": "1315.28px",
    "top": "107px",
    "width": "212px"
   },
   "toc_section_display": "block",
   "toc_window_display": true
  }
 },
 "nbformat": 4,
 "nbformat_minor": 2
}
