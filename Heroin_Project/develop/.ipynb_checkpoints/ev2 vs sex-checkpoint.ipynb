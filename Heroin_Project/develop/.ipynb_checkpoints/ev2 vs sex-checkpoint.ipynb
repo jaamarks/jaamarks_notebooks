{
 "cells": [
  {
   "cell_type": "markdown",
   "metadata": {},
   "source": [
    "# Determining if eigenvector 2 is correlated with sex\n",
    "__Author__: Jesse Marks\n",
    "\n",
    "This notebook is pertinent to [GitHub issue #68](https://github.com/RTIInternational/bioinformatics/issues/68). We trying to determine if eigenvalue 2 is correlated in any way to sex."
   ]
  },
  {
   "cell_type": "code",
   "execution_count": 148,
   "metadata": {},
   "outputs": [
    {
     "data": {
      "text/html": [
       "<strong>png:</strong> 2"
      ],
      "text/latex": [
       "\\textbf{png:} 2"
      ],
      "text/markdown": [
       "**png:** 2"
      ],
      "text/plain": [
       "png \n",
       "  2 "
      ]
     },
     "metadata": {},
     "output_type": "display_data"
    }
   ],
   "source": [
    "cov.data <- read.table(\"C:/Users/jmarks/Desktop/phs000634_lung_cancer_vs_phs000801_lymphoma_ea_sex_age_ev.covariates\",\n",
    "                      header=TRUE)\n",
    "\n",
    "males = c()\n",
    "females = c()\n",
    "for (i in 1:nrow(cov.data)){\n",
    "        sex.value <- cov.data[i,3]\n",
    "    if (sex.value == 1){\n",
    "        males <- append(males, cov.data[i,5]) \n",
    "    }\n",
    "    else {\n",
    "        females <- append(females, cov.data[i,5])\n",
    "    }\n",
    "}\n",
    "\n",
    "jpeg(\"C:/Users/jmarks/Desktop/ev1_vs_sex_separate.jpeg\")\n",
    "par(mfrow=c(2,1))\n",
    "hist(females,breaks = 20, col = \"blue\",xlab = \"EV1 values\", main=\"EV1 vs Sex (females)\")\n",
    "hist(males,breaks = 20, col = \"green\",xlab = \"EV1 values\", main=\"EV1 vs Sex (males)\")\n",
    "dev.off()"
   ]
  },
  {
   "cell_type": "code",
   "execution_count": null,
   "metadata": {},
   "outputs": [],
   "source": [
    "boxplot(males, females, notch = TRUE)"
   ]
  },
  {
   "cell_type": "code",
   "execution_count": null,
   "metadata": {
    "scrolled": true
   },
   "outputs": [],
   "source": [
    "library(ggplot2)\n",
    "ggplot(cov.data, aes(x=SEX, y=EV2)) + geom_point(alpha = 0.3)"
   ]
  },
  {
   "cell_type": "code",
   "execution_count": null,
   "metadata": {},
   "outputs": [],
   "source": [
    "jpeg(\"C:/Users/jmarks/Desktop/ev2_vs_sex_combined.jpeg\")\n",
    "hist(females,breaks = 20, col = \"blue\",xlab = \"EV2 values\", main=\"EV2 vs Sex\")\n",
    "hist(males,breaks = 20, col= \"green\",add=T)\n",
    "legend(\"topright\",c(\"Males\", \"Females\"), col=c(\"green\", \"blue\"), lwd=10, cex=0.75)\n",
    "dev.off()"
   ]
  },
  {
   "cell_type": "code",
   "execution_count": null,
   "metadata": {},
   "outputs": [],
   "source": [
    "jpeg(\"C:/Users/jmarks/Desktop/ev2_vs_sex_separate.jpeg\")\n",
    "par(mfrow=c(2,1))\n",
    "hist(females,breaks = 20, col = \"blue\",xlab = \"EV2 values\", main=\"EV2 vs Sex (females)\")\n",
    "hist(males,breaks = 20, col = \"green\",xlab = \"EV2 values\", main=\"EV2 vs Sex (males)\")\n",
    "dev.off()"
   ]
  },
  {
   "cell_type": "code",
   "execution_count": null,
   "metadata": {},
   "outputs": [],
   "source": [
    "cor(cov.data['SEX'], cov.data['EV5'])\n",
    "cor(cov.data['AGE'], cov.data['EV5'])\n",
    "\n",
    "#cor(cov.data['SEX'], cov.data['EV3'])\n",
    "#cor(cov.data['AGE'], cov.data['EV3'])\n",
    "#\n",
    "#cor(cov.data['SEX'], cov.data['EV4'])\n",
    "#cor(cov.data['AGE'], cov.data['EV4'])"
   ]
  },
  {
   "cell_type": "code",
   "execution_count": null,
   "metadata": {
    "collapsed": true
   },
   "outputs": [],
   "source": []
  }
 ],
 "metadata": {
  "kernelspec": {
   "display_name": "R",
   "language": "R",
   "name": "ir"
  },
  "language_info": {
   "codemirror_mode": "r",
   "file_extension": ".r",
   "mimetype": "text/x-r-source",
   "name": "R",
   "pygments_lexer": "r",
   "version": "3.4.2"
  },
  "toc": {
   "nav_menu": {},
   "number_sections": true,
   "sideBar": true,
   "skip_h1_title": false,
   "toc_cell": false,
   "toc_position": {},
   "toc_section_display": "block",
   "toc_window_display": false
  }
 },
 "nbformat": 4,
 "nbformat_minor": 2
}
