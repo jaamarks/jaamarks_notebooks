{
 "cells": [
  {
   "cell_type": "markdown",
   "metadata": {},
   "source": [
    "# Geneva prostate cancer (AA subjects only)\n",
    "** Author: ** Jesse Marks\n",
    "This notebook contains the data processing steps (QC pipeline) for the GENEVA prostate cancer study [phs000306.v4.p1](https://www.ncbi.nlm.nih.gov/projects/gap/cgi-bin/study.cgi?study_id=phs000306.v4.p1). These steps have already been produced by Bryan Quach in the bioinformatics [GitHub Repo](https://github.com/RTIInternational/bquach_notebooks/blob/master/heroin_project/develop/20170928_oa_gwas_data_processing.ipynb)"
   ]
  },
  {
   "cell_type": "markdown",
   "metadata": {},
   "source": [
    "| Item | Description | Price |\n",
    "| --- | --- | ---: |\n",
    "| item1 | item1 description | 1.00 |\n",
    "| item2 | item2 description | 100.00 |"
   ]
  },
  {
   "cell_type": "markdown",
   "metadata": {},
   "source": [
    "### creating directory structure on MIDAS\n",
    "Preprocess data includes gunzip, renaming, etc."
   ]
  },
  {
   "cell_type": "code",
   "execution_count": null,
   "metadata": {
    "collapsed": true
   },
   "outputs": [],
   "source": [
    "# local #\n",
    "ssh jmarks@rtplhpc01.rti.ns\n",
    "\n",
    "# MIDAS #\n",
    "cd /share/nas04/bioinformatics_group/data/amazon_s3/studies\n",
    "cp -r geneva_prostate/ /share/nas03/jmarks/QC-test/\n",
    "cd /share/nas03/jmarks/QC-test/geneva_prostate/\n",
    "\n",
    "# Going to remove the processed data that Bryan did and process everything myself for a sanity check.\n",
    "rm -rf phenotype/processing/*\n",
    "rm -rf genotype/original/processing/*\n",
    "cp -r phenotype/unprocessed/* /phenotype/processing\n",
    "cp -r genotype/original/unprocessed/* /genotype/original/processing\n",
    "\n",
    "# Untar and rename genotype data\n",
    "for i in ./genotype/original/processing/c2/*tar; do tar -xvf $i -C $(dirname $i); done\n",
    "for i in ./genotype/original/processing/c5/*tar; do tar -xvf $i -C $(dirname $i); done\n",
    "\n",
    "\n",
    "\n",
    "\n"
   ]
  },
  {
   "cell_type": "markdown",
   "metadata": {},
   "source": [
    "## Genotype Processing"
   ]
  }
 ],
 "metadata": {
  "kernelspec": {
   "display_name": "R",
   "language": "R",
   "name": "ir"
  },
  "language_info": {
   "codemirror_mode": "r",
   "file_extension": ".r",
   "mimetype": "text/x-r-source",
   "name": "R",
   "pygments_lexer": "r",
   "version": "3.4.2"
  },
  "toc": {
   "nav_menu": {},
   "number_sections": true,
   "sideBar": true,
   "skip_h1_title": false,
   "toc_cell": false,
   "toc_position": {},
   "toc_section_display": "block",
   "toc_window_display": false
  }
 },
 "nbformat": 4,
 "nbformat_minor": 2
}
