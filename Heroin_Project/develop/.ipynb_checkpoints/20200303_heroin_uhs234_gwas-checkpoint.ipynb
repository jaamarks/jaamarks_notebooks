{
 "cells": [
  {
   "cell_type": "markdown",
   "metadata": {},
   "source": [
    "# GWAS of UHS2–3 combined with UHS4\n",
    "**Author:** Jesse Marks <br>\n",
    "**GitHub Issue**: [# 147 ](https://github.com/RTIInternational/bioinformatics/issues/147)\n",
    "\n",
    "**Description:** \n",
    "\n",
    "The starting point (input data) for this pipeline is after the quality control (QC) of the observed genotype data. The QC genotype data should be oriented on the GRGh37 plus strand. When multiple data sets are to be merged for imputation, the intersection set of variants will be used for imputation; this is based on the finding from [Johnson et al.](https://link.springer.com/article/10.1007/s00439-013-1266-7). \n",
    "\n",
    "**Software and tools** <br>\n",
    "The software and tools used for processing these data are:\n",
    "* [Michigan Imputation Server](https://imputationserver.sph.umich.edu/index.html) (MIS)\n",
    "* [Amazon Web Services (AWS) - Cloud Computing Services](https://aws.amazon.com/)\n",
    "    * Linux AMI\n",
    "* [PLINK v1.90 beta 4.10](https://www.cog-genomics.org/plink/)\n",
    "* [bgzip](http://www.htslib.org/doc/tabix.html)\n",
    "* [BCF Tools](http://www.htslib.org/doc/bcftools.html)\n",
    "* Windows 10 with [Cygwin](https://cygwin.com/) installed\n",
    "* GNU bash version 4.2.46\n",
    "\n",
    "**Pre-Imputation Stats Summary**\n",
    "\n",
    "| Data Set      | Initial Variants (Post-QC) | Variants Post-Filtering  | Intersection     |\n",
    "|---------------|----------------------------|--------------------------|------------------|\n",
    "|               |                            |                          |                  |\n",
    "|               |                            |                          |                  |\n",
    "\n",
    "\n",
    "**Phenotype Files**\n",
    "* `s3://rti-heroin/ngc_uhs2_uhs3_fou/data/phenotype`\n",
    "* `s3://rti-shared/gwas/uhs4/data/box_cox_totopioid_tot_30d/0001/phenotype/`\n",
    "\n",
    "**Genotype Files**\n",
    "* `s3://rti-hiv/rti-midas-data/studies/hiv/observed/final/uhs2.{aa,ea}.{bed,bim,fam}.gz`\n",
    "* `s3://rti-hiv/rti-midas-data/studies/hiv/observed/final/uhs3.{aa,ea}.V1-2.{bed,bim,fam}.gz`\n",
    "* `s3://rti-hiv/rti-midas-data/studies/hiv/observed/final/uhs3.aa.V1-3.{bed,bim,fam}.gz`\n",
    "* `s3://rti-shared/rti-midas-data/studies/uhs4/observed/genotypes/final/uhs4.merged2.{aa,ea}.{bed,bim,fam}.gz`\n",
    "\n",
    "Note that the UHS3 was genotyped on two different versions of the same chip: V1–2 and V1–3. We will use the data that was QC'ed separately for each chip."
   ]
  },
  {
   "cell_type": "markdown",
   "metadata": {},
   "source": [
    "## Impute Genotype Data\n",
    "### Create Directory Stucture & Download Data\n",
    "The following section needs to be modified each time to reflect:\n",
    "* where the genotype data (post-QC) are stored\n",
    "* where the base directory for the pre-imputation data processing will be\n",
    "* the study or studies involved\n",
    "* the ancesty group(s) involved\n",
    "* the data to be processed (all_chr or chr23)"
   ]
  },
  {
   "cell_type": "code",
   "execution_count": null,
   "metadata": {
    "collapsed": true
   },
   "outputs": [],
   "source": [
    "#cd /shared/jmarks/heroin/uhs2-4/genotype/imputed/processing\n",
    "\n",
    "# parameters \n",
    "base_dir=/shared/jmarks/heroin/uhs2-4/genotype/imputed/processing # DO NOT end in forward slash\n",
    "ancestry_list=\"ea aa\" # space delimited Ex. \"ea aa ha\"\n",
    "study_list=\"uhs2 uhs3_v1-2 uhs3_v1-3 uhs4\" # space delimited \n",
    "#base_name=\"chr_all\" # chr_all chr23 \n",
    "\n",
    "# create directory structure\n",
    "mkdir -p ${base_dir}/{intersect,1000g,impute_prep}\n",
    "for study in ${study_list};do\n",
    "    mkdir -p ${base_dir}/${study}/strand_check\n",
    "    for ancestry in ${ancestry_list};do\n",
    "        mkdir -p ${base_dir}/${study}/genotype/${ancestry}\n",
    "    done\n",
    "done\n",
    "\n",
    "\n",
    "## copy post-qc genotype data to correct directory\n",
    "## AND REMAME TO CORRECT NAMING SCHEMA <study_ancestry.$extension> \n",
    "## also unzip the Plink files\n",
    "\n",
    "#/shared/jmarks/heroin/uhs2-4/genotype/imputed/processing/uhs2/genotype/{ea,aa}\n",
    "#/shared/jmarks/heroin/uhs2-4/genotype/imputed/processing/uhs3_v1-3/genotype/{ea,aa}\n",
    "#/shared/jmarks/heroin/uhs2-4/genotype/imputed/processing/uhs3_v1-2/genotype/{ea,aa}\n",
    "#/shared/jmarks/heroin/uhs2-4/genotype/imputed/processing/uhs4/genotype/{ea,aa}"
   ]
  },
  {
   "cell_type": "markdown",
   "metadata": {},
   "source": [
    "### GRCh37 strand and allele discordance check\n",
    "#### MAF for study data (all chromosomes)"
   ]
  },
  {
   "cell_type": "code",
   "execution_count": null,
   "metadata": {},
   "outputs": [],
   "source": [
    "# Write out the MAF report\n",
    "for study in ${study_list}; do\n",
    "    for ancestry in ${ancestry_list}; do\n",
    "        docker run -v \"${base_dir}/$study/:/data/\" rticode/plink:1.9 plink \\\n",
    "            --bfile /data/genotype/$ancestry/${study}_${ancestry} \\\n",
    "            --freq \\\n",
    "            --out /data/strand_check/${ancestry}\n",
    "    done\n",
    "done\n",
    "\n",
    "\n",
    "# Get list of variants from all studies\n",
    "studies=($study_list)  #studies=(uhs1 uhs2 uhs3_v1-2 uhs3_v1-3 uhs4) # array of study names\n",
    "num=${#studies[@]}\n",
    "\n",
    "## Get intersection set\n",
    "for ancestry in ${ancestry_list};do\n",
    "    bim_files=()\n",
    "    for (( i=0; i<${num}; i++ ));do\n",
    "        bim_files+=(${base_dir}/${studies[$i]}/genotype/$ancestry/*bim)\n",
    "    done\n",
    "    \n",
    "    echo -e \"\\nCalculating intersection between $ancestry: ${study_list}...\\n\"\n",
    "    cat ${bim_files[@]}| cut -f2 | sort |  uniq -c | awk -v num=$num '$1 == num {print $2}' \\\n",
    "        > ${base_dir}/intersect/${ancestry}_variant_intersection.txt\n",
    "    wc -l ${base_dir}/intersect/${ancestry}_variant_intersection.txt\n",
    "done "
   ]
  },
  {
   "cell_type": "markdown",
   "metadata": {},
   "source": [
    "```\n",
    "1410989 /shared/jmarks/heroin/uhs2-4/genotype/imputed/processing/intersect/ea_variant_intersection.txt\n",
    "1100949 /shared/jmarks/heroin/uhs2-4/genotype/imputed/processing/intersect/aa_variant_intersection.txt\n",
    "```"
   ]
  },
  {
   "cell_type": "markdown",
   "metadata": {},
   "source": [
    "#### MAF for 1000G\n",
    "The current setup requires the 1000G MAF for autosomes and chrX to be processed separately. This pipeline is also currently set up to handle EUR and AFR populations. \n",
    "##### Autosomes\n",
    "Get 1000G MAF for chromosomes 1&ndash;22 (autosomes)."
   ]
  },
  {
   "cell_type": "code",
   "execution_count": null,
   "metadata": {},
   "outputs": [],
   "source": [
    "# Calculate autosome MAFs for 1000G populations\n",
    "for ancestry in ${ancestry_list};do\n",
    "\n",
    "    if [ $ancestry == \"ea\" ]; then\n",
    "        pop=\"EUR\"\n",
    "    elif [ $ancestry == \"ha\" ]; then\n",
    "        pop=\"AMR\"\n",
    "    else\n",
    "        pop=\"AFR\"\n",
    "    fi\n",
    "    \n",
    "    for chr in {1..22}; do\n",
    "        /shared/bioinformatics/software/scripts/qsub_job.sh \\\n",
    "            --job_name ${pop}_${chr}_MAF \\\n",
    "            --script_prefix ${base_dir}/1000g/${pop}_chr${chr}.maf \\\n",
    "            --mem 6.8 \\\n",
    "            --nslots 3 \\\n",
    "            --priority 0 \\\n",
    "            --program /shared/bioinformatics/software/perl/stats/calculate_maf_from_impute2_hap_file.pl \\\n",
    "                --hap /shared/data/ref_panels/1000G/2014.10/1000GP_Phase3_chr${chr}.hap.gz\\\n",
    "                --legend /shared/data/ref_panels/1000G/2014.10/1000GP_Phase3_chr${chr}.legend.gz \\\n",
    "                --sample /shared/data/ref_panels/1000G/2014.10/1000GP_Phase3.sample \\\n",
    "                --chr ${chr} \\\n",
    "                --out ${base_dir}/1000g/${pop}_chr${chr}.maf \\\n",
    "                --extract ${base_dir}/intersect/${ancestry}_variant_intersection.txt \\\n",
    "                --keep_groups ${pop}\n",
    "    done\n",
    "done"
   ]
  },
  {
   "cell_type": "markdown",
   "metadata": {},
   "source": [
    "##### chrX \n",
    "Get 1000G MAF for chromosome 23 (chrX)."
   ]
  },
  {
   "cell_type": "code",
   "execution_count": null,
   "metadata": {},
   "outputs": [],
   "source": [
    "chr=23\n",
    "for ancestry in ${ancestry_list};do\n",
    "\n",
    "    if [ $ancestry == \"ea\" ]; then\n",
    "        pop=\"EUR\"\n",
    "    elif [ $ancestry == \"ha\" ]; then\n",
    "        pop=\"AMR\"\n",
    "    else\n",
    "        pop=\"AFR\"\n",
    "    fi\n",
    "\n",
    "    /shared/bioinformatics/software/scripts/qsub_job.sh \\\n",
    "        --job_name ${pop}_23_MAF \\\n",
    "        --script_prefix ${base_dir}/1000g/${pop}_chr${chr}.maf \\\n",
    "        --mem 6.8 \\\n",
    "        --nslots 1 \\\n",
    "        --priority 0 \\\n",
    "        --program /shared/bioinformatics/software/perl/stats/calculate_maf_from_impute2_hap_file.pl \\\n",
    "            --hap /shared/data/ref_panels/1000G/2014.10/1000GP_Phase3_chrX_NONPAR.hap.gz\\\n",
    "            --legend /shared/data/ref_panels/1000G/2014.10/1000GP_Phase3_chrX_NONPAR.legend.gz \\\n",
    "            --sample /shared/data/ref_panels/1000G/2014.10/1000GP_Phase3.sample \\\n",
    "            --chr $chr \\\n",
    "            --out ${base_dir}/1000g/${pop}_chr${chr}.maf \\\n",
    "            --extract ${base_dir}/intersect/${ancestry}_variant_intersection.txt \\\n",
    "            --keep_groups ${pop}\n",
    "done"
   ]
  },
  {
   "cell_type": "markdown",
   "metadata": {},
   "source": [
    "#### Merge 1000G chromosomes\n",
    "Only need to perform this if there were multiple chromosomes for which the MAF was calculated."
   ]
  },
  {
   "cell_type": "code",
   "execution_count": null,
   "metadata": {},
   "outputs": [],
   "source": [
    "# Merge per chr MAFs for each 1000G population\n",
    "for ancestry in ${ancestry_list};do\n",
    "    if [ $ancestry == \"ea\" ]; then\n",
    "        pop=\"EUR\"\n",
    "    elif [ $ancestry == \"ha\" ]; then\n",
    "        pop=\"AMR\"\n",
    "    else\n",
    "        pop=\"AFR\"\n",
    "    fi\n",
    "\n",
    "    head -n1 ${base_dir}/1000g/${pop}_chr1.maf > ${base_dir}/1000g/${pop}_chr_all.maf\n",
    "    for chr in {1..23}; do\n",
    "            tail -q -n +2 ${base_dir}/1000g/${pop}_chr${chr}.maf >> \\\n",
    "                ${base_dir}/1000g/${pop}_chr_all.maf\n",
    "    done\n",
    "done"
   ]
  },
  {
   "cell_type": "markdown",
   "metadata": {},
   "source": [
    "#### Autosome Discordant Check"
   ]
  },
  {
   "cell_type": "code",
   "execution_count": null,
   "metadata": {},
   "outputs": [],
   "source": [
    "# Run discordance checks for each ancestry group\n",
    "for study in ${study_list}; do\n",
    "    for ancestry in ${ancestry_list};do\n",
    "        if [ $ancestry = \"ea\" ]; then\n",
    "            pop=\"EUR\"\n",
    "        elif [ $ancestry == \"ha\" ]; then\n",
    "            pop=\"AMR\"\n",
    "        else\n",
    "            pop=\"AFR\"\n",
    "        fi\n",
    "\n",
    "       /shared/bioinformatics/software/scripts/qsub_job.sh \\\n",
    "           --job_name ${ancestry}_${study}_crosscheck \\\n",
    "           --script_prefix ${base_dir}/$study/strand_check/${ancestry}_allele_discordance_check \\\n",
    "           --mem 6 \\\n",
    "           --nslots 3 \\\n",
    "           --priority 0 \\\n",
    "           --program \"Rscript /shared/bioinformatics/software/R/check_study_data_against_1000G.R\n",
    "               --study_bim_file ${base_dir}/${study}/genotype/${ancestry}/*bim\n",
    "               --study_frq_file ${base_dir}/${study}/strand_check/${ancestry}.frq\n",
    "               --ref_maf_file ${base_dir}/1000g/${pop}_chr_all.maf\n",
    "               --out_prefix ${base_dir}/${study}/strand_check/${ancestry}_allele_discordance\"\n",
    "    done\n",
    "done"
   ]
  },
  {
   "cell_type": "markdown",
   "metadata": {},
   "source": [
    "#### chrX Discordant Check\n",
    "Run this cell below if you are only processing chrX."
   ]
  },
  {
   "cell_type": "code",
   "execution_count": null,
   "metadata": {},
   "outputs": [],
   "source": [
    "#for study in ${study_list}; do\n",
    "#    for ancestry in ${ancestry_list};do\n",
    "#        if [ $ancestry = \"ea\" ]; then\n",
    "#            pop=EUR\n",
    "#    elif [ $ancestry == \"ha\" ]; then\n",
    "#        pop=\"AMR\"\n",
    "#        else\n",
    "#            pop=AFR\n",
    "#        fi\n",
    "#\n",
    "#        # chr23 discordance check\n",
    "#        /shared/bioinformatics/software/scripts/qsub_job.sh \\\n",
    "#            --job_name ${ancestry}_${study}_crosscheck \\\n",
    "#            --script_prefix ${base_dir}/${study}/strand_check/${ancestry}_allele_discordance_check \\\n",
    "#            --mem 6.8 \\\n",
    "#            --nslots 1 \\\n",
    "#            --priority 0 \\\n",
    "#            --program \"Rscript /shared/bioinformatics/software/R/check_study_data_against_1000G.R\n",
    "#                --study_bim_file ${base_dir}/data/${study}/genotype/${ancestry}/*bim\n",
    "#                --study_frq_file ${base_dir}/${study}/strand_check/${ancestry}_chr23.frq\n",
    "#                --ref_maf_file ${base_dir}/1000g/${pop}_chr23.maf\n",
    "#                --out_prefix ${base_dir}/${study}/strand_check/${ancestry}_allele_discordance\"\n",
    "#    done\n",
    "#done"
   ]
  },
  {
   "cell_type": "markdown",
   "metadata": {},
   "source": [
    "#### Resolving allele discordances\n",
    "The allele discordances will be resolved by\n",
    "* Flipping allele discordances that are fixed by flipping\n",
    "* Removing SNPs with discordant names\n",
    "* Removing SNPs with discordant positions\n",
    "* Removing allele discordances that are not resolved by flipping\n",
    "* Removing alleles with large deviations from the reference population allele frequencies\n",
    "\n",
    "**Note**: We could flip the SNPs that are in the snps.flip file we create here, however we are going to opt not to this time because we found that for this case flipping did not actually resolve the issue because most likely they were monomorphic variants."
   ]
  },
  {
   "cell_type": "code",
   "execution_count": null,
   "metadata": {
    "collapsed": true
   },
   "outputs": [],
   "source": [
    "# Apply filters\n",
    "for study in ${study_list}; do\n",
    "    for ancestry in ${ancestry_list};do\n",
    "        echo -e \"\\n===============\\nProcessing ${study}_${ancestry}\\n\"\n",
    "        echo \"Making remove list\"\n",
    "        cat <(cut -f2,2 ${base_dir}/${study}/strand_check/${ancestry}_allele_discordance.discordant_alleles_not_fixed_by_strand_flip | tail -n +2) \\\n",
    "            <(cut -f2,2 ${base_dir}/${study}/strand_check/${ancestry}_allele_discordance.at_cg_snps_freq_diff_gt_0.2 | tail -n +2) \\\n",
    "            <(cut -f2,2 ${base_dir}/${study}/strand_check/${ancestry}_allele_discordance.discordant_names | tail -n +2) \\\n",
    "            <(cut -f2,2 ${base_dir}/${study}/strand_check/${ancestry}_allele_discordance.discordant_positions | tail -n +2) \\\n",
    "            <(cut -f2,2 ${base_dir}/${study}/strand_check/${ancestry}_allele_discordance.discordant_alleles_polymorphic_in_study_not_fixed_by_strand_flip | tail -n +2) | \\\n",
    "              sort -u > ${base_dir}/${study}/strand_check/${ancestry}_snps.remove\n",
    "\n",
    "        # Create flip list\n",
    "        echo \"Making flip list\"\n",
    "        comm -23 <(cut -f2,2 ${base_dir}/${study}/strand_check/${ancestry}_allele_discordance.discordant_alleles | tail -n +2 | sort -u) \\\n",
    "                 <(cut -f2,2 ${base_dir}/${study}/strand_check/${ancestry}_allele_discordance.discordant_alleles_not_fixed_by_strand_flip | tail -n +2 | sort -u) \\\n",
    "                 > ${base_dir}/${study}/strand_check/${ancestry}_snps.flip\n",
    "\n",
    "        # Apply filters\n",
    "        docker run -v ${base_dir}/$study/:/data/ rticode/plink:1.9 plink \\\n",
    "            --bfile  /data/genotype/${ancestry}/${study}_${ancestry} \\\n",
    "            --exclude /data/strand_check/${ancestry}_snps.remove \\\n",
    "            --make-bed \\\n",
    "            --out     /data/${ancestry}_filtered\n",
    "    done\n",
    "done\n",
    "\n",
    "wc -l $base_dir/*/*filtered.bim\n",
    "wc -l $base_dir/*/strand_check/*remove\n",
    "wc -l $base_dir/*/strand_check/*snps.flip"
   ]
  },
  {
   "cell_type": "markdown",
   "metadata": {},
   "source": [
    "```\n",
    "  1395192 /shared/jmarks/heroin/uhs2-4/genotype/imputed/processing/uhs2/aa_filtered.bim\n",
    "  1819914 /shared/jmarks/heroin/uhs2-4/genotype/imputed/processing/uhs2/ea_filtered.bim\n",
    "  1798198 /shared/jmarks/heroin/uhs2-4/genotype/imputed/processing/uhs3_v1-2/aa_filtered.bim\n",
    "  1840998 /shared/jmarks/heroin/uhs2-4/genotype/imputed/processing/uhs3_v1-2/ea_filtered.bim\n",
    "  1773572 /shared/jmarks/heroin/uhs2-4/genotype/imputed/processing/uhs3_v1-3/aa_filtered.bim\n",
    "  1810408 /shared/jmarks/heroin/uhs2-4/genotype/imputed/processing/uhs3_v1-3/ea_filtered.bim\n",
    "  1878289 /shared/jmarks/heroin/uhs2-4/genotype/imputed/processing/uhs4/aa_filtered.bim\n",
    "  2073567 /shared/jmarks/heroin/uhs2-4/genotype/imputed/processing/uhs4/ea_filtered.bim\n",
    " 14390138 total\n",
    "[ec2-user@ip-172-31-20-229 uhs2]$ wc -l $base_dir/*/strand_check/*remove\n",
    "    660 /shared/jmarks/heroin/uhs2-4/genotype/imputed/processing/uhs2/strand_check/aa_snps.remove\n",
    "    967 /shared/jmarks/heroin/uhs2-4/genotype/imputed/processing/uhs2/strand_check/ea_snps.remove\n",
    "  47727 /shared/jmarks/heroin/uhs2-4/genotype/imputed/processing/uhs3_v1-2/strand_check/aa_snps.remove\n",
    "  83760 /shared/jmarks/heroin/uhs2-4/genotype/imputed/processing/uhs3_v1-2/strand_check/ea_snps.remove\n",
    "  33147 /shared/jmarks/heroin/uhs2-4/genotype/imputed/processing/uhs3_v1-3/strand_check/aa_snps.remove\n",
    "  58202 /shared/jmarks/heroin/uhs2-4/genotype/imputed/processing/uhs3_v1-3/strand_check/ea_snps.remove\n",
    "     46 /shared/jmarks/heroin/uhs2-4/genotype/imputed/processing/uhs4/strand_check/aa_snps.remove\n",
    "     51 /shared/jmarks/heroin/uhs2-4/genotype/imputed/processing/uhs4/strand_check/ea_snps.remove\n",
    " 224560 total\n",
    "[ec2-user@ip-172-31-20-229 uhs2]$ wc -l $base_dir/*/strand_check/*snps.flip\n",
    "    67 /shared/jmarks/heroin/uhs2-4/genotype/imputed/processing/uhs2/strand_check/aa_snps.flip\n",
    "    78 /shared/jmarks/heroin/uhs2-4/genotype/imputed/processing/uhs2/strand_check/ea_snps.flip\n",
    "  1921 /shared/jmarks/heroin/uhs2-4/genotype/imputed/processing/uhs3_v1-2/strand_check/aa_snps.flip\n",
    "  2692 /shared/jmarks/heroin/uhs2-4/genotype/imputed/processing/uhs3_v1-2/strand_check/ea_snps.flip\n",
    "  1516 /shared/jmarks/heroin/uhs2-4/genotype/imputed/processing/uhs3_v1-3/strand_check/aa_snps.flip\n",
    "  2074 /shared/jmarks/heroin/uhs2-4/genotype/imputed/processing/uhs3_v1-3/strand_check/ea_snps.flip\n",
    "    27 /shared/jmarks/heroin/uhs2-4/genotype/imputed/processing/uhs4/strand_check/aa_snps.flip\n",
    "    35 /shared/jmarks/heroin/uhs2-4/genotype/imputed/processing/uhs4/strand_check/ea_snps.flip\n",
    "\n",
    "[ec2-user@ip-172-31-20-229 uhs2]$ wc -l $base_dir/*/strand_check/*remove\n",
    "    660 /shared/jmarks/heroin/uhs2-4/genotype/imputed/processing/uhs2/strand_check/aa_snps.remove\n",
    "    967 /shared/jmarks/heroin/uhs2-4/genotype/imputed/processing/uhs2/strand_check/ea_snps.remove\n",
    "  47727 /shared/jmarks/heroin/uhs2-4/genotype/imputed/processing/uhs3_v1-2/strand_check/aa_snps.remove\n",
    "  83760 /shared/jmarks/heroin/uhs2-4/genotype/imputed/processing/uhs3_v1-2/strand_check/ea_snps.remove\n",
    "  33147 /shared/jmarks/heroin/uhs2-4/genotype/imputed/processing/uhs3_v1-3/strand_check/aa_snps.remove\n",
    "  58202 /shared/jmarks/heroin/uhs2-4/genotype/imputed/processing/uhs3_v1-3/strand_check/ea_snps.remove\n",
    "     46 /shared/jmarks/heroin/uhs2-4/genotype/imputed/processing/uhs4/strand_check/aa_snps.remove\n",
    "     51 /shared/jmarks/heroin/uhs2-4/genotype/imputed/processing/uhs4/strand_check/ea_snps.remove\n",
    "```"
   ]
  },
  {
   "cell_type": "markdown",
   "metadata": {},
   "source": [
    "#### Remove monomorphic variants\n",
    "Monomorphic variants prevent MIS from accepting the genotype data. In this case, an arbitrarily small MAF is set that is smaller than the lower bound for these data."
   ]
  },
  {
   "cell_type": "code",
   "execution_count": null,
   "metadata": {
    "collapsed": true
   },
   "outputs": [],
   "source": [
    "# Apply filters\n",
    "for study in ${study_list}; do\n",
    "    for ancestry in ${ancestry_list};do\n",
    "        docker run -v \"${base_dir}/$study/:/data/\" rticode/plink:1.9 plink \\\n",
    "            --bfile /data/${ancestry}_filtered \\\n",
    "            --maf 0.000001 \\\n",
    "            --make-bed \\\n",
    "            --out /data/${ancestry}_filtered_mono\n",
    "    done\n",
    "done\n",
    "\n",
    "wc -l $base_dir/*/*mono.bim"
   ]
  },
  {
   "cell_type": "markdown",
   "metadata": {},
   "source": [
    "```\n",
    "  1324176 /shared/jmarks/heroin/uhs2-4/genotype/imputed/processing/uhs2/aa_filtered_mono.bim\n",
    "  1453036 /shared/jmarks/heroin/uhs2-4/genotype/imputed/processing/uhs2/ea_filtered_mono.bim\n",
    "  1581954 /shared/jmarks/heroin/uhs2-4/genotype/imputed/processing/uhs3_v1-2/aa_filtered_mono.bim\n",
    "  1198874 /shared/jmarks/heroin/uhs2-4/genotype/imputed/processing/uhs3_v1-2/ea_filtered_mono.bim\n",
    "  1569221 /shared/jmarks/heroin/uhs2-4/genotype/imputed/processing/uhs3_v1-3/aa_filtered_mono.bim\n",
    "  1195772 /shared/jmarks/heroin/uhs2-4/genotype/imputed/processing/uhs3_v1-3/ea_filtered_mono.bim\n",
    "  1802905 /shared/jmarks/heroin/uhs2-4/genotype/imputed/processing/uhs4/aa_filtered_mono.bim\n",
    "  1782512 /shared/jmarks/heroin/uhs2-4/genotype/imputed/processing/uhs4/ea_filtered_mono.bim\n",
    "```"
   ]
  },
  {
   "cell_type": "markdown",
   "metadata": {},
   "source": [
    "### Snp Intersection\n",
    "Only perform if merging datasets. \n",
    "Note that the intersection sets were created in an earlier step, however a new set needs to be created since there were subsequent filtering steps applied since the earlier step."
   ]
  },
  {
   "cell_type": "code",
   "execution_count": null,
   "metadata": {},
   "outputs": [],
   "source": [
    "# Get list of variants from all studies\n",
    "studies=($study_list)  #studies=(uhs2 uhs3_v1-2 uhs3_v1-3 uhs4) # array of study names\n",
    "num=${#studies[@]}\n",
    "\n",
    "## Get intersection set\n",
    "for ancestry in ${ancestry_list};do\n",
    "    bim_files=()\n",
    "    for (( i=0; i<${num}; i++ ));do\n",
    "        bim_files+=(${base_dir}/${studies[$i]}/${ancestry}_filtered_mono.bim)\n",
    "    done\n",
    "    \n",
    "    echo -e \"\\nCalculating intersection between $ancestry: ${study_list}...\\n\"\n",
    "    cat ${bim_files[@]}| cut -f2 | sort |  uniq -c | awk -v num=$num '$1 == num {print $2}' \\\n",
    "        > ${base_dir}/intersect/${ancestry}_variant_intersection2.txt\n",
    "    wc -l ${base_dir}/intersect/${ancestry}_variant_intersection2.txt\n",
    "done \n",
    "\n",
    "\n",
    "\n",
    "\n",
    "# Make new PLINK binary file sets\n",
    "for ancestry in ${ancestry_list};do\n",
    "    for study in ${studies[@]}; do\n",
    "        docker run -v \"${base_dir}/:/data/\" rticode/plink:1.9 plink \\\n",
    "            --bfile /data/$study/${ancestry}_filtered_mono \\\n",
    "            --extract /data/intersect/${ancestry}_variant_intersection2.txt \\\n",
    "            --make-bed \\\n",
    "            --out /data/intersect/${study}_${ancestry}_filtered_snp_intersection\n",
    "    done\n",
    "done\n",
    "    \n",
    "ww $base_dir/intersect/*section.txt"
   ]
  },
  {
   "cell_type": "markdown",
   "metadata": {},
   "source": [
    "```\n",
    "794168 /shared/jmarks/heroin/uhs2-4/genotype/imputed/processing/intersect/ea_variant_intersection2.txt\n",
    "973271 /shared/jmarks/heroin/uhs2-4/genotype/imputed/processing/intersect/aa_variant_intersection2.txt\n",
    "```"
   ]
  },
  {
   "cell_type": "markdown",
   "metadata": {},
   "source": [
    "#### Merge test\n",
    "As a final check to confirm that our data sets are all compatible, a PLINK file set merge is conducted. If any issues persist then an error will be raised. \n",
    "\n",
    "Only run this section if merging data."
   ]
  },
  {
   "cell_type": "code",
   "execution_count": null,
   "metadata": {},
   "outputs": [],
   "source": [
    "for ancestry in $ancestry_list; do\n",
    "    echo \"Creating $ancestry merge-list\"\n",
    "    truncate -s 0 ${base_dir}/intersect/${ancestry}_merge_list.txt\n",
    "    for study in $study_list; do\n",
    "        echo /data/${study}_${ancestry}_filtered_snp_intersection >>\\\n",
    "        ${base_dir}/intersect/${ancestry}_merge_list.txt\n",
    "    done\n",
    "    \n",
    "# Merge file sets\n",
    "    echo -e \"\\n\\n======== ${ancestry} ========\\n\\n\"\n",
    "    docker run -v \"${base_dir}/intersect:/data/\" rticode/plink:1.9 plink \\\n",
    "        --merge-list /data/${ancestry}_merge_list.txt \\\n",
    "        --make-bed \\\n",
    "        --out /data/${ancestry}_studies_merged\n",
    "done\n",
    "\n",
    "wc -l $base_dir/intersect/*merged*bim"
   ]
  },
  {
   "cell_type": "markdown",
   "metadata": {},
   "source": [
    "##### If errors"
   ]
  },
  {
   "cell_type": "code",
   "execution_count": null,
   "metadata": {},
   "outputs": [],
   "source": [
    "## if errors were thrown, remove missnps and run again\n",
    "# Merge file sets\n",
    "for ancestry in ${ancestry_list};do\n",
    "    for study in ${studies[@]}; do\n",
    "        docker run -v \"${base_dir}/:/data/\" rticode/plink:1.9 plink \\\n",
    "            --bfile /data/$study/${ancestry}_filtered_mono \\\n",
    "            --extract /data/intersect/${ancestry}_variant_intersection2.txt \\\n",
    "            --exclude /data/intersect/${ancestry}_studies_merged-merge.missnp \\\n",
    "            --make-bed \\\n",
    "            --out /data/intersect/${study}_${ancestry}_filtered_snp_intersection\n",
    "    done\n",
    "done\n",
    "    \n",
    "\n",
    "for ancestry in $ancestry_list; do\n",
    "    echo -e \"\\n\\n======== ${ancestry} ========\\n\\n\"\n",
    "    docker run -v \"${base_dir}/intersect:/data/\" rticode/plink:1.9 plink \\\n",
    "        --merge-list /data/${ancestry}_merge_list.txt \\\n",
    "        --make-bed \\\n",
    "        --out /data/${ancestry}_studies_merged\n",
    "done\n",
    "\n",
    "wc -l $base_dir/intersect/*merged*bim"
   ]
  },
  {
   "cell_type": "markdown",
   "metadata": {},
   "source": [
    "```\n",
    "  973215 /shared/jmarks/heroin/uhs2-4/genotype/imputed/processing/intersect/aa_studies_merged.bim\n",
    "  794121 /shared/jmarks/heroin/uhs2-4/genotype/imputed/processing/intersect/ea_studies_merged.bim\n",
    "```"
   ]
  },
  {
   "cell_type": "markdown",
   "metadata": {},
   "source": [
    "### Imputation preparation for Michigan Imputation Server\n",
    "Visit the [MIS Getting Started Webpage](https://imputationserver.sph.umich.edu/start.html#!pages/help) for more information about the preparing the data for upload to MIS.\n",
    "\n",
    "#### Remove individuals missing whole chromsome\n",
    "Remove any individual missing, essentially, an entire chromosome. Then convert the data to VCF format."
   ]
  },
  {
   "cell_type": "markdown",
   "metadata": {},
   "source": [
    "##### If NO merging was performed\n",
    "(i.e. only one study being processed)"
   ]
  },
  {
   "cell_type": "code",
   "execution_count": null,
   "metadata": {
    "collapsed": true
   },
   "outputs": [],
   "source": [
    "## Split by chr and remove any individuals with missing data for whole chr\n",
    "#for ancestry in $ancestry_list; do\n",
    "#    for chr in {1..23}; do\n",
    "#        docker run -v \"${base_dir}/:/data/\" rticode/plink:1.9 plink \\\n",
    "#            --bfile /data/$study/${ancestry}_filtered_mono \\\n",
    "#            --chr ${chr} \\\n",
    "#            --mind 0.99 \\\n",
    "#            --make-bed \\\n",
    "#            --out /data/impute_prep/${ancestry}_chr${chr}_for_phasing \n",
    "#    done\n",
    "#done > ${base_dir}/impute_prep/chr_splitting.log \n",
    "#\n",
    "#\n",
    "### look through log files to determine if any subjects were removed\n",
    "#for ancestry in $ancestry_list; do\n",
    "#    grep removed $base_dir/impute_prep/$ancestry*log |\n",
    "#        perl -lne '/(\\d+)(\\speople)/;\n",
    "#             $mycount += $1; \n",
    "#             print $mycount if eof'  > $base_dir/impute_prep/$ancestry.removed\n",
    "#    any_removed=$(cat $base_dir/impute_prep/$ancestry.removed)\n",
    "#    if [ \"$any_removed\" == 0 ]; then\n",
    "#        echo \"No $ancestry subjects removed\"\n",
    "#    else\n",
    "#        echo \"Some $ancestry subjects removed\"\n",
    "#    fi\n",
    "#done"
   ]
  },
  {
   "cell_type": "markdown",
   "metadata": {},
   "source": [
    "##### If merging was performed"
   ]
  },
  {
   "cell_type": "code",
   "execution_count": null,
   "metadata": {
    "collapsed": true
   },
   "outputs": [],
   "source": [
    "## Split by chr and remove any individuals with missing data for whole chr\n",
    "for chr in {1..23}; do \n",
    "    for ancestry in $ancestry_list;do\n",
    "        docker run -v \"${base_dir}:/data/\" rticode/plink:1.9 plink \\\n",
    "            --bfile /data/intersect/${ancestry}_studies_merged \\\n",
    "            --chr ${chr} \\\n",
    "            --mind 0.99 \\\n",
    "            --make-bed \\\n",
    "            --out /data/impute_prep/${ancestry}_chr${chr}_for_phasing\n",
    "    done > ${base_dir}/impute_prep/chr_splitting.log \n",
    "done\n",
    "\n",
    "\n",
    "## look through log files to determine if any subjects were removed\n",
    "for ancestry in $ancestry_list; do\n",
    "    grep removed $base_dir/impute_prep/$ancestry*log |\n",
    "        perl -lne '/(\\d+)(\\speople)/;\n",
    "             $mycount += $1; \n",
    "             print $mycount if eof'  > $base_dir/impute_prep/$ancestry.removed\n",
    "    any_removed=$(cat $base_dir/impute_prep/$ancestry.removed)\n",
    "    if [ \"$any_removed\" == 0 ]; then\n",
    "        echo \"No $ancestry subjects removed\"\n",
    "    else\n",
    "        echo \"Some $ancestry subjects removed\"\n",
    "    fi\n",
    "done"
   ]
  },
  {
   "cell_type": "markdown",
   "metadata": {},
   "source": [
    "```\n",
    "No ea subjects removed\n",
    "No aa subjects removed\n",
    "```"
   ]
  },
  {
   "cell_type": "markdown",
   "metadata": {},
   "source": [
    "#### Convert to VCF"
   ]
  },
  {
   "cell_type": "code",
   "execution_count": null,
   "metadata": {},
   "outputs": [],
   "source": [
    "for ancestry in ${ancestry_list}; do\n",
    "    mkdir -p ${base_dir}/impute_prep/${ancestry}\n",
    "    for chr in {1..23}; do\n",
    "        docker run -v \"${base_dir}/impute_prep/:/data/\" rticode/plink:1.9 plink \\\n",
    "            --bfile /data/${ancestry}_chr${chr}_for_phasing \\\n",
    "            --output-chr M \\\n",
    "            --set-hh-missing \\\n",
    "            --recode vcf bgz \\\n",
    "            --out /data/$ancestry/${ancestry}_chr${chr}_final\n",
    "    done\n",
    "done"
   ]
  },
  {
   "cell_type": "markdown",
   "metadata": {},
   "source": [
    "Transfer the *.vcf.gz files to local machine (per chromosome) and then upload to MIS."
   ]
  },
  {
   "cell_type": "markdown",
   "metadata": {},
   "source": [
    "### Upload to Michigan Imputation Server (MIS)\n",
    "Transfer the `*.vcf` files to local machine (per chromosome) and then upload to MIS.\n",
    "\n",
    "**Uploading parameters** \n",
    "These are the parameters that were selected on MIS:\n",
    "\n",
    "__Name__: UHS2-4 EUR\n",
    "\n",
    "__imputatation__: minimac4\n",
    "\n",
    "__Reference Panel__ 1000G Phase 3 v5\n",
    "\n",
    "__Input Files__ File Upload <br>\n",
    "\n",
    "* Select Files - select VCF files that were downloaded to local machine from cloud. <br>\n",
    "\n",
    "__Phasing__: Eagle2.4\n",
    "\n",
    "__Population__: EUR\n",
    "\n",
    "__Mode__: Quality Control & Imputation\n",
    "\n",
    "* I will not attempt to re-identify or contact research participants.\n",
    "* I will report any inadvertent data release, security breach or other data management incident of which I become aware."
   ]
  },
  {
   "cell_type": "markdown",
   "metadata": {},
   "source": [
    "### Download Imputed Data from MIS\n",
    "First Download the data form the Michigan Imputation Server by clicking on the link provided in the email they send out to alert you that your data has finished. Here you will find commands for downloading the data."
   ]
  },
  {
   "cell_type": "code",
   "execution_count": null,
   "metadata": {},
   "outputs": [],
   "source": [
    "ancestry=ea\n",
    "study=uhs234\n",
    "passW=\"WdXIdjK6y5Xba\"\n",
    "cd /shared/jmarks/heroin/uhs2-4/genotype/imputed/final/$ancestry\n",
    "\n",
    "\n",
    "# download files\n",
    "####################################################################################################\n",
    "####################################################################################################\n",
    "\n",
    "# QC-report\n",
    "curl -sL https://imputationserver.sph.umich.edu/get/1773488/677c2138d82f8bf4af22aef1fda85dc0 | bash\n",
    "# Logs\n",
    "curl -sL https://imputationserver.sph.umich.edu/get/1773495/f1f281cae8708013c4da18b6cd1af757 | bash\n",
    "# SNP Statistics\n",
    "curl -sL https://imputationserver.sph.umich.edu/get/1773492/3d47726f3dbf1f7b7879de3a62fb3c58 | bash\n",
    "# Imputation Results\n",
    "curl -sL https://imputationserver.sph.umich.edu/get/1773494/6b2cad9fb5ae71037c5952fd805e4c6 | bash\n",
    "####################################################################################################\n",
    "####################################################################################################\n",
    "\n",
    "# inflate chr results\n",
    "for file in *zip; do\n",
    "    /shared/bioinformatics/software/scripts/qsub_job.sh \\\n",
    "        --job_name unzip.$study.$ancestry.$file \\\n",
    "        --script_prefix unzip.imputed.$study.$ancestry.data \\\n",
    "        --mem 3 \\\n",
    "        --nslots 3 \\\n",
    "        --priority 0 \\\n",
    "        --program unzip -P $passW $file \n",
    "done \n",
    "\n",
    "# we can remove the original imputed data from MIS after we inflate the zip files\n",
    "rm -rf *zip\n",
    "\n",
    "# upload to s3\n",
    "aws s3 sync . s3://rti-hiv/uhs234/data/genotype/imputed/$ancestry --quiet &"
   ]
  },
  {
   "cell_type": "code",
   "execution_count": null,
   "metadata": {},
   "outputs": [],
   "source": [
    "ancestry=aa\n",
    "study=uhs234\n",
    "passW=\"4EjN7YJqJttuc5\"\n",
    "cd /shared/jmarks/heroin/uhs2-4/genotype/imputed/final/$ancestry\n",
    "\n",
    "\n",
    "# download.file\n",
    "####################################################################################################\n",
    "####################################################################################################\n",
    "\n",
    "# QC-report\n",
    "curl -sL https://imputationserver.sph.umich.edu/get/1773593/b9d8178fc0496d1db0016a88ba654573 | bash\n",
    "# Logs\n",
    "curl -sL https://imputationserver.sph.umich.edu/get/1773600/b83e05f07add3e50992eca5007d6f5b5 | bash\n",
    "# SNP Statistics\n",
    "curl -sL https://imputationserver.sph.umich.edu/get/1773597/7a53fbc310527c849e8733207f3c1810 | bash\n",
    "# Imputation Results\n",
    "curl -sL https://imputationserver.sph.umich.edu/get/1773599/191f0c269339a69ccd91eeb7869d0061 | bash\n",
    "\n",
    "####################################################################################################\n",
    "####################################################################################################\n",
    "\n",
    "# inflate chr results\n",
    "for file in *zip; do\n",
    "    /shared/bioinformatics/software/scripts/qsub_job.sh \\\n",
    "        --job_name unzip.$study.$ancestry.$file \\\n",
    "        --script_prefix unzip.imputed.$study.$ancestry.data \\\n",
    "        --mem 3 \\\n",
    "        --nslots 3 \\\n",
    "        --priority 0 \\\n",
    "        --program unzip -P $passW $file \n",
    "done \n",
    "\n",
    "# we can remove the original imputed data from MIS after we inflate the zip files\n",
    "rm -rf *zip\n",
    "\n",
    "# upload to s3\n",
    "aws s3 sync . s3://rti-heroin/shared_data/post_qc/uhs234/genotype/array/imputed/mis_eagle2/1000g_p3/afr/ "
   ]
  },
  {
   "cell_type": "markdown",
   "metadata": {},
   "source": [
    "## Phenotype file construction\n",
    "### Data wrangling\n",
    "Create a phenotype table filtered by the subjects available in the genotype data. Since the GWAS for UHS2—3 and the GWAS for UHS4 were already ran, we will use the phenotype files already available and combine them to make a new table.\n",
    "\n",
    "variables of interest:\n",
    "* `sex`\n",
    "* `age`\n",
    "* `genotype PCs`\n",
    "\n",
    "The merged genotype files are located at:\n",
    "* `/shared/jmarks/heroin/uhs2-4/genotype/imputed/processing/intersect/{aa,ea}_studies_merged.{bed,bim,fam}`\n",
    "\n",
    "\n",
    "The FOU phenotype is already converted to z-scores.\n",
    "```\n",
    " wc -l aa_studies_merged.fam\n",
    "2017 aa_studies_merged.fam\n",
    "\n",
    "wc -l ea_studies_merged.fam\n",
    "1894 ea_studies_merged.fam\n",
    "```"
   ]
  },
  {
   "cell_type": "code",
   "execution_count": null,
   "metadata": {},
   "outputs": [],
   "source": [
    "## create merged phenotype table\n",
    "cd /shared/jmarks/heroin/uhs2-4/phenotype/processing/uhs2-3\n",
    "\n",
    "paste <(cut -f1,2,5,6 uhs2-3_NGCW1_AFR_cov.ped) \\\n",
    "    <(cut -f6 uhs2-3_NGCW1_AFR_phen.ped)  >\\\n",
    "    ../uhs23_afr_phenotype_table.txt # ID, sex, age\n",
    "paste <(cut -f1,2,5,6 uhs2-3_NGCW1_EUR_cov.ped) \\\n",
    "    <(cut -f6 uhs2-3_NGCW1_EUR_phen.ped)  >\\\n",
    "    ../uhs23_eur_phenotype_table.txt\n",
    "\n",
    "\n",
    "cd /shared/jmarks/heroin/uhs2-4/phenotype/processing/uhs4\n",
    "# splitting the fid in half. Also fid and iid are the same\n",
    "awk 'BEGIN{OFS=\"\\t\"} NR==1{print $1,$2,$5,$7,$6} \n",
    "    {a=substr($1, 1, length($1)/2)} NR>=2{print a,a,$5,$7,$6}' \\\n",
    "    afr/uhs4_box_cox_totopioid_tot_30d.tsv > ../uhs4_afr_phenotype_table.txt # fid, iid, sex, age, totopioid_tot_30d\n",
    "awk 'BEGIN{OFS=\"\\t\"} NR==1{print $1,$2,$5,$7,$6} \n",
    "    {a=substr($1, 1, length($1)/2)} NR>=2{print a,a,$5,$7,$6}' \\\n",
    "    eur/uhs4_box_cox_totopioid_tot_30d.tsv > ../uhs4_eur_phenotype_table.txt\n",
    "\n",
    "# merge UHS2–3 and UHS4\n",
    "cat uhs23_afr_phenotype_table.txt <(tail -n +2 uhs4_afr_phenotype_table.txt) >\\\n",
    "    uhs234_afr_phenotype_table.txt\n",
    "cat uhs23_eur_phenotype_table.txt <(tail -n +2 uhs4_eur_phenotype_table.txt) >\\\n",
    "    uhs234_eur_phenotype_table.txt"
   ]
  },
  {
   "cell_type": "markdown",
   "metadata": {},
   "source": [
    "```\n",
    "wc -l uhs234_afr_phenotype_table.txt\n",
    "1774 uhs234_afr_phenotype_table.txt\n",
    "\n",
    "wc -l uhs234_eur_phenotype_table.txt\n",
    "1841 uhs234_eur_phenotype_table.txt\n",
    "```"
   ]
  },
  {
   "cell_type": "code",
   "execution_count": null,
   "metadata": {},
   "outputs": [],
   "source": [
    "## filter genotype files down to subjects in phenotype files\n",
    "afr_gen=/shared/jmarks/heroin/uhs2-4/genotype/imputed/processing/intersect/aa_studies_merged.fam\n",
    "eur_gen=/shared/jmarks/heroin/uhs2-4/genotype/imputed/processing/intersect/ea_studies_merged.fam\n",
    "\n",
    "mkdir /shared/jmarks/heroin/uhs2-4/phenotype/processing/eig \n",
    "\n",
    "tail -n +2 uhs234_afr_phenotype_table.txt  | awk '{print $1, $1}' > uhs234_afr_keep_ids.txt\n",
    "tail -n +2 uhs234_eur_phenotype_table.txt  | awk '{print $1, $1}' > uhs234_eur_keep_ids.txt\n",
    "\n",
    "\n",
    "#awk 'FNR==NR{map[$1]=$1; next} \n",
    "#    { if ($1 in map) \n",
    "#    {print $0}}' uhs234_afr_keep_ids.txt ${afr_gen}  > uhs234_afr_filtered.fam\n",
    "#\n",
    "#awk 'FNR==NR{map[$1]=$1; next} \n",
    "#    { if ($1 in map) \n",
    "#    {print $0}}' uhs234_eur_keep_ids.txt ${eur_gen}  > uhs234_eur_filtered.fam\n",
    "\n",
    "\n",
    "# create updated plink filesets for PCA\n",
    "docker run -v /shared/jmarks/heroin/uhs2-4/phenotype/processing:/data/ \\\n",
    "           -v /shared/jmarks/heroin/uhs2-4/genotype/imputed/processing/intersect:/data/intersect \\\n",
    "    rticode/plink:1.9 plink \\\n",
    "        --bfile /data/intersect/aa_studies_merged \\\n",
    "        --keep /data/uhs234_afr_keep_ids.txt \\\n",
    "        --make-bed \\\n",
    "        --out /data/eig/uhs234_afr_genotypes\n",
    "\n",
    "docker run -v /shared/jmarks/heroin/uhs2-4/phenotype/processing:/data/ \\\n",
    "           -v /shared/jmarks/heroin/uhs2-4/genotype/imputed/processing/intersect:/data/intersect \\\n",
    "    rticode/plink:1.9 plink \\\n",
    "        --bfile /data/intersect/ea_studies_merged \\\n",
    "        --keep /data/uhs234_eur_keep_ids.txt \\\n",
    "        --make-bed \\\n",
    "        --out /data/eig/uhs234_eur_genotypes"
   ]
  },
  {
   "cell_type": "markdown",
   "metadata": {},
   "source": [
    "```\n",
    "  1711 uhs234_afr_filtered.fam\n",
    "  1563 uhs234_eur_filtered.fam\n",
    "```"
   ]
  },
  {
   "cell_type": "code",
   "execution_count": null,
   "metadata": {},
   "outputs": [],
   "source": [
    "## filter phenotype down to subjects with both phenotype & genotype data\n",
    "cd /shared/jmarks/heroin/uhs2-4/phenotype/processing/\n",
    "\n",
    "for an in {afr,eur}; do\n",
    "    awk 'NR==FNR{map[$1]=$1; next} FNR==1 {print $0} {\n",
    "        if ($1 in map){\n",
    "            {print $0}\n",
    "        }\n",
    "        }' eig/uhs234_${an}_genotypes.fam uhs234_${an}_phenotype_table.txt >\\\n",
    "        uhs234_${an}_phenotype_table_filtered.txt\n",
    "\n",
    "done"
   ]
  },
  {
   "cell_type": "markdown",
   "metadata": {},
   "source": [
    "### PCA (eigenstrat)"
   ]
  },
  {
   "cell_type": "code",
   "execution_count": null,
   "metadata": {
    "code_folding": [
     0
    ]
   },
   "outputs": [],
   "source": [
    "#!/bin/bash\n",
    "\n",
    "## Set global variables ##\n",
    "anlist=\"afr eur\" # Ex. \"afr\" or \"afr eur\"\n",
    "study=\"uhs234\"\n",
    "procD=\"/shared/jmarks/heroin/uhs2-4/phenotype/processing\"  # phenotype processing directory\n",
    "eig=\"$procD/eig\" # do not alter\n",
    "mkdir -p $eig/results # do not alter\n",
    "\n",
    "\n",
    "## Genotype Data should be in the directory $eig\n",
    "## The genotype data names should be of the form: ${study}_${an}_genotype.{bed,bim,fam}. For Example:\n",
    "## uhs234_afr_genotypes.bed, uhs234_afr_genotypes.bim, uhs234_afr_genotypes.fam\n",
    "\n",
    "## The FAM file should have case control information in column 6 if applicable\n",
    "\n",
    "# Do not edit below this line\n",
    "################################################################################\n",
    "################################################################################\n",
    "\n",
    "## Remove high-LD region variants ##\n",
    "for an in $anlist; do\n",
    "    perl -lane 'if (($F[0]==5 && $F[3] >= 43964243 && $F[3] <= 51464243) || ($F[0]==6 && $F[3] >= 24892021 && $F[3] <= 33392022) || ($F[0]==8 && $F[3] >= 7962590 && $F[3] <= 11962591) || ($F[0]==11 && $F[3] >= 45043424 && $F[3] <= 57243424)) { print $F[1].\"\\n\"; }' \\\n",
    "        $eig/${study}_${an}_genotypes.bim > $eig/${study}_${an}_genotypes_high_ld_regions.remove\n",
    "\n",
    "    # Remove SNPs in known high-LD regions\n",
    "    /shared/bioinformatics/software/third_party/plink-1.90-beta-4.10-x86_64/plink \\\n",
    "        --noweb \\\n",
    "        --bfile $eig/${study}_${an}_genotypes \\\n",
    "        --exclude $eig/${study}_${an}_genotypes_high_ld_regions.remove \\\n",
    "        --make-bed \\\n",
    "        --out $eig/${study}_${an}_genotypes_high_ld_regions_removed\n",
    "done\n",
    "\n",
    "## Linkage disequilibrium pruning ##\n",
    "for an in $anlist;do\n",
    "    for chr in {1..22}; do\n",
    "        /shared/bioinformatics/software/third_party/plink-1.90-beta-4.10-x86_64/plink \\\n",
    "            --noweb \\\n",
    "            --memory 3000 \\\n",
    "            --bfile $eig/${study}_${an}_genotypes_high_ld_regions_removed \\\n",
    "            --indep-pairwise 1500 150 0.2 \\\n",
    "            --chr ${chr} \\\n",
    "            --out $eig/${an}_chr${chr}_ld_pruned\n",
    "    done\n",
    "done\n",
    "\n",
    "## Merge *prune.in files ##\n",
    "for an in $anlist; do\n",
    "    cat $eig/${an}_chr*_ld_pruned.prune.in > $eig/${an}_chr_all_ld_pruned.prune.in\n",
    "\n",
    "    # Create new PLINK filesets with only lD pruned variants\n",
    "    /shared/bioinformatics/software/third_party/plink-1.90-beta-4.10-x86_64/plink \\\n",
    "        --noweb \\\n",
    "        --bfile $eig/${study}_${an}_genotypes_high_ld_regions_removed \\\n",
    "        --extract $eig/${an}_chr_all_ld_pruned.prune.in \\\n",
    "        --make-bed \\\n",
    "        --out $eig/${study}_${an}_genotypes_ld_pruned\n",
    "done\n",
    "\n",
    "# Clean up\n",
    "rm $eig/*ld_pruned.{prune.in,prune.out,log}\n",
    "rm $eig/*ld_prune*qsub*\n",
    "rm $eig/*high_ld_regions*\n",
    "rm $eig/*nosex\n",
    "\n",
    "\n",
    "## Rename BIM/FAM file IDs ##\n",
    "for an in $anlist;do\n",
    "    # Rename FAM file IDs\n",
    "    awk '{$1=\"ID_\"NR; $2=\"ID_\"NR; print $0}' $eig/${study}_${an}_genotypes_ld_pruned.fam \\\n",
    "        > $eig/${study}_${an}_genotypes_ld_pruned_renamed.fam\n",
    "\n",
    "    ## Rename BIM file IDs ##\n",
    "    awk '{$2=\"ID_\"NR; print $0}' $eig/${study}_${an}_genotypes_ld_pruned.bim \\\n",
    "        > $eig/${study}_${an}_genotypes_ld_pruned_renamed.bim\n",
    "done\n",
    "\n",
    "## run eigenstrat ##\n",
    "for an in $anlist; do\n",
    "    famfile=\"$eig/${study}_${an}_genotypes_ld_pruned_renamed.fam\"\n",
    "    bimfile=\"$eig/${study}_${an}_genotypes_ld_pruned_renamed.bim\"\n",
    "    bedfile=\"$eig/${study}_${an}_genotypes_ld_pruned.bed\"\n",
    "\n",
    "    /shared/bioinformatics/software/third_party/EIG-6.1.4/bin/smartpca.perl \\\n",
    "        -i $bedfile \\\n",
    "        -a $bimfile \\\n",
    "        -b $famfile \\\n",
    "        -o $eig/results/${an}_ld_pruned.pca \\\n",
    "        -p $eig/results/${an}_ld_pruned.plot \\\n",
    "        -e $eig/results/${an}_ld_pruned.eval \\\n",
    "        -l $eig/results/${an}_ld_pruned.pca.log \\\n",
    "        -m 0\n",
    "done\n",
    "\n",
    "## Extract eigenvectors (top 10 PCs) ##\n",
    "for an in $anlist; do\n",
    "    echo \"FID IID EV1 EV2 EV3 EV4 EV5 EV6 EV7 EV8 EV9 EV10\" > $eig/results/${an}_ld_pruned_top10_eigenvecs.txt\n",
    "    tail -n +2 $eig/results/${an}_ld_pruned.pca.evec | \\\n",
    "        perl -lne 's/:/ /; @F=split; print join(\" \",$F[0],$F[1],$F[2],$F[3],$F[4],$F[5],$F[6],$F[7],$F[8],$F[9],$F[10],$F[11]);' \\\n",
    "        >> $eig/results/${an}_ld_pruned_top10_eigenvecs.txt\n",
    "done\n",
    "\n",
    "\n",
    "## Next produce PCA plots"
   ]
  },
  {
   "cell_type": "code",
   "execution_count": null,
   "metadata": {},
   "outputs": [],
   "source": [
    "## run the above pipeline\n",
    "study=uhs234\n",
    "procD=/shared/jmarks/heroin/uhs2-4/phenotype/processing\n",
    "/shared/bioinformatics/software/scripts/qsub_job.sh \\\n",
    "    --job_name $study.pca \\\n",
    "    --script_prefix $procD/eig/$study.pca \\\n",
    "    --priority 0 \\\n",
    "    --program bash $procD/${study}_pca.sh"
   ]
  },
  {
   "cell_type": "markdown",
   "metadata": {},
   "source": [
    "### View PCs"
   ]
  },
  {
   "cell_type": "code",
   "execution_count": null,
   "metadata": {},
   "outputs": [],
   "source": [
    "## Copy top PCs to local\n",
    "cd /cygdrive/c/Users/jmarks/OneDrive - Research Triangle Institute/Projects/heroin/ngc/uhs/uhs2-4/phenotype/processing\n",
    "$ scp -i /home/jmarks/.ssh/gwas_rsa ec2-user@34.195.174.206:/shared/jmarks/heroin/uhs2-4/phenotype/processing/eig/results/*top10* .\n",
    "$ scp -i /home/jmarks/.ssh/gwas_rsa ec2-user@34.195.174.206:/shared/jmarks/heroin/uhs2-4/phenotype/processing/eig/results/*evec .\n",
    "$ scp -i /home/jmarks/.ssh/gwas_rsa ec2-user@34.195.174.206:/shared/jmarks/heroin/uhs2-4/phenotype/processing/uhs234_afr_phenotype_table_filtered.txt .\n",
    "$ scp -i /home/jmarks/.ssh/gwas_rsa ec2-user@34.195.174.206:/shared/jmarks/heroin/uhs2-4/phenotype/processing/uhs234_eur_phenotype_table_filtered.txt .\n"
   ]
  },
  {
   "cell_type": "code",
   "execution_count": 8,
   "metadata": {},
   "outputs": [
    {
     "data": {
      "text/html": [
       "<table>\n",
       "<thead><tr><th></th><th scope=col>V2</th><th scope=col>V3</th><th scope=col>V4</th><th scope=col>V5</th><th scope=col>V6</th></tr></thead>\n",
       "<tbody>\n",
       "\t<tr><th scope=row>ID_1:ID_1</th><td> 0.0249</td><td> 0.0025</td><td>-0.0016</td><td> 0.0125</td><td>-0.0066</td></tr>\n",
       "\t<tr><th scope=row>ID_2:ID_2</th><td> 0.0068</td><td>-0.0022</td><td>-0.0047</td><td>-0.0058</td><td> 0.0062</td></tr>\n",
       "\t<tr><th scope=row>ID_3:ID_3</th><td> 0.0026</td><td>-0.0012</td><td>-0.0008</td><td> 0.0006</td><td>-0.0066</td></tr>\n",
       "\t<tr><th scope=row>ID_4:ID_4</th><td> 0.0223</td><td>-0.0062</td><td> 0.0104</td><td>-0.0026</td><td>-0.0132</td></tr>\n",
       "\t<tr><th scope=row>ID_5:ID_5</th><td> 0.0192</td><td>-0.0026</td><td>-0.0025</td><td> 0.0009</td><td> 0.0006</td></tr>\n",
       "\t<tr><th scope=row>ID_6:ID_6</th><td>-0.0150</td><td> 0.0026</td><td>-0.0052</td><td>-0.0057</td><td>-0.0076</td></tr>\n",
       "</tbody>\n",
       "</table>\n"
      ],
      "text/latex": [
       "\\begin{tabular}{r|lllll}\n",
       "  & V2 & V3 & V4 & V5 & V6\\\\\n",
       "\\hline\n",
       "\tID\\_1:ID\\_1 &  0.0249 &  0.0025 & -0.0016 &  0.0125 & -0.0066\\\\\n",
       "\tID\\_2:ID\\_2 &  0.0068 & -0.0022 & -0.0047 & -0.0058 &  0.0062\\\\\n",
       "\tID\\_3:ID\\_3 &  0.0026 & -0.0012 & -0.0008 &  0.0006 & -0.0066\\\\\n",
       "\tID\\_4:ID\\_4 &  0.0223 & -0.0062 &  0.0104 & -0.0026 & -0.0132\\\\\n",
       "\tID\\_5:ID\\_5 &  0.0192 & -0.0026 & -0.0025 &  0.0009 &  0.0006\\\\\n",
       "\tID\\_6:ID\\_6 & -0.0150 &  0.0026 & -0.0052 & -0.0057 & -0.0076\\\\\n",
       "\\end{tabular}\n"
      ],
      "text/markdown": [
       "\n",
       "| <!--/--> | V2 | V3 | V4 | V5 | V6 |\n",
       "|---|---|---|---|---|---|\n",
       "| ID_1:ID_1 |  0.0249 |  0.0025 | -0.0016 |  0.0125 | -0.0066 |\n",
       "| ID_2:ID_2 |  0.0068 | -0.0022 | -0.0047 | -0.0058 |  0.0062 |\n",
       "| ID_3:ID_3 |  0.0026 | -0.0012 | -0.0008 |  0.0006 | -0.0066 |\n",
       "| ID_4:ID_4 |  0.0223 | -0.0062 |  0.0104 | -0.0026 | -0.0132 |\n",
       "| ID_5:ID_5 |  0.0192 | -0.0026 | -0.0025 |  0.0009 |  0.0006 |\n",
       "| ID_6:ID_6 | -0.0150 |  0.0026 | -0.0052 | -0.0057 | -0.0076 |\n",
       "\n"
      ],
      "text/plain": [
       "          V2      V3      V4      V5      V6     \n",
       "ID_1:ID_1  0.0249  0.0025 -0.0016  0.0125 -0.0066\n",
       "ID_2:ID_2  0.0068 -0.0022 -0.0047 -0.0058  0.0062\n",
       "ID_3:ID_3  0.0026 -0.0012 -0.0008  0.0006 -0.0066\n",
       "ID_4:ID_4  0.0223 -0.0062  0.0104 -0.0026 -0.0132\n",
       "ID_5:ID_5  0.0192 -0.0026 -0.0025  0.0009  0.0006\n",
       "ID_6:ID_6 -0.0150  0.0026 -0.0052 -0.0057 -0.0076"
      ]
     },
     "metadata": {},
     "output_type": "display_data"
    },
    {
     "data": {
      "text/html": [
       "<table>\n",
       "<thead><tr><th></th><th scope=col>V2</th><th scope=col>V3</th><th scope=col>V4</th><th scope=col>V5</th><th scope=col>V6</th></tr></thead>\n",
       "<tbody>\n",
       "\t<tr><th scope=row>ID_1:ID_1</th><td>0.0215 </td><td>-0.0014</td><td>-0.0057</td><td> 0.0052</td><td> 0.0054</td></tr>\n",
       "\t<tr><th scope=row>ID_2:ID_2</th><td>0.0005 </td><td> 0.0032</td><td> 0.0061</td><td>-0.0141</td><td>-0.0020</td></tr>\n",
       "\t<tr><th scope=row>ID_3:ID_3</th><td>0.0118 </td><td>-0.0010</td><td> 0.0063</td><td>-0.0064</td><td> 0.0029</td></tr>\n",
       "\t<tr><th scope=row>ID_4:ID_4</th><td>0.0068 </td><td> 0.0013</td><td> 0.0008</td><td>-0.0056</td><td> 0.0000</td></tr>\n",
       "\t<tr><th scope=row>ID_5:ID_5</th><td>0.0125 </td><td>-0.0050</td><td> 0.0028</td><td>-0.0108</td><td> 0.0020</td></tr>\n",
       "\t<tr><th scope=row>ID_6:ID_6</th><td>0.0130 </td><td>-0.0021</td><td> 0.0021</td><td>-0.0102</td><td> 0.0002</td></tr>\n",
       "</tbody>\n",
       "</table>\n"
      ],
      "text/latex": [
       "\\begin{tabular}{r|lllll}\n",
       "  & V2 & V3 & V4 & V5 & V6\\\\\n",
       "\\hline\n",
       "\tID\\_1:ID\\_1 & 0.0215  & -0.0014 & -0.0057 &  0.0052 &  0.0054\\\\\n",
       "\tID\\_2:ID\\_2 & 0.0005  &  0.0032 &  0.0061 & -0.0141 & -0.0020\\\\\n",
       "\tID\\_3:ID\\_3 & 0.0118  & -0.0010 &  0.0063 & -0.0064 &  0.0029\\\\\n",
       "\tID\\_4:ID\\_4 & 0.0068  &  0.0013 &  0.0008 & -0.0056 &  0.0000\\\\\n",
       "\tID\\_5:ID\\_5 & 0.0125  & -0.0050 &  0.0028 & -0.0108 &  0.0020\\\\\n",
       "\tID\\_6:ID\\_6 & 0.0130  & -0.0021 &  0.0021 & -0.0102 &  0.0002\\\\\n",
       "\\end{tabular}\n"
      ],
      "text/markdown": [
       "\n",
       "| <!--/--> | V2 | V3 | V4 | V5 | V6 |\n",
       "|---|---|---|---|---|---|\n",
       "| ID_1:ID_1 | 0.0215  | -0.0014 | -0.0057 |  0.0052 |  0.0054 |\n",
       "| ID_2:ID_2 | 0.0005  |  0.0032 |  0.0061 | -0.0141 | -0.0020 |\n",
       "| ID_3:ID_3 | 0.0118  | -0.0010 |  0.0063 | -0.0064 |  0.0029 |\n",
       "| ID_4:ID_4 | 0.0068  |  0.0013 |  0.0008 | -0.0056 |  0.0000 |\n",
       "| ID_5:ID_5 | 0.0125  | -0.0050 |  0.0028 | -0.0108 |  0.0020 |\n",
       "| ID_6:ID_6 | 0.0130  | -0.0021 |  0.0021 | -0.0102 |  0.0002 |\n",
       "\n"
      ],
      "text/plain": [
       "          V2     V3      V4      V5      V6     \n",
       "ID_1:ID_1 0.0215 -0.0014 -0.0057  0.0052  0.0054\n",
       "ID_2:ID_2 0.0005  0.0032  0.0061 -0.0141 -0.0020\n",
       "ID_3:ID_3 0.0118 -0.0010  0.0063 -0.0064  0.0029\n",
       "ID_4:ID_4 0.0068  0.0013  0.0008 -0.0056  0.0000\n",
       "ID_5:ID_5 0.0125 -0.0050  0.0028 -0.0108  0.0020\n",
       "ID_6:ID_6 0.0130 -0.0021  0.0021 -0.0102  0.0002"
      ]
     },
     "metadata": {},
     "output_type": "display_data"
    }
   ],
   "source": [
    "### R console ###\n",
    "# Load PCA data\n",
    "setwd(\"C:/Users/jmarks/OneDrive - Research Triangle Institute/Projects/heroin/ngc/uhs/uhs2-4/phenotype/processing\")\n",
    "options(stringsAsFactors = F)\n",
    "afr.evec <- read.table(\"afr_ld_pruned.pca.evec\", comment.char=\"#\", sep=\"\", row.names=1)\n",
    "eur.evec <- read.table(\"eur_ld_pruned.pca.evec\", comment.char=\"#\", sep=\"\", row.names=1)\n",
    "head(afr.evec[,1:5])\n",
    "head(eur.evec[,1:5])"
   ]
  },
  {
   "cell_type": "code",
   "execution_count": 11,
   "metadata": {},
   "outputs": [
    {
     "data": {
      "image/png": "[encoded data removed]",
      "text/plain": [
       "Plot with title \"UHS2-4 EUR\""
      ]
     },
     "metadata": {},
     "output_type": "display_data"
    },
    {
     "data": {
      "image/png": "[encoded data removed]",
      "text/plain": [
       "Plot with title \"UHS2-4 EUR\""
      ]
     },
     "metadata": {},
     "output_type": "display_data"
    },
    {
     "data": {
      "image/png": "[encoded data removed]",
      "text/plain": [
       "Plot with title \"UHS2-4 AFR\""
      ]
     },
     "metadata": {},
     "output_type": "display_data"
    },
    {
     "data": {
      "image/png": "[encoded data removed]",
      "text/plain": [
       "Plot with title \"UHS2-4 AFR\""
      ]
     },
     "metadata": {},
     "output_type": "display_data"
    }
   ],
   "source": [
    "### View PCs ###\n",
    "## R console ##\n",
    "# Function for plotting off-diagonal scatterplots\n",
    "plot.offdiag <- function(x, y, colors=label.colors){\n",
    "    #Make x and y axes equal\n",
    "    limits <- c(min(x,y), max(x,y)) * 1.3\n",
    "    par(usr = c(limits, limits))\n",
    "    points(x,y, col=colors, pch=16)\n",
    "}\n",
    "\n",
    "# Function for plotting diagonal density plots\n",
    "plot.diag <- function(x, colors=label.colors){\n",
    "    d <- density(x, bw=0.01, kernel=\"gaussian\")\n",
    "    #Update plot axes limits\n",
    "    par(usr = c(range(d$x), range(d$y)*1.3))\n",
    "    points(d$x,d$y, type=\"l\")\n",
    "    #Add PC values\n",
    "    points(x=x, y=jitter(rep(mean(d$y),times=d$n),factor=5), col=label.colors, pch=16)\n",
    "}\n",
    "\n",
    "\n",
    "## EUR ##\n",
    "#Run PCA and get % variance\n",
    "eur.dspace <- eur.evec[1:10] #transformed dataspace\n",
    "\n",
    "#Color label samples\n",
    "label.colors <- rgb(0,80,190,80, maxColorValue=255) #blue\n",
    "\n",
    "options(repr.plot.width=8, repr.plot.height=8)\n",
    "#Redefine outer margin\n",
    "par(oma = c(4, 1, 2, 1))\n",
    "pairs(x=eur.dspace[,1:5], panel=plot.offdiag, diag.panel=plot.diag, \n",
    "      labels=paste0(\"PC\",1:5), label.pos=0.9, cex.labels=1.8)\n",
    "par(fig=c(0, 1, 0, 1), oma=c(0, 0, 0, 0), mar=c(0, 0, 1.5, 0), new=TRUE)\n",
    "plot(0, 0, type = \"n\", bty = \"n\", xaxt = \"n\", yaxt = \"n\", main=\"UHS2-4 EUR\", cex.main=1)\n",
    "\n",
    "par(oma = c(4, 1, 2, 1))\n",
    "pairs(x=eur.dspace[,6:10], panel=plot.offdiag, diag.panel=plot.diag, \n",
    "      labels=paste0(\"PC\",6:10), label.pos=0.9, cex.labels=1.8)\n",
    "par(fig=c(0, 1, 0, 1), oma=c(0, 0, 0, 0), mar=c(0, 0, 1.5, 0), new=TRUE)\n",
    "plot(0, 0, type = \"n\", bty = \"n\", xaxt = \"n\", yaxt = \"n\", main=\"UHS2-4 EUR\", cex.main=1)\n",
    "\n",
    "\n",
    "## AFR ##\n",
    "#Run PCA and get % variance\n",
    "afr.dspace <- afr.evec[1:10] #transformed dataspace\n",
    "\n",
    "#Color label samples\n",
    "label.colors <- rgb(200,80,80,80, maxColorValue=255) #red\n",
    "\n",
    "options(repr.plot.width=8, repr.plot.height=8)\n",
    "#Redefine outer margin\n",
    "par(oma = c(4, 1, 2, 1))\n",
    "pairs(x=afr.dspace[,1:5], panel=plot.offdiag, diag.panel=plot.diag, \n",
    "      labels=paste0(\"PC\",1:5), label.pos=0.9, cex.labels=1.8)\n",
    "par(fig=c(0, 1, 0, 1), oma=c(0, 0, 0, 0), mar=c(0, 0, 1.5, 0), new=TRUE)\n",
    "plot(0, 0, type = \"n\", bty = \"n\", xaxt = \"n\", yaxt = \"n\", main=\"UHS2-4 AFR\", cex.main=1)\n",
    "\n",
    "par(oma = c(4, 1, 2, 1))\n",
    "pairs(x=afr.dspace[,6:10], panel=plot.offdiag, diag.panel=plot.diag, \n",
    "      labels=paste0(\"PC\",6:10), label.pos=0.9, cex.labels=1.8)\n",
    "par(fig=c(0, 1, 0, 1), oma=c(0, 0, 0, 0), mar=c(0, 0, 1.5, 0), new=TRUE)\n",
    "plot(0, 0, type = \"n\", bty = \"n\", xaxt = \"n\", yaxt = \"n\", main=\"UHS2-4 AFR\", cex.main=1)\n",
    "\n",
    "\n"
   ]
  },
  {
   "cell_type": "markdown",
   "metadata": {},
   "source": [
    "### PC Selection\n",
    "Example phenotype file.\n",
    "```\n",
    "IID FID sex age fou\n",
    "```"
   ]
  },
  {
   "cell_type": "code",
   "execution_count": 17,
   "metadata": {},
   "outputs": [],
   "source": [
    "### PC Selection ###\n",
    "## R functions, DO NOT ALTER THIS CODE ##\n",
    "create_pedfile <- function(phen_file, pca_file, phenotype, sex_var, covariates, study, ancestry){\n",
    "    \n",
    "    # phenotype file\n",
    "    pheno_data <- read.delim(phen_file, sep=\"\")\n",
    "    pca_data <- read.delim(pca_file, sep=\"\")\n",
    "    other_pedcols <- c(\"fid\", \"iid\", \"patid\", \"matid\", sex_var)\n",
    "    ped_width <- length(other_pedcols) + length(phenotype)\n",
    "    ped_length <- nrow(pheno_data)\n",
    "    ped_file <- data.frame(matrix(ncol=ped_width, nrow=ped_length))\n",
    "    colnames(ped_file) <- c(other_pedcols, phenotype)\n",
    "    ped_file[phenotype] <- pheno_data[phenotype]\n",
    "    ped_file[sex_var] <- pheno_data[sex_var]\n",
    "    ped_file[\"fid\"] <- pheno_data[1]\n",
    "    ped_file[\"iid\"] <- pheno_data[2]\n",
    "    \n",
    "    # covariate file\n",
    "    num_cols <- 14 + length(covs)\n",
    "    covar_data <- data.frame(matrix(ncol=num_cols, nrow=ped_length))\n",
    "    colnames(covar_data) <- c(\"fid\", \"iid\", \"patid\", \"matid\", covs,\n",
    "                             \"PC1\", \"PC2\",\"PC3\",\"PC4\",\"PC5\",\"PC6\",\"PC7\",\"PC8\",\"PC9\",\"PC10\")\n",
    "    covar_data[,1:4] <- ped_file[, 1:4]\n",
    "    for (i in covs){\n",
    "        covar_data[,i] <- pheno_data[,i]\n",
    "    }\n",
    "    \n",
    "    covar_data[, (num_cols-9):num_cols] <- pca_data[,3:12]\n",
    "    write.table(ped_file, paste(study,\"_\", ancestry, \"_phen.ped\", sep=\"\"), sep = \"\\t\", row.names = F, quote=F)\n",
    "    write.table(covar_data, paste(study,\"_\", ancestry, \"_cov.ped\", sep=\"\"), sep = \"\\t\", row.names = F, quote=F)\n",
    "    head(ped_file)\n",
    "    \n",
    "    } # end function\n",
    "\n",
    "regression_analysis <- function(cov_file, phen_file, phenotype_name, model_type, ancestry){\n",
    "    options(stringsAsFactors=F)\n",
    "    \n",
    "    cov_data <- read.delim(cov_file, sep=\"\")\n",
    "    phen_data <- read.delim(phen_file, sep=\"\")\n",
    "    pc_names <- paste0(\"PC\", 1:10)\n",
    "    merge_data <- merge(x=phen_data[,c(\"iid\", phenotype_name)], y=cov_data[, c(\"iid\", pc_names)], by=\"iid\")\n",
    "    \n",
    "    model.str <- paste0(phenotype_name, \"~\", paste(pc_names, collapse=\" + \")) \n",
    "    cat(\"MODEL FORMULA:\\n\\n\", model.str, \"\\n\")\n",
    "    \n",
    "    # Get model fits\n",
    "    if (model_type==\"continuous\"){\n",
    "        model_fit <- lm(formula=as.formula(model.str), data=merge_data)\n",
    "        pve_calc <- \"Mean Sq\"\n",
    "    }\n",
    "    else if (model_type==\"logistic\"){\n",
    "        model_fit <- glm(formula=as.formula(model.str), data=merge_data, family=binomial(link=\"logit\"))\n",
    "        pve_calc <- \"Deviance\"\n",
    "    }\n",
    "    \n",
    "    # Get sequential (type I) sum of squares\n",
    "    anova_model <- anova(model_fit)\n",
    "    \n",
    "    # Calculate percent variance explained and sort\n",
    "    variance_explained <- cbind(anova_model[pc_names,], \n",
    "                    PVE=round(anova_model[pc_names, pve_calc]/sum(anova_model[pc_names, pve_calc])*100, digits=2))\n",
    "    pve_sorted <- variance_explained[order(variance_explained$PVE, decreasing=T),]\n",
    "    \n",
    "    # Output regression info\n",
    "    cat(paste(\"\\n\\n================\", ancestry,  \"group ================\\n\"))\n",
    "    summary(model_fit)\n",
    "    pve_sorted\n",
    "    \n",
    "    # Percent Variance Explained Visualization\n",
    "    options(repr.plot.width=13, repr.plot.height=5)\n",
    "\n",
    "    # Set graphical parameters\n",
    "    cex.factor <- 0.9\n",
    "    barplot_ylim <- c(0, max(variance_explained$PVE)*1.2)\n",
    "\n",
    "    pv_list <- vector(length = 10)\n",
    "    total <- 0\n",
    "    for (i in 1:nrow(pve_sorted)){\n",
    "        pv_list[i] <- row.names(pve_sorted[i,])\n",
    "        total <- total + pve_sorted[i, \"PVE\"]\n",
    "        #print(total)\n",
    "        if (total >= 75) break\n",
    "    }\n",
    "\n",
    "    topPCs <- pv_list[which(pv_list != \"FALSE\")]\n",
    "    cat(\"Top PCs: \",topPCs, \"\\n\")\n",
    "    cat(paste(\"PVE:     \", total))\n",
    "\n",
    "    # Visualize PVE\n",
    "    par(mfrow=c(1,2))\n",
    "    barplot(height=variance_explained$PVE, names.arg=rownames(variance_explained), beside=T, cex.names=cex.factor, \n",
    "            col=\"red3\", border=\"red3\", ylim=barplot_ylim, \n",
    "            main=paste(ancestry,\"Percent Variance Explained\"), ylab=\"PVE\")\n",
    "    plot(cumsum(variance_explained$PVE), type=\"b\", main=paste(ancestry, \"PVE Cumulative Sum\"), ylab=\"PVE\", \n",
    "         lwd=2, col=\"red3\", pch=17, xaxt=\"n\", xlab=\"\", ylim=c(0,100))\n",
    "    axis(side=1, at=c(1:10), labels=rownames(variance_explained), cex.axis=cex.factor)\n",
    "\n",
    "    par(mfrow=c(1,2))\n",
    "    barplot(height=pve_sorted$PVE, names.arg=rownames(pve_sorted), beside=T, cex.names=cex.factor, \n",
    "            col=\"red3\", border=\"red3\", ylim=barplot_ylim, main=paste(ancestry,\"Percent Variance Explained (Sorted PCs)\"), ylab=\"PVE\")\n",
    "    plot(cumsum(pve_sorted$PVE), type=\"b\", main=paste(ancestry,\"PVE Cumulative Sum (Sorted PCs)\"), ylab=\"PVE\", \n",
    "         lwd=2, col=\"red3\", pch=17, xaxt=\"n\", xlab=\"\", ylim=c(0,100))\n",
    "    axis(side=1, at=c(1:10), labels=rownames(pve_sorted), cex.axis=cex.factor)\n",
    "}"
   ]
  },
  {
   "cell_type": "code",
   "execution_count": 19,
   "metadata": {},
   "outputs": [
    {
     "data": {
      "text/html": [
       "<table>\n",
       "<thead><tr><th scope=col>fid</th><th scope=col>iid</th><th scope=col>patid</th><th scope=col>matid</th><th scope=col>sex</th><th scope=col>fou</th></tr></thead>\n",
       "<tbody>\n",
       "\t<tr><td>8000105686_HHG6940_AS95-01716</td><td>8000105686_HHG6940_AS95-01716</td><td>NA                           </td><td>NA                           </td><td>2                            </td><td> 0.7724470661                </td></tr>\n",
       "\t<tr><td>8002019746_HHG7692_AS96-12320</td><td>8002019746_HHG7692_AS96-12320</td><td>NA                           </td><td>NA                           </td><td>2                            </td><td>-0.0007721273                </td></tr>\n",
       "\t<tr><td>8002019752_HHG7760_AS97-00506</td><td>8002019752_HHG7760_AS97-00506</td><td>NA                           </td><td>NA                           </td><td>2                            </td><td>-1.4520630037                </td></tr>\n",
       "\t<tr><td>8002019753_HHG7772_AS97-00754</td><td>8002019753_HHG7772_AS97-00754</td><td>NA                           </td><td>NA                           </td><td>2                            </td><td> 0.0153275793                </td></tr>\n",
       "\t<tr><td>8002019755_HHG7795_AS97-01975</td><td>8002019755_HHG7795_AS97-01975</td><td>NA                           </td><td>NA                           </td><td>2                            </td><td>-0.5891362223                </td></tr>\n",
       "\t<tr><td>8002019756_HHG7805_AS97-02161</td><td>8002019756_HHG7805_AS97-02161</td><td>NA                           </td><td>NA                           </td><td>2                            </td><td>-0.0007721273                </td></tr>\n",
       "</tbody>\n",
       "</table>\n"
      ],
      "text/latex": [
       "\\begin{tabular}{r|llllll}\n",
       " fid & iid & patid & matid & sex & fou\\\\\n",
       "\\hline\n",
       "\t 8000105686\\_HHG6940\\_AS95-01716 & 8000105686\\_HHG6940\\_AS95-01716 & NA                                & NA                                & 2                                 &  0.7724470661                    \\\\\n",
       "\t 8002019746\\_HHG7692\\_AS96-12320 & 8002019746\\_HHG7692\\_AS96-12320 & NA                                & NA                                & 2                                 & -0.0007721273                    \\\\\n",
       "\t 8002019752\\_HHG7760\\_AS97-00506 & 8002019752\\_HHG7760\\_AS97-00506 & NA                                & NA                                & 2                                 & -1.4520630037                    \\\\\n",
       "\t 8002019753\\_HHG7772\\_AS97-00754 & 8002019753\\_HHG7772\\_AS97-00754 & NA                                & NA                                & 2                                 &  0.0153275793                    \\\\\n",
       "\t 8002019755\\_HHG7795\\_AS97-01975 & 8002019755\\_HHG7795\\_AS97-01975 & NA                                & NA                                & 2                                 & -0.5891362223                    \\\\\n",
       "\t 8002019756\\_HHG7805\\_AS97-02161 & 8002019756\\_HHG7805\\_AS97-02161 & NA                                & NA                                & 2                                 & -0.0007721273                    \\\\\n",
       "\\end{tabular}\n"
      ],
      "text/markdown": [
       "\n",
       "| fid | iid | patid | matid | sex | fou |\n",
       "|---|---|---|---|---|---|\n",
       "| 8000105686_HHG6940_AS95-01716 | 8000105686_HHG6940_AS95-01716 | NA                            | NA                            | 2                             |  0.7724470661                 |\n",
       "| 8002019746_HHG7692_AS96-12320 | 8002019746_HHG7692_AS96-12320 | NA                            | NA                            | 2                             | -0.0007721273                 |\n",
       "| 8002019752_HHG7760_AS97-00506 | 8002019752_HHG7760_AS97-00506 | NA                            | NA                            | 2                             | -1.4520630037                 |\n",
       "| 8002019753_HHG7772_AS97-00754 | 8002019753_HHG7772_AS97-00754 | NA                            | NA                            | 2                             |  0.0153275793                 |\n",
       "| 8002019755_HHG7795_AS97-01975 | 8002019755_HHG7795_AS97-01975 | NA                            | NA                            | 2                             | -0.5891362223                 |\n",
       "| 8002019756_HHG7805_AS97-02161 | 8002019756_HHG7805_AS97-02161 | NA                            | NA                            | 2                             | -0.0007721273                 |\n",
       "\n"
      ],
      "text/plain": [
       "  fid                           iid                           patid matid sex\n",
       "1 8000105686_HHG6940_AS95-01716 8000105686_HHG6940_AS95-01716 NA    NA    2  \n",
       "2 8002019746_HHG7692_AS96-12320 8002019746_HHG7692_AS96-12320 NA    NA    2  \n",
       "3 8002019752_HHG7760_AS97-00506 8002019752_HHG7760_AS97-00506 NA    NA    2  \n",
       "4 8002019753_HHG7772_AS97-00754 8002019753_HHG7772_AS97-00754 NA    NA    2  \n",
       "5 8002019755_HHG7795_AS97-01975 8002019755_HHG7795_AS97-01975 NA    NA    2  \n",
       "6 8002019756_HHG7805_AS97-02161 8002019756_HHG7805_AS97-02161 NA    NA    2  \n",
       "  fou          \n",
       "1  0.7724470661\n",
       "2 -0.0007721273\n",
       "3 -1.4520630037\n",
       "4  0.0153275793\n",
       "5 -0.5891362223\n",
       "6 -0.0007721273"
      ]
     },
     "metadata": {},
     "output_type": "display_data"
    },
    {
     "name": "stdout",
     "output_type": "stream",
     "text": [
      "MODEL FORMULA:\n",
      "\n",
      " fou~PC1 + PC2 + PC3 + PC4 + PC5 + PC6 + PC7 + PC8 + PC9 + PC10 \n",
      "\n",
      "\n",
      "================ AFR group ================\n",
      "Top PCs:  PC7 PC6 PC8 \n",
      "PVE:      81.26"
     ]
    },
    {
     "data": {
      "image/png": "[encoded data removed]",
      "text/plain": [
       "Plot with title \"AFR PVE Cumulative Sum\""
      ]
     },
     "metadata": {},
     "output_type": "display_data"
    },
    {
     "data": {
      "image/png": "[encoded data removed]",
      "text/plain": [
       "Plot with title \"AFR PVE Cumulative Sum (Sorted PCs)\""
      ]
     },
     "metadata": {},
     "output_type": "display_data"
    }
   ],
   "source": [
    "study <- \"UHS234\" # all caps\n",
    "ancestry <- \"AFR\" # EUR or AFR\n",
    "\n",
    "## variable information from phenotype file ($study_$an_phenotype_table.txt)\n",
    "phenotype <- \"fou\" \n",
    "sex_var <-  \"sex\" \n",
    "covs <- c(sex_var, \"age\") # add other covariates\n",
    "\n",
    "phen_file <- \"uhs234_afr_phenotype_table_filtered.txt\"\n",
    "pca_file <- \"afr_ld_pruned_top10_eigenvecs.txt\"\n",
    "\n",
    "model_type <- \"continuous\" # continuous or logistic (if log then must be coded 0 or 1)\n",
    "####################################################################################################\n",
    "####################################################################################################\n",
    "\n",
    "cov2 <- paste(study, ancestry, \"cov.ped\", sep=\"_\")\n",
    "phen2 <- paste(study, ancestry, \"phen.ped\", sep=\"_\")\n",
    "\n",
    "create_pedfile(phen_file=phen_file, pca_file=pca_file, phenotype=phenotype,\n",
    "               sex_var=sex_var, covariates=cov_file, study=study, ancestry=ancestry)\n",
    "regression_analysis(cov_file=cov2, phen_file=phen2,\n",
    "                    phenotype_name=phenotype, model_type=model_type,\n",
    "                    ancestry=ancestry)"
   ]
  },
  {
   "cell_type": "code",
   "execution_count": 20,
   "metadata": {},
   "outputs": [
    {
     "data": {
      "text/html": [
       "<table>\n",
       "<thead><tr><th scope=col>fid</th><th scope=col>iid</th><th scope=col>patid</th><th scope=col>matid</th><th scope=col>sex</th><th scope=col>fou</th></tr></thead>\n",
       "<tbody>\n",
       "\t<tr><td>8002019750_HHG7739_AS96-14673</td><td>8002019750_HHG7739_AS96-14673</td><td>NA                           </td><td>NA                           </td><td>2                            </td><td>-0.42252223                  </td></tr>\n",
       "\t<tr><td>8002019754_HHG7784_AS97-01713</td><td>8002019754_HHG7784_AS97-01713</td><td>NA                           </td><td>NA                           </td><td>2                            </td><td>-1.79380569                  </td></tr>\n",
       "\t<tr><td>8002019757_HHG7677_AS96-12253</td><td>8002019757_HHG7677_AS96-12253</td><td>NA                           </td><td>NA                           </td><td>1                            </td><td>-0.09319492                  </td></tr>\n",
       "\t<tr><td>8002019758_HHG7694_AS96-12323</td><td>8002019758_HHG7694_AS96-12323</td><td>NA                           </td><td>NA                           </td><td>1                            </td><td> 0.69522760                  </td></tr>\n",
       "\t<tr><td>8002019761_HHG7729_AS96-13664</td><td>8002019761_HHG7729_AS96-13664</td><td>NA                           </td><td>NA                           </td><td>1                            </td><td> 0.46673448                  </td></tr>\n",
       "\t<tr><td>8002019763_HHG7750_AS96-14740</td><td>8002019763_HHG7750_AS96-14740</td><td>NA                           </td><td>NA                           </td><td>1                            </td><td>-0.02848753                  </td></tr>\n",
       "</tbody>\n",
       "</table>\n"
      ],
      "text/latex": [
       "\\begin{tabular}{r|llllll}\n",
       " fid & iid & patid & matid & sex & fou\\\\\n",
       "\\hline\n",
       "\t 8002019750\\_HHG7739\\_AS96-14673 & 8002019750\\_HHG7739\\_AS96-14673 & NA                                & NA                                & 2                                 & -0.42252223                      \\\\\n",
       "\t 8002019754\\_HHG7784\\_AS97-01713 & 8002019754\\_HHG7784\\_AS97-01713 & NA                                & NA                                & 2                                 & -1.79380569                      \\\\\n",
       "\t 8002019757\\_HHG7677\\_AS96-12253 & 8002019757\\_HHG7677\\_AS96-12253 & NA                                & NA                                & 1                                 & -0.09319492                      \\\\\n",
       "\t 8002019758\\_HHG7694\\_AS96-12323 & 8002019758\\_HHG7694\\_AS96-12323 & NA                                & NA                                & 1                                 &  0.69522760                      \\\\\n",
       "\t 8002019761\\_HHG7729\\_AS96-13664 & 8002019761\\_HHG7729\\_AS96-13664 & NA                                & NA                                & 1                                 &  0.46673448                      \\\\\n",
       "\t 8002019763\\_HHG7750\\_AS96-14740 & 8002019763\\_HHG7750\\_AS96-14740 & NA                                & NA                                & 1                                 & -0.02848753                      \\\\\n",
       "\\end{tabular}\n"
      ],
      "text/markdown": [
       "\n",
       "| fid | iid | patid | matid | sex | fou |\n",
       "|---|---|---|---|---|---|\n",
       "| 8002019750_HHG7739_AS96-14673 | 8002019750_HHG7739_AS96-14673 | NA                            | NA                            | 2                             | -0.42252223                   |\n",
       "| 8002019754_HHG7784_AS97-01713 | 8002019754_HHG7784_AS97-01713 | NA                            | NA                            | 2                             | -1.79380569                   |\n",
       "| 8002019757_HHG7677_AS96-12253 | 8002019757_HHG7677_AS96-12253 | NA                            | NA                            | 1                             | -0.09319492                   |\n",
       "| 8002019758_HHG7694_AS96-12323 | 8002019758_HHG7694_AS96-12323 | NA                            | NA                            | 1                             |  0.69522760                   |\n",
       "| 8002019761_HHG7729_AS96-13664 | 8002019761_HHG7729_AS96-13664 | NA                            | NA                            | 1                             |  0.46673448                   |\n",
       "| 8002019763_HHG7750_AS96-14740 | 8002019763_HHG7750_AS96-14740 | NA                            | NA                            | 1                             | -0.02848753                   |\n",
       "\n"
      ],
      "text/plain": [
       "  fid                           iid                           patid matid sex\n",
       "1 8002019750_HHG7739_AS96-14673 8002019750_HHG7739_AS96-14673 NA    NA    2  \n",
       "2 8002019754_HHG7784_AS97-01713 8002019754_HHG7784_AS97-01713 NA    NA    2  \n",
       "3 8002019757_HHG7677_AS96-12253 8002019757_HHG7677_AS96-12253 NA    NA    1  \n",
       "4 8002019758_HHG7694_AS96-12323 8002019758_HHG7694_AS96-12323 NA    NA    1  \n",
       "5 8002019761_HHG7729_AS96-13664 8002019761_HHG7729_AS96-13664 NA    NA    1  \n",
       "6 8002019763_HHG7750_AS96-14740 8002019763_HHG7750_AS96-14740 NA    NA    1  \n",
       "  fou        \n",
       "1 -0.42252223\n",
       "2 -1.79380569\n",
       "3 -0.09319492\n",
       "4  0.69522760\n",
       "5  0.46673448\n",
       "6 -0.02848753"
      ]
     },
     "metadata": {},
     "output_type": "display_data"
    },
    {
     "name": "stdout",
     "output_type": "stream",
     "text": [
      "MODEL FORMULA:\n",
      "\n",
      " fou~PC1 + PC2 + PC3 + PC4 + PC5 + PC6 + PC7 + PC8 + PC9 + PC10 \n",
      "\n",
      "\n",
      "================ EUR group ================\n",
      "Top PCs:  PC4 PC8 PC3 \n",
      "PVE:      76.21"
     ]
    },
    {
     "data": {
      "image/png": "[encoded data removed]",
      "text/plain": [
       "Plot with title \"EUR PVE Cumulative Sum\""
      ]
     },
     "metadata": {},
     "output_type": "display_data"
    },
    {
     "data": {
      "image/png": "[encoded data removed]",
      "text/plain": [
       "Plot with title \"EUR PVE Cumulative Sum (Sorted PCs)\""
      ]
     },
     "metadata": {},
     "output_type": "display_data"
    }
   ],
   "source": [
    "study <- \"UHS234\" # all caps\n",
    "ancestry <- \"EUR\" # EUR or AFR\n",
    "\n",
    "## variable information from phenotype file ($study_$an_phenotype_table.txt)\n",
    "phenotype <- \"fou\" \n",
    "sex_var <-  \"sex\" \n",
    "covs <- c(sex_var, \"age\") # add other covariates\n",
    "\n",
    "phen_file <- \"uhs234_eur_phenotype_table_filtered.txt\"\n",
    "pca_file <- \"eur_ld_pruned_top10_eigenvecs.txt\"\n",
    "\n",
    "model_type <- \"continuous\" # continuous or logistic (if log then must be coded 0 or 1)\n",
    "####################################################################################################\n",
    "####################################################################################################\n",
    "\n",
    "cov2 <- paste(study, ancestry, \"cov.ped\", sep=\"_\")\n",
    "phen2 <- paste(study, ancestry, \"phen.ped\", sep=\"_\")\n",
    "\n",
    "create_pedfile(phen_file=phen_file, pca_file=pca_file, phenotype=phenotype,\n",
    "               sex_var=sex_var, covariates=cov_file, study=study, ancestry=ancestry)\n",
    "regression_analysis(cov_file=cov2, phen_file=phen2,\n",
    "                    phenotype_name=phenotype, model_type=model_type,\n",
    "                    ancestry=ancestry)"
   ]
  },
  {
   "cell_type": "markdown",
   "metadata": {},
   "source": [
    "### Alter iid to match imputed data\n",
    "The IDs in the genotype (imputed data) are of the form `fid_iid`. Therefore, I need to map the iid in the PED files to this format."
   ]
  },
  {
   "cell_type": "code",
   "execution_count": null,
   "metadata": {},
   "outputs": [],
   "source": [
    "## Bash ##\n",
    "study=\"UHS234\"\n",
    "\n",
    "## EUR\n",
    "awk '{OFS=\"_\"} { print $2,$2 } ' ${study}_EUR_phen.ped > new_id\n",
    "awk 'BEGIN{OFS=\"\\t\"} NR==FNR{ map[NR]=$1; next} FNR>=2{$2=map[FNR]; $1=map[FNR]} { print $0}' \\\n",
    "    new_id ${study}_EUR_phen.ped > ${study}_NGCW1_EUR_phen.ped\n",
    "awk 'BEGIN{OFS=\"\\t\"} NR==FNR{ map[NR]=$1; next} FNR>=2{$2=map[FNR]; $1=map[FNR] } {print $0}' \\\n",
    "    new_id ${study}_EUR_cov.ped > ${study}_NGCW1_EUR_cov.ped\n",
    "\n",
    "## AFR\n",
    "awk '{OFS=\"_\"} { print $2,$2 } ' ${study}_AFR_phen.ped > new_id\n",
    "awk 'BEGIN{OFS=\"\\t\"} NR==FNR{ map[NR]=$1; next} FNR>=2{$2=map[FNR]; $1=map[FNR]} { print $0}' \\\n",
    "    new_id ${study}_AFR_phen.ped > ${study}_NGCW1_AFR_phen.ped\n",
    "awk 'BEGIN{OFS=\"\\t\"} NR==FNR{ map[NR]=$1; next} FNR>=2{$2=map[FNR]; $1=map[FNR] } {print $0}' \\\n",
    "    new_id ${study}_AFR_cov.ped > ${study}_NGCW1_AFR_cov.ped\n",
    "\n",
    "\n",
    "## upload to EC2\n",
    "$ scp -i /home/jmarks/.ssh/gwas_rsa *NGC* ec2-user@34.195.174.206:/shared/jmarks/heroin/uhs2-4/phenotype/final"
   ]
  },
  {
   "cell_type": "markdown",
   "metadata": {},
   "source": [
    "### Create ProbABEL phenotype file\n",
    "Only need to run this code if ProbABEL is going to be used for the final GWAS."
   ]
  },
  {
   "cell_type": "code",
   "execution_count": 1,
   "metadata": {},
   "outputs": [],
   "source": [
    "### Convert your phenotype PED files (as is required for rvtests) to the ProbABEL format ###\n",
    "## R function, DO NOT ALTER THIS CODE ##\n",
    "probabel_phenotype <- function(cov_file, pheno_file, study, pop, pcs, other_covs, pheno){\n",
    "    \n",
    "    pc_paste <- paste(pcs, collapse=\"_\")\n",
    "    othercov_paste <- paste(other_covs, collapse=\"_\")\n",
    "    out_name <- paste(study, pop, pheno, othercov_paste, pc_paste, sep=\"_\")\n",
    "    out_name <- paste0(out_name, \".txt\")\n",
    "\n",
    "    all_covs <- c(other_covs, pcs)\n",
    "\n",
    "    # read in data files\n",
    "    my_cov <- read.table(cov_file, header=T)\n",
    "    my_pheno <- read.table(pheno_file, header=T)\n",
    "\n",
    "    num.subjects <- length(my_cov[,1])\n",
    "\n",
    "    # create new phenotype file (dataframe)\n",
    "    num_cols = 2 + length(other_covs) # iid + pheno + covs\n",
    "    covar.data <- data.frame(matrix(ncol = num_cols, nrow = num.subjects))\n",
    "    names(covar.data) <- c(\"iid\", pheno, other_covs)\n",
    "    covar.data[1] <- paste(my_pheno$fid, my_pheno$iid, sep = \"_\")\n",
    "    covar.data[2] <- my_pheno[, pheno]\n",
    "\n",
    "    for (cov in all_covs){\n",
    "        covar.data[, cov] <- my_cov[,cov]\n",
    "    }\n",
    "\n",
    "    write.table(x = covar.data, file = out_name, quote = F, row.names = F)\n",
    "    write.table(x = covar.data[,1], file = paste0(\"phenotype_ids_\", pop), \n",
    "                quote = F, row.names = F, col.names=F)\n",
    "}"
   ]
  },
  {
   "cell_type": "code",
   "execution_count": 3,
   "metadata": {},
   "outputs": [],
   "source": [
    "#### EA\n",
    "#cov_file   <- \"CFAR_COGA_EUR_cov.ped\"  # name of the input file\n",
    "#pheno_file <- \"CFAR_COGA_EUR_phen.ped\" # name of the input file\n",
    "#study <- \"cfar_coga\" # lowercase\n",
    "#pop <- \"ea\" # ea or aa\n",
    "##pcs = c(\"PC1\", \"PC3\", \"PC7\")\n",
    "#pcs = c(\"PC1\", \"PC2\", \"PC3\", \"PC4\", \"PC5\", \"PC6\", \"PC7\", \"PC8\", \"PC9\", \"PC10\")\n",
    "#other_covs <- c(\"age\", \"sex\", \"alcohol\") # field names in header of cov file\n",
    "#pheno <- \"hiv\" # field names in header of phen file\n",
    "#probabel_phenotype(cov_file, pheno_file, study, pop, pcs, other_covs, pheno)"
   ]
  },
  {
   "cell_type": "markdown",
   "metadata": {},
   "source": [
    "## Run GWAS\n",
    "Autosomes for now.\n",
    "### AFR"
   ]
  },
  {
   "cell_type": "code",
   "execution_count": null,
   "metadata": {},
   "outputs": [],
   "source": [
    "# Command line # \n",
    "study=\"UHS234\" # should match exactly study_name (e.g. capitalized) in phenotype file\n",
    "ancestry=\"afr\"\n",
    "covars=\"age,sex,PC7,PC6,PC8\"\n",
    "#covars=\"age,sex,PC4,PC8,PC3\"\n",
    "version=001\n",
    "ngc=\"fou\"  # fou, oaall, or oaexp\n",
    "phenotype=\"fou\" # name in phenotype file\n",
    "baseD=/shared/jmarks/heroin/uhs2-4\n",
    "genD=$baseD/genotype/imputed/final\n",
    "procD=$baseD/gwas/$ancestry/$version\n",
    "phenD=$baseD/phenotype/final\n",
    "\n",
    "mkdir -p $procD/final\n",
    "for chr in {1..22};do\n",
    "    mkdir -p $procD/processing/chr$chr\n",
    "done\n",
    "\n",
    "#####################################################################################\n",
    "# Run RVtest for autosomes\n",
    "for chr in {1..22}; do\n",
    "    /shared/bioinformatics/software/scripts/qsub_job.sh \\\n",
    "        --job_name $study.${ancestry}_${chr}_rvtest \\\n",
    "        --script_prefix $procD/processing/chr$chr/${ancestry}_${chr}_rvtest \\\n",
    "        --mem 7.5 \\\n",
    "        --nslots 3 \\\n",
    "        --priority 0 \\\n",
    "            --program /shared/bioinformatics/software/third_party/rvtests/executable/rvtest \\\n",
    "            --inVcf $genD/$ancestry/chr${chr}.dose.vcf.gz \\\n",
    "            --pheno $phenD/${study}_NGCW1_${ancestry^^}_phen.ped \\\n",
    "            --pheno-name $phenotype \\\n",
    "            --covar $phenD/${study}_NGCW1_${ancestry^^}_cov.ped \\\n",
    "            --covar-name $covars \\\n",
    "            --meta score \\\n",
    "            --useResidualAsPhenotype \\\n",
    "            --inverseNormal \\\n",
    "            --qtl \\\n",
    "            --dosage DS \\\n",
    "            --out $procD/processing/chr$chr/$study.${ancestry^^}.1000G.$ngc.chr$chr\n",
    "done\n"
   ]
  },
  {
   "cell_type": "markdown",
   "metadata": {},
   "source": [
    "### EUR"
   ]
  },
  {
   "cell_type": "code",
   "execution_count": null,
   "metadata": {},
   "outputs": [],
   "source": [
    "# Command line # \n",
    "study=\"UHS234\" # should match exactly study_name (e.g. capitalized) in phenotype file\n",
    "ancestry=\"eur\"\n",
    "covars=\"age,sex,PC4,PC8,PC3\"\n",
    "version=001\n",
    "ngc=\"fou\"  # fou, oaall, or oaexp\n",
    "phenotype=\"fou\" # name in phenotype file\n",
    "baseD=/shared/jmarks/heroin/uhs2-4\n",
    "genD=$baseD/genotype/imputed/final/\n",
    "procD=$baseD/gwas/$ancestry/$version\n",
    "phenD=$baseD/phenotype/final\n",
    "\n",
    "mkdir -p $procD/final\n",
    "for chr in {1..22};do\n",
    "    mkdir -p $procD/processing/chr$chr\n",
    "done\n",
    "\n",
    "#####################################################################################\n",
    "    # Run RVtest for autosomes\n",
    "for chr in {1..22}; do\n",
    "    /shared/bioinformatics/software/scripts/qsub_job.sh \\\n",
    "        --job_name $study.${ancestry}_${chr}_rvtest \\\n",
    "        --script_prefix $procD/processing/chr$chr/${ancestry}_${chr}_rvtest \\\n",
    "        --mem 7.5 \\\n",
    "        --nslots 3 \\\n",
    "        --priority 0 \\\n",
    "            --program /shared/bioinformatics/software/third_party/rvtests/executable/rvtest \\\n",
    "            --inVcf $genD/$ancestry/chr${chr}.dose.vcf.gz \\\n",
    "            --pheno $phenD/${study}_NGCW1_${ancestry^^}_phen.ped \\\n",
    "            --pheno-name $phenotype \\\n",
    "            --covar $phenD/${study}_NGCW1_${ancestry^^}_cov.ped \\\n",
    "            --covar-name $covars \\\n",
    "            --meta score \\\n",
    "            --useResidualAsPhenotype \\\n",
    "            --inverseNormal \\\n",
    "            --qtl \\\n",
    "            --dosage DS \\\n",
    "            --out $procD/processing/chr$chr/$study.${ancestry^^}.1000G.$ngc.chr$chr\n",
    "done\n"
   ]
  },
  {
   "cell_type": "markdown",
   "metadata": {},
   "source": [
    "## Results Processing\n",
    "### Convert Markername to 1KG phase3 ID"
   ]
  },
  {
   "cell_type": "code",
   "execution_count": null,
   "metadata": {},
   "outputs": [],
   "source": [
    "# Remove extra headers and add ID column\n",
    "# note that the header length that needs to be skipped varies\n",
    "for ancestry in {afr,eur}; do\n",
    "    for (( chr=1; chr<23; chr++ )); do\n",
    "      inFile=$baseD/gwas/$ancestry/001/processing/chr$chr/$study.${ancestry^^}.1000G.$ngc.chr$chr.MetaScore.assoc.gz\n",
    "      outFile=$baseD/gwas/$ancestry/001/processing/chr$chr/${study,,}.${ancestry}.1000G.$ngc.chr$chr.txt\n",
    "      echo Processing $inFile\n",
    "      gunzip -c $inFile | perl -lane '\n",
    "        if (!/^##/){\n",
    "        print \"ID\\t\".$_;\n",
    "        }' > $outFile\n",
    "    done &\n",
    "done"
   ]
  },
  {
   "cell_type": "code",
   "execution_count": null,
   "metadata": {},
   "outputs": [],
   "source": [
    "# convert IDs to 1000G_p3\n",
    "for ancestry in {afr,eur}; do\n",
    "    for chr in {1..22};do\n",
    "        /shared/bioinformatics/software/scripts/qsub_job.sh \\\n",
    "            --job_name ${study,,}.1000g_p3_chr${chr}.$ancestry \\\n",
    "            --script_prefix $baseD/gwas/$ancestry/001/processing/chr$chr/name_conversion \\\n",
    "            --mem 13 \\\n",
    "            --nslots 3 \\\n",
    "            --priority 0 \\\n",
    "            --program perl /shared/bioinformatics/software/perl/id_conversion/convert_to_1000g_p3_ids.pl \\\n",
    "              --file_in $baseD/gwas/$ancestry/001/processing/chr$chr/${study,,}.$ancestry.1000G.$ngc.chr$chr.txt \\\n",
    "              --file_out $baseD/gwas/$ancestry/001/processing/chr$chr/${study,,}.$ancestry.1000G_p3.$ngc.chr$chr.txt \\\n",
    "              --legend /shared/data/ref_panels/1000G/2014.10/1000GP_Phase3_chr$chr.legend.gz \\\n",
    "              --file_in_header 1 \\\n",
    "              --file_in_id_col  0 \\\n",
    "              --file_in_chr_col  1 \\\n",
    "              --file_in_pos_col  2 \\\n",
    "              --file_in_a1_col  3 \\\n",
    "              --file_in_a2_col  4 \\\n",
    "              --chr $chr\n",
    "    done\n",
    "done\n"
   ]
  },
  {
   "cell_type": "markdown",
   "metadata": {},
   "source": [
    "### MAF and RSQ filters\n",
    "Filter variants that have MAF <= 0.01 and r^2 <= 0.3."
   ]
  },
  {
   "cell_type": "code",
   "execution_count": null,
   "metadata": {},
   "outputs": [],
   "source": [
    "## Filter by MAF>0.01 in study and RSQ>0.3 ##\n",
    "for ancestry in {afr,eur}; do\n",
    "    for chr in {1..22}; do\n",
    "        echo -e \"${ancestry} chr${chr}...\"\n",
    "        zcat $genD/$ancestry/chr${chr}.info.gz | \\\n",
    "            tail -n +2 | \\\n",
    "            awk '{ if($5 > 0.01 && $7 > 0.3){ print $1 } }' \\\n",
    "            > $baseD/gwas/$ancestry/001/processing/chr$chr/${ancestry}_chr${chr}_variants_maf_gt_0.01_rsq_gt_0.3.keep\n",
    "\n",
    "            # apply filter\n",
    "            head -1 $baseD/gwas/$ancestry/001/processing/chr$chr/${study,,}.$ancestry.1000G_p3.$ngc.chr$chr.txt >\\\n",
    "                $baseD/gwas/$ancestry/001/processing/chr$chr/${study,,}.$ancestry.1000G_p3.$ngc.chr$chr.rsq.maf_study.txt\n",
    "            \n",
    "\n",
    "            awk 'NR==FNR{ map[$1]=1; next } { if ($2\":\"$3\":\"$4\":\"$5 in map) {print $0 } } ' \\\n",
    "            $baseD/gwas/$ancestry/001/processing/chr$chr/${ancestry}_chr${chr}_variants_maf_gt_0.01_rsq_gt_0.3.keep \\\n",
    "            $baseD/gwas/$ancestry/001/processing/chr$chr/${study,,}.$ancestry.1000G_p3.$ngc.chr$chr.txt \\\n",
    "            >> $baseD/gwas/$ancestry/001/processing/chr$chr/${study,,}.$ancestry.1000G_p3.$ngc.chr$chr.rsq.maf_study.txt\n",
    "    done &\n",
    "done \n",
    "\n",
    "## Filter by MAF > 0.01 in 1000G\n",
    "for ancestry in {afr,eur}; do\n",
    "    for chr in {1..22}; do\n",
    "        head -1 $baseD/gwas/$ancestry/001/processing/chr$chr/${study,,}.$ancestry.1000G_p3.$ngc.chr$chr.rsq.maf_study.txt >\\\n",
    "            $baseD/gwas/$ancestry/001/processing/chr$chr/${study,,}.$ancestry.1000G_p3.$ngc.chr$chr.rsq.maf_study_${ancestry}.txt\n",
    "\n",
    "        awk 'NR==FNR{ map[$1]=1; next} $1 in map {print $0}' \\\n",
    "            /shared/data/ref_panels/1000G/2014.10/1000GP_Phase3_chr$chr.legend.unique_ids.maf_gt_0.01_${ancestry} \\\n",
    "            $baseD/gwas/$ancestry/001/processing/chr$chr/${study,,}.$ancestry.1000G_p3.$ngc.chr$chr.rsq.maf_study.txt >>\\\n",
    "            $baseD/gwas/$ancestry/001/processing/chr$chr/${study,,}.$ancestry.1000G_p3.$ngc.chr$chr.rsq.maf_study_${ancestry}.txt\n",
    "    done &\n",
    "done "
   ]
  },
  {
   "cell_type": "markdown",
   "metadata": {},
   "source": [
    "### Manhattan and QQ plots"
   ]
  },
  {
   "cell_type": "code",
   "execution_count": null,
   "metadata": {},
   "outputs": [],
   "source": [
    "# Make results table\n",
    "for ancestry in {afr,eur}; do\n",
    "    outfile=$baseD/gwas/$ancestry/001/processing/${study,,}.${ancestry}.1000G.$ngc.assoc.table\n",
    "    echo -e \"VARIANT_ID\\tCHR\\tPOSITION\\tP\\tTYPE\" > $outfile\n",
    "    \n",
    "    for chr in {1..22}; do\n",
    "        infile=$baseD/gwas/$ancestry/001/processing/chr$chr/${study,,}.$ancestry.1000G_p3.$ngc.chr$chr.rsq.maf_study_${ancestry,,}.txt\n",
    "        echo \"Processing ${infile}\"\n",
    "        tail -n +2 ${infile} | \\\n",
    "            perl -lane 'if (($F[3] eq \"A\" || $F[3] eq \"C\" || $F[3] eq \"G\" || $F[3] eq \"T\") && (($F[4] eq \"A\" || $F[4] eq \"C\" || $F[4] eq \"G\" || $F[4] eq \"T\"))) {\n",
    "                            print join(\"\\t\",$F[0],$F[1],$F[2],$F[16],\"snp\");\n",
    "                        } else {\n",
    "                            print join(\"\\t\",$F[0],$F[1],$F[2],$F[16],\"indel\");\n",
    "                        }' >> $outfile\n",
    "    done &\n",
    "done \n",
    "\n",
    "    # Make Q-Q and manhattan plots\n",
    "for ancestry in {afr,eur}; do\n",
    "   /shared/bioinformatics/software/scripts/qsub_job.sh \\\n",
    "       --job_name $study.$ancestry.gwas_plots \\\n",
    "       --script_prefix $baseD/gwas/$ancestry/001/processing/${study,,}.${ancestry}.1000G_p3.$ngc.assoc.plot \\\n",
    "       --mem 25 \\\n",
    "       --nslots 3 \\\n",
    "       --priority 0 \\\n",
    "       --program Rscript /shared/bioinformatics/software/R/generate_gwas_plots.R \\\n",
    "          --in $baseD/gwas/$ancestry/001/processing/${study,,}.${ancestry}.1000G.$ngc.assoc.table \\\n",
    "          --in_chromosomes autosomal_nonPAR \\\n",
    "          --in_header \\\n",
    "          --out $baseD/gwas/$ancestry/001/final/${study,,}.${ancestry}.1000G.$ngc.assoc.plot \\\n",
    "          --col_id VARIANT_ID \\\n",
    "          --col_chromosome CHR \\\n",
    "          --col_position POSITION \\\n",
    "          --col_p P \\\n",
    "          --col_variant_type TYPE \\\n",
    "          --generate_snp_indel_manhattan_plot \\\n",
    "          --manhattan_odd_chr_color red3 \\\n",
    "          --manhattan_even_chr_color dodgerblue3 \\\n",
    "          --manhattan_points_cex 1.5 \\\n",
    "          --generate_snp_indel_qq_plot \\\n",
    "          --qq_lines \\\n",
    "          --qq_points_bg black \\\n",
    "          --qq_lambda\n",
    "done"
   ]
  },
  {
   "cell_type": "code",
   "execution_count": null,
   "metadata": {},
   "outputs": [],
   "source": [
    "## move final stats files to final directory\n",
    "cd /shared/jmarks/heroin/uhs2-4/gwas/eur/001/processing/\n",
    "gzip -r * &\n",
    "\n",
    "for chr in {1..22}; do\n",
    "    mv chr$chr/uhs234.eur.1000G_p3.fou.chr$chr.rsq.maf_study_eur.txt.gz \\\n",
    "    ../final\n",
    "done\n",
    "\n",
    "\n",
    "cd /shared/jmarks/heroin/uhs2-4/gwas/afr/001/processing/\n",
    "gzip -r * &\n",
    "\n",
    "for chr in {1..22}; do\n",
    "    mv chr$chr/uhs234.afr.1000G_p3.fou.chr$chr.rsq.maf_study_afr.txt.gz \\\n",
    "    ../final\n",
    "done"
   ]
  },
  {
   "cell_type": "markdown",
   "metadata": {},
   "source": [
    "## S3 upload"
   ]
  },
  {
   "cell_type": "code",
   "execution_count": null,
   "metadata": {},
   "outputs": [],
   "source": [
    "#upload to \n",
    "s3://rti-heroin/gwas/uhs234/results/{eur,afr}"
   ]
  },
  {
   "cell_type": "code",
   "execution_count": null,
   "metadata": {},
   "outputs": [],
   "source": []
  }
 ],
 "metadata": {
  "kernelspec": {
   "display_name": "R",
   "language": "R",
   "name": "ir"
  },
  "language_info": {
   "codemirror_mode": "r",
   "file_extension": ".r",
   "mimetype": "text/x-r-source",
   "name": "R",
   "pygments_lexer": "r",
   "version": "3.6.1"
  },
  "toc": {
   "base_numbering": 1,
   "nav_menu": {},
   "number_sections": true,
   "sideBar": true,
   "skip_h1_title": false,
   "title_cell": "Table of Contents",
   "title_sidebar": "Contents",
   "toc_cell": false,
   "toc_position": {
    "height": "714.716px",
    "left": "0px",
    "right": "1533.47px",
    "top": "110.284px",
    "width": "211.989px"
   },
   "toc_section_display": "block",
   "toc_window_display": true
  }
 },
 "nbformat": 4,
 "nbformat_minor": 2
}
