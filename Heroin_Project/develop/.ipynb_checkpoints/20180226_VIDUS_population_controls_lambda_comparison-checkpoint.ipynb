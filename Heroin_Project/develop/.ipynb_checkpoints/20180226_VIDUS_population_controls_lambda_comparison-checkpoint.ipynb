{
 "cells": [
  {
   "cell_type": "markdown",
   "metadata": {},
   "source": [
    "# Compatibility assessment for VIDUS population controls\n",
    "__Author:__Jesse Marks\n",
    "\n",
    "This document logs the steps taken to compare genomic inflation factors for the [VIDUS](http://www.cfenet.ubc.ca/research/vidus) population controls. These include:\n",
    "\n",
    "* [Lung Cancer in Never Smokers](https://www.ncbi.nlm.nih.gov/projects/gap/cgi-bin/study.cgi?study_id=phs000634.v1.p1)\n",
    "* [Non-Hodgkin Lymphoma Study](https://www.ncbi.nlm.nih.gov/projects/gap/cgi-bin/study.cgi?study_id=phs000801.v2.p1)\n",
    "\n",
    "The starting point for this analysis uses quality controlled observed genotypes."
   ]
  },
  {
   "cell_type": "markdown",
   "metadata": {},
   "source": [
    "## Software and tools\n",
    "The software and tools used for processing these data are:\n",
    "\n",
    "* AWS S3 and EC2 instance with Linux AMI\n",
    "* GNU bash version 4.2.46\n",
    "* [PLINK v1.9 beta 3.45](https://www.cog-genomics.org/plink/)\n",
    "* [EIGENSOFT v6.1.4](https://www.hsph.harvard.edu/alkes-price/software/)\n",
    "* [R v3.3.3](https://www.r-project.org/)"
   ]
  },
  {
   "cell_type": "markdown",
   "metadata": {},
   "source": [
    "# S3 data retrieval"
   ]
  },
  {
   "cell_type": "code",
   "execution_count": null,
   "metadata": {
    "collapsed": true
   },
   "outputs": [],
   "source": [
    "# EC2 command line #\n",
    "cd /shared/data/studies\n",
    "\n",
    "# Copy genotype and phenotype data for LCNS\n",
    "aws s3 cp s3://rti-common/dbGaP/phs000634_lung_cancer/genotype/original/final/ phs000634_lung_cancer/genotype/original/final --recursive\n",
    "aws s3 cp s3://rti-common/dbGaP/phs000634_lung_cancer/phenotype/unprocessed/ phs000634_lung_cancer/phenotype --recursive --exclude=\"*\" --include=\"*Sample.MULTI.txt.gz\"\n",
    "aws s3 cp s3://rti-common/dbGaP/phs000634_lung_cancer/phenotype/unprocessed/ phs000634_lung_cancer/phenotype --recursive --exclude=\"*\" --include=\"*Subject.MULTI.txt.gz\"\n",
    "aws s3 cp s3://rti-common/dbGaP/phs000634_lung_cancer/phenotype/unprocessed/ phs000634_lung_cancer/phenotype --recursive --exclude=\"*\" --include=\"*Subject_Phenotypes.GRU-MDS.txt.gz\"\n",
    "\n",
    "#  Copy genotype and phenotype data for NHL\n",
    "aws s3 cp s3://rti-common/dbGaP/phs000801_lymphoma/genotype/original/final/ phs000801_lymphoma/genotype/original/final --recursive\n",
    "aws s3 cp s3://rti-common/dbGaP/phs000801_lymphoma/phenotype/unprocessed/ phs000801_lymphoma/phenotype --recursive --exclude=\"*\" --include=\"*Sample_Attributes.GRU-NPU-MDS.txt\"\n",
    "aws s3 cp s3://rti-common/dbGaP/phs000801_lymphoma/phenotype/unprocessed/ phs000801_lymphoma/phenotype --recursive --exclude=\"*\" --include=\"*Subject_Phenotypes.GRU-NPU-MDS.txt.gz\"\n",
    "\n",
    "gunzip phs000634_lung_cancer/genotype/original/final/*gz\n",
    "gunzip phs000634_lung_cancer/phenotype/*.gz\n",
    "gunzip phs000801_lymphoma/genotype/original/final/*.gz"
   ]
  },
  {
   "cell_type": "markdown",
   "metadata": {},
   "source": [
    "# EA subject analysis\n",
    "## Merge test\n",
    "To determine whether any of the SNPs are flipped between studies, a merge is attempted. If any multi-allelic variants are identified (suggestive of flipping) then an error is raised. In this case, position duplicates were identified, but these will be removed during the SNP intersection step. "
   ]
  },
  {
   "cell_type": "code",
   "execution_count": null,
   "metadata": {
    "collapsed": true
   },
   "outputs": [],
   "source": [
    "# EC2 command line #\n",
    "mkdir -p /shared/sandbox/vidus_lambda_comparison/merge_test\n",
    "cd /shared/sandbox/vidus_lambda_comparison/\n",
    "\n",
    "# Attempt data set merge\n",
    "ancestry=\"ea\"\n",
    "/shared/bioinformatics/software/third_party/plink-1.90-beta-4.10-x86_64/plink \\\n",
    "    --noweb \\\n",
    "    --bfile /shared/data/studies/phs000634_lung_cancer/genotype/original/final/ea_chr_all \\\n",
    "    --bmerge /shared/data/studies/phs000801_lymphoma/genotype/original/final/ea_chr_all \\\n",
    "    --make-bed \\\n",
    "    --out merge_test/merged_unflipped\n",
    "'Error: 9 variants with 3+ alleles present.'"
   ]
  },
  {
   "cell_type": "markdown",
   "metadata": {},
   "source": [
    "## SNP intersection"
   ]
  },
  {
   "cell_type": "code",
   "execution_count": null,
   "metadata": {
    "collapsed": true
   },
   "outputs": [],
   "source": [
    "# EC2 command line #\n",
    "cd /shared/sandbox/vidus_lambda_comparison\n",
    "mkdir intersect\n",
    "\n",
    "ancestry=\"ea\"\n",
    "studies=(phs000634_lung_cancer phs000801_lymphoma) # array of study names\n",
    "\n",
    "# Get first intersection set\n",
    "file1=/shared/data/studies/${studies[0]}/genotype/original/final/${ancestry}_chr_all.bim\n",
    "file2=/shared/data/studies/${studies[1]}/genotype/original/final/${ancestry}_chr_all.bim\n",
    "echo -e \"\\nCalculating intersection between ${file1} and ${file2}...\\n\"\n",
    "comm -12 <(cut -f 2,2 $file1 | sort -u) <(cut -f 2,2 $file2 | sort -u) \\\n",
    "    > intersect/${ancestry}_variant_intersection.txt\n",
    "\n",
    "# Make new PLINK binary file sets\n",
    "for study in ${studies[@]}; do\n",
    "    /shared/bioinformatics/software/third_party/plink-1.90-beta-4.10-x86_64/plink \\\n",
    "        --noweb \\\n",
    "        --bfile /shared/data/studies/${study}/genotype/original/final/${ancestry}_chr_all \\\n",
    "        --extract intersect/${ancestry}_variant_intersection.txt \\\n",
    "        --exclude merge_test/merged_unflipped-merge.missnp \\\n",
    "        --make-bed \\\n",
    "        --out intersect/${study}_${ancestry}\n",
    "done\n",
    "\n",
    "'--extract: 630048 variants remaining.\n",
    "--exclude: 630039 variants remaining.'"
   ]
  },
  {
   "cell_type": "markdown",
   "metadata": {},
   "source": [
    "## Second pass merge\n",
    "To ensure data set compatipatibility, a second pass merge is executed."
   ]
  },
  {
   "cell_type": "code",
   "execution_count": null,
   "metadata": {
    "collapsed": true
   },
   "outputs": [],
   "source": [
    "# EC2 command line #\n",
    "cd /shared/sandbox/vidus_lambda_comparison\n",
    "\n",
    "# Re-attempt data set merge\n",
    "ancestry=\"ea\"\n",
    "/shared/bioinformatics/software/third_party/plink-1.90-beta-4.10-x86_64/plink \\\n",
    "    --noweb \\\n",
    "    --bfile intersect/phs000634_lung_cancer_ea \\\n",
    "    --bmerge intersect/phs000801_lymphoma_ea \\\n",
    "    --make-bed \\\n",
    "    --out merge_test/merged_intersect\n",
    "\n",
    "# Clean-up\n",
    "rm -r merge_test"
   ]
  },
  {
   "cell_type": "markdown",
   "metadata": {},
   "source": [
    "## Assign case and controls"
   ]
  },
  {
   "cell_type": "code",
   "execution_count": null,
   "metadata": {
    "collapsed": true
   },
   "outputs": [],
   "source": [
    "# EC2 command line #\n",
    "cd /shared/sandbox/vidus_lambda_comparison\n",
    "\n",
    "# Arbitrarily assign one study as case and the other as control\n",
    "\n",
    "ancestry=\"ea\"\n",
    "study1=phs000634_lung_cancer\n",
    "study2=phs000801_lymphoma\n",
    "\n",
    "# Modify FAM file to include case/control status\n",
    "awk '{ $6=2; print $0 }' intersect/${study1}_${ancestry}.fam \\ # note $0 is whole line argument\n",
    "    > intersect/${study1}_vs_${study2}_${ancestry}.fam\n",
    "awk '{ $6=1; print $0 }' intersect/${study2}_${ancestry}.fam \\\n",
    "    > intersect/${study2}_vs_${study1}_${ancestry}.fam"
   ]
  },
  {
   "cell_type": "markdown",
   "metadata": {},
   "source": [
    "# EIGENSTRAT\n",
    "## PLINK file set merge and MAF filter"
   ]
  },
  {
   "cell_type": "code",
   "execution_count": null,
   "metadata": {
    "collapsed": true
   },
   "outputs": [],
   "source": [
    "# EC2 command line #\n",
    "cd /shared/sandbox/vidus_lambda_comparison\n",
    "mkdir eigenstrat\n",
    "\n",
    "# Arbitrarily assign one study as case and the other as control\n",
    "ancestry=\"ea\"\n",
    "study1=phs000634_lung_cancer\n",
    "study2=phs000801_lyphoma\n",
    "\n",
    "# Create temporary file sets\n",
    "/shared/bioinformatics/software/third_party/plink-1.90-beta-4.10-x86_64/plink \\\n",
    "    --noweb \\\n",
    "    --fam intersect/${study1}_vs_${study2}_${ancestry}.fam \\\n",
    "    --bim intersect/${study1}_${ancestry}.bim \\\n",
    "    --bed intersect/${study1}_${ancestry}.bed \\\n",
    "    --make-bed \\\n",
    "    --out eigenstrat/${study1}_vs_${study2}_${ancestry}.tmp\n",
    "/shared/bioinformatics/software/third_party/plink-1.90-beta-4.10-x86_64/plink \\\n",
    "    --noweb \\\n",
    "    --fam intersect/${study2}_vs_${study1}_${ancestry}.fam \\\n",
    "    --bim intersect/${study2}_${ancestry}.bim \\\n",
    "    --bed intersect/${study2}_${ancestry}.bed \\\n",
    "    --make-bed \\\n",
    "    --out eigenstrat/${study2}_vs_${study1}_${ancestry}.tmp\n",
    "\n",
    "# Merge file sets\n",
    "/shared/bioinformatics/software/third_party/plink-1.90-beta-4.10-x86_64/plink \\\n",
    "    --noweb \\\n",
    "    --bfile eigenstrat/${study1}_vs_${study2}_${ancestry}.tmp \\\n",
    "    --bmerge eigenstrat/${study2}_vs_${study1}_${ancestry}.tmp \\\n",
    "    --make-bed \\\n",
    "    --out eigenstrat/${study1}_vs_${study2}_${ancestry}_merged.tmp\n",
    "\n",
    "# MAF > 0.01\n",
    "/shared/bioinformatics/software/third_party/plink-1.90-beta-4.10-x86_64/plink \\\n",
    "    --noweb \\\n",
    "    --bfile eigenstrat/${study1}_vs_${study2}_${ancestry}_merged.tmp \\\n",
    "    --maf 0.01 \\\n",
    "    --make-bed \\\n",
    "    --out eigenstrat/${study1}_vs_${study2}_${ancestry}\n",
    "\n",
    "# Clean up\n",
    "rm eigenstrat/*.tmp.*"
   ]
  },
  {
   "cell_type": "markdown",
   "metadata": {},
   "source": [
    "### Remove high-LD region variants"
   ]
  },
  {
   "cell_type": "code",
   "execution_count": null,
   "metadata": {
    "collapsed": true
   },
   "outputs": [],
   "source": [
    "# EC2 command line #\n",
    "cd /shared/sandbox/vidus_lambda_comparison/eigenstrat\n",
    "\n",
    "ancestry=\"ea\"\n",
    "study1=phs000634_lung_cancer\n",
    "study2=phs000801_lymphoma\n",
    "\n",
    "# Generate list of variants in known high-LD regions\n",
    "perl -lane 'if (($F[0]==5 && $F[3] >= 43964243 && $F[3] <= 51464243) || ($F[0]==6 && $F[3] >= 24892021 && $F[3] <= 33392022) || ($F[0]==8 && $F[3] >= 7962590 && $F[3] <= 11962591) || ($F[0]==11 && $F[3] >= 45043424 && $F[3] <= 57243424)) { print $F[1].\"\\n\"; }' ${study1}_vs_${study2}_${ancestry}.bim \\\n",
    "    > ${study1}_vs_${study2}_${ancestry}.high_ld_regions.remove\n",
    "            \n",
    "# Remove SNPs in known high-LD regions\n",
    "/shared/bioinformatics/software/third_party/plink-1.90-beta-4.10-x86_64/plink \\\n",
    "    --noweb \\\n",
    "    --bfile ${study1}_vs_${study2}_${ancestry} \\\n",
    "    --exclude ${study1}_vs_${study2}_${ancestry}.high_ld_regions.remove \\\n",
    "    --make-bed \\\n",
    "    --out ${study1}_vs_${study2}_${ancestry}_high_ld_regions_removed"
   ]
  },
  {
   "cell_type": "markdown",
   "metadata": {},
   "source": [
    "### Linkage disequilibrium pruning\n",
    "Linkage disequilibrium (LD) pruning eliminates a large degree of redundancy in the data and reduces the influence of chromosomal artifacts. The objective of LD pruning is to select a subset of variants based off of LD such that the variants in the subset are indepdendent. This filtering will not carry forward to the final processed results, but this step improves the quality of EIGENSTRAT calculations. Consequently, the LD pruned data will be used as input for those calculations.\n",
    "\n",
    "LD pruning is implemented using [PLINK --indep-pairwise](https://www.cog-genomics.org/plink/1.9/ld#indep)."
   ]
  },
  {
   "cell_type": "code",
   "execution_count": 1,
   "metadata": {},
   "outputs": [
    {
     "ename": "ERROR",
     "evalue": "Error in parse(text = x, srcfile = src): <text>:8:5: unexpected symbol\n7: \n8: for chr\n       ^\n",
     "output_type": "error",
     "traceback": [
      "Error in parse(text = x, srcfile = src): <text>:8:5: unexpected symbol\n7: \n8: for chr\n       ^\nTraceback:\n"
     ]
    }
   ],
   "source": [
    "# EC2 command line #\n",
    "cd /shared/sandbox/vidus_lambda_comparison/eigenstrat\n",
    "\n",
    "ancestry=\"ea\"\n",
    "study1=phs000634_lung_cancer\n",
    "study2=phs000801_lymphoma\n",
    "\n",
    "for chr in {1..23}; do\n",
    "    /shared/bioinformatics/software/scripts/qsub_job.sh \\\n",
    "        --job_name ${study1}_${study2}_${ancestry}_${chr}_ld_prune \\\n",
    "        --script_prefix ${study1}_vs_${study2}_${ancestry}_${chr}_ld_prune \\\n",
    "        --mem 3 \\\n",
    "        --nslots 1 \\\n",
    "        --program /shared/bioinformatics/software/third_party/plink-1.90-beta-4.10-x86_64/plink \\\n",
    "            --noweb \\\n",
    "            --memory 3000 \\\n",
    "            --bfile ${study1}_vs_${study2}_${ancestry}_high_ld_regions_removed \\\n",
    "            --indep-pairwise 1500 150 0.2 \\\n",
    "            --chr ${chr} \\\n",
    "            --out ${study1}_vs_${study2}_${ancestry}_chr${chr}_ld_pruned\n",
    "done\n",
    "\n",
    "# Merge *prune.in files\n",
    "ancestry=\"ea\"\n",
    "study1=phs000634_lung_cancer\n",
    "study2=phs000801_lymphoma\n",
    "cat ${study1}_vs_${study2}_${ancestry}_chr*_ld_pruned.prune.in > ${study1}_vs_${study2}_${ancestry}_chr_all_ld_pruned.prune.in\n",
    "\n",
    "# Create new PLINK filesets with only lD pruned variants\n",
    "/shared/bioinformatics/software/third_party/plink-1.90-beta-4.10-x86_64/plink \\\n",
    "    --noweb \\\n",
    "    --bfile ${study1}_vs_${study2}_${ancestry} \\\n",
    "    --extract ${study1}_vs_${study2}_${ancestry}_chr_all_ld_pruned.prune.in \\\n",
    "    --make-bed \\\n",
    "    --out ${study1}_vs_${study2}_${ancestry}_ld_pruned\n",
    "\n",
    "# Clean up\n",
    "rm *${ancestry}*ld_pruned.{prune.in,prune.out,log}\n",
    "rm *${ancestry}*ld_prune*qsub*\n",
    "rm *${ancestry}*high_ld_regions*\n",
    "rm *${ancestry}*chr23_ld_pruned.hh"
   ]
  },
  {
   "cell_type": "markdown",
   "metadata": {},
   "source": [
    "### Rename BIM/FAM file IDs\n",
    "BIM file IDs have the potential issue of being too long if encoded using the 1000 Genomes Phase 3 IMPUTE2 format. This will cause smartpca to throw an error. To resolve this the IDs are replaced by numeric values. FAM file IDs are treated similarly."
   ]
  },
  {
   "cell_type": "code",
   "execution_count": null,
   "metadata": {
    "collapsed": true
   },
   "outputs": [],
   "source": [
    "# EC2 command line #\n",
    "cd /shared/sandbox/vidus_lambda_comparison/eigenstrat\n",
    "\n",
    "# Count ID lengths greater than 39 characters\n",
    "ancestry=\"ea\"\n",
    "study1=phs000634_lung_cancer\n",
    "study2=phs000801_lymphoma\n",
    "\n",
    "awk '{ if(length($1)+length($2)>39){print $2} }' ${study1}_vs_${study2}_${ancestry}_ld_pruned.fam | wc -l\n",
    "awk '{ if(length($2)>39){print $2} }' ${study1}_vs_${study2}_${ancestry}_ld_pruned.bim | wc -l\n",
    "\n",
    "# Rename BIM file IDs\n",
    "awk '{$2=\"ID_\"NR; print $0}' ${study1}_vs_${study2}_${ancestry}_ld_pruned.bim \\\n",
    "    > ${study1}_vs_${study2}_${ancestry}_ld_pruned_id_renamed.bim\n",
    "\n",
    "# Rename FAM file IDs\n",
    "awk '{$1=\"ID_\"NR; print $0}' ${study1}_vs_${study2}_${ancestry}_ld_pruned.fam \\\n",
    "    > ${study1}_vs_${study2}_${ancestry}_ld_pruned_id_renamed.fam"
   ]
  },
  {
   "cell_type": "markdown",
   "metadata": {},
   "source": [
    "### Run EIGENSTRAT\n",
    "__NOTE__: For `smartpca` to run, the BIM and FAM file IDs need to be less than 39 characters in length. Often this is not a problem, but with a BIM file that has IDs renamed to the 1000 Genomes Phase 3 format, the IDs for indels can exceed the character limit. Also, the EIGENSOFT `bin` directory should be part of the PATH variable.\n",
    "\n",
    "The `smartpca.pl` program documentation is shown below:\n",
    "\n",
    "DOCUMENTATION of `smartpca.pl` program:\n",
    "\n",
    "This program calls the smartpca program (see ../POPGEN/README). \n",
    "For this to work, the bin directory containing smartpca MUST be in your path. \n",
    "See `./example.perl` for a toy example.\n",
    "```\n",
    "../bin/smartpca.pl \n",
    "-i example.geno  : genotype file in any format (see ../CONVERTF/README)\n",
    "-a example.snp   : snp file in any format (see ../CONVERTF/README)\n",
    "-b example.ind   : indiv file in any format (see ../CONVERTF/README)\n",
    "-k k             : (Default is 10) number of principal components to output\n",
    "-o example.pca   : output file of principal components.  Individuals removed\n",
    "                   as outliers will have all values set to 0.0 in this file.\n",
    "-p example.plot  : prefix of output plot files of top 2 principal components.\n",
    "                   (labeling individuals according to labels in indiv file)\n",
    "-e example.eval  : output file of all eigenvalues\n",
    "-l example.log   : output logfile\n",
    "-m maxiter       : (Default is 5) maximum number of outlier removal iterations.\n",
    "                   To turn off outlier removal, set -m 0.\n",
    "-t topk          : (Default is 10) number of principal components along which \n",
    "                   to remove outliers during each outlier removal iteration.\n",
    "-s sigma         : (Default is 6.0) number of standard deviations which an\n",
    "                   individual must exceed, along one of topk top principal\n",
    "           components, in order to be removed as an outlier.\n",
    "\n",
    "OPTIONAL FLAGS:\n",
    "-w poplist       : compute eigenvectors using populations in poplist only,\n",
    "                   where poplist is an ASCII file with one population per line\n",
    "-y plotlist      : output plot will include populations in plotlist only, \n",
    "                   where plotlist is an ASCII file with one population per line\n",
    "-z badsnpname    : list of SNPs which should be excluded from the analysis\n",
    "-q YES/NO        : If set to YES, assume that there is a single population and\n",
    "                   the population field contains real-valued phenotypes.\n",
    "           (Corresponds to qtmode parameter in smartpca program.)\n",
    "           The default value for this parameter is NO.\n",
    "\n",
    "Estimated running time of the smartpca program is \n",
    "  2.5e-12 * nSNP * NSAMPLES^2 hours            if not removing outliers.\n",
    "  2.5e-12 * nSNP * NSAMPLES^2 hours * (1+m)    if m outlier removal iterations.\n",
    "Thus, under the default of up to 5 outlier removal iterations, running time is \n",
    "  up to 1.5e-11 * nSNP * NSAMPLES^2 hours.```"
   ]
  },
  {
   "cell_type": "code",
   "execution_count": null,
   "metadata": {
    "collapsed": true
   },
   "outputs": [],
   "source": [
    "# EC2 command line #\n",
    "cd /shared/sandbox/vidus_lambda_comparison/eigenstrat\n",
    "\n",
    "mkdir results\n",
    "\n",
    "# Count ID lengths greater than 39 characters\n",
    "ancestry=\"ea\"\n",
    "study1=phs000634_lung_cancer\n",
    "study2=phs000801_lymphoma\n",
    "\n",
    "# Run smartpca\n",
    "/shared/bioinformatics/software/scripts/qsub_job.sh \\\n",
    "    --job_name ${study1}_${study2}_${ancestry}_smartpca \\\n",
    "    --script_prefix smartpca_${study1}_vs_${study2}_${ancestry} \\\n",
    "    --mem 15 \\\n",
    "    --nslots 4 \\\n",
    "    --priority 0 \\\n",
    "    --program /shared/bioinformatics/software/third_party/EIG-6.1.4/bin/smartpca.perl \\\n",
    "        -i ${study1}_vs_${study2}_${ancestry}_ld_pruned.bed \\\n",
    "        -a ${study1}_vs_${study2}_${ancestry}_ld_pruned_id_renamed.bim \\\n",
    "        -b ${study1}_vs_${study2}_${ancestry}_ld_pruned.fam \\\n",
    "        -o results/${study1}_vs_${study2}_${ancestry}_ld_pruned.pca \\\n",
    "        -p results/${study1}_vs_${study2}_${ancestry}_ld_pruned.plot \\\n",
    "        -e results/${study1}_vs_${study2}_${ancestry}_ld_pruned.eval \\\n",
    "        -l results/${study1}_vs_${study2}_${ancestry}_ld_pruned.pca.log \\\n",
    "        -m 0"
   ]
  },
  {
   "cell_type": "markdown",
   "metadata": {},
   "source": [
    "### Extract eigenvectors"
   ]
  },
  {
   "cell_type": "code",
   "execution_count": null,
   "metadata": {
    "collapsed": true
   },
   "outputs": [],
   "source": [
    "# EC2 command line #\n",
    "cd /shared/sandbox/vidus_lambda_comparison/eigenstrat/results\n",
    "\n",
    "# Grab top 10 eigenvectors from PCA \n",
    "ancestry=\"ea\"\n",
    "study1=phs000634_lung_cancer\n",
    "study2=phs000801_lymphoma\n",
    "\n",
    "echo \"FID IID EV1 EV2 EV3 EV4 EV5 EV6 EV7 EV8 EV9 EV10\" > ${study1}_vs_${study2}_${ancestry}_ld_pruned_top10_eigenvecs.txt\n",
    "tail -n +2 ${study1}_vs_${study2}_${ancestry}_ld_pruned.pca.evec | \\\n",
    "    perl -lne 's/:/ /; @F=split; print join(\" \",$F[0],$F[1],$F[2],$F[3],$F[4],$F[5],$F[6],$F[7],$F[8],$F[9],$F[10],$F[11]);' \\\n",
    "    >> ${study1}_vs_${study2}_${ancestry}_ld_pruned_top10_eigenvecs.txt"
   ]
  },
  {
   "cell_type": "markdown",
   "metadata": {},
   "source": [
    "# Phenotype processing\n",
    "For Non-Hodgkin Lymphoma (NHL), age is given in ranges as follows:\n",
    "* LESS-25\n",
    "* 26-30\n",
    "* 31-35\n",
    "* 36-40\n",
    "* 41-45\n",
    "* 46-50\n",
    "* 51-55\n",
    "* 56-60\n",
    "* 61-65\n",
    "* 66-70\n",
    "* 71-75\n",
    "* 76-80\n",
    "* 81-85\n",
    "\n",
    "The Lung Cancer in Never Smokers study used actual ages in years, so the ages for NHL subjects will be converted as follows:\n",
    "* 23=(LESS-25)\n",
    "* 28=(26-30)\n",
    "* 33=(31-35)\n",
    "* 38=(36-40)\n",
    "* 43=(41-45)\n",
    "* 48=(46-50)\n",
    "* 53=(51-55)\n",
    "* 58=(56-60)\n",
    "* 63=(61-65)\n",
    "* 68=(66-70)\n",
    "* 73=(71-75)\n",
    "* 78=(76-80)\n",
    "* 83=(81-85)\n",
    "### Retieve covariates"
   ]
  },
  {
   "cell_type": "code",
   "execution_count": 2,
   "metadata": {},
   "outputs": [
    {
     "ename": "ERROR",
     "evalue": "Error in parse(text = x, srcfile = src): <text>:3:7: unexpected symbol\n2: cd /shared/sandbox/vidus_lambda_comparison\n3: mkdir phenotype\n         ^\n",
     "output_type": "error",
     "traceback": [
      "Error in parse(text = x, srcfile = src): <text>:3:7: unexpected symbol\n2: cd /shared/sandbox/vidus_lambda_comparison\n3: mkdir phenotype\n         ^\nTraceback:\n"
     ]
    }
   ],
   "source": [
    "# EC2 command line #\n",
    "cd /shared/sandbox/vidus_lambda_comparison\n",
    "mkdir phenotype\n",
    "\n",
    "# Get subjet ID and sex variables\n",
    "\n",
    "# LCNS\n",
    "tail -n +12 /shared/data/studies/phs000634_lung_cancer/phenotype/Subject_Phenotypes.GRU-MDS.txt | \\\n",
    "    awk '{ print $2,$3,$5}' > phenotype/phs000634_lung_cancer_id_sex_age_covar.txt.copy\n",
    "    #awk 'BEGIN {FS=\"\\t\"; sex_map[\"M\"]=2; sex_map[\"F\"]=1} { print $2,sex_map[$4] }' \\\n",
    "    #> phenotype/phs000634_lung_cancer_id_sex_covar.txt\n",
    "\n",
    "# NHL\n",
    "tail -n +12 /shared/data/studies/phs000801_lymphoma/phenotype/Subject_Phenotypes.GRU-NPU-MDS.txt |\n",
    "    awk 'BEGIN {FS=\"\\t\"; age_map[\"LESS-25\"]=23; age_map[\"26-30\"]=28; age_map[\"31-35\"]=33; \\\n",
    "    age_map[\"36-40\"]=38; age_map[\"41-45\"]=43; age_map[\"46-50\"]=48; age_map[\"51-55\"]=53; \\\n",
    "    age_map[\"56-60\"]=58; age_map[\"61-65\"]=63; age_map[\"66-70\"]=68; age_map[\"71-75\"]=73; \\\n",
    "    age_map[\"76-80\"]=78; age_map[\"81-85\"]=83; \\\n",
    "    sex_map[\"MALE\"]=2; sex_map[\"FEMALE\"]=1} \\\n",
    "    { print $2,sex_map[$4],age_map[$5] }' > phenotype/phs000801_lymphoma_id_sex_age_covar.txt.copy\n",
    "\n",
    "# map the LCNS fam id to the subject ID\n",
    "cd /shared/sandbox/vidus_lambda_comparison/phenotype\n",
    "awk 'NR==FNR{_[$2]=$5;next} $1 in _{$1=_[$1]}1' OFS=' ' Subject.MULTI.txt \\\n",
    "    phs000634_lung_cancer_id_sex_age_covar.txt.copy > file1.txt\n",
    "mv file3.txt phs000634_lung_cancer_id_sex_age_covar.txt\n",
    "\n",
    "# map the NHL fam ids given in the phenotype file to the subject id that is given in the .fam file\n",
    "awk 'NR==FNR{_[$1]=$2;next}$1 in _{$1=_[$1]}1' OFS=' ' ../eigenstrat/phs000634_lung_cancer_vs_phs000801_lymphoma_ea.fam \\\n",
    "    phs000801_lymphoma_id_sex_age_covar.txt.copy  > file4.txt\n",
    "\n",
    "mv file4.txt phs000801_lymphoma_id_sex_age_covar.txt"
   ]
  },
  {
   "cell_type": "markdown",
   "metadata": {},
   "source": [
    "### Merge eigenvectors and covariates"
   ]
  },
  {
   "cell_type": "code",
   "execution_count": null,
   "metadata": {
    "collapsed": true
   },
   "outputs": [],
   "source": [
    "# R script #\n",
    "\n",
    "# merge_covariate_data.R\n",
    "#\n",
    "# Args:\n",
    "#   1) FAM file\n",
    "#   2) Covariate data (no headers) for study 1\n",
    "#   3) Covariate data (no header) for study 2\n",
    "#   4) Eigenvector file\n",
    "#   5) Outfile\n",
    "\n",
    "# Load data\n",
    "options(stringsAsFactors=F)\n",
    "args <- commandArgs(trailingOnly=T)\n",
    "args <- c(\"eigenstrat/phs000634_lung_cancer_vs_phs000801_lymphoma_ea.fam\",\n",
    "         \"phenotype/phs000634_lung_cancer_id_sex_age_covar.txt\",\n",
    "         \"phenotype/phs000801_lymphoma_id_sex_age_covar.txt\",\n",
    "         \"eigenstrat/results/phs000634_lung_cancer_vs_phs000801_lymphoma_ea_ld_pruned_top10_eigenvecs.txt\",\n",
    "         \"phenotype/phs000634_lung_cancer_vs_phs000801_lymphoma_ea_sex_age_ev.covariates\")\n",
    "\n",
    "fam.data <- read.delim(args[1], header=F, sep=\" \", colClasses=c(V1=\"character\", V2=\"character\"))\n",
    "colnames(fam.data) <- c(\"FID\", \"IID\")\n",
    "cov.data1 <- read.delim(args[2], header=F, sep=\" \", colClasses=c(V1=\"character\"))\n",
    "colnames(cov.data1) <- c(\"ID\", \"SEX\", \"AGE\")\n",
    "cov.data2 <- read.delim(args[3], header=F, sep=\" \", colClasses=c(V1=\"character\"))\n",
    "colnames(cov.data2) <- c(\"ID\", \"SEX\", \"AGE\")\n",
    "cov.data.merged <- rbind(cov.data1, cov.data2)\n",
    "ev.data <- read.delim(args[4], header=T, sep=\"\", colClasses=c(FID=\"character\", IID=\"character\"))\n",
    "\n",
    "# Subset covariate data to only subjects in FAM file\n",
    "merge1 <- merge(x=fam.data, y=cov.data.merged, by.x=\"IID\", by.y=\"ID\")[,c(\"FID\",\"IID\",\"SEX\", \"AGE\")]\n",
    "\n",
    "# Add eigenvector covariates\n",
    "merge2 <- merge(x=merge1, y=ev.data, by=c(\"FID\",\"IID\"))\n",
    "\n",
    "# Export data\n",
    "write.table(x=merge2, file=args[5], quote=F, sep=\"\\t\", row.names=F, col.names=T, append=F)"
   ]
  },
  {
   "cell_type": "code",
   "execution_count": null,
   "metadata": {
    "collapsed": true
   },
   "outputs": [],
   "source": [
    "# EC2 command line #\n",
    "cd /shared/sandbox/vidus_lambda_comparison\n",
    "\n",
    "# Merge covariate files\n",
    "ancestry=\"ea\"\n",
    "study1=phs000634_lung_cancer\n",
    "study2=phs000801_lymphoma\n",
    "\n",
    "# Run covariate data processing script\n",
    "Rscript merge_covariate_data.R eigenstrat/${study1}_vs_${study2}_${ancestry}.fam \\\n",
    "    phenotype/${study1}_id_sex_age_covar.txt \\\n",
    "    phenotype/${study2}_id_sex_age_covar.txt \\\n",
    "    eigenstrat/results/${study1}_vs_${study2}_${ancestry}_ld_pruned_top10_eigenvecs.txt \\\n",
    "    phenotype/${study1}_vs_${study2}_${ancestry}_sex_age_ev.covariates"
   ]
  },
  {
   "cell_type": "markdown",
   "metadata": {},
   "source": [
    "# PCA\n",
    "We visualize pairwise population differences by looking at the top PCA eigenvectors."
   ]
  },
  {
   "cell_type": "code",
   "execution_count": null,
   "metadata": {
    "collapsed": true
   },
   "outputs": [],
   "source": [
    "# Load PCA data\n",
    "options(stringsAsFactors=F)\n",
    "lung.lymphoma <- read.table(\"/shared/sandbox/vidus_lambda_comparison/eigenstrat/results/phs000634_lung_cancer_vs_phs000801_lymphoma_ea_ld_pruned.pca.evec\", comment.char=\"#\", sep=\"\", row.names=1)\n",
    "\n",
    "# Function for plotting off-diagonal scatterplots\n",
    "plot.offdiag <- function(x, y, colors=label.colors){\n",
    "    #Make x and y axes equal\n",
    "    limits <- c(min(x,y), max(x,y)) * 1.3\n",
    "    par(usr = c(limits, limits))\n",
    "    points(x,y, col=colors, pch=16)\n",
    "}\n",
    "\n",
    "# Function for plotting diagonal density plots\n",
    "plot.diag <- function(x, colors=label.colors){\n",
    "    d <- density(x, bw=0.01, kernel=\"gaussian\")\n",
    "    #Update plot axes limits\n",
    "    par(usr = c(range(d$x), range(d$y)*1.3))\n",
    "    points(d$x,d$y, type=\"l\")\n",
    "    #Add PC values\n",
    "    points(x=x, y=jitter(rep(mean(d$y),times=d$n),factor=5), col=label.colors, pch=16)\n",
    "}\n",
    "\n",
    "#Run PCA and get % variance\n",
    "dspace <- lung.lymphoma[1:10] #transformed dataspace\n",
    "\n",
    "#Color label samples\n",
    "sample.names <- lung.lymphoma[,11]\n",
    "label.colors <- rep(NA, length(sample.names))\n",
    "label.colors[grepl(x=sample.names, pattern=\"Case\", ignore.case=T)] <- rgb(0,80,190,80, maxColorValue=255) #blue\n",
    "label.colors[grepl(x=sample.names, pattern=\"Control\", ignore.case=T)] <- rgb(200,0,0,80, maxColorValue=255) #red\n",
    "legend.cols <- c(rgb(0,80,190,255, maxColorValue=255), rgb(255,0,0,255, maxColorValue=255))\n",
    "\n",
    "options(repr.plot.width=8, repr.plot.height=8)\n",
    "#Redefine outer margin\n",
    "par(oma = c(4, 1, 2, 1))\n",
    "pairs(x=dspace[,1:4], panel=plot.offdiag, diag.panel=plot.diag, \n",
    "      labels=paste0(\"PC\",1:4), label.pos=0.9, cex.labels=1.8)\n",
    "par(fig=c(0, 1, 0, 1), oma=c(0, 0, 0, 0), mar=c(0, 0, 1.5, 0), new=TRUE)\n",
    "plot(0, 0, type = \"n\", bty = \"n\", xaxt = \"n\", yaxt = \"n\", main=\"Lung Cancer vs Lymphoma\", cex.main=1)\n",
    "legend(\"bottom\", c(\"Lung Cancer\", \"Lymphoma\"), \n",
    "       pch=19, col=legend.cols,\n",
    "       xpd=TRUE, horiz=TRUE, inset=c(0,-0.02), \n",
    "       bty=\"n\", cex=1)"
   ]
  },
  {
   "cell_type": "markdown",
   "metadata": {},
   "source": [
    "# Troubleshooting\n",
    "\n",
    "## run PCA with 1000G data"
   ]
  },
  {
   "cell_type": "code",
   "execution_count": null,
   "metadata": {
    "collapsed": true
   },
   "outputs": [],
   "source": [
    "mkdir -p /shared/sandbox/vidus_lambda_comparison/trouble_shooting/1000g\n",
    "cd /shared/sandbox/vidus_lambda_comparison/trouble_shooting\n",
    "\n",
    "cp ../eigenstrat/phs000634_lung_cancer_vs_phs000801_lymphoma_ea_ld_pruned.* .\n",
    "awk '{print $2}' phs000634_lung_cancer_vs_phs000801_lymphoma_ea_ld_pruned.bim > all_variant_IDs\n",
    "\n",
    "cd 1000g\n",
    "# Rename 1000G autosome variant IDs\n",
    "for chr in {1..22}; do\n",
    "    /shared/bioinformatics/software/scripts/qsub_job.sh \\\n",
    "        --job_name recode_to_1000g_${chr} \\\n",
    "        --script_prefix ${ancestry}_chr${chr}_id_rename \\\n",
    "        --mem 8 \\\n",
    "        --nslots 1 \\\n",
    "        --priority 0 \\\n",
    "        --program /shared/bioinformatics/software/perl/id_conversion/convert_to_1000g_p3_ids.pl \\\n",
    "        --file_in /shared/data/ref_panels/1000G/2013.05/plink/ALL.chr${chr}.bim \\\n",
    "        --file_out chr${chr}_renamed.bim \\\n",
    "        --legend /shared/data/ref_panels/1000G/2014.10/1000GP_Phase3_chr$chr.legend.gz \\\n",
    "        --file_in_header 0 \\\n",
    "        --file_in_id_col 1 \\\n",
    "        --file_in_chr_col 0 \\\n",
    "        --file_in_pos_col 3 \\\n",
    "        --file_in_a1_col 4 \\\n",
    "        --file_in_a2_col 5 \\\n",
    "        --chr ${chr}\n",
    "done\n",
    "\n",
    "\n",
    "# Get subject IDs by ancestry\n",
    "awk 'BEGIN { FS=\"\\t\"; OFS=\"\\t\" } { if($7==\"African\"){print $1,$1} }'  /shared/data/ref_panels/1000G/igsr_samples.tsv \\\n",
    "    > 1000g_subject_IDs\n",
    "awk 'BEGIN { FS=\"\\t\"; OFS=\"\\t\" } { if($7==\"East Asian\"){print $1,$1} }'  /shared/data/ref_panels/1000G/igsr_samples.tsv \\\n",
    "    >> 1000g_subject_IDs\n",
    "awk 'BEGIN { FS=\"\\t\"; OFS=\"\\t\" } { if($7==\"European\"){print $1,$1} }' /shared/data/ref_panels/1000G/igsr_samples.tsv \\\n",
    "    >> 1000g_subject_IDs\n",
    "\n",
    "## combine 1000g data\n",
    "#touch 1000g_chr_all_renamed.bim\n",
    "#for chr in {1..22}; do\n",
    "#    cat chr${chr}_renamed.bim >> 1000g_chr_all_renamed.bim\n",
    "#done\n",
    "\n",
    "# Get list of variants from 1000G\n",
    "/shared/bioinformatics/software/scripts/qsub_job.sh \\\n",
    "    --job_name merge_1000g_snps \\\n",
    "    --script_prefix merge_1000g_snps \\\n",
    "    --mem 3 \\\n",
    "    --priority 0 \\\n",
    "    --program \"cat 1000g_chr_all_renamed.bim | \\\n",
    "        cut -f2,2 | \\\n",
    "        sort -u | \\\n",
    "        grep \\\"rs\\\" > 1000g_phase3_snps.txt\"\n",
    "\n",
    "\n",
    "\n",
    "# Get SNP overlap between study data and 1000G\n",
    "comm -12 ../all_variant_IDs 1000g_phase3_snps.txt > study_1000g_shared_snps.txt\n",
    "\n",
    "# Select 10,000 random SNPs from study and 1000G overlap\n",
    "perl -ne 'print rand().\"\\t\".$_' study_1000g_shared_snps.txt | \\\n",
    "    sort -k1,1 | \\\n",
    "    head -10000 | \\\n",
    "    cut -f2,2 \\\n",
    "    > 10k_snp_random_sample.txt\n",
    "\n",
    "\n",
    "# create binary filesets with 10k sample\n",
    "for chr in {1..22}; do\n",
    "    /shared/bioinformatics/software/scripts/qsub_job.sh \\\n",
    "        --job_name chr${chr}_filter \\\n",
    "        --script_prefix ancestry_partition_chr${chr} \\\n",
    "        --mem 8 \\\n",
    "        --priority 0 \\\n",
    "        --program /shared/bioinformatics/software/third_party/plink-1.90-beta-4.10-x86_64/plink  \\\n",
    "            --noweb \\\n",
    "            --memory 10000 \\\n",
    "            --bim chr${chr}_renamed.bim \\\n",
    "            --fam /shared/data/ref_panels/1000G/2013.05/plink/ALL.chr${chr}.fam \\\n",
    "            --bed /shared/data/ref_panels/1000G/2013.05/plink/ALL.chr${chr}.bed \\\n",
    "            --bfile /shared/data/ref_panels/1000G/2013.05/plink/ALL.chr${chr} \\\n",
    "            --keep 1000g_subject_IDs \\\n",
    "            --extract 10k_snp_random_sample.txt \\\n",
    "            --make-bed \\\n",
    "            --out chr${chr}_10k_sample\n",
    "done\n",
    "#-------------------------------------------------------------------------------\n",
    "\n",
    "\n",
    "for chr in {1..22}; do\n",
    "    /shared/bioinformatics/software/scripts/qsub_job.sh \\\n",
    "        --job_name chr${chr}_filter \\\n",
    "        --script_prefix ancestry_partition_chr${chr} \\\n",
    "        --mem 8 \\\n",
    "        --priority 0 \\\n",
    "        --program /shared/bioinformatics/software/third_party/plink-1.90-beta-4.10-x86_64/plink  \\\n",
    "            --noweb \\\n",
    "            --memory 10000 \\\n",
    "            --bim chr${chr}_renamed.bim \\\n",
    "            --fam /shared/data/ref_panels/1000G/2013.05/plink/ALL.chr${chr}.fam \\\n",
    "            --bed /shared/data/ref_panels/1000G/2013.05/plink/ALL.chr${chr}.bed \\\n",
    "            --keep 1000g_subject_IDs \\\n",
    "            --extract snp_outliers.txt \\\n",
    "            --allow-no-vars \\\n",
    "            --make-bed \\\n",
    "            --out chr${chr}_28_sample\n",
    "done\n",
    "\n",
    "\n",
    "        /shared/bioinformatics/software/scripts/qsub_job.sh \\\n",
    "            --job_name merge_plink_filesets \\\n",
    "            --script_prefix merge_plink_filesets \\\n",
    "            --mem 4 \\\n",
    "            --priority 0 \\\n",
    "            --program /shared/bioinformatics/software/third_party/plink-1.90-beta-4.10-x86_64/plink \\\n",
    "                --noweb \\\n",
    "                --memory 4000 \\\n",
    "                --merge-list autosome_merge_list.txt \\\n",
    "                --snps-only just-acgt \\\n",
    "                --allow-no-vars \\\n",
    "                --make-bed \\\n",
    "                --out all_autosomes_28_snp_sample\n",
    "\n",
    "\n",
    "/shared/bioinformatics/software/third_party/plink-1.90-beta-4.10-x86_64/plink \\\n",
    "    --noweb \\\n",
    "    --memory 4000 \\\n",
    "    --bfile ../phs000634_lung_cancer_vs_phs000801_lymphoma_ea_ld_pruned \\\n",
    "    --extract snp_outliers.txt \\\n",
    "    --make-bed \\\n",
    "    --out study_28_sample\n",
    "\n",
    "\n",
    "# merge 1000g with study data\n",
    "/shared/bioinformatics/software/third_party/plink-1.90-beta-4.10-x86_64/plink \\\n",
    "    --noweb \\\n",
    "    --memory 4000 \\\n",
    "    --bfile all_autosomes_28_snp_sample \\\n",
    "    --bmerge study_28_sample \\\n",
    "    --snps-only just-acgt \\\n",
    "    --make-bed \\\n",
    "    --out study_and_1000g_combined_28_sample\n",
    "\n",
    "-------------------------------------------------------------------------------\n",
    "# create merge list\n",
    "touch autosome_merge_list.txt\n",
    "for chr in {1..22};do\n",
    "   echo \"chr${chr}_10k_sample\" >> autosome_merge_list.txt\n",
    "done\n",
    "\n",
    "# merge autosomes\n",
    "    /shared/bioinformatics/software/scripts/qsub_job.sh \\\n",
    "        --job_name merge_plink_filesets \\\n",
    "        --script_prefix merge_plink_filesets \\\n",
    "        --mem 4 \\\n",
    "        --priority 0 \\\n",
    "        --program /shared/bioinformatics/software/third_party/plink-1.90-beta-4.10-x86_64/plink \\\n",
    "            --noweb \\\n",
    "            --memory 4000 \\\n",
    "            --merge-list autosome_merge_list.txt \\\n",
    "            --snps-only just-acgt \\\n",
    "            --make-bed \\\n",
    "            --out all_autosomes_10k_snp_random_sample\n",
    "\n",
    "cd ../\n",
    "# subset study data by 10k snp sample\n",
    "/shared/bioinformatics/software/third_party/plink-1.90-beta-4.10-x86_64/plink \\\n",
    "    --noweb \\\n",
    "    --memory 4000 \\\n",
    "    --bfile phs000634_lung_cancer_vs_phs000801_lymphoma_ea_ld_pruned \\\n",
    "    --extract 1000g/10k_snp_random_sample.txt \\\n",
    "    --make-bed \\\n",
    "    --out study_10k_sample\n",
    "\n",
    "\n",
    "\n",
    "# merge 1000g with study data\n",
    "/shared/bioinformatics/software/third_party/plink-1.90-beta-4.10-x86_64/plink \\\n",
    "    --noweb \\\n",
    "    --memory 4000 \\\n",
    "    --bfile 1000g/all_autosomes_10k_snp_random_sample \\\n",
    "    --bmerge study_10k_sample \\\n",
    "    --snps-only just-acgt \\\n",
    "    --make-bed \\\n",
    "    --out study_and_1000g_combined_10k_sample\n"
   ]
  },
  {
   "cell_type": "markdown",
   "metadata": {},
   "source": [
    "## run eigenstrat on 10k sample"
   ]
  },
  {
   "cell_type": "code",
   "execution_count": null,
   "metadata": {
    "collapsed": true
   },
   "outputs": [],
   "source": [
    "mkdir -p /shared/sandbox/vidus_lambda_comparison/trouble_shooting/eigenstrat/results\n",
    "cd /shared/sandbox/vidus_lambda_comparison/trouble_shooting/eigenstrat\n",
    "\n",
    "awk '{$6= \"-9\"} {print $0}' ../study_and_1000g_combined_10k_sample.fam > ../final.fam\n",
    "\n",
    "# Run smartpca\n",
    "/shared/bioinformatics/software/scripts/qsub_job.sh \\\n",
    "    --job_name study_vs_1000g_smartpca \\\n",
    "    --script_prefix smartpca_study_vs_1000g_ \\\n",
    "    --mem 8 \\\n",
    "    --nslots 2 \\\n",
    "    --priority 0 \\\n",
    "    --program /shared/bioinformatics/software/third_party/EIG-6.1.4/bin/smartpca.perl \\\n",
    "        -i ../study_and_1000g_combined_10k_sample.bed \\\n",
    "        -a ../study_and_1000g_combined_10k_sample.bim \\\n",
    "        -b ../final.fam \\\n",
    "        -o results/study_and_1000g_10k_snp.pca \\\n",
    "        -p results/study_and_1000g_10k_snp.plot \\\n",
    "        -e results/study_and_1000g_10k_snp.eval \\\n",
    "        -l results/study_and_1000g_10k_snp.pca.log \\\n",
    "        -m 0\n",
    "\n",
    "\n",
    "--------------------------------------------------------------------------------\n",
    "\n",
    "awk '{a{$6}= \"-9\"} {print $0}' study_and_1000g_combined_28_sample.fam > final.fam\n",
    "\n",
    "/shared/bioinformatics/software/scripts/qsub_job.sh \\\n",
    "    --job_name study_vs_1000g_smartpca \\\n",
    "    --script_prefix smartpca_study_vs_1000g_ \\\n",
    "    --mem 8 \\\n",
    "    --nslots 3 \\\n",
    "    --priority 0 \\\n",
    "    --program /shared/bioinformatics/software/third_party/EIG-6.1.4/bin/smartpca.perl \\\n",
    "        -i study_and_1000g_combined_28_sample.bed \\\n",
    "        -a study_and_1000g_combined_28_sample.bim \\\n",
    "        -b final.fam \\\n",
    "        -o results/study_and_1000g_28_snp.pca \\\n",
    "        -p results/study_and_1000g_28_snp.plot \\\n",
    "        -e results/study_and_1000g_28_snp.eval \\\n",
    "        -l results/study_and_1000g_28_snp.pca.log \\\n",
    "        -m 0"
   ]
  },
  {
   "cell_type": "markdown",
   "metadata": {},
   "source": [
    "## 1000g pca\n"
   ]
  },
  {
   "cell_type": "code",
   "execution_count": null,
   "metadata": {
    "collapsed": true
   },
   "outputs": [],
   "source": [
    "cd /shared/sandbox/vidus_lambda_comparison/trouble_shooting/eigenstrat/results\n",
    "# Get subject IDs by ancestry\n",
    "awk 'BEGIN { FS=\"\\t\"; OFS=\"\\t\" } { if($7==\"African\"){print $1} }'  /shared/data/ref_panels/1000G/igsr_samples.tsv \\\n",
    "    > AFR_1000g_subject_IDs\n",
    "awk 'BEGIN { FS=\"\\t\"; OFS=\"\\t\" } { if($7==\"East Asian\"){print $1} }'  /shared/data/ref_panels/1000G/igsr_samples.tsv \\\n",
    "    > EAS_1000g_subject_IDs\n",
    "awk 'BEGIN { FS=\"\\t\"; OFS=\"\\t\" } { if($7==\"European\"){print $1} }' /shared/data/ref_panels/1000G/igsr_samples.tsv \\\n",
    "    > EUR_1000g_subject_IDs"
   ]
  },
  {
   "cell_type": "code",
   "execution_count": 1,
   "metadata": {},
   "outputs": [
    {
     "name": "stderr",
     "output_type": "stream",
     "text": [
      "Warning message in file(file, \"rt\"):\n",
      "\"cannot open file '/shared/sandbox/vidus_lambda_comparison/trouble_shooting/eigenstrat/results/study_and_1000g_10k_snp.pca.evec': No such file or directory\""
     ]
    },
    {
     "ename": "ERROR",
     "evalue": "Error in file(file, \"rt\"): cannot open the connection\n",
     "output_type": "error",
     "traceback": [
      "Error in file(file, \"rt\"): cannot open the connection\nTraceback:\n",
      "1. read.table(\"/shared/sandbox/vidus_lambda_comparison/trouble_shooting/eigenstrat/results/study_and_1000g_10k_snp.pca.evec\", \n .     comment.char = \"#\", sep = \"\", row.names = 1)",
      "2. file(file, \"rt\")"
     ]
    }
   ],
   "source": [
    "# Load PCA data\n",
    "options(stringsAsFactors=F)\n",
    "lung.lymphoma <- read.table(\"/shared/sandbox/vidus_lambda_comparison/trouble_shooting/eigenstrat/results/study_and_1000g_10k_snp.pca.evec\", comment.char=\"#\", sep=\"\", row.names=1)\n",
    "\n",
    "# Function for plotting off-diagonal scatterplots\n",
    "plot.offdiag <- function(x, y, colors=label.colors){\n",
    "    #Make x and y axes equal\n",
    "    limits <- c(min(x,y), max(x,y)) * 1.3\n",
    "    par(usr = c(limits, limits))\n",
    "    points(x,y, col=colors, pch=16)\n",
    "}\n",
    "\n",
    "# Function for plotting diagonal density plots\n",
    "plot.diag <- function(x, colors=label.colors){\n",
    "    d <- density(x, bw=0.01, kernel=\"gaussian\")\n",
    "    #Update plot axes limits\n",
    "    par(usr = c(range(d$x), range(d$y)*1.3))\n",
    "    points(d$x,d$y, type=\"l\")\n",
    "    #Add PC values\n",
    "    points(x=x, y=jitter(rep(mean(d$y),times=d$n),factor=5), col=label.colors, pch=16)\n",
    "}\n",
    "\n",
    "#Run PCA and get % variance\n",
    "dspace <- lung.lymphoma[1:10] #transformed dataspace\n",
    "\n",
    "AFR = scan(file=\"AFR_1000g_subject_IDs\", what=character())\n",
    "EAS = scan(file=\"EAS_1000g_subject_IDs\", what=character())\n",
    "EUR = scan(file=\"EUR_1000g_subject_IDs\", what=character())\n",
    "\n",
    "#Color label samples\n",
    "sample.names <- row.names(lung.lymphoma)\n",
    "label.colors <- rep(NA, length(sample.names))\n",
    "label.colors[grepl(x=sample.names, pattern=\"LLP|Mayo|MDA|Wayne\", ignore.case=F)] <- rgb(0,0,255,80, maxColorValue=255) #blue\n",
    "label.colors[grepl(x=sample.names, pattern=\"TGS\", ignore.case=F)] <- rgb(255,0,0,80, maxColorValue=255) #red\n",
    "label.colors[grepl(x=sample.names, pattern=paste(AFR,collapse=\"|\"), ignore.case=F)] <- rgb(0,0, 0,80, maxColorValue=255) #black\n",
    "label.colors[grepl(x=sample.names, pattern=paste(EAS,collapse=\"|\"), ignore.case=F)] <- rgb(0,255,0,80, maxColorValue=255) #green\n",
    "label.colors[grepl(x=sample.names, pattern=paste(EUR,collapse=\"|\"), ignore.case=F)] <- rgb(255,215,0,80, maxColorValue=255) #gold\n",
    "legend.cols <- c(rgb(0,0,255,255, maxColorValue=255), rgb(255,0,0,255, maxColorValue=255),\n",
    "                 rgb(0,0,0,255, maxColorValue=255), rgb(0,255,0,255, maxColorValue=255),\n",
    "                 rgb(255,215,0,255, maxColorValue=255))\n",
    "#legend.cols <- c(rgb(0,0,255,255, maxColorValue=255),rgb(255,0,0,255, maxColorValue=255))\n",
    "\n",
    "options(repr.plot.width=8, repr.plot.height=8)\n",
    "#Redefine outer margin\n",
    "par(oma = c(4, 1, 2, 1))\n",
    "pairs(x=dspace[,1:4], panel=plot.offdiag, diag.panel=plot.diag, \n",
    "      labels=paste0(\"PC\",1:4), label.pos=0.9, cex.labels=1.8)\n",
    "par(fig=c(0, 1, 0, 1), oma=c(0, 0, 0, 0), mar=c(0, 0, 1.5, 0), new=TRUE)\n",
    "plot(0, 0, type = \"n\", bty = \"n\", xaxt = \"n\", yaxt = \"n\", main=\"Lung Cancer vs Lymphoma vs 1000G\", cex.main=1)\n",
    "legend(\"bottom\", c(\"Lung Cancer\", \"Lymphoma\", \"AFR\", \"EAS\", \"EUR\"), \n",
    "       pch=19, col=legend.cols,\n",
    "       xpd=TRUE, horiz=TRUE, inset=c(0,-0.02), \n",
    "       bty=\"n\", cex=1)\n",
    "#legend(\"bottom\", c(\"Lung Cancer\", \"Lymphoma\"), \n",
    "#       pch=19, col=legend.cols,\n",
    "#       xpd=TRUE, horiz=TRUE, inset=c(0,-0.02), \n",
    "#       bty=\"n\", cex=1)\n"
   ]
  },
  {
   "cell_type": "markdown",
   "metadata": {},
   "source": [
    "## Eigenstrat with snpweightoutname\n",
    "To determine which SNPs are highly associated with PC2, I run the smartpca program in EIGENSTRAT with the additional parameter `snpweightoutname`. This function outputs a file containing SNP weighting of each principal component. \n",
    "\n",
    "\n",
    "The syntax of smartpca is `\"../bin/smartpca -p parfile\"`.  We illustrate\n",
    "how parfile works via a toy example (see example.perl in this directory).\n",
    "This example takes input in EIGENSTRAT format.  The syntax of how to take input\n",
    "in other formats is analogous to the convertf program, see ../CONVERTF/README.\n",
    "\n",
    "`\n",
    "genotypename:     input genotype file (in any format: see ../CONVERTF/README)\n",
    "snpname:          input snp file      (in any format: see ../CONVERTF/README)\n",
    "indivname:        input indiv file    (in any format: see ../CONVERTF/README)\n",
    "evecoutname:      output file of eigenvectors.  See numoutevec parameter below.\n",
    "evaloutname:      output file of all eigenvalues\n",
    "numoutlieriter:   maximum number of outlier removal iterations. Default is 5. \n",
    "                  To turn off outlier removal, set this parameter to 0.\n",
    "snpweightoutname: output file containing SNP weightings of each principal component.\n",
    "                  Note that this output file does not contain entries.\n",
    "numthreads:       Multithreading option. Specify number of CPUs to use. Typically,\n",
    "                  one will want to use N-1, where N is the number of CPUs of the \n",
    "                  compute nodes.\n",
    "`"
   ]
  },
  {
   "cell_type": "markdown",
   "metadata": {},
   "source": [
    "__parfile__\n",
    "\n",
    "`genotypename:   ../phs000634_lung_cancer_vs_phs000801_lymphoma_ea_ld_pruned.bed\n",
    "snpname:        ../phs000634_lung_cancer_vs_phs000801_lymphoma_ea_ld_pruned_id_renamed.bim\n",
    "indivname:      ../phs000634_lung_cancer_vs_phs000801_lymphoma_ea_ld_pruned.fam\n",
    "evecoutname:    results/phs000634_lung_cancer_vs_phs000801_lymphoma_ea_ld_pruned.pca\n",
    "evaloutname:    results/phs000634_lung_cancer_vs_phs000801_lymphoma_ea_ld_pruned.plot\n",
    "numoutlieriter: 0\n",
    "snpweightoutname:       results/phs000634_lung_cancer_vs_phs000801_lymphoma_ea_ld_pruned.snp.weight\n",
    "numthreads:     3\n",
    "`"
   ]
  },
  {
   "cell_type": "code",
   "execution_count": null,
   "metadata": {
    "collapsed": true
   },
   "outputs": [],
   "source": [
    "# EC2 command line #\n",
    "mkdir -p /shared/sandbox/vidus_lambda_comparison/trouble_shooting/eigenstrat2/results\n",
    "cd /shared/sandbox/vidus_lambda_comparison/trouble_shooting/eigenstrat2/\n",
    "\n",
    "# Count ID lengths greater than 39 characters\n",
    "ancestry=\"ea\"\n",
    "study1=phs000634_lung_cancer\n",
    "study2=phs000801_lymphoma\n",
    "\n",
    "# Run smartpca\n",
    "/shared/bioinformatics/software/scripts/qsub_job.sh \\\n",
    "    --job_name ${study1}_${study2}_${ancestry}_smartpca \\\n",
    "    --script_prefix smartpca_${study1}_vs_${study2}_${ancestry} \\\n",
    "    --mem 15 \\\n",
    "    --nslots 4 \\\n",
    "    --priority 0 \\\n",
    "    --program /shared/bioinformatics/software/third_party/EIG-6.1.4/bin/smartpca -p parfile \n",
    "        \n"
   ]
  },
  {
   "cell_type": "markdown",
   "metadata": {},
   "source": [
    "# Run GWAS"
   ]
  },
  {
   "cell_type": "code",
   "execution_count": null,
   "metadata": {
    "collapsed": true
   },
   "outputs": [],
   "source": [
    "# EC2 command line #\n",
    "cd /shared/sandbox/vidus_lambda_comparison\n",
    "mkdir pairwise_gwas\n",
    "\n",
    "# Run PLINK GWAS\n",
    "ancestry=\"ea\"\n",
    "study1=phs000634_lung_cancer\n",
    "study2=phs000801_lymphoma\n",
    "\n",
    "# Submit GWAS to SGE job scheduler\n",
    "/shared/bioinformatics/software/scripts/qsub_job.sh \\\n",
    "    --mem 15 \\\n",
    "    --nslots 4 \\\n",
    "    --job_name ${study1}_vs_${study2}_${ancestry}_gwas \\\n",
    "    --script_prefix pairwise_gwas/${study1}_vs_${study2}_${ancestry}_gwas \\\n",
    "    --priority 0 \\\n",
    "    --program /shared/bioinformatics/software/third_party/plink-1.90-beta-4.10-x86_64/plink \\\n",
    "        --memory 15000 \\\n",
    "        --noweb \\\n",
    "        --bfile eigenstrat/${study1}_vs_${study2}_${ancestry} \\\n",
    "        --logistic \\\n",
    "        --covar phenotype/${study1}_vs_${study2}_${ancestry}_sex_age_ev.covariates \\\n",
    "        --out pairwise_gwas/${study1}_vs_${study2}_${ancestry}_sex+age+evs\n",
    "\n",
    "\n",
    "ancestry=\"ea\"\n",
    "study1=phs000634_lung_cancer\n",
    "study2=phs000801_lymphoma\n",
    "cut -f 1-5,7-14 phenotype/phs000634_lung_cancer_vs_phs000801_lymphoma_ea_sex_age_ev.covariates >\\\n",
    "    pairwise_gwas_no2/phs000634_lung_cancer_vs_phs000801_lymphoma_ea_sex_age_ev.covariates\n",
    "\n",
    "# Submit GWAS to SGE job scheduler\n",
    "/shared/bioinformatics/software/scripts/qsub_job.sh \\\n",
    "    --mem 15 \\\n",
    "    --nslots 4 \\\n",
    "    --job_name ${study1}_vs_${study2}_${ancestry}_gwas \\\n",
    "    --script_prefix pairwise_gwas_no2/${study1}_vs_${study2}_${ancestry}_gwas \\\n",
    "    --priority 0 \\\n",
    "    --program /shared/bioinformatics/software/third_party/plink-1.90-beta-4.10-x86_64/plink \\\n",
    "        --memory 15000 \\\n",
    "        --noweb \\\n",
    "        --bfile eigenstrat/${study1}_vs_${study2}_${ancestry} \\\n",
    "        --chr 1 \\\n",
    "        --logistic \\\n",
    "        --covar pairwise_gwas_no2/${study1}_vs_${study2}_${ancestry}_sex_age_ev.covariates \\\n",
    "        --out pairwise_gwas_no2/${study1}_vs_${study2}_${ancestry}_sex+age+evs\n"
   ]
  },
  {
   "cell_type": "markdown",
   "metadata": {},
   "source": [
    "### Results"
   ]
  },
  {
   "cell_type": "code",
   "execution_count": null,
   "metadata": {
    "collapsed": true
   },
   "outputs": [],
   "source": [
    "# EC2 command line #\n",
    "cd /shared/sandbox/vidus_lambda_comparison/pairwise_gwas\n",
    "\n",
    "# Retrieve variant info\n",
    "ancestry=\"ea\"\n",
    "study1=phs000634_lung_cancer\n",
    "study2=phs000801_lymphoma\n",
    "\n",
    "# Grab header and 'ADD' lines\n",
    "head -n 1 ${study1}_vs_${study2}_${ancestry}_sex+age+evs.assoc.logistic > ${study1}_vs_${study2}_${ancestry}_sex+age+evs_add_only.assoc.logistic\n",
    "grep \"ADD\" ${study1}_vs_${study2}_${ancestry}_sex+age+evs.assoc.logistic > ${study1}_vs_${study2}_${ancestry}_sex+age+evs_add_only.assoc.logistic\n",
    "\n",
    "# Make results table\n",
    "outfile=${study1}_vs_${study2}_${ancestry}_sex+age+evs_add_only.assoc.logistic.table\n",
    "echo -e \"VARIANT_ID\\tCHR\\tPOSITION\\tP\\tTYPE\" > $outfile\n",
    "infile=${study1}_vs_${study2}_${ancestry}_sex+age+evs_add_only.assoc.logistic\n",
    "echo \"Processing ${infile}\"\n",
    "tail -n +2 ${infile} | \\\n",
    "    perl -lane 'if (($F[3] eq \"A\" || $F[3] eq \"C\" || $F[3] eq \"G\" || $F[3] eq \"T\")) {\n",
    "                    print join(\"\\t\",$F[1],$F[0],$F[2],$F[8],\"snp\");\n",
    "                } else {\n",
    "                    print join(\"\\t\",$F[1],$F[0],$F[2],$F[8],\"indel\");\n",
    "                }' >> $outfile\n"
   ]
  },
  {
   "cell_type": "markdown",
   "metadata": {},
   "source": [
    "### Create manhoattan and Q-Q plots"
   ]
  },
  {
   "cell_type": "code",
   "execution_count": null,
   "metadata": {
    "collapsed": true
   },
   "outputs": [],
   "source": [
    "# EC2 command line #\n",
    "cd /shared/sandbox/vidus_lambda_comparison/pairwise_gwas\n",
    "\n",
    "# Submit plotting jobs\n",
    "ancestry=\"ea\"\n",
    "study1=phs000634_lung_cancer\n",
    "study2=phs000801_lymphoma\n",
    "\n",
    "# Plot all chrommosomes\n",
    "/shared/bioinformatics/software/scripts/qsub_job.sh \\\n",
    "    --job_name gwas_plots \\\n",
    "    --script_prefix ${study1}_vs_${study2}_${ancestry}_sex+age+evs.assoc.logistic.plot \\\n",
    "    --mem 7 \\\n",
    "    --priority 0 \\\n",
    "    --nslots 2 \\\n",
    "    --program Rscript /shared/bioinformatics/software/R/generate_gwas_plots.R \\\n",
    "        --in ${study1}_vs_${study2}_${ancestry}_sex+age+evs_add_only.assoc.logistic.table \\\n",
    "        --in_chromosomes autosomal_nonPAR \\\n",
    "        --in_header \\\n",
    "        --out ${study1}_vs_${study2}_${ancestry}_sex+age+evs_add_only.assoc.logistic.all_chr \\\n",
    "        --col_id VARIANT_ID \\\n",
    "        --col_chromosome CHR \\\n",
    "        --col_position POSITION \\\n",
    "        --col_p P \\\n",
    "        --col_variant_type TYPE \\\n",
    "        --generate_snp_indel_manhattan_plot \\\n",
    "        --manhattan_odd_chr_color red3 \\\n",
    "        --manhattan_even_chr_color dodgerblue3 \\\n",
    "        --manhattan_points_cex 1.25 \\\n",
    "        --generate_snp_indel_qq_plot \\\n",
    "        --qq_lines \\\n",
    "        --qq_points_bg black \\\n",
    "        --qq_lambda"
   ]
  },
  {
   "cell_type": "markdown",
   "metadata": {},
   "source": [
    "### Generate filtered results tables with allele frequencies"
   ]
  },
  {
   "cell_type": "code",
   "execution_count": null,
   "metadata": {
    "collapsed": true
   },
   "outputs": [],
   "source": [
    "# EC2 command line #\n",
    "cd /shared/sandbox/vidus_lambda_comparison/pairwise_gwas\n",
    "\n",
    "\n",
    "ancestry=\"ea\"\n",
    "study1=phs000634_lung_cancer\n",
    "study2=phs000801_lymphoma\n",
    "\n",
    "# Allele frequency calculation\n",
    "/shared/bioinformatics/software/third_party/plink-1.90-beta-4.10-x86_64/plink \\\n",
    "    --noweb \\\n",
    "    --bfile ../eigenstrat/${study1}_vs_${study2}_${ancestry} \\\n",
    "    --freq case-control \\\n",
    "    --make-bed \\\n",
    "    --out ${study1}_vs_${study2}_${ancestry}\n",
    "\n",
    "# P-value filter of PLINK regression results\n",
    "echo -ne \"CHR\\tSNP_ID\\tBP\\tA1\\tTEST\\tN_OBS\\tOR\\tSTAT\\tP\\tA1\\tA1_CASE_FRQ\\tA1_CTRL_FRQ\\tA1_CASE_N_OBS\\tA1_CTRL_N_OBS\" \\\n",
    "    > ${study1}_vs_${study2}_${ancestry}_sex+age+evs_pval_lt_0.00000005_add_only.freq.assoc.logistic\n",
    "awk '{if(NR==FNR){freq_map[$2]=$3\" \"$5\" \"$6\" \"$7\" \"$8; next}; if($9<0.00000005){print $0,freq_map[$2]}}' \\\n",
    "    ${study1}_vs_${study2}_${ancestry}.frq.cc \\\n",
    "    ${study1}_vs_${study2}_${ancestry}_sex+age+evs_add_only.assoc.logistic \\\n",
    "    | perl -pi -e 's/^\\s+/newline/g; s/\\s+/\\t/g; s/newline/\\n/g' >> ${study1}_vs_${study2}_${ancestry}_sex+age+evs_pval_lt_0.00000005_add_only.freq.assoc.logistic"
   ]
  },
  {
   "cell_type": "markdown",
   "metadata": {},
   "source": [
    "## Summary\n"
   ]
  },
  {
   "cell_type": "code",
   "execution_count": null,
   "metadata": {
    "collapsed": true
   },
   "outputs": [],
   "source": []
  },
  {
   "cell_type": "code",
   "execution_count": null,
   "metadata": {
    "collapsed": true
   },
   "outputs": [],
   "source": []
  },
  {
   "cell_type": "code",
   "execution_count": null,
   "metadata": {
    "collapsed": true
   },
   "outputs": [],
   "source": []
  },
  {
   "cell_type": "code",
   "execution_count": null,
   "metadata": {
    "collapsed": true
   },
   "outputs": [],
   "source": [
    "/shared/bioinformatics/software/third_party/plink-1.90-beta-4.10-x86_64/plink \\\n",
    "    --noweb \\\n",
    "    --memory 3000 \\\n",
    "    --bfile /shared/sandbox/vidus_lambda_comparison/intersect/phs000801_lymphoma_ea \\\n",
    "    --freq \\\n",
    "    --out /shared/sandbox/vidus_lambda_comparison/temp/801\n",
    "\n",
    "/shared/bioinformatics/software/third_party/plink-1.90-beta-4.10-x86_64/plink \\\n",
    "    --noweb \\\n",
    "    --memory 3000 \\\n",
    "    --bfile /shared/sandbox/vidus_lambda_comparison/intersect/phs000634_lung_cancer_ea \\\n",
    "    --freq \\\n",
    "    --out /shared/sandbox/vidus_lambda_comparison/temp/634\n",
    "\n",
    "\n",
    "\n",
    "\n",
    "\n",
    "eight01 <- read.table(\"801_maf\", header=TRUE)\n",
    "six34 <- read.table(\"634_maf\", header=TRUE)\n",
    "\n",
    "\n",
    "\n",
    "\n",
    "\n"
   ]
  }
 ],
 "metadata": {
  "kernelspec": {
   "display_name": "R",
   "language": "R",
   "name": "ir"
  },
  "language_info": {
   "codemirror_mode": "r",
   "file_extension": ".r",
   "mimetype": "text/x-r-source",
   "name": "R",
   "pygments_lexer": "r",
   "version": "3.4.2"
  },
  "toc": {
   "nav_menu": {},
   "number_sections": true,
   "sideBar": true,
   "skip_h1_title": false,
   "toc_cell": false,
   "toc_position": {
    "height": "913px",
    "left": "0px",
    "right": "1315.28px",
    "top": "107px",
    "width": "212px"
   },
   "toc_section_display": "block",
   "toc_window_display": true
  }
 },
 "nbformat": 4,
 "nbformat_minor": 2
}
