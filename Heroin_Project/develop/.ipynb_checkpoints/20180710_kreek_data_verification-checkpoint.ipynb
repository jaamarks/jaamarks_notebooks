{
 "cells": [
  {
   "cell_type": "markdown",
   "metadata": {},
   "source": [
    "#  Kreek phenotype data verification\n",
    "The Kreek data was not matching what was reported in the web page on dbGaP. The problem was when trying to read the data in with R and command line tools. What I ended up doing was using python to resolve these issue. Now the data agree."
   ]
  },
  {
   "cell_type": "code",
   "execution_count": 90,
   "metadata": {},
   "outputs": [],
   "source": [
    "import os\n",
    "import pandas as pd\n",
    "\n",
    "os.getcwd()\n",
    "data1 = pd.read_csv(\"C://Users//jmarks//Desktop/Projects/Heroin/ngc/kreek/phenotype/phs001109.v1.pht005445.v1.p1.Addictive_Diseases_Subject.MULTI.txt\", \n",
    "                    sep=\"\\t\", header=9)\n",
    "data2 = pd.read_csv(\"C://Users//jmarks//Desktop/Projects/Heroin/ngc/kreek/phenotype/phs001109.v1.pht005447.v1.p1.c1.Addictive_Diseases_Subject_Phenotypes.DS-ADX-IRB-NPU.txt\", \n",
    "                    sep=\"\\t\", header=9)\n",
    "data1.iloc[0,0]\n",
    "#data1\n",
    "\n",
    "#pd.DataFrame.to_csv(data1, \"C://Users//jmarks//Desktop/Projects/Heroin/ngc/kreek/phenotype/affection_table\", sep=\"\\t\", index=False)\n",
    "pd.DataFrame.to_csv(data2, \"C://Users//jmarks//Desktop/Projects/Heroin/ngc/kreek/phenotype/phenotype_table\",\n",
    "                    sep=\"\\t\", index=False, na_rep=\"NULL\")"
   ]
  },
  {
   "cell_type": "code",
   "execution_count": 71,
   "metadata": {},
   "outputs": [
    {
     "name": "stdout",
     "output_type": "stream",
     "text": [
      "Case/Control count for AFFECTION_STATUS\n",
      "1    864\n",
      "2    797\n",
      "dtype: int64\n",
      "\n",
      "Case/Control count for opioid_dep\n",
      "0    797\n",
      "1    864\n",
      "dtype: int64\n",
      "\n",
      "Case/Control count for opioid_abuse\n",
      "0    972\n",
      "1    689\n",
      "dtype: int64\n",
      "\n",
      "Case/Control count for cocaine_dep\n",
      "0    994\n",
      "1    667\n",
      "dtype: int64\n",
      "\n",
      "Case/Control count for cocaine_abuse\n",
      "0    1067\n",
      "1     594\n",
      "dtype: int64\n"
     ]
    }
   ],
   "source": [
    "count=0\n",
    "for i in range(len(data1)):\n",
    "    if data1.iloc[i,5] == 1:\n",
    "        count += 1\n",
    "#data1.iloc[0:4]\n",
    "print(\"Case/Control count for AFFECTION_STATUS\")\n",
    "print(pd.value_counts(data1['AFFECTION_STATUS'].values, sort=False))\n",
    "print()\n",
    "print(\"Case/Control count for opioid_dep\")\n",
    "print(pd.value_counts(data2['opioid_dep'].values, sort=False))\n",
    "print()\n",
    "print(\"Case/Control count for opioid_abuse\")\n",
    "print(pd.value_counts(data2['opioid_abuse'].values, sort=False))\n",
    "print()\n",
    "print(\"Case/Control count for cocaine_dep\")\n",
    "print(pd.value_counts(data2['cocaine_dep'].values, sort=False))\n",
    "print()\n",
    "print(\"Case/Control count for cocaine_abuse\")\n",
    "print(pd.value_counts(data2['cocaine_abuse'].values, sort=False))"
   ]
  },
  {
   "cell_type": "code",
   "execution_count": 89,
   "metadata": {},
   "outputs": [
    {
     "name": "stdout",
     "output_type": "stream",
     "text": [
      "['opioid_dep', 'cocaine_dep', 'alcohol_dep', 'nicotine_dep', 'cannabis_dep', 'stimulant_dep', 'sedative_dep', 'other_dep', 'opioid_abuse', 'cocaine_abuse', 'alcohol_abuse', 'cannabis_abuse', 'stimulant_abuse', 'sedative_abuse', 'other_abuse']\n",
      "\n",
      "Case/Control count for opioid_dep\n",
      "0    797\n",
      "1    864\n",
      "dtype: int64\n",
      "\n",
      "Case/Control count for cocaine_dep\n",
      "0    994\n",
      "1    667\n",
      "dtype: int64\n",
      "\n",
      "Case/Control count for alcohol_dep\n",
      "0    1146\n",
      "1     515\n",
      "dtype: int64\n",
      "\n",
      "Case/Control count for nicotine_dep\n",
      "Series([], dtype: int64)\n",
      "\n",
      "Case/Control count for cannabis_dep\n",
      "Series([], dtype: int64)\n",
      "\n",
      "Case/Control count for stimulant_dep\n",
      "Series([], dtype: int64)\n",
      "\n",
      "Case/Control count for sedative_dep\n",
      "Series([], dtype: int64)\n",
      "\n",
      "Case/Control count for other_dep\n",
      "Series([], dtype: int64)\n",
      "\n",
      "Case/Control count for opioid_abuse\n",
      "0    972\n",
      "1    689\n",
      "dtype: int64\n",
      "\n",
      "Case/Control count for cocaine_abuse\n",
      "0    1067\n",
      "1     594\n",
      "dtype: int64\n",
      "\n",
      "Case/Control count for alcohol_abuse\n",
      "0    1095\n",
      "1     566\n",
      "dtype: int64\n",
      "\n",
      "Case/Control count for cannabis_abuse\n",
      "Series([], dtype: int64)\n",
      "\n",
      "Case/Control count for stimulant_abuse\n",
      "Series([], dtype: int64)\n",
      "\n",
      "Case/Control count for sedative_abuse\n",
      "Series([], dtype: int64)\n",
      "\n",
      "Case/Control count for other_abuse\n",
      "Series([], dtype: int64)\n"
     ]
    }
   ],
   "source": [
    "myList = list(data2.columns.values)\n",
    "myList.remove(\"dbGaP_Subject_ID\")\n",
    "myList.remove( \"SUBJECT_ID\")\n",
    "myList.remove( \"age\")\n",
    "myList.remove( \"sex\")\n",
    "myList.remove( \"family_race\")\n",
    "myList.remove( \"dxsys\")\n",
    "myList.remove( \"twin\")\n",
    "myList.remove( \"deceased\")\n",
    "print(myList)\n",
    "#for item in data2.columns.values:\n",
    "for item in myList:\n",
    "    print()\n",
    "    print(\"Case/Control count for \" + item)\n",
    "    print(pd.value_counts(data2[item].values, sort=False))"
   ]
  }
 ],
 "metadata": {
  "kernelspec": {
   "display_name": "Python 3",
   "language": "python",
   "name": "python3"
  },
  "language_info": {
   "codemirror_mode": {
    "name": "ipython",
    "version": 3
   },
   "file_extension": ".py",
   "mimetype": "text/x-python",
   "name": "python",
   "nbconvert_exporter": "python",
   "pygments_lexer": "ipython3",
   "version": "3.6.4"
  },
  "toc": {
   "nav_menu": {},
   "number_sections": true,
   "sideBar": true,
   "skip_h1_title": false,
   "toc_cell": false,
   "toc_position": {},
   "toc_section_display": "block",
   "toc_window_display": false
  }
 },
 "nbformat": 4,
 "nbformat_minor": 2
}
