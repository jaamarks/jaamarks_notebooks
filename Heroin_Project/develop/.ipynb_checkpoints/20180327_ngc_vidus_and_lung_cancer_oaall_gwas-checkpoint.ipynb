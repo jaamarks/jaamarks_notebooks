{
 "cells": [
  {
   "cell_type": "markdown",
   "metadata": {},
   "source": [
    "# NGC VIDUS and Lung Cancer in Never Smokers OAall GWAS\n",
    "__Author__: Jesse Marks\n",
    "\n",
    "This document logs the steps taken to perform an opioid addiction GWAS on [Vancouver Injection Drug Users Study (VIDUS)](http://www.cfenet.ubc.ca/research/vidus) subjects versus all controls of [Lung Cancer in Never Smokers Study](https://www.ncbi.nlm.nih.gov/projects/gap/cgi-bin/study.cgi?study_id=phs000634.v1.p1). The processing performed on these data follow the Heroin NIDA Genetics Consortium (NGC) Protocol. For any general or specific questions regarding this protocol, speak with Eric O. Johnson."
   ]
  },
  {
   "cell_type": "markdown",
   "metadata": {},
   "source": [
    "## Software and tools\n",
    "The software and tools used for processing these data are\n",
    "\n",
    "* [Amazon Elastic Compute Cloud(EC2)](https://aws.amazon.com/ec2/)\n",
    "* GNU bash version 4.1.2\n",
    "* [PLINK v1.9 beta 3.45](https://www.cog-genomics.org/plink/)\n",
    "* [EIGENSOFT v4.2](https://www.hsph.harvard.edu/alkes-price/software/)\n",
    "* [R v3.2.3](https://www.r-project.org/)\n",
    "* R packages: MASS, moments\n",
    "* [RVtests](https://render.githubusercontent.com/view/ipynb?commit=3bb8e661ad8b75af027ed2748133452ec251aaed&enc_url=68747470733a2f2f7261772e67697468756275736572636f6e74656e742e636f6d2f525449496e7465726e6174696f6e616c2f6271756163685f6e6f7465626f6f6b732f336262386536363161643862373561663032376564323734383133333435326563323531616165642f6865726f696e5f70726f6a6563742f646576656c6f702f32303138303131305f756873325f756873335f666f755f677761732e6970796e623f746f6b656e3d41664d79344e373237626e764465456f46535a697770346b48776246577964706b7335617570495a7741253344253344&nwo=RTIInternational%2Fbquach_notebooks&path=heroin_project%2Fdevelop%2F20180110_uhs2_uhs3_fou_gwas.ipynb&repository_id=105297875&repository_type=Repository)"
   ]
  },
  {
   "cell_type": "markdown",
   "metadata": {},
   "source": [
    "## Variable information\n",
    "__OAall Variables__:\n",
    "\n",
    "`Opiodcase` <br>\n",
    "* Identified opioid addiction cases at those with heroin or prescription use >= 2-3 times/week in last six months (= 4 | = 5 in heroin or prescript use – inj or non). Generated 181 cases. Considered possible additional cases from uses of one or more of these at a level of once/week (=3). However, only 12 noncases by the above criteria have FOU in the same range as the cases, all but 1 of which could get the in-range score from a combination of lower frequency use across the multiple variables and still not be using 2-3 times/week. Decided to stick with the 181 as a cleaner case set.\n",
    "\n",
    "`Female (sex)` <br>\n",
    "* 0 is male, 1 is female \n",
    "\n",
    "`Ageatint` <br>\n",
    "* Age at time of interview.\n",
    "\n",
    "__Note__: Eric Johnson supplied the phenotype data for these VIDUS cases."
   ]
  },
  {
   "cell_type": "markdown",
   "metadata": {},
   "source": [
    "## Retrieve OAall data\n",
    "The data have already been filtered to \n",
    "* Remove subjects with opioidcase == 0\n",
    "* Remove duplicate subjects by keeping only the more recent data record\n",
    "* Remove subjects with previously reported sex discrepancy\n",
    "\n",
    "These data are located on EC2 at `/shared/sandbox/ngc_vidus-lung_cancer_fou/phenotype/GWAS-Cohort-n938_passed_g_qc_only_opioid_FOU.csv`\n",
    "\n",
    "* There are 181 subjects in this CASES file.\n",
    "\n",
    "* I need to filter the original `.fam` file based off of the IDs in the FOU phenotype data.\n"
   ]
  },
  {
   "cell_type": "code",
   "execution_count": 1,
   "metadata": {},
   "outputs": [
    {
     "ename": "ERROR",
     "evalue": "Error in parse(text = x, srcfile = src): <text>:2:43: unexpected ','\n1: ### EC2 console ###\n2: mkdir -p /shared/s3/ngc_vidus_oaall/{vidus,\n                                             ^\n",
     "output_type": "error",
     "traceback": [
      "Error in parse(text = x, srcfile = src): <text>:2:43: unexpected ','\n1: ### EC2 console ###\n2: mkdir -p /shared/s3/ngc_vidus_oaall/{vidus,\n                                             ^\nTraceback:\n"
     ]
    }
   ],
   "source": [
    "### EC2 console ###\n",
    "mkdir -p /shared/s3/ngc_vidus_oaall/{vidus,lung_cancer}\n",
    "cd /shared/s3/ngc_vidus_oaall\n",
    "\n",
    "cp -r ../../sandbox/ngc_vidus-lung_cancer_oaall_case_control/VIDUS/* vidus/\n",
    "cp -r ../../sandbox/ngc_vidus-lung_cancer_oaall_case_control/lung_cancer/* lung_cancer\n",
    "\n",
    "cd /shared/s3/ngc_vidus_oaall/vidus/phenotype\n",
    "\n",
    "# R console on EC2 #\n",
    "pheno <- read.table(\"GWAS-Cohort-n938_passed_g_qc_only_opioid_CASES.csv\", header=T, sep=',')\n",
    "\n",
    "pheno_size <- length(pheno[,1])\n",
    "id_list <- c()\n",
    "\n",
    "for (i in 1:pheno_size){\n",
    "    tmp_num <- sprintf(\"-%04d\", pheno[i,1]) \n",
    "    id_list <- append(id_list, tmp_num)\n",
    "}\n",
    "\n",
    "write(id_list, \"id_list.txt\", sep=\"\\n\")\n",
    "quit()"
   ]
  },
  {
   "cell_type": "code",
   "execution_count": null,
   "metadata": {
    "collapsed": true
   },
   "outputs": [],
   "source": [
    "### EC2 console ###\n",
    "cd /shared/s3/ngc_vidus_oaall/phenotype\n",
    "\n",
    "# filter the fam file based on the subjects that are in the FOU phenotype data\n",
    "# this is needed to create the PLINK filtered datasets to run eigenstrat\n",
    "grep -f id_list.txt ../genotype/original/final/ea_chr_all.fam > filtered.fam\n",
    "awk '{print $1,$2 }' filtered.fam > ea_subject_ids.keep\n",
    "\n",
    "# get covariates\n",
    "awk 'BEGIN{FS=\",\"; OFS=\"\\t\"} {print $1,$2,$17,$20}' GWAS-Cohort-n938_passed_g_qc_only_opioid_CASES.csv > ea_CASES.data\n",
    "head ea_CASES.data\n",
    "\"\"\"\n",
    "gwas_code       female  ageatint        opioidcase\n",
    "3       0       55      1\n",
    "5       0       40      1\n",
    "6       1       35      1\n",
    "11      1       56      1\n",
    "13      0       35      1\n",
    "17      0       34      1\n",
    "18      0       39      1\n",
    "19      0       29      1\n",
    "20      0       37      1\n",
    "\"\"\"\n",
    "\n",
    "# map sex code and gwas_code\n",
    "awk 'NR==FNR{ map[NR]=$1;next } FNR==1{print $0} FNR>=2 {$1=map[FNR-1];print $0}' id_list.txt ea_CASES.data > ea_cases_map.data\n",
    "awk '{ if( $2==0) { $2=2} {print $0}} ' ea_cases_map.data > temp && mv temp ea_cases_map.data && rm temp\n",
    "\n",
    "# make sure there are no missing data for sex, FOU, or age\n",
    "# Note that the phenotype data were already filtered. If they\n",
    "# had not been, we would check for this. I did a visual inspection for \n",
    "# a sanity check though."
   ]
  },
  {
   "cell_type": "code",
   "execution_count": 12,
   "metadata": {},
   "outputs": [
    {
     "data": {
      "text/plain": [
       "\n",
       "  1   2 \n",
       " 56 125 "
      ]
     },
     "metadata": {},
     "output_type": "display_data"
    }
   ],
   "source": [
    "### R console ###\n",
    "library(MASS)\n",
    "options(repr.plot.width=10, repr.plot.height=17)\n",
    "# note that I copied over the phenotype data to my local machine to produce the plots\n",
    "setwd('C:/Users/jmarks/Desktop/VIDUS/oaall/pheno/')\n",
    "\n",
    "ea.cases.data <- read.table(\"ea_cases_map.data\", header = T, colClasses = c(\"character\", rep(\"integer\",  3)) )\n",
    "table(ea.cases.data$female)"
   ]
  },
  {
   "cell_type": "markdown",
   "metadata": {},
   "source": [
    "## Combine cases and controls\n",
    "\n",
    "### Filter vidus subjects based off case status"
   ]
  },
  {
   "cell_type": "code",
   "execution_count": null,
   "metadata": {
    "collapsed": true
   },
   "outputs": [],
   "source": [
    "### EC2 console ###\n",
    "mkdir /shared/s3/ngc_vidus_oaall/vidus/genotype/original/final/filtered\n",
    "cd /shared/s3/ngc_vidus_oaall/vidus/\n",
    "\n",
    "# Remove vidus subjects by phenotype criteria (case status)\n",
    "ancestry=\"ea\"\n",
    "/shared/bioinformatics/software/third_party/plink-1.90-beta-4.10-x86_64/plink \\\n",
    "    --noweb \\\n",
    "    --memory 2048 \\\n",
    "    --bfile genotype/original/final/ea_chr_all \\\n",
    "    --keep phenotype/ea_subject_ids.keep \\\n",
    "    --make-bed \\\n",
    "    --out genotype/original/final/filtered/${ancestry}_cases"
   ]
  },
  {
   "cell_type": "markdown",
   "metadata": {},
   "source": [
    "### Merge test\n",
    "\n",
    "To determine whether any of the SNPs are flipped between studies, a merge is attempted. If any multi-allelic variants are identified (suggestive of flipping) then an error is raised. In this case, position duplicates were identified, but these will be removed during the SNP intersection step."
   ]
  },
  {
   "cell_type": "code",
   "execution_count": null,
   "metadata": {
    "collapsed": true
   },
   "outputs": [],
   "source": [
    "# EC2 command line #\n",
    "mkdir -p /shared/s3/ngc_vidus_oaall/{intersect,merged}/merge_test\n",
    "cd /shared/s3/ngc_vidus_oaall/merged\n",
    "\n",
    "# Attempt data set merge\n",
    "ancestry=\"ea\"\n",
    "/shared/bioinformatics/software/third_party/plink-1.90-beta-4.10-x86_64/plink \\\n",
    "    --noweb \\\n",
    "    --bfile ../lung_cancer/genotype/original/final/ea_chr_all \\\n",
    "    --bmerge ../vidus/genotype/original/final/filtered/${ancestry}_cases \\\n",
    "    --make-bed \\\n",
    "    --out merge_test/merged_unflipped\n",
    "'Error: 25 variants with 3+ alleles present.'\n",
    "\n",
    "ancestry=\"ea\"\n",
    "studies=(lung_cancer vidus) # array of study names\n",
    "\n",
    "# Get first intersection set\n",
    "file1=/shared/s3/ngc_vidus_oaall/${studies[0]}/genotype/original/final/${ancestry}_chr_all.bim\n",
    "file2=/shared/s3/ngc_vidus_oaall/${studies[1]}/genotype/original/final/filtered/${ancestry}_cases.bim\n",
    "echo -e \"\\nCalculating intersection between ${file1} and ${file2}...\\n\"\n",
    "comm -12 <(cut -f 2,2 $file1 | sort -u) <(cut -f 2,2 $file2 | sort -u) \\\n",
    "    > ../intersect/${ancestry}_variant_intersection.txt\n",
    "\n",
    "wc -l ../intersect/ea_variant_intersection.txt\n",
    "'628804 intersect/ea_variant_intersection.txt'\n",
    "\n",
    "cd ../\n",
    "# Make new PLINK binary file set for lung_cancer\n",
    "study=\"lung_cancer\"\n",
    "/shared/bioinformatics/software/third_party/plink-1.90-beta-4.10-x86_64/plink \\\n",
    "    --noweb \\\n",
    "    --bfile /shared/s3/ngc_vidus_oaall/${study}/genotype/original/final/${ancestry}_chr_all \\\n",
    "    --extract intersect/${ancestry}_variant_intersection.txt \\\n",
    "    --exclude merge_test/merged_unflipped-merge.missnp \\\n",
    "    --make-bed \\\n",
    "    --out intersect/${study}_${ancestry}\n",
    "'--extract: 628804 variants remaining.\n",
    "--exclude: 628779 variants remaining.'\n",
    "\n",
    "\n",
    "study=\"vidus\"\n",
    "# Make new PLINK binary file set for vidus\n",
    "/shared/bioinformatics/software/third_party/plink-1.90-beta-4.10-x86_64/plink \\\n",
    "    --noweb \\\n",
    "    --bfile /shared/s3/ngc_vidus_oaall/${study}/genotype/original/final/filtered/${ancestry}_cases \\\n",
    "    --extract intersect/${ancestry}_variant_intersection.txt \\\n",
    "    --exclude merge_test/merged_unflipped-merge.missnp \\\n",
    "    --make-bed \\\n",
    "    --out intersect/${study}_${ancestry}\n",
    "\n",
    "\n",
    "'--extract: 628804 variants remaining.\n",
    "--exclude: 628779 variants remaining.'"
   ]
  },
  {
   "cell_type": "markdown",
   "metadata": {},
   "source": [
    "### Second pass merge\n",
    "To ensure data set compatipatibility, a second pass merge is executed."
   ]
  },
  {
   "cell_type": "code",
   "execution_count": null,
   "metadata": {
    "collapsed": true
   },
   "outputs": [],
   "source": [
    "# EC2 command line #\n",
    "cd /shared/s3/ngc_vidus_oaall/\n",
    "\n",
    "# Re-attempt data set merge\n",
    "ancestry=\"ea\"\n",
    "/shared/bioinformatics/software/third_party/plink-1.90-beta-4.10-x86_64/plink \\\n",
    "    --noweb \\\n",
    "    --bfile intersect/lung_cancer_ea \\\n",
    "    --bmerge intersect/vidus_ea \\\n",
    "    --make-bed \\\n",
    "    --out merge_test/merged_intersect\n",
    "\n",
    "# Clean-up\n",
    "rm -r merge_test"
   ]
  },
  {
   "cell_type": "markdown",
   "metadata": {},
   "source": [
    "No errors after this 2nd pass merge"
   ]
  },
  {
   "cell_type": "markdown",
   "metadata": {},
   "source": [
    "## Assign Cases and Controls"
   ]
  },
  {
   "cell_type": "code",
   "execution_count": 13,
   "metadata": {},
   "outputs": [
    {
     "ename": "ERROR",
     "evalue": "Error in parse(text = x, srcfile = src): <text>:11:5: unexpected string constant\n10: # Modify FAM file to include case/control status\n11: awk '{ $6=1; print $0 }'\n        ^\n",
     "output_type": "error",
     "traceback": [
      "Error in parse(text = x, srcfile = src): <text>:11:5: unexpected string constant\n10: # Modify FAM file to include case/control status\n11: awk '{ $6=1; print $0 }'\n        ^\nTraceback:\n"
     ]
    }
   ],
   "source": [
    "# EC2 command line #\n",
    "cd /shared/s3/ngc_vidus_oaall/\n",
    "\n",
    "# assign case or control status in fam file (1=control 2=case)\n",
    "\n",
    "ancestry=\"ea\"\n",
    "study1=lung_cancer\n",
    "study2=vidus\n",
    "\n",
    "# Modify FAM file to include case/control status\n",
    "awk '{ $6=1; print $0 }' intersect/${study1}_${ancestry}.fam \\\n",
    "    > intersect/${study1}_${ancestry}_control.fam\n",
    "awk '{ $6=2; print $0 }' intersect/${study2}_${ancestry}.fam \\\n",
    "    > intersect/${study2}_${ancestry}_case.fam"
   ]
  },
  {
   "cell_type": "markdown",
   "metadata": {},
   "source": [
    "## EIGENSTRAT\n",
    "To obtain principal component covariates to use in the GWAS statistical model, EIGENSTRAT is run on LD-pruned observed genotypes for each ancestry group. Usually a GRCh37 plus strand check is implemented, as well as a monomorphic SNP filter and discordant allele flip. Since this was already done for data in preparation for haplotype phasing, the haplotype phasing input PLINK files will be used. Note: In addition to these aforementioned data processing steps, ambiguous SNPs identified by reference panel frequency differences in the discordant allele checks were also removed prior to phasing.\n",
    "\n",
    "### PLINK file set merge and MAF filter\n",
    "* Combine the PLINK file sets to form a cases+controls PLINK fileset"
   ]
  },
  {
   "cell_type": "code",
   "execution_count": null,
   "metadata": {
    "collapsed": true
   },
   "outputs": [],
   "source": [
    "### EC2 console ###\n",
    "mkdir /shared/s3/ngc_vidus_oaall/eigenstrat\n",
    "cd /shared/s3/ngc_vidus_oaall/\n",
    "\n",
    "ancestry=\"ea\"\n",
    "study1=lung_cancer\n",
    "study2=vidus\n",
    "\n",
    "# Create temporary file sets\n",
    "/shared/bioinformatics/software/third_party/plink-1.90-beta-4.10-x86_64/plink \\\n",
    "    --noweb \\\n",
    "    --fam intersect/${study1}_${ancestry}_control.fam \\\n",
    "    --bim intersect/${study1}_${ancestry}.bim \\\n",
    "    --bed intersect/${study1}_${ancestry}.bed \\\n",
    "    --make-bed \\\n",
    "    --out eigenstrat/${study1}_${ancestry}.tmp\n",
    "/shared/bioinformatics/software/third_party/plink-1.90-beta-4.10-x86_64/plink \\\n",
    "    --noweb \\\n",
    "    --fam intersect/${study2}_${ancestry}_case.fam \\\n",
    "    --bim intersect/${study2}_${ancestry}.bim \\\n",
    "    --bed intersect/${study2}_${ancestry}.bed \\\n",
    "    --make-bed \\\n",
    "    --out eigenstrat/${study2}_${ancestry}.tmp\n",
    "\n",
    "# Merge file sets\n",
    "/shared/bioinformatics/software/third_party/plink-1.90-beta-4.10-x86_64/plink \\\n",
    "    --noweb \\\n",
    "    --bfile eigenstrat/${study1}_${ancestry}.tmp \\\n",
    "    --bmerge eigenstrat/${study2}_${ancestry}.tmp \\\n",
    "    --allow-no-sex \\\n",
    "    --make-bed \\\n",
    "    --out eigenstrat/${study1}_vs_${study2}_${ancestry}_merged.tmp\n",
    "\n",
    "# MAF > 0.01\n",
    "/shared/bioinformatics/software/third_party/plink-1.90-beta-4.10-x86_64/plink \\\n",
    "    --noweb \\\n",
    "    --bfile eigenstrat/${study1}_vs_${study2}_${ancestry}_merged.tmp \\\n",
    "    --maf 0.01 \\\n",
    "    --make-bed \\\n",
    "    --out eigenstrat/${study1}_vs_${study2}_${ancestry}\n",
    "\n",
    "# Clean up\n",
    "rm eigenstrat/*.tmp.*"
   ]
  },
  {
   "cell_type": "markdown",
   "metadata": {},
   "source": [
    "### Remove high-LD region variants"
   ]
  },
  {
   "cell_type": "code",
   "execution_count": null,
   "metadata": {
    "collapsed": true
   },
   "outputs": [],
   "source": [
    "### EC2 console ###\n",
    "cd /shared/s3/ngc_vidus_oaall/eigenstrat\n",
    "\n",
    "ancestry=\"ea\"\n",
    "study1=lung_cancer\n",
    "study2=vidus\n",
    "\n",
    "# Generate list of variants in known high-LD regions\n",
    "perl -lane 'if (($F[0]==5 && $F[3] >= 43964243 && $F[3] <= 51464243) || ($F[0]==6 && $F[3] >= 24892021 && $F[3] <= 33392022) || ($F[0]==8 && $F[3] >= 7962590 && $F[3] <= 11962591) || ($F[0]==11 && $F[3] >= 45043424 && $F[3] <= 57243424)) { print $F[1].\"\\n\"; }' ${study1}_vs_${study2}_${ancestry}.bim \\\n",
    "    > ${study1}_vs_${study2}_${ancestry}.high_ld_regions.remove\n",
    "            \n",
    "# Remove SNPs in known high-LD regions\n",
    "/shared/bioinformatics/software/third_party/plink-1.90-beta-4.10-x86_64/plink \\\n",
    "    --noweb \\\n",
    "    --bfile ${study1}_vs_${study2}_${ancestry} \\\n",
    "    --exclude ${study1}_vs_${study2}_${ancestry}.high_ld_regions.remove \\\n",
    "    --make-bed \\\n",
    "    --out ${study1}_vs_${study2}_${ancestry}_high_ld_regions_removed"
   ]
  },
  {
   "cell_type": "markdown",
   "metadata": {},
   "source": [
    "### Linkage disequilibrium pruning\n",
    "Linkage disequilibrium (LD) pruning eliminates a large degree of redundancy in the data and reduces the influence of chromosomal artifacts. The objective of LD pruning is to select a subset of variants based off of LD such that the variants in the subset are indepdendent. This filtering will not carry forward to the final processed results, but this step improves the quality of EIGENSTRAT calculations. Consequently, the LD pruned data will be used as input for those calculations.\n",
    "\n",
    "LD pruning is implemented using [PLINK --indep-pairwise](https://www.cog-genomics.org/plink/1.9/ld#indep)."
   ]
  },
  {
   "cell_type": "code",
   "execution_count": null,
   "metadata": {
    "collapsed": true
   },
   "outputs": [],
   "source": [
    "### EC2 console ###\n",
    "cd /shared/s3/ngc_vidus_oaall/eigenstrat\n",
    "\n",
    "ancestry=\"ea\"\n",
    "study1=lung_cancer\n",
    "study2=vidus\n",
    "\n",
    "for chr in {1..23}; do\n",
    "    /shared/bioinformatics/software/scripts/qsub_job.sh \\\n",
    "        --job_name ${study1}_${study2}_${ancestry}_${chr}_ld_prune \\\n",
    "        --script_prefix ${study1}_vs_${study2}_${ancestry}_${chr}_ld_prune \\\n",
    "        --mem 3 \\\n",
    "        --nslots 1 \\\n",
    "        --program /shared/bioinformatics/software/third_party/plink-1.90-beta-4.10-x86_64/plink \\\n",
    "            --noweb \\\n",
    "            --memory 3000 \\\n",
    "            --bfile ${study1}_vs_${study2}_${ancestry}_high_ld_regions_removed \\\n",
    "            --indep-pairwise 1500 150 0.2 \\\n",
    "            --chr ${chr} \\\n",
    "            --out ${study1}_vs_${study2}_${ancestry}_chr${chr}_ld_pruned\n",
    "done\n",
    "\n",
    "# Merge *prune.in files\n",
    "ancestry=\"ea\"\n",
    "study1=phs000634_lung_cancer\n",
    "study2=phs000801_lymphoma\n",
    "cat ${study1}_vs_${study2}_${ancestry}_chr*_ld_pruned.prune.in > ${study1}_vs_${study2}_${ancestry}_chr_all_ld_pruned.prune.in\n",
    "\n",
    "# Create new PLINK filesets with only lD pruned variants\n",
    "/shared/bioinformatics/software/third_party/plink-1.90-beta-4.10-x86_64/plink \\\n",
    "    --noweb \\\n",
    "    --bfile ${study1}_vs_${study2}_${ancestry} \\\n",
    "    --extract ${study1}_vs_${study2}_${ancestry}_chr_all_ld_pruned.prune.in \\\n",
    "    --make-bed \\\n",
    "    --out ${study1}_vs_${study2}_${ancestry}_ld_pruned\n",
    "\n",
    "# Clean up\n",
    "rm *${ancestry}*ld_pruned.{prune.in,prune.out,log}\n",
    "rm *${ancestry}*ld_prune*qsub*\n",
    "rm *${ancestry}*high_ld_regions*\n",
    "rm *${ancestry}*chr23_ld_pruned.hh"
   ]
  },
  {
   "cell_type": "code",
   "execution_count": null,
   "metadata": {
    "collapsed": true
   },
   "outputs": [],
   "source": []
  },
  {
   "cell_type": "code",
   "execution_count": null,
   "metadata": {
    "collapsed": true
   },
   "outputs": [],
   "source": []
  },
  {
   "cell_type": "code",
   "execution_count": null,
   "metadata": {
    "collapsed": true
   },
   "outputs": [],
   "source": []
  },
  {
   "cell_type": "code",
   "execution_count": null,
   "metadata": {
    "collapsed": true
   },
   "outputs": [],
   "source": []
  },
  {
   "cell_type": "code",
   "execution_count": null,
   "metadata": {
    "collapsed": true
   },
   "outputs": [],
   "source": []
  },
  {
   "cell_type": "code",
   "execution_count": null,
   "metadata": {
    "collapsed": true
   },
   "outputs": [],
   "source": [
    "\n",
    "\n",
    "\n",
    "\n",
    "\n",
    "\n",
    "\n",
    "\n",
    "\n",
    "\n",
    "\n",
    "\n",
    "\n",
    "\n",
    "\n",
    "\n",
    "\n",
    "\n",
    "\n",
    "\n",
    "\n",
    "\n",
    "\n",
    "\n",
    "\n",
    "\n",
    "\n",
    "\n",
    "\n",
    "\n",
    "\n",
    "\n",
    "\n",
    "\n",
    "\n",
    "\n",
    "\n",
    "\n",
    "\n",
    "\n",
    "\n",
    "\n",
    "\n"
   ]
  }
 ],
 "metadata": {
  "kernelspec": {
   "display_name": "R",
   "language": "R",
   "name": "ir"
  },
  "language_info": {
   "codemirror_mode": "r",
   "file_extension": ".r",
   "mimetype": "text/x-r-source",
   "name": "R",
   "pygments_lexer": "r",
   "version": "3.4.1"
  },
  "toc": {
   "nav_menu": {},
   "number_sections": true,
   "sideBar": true,
   "skip_h1_title": false,
   "toc_cell": false,
   "toc_position": {},
   "toc_section_display": "block",
   "toc_window_display": false
  }
 },
 "nbformat": 4,
 "nbformat_minor": 2
}
