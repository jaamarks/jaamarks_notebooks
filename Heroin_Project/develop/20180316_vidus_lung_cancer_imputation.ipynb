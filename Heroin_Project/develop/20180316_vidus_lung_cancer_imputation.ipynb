{
 "cells": [
  {
   "cell_type": "markdown",
   "metadata": {},
   "source": [
    "# VIDUS & Lung Cancer in Never-Smokers Phasing + Imputation\n",
    "__Author__: Jesse Marks\n",
    "\n",
    "\n",
    "This document logs the steps taken to perform phasing and imputation on the merged case-control datasets of [VIDUS](http://www.cfenet.ubc.ca/research/vidus) & [Lung Cancer in Never Smokers](https://www.ncbi.nlm.nih.gov/projects/gap/cgi-bin/study.cgi?study_id=phs000634.v1.p1). The starting point for this analysis is after quality control of observed genotypes and after checking for compatibility of population control dbGaP data sets. The quality controlled genotypes are oriented on the GRCh37 plus strand. Based on findings from [Johnson et al.](https://link.springer.com/article/10.1007/s00439-013-1266-7), the intersection set of variants for will be used for imputation. \n",
    "\n",
    "## Software and tools\n",
    "The software and tools used for porcessing these data are\n",
    "* [Michigan Imputation Server](https://imputationserver.sph.umich.edu/index.html) (MIS)\n",
    "* [Amazon Web Services (AWS) - Cloud Computing Services](https://aws.amazon.com/)\n",
    "    * Linux AMI\n",
    "* [PLINK v1.90 beta 4.10](https://www.cog-genomics.org/plink/)\n",
    "* [bgzip](http://www.htslib.org/doc/tabix.html)\n",
    "* [BCF Tools](http://www.htslib.org/doc/bcftools.html)\n",
    "* Windows 10 with [Cygwin](https://cygwin.com/) installed\n",
    "* GNU bash version 4.2.46\n",
    "\n",
    "## Data retrieval and organization\n",
    "The temporary working directory for this analysis will be: `/shared/sandbox/ngc_vidus-lung_cancer_oaall_case_control` <br>\n",
    "on `EC2`. PLINK binary filesets will be obtained from AWS S3 storage."
   ]
  },
  {
   "cell_type": "markdown",
   "metadata": {},
   "source": [
    "## Data processing\n",
    "### GRCh37 strand and allele discordance check"
   ]
  },
  {
   "cell_type": "code",
   "execution_count": null,
   "metadata": {
    "collapsed": true
   },
   "outputs": [],
   "source": [
    "# EC2 command line #\n",
    "cd /shared/sandbox/ngc_vidus-lung_cancer_oaall_case_control\n",
    "\n",
    "mkdir 1000g\n",
    "ancestry=\"ea\"\n",
    "for study in {lung_cancer,VIDUS}; do\n",
    "    mkdir ${study}/genotype/strand_check\n",
    "    /shared/bioinformatics/software/third_party/plink-1.90-beta-4.10-x86_64/plink \\\n",
    "        --noweb \\\n",
    "        --memory 2048 \\\n",
    "        --bfile ${study}/genotype/final/${ancestry}_chr_all \\\n",
    "        --freq \\\n",
    "        --out ${study}/genotype/strand_check/${ancestry}_chr_all\n",
    "done\n",
    "\n",
    "# Get list of variants from all studies\n",
    "cat {lung_cancer,VIDUS}/genotype/final/${ancestry}_chr_all.bim | \\\n",
    "        perl -lane 'if (($F[0]+0) <= 23) { print $F[1]; }' | \\\n",
    "        sort -u > ${ancestry}_chr_all_sorted_variants.txt\n",
    "\n",
    "# Calculate autosome MAFs for 1000G EUR, \n",
    "# Note: there are no chrX data for the Lung Cancer cohort\n",
    "pop=\"EUR\"\n",
    "ancestry=\"ea\"\n",
    "for chr in {1..22}; do\n",
    "    /shared/bioinformatics/software/scripts/qsub_job.sh \\\n",
    "        --job_name ${pop}_${chr} \\\n",
    "        --script_prefix ${pop}_chr${chr}.maf \\\n",
    "        --mem 8 \\\n",
    "        --nslots 1 \\\n",
    "        --priority 0 \\\n",
    "        --program /shared/bioinformatics/software/perl/stats/calculate_maf_from_impute2_hap_file.pl \\\n",
    "            --hap /shared/data/ref_panels/1000G/2014.10/1000GP_Phase3_chr${chr}.hap.gz\\\n",
    "            --legend /shared/data/ref_panels/1000G/2014.10/1000GP_Phase3_chr${chr}.legend.gz \\\n",
    "            --sample /shared/data/ref_panels/1000G/2014.10/1000GP_Phase3.sample \\\n",
    "            --chr ${chr} \\\n",
    "            --out 1000g/${pop}_chr${chr}.maf \\\n",
    "            --extract ${ancestry}_chr_all_sorted_variants.txt \\\n",
    "            --keep_groups ${pop}\n",
    "done\n",
    "\n",
    "# Merge per chr MAFs for EUR\n",
    "pop=\"EUR\"\n",
    "head -n 1 1000g/${pop}_chr1.maf > 1000g/${pop}_chr_all.maf\n",
    "tail -q -n +2 1000g/${pop}_chr{1..22}.maf \\\n",
    "    >> 1000g/${pop}_chr_all.maf\n",
    "\n",
    "# Run discordance checks for EA group\n",
    "pop=\"EUR\"\n",
    "ancestry=\"ea\"\n",
    "for study in {lung_cancer,VIDUS}; do\n",
    "    /shared/bioinformatics/software/scripts/qsub_job.sh \\\n",
    "        --job_name ${ancestry}_${study}_crosscheck \\\n",
    "        --script_prefix ${study}/genotype/strand_check/${ancestry}_allele_discordance_check \\\n",
    "        --mem 6 \\\n",
    "        --priority 0 \\\n",
    "        --program \"Rscript /shared/bioinformatics/software/R/check_study_data_against_1000G.R\n",
    "            --study_bim_file ${study}/genotype/final/${ancestry}_chr_all.bim\n",
    "            --study_frq_file ${study}/genotype/strand_check/${ancestry}_chr_all.frq\n",
    "            --ref_maf_file 1000g/${pop}_chr_all.maf\n",
    "            --out_prefix ${study}/genotype/strand_check/${ancestry}_allele_discordance\"\n",
    "done"
   ]
  },
  {
   "cell_type": "markdown",
   "metadata": {},
   "source": [
    "### Resolving allele discordances\n",
    "The allele discordances will be resolved by\n",
    "* Flipping allele discordances that are fixed by flipping\n",
    "* Removing SNPs with discordant names\n",
    "* Removing SNPs with discordant positions\n",
    "* Removing allele discordances that are not resolved by flipping\n",
    "* Removing alleles with large deviations from the reference population allele frequencies\n",
    "\n",
    "Given that the allele discordance check was done using a union set of SNPs across all studies within an ancestry group, some of the SNPs logged as discordant for a given study may not actually be in the study. Fortunately, if they are not in a given study they will not interfere with the filtering procedures."
   ]
  },
  {
   "cell_type": "code",
   "execution_count": null,
   "metadata": {
    "collapsed": true
   },
   "outputs": [],
   "source": [
    "# EC2 command line #\n",
    "cd /shared/sandbox/ngc_vidus-lung_cancer_oaall_case_control\n",
    "\n",
    "ancestry=\"ea\"\n",
    "\n",
    "for study in {VIDUS,lung_cancer}; do\n",
    "    echo -e \"\\n===============\\nProcessing ${study}\\n\"\n",
    "    # Create remove list\n",
    "    echo \"Making remove list\"\n",
    "    cat <(cut -f2,2 ${study}/genotype/strand_check/${ancestry}_allele_discordance.discordant_alleles_not_fixed_by_strand_flip | tail -n +2) \\\n",
    "        <(cut -f2,2 ${study}/genotype/strand_check/${ancestry}_allele_discordance.at_cg_snps_freq_diff_gt_0.2 | tail -n +2) \\\n",
    "        <(cut -f2,2 ${study}/genotype/strand_check/${ancestry}_allele_discordance.discordant_names | tail -n +2) \\\n",
    "        <(cut -f2,2 ${study}/genotype/strand_check/${ancestry}_allele_discordance.discordant_positions | tail -n +2) \\\n",
    "        <(cut -f2,2 ${study}/genotype/strand_check/${ancestry}_allele_discordance.discordant_alleles_polymorphic_in_study_not_fixed_by_strand_flip | tail -n +2) | \\\n",
    "        sort -u > ${study}/genotype/${ancestry}_snps.remove\n",
    "\n",
    "    # Create flip list\n",
    "    echo \"Making flip list\"\n",
    "    comm -23 <(cut -f2,2 ${study}/genotype/strand_check/${ancestry}_allele_discordance.discordant_alleles | tail -n +2 | sort -u) \\\n",
    "        <(cut -f2,2 ${study}/genotype/strand_check/${ancestry}_allele_discordance.discordant_alleles_not_fixed_by_strand_flip | tail -n +2 | sort -u) \\\n",
    "        > ${study}/genotype/${ancestry}_snps.flip\n",
    "\n",
    "    # Apply filters\n",
    "    /shared/bioinformatics/software/third_party/plink-1.90-beta-4.10-x86_64/plink \\\n",
    "        --noweb \\\n",
    "        --memory 2048 \\\n",
    "        --bfile ${study}/genotype/final/${ancestry}_chr_all \\\n",
    "        --exclude ${study}/genotype/${ancestry}_snps.remove \\\n",
    "        --flip ${study}/genotype/${ancestry}_snps.flip \\\n",
    "        --make-bed \\\n",
    "        --out ${study}/genotype/final/${ancestry}_filtered\n",
    "done"
   ]
  },
  {
   "cell_type": "markdown",
   "metadata": {},
   "source": [
    "### Remove monomorphic variants\n",
    "Monomorphic variants prevent MIS from accepting the genotype data. In this case, an arbitrarily small MAF is set that is smaller than the lower bound for these data."
   ]
  },
  {
   "cell_type": "code",
   "execution_count": null,
   "metadata": {
    "collapsed": true
   },
   "outputs": [],
   "source": [
    "# EC2 command line #\n",
    "cd /shared/sandbox/ngc_vidus-lung_cancer_oaall_case_control\n",
    "\n",
    "ancestry=\"ea\"\n",
    "\n",
    "for study in {VIDUS,lung_cancer}; do\n",
    "    # Apply filters\n",
    "    /shared/bioinformatics/software/third_party/plink-1.90-beta-4.10-x86_64/plink \\\n",
    "        --noweb \\\n",
    "        --memory 2048 \\\n",
    "        --bfile ${study}/genotype/final/${ancestry}_filtered \\\n",
    "        --maf 0.000001 \\\n",
    "        --make-bed \\\n",
    "        --out ${study}/genotype/final/${ancestry}_filtered_mono\n",
    "done"
   ]
  },
  {
   "cell_type": "markdown",
   "metadata": {},
   "source": [
    "### SNP intersection"
   ]
  },
  {
   "cell_type": "code",
   "execution_count": null,
   "metadata": {
    "collapsed": true
   },
   "outputs": [],
   "source": [
    "# EC2 command line #\n",
    "cd /shared/sandbox/ngc_vidus-lung_cancer_oaall_case_control\n",
    "\n",
    "mkdir intersect\n",
    "studies=(VIDUS lung_cancer) # array of study names\n",
    "\n",
    "# Get intersection set\n",
    "    file1=${studies[0]}/genotype/final/${ancestry}_filtered_mono.bim\n",
    "    file2=${studies[1]}/genotype/final/${ancestry}_filtered_mono.bim\n",
    "    echo -e \"\\nCalculating intersection between ${file1} and ${file2}...\\n\"\n",
    "    comm -12 <(cut -f 2,2 $file1 | sort -u) <(cut -f 2,2 $file2 | sort -u) \\\n",
    "        > intersect/${ancestry}_variant_intersection.txt\n",
    "\n",
    "# Make new PLINK binary file sets\n",
    "    for study in ${studies[@]}; do\n",
    "        /shared/bioinformatics/software/third_party/plink-1.90-beta-4.10-x86_64/plink \\\n",
    "            --noweb \\\n",
    "            --bfile ${study}/genotype/final/${ancestry}_filtered_mono \\\n",
    "            --extract intersect/${ancestry}_variant_intersection.txt \\\n",
    "            --make-bed \\\n",
    "            --out intersect/${study}_${ancestry}_filtered_snp_intersection\n",
    "    done"
   ]
  },
  {
   "cell_type": "markdown",
   "metadata": {},
   "source": [
    "### Merge test\n",
    "As a final check to confirm that our data sets are all compatible, a PLINK file set merge is conducted. If any issues persist then an error will be raised."
   ]
  },
  {
   "cell_type": "code",
   "execution_count": null,
   "metadata": {
    "collapsed": true
   },
   "outputs": [],
   "source": [
    "# EC2 command line #\n",
    "cd /shared/sandbox/ngc_vidus-lung_cancer_oaall_case_control/intersect\n",
    "\n",
    "# Merge file sets\n",
    "echo -e \"\\n\\n======== ${ancestry} ========\\n\\n\"\n",
    "/shared/bioinformatics/software/third_party/plink-1.90-beta-4.10-x86_64/plink \\\n",
    "    --noweb \\\n",
    "    --memory 4000 \\\n",
    "    --bfile VIDUS_${ancestry}_filtered_snp_intersection \\\n",
    "    --bmerge lung_cancer_${ancestry}_filtered_snp_intersection \\\n",
    "    --make-bed \\\n",
    "    --out ${ancestry}_studies_merged"
   ]
  },
  {
   "cell_type": "markdown",
   "metadata": {},
   "source": [
    "## Imputation preparation for Michigan Imputation Server\n",
    "Visit the [MIS Getting Started Webpage](https://imputationserver.sph.umich.edu/start.html#!pages/help) for more information about the preparing the data for upload to MIS.\n",
    "### VCF File Conversion"
   ]
  },
  {
   "cell_type": "code",
   "execution_count": null,
   "metadata": {
    "collapsed": true
   },
   "outputs": [],
   "source": [
    "# EC2 command line #\n",
    "cd /shared/sandbox/ngc_vidus-lung_cancer_oaall_case_control\n",
    "\n",
    "mkdir phase_prep\n",
    "ancestry=\"ea\"\n",
    "\n",
    "# Split by chr and remove any individuals with missing data for whole chr\n",
    "# note, there is no chrX in this case\n",
    "ancestry=\"ea\"\n",
    "for chr in {1..22}; do\n",
    "    # Remove SNPs\n",
    "    /shared/bioinformatics/software/third_party/plink-1.90-beta-4.10-x86_64/plink \\\n",
    "        --noweb \\\n",
    "        --memory 4000 \\\n",
    "        --bfile intersect/${ancestry}_studies_merged \\\n",
    "        --chr ${chr} \\\n",
    "        --mind 0.99 \\\n",
    "        --make-bed \\\n",
    "        --out phase_prep/${ancestry}_chr${chr}_for_phasing \n",
    "done > chr_splitting.log"
   ]
  },
  {
   "cell_type": "markdown",
   "metadata": {},
   "source": [
    "__Note__: No subjects were removed."
   ]
  },
  {
   "cell_type": "code",
   "execution_count": null,
   "metadata": {
    "collapsed": true
   },
   "outputs": [],
   "source": [
    "# EC2 command line #\n",
    "cd /shared/sandbox/ngc_vidus-lung_cancer_oaall_case_control/phase_prep\n",
    "mkdir ea\n",
    "\n",
    "ancestry=\"ea\"\n",
    "for chr in {1..22}; do\n",
    "    /shared/bioinformatics/software/third_party/plink-1.90-beta-4.10-x86_64/plink \\\n",
    "        --noweb \\\n",
    "        --memory 5000 \\\n",
    "        --bfile ${ancestry}_chr${chr}_for_phasing \\\n",
    "        --recode vcf bgz \\\n",
    "        --out ${ancestry}/${ancestry}_chr${chr}_final\n",
    "done"
   ]
  },
  {
   "cell_type": "markdown",
   "metadata": {},
   "source": [
    "## Upload to Michigan Imputation Server (MIS)\n",
    "Transfer the \\*.vcf files to local machine (per chromosome) and then upload to MIS.\n",
    "\n",
    "### Uploading parameters\n",
    "These are the parameters that were selected on MIS.\n",
    "\n",
    "__Name__: chr1-22\n",
    "\n",
    "__Reference Panel__ 1000G Phase 3 v5\n",
    "\n",
    "__Input Files__ File Upload <br>\n",
    "\n",
    "* Select Files - select VCF files that were downloaded to local machine from cloud. <br>\n",
    "\n",
    "__Phasing__: ShapeIT v2.r790 (unphased) \n",
    "\n",
    "__Population__: EUR\n",
    "\n",
    "__Mode__: Quality Control & Imputation\n",
    "\n",
    "* I will not attempt to re-identify or contact research participants.\n",
    "* I will report any inadvertent data release, security breach or other data management incident of which I become aware."
   ]
  },
  {
   "cell_type": "code",
   "execution_count": null,
   "metadata": {
    "collapsed": true
   },
   "outputs": [],
   "source": []
  },
  {
   "cell_type": "code",
   "execution_count": null,
   "metadata": {
    "collapsed": true
   },
   "outputs": [],
   "source": []
  },
  {
   "cell_type": "code",
   "execution_count": null,
   "metadata": {
    "collapsed": true
   },
   "outputs": [],
   "source": []
  },
  {
   "cell_type": "code",
   "execution_count": null,
   "metadata": {
    "collapsed": true
   },
   "outputs": [],
   "source": []
  },
  {
   "cell_type": "code",
   "execution_count": null,
   "metadata": {
    "collapsed": true
   },
   "outputs": [],
   "source": []
  },
  {
   "cell_type": "code",
   "execution_count": null,
   "metadata": {
    "collapsed": true
   },
   "outputs": [],
   "source": []
  },
  {
   "cell_type": "code",
   "execution_count": null,
   "metadata": {
    "collapsed": true
   },
   "outputs": [],
   "source": []
  }
 ],
 "metadata": {
  "kernelspec": {
   "display_name": "R",
   "language": "R",
   "name": "ir"
  },
  "language_info": {
   "codemirror_mode": "r",
   "file_extension": ".r",
   "mimetype": "text/x-r-source",
   "name": "R",
   "pygments_lexer": "r",
   "version": "3.4.2"
  },
  "toc": {
   "nav_menu": {},
   "number_sections": true,
   "sideBar": true,
   "skip_h1_title": false,
   "toc_cell": false,
   "toc_position": {},
   "toc_section_display": "block",
   "toc_window_display": false
  }
 },
 "nbformat": 4,
 "nbformat_minor": 2
}
