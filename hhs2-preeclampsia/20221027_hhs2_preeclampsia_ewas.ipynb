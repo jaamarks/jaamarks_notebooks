{
 "cells": [
  {
   "cell_type": "markdown",
   "id": "9db2ea81-dcca-45c2-9230-c2c391799d06",
   "metadata": {},
   "source": [
    "# HHS2 Preeclampsia\n",
    "\n",
    "```\n",
    "Hi Jesse,\n",
    " \n",
    "I have uploaded all the DNAm and phenotype data to S3 at s3://rti-hhs2-preeclampsia/data/post_qc/. You may need to merge the two phenotype files “s3://rti-hhs2-preeclampsia/data/post_qc/phenotype/phenotype_with_cell_type_estimate_svs.csv” and “s3://rti-hhs2-preeclampsia/data/post_qc/phenotype/phenotype.txt” using the PublicID and the prefix of Sample_ID.\n",
    " \n",
    "Please note that they want to run the EWAS using m-values.  I have created M values separated by chromosome there. Here is the list of analyses we want to run:\n",
    " \n",
    "DNAm (M-values) ~ pss1 + cell type proportions + SVs (1-7) ; using linear regression\n",
    "CaseControll ~ DNAm (M-values) + cell type proportions + SVs (1-7) ; using logistic regression\n",
    " \n",
    "If time allows, then run\n",
    "DNAm (M-values) ~ pss1 + cell type proportions + SVs (1-7)  + crace + crace*pss1; using linear regression\n",
    "CaseControll ~ DNAm (M-values) + cell type proportions + SVs (1-7) + crace + crace*DNAm; using logistic regression\n",
    "``` "
   ]
  },
  {
   "cell_type": "markdown",
   "id": "cd66230c-6500-45b2-a33d-db304a3975e9",
   "metadata": {},
   "source": [
    "## Phenotype\n",
    "See what data looks like.\n",
    "merge using the PublicID and the prefix of Sample_ID"
   ]
  },
  {
   "cell_type": "code",
   "execution_count": null,
   "id": "641e904c-f87b-48c5-a6eb-b0aef7610b75",
   "metadata": {},
   "outputs": [],
   "source": [
    "cd ~/hhs2-preclampsia/\n",
    "aws s3 cp s3://rti-hhs2-preeclampsia/data/post_qc/phenotype/phenotype.txt .\n",
    "head phenotype.txt\n",
    "#CaseControl     crace   TechRep PTB     PE      SB      pOUTCOME_CA     GAwksCA PEgHTN  SGA_alex        GA      pss1    CHOL    TRIG    hsCRP   HDL     iliac_v1       bmi_v1  sbp_v1  dbp_v1  hip_v1  PublicID\n",
    "#Case    1               0       1       0       1       37      2       3       11      11      169     162     0.37    76      85      20.741998016    114   70       93      16242I\n",
    "#Case    1               0       1       0       1       37      3       1       9       10      172     75      0.13    77      96      19.77010294     110   74       96.5    05181N\n",
    "\n",
    "aws s3 cp s3://rti-hhs2-preeclampsia/data/post_qc/phenotype/phenotype_with_cell_type_estimate_svs.csv .\n",
    "head phenotype_with_cell_type_estimate_svs.csv\n",
    "#Sample_Name.1,Sample_Name,Sample_Plate,Sample_Well,Basename,Pool_ID,Sentrix_ID,Sentrix_Position,Object_Identifier,Deepwell_Plate,Deepwell_Position,Deepwell_Row,Deepwell_Column,DNA_Source,Extraction_Method,Chip_Location,Population,MTA,SIF_Sex,Experiment_Name,Sample_ID,Sample_Type,filenames,Bcell,CD4T,CD8T,Mono,Neu,NK,PC1,PC2,PC3,PC4,PC5,PC6,PC7\n",
    "#205707910081_R01C01,WG3006827-DNAA09-P2415-S1181_14960L-1-3544094585,WG0001431-MSA4,A09,205707910081_R01C01,NA,205707910081,R01C01,S1181_14960L-1-3544094585,WG3006827-DNA,A09,A,9,Whole Blood,qiasymphony,205707910081_R01C01,White,Pittsburgh,FALSE,G3516,14960L-1-3544094585,invest,205707910081_R01C01,0.0294848684187368,0.123319636942128,0.102935063193843,0.081028837478977,0.6483524902393,-1.77428424755414e-20,8360.47340131729,2449.94076744983,5840.93421832148,1409.06242614306,-3629.14933347429,70.7285336161499,-121.561348873756\n",
    "\n",
    "\n"
   ]
  },
  {
   "cell_type": "code",
   "execution_count": null,
   "id": "293f3299-60e7-415e-8b91-bea0825160ad",
   "metadata": {},
   "outputs": [],
   "source": [
    "# merge the phenotype data\n",
    "\n",
    "pheno0 <- read.csv(\"phenotype.txt\", sep=\"\\t\")\n",
    "pheno1 <- read.csv(\"phenotype_with_cell_type_estimate_svs.csv\")\n",
    "\n",
    "dim(pheno0) # 396  22\n",
    "dim(pheno1) # 395  36\n",
    "\n",
    "head(pheno0[[\"PublicID\"]])\n",
    "#[1] \"16242I\" \"05181N\" \"06454W\" \"15773F\" \"05661W\" \"02659B\"\n",
    "\n",
    "head(pheno1[[\"Sample_ID\"]])\n",
    "#[1] \"14960L-1-3544094585\" \"01456U-1-3544094586\" \"06285T-1-3544094587\" \"16453S-1-3544094588\" \"05038S-1-3544094589\" \"09578M-1-3544094590\"\n",
    "\n",
    "split_id <- strsplit( pheno1[[\"Sample_ID\"]], split=\"-\") # split Sample_ID up by -\n",
    "pubid <- sapply(split_id,c)[1,] # grab just first part to match with PublicID of pheno0 \n",
    "pheno1$PublicID <- pubid # add column to pheno1\n",
    "\n",
    "# merge based off of Public_ID\n",
    "pheno_merged <- merge(pheno0, pheno1, by.x=\"PublicID\", by.y=\"PublicID\")\n",
    "\n",
    "dim(pheno_merged) # 391  58\n",
    "\n",
    "outfile <- \"phenotype_merged_with_cell_type_estimate_svs.tsv\"\n",
    "write.table(pheno_merged, file=outfile, quote=FALSE, row.names=FALSE, sep=\"\\t\")"
   ]
  },
  {
   "cell_type": "code",
   "execution_count": null,
   "id": "73ff451b-bdb3-4660-99cc-a04a3c0cf84f",
   "metadata": {},
   "outputs": [],
   "source": [
    "#upload to S3\n",
    "aws s3 cp phenotype_merged_with_cell_type_estimate_svs.tsv s3://rti-hhs2-preeclampsia/data/post_qc/phenotype/"
   ]
  },
  {
   "cell_type": "markdown",
   "id": "11ae66e3-b299-4021-b7c8-4fce7d5336e1",
   "metadata": {},
   "source": [
    "## Methylation Data\n",
    "See what the data looks like."
   ]
  },
  {
   "cell_type": "code",
   "execution_count": null,
   "id": "46e70c28-35b2-4d03-b82c-c547b318a18d",
   "metadata": {},
   "outputs": [],
   "source": [
    "aws s3 cp s3://rti-hhs2-preeclampsia/data/post_qc/dnam/mVals_chr22.rda .\n",
    "\n",
    "### R\n",
    "load(\"mVals_chr22.rda\")\n",
    "head(m_chr, 1)\n",
    "#           206451050062_R01C01 206451050062_R02C01 206451050062_R03C01\n",
    "#cg10218524          -0.2960794          -0.6274631          -0.1558079"
   ]
  },
  {
   "cell_type": "markdown",
   "id": "36703d27-482c-4324-bfbc-8be55b084b40",
   "metadata": {},
   "source": [
    "# EWAS\n",
    "\n"
   ]
  },
  {
   "cell_type": "code",
   "execution_count": null,
   "id": "57bf9960-94bb-4360-a550-411362134664",
   "metadata": {},
   "outputs": [],
   "source": [
    "main_dir=/home/ubuntu/hhs2-preeclampsia/ewas/biocloud_gwas_workflows/ewas_association_testing\n",
    "\n",
    "cd $main_dir\n",
    "git rev-parse HEAD > git_hash.txt\n",
    "cd ../../\n",
    "zip -r biocloud_gwas_workflows/ewas_association_testing/biocloud_gwas_workflows.zip biocloud_gwas_workflows/ewas_association_testing/*\n",
    "\n",
    "curl -X POST \"http://localhost:8000/api/workflows/v1\" -H \"accept: application/json\" \\\n",
    "    -F \"workflowSource=@${main_dir}/main.wdl\" \\\n",
    "    -F \"workflowInputs=@${main_dir}/inputs.json\" \\\n",
    "    -F \"workflowDependencies=@${main_dir}/biocloud_gwas_workflows.zip\" \\\n",
    "    -F \"workflowOptions=@${main_dir}/cannabis_charge_code.json\"\n",
    "\n",
    "\n",
    "#job=9a3bdb8b-6f9e-402f-9f5c-7d99c444a458 # mod1 failed\n",
    "#job=e49a9157-e6f0-44cd-9695-219d265b9412 # mod1 failed\n",
    "#job=291bda72-8a79-4247-979d-90c4bc409d8b # mod1 failed\n",
    "#job=c0499925-bdab-4329-b9ae-3002e587b4b6  # mod1 failed\n",
    "#job=57fe52ed-6711-450c-97f1-19d562c3f5a7 # mod1\n",
    "job=2fe6fc3f-76a7-411f-83d9-a800cc0be9c3\n",
    "\n",
    "curl -X GET \"http://localhost:8000/api/workflows/v1/${job}/status\" \n"
   ]
  },
  {
   "cell_type": "code",
   "execution_count": null,
   "id": "96bf84ff-9ccd-4999-a127-a886e242a189",
   "metadata": {},
   "outputs": [],
   "source": [
    "pheno_file=phenotype_merged_with_cell_type_estimate_svs.rda\n",
    "#dnam_file=mVals_chr9_noInf.rda\n",
    "dnam_file=mVals_chr9.rda\n",
    "sample_name=Basename\n",
    "test_var=pss1\n",
    "output_basename=test22\n",
    "covariates='Bcell CD4T CD8T Mono Neu NK PC1 PC2 PC3 PC4 PC5 PC6 PC7'\n",
    "Rscript /opt/ewas.R \\\n",
    "    --phenotype-file ${pheno_file} \\\n",
    "    --dnam ${dnam_file} \\\n",
    "    --sample-name ${sample_name} \\\n",
    "    --test-var ${test_var} \\\n",
    "    --covariates \"$covariates\" \\\n",
    "    --output ${output_basename} "
   ]
  }
 ],
 "metadata": {
  "kernelspec": {
   "display_name": "R4.2.1",
   "language": "R",
   "name": "ir"
  },
  "language_info": {
   "codemirror_mode": "r",
   "file_extension": ".r",
   "mimetype": "text/x-r-source",
   "name": "R",
   "pygments_lexer": "r",
   "version": "4.1.3"
  }
 },
 "nbformat": 4,
 "nbformat_minor": 5
}
