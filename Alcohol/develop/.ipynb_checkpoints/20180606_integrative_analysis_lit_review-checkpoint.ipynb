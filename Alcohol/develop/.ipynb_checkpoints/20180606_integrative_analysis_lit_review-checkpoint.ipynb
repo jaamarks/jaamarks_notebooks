{
 "cells": [
  {
   "cell_type": "markdown",
   "metadata": {},
   "source": [
    "# Literature review\n",
    "\n",
    "Here’s the grant section on integrative analyses. Thanks for helping with the literature review to see if there are any recently published papers of relevance.\n",
    "\n",
    "```\n",
    "3.3.4.5 Integrative analyses. Our primary models for testing differential DNAm and RNAexp by AUD will follow the standard approach of analyzing each type individually. Newly developed methods will allow us to leverage the data concurrently to find features that are missed when modeling each data type alone. Integration, a logical yet innovative step forward for the AUD field, has been applied in plant1,2 and mouse3 studies and is emerging in human studies,4 placing our study in the vanguard of applying this approach.\n",
    "\n",
    "We propose to apply Two-Way Orthogonal Partial Least Squares (O2PLS), a multivariate regression method that will model joint variation between DNAm and RNAexp and identify related regulatory components that are associated with AUD but unlikely to be detected in the sequential analysis. We will analyze DNAm and RNAexp by decomposing the data types into three parts:5 (1) joint (systematic variation represented in the integration of data types); (2) orthogonal (unique systematic variation in one data type but not the other); and (3) noise (unsystematic variation). Unlike other integrative methods, O2PLS separates the total variation into joint vs. data type-specific (unique).6 In a study of 466 participants, O2PLS recapitulated signals from sequential analyses of two data types (RNAexp and metabolomics in serum), while also detecting new signals by their joint modeling.4 We will apply O2PLS using the freely available R package in GitHub. We expect that features with strong effect sizes for both DNAm and RNAexp will be detected in the sequential analyses; the integration will enable detection of features with moderate-sized, but related, regulatory effects in the joint part. All nominated regulatory features will be carried forward to Aim 2 and treated as a unit for QTL analyses.\n",
    "```\n",
    "## Key terms\n",
    "**DNAm**- "
   ]
  },
  {
   "cell_type": "markdown",
   "metadata": {},
   "source": [
    "## PubMed\n",
    "Use [pubmedp](https://www.ncbi.nlm.nih.gov/pubmed/) to search for any new literature.\n",
    "\n",
    "Note that I can use the advanced feature to further narrow the search."
   ]
  },
  {
   "cell_type": "code",
   "execution_count": null,
   "metadata": {},
   "outputs": [],
   "source": []
  }
 ],
 "metadata": {
  "kernelspec": {
   "display_name": "R",
   "language": "R",
   "name": "ir"
  },
  "language_info": {
   "codemirror_mode": "r",
   "file_extension": ".r",
   "mimetype": "text/x-r-source",
   "name": "R",
   "pygments_lexer": "r",
   "version": "3.4.3"
  },
  "toc": {
   "nav_menu": {},
   "number_sections": true,
   "sideBar": true,
   "skip_h1_title": false,
   "toc_cell": false,
   "toc_position": {},
   "toc_section_display": "block",
   "toc_window_display": false
  }
 },
 "nbformat": 4,
 "nbformat_minor": 2
}
