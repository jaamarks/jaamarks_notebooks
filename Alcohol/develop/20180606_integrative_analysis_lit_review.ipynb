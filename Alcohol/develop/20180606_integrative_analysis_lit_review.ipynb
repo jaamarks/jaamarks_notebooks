{
 "cells": [
  {
   "cell_type": "markdown",
   "metadata": {},
   "source": [
    "# Literature review\n",
    "Multilevel data integration is becoming a major area of research in systems biology.\n",
    "\n",
    "Here’s the grant section on integrative analyses. Thanks for helping with the literature review to see if there are any recently published papers of relevance.\n",
    "\n",
    "```\n",
    "3.3.4.5 Integrative analyses. Our primary models for testing differential DNAm and RNAexp by AUD will follow the standard approach of analyzing each type individually. Newly developed methods will allow us to leverage the data concurrently to find features that are missed when modeling each data type alone. Integration, a logical yet innovative step forward for the AUD field, has been applied in plant(1,2) and mouse(3) studies and is emerging in human studies,(4) placing our study in the vanguard of applying this approach.\n",
    "\n",
    "We propose to apply Two-Way Orthogonal Partial Least Squares (O2PLS), a multivariate regression method that will model joint variation between DNAm and RNAexp and identify related regulatory components that are associated with AUD but unlikely to be detected in the sequential analysis. We will analyze DNAm and RNAexp by decomposing the data types into three parts:(5) (1) joint (systematic variation represented in the integration of data types); (2) orthogonal (unique systematic variation in one data type but not the other); and (3) noise (unsystematic variation). Unlike other integrative methods, O2PLS separates the total variation into joint vs. data type-specific (unique).6 In a study of 466 participants, O2PLS recapitulated signals from sequential analyses of two data types (RNAexp and metabolomics in serum), while also detecting new signals by their joint modeling.4 We will apply O2PLS using the freely available R package in GitHub. We expect that features with strong effect sizes for both DNAm and RNAexp will be detected in the sequential analyses; the integration will enable detection of features with moderate-sized, but related, regulatory effects in the joint part. All nominated regulatory features will be carried forward to Aim 2 and treated as a unit for QTL analyses.\n",
    "```\n",
    "## Key terms\n",
    "**DNAm**- DNA methylation is the process by which methyl groups are added to the DNA molecule. Methylation can change the activity of a DNA segment without changing the sequence.\n",
    "\n",
    "**RNAexp**- RNA expression\n",
    "\n",
    "**AUD**- [alcohol use disorder](https://www.ncbi.nlm.nih.gov/pmc/articles/PMC5004749/) is a chronic psychiatric illness characterized by harmful drinking patterns leading to negative emotional, physical, and social ramifications.\n",
    "\n",
    "**in the vanguard of**- a group of people leading the way in new developments or ideas\n",
    "\n",
    "**Two-Way Orthogonal Partial Least Squares** -  https://rdrr.io/cran/OmicsPLS/man/OmicsPLS.html\n",
    "\n",
    "**QTL analysis**- [Quantitative Trait Locus (QTL) Analysis](https://www.nature.com/scitable/topicpage/quantitative-trait-locus-qtl-analysis-53904) is a statistical method that links two types of information- phenotypic data and genotypic data- in an attempt to explain the genetic basis of variation in complex traits. It allows researchers in a diversity of fields to link certain complex phenotypes to specific regions of chromosomes. The goal of this process is to identify the action, interaction, number, and precise location of these regions."
   ]
  },
  {
   "cell_type": "markdown",
   "metadata": {},
   "source": [
    "## PubMed\n",
    "Use [pubmedp](https://www.ncbi.nlm.nih.gov/pubmed/) to search for any new literature.\n",
    "\n",
    "Note that I can use the advanced feature to further narrow the search."
   ]
  },
  {
   "cell_type": "markdown",
   "metadata": {},
   "source": [
    "# List of terms searched \n",
    "* (\"2017\"[Date - Create] : \"3000\"[Date - Create]) integrative analysis \n",
    "    - [Time series integrative analysis of RNA-Seq and miRNA expression data reveals key biologic wound healing pathways in keloid-prone individuals.](https://www.ncbi.nlm.nih.gov/pubmed/29870686)\n",
    "\n",
    "* (\"2017\"[Date - Create] : \"3000\"[Date - Create]) integrative analysis methods \n",
    "* (\"2017\"[Date - Create] : \"3000\"[Date - Create]) data integration methods \n",
    "* (\"2017\"[Date - Create] : \"3000\"[Date - Create]) data integration methods genomics \n",
    "* (\"2017\"[Date - Create] : \"3000\"[Date - Create]) omics integration \n",
    "* simultaneous analysis of omics \n",
    "* etc"
   ]
  },
  {
   "cell_type": "markdown",
   "metadata": {},
   "source": [
    "## Disease-Specific Integration of Omics Data to Guide Functional Validation of Genetic Associations.\n",
    "Reducing Associations by Linking Genes And transcriptomic Results (REALGAR), an app that facilitates the design of functional validation studies by integrating cell- and tissue-specific results of diseaserelevant gene expression and other omics studies."
   ]
  },
  {
   "cell_type": "markdown",
   "metadata": {},
   "source": [
    "## A computational framework for complex disease stratification from multiple large-scale datasets.\n"
   ]
  },
  {
   "cell_type": "markdown",
   "metadata": {},
   "source": [
    "## VANTED: A Tool for Integrative Visualization and Analysis of -Omics Data.\n",
    "The method described here gives detailed instructions on the generation of such an integrative visualization of -omics data in the context of networks presented in the Systems Biology Graphical Notation (SBGN) using VANTED; a software tool for systems biology applications"
   ]
  },
  {
   "cell_type": "markdown",
   "metadata": {},
   "source": [
    "## CCA based multi-view feature selection for multi-omics data integration"
   ]
  },
  {
   "cell_type": "markdown",
   "metadata": {},
   "source": [
    "I have seen many papers integrating multiple omics, but no novel methods. There are network approaches as well as statistical methods like the O2PLS. Among the methods that were applied were:\n",
    "\n",
    "\n",
    "\n",
    "* I found no other relevant statistical methods for data integration. There was some literature about new network methods on integrative visualization of -omics data but these approaches support more of an intuitive exploration and interpretation within the functional context.\n",
    "\n",
    "    - see [here](https://link.springer.com/protocol/10.1007/978-1-4939-7411-5_18)"
   ]
  },
  {
   "cell_type": "code",
   "execution_count": null,
   "metadata": {},
   "outputs": [],
   "source": []
  }
 ],
 "metadata": {
  "kernelspec": {
   "display_name": "R",
   "language": "R",
   "name": "ir"
  },
  "language_info": {
   "codemirror_mode": "r",
   "file_extension": ".r",
   "mimetype": "text/x-r-source",
   "name": "R",
   "pygments_lexer": "r",
   "version": "3.4.3"
  },
  "toc": {
   "nav_menu": {},
   "number_sections": true,
   "sideBar": true,
   "skip_h1_title": false,
   "toc_cell": false,
   "toc_position": {},
   "toc_section_display": "block",
   "toc_window_display": false
  }
 },
 "nbformat": 4,
 "nbformat_minor": 2
}
