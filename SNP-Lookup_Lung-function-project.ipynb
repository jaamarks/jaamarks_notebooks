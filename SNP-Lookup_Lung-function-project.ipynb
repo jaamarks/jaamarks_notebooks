{
 "cells": [
  {
   "cell_type": "markdown",
   "metadata": {},
   "source": [
    "# Lung Function Project - SNP lookup\n",
    "Parse two sets of GWAS results --- (1) Forced Vital Capacity and (2) Forced Expiratory volume in 1 second--- to extract the results of the following 2 SNPs: rs11693320 (chr. 2) and rs7795837 (chr. 7). The GWAS results are  from the following website:\n",
    "https://sites.google.com/broadinstitute.org/ukbbgwasresults/home?authuser=0 \n",
    "\n",
    "The downloaded GWAS results are located at the following path:\n",
    "\n",
    "** //rcdcollaboration01.rti.ns/GxG/R21_GxNutrients/PriorGWASresults/UKBiobank **\n",
    " \n",
    "The GWAS results have been zipped (gzip) back. The results are shown in this notebook. Alternatively, the results are in two text files at the path:\n",
    "\n",
    " \n",
    "** //rcdcollaboration01.rti.ns/GxG/R21_GxNutrients/PriorGWASresults/UKBiobank/SNP_finder/test **\n",
    " \n",
    "The two test files are SNP-results-1.txt and SNP-results-2.txt which correspond to Forced Vital Capacity & Forced Expiratory Volume in 1-second, rspectively. "
   ]
  },
  {
   "cell_type": "markdown",
   "metadata": {
    "collapsed": true
   },
   "source": [
    "## Forced Vital Capacity"
   ]
  },
  {
   "cell_type": "code",
   "execution_count": 1,
   "metadata": {},
   "outputs": [
    {
     "data": {
      "text/html": [
       "<div>\n",
       "<style>\n",
       "    .dataframe thead tr:only-child th {\n",
       "        text-align: right;\n",
       "    }\n",
       "\n",
       "    .dataframe thead th {\n",
       "        text-align: left;\n",
       "    }\n",
       "\n",
       "    .dataframe tbody tr th {\n",
       "        vertical-align: top;\n",
       "    }\n",
       "</style>\n",
       "<table border=\"1\" class=\"dataframe\">\n",
       "  <thead>\n",
       "    <tr style=\"text-align: right;\">\n",
       "      <th></th>\n",
       "      <th>variant</th>\n",
       "      <th>rsid</th>\n",
       "      <th>nCompleteSamples</th>\n",
       "      <th>AC</th>\n",
       "      <th>ytx</th>\n",
       "      <th>beta</th>\n",
       "      <th>se</th>\n",
       "      <th>tstat</th>\n",
       "      <th>pval</th>\n",
       "    </tr>\n",
       "  </thead>\n",
       "  <tbody>\n",
       "    <tr>\n",
       "      <th>0</th>\n",
       "      <td>7:33830585:C:T</td>\n",
       "      <td>rs7795837</td>\n",
       "      <td>307638</td>\n",
       "      <td>423813.0</td>\n",
       "      <td>25083.30</td>\n",
       "      <td>0.008146</td>\n",
       "      <td>0.002136</td>\n",
       "      <td>3.813860</td>\n",
       "      <td>0.000137</td>\n",
       "    </tr>\n",
       "    <tr>\n",
       "      <th>1</th>\n",
       "      <td>2:115331870:A:G</td>\n",
       "      <td>rs11693320</td>\n",
       "      <td>307638</td>\n",
       "      <td>119779.0</td>\n",
       "      <td>6842.14</td>\n",
       "      <td>0.002116</td>\n",
       "      <td>0.002516</td>\n",
       "      <td>0.841028</td>\n",
       "      <td>0.400333</td>\n",
       "    </tr>\n",
       "  </tbody>\n",
       "</table>\n",
       "</div>"
      ],
      "text/plain": [
       "           variant        rsid  nCompleteSamples        AC       ytx  \\\n",
       "0   7:33830585:C:T   rs7795837            307638  423813.0  25083.30   \n",
       "1  2:115331870:A:G  rs11693320            307638  119779.0   6842.14   \n",
       "\n",
       "       beta        se     tstat      pval  \n",
       "0  0.008146  0.002136  3.813860  0.000137  \n",
       "1  0.002116  0.002516  0.841028  0.400333  "
      ]
     },
     "execution_count": 1,
     "metadata": {},
     "output_type": "execute_result"
    }
   ],
   "source": [
    "import pandas as pd\n",
    "import os\n",
    "os.chdir(\"//rcdcollaboration01.rti.ns/gxg/R21_GxNutrients/PriorGWASresults/UKBiobank/SNP_finder/test/\")\n",
    "vital_cap = pd.read_csv(\"SNP-results-1.txt\", sep='\\t')\n",
    "vital_cap"
   ]
  },
  {
   "cell_type": "markdown",
   "metadata": {},
   "source": [
    "## Forced Expiratory Volume in 1-second"
   ]
  },
  {
   "cell_type": "code",
   "execution_count": 2,
   "metadata": {},
   "outputs": [
    {
     "data": {
      "text/html": [
       "<div>\n",
       "<style>\n",
       "    .dataframe thead tr:only-child th {\n",
       "        text-align: right;\n",
       "    }\n",
       "\n",
       "    .dataframe thead th {\n",
       "        text-align: left;\n",
       "    }\n",
       "\n",
       "    .dataframe tbody tr th {\n",
       "        vertical-align: top;\n",
       "    }\n",
       "</style>\n",
       "<table border=\"1\" class=\"dataframe\">\n",
       "  <thead>\n",
       "    <tr style=\"text-align: right;\">\n",
       "      <th></th>\n",
       "      <th>variant</th>\n",
       "      <th>rsid</th>\n",
       "      <th>nCompleteSamples</th>\n",
       "      <th>AC</th>\n",
       "      <th>ytx</th>\n",
       "      <th>beta</th>\n",
       "      <th>se</th>\n",
       "      <th>tstat</th>\n",
       "      <th>pval</th>\n",
       "    </tr>\n",
       "  </thead>\n",
       "  <tbody>\n",
       "    <tr>\n",
       "      <th>0</th>\n",
       "      <td>7:33830585:C:T</td>\n",
       "      <td>rs7795837</td>\n",
       "      <td>307638</td>\n",
       "      <td>423813.0</td>\n",
       "      <td>22053.70</td>\n",
       "      <td>0.007288</td>\n",
       "      <td>0.002253</td>\n",
       "      <td>3.235380</td>\n",
       "      <td>0.001215</td>\n",
       "    </tr>\n",
       "    <tr>\n",
       "      <th>1</th>\n",
       "      <td>2:115331870:A:G</td>\n",
       "      <td>rs11693320</td>\n",
       "      <td>307638</td>\n",
       "      <td>119779.0</td>\n",
       "      <td>6025.71</td>\n",
       "      <td>0.002022</td>\n",
       "      <td>0.002654</td>\n",
       "      <td>0.761861</td>\n",
       "      <td>0.446143</td>\n",
       "    </tr>\n",
       "  </tbody>\n",
       "</table>\n",
       "</div>"
      ],
      "text/plain": [
       "           variant        rsid  nCompleteSamples        AC       ytx  \\\n",
       "0   7:33830585:C:T   rs7795837            307638  423813.0  22053.70   \n",
       "1  2:115331870:A:G  rs11693320            307638  119779.0   6025.71   \n",
       "\n",
       "       beta        se     tstat      pval  \n",
       "0  0.007288  0.002253  3.235380  0.001215  \n",
       "1  0.002022  0.002654  0.761861  0.446143  "
      ]
     },
     "execution_count": 2,
     "metadata": {},
     "output_type": "execute_result"
    }
   ],
   "source": [
    "expiratory_vol = pd.read_csv(\"SNP-results-2.txt\", sep='\\t')\n",
    "expiratory_vol"
   ]
  },
  {
   "cell_type": "markdown",
   "metadata": {},
   "source": [
    "# Commands & Protocols"
   ]
  },
  {
   "cell_type": "code",
   "execution_count": null,
   "metadata": {
    "collapsed": true
   },
   "outputs": [],
   "source": [
    "# download Forced vital capacity and Forced expiratory volume in 1-second, respectively\n",
    "cd //rcdcollaboration01.rti.ns/GxG/R21_GxNutrients/PriorGWASresults/UKBiobank\n",
    "wget https://www.dropbox.com/s/5d1x9vwzf3jj2v9/3062.assoc.tsv.gz?dl=0 -O 3062.assoc.tsv.gz\n",
    "wget https://www.dropbox.com/s/ujjmyxwbs0o1wgp/3063.assoc.tsv.gz?dl=0 -O 3063.assoc.tsv.gz\n",
    "\n",
    "#make a copy of the directory that contains the perl script that extracts the SNP results\n",
    "cp /cygdrive/c/Users/jmarks/Desktop/Code/SNP_finder\n",
    "cd SNP_finder\n",
    "\n",
    "# run the following lines in the terminal - results output to a folder called test\n",
    "j=0\n",
    "for i in /cygdrive/c/Users/jmarks/rcdcollaboration01.rti.ns/gxg/R21_GxNutrients/PriorGWASresults/UKBiobank/306{2..3}.assoc.tsv\n",
    "do \n",
    "let j++\n",
    "perl extract_rows.pl \\\n",
    "--source $i \\\n",
    "--id_list SNP_ids.txt \\\n",
    "--out test/SNP-results-$j.txt \\\n",
    "--header 1 \\\n",
    "--id_column 1\n",
    "done"
   ]
  }
 ],
 "metadata": {
  "kernelspec": {
   "display_name": "Python 3",
   "language": "python",
   "name": "python3"
  },
  "language_info": {
   "codemirror_mode": {
    "name": "ipython",
    "version": 3
   },
   "file_extension": ".py",
   "mimetype": "text/x-python",
   "name": "python",
   "nbconvert_exporter": "python",
   "pygments_lexer": "ipython3",
   "version": "3.6.2"
  },
  "toc": {
   "nav_menu": {},
   "number_sections": true,
   "sideBar": true,
   "skip_h1_title": false,
   "toc_cell": false,
   "toc_position": {},
   "toc_section_display": "block",
   "toc_window_display": false
  }
 },
 "nbformat": 4,
 "nbformat_minor": 2
}
