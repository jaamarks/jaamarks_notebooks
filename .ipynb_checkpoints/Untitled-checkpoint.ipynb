{
 "cells": [
  {
   "cell_type": "markdown",
   "id": "8bf07f33-0de3-4ad2-91cb-187ba619d9f5",
   "metadata": {},
   "source": [
    "## LiftOver: hg18-hg19\n",
    "**Author**: Jesse Marks (jmarks@rti.org)<br>\n",
    "**Date**: May 26, 2023<br>\n",
    "\n",
    "Perform a genomic liftover from hg18 to hg19 on the download personality summary statistics using an automated WDL workflow."
   ]
  },
  {
   "cell_type": "markdown",
   "id": "5bbc2696-4e7a-4440-bcf3-60fadacbd0d2",
   "metadata": {},
   "source": [
    "## cross-disorder"
   ]
  },
  {
   "cell_type": "code",
   "execution_count": null,
   "id": "7f41b321-4957-43bf-b645-8e1e15ee2041",
   "metadata": {},
   "outputs": [],
   "source": [
    "# download raw sumstats\n",
    "aws s3 cp s3://rti-shared/gwas_publicly_available_sumstats/cross_disorder_gwas_pgc2013_lancet/raw/pgc.cross.full.2013-03.zip .\n",
    "unzip pgc.cross.full.2013-03.zip\n",
    "gzip pgc.cross.full.2013-03.txt\n",
    "\n",
    "# clone gwas_workflows (which contains the liftover workflow)\n",
    "git clone --recurse-submodules https://github.com/RTIInternational/biocloud_gwas_workflows\n",
    "\n",
    "# zip dependencies\n",
    "zip --exclude=*var/* \\\n",
    "    --exclude=*.git/* \\\n",
    "    --recurse-paths \\\n",
    "    biocloud_gwas_workflows.zip \\\n",
    "    biocloud_gwas_workflows/\n",
    "\n",
    "# execute workflow locally\n",
    "java -jar /home/ubuntu/bin/cromwell/cromwell-84.jar run /home/ubuntu/biocloud_gwas_workflows/liftover_genomic_annotations/main.wdl \\\n",
    "  -i /home/ubuntu/biocloud_gwas_workflows/liftover_genomic_annotations/input.json \\\n",
    "  -p /home/ubuntu/biocloud_gwas_workflows.zip\n",
    "\n",
    "# upload results to s3\n",
    "gzip pgc.cross.full.2013-03.hg19.txt\n",
    "aws s3 cp pgc.cross.full.2013-03.hg19.txt.gz s3://rti-shared/gwas_publicly_available_sumstats/cross_disorder_gwas_pgc2013_lancet/processed/"
   ]
  }
 ],
 "metadata": {
  "kernelspec": {
   "display_name": "Python 3 (ipykernel)",
   "language": "python",
   "name": "python3"
  },
  "language_info": {
   "codemirror_mode": {
    "name": "ipython",
    "version": 3
   },
   "file_extension": ".py",
   "mimetype": "text/x-python",
   "name": "python",
   "nbconvert_exporter": "python",
   "pygments_lexer": "ipython3",
   "version": "3.9.16"
  }
 },
 "nbformat": 4,
 "nbformat_minor": 5
}
