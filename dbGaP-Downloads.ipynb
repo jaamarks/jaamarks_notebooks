{
 "cells": [
  {
   "cell_type": "markdown",
   "metadata": {},
   "source": [
    "# Procedures for downloading data from dbGaP and moving to MIDAS"
   ]
  },
  {
   "cell_type": "markdown",
   "metadata": {},
   "source": [
    "Directions for direct connection to MIDAS without a password (ssh no password) can be \n",
    "found at the link: http://www.linuxproblem.org/art_9.html\n",
    "\n",
    "**Note:** The three additional changes at the end of the page do need to be incorporated.\n"
   ]
  },
  {
   "cell_type": "markdown",
   "metadata": {},
   "source": [
    "### phs000021_schiz\n",
    "GAIN: Genome-Wide Association Study of Schizophrenia (phs000021.v3.p2)\n",
    "\n",
    "https://www.ncbi.nlm.nih.gov/projects/gap/cgi-bin/study.cgi?study_id=phs000021.v3.p2"
   ]
  },
  {
   "cell_type": "code",
   "execution_count": 1,
   "metadata": {
    "scrolled": true
   },
   "outputs": [
    {
     "ename": "SyntaxError",
     "evalue": "invalid syntax (<ipython-input-1-4f3d006a8d0c>, line 4)",
     "output_type": "error",
     "traceback": [
      "\u001b[1;36m  File \u001b[1;32m\"<ipython-input-1-4f3d006a8d0c>\"\u001b[1;36m, line \u001b[1;32m4\u001b[0m\n\u001b[1;33m    cd /cygdrive/c/Users/jmarks/ncbi/dbGaP-2556/\u001b[0m\n\u001b[1;37m                                                ^\u001b[0m\n\u001b[1;31mSyntaxError\u001b[0m\u001b[1;31m:\u001b[0m invalid syntax\n"
     ]
    }
   ],
   "source": [
    "## Local machine\n",
    "\n",
    "# Decrypt (must be executed within project dir) \n",
    "cd /cygdrive/c/Users/jmarks/ncbi/dbGaP-2556/\n",
    "../../Desktop/sratoolkit/sratoolkit.2.8.2-1-win64/bin/vdb-decrypt.exe -v 58513\n",
    "\n",
    "\n",
    "cd  /cygdrive/c/Users/jmarks/ncbi/dbGaP-2556/58513/GAIN/Schizophrenia/phs000021v3/p2\n",
    "\n",
    "# upload phenotype data to MIDAS\n",
    "scp phs* jmarks@rtplhpc01.rti.ns:/share/nas04/bioinformatics_group/data/amazon_s3/ \\\n",
    "    studies/phs000021_schiz/phenotype/unprocessed\n",
    "\n",
    "# upload genotype data to MIDAS\n",
    "scp -r phg000013v1 jmarks@rtplhpc01.rti.ns:/share/nas04/bioinformatics_group/ \\\n",
    "    data/amazon_s3/studies/phs000021_schiz/genotype/original/unprocessed\n",
    "    \n",
    "# Upload study (meta) files to MIDAS\n",
    "scp {manifest_phs000021.GAIN_Schizophrenia.v3.p2.c1.GRU.pdf \n",
    "Release_Notes.phs000021.Schizophrenia.v3.p2.MULTI.pdf \n",
    "Study_Report.phs000021.GAIN_Schizophrenia.v3.p2.MULTI.pdf}\n",
    "jmarks@rtplhpc01.rti.ns:/share/nas04/bioinformatics_group/data/amazon_s3/studies/gwas-schiz/meta\n",
    "\n",
    "    \n",
    "## MIDAS\n",
    "\n",
    "# genotype data \n",
    "cd /share/nas04/bioinformatics_group/data/amazon_s3/studies/phs000021_schiz/genotype/original\n",
    "cp unprocessed/phg000013v1/* processing/\n",
    "cd processing/\n",
    "\n",
    "# This file is simply a compressed version of the same file in here\n",
    "rm genotype-calls.Affymetrix6.v1.p1.MULTI.marker-info.tar.gz\n",
    "\n",
    "# decompressing\n",
    "for file in *.tar; do tar -xvf $file; done\n",
    "tar -xvzf genotype-calls.Affymetrix6.v1.p1.MULTI.marker-info.tar.gz \n",
    "rm *.tar\n",
    "rm *.gz\n",
    "#for file in *; do echo \"mv $i $(echo $i|perl -pi -e s/phg0*nia.//g)\";done\n",
    "\n",
    "\n",
    "# phenotype data \n",
    "cd /share/nas04/bioinformatics_group/data/amazon_s3/studies/phs000021_schiz/phenotype\n",
    "cp unprocessed/* processing/\n",
    "cd processing/\n",
    "# renaming \n",
    "for i in *; do mv $i $(echo $i|perl -pi -e s/phs0*p2.//g)\n",
    "for i in *GAIN*; do mv $i $(echo $i|perl -pi -e s/.*GAIN_//g); done\n",
    "\n",
    "# unzip then remove tar files\n",
    "for file in *txt.gz; do gunzip $file; done\n",
    "for file in *tar.gz; do tar -xvzf $file; done\n",
    "for file in *tar.gz; do rm $file; done"
   ]
  },
  {
   "cell_type": "markdown",
   "metadata": {},
   "source": [
    "### phs000101_sclerosis\n",
    "Genome-wide genotyping in amyotrophic lateral sclerosis and neurologically normal controls: first stage analysis and public release of data (phs000101.v4.p1)\n",
    "\n",
    "https://www.ncbi.nlm.nih.gov/projects/gap/cgi-bin/study.cgi?study_id=phs000101.v4.p1"
   ]
  },
  {
   "cell_type": "code",
   "execution_count": null,
   "metadata": {
    "collapsed": true
   },
   "outputs": [],
   "source": [
    "## local machine ##\n",
    "\n",
    "\n",
    "## MIDAS ##\n",
    "\n",
    "\n",
    "# renaming phenotype files    \n",
    "for i in *; do mv $i $(echo $i|perl -pi -e s/phs000101.v4.pht00.+ALS_//g); done\n",
    "\n",
    "\n",
    "cd /share/nas04/bioinformatics_group/data/amazon_s3/studies/ \\\n",
    "phs000101_sclerosis/genotype/original\n",
    "\n",
    "# untar & rename genotype data\n",
    "cp unprocessed/GenotypeFiles/* processing/\n",
    "cd processing/\n",
    "\n"
   ]
  },
  {
   "cell_type": "markdown",
   "metadata": {},
   "source": [
    "### phs000127_irish-amy\n",
    "Study of Irish Amyotrophic Lateral Sclerosis (SIALS) (phs000127.v2.p1)\n",
    "\n",
    "https://www.ncbi.nlm.nih.gov/projects/gap/cgi-bin/study.cgi?study_id=phs000127.v2.p1"
   ]
  },
  {
   "cell_type": "code",
   "execution_count": null,
   "metadata": {
    "collapsed": true
   },
   "outputs": [],
   "source": [
    "## local maching ##\n",
    "\n",
    "# download from dbGaP to local maching at\n",
    "# /cygdrive/c/Users/jmarks/ncbi/dbGaP-2556\n",
    "cd /cygdrive/c/Users/jmarks/ncbi/dbGaP-2556/\n",
    "\n",
    "# decrypt in this directory\n",
    " ../../Desktop/sratoolkit/sratoolkit.2.8.2-1-win64/bin/vdb-decrypt.exe -v 58527\n",
    "    \n",
    "# Check for successful decryption\n",
    "if [ $(find 58527/ -name *ncbi_enc -print | wc -l) = 0 ]; then echo \"Success!\"; else echo \"Failed!\"; fi\n",
    "\n",
    "# Create directory structure on MIDAS\n",
    "ssh jmarks@rtplhpc01.rti.ns \"mkdir -p /share/nas04/bioinformatics_group/data/amazon_s3/studies/phs000127_irish-amy/\\\n",
    "{genotype,phenotype,meta}/\"\n",
    "ssh jmarks@rtplhpc01.rti.ns \"mkdir /share/nas04/bioinformatics_group/data/amazon_s3/studies/phs000127_irish-amy/\\\n",
    "genotype/{original,imputed}\"\n",
    "ssh jmarks@rtplhpc01.rti.ns \"mkdir /share/nas04/bioinformatics_group/data/amazon_s3/studies/phs000127_irish-amy/\\\n",
    "genotype/original/{processing,unprocessed,final}\"\n",
    "ssh jmarks@rtplhpc01.rti.ns \"mkdir /share/nas04/bioinformatics_group/data/amazon_s3/studies/phs000127_irish-amy/\\\n",
    "phenotype/{processing,unprocessed,final}\"\n",
    "\n",
    "# upload files to MIDAS\n",
    "scp *pdf jmarks@rtplhpc01.rti.ns:/share/nas04/bioinformatics_group/data/amazon_s3/studies/phs000127_irish-amy/meta\n",
    "scp *gz jmarks@rtplhpc01.rti.ns:/share/nas04/bioinformatics_group/data/amazon_s3/studies/phs000127_irish-amy/phenotype/unprocessed\n",
    "scp phg000026v1/* jmarks@rtplhpc01.rti.ns:/share/nas04/bioinformatics_group/data/amazon_s3/studies/phs000127_irish-amy/genotype/original/unprocessed"
   ]
  },
  {
   "cell_type": "markdown",
   "metadata": {},
   "source": [
    "## phs000167_moleGen-Schiz\n",
    "Molecular Genetics of Schizophrenia - nonGAIN Sample (MGS_nonGAIN)(phs000167.v1.p1)\n",
    "\n",
    "https://www.ncbi.nlm.nih.gov/projects/gap/cgi-bin/study.cgi?study_id=phs000167.v1.p1"
   ]
  },
  {
   "cell_type": "code",
   "execution_count": null,
   "metadata": {
    "collapsed": true
   },
   "outputs": [],
   "source": [
    "# download from dbGaP to local maching at\n",
    "# /cygdrive/c/Users/jmarks/ncbi/dbGaP-2556\n",
    "cd /cygdrive/c/Users/jmarks/ncbi/dbGaP-2556/\n",
    "\n",
    "# decrypt in this directory\n",
    " ../../Desktop/sratoolkit/sratoolkit.2.8.2-1-win64/bin/vdb-decrypt.exe -v 58528\n",
    "\n",
    "# Check for successful decryption\n",
    "if [ $(find 58528/ -name *ncbi_enc -print | wc -l) = 0 ]; then echo \"Success!\"; else echo \"Failed!\"; fi\n",
    "\n",
    "# Create directory structure on MIDAS\n",
    "ssh jmarks@rtplhpc01.rti.ns \"mkdir -p /share/nas04/bioinformatics_group/data/amazon_s3/studies/phs000167_moleGen-Schiz/\\\n",
    "{genotype,phenotype,meta}/\"\n",
    "ssh jmarks@rtplhpc01.rti.ns \"mkdir /share/nas04/bioinformatics_group/data/amazon_s3/studies/phs000167_moleGen-Schiz/\\\n",
    "genotype/{original,imputed}\"\n",
    "ssh jmarks@rtplhpc01.rti.ns \"mkdir /share/nas04/bioinformatics_group/data/amazon_s3/studies/phs000167_moleGen-Schiz/\\\n",
    "genotype/original/{processing,unprocessed,final}\"\n",
    "ssh jmarks@rtplhpc01.rti.ns \"mkdir /share/nas04/bioinformatics_group/data/amazon_s3/studies/phs000167_moleGen-Schiz/\\\n",
    "phenotype/{processing,unprocessed,final}\"\n",
    "\n",
    "# upload files to MIDAS\n",
    "scp *.pdf jmarks@rtplhpc01.rti.ns:/share/nas04/bioinformatics_group/data/amazon_s3/studies/phs000167_moleGen-Schiz/meta\n",
    "scp *.gz jmarks@rtplhpc01.rti.ns:/share/nas04/bioinformatics_group/data/amazon_s3/studies/phs000167_moleGen-Schiz/phenotype/unprocessed\n",
    "scp phg000037v1/* jmarks@rtplhpc01.rti.ns:/share/nas04/bioinformatics_group/data/amazon_s3/studies/phs000167_moleGen-Schiz/genotype/original/unprocessed\n",
    "\n",
    "    "
   ]
  },
  {
   "cell_type": "markdown",
   "metadata": {},
   "source": [
    "## phs000147_breast-cancer "
   ]
  },
  {
   "cell_type": "code",
   "execution_count": null,
   "metadata": {
    "collapsed": true
   },
   "outputs": [],
   "source": [
    "# download from dbGaP to local maching at\n",
    "# /cygdrive/c/Users/jmarks/ncbi/dbGaP-2556\n",
    "cd /cygdrive/c/Users/jmarks/ncbi/dbGaP-2556/\n",
    "\n",
    "# decrypt in this directory\n",
    " ../../Desktop/sratoolkit/sratoolkit.2.8.2-1-win64/bin/vdb-decrypt.exe -v 58546\n",
    "    \n",
    "# Check for successful decryption\n",
    "if [ $(find 58546/ -name *ncbi_enc -print | wc -l) = 0 ]; then echo \"Success!\"; else echo \"Failed!\"; fi\n",
    "\n",
    "\n",
    "# Create directory structure for S3\n",
    "mkdir -p phs000147_breast-cancer/\n",
    "{genotype,phenotype,meta}/\"\n",
    "ssh jmarks@rtplhpc01.rti.ns \"mkdir /share/nas04/bioinformatics_group/data/amazon_s3/studies/phs000147_breast-cancer/\\\n",
    "genotype/{original,imputed}\"\n",
    "ssh jmarks@rtplhpc01.rti.ns \"mkdir /share/nas04/bioinformatics_group/data/amazon_s3/studies/phs000147_breast-cancer/\\\n",
    "genotype/original/{processing,unprocessed,final}\"\n",
    "ssh jmarks@rtplhpc01.rti.ns \"mkdir /share/nas04/bioinformatics_group/data/amazon_s3/studies/phs000147_breast-cancer/\\\n",
    "phenotype/{processing,unprocessed,final}\""
   ]
  },
  {
   "cell_type": "markdown",
   "metadata": {},
   "source": [
    "## Helpful commands and scratch work"
   ]
  },
  {
   "cell_type": "code",
   "execution_count": null,
   "metadata": {
    "collapsed": true
   },
   "outputs": [],
   "source": [
    "for i in *; do echo \"mv $i $(echo $i|perl -pi -e s/phs000101.v4.pht00.+ALS_//g)\"; done\n",
    "\n",
    "for i in *; do echo \"mv $i $(echo $i|perl -pi -e s/phg000.+ALS_//g)\"; done\n",
    "\n",
    "for i in *; do mv $i $(echo $i|perl -pi -e s/phg000.+v[0-9].ALS_//g); done\n",
    "\n",
    "\n",
    "\n",
    "for i in *tar; do tar -xvf $i; done\n",
    "for i in *tar.gz; do tar -xvzf $i; done\n",
    "\n",
    "rm *tar* \n",
    "\n",
    "\n",
    "\n"
   ]
  },
  {
   "cell_type": "code",
   "execution_count": null,
   "metadata": {
    "collapsed": true
   },
   "outputs": [],
   "source": []
  },
  {
   "cell_type": "code",
   "execution_count": null,
   "metadata": {
    "collapsed": true
   },
   "outputs": [],
   "source": []
  }
 ],
 "metadata": {
  "kernelspec": {
   "display_name": "Python 3",
   "language": "python",
   "name": "python3"
  },
  "language_info": {
   "codemirror_mode": {
    "name": "ipython",
    "version": 3
   },
   "file_extension": ".py",
   "mimetype": "text/x-python",
   "name": "python",
   "nbconvert_exporter": "python",
   "pygments_lexer": "ipython3",
   "version": "3.6.2"
  }
 },
 "nbformat": 4,
 "nbformat_minor": 2
}
