{
 "cells": [
  {
   "cell_type": "markdown",
   "metadata": {
    "tags": [],
    "toc-hr-collapsed": true
   },
   "source": [
    "# Genotype QC GuLF data\n",
    "**Author**: Jesse Marks<br>\n",
    "**GitHub Issue**: [163](https://github.com/RTIInternational/bioinformatics/issues/163)\n",
    "\n",
    "This notebook documents the quality control processing of [GuLF](https://epishare.niehs.nih.gov/studies/GuLF/) array genotyping data for the [Identifying Blood-based DNA Methylation Biomarkers of Cannabis Use](https://projectreporter.nih.gov/project_info_description.cfm?aid=9970766&icde=52899208&ddparam=&ddvalue=&ddsub=&cr=1&csb=default&cs=ASC&pball=) (project number 0217761.000.001) project."
   ]
  },
  {
   "cell_type": "markdown",
   "metadata": {},
   "source": [
    "## Summary of Files in-house"
   ]
  },
  {
   "cell_type": "markdown",
   "metadata": {
    "toc-hr-collapsed": true,
    "toc-nb-collapsed": true
   },
   "source": [
    "### QC_Reports\n",
    "There are 5 files in the directory `s3://rti-cannabis/shared_data/raw_data/gulf/genotype/QC_Reports/`"
   ]
  },
  {
   "cell_type": "markdown",
   "metadata": {},
   "source": [
    "**SR0528-001_1_Identifiler_9120201356.csv**\n",
    "6 line file\n",
    "```\n",
    "Sample_ID,LIMSSample_ID,Project,Project-Sample ID,SR_Subject_ID,LIMS_Individual_ID,Identifiler Reason\n",
    "SC573207_PC32990_E04,SC573207,GP0528-IN1,PS-20200203-001475,SI00584668,I-0001633579,Contaminated\n",
    "SC572851_PC32987_E06,SC572851,GP0528-IN1,PS-20200203-000654,SI00584316,I-0001633223,Contaminated\n",
    "SC574013_PC32990_H05,SC574013,GP0528-IN1,PS-20200203-001489,SI00585462,I-0001634385,Contaminated\n",
    "SC573479_PC32990_B05,SC573479,GP0528-IN1,PS-20200203-001481,SI00584940,I-0001633851,Contaminated\n",
    "SC572846_PC32990_G04,SC572846,GP0528-IN1,PS-20200203-001477,SI00584311,I-0001633218,Contaminated\n",
    "```"
   ]
  },
  {
   "cell_type": "markdown",
   "metadata": {},
   "source": [
    "**SR0528-001_1_LimsUpload_9120201356.csv**\n",
    "1609 line file\n",
    "```\n",
    "SR_Subject_ID,LIMS_Individual_ID,Sample ID,Project-Sample ID,Call Rate,Low Call Rate,Contaminated,Sex Discordant,Expected Replicate Discordance,Unexpected Replicate\n",
    "SI00585627,I-0001634557,SC574185_PC32990_E12,PS-20200203-001197,0.98902,FALSE,FALSE,FALSE,FALSE,FALSE\n",
    "SI00584437,I-0001633345,SC572973_PC32981_D11,PS-20200203-001685,0.98157,FALSE,FALSE,FALSE,FALSE,FALSE\n",
    "SI00585246,I-0001634166,SC573794_PC32983_G11,PS-20200203-000896,0.995208,FALSE,FALSE,FALSE,FALSE,FALSE\n",
    "SI00584975,I-0001633886,SC573514_PC32992_C12,PS-20200203-001020,0.994355,FALSE,FALSE,FALSE,FALSE,FALSE\n",
    "```\n"
   ]
  },
  {
   "cell_type": "markdown",
   "metadata": {},
   "source": [
    "**SR0528-001_1_all_sample_qc_9120201356.csv**\n",
    "1609 line file\n",
    "```\n",
    "SR_Subject_ID,Count_of_SR_SubjectID,SR,Case/Control_Status,PI_Subject_ID,LIMS_Individual_ID,Project,Sample_ID,Project-Sample ID,LIMSSample_ID,Sample_Status,IdatsInProjectDir,IdatIntensity,Expected_Sex,Predicted_Sex,SexMatch,ChrX_Inbreed_estimate,AFR,EUR,ASN,Ancestry,Contamination_Rate,Call_Rate_Initial,Call_Rate_1_filter,Call_Rate_1,Call_Rate_2_filter,Call_Rate_2,Low Call Rate,Contaminated,Sex Discordant,Expected Replicate Discordance,Unexpected Replicate,Count_of_QC_Issue,Identifiler_Needed\n",
    "SI00585627,2,,Case,BCE118638,I-0001634557,GP0528-IN1,SC574185_PC32990_E12,PS-20200203-001197,SC574185,,YES,6206,M,M,Y,0.9946,0.1429494981,0.8570505019,0,EUR,0.0137362,0.98902,N,0.991666,N,0.996244,FALSE,FALSE,FALSE,FALSE,FALSE,0,FALSE\n",
    "SI00584437,1,,Case,BCE032497,I-0001633345,GP0528-IN1,SC572973_PC32981_D11,PS-20200203-001685,SC572973,,YES,6510,M,M,Y,0.9897,0.140575658,0.859424342,0,EUR,0.0160561,0.98157,N,0.98399,N,0.98972,FALSE,FALSE,FALSE,FALSE,FALSE,0,FALSE\n",
    "SI00585246,1,,Case,BCE132460,I-0001634166,GP0528-IN1,SC573794_PC32983_G11,PS-20200203-000896,SC573794,,YES,5016,M,M,Y,0.9847,0.7083804048,0.2916195952,0,AFR_EUR,0.0116044,0.995208,N,0.99716,N,0.998637,FALSE,FALSE,FALSE,FALSE,FALSE,0,FALSE\n",
    "SI00584975,1,,Case,BCE005856,I-0001633886,GP0528-IN1,SC573514_PC32992_C12,PS-20200203-001020,SC573514,,YES,5789,M,M,Y,0.9973,0.1470534281,0.8529465719,0,EUR,0.011814,0.994355,N,0.996615,N,0.998071,FALSE,FALSE,FALSE,FALSE,FALSE,0,FALSE\n",
    "SI00585051,1,,Case,BCE013891,I-0001633963,GP0528-IN1,SC573591_PC32983_B05,PS-20200203-000833,SC573591,,YES,6004,M,M,Y,0.9974,0.1407167166,0.8592832834,0,EUR,0.0112373,0.995417,N,0.997643,N,0.998824,FALSE,FALSE,FALSE,FALSE,FALSE,0,FALSE\n",
    "```\n"
   ]
  },
  {
   "cell_type": "markdown",
   "metadata": {},
   "source": [
    "**SR0528-001_1_KnownReplicates_9120201356.csv**\n",
    "217 line file\n",
    "```\n",
    "Subject_ID,Sample_ID1,Sample_ID2,Concordance,PI_HAT\n",
    "BCE005212,SC573537_PC32993_C10,SC573537_PC32994_E01,1.0,1.0\n",
    "BCE143974,SC573873_PC32986_C08,SC573873_PC32989_E01,0.9999511539870558,0.9999\n",
    "```"
   ]
  },
  {
   "cell_type": "markdown",
   "metadata": {},
   "source": [
    "**SR0528-001_1_UnknownReplicates_9120201356.csv**\n",
    "One line file.\n",
    "```\n",
    "Subject_ID1,Subject_ID2,Sample_ID1,Sample_ID2,Concordance,PI_HAT\n",
    "```\n"
   ]
  },
  {
   "cell_type": "markdown",
   "metadata": {
    "toc-hr-collapsed": true,
    "toc-nb-collapsed": true
   },
   "source": [
    "### Raw_Data\n",
    "There are 68 folders in the directory `s3://rti-cannabis/shared_data/raw_data/gulf/genotype/Raw_Data/GP0528-IN1/`\n",
    "One of those folders is a logs folder. The other are genotype data."
   ]
  },
  {
   "cell_type": "markdown",
   "metadata": {},
   "source": [
    "**logs**\n",
    "Within this folder are the files:<br>\n",
    "**cmd_run_202008251411.txt**\n",
    "\n",
    "This file apparently identifies the genotype arrays as GSAMD-24v2-0_20024620_B1. The chip information can be found at:  \n",
    "https://www.well.ox.ac.uk/~wrayner/strand/GSAMD-24v2-0_20024620_B1-b37-strand.zip\n",
    "Where is the manifest though?\n",
    "```\n",
    "Command run: qsub -q all.q -V -o /DCEG/CGF/Infinium/ScanData/CGF/ByProject/GP0528-IN1/logs -pe by_node 8 -b y iaap-cli gencall -t 8 /DCEG/CGF/Infinium/Resources/Manifests/GSAMD-24v2-0_20024620_B1.bpm /DCEG/CGF/Infinium/Clustering/CG0348/initial_v1/CR99.4922.samples.cluster.position.GSAv2.egt /DCEG/CGF/Infinium/ScanData/CGF/ByProject/GP0528-IN1 -g -f /DCEG/CGF/Infinium/ScanData/CGF/ByProject/GP0528-IN1\n",
    "```"
   ]
  },
  {
   "cell_type": "markdown",
   "metadata": {},
   "source": [
    "**iaap-cli.o662543**\n",
    "```\n",
    "info: ArrayAnalysis.NormToGenCall.CLI.App[0]\n",
    "      [02:12:11 4089]: Crawling /DCEG/CGF/Infinium/ScanData/CGF/ByProject/GP0528-IN1 for samples ...\n",
    "info: ArrayAnalysis.NormToGenCall.CLI.App[0]\n",
    "      [02:12:17 4424]: Number of samples to process: 1608\n",
    "info: ArrayAnalysis.NormToGenCall.Services.NormToGenCallSvc[0]\n",
    "      [02:12:17 4527]:\n",
    "      Starting processing...\n",
    "      Manifest file: /DCEG/CGF/Infinium/Resources/Manifests/GSAMD-24v2-0_20024620_B1.bpm\n",
    "      Cluster file: /DCEG/CGF/Infinium/Clustering/CG0348/initial_v1/CR99.4922.samples.cluster.position.GSAv2.egt\n",
    "      Include file:\n",
    "      Output directory: /DCEG/CGF/Infinium/ScanData/CGF/ByProject/GP0528-IN1\n",
    "      GenCall score cutoff: 0.15\n",
    "      GenTrain ID: 3\n",
    "```"
   ]
  },
  {
   "cell_type": "markdown",
   "metadata": {},
   "source": [
    "**iaap-cli.po662543**\n",
    "This file is empty."
   ]
  },
  {
   "cell_type": "markdown",
   "metadata": {},
   "source": [
    "**other folders**\n",
    "The other 67 folders contain the genotype data. Here are those folders:<br>\n",
    "203899730051/\n",
    "203903430026/\n",
    "203903430037/\n",
    "203903430047/\n",
    "203903430054/\n",
    "203907520017/\n",
    "203907520051/\n",
    "203907520099/\n",
    "203907520114/\n",
    "203907520144/\n",
    "203907520146/\n",
    "203907530012/\n",
    "203907530021/\n",
    "203907530043/\n",
    "203907530046/\n",
    "203907530047/\n",
    "203907530055/\n",
    "203907530068/\n",
    "203907530121/\n",
    "203911090016/\n",
    "203911090017/\n",
    "203911090018/\n",
    "203911090032/\n",
    "203911090033/\n",
    "203911090046/\n",
    "203911090107/\n",
    "203911090110/\n",
    "203911090116/\n",
    "203911090118/\n",
    "203922150025/\n",
    "203922150061/\n",
    "203922150065/\n",
    "203922150110/\n",
    "203922150135/\n",
    "203922150141/\n",
    "203922150144/\n",
    "203922150152/\n",
    "203922150160/\n",
    "203922150162/\n",
    "203922150184/\n",
    "203922150186/\n",
    "203939610002/\n",
    "203939610072/\n",
    "203939610084/\n",
    "203939610109/\n",
    "203951420022/\n",
    "203951420120/\n",
    "203951420158/\n",
    "203951420173/\n",
    "203960430010/\n",
    "203960430015/\n",
    "203960430018/\n",
    "203960430045/\n",
    "203960430048/\n",
    "203960430087/\n",
    "203960430105/\n",
    "203960430122/\n",
    "203960430130/\n",
    "203960430131/\n",
    "203960430132/\n",
    "203960430133/\n",
    "203960430135/\n",
    "203960430136/\n",
    "203965290076/\n",
    "203965300057/\n",
    "203966750019/\n",
    "203966750021/\n",
    "\n",
    "Within these folders are files in \\*Red.idat & \\*Grn.idat format. There are also files in GTC format, an SDF formatted file, and a file names `Metrics.txt`"
   ]
  },
  {
   "cell_type": "markdown",
   "metadata": {},
   "source": [
    "**IDAT file**\n",
    "Illumina's BeadScan/iScan software outputs probe intensities in IDAT format.  "
   ]
  },
  {
   "cell_type": "markdown",
   "metadata": {},
   "source": [
    "**Metrics.txt file**\n",
    "Example:\n",
    "```\n",
    "Date\tBeadchip\tSection\tFocusGrn\tRegGrn\tP05Grn\tP95Grn\tFocusRed\tRegRed\tP05Red\tP95Red\n",
    "3/13/2020 10:05:44 PM\t203899730051\tR01C01_1\t0.23\t1.48\t0.00\t6343.73\t0.17\t1.48\t0.00\t6149.81\n",
    "3/13/2020 10:06:03 PM\t203899730051\tR01C01_2\t0.23\t1.48\t0.00\t6264.58\t0.17\t1.48\t0.00\t6092.27\n",
    "3/13/2020 10:06:22 PM\t203899730051\tR01C01_3\t0.22\t1.48\t0.00\t6475.69\t0.17\t1.48\t0.00\t6390.16\n",
    "3/13/2020 10:06:57 PM\t203899730051\tR02C01_1\t0.23\t1.49\t0.00\t7162.52\t0.18\t1.49\t0.00\t6569.97\n",
    "3/13/2020 10:07:07 PM\t203899730051\tR01C01_4\t0.22\t1.48\t0.00\t7391.56\t0.17\t1.48\t0.00\t6936.90\n",
    "3/13/2020 10:07:16 PM\t203899730051\tR02C01_2\t0.23\t1.49\t0.00\t7082.85\t0.19\t1.49\t0.00\t6710.34\n",
    "3/13/2020 10:07:32 PM\t203899730051\tR02C01_3\t0.23\t1.48\t0.00\t7449.79\t0.19\t1.48\t0.00\t6942.46\n",
    "3/13/2020 10:08:06 PM\t203899730051\tR03C01_1\t0.23\t1.48\t0.00\t7761.14\t0.19\t1.48\t0.00\t7609.77\n",
    "3/13/2020 10:08:18 PM\t203899730051\tR02C01_4\t0.24\t1.49\t0.00\t8764.77\t0.21\t1.49\t0.00\t7583.17\n",
    "3/13/2020 10:08:27 PM\t203899730051\tR03C01_2\t0.22\t1.48\t0.00\t6949.46\t0.18\t1.48\t0.00\t7409.11\n",
    "3/13/2020 10:08:43 PM\t203899730051\tR03C01_3\t0.23\t1.48\t0.00\t7012.36\t0.17\t1.48\t0.00\t7224.38\n",
    "```"
   ]
  },
  {
   "cell_type": "markdown",
   "metadata": {},
   "source": [
    "**GTC file**\n",
    "Illumina has a software tool to convert GTC format to VCF [here](https://github.com/Illumina/GTCtoVCF). We will be using this for the ultimately goal of converting the data to Plink BED, BIM, and FAM format. The manifest file will be necessary for the conversion. See the illustration [here](https://github.com/freeseek/gtc2vcf#gtc2vcf)."
   ]
  },
  {
   "cell_type": "markdown",
   "metadata": {},
   "source": [
    "**SDF file**\n",
    "Standard Database Format (SDF) files in each of the 67 genotype folders."
   ]
  },
  {
   "cell_type": "markdown",
   "metadata": {
    "toc-hr-collapsed": true,
    "toc-nb-collapsed": true
   },
   "source": [
    "## Pre-Processing"
   ]
  },
  {
   "cell_type": "markdown",
   "metadata": {},
   "source": [
    "### GTC to VCF\n",
    "Convert the GTC formatted genotype files to VCF format."
   ]
  },
  {
   "cell_type": "markdown",
   "metadata": {},
   "source": [
    "#### Download requisite files"
   ]
  },
  {
   "cell_type": "code",
   "execution_count": null,
   "metadata": {},
   "outputs": [],
   "source": [
    "# Create Directory Structure Data\n",
    "mkdir -p /shared/rti-cannabis/shared_data/pre_qc/gulf/genotype/array/observed/0001/gtc/\n",
    "mkdir -p /shared/rti-cannabis/shared_data/pre_qc/gulf/genotype/array/info/\n",
    "\n",
    "## download manifest files for genotype array\n",
    "cd /shared/rti-cannabis/shared_data/pre_qc/gulf/genotype/array/info/\n",
    "aws s3 sync s3://rti-cannabis/shared_data/raw_data/gulf/genotype/Raw_Data/GP0528-IN1/ . \\\n",
    "    --exclude '*' \\\n",
    "    --include '*gtc'\n",
    "\n",
    "## download strand flipping file\n",
    "wget https://www.well.ox.ac.uk/~wrayner/strand/GSAMD-24v2-0_20024620_B1-b37-strand.zip\n",
    "\n",
    "## download strand updating tool\n",
    "wget https://www.well.ox.ac.uk/~wrayner/strand/update_build.sh\n",
    "\n",
    "## download genotype data\n",
    "cd /shared/rti-hic/shared_data/raw/cohort_0001/genotype/array/\n",
    "aws s3 cp s3://rti-hic/shared_data/raw/cohort_0001/genotype/array/CaseWestern_Genotyping_Report_20201016.txt.gz .\n",
    "\n",
    "## upload genotype QC report and sample sheet from local (for sex info)\n",
    "# Probably in s3://rti-cannabis/shared_data/raw_data/gulf/genotype/QC_Reports/SR0528-001_1_all_sample_qc_9120201356.csv"
   ]
  },
  {
   "cell_type": "code",
   "execution_count": null,
   "metadata": {},
   "outputs": [],
   "source": [
    "# download conversion tool\n",
    "cd ~/bin/\n",
    "git clone https://github.com/Illumina/GTCtoVCF.git\n",
    "\n",
    "# download samtools for genome reference FASTA files\n",
    "wget https://github.com/samtools/samtools/releases/download/1.11/samtools-1.11.tar.bz2\n",
    "tar xvfz samtools-1.11.tar.bz2\n",
    "cd samtools-1.11\n",
    "./configure --prefix=/$PWD\n",
    "make \n",
    "make install\n",
    "export PATH=$PWD/bin:$PATH\n",
    "\n",
    "# download reference genome FASTA files \n",
    "mkdir -p /shared/rti-cannabis/shared_data/pre_qc/gulf/genotype/array/observed/0001/fasta/\n",
    "cd /shared/rti-cannabis/shared_data/pre_qc/gulf/genotype/array/observed/0001/fasta/\n",
    "\n",
    "# generate fasta files\n",
    "/home/ec2-user/bin/GTCtoVCF/scripts/download_reference.sh output.fa 37 # usage: bash download_reference.sh output.fa [build_id]"
   ]
  },
  {
   "cell_type": "markdown",
   "metadata": {},
   "source": [
    "#### Apply conversion tool"
   ]
  },
  {
   "cell_type": "code",
   "execution_count": null,
   "metadata": {},
   "outputs": [],
   "source": [
    "# variables for directories to attach with to docker container\n",
    "procD=/shared/rti-cannabis/shared_data/pre_qc/gulf/genotype/array/observed/0001  #gtc fasta vcf\n",
    "gtc_scriptD=/home/ec2-user/bin/GTCtoVCF  #gtc_to_vcf.py\n",
    "manifestD=/shared/rti-cannabis/shared_data/pre_qc/gulf/genotype/array/info  #GSAMD-24v2-0_20024620_B1.csv\n",
    "\n",
    "# login to interactive container\n",
    "docker run -it \\\n",
    "    -v ${gtc_scriptD}:${gtc_scriptD} \\\n",
    "    -v $procD:$procD \\\n",
    "    -v $manifestD:$manifestD \\\n",
    "    continuumio/miniconda2:4.7.12 \n",
    "\n",
    "# install requisite packages for the GTCtoVCF\n",
    "conda install -y -c bioconda pyvcf=0.6.8 pysam=0.9.0 numpy \n",
    "\n",
    "# have to redefine these variables (they don't carry over from parent shell)\n",
    "procD=/shared/rti-cannabis/shared_data/pre_qc/gulf/genotype/array/observed/0001\n",
    "gtc_scriptD=/home/ec2-user/bin/GTCtoVCF\n",
    "manifestD=/shared/rti-cannabis/shared_data/pre_qc/gulf/genotype/array/info\n",
    "\n",
    "# There's a performance benefit to analyzing all GTC files at once. \n",
    "cd $procD/gtc/\n",
    "all_paths=\"\"\n",
    "for dir in *; do \n",
    "    all_paths=\"$procD/gtc/$dir ${all_paths}\"\n",
    "done\n",
    "\n",
    "python ${gtc_scriptD}/gtc_to_vcf.py \\\n",
    "    --gtc-paths $all_paths \\\n",
    "    --manifest-file $manifestD/GSAMD-24v2-0_20024620_B1.csv \\\n",
    "    --genome-fasta-file $procD/fasta/output.fa \\\n",
    "    --output-vcf-path $procD/vcf > $procD/vcf/gtc_to_vcf.log 2>&1"
   ]
  },
  {
   "cell_type": "markdown",
   "metadata": {},
   "source": [
    "### Merge samples\n",
    "Merge all of the samples into one file. There was one VCF per sample created during the GTCtoVCF conversion.\n",
    "We will need to use the *merge* command within [bcftools](http://samtools.github.io/bcftools/bcftools.html) as in the examples shown [here](https://www.biostars.org/p/364725/).\n",
    "We have already have a Docker image of bcftools at:\n",
    "`rtibiocloud/bcftools:v1.9-8875c1e`\n",
    "\n",
    "*merge* - merge VCF/BCF files files from non-overlapping sample sets"
   ]
  },
  {
   "cell_type": "code",
   "execution_count": null,
   "metadata": {},
   "outputs": [],
   "source": [
    "# variables for directories to attach with to docker container\n",
    "procD=/shared/rti-cannabis/shared_data/pre_qc/gulf/genotype/array/observed/0001/vcf  #gtc fasta vcf\n",
    "\n",
    "# login to interactive container\n",
    "docker run -it \\\n",
    "    -v $procD:$procD \\\n",
    "    rtibiocloud/bcftools:v1.9-8875c1e bash\n",
    "\n",
    "\n",
    "# have to redefine this variable (doesn't carry over from parent shell)\n",
    "procD=/shared/rti-cannabis/shared_data/pre_qc/gulf/genotype/array/observed/0001/vcf  #gtc fasta vcf\n",
    "\n",
    "/opt/bcftools merge $procD/*vcf.gz \\\n",
    "    merge $procD/*vcf \\\n",
    "    -Oz \\\n",
    "    -o $procD/gulf_merged.vcf.gz > $procD/merge_vcf.log 2>&1\n",
    "\n",
    "exit # exit bcftools container\n",
    "\n",
    "# upload to s3 (since this takes a lot of processing time)\n",
    "aws s3 cp $procD/gulf_merged.vcf.gz s3://rti-cannabis/shared_data/pre_qc/gulf/genotype/array/observed/0001/vcf/\n",
    "aws s3 cp $procD/gtc_to_vcf.log s3://rti-cannabis/shared_data/pre_qc/gulf/genotype/array/observed/0001/vcf/\n",
    "aws s3 cp $procD/merge_vcf.log s3://rti-cannabis/shared_data/pre_qc/gulf/genotype/array/observed/0001/vcf/"
   ]
  },
  {
   "cell_type": "code",
   "execution_count": null,
   "metadata": {},
   "outputs": [],
   "source": [
    "# index and bgzf-compress files\n",
    "for file in *.vcf; do\n",
    "    /opt/bcftools view $file -Oz -o $file.gz \n",
    "    /opt/bcftools index $file.gz\n",
    "done &\n",
    "\n",
    "# merge all samples (note, actually had to merge in a series of steps instead of with just this simple command)\n",
    "/opt/bcftools merge $procD/*vcf.gz \\\n",
    "    -Oz \\\n",
    "    -o $procD/gulf_merged.vcf.gz"
   ]
  },
  {
   "cell_type": "markdown",
   "metadata": {},
   "source": [
    "### VCF to PLINK\n",
    "Convert the VCF file to Plink formatted (BED,BIM,FAM) files. This is necessary for the [genotype QC workflow](https://github.com/RTIInternational/biocloud_gwas_workflows/tree/master/genotype_array_qc) we have developed."
   ]
  },
  {
   "cell_type": "code",
   "execution_count": null,
   "metadata": {},
   "outputs": [],
   "source": [
    "# create directory structure\n",
    "procD=/shared/rti-cannabis/shared_data/pre_qc/gulf/genotype/array/observed/0001\n",
    "mkdir -p $procD/plink\n",
    "\n",
    "# convert to bed/bim/fam format\n",
    "/shared/bioinformatics/software/third_party/plink-1.90-beta-6.16-x86_64/plink \\\n",
    "    --vcf $procD/vcf/gulf_merged.vcf.gz \\\n",
    "    --double-id \\\n",
    "    --make-bed \\\n",
    "    --out $procD/plink/gulf_merged"
   ]
  },
  {
   "cell_type": "markdown",
   "metadata": {},
   "source": [
    "### Remove low call-rate\n",
    "Remove the following subjects because they had low call-rates and there ancestry was not determined. Furthermore, the sex was unknown for some of these subjects. These were found by visual inspection of the file `s3://rti-cannabis/shared_data/raw_data/gulf/genotype/QC_Reports/SR0528-001_1_all_sample_qc_9120201356.csv` and seeing that the `Low Call Rate` field was set to *TRUE*.\n",
    "\n",
    "```\n",
    "SC572851_PC32987_E06\n",
    "SC573207_PC32990_E04\n",
    "SC573436_PC32982_A04\n",
    "SC573463_PC32983_A08\n",
    "SC573479_PC32990_B05\n",
    "SC573807_PC32990_H03\n",
    "SC573886_PC32991_H12\n",
    "SC573900_PC32982_B04\n",
    "SC573977_PC32982_G04\n",
    "SC574026_PC32983_H06\n",
    "SC574189_PC32988_A07\n",
    "SC574195_PC32988_E08\n",
    "```"
   ]
  },
  {
   "cell_type": "code",
   "execution_count": null,
   "metadata": {},
   "outputs": [],
   "source": [
    "# use vim to create remove file (low_call_rate_samples.txt)\n",
    "\n",
    "/shared/bioinformatics/software/third_party/plink-1.90-beta-6.16-x86_64/plink \\\n",
    "    --bfile $procD/plink/gulf_merged \\\n",
    "    --remove $procD/plink/low_call_rate_samples.txt \\\n",
    "    --make-bed \\\n",
    "    --out $procD/plink/gulf_merged_remove_low_call_rate"
   ]
  },
  {
   "cell_type": "markdown",
   "metadata": {},
   "source": [
    "### Add Sex to FAM file\n",
    "Gather this information from the file at:\n",
    "`s3://rti-cannabis/shared_data/raw_data/gulf/genotype/QC_Reports/SR0528-001_1_all_sample_qc_9120201356.csv`\n"
   ]
  },
  {
   "cell_type": "code",
   "execution_count": null,
   "metadata": {},
   "outputs": [],
   "source": [
    "cd $procD/plink\n",
    "aws s3 cp s3://rti-cannabis/shared_data/raw_data/gulf/genotype/QC_Reports/SR0528-001_1_all_sample_qc_9120201356.csv .\n",
    "\n",
    "# create sex map file\n",
    "awk -F\",\" '\n",
    "    {if ($15==\"M\") \n",
    "        $15 = 1\n",
    "    else \n",
    "        $15 = 2\n",
    "    }\n",
    "        {print $8, $15} ' <( tail -n +2 SR0528-001_1_all_sample_qc_9120201356.csv) >\\\n",
    "    sex_map.txt\n",
    "\n",
    "# apply sex map\n",
    "awk 'NR==FNR{map[$1]=$2; next}\n",
    "    {if ($1 in map)\n",
    "        $5 = map[$1];\n",
    "        print $0;\n",
    "    }' sex_map.txt gulf_merged_remove_low_call_rate.fam > \\\n",
    "        gulf_merged_remove_low_call_rate_sex_mapped.fam\n",
    "\n",
    "# create new fileset\n",
    "/shared/bioinformatics/software/third_party/plink-1.90-beta-6.16-x86_64/plink \\\n",
    "    --bed $procD/plink/gulf_merged_remove_low_call_rate.bed \\\n",
    "    --bim $procD/plink/gulf_merged_remove_low_call_rate.bim \\\n",
    "    --fam $procD/plink/gulf_merged_remove_low_call_rate_sex_mapped.fam \\\n",
    "    --make-bed \\\n",
    "    --out $procD/plink/gulf_merged_remove_low_call_rate_sex_mapped\n"
   ]
  },
  {
   "cell_type": "markdown",
   "metadata": {},
   "source": [
    "### Remove positive controls\n",
    "There are 34 subjects to remove. These were identified in the file `s3://rti-cannabis/shared_data/raw_data/gulf/genotype/QC_Reports/SR0528-001_1_all_sample_qc_9120201356.csv`\n",
    "Note that some of these may have been removed in a prior processing step.\n",
    "```\n",
    "Case/Control_Status\tPI_Subject_ID\tLIMS_Individual_ID\tProject\tSample_ID\tProject-Sample ID\n",
    "QC\t\tNA07023\tGP0528-IN1\tSC131022_PC32980_F01\tPS-20200309-000732\n",
    "QC\t\tNA07023\tGP0528-IN1\tSC131022_PC32983_D02\tPS-20200309-000733\n",
    "QC\t\tNA07023\tGP0528-IN1\tSC131022_PC32986_B04\tPS-20200309-000734\n",
    "QC\t\tNA07023\tGP0528-IN1\tSC131022_PC32989_C02\tPS-20200309-000735\n",
    "QC\t\tNA07023\tGP0528-IN1\tSC131022_PC32992_D06\tPS-20200309-000736\n",
    "QC\t\tNA07023\tGP0528-IN1\tSC131022_PC32995_H03\tPS-20200309-000737\n",
    "QC\t\tNCP118\tGP0528-IN1\tSC131030_PC32981_B05\tPS-20200309-000738\n",
    "QC\t\tNCP118\tGP0528-IN1\tSC131030_PC32984_E05\tPS-20200309-000739\n",
    "QC\t\tNCP118\tGP0528-IN1\tSC131030_PC32987_D04\tPS-20200309-000740\n",
    "QC\t\tNCP118\tGP0528-IN1\tSC131030_PC32990_F06\tPS-20200309-000741\n",
    "QC\t\tNCP118\tGP0528-IN1\tSC131030_PC32993_E05\tPS-20200309-000742\n",
    "QC\t\tNCP118\tGP0528-IN1\tSC131030_PC32996_H05\tPS-20200309-000743\n",
    "QC\t\tNCP119\tGP0528-IN1\tSC131035_PC32982_C02\tPS-20200309-000744\n",
    "QC\t\tNCP119\tGP0528-IN1\tSC131035_PC32985_D01\tPS-20200309-000745\n",
    "QC\t\tNCP119\tGP0528-IN1\tSC131035_PC32988_D02\tPS-20200309-000746\n",
    "QC\t\tNCP119\tGP0528-IN1\tSC131035_PC32991_E05\tPS-20200309-000747\n",
    "QC\t\tNCP119\tGP0528-IN1\tSC131035_PC32994_H03\tPS-20200309-000748\n",
    "QC\t\tNCP123\tGP0528-IN1\tSC131045_PC32980_E09\tPS-20200309-000749\n",
    "QC\t\tNCP123\tGP0528-IN1\tSC131045_PC32981_F09\tPS-20200309-000750\n",
    "QC\t\tNCP123\tGP0528-IN1\tSC131045_PC32982_E12\tPS-20200309-000751\n",
    "QC\t\tNCP123\tGP0528-IN1\tSC131045_PC32983_B09\tPS-20200309-000752\n",
    "QC\t\tNCP123\tGP0528-IN1\tSC131045_PC32984_C11\tPS-20200309-000753\n",
    "QC\t\tNCP123\tGP0528-IN1\tSC131045_PC32985_H07\tPS-20200309-000754\n",
    "QC\t\tNCP123\tGP0528-IN1\tSC131045_PC32986_A11\tPS-20200309-000755\n",
    "QC\t\tNCP123\tGP0528-IN1\tSC131045_PC32987_E12\tPS-20200309-000756\n",
    "QC\t\tNCP123\tGP0528-IN1\tSC131045_PC32988_C10\tPS-20200309-000757\n",
    "QC\t\tNCP123\tGP0528-IN1\tSC131045_PC32989_G08\tPS-20200309-000758\n",
    "QC\t\tNCP123\tGP0528-IN1\tSC131045_PC32990_E07\tPS-20200309-000759\n",
    "QC\t\tNCP123\tGP0528-IN1\tSC131045_PC32991_E09\tPS-20200309-000760\n",
    "QC\t\tNCP123\tGP0528-IN1\tSC131045_PC32992_B07\tPS-20200309-000761\n",
    "QC\t\tNCP123\tGP0528-IN1\tSC131045_PC32993_D09\tPS-20200309-000762\n",
    "QC\t\tNCP123\tGP0528-IN1\tSC131045_PC32994_C08\tPS-20200309-000763\n",
    "QC\t\tNCP123\tGP0528-IN1\tSC131045_PC32995_D12\tPS-20200309-000764\n",
    "QC\t\tNCP123\tGP0528-IN1\tSC131045_PC32996_H09\tPS-20200309-000765\n",
    "```"
   ]
  },
  {
   "cell_type": "code",
   "execution_count": null,
   "metadata": {},
   "outputs": [],
   "source": [
    "cd $procD/plink\n",
    "\n",
    "cat SR0528-001_1_all_sample_qc_9120201356.csv | awk -F\",\" '$4~ \"QC\" {print $8,$8}'  > positive_controls.txt\n",
    "\n",
    "\n",
    "/shared/bioinformatics/software/third_party/plink-1.90-beta-6.16-x86_64/plink \\\n",
    "    --bfile $procD/plink/gulf_merged_remove_low_call_rate_sex_mapped \\\n",
    "    --remove $procD/plink/positive_controls.txt \\\n",
    "    --make-bed \\\n",
    "    --out $procD/plink/gulf_merged_remove_low_call_rate_sex_mapped_remove_controls"
   ]
  },
  {
   "cell_type": "markdown",
   "metadata": {},
   "source": [
    "### Convert to Plus Strand\n",
    "check the http://mccarthy.well.ox.ac.uk/chipendium/ui/ website for help identifying the strand."
   ]
  },
  {
   "cell_type": "code",
   "execution_count": null,
   "metadata": {},
   "outputs": [],
   "source": [
    "# update chr, pos, and strand alignment\n",
    "bash /shared/rti-cannabis/shared_data/pre_qc/gulf/genotype/array/info/update_build.sh \\\n",
    "    $procD/plink/gulf_merged_remove_low_call_rate_sex_mapped_remove_controls \\\n",
    "    /shared/rti-cannabis/shared_data/pre_qc/gulf/genotype/array/info/GSAMD-24v2-0_20024620_B1-b37.strand \\\n",
    "    $procD/gulf"
   ]
  },
  {
   "cell_type": "markdown",
   "metadata": {},
   "source": [
    "## Upload to S3"
   ]
  },
  {
   "cell_type": "code",
   "execution_count": null,
   "metadata": {},
   "outputs": [],
   "source": [
    "cd $procD\n",
    "\n",
    "for file in gulf.*; do\n",
    "    aws s3 cp $file s3://rti-cannabis/shared_data/pre_qc/gulf/genotype/array/observed/0001/\n",
    "done"
   ]
  },
  {
   "cell_type": "markdown",
   "metadata": {
    "toc-hr-collapsed": true
   },
   "source": [
    "# QC\n",
    "Apply the genotype QC workflow at `https://github.com/RTIInternational/biocloud_gwas_workflows/tree/master/genotype_array_qc`"
   ]
  },
  {
   "cell_type": "code",
   "execution_count": null,
   "metadata": {},
   "outputs": [],
   "source": [
    "# create directories\n",
    "mkdir -p /shared/rti-cannabis/shared_data/post_qc/gulf/genotype/array/observed/0001/{wf_input,wf_output}\n",
    "mkdir -p /shared/bioinformatics/methods/rti-cannabis/shared_data/post_qc/gulf/genotype/array/observed/0001/"
   ]
  },
  {
   "cell_type": "code",
   "execution_count": null,
   "metadata": {},
   "outputs": [],
   "source": [
    "# Set up config file for QC pipeline\n",
    "# Copy JSON file from previous run and modify settings with text editor (e.g. vim).\n",
    "cd /shared/bioinformatics/methods/rti-cannabis/shared_data/post_qc/gulf/genotype/array/observed/0001/\n",
    "cp /shared/biocloud_gwas_workflows/genotype_array_qc/test/ukb_qc_wf.json gulf_genotype_qc_wf.json"
   ]
  },
  {
   "cell_type": "code",
   "execution_count": null,
   "metadata": {},
   "outputs": [],
   "source": [
    "# Zip biocloud_gwas_workflows repo\n",
    "cd /shared/biocloud_gwas_workflows\n",
    "git pull\n",
    "git submodule update --init --recursive\n",
    "git rev-parse HEAD > /shared/rti-cannabis/shared_data/post_qc/gulf/genotype/array/observed/0001/wf_input/git_hash.txt\n",
    "cd /shared\n",
    "zip \\\n",
    "    --exclude=*/var/* \\\n",
    "    --exclude=*.git/* \\\n",
    "    --exclude=*/test/* \\\n",
    "    --exclude=*/.idea/* \\\n",
    "    -r /shared/rti-cannabis/shared_data/post_qc/gulf/genotype/array/observed/0001/wf_input/biocloud_gwas_workflows.zip \\\n",
    "    biocloud_gwas_workflows/"
   ]
  },
  {
   "cell_type": "code",
   "execution_count": null,
   "metadata": {},
   "outputs": [],
   "source": [
    "# Submit job\n",
    "# Open session in terminal 1\n",
    "ssh -i ~/.ssh/gwas_rsa -L localhost:8000:localhost:8000 ec2-user@54.174.185.7\n",
    "\n",
    "# Submit job in terminal 2\n",
    "curl -X POST \"http://localhost:8000/api/workflows/v1\" -H \"accept: application/json\" \\\n",
    "    -F \"workflowSource=@/shared/biocloud_gwas_workflows/genotype_array_qc/genotype_array_qc_wf.wdl\" \\\n",
    "    -F \"workflowInputs=@/shared/bioinformatics/methods/rti-cannabis/shared_data/post_qc/gulf/genotype/array/observed/0001/gulf_genotype_qc_wf.json\" \\\n",
    "    -F \"workflowDependencies\"=@/shared/rti-cannabis/shared_data/post_qc/gulf/genotype/array/observed/0001/wf_input/biocloud_gwas_workflows.zip\n",
    "\n",
    "job=d212a312-581e-4c09-be8c-8f1e10271f10\n",
    "\n",
    "# Monitor job in terminal 1\n",
    "tail -f /tmp/cromwell-server.log\n",
    "\n",
    "# check job status in terminal 2\n",
    "curl -X GET \"http://localhost:8000/api/workflows/v1/$job/status\"  "
   ]
  },
  {
   "cell_type": "markdown",
   "metadata": {},
   "source": [
    "## Process final JSON"
   ]
  },
  {
   "cell_type": "code",
   "execution_count": 57,
   "metadata": {},
   "outputs": [
    {
     "name": "stdout",
     "output_type": "stream",
     "text": [
      "init_samples\t1562\n",
      "init_snps\t701535\n",
      "duplicate_snps\t5442\n",
      "structure_unclassified_samples\t0\n",
      "\n",
      "\n",
      "\n",
      "structure_samples_by_ancestry\t667\t893\t2\n",
      "failed_sex_check_by_ancestry\t0\t0\n",
      "related_samples_by_ancestry\t22\t34\n",
      "hwe_failed_snps_by_ancestry\t25878\t25954\n",
      "low_call_snps_by_ancestry\t35880\t34237\n",
      "low_call_samples_by_ancestry\t0\t0\n",
      "unaccounted_samples_by_ancestry\t0\t0\n",
      "excess_homo_samples_by_ancestry\t0\t0\n",
      "total_removed_samples_by_ancestry\t22\t34\n",
      "total_removed_snps_by_ancestry\t67200\t65633\n",
      "pct_pass_samples_by_ancestry\t0.967016491754123\t0.961926091825308\n",
      "pct_pass_snps_by_ancestry\t0.904210053668028\t0.9064437269701441\n",
      "final_qc_snps_by_ancestry\t634335\t635902\n",
      "final_qc_samples_by_ancestry\t645\t859\n"
     ]
    }
   ],
   "source": [
    "import json\n",
    "\n",
    "infile = \"../../../../../Downloads/6f041ca8-034f-4a66-8a4c-938a039e3852_final_outputs.json\"\n",
    "outfile_init = \"../../../../../Downloads/6f041ca8-034f-4a66-8a4c-938a039e3852_final_outputs_processed.tsv\"\n",
    "outfile = \"../../../../../Downloads/6f041ca8-034f-4a66-8a4c-938a039e3852_final_outputs_processed.tsv\"\n",
    "\n",
    "with open(infile) as f, open(outfile, 'w') as outF:\n",
    "    data = json.load(f)\n",
    "    data = data[\"outputs\"]\n",
    "    \n",
    "    initial_list = [\"genotype_array_qc_wf.init_samples\", \n",
    "                    \"genotype_array_qc_wf.init_snps\",\n",
    "                    \"genotype_array_qc_wf.duplicate_snps\",\n",
    "                    \"genotype_array_qc_wf.structure_unclassified_samples\"]\n",
    "    \n",
    "    final_list = [\"genotype_array_qc_wf.structure_samples_by_ancestry\",\n",
    "                  \"genotype_array_qc_wf.failed_sex_check_by_ancestry\",\n",
    "                  \"genotype_array_qc_wf.related_samples_by_ancestry\",\n",
    "                  \"genotype_array_qc_wf.hwe_failed_snps_by_ancestry\",\n",
    "                  \"genotype_array_qc_wf.low_call_snps_by_ancestry\",\n",
    "                  \"genotype_array_qc_wf.low_call_samples_by_ancestry\",\n",
    "                  \"genotype_array_qc_wf.unaccounted_samples_by_ancestry\",\n",
    "                  \"genotype_array_qc_wf.excess_homo_samples_by_ancestry\",\n",
    "                  \"genotype_array_qc_wf.total_removed_samples_by_ancestry\",\n",
    "                  \"genotype_array_qc_wf.total_removed_snps_by_ancestry\",\n",
    "                  \"genotype_array_qc_wf.pct_pass_samples_by_ancestry\",\n",
    "                  \"genotype_array_qc_wf.pct_pass_snps_by_ancestry\",\n",
    "                  \"genotype_array_qc_wf.final_qc_snps_by_ancestry\",\n",
    "                  \"genotype_array_qc_wf.final_qc_samples_by_ancestry\"]\n",
    "    \n",
    "    for item in initial_list:\n",
    "        result = data[item]\n",
    "        item = re.sub(r'^.+\\.', '', item)\n",
    "        line = \"{}\\t{}\".format(item, result)\n",
    "        print(line)\n",
    "    \n",
    "    print(\"\\n\\n\")\n",
    "    for item in final_list:\n",
    "        result = data[item]\n",
    "        if type(data[item]) == list:\n",
    "            result = \"\\t\".join(map(str,result))\n",
    "\n",
    "        item = re.sub(r'^.+\\.', '', item)\n",
    "        line = \"{}\\t{}\\n\".format(item, result)\n",
    "        print(line.strip())\n",
    "        outF.write(line)\n",
    "        \n"
   ]
  },
  {
   "cell_type": "markdown",
   "metadata": {},
   "source": [
    "# Genotype PCA (deprecated)\n",
    "See GitHub issues [163](https://github.com/RTIInternational/bioinformatics/issues/163) and [172](https://github.com/RTIInternational/bioinformatics/issues/172).\n",
    "\n",
    "QCed genotype data for both AFR and EUR on AWS S3 at:\n",
    "`s3://rti-cannabis/shared_data/post_qc/gulf/genotype/array/observed/0001/final/`\n",
    "\n",
    "Phenotype data:\n",
    "``"
   ]
  },
  {
   "cell_type": "markdown",
   "metadata": {},
   "source": [
    "## Download data"
   ]
  },
  {
   "cell_type": "code",
   "execution_count": null,
   "metadata": {},
   "outputs": [],
   "source": [
    "mkdir -p ~/rti-cannabis/shared_data/post_qc/gulf/genotype/array/observed/0001/final/\n",
    "cd /shared/rti-cannabis/shared_data/post_qc/gulf/genotype/array/observed/0001/final/\n",
    "aws s3 sync s3://rti-cannabis/shared_data/post_qc/gulf/genotype/array/observed/0001/final/ .\n",
    "gunzip */*z\n",
    "\n",
    "\n",
    "mkdir -p /shared/rti-cannabis/shared_data/post_qc/gulf/phenotype\n",
    "cd /shared/rti-cannabis/shared_data/post_qc/gulf/phenotype\n",
    "\n",
    "aws s3 cp s3://rti-cannabis/shared_data/post_qc/gulf/phenotype/pheno_sv_cellCounts_GuLF.csv .\n",
    "head pheno_sv_cellCounts_GuLF.csv\n",
    "#id,Sample_ID,SentrixBarcode_A,SentrixPosition_A,Sample_Plate,Sample_Well,Sample_Group,Gender,Sample_Name,Replicate,Parent1,Parent2,EN_GENDER,EN_RACE2,EN_BMICALC,EN_LIFEDRINK,EN_DRINKSWEEK,EN_LIFESMOKE,EN_LIFESMOKEQTY,EN_PACKYRS2,HV_BMI,HV_PASSIVE,HV_CIGS24,HV_DRINKS24,HV_OPIOID,EverMarijuana,CurrMarijuana,EverHeroin,CurrHeroin,EverPainkillers,CurrPainkillers,CE_OPIOID,BLOOD_DRAW_AGE,sv1,sv2,sv3,sv4,Bcell,CD4T,CD8T,Mono,Neu,NK\n",
    "#203027380022_R01C01,SC574043_PC32492_A11,203027380022,R01C01,WG4943723-BCD,A11,sGULF-001,M,BCE159635 011,,NA,NA,1,1,36.4878892733564,2,NA,2,3,35.8333333333333,39.0268382352941,0,NA,NA,NA,1,0,0,NA,0,NA,NA,19807,16315.8662724727,-4607.37322334555,9605.4989058593,-1235.47901483257,0.101929848325403,0.179760862486292,0.0773548282663713,0.08165789968592,0.477967356197342,0.0808253363471723    "
   ]
  },
  {
   "cell_type": "markdown",
   "metadata": {},
   "source": [
    "## PCA (eigenstrat)"
   ]
  },
  {
   "cell_type": "code",
   "execution_count": null,
   "metadata": {},
   "outputs": [],
   "source": [
    "# rename files for the PCA script\n",
    "cd /shared/rti-cannabis/shared_data/post_qc/gulf/genotype/array/observed/0001/final/\n",
    "for an in {afr,eur}; do\n",
    "    for ext in {bed,bim,fam}; do\n",
    "        mv $an/gulf.$ext $an/gulf_${an}_genotypes.$ext\n",
    "    done\n",
    "done"
   ]
  },
  {
   "cell_type": "code",
   "execution_count": null,
   "metadata": {},
   "outputs": [],
   "source": [
    "#!/bin/bash\n",
    "\n",
    "## This script performs a PCA using the EIGENSTRAT, a software tool\n",
    "## that applies a stratification correction method (Price et al. 2006).\n",
    "## INPUT: PLINK genotype files\n",
    "## OUTPUT: PCA results (in the $procD/$ancestry/eig/results/ directory)\n",
    "\n",
    "## The genotype data names should be of the form: \n",
    "## ${study}_${ancestry}_genotype.{bed,bim,fam}. \n",
    "## For Example:\n",
    "## wihs2_afr_genotypes.bed, wihs2_afr_genotypes.bim, wihs2_afr_genotypes.fam\n",
    "## The FAM file should have case control information in column 6 if applicable\n",
    "\n",
    "## Set global variables ##\n",
    "anlist=\"afr eur\" # space separated ancestries example: \"afr eur\"\n",
    "study=\"gulf\" # study name (should match genotype file name)\n",
    "procD=\"/shared/rti-cannabis/shared_data/post_qc/gulf/genotype/array/observed/0001/final\"  # base processing directory. Genotype files should be in $procD/$ancestry/\n",
    "\n",
    "\n",
    "\n",
    "\n",
    "# Do not edit below this line\n",
    "################################################################################\n",
    "################################################################################\n",
    "\n",
    "## Remove high-LD region variants ##\n",
    "for an in $anlist; do\n",
    "\tmkdir -p $procD/$an/eig/results/\n",
    "\n",
    "    perl -lane 'if (($F[0]==5 && $F[3] >= 43964243 && $F[3] <= 51464243) || ($F[0]==6 && $F[3] >= 24892021 && $F[3] <= 33392022) || ($F[0]==8 && $F[3] >= 7962590 && $F[3] <= 11962591) || ($F[0]==11 && $F[3] >= 45043424 && $F[3] <= 57243424)) { print $F[1].\"\\n\"; }' \\\n",
    "        $procD/$an/${study}_${an}_genotypes.bim > $procD/$an/eig/${study}_${an}_genotypes_high_ld_regions.remove\n",
    "\n",
    "    # Remove SNPs in known high-LD regions\n",
    "    /shared/bioinformatics/software/third_party/plink-1.90-beta-4.10-x86_64/plink \\\n",
    "        --noweb \\\n",
    "        --bfile $procD/$an/${study}_${an}_genotypes \\\n",
    "        --exclude $procD/$an/eig/${study}_${an}_genotypes_high_ld_regions.remove \\\n",
    "        --make-bed \\\n",
    "        --out $procD/$an/eig/${study}_${an}_genotypes_high_ld_regions_removed\n",
    "done\n",
    "\n",
    "## Linkage disequilibrium pruning ##\n",
    "for an in $anlist;do\n",
    "    for chr in {1..22}; do\n",
    "        /shared/bioinformatics/software/third_party/plink-1.90-beta-4.10-x86_64/plink \\\n",
    "            --noweb \\\n",
    "            --memory 3000 \\\n",
    "            --bfile $procD/$an/eig/${study}_${an}_genotypes_high_ld_regions_removed \\\n",
    "            --indep-pairwise 1500 150 0.2 \\\n",
    "            --chr ${chr} \\\n",
    "            --out $procD/$an/eig/${an}_chr${chr}_ld_pruned\n",
    "    done\n",
    "done\n",
    "\n",
    "## Merge *prune.in files ##\n",
    "for an in $anlist; do\n",
    "    cat $procD/$an/eig/${an}_chr*_ld_pruned.prune.in > $procD/$an/eig/${an}_chr_all_ld_pruned.prune.in\n",
    "\n",
    "    # Create new PLINK filesets with only lD pruned variants\n",
    "    /shared/bioinformatics/software/third_party/plink-1.90-beta-4.10-x86_64/plink \\\n",
    "        --noweb \\\n",
    "        --bfile $procD/$an/eig/${study}_${an}_genotypes_high_ld_regions_removed \\\n",
    "        --extract $procD/$an/eig/${an}_chr_all_ld_pruned.prune.in \\\n",
    "        --make-bed \\\n",
    "        --out $procD/$an/eig/${study}_${an}_genotypes_ld_pruned\n",
    "done\n",
    "\n",
    "# Clean up\n",
    "rm $procD/*/*ld_pruned.{prune.in,prune.out,log}\n",
    "rm $procD/*/*ld_prune*qsub*\n",
    "rm $procD/*/*high_ld_regions*\n",
    "rm $procD/*/*nosex\n",
    "\n",
    "\n",
    "## Rename BIM/FAM file IDs ##\n",
    "for an in $anlist;do\n",
    "    # Rename FAM file IDs\n",
    "    awk '{$1=\"ID_\"NR; $2=\"ID_\"NR; print $0}' $procD/$an/eig/${study}_${an}_genotypes_ld_pruned.fam \\\n",
    "        > $procD/$an/eig/${study}_${an}_genotypes_ld_pruned_renamed.fam\n",
    "\n",
    "    ## Rename BIM file IDs ##\n",
    "    awk '{$2=\"ID_\"NR; print $0}' $procD/$an/eig/${study}_${an}_genotypes_ld_pruned.bim \\\n",
    "        > $procD/$an/eig/${study}_${an}_genotypes_ld_pruned_renamed.bim\n",
    "done\n",
    "\n",
    "## run eigenstrat ##\n",
    "for an in $anlist; do\n",
    "    famfile=\"$procD/$an/eig/${study}_${an}_genotypes_ld_pruned_renamed.fam\"\n",
    "    bimfile=\"$procD/$an/eig/${study}_${an}_genotypes_ld_pruned_renamed.bim\"\n",
    "    bedfile=\"$procD/$an/eig/${study}_${an}_genotypes_ld_pruned.bed\"\n",
    "\n",
    "    /shared/bioinformatics/software/third_party/EIG-6.1.4/bin/smartpca.perl \\\n",
    "        -i $bedfile \\\n",
    "        -a $bimfile \\\n",
    "        -b $famfile \\\n",
    "        -o $procD/$an/eig/results/${an}_ld_pruned.pca \\\n",
    "        -p $procD/$an/eig/results/${an}_ld_pruned.plot \\\n",
    "        -e $procD/$an/eig/results/${an}_ld_pruned.eval \\\n",
    "        -l $procD/$an/eig/results/${an}_ld_pruned.pca.log \\\n",
    "        -m 0\n",
    "\n",
    "#    famfile=\"/data/${study}_${an}_genotypes_ld_pruned_renamed.fam\"\n",
    "#    bimfile=\"/data/${study}_${an}_genotypes_ld_pruned_renamed.bim\"\n",
    "#    bedfile=\"/data/${study}_${an}_genotypes_ld_pruned.bed\"\n",
    "#\n",
    "#\tdocker run -v \"$procD/$an/eig/\" jessemarks/eigensoft:6.1.4 smartpca.perl \\\n",
    "#        -i $bedfile \\\n",
    "#        -a $bimfile \\\n",
    "#        -b $famfile \\\n",
    "#        -o /data/results/${an}_ld_pruned.pca \\\n",
    "#        -p /data/results/${an}_ld_pruned.plot \\\n",
    "#        -e /data/results/${an}_ld_pruned.eval \\\n",
    "#        -l /data/results/${an}_ld_pruned.pca.log \\\n",
    "#        -m 0\n",
    "\t\t\n",
    "done\n",
    "\n",
    "## Extract eigenvectors (top 10 PCs) ##\n",
    "for an in $anlist; do\n",
    "    echo \"FID IID EV1 EV2 EV3 EV4 EV5 EV6 EV7 EV8 EV9 EV10\" > $procD/$an/eig/results/${an}_ld_pruned_top10_eigenvecs.txt\n",
    "    tail -n +2 $procD/$an/eig/results/${an}_ld_pruned.pca.evec | \\\n",
    "        perl -lne 's/:/ /; @F=split; print join(\" \",$F[0],$F[1],$F[2],$F[3],$F[4],$F[5],$F[6],$F[7],$F[8],$F[9],$F[10],$F[11]);' \\\n",
    "        >> $procD/$an/eig/results/${an}_ld_pruned_top10_eigenvecs.txt\n",
    "done\n",
    "\n",
    "\n",
    "## Next produce PCA plots"
   ]
  },
  {
   "cell_type": "code",
   "execution_count": null,
   "metadata": {},
   "outputs": [],
   "source": [
    "bash gulf_pca.sh"
   ]
  },
  {
   "cell_type": "markdown",
   "metadata": {},
   "source": [
    "# Imputation\n",
    "We need to impute these data. Use the pre-imputation script:<br>\n",
    "https://github.com/RTIInternational/biocloud_docker_tools/tree/master/prepare_imputation_input/v1.0"
   ]
  },
  {
   "cell_type": "markdown",
   "metadata": {},
   "source": [
    "## EUR"
   ]
  },
  {
   "cell_type": "code",
   "execution_count": null,
   "metadata": {},
   "outputs": [],
   "source": [
    "mkdir -p ~/rti-cannabis/shared_data/post_qc/gulf/genotype/array/observed/0001/final/eur/\n",
    "cd ~/rti-cannabis/shared_data/post_qc/gulf/genotype/array/observed/0001/final/eur/\n",
    "aws s3 sync s3://rti-cannabis/shared_data/post_qc/gulf/genotype/array/observed/0001/final/eur/ .\n",
    "gunzip *\n",
    "    \n",
    "\n",
    "# download legend files\n",
    "mkdir -p rti-common/ref_panels/1000G/2014.10/legend_with_chr/dbsnp_b153_ids/\n",
    "cd rti-common/ref_panels/1000G/2014.10/legend_with_chr/dbsnp_b153_ids/\n",
    "aws s3 cp s3://rti-common/ref_panels/1000G/2014.10/legend_with_chr/dbsnp_b153_ids/1000GP_Phase3.legend.gz .\n",
    "cd -\n",
    "mkdir results/\n",
    "    \n",
    "# apply pre-imputation filters and format conversion    \n",
    "study=gulf\n",
    "group=EUR\n",
    "docker run -v $PWD:/data/ rtibiocloud/prepare_imputation_input:v1.0_5a37578 \\\n",
    "python3 /opt/prepare_imputation_input.py \\\n",
    "  --bfile /data/$study \\\n",
    "  --ref /data/rti-common/ref_panels/1000G/2014.10/legend_with_chr/dbsnp_b153_ids/1000GP_Phase3.legend.gz \\\n",
    "  --ref_group $group \\\n",
    "  --freq_diff_threshold 0.2 \\\n",
    "  --out_prefix /data/results/${study}_imputation_ready \\\n",
    "  --working_dir /data/results \\\n",
    "  --plink /opt/plink \\\n",
    "  --bgzip /opt/bgzip \\\n",
    "  --bgzip_threads 4 \\\n",
    "  --cohort $study\n",
    "  #--keep_plink True \\\n",
    "\n",
    "# upload to S3\n",
    "cd results/\n",
    "aws s3 sync . \\\n",
    "    s3://rti-cannabis/shared_data/post_qc/gulf/genotype/array/imputed/minimac4_eagle2.4/topmed_r2/eur/0001/input/"
   ]
  },
  {
   "cell_type": "markdown",
   "metadata": {},
   "source": [
    "### download data\n",
    "Use the RTI sandbox -- it has a ton of storage."
   ]
  },
  {
   "cell_type": "code",
   "execution_count": null,
   "metadata": {},
   "outputs": [],
   "source": [
    "\n",
    "mkdir -p ~/rti-cannabis/shared_data/post_qc/gulf/genotype/array/imputed/minimac4_eagle2.4/topmed_r2/eur/0001/output/\n",
    "cd ~/rti-cannabis/shared_data/post_qc/gulf/genotype/array/imputed/minimac4_eagle2.4/topmed_r2/eur/0001/output/\n",
    "\n",
    "# qc-control report\n",
    "curl -sL https://imputation.biodatacatalyst.nhlbi.nih.gov/get/505373/4e0326efadd65b53938b9281f41fc2fda6f789c0413d2d8fa288a2d2a4a9fcca | bash \n",
    "    \n",
    "# imputation results    \n",
    "curl -sL https://imputation.biodatacatalyst.nhlbi.nih.gov/get/505379/1aa7dc08af7ab648cdacfef7d1cc180c124fa81531b0dda693443045804f9ce7 | bash\n",
    "    \n",
    "# qc stats \n",
    "curl -sL https://imputation.biodatacatalyst.nhlbi.nih.gov/get/505377/4e79464a5243666c89a10468b1d340f9b87bd37c2513ea4e8411b87753e7f0cf | bash\n",
    "    \n",
    "# logs\n",
    "curl -sL https://imputation.biodatacatalyst.nhlbi.nih.gov/get/505380/b99de2c5dcf2bbcffa7d01d519893ea1f6a8f190f9a199f606e8af86b063048d | bash\n",
    "    \n",
    "# bash script unzip_chroms.sh\n",
    "    \n",
    "#!/bin/bash\n",
    "\n",
    "password=\"a1l4FQhyQWsQr\"\n",
    "for chr in {1..22}; do\n",
    "    file=chr_${chr}.zip\n",
    "    sbatch --wrap \"unzip -P $password $file\"\n",
    "done    \n",
    "\n",
    "\n",
    "# upload to S3\n",
    "aws s3 mv . s3://rti-cannabis/shared_data/post_qc/gulf/genotype/array/imputed/minimac4_eagle2.4/topmed_r2/eur/0001/output/ \\\n",
    "    --recursive"
   ]
  },
  {
   "cell_type": "markdown",
   "metadata": {},
   "source": [
    "## AFR"
   ]
  },
  {
   "cell_type": "code",
   "execution_count": null,
   "metadata": {},
   "outputs": [],
   "source": [
    "mkdir -p ~/rti-cannabis/shared_data/post_qc/gulf/genotype/array/observed/0001/final/afr/\n",
    "cd ~/rti-cannabis/shared_data/post_qc/gulf/genotype/array/observed/0001/final/afr/\n",
    "aws s3 sync s3://rti-cannabis/shared_data/post_qc/gulf/genotype/array/observed/0001/final/afr/ .\n",
    "gunzip *    \n",
    "    \n",
    "    \n",
    "# download legend files\n",
    "mkdir -p rti-common/ref_panels/1000G/2014.10/legend_with_chr/dbsnp_b153_ids/\n",
    "cd rti-common/ref_panels/1000G/2014.10/legend_with_chr/dbsnp_b153_ids/\n",
    "aws s3 cp s3://rti-common/ref_panels/1000G/2014.10/legend_with_chr/dbsnp_b153_ids/1000GP_Phase3.legend.gz .\n",
    "cd -\n",
    "mkdir results/\n",
    "    \n",
    "# apply pre-imputation filters and format conversion    \n",
    "study=gulf\n",
    "group=AFR\n",
    "docker run -v $PWD:/data/ rtibiocloud/prepare_imputation_input:v1.0_5a37578 \\\n",
    "python3 /opt/prepare_imputation_input.py \\\n",
    "  --bfile /data/$study \\\n",
    "  --ref /data/rti-common/ref_panels/1000G/2014.10/legend_with_chr/dbsnp_b153_ids/1000GP_Phase3.legend.gz \\\n",
    "  --ref_group $group \\\n",
    "  --freq_diff_threshold 0.2 \\\n",
    "  --out_prefix /data/results/${study}_imputation_ready \\\n",
    "  --working_dir /data/results \\\n",
    "  --plink /opt/plink \\\n",
    "  --bgzip /opt/bgzip \\\n",
    "  --bgzip_threads 4 \\\n",
    "  --cohort $study\n",
    "  #--keep_plink True \\\n",
    "\n",
    "cd results/\n",
    "aws s3 sync . \\\n",
    "    s3://rti-cannabis/shared_data/post_qc/gulf/genotype/array/imputed/minimac4_eagle2.4/topmed_r2/afr/0001/input/"
   ]
  },
  {
   "cell_type": "markdown",
   "metadata": {},
   "source": [
    "### download data\n",
    "Use the RTI sandbox -- it has a ton of storage.\n",
    "Use Slurm to unzip."
   ]
  },
  {
   "cell_type": "code",
   "execution_count": null,
   "metadata": {},
   "outputs": [],
   "source": [
    "password=\"huZcoPv3XGmvF2\"\n",
    "mkdir -p ~/rti-cannabis/shared_data/post_qc/gulf/genotype/array/imputed/minimac4_eagle2.4/topmed_r2/afr/0001/output/\n",
    "cd ~/rti-cannabis/shared_data/post_qc/gulf/genotype/array/imputed/minimac4_eagle2.4/topmed_r2/afr/0001/output/\n",
    "\n",
    "    \n",
    "# imputation results    \n",
    "curl -sL https://imputation.biodatacatalyst.nhlbi.nih.gov/get/505357/730ef61fe94d4c4473e026c789b5caa4e6fba12aff0101fdae5ee5742899980f | bash\n",
    "    \n",
    "# qc-control report\n",
    "curl -sL https://imputation.biodatacatalyst.nhlbi.nih.gov/get/505351/7af29df258ba29fbd225c9ab4c63f8302220ec9758340a32932c54cde62d99dd | bash\n",
    "    \n",
    "# qc stats \n",
    "curl -sL https://imputation.biodatacatalyst.nhlbi.nih.gov/get/505355/bb750af6eceb8d16292314942bbe063632de80e3b11ecf863db4432ad6bb0b4c | bash\n",
    "    \n",
    "# logs\n",
    "curl -sL https://imputation.biodatacatalyst.nhlbi.nih.gov/get/505358/a06b08770c5433091680f36b336cf6917602447d6b94191afb1755e79817f9c4 | bash\n",
    "    \n",
    "    \n",
    "# bash script test1.sh\n",
    "#!/bin/bash\n",
    "\n",
    "password=\"huZcoPv3XGmvF2\"\n",
    "for chr in {1..22}; do\n",
    "    file=chr_${chr}.zip\n",
    "    sbatch --wrap \"unzip -P $password $file\"\n",
    "done    \n",
    "\n",
    "\n",
    "# upload to S3\n",
    "aws s3 mv . s3://rti-cannabis/shared_data/post_qc/gulf/genotype/array/imputed/minimac4_eagle2.4/topmed_r2/afr/0001/output/ \\\n",
    "    --recursive\n"
   ]
  },
  {
   "cell_type": "markdown",
   "metadata": {},
   "source": [
    "# Genotype PCA"
   ]
  },
  {
   "cell_type": "markdown",
   "metadata": {},
   "source": [
    "## AFR\n",
    "Convert sample IDs in genotype data from IID to id to match the phenotype data. Then filter the genotype data down to only those samples with phenotype data. Then perform PCA."
   ]
  },
  {
   "cell_type": "code",
   "execution_count": null,
   "metadata": {},
   "outputs": [],
   "source": [
    "cd /Users/jmarks/projects/cannabis/shared_data/post_qc/gulf/genotype/array/observed/0001/pca/afr\n",
    "\n",
    "# download genotype data\n",
    "aws s3 sync s3://rti-cannabis/shared_data/post_qc/gulf/genotype/array/observed/0001/final/afr/ .\n",
    "wc -l gulf.fam #  645\n",
    "\n",
    "head -2 *fam\n",
    "#SC573999_PC32990_F11\tSC573999_PC32990_F11\t0\t0\t1\t-9\n",
    "#SC573878_PC32991_H10\tSC573878_PC32991_H10\t0\t0\t1\t-9\n",
    "    \n",
    "# download linking file\n",
    "aws s3 cp s3://rti-cannabis/shared_data/post_qc/gulf/genotype/array/observed/0001/final/gulf_ids_afr.txt .\n",
    "    \n",
    "head -2 gulf_ids_afr.txt    \n",
    "# IID\tSample_Name\tid\n",
    "#SC573774_PC32986_H03\tBCE124593 011\t203027380022_R02C01\n",
    "    \n",
    "# download phenotype file\n",
    "aws s3 cp s3://rti-cannabis/shared_data/post_qc/gulf/phenotype/pheno_aa_GuLF.csv .\n",
    "    \n",
    "# create remove list for samples not in conversion file (and therefore not in phenotype file)\n",
    "awk 'FNR==NR {map[$1] = $4; next} \n",
    "    { if ( ! ( $1 in map ) )\n",
    "    { print $1,$2 }}  ' gulf_ids_afr.txt  gulf.fam  > gulf_afr_samples.remove\n",
    "    \n",
    "wc -l gulf_afr_samples.remove # 12 \n",
    "\n",
    "# create new plink data set by removing those 12 samples\n",
    "docker run -v $PWD:/data/ -i rtibiocloud/plink:v2.0_4d3bad3 plink2 \\\n",
    "        --bfile /data/gulf \\\n",
    "        --remove /data/gulf_afr_samples.remove \\\n",
    "        --make-bed \\\n",
    "        --out /data/gulf_afr_removed_samples_not_in_phenotype\n",
    "    \n",
    "# convert genotype IID to id with the linking file\n",
    "awk 'FNR==NR {map[$1] = $4; next} $1 in map {print map[$1], map[$1], $3, $4, $5, $6}' \\\n",
    "    gulf_ids_afr.txt gulf_afr_removed_samples_not_in_phenotype.fam \\\n",
    "    > gulf_ids_mapped.fam\n",
    "\n",
    "# create new plink data set with updated sample ids\n",
    "docker run -v $PWD:/data/ -i rtibiocloud/plink:v2.0_4d3bad3 plink2 \\\n",
    "        --bed /data/gulf_afr_removed_samples_not_in_phenotype.bed \\\n",
    "        --bim /data/gulf_afr_removed_samples_not_in_phenotype.bim \\\n",
    "        --fam /data/gulf_ids_mapped.fam \\\n",
    "        --make-bed \\\n",
    "        --out /data/gulf_afr_removed_samples_not_in_phenotype_ids_mapped\n",
    "    \n",
    "# quick verification that all the genotype samples are now in the phenotype data\n",
    "cut -f1 gulf_afr_removed_samples_not_in_phenotype_ids_mapped.fam  > tmp.txt\n",
    "grep -f tmp.txt pheno_aa_GuLF.csv | wc -l # 633\n",
    "\n",
    "\n",
    "# upload to s3\n",
    "for ext in {bed,bim,fam}; do\n",
    "    aws s3 cp gulf_afr_removed_samples_not_in_phenotype_ids_mapped.$ext \\\n",
    "    s3://rti-cannabis/shared_data/post_qc/gulf/genotype/array/observed/0001/final/afr/\n",
    "done"
   ]
  },
  {
   "cell_type": "code",
   "execution_count": null,
   "metadata": {},
   "outputs": [],
   "source": [
    "cd /Users/jmarks/projects/cannabis/shared_data/post_qc/gulf/genotype/array/observed/0001/pca/afr\n",
    "git clone --recurse-submodules https://github.com/RTIInternational/biocloud_gwas_workflows\n",
    "cd biocloud_gwas_workflows/genotype_pca/\n",
    "\n",
    "# edit inputs: vim inputs.json\n",
    "\n",
    "# zip dependencies\n",
    "\n",
    "git rev-parse HEAD > git_hash.txt\n",
    "cd ../../\n",
    "zip \\\n",
    "    --exclude=*/var/* \\\n",
    "    --exclude=*.git/* \\\n",
    "    --exclude=*/test/* \\\n",
    "    --exclude=*/.idea/* \\\n",
    "    -r biocloud_gwas_workflows/genotype_pca/biocloud_gwas_workflows.zip \\\n",
    "    biocloud_gwas_workflows/\n",
    "\n",
    "\n",
    "cd biocloud_gwas_workflows/genotype_pca/\n",
    "workD=/Users/jmarks/projects/cannabis/shared_data/post_qc/gulf/genotype/array/observed/0001/pca/afr\n",
    "curl -X POST \"http://localhost:8000/api/workflows/v1\" -H \"accept: application/json\" \\\n",
    "    -F \"workflowSource=@$workD/biocloud_gwas_workflows/genotype_pca/main.wdl\" \\\n",
    "    -F \"workflowInputs=@$workD/biocloud_gwas_workflows/genotype_pca/inputs.json\" \\\n",
    "    -F \"workflowDependencies=@$workD/biocloud_gwas_workflows/genotype_pca/biocloud_gwas_workflows.zip\" \\\n",
    "    -F \"workflowOptions=@/Users/jmarks/bin/cromwell/cannabis_charge_code.json\" > job_id.txt\n",
    "\n",
    "### Record the job ID that prints out upon execution of the above command\n",
    "job=13990744-68c4-4245-93a3-18da1810e804 # afr\n",
    "\n",
    "# check job status in terminal 2\n",
    "curl -X GET \"http://localhost:8000/api/workflows/v1/$job/status\"  "
   ]
  },
  {
   "cell_type": "markdown",
   "metadata": {},
   "source": [
    "## EUR\n",
    "Convert sample IDs in genotype data from IID to id to match the phenotype data. Then filter the genotype data down to only those samples with phenotype data. Then perform PCA.\n"
   ]
  },
  {
   "cell_type": "code",
   "execution_count": null,
   "metadata": {},
   "outputs": [],
   "source": [
    "cd /Users/jmarks/projects/cannabis/shared_data/post_qc/gulf/genotype/array/observed/0001/pca/eur\n",
    "\n",
    "# download genotype data\n",
    "aws s3 sync s3://rti-cannabis/shared_data/post_qc/gulf/genotype/array/observed/0001/final/eur/ .\n",
    "wc -l gulf.fam #  859\n",
    "\n",
    "head -2 *fam\n",
    "# SC573308_PC32990_F08\tSC573308_PC32990_F08\t0\t0\t1\t-9\n",
    "#SC572811_PC32991_F11\tSC572811_PC32991_F11\t0\t0\t1\t-9\n",
    "    \n",
    "# download linking file\n",
    "aws s3 cp s3://rti-cannabis/shared_data/post_qc/gulf/genotype/array/observed/0001/final/gulf_ids_eur.txt .\n",
    "    \n",
    "head -2 gulf_ids_eur.txt    \n",
    "# IID\tSample_Name\tid\n",
    "SC574043_PC32990_E06\tBCE159635 011\t203027380022_R01C01\n",
    "    \n",
    "# download phenotype file\n",
    "aws s3 cp s3://rti-cannabis/shared_data/post_qc/gulf/phenotype/pheno_ea_GuLF.csv .\n",
    "    \n",
    "# create remove list for samples not in conversion file (and therefore not in phenotype file)\n",
    "awk 'FNR==NR {map[$1] = $4; next} \n",
    "    { if ( ! ( $1 in map ) )\n",
    "    { print $1,$2 }}  ' gulf_ids_eur.txt  gulf.fam  > gulf_eur_samples.remove\n",
    "    \n",
    "wc -l gulf_eur_samples.remove # 13\n",
    "\n",
    "# create new plink data set by removing those 13 samples\n",
    "docker run -v $PWD:/data/ -i rtibiocloud/plink:v2.0_4d3bad3 plink2 \\\n",
    "        --bfile /data/gulf \\\n",
    "        --remove /data/gulf_eur_samples.remove \\\n",
    "        --make-bed \\\n",
    "        --out /data/gulf_eur_removed_samples_not_in_phenotype\n",
    "    \n",
    "# convert genotype IID to id with the linking file\n",
    "awk 'FNR==NR {map[$1] = $4; next} $1 in map {print map[$1], map[$1], $3, $4, $5, $6}' \\\n",
    "    gulf_ids_eur.txt gulf_eur_removed_samples_not_in_phenotype.fam \\\n",
    "    > gulf_ids_mapped.fam\n",
    "\n",
    "# create new plink data set with updated sample ids\n",
    "docker run -v $PWD:/data/ -i rtibiocloud/plink:v2.0_4d3bad3 plink2 \\\n",
    "        --bed /data/gulf_eur_removed_samples_not_in_phenotype.bed \\\n",
    "        --bim /data/gulf_eur_removed_samples_not_in_phenotype.bim \\\n",
    "        --fam /data/gulf_ids_mapped.fam \\\n",
    "        --make-bed \\\n",
    "        --out /data/gulf_eur_removed_samples_not_in_phenotype_ids_mapped\n",
    "    \n",
    "# quick verification that all the genotype samples are now in the phenotype data\n",
    "cut -f1 gulf_eur_removed_samples_not_in_phenotype_ids_mapped.fam  > tmp.txt\n",
    "grep -f tmp.txt pheno_ea_GuLF.csv | wc -l # 846\n",
    "\n",
    "\n",
    "# upload to s3\n",
    "for ext in {bed,bim,fam}; do\n",
    "    aws s3 cp gulf_eur_removed_samples_not_in_phenotype_ids_mapped.$ext \\\n",
    "    s3://rti-cannabis/shared_data/post_qc/gulf/genotype/array/observed/0001/final/eur/\n",
    "done"
   ]
  },
  {
   "cell_type": "code",
   "execution_count": null,
   "metadata": {},
   "outputs": [],
   "source": [
    "cd /Users/jmarks/projects/cannabis/shared_data/post_qc/gulf/genotype/array/observed/0001/pca/eur\n",
    "aws s3 cp s3://rti-cannabis/shared_data/post_qc/gulf/phenotype/pheno_ea_GuLF.csv\n",
    "git clone --recurse-submodules https://github.com/RTIInternational/biocloud_gwas_workflows\n",
    "cd biocloud_gwas_workflows/genotype_pca/\n",
    "\n",
    "# edit inputs: vim inputs.json\n",
    "\n",
    "# zip dependencies\n",
    "\n",
    "git rev-parse HEAD > git_hash.txt\n",
    "cd ../../\n",
    "zip \\\n",
    "    --exclude=*/var/* \\\n",
    "    --exclude=*.git/* \\\n",
    "    --exclude=*/test/* \\\n",
    "    --exclude=*/.idea/* \\\n",
    "    -r biocloud_gwas_workflows/genotype_pca/biocloud_gwas_workflows.zip \\\n",
    "    biocloud_gwas_workflows/\n",
    "\n",
    "\n",
    "cd biocloud_gwas_workflows/genotype_pca/\n",
    "workD=/Users/jmarks/projects/cannabis/shared_data/post_qc/gulf/genotype/array/observed/0001/pca/eur\n",
    "curl -X POST \"http://localhost:8000/api/workflows/v1\" -H \"accept: application/json\" \\\n",
    "    -F \"workflowSource=@$workD/biocloud_gwas_workflows/genotype_pca/main.wdl\" \\\n",
    "    -F \"workflowInputs=@$workD/biocloud_gwas_workflows/genotype_pca/inputs.json\" \\\n",
    "    -F \"workflowDependencies=@$workD/biocloud_gwas_workflows/genotype_pca/biocloud_gwas_workflows.zip\" \\\n",
    "    -F \"workflowOptions=@/Users/jmarks/bin/cromwell/cannabis_charge_code.json\" > job_id.txt\n",
    "\n",
    "### Record the job ID that prints out upon execution of the above command\n",
    "job=6cb34fab-0f21-400a-b10b-7c9a025422fd # eur\n",
    "\n",
    "# check job status in terminal 2\n",
    "curl -X GET \"http://localhost:8000/api/workflows/v1/$job/status\"  "
   ]
  },
  {
   "cell_type": "code",
   "execution_count": null,
   "metadata": {},
   "outputs": [],
   "source": []
  },
  {
   "cell_type": "code",
   "execution_count": null,
   "metadata": {},
   "outputs": [],
   "source": []
  },
  {
   "cell_type": "code",
   "execution_count": null,
   "metadata": {},
   "outputs": [],
   "source": []
  },
  {
   "cell_type": "code",
   "execution_count": null,
   "metadata": {},
   "outputs": [],
   "source": []
  },
  {
   "cell_type": "code",
   "execution_count": null,
   "metadata": {},
   "outputs": [],
   "source": []
  },
  {
   "cell_type": "code",
   "execution_count": null,
   "metadata": {},
   "outputs": [],
   "source": []
  }
 ],
 "metadata": {
  "kernelspec": {
   "display_name": "Python 3",
   "language": "python",
   "name": "python3"
  },
  "language_info": {
   "codemirror_mode": {
    "name": "ipython",
    "version": 3
   },
   "file_extension": ".py",
   "mimetype": "text/x-python",
   "name": "python",
   "nbconvert_exporter": "python",
   "pygments_lexer": "ipython3",
   "version": "3.9.4"
  }
 },
 "nbformat": 4,
 "nbformat_minor": 4
}
