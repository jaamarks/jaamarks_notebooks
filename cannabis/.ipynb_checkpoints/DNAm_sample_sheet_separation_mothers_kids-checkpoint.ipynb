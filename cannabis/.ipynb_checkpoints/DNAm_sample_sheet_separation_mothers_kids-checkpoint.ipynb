{
 "cells": [
  {
   "cell_type": "markdown",
   "id": "56edb63b",
   "metadata": {},
   "source": [
    "# Overall DNAm data\n",
    "**S3 locations**\n",
    "* s3://rti-cannabis/shared_data/raw_data/alspac/dnam_450_g0m_g1/version1/samplesheet/data.Robj\n",
    "* s3://rti-cannabis/shared_data/raw_data/alspac/B3176_datasetids.csv\n",
    "\n",
    "The `B3176_datasetids.csv` file is a linking file. It links the IDs across different data types. We want to convert the DNAm and phenotype data to a consistent ID, so we will convert everything to the cidB3176 format.\n",
    "\n",
    "The `samplesheet.Robj` is an R object that contains information for converting the Sample_Name to the ALN. We then convert the ALN to cidB3176 using the linking file. The linking chain looks like this then:\n",
    "\n",
    "`Sample_Name --> ALN == dnam_450_g0m_g1 --> cidB3176`\n",
    "\n",
    "The ALN from the samplesheet corresponds to the dnam_450_g0m_g1 in the linking file. \n",
    "\n",
    "Now the issue is that multiple samples from Sample_Name in `samplesheet.Robj` map to the same ALN. For example, the Sample_Name SLIDE210_R04C02, SLIDE281_R01C01, SLIDE78_R06C02, SLIDE184_R03C02, and SLIDE290_R05C01 all map to the ALN 45554. Even though they are all distinct samples.\n",
    "```\n",
    "Sample_Name ALN QLET Slide sentrix_row sentrix_col time_code time_point Sex BCD_plate sample_type additive age duplicate.rm genotypeQCkids genotypeQCmums\n",
    "SLIDE210_R04C02 45554 A SLIDE210 04 02 F17 15up M PLATE110 whitecells EDTA 17.9166666666667 NA Y NA\n",
    "SLIDE281_R01C01 45554 A SLIDE281 01 01 F7 F7 M PLATE115 whitecells EDTA 7.41666666666667 NA Y NA\n",
    "SLIDE78_R06C02 45554 M SLIDE78 06 02 TF1-3 FOM F PLATE87 PBL CPDA 40.55578371 NA NA Y\n",
    "SLIDE184_R03C02 45554 M SLIDE184 03 02 antenatal antenatal F PLATE70 wholeblood EDTA 25 NA NA Y\n",
    "SLIDE290_R05C01 45554 A SLIDE290 05 01 cord cord M PLATE109 whitecells heparin NA NA Y NA\n",
    "```\n",
    "\n",
    "We can see the difference in these samples when we look at the time_code:\n",
    "```\n",
    "time_code\n",
    "F17\n",
    "F7\n",
    "TF1-3\n",
    "antenatal\n",
    "cord\n",
    "```\n",
    "\n",
    "For our EWAS analyses, we are interested in the mothers TF1–3 (~42.9yrs) & FOM (~47.8yrs), and the children 15yrs (TF3) & 17yrs (F17).\n",
    "\n",
    "So for the above samples, we would split the samplesheet up by mothers and children:\n",
    "**Mothers**\n",
    "```\n",
    "SLIDE78_R06C02 45554 M SLIDE78 06 02 TF1-3 FOM F PLATE87 PBL CPDA 40.55578371 NA NA Y\n",
    "```\n",
    "\n",
    "**Children**\n",
    "```\n",
    "SLIDE210_R04C02 45554 A SLIDE210 04 02 F17 15up M PLATE110 whitecells EDTA 17.9166666666667 NA Y NA\n",
    "```"
   ]
  },
  {
   "cell_type": "code",
   "execution_count": null,
   "id": "f7037a85-84df-4962-97ca-1bc70f649142",
   "metadata": {},
   "outputs": [],
   "source": [
    "head(samplesheet)\n",
    "#     Sample_Name   ALN QLET    Slide sentrix_row sentrix_col time_code time_point Sex BCD_plate sample_type additive age duplicate.rm genotypeQCkids genotypeQCmums\n",
    "#4874 SLIDE210_R04C02 45554    A SLIDE210          04          02       F17   15up   M  PLATE110  whitecells     EDTA 17.91667         <NA>              Y           <NA>\n",
    "#5266 SLIDE380_R02C01 36465    M SLIDE380          02          01     TF1-3  FOM   F   PLATE87         PBL     CPDA 43.92608         <NA>          <NA>              Y\n",
    "\n",
    "head B3176_datasetids.csv\n",
    "#gwa_660_g0m,gwa_550_g1,gi_1000g_g0m_g1,gi_hrc_g0m_g1,dnam_450_g0m_g1,cidB3176\n",
    "#54406,30734,36464,42623,35599,18110\n",
    "#42102,38724,51506,41542,52612,7438"
   ]
  },
  {
   "cell_type": "code",
   "execution_count": null,
   "id": "a397d3ac",
   "metadata": {},
   "outputs": [],
   "source": [
    "# load in DNAm data sample sheet\n",
    "load(\"samplesheet.Robj\")\n",
    "\n",
    "#Remove duplicate and population stratification samples \n",
    "sample.rm<-which(samplesheet$duplicate.rm==\"Remove\"|samplesheet$genotypeQCkids==\"ETHNICITY\"|samplesheet$genotypeQCkids==\"HZT;ETHNICITY\"|samplesheet$genotypeQCmums==\"/strat\")\n",
    "\n",
    "#261 samples are removed\n",
    "length(sample.rm)\n",
    "# 261\n",
    "\n",
    "samplesheet_filtered<-samplesheet[-sample.rm,]\n",
    "dim(samplesheet_filtered) # 4593\n"
   ]
  },
  {
   "cell_type": "code",
   "execution_count": null,
   "id": "f8eb1f6b",
   "metadata": {},
   "outputs": [],
   "source": [
    "# linking IDs\n",
    "linking <- read.csv(\"B3176_datasetids.csv\")\n",
    "head(linking)"
   ]
  },
  {
   "cell_type": "code",
   "execution_count": null,
   "id": "521e2560",
   "metadata": {},
   "outputs": [],
   "source": [
    "# derived surrogate variables using control probes\n",
    "svs <- read.table(\"alspac_control_probe_sva.txt\",header=T,stringsAsFactors=F)\n",
    "head(svs)"
   ]
  },
  {
   "cell_type": "code",
   "execution_count": null,
   "id": "414056f5",
   "metadata": {},
   "outputs": [],
   "source": [
    "# derived cell type proportions using Houseman method\n",
    "cellCounts <- read.table(\"cellCounts.data.txt\",header=T,stringsAsFactors=F)\n",
    "head(cellCounts)"
   ]
  },
  {
   "cell_type": "markdown",
   "id": "8f01d6c5",
   "metadata": {},
   "source": [
    "# DNAm data for mothers"
   ]
  },
  {
   "cell_type": "code",
   "execution_count": null,
   "id": "4f0bd699",
   "metadata": {},
   "outputs": [],
   "source": [
    "# making subset of mothers from only two time points: TF1-3 and FOM\n",
    "mothers <- samplesheet_filtered[which(samplesheet_filtered$QLET==\"M\" & \n",
    "                         (samplesheet_filtered$time_code==\"TF1-3\" | samplesheet_filtered$time_code==\"FOM\")),]\n",
    "dim(mothers)\n",
    "# [1] 947  16\n",
    "sum(duplicated(mothers$ALN))\n",
    "# [1] 0\n"
   ]
  },
  {
   "cell_type": "code",
   "execution_count": null,
   "id": "ea6b78ab",
   "metadata": {},
   "outputs": [],
   "source": [
    "# Get SVs for mother samples\n",
    "mothers_svs <- merge(svs,mothers,by=\"Sample_Name\")\n",
    "head(mothers_svs)\n",
    "sum(is.na(mothers_svs$ALN))\n",
    "# [1] 0\n",
    "sum(duplicated(mothers_svs$ALN))\n",
    "# [1] 0\n"
   ]
  },
  {
   "cell_type": "code",
   "execution_count": null,
   "id": "2d264f71",
   "metadata": {},
   "outputs": [],
   "source": [
    "# Get cell counts for mother samples\n",
    "mothers_svs_cellCounts <- merge(mothers_svs,cellCounts,by=\"Sample_Name\")\n",
    "dim(mothers_svs_cellCounts)\n",
    "sum(duplicated(mothers_svs_cellCounts$ALN))\n",
    "mothers_svs_cellCounts$cidB3176 <- linking$cidB3176[match(mothers_svs_cellCounts$ALN,linking$dnam_450_g0m_g1)]\n",
    "dim(mothers_svs_cellCounts)\n",
    "# [1] 947  29\n"
   ]
  },
  {
   "cell_type": "code",
   "execution_count": null,
   "id": "df9dfc6b",
   "metadata": {},
   "outputs": [],
   "source": [
    "write.table(mothers_svs_cellCounts,file=\"alspac_mothers_samplesheet_svs_cellCounts.txt\",quote=F,row.names=F)"
   ]
  },
  {
   "cell_type": "markdown",
   "id": "931f52b5",
   "metadata": {},
   "source": [
    "# DNAm data for kids (F15 and F17)"
   ]
  },
  {
   "cell_type": "code",
   "execution_count": null,
   "id": "1e8911c2",
   "metadata": {},
   "outputs": [],
   "source": [
    "# making subset of teenager kids from only two time points: TF3 and F17\n",
    "kids <- samplesheet_filtered[which(samplesheet_filtered$QLET!=\"M\" & \n",
    "                         (samplesheet_filtered$time_code==\"TF3\" | samplesheet_filtered$time_code==\"F17\")),]\n",
    "sum(duplicated(kids$ALN))\n",
    "# [1] 2\n",
    "table(kids$QLET)\n",
    "#   A   B   M\n",
    "# 923   2   0\n",
    "# needs to take care of the two pairs of twins"
   ]
  },
  {
   "cell_type": "code",
   "execution_count": null,
   "id": "fe2791ba",
   "metadata": {},
   "outputs": [],
   "source": [
    "# Get SVs for kid samples\n",
    "kids_svs <- merge(svs,kids,by=\"Sample_Name\")\n",
    "head(kids_svs)\n",
    "sum(is.na(kids_svs$ALN))\n",
    "# [1] 0\n",
    "sum(duplicated(kids_svs$ALN))\n",
    "# [1] 2\n"
   ]
  },
  {
   "cell_type": "code",
   "execution_count": null,
   "id": "da4ee32a",
   "metadata": {},
   "outputs": [],
   "source": [
    "# Get cell counts for mother samples\n",
    "kids_svs_cellCounts <- merge(kids_svs,cellCounts,by=\"Sample_Name\")\n",
    "dim(kids_svs_cellCounts)\n",
    "sum(duplicated(kids_svs_cellCounts$ALN))\n",
    "# [1] 2\n",
    "kids_svs_cellCounts$cidB3176 <- linking$cidB3176[match(kids_svs_cellCounts$ALN,linking$dnam_450_g0m_g1)]\n",
    "dim(kids_svs_cellCounts)\n",
    "# [1] 925  29\n",
    "table(kids_svs_cellCounts$QLET)\n",
    "\n",
    "#   A   B   M\n",
    "# 923   2   0\n",
    "# Remember to check QLET when merging with phenotype data"
   ]
  },
  {
   "cell_type": "code",
   "execution_count": null,
   "id": "af6a7c95",
   "metadata": {},
   "outputs": [],
   "source": [
    "write.table(kids_svs_cellCounts,file=\"alspac_kids_samplesheet_svs_cellCounts.txt\",quote=F,row.names=F)"
   ]
  },
  {
   "cell_type": "markdown",
   "id": "4a3b69c8-342f-419c-96ec-17a62bb94b74",
   "metadata": {},
   "source": [
    "# cidB3176 to Sample_Name\n",
    "I think it will be simpler to convert the cidB3176 sample names in the phenotype files to Sample_Name format. Sample_Name format is what the DNAm data are already in as well as the cell type proportions and SVs from the SVA, so it would be most straightforward. Less chance of messing the preprocessing up.\n",
    "\n",
    "\n",
    "Note that it appears that there are actually some legitimate duplicates in the data. For example, there are 16 instances of mothers data with duplicates. I will keep one from each pair of duplicates--the one that does not say remove."
   ]
  },
  {
   "cell_type": "code",
   "execution_count": null,
   "id": "10e1f6f0-e86f-456f-bb0f-b049cade72f1",
   "metadata": {},
   "outputs": [],
   "source": [
    "### R\n",
    "# update the phenotype file sample IDs from cidB3176 to Sample_Name\n",
    "mothers_pheno <- read.csv(\"pheno_mothers_combined_FOM_TF1_3_n977_ewas.txt\", sep = \" \")\n",
    "linking_file <- read.csv(\"/home/ec2-user/rti-cannabis/shared_data/raw_data/alspac/B3176_datasetids.csv\")\n",
    "load(\"~/rti-cannabis/shared_data/raw_data/alspac/dnam_450_g0m_g1/version1/samplesheet/data.Robj\")\n",
    "\n",
    "dim(mothers_pheno) # 977 x 7\n",
    "dim(linking_file) # 21506 x 6\n",
    "dim(samplesheet) # 4854 x 16\n",
    "\n",
    "# keep only mothers in TF1-3 and FOM\n",
    "samplesheet_mothers <-  samplesheet[which(samplesheet$time_code == \"TF1-3\" | \n",
    "                                          samplesheet$time_code == \"FOM\"),]\n",
    "dim(samplesheet_mothers) # 992 x 16\n",
    "\n",
    "# Remove duplicate and population stratification samples \n",
    "sample.rm <- which(samplesheet_mothers$duplicate.rm==\"Remove\" | \n",
    "                   samplesheet_mothers$genotypeQCkids == \"ETHNICITY\" | \n",
    "                   samplesheet_mothers$genotypeQCkids==\"HZT;ETHNICITY\"|\n",
    "                   samplesheet_mothers$genotypeQCmums==\"/strat\" )\n",
    "\n",
    "samplesheet_mothers <- samplesheet_mothers[-sample.rm, ]                                     \n",
    "\n",
    "dim(samplesheet_mothers) # 947 x 16\n",
    "\n",
    "# remove duplicated cidB3176 IDs from phenotype file\n",
    "remove_dups <- which(duplicated(mothers_pheno$cidB3176))\n",
    "mothers_pheno <- mothers_pheno[-remove_dups, ]\n",
    "\n",
    "dim(mothers_pheno) # 975 x 7\n",
    "\n",
    "# add ALN IDs to the phenotype file from the linking file (ALN == dnam_450_g0m_g1)\n",
    "mothers_pheno$ALN <- linking_file$dnam_450_g0m_g1[match(mothers_pheno$cidB3176, linking_file$cidB3176)]\n",
    "\n",
    "# NOTE: there are no duplicated ALNs this time. If there were, we would have to address \n",
    "# them using the \"qlet\" to get the unique Sample_Name\n",
    "which(duplicated(mothers_pheno$ALN)) # integer(0)\n",
    "\n",
    "# remove any mothers from the phenotype file that were not in the curated samplesheet\n",
    "keep <- mothers_pheno$ALN %in% samplesheet_mothers$ALN\n",
    "mothers_pheno <- mothers_pheno[keep,] # 946 x 8\n",
    "\n",
    "# add Sample_Name to the phenotype file\n",
    "mothers_pheno$Sample_Name <- samplesheet_mothers$Sample_Name[match(mothers_pheno$ALN, samplesheet_mothers$ALN)]\n",
    "\n",
    "dim(mothers_pheno) # 946 x 9\n",
    "                            \n",
    "outname = \"/home/ec2-user/rti-cannabis/shared_data/post_qc/alspac/phenotypes/pheno_mothers_combined_FOM_TF1_3_n946_with_sample_name_ids.txt\"\n",
    "write.table(mothers_pheno, outname, quote = F, row.names = F)"
   ]
  },
  {
   "cell_type": "markdown",
   "id": "48a9786d-c19c-4b9c-9457-e710cad4a76f",
   "metadata": {},
   "source": [
    "## Add cell-type proportions and SVs to phenotype files"
   ]
  },
  {
   "cell_type": "code",
   "execution_count": null,
   "id": "c01f28eb-5560-4725-91cd-258297fef14f",
   "metadata": {},
   "outputs": [],
   "source": [
    "### R \n",
    "pheno_mothers <- read.csv(\"/home/ec2-user/rti-cannabis/shared_data/post_qc/alspac/phenotypes/pheno_mothers_combined_FOM_TF1_3_n946_with_sample_name_ids.txt\",\n",
    "                          sep = \" \")\n",
    "cellcounts <- read.csv(\"/home/ec2-user/rti-cannabis/shared_data/raw_data/alspac/dnam_450_g0m_g1/version1/derived/cellcounts/houseman/data.txt\",\n",
    "                      sep = \"\\t\")\n",
    "sv_data <- read.csv(\"/home/ec2-user/rti-cannabis/shared_data/post_qc/alspac/phenotypes/alspac_control_probe_sva.txt\", sep = \" \")\n",
    "\n",
    "dim(cellcounts) # 4854 x 7\n",
    "dim(pheno_mothers) # 946 x 9\n",
    "dim(sv_data) # 4854 x 7\n",
    "\n",
    "# add cellcounts\n",
    "# combine or merge? look at how Fang did it in Gulf study\n",
    "add_cellcounts <- which(cellcounts$Sample_Name %in% pheno_mothers$Sample_Name)\n",
    "cellcounts[add_cellcounts, 1]\n",
    "\n",
    "# attach cell type estimations and SVs to pheno\n",
    "pheno_mothers_cellcounts <- merge(pheno_mothers,cellcounts,by.x=\"Sample_Name\",by.y=\"Sample_Name\")\n",
    "pheno_mothers_cellcounts_svs <- merge(pheno_mothers_cellcounts,sv_data,by.x=\"Sample_Name\",by.y=\"Sample_Name\")\n",
    "\n",
    "# reorder\n",
    "pheno_mothers_cellcounts_svs <- pheno_mothers_cellcounts_svs[, c(1,2,9,3,4,5,6,7,8,10,11,12,13,14,15,16,17,18,19,20,21)]\n",
    "dim(pheno_mothers_cellcounts_svs) # 946 x 21\n",
    "\n",
    "outfile <- \"/home/ec2-user/rti-cannabis/shared_data/post_qc/alspac/phenotypes/pheno_mothers_combined_FOM_TF1_3_n946_ewas_final.txt\"\n",
    "write.table(pheno_mothers_cellcounts_svs, file=outfile, quote=F, row.names=F)"
   ]
  },
  {
   "cell_type": "code",
   "execution_count": null,
   "id": "8a404f43-e318-489e-b8ea-1f70a8c3067f",
   "metadata": {},
   "outputs": [],
   "source": [
    "# upload to s3\n",
    "cd ~/rti-cannabis/shared_data/post_qc/alspac/phenotypes\n",
    "aws s3 cp pheno_mothers_combined_FOM_TF1_3_n946_ewas_final.txt \\\n",
    "    s3://rti-cannabis/shared_data/post_qc/alspac/phenotypes/\n"
   ]
  }
 ],
 "metadata": {
  "kernelspec": {
   "display_name": "R",
   "language": "R",
   "name": "ir"
  },
  "language_info": {
   "codemirror_mode": "r",
   "file_extension": ".r",
   "mimetype": "text/x-r-source",
   "name": "R",
   "pygments_lexer": "r",
   "version": "4.0.3"
  },
  "toc": {
   "base_numbering": 1,
   "nav_menu": {},
   "number_sections": true,
   "sideBar": true,
   "skip_h1_title": false,
   "title_cell": "Table of Contents",
   "title_sidebar": "Contents",
   "toc_cell": false,
   "toc_position": {},
   "toc_section_display": true,
   "toc_window_display": true
  }
 },
 "nbformat": 4,
 "nbformat_minor": 5
}
