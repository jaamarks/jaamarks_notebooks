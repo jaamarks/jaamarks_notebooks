{
 "cells": [
  {
   "cell_type": "markdown",
   "id": "0a1c222e-5901-4b50-abfb-4ba112f3c34e",
   "metadata": {},
   "source": [
    "# Dockerfile"
   ]
  },
  {
   "cell_type": "code",
   "execution_count": 1,
   "id": "cd90e3d4-133d-46e1-aa59-a727a5ea4b9b",
   "metadata": {},
   "outputs": [
    {
     "ename": "ERROR",
     "evalue": "Error in parse(text = x, srcfile = src): <text>:2:6: unexpected symbol\n1: ##################### Set Inital Image to work from ############################\n2: FROM r\n        ^\n",
     "output_type": "error",
     "traceback": [
      "Error in parse(text = x, srcfile = src): <text>:2:6: unexpected symbol\n1: ##################### Set Inital Image to work from ############################\n2: FROM r\n        ^\nTraceback:\n"
     ]
    }
   ],
   "source": [
    "##################### Set Inital Image to work from ############################\n",
    "FROM r-base:4.0.4\n",
    "\n",
    "\n",
    "##################### Add Container Labels #####################################\n",
    "LABEL maintainer=\"Jesse Marks <jmarks@rti.org>\"\n",
    "LABEL description=\"Contains the R packages necessary to run the EWAS workflow.\"\n",
    "\n",
    "\n",
    "##################### Defaults ##############################\n",
    "# Set a default user. Available via runtime flag `--user docker`\n",
    "# Add user to 'staff' group, granting them write privileges to /usr/local/lib/R/site.library\n",
    "# User should also have & own a home directory (for rstudio or linked volumes to work properly).\n",
    "#RUN useradd docker \\\n",
    "#    && mkdir /home/docker \\\n",
    "#    && chown docker:docker /home/docker \\\n",
    "#    && addgroup docker staff\n",
    "\n",
    "# Don't print \"debconf: unable to initialize frontend: Dialog\" messages\n",
    "ARG DEBIAN_FRONTEND=noninteractive\n",
    "\n",
    "\n",
    "##################### Install System Dependencies ##############################\n",
    "RUN apt-get update \\\n",
    "    && apt-get upgrade -y \\\n",
    "    && apt-get install -y --no-install-recommends \\\n",
    "        apt-transport-https \\\n",
    "        software-properties-common \\\n",
    "        git \\\n",
    "        vim \\\n",
    "        wget \\\n",
    "        tk-dev \\\n",
    "        dirmngr \\\n",
    "        zlib1g-dev \\\n",
    "        gnupg \\\n",
    "        gpg-agent \\\n",
    "        libssl-dev \\\n",
    "        locales \\\n",
    "        libcurl4-openssl-dev\n",
    "\n",
    "\n",
    "RUN apt-get install -y --no-install-recommends \\\n",
    "        build-essential \\\n",
    "        python3-pip \\\n",
    "        python-setuptools \\\n",
    "        python-dev \\\n",
    "        python-tk \\\n",
    "        pip\n",
    "\n",
    "RUN apt-get install -y --no-install-recommends \\\n",
    "        r-base \\\n",
    "        r-cran-randomforest\n",
    "\n",
    "RUN rm -rf /var/lib/apt/lists/*\n",
    "\n",
    "\n",
    "######################### Install Python ###############################\n",
    "RUN alias python='/usr/bin/python3' \\\n",
    "    && echo 'alias python=\"/usr/bin/python3\"' >> /root/.bashrc \\\n",
    "    && echo 'alias pip=\"/usr/bin/pip3\"' >> /root/.bashrc \\\n",
    "    && . /root/.bashrc\n",
    "\n",
    "RUN echo \"statsmodels\\nsklearn\\ncvxopt\\nscipy\\nnumpy\\npandas\\nmatplotlib\" >  /opt/requirements.txt\n",
    "\n",
    "RUN pip3 install -r /opt/requirements.txt\n",
    "\n",
    "############################ Install R ##################################\n",
    "RUN Rscript -e 'install.packages(c(\"XML\", \"xml2\", \"data.table\", \"ggplot2\", \"ggrepel\", \"gridExtra\", \"dplyr\", \"sandwich\", \"lmtest\", \"remotes\", \"RColorBrewer\", \"MASS\", \"gee\", \"cat\", \"BiocManager\", \"optparse\"))'\n",
    "\n",
    "RUN  Rscript -e 'BiocManager::install(c(\"minfi\", \"IlluminaHumanMethylation450kanno.ilmn12.hg19\", \"FlowSorted.DLPFC.450k\", \"FlowSorted.Blood.EPIC\", \"FlowSorted.Blood.450k\", \"IlluminaHumanMethylationEPICanno.ilm10b4.hg19\", \"GenomicRanges\", \"SummarizedExperiment\", \"LieberInstitute/jaffelab\"))'"
   ]
  },
  {
   "cell_type": "code",
   "execution_count": null,
   "id": "30891b01-2edf-4bd6-9da2-8a68ff4ef15f",
   "metadata": {},
   "outputs": [],
   "source": [
    "docker build -t rtibiocloud/ewas ."
   ]
  }
 ],
 "metadata": {
  "kernelspec": {
   "display_name": "R",
   "language": "R",
   "name": "ir"
  },
  "language_info": {
   "codemirror_mode": "r",
   "file_extension": ".r",
   "mimetype": "text/x-r-source",
   "name": "R",
   "pygments_lexer": "r",
   "version": "4.0.3"
  }
 },
 "nbformat": 4,
 "nbformat_minor": 5
}
