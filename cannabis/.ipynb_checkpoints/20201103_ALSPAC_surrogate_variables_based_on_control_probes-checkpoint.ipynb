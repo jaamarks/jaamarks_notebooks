{
 "cells": [
  {
   "cell_type": "markdown",
   "id": "45988b2a",
   "metadata": {},
   "source": [
    "# Issue"
   ]
  },
  {
   "cell_type": "markdown",
   "id": "a946d982",
   "metadata": {},
   "source": [
    "- ALSPAC does not provide raw data (IDAT files) or rgSet, only beta values and qc.objects using meffil.\n",
    "\n",
    "`Min, J. L., Hemani, G., Davey Smith, G., Relton, C., & Suderman, M. (2018). Meffil: efficient normalization and analysis of very large DNA methylation datasets. Bioinformatics, 34(23), 3983-3989.` \n",
    "\n",
    "- We cannot generate surrogate variables as we usually do with ENmix.\n",
    "\n",
    "`sv <- ctrlsva(rgSet,percvar=0.95,npc=6,flag=1)`"
   ]
  },
  {
   "cell_type": "markdown",
   "id": "3d0c64ea",
   "metadata": {},
   "source": [
    "# Solution 1 - mimic the method in ENmix (ctrlsva)"
   ]
  },
  {
   "cell_type": "code",
   "execution_count": null,
   "id": "27393e0f",
   "metadata": {},
   "outputs": [],
   "source": [
    "# the core codes for ctrlsva\n",
    "percvar=0.95\n",
    "npc=1\n",
    "flag=1\n",
    "pca <- prcomp(t(ctrl_nneg))\n",
    "eigenvalue = pca$sdev^2\n",
    "perc = eigenvalue/sum(eigenvalue)\n",
    "if (flag == 1) {\n",
    "    npc=1\n",
    "    while(sum(perc[1:npc] < percvar)){\n",
    "        npc <- npc + 1\n",
    "    }\n",
    "    npc\n",
    "    ctrlsva = pca$x[,1:npc]\n",
    "}\n",
    "else {\n",
    "    ctrlsva = pca$x[,1:npc]\n",
    "}\n",
    "cat(npc,\" surrogate variables explain \",sum(perc[1:npc])*100,\"% of \\n data variation\\n\")"
   ]
  },
  {
   "cell_type": "code",
   "execution_count": null,
   "id": "c7dc754d",
   "metadata": {},
   "outputs": [],
   "source": [
    "# start from the data.txt with the control probe intensities, renames as \"control.data.txt\"\n",
    "control <- read.table(\"control.data.txt\",header=T,stringsAsFactors=F)\n",
    "\n",
    "percvar=0.95\n",
    "npc=1\n",
    "flag=1\n",
    "pca <- prcomp(control[,2:43])\n",
    "eigenvalue = pca$sdev^2\n",
    "perc = eigenvalue/sum(eigenvalue)\n",
    "if (flag == 1) {\n",
    "    npc=1\n",
    "    while(sum(perc[1:npc]) < percvar){\n",
    "        npc <- npc + 1\n",
    "    }\n",
    "    npc\n",
    "    ctrlsva = pca$x[,1:npc]\n",
    "}else {\n",
    "    ctrlsva = pca$x[,1:npc]\n",
    "}\n",
    "\n",
    "cat(npc,\" surrogate variables explain \",sum(perc[1:npc])*100,\"% of \\n data variation\\n\")\n",
    "# 6  surrogate variables explain  95.68676 % of\n",
    "#  data variation\n",
    "\n",
    "\n",
    "\n",
    "sva <- data.frame(Sample_Name=control$Sample_Name,\n",
    "                  sv1=ctrlsva[,1],sv2=ctrlsva[,2],sv3=ctrlsva[,3],\n",
    "                  sv4=ctrlsva[,4],sv5=ctrlsva[,5],sv6=ctrlsva[,6])\n",
    "\n",
    "write.table(sva,file=\"alspac_control_probe_sva.txt\",quote=F,row.names=F)"
   ]
  },
  {
   "cell_type": "code",
   "execution_count": null,
   "id": "a69bdd50",
   "metadata": {},
   "outputs": [],
   "source": [
    "aws s3 cp alspac_control_probe_sva.txt s3://rti-cannabis/shared_data/post_qc/alspac/phenotypes/"
   ]
  }
 ],
 "metadata": {
  "kernelspec": {
   "display_name": "R",
   "language": "R",
   "name": "ir"
  },
  "language_info": {
   "codemirror_mode": "r",
   "file_extension": ".r",
   "mimetype": "text/x-r-source",
   "name": "R",
   "pygments_lexer": "r",
   "version": "4.1.0"
  },
  "toc": {
   "base_numbering": 1,
   "nav_menu": {},
   "number_sections": true,
   "sideBar": true,
   "skip_h1_title": false,
   "title_cell": "Table of Contents",
   "title_sidebar": "Contents",
   "toc_cell": false,
   "toc_position": {},
   "toc_section_display": true,
   "toc_window_display": true
  }
 },
 "nbformat": 4,
 "nbformat_minor": 5
}
