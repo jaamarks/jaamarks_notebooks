{
 "cells": [
  {
   "cell_type": "code",
   "execution_count": null,
   "id": "dc6a5bcd-51d3-467a-9351-1ce3025a1ed2",
   "metadata": {},
   "outputs": [],
   "source": [
    "cd /shared/jmarks/convert_ids\n",
    "zip \\\n",
    "    --exclude=*/var/* \\\n",
    "    --exclude=*.git/* \\\n",
    "    --exclude=*/test/* \\\n",
    "    --exclude=*/.idea/* \\\n",
    "    -r biocloud_gwas_workflows.zip \\\n",
    "    biocloud_gwas_workflows/\n",
    "\n",
    "cd -\n",
    "\n",
    "curl -X POST \"http://localhost:8000/api/workflows/v1\" -H \"accept: application/json\" \\\n",
    "    -F \"workflowSource=@/shared/jmarks/convert_ids/biocloud_gwas_workflows/helper_workflows/convert_variant_ids_wf.wdl\" \\\n",
    "    -F \"workflowInputs=@/shared/jmarks/convert_ids/biocloud_gwas_workflows/biocloud_wdl_tools/convert_variant_ids/inputs.json\" \\\n",
    "    -F \"workflowDependencies=@/shared/jmarks/convert_ids/biocloud_gwas_workflows.zip\" \\\n",
    "    -F \"workflowOptions=@/shared/jmarks/convert_ids/0217694.000.001.nicotine.json\" \\\n",
    "    >> job_id.txt\n",
    "\n",
    "job=b1951fd7-f4e4-4a29-b7fe-34dbf50156e2    #dc4cb2b6-5181-4623-8c54-0f73e3e1a1b8\n",
    "curl -X GET \"http://localhost:8000/api/workflows/v1/${job}/status\"\n"
   ]
  },
  {
   "cell_type": "code",
   "execution_count": null,
   "id": "020e65a8-e11b-461a-82b6-51bbaa293c83",
   "metadata": {},
   "outputs": [],
   "source": [
    " python /opt/convert_variant_ids.py \\\n",
    "        --chr \"4\" \\\n",
    "        --in_file \"not_converted.txt\" \\\n",
    "        --in_header 1 \\\n",
    "        --in_sep \"tab\" \\\n",
    "        --in_id_col 2 \\\n",
    "        --in_chr_col 0 \\\n",
    "        --in_pos_col 1 \\\n",
    "        --in_a1_col 4 \\\n",
    "        --in_a2_col 3 \\\n",
    "        --in_missing_allele \"0\" \\\n",
    "        --in_deletion_allele \"-\" \\\n",
    "        --ref \"variant_lookup_chr4.tsv.gz\" \\\n",
    "        --ref_deletion_allele \".\" \\\n",
    "        --in_chunk_size 500000 \\\n",
    "        --ref_chunk_size 500000 \\\n",
    "        --rescue_rsids \\\n",
    "        --out_file outfile_not_converted.txt \\\n",
    "        --log_file outfile_not_converted.log"
   ]
  },
  {
   "cell_type": "code",
   "execution_count": null,
   "id": "4f519cce-31f8-45fa-98cc-5171400154ce",
   "metadata": {},
   "outputs": [],
   "source": [
    "##login to mcarnes cluster\n",
    "#ssh -i ~/.ssh/gwas_rsa ec2-user@54.157.10.254\n",
    "#cd /shared/mcarnes/geno/mQTL_subsets/\n",
    "#\n",
    "## LD prune the LIBD results to get a list of SNPs not in LD\n",
    "#docker run -v $PWD/:/data/ -it rtibiocloud/plink:v2.0_4d3bad3 plink2 \\\n",
    "#        --bfile /data/LIBD_NAc_AA \\\n",
    "#        --indep-pairwise 1500 150 0.2 \\\n",
    "#        --out /data/ldprune/libd_nac_aa_ld_pruned\n",
    "#"
   ]
  },
  {
   "cell_type": "code",
   "execution_count": null,
   "id": "eb62efed-96ff-41a7-8e9c-e0b7f1f6f637",
   "metadata": {},
   "outputs": [],
   "source": [
    "# download LIBD variants\n",
    "cd /Users/jmarks/projects/nicotine/lookup/gscan/20220330/libd_geno/ldprune/\n",
    "scp -r -i ~/.ssh/gwas_rsa ec2-user@54.157.10.254:/shared/mcarnes/geno/mQTL_subsets/* .\n",
    "    \n",
    "# Then, get list of variants with rsIDs. Keep both rsID and chrom:position\n",
    "\n",
    "# Then see which of these \n",
    "\n",
    "\n",
    "# filter libd geno down to the 3600 random snps.\n",
    "# ldprune\n",
    "# see if still have 3600\n",
    "# if yes, try to retrieve the 4 that didn't come through.\n",
    "#head /Users/jmarks/projects/nicotine/lookup/gscan/20220330/snpsnap/SNPsnap_360_gscan_input_v03/input_snps_excluded.txt\n",
    "#6:29796685\tSNP_in_HLA_region   -> turn on HLA region SNPs on SNPsnap\n",
    "#rs28813180\tSNP_not_found_in_data_base  -> try rs138279803\n",
    "#rs12611472\tSNP_not_found_in_data_base -> try rs147137183\n",
    "#rs11898717\tSNP_not_found_in_data_base -> try proxy\n",
    "\n",
    "\n",
    "\n",
    "\n",
    "# incrementally increase number of random SNPs picked until we have 3600"
   ]
  },
  {
   "cell_type": "code",
   "execution_count": 18,
   "id": "50a7d2a0-f909-403f-a643-61ef3d0c4c72",
   "metadata": {},
   "outputs": [
    {
     "data": {
      "text/plain": [
       "4272"
      ]
     },
     "execution_count": 18,
     "metadata": {},
     "output_type": "execute_result"
    }
   ],
   "source": [
    "12*356"
   ]
  },
  {
   "cell_type": "code",
   "execution_count": null,
   "id": "f7583051-f8a6-4ff0-9a78-405125bb6789",
   "metadata": {},
   "outputs": [],
   "source": []
  },
  {
   "cell_type": "code",
   "execution_count": null,
   "id": "9137c0f8-416c-42c9-8e22-ee712fd6ab5b",
   "metadata": {},
   "outputs": [],
   "source": []
  },
  {
   "cell_type": "code",
   "execution_count": null,
   "id": "72a59c90-b723-4a2d-871c-53176ebbbc7e",
   "metadata": {},
   "outputs": [],
   "source": []
  },
  {
   "cell_type": "code",
   "execution_count": null,
   "id": "dbb5764c-8d0a-45de-8fe7-f80d485722f9",
   "metadata": {},
   "outputs": [],
   "source": []
  },
  {
   "cell_type": "code",
   "execution_count": null,
   "id": "25f15a5f-f9c2-40d2-ad7d-b0686ab328a4",
   "metadata": {},
   "outputs": [],
   "source": []
  },
  {
   "cell_type": "code",
   "execution_count": null,
   "id": "d5808c0b-b7f8-48bc-99a2-c1fbabc5ef56",
   "metadata": {},
   "outputs": [],
   "source": []
  }
 ],
 "metadata": {
  "kernelspec": {
   "display_name": "Python 3",
   "language": "python",
   "name": "python3"
  },
  "language_info": {
   "codemirror_mode": {
    "name": "ipython",
    "version": 3
   },
   "file_extension": ".py",
   "mimetype": "text/x-python",
   "name": "python",
   "nbconvert_exporter": "python",
   "pygments_lexer": "ipython3",
   "version": "3.9.4"
  }
 },
 "nbformat": 4,
 "nbformat_minor": 5
}
