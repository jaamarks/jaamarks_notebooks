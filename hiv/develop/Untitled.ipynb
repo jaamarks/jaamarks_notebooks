{
 "cells": [
  {
   "cell_type": "code",
   "execution_count": null,
   "id": "dc6a5bcd-51d3-467a-9351-1ce3025a1ed2",
   "metadata": {},
   "outputs": [],
   "source": [
    "cd ../../../\n",
    "zip \\\n",
    "    --exclude=*/var/* \\\n",
    "    --exclude=*.git/* \\\n",
    "    --exclude=*/test/* \\\n",
    "    --exclude=*/.idea/* \\\n",
    "    -r biocloud_gwas_workflows/meta_analysis/metal/gwas/biocloud_gwas_workflows.zip \\\n",
    "    biocloud_gwas_workflows/\n",
    "\n",
    "cd -\n",
    "\n",
    "curl -X POST \"http://localhost:8000/api/workflows/v1\" -H \"accept: application/json\" \\\n",
    "    -F \"workflowSource=@/home/ec2-user/test/biocloud_gwas_workflows/meta_analysis/metal/gwas/main.wdl\" \\\n",
    "    -F \"workflowInputs=@/home/ec2-user/test/biocloud_gwas_workflows/meta_analysis/metal/gwas/inputs.json\" \\\n",
    "    -F \"workflowDependencies=@/home/ec2-user/test/biocloud_gwas_workflows/meta_analysis/metal/gwas/biocloud_gwas_workflows.zip\" \\\n",
    "    -F \"workflowOptions=@/home/ec2-user/bin/cromwell/hiv_gnetii_charge_code.json\" \\\n",
    "    >> job_id.txt\n",
    "\n",
    "job=07c84f1f-d272-4808-94cc-c39332c65d87\n",
    "curl -X GET \"http://localhost:8000/api/workflows/v1/${job}/status\"\n"
   ]
  }
 ],
 "metadata": {
  "kernelspec": {
   "display_name": "Python 3",
   "language": "python",
   "name": "python3"
  },
  "language_info": {
   "codemirror_mode": {
    "name": "ipython",
    "version": 3
   },
   "file_extension": ".py",
   "mimetype": "text/x-python",
   "name": "python",
   "nbconvert_exporter": "python",
   "pygments_lexer": "ipython3",
   "version": "3.9.4"
  }
 },
 "nbformat": 4,
 "nbformat_minor": 5
}
