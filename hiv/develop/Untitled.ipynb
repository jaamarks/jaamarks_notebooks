{
 "cells": [
  {
   "cell_type": "code",
   "execution_count": 21,
   "metadata": {},
   "outputs": [
    {
     "data": {
      "text/html": [
       "<table>\n",
       "<thead><tr><th scope=col>VARIANT_ID</th><th scope=col>CHR</th><th scope=col>POSITION</th><th scope=col>P</th><th scope=col>TYPE</th></tr></thead>\n",
       "<tbody>\n",
       "\t<tr><td>1:10177:A:AC          </td><td>1                     </td><td>10177                 </td><td>0.09633               </td><td>indel                 </td></tr>\n",
       "\t<tr><td>rs145072688:10352:T:TA</td><td>1                     </td><td>10352                 </td><td>0.87780               </td><td>indel                 </td></tr>\n",
       "\t<tr><td>1:11008:C:G           </td><td>1                     </td><td>11008                 </td><td>0.07880               </td><td>snp                   </td></tr>\n",
       "\t<tr><td>1:11012:C:G           </td><td>1                     </td><td>11012                 </td><td>0.07880               </td><td>snp                   </td></tr>\n",
       "\t<tr><td>1:13110:G:A           </td><td>1                     </td><td>13110                 </td><td>0.36040               </td><td>snp                   </td></tr>\n",
       "\t<tr><td>rs201725126:13116:T:G </td><td>1                     </td><td>13116                 </td><td>0.37590               </td><td>snp                   </td></tr>\n",
       "</tbody>\n",
       "</table>\n"
      ],
      "text/latex": [
       "\\begin{tabular}{r|lllll}\n",
       " VARIANT\\_ID & CHR & POSITION & P & TYPE\\\\\n",
       "\\hline\n",
       "\t 1:10177:A:AC           & 1                      & 10177                  & 0.09633                & indel                 \\\\\n",
       "\t rs145072688:10352:T:TA & 1                      & 10352                  & 0.87780                & indel                 \\\\\n",
       "\t 1:11008:C:G            & 1                      & 11008                  & 0.07880                & snp                   \\\\\n",
       "\t 1:11012:C:G            & 1                      & 11012                  & 0.07880                & snp                   \\\\\n",
       "\t 1:13110:G:A            & 1                      & 13110                  & 0.36040                & snp                   \\\\\n",
       "\t rs201725126:13116:T:G  & 1                      & 13116                  & 0.37590                & snp                   \\\\\n",
       "\\end{tabular}\n"
      ],
      "text/markdown": [
       "\n",
       "| VARIANT_ID | CHR | POSITION | P | TYPE |\n",
       "|---|---|---|---|---|\n",
       "| 1:10177:A:AC           | 1                      | 10177                  | 0.09633                | indel                  |\n",
       "| rs145072688:10352:T:TA | 1                      | 10352                  | 0.87780                | indel                  |\n",
       "| 1:11008:C:G            | 1                      | 11008                  | 0.07880                | snp                    |\n",
       "| 1:11012:C:G            | 1                      | 11012                  | 0.07880                | snp                    |\n",
       "| 1:13110:G:A            | 1                      | 13110                  | 0.36040                | snp                    |\n",
       "| rs201725126:13116:T:G  | 1                      | 13116                  | 0.37590                | snp                    |\n",
       "\n"
      ],
      "text/plain": [
       "  VARIANT_ID             CHR POSITION P       TYPE \n",
       "1 1:10177:A:AC           1   10177    0.09633 indel\n",
       "2 rs145072688:10352:T:TA 1   10352    0.87780 indel\n",
       "3 1:11008:C:G            1   11008    0.07880 snp  \n",
       "4 1:11012:C:G            1   11012    0.07880 snp  \n",
       "5 1:13110:G:A            1   13110    0.36040 snp  \n",
       "6 rs201725126:13116:T:G  1   13116    0.37590 snp  "
      ]
     },
     "metadata": {},
     "output_type": "display_data"
    }
   ],
   "source": [
    "library(qqman)\n",
    "setwd(\"~/Projects/nicotine/meta/0001/eur/\")\n",
    "eur_df <- read.table(\"ftnd3_gwas_meta_eur.table\", header = TRUE )\n",
    "head(eur_df)"
   ]
  },
  {
   "cell_type": "code",
   "execution_count": null,
   "metadata": {},
   "outputs": [],
   "source": [
    "?manhattan"
   ]
  },
  {
   "cell_type": "code",
   "execution_count": 23,
   "metadata": {},
   "outputs": [],
   "source": [
    "#manhattan(gwasResults)\n",
    "manhattan(eur_df, bp=\"POSITION\", snp=\"VARIANT_ID\", chr=\"CHR\", p=\"P\",\n",
    "    genomewideline=T, suggestiveline = F)"
   ]
  },
  {
   "cell_type": "code",
   "execution_count": 28,
   "metadata": {},
   "outputs": [
    {
     "data": {
      "text/html": [
       "\n",
       "<table width=\"100%\" summary=\"page for qq {qqman}\"><tr><td>qq {qqman}</td><td style=\"text-align: right;\">R Documentation</td></tr></table>\n",
       "\n",
       "<h2>Creates a Q-Q plot</h2>\n",
       "\n",
       "<h3>Description</h3>\n",
       "\n",
       "<p>Creates a quantile-quantile plot from p-values from a GWAS study.\n",
       "</p>\n",
       "\n",
       "\n",
       "<h3>Usage</h3>\n",
       "\n",
       "<pre>\n",
       "qq(pvector, ...)\n",
       "</pre>\n",
       "\n",
       "\n",
       "<h3>Arguments</h3>\n",
       "\n",
       "<table summary=\"R argblock\">\n",
       "<tr valign=\"top\"><td><code>pvector</code></td>\n",
       "<td>\n",
       "<p>A numeric vector of p-values.</p>\n",
       "</td></tr>\n",
       "<tr valign=\"top\"><td><code>...</code></td>\n",
       "<td>\n",
       "<p>Other arguments passed to <code>plot()</code></p>\n",
       "</td></tr>\n",
       "</table>\n",
       "\n",
       "\n",
       "<h3>Value</h3>\n",
       "\n",
       "<p>A Q-Q plot.\n",
       "</p>\n",
       "\n",
       "\n",
       "<h3>Examples</h3>\n",
       "\n",
       "<pre>\n",
       "qq(gwasResults$P)\n",
       "\n",
       "</pre>\n",
       "\n",
       "<hr /><div style=\"text-align: center;\">[Package <em>qqman</em> version 0.1.4 ]</div>"
      ],
      "text/latex": [
       "\\inputencoding{utf8}\n",
       "\\HeaderA{qq}{Creates a Q-Q plot}{qq}\n",
       "\\keyword{qq}{qq}\n",
       "\\keyword{qqplot}{qq}\n",
       "\\keyword{visualization}{qq}\n",
       "%\n",
       "\\begin{Description}\\relax\n",
       "Creates a quantile-quantile plot from p-values from a GWAS study.\n",
       "\\end{Description}\n",
       "%\n",
       "\\begin{Usage}\n",
       "\\begin{verbatim}\n",
       "qq(pvector, ...)\n",
       "\\end{verbatim}\n",
       "\\end{Usage}\n",
       "%\n",
       "\\begin{Arguments}\n",
       "\\begin{ldescription}\n",
       "\\item[\\code{pvector}] A numeric vector of p-values.\n",
       "\n",
       "\\item[\\code{...}] Other arguments passed to \\code{plot()}\n",
       "\\end{ldescription}\n",
       "\\end{Arguments}\n",
       "%\n",
       "\\begin{Value}\n",
       "A Q-Q plot.\n",
       "\\end{Value}\n",
       "%\n",
       "\\begin{Examples}\n",
       "\\begin{ExampleCode}\n",
       "qq(gwasResults$P)\n",
       "\n",
       "\\end{ExampleCode}\n",
       "\\end{Examples}"
      ],
      "text/plain": [
       "qq                    package:qqman                    R Documentation\n",
       "\n",
       "_\bC_\br_\be_\ba_\bt_\be_\bs _\ba _\bQ-_\bQ _\bp_\bl_\bo_\bt\n",
       "\n",
       "_\bD_\be_\bs_\bc_\br_\bi_\bp_\bt_\bi_\bo_\bn:\n",
       "\n",
       "     Creates a quantile-quantile plot from p-values from a GWAS study.\n",
       "\n",
       "_\bU_\bs_\ba_\bg_\be:\n",
       "\n",
       "     qq(pvector, ...)\n",
       "     \n",
       "_\bA_\br_\bg_\bu_\bm_\be_\bn_\bt_\bs:\n",
       "\n",
       " pvector: A numeric vector of p-values.\n",
       "\n",
       "     ...: Other arguments passed to ‘plot()’\n",
       "\n",
       "_\bV_\ba_\bl_\bu_\be:\n",
       "\n",
       "     A Q-Q plot.\n",
       "\n",
       "_\bE_\bx_\ba_\bm_\bp_\bl_\be_\bs:\n",
       "\n",
       "     qq(gwasResults$P)\n",
       "     "
      ]
     },
     "metadata": {},
     "output_type": "display_data"
    }
   ],
   "source": [
    "help()"
   ]
  },
  {
   "cell_type": "code",
   "execution_count": null,
   "metadata": {},
   "outputs": [],
   "source": []
  }
 ],
 "metadata": {
  "kernelspec": {
   "display_name": "R",
   "language": "R",
   "name": "ir"
  },
  "language_info": {
   "codemirror_mode": "r",
   "file_extension": ".r",
   "mimetype": "text/x-r-source",
   "name": "R",
   "pygments_lexer": "r",
   "version": "3.6.1"
  }
 },
 "nbformat": 4,
 "nbformat_minor": 4
}
