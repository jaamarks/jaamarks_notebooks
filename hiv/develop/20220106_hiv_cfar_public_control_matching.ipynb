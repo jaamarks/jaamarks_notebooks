{
 "cells": [
  {
   "cell_type": "markdown",
   "id": "673bd546-60fb-418a-8195-b4ac5189cf85",
   "metadata": {},
   "source": [
    "# CFAR Public Control Matching\n",
    "\n",
    "**author**: Jesse Marks <br>\n",
    "**GitHub**: [Issue 133](https://github.com/RTIInternational/bioinformatics/issues/133)\n",
    "\n",
    "CFAR is reported to have 4,761 subjects with both genotype & phenotype data.\n",
    "Self-report race is mostly Black and White. All are HIV cases. We were able to match the CFAR EAs with the COGA EAs for a GWAS with sample size ~4,000. We still leaves ~2,000 HIV+ AAs on the table. So we are looking at public controls which have TOPMed data since other genotyping arrays wouldn’t have great overlap with the Smokescreen genotyped CFAR samples. WGS of TOPMed has complete overlap with the Smokescreen genotyping array.\n",
    "\n",
    "The short list of public control cohorts to consider matching with CFAR AAs is:\n",
    "* ARIC N=3,895\n",
    "* COPDGene N=3,269\n",
    "* JHS N=2,928"
   ]
  },
  {
   "cell_type": "markdown",
   "id": "0c146e0f-a44f-4d4c-beb9-6a4ef776da8a",
   "metadata": {},
   "source": [
    "# ARIC\n",
    "https://www.ncbi.nlm.nih.gov/projects/gap/cgi-bin/study.cgi?study_id=phs000280.v7.p1\n",
    " \n",
    "Since ARIC has the largest African American WGS sample size, we will start with them and see if we can get a good match.\n",
    "\n",
    "These data are comprised of multiple substudies. Two of which have WGS data:\n",
    "* [GENEVA: The Atherosclerosis Risk in Communities (ARIC) Study](https://www.ncbi.nlm.nih.gov/projects/gap/cgi-bin/study.cgi?study_id=phs000090.v7.p1)\n",
    "* [NHLBI ARIC Candidate Gene Association Resource (CARe)](https://www.ncbi.nlm.nih.gov/projects/gap/cgi-bin/study.cgi?study_id=phs000557.v6.p1)\n",
    "\n",
    "The WGS data have already been downloaded to AWS S3 at:\n",
    "`s3://rti-shared/shared_data/raw/topmed/genotype/sequencing/TOPMed_ARIC_phs001211/Freeze8/`\n",
    "These data are split by chromosome (1–22) and are in VCF format.\n",
    "\n",
    "The WGS data have an associated harmonized phenotype file on S3 at `s3://rti-shared/shared_data/raw/topmed/harmonized_phenotypes/JHS_FHS_COPDGene_ARIC_harmonized_phenotypes_10_21.txt`. We will filter this phenotype file down to just the ARIC samples. This phenotype file does not have as many variables as the parent accession phenotype files, which are also on S3: `s3://rti-common/dbGaP/phs000280_aric/PhenoGenotypeFiles`. In particular we know that the harmonized phenotype file is missing age and alcohol dependence—covariates included in the CFAR+COGA EUR GWAS model, therfore we would like to include them in the CFAR+ARIC AFR GWAS. But we also need to use the harmonized phenotype file because it has the WGS sample IDs `VCF.Sample.Id` that we will need to filter the WGS data with. We will also use the variable in the harmonized phenotype file `Study.Accession.with.Patient.ID` to match to the parent accession phenotype files so we can extract age and alc_dep variables. \n",
    "\n",
    "Let's first see what variables are available. \n",
    "```\n",
    "\n",
    "```\n",
    "\n",
    "\n",
    "1. Download phenotype data and provide a summary.\n",
    "* s3://rti-shared/shared_data/raw/topmed/genotype/sequencing/TOPMed_ARIC_phs001211/PhenotypeFiles/phs001211.v3.pht005755.v3.p2.TOPMed_WGS_ARIC_Sample.MULTI.txt.gz\n",
    "2. Download genotype data (on EC2 with lots of storage! 497.8 GB for WGS) \n",
    "3. [GAWMerge](https://www.biorxiv.org/content/10.1101/2021.10.19.464854v1)\n",
    "* extracting only the genotyped variants from the WGS data\n",
    "* independent array and WGS data QC\n",
    "* independent array and WGS data phasing\n",
    "* merge phased data\n",
    "4. Imputation\n",
    "5. GWAS."
   ]
  },
  {
   "cell_type": "markdown",
   "id": "e56abfcf-5422-4616-a6f9-de1afba47baf",
   "metadata": {},
   "source": [
    "## Phenotype summary \n",
    "* The harmonized TOPMed phenotype file is located: `s3://rti-shared/shared_data/raw/topmed/harmonized_phenotypes/JHS_FHS_COPDGene_ARIC_harmonized_phenotypes_10_21.txt`.\n",
    "\n",
    "The parent accession phenotype files are located:\n",
    "* s3://rti-common/dbGaP/phs000280_aric/PhenoGenotypeFiles/ChildStudyConsentSet_phs000090.RootStudy.v7.p1.c1.HMB-IRB/PhenotypeFiles/\n",
    "* s3://rti-common/dbGaP/phs000280_aric/PhenoGenotypeFiles/ChildStudyConsentSet_phs000557.RootStudy.v6.p1.c1.HMB-IRB/PhenotypeFiles/ \n",
    "* s3://rti-common/dbGaP/phs000280_aric/PhenoGenotypeFiles/RootStudyConsentSet_phs000280.RootStudy.v7.p1.c1.HMB-IRB/PhenotypeFiles/\n",
    "\n",
    "The ARIC TOPMed WGS is comprised of the both CARe and GENEVA. We will select only the ARIC African Americans for this study.\n",
    "\n",
    "We need to clean up the phenotype file. Apply Plink format standard:\n",
    "* Sex code ('1' = male, '2' = female, '0' = unknown)"
   ]
  },
  {
   "cell_type": "code",
   "execution_count": null,
   "id": "ae334d71-6bb7-44be-883a-173020aecca2",
   "metadata": {},
   "outputs": [],
   "source": [
    "cd /Users/jmarks/projects/hiv/shared_data/processed/topmed/harmonized_phenotypes/topmed_aric_phs001211\n",
    "\n",
    "head aric_aa_topmed_phenotypes.csv\n",
    "#Patient.ID,X.DCC.Harmonized.data.set.01...Demographics.A.distinct.subgroup.within.a.study..generally.indicating.subjects.who.share.similar.characteristics.due.to.study.design..Subjects.may.belong.to.only.one.subcohort..,X.DCC.Harmonized.data.set.01...Demographics.Harmonized.race.category.of.participant..,X.DCC.Harmonized.data.set.01...Demographics.Subject.sex..as.recorded.by.the.study..,X._VCF.Sample.Id.\n",
    "#700072,ARIC: No Subcohort Structure,Black or African American,Female,NWD694030\n",
    "#700090,ARIC: No Subcohort Structure,Black or African American,Male,NWD536080\n",
    "#700096,ARIC: No Subcohort Structure,Black or African American,Female,NWD297271\n",
    "#700097,ARIC: No Subcohort Structure,Black or African American,Female,NWD313611\n",
    "\n"
   ]
  },
  {
   "cell_type": "code",
   "execution_count": 7,
   "id": "25950f58-923a-4223-8ba6-1e7c11b9848b",
   "metadata": {},
   "outputs": [
    {
     "data": {
      "text/html": [
       "<table class=\"dataframe\">\n",
       "<caption>A data.frame: 6 × 2</caption>\n",
       "<thead>\n",
       "\t<tr><th></th><th scope=col>sample.id</th><th scope=col>sex</th></tr>\n",
       "\t<tr><th></th><th scope=col>&lt;chr&gt;</th><th scope=col>&lt;chr&gt;</th></tr>\n",
       "</thead>\n",
       "<tbody>\n",
       "\t<tr><th scope=row>1</th><td>NWD694030</td><td>Female</td></tr>\n",
       "\t<tr><th scope=row>2</th><td>NWD536080</td><td>Male  </td></tr>\n",
       "\t<tr><th scope=row>3</th><td>NWD297271</td><td>Female</td></tr>\n",
       "\t<tr><th scope=row>4</th><td>NWD313611</td><td>Female</td></tr>\n",
       "\t<tr><th scope=row>5</th><td>NWD929639</td><td>Female</td></tr>\n",
       "\t<tr><th scope=row>6</th><td>NWD440740</td><td>Female</td></tr>\n",
       "</tbody>\n",
       "</table>\n"
      ],
      "text/latex": [
       "A data.frame: 6 × 2\n",
       "\\begin{tabular}{r|ll}\n",
       "  & sample.id & sex\\\\\n",
       "  & <chr> & <chr>\\\\\n",
       "\\hline\n",
       "\t1 & NWD694030 & Female\\\\\n",
       "\t2 & NWD536080 & Male  \\\\\n",
       "\t3 & NWD297271 & Female\\\\\n",
       "\t4 & NWD313611 & Female\\\\\n",
       "\t5 & NWD929639 & Female\\\\\n",
       "\t6 & NWD440740 & Female\\\\\n",
       "\\end{tabular}\n"
      ],
      "text/markdown": [
       "\n",
       "A data.frame: 6 × 2\n",
       "\n",
       "| <!--/--> | sample.id &lt;chr&gt; | sex &lt;chr&gt; |\n",
       "|---|---|---|\n",
       "| 1 | NWD694030 | Female |\n",
       "| 2 | NWD536080 | Male   |\n",
       "| 3 | NWD297271 | Female |\n",
       "| 4 | NWD313611 | Female |\n",
       "| 5 | NWD929639 | Female |\n",
       "| 6 | NWD440740 | Female |\n",
       "\n"
      ],
      "text/plain": [
       "  sample.id sex   \n",
       "1 NWD694030 Female\n",
       "2 NWD536080 Male  \n",
       "3 NWD297271 Female\n",
       "4 NWD313611 Female\n",
       "5 NWD929639 Female\n",
       "6 NWD440740 Female"
      ]
     },
     "metadata": {},
     "output_type": "display_data"
    }
   ],
   "source": [
    "### R\n",
    "setwd(\"/Users/jmarks/projects/hiv/shared_data/processed/topmed/harmonized_phenotypes/topmed_aric_phs001211/\")\n",
    "aric_pheno <- read.csv(\"aric_aa_topmed_phenotypes.csv\")\n",
    "\n",
    "names(aric_pheno) <- c(\"patient.id\", \"cohort.name\", \"race\", \"sex\", \"sample.id\")\n",
    "# keep only necessary columns\n",
    "aric_pheno <- aric_pheno[, c(\"sample.id\", \"sex\")]\n",
    "head(aric_pheno)"
   ]
  },
  {
   "cell_type": "code",
   "execution_count": null,
   "id": "2320c616-78ab-41c6-ab27-7fe623e6ec3b",
   "metadata": {},
   "outputs": [],
   "source": []
  }
 ],
 "metadata": {
  "kernelspec": {
   "display_name": "R",
   "language": "R",
   "name": "ir"
  },
  "language_info": {
   "codemirror_mode": "r",
   "file_extension": ".r",
   "mimetype": "text/x-r-source",
   "name": "R",
   "pygments_lexer": "r",
   "version": "4.0.3"
  }
 },
 "nbformat": 4,
 "nbformat_minor": 5
}
