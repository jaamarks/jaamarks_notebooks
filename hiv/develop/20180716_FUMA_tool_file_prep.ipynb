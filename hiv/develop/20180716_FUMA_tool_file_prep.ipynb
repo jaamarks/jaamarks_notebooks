{
 "cells": [
  {
   "cell_type": "markdown",
   "metadata": {},
   "source": [
    "# FUMA tool\n",
    "**Author**: Jesse Marks\n",
    "\n",
    "FUMA tool (http://fuma.ctglab.nl/) file prep for HIV - Meta-Analysis for viral load. Need a zipped file with genome-wide results that is <600Mb. Prepare a file that concatenates all of the chr-specific files into one, and includes only the following meta-analysis output columns.\n",
    "\n",
    " \n",
    "```\n",
    "Chr\n",
    "\n",
    "Position\n",
    "\n",
    "MarkerName\n",
    "\n",
    "P-value\n",
    "\n",
    "Allele1\n",
    "\n",
    "Allele2\n",
    "\n",
    "Effect\n",
    "\n",
    "StdErr```\n",
    "\n",
    "Example files:\n",
    "\n",
    "`uhs+wihs1+wihs2+vidus.aa+ea+ha.chr1\n",
    "uhs+wihs1+wihs2+vidus.aa+ea+ha.chr10\n",
    "`\n",
    "\n",
    "Results are at:\n",
    "`//rcdcollaboration01.rti.ns/johnson_share/1.HIV GWAS II/technical/Meta/viral load/`\n",
    "```\n",
    "033.uhs+wihs1+wihs2+vidus.aa+ea+ha\n",
    "034.uhs+wihs1+wihs3.aa\n",
    "035.uhs+wihs1+wihs2+vidus.ea\n",
    "```"
   ]
  },
  {
   "cell_type": "markdown",
   "metadata": {},
   "source": [
    "## 033\n",
    "Processing the directory:\n",
    "`033.uhs+wihs1+wihs2+vidus.aa+ea+ha`"
   ]
  },
  {
   "cell_type": "code",
   "execution_count": null,
   "metadata": {},
   "outputs": [],
   "source": [
    "cd //rcdcollaboration01.rti.ns/johnson_share/1.HIV\\ GWAS\\ II/technical/Meta/viral\\ load/033.uhs+wihs1+wihs2+vidus.aa+ea+ha\n",
    "\n",
    "awk '{print $2,$3,$1,$8,$4,$5,$6,$7;exit}'\\\n",
    "    uhs+wihs1+wihs2+vidus.aa+ea+ha.chr1 >\\\n",
    "    uhs+wihs1+wihs2+vidus.aa+ea+ha.ALL_CHR.FUMA\n",
    "for chr in {1..22}; do\n",
    "    echo processing chr$chr\n",
    "    awk 'NR>=2{print $2,$3,$1,$8,$4,$5,$6,$7}'\\\n",
    "    uhs+wihs1+wihs2+vidus.aa+ea+ha.chr$chr >> uhs+wihs1+wihs2+vidus.aa+ea+ha.ALL_CHR.FUMA\n",
    "done &\n",
    "    \n",
    "gzip uhs+wihs1+wihs2+vidus.aa+ea+ha.ALL_CHR.FUMA"
   ]
  },
  {
   "cell_type": "markdown",
   "metadata": {},
   "source": [
    "PC |Df | Sum Sq | Mean Sq | F value | Pr(>F) | PVE\n",
    "|--|-- | -- | -- | -- | -- | --\n",
    "PC3|1 | 97.377888664 | 97.377888664 | 7069.7406344 | 0.000000e+00 | 71.54\n",
    "PC6|1 | 33.653635410 | 33.653635410 | 2443.2905357 | 0.000000e+00 | 24.72\n",
    "PC2|1 | 2.577168570 | 2.577168570 | 187.1052414 | 6.487391e-41 | 1.89\n",
    "PC5|1 | 2.060871185 | 2.060871185 | 149.6214896 | 2.565479e-33 | 1.51\n",
    "PC8|1 | 0.238007426 | 0.238007426 | 17.2795980 | 3.351871e-05 | 0.17\n",
    "PC9|1 | 0.099194782 | 0.099194782 | 7.2016491 | 7.339093e-03 | 0.07\n",
    "PC7|1 | 0.064608247 | 0.064608247 | 4.6906290 | 3.043634e-02 | 0.05\n",
    "PC4|1 | 0.037486043 | 0.037486043 | 2.7215275 | 9.914823e-02 | 0.03\n",
    "PC1|1 | 0.003348685 | 0.003348685 | 0.2431182 | 6.220130e-01 | 0.00\n",
    "PC10|1 | 0.004836362 | 0.004836362 | 0.3511252 | 5.535387e-01 | 0.00"
   ]
  },
  {
   "cell_type": "markdown",
   "metadata": {},
   "source": [
    "## 034\n",
    "Processing the directory:\n",
    "`034.uhs+wihs1+wihs3.aa`"
   ]
  },
  {
   "cell_type": "code",
   "execution_count": null,
   "metadata": {},
   "outputs": [],
   "source": [
    "cd //rcdcollaboration01.rti.ns/johnson_share/1.HIV\\ GWAS\\ II/technical/Meta/viral\\ load/034.uhs+wihs1+wihs2.aa\n",
    "awk '{print $2,$3,$1,$8,$4,$5,$6,$7;exit}'\\\n",
    "    uhs+wihs1+wihs2.aa.chr1 >\\\n",
    "    uhs+wihs1+wihs2.aa.ALL_CHR.FUMA\n",
    "for chr in {1..22}; do\n",
    "    echo processing chr$chr\n",
    "    awk 'NR>=2{print $2,$3,$1,$8,$4,$5,$6,$7}'\\\n",
    "    uhs+wihs1+wihs2.aa.chr$chr >> uhs+wihs1+wihs2.aa.ALL_CHR.FUMA\n",
    "\n",
    "done &\n",
    "gzip uhs+wihs1+wihs2.aa.ALL_CHR.FUMA"
   ]
  },
  {
   "cell_type": "markdown",
   "metadata": {},
   "source": [
    "## 035\n",
    "Processing the directory:\n",
    "`035.uhs+wihs1+wihs2+vidus.ea`"
   ]
  },
  {
   "cell_type": "code",
   "execution_count": null,
   "metadata": {},
   "outputs": [],
   "source": [
    "cd //rcdcollaboration01.rti.ns/johnson_share/1.HIV\\ GWAS\\ II/technical/Meta/viral\\ load/035.uhs+wihs1+wihs2+vidus.ea\n",
    "awk '{print $2,$3,$1,$8,$4,$5,$6,$7;exit}'\\\n",
    "    uhs+wihs1+wihs2+vidus.ea.chr1 >\\\n",
    "    uhs+wihs1+wihs2+vidus.ea.ALL_CHR.FUMA\n",
    "for chr in {1..22}; do\n",
    "    echo processing chr$chr\n",
    "    awk 'NR>=2{print $2,$3,$1,$8,$4,$5,$6,$7}'\\\n",
    "    uhs+wihs1+wihs2+vidus.ea.chr$chr >> uhs+wihs1+wihs2+vidus.ea.ALL_CHR.FUMA\n",
    "done &\n",
    "\n",
    "gzip uhs+wihs1+wihs2+vidus.ea.ALL_CHR.FUMA"
   ]
  }
 ],
 "metadata": {
  "kernelspec": {
   "display_name": "R",
   "language": "R",
   "name": "ir"
  },
  "language_info": {
   "codemirror_mode": "r",
   "file_extension": ".r",
   "mimetype": "text/x-r-source",
   "name": "R",
   "pygments_lexer": "r",
   "version": "3.4.3"
  },
  "toc": {
   "nav_menu": {},
   "number_sections": true,
   "sideBar": true,
   "skip_h1_title": false,
   "toc_cell": false,
   "toc_position": {},
   "toc_section_display": "block",
   "toc_window_display": false
  }
 },
 "nbformat": 4,
 "nbformat_minor": 2
}
