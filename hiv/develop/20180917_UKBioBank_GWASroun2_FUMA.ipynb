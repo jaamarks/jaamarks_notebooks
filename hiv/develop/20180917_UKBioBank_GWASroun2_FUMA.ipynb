{
 "cells": [
  {
   "cell_type": "markdown",
   "metadata": {},
   "source": [
    "# FUMA tool\n",
    "**Author**: Jesse Marks\n",
    "\n",
    "The results processed here were saved to:\n",
    "`//rcdcollaboration01.rti.ns/johnson_share/1.HIV GWAS II/technical/UKBiobank/GWASround2`\n",
    "\n",
    "FUMA tool (http://fuma.ctglab.nl/) file prep for HIV - Meta-Analysis for viral load. Need a zipped file with genome-wide results that is <600Mb. Prepare a file that concatenates all of the chr-specific files into one, and includes only the following meta-analysis output columns.\n",
    "\n",
    " \n",
    "```\n",
    "Chr\n",
    "\n",
    "Position\n",
    "\n",
    "MarkerName\n",
    "\n",
    "P-value\n",
    "\n",
    "Allele1\n",
    "\n",
    "Allele2\n",
    "\n",
    "Effect\n",
    "\n",
    "StdErr```\n",
    "\n",
    "<br>\n",
    "```\n",
    "@jaamarks will you please create a FUMA file for the .tsv of full results at this directory?\n",
    "\n",
    "@jaamarks For the FUMA file, it would be great if you could filter out SNPs with MAF<1% and low_confidence_variant=TRUE, as @bryancquach did to construct the QQ and Manhattan plots for these results.\n",
    "```"
   ]
  },
  {
   "cell_type": "code",
   "execution_count": 25,
   "metadata": {},
   "outputs": [
    {
     "name": "stdout",
     "output_type": "stream",
     "text": [
      "['Chr', 'Position', 'P-value', 'Allele1', 'Allele2', 'Effect', 'StdErr']\n",
      "['1:15791:C:T', 'T', '5.42941e-09', '3.09477e-06', 'true', '361141', '3.92157e-03', '0.00000e+00', '-5.37487e-01', '7.15663e+00', '-7.51033e-02', '9.40133e-01\\n']\n"
     ]
    }
   ],
   "source": [
    "## EC2\n",
    "import gzip\n",
    "in_file = '//rcdcollaboration01.rti.ns/johnson_share/1.HIV GWAS II/technical/UKBiobank/GWASround2/20002_1439.gwas.imputed_v3.both_sexes.tsv'\n",
    "# out_file = '//rcdcollaboration01.rti.ns/johnson_share/1.HIV GWAS II/technical/UKBiobank/GWASround2/20180917_20002_1439.gwas.imputed_v3.both_sexes_ALL_CHR_maf+low-conf_filter.FUMA'\n",
    "# in_file = 'C:\\\\Users\\\\jmarks\\\\Downloads\\\\20180917_20002_1439.gwas.imputed_v3.both_sexes_ALL_CHR_maf+low-conf_filter.FUMA.gz'\n",
    "out_file = 'C:\\\\Users\\\\jmarks\\\\Documents\\\\Temp\\\\20180917_gwas.out.fuma'\n",
    "with open(in_file, 'rt') as inF:\n",
    "    with open(out_file, 'wt') as outF:\n",
    "        #next(inF) # skip header\n",
    "        line = inF.readline()\n",
    "        # note, there were MarkerNames (rsIDs)\n",
    "        header = ['Chr', 'Position', 'P-value',\n",
    "                  'Allele1', 'Allele2', 'Effect', 'StdErr']\n",
    "        header = '\\t'.join(header)\n",
    "        outF.write(header + '\\n')\n",
    "        line = inF.readline()\n",
    "        while(line):\n",
    "            split_line = line.split('\\t')\n",
    "            maf = float(split_line[2])\n",
    "            conf = split_line[4]\n",
    "                if (maf>=0.01 and conf==\"false\"):\n",
    "                    uniq_id = split_line[0].split(':')\n",
    "                    chr = uniq_id[0]\n",
    "                    pos = uniq_id[1]\n",
    "                    a1 = uniq_id[2]\n",
    "                    a2 = uniq_id[3]\n",
    "                    pval = split_line[11].strip()\n",
    "                    effect = split_line[8]\n",
    "                    std_err = split_line[9]\n",
    "                    #rs_id = \n",
    "                    out_line = [chr, pos, pval, a1, a2, effect, std_err]\n",
    "                    out_line = '\\t'.join(out_line)\n",
    "                    outF.write(out_line + '\\n')\n",
    "            line = inF.readline()"
   ]
  },
  {
   "cell_type": "code",
   "execution_count": 78,
   "metadata": {},
   "outputs": [
    {
     "name": "stdout",
     "output_type": "stream",
     "text": [
      "Chr\tPosition\tP-value\tAllele1\tAllele2\tEffect\tStdErr\n",
      "1\t692794\t7.04336e-01\tCA\tC\t-4.40653e-05\t1.16122e-04\n",
      "\n"
     ]
    }
   ],
   "source": [
    "## EC2\n",
    "# in_file = '//rcdcollaboration01.rti.ns/johnson_share/1.HIV GWAS II/technical/UKBiobank/GWASround2/20002_1439.gwas.imputed_v3.both_sexes.tsv'\n",
    "# out_file = '//rcdcollaboration01.rti.ns/johnson_share/1.HIV GWAS II/technical/UKBiobank/GWASround2/20180917_20002_1439.gwas.imputed_v3.both_sexes_ALL_CHR_maf+low-conf_filter.FUMA'\n",
    "in_file = 'C:\\\\Users\\\\jmarks\\\\Downloads\\\\20180917_20002_1439.gwas.imputed_v3.both_sexes_ALL_CHR_maf+low-conf_filter.FUMA'\n",
    "# in_file = 'C:\\\\Users\\\\jmarks\\\\Documents\\\\Temp\\\\20180918.chrx.fuma'\n",
    "out_file = 'C:\\\\Users\\\\jmarks\\\\Documents\\\\Temp\\\\20180918_gw.fuma'\n",
    "with open(in_file, 'rt') as inF:\n",
    "    with open(out_file, 'wt') as outF:\n",
    "        #next(inF) # skip header\n",
    "        line = inF.readline()\n",
    "        # note, there were MarkerNames (rsIDs)\n",
    "        header = ['Chr', 'Position', 'P-value',\n",
    "                  'Allele1', 'Allele2', 'Effect', 'StdErr']\n",
    "        header = '\\t'.join(header)\n",
    "        print(header)\n",
    "        outF.write(header + '\\n')\n",
    "        line = inF.readline()\n",
    "        print(line)\n",
    "        while(line):\n",
    "            split_line = line.split()\n",
    "            if split_line[0]==\"X\":\n",
    "                split_line[0]='23'\n",
    "                    \n",
    "            new_line = '\\t'.join(split_line)\n",
    "            outF.write(new_line + '\\n')\n",
    "            line = inF.readline()"
   ]
  },
  {
   "cell_type": "code",
   "execution_count": 11,
   "metadata": {},
   "outputs": [
    {
     "data": {
      "text/plain": [
       "'C:\\\\Users\\\\jmarks\\\\Desktop\\\\GitHub\\\\jaamarks_notebooks\\\\HIV_Project\\\\develop'"
      ]
     },
     "execution_count": 11,
     "metadata": {},
     "output_type": "execute_result"
    }
   ],
   "source": [
    "import os\n",
    "os.getcwd()"
   ]
  },
  {
   "cell_type": "code",
   "execution_count": null,
   "metadata": {},
   "outputs": [],
   "source": []
  },
  {
   "cell_type": "code",
   "execution_count": null,
   "metadata": {},
   "outputs": [],
   "source": []
  },
  {
   "cell_type": "code",
   "execution_count": null,
   "metadata": {},
   "outputs": [],
   "source": []
  },
  {
   "cell_type": "code",
   "execution_count": null,
   "metadata": {},
   "outputs": [],
   "source": [
    "\n",
    "\n",
    "\n",
    "\n",
    "\n",
    "\n",
    "\n",
    "\n",
    "\n",
    "\n",
    "\n",
    "\n",
    "\n",
    "\n",
    "\n",
    "\n",
    "\n",
    "\n",
    "\n",
    "\n",
    "\n",
    "\n",
    "\n",
    "\n",
    "\n",
    "\n",
    "\n",
    "\n",
    "\n",
    "\n",
    "\n",
    "\n",
    "\n",
    "\n",
    "\n",
    "\n",
    "\n",
    "\n",
    "\n",
    "\n"
   ]
  }
 ],
 "metadata": {
  "kernelspec": {
   "display_name": "Python 3",
   "language": "python",
   "name": "python3"
  },
  "language_info": {
   "codemirror_mode": {
    "name": "ipython",
    "version": 3
   },
   "file_extension": ".py",
   "mimetype": "text/x-python",
   "name": "python",
   "nbconvert_exporter": "python",
   "pygments_lexer": "ipython3",
   "version": "3.6.4"
  },
  "toc": {
   "nav_menu": {},
   "number_sections": true,
   "sideBar": true,
   "skip_h1_title": false,
   "toc_cell": false,
   "toc_position": {},
   "toc_section_display": "block",
   "toc_window_display": false
  }
 },
 "nbformat": 4,
 "nbformat_minor": 2
}
