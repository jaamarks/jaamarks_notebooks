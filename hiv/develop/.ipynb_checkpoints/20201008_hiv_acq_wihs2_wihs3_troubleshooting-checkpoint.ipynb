{
 "cells": [
  {
   "cell_type": "markdown",
   "metadata": {},
   "source": [
    "# WIHS2 and WIHS3 Troubleshooting\n",
    "**author**: Jesse Marks\n",
    "\n",
    "We suspect that WIHS2 and WIHS3 have sample overlap. This notebook will provide documentation as we investigate that presumption. \n",
    "\n",
    "## Description\n",
    "We recently performed a TOPMed imputed GWAS meta-analysis for HIV acquisition ([ref](https://github.com/RTIInternational/bioinformatics/issues/97#issuecomment-698927826)). The lambda value was largely inflated. After some troubleshooting, we discovered that when WIHS2 was removed from the meta-analyis the resulting lambda value was no longer inflated. Likewise, when we excluded WIHS3 from the analysis—and included WIHS2—the lambda value was not inflated. This would suggest potential sample overlap. \n",
    "\n",
    "Next, we looked at the phenotype files supplied during the GWAS. What we found was a very large proportion of the WIHS3 sample IDs were the same as the WIHS2 sample IDs. \n",
    "\n"
   ]
  },
  {
   "cell_type": "markdown",
   "metadata": {},
   "source": [
    "## Compare phenotype files\n",
    "We will look at both the processed (what went into GWAS) and unprocessed (straight from dbGaP)..."
   ]
  },
  {
   "cell_type": "markdown",
   "metadata": {},
   "source": [
    "### unprocessed files\n",
    "These phenotype files were directory from dbGaP.\n",
    "\n",
    "* `s3://rti-hiv/shared_data/raw/wihs2/genotype/array/0001/2a_dbGaP_SubjectPhenotypesDS_NIDA_Study53_Aouizerat.txt.gz`\n",
    "* `s3://rti-common/dbGaP/phs001503_wihs3/RootStudyConsentSet_phs001503.WIHS.v1.p1.c1.HMB-IRB/PhenotypeFiles/phs001503.v1.pht007316.v1.p1.c1.WIHS_Subject_Phenotypes.HMB-IRB.txt.gz`"
   ]
  },
  {
   "cell_type": "markdown",
   "metadata": {},
   "source": [
    "#### WIHS2"
   ]
  },
  {
   "cell_type": "code",
   "execution_count": 34,
   "metadata": {
    "slideshow": {
     "slide_type": "notes"
    }
   },
   "outputs": [
    {
     "name": "stdout",
     "output_type": "stream",
     "text": [
      "3432 204477 218943 206387 2 -9\n",
      "3432 209890 218943 206387 2 -9\n",
      "3433 210459 216387 214964 2 -9\n",
      "3433 214964 0 0 2 -9\n",
      "3434 218207 0 0 2 -9\n",
      "3434 219343 211118 218207 2 -9\n",
      "3435 204110 0 0 2 -9\n",
      "3435 204205 209556 204110 2 -9\n",
      "3436 208915 219556 210231 2 -9\n",
      "3436 210231 0 0 2 -9\n",
      "\n",
      "study\tsubject_id\tage\tsex\tfamily_race\trace\thisp\tHIV_status\n",
      "53\t203299\t29\t2\tWHITE\tWHITE\tNON-HISPANIC\t1\n",
      "53\t203314\t46\t2\tAFRICAN_AMERICAN\tAFRICAN_AMERICAN\tNON-HISPANIC\t1\n",
      "53\t203323\t46\t2\tAFRICAN_AMERICAN\tAFRICAN_AMERICAN\tNON-HISPANIC\t1\n",
      "53\t203333\t47\t2\tHISPANIC\tWHITE\tHISPANIC\t0\n",
      "53\t203336\t47\t2\tAFRICAN_AMERICAN\tAFRICAN_AMERICAN\tNON-HISPANIC\t1\n",
      "53\t203361\tNULL\t2\tAFRICAN_AMERICAN\tAFRICAN_AMERICAN\tNON-HISPANIC\tNULL\n",
      "53\t203378\t52\t2\tAFRICAN_AMERICAN\tAFRICAN_AMERICAN\tNON-HISPANIC\t1\n",
      "53\t203391\t53\t2\tHISPANIC\tWHITE\tHISPANIC\t0\n",
      "53\t203399\t37\t2\tAFRICAN_AMERICAN\tAFRICAN_AMERICAN\tNON-HISPANIC\t1\n",
      "\n",
      "Number of subjects (plus the header).\n",
      "1036 2a_dbGaP_SubjectPhenotypesDS_NIDA_Study53_Aouizerat.txt\n"
     ]
    }
   ],
   "source": [
    "%%bash \n",
    "\n",
    "cd /home/jesse/Projects/hiv/scratch/gwas/wihs2/data/0001/phenotype\n",
    "#aws s3 cp s3://rti-hiv/shared_data/raw/wihs2/genotype/array/0001/Smokescreen_NIDA_Study53_Aouizerat_clean_full_sample.fam.gz .\n",
    "#aws s3 cp s3://rti-hiv/shared_data/raw/wihs2/genotype/array/0001/2a_dbGaP_SubjectPhenotypesDS_NIDA_Study53_Aouizerat.txt.gz .\n",
    "#gunzip Smokescreen_NIDA_Study53_Aouizerat_clean_full_sample.fam.gz\n",
    "#gunzip 2a_dbGaP_SubjectPhenotypesDS_NIDA_Study53_Aouizerat.txt.gz\n",
    "\n",
    "head Smokescreen_NIDA_Study53_Aouizerat_clean_full_sample.fam\n",
    "echo \"\"\n",
    "head 2a_dbGaP_SubjectPhenotypesDS_NIDA_Study53_Aouizerat.txt\n",
    "\n",
    "echo \"\"\n",
    "echo \"Number of subjects (plus the header).\"\n",
    "wc -l 2a_dbGaP_SubjectPhenotypesDS_NIDA_Study53_Aouizerat.txt\n",
    "\n",
    "tail -n +2 2a_dbGaP_SubjectPhenotypesDS_NIDA_Study53_Aouizerat.txt |\\\n",
    "  cut -f2 > wihs2_ids.txt"
   ]
  },
  {
   "cell_type": "markdown",
   "metadata": {},
   "source": [
    "#### WIHS3"
   ]
  },
  {
   "cell_type": "code",
   "execution_count": 47,
   "metadata": {},
   "outputs": [
    {
     "name": "stdout",
     "output_type": "stream",
     "text": [
      "\n",
      "3432 204477 218943 206387 2 -9\n",
      "3432 209890 218943 206387 2 -9\n",
      "3433 210459 216387 214964 2 -9\n",
      "3434 218207 0 0 2 -9\n",
      "3434 219343 211118 218207 2 -9\n",
      "3435 204110 0 0 2 -9\n",
      "3435 204205 209556 204110 2 -9\n",
      "3436 208915 219556 210231 2 -9\n",
      "3436 210231 0 0 2 -9\n",
      "3437 205792 208573 218573 2 -9\n",
      "\n",
      "dbGaP_Subject_ID\tstudy\tSUBJECT_ID\tage\tsex\tfamily_race\trace\thisp\tHIV_status\n",
      "2407677\t53\t203299\t29\t2\tWHITE\tWHITE\tNON-HISPANIC\t1\n",
      "2407286\t53\t203314\t46\t2\tAFRICAN_AMERICAN\tAFRICAN_AMERICAN\tNON-HISPANIC\t1\n",
      "2407096\t53\t203333\t47\t2\tHISPANIC\tWHITE\tHISPANIC\t0\n",
      "2406915\t53\t203336\t47\t2\tAFRICAN_AMERICAN\tAFRICAN_AMERICAN\tNON-HISPANIC\t1\n",
      "2407333\t53\t203378\t52\t2\tAFRICAN_AMERICAN\tAFRICAN_AMERICAN\tNON-HISPANIC\t1\n",
      "2407262\t53\t203391\t53\t2\tHISPANIC\tWHITE\tHISPANIC\t0\n",
      "2407040\t53\t203399\t37\t2\tAFRICAN_AMERICAN\tAFRICAN_AMERICAN\tNON-HISPANIC\t1\n",
      "2407107\t53\t203404\t45\t2\tAFRICAN_AMERICAN\tAFRICAN_AMERICAN\tNON-HISPANIC\t0\n",
      "2407554\t53\t203419\t49\t2\tAFRICAN_AMERICAN\tAFRICAN_AMERICAN\tHISPANIC\t1\n",
      "\n",
      "Number of subjects (plus the header).\n",
      "865\n"
     ]
    }
   ],
   "source": [
    "%%bash \n",
    "\n",
    "# WIHS3 unprocessed data\n",
    "cd /home/jesse/Projects/hiv/scratch/gwas/wihs3/data/0001/phenotype\n",
    "#aws s3 cp s3://rti-common/dbGaP/phs001503_wihs3/RootStudyConsentSet_phs001503.WIHS.v1.p1.c1.HMB-IRB/GenotypeFiles/phg001045.v1.WIHS.genotype-calls-matrixfmt.Axiom_Smokesc1.c1.HMB-IRB.tar.gz .\n",
    "#aws s3 cp s3://rti-common/dbGaP/phs001503_wihs3/RootStudyConsentSet_phs001503.WIHS.v1.p1.c1.HMB-IRB/PhenotypeFiles/phs001503.v1.pht007316.v1.p1.c1.WIHS_Subject_Phenotypes.HMB-IRB.txt.gz .\n",
    "    \n",
    "#tar -xvzf phg001045.v1.WIHS.genotype-calls-matrixfmt.Axiom_Smokesc1.c1.HMB-IRB.tar.gz\n",
    "#gunzip phs001503.v1.pht007316.v1.p1.c1.WIHS_Subject_Phenotypes.HMB-IRB.txt.gz\n",
    "echo \"\"\n",
    "\n",
    "head matrix/Smokescreen_NIDA_Study53_Aouizerat_clean.fam #Smokescreen_NIDA_Study53_Aouizerat_clean_full_sample.fam\n",
    "echo \"\"\n",
    "tail -n +11  phs001503.v1.pht007316.v1.p1.c1.WIHS_Subject_Phenotypes.HMB-IRB.txt | head\n",
    "echo \"\"\n",
    "echo \"Number of subjects (plus the header).\"\n",
    "tail -n +11  phs001503.v1.pht007316.v1.p1.c1.WIHS_Subject_Phenotypes.HMB-IRB.txt | wc -l\n",
    "\n",
    "\n",
    "tail -n +12  phs001503.v1.pht007316.v1.p1.c1.WIHS_Subject_Phenotypes.HMB-IRB.txt |\\\n",
    "  cut -f3 > wihs3_ids.txt"
   ]
  },
  {
   "cell_type": "markdown",
   "metadata": {},
   "source": [
    "#### intersection"
   ]
  },
  {
   "cell_type": "code",
   "execution_count": 66,
   "metadata": {},
   "outputs": [
    {
     "name": "stdout",
     "output_type": "stream",
     "text": [
      "864\n",
      "\n",
      "203299\t29\t2\tWHITE\tWHITE\tNON-HISPANIC\t1\n",
      "203314\t46\t2\tAFRICAN_AMERICAN\tAFRICAN_AMERICAN\tNON-HISPANIC\t1\n",
      "203333\t47\t2\tHISPANIC\tWHITE\tHISPANIC\t0\n",
      "203336\t47\t2\tAFRICAN_AMERICAN\tAFRICAN_AMERICAN\tNON-HISPANIC\t1\n",
      "203378\t52\t2\tAFRICAN_AMERICAN\tAFRICAN_AMERICAN\tNON-HISPANIC\t1\n",
      "203391\t53\t2\tHISPANIC\tWHITE\tHISPANIC\t0\n",
      "203399\t37\t2\tAFRICAN_AMERICAN\tAFRICAN_AMERICAN\tNON-HISPANIC\t1\n",
      "203404\t45\t2\tAFRICAN_AMERICAN\tAFRICAN_AMERICAN\tNON-HISPANIC\t0\n",
      "203419\t49\t2\tAFRICAN_AMERICAN\tAFRICAN_AMERICAN\tHISPANIC\t1\n",
      "203424\t36\t2\tAFRICAN_AMERICAN\tAFRICAN_AMERICAN\tNON-HISPANIC\t1\n",
      "\n",
      "203299\t29\t2\tWHITE\tWHITE\tNON-HISPANIC\t1\n",
      "203314\t46\t2\tAFRICAN_AMERICAN\tAFRICAN_AMERICAN\tNON-HISPANIC\t1\n",
      "203323\t46\t2\tAFRICAN_AMERICAN\tAFRICAN_AMERICAN\tNON-HISPANIC\t1\n",
      "203333\t47\t2\tHISPANIC\tWHITE\tHISPANIC\t0\n",
      "203336\t47\t2\tAFRICAN_AMERICAN\tAFRICAN_AMERICAN\tNON-HISPANIC\t1\n",
      "203361\tNULL\t2\tAFRICAN_AMERICAN\tAFRICAN_AMERICAN\tNON-HISPANIC\tNULL\n",
      "203378\t52\t2\tAFRICAN_AMERICAN\tAFRICAN_AMERICAN\tNON-HISPANIC\t1\n",
      "203391\t53\t2\tHISPANIC\tWHITE\tHISPANIC\t0\n",
      "203399\t37\t2\tAFRICAN_AMERICAN\tAFRICAN_AMERICAN\tNON-HISPANIC\t1\n",
      "203404\t45\t2\tAFRICAN_AMERICAN\tAFRICAN_AMERICAN\tNON-HISPANIC\t0\n",
      "\n",
      "864\n"
     ]
    }
   ],
   "source": [
    "%%bash \n",
    "\n",
    "cd /home/jesse/Projects/hiv/scratch/gwas/wihs3/data/0001/phenotype/\n",
    "comm -12 /home/jesse/Projects/hiv/scratch/gwas/wihs3/data/0001/phenotype/wihs3_ids.txt \\\n",
    "  /home/jesse/Projects/hiv/scratch/gwas/wihs2/data/0001/phenotype/wihs2_ids.txt | wc -l\n",
    "echo \n",
    "\n",
    "# how many lines do they have in common\n",
    "head <(tail -n +12 phs001503.v1.pht007316.v1.p1.c1.WIHS_Subject_Phenotypes.HMB-IRB.txt | cut -f3-9) \n",
    "echo \n",
    "head <(tail -n +2 /home/jesse/Projects/hiv/scratch/gwas/wihs2/data/0001/phenotype/2a_dbGaP_SubjectPhenotypesDS_NIDA_Study53_Aouizerat.txt | cut -f2-8 ) \n",
    "echo \n",
    "\n",
    "comm -12 <(tail -n +12 phs001503.v1.pht007316.v1.p1.c1.WIHS_Subject_Phenotypes.HMB-IRB.txt | cut -f3-9) \\\n",
    "  <(tail -n +2 /home/jesse/Projects/hiv/scratch/gwas/wihs2/data/0001/phenotype/2a_dbGaP_SubjectPhenotypesDS_NIDA_Study53_Aouizerat.txt | cut -f2-8 ) |\\\n",
    "  wc -l\n"
   ]
  },
  {
   "cell_type": "markdown",
   "metadata": {},
   "source": [
    "This suggests that every line in WIHS3 is in WIHS2. "
   ]
  },
  {
   "cell_type": "markdown",
   "metadata": {
    "toc-hr-collapsed": true,
    "toc-nb-collapsed": true
   },
   "source": [
    "### processed files"
   ]
  },
  {
   "cell_type": "code",
   "execution_count": 2,
   "metadata": {},
   "outputs": [],
   "source": [
    "%%bash \n",
    "\n",
    "# download phenotpe files used in the GWAS\n",
    "cd /home/jesse/Projects/hiv/scratch/gwas/wihs2/data/0001/phenotype\n",
    "aws s3 cp s3://rti-hiv/gwas/wihs2/data/acquisition/0001/phenotype/afr/wihs2_afr_hiv_status_ageatbl_pcs.tsv .\n",
    "\n",
    "cd /home/jesse/Projects/hiv/scratch/gwas/wihs3/data/0001/phenotype\n",
    "aws s3 cp s3://rti-hiv/gwas/wihs3/data/acquisition/0001/phenotype/wihs3_afr_hiv_status_age_sex_pcs.tsv .\n",
    "    \n",
    "grep -v -f ids.txt  ../../../../wihs2/data/0001/phenotype/wihs2_afr_hiv_status_ageatbl_pcs.tsv  | ww "
   ]
  },
  {
   "cell_type": "code",
   "execution_count": 51,
   "metadata": {},
   "outputs": [
    {
     "name": "stdout",
     "output_type": "stream",
     "text": [
      "3432_204477\t3432_204477\tNA\tNA\t2\t60\t1\t0.0046\t0.0047\t-0.0303\n",
      "3434_219343\t3434_219343\tNA\tNA\t2\t30\t1\t-0.0306\t-0.0379\t0.0093\n",
      "3435_204205\t3435_204205\tNA\tNA\t2\t34\t1\t0.1108\t-0.0128\t0.6652\n",
      "3436_210231\t3436_210231\tNA\tNA\t2\t51\t2\t0.0374\t-0.0981\t0.0153\n",
      "3437_205792\t3437_205792\tNA\tNA\t2\t56\t1\t-0.0152\t-0.0717\t-0.0201\n",
      "3438_219088\t3438_219088\tNA\tNA\t2\t34\t1\t-0.0126\t-0.0381\t0.0206\n",
      "3439_205762\t3439_205762\tNA\tNA\t2\t51\t2\t-0.0183\t-0.382\t-0.0284\n",
      "3440_215575\t3440_215575\tNA\tNA\t2\t59\t2\t-0.065\t0.2744\t-0.0587\n",
      "3441_213146\t3441_213146\tNA\tNA\t2\t30\t1\t-0.015\t0.0246\t-0.0109\n",
      "3441_217939\t3441_217939\tNA\tNA\t2\t34\t1\t-0.0127\t0.0311\t-0.002\n",
      "\n",
      "719\n",
      "\n",
      "11\n",
      "fid\tiid\tfatid\tmatid\tsex\tage\thiv_status\tPC3\tPC8\tPC2\n",
      "3432_209890\t3432_209890\tNA\tNA\t2\t55\t2\t6e-04\t0.0013\t-0.0327\n",
      "3433_210459\t3433_210459\tNA\tNA\t2\t33\t2\t-0.001\t-0.029\t-0.0044\n",
      "3434_218207\t3434_218207\tNA\tNA\t2\t55\t1\t-0.0317\t-0.0492\t0.0058\n",
      "3435_204110\t3435_204110\tNA\tNA\t2\t53\t1\t0.1118\t-0.0126\t0.6323\n",
      "3436_208915\t3436_208915\tNA\tNA\t2\t30\t1\t0.0393\t-0.0844\t0.0056\n",
      "3437_209158\t3437_209158\tNA\tNA\t2\t61\t1\t-0.0111\t-0.0649\t-0.0153\n",
      "3438_208185\t3438_208185\tNA\tNA\t2\t38\t1\t-0.0114\t-0.0392\t0.0216\n",
      "3439_214461\t3439_214461\tNA\tNA\t2\t49\t1\t-0.0152\t-0.3698\t-0.0254\n",
      "3440_210902\t3440_210902\tNA\tNA\t2\t42\t2\t-0.0595\t0.2747\t-0.0607\n",
      "3781_215123\t3781_215123\tNA\tNA\t2\t30\t2\t-0.0678\t0.0503\t0.0449\n"
     ]
    }
   ],
   "source": [
    "%%bash\n",
    "\n",
    "cd /home/jesse/Projects/hiv/scratch/gwas/wihs2/data/0001/phenotype\n",
    "tail -n +2 wihs2_afr_hiv_status_ageatbl_pcs.tsv | cut -f1 > ids.txt\n",
    "\n",
    "# shared IDs\n",
    "grep -f ids.txt  ../../../../wihs3/data/0001/phenotype/wihs3_afr_hiv_status_age_sex_pcs.tsv  | sort | head\n",
    "echo \"\"\n",
    "grep -f ids.txt  ../../../../wihs3/data/0001/phenotype/wihs3_afr_hiv_status_age_sex_pcs.tsv  | wc -l\n",
    "echo \"\"\n",
    "\n",
    "# unique IDs\n",
    "grep -v -f ids.txt  ../../../../wihs3/data/0001/phenotype/wihs3_afr_hiv_status_age_sex_pcs.tsv  | wc -l\n",
    "grep -v -f ids.txt  ../../../../wihs3/data/0001/phenotype/wihs3_afr_hiv_status_age_sex_pcs.tsv  "
   ]
  },
  {
   "cell_type": "markdown",
   "metadata": {},
   "source": [
    "\n",
    "|       | shared IDs | unique IDs | total IDs |\n",
    "|-------|------------|------------|-----------|\n",
    "| WIHS2 | 719        | 124        | 843       |\n",
    "| WIHS3 | 719        | 10         | 729       |"
   ]
  },
  {
   "cell_type": "code",
   "execution_count": 8,
   "metadata": {},
   "outputs": [
    {
     "name": "stdout",
     "output_type": "stream",
     "text": [
      "3432_204477\t3432_204477\tNA\tNA\t2\t58\t1\t-0.0149\t-0.0039\t0.0053\t0.0083\t-0.026\t-0.015\t-0.0429\t0.0014\t0.0023\t-0.0519\n",
      "3434_219343\t3434_219343\tNA\tNA\t2\t28\t1\t0.0205\t0.0015\t-0.0106\t0.0086\t-0.0077\t0.0067\t-0.0089\t0.0142\t-0.003\t0.0168\n",
      "3435_204205\t3435_204205\tNA\tNA\t2\t33\t1\t0.0022\t-0.0027\t0.0044\t-0.004\t-0.0184\t0.0105\t0.0248\t-0.0375\t0.0147\t-0.0234\n",
      "3436_210231\t3436_210231\tNA\tNA\t2\t49\t2\t-0.0063\t0.0067\t0.015\t-0.0054\t-0.0115\t-0.0117\t0.0244\t0.0076\t-0.006\t-0.0014\n",
      "3437_205792\t3437_205792\tNA\tNA\t2\t55\t1\t0.0296\t0.0014\t0.0026\t0.0017\t0.0103\t0.005\t-0.0108\t-0.0027\t0.0013\t0.0113\n",
      "3438_219088\t3438_219088\tNA\tNA\t2\t32\t1\t-0.0283\t0.0355\t-2e-04\t-0.0213\t0.0276\t0.021\t0.0023\t0.0139\t-0.0174\t0.0506\n",
      "3439_205762\t3439_205762\tNA\tNA\t2\t48\t2\t0.0191\t-0.009\t-0.0062\t-0.0098\t-0.0037\t0.0017\t-9e-04\t0.0054\t-0.001\t0.0065\n",
      "3440_215575\t3440_215575\tNA\tNA\t2\t56\t2\t-0.0338\t0.021\t-0.0097\t-0.0385\t0.0028\t0.0058\t-0.0059\t-0.0372\t-0.006\t0.001\n",
      "3441_213146\t3441_213146\tNA\tNA\t2\t28\t1\t-0.1254\t-0.0197\t-0.0126\t0.0302\t0.0628\t-0.0553\t-0.1147\t0.0657\t-0.0304\t-0.011\n",
      "3441_217939\t3441_217939\tNA\tNA\t2\t32\t1\t-0.0034\t-0.0046\t-0.0056\t-0.004\t-0.0209\t0.0019\t-0.0222\t0.0143\t0.0083\t-0.023\n",
      "\n",
      "719\n",
      "\n",
      "125\n"
     ]
    }
   ],
   "source": [
    "%%bash\n",
    "\n",
    "cd /home/jesse/Projects/hiv/scratch/gwas/wihs3/data/0001/phenotype\n",
    "tail -n +2 wihs3_afr_hiv_status_age_sex_pcs.tsv | cut -f1 > ids.txt\n",
    "\n",
    "\n",
    "# shared IDs\n",
    "grep -f ids.txt  ~/Projects/hiv/scratch/gwas/wihs2/data/0001/phenotype/wihs2_afr_hiv_status_ageatbl_pcs.tsv  | sort | head \n",
    "echo \"\"\n",
    "grep -f ids.txt  ~/Projects/hiv/scratch/gwas/wihs2/data/0001/phenotype/wihs2_afr_hiv_status_ageatbl_pcs.tsv  | wc -l\n",
    "echo \"\"\n",
    "\n",
    "# unique IDs\n",
    "grep -v -f ids.txt  ~/Projects/hiv/scratch/gwas/wihs2/data/0001/phenotype/wihs2_afr_hiv_status_ageatbl_pcs.tsv  | wc -l"
   ]
  },
  {
   "cell_type": "code",
   "execution_count": null,
   "metadata": {},
   "outputs": [],
   "source": []
  },
  {
   "cell_type": "code",
   "execution_count": null,
   "metadata": {},
   "outputs": [],
   "source": []
  },
  {
   "cell_type": "code",
   "execution_count": null,
   "metadata": {},
   "outputs": [],
   "source": []
  },
  {
   "cell_type": "code",
   "execution_count": null,
   "metadata": {},
   "outputs": [],
   "source": []
  },
  {
   "cell_type": "code",
   "execution_count": null,
   "metadata": {},
   "outputs": [],
   "source": []
  },
  {
   "cell_type": "code",
   "execution_count": null,
   "metadata": {},
   "outputs": [],
   "source": []
  },
  {
   "cell_type": "code",
   "execution_count": null,
   "metadata": {},
   "outputs": [],
   "source": []
  },
  {
   "cell_type": "code",
   "execution_count": null,
   "metadata": {},
   "outputs": [],
   "source": []
  },
  {
   "cell_type": "code",
   "execution_count": null,
   "metadata": {},
   "outputs": [],
   "source": []
  },
  {
   "cell_type": "code",
   "execution_count": null,
   "metadata": {},
   "outputs": [],
   "source": [
    "\n",
    "\n",
    "\n",
    "\n",
    "\n",
    "\n",
    "\n",
    "\n",
    "\n",
    "\n",
    "\n",
    "\n",
    "\n"
   ]
  }
 ],
 "metadata": {
  "kernelspec": {
   "display_name": "Python 3",
   "language": "python",
   "name": "python3"
  },
  "language_info": {
   "codemirror_mode": {
    "name": "ipython",
    "version": 3
   },
   "file_extension": ".py",
   "mimetype": "text/x-python",
   "name": "python",
   "nbconvert_exporter": "python",
   "pygments_lexer": "ipython3",
   "version": "3.8.3"
  },
  "toc-autonumbering": true
 },
 "nbformat": 4,
 "nbformat_minor": 4
}
