{
 "cells": [
  {
   "cell_type": "markdown",
   "id": "3dbcfb17-29e7-40ec-9142-e0155c3df94a",
   "metadata": {},
   "source": [
    "# ALSPAC Genetic Data\n",
    "experimentation below"
   ]
  },
  {
   "cell_type": "markdown",
   "id": "26ff8dc0-2124-49dc-a489-78b69234f908",
   "metadata": {},
   "source": [
    "#### Overlap script\n",
    "Use this python script to get the number of overlapped IDs between each set of genetic data and each set of phenotype data"
   ]
  },
  {
   "cell_type": "code",
   "execution_count": null,
   "id": "beb9b572-893a-45ad-b62c-04c9c5a5a77b",
   "metadata": {},
   "outputs": [],
   "source": [
    "\"\"\"\n",
    "Find the sample IDs in the genetic data that are also in the phenotype data.\n",
    "Do this for each set of genetic data (i.e., gwas_550_g1 and gwas 660_g0m)\n",
    "and each set of phenotype data (i.e., mothers-antenatal, mothers-TF1-3, \n",
    "mothers-FOM, kids-15yrs, and kids-17yrs.\n",
    "\n",
    "\n",
    "\"\"\"\n",
    "\n",
    "\n",
    "genetic = \"gwa_550_g1\" # which genetic data\n",
    "famfile = \"data.fam\" # genetic data fam file\n",
    "\n",
    "phen = \"mothers_antenatal\" # phenotype\n",
    "phenfile = \"phen/pheno_{}_ewas.csv\".format(phen)\n",
    "\n",
    "outfile = \"converted_data/{}_genetic_ids_in_{}_to_keep.txt\".format(genetic, phen) # print two columns of genetic IDs that have phenotype data\n",
    "idfile = \"B3176_datasetids.csv\" # this file links the IDs across files\n",
    "b3176 = \"cidB3176\" # column name used to link IDs across files. (universal IDs you could say)\n",
    "\n",
    "\n",
    "with open(idfile) as idF, open(famfile) as famF, open(phenfile) as phenF, open(outfile, \"w\") as outF:\n",
    "    head = idF.readline()\n",
    "    sl = head.strip().split(\",\")\n",
    "\n",
    "    # what is the index column of the genetic data IDs in the B3176_datasetids.csv file.\n",
    "    genetic_index = sl.index(genetic)\n",
    "    # what is the index column of the universal IDs in the B3176_datasetids.csv file.\n",
    "    id_index = sl.index(b3176)\n",
    "\n",
    "    id_dict = {}\n",
    "    line = idF.readline()\n",
    "    # create a dictionary that maps b3176 ID to genetic ID\n",
    "    while line:\n",
    "        sl = line.strip().split(\",\")\n",
    "        id_dict[sl[id_index]] = sl[genetic_index]\n",
    "        line = idF.readline()\n",
    "\n",
    "    phen_set = set() # keep set of all genetic IDs that are actually in the phenotype file (indicated by b3176 ID though)\n",
    "    phenline = phenF.readline() # skip the head\n",
    "    phenline = phenF.readline()\n",
    "    while phenline:\n",
    "        sl = phenline.strip().split(\",\")\n",
    "        genetic_id = id_dict[sl[0]] # convert to genetic ids so we can search the genetic data\n",
    "        phen_set.add(genetic_id)\n",
    "        phenline = phenF.readline()\n",
    "\n",
    "    # print genotype lines that are in the phenotype file\n",
    "    genline = famF.readline()\n",
    "    while genline:\n",
    "        sl = genline.split()\n",
    "        genetic_id = sl[0]\n",
    "        if genetic_id in phen_set:\n",
    "            outline = \"{} {}\\n\".format(genetic_id, genetic_id)\n",
    "            outF.write(outline)\n",
    "        genline = famF.readline()\n"
   ]
  },
  {
   "cell_type": "markdown",
   "id": "069766ca-b023-47ee-8a8d-c253c4ef2d6e",
   "metadata": {},
   "source": [
    "#### Print the overlap counts"
   ]
  },
  {
   "cell_type": "code",
   "execution_count": null,
   "id": "c47b780e-4c98-490e-90b5-6719fe52e38a",
   "metadata": {},
   "outputs": [],
   "source": [
    "wc -l *\n",
    "#  216 gwa_550_g1_genetic_ids_in_kids_F15_to_keep.txt\n",
    "#  626 gwa_550_g1_genetic_ids_in_kids_F17_to_keep.txt\n",
    "#  693 gwa_550_g1_genetic_ids_in_mothers_FOM_to_keep.txt\n",
    "#  152 gwa_550_g1_genetic_ids_in_mothers_TF1_3_to_keep.txt\n",
    "#  832 gwa_550_g1_genetic_ids_in_mothers_antenatal_to_keep.txt"
   ]
  },
  {
   "cell_type": "markdown",
   "id": "ced526bf-88a7-44b4-9e02-2692348e3d04",
   "metadata": {},
   "source": [
    "#### Extract overlap IDs: Mothers Antenatal\n",
    "Use different server here. Notice the slightly different directory path."
   ]
  },
  {
   "cell_type": "code",
   "execution_count": null,
   "id": "11e951bb-bb51-4a5b-abe6-e205ad7e6b34",
   "metadata": {},
   "outputs": [],
   "source": [
    "cd /home/ec2-user/rti-cannabis/shared_data/raw_data/alspac/genotype/gwa_550_g1/converted_data\n",
    "wc -l gwa_550_g1_genetic_ids_in_mothers_antenatal_to_keep.txt\n",
    "# 832 gwa_550_g1_genetic_ids_in_mothers_antenatal_to_keep.txt\n",
    "\n",
    "head gwa_550_g1_genetic_ids_in_mothers_antenatal_to_keep.txt\n",
    "# 38981 38981\n",
    "# 33002 33002\n",
    "# 47526 47526\n",
    "\n",
    "# now extract those IDs from the PLINK file sets\n",
    "\n",
    "\n",
    "\n",
    "# then convert the IDs to b3176\n",
    "\n",
    "# then create new PLINK file set"
   ]
  },
  {
   "cell_type": "markdown",
   "id": "f69671af-918e-40d8-826c-774eb1088703",
   "metadata": {},
   "source": [
    "#### Extract overlap IDs: Mothers TF1–3"
   ]
  },
  {
   "cell_type": "raw",
   "id": "fde93da8-7229-4070-ab70-67f0d18eab66",
   "metadata": {},
   "source": []
  },
  {
   "cell_type": "markdown",
   "id": "4fd29711-60c7-4168-b3c1-229c9a090b6b",
   "metadata": {},
   "source": [
    "#### Extract overlap IDs: Mothers FOM"
   ]
  },
  {
   "cell_type": "code",
   "execution_count": null,
   "id": "943693ce-71fe-46c7-9332-3ce34e91faba",
   "metadata": {},
   "outputs": [],
   "source": []
  },
  {
   "cell_type": "markdown",
   "id": "dc467ac7-5ded-458a-9c1d-690dcea82895",
   "metadata": {},
   "source": [
    "#### Extract overlap IDs: Kids 15yrs"
   ]
  },
  {
   "cell_type": "markdown",
   "id": "5798ee97-818c-43ae-8ca2-b3dfd47e7b3b",
   "metadata": {},
   "source": [
    "#### Extract overlap IDs: Kids 17yrs"
   ]
  },
  {
   "cell_type": "code",
   "execution_count": null,
   "id": "6827ad1c-f5d6-494d-941d-efbca316d61b",
   "metadata": {},
   "outputs": [],
   "source": []
  },
  {
   "cell_type": "markdown",
   "id": "fd5ded3e-1a13-426b-960d-b994e19721b3",
   "metadata": {},
   "source": [
    "### gwa_660"
   ]
  }
 ],
 "metadata": {
  "kernelspec": {
   "display_name": "R",
   "language": "R",
   "name": "ir"
  },
  "language_info": {
   "codemirror_mode": "r",
   "file_extension": ".r",
   "mimetype": "text/x-r-source",
   "name": "R",
   "pygments_lexer": "r",
   "version": "4.0.3"
  }
 },
 "nbformat": 4,
 "nbformat_minor": 5
}
