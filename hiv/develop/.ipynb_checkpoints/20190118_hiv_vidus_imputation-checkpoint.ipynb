{
 "cells": [
  {
   "cell_type": "markdown",
   "metadata": {},
   "source": [
    "# VIDUS imputation\n",
    "__Author__: Jesse Marks <br>\n",
    "\n",
    "**GitHub Issue**: [#42](https://github.com/RTIInternational/bioinformatics/issues/42)\n",
    "\n",
    "This document logs the steps taken to perform pre-imputation procedures on the [Vancouver Injection Drug Users Study (VIDUS)](https://www.bccsu.ca/vidus/) dataset, EAs. The starting point for this analysis is after quality control of observed genotypes. The quality controlled genotypes are oriented on the GRCh37 plus strand. \n",
    "\n",
    "## Software and tools\n",
    "The software and tools used for porcessing these data are\n",
    "* [Michigan Imputation Server](https://imputationserver.sph.umich.edu/index.html) (MIS)\n",
    "* [Amazon Web Services (AWS) - Cloud Computing Services](https://aws.amazon.com/)\n",
    "    * Linux AMI\n",
    "* [PLINK v1.90 beta 4.10](https://www.cog-genomics.org/plink/)\n",
    "* [bgzip](http://www.htslib.org/doc/tabix.html)\n",
    "* [BCF Tools](http://www.htslib.org/doc/bcftools.html)\n",
    "* Windows 10 with [Cygwin](https://cygwin.com/) installed\n",
    "* GNU bash version 4.2.46\n",
    "\n",
    "## Data retrieval and organization\n",
    "PLINK binary filesets will be obtained from AWS S3 storage.\n",
    "\n",
    "Jesse Marks performed the QC and stored the observed genotype data at:\n",
    "\n",
    "```\n",
    "s3/rti-hiv/vidus/data/genotype/observed/final/\n",
    "```"
   ]
  },
  {
   "cell_type": "markdown",
   "metadata": {},
   "source": [
    "## Create Directory Structure & Download Data\n",
    "The following section needs to be modified each time to reflect where the data is stored!\n",
    "\n",
    "**Note**: download genotype data for each study to respective data directories. For example, download STUDY genotype data (post-QC) to the appropriate directory: `${base_dir}/processing/STUDY/genotype/observed/$ancestry`"
   ]
  },
  {
   "cell_type": "code",
   "execution_count": 1,
   "metadata": {},
   "outputs": [],
   "source": [
    "### EC2 command line (bash) ###\n",
    "\n",
    "# Modify variables below\n",
    "######################################################################\n",
    "base_dir=/shared/jmarks/heroin/vidus/genotype/impute/processing\n",
    "genD=/shared/jmarks/heroin/vidus/genotype/observed/final\n",
    "\n",
    "base_name=\"chr_all\" # chr23 or chr_all\n",
    "chr_list={1..23} # {1..23} or {1..22} \n",
    "ancestry_list=\"ea\" # space delimited Ex. \"ea aa ha\"\n",
    "study_list=\"vidus\" # space delimited, lowercase\n",
    "######################################################################\n",
    "\n",
    "mkdir -p ${base_dir}/../final\n",
    "mkdir ${base_dir}/{intersect,1000g,impute_prep} \n",
    "for study in ${study_list};do\n",
    "    for ancestry in ${ancestry_list};do\n",
    "        mkdir -p ${base_dir}/${study}/genotype/observed/${ancestry}\n",
    "    done\n",
    "done\n",
    "\n",
    "## download genotype (with AWS CLI tools) to respective directories ##\n",
    "\n",
    "# cd /shared/jmarks/heroin/vidus/genotype/impute/processing/vidus/genotype/observed/ea\n",
    "# ln -s /shared/jmarks/heroin/vidus/genotype/observed/final/ea_chr_all.* ."
   ]
  },
  {
   "cell_type": "markdown",
   "metadata": {},
   "source": [
    "# Data Processing\n",
    "## GRCh37 strand and allele discordance check\n",
    "### MAF for study data"
   ]
  },
  {
   "cell_type": "code",
   "execution_count": null,
   "metadata": {
    "collapsed": true
   },
   "outputs": [],
   "source": [
    "### EC1 command line (Bash) ###\n",
    "\n",
    "# write out the MAF report\n",
    "for study in ${study_list}; do\n",
    "    study_dir=${base_dir}/${study}/strand_check\n",
    "    mkdir ${study_dir}\n",
    "    for ancestry in ${ancestry_list};do\n",
    "        data_dir=${base_dir}/${study}/genotype/observed/${ancestry}\n",
    "        /shared/bioinformatics/software/third_party/plink-1.90-beta-4.10-x86_64/plink \\\n",
    "            --noweb \\\n",
    "            --memory 2048 \\\n",
    "            --bed ${data_dir}/*bed\\\n",
    "            --bim ${data_dir}/*bim\\\n",
    "            --fam ${data_dir}/*fam\\\n",
    "            --freq \\\n",
    "            --out ${study_dir}/${ancestry}_${base_name}\n",
    "    done\n",
    "done\n",
    "\n",
    "# Get list of variants from all studies\n",
    "for ancestry in ${ancestry_list}; do\n",
    "    for study in ${study_list};do\n",
    "        cat ${base_dir}/${study}/genotype/observed/${ancestry}/*bim | \\\n",
    "                perl -lane 'if (($F[0]+0) <= 23) { print $F[1]; }' | \\\n",
    "                sort -u > ${base_dir}/${ancestry}_${base_name}_sorted_variants.txt\n",
    "    done\n",
    "done"
   ]
  },
  {
   "cell_type": "markdown",
   "metadata": {},
   "source": [
    "```\n",
    "wc -l ${base_dir}/*txt\n",
    "686744 /shared/jmarks/heroin/vidus/genotype/impute/processing/ea_chr_all_sorted_variants.txt\n",
    "```"
   ]
  },
  {
   "cell_type": "markdown",
   "metadata": {},
   "source": [
    "### MAF for 1000G\n",
    "This pipeline is currently set up to handle EUR and AFR populations.\n",
    "#### Autosomes\n",
    "Get 1000G MAF for chromosomes 1–22 (autosomes)."
   ]
  },
  {
   "cell_type": "code",
   "execution_count": null,
   "metadata": {},
   "outputs": [],
   "source": [
    "### EC2 command line (Bash)\n",
    "\n",
    "# Calculate autosome MAFs for 1000G populations\n",
    "for ancestry in ${ancestry_list};do\n",
    "\n",
    "    if [ $ancestry == \"ea\" ]\n",
    "    then\n",
    "        pop=\"EUR\"\n",
    "    else\n",
    "        pop=\"AFR\"\n",
    "    fi\n",
    "    \n",
    "    for chr in {1..22}; do\n",
    "        /shared/bioinformatics/software/scripts/qsub_job.sh \\\n",
    "            --job_name ${pop}_${chr}_MAF \\\n",
    "            --script_prefix ${base_dir}/1000g/${pop}_chr${chr}.maf \\\n",
    "            --mem 6.8 \\\n",
    "            --nslots 1 \\\n",
    "            --priority 0 \\\n",
    "            --program /shared/bioinformatics/software/perl/stats/calculate_maf_from_impute2_hap_file.pl \\\n",
    "                --hap /shared/data/ref_panels/1000G/2014.10/1000GP_Phase3_chr${chr}.hap.gz\\\n",
    "                --legend /shared/data/ref_panels/1000G/2014.10/1000GP_Phase3_chr${chr}.legend.gz \\\n",
    "                --sample /shared/data/ref_panels/1000G/2014.10/1000GP_Phase3.sample \\\n",
    "                --chr ${chr} \\\n",
    "                --out ${base_dir}/1000g/${pop}_chr${chr}.maf \\\n",
    "                --extract ${base_dir}/${ancestry}_${base_name}_sorted_variants.txt \\\n",
    "                --keep_groups ${pop}\n",
    "    done\n",
    "done"
   ]
  },
  {
   "cell_type": "markdown",
   "metadata": {},
   "source": [
    "#### chrX\n",
    "Get 1000G MAF for chromosome 23 (chrX)."
   ]
  },
  {
   "cell_type": "code",
   "execution_count": null,
   "metadata": {},
   "outputs": [],
   "source": [
    "### Bash ###\n",
    "\n",
    "chr=23\n",
    "for ancestry in ${ancestry_list};do\n",
    "\n",
    "    if [ $ancestry == \"ea\" ]\n",
    "    then\n",
    "        pop=\"EUR\"\n",
    "    else\n",
    "        pop=\"AFR\"\n",
    "    fi\n",
    "\n",
    "    /shared/bioinformatics/software/scripts/qsub_job.sh \\\n",
    "        --job_name ${pop}_23_MAF \\\n",
    "        --script_prefix ${base_dir}/1000g/${pop}_chr${chr}.maf \\\n",
    "        --mem 6.8 \\\n",
    "        --nslots 1 \\\n",
    "        --priority 0 \\\n",
    "        --program /shared/bioinformatics/software/perl/stats/calculate_maf_from_impute2_hap_file.pl \\\n",
    "            --hap /shared/data/ref_panels/1000G/2014.10/1000GP_Phase3_chrX_NONPAR.hap.gz\\\n",
    "            --legend /shared/data/ref_panels/1000G/2014.10/1000GP_Phase3_chrX_NONPAR.legend.gz \\\n",
    "            --sample /shared/data/ref_panels/1000G/2014.10/1000GP_Phase3.sample \\\n",
    "            --chr $chr \\\n",
    "            --out ${base_dir}/1000g/${pop}_chr${chr}.maf \\\n",
    "            --extract ${base_dir}/${ancestry}_${base_name}_sorted_variants.txt \\\n",
    "            --keep_groups ${pop}\n",
    "done"
   ]
  },
  {
   "cell_type": "markdown",
   "metadata": {},
   "source": [
    "### Merge 1000G chromosomes\n",
    "Only need to perform this if there were multiple chromosomes for which the MAF was calculated—e.g. more than just chrX."
   ]
  },
  {
   "cell_type": "code",
   "execution_count": null,
   "metadata": {},
   "outputs": [],
   "source": [
    "### Bash ###\n",
    "\n",
    "# Merge per chr MAFs for each 1000G population\n",
    "for ancestry in ${ancestry_list};do\n",
    "    if [ $ancestry == \"ea\" ]\n",
    "    then\n",
    "        pop=\"EUR\"\n",
    "    else\n",
    "        pop=\"AFR\"\n",
    "    fi\n",
    "    \n",
    "        head -n 1 ${base_dir}/1000g/${pop}_chr1.maf > ${base_dir}/1000g/${pop}_chr_all.maf\n",
    "        tail -q -n +2 ${base_dir}/1000g/${pop}_chr??maf  >> ${base_dir}/1000g/${pop}_chr_all.maf\n",
    "done"
   ]
  },
  {
   "cell_type": "markdown",
   "metadata": {},
   "source": [
    "```\n",
    "wc -l ${base_dir}/1000g/???_chr_all.maf\n",
    "385648 /shared/jmarks/heroin/vidus/genotype/impute/processing/1000g/EUR_chr_all.maf\n",
    "```"
   ]
  },
  {
   "cell_type": "markdown",
   "metadata": {},
   "source": [
    "###  Allele Discordances Check\n",
    "The allele discordances will be resolved by\n",
    "* Flipping allele discordances that are fixed by flipping\n",
    "* Removing SNPs with discordant names\n",
    "* Removing SNPs with discordant positions\n",
    "* Removing allele discordances that are not resolved by flipping\n",
    "* Removing alleles with large deviations from the reference population allele frequencies\n",
    "\n",
    "Given that the allele discordance check was done using a union set of SNPs across all studies within an ancestry group, some of the SNPs logged as discordant for a given study may not actually be in the study. Fortunately, if they are not in a given study they will not interfere with the filtering procedures. Note that the intersection set is used for the final studies merger.\n",
    "\n",
    "#### Autosomes"
   ]
  },
  {
   "cell_type": "code",
   "execution_count": null,
   "metadata": {},
   "outputs": [],
   "source": [
    "### Bash ###\n",
    "\n",
    "chr=\"all\"\n",
    "# Run discordance checks for each ancestry group\n",
    "for study in ${study_list}; do\n",
    "    for ancestry in ${ancestry_list};do\n",
    "        if [ $ancestry = \"ea\" ]; then\n",
    "            pop=EUR\n",
    "        else\n",
    "            pop=AFR\n",
    "        fi\n",
    "\n",
    "       /shared/bioinformatics/software/scripts/qsub_job.sh \\\n",
    "           --job_name ${ancestry}_${study}_crosscheck_chr_${chr} \\\n",
    "           --script_prefix ${base_dir}/$study/strand_check/${ancestry}_allele_discordance_check \\\n",
    "           --mem 6 \\\n",
    "           --nslots 4 \\\n",
    "           --priority 0 \\\n",
    "           --program \"Rscript /shared/bioinformatics/software/R/check_study_data_against_1000G.R\n",
    "               --study_bim_file ${base_dir}/${study}/genotype/observed/${ancestry}/*bim\n",
    "               --study_frq_file ${base_dir}/${study}/strand_check/${ancestry}_chr_all.frq\n",
    "               --ref_maf_file ${base_dir}/1000g/${pop}_chr_all.maf\n",
    "               --out_prefix ${base_dir}/${study}/strand_check/${ancestry}_allele_discordance\"\n",
    "    done\n",
    "done"
   ]
  },
  {
   "cell_type": "markdown",
   "metadata": {},
   "source": [
    "#### chrX \n",
    "The following code should not be run unless chr23 was the only chromosome processed."
   ]
  },
  {
   "cell_type": "code",
   "execution_count": null,
   "metadata": {},
   "outputs": [],
   "source": [
    "#### Bash ###\n",
    "#\n",
    "#chr=23\n",
    "#for study in ${study_list}; do\n",
    "#    for ancestry in ${ancestry_list};do\n",
    "#        if [ $ancestry = \"ea\" ]; then\n",
    "#            pop=EUR\n",
    "#        else\n",
    "#            pop=AFR\n",
    "#        fi\n",
    "#\n",
    "#        # chr23 discordance check\n",
    "#        /shared/bioinformatics/software/scripts/qsub_job.sh \\\n",
    "#            --job_name ${ancestry}_${study}_crosscheck_chr${chr} \\\n",
    "#            --script_prefix ${base_dir}/${study}/strand_check/${ancestry}_allele_discordance_check \\\n",
    "#            --mem 6.8 \\\n",
    "#            --nslots 1 \\\n",
    "#            --priority 0 \\\n",
    "#            --program \"Rscript /shared/bioinformatics/software/R/check_study_data_against_1000G.R\n",
    "#                --study_bim_file ${base_dir}/${study}/genotype/observed/${ancestry}/*bim\n",
    "#                --study_frq_file ${base_dir}/${study}/strand_check/${ancestry}_chr23.frq\n",
    "#                --ref_maf_file ${base_dir}/1000g/${pop}_chr23.maf\n",
    "#                --out_prefix ${base_dir}/${study}/strand_check/${ancestry}_allele_discordance_${chr}\"\n",
    "#    done\n",
    "#done"
   ]
  },
  {
   "cell_type": "markdown",
   "metadata": {},
   "source": [
    "### Resolving Allele Discordances"
   ]
  },
  {
   "cell_type": "code",
   "execution_count": null,
   "metadata": {
    "collapsed": true
   },
   "outputs": [],
   "source": [
    "### Bash ###\n",
    "\n",
    "# Apply filters\n",
    "for study in ${study_list}; do\n",
    "    for ancestry in ${ancestry_list};do\n",
    "        echo -e \"\\n===============\\nProcessing ${study}_${ancestry}\\n\"\n",
    "        echo \"Making remove list\"\n",
    "        cat <(cut -f2,2 ${base_dir}/${study}/strand_check/${ancestry}_allele_discordance.discordant_alleles_not_fixed_by_strand_flip | tail -n +2) \\\n",
    "            <(cut -f2,2 ${base_dir}/${study}/strand_check/${ancestry}_allele_discordance.at_cg_snps_freq_diff_gt_0.2 | tail -n +2) \\\n",
    "            <(cut -f2,2 ${base_dir}/${study}/strand_check/${ancestry}_allele_discordance.discordant_names | tail -n +2) \\\n",
    "            <(cut -f2,2 ${base_dir}/${study}/strand_check/${ancestry}_allele_discordance.discordant_positions | tail -n +2) \\\n",
    "            <(cut -f2,2 ${base_dir}/${study}/strand_check/${ancestry}_allele_discordance.discordant_alleles_polymorphic_in_study_not_fixed_by_strand_flip | tail -n +2) | \\\n",
    "              sort -u > ${base_dir}/${study}/strand_check/${ancestry}_snps.remove\n",
    "\n",
    "        # Create flip list\n",
    "        echo \"Making flip list\"\n",
    "        comm -23 <(cut -f2,2 ${base_dir}/${study}/strand_check/${ancestry}_allele_discordance.discordant_alleles | tail -n +2 | sort -u) \\\n",
    "                 <(cut -f2,2 ${base_dir}/${study}/strand_check/${ancestry}_allele_discordance.discordant_alleles_not_fixed_by_strand_flip | tail -n +2 | sort -u) \\\n",
    "                 > ${base_dir}/${study}/strand_check/${ancestry}_snps.flip\n",
    "\n",
    "        # Apply filters\n",
    "        /shared/bioinformatics/software/third_party/plink-1.90-beta-4.10-x86_64/plink \\\n",
    "            --noweb \\\n",
    "            --memory 2048 \\\n",
    "            --bed     ${base_dir}/${study}/genotype/observed/${ancestry}/*bed \\\n",
    "            --bim     ${base_dir}/${study}/genotype/observed/${ancestry}/*bim \\\n",
    "            --fam     ${base_dir}/${study}/genotype/observed/${ancestry}/*fam \\\n",
    "            --exclude ${base_dir}/${study}/strand_check/${ancestry}_snps.remove \\\n",
    "            --flip    ${base_dir}/${study}/strand_check/${ancestry}_snps.flip \\\n",
    "            --make-bed \\\n",
    "            --out     ${base_dir}/${study}/${ancestry}_filtered\n",
    "    done\n",
    "done"
   ]
  },
  {
   "cell_type": "markdown",
   "metadata": {},
   "source": [
    " ```\n",
    " wc -l ${base_dir}/*/*bim\n",
    "682845 /shared/jmarks/heroin/vidus/genotype/impute/processing/vidus/ea_filtered.bim\n",
    "```"
   ]
  },
  {
   "cell_type": "markdown",
   "metadata": {},
   "source": [
    "## Remove monomorphic variants\n",
    "Monomorphic variants prevent MIS from accepting the genotype data. In this case, an arbitrarily small MAF is set that is smaller than the lower bound for these data."
   ]
  },
  {
   "cell_type": "code",
   "execution_count": null,
   "metadata": {
    "collapsed": true
   },
   "outputs": [],
   "source": [
    "### Bash ###\n",
    "\n",
    "# Apply filters\n",
    "for study in ${study_list}; do\n",
    "    for ancestry in ${ancestry_list};do\n",
    "        geno_dir=${base_dir}/${study}\n",
    "\n",
    "        /shared/bioinformatics/software/third_party/plink-1.90-beta-4.10-x86_64/plink \\\n",
    "            --noweb \\\n",
    "            --memory 2048 \\\n",
    "            --bfile ${geno_dir}/${ancestry}_filtered \\\n",
    "            --maf 0.000001 \\\n",
    "            --make-bed \\\n",
    "            --out ${geno_dir}/${ancestry}_filtered_mono\n",
    "    done\n",
    "done"
   ]
  },
  {
   "cell_type": "markdown",
   "metadata": {},
   "source": [
    "```\n",
    " wc -l ${base_dir}/*/*mono.bim\n",
    "653507 /shared/jmarks/heroin/vidus/genotype/impute/processing/vidus/ea_filtered_mono.bim\n",
    "```"
   ]
  },
  {
   "cell_type": "markdown",
   "metadata": {},
   "source": [
    "### SNP intersection\n",
    "Only run if merging multiple data sets."
   ]
  },
  {
   "cell_type": "code",
   "execution_count": null,
   "metadata": {
    "collapsed": true
   },
   "outputs": [],
   "source": [
    "#studies=($study_list)  #studies=(UHS1 UHS2 UHS3_v1-2 UHS3_v1-3) # array of study names\n",
    "#num=${#studies[@]}\n",
    "#\n",
    "## Get intersection set\n",
    "#for ancestry in ${ancestry_list};do\n",
    "#    bim_files=()\n",
    "#    for (( i=0; i<${num}; i++ ));do\n",
    "#        bim_files+=(${base_dir}/processing/${studies[$i]}/${ancestry}_filtered_mono.bim)\n",
    "#    done\n",
    "#    \n",
    "#    echo -e \"\\nCalculating intersection between $ancestry ${study_list}...\\n\"\n",
    "#    sort ${bim_files[@]} | uniq -dc | awk -v num=$num '$1 == num {print $3}' \\\n",
    "#        > ${base_dir}/processing/intersect/${ancestry}_variant_intersection.txt\n",
    "#\n",
    "#    # Make new PLINK binary file sets\n",
    "#    for study in ${studies[@]}; do\n",
    "#        /shared/bioinformatics/software/third_party/plink-1.90-beta-4.10-x86_64/plink \\\n",
    "#            --noweb \\\n",
    "#            --bfile ${base_dir}/processing/${study}/${ancestry}_filtered_mono \\\n",
    "#            --extract ${base_dir}/processing/intersect/${ancestry}_variant_intersection.txt \\\n",
    "#            --make-bed \\\n",
    "#            --out ${base_dir}/processing/intersect/${study}_${ancestry}_filtered_snp_intersection\n",
    "#    done\n",
    "#done"
   ]
  },
  {
   "cell_type": "markdown",
   "metadata": {},
   "source": [
    "```wc -l *txt\n",
    "\n",
    "```"
   ]
  },
  {
   "cell_type": "markdown",
   "metadata": {},
   "source": [
    "### Merge test\n",
    "If merging multiple datasets together:\n",
    "\n",
    "As a final check to confirm that our data sets are all compatible, a PLINK file set merge is conducted. If any issues persist then an error will be raised."
   ]
  },
  {
   "cell_type": "code",
   "execution_count": null,
   "metadata": {
    "collapsed": true
   },
   "outputs": [],
   "source": [
    "#for ancestry in $ancestry_list;do\n",
    "#\n",
    "#    echo \"Creating $ancestry merge-list\"\n",
    "#    touch ${base_dir}/processing/intersect/${ancestry}_merge_list.txt\n",
    "#    for study in $study_list;do\n",
    "#        echo ${base_dir}/processing/intersect/${study}_${ancestry}_filtered_snp_intersection >>\\\n",
    "#             ${base_dir}/processing/intersect/${ancestry}_merge_list.txt\n",
    "#    done\n",
    "#\n",
    "## Merge file sets\n",
    "#    echo -e \"\\n\\n======== ${ancestry} ========\\n\\n\"\n",
    "#    /shared/bioinformatics/software/third_party/plink-1.90-beta-4.10-x86_64/plink \\\n",
    "#        --noweb \\\n",
    "#        --memory 4000 \\\n",
    "#        --merge-list ${base_dir}/processing/intersect/${ancestry}_merge_list.txt \\\n",
    "#        --make-bed \\\n",
    "#        --out ${base_dir}/processing/intersect/${ancestry}_studies_merged\n",
    "#done"
   ]
  },
  {
   "cell_type": "markdown",
   "metadata": {},
   "source": [
    "```\n",
    " wc -l *merged.bim\n",
    "```"
   ]
  },
  {
   "cell_type": "markdown",
   "metadata": {},
   "source": [
    "## Imputation preparation for Michigan Imputation Server\n",
    "Visit the [MIS Getting Started Webpage](https://imputationserver.sph.umich.edu/start.html#!pages/help) for more information about the preparing the data for upload to MIS.\n"
   ]
  },
  {
   "cell_type": "markdown",
   "metadata": {},
   "source": [
    "### VCF File Conversion"
   ]
  },
  {
   "cell_type": "markdown",
   "metadata": {},
   "source": [
    "#### If merging was done"
   ]
  },
  {
   "cell_type": "code",
   "execution_count": null,
   "metadata": {},
   "outputs": [],
   "source": [
    "### Split by chr and remove any individuals with missing data for whole chr\n",
    "\n",
    "## if merged data sets together\n",
    "#for ancestry in $ancestry_list;do\n",
    "#    # Remove SNPs\n",
    "#    /shared/bioinformatics/software/third_party/plink-1.90-beta-4.10-x86_64/plink \\\n",
    "#        --noweb \\\n",
    "#        --memory 4000 \\\n",
    "#        --bfile ${base_dir}/processing/intersect/${ancestry}_studies_merged \\\n",
    "#        --chr ${chr} \\\n",
    "#        --mind 0.99 \\\n",
    "#        --make-bed \\\n",
    "#        --out ${base_dir}/processing/impute_prep/${ancestry}_chr${chr}_for_phasing \n",
    "#done > ${base_dir}/processing/impute_prep/chr_splitting.log "
   ]
  },
  {
   "cell_type": "markdown",
   "metadata": {},
   "source": [
    "#### If NO merging was performed \n",
    "I.e. if there was only one data set being processing."
   ]
  },
  {
   "cell_type": "code",
   "execution_count": null,
   "metadata": {},
   "outputs": [],
   "source": [
    "## if NO merging was done\n",
    "for ancestry in $ancestry_list;do\n",
    "    for chr in {1..23};do\n",
    "        # Remove SNPs\n",
    "        /shared/bioinformatics/software/third_party/plink-1.90-beta-4.10-x86_64/plink \\\n",
    "            --noweb \\\n",
    "            --memory 4000 \\\n",
    "            --bfile ${base_dir}/$study/${ancestry}_filtered_mono \\\n",
    "            --chr ${chr} \\\n",
    "            --mind 0.99 \\\n",
    "            --make-bed \\\n",
    "            --out ${base_dir}/impute_prep/${ancestry}_chr${chr}_for_phasing \n",
    "    done\n",
    "done > ${base_dir}/impute_prep/chr_splitting.log "
   ]
  },
  {
   "cell_type": "markdown",
   "metadata": {},
   "source": [
    "__Note__: No subjects were removed.\n",
    "\n",
    "```\n",
    "/shared/jmarks/heroin/vidus/genotype/impute/processing/impute_prep/ea_chr10_for_phasing.log:0 people removed due to missing genotype data (--mind).\n",
    "/shared/jmarks/heroin/vidus/genotype/impute/processing/impute_prep/ea_chr11_for_phasing.log:0 people removed due to missing genotype data (--mind).\n",
    "\n",
    "...\n",
    "\n",
    "/shared/jmarks/heroin/vidus/genotype/impute/processing/impute_prep/ea_chr8_for_phasing.log:0 people removed due to missing genotype data (--mind).\n",
    "/shared/jmarks/heroin/vidus/genotype/impute/processing/impute_prep/ea_chr9_for_phasing.log:0 people removed due to missing genotype data (--mind).```"
   ]
  },
  {
   "cell_type": "code",
   "execution_count": null,
   "metadata": {
    "collapsed": true
   },
   "outputs": [],
   "source": [
    "# EC2 command line #\n",
    "\n",
    "for chr in {1..23};do\n",
    "    for ancestry in ${ancestry_list};do\n",
    "        final_dir=${base_dir}/impute_prep/${ancestry}\n",
    "        mkdir $final_dir\n",
    "        /shared/bioinformatics/software/third_party/plink-1.90-beta-4.10-x86_64/plink \\\n",
    "            --noweb \\\n",
    "            --memory 5000 \\\n",
    "            --bfile ${final_dir}/../${ancestry}_chr${chr}_for_phasing \\\n",
    "            --output-chr M \\\n",
    "            --set-hh-missing \\\n",
    "            --recode vcf bgz \\\n",
    "            --out ${final_dir}/${ancestry}_chr${chr}_final\n",
    "    done\n",
    "done"
   ]
  },
  {
   "cell_type": "markdown",
   "metadata": {},
   "source": [
    "Transfer the *.vcf.gz files to local machine (per chromosome) and then upload to MIS."
   ]
  },
  {
   "cell_type": "markdown",
   "metadata": {},
   "source": [
    "## Upload to Michigan Imputation Server (MIS)\n",
    "\n",
    "### Uploading parameters\n",
    "These are the parameters that were selected on MIS.\n",
    "\n",
    "__Name__: VIDUS_EA\n",
    "\n",
    "__Reference Panel__ 1000G Phase 3 v5\n",
    "\n",
    "__Input Files__ File Upload <br>\n",
    "\n",
    "* Select Files - select VCF (.gz) files that were downloaded to local machine from cloud. <br>\n",
    "\n",
    "__Phasing__: ShapeIT v2.r790 (unphased) \n",
    "\n",
    "__Population__: EUR\n",
    "\n",
    "__Mode__: Quality Control & Imputation\n",
    "\n",
    "* I will not attempt to re-identify or contact research participants.\n",
    "* I will report any inadvertent data release, security breach or other data management incident of which I become aware."
   ]
  },
  {
   "cell_type": "markdown",
   "metadata": {},
   "source": [
    "# Download Imputed Results from MIS\n",
    "First, download the data form the Michigan Imputation Server (MIS) by clicking on the link provided in the email they send out to alert you that your data has finished. Here you will find commands for downloading the data."
   ]
  },
  {
   "cell_type": "markdown",
   "metadata": {},
   "source": [
    "## EA\n",
    "The zip files from Michigan Imputation Server (MIS) need to be inflated before you can begin working with them. They require a passcode that is sent by MIS to email.\n",
    "* EA password: kyQ9D3h9PZWos\n",
    "\n",
    "Then, inflate imputation results."
   ]
  },
  {
   "cell_type": "code",
   "execution_count": null,
   "metadata": {},
   "outputs": [],
   "source": [
    "ancestry=ea\n",
    "passW=kyQ9D3h9PZWos\n",
    "cd /shared/data/studies/heroin/uhs4/genotype/imputed/20181209/final/$ancestry\n",
    "\n",
    "# QC-results\n",
    "wget https://imputationserver.sph.umich.edu/share/results/ecbbfbb8dd22b1e62ce0d3d9c10ba2f8/qcreport.html\n",
    "\n",
    "# SNP Statistics\n",
    "wget https://imputationserver.sph.umich.edu/share/results/5a5b03861174bb36d72b966ca7c174a3/statistics.txt\n",
    "\n",
    "\n",
    "# Logs\n",
    "wget https://imputationserver.sph.umich.edu/share/results/a574d6d950193ece5bf3b67e29428909/chr_1.log\n",
    "wget https://imputationserver.sph.umich.edu/share/results/95c9951e18635b35f7a99b4e951beb77/chr_10.log\n",
    "wget https://imputationserver.sph.umich.edu/share/results/417d40ca0f151d0eac7825ba0b24d6df/chr_11.log\n",
    "wget https://imputationserver.sph.umich.edu/share/results/7555fc95a13dfb787e54076be819f2af/chr_12.log\n",
    "wget https://imputationserver.sph.umich.edu/share/results/8d589cf89f544e6ffee6db2b0378fa8d/chr_13.log\n",
    "wget https://imputationserver.sph.umich.edu/share/results/46b93bce4701fbb3a436db23bf8e0ef6/chr_14.log\n",
    "wget https://imputationserver.sph.umich.edu/share/results/387f5f2402bfa22ba7e3852a82d187eb/chr_15.log\n",
    "wget https://imputationserver.sph.umich.edu/share/results/e5a1df7922fc32ff01c780fc19090673/chr_16.log\n",
    "wget https://imputationserver.sph.umich.edu/share/results/43ea7776b28b295cbf8358ddad217e3e/chr_17.log\n",
    "wget https://imputationserver.sph.umich.edu/share/results/188e8efffe4f81207d9cd16197d1e9ac/chr_18.log\n",
    "wget https://imputationserver.sph.umich.edu/share/results/6c6002019a4fc5ca521a7f017554583b/chr_19.log\n",
    "wget https://imputationserver.sph.umich.edu/share/results/a55502c3dbcf808ee95a671e1c04acb7/chr_2.log\n",
    "wget https://imputationserver.sph.umich.edu/share/results/5226ebe22979a8cf14495f08d590a483/chr_20.log\n",
    "wget https://imputationserver.sph.umich.edu/share/results/7033b4a41c3be9178b3e7606e44e281d/chr_21.log\n",
    "wget https://imputationserver.sph.umich.edu/share/results/cb8794938f682520f76043e9e71bedde/chr_22.log\n",
    "wget https://imputationserver.sph.umich.edu/share/results/720c068b2275322106e4af6559af621f/chr_3.log\n",
    "wget https://imputationserver.sph.umich.edu/share/results/d3286d9bc5e7274f09f5e364c7cdd4a/chr_4.log\n",
    "wget https://imputationserver.sph.umich.edu/share/results/9c542f85c0d4729caead6d95607c7455/chr_5.log\n",
    "wget https://imputationserver.sph.umich.edu/share/results/f9a3707ff5e85ce8650074af46cee5ae/chr_6.log\n",
    "wget https://imputationserver.sph.umich.edu/share/results/4f1679df0c84ecd3b7ff32ecddecf774/chr_7.log\n",
    "wget https://imputationserver.sph.umich.edu/share/results/11c5bb44f35ae97a7cb7ae823e0e9b95/chr_8.log\n",
    "wget https://imputationserver.sph.umich.edu/share/results/d2d388f00804f185a576a992656e3fa3/chr_9.log\n",
    "wget https://imputationserver.sph.umich.edu/share/results/dbaea61a38c47d22039bea660dd86507/chr_X.no.auto_female.log\n",
    "\n",
    "\n",
    "# Imputation Results\n",
    "wget https://imputationserver.sph.umich.edu/share/results/d4d707d0b541259a379587abb643374f/chr_1.zip\n",
    "wget https://imputationserver.sph.umich.edu/share/results/cbe570d8b2376a115e617bc812682e4f/chr_10.zip\n",
    "wget https://imputationserver.sph.umich.edu/share/results/8ff9d002a80fc5dc0f900f8a2e21e346/chr_11.zip\n",
    "wget https://imputationserver.sph.umich.edu/share/results/4d23b127de40f4288fa463a3ac0a1832/chr_12.zip\n",
    "wget https://imputationserver.sph.umich.edu/share/results/d323fa78aa2988fd9563e66ca9a84bd5/chr_13.zip\n",
    "wget https://imputationserver.sph.umich.edu/share/results/55323402c7d85372366ee1ca34375d9c/chr_14.zip\n",
    "wget https://imputationserver.sph.umich.edu/share/results/e316e9fd7df9ea92da921685f188e6f5/chr_15.zip\n",
    "wget https://imputationserver.sph.umich.edu/share/results/775e3e52ff664452a08c922c93018118/chr_16.zip\n",
    "wget https://imputationserver.sph.umich.edu/share/results/f1ba42d0d3757e0193ab6c3eeaba04ea/chr_17.zip\n",
    "wget https://imputationserver.sph.umich.edu/share/results/b85fe2f8236d68fa89fc2baa65827e2f/chr_18.zip\n",
    "wget https://imputationserver.sph.umich.edu/share/results/c726fbe8eff6a225e73c1977b94ee1f2/chr_19.zip\n",
    "wget https://imputationserver.sph.umich.edu/share/results/8d0bf2e50599de28080ca8a183bb283a/chr_2.zip\n",
    "wget https://imputationserver.sph.umich.edu/share/results/37cef67fd24bf36c8d0eb024e248fc6d/chr_20.zip\n",
    "wget https://imputationserver.sph.umich.edu/share/results/4b19df5b2ef8be81cccfbbc73850e59/chr_21.zip\n",
    "wget https://imputationserver.sph.umich.edu/share/results/b73d2b4ef3d27cbffff6760bc117f441/chr_22.zip\n",
    "wget https://imputationserver.sph.umich.edu/share/results/4513d0480f2bc5db76eb4fb70a6f20c4/chr_3.zip\n",
    "wget https://imputationserver.sph.umich.edu/share/results/1ccac332a1e254e38ba76e36fee2be97/chr_4.zip\n",
    "wget https://imputationserver.sph.umich.edu/share/results/99e36681a3cb633619a6fa9282688358/chr_5.zip\n",
    "wget https://imputationserver.sph.umich.edu/share/results/be6747fcbe03f2bdd2f0aef31f89ee59/chr_6.zip\n",
    "wget https://imputationserver.sph.umich.edu/share/results/ea3a1306509c98a0de9cb8eee8c3fcce/chr_7.zip\n",
    "wget https://imputationserver.sph.umich.edu/share/results/eaed51016447957ed0cc3335e38c9b33/chr_8.zip\n",
    "wget https://imputationserver.sph.umich.edu/share/results/6fbc45c47c5f96c820c92d45370ee8ae/chr_9.zip\n",
    "wget https://imputationserver.sph.umich.edu/share/results/16841f72ec2009fb156f27988d8beab1/chr_X.no.auto_female.zip\n",
    "\n",
    "\n",
    "# paste code above into bash script called download_data\n",
    "/shared/bioinformatics/software/scripts/qsub_job.sh \\\n",
    "    --job_name ${ancestry}_impute_down \\\n",
    "    --script_prefix ${ancestry}_impute_download \\\n",
    "    --mem 6.8 \\\n",
    "    --nslots 1 \\\n",
    "    --priority 0 \\\n",
    "    --program bash download_data_${ancestry}\n",
    "\n",
    "# inflate chr results\n",
    "for file in *zip;do\n",
    "    /shared/bioinformatics/software/scripts/qsub_job.sh \\\n",
    "        --job_name ${ancestry}_unzip \\\n",
    "        --script_prefix ${ancestry}_unzip \\\n",
    "        --mem 6.8 \\\n",
    "        --nslots 1 \\\n",
    "        --priority 0 \\\n",
    "        --program unzip -P $passW $file\n",
    "done\n",
    "rm -rf *zip"
   ]
  },
  {
   "cell_type": "markdown",
   "metadata": {},
   "source": [
    "## AA\n",
    "The zip files from Michigan Imputation Server (MIS) need to be inflated before you can begin working with them. They require a passcode that is sent by MIS to email.\n",
    "* AA password: r4wBmEoSBQjl0I\n",
    "\n",
    "Then, inflate imputation results."
   ]
  },
  {
   "cell_type": "code",
   "execution_count": null,
   "metadata": {},
   "outputs": [],
   "source": [
    "ancestry=aa\n",
    "passW=r4wBmEoSBQjl0I\n",
    "cd /shared/data/studies/heroin/uhs4/genotype/imputed/20181209/final/$ancestry\n",
    "\n",
    "# QC-results\n",
    "wget https://imputationserver.sph.umich.edu/share/results/5c4609de8b0bfe335db6f0fdea7390ae/qcreport.html\n",
    "\n",
    "# SNP Statistics\n",
    "wget https://imputationserver.sph.umich.edu/share/results/e938672dbae111ec272269d44eebc2ab/statistics.txt\n",
    "\n",
    "# Logs\n",
    "wget https://imputationserver.sph.umich.edu/share/results/83918ccb9cd3eed6b537ce7c92ee0472/chr_1.log\n",
    "wget https://imputationserver.sph.umich.edu/share/results/8d3d6f59b7891691b6bc08d68ef93033/chr_10.log\n",
    "wget https://imputationserver.sph.umich.edu/share/results/c373cc129ca79d73df150a0ad2d0267b/chr_11.log\n",
    "wget https://imputationserver.sph.umich.edu/share/results/a15d9833d1f1364513f074e52074ad7b/chr_12.log\n",
    "wget https://imputationserver.sph.umich.edu/share/results/5de7b948fa6f40c32ebed56d843a52da/chr_13.log\n",
    "wget https://imputationserver.sph.umich.edu/share/results/6eb431aebef6ae39b5a3c22c0b733c5c/chr_14.log\n",
    "wget https://imputationserver.sph.umich.edu/share/results/2fc63cf0bc9951fc001383946cd67dee/chr_15.log\n",
    "wget https://imputationserver.sph.umich.edu/share/results/504b5191ac485f47056006f6421e8c8f/chr_16.log\n",
    "wget https://imputationserver.sph.umich.edu/share/results/9551021d261f347d9df918ca9e58a26e/chr_17.log\n",
    "wget https://imputationserver.sph.umich.edu/share/results/f5c0f8ac41935d71fcf8f266d4260a78/chr_18.log\n",
    "wget https://imputationserver.sph.umich.edu/share/results/a5534044f5b50a87c9a59ec8ea13caa3/chr_19.log\n",
    "wget https://imputationserver.sph.umich.edu/share/results/f302c90156dc8eb0723f16baf8829db7/chr_2.log\n",
    "wget https://imputationserver.sph.umich.edu/share/results/e61cd38ff99a385d95ff69841cfdfb6a/chr_20.log\n",
    "wget https://imputationserver.sph.umich.edu/share/results/eada87d6ab38ea10b90500f9ad35bc60/chr_21.log\n",
    "wget https://imputationserver.sph.umich.edu/share/results/2b37c829af5cf08e095f7606690b1947/chr_22.log\n",
    "wget https://imputationserver.sph.umich.edu/share/results/938be86c1f8c7bc0a01a1fe9d2a341e4/chr_3.log\n",
    "wget https://imputationserver.sph.umich.edu/share/results/62c99ebe9a50c309cec91f58259d0293/chr_4.log\n",
    "wget https://imputationserver.sph.umich.edu/share/results/dd7e26d34b7397bcfdc99d310fed25b5/chr_5.log\n",
    "wget https://imputationserver.sph.umich.edu/share/results/655d8edeae89ac6763143bf402a79b73/chr_6.log\n",
    "wget https://imputationserver.sph.umich.edu/share/results/f7d5a744f11df6231b5fbd70ef8cc9ba/chr_7.log\n",
    "wget https://imputationserver.sph.umich.edu/share/results/8f7701cd2bb5c0f1b6804c97071acca4/chr_8.log\n",
    "wget https://imputationserver.sph.umich.edu/share/results/f1129f2a7aaad5a747fd28e82451ad35/chr_9.log\n",
    "wget https://imputationserver.sph.umich.edu/share/results/f297e0b985514314a0b159a41dd105c6/chr_X.no.auto_female.log\n",
    "\n",
    "\n",
    "# Imputation Results\n",
    "wget https://imputationserver.sph.umich.edu/share/results/4b0775f9427d14106c0e9bf23b8cdc8e/chr_1.zip\n",
    "wget https://imputationserver.sph.umich.edu/share/results/2974b00af98e6860f61e4aa12b0058c2/chr_10.zip\n",
    "wget https://imputationserver.sph.umich.edu/share/results/710f8c91e5cfbc94b1663fd1013d1a3d/chr_11.zip\n",
    "wget https://imputationserver.sph.umich.edu/share/results/dc41f8d0844b7c9939bec230336de10f/chr_12.zip\n",
    "wget https://imputationserver.sph.umich.edu/share/results/c48bb4a998f56755bc4a3a11acbf10fd/chr_13.zip\n",
    "wget https://imputationserver.sph.umich.edu/share/results/d51681d59e70e9e3fb6a0b6b8529c9f1/chr_14.zip\n",
    "wget https://imputationserver.sph.umich.edu/share/results/50e201fcd58ef3dd95d953db6c6d7c8f/chr_15.zip\n",
    "wget https://imputationserver.sph.umich.edu/share/results/613bd854dff6359f28d7385830ff66c4/chr_16.zip\n",
    "wget https://imputationserver.sph.umich.edu/share/results/1e03c8709c65a8014e1e43dcb84fa44e/chr_17.zip\n",
    "wget https://imputationserver.sph.umich.edu/share/results/7075737f88adfe878c8ff2406fae9c07/chr_18.zip\n",
    "wget https://imputationserver.sph.umich.edu/share/results/829ed4ebbc920339ca7049008d80ccb8/chr_19.zip\n",
    "wget https://imputationserver.sph.umich.edu/share/results/489ee092b7cda32d14d6871c6f3ab072/chr_2.zip\n",
    "wget https://imputationserver.sph.umich.edu/share/results/c9360a34e1d22952ac7563b2f3ab78e8/chr_20.zip\n",
    "wget https://imputationserver.sph.umich.edu/share/results/315d335d71a886e1427ab10fb1870941/chr_21.zip\n",
    "wget https://imputationserver.sph.umich.edu/share/results/89c5712bc59fede952d62c6a3d45440e/chr_22.zip\n",
    "wget https://imputationserver.sph.umich.edu/share/results/86490a9229e10b399b681183d9ec1191/chr_3.zip\n",
    "wget https://imputationserver.sph.umich.edu/share/results/bdbe8ee95404295fbc9850f8adf4fcdf/chr_4.zip\n",
    "wget https://imputationserver.sph.umich.edu/share/results/bc657969eb73e0007dd1012c095da531/chr_5.zip\n",
    "wget https://imputationserver.sph.umich.edu/share/results/a85d0c08c4588a4c6736e3ba32acd50d/chr_6.zip\n",
    "wget https://imputationserver.sph.umich.edu/share/results/d7d44badf0534d874357618d3f3ab2ef/chr_7.zip\n",
    "wget https://imputationserver.sph.umich.edu/share/results/d829733d33af378421e8b6f4d381338f/chr_8.zip\n",
    "wget https://imputationserver.sph.umich.edu/share/results/503e8a34a78b1a4e1bf9c9395e742038/chr_9.zip\n",
    "wget https://imputationserver.sph.umich.edu/share/results/c23633892dbc9cdb05bbcc8ca54223b7/chr_X.no.auto_female.zip\n",
    "\n",
    "# paste code above into bash script called download_data\n",
    "/shared/bioinformatics/software/scripts/qsub_job.sh \\\n",
    "    --job_name ${ancestry}_impute_down \\\n",
    "    --script_prefix ${ancestry}_impute_download \\\n",
    "    --mem 6.8 \\\n",
    "    --nslots 1 \\\n",
    "    --priority 0 \\\n",
    "    --program bash download_data_${ancestry}\n",
    "\n",
    "# inflate chr results\n",
    "for file in *zip;do\n",
    "    /shared/bioinformatics/software/scripts/qsub_job.sh \\\n",
    "        --job_name ${ancestry}_unzip \\\n",
    "        --script_prefix ${ancestry}_unzip \\\n",
    "        --mem 6.8 \\\n",
    "        --nslots 1 \\\n",
    "        --priority 0 \\\n",
    "        --program unzip -P $passW $file\n",
    "done\n",
    "## inflate chr results\n",
    "#/shared/bioinformatics/software/scripts/qsub_job.sh \\\n",
    "#    --job_name ${ancestry}_unzip \\\n",
    "#    --script_prefix ${ancestry}_unzip \\\n",
    "#    --mem 6.8 \\\n",
    "#    --nslots 1 \\\n",
    "#    --priority 0 \\\n",
    "#    --program unzip -P $passW *zip \n",
    "# we can remove the original imputed data from MIS after we inflate the zip files\n",
    "rm -rf *zip"
   ]
  },
  {
   "cell_type": "markdown",
   "metadata": {},
   "source": [
    "# Upload to S3"
   ]
  },
  {
   "cell_type": "code",
   "execution_count": null,
   "metadata": {},
   "outputs": [],
   "source": [
    "cd /shared/data/studies/heroin/uhs4/genotype/imputed/20181209\n",
    "\n",
    "for ancestry in {aa,ea};do\n",
    "    /shared/bioinformatics/software/scripts/qsub_job.sh \\\n",
    "        --job_name ${ancestry}_upload \\\n",
    "        --script_prefix ${ancestry}_upload \\\n",
    "        --mem 6.8 \\\n",
    "        --nslots 1 \\\n",
    "        --priority 0 \\\n",
    "        --program aws s3 sync ${ancestry} s3://rti-heroin/uhs4/data/genotype/imputed/${ancestry}/\n",
    "done"
   ]
  }
 ],
 "metadata": {
  "kernelspec": {
   "display_name": "R",
   "language": "R",
   "name": "ir"
  },
  "language_info": {
   "codemirror_mode": "r",
   "file_extension": ".r",
   "mimetype": "text/x-r-source",
   "name": "R",
   "pygments_lexer": "r",
   "version": "3.6.1"
  },
  "toc": {
   "nav_menu": {},
   "number_sections": true,
   "sideBar": true,
   "skip_h1_title": false,
   "toc_cell": false,
   "toc_position": {},
   "toc_section_display": "block",
   "toc_window_display": false
  }
 },
 "nbformat": 4,
 "nbformat_minor": 2
}
