{
 "cells": [
  {
   "cell_type": "markdown",
   "id": "82fff5de-78b7-4d90-b2c2-0ff15f05c5a7",
   "metadata": {},
   "source": [
    "# UHS1 & McLaren GWAS Meta-Analysis\n",
    "\n",
    "We will combine the samples from European descent into a GWAS meta-analysis. \n",
    "\n",
    "## Data Descriptions and locations\n",
    "\n",
    "**UHS1**: \n",
    "* Novel Genetic Locus Implicated for HIV-1 Acquisition with Putative Regulatory Links to HIV Replication and Infectivity: A Genome-Wide Association Study ([PMID: 26023777](https://pubmed.ncbi.nlm.nih.gov/26023777/))\n",
    "* s3://rti-hiv/gwas/uhs1/results/acquisition/0001/eur/split_by_chromosome/ \n",
    "* We will need to combine the chromosome-specific results.\n",
    "* Determine what filters have been applied, if any.\n",
    "\n",
    "**McLaren**: \n",
    "* Association study of common genetic variants and HIV-1 acquisition in 6,300 infected cases and 7,200 controls [(PMID: 23935489)](https://pubmed.ncbi.nlm.nih.gov/23935489/)\n",
    "* s3://rti-hiv/gwas/mclaren/processed/hiv_acquisition/final_stats/hg19/\n",
    "* We will need to combine the chromosome-specific results.\n",
    "* We have the original non-filtered results, as well as the filtered results with the following filters applied:\n",
    "1. MAF > 1%\n",
    "2. Imputation quality (INFO) > 0.30\n",
    "3. Only keep SNPs only if available in all cohorts\n",
    "4. Reformatted indels to align with how our in-house results are coded\n",
    "5. Convert to 1000 Genomes phase 3\n",
    "6. Convert Odds ration (OR) to beta-coefficient (renamed beta_SNP_addA1)\n"
   ]
  },
  {
   "cell_type": "markdown",
   "id": "012336c1-cf37-4bdd-b90e-b57a787d5a71",
   "metadata": {},
   "source": [
    "## UHS1\n",
    "Need to determine the position for each variant. Use the variants at `s3://rti-common/variants/b153/GRCh37.p13/variants_chr*.tsv.gz`. I may need to write a custom script.\n",
    "\n",
    "Also need to filter by MAF and RSQ."
   ]
  },
  {
   "cell_type": "code",
   "execution_count": null,
   "id": "27420b26-2a5b-420c-96b6-1d85175091c2",
   "metadata": {},
   "outputs": [],
   "source": [
    "# download chromosome chunks\n",
    "cd ~/rti-hiv/gwas/uhs1/results/acquisition/0001/eur/split_by_chromosome/\n",
    "\n",
    "aws s3 sync s3://rti-hiv/gwas/uhs1/results/acquisition/0001/eur/split_by_chromosome/ .\n",
    "\n",
    "zcat imputed.hiv_cauc.chr1.GWASHIV_10evs_class_syear_rec_aage_gwassex.palogist.csv.gz | head\n",
    "#\"name\",\"A1\",\"A2\",\"Freq1\",\"MAF\",\"Quality\",\"Rsq\",\"n\",\"Mean_predictor_allele\",\"beta_SNP_add\",\"sebeta_SNP_add\",\"loglik\",\"chi\",\"p\",\"or_95_percent_ci\"\n",
    "#\"rs58108140\",\"G\",\"A\",0.872,0.128,0,0.432,1132,0.871962,-0.0140979,0.209907,-674.692,0.00451081491670313,0.946452258281973,\"0.99 (0.65-1.49)\"\n"
   ]
  },
  {
   "cell_type": "markdown",
   "id": "747198ba-a99e-4716-988a-d75ec824374c",
   "metadata": {},
   "source": [
    "### Add variant positions\n",
    "Our summary stats did not have positions, so we will extract the variant positions from GRCh37 reference files. \n",
    "\n",
    "`s3://rti-common/variants/b153/GRCh37.p13/variants_chr{1..22}.tsv.gz`"
   ]
  },
  {
   "cell_type": "code",
   "execution_count": null,
   "id": "5a0f54d6-49c8-4f9f-a1c7-a200ee0187c2",
   "metadata": {},
   "outputs": [],
   "source": [
    "cd /home/ec2-user/rti-hiv/gwas/uhs1/results/acquisition/0001/eur/\n",
    "\n",
    "# copy the var\n",
    "for chr in {1..22}; do\n",
    "    aws s3 cp s3://rti-common/variants/b153/GRCh37.p13/variants_chr${chr}.tsv.gz .\n",
    "done"
   ]
  },
  {
   "cell_type": "code",
   "execution_count": null,
   "id": "3cdf28fe-1cc9-4004-b84e-a7afb5d2ab4d",
   "metadata": {},
   "outputs": [],
   "source": [
    "import gzip\n",
    "\n",
    "for chrom in range(1, 23):\n",
    "    infile = \"variants_chr{}.tsv.gz\".format(chrom)\n",
    "    gwas_file = \"split_by_chromosome/chr{}/imputed.hiv_cauc.chr{}.GWASHIV_10evs_class_syear_rec_aage_gwassex.palogist.csv.gz\".format(chrom, chrom)\n",
    "    out_file = \"split_by_chromosome/chr{}/imputed.hiv_cauc.chr{}.GWASHIV_10evs_class_syear_rec_aage_gwassex.palogist.1000g_p3.txt\".format(chrom, chrom)\n",
    "\n",
    "\n",
    "    with gzip.open(infile, \"rt\") as inF, gzip.open(gwas_file) as gwasF, open(out_file, 'w') as outF:\n",
    "        # prepare header\n",
    "        gwas_head = gwasF.readline()\n",
    "        gwas_head = gwas_head.replace('\"', '') # remove quotations\n",
    "        gwas_head = gwas_head.strip().split(\",\")\n",
    "        # add pos and chr to from of header\n",
    "        gwas_head.insert(0, \"pos\")\n",
    "        gwas_head.insert(0, \"chr\")\n",
    "        gwas_head[-1] = \"odds_ratio\" # remove confidence int portion\n",
    "        gwas_head = \" \".join(gwas_head) + \"\\n\"\n",
    "        outF.write(gwas_head)\n",
    "        print(gwas_head)\n",
    "\n",
    "        head = inF.readline()\n",
    "        line = inF.readline()\n",
    "\n",
    "        snp_dic = {}\n",
    "        #for _ in range(100000):\n",
    "        # our sumstats don't have the variant positions \n",
    "        # so make a dictionary of the reference GRCh37 variants so we can extract the position\n",
    "        while line: \n",
    "            sl = line.strip().split(\"\\t\")\n",
    "            markername = sl[0]\n",
    "            rsid = markername.split(\":\")[0]\n",
    "            pos = markername.split(\":\")[1]\n",
    "\n",
    "            snp_dic[rsid] = [markername, pos]\n",
    "            line = inF.readline()\n",
    "        #print(dict(list(snp_dic.items())[0:20]))\n",
    "\n",
    "        line = gwasF.readline()\n",
    "        #for _ in range(10000):\n",
    "        # now run through our sumstats, and if the rsid was in the reference\n",
    "        # dictionary then extract the variant position\n",
    "        while line:\n",
    "            line = line.strip()\n",
    "            line = line.replace('\"', '')\n",
    "            sl = line.split(\",\")\n",
    "            rsid = sl[0]\n",
    "            if rsid in snp_dic:\n",
    "                odds_ratio = sl[-1].split(\" \")[0] # remove the confidence interval portion\n",
    "                sl[-1] = odds_ratio\n",
    "\n",
    "                a1 = sl[1]\n",
    "                a2 = sl[2]\n",
    "                position = snp_dic[rsid][1]\n",
    "                #thou_phase3 = \"{}:{}:{}:{}\".format(rsid, position, a1, a2)\n",
    "                #sl[0] = thou_phase3\n",
    "                sl.insert(0, position)\n",
    "                sl.insert(0, str(chrom))\n",
    "                outline = \" \".join(sl) + \"\\n\"\n",
    "                outF.write(outline) \n",
    "\n",
    "                line = gwasF.readline()\n",
    "            else:\n",
    "                line = gwasF.readline()\n"
   ]
  },
  {
   "cell_type": "markdown",
   "id": "ac49e23e-c8a0-4cf7-a39d-6ca3ba459029",
   "metadata": {},
   "source": [
    "### Apply filters & combine chromosomes\n",
    "Combine the split chromosome results and apply the filters RSQ >= 0.30 and  MAF >= 0.01. These are the same filters that were applied to the McLaren results."
   ]
  },
  {
   "cell_type": "code",
   "execution_count": null,
   "id": "8ea55f03-e3ff-40b5-86f5-7ec37e9146a8",
   "metadata": {},
   "outputs": [],
   "source": [
    "# combine results\n",
    "head -1 chr1/imputed.hiv_cauc.chr1.GWASHIV_10evs_class_syear_rec_aage_gwassex.palogist.positions.txt >/\n",
    "    uhs1_ea_hiv_acquisition_all_chr_stats.txt\n",
    "for chr in {1..22}; do\n",
    "    tail -n + 2 chr$chr/imputed.hiv_cauc.chr$chr.GWASHIV_10evs_class_syear_rec_aage_gwassex.palogist.positions.txt >>/\n",
    "    uhs1_ea_hiv_acquisition_all_chr_stats.txt\n",
    "done\n",
    "\n",
    "\n",
    "# apply rsq and maf filters\n",
    "cat uhs1_ea_hiv_acquisition_all_chr_stats.txt | awk '\n",
    "{ if ($7 >= 0.01 && $9 >= 0.3)\n",
    "{print $0}}' > uhs1_ea_hiv_acquisition_all_chr_stats_rsq0.30_maf0.01.txt\n",
    "\n",
    "# zip and upload to s3\n",
    "gzip uhs1_ea_hiv_acquisition_all_chr_stats_rsq0.30_maf0.01.txt\n",
    "aws s3 cp uhs1_ea_hiv_acquisition_all_chr_stats_rsq0.30_maf0.01.txt.gz \\\n",
    "    imputed.hiv_cauc.chr1.GWASHIV_10evs_class_syear_rec_aage_gwassex.palogist.positions.txt.gz"
   ]
  },
  {
   "cell_type": "markdown",
   "id": "0b37e2e5-ab68-4773-9b0c-a9c87dcbf532",
   "metadata": {},
   "source": [
    "## McLaren\n",
    "### Format variants\n",
    "\n",
    "Convert the variants from rsid:pos:a1:a2 format to just rsID."
   ]
  },
  {
   "cell_type": "code",
   "execution_count": null,
   "id": "bba27af2-7485-4ada-8ae8-d488c2ca5e25",
   "metadata": {},
   "outputs": [],
   "source": [
    "import gzip\n",
    "\n",
    "for chrom in range(1,22):\n",
    "    infile = \"mclaren.hiv_acq.hg19.chr{}.stats.gz\".format(chrom)\n",
    "    outfile = \"mclaren.hiv_acquisition.hg19.chr{}.rsid_only.stats.tsv\".format(chrom)\n",
    "\n",
    "    with gzip.open(infile, 'rt') as inF, open(outfile, 'w') as outF:\n",
    "        head = inF.readline()\n",
    "        outF.write(head)\n",
    "        print(head)\n",
    "        line = inF.readline()\n",
    "        while line:\n",
    "            sl = line.split()\n",
    "            markername = sl[0].split(\":\")\n",
    "            rsid = markername[0]\n",
    "            if rsid[0] == \"r\":\n",
    "                sl[0] = rsid\n",
    "                outline = \"\\t\".join(sl) + \"\\n\"\n",
    "                outF.write(outline)\n",
    "            line = inF.readline()"
   ]
  },
  {
   "cell_type": "code",
   "execution_count": null,
   "id": "2aebe9fa-b2ad-4871-af5c-a544d43b8e75",
   "metadata": {},
   "outputs": [],
   "source": [
    "# combine to one file\n",
    "for chr in {1..22}; do \n",
    "    tail -n +2 mclaren.hiv_acquisition.hg19.chr$chr.rsid_only.stats.tsv >>\\\n",
    "    mclaren_ea_hiv_acquisition_hg39_all_chr_rsq0.30_maf_0.01_rsid_only.tsv\n",
    "done\n",
    "\n",
    "gzip mclaren_ea_hiv_acquisition_hg39_all_chr_rsq0.30_maf_0.01_rsid_only.tsv\n",
    "\n",
    "# upload to S3\n",
    "aws s3 cp mclaren_ea_hiv_acquisition_hg39_all_chr_rsq0.30_maf_0.01_rsid_only.tsv \\\n",
    "    s3://rti-hiv/gwas/mclaren/processed/hiv_acquisition/final_stats/hg19/merge_chromosomes/mclaren_ea_hiv_acquisition_hg39_all_chr_rsq0.30_maf_0.01_rsid_only.tsv.gz"
   ]
  },
  {
   "cell_type": "markdown",
   "id": "c8f8fee1-333a-4c29-8039-79a3a69fd7a0",
   "metadata": {},
   "source": [
    "## combine chromosomes\n",
    "Note that the RSQ 0.30 and MAF 0.01 filters have already been applied. See the methods file on AWS S3 `s3://rti-hiv/gwas/mclaren/processed/hiv_acquisition/final_stats/hg19/_methods.mclaren.hiv_acq.results_processing.sh`## combine chromosomes\n"
   ]
  },
  {
   "cell_type": "code",
   "execution_count": null,
   "id": "3a1dae5b-e1c9-42d0-9f4e-4d15a7d6a302",
   "metadata": {},
   "outputs": [],
   "source": []
  },
  {
   "cell_type": "code",
   "execution_count": null,
   "id": "d3140efe-ba3e-49df-9fe1-ab23a23e3a56",
   "metadata": {},
   "outputs": [],
   "source": []
  }
 ],
 "metadata": {
  "kernelspec": {
   "display_name": "Python 3",
   "language": "python",
   "name": "python3"
  },
  "language_info": {
   "codemirror_mode": {
    "name": "ipython",
    "version": 3
   },
   "file_extension": ".py",
   "mimetype": "text/x-python",
   "name": "python",
   "nbconvert_exporter": "python",
   "pygments_lexer": "ipython3",
   "version": "3.9.4"
  }
 },
 "nbformat": 4,
 "nbformat_minor": 5
}
