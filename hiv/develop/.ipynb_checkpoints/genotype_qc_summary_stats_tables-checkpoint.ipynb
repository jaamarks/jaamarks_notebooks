{
 "cells": [
  {
   "cell_type": "markdown",
   "metadata": {},
   "source": [
    "### Ancestry\n",
    "#### Autosomes\n",
    "This table includes autosome filtering statistics prior to merging with chrX.\n",
    "\n",
    "| QC procedure                                    | Variants removed | Variants retained | Subjects removed | Subjects retained |\n",
    "|-------------------------------------------------|------------------|-------------------|------------------|-------------------|\n",
    "| STRUCTURE analysis (all chr)                    | -                |                   |                  |                   |\n",
    "| Partitioning to only autosomes                  |                  |                   | -                | -                  |\n",
    "| Remove subjects missing whole autosome data     | -                | -                 |                  | -                  |\n",
    "| Remove variants with missing call rate > 3%     |                  |                   | -                | -                  |\n",
    "| Remove variants with HWE p < 0.0001             |                  |                   | -                | -                  |\n",
    "\n",
    "\n",
    "#### chrX\n",
    "This table includes chrX filtering statistics prior to merging with autosomes.\n",
    "\n",
    "| QC procedure                                   | Variants removed | Variants retained | Subjects removed |  Subjects retained |\n",
    "|------------------------------------------------|------------------|-------------------|------------------|-------------------|\n",
    "| Partitioning to only chrX                      |                  |                   | -                | -                 |\n",
    "| Remove subjects missing whole chrX data        | -                | -                 |                  | -                 |\n",
    "| Remove variants with missing call rate > 3%    |                  |                   | -                | -                 |\n",
    "| Remove variants with HWE p < 0.0001            |                  |                   | -                | -                 |\n",
    "\n",
    "\n",
    "#### Merged\n",
    "| QC procedure                           | Variants removed | Variants retained | Subjects removed |  Subjects retained |\n",
    "|----------------------------------------|------------------|-------------------|------------------|--------------------|\n",
    "| Excessive homozygosity filter          | -                |                   |                  | -                  |\n",
    "| Remove Subjects with IBS > 0.9         | -                | -                 |                  |                    |\n",
    "| Remove Subjects with IBD > 0.4         | -                |                   |                  |                    |\n",
    "| Genotype Call Rate Subject Filter (3%) | -                | -                 |                  |                    |\n",
    "| Sex discordance filter                 | -                |                   |                  |                    |\n",
    "\n",
    "#### Pre-imputation filtering\n",
    "\n",
    "| QC procedure                           | Variants removed | Variants retained | Subjects removed |  Subjects retained |\n",
    "|----------------------------------------|------------------|-------------------|------------------|--------------------|\n",
    "| remove 1000G discordant alleles        |                  |                   |                  | -                  |\n",
    "| remove monomorphic variants            |                  |                   |                  | -                  |\n",
    "| remove individuals missing whole chr   | -                |                   |                  |                    |"
   ]
  }
 ],
 "metadata": {
  "kernelspec": {
   "display_name": "R",
   "language": "R",
   "name": "ir"
  },
  "language_info": {
   "codemirror_mode": "r",
   "file_extension": ".r",
   "mimetype": "text/x-r-source",
   "name": "R",
   "pygments_lexer": "r",
   "version": "3.6.1"
  },
  "toc": {
   "base_numbering": 1,
   "nav_menu": {},
   "number_sections": true,
   "sideBar": true,
   "skip_h1_title": false,
   "title_cell": "Table of Contents",
   "title_sidebar": "Contents",
   "toc_cell": false,
   "toc_position": {},
   "toc_section_display": true,
   "toc_window_display": false
  }
 },
 "nbformat": 4,
 "nbformat_minor": 4
}
