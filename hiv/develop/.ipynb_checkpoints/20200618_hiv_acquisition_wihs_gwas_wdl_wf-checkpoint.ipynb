{
 "cells": [
  {
   "cell_type": "markdown",
   "metadata": {},
   "source": [
    "# WIHS HIV Acquisition GWAS\n",
    "Author: Jesse Marks\n",
    "\n",
    "The HIV acquisition GWAS meta-analysis needs to reran with the cohorts updated using the TopMed reference panel."
   ]
  },
  {
   "cell_type": "markdown",
   "metadata": {},
   "source": [
    "# WIHS1"
   ]
  },
  {
   "cell_type": "code",
   "execution_count": null,
   "metadata": {},
   "outputs": [],
   "source": []
  },
  {
   "cell_type": "code",
   "execution_count": null,
   "metadata": {},
   "outputs": [],
   "source": []
  },
  {
   "cell_type": "code",
   "execution_count": null,
   "metadata": {},
   "outputs": [],
   "source": []
  },
  {
   "cell_type": "markdown",
   "metadata": {},
   "source": [
    "## Analysis Workflow"
   ]
  },
  {
   "cell_type": "code",
   "execution_count": null,
   "metadata": {},
   "outputs": [],
   "source": [
    "mkdir -p /shared/rti-hiv/gwas/wihs1/results/hiv_acquisition/0001/afr\n",
    "\n",
    "## Cloning this repo and biocloud_wdl_tools submodule together\n",
    "cd /shared/\n",
    "git clone --recurse-submodules https://github.com/RTIInternational/biocloud_gwas_workflows.git"
   ]
  },
  {
   "cell_type": "code",
   "execution_count": null,
   "metadata": {},
   "outputs": [],
   "source": [
    "# Create wf config file for eur\n",
    "cp /shared/biocloud_gwas_workflows/association_testing/rvtests/tests/test_rvtests_gwas_wf.json \\\n",
    "    /shared/bioinformatics/methods/rti-hiv/gwas/wihs1/results/hiv_acquisition/0001/afr_assoc_wf.json\n",
    "\n",
    "# Modify config settings manually\n"
   ]
  }
 ],
 "metadata": {
  "kernelspec": {
   "display_name": "R",
   "language": "R",
   "name": "ir"
  },
  "language_info": {
   "codemirror_mode": "r",
   "file_extension": ".r",
   "mimetype": "text/x-r-source",
   "name": "R",
   "pygments_lexer": "r",
   "version": "3.6.1"
  }
 },
 "nbformat": 4,
 "nbformat_minor": 4
}
