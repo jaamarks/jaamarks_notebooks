{
 "cells": [
  {
   "cell_type": "markdown",
   "metadata": {},
   "source": [
    "# UHS1-3 chrX imputation\n",
    "__Author__: Jesse Marks <br>\n",
    "**Date:** October 04, 2018\n",
    "\n",
    "**GitHub Issue:** [Issue #53](https://github.com/RTIInternational/bioinformatics/issues/53)\n",
    "\n",
    "This document logs the steps taken to perform pre-imputation procedures on the Kreek dataset, both EA and AA. The starting point for this analysis is after quality control of observed genotypes. The quality controlled genotypes are oriented on the GRCh37 plus strand. \n",
    "\n",
    "## Software and tools\n",
    "The software and tools used for porcessing these data are\n",
    "* [Michigan Imputation Server](https://imputationserver.sph.umich.edu/index.html) (MIS)\n",
    "* [Amazon Web Services (AWS) - Cloud Computing Services](https://aws.amazon.com/)\n",
    "    * Linux AMI\n",
    "* [PLINK v1.90 beta 4.10](https://www.cog-genomics.org/plink/)\n",
    "* [bgzip](http://www.htslib.org/doc/tabix.html)\n",
    "* [BCF Tools](http://www.htslib.org/doc/bcftools.html)\n",
    "* Windows 10 with [Cygwin](https://cygwin.com/) installed\n",
    "* GNU bash version 4.2.46\n",
    "\n",
    "## Data retrieval and organization\n",
    "PLINK binary filesets will be obtained from AWS S3 storage.\n",
    "\n",
    "Jesse Marks performed the QC and stored the observed genotype data at:\n",
    "\n",
    "```\n",
    "s3/rti-heroin/kreek/data/genotype/original/20181128/\n",
    "```"
   ]
  },
  {
   "cell_type": "markdown",
   "metadata": {},
   "source": [
    "###  Statistics Breakdown \n",
    "This table includes the initial number of variants in each study as well as the final number of variants in the intersection set. The `Variants Post-Filtering` is in referral to the filtering steps (1) remove discordant alleles & (2) removal of monomorphic variants.\n",
    "\n",
    "#### EA\n",
    "| Data Set      | Initial Variants | Variants Post-Filtering  | Intersection     |\n",
    "|---------------|------------------|--------------------------|------------------|\n",
    "| Kreek         |                  |                          | NA               |\n",
    "\n",
    "\n",
    "#### AA\n",
    "| Data Set      | Initial Variants | Variants Post-Filtering  | Intersection     |\n",
    "|---------------|------------------|--------------------------|------------------|\n",
    "| Kreek         |                  |                          | NA               |\n"
   ]
  },
  {
   "cell_type": "markdown",
   "metadata": {},
   "source": [
    "## Create Directory Structure & Download Data\n",
    "The following section needs to be modified each time to reflect where the data is stored!"
   ]
  },
  {
   "cell_type": "code",
   "execution_count": 1,
   "metadata": {},
   "outputs": [],
   "source": [
    "### EC2 command line (bash) ###\n",
    "\n",
    "# Modify variables below\n",
    "######################################################################\n",
    "base_dir=/shared/data/studies/heroin/kreek/genotype/imputed/processing\n",
    "genD=/shared/data/studies/heroin/kreek/genotype/observed/final\n",
    "\n",
    "base_name=\"chr_all\" # chr23 or chr_all\n",
    "chr_list={1..23} # or {1..22} \n",
    "ancestry_list=\"aa ea\" # space delimited Ex. \"ea aa ha\"\n",
    "study_list=\"kreek\" # space delimited \n",
    "######################################################################\n",
    "\n",
    "mkdir ${base_dir}/processing/{intersect,1000g,impute_prep}\n",
    "for study in ${study_list};do\n",
    "    for ancestry in ${ancestry_list};do\n",
    "        mkdir -p ${base_dir}/processing/${study}\n",
    "        mkdir -p ${base_dir}/data/${study}/genotype/observed/${ancestry}\n",
    "    done\n",
    "done\n",
    "\n",
    "## download genotype (with AWS CLI tools) to respective directories ##\n",
    "\n",
    "# /home/ec2-user/jmarks/hiv/uhs123/data/UHS1/genotype/observed/aa\n",
    "# /home/ec2-user/jmarks/hiv/uhs123/data/UHS1/genotype/observed/ea\n",
    "aws s3 cp s3://rti-midas-data/studies/hiv/observed/final/ \\\n",
    "    /home/ec2-user/jmarks/hiv/uhs123/data/UHS2/genotype/observed/aa \\\n",
    "    --recursive --exclude \"*\" --include \"uhs2.aa.chr23.*\"\\\n",
    "aws s3 cp s3://rti-midas-data/studies/hiv/observed/final/ \\\n",
    "    /home/ec2-user/jmarks/hiv/uhs123/data/UHS2/genotype/observed/ea \\\n",
    "    --recursive --exclude \"*\" --include \"uhs2.ea.chr23.*\"\\\n",
    "# /home/ec2-user/jmarks/hiv/uhs123/data/UHS3_v1-2/genotype/observed/aa\n",
    "# /home/ec2-user/jmarks/hiv/uhs123/data/UHS3_v1-2/genotype/observed/ea\n",
    "# /home/ec2-user/jmarks/hiv/uhs123/data/UHS3_v1-3/genotype/observed/aa\n",
    "# /home/ec2-user/jmarks/hiv/uhs123/data/UHS3_v1-3/genotype/observed/ea"
   ]
  },
  {
   "cell_type": "markdown",
   "metadata": {},
   "source": [
    "# Data Processing\n",
    "## GRCh37 strand and allele discordance check\n",
    "### MAF for study data"
   ]
  },
  {
   "cell_type": "code",
   "execution_count": null,
   "metadata": {
    "collapsed": true
   },
   "outputs": [],
   "source": [
    "### EC1 command line (Bash) ###\n",
    "\n",
    "# write out the MAF report\n",
    "for study in ${study_list}; do\n",
    "    study_dir=${base_dir}/processing/${study}/strand_check\n",
    "    mkdir ${study_dir}\n",
    "    for ancestry in ${ancestry_list};do\n",
    "        data_dir=${base_dir}/data/${study}/genotype/observed/${ancestry}\n",
    "        /shared/bioinformatics/software/third_party/plink-1.90-beta-4.10-x86_64/plink \\\n",
    "            --noweb \\\n",
    "            --memory 2048 \\\n",
    "            --bed ${data_dir}/*bed\\\n",
    "            --bim ${data_dir}/*bim\\\n",
    "            --fam ${data_dir}/*fam\\\n",
    "            --freq \\\n",
    "            --out ${study_dir}/${ancestry}_${base_name}\n",
    "    done\n",
    "done\n",
    "\n",
    "# Get list of variants from all studies\n",
    "for ancestry in ${ancestry_list}; do\n",
    "    for study in ${study_list};do\n",
    "        cat ${base_dir}/data/${study}/genotype/observed/${ancestry}/*bim | \\\n",
    "                perl -lane 'if (($F[0]+0) <= 23) { print $F[1]; }' | \\\n",
    "                sort -u > ${base_dir}/processing/${ancestry}_${base_name}_sorted_variants.txt\n",
    "    done\n",
    "done"
   ]
  },
  {
   "cell_type": "markdown",
   "metadata": {},
   "source": [
    "```\n",
    " wc -l processing/*\n",
    " 44706 processing/aa_chr23_sorted_variants.txt\n",
    "  35440 processing/ea_chr23_sorted_variants.txt\n",
    "  ```"
   ]
  },
  {
   "cell_type": "markdown",
   "metadata": {},
   "source": [
    "### MAF for 1000G\n",
    "This pipeline is currently set up to handle EUR and AFR populations.\n",
    "#### Autosomes\n",
    "Get 1000G MAF for chromosomes 1–22 (autosomes)."
   ]
  },
  {
   "cell_type": "code",
   "execution_count": null,
   "metadata": {},
   "outputs": [],
   "source": [
    "### EC2 command line (Bash)\n",
    "\n",
    "# Calculate autosome MAFs for 1000G populations\n",
    "for ancestry in ${ancestry_list};do\n",
    "\n",
    "    if [ $ancestry == \"ea\" ]\n",
    "    then\n",
    "        pop=\"EUR\"\n",
    "    else\n",
    "        pop=\"AFR\"\n",
    "    fi\n",
    "    \n",
    "for chr in {1..22}; do\n",
    "    /shared/bioinformatics/software/scripts/qsub_job.sh \\\n",
    "        --job_name ${pop}_${chr}_MAF \\\n",
    "        --script_prefix ${base_dir}/1000g/${pop}_chr${chr}.maf \\\n",
    "        --mem 6.8 \\\n",
    "        --nslots 1 \\\n",
    "        --priority 0 \\\n",
    "        --program /shared/bioinformatics/software/perl/stats/calculate_maf_from_impute2_hap_file.pl \\\n",
    "            --hap /shared/data/ref_panels/1000G/2014.10/1000GP_Phase3_chr${chr}.hap.gz\\\n",
    "            --legend /shared/data/ref_panels/1000G/2014.10/1000GP_Phase3_chr${chr}.legend.gz \\\n",
    "            --sample /shared/data/ref_panels/1000G/2014.10/1000GP_Phase3.sample \\\n",
    "            --chr ${chr} \\\n",
    "            --out ${base_dir}/1000g/${pop}_chr${chr}.maf \\\n",
    "            --extract ${base_dir}/${ancestry}_${base_name}_sorted_variants.txt \\\n",
    "            --keep_groups ${pop}\n",
    "done"
   ]
  },
  {
   "cell_type": "markdown",
   "metadata": {},
   "source": [
    "#### chrX\n",
    "Get 1000G MAF for chromosome 23 (chrX)."
   ]
  },
  {
   "cell_type": "code",
   "execution_count": null,
   "metadata": {},
   "outputs": [],
   "source": [
    "### Bash ###\n",
    "\n",
    "chr=23\n",
    "for ancestry in ${ancestry_list};do\n",
    "\n",
    "    if [ $ancestry == \"ea\" ]\n",
    "    then\n",
    "        pop=\"EUR\"\n",
    "    else\n",
    "        pop=\"AFR\"\n",
    "    fi\n",
    "\n",
    "    /shared/bioinformatics/software/scripts/qsub_job.sh \\\n",
    "        --job_name ${pop}_23_MAF \\\n",
    "        --script_prefix ${base_dir}/processing/1000g/${pop}_chr${chr}.maf \\\n",
    "        --mem 6.8 \\\n",
    "        --nslots 1 \\\n",
    "        --priority 0 \\\n",
    "        --program /shared/bioinformatics/software/perl/stats/calculate_maf_from_impute2_hap_file.pl \\\n",
    "            --hap /shared/data/ref_panels/1000G/2014.10/1000GP_Phase3_chrX_NONPAR.hap.gz\\\n",
    "            --legend /shared/data/ref_panels/1000G/2014.10/1000GP_Phase3_chrX_NONPAR.legend.gz \\\n",
    "            --sample /shared/data/ref_panels/1000G/2014.10/1000GP_Phase3.sample \\\n",
    "            --chr $chr \\\n",
    "            --out ${base_dir}/processing/1000g/${pop}_chr${chr}.maf \\\n",
    "            --extract ${base_dir}/processing/${ancestry}_${base_name}_sorted_variants.txt \\\n",
    "            --keep_groups ${pop}\n",
    "done"
   ]
  },
  {
   "cell_type": "markdown",
   "metadata": {},
   "source": [
    "### Merge 1000G chromosomes\n",
    "Only need to perform this if there were multiple chromosomes for which the MAF was calculated."
   ]
  },
  {
   "cell_type": "code",
   "execution_count": null,
   "metadata": {},
   "outputs": [],
   "source": [
    "### Bash ###\n",
    "#chr_list={1..23}\n",
    "\n",
    "# Merge per chr MAFs for each 1000G population\n",
    "for ancestry in ${ancestry_list};do\n",
    "    if [ $ancestry == \"ea\" ]\n",
    "    then\n",
    "        pop=\"EUR\"\n",
    "    else\n",
    "        pop=\"AFR\"\n",
    "    fi\n",
    "    \n",
    "        head -n 1 ${base_dir}/1000g/${pop}_chr1.maf > 1000g/${pop}_chr_all.maf\n",
    "        tail -q -n +2 1000g/${pop}_${chr_list}.maf \\ # chr_list defined in beginning\n",
    "            >> 1000g/${pop}_chr_all.maf\n",
    "done"
   ]
  },
  {
   "cell_type": "markdown",
   "metadata": {},
   "source": [
    "###  Allele Discordances Check\n",
    "The allele discordances will be resolved by\n",
    "* Flipping allele discordances that are fixed by flipping\n",
    "* Removing SNPs with discordant names\n",
    "* Removing SNPs with discordant positions\n",
    "* Removing allele discordances that are not resolved by flipping\n",
    "* Removing alleles with large deviations from the reference population allele frequencies\n",
    "\n",
    "Given that the allele discordance check was done using a union set of SNPs across all studies within an ancestry group, some of the SNPs logged as discordant for a given study may not actually be in the study. Fortunately, if they are not in a given study they will not interfere with the filtering procedures. Note that the intersection set is used for the final studies merger.\n",
    "\n",
    "#### Autosomes"
   ]
  },
  {
   "cell_type": "code",
   "execution_count": null,
   "metadata": {},
   "outputs": [],
   "source": [
    "### Bash ###\n",
    "\n",
    "# Run discordance checks for each ancestry group\n",
    "for study in ${study_list}; do\n",
    "    for ancestry in ${ancestry_list};do\n",
    "        if [ $ancestry = \"ea\" ]; then\n",
    "            pop=EUR\n",
    "        else\n",
    "            pop=AFR\n",
    "        fi\n",
    "\n",
    "       /shared/bioinformatics/software/scripts/qsub_job.sh \\\n",
    "           --job_name ${ancestry}_${study}_crosscheck \\\n",
    "           --script_prefix ${base_dir}/strand_check/${ancestry}_allele_discordance_check \\\n",
    "           --mem 6 \\\n",
    "           --nslots 4 \\\n",
    "           --priority 0 \\\n",
    "           --program \"Rscript /shared/bioinformatics/software/R/check_study_data_against_1000G.R\n",
    "               --study_bim_file ${base_dir}/${study}/genotype/observed/${ancestry}/*bim\n",
    "               --study_frq_file ${base_dir}/${study}/strand_check/${ancestry}_chr_all.frq\n",
    "               --ref_maf_file ${base_dir}/1000g/${pop}_chr_all.maf\n",
    "               --out_prefix ${base_dir}/${study}/strand_check/${ancestry}_allele_discordance\"\n",
    "    done\n",
    "done"
   ]
  },
  {
   "cell_type": "markdown",
   "metadata": {},
   "source": [
    "#### chrX "
   ]
  },
  {
   "cell_type": "code",
   "execution_count": null,
   "metadata": {},
   "outputs": [],
   "source": [
    "### Bash ###\n",
    "\n",
    "for study in ${study_list}; do\n",
    "    for ancestry in ${ancestry_list};do\n",
    "        if [ $ancestry = \"ea\" ]; then\n",
    "            pop=EUR\n",
    "        else\n",
    "            pop=AFR\n",
    "        fi\n",
    "\n",
    "        # chr23 discordance check\n",
    "        /shared/bioinformatics/software/scripts/qsub_job.sh \\\n",
    "            --job_name ${ancestry}_${study}_crosscheck \\\n",
    "            --script_prefix ${base_dir}/processing/${study}/strand_check/${ancestry}_allele_discordance_check \\\n",
    "            --mem 6.8 \\\n",
    "            --nslots 1 \\\n",
    "            --priority 0 \\\n",
    "            --program \"Rscript /shared/bioinformatics/software/R/check_study_data_against_1000G.R\n",
    "                --study_bim_file ${base_dir}/data/${study}/genotype/observed/${ancestry}/*bim\n",
    "                --study_frq_file ${base_dir}/processing/${study}/strand_check/${ancestry}_chr23.frq\n",
    "                --ref_maf_file ${base_dir}/processing/1000g/${pop}_chr23.maf\n",
    "                --out_prefix ${base_dir}/processing/${study}/strand_check/${ancestry}_allele_discordance\"\n",
    "    done\n",
    "done"
   ]
  },
  {
   "cell_type": "markdown",
   "metadata": {},
   "source": [
    "### Resolving Allele Discordances"
   ]
  },
  {
   "cell_type": "code",
   "execution_count": null,
   "metadata": {
    "collapsed": true
   },
   "outputs": [],
   "source": [
    "### Bash ###\n",
    "\n",
    "# Apply filters\n",
    "for study in ${study_list}; do\n",
    "    for ancestry in ${ancestry_list};do\n",
    "        echo -e \"\\n===============\\nProcessing ${study}_${ancestry}\\n\"\n",
    "        echo \"Making remove list\"\n",
    "        cat <(cut -f2,2 ${base_dir}/processing/${study}/strand_check/${ancestry}_allele_discordance.discordant_alleles_not_fixed_by_strand_flip | tail -n +2) \\\n",
    "            <(cut -f2,2 ${base_dir}/processing/${study}/strand_check/${ancestry}_allele_discordance.at_cg_snps_freq_diff_gt_0.2 | tail -n +2) \\\n",
    "            <(cut -f2,2 ${base_dir}/processing/${study}/strand_check/${ancestry}_allele_discordance.discordant_names | tail -n +2) \\\n",
    "            <(cut -f2,2 ${base_dir}/processing/${study}/strand_check/${ancestry}_allele_discordance.discordant_positions | tail -n +2) \\\n",
    "            <(cut -f2,2 ${base_dir}/processing/${study}/strand_check/${ancestry}_allele_discordance.discordant_alleles_polymorphic_in_study_not_fixed_by_strand_flip | tail -n +2) | \\\n",
    "              sort -u > ${base_dir}/processing/${study}/strand_check/${ancestry}_snps.remove\n",
    "\n",
    "        # Create flip list\n",
    "        echo \"Making flip list\"\n",
    "        comm -23 <(cut -f2,2 ${base_dir}/processing/${study}/strand_check/${ancestry}_allele_discordance.discordant_alleles | tail -n +2 | sort -u) \\\n",
    "                 <(cut -f2,2 ${base_dir}/processing/${study}/strand_check/${ancestry}_allele_discordance.discordant_alleles_not_fixed_by_strand_flip | tail -n +2 | sort -u) \\\n",
    "                 > ${base_dir}/processing/${study}/strand_check/${ancestry}_snps.flip\n",
    "\n",
    "        # Apply filters\n",
    "        /shared/bioinformatics/software/third_party/plink-1.90-beta-4.10-x86_64/plink \\\n",
    "            --noweb \\\n",
    "            --memory 2048 \\\n",
    "            --bed     ${base_dir}/data/${study}/genotype/observed/${ancestry}/*bed \\\n",
    "            --bim     ${base_dir}/data/${study}/genotype/observed/${ancestry}/*bim \\\n",
    "            --fam     ${base_dir}/data/${study}/genotype/observed/${ancestry}/*fam \\\n",
    "            --exclude ${base_dir}/processing/${study}/strand_check/${ancestry}_snps.remove \\\n",
    "            --flip    ${base_dir}/processing/${study}/strand_check/${ancestry}_snps.flip \\\n",
    "            --make-bed \\\n",
    "            --out     ${base_dir}/processing/${study}/${ancestry}_filtered\n",
    "    done\n",
    "done"
   ]
  },
  {
   "cell_type": "markdown",
   "metadata": {},
   "source": [
    " ```wc -l processing/*/*bim\n",
    "  17370 processing/UHS1/aa_filtered.bim\n",
    "  17393 processing/UHS1/ea_filtered.bim\n",
    "  23450 processing/UHS2/aa_filtered.bim\n",
    "  32836 processing/UHS2/ea_filtered.bim\n",
    "  40474 processing/UHS3_v1-2/aa_filtered.bim\n",
    "  24000 processing/UHS3_v1-2/ea_filtered.bim\n",
    "  43449 processing/UHS3_v1-3/aa_filtered.bim\n",
    "  34760 processing/UHS3_v1-3/ea_filtered.bim\n",
    "```"
   ]
  },
  {
   "cell_type": "markdown",
   "metadata": {},
   "source": [
    "## Remove monomorphic variants\n",
    "Monomorphic variants prevent MIS from accepting the genotype data. In this case, an arbitrarily small MAF is set that is smaller than the lower bound for these data."
   ]
  },
  {
   "cell_type": "code",
   "execution_count": null,
   "metadata": {
    "collapsed": true
   },
   "outputs": [],
   "source": [
    "### Bash ###\n",
    "\n",
    "# Apply filters\n",
    "for study in ${study_list}; do\n",
    "    for ancestry in ${ancestry_list};do\n",
    "        geno_dir=${base_dir}/processing/${study}\n",
    "\n",
    "        /shared/bioinformatics/software/third_party/plink-1.90-beta-4.10-x86_64/plink \\\n",
    "            --noweb \\\n",
    "            --memory 2048 \\\n",
    "            --bfile ${geno_dir}/${ancestry}_filtered \\\n",
    "            --maf 0.000001 \\\n",
    "            --make-bed \\\n",
    "            --out ${geno_dir}/${ancestry}_filtered_mono\n",
    "    done\n",
    "done"
   ]
  },
  {
   "cell_type": "markdown",
   "metadata": {},
   "source": [
    "```\n",
    "wc -l processing/*/*mono.bim\n",
    "\n",
    " 16492 processing/UHS1/aa_filtered_mono.bim\n",
    "  15630 processing/UHS1/ea_filtered_mono.bim\n",
    "  21219 processing/UHS2/aa_filtered_mono.bim\n",
    "  24485 processing/UHS2/ea_filtered_mono.bim\n",
    "  37067 processing/UHS3_v1-2/aa_filtered_mono.bim\n",
    "  19709 processing/UHS3_v1-2/ea_filtered_mono.bim\n",
    "  39765 processing/UHS3_v1-3/aa_filtered_mono.bim\n",
    "  26382 processing/UHS3_v1-3/ea_filtered_mono.bim\n",
    "```"
   ]
  },
  {
   "cell_type": "markdown",
   "metadata": {},
   "source": [
    "### SNP intersection"
   ]
  },
  {
   "cell_type": "code",
   "execution_count": null,
   "metadata": {
    "collapsed": true
   },
   "outputs": [],
   "source": [
    "studies=($study_list)  #studies=(UHS1 UHS2 UHS3_v1-2 UHS3_v1-3) # array of study names\n",
    "num=${#studies[@]}\n",
    "\n",
    "# Get intersection set\n",
    "for ancestry in ${ancestry_list};do\n",
    "    bim_files=()\n",
    "    for (( i=0; i<${num}; i++ ));do\n",
    "        bim_files+=(${base_dir}/processing/${studies[$i]}/${ancestry}_filtered_mono.bim)\n",
    "    done\n",
    "    \n",
    "    echo -e \"\\nCalculating intersection between $ancestry ${study_list}...\\n\"\n",
    "    sort ${bim_files[@]} | uniq -dc | awk -v num=$num '$1 == num {print $3}' \\\n",
    "        > ${base_dir}/processing/intersect/${ancestry}_variant_intersection.txt\n",
    "\n",
    "    # Make new PLINK binary file sets\n",
    "    for study in ${studies[@]}; do\n",
    "        /shared/bioinformatics/software/third_party/plink-1.90-beta-4.10-x86_64/plink \\\n",
    "            --noweb \\\n",
    "            --bfile ${base_dir}/processing/${study}/${ancestry}_filtered_mono \\\n",
    "            --extract ${base_dir}/processing/intersect/${ancestry}_variant_intersection.txt \\\n",
    "            --make-bed \\\n",
    "            --out ${base_dir}/processing/intersect/${study}_${ancestry}_filtered_snp_intersection\n",
    "    done\n",
    "done"
   ]
  },
  {
   "cell_type": "markdown",
   "metadata": {},
   "source": [
    "```wc -l *txt\n",
    "5890 aa_variant_intersection.txt\n",
    "  3769 ea_variant_intersection.txt\n",
    "```"
   ]
  },
  {
   "cell_type": "markdown",
   "metadata": {},
   "source": [
    "### Merge test\n",
    "As a final check to confirm that our data sets are all compatible, a PLINK file set merge is conducted. If any issues persist then an error will be raised."
   ]
  },
  {
   "cell_type": "code",
   "execution_count": null,
   "metadata": {
    "collapsed": true
   },
   "outputs": [],
   "source": [
    "for ancestry in $ancestry_list;do\n",
    "\n",
    "    echo \"Creating $ancestry merge-list\"\n",
    "    touch ${base_dir}/processing/intersect/${ancestry}_merge_list.txt\n",
    "    for study in $study_list;do\n",
    "        echo ${base_dir}/processing/intersect/${study}_${ancestry}_filtered_snp_intersection >>\\\n",
    "             ${base_dir}/processing/intersect/${ancestry}_merge_list.txt\n",
    "    done\n",
    "\n",
    "# Merge file sets\n",
    "    echo -e \"\\n\\n======== ${ancestry} ========\\n\\n\"\n",
    "    /shared/bioinformatics/software/third_party/plink-1.90-beta-4.10-x86_64/plink \\\n",
    "        --noweb \\\n",
    "        --memory 4000 \\\n",
    "        --merge-list ${base_dir}/processing/intersect/${ancestry}_merge_list.txt \\\n",
    "        --make-bed \\\n",
    "        --out ${base_dir}/processing/intersect/${ancestry}_studies_merged\n",
    "done\n"
   ]
  },
  {
   "cell_type": "markdown",
   "metadata": {},
   "source": [
    "```\n",
    " wc -l *merged.bim\n",
    "  5890 aa_studies_merged.bim\n",
    "  3769 ea_studies_merged.bim\n",
    "```"
   ]
  },
  {
   "cell_type": "markdown",
   "metadata": {},
   "source": [
    "## Imputation preparation for Michigan Imputation Server\n",
    "Visit the [MIS Getting Started Webpage](https://imputationserver.sph.umich.edu/start.html#!pages/help) for more information about the preparing the data for upload to MIS.\n"
   ]
  },
  {
   "cell_type": "markdown",
   "metadata": {},
   "source": [
    "### VCF File Conversion"
   ]
  },
  {
   "cell_type": "code",
   "execution_count": null,
   "metadata": {},
   "outputs": [],
   "source": [
    "### Split by chr and remove any individuals with missing data for whole chr\n",
    "\n",
    "#for chr in $chr_list;do\n",
    "chr=23\n",
    "for ancestry in $ancestry_list;do\n",
    "    # Remove SNPs\n",
    "    /shared/bioinformatics/software/third_party/plink-1.90-beta-4.10-x86_64/plink \\\n",
    "        --noweb \\\n",
    "        --memory 4000 \\\n",
    "        --bfile ${base_dir}/processing/intersect/${ancestry}_studies_merged \\\n",
    "        --chr ${chr} \\\n",
    "        --mind 0.99 \\\n",
    "        --make-bed \\\n",
    "        --out ${base_dir}/processing/impute_prep/${ancestry}_chr${chr}_for_phasing \n",
    "done > ${base_dir}/processing/impute_prep/chr_splitting.log \n",
    "#done"
   ]
  },
  {
   "cell_type": "markdown",
   "metadata": {},
   "source": [
    "__Note__: No subjects were removed.\n",
    "\n",
    "```\n",
    "grep remove *log\n",
    "aa_chr23_for_phasing.log:0 people removed due to missing genotype data (--mind).\n",
    "chr_splitting.log:0 people removed due to missing genotype data (--mind).\n",
    "chr_splitting.log:0 people removed due to missing genotype data (--mind).\n",
    "ea_chr23_for_phasing.log:0 people removed due to missing genotype data (--mind).\n",
    "```"
   ]
  },
  {
   "cell_type": "code",
   "execution_count": null,
   "metadata": {
    "collapsed": true
   },
   "outputs": [],
   "source": [
    "# EC2 command line #\n",
    "base_dir=/home/ec2-user/jmarks/hiv/uhs123_impute/phase_prep\n",
    "\n",
    "#for chr in ${chr_list};do\n",
    "chr=23\n",
    "    for ancestry in ${ancestry_list};do\n",
    "        final_dir=${base_dir}/processing/impute_prep/${ancestry}\n",
    "        mkdir $final_dir\n",
    "        /shared/bioinformatics/software/third_party/plink-1.90-beta-4.10-x86_64/plink \\\n",
    "            --noweb \\\n",
    "            --memory 5000 \\\n",
    "            --bfile ${final_dir}/../${ancestry}_chr${chr}_for_phasing \\\n",
    "            --output-chr M \\\n",
    "            --set-hh-missing \\\n",
    "            --recode vcf bgz \\\n",
    "            --out ${final_dir}/${ancestry}_chr${chr}_final\n",
    "    done\n",
    "#done"
   ]
  },
  {
   "cell_type": "markdown",
   "metadata": {},
   "source": [
    "Transfer the *.vcf.gz files to local machine (per chromosome) and then upload to MIS."
   ]
  },
  {
   "cell_type": "markdown",
   "metadata": {},
   "source": [
    "## Upload to Michigan Imputation Server (MIS)\n",
    "\n",
    "### Uploading parameters\n",
    "These are the parameters that were selected on MIS.\n",
    "\n",
    "__Name__: UHS1-3_merged_chrX_EA_v02\n",
    "\n",
    "__Reference Panel__ 1000G Phase 3 v5\n",
    "\n",
    "__Input Files__ File Upload <br>\n",
    "\n",
    "* Select Files - select VCF (.gz) files that were downloaded to local machine from cloud. <br>\n",
    "\n",
    "__Phasing__: ShapeIT v2.r790 (unphased) \n",
    "\n",
    "__Population__: EUR\n",
    "\n",
    "__Mode__: Quality Control & Imputation\n",
    "\n",
    "* I will not attempt to re-identify or contact research participants.\n",
    "* I will report any inadvertent data release, security breach or other data management incident of which I become aware."
   ]
  },
  {
   "cell_type": "markdown",
   "metadata": {},
   "source": [
    "# Troubleshooting\n",
    "\n",
    "```\n",
    "Chromosome X check failed! \n",
    "java.io.IOException: Found haplotype 0/1 at pos 2788707 for male proband 8002221030_HHG6599_AS93-4798_8002221030_HHG6599_AS93-4798\n",
    "Found haplotype 0/1 at pos 2825403 for male proband 8002221030_HHG6599_AS93-4798_8002221030_HHG6599_AS93-4798\n",
    "Found haplotype 0/1 at pos 2862721 for male proband 8002221030_HHG6599_AS93-4798_8002221030_HHG6599_AS93-4798\n",
    "Found haplotype 0/1 at pos 2985672 for male proband 8002221030_HHG6599_AS93-4798_8002221030_HHG6599_AS93-4798\n",
    "Found haplotype 0/1 at pos 3002687 for male proband 8002221030_HHG6599_AS93-4798_8002221030_HHG6599_AS93-4798\n",
    "Found haplotype 0/1 at pos 3028289 for male proband 8002221030_HHG6599_AS93-4798_8002221030_HHG6599_AS93-4798\n",
    "Found haplotype 0/1 at pos 3296294 for male proband 8002221030_HHG6599_AS93-4798_8002221030_HHG6599_AS93-4798\n",
    "Found haplotype 0/1 at pos 3542110 for male proband 8002221030_HHG6599_AS93-4798_8002221030_HHG6599_AS93-4798\n",
    "Found haplotype 0/1 at pos 3627414 for male proband 8002221030_HHG6599\n",
    "Error during manifest file creation.\n",
    "```\n",
    "\n",
    "**We are going to remove subject listed above in the MIS error message from the study.**"
   ]
  },
  {
   "cell_type": "code",
   "execution_count": null,
   "metadata": {},
   "outputs": [],
   "source": [
    "remove_dir=/home/ec2-user/jmarks/hiv/uhs123/processing/impute_prep/aa/remove_subject\n",
    "mkdir $remove_dir\n",
    "ancestry=aa\n",
    "chr=23\n",
    "echo 8002221030_HHG6599_AS93-4798 8002221030_HHG6599_AS93-4798 > ${remove_dir}/remove_list.tsv\n",
    "\n",
    "/shared/bioinformatics/software/third_party/plink-1.90-beta-4.10-x86_64/plink \\\n",
    "        --noweb \\\n",
    "        --memory 5000 \\\n",
    "        --bfile ${remove_dir}/../../${ancestry}_chr${chr}_for_phasing \\\n",
    "        --output-chr M \\\n",
    "        --set-hh-missing \\\n",
    "        --remove-fam remove_list.tsv \\\n",
    "        --recode vcf bgz \\\n",
    "        --out ${remove_dir}/${ancestry}_chr${chr}_final_v02"
   ]
  },
  {
   "cell_type": "markdown",
   "metadata": {},
   "source": [
    "# Download Imputed Results from MIS\n",
    "First, download the data form the Michigan Imputation Server (MIS) by clicking on the link provided in the email they send out to alert you that your data has finished. Here you will find commands for downloading the data."
   ]
  },
  {
   "cell_type": "code",
   "execution_count": null,
   "metadata": {},
   "outputs": [],
   "source": [
    "## EC2 (share drive)\n",
    "# Note: jmarks is a symlink; you will have to save results\n",
    "# to the share drive because they are very large)\n",
    "\n",
    "# create directory structure\n",
    "mkdir -p /home/ec2-user/jmarks/hiv/uhs123/data/uhs123_merged/genotype/imputed/{ea,aa}/chr23"
   ]
  },
  {
   "cell_type": "markdown",
   "metadata": {},
   "source": [
    "## ChrX\n",
    "### EA\n",
    "The zip files from Michigan Imputation Server (MIS) need to be inflated before you can begin working with them. They require a passcode that is sent by MIS to email.\n",
    "* EA password: h7QuG@JoE6YZly\n",
    "\n",
    "Then, inflate imputation results."
   ]
  },
  {
   "cell_type": "code",
   "execution_count": null,
   "metadata": {},
   "outputs": [],
   "source": [
    "cd /home/ec2-user/jmarks/hiv/uhs123/data/uhs123_merged/genotype/imputed/ea/chr23\n",
    "\n",
    "# QC-results\n",
    "wget https://imputationserver.sph.umich.edu/share/results/35979cd5ce50314a374565956a19b2d7/qcreport.html\n",
    "\n",
    "# SNP Statistics\n",
    "wget https://imputationserver.sph.umich.edu/share/results/ad1c35b7c6b187dd33c59392eeb2d04d/statistics.txt\n",
    "\n",
    "# Logs\n",
    "wget https://imputationserver.sph.umich.edu/share/results/a7e80999f2d2189108e7eb88d760da36/chr_X.no.auto_female.log\n",
    "wget https://imputationserver.sph.umich.edu/share/results/ba07ae9e15a42399b8beeb2a2fbbaea0/chr_X.no.auto_male.log\n",
    "\n",
    "# Imputation Results\n",
    "wget https://imputationserver.sph.umich.edu/share/results/11e73aeffd532773a820b6270d8e72c6/chr_X.no.auto_female.zip\n",
    "wget https://imputationserver.sph.umich.edu/share/results/251f57ab38cf0e7e1bb6b3340cc6f24/chr_X.no.auto_male.zip\n",
    "\n",
    "# inflate chr results\n",
    "unzip -P \"h7QuG@JoE6YZly\" *zip &\n",
    "\n",
    "# we can remove the original imputed data from MIS after we inflate the zip files\n",
    "rm -rf *zip"
   ]
  },
  {
   "cell_type": "markdown",
   "metadata": {},
   "source": [
    "### AA\n",
    "The zip files from Michigan Imputation Server (MIS) need to be inflated before you can begin working with them. They require a passcode that is sent by MIS to email.\n",
    "* AA password: 19tnHpC/HpsKLP\n",
    "\n",
    "Then, inflate imputation results."
   ]
  },
  {
   "cell_type": "code",
   "execution_count": null,
   "metadata": {},
   "outputs": [],
   "source": [
    "cd /home/ec2-user/jmarks/hiv/uhs123/data/uhs123_merged/genotype/imputed/ea/chr23\n",
    "\n",
    "# QC-results\n",
    "wget https://imputationserver.sph.umich.edu/share/results/9f1e1912fe6a43cca4c8ac2557be86c2/qcreport.html\n",
    "\n",
    "# SNP Statistics\n",
    "wget https://imputationserver.sph.umich.edu/share/results/8c63460445eca3cf65503d42596c6f25/statistics.txt\n",
    "\n",
    "# Logs\n",
    "wget https://imputationserver.sph.umich.edu/share/results/bf963d8403e6c3654f7276367a5cc246/chr_X.no.auto_female.log\n",
    "wget https://imputationserver.sph.umich.edu/share/results/e891d223c3f2cba010e3da4f14c2b5e7/chr_X.no.auto_male.log\n",
    "\n",
    "# Imputation Results\n",
    "wget https://imputationserver.sph.umich.edu/share/results/fd25ade116b373a335d36df5b6b482b5/chr_X.no.auto_female.zip\n",
    "wget https://imputationserver.sph.umich.edu/share/results/4c2974d769615f23c1669559b13aacc2/chr_X.no.auto_male.zip\n",
    "\n",
    "# inflate chr results\n",
    "for file in *zip;do\n",
    "    unzip -P \"19tnHpC/HpsKLP\" $file\n",
    "done\n",
    "\n",
    "# we can remove the original imputed data from MIS after we inflate the zip files\n",
    "rm -rf *zip"
   ]
  },
  {
   "cell_type": "markdown",
   "metadata": {},
   "source": [
    "# Upload to S3"
   ]
  },
  {
   "cell_type": "code",
   "execution_count": null,
   "metadata": {},
   "outputs": [],
   "source": [
    "cd /home/ec2-user/jmarks/hiv/uhs123/data/uhs123_merged/genotype/imputed\n",
    "\n",
    "# mv inflated results to respective directories and upload to s3\n",
    "for ancestry in {aa,ea};do\n",
    "    aws s3 sync ${ancestry}/chr23 s3://rti-hiv/uhs_intersection/imputed/$ancestry/chr23 --quiet &\n",
    "done"
   ]
  }
 ],
 "metadata": {
  "kernelspec": {
   "display_name": "R",
   "language": "R",
   "name": "ir"
  },
  "language_info": {
   "codemirror_mode": "r",
   "file_extension": ".r",
   "mimetype": "text/x-r-source",
   "name": "R",
   "pygments_lexer": "r",
   "version": "3.4.3"
  },
  "toc": {
   "nav_menu": {},
   "number_sections": true,
   "sideBar": true,
   "skip_h1_title": false,
   "toc_cell": false,
   "toc_position": {},
   "toc_section_display": "block",
   "toc_window_display": true
  }
 },
 "nbformat": 4,
 "nbformat_minor": 2
}
