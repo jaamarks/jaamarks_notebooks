{
 "cells": [
  {
   "cell_type": "markdown",
   "id": "05c049a0-cb32-467d-80eb-bb2aa69629de",
   "metadata": {
    "tags": []
   },
   "source": [
    "# QC (sub workflows) combined: UHS4 v0007\n",
    "Using UHS4 version 0007"
   ]
  },
  {
   "cell_type": "markdown",
   "id": "8730f7de-8d9a-423f-b51c-03f72df880b8",
   "metadata": {},
   "source": [
    "## Create Directories"
   ]
  },
  {
   "cell_type": "code",
   "execution_count": null,
   "id": "8d13e71c-d006-46d7-b753-b8523f75c8e2",
   "metadata": {},
   "outputs": [],
   "source": [
    "mkdir -p /shared/rti-shared/shared_data/post_qc/uhs1234/genotype/array/observed/0003/{wf_input,wf_output}\n",
    "mkdir -p /shared/bioinformatics/methods/rti-shared/shared_data/post_qc/uhs1234/genotype/array/observed/0003/{sex_check,relatedness}/"
   ]
  },
  {
   "cell_type": "markdown",
   "id": "8061df3c-6a65-4516-a8ea-f24675d88720",
   "metadata": {},
   "source": [
    "##  Set up config file for QC pipeline\n",
    "\n",
    "Copy JSON file from previous run and modify settings. Then edit this config file to include the appropriate cohort information."
   ]
  },
  {
   "cell_type": "code",
   "execution_count": null,
   "id": "c2e5b3cc-4a3a-4ad4-8f18-03d991b68c59",
   "metadata": {},
   "outputs": [],
   "source": [
    "cd /shared/bioinformatics/methods/rti-shared/shared_data/post_qc/uhs1234/genotype/array/observed/0003/\n",
    "cp /shared/biocloud_gwas_workflows/genotype_array_qc/sex_check/test/test_sex_check.json sex_check/uhs1234_afr_sex_check_wf.json\n",
    "cp /shared/biocloud_gwas_workflows/genotype_array_qc/relatedness/test_relatedness_wf.json relatedness/uhs1234_afr_relatedness_wf.json\n",
    "cp /shared/biocloud_gwas_workflows/genotype_array_qc/sex_check/test/test_sex_check.json sex_check/uhs1234_eur_sex_check_wf.json\n",
    "cp /shared/biocloud_gwas_workflows/genotype_array_qc/relatedness/test_relatedness_wf.json relatedness/uhs1234_eur_relatedness_wf.json\n",
    "\n",
    "# Edit wf config files"
   ]
  },
  {
   "cell_type": "markdown",
   "id": "5e804aaa-20a7-4780-851e-3518378fc3dc",
   "metadata": {},
   "source": [
    "## Zip biocloud_gwas_workflows repo"
   ]
  },
  {
   "cell_type": "code",
   "execution_count": null,
   "id": "12f88c60-daac-494d-b035-c8a7ea932d88",
   "metadata": {},
   "outputs": [],
   "source": [
    "cd /shared/biocloud_gwas_workflows\n",
    "git pull\n",
    "git submodule update --init --recursive\n",
    "git rev-parse HEAD > /shared/rti-shared/shared_data/post_qc/uhs1234/genotype/array/observed/0003/wf_input/git_hash.txt\n",
    "cd /shared\n",
    "zip \\\n",
    "    --exclude=*/var/* \\\n",
    "    --exclude=*.git/* \\\n",
    "    --exclude=*/test/* \\\n",
    "    --exclude=*/.idea/* \\\n",
    "    -r /shared/rti-shared/shared_data/post_qc/uhs1234/genotype/array/observed/0003/wf_input/biocloud_gwas_workflows.zip \\\n",
    "    biocloud_gwas_workflows/\n",
    "\n",
    "cd /shared/rti-shared/shared_data/post_qc/uhs1234/genotype/array/observed/0003/"
   ]
  },
  {
   "cell_type": "markdown",
   "id": "c32f7266-3a95-4255-adff-60c136e42094",
   "metadata": {},
   "source": [
    "## Submit jobs"
   ]
  },
  {
   "cell_type": "code",
   "execution_count": null,
   "id": "dee8332c-51c8-4e66-9c92-594211d47bb7",
   "metadata": {},
   "outputs": [],
   "source": [
    "# Open session in terminal 1\n",
    "ssh -i ~/.ssh/gwas_rsa -L localhost:8000:localhost:8000 ec2-user@54.174.185.7\n",
    "\n",
    "# Submit jobs in terminal 2\n",
    "\n",
    "# AFR relatedness\n",
    "curl -X POST \"http://localhost:8000/api/workflows/v1\" -H \"accept: application/json\" \\\n",
    "    -F \"workflowSource=@/shared/biocloud_gwas_workflows/genotype_array_qc/relatedness/relatedness_wf.wdl\" \\\n",
    "    -F \"workflowInputs=@/shared/bioinformatics/methods/rti-shared/shared_data/post_qc/uhs1234/genotype/array/observed/0003/relatedness/uhs1234_afr_relatedness_wf.json\" \\\n",
    "    -F \"workflowDependencies=@/shared/rti-shared/shared_data/post_qc/uhs1234/genotype/array/observed/0003/wf_input/biocloud_gwas_workflows.zip\"\n",
    "echo \"\"\n",
    "afr_relate=9af1abbc-742c-427a-a1de-8b002f1fa7d7\n",
    "\n",
    "# AFR sex_check\n",
    "curl -X POST \"http://localhost:8000/api/workflows/v1\" -H \"accept: application/json\" \\\n",
    "    -F \"workflowSource=@/shared/biocloud_gwas_workflows/genotype_array_qc/sex_check/sex_check_wf.wdl\" \\\n",
    "    -F \"workflowInputs=@/shared/bioinformatics/methods/rti-shared/shared_data/post_qc/uhs1234/genotype/array/observed/0003/sex_check/uhs1234_afr_sex_check_wf.json\" \\\n",
    "    -F \"workflowDependencies\"=@/shared/rti-shared/shared_data/post_qc/uhs1234/genotype/array/observed/0003/wf_input/biocloud_gwas_workflows.zip\n",
    "echo \"\"\n",
    "afr_sex=a857e408-35a2-41ae-9e5a-baf1b96cbfda\n",
    "\n",
    "# EUR relatedness\n",
    "curl -X POST \"http://localhost:8000/api/workflows/v1\" -H \"accept: application/json\" \\\n",
    "    -F \"workflowSource=@/shared/biocloud_gwas_workflows/genotype_array_qc/relatedness/relatedness_wf.wdl\" \\\n",
    "    -F \"workflowInputs=@/shared/bioinformatics/methods/rti-shared/shared_data/post_qc/uhs1234/genotype/array/observed/0003/relatedness/uhs1234_eur_relatedness_wf.json\" \\\n",
    "    -F \"workflowDependencies\"=@/shared/rti-shared/shared_data/post_qc/uhs1234/genotype/array/observed/0003/wf_input/biocloud_gwas_workflows.zip\n",
    "echo \"\"\n",
    "eur_relate=40f72a80-1164-4694-9594-fdf7d1dcc43c\n",
    "\n",
    "\n",
    "\n",
    "# EUR sex_check\n",
    "curl -X POST \"http://localhost:8000/api/workflows/v1\" -H \"accept: application/json\" \\\n",
    "    -F \"workflowSource=@/shared/biocloud_gwas_workflows/genotype_array_qc/sex_check/sex_check_wf.wdl\" \\\n",
    "    -F \"workflowInputs=@/shared/bioinformatics/methods/rti-shared/shared_data/post_qc/uhs1234/genotype/array/observed/0003/sex_check/uhs1234_eur_sex_check_wf.json\" \\\n",
    "    -F \"workflowDependencies\"=@/shared/rti-shared/shared_data/post_qc/uhs1234/genotype/array/observed/0003/wf_input/biocloud_gwas_workflows.zip\n",
    "echo \"\"\n",
    "eur_sex=65c8669f-7748-4d15-bf4b-66b84f9e5983\n",
    "\n",
    "\n",
    "# Monitor job in terminal 1\n",
    "#tail -f /tmp/cromwell-server.log\n",
    "\n",
    "# check job status in terminal 2\n",
    "for job in {$afr_relate,$afr_sex,$eur_relate,$eur_sex}; do\n",
    "    curl -X GET \"http://localhost:8000/api/workflows/v1/${job}/status\"   \n",
    "    echo \"\"\n",
    "done"
   ]
  },
  {
   "cell_type": "markdown",
   "id": "53f815fe-2f42-4085-8b3a-d9c107453fec",
   "metadata": {},
   "source": [
    "## Get final outputs\n",
    "\n",
    "In terminal with credentials for accessing rti-code S3."
   ]
  },
  {
   "cell_type": "markdown",
   "id": "fe187c8d-66fe-4f1b-90c2-bb08bb7db4bd",
   "metadata": {},
   "source": [
    "### Relatedness"
   ]
  },
  {
   "cell_type": "code",
   "execution_count": null,
   "id": "d09bbbcf-b481-4c92-abc7-efe5b409d77b",
   "metadata": {},
   "outputs": [],
   "source": [
    "cd /shared/rti-shared/shared_data/post_qc/uhs1234/genotype/array/observed/0003/wf_output/\n",
    "mkdir relatedness\n",
    "cd relatedness\n",
    "\n",
    "afr_job=9af1abbc-742c-427a-a1de-8b002f1fa7d7\n",
    "eur_job=40f72a80-1164-4694-9594-fdf7d1dcc43c\n",
    "\n",
    "# Download output from Swagger UI.\n",
    "curl -X GET \"http://localhost:8000/api/workflows/v1/${afr_job}/outputs\" -H \"accept: application/json\" \\\n",
    "  > ${afr_job}_final_outputs.json\n",
    "curl -X GET \"http://localhost:8000/api/workflows/v1/${eur_job}/outputs\" -H \"accept: application/json\" \\\n",
    "  > ${eur_job}_final_outputs.json\n",
    "\n",
    "# Copy final outputs json to S3\n",
    "aws s3 cp ${job}_final_outputs.json \\\n",
    "  s3://rti-shared/shared_data/post_qc/uhs1234/genotype/array/observed/0003/wf_output/\n",
    "\n",
    "# Copy final qc files from cromwell-output to final location\n",
    "python - <<EOF\n",
    "import json\n",
    "import os\n",
    "import re\n",
    "\n",
    "job = \"$job\"\n",
    "dir = \"rti-shared/shared_data/post_qc/uhs1234/genotype/array/observed/0003/afr\"\n",
    "\n",
    "def traverse(o, tree_types=(list, tuple)):\n",
    "    if isinstance(o, tree_types):\n",
    "        for value in o:\n",
    "            for subvalue in traverse(value, tree_types):\n",
    "                yield subvalue\n",
    "    else:\n",
    "        yield o\n",
    "\n",
    "with open(job + '_final_outputs.json') as f:\n",
    "    outputs = json.load(f)\n",
    "    outputs = outputs[\"outputs\"]\n",
    "    for key in outputs:\n",
    "        if (type(outputs[key]) == list):\n",
    "            for value in traverse(outputs[key]):\n",
    "                if (str(value)[0:2] == \"s3\"):\n",
    "                    message = \"aws s3 cp {} s3://{}/wf_output/\".format(value, dir)\n",
    "                    os.system(message)\n",
    "        else:\n",
    "            if (str(outputs[key])[0:2] == \"s3\"):\n",
    "                message = \"aws s3 cp {} s3://{}/wf_output/\".format(outputs[key], dir)\n",
    "                os.system(message)\n",
    "\n",
    "# Move and rename final genotype plink file set\n",
    "with open('/shared/' + dir + '/wf_output/' + job + '_final_outputs.json') as f:\n",
    "    outputs = json.load(f)\n",
    "    outputs = outputs[\"outputs\"]\n",
    "    for ext in [\"bed\", \"bim\", \"fam\"]:\n",
    "        final = \"genotype_array_qc_wf.final_qc_{}\".format(ext)\n",
    "        for original in outputs[final]:\n",
    "            fileName = re.sub(r'.+/', '', original)\n",
    "            new = re.sub(r'uhs1234.YRI.+\\.', 'afr/uhs1234.', fileName)\n",
    "            new = re.sub(r'uhs1234.CEU.+\\.', 'eur/uhs1234.', new)\n",
    "            new = re.sub(r'uhs1234.CHB.+\\.', 'amr/uhs1234.', new)\n",
    "            final = \"s3://{}/wf_output/{}\".format(dir, new)\n",
    "            os.system(\"aws s3 cp {} {}\".format(original, final))\n",
    "\n",
    "EOF"
   ]
  },
  {
   "cell_type": "markdown",
   "id": "f50ad4b2-4512-4830-897e-bdf46994dc98",
   "metadata": {},
   "source": [
    "```\n",
    "  821 uhs1234_afr_relatedness.final.related_samples.remove\n",
    "  279 uhs1234_eur_relatedness.final.related_samples.remove \n",
    "``` "
   ]
  },
  {
   "cell_type": "markdown",
   "id": "8810b574-d7f5-4b40-8104-c30b2f9eee21",
   "metadata": {},
   "source": [
    "### Sex check"
   ]
  },
  {
   "cell_type": "code",
   "execution_count": null,
   "id": "c61031a4-de17-41a0-9f19-5bb15a31a513",
   "metadata": {},
   "outputs": [],
   "source": [
    "cd /shared/rti-shared/shared_data/post_qc/uhs1234/genotype/array/observed/0003/wf_output/\n",
    "mkdir sex_check\n",
    "cd sex_check\n",
    "\n",
    "\n",
    "eur_job=65c8669f-7748-4d15-bf4b-66b84f9e5983\n",
    "afr_job=a857e408-35a2-41ae-9e5a-baf1b96cbfda\n",
    "\n",
    "\n",
    "\n",
    "\n",
    "# Download output from Swagger UI.\n",
    "curl -X GET \"http://localhost:8000/api/workflows/v1/${afr_job}/outputs\" -H \"accept: application/json\" \\\n",
    "  > ${afr_job}_final_outputs.json\n",
    "curl -X GET \"http://localhost:8000/api/workflows/v1/${eur_job}/outputs\" -H \"accept: application/json\" \\\n",
    "  > ${eur_job}_final_outputs.json\n"
   ]
  },
  {
   "cell_type": "markdown",
   "id": "20333369-cd24-4848-a47c-4da0ed7d4b9f",
   "metadata": {},
   "source": [
    "```\n",
    "  790 uhs1234_afr_sex_check.sexcheck.sexcheck.remove\n",
    "  855 uhs1234_eur_sex_check.sexcheck.sexcheck.remove\n",
    "```"
   ]
  },
  {
   "cell_type": "markdown",
   "id": "feaf3d4e-0f2d-4449-98b5-7b5b9df91348",
   "metadata": {
    "tags": [],
    "toc-hr-collapsed": true
   },
   "source": [
    "# QC (sub workflows) 0008 each cohort individually\n",
    "Run the QC sub wf on each cohort individually.\n",
    "\n",
    "```\n",
    "s3://rti-hiv/rti-midas-data/studies/hiv/observed/final/uhs1.{aa,ea}.$ext.gz\n",
    "s3://rti-shared/shared_data/post_qc/uhs2/genotype/array/observed/0001/{afr,eur}/uhs2_{afr,eur}.$ext.gz\n",
    "s3://rti-hiv/rti-midas-data/studies/hiv/observed/final/uhs3.{aa,ea}.V1-2.$ext.gz\n",
    "s3://rti-hiv/rti-midas-data/studies/hiv/observed/final/uhs3.{aa,ea}.V1-3.$ext.gz\n",
    "s3://rti-shared/rti-midas-data/studies/uhs4/observed/genotypes/final/uhs4.merged2.{aa,ea}.$ext.gz\n",
    "```\n",
    "\n",
    "Note that I need to use the updated UHS2 results that contain the sex information."
   ]
  },
  {
   "cell_type": "markdown",
   "id": "601d3b7e-27e5-4bef-92da-49cd8229eab8",
   "metadata": {
    "toc-hr-collapsed": true
   },
   "source": [
    "## UHS1"
   ]
  },
  {
   "cell_type": "markdown",
   "id": "098a3391-02e5-4cde-ab6a-ac01fee80148",
   "metadata": {},
   "source": [
    "### Create Directories"
   ]
  },
  {
   "cell_type": "code",
   "execution_count": null,
   "id": "1fb5397f-454d-41de-aabb-7a2172d6afed",
   "metadata": {},
   "outputs": [],
   "source": [
    "mkdir -p /shared/rti-shared/shared_data/post_qc/uhs1/genotype/array/observed/0008/{wf_input,wf_output} # UHS1 AFR and EUR\n",
    "mkdir -p /shared/bioinformatics/methods/rti-shared/shared_data/post_qc/uhs1/genotype/array/observed/0008/{sex_check,relatedness}/"
   ]
  },
  {
   "cell_type": "markdown",
   "id": "ec3cadae-c32c-4d37-88a1-a21e9a110c5c",
   "metadata": {},
   "source": [
    "###  Set up config file for QC pipeline\n",
    "\n",
    "Copy JSON file from previous run and modify settings. Then edit this config file to include the appropriate cohort information."
   ]
  },
  {
   "cell_type": "code",
   "execution_count": null,
   "id": "172e4e7d-ed7a-47c6-aa07-b3ce96d4090e",
   "metadata": {},
   "outputs": [],
   "source": [
    "cd /shared/bioinformatics/methods/rti-shared/shared_data/post_qc/uhs1/genotype/array/observed/0008/\n",
    "\n",
    "# sex\n",
    "cp /shared/bioinformatics/methods/rti-shared/shared_data/post_qc/uhs1234/genotype/array/observed/0004/sex_check/uhs1234_afr_sex_check_wf.json \\\n",
    "    sex_check/uhs1_afr_sex_check_wf.json\n",
    "cp /shared/bioinformatics/methods/rti-shared/shared_data/post_qc/uhs1234/genotype/array/observed/0004/sex_check/uhs1234_eur_sex_check_wf.json \\\n",
    "    sex_check/uhs1_eur_sex_check_wf.json\n",
    "\n",
    "# relatedness\n",
    "cp /shared/bioinformatics/methods/rti-shared/shared_data/post_qc/uhs1234/genotype/array/observed/0004/relatedness/uhs1234_afr_relatedness_wf.json \\\n",
    "    relatedness/uhs1_afr_relatedness_wf.json\n",
    "cp /shared/bioinformatics/methods/rti-shared/shared_data/post_qc/uhs1234/genotype/array/observed/0004/relatedness/uhs1234_eur_relatedness_wf.json \\\n",
    "    relatedness/uhs1_eur_relatedness_wf.json\n",
    "\n",
    "# Edit wf config files"
   ]
  },
  {
   "cell_type": "markdown",
   "id": "a1d6f0b7-171d-4ed9-975f-8544a69b984d",
   "metadata": {},
   "source": [
    "### Zip biocloud_gwas_workflows repo"
   ]
  },
  {
   "cell_type": "code",
   "execution_count": null,
   "id": "1625d6ca-887d-447d-ab08-8d65725d261a",
   "metadata": {},
   "outputs": [],
   "source": [
    "cd /shared/biocloud_gwas_workflows\n",
    "git pull\n",
    "git submodule update --init --recursive\n",
    "git rev-parse HEAD > /shared/rti-shared/shared_data/post_qc/uhs1/genotype/array/observed/0008/wf_input/git_hash.txt\n",
    "cd /shared\n",
    "zip \\\n",
    "    --exclude=*/var/* \\\n",
    "    --exclude=*.git/* \\\n",
    "    --exclude=*/test/* \\\n",
    "    --exclude=*/.idea/* \\\n",
    "    -r /shared/rti-shared/shared_data/post_qc/uhs1/genotype/array/observed/0008/wf_input/biocloud_gwas_workflows.zip \\\n",
    "    biocloud_gwas_workflows/\n",
    "\n",
    "cd /shared/rti-shared/shared_data/post_qc/uhs1/genotype/array/observed/0008"
   ]
  },
  {
   "cell_type": "markdown",
   "id": "b132d8cd-633f-40a2-ae00-dc7190d1f20d",
   "metadata": {},
   "source": [
    "### Submit jobs"
   ]
  },
  {
   "cell_type": "code",
   "execution_count": null,
   "id": "711024c2-aa52-4c40-9415-fd6bafb7559e",
   "metadata": {},
   "outputs": [],
   "source": [
    "# Open session in terminal 1\n",
    "ssh -i ~/.ssh/gwas_rsa -L localhost:8000:localhost:8000 ec2-user@54.174.185.7\n",
    "\n",
    "# Submit jobs in terminal 2\n",
    "\n",
    "\n",
    "# AFR sex_check\n",
    "curl -X POST \"http://localhost:8000/api/workflows/v1\" -H \"accept: application/json\" \\\n",
    "    -F \"workflowSource=@/shared/biocloud_gwas_workflows/genotype_array_qc/sex_check/sex_check_wf.wdl\" \\\n",
    "    -F \"workflowInputs=@/shared/bioinformatics/methods/rti-shared/shared_data/post_qc/uhs1/genotype/array/observed/0008/sex_check/uhs1_afr_sex_check_wf.json\" \\\n",
    "    -F \"workflowDependencies=@/shared/rti-shared/shared_data/post_qc/uhs1/genotype/array/observed/0008/wf_input/biocloud_gwas_workflows.zip\"\n",
    "echo \"\"\n",
    "afr_sex=\n",
    "\n",
    "# EUR sex_check\n",
    "curl -X POST \"http://localhost:8000/api/workflows/v1\" -H \"accept: application/json\" \\\n",
    "    -F \"workflowSource=@/shared/biocloud_gwas_workflows/genotype_array_qc/sex_check/sex_check_wf.wdl\" \\\n",
    "    -F \"workflowInputs=@/shared/bioinformatics/methods/rti-shared/shared_data/post_qc/uhs1/genotype/array/observed/0008/sex_check/uhs1_eur_sex_check_wf.json\" \\\n",
    "    -F \"workflowDependencies=@/shared/rti-shared/shared_data/post_qc/uhs1/genotype/array/observed/0008/wf_input/biocloud_gwas_workflows.zip\"\n",
    "echo \"\"\n",
    "eur_sex=\n",
    "\n",
    "# AFR relatedness\n",
    "curl -X POST \"http://localhost:8000/api/workflows/v1\" -H \"accept: application/json\" \\\n",
    "    -F \"workflowSource=@/shared/biocloud_gwas_workflows/genotype_array_qc/relatedness/relatedness_wf.wdl\" \\\n",
    "    -F \"workflowInputs=@/shared/bioinformatics/methods/rti-shared/shared_data/post_qc/uhs1/genotype/array/observed/0008/relatedness/uhs1_afr_relatedness_wf.json\" \\\n",
    "    -F \"workflowDependencies=@/shared/rti-shared/shared_data/post_qc/uhs1/genotype/array/observed/0008/wf_input/biocloud_gwas_workflows.zip\"\n",
    "echo \"\"\n",
    "\n",
    "# EUR relatedness\n",
    "curl -X POST \"http://localhost:8000/api/workflows/v1\" -H \"accept: application/json\" \\\n",
    "    -F \"workflowSource=@/shared/biocloud_gwas_workflows/genotype_array_qc/relatedness/relatedness_wf.wdl\" \\\n",
    "    -F \"workflowInputs=@/shared/bioinformatics/methods/rti-shared/shared_data/post_qc/uhs1/genotype/array/observed/0008/relatedness/uhs1_eur_relatedness_wf.json\" \\\n",
    "    -F \"workflowDependencies=@/shared/rti-shared/shared_data/post_qc/uhs1/genotype/array/observed/0008/wf_input/biocloud_gwas_workflows.zip\"\n",
    "echo \"\"\n",
    "\n",
    "# Monitor job in terminal 1\n",
    "#tail -f /tmp/cromwell-server.log\n",
    "\n",
    "afr_relate=45d9cade-fa50-463c-beb0-825e3d9f3b0f\n",
    "eur_relate=cbc07f17-2644-4c71-907d-7eaec2425dfb\n",
    "\n",
    "# check job status in terminal 2\n",
    "for job in {$afr_relate,$afr_sex,$eur_relate,$eur_sex}; do\n",
    "    curl -X GET \"http://localhost:8000/api/workflows/v1/${job}/status\"   \n",
    "    echo \"\"\n",
    "done"
   ]
  },
  {
   "cell_type": "markdown",
   "id": "14aa1dfa-d5ca-4305-b326-545f88be8c58",
   "metadata": {},
   "source": [
    "```\n",
    "{\"status\":\"Succeeded\",\"id\":\"45d9cade-fa50-463c-beb0-825e3d9f3b0f\"}\n",
    "{\"status\":\"Succeeded\",\"id\":\"cbc07f17-2644-4c71-907d-7eaec2425dfb\"}\n",
    "```"
   ]
  },
  {
   "cell_type": "code",
   "execution_count": null,
   "id": "dc7f3b8d-e6d4-49f7-b2a0-4fdfb274e5cf",
   "metadata": {},
   "outputs": [],
   "source": [
    "cd /shared/rti-shared/shared_data/post_qc/uhs1/genotype/array/observed/0008/wf_output\n",
    "mkdir sex_check relatedness\n",
    "cd relatedness\n",
    "\n",
    "echo $eur_relate $afr_relate\n",
    "\n",
    "\n",
    "# Download output from Swagger UI.\n",
    "curl -X GET \"http://localhost:8000/api/workflows/v1/${afr_relate}/outputs\" -H \"accept: application/json\" \\\n",
    "  > ${afr_relate}_final_outputs.json\n",
    "curl -X GET \"http://localhost:8000/api/workflows/v1/${eur_relate}/outputs\" -H \"accept: application/json\" \\\n",
    "  > ${eur_relate}_final_outputs.json\n",
    "\n",
    "aws s3 cp s3://rti-cromwell-output/cromwell-execution/relatedness_wf/cbc07f17-2644-4c71-907d-7eaec2425dfb/call-restore_pedigree_ids/uhs1_eur_relatedness.final.related_samples.remove .\n",
    "aws s3 cp s3://rti-cromwell-output/cromwell-execution/relatedness_wf/45d9cade-fa50-463c-beb0-825e3d9f3b0f/call-restore_pedigree_ids/uhs1_afr_relatedness.final.related_samples.remove .    \n",
    "aws s3 cp s3://rti-cromwell-output/cromwell-execution/relatedness_wf/cbc07f17-2644-4c71-907d-7eaec2425dfb/call-remove_fam_pedigree/uhs1_eur_relatedness.noped.idmap.fam .\n",
    "aws s3 cp s3://rti-cromwell-output/cromwell-execution/relatedness_wf/45d9cade-fa50-463c-beb0-825e3d9f3b0f/call-final_get_relateds/KING.king_kinship_wf/6633dddc-5ee6-4903-bc5c-41c9fe0af177/call-prune_related_samples/uhs1_afr_relatedness.final.king.pruned.annotated.k0 .    \n",
    "    \n",
    "wc -l *e\n",
    "#3   uhs1_eur_relatedness.final.related_samples.remove\n",
    "#102 uhs1_afr_relatedness.final.related_samples.remove\n",
    "\n",
    "\n",
    "cat *e\n",
    "#381786@1054736429 381786@1054736429\n",
    "#433346@1054752818 433346@1054752818\n",
    "#533711@1054697996 533711@1054697996\n",
    "\n",
    "awk '$9==\"2nd_degree_relative\"' uhs1_afr_relatedness.final.king.pruned.annotated.k0  | wc -l\n",
    "#58\n",
    "awk '$9==\"3+_degree_relative\"' uhs1_afr_relatedness.final.king.pruned.annotated.k0  | wc -l\n",
    "#66"
   ]
  },
  {
   "cell_type": "markdown",
   "id": "ea2d869b-42b2-4204-bd56-6b4a109dfbd5",
   "metadata": {},
   "source": [
    "## UHS2"
   ]
  },
  {
   "cell_type": "markdown",
   "id": "2134abfd-a929-4595-99b5-45af653e4ab1",
   "metadata": {},
   "source": [
    "### Create Directories"
   ]
  },
  {
   "cell_type": "code",
   "execution_count": null,
   "id": "3710dc11-c504-4b37-b73a-547f7772b895",
   "metadata": {},
   "outputs": [],
   "source": [
    "mkdir -p /shared/rti-shared/shared_data/post_qc/uhs2/genotype/array/observed/0008/{wf_input,wf_output} # UHS2 AFR and EUR\n",
    "mkdir -p /shared/bioinformatics/methods/rti-shared/shared_data/post_qc/uhs2/genotype/array/observed/0008/{sex_check,relatedness}/"
   ]
  },
  {
   "cell_type": "markdown",
   "id": "bfe95633-b4c5-47c6-9792-3e0a9a79e981",
   "metadata": {},
   "source": [
    "###  Set up config file for QC pipeline\n",
    "\n",
    "Copy JSON file from previous run and modify settings. Then edit this config file to include the appropriate cohort information."
   ]
  },
  {
   "cell_type": "code",
   "execution_count": null,
   "id": "2b004d9e-2b91-4cde-b957-9bd5e7cf4175",
   "metadata": {},
   "outputs": [],
   "source": [
    "cd /shared/bioinformatics/methods/rti-shared/shared_data/post_qc/uhs2/genotype/array/observed/0008/\n",
    "\n",
    "# sex\n",
    "cp /shared/bioinformatics/methods/rti-shared/shared_data/post_qc/uhs1/genotype/array/observed/0008/sex_check/uhs1_afr_sex_check_wf.json \\\n",
    "    sex_check/uhs2_afr_sex_check_wf.json\n",
    "cp /shared/bioinformatics/methods/rti-shared/shared_data/post_qc/uhs1/genotype/array/observed/0008/sex_check/uhs1_eur_sex_check_wf.json \\\n",
    "    sex_check/uhs2_eur_sex_check_wf.json\n",
    "\n",
    "# relatedness\n",
    "cp /shared/bioinformatics/methods/rti-shared/shared_data/post_qc/uhs1/genotype/array/observed/0008/relatedness/uhs1_afr_relatedness_wf.json \\\n",
    "    relatedness/uhs2_afr_relatedness_wf.json\n",
    "cp /shared/bioinformatics/methods/rti-shared/shared_data/post_qc/uhs1/genotype/array/observed/0008/relatedness/uhs1_eur_relatedness_wf.json \\\n",
    "    relatedness/uhs2_eur_relatedness_wf.json\n",
    "\n",
    "# Edit wf config files"
   ]
  },
  {
   "cell_type": "markdown",
   "id": "7f2ff87a-b127-4d04-a3ad-ad956f7ea635",
   "metadata": {},
   "source": [
    "### Zip biocloud_gwas_workflows repo"
   ]
  },
  {
   "cell_type": "code",
   "execution_count": null,
   "id": "16b308c4-40d7-4a92-ae0a-942fadda9f70",
   "metadata": {},
   "outputs": [],
   "source": [
    "cd /shared/biocloud_gwas_workflows\n",
    "git pull\n",
    "git submodule update --init --recursive\n",
    "git rev-parse HEAD > /shared/rti-shared/shared_data/post_qc/uhs2/genotype/array/observed/0008/wf_input/git_hash.txt\n",
    "cd /shared\n",
    "zip \\\n",
    "    --exclude=*/var/* \\\n",
    "    --exclude=*.git/* \\\n",
    "    --exclude=*/test/* \\\n",
    "    --exclude=*/.idea/* \\\n",
    "    -r /shared/rti-shared/shared_data/post_qc/uhs2/genotype/array/observed/0008/wf_input/biocloud_gwas_workflows.zip \\\n",
    "    biocloud_gwas_workflows/\n",
    "\n",
    "cd /shared/rti-shared/shared_data/post_qc/uhs2/genotype/array/observed/0008"
   ]
  },
  {
   "cell_type": "markdown",
   "id": "80d57217-a0b9-4ebf-aebc-68099d4b42ab",
   "metadata": {},
   "source": [
    "### Submit jobs"
   ]
  },
  {
   "cell_type": "code",
   "execution_count": null,
   "id": "d697bd58-d41c-49d8-95a3-0d8eceb60f07",
   "metadata": {},
   "outputs": [],
   "source": [
    "# Open session in terminal 1\n",
    "ssh -i ~/.ssh/gwas_rsa -L localhost:8000:localhost:8000 ec2-user@54.174.185.7\n",
    "\n",
    "# Submit jobs in terminal 2\n",
    "\n",
    "# AFR sex_check\n",
    "curl -X POST \"http://localhost:8000/api/workflows/v1\" -H \"accept: application/json\" \\\n",
    "    -F \"workflowSource=@/shared/biocloud_gwas_workflows/genotype_array_qc/sex_check/sex_check_wf.wdl\" \\\n",
    "    -F \"workflowInputs=@/shared/bioinformatics/methods/rti-shared/shared_data/post_qc/uhs2/genotype/array/observed/0008/sex_check/uhs2_afr_sex_check_wf.json\" \\\n",
    "    -F \"workflowDependencies=@/shared/rti-shared/shared_data/post_qc/uhs2/genotype/array/observed/0008/wf_input/biocloud_gwas_workflows.zip\"\n",
    "echo \"\"\n",
    "\n",
    "# EUR sex_check\n",
    "curl -X POST \"http://localhost:8000/api/workflows/v1\" -H \"accept: application/json\" \\\n",
    "    -F \"workflowSource=@/shared/biocloud_gwas_workflows/genotype_array_qc/sex_check/sex_check_wf.wdl\" \\\n",
    "    -F \"workflowInputs=@/shared/bioinformatics/methods/rti-shared/shared_data/post_qc/uhs2/genotype/array/observed/0008/sex_check/uhs2_eur_sex_check_wf.json\" \\\n",
    "    -F \"workflowDependencies=@/shared/rti-shared/shared_data/post_qc/uhs2/genotype/array/observed/0008/wf_input/biocloud_gwas_workflows.zip\"\n",
    "echo \"\"\n",
    "\n",
    "\n",
    "# AFR relatedness\n",
    "curl -X POST \"http://localhost:8000/api/workflows/v1\" -H \"accept: application/json\" \\\n",
    "    -F \"workflowSource=@/shared/biocloud_gwas_workflows/genotype_array_qc/relatedness/relatedness_wf.wdl\" \\\n",
    "    -F \"workflowInputs=@/shared/bioinformatics/methods/rti-shared/shared_data/post_qc/uhs2/genotype/array/observed/0008/relatedness/uhs2_afr_relatedness_wf.json\" \\\n",
    "    -F \"workflowDependencies=@/shared/rti-shared/shared_data/post_qc/uhs2/genotype/array/observed/0008/wf_input/biocloud_gwas_workflows.zip\"\n",
    "echo \"\"\n",
    "\n",
    "# EUR relatedness\n",
    "curl -X POST \"http://localhost:8000/api/workflows/v1\" -H \"accept: application/json\" \\\n",
    "    -F \"workflowSource=@/shared/biocloud_gwas_workflows/genotype_array_qc/relatedness/relatedness_wf.wdl\" \\\n",
    "    -F \"workflowInputs=@/shared/bioinformatics/methods/rti-shared/shared_data/post_qc/uhs2/genotype/array/observed/0008/relatedness/uhs2_eur_relatedness_wf.json\" \\\n",
    "    -F \"workflowDependencies=@/shared/rti-shared/shared_data/post_qc/uhs2/genotype/array/observed/0008/wf_input/biocloud_gwas_workflows.zip\"\n",
    "\n",
    "afr_sex=\n",
    "eur_sex=\n",
    "afr_relate=99da8cf3-b9d5-4903-a5ac-193a65e6555b\n",
    "eur_relate=c917bec6-dd16-4f84-a289-6f8e889b3a6e\n",
    "\n",
    "\n",
    "# check job status in terminal 2\n",
    "for job in {$afr_relate,$afr_sex,$eur_relate,$eur_sex}; do\n",
    "    curl -X GET \"http://localhost:8000/api/workflows/v1/${job}/status\"   \n",
    "    echo \"\"\n",
    "done"
   ]
  },
  {
   "cell_type": "markdown",
   "id": "74af67a0-919d-4ab5-923d-e935de71c55c",
   "metadata": {},
   "source": [
    "```\n",
    "{\"status\":\"Succeeded\",\"id\":\"99da8cf3-b9d5-4903-a5ac-193a65e6555b\"}\n",
    "{\"status\":\"Succeeded\",\"id\":\"c917bec6-dd16-4f84-a289-6f8e889b3a6e\"}\n",
    "```"
   ]
  },
  {
   "cell_type": "code",
   "execution_count": null,
   "id": "81e632ad-95ff-42ed-929a-ec1d410314ca",
   "metadata": {},
   "outputs": [],
   "source": [
    "cd /shared/rti-shared/shared_data/post_qc/uhs2/genotype/array/observed/0008/wf_output\n",
    "mkdir sex_check relatedness\n",
    "cd relatedness\n",
    "\n",
    "echo $eur_relate $afr_relate\n",
    "\n",
    "\n",
    "# Download output from Swagger UI.\n",
    "curl -X GET \"http://localhost:8000/api/workflows/v1/${afr_relate}/outputs\" -H \"accept: application/json\" \\\n",
    "  > ${afr_relate}_final_outputs.json\n",
    "curl -X GET \"http://localhost:8000/api/workflows/v1/${eur_relate}/outputs\" -H \"accept: application/json\" \\\n",
    "  > ${eur_relate}_final_outputs.json\n",
    "\n",
    "aws s3 cp s3://rti-cromwell-output/cromwell-execution/relatedness_wf/99da8cf3-b9d5-4903-a5ac-193a65e6555b/call-restore_pedigree_ids/uhs2_afr_relatedness.final.related_samples.remove . \n",
    "aws s3 cp s3://rti-cromwell-output/cromwell-execution/relatedness_wf/99da8cf3-b9d5-4903-a5ac-193a65e6555b/call-remove_fam_pedigree/uhs2_afr_relatedness.noped.idmap.fam .  \n",
    "aws s3 cp s3://rti-cromwell-output/cromwell-execution/relatedness_wf/99da8cf3-b9d5-4903-a5ac-193a65e6555b/call-final_get_relateds/KING.king_kinship_wf/8d6850fa-80ac-4195-b8ce-53288fc15dfc/call-prune_related_samples/uhs2_afr_relatedness.final.king.pruned.annotated.k0 .\n",
    "aws s3 cp s3://rti-cromwell-output/cromwell-execution/relatedness_wf/c917bec6-dd16-4f84-a289-6f8e889b3a6e/call-restore_pedigree_ids/uhs2_eur_relatedness.final.related_samples.remove .\n",
    "aws s3 cp s3://rti-cromwell-output/cromwell-execution/relatedness_wf/c917bec6-dd16-4f84-a289-6f8e889b3a6e/call-remove_fam_pedigree/uhs2_eur_relatedness.noped.idmap.fam .\n",
    "aws s3 cp s3://rti-cromwell-output/cromwell-execution/relatedness_wf/c917bec6-dd16-4f84-a289-6f8e889b3a6e/call-final_get_relateds/KING.king_kinship_wf/f0997f2d-a0d9-4f46-aa4b-a1987df63dff/call-prune_related_samples/uhs2_eur_relatedness.final.king.pruned.annotated.k0 .\n",
    "    \n",
    "wc -l *remove\n",
    "#  19 uhs2_afr_relatedness.final.related_samples.remove\n",
    "#   0 uhs2_eur_relatedness.final.related_samples.remove\n",
    "\n",
    "awk '$9==\"2nd_degree_relative\"' uhs2_afr_relatedness.final.king.pruned.annotated.k0  | wc -l\n",
    "#10\n",
    "awk '$9==\"3+_degree_relative\"' uhs2_afr_relatedness.final.king.pruned.annotated.k0  | wc -l\n",
    "#12"
   ]
  },
  {
   "cell_type": "markdown",
   "id": "66e31875-9223-486d-b095-754c2ca4714f",
   "metadata": {},
   "source": [
    "## UHS3_v1-2"
   ]
  },
  {
   "cell_type": "markdown",
   "id": "b990365d-9901-4ef5-baa3-74e48fda35fe",
   "metadata": {},
   "source": [
    "### Create Directories"
   ]
  },
  {
   "cell_type": "code",
   "execution_count": null,
   "id": "23ec7536-cff9-4cfc-80f7-d3f4a42b7a79",
   "metadata": {},
   "outputs": [],
   "source": [
    "mkdir -p /shared/rti-shared/shared_data/post_qc/uhs3_v1-2/genotype/array/observed/0008/{wf_input,wf_output} # UHS3_v1-2 AFR and EUR\n",
    "mkdir -p /shared/bioinformatics/methods/rti-shared/shared_data/post_qc/uhs3_v1-2/genotype/array/observed/0008/{sex_check,relatedness}/"
   ]
  },
  {
   "cell_type": "markdown",
   "id": "4556b14b-8bdb-4a93-8790-56d3982798ad",
   "metadata": {},
   "source": [
    "###  Set up config file for QC pipeline\n",
    "\n",
    "Copy JSON file from previous run and modify settings. Then edit this config file to include the appropriate cohort information."
   ]
  },
  {
   "cell_type": "code",
   "execution_count": null,
   "id": "d2104bc9-03fb-4f6e-a69a-6045b799853c",
   "metadata": {},
   "outputs": [],
   "source": [
    "cd /shared/bioinformatics/methods/rti-shared/shared_data/post_qc/uhs3_v1-2/genotype/array/observed/0008/\n",
    "\n",
    "# sex\n",
    "cp /shared/bioinformatics/methods/rti-shared/shared_data/post_qc/uhs1/genotype/array/observed/0008/sex_check/uhs1_afr_sex_check_wf.json \\\n",
    "    sex_check/uhs3_v1-2_afr_sex_check_wf.json\n",
    "cp /shared/bioinformatics/methods/rti-shared/shared_data/post_qc/uhs1/genotype/array/observed/0008/sex_check/uhs1_eur_sex_check_wf.json \\\n",
    "    sex_check/uhs3_v1-2_eur_sex_check_wf.json\n",
    "\n",
    "# relatedness\n",
    "cp /shared/bioinformatics/methods/rti-shared/shared_data/post_qc/uhs1/genotype/array/observed/0008/relatedness/uhs1_afr_relatedness_wf.json \\\n",
    "    relatedness/uhs3_v1-2_afr_relatedness_wf.json\n",
    "cp /shared/bioinformatics/methods/rti-shared/shared_data/post_qc/uhs1/genotype/array/observed/0008/relatedness/uhs1_eur_relatedness_wf.json \\\n",
    "    relatedness/uhs3_v1-2_eur_relatedness_wf.json\n",
    "\n",
    "# Edit wf config files"
   ]
  },
  {
   "cell_type": "markdown",
   "id": "e4d8f757-b954-4f43-99ca-092e2d9070a7",
   "metadata": {},
   "source": [
    "### Zip biocloud_gwas_workflows repo"
   ]
  },
  {
   "cell_type": "code",
   "execution_count": null,
   "id": "848ea2d5-4f39-4ec4-a55c-f8c8ece0153b",
   "metadata": {},
   "outputs": [],
   "source": [
    "cd /shared/biocloud_gwas_workflows\n",
    "git pull\n",
    "git submodule update --init --recursive\n",
    "git rev-parse HEAD > /shared/rti-shared/shared_data/post_qc/uhs3_v1-2/genotype/array/observed/0008/wf_input/git_hash.txt\n",
    "cd /shared\n",
    "zip \\\n",
    "    --exclude=*/var/* \\\n",
    "    --exclude=*.git/* \\\n",
    "    --exclude=*/test/* \\\n",
    "    --exclude=*/.idea/* \\\n",
    "    -r /shared/rti-shared/shared_data/post_qc/uhs3_v1-2/genotype/array/observed/0008/wf_input/biocloud_gwas_workflows.zip \\\n",
    "    biocloud_gwas_workflows/\n",
    "\n",
    "cd /shared/rti-shared/shared_data/post_qc/uhs3_v1-2/genotype/array/observed/0008"
   ]
  },
  {
   "cell_type": "markdown",
   "id": "4226c18d-d1ea-4fd8-b9c2-a748fd462c06",
   "metadata": {},
   "source": [
    "### Submit jobs"
   ]
  },
  {
   "cell_type": "code",
   "execution_count": null,
   "id": "3ef0e025-0f6e-4d81-b628-85278fe4b3c0",
   "metadata": {},
   "outputs": [],
   "source": [
    "# Open session in terminal 1\n",
    "ssh -i ~/.ssh/gwas_rsa -L localhost:8000:localhost:8000 ec2-user@54.174.185.7\n",
    "\n",
    "# Submit jobs in terminal 2\n",
    "\n",
    "# AFR sex_check\n",
    "curl -X POST \"http://localhost:8000/api/workflows/v1\" -H \"accept: application/json\" \\\n",
    "    -F \"workflowSource=@/shared/biocloud_gwas_workflows/genotype_array_qc/sex_check/sex_check_wf.wdl\" \\\n",
    "    -F \"workflowInputs=@/shared/bioinformatics/methods/rti-shared/shared_data/post_qc/uhs3_v1-2/genotype/array/observed/0008/sex_check/uhs3_v1-2_afr_sex_check_wf.json\" \\\n",
    "    -F \"workflowDependencies=@/shared/rti-shared/shared_data/post_qc/uhs3_v1-2/genotype/array/observed/0008/wf_input/biocloud_gwas_workflows.zip\"\n",
    "echo \"\"\n",
    "\n",
    "# EUR sex_check\n",
    "curl -X POST \"http://localhost:8000/api/workflows/v1\" -H \"accept: application/json\" \\\n",
    "    -F \"workflowSource=@/shared/biocloud_gwas_workflows/genotype_array_qc/sex_check/sex_check_wf.wdl\" \\\n",
    "    -F \"workflowInputs=@/shared/bioinformatics/methods/rti-shared/shared_data/post_qc/uhs3_v1-2/genotype/array/observed/0008/sex_check/uhs3_v1-2_eur_sex_check_wf.json\" \\\n",
    "    -F \"workflowDependencies=@/shared/rti-shared/shared_data/post_qc/uhs3_v1-2/genotype/array/observed/0008/wf_input/biocloud_gwas_workflows.zip\"\n",
    "echo \"\"\n",
    "_____________________________________________________________________________________________________________________________________________________________________\n",
    "\n",
    "# AFR relatedness\n",
    "curl -X POST \"http://localhost:8000/api/workflows/v1\" -H \"accept: application/json\" \\\n",
    "    -F \"workflowSource=@/shared/biocloud_gwas_workflows/genotype_array_qc/relatedness/relatedness_wf.wdl\" \\\n",
    "    -F \"workflowInputs=@/shared/bioinformatics/methods/rti-shared/shared_data/post_qc/uhs3_v1-2/genotype/array/observed/0008/relatedness/uhs3_v1-2_afr_relatedness_wf.json\" \\\n",
    "    -F \"workflowDependencies=@/shared/rti-shared/shared_data/post_qc/uhs3_v1-2/genotype/array/observed/0008/wf_input/biocloud_gwas_workflows.zip\"\n",
    "echo \"\"\n",
    "\n",
    "# EUR relatedness\n",
    "curl -X POST \"http://localhost:8000/api/workflows/v1\" -H \"accept: application/json\" \\\n",
    "    -F \"workflowSource=@/shared/biocloud_gwas_workflows/genotype_array_qc/relatedness/relatedness_wf.wdl\" \\\n",
    "    -F \"workflowInputs=@/shared/bioinformatics/methods/rti-shared/shared_data/post_qc/uhs3_v1-2/genotype/array/observed/0008/relatedness/uhs3_v1-2_eur_relatedness_wf.json\" \\\n",
    "    -F \"workflowDependencies=@/shared/rti-shared/shared_data/post_qc/uhs3_v1-2/genotype/array/observed/0008/wf_input/biocloud_gwas_workflows.zip\"\n",
    "\n",
    "afr_sex=\n",
    "eur_sex=\n",
    "\n",
    "afr_relate=b78c7c55-645e-40fc-95d6-07cc0fdb7a93\n",
    "eur_relate=71795a5a-4ed6-48bd-804a-68acfd62d811\n",
    "\n",
    "# Monitor job in terminal 1\n",
    "#tail -f /tmp/cromwell-server.log\n",
    "\n",
    "# check job status in terminal 2\n",
    "for job in {$afr_relate,$afr_sex,$eur_relate,$eur_sex}; do\n",
    "    curl -X GET \"http://localhost:8000/api/workflows/v1/${job}/status\"   \n",
    "    echo \"\"\n",
    "done"
   ]
  },
  {
   "cell_type": "markdown",
   "id": "5d7b3369-468d-4868-9425-ecb6c263b139",
   "metadata": {},
   "source": [
    "```\n",
    "{\"status\":\"Succeeded\",\"id\":\"b78c7c55-645e-40fc-95d6-07cc0fdb7a93\"}\n",
    "```"
   ]
  },
  {
   "cell_type": "code",
   "execution_count": null,
   "id": "5c24975b-3604-4cca-af7e-c520c9f755d1",
   "metadata": {},
   "outputs": [],
   "source": [
    "cd /shared/rti-shared/shared_data/post_qc/uhs3_1-2/genotype/array/observed/0008/wf_output\n",
    "mkdir sex_check relatedness\n",
    "cd relatedness\n",
    "\n",
    "echo $eur_relate $afr_relate\n",
    "\n",
    "\n",
    "# Download output from Swagger UI.\n",
    "curl -X GET \"http://localhost:8000/api/workflows/v1/${afr_relate}/outputs\" -H \"accept: application/json\" \\\n",
    "  > ${afr_relate}_final_outputs.json\n",
    "curl -X GET \"http://localhost:8000/api/workflows/v1/${eur_relate}/outputs\" -H \"accept: application/json\" \\\n",
    "  > ${eur_relate}_final_outputs.json\n",
    "\n",
    "aws s3 cp s3://rti-cromwell-output/cromwell-execution/relatedness_wf/b78c7c55-645e-40fc-95d6-07cc0fdb7a93/call-restore_pedigree_ids/uhs3_v1-2_afr_relatedness.final.related_samples.remove .\n",
    "aws s3 cp s3://rti-cromwell-output/cromwell-execution/relatedness_wf/b78c7c55-645e-40fc-95d6-07cc0fdb7a93/call-remove_fam_pedigree/uhs3_v1-2_afr_relatedness.noped.idmap.fam .\n",
    "aws s3 cp s3://rti-cromwell-output/cromwell-execution/relatedness_wf/b78c7c55-645e-40fc-95d6-07cc0fdb7a93/call-final_get_relateds/KING.king_kinship_wf/674fa062-0d04-47c2-aca6-6e8a8a48d784/call-prune_related_samples/uhs3_v1-2_afr_relatedness.final.king.pruned.annotated.k0 .\n",
    "    \n",
    "wc -l *remove\n",
    "#4 uhs3_v1-2_afr_relatedness.final.related_samples.remove\n",
    "\n",
    "awk '$9==\"2nd_degree_relative\"' uhs3_v1-2_afr_relatedness.final.king.pruned.annotated.k0  | wc -l\n",
    "#1\n",
    "awk '$9==\"3+_degree_relative\"' uhs3_v1-2_afr_relatedness.final.king.pruned.annotated.k0  | wc -l\n",
    "#15\n",
    "\n"
   ]
  },
  {
   "cell_type": "markdown",
   "id": "883f2443-02c3-46e3-9c71-83d058ec7ef9",
   "metadata": {},
   "source": [
    "## UHS3_v1-3"
   ]
  },
  {
   "cell_type": "markdown",
   "id": "090b1146-f6c1-46f6-99c4-9b9337a99492",
   "metadata": {},
   "source": [
    "### Create Directories"
   ]
  },
  {
   "cell_type": "code",
   "execution_count": null,
   "id": "284fa364-7317-4468-886a-a121da36fe7e",
   "metadata": {},
   "outputs": [],
   "source": [
    "mkdir -p /shared/rti-shared/shared_data/post_qc/uhs3_v1-3/genotype/array/observed/0008/{wf_input,wf_output} # UHS3_v1-3 AFR and EUR\n",
    "mkdir -p /shared/bioinformatics/methods/rti-shared/shared_data/post_qc/uhs3_v1-3/genotype/array/observed/0008/{sex_check,relatedness}/"
   ]
  },
  {
   "cell_type": "markdown",
   "id": "1a724078-00e0-480e-9d42-857d85dffb9a",
   "metadata": {},
   "source": [
    "###  Set up config file for QC pipeline\n",
    "\n",
    "Copy JSON file from previous run and modify settings. Then edit this config file to include the appropriate cohort information."
   ]
  },
  {
   "cell_type": "code",
   "execution_count": null,
   "id": "4df46bf5-8c09-4c1b-9eb9-b6320713aa89",
   "metadata": {},
   "outputs": [],
   "source": [
    "cd /shared/bioinformatics/methods/rti-shared/shared_data/post_qc/uhs3_v1-3/genotype/array/observed/0008/\n",
    "\n",
    "# sex\n",
    "cp /shared/bioinformatics/methods/rti-shared/shared_data/post_qc/uhs1/genotype/array/observed/0008/sex_check/uhs1_afr_sex_check_wf.json \\\n",
    "    sex_check/uhs3_v1-3_afr_sex_check_wf.json\n",
    "cp /shared/bioinformatics/methods/rti-shared/shared_data/post_qc/uhs1/genotype/array/observed/0008/sex_check/uhs1_eur_sex_check_wf.json \\\n",
    "    sex_check/uhs3_v1-3_eur_sex_check_wf.json\n",
    "\n",
    "# relatedness\n",
    "cp /shared/bioinformatics/methods/rti-shared/shared_data/post_qc/uhs1/genotype/array/observed/0008/relatedness/uhs1_afr_relatedness_wf.json \\\n",
    "    relatedness/uhs3_v1-3_afr_relatedness_wf.json\n",
    "cp /shared/bioinformatics/methods/rti-shared/shared_data/post_qc/uhs1/genotype/array/observed/0008/relatedness/uhs1_eur_relatedness_wf.json \\\n",
    "    relatedness/uhs3_v1-3_eur_relatedness_wf.json\n",
    "\n",
    "# Edit wf config files"
   ]
  },
  {
   "cell_type": "markdown",
   "id": "7b16f666-4cc0-4123-89d0-c50302aca7e6",
   "metadata": {},
   "source": [
    "### Zip biocloud_gwas_workflows repo"
   ]
  },
  {
   "cell_type": "code",
   "execution_count": null,
   "id": "a8bc3eff-5392-4dc5-8225-ab3f6eb32f96",
   "metadata": {},
   "outputs": [],
   "source": [
    "cd /shared/biocloud_gwas_workflows\n",
    "git pull\n",
    "git submodule update --init --recursive\n",
    "git rev-parse HEAD > /shared/rti-shared/shared_data/post_qc/uhs3_v1-3/genotype/array/observed/0008/wf_input/git_hash.txt\n",
    "cd /shared\n",
    "zip \\\n",
    "    --exclude=*/var/* \\\n",
    "    --exclude=*.git/* \\\n",
    "    --exclude=*/test/* \\\n",
    "    --exclude=*/.idea/* \\\n",
    "    -r /shared/rti-shared/shared_data/post_qc/uhs3_v1-3/genotype/array/observed/0008/wf_input/biocloud_gwas_workflows.zip \\\n",
    "    biocloud_gwas_workflows/\n",
    "\n",
    "cd /shared/rti-shared/shared_data/post_qc/uhs3_v1-3/genotype/array/observed/0008"
   ]
  },
  {
   "cell_type": "markdown",
   "id": "4eeb3776-cc73-4eda-8bd4-bba8746874a3",
   "metadata": {},
   "source": [
    "### Submit jobs"
   ]
  },
  {
   "cell_type": "code",
   "execution_count": null,
   "id": "0a93172c-261c-45de-b6f1-55995c92e1f0",
   "metadata": {},
   "outputs": [],
   "source": [
    "# Open session in terminal 1\n",
    "ssh -i ~/.ssh/gwas_rsa -L localhost:8000:localhost:8000 ec2-user@54.174.185.7\n",
    "\n",
    "# Submit jobs in terminal 2\n",
    "\n",
    "# AFR sex_check\n",
    "curl -X POST \"http://localhost:8000/api/workflows/v1\" -H \"accept: application/json\" \\\n",
    "    -F \"workflowSource=@/shared/biocloud_gwas_workflows/genotype_array_qc/sex_check/sex_check_wf.wdl\" \\\n",
    "    -F \"workflowInputs=@/shared/bioinformatics/methods/rti-shared/shared_data/post_qc/uhs3_v1-3/genotype/array/observed/0008/sex_check/uhs3_v1-3_afr_sex_check_wf.json\" \\\n",
    "    -F \"workflowDependencies=@/shared/rti-shared/shared_data/post_qc/uhs3_v1-3/genotype/array/observed/0008/wf_input/biocloud_gwas_workflows.zip\"\n",
    "echo \"\"\n",
    "\n",
    "# EUR sex_check\n",
    "curl -X POST \"http://localhost:8000/api/workflows/v1\" -H \"accept: application/json\" \\\n",
    "    -F \"workflowSource=@/shared/biocloud_gwas_workflows/genotype_array_qc/sex_check/sex_check_wf.wdl\" \\\n",
    "    -F \"workflowInputs=@/shared/bioinformatics/methods/rti-shared/shared_data/post_qc/uhs3_v1-3/genotype/array/observed/0008/sex_check/uhs3_v1-3_eur_sex_check_wf.json\" \\\n",
    "    -F \"workflowDependencies=@/shared/rti-shared/shared_data/post_qc/uhs3_v1-3/genotype/array/observed/0008/wf_input/biocloud_gwas_workflows.zip\"\n",
    "echo \"\"\n",
    "_____________________________________________________________________________________________________________________________________________________________________\n",
    "\n",
    "# AFR relatedness\n",
    "curl -X POST \"http://localhost:8000/api/workflows/v1\" -H \"accept: application/json\" \\\n",
    "    -F \"workflowSource=@/shared/biocloud_gwas_workflows/genotype_array_qc/relatedness/relatedness_wf.wdl\" \\\n",
    "    -F \"workflowInputs=@/shared/bioinformatics/methods/rti-shared/shared_data/post_qc/uhs3_v1-3/genotype/array/observed/0008/relatedness/uhs3_v1-3_afr_relatedness_wf.json\" \\\n",
    "    -F \"workflowDependencies=@/shared/rti-shared/shared_data/post_qc/uhs3_v1-3/genotype/array/observed/0008/wf_input/biocloud_gwas_workflows.zip\"\n",
    "echo \"\"\n",
    "\n",
    "# EUR relatedness\n",
    "curl -X POST \"http://localhost:8000/api/workflows/v1\" -H \"accept: application/json\" \\\n",
    "    -F \"workflowSource=@/shared/biocloud_gwas_workflows/genotype_array_qc/relatedness/relatedness_wf.wdl\" \\\n",
    "    -F \"workflowInputs=@/shared/bioinformatics/methods/rti-shared/shared_data/post_qc/uhs3_v1-3/genotype/array/observed/0008/relatedness/uhs3_v1-3_eur_relatedness_wf.json\" \\\n",
    "    -F \"workflowDependencies=@/shared/rti-shared/shared_data/post_qc/uhs3_v1-3/genotype/array/observed/0008/wf_input/biocloud_gwas_workflows.zip\"\n",
    "\n",
    "\n",
    "afr_relate=5f08ed85-437c-4679-9b80-eb5b52635840\n",
    "eur_relate=aee6d3fa-77ac-40dc-879f-35998740e063\n",
    "\n",
    "# Monitor job in terminal 1\n",
    "#tail -f /tmp/cromwell-server.log\n",
    "\n",
    "# check job status in terminal 2\n",
    "for job in {$afr_relate,$afr_sex,$eur_relate,$eur_sex}; do\n",
    "    curl -X GET \"http://localhost:8000/api/workflows/v1/${job}/status\"   \n",
    "    echo \"\"\n",
    "done"
   ]
  },
  {
   "cell_type": "markdown",
   "id": "1c0a4539-bd68-4091-ac02-1fc2c0af262d",
   "metadata": {},
   "source": [
    "```\n",
    "{\"status\":\"Succeeded\",\"id\":\"5f08ed85-437c-4679-9b80-eb5b52635840\"}\n",
    "```"
   ]
  },
  {
   "cell_type": "code",
   "execution_count": null,
   "id": "2d1f0d57-6a38-42ea-ac4b-564cfdee12e0",
   "metadata": {},
   "outputs": [],
   "source": [
    "cd /shared/rti-shared/shared_data/post_qc/uhs3_v1-3/genotype/array/observed/0008/wf_output\n",
    "mkdir sex_check relatedness\n",
    "cd relatedness\n",
    "\n",
    "echo $eur_relate $afr_relate\n",
    "\n",
    "\n",
    "# Download output from Swagger UI.\n",
    "curl -X GET \"http://localhost:8000/api/workflows/v1/${afr_relate}/outputs\" -H \"accept: application/json\" \\\n",
    "  > ${afr_relate}_final_outputs.json\n",
    "curl -X GET \"http://localhost:8000/api/workflows/v1/${eur_relate}/outputs\" -H \"accept: application/json\" \\\n",
    "  > ${eur_relate}_final_outputs.json\n",
    "\n",
    "aws s3 cp s3://rti-cromwell-output/cromwell-execution/relatedness_wf/5f08ed85-437c-4679-9b80-eb5b52635840/call-final_get_relateds/KING.king_kinship_wf/2eb9d120-acc6-4ea4-9aa6-cee06e03543a/call-prune_related_samples/uhs3_v1-3_afr_relatedness.final.king.pruned.annotated.k0 .\n",
    "aws s3 cp s3://rti-cromwell-output/cromwell-execution/relatedness_wf/5f08ed85-437c-4679-9b80-eb5b52635840/call-restore_pedigree_ids/uhs3_v1-3_afr_relatedness.final.related_samples.remove .\n",
    "aws s3 cp s3://rti-cromwell-output/cromwell-execution/relatedness_wf/5f08ed85-437c-4679-9b80-eb5b52635840/call-remove_fam_pedigree/uhs3_v1-3_afr_relatedness.noped.idmap.fam .\n",
    "    \n",
    "wc -l *remove\n",
    "1 uhs3_v1-3_afr_relatedness.final.related_samples.remove\n",
    "\n",
    "awk '$9==\"2nd_degree_relative\"' uhs4_afr_relatedness.final.king.pruned.annotated.k0  | wc -l\n",
    "# 24\n",
    "awk '$9==\"3+_degree_relative\"' uhs4_afr_relatedness.final.king.pruned.annotated.k0  | wc -l\n",
    "# 15\n"
   ]
  },
  {
   "cell_type": "markdown",
   "id": "99518f1b-f52f-42e3-8d0b-edc82fc07193",
   "metadata": {},
   "source": [
    "## UHS4"
   ]
  },
  {
   "cell_type": "markdown",
   "id": "c1e6b70a-79fc-451d-a3bb-21491cbd685b",
   "metadata": {},
   "source": [
    "### Create Directories"
   ]
  },
  {
   "cell_type": "code",
   "execution_count": null,
   "id": "f3142823-970c-40de-827a-018db03eed5d",
   "metadata": {},
   "outputs": [],
   "source": [
    "mkdir -p /shared/rti-shared/shared_data/post_qc/uhs4/genotype/array/observed/0008/{wf_input,wf_output} # UHS4 AFR and EUR\n",
    "mkdir -p /shared/bioinformatics/methods/rti-shared/shared_data/post_qc/uhs4/genotype/array/observed/0008/{sex_check,relatedness}/"
   ]
  },
  {
   "cell_type": "markdown",
   "id": "53381e3c-d399-4d4e-b8ff-cf1e1881d68f",
   "metadata": {},
   "source": [
    "###  Set up config file for QC pipeline\n",
    "\n",
    "Copy JSON file from previous run and modify settings. Then edit this config file to include the appropriate cohort information."
   ]
  },
  {
   "cell_type": "code",
   "execution_count": null,
   "id": "7fd7d8ed-f3d2-4c60-bc14-3207b0fdb95e",
   "metadata": {},
   "outputs": [],
   "source": [
    "cd /shared/bioinformatics/methods/rti-shared/shared_data/post_qc/uhs4/genotype/array/observed/0008/\n",
    "\n",
    "# sex\n",
    "cp /shared/bioinformatics/methods/rti-shared/shared_data/post_qc/uhs1/genotype/array/observed/0008/sex_check/uhs1_afr_sex_check_wf.json \\\n",
    "    sex_check/uhs4_afr_sex_check_wf.json\n",
    "cp /shared/bioinformatics/methods/rti-shared/shared_data/post_qc/uhs1/genotype/array/observed/0008/sex_check/uhs1_eur_sex_check_wf.json \\\n",
    "    sex_check/uhs4_eur_sex_check_wf.json\n",
    "\n",
    "# relatedness\n",
    "cp /shared/bioinformatics/methods/rti-shared/shared_data/post_qc/uhs1/genotype/array/observed/0008/relatedness/uhs1_afr_relatedness_wf.json \\\n",
    "    relatedness/uhs4_afr_relatedness_wf.json\n",
    "cp /shared/bioinformatics/methods/rti-shared/shared_data/post_qc/uhs1/genotype/array/observed/0008/relatedness/uhs1_eur_relatedness_wf.json \\\n",
    "    relatedness/uhs4_eur_relatedness_wf.json\n",
    "\n",
    "# Edit wf config files"
   ]
  },
  {
   "cell_type": "markdown",
   "id": "dde88222-2844-4fb5-8b02-f262b022a2e2",
   "metadata": {},
   "source": [
    "### Zip biocloud_gwas_workflows repo"
   ]
  },
  {
   "cell_type": "code",
   "execution_count": null,
   "id": "62ab8d34-6a07-4837-89c8-567c5fd12105",
   "metadata": {},
   "outputs": [],
   "source": [
    "cd /shared/biocloud_gwas_workflows\n",
    "git pull\n",
    "git submodule update --init --recursive\n",
    "git rev-parse HEAD > /shared/rti-shared/shared_data/post_qc/uhs4/genotype/array/observed/0008/wf_input/git_hash.txt\n",
    "cd /shared\n",
    "zip \\\n",
    "    --exclude=*/var/* \\\n",
    "    --exclude=*.git/* \\\n",
    "    --exclude=*/test/* \\\n",
    "    --exclude=*/.idea/* \\\n",
    "    -r /shared/rti-shared/shared_data/post_qc/uhs4/genotype/array/observed/0008/wf_input/biocloud_gwas_workflows.zip \\\n",
    "    biocloud_gwas_workflows/\n",
    "\n",
    "cd /shared/rti-shared/shared_data/post_qc/uhs4/genotype/array/observed/0008"
   ]
  },
  {
   "cell_type": "markdown",
   "id": "f9693a7b-eec9-4d37-983f-b27f55cb9af7",
   "metadata": {},
   "source": [
    "### Submit jobs"
   ]
  },
  {
   "cell_type": "code",
   "execution_count": null,
   "id": "94a0acc1-1aa6-41c8-8a3d-5b06af956e41",
   "metadata": {},
   "outputs": [],
   "source": [
    "# Open session in terminal 1\n",
    "ssh -i ~/.ssh/gwas_rsa -L localhost:8000:localhost:8000 ec2-user@54.174.185.7\n",
    "\n",
    "# Submit jobs in terminal 2\n",
    "\n",
    "# AFR sex_check\n",
    "curl -X POST \"http://localhost:8000/api/workflows/v1\" -H \"accept: application/json\" \\\n",
    "    -F \"workflowSource=@/shared/biocloud_gwas_workflows/genotype_array_qc/sex_check/sex_check_wf.wdl\" \\\n",
    "    -F \"workflowInputs=@/shared/bioinformatics/methods/rti-shared/shared_data/post_qc/uhs4/genotype/array/observed/0008/sex_check/uhs4_afr_sex_check_wf.json\" \\\n",
    "    -F \"workflowDependencies=@/shared/rti-shared/shared_data/post_qc/uhs4/genotype/array/observed/0008/wf_input/biocloud_gwas_workflows.zip\"\n",
    "echo \"\"\n",
    "\n",
    "# EUR sex_check\n",
    "curl -X POST \"http://localhost:8000/api/workflows/v1\" -H \"accept: application/json\" \\\n",
    "    -F \"workflowSource=@/shared/biocloud_gwas_workflows/genotype_array_qc/sex_check/sex_check_wf.wdl\" \\\n",
    "    -F \"workflowInputs=@/shared/bioinformatics/methods/rti-shared/shared_data/post_qc/uhs4/genotype/array/observed/0008/sex_check/uhs4_eur_sex_check_wf.json\" \\\n",
    "    -F \"workflowDependencies=@/shared/rti-shared/shared_data/post_qc/uhs4/genotype/array/observed/0008/wf_input/biocloud_gwas_workflows.zip\"\n",
    "echo \"\"\n",
    "_____________________________________________________________________________________________________________________________________________________________________\n",
    "\n",
    "# AFR relatedness\n",
    "curl -X POST \"http://localhost:8000/api/workflows/v1\" -H \"accept: application/json\" \\\n",
    "    -F \"workflowSource=@/shared/biocloud_gwas_workflows/genotype_array_qc/relatedness/relatedness_wf.wdl\" \\\n",
    "    -F \"workflowInputs=@/shared/bioinformatics/methods/rti-shared/shared_data/post_qc/uhs4/genotype/array/observed/0008/relatedness/uhs4_afr_relatedness_wf.json\" \\\n",
    "    -F \"workflowDependencies=@/shared/rti-shared/shared_data/post_qc/uhs4/genotype/array/observed/0008/wf_input/biocloud_gwas_workflows.zip\"\n",
    "echo \"\"\n",
    "\n",
    "# EUR relatedness\n",
    "curl -X POST \"http://localhost:8000/api/workflows/v1\" -H \"accept: application/json\" \\\n",
    "    -F \"workflowSource=@/shared/biocloud_gwas_workflows/genotype_array_qc/relatedness/relatedness_wf.wdl\" \\\n",
    "    -F \"workflowInputs=@/shared/bioinformatics/methods/rti-shared/shared_data/post_qc/uhs4/genotype/array/observed/0008/relatedness/uhs4_eur_relatedness_wf.json\" \\\n",
    "    -F \"workflowDependencies=@/shared/rti-shared/shared_data/post_qc/uhs4/genotype/array/observed/0008/wf_input/biocloud_gwas_workflows.zip\"\n",
    "\n",
    "afr_sex=\n",
    "eur_sex=\n",
    "\n",
    "eur_relate=6717954c-a6f5-43d5-9603-d0a2eea67a7b\n",
    "afr_relate=5b0405dd-af65-4ad8-b025-a62680aa6235\n",
    "\n",
    "\n",
    "# Monitor job in terminal 1\n",
    "#tail -f /tmp/cromwell-server.log\n",
    "\n",
    "# check job status in terminal 2\n",
    "for job in {$afr_relate,$afr_sex,$eur_relate,$eur_sex}; do\n",
    "    curl -X GET \"http://localhost:8000/api/workflows/v1/${job}/status\"   \n",
    "    echo \"\"\n",
    "done"
   ]
  },
  {
   "cell_type": "markdown",
   "id": "fa46b86a-8a1a-40ff-a1e6-1939ce66fca2",
   "metadata": {},
   "source": [
    "```\n",
    "{\"status\":\"Succeeded\",\"id\":\"5b0405dd-af65-4ad8-b025-a62680aa6235\"}\n",
    "{\"status\":\"Succeeded\",\"id\":\"6717954c-a6f5-43d5-9603-d0a2eea67a7b\"}\n",
    "```"
   ]
  },
  {
   "cell_type": "markdown",
   "id": "256c68b2-5bc4-477c-829d-83f3565f0d2e",
   "metadata": {},
   "source": [
    "### get results"
   ]
  },
  {
   "cell_type": "code",
   "execution_count": null,
   "id": "0f4389e7-2edc-4ebc-9b7a-9390dd92430a",
   "metadata": {},
   "outputs": [],
   "source": [
    "cd /shared/rti-shared/shared_data/post_qc/uhs4/genotype/array/observed/0008/wf_output\n",
    "mkdir sex_check relatedness\n",
    "cd relatedness\n",
    "\n",
    "echo $eur_relate $afr_relate\n",
    "\n",
    "\n",
    "# Download output from Swagger UI.\n",
    "curl -X GET \"http://localhost:8000/api/workflows/v1/${afr_relate}/outputs\" -H \"accept: application/json\" \\\n",
    "  > ${afr_relate}_final_outputs.json\n",
    "curl -X GET \"http://localhost:8000/api/workflows/v1/${eur_relate}/outputs\" -H \"accept: application/json\" \\\n",
    "  > ${eur_relate}_final_outputs.json\n",
    "\n",
    "aws s3 cp s3://rti-cromwell-output/cromwell-execution/relatedness_wf/6717954c-a6f5-43d5-9603-d0a2eea67a7b/call-remove_fam_pedigree/uhs4_eur_relatedness.noped.idmap.fam .\n",
    "aws s3 cp s3://rti-cromwell-output/cromwell-execution/relatedness_wf/6717954c-a6f5-43d5-9603-d0a2eea67a7b/call-restore_pedigree_ids/uhs4_eur_relatedness.final.related_samples.remove .\n",
    "aws s3 cp s3://rti-cromwell-output/cromwell-execution/relatedness_wf/6717954c-a6f5-43d5-9603-d0a2eea67a7b/call-final_get_relateds/KING.king_kinship_wf/55253f75-8889-433c-b4b6-8473a7081a30/call-prune_related_samples/uhs4_eur_relatedness.final.king.pruned.annotated.k0 .\n",
    "aws s3 cp s3://rti-cromwell-output/cromwell-execution/relatedness_wf/5b0405dd-af65-4ad8-b025-a62680aa6235/call-final_get_relateds/KING.king_kinship_wf/b0f5cd69-87bc-4398-9e6b-0e34654e0d5b/call-prune_related_samples/uhs4_afr_relatedness.final.king.pruned.annotated.k0 .\n",
    "aws s3 cp s3://rti-cromwell-output/cromwell-execution/relatedness_wf/5b0405dd-af65-4ad8-b025-a62680aa6235/call-restore_pedigree_ids/uhs4_afr_relatedness.final.related_samples.remove . \n",
    "aws s3 cp s3://rti-cromwell-output/cromwell-execution/relatedness_wf/5b0405dd-af65-4ad8-b025-a62680aa6235/call-remove_fam_pedigree/uhs4_afr_relatedness.noped.idmap.fam .\n",
    "\n",
    "    \n",
    "wc -l *remove\n",
    "#0 uhs4_eur_relatedness.final.related_samples.remove\n",
    "#36 uhs4_afr_relatedness.final.related_samples.remove\n",
    "\n",
    "awk '$9==\"2nd_degree_relative\"' uhs4_afr_relatedness.final.king.pruned.annotated.k0  | wc -l\n",
    "# 24\n",
    "awk '$9==\"3+_degree_relative\"' uhs4_afr_relatedness.final.king.pruned.annotated.k0  | wc -l\n",
    "# 15\n"
   ]
  },
  {
   "cell_type": "code",
   "execution_count": null,
   "id": "7d56d117-ea77-4002-bfb5-fac36b765792",
   "metadata": {},
   "outputs": [],
   "source": []
  }
 ],
 "metadata": {
  "kernelspec": {
   "display_name": "R",
   "language": "R",
   "name": "ir"
  },
  "language_info": {
   "codemirror_mode": "r",
   "file_extension": ".r",
   "mimetype": "text/x-r-source",
   "name": "R",
   "pygments_lexer": "r",
   "version": "4.0.3"
  }
 },
 "nbformat": 4,
 "nbformat_minor": 5
}
