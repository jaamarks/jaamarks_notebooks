{
 "cells": [
  {
   "cell_type": "markdown",
   "id": "82fff5de-78b7-4d90-b2c2-0ff15f05c5a7",
   "metadata": {},
   "source": [
    "# UHS1 & McLaren GWAS Meta-Analysis\n",
    "\n",
    "We will combine the samples from European descent into a GWAS meta-analysis. \n",
    "\n",
    "## Data Descriptions and locations\n",
    "\n",
    "**UHS1**: \n",
    "* Novel Genetic Locus Implicated for HIV-1 Acquisition with Putative Regulatory Links to HIV Replication and Infectivity: A Genome-Wide Association Study ([PMID: 26023777](https://pubmed.ncbi.nlm.nih.gov/26023777/))\n",
    "* s3://rti-hiv/gwas/uhs1/results/acquisition/0001/eur/split_by_chromosome/ \n",
    "* We will need to combine the chromosome-specific results.\n",
    "* Determine what filters have been applied, if any.\n",
    "\n",
    "**McLaren**: \n",
    "* Association study of common genetic variants and HIV-1 acquisition in 6,300 infected cases and 7,200 controls [(PMID: 23935489)](https://pubmed.ncbi.nlm.nih.gov/23935489/)\n",
    "* s3://rti-hiv/gwas/mclaren/processed/hiv_acquisition/final_stats/hg19/\n",
    "* We will need to combine the chromosome-specific results.\n",
    "* We have the original non-filtered results, as well as the filtered results with the following filters applied:\n",
    "1. MAF > 1%\n",
    "2. Imputation quality (INFO) > 0.30\n",
    "3. Only keep SNPs only if available in all cohorts\n",
    "4. Reformatted indels to align with how our in-house results are coded\n",
    "5. Convert to 1000 Genomes phase 3\n",
    "6. Convert Odds ration (OR) to beta-coefficient (renamed beta_SNP_addA1)\n"
   ]
  },
  {
   "cell_type": "markdown",
   "id": "012336c1-cf37-4bdd-b90e-b57a787d5a71",
   "metadata": {},
   "source": [
    "## UHS1\n",
    "Need to determine the position for each variant. Use the variants at `s3://rti-common/variants/b153/GRCh37.p13/variants_chr*.tsv.gz`. I may need to write a custom script.\n",
    "\n",
    "Also need to filter by MAF and RSQ."
   ]
  },
  {
   "cell_type": "code",
   "execution_count": null,
   "id": "27420b26-2a5b-420c-96b6-1d85175091c2",
   "metadata": {},
   "outputs": [],
   "source": [
    "# download chromosome chunks\n",
    "cd ~/rti-hiv/gwas/uhs1/results/acquisition/0001/eur/split_by_chromosome/\n",
    "\n",
    "aws s3 sync s3://rti-hiv/gwas/uhs1/results/acquisition/0001/eur/split_by_chromosome/ .\n",
    "\n",
    "zcat imputed.hiv_cauc.chr1.GWASHIV_10evs_class_syear_rec_aage_gwassex.palogist.csv.gz | head\n",
    "#\"name\",\"A1\",\"A2\",\"Freq1\",\"MAF\",\"Quality\",\"Rsq\",\"n\",\"Mean_predictor_allele\",\"beta_SNP_add\",\"sebeta_SNP_add\",\"loglik\",\"chi\",\"p\",\"or_95_percent_ci\"\n",
    "#\"rs58108140\",\"G\",\"A\",0.872,0.128,0,0.432,1132,0.871962,-0.0140979,0.209907,-674.692,0.00451081491670313,0.946452258281973,\"0.99 (0.65-1.49)\"\n"
   ]
  },
  {
   "cell_type": "markdown",
   "id": "747198ba-a99e-4716-988a-d75ec824374c",
   "metadata": {},
   "source": [
    "### Add variant positions\n",
    "Our summary stats did not have positions, so we will extract the variant positions from GRCh37 reference files. \n",
    "\n",
    "`s3://rti-common/variants/b153/GRCh37.p13/variants_chr{1..22}.tsv.gz`"
   ]
  },
  {
   "cell_type": "code",
   "execution_count": null,
   "id": "5a0f54d6-49c8-4f9f-a1c7-a200ee0187c2",
   "metadata": {},
   "outputs": [],
   "source": [
    "cd /home/ec2-user/rti-hiv/gwas/uhs1/results/acquisition/0001/eur/\n",
    "\n",
    "# copy the var\n",
    "for chr in {1..22}; do\n",
    "    aws s3 cp s3://rti-common/variants/b153/GRCh37.p13/variants_chr${chr}.tsv.gz .\n",
    "done"
   ]
  },
  {
   "cell_type": "code",
   "execution_count": null,
   "id": "3cdf28fe-1cc9-4004-b84e-a7afb5d2ab4d",
   "metadata": {},
   "outputs": [],
   "source": [
    "import gzip\n",
    "\n",
    "for chrom in range(1, 23):\n",
    "    infile = \"variants_chr{}.tsv.gz\".format(chrom)\n",
    "    gwas_file = \"split_by_chromosome/chr{}/imputed.hiv_cauc.chr{}.GWASHIV_10evs_class_syear_rec_aage_gwassex.palogist.csv.gz\".format(chrom, chrom)\n",
    "    out_file = \"split_by_chromosome/chr{}/imputed.hiv_cauc.chr{}.GWASHIV_10evs_class_syear_rec_aage_gwassex.palogist.positions.txt\".format(chrom, chrom)\n",
    "\n",
    "\n",
    "    with gzip.open(infile, \"rt\") as inF, gzip.open(gwas_file) as gwasF, open(out_file, 'w') as outF:\n",
    "        # prepare header\n",
    "        gwas_head = gwasF.readline()\n",
    "        gwas_head = gwas_head.replace('\"', '') # remove quotations\n",
    "        gwas_head = gwas_head.strip().split(\",\")\n",
    "        # add pos and chr to from of header\n",
    "        gwas_head.insert(0, \"pos\")\n",
    "        gwas_head.insert(0, \"chr\")\n",
    "        # create a SE of OR column then compare with Linran's formula\n",
    "        \n",
    "        #gwas_head[-1] = \"odds_ratio\" # remove confidence int portion\n",
    "        \n",
    "        gwas_head = \" \".join(gwas_head) + \"\\n\"\n",
    "        outF.write(gwas_head)\n",
    "        print(gwas_head)\n",
    "\n",
    "        head = inF.readline()\n",
    "        line = inF.readline()\n",
    "\n",
    "        snp_dic = {}\n",
    "        #for _ in range(100000):\n",
    "        # our sumstats don't have the variant positions \n",
    "        # so make a dictionary of the reference GRCh37 variants so we can extract the position\n",
    "        while line: \n",
    "            sl = line.strip().split(\"\\t\")\n",
    "            markername = sl[0]\n",
    "            rsid = markername.split(\":\")[0]\n",
    "            pos = markername.split(\":\")[1]\n",
    "\n",
    "            snp_dic[rsid] = [markername, pos]\n",
    "            line = inF.readline()\n",
    "        #print(dict(list(snp_dic.items())[0:20]))\n",
    "\n",
    "        line = gwasF.readline()\n",
    "        #for _ in range(10000):\n",
    "        # now run through our sumstats, and if the rsid was in the reference\n",
    "        # dictionary then extract the variant position\n",
    "        while line:\n",
    "            line = line.strip()\n",
    "            line = line.replace('\"', '')\n",
    "            sl = line.split(\",\")\n",
    "            rsid = sl[0]\n",
    "            if rsid in snp_dic:\n",
    "                odds_ratio = sl[-1].split(\" \")[0] # remove the confidence interval portion\n",
    "                sl[-1] = odds_ratio\n",
    "\n",
    "                a1 = sl[1]\n",
    "                a2 = sl[2]\n",
    "                position = snp_dic[rsid][1]\n",
    "                sl.insert(0, position)\n",
    "                sl.insert(0, str(chrom))\n",
    "                outline = \" \".join(sl) + \"\\n\"\n",
    "                outF.write(outline) \n",
    "\n",
    "                line = gwasF.readline()\n",
    "            else:\n",
    "                line = gwasF.readline()\n"
   ]
  },
  {
   "cell_type": "markdown",
   "id": "ac49e23e-c8a0-4cf7-a39d-6ca3ba459029",
   "metadata": {},
   "source": [
    "### Apply filters & combine chromosomes\n",
    "Combine the split chromosome results and apply the filters RSQ >= 0.30 and  MAF >= 0.01. These are the same filters that were applied to the McLaren results."
   ]
  },
  {
   "cell_type": "code",
   "execution_count": null,
   "id": "8ea55f03-e3ff-40b5-86f5-7ec37e9146a8",
   "metadata": {},
   "outputs": [],
   "source": [
    "# combine results\n",
    "head -1 chr1/imputed.hiv_cauc.chr1.GWASHIV_10evs_class_syear_rec_aage_gwassex.palogist.positions.txt >/\n",
    "    uhs1_ea_hiv_acquisition_all_chr_stats.txt\n",
    "for chr in {1..22}; do\n",
    "    tail -n + 2 chr$chr/imputed.hiv_cauc.chr$chr.GWASHIV_10evs_class_syear_rec_aage_gwassex.palogist.positions.txt >>/\n",
    "    uhs1_ea_hiv_acquisition_all_chr_stats.txt\n",
    "done\n",
    "\n",
    "\n",
    "# apply rsq and maf filters\n",
    "cat uhs1_ea_hiv_acquisition_all_chr_stats.txt | awk '\n",
    "{ if ($7 >= 0.01 && $9 >= 0.3)\n",
    "{print $0}}' > uhs1_ea_hiv_acquisition_all_chr_stats_rsq0.30_maf0.01.txt\n",
    "\n",
    "# zip and upload to s3\n",
    "gzip uhs1_ea_hiv_acquisition_all_chr_stats_rsq0.30_maf0.01.txt\n",
    "aws s3 cp uhs1_ea_hiv_acquisition_all_chr_stats_rsq0.30_maf0.01.txt.gz \\\n",
    "    s3://rti-hiv/gwas/uhs1/results/acquisition/005/eur/merge_chromosomes/uhs1_ea_hiv_acquisition_all_chr_stats_rsq0.30_maf0.01.txt.gz"
   ]
  },
  {
   "cell_type": "markdown",
   "id": "0b37e2e5-ab68-4773-9b0c-a9c87dcbf532",
   "metadata": {},
   "source": [
    "## McLaren\n",
    "Combine data. Perform genomic annotation liftover (hg19). Add Beta and SE-beta."
   ]
  },
  {
   "cell_type": "code",
   "execution_count": null,
   "id": "b01ea5d1-1f5c-4b92-8b45-0cde5e2d691a",
   "metadata": {},
   "outputs": [],
   "source": [
    "cd /shared/jmarks/hiv/meta/data/mclaren\n",
    "aws s3 cp s3://rti-hiv/gwas/mclaren/original/icgh_aquisition_results.tar .\n",
    "## extract files\n",
    "tar -xf icgh_aquisition_results.tar\n",
    "rm *tar\n",
    "\n",
    "## copy head\n",
    "zcat dan_chr22_015_018.assoc.dosage.meta.ngt.metadaner.gz | head -1 > head.txt\n",
    "\n",
    "combine files\n",
    "for chr in {1..22}; do\n",
    "    cat head.txt > dan_chr${chr}_assoc_dosage_meta_ngt_metadaner.txt\n",
    "    for file in dan_chr${chr}_*.assoc.dosage.meta.ngt.metadaner.gz; do\n",
    "        zcat $file | tail -n +2 >> dan_chr${chr}_assoc_dosage_meta_ngt_metadaner.txt\n",
    "    done &\n",
    "done\n",
    "\n",
    "\n",
    "# remove chunks\n",
    "rm *gz\n",
    "\n",
    "# combine files to one file\n",
    "#dan_chr_all_assoc_dosage_meta_ngt_metadaner_hg19.txt.gz"
   ]
  },
  {
   "cell_type": "code",
   "execution_count": null,
   "id": "4f459259-036a-462b-a35e-82713b0f587f",
   "metadata": {},
   "outputs": [],
   "source": [
    "# perform liftover"
   ]
  },
  {
   "cell_type": "code",
   "execution_count": null,
   "id": "d9644ae2-bd9e-45d0-9816-56b2b4a09794",
   "metadata": {},
   "outputs": [],
   "source": [
    "### R \n",
    "mclaren$BETA <-log(mclaren$OR)\n",
    "mclaren$Z <- sqrt(qchisq(mclaren$P, 1, lower.tail = F))\n",
    "mclaren$SE_BETA <- abs(mclaren$BETA/mclaren$Z)"
   ]
  },
  {
   "cell_type": "code",
   "execution_count": null,
   "id": "bba27af2-7485-4ada-8ae8-d488c2ca5e25",
   "metadata": {},
   "outputs": [],
   "source": [
    "import gzip\n",
    "\n",
    "for chrom in range(1,22):\n",
    "    infile = \"mclaren.hiv_acq.hg19.chr{}.stats.gz\".format(chrom)\n",
    "    outfile = \"mclaren.hiv_acquisition.hg19.chr{}.rsid_only.stats.tsv\".format(chrom)\n",
    "\n",
    "    with gzip.open(infile, 'rt') as inF, open(outfile, 'w') as outF:\n",
    "        head = inF.readline()\n",
    "        outF.write(head)\n",
    "        print(head)\n",
    "        line = inF.readline()\n",
    "        while line:\n",
    "            sl = line.split()\n",
    "            markername = sl[0].split(\":\")\n",
    "            rsid = markername[0]\n",
    "            if rsid[0] == \"r\":\n",
    "                sl[0] = rsid\n",
    "                outline = \"\\t\".join(sl) + \"\\n\"\n",
    "                outF.write(outline)\n",
    "            line = inF.readline()"
   ]
  },
  {
   "cell_type": "code",
   "execution_count": null,
   "id": "2aebe9fa-b2ad-4871-af5c-a544d43b8e75",
   "metadata": {},
   "outputs": [],
   "source": [
    "# combine chromosomes to one file\n",
    "for chr in {1..22}; do \n",
    "    tail -n +2 mclaren.hiv_acquisition.hg19.chr$chr.rsid_only.stats.tsv >>\\\n",
    "    mclaren_ea_hiv_acquisition_hg39_all_chr_rsq0.30_maf_0.01_rsid_only.tsv\n",
    "done\n",
    "\n",
    "gzip mclaren_ea_hiv_acquisition_hg39_all_chr_rsq0.30_maf_0.01_rsid_only.tsv\n",
    "\n",
    "# upload to S3\n",
    "aws s3 cp mclaren_ea_hiv_acquisition_hg39_all_chr_rsq0.30_maf_0.01_rsid_only.tsv \\\n",
    "    s3://rti-hiv/gwas/mclaren/processed/hiv_acquisition/final_stats/hg19/merge_chromosomes/mclaren_ea_hiv_acquisition_hg39_all_chr_rsq0.30_maf_0.01_rsid_only.tsv.gz"
   ]
  },
  {
   "cell_type": "markdown",
   "id": "610056a9-b289-4083-9ab7-6755e62033b5",
   "metadata": {},
   "source": [
    "# Meta analysis "
   ]
  },
  {
   "cell_type": "code",
   "execution_count": null,
   "id": "3a1dae5b-e1c9-42d0-9f4e-4d15a7d6a302",
   "metadata": {},
   "outputs": [],
   "source": [
    "cd /home/ec2-user/rti-hiv/gwas_meta/hiv_acquisition/0034/\n",
    "\n",
    "# edit variables\n",
    "project=\"rti-hiv\"\n",
    "phen=acquisition\n",
    "study=uhs1_mclaren\n",
    "ancestry=eur\n",
    "version=0034\n",
    "\n",
    "## Cloning this repo and biocloud_wdl_tools submodule together\n",
    "cd /shared/\n",
    "git clone --recurse-submodules https://github.com/RTIInternational/biocloud_gwas_workflows.git\n",
    "\n",
    "# pull for any updates\n",
    "cd /shared/biocloud_gwas_workflows\n",
    "git pull\n",
    "git submodule update --init --recursive"
   ]
  },
  {
   "cell_type": "code",
   "execution_count": null,
   "id": "d3140efe-ba3e-49df-9fe1-ab23a23e3a56",
   "metadata": {},
   "outputs": [],
   "source": [
    "# Create wf config file for afr and eur\n",
    "cd /home/ec2-user/rti-hiv/gwas_meta/hiv_acquisition/0034/biocloud_gwas_workflows/meta_analysis/metal/gwas/config_inputs/\n",
    "\n",
    "# Modify config settings manually with vim\n",
    "\n",
    "# save commit \n",
    "git rev-parse HEAD > git_hash.txt  \n",
    "cd /home/ec2-user/rti-hiv/gwas_meta/hiv_acquisition/0034/\n",
    "\n",
    "# Zip biocloud_gwas_workflows repo\n",
    "zip \\\n",
    "    --exclude=*/var/* \\\n",
    "    --exclude=*.git/* \\\n",
    "    --exclude=*/test/* \\\n",
    "    --exclude=*/.idea/* \\\n",
    "    -r biocloud_gwas_workflows/meta_analysis/metal/gwas/biocloud_gwas_workflows.zip \\\n",
    "    biocloud_gwas_workflows/\n",
    "\n",
    "cd /shared/${project}/gwas/${study}/results/${phen}/${version}/${ancestry}/\n",
    "\n",
    "# note to opens the listening port to the large cromwell server in another window\n",
    "# ssh -i ~/.ssh/gwas_rsa -L localhost:8000:localhost:8000 ec2-user@35.153.41.169\n",
    "\n",
    "curl -X POST \"http://localhost:8000/api/workflows/v1\" -H \"accept: application/json\" \\\n",
    "    -F \"workflowSource=@/home/ec2-user/rti-hiv/gwas_meta/hiv_acquisition/0034/biocloud_gwas_workflows/meta_analysis/metal/gwas/full_gwas_meta.wdl\" \\\n",
    "    -F \"workflowInputs=@/home/ec2-user/rti-hiv/gwas_meta/hiv_acquisition/0034/biocloud_gwas_workflows/meta_analysis/metal/gwas/config_templates/inputs.json\" \\\n",
    "    -F \"workflowDependencies=@/home/ec2-user/rti-hiv/gwas_meta/hiv_acquisition/0034/biocloud_gwas_workflows/meta_analysis/metal/gwas/biocloud_gwas_workflows.zip\" \\\n",
    "    -F \"workflowOptions=@/home/ec2-user/bin/cromwell/hiv_gnetii_charge_code.json\"  >\\ job_ids.txt\n",
    "\n",
    "cat job_ids.txt\n",
    "\n",
    "job=351f50af-4f3f-40a5-9342-f654ce817f9e\n",
    "curl -X GET \"http://localhost:8000/api/workflows/v1/${job}/status\""
   ]
  },
  {
   "cell_type": "code",
   "execution_count": 9,
   "id": "f07e2dc4-43f7-4501-9510-8f929b33a542",
   "metadata": {},
   "outputs": [
    {
     "data": {
      "text/html": [
       "<style>\n",
       ".list-inline {list-style: none; margin:0; padding: 0}\n",
       ".list-inline>li {display: inline-block}\n",
       ".list-inline>li:not(:last-child)::after {content: \"\\00b7\"; padding: 0 .5ex}\n",
       "</style>\n",
       "<ol class=list-inline><li>0.999</li><li>0.998</li><li>0.01125</li></ol>\n"
      ],
      "text/latex": [
       "\\begin{enumerate*}\n",
       "\\item 0.999\n",
       "\\item 0.998\n",
       "\\item 0.01125\n",
       "\\end{enumerate*}\n"
      ],
      "text/markdown": [
       "1. 0.999\n",
       "2. 0.998\n",
       "3. 0.01125\n",
       "\n",
       "\n"
      ],
      "text/plain": [
       "[1] 0.99900 0.99800 0.01125"
      ]
     },
     "metadata": {},
     "output_type": "display_data"
    },
    {
     "data": {
      "text/html": [
       "<style>\n",
       ".list-inline {list-style: none; margin:0; padding: 0}\n",
       ".list-inline>li {display: inline-block}\n",
       ".list-inline>li:not(:last-child)::after {content: \"\\00b7\"; padding: 0 .5ex}\n",
       "</style>\n",
       "<ol class=list-inline><li>0.999</li><li>0.998</li><li>0.01125</li></ol>\n"
      ],
      "text/latex": [
       "\\begin{enumerate*}\n",
       "\\item 0.999\n",
       "\\item 0.998\n",
       "\\item 0.01125\n",
       "\\end{enumerate*}\n"
      ],
      "text/markdown": [
       "1. 0.999\n",
       "2. 0.998\n",
       "3. 0.01125\n",
       "\n",
       "\n"
      ],
      "text/plain": [
       "[1] 0.99900 0.99800 0.01125"
      ]
     },
     "metadata": {},
     "output_type": "display_data"
    },
    {
     "data": {
      "text/html": [
       "<style>\n",
       ".list-inline {list-style: none; margin:0; padding: 0}\n",
       ".list-inline>li {display: inline-block}\n",
       ".list-inline>li:not(:last-child)::after {content: \"\\00b7\"; padding: 0 .5ex}\n",
       "</style>\n",
       "<ol class=list-inline><li>1</li><li>2</li></ol>\n"
      ],
      "text/latex": [
       "\\begin{enumerate*}\n",
       "\\item 1\n",
       "\\item 2\n",
       "\\end{enumerate*}\n"
      ],
      "text/markdown": [
       "1. 1\n",
       "2. 2\n",
       "\n",
       "\n"
      ],
      "text/plain": [
       "[1] 1 2"
      ]
     },
     "metadata": {},
     "output_type": "display_data"
    },
    {
     "data": {
      "text/html": [
       "<style>\n",
       ".list-inline {list-style: none; margin:0; padding: 0}\n",
       ".list-inline>li {display: inline-block}\n",
       ".list-inline>li:not(:last-child)::after {content: \"\\00b7\"; padding: 0 .5ex}\n",
       "</style>\n",
       "<ol class=list-inline><li>0.001</li><li>0.00200000000000011</li><li>0.01125</li></ol>\n"
      ],
      "text/latex": [
       "\\begin{enumerate*}\n",
       "\\item 0.001\n",
       "\\item 0.00200000000000011\n",
       "\\item 0.01125\n",
       "\\end{enumerate*}\n"
      ],
      "text/markdown": [
       "1. 0.001\n",
       "2. 0.00200000000000011\n",
       "3. 0.01125\n",
       "\n",
       "\n"
      ],
      "text/plain": [
       "[1] 0.00100 0.00200 0.01125"
      ]
     },
     "metadata": {},
     "output_type": "display_data"
    }
   ],
   "source": [
    "freq_a <- c(0.999, 0.998, 0.0107)\n",
    "freq_u <- c(0.999, 0.998, 0.0118)\n",
    "\n",
    "maf2 <- (freq_a*3*2 + freq_u*3*2)/(2*3+2*3)\n",
    "maf <- (freq_a*3 + freq_u*3)/(3+3)\n",
    "maf2\n",
    "maf\n",
    "not_minors <- which(maf > 0.5)\n",
    "not_minors\n",
    "maf[not_minors] <- 1 - maf[not_minors]\n",
    "maf"
   ]
  },
  {
   "cell_type": "code",
   "execution_count": 4,
   "id": "bffbbd91-50db-49ba-93d6-1a854ef7f469",
   "metadata": {},
   "outputs": [
    {
     "data": {
      "text/html": [
       "0.998"
      ],
      "text/latex": [
       "0.998"
      ],
      "text/markdown": [
       "0.998"
      ],
      "text/plain": [
       "[1] 0.998"
      ]
     },
     "metadata": {},
     "output_type": "display_data"
    }
   ],
   "source": [
    "maf[which(maf > 0.1 & maf < 0.999)]\n",
    "\n",
    "(data$FRQ_A_6334 * 6334 * 2data$FRQ_U_7247 * 7247) / (6334+7247)"
   ]
  },
  {
   "cell_type": "code",
   "execution_count": null,
   "id": "bac7509f-e05d-456b-879e-7f7564a3602d",
   "metadata": {},
   "outputs": [],
   "source": [
    "mclaren_filtered <- mclaren[which(mclaren$MAF > 0.01 & mclaren$INFO > 0.3), ]\n",
    "\n",
    "mclaren_filtered <- mclaren_filtered[which(mclaren_filtered$INFO > 0.30), ]\n"
   ]
  }
 ],
 "metadata": {
  "kernelspec": {
   "display_name": "R",
   "language": "R",
   "name": "ir"
  },
  "language_info": {
   "codemirror_mode": "r",
   "file_extension": ".r",
   "mimetype": "text/x-r-source",
   "name": "R",
   "pygments_lexer": "r",
   "version": "4.0.3"
  }
 },
 "nbformat": 4,
 "nbformat_minor": 5
}
