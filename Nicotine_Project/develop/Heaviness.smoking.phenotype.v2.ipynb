{
 "cells": [
  {
   "cell_type": "code",
   "execution_count": 1,
   "metadata": {},
   "outputs": [],
   "source": [
    "dat <- read.csv(\"/share/storage/FTND/UKBiobank/observed/phenotype/ukb23019.csv\", stringsAsFactors = FALSE)"
   ]
  },
  {
   "cell_type": "markdown",
   "metadata": {},
   "source": [
    "# Heaviness of Smoking Index (HSI)\n",
    "\n",
    "## 1. On the days that you smoke, how soon after you wake up do you have your first cigarette?\n",
    " - A. Within 5 minutes (3 points)\n",
    " - B. 6- 30 minutes (2 points)\n",
    " - C. 31-60 minutes (1 point)\n",
    " - D. After 60 minutes (0 points)\n",
    "\n",
    "## 2. How many cigarettes do you typically smoke per day?\n",
    " - A. 10 or fewer (0 points)\n",
    " - B. 11-20 (1 point)\n",
    " - C. 21-30 (2 points)\n",
    " - D. 31 or more (3 points)\n",
    "\n",
    "## SCORING:\n",
    " - 0-1: low addiction\n",
    " - 2-4: moderate addiction\n",
    " - 5-6: high addiction\n"
   ]
  },
  {
   "cell_type": "markdown",
   "metadata": {},
   "source": [
    "## how soon after wake up to first cigarette\n",
    " - 1 Less than 5 minutes\n",
    " - 2   Between 5-15 minutes\n",
    " - 3   Between 30 minutes - 1 hour\n",
    " - 4   Between 1 and 2 hours\n",
    " - 5   Longer than 2 hours\n",
    " - -1  Do not know\n",
    " - -3  Prefer not to answer"
   ]
  },
  {
   "cell_type": "code",
   "execution_count": 2,
   "metadata": {},
   "outputs": [],
   "source": [
    "dat$score.time <- NA\n",
    "dat$score.time[dat$X3466.0.0 == 1] <- 3\n",
    "dat$score.time[dat$X3466.0.0 == 2] <- 2\n",
    "dat$score.time[dat$X3466.0.0 == 3] <- 1\n",
    "dat$score.time[dat$X3466.0.0 %in% c(4,5)] <- 0\n"
   ]
  },
  {
   "cell_type": "markdown",
   "metadata": {},
   "source": [
    "## Number of cigarettes currently smoked daily (current cigarette smokers)\n",
    " - -10   Less than one a day\n",
    " - -1  Do not know\n",
    " - -3  Prefer not to answer\n"
   ]
  },
  {
   "cell_type": "code",
   "execution_count": 3,
   "metadata": {},
   "outputs": [],
   "source": [
    "dat$score.cpd <- NA\n",
    "dat$score.cpd[dat$X3456.0.0 == -10 | ( dat$X3456.0.0 > 0 & dat$X3456.0.0 <= 10)] <- 0\n",
    "dat$score.cpd[dat$X3456.0.0 > 10 & dat$X3456.0.0 <= 20] <- 1\n",
    "dat$score.cpd[dat$X3456.0.0 > 20 & dat$X3456.0.0 <= 30] <- 2\n",
    "dat$score.cpd[dat$X3456.0.0 > 30 ] <- 3\n"
   ]
  },
  {
   "cell_type": "code",
   "execution_count": 4,
   "metadata": {},
   "outputs": [],
   "source": [
    "dat$heaviness <- dat$score.time + dat$score.cpd"
   ]
  },
  {
   "cell_type": "markdown",
   "metadata": {},
   "source": [
    "# Kinship"
   ]
  },
  {
   "cell_type": "markdown",
   "metadata": {},
   "source": [
    "kinship coefficient range >0.354, [0.177, 0.354], [0.0884, 0.177] and [0.0442, 0.0884] corresponds to duplicate/MZ twin, 1st-degree, 2nd-degree, and 3rd-degree relationships respectively"
   ]
  },
  {
   "cell_type": "code",
   "execution_count": 5,
   "metadata": {},
   "outputs": [],
   "source": [
    "related <- read.table(\"/share/storage/FTND/UKBiobank/observed/rel/ukb24603_rel_s488295.dat\", head = TRUE, stringsAsFactors = FALSE)"
   ]
  },
  {
   "cell_type": "code",
   "execution_count": 6,
   "metadata": {},
   "outputs": [
    {
     "data": {
      "text/html": [
       "<table>\n",
       "<thead><tr><th scope=col>ID1</th><th scope=col>ID2</th><th scope=col>HetHet</th><th scope=col>IBS0</th><th scope=col>Kinship</th></tr></thead>\n",
       "<tbody>\n",
       "\t<tr><td>1000031</td><td>3813341</td><td>0.067  </td><td>0.0002 </td><td>0.2451 </td></tr>\n",
       "\t<tr><td>1000237</td><td>1231015</td><td>0.045  </td><td>0.0143 </td><td>0.0595 </td></tr>\n",
       "\t<tr><td>1000251</td><td>5910072</td><td>0.046  </td><td>0.0141 </td><td>0.0677 </td></tr>\n",
       "\t<tr><td>1000262</td><td>5259319</td><td>0.076  </td><td>0.0051 </td><td>0.2465 </td></tr>\n",
       "\t<tr><td>1000286</td><td>5319336</td><td>0.050  </td><td>0.0098 </td><td>0.1165 </td></tr>\n",
       "\t<tr><td>1000295</td><td>5338158</td><td>0.045  </td><td>0.0151 </td><td>0.0569 </td></tr>\n",
       "</tbody>\n",
       "</table>\n"
      ],
      "text/latex": [
       "\\begin{tabular}{r|lllll}\n",
       " ID1 & ID2 & HetHet & IBS0 & Kinship\\\\\n",
       "\\hline\n",
       "\t 1000031 & 3813341 & 0.067   & 0.0002  & 0.2451 \\\\\n",
       "\t 1000237 & 1231015 & 0.045   & 0.0143  & 0.0595 \\\\\n",
       "\t 1000251 & 5910072 & 0.046   & 0.0141  & 0.0677 \\\\\n",
       "\t 1000262 & 5259319 & 0.076   & 0.0051  & 0.2465 \\\\\n",
       "\t 1000286 & 5319336 & 0.050   & 0.0098  & 0.1165 \\\\\n",
       "\t 1000295 & 5338158 & 0.045   & 0.0151  & 0.0569 \\\\\n",
       "\\end{tabular}\n"
      ],
      "text/markdown": [
       "\n",
       "| ID1 | ID2 | HetHet | IBS0 | Kinship |\n",
       "|---|---|---|---|---|\n",
       "| 1000031 | 3813341 | 0.067   | 0.0002  | 0.2451  |\n",
       "| 1000237 | 1231015 | 0.045   | 0.0143  | 0.0595  |\n",
       "| 1000251 | 5910072 | 0.046   | 0.0141  | 0.0677  |\n",
       "| 1000262 | 5259319 | 0.076   | 0.0051  | 0.2465  |\n",
       "| 1000286 | 5319336 | 0.050   | 0.0098  | 0.1165  |\n",
       "| 1000295 | 5338158 | 0.045   | 0.0151  | 0.0569  |\n",
       "\n"
      ],
      "text/plain": [
       "  ID1     ID2     HetHet IBS0   Kinship\n",
       "1 1000031 3813341 0.067  0.0002 0.2451 \n",
       "2 1000237 1231015 0.045  0.0143 0.0595 \n",
       "3 1000251 5910072 0.046  0.0141 0.0677 \n",
       "4 1000262 5259319 0.076  0.0051 0.2465 \n",
       "5 1000286 5319336 0.050  0.0098 0.1165 \n",
       "6 1000295 5338158 0.045  0.0151 0.0569 "
      ]
     },
     "metadata": {},
     "output_type": "display_data"
    }
   ],
   "source": [
    "head(related)"
   ]
  },
  {
   "cell_type": "code",
   "execution_count": 7,
   "metadata": {},
   "outputs": [],
   "source": [
    "has.hsi <- dat$eid[ !is.na(dat$heaviness) ]"
   ]
  },
  {
   "cell_type": "code",
   "execution_count": 8,
   "metadata": {},
   "outputs": [
    {
     "data": {
      "text/html": [
       "35564"
      ],
      "text/latex": [
       "35564"
      ],
      "text/markdown": [
       "35564"
      ],
      "text/plain": [
       "[1] 35564"
      ]
     },
     "metadata": {},
     "output_type": "display_data"
    }
   ],
   "source": [
    "length(has.hsi)"
   ]
  },
  {
   "cell_type": "code",
   "execution_count": 9,
   "metadata": {},
   "outputs": [
    {
     "data": {
      "text/html": [
       "<ol class=list-inline>\n",
       "\t<li>930</li>\n",
       "\t<li>5</li>\n",
       "</ol>\n"
      ],
      "text/latex": [
       "\\begin{enumerate*}\n",
       "\\item 930\n",
       "\\item 5\n",
       "\\end{enumerate*}\n"
      ],
      "text/markdown": [
       "1. 930\n",
       "2. 5\n",
       "\n",
       "\n"
      ],
      "text/plain": [
       "[1] 930   5"
      ]
     },
     "metadata": {},
     "output_type": "display_data"
    }
   ],
   "source": [
    "related.hsi <- related[ (related$ID1 %in% has.hsi) & (related$ID2 %in% has.hsi), ]\n",
    "dim(related.hsi)"
   ]
  },
  {
   "cell_type": "markdown",
   "metadata": {},
   "source": [
    "### Degrees"
   ]
  },
  {
   "cell_type": "code",
   "execution_count": 10,
   "metadata": {},
   "outputs": [
    {
     "data": {
      "text/plain": [
       "\n",
       "   1    2    3    4    6    7    8 \n",
       "1622   82   15    2    1    1    1 "
      ]
     },
     "metadata": {},
     "output_type": "display_data"
    }
   ],
   "source": [
    "# degree\n",
    "table(table(c(related.hsi$ID1, related.hsi$ID2)))"
   ]
  },
  {
   "cell_type": "markdown",
   "metadata": {},
   "source": [
    "### Remove one with 8 relatives"
   ]
  },
  {
   "cell_type": "code",
   "execution_count": 11,
   "metadata": {},
   "outputs": [
    {
     "data": {
      "text/html": [
       "'4910503'"
      ],
      "text/latex": [
       "'4910503'"
      ],
      "text/markdown": [
       "'4910503'"
      ],
      "text/plain": [
       "[1] \"4910503\""
      ]
     },
     "metadata": {},
     "output_type": "display_data"
    }
   ],
   "source": [
    "remove.list <- c()\n",
    "# Remove degree = 8\n",
    "remove.list <- c(remove.list, names(table(c(related.hsi$ID1, related.hsi$ID2))[which(table(c(related.hsi$ID1, related.hsi$ID2)) == 8)]))\n",
    "remove.list"
   ]
  },
  {
   "cell_type": "code",
   "execution_count": 12,
   "metadata": {},
   "outputs": [
    {
     "data": {
      "text/plain": [
       "\n",
       "   1    2    3    5    7 \n",
       "1620   85   14    1    1 "
      ]
     },
     "metadata": {},
     "output_type": "display_data"
    }
   ],
   "source": [
    "# exclude individual\n",
    "related.hsi <- related.hsi[ (! related.hsi$ID1 %in% remove.list) & (! related.hsi$ID2 %in% remove.list), ]\n",
    "# degree\n",
    "table(table(c(related.hsi$ID1, related.hsi$ID2)))"
   ]
  },
  {
   "cell_type": "markdown",
   "metadata": {},
   "source": [
    "### Remove one with 7 relatives"
   ]
  },
  {
   "cell_type": "code",
   "execution_count": 13,
   "metadata": {},
   "outputs": [
    {
     "data": {
      "text/html": [
       "<ol class=list-inline>\n",
       "\t<li>'4910503'</li>\n",
       "\t<li>'4820463'</li>\n",
       "</ol>\n"
      ],
      "text/latex": [
       "\\begin{enumerate*}\n",
       "\\item '4910503'\n",
       "\\item '4820463'\n",
       "\\end{enumerate*}\n"
      ],
      "text/markdown": [
       "1. '4910503'\n",
       "2. '4820463'\n",
       "\n",
       "\n"
      ],
      "text/plain": [
       "[1] \"4910503\" \"4820463\""
      ]
     },
     "metadata": {},
     "output_type": "display_data"
    },
    {
     "data": {
      "text/plain": [
       "\n",
       "   1    2    3    5 \n",
       "1613   85   14    1 "
      ]
     },
     "metadata": {},
     "output_type": "display_data"
    }
   ],
   "source": [
    "# Remove degree = 7\n",
    "remove.list <- c(remove.list, names(table(c(related.hsi$ID1, related.hsi$ID2))[which(table(c(related.hsi$ID1, related.hsi$ID2)) == 7)]))\n",
    "remove.list\n",
    "# exclude individual\n",
    "related.hsi <- related.hsi[ (! related.hsi$ID1 %in% remove.list) & (! related.hsi$ID2 %in% remove.list), ]\n",
    "# degree\n",
    "table(table(c(related.hsi$ID1, related.hsi$ID2)))"
   ]
  },
  {
   "cell_type": "markdown",
   "metadata": {},
   "source": [
    "### Remove one with 5 relatives"
   ]
  },
  {
   "cell_type": "code",
   "execution_count": 14,
   "metadata": {},
   "outputs": [
    {
     "data": {
      "text/html": [
       "<ol class=list-inline>\n",
       "\t<li>'4910503'</li>\n",
       "\t<li>'4820463'</li>\n",
       "\t<li>'1967456'</li>\n",
       "</ol>\n"
      ],
      "text/latex": [
       "\\begin{enumerate*}\n",
       "\\item '4910503'\n",
       "\\item '4820463'\n",
       "\\item '1967456'\n",
       "\\end{enumerate*}\n"
      ],
      "text/markdown": [
       "1. '4910503'\n",
       "2. '4820463'\n",
       "3. '1967456'\n",
       "\n",
       "\n"
      ],
      "text/plain": [
       "[1] \"4910503\" \"4820463\" \"1967456\""
      ]
     },
     "metadata": {},
     "output_type": "display_data"
    },
    {
     "data": {
      "text/plain": [
       "\n",
       "   1    2    3 \n",
       "1614   85   12 "
      ]
     },
     "metadata": {},
     "output_type": "display_data"
    }
   ],
   "source": [
    "# Remove degree = 5\n",
    "remove.list <- c(remove.list, names(table(c(related.hsi$ID1, related.hsi$ID2))[which(table(c(related.hsi$ID1, related.hsi$ID2)) == 5)]))\n",
    "remove.list\n",
    "# exclude individual\n",
    "related.hsi <- related.hsi[ (! related.hsi$ID1 %in% remove.list) & (! related.hsi$ID2 %in% remove.list), ]\n",
    "# degree\n",
    "table(table(c(related.hsi$ID1, related.hsi$ID2)))"
   ]
  },
  {
   "cell_type": "markdown",
   "metadata": {},
   "source": [
    "### Remove ones with 3 relatives\n",
    "Turns out to be three families of 4 people each"
   ]
  },
  {
   "cell_type": "code",
   "execution_count": 15,
   "metadata": {},
   "outputs": [
    {
     "data": {
      "text/html": [
       "<table>\n",
       "<thead><tr><th></th><th scope=col>ID1</th><th scope=col>ID2</th><th scope=col>HetHet</th><th scope=col>IBS0</th><th scope=col>Kinship</th><th scope=col>ID1.hsi</th><th scope=col>ID2.hsi</th></tr></thead>\n",
       "<tbody>\n",
       "\t<tr><th scope=row>18716</th><td>1872767</td><td>3945318</td><td>0.048  </td><td>0.0128 </td><td>0.0822 </td><td>2      </td><td>0      </td></tr>\n",
       "\t<tr><th scope=row>18717</th><td>1872767</td><td>4490044</td><td>0.071  </td><td>0.0053 </td><td>0.2260 </td><td>2      </td><td>2      </td></tr>\n",
       "\t<tr><th scope=row>18718</th><td>1872767</td><td>5849383</td><td>0.046  </td><td>0.0147 </td><td>0.0576 </td><td>2      </td><td>3      </td></tr>\n",
       "\t<tr><th scope=row>51668</th><td>3428259</td><td>6024683</td><td>0.078  </td><td>0.0040 </td><td>0.2638 </td><td>0      </td><td>1      </td></tr>\n",
       "\t<tr><th scope=row>52469</th><td>3465351</td><td>3603014</td><td>0.080  </td><td>0.0047 </td><td>0.2661 </td><td>2      </td><td>4      </td></tr>\n",
       "\t<tr><th scope=row>52471</th><td>3465351</td><td>5110221</td><td>0.079  </td><td>0.0055 </td><td>0.2573 </td><td>2      </td><td>3      </td></tr>\n",
       "\t<tr><th scope=row>53452</th><td>3509789</td><td>3465351</td><td>0.078  </td><td>0.0052 </td><td>0.2514 </td><td>0      </td><td>2      </td></tr>\n",
       "\t<tr><th scope=row>53453</th><td>3509789</td><td>3603014</td><td>0.076  </td><td>0.0045 </td><td>0.2526 </td><td>0      </td><td>4      </td></tr>\n",
       "\t<tr><th scope=row>53455</th><td>3509789</td><td>5110221</td><td>0.074  </td><td>0.0038 </td><td>0.2505 </td><td>0      </td><td>3      </td></tr>\n",
       "\t<tr><th scope=row>59678</th><td>3807272</td><td>3428259</td><td>0.079  </td><td>0.0049 </td><td>0.2590 </td><td>5      </td><td>0      </td></tr>\n",
       "\t<tr><th scope=row>59679</th><td>3807272</td><td>6024683</td><td>0.072  </td><td>0.0047 </td><td>0.2337 </td><td>5      </td><td>1      </td></tr>\n",
       "\t<tr><th scope=row>62599</th><td>3945318</td><td>4490044</td><td>0.047  </td><td>0.0139 </td><td>0.0707 </td><td>0      </td><td>2      </td></tr>\n",
       "\t<tr><th scope=row>62600</th><td>3945318</td><td>5849383</td><td>0.049  </td><td>0.0127 </td><td>0.0860 </td><td>0      </td><td>3      </td></tr>\n",
       "\t<tr><th scope=row>73908</th><td>4490044</td><td>5849383</td><td>0.045  </td><td>0.0149 </td><td>0.0544 </td><td>2      </td><td>3      </td></tr>\n",
       "\t<tr><th scope=row>87427</th><td>5110221</td><td>3603014</td><td>0.080  </td><td>0.0046 </td><td>0.2685 </td><td>3      </td><td>4      </td></tr>\n",
       "\t<tr><th scope=row>93368</th><td>5389420</td><td>3428259</td><td>0.046  </td><td>0.0134 </td><td>0.0713 </td><td>1      </td><td>0      </td></tr>\n",
       "\t<tr><th scope=row>93369</th><td>5389420</td><td>3807272</td><td>0.046  </td><td>0.0128 </td><td>0.0737 </td><td>1      </td><td>5      </td></tr>\n",
       "\t<tr><th scope=row>93370</th><td>5389420</td><td>6024683</td><td>0.045  </td><td>0.0132 </td><td>0.0696 </td><td>1      </td><td>1      </td></tr>\n",
       "</tbody>\n",
       "</table>\n"
      ],
      "text/latex": [
       "\\begin{tabular}{r|lllllll}\n",
       "  & ID1 & ID2 & HetHet & IBS0 & Kinship & ID1.hsi & ID2.hsi\\\\\n",
       "\\hline\n",
       "\t18716 & 1872767 & 3945318 & 0.048   & 0.0128  & 0.0822  & 2       & 0      \\\\\n",
       "\t18717 & 1872767 & 4490044 & 0.071   & 0.0053  & 0.2260  & 2       & 2      \\\\\n",
       "\t18718 & 1872767 & 5849383 & 0.046   & 0.0147  & 0.0576  & 2       & 3      \\\\\n",
       "\t51668 & 3428259 & 6024683 & 0.078   & 0.0040  & 0.2638  & 0       & 1      \\\\\n",
       "\t52469 & 3465351 & 3603014 & 0.080   & 0.0047  & 0.2661  & 2       & 4      \\\\\n",
       "\t52471 & 3465351 & 5110221 & 0.079   & 0.0055  & 0.2573  & 2       & 3      \\\\\n",
       "\t53452 & 3509789 & 3465351 & 0.078   & 0.0052  & 0.2514  & 0       & 2      \\\\\n",
       "\t53453 & 3509789 & 3603014 & 0.076   & 0.0045  & 0.2526  & 0       & 4      \\\\\n",
       "\t53455 & 3509789 & 5110221 & 0.074   & 0.0038  & 0.2505  & 0       & 3      \\\\\n",
       "\t59678 & 3807272 & 3428259 & 0.079   & 0.0049  & 0.2590  & 5       & 0      \\\\\n",
       "\t59679 & 3807272 & 6024683 & 0.072   & 0.0047  & 0.2337  & 5       & 1      \\\\\n",
       "\t62599 & 3945318 & 4490044 & 0.047   & 0.0139  & 0.0707  & 0       & 2      \\\\\n",
       "\t62600 & 3945318 & 5849383 & 0.049   & 0.0127  & 0.0860  & 0       & 3      \\\\\n",
       "\t73908 & 4490044 & 5849383 & 0.045   & 0.0149  & 0.0544  & 2       & 3      \\\\\n",
       "\t87427 & 5110221 & 3603014 & 0.080   & 0.0046  & 0.2685  & 3       & 4      \\\\\n",
       "\t93368 & 5389420 & 3428259 & 0.046   & 0.0134  & 0.0713  & 1       & 0      \\\\\n",
       "\t93369 & 5389420 & 3807272 & 0.046   & 0.0128  & 0.0737  & 1       & 5      \\\\\n",
       "\t93370 & 5389420 & 6024683 & 0.045   & 0.0132  & 0.0696  & 1       & 1      \\\\\n",
       "\\end{tabular}\n"
      ],
      "text/markdown": [
       "\n",
       "| <!--/--> | ID1 | ID2 | HetHet | IBS0 | Kinship | ID1.hsi | ID2.hsi |\n",
       "|---|---|---|---|---|---|---|---|\n",
       "| 18716 | 1872767 | 3945318 | 0.048   | 0.0128  | 0.0822  | 2       | 0       |\n",
       "| 18717 | 1872767 | 4490044 | 0.071   | 0.0053  | 0.2260  | 2       | 2       |\n",
       "| 18718 | 1872767 | 5849383 | 0.046   | 0.0147  | 0.0576  | 2       | 3       |\n",
       "| 51668 | 3428259 | 6024683 | 0.078   | 0.0040  | 0.2638  | 0       | 1       |\n",
       "| 52469 | 3465351 | 3603014 | 0.080   | 0.0047  | 0.2661  | 2       | 4       |\n",
       "| 52471 | 3465351 | 5110221 | 0.079   | 0.0055  | 0.2573  | 2       | 3       |\n",
       "| 53452 | 3509789 | 3465351 | 0.078   | 0.0052  | 0.2514  | 0       | 2       |\n",
       "| 53453 | 3509789 | 3603014 | 0.076   | 0.0045  | 0.2526  | 0       | 4       |\n",
       "| 53455 | 3509789 | 5110221 | 0.074   | 0.0038  | 0.2505  | 0       | 3       |\n",
       "| 59678 | 3807272 | 3428259 | 0.079   | 0.0049  | 0.2590  | 5       | 0       |\n",
       "| 59679 | 3807272 | 6024683 | 0.072   | 0.0047  | 0.2337  | 5       | 1       |\n",
       "| 62599 | 3945318 | 4490044 | 0.047   | 0.0139  | 0.0707  | 0       | 2       |\n",
       "| 62600 | 3945318 | 5849383 | 0.049   | 0.0127  | 0.0860  | 0       | 3       |\n",
       "| 73908 | 4490044 | 5849383 | 0.045   | 0.0149  | 0.0544  | 2       | 3       |\n",
       "| 87427 | 5110221 | 3603014 | 0.080   | 0.0046  | 0.2685  | 3       | 4       |\n",
       "| 93368 | 5389420 | 3428259 | 0.046   | 0.0134  | 0.0713  | 1       | 0       |\n",
       "| 93369 | 5389420 | 3807272 | 0.046   | 0.0128  | 0.0737  | 1       | 5       |\n",
       "| 93370 | 5389420 | 6024683 | 0.045   | 0.0132  | 0.0696  | 1       | 1       |\n",
       "\n"
      ],
      "text/plain": [
       "      ID1     ID2     HetHet IBS0   Kinship ID1.hsi ID2.hsi\n",
       "18716 1872767 3945318 0.048  0.0128 0.0822  2       0      \n",
       "18717 1872767 4490044 0.071  0.0053 0.2260  2       2      \n",
       "18718 1872767 5849383 0.046  0.0147 0.0576  2       3      \n",
       "51668 3428259 6024683 0.078  0.0040 0.2638  0       1      \n",
       "52469 3465351 3603014 0.080  0.0047 0.2661  2       4      \n",
       "52471 3465351 5110221 0.079  0.0055 0.2573  2       3      \n",
       "53452 3509789 3465351 0.078  0.0052 0.2514  0       2      \n",
       "53453 3509789 3603014 0.076  0.0045 0.2526  0       4      \n",
       "53455 3509789 5110221 0.074  0.0038 0.2505  0       3      \n",
       "59678 3807272 3428259 0.079  0.0049 0.2590  5       0      \n",
       "59679 3807272 6024683 0.072  0.0047 0.2337  5       1      \n",
       "62599 3945318 4490044 0.047  0.0139 0.0707  0       2      \n",
       "62600 3945318 5849383 0.049  0.0127 0.0860  0       3      \n",
       "73908 4490044 5849383 0.045  0.0149 0.0544  2       3      \n",
       "87427 5110221 3603014 0.080  0.0046 0.2685  3       4      \n",
       "93368 5389420 3428259 0.046  0.0134 0.0713  1       0      \n",
       "93369 5389420 3807272 0.046  0.0128 0.0737  1       5      \n",
       "93370 5389420 6024683 0.045  0.0132 0.0696  1       1      "
      ]
     },
     "metadata": {},
     "output_type": "display_data"
    }
   ],
   "source": [
    "# Remove degree = 3\n",
    "degree.3 <- names(table(c(related.hsi$ID1, related.hsi$ID2))[which(table(c(related.hsi$ID1, related.hsi$ID2)) == 3)])\n",
    "tmp <- related.hsi[(related.hsi$ID1 %in% degree.3) | (related.hsi$ID2 %in% degree.3),]\n",
    "tmp$ID1.hsi <- dat$heaviness[match(tmp$ID1, dat$eid)]\n",
    "tmp$ID2.hsi <- dat$heaviness[match(tmp$ID2, dat$eid)]\n",
    "tmp"
   ]
  },
  {
   "cell_type": "code",
   "execution_count": 16,
   "metadata": {},
   "outputs": [
    {
     "data": {
      "text/html": [
       "<ol class=list-inline>\n",
       "\t<li>'4910503'</li>\n",
       "\t<li>'4820463'</li>\n",
       "\t<li>'1967456'</li>\n",
       "\t<li>'1872767'</li>\n",
       "\t<li>'3428259'</li>\n",
       "\t<li>'3465351'</li>\n",
       "\t<li>'3509789'</li>\n",
       "\t<li>'3945318'</li>\n",
       "\t<li>'4490044'</li>\n",
       "\t<li>'5110221'</li>\n",
       "\t<li>'5389420'</li>\n",
       "\t<li>'6024683'</li>\n",
       "</ol>\n"
      ],
      "text/latex": [
       "\\begin{enumerate*}\n",
       "\\item '4910503'\n",
       "\\item '4820463'\n",
       "\\item '1967456'\n",
       "\\item '1872767'\n",
       "\\item '3428259'\n",
       "\\item '3465351'\n",
       "\\item '3509789'\n",
       "\\item '3945318'\n",
       "\\item '4490044'\n",
       "\\item '5110221'\n",
       "\\item '5389420'\n",
       "\\item '6024683'\n",
       "\\end{enumerate*}\n"
      ],
      "text/markdown": [
       "1. '4910503'\n",
       "2. '4820463'\n",
       "3. '1967456'\n",
       "4. '1872767'\n",
       "5. '3428259'\n",
       "6. '3465351'\n",
       "7. '3509789'\n",
       "8. '3945318'\n",
       "9. '4490044'\n",
       "10. '5110221'\n",
       "11. '5389420'\n",
       "12. '6024683'\n",
       "\n",
       "\n"
      ],
      "text/plain": [
       " [1] \"4910503\" \"4820463\" \"1967456\" \"1872767\" \"3428259\" \"3465351\" \"3509789\"\n",
       " [8] \"3945318\" \"4490044\" \"5110221\" \"5389420\" \"6024683\""
      ]
     },
     "metadata": {},
     "output_type": "display_data"
    },
    {
     "data": {
      "text/plain": [
       "\n",
       "   1    2 \n",
       "1614   85 "
      ]
     },
     "metadata": {},
     "output_type": "display_data"
    }
   ],
   "source": [
    "# Keep 1 each from the three families\n",
    "remove.list <- c(remove.list, \n",
    "                 setdiff(degree.3, \n",
    "                        c(\"5849383\", \"3807272\", \"3603014\")))\n",
    "remove.list\n",
    "# exclude individual\n",
    "related.hsi <- related.hsi[ (! related.hsi$ID1 %in% remove.list) & (! related.hsi$ID2 %in% remove.list), ]\n",
    "# degree\n",
    "table(table(c(related.hsi$ID1, related.hsi$ID2)))"
   ]
  },
  {
   "cell_type": "markdown",
   "metadata": {},
   "source": [
    "### Remove ones with 2 relatives\n",
    "One complicated family, removed manually"
   ]
  },
  {
   "cell_type": "code",
   "execution_count": 17,
   "metadata": {},
   "outputs": [
    {
     "data": {
      "text/html": [
       "<table>\n",
       "<thead><tr><th></th><th scope=col>ID1</th><th scope=col>ID2</th><th scope=col>HetHet</th><th scope=col>IBS0</th><th scope=col>Kinship</th><th scope=col>ID1.hsi</th><th scope=col>ID2.hsi</th></tr></thead>\n",
       "<tbody>\n",
       "\t<tr><th scope=row>1128</th><td>1054543</td><td>3901066</td><td>0.046  </td><td>0.0151 </td><td>0.0561 </td><td>4      </td><td>2      </td></tr>\n",
       "\t<tr><th scope=row>2480</th><td>1118785</td><td>5960697</td><td>0.053  </td><td>0.0094 </td><td>0.1274 </td><td>2      </td><td>0      </td></tr>\n",
       "\t<tr><th scope=row>2481</th><td>1118785</td><td>5997372</td><td>0.076  </td><td>0.0035 </td><td>0.2562 </td><td>2      </td><td>2      </td></tr>\n",
       "\t<tr><th scope=row>5876</th><td>1274655</td><td>3492974</td><td>0.075  </td><td>0.0053 </td><td>0.2387 </td><td>3      </td><td>3      </td></tr>\n",
       "\t<tr><th scope=row>6935</th><td>1322350</td><td>1048890</td><td>0.045  </td><td>0.0144 </td><td>0.0598 </td><td>6      </td><td>3      </td></tr>\n",
       "\t<tr><th scope=row>6936</th><td>1322350</td><td>4432199</td><td>0.043  </td><td>0.0154 </td><td>0.0444 </td><td>6      </td><td>3      </td></tr>\n",
       "</tbody>\n",
       "</table>\n"
      ],
      "text/latex": [
       "\\begin{tabular}{r|lllllll}\n",
       "  & ID1 & ID2 & HetHet & IBS0 & Kinship & ID1.hsi & ID2.hsi\\\\\n",
       "\\hline\n",
       "\t1128 & 1054543 & 3901066 & 0.046   & 0.0151  & 0.0561  & 4       & 2      \\\\\n",
       "\t2480 & 1118785 & 5960697 & 0.053   & 0.0094  & 0.1274  & 2       & 0      \\\\\n",
       "\t2481 & 1118785 & 5997372 & 0.076   & 0.0035  & 0.2562  & 2       & 2      \\\\\n",
       "\t5876 & 1274655 & 3492974 & 0.075   & 0.0053  & 0.2387  & 3       & 3      \\\\\n",
       "\t6935 & 1322350 & 1048890 & 0.045   & 0.0144  & 0.0598  & 6       & 3      \\\\\n",
       "\t6936 & 1322350 & 4432199 & 0.043   & 0.0154  & 0.0444  & 6       & 3      \\\\\n",
       "\\end{tabular}\n"
      ],
      "text/markdown": [
       "\n",
       "| <!--/--> | ID1 | ID2 | HetHet | IBS0 | Kinship | ID1.hsi | ID2.hsi |\n",
       "|---|---|---|---|---|---|---|---|\n",
       "| 1128 | 1054543 | 3901066 | 0.046   | 0.0151  | 0.0561  | 4       | 2       |\n",
       "| 2480 | 1118785 | 5960697 | 0.053   | 0.0094  | 0.1274  | 2       | 0       |\n",
       "| 2481 | 1118785 | 5997372 | 0.076   | 0.0035  | 0.2562  | 2       | 2       |\n",
       "| 5876 | 1274655 | 3492974 | 0.075   | 0.0053  | 0.2387  | 3       | 3       |\n",
       "| 6935 | 1322350 | 1048890 | 0.045   | 0.0144  | 0.0598  | 6       | 3       |\n",
       "| 6936 | 1322350 | 4432199 | 0.043   | 0.0154  | 0.0444  | 6       | 3       |\n",
       "\n"
      ],
      "text/plain": [
       "     ID1     ID2     HetHet IBS0   Kinship ID1.hsi ID2.hsi\n",
       "1128 1054543 3901066 0.046  0.0151 0.0561  4       2      \n",
       "2480 1118785 5960697 0.053  0.0094 0.1274  2       0      \n",
       "2481 1118785 5997372 0.076  0.0035 0.2562  2       2      \n",
       "5876 1274655 3492974 0.075  0.0053 0.2387  3       3      \n",
       "6935 1322350 1048890 0.045  0.0144 0.0598  6       3      \n",
       "6936 1322350 4432199 0.043  0.0154 0.0444  6       3      "
      ]
     },
     "metadata": {},
     "output_type": "display_data"
    },
    {
     "data": {
      "text/html": [
       "<ol class=list-inline>\n",
       "\t<li>114</li>\n",
       "\t<li>7</li>\n",
       "</ol>\n"
      ],
      "text/latex": [
       "\\begin{enumerate*}\n",
       "\\item 114\n",
       "\\item 7\n",
       "\\end{enumerate*}\n"
      ],
      "text/markdown": [
       "1. 114\n",
       "2. 7\n",
       "\n",
       "\n"
      ],
      "text/plain": [
       "[1] 114   7"
      ]
     },
     "metadata": {},
     "output_type": "display_data"
    }
   ],
   "source": [
    "# Remove degree = 2\n",
    "degree.2 <- names(table(c(related.hsi$ID1, related.hsi$ID2))[which(table(c(related.hsi$ID1, related.hsi$ID2)) == 2)])\n",
    "tmp <- related.hsi[(related.hsi$ID1 %in% degree.2) | (related.hsi$ID2 %in% degree.2),]\n",
    "tmp$ID1.hsi <- dat$heaviness[match(tmp$ID1, dat$eid)]\n",
    "tmp$ID2.hsi <- dat$heaviness[match(tmp$ID2, dat$eid)]\n",
    "head(tmp)\n",
    "dim(tmp)"
   ]
  },
  {
   "cell_type": "code",
   "execution_count": 18,
   "metadata": {},
   "outputs": [
    {
     "data": {
      "text/html": [
       "143"
      ],
      "text/latex": [
       "143"
      ],
      "text/markdown": [
       "143"
      ],
      "text/plain": [
       "[1] 143"
      ]
     },
     "metadata": {},
     "output_type": "display_data"
    },
    {
     "name": "stdout",
     "output_type": "stream",
     "text": [
      "           ID1     ID2 HetHet   IBS0 Kinship ID1.hsi ID2.hsi\n",
      "73107  4452717 1904744  0.042 0.0148  0.0447       2       3\n",
      "73149  4452717 6002751  0.041 0.0136  0.0475       2       0\n",
      "89659  5216767 4358391  0.041 0.0146  0.0444       2       1\n",
      "106762 6002751 4358391  0.041 0.0141  0.0456       0       1\n"
     ]
    },
    {
     "data": {
      "text/html": [
       "92"
      ],
      "text/latex": [
       "92"
      ],
      "text/markdown": [
       "92"
      ],
      "text/plain": [
       "[1] 92"
      ]
     },
     "metadata": {},
     "output_type": "display_data"
    }
   ],
   "source": [
    "length(unique(c(tmp$ID1, tmp$ID2)))\n",
    "degree.2.remove <- c()\n",
    "while(dim(tmp)[1] > 0){\n",
    "    tmp.fam <- tmp[(tmp$ID1 %in% c(tmp$ID1[1], tmp$ID2[1])) | (tmp$ID2 %in% c(tmp$ID1[1], tmp$ID2[1])),]\n",
    "    fam <- unique(c(tmp.fam$ID1, tmp.fam$ID2))\n",
    "    l <- 0\n",
    "    # there are complicated family structure\n",
    "    while(length(fam) != l){\n",
    "        l <- length(fam)\n",
    "        tmp.fam <- tmp[tmp$ID1 %in% fam | tmp$ID2 %in% fam,]\n",
    "        fam <- unique(c(tmp.fam$ID1, tmp.fam$ID2))\n",
    "    }\n",
    "\n",
    "    tmp.fam <- tmp[tmp$ID1 %in% fam | tmp$ID2 %in% fam,]\n",
    "    if(dim(tmp.fam)[1] > 3) {\n",
    "        print(tmp.fam)\n",
    "    } else {\n",
    "        fam.hsi <- dat$heaviness[match(fam, dat$eid)]\n",
    "        keep <- sample(which(fam.hsi == max(fam.hsi)), 1)\n",
    "        degree.2.remove <- c(degree.2.remove, fam[-keep])\n",
    "    }\n",
    "    # remove family from tmp\n",
    "    tmp <- tmp[(! tmp$ID1 %in% fam) & (! tmp$ID2 %in% fam), ]\n",
    "}\n",
    "length(degree.2.remove)"
   ]
  },
  {
   "cell_type": "markdown",
   "metadata": {},
   "source": [
    "### Check\n",
    "143 - 5 (special family) = 138\n",
    "\n",
    "138 / 3 = 46 families of three\n",
    "\n",
    "number removed = 46*2 = 92\n",
    "\n",
    "number of independent ids = 46*3 + 5 = 143\n",
    "\n",
    "Correct"
   ]
  },
  {
   "cell_type": "code",
   "execution_count": 19,
   "metadata": {},
   "outputs": [],
   "source": [
    "degree.2.remove <- c(degree.2.remove, \"4452717\", \"4358391\")\n"
   ]
  },
  {
   "cell_type": "markdown",
   "metadata": {},
   "source": [
    "### Remove ones with 1 relatives"
   ]
  },
  {
   "cell_type": "code",
   "execution_count": 20,
   "metadata": {},
   "outputs": [
    {
     "data": {
      "text/plain": [
       "\n",
       "   1 \n",
       "1556 "
      ]
     },
     "metadata": {},
     "output_type": "display_data"
    }
   ],
   "source": [
    "# Keep 1 each from the three families\n",
    "remove.list <- c(remove.list, degree.2.remove)\n",
    "# exclude individual\n",
    "related.hsi <- related.hsi[ (! related.hsi$ID1 %in% remove.list) & (! related.hsi$ID2 %in% remove.list), ]\n",
    "# degree\n",
    "table(table(c(related.hsi$ID1, related.hsi$ID2)))\n"
   ]
  },
  {
   "cell_type": "code",
   "execution_count": 21,
   "metadata": {},
   "outputs": [
    {
     "data": {
      "text/html": [
       "<ol class=list-inline>\n",
       "\t<li>778</li>\n",
       "\t<li>5</li>\n",
       "</ol>\n"
      ],
      "text/latex": [
       "\\begin{enumerate*}\n",
       "\\item 778\n",
       "\\item 5\n",
       "\\end{enumerate*}\n"
      ],
      "text/markdown": [
       "1. 778\n",
       "2. 5\n",
       "\n",
       "\n"
      ],
      "text/plain": [
       "[1] 778   5"
      ]
     },
     "metadata": {},
     "output_type": "display_data"
    }
   ],
   "source": [
    "dim(related.hsi)"
   ]
  },
  {
   "cell_type": "code",
   "execution_count": 22,
   "metadata": {},
   "outputs": [
    {
     "data": {
      "text/html": [
       "<table>\n",
       "<thead><tr><th></th><th scope=col>ID1</th><th scope=col>ID2</th><th scope=col>HetHet</th><th scope=col>IBS0</th><th scope=col>Kinship</th><th scope=col>ID1.hsi</th><th scope=col>ID2.hsi</th></tr></thead>\n",
       "<tbody>\n",
       "\t<tr><th scope=row>92</th><td>1005357</td><td>2112322</td><td>0.077  </td><td>0.0059 </td><td>0.2404 </td><td>3      </td><td>0      </td></tr>\n",
       "\t<tr><th scope=row>140</th><td>1007749</td><td>2606200</td><td>0.055  </td><td>0.0086 </td><td>0.1394 </td><td>1      </td><td>3      </td></tr>\n",
       "\t<tr><th scope=row>223</th><td>1011536</td><td>3959448</td><td>0.047  </td><td>0.0136 </td><td>0.0716 </td><td>0      </td><td>1      </td></tr>\n",
       "\t<tr><th scope=row>311</th><td>1015603</td><td>4854910</td><td>0.043  </td><td>0.0152 </td><td>0.0444 </td><td>2      </td><td>1      </td></tr>\n",
       "\t<tr><th scope=row>544</th><td>1026903</td><td>2646986</td><td>0.081  </td><td>0.0043 </td><td>0.2710 </td><td>1      </td><td>3      </td></tr>\n",
       "\t<tr><th scope=row>686</th><td>1034249</td><td>3995206</td><td>0.045  </td><td>0.0148 </td><td>0.0580 </td><td>2      </td><td>6      </td></tr>\n",
       "</tbody>\n",
       "</table>\n"
      ],
      "text/latex": [
       "\\begin{tabular}{r|lllllll}\n",
       "  & ID1 & ID2 & HetHet & IBS0 & Kinship & ID1.hsi & ID2.hsi\\\\\n",
       "\\hline\n",
       "\t92 & 1005357 & 2112322 & 0.077   & 0.0059  & 0.2404  & 3       & 0      \\\\\n",
       "\t140 & 1007749 & 2606200 & 0.055   & 0.0086  & 0.1394  & 1       & 3      \\\\\n",
       "\t223 & 1011536 & 3959448 & 0.047   & 0.0136  & 0.0716  & 0       & 1      \\\\\n",
       "\t311 & 1015603 & 4854910 & 0.043   & 0.0152  & 0.0444  & 2       & 1      \\\\\n",
       "\t544 & 1026903 & 2646986 & 0.081   & 0.0043  & 0.2710  & 1       & 3      \\\\\n",
       "\t686 & 1034249 & 3995206 & 0.045   & 0.0148  & 0.0580  & 2       & 6      \\\\\n",
       "\\end{tabular}\n"
      ],
      "text/markdown": [
       "\n",
       "| <!--/--> | ID1 | ID2 | HetHet | IBS0 | Kinship | ID1.hsi | ID2.hsi |\n",
       "|---|---|---|---|---|---|---|---|\n",
       "| 92 | 1005357 | 2112322 | 0.077   | 0.0059  | 0.2404  | 3       | 0       |\n",
       "| 140 | 1007749 | 2606200 | 0.055   | 0.0086  | 0.1394  | 1       | 3       |\n",
       "| 223 | 1011536 | 3959448 | 0.047   | 0.0136  | 0.0716  | 0       | 1       |\n",
       "| 311 | 1015603 | 4854910 | 0.043   | 0.0152  | 0.0444  | 2       | 1       |\n",
       "| 544 | 1026903 | 2646986 | 0.081   | 0.0043  | 0.2710  | 1       | 3       |\n",
       "| 686 | 1034249 | 3995206 | 0.045   | 0.0148  | 0.0580  | 2       | 6       |\n",
       "\n"
      ],
      "text/plain": [
       "    ID1     ID2     HetHet IBS0   Kinship ID1.hsi ID2.hsi\n",
       "92  1005357 2112322 0.077  0.0059 0.2404  3       0      \n",
       "140 1007749 2606200 0.055  0.0086 0.1394  1       3      \n",
       "223 1011536 3959448 0.047  0.0136 0.0716  0       1      \n",
       "311 1015603 4854910 0.043  0.0152 0.0444  2       1      \n",
       "544 1026903 2646986 0.081  0.0043 0.2710  1       3      \n",
       "686 1034249 3995206 0.045  0.0148 0.0580  2       6      "
      ]
     },
     "metadata": {},
     "output_type": "display_data"
    }
   ],
   "source": [
    "# Remove degree = 1\n",
    "related.hsi$ID1.hsi <- dat$heaviness[match(related.hsi$ID1, dat$eid)]\n",
    "related.hsi$ID2.hsi <- dat$heaviness[match(related.hsi$ID2, dat$eid)]\n",
    "head(related.hsi)"
   ]
  },
  {
   "cell_type": "code",
   "execution_count": 23,
   "metadata": {},
   "outputs": [
    {
     "data": {
      "text/html": [
       "<table>\n",
       "<thead><tr><th></th><th scope=col>ID1</th><th scope=col>ID2</th><th scope=col>HetHet</th><th scope=col>IBS0</th><th scope=col>Kinship</th><th scope=col>ID1.hsi</th><th scope=col>ID2.hsi</th><th scope=col>remove</th></tr></thead>\n",
       "<tbody>\n",
       "\t<tr><th scope=row>92</th><td>1005357</td><td>2112322</td><td>0.077  </td><td>0.0059 </td><td>0.2404 </td><td>3      </td><td>0      </td><td>2112322</td></tr>\n",
       "\t<tr><th scope=row>140</th><td>1007749</td><td>2606200</td><td>0.055  </td><td>0.0086 </td><td>0.1394 </td><td>1      </td><td>3      </td><td>1007749</td></tr>\n",
       "\t<tr><th scope=row>223</th><td>1011536</td><td>3959448</td><td>0.047  </td><td>0.0136 </td><td>0.0716 </td><td>0      </td><td>1      </td><td>1011536</td></tr>\n",
       "\t<tr><th scope=row>311</th><td>1015603</td><td>4854910</td><td>0.043  </td><td>0.0152 </td><td>0.0444 </td><td>2      </td><td>1      </td><td>4854910</td></tr>\n",
       "\t<tr><th scope=row>544</th><td>1026903</td><td>2646986</td><td>0.081  </td><td>0.0043 </td><td>0.2710 </td><td>1      </td><td>3      </td><td>1026903</td></tr>\n",
       "\t<tr><th scope=row>686</th><td>1034249</td><td>3995206</td><td>0.045  </td><td>0.0148 </td><td>0.0580 </td><td>2      </td><td>6      </td><td>1034249</td></tr>\n",
       "</tbody>\n",
       "</table>\n"
      ],
      "text/latex": [
       "\\begin{tabular}{r|llllllll}\n",
       "  & ID1 & ID2 & HetHet & IBS0 & Kinship & ID1.hsi & ID2.hsi & remove\\\\\n",
       "\\hline\n",
       "\t92 & 1005357 & 2112322 & 0.077   & 0.0059  & 0.2404  & 3       & 0       & 2112322\\\\\n",
       "\t140 & 1007749 & 2606200 & 0.055   & 0.0086  & 0.1394  & 1       & 3       & 1007749\\\\\n",
       "\t223 & 1011536 & 3959448 & 0.047   & 0.0136  & 0.0716  & 0       & 1       & 1011536\\\\\n",
       "\t311 & 1015603 & 4854910 & 0.043   & 0.0152  & 0.0444  & 2       & 1       & 4854910\\\\\n",
       "\t544 & 1026903 & 2646986 & 0.081   & 0.0043  & 0.2710  & 1       & 3       & 1026903\\\\\n",
       "\t686 & 1034249 & 3995206 & 0.045   & 0.0148  & 0.0580  & 2       & 6       & 1034249\\\\\n",
       "\\end{tabular}\n"
      ],
      "text/markdown": [
       "\n",
       "| <!--/--> | ID1 | ID2 | HetHet | IBS0 | Kinship | ID1.hsi | ID2.hsi | remove |\n",
       "|---|---|---|---|---|---|---|---|---|\n",
       "| 92 | 1005357 | 2112322 | 0.077   | 0.0059  | 0.2404  | 3       | 0       | 2112322 |\n",
       "| 140 | 1007749 | 2606200 | 0.055   | 0.0086  | 0.1394  | 1       | 3       | 1007749 |\n",
       "| 223 | 1011536 | 3959448 | 0.047   | 0.0136  | 0.0716  | 0       | 1       | 1011536 |\n",
       "| 311 | 1015603 | 4854910 | 0.043   | 0.0152  | 0.0444  | 2       | 1       | 4854910 |\n",
       "| 544 | 1026903 | 2646986 | 0.081   | 0.0043  | 0.2710  | 1       | 3       | 1026903 |\n",
       "| 686 | 1034249 | 3995206 | 0.045   | 0.0148  | 0.0580  | 2       | 6       | 1034249 |\n",
       "\n"
      ],
      "text/plain": [
       "    ID1     ID2     HetHet IBS0   Kinship ID1.hsi ID2.hsi remove \n",
       "92  1005357 2112322 0.077  0.0059 0.2404  3       0       2112322\n",
       "140 1007749 2606200 0.055  0.0086 0.1394  1       3       1007749\n",
       "223 1011536 3959448 0.047  0.0136 0.0716  0       1       1011536\n",
       "311 1015603 4854910 0.043  0.0152 0.0444  2       1       4854910\n",
       "544 1026903 2646986 0.081  0.0043 0.2710  1       3       1026903\n",
       "686 1034249 3995206 0.045  0.0148 0.0580  2       6       1034249"
      ]
     },
     "metadata": {},
     "output_type": "display_data"
    }
   ],
   "source": [
    "related.hsi$remove <- related.hsi$ID1\n",
    "related.hsi$remove[related.hsi$ID1.hsi > related.hsi$ID2.hsi] <- related.hsi$ID2[related.hsi$ID1.hsi > related.hsi$ID2.hsi]\n",
    "head(related.hsi)"
   ]
  },
  {
   "cell_type": "code",
   "execution_count": 24,
   "metadata": {},
   "outputs": [],
   "source": [
    "remove.list <- c(remove.list, related.hsi$remove)"
   ]
  },
  {
   "cell_type": "code",
   "execution_count": 25,
   "metadata": {},
   "outputs": [],
   "source": [
    "unrelated <- dat[ !is.na(dat$heaviness) & (! dat$eid %in% remove.list), ]"
   ]
  },
  {
   "cell_type": "markdown",
   "metadata": {},
   "source": [
    "# Age, sex, PCs"
   ]
  },
  {
   "cell_type": "code",
   "execution_count": 26,
   "metadata": {},
   "outputs": [
    {
     "data": {
      "text/plain": [
       "   \n",
       "       0    1    2    3    4    5    6\n",
       "  0 5695 5326    0    0    0    0    0\n",
       "  1    0    0 7494 9127 4626    0    0\n",
       "  2    0    0    0    0    0 1819  593"
      ]
     },
     "metadata": {},
     "output_type": "display_data"
    }
   ],
   "source": [
    "unrelated$hsi <- 0\n",
    "unrelated$hsi[unrelated$heaviness >= 2 & unrelated$heaviness <= 4] <- 1\n",
    "unrelated$hsi[unrelated$heaviness >= 5 & unrelated$heaviness <= 6] <- 2\n",
    "table(unrelated$hsi, unrelated$heaviness)\n",
    "\n",
    "unrelated$Sex <- unrelated$X31.0.0\n",
    "unrelated$Age <- scale(unrelated$X21022.0.0)\n",
    "unrelated$Age2 <- scale(unrelated$Age * unrelated$Age)\n",
    "unrelated$Age.Sex <- unrelated$Age * unrelated$Sex\n",
    "unrelated$Age2.Sex <- unrelated$Age2 * unrelated$Sex\n",
    "for (i in 1:20){\n",
    "    unrelated[[paste0(\"PC\", i)]] <- unrelated[[paste0(\"X22009.0.\", i)]]\n",
    "}"
   ]
  },
  {
   "cell_type": "code",
   "execution_count": 27,
   "metadata": {},
   "outputs": [
    {
     "data": {
      "text/html": [
       "<table>\n",
       "<thead><tr><th></th><th scope=col>Estimate</th><th scope=col>Std. Error</th><th scope=col>t value</th><th scope=col>Pr(&gt;|t|)</th></tr></thead>\n",
       "<tbody>\n",
       "\t<tr><th scope=row>(Intercept)</th><td> 6.796435e-01</td><td>4.356173e-03 </td><td>156.01849453 </td><td>0.000000e+00 </td></tr>\n",
       "\t<tr><th scope=row>Age</th><td> 1.961066e-04</td><td>4.380260e-03 </td><td>  0.04477054 </td><td>9.642905e-01 </td></tr>\n",
       "\t<tr><th scope=row>Age2</th><td>-2.731370e-02</td><td>4.336011e-03 </td><td> -6.29926967 </td><td>3.027238e-10 </td></tr>\n",
       "\t<tr><th scope=row>Sex</th><td> 1.262388e-01</td><td>6.144809e-03 </td><td> 20.54397174 </td><td>3.234598e-93 </td></tr>\n",
       "\t<tr><th scope=row>Age.Sex</th><td> 2.510021e-03</td><td>6.128846e-03 </td><td>  0.40954220 </td><td>6.821444e-01 </td></tr>\n",
       "\t<tr><th scope=row>Age2.Sex</th><td>-3.874525e-03</td><td>6.120998e-03 </td><td> -0.63298912 </td><td>5.267450e-01 </td></tr>\n",
       "\t<tr><th scope=row>PC1</th><td>-7.685866e-04</td><td>5.847915e-05 </td><td>-13.14291661 </td><td>2.333988e-39 </td></tr>\n",
       "\t<tr><th scope=row>PC2</th><td> 7.544670e-04</td><td>1.270243e-04 </td><td>  5.93954889 </td><td>2.885947e-09 </td></tr>\n",
       "\t<tr><th scope=row>PC3</th><td>-1.134464e-03</td><td>2.394975e-04 </td><td> -4.73685031 </td><td>2.179451e-06 </td></tr>\n",
       "\t<tr><th scope=row>PC4</th><td> 1.598434e-03</td><td>3.167872e-04 </td><td>  5.04576682 </td><td>4.540419e-07 </td></tr>\n",
       "\t<tr><th scope=row>PC5</th><td> 3.727708e-03</td><td>3.830271e-04 </td><td>  9.73222920 </td><td>2.350810e-22 </td></tr>\n",
       "\t<tr><th scope=row>PC6</th><td>-2.101927e-03</td><td>8.214244e-04 </td><td> -2.55888035 </td><td>1.050530e-02 </td></tr>\n",
       "\t<tr><th scope=row>PC7</th><td> 1.352702e-04</td><td>5.805613e-04 </td><td>  0.23299905 </td><td>8.157636e-01 </td></tr>\n",
       "\t<tr><th scope=row>PC8</th><td> 2.388738e-03</td><td>6.598234e-04 </td><td>  3.62026873 </td><td>2.947266e-04 </td></tr>\n",
       "\t<tr><th scope=row>PC9</th><td> 2.654447e-03</td><td>7.241296e-04 </td><td>  3.66570625 </td><td>2.470341e-04 </td></tr>\n",
       "\t<tr><th scope=row>PC10</th><td>-4.264400e-04</td><td>7.293846e-04 </td><td> -0.58465726 </td><td>5.587821e-01 </td></tr>\n",
       "\t<tr><th scope=row>PC11</th><td> 3.243324e-03</td><td>7.947033e-04 </td><td>  4.08117524 </td><td>4.491130e-05 </td></tr>\n",
       "\t<tr><th scope=row>PC12</th><td>-1.683599e-03</td><td>8.610840e-04 </td><td> -1.95520863 </td><td>5.056667e-02 </td></tr>\n",
       "\t<tr><th scope=row>PC13</th><td>-8.271226e-04</td><td>1.093133e-03 </td><td> -0.75665356 </td><td>4.492627e-01 </td></tr>\n",
       "\t<tr><th scope=row>PC14</th><td> 4.773272e-03</td><td>9.286246e-04 </td><td>  5.14015264 </td><td>2.760405e-07 </td></tr>\n",
       "\t<tr><th scope=row>PC15</th><td>-1.257859e-03</td><td>1.147179e-03 </td><td> -1.09647984 </td><td>2.728766e-01 </td></tr>\n",
       "\t<tr><th scope=row>PC16</th><td> 6.267850e-04</td><td>1.040940e-03 </td><td>  0.60213395 </td><td>5.470890e-01 </td></tr>\n",
       "\t<tr><th scope=row>PC17</th><td> 1.155051e-03</td><td>1.184216e-03 </td><td>  0.97537187 </td><td>3.293828e-01 </td></tr>\n",
       "\t<tr><th scope=row>PC18</th><td> 2.428648e-04</td><td>1.098227e-03 </td><td>  0.22114258 </td><td>8.249828e-01 </td></tr>\n",
       "\t<tr><th scope=row>PC19</th><td> 8.001875e-05</td><td>1.086046e-03 </td><td>  0.07367897 </td><td>9.412663e-01 </td></tr>\n",
       "\t<tr><th scope=row>PC20</th><td> 3.989874e-03</td><td>1.093858e-03 </td><td>  3.64752522 </td><td>2.651757e-04 </td></tr>\n",
       "</tbody>\n",
       "</table>\n"
      ],
      "text/latex": [
       "\\begin{tabular}{r|llll}\n",
       "  & Estimate & Std. Error & t value & Pr(>\\textbar{}t\\textbar{})\\\\\n",
       "\\hline\n",
       "\t(Intercept) &  6.796435e-01 & 4.356173e-03  & 156.01849453  & 0.000000e+00 \\\\\n",
       "\tAge &  1.961066e-04 & 4.380260e-03  &   0.04477054  & 9.642905e-01 \\\\\n",
       "\tAge2 & -2.731370e-02 & 4.336011e-03  &  -6.29926967  & 3.027238e-10 \\\\\n",
       "\tSex &  1.262388e-01 & 6.144809e-03  &  20.54397174  & 3.234598e-93 \\\\\n",
       "\tAge.Sex &  2.510021e-03 & 6.128846e-03  &   0.40954220  & 6.821444e-01 \\\\\n",
       "\tAge2.Sex & -3.874525e-03 & 6.120998e-03  &  -0.63298912  & 5.267450e-01 \\\\\n",
       "\tPC1 & -7.685866e-04 & 5.847915e-05  & -13.14291661  & 2.333988e-39 \\\\\n",
       "\tPC2 &  7.544670e-04 & 1.270243e-04  &   5.93954889  & 2.885947e-09 \\\\\n",
       "\tPC3 & -1.134464e-03 & 2.394975e-04  &  -4.73685031  & 2.179451e-06 \\\\\n",
       "\tPC4 &  1.598434e-03 & 3.167872e-04  &   5.04576682  & 4.540419e-07 \\\\\n",
       "\tPC5 &  3.727708e-03 & 3.830271e-04  &   9.73222920  & 2.350810e-22 \\\\\n",
       "\tPC6 & -2.101927e-03 & 8.214244e-04  &  -2.55888035  & 1.050530e-02 \\\\\n",
       "\tPC7 &  1.352702e-04 & 5.805613e-04  &   0.23299905  & 8.157636e-01 \\\\\n",
       "\tPC8 &  2.388738e-03 & 6.598234e-04  &   3.62026873  & 2.947266e-04 \\\\\n",
       "\tPC9 &  2.654447e-03 & 7.241296e-04  &   3.66570625  & 2.470341e-04 \\\\\n",
       "\tPC10 & -4.264400e-04 & 7.293846e-04  &  -0.58465726  & 5.587821e-01 \\\\\n",
       "\tPC11 &  3.243324e-03 & 7.947033e-04  &   4.08117524  & 4.491130e-05 \\\\\n",
       "\tPC12 & -1.683599e-03 & 8.610840e-04  &  -1.95520863  & 5.056667e-02 \\\\\n",
       "\tPC13 & -8.271226e-04 & 1.093133e-03  &  -0.75665356  & 4.492627e-01 \\\\\n",
       "\tPC14 &  4.773272e-03 & 9.286246e-04  &   5.14015264  & 2.760405e-07 \\\\\n",
       "\tPC15 & -1.257859e-03 & 1.147179e-03  &  -1.09647984  & 2.728766e-01 \\\\\n",
       "\tPC16 &  6.267850e-04 & 1.040940e-03  &   0.60213395  & 5.470890e-01 \\\\\n",
       "\tPC17 &  1.155051e-03 & 1.184216e-03  &   0.97537187  & 3.293828e-01 \\\\\n",
       "\tPC18 &  2.428648e-04 & 1.098227e-03  &   0.22114258  & 8.249828e-01 \\\\\n",
       "\tPC19 &  8.001875e-05 & 1.086046e-03  &   0.07367897  & 9.412663e-01 \\\\\n",
       "\tPC20 &  3.989874e-03 & 1.093858e-03  &   3.64752522  & 2.651757e-04 \\\\\n",
       "\\end{tabular}\n"
      ],
      "text/markdown": [
       "\n",
       "| <!--/--> | Estimate | Std. Error | t value | Pr(>|t|) |\n",
       "|---|---|---|---|---|\n",
       "| (Intercept) |  6.796435e-01 | 4.356173e-03  | 156.01849453  | 0.000000e+00  |\n",
       "| Age |  1.961066e-04 | 4.380260e-03  |   0.04477054  | 9.642905e-01  |\n",
       "| Age2 | -2.731370e-02 | 4.336011e-03  |  -6.29926967  | 3.027238e-10  |\n",
       "| Sex |  1.262388e-01 | 6.144809e-03  |  20.54397174  | 3.234598e-93  |\n",
       "| Age.Sex |  2.510021e-03 | 6.128846e-03  |   0.40954220  | 6.821444e-01  |\n",
       "| Age2.Sex | -3.874525e-03 | 6.120998e-03  |  -0.63298912  | 5.267450e-01  |\n",
       "| PC1 | -7.685866e-04 | 5.847915e-05  | -13.14291661  | 2.333988e-39  |\n",
       "| PC2 |  7.544670e-04 | 1.270243e-04  |   5.93954889  | 2.885947e-09  |\n",
       "| PC3 | -1.134464e-03 | 2.394975e-04  |  -4.73685031  | 2.179451e-06  |\n",
       "| PC4 |  1.598434e-03 | 3.167872e-04  |   5.04576682  | 4.540419e-07  |\n",
       "| PC5 |  3.727708e-03 | 3.830271e-04  |   9.73222920  | 2.350810e-22  |\n",
       "| PC6 | -2.101927e-03 | 8.214244e-04  |  -2.55888035  | 1.050530e-02  |\n",
       "| PC7 |  1.352702e-04 | 5.805613e-04  |   0.23299905  | 8.157636e-01  |\n",
       "| PC8 |  2.388738e-03 | 6.598234e-04  |   3.62026873  | 2.947266e-04  |\n",
       "| PC9 |  2.654447e-03 | 7.241296e-04  |   3.66570625  | 2.470341e-04  |\n",
       "| PC10 | -4.264400e-04 | 7.293846e-04  |  -0.58465726  | 5.587821e-01  |\n",
       "| PC11 |  3.243324e-03 | 7.947033e-04  |   4.08117524  | 4.491130e-05  |\n",
       "| PC12 | -1.683599e-03 | 8.610840e-04  |  -1.95520863  | 5.056667e-02  |\n",
       "| PC13 | -8.271226e-04 | 1.093133e-03  |  -0.75665356  | 4.492627e-01  |\n",
       "| PC14 |  4.773272e-03 | 9.286246e-04  |   5.14015264  | 2.760405e-07  |\n",
       "| PC15 | -1.257859e-03 | 1.147179e-03  |  -1.09647984  | 2.728766e-01  |\n",
       "| PC16 |  6.267850e-04 | 1.040940e-03  |   0.60213395  | 5.470890e-01  |\n",
       "| PC17 |  1.155051e-03 | 1.184216e-03  |   0.97537187  | 3.293828e-01  |\n",
       "| PC18 |  2.428648e-04 | 1.098227e-03  |   0.22114258  | 8.249828e-01  |\n",
       "| PC19 |  8.001875e-05 | 1.086046e-03  |   0.07367897  | 9.412663e-01  |\n",
       "| PC20 |  3.989874e-03 | 1.093858e-03  |   3.64752522  | 2.651757e-04  |\n",
       "\n"
      ],
      "text/plain": [
       "            Estimate      Std. Error   t value      Pr(>|t|)    \n",
       "(Intercept)  6.796435e-01 4.356173e-03 156.01849453 0.000000e+00\n",
       "Age          1.961066e-04 4.380260e-03   0.04477054 9.642905e-01\n",
       "Age2        -2.731370e-02 4.336011e-03  -6.29926967 3.027238e-10\n",
       "Sex          1.262388e-01 6.144809e-03  20.54397174 3.234598e-93\n",
       "Age.Sex      2.510021e-03 6.128846e-03   0.40954220 6.821444e-01\n",
       "Age2.Sex    -3.874525e-03 6.120998e-03  -0.63298912 5.267450e-01\n",
       "PC1         -7.685866e-04 5.847915e-05 -13.14291661 2.333988e-39\n",
       "PC2          7.544670e-04 1.270243e-04   5.93954889 2.885947e-09\n",
       "PC3         -1.134464e-03 2.394975e-04  -4.73685031 2.179451e-06\n",
       "PC4          1.598434e-03 3.167872e-04   5.04576682 4.540419e-07\n",
       "PC5          3.727708e-03 3.830271e-04   9.73222920 2.350810e-22\n",
       "PC6         -2.101927e-03 8.214244e-04  -2.55888035 1.050530e-02\n",
       "PC7          1.352702e-04 5.805613e-04   0.23299905 8.157636e-01\n",
       "PC8          2.388738e-03 6.598234e-04   3.62026873 2.947266e-04\n",
       "PC9          2.654447e-03 7.241296e-04   3.66570625 2.470341e-04\n",
       "PC10        -4.264400e-04 7.293846e-04  -0.58465726 5.587821e-01\n",
       "PC11         3.243324e-03 7.947033e-04   4.08117524 4.491130e-05\n",
       "PC12        -1.683599e-03 8.610840e-04  -1.95520863 5.056667e-02\n",
       "PC13        -8.271226e-04 1.093133e-03  -0.75665356 4.492627e-01\n",
       "PC14         4.773272e-03 9.286246e-04   5.14015264 2.760405e-07\n",
       "PC15        -1.257859e-03 1.147179e-03  -1.09647984 2.728766e-01\n",
       "PC16         6.267850e-04 1.040940e-03   0.60213395 5.470890e-01\n",
       "PC17         1.155051e-03 1.184216e-03   0.97537187 3.293828e-01\n",
       "PC18         2.428648e-04 1.098227e-03   0.22114258 8.249828e-01\n",
       "PC19         8.001875e-05 1.086046e-03   0.07367897 9.412663e-01\n",
       "PC20         3.989874e-03 1.093858e-03   3.64752522 2.651757e-04"
      ]
     },
     "metadata": {},
     "output_type": "display_data"
    }
   ],
   "source": [
    "## Fit the model among all UKB samples\n",
    "fit <- lm(hsi ~ Age + Age2 + Sex + Age.Sex + Age2.Sex +\n",
    "          PC1 + PC2 + PC3 + PC4 + PC5 + PC6 + PC7 + PC8 + PC9 + PC10 +\n",
    "          PC11 + PC12 + PC13 + PC14 + PC15 + PC16 + PC17 + PC18 + PC19 + PC20,\n",
    "          data = unrelated)\n",
    "summary(fit)$coefficient\n"
   ]
  },
  {
   "cell_type": "code",
   "execution_count": 32,
   "metadata": {},
   "outputs": [],
   "source": [
    "keep <- unrelated[, c(\"eid\", \"hsi\", \"Sex\", \"Age\", \"Age2\", \"Age.Sex\", \"Age2.Sex\", paste0(\"PC\", 1:20))]\n",
    "keep <- keep[ rowSums(is.na(keep)) == 0, ]\n",
    "write.table(keep, \"/share/storage/FTND/UKBiobank/HeavinessSmokingIndex/phenotypes/HSIv2~Sex.Age.Age2.AgeSex.Age2Sex.20EVs.txt\", row.names = FALSE, col.names = TRUE, quote = FALSE)\n",
    "write.table(keep$eid, \"/share/storage/FTND/UKBiobank/HeavinessSmokingIndex/phenotypes/HSIv2.samples\", row.names = FALSE, col.names = FALSE, quote = FALSE)"
   ]
  },
  {
   "cell_type": "code",
   "execution_count": 33,
   "metadata": {},
   "outputs": [
    {
     "data": {
      "text/html": [
       "884"
      ],
      "text/latex": [
       "884"
      ],
      "text/markdown": [
       "884"
      ],
      "text/plain": [
       "[1] 884"
      ]
     },
     "metadata": {},
     "output_type": "display_data"
    }
   ],
   "source": [
    "length(remove.list)"
   ]
  },
  {
   "cell_type": "code",
   "execution_count": 34,
   "metadata": {},
   "outputs": [],
   "source": [
    "mrBig <- read.table(\"/share/storage/FTND/UKBiobank/observed/rs16969968/ukb_rs16969968.mach.mldose\", stringsAsFactors = FALSE)\n",
    "keep$rs16969968 <- mrBig$V3[match(keep$eid, mrBig$V1)]\n",
    "keep <- keep[, c(\"eid\", \"hsi\", \"rs16969968\", \"Sex\", \"Age\", \"Age2\", \"Age.Sex\", \"Age2.Sex\", paste0(\"PC\", 1:20))]\n",
    "write.table(keep, \"/share/storage/FTND/UKBiobank/HeavinessSmokingIndex/phenotypes/HSIv2~rs16969968.Sex.Age.Age2.AgeSex.Age2Sex.20EVs.txt\", row.names = FALSE, col.names = TRUE, quote = FALSE)\n"
   ]
  },
  {
   "cell_type": "markdown",
   "metadata": {},
   "source": [
    "## Update 03/27/2019 - Keep Cauc only using X22006 and keep only PCs explaining 75% var"
   ]
  },
  {
   "cell_type": "code",
   "execution_count": 28,
   "metadata": {},
   "outputs": [],
   "source": [
    "unrelated_white <- unrelated[(unrelated$X21000.0.0 %in% c(1, 1001, 1002, 1003)),]\n",
    "keep <- unrelated_white[, c(\"eid\", \"hsi\", \"Sex\", \"Age\", paste0(\"PC\", 1:20))]\n",
    "keep <- keep[ rowSums(is.na(keep)) == 0, ]\n",
    "fit <- lm(hsi ~ Age + Sex + \n",
    "          PC1 + PC2 + PC3 + PC4 + PC5 + PC6 + PC7 + PC8 + PC9 + PC10 +\n",
    "          PC11 + PC12 + PC13 + PC14 + PC15 + PC16 + PC17 + PC18 + PC19 + PC20,\n",
    "          data = unrelated)\n"
   ]
  },
  {
   "cell_type": "code",
   "execution_count": 29,
   "metadata": {},
   "outputs": [
    {
     "data": {
      "text/html": [
       "<dl class=dl-horizontal>\n",
       "\t<dt>PC1</dt>\n",
       "\t\t<dd>0.378745606658578</dd>\n",
       "\t<dt>PC5</dt>\n",
       "\t\t<dd>0.214390267663263</dd>\n",
       "\t<dt>PC2</dt>\n",
       "\t\t<dd>0.08565936237973</dd>\n",
       "\t<dt>PC4</dt>\n",
       "\t\t<dd>0.0617970780593637</dd>\n",
       "\t<dt>PC3</dt>\n",
       "\t\t<dd>0.0602786043850625</dd>\n",
       "\t<dt>PC14</dt>\n",
       "\t\t<dd>0.0569775214953399</dd>\n",
       "\t<dt>PC8</dt>\n",
       "\t\t<dd>0.035191456169243</dd>\n",
       "\t<dt>PC9</dt>\n",
       "\t\t<dd>0.0300270278408146</dd>\n",
       "\t<dt>PC11</dt>\n",
       "\t\t<dd>0.0298220960783429</dd>\n",
       "\t<dt>PC20</dt>\n",
       "\t\t<dd>0.0291016569080825</dd>\n",
       "\t<dt>PC12</dt>\n",
       "\t\t<dd>0.00927691567284758</dd>\n",
       "\t<dt>PC6</dt>\n",
       "\t\t<dd>0.00239363194796176</dd>\n",
       "\t<dt>PC15</dt>\n",
       "\t\t<dd>0.00230700774391612</dd>\n",
       "\t<dt>PC17</dt>\n",
       "\t\t<dd>0.00193852272108254</dd>\n",
       "\t<dt>PC13</dt>\n",
       "\t\t<dd>0.000759470797252981</dd>\n",
       "\t<dt>PC16</dt>\n",
       "\t\t<dd>0.000546632327761564</dd>\n",
       "\t<dt>PC10</dt>\n",
       "\t\t<dd>0.000441217574604197</dd>\n",
       "\t<dt>PC7</dt>\n",
       "\t\t<dd>0.000192327502173507</dd>\n",
       "\t<dt>PC18</dt>\n",
       "\t\t<dd>0.000138681230189068</dd>\n",
       "\t<dt>PC19</dt>\n",
       "\t\t<dd>1.49148443911834e-05</dd>\n",
       "</dl>\n"
      ],
      "text/latex": [
       "\\begin{description*}\n",
       "\\item[PC1] 0.378745606658578\n",
       "\\item[PC5] 0.214390267663263\n",
       "\\item[PC2] 0.08565936237973\n",
       "\\item[PC4] 0.0617970780593637\n",
       "\\item[PC3] 0.0602786043850625\n",
       "\\item[PC14] 0.0569775214953399\n",
       "\\item[PC8] 0.035191456169243\n",
       "\\item[PC9] 0.0300270278408146\n",
       "\\item[PC11] 0.0298220960783429\n",
       "\\item[PC20] 0.0291016569080825\n",
       "\\item[PC12] 0.00927691567284758\n",
       "\\item[PC6] 0.00239363194796176\n",
       "\\item[PC15] 0.00230700774391612\n",
       "\\item[PC17] 0.00193852272108254\n",
       "\\item[PC13] 0.000759470797252981\n",
       "\\item[PC16] 0.000546632327761564\n",
       "\\item[PC10] 0.000441217574604197\n",
       "\\item[PC7] 0.000192327502173507\n",
       "\\item[PC18] 0.000138681230189068\n",
       "\\item[PC19] 1.49148443911834e-05\n",
       "\\end{description*}\n"
      ],
      "text/markdown": [
       "PC1\n",
       ":   0.378745606658578PC5\n",
       ":   0.214390267663263PC2\n",
       ":   0.08565936237973PC4\n",
       ":   0.0617970780593637PC3\n",
       ":   0.0602786043850625PC14\n",
       ":   0.0569775214953399PC8\n",
       ":   0.035191456169243PC9\n",
       ":   0.0300270278408146PC11\n",
       ":   0.0298220960783429PC20\n",
       ":   0.0291016569080825PC12\n",
       ":   0.00927691567284758PC6\n",
       ":   0.00239363194796176PC15\n",
       ":   0.00230700774391612PC17\n",
       ":   0.00193852272108254PC13\n",
       ":   0.000759470797252981PC16\n",
       ":   0.000546632327761564PC10\n",
       ":   0.000441217574604197PC7\n",
       ":   0.000192327502173507PC18\n",
       ":   0.000138681230189068PC19\n",
       ":   1.49148443911834e-05\n",
       "\n"
      ],
      "text/plain": [
       "         PC1          PC5          PC2          PC4          PC3         PC14 \n",
       "3.787456e-01 2.143903e-01 8.565936e-02 6.179708e-02 6.027860e-02 5.697752e-02 \n",
       "         PC8          PC9         PC11         PC20         PC12          PC6 \n",
       "3.519146e-02 3.002703e-02 2.982210e-02 2.910166e-02 9.276916e-03 2.393632e-03 \n",
       "        PC15         PC17         PC13         PC16         PC10          PC7 \n",
       "2.307008e-03 1.938523e-03 7.594708e-04 5.466323e-04 4.412176e-04 1.923275e-04 \n",
       "        PC18         PC19 \n",
       "1.386812e-04 1.491484e-05 "
      ]
     },
     "metadata": {},
     "output_type": "display_data"
    }
   ],
   "source": [
    "ss <- anova(fit)[3:22, 2]\n",
    "names(ss) <- paste0(\"PC\", 1:20)\n",
    "ss_sorted <- sort(ss, decreasing = T)\n",
    "ss_pct <- ss_sorted / sum(ss_sorted)\n",
    "ss_pct"
   ]
  },
  {
   "cell_type": "code",
   "execution_count": 30,
   "metadata": {},
   "outputs": [],
   "source": [
    "unrelated_white <- unrelated[(unrelated$X21000.0.0 %in% c(1, 1001, 1002, 1003)),]\n",
    "keep <- unrelated_white[, c(\"eid\", \"hsi\", \"Sex\", \"Age\", paste0(\"PC\", c(1,5,2,4,3)))]\n",
    "keep <- keep[ rowSums(is.na(keep)) == 0, ]"
   ]
  },
  {
   "cell_type": "raw",
   "metadata": {},
   "source": [
    "write.table(keep, \"/share/storage/FTND/UKBiobank/HeavinessSmokingIndex/phenotypes/HSIv2~Sex.Age.5EVs.white.txt\", row.names = FALSE, col.names = TRUE, quote = FALSE)\n",
    "write.table(keep$eid, \"/share/storage/FTND/UKBiobank/HeavinessSmokingIndex/phenotypes/HSIv2.white.samples\", row.names = FALSE, col.names = FALSE, quote = FALSE)\n",
    "mrBig <- read.table(\"/share/storage/FTND/UKBiobank/observed/rs16969968/ukb_rs16969968.mach.mldose\", stringsAsFactors = FALSE)\n",
    "keep$rs16969968 <- mrBig$V3[match(keep$eid, mrBig$V1)]\n",
    "keep <- keep[, c(\"eid\", \"hsi\", \"rs16969968\", \"Sex\", \"Age\", paste0(\"PC\", c(1,5,2,4,3)))]\n",
    "write.table(keep, \"/share/storage/FTND/UKBiobank/HeavinessSmokingIndex/phenotypes/HSIv2~rs16969968.Sex.Age.5EVs.white.txt\", row.names = FALSE, col.names = TRUE, quote = FALSE)\n"
   ]
  },
  {
   "cell_type": "code",
   "execution_count": 32,
   "metadata": {},
   "outputs": [
    {
     "data": {
      "text/html": [
       "<ol class=list-inline>\n",
       "\t<li>31854</li>\n",
       "\t<li>10</li>\n",
       "</ol>\n"
      ],
      "text/latex": [
       "\\begin{enumerate*}\n",
       "\\item 31854\n",
       "\\item 10\n",
       "\\end{enumerate*}\n"
      ],
      "text/markdown": [
       "1. 31854\n",
       "2. 10\n",
       "\n",
       "\n"
      ],
      "text/plain": [
       "[1] 31854    10"
      ]
     },
     "metadata": {},
     "output_type": "display_data"
    }
   ],
   "source": [
    "dim(keep)"
   ]
  },
  {
   "cell_type": "code",
   "execution_count": null,
   "metadata": {},
   "outputs": [],
   "source": []
  }
 ],
 "metadata": {
  "kernelspec": {
   "display_name": "R",
   "language": "R",
   "name": "ir"
  },
  "language_info": {
   "codemirror_mode": "r",
   "file_extension": ".r",
   "mimetype": "text/x-r-source",
   "name": "R",
   "pygments_lexer": "r",
   "version": "3.6.1"
  }
 },
 "nbformat": 4,
 "nbformat_minor": 4
}
