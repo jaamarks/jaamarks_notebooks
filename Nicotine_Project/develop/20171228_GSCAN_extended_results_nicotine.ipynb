{
 "cells": [
  {
   "cell_type": "markdown",
   "metadata": {},
   "source": [
    "# Extension of GSCAN results to nicotine dependence (issue #59)\n",
    "We have preliminary results from a very large-scale genome-wide study for cigarette smoking phenotypes that relate to our nicotine dependence GWAS results. See the supplemental Tables S7-S9 here: \\rcdcollaboration01.rti.ns\\GxG\\Analysis\\GSCAN\\shared MS version 1\\ . The phenotypes of interest to us include: cigarettes per day (CPD), smoking cessation (SC), and smoking initiation (SI).\n",
    "\n",
    "We're interested in seeing whether these associations extend over to nicotine dependence. I use the SNP look-up script to extend Tables S6-S9 with our GWAS results (analysis sets 044, 045, and 046 here: \\\\rcdcollaboration01.rti.ns\\GxG\\Analysis\\META\\1df)"
   ]
  },
  {
   "cell_type": "markdown",
   "metadata": {},
   "source": [
    "## Create directory structure and copy SNP look-up\n",
    "The data that we will be parsing SNPs for are located on the `gxg share drive`. We will move the data to our local machine do to bandwidth issues re the share drive."
   ]
  },
  {
   "cell_type": "code",
   "execution_count": null,
   "metadata": {
    "collapsed": true
   },
   "outputs": [],
   "source": [
    "# Create directory structure locally\n",
    "cd /cygdrive/c/Users/jmarks/Desktop/Projects\n",
    "mkdir -p Nicotine/GSCAN_extended_results_nicotine/develop/{044,045,046}/\\\n",
    "{044_results,045_results,046_results}/{Table_S6,Table_S7,Table_S8,Table_S9}\n",
    "\n",
    "mkdir -p Nicotine/GSCAN_extended_results_nicotine/data/\\\n",
    "{044.eur13cohorts.afr.9cohorts.eagle_lung.jhs_aric.1000G_p3_markerName_FinalDatasetDNMT3Bpaper,\n",
    "045.eur13cohorts.eagle_lung.jhs_aric.1000G_p3_markerName_FinalDatasetDNMT3Bpaper,\n",
    "046.afr.9cohorts.eagle_lung.jhs_aric.1000G_p3_markerName_FinalDatasetDNMT3Bpaper}\n",
    "\n",
    "# copy data over to local machine and change permission of file\n",
    "cd /cygdrive/c/Users/jmarks/Desktop/Projects/Nicotine/GSCAN_extended_results_nicotine/data/\n",
    "\n",
    "# copy 044 data\n",
    "cp //rcdcollaboration01.rti.ns/gxg/Analysis/META/1df/044.eur13cohorts.afr.9cohorts.eagle_lung.jhs_aric.1000G_p3_markerName_FinalDatasetDNMT3Bpaper/*.1df\n",
    "/cygdrive/c/Users/jmarks/Desktop/Projects/Nicotine/GSCAN_extended_results_nicotine/data/044.eur13cohorts.afr.9cohorts.eagle_lung.jhs_aric.1000G_p3_markerName_FinalDatasetDNMT3Bpaper/\n",
    "\n",
    "# copy 045 data\n",
    "for i in //rcdcollaboration01.rti.ns/gxg/Analysis/META/1df/045.eur13cohorts.eagle_lung.jhs_aric.1000G_p3_markerName_FinalDatasetDNMT3Bpaper/cogend+copdgene+decode+eagle+sage+uw-tturc+gain+nongain+yale-penn+ntr+finnish+dental_caries+cogend2.eur.chr{1..22}.exclude_singletons.1df\n",
    "do\n",
    "cp $i 045.eur13cohorts.eagle_lung.jhs_aric.1000G_p3_markerName_FinalDatasetDNMT3Bpaper/\n",
    "done\n",
    "\n",
    "# copy 046 data\n",
    "for i in //rcdcollaboration01.rti.ns/gxg/Analysis/META/1df/046.afr.9cohorts.eagle_lung.jhs_aric.1000G_p3_markerName_FinalDatasetDNMT3Bpaper/cogend+copdgene+sage+uw-tturc+gain+yale-penn+aand+jhs+cogend2.afr.chr{1..22}.exclude_singletons.1df\n",
    "do\n",
    "cp $i 046.afr.9cohorts.eagle_lung.jhs_aric.1000G_p3_markerName_FinalDatasetDNMT3Bpaper/\n",
    "done\n",
    "\n",
    "\n",
    "# change permission on all files \n",
    "chmod 755 044.eur13cohorts.afr.9cohorts.eagle_lung.jhs_aric.1000G_p3_markerName_FinalDatasetDNMT3Bpaper/*\n",
    "chmod 755 045.eur13cohorts.eagle_lung.jhs_aric.1000G_p3_markerName_FinalDatasetDNMT3Bpaper/*\n",
    "chmod 755 046.afr.9cohorts.eagle_lung.jhs_aric.1000G_p3_markerName_FinalDatasetDNMT3Bpaper/*\n",
    "\n",
    "\n",
    "cd Nicotine/GSCAN_extended_results_nicotine/develop/GSCAN_extended_results_nicotine/\n",
    "\n",
    "# I need to create a directory for each table because each table has different set of\n",
    "# SNPs to lookup. Each set of SNPs need to be searched for in our GWAS results (044,045,046)\n",
    "mkdir -p SNP_finder/{Table_S6,Table_S7,Table_S8,Table_S9}\n",
    "\n",
    "# copy SNP look-up script to directory structure\n",
    "for i in {6..9}; do  cp -r /cygdrive/c/Users/jmarks/Desktop/Code/SNP_finder/* SNP_finder/Table_S$i; done\n",
    "\n",
    "# make a copy of the perl script in this directory for ease of use \n",
    "# (this is where it will actually be run from)\n",
    "\n",
    "cp /cygdrive/c/Users/jmarks/Desktop/Code/SNP_finder/Table_S6/extract_rows.pl ."
   ]
  },
  {
   "cell_type": "markdown",
   "metadata": {},
   "source": [
    "## Customize accompanying files to the SNP look-up script\n",
    "\n",
    "The SNP look-up script takes as an argument a file which contains the SNPs that are to be searched for. The SNPs which will be of interest here are the SNPs listed in the supplementary tables at:\n",
    "\n",
    "`//rcdcollaboration01.rti.ns/gxg/Analysis/GSCAN/shared MS version 1/Supplementary_Tables_S6-S12_Loci.xlsx`\n",
    "\n",
    "* We are focusing on the SNPs from supplementary tables 6-9. The fourth column titled `rsID` is the column which contains the SNPs. We will copy/paste this column into the accompanying file titled `SNP_ids.txt`, which is located in the same directory as the SNP look-up script, titled `extract_rows.pl`\n",
    "\n",
    "* The other accompanying file is titled `perlRun.txt`. This file is customized to detail the location of all necessary files need for the SNP script to run and is also located in the same directory as `extract_rows.pl` and `SNP_ids.txt`."
   ]
  },
  {
   "cell_type": "markdown",
   "metadata": {},
   "source": [
    "## Supplementary Table 6\n",
    "Run the SNP look-up script for the SNPs in supplementary table 6"
   ]
  },
  {
   "cell_type": "code",
   "execution_count": null,
   "metadata": {
    "collapsed": true
   },
   "outputs": [],
   "source": [
    "cd /cygdrive/c/Users/jmarks/Desktop/Projects/Nicotine/GSCAN_extended_results_nicotine/develop\n",
    "\n",
    "# Lookup the SNPs from supplementary table 6 in the 044 data (cross-ancestrial)\n",
    "j=0\n",
    "for i in /cygdrive/c/Users/jmarks/Desktop/Projects/Nicotine/GSCAN_extended_results_nicotine/data/044.eur13cohorts.afr.9cohorts.eagle_lung.jhs_aric.1000G_p3_markerName_FinalDatasetDNMT3Bpaper/cogend+copdgene+decode+eagle+sage+uw-tturc+gain+nongain+yale-penn+ntr+finnish+aand+jhs+dental_caries+cogend2.afr+eur.chr{1..22}.1df; do\n",
    "let j++\n",
    "# location of the Perl SNP look-up script \n",
    "perl extract_rows.pl \\\n",
    "--source $i \\\n",
    "--id_list SNP_finder/Table_S6/SNP_ids.txt \\\n",
    "--out results/044_results/Table_S6/chr$j.overlap.txt \\\n",
    "--header 1 \\\n",
    "--id_column 0\n",
    "done\n",
    "\n",
    "\n",
    "\n",
    "# Lookup the SNPs from supplementary table 6 in the 045 data (EA-ancestry)\n",
    "j=0\n",
    "for i in /cygdrive/c/Users/jmarks/Desktop/Projects/Nicotine/GSCAN_extended_results_nicotine/data/045.eur13cohorts.eagle_lung.jhs_aric.1000G_p3_markerName_FinalDatasetDNMT3Bpaper/cogend+copdgene+decode+eagle+sage+uw-tturc+gain+nongain+yale-penn+ntr+finnish+dental_caries+cogend2.eur.chr{1..22}.exclude_singletons.1df; do\n",
    "\n",
    "let j++ \n",
    "perl extract_rows.pl \\\n",
    "--source $i \\\n",
    "--id_list SNP_finder/Table_S6/SNP_ids.txt \\\n",
    "--out results/045_results/Table_S6/chr$j.overlap.txt \\\n",
    "--header 1 \\\n",
    "--id_column 0\n",
    "done\n",
    "\n",
    "\n",
    "# Lookup the SNPs from supplementary table 6 in the 046 data (AA-ancestry)\n",
    "j=0\n",
    "for i in /cygdrive/c/Users/jmarks/Desktop/Projects/Nicotine/GSCAN_extended_results_nicotine/data/046.afr.9cohorts.eagle_lung.jhs_aric.1000G_p3_markerName_FinalDatasetDNMT3Bpaper/cogend+copdgene+sage+uw-tturc+gain+yale-penn+aand+jhs+cogend2.afr.chr{1..22}.exclude_singletons.1df; do\n",
    "let j++\n",
    "# location of the Perl SNP look-up script \n",
    "perl extract_rows.pl \\\n",
    "--source $i \\\n",
    "--id_list SNP_finder/Table_S6/SNP_ids.txt \\\n",
    "--out results/046_results/Table_S6/chr$j.overlap.txt \\\n",
    "--header 1 \\\n",
    "--id_column 0\n",
    "done"
   ]
  },
  {
   "cell_type": "markdown",
   "metadata": {},
   "source": [
    "## Supplementary Table 7\n",
    "Run the SNP look-up script for the SNPs in supplementary table 7"
   ]
  },
  {
   "cell_type": "code",
   "execution_count": null,
   "metadata": {
    "collapsed": true
   },
   "outputs": [],
   "source": [
    "cd /cygdrive/c/Users/jmarks/Desktop/Projects/Nicotine/GSCAN_extended_results_nicotine/develop\n",
    "\n",
    "# Lookup the SNPs from supplementary table 7 in the 044 data (cross-ancestrial)\n",
    "j=0\n",
    "for i in /cygdrive/c/Users/jmarks/Desktop/Projects/Nicotine/GSCAN_extended_results_nicotine/data/044.eur13cohorts.afr.9cohorts.eagle_lung.jhs_aric.1000G_p3_markerName_FinalDatasetDNMT3Bpaper/cogend+copdgene+decode+eagle+sage+uw-tturc+gain+nongain+yale-penn+ntr+finnish+aand+jhs+dental_caries+cogend2.afr+eur.chr{1..22}.1df; do\n",
    "let j++\n",
    "# location of the Perl SNP look-up script \n",
    "perl extract_rows.pl \\\n",
    "--source $i \\\n",
    "--id_list SNP_finder/Table_S7/SNP_ids.txt \\\n",
    "--out results/044_results/Table_S7/chr$j.overlap.txt \\\n",
    "--header 1 \\\n",
    "--id_column 0\n",
    "done\n",
    "\n",
    "\n",
    "# Lookup the SNPs from supplementary table 7 in the 045 data (EA-ancestry)\n",
    "j=0\n",
    "for i in /cygdrive/c/Users/jmarks/Desktop/Projects/Nicotine/GSCAN_extended_results_nicotine/data/045.eur13cohorts.eagle_lung.jhs_aric.1000G_p3_markerName_FinalDatasetDNMT3Bpaper/cogend+copdgene+decode+eagle+sage+uw-tturc+gain+nongain+yale-penn+ntr+finnish+dental_caries+cogend2.eur.chr{1..22}.exclude_singletons.1df; do\n",
    "let j++ \n",
    "perl extract_rows.pl \\\n",
    "--source $i \\\n",
    "--id_list SNP_finder/Table_S7/SNP_ids.txt \\\n",
    "--out results/045_results/Table_S7/chr$j.overlap.txt \\\n",
    "--header 1 \\\n",
    "--id_column 0\n",
    "done\n",
    "\n",
    "\n",
    "# Lookup the SNPs from supplementary table 7 in the 046 data (AA-ancestry)\n",
    "j=0\n",
    "for i in /cygdrive/c/Users/jmarks/Desktop/Projects/Nicotine/GSCAN_extended_results_nicotine/data/046.afr.9cohorts.eagle_lung.jhs_aric.1000G_p3_markerName_FinalDatasetDNMT3Bpaper/cogend+copdgene+sage+uw-tturc+gain+yale-penn+aand+jhs+cogend2.afr.chr{1..22}.exclude_singletons.1df; do\n",
    "let j++\n",
    "# location of the Perl SNP look-up script \n",
    "perl extract_rows.pl \\\n",
    "--source $i \\\n",
    "--id_list SNP_finder/Table_S7/SNP_ids.txt \\\n",
    "--out results/046_results/Table_S7/chr$j.overlap.txt \\\n",
    "--header 1 \\\n",
    "--id_column 0\n",
    "done"
   ]
  },
  {
   "cell_type": "markdown",
   "metadata": {},
   "source": [
    "## Supplementary Table 8\n",
    "Run the SNP look-up script for the SNPs in supplementary table 8"
   ]
  },
  {
   "cell_type": "code",
   "execution_count": null,
   "metadata": {
    "collapsed": true
   },
   "outputs": [],
   "source": [
    "cd /cygdrive/c/Users/jmarks/Desktop/Projects/Nicotine/GSCAN_extended_results_nicotine/develop\n",
    "\n",
    "# Lookup the SNPs from supplementary table 8 in the 044 data (cross-ancestrial)\n",
    "j=0\n",
    "for i in /cygdrive/c/Users/jmarks/Desktop/Projects/Nicotine/GSCAN_extended_results_nicotine/data/044.eur13cohorts.afr.9cohorts.eagle_lung.jhs_aric.1000G_p3_markerName_FinalDatasetDNMT3Bpaper/cogend+copdgene+decode+eagle+sage+uw-tturc+gain+nongain+yale-penn+ntr+finnish+aand+jhs+dental_caries+cogend2.afr+eur.chr{1..22}.1df; do\n",
    "let j++\n",
    "# location of the Perl SNP look-up script \n",
    "perl extract_rows.pl \\\n",
    "--source $i \\\n",
    "--id_list SNP_finder/Table_S8/SNP_ids.txt \\\n",
    "--out results/044_results/Table_S8/chr$j.overlap.txt \\\n",
    "--header 1 \\\n",
    "--id_column 0\n",
    "done\n",
    "\n",
    "\n",
    "# Lookup the SNPs from supplementary table 8 in the 045 data (EA-ancestry)\n",
    "j=0\n",
    "for i in /cygdrive/c/Users/jmarks/Desktop/Projects/Nicotine/GSCAN_extended_results_nicotine/data/045.eur13cohorts.eagle_lung.jhs_aric.1000G_p3_markerName_FinalDatasetDNMT3Bpaper/cogend+copdgene+decode+eagle+sage+uw-tturc+gain+nongain+yale-penn+ntr+finnish+dental_caries+cogend2.eur.chr{1..22}.exclude_singletons.1df; do\n",
    "let j++ \n",
    "perl extract_rows.pl \\\n",
    "--source $i \\\n",
    "--id_list SNP_finder/Table_S8/SNP_ids.txt \\\n",
    "--out results/045_results/Table_S8/chr$j.overlap.txt \\\n",
    "--header 1 \\\n",
    "--id_column 0\n",
    "done\n",
    "\n",
    "\n",
    "# Lookup the SNPs from supplementary table 8 in the 046 data (AA-ancestry)\n",
    "j=0\n",
    "for i in /cygdrive/c/Users/jmarks/Desktop/Projects/Nicotine/GSCAN_extended_results_nicotine/data/046.afr.9cohorts.eagle_lung.jhs_aric.1000G_p3_markerName_FinalDatasetDNMT3Bpaper/cogend+copdgene+sage+uw-tturc+gain+yale-penn+aand+jhs+cogend2.afr.chr{1..22}.exclude_singletons.1df; do\n",
    "let j++\n",
    "# location of the Perl SNP look-up script \n",
    "perl extract_rows.pl \\\n",
    "--source $i \\\n",
    "--id_list SNP_finder/Table_S8/SNP_ids.txt \\\n",
    "--out results/046_results/Table_S8/chr$j.overlap.txt \\\n",
    "--header 1 \\\n",
    "--id_column 0\n",
    "done"
   ]
  },
  {
   "cell_type": "markdown",
   "metadata": {},
   "source": [
    "## Supplementary Table 9\n",
    "Run the SNP look-up script for the SNPs in supplementary table 9"
   ]
  },
  {
   "cell_type": "code",
   "execution_count": null,
   "metadata": {
    "collapsed": true
   },
   "outputs": [],
   "source": [
    "cd /cygdrive/c/Users/jmarks/Desktop/Projects/Nicotine/GSCAN_extended_results_nicotine/develop\n",
    "\n",
    "# Lookup the SNPs from supplementary table 9 in the 044 data (cross-ancestrial)\n",
    "j=0\n",
    "for i in /cygdrive/c/Users/jmarks/Desktop/Projects/Nicotine/GSCAN_extended_results_nicotine/data/044.eur13cohorts.afr.9cohorts.eagle_lung.jhs_aric.1000G_p3_markerName_FinalDatasetDNMT3Bpaper/cogend+copdgene+decode+eagle+sage+uw-tturc+gain+nongain+yale-penn+ntr+finnish+aand+jhs+dental_caries+cogend2.afr+eur.chr{1..22}.1df; do\n",
    "let j++\n",
    "# location of the Perl SNP look-up script \n",
    "perl extract_rows.pl \\\n",
    "--source $i \\\n",
    "--id_list SNP_finder/Table_S9/SNP_ids.txt \\\n",
    "--out results/044_results/Table_S9/chr$j.overlap.txt \\\n",
    "--header 1 \\\n",
    "--id_column 0\n",
    "done\n",
    "\n",
    "\n",
    "# Lookup the SNPs from supplementary table 9 in the 045 data (EA-ancestry)\n",
    "j=0\n",
    "for i in /cygdrive/c/Users/jmarks/Desktop/Projects/Nicotine/GSCAN_extended_results_nicotine/data/045.eur13cohorts.eagle_lung.jhs_aric.1000G_p3_markerName_FinalDatasetDNMT3Bpaper/cogend+copdgene+decode+eagle+sage+uw-tturc+gain+nongain+yale-penn+ntr+finnish+dental_caries+cogend2.eur.chr{1..22}.exclude_singletons.1df; do\n",
    "let j++ \n",
    "perl extract_rows.pl \\\n",
    "--source $i \\\n",
    "--id_list SNP_finder/Table_S9/SNP_ids.txt \\\n",
    "--out results/045_results/Table_S9/chr$j.overlap.txt \\\n",
    "--header 1 \\\n",
    "--id_column 0\n",
    "done\n",
    "\n",
    "\n",
    "# Lookup the SNPs from supplementary table 9 in the 046 data (AA-ancestry)\n",
    "j=0\n",
    "for i in /cygdrive/c/Users/jmarks/Desktop/Projects/Nicotine/GSCAN_extended_results_nicotine/data/046.afr.9cohorts.eagle_lung.jhs_aric.1000G_p3_markerName_FinalDatasetDNMT3Bpaper/cogend+copdgene+sage+uw-tturc+gain+yale-penn+aand+jhs+cogend2.afr.chr{1..22}.exclude_singletons.1df; do\n",
    "let j++\n",
    "# location of the Perl SNP look-up script \n",
    "perl extract_rows.pl \\\n",
    "--source $i \\\n",
    "--id_list SNP_finder/Table_S9/SNP_ids.txt \\\n",
    "--out results/046_results/Table_S9/chr$j.overlap.txt \\\n",
    "--header 1 \\\n",
    "--id_column 0\n",
    "done"
   ]
  },
  {
   "cell_type": "markdown",
   "metadata": {
    "collapsed": true
   },
   "source": [
    "## Copy results to GxG drive\n",
    "Do to issues with copying the files over from windows to the gxg drive, the best approach I have found is to first tarball the data then copy it over and finally untar it in the new location."
   ]
  },
  {
   "cell_type": "code",
   "execution_count": null,
   "metadata": {
    "collapsed": true
   },
   "outputs": [],
   "source": [
    "# local machine\n",
    "cd /cygdrive/c/Users/jmarks/Desktop/Projects/Nicotine/GSCAN_extended_results_nicotine/develop/\n",
    "\n",
    "tar -czvf results.tar.gz results/\n",
    "cp results.tar.gz //rcdcollaboration01.rti.ns/gxg/Analysis/META/GSCAN_extended_results_nicotine/\n",
    "\n",
    "cd //rcdcollaboration01.rti.ns/gxg/Analysis/META/GSCAN_extended_results_nicotine/\n",
    "\n",
    "# untar\n",
    "tar -xzvf results.tar.gz\n",
    "rm results.tar.gz"
   ]
  }
 ],
 "metadata": {
  "kernelspec": {
   "display_name": "R",
   "language": "R",
   "name": "ir"
  },
  "language_info": {
   "codemirror_mode": "r",
   "file_extension": ".r",
   "mimetype": "text/x-r-source",
   "name": "R",
   "pygments_lexer": "r",
   "version": "3.4.2"
  },
  "toc": {
   "nav_menu": {},
   "number_sections": true,
   "sideBar": true,
   "skip_h1_title": false,
   "toc_cell": false,
   "toc_position": {},
   "toc_section_display": "block",
   "toc_window_display": false
  }
 },
 "nbformat": 4,
 "nbformat_minor": 2
}
