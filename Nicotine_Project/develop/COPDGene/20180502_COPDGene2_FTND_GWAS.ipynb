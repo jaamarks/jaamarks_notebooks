{
 "cells": [
  {
   "cell_type": "markdown",
   "metadata": {},
   "source": [
    "# COPDGene2 Fagerstrom Test For Nicotine Dependence (FTND) GWAS\n",
    "__Author:__ Jesse Marks\n",
    "\n",
    "See [GitHub Issue #78](emerge_ea.1000G.CAT_FTND~SNP+SEX+EVs.maf_gt_0.01_rsq_gt_0.30_ea.snps+indels.manhattan.png.gz)\n",
    "\n",
    "This document logs the steps taken to process:\n",
    "\n",
    "* `Genetic Epidemiology of COPD (COPDGene) Funded by the National Heart, Lung, and Blood Institute` data and perform the FTND GWAS. The [COPDGene](https://www.ncbi.nlm.nih.gov/projects/gap/cgi-bin/study.cgi?study_id=phs000179.v1.p1) cohort is racially diverse and sufficiently large and appropriately designed for genome-wide association analysis of COPD. \n",
    "\n",
    "* There are 10K subjects including control smokers, definite COPD cases (GOLD Stage 2 to 4) and subjects not included in either group (GOLD 1 or GOLD-Unclassified). \n",
    "\n",
    "* The focus of this study is genome-wide association analysis to identify the genetic risk factors that determine susceptibility for COPD and COPD-related phenotypes.\n",
    "\n",
    "* Our phenotype of interest is FTND\n",
    "\n",
    "FTND is a standard instrument for assessing the physical addiction to nicotine. For more information, see [this website](https://cde.drugabuse.gov/instrument/d7c0b0f5-b865-e4de-e040-bb89ad43202b).\n",
    "\n",
    "The imputed genotype are stored on Amazon Web Services S3 at:\n",
    "\n",
    "`s3://rti-nd/COPDGene`\n",
    "\n",
    "* **Note**: I will first perform the GWAS with only the autosomes \n",
    "\n",
    "* John Guo would like me to try this with the Nextflow pipeline\n"
   ]
  },
  {
   "cell_type": "markdown",
   "metadata": {},
   "source": [
    "## Notes about study\n",
    "**Note**: these notes are not cohesive but serve as a personal reference for information I gathered on the study\n",
    "\n",
    "* we have 1000 Genomes phase 3 imputation already available on the full COPDGene dataset\n",
    "\n",
    "* we will run COPDGene1 and COPDGene2 separately because FTND was collected several years apart and there were some key differences in the way that the questions were asked in the different waves. We will keep the two waves separate to circumvent any potential discrepancies which could arrise because of the phenotypes being less than harmonious and then we will combine them in a meta-analysis later. \n",
    "\n",
    "\n",
    "* I will run the GWAS analysis with the following variables:\n",
    "\n",
    "**COPDGene2** (all data from phase 2 LFU dataset, except for gender and finalGOLD which was collected only in phase 1)\n",
    "The criteria for COPDGene2 are:\n",
    "\n",
    "```1) WstFTND_cat_p2 (mostly former smokers with some current smokers picked up)\n",
    "2) age_p1 (age at current visit)\n",
    "3) gender (1=male, 2=female)\n",
    "4) Goldneg1 (between case and control - exhibits signs of both. Failed one diagnostic test while passing another.)\n",
    "5) Gold1or2 (cases)\n",
    "6) Gold3or4 (severe cases)\n",
    "7) EVs to be selected```\n",
    "\n",
    "**Also, I need to split the data up by race** (1=white, 2=black) \n",
    "\n",
    "\n",
    "**Note** We cannot assume that the increments in the GOLD classification are equal which is why we need to embed dummy variables rather than a single categorical variable in our regression models.\n",
    "\n",
    "* GOLD stands for the Global Initiative for Chronic Obstructive Lung Disease. Essentially, GOLD it is a metric for quantifying the severity of COPD a patient has.\n",
    "\n",
    "* FTND outcome and covariates are now ready at the path:\n",
    "    \n",
    "    `\\\\rcdcollaboration01.rti.ns\\GxG\\Analysis\\COPDGene\\phenotypes\\Phase2\\COPD Both waves with Cat FTND_v2.xls`\n",
    "    \n",
    "\n",
    "* For COPDGene1, we are increasing the sample size by several hundred. This is because, the previous analysis of COPDGene1 included only the subjects with determinant COPD GOLD status (finalGold=0 for controls, 1/2 for cases, and 3/4 for severe cases.) Now we know that subjects with an indeterminant status (i.e. finalGold=-1) were subjects that were classified to be between case and control. With this newfound knowledge, we can go ahead and include these subjects and rerun COPDGene1 with these subjects plus the subjects that were in the previous analysis. The model will be:\n",
    "\n",
    "`CurFTND_cat_p1 = SNP + age_p1 + gender + Goldneg1 +Gold1or2 + Gold3or4 + EVs to be selected`\n",
    "    * Also note that in this phase1, the subjects were all current smokers. (max N=5289)\n",
    "\n",
    "* For phase2, COPDGene2, we need to exclude all of the subjects which were included in COPDGene1. This will leave *mostly* former smokers with lifetime FTND reported (max N=2934). There will be some current smokers picked up in phase2 and we will include them here.\n",
    "\n",
    "`WstFTND_cat_p2 = SNP + age_p1 + gender + Goldneg1 +Gold1or2 + Gold3or4 + EVs to be selected`\n",
    "\n",
    "\n",
    "* So, 2,934 is the maximum number of subjects that will be included in COPDGene2. We will have to filter this down based on if the subjects have `sex, age, GOLD status,` and `genotype data.` Also, there are reportedly 4 subjects for COPDGene2 (have entries for the WstFTND_cat_p2 variable) that are missing finalGold status. Of those 4, 3 marked 0 for `Goldneg1`, `Gold1or2`, or `Gold3or4` and the other 1 has NA for those three variables. We will treat these 4 subjects as missing and exclude them from the analysis."
   ]
  },
  {
   "cell_type": "markdown",
   "metadata": {},
   "source": [
    "### WstFTND_cat_p2 variable description\n",
    "| cat | Freq |\n",
    "|-----|------|\n",
    "| 0   | 1,122 |   \n",
    "| 1   | 1,286 |   \n",
    "| 2   | 526   |   \n",
    "\n",
    "* Where FTND conversion is 0=0-3, 1=4-6, and 2=7+"
   ]
  },
  {
   "cell_type": "markdown",
   "metadata": {},
   "source": [
    "## Capturing missing subjects\n",
    "\n",
    "There are two age variables of interest for this COPDGene2 study. One is `age_p1` and the other is `age_p2`. We would like to use the latest data, which is `age_p2` but there are 195 subjects that don't have this data. In the subjection titled \"Impute missing age\", we propose method which imputes from the `age_p1` data to estimate the missing `age_p2` data. In essence, we will create a new age variable `age_p3` which will allow us to incorporate those subjects that would have been lost if we had just went with the COPDGene2 subjects having `age_p2` data. \n",
    "\n",
    "**`age_p3` description **\n",
    "* if a subject has `age_p2` data, then their `age_p3` is set equal to their `age_p2`\n",
    "* if the subject is missing `age_p2` data, then impute from their `age_p1`\n",
    "    * the data will be imputed by adding the average difference between `age_p2` and `age_p1` of the COPDGene2 subjects that have both `age_p1` and `age_p2` data. The average will be either the median or mean - this will be determined upon further discussion.\n",
    "    \n",
    "See section [missing subjects](#missing_subs) for details of this subject age imputation process."
   ]
  },
  {
   "cell_type": "markdown",
   "metadata": {
    "collapsed": true
   },
   "source": [
    "# Prepare files for ProbABEL\n",
    "## Phenotype Data COPDGene2\n",
    "**Age p1 filtered table**\n",
    "\n",
    "| Filtering Criterion                   | Subjects Removed  | Total |\n",
    "|---------------------------------------|-------------------|-------|\n",
    "| Initial Data                          | 0                 | 10,300|\n",
    "| Initial subjects (WstFTND & !CurFTND) | 7,366             | 2,934 |\n",
    "| Missing finalgold status              | 4                 | 2,930 |\n",
    "| Missing sex                           | 0                 | 2,930 |\n",
    "| Missing age (p1)                      | 0                 | 2,930 |\n",
    "| Missing Genotype                      | 33                | 2,897 |\n",
    "\n",
    "* Number of EAs: 2,630\n",
    "* Number of AAs: 267\n",
    "\n",
    "**Age p2 filtered table**\n",
    "\n",
    "| Filtering Criterion                   | Subjects Removed  | Total |\n",
    "|---------------------------------------|-------------------|-------|\n",
    "| Initial Data                          | 0                 | 10,300|\n",
    "| Initial subjects (WstFTND & !CurFTND) | 7,366             | 2,934 |\n",
    "| Missing finalgold status              | 4                 | 2,930 |\n",
    "| Missing sex                           | 0                 | 2,930 |\n",
    "| Missing age (p2)                      | 195               | 2,735 |\n",
    "| Missing Genotype                      | 32                | 2,703 |\n",
    "\n",
    "* Number of EAs: 2,470\n",
    "* Number of AAs: 233\n",
    "\n",
    "### Apply Filters"
   ]
  },
  {
   "cell_type": "code",
   "execution_count": 1,
   "metadata": {},
   "outputs": [
    {
     "name": "stdout",
     "output_type": "stream",
     "text": [
      "[1] \"Below is the table head of the entire phenotype file.\"\n"
     ]
    },
    {
     "data": {
      "text/html": [
       "<table>\n",
       "<thead><tr><th scope=col>sid</th><th scope=col>gender</th><th scope=col>race</th><th scope=col>ethnic</th><th scope=col>fagerstrom_index</th><th scope=col>finalgold</th><th scope=col>age_p1</th><th scope=col>age_p2</th><th scope=col>have_lfu</th><th scope=col>fagerstrom_index_lfu</th><th scope=col>CurFTND_cat_p1</th><th scope=col>WstFTND_cat_p2</th><th scope=col>Gold_Cat</th><th scope=col>Goldneg1</th><th scope=col>Gold1or2</th><th scope=col>Gold3or4</th></tr></thead>\n",
       "<tbody>\n",
       "\t<tr><td>15814W</td><td>2     </td><td>1     </td><td>2     </td><td>NA    </td><td>-2    </td><td>NA    </td><td>NA    </td><td>      </td><td>NA    </td><td>NA    </td><td>NA    </td><td>NA    </td><td>NA    </td><td>NA    </td><td>NA    </td></tr>\n",
       "\t<tr><td>16032X</td><td>1     </td><td>1     </td><td>2     </td><td>NA    </td><td>-2    </td><td>NA    </td><td>NA    </td><td>      </td><td>NA    </td><td>NA    </td><td>NA    </td><td>NA    </td><td>NA    </td><td>NA    </td><td>NA    </td></tr>\n",
       "\t<tr><td>16126G</td><td>2     </td><td>1     </td><td>2     </td><td>NA    </td><td>-2    </td><td>NA    </td><td>NA    </td><td>      </td><td>NA    </td><td>NA    </td><td>NA    </td><td>NA    </td><td>NA    </td><td>NA    </td><td>NA    </td></tr>\n",
       "\t<tr><td>16281S</td><td>2     </td><td>1     </td><td>2     </td><td>NA    </td><td>-2    </td><td>NA    </td><td>NA    </td><td>      </td><td>NA    </td><td>NA    </td><td>NA    </td><td>NA    </td><td>NA    </td><td>NA    </td><td>NA    </td></tr>\n",
       "\t<tr><td>16303C</td><td>1     </td><td>1     </td><td>2     </td><td>NA    </td><td>-2    </td><td>NA    </td><td>NA    </td><td>      </td><td>NA    </td><td>NA    </td><td>NA    </td><td>NA    </td><td>NA    </td><td>NA    </td><td>NA    </td></tr>\n",
       "\t<tr><td>16311B</td><td>2     </td><td>1     </td><td>2     </td><td>NA    </td><td>-2    </td><td>NA    </td><td>NA    </td><td>      </td><td>NA    </td><td>NA    </td><td>NA    </td><td>NA    </td><td>NA    </td><td>NA    </td><td>NA    </td></tr>\n",
       "</tbody>\n",
       "</table>\n"
      ],
      "text/latex": [
       "\\begin{tabular}{r|llllllllllllllll}\n",
       " sid & gender & race & ethnic & fagerstrom\\_index & finalgold & age\\_p1 & age\\_p2 & have\\_lfu & fagerstrom\\_index\\_lfu & CurFTND\\_cat\\_p1 & WstFTND\\_cat\\_p2 & Gold\\_Cat & Goldneg1 & Gold1or2 & Gold3or4\\\\\n",
       "\\hline\n",
       "\t 15814W & 2      & 1      & 2      & NA     & -2     & NA     & NA     &        & NA     & NA     & NA     & NA     & NA     & NA     & NA    \\\\\n",
       "\t 16032X & 1      & 1      & 2      & NA     & -2     & NA     & NA     &        & NA     & NA     & NA     & NA     & NA     & NA     & NA    \\\\\n",
       "\t 16126G & 2      & 1      & 2      & NA     & -2     & NA     & NA     &        & NA     & NA     & NA     & NA     & NA     & NA     & NA    \\\\\n",
       "\t 16281S & 2      & 1      & 2      & NA     & -2     & NA     & NA     &        & NA     & NA     & NA     & NA     & NA     & NA     & NA    \\\\\n",
       "\t 16303C & 1      & 1      & 2      & NA     & -2     & NA     & NA     &        & NA     & NA     & NA     & NA     & NA     & NA     & NA    \\\\\n",
       "\t 16311B & 2      & 1      & 2      & NA     & -2     & NA     & NA     &        & NA     & NA     & NA     & NA     & NA     & NA     & NA    \\\\\n",
       "\\end{tabular}\n"
      ],
      "text/markdown": [
       "\n",
       "sid | gender | race | ethnic | fagerstrom_index | finalgold | age_p1 | age_p2 | have_lfu | fagerstrom_index_lfu | CurFTND_cat_p1 | WstFTND_cat_p2 | Gold_Cat | Goldneg1 | Gold1or2 | Gold3or4 | \n",
       "|---|---|---|---|---|---|\n",
       "| 15814W | 2      | 1      | 2      | NA     | -2     | NA     | NA     |        | NA     | NA     | NA     | NA     | NA     | NA     | NA     | \n",
       "| 16032X | 1      | 1      | 2      | NA     | -2     | NA     | NA     |        | NA     | NA     | NA     | NA     | NA     | NA     | NA     | \n",
       "| 16126G | 2      | 1      | 2      | NA     | -2     | NA     | NA     |        | NA     | NA     | NA     | NA     | NA     | NA     | NA     | \n",
       "| 16281S | 2      | 1      | 2      | NA     | -2     | NA     | NA     |        | NA     | NA     | NA     | NA     | NA     | NA     | NA     | \n",
       "| 16303C | 1      | 1      | 2      | NA     | -2     | NA     | NA     |        | NA     | NA     | NA     | NA     | NA     | NA     | NA     | \n",
       "| 16311B | 2      | 1      | 2      | NA     | -2     | NA     | NA     |        | NA     | NA     | NA     | NA     | NA     | NA     | NA     | \n",
       "\n",
       "\n"
      ],
      "text/plain": [
       "  sid    gender race ethnic fagerstrom_index finalgold age_p1 age_p2 have_lfu\n",
       "1 15814W 2      1    2      NA               -2        NA     NA             \n",
       "2 16032X 1      1    2      NA               -2        NA     NA             \n",
       "3 16126G 2      1    2      NA               -2        NA     NA             \n",
       "4 16281S 2      1    2      NA               -2        NA     NA             \n",
       "5 16303C 1      1    2      NA               -2        NA     NA             \n",
       "6 16311B 2      1    2      NA               -2        NA     NA             \n",
       "  fagerstrom_index_lfu CurFTND_cat_p1 WstFTND_cat_p2 Gold_Cat Goldneg1 Gold1or2\n",
       "1 NA                   NA             NA             NA       NA       NA      \n",
       "2 NA                   NA             NA             NA       NA       NA      \n",
       "3 NA                   NA             NA             NA       NA       NA      \n",
       "4 NA                   NA             NA             NA       NA       NA      \n",
       "5 NA                   NA             NA             NA       NA       NA      \n",
       "6 NA                   NA             NA             NA       NA       NA      \n",
       "  Gold3or4\n",
       "1 NA      \n",
       "2 NA      \n",
       "3 NA      \n",
       "4 NA      \n",
       "5 NA      \n",
       "6 NA      "
      ]
     },
     "metadata": {},
     "output_type": "display_data"
    }
   ],
   "source": [
    "pheno.data <- read.table(\"C:/Users/jmarks/Desktop/Projects/Nicotine/COPDGene/pheno/Copy of COPD Both waves with Cat FTND_v2.csv\",\n",
    "                        sep=\",\", header=T)\n",
    "print(\"Below is the table head of the entire phenotype file.\")\n",
    "head(pheno.data)"
   ]
  },
  {
   "cell_type": "markdown",
   "metadata": {},
   "source": [
    "#### Initial numbers"
   ]
  },
  {
   "cell_type": "code",
   "execution_count": 2,
   "metadata": {},
   "outputs": [
    {
     "name": "stdout",
     "output_type": "stream",
     "text": [
      "[1] \"Max number of subjects for COPDGene2 (both ancestries)\"\n"
     ]
    },
    {
     "data": {
      "text/html": [
       "2934"
      ],
      "text/latex": [
       "2934"
      ],
      "text/markdown": [
       "2934"
      ],
      "text/plain": [
       "[1] 2934"
      ]
     },
     "metadata": {},
     "output_type": "display_data"
    },
    {
     "name": "stdout",
     "output_type": "stream",
     "text": [
      "[1] \"Categorical FTND summary\"\n"
     ]
    },
    {
     "data": {
      "text/plain": [
       "\n",
       "   0    1    2 \n",
       "1122 1286  526 "
      ]
     },
     "metadata": {},
     "output_type": "display_data"
    },
    {
     "name": "stdout",
     "output_type": "stream",
     "text": [
      "[1] \"Below is the table head of the COPDGene2 data before any filters (save FTND) have been applied.\"\n"
     ]
    },
    {
     "data": {
      "text/html": [
       "<table>\n",
       "<thead><tr><th></th><th scope=col>sid</th><th scope=col>gender</th><th scope=col>race</th><th scope=col>ethnic</th><th scope=col>fagerstrom_index</th><th scope=col>finalgold</th><th scope=col>age_p1</th><th scope=col>age_p2</th><th scope=col>have_lfu</th><th scope=col>fagerstrom_index_lfu</th><th scope=col>CurFTND_cat_p1</th><th scope=col>WstFTND_cat_p2</th><th scope=col>Gold_Cat</th><th scope=col>Goldneg1</th><th scope=col>Gold1or2</th><th scope=col>Gold3or4</th></tr></thead>\n",
       "<tbody>\n",
       "\t<tr><th scope=row>103</th><td>10161E</td><td>1     </td><td>1     </td><td>2     </td><td>NA    </td><td>-1    </td><td>73.8  </td><td>79.1  </td><td>LFU   </td><td>9     </td><td>NA    </td><td>2     </td><td>1     </td><td>1     </td><td>0     </td><td>0     </td></tr>\n",
       "\t<tr><th scope=row>105</th><td>10260G</td><td>1     </td><td>1     </td><td>2     </td><td>NA    </td><td>-1    </td><td>68.4  </td><td>73.9  </td><td>LFU   </td><td>5     </td><td>NA    </td><td>1     </td><td>1     </td><td>1     </td><td>0     </td><td>0     </td></tr>\n",
       "\t<tr><th scope=row>107</th><td>10489M</td><td>2     </td><td>1     </td><td>2     </td><td>NA    </td><td>-1    </td><td>60.0  </td><td>65.8  </td><td>LFU   </td><td>4     </td><td>NA    </td><td>1     </td><td>1     </td><td>1     </td><td>0     </td><td>0     </td></tr>\n",
       "\t<tr><th scope=row>108</th><td>10511F</td><td>2     </td><td>1     </td><td>2     </td><td>NA    </td><td>-1    </td><td>80.6  </td><td>87.4  </td><td>LFU   </td><td>3     </td><td>NA    </td><td>0     </td><td>1     </td><td>1     </td><td>0     </td><td>0     </td></tr>\n",
       "\t<tr><th scope=row>110</th><td>10558F</td><td>1     </td><td>1     </td><td>2     </td><td>NA    </td><td>-1    </td><td>60.9  </td><td>66.8  </td><td>LFU   </td><td>5     </td><td>NA    </td><td>1     </td><td>1     </td><td>1     </td><td>0     </td><td>0     </td></tr>\n",
       "\t<tr><th scope=row>118</th><td>10771F</td><td>1     </td><td>1     </td><td>2     </td><td>NA    </td><td>-1    </td><td>69.9  </td><td>75.6  </td><td>LFU   </td><td>3     </td><td>NA    </td><td>0     </td><td>1     </td><td>1     </td><td>0     </td><td>0     </td></tr>\n",
       "</tbody>\n",
       "</table>\n"
      ],
      "text/latex": [
       "\\begin{tabular}{r|llllllllllllllll}\n",
       "  & sid & gender & race & ethnic & fagerstrom\\_index & finalgold & age\\_p1 & age\\_p2 & have\\_lfu & fagerstrom\\_index\\_lfu & CurFTND\\_cat\\_p1 & WstFTND\\_cat\\_p2 & Gold\\_Cat & Goldneg1 & Gold1or2 & Gold3or4\\\\\n",
       "\\hline\n",
       "\t103 & 10161E & 1      & 1      & 2      & NA     & -1     & 73.8   & 79.1   & LFU    & 9      & NA     & 2      & 1      & 1      & 0      & 0     \\\\\n",
       "\t105 & 10260G & 1      & 1      & 2      & NA     & -1     & 68.4   & 73.9   & LFU    & 5      & NA     & 1      & 1      & 1      & 0      & 0     \\\\\n",
       "\t107 & 10489M & 2      & 1      & 2      & NA     & -1     & 60.0   & 65.8   & LFU    & 4      & NA     & 1      & 1      & 1      & 0      & 0     \\\\\n",
       "\t108 & 10511F & 2      & 1      & 2      & NA     & -1     & 80.6   & 87.4   & LFU    & 3      & NA     & 0      & 1      & 1      & 0      & 0     \\\\\n",
       "\t110 & 10558F & 1      & 1      & 2      & NA     & -1     & 60.9   & 66.8   & LFU    & 5      & NA     & 1      & 1      & 1      & 0      & 0     \\\\\n",
       "\t118 & 10771F & 1      & 1      & 2      & NA     & -1     & 69.9   & 75.6   & LFU    & 3      & NA     & 0      & 1      & 1      & 0      & 0     \\\\\n",
       "\\end{tabular}\n"
      ],
      "text/markdown": [
       "\n",
       "| <!--/--> | sid | gender | race | ethnic | fagerstrom_index | finalgold | age_p1 | age_p2 | have_lfu | fagerstrom_index_lfu | CurFTND_cat_p1 | WstFTND_cat_p2 | Gold_Cat | Goldneg1 | Gold1or2 | Gold3or4 | \n",
       "|---|---|---|---|---|---|\n",
       "| 103 | 10161E | 1      | 1      | 2      | NA     | -1     | 73.8   | 79.1   | LFU    | 9      | NA     | 2      | 1      | 1      | 0      | 0      | \n",
       "| 105 | 10260G | 1      | 1      | 2      | NA     | -1     | 68.4   | 73.9   | LFU    | 5      | NA     | 1      | 1      | 1      | 0      | 0      | \n",
       "| 107 | 10489M | 2      | 1      | 2      | NA     | -1     | 60.0   | 65.8   | LFU    | 4      | NA     | 1      | 1      | 1      | 0      | 0      | \n",
       "| 108 | 10511F | 2      | 1      | 2      | NA     | -1     | 80.6   | 87.4   | LFU    | 3      | NA     | 0      | 1      | 1      | 0      | 0      | \n",
       "| 110 | 10558F | 1      | 1      | 2      | NA     | -1     | 60.9   | 66.8   | LFU    | 5      | NA     | 1      | 1      | 1      | 0      | 0      | \n",
       "| 118 | 10771F | 1      | 1      | 2      | NA     | -1     | 69.9   | 75.6   | LFU    | 3      | NA     | 0      | 1      | 1      | 0      | 0      | \n",
       "\n",
       "\n"
      ],
      "text/plain": [
       "    sid    gender race ethnic fagerstrom_index finalgold age_p1 age_p2 have_lfu\n",
       "103 10161E 1      1    2      NA               -1        73.8   79.1   LFU     \n",
       "105 10260G 1      1    2      NA               -1        68.4   73.9   LFU     \n",
       "107 10489M 2      1    2      NA               -1        60.0   65.8   LFU     \n",
       "108 10511F 2      1    2      NA               -1        80.6   87.4   LFU     \n",
       "110 10558F 1      1    2      NA               -1        60.9   66.8   LFU     \n",
       "118 10771F 1      1    2      NA               -1        69.9   75.6   LFU     \n",
       "    fagerstrom_index_lfu CurFTND_cat_p1 WstFTND_cat_p2 Gold_Cat Goldneg1\n",
       "103 9                    NA             2              1        1       \n",
       "105 5                    NA             1              1        1       \n",
       "107 4                    NA             1              1        1       \n",
       "108 3                    NA             0              1        1       \n",
       "110 5                    NA             1              1        1       \n",
       "118 3                    NA             0              1        1       \n",
       "    Gold1or2 Gold3or4\n",
       "103 0        0       \n",
       "105 0        0       \n",
       "107 0        0       \n",
       "108 0        0       \n",
       "110 0        0       \n",
       "118 0        0       "
      ]
     },
     "metadata": {},
     "output_type": "display_data"
    }
   ],
   "source": [
    "# COPDGene1\n",
    "# Calculate number of subjects with CurFTND data\n",
    "cur.ftnd.vec <-  which(pheno.data$CurFTND_cat_p1 >= 0)\n",
    "#print(\"Max number of subjects for COPDGene1 (both ancestries)\")\n",
    "#length(cur.ftnd.vec)\n",
    "\n",
    "\n",
    "#-----------------------------------------------------------------------------\n",
    "# COPDGene2\n",
    "# Calculate the number of subjects with WstFTND data but not CurFTND data\n",
    "\n",
    "# The indices in cur.ftnd.vec at which the subjects have both wstFTND and CurFTND data\n",
    "overlap1 <- which(pheno.data$WstFTND_cat_p2[cur.ftnd.vec] >= 0)\n",
    "\n",
    "# This gives the subject indices which have both wst and cur data\n",
    "wst.cur.overlap.vec <- cur.ftnd.vec[overlap1]\n",
    "\n",
    "# Indices of all the subjects with WstFTND data\n",
    "all.wst <- which(pheno.data$WstFTND_cat_p2 >= 0)\n",
    "\n",
    "# Subjects that have WstFTND data and no CurFTND data\n",
    "wst.ftnd.vec <- setdiff(all.wst, wst.cur.overlap.vec) \n",
    "\n",
    "print(\"Max number of subjects for COPDGene2 (both ancestries)\")\n",
    "# calculate subjects that are exclusively WstFTND (subtract those that have both Cur and Wst)\n",
    "length(wst.ftnd.vec)\n",
    "\n",
    "# Categorical FTND summary\n",
    "print(\"Categorical FTND summary\")\n",
    "table(pheno.data$WstFTND_cat_p2[wst.ftnd.vec])\n",
    "\n",
    "wst.ftnd.data <- pheno.data[wst.ftnd.vec,]\n",
    "print(\"Below is the table head of the COPDGene2 data before any filters (save FTND) have been applied.\")\n",
    "head(wst.ftnd.data)"
   ]
  },
  {
   "cell_type": "markdown",
   "metadata": {},
   "source": [
    "#### Missing finalgold filter\n",
    "Remove subjects missing `finalgold` variable"
   ]
  },
  {
   "cell_type": "code",
   "execution_count": 3,
   "metadata": {},
   "outputs": [
    {
     "name": "stdout",
     "output_type": "stream",
     "text": [
      "[1] \"These are the sequential indices in the wst.ftnd.data at which they occur.\"\n"
     ]
    },
    {
     "data": {
      "text/html": [
       "<ol class=list-inline>\n",
       "\t<li>2659</li>\n",
       "\t<li>2660</li>\n",
       "\t<li>2661</li>\n",
       "\t<li>2934</li>\n",
       "</ol>\n"
      ],
      "text/latex": [
       "\\begin{enumerate*}\n",
       "\\item 2659\n",
       "\\item 2660\n",
       "\\item 2661\n",
       "\\item 2934\n",
       "\\end{enumerate*}\n"
      ],
      "text/markdown": [
       "1. 2659\n",
       "2. 2660\n",
       "3. 2661\n",
       "4. 2934\n",
       "\n",
       "\n"
      ],
      "text/plain": [
       "[1] 2659 2660 2661 2934"
      ]
     },
     "metadata": {},
     "output_type": "display_data"
    },
    {
     "name": "stdout",
     "output_type": "stream",
     "text": [
      "[1] \"Number of subjects missing finalgold.\"\n"
     ]
    },
    {
     "data": {
      "text/html": [
       "4"
      ],
      "text/latex": [
       "4"
      ],
      "text/markdown": [
       "4"
      ],
      "text/plain": [
       "[1] 4"
      ]
     },
     "metadata": {},
     "output_type": "display_data"
    },
    {
     "name": "stdout",
     "output_type": "stream",
     "text": [
      "[1] \"Here are the data of those subjects with missing finalgold.\"\n"
     ]
    },
    {
     "data": {
      "text/html": [
       "<table>\n",
       "<thead><tr><th></th><th scope=col>sid</th><th scope=col>gender</th><th scope=col>race</th><th scope=col>ethnic</th><th scope=col>fagerstrom_index</th><th scope=col>finalgold</th><th scope=col>age_p1</th><th scope=col>age_p2</th><th scope=col>have_lfu</th><th scope=col>fagerstrom_index_lfu</th><th scope=col>CurFTND_cat_p1</th><th scope=col>WstFTND_cat_p2</th><th scope=col>Gold_Cat</th><th scope=col>Goldneg1</th><th scope=col>Gold1or2</th><th scope=col>Gold3or4</th></tr></thead>\n",
       "<tbody>\n",
       "\t<tr><th scope=row>6865</th><td>10126C</td><td>2     </td><td>1     </td><td>2     </td><td>NA    </td><td>NA    </td><td>72.0  </td><td>77.7  </td><td>LFU   </td><td>2     </td><td>NA    </td><td>0     </td><td>NA    </td><td> 0    </td><td> 0    </td><td> 0    </td></tr>\n",
       "\t<tr><th scope=row>6873</th><td>15118C</td><td>1     </td><td>1     </td><td>2     </td><td>NA    </td><td>NA    </td><td>70.7  </td><td>76.2  </td><td>LFU   </td><td>7     </td><td>NA    </td><td>2     </td><td>NA    </td><td> 0    </td><td> 0    </td><td> 0    </td></tr>\n",
       "\t<tr><th scope=row>6884</th><td>25119K</td><td>1     </td><td>1     </td><td>2     </td><td>NA    </td><td>NA    </td><td>74.9  </td><td>80.2  </td><td>LFU   </td><td>1     </td><td>NA    </td><td>0     </td><td>NA    </td><td> 0    </td><td> 0    </td><td> 0    </td></tr>\n",
       "\t<tr><th scope=row>10297</th><td>25532S</td><td>1     </td><td>2     </td><td>2     </td><td>NA    </td><td>NA    </td><td>63.5  </td><td>68.8  </td><td>LFU   </td><td>5     </td><td>NA    </td><td>1     </td><td>NA    </td><td>NA    </td><td>NA    </td><td>NA    </td></tr>\n",
       "</tbody>\n",
       "</table>\n"
      ],
      "text/latex": [
       "\\begin{tabular}{r|llllllllllllllll}\n",
       "  & sid & gender & race & ethnic & fagerstrom\\_index & finalgold & age\\_p1 & age\\_p2 & have\\_lfu & fagerstrom\\_index\\_lfu & CurFTND\\_cat\\_p1 & WstFTND\\_cat\\_p2 & Gold\\_Cat & Goldneg1 & Gold1or2 & Gold3or4\\\\\n",
       "\\hline\n",
       "\t6865 & 10126C & 2      & 1      & 2      & NA     & NA     & 72.0   & 77.7   & LFU    & 2      & NA     & 0      & NA     &  0     &  0     &  0    \\\\\n",
       "\t6873 & 15118C & 1      & 1      & 2      & NA     & NA     & 70.7   & 76.2   & LFU    & 7      & NA     & 2      & NA     &  0     &  0     &  0    \\\\\n",
       "\t6884 & 25119K & 1      & 1      & 2      & NA     & NA     & 74.9   & 80.2   & LFU    & 1      & NA     & 0      & NA     &  0     &  0     &  0    \\\\\n",
       "\t10297 & 25532S & 1      & 2      & 2      & NA     & NA     & 63.5   & 68.8   & LFU    & 5      & NA     & 1      & NA     & NA     & NA     & NA    \\\\\n",
       "\\end{tabular}\n"
      ],
      "text/markdown": [
       "\n",
       "| <!--/--> | sid | gender | race | ethnic | fagerstrom_index | finalgold | age_p1 | age_p2 | have_lfu | fagerstrom_index_lfu | CurFTND_cat_p1 | WstFTND_cat_p2 | Gold_Cat | Goldneg1 | Gold1or2 | Gold3or4 | \n",
       "|---|---|---|---|\n",
       "| 6865 | 10126C | 2      | 1      | 2      | NA     | NA     | 72.0   | 77.7   | LFU    | 2      | NA     | 0      | NA     |  0     |  0     |  0     | \n",
       "| 6873 | 15118C | 1      | 1      | 2      | NA     | NA     | 70.7   | 76.2   | LFU    | 7      | NA     | 2      | NA     |  0     |  0     |  0     | \n",
       "| 6884 | 25119K | 1      | 1      | 2      | NA     | NA     | 74.9   | 80.2   | LFU    | 1      | NA     | 0      | NA     |  0     |  0     |  0     | \n",
       "| 10297 | 25532S | 1      | 2      | 2      | NA     | NA     | 63.5   | 68.8   | LFU    | 5      | NA     | 1      | NA     | NA     | NA     | NA     | \n",
       "\n",
       "\n"
      ],
      "text/plain": [
       "      sid    gender race ethnic fagerstrom_index finalgold age_p1 age_p2\n",
       "6865  10126C 2      1    2      NA               NA        72.0   77.7  \n",
       "6873  15118C 1      1    2      NA               NA        70.7   76.2  \n",
       "6884  25119K 1      1    2      NA               NA        74.9   80.2  \n",
       "10297 25532S 1      2    2      NA               NA        63.5   68.8  \n",
       "      have_lfu fagerstrom_index_lfu CurFTND_cat_p1 WstFTND_cat_p2 Gold_Cat\n",
       "6865  LFU      2                    NA             0              NA      \n",
       "6873  LFU      7                    NA             2              NA      \n",
       "6884  LFU      1                    NA             0              NA      \n",
       "10297 LFU      5                    NA             1              NA      \n",
       "      Goldneg1 Gold1or2 Gold3or4\n",
       "6865   0        0        0      \n",
       "6873   0        0        0      \n",
       "6884   0        0        0      \n",
       "10297 NA       NA       NA      "
      ]
     },
     "metadata": {},
     "output_type": "display_data"
    },
    {
     "name": "stdout",
     "output_type": "stream",
     "text": [
      "[1] \"Number of subjects remaining after filtering by missing finalgold data.\"\n"
     ]
    },
    {
     "data": {
      "text/html": [
       "2930"
      ],
      "text/latex": [
       "2930"
      ],
      "text/markdown": [
       "2930"
      ],
      "text/plain": [
       "[1] 2930"
      ]
     },
     "metadata": {},
     "output_type": "display_data"
    }
   ],
   "source": [
    "# some subjects with reported GOLD status are missing in the finalgold variable\n",
    "gold.data <- wst.ftnd.data$finalgold[]\n",
    "print(\"These are the sequential indices in the wst.ftnd.data at which they occur.\")\n",
    "which(is.na(gold.data))\n",
    "print(\"Number of subjects missing finalgold.\")\n",
    "length(which(is.na(gold.data)))\n",
    "\n",
    "print(\"Here are the data of those subjects with missing finalgold.\")\n",
    "wst.ftnd.data[which(is.na(gold.data)),]\n",
    "\n",
    "# exclude those subjects with missing finalgold\n",
    "wst.ftnd.fg.filtered <- wst.ftnd.data[-which(is.na(gold.data)),]\n",
    "\n",
    "print(\"Number of subjects remaining after filtering by missing finalgold data.\")\n",
    "length(wst.ftnd.fg.filtered[,1])"
   ]
  },
  {
   "cell_type": "markdown",
   "metadata": {},
   "source": [
    "#### Missing Sex filter\n",
    "Remove any subjects missing sex data."
   ]
  },
  {
   "cell_type": "code",
   "execution_count": 4,
   "metadata": {},
   "outputs": [
    {
     "name": "stdout",
     "output_type": "stream",
     "text": [
      "[1] \"Number of COPDGene2 subjects after FTND, finalgold, and sex filtering.\"\n"
     ]
    },
    {
     "data": {
      "text/html": [
       "2930"
      ],
      "text/latex": [
       "2930"
      ],
      "text/markdown": [
       "2930"
      ],
      "text/plain": [
       "[1] 2930"
      ]
     },
     "metadata": {},
     "output_type": "display_data"
    }
   ],
   "source": [
    "# filtered out any subjects missing sex data\n",
    "wst.ftnd.fg.sex.filtered <- wst.ftnd.fg.filtered[complete.cases(wst.ftnd.fg.filtered[, \"gender\"]),]\n",
    "\n",
    "print(\"Number of COPDGene2 subjects after FTND, finalgold, and sex filtering.\")\n",
    "length(wst.ftnd.fg.sex.filtered[,1])"
   ]
  },
  {
   "cell_type": "markdown",
   "metadata": {},
   "source": [
    "**Note:** no subjects missing sex data. "
   ]
  },
  {
   "cell_type": "markdown",
   "metadata": {},
   "source": [
    "#### Missing Age filter\n",
    "Remove any subjects missing age data. \n",
    "\n",
    "**Note**: the filter we ultimately end up using is the imputed variable `age_p3`.\n",
    "\n",
    "##### age_p1\n",
    "Filter by variable `age_p1` then write to file."
   ]
  },
  {
   "cell_type": "code",
   "execution_count": 5,
   "metadata": {},
   "outputs": [
    {
     "name": "stdout",
     "output_type": "stream",
     "text": [
      "[1] \"Number of COPDGene2 subjects after FTND, finalgold, sex, and age (p1) filtering.\"\n"
     ]
    },
    {
     "data": {
      "text/html": [
       "2930"
      ],
      "text/latex": [
       "2930"
      ],
      "text/markdown": [
       "2930"
      ],
      "text/plain": [
       "[1] 2930"
      ]
     },
     "metadata": {},
     "output_type": "display_data"
    },
    {
     "name": "stdout",
     "output_type": "stream",
     "text": [
      "[1] \"Head of filtered data (age_p1).\"\n"
     ]
    },
    {
     "data": {
      "text/html": [
       "<table>\n",
       "<thead><tr><th></th><th scope=col>sid</th><th scope=col>gender</th><th scope=col>race</th><th scope=col>age_p1</th><th scope=col>WstFTND_cat_p2</th><th scope=col>Goldneg1</th><th scope=col>Gold1or2</th><th scope=col>Gold3or4</th></tr></thead>\n",
       "<tbody>\n",
       "\t<tr><th scope=row>103</th><td>10161E</td><td>1     </td><td>1     </td><td>73.8  </td><td>2     </td><td>1     </td><td>0     </td><td>0     </td></tr>\n",
       "\t<tr><th scope=row>105</th><td>10260G</td><td>1     </td><td>1     </td><td>68.4  </td><td>1     </td><td>1     </td><td>0     </td><td>0     </td></tr>\n",
       "\t<tr><th scope=row>107</th><td>10489M</td><td>2     </td><td>1     </td><td>60.0  </td><td>1     </td><td>1     </td><td>0     </td><td>0     </td></tr>\n",
       "\t<tr><th scope=row>108</th><td>10511F</td><td>2     </td><td>1     </td><td>80.6  </td><td>0     </td><td>1     </td><td>0     </td><td>0     </td></tr>\n",
       "\t<tr><th scope=row>110</th><td>10558F</td><td>1     </td><td>1     </td><td>60.9  </td><td>1     </td><td>1     </td><td>0     </td><td>0     </td></tr>\n",
       "\t<tr><th scope=row>118</th><td>10771F</td><td>1     </td><td>1     </td><td>69.9  </td><td>0     </td><td>1     </td><td>0     </td><td>0     </td></tr>\n",
       "</tbody>\n",
       "</table>\n"
      ],
      "text/latex": [
       "\\begin{tabular}{r|llllllll}\n",
       "  & sid & gender & race & age\\_p1 & WstFTND\\_cat\\_p2 & Goldneg1 & Gold1or2 & Gold3or4\\\\\n",
       "\\hline\n",
       "\t103 & 10161E & 1      & 1      & 73.8   & 2      & 1      & 0      & 0     \\\\\n",
       "\t105 & 10260G & 1      & 1      & 68.4   & 1      & 1      & 0      & 0     \\\\\n",
       "\t107 & 10489M & 2      & 1      & 60.0   & 1      & 1      & 0      & 0     \\\\\n",
       "\t108 & 10511F & 2      & 1      & 80.6   & 0      & 1      & 0      & 0     \\\\\n",
       "\t110 & 10558F & 1      & 1      & 60.9   & 1      & 1      & 0      & 0     \\\\\n",
       "\t118 & 10771F & 1      & 1      & 69.9   & 0      & 1      & 0      & 0     \\\\\n",
       "\\end{tabular}\n"
      ],
      "text/markdown": [
       "\n",
       "| <!--/--> | sid | gender | race | age_p1 | WstFTND_cat_p2 | Goldneg1 | Gold1or2 | Gold3or4 | \n",
       "|---|---|---|---|---|---|\n",
       "| 103 | 10161E | 1      | 1      | 73.8   | 2      | 1      | 0      | 0      | \n",
       "| 105 | 10260G | 1      | 1      | 68.4   | 1      | 1      | 0      | 0      | \n",
       "| 107 | 10489M | 2      | 1      | 60.0   | 1      | 1      | 0      | 0      | \n",
       "| 108 | 10511F | 2      | 1      | 80.6   | 0      | 1      | 0      | 0      | \n",
       "| 110 | 10558F | 1      | 1      | 60.9   | 1      | 1      | 0      | 0      | \n",
       "| 118 | 10771F | 1      | 1      | 69.9   | 0      | 1      | 0      | 0      | \n",
       "\n",
       "\n"
      ],
      "text/plain": [
       "    sid    gender race age_p1 WstFTND_cat_p2 Goldneg1 Gold1or2 Gold3or4\n",
       "103 10161E 1      1    73.8   2              1        0        0       \n",
       "105 10260G 1      1    68.4   1              1        0        0       \n",
       "107 10489M 2      1    60.0   1              1        0        0       \n",
       "108 10511F 2      1    80.6   0              1        0        0       \n",
       "110 10558F 1      1    60.9   1              1        0        0       \n",
       "118 10771F 1      1    69.9   0              1        0        0       "
      ]
     },
     "metadata": {},
     "output_type": "display_data"
    }
   ],
   "source": [
    "wst.ftnd.fg.sex.age1.filter <- wst.ftnd.fg.sex.filtered[complete.cases(wst.ftnd.fg.sex.filtered[,\"age_p1\"]),]\n",
    "\n",
    "print(\"Number of COPDGene2 subjects after FTND, finalgold, sex, and age (p1) filtering.\")\n",
    "length(wst.ftnd.fg.sex.age1.filter[,1])\n",
    "\n",
    "variables.of.interest1 <- c(\"sid\", \"gender\", \"race\", \"age_p1\", \"WstFTND_cat_p2\", \"Goldneg1\", \"Gold1or2\", \"Gold3or4\")\n",
    "pheno1 <- wst.ftnd.fg.sex.age1.filter[,variables.of.interest1]\n",
    "\n",
    "print(\"Head of filtered data (age_p1).\")\n",
    "head(pheno1)\n",
    "\n",
    "setwd(\"C:/Users/jmarks/Desktop/Projects/Nicotine/COPDGene/pheno/two\")\n",
    "write.table(pheno1, \"phenotype.ftnd.fg.sex.age1.filtered.txt\", sep = \" \", row.names = F, quote = F)"
   ]
  },
  {
   "cell_type": "markdown",
   "metadata": {},
   "source": [
    "##### age_p2\n",
    "\n",
    "Filter by variable `age_p2` then write to file."
   ]
  },
  {
   "cell_type": "code",
   "execution_count": 6,
   "metadata": {},
   "outputs": [
    {
     "name": "stdout",
     "output_type": "stream",
     "text": [
      "[1] \"Number of COPDGene2 subjects after FTND, finalgold, sex, and age (p2) filtering.\"\n"
     ]
    },
    {
     "data": {
      "text/html": [
       "2735"
      ],
      "text/latex": [
       "2735"
      ],
      "text/markdown": [
       "2735"
      ],
      "text/plain": [
       "[1] 2735"
      ]
     },
     "metadata": {},
     "output_type": "display_data"
    },
    {
     "name": "stdout",
     "output_type": "stream",
     "text": [
      "[1] \"Head of filtered data (age_p2).\"\n"
     ]
    },
    {
     "data": {
      "text/html": [
       "<table>\n",
       "<thead><tr><th></th><th scope=col>sid</th><th scope=col>gender</th><th scope=col>race</th><th scope=col>age_p2</th><th scope=col>WstFTND_cat_p2</th><th scope=col>Goldneg1</th><th scope=col>Gold1or2</th><th scope=col>Gold3or4</th></tr></thead>\n",
       "<tbody>\n",
       "\t<tr><th scope=row>103</th><td>10161E</td><td>1     </td><td>1     </td><td>79.1  </td><td>2     </td><td>1     </td><td>0     </td><td>0     </td></tr>\n",
       "\t<tr><th scope=row>105</th><td>10260G</td><td>1     </td><td>1     </td><td>73.9  </td><td>1     </td><td>1     </td><td>0     </td><td>0     </td></tr>\n",
       "\t<tr><th scope=row>107</th><td>10489M</td><td>2     </td><td>1     </td><td>65.8  </td><td>1     </td><td>1     </td><td>0     </td><td>0     </td></tr>\n",
       "\t<tr><th scope=row>108</th><td>10511F</td><td>2     </td><td>1     </td><td>87.4  </td><td>0     </td><td>1     </td><td>0     </td><td>0     </td></tr>\n",
       "\t<tr><th scope=row>110</th><td>10558F</td><td>1     </td><td>1     </td><td>66.8  </td><td>1     </td><td>1     </td><td>0     </td><td>0     </td></tr>\n",
       "\t<tr><th scope=row>118</th><td>10771F</td><td>1     </td><td>1     </td><td>75.6  </td><td>0     </td><td>1     </td><td>0     </td><td>0     </td></tr>\n",
       "</tbody>\n",
       "</table>\n"
      ],
      "text/latex": [
       "\\begin{tabular}{r|llllllll}\n",
       "  & sid & gender & race & age\\_p2 & WstFTND\\_cat\\_p2 & Goldneg1 & Gold1or2 & Gold3or4\\\\\n",
       "\\hline\n",
       "\t103 & 10161E & 1      & 1      & 79.1   & 2      & 1      & 0      & 0     \\\\\n",
       "\t105 & 10260G & 1      & 1      & 73.9   & 1      & 1      & 0      & 0     \\\\\n",
       "\t107 & 10489M & 2      & 1      & 65.8   & 1      & 1      & 0      & 0     \\\\\n",
       "\t108 & 10511F & 2      & 1      & 87.4   & 0      & 1      & 0      & 0     \\\\\n",
       "\t110 & 10558F & 1      & 1      & 66.8   & 1      & 1      & 0      & 0     \\\\\n",
       "\t118 & 10771F & 1      & 1      & 75.6   & 0      & 1      & 0      & 0     \\\\\n",
       "\\end{tabular}\n"
      ],
      "text/markdown": [
       "\n",
       "| <!--/--> | sid | gender | race | age_p2 | WstFTND_cat_p2 | Goldneg1 | Gold1or2 | Gold3or4 | \n",
       "|---|---|---|---|---|---|\n",
       "| 103 | 10161E | 1      | 1      | 79.1   | 2      | 1      | 0      | 0      | \n",
       "| 105 | 10260G | 1      | 1      | 73.9   | 1      | 1      | 0      | 0      | \n",
       "| 107 | 10489M | 2      | 1      | 65.8   | 1      | 1      | 0      | 0      | \n",
       "| 108 | 10511F | 2      | 1      | 87.4   | 0      | 1      | 0      | 0      | \n",
       "| 110 | 10558F | 1      | 1      | 66.8   | 1      | 1      | 0      | 0      | \n",
       "| 118 | 10771F | 1      | 1      | 75.6   | 0      | 1      | 0      | 0      | \n",
       "\n",
       "\n"
      ],
      "text/plain": [
       "    sid    gender race age_p2 WstFTND_cat_p2 Goldneg1 Gold1or2 Gold3or4\n",
       "103 10161E 1      1    79.1   2              1        0        0       \n",
       "105 10260G 1      1    73.9   1              1        0        0       \n",
       "107 10489M 2      1    65.8   1              1        0        0       \n",
       "108 10511F 2      1    87.4   0              1        0        0       \n",
       "110 10558F 1      1    66.8   1              1        0        0       \n",
       "118 10771F 1      1    75.6   0              1        0        0       "
      ]
     },
     "metadata": {},
     "output_type": "display_data"
    }
   ],
   "source": [
    "wst.ftnd.fg.sex.age2.filter <- wst.ftnd.fg.sex.filtered[complete.cases(wst.ftnd.fg.sex.filtered[,\"age_p2\"]),]\n",
    "\n",
    "print(\"Number of COPDGene2 subjects after FTND, finalgold, sex, and age (p2) filtering.\")\n",
    "length(wst.ftnd.fg.sex.age2.filter[,1])\n",
    "\n",
    "variables.of.interest2 <- c(\"sid\", \"gender\", \"race\", \"age_p2\", \"WstFTND_cat_p2\", \"Goldneg1\", \"Gold1or2\", \"Gold3or4\")\n",
    "pheno2 <- wst.ftnd.fg.sex.age2.filter[,variables.of.interest2]\n",
    "\n",
    "print(\"Head of filtered data (age_p2).\")\n",
    "head(pheno2)\n",
    "\n",
    "setwd(\"C:/Users/jmarks/Desktop/Projects/Nicotine/COPDGene/pheno/two\")\n",
    "write.table(pheno2, \"phenotype.ftnd.fg.sex.age2.filtered.txt\", sep = \" \", row.names = F, quote = F)"
   ]
  },
  {
   "cell_type": "markdown",
   "metadata": {},
   "source": [
    "##### Impute missing age `age_p3`\n",
    "Going to impute the missing age data for the subjects that have missing `age_p2` data. We will do this by creating a third variable `age_p3` which finds the median (or mean) of the age difference between the subjects that have data at both `age_p1` and `age_p2`. I will add the median (or mean) of this age difference to `age_p1` to produce the new entry for `age_p3` for the subjects that have missing `age_p2` data. If the subject is not missing `age_p2`, then the value of `age_p3` for that subject will just be the value given at `age_p2`.\n",
    "\n",
    "<a id='missing_subs'></a>"
   ]
  },
  {
   "cell_type": "code",
   "execution_count": 7,
   "metadata": {},
   "outputs": [
    {
     "name": "stdout",
     "output_type": "stream",
     "text": [
      "[1] \"Head of table for data pre-age filtered.\"\n"
     ]
    },
    {
     "data": {
      "text/html": [
       "<table>\n",
       "<thead><tr><th></th><th scope=col>sid</th><th scope=col>gender</th><th scope=col>race</th><th scope=col>ethnic</th><th scope=col>fagerstrom_index</th><th scope=col>finalgold</th><th scope=col>age_p1</th><th scope=col>age_p2</th><th scope=col>have_lfu</th><th scope=col>fagerstrom_index_lfu</th><th scope=col>CurFTND_cat_p1</th><th scope=col>WstFTND_cat_p2</th><th scope=col>Gold_Cat</th><th scope=col>Goldneg1</th><th scope=col>Gold1or2</th><th scope=col>Gold3or4</th></tr></thead>\n",
       "<tbody>\n",
       "\t<tr><th scope=row>103</th><td>10161E</td><td>1     </td><td>1     </td><td>2     </td><td>NA    </td><td>-1    </td><td>73.8  </td><td>79.1  </td><td>LFU   </td><td>9     </td><td>NA    </td><td>2     </td><td>1     </td><td>1     </td><td>0     </td><td>0     </td></tr>\n",
       "\t<tr><th scope=row>105</th><td>10260G</td><td>1     </td><td>1     </td><td>2     </td><td>NA    </td><td>-1    </td><td>68.4  </td><td>73.9  </td><td>LFU   </td><td>5     </td><td>NA    </td><td>1     </td><td>1     </td><td>1     </td><td>0     </td><td>0     </td></tr>\n",
       "\t<tr><th scope=row>107</th><td>10489M</td><td>2     </td><td>1     </td><td>2     </td><td>NA    </td><td>-1    </td><td>60.0  </td><td>65.8  </td><td>LFU   </td><td>4     </td><td>NA    </td><td>1     </td><td>1     </td><td>1     </td><td>0     </td><td>0     </td></tr>\n",
       "\t<tr><th scope=row>108</th><td>10511F</td><td>2     </td><td>1     </td><td>2     </td><td>NA    </td><td>-1    </td><td>80.6  </td><td>87.4  </td><td>LFU   </td><td>3     </td><td>NA    </td><td>0     </td><td>1     </td><td>1     </td><td>0     </td><td>0     </td></tr>\n",
       "\t<tr><th scope=row>110</th><td>10558F</td><td>1     </td><td>1     </td><td>2     </td><td>NA    </td><td>-1    </td><td>60.9  </td><td>66.8  </td><td>LFU   </td><td>5     </td><td>NA    </td><td>1     </td><td>1     </td><td>1     </td><td>0     </td><td>0     </td></tr>\n",
       "\t<tr><th scope=row>118</th><td>10771F</td><td>1     </td><td>1     </td><td>2     </td><td>NA    </td><td>-1    </td><td>69.9  </td><td>75.6  </td><td>LFU   </td><td>3     </td><td>NA    </td><td>0     </td><td>1     </td><td>1     </td><td>0     </td><td>0     </td></tr>\n",
       "</tbody>\n",
       "</table>\n"
      ],
      "text/latex": [
       "\\begin{tabular}{r|llllllllllllllll}\n",
       "  & sid & gender & race & ethnic & fagerstrom\\_index & finalgold & age\\_p1 & age\\_p2 & have\\_lfu & fagerstrom\\_index\\_lfu & CurFTND\\_cat\\_p1 & WstFTND\\_cat\\_p2 & Gold\\_Cat & Goldneg1 & Gold1or2 & Gold3or4\\\\\n",
       "\\hline\n",
       "\t103 & 10161E & 1      & 1      & 2      & NA     & -1     & 73.8   & 79.1   & LFU    & 9      & NA     & 2      & 1      & 1      & 0      & 0     \\\\\n",
       "\t105 & 10260G & 1      & 1      & 2      & NA     & -1     & 68.4   & 73.9   & LFU    & 5      & NA     & 1      & 1      & 1      & 0      & 0     \\\\\n",
       "\t107 & 10489M & 2      & 1      & 2      & NA     & -1     & 60.0   & 65.8   & LFU    & 4      & NA     & 1      & 1      & 1      & 0      & 0     \\\\\n",
       "\t108 & 10511F & 2      & 1      & 2      & NA     & -1     & 80.6   & 87.4   & LFU    & 3      & NA     & 0      & 1      & 1      & 0      & 0     \\\\\n",
       "\t110 & 10558F & 1      & 1      & 2      & NA     & -1     & 60.9   & 66.8   & LFU    & 5      & NA     & 1      & 1      & 1      & 0      & 0     \\\\\n",
       "\t118 & 10771F & 1      & 1      & 2      & NA     & -1     & 69.9   & 75.6   & LFU    & 3      & NA     & 0      & 1      & 1      & 0      & 0     \\\\\n",
       "\\end{tabular}\n"
      ],
      "text/markdown": [
       "\n",
       "| <!--/--> | sid | gender | race | ethnic | fagerstrom_index | finalgold | age_p1 | age_p2 | have_lfu | fagerstrom_index_lfu | CurFTND_cat_p1 | WstFTND_cat_p2 | Gold_Cat | Goldneg1 | Gold1or2 | Gold3or4 | \n",
       "|---|---|---|---|---|---|\n",
       "| 103 | 10161E | 1      | 1      | 2      | NA     | -1     | 73.8   | 79.1   | LFU    | 9      | NA     | 2      | 1      | 1      | 0      | 0      | \n",
       "| 105 | 10260G | 1      | 1      | 2      | NA     | -1     | 68.4   | 73.9   | LFU    | 5      | NA     | 1      | 1      | 1      | 0      | 0      | \n",
       "| 107 | 10489M | 2      | 1      | 2      | NA     | -1     | 60.0   | 65.8   | LFU    | 4      | NA     | 1      | 1      | 1      | 0      | 0      | \n",
       "| 108 | 10511F | 2      | 1      | 2      | NA     | -1     | 80.6   | 87.4   | LFU    | 3      | NA     | 0      | 1      | 1      | 0      | 0      | \n",
       "| 110 | 10558F | 1      | 1      | 2      | NA     | -1     | 60.9   | 66.8   | LFU    | 5      | NA     | 1      | 1      | 1      | 0      | 0      | \n",
       "| 118 | 10771F | 1      | 1      | 2      | NA     | -1     | 69.9   | 75.6   | LFU    | 3      | NA     | 0      | 1      | 1      | 0      | 0      | \n",
       "\n",
       "\n"
      ],
      "text/plain": [
       "    sid    gender race ethnic fagerstrom_index finalgold age_p1 age_p2 have_lfu\n",
       "103 10161E 1      1    2      NA               -1        73.8   79.1   LFU     \n",
       "105 10260G 1      1    2      NA               -1        68.4   73.9   LFU     \n",
       "107 10489M 2      1    2      NA               -1        60.0   65.8   LFU     \n",
       "108 10511F 2      1    2      NA               -1        80.6   87.4   LFU     \n",
       "110 10558F 1      1    2      NA               -1        60.9   66.8   LFU     \n",
       "118 10771F 1      1    2      NA               -1        69.9   75.6   LFU     \n",
       "    fagerstrom_index_lfu CurFTND_cat_p1 WstFTND_cat_p2 Gold_Cat Goldneg1\n",
       "103 9                    NA             2              1        1       \n",
       "105 5                    NA             1              1        1       \n",
       "107 4                    NA             1              1        1       \n",
       "108 3                    NA             0              1        1       \n",
       "110 5                    NA             1              1        1       \n",
       "118 3                    NA             0              1        1       \n",
       "    Gold1or2 Gold3or4\n",
       "103 0        0       \n",
       "105 0        0       \n",
       "107 0        0       \n",
       "108 0        0       \n",
       "110 0        0       \n",
       "118 0        0       "
      ]
     },
     "metadata": {},
     "output_type": "display_data"
    },
    {
     "name": "stdout",
     "output_type": "stream",
     "text": [
      "The mean age difference of age_p2 and age_p1 of COPDGene2 subjects is:  5.604552\n",
      "The median age difference of age_p2 and age_p1 of COPDGene2 subjects is:  5.400002"
     ]
    },
    {
     "data": {
      "image/png": "[encoded data removed]",
      "text/plain": [
       "Plot with title \"Age difference of COPDGene2 subjects with \n",
       " complete age_p1 and age_p2 variables.\""
      ]
     },
     "metadata": {},
     "output_type": "display_data"
    }
   ],
   "source": [
    "# COPDGene2 subjects pre-age filtering\n",
    "print(\"Head of table for data pre-age filtered.\")\n",
    "#head(wst.ftnd.fg.sex.filtered)\n",
    "\n",
    "age_intersect_df <- wst.ftnd.fg.sex.filtered[complete.cases(wst.ftnd.fg.sex.filtered$age_p1, wst.ftnd.fg.sex.filtered$age_p2),]\n",
    "age_p3 <- wst.ftnd.fg.sex.filtered$age_p2 - wst.ftnd.fg.sex.filtered$age_p1\n",
    "head(age_intersect_df)\n",
    "\n",
    "mean_age_dif <- mean(age_intersect_df$age_p2 - age_intersect_df$age_p1)\n",
    "cat(\"The mean age difference of age_p2 and age_p1 of COPDGene2 subjects is: \" , mean_age_dif)\n",
    "\n",
    "median_age_dif <- median(age_intersect_df$age_p2 - age_intersect_df$age_p1)\n",
    "cat(\"\\n\")\n",
    "cat(\"The median age difference of age_p2 and age_p1 of COPDGene2 subjects is: \" , median_age_dif)\n",
    "\n",
    "# get a distribution of the age \n",
    "hist(age_p3, main = \"Age difference of COPDGene2 subjects with \\n complete age_p1 and age_p2 variables.\",\n",
    "    xlab = \"age difference\")\n",
    "# add the third variable age_p3 in the dataframe."
   ]
  },
  {
   "cell_type": "code",
   "execution_count": 49,
   "metadata": {},
   "outputs": [
    {
     "data": {
      "text/html": [
       "<table>\n",
       "<thead><tr><th></th><th scope=col>sid</th><th scope=col>gender</th><th scope=col>race</th><th scope=col>age_p3</th><th scope=col>WstFTND_cat_p2</th><th scope=col>Goldneg1</th><th scope=col>Gold1or2</th><th scope=col>Gold3or4</th></tr></thead>\n",
       "<tbody>\n",
       "\t<tr><th scope=row>103</th><td>10161E</td><td>1     </td><td>1     </td><td>79.1  </td><td>2     </td><td>1     </td><td>0     </td><td>0     </td></tr>\n",
       "\t<tr><th scope=row>105</th><td>10260G</td><td>1     </td><td>1     </td><td>73.9  </td><td>1     </td><td>1     </td><td>0     </td><td>0     </td></tr>\n",
       "\t<tr><th scope=row>107</th><td>10489M</td><td>2     </td><td>1     </td><td>65.8  </td><td>1     </td><td>1     </td><td>0     </td><td>0     </td></tr>\n",
       "\t<tr><th scope=row>108</th><td>10511F</td><td>2     </td><td>1     </td><td>87.4  </td><td>0     </td><td>1     </td><td>0     </td><td>0     </td></tr>\n",
       "\t<tr><th scope=row>110</th><td>10558F</td><td>1     </td><td>1     </td><td>66.8  </td><td>1     </td><td>1     </td><td>0     </td><td>0     </td></tr>\n",
       "\t<tr><th scope=row>118</th><td>10771F</td><td>1     </td><td>1     </td><td>75.6  </td><td>0     </td><td>1     </td><td>0     </td><td>0     </td></tr>\n",
       "</tbody>\n",
       "</table>\n"
      ],
      "text/latex": [
       "\\begin{tabular}{r|llllllll}\n",
       "  & sid & gender & race & age\\_p3 & WstFTND\\_cat\\_p2 & Goldneg1 & Gold1or2 & Gold3or4\\\\\n",
       "\\hline\n",
       "\t103 & 10161E & 1      & 1      & 79.1   & 2      & 1      & 0      & 0     \\\\\n",
       "\t105 & 10260G & 1      & 1      & 73.9   & 1      & 1      & 0      & 0     \\\\\n",
       "\t107 & 10489M & 2      & 1      & 65.8   & 1      & 1      & 0      & 0     \\\\\n",
       "\t108 & 10511F & 2      & 1      & 87.4   & 0      & 1      & 0      & 0     \\\\\n",
       "\t110 & 10558F & 1      & 1      & 66.8   & 1      & 1      & 0      & 0     \\\\\n",
       "\t118 & 10771F & 1      & 1      & 75.6   & 0      & 1      & 0      & 0     \\\\\n",
       "\\end{tabular}\n"
      ],
      "text/markdown": [
       "\n",
       "| <!--/--> | sid | gender | race | age_p3 | WstFTND_cat_p2 | Goldneg1 | Gold1or2 | Gold3or4 | \n",
       "|---|---|---|---|---|---|\n",
       "| 103 | 10161E | 1      | 1      | 79.1   | 2      | 1      | 0      | 0      | \n",
       "| 105 | 10260G | 1      | 1      | 73.9   | 1      | 1      | 0      | 0      | \n",
       "| 107 | 10489M | 2      | 1      | 65.8   | 1      | 1      | 0      | 0      | \n",
       "| 108 | 10511F | 2      | 1      | 87.4   | 0      | 1      | 0      | 0      | \n",
       "| 110 | 10558F | 1      | 1      | 66.8   | 1      | 1      | 0      | 0      | \n",
       "| 118 | 10771F | 1      | 1      | 75.6   | 0      | 1      | 0      | 0      | \n",
       "\n",
       "\n"
      ],
      "text/plain": [
       "    sid    gender race age_p3 WstFTND_cat_p2 Goldneg1 Gold1or2 Gold3or4\n",
       "103 10161E 1      1    79.1   2              1        0        0       \n",
       "105 10260G 1      1    73.9   1              1        0        0       \n",
       "107 10489M 2      1    65.8   1              1        0        0       \n",
       "108 10511F 2      1    87.4   0              1        0        0       \n",
       "110 10558F 1      1    66.8   1              1        0        0       \n",
       "118 10771F 1      1    75.6   0              1        0        0       "
      ]
     },
     "metadata": {},
     "output_type": "display_data"
    }
   ],
   "source": [
    "library(tibble)\n",
    "\n",
    "wst.ftnd.fg.sex.age3.filtered <- add_column(wst.ftnd.fg.sex.filtered, age_p3 =wst.ftnd.fg.sex.filtered$age_p2 , .after = 8)\n",
    "\n",
    "# replace NA values in age_p3 with the value from age_p1 + median_age_dif (between age_p2 and age_p1)\n",
    "for(i in 1:nrow(wst.ftnd.fg.sex.age3.filtered)){\n",
    "    if (is.na(wst.ftnd.fg.sex.age3.filtered[i, \"age_p3\"])){\n",
    "        wst.ftnd.fg.sex.age3.filtered[i, \"age_p3\"] <- wst.ftnd.fg.sex.age3.filtered[i, \"age_p1\"] + median_age_dif\n",
    "    }\n",
    "}\n",
    "#length(wst.ftnd.fg.sex.age3.filtered[,1])\n",
    "\n",
    "variables.of.interest3 <- c(\"sid\", \"gender\", \"race\", \"age_p3\", \"WstFTND_cat_p2\", \"Goldneg1\", \"Gold1or2\", \"Gold3or4\")\n",
    "wst.ftnd.fg.sex.age3.filtered <- wst.ftnd.fg.sex.age3.filtered[, variables.of.interest3]\n",
    "\n",
    "head(wst.ftnd.fg.sex.age3.filtered)\n",
    "# next I need to subset this dataframe to only the columns of interest and then save it to file\n",
    "\n",
    "setwd(\"C:/Users/jmarks/Desktop/Projects/Nicotine/COPDGene/pheno/two\")\n",
    "write.table(pheno1, \"phenotype.ftnd.fg.sex.age3.filtered.txt\", sep = \" \", row.names = F, quote = F)"
   ]
  },
  {
   "cell_type": "markdown",
   "metadata": {},
   "source": [
    "#### Genotype filter V1\n",
    "\n",
    "Construct subject-filtered PLINK file sets by filterine out subjects missing genotype data.\n",
    "\n",
    "* This version is when we were testing the two datasets, one that include `age_p1` and the other that included `age_p2`\n",
    "* See the section below [genotype filter V2](#geno2) for the filtering that was ultimately used which was on the phenotype data that included the newly created variable `age_p3`"
   ]
  },
  {
   "cell_type": "code",
   "execution_count": null,
   "metadata": {},
   "outputs": [],
   "source": [
    "## local machine ##\n",
    "cd /cygdrive/c/Users/jmarks/Desktop/Projects/Nicotine/COPDGene/pheno/two\n",
    "\n",
    "# create directory structure on MIDAS\n",
    "mkdir -p /share/nas03/jmarks/studies/copdgene2/{eigenstrat,data/{assoc_tests,genotype/{observed,imputed},phenotype}}\n",
    "\n",
    "# copy phenotype data over to MIDAS\n",
    "#scp phenotype.ftnd.fg.sex.age1.filtered.txt jmarks@rtplhpc01.rti.ns:/share/nas03/jmarks/studies/copdgene2/data/phenotype/\n",
    "#scp phenotype.ftnd.fg.sex.age2.filtered.txt jmarks@rtplhpc01.rti.ns:/share/nas03/jmarks/studies/copdgene2/data/phenotype/\n",
    "scp phenotype.ftnd.fg.sex.age3.filtered.txt jmarks@rtplhpc01.rti.ns:/share/nas03/jmarks/studies/copdgene2/data/phenotype/"
   ]
  },
  {
   "cell_type": "code",
   "execution_count": null,
   "metadata": {},
   "outputs": [],
   "source": [
    "## MIDAS console ##\n",
    "cd /share/nas03/jmarks/studies/copdgene2/data/\n",
    "\n",
    "cp /share/nas03/bioinformatics_group/data/studies/copdgene/observed/final_filtered/gxg_qc/copdgene.{aa,ea}.{fam,bim,bed} \\\n",
    "    genotype/observed\n",
    "\n",
    "## create a new PLINK fam file based on subjects with phenotype and genotype data\n",
    "### age_p1 filter\n",
    "#### EA\n",
    "#awk 'FNR==NR {a[$1]; next} ($2 in a)' phenotype/phenotype.ftnd.fg.sex.age1.filtered.txt \\\n",
    "#    genotype/observed/copdgene.ea.fam > phenotype/ea.phenotype1.all.filters.txt\n",
    "#     \n",
    "#### AA\n",
    "#awk 'FNR==NR {a[$1]; next} ($2 in a)' phenotype/phenotype.ftnd.fg.sex.age1.filtered.txt \\\n",
    "#    genotype/observed/copdgene.aa.fam > phenotype/aa.phenotype1.all.filters.txt\n",
    "#     \n",
    "#\n",
    "### age_p2 filter\n",
    "#### EA\n",
    "#awk 'FNR==NR {a[$1]; next} ($2 in a)' phenotype/phenotype.ftnd.fg.sex.age2.filtered.txt\\\n",
    "#    genotype/observed/copdgene.ea.fam > phenotype/ea.phenotype2.all.filters.txt\n",
    "#     \n",
    "#### AA\n",
    "#awk 'FNR==NR {a[$1]; next} ($2 in a)' phenotype/phenotype.ftnd.fg.sex.age2.filtered.txt \\\n",
    "#    genotype/observed/copdgene.aa.fam > phenotype/aa.phenotype2.all.filters.txt\n",
    "#     "
   ]
  },
  {
   "cell_type": "markdown",
   "metadata": {},
   "source": [
    "#### Genotype filter V02\n",
    "Construct subject-filtered PLINK file sets by filtering out subjects missing genotype data.\n",
    "\n",
    "<a id='geno2'></a>"
   ]
  },
  {
   "cell_type": "code",
   "execution_count": null,
   "metadata": {},
   "outputs": [],
   "source": [
    "## MIDAS console ##\n",
    "cd /share/nas03/jmarks/studies/copdgene2/data/\n",
    "\n",
    "# create a new PLINK fam file based on subjects with phenotype and genotype data\n",
    "## age_p1 filter\n",
    "### EA\n",
    "awk 'FNR==NR {a[$1]; next} ($2 in a)' phenotype/phenotype.ftnd.fg.sex.age3.filtered.txt \\\n",
    "    genotype/observed/copdgene.ea.fam > phenotype/ea.phenotype3.all.filters.fam\n",
    "     \n",
    "### AA\n",
    "awk 'FNR==NR {a[$1]; next} ($2 in a)' phenotype/phenotype.ftnd.fg.sex.age3.filtered.txt \\\n",
    "    genotype/observed/copdgene.aa.fam > phenotype/aa.phenotype3.all.filters.fam\n",
    "\n"
   ]
  },
  {
   "cell_type": "markdown",
   "metadata": {},
   "source": [
    "### PCA (EIGENSTRAT)\n",
    "\n",
    "To obtain principal component covariates to use in the GWAS statistical model, EIGENSTRAT is run on LD-pruned observed genotypes for each ancestry group. \n",
    "\n",
    "\n",
    "#### Construct subject-filtered PLINK file sets"
   ]
  },
  {
   "cell_type": "code",
   "execution_count": null,
   "metadata": {},
   "outputs": [],
   "source": [
    "## MIDAS ##\n",
    "cd /shared/s3/copdgene2/data/phenotype\n",
    "\n",
    "# generate ID list to filter data with\n",
    "\n",
    "#awk ' NR>=1 { print $1,$1 }' aa.phenotype3.all.filters.fam > id_list.aa.txt\n",
    "#awk ' NR>=1 { print $1,$1 }' ea.phenotype3.all.filters.fam > id_list.ea.txt\n",
    "awk ' NR>=2 { print $1,$1 }' phenotype.ftnd.fg.sex.age3.filtered.txt > id_list.txt\n",
    "\n",
    "\n",
    "# Remove subjects by phenotype criteria\n",
    "## EA & AA\n",
    "base_dir=/shared/s3/copdgene2\n",
    "for ancestry in {\"ea\",\"aa\"}; do\n",
    "    /shared/bioinformatics/software/third_party/plink-1.90-beta-4.10-x86_64/plink \\\n",
    "        --noweb \\\n",
    "        --memory 2048 \\\n",
    "        --bfile ${base_dir}/data/genotype/observed/copdgene.${ancestry} \\\n",
    "        --keep id_list.${ancestry}.txt \\\n",
    "        --make-bed \\\n",
    "        --out ${base_dir}/eigenstrat/${ancestry}_pheno_filter\n",
    "done\n",
    "\n",
    "for ancestry in {aa,ea}; do\n",
    "    /shared/bioinformatics/software/third_party/plink-1.90-beta-4.10-x86_64/plink \\\n",
    "        --noweb \\\n",
    "        --memory 2048 \\\n",
    "        --bfile ${base_dir}/data/genotype/observed/copdgene.${ancestry} \\\n",
    "        --keep id_list.txt \\\n",
    "        --make-bed \\\n",
    "        --out ${base_dir}/eigenstrat/${ancestry}_pheno_filter\n",
    "done\n",
    "\n",
    "wc -l ${base_dir}/eigenstrat/*.fam\n",
    "\"\"\"\n",
    " 267 aa_pheno_filter.fam\n",
    " 2630 ea_pheno_filter.fam\n",
    " 2897 total\n",
    "\"\"\""
   ]
  },
  {
   "cell_type": "markdown",
   "metadata": {},
   "source": [
    "**note:** that it is not necessary to create the `id_list` with the all filters (including\n",
    " genotype filter) data set. I can simply create an `id_list` with the fileset that\n",
    " includes all of the filters applied except the genotype filter. I don't need an `id_list` with\n",
    " the genotype filter applied because if the subjects are not in the genotype file they will not be included \n",
    " once I apply the PLINK filter command anyways. "
   ]
  },
  {
   "cell_type": "markdown",
   "metadata": {},
   "source": [
    "#### Remove high-LD region variants"
   ]
  },
  {
   "cell_type": "code",
   "execution_count": null,
   "metadata": {},
   "outputs": [],
   "source": [
    "## EC2 ##\n",
    "cd /shared/s3/copdgene2/eigenstrat\n",
    "\n",
    "# Remove high-LD region variants\n",
    "for ancestry in {\"ea\",\"aa\"}; do\n",
    "    # Generate list of variants in known high-LD regions\n",
    "    perl -lane 'if (($F[0]==5 && $F[3] >= 43964243 && $F[3] <= 51464243) || ($F[0]==6 && $F[3] >= 24892021 && $F[3] <= 33392022) || ($F[0]==8 && $F[3] >= 7962590 && $F[3] <= 11962591) || ($F[0]==11 && $F[3] >= 45043424 && $F[3] <= 57243424)) { print $F[1].\"\\n\"; }' ${ancestry}_pheno_filter.bim \\\n",
    "        > ${ancestry}.high_ld_regions.remove\n",
    "\n",
    "    # Remove SNPs in known high-LD regions\n",
    "    /shared/bioinformatics/software/third_party/plink-1.90-beta-4.10-x86_64/plink \\\n",
    "        --noweb \\\n",
    "        --memory 2048 \\\n",
    "        --bfile ${ancestry}_pheno_filter \\\n",
    "        --exclude ${ancestry}.high_ld_regions.remove \\\n",
    "        --make-bed \\\n",
    "        --out ${ancestry}_pheno_filter_high_ld_regions_removed\n",
    "done\n",
    "\n",
    "wc -l *.bim\n",
    "\"\"\"\n",
    "  674935 aa_pheno_filter.bim\n",
    "  665179 aa_pheno_filter_high_ld_regions_removed.bim\n",
    "  622168 ea_pheno_filter.bim\n",
    "  612893 ea_pheno_filter_high_ld_regions_removed.bim\n",
    " 2575175 total\n",
    "\"\"\""
   ]
  },
  {
   "cell_type": "markdown",
   "metadata": {},
   "source": [
    "#### Linkage disequilibrium pruning¶\n",
    "Linkage disequilibrium (LD) pruning eliminates a large degree of redundancy in the data and reduces the influence of chromosomal artifacts. The objective of LD pruning is to select a subset of variants based off of LD such that the variants in the subset are independent. This filtering will not carry forward to the final processed results, but this step improves the quality of EIGENSTRAT calculations. Consequently, the LD pruned data will be used as input for those calculations.\n",
    "\n",
    "LD pruning is implemented using PLINK `--indep-pairwise.` "
   ]
  },
  {
   "cell_type": "code",
   "execution_count": null,
   "metadata": {},
   "outputs": [],
   "source": [
    "## EC2 ##\n",
    "cd /shared/s3/copdgene2/eigenstrat\n",
    "\n",
    "# Remove high-LD region variants\n",
    "for ancestry in {\"ea\",\"aa\"}; do\n",
    "    # Run per chromosome LD pruning for each chr\n",
    "    for chr in {1..23}; do\n",
    "        sh /shared/bioinformatics/software/scripts/qsub_job.sh \\\n",
    "            --job_name ${ancestry}_${chr}_ld_prune \\\n",
    "            --script_prefix ${ancestry}_${chr}_ld_prune \\\n",
    "            --mem 3.5 \\\n",
    "            --priority 0 \\\n",
    "            --program /shared/bioinformatics/software/third_party/plink-1.90-beta-4.10-x86_64/plink \\\n",
    "                --noweb \\\n",
    "                --memory 3500 \\\n",
    "                --bfile ${ancestry}_pheno_filter_high_ld_regions_removed \\\n",
    "                --indep-pairwise 1500 150 0.2 \\\n",
    "                --chr ${chr} \\\n",
    "                --out ${ancestry}_chr${chr}_ld_pruned\n",
    "    done\n",
    "done\n",
    "\n",
    "# Note, make sure to wait until the above jobs have been completed\n",
    "#Create LD pruned PLINK file sets\n",
    "for ancestry in {\"ea\",\"aa\"}; do\n",
    "    # Merge *prune.in files\n",
    "    cat ${ancestry}_chr*_ld_pruned.prune.in > ${ancestry}_chr_all_ld_pruned.prune.in\n",
    "\n",
    "    # Create new PLINK filesets with only lD pruned variants\n",
    "    /shared/bioinformatics/software/third_party/plink-1.90-beta-4.10-x86_64/plink \\\n",
    "        --noweb \\\n",
    "        --memory 2048 \\\n",
    "        --bfile ${ancestry}_pheno_filter_high_ld_regions_removed \\\n",
    "        --extract ${ancestry}_chr_all_ld_pruned.prune.in \\\n",
    "        --make-bed \\\n",
    "        --out ${ancestry}_ld_pruned\n",
    "done\n",
    "\n",
    "# Clean up\n",
    "rm *ld_pruned.{prune.in,prune.out,log}\n",
    "rm *qsub*\n",
    "rm *high_ld_regions*\n",
    "rm *nosex\n",
    "rm *pheno_filter*\n",
    "\n",
    "wc -l *.bim\n",
    "\"\"\"\n",
    "219907 aa_ld_pruned.bim\n",
    "110055 ea_ld_pruned.bim\n",
    "329962 total\n",
    "\"\"\""
   ]
  },
  {
   "cell_type": "markdown",
   "metadata": {},
   "source": [
    "#### Rename BIM/FAM file IDs\n",
    "BIM and FAM file IDs have the potential issue of being too long if encoded using the 1000 Genomes Phase 3 IMPUTE2 format. This will cause smartpca to throw an error. To resolve this the IDs are replaced by numeric values if needed."
   ]
  },
  {
   "cell_type": "code",
   "execution_count": null,
   "metadata": {},
   "outputs": [],
   "source": [
    "## EC2 ##\n",
    "cd /shared/s3/copdgene2/eigenstrat\n",
    "\n",
    "# Count ID lengths greater than 39 characters\n",
    "ancestry=\"ea\"\n",
    "for ancestry in {\"ea\",\"aa\"}; do\n",
    "    echo -e \"\\n\\n======== ${ancestry} ========\\n\\n\"\n",
    "    awk '{ if(length($1)+length($2)>39){print $2} }' ${ancestry}_ld_pruned.fam | wc -l\n",
    "    awk '{ if(length($2)>39){print $2} }' ${ancestry}_ld_pruned.bim | wc -l\n",
    "done\n",
    "\n",
    "\"\"\"\n",
    "======== ea ========\n",
    "\n",
    "\n",
    "0\n",
    "0\n",
    "\n",
    "\n",
    "======== aa ========\n",
    "\n",
    "\n",
    "0\n",
    "0\n",
    "\"\"\"\n",
    "\n",
    "# Rename BIM file IDs\n",
    "# Make new BIM\n",
    "#awk '{$2=\"ID_\"NR; print $0}' ${ancestry}_ld_pruned.bim \\\n",
    "#    > ${ancestry}_ld_pruned_id_renamed.bim\n",
    "\n",
    "# Rename FAM file IDs\n",
    "# Make new FAM\n",
    "#awk '{$1=\"ID_\"NR; print $0}' ${ancestry}_ld_pruned.fam \\\n",
    "#   > ${ancestry}_ld_pruned_id_renamed.fam"
   ]
  },
  {
   "cell_type": "markdown",
   "metadata": {},
   "source": [
    "**Note**: based on these results, we will not rename the `bim` or `fam` files for either ancestry.\n",
    "**Also**: These data are have not been renamed to the 1000 Genomes Phase 3 format."
   ]
  },
  {
   "cell_type": "markdown",
   "metadata": {},
   "source": [
    "#### Remove Case-Control Status from .fam file\n",
    "We need to remove the case-control status in the last column of the `.fam` file. Some of the subjects have a 1, 2, or -9. When running `smartpca` because all of the subjects do not have a 1 or 2, which signifies case or control, then the subjects with a -9 entry will be assumed to be missing data and they will be removed from the outcome. To remedy this we will set all of the subjects to have -9 and then they will not be excluded from the outcome since none of the subjects have case-control status.\n",
    "\n",
    "The log file should say something like: \n",
    "`all individuals set ignore.  Likely input problem (col 6)\n",
    "resetting all individual...\n",
    "`"
   ]
  },
  {
   "cell_type": "code",
   "execution_count": null,
   "metadata": {},
   "outputs": [],
   "source": [
    "## EC2 ##\n",
    "cd /shared/s3/copdgene2/eigenstrat\n",
    "\n",
    "awk '{$6 = -9; print $0}' aa_ld_pruned.fam > aa_ld_pruned_final.fam\n",
    "awk '{$6 = -9; print $0}' ea_ld_pruned.fam > ea_ld_pruned_final.fam"
   ]
  },
  {
   "cell_type": "markdown",
   "metadata": {},
   "source": [
    "#### Run EIGENSTRAT\n",
    "**NOTE**: For `smartpca` to run, the BIM and FAM file IDs need to be less than 39 characters in length. Often this is not a problem, but with a BIM file that has IDs renamed to the 1000 Genomes Phase 3 format, the IDs for indels can exceed the character limit. Also, the EIGENSOFT bin directory should be in ~/.bashrc as an addition to the PATH variable. If it is not, it can be added as following\n",
    "\n",
    "export PATH=$PATH:/shared/bioinformatics/software/third_party/EIG-6.1.4/bin/ # Add EIGENSOFT bin to path\n",
    "\n",
    "The smartpca.pl program documentation is shown below:\n",
    "\n",
    "DOCUMENTATION of smartpca.pl program:\n",
    "\n",
    "This program calls the smartpca program (see ../POPGEN/README). For this to work, the bin directory containing smartpca MUST be in your path. See ./example.perl for a toy example.\n",
    "\n",
    "../bin/smartpca.pl \n",
    "-i example.geno  : genotype file in any format (see ../CONVERTF/README)\n",
    "-a example.snp   : snp file in any format (see ../CONVERTF/README)\n",
    "-b example.ind   : indiv file in any format (see ../CONVERTF/README)\n",
    "-k k             : (Default is 10) number of principal components to output\n",
    "-o example.pca   : output file of principal components.  Individuals removed\n",
    "                   as outliers will have all values set to 0.0 in this file.\n",
    "-p example.plot  : prefix of output plot files of top 2 principal components.\n",
    "                   (labeling individuals according to labels in indiv file)\n",
    "-e example.eval  : output file of all eigenvalues\n",
    "-l example.log   : output logfile\n",
    "-m maxiter       : (Default is 5) maximum number of outlier removal iterations.\n",
    "                   To turn off outlier removal, set -m 0.\n",
    "-t topk          : (Default is 10) number of principal components along which \n",
    "                   to remove outliers during each outlier removal iteration.\n",
    "-s sigma         : (Default is 6.0) number of standard deviations which an\n",
    "                   individual must exceed, along one of topk top principal\n",
    "           components, in order to be removed as an outlier.\n",
    "\n",
    "OPTIONAL FLAGS:\n",
    "-w poplist       : compute eigenvectors using populations in poplist only,\n",
    "                   where poplist is an ASCII file with one population per line\n",
    "-y plotlist      : output plot will include populations in plotlist only, \n",
    "                   where plotlist is an ASCII file with one population per line\n",
    "-z badsnpname    : list of SNPs which should be excluded from the analysis\n",
    "-q YES/NO        : If set to YES, assume that there is a single population and\n",
    "                   the population field contains real-valued phenotypes.\n",
    "           (Corresponds to qtmode parameter in smartpca program.)\n",
    "           The default value for this parameter is NO.\n",
    "\n",
    "Estimated running time of the smartpca program is \n",
    "  2.5e-12 * nSNP * NSAMPLES^2 hours            if not removing outliers.\n",
    "  2.5e-12 * nSNP * NSAMPLES^2 hours * (1+m)    if m outlier removal iterations.\n",
    "Thus, under the default of up to 5 outlier removal iterations, running time is \n",
    "  up to 1.5e-11 * nSNP * NSAMPLES^2 hours."
   ]
  },
  {
   "cell_type": "code",
   "execution_count": null,
   "metadata": {},
   "outputs": [],
   "source": [
    "## EC2 ##\n",
    "cd /shared/s3/copdgene2/eigenstrat\n",
    "\n",
    "mkdir results\n",
    "\n",
    "for ancestry in {\"ea\",\"aa\"};do\n",
    "    # Run EIGENSTRAT smartpca \n",
    "    sh /shared/bioinformatics/software/scripts/qsub_job.sh \\\n",
    "        --job_name ${ancestry}_smartpca \\\n",
    "        --script_prefix results/smartpca_${ancestry} \\\n",
    "        --mem 13.5 \\\n",
    "        --nslots 2 \\\n",
    "        --priority 0 \\\n",
    "        --program /shared/bioinformatics/software/third_party/EIG-6.1.4/bin/smartpca.perl \\\n",
    "            -i ${ancestry}_ld_pruned.bed \\\n",
    "            -a ${ancestry}_ld_pruned.bim \\\n",
    "            -b ${ancestry}_ld_pruned_final.fam \\\n",
    "            -o results/${ancestry}_ld_pruned.pca \\\n",
    "            -p results/${ancestry}_ld_pruned.plot \\\n",
    "            -e results/${ancestry}_ld_pruned.eval \\\n",
    "            -l results/${ancestry}_ld_pruned.pca.log \\\n",
    "            -m 0\n",
    "done"
   ]
  },
  {
   "cell_type": "markdown",
   "metadata": {},
   "source": [
    "#### View PCs from EIGENSTRAT"
   ]
  },
  {
   "cell_type": "code",
   "execution_count": null,
   "metadata": {},
   "outputs": [],
   "source": [
    "## local machine ##\n",
    "# Copy results over to local machine so we can visualize the results.\n",
    "scp -i ~/.ssh/gwas_rsa ec2-user@35.171.207.199:/shared/s3/copdgene2/eigenstrat/results/ea_ld_pruned.pca.evec \\\n",
    "    /cygdrive/c/Users/jmarks/Desktop/Projects/Nicotine/COPDGene/copdgene2/eigenstrat\n",
    "scp -i ~/.ssh/gwas_rsa ec2-user@35.171.207.199:/shared/s3/copdgene2/eigenstrat/results/aa_ld_pruned.pca.evec \\\n",
    "    /cygdrive/c/Users/jmarks/Desktop/Projects/Nicotine/COPDGene/copdgene2/eigenstrat"
   ]
  },
  {
   "cell_type": "code",
   "execution_count": 3,
   "metadata": {},
   "outputs": [
    {
     "name": "stdout",
     "output_type": "stream",
     "text": [
      "[1] \"Number of EA subjects and PCA table\"\n"
     ]
    },
    {
     "data": {
      "text/html": [
       "2630"
      ],
      "text/latex": [
       "2630"
      ],
      "text/markdown": [
       "2630"
      ],
      "text/plain": [
       "[1] 2630"
      ]
     },
     "metadata": {},
     "output_type": "display_data"
    },
    {
     "data": {
      "text/html": [
       "<table>\n",
       "<thead><tr><th></th><th scope=col>V2</th><th scope=col>V3</th><th scope=col>V4</th><th scope=col>V5</th><th scope=col>V6</th><th scope=col>V7</th><th scope=col>V8</th><th scope=col>V9</th><th scope=col>V10</th><th scope=col>V11</th><th scope=col>V12</th></tr></thead>\n",
       "<tbody>\n",
       "\t<tr><th scope=row>10002K:10002K</th><td> 0.0107</td><td>-0.0095</td><td>-0.0255</td><td>-0.0399</td><td>-0.0182</td><td>0.0247 </td><td> 0.0011</td><td> 0.0020</td><td> 0.0042</td><td>-0.0065</td><td>???    </td></tr>\n",
       "\t<tr><th scope=row>10006S:10006S</th><td>-0.0020</td><td>-0.0053</td><td> 0.0016</td><td> 0.0034</td><td>-0.0056</td><td>0.0173 </td><td> 0.0077</td><td>-0.0075</td><td>-0.0103</td><td> 0.0074</td><td>???    </td></tr>\n",
       "\t<tr><th scope=row>10011L:10011L</th><td>-0.0128</td><td> 0.0966</td><td> 0.0022</td><td>-0.0437</td><td> 0.0001</td><td>0.0021 </td><td>-0.0081</td><td>-0.0284</td><td>-0.0147</td><td>-0.0053</td><td>???    </td></tr>\n",
       "\t<tr><th scope=row>10013P:10013P</th><td>-0.0072</td><td>-0.0161</td><td>-0.0042</td><td> 0.0108</td><td> 0.0103</td><td>0.0048 </td><td> 0.0211</td><td>-0.0063</td><td> 0.0117</td><td>-0.0245</td><td>???    </td></tr>\n",
       "\t<tr><th scope=row>10015T:10015T</th><td>-0.0102</td><td>-0.0232</td><td>-0.0126</td><td>-0.0117</td><td> 0.0084</td><td>0.0023 </td><td> 0.0251</td><td>-0.0097</td><td> 0.0020</td><td> 0.0042</td><td>???    </td></tr>\n",
       "</tbody>\n",
       "</table>\n"
      ],
      "text/latex": [
       "\\begin{tabular}{r|lllllllllll}\n",
       "  & V2 & V3 & V4 & V5 & V6 & V7 & V8 & V9 & V10 & V11 & V12\\\\\n",
       "\\hline\n",
       "\t10002K:10002K &  0.0107 & -0.0095 & -0.0255 & -0.0399 & -0.0182 & 0.0247  &  0.0011 &  0.0020 &  0.0042 & -0.0065 & ???    \\\\\n",
       "\t10006S:10006S & -0.0020 & -0.0053 &  0.0016 &  0.0034 & -0.0056 & 0.0173  &  0.0077 & -0.0075 & -0.0103 &  0.0074 & ???    \\\\\n",
       "\t10011L:10011L & -0.0128 &  0.0966 &  0.0022 & -0.0437 &  0.0001 & 0.0021  & -0.0081 & -0.0284 & -0.0147 & -0.0053 & ???    \\\\\n",
       "\t10013P:10013P & -0.0072 & -0.0161 & -0.0042 &  0.0108 &  0.0103 & 0.0048  &  0.0211 & -0.0063 &  0.0117 & -0.0245 & ???    \\\\\n",
       "\t10015T:10015T & -0.0102 & -0.0232 & -0.0126 & -0.0117 &  0.0084 & 0.0023  &  0.0251 & -0.0097 &  0.0020 &  0.0042 & ???    \\\\\n",
       "\\end{tabular}\n"
      ],
      "text/markdown": [
       "\n",
       "| <!--/--> | V2 | V3 | V4 | V5 | V6 | V7 | V8 | V9 | V10 | V11 | V12 | \n",
       "|---|---|---|---|---|\n",
       "| 10002K:10002K |  0.0107 | -0.0095 | -0.0255 | -0.0399 | -0.0182 | 0.0247  |  0.0011 |  0.0020 |  0.0042 | -0.0065 | ???     | \n",
       "| 10006S:10006S | -0.0020 | -0.0053 |  0.0016 |  0.0034 | -0.0056 | 0.0173  |  0.0077 | -0.0075 | -0.0103 |  0.0074 | ???     | \n",
       "| 10011L:10011L | -0.0128 |  0.0966 |  0.0022 | -0.0437 |  0.0001 | 0.0021  | -0.0081 | -0.0284 | -0.0147 | -0.0053 | ???     | \n",
       "| 10013P:10013P | -0.0072 | -0.0161 | -0.0042 |  0.0108 |  0.0103 | 0.0048  |  0.0211 | -0.0063 |  0.0117 | -0.0245 | ???     | \n",
       "| 10015T:10015T | -0.0102 | -0.0232 | -0.0126 | -0.0117 |  0.0084 | 0.0023  |  0.0251 | -0.0097 |  0.0020 |  0.0042 | ???     | \n",
       "\n",
       "\n"
      ],
      "text/plain": [
       "              V2      V3      V4      V5      V6      V7     V8      V9     \n",
       "10002K:10002K  0.0107 -0.0095 -0.0255 -0.0399 -0.0182 0.0247  0.0011  0.0020\n",
       "10006S:10006S -0.0020 -0.0053  0.0016  0.0034 -0.0056 0.0173  0.0077 -0.0075\n",
       "10011L:10011L -0.0128  0.0966  0.0022 -0.0437  0.0001 0.0021 -0.0081 -0.0284\n",
       "10013P:10013P -0.0072 -0.0161 -0.0042  0.0108  0.0103 0.0048  0.0211 -0.0063\n",
       "10015T:10015T -0.0102 -0.0232 -0.0126 -0.0117  0.0084 0.0023  0.0251 -0.0097\n",
       "              V10     V11     V12\n",
       "10002K:10002K  0.0042 -0.0065 ???\n",
       "10006S:10006S -0.0103  0.0074 ???\n",
       "10011L:10011L -0.0147 -0.0053 ???\n",
       "10013P:10013P  0.0117 -0.0245 ???\n",
       "10015T:10015T  0.0020  0.0042 ???"
      ]
     },
     "metadata": {},
     "output_type": "display_data"
    },
    {
     "name": "stdout",
     "output_type": "stream",
     "text": [
      "[1] \"Number of AA subjects and PCA table\"\n"
     ]
    },
    {
     "data": {
      "text/html": [
       "267"
      ],
      "text/latex": [
       "267"
      ],
      "text/markdown": [
       "267"
      ],
      "text/plain": [
       "[1] 267"
      ]
     },
     "metadata": {},
     "output_type": "display_data"
    },
    {
     "data": {
      "text/html": [
       "<table>\n",
       "<thead><tr><th></th><th scope=col>V2</th><th scope=col>V3</th><th scope=col>V4</th><th scope=col>V5</th><th scope=col>V6</th><th scope=col>V7</th><th scope=col>V8</th><th scope=col>V9</th><th scope=col>V10</th><th scope=col>V11</th><th scope=col>V12</th></tr></thead>\n",
       "<tbody>\n",
       "\t<tr><th scope=row>10012N:10012N</th><td> 0.1217</td><td> 0.1753</td><td>-0.0110</td><td> 0.0587</td><td>0.1480 </td><td> 0.0932</td><td> 0.1755</td><td> 0.0442</td><td> 0.0365</td><td> 0.1245</td><td>???    </td></tr>\n",
       "\t<tr><th scope=row>10025W:10025W</th><td> 0.0691</td><td>-0.0823</td><td>-0.0230</td><td> 0.0342</td><td>0.0896 </td><td> 0.0136</td><td> 0.0679</td><td> 0.0100</td><td> 0.0064</td><td>-0.1178</td><td>???    </td></tr>\n",
       "\t<tr><th scope=row>10049K:10049K</th><td>-0.0402</td><td>-0.0018</td><td> 0.0112</td><td>-0.0180</td><td>0.0249 </td><td>-0.0488</td><td>-0.0091</td><td>-0.0119</td><td> 0.0129</td><td>-0.0513</td><td>???    </td></tr>\n",
       "\t<tr><th scope=row>10055F:10055F</th><td>-0.0147</td><td>-0.0788</td><td>-0.0606</td><td>-0.0010</td><td>0.0202 </td><td>-0.0202</td><td> 0.0014</td><td>-0.0151</td><td>-0.0063</td><td>-0.0472</td><td>???    </td></tr>\n",
       "\t<tr><th scope=row>10217F:10217F</th><td> 0.0179</td><td>-0.0049</td><td> 0.0085</td><td>-0.1169</td><td>0.0004 </td><td>-0.0109</td><td> 0.1307</td><td> 0.0223</td><td>-0.0060</td><td> 0.0040</td><td>???    </td></tr>\n",
       "</tbody>\n",
       "</table>\n"
      ],
      "text/latex": [
       "\\begin{tabular}{r|lllllllllll}\n",
       "  & V2 & V3 & V4 & V5 & V6 & V7 & V8 & V9 & V10 & V11 & V12\\\\\n",
       "\\hline\n",
       "\t10012N:10012N &  0.1217 &  0.1753 & -0.0110 &  0.0587 & 0.1480  &  0.0932 &  0.1755 &  0.0442 &  0.0365 &  0.1245 & ???    \\\\\n",
       "\t10025W:10025W &  0.0691 & -0.0823 & -0.0230 &  0.0342 & 0.0896  &  0.0136 &  0.0679 &  0.0100 &  0.0064 & -0.1178 & ???    \\\\\n",
       "\t10049K:10049K & -0.0402 & -0.0018 &  0.0112 & -0.0180 & 0.0249  & -0.0488 & -0.0091 & -0.0119 &  0.0129 & -0.0513 & ???    \\\\\n",
       "\t10055F:10055F & -0.0147 & -0.0788 & -0.0606 & -0.0010 & 0.0202  & -0.0202 &  0.0014 & -0.0151 & -0.0063 & -0.0472 & ???    \\\\\n",
       "\t10217F:10217F &  0.0179 & -0.0049 &  0.0085 & -0.1169 & 0.0004  & -0.0109 &  0.1307 &  0.0223 & -0.0060 &  0.0040 & ???    \\\\\n",
       "\\end{tabular}\n"
      ],
      "text/markdown": [
       "\n",
       "| <!--/--> | V2 | V3 | V4 | V5 | V6 | V7 | V8 | V9 | V10 | V11 | V12 | \n",
       "|---|---|---|---|---|\n",
       "| 10012N:10012N |  0.1217 |  0.1753 | -0.0110 |  0.0587 | 0.1480  |  0.0932 |  0.1755 |  0.0442 |  0.0365 |  0.1245 | ???     | \n",
       "| 10025W:10025W |  0.0691 | -0.0823 | -0.0230 |  0.0342 | 0.0896  |  0.0136 |  0.0679 |  0.0100 |  0.0064 | -0.1178 | ???     | \n",
       "| 10049K:10049K | -0.0402 | -0.0018 |  0.0112 | -0.0180 | 0.0249  | -0.0488 | -0.0091 | -0.0119 |  0.0129 | -0.0513 | ???     | \n",
       "| 10055F:10055F | -0.0147 | -0.0788 | -0.0606 | -0.0010 | 0.0202  | -0.0202 |  0.0014 | -0.0151 | -0.0063 | -0.0472 | ???     | \n",
       "| 10217F:10217F |  0.0179 | -0.0049 |  0.0085 | -0.1169 | 0.0004  | -0.0109 |  0.1307 |  0.0223 | -0.0060 |  0.0040 | ???     | \n",
       "\n",
       "\n"
      ],
      "text/plain": [
       "              V2      V3      V4      V5      V6     V7      V8      V9     \n",
       "10012N:10012N  0.1217  0.1753 -0.0110  0.0587 0.1480  0.0932  0.1755  0.0442\n",
       "10025W:10025W  0.0691 -0.0823 -0.0230  0.0342 0.0896  0.0136  0.0679  0.0100\n",
       "10049K:10049K -0.0402 -0.0018  0.0112 -0.0180 0.0249 -0.0488 -0.0091 -0.0119\n",
       "10055F:10055F -0.0147 -0.0788 -0.0606 -0.0010 0.0202 -0.0202  0.0014 -0.0151\n",
       "10217F:10217F  0.0179 -0.0049  0.0085 -0.1169 0.0004 -0.0109  0.1307  0.0223\n",
       "              V10     V11     V12\n",
       "10012N:10012N  0.0365  0.1245 ???\n",
       "10025W:10025W  0.0064 -0.1178 ???\n",
       "10049K:10049K  0.0129 -0.0513 ???\n",
       "10055F:10055F -0.0063 -0.0472 ???\n",
       "10217F:10217F -0.0060  0.0040 ???"
      ]
     },
     "metadata": {},
     "output_type": "display_data"
    }
   ],
   "source": [
    "## R console ##\n",
    "# Load PCA data\n",
    "setwd(dir = \"C:/Users/jmarks/Desktop/Projects/Nicotine/COPDGene/copdgene2/eigenstrat/\")\n",
    "options(stringsAsFactors=F)\n",
    "ea.evec <- read.table(\"ea_ld_pruned.pca.evec\",\n",
    "                      comment.char=\"#\", sep=\"\", row.names=1)\n",
    "aa.evec <- read.table(\"aa_ld_pruned.pca.evec\",\n",
    "                      comment.char=\"#\", sep=\"\", row.names=1)\n",
    "print(\"Number of EA subjects and PCA table\")\n",
    "length(ea.evec[,11])\n",
    "ea.evec[1:5,]\n",
    "print(\"Number of AA subjects and PCA table\")\n",
    "length(aa.evec[,11])\n",
    "aa.evec[1:5,]\n"
   ]
  },
  {
   "cell_type": "code",
   "execution_count": 5,
   "metadata": {},
   "outputs": [
    {
     "data": {
      "image/png": "[encoded data removed]",
      "text/plain": [
       "Plot with title \"COPDGene2 EA\""
      ]
     },
     "metadata": {},
     "output_type": "display_data"
    },
    {
     "data": {
      "image/png": "[encoded data removed]",
      "text/plain": [
       "Plot with title \"COPDGene2 EA\""
      ]
     },
     "metadata": {},
     "output_type": "display_data"
    },
    {
     "data": {
      "image/png": "[encoded data removed]",
      "text/plain": [
       "Plot with title \"COPDGene2 AA\""
      ]
     },
     "metadata": {},
     "output_type": "display_data"
    },
    {
     "data": {
      "image/png": "[encoded data removed]",
      "text/plain": [
       "Plot with title \"COPDGene2 AA\""
      ]
     },
     "metadata": {},
     "output_type": "display_data"
    }
   ],
   "source": [
    "### R console ###\n",
    "\n",
    "# Function for plotting off-diagonal scatterplots\n",
    "plot.offdiag <- function(x, y, colors=label.colors){\n",
    "    #Make x and y axes equal\n",
    "    limits <- c(min(x,y), max(x,y)) * 1.3\n",
    "    par(usr = c(limits, limits))\n",
    "    points(x,y, col=colors, pch=16)\n",
    "}\n",
    "\n",
    "# Function for plotting diagonal density plots\n",
    "plot.diag <- function(x, colors=label.colors){\n",
    "    d <- density(x, bw=0.01, kernel=\"gaussian\")\n",
    "    #Update plot axes limits\n",
    "    par(usr = c(range(d$x), range(d$y)*1.3))\n",
    "    points(d$x,d$y, type=\"l\")\n",
    "    #Add PC values\n",
    "    points(x=x, y=jitter(rep(mean(d$y),times=d$n),factor=5), col=label.colors, pch=16)\n",
    "}\n",
    "\n",
    "#Run PCA and get % variance/\n",
    "ea.dspace <- ea.evec[1:10] #transformed dataspace\n",
    "aa.dspace <- aa.evec[1:10] #transformed dataspace\n",
    "\n",
    "#Color label samples\n",
    "sample.names <- ea.evec[,11]\n",
    "label.colors <- rgb(0,80,190,80, maxColorValue=255) #blue\n",
    "\n",
    "options(repr.plot.width=8, repr.plot.height=8)\n",
    "#Redefine outer margin\n",
    "par(oma = c(4, 1, 2, 1))\n",
    "pairs(x=ea.dspace[,1:5], panel=plot.offdiag, diag.panel=plot.diag, \n",
    "      labels=paste0(\"PC\",1:5), label.pos=0.9, cex.labels=1.8)\n",
    "par(fig=c(0, 1, 0, 1), oma=c(0, 0, 0, 0), mar=c(0, 0, 1.5, 0), new=TRUE)\n",
    "plot(0, 0, type = \"n\", bty = \"n\", xaxt = \"n\", yaxt = \"n\", main=\"COPDGene2 EA\", cex.main=1)\n",
    "\n",
    "par(oma = c(4, 1, 2, 1))\n",
    "pairs(x=ea.dspace[,6:10], panel=plot.offdiag, diag.panel=plot.diag, \n",
    "      labels=paste0(\"PC\",6:10), label.pos=0.9, cex.labels=1.8)\n",
    "par(fig=c(0, 1, 0, 1), oma=c(0, 0, 0, 0), mar=c(0, 0, 1.5, 0), new=TRUE)\n",
    "plot(0, 0, type = \"n\", bty = \"n\", xaxt = \"n\", yaxt = \"n\", main=\"COPDGene2 EA\", cex.main=1)\n",
    "\n",
    "par(oma = c(4, 1, 2, 1))\n",
    "pairs(x=aa.dspace[,1:5], panel=plot.offdiag, diag.panel=plot.diag, \n",
    "      labels=paste0(\"PC\",1:5), label.pos=0.9, cex.labels=1.8)\n",
    "par(fig=c(0, 1, 0, 1), oma=c(0, 0, 0, 0), mar=c(0, 0, 1.5, 0), new=TRUE)\n",
    "plot(0, 0, type = \"n\", bty = \"n\", xaxt = \"n\", yaxt = \"n\", main=\"COPDGene2 AA\", cex.main=1)\n",
    "\n",
    "par(oma = c(4, 1, 2, 1))\n",
    "pairs(x=aa.dspace[,6:10], panel=plot.offdiag, diag.panel=plot.diag, \n",
    "      labels=paste0(\"PC\",6:10), label.pos=0.9, cex.labels=1.8)\n",
    "par(fig=c(0, 1, 0, 1), oma=c(0, 0, 0, 0), mar=c(0, 0, 1.5, 0), new=TRUE)\n",
    "plot(0, 0, type = \"n\", bty = \"n\", xaxt = \"n\", yaxt = \"n\", main=\"COPDGene2 AA\", cex.main=1)"
   ]
  },
  {
   "cell_type": "markdown",
   "metadata": {},
   "source": [
    "#### Extract eigenvectors"
   ]
  },
  {
   "cell_type": "code",
   "execution_count": null,
   "metadata": {},
   "outputs": [],
   "source": [
    "## EC2 ##\n",
    "cd /shared/s3/copdgene2/eigenstrat/results\n",
    "\n",
    "# Grab top 10 eigenvectors from PCA \n",
    "for ancestry in {\"ea\",\"aa\"}; do\n",
    "    # Extract eigenvectors\n",
    "    echo \"FID IID EV1 EV2 EV3 EV4 EV5 EV6 EV7 EV8 EV9 EV10\" > ${ancestry}_ld_pruned_top10_eigenvecs.txt\n",
    "    tail -n +2 ${ancestry}_ld_pruned.pca.evec | \\\n",
    "        perl -lne 's/:/ /; @F=split; print join(\" \",$F[0],$F[1],$F[2],$F[3],$F[4],$F[5],$F[6],$F[7],$F[8],$F[9],$F[10],$F[11]);' \\\n",
    "        >> ${ancestry}_ld_pruned_top10_eigenvecs.txt\n",
    "done"
   ]
  },
  {
   "cell_type": "markdown",
   "metadata": {},
   "source": [
    "### EA PC Selection\n",
    "Determine which PCs (eigenvectors) contribute the most influence and include them in the GWAS as covariates. Include the PCs which contribute to at least %75 of the variance.\n",
    "\n",
    "**Note**: we will perform this on our local machine for convenience."
   ]
  },
  {
   "cell_type": "code",
   "execution_count": null,
   "metadata": {},
   "outputs": [],
   "source": [
    "## local machine ##\n",
    "cd /cygdrive/c/Users/jmarks/Desktop/Projects/Nicotine/COPDGene/copdgene2/eigenstrat\n",
    "scp -i ~/.ssh/gwas_rsa ec2-user@35.171.207.199:/shared/s3/copdgene2/eigenstrat/results/ea_ld_pruned_top10_eigenvecs.txt .\n",
    "scp -i ~/.ssh/gwas_rsa ec2-user@35.171.207.199:/shared/s3/copdgene2/eigenstrat/results/aa_ld_pruned_top10_eigenvecs.txt ."
   ]
  },
  {
   "cell_type": "markdown",
   "metadata": {},
   "source": [
    "#### Create PED files \n",
    "The covariates we want to include are `sex`,`age`, and `gold status` and some of the most influential PCs. Sex is encoded as 1=Male and 2=Female in these phenotype data. Here we create the `phen` and `cov` PED files so that downstream processing will be easier. Specifically, creating the PED files will make it easier to select the PCs that explain $\\sim75\\%$ of the variance."
   ]
  },
  {
   "cell_type": "code",
   "execution_count": null,
   "metadata": {},
   "outputs": [],
   "source": [
    "# split phenotype file up by race\n",
    "cd /cygdrive/c/Users/jmarks/Desktop/Projects/Nicotine/COPDGene/copdgene2/pheno\n",
    "\n",
    "head -n 1 phenotype.ftnd.fg.sex.age3.filtered.txt > ea.phenotype.data\n",
    "# if the subject has a \"1\" for race then they are EA\n",
    "awk 'NR>=2 {if ($3==1) {print $0}}' phenotype.ftnd.fg.sex.age3.filtered.txt >> ea.phenotype.data"
   ]
  },
  {
   "cell_type": "code",
   "execution_count": 7,
   "metadata": {},
   "outputs": [
    {
     "data": {
      "text/html": [
       "<table>\n",
       "<thead><tr><th scope=col>sid</th><th scope=col>gender</th><th scope=col>race</th><th scope=col>age_p1</th><th scope=col>WstFTND_cat_p2</th><th scope=col>Goldneg1</th><th scope=col>Gold1or2</th><th scope=col>Gold3or4</th></tr></thead>\n",
       "<tbody>\n",
       "\t<tr><td>10161E</td><td>1     </td><td>1     </td><td>73.8  </td><td>2     </td><td>1     </td><td>0     </td><td>0     </td></tr>\n",
       "\t<tr><td>10260G</td><td>1     </td><td>1     </td><td>68.4  </td><td>1     </td><td>1     </td><td>0     </td><td>0     </td></tr>\n",
       "\t<tr><td>10489M</td><td>2     </td><td>1     </td><td>60.0  </td><td>1     </td><td>1     </td><td>0     </td><td>0     </td></tr>\n",
       "\t<tr><td>10511F</td><td>2     </td><td>1     </td><td>80.6  </td><td>0     </td><td>1     </td><td>0     </td><td>0     </td></tr>\n",
       "\t<tr><td>10558F</td><td>1     </td><td>1     </td><td>60.9  </td><td>1     </td><td>1     </td><td>0     </td><td>0     </td></tr>\n",
       "\t<tr><td>10771F</td><td>1     </td><td>1     </td><td>69.9  </td><td>0     </td><td>1     </td><td>0     </td><td>0     </td></tr>\n",
       "</tbody>\n",
       "</table>\n"
      ],
      "text/latex": [
       "\\begin{tabular}{r|llllllll}\n",
       " sid & gender & race & age\\_p1 & WstFTND\\_cat\\_p2 & Goldneg1 & Gold1or2 & Gold3or4\\\\\n",
       "\\hline\n",
       "\t 10161E & 1      & 1      & 73.8   & 2      & 1      & 0      & 0     \\\\\n",
       "\t 10260G & 1      & 1      & 68.4   & 1      & 1      & 0      & 0     \\\\\n",
       "\t 10489M & 2      & 1      & 60.0   & 1      & 1      & 0      & 0     \\\\\n",
       "\t 10511F & 2      & 1      & 80.6   & 0      & 1      & 0      & 0     \\\\\n",
       "\t 10558F & 1      & 1      & 60.9   & 1      & 1      & 0      & 0     \\\\\n",
       "\t 10771F & 1      & 1      & 69.9   & 0      & 1      & 0      & 0     \\\\\n",
       "\\end{tabular}\n"
      ],
      "text/markdown": [
       "\n",
       "sid | gender | race | age_p1 | WstFTND_cat_p2 | Goldneg1 | Gold1or2 | Gold3or4 | \n",
       "|---|---|---|---|---|---|\n",
       "| 10161E | 1      | 1      | 73.8   | 2      | 1      | 0      | 0      | \n",
       "| 10260G | 1      | 1      | 68.4   | 1      | 1      | 0      | 0      | \n",
       "| 10489M | 2      | 1      | 60.0   | 1      | 1      | 0      | 0      | \n",
       "| 10511F | 2      | 1      | 80.6   | 0      | 1      | 0      | 0      | \n",
       "| 10558F | 1      | 1      | 60.9   | 1      | 1      | 0      | 0      | \n",
       "| 10771F | 1      | 1      | 69.9   | 0      | 1      | 0      | 0      | \n",
       "\n",
       "\n"
      ],
      "text/plain": [
       "  sid    gender race age_p1 WstFTND_cat_p2 Goldneg1 Gold1or2 Gold3or4\n",
       "1 10161E 1      1    73.8   2              1        0        0       \n",
       "2 10260G 1      1    68.4   1              1        0        0       \n",
       "3 10489M 2      1    60.0   1              1        0        0       \n",
       "4 10511F 2      1    80.6   0              1        0        0       \n",
       "5 10558F 1      1    60.9   1              1        0        0       \n",
       "6 10771F 1      1    69.9   0              1        0        0       "
      ]
     },
     "metadata": {},
     "output_type": "display_data"
    },
    {
     "data": {
      "text/html": [
       "<table>\n",
       "<thead><tr><th scope=col>FID</th><th scope=col>IID</th><th scope=col>EV1</th><th scope=col>EV2</th><th scope=col>EV3</th><th scope=col>EV4</th><th scope=col>EV5</th><th scope=col>EV6</th><th scope=col>EV7</th><th scope=col>EV8</th><th scope=col>EV9</th><th scope=col>EV10</th></tr></thead>\n",
       "<tbody>\n",
       "\t<tr><td>10002K </td><td>10002K </td><td> 0.0107</td><td>-0.0095</td><td>-0.0255</td><td>-0.0399</td><td>-0.0182</td><td>0.0247 </td><td> 0.0011</td><td> 0.0020</td><td> 0.0042</td><td>-0.0065</td></tr>\n",
       "\t<tr><td>10006S </td><td>10006S </td><td>-0.0020</td><td>-0.0053</td><td> 0.0016</td><td> 0.0034</td><td>-0.0056</td><td>0.0173 </td><td> 0.0077</td><td>-0.0075</td><td>-0.0103</td><td> 0.0074</td></tr>\n",
       "\t<tr><td>10011L </td><td>10011L </td><td>-0.0128</td><td> 0.0966</td><td> 0.0022</td><td>-0.0437</td><td> 0.0001</td><td>0.0021 </td><td>-0.0081</td><td>-0.0284</td><td>-0.0147</td><td>-0.0053</td></tr>\n",
       "\t<tr><td>10013P </td><td>10013P </td><td>-0.0072</td><td>-0.0161</td><td>-0.0042</td><td> 0.0108</td><td> 0.0103</td><td>0.0048 </td><td> 0.0211</td><td>-0.0063</td><td> 0.0117</td><td>-0.0245</td></tr>\n",
       "\t<tr><td>10015T </td><td>10015T </td><td>-0.0102</td><td>-0.0232</td><td>-0.0126</td><td>-0.0117</td><td> 0.0084</td><td>0.0023 </td><td> 0.0251</td><td>-0.0097</td><td> 0.0020</td><td> 0.0042</td></tr>\n",
       "\t<tr><td>10017X </td><td>10017X </td><td>-0.0058</td><td>-0.0142</td><td>-0.0079</td><td> 0.0080</td><td>-0.0113</td><td>0.0051 </td><td>-0.0189</td><td>-0.0081</td><td> 0.0094</td><td> 0.0039</td></tr>\n",
       "</tbody>\n",
       "</table>\n"
      ],
      "text/latex": [
       "\\begin{tabular}{r|llllllllllll}\n",
       " FID & IID & EV1 & EV2 & EV3 & EV4 & EV5 & EV6 & EV7 & EV8 & EV9 & EV10\\\\\n",
       "\\hline\n",
       "\t 10002K  & 10002K  &  0.0107 & -0.0095 & -0.0255 & -0.0399 & -0.0182 & 0.0247  &  0.0011 &  0.0020 &  0.0042 & -0.0065\\\\\n",
       "\t 10006S  & 10006S  & -0.0020 & -0.0053 &  0.0016 &  0.0034 & -0.0056 & 0.0173  &  0.0077 & -0.0075 & -0.0103 &  0.0074\\\\\n",
       "\t 10011L  & 10011L  & -0.0128 &  0.0966 &  0.0022 & -0.0437 &  0.0001 & 0.0021  & -0.0081 & -0.0284 & -0.0147 & -0.0053\\\\\n",
       "\t 10013P  & 10013P  & -0.0072 & -0.0161 & -0.0042 &  0.0108 &  0.0103 & 0.0048  &  0.0211 & -0.0063 &  0.0117 & -0.0245\\\\\n",
       "\t 10015T  & 10015T  & -0.0102 & -0.0232 & -0.0126 & -0.0117 &  0.0084 & 0.0023  &  0.0251 & -0.0097 &  0.0020 &  0.0042\\\\\n",
       "\t 10017X  & 10017X  & -0.0058 & -0.0142 & -0.0079 &  0.0080 & -0.0113 & 0.0051  & -0.0189 & -0.0081 &  0.0094 &  0.0039\\\\\n",
       "\\end{tabular}\n"
      ],
      "text/markdown": [
       "\n",
       "FID | IID | EV1 | EV2 | EV3 | EV4 | EV5 | EV6 | EV7 | EV8 | EV9 | EV10 | \n",
       "|---|---|---|---|---|---|\n",
       "| 10002K  | 10002K  |  0.0107 | -0.0095 | -0.0255 | -0.0399 | -0.0182 | 0.0247  |  0.0011 |  0.0020 |  0.0042 | -0.0065 | \n",
       "| 10006S  | 10006S  | -0.0020 | -0.0053 |  0.0016 |  0.0034 | -0.0056 | 0.0173  |  0.0077 | -0.0075 | -0.0103 |  0.0074 | \n",
       "| 10011L  | 10011L  | -0.0128 |  0.0966 |  0.0022 | -0.0437 |  0.0001 | 0.0021  | -0.0081 | -0.0284 | -0.0147 | -0.0053 | \n",
       "| 10013P  | 10013P  | -0.0072 | -0.0161 | -0.0042 |  0.0108 |  0.0103 | 0.0048  |  0.0211 | -0.0063 |  0.0117 | -0.0245 | \n",
       "| 10015T  | 10015T  | -0.0102 | -0.0232 | -0.0126 | -0.0117 |  0.0084 | 0.0023  |  0.0251 | -0.0097 |  0.0020 |  0.0042 | \n",
       "| 10017X  | 10017X  | -0.0058 | -0.0142 | -0.0079 |  0.0080 | -0.0113 | 0.0051  | -0.0189 | -0.0081 |  0.0094 |  0.0039 | \n",
       "\n",
       "\n"
      ],
      "text/plain": [
       "  FID    IID    EV1     EV2     EV3     EV4     EV5     EV6    EV7     EV8    \n",
       "1 10002K 10002K  0.0107 -0.0095 -0.0255 -0.0399 -0.0182 0.0247  0.0011  0.0020\n",
       "2 10006S 10006S -0.0020 -0.0053  0.0016  0.0034 -0.0056 0.0173  0.0077 -0.0075\n",
       "3 10011L 10011L -0.0128  0.0966  0.0022 -0.0437  0.0001 0.0021 -0.0081 -0.0284\n",
       "4 10013P 10013P -0.0072 -0.0161 -0.0042  0.0108  0.0103 0.0048  0.0211 -0.0063\n",
       "5 10015T 10015T -0.0102 -0.0232 -0.0126 -0.0117  0.0084 0.0023  0.0251 -0.0097\n",
       "6 10017X 10017X -0.0058 -0.0142 -0.0079  0.0080 -0.0113 0.0051 -0.0189 -0.0081\n",
       "  EV9     EV10   \n",
       "1  0.0042 -0.0065\n",
       "2 -0.0103  0.0074\n",
       "3 -0.0147 -0.0053\n",
       "4  0.0117 -0.0245\n",
       "5  0.0020  0.0042\n",
       "6  0.0094  0.0039"
      ]
     },
     "metadata": {},
     "output_type": "display_data"
    },
    {
     "data": {
      "text/html": [
       "<table>\n",
       "<thead><tr><th scope=col>fid</th><th scope=col>iid</th><th scope=col>patid</th><th scope=col>matid</th><th scope=col>sex</th><th scope=col>age</th><th scope=col>goldneg1</th><th scope=col>gold1or2</th><th scope=col>gold3or4</th><th scope=col>ftnd</th></tr></thead>\n",
       "<tbody>\n",
       "\t<tr><td>10002K</td><td>10002K</td><td>NA    </td><td>NA    </td><td>2     </td><td>63.6  </td><td>0     </td><td>0     </td><td>1     </td><td>2     </td></tr>\n",
       "\t<tr><td>10006S</td><td>10006S</td><td>NA    </td><td>NA    </td><td>2     </td><td>62.3  </td><td>0     </td><td>1     </td><td>0     </td><td>0     </td></tr>\n",
       "\t<tr><td>10011L</td><td>10011L</td><td>NA    </td><td>NA    </td><td>2     </td><td>69.7  </td><td>0     </td><td>1     </td><td>0     </td><td>0     </td></tr>\n",
       "\t<tr><td>10013P</td><td>10013P</td><td>NA    </td><td>NA    </td><td>2     </td><td>73.4  </td><td>0     </td><td>1     </td><td>0     </td><td>0     </td></tr>\n",
       "\t<tr><td>10015T</td><td>10015T</td><td>NA    </td><td>NA    </td><td>1     </td><td>59.6  </td><td>0     </td><td>0     </td><td>1     </td><td>1     </td></tr>\n",
       "\t<tr><td>10017X</td><td>10017X</td><td>NA    </td><td>NA    </td><td>1     </td><td>67.5  </td><td>0     </td><td>1     </td><td>0     </td><td>2     </td></tr>\n",
       "</tbody>\n",
       "</table>\n"
      ],
      "text/latex": [
       "\\begin{tabular}{r|llllllllll}\n",
       " fid & iid & patid & matid & sex & age & goldneg1 & gold1or2 & gold3or4 & ftnd\\\\\n",
       "\\hline\n",
       "\t 10002K & 10002K & NA     & NA     & 2      & 63.6   & 0      & 0      & 1      & 2     \\\\\n",
       "\t 10006S & 10006S & NA     & NA     & 2      & 62.3   & 0      & 1      & 0      & 0     \\\\\n",
       "\t 10011L & 10011L & NA     & NA     & 2      & 69.7   & 0      & 1      & 0      & 0     \\\\\n",
       "\t 10013P & 10013P & NA     & NA     & 2      & 73.4   & 0      & 1      & 0      & 0     \\\\\n",
       "\t 10015T & 10015T & NA     & NA     & 1      & 59.6   & 0      & 0      & 1      & 1     \\\\\n",
       "\t 10017X & 10017X & NA     & NA     & 1      & 67.5   & 0      & 1      & 0      & 2     \\\\\n",
       "\\end{tabular}\n"
      ],
      "text/markdown": [
       "\n",
       "fid | iid | patid | matid | sex | age | goldneg1 | gold1or2 | gold3or4 | ftnd | \n",
       "|---|---|---|---|---|---|\n",
       "| 10002K | 10002K | NA     | NA     | 2      | 63.6   | 0      | 0      | 1      | 2      | \n",
       "| 10006S | 10006S | NA     | NA     | 2      | 62.3   | 0      | 1      | 0      | 0      | \n",
       "| 10011L | 10011L | NA     | NA     | 2      | 69.7   | 0      | 1      | 0      | 0      | \n",
       "| 10013P | 10013P | NA     | NA     | 2      | 73.4   | 0      | 1      | 0      | 0      | \n",
       "| 10015T | 10015T | NA     | NA     | 1      | 59.6   | 0      | 0      | 1      | 1      | \n",
       "| 10017X | 10017X | NA     | NA     | 1      | 67.5   | 0      | 1      | 0      | 2      | \n",
       "\n",
       "\n"
      ],
      "text/plain": [
       "  fid    iid    patid matid sex age  goldneg1 gold1or2 gold3or4 ftnd\n",
       "1 10002K 10002K NA    NA    2   63.6 0        0        1        2   \n",
       "2 10006S 10006S NA    NA    2   62.3 0        1        0        0   \n",
       "3 10011L 10011L NA    NA    2   69.7 0        1        0        0   \n",
       "4 10013P 10013P NA    NA    2   73.4 0        1        0        0   \n",
       "5 10015T 10015T NA    NA    1   59.6 0        0        1        1   \n",
       "6 10017X 10017X NA    NA    1   67.5 0        1        0        2   "
      ]
     },
     "metadata": {},
     "output_type": "display_data"
    },
    {
     "data": {
      "text/html": [
       "<table>\n",
       "<thead><tr><th scope=col>fid</th><th scope=col>iid</th><th scope=col>patid</th><th scope=col>matid</th><th scope=col>sex</th><th scope=col>age</th><th scope=col>goldneg1</th><th scope=col>gold1or2</th><th scope=col>gold3or4</th><th scope=col>PC1</th><th scope=col>PC2</th><th scope=col>PC3</th><th scope=col>PC4</th><th scope=col>PC5</th><th scope=col>PC6</th><th scope=col>PC7</th><th scope=col>PC8</th><th scope=col>PC9</th><th scope=col>PC10</th></tr></thead>\n",
       "<tbody>\n",
       "\t<tr><td>10002K </td><td>10002K </td><td>NA     </td><td>NA     </td><td>2      </td><td>63.6   </td><td>0      </td><td>0      </td><td>1      </td><td> 0.0107</td><td>-0.0095</td><td>-0.0255</td><td>-0.0399</td><td>-0.0182</td><td>0.0247 </td><td> 0.0011</td><td> 0.0020</td><td> 0.0042</td><td>-0.0065</td></tr>\n",
       "\t<tr><td>10006S </td><td>10006S </td><td>NA     </td><td>NA     </td><td>2      </td><td>62.3   </td><td>0      </td><td>1      </td><td>0      </td><td>-0.0020</td><td>-0.0053</td><td> 0.0016</td><td> 0.0034</td><td>-0.0056</td><td>0.0173 </td><td> 0.0077</td><td>-0.0075</td><td>-0.0103</td><td> 0.0074</td></tr>\n",
       "\t<tr><td>10011L </td><td>10011L </td><td>NA     </td><td>NA     </td><td>2      </td><td>69.7   </td><td>0      </td><td>1      </td><td>0      </td><td>-0.0128</td><td> 0.0966</td><td> 0.0022</td><td>-0.0437</td><td> 0.0001</td><td>0.0021 </td><td>-0.0081</td><td>-0.0284</td><td>-0.0147</td><td>-0.0053</td></tr>\n",
       "\t<tr><td>10013P </td><td>10013P </td><td>NA     </td><td>NA     </td><td>2      </td><td>73.4   </td><td>0      </td><td>1      </td><td>0      </td><td>-0.0072</td><td>-0.0161</td><td>-0.0042</td><td> 0.0108</td><td> 0.0103</td><td>0.0048 </td><td> 0.0211</td><td>-0.0063</td><td> 0.0117</td><td>-0.0245</td></tr>\n",
       "\t<tr><td>10015T </td><td>10015T </td><td>NA     </td><td>NA     </td><td>1      </td><td>59.6   </td><td>0      </td><td>0      </td><td>1      </td><td>-0.0102</td><td>-0.0232</td><td>-0.0126</td><td>-0.0117</td><td> 0.0084</td><td>0.0023 </td><td> 0.0251</td><td>-0.0097</td><td> 0.0020</td><td> 0.0042</td></tr>\n",
       "\t<tr><td>10017X </td><td>10017X </td><td>NA     </td><td>NA     </td><td>1      </td><td>67.5   </td><td>0      </td><td>1      </td><td>0      </td><td>-0.0058</td><td>-0.0142</td><td>-0.0079</td><td> 0.0080</td><td>-0.0113</td><td>0.0051 </td><td>-0.0189</td><td>-0.0081</td><td> 0.0094</td><td> 0.0039</td></tr>\n",
       "</tbody>\n",
       "</table>\n"
      ],
      "text/latex": [
       "\\begin{tabular}{r|lllllllllllllllllll}\n",
       " fid & iid & patid & matid & sex & age & goldneg1 & gold1or2 & gold3or4 & PC1 & PC2 & PC3 & PC4 & PC5 & PC6 & PC7 & PC8 & PC9 & PC10\\\\\n",
       "\\hline\n",
       "\t 10002K  & 10002K  & NA      & NA      & 2       & 63.6    & 0       & 0       & 1       &  0.0107 & -0.0095 & -0.0255 & -0.0399 & -0.0182 & 0.0247  &  0.0011 &  0.0020 &  0.0042 & -0.0065\\\\\n",
       "\t 10006S  & 10006S  & NA      & NA      & 2       & 62.3    & 0       & 1       & 0       & -0.0020 & -0.0053 &  0.0016 &  0.0034 & -0.0056 & 0.0173  &  0.0077 & -0.0075 & -0.0103 &  0.0074\\\\\n",
       "\t 10011L  & 10011L  & NA      & NA      & 2       & 69.7    & 0       & 1       & 0       & -0.0128 &  0.0966 &  0.0022 & -0.0437 &  0.0001 & 0.0021  & -0.0081 & -0.0284 & -0.0147 & -0.0053\\\\\n",
       "\t 10013P  & 10013P  & NA      & NA      & 2       & 73.4    & 0       & 1       & 0       & -0.0072 & -0.0161 & -0.0042 &  0.0108 &  0.0103 & 0.0048  &  0.0211 & -0.0063 &  0.0117 & -0.0245\\\\\n",
       "\t 10015T  & 10015T  & NA      & NA      & 1       & 59.6    & 0       & 0       & 1       & -0.0102 & -0.0232 & -0.0126 & -0.0117 &  0.0084 & 0.0023  &  0.0251 & -0.0097 &  0.0020 &  0.0042\\\\\n",
       "\t 10017X  & 10017X  & NA      & NA      & 1       & 67.5    & 0       & 1       & 0       & -0.0058 & -0.0142 & -0.0079 &  0.0080 & -0.0113 & 0.0051  & -0.0189 & -0.0081 &  0.0094 &  0.0039\\\\\n",
       "\\end{tabular}\n"
      ],
      "text/markdown": [
       "\n",
       "fid | iid | patid | matid | sex | age | goldneg1 | gold1or2 | gold3or4 | PC1 | PC2 | PC3 | PC4 | PC5 | PC6 | PC7 | PC8 | PC9 | PC10 | \n",
       "|---|---|---|---|---|---|\n",
       "| 10002K  | 10002K  | NA      | NA      | 2       | 63.6    | 0       | 0       | 1       |  0.0107 | -0.0095 | -0.0255 | -0.0399 | -0.0182 | 0.0247  |  0.0011 |  0.0020 |  0.0042 | -0.0065 | \n",
       "| 10006S  | 10006S  | NA      | NA      | 2       | 62.3    | 0       | 1       | 0       | -0.0020 | -0.0053 |  0.0016 |  0.0034 | -0.0056 | 0.0173  |  0.0077 | -0.0075 | -0.0103 |  0.0074 | \n",
       "| 10011L  | 10011L  | NA      | NA      | 2       | 69.7    | 0       | 1       | 0       | -0.0128 |  0.0966 |  0.0022 | -0.0437 |  0.0001 | 0.0021  | -0.0081 | -0.0284 | -0.0147 | -0.0053 | \n",
       "| 10013P  | 10013P  | NA      | NA      | 2       | 73.4    | 0       | 1       | 0       | -0.0072 | -0.0161 | -0.0042 |  0.0108 |  0.0103 | 0.0048  |  0.0211 | -0.0063 |  0.0117 | -0.0245 | \n",
       "| 10015T  | 10015T  | NA      | NA      | 1       | 59.6    | 0       | 0       | 1       | -0.0102 | -0.0232 | -0.0126 | -0.0117 |  0.0084 | 0.0023  |  0.0251 | -0.0097 |  0.0020 |  0.0042 | \n",
       "| 10017X  | 10017X  | NA      | NA      | 1       | 67.5    | 0       | 1       | 0       | -0.0058 | -0.0142 | -0.0079 |  0.0080 | -0.0113 | 0.0051  | -0.0189 | -0.0081 |  0.0094 |  0.0039 | \n",
       "\n",
       "\n"
      ],
      "text/plain": [
       "  fid    iid    patid matid sex age  goldneg1 gold1or2 gold3or4 PC1     PC2    \n",
       "1 10002K 10002K NA    NA    2   63.6 0        0        1         0.0107 -0.0095\n",
       "2 10006S 10006S NA    NA    2   62.3 0        1        0        -0.0020 -0.0053\n",
       "3 10011L 10011L NA    NA    2   69.7 0        1        0        -0.0128  0.0966\n",
       "4 10013P 10013P NA    NA    2   73.4 0        1        0        -0.0072 -0.0161\n",
       "5 10015T 10015T NA    NA    1   59.6 0        0        1        -0.0102 -0.0232\n",
       "6 10017X 10017X NA    NA    1   67.5 0        1        0        -0.0058 -0.0142\n",
       "  PC3     PC4     PC5     PC6    PC7     PC8     PC9     PC10   \n",
       "1 -0.0255 -0.0399 -0.0182 0.0247  0.0011  0.0020  0.0042 -0.0065\n",
       "2  0.0016  0.0034 -0.0056 0.0173  0.0077 -0.0075 -0.0103  0.0074\n",
       "3  0.0022 -0.0437  0.0001 0.0021 -0.0081 -0.0284 -0.0147 -0.0053\n",
       "4 -0.0042  0.0108  0.0103 0.0048  0.0211 -0.0063  0.0117 -0.0245\n",
       "5 -0.0126 -0.0117  0.0084 0.0023  0.0251 -0.0097  0.0020  0.0042\n",
       "6 -0.0079  0.0080 -0.0113 0.0051 -0.0189 -0.0081  0.0094  0.0039"
      ]
     },
     "metadata": {},
     "output_type": "display_data"
    },
    {
     "name": "stdout",
     "output_type": "stream",
     "text": [
      "[1] \"Number of EA subjects.\"\n"
     ]
    },
    {
     "data": {
      "text/html": [
       "2630"
      ],
      "text/latex": [
       "2630"
      ],
      "text/markdown": [
       "2630"
      ],
      "text/plain": [
       "[1] 2630"
      ]
     },
     "metadata": {},
     "output_type": "display_data"
    }
   ],
   "source": [
    "### R (local) ###\n",
    "\n",
    "setwd(\"C:/Users/jmarks/Desktop/Projects/Nicotine/COPDGene/copdgene2/pheno\")\n",
    "p.data.ea <- \"ea.phenotype.data\"\n",
    "pheno.data.ea <- read.csv(p.data.ea, sep = \" \", header = T, stringsAsFactors = F, \n",
    "                       colClasses=c(\"character\", \"integer\", \"integer\",\"double\",\n",
    "                                    \"integer\",\"integer\",\"integer\", \"integer\"))\n",
    "head(pheno.data.ea)\n",
    "pca.data.ea <- read.csv(\"C:/Users/jmarks/Desktop/Projects/Nicotine/COPDGene/copdgene2/eigenstrat/ea_ld_pruned_top10_eigenvecs.txt\",\n",
    "                        sep = \" \" , header = T, \n",
    "                        colClasses=c(rep(\"character\",times=2), rep(\"double\",times = 10)))\n",
    "head(pca.data.ea)\n",
    "\n",
    "num.subjects.ea <- length(pca.data.ea[,1])\n",
    "\n",
    "header.names <- c(\"fid\", \"iid\", \"patid\", \"matid\", \"sex\", \"age\", \"goldneg1\", \"gold1or2\", \"gold3or4\", \"ftnd\")\n",
    "ped.file.ea <- data.frame(matrix(ncol = length(header.names), nrow = num.subjects.ea))\n",
    "colnames(ped.file.ea) <- header.names\n",
    "ped.file.ea[,1] <- pca.data.ea[,1]\n",
    "ped.file.ea[,2] <- pca.data.ea[,1] # will the iid be the same as the fid?\n",
    "\n",
    "# map loop (goal to fill in sex, age, ftnd, and gold status data on ped.file from the pheno.data)\n",
    "for (i in 1:num.subjects.ea){\n",
    "    key <- noquote(ped.file.ea[i,2])\n",
    "    \n",
    "    my_match <- match(key, pheno.data.ea[,1])\n",
    "    ped.file.ea[i,5] <- pheno.data.ea[my_match,2]# sex\n",
    "    ped.file.ea[i,6] <- pheno.data.ea[my_match,4] # age\n",
    "    ped.file.ea[i,7] <- pheno.data.ea[my_match,6] # goldneg1\n",
    "    ped.file.ea[i,8] <- pheno.data.ea[my_match,7] # gold1or2\n",
    "    ped.file.ea[i,9] <- pheno.data.ea[my_match,8] # gold3or4\n",
    "    ped.file.ea[i,10] <- pheno.data.ea[my_match,5] # ftnd\n",
    "    \n",
    "} # end i loop\n",
    "head(ped.file.ea)\n",
    "\n",
    "write.table(ped.file.ea, \"COPDGene2_EUR_phen.ped\", sep = \"\\t\", row.names = F, quote=F)\n",
    "\n",
    "#----------------------------------------------------------------------------------\n",
    "### Cov file\n",
    "\n",
    "# 10 PCs plus all of the covariates (exclude ftnd data)\n",
    "col.names.ea <- c(\"fid\", \"iid\", \"patid\", \"matid\", \"sex\", \"age\",\n",
    "                  \"goldneg1\", \"gold1or2\", \"gold3or4\", \"PC1\", \"PC2\",\n",
    "                  \"PC3\",\"PC4\",\"PC5\",\"PC6\",\"PC7\",\"PC8\",\"PC9\",\"PC10\")\n",
    "num.columns.ea <- length(col.names.ea)\n",
    "covar.data.ea <- data.frame(matrix(ncol = num.columns.ea, nrow = num.subjects.ea))\n",
    "names(covar.data.ea) <- col.names.ea\n",
    "num.covs.ea <- length(ped.file.ea) - 1\n",
    "covar.data.ea[,1:num.covs.ea] <- ped.file.ea[,1:num.covs.ea]\n",
    "\n",
    "covar.data.ea[,(num.covs.ea+1):length(col.names.ea)] <- pca.data.ea[,3:length(pca.data.ea)]\n",
    "\n",
    "head(covar.data.ea)\n",
    "print(\"Number of EA subjects.\")\n",
    "length(covar.data.ea[,1])\n",
    "\n",
    "write.table(covar.data.ea, \"COPDGene2_EUR_cov.ped\", quote=FALSE, row.names = FALSE, sep = \"\\t\")"
   ]
  },
  {
   "cell_type": "code",
   "execution_count": 8,
   "metadata": {},
   "outputs": [
    {
     "data": {
      "text/html": [
       "<table>\n",
       "<thead><tr><th scope=col>iid</th><th scope=col>ftnd</th><th scope=col>PC1</th><th scope=col>PC2</th><th scope=col>PC3</th><th scope=col>PC4</th><th scope=col>PC5</th><th scope=col>PC6</th><th scope=col>PC7</th><th scope=col>PC8</th><th scope=col>PC9</th><th scope=col>PC10</th></tr></thead>\n",
       "<tbody>\n",
       "\t<tr><td>10002K </td><td>2      </td><td> 0.0107</td><td>-0.0095</td><td>-0.0255</td><td>-0.0399</td><td>-0.0182</td><td>0.0247 </td><td> 0.0011</td><td> 0.0020</td><td> 0.0042</td><td>-0.0065</td></tr>\n",
       "\t<tr><td>10006S </td><td>0      </td><td>-0.0020</td><td>-0.0053</td><td> 0.0016</td><td> 0.0034</td><td>-0.0056</td><td>0.0173 </td><td> 0.0077</td><td>-0.0075</td><td>-0.0103</td><td> 0.0074</td></tr>\n",
       "\t<tr><td>10011L </td><td>0      </td><td>-0.0128</td><td> 0.0966</td><td> 0.0022</td><td>-0.0437</td><td> 0.0001</td><td>0.0021 </td><td>-0.0081</td><td>-0.0284</td><td>-0.0147</td><td>-0.0053</td></tr>\n",
       "\t<tr><td>10013P </td><td>0      </td><td>-0.0072</td><td>-0.0161</td><td>-0.0042</td><td> 0.0108</td><td> 0.0103</td><td>0.0048 </td><td> 0.0211</td><td>-0.0063</td><td> 0.0117</td><td>-0.0245</td></tr>\n",
       "\t<tr><td>10015T </td><td>1      </td><td>-0.0102</td><td>-0.0232</td><td>-0.0126</td><td>-0.0117</td><td> 0.0084</td><td>0.0023 </td><td> 0.0251</td><td>-0.0097</td><td> 0.0020</td><td> 0.0042</td></tr>\n",
       "\t<tr><td>10017X </td><td>2      </td><td>-0.0058</td><td>-0.0142</td><td>-0.0079</td><td> 0.0080</td><td>-0.0113</td><td>0.0051 </td><td>-0.0189</td><td>-0.0081</td><td> 0.0094</td><td> 0.0039</td></tr>\n",
       "</tbody>\n",
       "</table>\n"
      ],
      "text/latex": [
       "\\begin{tabular}{r|llllllllllll}\n",
       " iid & ftnd & PC1 & PC2 & PC3 & PC4 & PC5 & PC6 & PC7 & PC8 & PC9 & PC10\\\\\n",
       "\\hline\n",
       "\t 10002K  & 2       &  0.0107 & -0.0095 & -0.0255 & -0.0399 & -0.0182 & 0.0247  &  0.0011 &  0.0020 &  0.0042 & -0.0065\\\\\n",
       "\t 10006S  & 0       & -0.0020 & -0.0053 &  0.0016 &  0.0034 & -0.0056 & 0.0173  &  0.0077 & -0.0075 & -0.0103 &  0.0074\\\\\n",
       "\t 10011L  & 0       & -0.0128 &  0.0966 &  0.0022 & -0.0437 &  0.0001 & 0.0021  & -0.0081 & -0.0284 & -0.0147 & -0.0053\\\\\n",
       "\t 10013P  & 0       & -0.0072 & -0.0161 & -0.0042 &  0.0108 &  0.0103 & 0.0048  &  0.0211 & -0.0063 &  0.0117 & -0.0245\\\\\n",
       "\t 10015T  & 1       & -0.0102 & -0.0232 & -0.0126 & -0.0117 &  0.0084 & 0.0023  &  0.0251 & -0.0097 &  0.0020 &  0.0042\\\\\n",
       "\t 10017X  & 2       & -0.0058 & -0.0142 & -0.0079 &  0.0080 & -0.0113 & 0.0051  & -0.0189 & -0.0081 &  0.0094 &  0.0039\\\\\n",
       "\\end{tabular}\n"
      ],
      "text/markdown": [
       "\n",
       "iid | ftnd | PC1 | PC2 | PC3 | PC4 | PC5 | PC6 | PC7 | PC8 | PC9 | PC10 | \n",
       "|---|---|---|---|---|---|\n",
       "| 10002K  | 2       |  0.0107 | -0.0095 | -0.0255 | -0.0399 | -0.0182 | 0.0247  |  0.0011 |  0.0020 |  0.0042 | -0.0065 | \n",
       "| 10006S  | 0       | -0.0020 | -0.0053 |  0.0016 |  0.0034 | -0.0056 | 0.0173  |  0.0077 | -0.0075 | -0.0103 |  0.0074 | \n",
       "| 10011L  | 0       | -0.0128 |  0.0966 |  0.0022 | -0.0437 |  0.0001 | 0.0021  | -0.0081 | -0.0284 | -0.0147 | -0.0053 | \n",
       "| 10013P  | 0       | -0.0072 | -0.0161 | -0.0042 |  0.0108 |  0.0103 | 0.0048  |  0.0211 | -0.0063 |  0.0117 | -0.0245 | \n",
       "| 10015T  | 1       | -0.0102 | -0.0232 | -0.0126 | -0.0117 |  0.0084 | 0.0023  |  0.0251 | -0.0097 |  0.0020 |  0.0042 | \n",
       "| 10017X  | 2       | -0.0058 | -0.0142 | -0.0079 |  0.0080 | -0.0113 | 0.0051  | -0.0189 | -0.0081 |  0.0094 |  0.0039 | \n",
       "\n",
       "\n"
      ],
      "text/plain": [
       "  iid    ftnd PC1     PC2     PC3     PC4     PC5     PC6    PC7     PC8    \n",
       "1 10002K 2     0.0107 -0.0095 -0.0255 -0.0399 -0.0182 0.0247  0.0011  0.0020\n",
       "2 10006S 0    -0.0020 -0.0053  0.0016  0.0034 -0.0056 0.0173  0.0077 -0.0075\n",
       "3 10011L 0    -0.0128  0.0966  0.0022 -0.0437  0.0001 0.0021 -0.0081 -0.0284\n",
       "4 10013P 0    -0.0072 -0.0161 -0.0042  0.0108  0.0103 0.0048  0.0211 -0.0063\n",
       "5 10015T 1    -0.0102 -0.0232 -0.0126 -0.0117  0.0084 0.0023  0.0251 -0.0097\n",
       "6 10017X 2    -0.0058 -0.0142 -0.0079  0.0080 -0.0113 0.0051 -0.0189 -0.0081\n",
       "  PC9     PC10   \n",
       "1  0.0042 -0.0065\n",
       "2 -0.0103  0.0074\n",
       "3 -0.0147 -0.0053\n",
       "4  0.0117 -0.0245\n",
       "5  0.0020  0.0042\n",
       "6  0.0094  0.0039"
      ]
     },
     "metadata": {},
     "output_type": "display_data"
    }
   ],
   "source": [
    "### R console ###\n",
    "\n",
    "# Load PCA data\n",
    "setwd('C:/Users/jmarks/Desktop/Projects/Nicotine/COPDGene/copdgene2/pheno')\n",
    "options(stringsAsFactors=F)\n",
    "ea.cov.data <- read.delim(\"COPDGene2_EUR_cov.ped\", header=T, sep=\"\\t\")\n",
    "ea.phen.data <- read.delim(\"COPDGene2_EUR_phen.ped\", header=T, sep=\"\\t\")\n",
    "\n",
    "# Combine PCs and phenotype into one data frame\n",
    "phen.name <- \"ftnd\"\n",
    "pc.names <- paste0(\"PC\", 1:10)\n",
    "ea.data <- merge(x=ea.phen.data[,c(\"iid\",phen.name)], y=ea.cov.data[, c(\"iid\", paste0(\"PC\",1:10))], by=\"iid\")\n",
    "head(ea.data)"
   ]
  },
  {
   "cell_type": "markdown",
   "metadata": {},
   "source": [
    "#### Regression analysis\n",
    "We use a regression model of the general structure $$\\begin{align}\n",
    "\\text{FTND = PC1 + PC2 + ... + PC10}\n",
    "\\end{align}$$"
   ]
  },
  {
   "cell_type": "code",
   "execution_count": 9,
   "metadata": {},
   "outputs": [
    {
     "name": "stdout",
     "output_type": "stream",
     "text": [
      "MODEL FORMULA:\n",
      "\n",
      " ftnd ~ PC1 + PC2 + PC3 + PC4 + PC5 + PC6 + PC7 + PC8 + PC9 + PC10 \n",
      "\n",
      "\n",
      "================ EA group ================"
     ]
    },
    {
     "data": {
      "text/plain": [
       "\n",
       "Call:\n",
       "lm(formula = as.formula(model.str), data = ea.data)\n",
       "\n",
       "Residuals:\n",
       "    Min      1Q  Median      3Q     Max \n",
       "-1.0155 -0.7951  0.1536  0.2251  1.2935 \n",
       "\n",
       "Coefficients:\n",
       "            Estimate Std. Error t value Pr(>|t|)    \n",
       "(Intercept)  0.82814    0.01412  58.649   <2e-16 ***\n",
       "PC1         -0.50228    0.72413  -0.694   0.4880    \n",
       "PC2         -1.45078    0.72416  -2.003   0.0452 *  \n",
       "PC3         -0.22089    0.72413  -0.305   0.7604    \n",
       "PC4         -1.85548    0.72413  -2.562   0.0105 *  \n",
       "PC5          0.87524    0.72412   1.209   0.2269    \n",
       "PC6          0.43511    0.72411   0.601   0.5480    \n",
       "PC7          0.06082    0.72414   0.084   0.9331    \n",
       "PC8          0.26075    0.72412   0.360   0.7188    \n",
       "PC9          0.18027    0.72409   0.249   0.8034    \n",
       "PC10         0.28135    0.72418   0.389   0.6977    \n",
       "---\n",
       "Signif. codes:  0 '***' 0.001 '**' 0.01 '*' 0.05 '.' 0.1 ' ' 1\n",
       "\n",
       "Residual standard error: 0.7241 on 2619 degrees of freedom\n",
       "Multiple R-squared:  0.005062,\tAdjusted R-squared:  0.001263 \n",
       "F-statistic: 1.333 on 10 and 2619 DF,  p-value: 0.2067\n"
      ]
     },
     "metadata": {},
     "output_type": "display_data"
    },
    {
     "data": {
      "text/html": [
       "<table>\n",
       "<thead><tr><th></th><th scope=col>Df</th><th scope=col>Sum Sq</th><th scope=col>Mean Sq</th><th scope=col>F value</th><th scope=col>Pr(&gt;F)</th><th scope=col>PVE</th></tr></thead>\n",
       "<tbody>\n",
       "\t<tr><th scope=row>PC4</th><td>1          </td><td>3.443208113</td><td>3.443208113</td><td>6.566345839</td><td>0.01044796 </td><td>49.28      </td></tr>\n",
       "\t<tr><th scope=row>PC2</th><td>1          </td><td>2.104548589</td><td>2.104548589</td><td>4.013464599</td><td>0.04524116 </td><td>30.12      </td></tr>\n",
       "\t<tr><th scope=row>PC5</th><td>1          </td><td>0.766099885</td><td>0.766099885</td><td>1.460985403</td><td>0.22688251 </td><td>10.96      </td></tr>\n",
       "\t<tr><th scope=row>PC1</th><td>1          </td><td>0.252224540</td><td>0.252224540</td><td>0.481003037</td><td>0.48802984 </td><td> 3.61      </td></tr>\n",
       "\t<tr><th scope=row>PC6</th><td>1          </td><td>0.189345036</td><td>0.189345036</td><td>0.361089121</td><td>0.54795399 </td><td> 2.71      </td></tr>\n",
       "\t<tr><th scope=row>PC10</th><td>1          </td><td>0.079147133</td><td>0.079147133</td><td>0.150936985</td><td>0.69767312 </td><td> 1.13      </td></tr>\n",
       "\t<tr><th scope=row>PC8</th><td>1          </td><td>0.067991331</td><td>0.067991331</td><td>0.129662390</td><td>0.71881138 </td><td> 0.97      </td></tr>\n",
       "\t<tr><th scope=row>PC3</th><td>1          </td><td>0.048759279</td><td>0.048759279</td><td>0.092986041</td><td>0.76043903 </td><td> 0.70      </td></tr>\n",
       "\t<tr><th scope=row>PC9</th><td>1          </td><td>0.032494532</td><td>0.032494532</td><td>0.061968469</td><td>0.80343084 </td><td> 0.47      </td></tr>\n",
       "\t<tr><th scope=row>PC7</th><td>1          </td><td>0.003699346</td><td>0.003699346</td><td>0.007054812</td><td>0.93306847 </td><td> 0.05      </td></tr>\n",
       "</tbody>\n",
       "</table>\n"
      ],
      "text/latex": [
       "\\begin{tabular}{r|llllll}\n",
       "  & Df & Sum Sq & Mean Sq & F value & Pr(>F) & PVE\\\\\n",
       "\\hline\n",
       "\tPC4 & 1           & 3.443208113 & 3.443208113 & 6.566345839 & 0.01044796  & 49.28      \\\\\n",
       "\tPC2 & 1           & 2.104548589 & 2.104548589 & 4.013464599 & 0.04524116  & 30.12      \\\\\n",
       "\tPC5 & 1           & 0.766099885 & 0.766099885 & 1.460985403 & 0.22688251  & 10.96      \\\\\n",
       "\tPC1 & 1           & 0.252224540 & 0.252224540 & 0.481003037 & 0.48802984  &  3.61      \\\\\n",
       "\tPC6 & 1           & 0.189345036 & 0.189345036 & 0.361089121 & 0.54795399  &  2.71      \\\\\n",
       "\tPC10 & 1           & 0.079147133 & 0.079147133 & 0.150936985 & 0.69767312  &  1.13      \\\\\n",
       "\tPC8 & 1           & 0.067991331 & 0.067991331 & 0.129662390 & 0.71881138  &  0.97      \\\\\n",
       "\tPC3 & 1           & 0.048759279 & 0.048759279 & 0.092986041 & 0.76043903  &  0.70      \\\\\n",
       "\tPC9 & 1           & 0.032494532 & 0.032494532 & 0.061968469 & 0.80343084  &  0.47      \\\\\n",
       "\tPC7 & 1           & 0.003699346 & 0.003699346 & 0.007054812 & 0.93306847  &  0.05      \\\\\n",
       "\\end{tabular}\n"
      ],
      "text/markdown": [
       "\n",
       "| <!--/--> | Df | Sum Sq | Mean Sq | F value | Pr(>F) | PVE | \n",
       "|---|---|---|---|---|---|---|---|---|---|\n",
       "| PC4 | 1           | 3.443208113 | 3.443208113 | 6.566345839 | 0.01044796  | 49.28       | \n",
       "| PC2 | 1           | 2.104548589 | 2.104548589 | 4.013464599 | 0.04524116  | 30.12       | \n",
       "| PC5 | 1           | 0.766099885 | 0.766099885 | 1.460985403 | 0.22688251  | 10.96       | \n",
       "| PC1 | 1           | 0.252224540 | 0.252224540 | 0.481003037 | 0.48802984  |  3.61       | \n",
       "| PC6 | 1           | 0.189345036 | 0.189345036 | 0.361089121 | 0.54795399  |  2.71       | \n",
       "| PC10 | 1           | 0.079147133 | 0.079147133 | 0.150936985 | 0.69767312  |  1.13       | \n",
       "| PC8 | 1           | 0.067991331 | 0.067991331 | 0.129662390 | 0.71881138  |  0.97       | \n",
       "| PC3 | 1           | 0.048759279 | 0.048759279 | 0.092986041 | 0.76043903  |  0.70       | \n",
       "| PC9 | 1           | 0.032494532 | 0.032494532 | 0.061968469 | 0.80343084  |  0.47       | \n",
       "| PC7 | 1           | 0.003699346 | 0.003699346 | 0.007054812 | 0.93306847  |  0.05       | \n",
       "\n",
       "\n"
      ],
      "text/plain": [
       "     Df Sum Sq      Mean Sq     F value     Pr(>F)     PVE  \n",
       "PC4  1  3.443208113 3.443208113 6.566345839 0.01044796 49.28\n",
       "PC2  1  2.104548589 2.104548589 4.013464599 0.04524116 30.12\n",
       "PC5  1  0.766099885 0.766099885 1.460985403 0.22688251 10.96\n",
       "PC1  1  0.252224540 0.252224540 0.481003037 0.48802984  3.61\n",
       "PC6  1  0.189345036 0.189345036 0.361089121 0.54795399  2.71\n",
       "PC10 1  0.079147133 0.079147133 0.150936985 0.69767312  1.13\n",
       "PC8  1  0.067991331 0.067991331 0.129662390 0.71881138  0.97\n",
       "PC3  1  0.048759279 0.048759279 0.092986041 0.76043903  0.70\n",
       "PC9  1  0.032494532 0.032494532 0.061968469 0.80343084  0.47\n",
       "PC7  1  0.003699346 0.003699346 0.007054812 0.93306847  0.05"
      ]
     },
     "metadata": {},
     "output_type": "display_data"
    }
   ],
   "source": [
    "# Build model formula\n",
    "model.str <- paste0(phen.name, \" ~ \", paste(pc.names, collapse=\" + \"))\n",
    "cat(\"MODEL FORMULA:\\n\\n\", model.str, \"\\n\")\n",
    "\n",
    "# Get model fits\n",
    "lm.fit.ea <- lm(formula=as.formula(model.str), data=ea.data)\n",
    "\n",
    "# Get sequential (type I) sum of squares\n",
    "anova.ea <- anova(lm.fit.ea)\n",
    "\n",
    "# Calculate percent variance explained and sort\n",
    "ea.pve <- cbind(anova.ea[pc.names,], \n",
    "                PVE=round(anova.ea[pc.names, \"Mean Sq\"]/sum(anova.ea[pc.names, \"Mean Sq\"])*100, digits=2))\n",
    "ea.pve.sorted <- ea.pve[order(ea.pve$PVE, decreasing=T),]\n",
    "\n",
    "# Output regression info\n",
    "cat(\"\\n\\n================ EA group ================\")\n",
    "summary(lm.fit.ea)\n",
    "ea.pve.sorted"
   ]
  },
  {
   "cell_type": "markdown",
   "metadata": {},
   "source": [
    "#### Percent Variance Explained Visualization"
   ]
  },
  {
   "cell_type": "code",
   "execution_count": 10,
   "metadata": {},
   "outputs": [
    {
     "data": {
      "image/png": "[encoded data removed]",
      "text/plain": [
       "Plot with title \"EA PVE Cumulative Sum\""
      ]
     },
     "metadata": {},
     "output_type": "display_data"
    },
    {
     "data": {
      "image/png": "[encoded data removed]",
      "text/plain": [
       "Plot with title \"EA PVE Cumulative Sum (Sorted PCs)\""
      ]
     },
     "metadata": {},
     "output_type": "display_data"
    }
   ],
   "source": [
    "options(repr.plot.width=13, repr.plot.height=5)\n",
    "\n",
    "# Set graphical parameters\n",
    "cex.factor = 0.9\n",
    "barplot.ylim.ea = c(0, max(ea.pve$PVE)*1.2)\n",
    "\n",
    "# Visualize PVE\n",
    "par(mfrow=c(1,2))\n",
    "barplot(height=ea.pve$PVE, names.arg=rownames(ea.pve), beside=T, cex.names=cex.factor, \n",
    "        col=\"red3\", border=\"red3\", ylim=barplot.ylim.ea, \n",
    "        main=\"EA Percent Variance Explained\", ylab=\"PVE\")\n",
    "plot(cumsum(ea.pve$PVE), type=\"b\", main=\"EA PVE Cumulative Sum\", ylab=\"PVE\", \n",
    "     lwd=2, col=\"red3\", pch=17, xaxt=\"n\", xlab=\"\", ylim=c(0,100))\n",
    "axis(side=1, at=c(1:10), labels=rownames(ea.pve), cex.axis=cex.factor)\n",
    "\n",
    "par(mfrow=c(1,2))\n",
    "barplot(height=ea.pve.sorted$PVE, names.arg=rownames(ea.pve.sorted), beside=T, cex.names=cex.factor, \n",
    "        col=\"red3\", border=\"red3\", ylim=barplot.ylim.ea, main=\"EA Percent Variance Explained (Sorted PCs)\", ylab=\"PVE\")\n",
    "plot(cumsum(ea.pve.sorted$PVE), type=\"b\", main=\"EA PVE Cumulative Sum (Sorted PCs)\", ylab=\"PVE\", \n",
    "     lwd=2, col=\"red3\", pch=17, xaxt=\"n\", xlab=\"\", ylim=c(0,100))\n",
    "axis(side=1, at=c(1:10), labels=rownames(ea.pve.sorted), cex.axis=cex.factor)"
   ]
  },
  {
   "cell_type": "markdown",
   "metadata": {},
   "source": [
    "Based on these results we will use PC4, and PC2. These PCs explain ~79% of the variance."
   ]
  },
  {
   "cell_type": "markdown",
   "metadata": {},
   "source": [
    "#### Construct a phenotype file for ProbABEL with PCs\n",
    "* Need to include PC4, & PC2.\n",
    "* Header needs to be\n",
    "\n",
    "```\n",
    "II3     CAT_FTND      SEX     EV4     EV2        \n",
    "```"
   ]
  },
  {
   "cell_type": "code",
   "execution_count": null,
   "metadata": {},
   "outputs": [],
   "source": [
    "## local machine ##\n",
    "cd /cygdrive/c/Users/jmarks/Desktop/Projects/Nicotine/COPDGene/copdgene2/pheno/\n",
    "\n",
    "# the IID in the phenotype file needs to be of the form \"iid\"\n",
    "# to match the iid in the mldose file\n",
    "ancestry=ea\n",
    "awk 'BEGIN{} NR>=2{print $1}' COPDGene2_EUR_cov.ped > IID.${ancestry}.txt"
   ]
  },
  {
   "cell_type": "code",
   "execution_count": 11,
   "metadata": {},
   "outputs": [
    {
     "data": {
      "text/html": [
       "2630"
      ],
      "text/latex": [
       "2630"
      ],
      "text/markdown": [
       "2630"
      ],
      "text/plain": [
       "[1] 2630"
      ]
     },
     "metadata": {},
     "output_type": "display_data"
    },
    {
     "data": {
      "text/html": [
       "<table>\n",
       "<thead><tr><th scope=col>IID</th><th scope=col>CAT_FTND</th><th scope=col>SEX</th><th scope=col>AGE</th><th scope=col>GOLDNEG1</th><th scope=col>GOLD1OR2</th><th scope=col>GOLD3OR4</th><th scope=col>EV4</th><th scope=col>EV2</th></tr></thead>\n",
       "<tbody>\n",
       "\t<tr><td>10002K </td><td>2      </td><td>2      </td><td>63.6   </td><td>0      </td><td>0      </td><td>1      </td><td>-0.0399</td><td>-0.0095</td></tr>\n",
       "\t<tr><td>10006S </td><td>0      </td><td>2      </td><td>62.3   </td><td>0      </td><td>1      </td><td>0      </td><td> 0.0034</td><td>-0.0053</td></tr>\n",
       "\t<tr><td>10011L </td><td>0      </td><td>2      </td><td>69.7   </td><td>0      </td><td>1      </td><td>0      </td><td>-0.0437</td><td> 0.0966</td></tr>\n",
       "\t<tr><td>10013P </td><td>0      </td><td>2      </td><td>73.4   </td><td>0      </td><td>1      </td><td>0      </td><td> 0.0108</td><td>-0.0161</td></tr>\n",
       "\t<tr><td>10015T </td><td>1      </td><td>1      </td><td>59.6   </td><td>0      </td><td>0      </td><td>1      </td><td>-0.0117</td><td>-0.0232</td></tr>\n",
       "\t<tr><td>10017X </td><td>2      </td><td>1      </td><td>67.5   </td><td>0      </td><td>1      </td><td>0      </td><td> 0.0080</td><td>-0.0142</td></tr>\n",
       "</tbody>\n",
       "</table>\n"
      ],
      "text/latex": [
       "\\begin{tabular}{r|lllllllll}\n",
       " IID & CAT\\_FTND & SEX & AGE & GOLDNEG1 & GOLD1OR2 & GOLD3OR4 & EV4 & EV2\\\\\n",
       "\\hline\n",
       "\t 10002K  & 2       & 2       & 63.6    & 0       & 0       & 1       & -0.0399 & -0.0095\\\\\n",
       "\t 10006S  & 0       & 2       & 62.3    & 0       & 1       & 0       &  0.0034 & -0.0053\\\\\n",
       "\t 10011L  & 0       & 2       & 69.7    & 0       & 1       & 0       & -0.0437 &  0.0966\\\\\n",
       "\t 10013P  & 0       & 2       & 73.4    & 0       & 1       & 0       &  0.0108 & -0.0161\\\\\n",
       "\t 10015T  & 1       & 1       & 59.6    & 0       & 0       & 1       & -0.0117 & -0.0232\\\\\n",
       "\t 10017X  & 2       & 1       & 67.5    & 0       & 1       & 0       &  0.0080 & -0.0142\\\\\n",
       "\\end{tabular}\n"
      ],
      "text/markdown": [
       "\n",
       "IID | CAT_FTND | SEX | AGE | GOLDNEG1 | GOLD1OR2 | GOLD3OR4 | EV4 | EV2 | \n",
       "|---|---|---|---|---|---|\n",
       "| 10002K  | 2       | 2       | 63.6    | 0       | 0       | 1       | -0.0399 | -0.0095 | \n",
       "| 10006S  | 0       | 2       | 62.3    | 0       | 1       | 0       |  0.0034 | -0.0053 | \n",
       "| 10011L  | 0       | 2       | 69.7    | 0       | 1       | 0       | -0.0437 |  0.0966 | \n",
       "| 10013P  | 0       | 2       | 73.4    | 0       | 1       | 0       |  0.0108 | -0.0161 | \n",
       "| 10015T  | 1       | 1       | 59.6    | 0       | 0       | 1       | -0.0117 | -0.0232 | \n",
       "| 10017X  | 2       | 1       | 67.5    | 0       | 1       | 0       |  0.0080 | -0.0142 | \n",
       "\n",
       "\n"
      ],
      "text/plain": [
       "  IID    CAT_FTND SEX AGE  GOLDNEG1 GOLD1OR2 GOLD3OR4 EV4     EV2    \n",
       "1 10002K 2        2   63.6 0        0        1        -0.0399 -0.0095\n",
       "2 10006S 0        2   62.3 0        1        0         0.0034 -0.0053\n",
       "3 10011L 0        2   69.7 0        1        0        -0.0437  0.0966\n",
       "4 10013P 0        2   73.4 0        1        0         0.0108 -0.0161\n",
       "5 10015T 1        1   59.6 0        0        1        -0.0117 -0.0232\n",
       "6 10017X 2        1   67.5 0        1        0         0.0080 -0.0142"
      ]
     },
     "metadata": {},
     "output_type": "display_data"
    }
   ],
   "source": [
    "### R console ###\n",
    "setwd(\"C:/Users/jmarks/Desktop/Projects/Nicotine/COPDGene/copdgene2/pheno\")\n",
    "\n",
    "# read in data files\n",
    "phen <- read.table(\"COPDGene2_EUR_phen.ped\", header=T)\n",
    "cov <- read.table(\"COPDGene2_EUR_cov.ped\", header=T)\n",
    "iid <- read.table(\"IID.ea.txt\", header=F)\n",
    "num.subjects <- length(iid[,1])\n",
    "num.subjects\n",
    "\n",
    "# create data frame to combine those files\n",
    "covar.names <- c(\"IID\", \"CAT_FTND\", \"SEX\", \"AGE\", \"GOLDNEG1\", \n",
    "                       \"GOLD1OR2\", \"GOLD3OR4\", \"EV4\", \"EV2\")\n",
    "covar.data <- data.frame(matrix(ncol = length(covar.names), nrow = num.subjects))\n",
    "names(covar.data) <- covar.names\n",
    "covar.data[1] <- iid[1]\n",
    "covar.data[2] <- phen[10]\n",
    "covar.data[3] <- phen[5]\n",
    "covar.data[4] <- phen[6]\n",
    "covar.data[5] <- phen[7]\n",
    "covar.data[6] <- phen[8]\n",
    "covar.data[7] <- phen[9]\n",
    "# PCs\n",
    "covar.data[8] <- cov[13]\n",
    "covar.data[9] <- cov[11]\n",
    "head(covar.data)\n",
    "\n",
    "write.table(x = covar.data, file = \"copdgene2.ea.CAT_FTND.SEX.AGE.GOLD.EVs\", quote = F, row.names = F)"
   ]
  },
  {
   "cell_type": "markdown",
   "metadata": {},
   "source": [
    "### AA PC Selection\n",
    "Determine which PCs (eigenvectors) contribute the most influence and include them in the GWAS as covariates. Include the PCs which contribute to at least %75 of the variance.\n",
    "\n",
    "**Note**: we will perform this on our local machine for convenience."
   ]
  },
  {
   "cell_type": "markdown",
   "metadata": {},
   "source": [
    "#### Create PED files \n",
    "The covariates we want to include are `sex`,`age`, and `gold status` and some of the most influential PCs. Sex is encoded as 1=Male and 2=Female in these phenotype data. Here we create the `phen` and `cov` PED files so that downstream processing will be easier. Specifically, creating the PED files will make it easier to select the PCs that explain $\\sim75\\%$ of the variance."
   ]
  },
  {
   "cell_type": "code",
   "execution_count": null,
   "metadata": {},
   "outputs": [],
   "source": [
    "## local console  ##\n",
    "# split phenotype file up by race\n",
    "cd /cygdrive/c/Users/jmarks/Desktop/Projects/Nicotine/COPDGene/copdgene2/pheno\n",
    "\n",
    "head -n 1 phenotype.ftnd.fg.sex.age3.filtered.txt > aa.phenotype.data\n",
    "awk 'NR>=2 {if ($3==2) {print $0}}' phenotype.ftnd.fg.sex.age3.filtered.txt >> aa.phenotype.data"
   ]
  },
  {
   "cell_type": "code",
   "execution_count": 14,
   "metadata": {},
   "outputs": [
    {
     "data": {
      "text/html": [
       "<table>\n",
       "<thead><tr><th scope=col>sid</th><th scope=col>gender</th><th scope=col>race</th><th scope=col>age_p1</th><th scope=col>WstFTND_cat_p2</th><th scope=col>Goldneg1</th><th scope=col>Gold1or2</th><th scope=col>Gold3or4</th></tr></thead>\n",
       "<tbody>\n",
       "\t<tr><td>11941J</td><td>2     </td><td>2     </td><td>45.1  </td><td>0     </td><td>1     </td><td>0     </td><td>0     </td></tr>\n",
       "\t<tr><td>12089G</td><td>1     </td><td>2     </td><td>53.1  </td><td>1     </td><td>1     </td><td>0     </td><td>0     </td></tr>\n",
       "\t<tr><td>12110X</td><td>1     </td><td>2     </td><td>57.1  </td><td>0     </td><td>1     </td><td>0     </td><td>0     </td></tr>\n",
       "\t<tr><td>12343U</td><td>2     </td><td>2     </td><td>56.5  </td><td>0     </td><td>1     </td><td>0     </td><td>0     </td></tr>\n",
       "\t<tr><td>12430P</td><td>1     </td><td>2     </td><td>53.6  </td><td>1     </td><td>1     </td><td>0     </td><td>0     </td></tr>\n",
       "\t<tr><td>12956B</td><td>2     </td><td>2     </td><td>53.8  </td><td>0     </td><td>1     </td><td>0     </td><td>0     </td></tr>\n",
       "</tbody>\n",
       "</table>\n"
      ],
      "text/latex": [
       "\\begin{tabular}{r|llllllll}\n",
       " sid & gender & race & age\\_p1 & WstFTND\\_cat\\_p2 & Goldneg1 & Gold1or2 & Gold3or4\\\\\n",
       "\\hline\n",
       "\t 11941J & 2      & 2      & 45.1   & 0      & 1      & 0      & 0     \\\\\n",
       "\t 12089G & 1      & 2      & 53.1   & 1      & 1      & 0      & 0     \\\\\n",
       "\t 12110X & 1      & 2      & 57.1   & 0      & 1      & 0      & 0     \\\\\n",
       "\t 12343U & 2      & 2      & 56.5   & 0      & 1      & 0      & 0     \\\\\n",
       "\t 12430P & 1      & 2      & 53.6   & 1      & 1      & 0      & 0     \\\\\n",
       "\t 12956B & 2      & 2      & 53.8   & 0      & 1      & 0      & 0     \\\\\n",
       "\\end{tabular}\n"
      ],
      "text/markdown": [
       "\n",
       "sid | gender | race | age_p1 | WstFTND_cat_p2 | Goldneg1 | Gold1or2 | Gold3or4 | \n",
       "|---|---|---|---|---|---|\n",
       "| 11941J | 2      | 2      | 45.1   | 0      | 1      | 0      | 0      | \n",
       "| 12089G | 1      | 2      | 53.1   | 1      | 1      | 0      | 0      | \n",
       "| 12110X | 1      | 2      | 57.1   | 0      | 1      | 0      | 0      | \n",
       "| 12343U | 2      | 2      | 56.5   | 0      | 1      | 0      | 0      | \n",
       "| 12430P | 1      | 2      | 53.6   | 1      | 1      | 0      | 0      | \n",
       "| 12956B | 2      | 2      | 53.8   | 0      | 1      | 0      | 0      | \n",
       "\n",
       "\n"
      ],
      "text/plain": [
       "  sid    gender race age_p1 WstFTND_cat_p2 Goldneg1 Gold1or2 Gold3or4\n",
       "1 11941J 2      2    45.1   0              1        0        0       \n",
       "2 12089G 1      2    53.1   1              1        0        0       \n",
       "3 12110X 1      2    57.1   0              1        0        0       \n",
       "4 12343U 2      2    56.5   0              1        0        0       \n",
       "5 12430P 1      2    53.6   1              1        0        0       \n",
       "6 12956B 2      2    53.8   0              1        0        0       "
      ]
     },
     "metadata": {},
     "output_type": "display_data"
    },
    {
     "data": {
      "text/html": [
       "<table>\n",
       "<thead><tr><th scope=col>FID</th><th scope=col>IID</th><th scope=col>EV1</th><th scope=col>EV2</th><th scope=col>EV3</th><th scope=col>EV4</th><th scope=col>EV5</th><th scope=col>EV6</th><th scope=col>EV7</th><th scope=col>EV8</th><th scope=col>EV9</th><th scope=col>EV10</th></tr></thead>\n",
       "<tbody>\n",
       "\t<tr><td>10012N </td><td>10012N </td><td> 0.1217</td><td> 0.1753</td><td>-0.0110</td><td> 0.0587</td><td>0.1480 </td><td> 0.0932</td><td> 0.1755</td><td> 0.0442</td><td> 0.0365</td><td> 0.1245</td></tr>\n",
       "\t<tr><td>10025W </td><td>10025W </td><td> 0.0691</td><td>-0.0823</td><td>-0.0230</td><td> 0.0342</td><td>0.0896 </td><td> 0.0136</td><td> 0.0679</td><td> 0.0100</td><td> 0.0064</td><td>-0.1178</td></tr>\n",
       "\t<tr><td>10049K </td><td>10049K </td><td>-0.0402</td><td>-0.0018</td><td> 0.0112</td><td>-0.0180</td><td>0.0249 </td><td>-0.0488</td><td>-0.0091</td><td>-0.0119</td><td> 0.0129</td><td>-0.0513</td></tr>\n",
       "\t<tr><td>10055F </td><td>10055F </td><td>-0.0147</td><td>-0.0788</td><td>-0.0606</td><td>-0.0010</td><td>0.0202 </td><td>-0.0202</td><td> 0.0014</td><td>-0.0151</td><td>-0.0063</td><td>-0.0472</td></tr>\n",
       "\t<tr><td>10217F </td><td>10217F </td><td> 0.0179</td><td>-0.0049</td><td> 0.0085</td><td>-0.1169</td><td>0.0004 </td><td>-0.0109</td><td> 0.1307</td><td> 0.0223</td><td>-0.0060</td><td> 0.0040</td></tr>\n",
       "\t<tr><td>10303Y </td><td>10303Y </td><td>-0.0490</td><td>-0.0352</td><td> 0.0074</td><td> 0.0227</td><td>0.0035 </td><td> 0.0148</td><td> 0.0039</td><td> 0.0123</td><td> 0.0813</td><td>-0.0063</td></tr>\n",
       "</tbody>\n",
       "</table>\n"
      ],
      "text/latex": [
       "\\begin{tabular}{r|llllllllllll}\n",
       " FID & IID & EV1 & EV2 & EV3 & EV4 & EV5 & EV6 & EV7 & EV8 & EV9 & EV10\\\\\n",
       "\\hline\n",
       "\t 10012N  & 10012N  &  0.1217 &  0.1753 & -0.0110 &  0.0587 & 0.1480  &  0.0932 &  0.1755 &  0.0442 &  0.0365 &  0.1245\\\\\n",
       "\t 10025W  & 10025W  &  0.0691 & -0.0823 & -0.0230 &  0.0342 & 0.0896  &  0.0136 &  0.0679 &  0.0100 &  0.0064 & -0.1178\\\\\n",
       "\t 10049K  & 10049K  & -0.0402 & -0.0018 &  0.0112 & -0.0180 & 0.0249  & -0.0488 & -0.0091 & -0.0119 &  0.0129 & -0.0513\\\\\n",
       "\t 10055F  & 10055F  & -0.0147 & -0.0788 & -0.0606 & -0.0010 & 0.0202  & -0.0202 &  0.0014 & -0.0151 & -0.0063 & -0.0472\\\\\n",
       "\t 10217F  & 10217F  &  0.0179 & -0.0049 &  0.0085 & -0.1169 & 0.0004  & -0.0109 &  0.1307 &  0.0223 & -0.0060 &  0.0040\\\\\n",
       "\t 10303Y  & 10303Y  & -0.0490 & -0.0352 &  0.0074 &  0.0227 & 0.0035  &  0.0148 &  0.0039 &  0.0123 &  0.0813 & -0.0063\\\\\n",
       "\\end{tabular}\n"
      ],
      "text/markdown": [
       "\n",
       "FID | IID | EV1 | EV2 | EV3 | EV4 | EV5 | EV6 | EV7 | EV8 | EV9 | EV10 | \n",
       "|---|---|---|---|---|---|\n",
       "| 10012N  | 10012N  |  0.1217 |  0.1753 | -0.0110 |  0.0587 | 0.1480  |  0.0932 |  0.1755 |  0.0442 |  0.0365 |  0.1245 | \n",
       "| 10025W  | 10025W  |  0.0691 | -0.0823 | -0.0230 |  0.0342 | 0.0896  |  0.0136 |  0.0679 |  0.0100 |  0.0064 | -0.1178 | \n",
       "| 10049K  | 10049K  | -0.0402 | -0.0018 |  0.0112 | -0.0180 | 0.0249  | -0.0488 | -0.0091 | -0.0119 |  0.0129 | -0.0513 | \n",
       "| 10055F  | 10055F  | -0.0147 | -0.0788 | -0.0606 | -0.0010 | 0.0202  | -0.0202 |  0.0014 | -0.0151 | -0.0063 | -0.0472 | \n",
       "| 10217F  | 10217F  |  0.0179 | -0.0049 |  0.0085 | -0.1169 | 0.0004  | -0.0109 |  0.1307 |  0.0223 | -0.0060 |  0.0040 | \n",
       "| 10303Y  | 10303Y  | -0.0490 | -0.0352 |  0.0074 |  0.0227 | 0.0035  |  0.0148 |  0.0039 |  0.0123 |  0.0813 | -0.0063 | \n",
       "\n",
       "\n"
      ],
      "text/plain": [
       "  FID    IID    EV1     EV2     EV3     EV4     EV5    EV6     EV7     EV8    \n",
       "1 10012N 10012N  0.1217  0.1753 -0.0110  0.0587 0.1480  0.0932  0.1755  0.0442\n",
       "2 10025W 10025W  0.0691 -0.0823 -0.0230  0.0342 0.0896  0.0136  0.0679  0.0100\n",
       "3 10049K 10049K -0.0402 -0.0018  0.0112 -0.0180 0.0249 -0.0488 -0.0091 -0.0119\n",
       "4 10055F 10055F -0.0147 -0.0788 -0.0606 -0.0010 0.0202 -0.0202  0.0014 -0.0151\n",
       "5 10217F 10217F  0.0179 -0.0049  0.0085 -0.1169 0.0004 -0.0109  0.1307  0.0223\n",
       "6 10303Y 10303Y -0.0490 -0.0352  0.0074  0.0227 0.0035  0.0148  0.0039  0.0123\n",
       "  EV9     EV10   \n",
       "1  0.0365  0.1245\n",
       "2  0.0064 -0.1178\n",
       "3  0.0129 -0.0513\n",
       "4 -0.0063 -0.0472\n",
       "5 -0.0060  0.0040\n",
       "6  0.0813 -0.0063"
      ]
     },
     "metadata": {},
     "output_type": "display_data"
    },
    {
     "data": {
      "text/html": [
       "<table>\n",
       "<thead><tr><th scope=col>fid</th><th scope=col>iid</th><th scope=col>patid</th><th scope=col>matid</th><th scope=col>sex</th><th scope=col>age</th><th scope=col>goldneg1</th><th scope=col>gold1or2</th><th scope=col>gold3or4</th><th scope=col>ftnd</th></tr></thead>\n",
       "<tbody>\n",
       "\t<tr><td>10012N</td><td>10012N</td><td>NA    </td><td>NA    </td><td>2     </td><td>60.8  </td><td>0     </td><td>0     </td><td>1     </td><td>2     </td></tr>\n",
       "\t<tr><td>10025W</td><td>10025W</td><td>NA    </td><td>NA    </td><td>1     </td><td>68.9  </td><td>0     </td><td>0     </td><td>1     </td><td>0     </td></tr>\n",
       "\t<tr><td>10049K</td><td>10049K</td><td>NA    </td><td>NA    </td><td>1     </td><td>49.9  </td><td>0     </td><td>1     </td><td>0     </td><td>1     </td></tr>\n",
       "\t<tr><td>10055F</td><td>10055F</td><td>NA    </td><td>NA    </td><td>1     </td><td>69.0  </td><td>0     </td><td>0     </td><td>0     </td><td>1     </td></tr>\n",
       "\t<tr><td>10217F</td><td>10217F</td><td>NA    </td><td>NA    </td><td>1     </td><td>49.9  </td><td>0     </td><td>0     </td><td>0     </td><td>1     </td></tr>\n",
       "\t<tr><td>10303Y</td><td>10303Y</td><td>NA    </td><td>NA    </td><td>1     </td><td>54.1  </td><td>0     </td><td>0     </td><td>1     </td><td>0     </td></tr>\n",
       "</tbody>\n",
       "</table>\n"
      ],
      "text/latex": [
       "\\begin{tabular}{r|llllllllll}\n",
       " fid & iid & patid & matid & sex & age & goldneg1 & gold1or2 & gold3or4 & ftnd\\\\\n",
       "\\hline\n",
       "\t 10012N & 10012N & NA     & NA     & 2      & 60.8   & 0      & 0      & 1      & 2     \\\\\n",
       "\t 10025W & 10025W & NA     & NA     & 1      & 68.9   & 0      & 0      & 1      & 0     \\\\\n",
       "\t 10049K & 10049K & NA     & NA     & 1      & 49.9   & 0      & 1      & 0      & 1     \\\\\n",
       "\t 10055F & 10055F & NA     & NA     & 1      & 69.0   & 0      & 0      & 0      & 1     \\\\\n",
       "\t 10217F & 10217F & NA     & NA     & 1      & 49.9   & 0      & 0      & 0      & 1     \\\\\n",
       "\t 10303Y & 10303Y & NA     & NA     & 1      & 54.1   & 0      & 0      & 1      & 0     \\\\\n",
       "\\end{tabular}\n"
      ],
      "text/markdown": [
       "\n",
       "fid | iid | patid | matid | sex | age | goldneg1 | gold1or2 | gold3or4 | ftnd | \n",
       "|---|---|---|---|---|---|\n",
       "| 10012N | 10012N | NA     | NA     | 2      | 60.8   | 0      | 0      | 1      | 2      | \n",
       "| 10025W | 10025W | NA     | NA     | 1      | 68.9   | 0      | 0      | 1      | 0      | \n",
       "| 10049K | 10049K | NA     | NA     | 1      | 49.9   | 0      | 1      | 0      | 1      | \n",
       "| 10055F | 10055F | NA     | NA     | 1      | 69.0   | 0      | 0      | 0      | 1      | \n",
       "| 10217F | 10217F | NA     | NA     | 1      | 49.9   | 0      | 0      | 0      | 1      | \n",
       "| 10303Y | 10303Y | NA     | NA     | 1      | 54.1   | 0      | 0      | 1      | 0      | \n",
       "\n",
       "\n"
      ],
      "text/plain": [
       "  fid    iid    patid matid sex age  goldneg1 gold1or2 gold3or4 ftnd\n",
       "1 10012N 10012N NA    NA    2   60.8 0        0        1        2   \n",
       "2 10025W 10025W NA    NA    1   68.9 0        0        1        0   \n",
       "3 10049K 10049K NA    NA    1   49.9 0        1        0        1   \n",
       "4 10055F 10055F NA    NA    1   69.0 0        0        0        1   \n",
       "5 10217F 10217F NA    NA    1   49.9 0        0        0        1   \n",
       "6 10303Y 10303Y NA    NA    1   54.1 0        0        1        0   "
      ]
     },
     "metadata": {},
     "output_type": "display_data"
    },
    {
     "data": {
      "text/html": [
       "<table>\n",
       "<thead><tr><th scope=col>fid</th><th scope=col>iid</th><th scope=col>patid</th><th scope=col>matid</th><th scope=col>sex</th><th scope=col>age</th><th scope=col>goldneg1</th><th scope=col>gold1or2</th><th scope=col>gold3or4</th><th scope=col>PC1</th><th scope=col>PC2</th><th scope=col>PC3</th><th scope=col>PC4</th><th scope=col>PC5</th><th scope=col>PC6</th><th scope=col>PC7</th><th scope=col>PC8</th><th scope=col>PC9</th><th scope=col>PC10</th></tr></thead>\n",
       "<tbody>\n",
       "\t<tr><td>10012N </td><td>10012N </td><td>NA     </td><td>NA     </td><td>2      </td><td>60.8   </td><td>0      </td><td>0      </td><td>1      </td><td> 0.1217</td><td> 0.1753</td><td>-0.0110</td><td> 0.0587</td><td>0.1480 </td><td> 0.0932</td><td> 0.1755</td><td> 0.0442</td><td> 0.0365</td><td> 0.1245</td></tr>\n",
       "\t<tr><td>10025W </td><td>10025W </td><td>NA     </td><td>NA     </td><td>1      </td><td>68.9   </td><td>0      </td><td>0      </td><td>1      </td><td> 0.0691</td><td>-0.0823</td><td>-0.0230</td><td> 0.0342</td><td>0.0896 </td><td> 0.0136</td><td> 0.0679</td><td> 0.0100</td><td> 0.0064</td><td>-0.1178</td></tr>\n",
       "\t<tr><td>10049K </td><td>10049K </td><td>NA     </td><td>NA     </td><td>1      </td><td>49.9   </td><td>0      </td><td>1      </td><td>0      </td><td>-0.0402</td><td>-0.0018</td><td> 0.0112</td><td>-0.0180</td><td>0.0249 </td><td>-0.0488</td><td>-0.0091</td><td>-0.0119</td><td> 0.0129</td><td>-0.0513</td></tr>\n",
       "\t<tr><td>10055F </td><td>10055F </td><td>NA     </td><td>NA     </td><td>1      </td><td>69.0   </td><td>0      </td><td>0      </td><td>0      </td><td>-0.0147</td><td>-0.0788</td><td>-0.0606</td><td>-0.0010</td><td>0.0202 </td><td>-0.0202</td><td> 0.0014</td><td>-0.0151</td><td>-0.0063</td><td>-0.0472</td></tr>\n",
       "\t<tr><td>10217F </td><td>10217F </td><td>NA     </td><td>NA     </td><td>1      </td><td>49.9   </td><td>0      </td><td>0      </td><td>0      </td><td> 0.0179</td><td>-0.0049</td><td> 0.0085</td><td>-0.1169</td><td>0.0004 </td><td>-0.0109</td><td> 0.1307</td><td> 0.0223</td><td>-0.0060</td><td> 0.0040</td></tr>\n",
       "\t<tr><td>10303Y </td><td>10303Y </td><td>NA     </td><td>NA     </td><td>1      </td><td>54.1   </td><td>0      </td><td>0      </td><td>1      </td><td>-0.0490</td><td>-0.0352</td><td> 0.0074</td><td> 0.0227</td><td>0.0035 </td><td> 0.0148</td><td> 0.0039</td><td> 0.0123</td><td> 0.0813</td><td>-0.0063</td></tr>\n",
       "</tbody>\n",
       "</table>\n"
      ],
      "text/latex": [
       "\\begin{tabular}{r|lllllllllllllllllll}\n",
       " fid & iid & patid & matid & sex & age & goldneg1 & gold1or2 & gold3or4 & PC1 & PC2 & PC3 & PC4 & PC5 & PC6 & PC7 & PC8 & PC9 & PC10\\\\\n",
       "\\hline\n",
       "\t 10012N  & 10012N  & NA      & NA      & 2       & 60.8    & 0       & 0       & 1       &  0.1217 &  0.1753 & -0.0110 &  0.0587 & 0.1480  &  0.0932 &  0.1755 &  0.0442 &  0.0365 &  0.1245\\\\\n",
       "\t 10025W  & 10025W  & NA      & NA      & 1       & 68.9    & 0       & 0       & 1       &  0.0691 & -0.0823 & -0.0230 &  0.0342 & 0.0896  &  0.0136 &  0.0679 &  0.0100 &  0.0064 & -0.1178\\\\\n",
       "\t 10049K  & 10049K  & NA      & NA      & 1       & 49.9    & 0       & 1       & 0       & -0.0402 & -0.0018 &  0.0112 & -0.0180 & 0.0249  & -0.0488 & -0.0091 & -0.0119 &  0.0129 & -0.0513\\\\\n",
       "\t 10055F  & 10055F  & NA      & NA      & 1       & 69.0    & 0       & 0       & 0       & -0.0147 & -0.0788 & -0.0606 & -0.0010 & 0.0202  & -0.0202 &  0.0014 & -0.0151 & -0.0063 & -0.0472\\\\\n",
       "\t 10217F  & 10217F  & NA      & NA      & 1       & 49.9    & 0       & 0       & 0       &  0.0179 & -0.0049 &  0.0085 & -0.1169 & 0.0004  & -0.0109 &  0.1307 &  0.0223 & -0.0060 &  0.0040\\\\\n",
       "\t 10303Y  & 10303Y  & NA      & NA      & 1       & 54.1    & 0       & 0       & 1       & -0.0490 & -0.0352 &  0.0074 &  0.0227 & 0.0035  &  0.0148 &  0.0039 &  0.0123 &  0.0813 & -0.0063\\\\\n",
       "\\end{tabular}\n"
      ],
      "text/markdown": [
       "\n",
       "fid | iid | patid | matid | sex | age | goldneg1 | gold1or2 | gold3or4 | PC1 | PC2 | PC3 | PC4 | PC5 | PC6 | PC7 | PC8 | PC9 | PC10 | \n",
       "|---|---|---|---|---|---|\n",
       "| 10012N  | 10012N  | NA      | NA      | 2       | 60.8    | 0       | 0       | 1       |  0.1217 |  0.1753 | -0.0110 |  0.0587 | 0.1480  |  0.0932 |  0.1755 |  0.0442 |  0.0365 |  0.1245 | \n",
       "| 10025W  | 10025W  | NA      | NA      | 1       | 68.9    | 0       | 0       | 1       |  0.0691 | -0.0823 | -0.0230 |  0.0342 | 0.0896  |  0.0136 |  0.0679 |  0.0100 |  0.0064 | -0.1178 | \n",
       "| 10049K  | 10049K  | NA      | NA      | 1       | 49.9    | 0       | 1       | 0       | -0.0402 | -0.0018 |  0.0112 | -0.0180 | 0.0249  | -0.0488 | -0.0091 | -0.0119 |  0.0129 | -0.0513 | \n",
       "| 10055F  | 10055F  | NA      | NA      | 1       | 69.0    | 0       | 0       | 0       | -0.0147 | -0.0788 | -0.0606 | -0.0010 | 0.0202  | -0.0202 |  0.0014 | -0.0151 | -0.0063 | -0.0472 | \n",
       "| 10217F  | 10217F  | NA      | NA      | 1       | 49.9    | 0       | 0       | 0       |  0.0179 | -0.0049 |  0.0085 | -0.1169 | 0.0004  | -0.0109 |  0.1307 |  0.0223 | -0.0060 |  0.0040 | \n",
       "| 10303Y  | 10303Y  | NA      | NA      | 1       | 54.1    | 0       | 0       | 1       | -0.0490 | -0.0352 |  0.0074 |  0.0227 | 0.0035  |  0.0148 |  0.0039 |  0.0123 |  0.0813 | -0.0063 | \n",
       "\n",
       "\n"
      ],
      "text/plain": [
       "  fid    iid    patid matid sex age  goldneg1 gold1or2 gold3or4 PC1     PC2    \n",
       "1 10012N 10012N NA    NA    2   60.8 0        0        1         0.1217  0.1753\n",
       "2 10025W 10025W NA    NA    1   68.9 0        0        1         0.0691 -0.0823\n",
       "3 10049K 10049K NA    NA    1   49.9 0        1        0        -0.0402 -0.0018\n",
       "4 10055F 10055F NA    NA    1   69.0 0        0        0        -0.0147 -0.0788\n",
       "5 10217F 10217F NA    NA    1   49.9 0        0        0         0.0179 -0.0049\n",
       "6 10303Y 10303Y NA    NA    1   54.1 0        0        1        -0.0490 -0.0352\n",
       "  PC3     PC4     PC5    PC6     PC7     PC8     PC9     PC10   \n",
       "1 -0.0110  0.0587 0.1480  0.0932  0.1755  0.0442  0.0365  0.1245\n",
       "2 -0.0230  0.0342 0.0896  0.0136  0.0679  0.0100  0.0064 -0.1178\n",
       "3  0.0112 -0.0180 0.0249 -0.0488 -0.0091 -0.0119  0.0129 -0.0513\n",
       "4 -0.0606 -0.0010 0.0202 -0.0202  0.0014 -0.0151 -0.0063 -0.0472\n",
       "5  0.0085 -0.1169 0.0004 -0.0109  0.1307  0.0223 -0.0060  0.0040\n",
       "6  0.0074  0.0227 0.0035  0.0148  0.0039  0.0123  0.0813 -0.0063"
      ]
     },
     "metadata": {},
     "output_type": "display_data"
    },
    {
     "name": "stdout",
     "output_type": "stream",
     "text": [
      "[1] \"Number of AA subjects.\"\n"
     ]
    },
    {
     "data": {
      "text/html": [
       "267"
      ],
      "text/latex": [
       "267"
      ],
      "text/markdown": [
       "267"
      ],
      "text/plain": [
       "[1] 267"
      ]
     },
     "metadata": {},
     "output_type": "display_data"
    }
   ],
   "source": [
    "### R (local) ###\n",
    "\n",
    "setwd(\"C:/Users/jmarks/Desktop/Projects/Nicotine/COPDGene/copdgene2/pheno\")\n",
    "p.data.aa <- \"aa.phenotype.data\"\n",
    "pheno.data.aa <- read.csv(p.data.aa, sep = \" \", header = T, stringsAsFactors = F, \n",
    "                       colClasses=c(\"character\", \"integer\", \"integer\",\"double\",\n",
    "                                    \"integer\",\"integer\",\"integer\", \"integer\"))\n",
    "head(pheno.data.aa)\n",
    "pca.data.aa <- read.csv(\"C:/Users/jmarks/Desktop/Projects/Nicotine/COPDGene/copdgene2/eigenstrat/aa_ld_pruned_top10_eigenvecs.txt\", sep = \" \" , \n",
    "                    colClasses=c(rep(\"character\",times=2), rep(\"double\",times = 10)))\n",
    "head(pca.data.aa)\n",
    "\n",
    "num.subjects.aa <- length(pca.data.aa[,1])\n",
    "\n",
    "header.names <- c(\"fid\", \"iid\", \"patid\", \"matid\", \"sex\", \"age\", \"goldneg1\", \"gold1or2\", \"gold3or4\", \"ftnd\")\n",
    "ped.file.aa <- data.frame(matrix(ncol = length(header.names), nrow = num.subjects.aa))\n",
    "colnames(ped.file.aa) <- header.names\n",
    "ped.file.aa[,1] <- pca.data.aa[,1]\n",
    "ped.file.aa[,2] <- pca.data.aa[,1] # will the iid be the same as the fid?\n",
    "\n",
    "# map loop (goal to fill in sex, age, ftnd, and gold status data on ped.file from the pheno.data)\n",
    "for (i in 1:num.subjects.aa){\n",
    "    key <- noquote(ped.file.aa[i,2])\n",
    "    \n",
    "    my_match <- match(key, pheno.data.aa[,1])\n",
    "    ped.file.aa[i,5] <- pheno.data.aa[my_match,2]# sex\n",
    "    ped.file.aa[i,6] <- pheno.data.aa[my_match,4] # age\n",
    "    ped.file.aa[i,7] <- pheno.data.aa[my_match,6] # goldneg1\n",
    "    ped.file.aa[i,8] <- pheno.data.aa[my_match,7] # gold1or2\n",
    "    ped.file.aa[i,9] <- pheno.data.aa[my_match,8] # gold3or4\n",
    "    ped.file.aa[i,10] <- pheno.data.aa[my_match,5] # ftnd\n",
    "    \n",
    "} # end i loop\n",
    "head(ped.file.aa)\n",
    "#\n",
    "write.table(ped.file.aa, \"COPDGene2_AA_phen.ped\", sep = \"\\t\", row.names = F, quote=F)\n",
    "#\n",
    "##----------------------------------------------------------------------------------\n",
    "### Cov file\n",
    "\n",
    "# 10 PCs plus all of the covariates (exclude ftnd data)\n",
    "col.names.aa <- c(\"fid\", \"iid\", \"patid\", \"matid\", \"sex\", \"age\",\n",
    "                  \"goldneg1\", \"gold1or2\", \"gold3or4\", \"PC1\", \"PC2\",\n",
    "                  \"PC3\",\"PC4\",\"PC5\",\"PC6\",\"PC7\",\"PC8\",\"PC9\",\"PC10\")\n",
    "num.columns.aa <- length(col.names.aa)\n",
    "covar.data.aa <- data.frame(matrix(ncol = num.columns.aa, nrow = num.subjects.aa))\n",
    "names(covar.data.aa) <- col.names.aa\n",
    "num.covs.aa <- length(ped.file.aa) - 1\n",
    "covar.data.aa[,1:num.covs.aa] <- ped.file.aa[,1:num.covs.aa]\n",
    "\n",
    "covar.data.aa[,(num.covs.aa+1):length(covar.data.aa)] <- pca.data.aa[,3:length(pca.data.aa)]\n",
    "head(covar.data.aa)\n",
    "print(\"Number of AA subjects.\")\n",
    "length(covar.data.aa[,1])\n",
    "\n",
    "write.table(covar.data.aa, \"COPDGene2_AA_cov.ped\", quote=FALSE, row.names = FALSE, sep = \"\\t\")"
   ]
  },
  {
   "cell_type": "code",
   "execution_count": 16,
   "metadata": {},
   "outputs": [
    {
     "data": {
      "text/html": [
       "<table>\n",
       "<thead><tr><th scope=col>iid</th><th scope=col>ftnd</th><th scope=col>PC1</th><th scope=col>PC2</th><th scope=col>PC3</th><th scope=col>PC4</th><th scope=col>PC5</th><th scope=col>PC6</th><th scope=col>PC7</th><th scope=col>PC8</th><th scope=col>PC9</th><th scope=col>PC10</th></tr></thead>\n",
       "<tbody>\n",
       "\t<tr><td>10012N </td><td>2      </td><td> 0.1217</td><td> 0.1753</td><td>-0.0110</td><td> 0.0587</td><td>0.1480 </td><td> 0.0932</td><td> 0.1755</td><td> 0.0442</td><td> 0.0365</td><td> 0.1245</td></tr>\n",
       "\t<tr><td>10025W </td><td>0      </td><td> 0.0691</td><td>-0.0823</td><td>-0.0230</td><td> 0.0342</td><td>0.0896 </td><td> 0.0136</td><td> 0.0679</td><td> 0.0100</td><td> 0.0064</td><td>-0.1178</td></tr>\n",
       "\t<tr><td>10049K </td><td>1      </td><td>-0.0402</td><td>-0.0018</td><td> 0.0112</td><td>-0.0180</td><td>0.0249 </td><td>-0.0488</td><td>-0.0091</td><td>-0.0119</td><td> 0.0129</td><td>-0.0513</td></tr>\n",
       "\t<tr><td>10055F </td><td>1      </td><td>-0.0147</td><td>-0.0788</td><td>-0.0606</td><td>-0.0010</td><td>0.0202 </td><td>-0.0202</td><td> 0.0014</td><td>-0.0151</td><td>-0.0063</td><td>-0.0472</td></tr>\n",
       "\t<tr><td>10217F </td><td>1      </td><td> 0.0179</td><td>-0.0049</td><td> 0.0085</td><td>-0.1169</td><td>0.0004 </td><td>-0.0109</td><td> 0.1307</td><td> 0.0223</td><td>-0.0060</td><td> 0.0040</td></tr>\n",
       "\t<tr><td>10303Y </td><td>0      </td><td>-0.0490</td><td>-0.0352</td><td> 0.0074</td><td> 0.0227</td><td>0.0035 </td><td> 0.0148</td><td> 0.0039</td><td> 0.0123</td><td> 0.0813</td><td>-0.0063</td></tr>\n",
       "</tbody>\n",
       "</table>\n"
      ],
      "text/latex": [
       "\\begin{tabular}{r|llllllllllll}\n",
       " iid & ftnd & PC1 & PC2 & PC3 & PC4 & PC5 & PC6 & PC7 & PC8 & PC9 & PC10\\\\\n",
       "\\hline\n",
       "\t 10012N  & 2       &  0.1217 &  0.1753 & -0.0110 &  0.0587 & 0.1480  &  0.0932 &  0.1755 &  0.0442 &  0.0365 &  0.1245\\\\\n",
       "\t 10025W  & 0       &  0.0691 & -0.0823 & -0.0230 &  0.0342 & 0.0896  &  0.0136 &  0.0679 &  0.0100 &  0.0064 & -0.1178\\\\\n",
       "\t 10049K  & 1       & -0.0402 & -0.0018 &  0.0112 & -0.0180 & 0.0249  & -0.0488 & -0.0091 & -0.0119 &  0.0129 & -0.0513\\\\\n",
       "\t 10055F  & 1       & -0.0147 & -0.0788 & -0.0606 & -0.0010 & 0.0202  & -0.0202 &  0.0014 & -0.0151 & -0.0063 & -0.0472\\\\\n",
       "\t 10217F  & 1       &  0.0179 & -0.0049 &  0.0085 & -0.1169 & 0.0004  & -0.0109 &  0.1307 &  0.0223 & -0.0060 &  0.0040\\\\\n",
       "\t 10303Y  & 0       & -0.0490 & -0.0352 &  0.0074 &  0.0227 & 0.0035  &  0.0148 &  0.0039 &  0.0123 &  0.0813 & -0.0063\\\\\n",
       "\\end{tabular}\n"
      ],
      "text/markdown": [
       "\n",
       "iid | ftnd | PC1 | PC2 | PC3 | PC4 | PC5 | PC6 | PC7 | PC8 | PC9 | PC10 | \n",
       "|---|---|---|---|---|---|\n",
       "| 10012N  | 2       |  0.1217 |  0.1753 | -0.0110 |  0.0587 | 0.1480  |  0.0932 |  0.1755 |  0.0442 |  0.0365 |  0.1245 | \n",
       "| 10025W  | 0       |  0.0691 | -0.0823 | -0.0230 |  0.0342 | 0.0896  |  0.0136 |  0.0679 |  0.0100 |  0.0064 | -0.1178 | \n",
       "| 10049K  | 1       | -0.0402 | -0.0018 |  0.0112 | -0.0180 | 0.0249  | -0.0488 | -0.0091 | -0.0119 |  0.0129 | -0.0513 | \n",
       "| 10055F  | 1       | -0.0147 | -0.0788 | -0.0606 | -0.0010 | 0.0202  | -0.0202 |  0.0014 | -0.0151 | -0.0063 | -0.0472 | \n",
       "| 10217F  | 1       |  0.0179 | -0.0049 |  0.0085 | -0.1169 | 0.0004  | -0.0109 |  0.1307 |  0.0223 | -0.0060 |  0.0040 | \n",
       "| 10303Y  | 0       | -0.0490 | -0.0352 |  0.0074 |  0.0227 | 0.0035  |  0.0148 |  0.0039 |  0.0123 |  0.0813 | -0.0063 | \n",
       "\n",
       "\n"
      ],
      "text/plain": [
       "  iid    ftnd PC1     PC2     PC3     PC4     PC5    PC6     PC7     PC8    \n",
       "1 10012N 2     0.1217  0.1753 -0.0110  0.0587 0.1480  0.0932  0.1755  0.0442\n",
       "2 10025W 0     0.0691 -0.0823 -0.0230  0.0342 0.0896  0.0136  0.0679  0.0100\n",
       "3 10049K 1    -0.0402 -0.0018  0.0112 -0.0180 0.0249 -0.0488 -0.0091 -0.0119\n",
       "4 10055F 1    -0.0147 -0.0788 -0.0606 -0.0010 0.0202 -0.0202  0.0014 -0.0151\n",
       "5 10217F 1     0.0179 -0.0049  0.0085 -0.1169 0.0004 -0.0109  0.1307  0.0223\n",
       "6 10303Y 0    -0.0490 -0.0352  0.0074  0.0227 0.0035  0.0148  0.0039  0.0123\n",
       "  PC9     PC10   \n",
       "1  0.0365  0.1245\n",
       "2  0.0064 -0.1178\n",
       "3  0.0129 -0.0513\n",
       "4 -0.0063 -0.0472\n",
       "5 -0.0060  0.0040\n",
       "6  0.0813 -0.0063"
      ]
     },
     "metadata": {},
     "output_type": "display_data"
    }
   ],
   "source": [
    "### R console ###\n",
    "\n",
    "# Load PCA data\n",
    "setwd('C:/Users/jmarks/Desktop/Projects/Nicotine/COPDGene/copdgene2/pheno/')\n",
    "options(stringsAsFactors=F)\n",
    "aa.cov.data <- read.delim(\"COPDGene2_AA_cov.ped\", header=T, sep=\"\\t\")\n",
    "aa.phen.data <- read.delim(\"COPDGene2_AA_phen.ped\", header=T, sep=\"\\t\")\n",
    "\n",
    "# Combine PCs and phenotype into one data frame\n",
    "phen.name <- \"ftnd\"\n",
    "pc.names <- paste0(\"PC\", 1:10)\n",
    "aa.data <- merge(x=aa.phen.data[,c(\"iid\",phen.name)], y=aa.cov.data[, c(\"iid\", paste0(\"PC\",1:10))], by=\"iid\")\n",
    "head(aa.data)"
   ]
  },
  {
   "cell_type": "markdown",
   "metadata": {},
   "source": [
    "#### Regression analysis\n",
    "We use a regression model of the general structure $$\\begin{align}\n",
    "\\text{FTND = PC1 + PC2 + ... + PC10}\n",
    "\\end{align}$$"
   ]
  },
  {
   "cell_type": "code",
   "execution_count": 17,
   "metadata": {},
   "outputs": [
    {
     "name": "stdout",
     "output_type": "stream",
     "text": [
      "MODEL FORMULA:\n",
      "\n",
      " ftnd ~ PC1 + PC2 + PC3 + PC4 + PC5 + PC6 + PC7 + PC8 + PC9 + PC10 \n",
      "\n",
      "\n",
      "================ AA group ================"
     ]
    },
    {
     "data": {
      "text/plain": [
       "\n",
       "Call:\n",
       "lm(formula = as.formula(model.str), data = aa.data)\n",
       "\n",
       "Residuals:\n",
       "    Min      1Q  Median      3Q     Max \n",
       "-0.8033 -0.5227 -0.4175  0.4749  1.6598 \n",
       "\n",
       "Coefficients:\n",
       "            Estimate Std. Error t value Pr(>|t|)    \n",
       "(Intercept)  0.52060    0.03852  13.515   <2e-16 ***\n",
       "PC1         -0.01856    0.62940  -0.029    0.976    \n",
       "PC2         -0.50035    0.62939  -0.795    0.427    \n",
       "PC3          0.10076    0.62939   0.160    0.873    \n",
       "PC4          0.10583    0.62939   0.168    0.867    \n",
       "PC5         -0.04439    0.62941  -0.071    0.944    \n",
       "PC6         -0.54616    0.62938  -0.868    0.386    \n",
       "PC7          0.26453    0.62941   0.420    0.675    \n",
       "PC8         -0.20947    0.62940  -0.333    0.740    \n",
       "PC9          0.26400    0.62940   0.419    0.675    \n",
       "PC10        -0.68136    0.62946  -1.082    0.280    \n",
       "---\n",
       "Signif. codes:  0 '***' 0.001 '**' 0.01 '*' 0.05 '.' 0.1 ' ' 1\n",
       "\n",
       "Residual standard error: 0.6294 on 256 degrees of freedom\n",
       "Multiple R-squared:  0.01189,\tAdjusted R-squared:  -0.02671 \n",
       "F-statistic: 0.308 on 10 and 256 DF,  p-value: 0.9787\n"
      ]
     },
     "metadata": {},
     "output_type": "display_data"
    },
    {
     "data": {
      "text/html": [
       "<table>\n",
       "<thead><tr><th></th><th scope=col>Df</th><th scope=col>Sum Sq</th><th scope=col>Mean Sq</th><th scope=col>F value</th><th scope=col>Pr(&gt;F)</th><th scope=col>PVE</th></tr></thead>\n",
       "<tbody>\n",
       "\t<tr><th scope=row>PC10</th><td>1           </td><td>0.4641830577</td><td>0.4641830577</td><td>1.1717096066</td><td>0.2800688   </td><td>38.05       </td></tr>\n",
       "\t<tr><th scope=row>PC6</th><td>1           </td><td>0.2982782100</td><td>0.2982782100</td><td>0.7529258948</td><td>0.3863641   </td><td>24.45       </td></tr>\n",
       "\t<tr><th scope=row>PC2</th><td>1           </td><td>0.2503860205</td><td>0.2503860205</td><td>0.6320344974</td><td>0.4273465   </td><td>20.52       </td></tr>\n",
       "\t<tr><th scope=row>PC7</th><td>1           </td><td>0.0699646452</td><td>0.0699646452</td><td>0.1766075808</td><td>0.6746575   </td><td> 5.73       </td></tr>\n",
       "\t<tr><th scope=row>PC9</th><td>1           </td><td>0.0696747659</td><td>0.0696747659</td><td>0.1758758558</td><td>0.6752934   </td><td> 5.71       </td></tr>\n",
       "\t<tr><th scope=row>PC8</th><td>1           </td><td>0.0438778697</td><td>0.0438778697</td><td>0.1107582893</td><td>0.7395549   </td><td> 3.60       </td></tr>\n",
       "\t<tr><th scope=row>PC4</th><td>1           </td><td>0.0112057546</td><td>0.0112057546</td><td>0.0282860180</td><td>0.8665709   </td><td> 0.92       </td></tr>\n",
       "\t<tr><th scope=row>PC3</th><td>1           </td><td>0.0101669454</td><td>0.0101669454</td><td>0.0256638138</td><td>0.8728504   </td><td> 0.83       </td></tr>\n",
       "\t<tr><th scope=row>PC5</th><td>1           </td><td>0.0019732463</td><td>0.0019732463</td><td>0.0049809478</td><td>0.9437904   </td><td> 0.16       </td></tr>\n",
       "\t<tr><th scope=row>PC1</th><td>1           </td><td>0.0003438556</td><td>0.0003438556</td><td>0.0008679742</td><td>0.9765196   </td><td> 0.03       </td></tr>\n",
       "</tbody>\n",
       "</table>\n"
      ],
      "text/latex": [
       "\\begin{tabular}{r|llllll}\n",
       "  & Df & Sum Sq & Mean Sq & F value & Pr(>F) & PVE\\\\\n",
       "\\hline\n",
       "\tPC10 & 1            & 0.4641830577 & 0.4641830577 & 1.1717096066 & 0.2800688    & 38.05       \\\\\n",
       "\tPC6 & 1            & 0.2982782100 & 0.2982782100 & 0.7529258948 & 0.3863641    & 24.45       \\\\\n",
       "\tPC2 & 1            & 0.2503860205 & 0.2503860205 & 0.6320344974 & 0.4273465    & 20.52       \\\\\n",
       "\tPC7 & 1            & 0.0699646452 & 0.0699646452 & 0.1766075808 & 0.6746575    &  5.73       \\\\\n",
       "\tPC9 & 1            & 0.0696747659 & 0.0696747659 & 0.1758758558 & 0.6752934    &  5.71       \\\\\n",
       "\tPC8 & 1            & 0.0438778697 & 0.0438778697 & 0.1107582893 & 0.7395549    &  3.60       \\\\\n",
       "\tPC4 & 1            & 0.0112057546 & 0.0112057546 & 0.0282860180 & 0.8665709    &  0.92       \\\\\n",
       "\tPC3 & 1            & 0.0101669454 & 0.0101669454 & 0.0256638138 & 0.8728504    &  0.83       \\\\\n",
       "\tPC5 & 1            & 0.0019732463 & 0.0019732463 & 0.0049809478 & 0.9437904    &  0.16       \\\\\n",
       "\tPC1 & 1            & 0.0003438556 & 0.0003438556 & 0.0008679742 & 0.9765196    &  0.03       \\\\\n",
       "\\end{tabular}\n"
      ],
      "text/markdown": [
       "\n",
       "| <!--/--> | Df | Sum Sq | Mean Sq | F value | Pr(>F) | PVE | \n",
       "|---|---|---|---|---|---|---|---|---|---|\n",
       "| PC10 | 1            | 0.4641830577 | 0.4641830577 | 1.1717096066 | 0.2800688    | 38.05        | \n",
       "| PC6 | 1            | 0.2982782100 | 0.2982782100 | 0.7529258948 | 0.3863641    | 24.45        | \n",
       "| PC2 | 1            | 0.2503860205 | 0.2503860205 | 0.6320344974 | 0.4273465    | 20.52        | \n",
       "| PC7 | 1            | 0.0699646452 | 0.0699646452 | 0.1766075808 | 0.6746575    |  5.73        | \n",
       "| PC9 | 1            | 0.0696747659 | 0.0696747659 | 0.1758758558 | 0.6752934    |  5.71        | \n",
       "| PC8 | 1            | 0.0438778697 | 0.0438778697 | 0.1107582893 | 0.7395549    |  3.60        | \n",
       "| PC4 | 1            | 0.0112057546 | 0.0112057546 | 0.0282860180 | 0.8665709    |  0.92        | \n",
       "| PC3 | 1            | 0.0101669454 | 0.0101669454 | 0.0256638138 | 0.8728504    |  0.83        | \n",
       "| PC5 | 1            | 0.0019732463 | 0.0019732463 | 0.0049809478 | 0.9437904    |  0.16        | \n",
       "| PC1 | 1            | 0.0003438556 | 0.0003438556 | 0.0008679742 | 0.9765196    |  0.03        | \n",
       "\n",
       "\n"
      ],
      "text/plain": [
       "     Df Sum Sq       Mean Sq      F value      Pr(>F)    PVE  \n",
       "PC10 1  0.4641830577 0.4641830577 1.1717096066 0.2800688 38.05\n",
       "PC6  1  0.2982782100 0.2982782100 0.7529258948 0.3863641 24.45\n",
       "PC2  1  0.2503860205 0.2503860205 0.6320344974 0.4273465 20.52\n",
       "PC7  1  0.0699646452 0.0699646452 0.1766075808 0.6746575  5.73\n",
       "PC9  1  0.0696747659 0.0696747659 0.1758758558 0.6752934  5.71\n",
       "PC8  1  0.0438778697 0.0438778697 0.1107582893 0.7395549  3.60\n",
       "PC4  1  0.0112057546 0.0112057546 0.0282860180 0.8665709  0.92\n",
       "PC3  1  0.0101669454 0.0101669454 0.0256638138 0.8728504  0.83\n",
       "PC5  1  0.0019732463 0.0019732463 0.0049809478 0.9437904  0.16\n",
       "PC1  1  0.0003438556 0.0003438556 0.0008679742 0.9765196  0.03"
      ]
     },
     "metadata": {},
     "output_type": "display_data"
    }
   ],
   "source": [
    "# Build model formula\n",
    "model.str <- paste0(phen.name, \" ~ \", paste(pc.names, collapse=\" + \"))\n",
    "cat(\"MODEL FORMULA:\\n\\n\", model.str, \"\\n\")\n",
    "\n",
    "# Get model fits\n",
    "lm.fit.aa <- lm(formula=as.formula(model.str), data=aa.data)\n",
    "\n",
    "# Get sequential (type I) sum of squares\n",
    "anova.aa <- anova(lm.fit.aa)\n",
    "\n",
    "# Calculate percent variance explained and sort\n",
    "aa.pve <- cbind(anova.aa[pc.names,], \n",
    "                PVE=round(anova.aa[pc.names, \"Mean Sq\"]/sum(anova.aa[pc.names, \"Mean Sq\"])*100, digits=2))\n",
    "aa.pve.sorted <- aa.pve[order(aa.pve$PVE, decreasing=T),]\n",
    "\n",
    "# Output regression info\n",
    "cat(\"\\n\\n================ AA group ================\")\n",
    "summary(lm.fit.aa)\n",
    "aa.pve.sorted"
   ]
  },
  {
   "cell_type": "markdown",
   "metadata": {},
   "source": [
    "#### Percent Variance Explained Visualization"
   ]
  },
  {
   "cell_type": "code",
   "execution_count": 18,
   "metadata": {},
   "outputs": [
    {
     "data": {
      "image/png": "[encoded data removed]",
      "text/plain": [
       "Plot with title \"AA PVE Cumulative Sum\""
      ]
     },
     "metadata": {},
     "output_type": "display_data"
    },
    {
     "data": {
      "image/png": "[encoded data removed]",
      "text/plain": [
       "Plot with title \"aa PVE Cumulative Sum (Sorted PCs)\""
      ]
     },
     "metadata": {},
     "output_type": "display_data"
    }
   ],
   "source": [
    "options(repr.plot.width=13, repr.plot.height=5)\n",
    "\n",
    "# Set graphical parameters\n",
    "cex.factor = 0.9\n",
    "barplot.ylim.aa = c(0, max(aa.pve$PVE)*1.2)\n",
    "\n",
    "# Visualize PVE\n",
    "par(mfrow=c(1,2))\n",
    "barplot(height=aa.pve$PVE, names.arg=rownames(aa.pve), beside=T, cex.names=cex.factor, \n",
    "        col=\"red3\", border=\"red3\", ylim=barplot.ylim.aa, \n",
    "        main=\"AA Percent Variance Explained\", ylab=\"PVE\")\n",
    "plot(cumsum(aa.pve$PVE), type=\"b\", main=\"AA PVE Cumulative Sum\", ylab=\"PVE\", \n",
    "     lwd=2, col=\"red3\", pch=17, xaxt=\"n\", xlab=\"\", ylim=c(0,100))\n",
    "axis(side=1, at=c(1:10), labels=rownames(aa.pve), cex.axis=cex.factor)\n",
    "\n",
    "par(mfrow=c(1,2))\n",
    "barplot(height=aa.pve.sorted$PVE, names.arg=rownames(aa.pve.sorted), beside=T, cex.names=cex.factor, \n",
    "        col=\"red3\", border=\"red3\", ylim=barplot.ylim.aa, main=\"aa Percent Variance Explained (Sorted PCs)\", ylab=\"PVE\")\n",
    "plot(cumsum(aa.pve.sorted$PVE), type=\"b\", main=\"aa PVE Cumulative Sum (Sorted PCs)\", ylab=\"PVE\", \n",
    "     lwd=2, col=\"red3\", pch=17, xaxt=\"n\", xlab=\"\", ylim=c(0,100))\n",
    "axis(side=1, at=c(1:10), labels=rownames(aa.pve.sorted), cex.axis=cex.factor)"
   ]
  },
  {
   "cell_type": "markdown",
   "metadata": {},
   "source": [
    "Based on these results we will use PC10, PC6, and PC2. These PCs explain ~84% of the variance."
   ]
  },
  {
   "cell_type": "markdown",
   "metadata": {},
   "source": [
    "#### Construct a phenotype file for ProbABEL with PCs\n",
    "* Need to include PC10, PC6, & PC2.\n",
    "* Header needs to be\n",
    "\n",
    "```\n",
    "IID     CAT_FTND      SEX     EV10     EV6     EV2\n",
    "```"
   ]
  },
  {
   "cell_type": "code",
   "execution_count": null,
   "metadata": {},
   "outputs": [],
   "source": [
    "## local machine ##\n",
    "cd /cygdrive/c/Users/jmarks/Desktop/Projects/Nicotine/COPDGene/copdgene2/pheno\n",
    "\n",
    "# the IID in the phenotype file needs to be of the form \"iid\"\n",
    "# to match the iid in the mldose file\n",
    "awk 'BEGIN{} NR>=2{print $1}' COPDGene2_AA_cov.ped > IID.aa.txt"
   ]
  },
  {
   "cell_type": "code",
   "execution_count": 21,
   "metadata": {},
   "outputs": [
    {
     "name": "stdout",
     "output_type": "stream",
     "text": [
      "[1] \"Number of AA subjects.\"\n"
     ]
    },
    {
     "data": {
      "text/html": [
       "267"
      ],
      "text/latex": [
       "267"
      ],
      "text/markdown": [
       "267"
      ],
      "text/plain": [
       "[1] 267"
      ]
     },
     "metadata": {},
     "output_type": "display_data"
    },
    {
     "data": {
      "text/html": [
       "<table>\n",
       "<thead><tr><th scope=col>IID</th><th scope=col>CAT_FTND</th><th scope=col>SEX</th><th scope=col>AGE</th><th scope=col>GOLDNEG1</th><th scope=col>GOLD1OR2</th><th scope=col>GOLD3OR4</th><th scope=col>EV10</th><th scope=col>EV6</th><th scope=col>EV2</th></tr></thead>\n",
       "<tbody>\n",
       "\t<tr><td>10012N </td><td>2      </td><td>2      </td><td>60.8   </td><td>0      </td><td>0      </td><td>1      </td><td> 0.1245</td><td> 0.0932</td><td> 0.1753</td></tr>\n",
       "\t<tr><td>10025W </td><td>0      </td><td>1      </td><td>68.9   </td><td>0      </td><td>0      </td><td>1      </td><td>-0.1178</td><td> 0.0136</td><td>-0.0823</td></tr>\n",
       "\t<tr><td>10049K </td><td>1      </td><td>1      </td><td>49.9   </td><td>0      </td><td>1      </td><td>0      </td><td>-0.0513</td><td>-0.0488</td><td>-0.0018</td></tr>\n",
       "\t<tr><td>10055F </td><td>1      </td><td>1      </td><td>69.0   </td><td>0      </td><td>0      </td><td>0      </td><td>-0.0472</td><td>-0.0202</td><td>-0.0788</td></tr>\n",
       "\t<tr><td>10217F </td><td>1      </td><td>1      </td><td>49.9   </td><td>0      </td><td>0      </td><td>0      </td><td> 0.0040</td><td>-0.0109</td><td>-0.0049</td></tr>\n",
       "\t<tr><td>10303Y </td><td>0      </td><td>1      </td><td>54.1   </td><td>0      </td><td>0      </td><td>1      </td><td>-0.0063</td><td> 0.0148</td><td>-0.0352</td></tr>\n",
       "</tbody>\n",
       "</table>\n"
      ],
      "text/latex": [
       "\\begin{tabular}{r|llllllllll}\n",
       " IID & CAT\\_FTND & SEX & AGE & GOLDNEG1 & GOLD1OR2 & GOLD3OR4 & EV10 & EV6 & EV2\\\\\n",
       "\\hline\n",
       "\t 10012N  & 2       & 2       & 60.8    & 0       & 0       & 1       &  0.1245 &  0.0932 &  0.1753\\\\\n",
       "\t 10025W  & 0       & 1       & 68.9    & 0       & 0       & 1       & -0.1178 &  0.0136 & -0.0823\\\\\n",
       "\t 10049K  & 1       & 1       & 49.9    & 0       & 1       & 0       & -0.0513 & -0.0488 & -0.0018\\\\\n",
       "\t 10055F  & 1       & 1       & 69.0    & 0       & 0       & 0       & -0.0472 & -0.0202 & -0.0788\\\\\n",
       "\t 10217F  & 1       & 1       & 49.9    & 0       & 0       & 0       &  0.0040 & -0.0109 & -0.0049\\\\\n",
       "\t 10303Y  & 0       & 1       & 54.1    & 0       & 0       & 1       & -0.0063 &  0.0148 & -0.0352\\\\\n",
       "\\end{tabular}\n"
      ],
      "text/markdown": [
       "\n",
       "IID | CAT_FTND | SEX | AGE | GOLDNEG1 | GOLD1OR2 | GOLD3OR4 | EV10 | EV6 | EV2 | \n",
       "|---|---|---|---|---|---|\n",
       "| 10012N  | 2       | 2       | 60.8    | 0       | 0       | 1       |  0.1245 |  0.0932 |  0.1753 | \n",
       "| 10025W  | 0       | 1       | 68.9    | 0       | 0       | 1       | -0.1178 |  0.0136 | -0.0823 | \n",
       "| 10049K  | 1       | 1       | 49.9    | 0       | 1       | 0       | -0.0513 | -0.0488 | -0.0018 | \n",
       "| 10055F  | 1       | 1       | 69.0    | 0       | 0       | 0       | -0.0472 | -0.0202 | -0.0788 | \n",
       "| 10217F  | 1       | 1       | 49.9    | 0       | 0       | 0       |  0.0040 | -0.0109 | -0.0049 | \n",
       "| 10303Y  | 0       | 1       | 54.1    | 0       | 0       | 1       | -0.0063 |  0.0148 | -0.0352 | \n",
       "\n",
       "\n"
      ],
      "text/plain": [
       "  IID    CAT_FTND SEX AGE  GOLDNEG1 GOLD1OR2 GOLD3OR4 EV10    EV6     EV2    \n",
       "1 10012N 2        2   60.8 0        0        1         0.1245  0.0932  0.1753\n",
       "2 10025W 0        1   68.9 0        0        1        -0.1178  0.0136 -0.0823\n",
       "3 10049K 1        1   49.9 0        1        0        -0.0513 -0.0488 -0.0018\n",
       "4 10055F 1        1   69.0 0        0        0        -0.0472 -0.0202 -0.0788\n",
       "5 10217F 1        1   49.9 0        0        0         0.0040 -0.0109 -0.0049\n",
       "6 10303Y 0        1   54.1 0        0        1        -0.0063  0.0148 -0.0352"
      ]
     },
     "metadata": {},
     "output_type": "display_data"
    }
   ],
   "source": [
    "### R console ###\n",
    "setwd(\"C:/Users/jmarks/Desktop/Projects/Nicotine/COPDGene/copdgene2/pheno\")\n",
    "\n",
    "# read in data files\n",
    "phen <- read.table(\"COPDGene2_AA_phen.ped\", header=T)\n",
    "cov <- read.table(\"COPDGene2_AA_cov.ped\", header=T)\n",
    "iid <- read.table(\"IID.aa.txt\", header=F)\n",
    "num.subjects <- length(iid[,1])\n",
    "print(\"Number of AA subjects.\")\n",
    "num.subjects\n",
    "\n",
    "# create data frame to combine those files\n",
    "covar.names <- c(\"IID\", \"CAT_FTND\", \"SEX\", \"AGE\", \"GOLDNEG1\", \n",
    "                       \"GOLD1OR2\", \"GOLD3OR4\", \"EV10\", \"EV6\", \"EV2\")\n",
    "covar.data <- data.frame(matrix(ncol = length(covar.names), nrow = num.subjects))\n",
    "names(covar.data) <- covar.names\n",
    "covar.data[1] <- iid[1]\n",
    "covar.data[2] <- phen[10]\n",
    "covar.data[3] <- phen[5]\n",
    "covar.data[4] <- phen[6]\n",
    "covar.data[5] <- phen[7]\n",
    "covar.data[6] <- phen[8]\n",
    "covar.data[7] <- phen[9]\n",
    "# PCs \n",
    "covar.data[8] <- cov[19]\n",
    "covar.data[9] <- cov[15]\n",
    "covar.data[10] <- cov[11]\n",
    "head(covar.data)\n",
    "\n",
    "write.table(x = covar.data, file = \"copdgene2.aa.CAT_FTND.SEX.AGE.GOLD.EVs\", quote = F, row.names = F)"
   ]
  },
  {
   "cell_type": "markdown",
   "metadata": {},
   "source": [
    "### Transfer Phenotype Files \n",
    "This analysis is going to be performed on MIDAS. We will therefore have to transfer these EA and AA phenotype files that we created."
   ]
  },
  {
   "cell_type": "code",
   "execution_count": null,
   "metadata": {},
   "outputs": [],
   "source": [
    "## MIDAS ##\n",
    "# create directory structure on MIDAS\n",
    "mkdir -p /share/nas04/jmarks/gwas/copdgene2/{association_tests/001,phenotype}"
   ]
  },
  {
   "cell_type": "code",
   "execution_count": null,
   "metadata": {},
   "outputs": [],
   "source": [
    "## local command line ##\n",
    "cd /cygdrive/c/Users/jmarks/Desktop/Projects/Nicotine/COPDGene/copdgene2/pheno\n",
    "\n",
    "scp copdgene2.* jmarks@rtplhpc01.rti.ns:/share/nas04/jmarks/gwas/copdgene2/phenotype/"
   ]
  },
  {
   "cell_type": "markdown",
   "metadata": {},
   "source": [
    "## Genotype Data COPDGene2\n",
    "The genotype data have been imputed on the in-house computing cluster MIDAS using impute2. IMPUTE2 is a computer program for phasing observed genotypes and imputing missing genotypes\n",
    "\n",
    "The imputed data are split by chromosome and the chromosome data are further split into chunks. Because of this, we will incorporate the Nextflow pipeline that has already been established. "
   ]
  },
  {
   "cell_type": "markdown",
   "metadata": {},
   "source": [
    "# ProbABEL Analysis with Nextflow\n",
    "We try out ProbABEL as integrated into [Nextflow](https://www.nextflow.io/). Nextflow allows you to write a computational pipeline by making it simpler to put together many different tasks. \n",
    "\n",
    "* For the analysis, I will need the script: `_pipeline.association.out_stats_files.run.sh` and `nextflow.config`.\n",
    "\n",
    "* To generate the plots I will need: `_methods.cogend.imputed.v3.association_tests.006.sh`\n",
    "\n",
    "These scripts were copied to my working directory from an example directory on MIDAS at the location:\n",
    "\n",
    "`/share/nas04/bioinformatics_group/data/studies/jhs_aric_aa/imputed/v3/association_tests/001`"
   ]
  },
  {
   "cell_type": "markdown",
   "metadata": {},
   "source": [
    "## Scripts to run analysis\n",
    "These scripts should be placed in the working directory. For this analysis on MIDAS, the working directory they were placed in was `/share/nas04/jmarks/gwas/copdgene2/associtation_tests/001`\n",
    "\n",
    "To run the analysis, simply `cd` into working directory and run the command:\n",
    "`sh _pipeline.association.out_stats_files.run.sh`\n",
    "\n",
    "#### pipeline script"
   ]
  },
  {
   "cell_type": "code",
   "execution_count": null,
   "metadata": {},
   "outputs": [],
   "source": [
    "#!/bin/sh\n",
    "\n",
    "for ancestry in {ea,aa}; do\n",
    "    working_dir=/share/nas04/jmarks/gwas/copdgene2/association_tests/001/${ancestry}\n",
    "    imputation_root=/share/nas03/bioinformatics_group/data/studies/copdgene/imputed/v3/imputations\n",
    "    # path to phenotype file created in the section above\n",
    "    phenotype_root=/share/nas04/jmarks/gwas/copdgene2/phenotype \n",
    "\n",
    "    method=palinear # GWAS method\n",
    "\n",
    "    for (( chr=1; chr<24; chr++ )); do\n",
    "        out_file=copdgene2.${ancestry}.1000G_p3.chr$chr.CAT_FTND~SNP+AGE+SEX+EVs.stats\n",
    "        phenotype_file=copdgene2.${ancestry}.CAT_FTND.SEX.AGE.GOLD.EVs\n",
    "        geno_prefix=copdgene.${ancestry}.1000G_p3.chr\n",
    "\n",
    "        /share/nas03/bioinformatics_group/software/nextflow/nextflow-0.25.1-all \\\n",
    "        /share/nas03/bioinformatics_group/software/pipeline/_pipeline.association.out_stats_files.v0.1.nf \\\n",
    "            --final_chunks $imputation_root/chunks/final_chunks.chr$chr \\\n",
    "            --input_pheno $phenotype_root/$phenotype_file \\\n",
    "            --imputation_dir $imputation_root/${ancestry}/chr$chr \\\n",
    "            --example_mldose $imputation_root/${ancestry}/chr$chr/copdgene.${ancestry}.1000G_p3.chr$chr.2.mach.mldose.gz \\\n",
    "            --geno_prefix $geno_prefix \\\n",
    "            --working_dirs $working_dir \\\n",
    "            --out ${working_dir}/$out_file \\\n",
    "            --method $method\n",
    "\n",
    "        rm -r $working_dir/../work\n",
    "    done\n",
    "done"
   ]
  },
  {
   "cell_type": "markdown",
   "metadata": {},
   "source": [
    "#### nextflow.config"
   ]
  },
  {
   "cell_type": "code",
   "execution_count": null,
   "metadata": {},
   "outputs": [],
   "source": [
    "## MIDAS ##\n",
    "cd /share/nas04/jmarks/gwas/copdgene2/associtation_tests/001/\n",
    "\n",
    "cat nextflow.config\n",
    "\"\"\"\n",
    "process.executor = 'sge'\n",
    "process.clusterOptions = '-S /bin/bash'\n",
    "\"\"\""
   ]
  },
  {
   "cell_type": "markdown",
   "metadata": {},
   "source": [
    "### Error message"
   ]
  },
  {
   "cell_type": "code",
   "execution_count": null,
   "metadata": {},
   "outputs": [],
   "source": [
    "\"\"\" Reading info data...\n",
    "  Number of SNPs = 113721\n",
    "  Reading phenotype data...\n",
    "  Actual number of people in phenofile = 2630; using all of these\n",
    "  Linear model: ( CAT_FTND ) ~ mu + SEX + AGE + GOLDNEG1 + GOLD1OR2 + GOLD3OR4 + EV4 + EV2 + SNP_A1\n",
    "  Reading genotype data...\n",
    "\n",
    "Command error:\n",
    "  No digits were found while reading genetic data (individual 2324, position 113693)\n",
    "\n",
    "Work dir:\n",
    "  /share/nas04/jmarks/gwas/copdgene2/association_tests/001/work/19/1096cdaa311714371967a9edea6c3d\n",
    "\"\"\""
   ]
  },
  {
   "cell_type": "markdown",
   "metadata": {},
   "source": [
    "# Filter Results and Plot\n",
    "This scripts should be placed in the working directory. For this analysis on MIDAS, the working directory they were placed in was `/share/nas04/jmarks/gwas/copdgene2/association_tests/001`.\n",
    "\n",
    "We will apply the filters\n",
    "* MAF > 0.01\n",
    "* and Rsq > 0.3\n",
    "\n",
    "to the results of the GWAS analysis. Once the results are filtered, we will generate a [quantile-quantile (QQ) plot](https://www.itl.nist.gov/div898/handbook/eda/section3/qqplot.htm) as well as a [Manhattan plot](https://www.sciencedirect.com/topics/medicine-and-dentistry/manhattan-plot).\n",
    "\n",
    "**Note**: The script below should be modified for each cohort and/or ancestry group. For example:\n",
    "* line 2 and line 194 should be changed to copdgene2 for that cohort\n",
    "*  if running for both ancestry groups line 7 should be commented out while, line 6, 16, 29, 59, 66, 88, 110, 133, 172, 192,  should be uncommented out\n",
    "* uncomment all of the end-loop *done* expressions that correspond to the above bullet-point example\n",
    "\n",
    "Also note this is the legacy script designed for execution on the in-house MIDAS cluster. The paths should be modified as necessary for computing on different computing platforms."
   ]
  },
  {
   "cell_type": "code",
   "execution_count": null,
   "metadata": {},
   "outputs": [],
   "source": [
    "ASSOCIATION_ROOT=/share/nas04/jmarks/gwas/copdgene2/association_tests/001\n",
    "COHORT=copdgene2\n",
    "MODEL=CAT_FTND~SNP+AGE+SEX+GOLD+EVs\n",
    "\n",
    "# making directories to process the results\n",
    "#for ancestry in {ea,aa}; do\n",
    "ancestry=aa\n",
    "    for (( chr=1; chr<24; chr++ )); do\n",
    "        mkdir -p $ASSOCIATION_ROOT/$ancestry/processing/chr$chr\n",
    "    done\n",
    "    mkdir $ASSOCIATION_ROOT/$ancestry/final\n",
    "#done\n",
    "### START Filter ###\n",
    "\n",
    "# add in chr id\n",
    "#for ancestry in {ea,aa}; do\n",
    "\n",
    "    for (( chr=1; chr<24; chr++ )); do\n",
    "        inFile=$ASSOCIATION_ROOT/$ancestry/$COHORT.$ancestry.1000G_p3.chr$chr.$MODEL.stats\n",
    "        echo Processing $inFile\n",
    "        outFile=$ASSOCIATION_ROOT/$ancestry/processing/chr$chr/$COHORT.$ancestry.1000G_p3.chr$chr.$MODEL.stats\n",
    "        echo -e \"chr\\tname\\tposition\\tA1\\tA2\\tFreq1\\tMAF\\tQuality\\tRsq\\tn\\tMean_predictor_allele\\tbeta_SNP_add\\tsebeta_SNP_add\\tchi2_SNP\\tchi\\tp\\tor_95_percent_ci\" > $outFile\n",
    "        tail -n +1 $inFile |\n",
    "          perl -slne '{ print join(\"\\t\", \"$chr\", \"$_\"); }' -- -chr=\"$chr\" >> $outFile # pass rudamentary arg\n",
    "    done\n",
    "#done\n",
    "\n",
    "# MAF > 0.01 in AFR (AA) or EUR (EA)\n",
    "#for ancestry in {ea,aa};do\n",
    "  if [ $ancestry == \"aa\" ]; then\n",
    "    group=afr\n",
    "  else\n",
    "    group=eur\n",
    "  fi\n",
    "    for (( chr=1; chr<24; chr++ )); do\n",
    "      if [ $chr == \"23\" ]; then\n",
    "        # this is a list of all of the variants that have a MAF less than 0.01. We will use this as a remove list.\n",
    "        idList=/share/nas03/bioinformatics_group/data/ref_panels/1000G/2014.10/1000GP_Phase3_chrX_NONPAR.maf_lte_0.01_$group\n",
    "      else\n",
    "        idList=/share/nas03/bioinformatics_group/data/ref_panels/1000G/2014.10/1000GP_Phase3_chr$chr.maf_lte_0.01_$group\n",
    "      fi\n",
    "      /share/nas03/bioinformatics_group/software/scripts/qsub_job.sh \\\n",
    "        --job_name ${ancestry}_${chr} \\\n",
    "        --script_prefix $ASSOCIATION_ROOT/$ancestry/processing/chr$chr/$COHORT.$ancestry.1000G_p3.chr$chr.$MODEL.maf_gt_0.01_$group \\\n",
    "        --mem 3.8 \\\n",
    "        --priority 0 \\\n",
    "        --program /share/nas03/bioinformatics_group/software/perl/extract_rows.pl \\\n",
    "        --source $ASSOCIATION_ROOT/$ancestry/processing/chr$chr/$COHORT.$ancestry.1000G_p3.chr$chr.$MODEL.stats \\\n",
    "        --id_list $idList \\\n",
    "        --out $ASSOCIATION_ROOT/$ancestry/processing/chr$chr/$COHORT.$ancestry.1000G_p3.chr$chr.$MODEL.maf_gt_0.01_$group \\\n",
    "        --header 0 \\\n",
    "        --id_column 1 \\\n",
    "        --remove\n",
    "    done\n",
    "#done\n",
    "\n",
    "python /home/jmarks/monitor.py # report progress on jobs\n",
    "\n",
    "#for ancestry in aa; do\n",
    "# note the three question marks is a wildcard\n",
    "  mv $ASSOCIATION_ROOT/$ancestry/processing/chr*/*.maf_gt_0.01_??? \\\n",
    "   $ASSOCIATION_ROOT/$ancestry/final\n",
    "#done\n",
    "\n",
    "# Filter out variants with MAF <= 0.01 in study\n",
    "#for ancestry in {ea,aa}; do\n",
    "    if [ $ancestry == \"aa\" ]; then\n",
    "        group=afr\n",
    "    else\n",
    "        group=eur\n",
    "    fi\n",
    "    for (( chr=1; chr<24; chr++ )); do\n",
    "        inFile=$ASSOCIATION_ROOT/$ancestry/final/$COHORT.$ancestry.1000G_p3.chr$chr.$MODEL.maf_gt_0.01_$group\n",
    "        outFile=$ASSOCIATION_ROOT/$ancestry/final/$COHORT.$ancestry.1000G_p3.chr$chr.$MODEL.maf_gt_0.01_${group}+$COHORT\n",
    "        echo Processing $inFile\n",
    "        head -n 1 $inFile > $outFile\n",
    "        tail -n +2 $inFile |\n",
    "            # ?: is a non-capturing group. Basically, This is skipping groups 1-6 and capturing\n",
    "            # the 7th column which is the MAF column\n",
    "            perl -lne '/^(?:\\S+\\s+){6}(\\S+)/;\n",
    "                        if ( $1 > 0.01) {\n",
    "                            print;\n",
    "                        }' >> $outFile\n",
    "    done\n",
    "#done\n",
    "\n",
    "# Filter out variants with Rsq <= 0.3 in study\n",
    "#for ancestry in {ea,aa}; do\n",
    "    if [ $ancestry == \"aa\" ]; then\n",
    "        group=afr\n",
    "    else\n",
    "        group=eur\n",
    "    fi\n",
    "    for (( chr=1; chr<24; chr++ )); do\n",
    "    inFile=$ASSOCIATION_ROOT/$ancestry/final/$COHORT.$ancestry.1000G_p3.chr$chr.$MODEL.maf_gt_0.01_${group}+$COHORT\n",
    "    outFile=$ASSOCIATION_ROOT/$ancestry/final/$COHORT.$ancestry.1000G_p3.chr$chr.$MODEL.maf_gt_0.01_${group}+$COHORT.rsq_gt_0.3\n",
    "    echo Processing $inFile\n",
    "    head -n 1 $inFile > $outFile\n",
    "    tail -n +2 $inFile |\n",
    "        perl -lne '/^(?:\\S+\\s+){8}(\\S+)/;\n",
    "                    if ( $1 > 0.3) {\n",
    "                        print;\n",
    "                    }' >> $outFile\n",
    "    done\n",
    "#done\n",
    "\n",
    "### END Filter ###\n",
    "\n",
    "### START Generate plots ###\n",
    "#for ancestry in aa; do\n",
    "  if [ $ancestry == \"aa\" ]; then\n",
    "    group=afr\n",
    "  else\n",
    "    group=eur\n",
    "  fi\n",
    "  for ext in $group ${group}+$COHORT.rsq_gt_0.3; do\n",
    "        outFile=$ASSOCIATION_ROOT/$ancestry/processing/$COHORT.$ancestry.1000G_p3.$MODEL.maf_gt_0.01_$ext.table\n",
    "echo -e \"VARIANT_ID\\tCHR\\tPOSITION\\tP\\tTYPE\" > $outFile\n",
    "for (( chr=1; chr<24; chr++ )); do\n",
    "    inFile=$ASSOCIATION_ROOT/$ancestry/final/$COHORT.$ancestry.1000G_p3.chr$chr.$MODEL.maf_gt_0.01_$ext\n",
    "    echo Processing $inFile\n",
    "    tail -n +2 $inFile |\n",
    "      perl -lne '/^(\\S+)\\s+(\\S+)\\s+(\\S+)\\s+(\\S+)\\s+(\\S+)(?:\\s+\\S+){10}\\s+(\\S+)/;\n",
    "                 if (($4 eq \"A\" || $4 eq \"C\" || $4 eq \"G\" || $4 eq \"T\") && ($5 eq \"A\" || $5 eq \"C\" || $5 eq \"G\" || $5 eq \"T\")) {\n",
    "                   print join(\"\\t\",$2,$1,$3,$6,\"snp\");\n",
    "                 } else {\n",
    "                   print join(\"\\t\",$2,$1,$3,$6,\"indel\");\n",
    "                 }' >> $outFile\n",
    "done\n",
    "done\n",
    "#done\n",
    "\n",
    "#for ancestry in {ea,aa}; do\n",
    "  if [ $ancestry == \"aa\" ]; then\n",
    "    group=afr\n",
    "  else\n",
    "    group=eur\n",
    "  fi\n",
    "  for ext in $group ${group}+$COHORT.rsq_gt_0.3; do\n",
    "/share/nas03/bioinformatics_group/software/scripts/qsub_job.sh \\\n",
    "  --job_name gwas_plots \\\n",
    "  --script_prefix $ASSOCIATION_ROOT/$ancestry/processing/$COHORT.$ancestry.1000G_p3.$MODEL.maf_gt_0.01_$ext.plots \\\n",
    "  --mem 15 \\\n",
    "  --priority 0 \\\n",
    "  --program /share/nas03/bioinformatics_group/software/R/dev/generate_gwas_plots.v6.R \\\n",
    "  --in $ASSOCIATION_ROOT/$ancestry/processing/$COHORT.$ancestry.1000G_p3.$MODEL.maf_gt_0.01_$ext.table \\\n",
    "  --in_chromosomes autosomal_nonPAR \\\n",
    "  --in_header \\\n",
    "  --out $ASSOCIATION_ROOT/$ancestry/final/$COHORT.$ancestry.1000G_p3.$MODEL.maf_gt_0.01_$ext \\\n",
    "  --col_id VARIANT_ID \\\n",
    "  --col_chromosome CHR \\\n",
    "  --col_position POSITION \\\n",
    "  --col_p P \\\n",
    "  --col_variant_type TYPE \\\n",
    "  --generate_snp_indel_manhattan_plot \\\n",
    "  --manhattan_odd_chr_color red \\\n",
    "  --manhattan_even_chr_color blue \\\n",
    "  --manhattan_points_cex 1.5 \\\n",
    "  --generate_snp_indel_qq_plot \\\n",
    "  --qq_lines \\\n",
    "  --qq_points_bg black \\\n",
    "  --qq_lambda\n",
    "done\n",
    "#done\n",
    "\n",
    "### END Generate plots ###\n",
    "\n",
    "\n",
    "### START Filter by p-value ###\n",
    "\n",
    "# MAF > 0.01 in AFR and EUR\n",
    "#for ancestry in aa; do\n",
    "  if [ $ancestry == \"aa\" ]; then\n",
    "    group=afr\n",
    "  else\n",
    "    group=eur\n",
    "  fi\n",
    "  for ext in $group ${group}+$COHORT.rsq_gt_0.3; do\n",
    "    outFile=$ASSOCIATION_ROOT/$ancestry/processing/$COHORT.$ancestry.1000G_p3.$MODEL.maf_gt_0.01_$ext.p_lte_0.001\n",
    "    head -n 1 $ASSOCIATION_ROOT/$ancestry/final/$COHORT.$ancestry.1000G_p3.chr1.$MODEL.maf_gt_0.01_$ext > \\\n",
    "      $outFile\n",
    "    for (( chr=1; chr<24; chr++ )); do\n",
    "      echo Processing ${ASSOCIATION_ROOT}/$ancestry/final/$COHORT.$ancestry.1000G_p3.chr$chr.$MODEL.maf_gt_0.01_$ext\n",
    "      tail -n +2 $ASSOCIATION_ROOT/$ancestry/final/$COHORT.$ancestry.1000G_p3.chr$chr.$MODEL.maf_gt_0.01_$ext |\n",
    "        perl -lane 'if ($F[15] <= 0.001) { print; }' >> \\\n",
    "        $outFile\n",
    "    done\n",
    "done\n",
    "#done\n",
    "\n",
    "# Sort\n",
    "#for (ancestry in c(\"ea\",\"aa\")){\n",
    "for (ancestry in c(\"aa\")){\n",
    "        cohort=\"copdgene2\"\n",
    "        if (ancestry == \"aa\") { group = \"afr\" } else if (ancestry == \"ea\") { group = \"eur\" }\n",
    "        dat=read.table(paste0('/share/nas04/jmarks/gwas/',cohort, '/association_tests/001/',\n",
    "                              ancestry,'/processing/', cohort, '.',ancestry,\n",
    "                              '.1000G_p3.CAT_FTND~SNP+AGE+SEX+GOLD+EVs.maf_gt_0.01_',\n",
    "                              group,'.p_lte_0.001'), header = TRUE)\n",
    "        dat = dat[order(dat$p),]\n",
    "        write.csv(dat,\n",
    "            file = paste0('/share/nas04/jmarks/gwas/',cohort,'/association_tests/001/',\n",
    "                          ancestry,'/final/', cohort, '.',ancestry,'.1000G_p3.CAT_FTND~SNP+AGE+SEX+GOLD+EVs.maf_gt_0.01_',\n",
    "                          group,'.p_lte_0.001.csv'), row.names = FALSE)\n",
    "    \n",
    "    \n",
    "        dat=read.table(paste0('/share/nas04/jmarks/gwas/', cohort,'/association_tests/001/',\n",
    "                              ancestry,'/processing/', cohort, '.',ancestry,\n",
    "                              '.1000G_p3.CAT_FTND~SNP+AGE+SEX+GOLD+EVs.maf_gt_0.01_',group,\n",
    "                              '+', cohort, '.rsq_gt_0.3.p_lte_0.001'), header=TRUE)\n",
    "        dat = dat[order(dat$p),]\n",
    "        write.csv(dat,\n",
    "                  file = paste0('/share/nas04/jmarks/gwas/', cohort, '/association_tests/001/',\n",
    "                         ancestry,'/final/', cohort, '.', ancestry, '.1000G_p3.CAT_FTND~SNP+AGE+SEX+GOLD+EVs.maf_gt_0.01_',\n",
    "                         group,'+',cohort,'.rsq_gt_0.3.p_lte_0.001.csv'), row.names = FALSE)\n",
    "}\n",
    "\n",
    "## END Filter by p-value ###"
   ]
  },
  {
   "cell_type": "markdown",
   "metadata": {},
   "source": [
    "## monitor.py\n",
    "This python script was used in the above filtering/plotting script to let the user know the status of the processing jobs.\n",
    "\n",
    "Location: `/home/jmarks/monitor.py`"
   ]
  },
  {
   "cell_type": "code",
   "execution_count": null,
   "metadata": {},
   "outputs": [],
   "source": [
    "import subprocess\n",
    "from sys import stdout, argv\n",
    "from time import sleep\n",
    "def check():\n",
    "    p = subprocess.Popen(['qstat'], stdout = subprocess.PIPE, stderr = subprocess.PIPE)\n",
    "    out, err = p.communicate()\n",
    "    return len(out.split('\\n')) - 3, out\n",
    "\n",
    "rows, msg = check()\n",
    "\n",
    "while(rows > 0):\n",
    "    stdout.write(\"\\r%d jobs remaining...............\" % rows)\n",
    "    if(len(argv) > 1 and argv[1] == \"show\"):\n",
    "        stdout.write('/n/')\n",
    "        stdout.write(msg)\n",
    "    stdout.flush()\n",
    "    sleep(10)\n",
    "    rows, msg = check()\n",
    "stdout.write(\"\\n\" + \"Finished.\\n\")"
   ]
  },
  {
   "cell_type": "markdown",
   "metadata": {},
   "source": [
    "## Copy Results to Local"
   ]
  },
  {
   "cell_type": "code",
   "execution_count": null,
   "metadata": {},
   "outputs": [],
   "source": [
    "## local console ##\n",
    "cd /cygdrive/c/Users/jmarks/Desktop/Projects/Nicotine/COPDGene/copdgene2/results/aa/figures\n",
    "scp jmarks@rtplhpc01.rti.ns:/share/nas04/jmarks/gwas/copdgene2/association_tests/001/aa/final/*png .\n",
    "\n",
    "cd /cygdrive/c/Users/jmarks/Desktop/Projects/Nicotine/COPDGene/copdgene2/results/aa\n",
    "scp jmarks@rtplhpc01.rti.ns:/share/nas04/jmarks/gwas/copdgene2/association_tests/001/aa/final/*.csv ."
   ]
  },
  {
   "cell_type": "markdown",
   "metadata": {},
   "source": [
    "# Sandbox"
   ]
  },
  {
   "cell_type": "code",
   "execution_count": null,
   "metadata": {},
   "outputs": [],
   "source": [
    "## EC2 ##\n",
    "cd /shared/s3/copdgene2/association_tests\n",
    "\n",
    "ancestry=aa\n",
    "#for chr in {5,6,11}; do\n",
    "chr=5\n",
    "    for chunk in $(grep -P \"^$chr\\s+\" /shared/s3/copdgene2/data/genotype/imputed/final_chunks | perl -lane 'print $F[1];'); do  \n",
    "\n",
    "        baseName=copdgene.${ancestry}.1000G_p3.chr${chr}.${chunk}\n",
    "        imputationDir=/shared/s3/copdgene2/data/genotype/imputed/$ancestry/chr$chr\n",
    "        phenotypeDir=/shared/s3/copdgene2/data/phenotype\n",
    "        processingDir=/shared/s3/copdgene2/association_tests\n",
    "        model=CAT_FTND.SEX.AGE.GOLD.EVs\n",
    "        \n",
    "        /shared/bioinformatics/software/scripts/qsub_job.sh \\\n",
    "            --job_name copdgene2_${chr}_$chunk \\\n",
    "            --script_prefix $processingDir/chr$chr/$baseName.$model \\\n",
    "            --mem 10 \\\n",
    "            --priority 0 \\\n",
    "            --program /shared/bioinformatics/software/third_party/probabel-0.5.0/bin/palinear \\\n",
    "                --pheno $phenotypeDir/copdgene2.aa.CAT_FTND.SEX.AGE.GOLD.EVs\n",
    "                --dose $imputationDir/$baseName.mach.mldose\n",
    "                --info $imputationDir/$baseName.mach.mlinfo\n",
    "                --map $imputationDir/$baseName.legend\n",
    "                --chrom $chr\n",
    "                --out $processingDir/$ancestry/$baseName.$model\n",
    "    done\n",
    "done\n",
    "\n",
    "\n"
   ]
  },
  {
   "cell_type": "code",
   "execution_count": null,
   "metadata": {},
   "outputs": [],
   "source": []
  },
  {
   "cell_type": "code",
   "execution_count": null,
   "metadata": {},
   "outputs": [],
   "source": []
  },
  {
   "cell_type": "code",
   "execution_count": null,
   "metadata": {},
   "outputs": [],
   "source": []
  },
  {
   "cell_type": "code",
   "execution_count": null,
   "metadata": {},
   "outputs": [],
   "source": []
  },
  {
   "cell_type": "code",
   "execution_count": null,
   "metadata": {},
   "outputs": [],
   "source": []
  },
  {
   "cell_type": "code",
   "execution_count": null,
   "metadata": {},
   "outputs": [],
   "source": []
  },
  {
   "cell_type": "code",
   "execution_count": null,
   "metadata": {},
   "outputs": [],
   "source": []
  },
  {
   "cell_type": "code",
   "execution_count": null,
   "metadata": {},
   "outputs": [],
   "source": []
  },
  {
   "cell_type": "code",
   "execution_count": null,
   "metadata": {},
   "outputs": [],
   "source": []
  },
  {
   "cell_type": "code",
   "execution_count": null,
   "metadata": {},
   "outputs": [],
   "source": []
  },
  {
   "cell_type": "code",
   "execution_count": null,
   "metadata": {},
   "outputs": [],
   "source": []
  },
  {
   "cell_type": "code",
   "execution_count": null,
   "metadata": {},
   "outputs": [],
   "source": []
  },
  {
   "cell_type": "code",
   "execution_count": null,
   "metadata": {},
   "outputs": [],
   "source": []
  },
  {
   "cell_type": "code",
   "execution_count": null,
   "metadata": {},
   "outputs": [],
   "source": []
  },
  {
   "cell_type": "code",
   "execution_count": null,
   "metadata": {},
   "outputs": [],
   "source": []
  },
  {
   "cell_type": "code",
   "execution_count": null,
   "metadata": {},
   "outputs": [],
   "source": [
    "\n",
    "\n",
    "\n",
    "\n",
    "\n",
    "\n",
    "\n",
    "\n",
    "\n",
    "\n",
    "\n",
    "\n",
    "\n",
    "\n",
    "\n",
    "\n",
    "\n",
    "\n",
    "\n",
    "\n",
    "\n",
    "\n",
    "\n",
    "\n",
    "\n",
    "\n",
    "\n",
    "\n",
    "\n",
    "\n",
    "\n",
    "\n",
    "\n",
    "\n"
   ]
  }
 ],
 "metadata": {
  "kernelspec": {
   "display_name": "R",
   "language": "R",
   "name": "ir"
  },
  "language_info": {
   "codemirror_mode": "r",
   "file_extension": ".r",
   "mimetype": "text/x-r-source",
   "name": "R",
   "pygments_lexer": "r",
   "version": "3.4.3"
  },
  "toc": {
   "nav_menu": {},
   "number_sections": true,
   "sideBar": true,
   "skip_h1_title": false,
   "toc_cell": false,
   "toc_position": {
    "height": "724px",
    "left": "0px",
    "right": "1468px",
    "top": "111px",
    "width": "212px"
   },
   "toc_section_display": "block",
   "toc_window_display": true
  }
 },
 "nbformat": 4,
 "nbformat_minor": 2
}
