{
 "cells": [
  {
   "cell_type": "markdown",
   "metadata": {},
   "source": [
    "# COPDGene2 Fagerstrom Test For Nicotine Dependence (FTND) GWAS\n",
    "__Author:__ Jesse Marks\n",
    "\n",
    "See [GitHub Issue #78](emerge_ea.1000G.CAT_FTND~SNP+SEX+EVs.maf_gt_0.01_rsq_gt_0.30_ea.snps+indels.manhattan.png.gz)\n",
    "\n",
    "This document logs the steps taken to process:\n",
    "\n",
    "* `Genetic Epidemiology of COPD (COPDGene) Funded by the National Heart, Lung, and Blood Institute` data and perform the FTND GWAS. The [COPDGene](https://www.ncbi.nlm.nih.gov/projects/gap/cgi-bin/study.cgi?study_id=phs000179.v1.p1) cohort is racially diverse and sufficiently large and appropriately designed for genome-wide association analysis of COPD. \n",
    "\n",
    "* There are 10k subjects including control smokers, definitie COPD cases (GOLD Stage 2 to 4) and subjects not included in either group (GOLD 1 or GOLD-Unclassified). \n",
    "\n",
    "* The focus of this study is genome-wide association analysis to identify the genetic risk factors that determine susceptibility for COPD and COPD-related phenotypes.\n",
    "\n",
    "* Our phenotype of interest is FTND\n",
    "\n",
    "FTND is a standard instrument for assessing the physical addiction to nicotine. For more information, see [this website](https://cde.drugabuse.gov/instrument/d7c0b0f5-b865-e4de-e040-bb89ad43202b).\n",
    "\n",
    "The imputed genotype are stored on Amazon Web Services S3 at:\n",
    "\n",
    "`s3://rti-nd/COPDGene`\n",
    "\n",
    "* We use the variable `FTNDboth_cat` variable that lumps together the former smokers that have lifetime FTND (N=736) with the current smokers that have current FTND (N=78). This will optimize sample size, especially since the severe category is slim.\n",
    "\n",
    "* **Note**: I will first perform the GWAS with only the autosomes \n",
    "\n",
    "* John Guo would like me to try this with the nextFlow pipeline"
   ]
  },
  {
   "cell_type": "markdown",
   "metadata": {},
   "source": [
    "# What we know\n",
    "* we have 1000 Genomes phase 3 imputation already available on the full COPDGene dataset\n",
    "* double-check that there are no duplicate individuals between our existing COPDGene1 GWAS (current smokers only) and this new COPDGene2 dataset (mostly former smokers, but some current smokers embedded). If there is duplication, drop them from COPDGene2.\n",
    "* we will run COPDGene1 and COPDGene2 separately because FTND was collected several years apart and there were some key differences in the way that the questions were asked in the different waves. We will keep the two waves separate to circumvent any potential discrepancies which could arrise because of the phenotypes being less than harmonious and then we will combine them in a meta-analysis later. \n",
    "* There will be ~2900 with FTND data collected in wave 2 but NOT in wave 1 - these are the ones to be inclused in the new COPDGene2 GWAS (N=2610 EAs and 290 AAs).\n",
    "\n",
    "* I will run the GWAS analysis with the following variables:\n",
    "\n",
    "**COPDGene1** (all data from phase 1 original dataset)\n",
    "\n",
    "*cat_FTND_phase1*\n",
    "\n",
    "*age_enroll*\n",
    "\n",
    "*gender*\n",
    "\n",
    "*finalGOLD dummy variables*\n",
    "\n",
    " \n",
    "\n",
    "**COPDGene2** (all data from phase 2 LFU dataset, except for gender and finalGOLD which was collected only in phase 1)\n",
    "\n",
    "*cat_FTND_phase2*\n",
    "\n",
    "*age_LFU*\n",
    "\n",
    "*gender*\n",
    "\n",
    "*finalGOLD* (dummy variables)\n",
    "\n",
    "\n",
    "* Once the phenotype data are ready, I need to first run chr15 and send Dana the results so she can compare them with our previously generated results for known SNPs\n",
    "\n",
    "* What is the finalGOLD dummy variable?\n",
    "\n",
    "* Phenotypes will be all in one file with both sets of variables\n",
    "\n",
    "Now that we have -1 to include, I proposed 3 dummy variables with\n",
    "\n",
    "GOLD 0 (reference)\n",
    "\n",
    "GOLD -1 (dummy variable 1)\n",
    "\n",
    "GOLD 1 and 2 (dummy variable 2)\n",
    "\n",
    "GOLD 3 and 4 (dummy variable 3)\n",
    "\n",
    "* FTND outcome and covariates are now ready at the path:\n",
    "    \n",
    "    `\\\\rcdcollaboration01.rti.ns\\GxG\\Analysis\\COPDGene\\phenotypes\\Phase2\\COPD Both waves with Cat FTND_v2.xls`\n",
    "\n",
    "* GOLD stands for the Global Initiative for Chronic Obstructive Lung Disease. Essentially, GOLD it is a metric for quantifying the severity of COPD a patient has.\n",
    "\n",
    "\n",
    "* need to separate by race (1=White and 2=Black or African American)\n",
    "\n",
    "\n",
    "\n",
    "* For COPDGene1, we are increasing the sample size by several hundred. This is because, the previous analysis of COPDGene1 included only the subjects with determinant COPD GOLD status (finalGold=0 for controls, 1/2 for cases, and 3/4 for severe cases.) Now we know that subjects with an indeterminant status (i.e. finalGold=-1) were subjects that were classified to be between case and control. With this newfound knowledge, we can go ahead and include these subjects and rerun COPDGene1 with these subjects plus the subjects that were in the previous analysis. The model will be:\n",
    "\n",
    "`CurFTND_cat_p1 = SNP + age_p1 + gender + Goldneg1 +Gold1or2 + Gold3or4 + EVs to be selected`\n",
    "    * Also note that in this phase1, the subjects were all current smokers. (max N=5289)\n",
    "\n",
    "* For phase2, COPDGene2, we need to exclude all of the subjects which were included in COPDGene1. This will leave *mostly* former smokers with lifetime FTND reported (max N=2934). There will be some current smokers picked up in phase2 and we will include them here.\n",
    "\n",
    "`WstFTND_cat_p2 = SNP + age_p1 + gender + Goldneg1 +Gold1or2 + Gold3or4 + EVs to be selected`\n",
    "\n"
   ]
  },
  {
   "cell_type": "markdown",
   "metadata": {},
   "source": [
    "### First order of business is to run chromosome 15 for COPDGene2\n",
    "This is so that we can compare the results with previously generated COPDGene2 results before going genome-wide.\n",
    "* first thing I am going to do is run the phase2 COPDGene1. I need to filter out the subjects from the phenotype file that match the criteria specified. The criteria for COPDGene1 are:\n",
    "\n",
    "```1) WstFTND_cat_p2 (mostly former smokers with some current smokers picked up)\n",
    "2) age_p1 (age at current visit)\n",
    "3) gender (1=male, 2=female)\n",
    "4) Goldneg1 (between case and control - exhibits signs of both. Failed one diagnostic test while passing another.)\n",
    "5) Gold1or2 (cases)\n",
    "6) Gold3or4 (severe cases)\n",
    "7) EVs to be selected```\n",
    "\n",
    "**Also, I need to split the data up by race** (1=white, 2=black) \n",
    "\n",
    "**Note** We cannot assume that the increments in the GOLD classification are equal which is why we need to embed dummy variables rather than a single categorical variable in our regression models.\n",
    "\n",
    "\n",
    "* So, 2,934 is the maximum number of subjects that will be included in COPDGene2. We will have to filter this down based on if the subjects have `sex, age, GOLD status,` and `genotype data.` Also, there are reportedly 4 subjects for COPDGene2 (have entries for the WstFTND_cat_p2 variable) that are missing finalGold status. Of those 4, 3 marked 0 for `Goldneg1`, `Gold1or2`, or `Gold3or4` and the other 1 has NA for those three variables. We will treat these 4 subjects as missing and exclude them from the analysis.\n",
    "\n",
    "\n",
    "* Also, we need to separate these by race once all of these filteres have been applied"
   ]
  },
  {
   "cell_type": "markdown",
   "metadata": {},
   "source": [
    "### WstFTND_cat_p2 variable description\n",
    "| cat | Freq |\n",
    "|-----|------|\n",
    "| 0   | 1,122 |   \n",
    "| 1   | 1,286 |   \n",
    "| 2   | 526   |   \n",
    "\n",
    "* Where FTND conversion is 0=0-3, 1=4-6, and 2=7+"
   ]
  },
  {
   "cell_type": "markdown",
   "metadata": {
    "collapsed": true
   },
   "source": [
    "# Phenotype Data COPDGene2\n",
    "**Age p1 filtered table**\n",
    "\n",
    "| Filtering Criterion                   | Subjects Removed  | Total |\n",
    "|---------------------------------------|-------------------|-------|\n",
    "| Initial Data                          | 0                 | 10,300|\n",
    "| Initial subjects (WstFTND & !CurFTND) | 7,366             | 2,934 |\n",
    "| Missing finalgold status              | 4                 | 2,930 |\n",
    "| Missing sex                           | 0                 | 2,930 |\n",
    "| Missing age (p1)                      | 0                 | 2,930 |\n",
    "| Missing Genotype                      | 33                | 2,897 |\n",
    "\n",
    "* Number of EAs: 2,630\n",
    "* Number of AAs: 267\n",
    "\n",
    "**Age p2 filtered table**\n",
    "\n",
    "| Filtering Criterion                   | Subjects Removed  | Total |\n",
    "|---------------------------------------|-------------------|-------|\n",
    "| Initial Data                          | 0                 | 10,300|\n",
    "| Initial subjects (WstFTND & !CurFTND) | 7,366             | 2,934 |\n",
    "| Missing finalgold status              | 4                 | 2,930 |\n",
    "| Missing sex                           | 0                 | 2,930 |\n",
    "| Missing age (p2)                      | 195               | 2,735 |\n",
    "| Missing Genotype                      | 32                | 2,703 |\n",
    "\n",
    "* Number of EAs: 2,470\n",
    "* Number of AAs: 233\n",
    "\n",
    "## Apply Filters"
   ]
  },
  {
   "cell_type": "code",
   "execution_count": 85,
   "metadata": {},
   "outputs": [
    {
     "name": "stdout",
     "output_type": "stream",
     "text": [
      "[1] \"Below is the table head of the entire phenotype file.\"\n"
     ]
    },
    {
     "data": {
      "text/html": [
       "<table>\n",
       "<thead><tr><th scope=col>sid</th><th scope=col>gender</th><th scope=col>race</th><th scope=col>ethnic</th><th scope=col>fagerstrom_index</th><th scope=col>finalgold</th><th scope=col>age_p1</th><th scope=col>age_p2</th><th scope=col>have_lfu</th><th scope=col>fagerstrom_index_lfu</th><th scope=col>CurFTND_cat_p1</th><th scope=col>WstFTND_cat_p2</th><th scope=col>Gold_Cat</th><th scope=col>Goldneg1</th><th scope=col>Gold1or2</th><th scope=col>Gold3or4</th></tr></thead>\n",
       "<tbody>\n",
       "\t<tr><td>15814W</td><td>2     </td><td>1     </td><td>2     </td><td>NA    </td><td>-2    </td><td>NA    </td><td>NA    </td><td>      </td><td>NA    </td><td>NA    </td><td>NA    </td><td>NA    </td><td>NA    </td><td>NA    </td><td>NA    </td></tr>\n",
       "\t<tr><td>16032X</td><td>1     </td><td>1     </td><td>2     </td><td>NA    </td><td>-2    </td><td>NA    </td><td>NA    </td><td>      </td><td>NA    </td><td>NA    </td><td>NA    </td><td>NA    </td><td>NA    </td><td>NA    </td><td>NA    </td></tr>\n",
       "\t<tr><td>16126G</td><td>2     </td><td>1     </td><td>2     </td><td>NA    </td><td>-2    </td><td>NA    </td><td>NA    </td><td>      </td><td>NA    </td><td>NA    </td><td>NA    </td><td>NA    </td><td>NA    </td><td>NA    </td><td>NA    </td></tr>\n",
       "\t<tr><td>16281S</td><td>2     </td><td>1     </td><td>2     </td><td>NA    </td><td>-2    </td><td>NA    </td><td>NA    </td><td>      </td><td>NA    </td><td>NA    </td><td>NA    </td><td>NA    </td><td>NA    </td><td>NA    </td><td>NA    </td></tr>\n",
       "\t<tr><td>16303C</td><td>1     </td><td>1     </td><td>2     </td><td>NA    </td><td>-2    </td><td>NA    </td><td>NA    </td><td>      </td><td>NA    </td><td>NA    </td><td>NA    </td><td>NA    </td><td>NA    </td><td>NA    </td><td>NA    </td></tr>\n",
       "\t<tr><td>16311B</td><td>2     </td><td>1     </td><td>2     </td><td>NA    </td><td>-2    </td><td>NA    </td><td>NA    </td><td>      </td><td>NA    </td><td>NA    </td><td>NA    </td><td>NA    </td><td>NA    </td><td>NA    </td><td>NA    </td></tr>\n",
       "</tbody>\n",
       "</table>\n"
      ],
      "text/latex": [
       "\\begin{tabular}{r|llllllllllllllll}\n",
       " sid & gender & race & ethnic & fagerstrom\\_index & finalgold & age\\_p1 & age\\_p2 & have\\_lfu & fagerstrom\\_index\\_lfu & CurFTND\\_cat\\_p1 & WstFTND\\_cat\\_p2 & Gold\\_Cat & Goldneg1 & Gold1or2 & Gold3or4\\\\\n",
       "\\hline\n",
       "\t 15814W & 2      & 1      & 2      & NA     & -2     & NA     & NA     &        & NA     & NA     & NA     & NA     & NA     & NA     & NA    \\\\\n",
       "\t 16032X & 1      & 1      & 2      & NA     & -2     & NA     & NA     &        & NA     & NA     & NA     & NA     & NA     & NA     & NA    \\\\\n",
       "\t 16126G & 2      & 1      & 2      & NA     & -2     & NA     & NA     &        & NA     & NA     & NA     & NA     & NA     & NA     & NA    \\\\\n",
       "\t 16281S & 2      & 1      & 2      & NA     & -2     & NA     & NA     &        & NA     & NA     & NA     & NA     & NA     & NA     & NA    \\\\\n",
       "\t 16303C & 1      & 1      & 2      & NA     & -2     & NA     & NA     &        & NA     & NA     & NA     & NA     & NA     & NA     & NA    \\\\\n",
       "\t 16311B & 2      & 1      & 2      & NA     & -2     & NA     & NA     &        & NA     & NA     & NA     & NA     & NA     & NA     & NA    \\\\\n",
       "\\end{tabular}\n"
      ],
      "text/markdown": [
       "\n",
       "sid | gender | race | ethnic | fagerstrom_index | finalgold | age_p1 | age_p2 | have_lfu | fagerstrom_index_lfu | CurFTND_cat_p1 | WstFTND_cat_p2 | Gold_Cat | Goldneg1 | Gold1or2 | Gold3or4 | \n",
       "|---|---|---|---|---|---|\n",
       "| 15814W | 2      | 1      | 2      | NA     | -2     | NA     | NA     |        | NA     | NA     | NA     | NA     | NA     | NA     | NA     | \n",
       "| 16032X | 1      | 1      | 2      | NA     | -2     | NA     | NA     |        | NA     | NA     | NA     | NA     | NA     | NA     | NA     | \n",
       "| 16126G | 2      | 1      | 2      | NA     | -2     | NA     | NA     |        | NA     | NA     | NA     | NA     | NA     | NA     | NA     | \n",
       "| 16281S | 2      | 1      | 2      | NA     | -2     | NA     | NA     |        | NA     | NA     | NA     | NA     | NA     | NA     | NA     | \n",
       "| 16303C | 1      | 1      | 2      | NA     | -2     | NA     | NA     |        | NA     | NA     | NA     | NA     | NA     | NA     | NA     | \n",
       "| 16311B | 2      | 1      | 2      | NA     | -2     | NA     | NA     |        | NA     | NA     | NA     | NA     | NA     | NA     | NA     | \n",
       "\n",
       "\n"
      ],
      "text/plain": [
       "  sid    gender race ethnic fagerstrom_index finalgold age_p1 age_p2 have_lfu\n",
       "1 15814W 2      1    2      NA               -2        NA     NA             \n",
       "2 16032X 1      1    2      NA               -2        NA     NA             \n",
       "3 16126G 2      1    2      NA               -2        NA     NA             \n",
       "4 16281S 2      1    2      NA               -2        NA     NA             \n",
       "5 16303C 1      1    2      NA               -2        NA     NA             \n",
       "6 16311B 2      1    2      NA               -2        NA     NA             \n",
       "  fagerstrom_index_lfu CurFTND_cat_p1 WstFTND_cat_p2 Gold_Cat Goldneg1 Gold1or2\n",
       "1 NA                   NA             NA             NA       NA       NA      \n",
       "2 NA                   NA             NA             NA       NA       NA      \n",
       "3 NA                   NA             NA             NA       NA       NA      \n",
       "4 NA                   NA             NA             NA       NA       NA      \n",
       "5 NA                   NA             NA             NA       NA       NA      \n",
       "6 NA                   NA             NA             NA       NA       NA      \n",
       "  Gold3or4\n",
       "1 NA      \n",
       "2 NA      \n",
       "3 NA      \n",
       "4 NA      \n",
       "5 NA      \n",
       "6 NA      "
      ]
     },
     "metadata": {},
     "output_type": "display_data"
    }
   ],
   "source": [
    "pheno.data <- read.table(\"C:/Users/jmarks/Desktop/Projects/Nicotine/COPDGene/pheno/Copy of COPD Both waves with Cat FTND_v2.csv\",\n",
    "                        sep=\",\", header=T)\n",
    "print(\"Below is the table head of the entire phenotype file.\")\n",
    "head(pheno.data)"
   ]
  },
  {
   "cell_type": "markdown",
   "metadata": {},
   "source": [
    "### Initial numbers"
   ]
  },
  {
   "cell_type": "code",
   "execution_count": 142,
   "metadata": {},
   "outputs": [
    {
     "name": "stdout",
     "output_type": "stream",
     "text": [
      "[1] \"Max number of subjects for COPDGene2 (both ancestries)\"\n"
     ]
    },
    {
     "data": {
      "text/html": [
       "2934"
      ],
      "text/latex": [
       "2934"
      ],
      "text/markdown": [
       "2934"
      ],
      "text/plain": [
       "[1] 2934"
      ]
     },
     "metadata": {},
     "output_type": "display_data"
    },
    {
     "name": "stdout",
     "output_type": "stream",
     "text": [
      "[1] \"Categorical FTND summary\"\n"
     ]
    },
    {
     "data": {
      "text/plain": [
       "\n",
       "   0    1    2 \n",
       "1122 1286  526 "
      ]
     },
     "metadata": {},
     "output_type": "display_data"
    },
    {
     "name": "stdout",
     "output_type": "stream",
     "text": [
      "[1] \"Below is the table head of the COPDGene2 data before any filters have been applied.\"\n"
     ]
    },
    {
     "data": {
      "text/html": [
       "<table>\n",
       "<thead><tr><th></th><th scope=col>sid</th><th scope=col>gender</th><th scope=col>race</th><th scope=col>ethnic</th><th scope=col>fagerstrom_index</th><th scope=col>finalgold</th><th scope=col>age_p1</th><th scope=col>age_p2</th><th scope=col>have_lfu</th><th scope=col>fagerstrom_index_lfu</th><th scope=col>CurFTND_cat_p1</th><th scope=col>WstFTND_cat_p2</th><th scope=col>Gold_Cat</th><th scope=col>Goldneg1</th><th scope=col>Gold1or2</th><th scope=col>Gold3or4</th></tr></thead>\n",
       "<tbody>\n",
       "\t<tr><th scope=row>103</th><td>10161E</td><td>1     </td><td>1     </td><td>2     </td><td>NA    </td><td>-1    </td><td>73.8  </td><td>79.1  </td><td>LFU   </td><td>9     </td><td>NA    </td><td>2     </td><td>1     </td><td>1     </td><td>0     </td><td>0     </td></tr>\n",
       "\t<tr><th scope=row>105</th><td>10260G</td><td>1     </td><td>1     </td><td>2     </td><td>NA    </td><td>-1    </td><td>68.4  </td><td>73.9  </td><td>LFU   </td><td>5     </td><td>NA    </td><td>1     </td><td>1     </td><td>1     </td><td>0     </td><td>0     </td></tr>\n",
       "\t<tr><th scope=row>107</th><td>10489M</td><td>2     </td><td>1     </td><td>2     </td><td>NA    </td><td>-1    </td><td>60.0  </td><td>65.8  </td><td>LFU   </td><td>4     </td><td>NA    </td><td>1     </td><td>1     </td><td>1     </td><td>0     </td><td>0     </td></tr>\n",
       "\t<tr><th scope=row>108</th><td>10511F</td><td>2     </td><td>1     </td><td>2     </td><td>NA    </td><td>-1    </td><td>80.6  </td><td>87.4  </td><td>LFU   </td><td>3     </td><td>NA    </td><td>0     </td><td>1     </td><td>1     </td><td>0     </td><td>0     </td></tr>\n",
       "\t<tr><th scope=row>110</th><td>10558F</td><td>1     </td><td>1     </td><td>2     </td><td>NA    </td><td>-1    </td><td>60.9  </td><td>66.8  </td><td>LFU   </td><td>5     </td><td>NA    </td><td>1     </td><td>1     </td><td>1     </td><td>0     </td><td>0     </td></tr>\n",
       "\t<tr><th scope=row>118</th><td>10771F</td><td>1     </td><td>1     </td><td>2     </td><td>NA    </td><td>-1    </td><td>69.9  </td><td>75.6  </td><td>LFU   </td><td>3     </td><td>NA    </td><td>0     </td><td>1     </td><td>1     </td><td>0     </td><td>0     </td></tr>\n",
       "</tbody>\n",
       "</table>\n"
      ],
      "text/latex": [
       "\\begin{tabular}{r|llllllllllllllll}\n",
       "  & sid & gender & race & ethnic & fagerstrom\\_index & finalgold & age\\_p1 & age\\_p2 & have\\_lfu & fagerstrom\\_index\\_lfu & CurFTND\\_cat\\_p1 & WstFTND\\_cat\\_p2 & Gold\\_Cat & Goldneg1 & Gold1or2 & Gold3or4\\\\\n",
       "\\hline\n",
       "\t103 & 10161E & 1      & 1      & 2      & NA     & -1     & 73.8   & 79.1   & LFU    & 9      & NA     & 2      & 1      & 1      & 0      & 0     \\\\\n",
       "\t105 & 10260G & 1      & 1      & 2      & NA     & -1     & 68.4   & 73.9   & LFU    & 5      & NA     & 1      & 1      & 1      & 0      & 0     \\\\\n",
       "\t107 & 10489M & 2      & 1      & 2      & NA     & -1     & 60.0   & 65.8   & LFU    & 4      & NA     & 1      & 1      & 1      & 0      & 0     \\\\\n",
       "\t108 & 10511F & 2      & 1      & 2      & NA     & -1     & 80.6   & 87.4   & LFU    & 3      & NA     & 0      & 1      & 1      & 0      & 0     \\\\\n",
       "\t110 & 10558F & 1      & 1      & 2      & NA     & -1     & 60.9   & 66.8   & LFU    & 5      & NA     & 1      & 1      & 1      & 0      & 0     \\\\\n",
       "\t118 & 10771F & 1      & 1      & 2      & NA     & -1     & 69.9   & 75.6   & LFU    & 3      & NA     & 0      & 1      & 1      & 0      & 0     \\\\\n",
       "\\end{tabular}\n"
      ],
      "text/markdown": [
       "\n",
       "| <!--/--> | sid | gender | race | ethnic | fagerstrom_index | finalgold | age_p1 | age_p2 | have_lfu | fagerstrom_index_lfu | CurFTND_cat_p1 | WstFTND_cat_p2 | Gold_Cat | Goldneg1 | Gold1or2 | Gold3or4 | \n",
       "|---|---|---|---|---|---|\n",
       "| 103 | 10161E | 1      | 1      | 2      | NA     | -1     | 73.8   | 79.1   | LFU    | 9      | NA     | 2      | 1      | 1      | 0      | 0      | \n",
       "| 105 | 10260G | 1      | 1      | 2      | NA     | -1     | 68.4   | 73.9   | LFU    | 5      | NA     | 1      | 1      | 1      | 0      | 0      | \n",
       "| 107 | 10489M | 2      | 1      | 2      | NA     | -1     | 60.0   | 65.8   | LFU    | 4      | NA     | 1      | 1      | 1      | 0      | 0      | \n",
       "| 108 | 10511F | 2      | 1      | 2      | NA     | -1     | 80.6   | 87.4   | LFU    | 3      | NA     | 0      | 1      | 1      | 0      | 0      | \n",
       "| 110 | 10558F | 1      | 1      | 2      | NA     | -1     | 60.9   | 66.8   | LFU    | 5      | NA     | 1      | 1      | 1      | 0      | 0      | \n",
       "| 118 | 10771F | 1      | 1      | 2      | NA     | -1     | 69.9   | 75.6   | LFU    | 3      | NA     | 0      | 1      | 1      | 0      | 0      | \n",
       "\n",
       "\n"
      ],
      "text/plain": [
       "    sid    gender race ethnic fagerstrom_index finalgold age_p1 age_p2 have_lfu\n",
       "103 10161E 1      1    2      NA               -1        73.8   79.1   LFU     \n",
       "105 10260G 1      1    2      NA               -1        68.4   73.9   LFU     \n",
       "107 10489M 2      1    2      NA               -1        60.0   65.8   LFU     \n",
       "108 10511F 2      1    2      NA               -1        80.6   87.4   LFU     \n",
       "110 10558F 1      1    2      NA               -1        60.9   66.8   LFU     \n",
       "118 10771F 1      1    2      NA               -1        69.9   75.6   LFU     \n",
       "    fagerstrom_index_lfu CurFTND_cat_p1 WstFTND_cat_p2 Gold_Cat Goldneg1\n",
       "103 9                    NA             2              1        1       \n",
       "105 5                    NA             1              1        1       \n",
       "107 4                    NA             1              1        1       \n",
       "108 3                    NA             0              1        1       \n",
       "110 5                    NA             1              1        1       \n",
       "118 3                    NA             0              1        1       \n",
       "    Gold1or2 Gold3or4\n",
       "103 0        0       \n",
       "105 0        0       \n",
       "107 0        0       \n",
       "108 0        0       \n",
       "110 0        0       \n",
       "118 0        0       "
      ]
     },
     "metadata": {},
     "output_type": "display_data"
    }
   ],
   "source": [
    "# COPDGene1\n",
    "# Calculate number of subjects with CurFTND data\n",
    "cur.ftnd.vec <-  which(pheno.data$CurFTND_cat_p1 >= 0)\n",
    "#print(\"Max number of subjects for COPDGene1 (both ancestries)\")\n",
    "#length(cur.ftnd.vec)\n",
    "\n",
    "\n",
    "#-----------------------------------------------------------------------------\n",
    "# COPDGene2\n",
    "# Calculate the number of subjects with WstFTND data but not CurFTND data\n",
    "\n",
    "# The indices in cur.ftnd.vec at which the subjects have both wstFTND and CurFTND data\n",
    "overlap1 <- which(pheno.data$WstFTND_cat_p2[cur.ftnd.vec] >= 0)\n",
    "\n",
    "# This gives the subject indices which have both wst and cur data\n",
    "wst.cur.overlap.vec <- cur.ftnd.vec[overlap1]\n",
    "\n",
    "# Indices of all the subjects with WstFTND data\n",
    "all.wst <- which(pheno.data$WstFTND_cat_p2 >= 0)\n",
    "\n",
    "# Subjects that have WstFTND data and no CurFTND data\n",
    "wst.ftnd.vec <- setdiff(all.wst, wst.cur.subject.indices) \n",
    "\n",
    "print(\"Max number of subjects for COPDGene2 (both ancestries)\")\n",
    "# calculate subjects that are exclusively WstFTND (subtract those that have both Cur and Wst)\n",
    "length(wst.ftnd.vec)\n",
    "\n",
    "# Categorical FTND summary\n",
    "print(\"Categorical FTND summary\")\n",
    "table(pheno.data$WstFTND_cat_p2[wst.ftnd.vec])\n",
    "\n",
    "wst.ftnd.data <- pheno.data[wst.ftnd.vec,]\n",
    "print(\"Below is the table head of the COPDGene2 data before any filters (save FTND) have been applied.\")\n",
    "head(wst.ftnd.data)"
   ]
  },
  {
   "cell_type": "markdown",
   "metadata": {},
   "source": [
    "### Missing `finalgold` filter\n",
    "Remove subjects missing `finalgold` variable"
   ]
  },
  {
   "cell_type": "code",
   "execution_count": 101,
   "metadata": {},
   "outputs": [
    {
     "name": "stdout",
     "output_type": "stream",
     "text": [
      "[1] \"These are the sequential indices in the wst.ftnd.data at which they occur.\"\n"
     ]
    },
    {
     "data": {
      "text/html": [
       "<ol class=list-inline>\n",
       "\t<li>2659</li>\n",
       "\t<li>2660</li>\n",
       "\t<li>2661</li>\n",
       "\t<li>2934</li>\n",
       "</ol>\n"
      ],
      "text/latex": [
       "\\begin{enumerate*}\n",
       "\\item 2659\n",
       "\\item 2660\n",
       "\\item 2661\n",
       "\\item 2934\n",
       "\\end{enumerate*}\n"
      ],
      "text/markdown": [
       "1. 2659\n",
       "2. 2660\n",
       "3. 2661\n",
       "4. 2934\n",
       "\n",
       "\n"
      ],
      "text/plain": [
       "[1] 2659 2660 2661 2934"
      ]
     },
     "metadata": {},
     "output_type": "display_data"
    },
    {
     "name": "stdout",
     "output_type": "stream",
     "text": [
      "[1] \"Number of subjects missing finalgold.\"\n"
     ]
    },
    {
     "data": {
      "text/html": [
       "4"
      ],
      "text/latex": [
       "4"
      ],
      "text/markdown": [
       "4"
      ],
      "text/plain": [
       "[1] 4"
      ]
     },
     "metadata": {},
     "output_type": "display_data"
    },
    {
     "name": "stdout",
     "output_type": "stream",
     "text": [
      "[1] \"Here are the data of those subjects with missing finalgold.\"\n"
     ]
    },
    {
     "data": {
      "text/html": [
       "<table>\n",
       "<thead><tr><th></th><th scope=col>sid</th><th scope=col>gender</th><th scope=col>race</th><th scope=col>ethnic</th><th scope=col>fagerstrom_index</th><th scope=col>finalgold</th><th scope=col>age_p1</th><th scope=col>age_p2</th><th scope=col>have_lfu</th><th scope=col>fagerstrom_index_lfu</th><th scope=col>CurFTND_cat_p1</th><th scope=col>WstFTND_cat_p2</th><th scope=col>Gold_Cat</th><th scope=col>Goldneg1</th><th scope=col>Gold1or2</th><th scope=col>Gold3or4</th></tr></thead>\n",
       "<tbody>\n",
       "\t<tr><th scope=row>6865</th><td>10126C</td><td>2     </td><td>1     </td><td>2     </td><td>NA    </td><td>NA    </td><td>72.0  </td><td>77.7  </td><td>LFU   </td><td>2     </td><td>NA    </td><td>0     </td><td>NA    </td><td> 0    </td><td> 0    </td><td> 0    </td></tr>\n",
       "\t<tr><th scope=row>6873</th><td>15118C</td><td>1     </td><td>1     </td><td>2     </td><td>NA    </td><td>NA    </td><td>70.7  </td><td>76.2  </td><td>LFU   </td><td>7     </td><td>NA    </td><td>2     </td><td>NA    </td><td> 0    </td><td> 0    </td><td> 0    </td></tr>\n",
       "\t<tr><th scope=row>6884</th><td>25119K</td><td>1     </td><td>1     </td><td>2     </td><td>NA    </td><td>NA    </td><td>74.9  </td><td>80.2  </td><td>LFU   </td><td>1     </td><td>NA    </td><td>0     </td><td>NA    </td><td> 0    </td><td> 0    </td><td> 0    </td></tr>\n",
       "\t<tr><th scope=row>10297</th><td>25532S</td><td>1     </td><td>2     </td><td>2     </td><td>NA    </td><td>NA    </td><td>63.5  </td><td>68.8  </td><td>LFU   </td><td>5     </td><td>NA    </td><td>1     </td><td>NA    </td><td>NA    </td><td>NA    </td><td>NA    </td></tr>\n",
       "</tbody>\n",
       "</table>\n"
      ],
      "text/latex": [
       "\\begin{tabular}{r|llllllllllllllll}\n",
       "  & sid & gender & race & ethnic & fagerstrom\\_index & finalgold & age\\_p1 & age\\_p2 & have\\_lfu & fagerstrom\\_index\\_lfu & CurFTND\\_cat\\_p1 & WstFTND\\_cat\\_p2 & Gold\\_Cat & Goldneg1 & Gold1or2 & Gold3or4\\\\\n",
       "\\hline\n",
       "\t6865 & 10126C & 2      & 1      & 2      & NA     & NA     & 72.0   & 77.7   & LFU    & 2      & NA     & 0      & NA     &  0     &  0     &  0    \\\\\n",
       "\t6873 & 15118C & 1      & 1      & 2      & NA     & NA     & 70.7   & 76.2   & LFU    & 7      & NA     & 2      & NA     &  0     &  0     &  0    \\\\\n",
       "\t6884 & 25119K & 1      & 1      & 2      & NA     & NA     & 74.9   & 80.2   & LFU    & 1      & NA     & 0      & NA     &  0     &  0     &  0    \\\\\n",
       "\t10297 & 25532S & 1      & 2      & 2      & NA     & NA     & 63.5   & 68.8   & LFU    & 5      & NA     & 1      & NA     & NA     & NA     & NA    \\\\\n",
       "\\end{tabular}\n"
      ],
      "text/markdown": [
       "\n",
       "| <!--/--> | sid | gender | race | ethnic | fagerstrom_index | finalgold | age_p1 | age_p2 | have_lfu | fagerstrom_index_lfu | CurFTND_cat_p1 | WstFTND_cat_p2 | Gold_Cat | Goldneg1 | Gold1or2 | Gold3or4 | \n",
       "|---|---|---|---|\n",
       "| 6865 | 10126C | 2      | 1      | 2      | NA     | NA     | 72.0   | 77.7   | LFU    | 2      | NA     | 0      | NA     |  0     |  0     |  0     | \n",
       "| 6873 | 15118C | 1      | 1      | 2      | NA     | NA     | 70.7   | 76.2   | LFU    | 7      | NA     | 2      | NA     |  0     |  0     |  0     | \n",
       "| 6884 | 25119K | 1      | 1      | 2      | NA     | NA     | 74.9   | 80.2   | LFU    | 1      | NA     | 0      | NA     |  0     |  0     |  0     | \n",
       "| 10297 | 25532S | 1      | 2      | 2      | NA     | NA     | 63.5   | 68.8   | LFU    | 5      | NA     | 1      | NA     | NA     | NA     | NA     | \n",
       "\n",
       "\n"
      ],
      "text/plain": [
       "      sid    gender race ethnic fagerstrom_index finalgold age_p1 age_p2\n",
       "6865  10126C 2      1    2      NA               NA        72.0   77.7  \n",
       "6873  15118C 1      1    2      NA               NA        70.7   76.2  \n",
       "6884  25119K 1      1    2      NA               NA        74.9   80.2  \n",
       "10297 25532S 1      2    2      NA               NA        63.5   68.8  \n",
       "      have_lfu fagerstrom_index_lfu CurFTND_cat_p1 WstFTND_cat_p2 Gold_Cat\n",
       "6865  LFU      2                    NA             0              NA      \n",
       "6873  LFU      7                    NA             2              NA      \n",
       "6884  LFU      1                    NA             0              NA      \n",
       "10297 LFU      5                    NA             1              NA      \n",
       "      Goldneg1 Gold1or2 Gold3or4\n",
       "6865   0        0        0      \n",
       "6873   0        0        0      \n",
       "6884   0        0        0      \n",
       "10297 NA       NA       NA      "
      ]
     },
     "metadata": {},
     "output_type": "display_data"
    },
    {
     "name": "stdout",
     "output_type": "stream",
     "text": [
      "[1] \"Number of subjects remaining after filtering by missing finalgold data.\"\n"
     ]
    },
    {
     "data": {
      "text/html": [
       "2930"
      ],
      "text/latex": [
       "2930"
      ],
      "text/markdown": [
       "2930"
      ],
      "text/plain": [
       "[1] 2930"
      ]
     },
     "metadata": {},
     "output_type": "display_data"
    }
   ],
   "source": [
    "# some subjects with reported GOLD status are missing in the finalgold variable\n",
    "gold.data <- wst.ftnd.data$finalgold[]\n",
    "print(\"These are the sequential indices in the wst.ftnd.data at which they occur.\")\n",
    "which(is.na(gold.data))\n",
    "print(\"Number of subjects missing finalgold.\")\n",
    "length(which(is.na(gold.data)))\n",
    "\n",
    "print(\"Here are the data of those subjects with missing finalgold.\")\n",
    "wst.ftnd.data[which(is.na(gold.data)),]\n",
    "\n",
    "# exclude those subjects with missing finalgold\n",
    "wst.ftnd.fg.filtered <- wst.ftnd.data[-which(is.na(gold.data)),]\n",
    "\n",
    "print(\"Number of subjects remaining after filtering by missing finalgold data.\")\n",
    "length(wst.ftnd.fg.filtered[,1])"
   ]
  },
  {
   "cell_type": "markdown",
   "metadata": {},
   "source": [
    "### Missing Sex filter\n",
    "Remove any subjects missing sex data."
   ]
  },
  {
   "cell_type": "code",
   "execution_count": 109,
   "metadata": {},
   "outputs": [
    {
     "name": "stdout",
     "output_type": "stream",
     "text": [
      "[1] \"Number of COPDGene2 subjects after FTND, finalgold, and sex filtering.\"\n"
     ]
    },
    {
     "data": {
      "text/html": [
       "2930"
      ],
      "text/latex": [
       "2930"
      ],
      "text/markdown": [
       "2930"
      ],
      "text/plain": [
       "[1] 2930"
      ]
     },
     "metadata": {},
     "output_type": "display_data"
    }
   ],
   "source": [
    "# filtered out any subjects missing sex data\n",
    "wst.ftnd.fg.sex.filtered <- wst.ftnd.fg.filtered[complete.cases(wst.ftnd.fg.filtered[, \"gender\"]),]\n",
    "\n",
    "print(\"Number of COPDGene2 subjects after FTND, finalgold, and sex filtering.\")\n",
    "length(wst.ftnd.fg.sex.filtered[,1])"
   ]
  },
  {
   "cell_type": "markdown",
   "metadata": {},
   "source": [
    "**Note:** no subjects missing sex data. "
   ]
  },
  {
   "cell_type": "markdown",
   "metadata": {},
   "source": [
    "### Missing Age filter\n",
    "Remove any subjects missing age data. \n",
    "\n",
    "#### age_p1\n",
    "Filter by variable `age_p1` then write to file."
   ]
  },
  {
   "cell_type": "code",
   "execution_count": 140,
   "metadata": {},
   "outputs": [
    {
     "name": "stdout",
     "output_type": "stream",
     "text": [
      "[1] \"Number of COPDGene2 subjects after FTND, finalgold, sex, and age (p1) filtering.\"\n"
     ]
    },
    {
     "data": {
      "text/html": [
       "2930"
      ],
      "text/latex": [
       "2930"
      ],
      "text/markdown": [
       "2930"
      ],
      "text/plain": [
       "[1] 2930"
      ]
     },
     "metadata": {},
     "output_type": "display_data"
    },
    {
     "name": "stdout",
     "output_type": "stream",
     "text": [
      "[1] \"Head of filtered data (age_p1).\"\n"
     ]
    },
    {
     "data": {
      "text/html": [
       "<table>\n",
       "<thead><tr><th></th><th scope=col>sid</th><th scope=col>gender</th><th scope=col>race</th><th scope=col>age_p1</th><th scope=col>WstFTND_cat_p2</th><th scope=col>Goldneg1</th><th scope=col>Gold1or2</th><th scope=col>Gold3or4</th></tr></thead>\n",
       "<tbody>\n",
       "\t<tr><th scope=row>103</th><td>10161E</td><td>1     </td><td>1     </td><td>73.8  </td><td>2     </td><td>1     </td><td>0     </td><td>0     </td></tr>\n",
       "\t<tr><th scope=row>105</th><td>10260G</td><td>1     </td><td>1     </td><td>68.4  </td><td>1     </td><td>1     </td><td>0     </td><td>0     </td></tr>\n",
       "\t<tr><th scope=row>107</th><td>10489M</td><td>2     </td><td>1     </td><td>60.0  </td><td>1     </td><td>1     </td><td>0     </td><td>0     </td></tr>\n",
       "\t<tr><th scope=row>108</th><td>10511F</td><td>2     </td><td>1     </td><td>80.6  </td><td>0     </td><td>1     </td><td>0     </td><td>0     </td></tr>\n",
       "\t<tr><th scope=row>110</th><td>10558F</td><td>1     </td><td>1     </td><td>60.9  </td><td>1     </td><td>1     </td><td>0     </td><td>0     </td></tr>\n",
       "\t<tr><th scope=row>118</th><td>10771F</td><td>1     </td><td>1     </td><td>69.9  </td><td>0     </td><td>1     </td><td>0     </td><td>0     </td></tr>\n",
       "</tbody>\n",
       "</table>\n"
      ],
      "text/latex": [
       "\\begin{tabular}{r|llllllll}\n",
       "  & sid & gender & race & age\\_p1 & WstFTND\\_cat\\_p2 & Goldneg1 & Gold1or2 & Gold3or4\\\\\n",
       "\\hline\n",
       "\t103 & 10161E & 1      & 1      & 73.8   & 2      & 1      & 0      & 0     \\\\\n",
       "\t105 & 10260G & 1      & 1      & 68.4   & 1      & 1      & 0      & 0     \\\\\n",
       "\t107 & 10489M & 2      & 1      & 60.0   & 1      & 1      & 0      & 0     \\\\\n",
       "\t108 & 10511F & 2      & 1      & 80.6   & 0      & 1      & 0      & 0     \\\\\n",
       "\t110 & 10558F & 1      & 1      & 60.9   & 1      & 1      & 0      & 0     \\\\\n",
       "\t118 & 10771F & 1      & 1      & 69.9   & 0      & 1      & 0      & 0     \\\\\n",
       "\\end{tabular}\n"
      ],
      "text/markdown": [
       "\n",
       "| <!--/--> | sid | gender | race | age_p1 | WstFTND_cat_p2 | Goldneg1 | Gold1or2 | Gold3or4 | \n",
       "|---|---|---|---|---|---|\n",
       "| 103 | 10161E | 1      | 1      | 73.8   | 2      | 1      | 0      | 0      | \n",
       "| 105 | 10260G | 1      | 1      | 68.4   | 1      | 1      | 0      | 0      | \n",
       "| 107 | 10489M | 2      | 1      | 60.0   | 1      | 1      | 0      | 0      | \n",
       "| 108 | 10511F | 2      | 1      | 80.6   | 0      | 1      | 0      | 0      | \n",
       "| 110 | 10558F | 1      | 1      | 60.9   | 1      | 1      | 0      | 0      | \n",
       "| 118 | 10771F | 1      | 1      | 69.9   | 0      | 1      | 0      | 0      | \n",
       "\n",
       "\n"
      ],
      "text/plain": [
       "    sid    gender race age_p1 WstFTND_cat_p2 Goldneg1 Gold1or2 Gold3or4\n",
       "103 10161E 1      1    73.8   2              1        0        0       \n",
       "105 10260G 1      1    68.4   1              1        0        0       \n",
       "107 10489M 2      1    60.0   1              1        0        0       \n",
       "108 10511F 2      1    80.6   0              1        0        0       \n",
       "110 10558F 1      1    60.9   1              1        0        0       \n",
       "118 10771F 1      1    69.9   0              1        0        0       "
      ]
     },
     "metadata": {},
     "output_type": "display_data"
    }
   ],
   "source": [
    "wst.ftnd.fg.sex.age1.filter <- wst.ftnd.fg.sex.filtered[complete.cases(wst.ftnd.fg.sex.filtered[,\"age_p1\"]),]\n",
    "\n",
    "print(\"Number of COPDGene2 subjects after FTND, finalgold, sex, and age (p1) filtering.\")\n",
    "length(wst.ftnd.fg.sex.age1.filter[,1])\n",
    "\n",
    "variables.of.interest1 <- c(\"sid\", \"gender\", \"race\", \"age_p1\", \"WstFTND_cat_p2\", \"Goldneg1\", \"Gold1or2\", \"Gold3or4\")\n",
    "pheno1 <- wst.ftnd.fg.sex.age1.filter[,variables.of.interest1]\n",
    "\n",
    "print(\"Head of filtered data (age_p1).\")\n",
    "head(pheno1)\n",
    "\n",
    "setwd(\"C:/Users/jmarks/Desktop/Projects/Nicotine/COPDGene/pheno/two\")\n",
    "write.table(pheno1, \"phenotype.ftnd.fg.sex.age1.filtered.txt\", sep = \" \", row.names = F, quote = F)"
   ]
  },
  {
   "cell_type": "markdown",
   "metadata": {},
   "source": [
    "#### age_p2\n",
    "\n",
    "Filter by variable `age_p2` then write to file."
   ]
  },
  {
   "cell_type": "code",
   "execution_count": 141,
   "metadata": {},
   "outputs": [
    {
     "name": "stdout",
     "output_type": "stream",
     "text": [
      "[1] \"Number of COPDGene2 subjects after FTND, finalgold, sex, and age (p2) filtering.\"\n"
     ]
    },
    {
     "data": {
      "text/html": [
       "2735"
      ],
      "text/latex": [
       "2735"
      ],
      "text/markdown": [
       "2735"
      ],
      "text/plain": [
       "[1] 2735"
      ]
     },
     "metadata": {},
     "output_type": "display_data"
    },
    {
     "name": "stdout",
     "output_type": "stream",
     "text": [
      "[1] \"Head of filtered data (age_p2).\"\n"
     ]
    },
    {
     "data": {
      "text/html": [
       "<table>\n",
       "<thead><tr><th></th><th scope=col>sid</th><th scope=col>gender</th><th scope=col>race</th><th scope=col>age_p2</th><th scope=col>WstFTND_cat_p2</th><th scope=col>Goldneg1</th><th scope=col>Gold1or2</th><th scope=col>Gold3or4</th></tr></thead>\n",
       "<tbody>\n",
       "\t<tr><th scope=row>103</th><td>10161E</td><td>1     </td><td>1     </td><td>79.1  </td><td>2     </td><td>1     </td><td>0     </td><td>0     </td></tr>\n",
       "\t<tr><th scope=row>105</th><td>10260G</td><td>1     </td><td>1     </td><td>73.9  </td><td>1     </td><td>1     </td><td>0     </td><td>0     </td></tr>\n",
       "\t<tr><th scope=row>107</th><td>10489M</td><td>2     </td><td>1     </td><td>65.8  </td><td>1     </td><td>1     </td><td>0     </td><td>0     </td></tr>\n",
       "\t<tr><th scope=row>108</th><td>10511F</td><td>2     </td><td>1     </td><td>87.4  </td><td>0     </td><td>1     </td><td>0     </td><td>0     </td></tr>\n",
       "\t<tr><th scope=row>110</th><td>10558F</td><td>1     </td><td>1     </td><td>66.8  </td><td>1     </td><td>1     </td><td>0     </td><td>0     </td></tr>\n",
       "\t<tr><th scope=row>118</th><td>10771F</td><td>1     </td><td>1     </td><td>75.6  </td><td>0     </td><td>1     </td><td>0     </td><td>0     </td></tr>\n",
       "</tbody>\n",
       "</table>\n"
      ],
      "text/latex": [
       "\\begin{tabular}{r|llllllll}\n",
       "  & sid & gender & race & age\\_p2 & WstFTND\\_cat\\_p2 & Goldneg1 & Gold1or2 & Gold3or4\\\\\n",
       "\\hline\n",
       "\t103 & 10161E & 1      & 1      & 79.1   & 2      & 1      & 0      & 0     \\\\\n",
       "\t105 & 10260G & 1      & 1      & 73.9   & 1      & 1      & 0      & 0     \\\\\n",
       "\t107 & 10489M & 2      & 1      & 65.8   & 1      & 1      & 0      & 0     \\\\\n",
       "\t108 & 10511F & 2      & 1      & 87.4   & 0      & 1      & 0      & 0     \\\\\n",
       "\t110 & 10558F & 1      & 1      & 66.8   & 1      & 1      & 0      & 0     \\\\\n",
       "\t118 & 10771F & 1      & 1      & 75.6   & 0      & 1      & 0      & 0     \\\\\n",
       "\\end{tabular}\n"
      ],
      "text/markdown": [
       "\n",
       "| <!--/--> | sid | gender | race | age_p2 | WstFTND_cat_p2 | Goldneg1 | Gold1or2 | Gold3or4 | \n",
       "|---|---|---|---|---|---|\n",
       "| 103 | 10161E | 1      | 1      | 79.1   | 2      | 1      | 0      | 0      | \n",
       "| 105 | 10260G | 1      | 1      | 73.9   | 1      | 1      | 0      | 0      | \n",
       "| 107 | 10489M | 2      | 1      | 65.8   | 1      | 1      | 0      | 0      | \n",
       "| 108 | 10511F | 2      | 1      | 87.4   | 0      | 1      | 0      | 0      | \n",
       "| 110 | 10558F | 1      | 1      | 66.8   | 1      | 1      | 0      | 0      | \n",
       "| 118 | 10771F | 1      | 1      | 75.6   | 0      | 1      | 0      | 0      | \n",
       "\n",
       "\n"
      ],
      "text/plain": [
       "    sid    gender race age_p2 WstFTND_cat_p2 Goldneg1 Gold1or2 Gold3or4\n",
       "103 10161E 1      1    79.1   2              1        0        0       \n",
       "105 10260G 1      1    73.9   1              1        0        0       \n",
       "107 10489M 2      1    65.8   1              1        0        0       \n",
       "108 10511F 2      1    87.4   0              1        0        0       \n",
       "110 10558F 1      1    66.8   1              1        0        0       \n",
       "118 10771F 1      1    75.6   0              1        0        0       "
      ]
     },
     "metadata": {},
     "output_type": "display_data"
    }
   ],
   "source": [
    "wst.ftnd.fg.sex.age2.filter <- wst.ftnd.fg.sex.filtered[complete.cases(wst.ftnd.fg.sex.filtered[,\"age_p2\"]),]\n",
    "\n",
    "print(\"Number of COPDGene2 subjects after FTND, finalgold, sex, and age (p2) filtering.\")\n",
    "length(wst.ftnd.fg.sex.age2.filter[,1])\n",
    "\n",
    "variables.of.interest2 <- c(\"sid\", \"gender\", \"race\", \"age_p2\", \"WstFTND_cat_p2\", \"Goldneg1\", \"Gold1or2\", \"Gold3or4\")\n",
    "pheno2 <- wst.ftnd.fg.sex.age2.filter[,variables.of.interest2]\n",
    "\n",
    "print(\"Head of filtered data (age_p2).\")\n",
    "head(pheno2)\n",
    "\n",
    "setwd(\"C:/Users/jmarks/Desktop/Projects/Nicotine/COPDGene/pheno/two\")\n",
    "write.table(pheno2, \"phenotype.ftnd.fg.sex.age2.filtered.txt\", sep = \" \", row.names = F, quote = F)"
   ]
  },
  {
   "cell_type": "markdown",
   "metadata": {},
   "source": [
    "### Genotype filter\n",
    "Construct subject-filtered PLINK file sets by filterine out subjects missing genotype data."
   ]
  },
  {
   "cell_type": "code",
   "execution_count": null,
   "metadata": {},
   "outputs": [],
   "source": [
    "## local machine ##\n",
    "cd /cygdrive/c/Users/jmarks/Desktop/Projects/Nicotine/COPDGene/pheno/two\n",
    "\n",
    "# create directory structure on MIDAS\n",
    "mkdir -p /share/nas03/jmarks/studies/copdgene2/{eigenstrat,data/{assoc_tests,genotype/{observed,imputed},phenotype}}\n",
    "\n",
    "# copy phenotype data over to MIDAS\n",
    "scp phenotype.ftnd.fg.sex.age1.filtered.txt jmarks@rtplhpc01.rti.ns:/share/nas03/jmarks/studies/copdgene2/data/phenotype/\n",
    "scp phenotype.ftnd.fg.sex.age2.filtered.txt jmarks@rtplhpc01.rti.ns:/share/nas03/jmarks/studies/copdgene2/data/phenotype/"
   ]
  },
  {
   "cell_type": "code",
   "execution_count": null,
   "metadata": {},
   "outputs": [],
   "source": [
    "## MIDAS console ##\n",
    "\n",
    "cd /share/nas03/jmarks/studies/copdgene2/data/\n",
    "\n",
    "cp /share/nas03/bioinformatics_group/data/studies/copdgene/observed/final_filtered/gxg_qc/copdgene.{aa,ea}.{fam,bim,bed} \\\n",
    "    genotype/observed\n",
    "\n",
    "# create a new PLINK fam file based on subjects with phenotype and genotype data\n",
    "## age_p1 filter\n",
    "### EA\n",
    "awk 'FNR==NR {a[$1]; next} ($2 in a)' phenotype/phenotype.ftnd.fg.sex.age1.filtered.txt \\\n",
    "    genotype/observed/copdgene.ea.fam > phenotype/ea.phenotype1.all.filters.txt\n",
    "     \n",
    "### AA\n",
    "awk 'FNR==NR {a[$1]; next} ($2 in a)' phenotype/phenotype.ftnd.fg.sex.age1.filtered.txt \\\n",
    "    genotype/observed/copdgene.aa.fam > phenotype/aa.phenotype1.all.filters.txt\n",
    "     \n",
    "\n",
    "## age_p2 filter\n",
    "### EA\n",
    "awk 'FNR==NR {a[$1]; next} ($2 in a)' phenotype/phenotype.ftnd.fg.sex.age2.filtered.txt\\\n",
    "    genotype/observed/copdgene.ea.fam > phenotype/ea.phenotype2.all.filters.txt\n",
    "     \n",
    "### AA\n",
    "awk 'FNR==NR {a[$1]; next} ($2 in a)' phenotype/phenotype.ftnd.fg.sex.age2.filtered.txt \\\n",
    "    genotype/observed/copdgene.aa.fam > phenotype/aa.phenotype2.all.filters.txt\n",
    "     "
   ]
  },
  {
   "cell_type": "markdown",
   "metadata": {},
   "source": [
    "## PCA (EIGENSTRAT)\n",
    "\n",
    "To obtain principal component covariates to use in the GWAS statistical model, EIGENSTRAT is run on LD-pruned observed genotypes for each ancestry group. \n",
    "\n",
    "### Construct subject-filtered PLINK file sets"
   ]
  },
  {
   "cell_type": "code",
   "execution_count": null,
   "metadata": {},
   "outputs": [],
   "source": [
    "## MIDAS ##\n",
    "cd /share/nas03/jmarks/studies/copdgene/one/data/phenotypes/processing\n",
    "\n",
    "## generate ID list to filter data with\n",
    "#awk ' NR>=2 { print $1 }' COPDGene1_ftnd.txt > id_list.txt\n",
    "\n",
    "# EA\n",
    "awk ' NR>=2 { print $1 }' ea.phenotype.age1.txt > ea.id_list1.txt\n",
    "awk ' NR>=2 { print $1 }' ea.phenotype.age2.txt > ea.id_list2.txt\n",
    "\n",
    "awk 'FNR==NR{a[$0];next} ($2 in a)' ea.id_list1.txt ../../observed/processing/copdgene.ea.fam > ea.filtered1.fam\n",
    "awk 'FNR==NR{a[$0];next} ($2 in a)' ea.id_list2.txt ../../observed/processing/copdgene.ea.fam > ea.filtered2.fam\n",
    "\n",
    "# AA\n",
    "awk ' NR>=2 { print $1 }' aa.phenotype.age1.txt > aa.id_list1.txt\n",
    "awk ' NR>=2 { print $1 }' aa.phenotype.age2.txt > aa.id_list2.txt\n",
    "\n",
    "awk 'FNR==NR{a[$0];next} ($2 in a)' aa.id_list1.txt ../../observed/processing/copdgene.aa.fam > aa.filtered1.fam\n",
    "awk 'FNR==NR{a[$0];next} ($2 in a)' aa.id_list2.txt ../../observed/processing/copdgene.aa.fam > aa.filtered2.fam\n",
    "\n",
    "#awk 'FNR==NR{a[$0];next} ($2 in a)' id_list.txt ../../genotype/original/ea_chr_all.fam > filtered.fam\n",
    "\n",
    "awk '{print $1,$2 }' filtered.fam > ea_subject_ids.keep\n",
    "\n",
    "# Remove subjects by phenotype criteria\n",
    "ancestry=\"ea\"\n",
    "/shared/bioinformatics/software/third_party/plink-1.90-beta-4.10-x86_64/plink \\\n",
    "    --noweb \\\n",
    "    --memory 2048 \\\n",
    "    --bfile ../../genotype/original/ea_chr_all \\\n",
    "    --keep ea_subject_ids.keep \\\n",
    "    --make-bed \\\n",
    "    --out /shared/s3/emerge/eigenstrat_no_sex/${ancestry}_pheno_filter"
   ]
  },
  {
   "cell_type": "code",
   "execution_count": null,
   "metadata": {},
   "outputs": [],
   "source": []
  },
  {
   "cell_type": "code",
   "execution_count": null,
   "metadata": {},
   "outputs": [],
   "source": []
  }
 ],
 "metadata": {
  "kernelspec": {
   "display_name": "R",
   "language": "R",
   "name": "ir"
  },
  "language_info": {
   "codemirror_mode": "r",
   "file_extension": ".r",
   "mimetype": "text/x-r-source",
   "name": "R",
   "pygments_lexer": "r",
   "version": "3.4.3"
  },
  "toc": {
   "nav_menu": {},
   "number_sections": true,
   "sideBar": true,
   "skip_h1_title": false,
   "toc_cell": false,
   "toc_position": {
    "height": "808px",
    "left": "0px",
    "right": "1468px",
    "top": "111px",
    "width": "212px"
   },
   "toc_section_display": "block",
   "toc_window_display": true
  }
 },
 "nbformat": 4,
 "nbformat_minor": 2
}
