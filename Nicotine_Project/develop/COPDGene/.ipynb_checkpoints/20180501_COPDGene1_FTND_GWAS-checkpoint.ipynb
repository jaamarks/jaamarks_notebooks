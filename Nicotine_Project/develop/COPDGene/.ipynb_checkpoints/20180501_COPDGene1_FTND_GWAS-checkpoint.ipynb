{
 "cells": [
  {
   "cell_type": "markdown",
   "metadata": {},
   "source": [
    "# COPDGene1 Fagerstrom Test For Nicotine Dependence (FTND) GWAS\n",
    "__Author:__ Jesse Marks\n",
    "\n",
    "See [GitHub Issue #78](emerge_ea.1000G.CAT_FTND~SNP+SEX+EVs.maf_gt_0.01_rsq_gt_0.30_ea.snps+indels.manhattan.png.gz)\n",
    "\n",
    "This document logs the steps taken to process:\n",
    "\n",
    "* `Genetic Epidemiology of COPD (COPDGene) Funded by the National Heart, Lung, and Blood Institute` data and perform the FTND GWAS. The [COPDGene](https://www.ncbi.nlm.nih.gov/projects/gap/cgi-bin/study.cgi?study_id=phs000179.v1.p1) cohort is racially diverse and sufficiently large and appropriately designed for genome-wide association analysis of COPD. \n",
    "\n",
    "* There are 10k subjects including control smokers, definitie COPD cases (GOLD Stage 2 to 4) and subjects not included in either group (GOLD 1 or GOLD-Unclassified). \n",
    "\n",
    "* The focus of this study is genome-wide association analysis to identify the genetic risk factors that determine susceptibility for COPD and COPD-related phenotypes.\n",
    "\n",
    "* Our phenotype of interest is FTND\n",
    "\n",
    "FTND is a standard instrument for assessing the physical addiction to nicotine. For more information, see [this website](https://cde.drugabuse.gov/instrument/d7c0b0f5-b865-e4de-e040-bb89ad43202b).\n",
    "\n",
    "The imputed genotype are stored on Amazon Web Services S3 at:\n",
    "\n",
    "`s3://rti-nd/COPDGene`\n",
    "\n",
    "* We use the variable `FTNDboth_cat` variable that lumps together the former smokers that have lifetime FTND (N=736) with the current smokers that have current FTND (N=78). This will optimize sample size, especially since the severe category is slim.\n",
    "\n",
    "* **Note**: I will first perform the GWAS with only the autosomes \n",
    "\n",
    "* John Guo would like me to try this with the nextFlow pipeline"
   ]
  },
  {
   "cell_type": "markdown",
   "metadata": {},
   "source": [
    "## Notes about study\n",
    "**Note**: these notes are not cohesive but serve as a personal reference for information I gathered on the study\n",
    "\n",
    "* we have 1000 Genomes phase 3 imputation already available on the full COPDGene dataset\n",
    "\n",
    "* we will run COPDGene1 and COPDGene2 separately because FTND was collected several years apart and there were some key differences in the way that the questions were asked in the different waves. We will keep the two waves separate to circumvent any potential discrepancies which could arrise because of the phenotypes being less than harmonious and then we will combine them in a meta-analysis later. \n",
    "\n",
    "\n",
    "* I will run the GWAS analysis with the following variables:\n",
    "\n",
    "**COPDGene2** (all data from phase 2 LFU dataset, except for gender and finalGOLD which was collected only in phase 1)\n",
    "The criteria for COPDGene2 are:\n",
    "\n",
    "```1) WstFTND_cat_p2 (mostly former smokers with some current smokers picked up)\n",
    "2) age_p1 (age at current visit)\n",
    "3) gender (1=male, 2=female)\n",
    "4) Goldneg1 (between case and control - exhibits signs of both. Failed one diagnostic test while passing another.)\n",
    "5) Gold1or2 (cases)\n",
    "6) Gold3or4 (severe cases)\n",
    "7) EVs to be selected```\n",
    "\n",
    "**Also, I need to split the data up by race** (1=white, 2=black) \n",
    "\n",
    "\n",
    "**Note** We cannot assume that the increments in the GOLD classification are equal which is why we need to embed dummy variables rather than a single categorical variable in our regression models.\n",
    "\n",
    "* GOLD stands for the Global Initiative for Chronic Obstructive Lung Disease. Essentially, GOLD it is a metric for quantifying the severity of COPD a patient has.\n",
    "\n",
    "* FTND outcome and covariates are now ready at the path:\n",
    "    \n",
    "    `\\\\rcdcollaboration01.rti.ns\\GxG\\Analysis\\COPDGene\\phenotypes\\Phase2\\COPD Both waves with Cat FTND_v2.xls`\n",
    "    \n",
    "\n",
    "* For COPDGene1, we are increasing the sample size by several hundred. This is because, the previous analysis of COPDGene1 included only the subjects with determinant COPD GOLD status (finalGold=0 for controls, 1/2 for cases, and 3/4 for severe cases.) Now we know that subjects with an indeterminant status (i.e. finalGold=-1) were subjects that were classified to be between case and control. With this newfound knowledge, we can go ahead and include these subjects and rerun COPDGene1 with these subjects plus the subjects that were in the previous analysis. The model will be:\n",
    "\n",
    "`CurFTND_cat_p1 = SNP + age_p1 + gender + Goldneg1 +Gold1or2 + Gold3or4 + EVs to be selected`\n",
    "    * Also note that in this phase1, the subjects were all current smokers. (max N=5289)\n",
    "\n",
    "* For phase2, COPDGene2, we need to exclude all of the subjects which were included in COPDGene1. This will leave *mostly* former smokers with lifetime FTND reported (max N=2934). There will be some current smokers picked up in phase2 and we will include them here.\n",
    "\n",
    "`WstFTND_cat_p2 = SNP + age_p1 + gender + Goldneg1 +Gold1or2 + Gold3or4 + EVs to be selected`\n",
    "\n",
    "\n",
    "* So, 2,934 is the maximum number of subjects that will be included in COPDGene2. We will have to filter this down based on if the subjects have `sex, age, GOLD status,` and `genotype data.` Also, there are reportedly 4 subjects for COPDGene2 (have entries for the WstFTND_cat_p2 variable) that are missing finalGold status. Of those 4, 3 marked 0 for `Goldneg1`, `Gold1or2`, or `Gold3or4` and the other 1 has NA for those three variables. We will treat these 4 subjects as missing and exclude them from the analysis."
   ]
  },
  {
   "cell_type": "markdown",
   "metadata": {},
   "source": [
    "### CstFTND_cat_p2 variable description\n",
    "| cat | Freq |\n",
    "|-----|------|\n",
    "| 0   | 1,506 |   \n",
    "| 1   | 2,353 |   \n",
    "| 2   | 1,430 |   \n",
    "\n",
    "* Where FTND conversion is 0=0-3, 1=4-6, and 2=7+"
   ]
  },
  {
   "cell_type": "markdown",
   "metadata": {
    "collapsed": true
   },
   "source": [
    "# Prepare files for ProbABEL\n",
    "## Phenotype Data COPDGene1\n",
    "**Age p1 filtered table**\n",
    "___\n",
    "\n",
    "\n",
    "| Filtering Criterion                   | Subjects Removed  | Total |\n",
    "|---------------------------------------|-------------------|-------|\n",
    "| Initial Data                          | 0                 | 10,300|\n",
    "| Initial subjects (CurFTND)            | 5,011             | 5,289 |\n",
    "| Missing finalgold status              | 47                | 5,242 |\n",
    "| Missing sex                           | 0                 | 5,242 |\n",
    "| Missing age (p1)                      | 0                 | 5,242 |\n",
    "| Missing Genotype                      | 159               | 5,083 |\n",
    "\n",
    "* Number of EAs: 2,549 \n",
    "* Number of AAs: 2,534 \n",
    "\n",
    "\n",
    "___\n",
    "**Age p2 filtered table**\n",
    "\n",
    "\n",
    "| Filtering Criterion                   | Subjects Removed  | Total |\n",
    "|---------------------------------------|-------------------|-------|\n",
    "| Initial Data                          | 0                 | 10,300|\n",
    "| Initial subjects (CurFTND)            | 5,011             | 5,289 |\n",
    "| Missing finalgold status              | 47                | 5,242 |\n",
    "| Missing sex                           | 0                 | 5,242 |\n",
    "| Missing age (p2)                      | 2,353             | 2,889 |\n",
    "| Missing Genotype                      | 80                | 2,809 |\n",
    "\n",
    "* Number of EAs: 1,466\n",
    "* Number of AAs: 1,343\n",
    "\n",
    "### Apply Filters"
   ]
  },
  {
   "cell_type": "code",
   "execution_count": 11,
   "metadata": {},
   "outputs": [
    {
     "data": {
      "text/plain": [
       "\n",
       "   0    1    2 \n",
       "1506 2353 1430 "
      ]
     },
     "metadata": {},
     "output_type": "display_data"
    },
    {
     "name": "stdout",
     "output_type": "stream",
     "text": [
      "[1] \"Below is the table head of the entire phenotype file.\"\n"
     ]
    },
    {
     "data": {
      "text/html": [
       "<table>\n",
       "<thead><tr><th scope=col>sid</th><th scope=col>gender</th><th scope=col>race</th><th scope=col>ethnic</th><th scope=col>fagerstrom_index</th><th scope=col>finalgold</th><th scope=col>age_p1</th><th scope=col>age_p2</th><th scope=col>have_lfu</th><th scope=col>fagerstrom_index_lfu</th><th scope=col>CurFTND_cat_p1</th><th scope=col>WstFTND_cat_p2</th><th scope=col>Gold_Cat</th><th scope=col>Goldneg1</th><th scope=col>Gold1or2</th><th scope=col>Gold3or4</th></tr></thead>\n",
       "<tbody>\n",
       "\t<tr><td>15814W</td><td>2     </td><td>1     </td><td>2     </td><td>NA    </td><td>-2    </td><td>NA    </td><td>NA    </td><td>      </td><td>NA    </td><td>NA    </td><td>NA    </td><td>NA    </td><td>NA    </td><td>NA    </td><td>NA    </td></tr>\n",
       "\t<tr><td>16032X</td><td>1     </td><td>1     </td><td>2     </td><td>NA    </td><td>-2    </td><td>NA    </td><td>NA    </td><td>      </td><td>NA    </td><td>NA    </td><td>NA    </td><td>NA    </td><td>NA    </td><td>NA    </td><td>NA    </td></tr>\n",
       "\t<tr><td>16126G</td><td>2     </td><td>1     </td><td>2     </td><td>NA    </td><td>-2    </td><td>NA    </td><td>NA    </td><td>      </td><td>NA    </td><td>NA    </td><td>NA    </td><td>NA    </td><td>NA    </td><td>NA    </td><td>NA    </td></tr>\n",
       "\t<tr><td>16281S</td><td>2     </td><td>1     </td><td>2     </td><td>NA    </td><td>-2    </td><td>NA    </td><td>NA    </td><td>      </td><td>NA    </td><td>NA    </td><td>NA    </td><td>NA    </td><td>NA    </td><td>NA    </td><td>NA    </td></tr>\n",
       "\t<tr><td>16303C</td><td>1     </td><td>1     </td><td>2     </td><td>NA    </td><td>-2    </td><td>NA    </td><td>NA    </td><td>      </td><td>NA    </td><td>NA    </td><td>NA    </td><td>NA    </td><td>NA    </td><td>NA    </td><td>NA    </td></tr>\n",
       "\t<tr><td>16311B</td><td>2     </td><td>1     </td><td>2     </td><td>NA    </td><td>-2    </td><td>NA    </td><td>NA    </td><td>      </td><td>NA    </td><td>NA    </td><td>NA    </td><td>NA    </td><td>NA    </td><td>NA    </td><td>NA    </td></tr>\n",
       "</tbody>\n",
       "</table>\n"
      ],
      "text/latex": [
       "\\begin{tabular}{r|llllllllllllllll}\n",
       " sid & gender & race & ethnic & fagerstrom\\_index & finalgold & age\\_p1 & age\\_p2 & have\\_lfu & fagerstrom\\_index\\_lfu & CurFTND\\_cat\\_p1 & WstFTND\\_cat\\_p2 & Gold\\_Cat & Goldneg1 & Gold1or2 & Gold3or4\\\\\n",
       "\\hline\n",
       "\t 15814W & 2      & 1      & 2      & NA     & -2     & NA     & NA     &        & NA     & NA     & NA     & NA     & NA     & NA     & NA    \\\\\n",
       "\t 16032X & 1      & 1      & 2      & NA     & -2     & NA     & NA     &        & NA     & NA     & NA     & NA     & NA     & NA     & NA    \\\\\n",
       "\t 16126G & 2      & 1      & 2      & NA     & -2     & NA     & NA     &        & NA     & NA     & NA     & NA     & NA     & NA     & NA    \\\\\n",
       "\t 16281S & 2      & 1      & 2      & NA     & -2     & NA     & NA     &        & NA     & NA     & NA     & NA     & NA     & NA     & NA    \\\\\n",
       "\t 16303C & 1      & 1      & 2      & NA     & -2     & NA     & NA     &        & NA     & NA     & NA     & NA     & NA     & NA     & NA    \\\\\n",
       "\t 16311B & 2      & 1      & 2      & NA     & -2     & NA     & NA     &        & NA     & NA     & NA     & NA     & NA     & NA     & NA    \\\\\n",
       "\\end{tabular}\n"
      ],
      "text/markdown": [
       "\n",
       "sid | gender | race | ethnic | fagerstrom_index | finalgold | age_p1 | age_p2 | have_lfu | fagerstrom_index_lfu | CurFTND_cat_p1 | WstFTND_cat_p2 | Gold_Cat | Goldneg1 | Gold1or2 | Gold3or4 | \n",
       "|---|---|---|---|---|---|\n",
       "| 15814W | 2      | 1      | 2      | NA     | -2     | NA     | NA     |        | NA     | NA     | NA     | NA     | NA     | NA     | NA     | \n",
       "| 16032X | 1      | 1      | 2      | NA     | -2     | NA     | NA     |        | NA     | NA     | NA     | NA     | NA     | NA     | NA     | \n",
       "| 16126G | 2      | 1      | 2      | NA     | -2     | NA     | NA     |        | NA     | NA     | NA     | NA     | NA     | NA     | NA     | \n",
       "| 16281S | 2      | 1      | 2      | NA     | -2     | NA     | NA     |        | NA     | NA     | NA     | NA     | NA     | NA     | NA     | \n",
       "| 16303C | 1      | 1      | 2      | NA     | -2     | NA     | NA     |        | NA     | NA     | NA     | NA     | NA     | NA     | NA     | \n",
       "| 16311B | 2      | 1      | 2      | NA     | -2     | NA     | NA     |        | NA     | NA     | NA     | NA     | NA     | NA     | NA     | \n",
       "\n",
       "\n"
      ],
      "text/plain": [
       "  sid    gender race ethnic fagerstrom_index finalgold age_p1 age_p2 have_lfu\n",
       "1 15814W 2      1    2      NA               -2        NA     NA             \n",
       "2 16032X 1      1    2      NA               -2        NA     NA             \n",
       "3 16126G 2      1    2      NA               -2        NA     NA             \n",
       "4 16281S 2      1    2      NA               -2        NA     NA             \n",
       "5 16303C 1      1    2      NA               -2        NA     NA             \n",
       "6 16311B 2      1    2      NA               -2        NA     NA             \n",
       "  fagerstrom_index_lfu CurFTND_cat_p1 WstFTND_cat_p2 Gold_Cat Goldneg1 Gold1or2\n",
       "1 NA                   NA             NA             NA       NA       NA      \n",
       "2 NA                   NA             NA             NA       NA       NA      \n",
       "3 NA                   NA             NA             NA       NA       NA      \n",
       "4 NA                   NA             NA             NA       NA       NA      \n",
       "5 NA                   NA             NA             NA       NA       NA      \n",
       "6 NA                   NA             NA             NA       NA       NA      \n",
       "  Gold3or4\n",
       "1 NA      \n",
       "2 NA      \n",
       "3 NA      \n",
       "4 NA      \n",
       "5 NA      \n",
       "6 NA      "
      ]
     },
     "metadata": {},
     "output_type": "display_data"
    }
   ],
   "source": [
    "pheno.data <- read.table(\"C:/Users/jmarks/Desktop/Projects/Nicotine/COPDGene/pheno/Copy of COPD Both waves with Cat FTND_v2.csv\",\n",
    "                        sep=\",\", header=T)\n",
    "\n",
    "table(pheno.data$CurFTND_cat_p1)\n",
    "print(\"Below is the table head of the entire phenotype file.\")\n",
    "head(pheno.data)"
   ]
  },
  {
   "cell_type": "markdown",
   "metadata": {},
   "source": [
    "#### Initial numbers"
   ]
  },
  {
   "cell_type": "code",
   "execution_count": 8,
   "metadata": {},
   "outputs": [
    {
     "name": "stdout",
     "output_type": "stream",
     "text": [
      "[1] \"Max number of subjects for COPDGene1 (both ancestries)\"\n"
     ]
    },
    {
     "data": {
      "text/html": [
       "5289"
      ],
      "text/latex": [
       "5289"
      ],
      "text/markdown": [
       "5289"
      ],
      "text/plain": [
       "[1] 5289"
      ]
     },
     "metadata": {},
     "output_type": "display_data"
    },
    {
     "name": "stdout",
     "output_type": "stream",
     "text": [
      "[1] \"Below is the table head of the COPDGene1 data before any filters (save FTND) have been applied.\"\n"
     ]
    },
    {
     "data": {
      "text/html": [
       "<table>\n",
       "<thead><tr><th></th><th scope=col>sid</th><th scope=col>gender</th><th scope=col>race</th><th scope=col>ethnic</th><th scope=col>fagerstrom_index</th><th scope=col>finalgold</th><th scope=col>age_p1</th><th scope=col>age_p2</th><th scope=col>have_lfu</th><th scope=col>fagerstrom_index_lfu</th><th scope=col>CurFTND_cat_p1</th><th scope=col>WstFTND_cat_p2</th><th scope=col>Gold_Cat</th><th scope=col>Goldneg1</th><th scope=col>Gold1or2</th><th scope=col>Gold3or4</th></tr></thead>\n",
       "<tbody>\n",
       "\t<tr><th scope=row>101</th><td>10008W</td><td>1     </td><td>1     </td><td>2     </td><td>1     </td><td>-1    </td><td>55.1  </td><td>  NA  </td><td>      </td><td>NA    </td><td>0     </td><td>NA    </td><td>1     </td><td>1     </td><td>0     </td><td>0     </td></tr>\n",
       "\t<tr><th scope=row>104</th><td>10248Q</td><td>1     </td><td>1     </td><td>2     </td><td>9     </td><td>-1    </td><td>66.9  </td><td>  NA  </td><td>      </td><td>NA    </td><td>2     </td><td>NA    </td><td>1     </td><td>1     </td><td>0     </td><td>0     </td></tr>\n",
       "\t<tr><th scope=row>109</th><td>10521I</td><td>2     </td><td>1     </td><td>2     </td><td>5     </td><td>-1    </td><td>53.3  </td><td>  NA  </td><td>      </td><td>NA    </td><td>1     </td><td>NA    </td><td>1     </td><td>1     </td><td>0     </td><td>0     </td></tr>\n",
       "\t<tr><th scope=row>113</th><td>10604M</td><td>2     </td><td>1     </td><td>2     </td><td>5     </td><td>-1    </td><td>64.9  </td><td>70.5  </td><td>LFU   </td><td> 4    </td><td>1     </td><td> 1    </td><td>1     </td><td>1     </td><td>0     </td><td>0     </td></tr>\n",
       "\t<tr><th scope=row>116</th><td>10705S</td><td>2     </td><td>1     </td><td>2     </td><td>3     </td><td>-1    </td><td>70.6  </td><td>76.4  </td><td>LFU   </td><td> 4    </td><td>0     </td><td> 1    </td><td>1     </td><td>1     </td><td>0     </td><td>0     </td></tr>\n",
       "\t<tr><th scope=row>119</th><td>10918J</td><td>2     </td><td>1     </td><td>2     </td><td>4     </td><td>-1    </td><td>54.0  </td><td>  NA  </td><td>      </td><td>NA    </td><td>1     </td><td>NA    </td><td>1     </td><td>1     </td><td>0     </td><td>0     </td></tr>\n",
       "</tbody>\n",
       "</table>\n"
      ],
      "text/latex": [
       "\\begin{tabular}{r|llllllllllllllll}\n",
       "  & sid & gender & race & ethnic & fagerstrom\\_index & finalgold & age\\_p1 & age\\_p2 & have\\_lfu & fagerstrom\\_index\\_lfu & CurFTND\\_cat\\_p1 & WstFTND\\_cat\\_p2 & Gold\\_Cat & Goldneg1 & Gold1or2 & Gold3or4\\\\\n",
       "\\hline\n",
       "\t101 & 10008W & 1      & 1      & 2      & 1      & -1     & 55.1   &   NA   &        & NA     & 0      & NA     & 1      & 1      & 0      & 0     \\\\\n",
       "\t104 & 10248Q & 1      & 1      & 2      & 9      & -1     & 66.9   &   NA   &        & NA     & 2      & NA     & 1      & 1      & 0      & 0     \\\\\n",
       "\t109 & 10521I & 2      & 1      & 2      & 5      & -1     & 53.3   &   NA   &        & NA     & 1      & NA     & 1      & 1      & 0      & 0     \\\\\n",
       "\t113 & 10604M & 2      & 1      & 2      & 5      & -1     & 64.9   & 70.5   & LFU    &  4     & 1      &  1     & 1      & 1      & 0      & 0     \\\\\n",
       "\t116 & 10705S & 2      & 1      & 2      & 3      & -1     & 70.6   & 76.4   & LFU    &  4     & 0      &  1     & 1      & 1      & 0      & 0     \\\\\n",
       "\t119 & 10918J & 2      & 1      & 2      & 4      & -1     & 54.0   &   NA   &        & NA     & 1      & NA     & 1      & 1      & 0      & 0     \\\\\n",
       "\\end{tabular}\n"
      ],
      "text/markdown": [
       "\n",
       "| <!--/--> | sid | gender | race | ethnic | fagerstrom_index | finalgold | age_p1 | age_p2 | have_lfu | fagerstrom_index_lfu | CurFTND_cat_p1 | WstFTND_cat_p2 | Gold_Cat | Goldneg1 | Gold1or2 | Gold3or4 | \n",
       "|---|---|---|---|---|---|\n",
       "| 101 | 10008W | 1      | 1      | 2      | 1      | -1     | 55.1   |   NA   |        | NA     | 0      | NA     | 1      | 1      | 0      | 0      | \n",
       "| 104 | 10248Q | 1      | 1      | 2      | 9      | -1     | 66.9   |   NA   |        | NA     | 2      | NA     | 1      | 1      | 0      | 0      | \n",
       "| 109 | 10521I | 2      | 1      | 2      | 5      | -1     | 53.3   |   NA   |        | NA     | 1      | NA     | 1      | 1      | 0      | 0      | \n",
       "| 113 | 10604M | 2      | 1      | 2      | 5      | -1     | 64.9   | 70.5   | LFU    |  4     | 1      |  1     | 1      | 1      | 0      | 0      | \n",
       "| 116 | 10705S | 2      | 1      | 2      | 3      | -1     | 70.6   | 76.4   | LFU    |  4     | 0      |  1     | 1      | 1      | 0      | 0      | \n",
       "| 119 | 10918J | 2      | 1      | 2      | 4      | -1     | 54.0   |   NA   |        | NA     | 1      | NA     | 1      | 1      | 0      | 0      | \n",
       "\n",
       "\n"
      ],
      "text/plain": [
       "    sid    gender race ethnic fagerstrom_index finalgold age_p1 age_p2 have_lfu\n",
       "101 10008W 1      1    2      1                -1        55.1     NA           \n",
       "104 10248Q 1      1    2      9                -1        66.9     NA           \n",
       "109 10521I 2      1    2      5                -1        53.3     NA           \n",
       "113 10604M 2      1    2      5                -1        64.9   70.5   LFU     \n",
       "116 10705S 2      1    2      3                -1        70.6   76.4   LFU     \n",
       "119 10918J 2      1    2      4                -1        54.0     NA           \n",
       "    fagerstrom_index_lfu CurFTND_cat_p1 WstFTND_cat_p2 Gold_Cat Goldneg1\n",
       "101 NA                   0              NA             1        1       \n",
       "104 NA                   2              NA             1        1       \n",
       "109 NA                   1              NA             1        1       \n",
       "113  4                   1               1             1        1       \n",
       "116  4                   0               1             1        1       \n",
       "119 NA                   1              NA             1        1       \n",
       "    Gold1or2 Gold3or4\n",
       "101 0        0       \n",
       "104 0        0       \n",
       "109 0        0       \n",
       "113 0        0       \n",
       "116 0        0       \n",
       "119 0        0       "
      ]
     },
     "metadata": {},
     "output_type": "display_data"
    }
   ],
   "source": [
    "# COPDGene1\n",
    "# Calculate number of subjects with CurFTND data\n",
    "cur.ftnd.vec <-  which(pheno.data$CurFTND_cat_p1 >= 0)\n",
    "\n",
    "cur.ftnd.filtered <- pheno.data[cur.ftnd.vec,]\n",
    "print(\"Max number of subjects for COPDGene1 (both ancestries)\")\n",
    "length(cur.ftnd.filtered[,1])\n",
    "\n",
    "print(\"Below is the table head of the COPDGene1 data before any filters (save FTND) have been applied.\")\n",
    "head(cur.ftnd.filtered)"
   ]
  },
  {
   "cell_type": "markdown",
   "metadata": {},
   "source": [
    "#### Missing finalgold filter\n",
    "Remove subjects missing `finalgold` variable"
   ]
  },
  {
   "cell_type": "code",
   "execution_count": 12,
   "metadata": {},
   "outputs": [
    {
     "name": "stdout",
     "output_type": "stream",
     "text": [
      "[1] \"These are the sequential indices in the cur.ftnd.filtered at which they occur.\"\n"
     ]
    },
    {
     "data": {
      "text/html": [
       "<ol class=list-inline>\n",
       "\t<li>2620</li>\n",
       "\t<li>2621</li>\n",
       "\t<li>2622</li>\n",
       "\t<li>2623</li>\n",
       "\t<li>2624</li>\n",
       "\t<li>2625</li>\n",
       "\t<li>2626</li>\n",
       "\t<li>2627</li>\n",
       "\t<li>2628</li>\n",
       "\t<li>2629</li>\n",
       "\t<li>2630</li>\n",
       "\t<li>2631</li>\n",
       "\t<li>2632</li>\n",
       "\t<li>5256</li>\n",
       "\t<li>5257</li>\n",
       "\t<li>5258</li>\n",
       "\t<li>5259</li>\n",
       "\t<li>5260</li>\n",
       "\t<li>5261</li>\n",
       "\t<li>5262</li>\n",
       "\t<li>5263</li>\n",
       "\t<li>5264</li>\n",
       "\t<li>5265</li>\n",
       "\t<li>5266</li>\n",
       "\t<li>5267</li>\n",
       "\t<li>5268</li>\n",
       "\t<li>5269</li>\n",
       "\t<li>5270</li>\n",
       "\t<li>5271</li>\n",
       "\t<li>5272</li>\n",
       "\t<li>5273</li>\n",
       "\t<li>5274</li>\n",
       "\t<li>5275</li>\n",
       "\t<li>5276</li>\n",
       "\t<li>5277</li>\n",
       "\t<li>5278</li>\n",
       "\t<li>5279</li>\n",
       "\t<li>5280</li>\n",
       "\t<li>5281</li>\n",
       "\t<li>5282</li>\n",
       "\t<li>5283</li>\n",
       "\t<li>5284</li>\n",
       "\t<li>5285</li>\n",
       "\t<li>5286</li>\n",
       "\t<li>5287</li>\n",
       "\t<li>5288</li>\n",
       "\t<li>5289</li>\n",
       "</ol>\n"
      ],
      "text/latex": [
       "\\begin{enumerate*}\n",
       "\\item 2620\n",
       "\\item 2621\n",
       "\\item 2622\n",
       "\\item 2623\n",
       "\\item 2624\n",
       "\\item 2625\n",
       "\\item 2626\n",
       "\\item 2627\n",
       "\\item 2628\n",
       "\\item 2629\n",
       "\\item 2630\n",
       "\\item 2631\n",
       "\\item 2632\n",
       "\\item 5256\n",
       "\\item 5257\n",
       "\\item 5258\n",
       "\\item 5259\n",
       "\\item 5260\n",
       "\\item 5261\n",
       "\\item 5262\n",
       "\\item 5263\n",
       "\\item 5264\n",
       "\\item 5265\n",
       "\\item 5266\n",
       "\\item 5267\n",
       "\\item 5268\n",
       "\\item 5269\n",
       "\\item 5270\n",
       "\\item 5271\n",
       "\\item 5272\n",
       "\\item 5273\n",
       "\\item 5274\n",
       "\\item 5275\n",
       "\\item 5276\n",
       "\\item 5277\n",
       "\\item 5278\n",
       "\\item 5279\n",
       "\\item 5280\n",
       "\\item 5281\n",
       "\\item 5282\n",
       "\\item 5283\n",
       "\\item 5284\n",
       "\\item 5285\n",
       "\\item 5286\n",
       "\\item 5287\n",
       "\\item 5288\n",
       "\\item 5289\n",
       "\\end{enumerate*}\n"
      ],
      "text/markdown": [
       "1. 2620\n",
       "2. 2621\n",
       "3. 2622\n",
       "4. 2623\n",
       "5. 2624\n",
       "6. 2625\n",
       "7. 2626\n",
       "8. 2627\n",
       "9. 2628\n",
       "10. 2629\n",
       "11. 2630\n",
       "12. 2631\n",
       "13. 2632\n",
       "14. 5256\n",
       "15. 5257\n",
       "16. 5258\n",
       "17. 5259\n",
       "18. 5260\n",
       "19. 5261\n",
       "20. 5262\n",
       "21. 5263\n",
       "22. 5264\n",
       "23. 5265\n",
       "24. 5266\n",
       "25. 5267\n",
       "26. 5268\n",
       "27. 5269\n",
       "28. 5270\n",
       "29. 5271\n",
       "30. 5272\n",
       "31. 5273\n",
       "32. 5274\n",
       "33. 5275\n",
       "34. 5276\n",
       "35. 5277\n",
       "36. 5278\n",
       "37. 5279\n",
       "38. 5280\n",
       "39. 5281\n",
       "40. 5282\n",
       "41. 5283\n",
       "42. 5284\n",
       "43. 5285\n",
       "44. 5286\n",
       "45. 5287\n",
       "46. 5288\n",
       "47. 5289\n",
       "\n",
       "\n"
      ],
      "text/plain": [
       " [1] 2620 2621 2622 2623 2624 2625 2626 2627 2628 2629 2630 2631 2632 5256 5257\n",
       "[16] 5258 5259 5260 5261 5262 5263 5264 5265 5266 5267 5268 5269 5270 5271 5272\n",
       "[31] 5273 5274 5275 5276 5277 5278 5279 5280 5281 5282 5283 5284 5285 5286 5287\n",
       "[46] 5288 5289"
      ]
     },
     "metadata": {},
     "output_type": "display_data"
    },
    {
     "name": "stdout",
     "output_type": "stream",
     "text": [
      "[1] \"Number of subjects missing finalgold.\"\n"
     ]
    },
    {
     "data": {
      "text/html": [
       "47"
      ],
      "text/latex": [
       "47"
      ],
      "text/markdown": [
       "47"
      ],
      "text/plain": [
       "[1] 47"
      ]
     },
     "metadata": {},
     "output_type": "display_data"
    },
    {
     "name": "stdout",
     "output_type": "stream",
     "text": [
      "[1] \"Here are the data of those subjects with missing finalgold.\"\n"
     ]
    },
    {
     "data": {
      "text/html": [
       "<table>\n",
       "<thead><tr><th></th><th scope=col>sid</th><th scope=col>gender</th><th scope=col>race</th><th scope=col>ethnic</th><th scope=col>fagerstrom_index</th><th scope=col>finalgold</th><th scope=col>age_p1</th><th scope=col>age_p2</th><th scope=col>have_lfu</th><th scope=col>fagerstrom_index_lfu</th><th scope=col>CurFTND_cat_p1</th><th scope=col>WstFTND_cat_p2</th><th scope=col>Gold_Cat</th><th scope=col>Goldneg1</th><th scope=col>Gold1or2</th><th scope=col>Gold3or4</th></tr></thead>\n",
       "<tbody>\n",
       "\t<tr><th scope=row>6866</th><td>10279B</td><td>1     </td><td>1     </td><td>2     </td><td>2     </td><td>NA    </td><td>68.2  </td><td>  NA  </td><td>      </td><td>NA    </td><td>0     </td><td>NA    </td><td>NA    </td><td> 0    </td><td> 0    </td><td> 0    </td></tr>\n",
       "\t<tr><th scope=row>6867</th><td>10818F</td><td>1     </td><td>1     </td><td>2     </td><td>3     </td><td>NA    </td><td>63.2  </td><td>  NA  </td><td>      </td><td>NA    </td><td>0     </td><td>NA    </td><td>NA    </td><td> 0    </td><td> 0    </td><td> 0    </td></tr>\n",
       "\t<tr><th scope=row>6869</th><td>11125F</td><td>1     </td><td>1     </td><td>2     </td><td>4     </td><td>NA    </td><td>55.9  </td><td>61.0  </td><td>LFU   </td><td> 5    </td><td>1     </td><td> 1    </td><td>NA    </td><td> 0    </td><td> 0    </td><td> 0    </td></tr>\n",
       "\t<tr><th scope=row>6870</th><td>11182R</td><td>1     </td><td>1     </td><td>2     </td><td>7     </td><td>NA    </td><td>64.5  </td><td>72.7  </td><td>LFU   </td><td> 6    </td><td>2     </td><td> 1    </td><td>NA    </td><td> 0    </td><td> 0    </td><td> 0    </td></tr>\n",
       "\t<tr><th scope=row>6871</th><td>11832E</td><td>2     </td><td>1     </td><td>2     </td><td>7     </td><td>NA    </td><td>60.4  </td><td>  NA  </td><td>      </td><td>NA    </td><td>2     </td><td>NA    </td><td>NA    </td><td> 0    </td><td> 0    </td><td> 0    </td></tr>\n",
       "\t<tr><th scope=row>6876</th><td>15765J</td><td>1     </td><td>1     </td><td>2     </td><td>5     </td><td>NA    </td><td>53.7  </td><td>59.9  </td><td>LFU   </td><td> 1    </td><td>1     </td><td> 0    </td><td>NA    </td><td> 0    </td><td> 0    </td><td> 0    </td></tr>\n",
       "\t<tr><th scope=row>6877</th><td>17778C</td><td>2     </td><td>1     </td><td>2     </td><td>5     </td><td>NA    </td><td>62.8  </td><td>68.0  </td><td>LFU   </td><td> 2    </td><td>1     </td><td> 0    </td><td>NA    </td><td> 0    </td><td> 0    </td><td> 0    </td></tr>\n",
       "\t<tr><th scope=row>6878</th><td>18595Z</td><td>2     </td><td>1     </td><td>2     </td><td>4     </td><td>NA    </td><td>47.5  </td><td>  NA  </td><td>      </td><td>NA    </td><td>1     </td><td>NA    </td><td>NA    </td><td> 0    </td><td> 0    </td><td> 0    </td></tr>\n",
       "\t<tr><th scope=row>6879</th><td>18916T</td><td>2     </td><td>1     </td><td>2     </td><td>8     </td><td>NA    </td><td>64.3  </td><td>  NA  </td><td>      </td><td>NA    </td><td>2     </td><td>NA    </td><td>NA    </td><td> 0    </td><td> 0    </td><td> 0    </td></tr>\n",
       "\t<tr><th scope=row>6880</th><td>19004H</td><td>1     </td><td>1     </td><td>2     </td><td>6     </td><td>NA    </td><td>66.0  </td><td>71.0  </td><td>LFU   </td><td> 4    </td><td>1     </td><td> 1    </td><td>NA    </td><td> 0    </td><td> 0    </td><td> 0    </td></tr>\n",
       "\t<tr><th scope=row>6881</th><td>21613Y</td><td>1     </td><td>1     </td><td>2     </td><td>3     </td><td>NA    </td><td>47.1  </td><td>52.7  </td><td>LFU   </td><td> 8    </td><td>0     </td><td> 2    </td><td>NA    </td><td> 0    </td><td> 0    </td><td> 0    </td></tr>\n",
       "\t<tr><th scope=row>6882</th><td>22271B</td><td>1     </td><td>1     </td><td>2     </td><td>6     </td><td>NA    </td><td>53.8  </td><td>  NA  </td><td>      </td><td>NA    </td><td>1     </td><td>NA    </td><td>NA    </td><td> 0    </td><td> 0    </td><td> 0    </td></tr>\n",
       "\t<tr><th scope=row>6883</th><td>24152D</td><td>1     </td><td>1     </td><td>2     </td><td>5     </td><td>NA    </td><td>56.0  </td><td>  NA  </td><td>      </td><td>NA    </td><td>1     </td><td>NA    </td><td>NA    </td><td> 0    </td><td> 0    </td><td> 0    </td></tr>\n",
       "\t<tr><th scope=row>10258</th><td>10321A</td><td>1     </td><td>2     </td><td>2     </td><td>7     </td><td>NA    </td><td>57.5  </td><td>63.4  </td><td>      </td><td>NA    </td><td>2     </td><td>NA    </td><td>NA    </td><td>NA    </td><td>NA    </td><td>NA    </td></tr>\n",
       "\t<tr><th scope=row>10259</th><td>11122Z</td><td>1     </td><td>2     </td><td>2     </td><td>6     </td><td>NA    </td><td>49.1  </td><td>  NA  </td><td>      </td><td>NA    </td><td>1     </td><td>NA    </td><td>NA    </td><td>NA    </td><td>NA    </td><td>NA    </td></tr>\n",
       "\t<tr><th scope=row>10260</th><td>11180N</td><td>1     </td><td>2     </td><td>2     </td><td>6     </td><td>NA    </td><td>48.6  </td><td>54.0  </td><td>      </td><td>NA    </td><td>1     </td><td>NA    </td><td>NA    </td><td>NA    </td><td>NA    </td><td>NA    </td></tr>\n",
       "\t<tr><th scope=row>10261</th><td>11272S</td><td>1     </td><td>2     </td><td>2     </td><td>6     </td><td>NA    </td><td>55.0  </td><td>  NA  </td><td>      </td><td>NA    </td><td>1     </td><td>NA    </td><td>NA    </td><td>NA    </td><td>NA    </td><td>NA    </td></tr>\n",
       "\t<tr><th scope=row>10262</th><td>11576M</td><td>2     </td><td>2     </td><td>2     </td><td>3     </td><td>NA    </td><td>47.4  </td><td>52.7  </td><td>      </td><td>NA    </td><td>0     </td><td>NA    </td><td>NA    </td><td>NA    </td><td>NA    </td><td>NA    </td></tr>\n",
       "\t<tr><th scope=row>10263</th><td>12228U</td><td>2     </td><td>2     </td><td>2     </td><td>7     </td><td>NA    </td><td>54.5  </td><td>  NA  </td><td>      </td><td>NA    </td><td>2     </td><td>NA    </td><td>NA    </td><td>NA    </td><td>NA    </td><td>NA    </td></tr>\n",
       "\t<tr><th scope=row>10264</th><td>12670J</td><td>2     </td><td>2     </td><td>2     </td><td>5     </td><td>NA    </td><td>52.0  </td><td>  NA  </td><td>      </td><td>NA    </td><td>1     </td><td>NA    </td><td>NA    </td><td>NA    </td><td>NA    </td><td>NA    </td></tr>\n",
       "\t<tr><th scope=row>10265</th><td>12838V</td><td>1     </td><td>2     </td><td>2     </td><td>5     </td><td>NA    </td><td>52.9  </td><td>  NA  </td><td>      </td><td>NA    </td><td>1     </td><td>NA    </td><td>NA    </td><td>NA    </td><td>NA    </td><td>NA    </td></tr>\n",
       "\t<tr><th scope=row>10266</th><td>13274G</td><td>2     </td><td>2     </td><td>2     </td><td>8     </td><td>NA    </td><td>61.1  </td><td>67.2  </td><td>LFU   </td><td> 6    </td><td>2     </td><td> 1    </td><td>NA    </td><td>NA    </td><td>NA    </td><td>NA    </td></tr>\n",
       "\t<tr><th scope=row>10267</th><td>14465S</td><td>1     </td><td>2     </td><td>2     </td><td>4     </td><td>NA    </td><td>57.3  </td><td>65.0  </td><td>LFU   </td><td> 3    </td><td>1     </td><td> 0    </td><td>NA    </td><td>NA    </td><td>NA    </td><td>NA    </td></tr>\n",
       "\t<tr><th scope=row>10268</th><td>14509M</td><td>2     </td><td>2     </td><td>2     </td><td>6     </td><td>NA    </td><td>50.2  </td><td>55.3  </td><td>LFU   </td><td> 2    </td><td>1     </td><td> 0    </td><td>NA    </td><td>NA    </td><td>NA    </td><td>NA    </td></tr>\n",
       "\t<tr><th scope=row>10270</th><td>14782E</td><td>1     </td><td>2     </td><td>2     </td><td>3     </td><td>NA    </td><td>53.8  </td><td>  NA  </td><td>      </td><td>NA    </td><td>0     </td><td>NA    </td><td>NA    </td><td>NA    </td><td>NA    </td><td>NA    </td></tr>\n",
       "\t<tr><th scope=row>10271</th><td>14959R</td><td>1     </td><td>2     </td><td>2     </td><td>5     </td><td>NA    </td><td>56.3  </td><td>  NA  </td><td>      </td><td>NA    </td><td>1     </td><td>NA    </td><td>NA    </td><td>NA    </td><td>NA    </td><td>NA    </td></tr>\n",
       "\t<tr><th scope=row>10274</th><td>15416K</td><td>1     </td><td>2     </td><td>2     </td><td>5     </td><td>NA    </td><td>47.6  </td><td>53.5  </td><td>      </td><td>NA    </td><td>1     </td><td>NA    </td><td>NA    </td><td>NA    </td><td>NA    </td><td>NA    </td></tr>\n",
       "\t<tr><th scope=row>10275</th><td>15498M</td><td>1     </td><td>2     </td><td>2     </td><td>8     </td><td>NA    </td><td>54.1  </td><td>  NA  </td><td>      </td><td>NA    </td><td>2     </td><td>NA    </td><td>NA    </td><td>NA    </td><td>NA    </td><td>NA    </td></tr>\n",
       "\t<tr><th scope=row>10276</th><td>15791K</td><td>1     </td><td>2     </td><td>2     </td><td>5     </td><td>NA    </td><td>53.4  </td><td>  NA  </td><td>      </td><td>NA    </td><td>1     </td><td>NA    </td><td>NA    </td><td>NA    </td><td>NA    </td><td>NA    </td></tr>\n",
       "\t<tr><th scope=row>10277</th><td>15828H</td><td>1     </td><td>2     </td><td>2     </td><td>7     </td><td>NA    </td><td>54.1  </td><td>  NA  </td><td>      </td><td>NA    </td><td>2     </td><td>NA    </td><td>NA    </td><td>NA    </td><td>NA    </td><td>NA    </td></tr>\n",
       "\t<tr><th scope=row>10278</th><td>16376D</td><td>1     </td><td>2     </td><td>2     </td><td>7     </td><td>NA    </td><td>48.5  </td><td>  NA  </td><td>      </td><td>NA    </td><td>2     </td><td>NA    </td><td>NA    </td><td>NA    </td><td>NA    </td><td>NA    </td></tr>\n",
       "\t<tr><th scope=row>10279</th><td>16690J</td><td>1     </td><td>2     </td><td>2     </td><td>9     </td><td>NA    </td><td>59.0  </td><td>  NA  </td><td>      </td><td>NA    </td><td>2     </td><td>NA    </td><td>NA    </td><td>NA    </td><td>NA    </td><td>NA    </td></tr>\n",
       "\t<tr><th scope=row>10280</th><td>16970P</td><td>1     </td><td>2     </td><td>2     </td><td>0     </td><td>NA    </td><td>46.5  </td><td>54.2  </td><td>      </td><td>NA    </td><td>0     </td><td>NA    </td><td>NA    </td><td>NA    </td><td>NA    </td><td>NA    </td></tr>\n",
       "\t<tr><th scope=row>10281</th><td>17394K</td><td>1     </td><td>2     </td><td>2     </td><td>7     </td><td>NA    </td><td>59.7  </td><td>  NA  </td><td>      </td><td>NA    </td><td>2     </td><td>NA    </td><td>NA    </td><td>NA    </td><td>NA    </td><td>NA    </td></tr>\n",
       "\t<tr><th scope=row>10282</th><td>17447F</td><td>1     </td><td>2     </td><td>2     </td><td>4     </td><td>NA    </td><td>46.9  </td><td>52.9  </td><td>      </td><td>NA    </td><td>1     </td><td>NA    </td><td>NA    </td><td>NA    </td><td>NA    </td><td>NA    </td></tr>\n",
       "\t<tr><th scope=row>10284</th><td>17650C</td><td>2     </td><td>2     </td><td>2     </td><td>9     </td><td>NA    </td><td>48.9  </td><td>53.5  </td><td>      </td><td>NA    </td><td>2     </td><td>NA    </td><td>NA    </td><td>NA    </td><td>NA    </td><td>NA    </td></tr>\n",
       "\t<tr><th scope=row>10285</th><td>18113H</td><td>1     </td><td>2     </td><td>2     </td><td>2     </td><td>NA    </td><td>53.8  </td><td>  NA  </td><td>      </td><td>NA    </td><td>0     </td><td>NA    </td><td>NA    </td><td>NA    </td><td>NA    </td><td>NA    </td></tr>\n",
       "\t<tr><th scope=row>10287</th><td>18546M</td><td>2     </td><td>2     </td><td>2     </td><td>8     </td><td>NA    </td><td>62.5  </td><td>  NA  </td><td>      </td><td>NA    </td><td>2     </td><td>NA    </td><td>NA    </td><td>NA    </td><td>NA    </td><td>NA    </td></tr>\n",
       "\t<tr><th scope=row>10288</th><td>18930N</td><td>1     </td><td>2     </td><td>2     </td><td>7     </td><td>NA    </td><td>61.3  </td><td>66.4  </td><td>LFU   </td><td> 3    </td><td>2     </td><td> 0    </td><td>NA    </td><td>NA    </td><td>NA    </td><td>NA    </td></tr>\n",
       "\t<tr><th scope=row>10290</th><td>19964J</td><td>2     </td><td>2     </td><td>2     </td><td>3     </td><td>NA    </td><td>52.4  </td><td>  NA  </td><td>LFU   </td><td> 6    </td><td>0     </td><td> 1    </td><td>NA    </td><td>NA    </td><td>NA    </td><td>NA    </td></tr>\n",
       "\t<tr><th scope=row>10291</th><td>20010P</td><td>2     </td><td>2     </td><td>2     </td><td>2     </td><td>NA    </td><td>59.9  </td><td>66.1  </td><td>LFU   </td><td> 3    </td><td>0     </td><td> 0    </td><td>NA    </td><td>NA    </td><td>NA    </td><td>NA    </td></tr>\n",
       "\t<tr><th scope=row>10292</th><td>20433R</td><td>2     </td><td>2     </td><td>2     </td><td>6     </td><td>NA    </td><td>47.8  </td><td>52.6  </td><td>LFU   </td><td> 6    </td><td>1     </td><td> 1    </td><td>NA    </td><td>NA    </td><td>NA    </td><td>NA    </td></tr>\n",
       "\t<tr><th scope=row>10293</th><td>20572F</td><td>2     </td><td>2     </td><td>2     </td><td>7     </td><td>NA    </td><td>50.5  </td><td>  NA  </td><td>      </td><td>NA    </td><td>2     </td><td>NA    </td><td>NA    </td><td>NA    </td><td>NA    </td><td>NA    </td></tr>\n",
       "\t<tr><th scope=row>10295</th><td>24586K</td><td>1     </td><td>2     </td><td>2     </td><td>5     </td><td>NA    </td><td>53.5  </td><td>60.2  </td><td>      </td><td>NA    </td><td>1     </td><td>NA    </td><td>NA    </td><td>NA    </td><td>NA    </td><td>NA    </td></tr>\n",
       "\t<tr><th scope=row>10296</th><td>25522P</td><td>1     </td><td>2     </td><td>2     </td><td>9     </td><td>NA    </td><td>45.2  </td><td>  NA  </td><td>      </td><td>NA    </td><td>2     </td><td>NA    </td><td>NA    </td><td>NA    </td><td>NA    </td><td>NA    </td></tr>\n",
       "\t<tr><th scope=row>10299</th><td>25576M</td><td>1     </td><td>2     </td><td>2     </td><td>2     </td><td>NA    </td><td>50.6  </td><td>55.3  </td><td>      </td><td>NA    </td><td>0     </td><td>NA    </td><td>NA    </td><td>NA    </td><td>NA    </td><td>NA    </td></tr>\n",
       "\t<tr><th scope=row>10300</th><td>25929T</td><td>2     </td><td>2     </td><td>2     </td><td>8     </td><td>NA    </td><td>45.3  </td><td>  NA  </td><td>      </td><td>NA    </td><td>2     </td><td>NA    </td><td>NA    </td><td>NA    </td><td>NA    </td><td>NA    </td></tr>\n",
       "</tbody>\n",
       "</table>\n"
      ],
      "text/latex": [
       "\\begin{tabular}{r|llllllllllllllll}\n",
       "  & sid & gender & race & ethnic & fagerstrom\\_index & finalgold & age\\_p1 & age\\_p2 & have\\_lfu & fagerstrom\\_index\\_lfu & CurFTND\\_cat\\_p1 & WstFTND\\_cat\\_p2 & Gold\\_Cat & Goldneg1 & Gold1or2 & Gold3or4\\\\\n",
       "\\hline\n",
       "\t6866 & 10279B & 1      & 1      & 2      & 2      & NA     & 68.2   &   NA   &        & NA     & 0      & NA     & NA     &  0     &  0     &  0    \\\\\n",
       "\t6867 & 10818F & 1      & 1      & 2      & 3      & NA     & 63.2   &   NA   &        & NA     & 0      & NA     & NA     &  0     &  0     &  0    \\\\\n",
       "\t6869 & 11125F & 1      & 1      & 2      & 4      & NA     & 55.9   & 61.0   & LFU    &  5     & 1      &  1     & NA     &  0     &  0     &  0    \\\\\n",
       "\t6870 & 11182R & 1      & 1      & 2      & 7      & NA     & 64.5   & 72.7   & LFU    &  6     & 2      &  1     & NA     &  0     &  0     &  0    \\\\\n",
       "\t6871 & 11832E & 2      & 1      & 2      & 7      & NA     & 60.4   &   NA   &        & NA     & 2      & NA     & NA     &  0     &  0     &  0    \\\\\n",
       "\t6876 & 15765J & 1      & 1      & 2      & 5      & NA     & 53.7   & 59.9   & LFU    &  1     & 1      &  0     & NA     &  0     &  0     &  0    \\\\\n",
       "\t6877 & 17778C & 2      & 1      & 2      & 5      & NA     & 62.8   & 68.0   & LFU    &  2     & 1      &  0     & NA     &  0     &  0     &  0    \\\\\n",
       "\t6878 & 18595Z & 2      & 1      & 2      & 4      & NA     & 47.5   &   NA   &        & NA     & 1      & NA     & NA     &  0     &  0     &  0    \\\\\n",
       "\t6879 & 18916T & 2      & 1      & 2      & 8      & NA     & 64.3   &   NA   &        & NA     & 2      & NA     & NA     &  0     &  0     &  0    \\\\\n",
       "\t6880 & 19004H & 1      & 1      & 2      & 6      & NA     & 66.0   & 71.0   & LFU    &  4     & 1      &  1     & NA     &  0     &  0     &  0    \\\\\n",
       "\t6881 & 21613Y & 1      & 1      & 2      & 3      & NA     & 47.1   & 52.7   & LFU    &  8     & 0      &  2     & NA     &  0     &  0     &  0    \\\\\n",
       "\t6882 & 22271B & 1      & 1      & 2      & 6      & NA     & 53.8   &   NA   &        & NA     & 1      & NA     & NA     &  0     &  0     &  0    \\\\\n",
       "\t6883 & 24152D & 1      & 1      & 2      & 5      & NA     & 56.0   &   NA   &        & NA     & 1      & NA     & NA     &  0     &  0     &  0    \\\\\n",
       "\t10258 & 10321A & 1      & 2      & 2      & 7      & NA     & 57.5   & 63.4   &        & NA     & 2      & NA     & NA     & NA     & NA     & NA    \\\\\n",
       "\t10259 & 11122Z & 1      & 2      & 2      & 6      & NA     & 49.1   &   NA   &        & NA     & 1      & NA     & NA     & NA     & NA     & NA    \\\\\n",
       "\t10260 & 11180N & 1      & 2      & 2      & 6      & NA     & 48.6   & 54.0   &        & NA     & 1      & NA     & NA     & NA     & NA     & NA    \\\\\n",
       "\t10261 & 11272S & 1      & 2      & 2      & 6      & NA     & 55.0   &   NA   &        & NA     & 1      & NA     & NA     & NA     & NA     & NA    \\\\\n",
       "\t10262 & 11576M & 2      & 2      & 2      & 3      & NA     & 47.4   & 52.7   &        & NA     & 0      & NA     & NA     & NA     & NA     & NA    \\\\\n",
       "\t10263 & 12228U & 2      & 2      & 2      & 7      & NA     & 54.5   &   NA   &        & NA     & 2      & NA     & NA     & NA     & NA     & NA    \\\\\n",
       "\t10264 & 12670J & 2      & 2      & 2      & 5      & NA     & 52.0   &   NA   &        & NA     & 1      & NA     & NA     & NA     & NA     & NA    \\\\\n",
       "\t10265 & 12838V & 1      & 2      & 2      & 5      & NA     & 52.9   &   NA   &        & NA     & 1      & NA     & NA     & NA     & NA     & NA    \\\\\n",
       "\t10266 & 13274G & 2      & 2      & 2      & 8      & NA     & 61.1   & 67.2   & LFU    &  6     & 2      &  1     & NA     & NA     & NA     & NA    \\\\\n",
       "\t10267 & 14465S & 1      & 2      & 2      & 4      & NA     & 57.3   & 65.0   & LFU    &  3     & 1      &  0     & NA     & NA     & NA     & NA    \\\\\n",
       "\t10268 & 14509M & 2      & 2      & 2      & 6      & NA     & 50.2   & 55.3   & LFU    &  2     & 1      &  0     & NA     & NA     & NA     & NA    \\\\\n",
       "\t10270 & 14782E & 1      & 2      & 2      & 3      & NA     & 53.8   &   NA   &        & NA     & 0      & NA     & NA     & NA     & NA     & NA    \\\\\n",
       "\t10271 & 14959R & 1      & 2      & 2      & 5      & NA     & 56.3   &   NA   &        & NA     & 1      & NA     & NA     & NA     & NA     & NA    \\\\\n",
       "\t10274 & 15416K & 1      & 2      & 2      & 5      & NA     & 47.6   & 53.5   &        & NA     & 1      & NA     & NA     & NA     & NA     & NA    \\\\\n",
       "\t10275 & 15498M & 1      & 2      & 2      & 8      & NA     & 54.1   &   NA   &        & NA     & 2      & NA     & NA     & NA     & NA     & NA    \\\\\n",
       "\t10276 & 15791K & 1      & 2      & 2      & 5      & NA     & 53.4   &   NA   &        & NA     & 1      & NA     & NA     & NA     & NA     & NA    \\\\\n",
       "\t10277 & 15828H & 1      & 2      & 2      & 7      & NA     & 54.1   &   NA   &        & NA     & 2      & NA     & NA     & NA     & NA     & NA    \\\\\n",
       "\t10278 & 16376D & 1      & 2      & 2      & 7      & NA     & 48.5   &   NA   &        & NA     & 2      & NA     & NA     & NA     & NA     & NA    \\\\\n",
       "\t10279 & 16690J & 1      & 2      & 2      & 9      & NA     & 59.0   &   NA   &        & NA     & 2      & NA     & NA     & NA     & NA     & NA    \\\\\n",
       "\t10280 & 16970P & 1      & 2      & 2      & 0      & NA     & 46.5   & 54.2   &        & NA     & 0      & NA     & NA     & NA     & NA     & NA    \\\\\n",
       "\t10281 & 17394K & 1      & 2      & 2      & 7      & NA     & 59.7   &   NA   &        & NA     & 2      & NA     & NA     & NA     & NA     & NA    \\\\\n",
       "\t10282 & 17447F & 1      & 2      & 2      & 4      & NA     & 46.9   & 52.9   &        & NA     & 1      & NA     & NA     & NA     & NA     & NA    \\\\\n",
       "\t10284 & 17650C & 2      & 2      & 2      & 9      & NA     & 48.9   & 53.5   &        & NA     & 2      & NA     & NA     & NA     & NA     & NA    \\\\\n",
       "\t10285 & 18113H & 1      & 2      & 2      & 2      & NA     & 53.8   &   NA   &        & NA     & 0      & NA     & NA     & NA     & NA     & NA    \\\\\n",
       "\t10287 & 18546M & 2      & 2      & 2      & 8      & NA     & 62.5   &   NA   &        & NA     & 2      & NA     & NA     & NA     & NA     & NA    \\\\\n",
       "\t10288 & 18930N & 1      & 2      & 2      & 7      & NA     & 61.3   & 66.4   & LFU    &  3     & 2      &  0     & NA     & NA     & NA     & NA    \\\\\n",
       "\t10290 & 19964J & 2      & 2      & 2      & 3      & NA     & 52.4   &   NA   & LFU    &  6     & 0      &  1     & NA     & NA     & NA     & NA    \\\\\n",
       "\t10291 & 20010P & 2      & 2      & 2      & 2      & NA     & 59.9   & 66.1   & LFU    &  3     & 0      &  0     & NA     & NA     & NA     & NA    \\\\\n",
       "\t10292 & 20433R & 2      & 2      & 2      & 6      & NA     & 47.8   & 52.6   & LFU    &  6     & 1      &  1     & NA     & NA     & NA     & NA    \\\\\n",
       "\t10293 & 20572F & 2      & 2      & 2      & 7      & NA     & 50.5   &   NA   &        & NA     & 2      & NA     & NA     & NA     & NA     & NA    \\\\\n",
       "\t10295 & 24586K & 1      & 2      & 2      & 5      & NA     & 53.5   & 60.2   &        & NA     & 1      & NA     & NA     & NA     & NA     & NA    \\\\\n",
       "\t10296 & 25522P & 1      & 2      & 2      & 9      & NA     & 45.2   &   NA   &        & NA     & 2      & NA     & NA     & NA     & NA     & NA    \\\\\n",
       "\t10299 & 25576M & 1      & 2      & 2      & 2      & NA     & 50.6   & 55.3   &        & NA     & 0      & NA     & NA     & NA     & NA     & NA    \\\\\n",
       "\t10300 & 25929T & 2      & 2      & 2      & 8      & NA     & 45.3   &   NA   &        & NA     & 2      & NA     & NA     & NA     & NA     & NA    \\\\\n",
       "\\end{tabular}\n"
      ],
      "text/markdown": [
       "\n",
       "| <!--/--> | sid | gender | race | ethnic | fagerstrom_index | finalgold | age_p1 | age_p2 | have_lfu | fagerstrom_index_lfu | CurFTND_cat_p1 | WstFTND_cat_p2 | Gold_Cat | Goldneg1 | Gold1or2 | Gold3or4 | \n",
       "|---|---|---|---|---|---|---|---|---|---|---|---|---|---|---|---|---|---|---|---|---|---|---|---|---|---|---|---|---|---|---|---|---|---|---|---|---|---|---|---|---|---|---|---|---|---|---|\n",
       "| 6866 | 10279B | 1      | 1      | 2      | 2      | NA     | 68.2   |   NA   |        | NA     | 0      | NA     | NA     |  0     |  0     |  0     | \n",
       "| 6867 | 10818F | 1      | 1      | 2      | 3      | NA     | 63.2   |   NA   |        | NA     | 0      | NA     | NA     |  0     |  0     |  0     | \n",
       "| 6869 | 11125F | 1      | 1      | 2      | 4      | NA     | 55.9   | 61.0   | LFU    |  5     | 1      |  1     | NA     |  0     |  0     |  0     | \n",
       "| 6870 | 11182R | 1      | 1      | 2      | 7      | NA     | 64.5   | 72.7   | LFU    |  6     | 2      |  1     | NA     |  0     |  0     |  0     | \n",
       "| 6871 | 11832E | 2      | 1      | 2      | 7      | NA     | 60.4   |   NA   |        | NA     | 2      | NA     | NA     |  0     |  0     |  0     | \n",
       "| 6876 | 15765J | 1      | 1      | 2      | 5      | NA     | 53.7   | 59.9   | LFU    |  1     | 1      |  0     | NA     |  0     |  0     |  0     | \n",
       "| 6877 | 17778C | 2      | 1      | 2      | 5      | NA     | 62.8   | 68.0   | LFU    |  2     | 1      |  0     | NA     |  0     |  0     |  0     | \n",
       "| 6878 | 18595Z | 2      | 1      | 2      | 4      | NA     | 47.5   |   NA   |        | NA     | 1      | NA     | NA     |  0     |  0     |  0     | \n",
       "| 6879 | 18916T | 2      | 1      | 2      | 8      | NA     | 64.3   |   NA   |        | NA     | 2      | NA     | NA     |  0     |  0     |  0     | \n",
       "| 6880 | 19004H | 1      | 1      | 2      | 6      | NA     | 66.0   | 71.0   | LFU    |  4     | 1      |  1     | NA     |  0     |  0     |  0     | \n",
       "| 6881 | 21613Y | 1      | 1      | 2      | 3      | NA     | 47.1   | 52.7   | LFU    |  8     | 0      |  2     | NA     |  0     |  0     |  0     | \n",
       "| 6882 | 22271B | 1      | 1      | 2      | 6      | NA     | 53.8   |   NA   |        | NA     | 1      | NA     | NA     |  0     |  0     |  0     | \n",
       "| 6883 | 24152D | 1      | 1      | 2      | 5      | NA     | 56.0   |   NA   |        | NA     | 1      | NA     | NA     |  0     |  0     |  0     | \n",
       "| 10258 | 10321A | 1      | 2      | 2      | 7      | NA     | 57.5   | 63.4   |        | NA     | 2      | NA     | NA     | NA     | NA     | NA     | \n",
       "| 10259 | 11122Z | 1      | 2      | 2      | 6      | NA     | 49.1   |   NA   |        | NA     | 1      | NA     | NA     | NA     | NA     | NA     | \n",
       "| 10260 | 11180N | 1      | 2      | 2      | 6      | NA     | 48.6   | 54.0   |        | NA     | 1      | NA     | NA     | NA     | NA     | NA     | \n",
       "| 10261 | 11272S | 1      | 2      | 2      | 6      | NA     | 55.0   |   NA   |        | NA     | 1      | NA     | NA     | NA     | NA     | NA     | \n",
       "| 10262 | 11576M | 2      | 2      | 2      | 3      | NA     | 47.4   | 52.7   |        | NA     | 0      | NA     | NA     | NA     | NA     | NA     | \n",
       "| 10263 | 12228U | 2      | 2      | 2      | 7      | NA     | 54.5   |   NA   |        | NA     | 2      | NA     | NA     | NA     | NA     | NA     | \n",
       "| 10264 | 12670J | 2      | 2      | 2      | 5      | NA     | 52.0   |   NA   |        | NA     | 1      | NA     | NA     | NA     | NA     | NA     | \n",
       "| 10265 | 12838V | 1      | 2      | 2      | 5      | NA     | 52.9   |   NA   |        | NA     | 1      | NA     | NA     | NA     | NA     | NA     | \n",
       "| 10266 | 13274G | 2      | 2      | 2      | 8      | NA     | 61.1   | 67.2   | LFU    |  6     | 2      |  1     | NA     | NA     | NA     | NA     | \n",
       "| 10267 | 14465S | 1      | 2      | 2      | 4      | NA     | 57.3   | 65.0   | LFU    |  3     | 1      |  0     | NA     | NA     | NA     | NA     | \n",
       "| 10268 | 14509M | 2      | 2      | 2      | 6      | NA     | 50.2   | 55.3   | LFU    |  2     | 1      |  0     | NA     | NA     | NA     | NA     | \n",
       "| 10270 | 14782E | 1      | 2      | 2      | 3      | NA     | 53.8   |   NA   |        | NA     | 0      | NA     | NA     | NA     | NA     | NA     | \n",
       "| 10271 | 14959R | 1      | 2      | 2      | 5      | NA     | 56.3   |   NA   |        | NA     | 1      | NA     | NA     | NA     | NA     | NA     | \n",
       "| 10274 | 15416K | 1      | 2      | 2      | 5      | NA     | 47.6   | 53.5   |        | NA     | 1      | NA     | NA     | NA     | NA     | NA     | \n",
       "| 10275 | 15498M | 1      | 2      | 2      | 8      | NA     | 54.1   |   NA   |        | NA     | 2      | NA     | NA     | NA     | NA     | NA     | \n",
       "| 10276 | 15791K | 1      | 2      | 2      | 5      | NA     | 53.4   |   NA   |        | NA     | 1      | NA     | NA     | NA     | NA     | NA     | \n",
       "| 10277 | 15828H | 1      | 2      | 2      | 7      | NA     | 54.1   |   NA   |        | NA     | 2      | NA     | NA     | NA     | NA     | NA     | \n",
       "| 10278 | 16376D | 1      | 2      | 2      | 7      | NA     | 48.5   |   NA   |        | NA     | 2      | NA     | NA     | NA     | NA     | NA     | \n",
       "| 10279 | 16690J | 1      | 2      | 2      | 9      | NA     | 59.0   |   NA   |        | NA     | 2      | NA     | NA     | NA     | NA     | NA     | \n",
       "| 10280 | 16970P | 1      | 2      | 2      | 0      | NA     | 46.5   | 54.2   |        | NA     | 0      | NA     | NA     | NA     | NA     | NA     | \n",
       "| 10281 | 17394K | 1      | 2      | 2      | 7      | NA     | 59.7   |   NA   |        | NA     | 2      | NA     | NA     | NA     | NA     | NA     | \n",
       "| 10282 | 17447F | 1      | 2      | 2      | 4      | NA     | 46.9   | 52.9   |        | NA     | 1      | NA     | NA     | NA     | NA     | NA     | \n",
       "| 10284 | 17650C | 2      | 2      | 2      | 9      | NA     | 48.9   | 53.5   |        | NA     | 2      | NA     | NA     | NA     | NA     | NA     | \n",
       "| 10285 | 18113H | 1      | 2      | 2      | 2      | NA     | 53.8   |   NA   |        | NA     | 0      | NA     | NA     | NA     | NA     | NA     | \n",
       "| 10287 | 18546M | 2      | 2      | 2      | 8      | NA     | 62.5   |   NA   |        | NA     | 2      | NA     | NA     | NA     | NA     | NA     | \n",
       "| 10288 | 18930N | 1      | 2      | 2      | 7      | NA     | 61.3   | 66.4   | LFU    |  3     | 2      |  0     | NA     | NA     | NA     | NA     | \n",
       "| 10290 | 19964J | 2      | 2      | 2      | 3      | NA     | 52.4   |   NA   | LFU    |  6     | 0      |  1     | NA     | NA     | NA     | NA     | \n",
       "| 10291 | 20010P | 2      | 2      | 2      | 2      | NA     | 59.9   | 66.1   | LFU    |  3     | 0      |  0     | NA     | NA     | NA     | NA     | \n",
       "| 10292 | 20433R | 2      | 2      | 2      | 6      | NA     | 47.8   | 52.6   | LFU    |  6     | 1      |  1     | NA     | NA     | NA     | NA     | \n",
       "| 10293 | 20572F | 2      | 2      | 2      | 7      | NA     | 50.5   |   NA   |        | NA     | 2      | NA     | NA     | NA     | NA     | NA     | \n",
       "| 10295 | 24586K | 1      | 2      | 2      | 5      | NA     | 53.5   | 60.2   |        | NA     | 1      | NA     | NA     | NA     | NA     | NA     | \n",
       "| 10296 | 25522P | 1      | 2      | 2      | 9      | NA     | 45.2   |   NA   |        | NA     | 2      | NA     | NA     | NA     | NA     | NA     | \n",
       "| 10299 | 25576M | 1      | 2      | 2      | 2      | NA     | 50.6   | 55.3   |        | NA     | 0      | NA     | NA     | NA     | NA     | NA     | \n",
       "| 10300 | 25929T | 2      | 2      | 2      | 8      | NA     | 45.3   |   NA   |        | NA     | 2      | NA     | NA     | NA     | NA     | NA     | \n",
       "\n",
       "\n"
      ],
      "text/plain": [
       "      sid    gender race ethnic fagerstrom_index finalgold age_p1 age_p2\n",
       "6866  10279B 1      1    2      2                NA        68.2     NA  \n",
       "6867  10818F 1      1    2      3                NA        63.2     NA  \n",
       "6869  11125F 1      1    2      4                NA        55.9   61.0  \n",
       "6870  11182R 1      1    2      7                NA        64.5   72.7  \n",
       "6871  11832E 2      1    2      7                NA        60.4     NA  \n",
       "6876  15765J 1      1    2      5                NA        53.7   59.9  \n",
       "6877  17778C 2      1    2      5                NA        62.8   68.0  \n",
       "6878  18595Z 2      1    2      4                NA        47.5     NA  \n",
       "6879  18916T 2      1    2      8                NA        64.3     NA  \n",
       "6880  19004H 1      1    2      6                NA        66.0   71.0  \n",
       "6881  21613Y 1      1    2      3                NA        47.1   52.7  \n",
       "6882  22271B 1      1    2      6                NA        53.8     NA  \n",
       "6883  24152D 1      1    2      5                NA        56.0     NA  \n",
       "10258 10321A 1      2    2      7                NA        57.5   63.4  \n",
       "10259 11122Z 1      2    2      6                NA        49.1     NA  \n",
       "10260 11180N 1      2    2      6                NA        48.6   54.0  \n",
       "10261 11272S 1      2    2      6                NA        55.0     NA  \n",
       "10262 11576M 2      2    2      3                NA        47.4   52.7  \n",
       "10263 12228U 2      2    2      7                NA        54.5     NA  \n",
       "10264 12670J 2      2    2      5                NA        52.0     NA  \n",
       "10265 12838V 1      2    2      5                NA        52.9     NA  \n",
       "10266 13274G 2      2    2      8                NA        61.1   67.2  \n",
       "10267 14465S 1      2    2      4                NA        57.3   65.0  \n",
       "10268 14509M 2      2    2      6                NA        50.2   55.3  \n",
       "10270 14782E 1      2    2      3                NA        53.8     NA  \n",
       "10271 14959R 1      2    2      5                NA        56.3     NA  \n",
       "10274 15416K 1      2    2      5                NA        47.6   53.5  \n",
       "10275 15498M 1      2    2      8                NA        54.1     NA  \n",
       "10276 15791K 1      2    2      5                NA        53.4     NA  \n",
       "10277 15828H 1      2    2      7                NA        54.1     NA  \n",
       "10278 16376D 1      2    2      7                NA        48.5     NA  \n",
       "10279 16690J 1      2    2      9                NA        59.0     NA  \n",
       "10280 16970P 1      2    2      0                NA        46.5   54.2  \n",
       "10281 17394K 1      2    2      7                NA        59.7     NA  \n",
       "10282 17447F 1      2    2      4                NA        46.9   52.9  \n",
       "10284 17650C 2      2    2      9                NA        48.9   53.5  \n",
       "10285 18113H 1      2    2      2                NA        53.8     NA  \n",
       "10287 18546M 2      2    2      8                NA        62.5     NA  \n",
       "10288 18930N 1      2    2      7                NA        61.3   66.4  \n",
       "10290 19964J 2      2    2      3                NA        52.4     NA  \n",
       "10291 20010P 2      2    2      2                NA        59.9   66.1  \n",
       "10292 20433R 2      2    2      6                NA        47.8   52.6  \n",
       "10293 20572F 2      2    2      7                NA        50.5     NA  \n",
       "10295 24586K 1      2    2      5                NA        53.5   60.2  \n",
       "10296 25522P 1      2    2      9                NA        45.2     NA  \n",
       "10299 25576M 1      2    2      2                NA        50.6   55.3  \n",
       "10300 25929T 2      2    2      8                NA        45.3     NA  \n",
       "      have_lfu fagerstrom_index_lfu CurFTND_cat_p1 WstFTND_cat_p2 Gold_Cat\n",
       "6866           NA                   0              NA             NA      \n",
       "6867           NA                   0              NA             NA      \n",
       "6869  LFU       5                   1               1             NA      \n",
       "6870  LFU       6                   2               1             NA      \n",
       "6871           NA                   2              NA             NA      \n",
       "6876  LFU       1                   1               0             NA      \n",
       "6877  LFU       2                   1               0             NA      \n",
       "6878           NA                   1              NA             NA      \n",
       "6879           NA                   2              NA             NA      \n",
       "6880  LFU       4                   1               1             NA      \n",
       "6881  LFU       8                   0               2             NA      \n",
       "6882           NA                   1              NA             NA      \n",
       "6883           NA                   1              NA             NA      \n",
       "10258          NA                   2              NA             NA      \n",
       "10259          NA                   1              NA             NA      \n",
       "10260          NA                   1              NA             NA      \n",
       "10261          NA                   1              NA             NA      \n",
       "10262          NA                   0              NA             NA      \n",
       "10263          NA                   2              NA             NA      \n",
       "10264          NA                   1              NA             NA      \n",
       "10265          NA                   1              NA             NA      \n",
       "10266 LFU       6                   2               1             NA      \n",
       "10267 LFU       3                   1               0             NA      \n",
       "10268 LFU       2                   1               0             NA      \n",
       "10270          NA                   0              NA             NA      \n",
       "10271          NA                   1              NA             NA      \n",
       "10274          NA                   1              NA             NA      \n",
       "10275          NA                   2              NA             NA      \n",
       "10276          NA                   1              NA             NA      \n",
       "10277          NA                   2              NA             NA      \n",
       "10278          NA                   2              NA             NA      \n",
       "10279          NA                   2              NA             NA      \n",
       "10280          NA                   0              NA             NA      \n",
       "10281          NA                   2              NA             NA      \n",
       "10282          NA                   1              NA             NA      \n",
       "10284          NA                   2              NA             NA      \n",
       "10285          NA                   0              NA             NA      \n",
       "10287          NA                   2              NA             NA      \n",
       "10288 LFU       3                   2               0             NA      \n",
       "10290 LFU       6                   0               1             NA      \n",
       "10291 LFU       3                   0               0             NA      \n",
       "10292 LFU       6                   1               1             NA      \n",
       "10293          NA                   2              NA             NA      \n",
       "10295          NA                   1              NA             NA      \n",
       "10296          NA                   2              NA             NA      \n",
       "10299          NA                   0              NA             NA      \n",
       "10300          NA                   2              NA             NA      \n",
       "      Goldneg1 Gold1or2 Gold3or4\n",
       "6866   0        0        0      \n",
       "6867   0        0        0      \n",
       "6869   0        0        0      \n",
       "6870   0        0        0      \n",
       "6871   0        0        0      \n",
       "6876   0        0        0      \n",
       "6877   0        0        0      \n",
       "6878   0        0        0      \n",
       "6879   0        0        0      \n",
       "6880   0        0        0      \n",
       "6881   0        0        0      \n",
       "6882   0        0        0      \n",
       "6883   0        0        0      \n",
       "10258 NA       NA       NA      \n",
       "10259 NA       NA       NA      \n",
       "10260 NA       NA       NA      \n",
       "10261 NA       NA       NA      \n",
       "10262 NA       NA       NA      \n",
       "10263 NA       NA       NA      \n",
       "10264 NA       NA       NA      \n",
       "10265 NA       NA       NA      \n",
       "10266 NA       NA       NA      \n",
       "10267 NA       NA       NA      \n",
       "10268 NA       NA       NA      \n",
       "10270 NA       NA       NA      \n",
       "10271 NA       NA       NA      \n",
       "10274 NA       NA       NA      \n",
       "10275 NA       NA       NA      \n",
       "10276 NA       NA       NA      \n",
       "10277 NA       NA       NA      \n",
       "10278 NA       NA       NA      \n",
       "10279 NA       NA       NA      \n",
       "10280 NA       NA       NA      \n",
       "10281 NA       NA       NA      \n",
       "10282 NA       NA       NA      \n",
       "10284 NA       NA       NA      \n",
       "10285 NA       NA       NA      \n",
       "10287 NA       NA       NA      \n",
       "10288 NA       NA       NA      \n",
       "10290 NA       NA       NA      \n",
       "10291 NA       NA       NA      \n",
       "10292 NA       NA       NA      \n",
       "10293 NA       NA       NA      \n",
       "10295 NA       NA       NA      \n",
       "10296 NA       NA       NA      \n",
       "10299 NA       NA       NA      \n",
       "10300 NA       NA       NA      "
      ]
     },
     "metadata": {},
     "output_type": "display_data"
    },
    {
     "name": "stdout",
     "output_type": "stream",
     "text": [
      "[1] \"Number of subjects remaining after filtering by missing finalgold data.\"\n"
     ]
    },
    {
     "data": {
      "text/html": [
       "5242"
      ],
      "text/latex": [
       "5242"
      ],
      "text/markdown": [
       "5242"
      ],
      "text/plain": [
       "[1] 5242"
      ]
     },
     "metadata": {},
     "output_type": "display_data"
    }
   ],
   "source": [
    "# some subjects with reported GOLD status are missing in the finalgold variable\n",
    "gold.data <- cur.ftnd.filtered$finalgold[]\n",
    "print(\"These are the sequential indices in the cur.ftnd.filtered at which they occur.\")\n",
    "which(is.na(gold.data))\n",
    "print(\"Number of subjects missing finalgold.\")\n",
    "length(which(is.na(gold.data)))\n",
    "\n",
    "print(\"Here are the data of those subjects with missing finalgold.\")\n",
    "cur.ftnd.filtered[which(is.na(gold.data)),]\n",
    "\n",
    "# exclude those subjects with missing finalgold\n",
    "cur.ftnd.fg.filtered <- cur.ftnd.filtered[-which(is.na(gold.data)),]\n",
    "\n",
    "print(\"Number of subjects remaining after filtering by missing finalgold data.\")\n",
    "length(cur.ftnd.fg.filtered[,1])"
   ]
  },
  {
   "cell_type": "markdown",
   "metadata": {},
   "source": [
    "#### Missing Sex filter\n",
    "Remove any subjects missing sex data."
   ]
  },
  {
   "cell_type": "code",
   "execution_count": 13,
   "metadata": {},
   "outputs": [
    {
     "name": "stdout",
     "output_type": "stream",
     "text": [
      "[1] \"Number of COPDGene2 subjects after FTND, finalgold, and sex filtering.\"\n"
     ]
    },
    {
     "data": {
      "text/html": [
       "5242"
      ],
      "text/latex": [
       "5242"
      ],
      "text/markdown": [
       "5242"
      ],
      "text/plain": [
       "[1] 5242"
      ]
     },
     "metadata": {},
     "output_type": "display_data"
    }
   ],
   "source": [
    "# filtered out any subjects missing sex data\n",
    "cur.ftnd.fg.sex.filtered <- cur.ftnd.fg.filtered[complete.cases(cur.ftnd.fg.filtered[, \"gender\"]),]\n",
    "\n",
    "print(\"Number of COPDGene1 subjects after FTND, finalgold, and sex filtering.\")\n",
    "length(cur.ftnd.fg.sex.filtered[,1])"
   ]
  },
  {
   "cell_type": "markdown",
   "metadata": {},
   "source": [
    "**Note:** no subjects missing sex data. "
   ]
  },
  {
   "cell_type": "markdown",
   "metadata": {},
   "source": [
    "#### Missing Age filter\n",
    "Remove any subjects missing age data. \n",
    "\n",
    "#### age_p1\n",
    "Filter by variable `age_p1` then write to file."
   ]
  },
  {
   "cell_type": "code",
   "execution_count": 18,
   "metadata": {},
   "outputs": [
    {
     "name": "stdout",
     "output_type": "stream",
     "text": [
      "[1] \"Number of COPDGene1 subjects after FTND, finalgold, sex, and age (p1) filtering.\"\n"
     ]
    },
    {
     "data": {
      "text/html": [
       "5242"
      ],
      "text/latex": [
       "5242"
      ],
      "text/markdown": [
       "5242"
      ],
      "text/plain": [
       "[1] 5242"
      ]
     },
     "metadata": {},
     "output_type": "display_data"
    },
    {
     "name": "stdout",
     "output_type": "stream",
     "text": [
      "[1] \"Head of filtered data (age_p1).\"\n"
     ]
    },
    {
     "data": {
      "text/html": [
       "<table>\n",
       "<thead><tr><th></th><th scope=col>sid</th><th scope=col>gender</th><th scope=col>race</th><th scope=col>age_p1</th><th scope=col>CurFTND_cat_p1</th><th scope=col>Goldneg1</th><th scope=col>Gold1or2</th><th scope=col>Gold3or4</th></tr></thead>\n",
       "<tbody>\n",
       "\t<tr><th scope=row>101</th><td>10008W</td><td>1     </td><td>1     </td><td>55.1  </td><td>0     </td><td>1     </td><td>0     </td><td>0     </td></tr>\n",
       "\t<tr><th scope=row>104</th><td>10248Q</td><td>1     </td><td>1     </td><td>66.9  </td><td>2     </td><td>1     </td><td>0     </td><td>0     </td></tr>\n",
       "\t<tr><th scope=row>109</th><td>10521I</td><td>2     </td><td>1     </td><td>53.3  </td><td>1     </td><td>1     </td><td>0     </td><td>0     </td></tr>\n",
       "\t<tr><th scope=row>113</th><td>10604M</td><td>2     </td><td>1     </td><td>64.9  </td><td>1     </td><td>1     </td><td>0     </td><td>0     </td></tr>\n",
       "\t<tr><th scope=row>116</th><td>10705S</td><td>2     </td><td>1     </td><td>70.6  </td><td>0     </td><td>1     </td><td>0     </td><td>0     </td></tr>\n",
       "\t<tr><th scope=row>119</th><td>10918J</td><td>2     </td><td>1     </td><td>54.0  </td><td>1     </td><td>1     </td><td>0     </td><td>0     </td></tr>\n",
       "</tbody>\n",
       "</table>\n"
      ],
      "text/latex": [
       "\\begin{tabular}{r|llllllll}\n",
       "  & sid & gender & race & age\\_p1 & CurFTND\\_cat\\_p1 & Goldneg1 & Gold1or2 & Gold3or4\\\\\n",
       "\\hline\n",
       "\t101 & 10008W & 1      & 1      & 55.1   & 0      & 1      & 0      & 0     \\\\\n",
       "\t104 & 10248Q & 1      & 1      & 66.9   & 2      & 1      & 0      & 0     \\\\\n",
       "\t109 & 10521I & 2      & 1      & 53.3   & 1      & 1      & 0      & 0     \\\\\n",
       "\t113 & 10604M & 2      & 1      & 64.9   & 1      & 1      & 0      & 0     \\\\\n",
       "\t116 & 10705S & 2      & 1      & 70.6   & 0      & 1      & 0      & 0     \\\\\n",
       "\t119 & 10918J & 2      & 1      & 54.0   & 1      & 1      & 0      & 0     \\\\\n",
       "\\end{tabular}\n"
      ],
      "text/markdown": [
       "\n",
       "| <!--/--> | sid | gender | race | age_p1 | CurFTND_cat_p1 | Goldneg1 | Gold1or2 | Gold3or4 | \n",
       "|---|---|---|---|---|---|\n",
       "| 101 | 10008W | 1      | 1      | 55.1   | 0      | 1      | 0      | 0      | \n",
       "| 104 | 10248Q | 1      | 1      | 66.9   | 2      | 1      | 0      | 0      | \n",
       "| 109 | 10521I | 2      | 1      | 53.3   | 1      | 1      | 0      | 0      | \n",
       "| 113 | 10604M | 2      | 1      | 64.9   | 1      | 1      | 0      | 0      | \n",
       "| 116 | 10705S | 2      | 1      | 70.6   | 0      | 1      | 0      | 0      | \n",
       "| 119 | 10918J | 2      | 1      | 54.0   | 1      | 1      | 0      | 0      | \n",
       "\n",
       "\n"
      ],
      "text/plain": [
       "    sid    gender race age_p1 CurFTND_cat_p1 Goldneg1 Gold1or2 Gold3or4\n",
       "101 10008W 1      1    55.1   0              1        0        0       \n",
       "104 10248Q 1      1    66.9   2              1        0        0       \n",
       "109 10521I 2      1    53.3   1              1        0        0       \n",
       "113 10604M 2      1    64.9   1              1        0        0       \n",
       "116 10705S 2      1    70.6   0              1        0        0       \n",
       "119 10918J 2      1    54.0   1              1        0        0       "
      ]
     },
     "metadata": {},
     "output_type": "display_data"
    }
   ],
   "source": [
    "cur.ftnd.fg.sex.age1.filtered <- cur.ftnd.fg.sex.filtered[complete.cases(cur.ftnd.fg.sex.filtered[,\"age_p1\"]),]\n",
    "\n",
    "print(\"Number of COPDGene1 subjects after FTND, finalgold, sex, and age (p1) filtering.\")\n",
    "length(cur.ftnd.fg.sex.age1.filtered[,1])\n",
    "\n",
    "variables.of.interest1 <- c(\"sid\", \"gender\", \"race\", \"age_p1\", \"CurFTND_cat_p1\", \"Goldneg1\", \"Gold1or2\", \"Gold3or4\")\n",
    "pheno1 <- cur.ftnd.fg.sex.age1.filtered[,variables.of.interest1]\n",
    "\n",
    "print(\"Head of filtered data (age_p1).\")\n",
    "head(pheno1)\n",
    "\n",
    "setwd(\"C:/Users/jmarks/Desktop/Projects/Nicotine/COPDGene/pheno/one\")\n",
    "write.table(pheno1, \"phenotype.ftnd.fg.sex.age1.filtered.txt\", sep = \" \", row.names = F, quote = F)"
   ]
  },
  {
   "cell_type": "markdown",
   "metadata": {},
   "source": [
    "##### age_p2\n",
    "\n",
    "Filter by variable `age_p2` then write to file."
   ]
  },
  {
   "cell_type": "code",
   "execution_count": 19,
   "metadata": {},
   "outputs": [
    {
     "name": "stdout",
     "output_type": "stream",
     "text": [
      "[1] \"Number of COPDGene1 subjects after FTND, finalgold, sex, and age (p2) filtering.\"\n"
     ]
    },
    {
     "data": {
      "text/html": [
       "2889"
      ],
      "text/latex": [
       "2889"
      ],
      "text/markdown": [
       "2889"
      ],
      "text/plain": [
       "[1] 2889"
      ]
     },
     "metadata": {},
     "output_type": "display_data"
    },
    {
     "name": "stdout",
     "output_type": "stream",
     "text": [
      "[1] \"Head of filtered data (age_p2).\"\n"
     ]
    },
    {
     "data": {
      "text/html": [
       "<table>\n",
       "<thead><tr><th></th><th scope=col>sid</th><th scope=col>gender</th><th scope=col>race</th><th scope=col>age_p2</th><th scope=col>CurFTND_cat_p1</th><th scope=col>Goldneg1</th><th scope=col>Gold1or2</th><th scope=col>Gold3or4</th></tr></thead>\n",
       "<tbody>\n",
       "\t<tr><th scope=row>113</th><td>10604M</td><td>2     </td><td>1     </td><td>70.5  </td><td>1     </td><td>1     </td><td>0     </td><td>0     </td></tr>\n",
       "\t<tr><th scope=row>116</th><td>10705S</td><td>2     </td><td>1     </td><td>76.4  </td><td>0     </td><td>1     </td><td>0     </td><td>0     </td></tr>\n",
       "\t<tr><th scope=row>120</th><td>10935J</td><td>1     </td><td>1     </td><td>55.1  </td><td>1     </td><td>1     </td><td>0     </td><td>0     </td></tr>\n",
       "\t<tr><th scope=row>123</th><td>11020R</td><td>2     </td><td>1     </td><td>54.5  </td><td>1     </td><td>1     </td><td>0     </td><td>0     </td></tr>\n",
       "\t<tr><th scope=row>127</th><td>11081L</td><td>2     </td><td>1     </td><td>59.1  </td><td>1     </td><td>1     </td><td>0     </td><td>0     </td></tr>\n",
       "\t<tr><th scope=row>132</th><td>11159W</td><td>1     </td><td>1     </td><td>66.2  </td><td>1     </td><td>1     </td><td>0     </td><td>0     </td></tr>\n",
       "</tbody>\n",
       "</table>\n"
      ],
      "text/latex": [
       "\\begin{tabular}{r|llllllll}\n",
       "  & sid & gender & race & age\\_p2 & CurFTND\\_cat\\_p1 & Goldneg1 & Gold1or2 & Gold3or4\\\\\n",
       "\\hline\n",
       "\t113 & 10604M & 2      & 1      & 70.5   & 1      & 1      & 0      & 0     \\\\\n",
       "\t116 & 10705S & 2      & 1      & 76.4   & 0      & 1      & 0      & 0     \\\\\n",
       "\t120 & 10935J & 1      & 1      & 55.1   & 1      & 1      & 0      & 0     \\\\\n",
       "\t123 & 11020R & 2      & 1      & 54.5   & 1      & 1      & 0      & 0     \\\\\n",
       "\t127 & 11081L & 2      & 1      & 59.1   & 1      & 1      & 0      & 0     \\\\\n",
       "\t132 & 11159W & 1      & 1      & 66.2   & 1      & 1      & 0      & 0     \\\\\n",
       "\\end{tabular}\n"
      ],
      "text/markdown": [
       "\n",
       "| <!--/--> | sid | gender | race | age_p2 | CurFTND_cat_p1 | Goldneg1 | Gold1or2 | Gold3or4 | \n",
       "|---|---|---|---|---|---|\n",
       "| 113 | 10604M | 2      | 1      | 70.5   | 1      | 1      | 0      | 0      | \n",
       "| 116 | 10705S | 2      | 1      | 76.4   | 0      | 1      | 0      | 0      | \n",
       "| 120 | 10935J | 1      | 1      | 55.1   | 1      | 1      | 0      | 0      | \n",
       "| 123 | 11020R | 2      | 1      | 54.5   | 1      | 1      | 0      | 0      | \n",
       "| 127 | 11081L | 2      | 1      | 59.1   | 1      | 1      | 0      | 0      | \n",
       "| 132 | 11159W | 1      | 1      | 66.2   | 1      | 1      | 0      | 0      | \n",
       "\n",
       "\n"
      ],
      "text/plain": [
       "    sid    gender race age_p2 CurFTND_cat_p1 Goldneg1 Gold1or2 Gold3or4\n",
       "113 10604M 2      1    70.5   1              1        0        0       \n",
       "116 10705S 2      1    76.4   0              1        0        0       \n",
       "120 10935J 1      1    55.1   1              1        0        0       \n",
       "123 11020R 2      1    54.5   1              1        0        0       \n",
       "127 11081L 2      1    59.1   1              1        0        0       \n",
       "132 11159W 1      1    66.2   1              1        0        0       "
      ]
     },
     "metadata": {},
     "output_type": "display_data"
    }
   ],
   "source": [
    "cur.ftnd.fg.sex.age2.filtered <- cur.ftnd.fg.sex.filtered[complete.cases(cur.ftnd.fg.sex.filtered[,\"age_p2\"]),]\n",
    "\n",
    "print(\"Number of COPDGene1 subjects after FTND, finalgold, sex, and age (p2) filtering.\")\n",
    "length(cur.ftnd.fg.sex.age2.filtered[,1])\n",
    "\n",
    "variables.of.interest2 <- c(\"sid\", \"gender\", \"race\", \"age_p2\", \"CurFTND_cat_p1\", \"Goldneg1\", \"Gold1or2\", \"Gold3or4\")\n",
    "pheno2 <- cur.ftnd.fg.sex.age2.filtered[,variables.of.interest2]\n",
    "\n",
    "print(\"Head of filtered data (age_p2).\")\n",
    "head(pheno2)\n",
    "\n",
    "setwd(\"C:/Users/jmarks/Desktop/Projects/Nicotine/COPDGene/pheno/one\")\n",
    "write.table(pheno2, \"phenotype.ftnd.fg.sex.age2.filtered.txt\", sep = \" \", row.names = F, quote = F)"
   ]
  },
  {
   "cell_type": "markdown",
   "metadata": {},
   "source": [
    "#### Genotype filter\n",
    "Construct subject-filtered PLINK file sets by filterine out subjects missing genotype data."
   ]
  },
  {
   "cell_type": "code",
   "execution_count": null,
   "metadata": {},
   "outputs": [],
   "source": [
    "## local machine ##\n",
    "cd /cygdrive/c/Users/jmarks/Desktop/Projects/Nicotine/COPDGene/pheno/one\n",
    "\n",
    "# create directory structure on MIDAS\n",
    "mkdir -p jmarks@rtplhpc01.rti.ns:/share/nas03/jmarks/studies/copdgene1/{eigenstrat,data/{assoc_tests,genotype/{observed,imputed},phenotype}}\n",
    "\n",
    "# copy phenotype data over to MIDAS\n",
    "scp phenotype.ftnd.fg.sex.age1.filtered.txt jmarks@rtplhpc01.rti.ns:/share/nas03/jmarks/studies/copdgene1/data/phenotype/\n",
    "scp phenotype.ftnd.fg.sex.age2.filtered.txt jmarks@rtplhpc01.rti.ns:/share/nas03/jmarks/studies/copdgene1/data/phenotype/"
   ]
  },
  {
   "cell_type": "code",
   "execution_count": null,
   "metadata": {},
   "outputs": [],
   "source": [
    "## MIDAS console ##\n",
    "\n",
    "cd /share/nas03/jmarks/studies/copdgene1/data/\n",
    "\n",
    "cp /share/nas03/bioinformatics_group/data/studies/copdgene/observed/final_filtered/gxg_qc/copdgene.{aa,ea}.{fam,bim,bed} \\\n",
    "    genotype/observed\n",
    "\n",
    "# create a new PLINK fam file based on subjects with phenotype and genotype data\n",
    "## age_p1 filter\n",
    "### EA\n",
    "awk 'FNR==NR {a[$1]; next} ($2 in a)' phenotype/phenotype.ftnd.fg.sex.age1.filtered.txt \\\n",
    "    genotype/observed/copdgene.ea.fam > phenotype/ea.phenotype1.all.filters.txt\n",
    "     \n",
    "### AA\n",
    "awk 'FNR==NR {a[$1]; next} ($2 in a)' phenotype/phenotype.ftnd.fg.sex.age1.filtered.txt \\\n",
    "    genotype/observed/copdgene.aa.fam > phenotype/aa.phenotype1.all.filters.fam\n",
    "     \n",
    "\n",
    "## age_p2 filter\n",
    "### EA\n",
    "awk 'FNR==NR {a[$1]; next} ($2 in a)' phenotype/phenotype.ftnd.fg.sex.age2.filtered.txt\\\n",
    "    genotype/observed/copdgene.ea.fam > phenotype/ea.phenotype2.all.filters.txt\n",
    "     \n",
    "### AA\n",
    "awk 'FNR==NR {a[$1]; next} ($2 in a)' phenotype/phenotype.ftnd.fg.sex.age2.filtered.txt \\\n",
    "    genotype/observed/copdgene.aa.fam > phenotype/aa.phenotype2.all.filters.fam\n",
    "     \n",
    "\n",
    "wc -l phenotype/{ea,aa}.phenotype1.all.filters.fam\n",
    "\"\"\"  \n",
    "2549 phenotype/ea.phenotype1.all.filters.txt\n",
    "  2534 phenotype/aa.phenotype1.all.filters.txt\n",
    "  5083 total\n",
    "\"\"\"\n",
    "\n",
    "wc -l phenotype/{ea,aa}.phenotype2.all.filters.txt\n",
    "\"\"\" \n",
    "1466 phenotype/ea.phenotype2.all.filters.txt\n",
    " 1343 phenotype/aa.phenotype2.all.filters.txt\n",
    " 2809 total\n",
    "\"\"\"\n"
   ]
  },
  {
   "cell_type": "markdown",
   "metadata": {},
   "source": [
    "## PCA (EIGENSTRAT)\n",
    "\n",
    "To obtain principal component covariates to use in the GWAS statistical model, EIGENSTRAT is run on LD-pruned observed genotypes for each ancestry group. \n",
    "\n",
    "### Construct subject-filtered PLINK file sets"
   ]
  },
  {
   "cell_type": "code",
   "execution_count": null,
   "metadata": {},
   "outputs": [],
   "source": [
    "## MIDAS ##\n",
    "cd /share/nas03/jmarks/studies/copdgene/one/data/phenotypes/processing\n",
    "\n",
    "# EA\n",
    "awk ' NR>=2 { print $1 }' ea.phenotype.age1.txt > ea.id_list1.txt\n",
    "awk ' NR>=2 { print $1 }' ea.phenotype.age2.txt > ea.id_list2.txt\n",
    "\n",
    "awk 'FNR==NR{a[$0];next} ($2 in a)' ea.id_list1.txt ../../observed/processing/copdgene.ea.fam > ea.filtered1.fam\n",
    "awk 'FNR==NR{a[$0];next} ($2 in a)' ea.id_list2.txt ../../observed/processing/copdgene.ea.fam > ea.filtered2.fam\n",
    "\n",
    "# AA\n",
    "awk ' NR>=2 { print $1 }' aa.phenotype.age1.txt > aa.id_list1.txt\n",
    "awk ' NR>=2 { print $1 }' aa.phenotype.age2.txt > aa.id_list2.txt\n",
    "\n",
    "awk 'FNR==NR{a[$0];next} ($2 in a)' aa.id_list1.txt ../../observed/processing/copdgene.aa.fam > aa.filtered1.fam\n",
    "awk 'FNR==NR{a[$0];next} ($2 in a)' aa.id_list2.txt ../../observed/processing/copdgene.aa.fam > aa.filtered2.fam\n",
    "\n",
    "\n",
    "#awk '{print $1,$2 }' filtered.fam > ea_subject_ids.keep\n",
    "#\n",
    "## Remove subjects by phenotype criteria\n",
    "#ancestry=\"ea\"\n",
    "#/shared/bioinformatics/software/third_party/plink-1.90-beta-4.10-x86_64/plink \\\n",
    "#    --noweb \\\n",
    "#    --memory 2048 \\\n",
    "#    --bfile ../../genotype/original/ea_chr_all \\\n",
    "#    --keep ea_subject_ids.keep \\\n",
    "#    --make-bed \\\n",
    "#    --out /shared/s3/emerge/eigenstrat_no_sex/${ancestry}_pheno_filter"
   ]
  }
 ],
 "metadata": {
  "kernelspec": {
   "display_name": "R",
   "language": "R",
   "name": "ir"
  },
  "language_info": {
   "codemirror_mode": "r",
   "file_extension": ".r",
   "mimetype": "text/x-r-source",
   "name": "R",
   "pygments_lexer": "r",
   "version": "3.4.3"
  },
  "toc": {
   "nav_menu": {},
   "number_sections": true,
   "sideBar": true,
   "skip_h1_title": false,
   "toc_cell": false,
   "toc_position": {
    "height": "808px",
    "left": "0px",
    "right": "1468px",
    "top": "111px",
    "width": "212px"
   },
   "toc_section_display": "block",
   "toc_window_display": true
  }
 },
 "nbformat": 4,
 "nbformat_minor": 2
}
