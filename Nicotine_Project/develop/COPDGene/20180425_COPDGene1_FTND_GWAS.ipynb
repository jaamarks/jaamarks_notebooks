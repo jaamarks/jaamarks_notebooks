{
 "cells": [
  {
   "cell_type": "markdown",
   "metadata": {},
   "source": [
    "# COPDGene1 Fagerstrom Test For Nicotine Dependence (FTND) GWAS\n",
    "__Author:__ Jesse Marks\n",
    "\n",
    "See [GitHub Issue #78](emerge_ea.1000G.CAT_FTND~SNP+SEX+EVs.maf_gt_0.01_rsq_gt_0.30_ea.snps+indels.manhattan.png.gz)\n",
    "\n",
    "This document logs the steps taken to process:\n",
    "\n",
    "* `Genetic Epidemiology of COPD (COPDGene) Funded by the National Heart, Lung, and Blood Institute` data and perform the FTND GWAS. The [COPDGene](https://www.ncbi.nlm.nih.gov/projects/gap/cgi-bin/study.cgi?study_id=phs000179.v1.p1) cohort is racially diverse and sufficiently large and appropriately designed for genome-wide association analysis of COPD. \n",
    "\n",
    "* There are 10k subjects including control smokers, definitie COPD cases (GOLD Stage 2 to 4) and subjects not included in either group (GOLD 1 or GOLD-Unclassified). \n",
    "\n",
    "* The focus of this study is genome-wide association analysis to identify the genetic risk factors that determine susceptibility for COPD and COPD-related phenotypes.\n",
    "\n",
    "* Our phenotype of interest is FTND\n",
    "\n",
    "FTND is a standard instrument for assessing the physical addiction to nicotine. For more information, see [this website](https://cde.drugabuse.gov/instrument/d7c0b0f5-b865-e4de-e040-bb89ad43202b).\n",
    "\n",
    "The imputed genotype are stored on Amazon Web Services S3 at:\n",
    "\n",
    "`s3://rti-nd/COPDGene`\n",
    "\n",
    "* We use the variable `FTNDboth_cat` variable that lumps together the former smokers that have lifetime FTND (N=736) with the current smokers that have current FTND (N=78). This will optimize sample size, especially since the severe category is slim.\n",
    "\n",
    "* **Note**: I will first perform the GWAS with only the autosomes \n",
    "\n",
    "* John Guo would like me to try this with the nextFlow pipeline"
   ]
  },
  {
   "cell_type": "markdown",
   "metadata": {},
   "source": [
    "# What we know\n",
    "* we have 1000 Genomes phase 3 imputation already available on the full COPDGene dataset\n",
    "* double-check that there are no duplicate individuals between our existing COPDGene1 GWAS (current smokers only) and this new COPDGene2 dataset (mostly former smokers, but some current smokers embedded). If there is duplication, drop them from COPDGene2.\n",
    "* we will run COPDGene1 and COPDGene2 separately because FTND was collected several years apart and there were some key differences in the way that the questions were asked in the different waves. We will keep the two waves separate to circumvent any potential discrepancies which could arrise because of the phenotypes being less than harmonious and then we will combine them in a meta-analysis later. \n",
    "* There will be ~2900 with FTND data collected in wave 2 but NOT in wave 1 - these are the ones to be inclused in the new COPDGene2 GWAS (N=2610 EAs and 290 AAs).\n",
    "\n",
    "* I will run the GWAS analysis with the following variables:\n",
    "\n",
    "**COPDGene1** (all data from phase 1 original dataset)\n",
    "\n",
    "*cat_FTND_phase1*\n",
    "\n",
    "*age_enroll*\n",
    "\n",
    "*gender*\n",
    "\n",
    "*finalGOLD dummy variables*\n",
    "\n",
    " \n",
    "\n",
    "**COPDGene2** (all data from phase 2 LFU dataset, except for gender and finalGOLD which was collected only in phase 1)\n",
    "\n",
    "*cat_FTND_phase2*\n",
    "\n",
    "*age_LFU*\n",
    "\n",
    "*gender*\n",
    "\n",
    "*finalGOLD* (dummy variables)\n",
    "\n",
    "\n",
    "* Once the phenotype data are ready, I need to first run chr15 and send Dana the results so she can compare them with our previously generated results for known SNPs\n",
    "\n",
    "* What is the finalGOLD dummy variable?\n",
    "\n",
    "* Phenotypes will be all in one file with both sets of variables\n",
    "\n",
    "Now that we have -1 to include, I proposed 3 dummy variables with\n",
    "\n",
    "GOLD 0 (reference)\n",
    "\n",
    "GOLD -1 (dummy variable 1)\n",
    "\n",
    "GOLD 1 and 2 (dummy variable 2)\n",
    "\n",
    "GOLD 3 and 4 (dummy variable 3)\n",
    "\n",
    "* FTND outcome and covariates are now ready at the path:\n",
    "    \n",
    "    `\\\\rcdcollaboration01.rti.ns\\GxG\\Analysis\\COPDGene\\phenotypes\\Phase2\\COPD Both waves with Cat FTND_v2.xls`\n",
    "\n",
    "* GOLD stands for the Global Initiative for Chronic Obstructive Lung Disease. Essentially, GOLD it is a metric for quantifying the severity of COPD a patient has.\n",
    "\n",
    "\n",
    "* need to separate by race (1=White and 2=Black or African American)\n",
    "\n",
    "\n",
    "\n",
    "* For COPDGene1, we are increasing the sample size by several hundred. This is because, the previous analysis of COPDGene1 included only the subjects with determinant COPD GOLD status (finalGold=0 for controls, 1/2 for cases, and 3/4 for severe cases.) Now we know that subjects with an indeterminant status (i.e. finalGold=-1) were subjects that were classified to be between case and control. With this newfound knowledge, we can go ahead and include these subjects and rerun COPDGene1 with these subjects plus the subjects that were in the previous analysis. The model will be:\n",
    "\n",
    "`CurFTND_cat_p1 = SNP + age_p1 + gender + Goldneg1 +Gold1or2 + Gold3or4 + EVs to be selected`\n",
    "    * Also note that in this phase1, the subjects were all current smokers. (max N=5289)\n",
    "\n",
    "* For phase2, COPDGene2, we need to exclude all of the subjects which were included in COPDGene1. This will leave *mostly* former smokers with lifetime FTND reported (max N=2934). There will be some current smokers picked up in phase2 and we will include them here.\n",
    "\n",
    "`WstFTND_cat_p2 = SNP + age_p1 + gender + Goldneg1 +Gold1or2 + Gold3or4 + EVs to be selected`\n",
    "\n"
   ]
  },
  {
   "cell_type": "markdown",
   "metadata": {},
   "source": [
    "## The first thing on my plate is to run COPDGene1 for only chromosome 15 \n",
    "This is so that we can compare the results with previously generated COPDGene1 results before going genome-wide. I will check chr15 for COPDGene2 first as well.\n",
    "* first thing I am going to do is run the phase2 COPDGene1. I need to filter out the subjects from the phenotype file that match the criteria specified. The criteria for COPDGene1 are:\n",
    "\n",
    "```1) CurFTND_cat_p1 (current smokers)\n",
    "2) age_p1 (age at current visit)\n",
    "3) gender (1=male, 2=female)\n",
    "4) Goldneg1 (between case and control - exhibits signs of both. Failed one diagnostic test while passing another.)\n",
    "5) Gold1or2 (cases)\n",
    "6) Gold3or4 (severe cases)```\n",
    "\n",
    "**Also, I need to split the data up by race** (1=white, 2=black) \n",
    "\n",
    "**Note** We cannot assume that the increments in the GOLD classification are equal which is why we need to embed dummy variables rather than a single categorical variable in our regression models.\n",
    "\n",
    "COPDGene2 will be like the above described setup except that the phenotype of interest is\n",
    "*WstFTND_cat_p2*. I should verify with Dana that we are using age_p1 for this analysis as well. Also, am I using chromosome 23? Note that I did not use chr23 for the eMERGE analyis. "
   ]
  },
  {
   "cell_type": "markdown",
   "metadata": {
    "collapsed": true
   },
   "source": [
    "# Phenotype  Data\n",
    "## Count the max number of subjects in COPDGene1&2"
   ]
  },
  {
   "cell_type": "code",
   "execution_count": 31,
   "metadata": {},
   "outputs": [
    {
     "name": "stdout",
     "output_type": "stream",
     "text": [
      "[1] \"Max number of subjects for COPDGene1\"\n"
     ]
    },
    {
     "data": {
      "text/html": [
       "5289"
      ],
      "text/latex": [
       "5289"
      ],
      "text/markdown": [
       "5289"
      ],
      "text/plain": [
       "[1] 5289"
      ]
     },
     "metadata": {},
     "output_type": "display_data"
    },
    {
     "name": "stdout",
     "output_type": "stream",
     "text": [
      "[1] \"Max number of subjects for COPDGene2\"\n"
     ]
    },
    {
     "data": {
      "text/html": [
       "2934"
      ],
      "text/latex": [
       "2934"
      ],
      "text/markdown": [
       "2934"
      ],
      "text/plain": [
       "[1] 2934"
      ]
     },
     "metadata": {},
     "output_type": "display_data"
    }
   ],
   "source": [
    "# Calculate number of subjects with CurFTND data\n",
    "cur_vec <-  which(pheno.data$CurFTND_cat_p1 >= 0)\n",
    "print(\"Max number of subjects for COPDGene1\")\n",
    "length(cur_vec)\n",
    "\n",
    "# Calculate the number of subjects in WstFTND that are not in Cur\n",
    "wst_vec <- length(which(pheno.data$WstFTND_cat_p2[cur_vec] >= 0))\n",
    "print(\"Max number of subjects for COPDGene2\")\n",
    "length(which(pheno.data$WstFTND_cat_p2 >= 0)) - wst_vec"
   ]
  },
  {
   "cell_type": "code",
   "execution_count": 32,
   "metadata": {},
   "outputs": [
    {
     "data": {
      "text/html": [
       "<table>\n",
       "<thead><tr><th scope=col>sid</th><th scope=col>gender</th><th scope=col>race</th><th scope=col>ethnic</th><th scope=col>fagerstrom_index</th><th scope=col>finalgold</th><th scope=col>age_p1</th><th scope=col>age_p2</th><th scope=col>have_lfu</th><th scope=col>fagerstrom_index_lfu</th><th scope=col>CurFTND_cat_p1</th><th scope=col>WstFTND_cat_p2</th><th scope=col>Gold_Cat</th><th scope=col>Goldneg1</th><th scope=col>Gold1or2</th><th scope=col>Gold3or4</th></tr></thead>\n",
       "<tbody>\n",
       "\t<tr><td>15814W</td><td>2     </td><td>1     </td><td>2     </td><td>NA    </td><td>-2    </td><td>NA    </td><td>NA    </td><td>      </td><td>NA    </td><td>NA    </td><td>NA    </td><td>NA    </td><td>NA    </td><td>NA    </td><td>NA    </td></tr>\n",
       "\t<tr><td>16032X</td><td>1     </td><td>1     </td><td>2     </td><td>NA    </td><td>-2    </td><td>NA    </td><td>NA    </td><td>      </td><td>NA    </td><td>NA    </td><td>NA    </td><td>NA    </td><td>NA    </td><td>NA    </td><td>NA    </td></tr>\n",
       "\t<tr><td>16126G</td><td>2     </td><td>1     </td><td>2     </td><td>NA    </td><td>-2    </td><td>NA    </td><td>NA    </td><td>      </td><td>NA    </td><td>NA    </td><td>NA    </td><td>NA    </td><td>NA    </td><td>NA    </td><td>NA    </td></tr>\n",
       "\t<tr><td>16281S</td><td>2     </td><td>1     </td><td>2     </td><td>NA    </td><td>-2    </td><td>NA    </td><td>NA    </td><td>      </td><td>NA    </td><td>NA    </td><td>NA    </td><td>NA    </td><td>NA    </td><td>NA    </td><td>NA    </td></tr>\n",
       "\t<tr><td>16303C</td><td>1     </td><td>1     </td><td>2     </td><td>NA    </td><td>-2    </td><td>NA    </td><td>NA    </td><td>      </td><td>NA    </td><td>NA    </td><td>NA    </td><td>NA    </td><td>NA    </td><td>NA    </td><td>NA    </td></tr>\n",
       "\t<tr><td>16311B</td><td>2     </td><td>1     </td><td>2     </td><td>NA    </td><td>-2    </td><td>NA    </td><td>NA    </td><td>      </td><td>NA    </td><td>NA    </td><td>NA    </td><td>NA    </td><td>NA    </td><td>NA    </td><td>NA    </td></tr>\n",
       "</tbody>\n",
       "</table>\n"
      ],
      "text/latex": [
       "\\begin{tabular}{r|llllllllllllllll}\n",
       " sid & gender & race & ethnic & fagerstrom\\_index & finalgold & age\\_p1 & age\\_p2 & have\\_lfu & fagerstrom\\_index\\_lfu & CurFTND\\_cat\\_p1 & WstFTND\\_cat\\_p2 & Gold\\_Cat & Goldneg1 & Gold1or2 & Gold3or4\\\\\n",
       "\\hline\n",
       "\t 15814W & 2      & 1      & 2      & NA     & -2     & NA     & NA     &        & NA     & NA     & NA     & NA     & NA     & NA     & NA    \\\\\n",
       "\t 16032X & 1      & 1      & 2      & NA     & -2     & NA     & NA     &        & NA     & NA     & NA     & NA     & NA     & NA     & NA    \\\\\n",
       "\t 16126G & 2      & 1      & 2      & NA     & -2     & NA     & NA     &        & NA     & NA     & NA     & NA     & NA     & NA     & NA    \\\\\n",
       "\t 16281S & 2      & 1      & 2      & NA     & -2     & NA     & NA     &        & NA     & NA     & NA     & NA     & NA     & NA     & NA    \\\\\n",
       "\t 16303C & 1      & 1      & 2      & NA     & -2     & NA     & NA     &        & NA     & NA     & NA     & NA     & NA     & NA     & NA    \\\\\n",
       "\t 16311B & 2      & 1      & 2      & NA     & -2     & NA     & NA     &        & NA     & NA     & NA     & NA     & NA     & NA     & NA    \\\\\n",
       "\\end{tabular}\n"
      ],
      "text/markdown": [
       "\n",
       "sid | gender | race | ethnic | fagerstrom_index | finalgold | age_p1 | age_p2 | have_lfu | fagerstrom_index_lfu | CurFTND_cat_p1 | WstFTND_cat_p2 | Gold_Cat | Goldneg1 | Gold1or2 | Gold3or4 | \n",
       "|---|---|---|---|---|---|\n",
       "| 15814W | 2      | 1      | 2      | NA     | -2     | NA     | NA     |        | NA     | NA     | NA     | NA     | NA     | NA     | NA     | \n",
       "| 16032X | 1      | 1      | 2      | NA     | -2     | NA     | NA     |        | NA     | NA     | NA     | NA     | NA     | NA     | NA     | \n",
       "| 16126G | 2      | 1      | 2      | NA     | -2     | NA     | NA     |        | NA     | NA     | NA     | NA     | NA     | NA     | NA     | \n",
       "| 16281S | 2      | 1      | 2      | NA     | -2     | NA     | NA     |        | NA     | NA     | NA     | NA     | NA     | NA     | NA     | \n",
       "| 16303C | 1      | 1      | 2      | NA     | -2     | NA     | NA     |        | NA     | NA     | NA     | NA     | NA     | NA     | NA     | \n",
       "| 16311B | 2      | 1      | 2      | NA     | -2     | NA     | NA     |        | NA     | NA     | NA     | NA     | NA     | NA     | NA     | \n",
       "\n",
       "\n"
      ],
      "text/plain": [
       "  sid    gender race ethnic fagerstrom_index finalgold age_p1 age_p2 have_lfu\n",
       "1 15814W 2      1    2      NA               -2        NA     NA             \n",
       "2 16032X 1      1    2      NA               -2        NA     NA             \n",
       "3 16126G 2      1    2      NA               -2        NA     NA             \n",
       "4 16281S 2      1    2      NA               -2        NA     NA             \n",
       "5 16303C 1      1    2      NA               -2        NA     NA             \n",
       "6 16311B 2      1    2      NA               -2        NA     NA             \n",
       "  fagerstrom_index_lfu CurFTND_cat_p1 WstFTND_cat_p2 Gold_Cat Goldneg1 Gold1or2\n",
       "1 NA                   NA             NA             NA       NA       NA      \n",
       "2 NA                   NA             NA             NA       NA       NA      \n",
       "3 NA                   NA             NA             NA       NA       NA      \n",
       "4 NA                   NA             NA             NA       NA       NA      \n",
       "5 NA                   NA             NA             NA       NA       NA      \n",
       "6 NA                   NA             NA             NA       NA       NA      \n",
       "  Gold3or4\n",
       "1 NA      \n",
       "2 NA      \n",
       "3 NA      \n",
       "4 NA      \n",
       "5 NA      \n",
       "6 NA      "
      ]
     },
     "metadata": {},
     "output_type": "display_data"
    }
   ],
   "source": [
    "pheno.data <- read.table(\"C:/Users/jmarks/Desktop/Projects/Nicotine/COPDGene/pheno/Copy of COPD Both waves with Cat FTND_v2.csv\",\n",
    "                        sep=\",\", header=T)\n",
    "head(pheno.data)"
   ]
  },
  {
   "cell_type": "code",
   "execution_count": 42,
   "metadata": {},
   "outputs": [
    {
     "name": "stdout",
     "output_type": "stream",
     "text": [
      "[1] \"Max number of subjects for COPDGene1\"\n"
     ]
    },
    {
     "data": {
      "text/html": [
       "5289"
      ],
      "text/latex": [
       "5289"
      ],
      "text/markdown": [
       "5289"
      ],
      "text/plain": [
       "[1] 5289"
      ]
     },
     "metadata": {},
     "output_type": "display_data"
    },
    {
     "name": "stdout",
     "output_type": "stream",
     "text": [
      "[1] \"Max number of subjects for COPDGene2\"\n"
     ]
    },
    {
     "data": {
      "text/html": [
       "2934"
      ],
      "text/latex": [
       "2934"
      ],
      "text/markdown": [
       "2934"
      ],
      "text/plain": [
       "[1] 2934"
      ]
     },
     "metadata": {},
     "output_type": "display_data"
    }
   ],
   "source": [
    "# Calculate number of subjects with CurFTND data\n",
    "cur_vec <-  which(pheno.data$CurFTND_cat_p1 >= 0)\n",
    "print(\"Max number of subjects for COPDGene1\")\n",
    "length(cur_vec)\n",
    "\n",
    "# Calculate the number of subjects in WstFTND that are not in Cur\n",
    "wst_vec <- length(which(pheno.data$WstFTND_cat_p2[cur_vec] >= 0))\n",
    "print(\"Max number of subjects for COPDGene2\")\n",
    "length(which(pheno.data$WstFTND_cat_p2 >= 0)) - wst_vec"
   ]
  },
  {
   "cell_type": "code",
   "execution_count": 34,
   "metadata": {},
   "outputs": [
    {
     "data": {
      "text/plain": [
       "\n",
       "   0    1    2 \n",
       "1506 2353 1430 "
      ]
     },
     "metadata": {},
     "output_type": "display_data"
    }
   ],
   "source": [
    "table(pheno.data$CurFTND_cat_p1)"
   ]
  },
  {
   "cell_type": "markdown",
   "metadata": {},
   "source": [
    "### CurFTND_cat_p1 variable description\n",
    "| cat | Freq |\n",
    "|-----|------|\n",
    "| 0   | 1506 |   \n",
    "| 1   | 2353 |   \n",
    "| 2   | 1430 |   \n",
    "\n",
    "* Where FTND conversion is 0=0-3, 1=4-6, and 2=7+\n",
    "\n",
    "* So, 5289 is the maximum number of subjects that will be included in COPDGene1. We will have to filter this down based on if the subjects have `sex, age, GOLD status,` and `genotype data.`\n",
    "\n",
    "* Also, we need to separate these by race once all of these filteres have been applied"
   ]
  },
  {
   "cell_type": "markdown",
   "metadata": {
    "collapsed": true
   },
   "source": [
    "## Filter subjects missing any FTND, sex, or age data\n",
    "Then write to file."
   ]
  },
  {
   "cell_type": "code",
   "execution_count": 53,
   "metadata": {},
   "outputs": [
    {
     "name": "stdout",
     "output_type": "stream",
     "text": [
      "[1] \"Total number of subjects in phenotype pre-filtered data.\"\n"
     ]
    },
    {
     "data": {
      "text/html": [
       "10300"
      ],
      "text/latex": [
       "10300"
      ],
      "text/markdown": [
       "10300"
      ],
      "text/plain": [
       "[1] 10300"
      ]
     },
     "metadata": {},
     "output_type": "display_data"
    },
    {
     "name": "stdout",
     "output_type": "stream",
     "text": [
      "[1] \"Max number of subjects for COPDGene1\"\n"
     ]
    },
    {
     "data": {
      "text/html": [
       "5289"
      ],
      "text/latex": [
       "5289"
      ],
      "text/markdown": [
       "5289"
      ],
      "text/plain": [
       "[1] 5289"
      ]
     },
     "metadata": {},
     "output_type": "display_data"
    },
    {
     "name": "stdout",
     "output_type": "stream",
     "text": [
      "[1] \"Number of subjects after FTND and age filtering.\"\n"
     ]
    },
    {
     "data": {
      "text/html": [
       "5289"
      ],
      "text/latex": [
       "5289"
      ],
      "text/markdown": [
       "5289"
      ],
      "text/plain": [
       "[1] 5289"
      ]
     },
     "metadata": {},
     "output_type": "display_data"
    },
    {
     "name": "stdout",
     "output_type": "stream",
     "text": [
      "[1] \"Number of subjects after FTND, age, and sex filtering.\"\n"
     ]
    },
    {
     "data": {
      "text/html": [
       "5289"
      ],
      "text/latex": [
       "5289"
      ],
      "text/markdown": [
       "5289"
      ],
      "text/plain": [
       "[1] 5289"
      ]
     },
     "metadata": {},
     "output_type": "display_data"
    },
    {
     "data": {
      "text/html": [
       "<table>\n",
       "<thead><tr><th></th><th scope=col>sid</th><th scope=col>gender</th><th scope=col>race</th><th scope=col>age_p1</th><th scope=col>CurFTND_cat_p1</th><th scope=col>Goldneg1</th><th scope=col>Gold1or2</th><th scope=col>Gold3or4</th></tr></thead>\n",
       "<tbody>\n",
       "\t<tr><th scope=row>101</th><td>10008W</td><td>1     </td><td>1     </td><td>55.1  </td><td>0     </td><td>1     </td><td>0     </td><td>0     </td></tr>\n",
       "\t<tr><th scope=row>104</th><td>10248Q</td><td>1     </td><td>1     </td><td>66.9  </td><td>2     </td><td>1     </td><td>0     </td><td>0     </td></tr>\n",
       "\t<tr><th scope=row>109</th><td>10521I</td><td>2     </td><td>1     </td><td>53.3  </td><td>1     </td><td>1     </td><td>0     </td><td>0     </td></tr>\n",
       "\t<tr><th scope=row>113</th><td>10604M</td><td>2     </td><td>1     </td><td>64.9  </td><td>1     </td><td>1     </td><td>0     </td><td>0     </td></tr>\n",
       "\t<tr><th scope=row>116</th><td>10705S</td><td>2     </td><td>1     </td><td>70.6  </td><td>0     </td><td>1     </td><td>0     </td><td>0     </td></tr>\n",
       "\t<tr><th scope=row>119</th><td>10918J</td><td>2     </td><td>1     </td><td>54.0  </td><td>1     </td><td>1     </td><td>0     </td><td>0     </td></tr>\n",
       "</tbody>\n",
       "</table>\n"
      ],
      "text/latex": [
       "\\begin{tabular}{r|llllllll}\n",
       "  & sid & gender & race & age\\_p1 & CurFTND\\_cat\\_p1 & Goldneg1 & Gold1or2 & Gold3or4\\\\\n",
       "\\hline\n",
       "\t101 & 10008W & 1      & 1      & 55.1   & 0      & 1      & 0      & 0     \\\\\n",
       "\t104 & 10248Q & 1      & 1      & 66.9   & 2      & 1      & 0      & 0     \\\\\n",
       "\t109 & 10521I & 2      & 1      & 53.3   & 1      & 1      & 0      & 0     \\\\\n",
       "\t113 & 10604M & 2      & 1      & 64.9   & 1      & 1      & 0      & 0     \\\\\n",
       "\t116 & 10705S & 2      & 1      & 70.6   & 0      & 1      & 0      & 0     \\\\\n",
       "\t119 & 10918J & 2      & 1      & 54.0   & 1      & 1      & 0      & 0     \\\\\n",
       "\\end{tabular}\n"
      ],
      "text/markdown": [
       "\n",
       "| <!--/--> | sid | gender | race | age_p1 | CurFTND_cat_p1 | Goldneg1 | Gold1or2 | Gold3or4 | \n",
       "|---|---|---|---|---|---|\n",
       "| 101 | 10008W | 1      | 1      | 55.1   | 0      | 1      | 0      | 0      | \n",
       "| 104 | 10248Q | 1      | 1      | 66.9   | 2      | 1      | 0      | 0      | \n",
       "| 109 | 10521I | 2      | 1      | 53.3   | 1      | 1      | 0      | 0      | \n",
       "| 113 | 10604M | 2      | 1      | 64.9   | 1      | 1      | 0      | 0      | \n",
       "| 116 | 10705S | 2      | 1      | 70.6   | 0      | 1      | 0      | 0      | \n",
       "| 119 | 10918J | 2      | 1      | 54.0   | 1      | 1      | 0      | 0      | \n",
       "\n",
       "\n"
      ],
      "text/plain": [
       "    sid    gender race age_p1 CurFTND_cat_p1 Goldneg1 Gold1or2 Gold3or4\n",
       "101 10008W 1      1    55.1   0              1        0        0       \n",
       "104 10248Q 1      1    66.9   2              1        0        0       \n",
       "109 10521I 2      1    53.3   1              1        0        0       \n",
       "113 10604M 2      1    64.9   1              1        0        0       \n",
       "116 10705S 2      1    70.6   0              1        0        0       \n",
       "119 10918J 2      1    54.0   1              1        0        0       "
      ]
     },
     "metadata": {},
     "output_type": "display_data"
    }
   ],
   "source": [
    "## R concole ##\n",
    "setwd(\"C:/Users/jmarks/Desktop/Projects/Nicotine/COPDGene/pheno\")\n",
    "\n",
    "# Total subjects \n",
    "print(\"Total number of subjects in phenotype pre-filtered data.\")\n",
    "length(pheno.data[,1])\n",
    "\n",
    "# Calculate number of subjects with CurFTND data\n",
    "phenoFTND_filtered <- pheno.data[complete.cases(pheno.data[,\"CurFTND_cat_p1\"]),]\n",
    "print(\"Max number of subjects for COPDGene1\")\n",
    "length(phenoFTND_filtered[, \"CurFTND_cat_p1\"])\n",
    "\n",
    "\n",
    "# filter out any subject missing age data\n",
    "phenoFTND_age_filtered <- phenoFTND_filtered[complete.cases(phenoFTND_filtered[,\"age_p1\"]),]\n",
    "print(\"Number of subjects after FTND and age filtering.\")\n",
    "length(phenoFTND[, \"age_p1\"])\n",
    "\n",
    "# filtere out any subjects missing sex data\n",
    "phenoFTND_age_sex_filtered <- phenoFTND_age_filtered[complete.cases(phenoFTND_age_filtered[,\"gender\"]),]\n",
    "print(\"Number of subjects after FTND, age, and sex filtering.\")\n",
    "length(phenoFTND[, \"gender\"])\n",
    "\n",
    "# fiter data set to only variable of interst for COPDGene1\n",
    "variables_of_interest <- c(\"sid\", \"gender\", \"race\", \"age_p1\", \"CurFTND_cat_p1\", \"Goldneg1\", \"Gold1or2\", \"Gold3or4\")\n",
    "phenotype_final_data <- phenoFTND_age_sex_filtered[, variables_of_interest]\n",
    "head(phenotype_final_data)\n",
    "\n",
    "write.table(phenotype_final_data, \"one/COPDGene1_ftnd.txt\", sep = \" \", row.names = F, quote = F)"
   ]
  },
  {
   "cell_type": "markdown",
   "metadata": {},
   "source": [
    "## PCA (EIGENSTRAT)\n",
    "\n",
    "To obtain principal component covariates to use in the GWAS statistical model, EIGENSTRAT is run on LD-pruned observed genotypes for each ancestry group. \n",
    "\n",
    "### Construct subject-filtered PLINK file sets"
   ]
  },
  {
   "cell_type": "code",
   "execution_count": null,
   "metadata": {},
   "outputs": [],
   "source": [
    "## MIDAS ##\n",
    "\n",
    "# create directory structure\n",
    "mkdir -p /share/nas03/jmarks/studies/copdgene/one/{data,eigenstrat}\n",
    "cd /share/nas03/jmarks/studies/copdgene/one/data\n",
    "\n",
    "mkdir {observed,phenotypes,imputed}\n",
    "mkdir -p observed/{processing,final_filtered}\n",
    "mkdir phenotypes/{processing,probabel}\n",
    "\n",
    "# copy genotype data (autosomes only)\n",
    "cp /share/nas03/bioinformatics_group/data/studies/copdgene/observed/final_filtered/gxg_qc/copdgene.{aa,ea}.{fam,bim,bed} \\\n",
    "    observed/processing/"
   ]
  },
  {
   "cell_type": "code",
   "execution_count": null,
   "metadata": {},
   "outputs": [],
   "source": [
    "## local machine ##\n",
    "\n",
    "# copy phenotype data over to MIDAS\n",
    "cd /cygdrive/c/Users/jmarks/Desktop/Projects/Nicotine/COPDGene/pheno/one\n",
    "\n",
    "scp COPDGene1_ftnd.txt jmarks@rtplhpc01.rti.ns:/share/nas03/jmarks/studies/copdgene/one/data/phenotypes/processing"
   ]
  },
  {
   "cell_type": "code",
   "execution_count": null,
   "metadata": {},
   "outputs": [],
   "source": [
    "## MIDAS ##\n",
    "cd /share/nas03/jmarks/studies/copdgene/one/data/phenotypes/processing\n",
    "\n",
    "# generate ID list to filter data with\n",
    "awk ' NR>=2 { print $1 }' COPDGene1_ftnd.txt > id_list.txt\n",
    "\n",
    "awk 'FNR==NR{a[$0];next} ($2 in a)' id_list.txt ../../genotype/original/ea_chr_all.fam > filtered.fam\n",
    "\n",
    "awk '{print $1,$2 }' filtered.fam > ea_subject_ids.keep\n",
    "\n",
    "# Remove subjects by phenotype criteria\n",
    "ancestry=\"ea\"\n",
    "/shared/bioinformatics/software/third_party/plink-1.90-beta-4.10-x86_64/plink \\\n",
    "    --noweb \\\n",
    "    --memory 2048 \\\n",
    "    --bfile ../../genotype/original/ea_chr_all \\\n",
    "    --keep ea_subject_ids.keep \\\n",
    "    --make-bed \\\n",
    "    --out /shared/s3/emerge/eigenstrat_no_sex/${ancestry}_pheno_filter"
   ]
  }
 ],
 "metadata": {
  "kernelspec": {
   "display_name": "R",
   "language": "R",
   "name": "ir"
  },
  "language_info": {
   "codemirror_mode": "r",
   "file_extension": ".r",
   "mimetype": "text/x-r-source",
   "name": "R",
   "pygments_lexer": "r",
   "version": "3.4.3"
  },
  "toc": {
   "nav_menu": {},
   "number_sections": true,
   "sideBar": true,
   "skip_h1_title": false,
   "toc_cell": false,
   "toc_position": {
    "height": "808px",
    "left": "0px",
    "right": "1468px",
    "top": "111px",
    "width": "212px"
   },
   "toc_section_display": "block",
   "toc_window_display": true
  }
 },
 "nbformat": 4,
 "nbformat_minor": 2
}
