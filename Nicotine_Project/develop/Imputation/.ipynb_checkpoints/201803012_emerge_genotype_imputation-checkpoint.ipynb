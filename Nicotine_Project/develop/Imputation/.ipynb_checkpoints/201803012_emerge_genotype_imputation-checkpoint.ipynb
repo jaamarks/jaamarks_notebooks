{
 "cells": [
  {
   "cell_type": "markdown",
   "metadata": {},
   "source": [
    "# eMERGE Cohort for Nicotine Dependence: Phasing and Imputation\n",
    "__Author:__ Jesse Marks\n",
    "\n",
    "This document logs the steps taken to perform phasing and imputation on the [eMERGE Genome Wide Association Study of Cataract and Low HDL cholesterol](https://www.ncbi.nlm.nih.gov/projects/gap/cgi-bin/study.cgi?study_id=phs000170.v2.p1). The starting point for this analysis is after quality control of observed genotypes and after checking for compatibility of population control dbGaP data sets. The quality controlled genotypes are oriented on the GRCh37 plus strand. Based on findings from [Johnson et al.](https://link.springer.com/article/10.1007/s00439-013-1266-7), the intersection set of variants for will be used for imputation. \n",
    "\n",
    "__Note:__ The `Human660W-Quad_v1_A` chip was used to genotype these subjects.\n",
    "\n",
    "## Software and tools\n",
    "The software and tools used for porcessing these data are\n",
    "* [Michigan Imputation Server](https://imputationserver.sph.umich.edu/index.html) (MIS)\n",
    "* [Amazon Web Services (AWS) - Cloud Computing Services](https://aws.amazon.com/)\n",
    "    * Linux AMI\n",
    "* [PLINK v1.90 beta 4.10](https://www.cog-genomics.org/plink/)\n",
    "* [bgzip](http://www.htslib.org/doc/tabix.html)\n",
    "* [BCF Tools](http://www.htslib.org/doc/bcftools.html)\n",
    "* Windows 10 with [Cygwin](https://cygwin.com/) installed\n",
    "* GNU bash version 4.2.46\n",
    "\n",
    "## Data retrieval and organization\n",
    "The temporary working directory for this analysis will be: `/shared/sandbox/emerge/` <br>\n",
    "on `EC2`. PLINK binary filesets will be obtained from AWS S3 storage."
   ]
  },
  {
   "cell_type": "code",
   "execution_count": null,
   "metadata": {
    "collapsed": true
   },
   "outputs": [],
   "source": [
    "# EC2 command line #\n",
    "mkdir -p /shared/sandbox/emerge/phs000170_cataract\n",
    "cd /shared/sandbox/emerge/phs000170_cataract\n",
    "\n",
    "# Copy post-QC emerge observed genotype data\n",
    "aws s3 cp s3://rti-common/dbGaP/phs000170_cataract/genotype/original/final/ . --recursive\n",
    "\n",
    "# de-compress\n",
    "gunzip *"
   ]
  },
  {
   "cell_type": "markdown",
   "metadata": {},
   "source": [
    "## Data processing\n",
    "### GRCh37 strand and allele discordance check"
   ]
  },
  {
   "cell_type": "code",
   "execution_count": null,
   "metadata": {
    "collapsed": true
   },
   "outputs": [],
   "source": [
    "# EC2 command line #\n",
    "cd /shared/sandbox/emerge/\n",
    "mkdir 1000g\n",
    "mkdir strand_check\n",
    "\n",
    "ancestry=\"ea\"\n",
    "study=\"cataract\"\n",
    "\n",
    "# Calculate allele frequencies\n",
    "/shared/bioinformatics/software/third_party/plink-1.90-beta-4.10-x86_64/plink \\\n",
    "    --noweb \\\n",
    "    --memory 2048 \\\n",
    "    --bfile ${ancestry}_chr_all \\\n",
    "    --freq \\\n",
    "    --out strand_check/${ancestry}_chr_all\n",
    "\n",
    "# Get list of variant IDs from all studies for an ancestry group\n",
    "cat ${ancestry}_chr_all.bim | \\\n",
    "    perl -lane 'if (($F[0]+0) <= 23) { print $F[1]; }' | \\\n",
    "    sort -u > ${ancestry}_chr_all_sorted_variants.txt\n",
    "\n",
    "# Calculate autosome and chrX MAFs for 1000G EUR\n",
    "pop=\"EUR\"\n",
    "ancestry=\"ea\"\n",
    "for chr in {1..22}; do\n",
    "    /shared/bioinformatics/software/scripts/qsub_job.sh \\\n",
    "        --job_name ${pop}_${chr} \\\n",
    "        --script_prefix ${pop}_chr${chr}.maf \\\n",
    "        --mem 10 \\\n",
    "        --nslots 1 \\\n",
    "        --priority 0 \\\n",
    "        --program /shared/bioinformatics/software/perl/stats/calculate_maf_from_impute2_hap_file.pl \\\n",
    "            --hap /shared/data/ref_panels/1000G/2014.10/1000GP_Phase3_chr${chr}.hap.gz\\\n",
    "            --legend /shared/data/ref_panels/1000G/2014.10/1000GP_Phase3_chr${chr}.legend.gz \\\n",
    "            --sample /shared/data/ref_panels/1000G/2014.10/1000GP_Phase3.sample \\\n",
    "            --chr ${chr} \\\n",
    "            --out 1000g/${pop}_chr${chr}.maf \\\n",
    "            --extract ${ancestry}_chr_all_sorted_variants.txt \\\n",
    "            --keep_groups ${pop}\n",
    "done\n",
    "\n",
    "\n",
    "chr=23\n",
    "/shared/bioinformatics/software/scripts/qsub_job.sh \\\n",
    "    --job_name ${pop}_${chr} \\\n",
    "    --script_prefix ${pop}_chr${chr}.maf \\\n",
    "    --mem 6.8 \\\n",
    "    --nslots 1 \\\n",
    "    --priority 0 \\\n",
    "    --program /shared/bioinformatics/software/perl/stats/calculate_maf_from_impute2_hap_file.pl \\\n",
    "        --hap /shared/data/ref_panels/1000G/2014.10/1000GP_Phase3_chrX_NONPAR.hap.gz\\\n",
    "        --legend /shared/data/ref_panels/1000G/2014.10/1000GP_Phase3_chrX_NONPAR.legend.gz \\\n",
    "        --sample /shared/data/ref_panels/1000G/2014.10/1000GP_Phase3.sample \\\n",
    "        --chr ${chr} \\\n",
    "        --out 1000g/${pop}_chr${chr}.maf \\\n",
    "        --extract ${ancestry}_chr_all_sorted_variants.txt \\\n",
    "        --keep_groups ${pop}\n",
    "\n",
    "# Merge per chr MAFs for EUR\n",
    "pop=\"EUR\"\n",
    "head -n 1 1000g/${pop}_chr1.maf > 1000g/${pop}_chr_all.maf\n",
    "tail -q -n +2 1000g/${pop}_chr{1..23}.maf \\\n",
    "    >> 1000g/${pop}_chr_all.maf\n",
    "\n",
    "# Run discordance checks for EA group\n",
    "pop=\"EUR\"\n",
    "ancestry=\"ea\"\n",
    "/shared/bioinformatics/software/scripts/qsub_job.sh \\\n",
    "    --job_name ${ancestry}_crosscheck \\\n",
    "    --script_prefix strand_check/${ancestry}_allele_discordance_check \\\n",
    "    --mem 10 \\\n",
    "    --priority 0 \\\n",
    "    --program \"Rscript /shared/bioinformatics/software/R/check_study_data_against_1000G.R\n",
    "        --study_bim_file ${ancestry}_chr_all.bim\n",
    "        --study_frq_file strand_check/${ancestry}_chr_all.frq\n",
    "        --ref_maf_file 1000g/${pop}_chr_all.maf\n",
    "        --out_prefix strand_check/${ancestry}_allele_discordance\""
   ]
  },
  {
   "cell_type": "markdown",
   "metadata": {},
   "source": [
    "### Resolving allele discordances\n",
    "The allele discordances will be resolved by\n",
    "* Flipping allele discordances that are fixed by flipping\n",
    "* Removing SNPs with discordant names\n",
    "* Removing SNPs with discordant positions\n",
    "* Removing allele discordances that are not resolved by flipping\n",
    "* Removing alleles with large deviations from the reference population allele frequencies"
   ]
  },
  {
   "cell_type": "code",
   "execution_count": null,
   "metadata": {
    "collapsed": true
   },
   "outputs": [],
   "source": [
    "# EC2 command line #\n",
    "cd /shared/sandbox/emerge\n",
    "\n",
    "ancestry=\"ea\"\n",
    "\n",
    "# Apply filters\n",
    "echo -e \"\\n===============\\nProcessing emerge \\n\"\n",
    "# Create remove list\n",
    "echo \"Making remove list\"\n",
    "cat <(cut -f2,2 strand_check/${ancestry}_allele_discordance.discordant_alleles_not_fixed_by_strand_flip | tail -n +2) \\\n",
    "    <(cut -f2,2 strand_check/${ancestry}_allele_discordance.at_cg_snps_freq_diff_gt_0.2 | tail -n +2) \\\n",
    "    <(cut -f2,2 strand_check/${ancestry}_allele_discordance.discordant_names | tail -n +2) \\\n",
    "    <(cut -f2,2 strand_check/${ancestry}_allele_discordance.discordant_positions | tail -n +2) \\\n",
    "    <(cut -f2,2 strand_check/${ancestry}_allele_discordance.discordant_alleles_polymorphic_in_study_not_fixed_by_strand_flip | tail -n +2) | \\\n",
    "    sort -u > ${ancestry}_snps.remove\n",
    "\n",
    "# Create flip list\n",
    "echo \"Making flip list\"\n",
    "comm -23 <(cut -f2,2 strand_check/${ancestry}_allele_discordance.discordant_alleles | tail -n +2 | sort -u) \\\n",
    "    <(cut -f2,2 strand_check/${ancestry}_allele_discordance.discordant_alleles_not_fixed_by_strand_flip | tail -n +2 | sort -u) \\\n",
    "    > ${ancestry}_snps.flip\n",
    "\n",
    "# Apply filters\n",
    "/shared/bioinformatics/software/third_party/plink-1.90-beta-4.10-x86_64/plink \\\n",
    "    --noweb \\\n",
    "    --memory 2048 \\\n",
    "    --bfile ${ancestry}_chr_all \\\n",
    "    --exclude ${ancestry}_snps.remove \\\n",
    "    --flip ${ancestry}_snps.flip \\\n",
    "    --make-bed \\\n",
    "    --out ${ancestry}_filtered"
   ]
  },
  {
   "cell_type": "markdown",
   "metadata": {},
   "source": [
    "### Remove monomorphic variants\n",
    "Monomorphic variants prevent MIS from accepting the genotype data. In this case, an arbitrarily small MAF is set that is smaller than the lower bound for these data."
   ]
  },
  {
   "cell_type": "code",
   "execution_count": null,
   "metadata": {
    "collapsed": true
   },
   "outputs": [],
   "source": [
    "# EC2 command line #\n",
    "cd /shared/sandbox/emerge\n",
    "\n",
    "ancestry=\"ea\"\n",
    "\n",
    "# Apply filters\n",
    "/shared/bioinformatics/software/third_party/plink-1.90-beta-4.10-x86_64/plink \\\n",
    "--noweb \\\n",
    "--memory 2048 \\\n",
    "--bfile ${ancestry}_filtered \\\n",
    "--maf 0.000001 \\\n",
    "--make-bed \\\n",
    "--out ${ancestry}_filtered_mono"
   ]
  },
  {
   "cell_type": "markdown",
   "metadata": {},
   "source": [
    "## Imputation preparation for Michigan Imputation Server\n",
    "Visit the [MIS Getting Started Webpage](https://imputationserver.sph.umich.edu/start.html#!pages/help) for more information about the preparing the data for upload to MIS.\n",
    "### VCF File Conversion"
   ]
  },
  {
   "cell_type": "code",
   "execution_count": null,
   "metadata": {
    "collapsed": true
   },
   "outputs": [],
   "source": [
    "# EC2 command line #\n",
    "cd /shared/sandbox/emerge\n",
    "mkdir phased\n",
    "\n",
    "# Split by chr and remove any individuals with missing data for whole chr\n",
    "ancestry=\"ea\"\n",
    "for chr in {1..23}; do\n",
    "    # Remove SNPs\n",
    "    /shared/bioinformatics/software/third_party/plink-1.90-beta-4.10-x86_64/plink \\\n",
    "        --noweb \\\n",
    "        --memory 4000 \\\n",
    "        --bfile ${ancestry}_filtered_mono \\\n",
    "        --chr ${chr} \\\n",
    "        --mind 0.99 \\\n",
    "        --make-bed \\\n",
    "        --out phased/${ancestry}_chr${chr}_for_phasing \n",
    "done > chr_splitting.log"
   ]
  },
  {
   "cell_type": "markdown",
   "metadata": {},
   "source": [
    "__Note__: No subjects were removed."
   ]
  },
  {
   "cell_type": "code",
   "execution_count": null,
   "metadata": {
    "collapsed": true
   },
   "outputs": [],
   "source": [
    "# EC2 command line #\n",
    "cd /shared/sandbox/emerge/phased\n",
    "mkdir ea\n",
    "\n",
    "ancestry=\"ea\"\n",
    "for chr in {1..22}; do\n",
    "    /shared/bioinformatics/software/third_party/plink-1.90-beta-4.10-x86_64/plink \\\n",
    "        --noweb \\\n",
    "        --memory 5000 \\\n",
    "        --bfile ${ancestry}_chr${chr}_for_phasing \\\n",
    "        --recode vcf bgz \\\n",
    "        --out ${ancestry}/${ancestry}_chr${chr}_final\n",
    "done\n",
    "\n",
    "# Had to alter the chr23 file to be compatible with the MIS. Change 23 to X.\n",
    "chr=23\n",
    "ancestry=\"ea\"\n",
    "    /shared/bioinformatics/software/third_party/plink-1.90-beta-4.10-x86_64/plink \\\n",
    "        --noweb \\\n",
    "        --memory 5000 \\\n",
    "        --bfile ${ancestry}_chr${chr}_for_phasing \\\n",
    "        --output-chr M \\\n",
    "        --set-hh-missing \\\n",
    "        --recode vcf bgz \\\n",
    "        --out ${ancestry}/${ancestry}_chr${chr}_final"
   ]
  },
  {
   "cell_type": "markdown",
   "metadata": {
    "collapsed": true
   },
   "source": [
    "### Uploading parameters\n",
    "These are the parameters that were selected on MIS.\n",
    "\n",
    "__Name__: chr1-22\n",
    "\n",
    "__Reference Panel__ 1000G Phase 3 v5\n",
    "\n",
    "__Input Files__ File Upload <br>\n",
    "\n",
    "* Select Files - select VCF files that were downloaded to local machine from cloud. <br>\n",
    "\n",
    "__Phasing__: ShapeIT v2.r790 (unphased) \n",
    "\n",
    "__Population__: EUR\n",
    "\n",
    "__Mode__: Quality Control & Imputation\n",
    "\n",
    "* I will not attempt to re-identify or contact research participants.\n",
    "* I will report any inadvertent data release, security breach or other data management incident of which I become aware."
   ]
  },
  {
   "cell_type": "markdown",
   "metadata": {},
   "source": [
    "__Note__: submitted chr23 separately. "
   ]
  }
 ],
 "metadata": {
  "kernelspec": {
   "display_name": "R",
   "language": "R",
   "name": "ir"
  },
  "language_info": {
   "codemirror_mode": "r",
   "file_extension": ".r",
   "mimetype": "text/x-r-source",
   "name": "R",
   "pygments_lexer": "r",
   "version": "3.4.1"
  },
  "toc": {
   "nav_menu": {},
   "number_sections": true,
   "sideBar": true,
   "skip_h1_title": false,
   "toc_cell": false,
   "toc_position": {},
   "toc_section_display": "block",
   "toc_window_display": false
  }
 },
 "nbformat": 4,
 "nbformat_minor": 2
}
