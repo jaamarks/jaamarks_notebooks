{
 "cells": [
  {
   "cell_type": "markdown",
   "metadata": {},
   "source": [
    "# eMerge Fagerstrom Test For Nicotine Dependence (FTND) GWAS\n",
    "__Author:__ Jesse Marks\n",
    "\n",
    "This document logs the steps taken to process the emerge data and perform the FTND GWAS. FTND is a standard instrument for assessing the physical addiction to nicotine. For more information, see [this website](https://cde.drugabuse.gov/instrument/d7c0b0f5-b865-e4de-e040-bb89ad43202b).\n",
    "\n",
    "The genotype data were imputed on the [Michigan Imputation Server](https://imputationserver.sph.umich.edu/index.html)."
   ]
  },
  {
   "cell_type": "code",
   "execution_count": 4,
   "metadata": {},
   "outputs": [],
   "source": [
    "### R console ###\n",
    "library(haven)\n",
    "\n",
    "# convert Stata data into comma separated\n",
    "setwd('C:/Users/jmarks/Desktop/Projects/Nicotine/eMerge/phenotype/') # local machine\n",
    "yourData = read_dta(\"FTND Phenotype.dta\")\n",
    "write.csv(yourData, file = \"FTND_pheno.csv\")"
   ]
  },
  {
   "cell_type": "code",
   "execution_count": 1,
   "metadata": {},
   "outputs": [
    {
     "data": {
      "text/html": [
       "'C:/Users/jmarks/Desktop/GitHub/jaamarks_notebooks/Nicotine_Project/develop'"
      ],
      "text/latex": [
       "'C:/Users/jmarks/Desktop/GitHub/jaamarks\\_notebooks/Nicotine\\_Project/develop'"
      ],
      "text/markdown": [
       "'C:/Users/jmarks/Desktop/GitHub/jaamarks_notebooks/Nicotine_Project/develop'"
      ],
      "text/plain": [
       "[1] \"C:/Users/jmarks/Desktop/GitHub/jaamarks_notebooks/Nicotine_Project/develop\""
      ]
     },
     "metadata": {},
     "output_type": "display_data"
    }
   ],
   "source": []
  },
  {
   "cell_type": "code",
   "execution_count": null,
   "metadata": {
    "collapsed": true
   },
   "outputs": [],
   "source": []
  }
 ],
 "metadata": {
  "kernelspec": {
   "display_name": "R",
   "language": "R",
   "name": "ir"
  },
  "language_info": {
   "codemirror_mode": "r",
   "file_extension": ".r",
   "mimetype": "text/x-r-source",
   "name": "R",
   "pygments_lexer": "r",
   "version": "3.4.1"
  },
  "toc": {
   "nav_menu": {},
   "number_sections": true,
   "sideBar": true,
   "skip_h1_title": false,
   "toc_cell": false,
   "toc_position": {},
   "toc_section_display": "block",
   "toc_window_display": false
  }
 },
 "nbformat": 4,
 "nbformat_minor": 2
}
