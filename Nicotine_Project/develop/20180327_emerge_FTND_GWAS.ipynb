{
 "cells": [
  {
   "cell_type": "markdown",
   "metadata": {},
   "source": [
    "# eMerge Fagerstrom Test For Nicotine Dependence (FTND) GWAS\n",
    "__Author:__ Jesse Marks\n",
    "\n",
    "This document logs the steps taken to process the emerge data and perform the FTND GWAS. FTND is a standard instrument for assessing the physical addiction to nicotine. For more information, see [this website](https://cde.drugabuse.gov/instrument/d7c0b0f5-b865-e4de-e040-bb89ad43202b).\n",
    "\n",
    "The genotype data were imputed on the [Michigan Imputation Server](https://imputationserver.sph.umich.edu/index.html).\n",
    "\n",
    "* We use the variable `FTNDboth_cat` variable that lumps together the former smokers that have lifetime FTND (N=736) with the current smokers that have current FTND (N=78). This will optimize sample size, especially since the severe category is slim."
   ]
  },
  {
   "cell_type": "markdown",
   "metadata": {},
   "source": [
    "## FTNDboth_cat variable description\n",
    "| cat | Freq |   |\n",
    "|-----|------|---|\n",
    "| 0   | 537  |   |\n",
    "| 1   | 217  |   |\n",
    "| 2   | 60   |   |\n",
    "\n",
    "Where FTND conversion is 0=0-3, 1=4-6, and 2=7+"
   ]
  },
  {
   "cell_type": "markdown",
   "metadata": {},
   "source": [
    "## Convert Phenotype Data from Strata format to .csv file"
   ]
  },
  {
   "cell_type": "code",
   "execution_count": 82,
   "metadata": {},
   "outputs": [],
   "source": [
    "### R console ###\n",
    "library(haven)\n",
    "\n",
    "# convert Stata data into comma separated\n",
    "setwd('C:/Users/jmarks/Desktop/Projects/Nicotine/eMerge/phenotype/') # local machine\n",
    "pheno <- read_dta(\"FTND Phenotype.dta\")\n",
    "write.csv(pheno, file = \"FTND_pheno.csv\", row.names = F)\n",
    "pheno.ftnd <- read.table(\"FTND_pheno.csv\", header = T, sep = \",\")\n",
    "pheno.orig <- read.table(\"phs000170.v2.pht000737.v1.p1.c1.Marshfield_Data_Phenotype.HMB-GSO.txt\", header = T)\n",
    "num.subjects <- length(pheno.ftnd[['emergeid']])\n",
    "\n",
    "pheno.combined <- data.frame(matrix(ncol = 4, nrow = num.subjects))\n",
    "names(pheno.combined) <- c(\"emergeid\", \"sex\", \"age\", \"ftnd\")\n",
    "pheno.combined[1] <- pheno.ftnd[['emergeid']]\n",
    "pheno.combined[4] <- pheno.ftnd[['FTNDboth_cat']]\n",
    "\n",
    "for (i in 1:num.subjects) {\n",
    "index <- match(pheno.ftnd[1,\"emergeid\"], pheno.orig[[\"SUBJID\"]])\n",
    "pheno.combined[i,\"sex\"] <- pheno.orig[index, \"sex\"]\n",
    "pheno.combined[i,\"age\"] <- pheno.orig[index, \"Age_First_Cataract_Diagnosis\"]\n",
    "}\n"
   ]
  },
  {
   "cell_type": "code",
   "execution_count": 99,
   "metadata": {},
   "outputs": [
    {
     "data": {
      "text/html": [
       "<table>\n",
       "<thead><tr><th scope=col>emergeid</th><th scope=col>sex</th><th scope=col>age</th><th scope=col>ftnd</th></tr></thead>\n",
       "<tbody>\n",
       "\t<tr><td>16214874</td><td>2       </td><td>21      </td><td>NA      </td></tr>\n",
       "\t<tr><td>16214875</td><td>2       </td><td>21      </td><td>NA      </td></tr>\n",
       "\t<tr><td>16214879</td><td>2       </td><td>21      </td><td> 0      </td></tr>\n",
       "\t<tr><td>16214881</td><td>2       </td><td>21      </td><td>NA      </td></tr>\n",
       "\t<tr><td>16214896</td><td>2       </td><td>21      </td><td> 0      </td></tr>\n",
       "\t<tr><td>16214899</td><td>2       </td><td>21      </td><td>NA      </td></tr>\n",
       "</tbody>\n",
       "</table>\n"
      ],
      "text/latex": [
       "\\begin{tabular}{r|llll}\n",
       " emergeid & sex & age & ftnd\\\\\n",
       "\\hline\n",
       "\t 16214874 & 2        & 21       & NA      \\\\\n",
       "\t 16214875 & 2        & 21       & NA      \\\\\n",
       "\t 16214879 & 2        & 21       &  0      \\\\\n",
       "\t 16214881 & 2        & 21       & NA      \\\\\n",
       "\t 16214896 & 2        & 21       &  0      \\\\\n",
       "\t 16214899 & 2        & 21       & NA      \\\\\n",
       "\\end{tabular}\n"
      ],
      "text/markdown": [
       "\n",
       "emergeid | sex | age | ftnd | \n",
       "|---|---|---|---|---|---|\n",
       "| 16214874 | 2        | 21       | NA       | \n",
       "| 16214875 | 2        | 21       | NA       | \n",
       "| 16214879 | 2        | 21       |  0       | \n",
       "| 16214881 | 2        | 21       | NA       | \n",
       "| 16214896 | 2        | 21       |  0       | \n",
       "| 16214899 | 2        | 21       | NA       | \n",
       "\n",
       "\n"
      ],
      "text/plain": [
       "  emergeid sex age ftnd\n",
       "1 16214874 2   21  NA  \n",
       "2 16214875 2   21  NA  \n",
       "3 16214879 2   21   0  \n",
       "4 16214881 2   21  NA  \n",
       "5 16214896 2   21   0  \n",
       "6 16214899 2   21  NA  "
      ]
     },
     "metadata": {},
     "output_type": "display_data"
    },
    {
     "data": {
      "text/html": [
       "<table>\n",
       "<thead><tr><th></th><th scope=col>emergeid</th><th scope=col>sex</th><th scope=col>age</th><th scope=col>ftnd</th></tr></thead>\n",
       "<tbody>\n",
       "\t<tr><th scope=row>3</th><td>16214879</td><td>2       </td><td>21      </td><td>0       </td></tr>\n",
       "\t<tr><th scope=row>5</th><td>16214896</td><td>2       </td><td>21      </td><td>0       </td></tr>\n",
       "\t<tr><th scope=row>13</th><td>16215196</td><td>2       </td><td>21      </td><td>0       </td></tr>\n",
       "\t<tr><th scope=row>15</th><td>16215314</td><td>2       </td><td>21      </td><td>0       </td></tr>\n",
       "\t<tr><th scope=row>17</th><td>16215384</td><td>2       </td><td>21      </td><td>1       </td></tr>\n",
       "\t<tr><th scope=row>18</th><td>16215393</td><td>2       </td><td>21      </td><td>1       </td></tr>\n",
       "</tbody>\n",
       "</table>\n"
      ],
      "text/latex": [
       "\\begin{tabular}{r|llll}\n",
       "  & emergeid & sex & age & ftnd\\\\\n",
       "\\hline\n",
       "\t3 & 16214879 & 2        & 21       & 0       \\\\\n",
       "\t5 & 16214896 & 2        & 21       & 0       \\\\\n",
       "\t13 & 16215196 & 2        & 21       & 0       \\\\\n",
       "\t15 & 16215314 & 2        & 21       & 0       \\\\\n",
       "\t17 & 16215384 & 2        & 21       & 1       \\\\\n",
       "\t18 & 16215393 & 2        & 21       & 1       \\\\\n",
       "\\end{tabular}\n"
      ],
      "text/markdown": [
       "\n",
       "| <!--/--> | emergeid | sex | age | ftnd | \n",
       "|---|---|---|---|---|---|\n",
       "| 3 | 16214879 | 2        | 21       | 0        | \n",
       "| 5 | 16214896 | 2        | 21       | 0        | \n",
       "| 13 | 16215196 | 2        | 21       | 0        | \n",
       "| 15 | 16215314 | 2        | 21       | 0        | \n",
       "| 17 | 16215384 | 2        | 21       | 1        | \n",
       "| 18 | 16215393 | 2        | 21       | 1        | \n",
       "\n",
       "\n"
      ],
      "text/plain": [
       "   emergeid sex age ftnd\n",
       "3  16214879 2   21  0   \n",
       "5  16214896 2   21  0   \n",
       "13 16215196 2   21  0   \n",
       "15 16215314 2   21  0   \n",
       "17 16215384 2   21  1   \n",
       "18 16215393 2   21  1   "
      ]
     },
     "metadata": {},
     "output_type": "display_data"
    }
   ],
   "source": [
    "head(pheno.combined)\n",
    "\n",
    "# filter out any subject with NA for FTND\n",
    "filter_pheno <- pheno.combined[complete.cases(pheno.combined),]\n",
    "head(filter_pheno)\n",
    "setwd(\"C:/Users/jmarks/Desktop/Projects/Nicotine/eMerge/phenotype\")\n",
    "write.table(filter_pheno, \"emerge_ftnd_filtered.txt\", sep = \" \", row.names = F, quote = F)"
   ]
  },
  {
   "cell_type": "markdown",
   "metadata": {},
   "source": [
    "## Copy phenotype data to EC2"
   ]
  },
  {
   "cell_type": "code",
   "execution_count": null,
   "metadata": {
    "collapsed": true
   },
   "outputs": [],
   "source": [
    "### local machine ###\n",
    "cd /cygdrive/c/Users/jmarks/Desktop/Projects/Nicotine/eMerge/phenotype\n",
    "scp -i ~/.ssh/gwas_rsa emerge_ftnd_filtered.txt ec2-user@35.171.207.199:/shared/s3/emerge/data/phenotype"
   ]
  },
  {
   "cell_type": "markdown",
   "metadata": {
    "collapsed": true
   },
   "source": [
    "## Inflate imputation results"
   ]
  },
  {
   "cell_type": "code",
   "execution_count": null,
   "metadata": {
    "collapsed": true
   },
   "outputs": [],
   "source": [
    "### EC2 console ###\n",
    "cd /shared/s3/emerge/data/genotype/imputed\n",
    "\n",
    "# inflate chr results\n",
    "for f in {1..22};do\n",
    "echo '#!/bin/bash' > chr_$f.sh\n",
    "echo '' >> chr_$f.sh\n",
    "echo 'unzip -P \"ScSu1byrJL49kO\" chr_'$f'.zip' >> chr_$f.sh\n",
    "done\n",
    "\n",
    "for chr in {1..22}; do\n",
    "sh /shared/bioinformatics/software/scripts/qsub_job.sh \\\n",
    "--job_name inflate_chr${chr} \\\n",
    "--script_prefix test/chr${chr}_results \\\n",
    "--mem 5 \\\n",
    "--priority 0 \\\n",
    "--program bash chr_${chr}.sh\n",
    "done"
   ]
  },
  {
   "cell_type": "code",
   "execution_count": null,
   "metadata": {
    "collapsed": true
   },
   "outputs": [],
   "source": []
  },
  {
   "cell_type": "code",
   "execution_count": null,
   "metadata": {
    "collapsed": true
   },
   "outputs": [],
   "source": []
  },
  {
   "cell_type": "markdown",
   "metadata": {},
   "source": [
    "## S3 data transfer"
   ]
  },
  {
   "cell_type": "code",
   "execution_count": null,
   "metadata": {
    "collapsed": true
   },
   "outputs": [],
   "source": [
    "# Copy phenotype data\n",
    "cd /shared/s3/emerge/data/phenotype\n",
    "aws s3 cp ./ s3://rti-nd/eMERGE/emerge_ftnd/data/phenotype \\\n",
    "    --recursive --exclude=\"*\" --include=\"*ped.gz\" --quiet &\n",
    "\n",
    "cd /shared/s3/emerge_ftnd/data/assoc_tests\n",
    "# Copy association test results\n",
    "aws s3 cp ./ s3://rti-nd/eMERGE/emerge_ftnd/results/rvtest/ \\\n",
    "    --recursive --exclude=\"*\" --include=\"*MetaScore*gz*\" --quiet &\n",
    "aws s3 cp ./ s3://rti-nd/eMERGE/emerge_ftnd/results/figures/ \\\n",
    "    --recursive --exclude=\"*\" --include=\"*.png.gz\" --quiet &\n",
    "\n",
    "\n",
    "\n",
    "\n",
    "\n",
    "\n",
    "ancestry=ea\n",
    "# copy imputation files\n",
    "cd /shared/sandbox/emerge_ftnd/genotype/imputed/\n",
    "\n",
    "# chrX (male) data\n",
    "aws s3 cp chrX.no.auto_male.dose.vcf.gz.tbi s3://rti-nd/eMERGE/emerge_ftnd/data/genotype/imputed/ea/chrX.no.auto_male.dose.vcf.gz.tbi \n",
    "aws s3 cp chrX.no.auto_male.dose.vcf.gz s3://rti-nd/eMERGE/emerge_ftnd/data/genotype/imputed/ea/chrX.no.auto_male.dose.vcf.gz --quiet &     \n",
    "aws s3 cp chrX.no.auto_male.info.gz s3://rti-nd/eMERGE/emerge_ftnd/data/genotype/imputed/ea/chrX.no.auto_male.info.gz --quiet &     \n",
    "\n",
    "# chrX (female) data\n",
    "aws s3 cp chrX.no.auto_female.dose.vcf.gz.tbi s3://rti-nd/eMERGE/emerge_ftnd/data/genotype/imputed/ea/chrX.no.auto_female.dose.vcf.gz.tbi \n",
    "aws s3 cp chrX.no.auto_female.dose.vcf.gz s3://rti-nd/eMERGE/emerge_ftnd/data/genotype/imputed/ea/chrX.no.auto_female.dose.vcf.gz --quiet &     \n",
    "aws s3 cp chrX.no.auto_female.info.gz s3://rti-nd/eMERGE/emerge_ftnd/data/genotype/imputed/ea/chrX.no.auto_female.info.gz --quiet &     \n",
    "\n",
    "\n",
    "aws s3 cp snp_stats/ s3://rti-nd/eMERGE/emerge_ftnd/data/genotype/imputed/${ancestry}/ \\\n",
    "    --recursive --exclude \"*\" --include \"*.txt\" --quiet &\n",
    "aws s3 cp qc_report/ s3://rti-nd/eMERGE/emerge_ftnd/data/genotype/imputed/${ancestry}/ \\\n",
    "    --recursive --exclude \"*\" --include \"*.html\" --quiet &\n",
    "aws s3 cp logs/ s3://rti-nd/eMERGE/emerge_ftnd/data/genotype/imputed/${ancestry}/ \\\n",
    "    --recursive --exclude \"*\" --include \"*.log\" --quiet &\n",
    "\n",
    "# submit upload as a job\n",
    "--------------------------------------------------------------------------------\n",
    "## copy imputation files\n",
    "/shared/s3/emerge/data/genotype/imputed\n",
    "ancestry=ea\n",
    "for ext in {\\\"*.info.gz\\\",\\\"*dose.vcf.gz\\\",\\\"*dose.vcf.gz.tbi\\\",\\\"*.txt\\\"}; do\n",
    "/shared/bioinformatics/software/scripts/qsub_job.sh \\\n",
    "        --job_name s3_upload_emerge \\\n",
    "        --script_prefix _${ext} \\\n",
    "        --mem 5 \\\n",
    "        --nslots 1 \\\n",
    "        --program \"aws s3 cp . s3://rti-nd/data/genotype/imputed/${ancestry}/ \\\n",
    "            --recursive --exclude \\\"*\\\" --include $ext \"\n",
    "done"
   ]
  },
  {
   "cell_type": "code",
   "execution_count": null,
   "metadata": {
    "collapsed": true
   },
   "outputs": [],
   "source": []
  },
  {
   "cell_type": "code",
   "execution_count": null,
   "metadata": {
    "collapsed": true
   },
   "outputs": [],
   "source": []
  },
  {
   "cell_type": "code",
   "execution_count": null,
   "metadata": {
    "collapsed": true
   },
   "outputs": [],
   "source": []
  },
  {
   "cell_type": "code",
   "execution_count": null,
   "metadata": {
    "collapsed": true
   },
   "outputs": [],
   "source": []
  },
  {
   "cell_type": "code",
   "execution_count": null,
   "metadata": {
    "collapsed": true
   },
   "outputs": [],
   "source": []
  },
  {
   "cell_type": "code",
   "execution_count": null,
   "metadata": {
    "collapsed": true
   },
   "outputs": [],
   "source": []
  },
  {
   "cell_type": "code",
   "execution_count": null,
   "metadata": {
    "collapsed": true
   },
   "outputs": [],
   "source": []
  },
  {
   "cell_type": "code",
   "execution_count": null,
   "metadata": {
    "collapsed": true
   },
   "outputs": [],
   "source": []
  },
  {
   "cell_type": "code",
   "execution_count": null,
   "metadata": {
    "collapsed": true
   },
   "outputs": [],
   "source": []
  },
  {
   "cell_type": "code",
   "execution_count": null,
   "metadata": {
    "collapsed": true
   },
   "outputs": [],
   "source": []
  },
  {
   "cell_type": "code",
   "execution_count": null,
   "metadata": {
    "collapsed": true
   },
   "outputs": [],
   "source": []
  },
  {
   "cell_type": "code",
   "execution_count": null,
   "metadata": {
    "collapsed": true
   },
   "outputs": [],
   "source": []
  }
 ],
 "metadata": {
  "kernelspec": {
   "display_name": "R",
   "language": "R",
   "name": "ir"
  },
  "language_info": {
   "codemirror_mode": "r",
   "file_extension": ".r",
   "mimetype": "text/x-r-source",
   "name": "R",
   "pygments_lexer": "r",
   "version": "3.4.1"
  },
  "toc": {
   "nav_menu": {},
   "number_sections": true,
   "sideBar": true,
   "skip_h1_title": false,
   "toc_cell": false,
   "toc_position": {},
   "toc_section_display": "block",
   "toc_window_display": false
  }
 },
 "nbformat": 4,
 "nbformat_minor": 2
}
