{
 "cells": [
  {
   "cell_type": "markdown",
   "metadata": {},
   "source": [
    "# eMERGE Fagerstrom Test For Nicotine Dependence (FTND) GWAS\n",
    "__Author:__ Jesse Marks\n",
    "\n",
    "\n",
    "This document logs the steps taken to process the electronic Medical Records and Genomics (eMERGE) Network data and perform the FTND GWAS. The [eMERGE](https://www.ncbi.nlm.nih.gov/projects/gap/cgi-bin/study.cgi?study_id=phs000360.v1.p1) Network is a consortium of five participating sites (Group Health Seattle, Marshfield Clinic, Mayo Clinic, Northwestern University, and Vanderbilt University). We will be processing the Marshfield cohort.\n",
    "\n",
    "FTND is a standard instrument for assessing the physical addiction to nicotine. For more information, see [this website](https://cde.drugabuse.gov/instrument/d7c0b0f5-b865-e4de-e040-bb89ad43202b).\n",
    "\n",
    "The genotype data were imputed on the [Michigan Imputation Server](https://imputationserver.sph.umich.edu/index.html).\n",
    "\n",
    "* We use the variable `FTNDboth_cat` variable that lumps together the former smokers that have lifetime FTND (N=736) with the current smokers that have current FTND (N=78). This will optimize sample size, especially since the severe category is slim."
   ]
  },
  {
   "cell_type": "markdown",
   "metadata": {},
   "source": [
    "## Software and tools\n",
    "The software and tools used for processing these data are\n",
    "\n",
    "* [Amazon Elastic Compute Cloud(EC2)](https://aws.amazon.com/ec2/)\n",
    "* GNU bash version 4.1.2\n",
    "* [PLINK v1.9 beta 3.45](https://www.cog-genomics.org/plink/)\n",
    "* [EIGENSOFT v4.2](https://www.hsph.harvard.edu/alkes-price/software/)\n",
    "* [R v3.2.3](https://www.r-project.org/)\n",
    "* R packages: MASS, moments\n",
    "* [RVtests](https://render.githubusercontent.com/view/ipynb?commit=3bb8e661ad8b75af027ed2748133452ec251aaed&enc_url=68747470733a2f2f7261772e67697468756275736572636f6e74656e742e636f6d2f525449496e7465726e6174696f6e616c2f6271756163685f6e6f7465626f6f6b732f336262386536363161643862373561663032376564323734383133333435326563323531616165642f6865726f696e5f70726f6a6563742f646576656c6f702f32303138303131305f756873325f756873335f666f755f677761732e6970796e623f746f6b656e3d41664d79344e373237626e764465456f46535a697770346b48776246577964706b7335617570495a7741253344253344&nwo=RTIInternational%2Fbquach_notebooks&path=heroin_project%2Fdevelop%2F20180110_uhs2_uhs3_fou_gwas.ipynb&repository_id=105297875&repository_type=Repository)"
   ]
  },
  {
   "cell_type": "markdown",
   "metadata": {},
   "source": [
    "## FTNDboth_cat variable description\n",
    "| cat | Freq |   |\n",
    "|-----|------|---|\n",
    "| 0   | 537  |   |\n",
    "| 1   | 217  |   |\n",
    "| 2   | 60   |   |\n",
    "\n",
    "Where FTND conversion is 0=0-3, 1=4-6, and 2=7+"
   ]
  },
  {
   "cell_type": "markdown",
   "metadata": {},
   "source": [
    "## Convert Phenotype Data from Strata format to .csv file"
   ]
  },
  {
   "cell_type": "code",
   "execution_count": 194,
   "metadata": {},
   "outputs": [
    {
     "data": {
      "text/plain": [
       "\n",
       "  0   1   2 \n",
       "537 217  60 "
      ]
     },
     "metadata": {},
     "output_type": "display_data"
    },
    {
     "data": {
      "text/html": [
       "2269"
      ],
      "text/latex": [
       "2269"
      ],
      "text/markdown": [
       "2269"
      ],
      "text/plain": [
       "[1] 2269"
      ]
     },
     "metadata": {},
     "output_type": "display_data"
    }
   ],
   "source": [
    "### R console ###\n",
    "library(haven)\n",
    "\n",
    "# convert Stata data into comma separated\n",
    "setwd('C:/Users/jmarks/Desktop/Projects/Nicotine/eMerge/phenotype/') # local machine\n",
    "pheno <- read_dta(\"FTND Phenotype.dta\")\n",
    "write.csv(pheno, file = \"FTND_pheno.csv\", row.names = F)\n",
    "pheno.ftnd <- read.table(\"FTND_pheno.csv\", header = T, sep = \",\")\n",
    "pheno.orig <- read.table(\"phs000170.v2.pht000737.v1.p1.c1.Marshfield_Data_Phenotype.HMB-GSO.txt\", header = T)\n",
    "num.subjects <- length(pheno.ftnd[['emergeid']])\n",
    "\n",
    "pheno.combined <- data.frame(matrix(ncol = 4, nrow = num.subjects))\n",
    "names(pheno.combined) <- c(\"emergeid\", \"sex\", \"age\", \"ftnd\")\n",
    "pheno.combined[1] <- pheno.ftnd[['emergeid']]\n",
    "pheno.combined[4] <- pheno.ftnd[['FTNDboth_cat']]\n",
    "\n",
    "# fill in sex and age data\n",
    "for (i in 1:num.subjects) {\n",
    "index <- match(pheno.ftnd[i,\"emergeid\"], pheno.orig[[\"SUBJID\"]])\n",
    "pheno.combined[i,\"sex\"] <- pheno.orig[index, \"sex\"]\n",
    "pheno.combined[i,\"age\"] <- pheno.orig[index, \"Age_First_Cataract_Diagnosis\"]\n",
    "}\n",
    "\n",
    "table(pheno.ftnd[[\"FTNDboth_cat\"]])"
   ]
  },
  {
   "cell_type": "markdown",
   "metadata": {},
   "source": [
    "### Filter subjects missing any FTND, sex, or age data\n",
    "Then write to file."
   ]
  },
  {
   "cell_type": "code",
   "execution_count": 198,
   "metadata": {},
   "outputs": [
    {
     "data": {
      "text/html": [
       "2269"
      ],
      "text/latex": [
       "2269"
      ],
      "text/markdown": [
       "2269"
      ],
      "text/plain": [
       "[1] 2269"
      ]
     },
     "metadata": {},
     "output_type": "display_data"
    },
    {
     "data": {
      "text/html": [
       "1455"
      ],
      "text/latex": [
       "1455"
      ],
      "text/markdown": [
       "1455"
      ],
      "text/plain": [
       "[1] 1455"
      ]
     },
     "metadata": {},
     "output_type": "display_data"
    },
    {
     "data": {
      "text/html": [
       "307"
      ],
      "text/latex": [
       "307"
      ],
      "text/markdown": [
       "307"
      ],
      "text/plain": [
       "[1] 307"
      ]
     },
     "metadata": {},
     "output_type": "display_data"
    },
    {
     "data": {
      "text/html": [
       "0"
      ],
      "text/latex": [
       "0"
      ],
      "text/markdown": [
       "0"
      ],
      "text/plain": [
       "[1] 0"
      ]
     },
     "metadata": {},
     "output_type": "display_data"
    },
    {
     "data": {
      "text/html": [
       "507"
      ],
      "text/latex": [
       "507"
      ],
      "text/markdown": [
       "507"
      ],
      "text/plain": [
       "[1] 507"
      ]
     },
     "metadata": {},
     "output_type": "display_data"
    }
   ],
   "source": [
    "# Total subjects\n",
    "length(pheno.ftnd[,1])\n",
    "\n",
    "# filter out any subject with NA for FTND\n",
    "filter_pheno <- pheno.combined[complete.cases(pheno.combined[,4]),]\n",
    "\n",
    "# filtered due to missing ftnd data\n",
    "length(pheno.combined[,1]) - length(filter_pheno[[4]])\n",
    "\n",
    "# filter out any subject missing age data\n",
    "drop_age <- suppressWarnings(which(is.na(as.numeric(as.character(filter_pheno[[3]])))))\n",
    "filter_pheno <- filter_pheno[-drop_age,]\n",
    "\n",
    "# filtered due to missing age data\n",
    "length(drop_age)\n",
    "\n",
    "# filter out any subject missing age data (There were no missing sex entries)\n",
    "drop_sex <- which(filter_pheno[2] != \"M\" & filter_pheno[2] != \"F\")\n",
    "#filter_pheno <- drop_sex[-drop_sex,]\n",
    "# filtered due to missing sex data\n",
    "length(drop_sex)\n",
    "\n",
    "setwd(\"C:/Users/jmarks/Desktop/Projects/Nicotine/eMerge/phenotype\")\n",
    "write.table(filter_pheno, \"emerge_ftnd_filtered.txt\", sep = \" \", row.names = F, quote = F)\n",
    "\n",
    "# subjects left\n",
    "length(filter_pheno[,1])"
   ]
  },
  {
   "cell_type": "markdown",
   "metadata": {},
   "source": [
    "* 507 subjects left, in total. \n",
    "* 1455 filtered due to NA in FTND data\n",
    "* 307 were dropped due to missing age data.\n",
    "* none were dropped due to missing sex data.\n",
    "\n",
    "| Filtering Criterion | Subjects Removed  | Total |\n",
    "|---------------------|-------------------|-------|\n",
    "| Initial Data        | 0                 | 2269  |\n",
    "| Missing FTND        | 1455              | 814   |\n",
    "| Missing age         | 307               | 507   |\n",
    "| Missing sex         | 0                 | 507   |"
   ]
  },
  {
   "cell_type": "markdown",
   "metadata": {},
   "source": [
    "## Copy phenotype data to EC2"
   ]
  },
  {
   "cell_type": "code",
   "execution_count": null,
   "metadata": {
    "collapsed": true
   },
   "outputs": [],
   "source": [
    "### local machine ###\n",
    "cd /cygdrive/c/Users/jmarks/Desktop/Projects/Nicotine/eMerge/phenotype\n",
    "scp -i ~/.ssh/gwas_rsa emerge_ftnd_filtered.txt ec2-user@35.171.207.199:/shared/s3/emerge/data/phenotype"
   ]
  },
  {
   "cell_type": "markdown",
   "metadata": {
    "collapsed": true
   },
   "source": [
    "## Inflate imputation results"
   ]
  },
  {
   "cell_type": "code",
   "execution_count": null,
   "metadata": {
    "collapsed": true
   },
   "outputs": [],
   "source": [
    "### EC2 console ###\n",
    "cd /shared/s3/emerge/data/genotype/imputed\n",
    "\n",
    "# inflate chr results\n",
    "for f in {1..22};do\n",
    "echo '#!/bin/bash' > chr_$f.sh\n",
    "echo '' >> chr_$f.sh\n",
    "echo 'unzip -P \"ScSu1byrJL49kO\" chr_'$f'.zip' >> chr_$f.sh\n",
    "done\n",
    "\n",
    "for chr in {1..22}; do\n",
    "sh /shared/bioinformatics/software/scripts/qsub_job.sh \\\n",
    "--job_name inflate_chr${chr} \\\n",
    "--script_prefix chr${chr}_inflation \\\n",
    "--mem 5 \\\n",
    "--priority 0 \\\n",
    "--nslots 2 \\\n",
    "--program bash chr_${chr}.sh\n",
    "done"
   ]
  },
  {
   "cell_type": "markdown",
   "metadata": {},
   "source": [
    "## EIGENSTRAT\n",
    "To obtain principal component covariates to use in the GWAS statistical model, EIGENSTRAT is run on LD-pruned observed genotypes for each ancestry group. Usually a GRCh37 plus strand check is implemented, as well as a monomorphic SNP filter and discordant allele flip. Since this was already done for data in preparation for haplotype phasing, the haplotype phasing input PLINK files will be used. Note: In addition to these aforementioned data processing steps, ambiguous SNPs identified by reference panel frequency differences in the discordant allele checks were also removed prior to phasing.\n",
    "\n",
    "### Construct subject-filtered PLINK file sets"
   ]
  },
  {
   "cell_type": "code",
   "execution_count": null,
   "metadata": {
    "collapsed": true
   },
   "outputs": [],
   "source": [
    "# Command line #\n",
    "mkdir -p /shared/s3/emerge/eigenstrat\n",
    "cd /shared/s3/emerge/eigenstrat\n",
    "\n",
    "#copy genotype data \n",
    "cp /shared/sandbox/emerge/ea_chr_all.* ../data/genotype/original/\n",
    "\n",
    "# generate ID list to filter data with\n",
    "cd /shared/s3/emerge/data/phenotype\n",
    "awk ' NR>=2 { print $1 }' emerge_ftnd_filtered.txt > id_list.txt\n",
    "\n",
    "grep -f id_list.txt ../genotype/original/ea_chr_all.fam > filtered.fam\n",
    "awk '{print $1,$2 }' filtered.fam > ea_subject_ids.keep\n",
    "\n",
    "# Remove subjects by phenotype criteria\n",
    "ancestry=\"ea\"\n",
    "/shared/bioinformatics/software/third_party/plink-1.90-beta-4.10-x86_64/plink \\\n",
    "    --noweb \\\n",
    "    --memory 2048 \\\n",
    "    --bfile ../data/genotype/original/ea_chr_all \\\n",
    "    --keep ../data/phenotype/ea_subject_ids.keep \\\n",
    "    --make-bed \\\n",
    "    -out ${ancestry}_pheno_filter"
   ]
  },
  {
   "cell_type": "markdown",
   "metadata": {},
   "source": [
    "__Note__: The phenotype data had 507 subjects while the genotype data only had 465 subjects."
   ]
  },
  {
   "cell_type": "markdown",
   "metadata": {},
   "source": [
    "### Remove high-LD region variants"
   ]
  },
  {
   "cell_type": "code",
   "execution_count": null,
   "metadata": {
    "collapsed": true
   },
   "outputs": [],
   "source": [
    "# Command line # \n",
    "cd /shared/s3/emerge/eigenstrat\n",
    "\n",
    "# Remove high-LD region variants\n",
    "ancestry=\"ea\"\n",
    "# Generate list of variants in known high-LD regions\n",
    "perl -lane 'if (($F[0]==5 && $F[3] >= 43964243 && $F[3] <= 51464243) || ($F[0]==6 && $F[3] >= 24892021 && $F[3] <= 33392022) || ($F[0]==8 && $F[3] >= 7962590 && $F[3] <= 11962591) || ($F[0]==11 && $F[3] >= 45043424 && $F[3] <= 57243424)) { print $F[1].\"\\n\"; }' ${ancestry}_pheno_filter.bim \\\n",
    "    > ${ancestry}.high_ld_regions.remove\n",
    "\n",
    "# Remove SNPs in known high-LD regions\n",
    "/shared/bioinformatics/software/third_party/plink-1.90-beta-4.10-x86_64/plink \\\n",
    "    --noweb \\\n",
    "    --bfile ${ancestry}_pheno_filter \\\n",
    "    --exclude ${ancestry}.high_ld_regions.remove \\\n",
    "    --make-bed \\\n",
    "    --out ${ancestry}_pheno_filter_high_ld_regions_removed"
   ]
  },
  {
   "cell_type": "markdown",
   "metadata": {},
   "source": [
    "## Linkage disequilibrium pruning\n",
    "Linkage disequilibrium (LD) pruning eliminates a large degree of redundancy in the data and reduces the influence of chromosomal artifacts. The objective of LD pruning is to select a subset of variants based off of LD such that the variants in the subset are indepdendent. This filtering will not carry forward to the final processed results, but this step improves the quality of EIGENSTRAT calculations. Consequently, the LD pruned data will be used as input for those calculations.\n",
    "\n",
    "LD pruning is implemented using PLINK `--indep-pairwise.`"
   ]
  },
  {
   "cell_type": "code",
   "execution_count": null,
   "metadata": {
    "collapsed": true
   },
   "outputs": [],
   "source": [
    "# Command line # \n",
    "cd /shared/s3/emerge/eigenstrat\n",
    "\n",
    "# Remove high-LD region variants\n",
    "ancestry=\"ea\"\n",
    "# Run per chromosome LD pruning for each chr\n",
    "for chr in {1..23}; do\n",
    "    sh /shared/bioinformatics/software/scripts/qsub_job.sh \\\n",
    "        --job_name ${ancestry}_${chr}_ld_prune \\\n",
    "        --script_prefix ${ancestry}_${chr}_ld_prune \\\n",
    "        --mem 3.5 \\\n",
    "        --nslots 2 \\\n",
    "        --priority 0 \\\n",
    "        --program /shared/bioinformatics/software/third_party/plink-1.90-beta-4.10-x86_64/plink \\\n",
    "            --noweb \\\n",
    "            --memory 3500 \\\n",
    "            --bfile ${ancestry}_pheno_filter_high_ld_regions_removed \\\n",
    "            --indep-pairwise 1500 150 0.2 \\\n",
    "            --chr ${chr} \\\n",
    "            --out ${ancestry}_chr${chr}_ld_pruned\n",
    "done\n",
    "\n",
    "\n",
    "#Create LD pruned PLINK file sets\n",
    "ancestry=\"ea\"\n",
    "# Merge *prune.in files\n",
    "cat ${ancestry}_chr*_ld_pruned.prune.in > ${ancestry}_chr_all_ld_pruned.prune.in\n",
    "\n",
    "# Create new PLINK filesets with only lD pruned variants\n",
    "/shared/bioinformatics/software/third_party/plink-1.90-beta-4.10-x86_64/plink \\\n",
    "    --noweb \\\n",
    "    --memory 2048 \\\n",
    "    --bfile ${ancestry}_pheno_filter_high_ld_regions_removed \\\n",
    "    --extract ${ancestry}_chr_all_ld_pruned.prune.in \\\n",
    "    --make-bed \\\n",
    "    --out ${ancestry}_ld_pruned\n",
    "\n",
    "\n",
    "# Clean up\n",
    "rm *ld_pruned.{prune.in,prune.out,log}\n",
    "rm *qsub*\n",
    "rm *high_ld_regions*\n",
    "rm *nosex\n",
    "rm *pheno_filter*"
   ]
  },
  {
   "cell_type": "markdown",
   "metadata": {},
   "source": [
    "## Rename BIM/FAM file IDs\n",
    "BIM and FAM file IDs have the potential issue of being too long if encoded using the 1000 Genomes Phase 3 IMPUTE2 format. This will cause `smartpca` to throw an error. To resolve this the IDs are replaced by numeric values if needed."
   ]
  },
  {
   "cell_type": "code",
   "execution_count": null,
   "metadata": {
    "collapsed": true
   },
   "outputs": [],
   "source": [
    "# Command line # \n",
    "cd /shared/s3/emerge/eigenstrat\n",
    "\n",
    "# Count ID lengths greater than 39 characters\n",
    "ancestry=\"ea\"\n",
    "echo -e \"\\n\\n======== ${ancestry} ========\\n\\n\"\n",
    "awk '{ if(length($1)+length($2)>39){print $2} }' ${ancestry}_ld_pruned.fam | wc -l\n",
    "awk '{ if(length($2)>39){print $2} }' ${ancestry}_ld_pruned.bim | wc -l\n",
    "\n",
    "# Rename BIM file IDs\n",
    "# Make new BIM\n",
    "#awk '{$2=\"ID_\"NR; print $0}' ${ancestry}_ld_pruned.bim \\\n",
    "#    > ${ancestry}_ld_pruned_id_renamed.bim\n",
    "\n",
    "# Rename FAM file IDs\n",
    "# Make new FAM\n",
    "#awk '{$1=\"ID_\"NR; print $0}' ${ancestry}_ld_pruned.fam \\\n",
    "#   > ${ancestry}_ld_pruned_id_renamed.fam"
   ]
  },
  {
   "cell_type": "markdown",
   "metadata": {},
   "source": [
    "__Note__ we did not have to rename the BIM or FAM files for this case. "
   ]
  },
  {
   "cell_type": "markdown",
   "metadata": {},
   "source": [
    "### Run EIGENSTRAT\n",
    "__NOTE__: For `smartpca` to run, the BIM and FAM file IDs need to be less than 39 characters in length. Often this is not a problem, but with a BIM file that has IDs renamed to the 1000 Genomes Phase 3 format, the IDs for indels can exceed the character limit. Also, the EIGENSOFT bin directory should be in ~/.bashrc as an addition to the PATH variable. If it is not, it can be added as following\n",
    "\n",
    "`export PATH=$PATH:/shared/bioinformatics/software/third_party/EIG-6.1.4/bin/` # Add EIGENSOFT bin to path\n",
    "\n",
    "The `smartpca.pl` program documentation is shown below:\n",
    "\n",
    "\n",
    "DOCUMENTATION of `smartpca.pl` program:\n",
    "\n",
    "This program calls the `smartpca` program (see ../POPGEN/README). \n",
    "For this to work, the bin directory containing `smartpca` MUST be in your path. \n",
    "See `./example.perl` for a toy example.\n",
    "```\n",
    "../bin/smartpca.pl \n",
    "-i example.geno  : genotype file in any format (see ../CONVERTF/README)\n",
    "-a example.snp   : snp file in any format (see ../CONVERTF/README)\n",
    "-b example.ind   : indiv file in any format (see ../CONVERTF/README)\n",
    "-k k             : (Default is 10) number of principal components to output\n",
    "-o example.pca   : output file of principal components.  Individuals removed\n",
    "                   as outliers will have all values set to 0.0 in this file.\n",
    "-p example.plot  : prefix of output plot files of top 2 principal components.\n",
    "                   (labeling individuals according to labels in indiv file)\n",
    "-e example.eval  : output file of all eigenvalues\n",
    "-l example.log   : output logfile\n",
    "-m maxiter       : (Default is 5) maximum number of outlier removal iterations.\n",
    "                   To turn off outlier removal, set -m 0.\n",
    "-t topk          : (Default is 10) number of principal components along which \n",
    "                   to remove outliers during each outlier removal iteration.\n",
    "-s sigma         : (Default is 6.0) number of standard deviations which an\n",
    "                   individual must exceed, along one of topk top principal\n",
    "           components, in order to be removed as an outlier.\n",
    "\n",
    "OPTIONAL FLAGS:\n",
    "-w poplist       : compute eigenvectors using populations in poplist only,\n",
    "                   where poplist is an ASCII file with one population per line\n",
    "-y plotlist      : output plot will include populations in plotlist only, \n",
    "                   where plotlist is an ASCII file with one population per line\n",
    "-z badsnpname    : list of SNPs which should be excluded from the analysis\n",
    "-q YES/NO        : If set to YES, assume that there is a single population and\n",
    "                   the population field contains real-valued phenotypes.\n",
    "           (Corresponds to qtmode parameter in smartpca program.)\n",
    "           The default value for this parameter is NO.\n",
    "\n",
    "Estimated running time of the smartpca program is \n",
    "  2.5e-12 * nSNP * NSAMPLES^2 hours            if not removing outliers.\n",
    "  2.5e-12 * nSNP * NSAMPLES^2 hours * (1+m)    if m outlier removal iterations.\n",
    "Thus, under the default of up to 5 outlier removal iterations, running time is \n",
    "  up to 1.5e-11 * nSNP * NSAMPLES^2 hours.```"
   ]
  },
  {
   "cell_type": "code",
   "execution_count": null,
   "metadata": {
    "collapsed": true
   },
   "outputs": [],
   "source": [
    "# Command line # \n",
    "cd /shared/s3/emerge/eigenstrat\n",
    "mkdir results\n",
    "\n",
    "# Run EIGENSTRAT smartpca \n",
    "ancestry=\"ea\"\n",
    "# Run smartpca\n",
    "sh /shared/bioinformatics/software/scripts/qsub_job.sh \\\n",
    "    --job_name ${ancestry}_smartpca \\\n",
    "    --script_prefix results/smartpca_${ancestry} \\\n",
    "    --mem 13.5 \\\n",
    "    --nslots 2 \\\n",
    "    --priority 0 \\\n",
    "    --program /shared/bioinformatics/software/third_party/EIG-6.1.4/bin/smartpca.perl \\\n",
    "        -i ${ancestry}_ld_pruned.bed \\\n",
    "        -a ${ancestry}_ld_pruned.bim \\\n",
    "        -b ${ancestry}_ld_pruned.fam \\\n",
    "        -o results/${ancestry}_ld_pruned.pca \\\n",
    "        -p results/${ancestry}_ld_pruned.plot \\\n",
    "        -e results/${ancestry}_ld_pruned.eval \\\n",
    "        -l results/${ancestry}_ld_pruned.pca.log \\\n",
    "        -m 0"
   ]
  },
  {
   "cell_type": "markdown",
   "metadata": {},
   "source": [
    "### PCA Plot\n",
    "Copy results over to local machine so we can visualize the results"
   ]
  },
  {
   "cell_type": "code",
   "execution_count": null,
   "metadata": {
    "collapsed": true
   },
   "outputs": [],
   "source": [
    "## local machine ##\n",
    "scp -i ~/.ssh/gwas_rsa ec2-user@35.171.207.199:/shared/s3/emerge/eigenstrat/results/ea_ld_pruned.pca.evec \\\n",
    "    /cygdrive/c/Users/jmarks/Desktop/Projects/Nicotine/eMerge/eigenstrat"
   ]
  },
  {
   "cell_type": "code",
   "execution_count": 162,
   "metadata": {},
   "outputs": [
    {
     "data": {
      "text/html": [
       "<table>\n",
       "<thead><tr><th></th><th scope=col>V2</th><th scope=col>V3</th><th scope=col>V4</th><th scope=col>V5</th><th scope=col>V6</th><th scope=col>V7</th><th scope=col>V8</th><th scope=col>V9</th><th scope=col>V10</th><th scope=col>V11</th><th scope=col>V12</th></tr></thead>\n",
       "<tbody>\n",
       "\t<tr><th scope=row>EMERGE-3:16218877</th><td> 0.0038</td><td> 0.0052</td><td>-0.0029</td><td>-0.0085</td><td> 0.0076</td><td>-0.0214</td><td>-0.0088</td><td>-0.0512</td><td> 0.0022</td><td> 0.0223</td><td>???    </td></tr>\n",
       "\t<tr><th scope=row>EMERGE-3:16230920</th><td> 0.0061</td><td>-0.0224</td><td> 0.0197</td><td> 0.0300</td><td> 0.0184</td><td>-0.0190</td><td> 0.0158</td><td>-0.0322</td><td>-0.0148</td><td>-0.0167</td><td>???    </td></tr>\n",
       "\t<tr><th scope=row>EMERGE-8:16220003</th><td>-0.0202</td><td> 0.0155</td><td> 0.0050</td><td> 0.0046</td><td>-0.0022</td><td>-0.0117</td><td>-0.0437</td><td> 0.0036</td><td> 0.0089</td><td> 0.0119</td><td>???    </td></tr>\n",
       "\t<tr><th scope=row>EMERGE-11:16217471</th><td>-0.0087</td><td>-0.0060</td><td>-0.0131</td><td> 0.0089</td><td> 0.0254</td><td>-0.0462</td><td> 0.0149</td><td>-0.0432</td><td> 0.0180</td><td> 0.0363</td><td>???    </td></tr>\n",
       "\t<tr><th scope=row>EMERGE-11:16218001</th><td>-0.0020</td><td>-0.0111</td><td> 0.0074</td><td> 0.0021</td><td>-0.0149</td><td>-0.0178</td><td>-0.0361</td><td> 0.0065</td><td>-0.0105</td><td>-0.0393</td><td>???    </td></tr>\n",
       "</tbody>\n",
       "</table>\n"
      ],
      "text/latex": [
       "\\begin{tabular}{r|lllllllllll}\n",
       "  & V2 & V3 & V4 & V5 & V6 & V7 & V8 & V9 & V10 & V11 & V12\\\\\n",
       "\\hline\n",
       "\tEMERGE-3:16218877 &  0.0038 &  0.0052 & -0.0029 & -0.0085 &  0.0076 & -0.0214 & -0.0088 & -0.0512 &  0.0022 &  0.0223 & ???    \\\\\n",
       "\tEMERGE-3:16230920 &  0.0061 & -0.0224 &  0.0197 &  0.0300 &  0.0184 & -0.0190 &  0.0158 & -0.0322 & -0.0148 & -0.0167 & ???    \\\\\n",
       "\tEMERGE-8:16220003 & -0.0202 &  0.0155 &  0.0050 &  0.0046 & -0.0022 & -0.0117 & -0.0437 &  0.0036 &  0.0089 &  0.0119 & ???    \\\\\n",
       "\tEMERGE-11:16217471 & -0.0087 & -0.0060 & -0.0131 &  0.0089 &  0.0254 & -0.0462 &  0.0149 & -0.0432 &  0.0180 &  0.0363 & ???    \\\\\n",
       "\tEMERGE-11:16218001 & -0.0020 & -0.0111 &  0.0074 &  0.0021 & -0.0149 & -0.0178 & -0.0361 &  0.0065 & -0.0105 & -0.0393 & ???    \\\\\n",
       "\\end{tabular}\n"
      ],
      "text/markdown": [
       "\n",
       "| <!--/--> | V2 | V3 | V4 | V5 | V6 | V7 | V8 | V9 | V10 | V11 | V12 | \n",
       "|---|---|---|---|---|\n",
       "| EMERGE-3:16218877 |  0.0038 |  0.0052 | -0.0029 | -0.0085 |  0.0076 | -0.0214 | -0.0088 | -0.0512 |  0.0022 |  0.0223 | ???     | \n",
       "| EMERGE-3:16230920 |  0.0061 | -0.0224 |  0.0197 |  0.0300 |  0.0184 | -0.0190 |  0.0158 | -0.0322 | -0.0148 | -0.0167 | ???     | \n",
       "| EMERGE-8:16220003 | -0.0202 |  0.0155 |  0.0050 |  0.0046 | -0.0022 | -0.0117 | -0.0437 |  0.0036 |  0.0089 |  0.0119 | ???     | \n",
       "| EMERGE-11:16217471 | -0.0087 | -0.0060 | -0.0131 |  0.0089 |  0.0254 | -0.0462 |  0.0149 | -0.0432 |  0.0180 |  0.0363 | ???     | \n",
       "| EMERGE-11:16218001 | -0.0020 | -0.0111 |  0.0074 |  0.0021 | -0.0149 | -0.0178 | -0.0361 |  0.0065 | -0.0105 | -0.0393 | ???     | \n",
       "\n",
       "\n"
      ],
      "text/plain": [
       "                   V2      V3      V4      V5      V6      V7      V8     \n",
       "EMERGE-3:16218877   0.0038  0.0052 -0.0029 -0.0085  0.0076 -0.0214 -0.0088\n",
       "EMERGE-3:16230920   0.0061 -0.0224  0.0197  0.0300  0.0184 -0.0190  0.0158\n",
       "EMERGE-8:16220003  -0.0202  0.0155  0.0050  0.0046 -0.0022 -0.0117 -0.0437\n",
       "EMERGE-11:16217471 -0.0087 -0.0060 -0.0131  0.0089  0.0254 -0.0462  0.0149\n",
       "EMERGE-11:16218001 -0.0020 -0.0111  0.0074  0.0021 -0.0149 -0.0178 -0.0361\n",
       "                   V9      V10     V11     V12\n",
       "EMERGE-3:16218877  -0.0512  0.0022  0.0223 ???\n",
       "EMERGE-3:16230920  -0.0322 -0.0148 -0.0167 ???\n",
       "EMERGE-8:16220003   0.0036  0.0089  0.0119 ???\n",
       "EMERGE-11:16217471 -0.0432  0.0180  0.0363 ???\n",
       "EMERGE-11:16218001  0.0065 -0.0105 -0.0393 ???"
      ]
     },
     "metadata": {},
     "output_type": "display_data"
    }
   ],
   "source": [
    "## R console ##\n",
    "# Load PCA data\n",
    "setwd(dir = \"C:/Users/jmarks/Desktop/Projects/Nicotine/eMerge/eigenstrat/\")\n",
    "options(stringsAsFactors=F)\n",
    "ea.evec <- read.table(\"ea_ld_pruned.pca.evec\",\n",
    "                      comment.char=\"#\", sep=\"\", row.names=1)\n",
    "ea.evec[1:5,]"
   ]
  },
  {
   "cell_type": "code",
   "execution_count": 163,
   "metadata": {},
   "outputs": [
    {
     "data": {
      "image/png": "[encoded data removed]",
      "text/plain": [
       "Plot with title \"eMERGE EA\""
      ]
     },
     "metadata": {},
     "output_type": "display_data"
    },
    {
     "data": {
      "image/png": "[encoded data removed]",
      "text/plain": [
       "Plot with title \"eMERGE EA\""
      ]
     },
     "metadata": {},
     "output_type": "display_data"
    }
   ],
   "source": [
    "### R console ###\n",
    "\n",
    "# Function for plotting off-diagonal scatterplots\n",
    "plot.offdiag <- function(x, y, colors=label.colors){\n",
    "    #Make x and y axes equal\n",
    "    limits <- c(min(x,y), max(x,y)) * 1.3\n",
    "    par(usr = c(limits, limits))\n",
    "    points(x,y, col=colors, pch=16)\n",
    "}\n",
    "\n",
    "# Function for plotting diagonal density plots\n",
    "plot.diag <- function(x, colors=label.colors){\n",
    "    d <- density(x, bw=0.01, kernel=\"gaussian\")\n",
    "    #Update plot axes limits\n",
    "    par(usr = c(range(d$x), range(d$y)*1.3))\n",
    "    points(d$x,d$y, type=\"l\")\n",
    "    #Add PC values\n",
    "    points(x=x, y=jitter(rep(mean(d$y),times=d$n),factor=5), col=label.colors, pch=16)\n",
    "}\n",
    "\n",
    "#Run PCA and get % variance\n",
    "ea.dspace <- ea.evec[1:10] #transformed dataspace\n",
    "\n",
    "#Color label samples\n",
    "label.colors <- rgb(0,80,190,80, maxColorValue=255) #blue\n",
    "\n",
    "options(repr.plot.width=8, repr.plot.height=8)\n",
    "#Redefine outer margin\n",
    "par(oma = c(4, 1, 2, 1))\n",
    "pairs(x=ea.dspace[,1:5], panel=plot.offdiag, diag.panel=plot.diag, \n",
    "      labels=paste0(\"PC\",1:5), label.pos=0.9, cex.labels=1.8)\n",
    "par(fig=c(0, 1, 0, 1), oma=c(0, 0, 0, 0), mar=c(0, 0, 1.5, 0), new=TRUE)\n",
    "plot(0, 0, type = \"n\", bty = \"n\", xaxt = \"n\", yaxt = \"n\", main=\"eMERGE EA\", cex.main=1)\n",
    "\n",
    "par(oma = c(4, 1, 2, 1))\n",
    "pairs(x=ea.dspace[,6:10], panel=plot.offdiag, diag.panel=plot.diag, \n",
    "      labels=paste0(\"PC\",6:10), label.pos=0.9, cex.labels=1.8)\n",
    "par(fig=c(0, 1, 0, 1), oma=c(0, 0, 0, 0), mar=c(0, 0, 1.5, 0), new=TRUE)\n",
    "plot(0, 0, type = \"n\", bty = \"n\", xaxt = \"n\", yaxt = \"n\", main=\"eMERGE EA\", cex.main=1)"
   ]
  },
  {
   "cell_type": "markdown",
   "metadata": {},
   "source": [
    "### Extract eigenvectors"
   ]
  },
  {
   "cell_type": "code",
   "execution_count": null,
   "metadata": {
    "collapsed": true
   },
   "outputs": [],
   "source": [
    "# Command line # \n",
    "cd /shared/s3/emerge/eigenstrat/results\n",
    "\n",
    "# Grab top 10 eigenvectors from PCA \n",
    "ancestry=\"ea\"\n",
    "# Extract eigenvectors\n",
    "echo \"FID IID EV1 EV2 EV3 EV4 EV5 EV6 EV7 EV8 EV9 EV10\" > ${ancestry}_ld_pruned_top10_eigenvecs.txt\n",
    "tail -n +2 ${ancestry}_ld_pruned.pca.evec | \\\n",
    "    perl -lne 's/:/ /; @F=split; print join(\" \",$F[0],$F[1],$F[2],$F[3],$F[4],$F[5],$F[6],$F[7],$F[8],$F[9],$F[10],$F[11]);' \\\n",
    "    >> ${ancestry}_ld_pruned_top10_eigenvecs.txt"
   ]
  },
  {
   "cell_type": "markdown",
   "metadata": {},
   "source": [
    "## Phenotype processing\n",
    "### Retrieve covariates and generate mapping file\n",
    "The covariates we want to include are age and sex. Sex is encoded as M=Male and F=Female. \n",
    "\n",
    "\n",
    "#### Create ped file"
   ]
  },
  {
   "cell_type": "code",
   "execution_count": null,
   "metadata": {
    "collapsed": true
   },
   "outputs": [],
   "source": [
    "# Command line # \n",
    "cd /shared/s3/emerge/data/phenotype\n",
    "\n",
    "### R ###\n",
    "p.data <- \"emerge_ftnd_filtered.txt\"\n",
    "pheno.data <- read.csv(p.data, sep = \" \", header = T, stringsAsFactors = F, \n",
    "                       colClasses=c(\"integer\", \"character\", \"integer\", \"integer\"))\n",
    "\n",
    "pca.data <- read.csv(\"../../eigenstrat/results/ea_ld_pruned_top10_eigenvecs.txt\", sep = \" \" , \n",
    "                    colClasses=c(rep(\"character\",times=2), rep(\"double\",times = 10)))\n",
    "\n",
    "num.subjects <- length(pca.data[,1])\n",
    "\n",
    "ped.file <- data.frame(matrix(ncol = 7, nrow = num.subjects))\n",
    "colnames(ped.file) <- c(\"fid\", \"iid\", \"patid\", \"matid\", \"sex\",  \"ftnd\", \"age\")\n",
    "ped.file[,1] <- pca.data[,1]\n",
    "ped.file[,2] <- pca.data[,2]\n",
    "\n",
    "# map loop (goal to fill in sex age, and ftnd data on ped.file from the pheno.data)\n",
    "for (i in 1:num.subjects){\n",
    "    key <- noquote(ped.file[i,2])\n",
    "    \n",
    "    my_match <- match(key, pheno.data[,1])\n",
    "    ped.file[i,5] <- pheno.data[my_match,2]\n",
    "    ped.file[i,6] <- pheno.data[my_match,4]\n",
    "    ped.file[i,7] <- pheno.data[my_match,3]\n",
    "    \n",
    "} # end i loop\n",
    "\n",
    "write.table(ped.file[,1:6], \"eMERGE_EUR_phen.ped\", sep = \"\\t\", row.names = F, quote=F)"
   ]
  },
  {
   "cell_type": "markdown",
   "metadata": {},
   "source": [
    "#### Create cov file"
   ]
  },
  {
   "cell_type": "code",
   "execution_count": null,
   "metadata": {
    "collapsed": true
   },
   "outputs": [],
   "source": [
    "covar.data <- data.frame(matrix(ncol = 16, nrow = num.subjects))\n",
    "colnames(covar.data) <- c(\"fid\", \"iid\", \"patid\", \"matid\", \"sex\", \"age\", \n",
    "                        \"PC1\", \"PC2\",\"PC3\",\"PC4\",\"PC5\",\"PC6\",\"PC7\",\"PC8\",\"PC9\",\"PC10\")\n",
    "covar.data[,1:5] <- ped.file[,1:5]\n",
    "covar.data[,6] <- ped.file[,7]\n",
    "\n",
    "covar.data[,7:length(covar.data)] <- pca.data[,3:length(pca.data)]\n",
    "\n",
    "write.table(covar.data, \"eMERGE_EUR_cov.ped\", quote=FALSE, row.names = FALSE, sep = \"\\t\")"
   ]
  },
  {
   "cell_type": "markdown",
   "metadata": {},
   "source": [
    "## PC Selection\n",
    "Determine which PCs (eigenvectors) contribute the most influence and include them in the GWAS as covariates. Include the PCs which contribute to at least %75 of the variance.\n",
    "\n",
    "__Note__: we will perform this on our local machine for convenience."
   ]
  },
  {
   "cell_type": "code",
   "execution_count": null,
   "metadata": {
    "collapsed": true
   },
   "outputs": [],
   "source": [
    "cd /cygdrive/c/Users/jmarks/Desktop/Projects/Nicotine/eMerge/phenotype\n",
    "scp  -i ~/.ssh/gwas_rsa ec2-user@35.171.207.199:/shared/s3/emerge/data/phenotype/eMERGE* ."
   ]
  },
  {
   "cell_type": "code",
   "execution_count": 164,
   "metadata": {
    "collapsed": true
   },
   "outputs": [],
   "source": [
    "### R console ###\n",
    "\n",
    "# Load PCA data\n",
    "setwd('C:/Users/jmarks/Desktop/Projects/Nicotine/eMerge/phenotype')\n",
    "options(stringsAsFactors=F)\n",
    "ea.cov.data <- read.delim(\"eMERGE_EUR_cov.ped\", header=T, sep=\"\\t\")\n",
    "ea.phen.data <- read.delim(\"eMERGE_EUR_phen.ped\", header=T, sep=\"\\t\")\n",
    "\n",
    "# Combine PCs and phenotype into one data frame\n",
    "phen.name <- \"ftnd\"\n",
    "pc.names <- paste0(\"PC\", 1:10)\n",
    "ea.data <- merge(x=ea.phen.data[,c(\"iid\",phen.name)], y=ea.cov.data[, c(\"iid\", paste0(\"PC\",1:10))], by=\"iid\")"
   ]
  },
  {
   "cell_type": "markdown",
   "metadata": {},
   "source": [
    "## Regression analysis\n",
    "We use a regression model of the general structure\n",
    "\\begin{align}\n",
    "\\text{FTND = PC1 + PC2 + ... + PC10}\n",
    "\\end{align}"
   ]
  },
  {
   "cell_type": "code",
   "execution_count": 165,
   "metadata": {},
   "outputs": [
    {
     "name": "stdout",
     "output_type": "stream",
     "text": [
      "MODEL FORMULA:\n",
      "\n",
      " ftnd ~ PC1 + PC2 + PC3 + PC4 + PC5 + PC6 + PC7 + PC8 + PC9 + PC10 \n",
      "\n",
      "\n",
      "================ EA group ================"
     ]
    },
    {
     "data": {
      "text/plain": [
       "\n",
       "Call:\n",
       "lm(formula = as.formula(model.str), data = ea.data)\n",
       "\n",
       "Residuals:\n",
       "    Min      1Q  Median      3Q     Max \n",
       "-0.6090 -0.4094 -0.3656  0.5761  1.6837 \n",
       "\n",
       "Coefficients:\n",
       "            Estimate Std. Error t value Pr(>|t|)    \n",
       "(Intercept)  0.39014    0.02820  13.833   <2e-16 ***\n",
       "PC1         -1.14680    0.60643  -1.891   0.0593 .  \n",
       "PC2         -0.08045    0.60764  -0.132   0.8947    \n",
       "PC3          1.33007    0.65308   2.037   0.0423 *  \n",
       "PC4         -0.64129    0.74269  -0.863   0.3883    \n",
       "PC5         -0.72455    0.75460  -0.960   0.3375    \n",
       "PC6          0.91615    0.61342   1.494   0.1360    \n",
       "PC7          0.14748    0.63624   0.232   0.8168    \n",
       "PC8          0.14684    0.61319   0.239   0.8109    \n",
       "PC9          0.02182    0.60708   0.036   0.9713    \n",
       "PC10         0.54465    0.60568   0.899   0.3690    \n",
       "---\n",
       "Signif. codes:  0 '***' 0.001 '**' 0.01 '*' 0.05 '.' 0.1 ' ' 1\n",
       "\n",
       "Residual standard error: 0.6054 on 451 degrees of freedom\n",
       "  (3 observations deleted due to missingness)\n",
       "Multiple R-squared:  0.02827,\tAdjusted R-squared:  0.006725 \n",
       "F-statistic: 1.312 on 10 and 451 DF,  p-value: 0.221\n"
      ]
     },
     "metadata": {},
     "output_type": "display_data"
    },
    {
     "data": {
      "text/html": [
       "<table>\n",
       "<thead><tr><th></th><th scope=col>Df</th><th scope=col>Sum Sq</th><th scope=col>Mean Sq</th><th scope=col>F value</th><th scope=col>Pr(&gt;F)</th><th scope=col>PVE</th></tr></thead>\n",
       "<tbody>\n",
       "\t<tr><th scope=row>PC3</th><td>1           </td><td>1.6984074683</td><td>1.6984074683</td><td>4.634444529 </td><td>0.03186602  </td><td>35.32       </td></tr>\n",
       "\t<tr><th scope=row>PC1</th><td>1           </td><td>1.3197970814</td><td>1.3197970814</td><td>3.601330351 </td><td>0.05837168  </td><td>27.45       </td></tr>\n",
       "\t<tr><th scope=row>PC6</th><td>1           </td><td>0.8395773757</td><td>0.8395773757</td><td>2.290954820 </td><td>0.13083029  </td><td>17.46       </td></tr>\n",
       "\t<tr><th scope=row>PC4</th><td>1           </td><td>0.3017800196</td><td>0.3017800196</td><td>0.823467152 </td><td>0.36465300  </td><td> 6.28       </td></tr>\n",
       "\t<tr><th scope=row>PC5</th><td>1           </td><td>0.3001552471</td><td>0.3001552471</td><td>0.819033635 </td><td>0.36594605  </td><td> 6.24       </td></tr>\n",
       "\t<tr><th scope=row>PC10</th><td>1           </td><td>0.2963442956</td><td>0.2963442956</td><td>0.808634692 </td><td>0.36900407  </td><td> 6.16       </td></tr>\n",
       "\t<tr><th scope=row>PC8</th><td>1           </td><td>0.0206918444</td><td>0.0206918444</td><td>0.056461837 </td><td>0.81228607  </td><td> 0.43       </td></tr>\n",
       "\t<tr><th scope=row>PC7</th><td>1           </td><td>0.0170003505</td><td>0.0170003505</td><td>0.046388857 </td><td>0.82956786  </td><td> 0.35       </td></tr>\n",
       "\t<tr><th scope=row>PC2</th><td>1           </td><td>0.0143163060</td><td>0.0143163060</td><td>0.039064905 </td><td>0.84340918  </td><td> 0.30       </td></tr>\n",
       "\t<tr><th scope=row>PC9</th><td>1           </td><td>0.0005070603</td><td>0.0005070603</td><td>0.001383616 </td><td>0.97034440  </td><td> 0.01       </td></tr>\n",
       "</tbody>\n",
       "</table>\n"
      ],
      "text/latex": [
       "\\begin{tabular}{r|llllll}\n",
       "  & Df & Sum Sq & Mean Sq & F value & Pr(>F) & PVE\\\\\n",
       "\\hline\n",
       "\tPC3 & 1            & 1.6984074683 & 1.6984074683 & 4.634444529  & 0.03186602   & 35.32       \\\\\n",
       "\tPC1 & 1            & 1.3197970814 & 1.3197970814 & 3.601330351  & 0.05837168   & 27.45       \\\\\n",
       "\tPC6 & 1            & 0.8395773757 & 0.8395773757 & 2.290954820  & 0.13083029   & 17.46       \\\\\n",
       "\tPC4 & 1            & 0.3017800196 & 0.3017800196 & 0.823467152  & 0.36465300   &  6.28       \\\\\n",
       "\tPC5 & 1            & 0.3001552471 & 0.3001552471 & 0.819033635  & 0.36594605   &  6.24       \\\\\n",
       "\tPC10 & 1            & 0.2963442956 & 0.2963442956 & 0.808634692  & 0.36900407   &  6.16       \\\\\n",
       "\tPC8 & 1            & 0.0206918444 & 0.0206918444 & 0.056461837  & 0.81228607   &  0.43       \\\\\n",
       "\tPC7 & 1            & 0.0170003505 & 0.0170003505 & 0.046388857  & 0.82956786   &  0.35       \\\\\n",
       "\tPC2 & 1            & 0.0143163060 & 0.0143163060 & 0.039064905  & 0.84340918   &  0.30       \\\\\n",
       "\tPC9 & 1            & 0.0005070603 & 0.0005070603 & 0.001383616  & 0.97034440   &  0.01       \\\\\n",
       "\\end{tabular}\n"
      ],
      "text/markdown": [
       "\n",
       "| <!--/--> | Df | Sum Sq | Mean Sq | F value | Pr(>F) | PVE | \n",
       "|---|---|---|---|---|---|---|---|---|---|\n",
       "| PC3 | 1            | 1.6984074683 | 1.6984074683 | 4.634444529  | 0.03186602   | 35.32        | \n",
       "| PC1 | 1            | 1.3197970814 | 1.3197970814 | 3.601330351  | 0.05837168   | 27.45        | \n",
       "| PC6 | 1            | 0.8395773757 | 0.8395773757 | 2.290954820  | 0.13083029   | 17.46        | \n",
       "| PC4 | 1            | 0.3017800196 | 0.3017800196 | 0.823467152  | 0.36465300   |  6.28        | \n",
       "| PC5 | 1            | 0.3001552471 | 0.3001552471 | 0.819033635  | 0.36594605   |  6.24        | \n",
       "| PC10 | 1            | 0.2963442956 | 0.2963442956 | 0.808634692  | 0.36900407   |  6.16        | \n",
       "| PC8 | 1            | 0.0206918444 | 0.0206918444 | 0.056461837  | 0.81228607   |  0.43        | \n",
       "| PC7 | 1            | 0.0170003505 | 0.0170003505 | 0.046388857  | 0.82956786   |  0.35        | \n",
       "| PC2 | 1            | 0.0143163060 | 0.0143163060 | 0.039064905  | 0.84340918   |  0.30        | \n",
       "| PC9 | 1            | 0.0005070603 | 0.0005070603 | 0.001383616  | 0.97034440   |  0.01        | \n",
       "\n",
       "\n"
      ],
      "text/plain": [
       "     Df Sum Sq       Mean Sq      F value     Pr(>F)     PVE  \n",
       "PC3  1  1.6984074683 1.6984074683 4.634444529 0.03186602 35.32\n",
       "PC1  1  1.3197970814 1.3197970814 3.601330351 0.05837168 27.45\n",
       "PC6  1  0.8395773757 0.8395773757 2.290954820 0.13083029 17.46\n",
       "PC4  1  0.3017800196 0.3017800196 0.823467152 0.36465300  6.28\n",
       "PC5  1  0.3001552471 0.3001552471 0.819033635 0.36594605  6.24\n",
       "PC10 1  0.2963442956 0.2963442956 0.808634692 0.36900407  6.16\n",
       "PC8  1  0.0206918444 0.0206918444 0.056461837 0.81228607  0.43\n",
       "PC7  1  0.0170003505 0.0170003505 0.046388857 0.82956786  0.35\n",
       "PC2  1  0.0143163060 0.0143163060 0.039064905 0.84340918  0.30\n",
       "PC9  1  0.0005070603 0.0005070603 0.001383616 0.97034440  0.01"
      ]
     },
     "metadata": {},
     "output_type": "display_data"
    }
   ],
   "source": [
    "# Build model formula\n",
    "model.str <- paste0(phen.name, \" ~ \", paste(pc.names, collapse=\" + \"))\n",
    "cat(\"MODEL FORMULA:\\n\\n\", model.str, \"\\n\")\n",
    "\n",
    "# Get model fits\n",
    "lm.fit.ea <- lm(formula=as.formula(model.str), data=ea.data)\n",
    "\n",
    "# Get sequential (type I) sum of squares\n",
    "anova.ea <- anova(lm.fit.ea)\n",
    "\n",
    "# Calculate percent variance explained and sort\n",
    "ea.pve <- cbind(anova.ea[pc.names,], \n",
    "                PVE=round(anova.ea[pc.names, \"Mean Sq\"]/sum(anova.ea[pc.names, \"Mean Sq\"])*100, digits=2))\n",
    "ea.pve.sorted <- ea.pve[order(ea.pve$PVE, decreasing=T),]\n",
    "\n",
    "# Output regression info\n",
    "cat(\"\\n\\n================ EA group ================\")\n",
    "summary(lm.fit.ea)\n",
    "ea.pve.sorted"
   ]
  },
  {
   "cell_type": "markdown",
   "metadata": {},
   "source": [
    "## Percent Variance Explained Visualization"
   ]
  },
  {
   "cell_type": "code",
   "execution_count": 166,
   "metadata": {},
   "outputs": [
    {
     "data": {
      "image/png": "[encoded data removed]",
      "text/plain": [
       "Plot with title \"EA PVE Cumulative Sum\""
      ]
     },
     "metadata": {},
     "output_type": "display_data"
    },
    {
     "data": {
      "image/png": "[encoded data removed]",
      "text/plain": [
       "Plot with title \"EA PVE Cumulative Sum (Sorted PCs)\""
      ]
     },
     "metadata": {},
     "output_type": "display_data"
    }
   ],
   "source": [
    "options(repr.plot.width=13, repr.plot.height=5)\n",
    "\n",
    "# Set graphical parameters\n",
    "cex.factor = 0.9\n",
    "barplot.ylim.ea = c(0, max(ea.pve$PVE)*1.2)\n",
    "\n",
    "# Visualize PVE\n",
    "par(mfrow=c(1,2))\n",
    "barplot(height=ea.pve$PVE, names.arg=rownames(ea.pve), beside=T, cex.names=cex.factor, \n",
    "        col=\"red3\", border=\"red3\", ylim=barplot.ylim.ea, \n",
    "        main=\"EA Percent Variance Explained\", ylab=\"PVE\")\n",
    "plot(cumsum(ea.pve$PVE), type=\"b\", main=\"EA PVE Cumulative Sum\", ylab=\"PVE\", \n",
    "     lwd=2, col=\"red3\", pch=17, xaxt=\"n\", xlab=\"\", ylim=c(0,100))\n",
    "axis(side=1, at=c(1:10), labels=rownames(ea.pve), cex.axis=cex.factor)\n",
    "\n",
    "par(mfrow=c(1,2))\n",
    "barplot(height=ea.pve.sorted$PVE, names.arg=rownames(ea.pve.sorted), beside=T, cex.names=cex.factor, \n",
    "        col=\"red3\", border=\"red3\", ylim=barplot.ylim.ea, main=\"EA Percent Variance Explained (Sorted PCs)\", ylab=\"PVE\")\n",
    "plot(cumsum(ea.pve.sorted$PVE), type=\"b\", main=\"EA PVE Cumulative Sum (Sorted PCs)\", ylab=\"PVE\", \n",
    "     lwd=2, col=\"red3\", pch=17, xaxt=\"n\", xlab=\"\", ylim=c(0,100))\n",
    "axis(side=1, at=c(1:10), labels=rownames(ea.pve.sorted), cex.axis=cex.factor)"
   ]
  },
  {
   "cell_type": "markdown",
   "metadata": {
    "collapsed": true
   },
   "source": [
    "Based on these results, we will use PC3, PC1, and PC6 in the GWAS as covariates. These PCs contribute to >75% of the percent variance explained."
   ]
  },
  {
   "cell_type": "markdown",
   "metadata": {},
   "source": [
    "## Run GWAS\n",
    "Need to convert the imputed data files from VCF format to mldose. We will be using the NextFlow pipeline, which has been tailored to expect ouput from IMPUTE2 that has been converted to mldose format. "
   ]
  },
  {
   "cell_type": "code",
   "execution_count": null,
   "metadata": {
    "collapsed": true
   },
   "outputs": [],
   "source": []
  },
  {
   "cell_type": "code",
   "execution_count": null,
   "metadata": {
    "collapsed": true
   },
   "outputs": [],
   "source": [
    "### EC2 console ###\n",
    "cd /shared/s3/emerge/data\n",
    "mkdir assoc_tests\n",
    "\n",
    "\n"
   ]
  },
  {
   "cell_type": "code",
   "execution_count": null,
   "metadata": {
    "collapsed": true
   },
   "outputs": [],
   "source": []
  },
  {
   "cell_type": "code",
   "execution_count": null,
   "metadata": {
    "collapsed": true
   },
   "outputs": [],
   "source": []
  },
  {
   "cell_type": "code",
   "execution_count": null,
   "metadata": {
    "collapsed": true
   },
   "outputs": [],
   "source": []
  },
  {
   "cell_type": "code",
   "execution_count": null,
   "metadata": {
    "collapsed": true
   },
   "outputs": [],
   "source": []
  },
  {
   "cell_type": "code",
   "execution_count": null,
   "metadata": {
    "collapsed": true
   },
   "outputs": [],
   "source": []
  },
  {
   "cell_type": "code",
   "execution_count": null,
   "metadata": {
    "collapsed": true
   },
   "outputs": [],
   "source": []
  },
  {
   "cell_type": "code",
   "execution_count": null,
   "metadata": {
    "collapsed": true
   },
   "outputs": [],
   "source": []
  },
  {
   "cell_type": "code",
   "execution_count": null,
   "metadata": {
    "collapsed": true
   },
   "outputs": [],
   "source": []
  },
  {
   "cell_type": "code",
   "execution_count": null,
   "metadata": {
    "collapsed": true
   },
   "outputs": [],
   "source": []
  },
  {
   "cell_type": "code",
   "execution_count": null,
   "metadata": {
    "collapsed": true
   },
   "outputs": [],
   "source": []
  },
  {
   "cell_type": "code",
   "execution_count": null,
   "metadata": {
    "collapsed": true
   },
   "outputs": [],
   "source": []
  },
  {
   "cell_type": "code",
   "execution_count": null,
   "metadata": {
    "collapsed": true
   },
   "outputs": [],
   "source": []
  },
  {
   "cell_type": "code",
   "execution_count": null,
   "metadata": {
    "collapsed": true
   },
   "outputs": [],
   "source": []
  },
  {
   "cell_type": "code",
   "execution_count": null,
   "metadata": {
    "collapsed": true
   },
   "outputs": [],
   "source": []
  },
  {
   "cell_type": "code",
   "execution_count": null,
   "metadata": {
    "collapsed": true
   },
   "outputs": [],
   "source": []
  },
  {
   "cell_type": "code",
   "execution_count": null,
   "metadata": {
    "collapsed": true
   },
   "outputs": [],
   "source": []
  },
  {
   "cell_type": "code",
   "execution_count": null,
   "metadata": {
    "collapsed": true
   },
   "outputs": [],
   "source": []
  },
  {
   "cell_type": "code",
   "execution_count": null,
   "metadata": {
    "collapsed": true
   },
   "outputs": [],
   "source": []
  },
  {
   "cell_type": "code",
   "execution_count": null,
   "metadata": {
    "collapsed": true
   },
   "outputs": [],
   "source": []
  },
  {
   "cell_type": "markdown",
   "metadata": {},
   "source": [
    "## S3 data transfer"
   ]
  },
  {
   "cell_type": "code",
   "execution_count": null,
   "metadata": {
    "collapsed": true
   },
   "outputs": [],
   "source": [
    "# Copy phenotype data\n",
    "cd /shared/s3/emerge/data/phenotype\n",
    "aws s3 cp ./ s3://rti-nd/eMERGE/emerge_ftnd/data/phenotype \\\n",
    "    --recursive --exclude=\"*\" --include=\"*ped.gz\" --quiet &\n",
    "\n",
    "cd /shared/s3/emerge_ftnd/data/assoc_tests\n",
    "# Copy association test results\n",
    "aws s3 cp ./ s3://rti-nd/eMERGE/emerge_ftnd/results/rvtest/ \\\n",
    "    --recursive --exclude=\"*\" --include=\"*MetaScore*gz*\" --quiet &\n",
    "aws s3 cp ./ s3://rti-nd/eMERGE/emerge_ftnd/results/figures/ \\\n",
    "    --recursive --exclude=\"*\" --include=\"*.png.gz\" --quiet &\n",
    "\n",
    "\n",
    "\n",
    "\n",
    "\n",
    "\n",
    "ancestry=ea\n",
    "# copy imputation files\n",
    "cd /shared/sandbox/emerge_ftnd/genotype/imputed/\n",
    "\n",
    "# chrX (male) data\n",
    "aws s3 cp chrX.no.auto_male.dose.vcf.gz.tbi s3://rti-nd/eMERGE/emerge_ftnd/data/genotype/imputed/ea/chrX.no.auto_male.dose.vcf.gz.tbi \n",
    "aws s3 cp chrX.no.auto_male.dose.vcf.gz s3://rti-nd/eMERGE/emerge_ftnd/data/genotype/imputed/ea/chrX.no.auto_male.dose.vcf.gz --quiet &     \n",
    "aws s3 cp chrX.no.auto_male.info.gz s3://rti-nd/eMERGE/emerge_ftnd/data/genotype/imputed/ea/chrX.no.auto_male.info.gz --quiet &     \n",
    "\n",
    "# chrX (female) data\n",
    "aws s3 cp chrX.no.auto_female.dose.vcf.gz.tbi s3://rti-nd/eMERGE/emerge_ftnd/data/genotype/imputed/ea/chrX.no.auto_female.dose.vcf.gz.tbi \n",
    "aws s3 cp chrX.no.auto_female.dose.vcf.gz s3://rti-nd/eMERGE/emerge_ftnd/data/genotype/imputed/ea/chrX.no.auto_female.dose.vcf.gz --quiet &     \n",
    "aws s3 cp chrX.no.auto_female.info.gz s3://rti-nd/eMERGE/emerge_ftnd/data/genotype/imputed/ea/chrX.no.auto_female.info.gz --quiet &     \n",
    "\n",
    "\n",
    "aws s3 cp snp_stats/ s3://rti-nd/eMERGE/emerge_ftnd/data/genotype/imputed/${ancestry}/ \\\n",
    "    --recursive --exclude \"*\" --include \"*.txt\" --quiet &\n",
    "aws s3 cp qc_report/ s3://rti-nd/eMERGE/emerge_ftnd/data/genotype/imputed/${ancestry}/ \\\n",
    "    --recursive --exclude \"*\" --include \"*.html\" --quiet &\n",
    "aws s3 cp logs/ s3://rti-nd/eMERGE/emerge_ftnd/data/genotype/imputed/${ancestry}/ \\\n",
    "    --recursive --exclude \"*\" --include \"*.log\" --quiet &\n",
    "\n",
    "# submit upload as a job\n",
    "--------------------------------------------------------------------------------\n",
    "## copy imputation files\n",
    "/shared/s3/emerge/data/genotype/imputed\n",
    "ancestry=ea\n",
    "for ext in {\\\"*.info.gz\\\",\\\"*dose.vcf.gz\\\",\\\"*dose.vcf.gz.tbi\\\",\\\"*.txt\\\"}; do\n",
    "/shared/bioinformatics/software/scripts/qsub_job.sh \\\n",
    "        --job_name s3_upload_emerge \\\n",
    "        --script_prefix _${ext} \\\n",
    "        --mem 5 \\\n",
    "        --nslots 1 \\\n",
    "        --program \"aws s3 cp . s3://rti-nd/eMERGE/emerge_ftnd/data/genotype/imputed/${ancestry}/ \\\n",
    "            --recursive --exclude \\\"*\\\" --include $ext \"\n",
    "done\n",
    "            "
   ]
  },
  {
   "cell_type": "code",
   "execution_count": null,
   "metadata": {
    "collapsed": true
   },
   "outputs": [],
   "source": []
  },
  {
   "cell_type": "code",
   "execution_count": null,
   "metadata": {
    "collapsed": true
   },
   "outputs": [],
   "source": []
  },
  {
   "cell_type": "code",
   "execution_count": null,
   "metadata": {
    "collapsed": true
   },
   "outputs": [],
   "source": []
  },
  {
   "cell_type": "code",
   "execution_count": null,
   "metadata": {
    "collapsed": true
   },
   "outputs": [],
   "source": []
  },
  {
   "cell_type": "code",
   "execution_count": null,
   "metadata": {
    "collapsed": true
   },
   "outputs": [],
   "source": []
  },
  {
   "cell_type": "code",
   "execution_count": null,
   "metadata": {
    "collapsed": true
   },
   "outputs": [],
   "source": []
  },
  {
   "cell_type": "code",
   "execution_count": null,
   "metadata": {
    "collapsed": true
   },
   "outputs": [],
   "source": []
  },
  {
   "cell_type": "code",
   "execution_count": null,
   "metadata": {
    "collapsed": true
   },
   "outputs": [],
   "source": []
  },
  {
   "cell_type": "code",
   "execution_count": null,
   "metadata": {
    "collapsed": true
   },
   "outputs": [],
   "source": []
  },
  {
   "cell_type": "code",
   "execution_count": null,
   "metadata": {
    "collapsed": true
   },
   "outputs": [],
   "source": []
  },
  {
   "cell_type": "code",
   "execution_count": null,
   "metadata": {
    "collapsed": true
   },
   "outputs": [],
   "source": []
  },
  {
   "cell_type": "code",
   "execution_count": null,
   "metadata": {
    "collapsed": true
   },
   "outputs": [],
   "source": []
  },
  {
   "cell_type": "code",
   "execution_count": null,
   "metadata": {
    "collapsed": true
   },
   "outputs": [],
   "source": []
  }
 ],
 "metadata": {
  "kernelspec": {
   "display_name": "R",
   "language": "R",
   "name": "ir"
  },
  "language_info": {
   "codemirror_mode": "r",
   "file_extension": ".r",
   "mimetype": "text/x-r-source",
   "name": "R",
   "pygments_lexer": "r",
   "version": "3.4.1"
  },
  "toc": {
   "nav_menu": {},
   "number_sections": true,
   "sideBar": true,
   "skip_h1_title": false,
   "toc_cell": false,
   "toc_position": {},
   "toc_section_display": "block",
   "toc_window_display": false
  }
 },
 "nbformat": 4,
 "nbformat_minor": 2
}
