{
 "cells": [
  {
   "cell_type": "markdown",
   "metadata": {},
   "source": [
    "# VCF file from MIS\n",
    "##fileformat=VCFv4.1\n",
    "##filedate=2018.3.17\n",
    "##source=Minimac3\n",
    "##contig=<ID=15>\n",
    "##FILTER=<ID=GENOTYPED,Description=\"Marker was genotyped AND imputed\">\n",
    "##FILTER=<ID=GENOTYPED_ONLY,Description=\"Marker was genotyped but NOT imputed\">\n",
    "##FORMAT=<ID=GT,Number=1,Type=String,Description=\"Genotype\">\n",
    "##FORMAT=<ID=DS,Number=1,Type=Float,Description=\"Estimated Alternate Allele Dosage : [P(0/1)+2*P(1/1)]\">\n",
    "##FORMAT=<ID=GP,Number=3,Type=Float,Description=\"Estimated Posterior Probabilities for Genotypes 0/0, 0/1 and 1/1 \">\n",
    "##INFO=<ID=AF,Number=1,Type=Float,Description=\"Estimated Alternate Allele Frequency\">\n",
    "##INFO=<ID=MAF,Number=1,Type=Float,Description=\"Estimated Minor Allele Frequency\">\n",
    "##INFO=<ID=R2,Number=1,Type=Float,Description=\"Estimated Imputation Accuracy\">\n",
    "##INFO=<ID=ER2,Number=1,Type=Float,Description=\"Empirical (Leave-One-Out) R-square (available only for genotyped variants)\n",
    "\">\n",
    "#CHROM  POS     ID      REF     ALT     QUAL    FILTER  INFO    FORMAT  EMERGE-1_16224699       EMERGE-1_16224832       EM\n",
    "ERGE-1_16225552 EMERGE-1_16225624       EMERGE-1_16226154       EMERGE-1_16233448       EMERGE-2_16229819       EMERGE-3_1\n",
    "6218877 EMERGE-3_16219796       EMERGE-3_16220543       EMERGE-3_16220698       EMERGE-3_16220967       EMERGE-3_16221838EMERGE-3_16222896        EMERGE-3_16223176       EMERGE-3_16223472       EMERGE-3_16223514       EMERGE-3_16223639       EM\n",
    "ERGE-3_16225243 EMERGE-3_16225590       EMERGE-3_16225928       EMERGE-3_16226294       EMERGE-3_16228484       EMERGE-3_1\n",
    "6228513 EMERGE-3_16229771       EMERGE-3_16229817       EMERGE-3_16229912       EMERGE-3_16230463       EMERGE-3_16230480EMERGE-3_16230920        EMERGE-3_16232087       EMERGE-3_16232393       EMERGE-3_16232421       EMERGE-3_16232533       EM\n",
    "ERGE-3_16233580 EMERGE-3_16234445       EMERGE-3_16234448       EMERGE-4_16226213       EMERGE-4_16226273       EMERGE-5_1\n",
    "6223236 EMERGE-6_16221489       EMERGE-7_16220844       EMERGE-8_16220003       EMERGE-9_16217786       EMERGE-9_16231695EMERGE-10_16230033       EMERGE-10_16230638      EMERGE-11_16214874      EMERGE-11_16215381      EMERGE-11_16215457  \n",
    "\n",
    "---\n",
    "\n",
    "\n",
    "\n",
    "**rs16969968 gwas results**\n",
    "rs16969968 15 78882925 G A 0.34688 0.34688 0.997 0.98853 730 0.352004 0.0525009 0.0338811 2.42038 2.4011455861625 0.121246432020861 1.05(0.99-1.13)\n"
   ]
  },
  {
   "cell_type": "markdown",
   "metadata": {},
   "source": [
    "## info file\n",
    "SNP     REF(0)  ALT(1)  ALT_Frq MAF     AvgCall Rsq     Genotyped       LooRsq  EmpR    EmpRsq  Dose0   Dose1\n",
    "15:20000041     T       A       0.00594 0.00594 0.99406 0.00013 Imputed -       -       -       -       -\n",
    "15:20000075     C       T       0.01359 0.01359 0.98641 0.00019 Imputed -       -       -       -       -\n",
    "15:20000114     G       T       0.00998 0.00998 0.99002 0.00040 Imputed -       -       -       -       -\n",
    "15:20000123     T       C       0.00113 0.00113 0.99887 0.00001 Imputed -       -       -       -       -\n",
    "15:20000127     A       T       0.00363 0.00363 0.99637 0.00006 Imputed -       -       -       -       -\n",
    "\n",
    "\n"
   ]
  },
  {
   "cell_type": "code",
   "execution_count": null,
   "metadata": {},
   "outputs": [],
   "source": []
  }
 ],
 "metadata": {
  "kernelspec": {
   "display_name": "R",
   "language": "R",
   "name": "ir"
  },
  "language_info": {
   "codemirror_mode": "r",
   "file_extension": ".r",
   "mimetype": "text/x-r-source",
   "name": "R",
   "pygments_lexer": "r",
   "version": "3.4.3"
  }
 },
 "nbformat": 4,
 "nbformat_minor": 2
}
