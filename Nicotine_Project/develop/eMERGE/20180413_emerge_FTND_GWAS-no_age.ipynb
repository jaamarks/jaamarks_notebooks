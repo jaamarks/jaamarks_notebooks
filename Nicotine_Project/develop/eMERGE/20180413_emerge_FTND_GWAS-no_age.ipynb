{
 "cells": [
  {
   "cell_type": "markdown",
   "metadata": {
    "toc": true
   },
   "source": [
    "<h1>Table of Contents<span class=\"tocSkip\"></span></h1>\n",
    "<div class=\"toc\" style=\"margin-top: 1em;\"><ul class=\"toc-item\"><li><span><a href=\"#eMERGE-Fagerstrom-Test-For-Nicotine-Dependence-(FTND)-GWAS\" data-toc-modified-id=\"eMERGE-Fagerstrom-Test-For-Nicotine-Dependence-(FTND)-GWAS-1\"><span class=\"toc-item-num\">1&nbsp;&nbsp;</span>eMERGE Fagerstrom Test For Nicotine Dependence (FTND) GWAS</a></span><ul class=\"toc-item\"><li><span><a href=\"#Software-and-tools\" data-toc-modified-id=\"Software-and-tools-1.1\"><span class=\"toc-item-num\">1.1&nbsp;&nbsp;</span>Software and tools</a></span></li><li><span><a href=\"#FTNDboth_cat-variable-description\" data-toc-modified-id=\"FTNDboth_cat-variable-description-1.2\"><span class=\"toc-item-num\">1.2&nbsp;&nbsp;</span>FTNDboth_cat variable description</a></span></li></ul></li><li><span><a href=\"#Prepare-files-for-ProbABEL\" data-toc-modified-id=\"Prepare-files-for-ProbABEL-2\"><span class=\"toc-item-num\">2&nbsp;&nbsp;</span>Prepare files for ProbABEL</a></span><ul class=\"toc-item\"><li><span><a href=\"#Phenotype-Data\" data-toc-modified-id=\"Phenotype-Data-2.1\"><span class=\"toc-item-num\">2.1&nbsp;&nbsp;</span>Phenotype Data</a></span><ul class=\"toc-item\"><li><span><a href=\"#Convert-Phenotype-Data-from-Strata-format-to-.csv-file\" data-toc-modified-id=\"Convert-Phenotype-Data-from-Strata-format-to-.csv-file-2.1.1\"><span class=\"toc-item-num\">2.1.1&nbsp;&nbsp;</span>Convert Phenotype Data from Strata format to .csv file</a></span></li><li><span><a href=\"#Filter-subjects-missing-any-FTND,-sex,-or-age-data\" data-toc-modified-id=\"Filter-subjects-missing-any-FTND,-sex,-or-age-data-2.1.2\"><span class=\"toc-item-num\">2.1.2&nbsp;&nbsp;</span>Filter subjects missing any FTND, sex, or age data</a></span></li><li><span><a href=\"#PCA-(EIGENSTRAT)\" data-toc-modified-id=\"PCA-(EIGENSTRAT)-2.1.3\"><span class=\"toc-item-num\">2.1.3&nbsp;&nbsp;</span>PCA (EIGENSTRAT)</a></span><ul class=\"toc-item\"><li><span><a href=\"#Construct-subject-filtered-PLINK-file-sets\" data-toc-modified-id=\"Construct-subject-filtered-PLINK-file-sets-2.1.3.1\"><span class=\"toc-item-num\">2.1.3.1&nbsp;&nbsp;</span>Construct subject-filtered PLINK file sets</a></span></li><li><span><a href=\"#Remove-high-LD-region-variants\" data-toc-modified-id=\"Remove-high-LD-region-variants-2.1.3.2\"><span class=\"toc-item-num\">2.1.3.2&nbsp;&nbsp;</span>Remove high-LD region variants</a></span></li><li><span><a href=\"#Linkage-disequilibrium-pruning\" data-toc-modified-id=\"Linkage-disequilibrium-pruning-2.1.3.3\"><span class=\"toc-item-num\">2.1.3.3&nbsp;&nbsp;</span>Linkage disequilibrium pruning</a></span></li><li><span><a href=\"#Rename-BIM/FAM-file-IDs\" data-toc-modified-id=\"Rename-BIM/FAM-file-IDs-2.1.3.4\"><span class=\"toc-item-num\">2.1.3.4&nbsp;&nbsp;</span>Rename BIM/FAM file IDs</a></span></li><li><span><a href=\"#Run-EIGENSTRAT\" data-toc-modified-id=\"Run-EIGENSTRAT-2.1.3.5\"><span class=\"toc-item-num\">2.1.3.5&nbsp;&nbsp;</span>Run EIGENSTRAT</a></span></li><li><span><a href=\"#View-PCs-from-EIGENSTRAT\" data-toc-modified-id=\"View-PCs-from-EIGENSTRAT-2.1.3.6\"><span class=\"toc-item-num\">2.1.3.6&nbsp;&nbsp;</span>View PCs from EIGENSTRAT</a></span></li><li><span><a href=\"#Extract-eigenvectors\" data-toc-modified-id=\"Extract-eigenvectors-2.1.3.7\"><span class=\"toc-item-num\">2.1.3.7&nbsp;&nbsp;</span>Extract eigenvectors</a></span></li></ul></li><li><span><a href=\"#PC-Selection\" data-toc-modified-id=\"PC-Selection-2.1.4\"><span class=\"toc-item-num\">2.1.4&nbsp;&nbsp;</span>PC Selection</a></span><ul class=\"toc-item\"><li><span><a href=\"#Create-ped-file\" data-toc-modified-id=\"Create-ped-file-2.1.4.1\"><span class=\"toc-item-num\">2.1.4.1&nbsp;&nbsp;</span>Create ped file</a></span></li><li><span><a href=\"#Create-cov-file\" data-toc-modified-id=\"Create-cov-file-2.1.4.2\"><span class=\"toc-item-num\">2.1.4.2&nbsp;&nbsp;</span>Create cov file</a></span></li><li><span><a href=\"#Regression-analysis\" data-toc-modified-id=\"Regression-analysis-2.1.4.3\"><span class=\"toc-item-num\">2.1.4.3&nbsp;&nbsp;</span>Regression analysis</a></span></li><li><span><a href=\"#Percent-Variance-Explained-Visualization\" data-toc-modified-id=\"Percent-Variance-Explained-Visualization-2.1.4.4\"><span class=\"toc-item-num\">2.1.4.4&nbsp;&nbsp;</span>Percent Variance Explained Visualization</a></span></li></ul></li><li><span><a href=\"#Construct-a-phenotype-file-for-ProbABEL-with-PCs\" data-toc-modified-id=\"Construct-a-phenotype-file-for-ProbABEL-with-PCs-2.1.5\"><span class=\"toc-item-num\">2.1.5&nbsp;&nbsp;</span>Construct a phenotype file for ProbABEL with PCs</a></span></li></ul></li><li><span><a href=\"#Genotype-Data\" data-toc-modified-id=\"Genotype-Data-2.2\"><span class=\"toc-item-num\">2.2&nbsp;&nbsp;</span>Genotype Data</a></span><ul class=\"toc-item\"><li><span><a href=\"#Inflate-imputation-results\" data-toc-modified-id=\"Inflate-imputation-results-2.2.1\"><span class=\"toc-item-num\">2.2.1&nbsp;&nbsp;</span>Inflate imputation results</a></span></li><li><span><a href=\"#Convert-VCF-files-to-MaCH-format\" data-toc-modified-id=\"Convert-VCF-files-to-MaCH-format-2.2.2\"><span class=\"toc-item-num\">2.2.2&nbsp;&nbsp;</span>Convert VCF files to MaCH format</a></span></li></ul></li></ul></li><li><span><a href=\"#Start-ProbABEL-Analysis\" data-toc-modified-id=\"Start-ProbABEL-Analysis-3\"><span class=\"toc-item-num\">3&nbsp;&nbsp;</span>Start ProbABEL Analysis</a></span><ul class=\"toc-item\"><li><ul class=\"toc-item\"><li><ul class=\"toc-item\"><li><span><a href=\"#Convert-mach-files-to-databel\" data-toc-modified-id=\"Convert-mach-files-to-databel-3.0.0.1\"><span class=\"toc-item-num\">3.0.0.1&nbsp;&nbsp;</span>Convert mach files to databel</a></span></li><li><span><a href=\"#Test-run-(one-whole-autosome-[chr1])\" data-toc-modified-id=\"Test-run-(one-whole-autosome-[chr1])-3.0.0.2\"><span class=\"toc-item-num\">3.0.0.2&nbsp;&nbsp;</span>Test run (one whole autosome [chr1])</a></span></li><li><span><a href=\"#Run-GWAS-(example-chr1)\" data-toc-modified-id=\"Run-GWAS-(example-chr1)-3.0.0.3\"><span class=\"toc-item-num\">3.0.0.3&nbsp;&nbsp;</span>Run GWAS (example chr1)</a></span></li></ul></li></ul></li><li><span><a href=\"#Run-GWAS-(all)\" data-toc-modified-id=\"Run-GWAS-(all)-3.1\"><span class=\"toc-item-num\">3.1&nbsp;&nbsp;</span>Run GWAS (all)</a></span><ul class=\"toc-item\"><li><span><a href=\"#First,-prepare-directory-structure-and-files.\" data-toc-modified-id=\"First,-prepare-directory-structure-and-files.-3.1.1\"><span class=\"toc-item-num\">3.1.1&nbsp;&nbsp;</span>First, prepare directory structure and files.</a></span></li><li><span><a href=\"#Reorder-and-prune-mach.dose-files-down-to-subjects-in-phenotype-file.\" data-toc-modified-id=\"Reorder-and-prune-mach.dose-files-down-to-subjects-in-phenotype-file.-3.1.2\"><span class=\"toc-item-num\">3.1.2&nbsp;&nbsp;</span>Reorder and prune mach.dose files down to subjects in phenotype file.</a></span></li><li><span><a href=\"#create-legend\" data-toc-modified-id=\"create-legend-3.1.3\"><span class=\"toc-item-num\">3.1.3&nbsp;&nbsp;</span>create legend</a></span></li><li><span><a href=\"#Perform-ProbABEL-analysis\" data-toc-modified-id=\"Perform-ProbABEL-analysis-3.1.4\"><span class=\"toc-item-num\">3.1.4&nbsp;&nbsp;</span>Perform ProbABEL analysis</a></span></li><li><span><a href=\"#GZIP-dose-files\" data-toc-modified-id=\"GZIP-dose-files-3.1.5\"><span class=\"toc-item-num\">3.1.5&nbsp;&nbsp;</span>GZIP dose files</a></span></li></ul></li></ul></li><li><span><a href=\"#Calculate-chi,-p,-and-OR\" data-toc-modified-id=\"Calculate-chi,-p,-and-OR-4\"><span class=\"toc-item-num\">4&nbsp;&nbsp;</span>Calculate chi, p, and OR</a></span></li><li><span><a href=\"#MAF-Filter\" data-toc-modified-id=\"MAF-Filter-5\"><span class=\"toc-item-num\">5&nbsp;&nbsp;</span>MAF Filter</a></span><ul class=\"toc-item\"><li><span><a href=\"#Convert-chr:position-to-rsID\" data-toc-modified-id=\"Convert-chr:position-to-rsID-5.1\"><span class=\"toc-item-num\">5.1&nbsp;&nbsp;</span>Convert chr:position to rsID</a></span></li><li><span><a href=\"#Make-impute2-maf-filtered-file\" data-toc-modified-id=\"Make-impute2-maf-filtered-file-5.2\"><span class=\"toc-item-num\">5.2&nbsp;&nbsp;</span>Make impute2 maf filtered file</a></span></li><li><span><a href=\"#Filter-by-MAF\" data-toc-modified-id=\"Filter-by-MAF-5.3\"><span class=\"toc-item-num\">5.3&nbsp;&nbsp;</span>Filter by MAF</a></span></li></ul></li><li><span><a href=\"#Generate-plots\" data-toc-modified-id=\"Generate-plots-6\"><span class=\"toc-item-num\">6&nbsp;&nbsp;</span>Generate plots</a></span><ul class=\"toc-item\"><li><ul class=\"toc-item\"><li><span><a href=\"#View-Plots\" data-toc-modified-id=\"View-Plots-6.0.1\"><span class=\"toc-item-num\">6.0.1&nbsp;&nbsp;</span>View Plots</a></span></li></ul></li><li><span><a href=\"#S3-data-transfer\" data-toc-modified-id=\"S3-data-transfer-6.1\"><span class=\"toc-item-num\">6.1&nbsp;&nbsp;</span>S3 data transfer</a></span></li><li><span><a href=\"#Sandbox\" data-toc-modified-id=\"Sandbox-6.2\"><span class=\"toc-item-num\">6.2&nbsp;&nbsp;</span>Sandbox</a></span></li><li><span><a href=\"#methods-file\" data-toc-modified-id=\"methods-file-6.3\"><span class=\"toc-item-num\">6.3&nbsp;&nbsp;</span>methods file</a></span></li></ul></li></ul></div>"
   ]
  },
  {
   "cell_type": "markdown",
   "metadata": {},
   "source": [
    "# eMERGE Fagerstrom Test For Nicotine Dependence (FTND) GWAS\n",
    "__Author:__ Jesse Marks\n",
    "\n",
    "\n",
    "This document logs the steps taken to process the electronic Medical Records and Genomics (eMERGE) Network data and perform the FTND GWAS. The [eMERGE](https://www.ncbi.nlm.nih.gov/projects/gap/cgi-bin/study.cgi?study_id=phs000360.v1.p1) Network is a consortium of five participating sites (Group Health Seattle, Marshfield Clinic, Mayo Clinic, Northwestern University, and Vanderbilt University). We will be processing the Marshfield cohort.\n",
    "\n",
    "FTND is a standard instrument for assessing the physical addiction to nicotine. For more information, see [this website](https://cde.drugabuse.gov/instrument/d7c0b0f5-b865-e4de-e040-bb89ad43202b).\n",
    "\n",
    "The genotype data were imputed on the [Michigan Imputation Server](https://imputationserver.sph.umich.edu/index.html).\n",
    "\n",
    "* We use the variable `FTNDboth_cat` variable that lumps together the former smokers that have lifetime FTND (N=736) with the current smokers that have current FTND (N=78). This will optimize sample size, especially since the severe category is slim."
   ]
  },
  {
   "cell_type": "markdown",
   "metadata": {},
   "source": [
    "## Software and tools\n",
    "The software and tools used for processing these data are\n",
    "\n",
    "* [Amazon Elastic Compute Cloud(EC2)](https://aws.amazon.com/ec2/)\n",
    "* GNU bash version 4.1.2\n",
    "* [PLINK v1.9 beta 3.45](https://www.cog-genomics.org/plink/)\n",
    "* [EIGENSOFT v4.2](https://www.hsph.harvard.edu/alkes-price/software/)\n",
    "* [R v3.2.3](https://www.r-project.org/)\n",
    "* R packages: MASS, moments\n",
    "* [ProbABEL](http://www.genabel.org/packages/ProbABEL)\n",
    "* [DosageConverter](https://genome.sph.umich.edu/wiki/DosageConvertor)"
   ]
  },
  {
   "cell_type": "markdown",
   "metadata": {},
   "source": [
    "## FTNDboth_cat variable description\n",
    "| cat | Freq |   |\n",
    "|-----|------|---|\n",
    "| 0   | 537  |   |\n",
    "| 1   | 217  |   |\n",
    "| 2   | 60   |   |\n",
    "\n",
    "Where FTND conversion is 0=0-3, 1=4-6, and 2=7+"
   ]
  },
  {
   "cell_type": "markdown",
   "metadata": {},
   "source": [
    "# Prepare files for ProbABEL"
   ]
  },
  {
   "cell_type": "markdown",
   "metadata": {},
   "source": [
    "## Phenotype Data"
   ]
  },
  {
   "cell_type": "markdown",
   "metadata": {},
   "source": [
    "### Convert Phenotype Data from Strata format to .csv file"
   ]
  },
  {
   "cell_type": "code",
   "execution_count": null,
   "metadata": {
    "collapsed": true
   },
   "outputs": [],
   "source": [
    "### R console (on local machine) ###\n",
    "library(haven)\n",
    "\n",
    "setwd('C:/Users/jmarks/Desktop/Projects/Nicotine/eMerge/phenotype/') # local machine\n",
    "\n",
    "\n",
    "## convert Stata data into comma separated ##\n",
    "pheno <- read_dta(\"FTND Phenotype.dta\") # .dta is strata format\n",
    "write.csv(pheno, file = \"FTND_pheno.csv\", row.names = F)\n",
    "pheno.ftnd <- read.table(\"FTND_pheno.csv\", header = T, sep = \",\") # catagorical data\n",
    "pheno.orig <- read.table(\"phs000170.v2.pht000737.v1.p1.c1.Marshfield_Data_Phenotype.HMB-GSO.txt\", \n",
    "                         header = T) # original data without FTND data\n",
    "num.subjects <- length(pheno.ftnd[['emergeid']])\n",
    "\n",
    "column_header <- c(\"emergeid\", \"sex\", \"ftnd\") # note might have other covariates such as age\n",
    "pheno.combined <- data.frame(matrix(ncol = length(column_header, nrow = num.subjects)) \n",
    "names(pheno.combined) <- column_header\n",
    "                             \n",
    "pheno.combined[1] <- pheno.ftnd[['emergeid']]\n",
    "pheno.combined[3] <- pheno.ftnd[['FTNDboth_cat']]\n",
    "\n",
    "# fill in age data\n",
    "for (i in 1:num.subjects) {\n",
    "index <- match(pheno.ftnd[i,\"emergeid\"], pheno.orig[[\"SUBJID\"]])\n",
    "pheno.combined[i,\"sex\"] <- as.character(pheno.orig[index, \"sex\"])\n",
    "#pheno.combined[i,\"age\"] <- pheno.orig[index, \"Age_First_Cataract_Diagnosis\"]\n",
    "}\n",
    "\n",
    "table(pheno.ftnd[[\"FTNDboth_cat\"]])"
   ]
  },
  {
   "cell_type": "markdown",
   "metadata": {},
   "source": [
    "### Filter subjects missing any FTND, sex, or age data\n",
    "Then write to file."
   ]
  },
  {
   "cell_type": "code",
   "execution_count": null,
   "metadata": {
    "collapsed": true
   },
   "outputs": [],
   "source": [
    "setwd(\"C:/Users/jmarks/Desktop/Projects/Nicotine/eMerge/phenotype\")\n",
    "\n",
    "# Total subjects\n",
    "length(pheno.ftnd[,1])\n",
    "\n",
    "# filter out any subject with NA for FTND\n",
    "filter_pheno <- pheno.combined[complete.cases(pheno.combined[,3]),]\n",
    "\n",
    "# Number filtered due to missing ftnd data\n",
    "length(pheno.combined[,1]) - length(filter_pheno[[1]])\n",
    "\n",
    "# filter out any subject missing age data\n",
    "#drop_age <- suppressWarnings(which(is.na(as.numeric(as.character(filter_pheno[[3]])))))\n",
    "#filter_pheno <- filter_pheno[-drop_age,]\n",
    "\n",
    "# filtered due to missing age data\n",
    "#length(drop_age)\n",
    "\n",
    "# filter out any subject missing age data (There were no missing sex entries)\n",
    "drop_sex <- which(filter_pheno[2] != \"M\" & filter_pheno[2] != \"F\")\n",
    "#filter_pheno <- drop_sex[-drop_sex,]\n",
    "# filtered due to missing sex data\n",
    "length(drop_sex)\n",
    "\n",
    "write.table(filter_pheno, \"no_age/emerge_ftnd_no_age.txt\", sep = \" \", row.names = F, quote = F)\n",
    "\n",
    "# subjects left\n",
    "length(filter_pheno[,1])\n",
    "head(filter_pheno)"
   ]
  },
  {
   "cell_type": "markdown",
   "metadata": {},
   "source": [
    "* 814 subjects left, in total. \n",
    "* 1455 filtered due to NA in FTND data\n",
    "* none were dropped due to missing sex data.\n",
    "\n",
    "| Filtering Criterion | Subjects Removed  | Total |\n",
    "|---------------------|-------------------|-------|\n",
    "| Initial Data        | 0                 | 2269  |\n",
    "| Missing FTND        | 1455              | 814   |\n",
    "| Missing sex         | 0                 | 507   |"
   ]
  },
  {
   "cell_type": "markdown",
   "metadata": {},
   "source": [
    "### PCA (EIGENSTRAT)\n",
    "\n",
    "To obtain principal component covariates to use in the GWAS statistical model, EIGENSTRAT is run on LD-pruned observed genotypes for each ancestry group. \n",
    "\n",
    "#### Construct subject-filtered PLINK file sets"
   ]
  },
  {
   "cell_type": "code",
   "execution_count": null,
   "metadata": {
    "collapsed": true
   },
   "outputs": [],
   "source": [
    "# Command line #\n",
    "mkdir -p /shared/s3/emerge/eigenstrat_no_sex\n",
    "cd /shared/s3/emerge/data\n",
    "\n",
    "#copy genotype data \n",
    "cp /shared/sandbox/emerge/ea_chr_all.* genotype/original/\n",
    "\n",
    "# generate ID list to filter data with\n",
    "mkdir -p /shared/s3/emerge/data/phenotype/no_sex\n",
    "cd /shared/s3/emerge/data/phenotype/no_sex\n",
    "awk ' NR>=2 { print $1 }' emerge_ftnd_no_sex.txt > id_list.txt\n",
    "\n",
    "awk 'FNR==NR{a[$0];next} ($2 in a)' id_list.txt ../../genotype/original/ea_chr_all.fam > filtered.fam\n",
    "\n",
    "awk '{print $1,$2 }' filtered.fam > ea_subject_ids.keep\n",
    "\n",
    "# Remove subjects by phenotype criteria\n",
    "ancestry=\"ea\"\n",
    "/shared/bioinformatics/software/third_party/plink-1.90-beta-4.10-x86_64/plink \\\n",
    "    --noweb \\\n",
    "    --memory 2048 \\\n",
    "    --bfile ../../genotype/original/ea_chr_all \\\n",
    "    --keep ea_subject_ids.keep \\\n",
    "    --make-bed \\\n",
    "    --out /shared/s3/emerge/eigenstrat_no_sex/${ancestry}_pheno_filter"
   ]
  },
  {
   "cell_type": "markdown",
   "metadata": {},
   "source": [
    "__Note__: The phenotype data had 814 subjects while the genotype data only had 730 subjects."
   ]
  },
  {
   "cell_type": "markdown",
   "metadata": {},
   "source": [
    "#### Remove high-LD region variants"
   ]
  },
  {
   "cell_type": "code",
   "execution_count": null,
   "metadata": {
    "collapsed": true
   },
   "outputs": [],
   "source": [
    "# Command line # \n",
    "cd /shared/s3/emerge/eigenstrat_no_sex\n",
    "\n",
    "# Remove high-LD region variants\n",
    "ancestry=\"ea\"\n",
    "# Generate list of variants in known high-LD regions\n",
    "perl -lane 'if (($F[0]==5 && $F[3] >= 43964243 && $F[3] <= 51464243) || ($F[0]==6 && $F[3] >= 24892021 && $F[3] <= 33392022) || ($F[0]==8 && $F[3] >= 7962590 && $F[3] <= 11962591) || ($F[0]==11 && $F[3] >= 45043424 && $F[3] <= 57243424)) { print $F[1].\"\\n\"; }' ${ancestry}_pheno_filter.bim \\\n",
    "    > ${ancestry}.high_ld_regions.remove\n",
    "\n",
    "# Remove SNPs in known high-LD regions\n",
    "/shared/bioinformatics/software/third_party/plink-1.90-beta-4.10-x86_64/plink \\\n",
    "    --noweb \\\n",
    "    --bfile ${ancestry}_pheno_filter \\\n",
    "    --exclude ${ancestry}.high_ld_regions.remove \\\n",
    "    --make-bed \\\n",
    "    --out ${ancestry}_pheno_filter_high_ld_regions_removed"
   ]
  },
  {
   "cell_type": "markdown",
   "metadata": {},
   "source": [
    "#### Linkage disequilibrium pruning\n",
    "Linkage disequilibrium (LD) pruning eliminates a large degree of redundancy in the data and reduces the influence of chromosomal artifacts. The objective of LD pruning is to select a subset of variants based off of LD such that the variants in the subset are indepdendent. This filtering will not carry forward to the final processed results, but this step improves the quality of EIGENSTRAT calculations. Consequently, the LD pruned data will be used as input for those calculations.\n",
    "\n",
    "LD pruning is implemented using PLINK `--indep-pairwise.` "
   ]
  },
  {
   "cell_type": "code",
   "execution_count": null,
   "metadata": {
    "collapsed": true
   },
   "outputs": [],
   "source": [
    "# Command line # \n",
    "cd /shared/s3/emerge/eigenstrat_no_age\n",
    "\n",
    "# Remove high-LD region variants\n",
    "ancestry=\"ea\"\n",
    "# Run per chromosome LD pruning for each chr\n",
    "for chr in {1..23}; do\n",
    "    sh /shared/bioinformatics/software/scripts/qsub_job.sh \\\n",
    "        --job_name ${ancestry}_${chr}_ld_prune \\\n",
    "        --script_prefix ${ancestry}_${chr}_ld_prune \\\n",
    "        --mem 3.5 \\\n",
    "        --nslots 2 \\\n",
    "        --priority 0 \\\n",
    "        --program /shared/bioinformatics/software/third_party/plink-1.90-beta-4.10-x86_64/plink \\\n",
    "            --noweb \\\n",
    "            --memory 3500 \\\n",
    "            --bfile ${ancestry}_pheno_filter_high_ld_regions_removed \\\n",
    "            --indep-pairwise 1500 150 0.2 \\\n",
    "            --chr ${chr} \\\n",
    "            --out ${ancestry}_chr${chr}_ld_pruned\n",
    "done\n",
    "\n",
    "\n",
    "#Create LD pruned PLINK file sets\n",
    "ancestry=\"ea\"\n",
    "# Merge *prune.in files\n",
    "cat ${ancestry}_chr*_ld_pruned.prune.in > ${ancestry}_chr_all_ld_pruned.prune.in\n",
    "\n",
    "# Create new PLINK filesets with only lD pruned variants\n",
    "/shared/bioinformatics/software/third_party/plink-1.90-beta-4.10-x86_64/plink \\\n",
    "    --noweb \\\n",
    "    --memory 2048 \\\n",
    "    --bfile ${ancestry}_pheno_filter_high_ld_regions_removed \\\n",
    "    --extract ${ancestry}_chr_all_ld_pruned.prune.in \\\n",
    "    --make-bed \\\n",
    "    --out ${ancestry}_ld_pruned\n",
    "\n",
    "\n",
    "# Clean up\n",
    "rm *ld_pruned.{prune.in,prune.out,log}\n",
    "rm *qsub*\n",
    "rm *high_ld_regions*\n",
    "rm *nosex\n",
    "rm *pheno_filter*"
   ]
  },
  {
   "cell_type": "markdown",
   "metadata": {},
   "source": [
    "#### Rename BIM/FAM file IDs\n",
    "BIM and FAM file IDs have the potential issue of being too long if encoded using the 1000 Genomes Phase 3 IMPUTE2 format. This will cause `smartpca` to throw an error. To resolve this the IDs are replaced by numeric values if needed. "
   ]
  },
  {
   "cell_type": "code",
   "execution_count": null,
   "metadata": {
    "collapsed": true
   },
   "outputs": [],
   "source": [
    "# Command line # \n",
    "cd /shared/s3/emerge/eigenstrat_no_age\n",
    "\n",
    "# Count ID lengths greater than 39 characters\n",
    "ancestry=\"ea\"\n",
    "echo -e \"\\n\\n======== ${ancestry} ========\\n\\n\"\n",
    "awk '{ if(length($1)+length($2)>39){print $2} }' ${ancestry}_ld_pruned.fam | wc -l\n",
    "awk '{ if(length($2)>39){print $2} }' ${ancestry}_ld_pruned.bim | wc -l\n",
    "\n",
    "# Rename BIM file IDs\n",
    "# Make new BIM\n",
    "#awk '{$2=\"ID_\"NR; print $0}' ${ancestry}_ld_pruned.bim \\\n",
    "#    > ${ancestry}_ld_pruned_id_renamed.bim\n",
    "\n",
    "# Rename FAM file IDs\n",
    "# Make new FAM\n",
    "#awk '{$1=\"ID_\"NR; print $0}' ${ancestry}_ld_pruned.fam \\\n",
    "#   > ${ancestry}_ld_pruned_id_renamed.fam"
   ]
  },
  {
   "cell_type": "markdown",
   "metadata": {},
   "source": [
    "__Note__ we did not have to rename the BIM or FAM files for this case. "
   ]
  },
  {
   "cell_type": "markdown",
   "metadata": {},
   "source": [
    "#### Run EIGENSTRAT\n",
    "__NOTE__: For `smartpca` to run, the BIM and FAM file IDs need to be less than 39 characters in length. Often this is not a problem, but with a BIM file that has IDs renamed to the 1000 Genomes Phase 3 format, the IDs for indels can exceed the character limit. Also, the EIGENSOFT bin directory should be in ~/.bashrc as an addition to the PATH variable. If it is not, it can be added as following\n",
    "\n",
    "`export PATH=$PATH:/shared/bioinformatics/software/third_party/EIG-6.1.4/bin/` # Add EIGENSOFT bin to path\n",
    "\n",
    "The `smartpca.pl` program documentation is shown below:\n",
    "\n",
    "\n",
    "DOCUMENTATION of `smartpca.pl` program:\n",
    "\n",
    "This program calls the `smartpca` program (see ../POPGEN/README). \n",
    "For this to work, the bin directory containing `smartpca` MUST be in your path. \n",
    "See `./example.perl` for a toy example.\n",
    "```\n",
    "../bin/smartpca.pl \n",
    "-i example.geno  : genotype file in any format (see ../CONVERTF/README)\n",
    "-a example.snp   : snp file in any format (see ../CONVERTF/README)\n",
    "-b example.ind   : indiv file in any format (see ../CONVERTF/README)\n",
    "-k k             : (Default is 10) number of principal components to output\n",
    "-o example.pca   : output file of principal components.  Individuals removed\n",
    "                   as outliers will have all values set to 0.0 in this file.\n",
    "-p example.plot  : prefix of output plot files of top 2 principal components.\n",
    "                   (labeling individuals according to labels in indiv file)\n",
    "-e example.eval  : output file of all eigenvalues\n",
    "-l example.log   : output logfile\n",
    "-m maxiter       : (Default is 5) maximum number of outlier removal iterations.\n",
    "                   To turn off outlier removal, set -m 0.\n",
    "-t topk          : (Default is 10) number of principal components along which \n",
    "                   to remove outliers during each outlier removal iteration.\n",
    "-s sigma         : (Default is 6.0) number of standard deviations which an\n",
    "                   individual must exceed, along one of topk top principal\n",
    "           components, in order to be removed as an outlier.\n",
    "\n",
    "OPTIONAL FLAGS:\n",
    "-w poplist       : compute eigenvectors using populations in poplist only,\n",
    "                   where poplist is an ASCII file with one population per line\n",
    "-y plotlist      : output plot will include populations in plotlist only, \n",
    "                   where plotlist is an ASCII file with one population per line\n",
    "-z badsnpname    : list of SNPs which should be excluded from the analysis\n",
    "-q YES/NO        : If set to YES, assume that there is a single population and\n",
    "                   the population field contains real-valued phenotypes.\n",
    "           (Corresponds to qtmode parameter in smartpca program.)\n",
    "           The default value for this parameter is NO.\n",
    "\n",
    "Estimated running time of the smartpca program is \n",
    "  2.5e-12 * nSNP * NSAMPLES^2 hours            if not removing outliers.\n",
    "  2.5e-12 * nSNP * NSAMPLES^2 hours * (1+m)    if m outlier removal iterations.\n",
    "Thus, under the default of up to 5 outlier removal iterations, running time is \n",
    "  up to 1.5e-11 * nSNP * NSAMPLES^2 hours.```"
   ]
  },
  {
   "cell_type": "code",
   "execution_count": null,
   "metadata": {
    "collapsed": true
   },
   "outputs": [],
   "source": [
    "# Command line # \n",
    "cd /shared/s3/emerge/eigenstrat_no_age\n",
    "mkdir results\n",
    "\n",
    "# Run EIGENSTRAT smartpca \n",
    "ancestry=\"ea\"\n",
    "# Run smartpca\n",
    "sh /shared/bioinformatics/software/scripts/qsub_job.sh \\\n",
    "    --job_name ${ancestry}_smartpca \\\n",
    "    --script_prefix results/smartpca_${ancestry} \\\n",
    "    --mem 13.5 \\\n",
    "    --nslots 2 \\\n",
    "    --priority 0 \\\n",
    "    --program /shared/bioinformatics/software/third_party/EIG-6.1.4/bin/smartpca.perl \\\n",
    "        -i ${ancestry}_ld_pruned.bed \\\n",
    "        -a ${ancestry}_ld_pruned.bim \\\n",
    "        -b ${ancestry}_ld_pruned.fam \\\n",
    "        -o results/${ancestry}_ld_pruned.pca \\\n",
    "        -p results/${ancestry}_ld_pruned.plot \\\n",
    "        -e results/${ancestry}_ld_pruned.eval \\\n",
    "        -l results/${ancestry}_ld_pruned.pca.log \\\n",
    "        -m 0"
   ]
  },
  {
   "cell_type": "markdown",
   "metadata": {},
   "source": [
    "#### View PCs from EIGENSTRAT"
   ]
  },
  {
   "cell_type": "code",
   "execution_count": null,
   "metadata": {
    "collapsed": true
   },
   "outputs": [],
   "source": [
    "## local machine ##\n",
    "# Copy results over to local machine so we can visualize the results.\n",
    "scp -i ~/.ssh/gwas_rsa ec2-user@35.171.207.199:/shared/s3/emerge/eigenstrat_no_age/results/ea_ld_pruned.pca.evec \\\n",
    "    /cygdrive/c/Users/jmarks/Desktop/Projects/Nicotine/eMerge/eigenstrat_no_age"
   ]
  },
  {
   "cell_type": "code",
   "execution_count": null,
   "metadata": {
    "collapsed": true
   },
   "outputs": [],
   "source": [
    "## R console ##\n",
    "# Load PCA data\n",
    "setwd(dir = \"C:/Users/jmarks/Desktop/Projects/Nicotine/eMerge/eigenstrat_no_age/\")\n",
    "options(stringsAsFactors=F)\n",
    "ea.evec <- read.table(\"ea_ld_pruned.pca.evec\",\n",
    "                      comment.char=\"#\", sep=\"\", row.names=1)\n",
    "ea.evec[1:5,]"
   ]
  },
  {
   "cell_type": "code",
   "execution_count": null,
   "metadata": {
    "collapsed": true
   },
   "outputs": [],
   "source": [
    "### R console ###\n",
    "\n",
    "# Function for plotting off-diagonal scatterplots\n",
    "plot.offdiag <- function(x, y, colors=label.colors){\n",
    "    #Make x and y axes equal\n",
    "    limits <- c(min(x,y), max(x,y)) * 1.3\n",
    "    par(usr = c(limits, limits))\n",
    "    points(x,y, col=colors, pch=16)\n",
    "}\n",
    "\n",
    "# Function for plotting diagonal density plots\n",
    "plot.diag <- function(x, colors=label.colors){\n",
    "    d <- density(x, bw=0.01, kernel=\"gaussian\")\n",
    "    #Update plot axes limits\n",
    "    par(usr = c(range(d$x), range(d$y)*1.3))\n",
    "    points(d$x,d$y, type=\"l\")\n",
    "    #Add PC values\n",
    "    points(x=x, y=jitter(rep(mean(d$y),times=d$n),factor=5), col=label.colors, pch=16)\n",
    "}\n",
    "\n",
    "#Run PCA and get % variance\n",
    "ea.dspace <- ea.evec[1:10] #transformed dataspace\n",
    "\n",
    "#Color label samples\n",
    "label.colors <- rgb(0,80,190,80, maxColorValue=255) #blue\n",
    "\n",
    "options(repr.plot.width=8, repr.plot.height=8)\n",
    "#Redefine outer margin\n",
    "par(oma = c(4, 1, 2, 1))\n",
    "pairs(x=ea.dspace[,1:5], panel=plot.offdiag, diag.panel=plot.diag, \n",
    "      labels=paste0(\"PC\",1:5), label.pos=0.9, cex.labels=1.8)\n",
    "par(fig=c(0, 1, 0, 1), oma=c(0, 0, 0, 0), mar=c(0, 0, 1.5, 0), new=TRUE)\n",
    "plot(0, 0, type = \"n\", bty = \"n\", xaxt = \"n\", yaxt = \"n\", main=\"eMERGE EA\", cex.main=1)\n",
    "\n",
    "par(oma = c(4, 1, 2, 1))\n",
    "pairs(x=ea.dspace[,6:10], panel=plot.offdiag, diag.panel=plot.diag, \n",
    "      labels=paste0(\"PC\",6:10), label.pos=0.9, cex.labels=1.8)\n",
    "par(fig=c(0, 1, 0, 1), oma=c(0, 0, 0, 0), mar=c(0, 0, 1.5, 0), new=TRUE)\n",
    "plot(0, 0, type = \"n\", bty = \"n\", xaxt = \"n\", yaxt = \"n\", main=\"eMERGE EA\", cex.main=1)"
   ]
  },
  {
   "cell_type": "markdown",
   "metadata": {},
   "source": [
    "#### Extract eigenvectors"
   ]
  },
  {
   "cell_type": "code",
   "execution_count": null,
   "metadata": {
    "collapsed": true
   },
   "outputs": [],
   "source": [
    "# Command line # \n",
    "cd /shared/s3/emerge/eigenstrat_no_age/results\n",
    "\n",
    "# Grab top 10 eigenvectors from PCA \n",
    "ancestry=\"ea\"\n",
    "# Extract eigenvectors\n",
    "echo \"FID IID EV1 EV2 EV3 EV4 EV5 EV6 EV7 EV8 EV9 EV10\" > ${ancestry}_ld_pruned_top10_eigenvecs.txt\n",
    "tail -n +2 ${ancestry}_ld_pruned.pca.evec | \\\n",
    "    perl -lne 's/:/ /; @F=split; print join(\" \",$F[0],$F[1],$F[2],$F[3],$F[4],$F[5],$F[6],$F[7],$F[8],$F[9],$F[10],$F[11]);' \\\n",
    "    >> ${ancestry}_ld_pruned_top10_eigenvecs.txt"
   ]
  },
  {
   "cell_type": "markdown",
   "metadata": {},
   "source": [
    "### PC Selection\n",
    "Determine which PCs (eigenvectors) contribute the most influence and include them in the GWAS as covariates. Include the PCs which contribute to at least %75 of the variance.\n",
    "\n",
    "__Note__: we will perform this on our local machine for convenience."
   ]
  },
  {
   "cell_type": "code",
   "execution_count": null,
   "metadata": {
    "collapsed": true
   },
   "outputs": [],
   "source": [
    "## local machine ##\n",
    "\n",
    "cd /cygdrive/c/Users/jmarks/Desktop/Projects/Nicotine/eMERGE/eigenstrat_no_age\n",
    "scp -i ~/.ssh/gwas_rsa ec2-user@35.171.207.199:/shared/s3/emerge/eigenstrat_no_age_results/ea_ld_pruned_top10_eigenvecs.txt ."
   ]
  },
  {
   "cell_type": "markdown",
   "metadata": {},
   "source": [
    "#### Create ped file\n",
    "\n",
    "The covariates we want to include are and sex and some of the most influential PCs. Sex is encoded as `M=Male` and `F=Female` in these phenotype data. Here we create the `phen` and `cov` PED files so that downstream processing will be easier. Specifically, creating the PED files will make it easier to select the PCs that explain $\\sim75\\%$ of the variance."
   ]
  },
  {
   "cell_type": "code",
   "execution_count": null,
   "metadata": {
    "collapsed": true
   },
   "outputs": [],
   "source": [
    "### R (local) ###\n",
    "\n",
    "setwd(\"C:/Users/jmarks/Desktop/Projects/Nicotine/eMERGE/phenotype/no_age/\")\n",
    "p.data <- \"emerge_ftnd_no_age.txt\"\n",
    "pheno.data <- read.csv(p.data, sep = \" \", header = T, stringsAsFactors = F, \n",
    "                       colClasses=c(\"integer\", \"character\", \"integer\"))\n",
    "\n",
    "pca.data <- read.csv(\"/shared/s3/emerge/eigenstrat_no_sex/results/ea_ld_pruned_top10_eigenvecs.txt\", sep = \" \" , \n",
    "                    colClasses=c(rep(\"character\",times=2), rep(\"double\",times = 10)))\n",
    "\n",
    "num.subjects <- length(pca.data[,1])\n",
    "\n",
    "ped.file <- data.frame(matrix(ncol = 7, nrow = num.subjects))\n",
    "colnames(ped.file) <- c(\"fid\", \"iid\", \"patid\", \"matid\", \"sex\",  \"ftnd\")\n",
    "ped.file[,1] <- pca.data[,1]\n",
    "ped.file[,2] <- pca.data[,2]\n",
    "\n",
    "# map loop (goal to fill in sex and ftnd data on ped.file from the pheno.data)\n",
    "for (i in 1:num.subjects){\n",
    "    key <- noquote(ped.file[i,2])\n",
    "    \n",
    "    my_match <- match(key, pheno.data[,1])\n",
    "    ped.file[i,5] <- pheno.data[my_match,2]\n",
    "    ped.file[i,6] <- pheno.data[my_match,3]\n",
    "    \n",
    "} # end i loop\n",
    "\n",
    "write.table(ped.file[,1:6], \"eMERGE_EUR_phen.ped\", sep = \"\\t\", row.names = F, quote=F)"
   ]
  },
  {
   "cell_type": "markdown",
   "metadata": {},
   "source": [
    "#### Create cov file"
   ]
  },
  {
   "cell_type": "code",
   "execution_count": null,
   "metadata": {
    "collapsed": true
   },
   "outputs": [],
   "source": [
    "# make sure ncol = <correct #>\n",
    "covar.data <- data.frame(matrix(ncol = 15, nrow = num.subjects))\n",
    "colnames(covar.data) <- c(\"fid\", \"iid\", \"patid\", \"matid\", \"sex\",  \n",
    "                        \"PC1\", \"PC2\",\"PC3\",\"PC4\",\"PC5\",\"PC6\",\"PC7\",\"PC8\",\"PC9\",\"PC10\")\n",
    "covar.data[,1:5] <- ped.file[,1:5]\n",
    "\n",
    "covar.data[,6:length(covar.data)] <- pca.data[,3:length(pca.data)]\n",
    "\n",
    "write.table(covar.data, \"eMERGE_EUR_cov.ped\", quote=FALSE, row.names = FALSE, sep = \"\\t\")"
   ]
  },
  {
   "cell_type": "code",
   "execution_count": null,
   "metadata": {
    "collapsed": true
   },
   "outputs": [],
   "source": [
    "### R console ###\n",
    "\n",
    "# Load PCA data\n",
    "setwd('C:/Users/jmarks/Desktop/Projects/Nicotine/eMerge/phenotype/no_age')\n",
    "options(stringsAsFactors=F)\n",
    "ea.cov.data <- read.delim(\"eMERGE_EUR_cov.ped\", header=T, sep=\"\\t\")\n",
    "ea.phen.data <- read.delim(\"eMERGE_EUR_phen.ped\", header=T, sep=\"\\t\")\n",
    "\n",
    "# Combine PCs and phenotype into one data frame\n",
    "phen.name <- \"ftnd\"\n",
    "pc.names <- paste0(\"PC\", 1:10)\n",
    "ea.data <- merge(x=ea.phen.data[,c(\"iid\",phen.name)], y=ea.cov.data[, c(\"iid\", paste0(\"PC\",1:10))], by=\"iid\")"
   ]
  },
  {
   "cell_type": "markdown",
   "metadata": {},
   "source": [
    "#### Regression analysis\n",
    "We use a regression model of the general structure\n",
    "\\begin{align}\n",
    "\\text{FTND = PC1 + PC2 + ... + PC10}\n",
    "\\end{align}"
   ]
  },
  {
   "cell_type": "code",
   "execution_count": null,
   "metadata": {
    "collapsed": true
   },
   "outputs": [],
   "source": [
    "# Build model formula\n",
    "model.str <- paste0(phen.name, \" ~ \", paste(pc.names, collapse=\" + \"))\n",
    "cat(\"MODEL FORMULA:\\n\\n\", model.str, \"\\n\")\n",
    "\n",
    "# Get model fits\n",
    "lm.fit.ea <- lm(formula=as.formula(model.str), data=ea.data)\n",
    "\n",
    "# Get sequential (type I) sum of squares\n",
    "anova.ea <- anova(lm.fit.ea)\n",
    "\n",
    "# Calculate percent variance explained and sort\n",
    "ea.pve <- cbind(anova.ea[pc.names,], \n",
    "                PVE=round(anova.ea[pc.names, \"Mean Sq\"]/sum(anova.ea[pc.names, \"Mean Sq\"])*100, digits=2))\n",
    "ea.pve.sorted <- ea.pve[order(ea.pve$PVE, decreasing=T),]\n",
    "\n",
    "# Output regression info\n",
    "cat(\"\\n\\n================ EA group ================\")\n",
    "summary(lm.fit.ea)\n",
    "ea.pve.sorted"
   ]
  },
  {
   "cell_type": "markdown",
   "metadata": {},
   "source": [
    "#### Percent Variance Explained Visualization"
   ]
  },
  {
   "cell_type": "code",
   "execution_count": null,
   "metadata": {
    "collapsed": true
   },
   "outputs": [],
   "source": [
    "options(repr.plot.width=13, repr.plot.height=5)\n",
    "\n",
    "# Set graphical parameters\n",
    "cex.factor = 0.9\n",
    "barplot.ylim.ea = c(0, max(ea.pve$PVE)*1.2)\n",
    "\n",
    "# Visualize PVE\n",
    "par(mfrow=c(1,2))\n",
    "barplot(height=ea.pve$PVE, names.arg=rownames(ea.pve), beside=T, cex.names=cex.factor, \n",
    "        col=\"red3\", border=\"red3\", ylim=barplot.ylim.ea, \n",
    "        main=\"EA Percent Variance Explained\", ylab=\"PVE\")\n",
    "plot(cumsum(ea.pve$PVE), type=\"b\", main=\"EA PVE Cumulative Sum\", ylab=\"PVE\", \n",
    "     lwd=2, col=\"red3\", pch=17, xaxt=\"n\", xlab=\"\", ylim=c(0,100))\n",
    "axis(side=1, at=c(1:10), labels=rownames(ea.pve), cex.axis=cex.factor)\n",
    "\n",
    "par(mfrow=c(1,2))\n",
    "barplot(height=ea.pve.sorted$PVE, names.arg=rownames(ea.pve.sorted), beside=T, cex.names=cex.factor, \n",
    "        col=\"red3\", border=\"red3\", ylim=barplot.ylim.ea, main=\"EA Percent Variance Explained (Sorted PCs)\", ylab=\"PVE\")\n",
    "plot(cumsum(ea.pve.sorted$PVE), type=\"b\", main=\"EA PVE Cumulative Sum (Sorted PCs)\", ylab=\"PVE\", \n",
    "     lwd=2, col=\"red3\", pch=17, xaxt=\"n\", xlab=\"\", ylim=c(0,100))\n",
    "axis(side=1, at=c(1:10), labels=rownames(ea.pve.sorted), cex.axis=cex.factor)"
   ]
  },
  {
   "cell_type": "markdown",
   "metadata": {
    "collapsed": true
   },
   "source": [
    "Based on these results, we will use PC3, PC7, PC6, and PC9 in the GWAS as covariates. These PCs contribute to >75% of the percent variance explained."
   ]
  },
  {
   "cell_type": "markdown",
   "metadata": {},
   "source": [
    "### Construct a phenotype file for ProbABEL with PCs\n",
    "* Need to include PC3, PC6, PC7, and PC9.\n",
    "* Header needs to be \n",
    "\n",
    "   `IID     CAT_FTND      SEX     EV3     EV6     EV7     EV9`"
   ]
  },
  {
   "cell_type": "code",
   "execution_count": null,
   "metadata": {
    "collapsed": true
   },
   "outputs": [],
   "source": [
    "## local machine ##\n",
    "cd C:/Users/jmarks/Desktop/Projects/Nicotine/eMerge/phenotype/no_sex\n",
    "\n",
    "# the IID in the phenotype file needs to be of the form \"fid_iid\"\n",
    "# to match the imputed genotype data from MIS.\n",
    "awk 'BEGIN{ OFS=\"_\" } NR>=2{print $1,$2}' eMERGE_EUR_cov.ped > IID.txt"
   ]
  },
  {
   "cell_type": "code",
   "execution_count": null,
   "metadata": {
    "collapsed": true
   },
   "outputs": [],
   "source": [
    "### R ###\n",
    "setwd(\"C:/Users/jmarks/Desktop/Projects/Nicotine/eMerge/phenotype/no_sex\")\n",
    "\n",
    "# read in data files\n",
    "phen <- read.table(\"eMERGE_EUR_phen.ped\", header=T)\n",
    "cov <- read.table(\"eMERGE_EUR_cov.ped\", header=T)\n",
    "iid <- read.table(\"IID.txt\", header=T)\n",
    "\n",
    "num.subjects <- length(iid[,1])\n",
    "num.subjects\n",
    "\n",
    "# create data frame to combine those files\n",
    "covar.data <- data.frame(matrix(ncol = 7, nrow = num.subjects))\n",
    "names(covar.data) <- c(\"IID\", \"CAT_FTND\", \"SEX\", \"EV3\", \"EV6\", \"EV7\", \"EV9\")\n",
    "covar.data[1] <- iid[1]\n",
    "covar.data[2] <- phen[6]\n",
    "covar.data[3] <- phen[5]\n",
    "covar.data[4] <- cov[8]\n",
    "covar.data[5] <- cov[11]\n",
    "covar.data[6] <- cov[12]\n",
    "covar.data[7] <- cov[14]\n",
    "head(covar.data)\n",
    "\n",
    "write.table(x = covar.data, file = \"emerge.ea.CAT_FTND.SEX.EVs.v1\", quote = F, row.names = F)"
   ]
  },
  {
   "cell_type": "markdown",
   "metadata": {},
   "source": [
    "## Genotype Data"
   ]
  },
  {
   "cell_type": "markdown",
   "metadata": {
    "collapsed": true
   },
   "source": [
    "### Inflate imputation results\n",
    "The zip files from Michigan Imputation Server (MIS) need to be inflated before you can begin working with them. They require a passcode that is sent by MIS to email."
   ]
  },
  {
   "cell_type": "code",
   "execution_count": null,
   "metadata": {
    "collapsed": true
   },
   "outputs": [],
   "source": [
    "### EC2 console ###\n",
    "cd /shared/s3/emerge/data/genotype/imputed\n",
    "\n",
    "# inflate chr results\n",
    "for f in {1..22};do\n",
    "echo '#!/bin/bash' > chr_$f.sh\n",
    "echo '' >> chr_$f.sh\n",
    "echo 'unzip -P \"ScSu1byrJL49kO\" chr_'$f'.zip' >> chr_$f.sh\n",
    "done\n",
    "\n",
    "for chr in {1..22}; do\n",
    "    sh /shared/bioinformatics/software/scripts/qsub_job.sh \\\n",
    "    --job_name inflate_chr${chr} \\\n",
    "    --script_prefix chr${chr}_inflation \\\n",
    "    --mem 5 \\\n",
    "    --priority 0 \\\n",
    "    --nslots 2 \\\n",
    "    --program bash chr_${chr}.sh\n",
    "done\n",
    "\n",
    "rm *.sh"
   ]
  },
  {
   "cell_type": "markdown",
   "metadata": {},
   "source": [
    "### Convert VCF files to MaCH format\n",
    "The ProbABEL software requires the data to be in a format that is different than the VCF format that is the output from MIS. Specifically, we need to convert the VCF files to MaCH format."
   ]
  },
  {
   "cell_type": "code",
   "execution_count": null,
   "metadata": {
    "collapsed": true
   },
   "outputs": [],
   "source": [
    "### EC2 ###\n",
    "cd /shared/s3/emerge/data/genotype/imputed\n",
    "\n",
    "base_dir=/shared/s3/emerge/data/genotype/imputed\n",
    "\n",
    "for chr in {1..22};do\n",
    "\n",
    "    mkdir -p ${base_dir}/mach/chr${chr}\n",
    "    chr_location=${base_dir}/mach/chr${chr}\n",
    "\n",
    "    /shared/bioinformatics/software/scripts/qsub_job.sh \\\n",
    "        --job_name convert_dosage_chr{$chr} \\\n",
    "        --script_prefix chr_location \\\n",
    "        --mem 10 \\\n",
    "        --buffer 100000 \\\n",
    "        --nslots 2 \\\n",
    "        --priority 0 \\\n",
    "        --program /shared/bioinformatics/software/third_party/dosage_converter_v1.0.4/bin/DosageConvertor \\\n",
    "            --vcfDose ${base_dir}/chr${chr}.dose.vcf.gz \\\n",
    "            --info ${base_dir}/chr${chr}.info.gz \\\n",
    "            --prefix chr_location/chr{$chr} \\\n",
    "            --type mach \\\n",
    "            --format 1 # contains the expected alternate allele count (one value per sample per marker).\n",
    "done"
   ]
  },
  {
   "cell_type": "markdown",
   "metadata": {},
   "source": [
    "# Start ProbABEL Analysis \n",
    "Run GWAS (no age for covariate) with the ProbABEL software.\n",
    "\n",
    "See [the manual](http://www.genabel.org/sites/default/files/pdfs/ProbABEL_manual.pdf) for more information."
   ]
  },
  {
   "cell_type": "markdown",
   "metadata": {},
   "source": [
    "#### Convert mach files to databel\n",
    "According to the ProbABEL manual, one can supply the dose file in filevector format in which case ProbABEL will operate much faster, and in low-RAM mode. We attempted the following code to convert our data, however were unsuccessful. The error might be stemming from the fact that there are markers that are repeated in the dose file. In any case, we will not convert our mach files to databel at the present."
   ]
  },
  {
   "cell_type": "code",
   "execution_count": null,
   "metadata": {
    "collapsed": true
   },
   "outputs": [],
   "source": [
    "#install.packages(\"DatABEL\")\n",
    "#install.packages(\"GenABEL\")\n",
    "#library(GenABEL)\n",
    "#library(DatABEL)\n",
    "\n",
    "##for (i in 1:22) {\n",
    "#chr=22\n",
    "##mach2databel(imputedgenofile= paste(\"chr\",i,\"/chr\",i,\".mach.mach.dose.gz\", sep=\"\"), \n",
    "##mach2databel(imputedgenofile= paste(\"chr\",i,\".mach.mach.dose\", sep=\"\"), \n",
    "#mach2databel(imputedgenofile= \"new_mach.dose\", \n",
    "#             mlinfofile=\"chr22.sample.info\", \n",
    "#             outfile=\"sample_mach2data\", dataOutType=\"FLOAT\")\n",
    "#             #outfile=paste(\"chr\",i, \"/chr\", i, \".test\",sep=\"\"), dataOutType=\"FLOAT\")\n",
    "#}"
   ]
  },
  {
   "cell_type": "code",
   "execution_count": null,
   "metadata": {
    "collapsed": true
   },
   "outputs": [],
   "source": [
    "#cd /shared/s3/emerge/data/genotype/imputed/mach/chr22/test/results/conversions\n",
    "#/shared/bioinformatics/software/scripts/qsub_job.sh \\\n",
    "#        --job_name test.conversion.chr22.r \\\n",
    "#        --script_prefix test_convert_chr22 \\\n",
    "#        --mem 15 \\\n",
    "#        --nslots 5 \\\n",
    "#        --program Rscript test_22.R"
   ]
  },
  {
   "cell_type": "markdown",
   "metadata": {},
   "source": [
    "#### Test run (one whole autosome [chr1])\n",
    "* note that the number of lines in the info file (minus one for the header) is equal to the number of SNP dosage \n",
    "* Dosage is a simple linear transformation of the posterior genotype probabilities usually coming from imputation.\n",
    "    - posterior probability is the likelihood that the individual, whose genotype is unknown, to have the allele calculated in the light of relevant observations. It is a conditional probability that is assigned after taking into account the knowledge about the genotype that we do have.\n",
    "\n",
    "* Note that a linear transformation is simple a rule for translating something by means of a linear combination. In the case of dosage we have \n",
    "\n",
    "$0 * P(A|A) + 1 * P(A|B) + 2* P(B|B)$\n",
    "\n",
    "* See [here](https://www.biostars.org/p/75689/) for more information about dosage.\n",
    "\n",
    "\n",
    "It is assumed that both the\n",
    "total number and the order of these IDs are exactly the same as\n",
    "in the genomic predictor (DOSE/PROB) file described in previous\n",
    "section\n",
    "\n",
    "\n",
    "Running test on chr1 to make sure that memory issues will not arrise.\n",
    "If memory issues do result, I may have to chunk up the chromosomes.\n",
    "\n",
    "**Note**: This test run is for diagnotic purposes."
   ]
  },
  {
   "cell_type": "code",
   "execution_count": null,
   "metadata": {
    "collapsed": true
   },
   "outputs": [],
   "source": [
    "## EC2 ##\n",
    "mkdir -p /shared/s3/emerge/data/genotype/imputed/mach/test2/{mldose_files,pheno,results}\n",
    "cd /shared/s3/emerge/data/genotype/imputed/mach/test2\n",
    "\n",
    "# prepare info file (only 7 fields allowed in ProbABEL)\n",
    "cut -f 1-7 ../chr1/chr1.mach.mach.info > mldose_files/chr1.sample.info\n",
    "\n",
    "# create an ID list to reorder the dose file with\n",
    "tail -n +2 /shared/s3/emerge/data/phenotype/no_age/emerge.ea.CAT_FTND.SEX.EVS.v1 | cut -d \" \" -f 1 > pheno/id_order\n",
    "\n",
    "#zcat /shared/s3/emerge/data/genotype/imputed/mach/chr1/chr1.mach.mach.dose.gz |\\\n",
    "#    awk '{gsub(/^.+->/, \"\", $1); print $1}' > id_order2\n",
    " zcat ../chr1/chr1.mach.mach.dose.gz | grep -f pheno/id_order > mldose_files/ordered_mach.dose\n",
    "\n",
    "# manual says that probabel expects a sequential id followed by an arrow followed by study ID\n",
    "awk '{gsub(/^.+->/, NR\"->\", $1); print $0}'  mldose_files/ordered_mach.dose >\\\n",
    "    mldose_files/chr1.sample.dose\n",
    "\n",
    "# create legend: rsID, position, allele1, allele2\n",
    "# HapMap \"legend\" file format\n",
    "# note that our data is not in rsID format - we have chr:position for the rsID instead\n",
    "awk '{gsub(/^.+:/, \"\", $1); print $1,$2,$3}' mldose_files/*.info > partial_map\n",
    "cut -f 1 mldose_files/*.info > partial_ids\n",
    "paste -d \" \" partial_ids partial_map > map.chr1.legend\n",
    "sed -i.bak '1 s/.*/id position 0 1/' map.chr1.legend # rename headers"
   ]
  },
  {
   "cell_type": "markdown",
   "metadata": {},
   "source": [
    "#### Run GWAS (example chr1)"
   ]
  },
  {
   "cell_type": "code",
   "execution_count": null,
   "metadata": {
    "collapsed": true
   },
   "outputs": [],
   "source": [
    "## EC2 console ##\n",
    "cd /shared/s3/emerge/data/genotype/imputed/mach/test2\n",
    "\n",
    "root_dir=/shared/s3/emerge/data/genotype/imputed/mach/test2\n",
    "imputation_root=/shared/s3/emerge/data/genotype/imputed/mach/test2/mldose_files\n",
    "phenotype_root=/shared/s3/emerge/data/phenotype/no_age/\n",
    "\n",
    "/shared/bioinformatics/software/scripts/qsub_job.sh \\\n",
    "        --job_name probabel_gwas_test1 \\\n",
    "        --script_prefix results/chr1_test_with_map \\\n",
    "        --mem 30 \\\n",
    "        --nslots 9 \\\n",
    "        --program /shared/bioinformatics/software/third_party/probabel-0.5.0/bin/palinear \\\n",
    "            --pheno ${phenotype_root}/emerge.ea.CAT_FTND.SEX.EVS.v1 \\\n",
    "            --dose ${imputation_root}/chr1.sample.dose \\\n",
    "            --info ${imputation_root}/chr1.sample.info \\\n",
    "            --map map.chr1.legend \\\n",
    "            --chrom 1 \\\n",
    "            --out ${root_dir}/results/chr1_test_results"
   ]
  },
  {
   "cell_type": "markdown",
   "metadata": {
    "collapsed": true
   },
   "source": [
    "## Run GWAS (all)\n",
    "### First, prepare directory structure and files."
   ]
  },
  {
   "cell_type": "code",
   "execution_count": null,
   "metadata": {
    "collapsed": true
   },
   "outputs": [],
   "source": [
    "mkdir -p /shared/s3/emerge/data/assoc_tests/002/{processing,final}\n",
    "cd /shared/s3/emerge/data/assoc_tests/002/processing\n",
    "\n",
    "impute_dir=/shared/s3/emerge/data/genotype/imputed/mach\n",
    "pheno_dir=/shared/s3/emerge/data/phenotype/no_age/\n",
    "\n",
    "for i in {1..22}; do\n",
    "    mkdir -p chr${i}/{results,mldose_files}\n",
    "done\n",
    "\n",
    "# prepare info files (only 7 fields allowed)\n",
    "for chr in {1..22}; do\n",
    "    cut -f 1-7 ${impute_dir}/chr${chr}/chr${chr}.mach.mach.info > \\\n",
    "        chr${chr}/mldose_files/chr${chr}.sample.info &\n",
    "done\n",
    "\n",
    "# get id_order from pheno file\n",
    "tail -n +2 ${pheno_dir}/emerge.ea.CAT_FTND.SEX.EVS.v1 | cut -d ' ' -f 1 > id_order"
   ]
  },
  {
   "cell_type": "markdown",
   "metadata": {},
   "source": [
    "### Reorder and prune mach.dose files down to subjects in phenotype file.\n",
    "\n",
    "Pg. 7 of the [ProbABEL manual](http://www.genabel.org/sites/default/files/pdfs/ProbABEL_manual.pdf) reports that the genomic predictor file - which is the dosage file - has in the first column a sequential ID, followed by an arrow followed by the study ID.\n",
    "\n",
    "**Note**: this is a bash script."
   ]
  },
  {
   "cell_type": "code",
   "execution_count": null,
   "metadata": {
    "collapsed": true
   },
   "outputs": [],
   "source": [
    "#!/bin/bash\n",
    "\n",
    "zcat $1/chr$2/chr$2.mach.mach.dose.gz | grep -f id_order > chr$2/mldose_files/ordered_mach.dose\n",
    " \n",
    "# manual says that probabel expects a sequential id followed by an arrow followed by study ID\n",
    "awk '{gsub(/^.+->/, NR\"->\", $1); print $0}'  chr$2/mldose_files/ordered_mach.dose > chr$2/mldose_files/chr$2.sample.dose\n",
    "#rm chr$2/mldose_files/ordered_mach.dose\n",
    "\n",
    "## END bash script\n",
    "--------------------------------------------------------------------------------\n",
    "\n",
    "# submit as jobs\n",
    "for chr in {1..22};do\n",
    "    /shared/bioinformatics/software/scripts/qsub_job.sh \\\n",
    "            --job_name mldose_chr${chr}_prep \\\n",
    "            --script_prefix chr${chr}/ \\\n",
    "            --mem 15 \\\n",
    "            --nslots 2 \\\n",
    "            --program bash mldose_ordering.sh $impute_dir/ ${chr}\n",
    "done"
   ]
  },
  {
   "cell_type": "markdown",
   "metadata": {},
   "source": [
    "### create legend\n",
    "\n",
    "Pg. 10 of the [ProbABEL manual](http://www.genabel.org/sites/default/files/pdfs/ProbABEL_manual.pdf) reports that the legend should be in HapMap format: \n",
    "\n",
    "`rsID, position, allele1, allele2`\n",
    "\n",
    "**Note**: We do not have the rsID right now. We have the chromosome and the position. It shouldn't be to difficult to convert this to the actual rsID. We might be able to use Nathan Gladdis' Nyholt script to convert these. This can be converted later, though. Also, this is an optional file. The only column that is actually used is the SNP location."
   ]
  },
  {
   "cell_type": "code",
   "execution_count": null,
   "metadata": {
    "collapsed": true
   },
   "outputs": [],
   "source": [
    "## EC2 console ##\n",
    "cd /shared/s3/emerge/data/assoc_tests/002/processing\n",
    "\n",
    "# HapMap \"legend\" file format\n",
    "# note that our data is not in rsID format - we have chr:position for the rsID instead\n",
    "for chr in {1..22}; do\n",
    "    # grab the position, allele1 and allele2\n",
    "    awk '{gsub(/^.+:/, \"\", $1); print $1,$2,$3}' chr${chr}/mldose_files/*.info > chr${chr}/position_and_alleles.txt\n",
    "    # grab the SNP ID, which is chr:position\n",
    "    cut -f 1 chr${chr}/mldose_files/*.info > chr${chr}/snp_ids.txt\n",
    "    # combine the columns\n",
    "    paste -d \" \"  chr${chr}/snp_ids.txt chr${chr}/position_and_alleles.txt > chr${chr}/map.chr${chr}.legend\n",
    "    # rename the header\n",
    "    sed -i.bak '1 s/.*/id position 0 1/' chr${chr}/map.chr${chr}.legend # rename headers\n",
    "    \n",
    "    rm chr${chr}/{*.txt,*.bak}\n",
    "done"
   ]
  },
  {
   "cell_type": "markdown",
   "metadata": {},
   "source": [
    "### Perform ProbABEL analysis\n",
    "**Note**: Because performing the GWAS is so memory intensive, we updated the compute node fleet to `m4.4xlarge` because they have 64G of memory and 16 CPU. After this analysis is finished, it might be a good idea to revert to a smaller (less expensive) set of compute nodes."
   ]
  },
  {
   "cell_type": "code",
   "execution_count": null,
   "metadata": {
    "collapsed": true
   },
   "outputs": [],
   "source": [
    "## EC2 console ##\n",
    "cd /shared/s3/emerge/data/assoc_tests/002/processing\n",
    "\n",
    "imputation_root=/shared/s3/emerge/data/assoc_tests/002/processing\n",
    "phenotype_root=/shared/s3/emerge/data/phenotype/no_age/\n",
    "\n",
    "for chr in {1..22}; do\n",
    "    /shared/bioinformatics/software/scripts/qsub_job.sh \\\n",
    "            --job_name probabel_gwas_chr${chr} \\\n",
    "            --script_prefix chr${chr}/results/chr${chr}_gwas \\\n",
    "            --mem 30 \\\n",
    "            --nslots 9 \\\n",
    "            --program /shared/bioinformatics/software/third_party/probabel-0.5.0/bin/palinear \\\n",
    "                --pheno ${phenotype_root}/emerge.ea.CAT_FTND.SEX.EVS.v1 \\\n",
    "                --dose ${imputation_root}/chr${chr}/mldose_files/chr${chr}.sample.dose \\\n",
    "                --info ${imputation_root}/chr${chr}/mldose_files/chr${chr}.sample.info \\\n",
    "                --map chr${chr}/map.chr${chr}.legend \\\n",
    "                --chrom ${chr} \\\n",
    "                --out ${imputation_root}/chr${chr}/results/chr${chr}_results\n",
    "done"
   ]
  },
  {
   "cell_type": "markdown",
   "metadata": {
    "collapsed": true
   },
   "source": [
    "### GZIP dose files\n",
    "To save space, we will now gzip dosage files back up. Also, revert to a smaller (less expensive) compute fleet.\n",
    "\n",
    "**Note**: we gzip the info file as well."
   ]
  },
  {
   "cell_type": "code",
   "execution_count": null,
   "metadata": {
    "collapsed": true
   },
   "outputs": [],
   "source": [
    "## EC2 console ##\n",
    "cd /shared/s3/emerge/data/assoc_tests/002/processing/\n",
    "\n",
    "#chr=1\n",
    "for chr in {2..22};do\n",
    "    /shared/bioinformatics/software/scripts/qsub_job.sh \\\n",
    "            --job_name gzip_chr${chr}.dose \\\n",
    "            --script_prefix chr${chr}/mldose_files/chr${chr}_gzip \\\n",
    "            --mem 5 \\\n",
    "            --nslots 2 \\\n",
    "            --program gzip chr${chr}/mldose_files/*\n",
    "done"
   ]
  },
  {
   "cell_type": "markdown",
   "metadata": {
    "collapsed": true
   },
   "source": [
    "# Calculate chi, p, and OR"
   ]
  },
  {
   "cell_type": "code",
   "execution_count": null,
   "metadata": {
    "collapsed": true
   },
   "outputs": [],
   "source": [
    "## EC2 console ##\n",
    "cd /shared/s3/emerge/data/assoc_tests/002/processing\n",
    "\n",
    "base_dir=/shared/s3/emerge/data/assoc_tests/002/processing\n",
    "for ((chr=1; chr<23; chr++)); do\n",
    "    /shared/bioinformatics/software/scripts/qsub_job.sh \\\n",
    "            --job_name emerge_chr${chr} \\\n",
    "            --script_prefix $base_dir/chr${chr}/results/emerge_ea.1000G.chr${chr}.CAT_FTND~SNP+SEX+EVs.stats \\\n",
    "            --mem 5 \\\n",
    "            --nslots 2 \\\n",
    "            --program Rscript /shared/bioinformatics/software/R/calculate_stats_for_probabel_results.R \\\n",
    "                --in_file ${base_dir}/chr${chr}/results/chr${chr}_results_add.out.txt \\\n",
    "                --out_file ${base_dir}/chr${chr}/results/emerge_ea.1000G.chr${chr}.CAT_FTND~SNP+SEX+EVs.stats \\\n",
    "                --complete_cases\n",
    "done"
   ]
  },
  {
   "cell_type": "markdown",
   "metadata": {
    "collapsed": true
   },
   "source": [
    "# MAF Filter\n",
    "Filter any variant whose MAF <= 0.01"
   ]
  },
  {
   "cell_type": "markdown",
   "metadata": {},
   "source": [
    "## Convert chr:position to rsID \n",
    "My results do not have an rsID. I need to convert my IDs - which are of the form\n",
    "`chr:position` - to rsID. We will do this by using the position information of the variants.\n",
    "\n",
    "**Note**: In some cases, there will be multiple variants at a single position. This happens if the variant is not biallelic. In this case, they will likely be filtered out because of MAF<0.01 anyways."
   ]
  },
  {
   "cell_type": "code",
   "execution_count": 5,
   "metadata": {},
   "outputs": [
    {
     "ename": "ERROR",
     "evalue": "Error in parse(text = x, srcfile = src): <text>:4:13: unexpected '/'\n3: \n4: impute2_dir=/\n               ^\n",
     "output_type": "error",
     "traceback": [
      "Error in parse(text = x, srcfile = src): <text>:4:13: unexpected '/'\n3: \n4: impute2_dir=/\n               ^\nTraceback:\n"
     ]
    }
   ],
   "source": [
    "## EC2 console ##\n",
    "cd /shared/s3/emerge/data/assoc_tests/002/processing\n",
    "\n",
    "impute2_dir=/shared/data/ref_panels/1000G/2013.12/impute2/ALL\n",
    "base_dir=/shared/s3/emerge/data/assoc_tests/002/processing\n",
    "for ((chr=1; chr<23; chr++)); do\n",
    "\n",
    "    # get list of positions\n",
    "    #cut -f1 chr${chr}/results/emerge_ea.1000G.chr${chr}.CAT_FTND~SNP+SEX+EVs.stats | \\\n",
    "    #    awk 'NR>= 2 { gsub (/^.*:/, \"\", $1); print $1}' > chr${chr}/results/chr${chr}.positions\n",
    "    awk 'NR>=2 {print $3}' chr${chr}/results/emerge_ea.1000G.chr${chr}.CAT_FTND~SNP+SEX+EVs.stats > \\\n",
    "    chr${chr}/results/chr${chr}.positions\n",
    "\n",
    "    # filter the positions based on if they are in the impute2 refPanel\n",
    "    awk 'NR==FNR {a[$1];next} $2 in a {print $2}' $base_dir/chr${chr}/results/chr${chr}.positions \\\n",
    "        <(zcat /shared/data/ref_panels/1000G/2013.12/impute2/ALL/ALL.chr${chr}.integrated_phase1_v3.20101123.snps_indels_svs.genotypes.nomono.unique_ids.legend.gz) \\\n",
    "        > $base_dir/chr${chr}/results/chr${chr}.positions.filtered\n",
    "\n",
    "    # filter out our results based on filtered chromosome positions\n",
    "    head -n 1 $base_dir/chr${chr}/results/emerge_ea.1000G.chr${chr}.CAT_FTND~SNP+SEX+EVs.stats >\\\n",
    "        $base_dir/chr${chr}/results/emerge_ea.1000G.chr${chr}.CAT_FTND~SNP+SEX+EVs_filtered.stats\n",
    "    awk 'NR==FNR {a[$1];next} $3 in a {print $0}' $base_dir/chr${chr}/results/chr${chr}.positions.filtered \\\n",
    "        $base_dir/chr${chr}/results/emerge_ea.1000G.chr${chr}.CAT_FTND~SNP+SEX+EVs.stats \\\n",
    "        >> $base_dir/chr${chr}/results/emerge_ea.1000G.chr${chr}.CAT_FTND~SNP+SEX+EVs_filtered.stats\n",
    "    \n",
    "    # get a list of rsIDs based on the filtered positions\n",
    "    awk 'NR==FNR {a[$1];next} $2 in a {print $1}' $base_dir/chr${chr}/results/chr${chr}.positions.filtered \\\n",
    "        <(zcat /shared/data/ref_panels/1000G/2013.12/impute2/ALL/ALL.chr${chr}.integrated_phase1_v3.20101123.snps_indels_svs.genotypes.nomono.unique_ids.legend.gz) \\\n",
    "        > $base_dir/chr${chr}/results/chr${chr}_rsID\n",
    "\n",
    "    # change chr:position in stats file to rsID\n",
    "    head -n 1 $base_dir/chr${chr}/results/emerge_ea.1000G.chr${chr}.CAT_FTND~SNP+SEX+EVs_filtered.stats >\\\n",
    "        $base_dir/chr${chr}/results/emerge_ea.1000G.chr${chr}.CAT_FTND~SNP+SEX+EVs_filtered_rsID.stats\n",
    "\n",
    "    awk 'BEGIN{OFS=\"\\t\"} NR==FNR { a[FNR] = $0;next } FNR>=2 {$1 = a[FNR-1]; print $0}' $base_dir/chr${chr}/results/chr${chr}_rsID \\\n",
    "        $base_dir/chr${chr}/results/emerge_ea.1000G.chr${chr}.CAT_FTND~SNP+SEX+EVs_filtered.stats \\\n",
    "        >> $base_dir/chr${chr}/results/emerge_ea.1000G.chr${chr}.CAT_FTND~SNP+SEX+EVs_filtered_rsID.stats\n",
    "        \n",
    "        #zcat $impute2_dir/ALL.chr${chr}.integrated_phase1_v3.20101123.snps_indels_svs.genotypes.nomono.unique_ids.legend.gz | \\\n",
    "        #    grep -f $base_dir/chr${chr}/results/chr${chr}.positions | awk '{print $1}' > $base_dir/chr${chr}/results/chr${chr}.snp_IDs\n",
    "done"
   ]
  },
  {
   "cell_type": "markdown",
   "metadata": {},
   "source": [
    "## Make impute2 maf filtered file"
   ]
  },
  {
   "cell_type": "code",
   "execution_count": null,
   "metadata": {
    "collapsed": true
   },
   "outputs": [],
   "source": [
    "cd /shared/data/ref_panels/1000G/2013.12/impute2/ALL\n",
    "\n",
    "for ((chr=1; chr<23; chr++)); do\n",
    "    zcat ALL.chr${chr}.integrated_phase1_v3.20101123.snps_indels_svs.genotypes.nomono.unique_ids.legend.gz | \\\n",
    "        awk 'NR>=2{if ($14 > 0.01) {print $1}}' > ALL.chr${chr}.integrated_phase1_v3.20101123.snps_indels_svs.genotypes.nomono.unique_ids.maf_gt_0.01_eur       \n",
    "done"
   ]
  },
  {
   "cell_type": "markdown",
   "metadata": {},
   "source": [
    "## Filter by MAF"
   ]
  },
  {
   "cell_type": "code",
   "execution_count": 6,
   "metadata": {},
   "outputs": [
    {
     "ename": "ERROR",
     "evalue": "Error in parse(text = x, srcfile = src): <text>:4:10: unexpected '/'\n3: \n4: base_dir=/\n            ^\n",
     "output_type": "error",
     "traceback": [
      "Error in parse(text = x, srcfile = src): <text>:4:10: unexpected '/'\n3: \n4: base_dir=/\n            ^\nTraceback:\n"
     ]
    }
   ],
   "source": [
    "## EC2 console ##\n",
    "cd /shared/s3/emerge/data/assoc_tests/002/processing\n",
    "\n",
    "base_dir=/shared/s3/emerge/data/assoc_tests/002/processing\n",
    "final_dir=/shared/s3/emerge/data/assoc_tests/002/final\n",
    "for ((chr=1; chr<23; chr++)); do\n",
    "   # if [ $chr == \"23\" ]; then\n",
    "   #     # not sure about what file to use here for chrX\n",
    "   #     idList=/shared/data/ref_panels/1000G/2013.12/impute2/ALL/\n",
    "   #   else\n",
    "        idList=/shared/data/ref_panels/1000G/2013.12/impute2/ALL/ALL.chr${chr}.integrated_phase1_v3.20101123.snps_indels_svs.genotypes.nomono.unique_ids.maf_gt_0.01_eur \n",
    "   # fi\n",
    "          \n",
    "    /shared/bioinformatics/software/scripts/qsub_job.sh \\\n",
    "        --job_name emerge_chr${chr}_MAF_filter \\\n",
    "        --script_prefix $base_dir/chr${chr}/results/emerge_ea.1000G.chr${chr}.CAT_FTND~SNP+SEX+EVs.maf_gt_0.01_ea \\\n",
    "        --mem 5 \\\n",
    "        --nslots 1 \\\n",
    "        --program /shared/bioinformatics/software/perl/utilities/extract_rows.pl \\\n",
    "            --source $base_dir/chr${chr}/results/emerge_ea.1000G.chr${chr}.CAT_FTND~SNP+SEX+EVs_filtered_rsID.stats \\\n",
    "            --id_list $idList \\\n",
    "            --out $base_dir/chr${chr}/results/emerge_ea.1000G.chr${chr}.CAT_FTND~SNP+SEX+EVs.maf_gt_0.01_ea \\\n",
    "            --header 1 \\\n",
    "            --id_column 0 \\\n",
    "            --remove\n",
    "done\n",
    "\n",
    "\n",
    "mv $base_dir/chr*/results/*.maf_gt_0.01_ea \\\n",
    "    $final_dir\n",
    "            "
   ]
  },
  {
   "cell_type": "markdown",
   "metadata": {
    "collapsed": true
   },
   "source": [
    "# Generate plots\n",
    "QQ and Mahattan plots."
   ]
  },
  {
   "cell_type": "code",
   "execution_count": null,
   "metadata": {
    "collapsed": true
   },
   "outputs": [],
   "source": [
    "## EC2 console ##\n",
    "cd /shared/s3/emerge/data/assoc_tests/002/processing\n",
    "\n",
    "outFile=/shared/s3/emerge/data/assoc_tests/002/processing/emerge_ea.1000G.CAT_FTND~SNP+SEX+EVs.maf_gt_0.01_ea.table  \n",
    "\n",
    "echo -e \"VARIANT_id\\tCHR\\tPOSITION\\tP\\tTYPE\" > $outFile\n",
    "\n",
    "for ((chr=1; chr<23; chr++)); do\n",
    "   inFile=/shared/s3/emerge/data/assoc_tests/002/final/emerge_ea.1000G.chr${chr}.CAT_FTND~SNP+SEX+EVs.maf_gt_0.01_ea \n",
    "    \n",
    "    echo Processing $inFile\n",
    "\n",
    "    tail -n +2 $inFile |\\\n",
    "    perl -lne '/^(\\S+)\\s+(\\S+)\\s+(\\S+)\\s+(\\S+)\\s+(\\S+)(?:\\s+\\S+){10}\\s+(\\S+)/;\n",
    "                  if (($4 eq \"A\" || $4 eq \"C\" || $4 eq \"G\" || $4 eq \"T\") && ($5 eq \"A\" || $5 eq \"C\" || $5 eq \"G\" || $5 eq \"T\")) {\n",
    "                    print join(\"\\t\",$1,$2,$3,$6,\"snp\");\n",
    "                  } else {\n",
    "                    print join(\"\\t\",$1,$2,$3,$6,\"indel\");\n",
    "                  }' >> $outFile\n",
    "done\n",
    "\n",
    "/shared/bioinformatics/software/scripts/qsub_job.sh \\\n",
    "    --job_name gwas_plots \\\n",
    "    --script_prefix  /shared/s3/emerge/data/assoc_tests/002/processing/emerge_ea.1000G.CAT_FTND~SNP+SEX+EVs.maf_gt_0.01_ea.plots \\\n",
    "    --mem 15 \\\n",
    "    --nslots 4 \\\n",
    "    --priority 0 \\\n",
    "    --program Rscript /shared/bioinformatics/software/R/generate_gwas_plots.R \\\n",
    "        --in /shared/s3/emerge/data/assoc_tests/002/processing/emerge_ea.1000G.CAT_FTND~SNP+SEX+EVs.maf_gt_0.01_ea.table \\\n",
    "        --in_chromosomes autosomal_nonPAR \\\n",
    "        --in_header \\\n",
    "        --out /shared/s3/emerge/data/assoc_tests/002/processing/emerge_ea.1000G.CAT_FTND~SNP+AGE+SEX+EVs.maf_gt_0.01_ea \\\n",
    "        --col_id VARIANT_id \\\n",
    "        --col_chromosome CHR \\\n",
    "        --col_position POSITION \\\n",
    "        --col_p P \\\n",
    "        --col_variant_type TYPE \\\n",
    "        --generate_snp_indel_manhattan_plot \\\n",
    "        --manhattan_odd_chr_color red \\\n",
    "        --manhattan_even_chr_color blue \\\n",
    "        --manhattan_points_cex 1.5 \\\n",
    "        --generate_snp_indel_qq_plot \\\n",
    "        --qq_lines \\\n",
    "        --qq_points_bg black \\\n",
    "        --qq_lambda"
   ]
  },
  {
   "cell_type": "markdown",
   "metadata": {},
   "source": [
    "### View Plots"
   ]
  },
  {
   "cell_type": "code",
   "execution_count": null,
   "metadata": {
    "collapsed": true
   },
   "outputs": [],
   "source": [
    "scp -i ~/.ssh/gwas_rsa ec2-user@35.171.207.199:/shared/s3/emerge/data/assoc_tests/002/processing/emerge_ea.1000G.CAT_FTND~SNP+AGE+SEX+EVs.maf_gt_0.01_ea \\\n",
    "    /cygdrive/c/Users/jmarks/Desktop/Projects/Nicotine/eMERGE/plots"
   ]
  },
  {
   "cell_type": "code",
   "execution_count": null,
   "metadata": {
    "collapsed": true
   },
   "outputs": [],
   "source": [
    "library(\"IRdisplay\")\n",
    "display_png(file=\"C:/Users/jmarks/Desktop/Projects/Nicotine/eMERGE/plots/\")  "
   ]
  },
  {
   "cell_type": "code",
   "execution_count": null,
   "metadata": {
    "collapsed": true
   },
   "outputs": [],
   "source": []
  },
  {
   "cell_type": "code",
   "execution_count": null,
   "metadata": {
    "collapsed": true
   },
   "outputs": [],
   "source": []
  },
  {
   "cell_type": "code",
   "execution_count": null,
   "metadata": {
    "collapsed": true
   },
   "outputs": [],
   "source": []
  },
  {
   "cell_type": "code",
   "execution_count": null,
   "metadata": {
    "collapsed": true
   },
   "outputs": [],
   "source": []
  },
  {
   "cell_type": "code",
   "execution_count": null,
   "metadata": {
    "collapsed": true
   },
   "outputs": [],
   "source": []
  },
  {
   "cell_type": "markdown",
   "metadata": {},
   "source": [
    "## S3 data transfer"
   ]
  },
  {
   "cell_type": "code",
   "execution_count": null,
   "metadata": {
    "collapsed": true
   },
   "outputs": [],
   "source": [
    "# Copy phenotype data\n",
    "cd /shared/s3/emerge/data/phenotype\n",
    "aws s3 cp ./ s3://rti-nd/eMERGE/emerge_ftnd/data/phenotype \\\n",
    "    --recursive --exclude=\"*\" --include=\"*ped.gz\" --quiet &\n",
    "\n",
    "cd /shared/s3/emerge_ftnd/data/assoc_tests\n",
    "# Copy association test results\n",
    "aws s3 cp ./ s3://rti-nd/eMERGE/emerge_ftnd/results/rvtest/ \\\n",
    "    --recursive --exclude=\"*\" --include=\"*MetaScore*gz*\" --quiet &\n",
    "aws s3 cp ./ s3://rti-nd/eMERGE/emerge_ftnd/results/figures/ \\\n",
    "    --recursive --exclude=\"*\" --include=\"*.png.gz\" --quiet &\n",
    "\n",
    "\n",
    "\n",
    "\n",
    "\n",
    "\n",
    "ancestry=ea\n",
    "# copy imputation files\n",
    "cd /shared/sandbox/emerge_ftnd/genotype/imputed/\n",
    "\n",
    "# chrX (male) data\n",
    "aws s3 cp chrX.no.auto_male.dose.vcf.gz.tbi s3://rti-nd/eMERGE/emerge_ftnd/data/genotype/imputed/ea/chrX.no.auto_male.dose.vcf.gz.tbi \n",
    "aws s3 cp chrX.no.auto_male.dose.vcf.gz s3://rti-nd/eMERGE/emerge_ftnd/data/genotype/imputed/ea/chrX.no.auto_male.dose.vcf.gz --quiet &     \n",
    "aws s3 cp chrX.no.auto_male.info.gz s3://rti-nd/eMERGE/emerge_ftnd/data/genotype/imputed/ea/chrX.no.auto_male.info.gz --quiet &     \n",
    "\n",
    "# chrX (female) data\n",
    "aws s3 cp chrX.no.auto_female.dose.vcf.gz.tbi s3://rti-nd/eMERGE/emerge_ftnd/data/genotype/imputed/ea/chrX.no.auto_female.dose.vcf.gz.tbi \n",
    "aws s3 cp chrX.no.auto_female.dose.vcf.gz s3://rti-nd/eMERGE/emerge_ftnd/data/genotype/imputed/ea/chrX.no.auto_female.dose.vcf.gz --quiet &     \n",
    "aws s3 cp chrX.no.auto_female.info.gz s3://rti-nd/eMERGE/emerge_ftnd/data/genotype/imputed/ea/chrX.no.auto_female.info.gz --quiet &     \n",
    "\n",
    "\n",
    "aws s3 cp snp_stats/ s3://rti-nd/eMERGE/emerge_ftnd/data/genotype/imputed/${ancestry}/ \\\n",
    "    --recursive --exclude \"*\" --include \"*.txt\" --quiet &\n",
    "aws s3 cp qc_report/ s3://rti-nd/eMERGE/emerge_ftnd/data/genotype/imputed/${ancestry}/ \\\n",
    "    --recursive --exclude \"*\" --include \"*.html\" --quiet &\n",
    "aws s3 cp logs/ s3://rti-nd/eMERGE/emerge_ftnd/data/genotype/imputed/${ancestry}/ \\\n",
    "    --recursive --exclude \"*\" --include \"*.log\" --quiet &\n",
    "\n",
    "# submit upload as a job\n",
    "--------------------------------------------------------------------------------\n",
    "## copy imputation files\n",
    "/shared/s3/emerge/data/genotype/imputed\n",
    "ancestry=ea\n",
    "for ext in {\\\"*.info.gz\\\",\\\"*dose.vcf.gz\\\",\\\"*dose.vcf.gz.tbi\\\",\\\"*.txt\\\"}; do\n",
    "/shared/bioinformatics/software/scripts/qsub_job.sh \\\n",
    "        --job_name s3_upload_emerge \\\n",
    "        --script_prefix _${ext} \\\n",
    "        --mem 5 \\\n",
    "        --nslots 1 \\\n",
    "        --program \"aws s3 cp . s3://rti-nd/eMERGE/emerge_ftnd/data/genotype/imputed/${ancestry}/ \\\n",
    "            --recursive --exclude \\\"*\\\" --include $ext \"\n",
    "done\n",
    "            "
   ]
  },
  {
   "cell_type": "code",
   "execution_count": null,
   "metadata": {
    "collapsed": true
   },
   "outputs": [],
   "source": []
  },
  {
   "cell_type": "code",
   "execution_count": null,
   "metadata": {
    "collapsed": true
   },
   "outputs": [],
   "source": []
  },
  {
   "cell_type": "code",
   "execution_count": null,
   "metadata": {
    "collapsed": true
   },
   "outputs": [],
   "source": []
  },
  {
   "cell_type": "code",
   "execution_count": null,
   "metadata": {
    "collapsed": true
   },
   "outputs": [],
   "source": []
  },
  {
   "cell_type": "code",
   "execution_count": null,
   "metadata": {
    "collapsed": true
   },
   "outputs": [],
   "source": []
  },
  {
   "cell_type": "code",
   "execution_count": null,
   "metadata": {
    "collapsed": true
   },
   "outputs": [],
   "source": []
  },
  {
   "cell_type": "code",
   "execution_count": null,
   "metadata": {
    "collapsed": true
   },
   "outputs": [],
   "source": []
  },
  {
   "cell_type": "code",
   "execution_count": null,
   "metadata": {
    "collapsed": true
   },
   "outputs": [],
   "source": []
  },
  {
   "cell_type": "code",
   "execution_count": null,
   "metadata": {
    "collapsed": true
   },
   "outputs": [],
   "source": []
  },
  {
   "cell_type": "markdown",
   "metadata": {
    "collapsed": true
   },
   "source": [
    "## Sandbox"
   ]
  },
  {
   "cell_type": "code",
   "execution_count": null,
   "metadata": {
    "collapsed": true
   },
   "outputs": [],
   "source": [
    "awk '{gsub(/^.+->/, NR\"->\", $1); print $0}'  chr22.mach.mach.dose > renamed.mach.dose\n",
    "grep -f id_order renamed.mach.dose > mldose_files/chr22.\n",
    "\n",
    "\n",
    "root_dir=/shared/s3/emerge/data/genotype/imputed/mach/test\n",
    "imputation_root=/shared/s3/emerge/data/genotype/imputed/mach/test/mldose_files\n",
    "phenotype_root=/shared/s3/emerge/data/genotype/imputed/mach/test/pheno\n",
    "\n",
    "/shared/bioinformatics/software/scripts/qsub_job.sh \\\n",
    "        --job_name probabel_gwas_test22 \\\n",
    "        --script_prefix results/chr22_test_with_map \\\n",
    "        --mem 15 \\\n",
    "        --nslots 3 \\\n",
    "        --program /shared/bioinformatics/software/third_party/probabel-0.5.0/bin/palinear \\\n",
    "            --pheno ${phenotype_root}/emerge.ea.CAT_FTND.SEX.EVS.v1 \\\n",
    "            --dose ${imputation_root}/chr22.sample.dose \\\n",
    "            --info ${imputation_root}/chr22.sample.info \\\n",
    "            --map map.file22.legend \\\n",
    "            --chrom 22 \\\n",
    "            --out ${root_dir}/results/chr22_test_results"
   ]
  },
  {
   "cell_type": "markdown",
   "metadata": {
    "collapsed": true
   },
   "source": [
    "## methods file"
   ]
  },
  {
   "cell_type": "code",
   "execution_count": null,
   "metadata": {
    "collapsed": true
   },
   "outputs": [],
   "source": [
    "for (( chr=1; chr<23; chr++ )); do\n",
    "  mkdir -p /shared/s3/emerge/data/assoc_tests/001/processing/chr$chr\n",
    "done\n",
    "mkdir /shared/s3/emerge/data/assoc_tests/001/final\n",
    "\n",
    "### START Prepare files for ProbABEL ###\n",
    "\n",
    "# Phenotype file\n",
    "# This code reorders the phenotype file based on the order of the dose file. It also\n",
    "# changes the ID to match what is in the dosage file\n",
    "# \"It is assumed that both the total number and the order of these IDs are exactly \n",
    " # the same as in the genomic predictor (DOSE/PROB) file\"\n",
    "/shared/bioinformatics/software/perl/utilities/prepare_probabel_files.pl \\\n",
    "  --in_mldose /share/nas04/bioinformatics_group/data/studies/jhs_aric_aa/imputed/v2/imputations/aa/chr20/jhs_aric_aa.aa.1000G.chr20.0.mach.mldose \\ # this is an example dose\n",
    "  --in_pheno /share/nas04/bioinformatics_group/data/studies/jhs_aric_aa/phenotypes/probabel/jhs_aric_aa.CAT_FTND.AGE.SEX.EVs.v1 \\\n",
    "  --out_pheno /share/nas04/bioinformatics_group/data/studies/jhs_aric_aa/imputed/v2/association_tests/001/processing/jhs_aric_aa.CAT_FTND.AGE.SEX.EVs.v1\n",
    "\n",
    "# we may have to use a different protocol because the dosage files contain more subjects\n",
    "# than the phenotype file. It is not as efficient as reordering the phenotype file, but\n",
    "# may have to. \n",
    "# Does the prepare_probabel script handle this?\n",
    "# ---------------------------------------------------------------------------------\n",
    "\n",
    "\n",
    "\n",
    "# MLDOSE files\n",
    "for (( chr=1; chr<23; chr++ )); do\n",
    "  for chunk in $(grep -P \"^$chr\\s+\" /share/nas04/bioinformatics_group/data/studies/jhs_aric_aa/imputed/v2/imputations/final_chunks | perl -lane 'print $F[1];'); do\n",
    "    baseName=jhs_aric_aa.aa.1000G.chr$chr.$chunk.mach.mldose\n",
    "    processingDir=/share/nas04/bioinformatics_group/data/studies/jhs_aric_aa/imputed/v2/association_tests/001/processing\n",
    "    /share/nas03/bioinformatics_group/software/scripts/qsub_job.sh \\\n",
    "      --job_name jhs_${chr}_$chunk \\\n",
    "      --script_prefix $processingDir/chr$chr/$baseName \\\n",
    "      --mem 7.5 \\\n",
    "      --priority -1 \\\n",
    "      --program /share/nas03/bioinformatics_group/software/perl/prepare_probabel_files.pl \\\n",
    "      --in_mldose /share/nas04/bioinformatics_group/data/studies/jhs_aric_aa/imputed/v2/imputations/aa/chr$chr/$baseName \\\n",
    "      --in_pheno $processingDir/jhs_aric_aa.CAT_FTND.AGE.SEX.EVs.v1 \\\n",
    "      --out_mldose $processingDir/chr$chr/$baseName\n",
    "  done\n",
    "done\n",
    "\n",
    "# Check for completion\n",
    "for (( chr=1; chr<23; chr++ )); do\n",
    "  for chunk in $(grep -P \"^$chr\\s+\" /share/nas04/bioinformatics_group/data/studies/jhs_aric_aa/imputed/v2/imputations/final_chunks | perl -lane 'print $F[1];'); do\n",
    "    file=/share/nas04/bioinformatics_group/data/studies/jhs_aric_aa/imputed/v2/association_tests/001/processing/chr$chr/jhs_aric_aa.aa.1000G.chr$chr.$chunk.mach.mldose.qsub.log\n",
    "    if [ -f $file ]; then\n",
    "      logLineCount=$(wc -l $file | perl -lane 'print $F[0];')\n",
    "      if [ $logLineCount -ne 4 ]; then\n",
    "        echo $file line count: $logLineCount\n",
    "      else\n",
    "        tail -n 1 $file |\n",
    "          perl -ne 'chomp; if (!/^Done/) { print \"'$file'\\n\".$_.\"\\n\"; }'\n",
    "      fi\n",
    "    else\n",
    "      echo $file missing\n",
    "    fi\n",
    "  done\n",
    "done\n",
    "\n",
    "### END Prepare files for ProbABEL ###\n",
    "\n",
    "\n",
    "### START ProbABEL analysis ###\n",
    "\n",
    "# Run palinear\n",
    "for (( chr=1; chr<23; chr++ )); do\n",
    "  for chunk in $(grep -P \"^$chr\\s+\" /share/nas04/bioinformatics_group/data/studies/jhs_aric_aa/imputed/v2/imputations/final_chunks | perl -lane 'print $F[1];'); do\n",
    "    baseName=jhs_aric_aa.aa.1000G.chr$chr.$chunk\n",
    "    imputationDir=/share/nas04/bioinformatics_group/data/studies/jhs_aric_aa/imputed/v2/imputations/aa/chr$chr\n",
    "    processingDir=/share/nas04/bioinformatics_group/data/studies/jhs_aric_aa/imputed/v2/association_tests/001/processing\n",
    "    /share/nas03/bioinformatics_group/software/scripts/qsub_job.sh \\\n",
    "      --job_name jhs_${chr}_$chunk \\\n",
    "      --script_prefix $processingDir/chr$chr/$baseName.CAT_FTND~SNP+AGE+SEX+EVs \\\n",
    "      --mem 10 \\\n",
    "      --priority -1 \\\n",
    "      --program /share/nas03/bioinformatics_group/software/palinear \\\n",
    "      --pheno $processingDir/jhs_aric_aa.CAT_FTND.AGE.SEX.EVs.v1 \\\n",
    "      --dose $processingDir/chr$chr/$baseName.mach.mldose \\\n",
    "      --info $imputationDir/$baseName.mach.mlinfo \\\n",
    "      --map $imputationDir/$baseName.legend \\\n",
    "      --chrom $chr \\\n",
    "      --out $processingDir/chr$chr/$baseName.CAT_FTND~SNP+AGE+SEX+EVs\n",
    "  done\n",
    "done\n",
    "\n",
    "# Check for completion\n",
    "for (( chr=1; chr<23; chr++ )); do\n",
    "  for chunk in $(grep -P \"^$chr\\s+\" /share/nas04/bioinformatics_group/data/studies/jhs_aric_aa/imputed/v2/imputations/final_chunks | perl -lane 'print $F[1];'); do\n",
    "    file=/share/nas04/bioinformatics_group/data/studies/jhs_aric_aa/imputed/v2/association_tests/001/processing/chr$chr/jhs_aric_aa.aa.1000G.chr$chr.$chunk.CAT_FTND~SNP+AGE+SEX+EVs.qsub.log\n",
    "    if [ -f $file ]\n",
    "    then\n",
    "      logLineCount=$(wc -l $file | perl -lane 'print $F[0];')\n",
    "      if [ $logLineCount -eq 0 ]; then\n",
    "        echo $file empty\n",
    "      else\n",
    "        tail -n 1 $file |\n",
    "          perl -ne 'chomp; if (!/^Analysis:/ || !/done$/) { print \"'$file'\\n\".$_.\"\\n\"; }'\n",
    "      fi\n",
    "    else\n",
    "      echo $file missing\n",
    "    fi\n",
    "  done\n",
    "done\n",
    "\n",
    "### END ProbABEL analysis ###\n",
    "\n",
    "\n",
    "### START Merge ProbABEL results ###\n",
    "\n",
    "for (( chr=1; chr<23; chr++ )); do\n",
    "  inFilePrefix=/share/nas04/bioinformatics_group/data/studies/jhs_aric_aa/imputed/v2/association_tests/001/processing/chr$chr/jhs_aric_aa.aa.1000G.chr$chr.\n",
    "  inFileSuffix=.CAT_FTND~SNP+AGE+SEX+EVs_add.out.txt\n",
    "  outFile=/share/nas04/bioinformatics_group/data/studies/jhs_aric_aa/imputed/v2/association_tests/001/processing/chr$chr/jhs_aric_aa.aa.1000G.chr$chr.CAT_FTND~SNP+AGE+SEX+EVs\n",
    "  echo Chromosome $chr\n",
    "  head -n 1 ${inFilePrefix}0$inFileSuffix > $outFile\n",
    "  for chunk in $(grep -P \"^$chr\\s+\" /share/nas04/bioinformatics_group/data/studies/jhs_aric_aa/imputed/v2/imputations/final_chunks | perl -lane 'print $F[1];'); do\n",
    "    echo Merging $inFilePrefix$chunk$inFileSuffix\n",
    "    tail -n +2 $inFilePrefix$chunk$inFileSuffix >> $outFile\n",
    "  done\n",
    "done\n",
    "\n",
    "### END Merge ProbABEL results ###\n",
    "\n",
    "\n",
    "### START Calculate chi, p, and OR ###\n",
    "\n",
    "for (( chr=1; chr<23; chr++ )); do\n",
    "  /share/nas03/bioinformatics_group/software/scripts/qsub_job.sh \\\n",
    "    --job_name jhs_$chr \\\n",
    "    --script_prefix /share/nas04/bioinformatics_group/data/studies/jhs_aric_aa/imputed/v2/association_tests/001/processing/chr$chr/jhs_aric_aa.aa.1000G.chr$chr.CAT_FTND~SNP+AGE+SEX+EVs.stats \\\n",
    "    --mem 3.8 \\\n",
    "    --priority 0 \\\n",
    "    --program /share/nas03/bioinformatics_group/software/R/calculate_stats_for_probabel_results_v2.R \\\n",
    "    --in_file /share/nas04/bioinformatics_group/data/studies/jhs_aric_aa/imputed/v2/association_tests/001/processing/chr$chr/jhs_aric_aa.aa.1000G.chr$chr.CAT_FTND~SNP+AGE+SEX+EVs \\\n",
    "    --out_file /share/nas04/bioinformatics_group/data/studies/jhs_aric_aa/imputed/v2/association_tests/001/processing/chr$chr/jhs_aric_aa.aa.1000G.chr$chr.CAT_FTND~SNP+AGE+SEX+EVs.stats \\\n",
    "    --remove_missing_p\n",
    "done \n",
    "\n",
    "### END Calculate chi, p, and OR ###\n",
    "\n",
    "\n",
    "### START Filter ###\n",
    "\n",
    "# MAF > 0.01 in AFR\n",
    "for (( chr=1; chr<23; chr++ )); do\n",
    "  if [ $chr == \"23\" ]; then\n",
    "    idList=/share/nas03/bioinformatics_group/data/ref_panels/1000G/2012.02/impute2/ALL/v3/ALL_1000G_phase1integrated_v3_chrX_nonPAR_impute.maf_lte_0.01_afr\n",
    "  else\n",
    "    idList=/share/nas03/bioinformatics_group/data/ref_panels/1000G/2013.12/impute2/ALL/ALL.chr$chr.integrated_phase1_v3.20101123.snps_indels_svs.genotypes.nomono.unique_ids.maf_lte_0.01_afr\n",
    "  fi\n",
    "  /share/nas03/bioinformatics_group/software/scripts/qsub_job.sh \\\n",
    "    --job_name jhs_$chr\\\n",
    "    --script_prefix /share/nas04/bioinformatics_group/data/studies/jhs_aric_aa/imputed/v2/association_tests/001/processing/chr$chr/jhs_aric_aa.aa.1000G.chr$chr.CAT_FTND~SNP+AGE+SEX+EVs.maf_gt_0.01_afr \\\n",
    "    --mem 2 \\\n",
    "    --priority 0 \\\n",
    "    --program /share/nas03/bioinformatics_group/software/perl/extract_rows.pl \\\n",
    "    --source /share/nas04/bioinformatics_group/data/studies/jhs_aric_aa/imputed/v2/association_tests/001/processing/chr$chr/jhs_aric_aa.aa.1000G.chr$chr.CAT_FTND~SNP+AGE+SEX+EVs.stats \\\n",
    "    --id_list $idList \\\n",
    "    --out /share/nas04/bioinformatics_group/data/studies/jhs_aric_aa/imputed/v2/association_tests/001/processing/chr$chr/jhs_aric_aa.aa.1000G.chr$chr.CAT_FTND~SNP+AGE+SEX+EVs.maf_gt_0.01_afr \\\n",
    "    --header 1 \\\n",
    "    --id_column 0 \\\n",
    "    --remove\n",
    "done\n",
    "\n",
    "mv /share/nas04/bioinformatics_group/data/studies/jhs_aric_aa/imputed/v2/association_tests/001/processing/chr*/*.maf_gt_0.01_afr \\\n",
    "  /share/nas04/bioinformatics_group/data/studies/jhs_aric_aa/imputed/v2/association_tests/001/final\n",
    "\n",
    "# MAF > 0.01 in AFR and study\n",
    "for (( chr=1; chr<23; chr++ )); do\n",
    "  inFile=/share/nas04/bioinformatics_group/data/studies/jhs_aric_aa/imputed/v2/association_tests/001/final/jhs_aric_aa.aa.1000G.chr$chr.CAT_FTND~SNP+AGE+SEX+EVs.maf_gt_0.01_afr\n",
    "  outFile=${inFile}_jhs_aric_aa\n",
    "  echo Processing $inFile\n",
    "  head -n 1 $inFile > $outFile\n",
    "  tail -n +2 $inFile |\n",
    "    perl -lane 'if ($F[6] > 0.01) { print; }' >> $outFile\n",
    "done\n",
    "\n",
    "### END Filter ###\n",
    "\n",
    "\n",
    "### START Generate plots ###\n",
    "\n",
    "for filter in maf_gt_0.01_afr maf_gt_0.01_afr_jhs_aric_aa; do\n",
    "  outFile=/share/nas04/bioinformatics_group/data/studies/jhs_aric_aa/imputed/v2/association_tests/001/processing/jhs_aric_aa.aa.1000G.CAT_FTND~SNP+AGE+SEX+EVs.$filter.table\n",
    "  echo -e \"VARIANT_ID\\tCHR\\tPOSITION\\tP\\tTYPE\" > $outFile\n",
    "  for (( chr=1; chr<23; chr++ )); do\n",
    "    inFile=/share/nas04/bioinformatics_group/data/studies/jhs_aric_aa/imputed/v2/association_tests/001/final/jhs_aric_aa.aa.1000G.chr$chr.CAT_FTND~SNP+AGE+SEX+EVs.$filter\n",
    "    echo Processing $inFile\n",
    "    tail -n +2 $inFile |\n",
    "      perl -lne '/^(\\S+)\\s+(\\S+)\\s+(\\S+)\\s+(\\S+)\\s+(\\S+)(?:\\s+\\S+){10}\\s+(\\S+)/;\n",
    "                  if (($4 eq \"A\" || $4 eq \"C\" || $4 eq \"G\" || $4 eq \"T\") && ($5 eq \"A\" || $5 eq \"C\" || $5 eq \"G\" || $5 eq \"T\")) {\n",
    "                    print join(\"\\t\",$1,$2,$3,$6,\"snp\");\n",
    "                  } else {\n",
    "                    print join(\"\\t\",$1,$2,$3,$6,\"indel\");\n",
    "                  }' >> $outFile\n",
    "  done\n",
    "done\n",
    "for filter in maf_gt_0.01_afr maf_gt_0.01_afr_jhs_aric_aa; do\n",
    "  /share/nas03/bioinformatics_group/software/scripts/qsub_job.sh \\\n",
    "    --job_name gwas_plots \\\n",
    "    --script_prefix /share/nas04/bioinformatics_group/data/studies/jhs_aric_aa/imputed/v2/association_tests/001/processing/jhs_aric_aa.aa.1000G.CAT_FTND~SNP+AGE+SEX+EVs.$filter.plots \\\n",
    "    --mem 15 \\\n",
    "    --priority 0 \\\n",
    "    --program /share/nas03/bioinformatics_group/software/R/dev/generate_gwas_plots.v6.R \\\n",
    "    --in /share/nas04/bioinformatics_group/data/studies/jhs_aric_aa/imputed/v2/association_tests/001/processing/jhs_aric_aa.aa.1000G.CAT_FTND~SNP+AGE+SEX+EVs.$filter.table \\\n",
    "    --in_chromosomes autosomal_nonPAR \\\n",
    "    --in_header \\\n",
    "    --out /share/nas04/bioinformatics_group/data/studies/jhs_aric_aa/imputed/v2/association_tests/001/processing/jhs_aric_aa.aa.1000G.CAT_FTND~SNP+AGE+SEX+EVs.$filter \\\n",
    "    --col_id VARIANT_ID \\\n",
    "    --col_chromosome CHR \\\n",
    "    --col_position POSITION \\\n",
    "    --col_p P \\\n",
    "    --col_variant_type TYPE \\\n",
    "    --generate_snp_indel_manhattan_plot \\\n",
    "    --manhattan_odd_chr_color red \\\n",
    "    --manhattan_even_chr_color blue \\\n",
    "    --manhattan_points_cex 1.5 \\\n",
    "    --generate_snp_indel_qq_plot \\\n",
    "    --qq_lines \\\n",
    "    --qq_points_bg black \\\n",
    "    --qq_lambda\n",
    "done\n",
    "\n",
    "python exclude_snps.py\n",
    "\n",
    "for filter in maf_gt_0.01_afr maf_gt_0.01_afr_jhs_aric_aa; do\n",
    "  /share/nas03/bioinformatics_group/software/scripts/qsub_job.sh \\\n",
    "    --job_name gwas_plots \\\n",
    "    --script_prefix /share/nas04/bioinformatics_group/data/studies/jhs_aric_aa/imputed/v2/association_tests/001/processing/jhs_aric_aa.aa.1000G.CAT_FTND~SNP+AGE+SEX+EVs.$filter.exclude_flip.plots \\\n",
    "    --mem 15 \\\n",
    "    --priority 0 \\\n",
    "    --program /share/nas03/bioinformatics_group/software/R/dev/generate_gwas_plots.v6.R \\\n",
    "    --in /share/nas04/bioinformatics_group/data/studies/jhs_aric_aa/imputed/v2/association_tests/001/processing/jhs_aric_aa.aa.1000G.CAT_FTND~SNP+AGE+SEX+EVs.$filter.exclude_flip.table \\\n",
    "    --in_chromosomes autosomal_nonPAR \\\n",
    "    --in_header \\\n",
    "    --out /share/nas04/bioinformatics_group/data/studies/jhs_aric_aa/imputed/v2/association_tests/001/processing/jhs_aric_aa.aa.1000G.CAT_FTND~SNP+AGE+SEX+EVs.$filter.exclude_flip \\\n",
    "    --col_id VARIANT_ID \\\n",
    "    --col_chromosome CHR \\\n",
    "    --col_position POSITION \\\n",
    "    --col_p P \\\n",
    "    --col_variant_type TYPE \\\n",
    "    --generate_snp_indel_manhattan_plot \\\n",
    "    --manhattan_odd_chr_color red \\\n",
    "    --manhattan_even_chr_color blue \\\n",
    "    --manhattan_points_cex 1.5 \\\n",
    "    --generate_snp_indel_qq_plot \\\n",
    "    --qq_lines \\\n",
    "    --qq_points_bg black \\\n",
    "    --qq_lambda\n",
    "done\n",
    "\n",
    "\n",
    "\n",
    "mv /share/nas04/bioinformatics_group/data/studies/jhs_aric_aa/imputed/v2/association_tests/001/processing/*.png \\\n",
    " /share/nas04/bioinformatics_group/data/studies/jhs_aric_aa/imputed/v2/association_tests/001/final\n",
    "\n",
    "### END Generate plots ###\n",
    "\n",
    "\n",
    "### START Filter by p-value ###\n",
    "\n",
    "# MAF > 0.01 in AFR\n",
    "for filter in maf_gt_0.01_afr maf_gt_0.01_afr_jhs_aric_aa; do\n",
    "  outFile=/share/nas04/bioinformatics_group/data/studies/jhs_aric_aa/imputed/v2/association_tests/001/processing/jhs_aric_aa.aa.1000G.CAT_FTND~SNP+AGE+SEX+EVs.$filter.p_lte_0.001\n",
    "  head -n 1 /share/nas04/bioinformatics_group/data/studies/jhs_aric_aa/imputed/v2/association_tests/001/final/jhs_aric_aa.aa.1000G.chr1.CAT_FTND~SNP+AGE+SEX+EVs.$filter > $outFile\n",
    "  for (( chr=1; chr<23; chr++ )); do\n",
    "    inFile=/share/nas04/bioinformatics_group/data/studies/jhs_aric_aa/imputed/v2/association_tests/001/final/jhs_aric_aa.aa.1000G.chr$chr.CAT_FTND~SNP+AGE+SEX+EVs.$filter\n",
    "    echo Processing $inFile\n",
    "    tail -n +2 $inFile |\n",
    "      perl -lane 'if ($F[15] <= 0.001) { print; }' >> $outFile\n",
    "  done\n",
    "done\n",
    "\n",
    "# Sort\n",
    "R\n",
    "for (filter in c(\"maf_gt_0.01_afr\",\"maf_gt_0.01_afr_jhs_aric_aa\")) {\n",
    "  inData=read.table(paste(sep=\"\",\"/share/nas04/bioinformatics_group/data/studies/jhs_aric_aa/imputed/v2/association_tests/001/processing/jhs_aric_aa.aa.1000G.CAT_FTND~SNP+AGE+SEX+EVs.\",filter,\".p_lte_0.001\"), header = TRUE)\n",
    "  inData = inData[order(inData$p),]\n",
    "  write.csv(inData, file=paste(sep=\"\",\"/share/nas04/bioinformatics_group/data/studies/jhs_aric_aa/imputed/v2/association_tests/001/final/jhs_aric_aa.aa.1000G.CAT_FTND~SNP+AGE+SEX+EVs.\",filter,\".p_lte_0.001.csv\"), row.names = FALSE)\n",
    "}\n",
    "\n",
    "## END Filter by p-value ###\n"
   ]
  }
 ],
 "metadata": {
  "kernelspec": {
   "display_name": "R",
   "language": "R",
   "name": "ir"
  },
  "language_info": {
   "codemirror_mode": "r",
   "file_extension": ".r",
   "mimetype": "text/x-r-source",
   "name": "R",
   "pygments_lexer": "r",
   "version": "3.4.1"
  },
  "toc": {
   "nav_menu": {},
   "number_sections": true,
   "sideBar": true,
   "skip_h1_title": false,
   "toc_cell": true,
   "toc_position": {
    "height": "727px",
    "left": "0px",
    "right": "1315.28px",
    "top": "107px",
    "width": "212px"
   },
   "toc_section_display": "block",
   "toc_window_display": true
  }
 },
 "nbformat": 4,
 "nbformat_minor": 2
}
