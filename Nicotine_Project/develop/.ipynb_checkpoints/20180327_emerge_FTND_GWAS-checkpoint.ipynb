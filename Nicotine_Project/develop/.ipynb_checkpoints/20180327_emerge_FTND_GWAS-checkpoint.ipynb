{
 "cells": [
  {
   "cell_type": "markdown",
   "metadata": {},
   "source": [
    "# eMerge Fagerstrom Test For Nicotine Dependence (FTND) GWAS\n",
    "__Author:__ Jesse Marks\n",
    "\n",
    "This document logs the steps taken to process the emerge data and perform the FTND GWAS. FTND is a standard instrument for assessing the physical addiction to nicotine. For more information, see [this website](https://cde.drugabuse.gov/instrument/d7c0b0f5-b865-e4de-e040-bb89ad43202b).\n",
    "\n",
    "The genotype data were imputed on the [Michigan Imputation Server](https://imputationserver.sph.umich.edu/index.html).\n",
    "\n",
    "* We use the variable `FTNDboth_cat` variable that lumps together the former smokers that have lifetime FTND (N=736) with the current smokers that have current FTND (N=78). This will optimize sample size, especially since the severe category is slim."
   ]
  },
  {
   "cell_type": "markdown",
   "metadata": {},
   "source": [
    "## FTNDboth_cat variable description\n",
    "| cat | Freq |   |\n",
    "|-----|------|---|\n",
    "| 0   | 537  |   |\n",
    "| 1   | 217  |   |\n",
    "| 2   | 60   |   |\n",
    "\n",
    "Where FTND conversion is 0=0-3, 1=4-6, and 2=7+"
   ]
  },
  {
   "cell_type": "markdown",
   "metadata": {},
   "source": [
    "## Convert Phenotype Data from Strata format to .csv file"
   ]
  },
  {
   "cell_type": "code",
   "execution_count": 2,
   "metadata": {},
   "outputs": [
    {
     "data": {
      "text/html": [
       "<table>\n",
       "<thead><tr><th scope=col>dbgap_subject_id</th><th scope=col>emergeid</th><th scope=col>px060701_smoking_cigarette_quant</th><th scope=col>v96</th><th scope=col>v97</th><th scope=col>v98</th><th scope=col>px070301_exposure_smoke_childhoo</th><th scope=col>v332</th><th scope=col>v333</th><th scope=col>px070301_exposure_smoke_adulthoo</th><th scope=col>...</th><th scope=col>wstFTND4</th><th scope=col>curFTND5</th><th scope=col>wstFTND5</th><th scope=col>curFTND6</th><th scope=col>wstFTND6</th><th scope=col>CurFTND</th><th scope=col>WstFTND</th><th scope=col>curFTND_cat</th><th scope=col>wstFTND_cat</th><th scope=col>FTNDboth_cat</th></tr></thead>\n",
       "<tbody>\n",
       "\t<tr><td>197114  </td><td>16214874</td><td>NA      </td><td>NA      </td><td>NA      </td><td>NA      </td><td>NA      </td><td>NA      </td><td>NA      </td><td>NA      </td><td>...     </td><td>NA      </td><td>NA      </td><td>NA      </td><td>NA      </td><td>NA      </td><td>NA      </td><td>NA      </td><td>NA      </td><td>NA      </td><td>NA      </td></tr>\n",
       "\t<tr><td>196041  </td><td>16214875</td><td>NA      </td><td>NA      </td><td>NA      </td><td>NA      </td><td> 1      </td><td>99      </td><td>99      </td><td> 1      </td><td>...     </td><td>NA      </td><td>NA      </td><td>NA      </td><td>NA      </td><td>NA      </td><td>NA      </td><td>NA      </td><td>NA      </td><td>NA      </td><td>NA      </td></tr>\n",
       "\t<tr><td>199794  </td><td>16214879</td><td>NA      </td><td>NA      </td><td>NA      </td><td>NA      </td><td> 1      </td><td>99      </td><td>99      </td><td> 1      </td><td>...     </td><td> 1      </td><td>NA      </td><td> 0      </td><td>NA      </td><td> 0      </td><td>NA      </td><td> 3      </td><td>NA      </td><td> 0      </td><td> 0      </td></tr>\n",
       "\t<tr><td>197593  </td><td>16214881</td><td>NA      </td><td>NA      </td><td>NA      </td><td>NA      </td><td> 2      </td><td>NA      </td><td>NA      </td><td> 2      </td><td>...     </td><td>NA      </td><td>NA      </td><td>NA      </td><td>NA      </td><td>NA      </td><td>NA      </td><td>NA      </td><td>NA      </td><td>NA      </td><td>NA      </td></tr>\n",
       "\t<tr><td>199622  </td><td>16214896</td><td>NA      </td><td>NA      </td><td>NA      </td><td>NA      </td><td> 1      </td><td> 6      </td><td>18      </td><td> 1      </td><td>...     </td><td> 0      </td><td>NA      </td><td> 0      </td><td>NA      </td><td> 0      </td><td>NA      </td><td> 1      </td><td>NA      </td><td> 0      </td><td> 0      </td></tr>\n",
       "</tbody>\n",
       "</table>\n"
      ],
      "text/latex": [
       "\\begin{tabular}{r|lllllllllllllllllllllllllllllllllllllllllllllllllllllllllllllllllllllllllllllllll}\n",
       " dbgap\\_subject\\_id & emergeid & px060701\\_smoking\\_cigarette\\_quant & v96 & v97 & v98 & px070301\\_exposure\\_smoke\\_childhoo & v332 & v333 & px070301\\_exposure\\_smoke\\_adulthoo & ... & wstFTND4 & curFTND5 & wstFTND5 & curFTND6 & wstFTND6 & CurFTND & WstFTND & curFTND\\_cat & wstFTND\\_cat & FTNDboth\\_cat\\\\\n",
       "\\hline\n",
       "\t 197114   & 16214874 & NA       & NA       & NA       & NA       & NA       & NA       & NA       & NA       & ...      & NA       & NA       & NA       & NA       & NA       & NA       & NA       & NA       & NA       & NA      \\\\\n",
       "\t 196041   & 16214875 & NA       & NA       & NA       & NA       &  1       & 99       & 99       &  1       & ...      & NA       & NA       & NA       & NA       & NA       & NA       & NA       & NA       & NA       & NA      \\\\\n",
       "\t 199794   & 16214879 & NA       & NA       & NA       & NA       &  1       & 99       & 99       &  1       & ...      &  1       & NA       &  0       & NA       &  0       & NA       &  3       & NA       &  0       &  0      \\\\\n",
       "\t 197593   & 16214881 & NA       & NA       & NA       & NA       &  2       & NA       & NA       &  2       & ...      & NA       & NA       & NA       & NA       & NA       & NA       & NA       & NA       & NA       & NA      \\\\\n",
       "\t 199622   & 16214896 & NA       & NA       & NA       & NA       &  1       &  6       & 18       &  1       & ...      &  0       & NA       &  0       & NA       &  0       & NA       &  1       & NA       &  0       &  0      \\\\\n",
       "\\end{tabular}\n"
      ],
      "text/markdown": [
       "\n",
       "dbgap_subject_id | emergeid | px060701_smoking_cigarette_quant | v96 | v97 | v98 | px070301_exposure_smoke_childhoo | v332 | v333 | px070301_exposure_smoke_adulthoo | ... | wstFTND4 | curFTND5 | wstFTND5 | curFTND6 | wstFTND6 | CurFTND | WstFTND | curFTND_cat | wstFTND_cat | FTNDboth_cat | \n",
       "|---|---|---|---|---|\n",
       "| 197114   | 16214874 | NA       | NA       | NA       | NA       | NA       | NA       | NA       | NA       | ...      | NA       | NA       | NA       | NA       | NA       | NA       | NA       | NA       | NA       | NA       | \n",
       "| 196041   | 16214875 | NA       | NA       | NA       | NA       |  1       | 99       | 99       |  1       | ...      | NA       | NA       | NA       | NA       | NA       | NA       | NA       | NA       | NA       | NA       | \n",
       "| 199794   | 16214879 | NA       | NA       | NA       | NA       |  1       | 99       | 99       |  1       | ...      |  1       | NA       |  0       | NA       |  0       | NA       |  3       | NA       |  0       |  0       | \n",
       "| 197593   | 16214881 | NA       | NA       | NA       | NA       |  2       | NA       | NA       |  2       | ...      | NA       | NA       | NA       | NA       | NA       | NA       | NA       | NA       | NA       | NA       | \n",
       "| 199622   | 16214896 | NA       | NA       | NA       | NA       |  1       |  6       | 18       |  1       | ...      |  0       | NA       |  0       | NA       |  0       | NA       |  1       | NA       |  0       |  0       | \n",
       "\n",
       "\n"
      ],
      "text/plain": [
       "  dbgap_subject_id emergeid px060701_smoking_cigarette_quant v96 v97 v98\n",
       "1 197114           16214874 NA                               NA  NA  NA \n",
       "2 196041           16214875 NA                               NA  NA  NA \n",
       "3 199794           16214879 NA                               NA  NA  NA \n",
       "4 197593           16214881 NA                               NA  NA  NA \n",
       "5 199622           16214896 NA                               NA  NA  NA \n",
       "  px070301_exposure_smoke_childhoo v332 v333 px070301_exposure_smoke_adulthoo\n",
       "1 NA                               NA   NA   NA                              \n",
       "2  1                               99   99    1                              \n",
       "3  1                               99   99    1                              \n",
       "4  2                               NA   NA    2                              \n",
       "5  1                                6   18    1                              \n",
       "  ... wstFTND4 curFTND5 wstFTND5 curFTND6 wstFTND6 CurFTND WstFTND curFTND_cat\n",
       "1 ... NA       NA       NA       NA       NA       NA      NA      NA         \n",
       "2 ... NA       NA       NA       NA       NA       NA      NA      NA         \n",
       "3 ...  1       NA        0       NA        0       NA       3      NA         \n",
       "4 ... NA       NA       NA       NA       NA       NA      NA      NA         \n",
       "5 ...  0       NA        0       NA        0       NA       1      NA         \n",
       "  wstFTND_cat FTNDboth_cat\n",
       "1 NA          NA          \n",
       "2 NA          NA          \n",
       "3  0           0          \n",
       "4 NA          NA          \n",
       "5  0           0          "
      ]
     },
     "metadata": {},
     "output_type": "display_data"
    }
   ],
   "source": [
    "### R console ###\n",
    "library(haven)\n",
    "\n",
    "# convert Stata data into comma separated\n",
    "setwd('C:/Users/jmarks/Desktop/Projects/Nicotine/eMerge/phenotype/') # local machine\n",
    "pheno = read_dta(\"FTND Phenotype.dta\")\n",
    "write.csv(pheno, file = \"FTND_pheno.csv\")\n",
    "pheno[1:5,]"
   ]
  },
  {
   "cell_type": "markdown",
   "metadata": {},
   "source": [
    "## Copy phenotype data to EC2"
   ]
  },
  {
   "cell_type": "code",
   "execution_count": null,
   "metadata": {
    "collapsed": true
   },
   "outputs": [],
   "source": [
    "### local machine ###\n",
    "cd /cygdrive/c/Users/jmarks/Desktop/Projects/Nicotine/eMerge/phenotype\n",
    "scp -i ~/.ssh/gwas_rsa FTND_pheno.csv ec2-user@35.171.207.199:/shared/s3/emerge/data/phenotype"
   ]
  },
  {
   "cell_type": "markdown",
   "metadata": {
    "collapsed": true
   },
   "source": [
    "## Inflate imputation results"
   ]
  },
  {
   "cell_type": "code",
   "execution_count": null,
   "metadata": {
    "collapsed": true
   },
   "outputs": [],
   "source": [
    "### EC2 console ###\n",
    "cd /shared/s3/emerge/data/genotype/imputed\n",
    "\n",
    "# inflate chr results\n",
    "for f in {1..22};do\n",
    "echo '#!/bin/bash' > chr_$f.sh\n",
    "echo '' >> chr_$f.sh\n",
    "echo 'unzip -P \"ScSu1byrJL49kO\" chr_'$f'.zip' >> chr_$f.sh\n",
    "done\n",
    "\n",
    "for chr in {1..22}; do\n",
    "sh /shared/bioinformatics/software/scripts/qsub_job.sh \\\n",
    "--job_name inflate_chr${chr} \\\n",
    "--script_prefix test/chr${chr}_results \\\n",
    "--mem 5 \\\n",
    "--priority 0 \\\n",
    "--program bash chr_${chr}.sh\n",
    "done"
   ]
  },
  {
   "cell_type": "code",
   "execution_count": 6,
   "metadata": {},
   "outputs": [
    {
     "data": {
      "text/html": [
       "<table>\n",
       "<thead><tr><th scope=col>dbgap_subject_id</th><th scope=col>emergeid</th><th scope=col>px060701_smoking_cigarette_quant</th><th scope=col>v96</th><th scope=col>v97</th><th scope=col>v98</th><th scope=col>px070301_exposure_smoke_childhoo</th><th scope=col>v332</th><th scope=col>v333</th><th scope=col>px070301_exposure_smoke_adulthoo</th><th scope=col>...</th><th scope=col>wstFTND4</th><th scope=col>curFTND5</th><th scope=col>wstFTND5</th><th scope=col>curFTND6</th><th scope=col>wstFTND6</th><th scope=col>CurFTND</th><th scope=col>WstFTND</th><th scope=col>curFTND_cat</th><th scope=col>wstFTND_cat</th><th scope=col>FTNDboth_cat</th></tr></thead>\n",
       "<tbody>\n",
       "\t<tr><td>197114  </td><td>16214874</td><td>NA      </td><td>NA      </td><td>NA      </td><td>NA      </td><td>NA      </td><td>NA      </td><td>NA      </td><td>NA      </td><td>...     </td><td>NA      </td><td>NA      </td><td>NA      </td><td>NA      </td><td>NA      </td><td>NA      </td><td>NA      </td><td>NA      </td><td>NA      </td><td>NA      </td></tr>\n",
       "\t<tr><td>196041  </td><td>16214875</td><td>NA      </td><td>NA      </td><td>NA      </td><td>NA      </td><td> 1      </td><td>99      </td><td>99      </td><td> 1      </td><td>...     </td><td>NA      </td><td>NA      </td><td>NA      </td><td>NA      </td><td>NA      </td><td>NA      </td><td>NA      </td><td>NA      </td><td>NA      </td><td>NA      </td></tr>\n",
       "\t<tr><td>199794  </td><td>16214879</td><td>NA      </td><td>NA      </td><td>NA      </td><td>NA      </td><td> 1      </td><td>99      </td><td>99      </td><td> 1      </td><td>...     </td><td> 1      </td><td>NA      </td><td> 0      </td><td>NA      </td><td> 0      </td><td>NA      </td><td> 3      </td><td>NA      </td><td> 0      </td><td> 0      </td></tr>\n",
       "\t<tr><td>197593  </td><td>16214881</td><td>NA      </td><td>NA      </td><td>NA      </td><td>NA      </td><td> 2      </td><td>NA      </td><td>NA      </td><td> 2      </td><td>...     </td><td>NA      </td><td>NA      </td><td>NA      </td><td>NA      </td><td>NA      </td><td>NA      </td><td>NA      </td><td>NA      </td><td>NA      </td><td>NA      </td></tr>\n",
       "\t<tr><td>199622  </td><td>16214896</td><td>NA      </td><td>NA      </td><td>NA      </td><td>NA      </td><td> 1      </td><td> 6      </td><td>18      </td><td> 1      </td><td>...     </td><td> 0      </td><td>NA      </td><td> 0      </td><td>NA      </td><td> 0      </td><td>NA      </td><td> 1      </td><td>NA      </td><td> 0      </td><td> 0      </td></tr>\n",
       "\t<tr><td>198387  </td><td>16214899</td><td>NA      </td><td>NA      </td><td>NA      </td><td>NA      </td><td>NA      </td><td>NA      </td><td>NA      </td><td> 1      </td><td>...     </td><td>NA      </td><td>NA      </td><td>NA      </td><td>NA      </td><td>NA      </td><td>NA      </td><td>NA      </td><td>NA      </td><td>NA      </td><td>NA      </td></tr>\n",
       "\t<tr><td>196059  </td><td>16214926</td><td>NA      </td><td>NA      </td><td>NA      </td><td>NA      </td><td>NA      </td><td>NA      </td><td>NA      </td><td> 1      </td><td>...     </td><td>NA      </td><td>NA      </td><td>NA      </td><td>NA      </td><td>NA      </td><td>NA      </td><td>NA      </td><td>NA      </td><td>NA      </td><td>NA      </td></tr>\n",
       "\t<tr><td>198933  </td><td>16214927</td><td>NA      </td><td>NA      </td><td>NA      </td><td>NA      </td><td>NA      </td><td>NA      </td><td>NA      </td><td>NA      </td><td>...     </td><td>NA      </td><td>NA      </td><td>NA      </td><td>NA      </td><td>NA      </td><td>NA      </td><td>NA      </td><td>NA      </td><td>NA      </td><td>NA      </td></tr>\n",
       "\t<tr><td>196928  </td><td>16214948</td><td>NA      </td><td>NA      </td><td>NA      </td><td>NA      </td><td> 1      </td><td>99      </td><td>19      </td><td> 1      </td><td>...     </td><td> 1      </td><td>NA      </td><td>NA      </td><td>NA      </td><td> 0      </td><td>NA      </td><td>NA      </td><td>NA      </td><td>NA      </td><td>NA      </td></tr>\n",
       "\t<tr><td>196629  </td><td>16215019</td><td>NA      </td><td> 0      </td><td>NA      </td><td>NA      </td><td>NA      </td><td>NA      </td><td>NA      </td><td>NA      </td><td>...     </td><td>NA      </td><td>NA      </td><td>NA      </td><td>NA      </td><td>NA      </td><td>NA      </td><td>NA      </td><td>NA      </td><td>NA      </td><td>NA      </td></tr>\n",
       "</tbody>\n",
       "</table>\n"
      ],
      "text/latex": [
       "\\begin{tabular}{r|lllllllllllllllllllllllllllllllllllllllllllllllllllllllllllllllllllllllllllllllll}\n",
       " dbgap\\_subject\\_id & emergeid & px060701\\_smoking\\_cigarette\\_quant & v96 & v97 & v98 & px070301\\_exposure\\_smoke\\_childhoo & v332 & v333 & px070301\\_exposure\\_smoke\\_adulthoo & ... & wstFTND4 & curFTND5 & wstFTND5 & curFTND6 & wstFTND6 & CurFTND & WstFTND & curFTND\\_cat & wstFTND\\_cat & FTNDboth\\_cat\\\\\n",
       "\\hline\n",
       "\t 197114   & 16214874 & NA       & NA       & NA       & NA       & NA       & NA       & NA       & NA       & ...      & NA       & NA       & NA       & NA       & NA       & NA       & NA       & NA       & NA       & NA      \\\\\n",
       "\t 196041   & 16214875 & NA       & NA       & NA       & NA       &  1       & 99       & 99       &  1       & ...      & NA       & NA       & NA       & NA       & NA       & NA       & NA       & NA       & NA       & NA      \\\\\n",
       "\t 199794   & 16214879 & NA       & NA       & NA       & NA       &  1       & 99       & 99       &  1       & ...      &  1       & NA       &  0       & NA       &  0       & NA       &  3       & NA       &  0       &  0      \\\\\n",
       "\t 197593   & 16214881 & NA       & NA       & NA       & NA       &  2       & NA       & NA       &  2       & ...      & NA       & NA       & NA       & NA       & NA       & NA       & NA       & NA       & NA       & NA      \\\\\n",
       "\t 199622   & 16214896 & NA       & NA       & NA       & NA       &  1       &  6       & 18       &  1       & ...      &  0       & NA       &  0       & NA       &  0       & NA       &  1       & NA       &  0       &  0      \\\\\n",
       "\t 198387   & 16214899 & NA       & NA       & NA       & NA       & NA       & NA       & NA       &  1       & ...      & NA       & NA       & NA       & NA       & NA       & NA       & NA       & NA       & NA       & NA      \\\\\n",
       "\t 196059   & 16214926 & NA       & NA       & NA       & NA       & NA       & NA       & NA       &  1       & ...      & NA       & NA       & NA       & NA       & NA       & NA       & NA       & NA       & NA       & NA      \\\\\n",
       "\t 198933   & 16214927 & NA       & NA       & NA       & NA       & NA       & NA       & NA       & NA       & ...      & NA       & NA       & NA       & NA       & NA       & NA       & NA       & NA       & NA       & NA      \\\\\n",
       "\t 196928   & 16214948 & NA       & NA       & NA       & NA       &  1       & 99       & 19       &  1       & ...      &  1       & NA       & NA       & NA       &  0       & NA       & NA       & NA       & NA       & NA      \\\\\n",
       "\t 196629   & 16215019 & NA       &  0       & NA       & NA       & NA       & NA       & NA       & NA       & ...      & NA       & NA       & NA       & NA       & NA       & NA       & NA       & NA       & NA       & NA      \\\\\n",
       "\\end{tabular}\n"
      ],
      "text/markdown": [
       "\n",
       "dbgap_subject_id | emergeid | px060701_smoking_cigarette_quant | v96 | v97 | v98 | px070301_exposure_smoke_childhoo | v332 | v333 | px070301_exposure_smoke_adulthoo | ... | wstFTND4 | curFTND5 | wstFTND5 | curFTND6 | wstFTND6 | CurFTND | WstFTND | curFTND_cat | wstFTND_cat | FTNDboth_cat | \n",
       "|---|---|---|---|---|---|---|---|---|---|\n",
       "| 197114   | 16214874 | NA       | NA       | NA       | NA       | NA       | NA       | NA       | NA       | ...      | NA       | NA       | NA       | NA       | NA       | NA       | NA       | NA       | NA       | NA       | \n",
       "| 196041   | 16214875 | NA       | NA       | NA       | NA       |  1       | 99       | 99       |  1       | ...      | NA       | NA       | NA       | NA       | NA       | NA       | NA       | NA       | NA       | NA       | \n",
       "| 199794   | 16214879 | NA       | NA       | NA       | NA       |  1       | 99       | 99       |  1       | ...      |  1       | NA       |  0       | NA       |  0       | NA       |  3       | NA       |  0       |  0       | \n",
       "| 197593   | 16214881 | NA       | NA       | NA       | NA       |  2       | NA       | NA       |  2       | ...      | NA       | NA       | NA       | NA       | NA       | NA       | NA       | NA       | NA       | NA       | \n",
       "| 199622   | 16214896 | NA       | NA       | NA       | NA       |  1       |  6       | 18       |  1       | ...      |  0       | NA       |  0       | NA       |  0       | NA       |  1       | NA       |  0       |  0       | \n",
       "| 198387   | 16214899 | NA       | NA       | NA       | NA       | NA       | NA       | NA       |  1       | ...      | NA       | NA       | NA       | NA       | NA       | NA       | NA       | NA       | NA       | NA       | \n",
       "| 196059   | 16214926 | NA       | NA       | NA       | NA       | NA       | NA       | NA       |  1       | ...      | NA       | NA       | NA       | NA       | NA       | NA       | NA       | NA       | NA       | NA       | \n",
       "| 198933   | 16214927 | NA       | NA       | NA       | NA       | NA       | NA       | NA       | NA       | ...      | NA       | NA       | NA       | NA       | NA       | NA       | NA       | NA       | NA       | NA       | \n",
       "| 196928   | 16214948 | NA       | NA       | NA       | NA       |  1       | 99       | 19       |  1       | ...      |  1       | NA       | NA       | NA       |  0       | NA       | NA       | NA       | NA       | NA       | \n",
       "| 196629   | 16215019 | NA       |  0       | NA       | NA       | NA       | NA       | NA       | NA       | ...      | NA       | NA       | NA       | NA       | NA       | NA       | NA       | NA       | NA       | NA       | \n",
       "\n",
       "\n"
      ],
      "text/plain": [
       "   dbgap_subject_id emergeid px060701_smoking_cigarette_quant v96 v97 v98\n",
       "1  197114           16214874 NA                               NA  NA  NA \n",
       "2  196041           16214875 NA                               NA  NA  NA \n",
       "3  199794           16214879 NA                               NA  NA  NA \n",
       "4  197593           16214881 NA                               NA  NA  NA \n",
       "5  199622           16214896 NA                               NA  NA  NA \n",
       "6  198387           16214899 NA                               NA  NA  NA \n",
       "7  196059           16214926 NA                               NA  NA  NA \n",
       "8  198933           16214927 NA                               NA  NA  NA \n",
       "9  196928           16214948 NA                               NA  NA  NA \n",
       "10 196629           16215019 NA                                0  NA  NA \n",
       "   px070301_exposure_smoke_childhoo v332 v333 px070301_exposure_smoke_adulthoo\n",
       "1  NA                               NA   NA   NA                              \n",
       "2   1                               99   99    1                              \n",
       "3   1                               99   99    1                              \n",
       "4   2                               NA   NA    2                              \n",
       "5   1                                6   18    1                              \n",
       "6  NA                               NA   NA    1                              \n",
       "7  NA                               NA   NA    1                              \n",
       "8  NA                               NA   NA   NA                              \n",
       "9   1                               99   19    1                              \n",
       "10 NA                               NA   NA   NA                              \n",
       "   ... wstFTND4 curFTND5 wstFTND5 curFTND6 wstFTND6 CurFTND WstFTND curFTND_cat\n",
       "1  ... NA       NA       NA       NA       NA       NA      NA      NA         \n",
       "2  ... NA       NA       NA       NA       NA       NA      NA      NA         \n",
       "3  ...  1       NA        0       NA        0       NA       3      NA         \n",
       "4  ... NA       NA       NA       NA       NA       NA      NA      NA         \n",
       "5  ...  0       NA        0       NA        0       NA       1      NA         \n",
       "6  ... NA       NA       NA       NA       NA       NA      NA      NA         \n",
       "7  ... NA       NA       NA       NA       NA       NA      NA      NA         \n",
       "8  ... NA       NA       NA       NA       NA       NA      NA      NA         \n",
       "9  ...  1       NA       NA       NA        0       NA      NA      NA         \n",
       "10 ... NA       NA       NA       NA       NA       NA      NA      NA         \n",
       "   wstFTND_cat FTNDboth_cat\n",
       "1  NA          NA          \n",
       "2  NA          NA          \n",
       "3   0           0          \n",
       "4  NA          NA          \n",
       "5   0           0          \n",
       "6  NA          NA          \n",
       "7  NA          NA          \n",
       "8  NA          NA          \n",
       "9  NA          NA          \n",
       "10 NA          NA          "
      ]
     },
     "metadata": {},
     "output_type": "display_data"
    },
    {
     "data": {
      "text/html": [
       "81"
      ],
      "text/latex": [
       "81"
      ],
      "text/markdown": [
       "81"
      ],
      "text/plain": [
       "[1] 81"
      ]
     },
     "metadata": {},
     "output_type": "display_data"
    },
    {
     "data": {
      "text/html": [
       "<ol class=list-inline>\n",
       "\t<li>'dbgap_subject_id'</li>\n",
       "\t<li>'emergeid'</li>\n",
       "\t<li>'px060701_smoking_cigarette_quant'</li>\n",
       "\t<li>'v96'</li>\n",
       "\t<li>'v97'</li>\n",
       "\t<li>'v98'</li>\n",
       "\t<li>'px070301_exposure_smoke_childhoo'</li>\n",
       "\t<li>'v332'</li>\n",
       "\t<li>'v333'</li>\n",
       "\t<li>'px070301_exposure_smoke_adulthoo'</li>\n",
       "\t<li>'v335'</li>\n",
       "\t<li>'v336'</li>\n",
       "\t<li>'v337'</li>\n",
       "\t<li>'v338'</li>\n",
       "\t<li>'v339'</li>\n",
       "\t<li>'px070301_exposure_smoke_social_s'</li>\n",
       "\t<li>'v341'</li>\n",
       "\t<li>'v342'</li>\n",
       "\t<li>'px070301_exposure_smoke_present_'</li>\n",
       "\t<li>'px010601_race'</li>\n",
       "\t<li>'px030802_everyday_smoker_quantit'</li>\n",
       "\t<li>'px030802_someday_smoker_days_1mo'</li>\n",
       "\t<li>'px030802_someday_smoker_quantity'</li>\n",
       "\t<li>'px030802_former_smoker_smoking_6'</li>\n",
       "\t<li>'px030802_former_smoker_quantity_'</li>\n",
       "\t<li>'v405'</li>\n",
       "\t<li>'px030702_first_cigarette_smoking'</li>\n",
       "\t<li>'v407'</li>\n",
       "\t<li>'px030902_smoking_cessation_time_'</li>\n",
       "\t<li>'v409'</li>\n",
       "\t<li>'px031001_current_smoker_1stsmoke'</li>\n",
       "\t<li>'px031001_current_smoker_refraini'</li>\n",
       "\t<li>'v412'</li>\n",
       "\t<li>'px031001_current_smoker_quantity'</li>\n",
       "\t<li>'px031001_current_smoker_more_1st'</li>\n",
       "\t<li>'px031001_current_smoker_smoking_'</li>\n",
       "\t<li>'px031001_former_smoker_1stsmoke_'</li>\n",
       "\t<li>'px031001_former_smoker_refrainin'</li>\n",
       "\t<li>'v418'</li>\n",
       "\t<li>'px031001_former_smoker_quantity_'</li>\n",
       "\t<li>'px031001_former_smoker_more_1sth'</li>\n",
       "\t<li>'px031001_former_smoker_smoking_d'</li>\n",
       "\t<li>'v422'</li>\n",
       "\t<li>'v423'</li>\n",
       "\t<li>'v424'</li>\n",
       "\t<li>'v425'</li>\n",
       "\t<li>'v426'</li>\n",
       "\t<li>'v427'</li>\n",
       "\t<li>'px031001_current_smoker_more'</li>\n",
       "\t<li>'px030602_cigarette_smoking_100'</li>\n",
       "\t<li>'px030602_cigarette_smoking_curre'</li>\n",
       "\t<li>'px030602_cigarette_smoking_every'</li>\n",
       "\t<li>'stroke_code'</li>\n",
       "\t<li>'tia_code'</li>\n",
       "\t<li>'first_stroke_age'</li>\n",
       "\t<li>'first_tia_age'</li>\n",
       "\t<li>'last_stroke_age'</li>\n",
       "\t<li>'last_tia_age'</li>\n",
       "\t<li>'pwtlbs'</li>\n",
       "\t<li>'wt_age'</li>\n",
       "\t<li>'ds_mde'</li>\n",
       "\t<li>'qids_severity'</li>\n",
       "\t<li>'px020602_handedness'</li>\n",
       "\t<li>'px010101_age'</li>\n",
       "\t<li>'curFTND1'</li>\n",
       "\t<li>'wstFTND1'</li>\n",
       "\t<li>'curFTND2'</li>\n",
       "\t<li>'wstFTND2'</li>\n",
       "\t<li>'curFTND3'</li>\n",
       "\t<li>'wstFTND3'</li>\n",
       "\t<li>'curFTND4'</li>\n",
       "\t<li>'wstFTND4'</li>\n",
       "\t<li>'curFTND5'</li>\n",
       "\t<li>'wstFTND5'</li>\n",
       "\t<li>'curFTND6'</li>\n",
       "\t<li>'wstFTND6'</li>\n",
       "\t<li>'CurFTND'</li>\n",
       "\t<li>'WstFTND'</li>\n",
       "\t<li>'curFTND_cat'</li>\n",
       "\t<li>'wstFTND_cat'</li>\n",
       "\t<li>'FTNDboth_cat'</li>\n",
       "</ol>\n"
      ],
      "text/latex": [
       "\\begin{enumerate*}\n",
       "\\item 'dbgap\\_subject\\_id'\n",
       "\\item 'emergeid'\n",
       "\\item 'px060701\\_smoking\\_cigarette\\_quant'\n",
       "\\item 'v96'\n",
       "\\item 'v97'\n",
       "\\item 'v98'\n",
       "\\item 'px070301\\_exposure\\_smoke\\_childhoo'\n",
       "\\item 'v332'\n",
       "\\item 'v333'\n",
       "\\item 'px070301\\_exposure\\_smoke\\_adulthoo'\n",
       "\\item 'v335'\n",
       "\\item 'v336'\n",
       "\\item 'v337'\n",
       "\\item 'v338'\n",
       "\\item 'v339'\n",
       "\\item 'px070301\\_exposure\\_smoke\\_social\\_s'\n",
       "\\item 'v341'\n",
       "\\item 'v342'\n",
       "\\item 'px070301\\_exposure\\_smoke\\_present\\_'\n",
       "\\item 'px010601\\_race'\n",
       "\\item 'px030802\\_everyday\\_smoker\\_quantit'\n",
       "\\item 'px030802\\_someday\\_smoker\\_days\\_1mo'\n",
       "\\item 'px030802\\_someday\\_smoker\\_quantity'\n",
       "\\item 'px030802\\_former\\_smoker\\_smoking\\_6'\n",
       "\\item 'px030802\\_former\\_smoker\\_quantity\\_'\n",
       "\\item 'v405'\n",
       "\\item 'px030702\\_first\\_cigarette\\_smoking'\n",
       "\\item 'v407'\n",
       "\\item 'px030902\\_smoking\\_cessation\\_time\\_'\n",
       "\\item 'v409'\n",
       "\\item 'px031001\\_current\\_smoker\\_1stsmoke'\n",
       "\\item 'px031001\\_current\\_smoker\\_refraini'\n",
       "\\item 'v412'\n",
       "\\item 'px031001\\_current\\_smoker\\_quantity'\n",
       "\\item 'px031001\\_current\\_smoker\\_more\\_1st'\n",
       "\\item 'px031001\\_current\\_smoker\\_smoking\\_'\n",
       "\\item 'px031001\\_former\\_smoker\\_1stsmoke\\_'\n",
       "\\item 'px031001\\_former\\_smoker\\_refrainin'\n",
       "\\item 'v418'\n",
       "\\item 'px031001\\_former\\_smoker\\_quantity\\_'\n",
       "\\item 'px031001\\_former\\_smoker\\_more\\_1sth'\n",
       "\\item 'px031001\\_former\\_smoker\\_smoking\\_d'\n",
       "\\item 'v422'\n",
       "\\item 'v423'\n",
       "\\item 'v424'\n",
       "\\item 'v425'\n",
       "\\item 'v426'\n",
       "\\item 'v427'\n",
       "\\item 'px031001\\_current\\_smoker\\_more'\n",
       "\\item 'px030602\\_cigarette\\_smoking\\_100'\n",
       "\\item 'px030602\\_cigarette\\_smoking\\_curre'\n",
       "\\item 'px030602\\_cigarette\\_smoking\\_every'\n",
       "\\item 'stroke\\_code'\n",
       "\\item 'tia\\_code'\n",
       "\\item 'first\\_stroke\\_age'\n",
       "\\item 'first\\_tia\\_age'\n",
       "\\item 'last\\_stroke\\_age'\n",
       "\\item 'last\\_tia\\_age'\n",
       "\\item 'pwtlbs'\n",
       "\\item 'wt\\_age'\n",
       "\\item 'ds\\_mde'\n",
       "\\item 'qids\\_severity'\n",
       "\\item 'px020602\\_handedness'\n",
       "\\item 'px010101\\_age'\n",
       "\\item 'curFTND1'\n",
       "\\item 'wstFTND1'\n",
       "\\item 'curFTND2'\n",
       "\\item 'wstFTND2'\n",
       "\\item 'curFTND3'\n",
       "\\item 'wstFTND3'\n",
       "\\item 'curFTND4'\n",
       "\\item 'wstFTND4'\n",
       "\\item 'curFTND5'\n",
       "\\item 'wstFTND5'\n",
       "\\item 'curFTND6'\n",
       "\\item 'wstFTND6'\n",
       "\\item 'CurFTND'\n",
       "\\item 'WstFTND'\n",
       "\\item 'curFTND\\_cat'\n",
       "\\item 'wstFTND\\_cat'\n",
       "\\item 'FTNDboth\\_cat'\n",
       "\\end{enumerate*}\n"
      ],
      "text/markdown": [
       "1. 'dbgap_subject_id'\n",
       "2. 'emergeid'\n",
       "3. 'px060701_smoking_cigarette_quant'\n",
       "4. 'v96'\n",
       "5. 'v97'\n",
       "6. 'v98'\n",
       "7. 'px070301_exposure_smoke_childhoo'\n",
       "8. 'v332'\n",
       "9. 'v333'\n",
       "10. 'px070301_exposure_smoke_adulthoo'\n",
       "11. 'v335'\n",
       "12. 'v336'\n",
       "13. 'v337'\n",
       "14. 'v338'\n",
       "15. 'v339'\n",
       "16. 'px070301_exposure_smoke_social_s'\n",
       "17. 'v341'\n",
       "18. 'v342'\n",
       "19. 'px070301_exposure_smoke_present_'\n",
       "20. 'px010601_race'\n",
       "21. 'px030802_everyday_smoker_quantit'\n",
       "22. 'px030802_someday_smoker_days_1mo'\n",
       "23. 'px030802_someday_smoker_quantity'\n",
       "24. 'px030802_former_smoker_smoking_6'\n",
       "25. 'px030802_former_smoker_quantity_'\n",
       "26. 'v405'\n",
       "27. 'px030702_first_cigarette_smoking'\n",
       "28. 'v407'\n",
       "29. 'px030902_smoking_cessation_time_'\n",
       "30. 'v409'\n",
       "31. 'px031001_current_smoker_1stsmoke'\n",
       "32. 'px031001_current_smoker_refraini'\n",
       "33. 'v412'\n",
       "34. 'px031001_current_smoker_quantity'\n",
       "35. 'px031001_current_smoker_more_1st'\n",
       "36. 'px031001_current_smoker_smoking_'\n",
       "37. 'px031001_former_smoker_1stsmoke_'\n",
       "38. 'px031001_former_smoker_refrainin'\n",
       "39. 'v418'\n",
       "40. 'px031001_former_smoker_quantity_'\n",
       "41. 'px031001_former_smoker_more_1sth'\n",
       "42. 'px031001_former_smoker_smoking_d'\n",
       "43. 'v422'\n",
       "44. 'v423'\n",
       "45. 'v424'\n",
       "46. 'v425'\n",
       "47. 'v426'\n",
       "48. 'v427'\n",
       "49. 'px031001_current_smoker_more'\n",
       "50. 'px030602_cigarette_smoking_100'\n",
       "51. 'px030602_cigarette_smoking_curre'\n",
       "52. 'px030602_cigarette_smoking_every'\n",
       "53. 'stroke_code'\n",
       "54. 'tia_code'\n",
       "55. 'first_stroke_age'\n",
       "56. 'first_tia_age'\n",
       "57. 'last_stroke_age'\n",
       "58. 'last_tia_age'\n",
       "59. 'pwtlbs'\n",
       "60. 'wt_age'\n",
       "61. 'ds_mde'\n",
       "62. 'qids_severity'\n",
       "63. 'px020602_handedness'\n",
       "64. 'px010101_age'\n",
       "65. 'curFTND1'\n",
       "66. 'wstFTND1'\n",
       "67. 'curFTND2'\n",
       "68. 'wstFTND2'\n",
       "69. 'curFTND3'\n",
       "70. 'wstFTND3'\n",
       "71. 'curFTND4'\n",
       "72. 'wstFTND4'\n",
       "73. 'curFTND5'\n",
       "74. 'wstFTND5'\n",
       "75. 'curFTND6'\n",
       "76. 'wstFTND6'\n",
       "77. 'CurFTND'\n",
       "78. 'WstFTND'\n",
       "79. 'curFTND_cat'\n",
       "80. 'wstFTND_cat'\n",
       "81. 'FTNDboth_cat'\n",
       "\n",
       "\n"
      ],
      "text/plain": [
       " [1] \"dbgap_subject_id\"                 \"emergeid\"                        \n",
       " [3] \"px060701_smoking_cigarette_quant\" \"v96\"                             \n",
       " [5] \"v97\"                              \"v98\"                             \n",
       " [7] \"px070301_exposure_smoke_childhoo\" \"v332\"                            \n",
       " [9] \"v333\"                             \"px070301_exposure_smoke_adulthoo\"\n",
       "[11] \"v335\"                             \"v336\"                            \n",
       "[13] \"v337\"                             \"v338\"                            \n",
       "[15] \"v339\"                             \"px070301_exposure_smoke_social_s\"\n",
       "[17] \"v341\"                             \"v342\"                            \n",
       "[19] \"px070301_exposure_smoke_present_\" \"px010601_race\"                   \n",
       "[21] \"px030802_everyday_smoker_quantit\" \"px030802_someday_smoker_days_1mo\"\n",
       "[23] \"px030802_someday_smoker_quantity\" \"px030802_former_smoker_smoking_6\"\n",
       "[25] \"px030802_former_smoker_quantity_\" \"v405\"                            \n",
       "[27] \"px030702_first_cigarette_smoking\" \"v407\"                            \n",
       "[29] \"px030902_smoking_cessation_time_\" \"v409\"                            \n",
       "[31] \"px031001_current_smoker_1stsmoke\" \"px031001_current_smoker_refraini\"\n",
       "[33] \"v412\"                             \"px031001_current_smoker_quantity\"\n",
       "[35] \"px031001_current_smoker_more_1st\" \"px031001_current_smoker_smoking_\"\n",
       "[37] \"px031001_former_smoker_1stsmoke_\" \"px031001_former_smoker_refrainin\"\n",
       "[39] \"v418\"                             \"px031001_former_smoker_quantity_\"\n",
       "[41] \"px031001_former_smoker_more_1sth\" \"px031001_former_smoker_smoking_d\"\n",
       "[43] \"v422\"                             \"v423\"                            \n",
       "[45] \"v424\"                             \"v425\"                            \n",
       "[47] \"v426\"                             \"v427\"                            \n",
       "[49] \"px031001_current_smoker_more\"     \"px030602_cigarette_smoking_100\"  \n",
       "[51] \"px030602_cigarette_smoking_curre\" \"px030602_cigarette_smoking_every\"\n",
       "[53] \"stroke_code\"                      \"tia_code\"                        \n",
       "[55] \"first_stroke_age\"                 \"first_tia_age\"                   \n",
       "[57] \"last_stroke_age\"                  \"last_tia_age\"                    \n",
       "[59] \"pwtlbs\"                           \"wt_age\"                          \n",
       "[61] \"ds_mde\"                           \"qids_severity\"                   \n",
       "[63] \"px020602_handedness\"              \"px010101_age\"                    \n",
       "[65] \"curFTND1\"                         \"wstFTND1\"                        \n",
       "[67] \"curFTND2\"                         \"wstFTND2\"                        \n",
       "[69] \"curFTND3\"                         \"wstFTND3\"                        \n",
       "[71] \"curFTND4\"                         \"wstFTND4\"                        \n",
       "[73] \"curFTND5\"                         \"wstFTND5\"                        \n",
       "[75] \"curFTND6\"                         \"wstFTND6\"                        \n",
       "[77] \"CurFTND\"                          \"WstFTND\"                         \n",
       "[79] \"curFTND_cat\"                      \"wstFTND_cat\"                     \n",
       "[81] \"FTNDboth_cat\"                    "
      ]
     },
     "metadata": {},
     "output_type": "display_data"
    }
   ],
   "source": [
    "pheno[1:10,]\n",
    "length(pheno)\n",
    "names(pheno)"
   ]
  },
  {
   "cell_type": "code",
   "execution_count": null,
   "metadata": {
    "collapsed": true
   },
   "outputs": [],
   "source": []
  },
  {
   "cell_type": "code",
   "execution_count": null,
   "metadata": {
    "collapsed": true
   },
   "outputs": [],
   "source": []
  },
  {
   "cell_type": "markdown",
   "metadata": {},
   "source": [
    "## S3 data transfer"
   ]
  },
  {
   "cell_type": "code",
   "execution_count": null,
   "metadata": {
    "collapsed": true
   },
   "outputs": [],
   "source": [
    "# Copy phenotype data\n",
    "cd /shared/s3/emerge/data/phenotype\n",
    "aws s3 cp ./ s3://rti-nd/eMERGE/emerge_ftnd/data/phenotype \\\n",
    "    --recursive --exclude=\"*\" --include=\"*ped.gz\" --quiet &\n",
    "\n",
    "cd /shared/s3/emerge_ftnd/data/assoc_tests\n",
    "# Copy association test results\n",
    "aws s3 cp ./ s3://rti-nd/eMERGE/emerge_ftnd/results/rvtest/ \\\n",
    "    --recursive --exclude=\"*\" --include=\"*MetaScore*gz*\" --quiet &\n",
    "aws s3 cp ./ s3://rti-nd/eMERGE/emerge_ftnd/results/figures/ \\\n",
    "    --recursive --exclude=\"*\" --include=\"*.png.gz\" --quiet &\n",
    "\n",
    "\n",
    "\n",
    "ancestry=ea\n",
    "# copy imputation files\n",
    "cd /shared/sandbox/emerge_ftnd/genotype/imputed/\n",
    "aws s3 cp ./ s3://rti-nd/eMERGE/emerge_ftnd/data/genotype/imputed/${ancestry}/ \\\n",
    "    --recursive  --quiet --exclude \"*\" --include \"*dose.vcf.gz\" --quiet &\n",
    "aws s3 cp ./ s3://rti-nd/eMERGE/emerge_ftnd/data/genotype/imputed/${ancestry}/ \\\n",
    "    --recursive --quiet --exclude \"*\" --include \"*dose.vcf.gz.tbi\" --quiet &\n",
    "aws s3 cp ./ s3://rti-nd/eMERGE/emerge_ftnd/data/genotype/imputed/${ancestry}/ \\\n",
    "    --recursive --exclude \"*\" --include \"*.info.gz\" --quiet &\n",
    "aws s3 cp snp_stats/ s3://rti-nd/eMERGE/emerge_ftnd/data/genotype/imputed/${ancestry}/ \\\n",
    "    --recursive --exclude \"*\" --include \"*.txt\" --quiet &\n",
    "aws s3 cp qc_report/ s3://rti-nd/eMERGE/emerge_ftnd/data/genotype/imputed/${ancestry}/ \\\n",
    "    --recursive --exclude \"*\" --include \"*.html\" --quiet &\n",
    "aws s3 cp logs/ s3://rti-nd/eMERGE/emerge_ftnd/data/genotype/imputed/${ancestry}/ \\\n",
    "    --recursive --exclude \"*\" --include \"*.log\" --quiet &"
   ]
  },
  {
   "cell_type": "code",
   "execution_count": null,
   "metadata": {
    "collapsed": true
   },
   "outputs": [],
   "source": []
  },
  {
   "cell_type": "code",
   "execution_count": null,
   "metadata": {
    "collapsed": true
   },
   "outputs": [],
   "source": []
  },
  {
   "cell_type": "code",
   "execution_count": null,
   "metadata": {
    "collapsed": true
   },
   "outputs": [],
   "source": []
  },
  {
   "cell_type": "code",
   "execution_count": null,
   "metadata": {
    "collapsed": true
   },
   "outputs": [],
   "source": []
  },
  {
   "cell_type": "code",
   "execution_count": null,
   "metadata": {
    "collapsed": true
   },
   "outputs": [],
   "source": []
  },
  {
   "cell_type": "code",
   "execution_count": null,
   "metadata": {
    "collapsed": true
   },
   "outputs": [],
   "source": []
  },
  {
   "cell_type": "code",
   "execution_count": null,
   "metadata": {
    "collapsed": true
   },
   "outputs": [],
   "source": []
  },
  {
   "cell_type": "code",
   "execution_count": null,
   "metadata": {
    "collapsed": true
   },
   "outputs": [],
   "source": []
  },
  {
   "cell_type": "code",
   "execution_count": null,
   "metadata": {
    "collapsed": true
   },
   "outputs": [],
   "source": []
  },
  {
   "cell_type": "code",
   "execution_count": null,
   "metadata": {
    "collapsed": true
   },
   "outputs": [],
   "source": []
  },
  {
   "cell_type": "code",
   "execution_count": null,
   "metadata": {
    "collapsed": true
   },
   "outputs": [],
   "source": []
  },
  {
   "cell_type": "code",
   "execution_count": null,
   "metadata": {
    "collapsed": true
   },
   "outputs": [],
   "source": []
  }
 ],
 "metadata": {
  "kernelspec": {
   "display_name": "R",
   "language": "R",
   "name": "ir"
  },
  "language_info": {
   "codemirror_mode": "r",
   "file_extension": ".r",
   "mimetype": "text/x-r-source",
   "name": "R",
   "pygments_lexer": "r",
   "version": "3.4.1"
  },
  "toc": {
   "nav_menu": {},
   "number_sections": true,
   "sideBar": true,
   "skip_h1_title": false,
   "toc_cell": false,
   "toc_position": {},
   "toc_section_display": "block",
   "toc_window_display": false
  }
 },
 "nbformat": 4,
 "nbformat_minor": 2
}
