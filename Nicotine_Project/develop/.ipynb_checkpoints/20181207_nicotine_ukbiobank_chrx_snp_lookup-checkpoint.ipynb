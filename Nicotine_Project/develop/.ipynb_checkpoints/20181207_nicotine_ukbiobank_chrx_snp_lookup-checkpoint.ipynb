{
 "cells": [
  {
   "cell_type": "markdown",
   "metadata": {},
   "source": [
    "# UKBioBank chrX SNP lookup\n",
    "**Author**: Jesse Marks\n",
    "\n",
    "The FUMA file of UKBioBank chrX SNPs I created for Dana Hancock on December 6, 2018 was lacking rsID information. This notebook will document the efforts to find the rsIDs for those SNPs based off of their `chr:position:A1:A2` information.\n",
    "\n",
    "The strategy we will use is to create a python dictionary from the 1000G reference panel chrX data that we have on the shared drive and then parse that dictionary to find the rsID. Ex:\n",
    "\n",
    "{\"2699555:C:A\" : rs311165}\n",
    "\n",
    "For each ID in my FUMA file, I will create an ID for it based on \"position:A1:A2\" then I will enter that key into the dictionary I created to see if there is a value for it. If there is a value, then I will print that rsID along with the other columns in my FUMA file. "
   ]
  },
  {
   "cell_type": "code",
   "execution_count": null,
   "metadata": {},
   "outputs": [],
   "source": [
    "# copy chrX FUMA file to EC2\n",
    "scp -i ~/.ssh/gwas_rsa 20181206_20002_1439.gwas.imputed_v3.both_sexes_CHRX_maf_low-conf_filter.FUMA ec2-user@54.90.227.178:/shared/jmarks/nicotine/ukbiobank/"
   ]
  },
  {
   "cell_type": "markdown",
   "metadata": {},
   "source": [
    "```\n",
    "head 20181206_20002_1439.gwas.imputed_v3.both_sexes_CHRX_maf_low-conf_filter.FUMA\n",
    "Chr     Position        P-value Allele1 Allele2 Effect  StdErr\n",
    "23      2699555 5.76807e-02     C       A       -1.15436e-04    6.08161e-05\n",
    "23      2699645 1.43253e-01     G       T       -1.15245e-04    7.87306e-05\n",
    "23      2699676 5.70700e-01     G       A       -4.25255e-05    7.49979e-05\n",
    "23      2699898 6.36532e-01     C       CT      -3.62646e-05    7.67420e-05\n",
    "23      2699968 9.87747e-02     A       G       9.10008e-05     5.51244e-05\n",
    "```"
   ]
  },
  {
   "cell_type": "code",
   "execution_count": null,
   "metadata": {},
   "outputs": [],
   "source": []
  }
 ],
 "metadata": {
  "kernelspec": {
   "display_name": "Python 3",
   "language": "python",
   "name": "python3"
  },
  "language_info": {
   "codemirror_mode": {
    "name": "ipython",
    "version": 3
   },
   "file_extension": ".py",
   "mimetype": "text/x-python",
   "name": "python",
   "nbconvert_exporter": "python",
   "pygments_lexer": "ipython3",
   "version": "3.6.4"
  },
  "toc": {
   "nav_menu": {},
   "number_sections": true,
   "sideBar": true,
   "skip_h1_title": false,
   "toc_cell": false,
   "toc_position": {},
   "toc_section_display": "block",
   "toc_window_display": false
  }
 },
 "nbformat": 4,
 "nbformat_minor": 2
}
