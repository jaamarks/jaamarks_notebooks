{
 "cells": [
  {
   "cell_type": "markdown",
   "metadata": {},
   "source": [
    "# eMERGE Fagerstrom Test For Nicotine Dependence (FTND) GWAS\n",
    "__Author:__ Jesse Marks\n",
    "\n",
    "\n",
    "This document logs the steps taken to process the electronic Medical Records and Genomics (eMERGE) Network data and perform the FTND GWAS. The [eMERGE](https://www.ncbi.nlm.nih.gov/projects/gap/cgi-bin/study.cgi?study_id=phs000360.v1.p1) Network is a consortium of five participating sites (Group Health Seattle, Marshfield Clinic, Mayo Clinic, Northwestern University, and Vanderbilt University). We will be processing the Marshfield cohort.\n",
    "\n",
    "FTND is a standard instrument for assessing the physical addiction to nicotine. For more information, see [this website](https://cde.drugabuse.gov/instrument/d7c0b0f5-b865-e4de-e040-bb89ad43202b).\n",
    "\n",
    "The genotype data were imputed on the [Michigan Imputation Server](https://imputationserver.sph.umich.edu/index.html).\n",
    "\n",
    "* We use the variable `FTNDboth_cat` variable that lumps together the former smokers that have lifetime FTND (N=736) with the current smokers that have current FTND (N=78). This will optimize sample size, especially since the severe category is slim."
   ]
  },
  {
   "cell_type": "markdown",
   "metadata": {},
   "source": [
    "## Software and tools\n",
    "The software and tools used for processing these data are\n",
    "\n",
    "* [Amazon Elastic Compute Cloud(EC2)](https://aws.amazon.com/ec2/)\n",
    "* GNU bash version 4.1.2\n",
    "* [PLINK v1.9 beta 3.45](https://www.cog-genomics.org/plink/)\n",
    "* [EIGENSOFT v4.2](https://www.hsph.harvard.edu/alkes-price/software/)\n",
    "* [R v3.2.3](https://www.r-project.org/)\n",
    "* R packages: MASS, moments\n",
    "* [RVtests](https://render.githubusercontent.com/view/ipynb?commit=3bb8e661ad8b75af027ed2748133452ec251aaed&enc_url=68747470733a2f2f7261772e67697468756275736572636f6e74656e742e636f6d2f525449496e7465726e6174696f6e616c2f6271756163685f6e6f7465626f6f6b732f336262386536363161643862373561663032376564323734383133333435326563323531616165642f6865726f696e5f70726f6a6563742f646576656c6f702f32303138303131305f756873325f756873335f666f755f677761732e6970796e623f746f6b656e3d41664d79344e373237626e764465456f46535a697770346b48776246577964706b7335617570495a7741253344253344&nwo=RTIInternational%2Fbquach_notebooks&path=heroin_project%2Fdevelop%2F20180110_uhs2_uhs3_fou_gwas.ipynb&repository_id=105297875&repository_type=Repository)"
   ]
  },
  {
   "cell_type": "markdown",
   "metadata": {},
   "source": [
    "## FTNDboth_cat variable description\n",
    "| cat | Freq |   |\n",
    "|-----|------|---|\n",
    "| 0   | 537  |   |\n",
    "| 1   | 217  |   |\n",
    "| 2   | 60   |   |\n",
    "\n",
    "Where FTND conversion is 0=0-3, 1=4-6, and 2=7+"
   ]
  },
  {
   "cell_type": "markdown",
   "metadata": {},
   "source": [
    "## Convert Phenotype Data from Strata format to .csv file"
   ]
  },
  {
   "cell_type": "code",
   "execution_count": 37,
   "metadata": {},
   "outputs": [
    {
     "data": {
      "text/html": [
       "<table>\n",
       "<thead><tr><th scope=col>emergeid</th><th scope=col>sex</th><th scope=col>ftnd</th></tr></thead>\n",
       "<tbody>\n",
       "\t<tr><td>16214874</td><td>NA      </td><td>NA      </td></tr>\n",
       "\t<tr><td>16214875</td><td>NA      </td><td>NA      </td></tr>\n",
       "\t<tr><td>16214879</td><td>NA      </td><td> 0      </td></tr>\n",
       "\t<tr><td>16214881</td><td>NA      </td><td>NA      </td></tr>\n",
       "\t<tr><td>16214896</td><td>NA      </td><td> 0      </td></tr>\n",
       "\t<tr><td>16214899</td><td>NA      </td><td>NA      </td></tr>\n",
       "</tbody>\n",
       "</table>\n"
      ],
      "text/latex": [
       "\\begin{tabular}{r|lll}\n",
       " emergeid & sex & ftnd\\\\\n",
       "\\hline\n",
       "\t 16214874 & NA       & NA      \\\\\n",
       "\t 16214875 & NA       & NA      \\\\\n",
       "\t 16214879 & NA       &  0      \\\\\n",
       "\t 16214881 & NA       & NA      \\\\\n",
       "\t 16214896 & NA       &  0      \\\\\n",
       "\t 16214899 & NA       & NA      \\\\\n",
       "\\end{tabular}\n"
      ],
      "text/markdown": [
       "\n",
       "emergeid | sex | ftnd | \n",
       "|---|---|---|---|---|---|\n",
       "| 16214874 | NA       | NA       | \n",
       "| 16214875 | NA       | NA       | \n",
       "| 16214879 | NA       |  0       | \n",
       "| 16214881 | NA       | NA       | \n",
       "| 16214896 | NA       |  0       | \n",
       "| 16214899 | NA       | NA       | \n",
       "\n",
       "\n"
      ],
      "text/plain": [
       "  emergeid sex ftnd\n",
       "1 16214874 NA  NA  \n",
       "2 16214875 NA  NA  \n",
       "3 16214879 NA   0  \n",
       "4 16214881 NA  NA  \n",
       "5 16214896 NA   0  \n",
       "6 16214899 NA  NA  "
      ]
     },
     "metadata": {},
     "output_type": "display_data"
    },
    {
     "data": {
      "text/html": [
       "<table>\n",
       "<thead><tr><th scope=col>emergeid</th><th scope=col>sex</th><th scope=col>ftnd</th></tr></thead>\n",
       "<tbody>\n",
       "\t<tr><td>16214874</td><td>M       </td><td>NA      </td></tr>\n",
       "\t<tr><td>16214875</td><td>M       </td><td>NA      </td></tr>\n",
       "\t<tr><td>16214879</td><td>M       </td><td> 0      </td></tr>\n",
       "\t<tr><td>16214881</td><td>M       </td><td>NA      </td></tr>\n",
       "\t<tr><td>16214896</td><td>F       </td><td> 0      </td></tr>\n",
       "\t<tr><td>16214899</td><td>F       </td><td>NA      </td></tr>\n",
       "</tbody>\n",
       "</table>\n"
      ],
      "text/latex": [
       "\\begin{tabular}{r|lll}\n",
       " emergeid & sex & ftnd\\\\\n",
       "\\hline\n",
       "\t 16214874 & M        & NA      \\\\\n",
       "\t 16214875 & M        & NA      \\\\\n",
       "\t 16214879 & M        &  0      \\\\\n",
       "\t 16214881 & M        & NA      \\\\\n",
       "\t 16214896 & F        &  0      \\\\\n",
       "\t 16214899 & F        & NA      \\\\\n",
       "\\end{tabular}\n"
      ],
      "text/markdown": [
       "\n",
       "emergeid | sex | ftnd | \n",
       "|---|---|---|---|---|---|\n",
       "| 16214874 | M        | NA       | \n",
       "| 16214875 | M        | NA       | \n",
       "| 16214879 | M        |  0       | \n",
       "| 16214881 | M        | NA       | \n",
       "| 16214896 | F        |  0       | \n",
       "| 16214899 | F        | NA       | \n",
       "\n",
       "\n"
      ],
      "text/plain": [
       "  emergeid sex ftnd\n",
       "1 16214874 M   NA  \n",
       "2 16214875 M   NA  \n",
       "3 16214879 M    0  \n",
       "4 16214881 M   NA  \n",
       "5 16214896 F    0  \n",
       "6 16214899 F   NA  "
      ]
     },
     "metadata": {},
     "output_type": "display_data"
    },
    {
     "data": {
      "text/plain": [
       "\n",
       "  0   1   2 \n",
       "537 217  60 "
      ]
     },
     "metadata": {},
     "output_type": "display_data"
    }
   ],
   "source": [
    "### R console ###\n",
    "library(haven)\n",
    "\n",
    "# convert Stata data into comma separated\n",
    "setwd('C:/Users/jmarks/Desktop/Projects/Nicotine/eMerge/phenotype/') # local machine\n",
    "#pheno <- read_dta(\"FTND Phenotype.dta\")\n",
    "#write.csv(pheno, file = \"FTND_pheno.csv\", row.names = F)\n",
    "pheno.ftnd <- read.table(\"FTND_pheno.csv\", header = T, sep = \",\")\n",
    "pheno.orig <- read.table(\"phs000170.v2.pht000737.v1.p1.c1.Marshfield_Data_Phenotype.HMB-GSO.txt\", header = T)\n",
    "num.subjects <- length(pheno.ftnd[['emergeid']])\n",
    "\n",
    "pheno.combined <- data.frame(matrix(ncol = 3, nrow = num.subjects))\n",
    "names(pheno.combined) <- c(\"emergeid\", \"sex\", \"ftnd\")\n",
    "pheno.combined[1] <- pheno.ftnd[['emergeid']]\n",
    "pheno.combined[3] <- pheno.ftnd[['FTNDboth_cat']]\n",
    "\n",
    "# fill in age data\n",
    "for (i in 1:num.subjects) {\n",
    "index <- match(pheno.ftnd[i,\"emergeid\"], pheno.orig[[\"SUBJID\"]])\n",
    "pheno.combined[i,\"sex\"] <- as.character(pheno.orig[index, \"sex\"])\n",
    "#pheno.combined[i,\"age\"] <- pheno.orig[index, \"Age_First_Cataract_Diagnosis\"]\n",
    "}\n",
    "\n",
    "table(pheno.ftnd[[\"FTNDboth_cat\"]])"
   ]
  },
  {
   "cell_type": "markdown",
   "metadata": {},
   "source": [
    "### Filter subjects missing any FTND, sex, or age data\n",
    "Then write to file."
   ]
  },
  {
   "cell_type": "code",
   "execution_count": 40,
   "metadata": {},
   "outputs": [
    {
     "data": {
      "text/html": [
       "2269"
      ],
      "text/latex": [
       "2269"
      ],
      "text/markdown": [
       "2269"
      ],
      "text/plain": [
       "[1] 2269"
      ]
     },
     "metadata": {},
     "output_type": "display_data"
    },
    {
     "data": {
      "text/html": [
       "1455"
      ],
      "text/latex": [
       "1455"
      ],
      "text/markdown": [
       "1455"
      ],
      "text/plain": [
       "[1] 1455"
      ]
     },
     "metadata": {},
     "output_type": "display_data"
    },
    {
     "data": {
      "text/html": [
       "0"
      ],
      "text/latex": [
       "0"
      ],
      "text/markdown": [
       "0"
      ],
      "text/plain": [
       "[1] 0"
      ]
     },
     "metadata": {},
     "output_type": "display_data"
    },
    {
     "data": {
      "text/html": [
       "814"
      ],
      "text/latex": [
       "814"
      ],
      "text/markdown": [
       "814"
      ],
      "text/plain": [
       "[1] 814"
      ]
     },
     "metadata": {},
     "output_type": "display_data"
    }
   ],
   "source": [
    "# Total subjects\n",
    "length(pheno.ftnd[,1])\n",
    "\n",
    "# filter out any subject with NA for FTND\n",
    "filter_pheno <- pheno.combined[complete.cases(pheno.combined[,3]),]\n",
    "\n",
    "# Number filtered due to missing ftnd data\n",
    "length(pheno.combined[,1]) - length(filter_pheno[[1]])\n",
    "\n",
    "# filter out any subject missing age data\n",
    "#drop_age <- suppressWarnings(which(is.na(as.numeric(as.character(filter_pheno[[3]])))))\n",
    "#filter_pheno <- filter_pheno[-drop_age,]\n",
    "\n",
    "# filtered due to missing age data\n",
    "#length(drop_age)\n",
    "\n",
    "# filter out any subject missing age data (There were no missing sex entries)\n",
    "drop_sex <- which(filter_pheno[2] != \"M\" & filter_pheno[2] != \"F\")\n",
    "#filter_pheno <- drop_sex[-drop_sex,]\n",
    "# filtered due to missing sex data\n",
    "length(drop_sex)\n",
    "\n",
    "setwd(\"C:/Users/jmarks/Desktop/Projects/Nicotine/eMerge/phenotype\")\n",
    "write.table(filter_pheno, \"emerge_ftnd_no_sex.txt\", sep = \" \", row.names = F, quote = F)\n",
    "\n",
    "# subjects left\n",
    "length(filter_pheno[,1])"
   ]
  },
  {
   "cell_type": "markdown",
   "metadata": {},
   "source": [
    "* 814 subjects left, in total. \n",
    "* 1455 filtered due to NA in FTND data\n",
    "* none were dropped due to missing sex data.\n",
    "\n",
    "| Filtering Criterion | Subjects Removed  | Total |\n",
    "|---------------------|-------------------|-------|\n",
    "| Initial Data        | 0                 | 2269  |\n",
    "| Missing FTND        | 1455              | 814   |\n",
    "| Missing sex         | 0                 | 507   |"
   ]
  },
  {
   "cell_type": "markdown",
   "metadata": {},
   "source": [
    "## Copy phenotype data to EC2"
   ]
  },
  {
   "cell_type": "code",
   "execution_count": null,
   "metadata": {
    "collapsed": true
   },
   "outputs": [],
   "source": [
    "### local machine ###\n",
    "cd /cygdrive/c/Users/jmarks/Desktop/Projects/Nicotine/eMerge/phenotype\n",
    "scp -i ~/.ssh/gwas_rsa emerge_ftnd_no_sex.txt ec2-user@35.171.207.199:/shared/s3/emerge/data/phenotype"
   ]
  },
  {
   "cell_type": "markdown",
   "metadata": {
    "collapsed": true
   },
   "source": [
    "## Inflate imputation results"
   ]
  },
  {
   "cell_type": "code",
   "execution_count": null,
   "metadata": {
    "collapsed": true
   },
   "outputs": [],
   "source": [
    "### EC2 console ###\n",
    "cd /shared/s3/emerge/data/genotype/imputed\n",
    "\n",
    "# inflate chr results\n",
    "for f in {1..22};do\n",
    "echo '#!/bin/bash' > chr_$f.sh\n",
    "echo '' >> chr_$f.sh\n",
    "echo 'unzip -P \"ScSu1byrJL49kO\" chr_'$f'.zip' >> chr_$f.sh\n",
    "done\n",
    "\n",
    "for chr in {1..22}; do\n",
    "sh /shared/bioinformatics/software/scripts/qsub_job.sh \\\n",
    "--job_name inflate_chr${chr} \\\n",
    "--script_prefix chr${chr}_inflation \\\n",
    "--mem 5 \\\n",
    "--priority 0 \\\n",
    "--nslots 2 \\\n",
    "--program bash chr_${chr}.sh\n",
    "done"
   ]
  },
  {
   "cell_type": "markdown",
   "metadata": {},
   "source": [
    "## EIGENSTRAT\n",
    "To obtain principal component covariates to use in the GWAS statistical model, EIGENSTRAT is run on LD-pruned observed genotypes for each ancestry group. Usually a GRCh37 plus strand check is implemented, as well as a monomorphic SNP filter and discordant allele flip. Since this was already done for data in preparation for haplotype phasing, the haplotype phasing input PLINK files will be used. Note: In addition to these aforementioned data processing steps, ambiguous SNPs identified by reference panel frequency differences in the discordant allele checks were also removed prior to phasing.\n",
    "\n",
    "### Construct subject-filtered PLINK file sets"
   ]
  },
  {
   "cell_type": "code",
   "execution_count": null,
   "metadata": {
    "collapsed": true
   },
   "outputs": [],
   "source": [
    "# Command line #\n",
    "mkdir -p /shared/s3/emerge/eigenstrat_no_sex\n",
    "cd /shared/s3/emerge/data\n",
    "\n",
    "#copy genotype data \n",
    "cp /shared/sandbox/emerge/ea_chr_all.* genotype/original/\n",
    "\n",
    "# generate ID list to filter data with\n",
    "mkdir -p /shared/s3/emerge/data/phenotype/no_sex\n",
    "cd /shared/s3/emerge/data/phenotype/no_sex\n",
    "awk ' NR>=2 { print $1 }' emerge_ftnd_no_sex.txt > id_list.txt\n",
    "\n",
    "awk 'FNR==NR{a[$0];next} ($2 in a)' id_list.txt ../../genotype/original/ea_chr_all.fam > filtered.fam\n",
    "\n",
    "awk '{print $1,$2 }' filtered.fam > ea_subject_ids.keep\n",
    "\n",
    "# Remove subjects by phenotype criteria\n",
    "ancestry=\"ea\"\n",
    "/shared/bioinformatics/software/third_party/plink-1.90-beta-4.10-x86_64/plink \\\n",
    "    --noweb \\\n",
    "    --memory 2048 \\\n",
    "    --bfile ../../genotype/original/ea_chr_all \\\n",
    "    --keep ea_subject_ids.keep \\\n",
    "    --make-bed \\\n",
    "    --out /shared/s3/emerge/eigenstrat_no_sex/${ancestry}_pheno_filter"
   ]
  },
  {
   "cell_type": "markdown",
   "metadata": {},
   "source": [
    "__Note__: The phenotype data had 814 subjects while the genotype data only had 730 subjects."
   ]
  },
  {
   "cell_type": "markdown",
   "metadata": {},
   "source": [
    "### Remove high-LD region variants"
   ]
  },
  {
   "cell_type": "code",
   "execution_count": null,
   "metadata": {
    "collapsed": true
   },
   "outputs": [],
   "source": [
    "# Command line # \n",
    "cd /shared/s3/emerge/eigenstrat_no_sex\n",
    "\n",
    "# Remove high-LD region variants\n",
    "ancestry=\"ea\"\n",
    "# Generate list of variants in known high-LD regions\n",
    "perl -lane 'if (($F[0]==5 && $F[3] >= 43964243 && $F[3] <= 51464243) || ($F[0]==6 && $F[3] >= 24892021 && $F[3] <= 33392022) || ($F[0]==8 && $F[3] >= 7962590 && $F[3] <= 11962591) || ($F[0]==11 && $F[3] >= 45043424 && $F[3] <= 57243424)) { print $F[1].\"\\n\"; }' ${ancestry}_pheno_filter.bim \\\n",
    "    > ${ancestry}.high_ld_regions.remove\n",
    "\n",
    "# Remove SNPs in known high-LD regions\n",
    "/shared/bioinformatics/software/third_party/plink-1.90-beta-4.10-x86_64/plink \\\n",
    "    --noweb \\\n",
    "    --bfile ${ancestry}_pheno_filter \\\n",
    "    --exclude ${ancestry}.high_ld_regions.remove \\\n",
    "    --make-bed \\\n",
    "    --out ${ancestry}_pheno_filter_high_ld_regions_removed"
   ]
  },
  {
   "cell_type": "markdown",
   "metadata": {},
   "source": [
    "## Linkage disequilibrium pruning\n",
    "Linkage disequilibrium (LD) pruning eliminates a large degree of redundancy in the data and reduces the influence of chromosomal artifacts. The objective of LD pruning is to select a subset of variants based off of LD such that the variants in the subset are indepdendent. This filtering will not carry forward to the final processed results, but this step improves the quality of EIGENSTRAT calculations. Consequently, the LD pruned data will be used as input for those calculations.\n",
    "\n",
    "LD pruning is implemented using PLINK `--indep-pairwise.`"
   ]
  },
  {
   "cell_type": "code",
   "execution_count": null,
   "metadata": {
    "collapsed": true
   },
   "outputs": [],
   "source": [
    "# Command line # \n",
    "cd /shared/s3/emerge/eigenstrat_no_sex\n",
    "\n",
    "# Remove high-LD region variants\n",
    "ancestry=\"ea\"\n",
    "# Run per chromosome LD pruning for each chr\n",
    "for chr in {1..23}; do\n",
    "    sh /shared/bioinformatics/software/scripts/qsub_job.sh \\\n",
    "        --job_name ${ancestry}_${chr}_ld_prune \\\n",
    "        --script_prefix ${ancestry}_${chr}_ld_prune \\\n",
    "        --mem 3.5 \\\n",
    "        --nslots 2 \\\n",
    "        --priority 0 \\\n",
    "        --program /shared/bioinformatics/software/third_party/plink-1.90-beta-4.10-x86_64/plink \\\n",
    "            --noweb \\\n",
    "            --memory 3500 \\\n",
    "            --bfile ${ancestry}_pheno_filter_high_ld_regions_removed \\\n",
    "            --indep-pairwise 1500 150 0.2 \\\n",
    "            --chr ${chr} \\\n",
    "            --out ${ancestry}_chr${chr}_ld_pruned\n",
    "done\n",
    "\n",
    "\n",
    "#Create LD pruned PLINK file sets\n",
    "ancestry=\"ea\"\n",
    "# Merge *prune.in files\n",
    "cat ${ancestry}_chr*_ld_pruned.prune.in > ${ancestry}_chr_all_ld_pruned.prune.in\n",
    "\n",
    "# Create new PLINK filesets with only lD pruned variants\n",
    "/shared/bioinformatics/software/third_party/plink-1.90-beta-4.10-x86_64/plink \\\n",
    "    --noweb \\\n",
    "    --memory 2048 \\\n",
    "    --bfile ${ancestry}_pheno_filter_high_ld_regions_removed \\\n",
    "    --extract ${ancestry}_chr_all_ld_pruned.prune.in \\\n",
    "    --make-bed \\\n",
    "    --out ${ancestry}_ld_pruned\n",
    "\n",
    "\n",
    "# Clean up\n",
    "rm *ld_pruned.{prune.in,prune.out,log}\n",
    "rm *qsub*\n",
    "rm *high_ld_regions*\n",
    "rm *nosex\n",
    "rm *pheno_filter*"
   ]
  },
  {
   "cell_type": "markdown",
   "metadata": {},
   "source": [
    "## Rename BIM/FAM file IDs\n",
    "BIM and FAM file IDs have the potential issue of being too long if encoded using the 1000 Genomes Phase 3 IMPUTE2 format. This will cause `smartpca` to throw an error. To resolve this the IDs are replaced by numeric values if needed."
   ]
  },
  {
   "cell_type": "code",
   "execution_count": null,
   "metadata": {
    "collapsed": true
   },
   "outputs": [],
   "source": [
    "# Command line # \n",
    "cd /shared/s3/emerge/eigenstrat\n",
    "\n",
    "# Count ID lengths greater than 39 characters\n",
    "ancestry=\"ea\"\n",
    "echo -e \"\\n\\n======== ${ancestry} ========\\n\\n\"\n",
    "awk '{ if(length($1)+length($2)>39){print $2} }' ${ancestry}_ld_pruned.fam | wc -l\n",
    "awk '{ if(length($2)>39){print $2} }' ${ancestry}_ld_pruned.bim | wc -l\n",
    "\n",
    "# Rename BIM file IDs\n",
    "# Make new BIM\n",
    "#awk '{$2=\"ID_\"NR; print $0}' ${ancestry}_ld_pruned.bim \\\n",
    "#    > ${ancestry}_ld_pruned_id_renamed.bim\n",
    "\n",
    "# Rename FAM file IDs\n",
    "# Make new FAM\n",
    "#awk '{$1=\"ID_\"NR; print $0}' ${ancestry}_ld_pruned.fam \\\n",
    "#   > ${ancestry}_ld_pruned_id_renamed.fam"
   ]
  },
  {
   "cell_type": "markdown",
   "metadata": {},
   "source": [
    "__Note__ we did not have to rename the BIM or FAM files for this case. "
   ]
  },
  {
   "cell_type": "markdown",
   "metadata": {},
   "source": [
    "### Run EIGENSTRAT\n",
    "__NOTE__: For `smartpca` to run, the BIM and FAM file IDs need to be less than 39 characters in length. Often this is not a problem, but with a BIM file that has IDs renamed to the 1000 Genomes Phase 3 format, the IDs for indels can exceed the character limit. Also, the EIGENSOFT bin directory should be in ~/.bashrc as an addition to the PATH variable. If it is not, it can be added as following\n",
    "\n",
    "`export PATH=$PATH:/shared/bioinformatics/software/third_party/EIG-6.1.4/bin/` # Add EIGENSOFT bin to path\n",
    "\n",
    "The `smartpca.pl` program documentation is shown below:\n",
    "\n",
    "\n",
    "DOCUMENTATION of `smartpca.pl` program:\n",
    "\n",
    "This program calls the `smartpca` program (see ../POPGEN/README). \n",
    "For this to work, the bin directory containing `smartpca` MUST be in your path. \n",
    "See `./example.perl` for a toy example.\n",
    "```\n",
    "../bin/smartpca.pl \n",
    "-i example.geno  : genotype file in any format (see ../CONVERTF/README)\n",
    "-a example.snp   : snp file in any format (see ../CONVERTF/README)\n",
    "-b example.ind   : indiv file in any format (see ../CONVERTF/README)\n",
    "-k k             : (Default is 10) number of principal components to output\n",
    "-o example.pca   : output file of principal components.  Individuals removed\n",
    "                   as outliers will have all values set to 0.0 in this file.\n",
    "-p example.plot  : prefix of output plot files of top 2 principal components.\n",
    "                   (labeling individuals according to labels in indiv file)\n",
    "-e example.eval  : output file of all eigenvalues\n",
    "-l example.log   : output logfile\n",
    "-m maxiter       : (Default is 5) maximum number of outlier removal iterations.\n",
    "                   To turn off outlier removal, set -m 0.\n",
    "-t topk          : (Default is 10) number of principal components along which \n",
    "                   to remove outliers during each outlier removal iteration.\n",
    "-s sigma         : (Default is 6.0) number of standard deviations which an\n",
    "                   individual must exceed, along one of topk top principal\n",
    "           components, in order to be removed as an outlier.\n",
    "\n",
    "OPTIONAL FLAGS:\n",
    "-w poplist       : compute eigenvectors using populations in poplist only,\n",
    "                   where poplist is an ASCII file with one population per line\n",
    "-y plotlist      : output plot will include populations in plotlist only, \n",
    "                   where plotlist is an ASCII file with one population per line\n",
    "-z badsnpname    : list of SNPs which should be excluded from the analysis\n",
    "-q YES/NO        : If set to YES, assume that there is a single population and\n",
    "                   the population field contains real-valued phenotypes.\n",
    "           (Corresponds to qtmode parameter in smartpca program.)\n",
    "           The default value for this parameter is NO.\n",
    "\n",
    "Estimated running time of the smartpca program is \n",
    "  2.5e-12 * nSNP * NSAMPLES^2 hours            if not removing outliers.\n",
    "  2.5e-12 * nSNP * NSAMPLES^2 hours * (1+m)    if m outlier removal iterations.\n",
    "Thus, under the default of up to 5 outlier removal iterations, running time is \n",
    "  up to 1.5e-11 * nSNP * NSAMPLES^2 hours.```"
   ]
  },
  {
   "cell_type": "code",
   "execution_count": null,
   "metadata": {
    "collapsed": true
   },
   "outputs": [],
   "source": [
    "# Command line # \n",
    "cd /shared/s3/emerge/eigenstrat_no_sex\n",
    "mkdir results\n",
    "\n",
    "# Run EIGENSTRAT smartpca \n",
    "ancestry=\"ea\"\n",
    "# Run smartpca\n",
    "sh /shared/bioinformatics/software/scripts/qsub_job.sh \\\n",
    "    --job_name ${ancestry}_smartpca \\\n",
    "    --script_prefix results/smartpca_${ancestry} \\\n",
    "    --mem 13.5 \\\n",
    "    --nslots 2 \\\n",
    "    --priority 0 \\\n",
    "    --program /shared/bioinformatics/software/third_party/EIG-6.1.4/bin/smartpca.perl \\\n",
    "        -i ${ancestry}_ld_pruned.bed \\\n",
    "        -a ${ancestry}_ld_pruned.bim \\\n",
    "        -b ${ancestry}_ld_pruned.fam \\\n",
    "        -o results/${ancestry}_ld_pruned.pca \\\n",
    "        -p results/${ancestry}_ld_pruned.plot \\\n",
    "        -e results/${ancestry}_ld_pruned.eval \\\n",
    "        -l results/${ancestry}_ld_pruned.pca.log \\\n",
    "        -m 0"
   ]
  },
  {
   "cell_type": "markdown",
   "metadata": {},
   "source": [
    "### PCA Plot\n",
    "Copy results over to local machine so we can visualize the results"
   ]
  },
  {
   "cell_type": "code",
   "execution_count": null,
   "metadata": {
    "collapsed": true
   },
   "outputs": [],
   "source": [
    "## local machine ##\n",
    "scp -i ~/.ssh/gwas_rsa ec2-user@35.171.207.199:/shared/s3/emerge/eigenstrat_no_sex/results/ea_ld_pruned.pca.evec \\\n",
    "    /cygdrive/c/Users/jmarks/Desktop/Projects/Nicotine/eMerge/eigenstrat_no_sex"
   ]
  },
  {
   "cell_type": "code",
   "execution_count": 41,
   "metadata": {},
   "outputs": [
    {
     "data": {
      "text/html": [
       "<table>\n",
       "<thead><tr><th></th><th scope=col>V2</th><th scope=col>V3</th><th scope=col>V4</th><th scope=col>V5</th><th scope=col>V6</th><th scope=col>V7</th><th scope=col>V8</th><th scope=col>V9</th><th scope=col>V10</th><th scope=col>V11</th><th scope=col>V12</th></tr></thead>\n",
       "<tbody>\n",
       "\t<tr><th scope=row>EMERGE-3:16218877</th><td> 0.0008</td><td>0.0104 </td><td>-0.0296</td><td>-0.0086</td><td> 0.0261</td><td>0.0220 </td><td>-0.0161</td><td>-0.0078</td><td> 0.0389</td><td> 0.0059</td><td>???    </td></tr>\n",
       "\t<tr><th scope=row>EMERGE-3:16230920</th><td> 0.0058</td><td>0.0174 </td><td> 0.0160</td><td> 0.0183</td><td> 0.0056</td><td>0.0015 </td><td>-0.0107</td><td>-0.0052</td><td> 0.0451</td><td> 0.0105</td><td>???    </td></tr>\n",
       "\t<tr><th scope=row>EMERGE-8:16220003</th><td>-0.0049</td><td>0.0101 </td><td> 0.0103</td><td> 0.0103</td><td>-0.0119</td><td>0.0040 </td><td> 0.0046</td><td>-0.0001</td><td> 0.0178</td><td>-0.0008</td><td>???    </td></tr>\n",
       "\t<tr><th scope=row>EMERGE-9:16231695</th><td>-0.0071</td><td>0.0134 </td><td> 0.0246</td><td>-0.0143</td><td> 0.0043</td><td>0.0157 </td><td> 0.0142</td><td>-0.0011</td><td>-0.0279</td><td>-0.0102</td><td>???    </td></tr>\n",
       "\t<tr><th scope=row>EMERGE-11:16216270</th><td>-0.0052</td><td>0.0090 </td><td>-0.0351</td><td> 0.0177</td><td>-0.0370</td><td>0.0023 </td><td>-0.0219</td><td>-0.0005</td><td>-0.0182</td><td>-0.0028</td><td>???    </td></tr>\n",
       "</tbody>\n",
       "</table>\n"
      ],
      "text/latex": [
       "\\begin{tabular}{r|lllllllllll}\n",
       "  & V2 & V3 & V4 & V5 & V6 & V7 & V8 & V9 & V10 & V11 & V12\\\\\n",
       "\\hline\n",
       "\tEMERGE-3:16218877 &  0.0008 & 0.0104  & -0.0296 & -0.0086 &  0.0261 & 0.0220  & -0.0161 & -0.0078 &  0.0389 &  0.0059 & ???    \\\\\n",
       "\tEMERGE-3:16230920 &  0.0058 & 0.0174  &  0.0160 &  0.0183 &  0.0056 & 0.0015  & -0.0107 & -0.0052 &  0.0451 &  0.0105 & ???    \\\\\n",
       "\tEMERGE-8:16220003 & -0.0049 & 0.0101  &  0.0103 &  0.0103 & -0.0119 & 0.0040  &  0.0046 & -0.0001 &  0.0178 & -0.0008 & ???    \\\\\n",
       "\tEMERGE-9:16231695 & -0.0071 & 0.0134  &  0.0246 & -0.0143 &  0.0043 & 0.0157  &  0.0142 & -0.0011 & -0.0279 & -0.0102 & ???    \\\\\n",
       "\tEMERGE-11:16216270 & -0.0052 & 0.0090  & -0.0351 &  0.0177 & -0.0370 & 0.0023  & -0.0219 & -0.0005 & -0.0182 & -0.0028 & ???    \\\\\n",
       "\\end{tabular}\n"
      ],
      "text/markdown": [
       "\n",
       "| <!--/--> | V2 | V3 | V4 | V5 | V6 | V7 | V8 | V9 | V10 | V11 | V12 | \n",
       "|---|---|---|---|---|\n",
       "| EMERGE-3:16218877 |  0.0008 | 0.0104  | -0.0296 | -0.0086 |  0.0261 | 0.0220  | -0.0161 | -0.0078 |  0.0389 |  0.0059 | ???     | \n",
       "| EMERGE-3:16230920 |  0.0058 | 0.0174  |  0.0160 |  0.0183 |  0.0056 | 0.0015  | -0.0107 | -0.0052 |  0.0451 |  0.0105 | ???     | \n",
       "| EMERGE-8:16220003 | -0.0049 | 0.0101  |  0.0103 |  0.0103 | -0.0119 | 0.0040  |  0.0046 | -0.0001 |  0.0178 | -0.0008 | ???     | \n",
       "| EMERGE-9:16231695 | -0.0071 | 0.0134  |  0.0246 | -0.0143 |  0.0043 | 0.0157  |  0.0142 | -0.0011 | -0.0279 | -0.0102 | ???     | \n",
       "| EMERGE-11:16216270 | -0.0052 | 0.0090  | -0.0351 |  0.0177 | -0.0370 | 0.0023  | -0.0219 | -0.0005 | -0.0182 | -0.0028 | ???     | \n",
       "\n",
       "\n"
      ],
      "text/plain": [
       "                   V2      V3     V4      V5      V6      V7     V8     \n",
       "EMERGE-3:16218877   0.0008 0.0104 -0.0296 -0.0086  0.0261 0.0220 -0.0161\n",
       "EMERGE-3:16230920   0.0058 0.0174  0.0160  0.0183  0.0056 0.0015 -0.0107\n",
       "EMERGE-8:16220003  -0.0049 0.0101  0.0103  0.0103 -0.0119 0.0040  0.0046\n",
       "EMERGE-9:16231695  -0.0071 0.0134  0.0246 -0.0143  0.0043 0.0157  0.0142\n",
       "EMERGE-11:16216270 -0.0052 0.0090 -0.0351  0.0177 -0.0370 0.0023 -0.0219\n",
       "                   V9      V10     V11     V12\n",
       "EMERGE-3:16218877  -0.0078  0.0389  0.0059 ???\n",
       "EMERGE-3:16230920  -0.0052  0.0451  0.0105 ???\n",
       "EMERGE-8:16220003  -0.0001  0.0178 -0.0008 ???\n",
       "EMERGE-9:16231695  -0.0011 -0.0279 -0.0102 ???\n",
       "EMERGE-11:16216270 -0.0005 -0.0182 -0.0028 ???"
      ]
     },
     "metadata": {},
     "output_type": "display_data"
    }
   ],
   "source": [
    "## R console ##\n",
    "# Load PCA data\n",
    "setwd(dir = \"C:/Users/jmarks/Desktop/Projects/Nicotine/eMerge/eigenstrat_no_sex/\")\n",
    "options(stringsAsFactors=F)\n",
    "ea.evec <- read.table(\"ea_ld_pruned.pca.evec\",\n",
    "                      comment.char=\"#\", sep=\"\", row.names=1)\n",
    "ea.evec[1:5,]"
   ]
  },
  {
   "cell_type": "code",
   "execution_count": 42,
   "metadata": {},
   "outputs": [
    {
     "data": {
      "image/png": "[encoded data removed]",
      "text/plain": [
       "Plot with title \"eMERGE EA\""
      ]
     },
     "metadata": {},
     "output_type": "display_data"
    },
    {
     "data": {
      "image/png": "[encoded data removed]",
      "text/plain": [
       "Plot with title \"eMERGE EA\""
      ]
     },
     "metadata": {},
     "output_type": "display_data"
    }
   ],
   "source": [
    "### R console ###\n",
    "\n",
    "# Function for plotting off-diagonal scatterplots\n",
    "plot.offdiag <- function(x, y, colors=label.colors){\n",
    "    #Make x and y axes equal\n",
    "    limits <- c(min(x,y), max(x,y)) * 1.3\n",
    "    par(usr = c(limits, limits))\n",
    "    points(x,y, col=colors, pch=16)\n",
    "}\n",
    "\n",
    "# Function for plotting diagonal density plots\n",
    "plot.diag <- function(x, colors=label.colors){\n",
    "    d <- density(x, bw=0.01, kernel=\"gaussian\")\n",
    "    #Update plot axes limits\n",
    "    par(usr = c(range(d$x), range(d$y)*1.3))\n",
    "    points(d$x,d$y, type=\"l\")\n",
    "    #Add PC values\n",
    "    points(x=x, y=jitter(rep(mean(d$y),times=d$n),factor=5), col=label.colors, pch=16)\n",
    "}\n",
    "\n",
    "#Run PCA and get % variance\n",
    "ea.dspace <- ea.evec[1:10] #transformed dataspace\n",
    "\n",
    "#Color label samples\n",
    "label.colors <- rgb(0,80,190,80, maxColorValue=255) #blue\n",
    "\n",
    "options(repr.plot.width=8, repr.plot.height=8)\n",
    "#Redefine outer margin\n",
    "par(oma = c(4, 1, 2, 1))\n",
    "pairs(x=ea.dspace[,1:5], panel=plot.offdiag, diag.panel=plot.diag, \n",
    "      labels=paste0(\"PC\",1:5), label.pos=0.9, cex.labels=1.8)\n",
    "par(fig=c(0, 1, 0, 1), oma=c(0, 0, 0, 0), mar=c(0, 0, 1.5, 0), new=TRUE)\n",
    "plot(0, 0, type = \"n\", bty = \"n\", xaxt = \"n\", yaxt = \"n\", main=\"eMERGE EA\", cex.main=1)\n",
    "\n",
    "par(oma = c(4, 1, 2, 1))\n",
    "pairs(x=ea.dspace[,6:10], panel=plot.offdiag, diag.panel=plot.diag, \n",
    "      labels=paste0(\"PC\",6:10), label.pos=0.9, cex.labels=1.8)\n",
    "par(fig=c(0, 1, 0, 1), oma=c(0, 0, 0, 0), mar=c(0, 0, 1.5, 0), new=TRUE)\n",
    "plot(0, 0, type = \"n\", bty = \"n\", xaxt = \"n\", yaxt = \"n\", main=\"eMERGE EA\", cex.main=1)"
   ]
  },
  {
   "cell_type": "markdown",
   "metadata": {},
   "source": [
    "### Extract eigenvectors"
   ]
  },
  {
   "cell_type": "code",
   "execution_count": null,
   "metadata": {
    "collapsed": true
   },
   "outputs": [],
   "source": [
    "# Command line # \n",
    "cd /shared/s3/emerge/eigenstrat_no_sex/results\n",
    "\n",
    "# Grab top 10 eigenvectors from PCA \n",
    "ancestry=\"ea\"\n",
    "# Extract eigenvectors\n",
    "echo \"FID IID EV1 EV2 EV3 EV4 EV5 EV6 EV7 EV8 EV9 EV10\" > ${ancestry}_ld_pruned_top10_eigenvecs.txt\n",
    "tail -n +2 ${ancestry}_ld_pruned.pca.evec | \\\n",
    "    perl -lne 's/:/ /; @F=split; print join(\" \",$F[0],$F[1],$F[2],$F[3],$F[4],$F[5],$F[6],$F[7],$F[8],$F[9],$F[10],$F[11]);' \\\n",
    "    >> ${ancestry}_ld_pruned_top10_eigenvecs.txt"
   ]
  },
  {
   "cell_type": "markdown",
   "metadata": {},
   "source": [
    "## Phenotype processing\n",
    "### Retrieve covariates and generate mapping file\n",
    "The covariates we want to include are age and sex. Sex is encoded as M=Male and F=Female. \n",
    "\n",
    "\n",
    "#### Create ped file"
   ]
  },
  {
   "cell_type": "code",
   "execution_count": null,
   "metadata": {
    "collapsed": true
   },
   "outputs": [],
   "source": [
    "# Command line # \n",
    "cd /shared/s3/emerge/data/phenotype_no_sex\n",
    "\n",
    "### R ###\n",
    "p.data <- \"emerge_ftnd_no_sex.txt\"\n",
    "pheno.data <- read.csv(p.data, sep = \" \", header = T, stringsAsFactors = F, \n",
    "                       colClasses=c(\"integer\", \"character\", \"integer\"))\n",
    "\n",
    "pca.data <- read.csv(\"/shared/s3/emerge/eigenstrat_no_sex/results/ea_ld_pruned_top10_eigenvecs.txt\", sep = \" \" , \n",
    "                    colClasses=c(rep(\"character\",times=2), rep(\"double\",times = 10)))\n",
    "\n",
    "num.subjects <- length(pca.data[,1])\n",
    "\n",
    "ped.file <- data.frame(matrix(ncol = 7, nrow = num.subjects))\n",
    "colnames(ped.file) <- c(\"fid\", \"iid\", \"patid\", \"matid\", \"sex\",  \"ftnd\")\n",
    "ped.file[,1] <- pca.data[,1]\n",
    "ped.file[,2] <- pca.data[,2]\n",
    "\n",
    "# map loop (goal to fill in sex and ftnd data on ped.file from the pheno.data)\n",
    "for (i in 1:num.subjects){\n",
    "    key <- noquote(ped.file[i,2])\n",
    "    \n",
    "    my_match <- match(key, pheno.data[,1])\n",
    "    ped.file[i,5] <- pheno.data[my_match,2]\n",
    "    ped.file[i,6] <- pheno.data[my_match,3]\n",
    "    \n",
    "} # end i loop\n",
    "\n",
    "write.table(ped.file[,1:6], \"eMERGE_EUR_phen.ped\", sep = \"\\t\", row.names = F, quote=F)"
   ]
  },
  {
   "cell_type": "markdown",
   "metadata": {},
   "source": [
    "#### Create cov file"
   ]
  },
  {
   "cell_type": "code",
   "execution_count": null,
   "metadata": {
    "collapsed": true
   },
   "outputs": [],
   "source": [
    "# make sure ncol = <correct #>\n",
    "covar.data <- data.frame(matrix(ncol = 15, nrow = num.subjects))\n",
    "colnames(covar.data) <- c(\"fid\", \"iid\", \"patid\", \"matid\", \"sex\",  \n",
    "                        \"PC1\", \"PC2\",\"PC3\",\"PC4\",\"PC5\",\"PC6\",\"PC7\",\"PC8\",\"PC9\",\"PC10\")\n",
    "covar.data[,1:5] <- ped.file[,1:5]\n",
    "\n",
    "covar.data[,6:length(covar.data)] <- pca.data[,3:length(pca.data)]\n",
    "\n",
    "write.table(covar.data, \"eMERGE_EUR_cov.ped\", quote=FALSE, row.names = FALSE, sep = \"\\t\")"
   ]
  },
  {
   "cell_type": "markdown",
   "metadata": {},
   "source": [
    "## PC Selection\n",
    "Determine which PCs (eigenvectors) contribute the most influence and include them in the GWAS as covariates. Include the PCs which contribute to at least %75 of the variance.\n",
    "\n",
    "__Note__: we will perform this on our local machine for convenience."
   ]
  },
  {
   "cell_type": "code",
   "execution_count": null,
   "metadata": {
    "collapsed": true
   },
   "outputs": [],
   "source": [
    "cd /cygdrive/c/Users/jmarks/Desktop/Projects/Nicotine/eMerge/phenotype/no_sex\n",
    "scp  -i ~/.ssh/gwas_rsa ec2-user@35.171.207.199:/shared/s3/emerge/data/phenotype/no_sex/eMERGE* ."
   ]
  },
  {
   "cell_type": "code",
   "execution_count": 44,
   "metadata": {
    "collapsed": true
   },
   "outputs": [],
   "source": [
    "### R console ###\n",
    "\n",
    "# Load PCA data\n",
    "setwd('C:/Users/jmarks/Desktop/Projects/Nicotine/eMerge/phenotype/no_sex')\n",
    "options(stringsAsFactors=F)\n",
    "ea.cov.data <- read.delim(\"eMERGE_EUR_cov.ped\", header=T, sep=\"\\t\")\n",
    "ea.phen.data <- read.delim(\"eMERGE_EUR_phen.ped\", header=T, sep=\"\\t\")\n",
    "\n",
    "# Combine PCs and phenotype into one data frame\n",
    "phen.name <- \"ftnd\"\n",
    "pc.names <- paste0(\"PC\", 1:10)\n",
    "ea.data <- merge(x=ea.phen.data[,c(\"iid\",phen.name)], y=ea.cov.data[, c(\"iid\", paste0(\"PC\",1:10))], by=\"iid\")"
   ]
  },
  {
   "cell_type": "markdown",
   "metadata": {},
   "source": [
    "## Regression analysis\n",
    "We use a regression model of the general structure\n",
    "\\begin{align}\n",
    "\\text{FTND = PC1 + PC2 + ... + PC10}\n",
    "\\end{align}"
   ]
  },
  {
   "cell_type": "code",
   "execution_count": 45,
   "metadata": {},
   "outputs": [
    {
     "name": "stdout",
     "output_type": "stream",
     "text": [
      "MODEL FORMULA:\n",
      "\n",
      " ftnd ~ PC1 + PC2 + PC3 + PC4 + PC5 + PC6 + PC7 + PC8 + PC9 + PC10 \n",
      "\n",
      "\n",
      "================ EA group ================"
     ]
    },
    {
     "data": {
      "text/plain": [
       "\n",
       "Call:\n",
       "lm(formula = as.formula(model.str), data = ea.data)\n",
       "\n",
       "Residuals:\n",
       "    Min      1Q  Median      3Q     Max \n",
       "-0.5636 -0.4151 -0.3790  0.5740  1.6764 \n",
       "\n",
       "Coefficients:\n",
       "            Estimate Std. Error t value Pr(>|t|)    \n",
       "(Intercept)  0.40137    0.02271  17.670   <2e-16 ***\n",
       "PC1         -0.05000    0.61370  -0.081   0.9351    \n",
       "PC2         -0.13817    0.61371  -0.225   0.8219    \n",
       "PC3          1.04533    0.61372   1.703   0.0889 .  \n",
       "PC4          0.16369    0.61373   0.267   0.7898    \n",
       "PC5         -0.68615    0.61370  -1.118   0.2639    \n",
       "PC6          0.89045    0.61372   1.451   0.1472    \n",
       "PC7         -1.00242    0.61370  -1.633   0.1028    \n",
       "PC8          0.66158    0.61368   1.078   0.2814    \n",
       "PC9         -0.85499    0.61375  -1.393   0.1640    \n",
       "PC10         0.12763    0.61370   0.208   0.8353    \n",
       "---\n",
       "Signif. codes:  0 '***' 0.001 '**' 0.01 '*' 0.05 '.' 0.1 ' ' 1\n",
       "\n",
       "Residual standard error: 0.6137 on 719 degrees of freedom\n",
       "Multiple R-squared:  0.01668,\tAdjusted R-squared:  0.003007 \n",
       "F-statistic:  1.22 on 10 and 719 DF,  p-value: 0.2743\n"
      ]
     },
     "metadata": {},
     "output_type": "display_data"
    },
    {
     "data": {
      "text/html": [
       "<table>\n",
       "<thead><tr><th></th><th scope=col>Df</th><th scope=col>Sum Sq</th><th scope=col>Mean Sq</th><th scope=col>F value</th><th scope=col>Pr(&gt;F)</th><th scope=col>PVE</th></tr></thead>\n",
       "<tbody>\n",
       "\t<tr><th scope=row>PC3</th><td>1          </td><td>1.09269426 </td><td>1.09269426 </td><td>2.901163022</td><td>0.08894781 </td><td>23.78      </td></tr>\n",
       "\t<tr><th scope=row>PC7</th><td>1          </td><td>1.00468337 </td><td>1.00468337 </td><td>2.667489289</td><td>0.10285527 </td><td>21.87      </td></tr>\n",
       "\t<tr><th scope=row>PC6</th><td>1          </td><td>0.79288068 </td><td>0.79288068 </td><td>2.105141564</td><td>0.14724088 </td><td>17.26      </td></tr>\n",
       "\t<tr><th scope=row>PC9</th><td>1          </td><td>0.73091233 </td><td>0.73091233 </td><td>1.940612212</td><td>0.16403262 </td><td>15.91      </td></tr>\n",
       "\t<tr><th scope=row>PC5</th><td>1          </td><td>0.47089186 </td><td>0.47089186 </td><td>1.250243633</td><td>0.26387940 </td><td>10.25      </td></tr>\n",
       "\t<tr><th scope=row>PC8</th><td>1          </td><td>0.43775525 </td><td>0.43775525 </td><td>1.162264124</td><td>0.28135803 </td><td> 9.53      </td></tr>\n",
       "\t<tr><th scope=row>PC4</th><td>1          </td><td>0.02675882 </td><td>0.02675882 </td><td>0.071046131</td><td>0.78989608 </td><td> 0.58      </td></tr>\n",
       "\t<tr><th scope=row>PC2</th><td>1          </td><td>0.01905521 </td><td>0.01905521 </td><td>0.050592630</td><td>0.82209915 </td><td> 0.41      </td></tr>\n",
       "\t<tr><th scope=row>PC10</th><td>1          </td><td>0.01629077 </td><td>0.01629077 </td><td>0.043252897</td><td>0.83530870 </td><td> 0.35      </td></tr>\n",
       "\t<tr><th scope=row>PC1</th><td>1          </td><td>0.00249383 </td><td>0.00249383 </td><td>0.006621256</td><td>0.93516948 </td><td> 0.05      </td></tr>\n",
       "</tbody>\n",
       "</table>\n"
      ],
      "text/latex": [
       "\\begin{tabular}{r|llllll}\n",
       "  & Df & Sum Sq & Mean Sq & F value & Pr(>F) & PVE\\\\\n",
       "\\hline\n",
       "\tPC3 & 1           & 1.09269426  & 1.09269426  & 2.901163022 & 0.08894781  & 23.78      \\\\\n",
       "\tPC7 & 1           & 1.00468337  & 1.00468337  & 2.667489289 & 0.10285527  & 21.87      \\\\\n",
       "\tPC6 & 1           & 0.79288068  & 0.79288068  & 2.105141564 & 0.14724088  & 17.26      \\\\\n",
       "\tPC9 & 1           & 0.73091233  & 0.73091233  & 1.940612212 & 0.16403262  & 15.91      \\\\\n",
       "\tPC5 & 1           & 0.47089186  & 0.47089186  & 1.250243633 & 0.26387940  & 10.25      \\\\\n",
       "\tPC8 & 1           & 0.43775525  & 0.43775525  & 1.162264124 & 0.28135803  &  9.53      \\\\\n",
       "\tPC4 & 1           & 0.02675882  & 0.02675882  & 0.071046131 & 0.78989608  &  0.58      \\\\\n",
       "\tPC2 & 1           & 0.01905521  & 0.01905521  & 0.050592630 & 0.82209915  &  0.41      \\\\\n",
       "\tPC10 & 1           & 0.01629077  & 0.01629077  & 0.043252897 & 0.83530870  &  0.35      \\\\\n",
       "\tPC1 & 1           & 0.00249383  & 0.00249383  & 0.006621256 & 0.93516948  &  0.05      \\\\\n",
       "\\end{tabular}\n"
      ],
      "text/markdown": [
       "\n",
       "| <!--/--> | Df | Sum Sq | Mean Sq | F value | Pr(>F) | PVE | \n",
       "|---|---|---|---|---|---|---|---|---|---|\n",
       "| PC3 | 1           | 1.09269426  | 1.09269426  | 2.901163022 | 0.08894781  | 23.78       | \n",
       "| PC7 | 1           | 1.00468337  | 1.00468337  | 2.667489289 | 0.10285527  | 21.87       | \n",
       "| PC6 | 1           | 0.79288068  | 0.79288068  | 2.105141564 | 0.14724088  | 17.26       | \n",
       "| PC9 | 1           | 0.73091233  | 0.73091233  | 1.940612212 | 0.16403262  | 15.91       | \n",
       "| PC5 | 1           | 0.47089186  | 0.47089186  | 1.250243633 | 0.26387940  | 10.25       | \n",
       "| PC8 | 1           | 0.43775525  | 0.43775525  | 1.162264124 | 0.28135803  |  9.53       | \n",
       "| PC4 | 1           | 0.02675882  | 0.02675882  | 0.071046131 | 0.78989608  |  0.58       | \n",
       "| PC2 | 1           | 0.01905521  | 0.01905521  | 0.050592630 | 0.82209915  |  0.41       | \n",
       "| PC10 | 1           | 0.01629077  | 0.01629077  | 0.043252897 | 0.83530870  |  0.35       | \n",
       "| PC1 | 1           | 0.00249383  | 0.00249383  | 0.006621256 | 0.93516948  |  0.05       | \n",
       "\n",
       "\n"
      ],
      "text/plain": [
       "     Df Sum Sq     Mean Sq    F value     Pr(>F)     PVE  \n",
       "PC3  1  1.09269426 1.09269426 2.901163022 0.08894781 23.78\n",
       "PC7  1  1.00468337 1.00468337 2.667489289 0.10285527 21.87\n",
       "PC6  1  0.79288068 0.79288068 2.105141564 0.14724088 17.26\n",
       "PC9  1  0.73091233 0.73091233 1.940612212 0.16403262 15.91\n",
       "PC5  1  0.47089186 0.47089186 1.250243633 0.26387940 10.25\n",
       "PC8  1  0.43775525 0.43775525 1.162264124 0.28135803  9.53\n",
       "PC4  1  0.02675882 0.02675882 0.071046131 0.78989608  0.58\n",
       "PC2  1  0.01905521 0.01905521 0.050592630 0.82209915  0.41\n",
       "PC10 1  0.01629077 0.01629077 0.043252897 0.83530870  0.35\n",
       "PC1  1  0.00249383 0.00249383 0.006621256 0.93516948  0.05"
      ]
     },
     "metadata": {},
     "output_type": "display_data"
    }
   ],
   "source": [
    "# Build model formula\n",
    "model.str <- paste0(phen.name, \" ~ \", paste(pc.names, collapse=\" + \"))\n",
    "cat(\"MODEL FORMULA:\\n\\n\", model.str, \"\\n\")\n",
    "\n",
    "# Get model fits\n",
    "lm.fit.ea <- lm(formula=as.formula(model.str), data=ea.data)\n",
    "\n",
    "# Get sequential (type I) sum of squares\n",
    "anova.ea <- anova(lm.fit.ea)\n",
    "\n",
    "# Calculate percent variance explained and sort\n",
    "ea.pve <- cbind(anova.ea[pc.names,], \n",
    "                PVE=round(anova.ea[pc.names, \"Mean Sq\"]/sum(anova.ea[pc.names, \"Mean Sq\"])*100, digits=2))\n",
    "ea.pve.sorted <- ea.pve[order(ea.pve$PVE, decreasing=T),]\n",
    "\n",
    "# Output regression info\n",
    "cat(\"\\n\\n================ EA group ================\")\n",
    "summary(lm.fit.ea)\n",
    "ea.pve.sorted"
   ]
  },
  {
   "cell_type": "markdown",
   "metadata": {},
   "source": [
    "## Percent Variance Explained Visualization"
   ]
  },
  {
   "cell_type": "code",
   "execution_count": 46,
   "metadata": {},
   "outputs": [
    {
     "data": {
      "image/png": "[encoded data removed]",
      "text/plain": [
       "Plot with title \"EA PVE Cumulative Sum\""
      ]
     },
     "metadata": {},
     "output_type": "display_data"
    },
    {
     "data": {
      "image/png": "[encoded data removed]",
      "text/plain": [
       "Plot with title \"EA PVE Cumulative Sum (Sorted PCs)\""
      ]
     },
     "metadata": {},
     "output_type": "display_data"
    }
   ],
   "source": [
    "options(repr.plot.width=13, repr.plot.height=5)\n",
    "\n",
    "# Set graphical parameters\n",
    "cex.factor = 0.9\n",
    "barplot.ylim.ea = c(0, max(ea.pve$PVE)*1.2)\n",
    "\n",
    "# Visualize PVE\n",
    "par(mfrow=c(1,2))\n",
    "barplot(height=ea.pve$PVE, names.arg=rownames(ea.pve), beside=T, cex.names=cex.factor, \n",
    "        col=\"red3\", border=\"red3\", ylim=barplot.ylim.ea, \n",
    "        main=\"EA Percent Variance Explained\", ylab=\"PVE\")\n",
    "plot(cumsum(ea.pve$PVE), type=\"b\", main=\"EA PVE Cumulative Sum\", ylab=\"PVE\", \n",
    "     lwd=2, col=\"red3\", pch=17, xaxt=\"n\", xlab=\"\", ylim=c(0,100))\n",
    "axis(side=1, at=c(1:10), labels=rownames(ea.pve), cex.axis=cex.factor)\n",
    "\n",
    "par(mfrow=c(1,2))\n",
    "barplot(height=ea.pve.sorted$PVE, names.arg=rownames(ea.pve.sorted), beside=T, cex.names=cex.factor, \n",
    "        col=\"red3\", border=\"red3\", ylim=barplot.ylim.ea, main=\"EA Percent Variance Explained (Sorted PCs)\", ylab=\"PVE\")\n",
    "plot(cumsum(ea.pve.sorted$PVE), type=\"b\", main=\"EA PVE Cumulative Sum (Sorted PCs)\", ylab=\"PVE\", \n",
    "     lwd=2, col=\"red3\", pch=17, xaxt=\"n\", xlab=\"\", ylim=c(0,100))\n",
    "axis(side=1, at=c(1:10), labels=rownames(ea.pve.sorted), cex.axis=cex.factor)"
   ]
  },
  {
   "cell_type": "markdown",
   "metadata": {
    "collapsed": true
   },
   "source": [
    "Based on these results, we will use PC3, PC7, PC6, and PC9 in the GWAS as covariates. These PCs contribute to >75% of the percent variance explained."
   ]
  },
  {
   "cell_type": "markdown",
   "metadata": {},
   "source": [
    "## Convert VCF files to mach"
   ]
  },
  {
   "cell_type": "code",
   "execution_count": null,
   "metadata": {
    "collapsed": true
   },
   "outputs": [],
   "source": [
    "base_dir=/shared/s3/emerge/data/genotype/imputed\n",
    "\n",
    "for chr in {1..19};do\n",
    "mkdir -p ${base_dir}/mach/chr${chr}\n",
    "    /shared/bioinformatics/software/scripts/qsub_job.sh \\\n",
    "    --job_name convert_dosage$chr \\\n",
    "    --script_prefix ${base_dir}/mach/chr$chr/chr$chr \\\n",
    "    --mem 10 \\\n",
    "    --buffer 100000\\\n",
    "    --nslots 2 \\\n",
    "    --priority 0 \\\n",
    "    --program /shared/bioinformatics/software/third_party/dosage_converter_v1.0.4/bin/DosageConvertor \\\n",
    "    --vcfDose ${base_dir}/chr${chr}.dose.vcf.gz \\\n",
    "    --info ${base_dir}/chr${chr}.info.gz \\\n",
    "    --prefix ${base_dir}/mach/chr${chr}/chr$chr.mach \\\n",
    "    --type mach \\\n",
    "    --format 1 # contains the expected alternate allele count (one value per sample per marker).\n",
    "done"
   ]
  },
  {
   "cell_type": "markdown",
   "metadata": {},
   "source": [
    "## Create a phenotype file for ProbABEL\n",
    "* Need to include PC3, PC6, PC7, and PC9.\n",
    "* Header needs to be <br>\n",
    "   `IID     CAT_FTND      SEX     EV3     EV6     EV7     EV9`"
   ]
  },
  {
   "cell_type": "code",
   "execution_count": 57,
   "metadata": {},
   "outputs": [
    {
     "data": {
      "text/html": [
       "<table>\n",
       "<thead><tr><th scope=col>fid</th><th scope=col>iid</th><th scope=col>patid</th><th scope=col>matid</th><th scope=col>sex</th><th scope=col>ftnd</th></tr></thead>\n",
       "<tbody>\n",
       "\t<tr><td>EMERGE-3 </td><td>16218877 </td><td>NA       </td><td>NA       </td><td>F        </td><td>0        </td></tr>\n",
       "\t<tr><td>EMERGE-3 </td><td>16230920 </td><td>NA       </td><td>NA       </td><td>M        </td><td>2        </td></tr>\n",
       "\t<tr><td>EMERGE-8 </td><td>16220003 </td><td>NA       </td><td>NA       </td><td>M        </td><td>0        </td></tr>\n",
       "\t<tr><td>EMERGE-9 </td><td>16231695 </td><td>NA       </td><td>NA       </td><td>M        </td><td>2        </td></tr>\n",
       "\t<tr><td>EMERGE-11</td><td>16216270 </td><td>NA       </td><td>NA       </td><td>F        </td><td>1        </td></tr>\n",
       "\t<tr><td>EMERGE-11</td><td>16217471 </td><td>NA       </td><td>NA       </td><td>F        </td><td>1        </td></tr>\n",
       "</tbody>\n",
       "</table>\n"
      ],
      "text/latex": [
       "\\begin{tabular}{r|llllll}\n",
       " fid & iid & patid & matid & sex & ftnd\\\\\n",
       "\\hline\n",
       "\t EMERGE-3  & 16218877  & NA        & NA        & F         & 0        \\\\\n",
       "\t EMERGE-3  & 16230920  & NA        & NA        & M         & 2        \\\\\n",
       "\t EMERGE-8  & 16220003  & NA        & NA        & M         & 0        \\\\\n",
       "\t EMERGE-9  & 16231695  & NA        & NA        & M         & 2        \\\\\n",
       "\t EMERGE-11 & 16216270  & NA        & NA        & F         & 1        \\\\\n",
       "\t EMERGE-11 & 16217471  & NA        & NA        & F         & 1        \\\\\n",
       "\\end{tabular}\n"
      ],
      "text/markdown": [
       "\n",
       "fid | iid | patid | matid | sex | ftnd | \n",
       "|---|---|---|---|---|---|\n",
       "| EMERGE-3  | 16218877  | NA        | NA        | F         | 0         | \n",
       "| EMERGE-3  | 16230920  | NA        | NA        | M         | 2         | \n",
       "| EMERGE-8  | 16220003  | NA        | NA        | M         | 0         | \n",
       "| EMERGE-9  | 16231695  | NA        | NA        | M         | 2         | \n",
       "| EMERGE-11 | 16216270  | NA        | NA        | F         | 1         | \n",
       "| EMERGE-11 | 16217471  | NA        | NA        | F         | 1         | \n",
       "\n",
       "\n"
      ],
      "text/plain": [
       "  fid       iid      patid matid sex ftnd\n",
       "1 EMERGE-3  16218877 NA    NA    F   0   \n",
       "2 EMERGE-3  16230920 NA    NA    M   2   \n",
       "3 EMERGE-8  16220003 NA    NA    M   0   \n",
       "4 EMERGE-9  16231695 NA    NA    M   2   \n",
       "5 EMERGE-11 16216270 NA    NA    F   1   \n",
       "6 EMERGE-11 16217471 NA    NA    F   1   "
      ]
     },
     "metadata": {},
     "output_type": "display_data"
    }
   ],
   "source": [
    "head(phen)"
   ]
  },
  {
   "cell_type": "code",
   "execution_count": 66,
   "metadata": {},
   "outputs": [
    {
     "data": {
      "text/html": [
       "<table>\n",
       "<thead><tr><th scope=col>fid</th><th scope=col>iid</th><th scope=col>patid</th><th scope=col>matid</th><th scope=col>sex</th><th scope=col>PC1</th><th scope=col>PC2</th><th scope=col>PC3</th><th scope=col>PC4</th><th scope=col>PC5</th><th scope=col>PC6</th><th scope=col>PC7</th><th scope=col>PC8</th><th scope=col>PC9</th><th scope=col>PC10</th></tr></thead>\n",
       "<tbody>\n",
       "\t<tr><td>EMERGE-3 </td><td>16218877 </td><td>NA       </td><td>NA       </td><td>F        </td><td> 0.0008  </td><td> 0.0104  </td><td>-0.0296  </td><td>-0.0086  </td><td> 0.0261  </td><td> 0.0220  </td><td>-0.0161  </td><td>-0.0078  </td><td> 0.0389  </td><td> 0.0059  </td></tr>\n",
       "\t<tr><td>EMERGE-3 </td><td>16230920 </td><td>NA       </td><td>NA       </td><td>M        </td><td> 0.0058  </td><td> 0.0174  </td><td> 0.0160  </td><td> 0.0183  </td><td> 0.0056  </td><td> 0.0015  </td><td>-0.0107  </td><td>-0.0052  </td><td> 0.0451  </td><td> 0.0105  </td></tr>\n",
       "\t<tr><td>EMERGE-8 </td><td>16220003 </td><td>NA       </td><td>NA       </td><td>M        </td><td>-0.0049  </td><td> 0.0101  </td><td> 0.0103  </td><td> 0.0103  </td><td>-0.0119  </td><td> 0.0040  </td><td> 0.0046  </td><td>-0.0001  </td><td> 0.0178  </td><td>-0.0008  </td></tr>\n",
       "\t<tr><td>EMERGE-9 </td><td>16231695 </td><td>NA       </td><td>NA       </td><td>M        </td><td>-0.0071  </td><td> 0.0134  </td><td> 0.0246  </td><td>-0.0143  </td><td> 0.0043  </td><td> 0.0157  </td><td> 0.0142  </td><td>-0.0011  </td><td>-0.0279  </td><td>-0.0102  </td></tr>\n",
       "\t<tr><td>EMERGE-11</td><td>16216270 </td><td>NA       </td><td>NA       </td><td>F        </td><td>-0.0052  </td><td> 0.0090  </td><td>-0.0351  </td><td> 0.0177  </td><td>-0.0370  </td><td> 0.0023  </td><td>-0.0219  </td><td>-0.0005  </td><td>-0.0182  </td><td>-0.0028  </td></tr>\n",
       "\t<tr><td>EMERGE-11</td><td>16217471 </td><td>NA       </td><td>NA       </td><td>F        </td><td>-0.0004  </td><td>-0.0024  </td><td>-0.0209  </td><td> 0.0053  </td><td>-0.0131  </td><td>-0.0023  </td><td> 0.0054  </td><td>-0.0149  </td><td> 0.0198  </td><td> 0.0306  </td></tr>\n",
       "</tbody>\n",
       "</table>\n"
      ],
      "text/latex": [
       "\\begin{tabular}{r|lllllllllllllll}\n",
       " fid & iid & patid & matid & sex & PC1 & PC2 & PC3 & PC4 & PC5 & PC6 & PC7 & PC8 & PC9 & PC10\\\\\n",
       "\\hline\n",
       "\t EMERGE-3  & 16218877  & NA        & NA        & F         &  0.0008   &  0.0104   & -0.0296   & -0.0086   &  0.0261   &  0.0220   & -0.0161   & -0.0078   &  0.0389   &  0.0059  \\\\\n",
       "\t EMERGE-3  & 16230920  & NA        & NA        & M         &  0.0058   &  0.0174   &  0.0160   &  0.0183   &  0.0056   &  0.0015   & -0.0107   & -0.0052   &  0.0451   &  0.0105  \\\\\n",
       "\t EMERGE-8  & 16220003  & NA        & NA        & M         & -0.0049   &  0.0101   &  0.0103   &  0.0103   & -0.0119   &  0.0040   &  0.0046   & -0.0001   &  0.0178   & -0.0008  \\\\\n",
       "\t EMERGE-9  & 16231695  & NA        & NA        & M         & -0.0071   &  0.0134   &  0.0246   & -0.0143   &  0.0043   &  0.0157   &  0.0142   & -0.0011   & -0.0279   & -0.0102  \\\\\n",
       "\t EMERGE-11 & 16216270  & NA        & NA        & F         & -0.0052   &  0.0090   & -0.0351   &  0.0177   & -0.0370   &  0.0023   & -0.0219   & -0.0005   & -0.0182   & -0.0028  \\\\\n",
       "\t EMERGE-11 & 16217471  & NA        & NA        & F         & -0.0004   & -0.0024   & -0.0209   &  0.0053   & -0.0131   & -0.0023   &  0.0054   & -0.0149   &  0.0198   &  0.0306  \\\\\n",
       "\\end{tabular}\n"
      ],
      "text/markdown": [
       "\n",
       "fid | iid | patid | matid | sex | PC1 | PC2 | PC3 | PC4 | PC5 | PC6 | PC7 | PC8 | PC9 | PC10 | \n",
       "|---|---|---|---|---|---|\n",
       "| EMERGE-3  | 16218877  | NA        | NA        | F         |  0.0008   |  0.0104   | -0.0296   | -0.0086   |  0.0261   |  0.0220   | -0.0161   | -0.0078   |  0.0389   |  0.0059   | \n",
       "| EMERGE-3  | 16230920  | NA        | NA        | M         |  0.0058   |  0.0174   |  0.0160   |  0.0183   |  0.0056   |  0.0015   | -0.0107   | -0.0052   |  0.0451   |  0.0105   | \n",
       "| EMERGE-8  | 16220003  | NA        | NA        | M         | -0.0049   |  0.0101   |  0.0103   |  0.0103   | -0.0119   |  0.0040   |  0.0046   | -0.0001   |  0.0178   | -0.0008   | \n",
       "| EMERGE-9  | 16231695  | NA        | NA        | M         | -0.0071   |  0.0134   |  0.0246   | -0.0143   |  0.0043   |  0.0157   |  0.0142   | -0.0011   | -0.0279   | -0.0102   | \n",
       "| EMERGE-11 | 16216270  | NA        | NA        | F         | -0.0052   |  0.0090   | -0.0351   |  0.0177   | -0.0370   |  0.0023   | -0.0219   | -0.0005   | -0.0182   | -0.0028   | \n",
       "| EMERGE-11 | 16217471  | NA        | NA        | F         | -0.0004   | -0.0024   | -0.0209   |  0.0053   | -0.0131   | -0.0023   |  0.0054   | -0.0149   |  0.0198   |  0.0306   | \n",
       "\n",
       "\n"
      ],
      "text/plain": [
       "  fid       iid      patid matid sex PC1     PC2     PC3     PC4     PC5    \n",
       "1 EMERGE-3  16218877 NA    NA    F    0.0008  0.0104 -0.0296 -0.0086  0.0261\n",
       "2 EMERGE-3  16230920 NA    NA    M    0.0058  0.0174  0.0160  0.0183  0.0056\n",
       "3 EMERGE-8  16220003 NA    NA    M   -0.0049  0.0101  0.0103  0.0103 -0.0119\n",
       "4 EMERGE-9  16231695 NA    NA    M   -0.0071  0.0134  0.0246 -0.0143  0.0043\n",
       "5 EMERGE-11 16216270 NA    NA    F   -0.0052  0.0090 -0.0351  0.0177 -0.0370\n",
       "6 EMERGE-11 16217471 NA    NA    F   -0.0004 -0.0024 -0.0209  0.0053 -0.0131\n",
       "  PC6     PC7     PC8     PC9     PC10   \n",
       "1  0.0220 -0.0161 -0.0078  0.0389  0.0059\n",
       "2  0.0015 -0.0107 -0.0052  0.0451  0.0105\n",
       "3  0.0040  0.0046 -0.0001  0.0178 -0.0008\n",
       "4  0.0157  0.0142 -0.0011 -0.0279 -0.0102\n",
       "5  0.0023 -0.0219 -0.0005 -0.0182 -0.0028\n",
       "6 -0.0023  0.0054 -0.0149  0.0198  0.0306"
      ]
     },
     "metadata": {},
     "output_type": "display_data"
    },
    {
     "data": {
      "text/html": [
       "730"
      ],
      "text/latex": [
       "730"
      ],
      "text/markdown": [
       "730"
      ],
      "text/plain": [
       "[1] 730"
      ]
     },
     "metadata": {},
     "output_type": "display_data"
    },
    {
     "data": {
      "text/html": [
       "<table>\n",
       "<thead><tr><th scope=col>IID</th><th scope=col>CAT_FTND</th><th scope=col>SEX</th><th scope=col>EV3</th><th scope=col>EV6</th><th scope=col>EV7</th><th scope=col>EV9</th></tr></thead>\n",
       "<tbody>\n",
       "\t<tr><td>EMERGE-3_16218877 </td><td>0                 </td><td>F                 </td><td>-0.0296           </td><td> 0.0220           </td><td>-0.0161           </td><td> 0.0389           </td></tr>\n",
       "\t<tr><td>EMERGE-3_16230920 </td><td>2                 </td><td>M                 </td><td> 0.0160           </td><td> 0.0015           </td><td>-0.0107           </td><td> 0.0451           </td></tr>\n",
       "\t<tr><td>EMERGE-8_16220003 </td><td>0                 </td><td>M                 </td><td> 0.0103           </td><td> 0.0040           </td><td> 0.0046           </td><td> 0.0178           </td></tr>\n",
       "\t<tr><td>EMERGE-9_16231695 </td><td>2                 </td><td>M                 </td><td> 0.0246           </td><td> 0.0157           </td><td> 0.0142           </td><td>-0.0279           </td></tr>\n",
       "\t<tr><td>EMERGE-11_16216270</td><td>1                 </td><td>F                 </td><td>-0.0351           </td><td> 0.0023           </td><td>-0.0219           </td><td>-0.0182           </td></tr>\n",
       "\t<tr><td>EMERGE-11_16217471</td><td>1                 </td><td>F                 </td><td>-0.0209           </td><td>-0.0023           </td><td> 0.0054           </td><td> 0.0198           </td></tr>\n",
       "</tbody>\n",
       "</table>\n"
      ],
      "text/latex": [
       "\\begin{tabular}{r|lllllll}\n",
       " IID & CAT\\_FTND & SEX & EV3 & EV6 & EV7 & EV9\\\\\n",
       "\\hline\n",
       "\t EMERGE-3\\_16218877  & 0                    & F                    & -0.0296              &  0.0220              & -0.0161              &  0.0389             \\\\\n",
       "\t EMERGE-3\\_16230920  & 2                    & M                    &  0.0160              &  0.0015              & -0.0107              &  0.0451             \\\\\n",
       "\t EMERGE-8\\_16220003  & 0                    & M                    &  0.0103              &  0.0040              &  0.0046              &  0.0178             \\\\\n",
       "\t EMERGE-9\\_16231695  & 2                    & M                    &  0.0246              &  0.0157              &  0.0142              & -0.0279             \\\\\n",
       "\t EMERGE-11\\_16216270 & 1                    & F                    & -0.0351              &  0.0023              & -0.0219              & -0.0182             \\\\\n",
       "\t EMERGE-11\\_16217471 & 1                    & F                    & -0.0209              & -0.0023              &  0.0054              &  0.0198             \\\\\n",
       "\\end{tabular}\n"
      ],
      "text/markdown": [
       "\n",
       "IID | CAT_FTND | SEX | EV3 | EV6 | EV7 | EV9 | \n",
       "|---|---|---|---|---|---|\n",
       "| EMERGE-3_16218877  | 0                  | F                  | -0.0296            |  0.0220            | -0.0161            |  0.0389            | \n",
       "| EMERGE-3_16230920  | 2                  | M                  |  0.0160            |  0.0015            | -0.0107            |  0.0451            | \n",
       "| EMERGE-8_16220003  | 0                  | M                  |  0.0103            |  0.0040            |  0.0046            |  0.0178            | \n",
       "| EMERGE-9_16231695  | 2                  | M                  |  0.0246            |  0.0157            |  0.0142            | -0.0279            | \n",
       "| EMERGE-11_16216270 | 1                  | F                  | -0.0351            |  0.0023            | -0.0219            | -0.0182            | \n",
       "| EMERGE-11_16217471 | 1                  | F                  | -0.0209            | -0.0023            |  0.0054            |  0.0198            | \n",
       "\n",
       "\n"
      ],
      "text/plain": [
       "  IID                CAT_FTND SEX EV3     EV6     EV7     EV9    \n",
       "1 EMERGE-3_16218877  0        F   -0.0296  0.0220 -0.0161  0.0389\n",
       "2 EMERGE-3_16230920  2        M    0.0160  0.0015 -0.0107  0.0451\n",
       "3 EMERGE-8_16220003  0        M    0.0103  0.0040  0.0046  0.0178\n",
       "4 EMERGE-9_16231695  2        M    0.0246  0.0157  0.0142 -0.0279\n",
       "5 EMERGE-11_16216270 1        F   -0.0351  0.0023 -0.0219 -0.0182\n",
       "6 EMERGE-11_16217471 1        F   -0.0209 -0.0023  0.0054  0.0198"
      ]
     },
     "metadata": {},
     "output_type": "display_data"
    }
   ],
   "source": [
    "### EC2 console ###\n",
    "#awk 'BEGIN{ OFS=\"_\" } NR==1{ $0=\"IID\"; print $0} NR>=2{print $1,$2}' eMERGE_EUR_cov.ped > IID.txt\n",
    "\n",
    "### R ###\n",
    "setwd(\"C:/Users/jmarks/Desktop/Projects/Nicotine/eMerge/phenotype/no_sex\") \n",
    "\n",
    "# read in data files\n",
    "phen <- read.table(\"eMERGE_EUR_phen.ped\", header=T)\n",
    "cov <- read.table(\"eMERGE_EUR_cov.ped\", header=T)\n",
    "iid <- read.table(\"IID.txt\", header=T)\n",
    "\n",
    "head(cov)\n",
    "#head(iid)\n",
    "num.subjects <- length(iid[,1])\n",
    "num.subjects\n",
    "\n",
    "# create data frame to combine those files\n",
    "covar.data <- data.frame(matrix(ncol = 7, nrow = num.subjects))\n",
    "names(covar.data) <- c(\"IID\", \"CAT_FTND\", \"SEX\", \"EV3\", \"EV6\", \"EV7\", \"EV9\")\n",
    "covar.data[1] <- iid[1]\n",
    "covar.data[2] <- phen[6]\n",
    "covar.data[3] <- phen[5]\n",
    "covar.data[4] <- cov[8]\n",
    "covar.data[5] <- cov[11]\n",
    "covar.data[6] <- cov[12]\n",
    "covar.data[7] <- cov[14]\n",
    "head(covar.data)\n",
    "\n",
    "write.table(x = covar.data, file = \"emerge.ea.CAT_FTND.SEX.EVs.v1\", quote = F, row.names = F)"
   ]
  },
  {
   "cell_type": "markdown",
   "metadata": {},
   "source": [
    "## Run GWAS (no age for covariate)\n",
    "Below is a script that we will need to submit as a job."
   ]
  },
  {
   "cell_type": "markdown",
   "metadata": {},
   "source": [
    "* my imputation files are of the form `chr8.mach.mach.dose.gz` note not `mldose`\n",
    "    - does this effect `_pipeline*nf`?\n",
    "* is my geno_prefix OK just being `chr`?\n",
    "* don't have final_chunks files (how do I create them?)\n",
    "* no example_mldose\n",
    "* just copied `_pipeline.association.out_stats_files.v0.1.nf` to local directory from MIDAS\n",
    "    -altered paths to\n",
    "        1. /shared/bioinformatics/software/perl/utilities/prepare_probabel_files.pl\n",
    "        2. /shared/bioinformatics/software/third_party/probabel-0.5.0/bin/${params.method}\n",
    "        3. /shared/bioinformatics/software/R/calculate_stats_for_probabel_results.R\n",
    "* I have no map file `*.legend`"
   ]
  },
  {
   "cell_type": "markdown",
   "metadata": {},
   "source": [
    "## Create own pipeline\n",
    "### convert mach files to Databel (filevector) format"
   ]
  },
  {
   "cell_type": "code",
   "execution_count": null,
   "metadata": {
    "collapsed": true
   },
   "outputs": [],
   "source": [
    "# change id name\n",
    "awk '{gsub(/^.+_/, NR\"->\", $1); print $0} NR==9{exit}'  new_mach.dose > tmp && mv tmp new_mach.dose\n"
   ]
  },
  {
   "cell_type": "code",
   "execution_count": null,
   "metadata": {
    "collapsed": true
   },
   "outputs": [],
   "source": [
    "#install.packages(\"DatABEL\")\n",
    "#install.packages(\"GenABEL\")\n",
    "library(GenABEL)\n",
    "library(DatABEL)\n",
    "\n",
    "#for (i in 1:21) {\n",
    "#mach2databel(imputedgenofile= paste(\"chr\",i,\"/chr\",i,\".mach.mach.dose.gz\", sep=\"\"), \n",
    "#mach2databel(imputedgenofile= paste(\"chr\",i,\".mach.mach.dose\", sep=\"\"), \n",
    "i=22\n",
    "mach2databel(imputedgenofile= \"new_mach.dose\", \n",
    "             mlinfofile=\"chr22.sample.info\", \n",
    "             outfile=\"sample_mach2data\", dataOutType=\"FLOAT\")\n",
    "             #outfile=paste(\"chr\",i, \"/chr\", i, \".test\",sep=\"\"), dataOutType=\"FLOAT\")\n",
    "#}\n",
    "\n"
   ]
  },
  {
   "cell_type": "code",
   "execution_count": null,
   "metadata": {
    "collapsed": true
   },
   "outputs": [],
   "source": [
    "cd /shared/s3/emerge/data/genotype/imputed/mach/chr22/test/results/conversions\n",
    "/shared/bioinformatics/software/scripts/qsub_job.sh \\\n",
    "        --job_name test.conversion.chr22.r \\\n",
    "        --script_prefix test_convert_chr22 \\\n",
    "        --mem 15 \\\n",
    "        --nslots 5 \\\n",
    "        --program Rscript test_22.R"
   ]
  },
  {
   "cell_type": "markdown",
   "metadata": {},
   "source": [
    "**Note** if everything runs correctly for this test case, I need to convert the rest of the 21 automsomes."
   ]
  },
  {
   "cell_type": "markdown",
   "metadata": {},
   "source": [
    "### Test run (one whole autosome [22])\n",
    "* note that the number of lines in the info file (minus one for the header) is eqaul to the number of SNP dosage \n",
    "* Dosage is a simple linear transformation of the posterior genotype probabilities usually coming from imputation.\n",
    "    - posterior probability is the likelihood that the individual, whose genotype is unknown, to have the allele calculated in the light of relevant observations. It is a conditional probability that is assigned after taking into account the knowledge about the genotype that we do have.\n",
    "\n",
    "* Note that a linear transformation is simple a rule for translating something by means of a linear combination. In the case of dosage we have \n",
    "\n",
    "$0 * P(A|A) + 1 * P(A|B) + 2* P(B|B)$\n",
    "\n",
    "* See [here](https://www.biostars.org/p/75689/) for more information about dosage.\n",
    "\n",
    "\n",
    "It is assumed that both the\n",
    "total number and the order of these IDs are exactly the same as\n",
    "in the genomic predictor (DOSE/PROB) file described in previous\n",
    "section"
   ]
  },
  {
   "cell_type": "code",
   "execution_count": null,
   "metadata": {
    "collapsed": true
   },
   "outputs": [],
   "source": [
    "# prepare info file (only 7 fields allowed)\n",
    "cut -f 1-7 ../chr22.mach.mach.info > chr22.sample.info\n",
    "\n",
    "awk '{print NR;exit}' ../chr22.mach.mach.dose.gz\n",
    "\n",
    "zcat /shared/s3/emerge/data/genotype/imputed/mach/chr22/chr22.mach.mach.dose.gz |\\\n",
    "    awk '{gsub(/^.+->/, \"\", $1); print $1}' > id_order2\n",
    " zcat ../chr22.mach.mach.dose.gz | grep -f id_order > new_mach.dose\n",
    "\n",
    "awk '{gsub(/^.+:/, \"\", $1); print $1,$2,$3}' *.info > partial_map\n",
    "cut -f 1 *.info > partial_ids\n",
    "paste -d \" \" partial_ids partial_map > map.file22.legend\n",
    "sed -i.bak '1 s/.*/id position 0 1/' map.file22.legend "
   ]
  },
  {
   "cell_type": "code",
   "execution_count": null,
   "metadata": {
    "collapsed": true
   },
   "outputs": [],
   "source": [
    "#!/bin/sh\n",
    "\n",
    "#for ancestry in aa; do\n",
    "ancestry=ea\n",
    "\n",
    "        working_dir=/shared/s3/emerge/data/assoc_tests/001/ea/\n",
    "        imputation_root=/shared/s3/emerge/data/genotype/imputed/mach/\n",
    "        phenotype_root=/shared/s3/emerge/data/phenotype/no_age/\n",
    "\n",
    "        #method=palinear\n",
    "/shared/bioinformatics/software/third_party/probabel-0.5.0/bin/palinear\n",
    "\n",
    "        for (( chr=1; chr<23; chr++ )); do\n",
    "        out_file=emerge.${ancestry}.1000G_p3.chr${chr}.CAT_FTND~SNP+SEX+EVs.stats\n",
    "            phenotype_file=emerge.${ancestry}.CAT_FTND.SEX.EVs.v1  # note, excluded age as covar\n",
    "            geno_prefix=chr\n",
    "\n",
    "            /shared/bioinformatics/software/third_party/nextflow/bin/nextflow \\\n",
    "           ~/_pipeline.association.out_stats_files.v0.1.nf \\\n",
    "                --final_chunks $imputation_root/chunks/final_chunks.chr${chr} \\\n",
    "                --input_pheno $phenotype_root/$phenotype_file \\\n",
    "                --imputation_dir $imputation_root/${ancestry}/chr${chr}/ \\\n",
    "                --example_mldose $imputation_root/${ancestry}/chr${chr}/chr${chr}.mach.mach.dose.gz \\\n",
    "                --geno_prefix $geno_prefix \\\n",
    "                --working_dirs $working_dir \\\n",
    "                --out $working_dir/$out_file \\\n",
    "                --method $method\n",
    "\n",
    "                rm -r $working_dir../work\n",
    "        done\n",
    "#done\n"
   ]
  },
  {
   "cell_type": "markdown",
   "metadata": {},
   "source": [
    "## Run GWAS\n",
    "Need to convert the imputed data files from VCF format to mldose. We will be using the NextFlow pipeline, which has been tailored to expect ouput from IMPUTE2 that has been converted to mldose format. "
   ]
  },
  {
   "cell_type": "code",
   "execution_count": null,
   "metadata": {
    "collapsed": true
   },
   "outputs": [],
   "source": [
    "imputation_root=/shared/s3/emerge/data/genotype/imputed/mach/chr22/test\n",
    "phenotype_root=/shared/s3/emerge/data/phenotype/no_age\n",
    "\n",
    "/shared/bioinformatics/software/scripts/qsub_job.sh \\\n",
    "        --job_name probabel_gwas_with_map \\\n",
    "        --script_prefix chr22_test_with_map \\\n",
    "        --mem 15 \\\n",
    "        --nslots 3 \\\n",
    "        --program /shared/bioinformatics/software/third_party/probabel-0.5.0/bin/palinear \\\n",
    "            --pheno ${phenotype_root}/emerge.ea.CAT_FTND.SEX.EVS.v1 \\\n",
    "            --dose ${imputation_root}/new_mach.dose \\\n",
    "            --info ${imputation_root}/chr22.sample.info \\\n",
    "            --map map.file22.legend \\\n",
    "            --chrom 22 \\\n",
    "            --out ${imputation_root}/results/chr22_test_results_with_map"
   ]
  },
  {
   "cell_type": "code",
   "execution_count": null,
   "metadata": {
    "collapsed": true
   },
   "outputs": [],
   "source": [
    "### EC2 console ###\n",
    "cd /shared/s3/emerge/data\n",
    "mkdir assoc_tests\n",
    "\n",
    "\n"
   ]
  },
  {
   "cell_type": "code",
   "execution_count": null,
   "metadata": {
    "collapsed": true
   },
   "outputs": [],
   "source": []
  },
  {
   "cell_type": "code",
   "execution_count": null,
   "metadata": {
    "collapsed": true
   },
   "outputs": [],
   "source": []
  },
  {
   "cell_type": "code",
   "execution_count": null,
   "metadata": {
    "collapsed": true
   },
   "outputs": [],
   "source": []
  },
  {
   "cell_type": "code",
   "execution_count": null,
   "metadata": {
    "collapsed": true
   },
   "outputs": [],
   "source": []
  },
  {
   "cell_type": "code",
   "execution_count": null,
   "metadata": {
    "collapsed": true
   },
   "outputs": [],
   "source": []
  },
  {
   "cell_type": "code",
   "execution_count": null,
   "metadata": {
    "collapsed": true
   },
   "outputs": [],
   "source": []
  },
  {
   "cell_type": "code",
   "execution_count": null,
   "metadata": {
    "collapsed": true
   },
   "outputs": [],
   "source": []
  },
  {
   "cell_type": "code",
   "execution_count": null,
   "metadata": {
    "collapsed": true
   },
   "outputs": [],
   "source": []
  },
  {
   "cell_type": "code",
   "execution_count": null,
   "metadata": {
    "collapsed": true
   },
   "outputs": [],
   "source": []
  },
  {
   "cell_type": "code",
   "execution_count": null,
   "metadata": {
    "collapsed": true
   },
   "outputs": [],
   "source": []
  },
  {
   "cell_type": "code",
   "execution_count": null,
   "metadata": {
    "collapsed": true
   },
   "outputs": [],
   "source": []
  },
  {
   "cell_type": "code",
   "execution_count": null,
   "metadata": {
    "collapsed": true
   },
   "outputs": [],
   "source": []
  },
  {
   "cell_type": "code",
   "execution_count": null,
   "metadata": {
    "collapsed": true
   },
   "outputs": [],
   "source": []
  },
  {
   "cell_type": "code",
   "execution_count": null,
   "metadata": {
    "collapsed": true
   },
   "outputs": [],
   "source": []
  },
  {
   "cell_type": "code",
   "execution_count": null,
   "metadata": {
    "collapsed": true
   },
   "outputs": [],
   "source": []
  },
  {
   "cell_type": "code",
   "execution_count": null,
   "metadata": {
    "collapsed": true
   },
   "outputs": [],
   "source": []
  },
  {
   "cell_type": "code",
   "execution_count": null,
   "metadata": {
    "collapsed": true
   },
   "outputs": [],
   "source": []
  },
  {
   "cell_type": "code",
   "execution_count": null,
   "metadata": {
    "collapsed": true
   },
   "outputs": [],
   "source": []
  },
  {
   "cell_type": "code",
   "execution_count": null,
   "metadata": {
    "collapsed": true
   },
   "outputs": [],
   "source": []
  },
  {
   "cell_type": "markdown",
   "metadata": {},
   "source": [
    "## S3 data transfer"
   ]
  },
  {
   "cell_type": "code",
   "execution_count": null,
   "metadata": {
    "collapsed": true
   },
   "outputs": [],
   "source": [
    "# Copy phenotype data\n",
    "cd /shared/s3/emerge/data/phenotype\n",
    "aws s3 cp ./ s3://rti-nd/eMERGE/emerge_ftnd/data/phenotype \\\n",
    "    --recursive --exclude=\"*\" --include=\"*ped.gz\" --quiet &\n",
    "\n",
    "cd /shared/s3/emerge_ftnd/data/assoc_tests\n",
    "# Copy association test results\n",
    "aws s3 cp ./ s3://rti-nd/eMERGE/emerge_ftnd/results/rvtest/ \\\n",
    "    --recursive --exclude=\"*\" --include=\"*MetaScore*gz*\" --quiet &\n",
    "aws s3 cp ./ s3://rti-nd/eMERGE/emerge_ftnd/results/figures/ \\\n",
    "    --recursive --exclude=\"*\" --include=\"*.png.gz\" --quiet &\n",
    "\n",
    "\n",
    "\n",
    "\n",
    "\n",
    "\n",
    "ancestry=ea\n",
    "# copy imputation files\n",
    "cd /shared/sandbox/emerge_ftnd/genotype/imputed/\n",
    "\n",
    "# chrX (male) data\n",
    "aws s3 cp chrX.no.auto_male.dose.vcf.gz.tbi s3://rti-nd/eMERGE/emerge_ftnd/data/genotype/imputed/ea/chrX.no.auto_male.dose.vcf.gz.tbi \n",
    "aws s3 cp chrX.no.auto_male.dose.vcf.gz s3://rti-nd/eMERGE/emerge_ftnd/data/genotype/imputed/ea/chrX.no.auto_male.dose.vcf.gz --quiet &     \n",
    "aws s3 cp chrX.no.auto_male.info.gz s3://rti-nd/eMERGE/emerge_ftnd/data/genotype/imputed/ea/chrX.no.auto_male.info.gz --quiet &     \n",
    "\n",
    "# chrX (female) data\n",
    "aws s3 cp chrX.no.auto_female.dose.vcf.gz.tbi s3://rti-nd/eMERGE/emerge_ftnd/data/genotype/imputed/ea/chrX.no.auto_female.dose.vcf.gz.tbi \n",
    "aws s3 cp chrX.no.auto_female.dose.vcf.gz s3://rti-nd/eMERGE/emerge_ftnd/data/genotype/imputed/ea/chrX.no.auto_female.dose.vcf.gz --quiet &     \n",
    "aws s3 cp chrX.no.auto_female.info.gz s3://rti-nd/eMERGE/emerge_ftnd/data/genotype/imputed/ea/chrX.no.auto_female.info.gz --quiet &     \n",
    "\n",
    "\n",
    "aws s3 cp snp_stats/ s3://rti-nd/eMERGE/emerge_ftnd/data/genotype/imputed/${ancestry}/ \\\n",
    "    --recursive --exclude \"*\" --include \"*.txt\" --quiet &\n",
    "aws s3 cp qc_report/ s3://rti-nd/eMERGE/emerge_ftnd/data/genotype/imputed/${ancestry}/ \\\n",
    "    --recursive --exclude \"*\" --include \"*.html\" --quiet &\n",
    "aws s3 cp logs/ s3://rti-nd/eMERGE/emerge_ftnd/data/genotype/imputed/${ancestry}/ \\\n",
    "    --recursive --exclude \"*\" --include \"*.log\" --quiet &\n",
    "\n",
    "# submit upload as a job\n",
    "--------------------------------------------------------------------------------\n",
    "## copy imputation files\n",
    "/shared/s3/emerge/data/genotype/imputed\n",
    "ancestry=ea\n",
    "for ext in {\\\"*.info.gz\\\",\\\"*dose.vcf.gz\\\",\\\"*dose.vcf.gz.tbi\\\",\\\"*.txt\\\"}; do\n",
    "/shared/bioinformatics/software/scripts/qsub_job.sh \\\n",
    "        --job_name s3_upload_emerge \\\n",
    "        --script_prefix _${ext} \\\n",
    "        --mem 5 \\\n",
    "        --nslots 1 \\\n",
    "        --program \"aws s3 cp . s3://rti-nd/eMERGE/emerge_ftnd/data/genotype/imputed/${ancestry}/ \\\n",
    "            --recursive --exclude \\\"*\\\" --include $ext \"\n",
    "done\n",
    "            "
   ]
  },
  {
   "cell_type": "code",
   "execution_count": null,
   "metadata": {
    "collapsed": true
   },
   "outputs": [],
   "source": []
  },
  {
   "cell_type": "code",
   "execution_count": null,
   "metadata": {
    "collapsed": true
   },
   "outputs": [],
   "source": []
  },
  {
   "cell_type": "code",
   "execution_count": null,
   "metadata": {
    "collapsed": true
   },
   "outputs": [],
   "source": []
  },
  {
   "cell_type": "code",
   "execution_count": null,
   "metadata": {
    "collapsed": true
   },
   "outputs": [],
   "source": []
  },
  {
   "cell_type": "code",
   "execution_count": null,
   "metadata": {
    "collapsed": true
   },
   "outputs": [],
   "source": []
  },
  {
   "cell_type": "code",
   "execution_count": null,
   "metadata": {
    "collapsed": true
   },
   "outputs": [],
   "source": []
  },
  {
   "cell_type": "code",
   "execution_count": null,
   "metadata": {
    "collapsed": true
   },
   "outputs": [],
   "source": []
  },
  {
   "cell_type": "code",
   "execution_count": null,
   "metadata": {
    "collapsed": true
   },
   "outputs": [],
   "source": []
  },
  {
   "cell_type": "code",
   "execution_count": null,
   "metadata": {
    "collapsed": true
   },
   "outputs": [],
   "source": []
  },
  {
   "cell_type": "markdown",
   "metadata": {
    "collapsed": true
   },
   "source": [
    "## Sandbox"
   ]
  },
  {
   "cell_type": "code",
   "execution_count": null,
   "metadata": {
    "collapsed": true
   },
   "outputs": [],
   "source": [
    "awk '{gsub(/^.+->/, \"\", $1); print $0} NR==9{exit}'  chr22.mach.mach.dose > renamed.mach.dose"
   ]
  },
  {
   "cell_type": "markdown",
   "metadata": {
    "collapsed": true
   },
   "source": [
    "## methods file"
   ]
  },
  {
   "cell_type": "code",
   "execution_count": null,
   "metadata": {
    "collapsed": true
   },
   "outputs": [],
   "source": [
    "for (( chr=1; chr<23; chr++ )); do\n",
    "  mkdir -p /shared/s3/emerge/data/assoc_tests/001/processing/chr$chr\n",
    "done\n",
    "mkdir /shared/s3/emerge/data/assoc_tests/001/final\n",
    "\n",
    "### START Prepare files for ProbABEL ###\n",
    "\n",
    "# Phenotype file\n",
    "# This code reorders the phenotype file based on the order of the dose file. It also\n",
    "# changes the ID to match what is in the dosage file\n",
    "# \"It is assumed that both the total number and the order of these IDs are exactly \n",
    " # the same as in the genomic predictor (DOSE/PROB) file\"\n",
    "/shared/bioinformatics/software/perl/utilities/prepare_probabel_files.pl \\\n",
    "  --in_mldose /share/nas04/bioinformatics_group/data/studies/jhs_aric_aa/imputed/v2/imputations/aa/chr20/jhs_aric_aa.aa.1000G.chr20.0.mach.mldose \\ # this is an example dose\n",
    "  --in_pheno /share/nas04/bioinformatics_group/data/studies/jhs_aric_aa/phenotypes/probabel/jhs_aric_aa.CAT_FTND.AGE.SEX.EVs.v1 \\\n",
    "  --out_pheno /share/nas04/bioinformatics_group/data/studies/jhs_aric_aa/imputed/v2/association_tests/001/processing/jhs_aric_aa.CAT_FTND.AGE.SEX.EVs.v1\n",
    "\n",
    "# we may have to use a different protocol because the dosage files contain more subjects\n",
    "# than the phenotype file. It is not as efficient as reordering the phenotype file, but\n",
    "# may have to. \n",
    "# Does the prepare_probabel script handle this?\n",
    "# ---------------------------------------------------------------------------------\n",
    "\n",
    "\n",
    "\n",
    "# MLDOSE files\n",
    "for (( chr=1; chr<23; chr++ )); do\n",
    "  for chunk in $(grep -P \"^$chr\\s+\" /share/nas04/bioinformatics_group/data/studies/jhs_aric_aa/imputed/v2/imputations/final_chunks | perl -lane 'print $F[1];'); do\n",
    "    baseName=jhs_aric_aa.aa.1000G.chr$chr.$chunk.mach.mldose\n",
    "    processingDir=/share/nas04/bioinformatics_group/data/studies/jhs_aric_aa/imputed/v2/association_tests/001/processing\n",
    "    /share/nas03/bioinformatics_group/software/scripts/qsub_job.sh \\\n",
    "      --job_name jhs_${chr}_$chunk \\\n",
    "      --script_prefix $processingDir/chr$chr/$baseName \\\n",
    "      --mem 7.5 \\\n",
    "      --priority -1 \\\n",
    "      --program /share/nas03/bioinformatics_group/software/perl/prepare_probabel_files.pl \\\n",
    "      --in_mldose /share/nas04/bioinformatics_group/data/studies/jhs_aric_aa/imputed/v2/imputations/aa/chr$chr/$baseName \\\n",
    "      --in_pheno $processingDir/jhs_aric_aa.CAT_FTND.AGE.SEX.EVs.v1 \\\n",
    "      --out_mldose $processingDir/chr$chr/$baseName\n",
    "  done\n",
    "done\n",
    "\n",
    "# Check for completion\n",
    "for (( chr=1; chr<23; chr++ )); do\n",
    "  for chunk in $(grep -P \"^$chr\\s+\" /share/nas04/bioinformatics_group/data/studies/jhs_aric_aa/imputed/v2/imputations/final_chunks | perl -lane 'print $F[1];'); do\n",
    "    file=/share/nas04/bioinformatics_group/data/studies/jhs_aric_aa/imputed/v2/association_tests/001/processing/chr$chr/jhs_aric_aa.aa.1000G.chr$chr.$chunk.mach.mldose.qsub.log\n",
    "    if [ -f $file ]; then\n",
    "      logLineCount=$(wc -l $file | perl -lane 'print $F[0];')\n",
    "      if [ $logLineCount -ne 4 ]; then\n",
    "        echo $file line count: $logLineCount\n",
    "      else\n",
    "        tail -n 1 $file |\n",
    "          perl -ne 'chomp; if (!/^Done/) { print \"'$file'\\n\".$_.\"\\n\"; }'\n",
    "      fi\n",
    "    else\n",
    "      echo $file missing\n",
    "    fi\n",
    "  done\n",
    "done\n",
    "\n",
    "### END Prepare files for ProbABEL ###\n",
    "\n",
    "\n",
    "### START ProbABEL analysis ###\n",
    "\n",
    "# Run palinear\n",
    "for (( chr=1; chr<23; chr++ )); do\n",
    "  for chunk in $(grep -P \"^$chr\\s+\" /share/nas04/bioinformatics_group/data/studies/jhs_aric_aa/imputed/v2/imputations/final_chunks | perl -lane 'print $F[1];'); do\n",
    "    baseName=jhs_aric_aa.aa.1000G.chr$chr.$chunk\n",
    "    imputationDir=/share/nas04/bioinformatics_group/data/studies/jhs_aric_aa/imputed/v2/imputations/aa/chr$chr\n",
    "    processingDir=/share/nas04/bioinformatics_group/data/studies/jhs_aric_aa/imputed/v2/association_tests/001/processing\n",
    "    /share/nas03/bioinformatics_group/software/scripts/qsub_job.sh \\\n",
    "      --job_name jhs_${chr}_$chunk \\\n",
    "      --script_prefix $processingDir/chr$chr/$baseName.CAT_FTND~SNP+AGE+SEX+EVs \\\n",
    "      --mem 10 \\\n",
    "      --priority -1 \\\n",
    "      --program /share/nas03/bioinformatics_group/software/palinear \\\n",
    "      --pheno $processingDir/jhs_aric_aa.CAT_FTND.AGE.SEX.EVs.v1 \\\n",
    "      --dose $processingDir/chr$chr/$baseName.mach.mldose \\\n",
    "      --info $imputationDir/$baseName.mach.mlinfo \\\n",
    "      --map $imputationDir/$baseName.legend \\\n",
    "      --chrom $chr \\\n",
    "      --out $processingDir/chr$chr/$baseName.CAT_FTND~SNP+AGE+SEX+EVs\n",
    "  done\n",
    "done\n",
    "\n",
    "# Check for completion\n",
    "for (( chr=1; chr<23; chr++ )); do\n",
    "  for chunk in $(grep -P \"^$chr\\s+\" /share/nas04/bioinformatics_group/data/studies/jhs_aric_aa/imputed/v2/imputations/final_chunks | perl -lane 'print $F[1];'); do\n",
    "    file=/share/nas04/bioinformatics_group/data/studies/jhs_aric_aa/imputed/v2/association_tests/001/processing/chr$chr/jhs_aric_aa.aa.1000G.chr$chr.$chunk.CAT_FTND~SNP+AGE+SEX+EVs.qsub.log\n",
    "    if [ -f $file ]\n",
    "    then\n",
    "      logLineCount=$(wc -l $file | perl -lane 'print $F[0];')\n",
    "      if [ $logLineCount -eq 0 ]; then\n",
    "        echo $file empty\n",
    "      else\n",
    "        tail -n 1 $file |\n",
    "          perl -ne 'chomp; if (!/^Analysis:/ || !/done$/) { print \"'$file'\\n\".$_.\"\\n\"; }'\n",
    "      fi\n",
    "    else\n",
    "      echo $file missing\n",
    "    fi\n",
    "  done\n",
    "done\n",
    "\n",
    "### END ProbABEL analysis ###\n",
    "\n",
    "\n",
    "### START Merge ProbABEL results ###\n",
    "\n",
    "for (( chr=1; chr<23; chr++ )); do\n",
    "  inFilePrefix=/share/nas04/bioinformatics_group/data/studies/jhs_aric_aa/imputed/v2/association_tests/001/processing/chr$chr/jhs_aric_aa.aa.1000G.chr$chr.\n",
    "  inFileSuffix=.CAT_FTND~SNP+AGE+SEX+EVs_add.out.txt\n",
    "  outFile=/share/nas04/bioinformatics_group/data/studies/jhs_aric_aa/imputed/v2/association_tests/001/processing/chr$chr/jhs_aric_aa.aa.1000G.chr$chr.CAT_FTND~SNP+AGE+SEX+EVs\n",
    "  echo Chromosome $chr\n",
    "  head -n 1 ${inFilePrefix}0$inFileSuffix > $outFile\n",
    "  for chunk in $(grep -P \"^$chr\\s+\" /share/nas04/bioinformatics_group/data/studies/jhs_aric_aa/imputed/v2/imputations/final_chunks | perl -lane 'print $F[1];'); do\n",
    "    echo Merging $inFilePrefix$chunk$inFileSuffix\n",
    "    tail -n +2 $inFilePrefix$chunk$inFileSuffix >> $outFile\n",
    "  done\n",
    "done\n",
    "\n",
    "### END Merge ProbABEL results ###\n",
    "\n",
    "\n",
    "### START Calculate chi, p, and OR ###\n",
    "\n",
    "for (( chr=1; chr<23; chr++ )); do\n",
    "  /share/nas03/bioinformatics_group/software/scripts/qsub_job.sh \\\n",
    "    --job_name jhs_$chr \\\n",
    "    --script_prefix /share/nas04/bioinformatics_group/data/studies/jhs_aric_aa/imputed/v2/association_tests/001/processing/chr$chr/jhs_aric_aa.aa.1000G.chr$chr.CAT_FTND~SNP+AGE+SEX+EVs.stats \\\n",
    "    --mem 3.8 \\\n",
    "    --priority 0 \\\n",
    "    --program /share/nas03/bioinformatics_group/software/R/calculate_stats_for_probabel_results_v2.R \\\n",
    "    --in_file /share/nas04/bioinformatics_group/data/studies/jhs_aric_aa/imputed/v2/association_tests/001/processing/chr$chr/jhs_aric_aa.aa.1000G.chr$chr.CAT_FTND~SNP+AGE+SEX+EVs \\\n",
    "    --out_file /share/nas04/bioinformatics_group/data/studies/jhs_aric_aa/imputed/v2/association_tests/001/processing/chr$chr/jhs_aric_aa.aa.1000G.chr$chr.CAT_FTND~SNP+AGE+SEX+EVs.stats \\\n",
    "    --remove_missing_p\n",
    "done \n",
    "\n",
    "### END Calculate chi, p, and OR ###\n",
    "\n",
    "\n",
    "### START Filter ###\n",
    "\n",
    "# MAF > 0.01 in AFR\n",
    "for (( chr=1; chr<23; chr++ )); do\n",
    "  if [ $chr == \"23\" ]; then\n",
    "    idList=/share/nas03/bioinformatics_group/data/ref_panels/1000G/2012.02/impute2/ALL/v3/ALL_1000G_phase1integrated_v3_chrX_nonPAR_impute.maf_lte_0.01_afr\n",
    "  else\n",
    "    idList=/share/nas03/bioinformatics_group/data/ref_panels/1000G/2013.12/impute2/ALL/ALL.chr$chr.integrated_phase1_v3.20101123.snps_indels_svs.genotypes.nomono.unique_ids.maf_lte_0.01_afr\n",
    "  fi\n",
    "  /share/nas03/bioinformatics_group/software/scripts/qsub_job.sh \\\n",
    "    --job_name jhs_$chr\\\n",
    "    --script_prefix /share/nas04/bioinformatics_group/data/studies/jhs_aric_aa/imputed/v2/association_tests/001/processing/chr$chr/jhs_aric_aa.aa.1000G.chr$chr.CAT_FTND~SNP+AGE+SEX+EVs.maf_gt_0.01_afr \\\n",
    "    --mem 2 \\\n",
    "    --priority 0 \\\n",
    "    --program /share/nas03/bioinformatics_group/software/perl/extract_rows.pl \\\n",
    "    --source /share/nas04/bioinformatics_group/data/studies/jhs_aric_aa/imputed/v2/association_tests/001/processing/chr$chr/jhs_aric_aa.aa.1000G.chr$chr.CAT_FTND~SNP+AGE+SEX+EVs.stats \\\n",
    "    --id_list $idList \\\n",
    "    --out /share/nas04/bioinformatics_group/data/studies/jhs_aric_aa/imputed/v2/association_tests/001/processing/chr$chr/jhs_aric_aa.aa.1000G.chr$chr.CAT_FTND~SNP+AGE+SEX+EVs.maf_gt_0.01_afr \\\n",
    "    --header 1 \\\n",
    "    --id_column 0 \\\n",
    "    --remove\n",
    "done\n",
    "\n",
    "mv /share/nas04/bioinformatics_group/data/studies/jhs_aric_aa/imputed/v2/association_tests/001/processing/chr*/*.maf_gt_0.01_afr \\\n",
    "  /share/nas04/bioinformatics_group/data/studies/jhs_aric_aa/imputed/v2/association_tests/001/final\n",
    "\n",
    "# MAF > 0.01 in AFR and study\n",
    "for (( chr=1; chr<23; chr++ )); do\n",
    "  inFile=/share/nas04/bioinformatics_group/data/studies/jhs_aric_aa/imputed/v2/association_tests/001/final/jhs_aric_aa.aa.1000G.chr$chr.CAT_FTND~SNP+AGE+SEX+EVs.maf_gt_0.01_afr\n",
    "  outFile=${inFile}_jhs_aric_aa\n",
    "  echo Processing $inFile\n",
    "  head -n 1 $inFile > $outFile\n",
    "  tail -n +2 $inFile |\n",
    "    perl -lane 'if ($F[6] > 0.01) { print; }' >> $outFile\n",
    "done\n",
    "\n",
    "### END Filter ###\n",
    "\n",
    "\n",
    "### START Generate plots ###\n",
    "\n",
    "for filter in maf_gt_0.01_afr maf_gt_0.01_afr_jhs_aric_aa; do\n",
    "  outFile=/share/nas04/bioinformatics_group/data/studies/jhs_aric_aa/imputed/v2/association_tests/001/processing/jhs_aric_aa.aa.1000G.CAT_FTND~SNP+AGE+SEX+EVs.$filter.table\n",
    "  echo -e \"VARIANT_ID\\tCHR\\tPOSITION\\tP\\tTYPE\" > $outFile\n",
    "  for (( chr=1; chr<23; chr++ )); do\n",
    "    inFile=/share/nas04/bioinformatics_group/data/studies/jhs_aric_aa/imputed/v2/association_tests/001/final/jhs_aric_aa.aa.1000G.chr$chr.CAT_FTND~SNP+AGE+SEX+EVs.$filter\n",
    "    echo Processing $inFile\n",
    "    tail -n +2 $inFile |\n",
    "      perl -lne '/^(\\S+)\\s+(\\S+)\\s+(\\S+)\\s+(\\S+)\\s+(\\S+)(?:\\s+\\S+){10}\\s+(\\S+)/;\n",
    "                  if (($4 eq \"A\" || $4 eq \"C\" || $4 eq \"G\" || $4 eq \"T\") && ($5 eq \"A\" || $5 eq \"C\" || $5 eq \"G\" || $5 eq \"T\")) {\n",
    "                    print join(\"\\t\",$1,$2,$3,$6,\"snp\");\n",
    "                  } else {\n",
    "                    print join(\"\\t\",$1,$2,$3,$6,\"indel\");\n",
    "                  }' >> $outFile\n",
    "  done\n",
    "done\n",
    "for filter in maf_gt_0.01_afr maf_gt_0.01_afr_jhs_aric_aa; do\n",
    "  /share/nas03/bioinformatics_group/software/scripts/qsub_job.sh \\\n",
    "    --job_name gwas_plots \\\n",
    "    --script_prefix /share/nas04/bioinformatics_group/data/studies/jhs_aric_aa/imputed/v2/association_tests/001/processing/jhs_aric_aa.aa.1000G.CAT_FTND~SNP+AGE+SEX+EVs.$filter.plots \\\n",
    "    --mem 15 \\\n",
    "    --priority 0 \\\n",
    "    --program /share/nas03/bioinformatics_group/software/R/dev/generate_gwas_plots.v6.R \\\n",
    "    --in /share/nas04/bioinformatics_group/data/studies/jhs_aric_aa/imputed/v2/association_tests/001/processing/jhs_aric_aa.aa.1000G.CAT_FTND~SNP+AGE+SEX+EVs.$filter.table \\\n",
    "    --in_chromosomes autosomal_nonPAR \\\n",
    "    --in_header \\\n",
    "    --out /share/nas04/bioinformatics_group/data/studies/jhs_aric_aa/imputed/v2/association_tests/001/processing/jhs_aric_aa.aa.1000G.CAT_FTND~SNP+AGE+SEX+EVs.$filter \\\n",
    "    --col_id VARIANT_ID \\\n",
    "    --col_chromosome CHR \\\n",
    "    --col_position POSITION \\\n",
    "    --col_p P \\\n",
    "    --col_variant_type TYPE \\\n",
    "    --generate_snp_indel_manhattan_plot \\\n",
    "    --manhattan_odd_chr_color red \\\n",
    "    --manhattan_even_chr_color blue \\\n",
    "    --manhattan_points_cex 1.5 \\\n",
    "    --generate_snp_indel_qq_plot \\\n",
    "    --qq_lines \\\n",
    "    --qq_points_bg black \\\n",
    "    --qq_lambda\n",
    "done\n",
    "\n",
    "python exclude_snps.py\n",
    "\n",
    "for filter in maf_gt_0.01_afr maf_gt_0.01_afr_jhs_aric_aa; do\n",
    "  /share/nas03/bioinformatics_group/software/scripts/qsub_job.sh \\\n",
    "    --job_name gwas_plots \\\n",
    "    --script_prefix /share/nas04/bioinformatics_group/data/studies/jhs_aric_aa/imputed/v2/association_tests/001/processing/jhs_aric_aa.aa.1000G.CAT_FTND~SNP+AGE+SEX+EVs.$filter.exclude_flip.plots \\\n",
    "    --mem 15 \\\n",
    "    --priority 0 \\\n",
    "    --program /share/nas03/bioinformatics_group/software/R/dev/generate_gwas_plots.v6.R \\\n",
    "    --in /share/nas04/bioinformatics_group/data/studies/jhs_aric_aa/imputed/v2/association_tests/001/processing/jhs_aric_aa.aa.1000G.CAT_FTND~SNP+AGE+SEX+EVs.$filter.exclude_flip.table \\\n",
    "    --in_chromosomes autosomal_nonPAR \\\n",
    "    --in_header \\\n",
    "    --out /share/nas04/bioinformatics_group/data/studies/jhs_aric_aa/imputed/v2/association_tests/001/processing/jhs_aric_aa.aa.1000G.CAT_FTND~SNP+AGE+SEX+EVs.$filter.exclude_flip \\\n",
    "    --col_id VARIANT_ID \\\n",
    "    --col_chromosome CHR \\\n",
    "    --col_position POSITION \\\n",
    "    --col_p P \\\n",
    "    --col_variant_type TYPE \\\n",
    "    --generate_snp_indel_manhattan_plot \\\n",
    "    --manhattan_odd_chr_color red \\\n",
    "    --manhattan_even_chr_color blue \\\n",
    "    --manhattan_points_cex 1.5 \\\n",
    "    --generate_snp_indel_qq_plot \\\n",
    "    --qq_lines \\\n",
    "    --qq_points_bg black \\\n",
    "    --qq_lambda\n",
    "done\n",
    "\n",
    "\n",
    "\n",
    "mv /share/nas04/bioinformatics_group/data/studies/jhs_aric_aa/imputed/v2/association_tests/001/processing/*.png \\\n",
    " /share/nas04/bioinformatics_group/data/studies/jhs_aric_aa/imputed/v2/association_tests/001/final\n",
    "\n",
    "### END Generate plots ###\n",
    "\n",
    "\n",
    "### START Filter by p-value ###\n",
    "\n",
    "# MAF > 0.01 in AFR\n",
    "for filter in maf_gt_0.01_afr maf_gt_0.01_afr_jhs_aric_aa; do\n",
    "  outFile=/share/nas04/bioinformatics_group/data/studies/jhs_aric_aa/imputed/v2/association_tests/001/processing/jhs_aric_aa.aa.1000G.CAT_FTND~SNP+AGE+SEX+EVs.$filter.p_lte_0.001\n",
    "  head -n 1 /share/nas04/bioinformatics_group/data/studies/jhs_aric_aa/imputed/v2/association_tests/001/final/jhs_aric_aa.aa.1000G.chr1.CAT_FTND~SNP+AGE+SEX+EVs.$filter > $outFile\n",
    "  for (( chr=1; chr<23; chr++ )); do\n",
    "    inFile=/share/nas04/bioinformatics_group/data/studies/jhs_aric_aa/imputed/v2/association_tests/001/final/jhs_aric_aa.aa.1000G.chr$chr.CAT_FTND~SNP+AGE+SEX+EVs.$filter\n",
    "    echo Processing $inFile\n",
    "    tail -n +2 $inFile |\n",
    "      perl -lane 'if ($F[15] <= 0.001) { print; }' >> $outFile\n",
    "  done\n",
    "done\n",
    "\n",
    "# Sort\n",
    "R\n",
    "for (filter in c(\"maf_gt_0.01_afr\",\"maf_gt_0.01_afr_jhs_aric_aa\")) {\n",
    "  inData=read.table(paste(sep=\"\",\"/share/nas04/bioinformatics_group/data/studies/jhs_aric_aa/imputed/v2/association_tests/001/processing/jhs_aric_aa.aa.1000G.CAT_FTND~SNP+AGE+SEX+EVs.\",filter,\".p_lte_0.001\"), header = TRUE)\n",
    "  inData = inData[order(inData$p),]\n",
    "  write.csv(inData, file=paste(sep=\"\",\"/share/nas04/bioinformatics_group/data/studies/jhs_aric_aa/imputed/v2/association_tests/001/final/jhs_aric_aa.aa.1000G.CAT_FTND~SNP+AGE+SEX+EVs.\",filter,\".p_lte_0.001.csv\"), row.names = FALSE)\n",
    "}\n",
    "\n",
    "## END Filter by p-value ###\n"
   ]
  }
 ],
 "metadata": {
  "kernelspec": {
   "display_name": "R",
   "language": "R",
   "name": "ir"
  },
  "language_info": {
   "codemirror_mode": "r",
   "file_extension": ".r",
   "mimetype": "text/x-r-source",
   "name": "R",
   "pygments_lexer": "r",
   "version": "3.4.1"
  },
  "toc": {
   "nav_menu": {},
   "number_sections": true,
   "sideBar": true,
   "skip_h1_title": false,
   "toc_cell": false,
   "toc_position": {
    "height": "812px",
    "left": "0px",
    "right": "1315.28px",
    "top": "107px",
    "width": "212px"
   },
   "toc_section_display": "block",
   "toc_window_display": true
  }
 },
 "nbformat": 4,
 "nbformat_minor": 2
}
