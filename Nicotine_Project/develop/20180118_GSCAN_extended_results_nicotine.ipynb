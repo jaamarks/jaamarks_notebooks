{
 "cells": [
  {
   "cell_type": "markdown",
   "metadata": {},
   "source": [
    "# Extension of GSCAN results to nicotine dependence (issue #59)\n",
    "We have preliminary results from a very large-scale genome-wide study for cigarette smoking phenotypes that relate to our nicotine dependence GWAS results. See the supplemental Tables S7-S9 here: \\rcdcollaboration01.rti.ns\\GxG\\Analysis\\GSCAN\\shared MS version 1\\ . The phenotypes of interest to us include: cigarettes per day (CPD), smoking cessation (SC), and smoking initiation (SI).\n",
    "\n",
    "We're interested in seeing whether these associations extend over to nicotine dependence. I use the SNP look-up script to extend Tables S6-S9 with our GWAS results (analysis sets 044, 045, and 046 here: \\\\rcdcollaboration01.rti.ns\\GxG\\Analysis\\META\\1df)"
   ]
  },
  {
   "cell_type": "markdown",
   "metadata": {},
   "source": [
    "## Create directory structure and copy SNP look-up\n",
    "The data that we will be parsing SNPs for are located on the `gxg share drive`. We will move the data to our local machine do to bandwidth issues re the share drive."
   ]
  },
  {
   "cell_type": "code",
   "execution_count": null,
   "metadata": {
    "collapsed": true
   },
   "outputs": [],
   "source": [
    "# Create directory structure locally\n",
    "cd /cygdrive/c/Users/jmarks/Desktop/Projects\n",
    "mkdir -p Nicotine/GSCAN_extended_results_nicotine/develop/{044,045,046}/\\\n",
    "{044_results,045_results,046_results}/{Table_S6,Table_S7,Table_S8,Table_S9}\n",
    "\n",
    "mkdir -p Nicotine/GSCAN_extended_results_nicotine/data/\\\n",
    "{044.eur13cohorts.afr.9cohorts.eagle_lung.jhs_aric.1000G_p3_markerName_FinalDatasetDNMT3Bpaper,\n",
    "045.eur13cohorts.eagle_lung.jhs_aric.1000G_p3_markerName_FinalDatasetDNMT3Bpaper,\n",
    "046.afr.9cohorts.eagle_lung.jhs_aric.1000G_p3_markerName_FinalDatasetDNMT3Bpaper}\n",
    "\n",
    "# copy data over to local machine and change permission of file\n",
    "cd /cygdrive/c/Users/jmarks/Desktop/Projects/Nicotine/GSCAN_extended_results_nicotine/data/\n",
    "\n",
    "# copy 044 data\n",
    "cp //rcdcollaboration01.rti.ns/gxg/Analysis/META/1df/044.eur13cohorts.afr.9cohorts.eagle_lung.jhs_aric.1000G_p3_markerName_FinalDatasetDNMT3Bpaper/*.1df\n",
    "/cygdrive/c/Users/jmarks/Desktop/Projects/Nicotine/GSCAN_extended_results_nicotine/data/044.eur13cohorts.afr.9cohorts.eagle_lung.jhs_aric.1000G_p3_markerName_FinalDatasetDNMT3Bpaper/\n",
    "\n",
    "# copy 045 data\n",
    "for i in //rcdcollaboration01.rti.ns/gxg/Analysis/META/1df/045.eur13cohorts.eagle_lung.jhs_aric.1000G_p3_markerName_FinalDatasetDNMT3Bpaper/cogend+copdgene+decode+eagle+sage+uw-tturc+gain+nongain+yale-penn+ntr+finnish+dental_caries+cogend2.eur.chr{1..22}.exclude_singletons.1df\n",
    "do\n",
    "cp $i 045.eur13cohorts.eagle_lung.jhs_aric.1000G_p3_markerName_FinalDatasetDNMT3Bpaper/\n",
    "done\n",
    "\n",
    "# copy 046 data\n",
    "for i in //rcdcollaboration01.rti.ns/gxg/Analysis/META/1df/046.afr.9cohorts.eagle_lung.jhs_aric.1000G_p3_markerName_FinalDatasetDNMT3Bpaper/cogend+copdgene+sage+uw-tturc+gain+yale-penn+aand+jhs+cogend2.afr.chr{1..22}.exclude_singletons.1df\n",
    "do\n",
    "cp $i 046.afr.9cohorts.eagle_lung.jhs_aric.1000G_p3_markerName_FinalDatasetDNMT3Bpaper/\n",
    "done\n",
    "\n",
    "\n",
    "# change permission on all files \n",
    "chmod 755 044.eur13cohorts.afr.9cohorts.eagle_lung.jhs_aric.1000G_p3_markerName_FinalDatasetDNMT3Bpaper/*\n",
    "chmod 755 045.eur13cohorts.eagle_lung.jhs_aric.1000G_p3_markerName_FinalDatasetDNMT3Bpaper/*\n",
    "chmod 755 046.afr.9cohorts.eagle_lung.jhs_aric.1000G_p3_markerName_FinalDatasetDNMT3Bpaper/*\n",
    "\n",
    "\n",
    "cd Nicotine/GSCAN_extended_results_nicotine/develop/GSCAN_extended_results_nicotine/\n",
    "\n",
    "# I need to create a directory for each table because each table has different set of\n",
    "# SNPs to lookup. Each set of SNPs need to be searched for in our GWAS results (044,045,046)\n",
    "mkdir -p SNP_finder/{Table_S6,Table_S7,Table_S8,Table_S9}\n",
    "\n",
    "# copy SNP look-up script to directory structure\n",
    "for i in {6..9}; do  cp -r /cygdrive/c/Users/jmarks/Desktop/Code/SNP_finder/* SNP_finder/Table_S$i; done\n",
    "\n",
    "# make a copy of the perl script in this directory for ease of use \n",
    "# (this is where it will actually be run from)\n",
    "\n",
    "cp /cygdrive/c/Users/jmarks/Desktop/Code/SNP_finder/Table_S6/extract_rows.pl ."
   ]
  },
  {
   "cell_type": "markdown",
   "metadata": {},
   "source": [
    "## Customize accompanying files to the SNP look-up script\n",
    "\n",
    "The SNP look-up script takes as an argument a file which contains the SNPs that are to be searched for. The SNPs which will be of interest here are the SNPs listed in the supplementary tables at:\n",
    "\n",
    "`//rcdcollaboration01.rti.ns/gxg/Analysis/GSCAN/shared MS version 1/Supplementary_Tables_S6-S12_Loci.xlsx`\n",
    "\n",
    "* We are focusing on the SNPs from supplementary tables 6-9. The fourth column titled `rsID` is the column which contains the SNPs. We will copy/paste this column into the accompanying file titled `SNP_ids.txt`, which is located in the same directory as the SNP look-up script, titled `extract_rows.pl`\n",
    "\n",
    "* The other accompanying file is titled `perlRun.txt`. This file is customized to detail the location of all necessary files need for the SNP script to run and is also located in the same directory as `extract_rows.pl` and `SNP_ids.txt`."
   ]
  },
  {
   "cell_type": "markdown",
   "metadata": {},
   "source": [
    "## Supplementary Table 6\n",
    "Run the SNP look-up script for the SNPs in supplementary table 6"
   ]
  },
  {
   "cell_type": "code",
   "execution_count": null,
   "metadata": {
    "collapsed": true
   },
   "outputs": [],
   "source": [
    "cd /cygdrive/c/Users/jmarks/Desktop/Projects/Nicotine/GSCAN_extended_results_nicotine/develop\n",
    "\n",
    "# Lookup the SNPs from supplementary table 6 in the 044 data (cross-ancestrial)\n",
    "j=0\n",
    "for i in /cygdrive/c/Users/jmarks/Desktop/Projects/Nicotine/GSCAN_extended_results_nicotine/data/044.eur13cohorts.afr.9cohorts.eagle_lung.jhs_aric.1000G_p3_markerName_FinalDatasetDNMT3Bpaper/cogend+copdgene+decode+eagle+sage+uw-tturc+gain+nongain+yale-penn+ntr+finnish+aand+jhs+dental_caries+cogend2.afr+eur.chr{1..22}.1df; do\n",
    "let j++\n",
    "# location of the Perl SNP look-up script \n",
    "perl extract_rows.pl \\\n",
    "--source $i \\\n",
    "--id_list SNP_finder/Table_S6/SNP_ids.txt \\\n",
    "--out results/044_results/Table_S6/chr$j.overlap.txt \\\n",
    "--header 1 \\\n",
    "--id_column 0\n",
    "done\n",
    "\n",
    "\n",
    "\n",
    "# Lookup the SNPs from supplementary table 6 in the 045 data (EA-ancestry)\n",
    "j=0\n",
    "for i in /cygdrive/c/Users/jmarks/Desktop/Projects/Nicotine/GSCAN_extended_results_nicotine/data/045.eur13cohorts.eagle_lung.jhs_aric.1000G_p3_markerName_FinalDatasetDNMT3Bpaper/cogend+copdgene+decode+eagle+sage+uw-tturc+gain+nongain+yale-penn+ntr+finnish+dental_caries+cogend2.eur.chr{1..22}.exclude_singletons.1df; do\n",
    "\n",
    "let j++ \n",
    "perl extract_rows.pl \\\n",
    "--source $i \\\n",
    "--id_list SNP_finder/Table_S6/SNP_ids.txt \\\n",
    "--out results/045_results/Table_S6/chr$j.overlap.txt \\\n",
    "--header 1 \\\n",
    "--id_column 0\n",
    "done\n",
    "\n",
    "\n",
    "# Lookup the SNPs from supplementary table 6 in the 046 data (AA-ancestry)\n",
    "j=0\n",
    "for i in /cygdrive/c/Users/jmarks/Desktop/Projects/Nicotine/GSCAN_extended_results_nicotine/data/046.afr.9cohorts.eagle_lung.jhs_aric.1000G_p3_markerName_FinalDatasetDNMT3Bpaper/cogend+copdgene+sage+uw-tturc+gain+yale-penn+aand+jhs+cogend2.afr.chr{1..22}.exclude_singletons.1df; do\n",
    "let j++\n",
    "# location of the Perl SNP look-up script \n",
    "perl extract_rows.pl \\\n",
    "--source $i \\\n",
    "--id_list SNP_finder/Table_S6/SNP_ids.txt \\\n",
    "--out results/046_results/Table_S6/chr$j.overlap.txt \\\n",
    "--header 1 \\\n",
    "--id_column 0\n",
    "done"
   ]
  },
  {
   "cell_type": "markdown",
   "metadata": {},
   "source": [
    "## Supplementary Table 7\n",
    "Run the SNP look-up script for the SNPs in supplementary table 7"
   ]
  },
  {
   "cell_type": "code",
   "execution_count": null,
   "metadata": {
    "collapsed": true
   },
   "outputs": [],
   "source": [
    "cd /cygdrive/c/Users/jmarks/Desktop/Projects/Nicotine/GSCAN_extended_results_nicotine/develop\n",
    "\n",
    "# Lookup the SNPs from supplementary table 7 in the 044 data (cross-ancestrial)\n",
    "j=0\n",
    "for i in /cygdrive/c/Users/jmarks/Desktop/Projects/Nicotine/GSCAN_extended_results_nicotine/data/044.eur13cohorts.afr.9cohorts.eagle_lung.jhs_aric.1000G_p3_markerName_FinalDatasetDNMT3Bpaper/cogend+copdgene+decode+eagle+sage+uw-tturc+gain+nongain+yale-penn+ntr+finnish+aand+jhs+dental_caries+cogend2.afr+eur.chr{1..22}.1df; do\n",
    "let j++\n",
    "# location of the Perl SNP look-up script \n",
    "perl extract_rows.pl \\\n",
    "--source $i \\\n",
    "--id_list SNP_finder/Table_S7/SNP_ids.txt \\\n",
    "--out results/044_results/Table_S7/chr$j.overlap.txt \\\n",
    "--header 1 \\\n",
    "--id_column 0\n",
    "done\n",
    "\n",
    "\n",
    "# Lookup the SNPs from supplementary table 7 in the 045 data (EA-ancestry)\n",
    "j=0\n",
    "for i in /cygdrive/c/Users/jmarks/Desktop/Projects/Nicotine/GSCAN_extended_results_nicotine/data/045.eur13cohorts.eagle_lung.jhs_aric.1000G_p3_markerName_FinalDatasetDNMT3Bpaper/cogend+copdgene+decode+eagle+sage+uw-tturc+gain+nongain+yale-penn+ntr+finnish+dental_caries+cogend2.eur.chr{1..22}.exclude_singletons.1df; do\n",
    "let j++ \n",
    "perl extract_rows.pl \\\n",
    "--source $i \\\n",
    "--id_list SNP_finder/Table_S7/SNP_ids.txt \\\n",
    "--out results/045_results/Table_S7/chr$j.overlap.txt \\\n",
    "--header 1 \\\n",
    "--id_column 0\n",
    "done\n",
    "\n",
    "\n",
    "# Lookup the SNPs from supplementary table 7 in the 046 data (AA-ancestry)\n",
    "j=0\n",
    "for i in /cygdrive/c/Users/jmarks/Desktop/Projects/Nicotine/GSCAN_extended_results_nicotine/data/046.afr.9cohorts.eagle_lung.jhs_aric.1000G_p3_markerName_FinalDatasetDNMT3Bpaper/cogend+copdgene+sage+uw-tturc+gain+yale-penn+aand+jhs+cogend2.afr.chr{1..22}.exclude_singletons.1df; do\n",
    "let j++\n",
    "# location of the Perl SNP look-up script \n",
    "perl extract_rows.pl \\\n",
    "--source $i \\\n",
    "--id_list SNP_finder/Table_S7/SNP_ids.txt \\\n",
    "--out results/046_results/Table_S7/chr$j.overlap.txt \\\n",
    "--header 1 \\\n",
    "--id_column 0\n",
    "done"
   ]
  },
  {
   "cell_type": "markdown",
   "metadata": {},
   "source": [
    "## Supplementary Table 8\n",
    "Run the SNP look-up script for the SNPs in supplementary table 8"
   ]
  },
  {
   "cell_type": "code",
   "execution_count": null,
   "metadata": {
    "collapsed": true
   },
   "outputs": [],
   "source": [
    "cd /cygdrive/c/Users/jmarks/Desktop/Projects/Nicotine/GSCAN_extended_results_nicotine/develop\n",
    "\n",
    "# Lookup the SNPs from supplementary table 8 in the 044 data (cross-ancestrial)\n",
    "j=0\n",
    "for i in /cygdrive/c/Users/jmarks/Desktop/Projects/Nicotine/GSCAN_extended_results_nicotine/data/044.eur13cohorts.afr.9cohorts.eagle_lung.jhs_aric.1000G_p3_markerName_FinalDatasetDNMT3Bpaper/cogend+copdgene+decode+eagle+sage+uw-tturc+gain+nongain+yale-penn+ntr+finnish+aand+jhs+dental_caries+cogend2.afr+eur.chr{1..22}.1df; do\n",
    "let j++\n",
    "# location of the Perl SNP look-up script \n",
    "perl extract_rows.pl \\\n",
    "--source $i \\\n",
    "--id_list SNP_finder/Table_S8/SNP_ids.txt \\\n",
    "--out results/044_results/Table_S8/chr$j.overlap.txt \\\n",
    "--header 1 \\\n",
    "--id_column 0\n",
    "done\n",
    "\n",
    "\n",
    "# Lookup the SNPs from supplementary table 8 in the 045 data (EA-ancestry)\n",
    "j=0\n",
    "for i in /cygdrive/c/Users/jmarks/Desktop/Projects/Nicotine/GSCAN_extended_results_nicotine/data/045.eur13cohorts.eagle_lung.jhs_aric.1000G_p3_markerName_FinalDatasetDNMT3Bpaper/cogend+copdgene+decode+eagle+sage+uw-tturc+gain+nongain+yale-penn+ntr+finnish+dental_caries+cogend2.eur.chr{1..22}.exclude_singletons.1df; do\n",
    "let j++ \n",
    "perl extract_rows.pl \\\n",
    "--source $i \\\n",
    "--id_list SNP_finder/Table_S8/SNP_ids.txt \\\n",
    "--out results/045_results/Table_S8/chr$j.overlap.txt \\\n",
    "--header 1 \\\n",
    "--id_column 0\n",
    "done\n",
    "\n",
    "\n",
    "# Lookup the SNPs from supplementary table 8 in the 046 data (AA-ancestry)\n",
    "j=0\n",
    "for i in /cygdrive/c/Users/jmarks/Desktop/Projects/Nicotine/GSCAN_extended_results_nicotine/data/046.afr.9cohorts.eagle_lung.jhs_aric.1000G_p3_markerName_FinalDatasetDNMT3Bpaper/cogend+copdgene+sage+uw-tturc+gain+yale-penn+aand+jhs+cogend2.afr.chr{1..22}.exclude_singletons.1df; do\n",
    "let j++\n",
    "# location of the Perl SNP look-up script \n",
    "perl extract_rows.pl \\\n",
    "--source $i \\\n",
    "--id_list SNP_finder/Table_S8/SNP_ids.txt \\\n",
    "--out results/046_results/Table_S8/chr$j.overlap.txt \\\n",
    "--header 1 \\\n",
    "--id_column 0\n",
    "done"
   ]
  },
  {
   "cell_type": "markdown",
   "metadata": {},
   "source": [
    "## Supplementary Table 9\n",
    "Run the SNP look-up script for the SNPs in supplementary table 9"
   ]
  },
  {
   "cell_type": "code",
   "execution_count": null,
   "metadata": {
    "collapsed": true
   },
   "outputs": [],
   "source": [
    "cd /cygdrive/c/Users/jmarks/Desktop/Projects/Nicotine/GSCAN_extended_results_nicotine/develop\n",
    "\n",
    "# Lookup the SNPs from supplementary table 9 in the 044 data (cross-ancestrial)\n",
    "j=0\n",
    "for i in /cygdrive/c/Users/jmarks/Desktop/Projects/Nicotine/GSCAN_extended_results_nicotine/data/044.eur13cohorts.afr.9cohorts.eagle_lung.jhs_aric.1000G_p3_markerName_FinalDatasetDNMT3Bpaper/cogend+copdgene+decode+eagle+sage+uw-tturc+gain+nongain+yale-penn+ntr+finnish+aand+jhs+dental_caries+cogend2.afr+eur.chr{1..22}.1df; do\n",
    "let j++\n",
    "# location of the Perl SNP look-up script \n",
    "perl extract_rows.pl \\\n",
    "--source $i \\\n",
    "--id_list SNP_finder/Table_S9/SNP_ids.txt \\\n",
    "--out results/044_results/Table_S9/chr$j.overlap.txt \\\n",
    "--header 1 \\\n",
    "--id_column 0\n",
    "done\n",
    "\n",
    "\n",
    "# Lookup the SNPs from supplementary table 9 in the 045 data (EA-ancestry)\n",
    "j=0\n",
    "for i in /cygdrive/c/Users/jmarks/Desktop/Projects/Nicotine/GSCAN_extended_results_nicotine/data/045.eur13cohorts.eagle_lung.jhs_aric.1000G_p3_markerName_FinalDatasetDNMT3Bpaper/cogend+copdgene+decode+eagle+sage+uw-tturc+gain+nongain+yale-penn+ntr+finnish+dental_caries+cogend2.eur.chr{1..22}.exclude_singletons.1df; do\n",
    "let j++ \n",
    "perl extract_rows.pl \\\n",
    "--source $i \\\n",
    "--id_list SNP_finder/Table_S9/SNP_ids.txt \\\n",
    "--out results/045_results/Table_S9/chr$j.overlap.txt \\\n",
    "--header 1 \\\n",
    "--id_column 0\n",
    "done\n",
    "\n",
    "\n",
    "# Lookup the SNPs from supplementary table 9 in the 046 data (AA-ancestry)\n",
    "j=0\n",
    "for i in /cygdrive/c/Users/jmarks/Desktop/Projects/Nicotine/GSCAN_extended_results_nicotine/data/046.afr.9cohorts.eagle_lung.jhs_aric.1000G_p3_markerName_FinalDatasetDNMT3Bpaper/cogend+copdgene+sage+uw-tturc+gain+yale-penn+aand+jhs+cogend2.afr.chr{1..22}.exclude_singletons.1df; do\n",
    "let j++\n",
    "# location of the Perl SNP look-up script \n",
    "perl extract_rows.pl \\\n",
    "--source $i \\\n",
    "--id_list SNP_finder/Table_S9/SNP_ids.txt \\\n",
    "--out results/046_results/Table_S9/chr$j.overlap.txt \\\n",
    "--header 1 \\\n",
    "--id_column 0\n",
    "done"
   ]
  },
  {
   "cell_type": "markdown",
   "metadata": {
    "collapsed": true
   },
   "source": [
    "## Copy results to GxG drive\n",
    "Do to issues with copying the files over from windows to the gxg drive, the best approach I have found is to first tarball the data then copy it over and finally untar it in the new location."
   ]
  },
  {
   "cell_type": "code",
   "execution_count": null,
   "metadata": {
    "collapsed": true
   },
   "outputs": [],
   "source": [
    "# local machine\n",
    "cd /cygdrive/c/Users/jmarks/Desktop/Projects/Nicotine/GSCAN_extended_results_nicotine/develop/\n",
    "\n",
    "tar -czvf results.tar.gz results/\n",
    "cp results.tar.gz //rcdcollaboration01.rti.ns/gxg/Analysis/META/GSCAN_extended_results_nicotine/\n",
    "\n",
    "cd //rcdcollaboration01.rti.ns/gxg/Analysis/META/GSCAN_extended_results_nicotine/\n",
    "\n",
    "# untar\n",
    "tar -xzvf results.tar.gz\n",
    "rm results.tar.gz"
   ]
  },
  {
   "cell_type": "markdown",
   "metadata": {},
   "source": [
    "## Some of the SNPs did not show up in the results\n",
    "We will determine which SNPs did not show up in the results and why this happened."
   ]
  },
  {
   "cell_type": "markdown",
   "metadata": {},
   "source": [
    "### 044"
   ]
  },
  {
   "cell_type": "markdown",
   "metadata": {},
   "source": [
    "#### Supplemental table 6 - Age of Initiation (AI) "
   ]
  },
  {
   "cell_type": "code",
   "execution_count": null,
   "metadata": {
    "collapsed": true
   },
   "outputs": [],
   "source": [
    "# command line\n",
    "cd /cygdrive/c/Users/jmarks/Desktop/Projects/Nicotine/GSCAN_extended_results_nicotine/develop\n",
    "mkdir -p missing_snps/{044,045,046}\n",
    "cd missing_snps/044\n",
    "\n",
    "# Copy column 1 (MarkerName) from supplemental tables spreadsheet and paste\n",
    "# into vim marker names- save as 044_S6.txt \n",
    "vim 044_S6.txt\n",
    "\n",
    "# Because the results marker names are of the form rs1403174:2032865:A:T\n",
    "# we have to remove the trailing characters and keep just the rsID\n",
    "sed -i 's/:.*//' 044_S6.txt\n",
    "\n",
    "# make sure both files are in unix format since we copy/pasted from Windows\n",
    "# i.e. want to convert the files from DOS to unix\n",
    "vim ../../SNP_finder/Table_S6/SNP_ids.txt\n",
    ":set ff=unix\n",
    "\n",
    "vim 044_S6.txt\n",
    ":set ff=unix\n",
    "\n",
    "# compare the two files and see which snps are missing in the results\n",
    "grep -v -f 044_S6.txt ../../SNP_finder/Table_S6/SNP_ids.txt > 044_S6_missing_snps.txt\n",
    "cat 044_S6_missing_snps.txt | clip\n",
    "# result\n",
    "'''\n",
    "rs12611472 # chr2 \n",
    "'''\n",
    "\n",
    "# sanity check\n",
    "wc -l ../../SNP_finder/Table_S6/SNP_ids.txt\n",
    "wc -l 044_S6.txt\n",
    "\n",
    "#result\n",
    "'''\n",
    "10\n",
    "9\n",
    "'''\n",
    "\n",
    "cd //rcdcollaboration01.rti.ns/gxg/Analysis/META/1df/044.eur13cohorts.afr.9cohorts.eagle_lung.jhs_aric.1000G_p3_markerName_FinalDatasetDNMT3Bpaper\n",
    "# could not find this snp in the file.\n",
    "grep 'rs12611472' cogend+copdgene+decode+eagle+sage+uw-tturc+gain+\\nongain+yale-penn+ntr+finnish+aand+jhs+dental_caries+cogend2.afr+eur.chr2.1df\n"
   ]
  },
  {
   "cell_type": "markdown",
   "metadata": {},
   "source": [
    "#### Supplemental table 7 - Cigarettes per Day (CPD) "
   ]
  },
  {
   "cell_type": "code",
   "execution_count": null,
   "metadata": {
    "collapsed": true
   },
   "outputs": [],
   "source": [
    "# command line\n",
    "cd /cygdrive/c/Users/jmarks/Desktop/Projects/Nicotine/GSCAN_extended_results_nicotine/develop/missing_snps/044/\n",
    "\n",
    "# Copy column 1 (MarkerName) from the results spreadsheet and paste\n",
    "# into vim marker names- save as 044_S7.txt \n",
    "vim 044_S7.txt\n",
    "\n",
    "# Because the results marker names are of the form rs1403174:2032865:A:T\n",
    "# we have to remove the trailing characters and keep just the rsID\n",
    "sed -i 's/:.*//' 044_S7.txt\n",
    "\n",
    "# make sure both files are in unix format since we copy/pasted from Windows\n",
    "# i.e. want to convert the files from DOS to unix\n",
    "vim ../../SNP_finder/Table_S7/SNP_ids.txt\n",
    ":set ff=unix\n",
    "\n",
    "vim 044_S7.txt\n",
    ":set ff=unix\n",
    "\n",
    "# compare the two files and see which snps are missing in the results\n",
    "grep -v -f 044_S7.txt ../../SNP_finder/Table_S7/SNP_ids.txt > 044_S7_missing_snps.txt\n",
    "cat 044_S7_missing_snps.txt | clip\n",
    "# result\n",
    "'''\n",
    "rs28813180 # chr 3   \n",
    "rs4886550 # chr 15  \n",
    "'''\n",
    "\n",
    "# sanity check\n",
    "wc -l ../../SNP_finder/Table_S7/SNP_ids.txt\n",
    "wc -l 044_S7.txt\n",
    "\n",
    "#result\n",
    "'''\n",
    "55\n",
    "53\n",
    "'''"
   ]
  },
  {
   "cell_type": "markdown",
   "metadata": {},
   "source": [
    "#### Supplemental table 8 - Smoking Cessation (SC) "
   ]
  },
  {
   "cell_type": "code",
   "execution_count": null,
   "metadata": {
    "collapsed": true
   },
   "outputs": [],
   "source": [
    "# command line\n",
    "cd /cygdrive/c/Users/jmarks/Desktop/Projects/Nicotine/GSCAN_extended_results_nicotine/develop/missing_snps/044/\n",
    "\n",
    "# Copy column 1 (MarkerName) from the results spreadsheet and paste\n",
    "# into vim marker names- save as 044_S8.txt \n",
    "vim 044_S8.txt\n",
    "\n",
    "# Because the results marker names are of the form rs1403184:2032865:A:T\n",
    "# we have to remove the trailing characters and keep just the rsID\n",
    "sed -i 's/:.*//' 044_S8.txt\n",
    "\n",
    "# make sure both files are in unix format since we copy/pasted from Windows\n",
    "# i.e. want to convert the files from DOS to unix\n",
    "vim ../../SNP_finder/Table_S8/SNP_ids.txt\n",
    ":set ff=unix # in vim\n",
    "\n",
    "vim 044_S8.txt\n",
    ":set ff=unix # in vim\n",
    "\n",
    "# compare the two files and see which snps are missing in the results\n",
    "grep -v -f 044_S8.txt ../../SNP_finder/Table_S8/SNP_ids.txt > 044_S8_missing_snps.txt\n",
    "cat 044_S8_missing_snps.txt | clip\n",
    "# result\n",
    "'''\n",
    "No missing\n",
    "'''\n",
    "\n",
    "# sanity check\n",
    "wc -l ../../SNP_finder/Table_S8/SNP_ids.txt\n",
    "wc -l 044_S8.txt\n",
    "\n",
    "#result\n",
    "'''\n",
    "24\n",
    "24\n",
    "'''"
   ]
  },
  {
   "cell_type": "markdown",
   "metadata": {},
   "source": [
    "#### Supplemental table 9 - Smoking Initiation (SI) "
   ]
  },
  {
   "cell_type": "code",
   "execution_count": null,
   "metadata": {
    "collapsed": true
   },
   "outputs": [],
   "source": [
    "# command line\n",
    "cd /cygdrive/c/Users/jmarks/Desktop/Projects/Nicotine/GSCAN_extended_results_nicotine/develop/missing_snps/044/\n",
    "\n",
    "# Copy column 1 (MarkerName) from the results spreadsheet and paste\n",
    "# into vim marker names- save as 044_S9.txt \n",
    "vim 044_S9.txt\n",
    "\n",
    "# Because the results marker names are of the form rs1403194:2032965:A:T\n",
    "# we have to remove the trailing characters and keep just the rsID\n",
    "sed -i 's/:.*//' 044_S9.txt\n",
    "\n",
    "# make sure both files are in unix format since we copy/pasted from Windows\n",
    "# i.e. want to convert the files from DOS to unix\n",
    "vim ../../SNP_finder/Table_S9/SNP_ids.txt\n",
    ":set ff=unix # in vim\n",
    "\n",
    "vim 044_S9.txt\n",
    ":set ff=unix # in vim\n",
    "\n",
    "# compare the two files and see which snps are missing in the results\n",
    "grep -v -f 044_S9.txt ../../SNP_finder/Table_S9/SNP_ids.txt > 044_S9_missing_snps.txt\n",
    "cat 044_S9_missing_snps.txt | clip\n",
    "# result\n",
    "'''\n",
    "rs3076896 # chr 2\n",
    "rs55900829 # chr 4 \n",
    "rs181508347 # chr 5\n",
    "rs79180767 # chr 6\n",
    "rs10698713 # chr 6\n",
    "rs112913817 # chr 7\n",
    "rs78239456 # chr 11\n",
    "rs2145451 # chr 14\n",
    "rs12442563 # chr 15\n",
    "rs72836318 # chr 17 \n",
    "rs2359180 # chr 18 \n",
    "'''\n",
    "\n",
    "# sanity check\n",
    "wc -l ../../SNP_finder/Table_S9/SNP_ids.txt\n",
    "wc -l 044_S9.txt\n",
    "\n",
    "#result\n",
    "'''\n",
    "376\n",
    "365\n",
    "'''"
   ]
  },
  {
   "cell_type": "markdown",
   "metadata": {},
   "source": [
    "Combine all of the missing snps into one text file."
   ]
  },
  {
   "cell_type": "code",
   "execution_count": null,
   "metadata": {
    "collapsed": true
   },
   "outputs": [],
   "source": [
    "# command line\n",
    "cd /cygdrive/c/Users/jmarks/Desktop/Projects/Nicotine/GSCAN_extended_results_nicotine/develop/missing_snps/044/\n",
    "mkdir combined\n",
    "cd combined\n",
    "\n",
    "# copy paste all missing snps from 044 into here\n",
    "vim 044_missing_snps_with_chrom.txt\n",
    "sed 's/\\s#.*//g' 044_missing_snps_with_chrom.txt > 044_missing_snps_no_chrom.txt"
   ]
  },
  {
   "cell_type": "markdown",
   "metadata": {},
   "source": [
    "## Locating the missing SNPs"
   ]
  },
  {
   "cell_type": "code",
   "execution_count": null,
   "metadata": {
    "collapsed": true
   },
   "outputs": [],
   "source": [
    "cd /cygdrive/c/Users/jmarks/Desktop/Projects/Nicotine/GSCAN_extended_results_nicotine/develop/missing_snps/\n",
    "cat 044/combined/044_missing_snps_no_chrom.txt\\\n",
    "    045/combined/045_missing_snps_no_chrom.txt\\\n",
    "    046/combined/046_missing_snps_no_chrom.txt > all_missing_snps_no_chrom.txt\n",
    "\n",
    "# "
   ]
  },
  {
   "cell_type": "markdown",
   "metadata": {},
   "source": [
    "### 045"
   ]
  },
  {
   "cell_type": "markdown",
   "metadata": {},
   "source": [
    "#### Supplemental table 6 - Age of Initiation (AI) "
   ]
  },
  {
   "cell_type": "code",
   "execution_count": null,
   "metadata": {
    "collapsed": true
   },
   "outputs": [],
   "source": [
    "# command line\n",
    "cd /cygdrive/c/Users/jmarks/Desktop/Projects/Nicotine/GSCAN_extended_results_nicotine/develop/missing_snps/045\n",
    "\n",
    "# Copy column 1 (MarkerName) from supplemental tables spreadsheet and paste\n",
    "# into vim marker names- save as 045_S6.txt \n",
    "vim 045_S6.txt\n",
    "\n",
    "# Because the results marker names are of the form rs1403174:2032865:A:T\n",
    "# we have to remove the trailing characters and keep just the rsID\n",
    "sed -i 's/:.*//' 045_S6.txt\n",
    "\n",
    "# make sure both files are in unix format since we copy/pasted from Windows\n",
    "# i.e. want to convert the files from DOS to unix\n",
    "vim ../../SNP_finder/Table_S6/SNP_ids.txt\n",
    ":set ff=unix # in vim\n",
    "\n",
    "vim 045_S6.txt\n",
    ":set ff=unix # in vim\n",
    "\n",
    "# compare the two files and see which snps are missing in the results\n",
    "grep -v -f 045_S6.txt ../../SNP_finder/Table_S6/SNP_ids.txt > 045_S6_missing_snps.txt\n",
    "cat 045_S6_missing_snps.txt | clip\n",
    "# result\n",
    "'''\n",
    "rs12611472 # chr2  \n",
    "'''\n",
    "\n",
    "\n",
    "# sanity check\n",
    "wc -l ../../SNP_finder/Table_S6/SNP_ids.txt\n",
    "wc -l 045_S6.txt\n",
    "\n",
    "#result\n",
    "'''\n",
    "10\n",
    "9\n",
    "'''"
   ]
  },
  {
   "cell_type": "markdown",
   "metadata": {},
   "source": [
    "#### Supplemental table 7 - Cigarettes per Day (CPD) "
   ]
  },
  {
   "cell_type": "code",
   "execution_count": null,
   "metadata": {
    "collapsed": true
   },
   "outputs": [],
   "source": [
    "# command line\n",
    "cd /cygdrive/c/Users/jmarks/Desktop/Projects/Nicotine/GSCAN_extended_results_nicotine/develop/missing_snps/045/\n",
    "\n",
    "# Copy column 1 (MarkerName) from the results spreadsheet and paste\n",
    "# into vim marker names- save as 045_S7.txt \n",
    "vim 045_S7.txt\n",
    "\n",
    "# Because the results marker names are of the form rs1403174:2032865:A:T\n",
    "# we have to remove the trailing characters and keep just the rsID\n",
    "sed -i 's/:.*//' 045_S7.txt\n",
    "\n",
    "# make sure both files are in unix format since we copy/pasted from Windows\n",
    "# i.e. want to convert the files from DOS to unix\n",
    "vim ../../SNP_finder/Table_S7/SNP_ids.txt\n",
    ":set ff=unix # in vim\n",
    "\n",
    "vim 045_S7.txt\n",
    ":set ff=unix # in vim\n",
    "\n",
    "# compare the two files and see which snps are missing in the results\n",
    "grep -v -f 045_S7.txt ../../SNP_finder/Table_S7/SNP_ids.txt > 045_S7_missing_snps.txt\n",
    "cat 045_S7_missing_snps.txt | clip\n",
    "\n",
    "# result\n",
    "'''\n",
    "rs28813180 # chr 3   \n",
    "rs4886550 # chr 15 \n",
    "'''\n",
    "\n",
    "\n",
    "# sanity check\n",
    "wc -l ../../SNP_finder/Table_S7/SNP_ids.txt\n",
    "wc -l 045_S7.txt\n",
    "\n",
    "#result\n",
    "'''\n",
    "55\n",
    "53\n",
    "'''"
   ]
  },
  {
   "cell_type": "markdown",
   "metadata": {},
   "source": [
    "#### Supplemental table 8 - Smoking Cessation (SC) "
   ]
  },
  {
   "cell_type": "code",
   "execution_count": null,
   "metadata": {
    "collapsed": true
   },
   "outputs": [],
   "source": [
    "# command line\n",
    "cd /cygdrive/c/Users/jmarks/Desktop/Projects/Nicotine/GSCAN_extended_results_nicotine/develop/missing_snps/045/\n",
    "\n",
    "# Copy column 1 (MarkerName) from the results spreadsheet and paste\n",
    "# into vim marker names- save as 045_S8.txt \n",
    "vim 045_S8.txt\n",
    "\n",
    "# Because the results marker names are of the form rs1403184:2032865:A:T\n",
    "# we have to remove the trailing characters and keep just the rsID\n",
    "sed -i 's/:.*//' 045_S8.txt\n",
    "\n",
    "# make sure both files are in unix format since we copy/pasted from Windows\n",
    "# i.e. want to convert the files from DOS to unix\n",
    "vim ../../SNP_finder/Table_S8/SNP_ids.txt\n",
    ":set ff=unix # in vim\n",
    "\n",
    "vim 045_S8.txt\n",
    ":set ff=unix # in vim\n",
    "\n",
    "# compare the two files and see which snps are missing in the results\n",
    "grep -v -f 045_S8.txt ../../SNP_finder/Table_S8/SNP_ids.txt > 045_S8_missing_snps.txt\n",
    "cat 045_S8_missing_snps.txt | clip\n",
    "# result\n",
    "'''\n",
    "NA\n",
    "'''\n",
    "\n",
    "# sanity check\n",
    "wc -l ../../SNP_finder/Table_S8/SNP_ids.txt\n",
    "wc -l 045_S8.txt\n",
    "\n",
    "#result\n",
    "'''\n",
    "24\n",
    "24\n",
    "'''"
   ]
  },
  {
   "cell_type": "markdown",
   "metadata": {},
   "source": [
    "#### Supplemental table 9 - Smoking Initiation (SI) "
   ]
  },
  {
   "cell_type": "code",
   "execution_count": 1,
   "metadata": {},
   "outputs": [
    {
     "ename": "ERROR",
     "evalue": "Error in parse(text = x, srcfile = src): <text>:6:5: unexpected numeric constant\n5: # into vim marker names- save as 045_S9.txt \n6: vim 045\n       ^\n",
     "output_type": "error",
     "traceback": [
      "Error in parse(text = x, srcfile = src): <text>:6:5: unexpected numeric constant\n5: # into vim marker names- save as 045_S9.txt \n6: vim 045\n       ^\nTraceback:\n"
     ]
    }
   ],
   "source": [
    "# command line\n",
    "cd /cygdrive/c/Users/jmarks/Desktop/Projects/Nicotine/GSCAN_extended_results_nicotine/develop/missing_snps/045/\n",
    "\n",
    "# Copy column 1 (MarkerName) from the results spreadsheet and paste\n",
    "# into vim marker names- save as 045_S9.txt \n",
    "vim 045_S9.txt\n",
    "\n",
    "# Because the results marker names are of the form rs1403194:2032965:A:T\n",
    "# we have to remove the trailing characters and keep just the rsID\n",
    "sed -i 's/:.*//' 045_S9.txt\n",
    "\n",
    "# make sure both files are in unix format since we copy/pasted from Windows\n",
    "# i.e. want to convert the files from DOS to unix\n",
    "vim ../../SNP_finder/Table_S9/SNP_ids.txt\n",
    ":set ff=unix # in vim\n",
    "\n",
    "vim 045_S9.txt\n",
    ":set ff=unix # in vim\n",
    "\n",
    "# compare the two files and see which snps are missing in the results\n",
    "grep -v -f 045_S9.txt ../../SNP_finder/Table_S9/SNP_ids.txt > 045_S9_missing_snps.txt\n",
    "cat 045_S9_missing_snps.txt | clip \n",
    "# result\n",
    "'''\n",
    "rs74664784 # chr 3\n",
    "rs181508347 # chr 5\n",
    "rs10259715 # chr 7\n",
    "rs111842178 # chr 10\n",
    "rs3076896 # chr 2\n",
    "rs55900829 # chr 4 \n",
    "rs79180767 # chr 6\n",
    "rs10698713 # chr 6\n",
    "rs112913817 # chr 7\n",
    "rs78239456 # chr 11\n",
    "rs2145451 # chr 14\n",
    "rs12442563 # chr 15\n",
    "rs72836318 # chr 17 \n",
    "rs2359180 # chr 18 \n",
    "'''\n",
    "\n",
    "# sanity check\n",
    "wc -l ../../SNP_finder/Table_S9/SNP_ids.txt\n",
    "wc -l 045_S9.txt\n",
    "\n",
    "#result\n",
    "'''\n",
    "376\n",
    "362\n",
    "'''"
   ]
  },
  {
   "cell_type": "markdown",
   "metadata": {},
   "source": [
    "Combine all of the missing snps into one text file."
   ]
  },
  {
   "cell_type": "code",
   "execution_count": null,
   "metadata": {
    "collapsed": true
   },
   "outputs": [],
   "source": [
    "# command line\n",
    "cd /cygdrive/c/Users/jmarks/Desktop/Projects/Nicotine/GSCAN_extended_results_nicotine/develop/missing_snps/045/\n",
    "mkdir combined\n",
    "cd combined\n",
    "\n",
    "# copy paste all missing snps from 045 into here\n",
    "vim 045_missing_snps_with_chrom.txt\n",
    "sed 's/\\s#.*//g' 045_missing_snps_with_chrom.txt > 045_missing_snps_no_chrom.txt"
   ]
  },
  {
   "cell_type": "markdown",
   "metadata": {},
   "source": [
    "### 046"
   ]
  },
  {
   "cell_type": "markdown",
   "metadata": {},
   "source": [
    "#### Supplemental table 6 - Age of Initiation (AI) "
   ]
  },
  {
   "cell_type": "code",
   "execution_count": null,
   "metadata": {
    "collapsed": true
   },
   "outputs": [],
   "source": [
    "# command line\n",
    "cd /cygdrive/c/Users/jmarks/Desktop/Projects/Nicotine/GSCAN_extended_results_nicotine/develop/missing_snps/046\n",
    "\n",
    "# Copy column 1 (MarkerName) from supplemental tables spreadsheet and paste\n",
    "# into vim marker names- save as 046_S6.txt \n",
    "vim 046_S6.txt\n",
    "\n",
    "# Because the results marker names are of the form rs1403174:2032865:A:T\n",
    "# we have to remove the trailing characters and keep just the rsID\n",
    "sed -i 's/:.*//' 046_S6.txt\n",
    "\n",
    "# make sure both files are in unix format since we copy/pasted from Windows\n",
    "# i.e. want to convert the files from DOS to unix\n",
    "vim ../../SNP_finder/Table_S6/SNP_ids.txt\n",
    ":set ff=unix # in vim\n",
    "\n",
    "vim 046_S6.txt\n",
    ":set ff=unix # in vim\n",
    "\n",
    "# compare the two files and see which snps are missing in the results\n",
    "grep -v -f 046_S6.txt ../../SNP_finder/Table_S6/SNP_ids.txt > 046_S6_missing_snps.txt\n",
    "cat 046_S6_missing_snps.txt | clip \n",
    "# result\n",
    "'''\n",
    "rs12611472 # chr 2\n",
    "rs11780471 # chr 8\n",
    "'''\n",
    "\n",
    "# sanity check\n",
    "wc -l ../../SNP_finder/Table_S6/SNP_ids.txt\n",
    "wc -l 046_S6.txt\n",
    "\n",
    "#result\n",
    "'''\n",
    "10\n",
    "8\n",
    "'''"
   ]
  },
  {
   "cell_type": "markdown",
   "metadata": {},
   "source": [
    "#### Supplemental table 7 - Cigarettes per Day (CPD) "
   ]
  },
  {
   "cell_type": "code",
   "execution_count": null,
   "metadata": {
    "collapsed": true
   },
   "outputs": [],
   "source": [
    "# command line\n",
    "cd /cygdrive/c/Users/jmarks/Desktop/Projects/Nicotine/GSCAN_extended_results_nicotine/develop/missing_snps/046/\n",
    "\n",
    "# Copy column 1 (MarkerName) from the results spreadsheet and paste\n",
    "# into vim marker names- save as 046_S7.txt \n",
    "vim 046_S7.txt\n",
    "\n",
    "# Because the results marker names are of the form rs1403174:2032865:A:T\n",
    "# we have to remove the trailing characters and keep just the rsID\n",
    "sed -i 's/:.*//' 046_S7.txt\n",
    "\n",
    "# make sure both files are in unix format since we copy/pasted from Windows\n",
    "# i.e. want to convert the files from DOS to unix\n",
    "vim ../../SNP_finder/Table_S7/SNP_ids.txt\n",
    ":set ff=unix # in vim\n",
    "\n",
    "vim 046_S7.txt\n",
    ":set ff=unix # in vim\n",
    "\n",
    "# compare the two files and see which snps are missing in the results\n",
    "grep -v -f 046_S7.txt ../../SNP_finder/Table_S7/SNP_ids.txt > 046_S7_missing_snps.txt\n",
    "cat 046_S7_missing_snps.txt | clip \n",
    "\n",
    "# result\n",
    "'''\n",
    "rs11264100 # chr 1\n",
    "rs2072659 # chr 1\n",
    "rs3497346 # chr 1\n",
    "rs28813180 # chr 3 \n",
    "rs73229090 # chr 8\n",
    "rs4886550 # chr 15 \n",
    "rs143200968 # chr 19\n",
    "rs117824460 # chr19\n",
    "'''\n",
    "\n",
    "\n",
    "# sanity check\n",
    "wc -l ../../SNP_finder/Table_S7/SNP_ids.txt\n",
    "wc -l 046_S7.txt\n",
    "\n",
    "#result\n",
    "'''\n",
    "55\n",
    "47\n",
    "'''"
   ]
  },
  {
   "cell_type": "markdown",
   "metadata": {},
   "source": [
    "#### Supplemental table 8 - Smoking Cessation (SC) "
   ]
  },
  {
   "cell_type": "code",
   "execution_count": null,
   "metadata": {
    "collapsed": true
   },
   "outputs": [],
   "source": [
    "# command line\n",
    "cd /cygdrive/c/Users/jmarks/Desktop/Projects/Nicotine/GSCAN_extended_results_nicotine/develop/missing_snps/046/\n",
    "\n",
    "# Copy column 1 (MarkerName) from the results spreadsheet and paste\n",
    "# into vim marker names- save as 046_S8.txt \n",
    "vim 046_S8.txt\n",
    "\n",
    "# Because the results marker names are of the form rs1403184:2032865:A:T\n",
    "# we have to remove the trailing characters and keep just the rsID\n",
    "sed -i 's/:.*//' 046_S8.txt\n",
    "\n",
    "# make sure both files are in unix format since we copy/pasted from Windows\n",
    "# i.e. want to convert the files from DOS to unix\n",
    "vim ../../SNP_finder/Table_S8/SNP_ids.txt\n",
    ":set ff=unix # in vim\n",
    "\n",
    "vim 046_S8.txt\n",
    ":set ff=unix # in vim\n",
    "\n",
    "# compare the two files and see which snps are missing in the results\n",
    "grep -v -f 046_S8.txt ../../SNP_finder/Table_S8/SNP_ids.txt > 046_S8_missing_snps.txt\n",
    "cat 046_S8_missing_snps.txt | clip \n",
    "\n",
    "# result\n",
    "'''\n",
    "rs3025327 # chr 9\n",
    "rs145580088 # chr 19\n",
    "rs117824460 # chr 19\n",
    "rs4809543 # chr20\n",
    "rs6089904 # chr20\n",
    "'''\n",
    "\n",
    "# sanity check\n",
    "wc -l ../../SNP_finder/Table_S8/SNP_ids.txt\n",
    "wc -l 046_S8.txt\n",
    "\n",
    "#result\n",
    "'''\n",
    "24\n",
    "19\n",
    "'''"
   ]
  },
  {
   "cell_type": "markdown",
   "metadata": {},
   "source": [
    "#### Supplemental table 9 - Smoking Initiation (SI) "
   ]
  },
  {
   "cell_type": "code",
   "execution_count": null,
   "metadata": {
    "collapsed": true
   },
   "outputs": [],
   "source": [
    "# command line\n",
    "cd /cygdrive/c/Users/jmarks/Desktop/Projects/Nicotine/GSCAN_extended_results_nicotine/develop/missing_snps/046/\n",
    "\n",
    "# Copy column 1 (MarkerName) from the results spreadsheet and paste\n",
    "# into vim marker names- save as 046_S9.txt \n",
    "vim 046_S9.txt\n",
    "\n",
    "# Because the results marker names are of the form rs1403194:2032965:A:T\n",
    "# we have to remove the trailing characters and keep just the rsID\n",
    "sed -i 's/:.*//' 046_S9.txt\n",
    "\n",
    "# make sure both files are in unix format since we copy/pasted from Windows\n",
    "# i.e. want to convert the files from DOS to unix\n",
    "vim ../../SNP_finder/Table_S9/SNP_ids.txt\n",
    ":set ff=unix # in vim\n",
    "\n",
    "vim 046_S9.txt\n",
    ":set ff=unix # in vim\n",
    "\n",
    "# compare the two files and see which snps are missing in the results\n",
    "grep -v -f 046_S9.txt ../../SNP_finder/Table_S9/SNP_ids.txt > 046_S9_missing_snps.txt\n",
    "cat 046_S9_missing_snps.txt | clip \n",
    "# result\n",
    "'''\n",
    "rs301807 # chr 1\n",
    "rs3820277 # chr 1\n",
    "rs1889571 # chr 1\n",
    "rs10914684 # chr 1\n",
    "rs2637869 # chr 1\n",
    "rs12755632 # chr 1\n",
    "rs951740 # chr 1\n",
    "rs925524 # chr 1\n",
    "rs12022778 # chr 1\n",
    "rs11587399 # chr 1\n",
    "rs4912332 # chr 1\n",
    "rs1937443 # chr 1\n",
    "rs1022528 # chr 1\n",
    "rs12740789 # chr 1\n",
    "rs80054503 # chr 1\n",
    "rs10789369 # chr 1\n",
    "rs1514176 # chr 1\n",
    "rs10873871 # chr 1\n",
    "rs11162019 # chr 1\n",
    "rs1008078 # chr 1\n",
    "rs1935571 # chr 1\n",
    "rs12027999 # chr 1\n",
    "rs45444697 # chr 1\n",
    "rs2901785 # chr 1\n",
    "rs147052174 # chr 1\n",
    "rs35656245 # chr 1\n",
    "rs12739243 # chr 1\n",
    "rs12563365 # chr 1\n",
    "rs876793 # chr 1\n",
    "rs62106258 # chr 2\n",
    "rs72790288 # chr 2\n",
    "rs3076896 # chr 2\n",
    "rs74664784 # chr 3\n",
    "rs55900829 # chr 4\n",
    "rs62340589 # chr 4\n",
    "rs35375873 # chr 5\n",
    "rs181508347 # chr 5\n",
    "rs79180767 # chr 6\n",
    "rs10698713 # chr 6 \n",
    "rs10259715 # chr 7\n",
    "rs112913817 # chr 7\n",
    "rs11780471 # chr 8\n",
    "rs11783093 # chr 8\n",
    "rs111842178 # chr 10\n",
    "rs76460663 # chr 11\n",
    "rs78239456 # chr 11\n",
    "rs11611651 # chr 12\n",
    "rs1108130 # chr 13\n",
    "rs2145451  # chr 14\n",
    "rs12442563 # chr 15\n",
    "rs117657830 #chr 16\n",
    "rs72836318 #chr 17 \n",
    "rs2359180 # chr 18 \n",
    "rs76608582 # chr 19\n",
    "rs6050446 # chr 20\n",
    "'''\n",
    "\n",
    "# sanity check\n",
    "wc -l ../../SNP_finder/Table_S9/SNP_ids.txt\n",
    "wc -l 046_S9.txt\n",
    "\n",
    "#result\n",
    "'''\n",
    "376\n",
    "321\n",
    "#difference 55\n",
    "'''"
   ]
  },
  {
   "cell_type": "code",
   "execution_count": null,
   "metadata": {
    "collapsed": true
   },
   "outputs": [],
   "source": [
    "# command line\n",
    "cd /cygdrive/c/Users/jmarks/Desktop/Projects/Nicotine/GSCAN_extended_results_nicotine/develop/missing_snps/046/\n",
    "mkdir combined\n",
    "cd combined\n",
    "\n",
    "# copy paste all missing snps from 046 into here\n",
    "vim 046_missing_snps_combined.txt\n",
    "\n",
    "# make a copy which does not include the chromosome at the end\n",
    "sed 's/\\s#.*//g' 046_missing_snps_with_chrom.txt > 046_missing_snps_no_chrom.txt"
   ]
  },
  {
   "cell_type": "markdown",
   "metadata": {},
   "source": [
    "## Retrieve Missing SNPs\n",
    "It was discovered that the missing SNPs were filtered out of the final meta analyses data sets because of the MAF threshold set at 0.01. We want to recapture those SNPs which were filtered out. Because there were not that many SNPs that were missing (69) we pulled them from individual cohorts and analyzed them manually."
   ]
  },
  {
   "cell_type": "markdown",
   "metadata": {},
   "source": [
    "**Steps to retrieve missing SNPs**\n",
    "1. Generate a union set SNP lookup list that includes all 3 meta analyses\n",
    "\n",
    "2. Identify the union set of cohorts across the 3 meta analyses\n",
    "\n",
    "3. For each cohort find its corresponding `*.stats.gz` file in its gwas directory. This can be partially deduced from looking at the meta-analysis methods files on MIDAS (example: /share/nas03/bioinformatics_group/data/studies/gxg/meta-analyses/118/_methods.gxg.meta-analyses.118.sh) in conjunction with John's email suggestion (<COHORT ROOT>/.../association_tests/<seq_number>/<ethnicity>/processing/chr<chr>/*.stats.gz)\n",
    "\n",
    "4. Modify the extract.dental.py code for each cohort and check that the column matching specification within the code is correct\n",
    "\n",
    "5. Run the python script for each cohort\n",
    "\n",
    "6. Copy the lookup results to the respective meta analysis subdirectories and subset the results by the analysis specific lookup lists\n"
   ]
  },
  {
   "cell_type": "markdown",
   "metadata": {},
   "source": [
    "### Generate a SNP look-up list"
   ]
  },
  {
   "cell_type": "code",
   "execution_count": null,
   "metadata": {
    "collapsed": true
   },
   "outputs": [],
   "source": [
    "## command line - local ##\n",
    "cd /cygdrive/c/Users/jmarks/Desktop/Projects/Nicotine/GSCAN_extended_results_nicotine/develop/missing_snps\n",
    "\n",
    "cat 044/combined/044_missing_snps_no_chrom.txt\\\n",
    "    045/combined/045_missing_snps_no_chrom.txt\\\n",
    "    046/combined/046_missing_snps_no_chrom.txt > all_missing_snps_no_chrom.txt\n",
    "\n",
    "# make uniq list\n",
    "sort all_missing_snps_no_chrom.txt | uniq > all_missing_unique.txt"
   ]
  },
  {
   "cell_type": "markdown",
   "metadata": {},
   "source": [
    "#### Convert SNP list to proper format\n",
    "We first convert the total missing SNPs list into proper format with [NCBI](https://www.ncbi.nlm.nih.gov/projects/SNP/dbSNP.cgi?list=rsfile![image.png](attachment:image.png)). When the SNPs document has been created, you will receive an email with the file. The missing SNP list needs to be of the format <rsID>\\t<chr>\\t<position>. Use CHROMOSOME RPT format from the website and then edit the text file by cutting the necessary fields from this document. "
   ]
  },
  {
   "cell_type": "code",
   "execution_count": null,
   "metadata": {
    "collapsed": true
   },
   "outputs": [],
   "source": [
    "# command line #\n",
    "cd /cygdrive/c/Users/jmarks/Desktop/Projects/Nicotine/GSCAN_extended_results_nicotine/develop/missing_snps\n",
    "\n",
    "# file generated from NCBI website\n",
    "cp ~/Downloads/180112160217/ .\n",
    "\n",
    "# extracting the rsID, chr, and chr position\n",
    "cut -f1,7,12 180112160217 > all_missing_unique_formatted.txt\n",
    "\n",
    "# remove headings\n",
    "tail -n +7 all_missing_unique_formatted.txt > all_missing_unique_formatted_2.txt\n",
    "\n",
    "#add \"rs\" to first column \n",
    "awk '$1=\"rs\"$1' all_missing_unique_formatted_2.txt > all_missing_unique_formatted_3.txt\n",
    "\n",
    "# add a header \n",
    "awk 'BEGIN { print \"MarkerName\", \"chr\", \"pos\" } { print $0, \"\" }' all_missing_unique_formatted_3.txt > all_missing_unique_formatted_4.txt\n",
    "\n",
    "# make file tab delimited\n",
    "sed 's/ /\\t/g' all_missing_unique_formatted_4.txt > all_missing_unique_formatted_5.txt\n",
    "\n",
    "# remove SNPs from the list if they were missing information about chromosome position\n",
    "awk -F'\\t' '$3!=\"\"' all_missing_unique_formatted_5.txt > all_missing_unique_formatted_6.txt\n",
    "\n",
    "# rename and clean up directory\n",
    "cp all_missing_unique_formatted_6.txt SNPlist.txt\n",
    "rm all_missing_unique*\n",
    "\n",
    "scp SNPlist.txt jmarks@rtplhpc01.rti.ns:~/"
   ]
  },
  {
   "cell_type": "markdown",
   "metadata": {},
   "source": [
    "### Identify union of cohorts\n",
    "Analyses description for all gxg analyses is located at: `\\\\rcdcollaboration01\\GxG\\Analysis\\analysis_descriptions.xlsx`\n",
    "In the spreadsheet on the `META` tab the cohorts involved in these meta analyses (union set) are:\n",
    "\n",
    "1. COGEND_EA *\n",
    "2. COPDGene_EA *\n",
    "3. deCODE\t*\n",
    "4. EAGLE_EA *\n",
    "5. GAIN_EA  *\n",
    "6. nonGAIN_EA *\n",
    "7. SAGE_EA *\n",
    "8. UW-TTURC_EA  *\n",
    "9. Yale_Penn_EA *\n",
    "10. NTR_EA *\n",
    "11. Finn_Twin_EA *\n",
    "12. Dental_Caries_EA *\n",
    "13. COGEND2_EA (cannot locate)\n",
    "--------------------------------------------------------\n",
    "14. AAND+COGEND2_AA  *\n",
    "15. COGEND_AA  *\n",
    "16. COPDGene_AA *\n",
    "17. GAIN_AA *\n",
    "18. SAGE_AA *\n",
    "19. Yale_Penn_AA *\n",
    "20. JHS_AA *\n",
    "21. UW-TTURC_AA *\n",
    "22. COGEND2_AA  (cannot locate)"
   ]
  },
  {
   "cell_type": "markdown",
   "metadata": {},
   "source": [
    " **Note:** For DECODE we only have final results. Use the 1df files after genomic control:\n",
    "`/share/nas03/bioinformatics_group/data/studies/decode/imputed/v1/association_tests/001/GC/mapping_marker_1000G_p3/decode.eur.GC.chr$chr.1df`\n",
    "\n",
    "* I had to use the SNP look-up script from my local machine:\n",
    "`~/Destop/Projects/Nicotine/GSCAN_extended_results_nicotine/develop/SNP_finder/`\n",
    "\n",
    "COGEND2 is part of AAND_COGEND2\n",
    "`/share/nas04/bioinformatics_group/data/studies/aand_cogend2/imputed/v2/association_tests/014/<ea or aa>/`\n"
   ]
  },
  {
   "cell_type": "code",
   "execution_count": null,
   "metadata": {
    "collapsed": true
   },
   "outputs": [],
   "source": [
    "# login to MIDAS\n",
    "ssh midas\n",
    "\n",
    "## MIDAS ##\n",
    "cd ~/\n",
    "\n"
   ]
  },
  {
   "cell_type": "code",
   "execution_count": null,
   "metadata": {
    "collapsed": true
   },
   "outputs": [],
   "source": [
    "# copy over results to 045 (EA only)\n",
    "for file in {COGEND_EA.txt,COPDGene_EA.txt,deCODE,EAGLE_EA.txt,GAIN_EA.txt,nonGAIN_EA.txt,SAGE_EA.txt,UW-TTURC_EA.txt,YALE_PENN_EA.txt,NTR_EA.txt,FINN_TWIN_EA.txt,Dental_Caries_EA.txt,COGEND2_EA.txt};do cp -r $file ../SNP-results/045/; done &\n",
    "\n",
    "# copy over results to 046 (AA only)\n",
    "for file in {AAND+COGEND2_AA.txt,COGEND_AA.txt,COPDGene_AA.txt,GAIN_AA.txt,SAGE_AA.txt,YALE_PENN_AA.txt,JHS_AA.txt,UW-TTURC_AA.txt,COGEND2_AA.txt};do cp -r $file ../SNP-results/046/; done &\n"
   ]
  },
  {
   "cell_type": "markdown",
   "metadata": {},
   "source": []
  },
  {
   "cell_type": "markdown",
   "metadata": {},
   "source": [
    "## Final results\n",
    "The last procedure was to combine the results for each chromosome and construct a spreadsheet to display these results. A spreadsheet was created for each of the three studies. These results can be found on the share drive at:\n",
    "\n",
    "`//rcdcollaboration01.rti.ns/gxg/Analysis/META/GSCAN_extended_results_nicotine/results`"
   ]
  },
  {
   "cell_type": "code",
   "execution_count": null,
   "metadata": {
    "collapsed": true
   },
   "outputs": [],
   "source": []
  }
 ],
 "metadata": {
  "kernelspec": {
   "display_name": "R",
   "language": "R",
   "name": "ir"
  },
  "language_info": {
   "codemirror_mode": "r",
   "file_extension": ".r",
   "mimetype": "text/x-r-source",
   "name": "R",
   "pygments_lexer": "r",
   "version": "3.4.2"
  },
  "toc": {
   "nav_menu": {},
   "number_sections": true,
   "sideBar": true,
   "skip_h1_title": false,
   "toc_cell": false,
   "toc_position": {
    "height": "628px",
    "left": "0px",
    "right": "1468px",
    "top": "107px",
    "width": "266px"
   },
   "toc_section_display": "block",
   "toc_window_display": false
  }
 },
 "nbformat": 4,
 "nbformat_minor": 2
}
