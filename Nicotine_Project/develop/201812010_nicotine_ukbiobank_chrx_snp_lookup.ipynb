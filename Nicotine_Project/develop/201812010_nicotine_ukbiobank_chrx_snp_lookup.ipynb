{
 "cells": [
  {
   "cell_type": "markdown",
   "metadata": {},
   "source": [
    "# UKBioBank chrX SNP lookup\n",
    "**Author**: Jesse Marks\n",
    "\n",
    "The FUMA file of UKBioBank chrX SNPs I created for Dana Hancock on December 6, 2018 was lacking rsID information. This notebook will document the efforts to find the rsIDs for those SNPs based off of their `chr:position:A1:A2` information.\n",
    "\n",
    "The strategy we will use is to create a python dictionary from the 1000G reference panel chrX data that we have on the shared drive and then parse that dictionary to find the rsID. Ex:\n",
    "\n",
    "{\"2699555:C:A\" : rs311165}\n",
    "\n",
    "For each ID in my FUMA file, I will create an ID for it based on \"position:A1:A2\" then I will enter that key into the dictionary I created to see if there is a value for it. If there is a value, then I will print that rsID along with the other columns in my FUMA file. \n",
    "\n",
    "The following file maps position to rsID:\n",
    "`/shared/common/build_conversion/b37/dbsnp_b138/uniquely_mapped_snps.positions`"
   ]
  },
  {
   "cell_type": "code",
   "execution_count": null,
   "metadata": {},
   "outputs": [],
   "source": [
    "# copy chrX FUMA file to EC2\n",
    "head 20181206_20002_1439.gwas.imputed_v3.both_sexes_CHRX_maf_low-conf_filter.FUMA\n",
    "scp -i ~/.ssh/gwas_rsa 20181206_20002_1439.gwas.imputed_v3.both_sexes_CHRX_maf_low-conf_filter.FUMA ec2-user@54.90.227.178:/shared/jmarks/nicotine/ukbiobank/"
   ]
  },
  {
   "cell_type": "markdown",
   "metadata": {},
   "source": [
    "```\n",
    "head 20181206_20002_1439.gwas.imputed_v3.both_sexes_CHRX_maf_low-conf_filter.FUMA\n",
    "Chr     Position        P-value Allele1 Allele2 Effect  StdErr\n",
    "23      2699555 5.76807e-02     C       A       -1.15436e-04    6.08161e-05\n",
    "23      2699645 1.43253e-01     G       T       -1.15245e-04    7.87306e-05\n",
    "23      2699676 5.70700e-01     G       A       -4.25255e-05    7.49979e-05\n",
    "23      2699898 6.36532e-01     C       CT      -3.62646e-05    7.67420e-05\n",
    "23      2699968 9.87747e-02     A       G       9.10008e-05     5.51244e-05\n",
    "```"
   ]
  },
  {
   "cell_type": "code",
   "execution_count": null,
   "metadata": {},
   "outputs": [],
   "source": [
    "### Python3 ###\n",
    "import gzip\n",
    "\n",
    "data_dir = \"/shared/jmarks/nicotine/ukbiobank/\"\n",
    "in_file = \"{}/20181206_20002_1439.gwas.imputed_v3.both_sexes_CHRX_maf_low-conf_filter.FUMA\".format(data_dir)\n",
    "out_file = \"{}/20181210_20002_1439.gwas.imputed_v3.both_sexes_CHRX_maf_low-conf_filter_rsID_added.FUMA\".format(data_dir)\n",
    "map_file = \"/shared/data/ref_panels/1000G/2014.10/1000GP_Phase3_chrX_NONPAR.legend.gz\"\n",
    "\n",
    "with open(in_file) as inF, open(out_file, \"w\") as outF, gzip.open(map_file) as mapF:\n",
    "    map_head = mapF.readline()\n",
    "    map_line = mapF.readline()\n",
    "    print(map_line)\n",
    "    map_dic = {}\n",
    "    mapid = map_line.split()[0]\n",
    "    mapid = mapid.split(\":\")\n",
    "    print(mapid[0][0:2])\n",
    "\n",
    "    while map_line:\n",
    "        mapid = map_line.split()[0]\n",
    "        mapid = mapid.split(\":\")[0]\n",
    "        map_pos = map_line.split()[1]\n",
    "        map_a1 = map_line.split()[2]\n",
    "        map_a2 = map_line.split()[3]\n",
    "        if mapid[0:2] == \"rs\":\n",
    "            key = \"{}:{}:{}\".format(map_pos, map_a1, map_a2)\n",
    "            map_dic[key] = mapid\n",
    "\n",
    "        map_line = mapF.readline()\n",
    "\n",
    "\n",
    "    head = inF.readline()\n",
    "    head = \"{}\\t{}\".format(\"rsID\", head)\n",
    "    outF.write(head)\n",
    "    line = inF.readline()\n",
    "    print(head)\n",
    "\n",
    "    while line:\n",
    "        pos = line.split()[1]\n",
    "        a1 = line.split()[3]\n",
    "        a2 = line.split()[4]\n",
    "\n",
    "        key = \"{}:{}:{}\".format(pos, a1, a2)\n",
    "        if key in map_dic:\n",
    "            outl = \"{}\\t{}\".format(map_dic[key], line)\n",
    "            outF.write(outl)\n",
    "        line = inF.readline()"
   ]
  },
  {
   "cell_type": "code",
   "execution_count": null,
   "metadata": {},
   "outputs": [],
   "source": [
    "/shared/bioinformatics/software/scripts/qsub_job.sh \\\n",
    "    --job_name python_rsID_mapping \\\n",
    "    --script_prefix rsID_mapping \\\n",
    "    --mem 3.8 \\\n",
    "    --priority 0 \\\n",
    "    --program python nicotine_ukbiobank_chrx_rsid_lookup.py "
   ]
  },
  {
   "cell_type": "code",
   "execution_count": null,
   "metadata": {},
   "outputs": [],
   "source": [
    "head 20181210_20002_1439.gwas.imputed_v3.both_sexes_CHRX_maf_low-conf_filter_rsID_added.FUMA"
   ]
  },
  {
   "cell_type": "markdown",
   "metadata": {},
   "source": [
    "```\n",
    "rsID    Chr     Position        P-value Allele1 Allele2 Effect  StdErr\n",
    "rs311165        23      2699555 5.76807e-02     C       A       -1.15436e-04    6.08161e-05\n",
    "rs28579419      23      2699645 1.43253e-01     G       T       -1.15245e-04    7.87306e-05\n",
    "rs60075487      23      2699676 5.70700e-01     G       A       -4.25255e-05    7.49979e-05\n",
    "rs60233760      23      2699898 6.36532e-01     C       CT      -3.62646e-05    7.67420e-05\n",
    "rs2306737       23      2699968 9.87747e-02     A       G       9.10008e-05     5.51244e-05\n",
    "rs2306736       23      2700027 8.01447e-02     T       C       9.58006e-05     5.47478e-05\n",
    "rs5939319       23      2700157 1.21295e-01     G       A       -1.20788e-04    7.79599e-05\n",
    "rs5939320       23      2700202 2.90892e-01     A       G       -6.19511e-05    5.86564e-05\n",
    "rs72619369      23      2700302 8.68957e-01     T       A       -1.24396e-05    7.53988e-05\n",
    "```"
   ]
  }
 ],
 "metadata": {
  "kernelspec": {
   "display_name": "Python 3",
   "language": "python",
   "name": "python3"
  },
  "language_info": {
   "codemirror_mode": {
    "name": "ipython",
    "version": 3
   },
   "file_extension": ".py",
   "mimetype": "text/x-python",
   "name": "python",
   "nbconvert_exporter": "python",
   "pygments_lexer": "ipython3",
   "version": "3.7.1"
  },
  "toc": {
   "nav_menu": {},
   "number_sections": true,
   "sideBar": true,
   "skip_h1_title": false,
   "toc_cell": false,
   "toc_position": {},
   "toc_section_display": "block",
   "toc_window_display": false
  }
 },
 "nbformat": 4,
 "nbformat_minor": 2
}
