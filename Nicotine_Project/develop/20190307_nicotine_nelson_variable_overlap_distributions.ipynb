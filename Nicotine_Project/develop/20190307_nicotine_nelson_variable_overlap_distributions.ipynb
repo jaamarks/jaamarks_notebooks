{
 "cells": [
  {
   "cell_type": "markdown",
   "metadata": {},
   "source": [
    "# Merge in Variables with FTND Subjects from Nelson GWAS\n",
    "**Author**: Jesse Marks <br>\n",
    "**GitHub Issue**: [#96](https://github.com/RTIInternational/bioinformatics/issues/96#issuecomment-469871339)"
   ]
  },
  {
   "cell_type": "code",
   "execution_count": 9,
   "metadata": {},
   "outputs": [
    {
     "data": {
      "text/html": [
       "<table>\n",
       "<thead><tr><th scope=col>IID</th><th scope=col>CAT_FTND</th><th scope=col>AGE</th><th scope=col>SEX</th><th scope=col>EV1</th><th scope=col>EV3</th><th scope=col>EV7</th><th scope=col>EV9</th></tr></thead>\n",
       "<tbody>\n",
       "\t<tr><td>124153 </td><td>0      </td><td>47     </td><td>1      </td><td> 0.0025</td><td> 0.0210</td><td>-0.0256</td><td>-0.0155</td></tr>\n",
       "\t<tr><td>153753 </td><td>0      </td><td>49     </td><td>1      </td><td>-0.0188</td><td> 0.0109</td><td> 0.0355</td><td>-0.0284</td></tr>\n",
       "\t<tr><td>141752 </td><td>0      </td><td>45     </td><td>2      </td><td> 0.0102</td><td>-0.0351</td><td>-0.0313</td><td> 0.0039</td></tr>\n",
       "\t<tr><td> 32552 </td><td>0      </td><td>31     </td><td>2      </td><td> 0.0071</td><td>-0.0007</td><td>-0.0122</td><td> 0.0033</td></tr>\n",
       "\t<tr><td>104552 </td><td>0      </td><td>33     </td><td>2      </td><td> 0.0050</td><td> 0.0080</td><td>-0.0210</td><td> 0.0169</td></tr>\n",
       "\t<tr><td>104802 </td><td>0      </td><td>39     </td><td>1      </td><td> 0.0086</td><td>-0.0004</td><td> 0.0168</td><td>-0.0337</td></tr>\n",
       "</tbody>\n",
       "</table>\n"
      ],
      "text/latex": [
       "\\begin{tabular}{r|llllllll}\n",
       " IID & CAT\\_FTND & AGE & SEX & EV1 & EV3 & EV7 & EV9\\\\\n",
       "\\hline\n",
       "\t 124153  & 0       & 47      & 1       &  0.0025 &  0.0210 & -0.0256 & -0.0155\\\\\n",
       "\t 153753  & 0       & 49      & 1       & -0.0188 &  0.0109 &  0.0355 & -0.0284\\\\\n",
       "\t 141752  & 0       & 45      & 2       &  0.0102 & -0.0351 & -0.0313 &  0.0039\\\\\n",
       "\t  32552  & 0       & 31      & 2       &  0.0071 & -0.0007 & -0.0122 &  0.0033\\\\\n",
       "\t 104552  & 0       & 33      & 2       &  0.0050 &  0.0080 & -0.0210 &  0.0169\\\\\n",
       "\t 104802  & 0       & 39      & 1       &  0.0086 & -0.0004 &  0.0168 & -0.0337\\\\\n",
       "\\end{tabular}\n"
      ],
      "text/markdown": [
       "\n",
       "IID | CAT_FTND | AGE | SEX | EV1 | EV3 | EV7 | EV9 | \n",
       "|---|---|---|---|---|---|\n",
       "| 124153  | 0       | 47      | 1       |  0.0025 |  0.0210 | -0.0256 | -0.0155 | \n",
       "| 153753  | 0       | 49      | 1       | -0.0188 |  0.0109 |  0.0355 | -0.0284 | \n",
       "| 141752  | 0       | 45      | 2       |  0.0102 | -0.0351 | -0.0313 |  0.0039 | \n",
       "|  32552  | 0       | 31      | 2       |  0.0071 | -0.0007 | -0.0122 |  0.0033 | \n",
       "| 104552  | 0       | 33      | 2       |  0.0050 |  0.0080 | -0.0210 |  0.0169 | \n",
       "| 104802  | 0       | 39      | 1       |  0.0086 | -0.0004 |  0.0168 | -0.0337 | \n",
       "\n",
       "\n"
      ],
      "text/plain": [
       "  IID    CAT_FTND AGE SEX EV1     EV3     EV7     EV9    \n",
       "1 124153 0        47  1    0.0025  0.0210 -0.0256 -0.0155\n",
       "2 153753 0        49  1   -0.0188  0.0109  0.0355 -0.0284\n",
       "3 141752 0        45  2    0.0102 -0.0351 -0.0313  0.0039\n",
       "4  32552 0        31  2    0.0071 -0.0007 -0.0122  0.0033\n",
       "5 104552 0        33  2    0.0050  0.0080 -0.0210  0.0169\n",
       "6 104802 0        39  1    0.0086 -0.0004  0.0168 -0.0337"
      ]
     },
     "metadata": {},
     "output_type": "display_data"
    },
    {
     "data": {
      "text/html": [
       "<table>\n",
       "<thead><tr><th scope=col>dbGaP_Subject_ID</th><th scope=col>subjid</th><th scope=col>age</th><th scope=col>canuselong</th><th scope=col>stimuselong</th><th scope=col>seduselong</th><th scope=col>opuselong</th><th scope=col>cocuselong</th><th scope=col>study</th><th scope=col>ftnd4</th><th scope=col>...</th><th scope=col>wdnicotine</th><th scope=col>intennicotine</th><th scope=col>quitnicotine</th><th scope=col>timenicotine</th><th scope=col>actnicotine</th><th scope=col>contnicotine</th><th scope=col>clusternicotine</th><th scope=col>nicotinedep4</th><th scope=col>sex</th><th scope=col>control_groups</th></tr></thead>\n",
       "<tbody>\n",
       "\t<tr><td>167957</td><td> 901  </td><td>36    </td><td>0     </td><td>0     </td><td>0     </td><td>0     </td><td>0     </td><td>4     </td><td>  0.00</td><td>...   </td><td>1     </td><td>0     </td><td>0     </td><td>0     </td><td>0     </td><td>0     </td><td>1     </td><td>1     </td><td>1     </td><td>2     </td></tr>\n",
       "\t<tr><td>172804</td><td>1001  </td><td>32    </td><td>0     </td><td>0     </td><td>0     </td><td>0     </td><td>0     </td><td>4     </td><td>-99.99</td><td>...   </td><td>1     </td><td>0     </td><td>0     </td><td>0     </td><td>0     </td><td>0     </td><td>1     </td><td>1     </td><td>1     </td><td>2     </td></tr>\n",
       "\t<tr><td>170441</td><td>1150  </td><td>53    </td><td>0     </td><td>0     </td><td>0     </td><td>0     </td><td>0     </td><td>4     </td><td>  0.00</td><td>...   </td><td>1     </td><td>0     </td><td>0     </td><td>0     </td><td>0     </td><td>0     </td><td>1     </td><td>1     </td><td>1     </td><td>2     </td></tr>\n",
       "\t<tr><td>173305</td><td>1202  </td><td>68    </td><td>0     </td><td>0     </td><td>0     </td><td>0     </td><td>0     </td><td>4     </td><td>  0.00</td><td>...   </td><td>1     </td><td>0     </td><td>0     </td><td>0     </td><td>0     </td><td>0     </td><td>1     </td><td>1     </td><td>1     </td><td>2     </td></tr>\n",
       "\t<tr><td>167786</td><td>1301  </td><td>42    </td><td>0     </td><td>0     </td><td>0     </td><td>0     </td><td>0     </td><td>4     </td><td>  0.00</td><td>...   </td><td>2     </td><td>2     </td><td>2     </td><td>2     </td><td>1     </td><td>2     </td><td>2     </td><td>2     </td><td>2     </td><td>2     </td></tr>\n",
       "\t<tr><td>176027</td><td>1450  </td><td>63    </td><td>0     </td><td>0     </td><td>0     </td><td>0     </td><td>0     </td><td>4     </td><td>  1.00</td><td>...   </td><td>1     </td><td>1     </td><td>2     </td><td>1     </td><td>1     </td><td>1     </td><td>1     </td><td>1     </td><td>1     </td><td>2     </td></tr>\n",
       "</tbody>\n",
       "</table>\n"
      ],
      "text/latex": [
       "\\begin{tabular}{r|llllllllllllllllllllllllllllllllllllllllllllllllllllllllllllllllllllllllllllllllllllllllllllll}\n",
       " dbGaP\\_Subject\\_ID & subjid & age & canuselong & stimuselong & seduselong & opuselong & cocuselong & study & ftnd4 & ... & wdnicotine & intennicotine & quitnicotine & timenicotine & actnicotine & contnicotine & clusternicotine & nicotinedep4 & sex & control\\_groups\\\\\n",
       "\\hline\n",
       "\t 167957 &  901   & 36     & 0      & 0      & 0      & 0      & 0      & 4      &   0.00 & ...    & 1      & 0      & 0      & 0      & 0      & 0      & 1      & 1      & 1      & 2     \\\\\n",
       "\t 172804 & 1001   & 32     & 0      & 0      & 0      & 0      & 0      & 4      & -99.99 & ...    & 1      & 0      & 0      & 0      & 0      & 0      & 1      & 1      & 1      & 2     \\\\\n",
       "\t 170441 & 1150   & 53     & 0      & 0      & 0      & 0      & 0      & 4      &   0.00 & ...    & 1      & 0      & 0      & 0      & 0      & 0      & 1      & 1      & 1      & 2     \\\\\n",
       "\t 173305 & 1202   & 68     & 0      & 0      & 0      & 0      & 0      & 4      &   0.00 & ...    & 1      & 0      & 0      & 0      & 0      & 0      & 1      & 1      & 1      & 2     \\\\\n",
       "\t 167786 & 1301   & 42     & 0      & 0      & 0      & 0      & 0      & 4      &   0.00 & ...    & 2      & 2      & 2      & 2      & 1      & 2      & 2      & 2      & 2      & 2     \\\\\n",
       "\t 176027 & 1450   & 63     & 0      & 0      & 0      & 0      & 0      & 4      &   1.00 & ...    & 1      & 1      & 2      & 1      & 1      & 1      & 1      & 1      & 1      & 2     \\\\\n",
       "\\end{tabular}\n"
      ],
      "text/markdown": [
       "\n",
       "dbGaP_Subject_ID | subjid | age | canuselong | stimuselong | seduselong | opuselong | cocuselong | study | ftnd4 | ... | wdnicotine | intennicotine | quitnicotine | timenicotine | actnicotine | contnicotine | clusternicotine | nicotinedep4 | sex | control_groups | \n",
       "|---|---|---|---|---|---|\n",
       "| 167957 |  901   | 36     | 0      | 0      | 0      | 0      | 0      | 4      |   0.00 | ...    | 1      | 0      | 0      | 0      | 0      | 0      | 1      | 1      | 1      | 2      | \n",
       "| 172804 | 1001   | 32     | 0      | 0      | 0      | 0      | 0      | 4      | -99.99 | ...    | 1      | 0      | 0      | 0      | 0      | 0      | 1      | 1      | 1      | 2      | \n",
       "| 170441 | 1150   | 53     | 0      | 0      | 0      | 0      | 0      | 4      |   0.00 | ...    | 1      | 0      | 0      | 0      | 0      | 0      | 1      | 1      | 1      | 2      | \n",
       "| 173305 | 1202   | 68     | 0      | 0      | 0      | 0      | 0      | 4      |   0.00 | ...    | 1      | 0      | 0      | 0      | 0      | 0      | 1      | 1      | 1      | 2      | \n",
       "| 167786 | 1301   | 42     | 0      | 0      | 0      | 0      | 0      | 4      |   0.00 | ...    | 2      | 2      | 2      | 2      | 1      | 2      | 2      | 2      | 2      | 2      | \n",
       "| 176027 | 1450   | 63     | 0      | 0      | 0      | 0      | 0      | 4      |   1.00 | ...    | 1      | 1      | 2      | 1      | 1      | 1      | 1      | 1      | 1      | 2      | \n",
       "\n",
       "\n"
      ],
      "text/plain": [
       "  dbGaP_Subject_ID subjid age canuselong stimuselong seduselong opuselong\n",
       "1 167957            901   36  0          0           0          0        \n",
       "2 172804           1001   32  0          0           0          0        \n",
       "3 170441           1150   53  0          0           0          0        \n",
       "4 173305           1202   68  0          0           0          0        \n",
       "5 167786           1301   42  0          0           0          0        \n",
       "6 176027           1450   63  0          0           0          0        \n",
       "  cocuselong study ftnd4  ... wdnicotine intennicotine quitnicotine\n",
       "1 0          4       0.00 ... 1          0             0           \n",
       "2 0          4     -99.99 ... 1          0             0           \n",
       "3 0          4       0.00 ... 1          0             0           \n",
       "4 0          4       0.00 ... 1          0             0           \n",
       "5 0          4       0.00 ... 2          2             2           \n",
       "6 0          4       1.00 ... 1          1             2           \n",
       "  timenicotine actnicotine contnicotine clusternicotine nicotinedep4 sex\n",
       "1 0            0           0            1               1            1  \n",
       "2 0            0           0            1               1            1  \n",
       "3 0            0           0            1               1            1  \n",
       "4 0            0           0            1               1            1  \n",
       "5 2            1           2            2               2            2  \n",
       "6 1            1           1            1               1            1  \n",
       "  control_groups\n",
       "1 2             \n",
       "2 2             \n",
       "3 2             \n",
       "4 2             \n",
       "5 2             \n",
       "6 2             "
      ]
     },
     "metadata": {},
     "output_type": "display_data"
    },
    {
     "data": {
      "text/html": [
       "<table>\n",
       "<thead><tr><th scope=col>iid</th><th scope=col>FTND</th><th scope=col>alcabuse</th><th scope=col>alcoholdep4</th></tr></thead>\n",
       "<tbody>\n",
       "\t<tr><td>124153</td><td>0     </td><td>1     </td><td>1     </td></tr>\n",
       "\t<tr><td>153753</td><td>0     </td><td>1     </td><td>1     </td></tr>\n",
       "\t<tr><td>141752</td><td>0     </td><td>2     </td><td>1     </td></tr>\n",
       "\t<tr><td> 32552</td><td>0     </td><td>1     </td><td>1     </td></tr>\n",
       "\t<tr><td>104552</td><td>0     </td><td>1     </td><td>1     </td></tr>\n",
       "\t<tr><td>104802</td><td>0     </td><td>2     </td><td>1     </td></tr>\n",
       "</tbody>\n",
       "</table>\n"
      ],
      "text/latex": [
       "\\begin{tabular}{r|llll}\n",
       " iid & FTND & alcabuse & alcoholdep4\\\\\n",
       "\\hline\n",
       "\t 124153 & 0      & 1      & 1     \\\\\n",
       "\t 153753 & 0      & 1      & 1     \\\\\n",
       "\t 141752 & 0      & 2      & 1     \\\\\n",
       "\t  32552 & 0      & 1      & 1     \\\\\n",
       "\t 104552 & 0      & 1      & 1     \\\\\n",
       "\t 104802 & 0      & 2      & 1     \\\\\n",
       "\\end{tabular}\n"
      ],
      "text/markdown": [
       "\n",
       "iid | FTND | alcabuse | alcoholdep4 | \n",
       "|---|---|---|---|---|---|\n",
       "| 124153 | 0      | 1      | 1      | \n",
       "| 153753 | 0      | 1      | 1      | \n",
       "| 141752 | 0      | 2      | 1      | \n",
       "|  32552 | 0      | 1      | 1      | \n",
       "| 104552 | 0      | 1      | 1      | \n",
       "| 104802 | 0      | 2      | 1      | \n",
       "\n",
       "\n"
      ],
      "text/plain": [
       "  iid    FTND alcabuse alcoholdep4\n",
       "1 124153 0    1        1          \n",
       "2 153753 0    1        1          \n",
       "3 141752 0    2        1          \n",
       "4  32552 0    1        1          \n",
       "5 104552 0    1        1          \n",
       "6 104802 0    2        1          "
      ]
     },
     "metadata": {},
     "output_type": "display_data"
    }
   ],
   "source": [
    "setwd(\"/Users/Jess/OneDrive - Research Triangle Institute/Projects/Nicotine/nelson/\")\n",
    "ftnd_data <- read.table(\"nelson.ea.CAT_FTND.AGE.SEX.EVs.v1\", header=T)\n",
    "main_phenotype <- read.table(\"HeroinRATRP.txt\", header=T)\n",
    "alcohol_overlap <- read.table(\"20190307.nicotine.nelson.alcabuse+alcoholdep4+ftnd.overlap.txt\",\n",
    "                             header=T)\n",
    "\n",
    "head(ftnd_data)\n",
    "head(main_phenotype)\n",
    "head(alcohol_overlap)"
   ]
  },
  {
   "cell_type": "code",
   "execution_count": null,
   "metadata": {},
   "outputs": [],
   "source": []
  },
  {
   "cell_type": "code",
   "execution_count": null,
   "metadata": {},
   "outputs": [],
   "source": []
  },
  {
   "cell_type": "code",
   "execution_count": null,
   "metadata": {},
   "outputs": [],
   "source": []
  },
  {
   "cell_type": "code",
   "execution_count": null,
   "metadata": {},
   "outputs": [],
   "source": []
  },
  {
   "cell_type": "code",
   "execution_count": null,
   "metadata": {},
   "outputs": [],
   "source": []
  },
  {
   "cell_type": "code",
   "execution_count": null,
   "metadata": {},
   "outputs": [],
   "source": []
  },
  {
   "cell_type": "code",
   "execution_count": null,
   "metadata": {},
   "outputs": [],
   "source": [
    "### python ###\n",
    "\n",
    "\"\"\"\n",
    "Get variable overlap.\n",
    "\"\"\"\n",
    "\n",
    "date = \"20190307\"\n",
    "phenotype = \"ftnd\"\n",
    "phen = \"nelson.ea.CAT_FTND.AGE.SEX.EVs.v1\"\n",
    "master = \"HeroinRATRP.txt\"\n",
    "overlap1 = \"alcabuse\"\n",
    "overlap2 = \"alcoholdep4\"\n",
    "outfile = \"{}.nicotine.nelson.{}+{}+{}.overlap.txt\".format(date, overlap1, overlap2, phenotype)\n",
    "\n",
    "\n",
    "\n",
    "with open(phen) as inF, open(master) as mF, open(outfile, \"w\") as outF: \n",
    "    head = inF.readline().split()\n",
    "    head2 = mF.readline().split()\n",
    "    print(head)\n",
    "    print(head2)\n",
    "    heroin_index = head2.index(overlap1)\n",
    "    opioid_index = head2.index(overlap2)\n",
    "\n",
    "    master_dic = {}\n",
    "    line = mF.readline()\n",
    "    print(line)\n",
    "    while line:\n",
    "        sl = line.split()\n",
    "        master_dic[sl[1]] = (sl[heroin_index], sl[opioid_index])\n",
    "        line = mF.readline()\n",
    "    \n",
    "    line = inF.readline()\n",
    "    newhead = \"iid\\tFTND\\t{}\\t{}\\n\".format(overlap1, overlap2)\n",
    "    outF.write(newhead)\n",
    "    while line:\n",
    "        sl = line.split()\n",
    "        newline = sl[0] + \"\\t\" + sl[1] + \"\\t\" + \"\\t\".join(master_dic[sl[0]]) \n",
    "        outF.write(newline + \"\\n\")\n",
    "\n",
    "        line = inF.readline()"
   ]
  }
 ],
 "metadata": {
  "kernelspec": {
   "display_name": "R",
   "language": "R",
   "name": "ir"
  },
  "language_info": {
   "codemirror_mode": "r",
   "file_extension": ".r",
   "mimetype": "text/x-r-source",
   "name": "R",
   "pygments_lexer": "r",
   "version": "3.5.1"
  }
 },
 "nbformat": 4,
 "nbformat_minor": 2
}
