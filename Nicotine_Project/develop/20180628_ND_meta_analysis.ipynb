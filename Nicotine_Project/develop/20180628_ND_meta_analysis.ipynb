{
 "cells": [
  {
   "cell_type": "markdown",
   "metadata": {},
   "source": [
    "# Wave 3 Nicotine Dependence meta-analysis: 1000G phase 3\n",
    "\n",
    "\n",
    "## All cohorts (cross-ancestry):\n",
    "```\n",
    "AAND_AA\n",
    "ADAA_AA\n",
    "COGEND_AA\n",
    "COGEND_EA\n",
    "COGEND2_AA\n",
    "COGEND2_EA\n",
    "COPDGENE1_AA\n",
    "COPDGENE1_EA\n",
    "COPDGENE2_AA\n",
    "COPDGENE2_EA\n",
    "DECODE_EA \n",
    "DENTAL_CARIES_EA \n",
    "EAGLE_EA \n",
    "EMERGE_EA \n",
    "FINRISK_EA \n",
    "FTC_EA \n",
    "GAIN_AA \n",
    "GAIN_EA \n",
    "GERMAN_EA \n",
    "JHS_ARIC_AA \n",
    "MINNESOTA_TWINS_EA \n",
    "NONGAIN_EA \n",
    "NTR_EA \n",
    "SAGE_AA \n",
    "SAGE_EA \n",
    "UW-TTURC_AA \n",
    "UW_TTURC_EA \n",
    "YALE_PENN_AA \n",
    "YALE_PENN_EA\n",
    "```\n",
    "\n",
    "## EA-specific cohorts\n",
    "```\n",
    "COGEND_EA\n",
    "COGEND2_EA  \n",
    "COPDGENE1_EA  \n",
    "COPDGENE2_EA  \n",
    "DECODE_EA \n",
    "DENTAL_CARIES_EA \n",
    "EAGLE_EA \n",
    "EMERGE_EA\n",
    "FINRISK_EA \n",
    "FTC_EA\n",
    "GAIN_EA \n",
    "GERMAN_EA  \n",
    "MINNESOTA_TWINS_EA\n",
    "NONGAIN_EA\n",
    "NTR_EA\n",
    "SAGE_EA\n",
    "UW_TTURC_EA\n",
    "YALE_PENN_EA\n",
    "```\n",
    "## AA-specific cohorts\n",
    "```\n",
    "AAND_AA \n",
    "ADAA_AA\n",
    "COGEND_AA  \n",
    "COGEND2_AA  \n",
    "COPDGENE1_AA  \n",
    "COPDGENE2_AA     \n",
    "GAIN_AA \n",
    "JHS_ARIC_AA \n",
    "SAGE_AA\n",
    "UW-TTURC_AA\n",
    "YALE_PENN_AA\n",
    "```"
   ]
  },
  {
   "cell_type": "code",
   "execution_count": null,
   "metadata": {},
   "outputs": [],
   "source": []
  },
  {
   "cell_type": "markdown",
   "metadata": {},
   "source": [
    "## Upload to S3"
   ]
  },
  {
   "cell_type": "code",
   "execution_count": null,
   "metadata": {},
   "outputs": [],
   "source": [
    "aws s3 cp . s3://rti-nd/META/1df/cross.ancestry.eur18cohorts.afr.11cohorts.1000G_p3/ --recursive --quiet &\n",
    "aws s3 cp . s3://rti-nd/META/1df/eur.ancestry.eur18cohorts.1000G_p3/ --recursive --quiet &\n",
    "aws s3 mv s3://rti-common/GTEx_phs000424/PhenoGenotypeFiles/RootStudyConsentSet-phs000424.GTEx.v7.p2.c1.GRU/phg000830.v1.GTEx_WGS.genotype-calls-vcf.c1.GRU.tar.gz s3://rti-common/GTEx_phs000424/PhenoGenotypeFiles/RootStudyConsentSet_phs000424.GTEx.v7.p2.c1.GRU/phg000830.v1.GTEx_WGS.genotype-calls-vcf.c1.GRU.tar.gz"
   ]
  }
 ],
 "metadata": {
  "kernelspec": {
   "display_name": "R",
   "language": "R",
   "name": "ir"
  },
  "language_info": {
   "codemirror_mode": "r",
   "file_extension": ".r",
   "mimetype": "text/x-r-source",
   "name": "R",
   "pygments_lexer": "r",
   "version": "3.4.3"
  },
  "toc": {
   "nav_menu": {},
   "number_sections": true,
   "sideBar": true,
   "skip_h1_title": false,
   "toc_cell": false,
   "toc_position": {},
   "toc_section_display": "block",
   "toc_window_display": false
  }
 },
 "nbformat": 4,
 "nbformat_minor": 2
}
