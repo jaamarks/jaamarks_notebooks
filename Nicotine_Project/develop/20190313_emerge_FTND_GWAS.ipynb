{
 "cells": [
  {
   "cell_type": "markdown",
   "metadata": {
    "toc": true
   },
   "source": [
    "<h1>Table of Contents<span class=\"tocSkip\"></span></h1>\n",
    "<div class=\"toc\"><ul class=\"toc-item\"><li><span><a href=\"#eMERGE--CAT_FTND-GWAS—Revisit\" data-toc-modified-id=\"eMERGE--CAT_FTND-GWAS—Revisit-1\"><span class=\"toc-item-num\">1&nbsp;&nbsp;</span>eMERGE  CAT_FTND GWAS—Revisit</a></span><ul class=\"toc-item\"><li><span><a href=\"#Software-and-tools\" data-toc-modified-id=\"Software-and-tools-1.1\"><span class=\"toc-item-num\">1.1&nbsp;&nbsp;</span>Software and tools</a></span></li><li><span><a href=\"#FTNDboth_cat-variable-description\" data-toc-modified-id=\"FTNDboth_cat-variable-description-1.2\"><span class=\"toc-item-num\">1.2&nbsp;&nbsp;</span>FTNDboth_cat variable description</a></span></li></ul></li><li><span><a href=\"#Prepare-files-for-ProbABEL\" data-toc-modified-id=\"Prepare-files-for-ProbABEL-2\"><span class=\"toc-item-num\">2&nbsp;&nbsp;</span>Prepare files for ProbABEL</a></span><ul class=\"toc-item\"><li><span><a href=\"#Phenotype-Data\" data-toc-modified-id=\"Phenotype-Data-2.1\"><span class=\"toc-item-num\">2.1&nbsp;&nbsp;</span>Phenotype Data</a></span><ul class=\"toc-item\"><li><span><a href=\"#Convert-&amp;-Filter\" data-toc-modified-id=\"Convert-&amp;-Filter-2.1.1\"><span class=\"toc-item-num\">2.1.1&nbsp;&nbsp;</span>Convert &amp; Filter</a></span></li><li><span><a href=\"#WstFTND-and-CurFTND-Distributions\" data-toc-modified-id=\"WstFTND-and-CurFTND-Distributions-2.1.2\"><span class=\"toc-item-num\">2.1.2&nbsp;&nbsp;</span>WstFTND and CurFTND Distributions</a></span></li><li><span><a href=\"#PCA-(EIGENSTRAT)\" data-toc-modified-id=\"PCA-(EIGENSTRAT)-2.1.3\"><span class=\"toc-item-num\">2.1.3&nbsp;&nbsp;</span>PCA (EIGENSTRAT)</a></span><ul class=\"toc-item\"><li><span><a href=\"#Construct-subject-filtered-PLINK-file-sets\" data-toc-modified-id=\"Construct-subject-filtered-PLINK-file-sets-2.1.3.1\"><span class=\"toc-item-num\">2.1.3.1&nbsp;&nbsp;</span>Construct subject-filtered PLINK file sets</a></span></li><li><span><a href=\"#Remove-high-LD-region-variants\" data-toc-modified-id=\"Remove-high-LD-region-variants-2.1.3.2\"><span class=\"toc-item-num\">2.1.3.2&nbsp;&nbsp;</span>Remove high-LD region variants</a></span></li><li><span><a href=\"#Linkage-disequilibrium-pruning\" data-toc-modified-id=\"Linkage-disequilibrium-pruning-2.1.3.3\"><span class=\"toc-item-num\">2.1.3.3&nbsp;&nbsp;</span>Linkage disequilibrium pruning</a></span></li><li><span><a href=\"#Rename-BIM/FAM-file-IDs\" data-toc-modified-id=\"Rename-BIM/FAM-file-IDs-2.1.3.4\"><span class=\"toc-item-num\">2.1.3.4&nbsp;&nbsp;</span>Rename BIM/FAM file IDs</a></span></li><li><span><a href=\"#Run-EIGENSTRAT\" data-toc-modified-id=\"Run-EIGENSTRAT-2.1.3.5\"><span class=\"toc-item-num\">2.1.3.5&nbsp;&nbsp;</span>Run EIGENSTRAT</a></span></li><li><span><a href=\"#Extract-eigenvectors\" data-toc-modified-id=\"Extract-eigenvectors-2.1.3.6\"><span class=\"toc-item-num\">2.1.3.6&nbsp;&nbsp;</span>Extract eigenvectors</a></span></li><li><span><a href=\"#View-PCs-from-EIGENSTRAT\" data-toc-modified-id=\"View-PCs-from-EIGENSTRAT-2.1.3.7\"><span class=\"toc-item-num\">2.1.3.7&nbsp;&nbsp;</span>View PCs from EIGENSTRAT</a></span></li></ul></li><li><span><a href=\"#PC-Selection\" data-toc-modified-id=\"PC-Selection-2.1.4\"><span class=\"toc-item-num\">2.1.4&nbsp;&nbsp;</span>PC Selection</a></span><ul class=\"toc-item\"><li><span><a href=\"#Create-ped-file\" data-toc-modified-id=\"Create-ped-file-2.1.4.1\"><span class=\"toc-item-num\">2.1.4.1&nbsp;&nbsp;</span>Create ped file</a></span></li><li><span><a href=\"#Create-cov-file\" data-toc-modified-id=\"Create-cov-file-2.1.4.2\"><span class=\"toc-item-num\">2.1.4.2&nbsp;&nbsp;</span>Create cov file</a></span></li><li><span><a href=\"#Regression-analysis\" data-toc-modified-id=\"Regression-analysis-2.1.4.3\"><span class=\"toc-item-num\">2.1.4.3&nbsp;&nbsp;</span>Regression analysis</a></span></li><li><span><a href=\"#Percent-Variance-Explained-Visualization\" data-toc-modified-id=\"Percent-Variance-Explained-Visualization-2.1.4.4\"><span class=\"toc-item-num\">2.1.4.4&nbsp;&nbsp;</span>Percent Variance Explained Visualization</a></span></li></ul></li><li><span><a href=\"#Construct-a-phenotype-file-for-ProbABEL-with-PCs\" data-toc-modified-id=\"Construct-a-phenotype-file-for-ProbABEL-with-PCs-2.1.5\"><span class=\"toc-item-num\">2.1.5&nbsp;&nbsp;</span>Construct a phenotype file for ProbABEL with PCs</a></span></li></ul></li><li><span><a href=\"#Genotype-Data\" data-toc-modified-id=\"Genotype-Data-2.2\"><span class=\"toc-item-num\">2.2&nbsp;&nbsp;</span>Genotype Data</a></span><ul class=\"toc-item\"><li><span><a href=\"#Inflate-imputation-results\" data-toc-modified-id=\"Inflate-imputation-results-2.2.1\"><span class=\"toc-item-num\">2.2.1&nbsp;&nbsp;</span>Inflate imputation results</a></span></li><li><span><a href=\"#Convert-Genotype-File-Format\" data-toc-modified-id=\"Convert-Genotype-File-Format-2.2.2\"><span class=\"toc-item-num\">2.2.2&nbsp;&nbsp;</span>Convert Genotype File Format</a></span></li><li><span><a href=\"#Prune-MaCH-files\" data-toc-modified-id=\"Prune-MaCH-files-2.2.3\"><span class=\"toc-item-num\">2.2.3&nbsp;&nbsp;</span>Prune MaCH files</a></span></li><li><span><a href=\"#Reorder-phenotype-file\" data-toc-modified-id=\"Reorder-phenotype-file-2.2.4\"><span class=\"toc-item-num\">2.2.4&nbsp;&nbsp;</span>Reorder phenotype file</a></span></li><li><span><a href=\"#create-legend\" data-toc-modified-id=\"create-legend-2.2.5\"><span class=\"toc-item-num\">2.2.5&nbsp;&nbsp;</span>create legend</a></span></li><li><span><a href=\"#Format-info-file\" data-toc-modified-id=\"Format-info-file-2.2.6\"><span class=\"toc-item-num\">2.2.6&nbsp;&nbsp;</span>Format info file</a></span></li></ul></li></ul></li><li><span><a href=\"#Perform-ProbABEL-analysis\" data-toc-modified-id=\"Perform-ProbABEL-analysis-3\"><span class=\"toc-item-num\">3&nbsp;&nbsp;</span>Perform ProbABEL analysis</a></span><ul class=\"toc-item\"><li><ul class=\"toc-item\"><li><span><a href=\"#Check-for-completion\" data-toc-modified-id=\"Check-for-completion-3.0.1\"><span class=\"toc-item-num\">3.0.1&nbsp;&nbsp;</span>Check for completion</a></span></li><li><span><a href=\"#GZIP-dose-files\" data-toc-modified-id=\"GZIP-dose-files-3.0.2\"><span class=\"toc-item-num\">3.0.2&nbsp;&nbsp;</span>GZIP dose files</a></span></li><li><span><a href=\"#Calculate-chi,-p,-and-OR\" data-toc-modified-id=\"Calculate-chi,-p,-and-OR-3.0.3\"><span class=\"toc-item-num\">3.0.3&nbsp;&nbsp;</span>Calculate chi, p, and OR</a></span></li><li><span><a href=\"#Convert-IDs-to-1KG-phase-3-impute2-format\" data-toc-modified-id=\"Convert-IDs-to-1KG-phase-3-impute2-format-3.0.4\"><span class=\"toc-item-num\">3.0.4&nbsp;&nbsp;</span>Convert IDs to 1KG phase 3 impute2 format</a></span></li><li><span><a href=\"#SNP-Lookup\" data-toc-modified-id=\"SNP-Lookup-3.0.5\"><span class=\"toc-item-num\">3.0.5&nbsp;&nbsp;</span>SNP Lookup</a></span></li><li><span><a href=\"#Filter-results\" data-toc-modified-id=\"Filter-results-3.0.6\"><span class=\"toc-item-num\">3.0.6&nbsp;&nbsp;</span>Filter results</a></span><ul class=\"toc-item\"><li><span><a href=\"#MAF->-1%-in-Study\" data-toc-modified-id=\"MAF->-1%-in-Study-3.0.6.1\"><span class=\"toc-item-num\">3.0.6.1&nbsp;&nbsp;</span>MAF &gt; 1% in Study</a></span></li><li><span><a href=\"#MAF->-1%-in-1000G\" data-toc-modified-id=\"MAF->-1%-in-1000G-3.0.6.2\"><span class=\"toc-item-num\">3.0.6.2&nbsp;&nbsp;</span>MAF &gt; 1% in 1000G</a></span></li></ul></li><li><span><a href=\"#RSQ->=-30%\" data-toc-modified-id=\"RSQ->=-30%-3.0.7\"><span class=\"toc-item-num\">3.0.7&nbsp;&nbsp;</span>RSQ &gt;= 30%</a></span></li></ul></li></ul></li><li><span><a href=\"#Generate-plots\" data-toc-modified-id=\"Generate-plots-4\"><span class=\"toc-item-num\">4&nbsp;&nbsp;</span>Generate plots</a></span><ul class=\"toc-item\"><li><span><a href=\"#View-Q-Q-and-Manhattan-Plots\" data-toc-modified-id=\"View-Q-Q-and-Manhattan-Plots-4.1\"><span class=\"toc-item-num\">4.1&nbsp;&nbsp;</span>View Q-Q and Manhattan Plots</a></span><ul class=\"toc-item\"><li><span><a href=\"#P-value-filter\" data-toc-modified-id=\"P-value-filter-4.1.1\"><span class=\"toc-item-num\">4.1.1&nbsp;&nbsp;</span>P-value filter</a></span></li></ul></li><li><span><a href=\"#S3-data-transfer\" data-toc-modified-id=\"S3-data-transfer-4.2\"><span class=\"toc-item-num\">4.2&nbsp;&nbsp;</span>S3 data transfer</a></span></li></ul></li></ul></div>"
   ]
  },
  {
   "cell_type": "markdown",
   "metadata": {},
   "source": [
    "# eMERGE  CAT_FTND GWAS—Revisit\n",
    "__Author:__ Jesse Marks <br>\n",
    "**GitHub Issue**: [Issue #66](https://github.com/RTIInternational/bioinformatics/issues/66#issuecomment-470612208)\n",
    "Fagerstrom Test For Nicotine Dependence\n",
    "\n",
    "\n",
    "This document logs the steps taken to process the electronic Medical Records and Genomics (eMERGE) Network data and perform the FTND GWAS. The [eMERGE](https://www.ncbi.nlm.nih.gov/projects/gap/cgi-bin/study.cgi?study_id=phs000360.v1.p1) Network is a consortium of five participating sites (Group Health Seattle, Marshfield Clinic, Mayo Clinic, Northwestern University, and Vanderbilt University). We will be processing the Marshfield cohort.\n",
    "\n",
    "FTND is a standard instrument for assessing the physical addiction to nicotine. For more information, see [this website](https://cde.drugabuse.gov/instrument/d7c0b0f5-b865-e4de-e040-bb89ad43202b).\n",
    "\n",
    "The genotype data were imputed on the [Michigan Imputation Server](https://imputationserver.sph.umich.edu/index.html).\n",
    "\n",
    "* We use the variable `FTNDboth_cat` variable that lumps together the former smokers that have lifetime FTND (N=736) with the current smokers that have current FTND (N=78). This will optimize sample size, especially since the severe category is slim.\n",
    "\n",
    "\n",
    "**Update:** We are redoing the analysis because the sex coding was wrong the last time we did it. In particular, we had the sex coded as M/F when it should have been coded 0/1 according to the ProbABEL software that we use.\n",
    "\n",
    "**Update #2:** Looking into why the age variable `px010101_age` was not included in the model.\n",
    "\n",
    "Data downloaded from dbGaP and stored on S3 at:\n",
    "`rti-common/dbGaP/phs000170_cataract/`"
   ]
  },
  {
   "cell_type": "markdown",
   "metadata": {},
   "source": [
    "## Software and tools\n",
    "The software and tools used for processing these data are\n",
    "\n",
    "* [Amazon Elastic Compute Cloud(EC2)](https://aws.amazon.com/ec2/)\n",
    "* GNU bash version 4.1.2\n",
    "* [PLINK v1.9 beta 3.45](https://www.cog-genomics.org/plink/)\n",
    "* [EIGENSOFT v4.2](https://www.hsph.harvard.edu/alkes-price/software/)\n",
    "* [R v3.2.3](https://www.r-project.org/)\n",
    "* R packages: MASS, moments\n",
    "* [ProbABEL](http://www.genabel.org/packages/ProbABEL)\n",
    "* [DosageConverter](https://genome.sph.umich.edu/wiki/DosageConvertor)"
   ]
  },
  {
   "cell_type": "markdown",
   "metadata": {},
   "source": [
    "## FTNDboth_cat variable description\n",
    "| cat | Freq |\n",
    "|-----|------|\n",
    "| 0   | 537  |\n",
    "| 1   | 217  |\n",
    "| 2   | 60   |\n",
    "\n",
    "Where FTND conversion is 0=0-3, 1=4-6, and 2=7+"
   ]
  },
  {
   "cell_type": "markdown",
   "metadata": {},
   "source": [
    "# Prepare files for ProbABEL"
   ]
  },
  {
   "cell_type": "markdown",
   "metadata": {},
   "source": [
    "## Phenotype Data"
   ]
  },
  {
   "cell_type": "markdown",
   "metadata": {},
   "source": [
    "### Convert & Filter\n",
    "Convert to CSV file from Stata format. Then, filter down to just complete cases—i.e. no missing age, sex, or FTND data."
   ]
  },
  {
   "cell_type": "code",
   "execution_count": 52,
   "metadata": {},
   "outputs": [
    {
     "name": "stdout",
     "output_type": "stream",
     "text": [
      "Table of FTNDboth_cat variable"
     ]
    },
    {
     "data": {
      "text/plain": [
       "\n",
       "  0   1   2 \n",
       "537 217  60 "
      ]
     },
     "metadata": {},
     "output_type": "display_data"
    },
    {
     "name": "stdout",
     "output_type": "stream",
     "text": [
      "Number of initial subjects 2269 \n",
      "Number of subjects with FTNDboth_cat data 814 \n",
      "Number of with FTND & Sex:  801 \n",
      "Number of with FTND & Sex & Age:  801 \n",
      "Mean age: 72.11361"
     ]
    }
   ],
   "source": [
    "### R console (on local machine) ###\n",
    "#library(readstata13)\n",
    "library(haven)\n",
    "\n",
    "setwd('C:/Users/jmarks/OneDrive - Research Triangle Institute/Projects/Nicotine/eMerge/phenotype/') # local machine\n",
    "\n",
    "## convert Stata data into tab separated ##\n",
    "#pheno.ftnd <- read_dta(\"unprocessed/FTND Phenotype.dta\") # .dta is strata format\n",
    "#write.table(pheno.ftnd, file = \"processing/FTND_Phenotype.tsv\", sep=\"\\t\", row.names=F, quote=F)\n",
    "#pheno.dbgap <- read.table(\"unprocessed/phs000170.v2.pht000737.v1.p1.c1.Marshfield_Data_Phenotype.HMB-GSO.txt\", \n",
    "#                         header = T) # original data without FTND data\n",
    "\n",
    "#head(pheno.ftnd)\n",
    "cat(\"Table of FTNDboth_cat variable\")\n",
    "table(pheno.ftnd$FTNDboth_cat)\n",
    "num.subjects <- length(pheno.ftnd$emergeid)\n",
    "\n",
    "column_header <- c(\"id\", \"age\", \"ftnd\", \"sex\") # note might have other covariates such as age\n",
    "df <- data.frame(pheno.ftnd$emergeid, pheno.ftnd$px010101_age, \n",
    "                pheno.ftnd$FTNDboth_cat)\n",
    "                            \n",
    "# fill in sex data\n",
    "for (i in 1:num.subjects) {\n",
    "    index <- match(pheno.ftnd[i,\"emergeid\"], pheno.dbgap[[\"SUBJID\"]])\n",
    "    mf <- as.character(pheno.dbgap[index, \"sex\"])\n",
    "    if (is.na(mf) ){\n",
    "        mf <- NA\n",
    "    } else if (mf == \"M\"){\n",
    "        mf <- 0\n",
    "    } else {\n",
    "        mf <- 1\n",
    "    }\n",
    "    df[i,\"sex\"] <- mf\n",
    "}\n",
    "\n",
    "names(df) <- column_header\n",
    "cat(\"Number of initial subjects\", length(df[,1]), \"\\n\")\n",
    "ftnd_complete  <- length(df[complete.cases(df$ftnd),1])\n",
    "df <- df[complete.cases(df$ftnd),]\n",
    "sex_complete <- length(df[complete.cases(df$sex),1])\n",
    "df <- df[complete.cases(df$sex),]\n",
    "age_complete <- length(df[complete.cases(df$age),1])\n",
    "df <- df[complete.cases(df$age),]\n",
    "\n",
    "\n",
    "cat(\"Number of subjects with FTNDboth_cat data\",ftnd_complete, \"\\n\")\n",
    "cat(\"Number of with FTND & Sex: \", sex_complete, \"\\n\")\n",
    "cat(\"Number of with FTND & Sex & Age: \", age_complete, \"\\n\")\n",
    "cat(\"Mean age:\", mean(df$age))\n",
    "write.table(df, \"processing/emerge.age.sex.ftnd.20190313.tsv\", sep = \"\\t\", row.names = F, quote = F)"
   ]
  },
  {
   "cell_type": "markdown",
   "metadata": {},
   "source": [
    "| Filtering Criterion | Subjects Removed | Total |\n",
    "|---------------------|------------------|-------|\n",
    "| Initial Data        | 0                | 2269  |\n",
    "| Missing FTND        | 1455             | 814   |\n",
    "| Missing sex         | 13               | 801   |\n",
    "| Missing age         | 0                | 801   |\n",
    "| Missing genotype    | 71               | 730   |\n"
   ]
  },
  {
   "cell_type": "markdown",
   "metadata": {},
   "source": [
    "### WstFTND and CurFTND Distributions\n",
    "The following message is from Dana Hancock on 20190313:\n",
    "\n",
    "```css\n",
    "As for the FTND variable, I'm curious that the N is different from before: 799 vs. 730. The FTNDboth_cat variable is comprised of WstFTND (lifetime FTND among former smokers only) and CurFTND (current FTND among current smokers only). Can you please provide the FTND distributions based on WstFTND and CurFTND seperately?\n",
    "```"
   ]
  },
  {
   "cell_type": "code",
   "execution_count": 61,
   "metadata": {
    "scrolled": false
   },
   "outputs": [
    {
     "data": {
      "text/html": [
       "736"
      ],
      "text/latex": [
       "736"
      ],
      "text/markdown": [
       "736"
      ],
      "text/plain": [
       "[1] 736"
      ]
     },
     "metadata": {},
     "output_type": "display_data"
    },
    {
     "data": {
      "text/plain": [
       "\n",
       "  0   1   2   3   4   5   6   7   8   9  10 \n",
       "164 114 116 104  73  66  44  29  17   8   1 "
      ]
     },
     "metadata": {},
     "output_type": "display_data"
    },
    {
     "data": {
      "text/html": [
       "78"
      ],
      "text/latex": [
       "78"
      ],
      "text/markdown": [
       "78"
      ],
      "text/plain": [
       "[1] 78"
      ]
     },
     "metadata": {},
     "output_type": "display_data"
    },
    {
     "data": {
      "text/plain": [
       "\n",
       " 0  1  2  3  4  5  6  7  8  9 \n",
       "10  6  8 15 16 10  8  3  1  1 "
      ]
     },
     "metadata": {},
     "output_type": "display_data"
    },
    {
     "data": {
      "image/png": "[encoded data removed]",
      "text/plain": [
       "Plot with title \"FTNDboth_cat\""
      ]
     },
     "metadata": {},
     "output_type": "display_data"
    },
    {
     "data": {
      "image/png": "[encoded data removed]",
      "text/plain": [
       "Plot with title \"CurFTND\""
      ]
     },
     "metadata": {},
     "output_type": "display_data"
    },
    {
     "data": {
      "image/png": "[encoded data removed]",
      "text/plain": [
       "Plot with title \"WstFTND\""
      ]
     },
     "metadata": {},
     "output_type": "display_data"
    }
   ],
   "source": [
    "ws_cur <- data.frame(pheno.ftnd$WstFTND, pheno.ftnd$CurFTND)\n",
    "sum(table(pheno.ftnd$WstFTND))\n",
    "table(pheno.ftnd$WstFTND)\n",
    "sum(table(pheno.ftnd$CurFTND))\n",
    "table(pheno.ftnd$CurFTND)\n",
    "\n",
    "## FTNDboth_cat\n",
    "ylim = 1.5*c(0, max(table(df$ftnd)))\n",
    "cur <- barplot(table(df$ftnd), ylim = ylim, col=\"blue\",\n",
    "              xlab=\"Categorical FTND score\", ylab=\"Frequency\")\n",
    "y<-as.matrix(table(df$ftnd))\n",
    "text(cur, y+22,labels=as.character(y))\n",
    "title(\"FTNDboth_cat\", line = -4)\n",
    "\n",
    "## CurFTND\n",
    "ylim = 1.5*c(0, max(table(pheno.ftnd$CurFTND)))\n",
    "cur <- barplot(table(pheno.ftnd$CurFTND), ylim = ylim, col=\"dark green\",\n",
    "              xlab=\"FTND score\", ylab=\"Frequency\")\n",
    "y<-as.matrix(table(pheno.ftnd$CurFTND))\n",
    "text(cur, y+0.5,labels=as.character(y))\n",
    "title(\"CurFTND\", line = -4)\n",
    "\n",
    "## WstFTND\n",
    "ylim = 1.5*c(0, max(table(pheno.ftnd$WstFTND)))\n",
    "ws <- barplot(table(pheno.ftnd$WstFTND), ylim = ylim, col=\"red\",\n",
    "              xlab=\"FTND score\", ylab=\"Frequency\")\n",
    "y<-as.matrix(table(pheno.ftnd$WstFTND))\n",
    "text(ws, y+6,labels=as.character(y))\n",
    "title(\"WstFTND\", line = -4)"
   ]
  },
  {
   "cell_type": "markdown",
   "metadata": {},
   "source": [
    "### PCA (EIGENSTRAT)\n",
    "\n",
    "To obtain principal component covariates to use in the GWAS statistical model, EIGENSTRAT is run on LD-pruned observed genotypes for each ancestry group. \n",
    "\n",
    "#### Construct subject-filtered PLINK file sets"
   ]
  },
  {
   "cell_type": "code",
   "execution_count": null,
   "metadata": {
    "collapsed": true
   },
   "outputs": [],
   "source": [
    "study=emerge\n",
    "genD=/shared/jmarks/nicotine/emerge/genotype/observed\n",
    "phenD=/shared/jmarks/nicotine/emerge/phenotype/processing\n",
    "mkdir -p $phenD/eig/results\n",
    "\n",
    "cut -d\" \" -f2 $genD/*fam > $phenD/gen.ids.N3441\n",
    "\n",
    "# note that I sorted the files\n",
    "comm -12 $phenD/gen.ids.N3441.sorted $phenD/phen.ids.N801.sorted >\\\n",
    "    $phenD/geno.intersect.pheno.ids.N730\n",
    "paste $phenD/geno.intersect.pheno.ids.N730 $phenD/geno.intersect.pheno.ids.N730 >\\\n",
    "    $phenD/subject.ids.keep\n",
    "\n",
    "# Remove subjects by phenotype criteria\n",
    "/shared/bioinformatics/software/third_party/plink-1.90-beta-4.10-x86_64/plink \\\n",
    "    --noweb \\\n",
    "    --memory 2048 \\\n",
    "    --bfile $genD/ea_chr_all \\\n",
    "    --keep $phenD/subject.ids.keep \\\n",
    "    --make-bed \\\n",
    "    --out $phenD/eig/${study}.filtered"
   ]
  },
  {
   "cell_type": "markdown",
   "metadata": {},
   "source": [
    "__Note__: The phenotype data had 814 subjects while the genotype data only had 730 subjects."
   ]
  },
  {
   "cell_type": "markdown",
   "metadata": {},
   "source": [
    "#### Remove high-LD region variants"
   ]
  },
  {
   "cell_type": "code",
   "execution_count": null,
   "metadata": {
    "collapsed": true
   },
   "outputs": [],
   "source": [
    "## Remove high-LD region variants\n",
    "# Generate list of variants in known high-LD regions\n",
    "perl -lane 'if (($F[0]==5 && $F[3] >= 43964243 && $F[3] <= 51464243) || ($F[0]==6 && $F[3] >= 24892021 && $F[3] <= 33392022) || ($F[0]==8 && $F[3] >= 7962590 && $F[3] <= 11962591) || ($F[0]==11 && $F[3] >= 45043424 && $F[3] <= 57243424)) { print $F[1].\"\\n\"; }' \\\n",
    "    $phenD/eig/$study.filtered.bim > $phenD/eig/$study.high_ld_regions.remove\n",
    "\n",
    "# Remove SNPs in known high-LD regions\n",
    "/shared/bioinformatics/software/third_party/plink-1.90-beta-4.10-x86_64/plink \\\n",
    "    --noweb \\\n",
    "    --bfile $phenD/eig/$study.filtered \\\n",
    "    --exclude $phenD/eig/$study.high_ld_regions.remove \\\n",
    "    --make-bed \\\n",
    "    --out $phenD/eig/$study.filtered.high_ld_regions_removed"
   ]
  },
  {
   "cell_type": "markdown",
   "metadata": {},
   "source": [
    "#### Linkage disequilibrium pruning\n",
    "Linkage disequilibrium (LD) pruning eliminates a large degree of redundancy in the data and reduces the influence of chromosomal artifacts. The objective of LD pruning is to select a subset of variants based off of LD such that the variants in the subset are indepdendent. This filtering will not carry forward to the final processed results, but this step improves the quality of EIGENSTRAT calculations. Consequently, the LD pruned data will be used as input for those calculations.\n",
    "\n",
    "LD pruning is implemented using PLINK `--indep-pairwise.` "
   ]
  },
  {
   "cell_type": "code",
   "execution_count": null,
   "metadata": {
    "collapsed": true
   },
   "outputs": [],
   "source": [
    "## Remove high-LD region variants\n",
    "# Run per chromosome LD pruning for each chr\n",
    "for chr in {1..22}; do\n",
    "    sh /shared/bioinformatics/software/scripts/qsub_job.sh \\\n",
    "        --job_name $study.${chr}_ld_prune \\\n",
    "        --script_prefix $phenD/eig/$study.chr${chr}.ld_pruned \\\n",
    "        --mem 3.5 \\\n",
    "        --nslots 2 \\\n",
    "        --priority 0 \\\n",
    "        --program /shared/bioinformatics/software/third_party/plink-1.90-beta-4.10-x86_64/plink \\\n",
    "            --noweb \\\n",
    "            --memory 3500 \\\n",
    "            --bfile $phenD/eig/$study.filtered.high_ld_regions_removed \\\n",
    "            --indep-pairwise 1500 150 0.2 \\\n",
    "            --chr ${chr} \\\n",
    "            --out $phenD/eig/$study.chr${chr}_ld_pruned\n",
    "done\n",
    "\n",
    "\n",
    "#Create LD pruned PLINK file sets\n",
    "cat $phenD/eig/$study.chr*_ld_pruned.prune.in > $phenD/eig/$study.chr_all_ld_pruned.prune.in\n",
    "\n",
    "# Create new PLINK filesets with only lD pruned variants\n",
    "/shared/bioinformatics/software/third_party/plink-1.90-beta-4.10-x86_64/plink \\\n",
    "    --noweb \\\n",
    "    --memory 2048 \\\n",
    "    --bfile $phenD/eig/$study.filtered.high_ld_regions_removed \\\n",
    "    --extract $phenD/eig/$study.chr_all_ld_pruned.prune.in \\\n",
    "    --make-bed \\\n",
    "    --out $phenD/eig/$study.ld_pruned\n",
    "\n",
    "\n",
    "# Clean up\n",
    "rm *ld_pruned.{prune.in,prune.out,log}\n",
    "rm *qsub*\n",
    "rm *high_ld_regions*\n",
    "rm *nosex\n",
    "rm *pheno_filter*"
   ]
  },
  {
   "cell_type": "markdown",
   "metadata": {},
   "source": [
    "#### Rename BIM/FAM file IDs\n",
    "BIM and FAM file IDs have the potential issue of being too long if encoded using the 1000 Genomes Phase 3 IMPUTE2 format. This will cause `smartpca` to throw an error. To resolve this the IDs are replaced by numeric values if needed. "
   ]
  },
  {
   "cell_type": "code",
   "execution_count": null,
   "metadata": {
    "collapsed": true
   },
   "outputs": [],
   "source": [
    "# Count ID lengths greater than 39 characters\n",
    "echo -e \"\\n\\n======== ${ancestry} ========\\n\\n\"\n",
    "awk '{ if(length($1)+length($2)>39){print $2} }' $phenD/eig/$study.ld_pruned.fam | wc -l\n",
    "awk '{ if(length($2)>39){print $2} }' $phenD/eig/$study.ld_pruned.bim | wc -l\n",
    "\n",
    "# Rename BIM file IDs\n",
    "# Make new BIM\n",
    "#awk '{$2=\"ID_\"NR; print $0}' ${ancestry}_ld_pruned.bim \\\n",
    "#    > ${ancestry}_ld_pruned_id_renamed.bim\n",
    "\n",
    "# Rename FAM file IDs\n",
    "# Make new FAM\n",
    "#awk '{$1=\"ID_\"NR; print $0}' ${ancestry}_ld_pruned.fam \\\n",
    "#   > ${ancestry}_ld_pruned_id_renamed.fam"
   ]
  },
  {
   "cell_type": "markdown",
   "metadata": {},
   "source": [
    "__Note__: we did not have to rename the BIM or FAM files for this case. "
   ]
  },
  {
   "cell_type": "markdown",
   "metadata": {},
   "source": [
    "#### Run EIGENSTRAT\n",
    "__NOTE__: For `smartpca` to run, the BIM and FAM file IDs need to be less than 39 characters in length. Often this is not a problem, but with a BIM file that has IDs renamed to the 1000 Genomes Phase 3 format, the IDs for indels can exceed the character limit. Also, the EIGENSOFT bin directory should be in ~/.bashrc as an addition to the PATH variable. If it is not, it can be added as following\n",
    "\n",
    "`export PATH=$PATH:/shared/bioinformatics/software/third_party/EIG-6.1.4/bin/` # Add EIGENSOFT bin to path\n",
    "\n",
    "The `smartpca.pl` program documentation is shown below:\n",
    "\n",
    "\n",
    "DOCUMENTATION of `smartpca.pl` program:\n",
    "\n",
    "This program calls the `smartpca` program (see ../POPGEN/README). \n",
    "For this to work, the bin directory containing `smartpca` MUST be in your path. \n",
    "See `./example.perl` for a toy example.\n",
    "```\n",
    "../bin/smartpca.pl \n",
    "-i example.geno  : genotype file in any format (see ../CONVERTF/README)\n",
    "-a example.snp   : snp file in any format (see ../CONVERTF/README)\n",
    "-b example.ind   : indiv file in any format (see ../CONVERTF/README)\n",
    "-k k             : (Default is 10) number of principal components to output\n",
    "-o example.pca   : output file of principal components.  Individuals removed\n",
    "                   as outliers will have all values set to 0.0 in this file.\n",
    "-p example.plot  : prefix of output plot files of top 2 principal components.\n",
    "                   (labeling individuals according to labels in indiv file)\n",
    "-e example.eval  : output file of all eigenvalues\n",
    "-l example.log   : output logfile\n",
    "-m maxiter       : (Default is 5) maximum number of outlier removal iterations.\n",
    "                   To turn off outlier removal, set -m 0.\n",
    "-t topk          : (Default is 10) number of principal components along which \n",
    "                   to remove outliers during each outlier removal iteration.\n",
    "-s sigma         : (Default is 6.0) number of standard deviations which an\n",
    "                   individual must exceed, along one of topk top principal\n",
    "           components, in order to be removed as an outlier.\n",
    "\n",
    "OPTIONAL FLAGS:\n",
    "-w poplist       : compute eigenvectors using populations in poplist only,\n",
    "                   where poplist is an ASCII file with one population per line\n",
    "-y plotlist      : output plot will include populations in plotlist only, \n",
    "                   where plotlist is an ASCII file with one population per line\n",
    "-z badsnpname    : list of SNPs which should be excluded from the analysis\n",
    "-q YES/NO        : If set to YES, assume that there is a single population and\n",
    "                   the population field contains real-valued phenotypes.\n",
    "           (Corresponds to qtmode parameter in smartpca program.)\n",
    "           The default value for this parameter is NO.\n",
    "\n",
    "Estimated running time of the smartpca program is \n",
    "  2.5e-12 * nSNP * NSAMPLES^2 hours            if not removing outliers.\n",
    "  2.5e-12 * nSNP * NSAMPLES^2 hours * (1+m)    if m outlier removal iterations.\n",
    "Thus, under the default of up to 5 outlier removal iterations, running time is \n",
    "  up to 1.5e-11 * nSNP * NSAMPLES^2 hours.```"
   ]
  },
  {
   "cell_type": "code",
   "execution_count": null,
   "metadata": {
    "collapsed": true
   },
   "outputs": [],
   "source": [
    "# Run EIGENSTRAT smartpca \n",
    "# Run smartpca\n",
    "sh /shared/bioinformatics/software/scripts/qsub_job.sh \\\n",
    "    --job_name ${study}_smartpca \\\n",
    "    --script_prefix $phenD/eig/results/smartpca_${study} \\\n",
    "    --mem 13.5 \\\n",
    "    --nslots 2 \\\n",
    "    --priority 0 \\\n",
    "    --program /shared/bioinformatics/software/third_party/EIG-6.1.4/bin/smartpca.perl \\\n",
    "        -i $phenD/eig/${study}.ld_pruned.bed \\\n",
    "        -a $phenD/eig/${study}.ld_pruned.bim \\\n",
    "        -b $phenD/eig/${study}.ld_pruned.fam \\\n",
    "        -o $phenD/eig/results/${study}.ld_pruned.pca \\\n",
    "        -p $phenD/eig/results/${study}.ld_pruned.plot \\\n",
    "        -e $phenD/eig/results/${study}.ld_pruned.eval \\\n",
    "        -l $phenD/eig/results/${study}.ld_pruned.pca.log \\\n",
    "        -m 0"
   ]
  },
  {
   "cell_type": "markdown",
   "metadata": {},
   "source": [
    "#### Extract eigenvectors"
   ]
  },
  {
   "cell_type": "code",
   "execution_count": null,
   "metadata": {
    "collapsed": true
   },
   "outputs": [],
   "source": [
    "# Grab top 10 eigenvectors from PCA \n",
    "# Extract eigenvectors\n",
    "echo \"FID IID EV1 EV2 EV3 EV4 EV5 EV6 EV7 EV8 EV9 EV10\" > \\\n",
    "    $phenD/eig/results/$study.ld_pruned_top10_eigenvecs.txt\n",
    "tail -n +2 $phenD/eig/results/$study.ld_pruned.pca.evec | \\\n",
    "    perl -lne 's/:/ /; @F=split; print join(\" \",$F[0],$F[1],$F[2],$F[3],$F[4],$F[5],$F[6],$F[7],$F[8],$F[9],$F[10],$F[11]);' \\\n",
    "    >> $study.ld_pruned_top10_eigenvecs.txt"
   ]
  },
  {
   "cell_type": "markdown",
   "metadata": {},
   "source": [
    "#### View PCs from EIGENSTRAT"
   ]
  },
  {
   "cell_type": "code",
   "execution_count": null,
   "metadata": {
    "collapsed": true
   },
   "outputs": [],
   "source": [
    "## local machine ##\n",
    "# Copy results over to local machine so we can visualize the results.\n",
    "cd /home/jmarks/Desktop/Projects/Nicotine/emerge/phenotype/processing/eig\n",
    "scp -i ~/.ssh/gwas_rsa ec2-user@34.206.166.72:/shared/jmarks/nicotine/emerge/phenotype/processing/eig/results/* ."
   ]
  },
  {
   "cell_type": "code",
   "execution_count": 69,
   "metadata": {},
   "outputs": [
    {
     "data": {
      "text/html": [
       "<table>\n",
       "<thead><tr><th></th><th scope=col>V2</th><th scope=col>V3</th><th scope=col>V4</th><th scope=col>V5</th><th scope=col>V6</th><th scope=col>V7</th><th scope=col>V8</th><th scope=col>V9</th><th scope=col>V10</th><th scope=col>V11</th><th scope=col>V12</th></tr></thead>\n",
       "<tbody>\n",
       "\t<tr><th scope=row>EMERGE-3:16218877</th><td> 0.0008</td><td>0.0104 </td><td>-0.0296</td><td>-0.0086</td><td> 0.0261</td><td>0.0220 </td><td>-0.0161</td><td>-0.0078</td><td> 0.0389</td><td> 0.0059</td><td>???    </td></tr>\n",
       "\t<tr><th scope=row>EMERGE-3:16230920</th><td> 0.0058</td><td>0.0174 </td><td> 0.0160</td><td> 0.0183</td><td> 0.0056</td><td>0.0015 </td><td>-0.0107</td><td>-0.0052</td><td> 0.0451</td><td> 0.0105</td><td>???    </td></tr>\n",
       "\t<tr><th scope=row>EMERGE-8:16220003</th><td>-0.0049</td><td>0.0101 </td><td> 0.0103</td><td> 0.0103</td><td>-0.0119</td><td>0.0040 </td><td> 0.0046</td><td>-0.0001</td><td> 0.0178</td><td>-0.0008</td><td>???    </td></tr>\n",
       "\t<tr><th scope=row>EMERGE-9:16231695</th><td>-0.0071</td><td>0.0134 </td><td> 0.0246</td><td>-0.0143</td><td> 0.0043</td><td>0.0157 </td><td> 0.0142</td><td>-0.0011</td><td>-0.0279</td><td>-0.0102</td><td>???    </td></tr>\n",
       "\t<tr><th scope=row>EMERGE-11:16216270</th><td>-0.0052</td><td>0.0090 </td><td>-0.0351</td><td> 0.0177</td><td>-0.0370</td><td>0.0023 </td><td>-0.0219</td><td>-0.0005</td><td>-0.0182</td><td>-0.0028</td><td>???    </td></tr>\n",
       "</tbody>\n",
       "</table>\n"
      ],
      "text/latex": [
       "\\begin{tabular}{r|lllllllllll}\n",
       "  & V2 & V3 & V4 & V5 & V6 & V7 & V8 & V9 & V10 & V11 & V12\\\\\n",
       "\\hline\n",
       "\tEMERGE-3:16218877 &  0.0008 & 0.0104  & -0.0296 & -0.0086 &  0.0261 & 0.0220  & -0.0161 & -0.0078 &  0.0389 &  0.0059 & ???    \\\\\n",
       "\tEMERGE-3:16230920 &  0.0058 & 0.0174  &  0.0160 &  0.0183 &  0.0056 & 0.0015  & -0.0107 & -0.0052 &  0.0451 &  0.0105 & ???    \\\\\n",
       "\tEMERGE-8:16220003 & -0.0049 & 0.0101  &  0.0103 &  0.0103 & -0.0119 & 0.0040  &  0.0046 & -0.0001 &  0.0178 & -0.0008 & ???    \\\\\n",
       "\tEMERGE-9:16231695 & -0.0071 & 0.0134  &  0.0246 & -0.0143 &  0.0043 & 0.0157  &  0.0142 & -0.0011 & -0.0279 & -0.0102 & ???    \\\\\n",
       "\tEMERGE-11:16216270 & -0.0052 & 0.0090  & -0.0351 &  0.0177 & -0.0370 & 0.0023  & -0.0219 & -0.0005 & -0.0182 & -0.0028 & ???    \\\\\n",
       "\\end{tabular}\n"
      ],
      "text/markdown": [
       "\n",
       "| <!--/--> | V2 | V3 | V4 | V5 | V6 | V7 | V8 | V9 | V10 | V11 | V12 | \n",
       "|---|---|---|---|---|\n",
       "| EMERGE-3:16218877 |  0.0008 | 0.0104  | -0.0296 | -0.0086 |  0.0261 | 0.0220  | -0.0161 | -0.0078 |  0.0389 |  0.0059 | ???     | \n",
       "| EMERGE-3:16230920 |  0.0058 | 0.0174  |  0.0160 |  0.0183 |  0.0056 | 0.0015  | -0.0107 | -0.0052 |  0.0451 |  0.0105 | ???     | \n",
       "| EMERGE-8:16220003 | -0.0049 | 0.0101  |  0.0103 |  0.0103 | -0.0119 | 0.0040  |  0.0046 | -0.0001 |  0.0178 | -0.0008 | ???     | \n",
       "| EMERGE-9:16231695 | -0.0071 | 0.0134  |  0.0246 | -0.0143 |  0.0043 | 0.0157  |  0.0142 | -0.0011 | -0.0279 | -0.0102 | ???     | \n",
       "| EMERGE-11:16216270 | -0.0052 | 0.0090  | -0.0351 |  0.0177 | -0.0370 | 0.0023  | -0.0219 | -0.0005 | -0.0182 | -0.0028 | ???     | \n",
       "\n",
       "\n"
      ],
      "text/plain": [
       "                   V2      V3     V4      V5      V6      V7     V8     \n",
       "EMERGE-3:16218877   0.0008 0.0104 -0.0296 -0.0086  0.0261 0.0220 -0.0161\n",
       "EMERGE-3:16230920   0.0058 0.0174  0.0160  0.0183  0.0056 0.0015 -0.0107\n",
       "EMERGE-8:16220003  -0.0049 0.0101  0.0103  0.0103 -0.0119 0.0040  0.0046\n",
       "EMERGE-9:16231695  -0.0071 0.0134  0.0246 -0.0143  0.0043 0.0157  0.0142\n",
       "EMERGE-11:16216270 -0.0052 0.0090 -0.0351  0.0177 -0.0370 0.0023 -0.0219\n",
       "                   V9      V10     V11     V12\n",
       "EMERGE-3:16218877  -0.0078  0.0389  0.0059 ???\n",
       "EMERGE-3:16230920  -0.0052  0.0451  0.0105 ???\n",
       "EMERGE-8:16220003  -0.0001  0.0178 -0.0008 ???\n",
       "EMERGE-9:16231695  -0.0011 -0.0279 -0.0102 ???\n",
       "EMERGE-11:16216270 -0.0005 -0.0182 -0.0028 ???"
      ]
     },
     "metadata": {},
     "output_type": "display_data"
    }
   ],
   "source": [
    "## R console ##\n",
    "# Load PCA data\n",
    "setwd(dir = \"C:/Users/jmarks/OneDrive - Research Triangle Institute/Projects/Nicotine/emerge/phenotype/processing/\")\n",
    "options(stringsAsFactors=F)\n",
    "ea.evec <- read.table(\"eig/emerge.ld_pruned.pca.evec\",\n",
    "                      comment.char=\"#\", sep=\"\", row.names=1)\n",
    "ea.evec[1:5,]"
   ]
  },
  {
   "cell_type": "code",
   "execution_count": 70,
   "metadata": {
    "scrolled": false
   },
   "outputs": [
    {
     "data": {
      "image/png": "[encoded data removed]",
      "text/plain": [
       "Plot with title \"eMERGE EA\""
      ]
     },
     "metadata": {},
     "output_type": "display_data"
    },
    {
     "data": {
      "image/png": "[encoded data removed]",
      "text/plain": [
       "Plot with title \"eMERGE EA\""
      ]
     },
     "metadata": {},
     "output_type": "display_data"
    }
   ],
   "source": [
    "### R console ###\n",
    "\n",
    "# Function for plotting off-diagonal scatterplots\n",
    "plot.offdiag <- function(x, y, colors=label.colors){\n",
    "    #Make x and y axes equal\n",
    "    limits <- c(min(x,y), max(x,y)) * 1.3\n",
    "    par(usr = c(limits, limits))\n",
    "    points(x,y, col=colors, pch=16)\n",
    "}\n",
    "\n",
    "# Function for plotting diagonal density plots\n",
    "plot.diag <- function(x, colors=label.colors){\n",
    "    d <- density(x, bw=0.01, kernel=\"gaussian\")\n",
    "    #Update plot axes limits\n",
    "    par(usr = c(range(d$x), range(d$y)*1.3))\n",
    "    points(d$x,d$y, type=\"l\")\n",
    "    #Add PC values\n",
    "    points(x=x, y=jitter(rep(mean(d$y),times=d$n),factor=5), col=label.colors, pch=16)\n",
    "}\n",
    "\n",
    "#Run PCA and get % variance\n",
    "ea.dspace <- ea.evec[1:10] #transformed dataspace\n",
    "\n",
    "#Color label samples\n",
    "label.colors <- rgb(0,80,190,80, maxColorValue=255) #blue\n",
    "\n",
    "options(repr.plot.width=8, repr.plot.height=8)\n",
    "#Redefine outer margin\n",
    "par(oma = c(4, 1, 2, 1))\n",
    "pairs(x=ea.dspace[,1:5], panel=plot.offdiag, diag.panel=plot.diag, \n",
    "      labels=paste0(\"PC\",1:5), label.pos=0.9, cex.labels=1.8)\n",
    "par(fig=c(0, 1, 0, 1), oma=c(0, 0, 0, 0), mar=c(0, 0, 1.5, 0), new=TRUE)\n",
    "plot(0, 0, type = \"n\", bty = \"n\", xaxt = \"n\", yaxt = \"n\", main=\"eMERGE EA\", cex.main=1)\n",
    "\n",
    "par(oma = c(4, 1, 2, 1))\n",
    "pairs(x=ea.dspace[,6:10], panel=plot.offdiag, diag.panel=plot.diag, \n",
    "      labels=paste0(\"PC\",6:10), label.pos=0.9, cex.labels=1.8)\n",
    "par(fig=c(0, 1, 0, 1), oma=c(0, 0, 0, 0), mar=c(0, 0, 1.5, 0), new=TRUE)\n",
    "plot(0, 0, type = \"n\", bty = \"n\", xaxt = \"n\", yaxt = \"n\", main=\"eMERGE EA\", cex.main=1)"
   ]
  },
  {
   "cell_type": "markdown",
   "metadata": {},
   "source": [
    "### PC Selection\n",
    "Determine which PCs (eigenvectors) contribute the most influence and include them in the GWAS as covariates. Include the PCs which contribute to at least %75 of the variance.\n",
    "\n",
    "__Note__: we will perform this on our local machine for convenience."
   ]
  },
  {
   "cell_type": "markdown",
   "metadata": {},
   "source": [
    "#### Create ped file\n",
    "\n",
    "The covariates we want to include are and sex and some of the most influential PCs. Sex is encoded as `M=Male` and `F=Female` in these phenotype data. Here we create the `phen` and `cov` PED files so that downstream processing will be easier. Specifically, creating the PED files will make it easier to select the PCs that explain $\\sim75\\%$ of the variance."
   ]
  },
  {
   "cell_type": "code",
   "execution_count": 101,
   "metadata": {},
   "outputs": [
    {
     "data": {
      "text/html": [
       "<table>\n",
       "<thead><tr><th scope=col>id</th><th scope=col>age</th><th scope=col>ftnd</th><th scope=col>sex</th></tr></thead>\n",
       "<tbody>\n",
       "\t<tr><td>16214879</td><td>79      </td><td>0       </td><td>0       </td></tr>\n",
       "\t<tr><td>16214896</td><td>88      </td><td>0       </td><td>1       </td></tr>\n",
       "\t<tr><td>16215196</td><td>73      </td><td>0       </td><td>1       </td></tr>\n",
       "\t<tr><td>16215314</td><td>63      </td><td>0       </td><td>1       </td></tr>\n",
       "\t<tr><td>16215393</td><td>66      </td><td>1       </td><td>1       </td></tr>\n",
       "\t<tr><td>16215396</td><td>68      </td><td>0       </td><td>1       </td></tr>\n",
       "</tbody>\n",
       "</table>\n"
      ],
      "text/latex": [
       "\\begin{tabular}{r|llll}\n",
       " id & age & ftnd & sex\\\\\n",
       "\\hline\n",
       "\t 16214879 & 79       & 0        & 0       \\\\\n",
       "\t 16214896 & 88       & 0        & 1       \\\\\n",
       "\t 16215196 & 73       & 0        & 1       \\\\\n",
       "\t 16215314 & 63       & 0        & 1       \\\\\n",
       "\t 16215393 & 66       & 1        & 1       \\\\\n",
       "\t 16215396 & 68       & 0        & 1       \\\\\n",
       "\\end{tabular}\n"
      ],
      "text/markdown": [
       "\n",
       "id | age | ftnd | sex | \n",
       "|---|---|---|---|---|---|\n",
       "| 16214879 | 79       | 0        | 0        | \n",
       "| 16214896 | 88       | 0        | 1        | \n",
       "| 16215196 | 73       | 0        | 1        | \n",
       "| 16215314 | 63       | 0        | 1        | \n",
       "| 16215393 | 66       | 1        | 1        | \n",
       "| 16215396 | 68       | 0        | 1        | \n",
       "\n",
       "\n"
      ],
      "text/plain": [
       "  id       age ftnd sex\n",
       "1 16214879 79  0    0  \n",
       "2 16214896 88  0    1  \n",
       "3 16215196 73  0    1  \n",
       "4 16215314 63  0    1  \n",
       "5 16215393 66  1    1  \n",
       "6 16215396 68  0    1  "
      ]
     },
     "metadata": {},
     "output_type": "display_data"
    },
    {
     "data": {
      "text/html": [
       "<table>\n",
       "<thead><tr><th scope=col>fid</th><th scope=col>iid</th><th scope=col>patid</th><th scope=col>matid</th><th scope=col>sex</th><th scope=col>age</th><th scope=col>ftnd</th></tr></thead>\n",
       "<tbody>\n",
       "\t<tr><td>EMERGE-3 </td><td>16218877 </td><td>NA       </td><td>NA       </td><td>1        </td><td>60       </td><td>0        </td></tr>\n",
       "\t<tr><td>EMERGE-3 </td><td>16230920 </td><td>NA       </td><td>NA       </td><td>0        </td><td>90       </td><td>2        </td></tr>\n",
       "\t<tr><td>EMERGE-8 </td><td>16220003 </td><td>NA       </td><td>NA       </td><td>0        </td><td>81       </td><td>0        </td></tr>\n",
       "\t<tr><td>EMERGE-9 </td><td>16231695 </td><td>NA       </td><td>NA       </td><td>0        </td><td>60       </td><td>2        </td></tr>\n",
       "\t<tr><td>EMERGE-11</td><td>16216270 </td><td>NA       </td><td>NA       </td><td>1        </td><td>72       </td><td>1        </td></tr>\n",
       "\t<tr><td>EMERGE-11</td><td>16217471 </td><td>NA       </td><td>NA       </td><td>1        </td><td>76       </td><td>1        </td></tr>\n",
       "</tbody>\n",
       "</table>\n"
      ],
      "text/latex": [
       "\\begin{tabular}{r|lllllll}\n",
       " fid & iid & patid & matid & sex & age & ftnd\\\\\n",
       "\\hline\n",
       "\t EMERGE-3  & 16218877  & NA        & NA        & 1         & 60        & 0        \\\\\n",
       "\t EMERGE-3  & 16230920  & NA        & NA        & 0         & 90        & 2        \\\\\n",
       "\t EMERGE-8  & 16220003  & NA        & NA        & 0         & 81        & 0        \\\\\n",
       "\t EMERGE-9  & 16231695  & NA        & NA        & 0         & 60        & 2        \\\\\n",
       "\t EMERGE-11 & 16216270  & NA        & NA        & 1         & 72        & 1        \\\\\n",
       "\t EMERGE-11 & 16217471  & NA        & NA        & 1         & 76        & 1        \\\\\n",
       "\\end{tabular}\n"
      ],
      "text/markdown": [
       "\n",
       "fid | iid | patid | matid | sex | age | ftnd | \n",
       "|---|---|---|---|---|---|\n",
       "| EMERGE-3  | 16218877  | NA        | NA        | 1         | 60        | 0         | \n",
       "| EMERGE-3  | 16230920  | NA        | NA        | 0         | 90        | 2         | \n",
       "| EMERGE-8  | 16220003  | NA        | NA        | 0         | 81        | 0         | \n",
       "| EMERGE-9  | 16231695  | NA        | NA        | 0         | 60        | 2         | \n",
       "| EMERGE-11 | 16216270  | NA        | NA        | 1         | 72        | 1         | \n",
       "| EMERGE-11 | 16217471  | NA        | NA        | 1         | 76        | 1         | \n",
       "\n",
       "\n"
      ],
      "text/plain": [
       "  fid       iid      patid matid sex age ftnd\n",
       "1 EMERGE-3  16218877 NA    NA    1   60  0   \n",
       "2 EMERGE-3  16230920 NA    NA    0   90  2   \n",
       "3 EMERGE-8  16220003 NA    NA    0   81  0   \n",
       "4 EMERGE-9  16231695 NA    NA    0   60  2   \n",
       "5 EMERGE-11 16216270 NA    NA    1   72  1   \n",
       "6 EMERGE-11 16217471 NA    NA    1   76  1   "
      ]
     },
     "metadata": {},
     "output_type": "display_data"
    }
   ],
   "source": [
    "### R (local) ###\n",
    "\n",
    "p.data <- \"emerge.age.sex.ftnd.20190313.tsv\"\n",
    "study <- \"emerge\"\n",
    "pheno.data <- read.delim(p.data, sep = \"\\t\", header = T, stringsAsFactors = F, \n",
    "                       colClasses=rep(\"integer\", 4))\n",
    "head(pheno.data)\n",
    "\n",
    "pca.data <- read.csv(\"eig/emerge.ld_pruned_top10_eigenvecs.txt\", sep = \" \" , \n",
    "                    colClasses=c(rep(\"character\",times=2), rep(\"double\",times = 10)))\n",
    "\n",
    "num.subjects <- length(pca.data[,1])\n",
    "\n",
    "ped.file <- data.frame(matrix(ncol = 7, nrow = num.subjects))\n",
    "colnames(ped.file) <- c(\"fid\", \"iid\", \"patid\", \"matid\", \"sex\", \"age\", \"ftnd\")\n",
    "ped.file[,1] <- pca.data[,1]\n",
    "ped.file[,2] <- pca.data[,2]\n",
    "\n",
    "# map loop (goal to fill in sex, age, and ftnd data on ped.file from the pheno.data)\n",
    "for (i in 1:num.subjects){\n",
    "    key <- noquote(ped.file[i,2])\n",
    "    \n",
    "    my_match <- match(key, pheno.data[,1])\n",
    "    ped.file[i,5] <- pheno.data[my_match,4]\n",
    "    ped.file[i,6] <- pheno.data[my_match,2]\n",
    "    ped.file[i,7] <- pheno.data[my_match,3]\n",
    "    \n",
    "} # end i loop\n",
    "\n",
    "head(ped.file)\n",
    "write.table(ped.file[,1:7], paste(study, \"_EUR_phen.ped\", sep=\"\"), sep = \"\\t\", row.names = F, quote=F)"
   ]
  },
  {
   "cell_type": "markdown",
   "metadata": {},
   "source": [
    "#### Create cov file"
   ]
  },
  {
   "cell_type": "code",
   "execution_count": 102,
   "metadata": {},
   "outputs": [
    {
     "data": {
      "text/html": [
       "<table>\n",
       "<thead><tr><th scope=col>fid</th><th scope=col>iid</th><th scope=col>patid</th><th scope=col>matid</th><th scope=col>sex</th><th scope=col>age</th><th scope=col>PC1</th><th scope=col>PC2</th><th scope=col>PC3</th><th scope=col>PC4</th><th scope=col>PC5</th><th scope=col>PC6</th><th scope=col>PC7</th><th scope=col>PC8</th><th scope=col>PC9</th><th scope=col>PC10</th></tr></thead>\n",
       "<tbody>\n",
       "\t<tr><td>EMERGE-3 </td><td>16218877 </td><td>NA       </td><td>NA       </td><td>1        </td><td>60       </td><td> 0.0008  </td><td> 0.0104  </td><td>-0.0296  </td><td>-0.0086  </td><td> 0.0261  </td><td> 0.0220  </td><td>-0.0161  </td><td>-0.0078  </td><td> 0.0389  </td><td> 0.0059  </td></tr>\n",
       "\t<tr><td>EMERGE-3 </td><td>16230920 </td><td>NA       </td><td>NA       </td><td>0        </td><td>90       </td><td> 0.0058  </td><td> 0.0174  </td><td> 0.0160  </td><td> 0.0183  </td><td> 0.0056  </td><td> 0.0015  </td><td>-0.0107  </td><td>-0.0052  </td><td> 0.0451  </td><td> 0.0105  </td></tr>\n",
       "\t<tr><td>EMERGE-8 </td><td>16220003 </td><td>NA       </td><td>NA       </td><td>0        </td><td>81       </td><td>-0.0049  </td><td> 0.0101  </td><td> 0.0103  </td><td> 0.0103  </td><td>-0.0119  </td><td> 0.0040  </td><td> 0.0046  </td><td>-0.0001  </td><td> 0.0178  </td><td>-0.0008  </td></tr>\n",
       "\t<tr><td>EMERGE-9 </td><td>16231695 </td><td>NA       </td><td>NA       </td><td>0        </td><td>60       </td><td>-0.0071  </td><td> 0.0134  </td><td> 0.0246  </td><td>-0.0143  </td><td> 0.0043  </td><td> 0.0157  </td><td> 0.0142  </td><td>-0.0011  </td><td>-0.0279  </td><td>-0.0102  </td></tr>\n",
       "\t<tr><td>EMERGE-11</td><td>16216270 </td><td>NA       </td><td>NA       </td><td>1        </td><td>72       </td><td>-0.0052  </td><td> 0.0090  </td><td>-0.0351  </td><td> 0.0177  </td><td>-0.0370  </td><td> 0.0023  </td><td>-0.0219  </td><td>-0.0005  </td><td>-0.0182  </td><td>-0.0028  </td></tr>\n",
       "\t<tr><td>EMERGE-11</td><td>16217471 </td><td>NA       </td><td>NA       </td><td>1        </td><td>76       </td><td>-0.0004  </td><td>-0.0024  </td><td>-0.0209  </td><td> 0.0053  </td><td>-0.0131  </td><td>-0.0023  </td><td> 0.0054  </td><td>-0.0149  </td><td> 0.0198  </td><td> 0.0306  </td></tr>\n",
       "</tbody>\n",
       "</table>\n"
      ],
      "text/latex": [
       "\\begin{tabular}{r|llllllllllllllll}\n",
       " fid & iid & patid & matid & sex & age & PC1 & PC2 & PC3 & PC4 & PC5 & PC6 & PC7 & PC8 & PC9 & PC10\\\\\n",
       "\\hline\n",
       "\t EMERGE-3  & 16218877  & NA        & NA        & 1         & 60        &  0.0008   &  0.0104   & -0.0296   & -0.0086   &  0.0261   &  0.0220   & -0.0161   & -0.0078   &  0.0389   &  0.0059  \\\\\n",
       "\t EMERGE-3  & 16230920  & NA        & NA        & 0         & 90        &  0.0058   &  0.0174   &  0.0160   &  0.0183   &  0.0056   &  0.0015   & -0.0107   & -0.0052   &  0.0451   &  0.0105  \\\\\n",
       "\t EMERGE-8  & 16220003  & NA        & NA        & 0         & 81        & -0.0049   &  0.0101   &  0.0103   &  0.0103   & -0.0119   &  0.0040   &  0.0046   & -0.0001   &  0.0178   & -0.0008  \\\\\n",
       "\t EMERGE-9  & 16231695  & NA        & NA        & 0         & 60        & -0.0071   &  0.0134   &  0.0246   & -0.0143   &  0.0043   &  0.0157   &  0.0142   & -0.0011   & -0.0279   & -0.0102  \\\\\n",
       "\t EMERGE-11 & 16216270  & NA        & NA        & 1         & 72        & -0.0052   &  0.0090   & -0.0351   &  0.0177   & -0.0370   &  0.0023   & -0.0219   & -0.0005   & -0.0182   & -0.0028  \\\\\n",
       "\t EMERGE-11 & 16217471  & NA        & NA        & 1         & 76        & -0.0004   & -0.0024   & -0.0209   &  0.0053   & -0.0131   & -0.0023   &  0.0054   & -0.0149   &  0.0198   &  0.0306  \\\\\n",
       "\\end{tabular}\n"
      ],
      "text/markdown": [
       "\n",
       "fid | iid | patid | matid | sex | age | PC1 | PC2 | PC3 | PC4 | PC5 | PC6 | PC7 | PC8 | PC9 | PC10 | \n",
       "|---|---|---|---|---|---|\n",
       "| EMERGE-3  | 16218877  | NA        | NA        | 1         | 60        |  0.0008   |  0.0104   | -0.0296   | -0.0086   |  0.0261   |  0.0220   | -0.0161   | -0.0078   |  0.0389   |  0.0059   | \n",
       "| EMERGE-3  | 16230920  | NA        | NA        | 0         | 90        |  0.0058   |  0.0174   |  0.0160   |  0.0183   |  0.0056   |  0.0015   | -0.0107   | -0.0052   |  0.0451   |  0.0105   | \n",
       "| EMERGE-8  | 16220003  | NA        | NA        | 0         | 81        | -0.0049   |  0.0101   |  0.0103   |  0.0103   | -0.0119   |  0.0040   |  0.0046   | -0.0001   |  0.0178   | -0.0008   | \n",
       "| EMERGE-9  | 16231695  | NA        | NA        | 0         | 60        | -0.0071   |  0.0134   |  0.0246   | -0.0143   |  0.0043   |  0.0157   |  0.0142   | -0.0011   | -0.0279   | -0.0102   | \n",
       "| EMERGE-11 | 16216270  | NA        | NA        | 1         | 72        | -0.0052   |  0.0090   | -0.0351   |  0.0177   | -0.0370   |  0.0023   | -0.0219   | -0.0005   | -0.0182   | -0.0028   | \n",
       "| EMERGE-11 | 16217471  | NA        | NA        | 1         | 76        | -0.0004   | -0.0024   | -0.0209   |  0.0053   | -0.0131   | -0.0023   |  0.0054   | -0.0149   |  0.0198   |  0.0306   | \n",
       "\n",
       "\n"
      ],
      "text/plain": [
       "  fid       iid      patid matid sex age PC1     PC2     PC3     PC4    \n",
       "1 EMERGE-3  16218877 NA    NA    1   60   0.0008  0.0104 -0.0296 -0.0086\n",
       "2 EMERGE-3  16230920 NA    NA    0   90   0.0058  0.0174  0.0160  0.0183\n",
       "3 EMERGE-8  16220003 NA    NA    0   81  -0.0049  0.0101  0.0103  0.0103\n",
       "4 EMERGE-9  16231695 NA    NA    0   60  -0.0071  0.0134  0.0246 -0.0143\n",
       "5 EMERGE-11 16216270 NA    NA    1   72  -0.0052  0.0090 -0.0351  0.0177\n",
       "6 EMERGE-11 16217471 NA    NA    1   76  -0.0004 -0.0024 -0.0209  0.0053\n",
       "  PC5     PC6     PC7     PC8     PC9     PC10   \n",
       "1  0.0261  0.0220 -0.0161 -0.0078  0.0389  0.0059\n",
       "2  0.0056  0.0015 -0.0107 -0.0052  0.0451  0.0105\n",
       "3 -0.0119  0.0040  0.0046 -0.0001  0.0178 -0.0008\n",
       "4  0.0043  0.0157  0.0142 -0.0011 -0.0279 -0.0102\n",
       "5 -0.0370  0.0023 -0.0219 -0.0005 -0.0182 -0.0028\n",
       "6 -0.0131 -0.0023  0.0054 -0.0149  0.0198  0.0306"
      ]
     },
     "metadata": {},
     "output_type": "display_data"
    },
    {
     "data": {
      "text/html": [
       "730"
      ],
      "text/latex": [
       "730"
      ],
      "text/markdown": [
       "730"
      ],
      "text/plain": [
       "[1] 730"
      ]
     },
     "metadata": {},
     "output_type": "display_data"
    }
   ],
   "source": [
    "# 10 PCs plus all of the covariates (exclude oaall data)\n",
    "col.names <- c(\"fid\", \"iid\", \"patid\", \"matid\", \"sex\", \"age\",\n",
    "                  \"PC1\", \"PC2\",\"PC3\",\"PC4\",\"PC5\",\"PC6\",\"PC7\",\"PC8\",\"PC9\",\"PC10\")\n",
    "num.columns <- length(col.names)\n",
    "covar.data <- data.frame(matrix(ncol = num.columns, nrow = num.subjects))\n",
    "names(covar.data) <- col.names\n",
    "#covar.data$sex <- ped.file$sex\n",
    "#covar.data$age <- ped.file$age\n",
    "\n",
    "num.covs <- length(ped.file) - 1\n",
    "covar.data[,1:num.covs] <- ped.file[,1:num.covs] # fid, iid, patid, matic, sex, age\n",
    "covar.data[,(num.covs+1):length(col.names)] <- pca.data[,3:length(pca.data)]\n",
    "\n",
    "head(covar.data)\n",
    "length(covar.data[,1])\n",
    "\n",
    "write.table(covar.data, paste(study, \"_EUR_cov.ped\", sep=\"\"), quote=FALSE, row.names = FALSE, sep = \"\\t\")"
   ]
  },
  {
   "cell_type": "code",
   "execution_count": 104,
   "metadata": {},
   "outputs": [],
   "source": [
    "### R console ###\n",
    "options(stringsAsFactors=F)\n",
    "cov.data <- read.delim(paste(study, \"_EUR_cov.ped\", sep=\"\"), header=T, sep=\"\\t\")\n",
    "phen.data <- read.delim(paste(study, \"_EUR_phen.ped\", sep=\"\"), header=T, sep=\"\\t\")\n",
    "\n",
    "# Combine PCs and phenotype into one data frame\n",
    "phen.name <- \"ftnd\"\n",
    "pc.names <- paste0(\"PC\", 1:10)\n",
    "ea.data <- merge(x=phen.data[,c(\"iid\",phen.name)], y=cov.data[, c(\"iid\", paste0(\"PC\",1:10))], by=\"iid\")"
   ]
  },
  {
   "cell_type": "markdown",
   "metadata": {},
   "source": [
    "#### Regression analysis\n",
    "We use a regression model of the general structure\n",
    "\\begin{align}\n",
    "\\text{FTND = PC1 + PC2 + ... + PC10}\n",
    "\\end{align}"
   ]
  },
  {
   "cell_type": "code",
   "execution_count": 106,
   "metadata": {},
   "outputs": [
    {
     "name": "stdout",
     "output_type": "stream",
     "text": [
      "MODEL FORMULA:\n",
      "\n",
      " ftnd ~ PC1 + PC2 + PC3 + PC4 + PC5 + PC6 + PC7 + PC8 + PC9 + PC10 \n",
      "\n",
      "\n",
      "================ EA group ================"
     ]
    },
    {
     "data": {
      "text/plain": [
       "\n",
       "Call:\n",
       "lm(formula = as.formula(model.str), data = ea.data)\n",
       "\n",
       "Residuals:\n",
       "    Min      1Q  Median      3Q     Max \n",
       "-0.5636 -0.4151 -0.3790  0.5740  1.6764 \n",
       "\n",
       "Coefficients:\n",
       "            Estimate Std. Error t value Pr(>|t|)    \n",
       "(Intercept)  0.40137    0.02271  17.670   <2e-16 ***\n",
       "PC1         -0.05000    0.61370  -0.081   0.9351    \n",
       "PC2         -0.13817    0.61371  -0.225   0.8219    \n",
       "PC3          1.04533    0.61372   1.703   0.0889 .  \n",
       "PC4          0.16369    0.61373   0.267   0.7898    \n",
       "PC5         -0.68615    0.61370  -1.118   0.2639    \n",
       "PC6          0.89045    0.61372   1.451   0.1472    \n",
       "PC7         -1.00242    0.61370  -1.633   0.1028    \n",
       "PC8          0.66158    0.61368   1.078   0.2814    \n",
       "PC9         -0.85499    0.61375  -1.393   0.1640    \n",
       "PC10         0.12763    0.61370   0.208   0.8353    \n",
       "---\n",
       "Signif. codes:  0 '***' 0.001 '**' 0.01 '*' 0.05 '.' 0.1 ' ' 1\n",
       "\n",
       "Residual standard error: 0.6137 on 719 degrees of freedom\n",
       "Multiple R-squared:  0.01668,\tAdjusted R-squared:  0.003007 \n",
       "F-statistic:  1.22 on 10 and 719 DF,  p-value: 0.2743\n"
      ]
     },
     "metadata": {},
     "output_type": "display_data"
    },
    {
     "data": {
      "text/html": [
       "<table>\n",
       "<thead><tr><th></th><th scope=col>Df</th><th scope=col>Sum Sq</th><th scope=col>Mean Sq</th><th scope=col>F value</th><th scope=col>Pr(&gt;F)</th><th scope=col>PVE</th></tr></thead>\n",
       "<tbody>\n",
       "\t<tr><th scope=row>PC3</th><td>1          </td><td>1.09269426 </td><td>1.09269426 </td><td>2.901163022</td><td>0.08894781 </td><td>23.78      </td></tr>\n",
       "\t<tr><th scope=row>PC7</th><td>1          </td><td>1.00468337 </td><td>1.00468337 </td><td>2.667489289</td><td>0.10285527 </td><td>21.87      </td></tr>\n",
       "\t<tr><th scope=row>PC6</th><td>1          </td><td>0.79288068 </td><td>0.79288068 </td><td>2.105141564</td><td>0.14724088 </td><td>17.26      </td></tr>\n",
       "\t<tr><th scope=row>PC9</th><td>1          </td><td>0.73091233 </td><td>0.73091233 </td><td>1.940612212</td><td>0.16403262 </td><td>15.91      </td></tr>\n",
       "\t<tr><th scope=row>PC5</th><td>1          </td><td>0.47089186 </td><td>0.47089186 </td><td>1.250243633</td><td>0.26387940 </td><td>10.25      </td></tr>\n",
       "\t<tr><th scope=row>PC8</th><td>1          </td><td>0.43775525 </td><td>0.43775525 </td><td>1.162264124</td><td>0.28135803 </td><td> 9.53      </td></tr>\n",
       "\t<tr><th scope=row>PC4</th><td>1          </td><td>0.02675882 </td><td>0.02675882 </td><td>0.071046131</td><td>0.78989608 </td><td> 0.58      </td></tr>\n",
       "\t<tr><th scope=row>PC2</th><td>1          </td><td>0.01905521 </td><td>0.01905521 </td><td>0.050592630</td><td>0.82209915 </td><td> 0.41      </td></tr>\n",
       "\t<tr><th scope=row>PC10</th><td>1          </td><td>0.01629077 </td><td>0.01629077 </td><td>0.043252897</td><td>0.83530870 </td><td> 0.35      </td></tr>\n",
       "\t<tr><th scope=row>PC1</th><td>1          </td><td>0.00249383 </td><td>0.00249383 </td><td>0.006621256</td><td>0.93516948 </td><td> 0.05      </td></tr>\n",
       "</tbody>\n",
       "</table>\n"
      ],
      "text/latex": [
       "\\begin{tabular}{r|llllll}\n",
       "  & Df & Sum Sq & Mean Sq & F value & Pr(>F) & PVE\\\\\n",
       "\\hline\n",
       "\tPC3 & 1           & 1.09269426  & 1.09269426  & 2.901163022 & 0.08894781  & 23.78      \\\\\n",
       "\tPC7 & 1           & 1.00468337  & 1.00468337  & 2.667489289 & 0.10285527  & 21.87      \\\\\n",
       "\tPC6 & 1           & 0.79288068  & 0.79288068  & 2.105141564 & 0.14724088  & 17.26      \\\\\n",
       "\tPC9 & 1           & 0.73091233  & 0.73091233  & 1.940612212 & 0.16403262  & 15.91      \\\\\n",
       "\tPC5 & 1           & 0.47089186  & 0.47089186  & 1.250243633 & 0.26387940  & 10.25      \\\\\n",
       "\tPC8 & 1           & 0.43775525  & 0.43775525  & 1.162264124 & 0.28135803  &  9.53      \\\\\n",
       "\tPC4 & 1           & 0.02675882  & 0.02675882  & 0.071046131 & 0.78989608  &  0.58      \\\\\n",
       "\tPC2 & 1           & 0.01905521  & 0.01905521  & 0.050592630 & 0.82209915  &  0.41      \\\\\n",
       "\tPC10 & 1           & 0.01629077  & 0.01629077  & 0.043252897 & 0.83530870  &  0.35      \\\\\n",
       "\tPC1 & 1           & 0.00249383  & 0.00249383  & 0.006621256 & 0.93516948  &  0.05      \\\\\n",
       "\\end{tabular}\n"
      ],
      "text/markdown": [
       "\n",
       "| <!--/--> | Df | Sum Sq | Mean Sq | F value | Pr(>F) | PVE | \n",
       "|---|---|---|---|---|---|---|---|---|---|\n",
       "| PC3 | 1           | 1.09269426  | 1.09269426  | 2.901163022 | 0.08894781  | 23.78       | \n",
       "| PC7 | 1           | 1.00468337  | 1.00468337  | 2.667489289 | 0.10285527  | 21.87       | \n",
       "| PC6 | 1           | 0.79288068  | 0.79288068  | 2.105141564 | 0.14724088  | 17.26       | \n",
       "| PC9 | 1           | 0.73091233  | 0.73091233  | 1.940612212 | 0.16403262  | 15.91       | \n",
       "| PC5 | 1           | 0.47089186  | 0.47089186  | 1.250243633 | 0.26387940  | 10.25       | \n",
       "| PC8 | 1           | 0.43775525  | 0.43775525  | 1.162264124 | 0.28135803  |  9.53       | \n",
       "| PC4 | 1           | 0.02675882  | 0.02675882  | 0.071046131 | 0.78989608  |  0.58       | \n",
       "| PC2 | 1           | 0.01905521  | 0.01905521  | 0.050592630 | 0.82209915  |  0.41       | \n",
       "| PC10 | 1           | 0.01629077  | 0.01629077  | 0.043252897 | 0.83530870  |  0.35       | \n",
       "| PC1 | 1           | 0.00249383  | 0.00249383  | 0.006621256 | 0.93516948  |  0.05       | \n",
       "\n",
       "\n"
      ],
      "text/plain": [
       "     Df Sum Sq     Mean Sq    F value     Pr(>F)     PVE  \n",
       "PC3  1  1.09269426 1.09269426 2.901163022 0.08894781 23.78\n",
       "PC7  1  1.00468337 1.00468337 2.667489289 0.10285527 21.87\n",
       "PC6  1  0.79288068 0.79288068 2.105141564 0.14724088 17.26\n",
       "PC9  1  0.73091233 0.73091233 1.940612212 0.16403262 15.91\n",
       "PC5  1  0.47089186 0.47089186 1.250243633 0.26387940 10.25\n",
       "PC8  1  0.43775525 0.43775525 1.162264124 0.28135803  9.53\n",
       "PC4  1  0.02675882 0.02675882 0.071046131 0.78989608  0.58\n",
       "PC2  1  0.01905521 0.01905521 0.050592630 0.82209915  0.41\n",
       "PC10 1  0.01629077 0.01629077 0.043252897 0.83530870  0.35\n",
       "PC1  1  0.00249383 0.00249383 0.006621256 0.93516948  0.05"
      ]
     },
     "metadata": {},
     "output_type": "display_data"
    }
   ],
   "source": [
    "# Build model formula\n",
    "model.str <- paste0(phen.name, \" ~ \", paste(pc.names, collapse=\" + \"))\n",
    "cat(\"MODEL FORMULA:\\n\\n\", model.str, \"\\n\")\n",
    "\n",
    "# Get model fits\n",
    "lm.fit.ea <- lm(formula=as.formula(model.str), data=ea.data)\n",
    "#glm.fit.ea <- glm(formula=as.formula(model.str), data=ea.data, family = binomial(link = \"logit\"))\n",
    "\n",
    "# Get sequential (type I) sum of squares\n",
    "anova.ea <- anova(lm.fit.ea)\n",
    "#anova.ea <- anova(glm.fit.ea)\n",
    "\n",
    "# Calculate percent variance explained and sort\n",
    "ea.pve <- cbind(anova.ea[pc.names,], \n",
    "                PVE=round(anova.ea[pc.names, \"Mean Sq\"]/sum(anova.ea[pc.names, \"Mean Sq\"])*100, digits=2))\n",
    "#ea.pve <- cbind(anova.ea[pc.names,], \n",
    "#                PVE=round(anova.ea[pc.names, \"Deviance\"]/sum(anova.ea[pc.names, \"Deviance\"])*100, digits=2))\n",
    "ea.pve.sorted <- ea.pve[order(ea.pve$PVE, decreasing=T),]\n",
    "\n",
    "# Output regression info\n",
    "cat(\"\\n\\n================ EA group ================\")\n",
    "summary(lm.fit.ea)\n",
    "#summary(glm.fit.ea)\n",
    "ea.pve.sorted"
   ]
  },
  {
   "cell_type": "markdown",
   "metadata": {},
   "source": [
    "#### Percent Variance Explained Visualization"
   ]
  },
  {
   "cell_type": "code",
   "execution_count": 107,
   "metadata": {},
   "outputs": [
    {
     "name": "stdout",
     "output_type": "stream",
     "text": [
      "Top PCs:  PC3 PC7 PC6 PC9 \n",
      "PVE:      78.82"
     ]
    },
    {
     "data": {
      "image/png": "[encoded data removed]",
      "text/plain": [
       "Plot with title \"EA PVE Cumulative Sum\""
      ]
     },
     "metadata": {},
     "output_type": "display_data"
    },
    {
     "data": {
      "image/png": "[encoded data removed]",
      "text/plain": [
       "Plot with title \"EA PVE Cumulative Sum (Sorted PCs)\""
      ]
     },
     "metadata": {},
     "output_type": "display_data"
    }
   ],
   "source": [
    "options(repr.plot.width=13, repr.plot.height=5)\n",
    "\n",
    "# Set graphical parameters\n",
    "cex.factor <- 0.9\n",
    "barplot.ylim.ea <- c(0, max(ea.pve$PVE)*1.2)\n",
    "\n",
    "pv_list <- vector(length = 10)\n",
    "total <- 0\n",
    "for (i in 1:nrow(ea.pve.sorted)){\n",
    "    pv_list[i] <- row.names(ea.pve.sorted[i,])\n",
    "    total <- total + ea.pve.sorted[i, \"PVE\"]\n",
    "    #print(total)\n",
    "    if (total >= 75) break\n",
    "}\n",
    "\n",
    "topPCs <- pv_list[which(pv_list != \"FALSE\")]\n",
    "cat(\"Top PCs: \",topPCs, \"\\n\")\n",
    "cat(paste(\"PVE:     \", total))\n",
    "\n",
    "# Visualize PVE\n",
    "par(mfrow=c(1,2))\n",
    "barplot(height=ea.pve$PVE, names.arg=rownames(ea.pve), beside=T, cex.names=cex.factor, \n",
    "        col=\"red3\", border=\"red3\", ylim=barplot.ylim.ea, \n",
    "        main=\"EA Percent Variance Explained\", ylab=\"PVE\")\n",
    "plot(cumsum(ea.pve$PVE), type=\"b\", main=\"EA PVE Cumulative Sum\", ylab=\"PVE\", \n",
    "     lwd=2, col=\"red3\", pch=17, xaxt=\"n\", xlab=\"\", ylim=c(0,100))\n",
    "axis(side=1, at=c(1:10), labels=rownames(ea.pve), cex.axis=cex.factor)\n",
    "\n",
    "par(mfrow=c(1,2))\n",
    "barplot(height=ea.pve.sorted$PVE, names.arg=rownames(ea.pve.sorted), beside=T, cex.names=cex.factor, \n",
    "        col=\"red3\", border=\"red3\", ylim=barplot.ylim.ea, main=\"EA Percent Variance Explained (Sorted PCs)\", ylab=\"PVE\")\n",
    "plot(cumsum(ea.pve.sorted$PVE), type=\"b\", main=\"EA PVE Cumulative Sum (Sorted PCs)\", ylab=\"PVE\", \n",
    "     lwd=2, col=\"red3\", pch=17, xaxt=\"n\", xlab=\"\", ylim=c(0,100))\n",
    "axis(side=1, at=c(1:10), labels=rownames(ea.pve.sorted), cex.axis=cex.factor)"
   ]
  },
  {
   "cell_type": "markdown",
   "metadata": {
    "collapsed": true
   },
   "source": [
    "Based on these results, we will use PC3, PC7, PC6, and PC9 in the GWAS as covariates. These PCs contribute to >75% of the percent variance explained."
   ]
  },
  {
   "cell_type": "code",
   "execution_count": 33,
   "metadata": {},
   "outputs": [
    {
     "name": "stdout",
     "output_type": "stream",
     "text": [
      "Mean:  72.13 \n",
      "Standard Deviation:  9.21 \n",
      "Number of females:  319 (43.7%) \n",
      "Number of males:  411 (56.3%) \n"
     ]
    },
    {
     "data": {
      "image/png": "[encoded data removed]",
      "text/plain": [
       "Plot with title \"FTNDboth_cat\""
      ]
     },
     "metadata": {},
     "output_type": "display_data"
    }
   ],
   "source": [
    "setwd(\"/Users/jmarks/OneDrive - Research Triangle Institute/Projects/Nicotine/emerge/phenotype/processing/\")\n",
    "mydf <- read.delim(\"emerge.ea.CAT_FTND.AGE.SEX.EVs\", header=T, sep=\" \")\n",
    "ylim = 1.1*c(0, max(table(mydf$CAT_FTND)))\n",
    "cur <- barplot(table(mydf$CAT_FTND), ylim = ylim, col=\"lime green\",\n",
    "              xlab=\"Categorical FTND score\", ylab=\"Frequency\")\n",
    "y<-as.matrix(table(mydf$CAT_FTND))\n",
    "text(cur, y+22,labels=as.character(y))\n",
    "title(\"FTNDboth_cat\", line = 0)\n",
    "\n",
    "\n",
    "percent_f <- round(length(which(mydf$SEX==\"1\"))/length(mydf$SEX), 3) * 100\n",
    "percent_m <- round(length(which(mydf$SEX==\"0\"))/length(mydf$SEX), 3) * 100\n",
    "percent_f <- paste(\"(\", percent_f, \"%)\", sep=\"\")\n",
    "percent_m <- paste(\"(\", percent_m, \"%)\", sep=\"\")\n",
    "cat(\"Mean: \", round(mean(mydf$AGE),2), \"\\n\")\n",
    "cat(\"Standard Deviation: \", round(sd(mydf$AGE), 2), \"\\n\")\n",
    "cat(\"Number of females: \", length(which(mydf$SEX==\"1\")), percent_f,\"\\n\")\n",
    "cat(\"Number of males: \", length(which(mydf$SEX==\"0\")), percent_m,\"\\n\")"
   ]
  },
  {
   "cell_type": "markdown",
   "metadata": {},
   "source": [
    "### Construct a phenotype file for ProbABEL with PCs\n",
    "* Need to include PC3, PC6, PC7, and PC9.\n",
    "* Header needs to be \n",
    "\n",
    "   `IID     CAT_FTND      SEX     EV3     EV6     EV7     EV9`"
   ]
  },
  {
   "cell_type": "code",
   "execution_count": null,
   "metadata": {
    "collapsed": true
   },
   "outputs": [],
   "source": [
    "# the IID in the phenotype file needs to be of the form \"fid_iid\"\n",
    "# to match the imputed genotype data from MIS.\n",
    "awk 'BEGIN{ OFS=\"_\" } NR>=2{print $1,$2}' eMERGE_EUR_cov.ped > IID.txt"
   ]
  },
  {
   "cell_type": "code",
   "execution_count": 116,
   "metadata": {},
   "outputs": [
    {
     "data": {
      "text/html": [
       "730"
      ],
      "text/latex": [
       "730"
      ],
      "text/markdown": [
       "730"
      ],
      "text/plain": [
       "[1] 730"
      ]
     },
     "metadata": {},
     "output_type": "display_data"
    },
    {
     "data": {
      "text/html": [
       "<table>\n",
       "<thead><tr><th scope=col>IID</th><th scope=col>CAT_FTND</th><th scope=col>AGE</th><th scope=col>SEX</th><th scope=col>EV3</th><th scope=col>EV6</th><th scope=col>EV7</th><th scope=col>EV9</th></tr></thead>\n",
       "<tbody>\n",
       "\t<tr><td>EMERGE-3_16218877 </td><td>0                 </td><td>60                </td><td>1                 </td><td>-0.0296           </td><td> 0.0220           </td><td>-0.0161           </td><td> 0.0389           </td></tr>\n",
       "\t<tr><td>EMERGE-3_16230920 </td><td>2                 </td><td>90                </td><td>0                 </td><td> 0.0160           </td><td> 0.0015           </td><td>-0.0107           </td><td> 0.0451           </td></tr>\n",
       "\t<tr><td>EMERGE-8_16220003 </td><td>0                 </td><td>81                </td><td>0                 </td><td> 0.0103           </td><td> 0.0040           </td><td> 0.0046           </td><td> 0.0178           </td></tr>\n",
       "\t<tr><td>EMERGE-9_16231695 </td><td>2                 </td><td>60                </td><td>0                 </td><td> 0.0246           </td><td> 0.0157           </td><td> 0.0142           </td><td>-0.0279           </td></tr>\n",
       "\t<tr><td>EMERGE-11_16216270</td><td>1                 </td><td>72                </td><td>1                 </td><td>-0.0351           </td><td> 0.0023           </td><td>-0.0219           </td><td>-0.0182           </td></tr>\n",
       "\t<tr><td>EMERGE-11_16217471</td><td>1                 </td><td>76                </td><td>1                 </td><td>-0.0209           </td><td>-0.0023           </td><td> 0.0054           </td><td> 0.0198           </td></tr>\n",
       "</tbody>\n",
       "</table>\n"
      ],
      "text/latex": [
       "\\begin{tabular}{r|llllllll}\n",
       " IID & CAT\\_FTND & AGE & SEX & EV3 & EV6 & EV7 & EV9\\\\\n",
       "\\hline\n",
       "\t EMERGE-3\\_16218877  & 0                    & 60                   & 1                    & -0.0296              &  0.0220              & -0.0161              &  0.0389             \\\\\n",
       "\t EMERGE-3\\_16230920  & 2                    & 90                   & 0                    &  0.0160              &  0.0015              & -0.0107              &  0.0451             \\\\\n",
       "\t EMERGE-8\\_16220003  & 0                    & 81                   & 0                    &  0.0103              &  0.0040              &  0.0046              &  0.0178             \\\\\n",
       "\t EMERGE-9\\_16231695  & 2                    & 60                   & 0                    &  0.0246              &  0.0157              &  0.0142              & -0.0279             \\\\\n",
       "\t EMERGE-11\\_16216270 & 1                    & 72                   & 1                    & -0.0351              &  0.0023              & -0.0219              & -0.0182             \\\\\n",
       "\t EMERGE-11\\_16217471 & 1                    & 76                   & 1                    & -0.0209              & -0.0023              &  0.0054              &  0.0198             \\\\\n",
       "\\end{tabular}\n"
      ],
      "text/markdown": [
       "\n",
       "IID | CAT_FTND | AGE | SEX | EV3 | EV6 | EV7 | EV9 | \n",
       "|---|---|---|---|---|---|\n",
       "| EMERGE-3_16218877  | 0                  | 60                 | 1                  | -0.0296            |  0.0220            | -0.0161            |  0.0389            | \n",
       "| EMERGE-3_16230920  | 2                  | 90                 | 0                  |  0.0160            |  0.0015            | -0.0107            |  0.0451            | \n",
       "| EMERGE-8_16220003  | 0                  | 81                 | 0                  |  0.0103            |  0.0040            |  0.0046            |  0.0178            | \n",
       "| EMERGE-9_16231695  | 2                  | 60                 | 0                  |  0.0246            |  0.0157            |  0.0142            | -0.0279            | \n",
       "| EMERGE-11_16216270 | 1                  | 72                 | 1                  | -0.0351            |  0.0023            | -0.0219            | -0.0182            | \n",
       "| EMERGE-11_16217471 | 1                  | 76                 | 1                  | -0.0209            | -0.0023            |  0.0054            |  0.0198            | \n",
       "\n",
       "\n"
      ],
      "text/plain": [
       "  IID                CAT_FTND AGE SEX EV3     EV6     EV7     EV9    \n",
       "1 EMERGE-3_16218877  0        60  1   -0.0296  0.0220 -0.0161  0.0389\n",
       "2 EMERGE-3_16230920  2        90  0    0.0160  0.0015 -0.0107  0.0451\n",
       "3 EMERGE-8_16220003  0        81  0    0.0103  0.0040  0.0046  0.0178\n",
       "4 EMERGE-9_16231695  2        60  0    0.0246  0.0157  0.0142 -0.0279\n",
       "5 EMERGE-11_16216270 1        72  1   -0.0351  0.0023 -0.0219 -0.0182\n",
       "6 EMERGE-11_16217471 1        76  1   -0.0209 -0.0023  0.0054  0.0198"
      ]
     },
     "metadata": {},
     "output_type": "display_data"
    }
   ],
   "source": [
    "### R ###\n",
    "# read in data files\n",
    "phen <- read.table(\"eMERGE_EUR_phen.ped\", header=T)\n",
    "cov <- read.table(\"eMERGE_EUR_cov.ped\", header=T)\n",
    "iid <- read.table(\"IID.txt\")\n",
    "\n",
    "num.subjects <- length(iid[,1])\n",
    "num.subjects\n",
    "\n",
    "# create data frame to combine those files\n",
    "phencols <- c(\"IID\", \"CAT_FTND\", \"AGE\", \"SEX\", \"EV3\", \"EV6\", \"EV7\", \"EV9\")\n",
    "covar.data <- data.frame(matrix(ncol = length(phencols), nrow = num.subjects))\n",
    "names(covar.data) <- phencols\n",
    "covar.data[1] <- iid[1]\n",
    "covar.data$CAT_FTND <- phen$ftnd\n",
    "covar.data$AGE <- phen$age\n",
    "covar.data$SEX <- phen$sex\n",
    "covar.data$EV3 <- cov$PC3\n",
    "covar.data$EV6 <- cov$PC6\n",
    "covar.data$EV7 <- cov$PC7\n",
    "covar.data$EV9 <- cov$PC9\n",
    "head(covar.data)\n",
    "\n",
    "write.table(x = covar.data, file = \"emerge.ea.CAT_FTND.AGE.SEX.EVs\", quote = F, row.names = F)"
   ]
  },
  {
   "cell_type": "markdown",
   "metadata": {},
   "source": [
    "## Genotype Data\n",
    "Since we are redoing this GWAS, we do not perform some of the steps since they have already been performed. We will comment out code we did not use during this revisit. "
   ]
  },
  {
   "cell_type": "markdown",
   "metadata": {
    "collapsed": true
   },
   "source": [
    "### Inflate imputation results\n",
    "The zip files from Michigan Imputation Server (MIS) need to be inflated before you can begin working with them. They require a passcode that is sent by MIS to email."
   ]
  },
  {
   "cell_type": "code",
   "execution_count": null,
   "metadata": {
    "collapsed": true
   },
   "outputs": [],
   "source": [
    "#### EC2 console ###\n",
    "#cd /shared/s3/emerge/data/genotype/imputed\n",
    "#\n",
    "## inflate chr results\n",
    "#for f in {1..22};do\n",
    "#echo '#!/bin/bash' > chr_$f.sh\n",
    "#echo '' >> chr_$f.sh\n",
    "#echo 'unzip -P \"jYdXsUKB55Gcag\" chr_'$f'.zip' >> chr_$f.sh\n",
    "#done\n",
    "#\n",
    "#for chr in {1..21}; do\n",
    "#    sh /shared/bioinformatics/software/scripts/qsub_job.sh \\\n",
    "#    --job_name inflate_chr${chr} \\\n",
    "#    --script_prefix chr${chr}_inflation \\\n",
    "#    --mem 5 \\\n",
    "#    --priority 0 \\\n",
    "#    --nslots 1 \\\n",
    "#    --program bash chr_${chr}.sh\n",
    "#done\n",
    "#\n",
    "#rm *.sh"
   ]
  },
  {
   "cell_type": "markdown",
   "metadata": {},
   "source": [
    "### Convert Genotype File Format\n",
    "VCF files to MaCH format\n",
    "The ProbABEL software requires the data to be in a format that is different than the VCF format that is the output from MIS. Specifically, we need to convert the VCF files to MaCH format."
   ]
  },
  {
   "cell_type": "code",
   "execution_count": null,
   "metadata": {
    "collapsed": true
   },
   "outputs": [],
   "source": [
    "#### EC2 ###\n",
    "#base_dir=/shared/s3/emerge/data/genotype/imputed\n",
    "#\n",
    "#for chr in {1..22};do\n",
    "#\n",
    "#    mkdir -p ${base_dir}/mach/chr${chr}\n",
    "#    chr_location=${base_dir}/mach/chr${chr}\n",
    "#\n",
    "#    /shared/bioinformatics/software/scripts/qsub_job.sh \\\n",
    "#        --job_name convert_dosage_chr{$chr} \\\n",
    "#        --script_prefix chr_location \\\n",
    "#        --mem 10 \\\n",
    "#        --buffer 100000 \\\n",
    "#        --nslots 2 \\\n",
    "#        --priority 0 \\\n",
    "#        --program /shared/bioinformatics/software/third_party/dosage_converter_v1.0.4/bin/DosageConvertor \\\n",
    "#            --vcfDose ${base_dir}/chr${chr}.dose.vcf.gz \\\n",
    "#            --info ${base_dir}/chr${chr}.info.gz \\\n",
    "#            --prefix chr_location/chr{$chr} \\\n",
    "#            --type mach \\\n",
    "#            --format 1 # contains the expected alternate allele count (one value per sample per marker).\n",
    "#done"
   ]
  },
  {
   "cell_type": "markdown",
   "metadata": {},
   "source": [
    "### Prune MaCH files\n",
    "The converted genotype data (mach format) files need to be reorder and pruned to match the subjects in the phenotype file. Pg. 7 of the [ProbABEL manual](http://www.genabel.org/sites/default/files/pdfs/ProbABEL_manual.pdf) reports that the genomic predictor file—which is the dosage file—has in the first column a sequential ID, followed by an arrow followed by the study ID.\n",
    "\n",
    "We will first get a list of the IDs from the phenotype file."
   ]
  },
  {
   "cell_type": "code",
   "execution_count": null,
   "metadata": {},
   "outputs": [],
   "source": [
    "phenD=/shared/jmarks/nicotine/emerge/phenotype/final\n",
    "genD=/shared/jmarks/nicotine/emerge/genotype/imputed\n",
    "filename=emerge.ea.CAT_FTND.AGE.SEX.EVs\n",
    "\n",
    "tail -n +2 $filename | cut -d\" \" -f1 > phenotype.ids\n",
    "ln -s $phenD/phenotype.ids $genD\n",
    "\n",
    "wc -l $genD/phenotype.ids\n",
    "\"\"\"730\"\"\""
   ]
  },
  {
   "cell_type": "code",
   "execution_count": null,
   "metadata": {},
   "outputs": [],
   "source": [
    "## python ##\n",
    "\"\"\"\n",
    "processing.genotype.files.py\n",
    "\n",
    "This script will process the mach.dose genotype files.\n",
    "In particular, it will remove any subjects that are not\n",
    "the phenotype file. It will output the new filtered mach.dose\n",
    "file as well as a file that contains the order of the subject\n",
    "IDs in the genotype files. We will then use this information to\n",
    "reorder the phenotype file.\n",
    "\n",
    "input: chrom name_of_order_file\n",
    "\n",
    "where chrom is the chromosome to process and name_of_order_file is the \n",
    "output name of the file that contains the order of the samples in the genoytpe data\n",
    "\"\"\"\n",
    "import gzip, sys, os\n",
    "\n",
    "os.chdir(\"/shared/jmarks/nicotine/emerge/genotype/imputed/\")\n",
    "\n",
    "chrom = sys.argv[1]\n",
    "order_name = sys.argv[2]\n",
    "\n",
    "print(chrom)\n",
    "myfile = \"chr{0}/chr{0}.mach.dose.gz\".format(chrom)\n",
    "keep_ids = \"phenotype.ids\"\n",
    "outfile = \"chr{0}/chr{0}.mach.dose.filtered\".format(chrom)\n",
    "out_order = \"chr{0}/{1}\".format(chrom, order_name)\n",
    "\n",
    "order.of.genotype.ids\n",
    "with gzip.open(myfile) as inF, open(keep_ids) as sexF, open(outfile, 'w') as outF, open(out_order, \"w\") as outID:\n",
    "    sex_set = set()\n",
    "    for line in sexF:\n",
    "        sex_set.add(line.strip())\n",
    "\n",
    "    line = inF.readline()\n",
    "    count = 1\n",
    "    while line:\n",
    "        sl = line.split()\n",
    "        gen_id = sl[0].split(\"->\")[0]\n",
    "        if gen_id in sex_set:\n",
    "            sl[0] = \"{}->{}\".format(count, gen_id)\n",
    "            count += 1\n",
    "            newline = \" \".join(sl)\n",
    "            outF.write(newline + \"\\n\")\n",
    "            outID.write(gen_id + \"\\n\")\n",
    "\n",
    "        line = inF.readline()\n",
    "\n",
    "    message = \"chr{0} all done!\".format(chrom)\n",
    "    print(message)"
   ]
  },
  {
   "cell_type": "code",
   "execution_count": null,
   "metadata": {},
   "outputs": [],
   "source": [
    "# autosomes\n",
    "for chr in {1..22};do\n",
    "    /shared/bioinformatics/software/scripts/qsub_job.sh \\\n",
    "            --job_name chr$chr.gen.data.processing \\\n",
    "            --script_prefix $genD/chr$chr/chr$chr.mach.formatting \\\n",
    "            --mem 20 \\\n",
    "            --nslots 3 \\\n",
    "            --program time python $genD/processing.genotype.files.py $chr order.of.genotype.ids\n",
    "done"
   ]
  },
  {
   "cell_type": "markdown",
   "metadata": {},
   "source": [
    "###  Reorder phenotype file\n",
    "Reorder the phenotype file to be of the same order as the genotype files.\n",
    "\n",
    "**Note:** the autosomes and chrX will have different orders and will therefore require different phenotype files. This is because chrX is imputed separately for males and females on the Michigan Imputation Server. We have to merge the data after we get them which results in the genotype data being in a disparate order than the autosomes. It might be handier if we just reorder chrX genotype file to be the same order as the autosomes so that we don't have to have to different phenotype files."
   ]
  },
  {
   "cell_type": "code",
   "execution_count": null,
   "metadata": {},
   "outputs": [],
   "source": [
    "pfile=emerge.ea.CAT_FTND.AGE.SEX.EVs\n",
    "ln -s $genD/chr1/order.of.genotype.ids $phenD/\n",
    "#ln -s /shared/jmarks/hiv/vidus/genotype/impute/final/ea/mach/chr23/order.of.genotype.ids.chrx .\n",
    "\n",
    "# autosomes\n",
    "head -1 $phenD/$pfile > $phenD/$pfile.ordered\n",
    "awk 'FNR==NR {x2[$1] = $0; next} $1 in x2 {print x2[$1]}' \\\n",
    "    $phenD/$pfile $phenD/order.of.genotype.ids >> $phenD/$pfile.ordered \n",
    "\n",
    "## chrX\n",
    "#head -1 vidus.ea.HIV_ACQ.AGE.SEX.PC1+PC5+PC9.txt >\\\n",
    "#    vidus.ea.HIV_ACQ.AGE.SEX.PC1+PC5+PC9.ordered.chrx.txt\n",
    "#awk 'FNR==NR {x2[$1] = $0; next} $1 in x2 {print x2[$1]}' \\\n",
    "#    vidus.ea.HIV_ACQ.AGE.SEX.PC1+PC5+PC9.txt order.of.genotype.ids.chrx >>\\\n",
    "#    vidus.ea.HIV_ACQ.AGE.SEX.PC1+PC5+PC9.ordered.chrx.txt"
   ]
  },
  {
   "cell_type": "markdown",
   "metadata": {},
   "source": [
    "I did not have to reorder the phenotype file though because it was already in the same order as the genotype file."
   ]
  },
  {
   "cell_type": "markdown",
   "metadata": {},
   "source": [
    "### create legend\n",
    "\n",
    "Pg. 10 of the [ProbABEL manual](http://www.genabel.org/sites/default/files/pdfs/ProbABEL_manual.pdf) reports that the legend should be in HapMap format: \n",
    "\n",
    "`rsID, position, allele1, allele2`\n",
    "\n",
    "**Note**: We do not have the rsID right now. We have the chromosome and the position. It shouldn't be to difficult to convert this to the actual rsID. We might be able to use Nathan Gladdis' Nyholt script to convert these. This can be converted later, though. Also, this is an optional file. The only column that is actually used is the SNP location."
   ]
  },
  {
   "cell_type": "code",
   "execution_count": null,
   "metadata": {
    "collapsed": true
   },
   "outputs": [],
   "source": [
    "# HapMap \"legend\" file format\n",
    "# note that our data is not in rsID format - we have chr:position for the rsID instead\n",
    "for chr in {1..22}; do\n",
    "    # print header\n",
    "    echo \"id position 0 1\" > $genD/chr$chr/map.chr$chr.legend\n",
    "    # grab the SNP, position, allele1 and allele2\n",
    "    tail -n +2 $genD/chr${chr}/*info | awk '{pos = $1; gsub(/^.+:/, \"\", pos); print $1,pos,$2,$3}' >>\\\n",
    "        $genD/chr$chr/map.chr$chr.legend\n",
    "done &"
   ]
  },
  {
   "cell_type": "markdown",
   "metadata": {},
   "source": [
    "### Format info file\n",
    "The ProbABEL manual spedifies that the info file should have exactly 7 columns."
   ]
  },
  {
   "cell_type": "code",
   "execution_count": null,
   "metadata": {},
   "outputs": [],
   "source": [
    "for chr in {1..22}; do\n",
    "    cut -f 1-7 $genD/chr${chr}/chr${chr}.mach.info > $genD/chr$chr/chr$chr.mach.pruned.info & \\\n",
    "done\n",
    "\n",
    "#chr=23\n",
    "#cut -f 1-7 $machD/chr${chr}/chr${chr}.mach.info > $machD/chr$chr/chr$chr.mach.pruned.info & \\"
   ]
  },
  {
   "cell_type": "markdown",
   "metadata": {},
   "source": [
    "# Perform ProbABEL analysis\n",
    "**Note**: Because performing the GWAS is so memory intensive, you might have to use a node with 64GB> of RAM After this analysis is finished, it might be a good idea to revert to a smaller (less expensive) set of compute nodes."
   ]
  },
  {
   "cell_type": "code",
   "execution_count": null,
   "metadata": {
    "collapsed": true
   },
   "outputs": [],
   "source": [
    "## create directory structure \n",
    "version=001 \n",
    "study=emerge\n",
    "ancestry=ea\n",
    "model=1df\n",
    "phen=ftnd\n",
    "probAB=palinear\n",
    "MODEL=CAT_FTND~SNP+AGE+SEX+PC3+PC7+PC6+PC9\n",
    "covars=\"sex,age,PC3,PC7,PC6,PC9\"\n",
    "ancestry=\"ea\"\n",
    "phenoF=\"emerge.$ancestry.CAT_FTND.AGE.SEX.EVs\"\n",
    "#phenoXF=\"vidus.ea.HIV_ACQ.AGE.SEX.PC1+PC5+PC9.ordered.chrx.txt\"\n",
    "dose_suffix=\"mach.dose.filtered\"\n",
    "info_suffix=\"mach.info.filtered\"\n",
    "\n",
    "genD=/shared/jmarks/nicotine/emerge/genotype/imputed\n",
    "procD=/shared/jmarks/nicotine/emerge/gwas/$ancestry/$model/$version\n",
    "phenD=/shared/jmarks/nicotine/emerge/phenotype/final\n",
    "mkdir -p $procD/final\n",
    "mkdir -p $procD/processing/chr{1..22}\n",
    "\n",
    "################################################################################\n",
    "## perform GWAS \n",
    "for chr in {1..22}; do\n",
    "    /shared/bioinformatics/software/scripts/qsub_job.sh \\\n",
    "        --job_name probabel_gwas_chr${chr} \\\n",
    "        --script_prefix $procD/processing/chr${chr}/chr${chr}_gwas \\\n",
    "        --mem 30 \\\n",
    "        --nslots 4 \\\n",
    "        --program time /shared/bioinformatics/software/third_party/probabel-0.5.0/bin/$probAB \\\n",
    "            --pheno ${phenD}/$phenoF \\\n",
    "            --dose $genD/chr${chr}/chr$chr.${dose_suffix} \\\n",
    "            --info $genD/chr${chr}/chr${chr}.${info_suffix} \\\n",
    "            --map $genD/chr${chr}/map.chr${chr}.legend \\\n",
    "            --chrom ${chr} \\\n",
    "            --out $procD/processing/chr${chr}/chr${chr}.$probAB.results\n",
    "done"
   ]
  },
  {
   "cell_type": "markdown",
   "metadata": {},
   "source": [
    "### Check for completion"
   ]
  },
  {
   "cell_type": "code",
   "execution_count": null,
   "metadata": {},
   "outputs": [],
   "source": [
    "grep -L 100.00% $procD/processing/chr*/*log"
   ]
  },
  {
   "cell_type": "markdown",
   "metadata": {
    "collapsed": true
   },
   "source": [
    "### GZIP dose files\n",
    "To save space, we will now gzip dosage files back up. Also, revert to a smaller (less expensive) compute fleet.\n",
    "\n",
    "**Note**: we gzip the info file as well."
   ]
  },
  {
   "cell_type": "code",
   "execution_count": null,
   "metadata": {
    "collapsed": true
   },
   "outputs": [],
   "source": [
    "## EC2 console ##\n",
    "\n",
    "for chr in {1..22};do\n",
    "    /shared/bioinformatics/software/scripts/qsub_job.sh \\\n",
    "            --job_name gzip_chr${chr}.dose \\\n",
    "            --script_prefix $genD/chr${chr}/chr${chr}_gzip \\\n",
    "            --mem 5 \\\n",
    "            --nslots 1 \\\n",
    "            --program gzip -r $genD/*\n",
    "done"
   ]
  },
  {
   "cell_type": "markdown",
   "metadata": {
    "collapsed": true
   },
   "source": [
    "### Calculate chi, p, and OR"
   ]
  },
  {
   "cell_type": "code",
   "execution_count": null,
   "metadata": {
    "collapsed": true
   },
   "outputs": [],
   "source": [
    "for (( chr=1; chr<23; chr++ )); do\n",
    "    bash /shared/bioinformatics/software/scripts/qsub_job.sh \\\n",
    "        --job_name ea_$chr \\\n",
    "        --script_prefix $procD/processing/chr$chr/$study.$ancestry.1000G_p3.chr$chr.$MODEL.stats \\\n",
    "        --mem 15 \\\n",
    "        --nslots 1 \\\n",
    "        --priority 0 \\\n",
    "        --program Rscript ~/bin/calculate_stats_for_probabel_results.R \\\n",
    "            --in_file $procD/processing/chr$chr/chr$chr.$probAB.results_add.out.txt \\\n",
    "            --out_file $procD/processing/chr$chr/$study.$ancestry.1000G_p3.chr$chr.$MODEL.stats \\\n",
    "            --complete\n",
    "done"
   ]
  },
  {
   "cell_type": "code",
   "execution_count": null,
   "metadata": {},
   "outputs": [],
   "source": [
    "## check for completion\n",
    "grep -L \"Done\" $procD/processing/chr*/${study}*log"
   ]
  },
  {
   "cell_type": "markdown",
   "metadata": {},
   "source": [
    "### Convert IDs to 1KG phase 3 impute2 format\n",
    "My results do not have an rsID. I need to convert my IDs—which are of the form\n",
    "`chr:position`—to rsID. We will do this by using the position information of the variants.\n",
    "\n",
    "**Note**: In some cases, there will be multiple variants at a single position. This happens if the variant is not biallelic. In this case, they will likely be filtered out because of MAF<0.01 anyways."
   ]
  },
  {
   "cell_type": "code",
   "execution_count": null,
   "metadata": {
    "collapsed": true
   },
   "outputs": [],
   "source": [
    "for chr in {1..22};do\n",
    "    bash /shared/bioinformatics/software/scripts/qsub_job.sh \\\n",
    "        --job_name $study.1000g_p3_chr${chr} \\\n",
    "        --script_prefix $procD/processing/chr$chr/name_conversion \\\n",
    "        --mem 15 \\\n",
    "        --nslots 1 \\\n",
    "        --priority 0 \\\n",
    "        --program perl /shared/bioinformatics/software/perl/id_conversion/convert_to_1000g_p3_ids.pl \\\n",
    "            --file_in $procD/processing/chr$chr/$study.$ancestry.1000G_p3.chr$chr.$MODEL.stats \\\n",
    "            --file_out $procD/processing/chr$chr/$study.$ancestry.1000G_p3.chr$chr.$MODEL.stats.converted \\\n",
    "            --legend /shared/data/ref_panels/1000G/2014.10/1000GP_Phase3_chr$chr.legend.gz \\\n",
    "            --file_in_header 1 \\\n",
    "            --file_in_id_col  0 \\\n",
    "            --file_in_chr_col  1 \\\n",
    "            --file_in_pos_col  2 \\\n",
    "            --file_in_a1_col  3 \\\n",
    "            --file_in_a2_col  4 \\\n",
    "            --chr $chr\n",
    "done"
   ]
  },
  {
   "cell_type": "markdown",
   "metadata": {},
   "source": [
    "### SNP Lookup\n",
    "```\n",
    "rs1862416:167394595:T:C\n",
    "rs2714700:79367667:T:C\n",
    "rs13284520:136502572:A:C\n",
    "rs16969968:78882925:G:A\n",
    "rs151176846:61997500:T:C\n",
    "```\n",
    "\n",
    " | name                     | chrom | position | A1 | A2 | Freq1   | MAF     | Quality | Rsq     | n   | Mean_predictor_allele | beta_SNP_addA1 | sebeta_SNP_addA1 | chi2_SNP_add | chi      | p        | or_95_percent_ci |\n",
    "|--------------------------|-------|----------|----|----|---------|---------|---------|---------|-----|-----------------------|----------------|------------------|--------------|----------|----------|------------------|\n",
    "| rs151176846:61997500:T:C | 20    | 61997500 | T  | C  | 0.07234 | 0.07234 | 0.97428 | 0.71862 | 730 | 0.069852              | 0.008268       | 0.078354         | 0.011258     | 0.011135 | 0.915962 | 1.01(0.86-1.18)  |\n",
    "| rs16969968:78882925:G:A  | 15    | 78882925 | G  | A  | 0.34688 | 0.34688 | 0.997   | 0.98853 | 730 | 0.352004              | 0.054972       | 0.03382          | 2.66643      | 2.642025 | 0.104071 | 1.06(0.99-1.13)  |\n",
    "| rs13284520:136502572:A:C | 9     | 1.37E+08 | A  | C  | 0.17609 | 0.17609 | 0.99961 | 0.99747 | 730 | 0.183641              | -0.04474       | 0.040346         | 1.24203      | 1.229462 | 0.267512 | 0.96(0.88-1.03)  |\n",
    "| rs2714700:79367667:T:C   | 7     | 79367667 | T  | C  | 0.52085 | 0.47915 | 0.99984 | 0.99947 | 730 | 0.510918              | -0.01453       | 0.032534         | 0.20178      | 0.199597 | 0.655046 | 0.99(0.92-1.05)  |\n",
    "| rs1862416:167394595:T:C  | 5     | 1.67E+08 | T  | C  | 0.12684 | 0.12684 | 0.97018 | 0.80427 | 730 | 0.131206              | -0.02359       | 0.052459         | 0.204423     | 0.202211 | 0.652942 | 0.98(0.88-1.08)  |\n"
   ]
  },
  {
   "cell_type": "markdown",
   "metadata": {},
   "source": [
    "### Filter results\n",
    "We filter by two criteria:\n",
    "\n",
    "* 1000G reference\n",
    "* study\n",
    "\n",
    "#### MAF > 1% in Study"
   ]
  },
  {
   "cell_type": "code",
   "execution_count": null,
   "metadata": {
    "collapsed": true
   },
   "outputs": [],
   "source": [
    "# Filter MAF <= 0.01 in subjects\n",
    "for ((chr=1; chr<23; chr++));do\n",
    "    processingDir=$procD/processing/chr$chr\n",
    "    echo \"Processing chr${chr}_${ancestry}\"\n",
    "    head -n 1 $processingDir/$study.$ancestry.1000G_p3.chr$chr.$MODEL.stats.converted > \\\n",
    "        $processingDir/$study.$ancestry.1000G_p3.chr$chr.$MODEL.maf_gt_0.01_subject.stats\n",
    "\n",
    "    # note column 7 corresponds to the MAF column\n",
    "    awk ' NR>=2 {if ($7 >= 0.01) {print $0}}' \\\n",
    "        $processingDir/$study.$ancestry.1000G_p3.chr$chr.$MODEL.stats.converted \\\n",
    "        >> $processingDir/$study.$ancestry.1000G_p3.chr$chr.$MODEL.maf_gt_0.01_subject.stats\n",
    "done"
   ]
  },
  {
   "cell_type": "markdown",
   "metadata": {},
   "source": [
    "#### MAF > 1% in 1000G"
   ]
  },
  {
   "cell_type": "code",
   "execution_count": null,
   "metadata": {},
   "outputs": [],
   "source": [
    "if [ $ancestry == \"aa\" ]; then\n",
    "    group=afr\n",
    "elif [ $ancestry == \"ea\" ]; then\n",
    "    group=eur\n",
    "fi\n",
    "\n",
    "# creating a list of SNPs based off of 1000G population \n",
    "# - filter the variants to ones whose MAF <= 1%\n",
    "group=eur\n",
    "for chr in {1..22};do\n",
    "   awk ' { if ($9 >= 0.01) {print $1}}' <(zcat /shared/data/ref_panels/1000G/2014.10/1000GP_Phase3_chr$chr.legend.gz) >\\\n",
    "    /shared/data/ref_panels/1000G/2014.10/1000GP_Phase3_chr$chr.legend.unique_ids.maf_gt_0.01_${group}\n",
    "done \n",
    "\n",
    "for chr in {1..22}; do\n",
    "    base_dir=$procD/processing/chr$chr\n",
    "    idList=/shared/data/ref_panels/1000G/2014.10/1000GP_Phase3_chr$chr.legend.unique_ids.maf_gt_0.01_${group} \n",
    "    echo \"Processing chr${chr}_${ancestry}\"      \n",
    "    /shared/bioinformatics/software/perl/utilities/extract_rows.pl \\\n",
    "        --source $base_dir/$study.$ancestry.1000G_p3.chr$chr.$MODEL.maf_gt_0.01_subject.stats \\\n",
    "        --id_list $idList \\\n",
    "        --out $base_dir/$study.$ancestry.1000G_p3.chr$chr.$MODEL.maf_gt_0.01_subject+${group}.stats \\\n",
    "        --header 1 \\\n",
    "        --id_column 0 \n",
    "done &"
   ]
  },
  {
   "cell_type": "markdown",
   "metadata": {},
   "source": [
    "### RSQ >= 30%"
   ]
  },
  {
   "cell_type": "code",
   "execution_count": null,
   "metadata": {
    "collapsed": true
   },
   "outputs": [],
   "source": [
    "## EC2 console ##\n",
    "## Filter by R^2 Autosomes\n",
    "for chr in {1..22}; do\n",
    "    echo -e \"${ancestry} chr${chr}...\"\n",
    "        awk '{ if ($9 > 0.3){ print $0 } }' \\\n",
    "            $procD/processing/chr$chr/$study.$ancestry.1000G_p3.chr$chr.$MODEL.maf_gt_0.01_subject+eur.stats >\\\n",
    "             $procD/final/$study.$ancestry.1000G_p3.chr$chr.$MODEL.maf_gt_0.01_subject+eur.rsq_gt_0.30.stats\n",
    "done &"
   ]
  },
  {
   "cell_type": "markdown",
   "metadata": {
    "collapsed": true
   },
   "source": [
    "# Generate plots\n",
    "QQ and Mahattan plots."
   ]
  },
  {
   "cell_type": "code",
   "execution_count": null,
   "metadata": {
    "collapsed": true
   },
   "outputs": [],
   "source": [
    "if [ $model == \"1df\" ]; then\n",
    "    pcol=10\n",
    "else\n",
    "    pcol=13\n",
    "fi\n",
    "\n",
    "outfile=$procD/processing/${study}.${ancestry}.$model.1000G_p3.$phen.maf_gt_0.01.rsq_gt_0.3.assoc.table\n",
    "echo -e \"VARIANT_ID\\tCHR\\tPOSITION\\tP\\tTYPE\" > $outfile\n",
    "for (( chr=1; chr<23; chr++ )); do\n",
    "infile=$procD/final/$study.ea.1000G_p3.chr$chr.$MODEL.maf_gt_0.01_subject+${group}.rsq_gt_0.30.stats\n",
    "echo Processing $infile\n",
    "tail -n +2 $infile |\n",
    "  perl -slne '/^(\\S+)\\s+(\\S+)\\s+(\\S+)\\s+(\\S+)\\s+(\\S+)(?:\\s+\\S+){$pcol}\\s+(\\S+)/;\n",
    "              if (($4 eq \"A\" || $4 eq \"C\" || $4 eq \"G\" || $4 eq \"T\") && ($5 eq \"A\" || $5 eq \"C\" || $5 eq \"G\" || $5 eq \"T\")) {\n",
    "                print join(\"\\t\",$1,$2,$3,$6,\"snp\");\n",
    "              } else {\n",
    "                print join(\"\\t\",$1,$2,$3,$6,\"indel\");\n",
    "              }' -- -pcol=$pcol >> $outfile\n",
    "done &\n",
    "\n",
    "# Make Q-Q and manhattan plots\n",
    "sh /shared/bioinformatics/software/scripts/qsub_job.sh \\\n",
    "    --job_name gwas_plots_${ancestry} \\\n",
    "    --script_prefix $outfile.plot \\\n",
    "    --mem 20 \\\n",
    "    --nslots 7 \\\n",
    "    --priority 0 \\\n",
    "    --program Rscript /shared/bioinformatics/software/R/generate_gwas_plots.R \\\n",
    "        --in $outfile \\\n",
    "        --in_chromosomes autosomal_nonPAR \\\n",
    "        --in_header \\\n",
    "        --out $procD/final/$study.${ancestry}.$model.1000G.$phen.maf_gt_0.01.rsq_gt_0.3.assoc.plot.all_chr \\\n",
    "        --col_id VARIANT_ID \\\n",
    "        --col_chromosome CHR \\\n",
    "        --col_position POSITION \\\n",
    "        --col_p P \\\n",
    "        --col_variant_type TYPE \\\n",
    "        --generate_snp_indel_manhattan_plot \\\n",
    "        --manhattan_odd_chr_color red3 \\\n",
    "        --manhattan_even_chr_color dodgerblue3 \\\n",
    "        --manhattan_points_cex 1.5 \\\n",
    "        --generate_snp_indel_qq_plot \\\n",
    "        --qq_lines \\\n",
    "        --qq_points_bg black \\\n",
    "        --qq_lambda"
   ]
  },
  {
   "cell_type": "markdown",
   "metadata": {},
   "source": [
    "## View Q-Q and Manhattan Plots"
   ]
  },
  {
   "cell_type": "code",
   "execution_count": 3,
   "metadata": {
    "scrolled": false
   },
   "outputs": [
    {
     "ename": "ERROR",
     "evalue": "Error in read(file, size): unused argument (size)\n",
     "output_type": "error",
     "traceback": [
      "Error in read(file, size): unused argument (size)\nTraceback:\n",
      "1. display_png(file = \"C:/Users/Jess/OneDrive - Research Triangle Institute/Projects/Nicotine/emerge/gwas/20190314/emerge.ea.1df.1000G.ftnd.maf_gt_0.01.rsq_gt_0.3.assoc.plot.all_chr.snps+indels.manhattan.png\")",
      "2. display_raw(\"image/png\", TRUE, data, file, img_metadata(width, \n .     height))",
      "3. prepare_content(isbinary, data, file)",
      "4. read_all(file, isbinary)"
     ]
    }
   ],
   "source": [
    "library(\"IRdisplay\")\n",
    "display_png(file=\"C:/Users/Jess/OneDrive - Research Triangle Institute/Projects/Nicotine/emerge/gwas/20190314/emerge.ea.1df.1000G.ftnd.maf_gt_0.01.rsq_gt_0.3.assoc.plot.all_chr.snps+indels.manhattan.png\")  \n",
    "display_png(file=\"C:/Users/Jess/OneDrive - Research Triangle Institute/Projects/Nicotine/emerge/gwas/20190314/emerge.ea.1df.1000G.ftnd.maf_gt_0.01.rsq_gt_0.3.assoc.plot.all_chr.snps+indels.qq.png\")  "
   ]
  },
  {
   "cell_type": "markdown",
   "metadata": {},
   "source": [
    "### P-value filter"
   ]
  },
  {
   "cell_type": "code",
   "execution_count": null,
   "metadata": {},
   "outputs": [],
   "source": [
    "outFile=$procD/final/$study.$ancestry.1000G_p3.$MODEL.maf_gt_0.01_subject+eur.rsq_gt_0.30.p_lte_0.001\n",
    "head -n 1 $procD/final/$study.$ancestry.1000G_p3.chr22.$MODEL.maf_gt_0.01_subject+eur.rsq_gt_0.30.stats > $outFile\n",
    "    for (( chr=1; chr<23; chr++ )); do\n",
    "        echo Processing $procD/final/$study.$ancestry.1000G_p3.chr$chr.$MODEL.maf_gt_0.01_subject+eur.rsq_gt_0.30.stats\n",
    "        tail -n +2 $procD/final/$study.$ancestry.1000G_p3.chr$chr.$MODEL.maf_gt_0.01_subject+eur.rsq_gt_0.30.stats |\\\n",
    "        perl -lane 'if ($F[15] <= 0.001) { print; }' >>  $outFile\n",
    "done"
   ]
  },
  {
   "cell_type": "code",
   "execution_count": null,
   "metadata": {},
   "outputs": [],
   "source": [
    "R\n",
    "finalD <- \"/shared/jmarks/nicotine/emerge/gwas/ea/1df/001/final/\"\n",
    "pfile <- \"emerge.ea.1000G_p3.CAT_FTND~SNP+AGE+SEX+PC3+PC7+PC6+PC9.maf_gt_0.01_subject+eur.rsq_gt_0.30.p_lte_0.001\"\n",
    "cohort=\"emerge\"\n",
    "\n",
    "for (ancestry in c(\"ea\")){\n",
    "    if (ancestry == \"aa\") { group = \"afr\" } else if (ancestry == \"ea\") { group = \"eur\" }\n",
    "        dat=read.table(paste0(finalD, pfile), header = TRUE)\n",
    "        dat <- dat[order(dat$p),]\n",
    "        write.csv(dat,\n",
    "                  file=paste0(finalD, pfile, \".csv\"), row.names = FALSE, quote=F)\n",
    "    }\n",
    "## END Filter by p-value ###"
   ]
  },
  {
   "cell_type": "markdown",
   "metadata": {},
   "source": [
    "## S3 data transfer"
   ]
  },
  {
   "cell_type": "code",
   "execution_count": null,
   "metadata": {
    "collapsed": true
   },
   "outputs": [],
   "source": [
    "## imputed data ##\n",
    "/shared/bioinformatics/software/scripts/qsub_job.sh \\\n",
    "    --job_name s3_upload_emerge \\\n",
    "    --script_prefix s3.upload \\\n",
    "    --mem 5 \\\n",
    "    --nslots 3 \\\n",
    "    --program \"aws s3 sync . s3://rti-nd/eMERGE/data/genotype/imputed/\"\n",
    "\n",
    "\n",
    "\n",
    "## final results ##\n",
    "/shared/bioinformatics/software/scripts/qsub_job.sh \\\n",
    "    --job_name s3.emerge.final.results \\\n",
    "    --script_prefix s3.final.results.upload \\\n",
    "    --mem 5 \\\n",
    "    --nslots 7 \\\n",
    "    --program \"aws s3 sync final/ s3://rti-nd/eMERGE/results/final/\"\n",
    "\n",
    "## processing results ##\n",
    "/shared/bioinformatics/software/scripts/qsub_job.sh \\\n",
    "    --job_name s3.emerge.processing.results \\\n",
    "    --script_prefix s3.processing.results.upload \\\n",
    "    --mem 5 \\\n",
    "    --nslots 7 \\\n",
    "    --program \"aws s3 sync processing/ s3://rti-nd/eMERGE/results/processing/\"\n",
    "\n",
    "## move old results ##\n",
    "/shared/bioinformatics/software/scripts/qsub_job.sh \\\n",
    "    --job_name s3.emerge.mv \\\n",
    "    --script_prefix s3.mv.old.results \\\n",
    "    --mem 5 \\\n",
    "    --nslots 7 \\\n",
    "    --program \"aws s3 --recursive mv s3://rti-nd/eMERGE/emerge_ftnd s3://rti-nd/eMERGE/boneyard/\""
   ]
  },
  {
   "cell_type": "code",
   "execution_count": null,
   "metadata": {
    "collapsed": true
   },
   "outputs": [],
   "source": []
  }
 ],
 "metadata": {
  "kernelspec": {
   "display_name": "R",
   "language": "R",
   "name": "ir"
  },
  "language_info": {
   "codemirror_mode": "r",
   "file_extension": ".r",
   "mimetype": "text/x-r-source",
   "name": "R",
   "pygments_lexer": "r",
   "version": "3.5.1"
  },
  "toc": {
   "base_numbering": 1,
   "nav_menu": {},
   "number_sections": true,
   "sideBar": true,
   "skip_h1_title": false,
   "title_cell": "Table of Contents",
   "title_sidebar": "Contents",
   "toc_cell": true,
   "toc_position": {
    "height": "727px",
    "left": "0px",
    "right": "1315.28px",
    "top": "107px",
    "width": "212px"
   },
   "toc_section_display": "block",
   "toc_window_display": true
  }
 },
 "nbformat": 4,
 "nbformat_minor": 2
}
