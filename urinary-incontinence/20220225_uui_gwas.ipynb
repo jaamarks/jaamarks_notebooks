{
 "cells": [
  {
   "cell_type": "markdown",
   "id": "8adc5f0d-e3aa-465f-ad2e-caaadd54932c",
   "metadata": {},
   "source": [
    "# UUI GWAS\n",
    "\n",
    "Some collaborators reached out to Megan Carnes to ask if she wanted to include a previously published Urgency Urinary Incontinence (UUI) GWAS in a big analysis they are doing. All they need are the MAGMA results. Unfortunately, we cannot find the results of the previously published GWAS -- the analyses were performed on the old MIDAS computing platform  at RTI International, but it seems they were deleted. So, we need to rerun these analyses. Basically, just replicate the results from the 2015 paper, [Genetic Contributions to Urgency Urinary Incontinence in Women](https://www.ncbi.nlm.nih.gov/pmc/articles/PMC4439377/), then run MAGMA, and finally pass on these results to the collaborators.\n",
    "\n",
    "\n",
    "**Data locations**: `s3://rti-common/dbGaP/phs000315_whi_garnet/`<br>\n",
    "**charge code**: 0160470.000.044 (Grier Page Fellows Fund)<br>\n",
    "**dbGaP**: [WHI GARNET](https://www.ncbi.nlm.nih.gov/projects/gap/cgi-bin/study.cgi?study_id=phs000315.v8.p3&phv=173865&phd=&pha=&pht=2982&phvf=&phdf=&phaf=&phtf=&dssp=1&consent=&temp=1)\n",
    "\n"
   ]
  },
  {
   "cell_type": "markdown",
   "id": "66dbcb24-808b-402a-9d3b-33e3d58bac20",
   "metadata": {},
   "source": [
    "## Data description"
   ]
  },
  {
   "cell_type": "markdown",
   "id": "6fcfc780-c62c-4581-89bb-68d309eb9818",
   "metadata": {},
   "source": [
    "### Imputed Genotype data\n",
    "* ChildStudyConsentSet_phs000746.WHI.v3.p3.c1.HMB-IRB/Genotype/\n",
    "\n",
    "For now we are going to focus on the observed genotype data because we need to process the observed genotypes in order to perform the PCA to incorporate the genotype PCs as covariates in the GWAS model. These were imputed with an older imputation panel I believe. "
   ]
  },
  {
   "cell_type": "markdown",
   "id": "7a9ae828-7cf8-4e59-b123-b2447ba35dd3",
   "metadata": {},
   "source": [
    "### Observed Genotype\n",
    "* ChildStudyConsentSet_phs000315.WHI.v8.p3.c1.HMB-IRB/GenotypeFiles/\n",
    "* ChildStudyConsentSet_phs000315.WHI.v8.p3.c2.HMB-IRB/GenotypeFiles/\n",
    "\n",
    "Consent group 1 and 2. We need to merge these and run them through the genotype array QC workflow."
   ]
  },
  {
   "cell_type": "code",
   "execution_count": null,
   "id": "faa344b4-acae-4ade-a627-4594c6d9150d",
   "metadata": {},
   "outputs": [],
   "source": []
  },
  {
   "cell_type": "markdown",
   "id": "96f54307-5173-4b56-8201-3417a04663c9",
   "metadata": {},
   "source": [
    "# Phenotype"
   ]
  },
  {
   "cell_type": "markdown",
   "id": "68127c79-bdd4-406f-a775-aceea396d82a",
   "metadata": {},
   "source": [
    "## Create a map file\n",
    "We only want the GARNET subset (phs000315) of the data. So we will create a mapping file and filter the phenotype files down with it."
   ]
  },
  {
   "cell_type": "code",
   "execution_count": null,
   "id": "9ef43c22-e651-440d-b197-cb932352ad5d",
   "metadata": {},
   "outputs": [],
   "source": [
    "cd PhenotypeFiles/dbGaP-30943/\n",
    "mkdir processing/\n",
    "\n",
    "tail -n +11 phs000200.v12.pht001032.v9.p3.WHI_Sample.MULTI.txt  | cut -f1-5,8 > processing/all_subjectid.txt\n",
    "wc -l processing/all_subjectid.txt # 118701\n",
    "\n",
    "cd processing/\n",
    "\n",
    "head -1 all_subjectid.txt | cut -f4-5 > phs000315_subject_sampleid_map.txt\n",
    "awk -F \"\\t\" '$6==\"phs000315.v8.p3\" {print $4,$5}' OFS=\"\\t\" all_subjectid.txt  >> \\\n",
    "    phs000315_subject_sampleid_map.txt\n",
    "\n",
    "# total number of samples in this map file\n",
    "wc -l phs000315_subject_sampleid_map.txt #4984 \n",
    "\n",
    "# number of positive controls in the map file\n",
    "awk 'control = substr($1, 0, 2)  {if (control == \"NA\" ){print control}}' \\\n",
    "    phs000315_subject_sampleid_map.txt | wc -l  # 54\n",
    "# 4,929 + 54 = 4,983 (plus a header making it 4,984)\n",
    "\n",
    "# remove positive controls\n",
    "awk 'control = substr($1, 0, 2)  {if (control != \"NA\" ){print $0}}' \\\n",
    "    phs000315_subject_sampleid_map.txt > phs000315_subject_sampleid_map_no_positive_controls.txt\n",
    "\n",
    "\n",
    "##  example map. notice that SAMPLE_ID matches second column of genotype FAM file. \n",
    "head -1 phs000315_subject_sampleid_map.txt ;\\\n",
    "    grep 122129 phs000315_subject_sampleid_map_no_positive_controls.txt\n",
    "# SUBJID  SAMPLE_ID\n",
    "# 753703 122129\n",
    "zcat GARNET_WHI_TOP_sample_level_c2.fam.gz  | head -1 # genotype FAM file\n",
    "# 111106895 122129 0 0 0 -9\n",
    "\n"
   ]
  },
  {
   "cell_type": "markdown",
   "id": "66182286-c06d-4c15-b3c6-4af2c2dab8d3",
   "metadata": {},
   "source": [
    "## Investigate duplicates\n",
    "It appears that the following have duplicate subjects:\n",
    "* phs000200.v12.pht001005.v6.p3.c1.f37_rel1.HMB-IRB.txt # incont+frqincon+cghincon c1\n",
    "* phs000200.v12.pht001005.v6.p3.c2.f37_rel1.HMB-IRB-NPU.txt # incont+frqincon+cghincon c2\n",
    "* phs000200.v12.pht001019.v6.p3.c1.f80_rel1.HMB-IRB.txt # bmix+bmicx c1\n",
    "* phs000200.v12.pht001019.v6.p3.c2.f80_rel1.HMB-IRB-NPU.txt # bmix+bmicx c2\n",
    "\n",
    "<br>\n",
    "\n",
    "It was decided to keep the duplicate subjects and decide what to do with them later."
   ]
  },
  {
   "cell_type": "code",
   "execution_count": null,
   "id": "d7856c88-6801-44e1-9dd8-2f4adb8f5734",
   "metadata": {},
   "outputs": [],
   "source": [
    "# see if any of the phenotype files contain duplicates (multiple samples from same subject)\n",
    "for file in phs000*t; do\n",
    "    echo $file\n",
    "    tail -n +12  $file  | cut -f2 | wc -l # col2 is SUBJID\n",
    "    tail -n +12  $file  | cut -f2  | sort -u | wc -l \n",
    "done\n",
    "\n",
    "phs000200.v12.pht000998.v6.p3.c1.f2_rel1.HMB-IRB.txt # age+race c1\n",
    "  117675\n",
    "  117675\n",
    "phs000200.v12.pht000998.v6.p3.c2.f2_rel1.HMB-IRB-NPU.txt # age+race c1\n",
    "   25538\n",
    "   25538\n",
    "phs000200.v12.pht001000.v7.p3.c1.f31_rel1.HMB-IRB.txt # parity c1\n",
    "  117609\n",
    "  117609\n",
    "phs000200.v12.pht001000.v7.p3.c2.f31_rel1.HMB-IRB-NPU.txt # parity c2 \n",
    "   25518\n",
    "   25518\n",
    "phs000200.v12.pht001005.v6.p3.c1.f37_rel1.HMB-IRB.txt # incont+frqincon+cghincon c1\n",
    "  168638\n",
    "  117671\n",
    "phs000200.v12.pht001005.v6.p3.c2.f37_rel1.HMB-IRB-NPU.txt # incont+frqincon+cghincon c2\n",
    "   26050\n",
    "   25533\n",
    "phs000200.v12.pht001019.v6.p3.c1.f80_rel1.HMB-IRB.txt # bmix+bmicx c1\n",
    "  551936\n",
    "  117675\n",
    "phs000200.v12.pht001019.v6.p3.c2.f80_rel1.HMB-IRB-NPU.txt # bmix+bmicx c2\n",
    "   63629\n",
    "   25536\n",
    "phs000200.v12.pht001032.v9.p3.WHI_Sample.MULTI.txt # study (all consent groups and substudies)\n",
    "  118700\n",
    "   59416\n",
    "phs000200.v12.pht001514.v6.p3.c1.f134_rel1.HMB-IRB.txt # parkinsons+diabetes c1\n",
    "  109964\n",
    "  109964\n",
    "phs000200.v12.pht001514.v6.p3.c2.f134_rel1.HMB-IRB-NPU.txt # parkinsons+diabetes c2\n",
    "     621\n",
    "     621"
   ]
  },
  {
   "cell_type": "markdown",
   "id": "ea8a00b8-12ae-451c-bd96-9d04f4473e8d",
   "metadata": {},
   "source": [
    "## Filter and merge phenotype files\n",
    "\n",
    "| Data File Name* | Variable to keep | Variable Description                        | Note                                                     |\n",
    "|-----------------|------------------|---------------------------------------------|----------------------------------------------------------|\n",
    "| pht001032       | STUDY            | DbGaP top-level study or substudy accession | Filter to Value = E (GARNET STUDY phs000315)             |\n",
    "| All             | SUBJID           | WHI dbGaP Subject ID                        | Used for file merges and should match genotype files     |\n",
    "| pht000998       | AGE              | Age at screening                            |                                                          |\n",
    "| pht001000       | PARITY           | Number of Term Pregnancies                  |                                                          |\n",
    "| pht001019       | BMIX             | BMI                                         |                                                          |\n",
    "| pht001019       | BMICX            | BMI Categorical                             |                                                          |\n",
    "| pht000998       | RACE             | Racial or ethnic group                      |                                                          |\n",
    "| pht001514       | F134PARKINS      | Parkinsons disease ever                     | We will drop where = 1 (yes). Expect low number (20-ish) |\n",
    "| pht001005       | INCONT           | Ever leaked urine                           | Used to define case/control status                       |\n",
    "| pht001005       | TOINCON          | Leak when can't get to toilet               | Used to define cases stats                               |\n",
    "| pht001005       | FRQINCON         | How often leaked urine                      | Used to define case status                               |\n",
    "| pht001005       | LEAKAMT          | How much urine do you lose                  | Used to define case status                               |\n",
    "| pht000998       | DIAB             | Diabetes ever                               |                                                          |\n",
    "\n",
    "**Cases (pht001005)**\n",
    "* INCONT (ever leak) = Yes (1)\n",
    "* TOINCON \n",
    "* FRQINCON (frequency) = 3,4, or 5 -> more than once a month\n",
    "* LEAKAMT\n",
    "\n",
    "**Controls**\n",
    "* INCONT (ever leak) = Yes (0)\n",
    "\n",
    "<br>\n",
    "\n",
    "We will use the [Plink](https://www.cog-genomics.org/plink/1.9/formats#fam) standard for coding case/controls.<br>\n",
    "Phenotype value ('1' = control, '2' = case, '-9'/'0'/non-numeric = missing data if case/control)\n",
    "\n",
    "\n"
   ]
  },
  {
   "cell_type": "code",
   "execution_count": 226,
   "id": "f52dd7fd-cfed-4a1c-98b4-b39c9d58d515",
   "metadata": {},
   "outputs": [
    {
     "data": {
      "text/html": [
       "<style>\n",
       ".list-inline {list-style: none; margin:0; padding: 0}\n",
       ".list-inline>li {display: inline-block}\n",
       ".list-inline>li:not(:last-child)::after {content: \"\\00b7\"; padding: 0 .5ex}\n",
       "</style>\n",
       "<ol class=list-inline><li>'phs000200.v12.pht000998.v6.p3.c1.f2_rel1.HMB-IRB.txt'</li><li>'phs000200.v12.pht000998.v6.p3.c2.f2_rel1.HMB-IRB-NPU.txt'</li><li>'phs000200.v12.pht000998.v6.p3.f2_rel1.var_report.xml'</li><li>'phs000200.v12.pht001000.v7.p3.c1.f31_rel1.HMB-IRB.txt'</li><li>'phs000200.v12.pht001000.v7.p3.c2.f31_rel1.HMB-IRB-NPU.txt'</li><li>'phs000200.v12.pht001000.v7.p3.f31_rel1.var_report.xml'</li><li>'phs000200.v12.pht001005.v6.p3.c1.f37_rel1.HMB-IRB.txt'</li><li>'phs000200.v12.pht001005.v6.p3.c2.f37_rel1.HMB-IRB-NPU.txt'</li><li>'phs000200.v12.pht001005.v6.p3.f37_rel1.var_report.xml'</li><li>'phs000200.v12.pht001019.v6.p3.c1.f80_rel1.HMB-IRB.txt'</li><li>'phs000200.v12.pht001019.v6.p3.c2.f80_rel1.HMB-IRB-NPU.txt'</li><li>'phs000200.v12.pht001019.v6.p3.f80_rel1.var_report.xml'</li><li>'phs000200.v12.pht001032.v9.p3.WHI_Sample.MULTI.txt'</li><li>'phs000200.v12.pht001032.v9.p3.WHI_Sample.var_report.xml'</li><li>'phs000200.v12.pht001514.v6.p3.c1.f134_rel1.HMB-IRB.txt'</li><li>'phs000200.v12.pht001514.v6.p3.c2.f134_rel1.HMB-IRB-NPU.txt'</li><li>'phs000200.v12.pht001514.v6.p3.f134_rel1.var_report.xml'</li><li>'processing'</li><li>'sample_level_unfiltered_PLINK_set'</li></ol>\n"
      ],
      "text/latex": [
       "\\begin{enumerate*}\n",
       "\\item 'phs000200.v12.pht000998.v6.p3.c1.f2\\_rel1.HMB-IRB.txt'\n",
       "\\item 'phs000200.v12.pht000998.v6.p3.c2.f2\\_rel1.HMB-IRB-NPU.txt'\n",
       "\\item 'phs000200.v12.pht000998.v6.p3.f2\\_rel1.var\\_report.xml'\n",
       "\\item 'phs000200.v12.pht001000.v7.p3.c1.f31\\_rel1.HMB-IRB.txt'\n",
       "\\item 'phs000200.v12.pht001000.v7.p3.c2.f31\\_rel1.HMB-IRB-NPU.txt'\n",
       "\\item 'phs000200.v12.pht001000.v7.p3.f31\\_rel1.var\\_report.xml'\n",
       "\\item 'phs000200.v12.pht001005.v6.p3.c1.f37\\_rel1.HMB-IRB.txt'\n",
       "\\item 'phs000200.v12.pht001005.v6.p3.c2.f37\\_rel1.HMB-IRB-NPU.txt'\n",
       "\\item 'phs000200.v12.pht001005.v6.p3.f37\\_rel1.var\\_report.xml'\n",
       "\\item 'phs000200.v12.pht001019.v6.p3.c1.f80\\_rel1.HMB-IRB.txt'\n",
       "\\item 'phs000200.v12.pht001019.v6.p3.c2.f80\\_rel1.HMB-IRB-NPU.txt'\n",
       "\\item 'phs000200.v12.pht001019.v6.p3.f80\\_rel1.var\\_report.xml'\n",
       "\\item 'phs000200.v12.pht001032.v9.p3.WHI\\_Sample.MULTI.txt'\n",
       "\\item 'phs000200.v12.pht001032.v9.p3.WHI\\_Sample.var\\_report.xml'\n",
       "\\item 'phs000200.v12.pht001514.v6.p3.c1.f134\\_rel1.HMB-IRB.txt'\n",
       "\\item 'phs000200.v12.pht001514.v6.p3.c2.f134\\_rel1.HMB-IRB-NPU.txt'\n",
       "\\item 'phs000200.v12.pht001514.v6.p3.f134\\_rel1.var\\_report.xml'\n",
       "\\item 'processing'\n",
       "\\item 'sample\\_level\\_unfiltered\\_PLINK\\_set'\n",
       "\\end{enumerate*}\n"
      ],
      "text/markdown": [
       "1. 'phs000200.v12.pht000998.v6.p3.c1.f2_rel1.HMB-IRB.txt'\n",
       "2. 'phs000200.v12.pht000998.v6.p3.c2.f2_rel1.HMB-IRB-NPU.txt'\n",
       "3. 'phs000200.v12.pht000998.v6.p3.f2_rel1.var_report.xml'\n",
       "4. 'phs000200.v12.pht001000.v7.p3.c1.f31_rel1.HMB-IRB.txt'\n",
       "5. 'phs000200.v12.pht001000.v7.p3.c2.f31_rel1.HMB-IRB-NPU.txt'\n",
       "6. 'phs000200.v12.pht001000.v7.p3.f31_rel1.var_report.xml'\n",
       "7. 'phs000200.v12.pht001005.v6.p3.c1.f37_rel1.HMB-IRB.txt'\n",
       "8. 'phs000200.v12.pht001005.v6.p3.c2.f37_rel1.HMB-IRB-NPU.txt'\n",
       "9. 'phs000200.v12.pht001005.v6.p3.f37_rel1.var_report.xml'\n",
       "10. 'phs000200.v12.pht001019.v6.p3.c1.f80_rel1.HMB-IRB.txt'\n",
       "11. 'phs000200.v12.pht001019.v6.p3.c2.f80_rel1.HMB-IRB-NPU.txt'\n",
       "12. 'phs000200.v12.pht001019.v6.p3.f80_rel1.var_report.xml'\n",
       "13. 'phs000200.v12.pht001032.v9.p3.WHI_Sample.MULTI.txt'\n",
       "14. 'phs000200.v12.pht001032.v9.p3.WHI_Sample.var_report.xml'\n",
       "15. 'phs000200.v12.pht001514.v6.p3.c1.f134_rel1.HMB-IRB.txt'\n",
       "16. 'phs000200.v12.pht001514.v6.p3.c2.f134_rel1.HMB-IRB-NPU.txt'\n",
       "17. 'phs000200.v12.pht001514.v6.p3.f134_rel1.var_report.xml'\n",
       "18. 'processing'\n",
       "19. 'sample_level_unfiltered_PLINK_set'\n",
       "\n",
       "\n"
      ],
      "text/plain": [
       " [1] \"phs000200.v12.pht000998.v6.p3.c1.f2_rel1.HMB-IRB.txt\"      \n",
       " [2] \"phs000200.v12.pht000998.v6.p3.c2.f2_rel1.HMB-IRB-NPU.txt\"  \n",
       " [3] \"phs000200.v12.pht000998.v6.p3.f2_rel1.var_report.xml\"      \n",
       " [4] \"phs000200.v12.pht001000.v7.p3.c1.f31_rel1.HMB-IRB.txt\"     \n",
       " [5] \"phs000200.v12.pht001000.v7.p3.c2.f31_rel1.HMB-IRB-NPU.txt\" \n",
       " [6] \"phs000200.v12.pht001000.v7.p3.f31_rel1.var_report.xml\"     \n",
       " [7] \"phs000200.v12.pht001005.v6.p3.c1.f37_rel1.HMB-IRB.txt\"     \n",
       " [8] \"phs000200.v12.pht001005.v6.p3.c2.f37_rel1.HMB-IRB-NPU.txt\" \n",
       " [9] \"phs000200.v12.pht001005.v6.p3.f37_rel1.var_report.xml\"     \n",
       "[10] \"phs000200.v12.pht001019.v6.p3.c1.f80_rel1.HMB-IRB.txt\"     \n",
       "[11] \"phs000200.v12.pht001019.v6.p3.c2.f80_rel1.HMB-IRB-NPU.txt\" \n",
       "[12] \"phs000200.v12.pht001019.v6.p3.f80_rel1.var_report.xml\"     \n",
       "[13] \"phs000200.v12.pht001032.v9.p3.WHI_Sample.MULTI.txt\"        \n",
       "[14] \"phs000200.v12.pht001032.v9.p3.WHI_Sample.var_report.xml\"   \n",
       "[15] \"phs000200.v12.pht001514.v6.p3.c1.f134_rel1.HMB-IRB.txt\"    \n",
       "[16] \"phs000200.v12.pht001514.v6.p3.c2.f134_rel1.HMB-IRB-NPU.txt\"\n",
       "[17] \"phs000200.v12.pht001514.v6.p3.f134_rel1.var_report.xml\"    \n",
       "[18] \"processing\"                                                \n",
       "[19] \"sample_level_unfiltered_PLINK_set\"                         "
      ]
     },
     "metadata": {},
     "output_type": "display_data"
    }
   ],
   "source": [
    "setwd(\"~/projects/uui/PhenotypeFiles/dbGaP-30943/\")\n",
    "list.files()"
   ]
  },
  {
   "cell_type": "code",
   "execution_count": 227,
   "id": "8333d81d-fb3e-49fc-a589-275b421f8b9b",
   "metadata": {},
   "outputs": [
    {
     "data": {
      "text/html": [
       "<table class=\"dataframe\">\n",
       "<caption>A data.frame: 6 × 2</caption>\n",
       "<thead>\n",
       "\t<tr><th></th><th scope=col>SUBJID</th><th scope=col>SAMPLE_ID</th></tr>\n",
       "\t<tr><th></th><th scope=col>&lt;int&gt;</th><th scope=col>&lt;int&gt;</th></tr>\n",
       "</thead>\n",
       "<tbody>\n",
       "\t<tr><th scope=row>1</th><td>729534</td><td>100034</td></tr>\n",
       "\t<tr><th scope=row>2</th><td>716669</td><td>100046</td></tr>\n",
       "\t<tr><th scope=row>3</th><td>719273</td><td>100134</td></tr>\n",
       "\t<tr><th scope=row>4</th><td>857580</td><td>100146</td></tr>\n",
       "\t<tr><th scope=row>5</th><td>777019</td><td>100155</td></tr>\n",
       "\t<tr><th scope=row>6</th><td>725283</td><td>100210</td></tr>\n",
       "</tbody>\n",
       "</table>\n"
      ],
      "text/latex": [
       "A data.frame: 6 × 2\n",
       "\\begin{tabular}{r|ll}\n",
       "  & SUBJID & SAMPLE\\_ID\\\\\n",
       "  & <int> & <int>\\\\\n",
       "\\hline\n",
       "\t1 & 729534 & 100034\\\\\n",
       "\t2 & 716669 & 100046\\\\\n",
       "\t3 & 719273 & 100134\\\\\n",
       "\t4 & 857580 & 100146\\\\\n",
       "\t5 & 777019 & 100155\\\\\n",
       "\t6 & 725283 & 100210\\\\\n",
       "\\end{tabular}\n"
      ],
      "text/markdown": [
       "\n",
       "A data.frame: 6 × 2\n",
       "\n",
       "| <!--/--> | SUBJID &lt;int&gt; | SAMPLE_ID &lt;int&gt; |\n",
       "|---|---|---|\n",
       "| 1 | 729534 | 100034 |\n",
       "| 2 | 716669 | 100046 |\n",
       "| 3 | 719273 | 100134 |\n",
       "| 4 | 857580 | 100146 |\n",
       "| 5 | 777019 | 100155 |\n",
       "| 6 | 725283 | 100210 |\n",
       "\n"
      ],
      "text/plain": [
       "  SUBJID SAMPLE_ID\n",
       "1 729534 100034   \n",
       "2 716669 100046   \n",
       "3 719273 100134   \n",
       "4 857580 100146   \n",
       "5 777019 100155   \n",
       "6 725283 100210   "
      ]
     },
     "metadata": {},
     "output_type": "display_data"
    },
    {
     "data": {
      "text/html": [
       "4929"
      ],
      "text/latex": [
       "4929"
      ],
      "text/markdown": [
       "4929"
      ],
      "text/plain": [
       "[1] 4929"
      ]
     },
     "metadata": {},
     "output_type": "display_data"
    }
   ],
   "source": [
    "# load all data\n",
    "subject_sampleids <- read.delim(\"processing/phs000315_subject_sampleid_map_no_positive_controls.txt\",\n",
    "                              header = T, \n",
    "                              sep = \"\\t\")\n",
    "\n",
    "head(subject_sampleids) \n",
    "length(subject_sampleids$SUBJID)\n",
    "\n",
    "\n",
    "age_race_c1 <- read.delim(\"phs000200.v12.pht000998.v6.p3.c1.f2_rel1.HMB-IRB.txt\",\n",
    "                              header = T, \n",
    "                              sep = \"\\t\",\n",
    "                              skip = 10)\n",
    "age_race_c2 <- read.delim(\"phs000200.v12.pht000998.v6.p3.c2.f2_rel1.HMB-IRB-NPU.txt\",\n",
    "                              header = T, \n",
    "                              sep = \"\\t\",\n",
    "                              skip = 10)\n",
    "parity_c1 <- read.delim(\"phs000200.v12.pht001000.v7.p3.c1.f31_rel1.HMB-IRB.txt\",\n",
    "                              header = T, \n",
    "                              sep = \"\\t\",\n",
    "                              skip = 10)\n",
    "parity_c2 <- read.delim(\"phs000200.v12.pht001000.v7.p3.c2.f31_rel1.HMB-IRB-NPU.txt\",\n",
    "                              header = T, \n",
    "                              sep = \"\\t\",\n",
    "                              skip = 10)\n",
    "\n",
    "bmi_c1 <- read.delim(\"phs000200.v12.pht001019.v6.p3.c1.f80_rel1.HMB-IRB.txt\",\n",
    "                              header = T, \n",
    "                              sep = \"\\t\",\n",
    "                              skip = 10)\n",
    "\n",
    "bmi_c2 <- read.delim(\"phs000200.v12.pht001019.v6.p3.c2.f80_rel1.HMB-IRB-NPU.txt\",\n",
    "                              header = T, \n",
    "                              sep = \"\\t\",\n",
    "                              skip = 10)\n",
    "\n",
    "parkinsons_c1 <- read.delim(\"phs000200.v12.pht001514.v6.p3.c1.f134_rel1.HMB-IRB.txt\",\n",
    "                              header = T, \n",
    "                              sep = \"\\t\",\n",
    "                              skip = 10)\n",
    "\n",
    "parkinsons_c2 <- read.delim(\"phs000200.v12.pht001514.v6.p3.c2.f134_rel1.HMB-IRB-NPU.txt\",\n",
    "                              header = T, \n",
    "                              sep = \"\\t\",\n",
    "                              skip = 10)\n",
    "\n",
    "diabetes_c1 <- read.delim(\"phs000200.v12.pht000998.v6.p3.c1.f2_rel1.HMB-IRB.txt\",\n",
    "                              header = T, \n",
    "                              sep = \"\\t\",\n",
    "                              skip = 10)\n",
    "\n",
    "diabetes_c2 <- read.delim(\"phs000200.v12.pht000998.v6.p3.c2.f2_rel1.HMB-IRB-NPU.txt\",,\n",
    "                              header = T, \n",
    "                              sep = \"\\t\",\n",
    "                              skip = 10)\n",
    "\n",
    "case_control_c1 <- read.delim(\"phs000200.v12.pht001005.v6.p3.c1.f37_rel1.HMB-IRB.txt\",\n",
    "                              header = T, \n",
    "                              sep = \"\\t\",\n",
    "                              skip = 10)\n",
    "\n",
    "case_control_c2 <- read.delim(\"phs000200.v12.pht001005.v6.p3.c2.f37_rel1.HMB-IRB-NPU.txt\",\n",
    "                              header = T, \n",
    "                              sep = \"\\t\",\n",
    "                              skip = 10)"
   ]
  },
  {
   "cell_type": "markdown",
   "id": "f3679079-f395-4906-a53f-676fec627185",
   "metadata": {},
   "source": [
    "## AGE & RACE"
   ]
  },
  {
   "cell_type": "code",
   "execution_count": 219,
   "id": "413bab74-6499-4c17-9c32-ca2572486252",
   "metadata": {},
   "outputs": [
    {
     "data": {
      "text/html": [
       "117675"
      ],
      "text/latex": [
       "117675"
      ],
      "text/markdown": [
       "117675"
      ],
      "text/plain": [
       "[1] 117675"
      ]
     },
     "metadata": {},
     "output_type": "display_data"
    },
    {
     "data": {
      "text/html": [
       "25538"
      ],
      "text/latex": [
       "25538"
      ],
      "text/markdown": [
       "25538"
      ],
      "text/plain": [
       "[1] 25538"
      ]
     },
     "metadata": {},
     "output_type": "display_data"
    },
    {
     "data": {
      "text/html": [
       "<table class=\"dataframe\">\n",
       "<caption>A data.frame: 6 × 72</caption>\n",
       "<thead>\n",
       "\t<tr><th></th><th scope=col>dbGaP_Subject_ID</th><th scope=col>SUBJID</th><th scope=col>F2DAYS</th><th scope=col>AGE</th><th scope=col>AREA3Y</th><th scope=col>OTHSTDY</th><th scope=col>EXSTDY</th><th scope=col>BRCA_F2</th><th scope=col>COLON_F2</th><th scope=col>COLON10Y</th><th scope=col>⋯</th><th scope=col>AVAILDM</th><th scope=col>INTHRT</th><th scope=col>AVAILHRT</th><th scope=col>TALKDOC</th><th scope=col>HRTINFDR</th><th scope=col>HELPFILL</th><th scope=col>AGER</th><th scope=col>HORMSTAT</th><th scope=col>AGEHYST</th><th scope=col>DIABTRT</th></tr>\n",
       "\t<tr><th></th><th scope=col>&lt;int&gt;</th><th scope=col>&lt;int&gt;</th><th scope=col>&lt;int&gt;</th><th scope=col>&lt;int&gt;</th><th scope=col>&lt;int&gt;</th><th scope=col>&lt;int&gt;</th><th scope=col>&lt;int&gt;</th><th scope=col>&lt;int&gt;</th><th scope=col>&lt;int&gt;</th><th scope=col>&lt;int&gt;</th><th scope=col>⋯</th><th scope=col>&lt;int&gt;</th><th scope=col>&lt;int&gt;</th><th scope=col>&lt;int&gt;</th><th scope=col>&lt;int&gt;</th><th scope=col>&lt;int&gt;</th><th scope=col>&lt;int&gt;</th><th scope=col>&lt;int&gt;</th><th scope=col>&lt;int&gt;</th><th scope=col>&lt;int&gt;</th><th scope=col>&lt;int&gt;</th></tr>\n",
       "</thead>\n",
       "<tbody>\n",
       "\t<tr><th scope=row>1</th><td>220079</td><td>700001</td><td> -41</td><td>74</td><td>1</td><td>0</td><td>NA</td><td>0</td><td>0</td><td>NA</td><td>⋯</td><td>NA</td><td>0</td><td>NA</td><td>NA</td><td>NA</td><td>0</td><td>3</td><td>1</td><td> 2</td><td>0</td></tr>\n",
       "\t<tr><th scope=row>2</th><td>221745</td><td>700003</td><td> -55</td><td>59</td><td>1</td><td>0</td><td>NA</td><td>0</td><td>0</td><td>NA</td><td>⋯</td><td> 1</td><td>0</td><td>NA</td><td>NA</td><td>NA</td><td>0</td><td>1</td><td>1</td><td> 2</td><td>0</td></tr>\n",
       "\t<tr><th scope=row>3</th><td>215143</td><td>700004</td><td>  -8</td><td>56</td><td>1</td><td>0</td><td>NA</td><td>0</td><td>0</td><td>NA</td><td>⋯</td><td> 1</td><td>0</td><td>NA</td><td>NA</td><td>NA</td><td>0</td><td>1</td><td>1</td><td>NA</td><td>0</td></tr>\n",
       "\t<tr><th scope=row>4</th><td>214904</td><td>700005</td><td>-241</td><td>64</td><td>1</td><td>0</td><td>NA</td><td>0</td><td>0</td><td>NA</td><td>⋯</td><td>NA</td><td>1</td><td> 1</td><td> 2</td><td> 1</td><td>0</td><td>2</td><td>1</td><td> 2</td><td>0</td></tr>\n",
       "\t<tr><th scope=row>5</th><td>220352</td><td>700006</td><td> -44</td><td>58</td><td>1</td><td>0</td><td>NA</td><td>0</td><td>0</td><td>NA</td><td>⋯</td><td>NA</td><td>0</td><td>NA</td><td>NA</td><td>NA</td><td>0</td><td>1</td><td>0</td><td> 1</td><td>0</td></tr>\n",
       "\t<tr><th scope=row>6</th><td>216549</td><td>700007</td><td> -82</td><td>74</td><td>1</td><td>0</td><td>NA</td><td>0</td><td>0</td><td>NA</td><td>⋯</td><td> 1</td><td>0</td><td>NA</td><td>NA</td><td>NA</td><td>0</td><td>3</td><td>2</td><td> 2</td><td>0</td></tr>\n",
       "</tbody>\n",
       "</table>\n"
      ],
      "text/latex": [
       "A data.frame: 6 × 72\n",
       "\\begin{tabular}{r|lllllllllllllllllllll}\n",
       "  & dbGaP\\_Subject\\_ID & SUBJID & F2DAYS & AGE & AREA3Y & OTHSTDY & EXSTDY & BRCA\\_F2 & COLON\\_F2 & COLON10Y & ⋯ & AVAILDM & INTHRT & AVAILHRT & TALKDOC & HRTINFDR & HELPFILL & AGER & HORMSTAT & AGEHYST & DIABTRT\\\\\n",
       "  & <int> & <int> & <int> & <int> & <int> & <int> & <int> & <int> & <int> & <int> & ⋯ & <int> & <int> & <int> & <int> & <int> & <int> & <int> & <int> & <int> & <int>\\\\\n",
       "\\hline\n",
       "\t1 & 220079 & 700001 &  -41 & 74 & 1 & 0 & NA & 0 & 0 & NA & ⋯ & NA & 0 & NA & NA & NA & 0 & 3 & 1 &  2 & 0\\\\\n",
       "\t2 & 221745 & 700003 &  -55 & 59 & 1 & 0 & NA & 0 & 0 & NA & ⋯ &  1 & 0 & NA & NA & NA & 0 & 1 & 1 &  2 & 0\\\\\n",
       "\t3 & 215143 & 700004 &   -8 & 56 & 1 & 0 & NA & 0 & 0 & NA & ⋯ &  1 & 0 & NA & NA & NA & 0 & 1 & 1 & NA & 0\\\\\n",
       "\t4 & 214904 & 700005 & -241 & 64 & 1 & 0 & NA & 0 & 0 & NA & ⋯ & NA & 1 &  1 &  2 &  1 & 0 & 2 & 1 &  2 & 0\\\\\n",
       "\t5 & 220352 & 700006 &  -44 & 58 & 1 & 0 & NA & 0 & 0 & NA & ⋯ & NA & 0 & NA & NA & NA & 0 & 1 & 0 &  1 & 0\\\\\n",
       "\t6 & 216549 & 700007 &  -82 & 74 & 1 & 0 & NA & 0 & 0 & NA & ⋯ &  1 & 0 & NA & NA & NA & 0 & 3 & 2 &  2 & 0\\\\\n",
       "\\end{tabular}\n"
      ],
      "text/markdown": [
       "\n",
       "A data.frame: 6 × 72\n",
       "\n",
       "| <!--/--> | dbGaP_Subject_ID &lt;int&gt; | SUBJID &lt;int&gt; | F2DAYS &lt;int&gt; | AGE &lt;int&gt; | AREA3Y &lt;int&gt; | OTHSTDY &lt;int&gt; | EXSTDY &lt;int&gt; | BRCA_F2 &lt;int&gt; | COLON_F2 &lt;int&gt; | COLON10Y &lt;int&gt; | ⋯ ⋯ | AVAILDM &lt;int&gt; | INTHRT &lt;int&gt; | AVAILHRT &lt;int&gt; | TALKDOC &lt;int&gt; | HRTINFDR &lt;int&gt; | HELPFILL &lt;int&gt; | AGER &lt;int&gt; | HORMSTAT &lt;int&gt; | AGEHYST &lt;int&gt; | DIABTRT &lt;int&gt; |\n",
       "|---|---|---|---|---|---|---|---|---|---|---|---|---|---|---|---|---|---|---|---|---|---|\n",
       "| 1 | 220079 | 700001 |  -41 | 74 | 1 | 0 | NA | 0 | 0 | NA | ⋯ | NA | 0 | NA | NA | NA | 0 | 3 | 1 |  2 | 0 |\n",
       "| 2 | 221745 | 700003 |  -55 | 59 | 1 | 0 | NA | 0 | 0 | NA | ⋯ |  1 | 0 | NA | NA | NA | 0 | 1 | 1 |  2 | 0 |\n",
       "| 3 | 215143 | 700004 |   -8 | 56 | 1 | 0 | NA | 0 | 0 | NA | ⋯ |  1 | 0 | NA | NA | NA | 0 | 1 | 1 | NA | 0 |\n",
       "| 4 | 214904 | 700005 | -241 | 64 | 1 | 0 | NA | 0 | 0 | NA | ⋯ | NA | 1 |  1 |  2 |  1 | 0 | 2 | 1 |  2 | 0 |\n",
       "| 5 | 220352 | 700006 |  -44 | 58 | 1 | 0 | NA | 0 | 0 | NA | ⋯ | NA | 0 | NA | NA | NA | 0 | 1 | 0 |  1 | 0 |\n",
       "| 6 | 216549 | 700007 |  -82 | 74 | 1 | 0 | NA | 0 | 0 | NA | ⋯ |  1 | 0 | NA | NA | NA | 0 | 3 | 2 |  2 | 0 |\n",
       "\n"
      ],
      "text/plain": [
       "  dbGaP_Subject_ID SUBJID F2DAYS AGE AREA3Y OTHSTDY EXSTDY BRCA_F2 COLON_F2\n",
       "1 220079           700001  -41   74  1      0       NA     0       0       \n",
       "2 221745           700003  -55   59  1      0       NA     0       0       \n",
       "3 215143           700004   -8   56  1      0       NA     0       0       \n",
       "4 214904           700005 -241   64  1      0       NA     0       0       \n",
       "5 220352           700006  -44   58  1      0       NA     0       0       \n",
       "6 216549           700007  -82   74  1      0       NA     0       0       \n",
       "  COLON10Y ⋯ AVAILDM INTHRT AVAILHRT TALKDOC HRTINFDR HELPFILL AGER HORMSTAT\n",
       "1 NA       ⋯ NA      0      NA       NA      NA       0        3    1       \n",
       "2 NA       ⋯  1      0      NA       NA      NA       0        1    1       \n",
       "3 NA       ⋯  1      0      NA       NA      NA       0        1    1       \n",
       "4 NA       ⋯ NA      1       1        2       1       0        2    1       \n",
       "5 NA       ⋯ NA      0      NA       NA      NA       0        1    0       \n",
       "6 NA       ⋯  1      0      NA       NA      NA       0        3    2       \n",
       "  AGEHYST DIABTRT\n",
       "1  2      0      \n",
       "2  2      0      \n",
       "3 NA      0      \n",
       "4  2      0      \n",
       "5  1      0      \n",
       "6  2      0      "
      ]
     },
     "metadata": {},
     "output_type": "display_data"
    },
    {
     "data": {
      "text/html": [
       "<table class=\"dataframe\">\n",
       "<caption>A data.frame: 6 × 3</caption>\n",
       "<thead>\n",
       "\t<tr><th></th><th scope=col>SUBJID</th><th scope=col>AGE</th><th scope=col>RACE</th></tr>\n",
       "\t<tr><th></th><th scope=col>&lt;int&gt;</th><th scope=col>&lt;int&gt;</th><th scope=col>&lt;int&gt;</th></tr>\n",
       "</thead>\n",
       "<tbody>\n",
       "\t<tr><th scope=row>31</th><td>700032</td><td>57</td><td>4</td></tr>\n",
       "\t<tr><th scope=row>75</th><td>700078</td><td>59</td><td>3</td></tr>\n",
       "\t<tr><th scope=row>88</th><td>700091</td><td>63</td><td>4</td></tr>\n",
       "\t<tr><th scope=row>102</th><td>700106</td><td>52</td><td>3</td></tr>\n",
       "\t<tr><th scope=row>115</th><td>700122</td><td>57</td><td>4</td></tr>\n",
       "\t<tr><th scope=row>194</th><td>700216</td><td>60</td><td>3</td></tr>\n",
       "</tbody>\n",
       "</table>\n"
      ],
      "text/latex": [
       "A data.frame: 6 × 3\n",
       "\\begin{tabular}{r|lll}\n",
       "  & SUBJID & AGE & RACE\\\\\n",
       "  & <int> & <int> & <int>\\\\\n",
       "\\hline\n",
       "\t31 & 700032 & 57 & 4\\\\\n",
       "\t75 & 700078 & 59 & 3\\\\\n",
       "\t88 & 700091 & 63 & 4\\\\\n",
       "\t102 & 700106 & 52 & 3\\\\\n",
       "\t115 & 700122 & 57 & 4\\\\\n",
       "\t194 & 700216 & 60 & 3\\\\\n",
       "\\end{tabular}\n"
      ],
      "text/markdown": [
       "\n",
       "A data.frame: 6 × 3\n",
       "\n",
       "| <!--/--> | SUBJID &lt;int&gt; | AGE &lt;int&gt; | RACE &lt;int&gt; |\n",
       "|---|---|---|---|\n",
       "| 31 | 700032 | 57 | 4 |\n",
       "| 75 | 700078 | 59 | 3 |\n",
       "| 88 | 700091 | 63 | 4 |\n",
       "| 102 | 700106 | 52 | 3 |\n",
       "| 115 | 700122 | 57 | 4 |\n",
       "| 194 | 700216 | 60 | 3 |\n",
       "\n"
      ],
      "text/plain": [
       "    SUBJID AGE RACE\n",
       "31  700032 57  4   \n",
       "75  700078 59  3   \n",
       "88  700091 63  4   \n",
       "102 700106 52  3   \n",
       "115 700122 57  4   \n",
       "194 700216 60  3   "
      ]
     },
     "metadata": {},
     "output_type": "display_data"
    },
    {
     "data": {
      "text/html": [
       "4894"
      ],
      "text/latex": [
       "4894"
      ],
      "text/markdown": [
       "4894"
      ],
      "text/plain": [
       "[1] 4894"
      ]
     },
     "metadata": {},
     "output_type": "display_data"
    }
   ],
   "source": [
    "length(age_race_c1$SUBJID)\n",
    "length(age_race_c2$SUBJID)\n",
    "\n",
    "head(age_race_c1)\n",
    "\n",
    "age_race_c1_matches <- which(age_race_c1$SUBJID %in% subject_sampleids$SUBJID)\n",
    "age_race_c1_matches_df <- age_race_c1[age_race_c1_matches, c(\"SUBJID\",\"AGE\", \"RACE\")]\n",
    "\n",
    "\n",
    "age_race_c2_matches <- which(age_race_c2$SUBJID %in% subject_sampleids$SUBJID)\n",
    "age_race_c2_matches_df <- age_race_c2[age_race_c2_matches, c(\"SUBJID\",\"AGE\", \"RACE\")]\n",
    "\n",
    "age_race_c1c2_merged <- rbind(age_race_c1_matches_df, age_race_c2_matches_df)\n",
    "head(age_race_c1c2_merged)\n",
    "length(age_race_c1c2_merged$SUBJID)\n",
    "\n",
    "outfile <-  \"processing/age_race_c1c2_merged.csv\"\n",
    "write.csv(age_race_c1c2_merged, outfile, quote=F, row.names=F)"
   ]
  },
  {
   "cell_type": "markdown",
   "id": "d30020f0-8200-4209-a1e5-36f36e34299f",
   "metadata": {},
   "source": [
    "## Parity"
   ]
  },
  {
   "cell_type": "code",
   "execution_count": 220,
   "id": "3b730d5c-86e4-4cdd-9623-8922af50dfa1",
   "metadata": {},
   "outputs": [
    {
     "data": {
      "text/html": [
       "117609"
      ],
      "text/latex": [
       "117609"
      ],
      "text/markdown": [
       "117609"
      ],
      "text/plain": [
       "[1] 117609"
      ]
     },
     "metadata": {},
     "output_type": "display_data"
    },
    {
     "data": {
      "text/html": [
       "25518"
      ],
      "text/latex": [
       "25518"
      ],
      "text/markdown": [
       "25518"
      ],
      "text/plain": [
       "[1] 25518"
      ]
     },
     "metadata": {},
     "output_type": "display_data"
    },
    {
     "data": {
      "text/html": [
       "<table class=\"dataframe\">\n",
       "<caption>A data.frame: 6 × 62</caption>\n",
       "<thead>\n",
       "\t<tr><th></th><th scope=col>dbGaP_Subject_ID</th><th scope=col>SUBJID</th><th scope=col>F31DAYS</th><th scope=col>MENARCHE</th><th scope=col>MENSREG</th><th scope=col>MENSREGA</th><th scope=col>MENOPSEA</th><th scope=col>MENSWO1Y</th><th scope=col>MENSWOD</th><th scope=col>ANYMENSA</th><th scope=col>⋯</th><th scope=col>BRSTREMO</th><th scope=col>GRAVID</th><th scope=col>PARITY</th><th scope=col>FULLTRMR</th><th scope=col>NUMLIVER</th><th scope=col>AGEFBIR</th><th scope=col>BOOPH</th><th scope=col>BRSTFDMO</th><th scope=col>BRSTDIS</th><th scope=col>MENO</th></tr>\n",
       "\t<tr><th></th><th scope=col>&lt;int&gt;</th><th scope=col>&lt;int&gt;</th><th scope=col>&lt;int&gt;</th><th scope=col>&lt;int&gt;</th><th scope=col>&lt;int&gt;</th><th scope=col>&lt;int&gt;</th><th scope=col>&lt;int&gt;</th><th scope=col>&lt;int&gt;</th><th scope=col>&lt;int&gt;</th><th scope=col>&lt;int&gt;</th><th scope=col>⋯</th><th scope=col>&lt;int&gt;</th><th scope=col>&lt;int&gt;</th><th scope=col>&lt;int&gt;</th><th scope=col>&lt;int&gt;</th><th scope=col>&lt;int&gt;</th><th scope=col>&lt;int&gt;</th><th scope=col>&lt;int&gt;</th><th scope=col>&lt;int&gt;</th><th scope=col>&lt;int&gt;</th><th scope=col>&lt;int&gt;</th></tr>\n",
       "</thead>\n",
       "<tbody>\n",
       "\t<tr><th scope=row>1</th><td>220079</td><td>700001</td><td>-30</td><td>5</td><td>2</td><td> 8</td><td>47</td><td>0</td><td>NA</td><td>47</td><td>⋯</td><td>NA</td><td>3</td><td>5</td><td>1</td><td>3</td><td>2</td><td> 0</td><td> 3</td><td>0</td><td>47</td></tr>\n",
       "\t<tr><th scope=row>2</th><td>221745</td><td>700003</td><td> -7</td><td>4</td><td>1</td><td>NA</td><td>47</td><td>0</td><td>NA</td><td>47</td><td>⋯</td><td>NA</td><td>2</td><td>1</td><td>1</td><td>1</td><td>2</td><td>NA</td><td>NA</td><td>0</td><td>48</td></tr>\n",
       "\t<tr><th scope=row>3</th><td>215143</td><td>700004</td><td> -2</td><td>5</td><td>1</td><td> 5</td><td>NA</td><td>0</td><td>NA</td><td>52</td><td>⋯</td><td>NA</td><td>2</td><td>2</td><td>1</td><td>2</td><td>2</td><td> 0</td><td> 0</td><td>2</td><td>52</td></tr>\n",
       "\t<tr><th scope=row>4</th><td>214904</td><td>700005</td><td>-16</td><td>7</td><td>2</td><td> 8</td><td>43</td><td>0</td><td>NA</td><td>43</td><td>⋯</td><td>NA</td><td>2</td><td>1</td><td>1</td><td>1</td><td>3</td><td> 1</td><td> 0</td><td>0</td><td>42</td></tr>\n",
       "\t<tr><th scope=row>5</th><td>220352</td><td>700006</td><td>-22</td><td>4</td><td>1</td><td>NA</td><td>38</td><td>0</td><td>NA</td><td>38</td><td>⋯</td><td>NA</td><td>2</td><td>2</td><td>1</td><td>2</td><td>2</td><td> 0</td><td> 0</td><td>0</td><td>50</td></tr>\n",
       "\t<tr><th scope=row>6</th><td>216549</td><td>700007</td><td>-13</td><td>5</td><td>1</td><td> 5</td><td>42</td><td>0</td><td>NA</td><td>42</td><td>⋯</td><td>NA</td><td>2</td><td>0</td><td>0</td><td>0</td><td>0</td><td> 0</td><td> 0</td><td>0</td><td>42</td></tr>\n",
       "</tbody>\n",
       "</table>\n"
      ],
      "text/latex": [
       "A data.frame: 6 × 62\n",
       "\\begin{tabular}{r|lllllllllllllllllllll}\n",
       "  & dbGaP\\_Subject\\_ID & SUBJID & F31DAYS & MENARCHE & MENSREG & MENSREGA & MENOPSEA & MENSWO1Y & MENSWOD & ANYMENSA & ⋯ & BRSTREMO & GRAVID & PARITY & FULLTRMR & NUMLIVER & AGEFBIR & BOOPH & BRSTFDMO & BRSTDIS & MENO\\\\\n",
       "  & <int> & <int> & <int> & <int> & <int> & <int> & <int> & <int> & <int> & <int> & ⋯ & <int> & <int> & <int> & <int> & <int> & <int> & <int> & <int> & <int> & <int>\\\\\n",
       "\\hline\n",
       "\t1 & 220079 & 700001 & -30 & 5 & 2 &  8 & 47 & 0 & NA & 47 & ⋯ & NA & 3 & 5 & 1 & 3 & 2 &  0 &  3 & 0 & 47\\\\\n",
       "\t2 & 221745 & 700003 &  -7 & 4 & 1 & NA & 47 & 0 & NA & 47 & ⋯ & NA & 2 & 1 & 1 & 1 & 2 & NA & NA & 0 & 48\\\\\n",
       "\t3 & 215143 & 700004 &  -2 & 5 & 1 &  5 & NA & 0 & NA & 52 & ⋯ & NA & 2 & 2 & 1 & 2 & 2 &  0 &  0 & 2 & 52\\\\\n",
       "\t4 & 214904 & 700005 & -16 & 7 & 2 &  8 & 43 & 0 & NA & 43 & ⋯ & NA & 2 & 1 & 1 & 1 & 3 &  1 &  0 & 0 & 42\\\\\n",
       "\t5 & 220352 & 700006 & -22 & 4 & 1 & NA & 38 & 0 & NA & 38 & ⋯ & NA & 2 & 2 & 1 & 2 & 2 &  0 &  0 & 0 & 50\\\\\n",
       "\t6 & 216549 & 700007 & -13 & 5 & 1 &  5 & 42 & 0 & NA & 42 & ⋯ & NA & 2 & 0 & 0 & 0 & 0 &  0 &  0 & 0 & 42\\\\\n",
       "\\end{tabular}\n"
      ],
      "text/markdown": [
       "\n",
       "A data.frame: 6 × 62\n",
       "\n",
       "| <!--/--> | dbGaP_Subject_ID &lt;int&gt; | SUBJID &lt;int&gt; | F31DAYS &lt;int&gt; | MENARCHE &lt;int&gt; | MENSREG &lt;int&gt; | MENSREGA &lt;int&gt; | MENOPSEA &lt;int&gt; | MENSWO1Y &lt;int&gt; | MENSWOD &lt;int&gt; | ANYMENSA &lt;int&gt; | ⋯ ⋯ | BRSTREMO &lt;int&gt; | GRAVID &lt;int&gt; | PARITY &lt;int&gt; | FULLTRMR &lt;int&gt; | NUMLIVER &lt;int&gt; | AGEFBIR &lt;int&gt; | BOOPH &lt;int&gt; | BRSTFDMO &lt;int&gt; | BRSTDIS &lt;int&gt; | MENO &lt;int&gt; |\n",
       "|---|---|---|---|---|---|---|---|---|---|---|---|---|---|---|---|---|---|---|---|---|---|\n",
       "| 1 | 220079 | 700001 | -30 | 5 | 2 |  8 | 47 | 0 | NA | 47 | ⋯ | NA | 3 | 5 | 1 | 3 | 2 |  0 |  3 | 0 | 47 |\n",
       "| 2 | 221745 | 700003 |  -7 | 4 | 1 | NA | 47 | 0 | NA | 47 | ⋯ | NA | 2 | 1 | 1 | 1 | 2 | NA | NA | 0 | 48 |\n",
       "| 3 | 215143 | 700004 |  -2 | 5 | 1 |  5 | NA | 0 | NA | 52 | ⋯ | NA | 2 | 2 | 1 | 2 | 2 |  0 |  0 | 2 | 52 |\n",
       "| 4 | 214904 | 700005 | -16 | 7 | 2 |  8 | 43 | 0 | NA | 43 | ⋯ | NA | 2 | 1 | 1 | 1 | 3 |  1 |  0 | 0 | 42 |\n",
       "| 5 | 220352 | 700006 | -22 | 4 | 1 | NA | 38 | 0 | NA | 38 | ⋯ | NA | 2 | 2 | 1 | 2 | 2 |  0 |  0 | 0 | 50 |\n",
       "| 6 | 216549 | 700007 | -13 | 5 | 1 |  5 | 42 | 0 | NA | 42 | ⋯ | NA | 2 | 0 | 0 | 0 | 0 |  0 |  0 | 0 | 42 |\n",
       "\n"
      ],
      "text/plain": [
       "  dbGaP_Subject_ID SUBJID F31DAYS MENARCHE MENSREG MENSREGA MENOPSEA MENSWO1Y\n",
       "1 220079           700001 -30     5        2        8       47       0       \n",
       "2 221745           700003  -7     4        1       NA       47       0       \n",
       "3 215143           700004  -2     5        1        5       NA       0       \n",
       "4 214904           700005 -16     7        2        8       43       0       \n",
       "5 220352           700006 -22     4        1       NA       38       0       \n",
       "6 216549           700007 -13     5        1        5       42       0       \n",
       "  MENSWOD ANYMENSA ⋯ BRSTREMO GRAVID PARITY FULLTRMR NUMLIVER AGEFBIR BOOPH\n",
       "1 NA      47       ⋯ NA       3      5      1        3        2        0   \n",
       "2 NA      47       ⋯ NA       2      1      1        1        2       NA   \n",
       "3 NA      52       ⋯ NA       2      2      1        2        2        0   \n",
       "4 NA      43       ⋯ NA       2      1      1        1        3        1   \n",
       "5 NA      38       ⋯ NA       2      2      1        2        2        0   \n",
       "6 NA      42       ⋯ NA       2      0      0        0        0        0   \n",
       "  BRSTFDMO BRSTDIS MENO\n",
       "1  3       0       47  \n",
       "2 NA       0       48  \n",
       "3  0       2       52  \n",
       "4  0       0       42  \n",
       "5  0       0       50  \n",
       "6  0       0       42  "
      ]
     },
     "metadata": {},
     "output_type": "display_data"
    },
    {
     "data": {
      "text/html": [
       "3737"
      ],
      "text/latex": [
       "3737"
      ],
      "text/markdown": [
       "3737"
      ],
      "text/plain": [
       "[1] 3737"
      ]
     },
     "metadata": {},
     "output_type": "display_data"
    },
    {
     "data": {
      "text/html": [
       "1155"
      ],
      "text/latex": [
       "1155"
      ],
      "text/markdown": [
       "1155"
      ],
      "text/plain": [
       "[1] 1155"
      ]
     },
     "metadata": {},
     "output_type": "display_data"
    },
    {
     "data": {
      "text/html": [
       "<table class=\"dataframe\">\n",
       "<caption>A data.frame: 6 × 2</caption>\n",
       "<thead>\n",
       "\t<tr><th></th><th scope=col>SUBJID</th><th scope=col>PARITY</th></tr>\n",
       "\t<tr><th></th><th scope=col>&lt;int&gt;</th><th scope=col>&lt;int&gt;</th></tr>\n",
       "</thead>\n",
       "<tbody>\n",
       "\t<tr><th scope=row>31</th><td>700032</td><td>NA</td></tr>\n",
       "\t<tr><th scope=row>75</th><td>700078</td><td> 5</td></tr>\n",
       "\t<tr><th scope=row>88</th><td>700091</td><td> 5</td></tr>\n",
       "\t<tr><th scope=row>102</th><td>700106</td><td> 1</td></tr>\n",
       "\t<tr><th scope=row>115</th><td>700122</td><td> 1</td></tr>\n",
       "\t<tr><th scope=row>194</th><td>700216</td><td> 5</td></tr>\n",
       "</tbody>\n",
       "</table>\n"
      ],
      "text/latex": [
       "A data.frame: 6 × 2\n",
       "\\begin{tabular}{r|ll}\n",
       "  & SUBJID & PARITY\\\\\n",
       "  & <int> & <int>\\\\\n",
       "\\hline\n",
       "\t31 & 700032 & NA\\\\\n",
       "\t75 & 700078 &  5\\\\\n",
       "\t88 & 700091 &  5\\\\\n",
       "\t102 & 700106 &  1\\\\\n",
       "\t115 & 700122 &  1\\\\\n",
       "\t194 & 700216 &  5\\\\\n",
       "\\end{tabular}\n"
      ],
      "text/markdown": [
       "\n",
       "A data.frame: 6 × 2\n",
       "\n",
       "| <!--/--> | SUBJID &lt;int&gt; | PARITY &lt;int&gt; |\n",
       "|---|---|---|\n",
       "| 31 | 700032 | NA |\n",
       "| 75 | 700078 |  5 |\n",
       "| 88 | 700091 |  5 |\n",
       "| 102 | 700106 |  1 |\n",
       "| 115 | 700122 |  1 |\n",
       "| 194 | 700216 |  5 |\n",
       "\n"
      ],
      "text/plain": [
       "    SUBJID PARITY\n",
       "31  700032 NA    \n",
       "75  700078  5    \n",
       "88  700091  5    \n",
       "102 700106  1    \n",
       "115 700122  1    \n",
       "194 700216  5    "
      ]
     },
     "metadata": {},
     "output_type": "display_data"
    }
   ],
   "source": [
    "length(parity_c1$SUBJID)\n",
    "length(parity_c2$SUBJID)\n",
    "head(parity_c1)\n",
    "\n",
    "parity_c1_matches <- which(parity_c1$SUBJID %in% subject_sampleids$SUBJID)\n",
    "parity_c1_matches_df <- parity_c1[parity_c1_matches, c(\"SUBJID\", \"PARITY\")]\n",
    "length(parity_c1_matches)\n",
    "\n",
    "parity_c2_matches <- which(parity_c2$SUBJID %in% subject_sampleids$SUBJID)\n",
    "parity_c2_matches_df <- parity_c2[parity_c2_matches, c(\"SUBJID\",\"PARITY\")]\n",
    "length(parity_c2_matches)\n",
    "\n",
    "parity_c1c2_merged <- rbind(parity_c1_matches_df, parity_c2_matches_df)\n",
    "head(parity_c1c2_merged)\n",
    "\n",
    "outfile <-  \"processing/parity_c1c2_merged.csv\"\n",
    "write.csv(parity_c1c2_merged, outfile, quote=F, row.names=F)"
   ]
  },
  {
   "cell_type": "markdown",
   "id": "63930714-2d15-4e83-b0c7-ae9f5abf761c",
   "metadata": {},
   "source": [
    "## BMI"
   ]
  },
  {
   "cell_type": "code",
   "execution_count": 225,
   "id": "b9526e85-dbc3-4329-9025-d2ea9ea2f276",
   "metadata": {},
   "outputs": [
    {
     "data": {
      "text/html": [
       "551936"
      ],
      "text/latex": [
       "551936"
      ],
      "text/markdown": [
       "551936"
      ],
      "text/plain": [
       "[1] 551936"
      ]
     },
     "metadata": {},
     "output_type": "display_data"
    },
    {
     "data": {
      "text/html": [
       "63629"
      ],
      "text/latex": [
       "63629"
      ],
      "text/markdown": [
       "63629"
      ],
      "text/plain": [
       "[1] 63629"
      ]
     },
     "metadata": {},
     "output_type": "display_data"
    },
    {
     "data": {
      "text/html": [
       "<table class=\"dataframe\">\n",
       "<caption>A data.frame: 6 × 22</caption>\n",
       "<thead>\n",
       "\t<tr><th></th><th scope=col>dbGaP_Subject_ID</th><th scope=col>SUBJID</th><th scope=col>F80VTYP</th><th scope=col>F80VY</th><th scope=col>F80DAYS</th><th scope=col>PULSE30</th><th scope=col>SYSTBP1</th><th scope=col>DIASBP1</th><th scope=col>SYSTBP2</th><th scope=col>DIASBP2</th><th scope=col>⋯</th><th scope=col>WAISTX</th><th scope=col>HIPX</th><th scope=col>WHEXPECT</th><th scope=col>SYST</th><th scope=col>SYSTOL</th><th scope=col>DIAS</th><th scope=col>DIASTOL</th><th scope=col>BMIX</th><th scope=col>BMICX</th><th scope=col>WHRX</th></tr>\n",
       "\t<tr><th></th><th scope=col>&lt;int&gt;</th><th scope=col>&lt;int&gt;</th><th scope=col>&lt;int&gt;</th><th scope=col>&lt;int&gt;</th><th scope=col>&lt;int&gt;</th><th scope=col>&lt;int&gt;</th><th scope=col>&lt;int&gt;</th><th scope=col>&lt;int&gt;</th><th scope=col>&lt;int&gt;</th><th scope=col>&lt;int&gt;</th><th scope=col>⋯</th><th scope=col>&lt;dbl&gt;</th><th scope=col>&lt;dbl&gt;</th><th scope=col>&lt;int&gt;</th><th scope=col>&lt;dbl&gt;</th><th scope=col>&lt;int&gt;</th><th scope=col>&lt;dbl&gt;</th><th scope=col>&lt;int&gt;</th><th scope=col>&lt;dbl&gt;</th><th scope=col>&lt;int&gt;</th><th scope=col>&lt;dbl&gt;</th></tr>\n",
       "</thead>\n",
       "<tbody>\n",
       "\t<tr><th scope=row>1</th><td>220079</td><td>700001</td><td>1</td><td>0</td><td> -30</td><td>38</td><td>130</td><td>NA</td><td>130</td><td>66</td><td>⋯</td><td>92.5</td><td>102.5</td><td>1</td><td>130</td><td>2</td><td>66</td><td>1</td><td>33.17012</td><td>4</td><td>0.90244</td></tr>\n",
       "\t<tr><th scope=row>2</th><td>220079</td><td>700001</td><td>3</td><td>3</td><td>1001</td><td>36</td><td>138</td><td>86</td><td>140</td><td>86</td><td>⋯</td><td>91.0</td><td>103.5</td><td>1</td><td>139</td><td>2</td><td>86</td><td>1</td><td>31.63451</td><td>4</td><td>0.87923</td></tr>\n",
       "\t<tr><th scope=row>3</th><td>221745</td><td>700003</td><td>1</td><td>0</td><td>  -7</td><td>32</td><td>136</td><td>90</td><td>136</td><td>94</td><td>⋯</td><td>71.0</td><td>100.0</td><td>1</td><td>136</td><td>2</td><td>92</td><td>2</td><td>22.94974</td><td>2</td><td>0.71000</td></tr>\n",
       "\t<tr><th scope=row>4</th><td>215143</td><td>700004</td><td>1</td><td>0</td><td>  -2</td><td>30</td><td>120</td><td>80</td><td>122</td><td>78</td><td>⋯</td><td>72.0</td><td> 99.0</td><td>1</td><td>121</td><td>2</td><td>79</td><td>1</td><td>21.29872</td><td>2</td><td>0.72727</td></tr>\n",
       "\t<tr><th scope=row>5</th><td>215143</td><td>700004</td><td>3</td><td>1</td><td> 354</td><td>30</td><td>110</td><td>70</td><td>104</td><td>70</td><td>⋯</td><td>71.0</td><td> 97.0</td><td>1</td><td>107</td><td>1</td><td>70</td><td>1</td><td>22.00399</td><td>2</td><td>0.73196</td></tr>\n",
       "\t<tr><th scope=row>6</th><td>215143</td><td>700004</td><td>3</td><td>2</td><td> 721</td><td>30</td><td>126</td><td>76</td><td>118</td><td>74</td><td>⋯</td><td>69.0</td><td> 94.0</td><td>0</td><td>122</td><td>2</td><td>75</td><td>1</td><td>20.02002</td><td>2</td><td>0.73404</td></tr>\n",
       "</tbody>\n",
       "</table>\n"
      ],
      "text/latex": [
       "A data.frame: 6 × 22\n",
       "\\begin{tabular}{r|lllllllllllllllllllll}\n",
       "  & dbGaP\\_Subject\\_ID & SUBJID & F80VTYP & F80VY & F80DAYS & PULSE30 & SYSTBP1 & DIASBP1 & SYSTBP2 & DIASBP2 & ⋯ & WAISTX & HIPX & WHEXPECT & SYST & SYSTOL & DIAS & DIASTOL & BMIX & BMICX & WHRX\\\\\n",
       "  & <int> & <int> & <int> & <int> & <int> & <int> & <int> & <int> & <int> & <int> & ⋯ & <dbl> & <dbl> & <int> & <dbl> & <int> & <dbl> & <int> & <dbl> & <int> & <dbl>\\\\\n",
       "\\hline\n",
       "\t1 & 220079 & 700001 & 1 & 0 &  -30 & 38 & 130 & NA & 130 & 66 & ⋯ & 92.5 & 102.5 & 1 & 130 & 2 & 66 & 1 & 33.17012 & 4 & 0.90244\\\\\n",
       "\t2 & 220079 & 700001 & 3 & 3 & 1001 & 36 & 138 & 86 & 140 & 86 & ⋯ & 91.0 & 103.5 & 1 & 139 & 2 & 86 & 1 & 31.63451 & 4 & 0.87923\\\\\n",
       "\t3 & 221745 & 700003 & 1 & 0 &   -7 & 32 & 136 & 90 & 136 & 94 & ⋯ & 71.0 & 100.0 & 1 & 136 & 2 & 92 & 2 & 22.94974 & 2 & 0.71000\\\\\n",
       "\t4 & 215143 & 700004 & 1 & 0 &   -2 & 30 & 120 & 80 & 122 & 78 & ⋯ & 72.0 &  99.0 & 1 & 121 & 2 & 79 & 1 & 21.29872 & 2 & 0.72727\\\\\n",
       "\t5 & 215143 & 700004 & 3 & 1 &  354 & 30 & 110 & 70 & 104 & 70 & ⋯ & 71.0 &  97.0 & 1 & 107 & 1 & 70 & 1 & 22.00399 & 2 & 0.73196\\\\\n",
       "\t6 & 215143 & 700004 & 3 & 2 &  721 & 30 & 126 & 76 & 118 & 74 & ⋯ & 69.0 &  94.0 & 0 & 122 & 2 & 75 & 1 & 20.02002 & 2 & 0.73404\\\\\n",
       "\\end{tabular}\n"
      ],
      "text/markdown": [
       "\n",
       "A data.frame: 6 × 22\n",
       "\n",
       "| <!--/--> | dbGaP_Subject_ID &lt;int&gt; | SUBJID &lt;int&gt; | F80VTYP &lt;int&gt; | F80VY &lt;int&gt; | F80DAYS &lt;int&gt; | PULSE30 &lt;int&gt; | SYSTBP1 &lt;int&gt; | DIASBP1 &lt;int&gt; | SYSTBP2 &lt;int&gt; | DIASBP2 &lt;int&gt; | ⋯ ⋯ | WAISTX &lt;dbl&gt; | HIPX &lt;dbl&gt; | WHEXPECT &lt;int&gt; | SYST &lt;dbl&gt; | SYSTOL &lt;int&gt; | DIAS &lt;dbl&gt; | DIASTOL &lt;int&gt; | BMIX &lt;dbl&gt; | BMICX &lt;int&gt; | WHRX &lt;dbl&gt; |\n",
       "|---|---|---|---|---|---|---|---|---|---|---|---|---|---|---|---|---|---|---|---|---|---|\n",
       "| 1 | 220079 | 700001 | 1 | 0 |  -30 | 38 | 130 | NA | 130 | 66 | ⋯ | 92.5 | 102.5 | 1 | 130 | 2 | 66 | 1 | 33.17012 | 4 | 0.90244 |\n",
       "| 2 | 220079 | 700001 | 3 | 3 | 1001 | 36 | 138 | 86 | 140 | 86 | ⋯ | 91.0 | 103.5 | 1 | 139 | 2 | 86 | 1 | 31.63451 | 4 | 0.87923 |\n",
       "| 3 | 221745 | 700003 | 1 | 0 |   -7 | 32 | 136 | 90 | 136 | 94 | ⋯ | 71.0 | 100.0 | 1 | 136 | 2 | 92 | 2 | 22.94974 | 2 | 0.71000 |\n",
       "| 4 | 215143 | 700004 | 1 | 0 |   -2 | 30 | 120 | 80 | 122 | 78 | ⋯ | 72.0 |  99.0 | 1 | 121 | 2 | 79 | 1 | 21.29872 | 2 | 0.72727 |\n",
       "| 5 | 215143 | 700004 | 3 | 1 |  354 | 30 | 110 | 70 | 104 | 70 | ⋯ | 71.0 |  97.0 | 1 | 107 | 1 | 70 | 1 | 22.00399 | 2 | 0.73196 |\n",
       "| 6 | 215143 | 700004 | 3 | 2 |  721 | 30 | 126 | 76 | 118 | 74 | ⋯ | 69.0 |  94.0 | 0 | 122 | 2 | 75 | 1 | 20.02002 | 2 | 0.73404 |\n",
       "\n"
      ],
      "text/plain": [
       "  dbGaP_Subject_ID SUBJID F80VTYP F80VY F80DAYS PULSE30 SYSTBP1 DIASBP1 SYSTBP2\n",
       "1 220079           700001 1       0      -30    38      130     NA      130    \n",
       "2 220079           700001 3       3     1001    36      138     86      140    \n",
       "3 221745           700003 1       0       -7    32      136     90      136    \n",
       "4 215143           700004 1       0       -2    30      120     80      122    \n",
       "5 215143           700004 3       1      354    30      110     70      104    \n",
       "6 215143           700004 3       2      721    30      126     76      118    \n",
       "  DIASBP2 ⋯ WAISTX HIPX  WHEXPECT SYST SYSTOL DIAS DIASTOL BMIX     BMICX\n",
       "1 66      ⋯ 92.5   102.5 1        130  2      66   1       33.17012 4    \n",
       "2 86      ⋯ 91.0   103.5 1        139  2      86   1       31.63451 4    \n",
       "3 94      ⋯ 71.0   100.0 1        136  2      92   2       22.94974 2    \n",
       "4 78      ⋯ 72.0    99.0 1        121  2      79   1       21.29872 2    \n",
       "5 70      ⋯ 71.0    97.0 1        107  1      70   1       22.00399 2    \n",
       "6 74      ⋯ 69.0    94.0 0        122  2      75   1       20.02002 2    \n",
       "  WHRX   \n",
       "1 0.90244\n",
       "2 0.87923\n",
       "3 0.71000\n",
       "4 0.72727\n",
       "5 0.73196\n",
       "6 0.73404"
      ]
     },
     "metadata": {},
     "output_type": "display_data"
    },
    {
     "data": {
      "text/html": [
       "29652"
      ],
      "text/latex": [
       "29652"
      ],
      "text/markdown": [
       "29652"
      ],
      "text/plain": [
       "[1] 29652"
      ]
     },
     "metadata": {},
     "output_type": "display_data"
    },
    {
     "data": {
      "text/html": [
       "5379"
      ],
      "text/latex": [
       "5379"
      ],
      "text/markdown": [
       "5379"
      ],
      "text/plain": [
       "[1] 5379"
      ]
     },
     "metadata": {},
     "output_type": "display_data"
    },
    {
     "data": {
      "text/html": [
       "<table class=\"dataframe\">\n",
       "<caption>A data.frame: 6 × 6</caption>\n",
       "<thead>\n",
       "\t<tr><th></th><th scope=col>SUBJID</th><th scope=col>BMIX</th><th scope=col>BMICX</th><th scope=col>F80VTYP</th><th scope=col>F80VY</th><th scope=col>F80DAYS</th></tr>\n",
       "\t<tr><th></th><th scope=col>&lt;int&gt;</th><th scope=col>&lt;dbl&gt;</th><th scope=col>&lt;int&gt;</th><th scope=col>&lt;int&gt;</th><th scope=col>&lt;int&gt;</th><th scope=col>&lt;int&gt;</th></tr>\n",
       "</thead>\n",
       "<tbody>\n",
       "\t<tr><th scope=row>140</th><td>700032</td><td>32.55208</td><td>4</td><td>1</td><td>0</td><td> -40</td></tr>\n",
       "\t<tr><th scope=row>141</th><td>700032</td><td>30.89018</td><td>4</td><td>3</td><td>1</td><td> 393</td></tr>\n",
       "\t<tr><th scope=row>142</th><td>700032</td><td>32.03896</td><td>4</td><td>3</td><td>2</td><td> 720</td></tr>\n",
       "\t<tr><th scope=row>143</th><td>700032</td><td>31.86590</td><td>4</td><td>3</td><td>3</td><td>1093</td></tr>\n",
       "\t<tr><th scope=row>144</th><td>700032</td><td>31.86117</td><td>4</td><td>3</td><td>4</td><td>1471</td></tr>\n",
       "\t<tr><th scope=row>145</th><td>700032</td><td>31.64590</td><td>4</td><td>3</td><td>5</td><td>1835</td></tr>\n",
       "</tbody>\n",
       "</table>\n"
      ],
      "text/latex": [
       "A data.frame: 6 × 6\n",
       "\\begin{tabular}{r|llllll}\n",
       "  & SUBJID & BMIX & BMICX & F80VTYP & F80VY & F80DAYS\\\\\n",
       "  & <int> & <dbl> & <int> & <int> & <int> & <int>\\\\\n",
       "\\hline\n",
       "\t140 & 700032 & 32.55208 & 4 & 1 & 0 &  -40\\\\\n",
       "\t141 & 700032 & 30.89018 & 4 & 3 & 1 &  393\\\\\n",
       "\t142 & 700032 & 32.03896 & 4 & 3 & 2 &  720\\\\\n",
       "\t143 & 700032 & 31.86590 & 4 & 3 & 3 & 1093\\\\\n",
       "\t144 & 700032 & 31.86117 & 4 & 3 & 4 & 1471\\\\\n",
       "\t145 & 700032 & 31.64590 & 4 & 3 & 5 & 1835\\\\\n",
       "\\end{tabular}\n"
      ],
      "text/markdown": [
       "\n",
       "A data.frame: 6 × 6\n",
       "\n",
       "| <!--/--> | SUBJID &lt;int&gt; | BMIX &lt;dbl&gt; | BMICX &lt;int&gt; | F80VTYP &lt;int&gt; | F80VY &lt;int&gt; | F80DAYS &lt;int&gt; |\n",
       "|---|---|---|---|---|---|---|\n",
       "| 140 | 700032 | 32.55208 | 4 | 1 | 0 |  -40 |\n",
       "| 141 | 700032 | 30.89018 | 4 | 3 | 1 |  393 |\n",
       "| 142 | 700032 | 32.03896 | 4 | 3 | 2 |  720 |\n",
       "| 143 | 700032 | 31.86590 | 4 | 3 | 3 | 1093 |\n",
       "| 144 | 700032 | 31.86117 | 4 | 3 | 4 | 1471 |\n",
       "| 145 | 700032 | 31.64590 | 4 | 3 | 5 | 1835 |\n",
       "\n"
      ],
      "text/plain": [
       "    SUBJID BMIX     BMICX F80VTYP F80VY F80DAYS\n",
       "140 700032 32.55208 4     1       0      -40   \n",
       "141 700032 30.89018 4     3       1      393   \n",
       "142 700032 32.03896 4     3       2      720   \n",
       "143 700032 31.86590 4     3       3     1093   \n",
       "144 700032 31.86117 4     3       4     1471   \n",
       "145 700032 31.64590 4     3       5     1835   "
      ]
     },
     "metadata": {},
     "output_type": "display_data"
    }
   ],
   "source": [
    "length(bmi_c1$SUBJID)\n",
    "length(bmi_c2$SUBJID)\n",
    "head(bmi_c1)\n",
    "\n",
    "bmi_c1_matches <- which(bmi_c1$SUBJID %in% subject_sampleids$SUBJID)\n",
    "bmi_c1_matches_df <- bmi_c1[bmi_c1_matches, c(\"SUBJID\", \"BMIX\", \"BMICX\", \"F80VTYP\", \"F80VY\", \"F80DAYS\")]\n",
    "length(bmi_c1_matches)\n",
    "\n",
    "bmi_c2_matches <- which(bmi_c2$SUBJID %in% subject_sampleids$SUBJID)\n",
    "bmi_c2_matches_df <- bmi_c2[bmi_c2_matches, c(\"SUBJID\", \"BMIX\", \"BMICX\", \"F80VTYP\", \"F80VY\", \"F80DAYS\")]\n",
    "length(bmi_c2_matches)\n",
    "\n",
    "bmi_c1c2_merged <- rbind(bmi_c1_matches_df, bmi_c2_matches_df)\n",
    "head(bmi_c1c2_merged)\n",
    "\n",
    "outfile <-  \"processing/bmi_c1c2_merged.csv\"\n",
    "write.csv(bmi_c1c2_merged, outfile, quote=F, row.names=F)"
   ]
  },
  {
   "cell_type": "markdown",
   "id": "56163f6d-fbc3-4daa-8dcf-cc3073518412",
   "metadata": {},
   "source": [
    "## Parkinsons"
   ]
  },
  {
   "cell_type": "code",
   "execution_count": 246,
   "id": "51dc8ba0-346d-4171-9fd3-37abd67be389",
   "metadata": {},
   "outputs": [
    {
     "data": {
      "text/html": [
       "109964"
      ],
      "text/latex": [
       "109964"
      ],
      "text/markdown": [
       "109964"
      ],
      "text/plain": [
       "[1] 109964"
      ]
     },
     "metadata": {},
     "output_type": "display_data"
    },
    {
     "data": {
      "text/html": [
       "621"
      ],
      "text/latex": [
       "621"
      ],
      "text/markdown": [
       "621"
      ],
      "text/plain": [
       "[1] 621"
      ]
     },
     "metadata": {},
     "output_type": "display_data"
    },
    {
     "data": {
      "text/html": [
       "<table class=\"dataframe\">\n",
       "<caption>A data.frame: 6 × 8</caption>\n",
       "<thead>\n",
       "\t<tr><th></th><th scope=col>dbGaP_Subject_ID</th><th scope=col>SUBJID</th><th scope=col>F134VTYP</th><th scope=col>F134VY</th><th scope=col>F134DAYS</th><th scope=col>F134WHOM</th><th scope=col>F134PARKINS</th><th scope=col>F134DIAB</th></tr>\n",
       "\t<tr><th></th><th scope=col>&lt;int&gt;</th><th scope=col>&lt;int&gt;</th><th scope=col>&lt;int&gt;</th><th scope=col>&lt;int&gt;</th><th scope=col>&lt;int&gt;</th><th scope=col>&lt;int&gt;</th><th scope=col>&lt;int&gt;</th><th scope=col>&lt;int&gt;</th></tr>\n",
       "</thead>\n",
       "<tbody>\n",
       "\t<tr><th scope=row>1</th><td>220079</td><td>700001</td><td>3</td><td> 7</td><td>2518</td><td>1</td><td>0</td><td>0</td></tr>\n",
       "\t<tr><th scope=row>2</th><td>221745</td><td>700003</td><td>3</td><td> 9</td><td>3263</td><td>1</td><td>0</td><td>0</td></tr>\n",
       "\t<tr><th scope=row>3</th><td>215143</td><td>700004</td><td>3</td><td>10</td><td>3576</td><td>1</td><td>0</td><td>0</td></tr>\n",
       "\t<tr><th scope=row>4</th><td>214904</td><td>700005</td><td>3</td><td> 8</td><td>2839</td><td>1</td><td>0</td><td>0</td></tr>\n",
       "\t<tr><th scope=row>5</th><td>220352</td><td>700006</td><td>3</td><td> 8</td><td>2958</td><td>1</td><td>0</td><td>0</td></tr>\n",
       "\t<tr><th scope=row>6</th><td>222081</td><td>700008</td><td>3</td><td>10</td><td>3688</td><td>1</td><td>0</td><td>0</td></tr>\n",
       "</tbody>\n",
       "</table>\n"
      ],
      "text/latex": [
       "A data.frame: 6 × 8\n",
       "\\begin{tabular}{r|llllllll}\n",
       "  & dbGaP\\_Subject\\_ID & SUBJID & F134VTYP & F134VY & F134DAYS & F134WHOM & F134PARKINS & F134DIAB\\\\\n",
       "  & <int> & <int> & <int> & <int> & <int> & <int> & <int> & <int>\\\\\n",
       "\\hline\n",
       "\t1 & 220079 & 700001 & 3 &  7 & 2518 & 1 & 0 & 0\\\\\n",
       "\t2 & 221745 & 700003 & 3 &  9 & 3263 & 1 & 0 & 0\\\\\n",
       "\t3 & 215143 & 700004 & 3 & 10 & 3576 & 1 & 0 & 0\\\\\n",
       "\t4 & 214904 & 700005 & 3 &  8 & 2839 & 1 & 0 & 0\\\\\n",
       "\t5 & 220352 & 700006 & 3 &  8 & 2958 & 1 & 0 & 0\\\\\n",
       "\t6 & 222081 & 700008 & 3 & 10 & 3688 & 1 & 0 & 0\\\\\n",
       "\\end{tabular}\n"
      ],
      "text/markdown": [
       "\n",
       "A data.frame: 6 × 8\n",
       "\n",
       "| <!--/--> | dbGaP_Subject_ID &lt;int&gt; | SUBJID &lt;int&gt; | F134VTYP &lt;int&gt; | F134VY &lt;int&gt; | F134DAYS &lt;int&gt; | F134WHOM &lt;int&gt; | F134PARKINS &lt;int&gt; | F134DIAB &lt;int&gt; |\n",
       "|---|---|---|---|---|---|---|---|---|\n",
       "| 1 | 220079 | 700001 | 3 |  7 | 2518 | 1 | 0 | 0 |\n",
       "| 2 | 221745 | 700003 | 3 |  9 | 3263 | 1 | 0 | 0 |\n",
       "| 3 | 215143 | 700004 | 3 | 10 | 3576 | 1 | 0 | 0 |\n",
       "| 4 | 214904 | 700005 | 3 |  8 | 2839 | 1 | 0 | 0 |\n",
       "| 5 | 220352 | 700006 | 3 |  8 | 2958 | 1 | 0 | 0 |\n",
       "| 6 | 222081 | 700008 | 3 | 10 | 3688 | 1 | 0 | 0 |\n",
       "\n"
      ],
      "text/plain": [
       "  dbGaP_Subject_ID SUBJID F134VTYP F134VY F134DAYS F134WHOM F134PARKINS\n",
       "1 220079           700001 3         7     2518     1        0          \n",
       "2 221745           700003 3         9     3263     1        0          \n",
       "3 215143           700004 3        10     3576     1        0          \n",
       "4 214904           700005 3         8     2839     1        0          \n",
       "5 220352           700006 3         8     2958     1        0          \n",
       "6 222081           700008 3        10     3688     1        0          \n",
       "  F134DIAB\n",
       "1 0       \n",
       "2 0       \n",
       "3 0       \n",
       "4 0       \n",
       "5 0       \n",
       "6 0       "
      ]
     },
     "metadata": {},
     "output_type": "display_data"
    },
    {
     "data": {
      "text/html": [
       "3316"
      ],
      "text/latex": [
       "3316"
      ],
      "text/markdown": [
       "3316"
      ],
      "text/plain": [
       "[1] 3316"
      ]
     },
     "metadata": {},
     "output_type": "display_data"
    },
    {
     "data": {
      "text/html": [
       "15"
      ],
      "text/latex": [
       "15"
      ],
      "text/markdown": [
       "15"
      ],
      "text/plain": [
       "[1] 15"
      ]
     },
     "metadata": {},
     "output_type": "display_data"
    },
    {
     "data": {
      "text/html": [
       "<table class=\"dataframe\">\n",
       "<caption>A data.frame: 6 × 2</caption>\n",
       "<thead>\n",
       "\t<tr><th></th><th scope=col>SUBJID</th><th scope=col>F134PARKINS</th></tr>\n",
       "\t<tr><th></th><th scope=col>&lt;int&gt;</th><th scope=col>&lt;int&gt;</th></tr>\n",
       "</thead>\n",
       "<tbody>\n",
       "\t<tr><th scope=row>30</th><td>700032</td><td>0</td></tr>\n",
       "\t<tr><th scope=row>70</th><td>700078</td><td>0</td></tr>\n",
       "\t<tr><th scope=row>94</th><td>700106</td><td>0</td></tr>\n",
       "\t<tr><th scope=row>107</th><td>700122</td><td>0</td></tr>\n",
       "\t<tr><th scope=row>179</th><td>700216</td><td>0</td></tr>\n",
       "\t<tr><th scope=row>184</th><td>700222</td><td>0</td></tr>\n",
       "</tbody>\n",
       "</table>\n"
      ],
      "text/latex": [
       "A data.frame: 6 × 2\n",
       "\\begin{tabular}{r|ll}\n",
       "  & SUBJID & F134PARKINS\\\\\n",
       "  & <int> & <int>\\\\\n",
       "\\hline\n",
       "\t30 & 700032 & 0\\\\\n",
       "\t70 & 700078 & 0\\\\\n",
       "\t94 & 700106 & 0\\\\\n",
       "\t107 & 700122 & 0\\\\\n",
       "\t179 & 700216 & 0\\\\\n",
       "\t184 & 700222 & 0\\\\\n",
       "\\end{tabular}\n"
      ],
      "text/markdown": [
       "\n",
       "A data.frame: 6 × 2\n",
       "\n",
       "| <!--/--> | SUBJID &lt;int&gt; | F134PARKINS &lt;int&gt; |\n",
       "|---|---|---|\n",
       "| 30 | 700032 | 0 |\n",
       "| 70 | 700078 | 0 |\n",
       "| 94 | 700106 | 0 |\n",
       "| 107 | 700122 | 0 |\n",
       "| 179 | 700216 | 0 |\n",
       "| 184 | 700222 | 0 |\n",
       "\n"
      ],
      "text/plain": [
       "    SUBJID F134PARKINS\n",
       "30  700032 0          \n",
       "70  700078 0          \n",
       "94  700106 0          \n",
       "107 700122 0          \n",
       "179 700216 0          \n",
       "184 700222 0          "
      ]
     },
     "metadata": {},
     "output_type": "display_data"
    }
   ],
   "source": [
    "length(parkinsons_c1$SUBJID)\n",
    "length(parkinsons_c2$SUBJID)\n",
    "head(parkinsons_c1)\n",
    "\n",
    "parkinsons_c1_matches <- which(parkinsons_c1$SUBJID %in% subject_sampleids$SUBJID)\n",
    "parkinsons_c1_matches_df <- parkinsons_c1[parkinsons_c1_matches, c(\"SUBJID\",\"F134PARKINS\")]\n",
    "parkinsons_c1_matches_df_all_col <- parkinsons_c1[parkinsons_c1_matches, ]\n",
    "length(parkinsons_c1_matches)\n",
    "\n",
    "parkinsons_c2_matches <- which(parkinsons_c2$SUBJID %in% subject_sampleids$SUBJID)\n",
    "parkinsons_c2_matches_df <- parkinsons_c2[parkinsons_c2_matches, c(\"SUBJID\",\"F134PARKINS\")]\n",
    "parkinsons_c2_matches_df_all_col <- parkinsons_c2[parkinsons_c2_matches, ]\n",
    "length(parkinsons_c2_matches)\n",
    "\n",
    "parkinsons_c1c2_merged <- rbind(parkinsons_c1_matches_df, parkinsons_c2_matches_df)\n",
    "parkinsons_c1c2_merged_all_col <- rbind(parkinsons_c1_matches_df_all_col, parkinsons_c2_matches_df_all_col)\n",
    "head(parkinsons_c1c2_merged)\n",
    "\n",
    "\n",
    "outfile <-  \"processing/parkinsons_c1c2_merged.csv\"\n",
    "outfile2 <-  \"processing/parkinsons_c1c2_merged_all_col.csv\"\n",
    "write.csv(parkinsons_c1c2_merged, outfile, quote=F, row.names=F)\n",
    "write.csv(parkinsons_c1c2_merged_all_col, outfile2, quote=F, row.names=F)"
   ]
  },
  {
   "cell_type": "markdown",
   "id": "eea151f4-a6bd-4d7d-8308-33005126c1f0",
   "metadata": {},
   "source": [
    "## Diabetes"
   ]
  },
  {
   "cell_type": "code",
   "execution_count": 245,
   "id": "c8bbdc0d-977e-4e27-9dec-1f9b7cd93213",
   "metadata": {},
   "outputs": [
    {
     "data": {
      "text/html": [
       "117675"
      ],
      "text/latex": [
       "117675"
      ],
      "text/markdown": [
       "117675"
      ],
      "text/plain": [
       "[1] 117675"
      ]
     },
     "metadata": {},
     "output_type": "display_data"
    },
    {
     "data": {
      "text/html": [
       "25538"
      ],
      "text/latex": [
       "25538"
      ],
      "text/markdown": [
       "25538"
      ],
      "text/plain": [
       "[1] 25538"
      ]
     },
     "metadata": {},
     "output_type": "display_data"
    },
    {
     "data": {
      "text/html": [
       "<table class=\"dataframe\">\n",
       "<caption>A data.frame: 6 × 72</caption>\n",
       "<thead>\n",
       "\t<tr><th></th><th scope=col>dbGaP_Subject_ID</th><th scope=col>SUBJID</th><th scope=col>F2DAYS</th><th scope=col>AGE</th><th scope=col>AREA3Y</th><th scope=col>OTHSTDY</th><th scope=col>EXSTDY</th><th scope=col>BRCA_F2</th><th scope=col>COLON_F2</th><th scope=col>COLON10Y</th><th scope=col>⋯</th><th scope=col>AVAILDM</th><th scope=col>INTHRT</th><th scope=col>AVAILHRT</th><th scope=col>TALKDOC</th><th scope=col>HRTINFDR</th><th scope=col>HELPFILL</th><th scope=col>AGER</th><th scope=col>HORMSTAT</th><th scope=col>AGEHYST</th><th scope=col>DIABTRT</th></tr>\n",
       "\t<tr><th></th><th scope=col>&lt;int&gt;</th><th scope=col>&lt;int&gt;</th><th scope=col>&lt;int&gt;</th><th scope=col>&lt;int&gt;</th><th scope=col>&lt;int&gt;</th><th scope=col>&lt;int&gt;</th><th scope=col>&lt;int&gt;</th><th scope=col>&lt;int&gt;</th><th scope=col>&lt;int&gt;</th><th scope=col>&lt;int&gt;</th><th scope=col>⋯</th><th scope=col>&lt;int&gt;</th><th scope=col>&lt;int&gt;</th><th scope=col>&lt;int&gt;</th><th scope=col>&lt;int&gt;</th><th scope=col>&lt;int&gt;</th><th scope=col>&lt;int&gt;</th><th scope=col>&lt;int&gt;</th><th scope=col>&lt;int&gt;</th><th scope=col>&lt;int&gt;</th><th scope=col>&lt;int&gt;</th></tr>\n",
       "</thead>\n",
       "<tbody>\n",
       "\t<tr><th scope=row>1</th><td>220079</td><td>700001</td><td> -41</td><td>74</td><td>1</td><td>0</td><td>NA</td><td>0</td><td>0</td><td>NA</td><td>⋯</td><td>NA</td><td>0</td><td>NA</td><td>NA</td><td>NA</td><td>0</td><td>3</td><td>1</td><td> 2</td><td>0</td></tr>\n",
       "\t<tr><th scope=row>2</th><td>221745</td><td>700003</td><td> -55</td><td>59</td><td>1</td><td>0</td><td>NA</td><td>0</td><td>0</td><td>NA</td><td>⋯</td><td> 1</td><td>0</td><td>NA</td><td>NA</td><td>NA</td><td>0</td><td>1</td><td>1</td><td> 2</td><td>0</td></tr>\n",
       "\t<tr><th scope=row>3</th><td>215143</td><td>700004</td><td>  -8</td><td>56</td><td>1</td><td>0</td><td>NA</td><td>0</td><td>0</td><td>NA</td><td>⋯</td><td> 1</td><td>0</td><td>NA</td><td>NA</td><td>NA</td><td>0</td><td>1</td><td>1</td><td>NA</td><td>0</td></tr>\n",
       "\t<tr><th scope=row>4</th><td>214904</td><td>700005</td><td>-241</td><td>64</td><td>1</td><td>0</td><td>NA</td><td>0</td><td>0</td><td>NA</td><td>⋯</td><td>NA</td><td>1</td><td> 1</td><td> 2</td><td> 1</td><td>0</td><td>2</td><td>1</td><td> 2</td><td>0</td></tr>\n",
       "\t<tr><th scope=row>5</th><td>220352</td><td>700006</td><td> -44</td><td>58</td><td>1</td><td>0</td><td>NA</td><td>0</td><td>0</td><td>NA</td><td>⋯</td><td>NA</td><td>0</td><td>NA</td><td>NA</td><td>NA</td><td>0</td><td>1</td><td>0</td><td> 1</td><td>0</td></tr>\n",
       "\t<tr><th scope=row>6</th><td>216549</td><td>700007</td><td> -82</td><td>74</td><td>1</td><td>0</td><td>NA</td><td>0</td><td>0</td><td>NA</td><td>⋯</td><td> 1</td><td>0</td><td>NA</td><td>NA</td><td>NA</td><td>0</td><td>3</td><td>2</td><td> 2</td><td>0</td></tr>\n",
       "</tbody>\n",
       "</table>\n"
      ],
      "text/latex": [
       "A data.frame: 6 × 72\n",
       "\\begin{tabular}{r|lllllllllllllllllllll}\n",
       "  & dbGaP\\_Subject\\_ID & SUBJID & F2DAYS & AGE & AREA3Y & OTHSTDY & EXSTDY & BRCA\\_F2 & COLON\\_F2 & COLON10Y & ⋯ & AVAILDM & INTHRT & AVAILHRT & TALKDOC & HRTINFDR & HELPFILL & AGER & HORMSTAT & AGEHYST & DIABTRT\\\\\n",
       "  & <int> & <int> & <int> & <int> & <int> & <int> & <int> & <int> & <int> & <int> & ⋯ & <int> & <int> & <int> & <int> & <int> & <int> & <int> & <int> & <int> & <int>\\\\\n",
       "\\hline\n",
       "\t1 & 220079 & 700001 &  -41 & 74 & 1 & 0 & NA & 0 & 0 & NA & ⋯ & NA & 0 & NA & NA & NA & 0 & 3 & 1 &  2 & 0\\\\\n",
       "\t2 & 221745 & 700003 &  -55 & 59 & 1 & 0 & NA & 0 & 0 & NA & ⋯ &  1 & 0 & NA & NA & NA & 0 & 1 & 1 &  2 & 0\\\\\n",
       "\t3 & 215143 & 700004 &   -8 & 56 & 1 & 0 & NA & 0 & 0 & NA & ⋯ &  1 & 0 & NA & NA & NA & 0 & 1 & 1 & NA & 0\\\\\n",
       "\t4 & 214904 & 700005 & -241 & 64 & 1 & 0 & NA & 0 & 0 & NA & ⋯ & NA & 1 &  1 &  2 &  1 & 0 & 2 & 1 &  2 & 0\\\\\n",
       "\t5 & 220352 & 700006 &  -44 & 58 & 1 & 0 & NA & 0 & 0 & NA & ⋯ & NA & 0 & NA & NA & NA & 0 & 1 & 0 &  1 & 0\\\\\n",
       "\t6 & 216549 & 700007 &  -82 & 74 & 1 & 0 & NA & 0 & 0 & NA & ⋯ &  1 & 0 & NA & NA & NA & 0 & 3 & 2 &  2 & 0\\\\\n",
       "\\end{tabular}\n"
      ],
      "text/markdown": [
       "\n",
       "A data.frame: 6 × 72\n",
       "\n",
       "| <!--/--> | dbGaP_Subject_ID &lt;int&gt; | SUBJID &lt;int&gt; | F2DAYS &lt;int&gt; | AGE &lt;int&gt; | AREA3Y &lt;int&gt; | OTHSTDY &lt;int&gt; | EXSTDY &lt;int&gt; | BRCA_F2 &lt;int&gt; | COLON_F2 &lt;int&gt; | COLON10Y &lt;int&gt; | ⋯ ⋯ | AVAILDM &lt;int&gt; | INTHRT &lt;int&gt; | AVAILHRT &lt;int&gt; | TALKDOC &lt;int&gt; | HRTINFDR &lt;int&gt; | HELPFILL &lt;int&gt; | AGER &lt;int&gt; | HORMSTAT &lt;int&gt; | AGEHYST &lt;int&gt; | DIABTRT &lt;int&gt; |\n",
       "|---|---|---|---|---|---|---|---|---|---|---|---|---|---|---|---|---|---|---|---|---|---|\n",
       "| 1 | 220079 | 700001 |  -41 | 74 | 1 | 0 | NA | 0 | 0 | NA | ⋯ | NA | 0 | NA | NA | NA | 0 | 3 | 1 |  2 | 0 |\n",
       "| 2 | 221745 | 700003 |  -55 | 59 | 1 | 0 | NA | 0 | 0 | NA | ⋯ |  1 | 0 | NA | NA | NA | 0 | 1 | 1 |  2 | 0 |\n",
       "| 3 | 215143 | 700004 |   -8 | 56 | 1 | 0 | NA | 0 | 0 | NA | ⋯ |  1 | 0 | NA | NA | NA | 0 | 1 | 1 | NA | 0 |\n",
       "| 4 | 214904 | 700005 | -241 | 64 | 1 | 0 | NA | 0 | 0 | NA | ⋯ | NA | 1 |  1 |  2 |  1 | 0 | 2 | 1 |  2 | 0 |\n",
       "| 5 | 220352 | 700006 |  -44 | 58 | 1 | 0 | NA | 0 | 0 | NA | ⋯ | NA | 0 | NA | NA | NA | 0 | 1 | 0 |  1 | 0 |\n",
       "| 6 | 216549 | 700007 |  -82 | 74 | 1 | 0 | NA | 0 | 0 | NA | ⋯ |  1 | 0 | NA | NA | NA | 0 | 3 | 2 |  2 | 0 |\n",
       "\n"
      ],
      "text/plain": [
       "  dbGaP_Subject_ID SUBJID F2DAYS AGE AREA3Y OTHSTDY EXSTDY BRCA_F2 COLON_F2\n",
       "1 220079           700001  -41   74  1      0       NA     0       0       \n",
       "2 221745           700003  -55   59  1      0       NA     0       0       \n",
       "3 215143           700004   -8   56  1      0       NA     0       0       \n",
       "4 214904           700005 -241   64  1      0       NA     0       0       \n",
       "5 220352           700006  -44   58  1      0       NA     0       0       \n",
       "6 216549           700007  -82   74  1      0       NA     0       0       \n",
       "  COLON10Y ⋯ AVAILDM INTHRT AVAILHRT TALKDOC HRTINFDR HELPFILL AGER HORMSTAT\n",
       "1 NA       ⋯ NA      0      NA       NA      NA       0        3    1       \n",
       "2 NA       ⋯  1      0      NA       NA      NA       0        1    1       \n",
       "3 NA       ⋯  1      0      NA       NA      NA       0        1    1       \n",
       "4 NA       ⋯ NA      1       1        2       1       0        2    1       \n",
       "5 NA       ⋯ NA      0      NA       NA      NA       0        1    0       \n",
       "6 NA       ⋯  1      0      NA       NA      NA       0        3    2       \n",
       "  AGEHYST DIABTRT\n",
       "1  2      0      \n",
       "2  2      0      \n",
       "3 NA      0      \n",
       "4  2      0      \n",
       "5  1      0      \n",
       "6  2      0      "
      ]
     },
     "metadata": {},
     "output_type": "display_data"
    },
    {
     "data": {
      "text/html": [
       "3739"
      ],
      "text/latex": [
       "3739"
      ],
      "text/markdown": [
       "3739"
      ],
      "text/plain": [
       "[1] 3739"
      ]
     },
     "metadata": {},
     "output_type": "display_data"
    },
    {
     "data": {
      "text/html": [
       "1155"
      ],
      "text/latex": [
       "1155"
      ],
      "text/markdown": [
       "1155"
      ],
      "text/plain": [
       "[1] 1155"
      ]
     },
     "metadata": {},
     "output_type": "display_data"
    },
    {
     "data": {
      "text/html": [
       "<table class=\"dataframe\">\n",
       "<caption>A data.frame: 6 × 2</caption>\n",
       "<thead>\n",
       "\t<tr><th></th><th scope=col>SUBJID</th><th scope=col>DIAB</th></tr>\n",
       "\t<tr><th></th><th scope=col>&lt;int&gt;</th><th scope=col>&lt;int&gt;</th></tr>\n",
       "</thead>\n",
       "<tbody>\n",
       "\t<tr><th scope=row>31</th><td>700032</td><td>0</td></tr>\n",
       "\t<tr><th scope=row>75</th><td>700078</td><td>0</td></tr>\n",
       "\t<tr><th scope=row>88</th><td>700091</td><td>0</td></tr>\n",
       "\t<tr><th scope=row>102</th><td>700106</td><td>0</td></tr>\n",
       "\t<tr><th scope=row>115</th><td>700122</td><td>0</td></tr>\n",
       "\t<tr><th scope=row>194</th><td>700216</td><td>0</td></tr>\n",
       "</tbody>\n",
       "</table>\n"
      ],
      "text/latex": [
       "A data.frame: 6 × 2\n",
       "\\begin{tabular}{r|ll}\n",
       "  & SUBJID & DIAB\\\\\n",
       "  & <int> & <int>\\\\\n",
       "\\hline\n",
       "\t31 & 700032 & 0\\\\\n",
       "\t75 & 700078 & 0\\\\\n",
       "\t88 & 700091 & 0\\\\\n",
       "\t102 & 700106 & 0\\\\\n",
       "\t115 & 700122 & 0\\\\\n",
       "\t194 & 700216 & 0\\\\\n",
       "\\end{tabular}\n"
      ],
      "text/markdown": [
       "\n",
       "A data.frame: 6 × 2\n",
       "\n",
       "| <!--/--> | SUBJID &lt;int&gt; | DIAB &lt;int&gt; |\n",
       "|---|---|---|\n",
       "| 31 | 700032 | 0 |\n",
       "| 75 | 700078 | 0 |\n",
       "| 88 | 700091 | 0 |\n",
       "| 102 | 700106 | 0 |\n",
       "| 115 | 700122 | 0 |\n",
       "| 194 | 700216 | 0 |\n",
       "\n"
      ],
      "text/plain": [
       "    SUBJID DIAB\n",
       "31  700032 0   \n",
       "75  700078 0   \n",
       "88  700091 0   \n",
       "102 700106 0   \n",
       "115 700122 0   \n",
       "194 700216 0   "
      ]
     },
     "metadata": {},
     "output_type": "display_data"
    }
   ],
   "source": [
    "length(diabetes_c1$SUBJID)\n",
    "length(diabetes_c2$SUBJID)\n",
    "head(diabetes_c1)\n",
    "\n",
    "diab_c1_matches <- which(diabetes_c1$SUBJID %in% subject_sampleids$SUBJID)\n",
    "diab_c1_matches_df <- diabetes_c1[diab_c1_matches, c(\"SUBJID\",\"DIAB\")]\n",
    "diab_c1_matches_df_all_col <- diabetes_c1[diab_c1_matches, ]\n",
    "length(diab_c1_matches)\n",
    "\n",
    "diab_c2_matches <- which(diabetes_c2$SUBJID %in% subject_sampleids$SUBJID)\n",
    "diab_c2_matches_df <- diabetes_c2[diab_c2_matches, c(\"SUBJID\",\"DIAB\")]\n",
    "diab_c2_matches_df_all_col <- diabetes_c2[diab_c2_matches, ]\n",
    "length(diab_c2_matches)\n",
    "\n",
    "diab_c1c2_merged <- rbind(diab_c1_matches_df, diab_c2_matches_df)\n",
    "diab_c1c2_merged_all_col <- rbind(diab_c1_matches_df_all_col, diab_c2_matches_df_all_col)\n",
    "head(diab_c1c2_merged)\n",
    "\n",
    "\n",
    "outfile <-  \"processing/diabetes_c1c2_merged.csv\"\n",
    "outfile2 <-  \"processing/diabetes_c1c2_merged_all_col.csv\"\n",
    "write.csv(diab_c1c2_merged, outfile, quote=F, row.names=F)\n",
    "write.csv(diab_c1c2_merged_all_col, outfile2, quote=F, row.names=F)"
   ]
  },
  {
   "cell_type": "markdown",
   "id": "62a3f8a5-7f36-49e2-b894-455ac736f6c4",
   "metadata": {},
   "source": [
    "## Case Control UUI\n",
    "* INCONT\n",
    "* TOINCON\n",
    "* FRQINCON\n",
    "* LEAKAMT"
   ]
  },
  {
   "cell_type": "code",
   "execution_count": 244,
   "id": "4d0410ba-ddd7-4099-84d3-1b9b3ce9514a",
   "metadata": {},
   "outputs": [
    {
     "data": {
      "text/html": [
       "168638"
      ],
      "text/latex": [
       "168638"
      ],
      "text/markdown": [
       "168638"
      ],
      "text/plain": [
       "[1] 168638"
      ]
     },
     "metadata": {},
     "output_type": "display_data"
    },
    {
     "data": {
      "text/html": [
       "26050"
      ],
      "text/latex": [
       "26050"
      ],
      "text/markdown": [
       "26050"
      ],
      "text/plain": [
       "[1] 26050"
      ]
     },
     "metadata": {},
     "output_type": "display_data"
    },
    {
     "data": {
      "text/html": [
       "<table class=\"dataframe\">\n",
       "<caption>A data.frame: 6 × 219</caption>\n",
       "<thead>\n",
       "\t<tr><th></th><th scope=col>dbGaP_Subject_ID</th><th scope=col>SUBJID</th><th scope=col>F37VTYP</th><th scope=col>F37VY</th><th scope=col>F37DAYS</th><th scope=col>LISTEN</th><th scope=col>GOODADVC</th><th scope=col>TAKEDR</th><th scope=col>GOODTIME</th><th scope=col>HLPPROB</th><th scope=col>⋯</th><th scope=col>OPTIMISM</th><th scope=col>PAIN</th><th scope=col>PHYLIMIT</th><th scope=col>PHYSFUN</th><th scope=col>PSHTDEP</th><th scope=col>SLPDSTRB</th><th scope=col>SOCFUNC</th><th scope=col>SOCSTRN</th><th scope=col>SOCSUPP</th><th scope=col>SYMPTOM</th></tr>\n",
       "\t<tr><th></th><th scope=col>&lt;int&gt;</th><th scope=col>&lt;int&gt;</th><th scope=col>&lt;int&gt;</th><th scope=col>&lt;int&gt;</th><th scope=col>&lt;int&gt;</th><th scope=col>&lt;int&gt;</th><th scope=col>&lt;int&gt;</th><th scope=col>&lt;int&gt;</th><th scope=col>&lt;int&gt;</th><th scope=col>&lt;int&gt;</th><th scope=col>⋯</th><th scope=col>&lt;int&gt;</th><th scope=col>&lt;dbl&gt;</th><th scope=col>&lt;int&gt;</th><th scope=col>&lt;int&gt;</th><th scope=col>&lt;dbl&gt;</th><th scope=col>&lt;int&gt;</th><th scope=col>&lt;dbl&gt;</th><th scope=col>&lt;int&gt;</th><th scope=col>&lt;int&gt;</th><th scope=col>&lt;dbl&gt;</th></tr>\n",
       "</thead>\n",
       "<tbody>\n",
       "\t<tr><th scope=row>1</th><td>220079</td><td>700001</td><td>1</td><td>0</td><td> -30</td><td>4</td><td>4</td><td>5</td><td>4</td><td>5</td><td>⋯</td><td>NA</td><td> 50.0</td><td> 75</td><td> 70</td><td>0.00173</td><td>11</td><td>100.0</td><td>10</td><td>41</td><td>     NA</td></tr>\n",
       "\t<tr><th scope=row>2</th><td>221745</td><td>700003</td><td>1</td><td>0</td><td>  -7</td><td>4</td><td>4</td><td>4</td><td>4</td><td>4</td><td>⋯</td><td>20</td><td>100.0</td><td>100</td><td>100</td><td>0.00144</td><td> 1</td><td>100.0</td><td> 9</td><td>34</td><td>0.08824</td></tr>\n",
       "\t<tr><th scope=row>3</th><td>215143</td><td>700004</td><td>1</td><td>0</td><td>  -2</td><td>5</td><td>4</td><td>3</td><td>3</td><td>3</td><td>⋯</td><td>22</td><td> 75.0</td><td>100</td><td> 80</td><td>0.00132</td><td> 9</td><td>100.0</td><td>10</td><td>30</td><td>0.38235</td></tr>\n",
       "\t<tr><th scope=row>4</th><td>215143</td><td>700004</td><td>2</td><td>9</td><td>3102</td><td>3</td><td>3</td><td>2</td><td>3</td><td>3</td><td>⋯</td><td>19</td><td> 87.5</td><td>100</td><td> 95</td><td>0.00173</td><td> 7</td><td>100.0</td><td> 6</td><td>26</td><td>0.26471</td></tr>\n",
       "\t<tr><th scope=row>5</th><td>214904</td><td>700005</td><td>1</td><td>0</td><td> -16</td><td>3</td><td>3</td><td>1</td><td>3</td><td>1</td><td>⋯</td><td>20</td><td> 75.0</td><td>100</td><td> 95</td><td>0.00084</td><td>NA</td><td> 87.5</td><td>19</td><td>18</td><td>0.64706</td></tr>\n",
       "\t<tr><th scope=row>6</th><td>214904</td><td>700005</td><td>2</td><td>7</td><td>2465</td><td>3</td><td>2</td><td>1</td><td>3</td><td>2</td><td>⋯</td><td>25</td><td> 37.5</td><td>  0</td><td> 50</td><td>0.00144</td><td> 4</td><td>100.0</td><td> 9</td><td>19</td><td>     NA</td></tr>\n",
       "</tbody>\n",
       "</table>\n"
      ],
      "text/latex": [
       "A data.frame: 6 × 219\n",
       "\\begin{tabular}{r|lllllllllllllllllllll}\n",
       "  & dbGaP\\_Subject\\_ID & SUBJID & F37VTYP & F37VY & F37DAYS & LISTEN & GOODADVC & TAKEDR & GOODTIME & HLPPROB & ⋯ & OPTIMISM & PAIN & PHYLIMIT & PHYSFUN & PSHTDEP & SLPDSTRB & SOCFUNC & SOCSTRN & SOCSUPP & SYMPTOM\\\\\n",
       "  & <int> & <int> & <int> & <int> & <int> & <int> & <int> & <int> & <int> & <int> & ⋯ & <int> & <dbl> & <int> & <int> & <dbl> & <int> & <dbl> & <int> & <int> & <dbl>\\\\\n",
       "\\hline\n",
       "\t1 & 220079 & 700001 & 1 & 0 &  -30 & 4 & 4 & 5 & 4 & 5 & ⋯ & NA &  50.0 &  75 &  70 & 0.00173 & 11 & 100.0 & 10 & 41 &      NA\\\\\n",
       "\t2 & 221745 & 700003 & 1 & 0 &   -7 & 4 & 4 & 4 & 4 & 4 & ⋯ & 20 & 100.0 & 100 & 100 & 0.00144 &  1 & 100.0 &  9 & 34 & 0.08824\\\\\n",
       "\t3 & 215143 & 700004 & 1 & 0 &   -2 & 5 & 4 & 3 & 3 & 3 & ⋯ & 22 &  75.0 & 100 &  80 & 0.00132 &  9 & 100.0 & 10 & 30 & 0.38235\\\\\n",
       "\t4 & 215143 & 700004 & 2 & 9 & 3102 & 3 & 3 & 2 & 3 & 3 & ⋯ & 19 &  87.5 & 100 &  95 & 0.00173 &  7 & 100.0 &  6 & 26 & 0.26471\\\\\n",
       "\t5 & 214904 & 700005 & 1 & 0 &  -16 & 3 & 3 & 1 & 3 & 1 & ⋯ & 20 &  75.0 & 100 &  95 & 0.00084 & NA &  87.5 & 19 & 18 & 0.64706\\\\\n",
       "\t6 & 214904 & 700005 & 2 & 7 & 2465 & 3 & 2 & 1 & 3 & 2 & ⋯ & 25 &  37.5 &   0 &  50 & 0.00144 &  4 & 100.0 &  9 & 19 &      NA\\\\\n",
       "\\end{tabular}\n"
      ],
      "text/markdown": [
       "\n",
       "A data.frame: 6 × 219\n",
       "\n",
       "| <!--/--> | dbGaP_Subject_ID &lt;int&gt; | SUBJID &lt;int&gt; | F37VTYP &lt;int&gt; | F37VY &lt;int&gt; | F37DAYS &lt;int&gt; | LISTEN &lt;int&gt; | GOODADVC &lt;int&gt; | TAKEDR &lt;int&gt; | GOODTIME &lt;int&gt; | HLPPROB &lt;int&gt; | ⋯ ⋯ | OPTIMISM &lt;int&gt; | PAIN &lt;dbl&gt; | PHYLIMIT &lt;int&gt; | PHYSFUN &lt;int&gt; | PSHTDEP &lt;dbl&gt; | SLPDSTRB &lt;int&gt; | SOCFUNC &lt;dbl&gt; | SOCSTRN &lt;int&gt; | SOCSUPP &lt;int&gt; | SYMPTOM &lt;dbl&gt; |\n",
       "|---|---|---|---|---|---|---|---|---|---|---|---|---|---|---|---|---|---|---|---|---|---|\n",
       "| 1 | 220079 | 700001 | 1 | 0 |  -30 | 4 | 4 | 5 | 4 | 5 | ⋯ | NA |  50.0 |  75 |  70 | 0.00173 | 11 | 100.0 | 10 | 41 |      NA |\n",
       "| 2 | 221745 | 700003 | 1 | 0 |   -7 | 4 | 4 | 4 | 4 | 4 | ⋯ | 20 | 100.0 | 100 | 100 | 0.00144 |  1 | 100.0 |  9 | 34 | 0.08824 |\n",
       "| 3 | 215143 | 700004 | 1 | 0 |   -2 | 5 | 4 | 3 | 3 | 3 | ⋯ | 22 |  75.0 | 100 |  80 | 0.00132 |  9 | 100.0 | 10 | 30 | 0.38235 |\n",
       "| 4 | 215143 | 700004 | 2 | 9 | 3102 | 3 | 3 | 2 | 3 | 3 | ⋯ | 19 |  87.5 | 100 |  95 | 0.00173 |  7 | 100.0 |  6 | 26 | 0.26471 |\n",
       "| 5 | 214904 | 700005 | 1 | 0 |  -16 | 3 | 3 | 1 | 3 | 1 | ⋯ | 20 |  75.0 | 100 |  95 | 0.00084 | NA |  87.5 | 19 | 18 | 0.64706 |\n",
       "| 6 | 214904 | 700005 | 2 | 7 | 2465 | 3 | 2 | 1 | 3 | 2 | ⋯ | 25 |  37.5 |   0 |  50 | 0.00144 |  4 | 100.0 |  9 | 19 |      NA |\n",
       "\n"
      ],
      "text/plain": [
       "  dbGaP_Subject_ID SUBJID F37VTYP F37VY F37DAYS LISTEN GOODADVC TAKEDR GOODTIME\n",
       "1 220079           700001 1       0      -30    4      4        5      4       \n",
       "2 221745           700003 1       0       -7    4      4        4      4       \n",
       "3 215143           700004 1       0       -2    5      4        3      3       \n",
       "4 215143           700004 2       9     3102    3      3        2      3       \n",
       "5 214904           700005 1       0      -16    3      3        1      3       \n",
       "6 214904           700005 2       7     2465    3      2        1      3       \n",
       "  HLPPROB ⋯ OPTIMISM PAIN  PHYLIMIT PHYSFUN PSHTDEP SLPDSTRB SOCFUNC SOCSTRN\n",
       "1 5       ⋯ NA        50.0  75       70     0.00173 11       100.0   10     \n",
       "2 4       ⋯ 20       100.0 100      100     0.00144  1       100.0    9     \n",
       "3 3       ⋯ 22        75.0 100       80     0.00132  9       100.0   10     \n",
       "4 3       ⋯ 19        87.5 100       95     0.00173  7       100.0    6     \n",
       "5 1       ⋯ 20        75.0 100       95     0.00084 NA        87.5   19     \n",
       "6 2       ⋯ 25        37.5   0       50     0.00144  4       100.0    9     \n",
       "  SOCSUPP SYMPTOM\n",
       "1 41           NA\n",
       "2 34      0.08824\n",
       "3 30      0.38235\n",
       "4 26      0.26471\n",
       "5 18      0.64706\n",
       "6 19           NA"
      ]
     },
     "metadata": {},
     "output_type": "display_data"
    },
    {
     "data": {
      "text/html": [
       "7209"
      ],
      "text/latex": [
       "7209"
      ],
      "text/markdown": [
       "7209"
      ],
      "text/plain": [
       "[1] 7209"
      ]
     },
     "metadata": {},
     "output_type": "display_data"
    },
    {
     "data": {
      "text/html": [
       "7209"
      ],
      "text/latex": [
       "7209"
      ],
      "text/markdown": [
       "7209"
      ],
      "text/plain": [
       "[1] 7209"
      ]
     },
     "metadata": {},
     "output_type": "display_data"
    },
    {
     "data": {
      "text/html": [
       "1211"
      ],
      "text/latex": [
       "1211"
      ],
      "text/markdown": [
       "1211"
      ],
      "text/plain": [
       "[1] 1211"
      ]
     },
     "metadata": {},
     "output_type": "display_data"
    },
    {
     "data": {
      "text/html": [
       "<table class=\"dataframe\">\n",
       "<caption>A data.frame: 6 × 5</caption>\n",
       "<thead>\n",
       "\t<tr><th></th><th scope=col>SUBJID</th><th scope=col>INCONT</th><th scope=col>TOINCON</th><th scope=col>FRQINCON</th><th scope=col>LEAKAMT</th></tr>\n",
       "\t<tr><th></th><th scope=col>&lt;int&gt;</th><th scope=col>&lt;int&gt;</th><th scope=col>&lt;int&gt;</th><th scope=col>&lt;int&gt;</th><th scope=col>&lt;int&gt;</th></tr>\n",
       "</thead>\n",
       "<tbody>\n",
       "\t<tr><th scope=row>45</th><td>700032</td><td>0</td><td>NA</td><td>NA</td><td>NA</td></tr>\n",
       "\t<tr><th scope=row>46</th><td>700032</td><td>0</td><td>NA</td><td>NA</td><td>NA</td></tr>\n",
       "\t<tr><th scope=row>115</th><td>700078</td><td>1</td><td> 1</td><td> 2</td><td> 2</td></tr>\n",
       "\t<tr><th scope=row>116</th><td>700078</td><td>1</td><td> 1</td><td> 5</td><td> 3</td></tr>\n",
       "\t<tr><th scope=row>135</th><td>700091</td><td>0</td><td>NA</td><td>NA</td><td>NA</td></tr>\n",
       "\t<tr><th scope=row>136</th><td>700091</td><td>1</td><td> 1</td><td> 4</td><td> 2</td></tr>\n",
       "</tbody>\n",
       "</table>\n"
      ],
      "text/latex": [
       "A data.frame: 6 × 5\n",
       "\\begin{tabular}{r|lllll}\n",
       "  & SUBJID & INCONT & TOINCON & FRQINCON & LEAKAMT\\\\\n",
       "  & <int> & <int> & <int> & <int> & <int>\\\\\n",
       "\\hline\n",
       "\t45 & 700032 & 0 & NA & NA & NA\\\\\n",
       "\t46 & 700032 & 0 & NA & NA & NA\\\\\n",
       "\t115 & 700078 & 1 &  1 &  2 &  2\\\\\n",
       "\t116 & 700078 & 1 &  1 &  5 &  3\\\\\n",
       "\t135 & 700091 & 0 & NA & NA & NA\\\\\n",
       "\t136 & 700091 & 1 &  1 &  4 &  2\\\\\n",
       "\\end{tabular}\n"
      ],
      "text/markdown": [
       "\n",
       "A data.frame: 6 × 5\n",
       "\n",
       "| <!--/--> | SUBJID &lt;int&gt; | INCONT &lt;int&gt; | TOINCON &lt;int&gt; | FRQINCON &lt;int&gt; | LEAKAMT &lt;int&gt; |\n",
       "|---|---|---|---|---|---|\n",
       "| 45 | 700032 | 0 | NA | NA | NA |\n",
       "| 46 | 700032 | 0 | NA | NA | NA |\n",
       "| 115 | 700078 | 1 |  1 |  2 |  2 |\n",
       "| 116 | 700078 | 1 |  1 |  5 |  3 |\n",
       "| 135 | 700091 | 0 | NA | NA | NA |\n",
       "| 136 | 700091 | 1 |  1 |  4 |  2 |\n",
       "\n"
      ],
      "text/plain": [
       "    SUBJID INCONT TOINCON FRQINCON LEAKAMT\n",
       "45  700032 0      NA      NA       NA     \n",
       "46  700032 0      NA      NA       NA     \n",
       "115 700078 1       1       2        2     \n",
       "116 700078 1       1       5        3     \n",
       "135 700091 0      NA      NA       NA     \n",
       "136 700091 1       1       4        2     "
      ]
     },
     "metadata": {},
     "output_type": "display_data"
    },
    {
     "data": {
      "text/html": [
       "8420"
      ],
      "text/latex": [
       "8420"
      ],
      "text/markdown": [
       "8420"
      ],
      "text/plain": [
       "[1] 8420"
      ]
     },
     "metadata": {},
     "output_type": "display_data"
    }
   ],
   "source": [
    "length(case_control_c1$SUBJID)\n",
    "length(case_control_c2$SUBJID)\n",
    "head(case_control_c1)\n",
    "\n",
    "case_control_c1_matches <- which(case_control_c1$SUBJID %in% subject_sampleids$SUBJID)\n",
    "case_control_c1_matches_df <- case_control_c1[case_control_c1_matches, c(\"SUBJID\", \"INCONT\", \"TOINCON\", \"FRQINCON\", \"LEAKAMT\")]\n",
    "case_control_c1_matches_df_all_col <- case_control_c1[case_control_c1_matches, ]\n",
    "\n",
    "length(case_control_c1_matches_df$SUBJID)\n",
    "length(case_control_c1_matches_df$SUBJID)\n",
    "\n",
    "case_control_c2_matches <- which(case_control_c2$SUBJID %in% subject_sampleids$SUBJID)\n",
    "case_control_c2_matches_df <- case_control_c2[case_control_c2_matches, c(\"SUBJID\", \"INCONT\", \"TOINCON\", \"FRQINCON\", \"LEAKAMT\")]\n",
    "case_control_c2_matches_df_all_col <- case_control_c2[case_control_c2_matches, ]\n",
    "length(case_control_c2_matches_df$SUBJID)\n",
    "\n",
    "case_control_c1c2_merged <- rbind(case_control_c1_matches_df, case_control_c2_matches_df)\n",
    "case_control_c1c2_merged_all_col <- rbind(case_control_c1_matches_df_all_col, case_control_c2_matches_df_all_col)\n",
    "head(case_control_c1c2_merged)\n",
    "length(case_control_c1c2_merged$SUBJID)\n",
    "\n",
    "outfile <-  \"processing/case_control_c1c2_merged.csv\"\n",
    "outfile2 <-  \"processing/case_control_c1c2_merged_all_col.csv\"\n",
    "write.csv(case_control_c1c2_merged, outfile, quote=F, row.names=F)\n",
    "write.csv(case_control_c1c2_merged_all_col, outfile2, quote=F, row.names=F)"
   ]
  },
  {
   "cell_type": "code",
   "execution_count": null,
   "id": "e740a0b4-510f-4244-8870-2b4fb2fbaf14",
   "metadata": {},
   "outputs": [],
   "source": []
  },
  {
   "cell_type": "markdown",
   "id": "0f8c37b9-57d3-437d-a7d1-a7d3c68142c4",
   "metadata": {},
   "source": []
  },
  {
   "cell_type": "markdown",
   "id": "88960d8f-798f-4372-a8c2-7a8ed5cc66e0",
   "metadata": {},
   "source": [
    "## Merge all dataframes"
   ]
  },
  {
   "cell_type": "code",
   "execution_count": 224,
   "id": "47a140a6-8f2e-4059-8f72-e10705bc0b3a",
   "metadata": {},
   "outputs": [],
   "source": [
    "#cbind(age_race_c1c2_merged, case_control_c1c2_merged)\n",
    "#merge(age_race_c1c2_merged, case_control_c1c2_merged, by = \"SUBJID\")\n",
    "#case_control_c1c2_merged\n",
    "#parkinsons_diab_c1c2_merged\n",
    "#bmi_c1c2_merged\n",
    "#parity_c1c2_merged\n",
    "#age_race_c1c2_merged"
   ]
  },
  {
   "cell_type": "markdown",
   "id": "77a854e7-2d3e-4cfa-9051-0ce476973b1d",
   "metadata": {},
   "source": [
    "# Genotype QC\n",
    "\n",
    "Update to build 37 from build 36.\n",
    "\n",
    "See the head of the file showing it is in build 36. We also spot checked several variants. We don't know if these data are \n",
    "```\n",
    "head HumanOmni1-Quad_v1-0_B.csv\n",
    "\n",
    "Illumina, Inc.,,,,,,,,,,,,,,,,,,,\n",
    "[Heading],,,,,,,,,,,,,,,,,,,,\n",
    "Descriptor File Name,HumanOmni1-Quad_v1-0_B.bpm,,,,,,,,,,,,,,,,,,,\n",
    "Assay Format,Infinium HD Super,,,,,,,,,,,,,,,,,,,\n",
    "Date Manufactured,6/15/2009,,,,,,,,,,,,,,,,,,,\n",
    "Loci Count ,1140419,,,,,,,,,,,,,,,,,,,\n",
    "[Assay],,,,,,,,,,,,,,,,,,,,\n",
    "IlmnID,Name,IlmnStrand,SNP,AddressA_ID,AlleleA_ProbeSeq,AddressB_ID,AlleleB_ProbeSeq,GenomeBuild,Chr,MapInfo,Ploidy,Species,Source,SourceVersion,SourceStrand,SourceSeq,TopGenomicSeq,BeadSetID,Exp_Clusters,Intensity_Only\n",
    "200006-0_T_R_1526882018,200006,TOP,[A/G],60702346,AGACTGTGGATGAATAATGCTGGTGAGTGTCTGGCCCTCGGGGAGGCCCA,,,36,9,139046223,diploid,Homo sapiens,Unknown,0,BOT,ACATGCCCCACTCAGCGCCACCCCCGTCCTCCCCTCCCAGGTTGCCTAGCTGTCCCCAGC[T/C]TGGGCCTCCCCGAGGGCCAGACACTCACCAGCATTATTCATCCACAGTCTCCCAGGATCA,TGATCCTGGGAGACTGTGGATGAATAATGCTGGTGAGTGTCTGGCCCTCGGGGAGGCCCA[A/G]GCTGGGGACAGCTAGGCAACCTGGGAGGGGAGGACGGGGGTGGCGCTGAGTGGGGCATGT,163,3,0\n",
    "```\n",
    "\n",
    "\n",
    "Information about liftover on PLINK files.\n",
    "https://www.biostars.org/p/252938/"
   ]
  },
  {
   "cell_type": "code",
   "execution_count": null,
   "id": "48d529af-1184-4ca8-9f78-979ef2d1f3b2",
   "metadata": {},
   "outputs": [],
   "source": [
    "mkdir -p ~/rti-shared/shared_data/pre_qc/whi_garnet/genotype/array/observed/0001/{c1,c2}\n",
    "\n",
    "# download genotype data and array info\n",
    "cd ~/rti-shared/shared_data/pre_qc/whi_garnet/genotype/array/observed/0001/c1\n",
    "aws s3 cp s3://rti-common/dbGaP/phs000315_whi_garnet/PhenoGenotypeFiles/ChildStudyConsentSet_phs000315.WHI.v8.p3.c1.HMB-IRB/GenotypeFiles/phg000139.v1.GARNET_WHI.genotype-calls-matrixfmt.c1.HMB-IRB.tar .\n",
    "aws s3 cp s3://rti-common/dbGaP/phs000315_whi_garnet/PhenoGenotypeFiles/ChildStudyConsentSet_phs000315.WHI.v8.p3.c1.HMB-IRB/GenotypeFiles/phg000139.v1.GARNET_WHI.marker-info.MULTI.tar .\n",
    "\n",
    "cd ~/rti-shared/shared_data/pre_qc/whi_garnet/genotype/array/observed/0001/c2\n",
    "aws s3 cp s3://rti-common/dbGaP/phs000315_whi_garnet/PhenoGenotypeFiles/ChildStudyConsentSet_phs000315.WHI.v8.p3.c2.HMB-IRB-NPU/GenotypeFiles/phg000139.v1.GARNET_WHI.genotype-calls-matrixfmt.c2.HMB-IRB-NPU.tar .\n",
    "aws s3 cp s3://rti-common/dbGaP/phs000315_whi_garnet/PhenoGenotypeFiles/ChildStudyConsentSet_phs000315.WHI.v8.p3.c2.HMB-IRB-NPU/GenotypeFiles/phg000139.v1.GARNET_WHI.marker-info.MULTI.tar .\n",
    "\n",
    "# get SNP intersection see the following:\n",
    "# s3://rti-shared/shared_data/pre_qc/uhs1234/genotype/array/observed/0001/20210331_uhs1234_pre_qc_preparation.html\n",
    "\n",
    "\n",
    "# unarchive\n",
    "cd ../c1\n",
    "tar -xvf phg000139.v1.GARNET_WHI.genotype-calls-matrixfmt.c1.HMB-IRB.tar\n",
    "tar -xvf phg000139.v1.GARNET_WHI.marker-info.MULTI.tar\n",
    "\n",
    "cd ../c2\n",
    "tar -xvf phg000139.v1.GARNET_WHI.genotype-calls-matrixfmt.c2.HMB-IRB-NPU.tar\n",
    "tar -xvf phg000139.v1.GARNET_WHI.marker-info.MULTI.tar\n",
    "\n",
    "# get genotype array chip info\n",
    "cd ../\n",
    "ls c1/phg000139.v1.GARNET_WHI.marker-info.MULTI #HumanOmni1-Quad_v1-0_B.csv  README_SNP-info.txt\n",
    "ls c2/phg000139.v1.GARNET_WHI.marker-info.MULTI #HumanOmni1-Quad_v1-0_B.csv  README_SNP-info.txt\n",
    "\n",
    "# download the flip file from \n",
    "cd ~/rti-shared/shared_data/pre_qc/whi_garnet/genotype/array/observed/0001/\n",
    "wget https://www.well.ox.ac.uk/~wrayner/strand/HumanOmni1-Quad_v1-0_B-b36-strand.zip\n",
    "unzip HumanOmni1-Quad_v1-0_B-b36-strand.zip\n",
    "\n",
    "## download strand updating tool\n",
    "wget https://www.well.ox.ac.uk/~wrayner/strand/update_build.sh"
   ]
  },
  {
   "cell_type": "markdown",
   "id": "17d2e2a1-cbcd-44a6-aecb-9570a174ad09",
   "metadata": {},
   "source": [
    "## LiftOver"
   ]
  },
  {
   "cell_type": "markdown",
   "id": "301addee-c9d7-45c9-aefb-18b16a7236d3",
   "metadata": {},
   "source": [
    "### consent group1"
   ]
  },
  {
   "cell_type": "code",
   "execution_count": null,
   "id": "98c50e0b-fff6-4165-9c61-a66e088563be",
   "metadata": {},
   "outputs": [],
   "source": [
    "cd /home/ec2-user/rti-shared/shared_data/pre_qc/whi_garnet/genotype/array/observed/0001/c1/phg000139.v1.GARNET_WHI.genotype-calls-matrixfmt.c1/sample_level_unfiltered_PLINK_set/\n",
    "\n",
    "# convert to PED/MAP format\n",
    "mkdir liftover/\n",
    "docker run -v $PWD:/data/ -it rtibiocloud/plink:v1.9_178bb91 plink \\\n",
    "    --bfile /data/GARNET_WHI_TOP_sample_level_c1 \\\n",
    "    --recode \\\n",
    "    --out /data/liftover/garnet_whi_c1\n",
    "\n",
    "# download database and script\n",
    "#wget https://raw.githubusercontent.com/Shicheng-Guo/Gscutility/master/ibdqc.pl\n",
    "# apply liftOverPlink.py to update hg18 to hg19 or hg38\n",
    "mkdir liftOver\n",
    "python ~/bin/liftover/liftOverPlink.py \\\n",
    "    -m liftOver/garnet_whi_c1.map \\\n",
    "    -p liftOver/garnet_whi_c1.ped \\\n",
    "    -o liftOver/garnet_whi_c1_hg19 \\\n",
    "    -c ~/bin/liftover/hg18ToHg19.over.chain.gz \\\n",
    "    -e ~/bin/liftover/liftOver\n",
    "\n",
    "#Converting MAP file to UCSC BED file...\n",
    "#SUCC:  map->bed succ\n",
    "#Lifting BED file...\n",
    "#Reading liftover chains\n",
    "#Mapping coordinates\n",
    "#SUCC:  liftBed succ\n",
    "#Converting lifted BED file back to MAP...\n",
    "#SUCC:  bed->map succ\n",
    "#Updating PED file...\n",
    "#jSUCC:  liftPed succ\n",
    "#cleaning up BED files...\n",
    "\n",
    "# convert back to bed/bim/fam\n",
    "cd /home/ec2-user/rti-shared/shared_data/pre_qc/whi_garnet/genotype/array/observed/0001/c1/phg000139.v1.GARNET_WHI.genotype-calls-matrixfmt.c1/sample_level_unfiltered_PLINK_set/liftOver\n",
    "docker run -v $PWD:/data/ -it rtibiocloud/plink:v1.9_178bb91 plink \\\n",
    "    --file /data/garnet_whi_c1_hg19 \\\n",
    "    --make-bed \\\n",
    "    --out /data/garnet_whi_c1_hg19"
   ]
  },
  {
   "cell_type": "markdown",
   "id": "0c2066d9-8e1f-430e-825a-d13ce81444ab",
   "metadata": {},
   "source": [
    "### consent group2"
   ]
  },
  {
   "cell_type": "code",
   "execution_count": null,
   "id": "6dac2f71-30d7-4317-a9c4-aae893302503",
   "metadata": {},
   "outputs": [],
   "source": [
    "cd /home/ec2-user/rti-shared/shared_data/pre_qc/whi_garnet/genotype/array/observed/0001/c2/phg000139.v1.GARNET_WHI.genotype-calls-matrixfmt.c2/sample_level_unfiltered_PLINK_set/\n",
    "gunzip GARNET*\n",
    "\n",
    "# convert bed/bim/fam to PED/MAP format\n",
    "mkdir liftover/\n",
    "docker run -v $PWD:/data/ -it rtibiocloud/plink:v1.9_178bb91 plink \\\n",
    "    --bfile /data/GARNET_WHI_TOP_sample_level_c2 \\\n",
    "    --recode \\\n",
    "    --out /data/liftover/garnet_whi_c2\n",
    "\n",
    "# download database and script\n",
    "#wget https://raw.githubusercontent.com/Shicheng-Guo/Gscutility/master/ibdqc.pl\n",
    "# apply liftOverPlink.py to update hg18 to hg19 or hg38\n",
    "python ~/bin/liftover/liftOverPlink.py \\\n",
    "    -m liftover/garnet_whi_c2.map \\\n",
    "    -p liftover/garnet_whi_c2.ped \\\n",
    "    -o liftover/garnet_whi_c2_hg19 \\\n",
    "    -c ~/bin/liftover/hg18ToHg19.over.chain.gz \\\n",
    "    -e ~/bin/liftover/liftOver\n",
    "\n",
    "#Converting MAP file to UCSC BED file...\n",
    "#SUCC:  map->bed succ\n",
    "#Lifting BED file...\n",
    "#Reading liftover chains\n",
    "#Mapping coordinates\n",
    "#SUCC:  liftBed succ\n",
    "#Converting lifted BED file back to MAP...\n",
    "#SUCC:  bed->map succ\n",
    "#Updating PED file...\n",
    "#jSUCC:  liftPed succ\n",
    "#cleaning up BED files...\n",
    "\n",
    "# convert back to bed/bim/fam\n",
    "cd /home/ec2-user/rti-shared/shared_data/pre_qc/whi_garnet/genotype/array/observed/0001/c2/phg000139.v1.GARNET_WHI.genotype-calls-matrixfmt.c2/sample_level_unfiltered_PLINK_set/liftover\n",
    "docker run -v $PWD:/data/ -it rtibiocloud/plink:v1.9_178bb91 plink \\\n",
    "    --file /data/garnet_whi_c2_hg19 \\\n",
    "    --make-bed \\\n",
    "    --out /data/garnet_whi_c2_hg19"
   ]
  },
  {
   "cell_type": "markdown",
   "id": "b649d772-c9c4-42f0-8e22-df2522cb8c55",
   "metadata": {},
   "source": [
    "## Strand testing\n",
    "Need to convert to forward strand. We don't know exactly which strand orientation it is currently because it is not explicitly stated. Could be in TOP, Illum, or Source. We will test these three different flips and align with a reference file to see which creates the best alignment. "
   ]
  },
  {
   "cell_type": "code",
   "execution_count": null,
   "id": "3ac6b957-6377-4688-8c25-7ef41768bea1",
   "metadata": {},
   "outputs": [],
   "source": [
    "# download these files\n",
    "cd /home/ec2-user/rti-shared/shared_data/pre_qc/whi_garnet/genotype/array/observed/0001/\n",
    "wget https://www.well.ox.ac.uk/~wrayner/strand/HumanOmni1-Quad_v1-0_B-b37-strand.zip\n",
    "wget https://www.well.ox.ac.uk/~wrayner/strand/sourceStrand/HumanOmni1-Quad_v1-0_B-b37.Source.strand.zip\n",
    "wget https://www.well.ox.ac.uk/~wrayner/strand/ilmnStrand/HumanOmni1-Quad_v1-0_B-b37.Ilmn.strand.zip\n",
    "#s3://rti-common/chip_info/HumanOmni1-Quad_v1-0_B/\n",
    "gunzip *zip\n",
    "\n",
    "wget https://www.well.ox.ac.uk/~wrayner/strand/update_build.sh\n",
    "\n",
    "# use python code from:\n",
    "#https://github.com/RTIInternational/biocloud_docker_tools/blob/master/check_strand/v1/check_strand.py\n",
    "\n",
    "# download reference legend file\n",
    "aws s3 cp s3://rti-common/ref_panels/1000G/2014.10/legend_with_chr/1000GP_Phase3_chr1.legend.gz .\n"
   ]
  },
  {
   "cell_type": "code",
   "execution_count": null,
   "id": "e7917764-574d-4047-8fdd-e10e24c08f6c",
   "metadata": {},
   "outputs": [],
   "source": [
    "# apply flip with different stand orientations to discover which orientation our data is in\n",
    "cd /home/ec2-user/rti-shared/shared_data/pre_qc/whi_garnet/genotype/array/observed/0001/\n",
    "\n",
    "# interactive session\n",
    "docker run -it -v $PWD:/data/ rtibiocloud/plink:v1.9_178bb91 bash\n",
    "\n",
    "cd /data/\n",
    "\n",
    "#Required parameters:\n",
    "#1. The original bed stem (not including file extension suffix)\n",
    "#2. The strand file to apply\n",
    "#3. The new stem for output\n",
    "\n",
    "\n",
    "## c1\n",
    "orig=c1/phg000139.v1.GARNET_WHI.genotype-calls-matrixfmt.c1/sample_level_unfiltered_PLINK_set/liftOver/garnet_whi_c1_hg19\n",
    "\n",
    "# TOP strand\n",
    "strand=HumanOmni1-Quad_v1-0_B-b37.strand\n",
    "new_stem=c1/phg000139.v1.GARNET_WHI.genotype-calls-matrixfmt.c1/sample_level_unfiltered_PLINK_set/liftOver/garnet_whi_c1_hg19_top_strand_flipped\n",
    "bash update_build.sh $orig $strand $new_stem\n",
    "\n",
    "# Source strand\n",
    "strand=HumanOmni1-Quad_v1-0_B-b37.Source.strand\n",
    "new_stem=c1/phg000139.v1.GARNET_WHI.genotype-calls-matrixfmt.c1/sample_level_unfiltered_PLINK_set/liftOver/garnet_whi_c1_hg19_source_strand_flipped\n",
    "bash update_build.sh $orig $strand $new_stem\n",
    "\n",
    "# Illumina strand\n",
    "strand=HumanOmni1-Quad_v1-0_B-b37.Ilmn.strand\n",
    "new_stem=c1/phg000139.v1.GARNET_WHI.genotype-calls-matrixfmt.c1/sample_level_unfiltered_PLINK_set/liftOver/garnet_whi_c1_hg19_ilum_strand_flipped\n",
    "bash update_build.sh $orig $strand $new_stem\n",
    "\n",
    "\n",
    "\n",
    "## c2\n",
    "orig=c2/phg000139.v1.GARNET_WHI.genotype-calls-matrixfmt.c2/sample_level_unfiltered_PLINK_set/liftover/garnet_whi_c2_hg19\n",
    "\n",
    "# TOP strand\n",
    "strand=HumanOmni1-Quad_v1-0_B-b37.strand\n",
    "new_stem=c2/phg000139.v1.GARNET_WHI.genotype-calls-matrixfmt.c2/sample_level_unfiltered_PLINK_set/liftover/garnet_whi_c2_hg19_top_strand_flipped\n",
    "bash update_build.sh $orig $strand $new_stem\n",
    "\n",
    "# Source strand\n",
    "strand=HumanOmni1-Quad_v1-0_B-b37.Source.strand\n",
    "new_stem=c2/phg000139.v1.GARNET_WHI.genotype-calls-matrixfmt.c2/sample_level_unfiltered_PLINK_set/liftover/garnet_whi_c2_hg19_source_strand_flipped\n",
    "bash update_build.sh $orig $strand $new_stem\n",
    "\n",
    "# Illumina strand\n",
    "strand=HumanOmni1-Quad_v1-0_B-b37.Ilmn.strand\n",
    "new_stem=c2/phg000139.v1.GARNET_WHI.genotype-calls-matrixfmt.c2/sample_level_unfiltered_PLINK_set/liftover/garnet_whi_c2_hg19_ilum_strand_flipped\n",
    "bash update_build.sh $orig $strand $new_stem"
   ]
  },
  {
   "cell_type": "markdown",
   "id": "ffde5bfb-5113-419d-94aa-bfb4f856ea78",
   "metadata": {},
   "source": [
    "### consent group1\n",
    "As you can see from the code below, our results were originally in TOP strand orientation. \n",
    "We flip them to forward strand."
   ]
  },
  {
   "cell_type": "code",
   "execution_count": null,
   "id": "5b9a576a-e645-45bc-9014-96889897f060",
   "metadata": {},
   "outputs": [],
   "source": [
    "# No strand flip\n",
    "python3 check_strand.py \\\n",
    "    --bim c1/phg000139.v1.GARNET_WHI.genotype-calls-matrixfmt.c1/sample_level_unfiltered_PLINK_set/liftOver/garnet_whi_c1_hg19.bim \\\n",
    "    --ref 1000GP_Phase3_chr1.legend.gz\n",
    "\n",
    "#94456 variants in bim on chromosomes in ref\n",
    "#75132 non-A/T, non-C/G, non-monomorphic variants in common with reference\n",
    "#37259 plus strand variants\n",
    "#37873 non-plus strand variants fixed by strand flip\n",
    "\n",
    "\n",
    "# TOP strand flip\n",
    "python3 check_strand.py \\\n",
    "    --bim c1/phg000139.v1.GARNET_WHI.genotype-calls-matrixfmt.c1/sample_level_unfiltered_PLINK_set/liftOver/garnet_whi_c1_hg19_top_strand_flipped.bim \\\n",
    "    --ref 1000GP_Phase3_chr1.legend.gz\n",
    "\n",
    "#92340 variants in bim on chromosomes in ref\n",
    "#74994 non-A/T, non-C/G, non-monomorphic variants in common with reference\n",
    "#74992 plus strand variants\n",
    "#2 non-plus strand variants fixed by strand flip\n",
    "\n",
    "\n",
    "# Source strand flip\n",
    "python3 check_strand.py \\\n",
    "    --bim c1/phg000139.v1.GARNET_WHI.genotype-calls-matrixfmt.c1/sample_level_unfiltered_PLINK_set/liftOver/garnet_whi_c1_hg19_source_strand_flipped.bim \\\n",
    "    --ref 1000GP_Phase3_chr1.legend.gz\n",
    "\n",
    "#92340 variants in bim on chromosomes in ref\n",
    "#74994 non-A/T, non-C/G, non-monomorphic variants in common with reference\n",
    "#37375 plus strand variants\n",
    "#37619 non-plus strand variants fixed by strand flip\n",
    "\n",
    "\n",
    "# Illumina strand flip\n",
    "python3 check_strand.py \\\n",
    "    --bim c1/phg000139.v1.GARNET_WHI.genotype-calls-matrixfmt.c1/sample_level_unfiltered_PLINK_set/liftOver/garnet_whi_c1_hg19_ilum_strand_flipped.bim \\\n",
    "    --ref 1000GP_Phase3_chr1.legend.gz\n",
    "\n",
    "#92340 variants in bim on chromosomes in ref\n",
    "#74994 non-A/T, non-C/G, non-monomorphic variants in common with reference\n",
    "#38708 plus strand variants\n",
    "#36286 non-plus strand variants fixed by strand flip\n"
   ]
  },
  {
   "cell_type": "code",
   "execution_count": null,
   "id": "be48f8f9-664b-4ef9-affd-c015bdd7ba9a",
   "metadata": {},
   "outputs": [],
   "source": [
    "# upload the TOP strand flipped results to S3\n",
    "cd /home/ec2-user/rti-shared/shared_data/pre_qc/whi_garnet/genotype/array/observed/0001/c1/phg000139.v1.GARNET_WHI.genotype-calls-matrixfmt.c1/sample_level_unfiltered_PLINK_set/liftOver\n",
    "gzip *\n",
    "\n",
    "for ext in {bed,bim,fam}; do\n",
    "    aws s3 cp garnet_whi_c1_hg19_top_strand_flipped.$ext.gz \\\n",
    "    s3://rti-shared/shared_data/pre_qc/phs000315_whi_garnet/genotype/array/observed/0001/c1/garnet_whi_c1_hg19_forward_strand.$ext.gz\n",
    "done"
   ]
  },
  {
   "cell_type": "markdown",
   "id": "c66bb715-57f9-4012-9f0f-96334c555b09",
   "metadata": {},
   "source": [
    "### consent group2\n",
    "As you can see from the code below, our results were originally in TOP strand orientation. \n",
    "We flip them to forward strand."
   ]
  },
  {
   "cell_type": "code",
   "execution_count": null,
   "id": "71c9e4fd-6166-4b8c-a593-1c528d2d3c8f",
   "metadata": {},
   "outputs": [],
   "source": [
    "# no stand flip\n",
    "python3 check_strand.py \\\n",
    "    --bim c2/phg000139.v1.GARNET_WHI.genotype-calls-matrixfmt.c2/sample_level_unfiltered_PLINK_set/liftover/garnet_whi_c2_hg19.bim \\\n",
    "    --ref 1000GP_Phase3_chr1.legend.gz\n",
    "\n",
    "#94456 variants in bim on chromosomes in ref\n",
    "#74918 non-A/T, non-C/G, non-monomorphic variants in common with reference\n",
    "#37139 plus strand variants\n",
    "#37779 non-plus strand variants fixed by strand flip\n",
    "\n",
    "\n",
    "# TOP strand flip\n",
    "python3 check_strand.py \\\n",
    "    --bim c2/phg000139.v1.GARNET_WHI.genotype-calls-matrixfmt.c2/sample_level_unfiltered_PLINK_set/liftover/garnet_whi_c2_hg19_top_strand_flipped.bim \\\n",
    "    --ref 1000GP_Phase3_chr1.legend.gz\n",
    "\n",
    "#92340 variants in bim on chromosomes in ref\n",
    "#74780 non-A/T, non-C/G, non-monomorphic variants in common with reference\n",
    "#74778 plus strand variants\n",
    "#2 non-plus strand variants fixed by strand flip\n",
    "\n",
    "\n",
    "# Source strand flip\n",
    "python3 check_strand.py \\\n",
    "    --bim c2/phg000139.v1.GARNET_WHI.genotype-calls-matrixfmt.c2/sample_level_unfiltered_PLINK_set/liftover/garnet_whi_c2_hg19_source_strand_flipped.bim \\\n",
    "    --ref 1000GP_Phase3_chr1.legend.gz\n",
    "\n",
    "#92340 variants in bim on chromosomes in ref\n",
    "#74780 non-A/T, non-C/G, non-monomorphic variants in common with reference\n",
    "#37258 plus strand variants\n",
    "#37522 non-plus strand variants fixed by strand flip\n",
    "\n",
    "\n",
    "# Illumina strand flip\n",
    "python3 check_strand.py \\\n",
    "    --bim c2/phg000139.v1.GARNET_WHI.genotype-calls-matrixfmt.c2/sample_level_unfiltered_PLINK_set/liftover/garnet_whi_c2_hg19_ilum_strand_flipped.bim \\\n",
    "    --ref 1000GP_Phase3_chr1.legend.gz\n",
    "# 92340 variants in bim on chromosomes in ref\n",
    "#74780 non-A/T, non-C/G, non-monomorphic variants in common with reference\n",
    "#38604 plus strand variants\n",
    "#36176 non-plus strand variants fixed by strand flip"
   ]
  },
  {
   "cell_type": "code",
   "execution_count": null,
   "id": "f8280070-b129-4af2-be5e-779ddf499e8b",
   "metadata": {},
   "outputs": [],
   "source": [
    "# upload the TOP strand flipped results to S3\n",
    "cd /home/ec2-user/rti-shared/shared_data/pre_qc/whi_garnet/genotype/array/observed/0001/c2/phg000139.v1.GARNET_WHI.genotype-calls-matrixfmt.c2/sample_level_unfiltered_PLINK_set/liftover/\n",
    "gzip *\n",
    "\n",
    "for ext in {bed,bim,fam}; do\n",
    "    aws s3 cp garnet_whi_c2_hg19_top_strand_flipped.$ext.gz \\\n",
    "    s3://rti-shared/shared_data/pre_qc/phs000315_whi_garnet/genotype/array/observed/0001/c2/garnet_whi_c2_hg19_forward_strand.$ext.gz\n",
    "done\n"
   ]
  },
  {
   "cell_type": "markdown",
   "id": "8db46fcc-3baf-4df5-a64b-c87083f60bee",
   "metadata": {},
   "source": [
    "## Submit Workflow"
   ]
  },
  {
   "cell_type": "markdown",
   "id": "c0eeda77-0f64-4c38-8d8a-77c926775c3d",
   "metadata": {},
   "source": [
    "### consent group1"
   ]
  },
  {
   "cell_type": "code",
   "execution_count": null,
   "id": "a59f4a40-1139-49d2-82bb-fa5182b3003a",
   "metadata": {},
   "outputs": [],
   "source": [
    "# create directories\n",
    "mkdir -p ~/rti-shared/shared_data/post_qc/phs000315_whi_garnet/genotype/array/observed/0001/c1/{wf_input,wf_output}\n",
    "mkdir -p ~/bioinformatics/methods/rti-shared/shared_data/post_qc/phs000315_whi_garnet/genotype/array/observed/0001/c1/\n",
    "\n",
    "# Set up config file for QC pipeline (use vim to modify)\n",
    "cd ~/rti-shared/shared_data/post_qc/phs000315_whi_garnet/genotype/array/observed/0001/c1/wf_input\n",
    "\n",
    "# Zip biocloud_gwas_workflows repo\n",
    "cd ~/\n",
    "git clone --recursive https://github.com/RTIInternational/biocloud_gwas_workflows\n",
    "cd biocloud_gwas_workflows/\n",
    "git rev-parse HEAD > ~/rti-shared/shared_data/post_qc/phs000315_whi_garnet/genotype/array/observed/0001/c1/wf_input/git_hash.txt\n",
    "cd ~/\n",
    "zip \\\n",
    "    --exclude=*/var/* \\\n",
    "    --exclude=*.git/* \\\n",
    "    --exclude=*/test/* \\\n",
    "    --exclude=*/.idea/* \\\n",
    "    -r ~/rti-shared/shared_data/post_qc/phs000315_whi_garnet/genotype/array/observed/0001/c1/wf_input/biocloud_gwas_workflows.zip \\\n",
    "    biocloud_gwas_workflows/\n",
    "\n",
    "\n",
    "# submit job\n",
    "# Open session in terminal 1\n",
    "ssh -i ~/.ssh/cromwell.pem -L localhost:8000:localhost:8000 ec2-user@54.208.171.34\n",
    "\n",
    "cd ~/rti-shared/shared_data/post_qc/phs000315_whi_garnet/genotype/array/observed/0001/c1/wf_output/\n",
    "# Submit job in terminal 2\n",
    "curl -X POST \"http://localhost:8000/api/workflows/v1\" -H \"accept: application/json\" \\\n",
    "    -F \"workflowSource=@/home/ec2-user/biocloud_gwas_workflows/genotype_array_qc/genotype_array_qc_wf.wdl\" \\\n",
    "    -F \"workflowInputs=@/home/ec2-user/bioinformatics/methods/rti-shared/shared_data/post_qc/phs000315_whi_garnet/genotype/array/observed/0001/c1/whi_garnet_c1_genotype_qc.json\" \\\n",
    "    -F \"workflowDependencies=@/home/ec2-user/rti-shared/shared_data/post_qc/phs000315_whi_garnet/genotype/array/observed/0001/c1/wf_input/biocloud_gwas_workflows.zip\" \\\n",
    "    -F \"workflowOptions=@/home/ec2-user/bin/cromwell/gpp_fellows_fund_charge_code.json\" >> job_id.txt\n",
    "\n",
    "job=d94c9f96-1e89-4a3e-ac58-79966e4f2921\n",
    "\n",
    "# check job status in terminal 2\n",
    "curl -X GET \"http://localhost:8000/api/workflows/v1/$job/status\"   \n",
    "\n",
    "# Monitor job in terminal 1\n",
    "tail -f /tmp/cromwell-server.log\n",
    "\n"
   ]
  },
  {
   "cell_type": "markdown",
   "id": "f0ed3615-1d15-4a18-8f9f-866fdc15cd9a",
   "metadata": {},
   "source": [
    "### consent group2"
   ]
  },
  {
   "cell_type": "code",
   "execution_count": null,
   "id": "69919ce8-1ec5-416f-b717-15f7d10f20b1",
   "metadata": {},
   "outputs": [],
   "source": [
    "# create directories\n",
    "mkdir -p ~/rti-shared/shared_data/post_qc/phs000315_whi_garnet/genotype/array/observed/0001/c2/{wf_input,wf_output}\n",
    "mkdir -p ~/bioinformatics/methods/rti-shared/shared_data/post_qc/phs000315_whi_garnet/genotype/array/observed/0001/c2/\n",
    "\n",
    "# Set up config file for QC pipeline (use vim to modify)\n",
    "cd ~/rti-shared/shared_data/post_qc/phs000315_whi_garnet/genotype/array/observed/0001/c2/wf_input\n",
    "\n",
    "# Zip biocloud_gwas_workflows repo\n",
    "cd ~/\n",
    "git clone --recursive https://github.com/RTIInternational/biocloud_gwas_workflows\n",
    "cd biocloud_gwas_workflows/\n",
    "git rev-parse HEAD > ~/rti-shared/shared_data/post_qc/phs000315_whi_garnet/genotype/array/observed/0001/c2/wf_input/git_hash.txt\n",
    "cd ~/\n",
    "zip \\\n",
    "    --exclude=*/var/* \\\n",
    "    --exclude=*.git/* \\\n",
    "    --exclude=*/test/* \\\n",
    "    --exclude=*/.idea/* \\\n",
    "    -r ~/rti-shared/shared_data/post_qc/phs000315_whi_garnet/genotype/array/observed/0001/c2/wf_input/biocloud_gwas_workflows.zip \\\n",
    "    biocloud_gwas_workflows/\n",
    "\n",
    "\n",
    "# submit job\n",
    "# Open session in terminal 1\n",
    "ssh -i ~/.ssh/cromwell.pem -L localhost:8000:localhost:8000 ec2-user@54.208.171.34\n",
    "\n",
    "cd ~/rti-shared/shared_data/post_qc/phs000315_whi_garnet/genotype/array/observed/0001/c2/wf_output/\n",
    "# Submit job in terminal 2\n",
    "curl -X POST \"http://localhost:8000/api/workflows/v1\" -H \"accept: application/json\" \\\n",
    "    -F \"workflowSource=@/home/ec2-user/biocloud_gwas_workflows/genotype_array_qc/genotype_array_qc_wf.wdl\" \\\n",
    "    -F \"workflowInputs=@/home/ec2-user/bioinformatics/methods/rti-shared/shared_data/post_qc/phs000315_whi_garnet/genotype/array/observed/0001/c2/whi_garnet_c1_genotype_qc.json\" \\\n",
    "    -F \"workflowDependencies=@/home/ec2-user/rti-shared/shared_data/post_qc/phs000315_whi_garnet/genotype/array/observed/0001/c2/wf_input/biocloud_gwas_workflows.zip\" \\\n",
    "    -F \"workflowOptions=@/home/ec2-user/bin/cromwell/gpp_fellows_fund_charge_code.json\" >> job_id.txt\n",
    "\n",
    "job=\n",
    "\n",
    "# check job status in terminal 2\n",
    "curl -X GET \"http://localhost:8000/api/workflows/v1/$job/status\"   \n"
   ]
  },
  {
   "cell_type": "code",
   "execution_count": null,
   "id": "68ff3646-8be1-4c01-ac91-cf9651a7583d",
   "metadata": {},
   "outputs": [],
   "source": []
  },
  {
   "cell_type": "code",
   "execution_count": null,
   "id": "455fe8af-ad80-4b73-929c-293b17e4ff1e",
   "metadata": {},
   "outputs": [],
   "source": []
  },
  {
   "cell_type": "code",
   "execution_count": null,
   "id": "ad5d077b-ff9b-43f8-8add-cb6dc926832c",
   "metadata": {},
   "outputs": [],
   "source": []
  }
 ],
 "metadata": {
  "kernelspec": {
   "display_name": "R",
   "language": "R",
   "name": "ir"
  },
  "language_info": {
   "codemirror_mode": "r",
   "file_extension": ".r",
   "mimetype": "text/x-r-source",
   "name": "R",
   "pygments_lexer": "r",
   "version": "4.0.3"
  }
 },
 "nbformat": 4,
 "nbformat_minor": 5
}
