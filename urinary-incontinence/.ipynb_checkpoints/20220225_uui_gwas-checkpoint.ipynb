{
 "cells": [
  {
   "cell_type": "markdown",
   "id": "8adc5f0d-e3aa-465f-ad2e-caaadd54932c",
   "metadata": {},
   "source": [
    "# WHI GARNET: UUI GWAS\n",
    "**Data locations**: `s3://rti-common/dbGaP/phs000315_whi_garnet/`<br>\n",
    "**charge code**: 0160470.000.044 (Grier Page Fellows Fund)<br>\n",
    "**dbGaP**: [WHI GARNET](https://www.ncbi.nlm.nih.gov/projects/gap/cgi-bin/study.cgi?study_id=phs000315.v8.p3&phv=173865&phd=&pha=&pht=2982&phvf=&phdf=&phaf=&phtf=&dssp=1&consent=&temp=1)\n",
    "\n",
    "Some collaborators reached out to Megan Carnes to ask if she wanted to include a previously published Urgency Urinary Incontinence (UUI) GWAS in a big analysis they are doing. All they need are the MAGMA results. Unfortunately, we cannot find the results of the previously published GWAS -- the analyses were performed on the old MIDAS computing platform  at RTI International, but it seems they were deleted. So, we need to rerun these analyses. Basically, just replicate the results from the 2015 paper, [Genetic Contributions to Urgency Urinary Incontinence in Women](https://www.ncbi.nlm.nih.gov/pmc/articles/PMC4439377/), then run MAGMA, and finally pass on these results to the collaborators.\n",
    "\n",
    "\n"
   ]
  },
  {
   "cell_type": "markdown",
   "id": "6fcfc780-c62c-4581-89bb-68d309eb9818",
   "metadata": {},
   "source": [
    "**Genotype data**\n",
    "\n",
    "For now we are going to focus on the observed genotype data because we need to process the observed genotypes in order to perform the PCA to incorporate the genotype PCs as covariates in the GWAS model. These were imputed with an old reference panel (1KG phase1). "
   ]
  },
  {
   "cell_type": "markdown",
   "id": "96f54307-5173-4b56-8201-3417a04663c9",
   "metadata": {
    "tags": [],
    "toc-hr-collapsed": true
   },
   "source": [
    "# Phenotype preprocessing"
   ]
  },
  {
   "cell_type": "markdown",
   "id": "68127c79-bdd4-406f-a775-aceea396d82a",
   "metadata": {},
   "source": [
    "## Create a map file\n",
    "We only want the GARNET subset (phs000315) of the data. So we will create a mapping file and filter the phenotype files down with it."
   ]
  },
  {
   "cell_type": "code",
   "execution_count": null,
   "id": "9ef43c22-e651-440d-b197-cb932352ad5d",
   "metadata": {},
   "outputs": [],
   "source": [
    "cd PhenotypeFiles/dbGaP-30943/\n",
    "mkdir processing/\n",
    "\n",
    "tail -n +11 phs000200.v12.pht001032.v9.p3.WHI_Sample.MULTI.txt  | cut -f1-5,8 > processing/all_subjectid.txt\n",
    "wc -l processing/all_subjectid.txt # 118701\n",
    "\n",
    "cd processing/\n",
    "\n",
    "head -1 all_subjectid.txt | cut -f4-5 > phs000315_subject_sampleid_map.txt\n",
    "awk -F \"\\t\" '$6==\"phs000315.v8.p3\" {print $4,$5}' OFS=\"\\t\" all_subjectid.txt  >> \\\n",
    "    phs000315_subject_sampleid_map.txt\n",
    "\n",
    "# total number of samples in this map file\n",
    "wc -l phs000315_subject_sampleid_map.txt #4984 \n",
    "\n",
    "# number of positive controls in the map file\n",
    "awk 'control = substr($1, 0, 2)  {if (control == \"NA\" ){print control}}' \\\n",
    "    phs000315_subject_sampleid_map.txt | wc -l  # 54\n",
    "# 4,929 + 54 = 4,983 (plus a header making it 4,984)\n",
    "\n",
    "# remove positive controls\n",
    "awk 'control = substr($1, 0, 2)  {if (control != \"NA\" ){print $0}}' \\\n",
    "    phs000315_subject_sampleid_map.txt > phs000315_subject_sampleid_map_no_positive_controls.txt\n",
    "\n",
    "\n",
    "##  example map. notice that SAMPLE_ID matches second column of genotype FAM file. \n",
    "head -1 phs000315_subject_sampleid_map.txt ;\\\n",
    "    grep 122129 phs000315_subject_sampleid_map_no_positive_controls.txt\n",
    "# SUBJID  SAMPLE_ID\n",
    "# 753703 122129\n",
    "zcat gARNET_WHI_TOP_sample_level_c2.fam.gz  | head -1 # genotype FAM file\n",
    "# 111106895 122129 0 0 0 -9\n",
    "\n"
   ]
  },
  {
   "cell_type": "markdown",
   "id": "66182286-c06d-4c15-b3c6-4af2c2dab8d3",
   "metadata": {},
   "source": [
    "## Investigate duplicates\n",
    "It appears that the following have duplicate subjects:\n",
    "* phs000200.v12.pht001005.v6.p3.c1.f37_rel1.HMB-IRB.txt # incont+frqincon+cghincon c1\n",
    "* phs000200.v12.pht001005.v6.p3.c2.f37_rel1.HMB-IRB-NPU.txt # incont+frqincon+cghincon c2\n",
    "* phs000200.v12.pht001019.v6.p3.c1.f80_rel1.HMB-IRB.txt # bmix+bmicx c1\n",
    "* phs000200.v12.pht001019.v6.p3.c2.f80_rel1.HMB-IRB-NPU.txt # bmix+bmicx c2\n",
    "\n",
    "<br>\n",
    "\n",
    "It was decided to keep the duplicate subjects and decide what to do with them later."
   ]
  },
  {
   "cell_type": "code",
   "execution_count": null,
   "id": "d7856c88-6801-44e1-9dd8-2f4adb8f5734",
   "metadata": {},
   "outputs": [],
   "source": [
    "# see if any of the phenotype files contain duplicates (multiple samples from same subject)\n",
    "for file in phs000*t; do\n",
    "    echo $file\n",
    "    tail -n +12  $file  | cut -f2 | wc -l # col2 is SUBJID\n",
    "    tail -n +12  $file  | cut -f2  | sort -u | wc -l \n",
    "done\n",
    "\n",
    "phs000200.v12.pht000998.v6.p3.c1.f2_rel1.HMB-IRB.txt # age+race c1\n",
    "  117675\n",
    "  117675\n",
    "phs000200.v12.pht000998.v6.p3.c2.f2_rel1.HMB-IRB-NPU.txt # age+race c1\n",
    "   25538\n",
    "   25538\n",
    "phs000200.v12.pht001000.v7.p3.c1.f31_rel1.HMB-IRB.txt # parity c1\n",
    "  117609\n",
    "  117609\n",
    "phs000200.v12.pht001000.v7.p3.c2.f31_rel1.HMB-IRB-NPU.txt # parity c2 \n",
    "   25518\n",
    "   25518\n",
    "phs000200.v12.pht001005.v6.p3.c1.f37_rel1.HMB-IRB.txt # incont+frqincon+cghincon c1\n",
    "  168638\n",
    "  117671\n",
    "phs000200.v12.pht001005.v6.p3.c2.f37_rel1.HMB-IRB-NPU.txt # incont+frqincon+cghincon c2\n",
    "   26050\n",
    "   25533\n",
    "phs000200.v12.pht001019.v6.p3.c1.f80_rel1.HMB-IRB.txt # bmix+bmicx c1\n",
    "  551936\n",
    "  117675\n",
    "phs000200.v12.pht001019.v6.p3.c2.f80_rel1.HMB-IRB-NPU.txt # bmix+bmicx c2\n",
    "   63629\n",
    "   25536\n",
    "phs000200.v12.pht001032.v9.p3.WHI_Sample.MULTI.txt # study (all consent groups and substudies)\n",
    "  118700\n",
    "   59416\n",
    "phs000200.v12.pht001514.v6.p3.c1.f134_rel1.HMB-IRB.txt # parkinsons+diabetes c1\n",
    "  109964\n",
    "  109964\n",
    "phs000200.v12.pht001514.v6.p3.c2.f134_rel1.HMB-IRB-NPU.txt # parkinsons+diabetes c2\n",
    "     621\n",
    "     621"
   ]
  },
  {
   "cell_type": "markdown",
   "id": "ea8a00b8-12ae-451c-bd96-9d04f4473e8d",
   "metadata": {},
   "source": [
    "## Filter and merge phenotype files\n",
    "\n",
    "| Data File Name* | Variable to keep | Variable Description                        | Note                                                     |\n",
    "|-----------------|------------------|---------------------------------------------|----------------------------------------------------------|\n",
    "| pht001032       | STUDY            | DbGaP top-level study or substudy accession | Filter to Value = E (GARNET STUDY phs000315)             |\n",
    "| All             | SUBJID           | WHI dbGaP Subject ID                        | Used for file merges and should match genotype files     |\n",
    "| pht000998       | AGE              | Age at screening                            |                                                          |\n",
    "| pht001000       | PARITY           | Number of Term Pregnancies                  |                                                          |\n",
    "| pht001019       | BMIX             | BMI                                         |                                                          |\n",
    "| pht001019       | BMICX            | BMI Categorical                             |                                                          |\n",
    "| pht000998       | RACE             | Racial or ethnic group                      |                                                          |\n",
    "| pht001514       | F134PARKINS      | Parkinsons disease ever                     | We will drop where = 1 (yes). Expect low number (20-ish) |\n",
    "| pht001005       | INCONT           | Ever leaked urine                           | Used to define case/control status                       |\n",
    "| pht001005       | TOINCON          | Leak when can't get to toilet               | Used to define cases stats                               |\n",
    "| pht001005       | FRQINCON         | How often leaked urine                      | Used to define case status                               |\n",
    "| pht001005       | LEAKAMT          | How much urine do you lose                  | Used to define case status                               |\n",
    "| pht000998       | DIAB             | Diabetes ever                               |                                                          |\n",
    "\n",
    "**Cases (pht001005)**\n",
    "* INCONT (ever leak) = Yes (1)\n",
    "* TOINCON \n",
    "* FRQINCON (frequency) = 3,4, or 5 -> more than once a month\n",
    "* LEAKAMT\n",
    "\n",
    "**Controls**\n",
    "* INCONT (ever leak) = Yes (0)\n",
    "\n",
    "<br>\n",
    "\n",
    "We will use the [Plink](https://www.cog-genomics.org/plink/1.9/formats#fam) standard for coding case/controls.<br>\n",
    "Phenotype value ('1' = control, '2' = case, '-9'/'0'/non-numeric = missing data if case/control)\n",
    "\n",
    "\n"
   ]
  },
  {
   "cell_type": "code",
   "execution_count": 226,
   "id": "f52dd7fd-cfed-4a1c-98b4-b39c9d58d515",
   "metadata": {},
   "outputs": [
    {
     "data": {
      "text/html": [
       "<style>\n",
       ".list-inline {list-style: none; margin:0; padding: 0}\n",
       ".list-inline>li {display: inline-block}\n",
       ".list-inline>li:not(:last-child)::after {content: \"\\00b7\"; padding: 0 .5ex}\n",
       "</style>\n",
       "<ol class=list-inline><li>'phs000200.v12.pht000998.v6.p3.c1.f2_rel1.HMB-IRB.txt'</li><li>'phs000200.v12.pht000998.v6.p3.c2.f2_rel1.HMB-IRB-NPU.txt'</li><li>'phs000200.v12.pht000998.v6.p3.f2_rel1.var_report.xml'</li><li>'phs000200.v12.pht001000.v7.p3.c1.f31_rel1.HMB-IRB.txt'</li><li>'phs000200.v12.pht001000.v7.p3.c2.f31_rel1.HMB-IRB-NPU.txt'</li><li>'phs000200.v12.pht001000.v7.p3.f31_rel1.var_report.xml'</li><li>'phs000200.v12.pht001005.v6.p3.c1.f37_rel1.HMB-IRB.txt'</li><li>'phs000200.v12.pht001005.v6.p3.c2.f37_rel1.HMB-IRB-NPU.txt'</li><li>'phs000200.v12.pht001005.v6.p3.f37_rel1.var_report.xml'</li><li>'phs000200.v12.pht001019.v6.p3.c1.f80_rel1.HMB-IRB.txt'</li><li>'phs000200.v12.pht001019.v6.p3.c2.f80_rel1.HMB-IRB-NPU.txt'</li><li>'phs000200.v12.pht001019.v6.p3.f80_rel1.var_report.xml'</li><li>'phs000200.v12.pht001032.v9.p3.WHI_Sample.MULTI.txt'</li><li>'phs000200.v12.pht001032.v9.p3.WHI_Sample.var_report.xml'</li><li>'phs000200.v12.pht001514.v6.p3.c1.f134_rel1.HMB-IRB.txt'</li><li>'phs000200.v12.pht001514.v6.p3.c2.f134_rel1.HMB-IRB-NPU.txt'</li><li>'phs000200.v12.pht001514.v6.p3.f134_rel1.var_report.xml'</li><li>'processing'</li><li>'sample_level_unfiltered_PLINK_set'</li></ol>\n"
      ],
      "text/latex": [
       "\\begin{enumerate*}\n",
       "\\item 'phs000200.v12.pht000998.v6.p3.c1.f2\\_rel1.HMB-IRB.txt'\n",
       "\\item 'phs000200.v12.pht000998.v6.p3.c2.f2\\_rel1.HMB-IRB-NPU.txt'\n",
       "\\item 'phs000200.v12.pht000998.v6.p3.f2\\_rel1.var\\_report.xml'\n",
       "\\item 'phs000200.v12.pht001000.v7.p3.c1.f31\\_rel1.HMB-IRB.txt'\n",
       "\\item 'phs000200.v12.pht001000.v7.p3.c2.f31\\_rel1.HMB-IRB-NPU.txt'\n",
       "\\item 'phs000200.v12.pht001000.v7.p3.f31\\_rel1.var\\_report.xml'\n",
       "\\item 'phs000200.v12.pht001005.v6.p3.c1.f37\\_rel1.HMB-IRB.txt'\n",
       "\\item 'phs000200.v12.pht001005.v6.p3.c2.f37\\_rel1.HMB-IRB-NPU.txt'\n",
       "\\item 'phs000200.v12.pht001005.v6.p3.f37\\_rel1.var\\_report.xml'\n",
       "\\item 'phs000200.v12.pht001019.v6.p3.c1.f80\\_rel1.HMB-IRB.txt'\n",
       "\\item 'phs000200.v12.pht001019.v6.p3.c2.f80\\_rel1.HMB-IRB-NPU.txt'\n",
       "\\item 'phs000200.v12.pht001019.v6.p3.f80\\_rel1.var\\_report.xml'\n",
       "\\item 'phs000200.v12.pht001032.v9.p3.WHI\\_Sample.MULTI.txt'\n",
       "\\item 'phs000200.v12.pht001032.v9.p3.WHI\\_Sample.var\\_report.xml'\n",
       "\\item 'phs000200.v12.pht001514.v6.p3.c1.f134\\_rel1.HMB-IRB.txt'\n",
       "\\item 'phs000200.v12.pht001514.v6.p3.c2.f134\\_rel1.HMB-IRB-NPU.txt'\n",
       "\\item 'phs000200.v12.pht001514.v6.p3.f134\\_rel1.var\\_report.xml'\n",
       "\\item 'processing'\n",
       "\\item 'sample\\_level\\_unfiltered\\_PLINK\\_set'\n",
       "\\end{enumerate*}\n"
      ],
      "text/markdown": [
       "1. 'phs000200.v12.pht000998.v6.p3.c1.f2_rel1.HMB-IRB.txt'\n",
       "2. 'phs000200.v12.pht000998.v6.p3.c2.f2_rel1.HMB-IRB-NPU.txt'\n",
       "3. 'phs000200.v12.pht000998.v6.p3.f2_rel1.var_report.xml'\n",
       "4. 'phs000200.v12.pht001000.v7.p3.c1.f31_rel1.HMB-IRB.txt'\n",
       "5. 'phs000200.v12.pht001000.v7.p3.c2.f31_rel1.HMB-IRB-NPU.txt'\n",
       "6. 'phs000200.v12.pht001000.v7.p3.f31_rel1.var_report.xml'\n",
       "7. 'phs000200.v12.pht001005.v6.p3.c1.f37_rel1.HMB-IRB.txt'\n",
       "8. 'phs000200.v12.pht001005.v6.p3.c2.f37_rel1.HMB-IRB-NPU.txt'\n",
       "9. 'phs000200.v12.pht001005.v6.p3.f37_rel1.var_report.xml'\n",
       "10. 'phs000200.v12.pht001019.v6.p3.c1.f80_rel1.HMB-IRB.txt'\n",
       "11. 'phs000200.v12.pht001019.v6.p3.c2.f80_rel1.HMB-IRB-NPU.txt'\n",
       "12. 'phs000200.v12.pht001019.v6.p3.f80_rel1.var_report.xml'\n",
       "13. 'phs000200.v12.pht001032.v9.p3.WHI_Sample.MULTI.txt'\n",
       "14. 'phs000200.v12.pht001032.v9.p3.WHI_Sample.var_report.xml'\n",
       "15. 'phs000200.v12.pht001514.v6.p3.c1.f134_rel1.HMB-IRB.txt'\n",
       "16. 'phs000200.v12.pht001514.v6.p3.c2.f134_rel1.HMB-IRB-NPU.txt'\n",
       "17. 'phs000200.v12.pht001514.v6.p3.f134_rel1.var_report.xml'\n",
       "18. 'processing'\n",
       "19. 'sample_level_unfiltered_PLINK_set'\n",
       "\n",
       "\n"
      ],
      "text/plain": [
       " [1] \"phs000200.v12.pht000998.v6.p3.c1.f2_rel1.HMB-IRB.txt\"      \n",
       " [2] \"phs000200.v12.pht000998.v6.p3.c2.f2_rel1.HMB-IRB-NPU.txt\"  \n",
       " [3] \"phs000200.v12.pht000998.v6.p3.f2_rel1.var_report.xml\"      \n",
       " [4] \"phs000200.v12.pht001000.v7.p3.c1.f31_rel1.HMB-IRB.txt\"     \n",
       " [5] \"phs000200.v12.pht001000.v7.p3.c2.f31_rel1.HMB-IRB-NPU.txt\" \n",
       " [6] \"phs000200.v12.pht001000.v7.p3.f31_rel1.var_report.xml\"     \n",
       " [7] \"phs000200.v12.pht001005.v6.p3.c1.f37_rel1.HMB-IRB.txt\"     \n",
       " [8] \"phs000200.v12.pht001005.v6.p3.c2.f37_rel1.HMB-IRB-NPU.txt\" \n",
       " [9] \"phs000200.v12.pht001005.v6.p3.f37_rel1.var_report.xml\"     \n",
       "[10] \"phs000200.v12.pht001019.v6.p3.c1.f80_rel1.HMB-IRB.txt\"     \n",
       "[11] \"phs000200.v12.pht001019.v6.p3.c2.f80_rel1.HMB-IRB-NPU.txt\" \n",
       "[12] \"phs000200.v12.pht001019.v6.p3.f80_rel1.var_report.xml\"     \n",
       "[13] \"phs000200.v12.pht001032.v9.p3.WHI_Sample.MULTI.txt\"        \n",
       "[14] \"phs000200.v12.pht001032.v9.p3.WHI_Sample.var_report.xml\"   \n",
       "[15] \"phs000200.v12.pht001514.v6.p3.c1.f134_rel1.HMB-IRB.txt\"    \n",
       "[16] \"phs000200.v12.pht001514.v6.p3.c2.f134_rel1.HMB-IRB-NPU.txt\"\n",
       "[17] \"phs000200.v12.pht001514.v6.p3.f134_rel1.var_report.xml\"    \n",
       "[18] \"processing\"                                                \n",
       "[19] \"sample_level_unfiltered_PLINK_set\"                         "
      ]
     },
     "metadata": {},
     "output_type": "display_data"
    }
   ],
   "source": [
    "setwd(\"~/projects/uui/PhenotypeFiles/dbGaP-30943/\")\n",
    "list.files()"
   ]
  },
  {
   "cell_type": "code",
   "execution_count": 227,
   "id": "8333d81d-fb3e-49fc-a589-275b421f8b9b",
   "metadata": {},
   "outputs": [
    {
     "data": {
      "text/html": [
       "<table class=\"dataframe\">\n",
       "<caption>A data.frame: 6 × 2</caption>\n",
       "<thead>\n",
       "\t<tr><th></th><th scope=col>SUBJID</th><th scope=col>SAMPLE_ID</th></tr>\n",
       "\t<tr><th></th><th scope=col>&lt;int&gt;</th><th scope=col>&lt;int&gt;</th></tr>\n",
       "</thead>\n",
       "<tbody>\n",
       "\t<tr><th scope=row>1</th><td>729534</td><td>100034</td></tr>\n",
       "\t<tr><th scope=row>2</th><td>716669</td><td>100046</td></tr>\n",
       "\t<tr><th scope=row>3</th><td>719273</td><td>100134</td></tr>\n",
       "\t<tr><th scope=row>4</th><td>857580</td><td>100146</td></tr>\n",
       "\t<tr><th scope=row>5</th><td>777019</td><td>100155</td></tr>\n",
       "\t<tr><th scope=row>6</th><td>725283</td><td>100210</td></tr>\n",
       "</tbody>\n",
       "</table>\n"
      ],
      "text/latex": [
       "A data.frame: 6 × 2\n",
       "\\begin{tabular}{r|ll}\n",
       "  & SUBJID & SAMPLE\\_ID\\\\\n",
       "  & <int> & <int>\\\\\n",
       "\\hline\n",
       "\t1 & 729534 & 100034\\\\\n",
       "\t2 & 716669 & 100046\\\\\n",
       "\t3 & 719273 & 100134\\\\\n",
       "\t4 & 857580 & 100146\\\\\n",
       "\t5 & 777019 & 100155\\\\\n",
       "\t6 & 725283 & 100210\\\\\n",
       "\\end{tabular}\n"
      ],
      "text/markdown": [
       "\n",
       "A data.frame: 6 × 2\n",
       "\n",
       "| <!--/--> | SUBJID &lt;int&gt; | SAMPLE_ID &lt;int&gt; |\n",
       "|---|---|---|\n",
       "| 1 | 729534 | 100034 |\n",
       "| 2 | 716669 | 100046 |\n",
       "| 3 | 719273 | 100134 |\n",
       "| 4 | 857580 | 100146 |\n",
       "| 5 | 777019 | 100155 |\n",
       "| 6 | 725283 | 100210 |\n",
       "\n"
      ],
      "text/plain": [
       "  SUBJID SAMPLE_ID\n",
       "1 729534 100034   \n",
       "2 716669 100046   \n",
       "3 719273 100134   \n",
       "4 857580 100146   \n",
       "5 777019 100155   \n",
       "6 725283 100210   "
      ]
     },
     "metadata": {},
     "output_type": "display_data"
    },
    {
     "data": {
      "text/html": [
       "4929"
      ],
      "text/latex": [
       "4929"
      ],
      "text/markdown": [
       "4929"
      ],
      "text/plain": [
       "[1] 4929"
      ]
     },
     "metadata": {},
     "output_type": "display_data"
    }
   ],
   "source": [
    "# load all data\n",
    "subject_sampleids <- read.delim(\"processing/phs000315_subject_sampleid_map_no_positive_controls.txt\",\n",
    "                              header = T, \n",
    "                              sep = \"\\t\")\n",
    "\n",
    "head(subject_sampleids) \n",
    "length(subject_sampleids$SUBJID)\n",
    "\n",
    "\n",
    "age_race_c1 <- read.delim(\"phs000200.v12.pht000998.v6.p3.c1.f2_rel1.HMB-IRB.txt\",\n",
    "                              header = T, \n",
    "                              sep = \"\\t\",\n",
    "                              skip = 10)\n",
    "age_race_c2 <- read.delim(\"phs000200.v12.pht000998.v6.p3.c2.f2_rel1.HMB-IRB-NPU.txt\",\n",
    "                              header = T, \n",
    "                              sep = \"\\t\",\n",
    "                              skip = 10)\n",
    "parity_c1 <- read.delim(\"phs000200.v12.pht001000.v7.p3.c1.f31_rel1.HMB-IRB.txt\",\n",
    "                              header = T, \n",
    "                              sep = \"\\t\",\n",
    "                              skip = 10)\n",
    "parity_c2 <- read.delim(\"phs000200.v12.pht001000.v7.p3.c2.f31_rel1.HMB-IRB-NPU.txt\",\n",
    "                              header = T, \n",
    "                              sep = \"\\t\",\n",
    "                              skip = 10)\n",
    "\n",
    "bmi_c1 <- read.delim(\"phs000200.v12.pht001019.v6.p3.c1.f80_rel1.HMB-IRB.txt\",\n",
    "                              header = T, \n",
    "                              sep = \"\\t\",\n",
    "                              skip = 10)\n",
    "\n",
    "bmi_c2 <- read.delim(\"phs000200.v12.pht001019.v6.p3.c2.f80_rel1.HMB-IRB-NPU.txt\",\n",
    "                              header = T, \n",
    "                              sep = \"\\t\",\n",
    "                              skip = 10)\n",
    "\n",
    "parkinsons_c1 <- read.delim(\"phs000200.v12.pht001514.v6.p3.c1.f134_rel1.HMB-IRB.txt\",\n",
    "                              header = T, \n",
    "                              sep = \"\\t\",\n",
    "                              skip = 10)\n",
    "\n",
    "parkinsons_c2 <- read.delim(\"phs000200.v12.pht001514.v6.p3.c2.f134_rel1.HMB-IRB-NPU.txt\",\n",
    "                              header = T, \n",
    "                              sep = \"\\t\",\n",
    "                              skip = 10)\n",
    "\n",
    "diabetes_c1 <- read.delim(\"phs000200.v12.pht000998.v6.p3.c1.f2_rel1.HMB-IRB.txt\",\n",
    "                              header = T, \n",
    "                              sep = \"\\t\",\n",
    "                              skip = 10)\n",
    "\n",
    "diabetes_c2 <- read.delim(\"phs000200.v12.pht000998.v6.p3.c2.f2_rel1.HMB-IRB-NPU.txt\",,\n",
    "                              header = T, \n",
    "                              sep = \"\\t\",\n",
    "                              skip = 10)\n",
    "\n",
    "case_control_c1 <- read.delim(\"phs000200.v12.pht001005.v6.p3.c1.f37_rel1.HMB-IRB.txt\",\n",
    "                              header = T, \n",
    "                              sep = \"\\t\",\n",
    "                              skip = 10)\n",
    "\n",
    "case_control_c2 <- read.delim(\"phs000200.v12.pht001005.v6.p3.c2.f37_rel1.HMB-IRB-NPU.txt\",\n",
    "                              header = T, \n",
    "                              sep = \"\\t\",\n",
    "                              skip = 10)"
   ]
  },
  {
   "cell_type": "markdown",
   "id": "f3679079-f395-4906-a53f-676fec627185",
   "metadata": {},
   "source": [
    "## AGE & RACE"
   ]
  },
  {
   "cell_type": "code",
   "execution_count": 219,
   "id": "413bab74-6499-4c17-9c32-ca2572486252",
   "metadata": {},
   "outputs": [
    {
     "data": {
      "text/html": [
       "117675"
      ],
      "text/latex": [
       "117675"
      ],
      "text/markdown": [
       "117675"
      ],
      "text/plain": [
       "[1] 117675"
      ]
     },
     "metadata": {},
     "output_type": "display_data"
    },
    {
     "data": {
      "text/html": [
       "25538"
      ],
      "text/latex": [
       "25538"
      ],
      "text/markdown": [
       "25538"
      ],
      "text/plain": [
       "[1] 25538"
      ]
     },
     "metadata": {},
     "output_type": "display_data"
    },
    {
     "data": {
      "text/html": [
       "<table class=\"dataframe\">\n",
       "<caption>A data.frame: 6 × 72</caption>\n",
       "<thead>\n",
       "\t<tr><th></th><th scope=col>dbGaP_Subject_ID</th><th scope=col>SUBJID</th><th scope=col>F2DAYS</th><th scope=col>AGE</th><th scope=col>AREA3Y</th><th scope=col>OTHSTDY</th><th scope=col>EXSTDY</th><th scope=col>BRCA_F2</th><th scope=col>COLON_F2</th><th scope=col>COLON10Y</th><th scope=col>⋯</th><th scope=col>AVAILDM</th><th scope=col>INTHRT</th><th scope=col>AVAILHRT</th><th scope=col>TALKDOC</th><th scope=col>HRTINFDR</th><th scope=col>HELPFILL</th><th scope=col>AGER</th><th scope=col>HORMSTAT</th><th scope=col>AGEHYST</th><th scope=col>DIABTRT</th></tr>\n",
       "\t<tr><th></th><th scope=col>&lt;int&gt;</th><th scope=col>&lt;int&gt;</th><th scope=col>&lt;int&gt;</th><th scope=col>&lt;int&gt;</th><th scope=col>&lt;int&gt;</th><th scope=col>&lt;int&gt;</th><th scope=col>&lt;int&gt;</th><th scope=col>&lt;int&gt;</th><th scope=col>&lt;int&gt;</th><th scope=col>&lt;int&gt;</th><th scope=col>⋯</th><th scope=col>&lt;int&gt;</th><th scope=col>&lt;int&gt;</th><th scope=col>&lt;int&gt;</th><th scope=col>&lt;int&gt;</th><th scope=col>&lt;int&gt;</th><th scope=col>&lt;int&gt;</th><th scope=col>&lt;int&gt;</th><th scope=col>&lt;int&gt;</th><th scope=col>&lt;int&gt;</th><th scope=col>&lt;int&gt;</th></tr>\n",
       "</thead>\n",
       "<tbody>\n",
       "\t<tr><th scope=row>1</th><td>220079</td><td>700001</td><td> -41</td><td>74</td><td>1</td><td>0</td><td>NA</td><td>0</td><td>0</td><td>NA</td><td>⋯</td><td>NA</td><td>0</td><td>NA</td><td>NA</td><td>NA</td><td>0</td><td>3</td><td>1</td><td> 2</td><td>0</td></tr>\n",
       "\t<tr><th scope=row>2</th><td>221745</td><td>700003</td><td> -55</td><td>59</td><td>1</td><td>0</td><td>NA</td><td>0</td><td>0</td><td>NA</td><td>⋯</td><td> 1</td><td>0</td><td>NA</td><td>NA</td><td>NA</td><td>0</td><td>1</td><td>1</td><td> 2</td><td>0</td></tr>\n",
       "\t<tr><th scope=row>3</th><td>215143</td><td>700004</td><td>  -8</td><td>56</td><td>1</td><td>0</td><td>NA</td><td>0</td><td>0</td><td>NA</td><td>⋯</td><td> 1</td><td>0</td><td>NA</td><td>NA</td><td>NA</td><td>0</td><td>1</td><td>1</td><td>NA</td><td>0</td></tr>\n",
       "\t<tr><th scope=row>4</th><td>214904</td><td>700005</td><td>-241</td><td>64</td><td>1</td><td>0</td><td>NA</td><td>0</td><td>0</td><td>NA</td><td>⋯</td><td>NA</td><td>1</td><td> 1</td><td> 2</td><td> 1</td><td>0</td><td>2</td><td>1</td><td> 2</td><td>0</td></tr>\n",
       "\t<tr><th scope=row>5</th><td>220352</td><td>700006</td><td> -44</td><td>58</td><td>1</td><td>0</td><td>NA</td><td>0</td><td>0</td><td>NA</td><td>⋯</td><td>NA</td><td>0</td><td>NA</td><td>NA</td><td>NA</td><td>0</td><td>1</td><td>0</td><td> 1</td><td>0</td></tr>\n",
       "\t<tr><th scope=row>6</th><td>216549</td><td>700007</td><td> -82</td><td>74</td><td>1</td><td>0</td><td>NA</td><td>0</td><td>0</td><td>NA</td><td>⋯</td><td> 1</td><td>0</td><td>NA</td><td>NA</td><td>NA</td><td>0</td><td>3</td><td>2</td><td> 2</td><td>0</td></tr>\n",
       "</tbody>\n",
       "</table>\n"
      ],
      "text/latex": [
       "A data.frame: 6 × 72\n",
       "\\begin{tabular}{r|lllllllllllllllllllll}\n",
       "  & dbGaP\\_Subject\\_ID & SUBJID & F2DAYS & AGE & AREA3Y & OTHSTDY & EXSTDY & BRCA\\_F2 & COLON\\_F2 & COLON10Y & ⋯ & AVAILDM & INTHRT & AVAILHRT & TALKDOC & HRTINFDR & HELPFILL & AGER & HORMSTAT & AGEHYST & DIABTRT\\\\\n",
       "  & <int> & <int> & <int> & <int> & <int> & <int> & <int> & <int> & <int> & <int> & ⋯ & <int> & <int> & <int> & <int> & <int> & <int> & <int> & <int> & <int> & <int>\\\\\n",
       "\\hline\n",
       "\t1 & 220079 & 700001 &  -41 & 74 & 1 & 0 & NA & 0 & 0 & NA & ⋯ & NA & 0 & NA & NA & NA & 0 & 3 & 1 &  2 & 0\\\\\n",
       "\t2 & 221745 & 700003 &  -55 & 59 & 1 & 0 & NA & 0 & 0 & NA & ⋯ &  1 & 0 & NA & NA & NA & 0 & 1 & 1 &  2 & 0\\\\\n",
       "\t3 & 215143 & 700004 &   -8 & 56 & 1 & 0 & NA & 0 & 0 & NA & ⋯ &  1 & 0 & NA & NA & NA & 0 & 1 & 1 & NA & 0\\\\\n",
       "\t4 & 214904 & 700005 & -241 & 64 & 1 & 0 & NA & 0 & 0 & NA & ⋯ & NA & 1 &  1 &  2 &  1 & 0 & 2 & 1 &  2 & 0\\\\\n",
       "\t5 & 220352 & 700006 &  -44 & 58 & 1 & 0 & NA & 0 & 0 & NA & ⋯ & NA & 0 & NA & NA & NA & 0 & 1 & 0 &  1 & 0\\\\\n",
       "\t6 & 216549 & 700007 &  -82 & 74 & 1 & 0 & NA & 0 & 0 & NA & ⋯ &  1 & 0 & NA & NA & NA & 0 & 3 & 2 &  2 & 0\\\\\n",
       "\\end{tabular}\n"
      ],
      "text/markdown": [
       "\n",
       "A data.frame: 6 × 72\n",
       "\n",
       "| <!--/--> | dbGaP_Subject_ID &lt;int&gt; | SUBJID &lt;int&gt; | F2DAYS &lt;int&gt; | AGE &lt;int&gt; | AREA3Y &lt;int&gt; | OTHSTDY &lt;int&gt; | EXSTDY &lt;int&gt; | BRCA_F2 &lt;int&gt; | COLON_F2 &lt;int&gt; | COLON10Y &lt;int&gt; | ⋯ ⋯ | AVAILDM &lt;int&gt; | INTHRT &lt;int&gt; | AVAILHRT &lt;int&gt; | TALKDOC &lt;int&gt; | HRTINFDR &lt;int&gt; | HELPFILL &lt;int&gt; | AGER &lt;int&gt; | HORMSTAT &lt;int&gt; | AGEHYST &lt;int&gt; | DIABTRT &lt;int&gt; |\n",
       "|---|---|---|---|---|---|---|---|---|---|---|---|---|---|---|---|---|---|---|---|---|---|\n",
       "| 1 | 220079 | 700001 |  -41 | 74 | 1 | 0 | NA | 0 | 0 | NA | ⋯ | NA | 0 | NA | NA | NA | 0 | 3 | 1 |  2 | 0 |\n",
       "| 2 | 221745 | 700003 |  -55 | 59 | 1 | 0 | NA | 0 | 0 | NA | ⋯ |  1 | 0 | NA | NA | NA | 0 | 1 | 1 |  2 | 0 |\n",
       "| 3 | 215143 | 700004 |   -8 | 56 | 1 | 0 | NA | 0 | 0 | NA | ⋯ |  1 | 0 | NA | NA | NA | 0 | 1 | 1 | NA | 0 |\n",
       "| 4 | 214904 | 700005 | -241 | 64 | 1 | 0 | NA | 0 | 0 | NA | ⋯ | NA | 1 |  1 |  2 |  1 | 0 | 2 | 1 |  2 | 0 |\n",
       "| 5 | 220352 | 700006 |  -44 | 58 | 1 | 0 | NA | 0 | 0 | NA | ⋯ | NA | 0 | NA | NA | NA | 0 | 1 | 0 |  1 | 0 |\n",
       "| 6 | 216549 | 700007 |  -82 | 74 | 1 | 0 | NA | 0 | 0 | NA | ⋯ |  1 | 0 | NA | NA | NA | 0 | 3 | 2 |  2 | 0 |\n",
       "\n"
      ],
      "text/plain": [
       "  dbGaP_Subject_ID SUBJID F2DAYS AGE AREA3Y OTHSTDY EXSTDY BRCA_F2 COLON_F2\n",
       "1 220079           700001  -41   74  1      0       NA     0       0       \n",
       "2 221745           700003  -55   59  1      0       NA     0       0       \n",
       "3 215143           700004   -8   56  1      0       NA     0       0       \n",
       "4 214904           700005 -241   64  1      0       NA     0       0       \n",
       "5 220352           700006  -44   58  1      0       NA     0       0       \n",
       "6 216549           700007  -82   74  1      0       NA     0       0       \n",
       "  COLON10Y ⋯ AVAILDM INTHRT AVAILHRT TALKDOC HRTINFDR HELPFILL AGER HORMSTAT\n",
       "1 NA       ⋯ NA      0      NA       NA      NA       0        3    1       \n",
       "2 NA       ⋯  1      0      NA       NA      NA       0        1    1       \n",
       "3 NA       ⋯  1      0      NA       NA      NA       0        1    1       \n",
       "4 NA       ⋯ NA      1       1        2       1       0        2    1       \n",
       "5 NA       ⋯ NA      0      NA       NA      NA       0        1    0       \n",
       "6 NA       ⋯  1      0      NA       NA      NA       0        3    2       \n",
       "  AGEHYST DIABTRT\n",
       "1  2      0      \n",
       "2  2      0      \n",
       "3 NA      0      \n",
       "4  2      0      \n",
       "5  1      0      \n",
       "6  2      0      "
      ]
     },
     "metadata": {},
     "output_type": "display_data"
    },
    {
     "data": {
      "text/html": [
       "<table class=\"dataframe\">\n",
       "<caption>A data.frame: 6 × 3</caption>\n",
       "<thead>\n",
       "\t<tr><th></th><th scope=col>SUBJID</th><th scope=col>AGE</th><th scope=col>RACE</th></tr>\n",
       "\t<tr><th></th><th scope=col>&lt;int&gt;</th><th scope=col>&lt;int&gt;</th><th scope=col>&lt;int&gt;</th></tr>\n",
       "</thead>\n",
       "<tbody>\n",
       "\t<tr><th scope=row>31</th><td>700032</td><td>57</td><td>4</td></tr>\n",
       "\t<tr><th scope=row>75</th><td>700078</td><td>59</td><td>3</td></tr>\n",
       "\t<tr><th scope=row>88</th><td>700091</td><td>63</td><td>4</td></tr>\n",
       "\t<tr><th scope=row>102</th><td>700106</td><td>52</td><td>3</td></tr>\n",
       "\t<tr><th scope=row>115</th><td>700122</td><td>57</td><td>4</td></tr>\n",
       "\t<tr><th scope=row>194</th><td>700216</td><td>60</td><td>3</td></tr>\n",
       "</tbody>\n",
       "</table>\n"
      ],
      "text/latex": [
       "A data.frame: 6 × 3\n",
       "\\begin{tabular}{r|lll}\n",
       "  & SUBJID & AGE & RACE\\\\\n",
       "  & <int> & <int> & <int>\\\\\n",
       "\\hline\n",
       "\t31 & 700032 & 57 & 4\\\\\n",
       "\t75 & 700078 & 59 & 3\\\\\n",
       "\t88 & 700091 & 63 & 4\\\\\n",
       "\t102 & 700106 & 52 & 3\\\\\n",
       "\t115 & 700122 & 57 & 4\\\\\n",
       "\t194 & 700216 & 60 & 3\\\\\n",
       "\\end{tabular}\n"
      ],
      "text/markdown": [
       "\n",
       "A data.frame: 6 × 3\n",
       "\n",
       "| <!--/--> | SUBJID &lt;int&gt; | AGE &lt;int&gt; | RACE &lt;int&gt; |\n",
       "|---|---|---|---|\n",
       "| 31 | 700032 | 57 | 4 |\n",
       "| 75 | 700078 | 59 | 3 |\n",
       "| 88 | 700091 | 63 | 4 |\n",
       "| 102 | 700106 | 52 | 3 |\n",
       "| 115 | 700122 | 57 | 4 |\n",
       "| 194 | 700216 | 60 | 3 |\n",
       "\n"
      ],
      "text/plain": [
       "    SUBJID AGE RACE\n",
       "31  700032 57  4   \n",
       "75  700078 59  3   \n",
       "88  700091 63  4   \n",
       "102 700106 52  3   \n",
       "115 700122 57  4   \n",
       "194 700216 60  3   "
      ]
     },
     "metadata": {},
     "output_type": "display_data"
    },
    {
     "data": {
      "text/html": [
       "4894"
      ],
      "text/latex": [
       "4894"
      ],
      "text/markdown": [
       "4894"
      ],
      "text/plain": [
       "[1] 4894"
      ]
     },
     "metadata": {},
     "output_type": "display_data"
    }
   ],
   "source": [
    "length(age_race_c1$SUBJID)\n",
    "length(age_race_c2$SUBJID)\n",
    "\n",
    "head(age_race_c1)\n",
    "\n",
    "age_race_c1_matches <- which(age_race_c1$SUBJID %in% subject_sampleids$SUBJID)\n",
    "age_race_c1_matches_df <- age_race_c1[age_race_c1_matches, c(\"SUBJID\",\"AGE\", \"RACE\")]\n",
    "\n",
    "\n",
    "age_race_c2_matches <- which(age_race_c2$SUBJID %in% subject_sampleids$SUBJID)\n",
    "age_race_c2_matches_df <- age_race_c2[age_race_c2_matches, c(\"SUBJID\",\"AGE\", \"RACE\")]\n",
    "\n",
    "age_race_c1c2_merged <- rbind(age_race_c1_matches_df, age_race_c2_matches_df)\n",
    "head(age_race_c1c2_merged)\n",
    "length(age_race_c1c2_merged$SUBJID)\n",
    "\n",
    "outfile <-  \"processing/age_race_c1c2_merged.csv\"\n",
    "write.csv(age_race_c1c2_merged, outfile, quote=F, row.names=F)"
   ]
  },
  {
   "cell_type": "markdown",
   "id": "d30020f0-8200-4209-a1e5-36f36e34299f",
   "metadata": {},
   "source": [
    "## Parity"
   ]
  },
  {
   "cell_type": "code",
   "execution_count": 220,
   "id": "3b730d5c-86e4-4cdd-9623-8922af50dfa1",
   "metadata": {},
   "outputs": [
    {
     "data": {
      "text/html": [
       "117609"
      ],
      "text/latex": [
       "117609"
      ],
      "text/markdown": [
       "117609"
      ],
      "text/plain": [
       "[1] 117609"
      ]
     },
     "metadata": {},
     "output_type": "display_data"
    },
    {
     "data": {
      "text/html": [
       "25518"
      ],
      "text/latex": [
       "25518"
      ],
      "text/markdown": [
       "25518"
      ],
      "text/plain": [
       "[1] 25518"
      ]
     },
     "metadata": {},
     "output_type": "display_data"
    },
    {
     "data": {
      "text/html": [
       "<table class=\"dataframe\">\n",
       "<caption>A data.frame: 6 × 62</caption>\n",
       "<thead>\n",
       "\t<tr><th></th><th scope=col>dbGaP_Subject_ID</th><th scope=col>SUBJID</th><th scope=col>F31DAYS</th><th scope=col>MENARCHE</th><th scope=col>MENSREG</th><th scope=col>MENSREGA</th><th scope=col>MENOPSEA</th><th scope=col>MENSWO1Y</th><th scope=col>MENSWOD</th><th scope=col>ANYMENSA</th><th scope=col>⋯</th><th scope=col>BRSTREMO</th><th scope=col>GRAVID</th><th scope=col>PARITY</th><th scope=col>FULLTRMR</th><th scope=col>NUMLIVER</th><th scope=col>AGEFBIR</th><th scope=col>BOOPH</th><th scope=col>BRSTFDMO</th><th scope=col>BRSTDIS</th><th scope=col>MENO</th></tr>\n",
       "\t<tr><th></th><th scope=col>&lt;int&gt;</th><th scope=col>&lt;int&gt;</th><th scope=col>&lt;int&gt;</th><th scope=col>&lt;int&gt;</th><th scope=col>&lt;int&gt;</th><th scope=col>&lt;int&gt;</th><th scope=col>&lt;int&gt;</th><th scope=col>&lt;int&gt;</th><th scope=col>&lt;int&gt;</th><th scope=col>&lt;int&gt;</th><th scope=col>⋯</th><th scope=col>&lt;int&gt;</th><th scope=col>&lt;int&gt;</th><th scope=col>&lt;int&gt;</th><th scope=col>&lt;int&gt;</th><th scope=col>&lt;int&gt;</th><th scope=col>&lt;int&gt;</th><th scope=col>&lt;int&gt;</th><th scope=col>&lt;int&gt;</th><th scope=col>&lt;int&gt;</th><th scope=col>&lt;int&gt;</th></tr>\n",
       "</thead>\n",
       "<tbody>\n",
       "\t<tr><th scope=row>1</th><td>220079</td><td>700001</td><td>-30</td><td>5</td><td>2</td><td> 8</td><td>47</td><td>0</td><td>NA</td><td>47</td><td>⋯</td><td>NA</td><td>3</td><td>5</td><td>1</td><td>3</td><td>2</td><td> 0</td><td> 3</td><td>0</td><td>47</td></tr>\n",
       "\t<tr><th scope=row>2</th><td>221745</td><td>700003</td><td> -7</td><td>4</td><td>1</td><td>NA</td><td>47</td><td>0</td><td>NA</td><td>47</td><td>⋯</td><td>NA</td><td>2</td><td>1</td><td>1</td><td>1</td><td>2</td><td>NA</td><td>NA</td><td>0</td><td>48</td></tr>\n",
       "\t<tr><th scope=row>3</th><td>215143</td><td>700004</td><td> -2</td><td>5</td><td>1</td><td> 5</td><td>NA</td><td>0</td><td>NA</td><td>52</td><td>⋯</td><td>NA</td><td>2</td><td>2</td><td>1</td><td>2</td><td>2</td><td> 0</td><td> 0</td><td>2</td><td>52</td></tr>\n",
       "\t<tr><th scope=row>4</th><td>214904</td><td>700005</td><td>-16</td><td>7</td><td>2</td><td> 8</td><td>43</td><td>0</td><td>NA</td><td>43</td><td>⋯</td><td>NA</td><td>2</td><td>1</td><td>1</td><td>1</td><td>3</td><td> 1</td><td> 0</td><td>0</td><td>42</td></tr>\n",
       "\t<tr><th scope=row>5</th><td>220352</td><td>700006</td><td>-22</td><td>4</td><td>1</td><td>NA</td><td>38</td><td>0</td><td>NA</td><td>38</td><td>⋯</td><td>NA</td><td>2</td><td>2</td><td>1</td><td>2</td><td>2</td><td> 0</td><td> 0</td><td>0</td><td>50</td></tr>\n",
       "\t<tr><th scope=row>6</th><td>216549</td><td>700007</td><td>-13</td><td>5</td><td>1</td><td> 5</td><td>42</td><td>0</td><td>NA</td><td>42</td><td>⋯</td><td>NA</td><td>2</td><td>0</td><td>0</td><td>0</td><td>0</td><td> 0</td><td> 0</td><td>0</td><td>42</td></tr>\n",
       "</tbody>\n",
       "</table>\n"
      ],
      "text/latex": [
       "A data.frame: 6 × 62\n",
       "\\begin{tabular}{r|lllllllllllllllllllll}\n",
       "  & dbGaP\\_Subject\\_ID & SUBJID & F31DAYS & MENARCHE & MENSREG & MENSREGA & MENOPSEA & MENSWO1Y & MENSWOD & ANYMENSA & ⋯ & BRSTREMO & GRAVID & PARITY & FULLTRMR & NUMLIVER & AGEFBIR & BOOPH & BRSTFDMO & BRSTDIS & MENO\\\\\n",
       "  & <int> & <int> & <int> & <int> & <int> & <int> & <int> & <int> & <int> & <int> & ⋯ & <int> & <int> & <int> & <int> & <int> & <int> & <int> & <int> & <int> & <int>\\\\\n",
       "\\hline\n",
       "\t1 & 220079 & 700001 & -30 & 5 & 2 &  8 & 47 & 0 & NA & 47 & ⋯ & NA & 3 & 5 & 1 & 3 & 2 &  0 &  3 & 0 & 47\\\\\n",
       "\t2 & 221745 & 700003 &  -7 & 4 & 1 & NA & 47 & 0 & NA & 47 & ⋯ & NA & 2 & 1 & 1 & 1 & 2 & NA & NA & 0 & 48\\\\\n",
       "\t3 & 215143 & 700004 &  -2 & 5 & 1 &  5 & NA & 0 & NA & 52 & ⋯ & NA & 2 & 2 & 1 & 2 & 2 &  0 &  0 & 2 & 52\\\\\n",
       "\t4 & 214904 & 700005 & -16 & 7 & 2 &  8 & 43 & 0 & NA & 43 & ⋯ & NA & 2 & 1 & 1 & 1 & 3 &  1 &  0 & 0 & 42\\\\\n",
       "\t5 & 220352 & 700006 & -22 & 4 & 1 & NA & 38 & 0 & NA & 38 & ⋯ & NA & 2 & 2 & 1 & 2 & 2 &  0 &  0 & 0 & 50\\\\\n",
       "\t6 & 216549 & 700007 & -13 & 5 & 1 &  5 & 42 & 0 & NA & 42 & ⋯ & NA & 2 & 0 & 0 & 0 & 0 &  0 &  0 & 0 & 42\\\\\n",
       "\\end{tabular}\n"
      ],
      "text/markdown": [
       "\n",
       "A data.frame: 6 × 62\n",
       "\n",
       "| <!--/--> | dbGaP_Subject_ID &lt;int&gt; | SUBJID &lt;int&gt; | F31DAYS &lt;int&gt; | MENARCHE &lt;int&gt; | MENSREG &lt;int&gt; | MENSREGA &lt;int&gt; | MENOPSEA &lt;int&gt; | MENSWO1Y &lt;int&gt; | MENSWOD &lt;int&gt; | ANYMENSA &lt;int&gt; | ⋯ ⋯ | BRSTREMO &lt;int&gt; | GRAVID &lt;int&gt; | PARITY &lt;int&gt; | FULLTRMR &lt;int&gt; | NUMLIVER &lt;int&gt; | AGEFBIR &lt;int&gt; | BOOPH &lt;int&gt; | BRSTFDMO &lt;int&gt; | BRSTDIS &lt;int&gt; | MENO &lt;int&gt; |\n",
       "|---|---|---|---|---|---|---|---|---|---|---|---|---|---|---|---|---|---|---|---|---|---|\n",
       "| 1 | 220079 | 700001 | -30 | 5 | 2 |  8 | 47 | 0 | NA | 47 | ⋯ | NA | 3 | 5 | 1 | 3 | 2 |  0 |  3 | 0 | 47 |\n",
       "| 2 | 221745 | 700003 |  -7 | 4 | 1 | NA | 47 | 0 | NA | 47 | ⋯ | NA | 2 | 1 | 1 | 1 | 2 | NA | NA | 0 | 48 |\n",
       "| 3 | 215143 | 700004 |  -2 | 5 | 1 |  5 | NA | 0 | NA | 52 | ⋯ | NA | 2 | 2 | 1 | 2 | 2 |  0 |  0 | 2 | 52 |\n",
       "| 4 | 214904 | 700005 | -16 | 7 | 2 |  8 | 43 | 0 | NA | 43 | ⋯ | NA | 2 | 1 | 1 | 1 | 3 |  1 |  0 | 0 | 42 |\n",
       "| 5 | 220352 | 700006 | -22 | 4 | 1 | NA | 38 | 0 | NA | 38 | ⋯ | NA | 2 | 2 | 1 | 2 | 2 |  0 |  0 | 0 | 50 |\n",
       "| 6 | 216549 | 700007 | -13 | 5 | 1 |  5 | 42 | 0 | NA | 42 | ⋯ | NA | 2 | 0 | 0 | 0 | 0 |  0 |  0 | 0 | 42 |\n",
       "\n"
      ],
      "text/plain": [
       "  dbGaP_Subject_ID SUBJID F31DAYS MENARCHE MENSREG MENSREGA MENOPSEA MENSWO1Y\n",
       "1 220079           700001 -30     5        2        8       47       0       \n",
       "2 221745           700003  -7     4        1       NA       47       0       \n",
       "3 215143           700004  -2     5        1        5       NA       0       \n",
       "4 214904           700005 -16     7        2        8       43       0       \n",
       "5 220352           700006 -22     4        1       NA       38       0       \n",
       "6 216549           700007 -13     5        1        5       42       0       \n",
       "  MENSWOD ANYMENSA ⋯ BRSTREMO GRAVID PARITY FULLTRMR NUMLIVER AGEFBIR BOOPH\n",
       "1 NA      47       ⋯ NA       3      5      1        3        2        0   \n",
       "2 NA      47       ⋯ NA       2      1      1        1        2       NA   \n",
       "3 NA      52       ⋯ NA       2      2      1        2        2        0   \n",
       "4 NA      43       ⋯ NA       2      1      1        1        3        1   \n",
       "5 NA      38       ⋯ NA       2      2      1        2        2        0   \n",
       "6 NA      42       ⋯ NA       2      0      0        0        0        0   \n",
       "  BRSTFDMO BRSTDIS MENO\n",
       "1  3       0       47  \n",
       "2 NA       0       48  \n",
       "3  0       2       52  \n",
       "4  0       0       42  \n",
       "5  0       0       50  \n",
       "6  0       0       42  "
      ]
     },
     "metadata": {},
     "output_type": "display_data"
    },
    {
     "data": {
      "text/html": [
       "3737"
      ],
      "text/latex": [
       "3737"
      ],
      "text/markdown": [
       "3737"
      ],
      "text/plain": [
       "[1] 3737"
      ]
     },
     "metadata": {},
     "output_type": "display_data"
    },
    {
     "data": {
      "text/html": [
       "1155"
      ],
      "text/latex": [
       "1155"
      ],
      "text/markdown": [
       "1155"
      ],
      "text/plain": [
       "[1] 1155"
      ]
     },
     "metadata": {},
     "output_type": "display_data"
    },
    {
     "data": {
      "text/html": [
       "<table class=\"dataframe\">\n",
       "<caption>A data.frame: 6 × 2</caption>\n",
       "<thead>\n",
       "\t<tr><th></th><th scope=col>SUBJID</th><th scope=col>PARITY</th></tr>\n",
       "\t<tr><th></th><th scope=col>&lt;int&gt;</th><th scope=col>&lt;int&gt;</th></tr>\n",
       "</thead>\n",
       "<tbody>\n",
       "\t<tr><th scope=row>31</th><td>700032</td><td>NA</td></tr>\n",
       "\t<tr><th scope=row>75</th><td>700078</td><td> 5</td></tr>\n",
       "\t<tr><th scope=row>88</th><td>700091</td><td> 5</td></tr>\n",
       "\t<tr><th scope=row>102</th><td>700106</td><td> 1</td></tr>\n",
       "\t<tr><th scope=row>115</th><td>700122</td><td> 1</td></tr>\n",
       "\t<tr><th scope=row>194</th><td>700216</td><td> 5</td></tr>\n",
       "</tbody>\n",
       "</table>\n"
      ],
      "text/latex": [
       "A data.frame: 6 × 2\n",
       "\\begin{tabular}{r|ll}\n",
       "  & SUBJID & PARITY\\\\\n",
       "  & <int> & <int>\\\\\n",
       "\\hline\n",
       "\t31 & 700032 & NA\\\\\n",
       "\t75 & 700078 &  5\\\\\n",
       "\t88 & 700091 &  5\\\\\n",
       "\t102 & 700106 &  1\\\\\n",
       "\t115 & 700122 &  1\\\\\n",
       "\t194 & 700216 &  5\\\\\n",
       "\\end{tabular}\n"
      ],
      "text/markdown": [
       "\n",
       "A data.frame: 6 × 2\n",
       "\n",
       "| <!--/--> | SUBJID &lt;int&gt; | PARITY &lt;int&gt; |\n",
       "|---|---|---|\n",
       "| 31 | 700032 | NA |\n",
       "| 75 | 700078 |  5 |\n",
       "| 88 | 700091 |  5 |\n",
       "| 102 | 700106 |  1 |\n",
       "| 115 | 700122 |  1 |\n",
       "| 194 | 700216 |  5 |\n",
       "\n"
      ],
      "text/plain": [
       "    SUBJID PARITY\n",
       "31  700032 NA    \n",
       "75  700078  5    \n",
       "88  700091  5    \n",
       "102 700106  1    \n",
       "115 700122  1    \n",
       "194 700216  5    "
      ]
     },
     "metadata": {},
     "output_type": "display_data"
    }
   ],
   "source": [
    "length(parity_c1$SUBJID)\n",
    "length(parity_c2$SUBJID)\n",
    "head(parity_c1)\n",
    "\n",
    "parity_c1_matches <- which(parity_c1$SUBJID %in% subject_sampleids$SUBJID)\n",
    "parity_c1_matches_df <- parity_c1[parity_c1_matches, c(\"SUBJID\", \"PARITY\")]\n",
    "length(parity_c1_matches)\n",
    "\n",
    "parity_c2_matches <- which(parity_c2$SUBJID %in% subject_sampleids$SUBJID)\n",
    "parity_c2_matches_df <- parity_c2[parity_c2_matches, c(\"SUBJID\",\"PARITY\")]\n",
    "length(parity_c2_matches)\n",
    "\n",
    "parity_c1c2_merged <- rbind(parity_c1_matches_df, parity_c2_matches_df)\n",
    "head(parity_c1c2_merged)\n",
    "\n",
    "outfile <-  \"processing/parity_c1c2_merged.csv\"\n",
    "write.csv(parity_c1c2_merged, outfile, quote=F, row.names=F)"
   ]
  },
  {
   "cell_type": "markdown",
   "id": "63930714-2d15-4e83-b0c7-ae9f5abf761c",
   "metadata": {},
   "source": [
    "## BMI"
   ]
  },
  {
   "cell_type": "code",
   "execution_count": 225,
   "id": "b9526e85-dbc3-4329-9025-d2ea9ea2f276",
   "metadata": {},
   "outputs": [
    {
     "data": {
      "text/html": [
       "551936"
      ],
      "text/latex": [
       "551936"
      ],
      "text/markdown": [
       "551936"
      ],
      "text/plain": [
       "[1] 551936"
      ]
     },
     "metadata": {},
     "output_type": "display_data"
    },
    {
     "data": {
      "text/html": [
       "63629"
      ],
      "text/latex": [
       "63629"
      ],
      "text/markdown": [
       "63629"
      ],
      "text/plain": [
       "[1] 63629"
      ]
     },
     "metadata": {},
     "output_type": "display_data"
    },
    {
     "data": {
      "text/html": [
       "<table class=\"dataframe\">\n",
       "<caption>A data.frame: 6 × 22</caption>\n",
       "<thead>\n",
       "\t<tr><th></th><th scope=col>dbGaP_Subject_ID</th><th scope=col>SUBJID</th><th scope=col>F80VTYP</th><th scope=col>F80VY</th><th scope=col>F80DAYS</th><th scope=col>PULSE30</th><th scope=col>SYSTBP1</th><th scope=col>DIASBP1</th><th scope=col>SYSTBP2</th><th scope=col>DIASBP2</th><th scope=col>⋯</th><th scope=col>WAISTX</th><th scope=col>HIPX</th><th scope=col>WHEXPECT</th><th scope=col>SYST</th><th scope=col>SYSTOL</th><th scope=col>DIAS</th><th scope=col>DIASTOL</th><th scope=col>BMIX</th><th scope=col>BMICX</th><th scope=col>WHRX</th></tr>\n",
       "\t<tr><th></th><th scope=col>&lt;int&gt;</th><th scope=col>&lt;int&gt;</th><th scope=col>&lt;int&gt;</th><th scope=col>&lt;int&gt;</th><th scope=col>&lt;int&gt;</th><th scope=col>&lt;int&gt;</th><th scope=col>&lt;int&gt;</th><th scope=col>&lt;int&gt;</th><th scope=col>&lt;int&gt;</th><th scope=col>&lt;int&gt;</th><th scope=col>⋯</th><th scope=col>&lt;dbl&gt;</th><th scope=col>&lt;dbl&gt;</th><th scope=col>&lt;int&gt;</th><th scope=col>&lt;dbl&gt;</th><th scope=col>&lt;int&gt;</th><th scope=col>&lt;dbl&gt;</th><th scope=col>&lt;int&gt;</th><th scope=col>&lt;dbl&gt;</th><th scope=col>&lt;int&gt;</th><th scope=col>&lt;dbl&gt;</th></tr>\n",
       "</thead>\n",
       "<tbody>\n",
       "\t<tr><th scope=row>1</th><td>220079</td><td>700001</td><td>1</td><td>0</td><td> -30</td><td>38</td><td>130</td><td>NA</td><td>130</td><td>66</td><td>⋯</td><td>92.5</td><td>102.5</td><td>1</td><td>130</td><td>2</td><td>66</td><td>1</td><td>33.17012</td><td>4</td><td>0.90244</td></tr>\n",
       "\t<tr><th scope=row>2</th><td>220079</td><td>700001</td><td>3</td><td>3</td><td>1001</td><td>36</td><td>138</td><td>86</td><td>140</td><td>86</td><td>⋯</td><td>91.0</td><td>103.5</td><td>1</td><td>139</td><td>2</td><td>86</td><td>1</td><td>31.63451</td><td>4</td><td>0.87923</td></tr>\n",
       "\t<tr><th scope=row>3</th><td>221745</td><td>700003</td><td>1</td><td>0</td><td>  -7</td><td>32</td><td>136</td><td>90</td><td>136</td><td>94</td><td>⋯</td><td>71.0</td><td>100.0</td><td>1</td><td>136</td><td>2</td><td>92</td><td>2</td><td>22.94974</td><td>2</td><td>0.71000</td></tr>\n",
       "\t<tr><th scope=row>4</th><td>215143</td><td>700004</td><td>1</td><td>0</td><td>  -2</td><td>30</td><td>120</td><td>80</td><td>122</td><td>78</td><td>⋯</td><td>72.0</td><td> 99.0</td><td>1</td><td>121</td><td>2</td><td>79</td><td>1</td><td>21.29872</td><td>2</td><td>0.72727</td></tr>\n",
       "\t<tr><th scope=row>5</th><td>215143</td><td>700004</td><td>3</td><td>1</td><td> 354</td><td>30</td><td>110</td><td>70</td><td>104</td><td>70</td><td>⋯</td><td>71.0</td><td> 97.0</td><td>1</td><td>107</td><td>1</td><td>70</td><td>1</td><td>22.00399</td><td>2</td><td>0.73196</td></tr>\n",
       "\t<tr><th scope=row>6</th><td>215143</td><td>700004</td><td>3</td><td>2</td><td> 721</td><td>30</td><td>126</td><td>76</td><td>118</td><td>74</td><td>⋯</td><td>69.0</td><td> 94.0</td><td>0</td><td>122</td><td>2</td><td>75</td><td>1</td><td>20.02002</td><td>2</td><td>0.73404</td></tr>\n",
       "</tbody>\n",
       "</table>\n"
      ],
      "text/latex": [
       "A data.frame: 6 × 22\n",
       "\\begin{tabular}{r|lllllllllllllllllllll}\n",
       "  & dbGaP\\_Subject\\_ID & SUBJID & F80VTYP & F80VY & F80DAYS & PULSE30 & SYSTBP1 & DIASBP1 & SYSTBP2 & DIASBP2 & ⋯ & WAISTX & HIPX & WHEXPECT & SYST & SYSTOL & DIAS & DIASTOL & BMIX & BMICX & WHRX\\\\\n",
       "  & <int> & <int> & <int> & <int> & <int> & <int> & <int> & <int> & <int> & <int> & ⋯ & <dbl> & <dbl> & <int> & <dbl> & <int> & <dbl> & <int> & <dbl> & <int> & <dbl>\\\\\n",
       "\\hline\n",
       "\t1 & 220079 & 700001 & 1 & 0 &  -30 & 38 & 130 & NA & 130 & 66 & ⋯ & 92.5 & 102.5 & 1 & 130 & 2 & 66 & 1 & 33.17012 & 4 & 0.90244\\\\\n",
       "\t2 & 220079 & 700001 & 3 & 3 & 1001 & 36 & 138 & 86 & 140 & 86 & ⋯ & 91.0 & 103.5 & 1 & 139 & 2 & 86 & 1 & 31.63451 & 4 & 0.87923\\\\\n",
       "\t3 & 221745 & 700003 & 1 & 0 &   -7 & 32 & 136 & 90 & 136 & 94 & ⋯ & 71.0 & 100.0 & 1 & 136 & 2 & 92 & 2 & 22.94974 & 2 & 0.71000\\\\\n",
       "\t4 & 215143 & 700004 & 1 & 0 &   -2 & 30 & 120 & 80 & 122 & 78 & ⋯ & 72.0 &  99.0 & 1 & 121 & 2 & 79 & 1 & 21.29872 & 2 & 0.72727\\\\\n",
       "\t5 & 215143 & 700004 & 3 & 1 &  354 & 30 & 110 & 70 & 104 & 70 & ⋯ & 71.0 &  97.0 & 1 & 107 & 1 & 70 & 1 & 22.00399 & 2 & 0.73196\\\\\n",
       "\t6 & 215143 & 700004 & 3 & 2 &  721 & 30 & 126 & 76 & 118 & 74 & ⋯ & 69.0 &  94.0 & 0 & 122 & 2 & 75 & 1 & 20.02002 & 2 & 0.73404\\\\\n",
       "\\end{tabular}\n"
      ],
      "text/markdown": [
       "\n",
       "A data.frame: 6 × 22\n",
       "\n",
       "| <!--/--> | dbGaP_Subject_ID &lt;int&gt; | SUBJID &lt;int&gt; | F80VTYP &lt;int&gt; | F80VY &lt;int&gt; | F80DAYS &lt;int&gt; | PULSE30 &lt;int&gt; | SYSTBP1 &lt;int&gt; | DIASBP1 &lt;int&gt; | SYSTBP2 &lt;int&gt; | DIASBP2 &lt;int&gt; | ⋯ ⋯ | WAISTX &lt;dbl&gt; | HIPX &lt;dbl&gt; | WHEXPECT &lt;int&gt; | SYST &lt;dbl&gt; | SYSTOL &lt;int&gt; | DIAS &lt;dbl&gt; | DIASTOL &lt;int&gt; | BMIX &lt;dbl&gt; | BMICX &lt;int&gt; | WHRX &lt;dbl&gt; |\n",
       "|---|---|---|---|---|---|---|---|---|---|---|---|---|---|---|---|---|---|---|---|---|---|\n",
       "| 1 | 220079 | 700001 | 1 | 0 |  -30 | 38 | 130 | NA | 130 | 66 | ⋯ | 92.5 | 102.5 | 1 | 130 | 2 | 66 | 1 | 33.17012 | 4 | 0.90244 |\n",
       "| 2 | 220079 | 700001 | 3 | 3 | 1001 | 36 | 138 | 86 | 140 | 86 | ⋯ | 91.0 | 103.5 | 1 | 139 | 2 | 86 | 1 | 31.63451 | 4 | 0.87923 |\n",
       "| 3 | 221745 | 700003 | 1 | 0 |   -7 | 32 | 136 | 90 | 136 | 94 | ⋯ | 71.0 | 100.0 | 1 | 136 | 2 | 92 | 2 | 22.94974 | 2 | 0.71000 |\n",
       "| 4 | 215143 | 700004 | 1 | 0 |   -2 | 30 | 120 | 80 | 122 | 78 | ⋯ | 72.0 |  99.0 | 1 | 121 | 2 | 79 | 1 | 21.29872 | 2 | 0.72727 |\n",
       "| 5 | 215143 | 700004 | 3 | 1 |  354 | 30 | 110 | 70 | 104 | 70 | ⋯ | 71.0 |  97.0 | 1 | 107 | 1 | 70 | 1 | 22.00399 | 2 | 0.73196 |\n",
       "| 6 | 215143 | 700004 | 3 | 2 |  721 | 30 | 126 | 76 | 118 | 74 | ⋯ | 69.0 |  94.0 | 0 | 122 | 2 | 75 | 1 | 20.02002 | 2 | 0.73404 |\n",
       "\n"
      ],
      "text/plain": [
       "  dbGaP_Subject_ID SUBJID F80VTYP F80VY F80DAYS PULSE30 SYSTBP1 DIASBP1 SYSTBP2\n",
       "1 220079           700001 1       0      -30    38      130     NA      130    \n",
       "2 220079           700001 3       3     1001    36      138     86      140    \n",
       "3 221745           700003 1       0       -7    32      136     90      136    \n",
       "4 215143           700004 1       0       -2    30      120     80      122    \n",
       "5 215143           700004 3       1      354    30      110     70      104    \n",
       "6 215143           700004 3       2      721    30      126     76      118    \n",
       "  DIASBP2 ⋯ WAISTX HIPX  WHEXPECT SYST SYSTOL DIAS DIASTOL BMIX     BMICX\n",
       "1 66      ⋯ 92.5   102.5 1        130  2      66   1       33.17012 4    \n",
       "2 86      ⋯ 91.0   103.5 1        139  2      86   1       31.63451 4    \n",
       "3 94      ⋯ 71.0   100.0 1        136  2      92   2       22.94974 2    \n",
       "4 78      ⋯ 72.0    99.0 1        121  2      79   1       21.29872 2    \n",
       "5 70      ⋯ 71.0    97.0 1        107  1      70   1       22.00399 2    \n",
       "6 74      ⋯ 69.0    94.0 0        122  2      75   1       20.02002 2    \n",
       "  WHRX   \n",
       "1 0.90244\n",
       "2 0.87923\n",
       "3 0.71000\n",
       "4 0.72727\n",
       "5 0.73196\n",
       "6 0.73404"
      ]
     },
     "metadata": {},
     "output_type": "display_data"
    },
    {
     "data": {
      "text/html": [
       "29652"
      ],
      "text/latex": [
       "29652"
      ],
      "text/markdown": [
       "29652"
      ],
      "text/plain": [
       "[1] 29652"
      ]
     },
     "metadata": {},
     "output_type": "display_data"
    },
    {
     "data": {
      "text/html": [
       "5379"
      ],
      "text/latex": [
       "5379"
      ],
      "text/markdown": [
       "5379"
      ],
      "text/plain": [
       "[1] 5379"
      ]
     },
     "metadata": {},
     "output_type": "display_data"
    },
    {
     "data": {
      "text/html": [
       "<table class=\"dataframe\">\n",
       "<caption>A data.frame: 6 × 6</caption>\n",
       "<thead>\n",
       "\t<tr><th></th><th scope=col>SUBJID</th><th scope=col>BMIX</th><th scope=col>BMICX</th><th scope=col>F80VTYP</th><th scope=col>F80VY</th><th scope=col>F80DAYS</th></tr>\n",
       "\t<tr><th></th><th scope=col>&lt;int&gt;</th><th scope=col>&lt;dbl&gt;</th><th scope=col>&lt;int&gt;</th><th scope=col>&lt;int&gt;</th><th scope=col>&lt;int&gt;</th><th scope=col>&lt;int&gt;</th></tr>\n",
       "</thead>\n",
       "<tbody>\n",
       "\t<tr><th scope=row>140</th><td>700032</td><td>32.55208</td><td>4</td><td>1</td><td>0</td><td> -40</td></tr>\n",
       "\t<tr><th scope=row>141</th><td>700032</td><td>30.89018</td><td>4</td><td>3</td><td>1</td><td> 393</td></tr>\n",
       "\t<tr><th scope=row>142</th><td>700032</td><td>32.03896</td><td>4</td><td>3</td><td>2</td><td> 720</td></tr>\n",
       "\t<tr><th scope=row>143</th><td>700032</td><td>31.86590</td><td>4</td><td>3</td><td>3</td><td>1093</td></tr>\n",
       "\t<tr><th scope=row>144</th><td>700032</td><td>31.86117</td><td>4</td><td>3</td><td>4</td><td>1471</td></tr>\n",
       "\t<tr><th scope=row>145</th><td>700032</td><td>31.64590</td><td>4</td><td>3</td><td>5</td><td>1835</td></tr>\n",
       "</tbody>\n",
       "</table>\n"
      ],
      "text/latex": [
       "A data.frame: 6 × 6\n",
       "\\begin{tabular}{r|llllll}\n",
       "  & SUBJID & BMIX & BMICX & F80VTYP & F80VY & F80DAYS\\\\\n",
       "  & <int> & <dbl> & <int> & <int> & <int> & <int>\\\\\n",
       "\\hline\n",
       "\t140 & 700032 & 32.55208 & 4 & 1 & 0 &  -40\\\\\n",
       "\t141 & 700032 & 30.89018 & 4 & 3 & 1 &  393\\\\\n",
       "\t142 & 700032 & 32.03896 & 4 & 3 & 2 &  720\\\\\n",
       "\t143 & 700032 & 31.86590 & 4 & 3 & 3 & 1093\\\\\n",
       "\t144 & 700032 & 31.86117 & 4 & 3 & 4 & 1471\\\\\n",
       "\t145 & 700032 & 31.64590 & 4 & 3 & 5 & 1835\\\\\n",
       "\\end{tabular}\n"
      ],
      "text/markdown": [
       "\n",
       "A data.frame: 6 × 6\n",
       "\n",
       "| <!--/--> | SUBJID &lt;int&gt; | BMIX &lt;dbl&gt; | BMICX &lt;int&gt; | F80VTYP &lt;int&gt; | F80VY &lt;int&gt; | F80DAYS &lt;int&gt; |\n",
       "|---|---|---|---|---|---|---|\n",
       "| 140 | 700032 | 32.55208 | 4 | 1 | 0 |  -40 |\n",
       "| 141 | 700032 | 30.89018 | 4 | 3 | 1 |  393 |\n",
       "| 142 | 700032 | 32.03896 | 4 | 3 | 2 |  720 |\n",
       "| 143 | 700032 | 31.86590 | 4 | 3 | 3 | 1093 |\n",
       "| 144 | 700032 | 31.86117 | 4 | 3 | 4 | 1471 |\n",
       "| 145 | 700032 | 31.64590 | 4 | 3 | 5 | 1835 |\n",
       "\n"
      ],
      "text/plain": [
       "    SUBJID BMIX     BMICX F80VTYP F80VY F80DAYS\n",
       "140 700032 32.55208 4     1       0      -40   \n",
       "141 700032 30.89018 4     3       1      393   \n",
       "142 700032 32.03896 4     3       2      720   \n",
       "143 700032 31.86590 4     3       3     1093   \n",
       "144 700032 31.86117 4     3       4     1471   \n",
       "145 700032 31.64590 4     3       5     1835   "
      ]
     },
     "metadata": {},
     "output_type": "display_data"
    }
   ],
   "source": [
    "length(bmi_c1$SUBJID)\n",
    "length(bmi_c2$SUBJID)\n",
    "head(bmi_c1)\n",
    "\n",
    "bmi_c1_matches <- which(bmi_c1$SUBJID %in% subject_sampleids$SUBJID)\n",
    "bmi_c1_matches_df <- bmi_c1[bmi_c1_matches, c(\"SUBJID\", \"BMIX\", \"BMICX\", \"F80VTYP\", \"F80VY\", \"F80DAYS\")]\n",
    "length(bmi_c1_matches)\n",
    "\n",
    "bmi_c2_matches <- which(bmi_c2$SUBJID %in% subject_sampleids$SUBJID)\n",
    "bmi_c2_matches_df <- bmi_c2[bmi_c2_matches, c(\"SUBJID\", \"BMIX\", \"BMICX\", \"F80VTYP\", \"F80VY\", \"F80DAYS\")]\n",
    "length(bmi_c2_matches)\n",
    "\n",
    "bmi_c1c2_merged <- rbind(bmi_c1_matches_df, bmi_c2_matches_df)\n",
    "head(bmi_c1c2_merged)\n",
    "\n",
    "outfile <-  \"processing/bmi_c1c2_merged.csv\"\n",
    "write.csv(bmi_c1c2_merged, outfile, quote=F, row.names=F)"
   ]
  },
  {
   "cell_type": "markdown",
   "id": "56163f6d-fbc3-4daa-8dcf-cc3073518412",
   "metadata": {},
   "source": [
    "## Parkinsons"
   ]
  },
  {
   "cell_type": "code",
   "execution_count": 246,
   "id": "51dc8ba0-346d-4171-9fd3-37abd67be389",
   "metadata": {},
   "outputs": [
    {
     "data": {
      "text/html": [
       "109964"
      ],
      "text/latex": [
       "109964"
      ],
      "text/markdown": [
       "109964"
      ],
      "text/plain": [
       "[1] 109964"
      ]
     },
     "metadata": {},
     "output_type": "display_data"
    },
    {
     "data": {
      "text/html": [
       "621"
      ],
      "text/latex": [
       "621"
      ],
      "text/markdown": [
       "621"
      ],
      "text/plain": [
       "[1] 621"
      ]
     },
     "metadata": {},
     "output_type": "display_data"
    },
    {
     "data": {
      "text/html": [
       "<table class=\"dataframe\">\n",
       "<caption>A data.frame: 6 × 8</caption>\n",
       "<thead>\n",
       "\t<tr><th></th><th scope=col>dbGaP_Subject_ID</th><th scope=col>SUBJID</th><th scope=col>F134VTYP</th><th scope=col>F134VY</th><th scope=col>F134DAYS</th><th scope=col>F134WHOM</th><th scope=col>F134PARKINS</th><th scope=col>F134DIAB</th></tr>\n",
       "\t<tr><th></th><th scope=col>&lt;int&gt;</th><th scope=col>&lt;int&gt;</th><th scope=col>&lt;int&gt;</th><th scope=col>&lt;int&gt;</th><th scope=col>&lt;int&gt;</th><th scope=col>&lt;int&gt;</th><th scope=col>&lt;int&gt;</th><th scope=col>&lt;int&gt;</th></tr>\n",
       "</thead>\n",
       "<tbody>\n",
       "\t<tr><th scope=row>1</th><td>220079</td><td>700001</td><td>3</td><td> 7</td><td>2518</td><td>1</td><td>0</td><td>0</td></tr>\n",
       "\t<tr><th scope=row>2</th><td>221745</td><td>700003</td><td>3</td><td> 9</td><td>3263</td><td>1</td><td>0</td><td>0</td></tr>\n",
       "\t<tr><th scope=row>3</th><td>215143</td><td>700004</td><td>3</td><td>10</td><td>3576</td><td>1</td><td>0</td><td>0</td></tr>\n",
       "\t<tr><th scope=row>4</th><td>214904</td><td>700005</td><td>3</td><td> 8</td><td>2839</td><td>1</td><td>0</td><td>0</td></tr>\n",
       "\t<tr><th scope=row>5</th><td>220352</td><td>700006</td><td>3</td><td> 8</td><td>2958</td><td>1</td><td>0</td><td>0</td></tr>\n",
       "\t<tr><th scope=row>6</th><td>222081</td><td>700008</td><td>3</td><td>10</td><td>3688</td><td>1</td><td>0</td><td>0</td></tr>\n",
       "</tbody>\n",
       "</table>\n"
      ],
      "text/latex": [
       "A data.frame: 6 × 8\n",
       "\\begin{tabular}{r|llllllll}\n",
       "  & dbGaP\\_Subject\\_ID & SUBJID & F134VTYP & F134VY & F134DAYS & F134WHOM & F134PARKINS & F134DIAB\\\\\n",
       "  & <int> & <int> & <int> & <int> & <int> & <int> & <int> & <int>\\\\\n",
       "\\hline\n",
       "\t1 & 220079 & 700001 & 3 &  7 & 2518 & 1 & 0 & 0\\\\\n",
       "\t2 & 221745 & 700003 & 3 &  9 & 3263 & 1 & 0 & 0\\\\\n",
       "\t3 & 215143 & 700004 & 3 & 10 & 3576 & 1 & 0 & 0\\\\\n",
       "\t4 & 214904 & 700005 & 3 &  8 & 2839 & 1 & 0 & 0\\\\\n",
       "\t5 & 220352 & 700006 & 3 &  8 & 2958 & 1 & 0 & 0\\\\\n",
       "\t6 & 222081 & 700008 & 3 & 10 & 3688 & 1 & 0 & 0\\\\\n",
       "\\end{tabular}\n"
      ],
      "text/markdown": [
       "\n",
       "A data.frame: 6 × 8\n",
       "\n",
       "| <!--/--> | dbGaP_Subject_ID &lt;int&gt; | SUBJID &lt;int&gt; | F134VTYP &lt;int&gt; | F134VY &lt;int&gt; | F134DAYS &lt;int&gt; | F134WHOM &lt;int&gt; | F134PARKINS &lt;int&gt; | F134DIAB &lt;int&gt; |\n",
       "|---|---|---|---|---|---|---|---|---|\n",
       "| 1 | 220079 | 700001 | 3 |  7 | 2518 | 1 | 0 | 0 |\n",
       "| 2 | 221745 | 700003 | 3 |  9 | 3263 | 1 | 0 | 0 |\n",
       "| 3 | 215143 | 700004 | 3 | 10 | 3576 | 1 | 0 | 0 |\n",
       "| 4 | 214904 | 700005 | 3 |  8 | 2839 | 1 | 0 | 0 |\n",
       "| 5 | 220352 | 700006 | 3 |  8 | 2958 | 1 | 0 | 0 |\n",
       "| 6 | 222081 | 700008 | 3 | 10 | 3688 | 1 | 0 | 0 |\n",
       "\n"
      ],
      "text/plain": [
       "  dbGaP_Subject_ID SUBJID F134VTYP F134VY F134DAYS F134WHOM F134PARKINS\n",
       "1 220079           700001 3         7     2518     1        0          \n",
       "2 221745           700003 3         9     3263     1        0          \n",
       "3 215143           700004 3        10     3576     1        0          \n",
       "4 214904           700005 3         8     2839     1        0          \n",
       "5 220352           700006 3         8     2958     1        0          \n",
       "6 222081           700008 3        10     3688     1        0          \n",
       "  F134DIAB\n",
       "1 0       \n",
       "2 0       \n",
       "3 0       \n",
       "4 0       \n",
       "5 0       \n",
       "6 0       "
      ]
     },
     "metadata": {},
     "output_type": "display_data"
    },
    {
     "data": {
      "text/html": [
       "3316"
      ],
      "text/latex": [
       "3316"
      ],
      "text/markdown": [
       "3316"
      ],
      "text/plain": [
       "[1] 3316"
      ]
     },
     "metadata": {},
     "output_type": "display_data"
    },
    {
     "data": {
      "text/html": [
       "15"
      ],
      "text/latex": [
       "15"
      ],
      "text/markdown": [
       "15"
      ],
      "text/plain": [
       "[1] 15"
      ]
     },
     "metadata": {},
     "output_type": "display_data"
    },
    {
     "data": {
      "text/html": [
       "<table class=\"dataframe\">\n",
       "<caption>A data.frame: 6 × 2</caption>\n",
       "<thead>\n",
       "\t<tr><th></th><th scope=col>SUBJID</th><th scope=col>F134PARKINS</th></tr>\n",
       "\t<tr><th></th><th scope=col>&lt;int&gt;</th><th scope=col>&lt;int&gt;</th></tr>\n",
       "</thead>\n",
       "<tbody>\n",
       "\t<tr><th scope=row>30</th><td>700032</td><td>0</td></tr>\n",
       "\t<tr><th scope=row>70</th><td>700078</td><td>0</td></tr>\n",
       "\t<tr><th scope=row>94</th><td>700106</td><td>0</td></tr>\n",
       "\t<tr><th scope=row>107</th><td>700122</td><td>0</td></tr>\n",
       "\t<tr><th scope=row>179</th><td>700216</td><td>0</td></tr>\n",
       "\t<tr><th scope=row>184</th><td>700222</td><td>0</td></tr>\n",
       "</tbody>\n",
       "</table>\n"
      ],
      "text/latex": [
       "A data.frame: 6 × 2\n",
       "\\begin{tabular}{r|ll}\n",
       "  & SUBJID & F134PARKINS\\\\\n",
       "  & <int> & <int>\\\\\n",
       "\\hline\n",
       "\t30 & 700032 & 0\\\\\n",
       "\t70 & 700078 & 0\\\\\n",
       "\t94 & 700106 & 0\\\\\n",
       "\t107 & 700122 & 0\\\\\n",
       "\t179 & 700216 & 0\\\\\n",
       "\t184 & 700222 & 0\\\\\n",
       "\\end{tabular}\n"
      ],
      "text/markdown": [
       "\n",
       "A data.frame: 6 × 2\n",
       "\n",
       "| <!--/--> | SUBJID &lt;int&gt; | F134PARKINS &lt;int&gt; |\n",
       "|---|---|---|\n",
       "| 30 | 700032 | 0 |\n",
       "| 70 | 700078 | 0 |\n",
       "| 94 | 700106 | 0 |\n",
       "| 107 | 700122 | 0 |\n",
       "| 179 | 700216 | 0 |\n",
       "| 184 | 700222 | 0 |\n",
       "\n"
      ],
      "text/plain": [
       "    SUBJID F134PARKINS\n",
       "30  700032 0          \n",
       "70  700078 0          \n",
       "94  700106 0          \n",
       "107 700122 0          \n",
       "179 700216 0          \n",
       "184 700222 0          "
      ]
     },
     "metadata": {},
     "output_type": "display_data"
    }
   ],
   "source": [
    "length(parkinsons_c1$SUBJID)\n",
    "length(parkinsons_c2$SUBJID)\n",
    "head(parkinsons_c1)\n",
    "\n",
    "parkinsons_c1_matches <- which(parkinsons_c1$SUBJID %in% subject_sampleids$SUBJID)\n",
    "parkinsons_c1_matches_df <- parkinsons_c1[parkinsons_c1_matches, c(\"SUBJID\",\"F134PARKINS\")]\n",
    "parkinsons_c1_matches_df_all_col <- parkinsons_c1[parkinsons_c1_matches, ]\n",
    "length(parkinsons_c1_matches)\n",
    "\n",
    "parkinsons_c2_matches <- which(parkinsons_c2$SUBJID %in% subject_sampleids$SUBJID)\n",
    "parkinsons_c2_matches_df <- parkinsons_c2[parkinsons_c2_matches, c(\"SUBJID\",\"F134PARKINS\")]\n",
    "parkinsons_c2_matches_df_all_col <- parkinsons_c2[parkinsons_c2_matches, ]\n",
    "length(parkinsons_c2_matches)\n",
    "\n",
    "parkinsons_c1c2_merged <- rbind(parkinsons_c1_matches_df, parkinsons_c2_matches_df)\n",
    "parkinsons_c1c2_merged_all_col <- rbind(parkinsons_c1_matches_df_all_col, parkinsons_c2_matches_df_all_col)\n",
    "head(parkinsons_c1c2_merged)\n",
    "\n",
    "\n",
    "outfile <-  \"processing/parkinsons_c1c2_merged.csv\"\n",
    "outfile2 <-  \"processing/parkinsons_c1c2_merged_all_col.csv\"\n",
    "write.csv(parkinsons_c1c2_merged, outfile, quote=F, row.names=F)\n",
    "write.csv(parkinsons_c1c2_merged_all_col, outfile2, quote=F, row.names=F)"
   ]
  },
  {
   "cell_type": "markdown",
   "id": "eea151f4-a6bd-4d7d-8308-33005126c1f0",
   "metadata": {},
   "source": [
    "## Diabetes"
   ]
  },
  {
   "cell_type": "code",
   "execution_count": 245,
   "id": "c8bbdc0d-977e-4e27-9dec-1f9b7cd93213",
   "metadata": {},
   "outputs": [
    {
     "data": {
      "text/html": [
       "117675"
      ],
      "text/latex": [
       "117675"
      ],
      "text/markdown": [
       "117675"
      ],
      "text/plain": [
       "[1] 117675"
      ]
     },
     "metadata": {},
     "output_type": "display_data"
    },
    {
     "data": {
      "text/html": [
       "25538"
      ],
      "text/latex": [
       "25538"
      ],
      "text/markdown": [
       "25538"
      ],
      "text/plain": [
       "[1] 25538"
      ]
     },
     "metadata": {},
     "output_type": "display_data"
    },
    {
     "data": {
      "text/html": [
       "<table class=\"dataframe\">\n",
       "<caption>A data.frame: 6 × 72</caption>\n",
       "<thead>\n",
       "\t<tr><th></th><th scope=col>dbGaP_Subject_ID</th><th scope=col>SUBJID</th><th scope=col>F2DAYS</th><th scope=col>AGE</th><th scope=col>AREA3Y</th><th scope=col>OTHSTDY</th><th scope=col>EXSTDY</th><th scope=col>BRCA_F2</th><th scope=col>COLON_F2</th><th scope=col>COLON10Y</th><th scope=col>⋯</th><th scope=col>AVAILDM</th><th scope=col>INTHRT</th><th scope=col>AVAILHRT</th><th scope=col>TALKDOC</th><th scope=col>HRTINFDR</th><th scope=col>HELPFILL</th><th scope=col>AGER</th><th scope=col>HORMSTAT</th><th scope=col>AGEHYST</th><th scope=col>DIABTRT</th></tr>\n",
       "\t<tr><th></th><th scope=col>&lt;int&gt;</th><th scope=col>&lt;int&gt;</th><th scope=col>&lt;int&gt;</th><th scope=col>&lt;int&gt;</th><th scope=col>&lt;int&gt;</th><th scope=col>&lt;int&gt;</th><th scope=col>&lt;int&gt;</th><th scope=col>&lt;int&gt;</th><th scope=col>&lt;int&gt;</th><th scope=col>&lt;int&gt;</th><th scope=col>⋯</th><th scope=col>&lt;int&gt;</th><th scope=col>&lt;int&gt;</th><th scope=col>&lt;int&gt;</th><th scope=col>&lt;int&gt;</th><th scope=col>&lt;int&gt;</th><th scope=col>&lt;int&gt;</th><th scope=col>&lt;int&gt;</th><th scope=col>&lt;int&gt;</th><th scope=col>&lt;int&gt;</th><th scope=col>&lt;int&gt;</th></tr>\n",
       "</thead>\n",
       "<tbody>\n",
       "\t<tr><th scope=row>1</th><td>220079</td><td>700001</td><td> -41</td><td>74</td><td>1</td><td>0</td><td>NA</td><td>0</td><td>0</td><td>NA</td><td>⋯</td><td>NA</td><td>0</td><td>NA</td><td>NA</td><td>NA</td><td>0</td><td>3</td><td>1</td><td> 2</td><td>0</td></tr>\n",
       "\t<tr><th scope=row>2</th><td>221745</td><td>700003</td><td> -55</td><td>59</td><td>1</td><td>0</td><td>NA</td><td>0</td><td>0</td><td>NA</td><td>⋯</td><td> 1</td><td>0</td><td>NA</td><td>NA</td><td>NA</td><td>0</td><td>1</td><td>1</td><td> 2</td><td>0</td></tr>\n",
       "\t<tr><th scope=row>3</th><td>215143</td><td>700004</td><td>  -8</td><td>56</td><td>1</td><td>0</td><td>NA</td><td>0</td><td>0</td><td>NA</td><td>⋯</td><td> 1</td><td>0</td><td>NA</td><td>NA</td><td>NA</td><td>0</td><td>1</td><td>1</td><td>NA</td><td>0</td></tr>\n",
       "\t<tr><th scope=row>4</th><td>214904</td><td>700005</td><td>-241</td><td>64</td><td>1</td><td>0</td><td>NA</td><td>0</td><td>0</td><td>NA</td><td>⋯</td><td>NA</td><td>1</td><td> 1</td><td> 2</td><td> 1</td><td>0</td><td>2</td><td>1</td><td> 2</td><td>0</td></tr>\n",
       "\t<tr><th scope=row>5</th><td>220352</td><td>700006</td><td> -44</td><td>58</td><td>1</td><td>0</td><td>NA</td><td>0</td><td>0</td><td>NA</td><td>⋯</td><td>NA</td><td>0</td><td>NA</td><td>NA</td><td>NA</td><td>0</td><td>1</td><td>0</td><td> 1</td><td>0</td></tr>\n",
       "\t<tr><th scope=row>6</th><td>216549</td><td>700007</td><td> -82</td><td>74</td><td>1</td><td>0</td><td>NA</td><td>0</td><td>0</td><td>NA</td><td>⋯</td><td> 1</td><td>0</td><td>NA</td><td>NA</td><td>NA</td><td>0</td><td>3</td><td>2</td><td> 2</td><td>0</td></tr>\n",
       "</tbody>\n",
       "</table>\n"
      ],
      "text/latex": [
       "A data.frame: 6 × 72\n",
       "\\begin{tabular}{r|lllllllllllllllllllll}\n",
       "  & dbGaP\\_Subject\\_ID & SUBJID & F2DAYS & AGE & AREA3Y & OTHSTDY & EXSTDY & BRCA\\_F2 & COLON\\_F2 & COLON10Y & ⋯ & AVAILDM & INTHRT & AVAILHRT & TALKDOC & HRTINFDR & HELPFILL & AGER & HORMSTAT & AGEHYST & DIABTRT\\\\\n",
       "  & <int> & <int> & <int> & <int> & <int> & <int> & <int> & <int> & <int> & <int> & ⋯ & <int> & <int> & <int> & <int> & <int> & <int> & <int> & <int> & <int> & <int>\\\\\n",
       "\\hline\n",
       "\t1 & 220079 & 700001 &  -41 & 74 & 1 & 0 & NA & 0 & 0 & NA & ⋯ & NA & 0 & NA & NA & NA & 0 & 3 & 1 &  2 & 0\\\\\n",
       "\t2 & 221745 & 700003 &  -55 & 59 & 1 & 0 & NA & 0 & 0 & NA & ⋯ &  1 & 0 & NA & NA & NA & 0 & 1 & 1 &  2 & 0\\\\\n",
       "\t3 & 215143 & 700004 &   -8 & 56 & 1 & 0 & NA & 0 & 0 & NA & ⋯ &  1 & 0 & NA & NA & NA & 0 & 1 & 1 & NA & 0\\\\\n",
       "\t4 & 214904 & 700005 & -241 & 64 & 1 & 0 & NA & 0 & 0 & NA & ⋯ & NA & 1 &  1 &  2 &  1 & 0 & 2 & 1 &  2 & 0\\\\\n",
       "\t5 & 220352 & 700006 &  -44 & 58 & 1 & 0 & NA & 0 & 0 & NA & ⋯ & NA & 0 & NA & NA & NA & 0 & 1 & 0 &  1 & 0\\\\\n",
       "\t6 & 216549 & 700007 &  -82 & 74 & 1 & 0 & NA & 0 & 0 & NA & ⋯ &  1 & 0 & NA & NA & NA & 0 & 3 & 2 &  2 & 0\\\\\n",
       "\\end{tabular}\n"
      ],
      "text/markdown": [
       "\n",
       "A data.frame: 6 × 72\n",
       "\n",
       "| <!--/--> | dbGaP_Subject_ID &lt;int&gt; | SUBJID &lt;int&gt; | F2DAYS &lt;int&gt; | AGE &lt;int&gt; | AREA3Y &lt;int&gt; | OTHSTDY &lt;int&gt; | EXSTDY &lt;int&gt; | BRCA_F2 &lt;int&gt; | COLON_F2 &lt;int&gt; | COLON10Y &lt;int&gt; | ⋯ ⋯ | AVAILDM &lt;int&gt; | INTHRT &lt;int&gt; | AVAILHRT &lt;int&gt; | TALKDOC &lt;int&gt; | HRTINFDR &lt;int&gt; | HELPFILL &lt;int&gt; | AGER &lt;int&gt; | HORMSTAT &lt;int&gt; | AGEHYST &lt;int&gt; | DIABTRT &lt;int&gt; |\n",
       "|---|---|---|---|---|---|---|---|---|---|---|---|---|---|---|---|---|---|---|---|---|---|\n",
       "| 1 | 220079 | 700001 |  -41 | 74 | 1 | 0 | NA | 0 | 0 | NA | ⋯ | NA | 0 | NA | NA | NA | 0 | 3 | 1 |  2 | 0 |\n",
       "| 2 | 221745 | 700003 |  -55 | 59 | 1 | 0 | NA | 0 | 0 | NA | ⋯ |  1 | 0 | NA | NA | NA | 0 | 1 | 1 |  2 | 0 |\n",
       "| 3 | 215143 | 700004 |   -8 | 56 | 1 | 0 | NA | 0 | 0 | NA | ⋯ |  1 | 0 | NA | NA | NA | 0 | 1 | 1 | NA | 0 |\n",
       "| 4 | 214904 | 700005 | -241 | 64 | 1 | 0 | NA | 0 | 0 | NA | ⋯ | NA | 1 |  1 |  2 |  1 | 0 | 2 | 1 |  2 | 0 |\n",
       "| 5 | 220352 | 700006 |  -44 | 58 | 1 | 0 | NA | 0 | 0 | NA | ⋯ | NA | 0 | NA | NA | NA | 0 | 1 | 0 |  1 | 0 |\n",
       "| 6 | 216549 | 700007 |  -82 | 74 | 1 | 0 | NA | 0 | 0 | NA | ⋯ |  1 | 0 | NA | NA | NA | 0 | 3 | 2 |  2 | 0 |\n",
       "\n"
      ],
      "text/plain": [
       "  dbGaP_Subject_ID SUBJID F2DAYS AGE AREA3Y OTHSTDY EXSTDY BRCA_F2 COLON_F2\n",
       "1 220079           700001  -41   74  1      0       NA     0       0       \n",
       "2 221745           700003  -55   59  1      0       NA     0       0       \n",
       "3 215143           700004   -8   56  1      0       NA     0       0       \n",
       "4 214904           700005 -241   64  1      0       NA     0       0       \n",
       "5 220352           700006  -44   58  1      0       NA     0       0       \n",
       "6 216549           700007  -82   74  1      0       NA     0       0       \n",
       "  COLON10Y ⋯ AVAILDM INTHRT AVAILHRT TALKDOC HRTINFDR HELPFILL AGER HORMSTAT\n",
       "1 NA       ⋯ NA      0      NA       NA      NA       0        3    1       \n",
       "2 NA       ⋯  1      0      NA       NA      NA       0        1    1       \n",
       "3 NA       ⋯  1      0      NA       NA      NA       0        1    1       \n",
       "4 NA       ⋯ NA      1       1        2       1       0        2    1       \n",
       "5 NA       ⋯ NA      0      NA       NA      NA       0        1    0       \n",
       "6 NA       ⋯  1      0      NA       NA      NA       0        3    2       \n",
       "  AGEHYST DIABTRT\n",
       "1  2      0      \n",
       "2  2      0      \n",
       "3 NA      0      \n",
       "4  2      0      \n",
       "5  1      0      \n",
       "6  2      0      "
      ]
     },
     "metadata": {},
     "output_type": "display_data"
    },
    {
     "data": {
      "text/html": [
       "3739"
      ],
      "text/latex": [
       "3739"
      ],
      "text/markdown": [
       "3739"
      ],
      "text/plain": [
       "[1] 3739"
      ]
     },
     "metadata": {},
     "output_type": "display_data"
    },
    {
     "data": {
      "text/html": [
       "1155"
      ],
      "text/latex": [
       "1155"
      ],
      "text/markdown": [
       "1155"
      ],
      "text/plain": [
       "[1] 1155"
      ]
     },
     "metadata": {},
     "output_type": "display_data"
    },
    {
     "data": {
      "text/html": [
       "<table class=\"dataframe\">\n",
       "<caption>A data.frame: 6 × 2</caption>\n",
       "<thead>\n",
       "\t<tr><th></th><th scope=col>SUBJID</th><th scope=col>DIAB</th></tr>\n",
       "\t<tr><th></th><th scope=col>&lt;int&gt;</th><th scope=col>&lt;int&gt;</th></tr>\n",
       "</thead>\n",
       "<tbody>\n",
       "\t<tr><th scope=row>31</th><td>700032</td><td>0</td></tr>\n",
       "\t<tr><th scope=row>75</th><td>700078</td><td>0</td></tr>\n",
       "\t<tr><th scope=row>88</th><td>700091</td><td>0</td></tr>\n",
       "\t<tr><th scope=row>102</th><td>700106</td><td>0</td></tr>\n",
       "\t<tr><th scope=row>115</th><td>700122</td><td>0</td></tr>\n",
       "\t<tr><th scope=row>194</th><td>700216</td><td>0</td></tr>\n",
       "</tbody>\n",
       "</table>\n"
      ],
      "text/latex": [
       "A data.frame: 6 × 2\n",
       "\\begin{tabular}{r|ll}\n",
       "  & SUBJID & DIAB\\\\\n",
       "  & <int> & <int>\\\\\n",
       "\\hline\n",
       "\t31 & 700032 & 0\\\\\n",
       "\t75 & 700078 & 0\\\\\n",
       "\t88 & 700091 & 0\\\\\n",
       "\t102 & 700106 & 0\\\\\n",
       "\t115 & 700122 & 0\\\\\n",
       "\t194 & 700216 & 0\\\\\n",
       "\\end{tabular}\n"
      ],
      "text/markdown": [
       "\n",
       "A data.frame: 6 × 2\n",
       "\n",
       "| <!--/--> | SUBJID &lt;int&gt; | DIAB &lt;int&gt; |\n",
       "|---|---|---|\n",
       "| 31 | 700032 | 0 |\n",
       "| 75 | 700078 | 0 |\n",
       "| 88 | 700091 | 0 |\n",
       "| 102 | 700106 | 0 |\n",
       "| 115 | 700122 | 0 |\n",
       "| 194 | 700216 | 0 |\n",
       "\n"
      ],
      "text/plain": [
       "    SUBJID DIAB\n",
       "31  700032 0   \n",
       "75  700078 0   \n",
       "88  700091 0   \n",
       "102 700106 0   \n",
       "115 700122 0   \n",
       "194 700216 0   "
      ]
     },
     "metadata": {},
     "output_type": "display_data"
    }
   ],
   "source": [
    "length(diabetes_c1$SUBJID)\n",
    "length(diabetes_c2$SUBJID)\n",
    "head(diabetes_c1)\n",
    "\n",
    "diab_c1_matches <- which(diabetes_c1$SUBJID %in% subject_sampleids$SUBJID)\n",
    "diab_c1_matches_df <- diabetes_c1[diab_c1_matches, c(\"SUBJID\",\"DIAB\")]\n",
    "diab_c1_matches_df_all_col <- diabetes_c1[diab_c1_matches, ]\n",
    "length(diab_c1_matches)\n",
    "\n",
    "diab_c2_matches <- which(diabetes_c2$SUBJID %in% subject_sampleids$SUBJID)\n",
    "diab_c2_matches_df <- diabetes_c2[diab_c2_matches, c(\"SUBJID\",\"DIAB\")]\n",
    "diab_c2_matches_df_all_col <- diabetes_c2[diab_c2_matches, ]\n",
    "length(diab_c2_matches)\n",
    "\n",
    "diab_c1c2_merged <- rbind(diab_c1_matches_df, diab_c2_matches_df)\n",
    "diab_c1c2_merged_all_col <- rbind(diab_c1_matches_df_all_col, diab_c2_matches_df_all_col)\n",
    "head(diab_c1c2_merged)\n",
    "\n",
    "\n",
    "outfile <-  \"processing/diabetes_c1c2_merged.csv\"\n",
    "outfile2 <-  \"processing/diabetes_c1c2_merged_all_col.csv\"\n",
    "write.csv(diab_c1c2_merged, outfile, quote=F, row.names=F)\n",
    "write.csv(diab_c1c2_merged_all_col, outfile2, quote=F, row.names=F)"
   ]
  },
  {
   "cell_type": "markdown",
   "id": "62a3f8a5-7f36-49e2-b894-455ac736f6c4",
   "metadata": {},
   "source": [
    "## Case Control UUI\n",
    "* INCONT\n",
    "* TOINCON\n",
    "* FRQINCON\n",
    "* LEAKAMT"
   ]
  },
  {
   "cell_type": "code",
   "execution_count": 244,
   "id": "4d0410ba-ddd7-4099-84d3-1b9b3ce9514a",
   "metadata": {},
   "outputs": [
    {
     "data": {
      "text/html": [
       "168638"
      ],
      "text/latex": [
       "168638"
      ],
      "text/markdown": [
       "168638"
      ],
      "text/plain": [
       "[1] 168638"
      ]
     },
     "metadata": {},
     "output_type": "display_data"
    },
    {
     "data": {
      "text/html": [
       "26050"
      ],
      "text/latex": [
       "26050"
      ],
      "text/markdown": [
       "26050"
      ],
      "text/plain": [
       "[1] 26050"
      ]
     },
     "metadata": {},
     "output_type": "display_data"
    },
    {
     "data": {
      "text/html": [
       "<table class=\"dataframe\">\n",
       "<caption>A data.frame: 6 × 219</caption>\n",
       "<thead>\n",
       "\t<tr><th></th><th scope=col>dbGaP_Subject_ID</th><th scope=col>SUBJID</th><th scope=col>F37VTYP</th><th scope=col>F37VY</th><th scope=col>F37DAYS</th><th scope=col>LISTEN</th><th scope=col>GOODADVC</th><th scope=col>TAKEDR</th><th scope=col>GOODTIME</th><th scope=col>HLPPROB</th><th scope=col>⋯</th><th scope=col>OPTIMISM</th><th scope=col>PAIN</th><th scope=col>PHYLIMIT</th><th scope=col>PHYSFUN</th><th scope=col>PSHTDEP</th><th scope=col>SLPDSTRB</th><th scope=col>SOCFUNC</th><th scope=col>SOCSTRN</th><th scope=col>SOCSUPP</th><th scope=col>SYMPTOM</th></tr>\n",
       "\t<tr><th></th><th scope=col>&lt;int&gt;</th><th scope=col>&lt;int&gt;</th><th scope=col>&lt;int&gt;</th><th scope=col>&lt;int&gt;</th><th scope=col>&lt;int&gt;</th><th scope=col>&lt;int&gt;</th><th scope=col>&lt;int&gt;</th><th scope=col>&lt;int&gt;</th><th scope=col>&lt;int&gt;</th><th scope=col>&lt;int&gt;</th><th scope=col>⋯</th><th scope=col>&lt;int&gt;</th><th scope=col>&lt;dbl&gt;</th><th scope=col>&lt;int&gt;</th><th scope=col>&lt;int&gt;</th><th scope=col>&lt;dbl&gt;</th><th scope=col>&lt;int&gt;</th><th scope=col>&lt;dbl&gt;</th><th scope=col>&lt;int&gt;</th><th scope=col>&lt;int&gt;</th><th scope=col>&lt;dbl&gt;</th></tr>\n",
       "</thead>\n",
       "<tbody>\n",
       "\t<tr><th scope=row>1</th><td>220079</td><td>700001</td><td>1</td><td>0</td><td> -30</td><td>4</td><td>4</td><td>5</td><td>4</td><td>5</td><td>⋯</td><td>NA</td><td> 50.0</td><td> 75</td><td> 70</td><td>0.00173</td><td>11</td><td>100.0</td><td>10</td><td>41</td><td>     NA</td></tr>\n",
       "\t<tr><th scope=row>2</th><td>221745</td><td>700003</td><td>1</td><td>0</td><td>  -7</td><td>4</td><td>4</td><td>4</td><td>4</td><td>4</td><td>⋯</td><td>20</td><td>100.0</td><td>100</td><td>100</td><td>0.00144</td><td> 1</td><td>100.0</td><td> 9</td><td>34</td><td>0.08824</td></tr>\n",
       "\t<tr><th scope=row>3</th><td>215143</td><td>700004</td><td>1</td><td>0</td><td>  -2</td><td>5</td><td>4</td><td>3</td><td>3</td><td>3</td><td>⋯</td><td>22</td><td> 75.0</td><td>100</td><td> 80</td><td>0.00132</td><td> 9</td><td>100.0</td><td>10</td><td>30</td><td>0.38235</td></tr>\n",
       "\t<tr><th scope=row>4</th><td>215143</td><td>700004</td><td>2</td><td>9</td><td>3102</td><td>3</td><td>3</td><td>2</td><td>3</td><td>3</td><td>⋯</td><td>19</td><td> 87.5</td><td>100</td><td> 95</td><td>0.00173</td><td> 7</td><td>100.0</td><td> 6</td><td>26</td><td>0.26471</td></tr>\n",
       "\t<tr><th scope=row>5</th><td>214904</td><td>700005</td><td>1</td><td>0</td><td> -16</td><td>3</td><td>3</td><td>1</td><td>3</td><td>1</td><td>⋯</td><td>20</td><td> 75.0</td><td>100</td><td> 95</td><td>0.00084</td><td>NA</td><td> 87.5</td><td>19</td><td>18</td><td>0.64706</td></tr>\n",
       "\t<tr><th scope=row>6</th><td>214904</td><td>700005</td><td>2</td><td>7</td><td>2465</td><td>3</td><td>2</td><td>1</td><td>3</td><td>2</td><td>⋯</td><td>25</td><td> 37.5</td><td>  0</td><td> 50</td><td>0.00144</td><td> 4</td><td>100.0</td><td> 9</td><td>19</td><td>     NA</td></tr>\n",
       "</tbody>\n",
       "</table>\n"
      ],
      "text/latex": [
       "A data.frame: 6 × 219\n",
       "\\begin{tabular}{r|lllllllllllllllllllll}\n",
       "  & dbGaP\\_Subject\\_ID & SUBJID & F37VTYP & F37VY & F37DAYS & LISTEN & GOODADVC & TAKEDR & GOODTIME & HLPPROB & ⋯ & OPTIMISM & PAIN & PHYLIMIT & PHYSFUN & PSHTDEP & SLPDSTRB & SOCFUNC & SOCSTRN & SOCSUPP & SYMPTOM\\\\\n",
       "  & <int> & <int> & <int> & <int> & <int> & <int> & <int> & <int> & <int> & <int> & ⋯ & <int> & <dbl> & <int> & <int> & <dbl> & <int> & <dbl> & <int> & <int> & <dbl>\\\\\n",
       "\\hline\n",
       "\t1 & 220079 & 700001 & 1 & 0 &  -30 & 4 & 4 & 5 & 4 & 5 & ⋯ & NA &  50.0 &  75 &  70 & 0.00173 & 11 & 100.0 & 10 & 41 &      NA\\\\\n",
       "\t2 & 221745 & 700003 & 1 & 0 &   -7 & 4 & 4 & 4 & 4 & 4 & ⋯ & 20 & 100.0 & 100 & 100 & 0.00144 &  1 & 100.0 &  9 & 34 & 0.08824\\\\\n",
       "\t3 & 215143 & 700004 & 1 & 0 &   -2 & 5 & 4 & 3 & 3 & 3 & ⋯ & 22 &  75.0 & 100 &  80 & 0.00132 &  9 & 100.0 & 10 & 30 & 0.38235\\\\\n",
       "\t4 & 215143 & 700004 & 2 & 9 & 3102 & 3 & 3 & 2 & 3 & 3 & ⋯ & 19 &  87.5 & 100 &  95 & 0.00173 &  7 & 100.0 &  6 & 26 & 0.26471\\\\\n",
       "\t5 & 214904 & 700005 & 1 & 0 &  -16 & 3 & 3 & 1 & 3 & 1 & ⋯ & 20 &  75.0 & 100 &  95 & 0.00084 & NA &  87.5 & 19 & 18 & 0.64706\\\\\n",
       "\t6 & 214904 & 700005 & 2 & 7 & 2465 & 3 & 2 & 1 & 3 & 2 & ⋯ & 25 &  37.5 &   0 &  50 & 0.00144 &  4 & 100.0 &  9 & 19 &      NA\\\\\n",
       "\\end{tabular}\n"
      ],
      "text/markdown": [
       "\n",
       "A data.frame: 6 × 219\n",
       "\n",
       "| <!--/--> | dbGaP_Subject_ID &lt;int&gt; | SUBJID &lt;int&gt; | F37VTYP &lt;int&gt; | F37VY &lt;int&gt; | F37DAYS &lt;int&gt; | LISTEN &lt;int&gt; | GOODADVC &lt;int&gt; | TAKEDR &lt;int&gt; | GOODTIME &lt;int&gt; | HLPPROB &lt;int&gt; | ⋯ ⋯ | OPTIMISM &lt;int&gt; | PAIN &lt;dbl&gt; | PHYLIMIT &lt;int&gt; | PHYSFUN &lt;int&gt; | PSHTDEP &lt;dbl&gt; | SLPDSTRB &lt;int&gt; | SOCFUNC &lt;dbl&gt; | SOCSTRN &lt;int&gt; | SOCSUPP &lt;int&gt; | SYMPTOM &lt;dbl&gt; |\n",
       "|---|---|---|---|---|---|---|---|---|---|---|---|---|---|---|---|---|---|---|---|---|---|\n",
       "| 1 | 220079 | 700001 | 1 | 0 |  -30 | 4 | 4 | 5 | 4 | 5 | ⋯ | NA |  50.0 |  75 |  70 | 0.00173 | 11 | 100.0 | 10 | 41 |      NA |\n",
       "| 2 | 221745 | 700003 | 1 | 0 |   -7 | 4 | 4 | 4 | 4 | 4 | ⋯ | 20 | 100.0 | 100 | 100 | 0.00144 |  1 | 100.0 |  9 | 34 | 0.08824 |\n",
       "| 3 | 215143 | 700004 | 1 | 0 |   -2 | 5 | 4 | 3 | 3 | 3 | ⋯ | 22 |  75.0 | 100 |  80 | 0.00132 |  9 | 100.0 | 10 | 30 | 0.38235 |\n",
       "| 4 | 215143 | 700004 | 2 | 9 | 3102 | 3 | 3 | 2 | 3 | 3 | ⋯ | 19 |  87.5 | 100 |  95 | 0.00173 |  7 | 100.0 |  6 | 26 | 0.26471 |\n",
       "| 5 | 214904 | 700005 | 1 | 0 |  -16 | 3 | 3 | 1 | 3 | 1 | ⋯ | 20 |  75.0 | 100 |  95 | 0.00084 | NA |  87.5 | 19 | 18 | 0.64706 |\n",
       "| 6 | 214904 | 700005 | 2 | 7 | 2465 | 3 | 2 | 1 | 3 | 2 | ⋯ | 25 |  37.5 |   0 |  50 | 0.00144 |  4 | 100.0 |  9 | 19 |      NA |\n",
       "\n"
      ],
      "text/plain": [
       "  dbGaP_Subject_ID SUBJID F37VTYP F37VY F37DAYS LISTEN GOODADVC TAKEDR GOODTIME\n",
       "1 220079           700001 1       0      -30    4      4        5      4       \n",
       "2 221745           700003 1       0       -7    4      4        4      4       \n",
       "3 215143           700004 1       0       -2    5      4        3      3       \n",
       "4 215143           700004 2       9     3102    3      3        2      3       \n",
       "5 214904           700005 1       0      -16    3      3        1      3       \n",
       "6 214904           700005 2       7     2465    3      2        1      3       \n",
       "  HLPPROB ⋯ OPTIMISM PAIN  PHYLIMIT PHYSFUN PSHTDEP SLPDSTRB SOCFUNC SOCSTRN\n",
       "1 5       ⋯ NA        50.0  75       70     0.00173 11       100.0   10     \n",
       "2 4       ⋯ 20       100.0 100      100     0.00144  1       100.0    9     \n",
       "3 3       ⋯ 22        75.0 100       80     0.00132  9       100.0   10     \n",
       "4 3       ⋯ 19        87.5 100       95     0.00173  7       100.0    6     \n",
       "5 1       ⋯ 20        75.0 100       95     0.00084 NA        87.5   19     \n",
       "6 2       ⋯ 25        37.5   0       50     0.00144  4       100.0    9     \n",
       "  SOCSUPP SYMPTOM\n",
       "1 41           NA\n",
       "2 34      0.08824\n",
       "3 30      0.38235\n",
       "4 26      0.26471\n",
       "5 18      0.64706\n",
       "6 19           NA"
      ]
     },
     "metadata": {},
     "output_type": "display_data"
    },
    {
     "data": {
      "text/html": [
       "7209"
      ],
      "text/latex": [
       "7209"
      ],
      "text/markdown": [
       "7209"
      ],
      "text/plain": [
       "[1] 7209"
      ]
     },
     "metadata": {},
     "output_type": "display_data"
    },
    {
     "data": {
      "text/html": [
       "7209"
      ],
      "text/latex": [
       "7209"
      ],
      "text/markdown": [
       "7209"
      ],
      "text/plain": [
       "[1] 7209"
      ]
     },
     "metadata": {},
     "output_type": "display_data"
    },
    {
     "data": {
      "text/html": [
       "1211"
      ],
      "text/latex": [
       "1211"
      ],
      "text/markdown": [
       "1211"
      ],
      "text/plain": [
       "[1] 1211"
      ]
     },
     "metadata": {},
     "output_type": "display_data"
    },
    {
     "data": {
      "text/html": [
       "<table class=\"dataframe\">\n",
       "<caption>A data.frame: 6 × 5</caption>\n",
       "<thead>\n",
       "\t<tr><th></th><th scope=col>SUBJID</th><th scope=col>INCONT</th><th scope=col>TOINCON</th><th scope=col>FRQINCON</th><th scope=col>LEAKAMT</th></tr>\n",
       "\t<tr><th></th><th scope=col>&lt;int&gt;</th><th scope=col>&lt;int&gt;</th><th scope=col>&lt;int&gt;</th><th scope=col>&lt;int&gt;</th><th scope=col>&lt;int&gt;</th></tr>\n",
       "</thead>\n",
       "<tbody>\n",
       "\t<tr><th scope=row>45</th><td>700032</td><td>0</td><td>NA</td><td>NA</td><td>NA</td></tr>\n",
       "\t<tr><th scope=row>46</th><td>700032</td><td>0</td><td>NA</td><td>NA</td><td>NA</td></tr>\n",
       "\t<tr><th scope=row>115</th><td>700078</td><td>1</td><td> 1</td><td> 2</td><td> 2</td></tr>\n",
       "\t<tr><th scope=row>116</th><td>700078</td><td>1</td><td> 1</td><td> 5</td><td> 3</td></tr>\n",
       "\t<tr><th scope=row>135</th><td>700091</td><td>0</td><td>NA</td><td>NA</td><td>NA</td></tr>\n",
       "\t<tr><th scope=row>136</th><td>700091</td><td>1</td><td> 1</td><td> 4</td><td> 2</td></tr>\n",
       "</tbody>\n",
       "</table>\n"
      ],
      "text/latex": [
       "A data.frame: 6 × 5\n",
       "\\begin{tabular}{r|lllll}\n",
       "  & SUBJID & INCONT & TOINCON & FRQINCON & LEAKAMT\\\\\n",
       "  & <int> & <int> & <int> & <int> & <int>\\\\\n",
       "\\hline\n",
       "\t45 & 700032 & 0 & NA & NA & NA\\\\\n",
       "\t46 & 700032 & 0 & NA & NA & NA\\\\\n",
       "\t115 & 700078 & 1 &  1 &  2 &  2\\\\\n",
       "\t116 & 700078 & 1 &  1 &  5 &  3\\\\\n",
       "\t135 & 700091 & 0 & NA & NA & NA\\\\\n",
       "\t136 & 700091 & 1 &  1 &  4 &  2\\\\\n",
       "\\end{tabular}\n"
      ],
      "text/markdown": [
       "\n",
       "A data.frame: 6 × 5\n",
       "\n",
       "| <!--/--> | SUBJID &lt;int&gt; | INCONT &lt;int&gt; | TOINCON &lt;int&gt; | FRQINCON &lt;int&gt; | LEAKAMT &lt;int&gt; |\n",
       "|---|---|---|---|---|---|\n",
       "| 45 | 700032 | 0 | NA | NA | NA |\n",
       "| 46 | 700032 | 0 | NA | NA | NA |\n",
       "| 115 | 700078 | 1 |  1 |  2 |  2 |\n",
       "| 116 | 700078 | 1 |  1 |  5 |  3 |\n",
       "| 135 | 700091 | 0 | NA | NA | NA |\n",
       "| 136 | 700091 | 1 |  1 |  4 |  2 |\n",
       "\n"
      ],
      "text/plain": [
       "    SUBJID INCONT TOINCON FRQINCON LEAKAMT\n",
       "45  700032 0      NA      NA       NA     \n",
       "46  700032 0      NA      NA       NA     \n",
       "115 700078 1       1       2        2     \n",
       "116 700078 1       1       5        3     \n",
       "135 700091 0      NA      NA       NA     \n",
       "136 700091 1       1       4        2     "
      ]
     },
     "metadata": {},
     "output_type": "display_data"
    },
    {
     "data": {
      "text/html": [
       "8420"
      ],
      "text/latex": [
       "8420"
      ],
      "text/markdown": [
       "8420"
      ],
      "text/plain": [
       "[1] 8420"
      ]
     },
     "metadata": {},
     "output_type": "display_data"
    }
   ],
   "source": [
    "length(case_control_c1$SUBJID)\n",
    "length(case_control_c2$SUBJID)\n",
    "head(case_control_c1)\n",
    "\n",
    "case_control_c1_matches <- which(case_control_c1$SUBJID %in% subject_sampleids$SUBJID)\n",
    "case_control_c1_matches_df <- case_control_c1[case_control_c1_matches, c(\"SUBJID\", \"INCONT\", \"TOINCON\", \"FRQINCON\", \"LEAKAMT\")]\n",
    "case_control_c1_matches_df_all_col <- case_control_c1[case_control_c1_matches, ]\n",
    "\n",
    "length(case_control_c1_matches_df$SUBJID)\n",
    "length(case_control_c1_matches_df$SUBJID)\n",
    "\n",
    "case_control_c2_matches <- which(case_control_c2$SUBJID %in% subject_sampleids$SUBJID)\n",
    "case_control_c2_matches_df <- case_control_c2[case_control_c2_matches, c(\"SUBJID\", \"INCONT\", \"TOINCON\", \"FRQINCON\", \"LEAKAMT\")]\n",
    "case_control_c2_matches_df_all_col <- case_control_c2[case_control_c2_matches, ]\n",
    "length(case_control_c2_matches_df$SUBJID)\n",
    "\n",
    "case_control_c1c2_merged <- rbind(case_control_c1_matches_df, case_control_c2_matches_df)\n",
    "case_control_c1c2_merged_all_col <- rbind(case_control_c1_matches_df_all_col, case_control_c2_matches_df_all_col)\n",
    "head(case_control_c1c2_merged)\n",
    "length(case_control_c1c2_merged$SUBJID)\n",
    "\n",
    "outfile <-  \"processing/case_control_c1c2_merged.csv\"\n",
    "outfile2 <-  \"processing/case_control_c1c2_merged_all_col.csv\"\n",
    "write.csv(case_control_c1c2_merged, outfile, quote=F, row.names=F)\n",
    "write.csv(case_control_c1c2_merged_all_col, outfile2, quote=F, row.names=F)"
   ]
  },
  {
   "cell_type": "markdown",
   "id": "77a854e7-2d3e-4cfa-9051-0ce476973b1d",
   "metadata": {
    "tags": []
   },
   "source": [
    "# Genotype QC\n",
    "\n",
    "Update to build 37 from build 36.\n",
    "\n",
    "See the head of the file showing it is in build 36. We also spot checked several variants. We don't know if these data are \n",
    "```\n",
    "head HumanOmni1-Quad_v1-0_B.csv\n",
    "\n",
    "Illumina, Inc.,,,,,,,,,,,,,,,,,,,\n",
    "[Heading],,,,,,,,,,,,,,,,,,,,\n",
    "Descriptor File Name,HumanOmni1-Quad_v1-0_B.bpm,,,,,,,,,,,,,,,,,,,\n",
    "Assay Format,Infinium HD Super,,,,,,,,,,,,,,,,,,,\n",
    "Date Manufactured,6/15/2009,,,,,,,,,,,,,,,,,,,\n",
    "Loci Count ,1140419,,,,,,,,,,,,,,,,,,,\n",
    "[Assay],,,,,,,,,,,,,,,,,,,,\n",
    "IlmnID,Name,IlmnStrand,SNP,AddressA_ID,AlleleA_ProbeSeq,AddressB_ID,AlleleB_ProbeSeq,GenomeBuild,Chr,MapInfo,Ploidy,Species,Source,SourceVersion,SourceStrand,SourceSeq,TopGenomicSeq,BeadSetID,Exp_Clusters,Intensity_Only\n",
    "200006-0_T_R_1526882018,200006,TOP,[A/G],60702346,AGACTGTGGATGAATAATGCTGGTGAGTGTCTGGCCCTCGGGGAGGCCCA,,,36,9,139046223,diploid,Homo sapiens,Unknown,0,BOT,ACATGCCCCACTCAGCGCCACCCCCGTCCTCCCCTCCCAGGTTGCCTAGCTGTCCCCAGC[T/C]TGGGCCTCCCCGAGGGCCAGACACTCACCAGCATTATTCATCCACAGTCTCCCAGGATCA,TGATCCTGGGAGACTGTGGATGAATAATGCTGGTGAGTGTCTGGCCCTCGGGGAGGCCCA[A/G]GCTGGGGACAGCTAGGCAACCTGGGAGGGGAGGACGGGGGTGGCGCTGAGTGGGGCATGT,163,3,0\n",
    "```\n",
    "\n",
    "\n",
    "Information about liftover on PLINK files.\n",
    "https://www.biostars.org/p/252938/"
   ]
  },
  {
   "cell_type": "code",
   "execution_count": null,
   "id": "48d529af-1184-4ca8-9f78-979ef2d1f3b2",
   "metadata": {},
   "outputs": [],
   "source": [
    "mkdir -p ~/rti-shared/shared_data/pre_qc/whi_garnet/genotype/array/observed/0001/{c1,c2}\n",
    "\n",
    "# download genotype data and array info\n",
    "cd ~/rti-shared/shared_data/pre_qc/whi_garnet/genotype/array/observed/0001/c1\n",
    "aws s3 cp s3://rti-common/dbGaP/phs000315_whi_garnet/PhenoGenotypeFiles/ChildStudyConsentSet_phs000315.WHI.v8.p3.c1.HMB-IRB/GenotypeFiles/phg000139.v1.GARNET_WHI.genotype-calls-matrixfmt.c1.HMB-IRB.tar .\n",
    "aws s3 cp s3://rti-common/dbGaP/phs000315_whi_garnet/PhenoGenotypeFiles/ChildStudyConsentSet_phs000315.WHI.v8.p3.c1.HMB-IRB/GenotypeFiles/phg000139.v1.GARNET_WHI.marker-info.MULTI.tar .\n",
    "\n",
    "cd ~/rti-shared/shared_data/pre_qc/whi_garnet/genotype/array/observed/0001/c2\n",
    "aws s3 cp s3://rti-common/dbGaP/phs000315_whi_garnet/PhenoGenotypeFiles/ChildStudyConsentSet_phs000315.WHI.v8.p3.c2.HMB-IRB-NPU/GenotypeFiles/phg000139.v1.GARNET_WHI.genotype-calls-matrixfmt.c2.HMB-IRB-NPU.tar .\n",
    "aws s3 cp s3://rti-common/dbGaP/phs000315_whi_garnet/PhenoGenotypeFiles/ChildStudyConsentSet_phs000315.WHI.v8.p3.c2.HMB-IRB-NPU/GenotypeFiles/phg000139.v1.GARNET_WHI.marker-info.MULTI.tar .\n",
    "\n",
    "# get SNP intersection see the following:\n",
    "# s3://rti-shared/shared_data/pre_qc/uhs1234/genotype/array/observed/0001/20210331_uhs1234_pre_qc_preparation.html\n",
    "\n",
    "\n",
    "# unarchive\n",
    "cd ../c1\n",
    "tar -xvf phg000139.v1.GARNET_WHI.genotype-calls-matrixfmt.c1.HMB-IRB.tar\n",
    "tar -xvf phg000139.v1.GARNET_WHI.marker-info.MULTI.tar\n",
    "\n",
    "cd ../c2\n",
    "tar -xvf phg000139.v1.GARNET_WHI.genotype-calls-matrixfmt.c2.HMB-IRB-NPU.tar\n",
    "tar -xvf phg000139.v1.GARNET_WHI.marker-info.MULTI.tar\n",
    "\n",
    "# get genotype array chip info\n",
    "cd ../\n",
    "ls c1/phg000139.v1.GARNET_WHI.marker-info.MULTI #HumanOmni1-Quad_v1-0_B.csv  README_SNP-info.txt\n",
    "ls c2/phg000139.v1.GARNET_WHI.marker-info.MULTI #HumanOmni1-Quad_v1-0_B.csv  README_SNP-info.txt\n",
    "\n",
    "# download the flip file from \n",
    "cd ~/rti-shared/shared_data/pre_qc/whi_garnet/genotype/array/observed/0001/\n",
    "wget https://www.well.ox.ac.uk/~wrayner/strand/HumanOmni1-Quad_v1-0_B-b36-strand.zip\n",
    "unzip HumanOmni1-Quad_v1-0_B-b36-strand.zip\n",
    "\n",
    "## download strand updating tool\n",
    "wget https://www.well.ox.ac.uk/~wrayner/strand/update_build.sh"
   ]
  },
  {
   "cell_type": "markdown",
   "id": "17d2e2a1-cbcd-44a6-aecb-9570a174ad09",
   "metadata": {},
   "source": [
    "## LiftOver"
   ]
  },
  {
   "cell_type": "markdown",
   "id": "301addee-c9d7-45c9-aefb-18b16a7236d3",
   "metadata": {},
   "source": [
    "### consent group1"
   ]
  },
  {
   "cell_type": "code",
   "execution_count": null,
   "id": "98c50e0b-fff6-4165-9c61-a66e088563be",
   "metadata": {},
   "outputs": [],
   "source": [
    "cd /home/ec2-user/rti-shared/shared_data/pre_qc/whi_garnet/genotype/array/observed/0001/c1/phg000139.v1.GARNET_WHI.genotype-calls-matrixfmt.c1/sample_level_unfiltered_PLINK_set/\n",
    "\n",
    "# convert to PED/MAP format\n",
    "mkdir liftover/\n",
    "docker run -v $PWD:/data/ -it rtibiocloud/plink:v1.9_178bb91 plink \\\n",
    "    --bfile /data/GARNET_WHI_TOP_sample_level_c1 \\\n",
    "    --recode \\\n",
    "    --out /data/liftover/garnet_whi_c1\n",
    "\n",
    "# download database and script\n",
    "#wget https://raw.githubusercontent.com/Shicheng-Guo/Gscutility/master/ibdqc.pl\n",
    "# apply liftOverPlink.py to update hg18 to hg19 or hg38\n",
    "mkdir liftOver\n",
    "python ~/bin/liftover/liftOverPlink.py \\\n",
    "    -m liftOver/garnet_whi_c1.map \\\n",
    "    -p liftOver/garnet_whi_c1.ped \\\n",
    "    -o liftOver/garnet_whi_c1_hg19 \\\n",
    "    -c ~/bin/liftover/hg18ToHg19.over.chain.gz \\\n",
    "    -e ~/bin/liftover/liftOver\n",
    "\n",
    "#Converting MAP file to UCSC BED file...\n",
    "#SUCC:  map->bed succ\n",
    "#Lifting BED file...\n",
    "#Reading liftover chains\n",
    "#Mapping coordinates\n",
    "#SUCC:  liftBed succ\n",
    "#Converting lifted BED file back to MAP...\n",
    "#SUCC:  bed->map succ\n",
    "#Updating PED file...\n",
    "#jSUCC:  liftPed succ\n",
    "#cleaning up BED files...\n",
    "\n",
    "# convert back to bed/bim/fam\n",
    "cd /home/ec2-user/rti-shared/shared_data/pre_qc/whi_garnet/genotype/array/observed/0001/c1/phg000139.v1.GARNET_WHI.genotype-calls-matrixfmt.c1/sample_level_unfiltered_PLINK_set/liftOver\n",
    "docker run -v $PWD:/data/ -it rtibiocloud/plink:v1.9_178bb91 plink \\\n",
    "    --file /data/garnet_whi_c1_hg19 \\\n",
    "    --make-bed \\\n",
    "    --out /data/garnet_whi_c1_hg19"
   ]
  },
  {
   "cell_type": "markdown",
   "id": "0c2066d9-8e1f-430e-825a-d13ce81444ab",
   "metadata": {},
   "source": [
    "### consent group2"
   ]
  },
  {
   "cell_type": "code",
   "execution_count": null,
   "id": "6dac2f71-30d7-4317-a9c4-aae893302503",
   "metadata": {},
   "outputs": [],
   "source": [
    "cd /home/ec2-user/rti-shared/shared_data/pre_qc/whi_garnet/genotype/array/observed/0001/c2/phg000139.v1.GARNET_WHI.genotype-calls-matrixfmt.c2/sample_level_unfiltered_PLINK_set/\n",
    "gunzip GARNET*\n",
    "\n",
    "# convert bed/bim/fam to PED/MAP format\n",
    "mkdir liftover/\n",
    "docker run -v $PWD:/data/ -it rtibiocloud/plink:v1.9_178bb91 plink \\\n",
    "    --bfile /data/GARNET_WHI_TOP_sample_level_c2 \\\n",
    "    --recode \\\n",
    "    --out /data/liftover/garnet_whi_c2\n",
    "\n",
    "# download database and script\n",
    "#wget https://raw.githubusercontent.com/Shicheng-Guo/Gscutility/master/ibdqc.pl\n",
    "# apply liftOverPlink.py to update hg18 to hg19 or hg38\n",
    "python ~/bin/liftover/liftOverPlink.py \\\n",
    "    -m liftover/garnet_whi_c2.map \\\n",
    "    -p liftover/garnet_whi_c2.ped \\\n",
    "    -o liftover/garnet_whi_c2_hg19 \\\n",
    "    -c ~/bin/liftover/hg18ToHg19.over.chain.gz \\\n",
    "    -e ~/bin/liftover/liftOver\n",
    "\n",
    "#Converting MAP file to UCSC BED file...\n",
    "#SUCC:  map->bed succ\n",
    "#Lifting BED file...\n",
    "#Reading liftover chains\n",
    "#Mapping coordinates\n",
    "#SUCC:  liftBed succ\n",
    "#Converting lifted BED file back to MAP...\n",
    "#SUCC:  bed->map succ\n",
    "#Updating PED file...\n",
    "#jSUCC:  liftPed succ\n",
    "#cleaning up BED files...\n",
    "\n",
    "# convert back to bed/bim/fam\n",
    "cd /home/ec2-user/rti-shared/shared_data/pre_qc/whi_garnet/genotype/array/observed/0001/c2/phg000139.v1.GARNET_WHI.genotype-calls-matrixfmt.c2/sample_level_unfiltered_PLINK_set/liftover\n",
    "docker run -v $PWD:/data/ -it rtibiocloud/plink:v1.9_178bb91 plink \\\n",
    "    --file /data/garnet_whi_c2_hg19 \\\n",
    "    --make-bed \\\n",
    "    --out /data/garnet_whi_c2_hg19"
   ]
  },
  {
   "cell_type": "markdown",
   "id": "b649d772-c9c4-42f0-8e22-df2522cb8c55",
   "metadata": {},
   "source": [
    "## Strand testing\n",
    "Need to convert to forward strand. We don't know exactly which strand orientation it is currently because it is not explicitly stated. Could be in TOP, Illum, or Source. We will test these three different flips and align with a reference file to see which creates the best alignment. "
   ]
  },
  {
   "cell_type": "code",
   "execution_count": null,
   "id": "3ac6b957-6377-4688-8c25-7ef41768bea1",
   "metadata": {},
   "outputs": [],
   "source": [
    "# download these files\n",
    "cd /home/ec2-user/rti-shared/shared_data/pre_qc/whi_garnet/genotype/array/observed/0001/\n",
    "wget https://www.well.ox.ac.uk/~wrayner/strand/HumanOmni1-Quad_v1-0_B-b37-strand.zip\n",
    "wget https://www.well.ox.ac.uk/~wrayner/strand/sourceStrand/HumanOmni1-Quad_v1-0_B-b37.Source.strand.zip\n",
    "wget https://www.well.ox.ac.uk/~wrayner/strand/ilmnStrand/HumanOmni1-Quad_v1-0_B-b37.Ilmn.strand.zip\n",
    "#s3://rti-common/chip_info/HumanOmni1-Quad_v1-0_B/\n",
    "gunzip *zip\n",
    "\n",
    "wget https://www.well.ox.ac.uk/~wrayner/strand/update_build.sh\n",
    "\n",
    "# use python code from:\n",
    "#https://github.com/RTIInternational/biocloud_docker_tools/blob/master/check_strand/v1/check_strand.py\n",
    "\n",
    "# download reference legend file\n",
    "aws s3 cp s3://rti-common/ref_panels/1000G/2014.10/legend_with_chr/1000GP_Phase3_chr1.legend.gz .\n"
   ]
  },
  {
   "cell_type": "code",
   "execution_count": null,
   "id": "e7917764-574d-4047-8fdd-e10e24c08f6c",
   "metadata": {},
   "outputs": [],
   "source": [
    "# apply flip with different stand orientations to discover which orientation our data is in\n",
    "cd /home/ec2-user/rti-shared/shared_data/pre_qc/whi_garnet/genotype/array/observed/0001/\n",
    "\n",
    "# interactive session\n",
    "docker run -it -v $PWD:/data/ rtibiocloud/plink:v1.9_178bb91 bash\n",
    "\n",
    "cd /data/\n",
    "\n",
    "#Required parameters:\n",
    "#1. The original bed stem (not including file extension suffix)\n",
    "#2. The strand file to apply\n",
    "#3. The new stem for output\n",
    "\n",
    "\n",
    "## c1\n",
    "orig=c1/phg000139.v1.GARNET_WHI.genotype-calls-matrixfmt.c1/sample_level_unfiltered_PLINK_set/liftOver/garnet_whi_c1_hg19\n",
    "\n",
    "# TOP strand\n",
    "strand=HumanOmni1-Quad_v1-0_B-b37.strand\n",
    "new_stem=c1/phg000139.v1.GARNET_WHI.genotype-calls-matrixfmt.c1/sample_level_unfiltered_PLINK_set/liftOver/garnet_whi_c1_hg19_top_strand_flipped\n",
    "bash update_build.sh $orig $strand $new_stem\n",
    "\n",
    "# Source strand\n",
    "strand=HumanOmni1-Quad_v1-0_B-b37.Source.strand\n",
    "new_stem=c1/phg000139.v1.GARNET_WHI.genotype-calls-matrixfmt.c1/sample_level_unfiltered_PLINK_set/liftOver/garnet_whi_c1_hg19_source_strand_flipped\n",
    "bash update_build.sh $orig $strand $new_stem\n",
    "\n",
    "# Illumina strand\n",
    "strand=HumanOmni1-Quad_v1-0_B-b37.Ilmn.strand\n",
    "new_stem=c1/phg000139.v1.GARNET_WHI.genotype-calls-matrixfmt.c1/sample_level_unfiltered_PLINK_set/liftOver/garnet_whi_c1_hg19_ilum_strand_flipped\n",
    "bash update_build.sh $orig $strand $new_stem\n",
    "\n",
    "\n",
    "\n",
    "## c2\n",
    "orig=c2/phg000139.v1.GARNET_WHI.genotype-calls-matrixfmt.c2/sample_level_unfiltered_PLINK_set/liftover/garnet_whi_c2_hg19\n",
    "\n",
    "# TOP strand\n",
    "strand=HumanOmni1-Quad_v1-0_B-b37.strand\n",
    "new_stem=c2/phg000139.v1.GARNET_WHI.genotype-calls-matrixfmt.c2/sample_level_unfiltered_PLINK_set/liftover/garnet_whi_c2_hg19_top_strand_flipped\n",
    "bash update_build.sh $orig $strand $new_stem\n",
    "\n",
    "# Source strand\n",
    "strand=HumanOmni1-Quad_v1-0_B-b37.Source.strand\n",
    "new_stem=c2/phg000139.v1.GARNET_WHI.genotype-calls-matrixfmt.c2/sample_level_unfiltered_PLINK_set/liftover/garnet_whi_c2_hg19_source_strand_flipped\n",
    "bash update_build.sh $orig $strand $new_stem\n",
    "\n",
    "# Illumina strand\n",
    "strand=HumanOmni1-Quad_v1-0_B-b37.Ilmn.strand\n",
    "new_stem=c2/phg000139.v1.GARNET_WHI.genotype-calls-matrixfmt.c2/sample_level_unfiltered_PLINK_set/liftover/garnet_whi_c2_hg19_ilum_strand_flipped\n",
    "bash update_build.sh $orig $strand $new_stem"
   ]
  },
  {
   "cell_type": "markdown",
   "id": "ffde5bfb-5113-419d-94aa-bfb4f856ea78",
   "metadata": {},
   "source": [
    "### consent group1\n",
    "As you can see from the code below, our results were originally in TOP strand orientation. \n",
    "We flip them to forward strand."
   ]
  },
  {
   "cell_type": "code",
   "execution_count": null,
   "id": "5b9a576a-e645-45bc-9014-96889897f060",
   "metadata": {},
   "outputs": [],
   "source": [
    "# No strand flip\n",
    "python3 check_strand.py \\\n",
    "    --bim c1/phg000139.v1.GARNET_WHI.genotype-calls-matrixfmt.c1/sample_level_unfiltered_PLINK_set/liftOver/garnet_whi_c1_hg19.bim \\\n",
    "    --ref 1000GP_Phase3_chr1.legend.gz\n",
    "\n",
    "#94456 variants in bim on chromosomes in ref\n",
    "#75132 non-A/T, non-C/G, non-monomorphic variants in common with reference\n",
    "#37259 plus strand variants\n",
    "#37873 non-plus strand variants fixed by strand flip\n",
    "\n",
    "\n",
    "# TOP strand flip\n",
    "python3 check_strand.py \\\n",
    "    --bim c1/phg000139.v1.GARNET_WHI.genotype-calls-matrixfmt.c1/sample_level_unfiltered_PLINK_set/liftOver/garnet_whi_c1_hg19_top_strand_flipped.bim \\\n",
    "    --ref 1000GP_Phase3_chr1.legend.gz\n",
    "\n",
    "#92340 variants in bim on chromosomes in ref\n",
    "#74994 non-A/T, non-C/G, non-monomorphic variants in common with reference\n",
    "#74992 plus strand variants\n",
    "#2 non-plus strand variants fixed by strand flip\n",
    "\n",
    "\n",
    "# Source strand flip\n",
    "python3 check_strand.py \\\n",
    "    --bim c1/phg000139.v1.GARNET_WHI.genotype-calls-matrixfmt.c1/sample_level_unfiltered_PLINK_set/liftOver/garnet_whi_c1_hg19_source_strand_flipped.bim \\\n",
    "    --ref 1000GP_Phase3_chr1.legend.gz\n",
    "\n",
    "#92340 variants in bim on chromosomes in ref\n",
    "#74994 non-A/T, non-C/G, non-monomorphic variants in common with reference\n",
    "#37375 plus strand variants\n",
    "#37619 non-plus strand variants fixed by strand flip\n",
    "\n",
    "\n",
    "# Illumina strand flip\n",
    "python3 check_strand.py \\\n",
    "    --bim c1/phg000139.v1.GARNET_WHI.genotype-calls-matrixfmt.c1/sample_level_unfiltered_PLINK_set/liftOver/garnet_whi_c1_hg19_ilum_strand_flipped.bim \\\n",
    "    --ref 1000GP_Phase3_chr1.legend.gz\n",
    "\n",
    "#92340 variants in bim on chromosomes in ref\n",
    "#74994 non-A/T, non-C/G, non-monomorphic variants in common with reference\n",
    "#38708 plus strand variants\n",
    "#36286 non-plus strand variants fixed by strand flip\n"
   ]
  },
  {
   "cell_type": "code",
   "execution_count": null,
   "id": "be48f8f9-664b-4ef9-affd-c015bdd7ba9a",
   "metadata": {},
   "outputs": [],
   "source": [
    "# upload the TOP strand flipped results to S3\n",
    "cd /home/ec2-user/rti-shared/shared_data/pre_qc/whi_garnet/genotype/array/observed/0001/c1/phg000139.v1.GARNET_WHI.genotype-calls-matrixfmt.c1/sample_level_unfiltered_PLINK_set/liftOver\n",
    "gzip *\n",
    "\n",
    "for ext in {bed,bim,fam}; do\n",
    "    aws s3 cp garnet_whi_c1_hg19_top_strand_flipped.$ext.gz \\\n",
    "    s3://rti-shared/shared_data/pre_qc/phs000315_whi_garnet/genotype/array/observed/0001/c1/garnet_whi_c1_hg19_forward_strand.$ext.gz\n",
    "done"
   ]
  },
  {
   "cell_type": "markdown",
   "id": "c66bb715-57f9-4012-9f0f-96334c555b09",
   "metadata": {},
   "source": [
    "### consent group2\n",
    "As you can see from the code below, our results were originally in TOP strand orientation. \n",
    "We flip them to forward strand."
   ]
  },
  {
   "cell_type": "code",
   "execution_count": null,
   "id": "71c9e4fd-6166-4b8c-a593-1c528d2d3c8f",
   "metadata": {},
   "outputs": [],
   "source": [
    "# no stand flip\n",
    "python3 check_strand.py \\\n",
    "    --bim c2/phg000139.v1.GARNET_WHI.genotype-calls-matrixfmt.c2/sample_level_unfiltered_PLINK_set/liftover/garnet_whi_c2_hg19.bim \\\n",
    "    --ref 1000GP_Phase3_chr1.legend.gz\n",
    "\n",
    "#94456 variants in bim on chromosomes in ref\n",
    "#74918 non-A/T, non-C/G, non-monomorphic variants in common with reference\n",
    "#37139 plus strand variants\n",
    "#37779 non-plus strand variants fixed by strand flip\n",
    "\n",
    "\n",
    "# TOP strand flip\n",
    "python3 check_strand.py \\\n",
    "    --bim c2/phg000139.v1.GARNET_WHI.genotype-calls-matrixfmt.c2/sample_level_unfiltered_PLINK_set/liftover/garnet_whi_c2_hg19_top_strand_flipped.bim \\\n",
    "    --ref 1000GP_Phase3_chr1.legend.gz\n",
    "\n",
    "#92340 variants in bim on chromosomes in ref\n",
    "#74780 non-A/T, non-C/G, non-monomorphic variants in common with reference\n",
    "#74778 plus strand variants\n",
    "#2 non-plus strand variants fixed by strand flip\n",
    "\n",
    "\n",
    "# Source strand flip\n",
    "python3 check_strand.py \\\n",
    "    --bim c2/phg000139.v1.GARNET_WHI.genotype-calls-matrixfmt.c2/sample_level_unfiltered_PLINK_set/liftover/garnet_whi_c2_hg19_source_strand_flipped.bim \\\n",
    "    --ref 1000GP_Phase3_chr1.legend.gz\n",
    "\n",
    "#92340 variants in bim on chromosomes in ref\n",
    "#74780 non-A/T, non-C/G, non-monomorphic variants in common with reference\n",
    "#37258 plus strand variants\n",
    "#37522 non-plus strand variants fixed by strand flip\n",
    "\n",
    "\n",
    "# Illumina strand flip\n",
    "python3 check_strand.py \\\n",
    "    --bim c2/phg000139.v1.GARNET_WHI.genotype-calls-matrixfmt.c2/sample_level_unfiltered_PLINK_set/liftover/garnet_whi_c2_hg19_ilum_strand_flipped.bim \\\n",
    "    --ref 1000GP_Phase3_chr1.legend.gz\n",
    "# 92340 variants in bim on chromosomes in ref\n",
    "#74780 non-A/T, non-C/G, non-monomorphic variants in common with reference\n",
    "#38604 plus strand variants\n",
    "#36176 non-plus strand variants fixed by strand flip"
   ]
  },
  {
   "cell_type": "code",
   "execution_count": null,
   "id": "f8280070-b129-4af2-be5e-779ddf499e8b",
   "metadata": {},
   "outputs": [],
   "source": [
    "# upload the TOP strand flipped results to S3\n",
    "cd /home/ec2-user/rti-shared/shared_data/pre_qc/whi_garnet/genotype/array/observed/0001/c2/phg000139.v1.GARNET_WHI.genotype-calls-matrixfmt.c2/sample_level_unfiltered_PLINK_set/liftover/\n",
    "gzip *\n",
    "\n",
    "for ext in {bed,bim,fam}; do\n",
    "    aws s3 cp garnet_whi_c2_hg19_top_strand_flipped.$ext.gz \\\n",
    "    s3://rti-shared/shared_data/pre_qc/phs000315_whi_garnet/genotype/array/observed/0001/c2/garnet_whi_c2_hg19_forward_strand.$ext.gz\n",
    "done\n"
   ]
  },
  {
   "cell_type": "markdown",
   "id": "8db46fcc-3baf-4df5-a64b-c87083f60bee",
   "metadata": {},
   "source": [
    "## Submit Workflow"
   ]
  },
  {
   "cell_type": "markdown",
   "id": "c0eeda77-0f64-4c38-8d8a-77c926775c3d",
   "metadata": {},
   "source": [
    "### consent group1"
   ]
  },
  {
   "cell_type": "code",
   "execution_count": null,
   "id": "a59f4a40-1139-49d2-82bb-fa5182b3003a",
   "metadata": {},
   "outputs": [],
   "source": [
    "# create directories\n",
    "mkdir -p ~/rti-shared/shared_data/post_qc/phs000315_whi_garnet/genotype/array/observed/0001/c1/{wf_input,wf_output}\n",
    "\n",
    "# Set up config file for QC pipeline (use vim to modify)\n",
    "cd ~/rti-shared/shared_data/post_qc/phs000315_whi_garnet/genotype/array/observed/0001/c1/wf_input\n",
    "\n",
    "# Zip biocloud_gwas_workflows repo\n",
    "cd ~/\n",
    "git clone --recursive https://github.com/RTIInternational/biocloud_gwas_workflows\n",
    "cd biocloud_gwas_workflows/\n",
    "git rev-parse HEAD > ~/rti-shared/shared_data/post_qc/phs000315_whi_garnet/genotype/array/observed/0001/c1/wf_input/git_hash.txt\n",
    "cd ~/\n",
    "zip \\\n",
    "    --exclude=*/var/* \\\n",
    "    --exclude=*.git/* \\\n",
    "    --exclude=*/test/* \\\n",
    "    --exclude=*/.idea/* \\\n",
    "    -r ~/rti-shared/shared_data/post_qc/phs000315_whi_garnet/genotype/array/observed/0001/c1/wf_input/biocloud_gwas_workflows.zip \\\n",
    "    biocloud_gwas_workflows/\n",
    "\n",
    "\n",
    "# submit job\n",
    "# Open session in terminal 1\n",
    "ssh -i ~/.ssh/cromwell.pem -L localhost:8000:localhost:8000 ec2-user@54.208.171.34\n",
    "\n",
    "cd ~/rti-shared/shared_data/post_qc/phs000315_whi_garnet/genotype/array/observed/0001/c1/wf_output/\n",
    "# Submit job in terminal 2\n",
    "curl -X POST \"http://localhost:8000/api/workflows/v1\" -H \"accept: application/json\" \\\n",
    "    -F \"workflowSource=@/home/ec2-user/rti-shared/shared_data/post_qc/phs000315_whi_garnet/genotype/array/observed/0001/c1/wf_input/biocloud_gwas_workflows/genotype_array_qc/genotype_array_qc_wf.wdl\" \\\n",
    "    -F \"workflowInputs=@/home/ec2-user/rti-shared/shared_data/post_qc/phs000315_whi_garnet/genotype/array/observed/0001/c1/wf_input/whi_garnet_c1_genotype_qc.json\" \\\n",
    "    -F \"workflowDependencies=@/home/ec2-user/rti-shared/shared_data/post_qc/phs000315_whi_garnet/genotype/array/observed/0001/c1/wf_input/biocloud_gwas_workflows.zip\" \\\n",
    "    -F \"workflowOptions=@/home/ec2-user/bin/cromwell/gpp_fellows_fund_charge_code.json\" >> job_id.txt\n",
    "\n",
    "job=1cabfce6-b5e2-41df-80bc-fada997d41fc   # 89972960-2496-44ad-aa35-4793e2ff6ca6   65f4f2d6-89d6-45bf-90e6-f6834ba78416  d3586901-8d23-48b4-8f13-c13cd2eb000d   274b9c04-a1bb-4d83-8289-e253130fa617  32a94998-6485-4b1c-b0ba-25d79dca146a\n",
    "\n",
    "# check job status in terminal 2\n",
    "curl -X GET \"http://localhost:8000/api/workflows/v1/$job/status\"   \n",
    "\n",
    "# Monitor job in terminal 1\n",
    "tail -f /tmp/cromwell-server.log\n",
    "\n"
   ]
  },
  {
   "cell_type": "markdown",
   "id": "2964503e-f317-4206-8c38-1f021761989d",
   "metadata": {},
   "source": [
    "#### final outputs"
   ]
  },
  {
   "cell_type": "code",
   "execution_count": null,
   "id": "68f7c989-9c12-43ec-8f54-4177808cb94b",
   "metadata": {},
   "outputs": [],
   "source": [
    "cd /home/ec2-user/rti-shared/shared_data/post_qc/phs000315_whi_garnet/genotype/array/observed/0001/c1/wf_output/\n",
    "echo $job # to verify you have the correct job ID saved in variable \"job\"\n",
    "\n",
    "# Download output from Swagger UI.\n",
    "curl -X GET \"http://localhost:8000/api/workflows/v1/$job/outputs\" -H \"accept: application/json\" \\\n",
    "  > ${job}_final_outputs.json\n",
    "\n",
    "# Copy final outputs json to S3\n",
    "aws s3 cp ${job}_final_outputs.json \\\n",
    "    s3://rti-shared/shared_data/post_qc/phs000315_whi_garnet/genotype/array/observed/0001/c1/wf_output/\n",
    "\n",
    "# Copy final qc files from cromwell-output to final location\n",
    "python - <<EOF\n",
    "import json\n",
    "import os\n",
    "import re\n",
    "\n",
    "job = \"$job\"\n",
    "dir = \"rti-shared/shared_data/post_qc/phs000315_whi_garnet/genotype/array/observed/0001/c1\" # no / at end\n",
    "study = \"whi_garnet_c1\"\n",
    "\n",
    "def traverse(o, tree_types=(list, tuple)):\n",
    "    if isinstance(o, tree_types):\n",
    "        for value in o:\n",
    "            for subvalue in traverse(value, tree_types):\n",
    "                yield subvalue\n",
    "    else:\n",
    "        yield o\n",
    "\n",
    "with open(job + '_final_outputs.json') as f:\n",
    "    outputs = json.load(f)\n",
    "    outputs = outputs[\"outputs\"]\n",
    "    for key in outputs:\n",
    "        if (type(outputs[key]) == list):\n",
    "            for value in traverse(outputs[key]):\n",
    "                if (str(value)[0:2] == \"s3\"):\n",
    "                    message = \"aws s3 cp {} s3://{}/wf_output/\".format(value, dir)\n",
    "                    os.system(message)\n",
    "        else:\n",
    "            if (str(outputs[key])[0:2] == \"s3\"):\n",
    "                message = \"aws s3 cp {} s3://{}/wf_output/\".format(outputs[key], dir)\n",
    "                os.system(message)\n",
    "\n",
    "# Move and rename final genotype plink file set\n",
    "with open(job + '_final_outputs.json') as f:\n",
    "    outputs = json.load(f)\n",
    "    outputs = outputs[\"outputs\"]\n",
    "    for ext in [\"bed\", \"bim\", \"fam\"]:\n",
    "        final = \"genotype_array_qc_wf.final_qc_{}\".format(ext)\n",
    "        for original in outputs[final]:\n",
    "            fileName = re.sub(r'.+/', '', original)\n",
    "            new = re.sub(r'whi_garnet_c1.YRI.+\\.', 'afr/whi_garnet_c1.', fileName)\n",
    "            new = re.sub(r'whi_garnet_c1.CEU.+\\.', 'eur/whi_garnet_c1.', new)\n",
    "            new = re.sub(r'whi_garnet_c1.CHB.+\\.', 'amr/whi_garnet_c1.', new)\n",
    "            final = \"s3://{}/wf_output/{}\".format(dir, new)\n",
    "            os.system(\"aws s3 cp {} {}\".format(original, final))\n",
    "\n",
    "EOF\n",
    "\n",
    "\n",
    "# make final-results folder\n",
    "for ancestry in {afr,amr,eur}; do\n",
    "    aws s3 cp s3://rti-shared/shared_data/post_qc/phs000315_whi_garnet/genotype/array/observed/0001/c1/wf_output/$ancestry/ \\\n",
    "      s3://rti-shared/shared_data/post_qc/phs000315_whi_garnet/genotype/array/observed/0001/c1/final/$ancestry/ \\\n",
    "    --recursive\n",
    "done\n",
    "\n",
    "aws s3 mv . s3://rti-cannabis/shared_data/post_qc/gulf/genotype/array/observed/0002/wf_output/ \\\n",
    "  --recursive \n",
    "\n"
   ]
  },
  {
   "cell_type": "markdown",
   "id": "f35cabc7-aa5c-4688-b89c-26fc45acdf49",
   "metadata": {},
   "source": [
    "#### create summary stats table"
   ]
  },
  {
   "cell_type": "code",
   "execution_count": null,
   "id": "2ccec64e-d404-4538-9a56-b2854acd5cba",
   "metadata": {},
   "outputs": [],
   "source": [
    "### Python3\n",
    "import json\n",
    "import re\n",
    "\n",
    "infile = \"1cabfce6-b5e2-41df-80bc-fada997d41fc_final_outputs.json\"\n",
    "\n",
    "with open(infile) as f:\n",
    "    data = json.load(f)\n",
    "    data = data[\"outputs\"]\n",
    "    \n",
    "    initial_list = [\"genotype_array_qc_wf.init_samples\", \n",
    "                    \"genotype_array_qc_wf.init_snps\",\n",
    "                    \"genotype_array_qc_wf.duplicate_snps\",\n",
    "                    \"genotype_array_qc_wf.structure_unclassified_samples\"]\n",
    "    \n",
    "    final_list = [\"genotype_array_qc_wf.structure_samples_by_ancestry\",\n",
    "                  \"genotype_array_qc_wf.failed_sex_check_by_ancestry\",\n",
    "                  \"genotype_array_qc_wf.related_samples_by_ancestry\",\n",
    "                  \"genotype_array_qc_wf.hwe_failed_snps_by_ancestry\",\n",
    "                  \"genotype_array_qc_wf.low_call_snps_by_ancestry\",\n",
    "                  \"genotype_array_qc_wf.low_call_samples_by_ancestry\",\n",
    "                  \"genotype_array_qc_wf.unaccounted_samples_by_ancestry\",\n",
    "                  \"genotype_array_qc_wf.excess_homo_samples_by_ancestry\",\n",
    "                  \"genotype_array_qc_wf.total_removed_samples_by_ancestry\",\n",
    "                  \"genotype_array_qc_wf.total_removed_snps_by_ancestry\",\n",
    "                  \"genotype_array_qc_wf.pct_pass_samples_by_ancestry\",\n",
    "                  \"genotype_array_qc_wf.pct_pass_snps_by_ancestry\",\n",
    "                  \"genotype_array_qc_wf.final_qc_snps_by_ancestry\",\n",
    "                  \"genotype_array_qc_wf.final_qc_samples_by_ancestry\"]\n",
    "    \n",
    "    # Print to screen initial_list results\n",
    "    for item in initial_list:\n",
    "        result = data[item]\n",
    "        item = re.sub(r'^.+\\.', '', item)\n",
    "        line = \"{}\\t{}\".format(item, result)\n",
    "        print(line)\n",
    "    \n",
    "    print(\"\\n\\n\")\n",
    "    \n",
    "    # Print to screen final_list results\n",
    "    for item in final_list:\n",
    "        result = data[item]\n",
    "        if type(data[item]) == list:\n",
    "            result = \"\\t\".join(map(str,result))\n",
    "        item = re.sub(r'^.+\\.', '', item)\n",
    "        line = \"{}\\t{}\\n\".format(item, result)\n",
    "        print(line.strip())     "
   ]
  },
  {
   "cell_type": "markdown",
   "id": "7b5c21f9-2efd-4c6d-8b7a-9169810427a4",
   "metadata": {},
   "source": [
    "```\n",
    "init_samples    3761\n",
    "init_snps       1077599\n",
    "duplicate_snps  67\n",
    "structure_unclassified_samples  2\n",
    "\n",
    "\n",
    "\n",
    "structure_samples_by_ancestry   190     3446    123\n",
    "failed_sex_check_by_ancestry    0       0       0\n",
    "related_samples_by_ancestry     0       28      0\n",
    "hwe_failed_snps_by_ancestry     156     1964    939\n",
    "low_call_snps_by_ancestry       127088  124039  125714\n",
    "low_call_samples_by_ancestry    0       0       0\n",
    "unaccounted_samples_by_ancestry 0       0       0\n",
    "excess_homo_samples_by_ancestry 0       0       0\n",
    "total_removed_samples_by_ancestry       0       28      0\n",
    "total_removed_snps_by_ancestry  127311  126070  126720\n",
    "pct_pass_samples_by_ancestry    1.0     0.991874637261  1.0\n",
    "pct_pass_snps_by_ancestry       0.881856794596  0.883008428924  0.882405236085\n",
    "final_qc_snps_by_ancestry       950288  951529  950879\n",
    "final_qc_samples_by_ancestry    190     3418    123\n",
    "```"
   ]
  },
  {
   "cell_type": "markdown",
   "id": "f0ed3615-1d15-4a18-8f9f-866fdc15cd9a",
   "metadata": {},
   "source": [
    "### consent group2"
   ]
  },
  {
   "cell_type": "code",
   "execution_count": null,
   "id": "69919ce8-1ec5-416f-b717-15f7d10f20b1",
   "metadata": {},
   "outputs": [],
   "source": [
    "# create directories\n",
    "mkdir -p ~/rti-shared/shared_data/post_qc/phs000315_whi_garnet/genotype/array/observed/0001/c2/{wf_input,wf_output}\n",
    "\n",
    "# Set up config file for QC pipeline (use vim to modify)\n",
    "cd ~/rti-shared/shared_data/post_qc/phs000315_whi_garnet/genotype/array/observed/0001/c2/wf_input\n",
    "\n",
    "# Zip biocloud_gwas_workflows repo\n",
    "cd ~/\n",
    "git clone --recursive https://github.com/RTIInternational/biocloud_gwas_workflows\n",
    "cd biocloud_gwas_workflows/\n",
    "git rev-parse HEAD > ~/rti-shared/shared_data/post_qc/phs000315_whi_garnet/genotype/array/observed/0001/c2/wf_input/git_hash.txt\n",
    "cd ~/\n",
    "zip \\\n",
    "    --exclude=*/var/* \\\n",
    "    --exclude=*.git/* \\\n",
    "    --exclude=*/test/* \\\n",
    "    --exclude=*/.idea/* \\\n",
    "    -r ~/rti-shared/shared_data/post_qc/phs000315_whi_garnet/genotype/array/observed/0001/c2/wf_input/biocloud_gwas_workflows.zip \\\n",
    "    biocloud_gwas_workflows/\n",
    "\n",
    "\n",
    "# submit job\n",
    "# Open session in terminal 1\n",
    "ssh -i ~/.ssh/cromwell.pem -L localhost:8000:localhost:8000 ec2-user@54.208.171.34\n",
    "\n",
    "cd ~/rti-shared/shared_data/post_qc/phs000315_whi_garnet/genotype/array/observed/0001/c2/wf_output/\n",
    "# Submit job in terminal 2\n",
    "curl -X POST \"http://localhost:8000/api/workflows/v1\" -H \"accept: application/json\" \\\n",
    "    -F \"workflowSource=@/home/ec2-user/rti-shared/shared_data/post_qc/phs000315_whi_garnet/genotype/array/observed/0001/c2/wf_input/genotype_array_qc_wf.wdl\" \\\n",
    "    -F \"workflowInputs=@/home/ec2-user/rti-shared/shared_data/post_qc/phs000315_whi_garnet/genotype/array/observed/0001/c2/wf_input/whi_garnet_c2_genotype_qc.json\" \\\n",
    "    -F \"workflowDependencies=@/home/ec2-user/rti-shared/shared_data/post_qc/phs000315_whi_garnet/genotype/array/observed/0001/c2/wf_input/biocloud_gwas_workflows.zip\" \\\n",
    "    -F \"workflowOptions=@/home/ec2-user/bin/cromwell/gpp_fellows_fund_charge_code.json\" >> job_id.txt\n",
    "\n",
    "job=a42858b6-c746-4a15-a4bc-0a21a37e0ddb  #32b48384-9f9b-4a80-af99-8a82c70e0888   714d4863-0ed9-4ce4-9863-8ad4deeef952    59974f8e-32f1-48e5-9e34-7eea22ef8cdf\n",
    "\n",
    "# check job status in terminal 2\n",
    "curl -X GET \"http://localhost:8000/api/workflows/v1/$job/status\"   \n"
   ]
  },
  {
   "cell_type": "markdown",
   "id": "12eb8db1-1449-4b8f-926d-bc2b472bd04f",
   "metadata": {},
   "source": [
    "#### Using new workflow\n",
    "Has docker as a variable."
   ]
  },
  {
   "cell_type": "code",
   "execution_count": null,
   "id": "f3224241-673e-44af-a136-71dc6335d442",
   "metadata": {},
   "outputs": [],
   "source": [
    "cd ~/rti-shared/shared_data/post_qc/phs000315_whi_garnet/genotype/array/observed/0001/c2/wf_input/\n",
    "git clone -b sex-check-optional --recursive https://github.com/RTIInternational/biocloud_gwas_workflows/\n",
    "\n",
    "\n",
    "# Set up config file for QC pipeline (use vim to modify)\n",
    "\n",
    "cd biocloud_gwas_workflows\n",
    "git submodule foreach --recursive git checkout master\n",
    "git rev-parse HEAD > ../git_hash.txt\n",
    "cd ../\n",
    "zip \\\n",
    "    --exclude=*/var/* \\\n",
    "    --exclude=*.git/* \\\n",
    "    --exclude=*/test/* \\\n",
    "    --exclude=*/.idea/* \\\n",
    "    -r ~/rti-shared/shared_data/post_qc/phs000315_whi_garnet/genotype/array/observed/0001/c2/wf_input/biocloud_gwas_workflows.zip \\\n",
    "    biocloud_gwas_workflows/\n",
    "\n",
    "\n",
    "# submit job\n",
    "# Open session in terminal 1\n",
    "ssh -i ~/.ssh/cromwell.pem -L localhost:8000:localhost:8000 ec2-user@54.208.171.34\n",
    "\n",
    "cd ~/rti-shared/shared_data/post_qc/phs000315_whi_garnet/genotype/array/observed/0001/c2/wf_output/\n",
    "# Submit job in terminal 2\n",
    "curl -X POST \"http://localhost:8000/api/workflows/v1\" -H \"accept: application/json\" \\\n",
    "    -F \"workflowSource=@/home/ec2-user/rti-shared/shared_data/post_qc/phs000315_whi_garnet/genotype/array/observed/0001/c2/wf_input/biocloud_gwas_workflows/genotype_array_qc/genotype_array_qc_wf.wdl\" \\\n",
    "    -F \"workflowInputs=@/home/ec2-user/rti-shared/shared_data/post_qc/phs000315_whi_garnet/genotype/array/observed/0001/c2/wf_input/whi_garnet_c2_genotype_qc.json\" \\\n",
    "    -F \"workflowDependencies=@/home/ec2-user/rti-shared/shared_data/post_qc/phs000315_whi_garnet/genotype/array/observed/0001/c2/wf_input/biocloud_gwas_workflows.zip\" \\\n",
    "    -F \"workflowOptions=@/home/ec2-user/bin/cromwell/gpp_fellows_fund_charge_code.json\" >> job_id.txt\n",
    "\n",
    "job=68fb04a4-878a-4d83-9bba-95e6bb082b3c\n",
    "\n",
    "# check job status in terminal 2\n",
    "curl -X GET \"http://localhost:8000/api/workflows/v1/$job/status\"   "
   ]
  },
  {
   "cell_type": "code",
   "execution_count": null,
   "id": "3c95bca4-09a0-419c-9418-31b7a100ce91",
   "metadata": {},
   "outputs": [],
   "source": []
  },
  {
   "cell_type": "markdown",
   "id": "3c22ec4f-dd17-4156-a8ee-1cfb83584bd5",
   "metadata": {},
   "source": [
    "#### final outputs"
   ]
  },
  {
   "cell_type": "code",
   "execution_count": null,
   "id": "ad5caa9d-5371-4661-8e6c-64a08c83434f",
   "metadata": {},
   "outputs": [],
   "source": [
    "cd /home/ec2-user/rti-shared/shared_data/post_qc/phs000315_whi_garnet/genotype/array/observed/0001/c2/wf_output/\n",
    "echo $job # to verify you have the correct job ID saved in variable \"job\"\n",
    "\n",
    "# Download output from Swagger UI.\n",
    "curl -X GET \"http://localhost:8000/api/workflows/v1/$job/outputs\" -H \"accept: application/json\" \\\n",
    "  > ${job}_final_outputs.json\n",
    "\n",
    "# Copy final outputs json to S3\n",
    "aws s3 cp ${job}_final_outputs.json \\\n",
    "    s3://rti-shared/shared_data/post_qc/phs000315_whi_garnet/genotype/array/observed/0001/c2/wf_output/\n",
    "\n",
    "# Copy final qc files from cromwell-output to final location\n",
    "python - <<EOF\n",
    "import json\n",
    "import os\n",
    "import re\n",
    "\n",
    "job = \"$job\"\n",
    "dir = \"rti-shared/shared_data/post_qc/phs000315_whi_garnet/genotype/array/observed/0001/c2\" # no / at end\n",
    "study = \"whi_garnet_c2\"\n",
    "\n",
    "def traverse(o, tree_types=(list, tuple)):\n",
    "    if isinstance(o, tree_types):\n",
    "        for value in o:\n",
    "            for subvalue in traverse(value, tree_types):\n",
    "                yield subvalue\n",
    "    else:\n",
    "        yield o\n",
    "\n",
    "with open(job + '_final_outputs.json') as f:\n",
    "    outputs = json.load(f)\n",
    "    outputs = outputs[\"outputs\"]\n",
    "    for key in outputs:\n",
    "        if (type(outputs[key]) == list):\n",
    "            for value in traverse(outputs[key]):\n",
    "                if (str(value)[0:2] == \"s3\"):\n",
    "                    message = \"aws s3 cp {} s3://{}/wf_output/\".format(value, dir)\n",
    "                    os.system(message)\n",
    "        else:\n",
    "            if (str(outputs[key])[0:2] == \"s3\"):\n",
    "                message = \"aws s3 cp {} s3://{}/wf_output/\".format(outputs[key], dir)\n",
    "                os.system(message)\n",
    "\n",
    "# Move and rename final genotype plink file set\n",
    "with open(job + '_final_outputs.json') as f:\n",
    "    outputs = json.load(f)\n",
    "    outputs = outputs[\"outputs\"]\n",
    "    for ext in [\"bed\", \"bim\", \"fam\"]:\n",
    "        final = \"genotype_array_qc_wf.final_qc_{}\".format(ext)\n",
    "        for original in outputs[final]:\n",
    "            fileName = re.sub(r'.+/', '', original)\n",
    "            new = re.sub(r'whi_garnet_c2.YRI.+\\.', 'afr/whi_garnet_c2.', fileName)\n",
    "            new = re.sub(r'whi_garnet_c2.CEU.+\\.', 'eur/whi_garnet_c2.', new)\n",
    "            new = re.sub(r'whi_garnet_c2.CHB.+\\.', 'amr/whi_garnet_c2.', new)\n",
    "            final = \"s3://{}/wf_output/{}\".format(dir, new)\n",
    "            os.system(\"aws s3 cp {} {}\".format(original, final))\n",
    "\n",
    "EOF\n",
    "\n",
    "\n",
    "# make final-results folder\n",
    "for ancestry in {afr,amr,eur}; do\n",
    "    aws s3 cp s3://rti-shared/shared_data/post_qc/phs000315_whi_garnet/genotype/array/observed/0001/c2/wf_output/$ancestry/ \\\n",
    "      s3://rti-shared/shared_data/post_qc/phs000315_whi_garnet/genotype/array/observed/0001/c2/final/$ancestry/ \\\n",
    "    --recursive\n",
    "done\n",
    "\n"
   ]
  },
  {
   "cell_type": "markdown",
   "id": "499a43a7-5e7d-4704-a1a3-0a01c6d08965",
   "metadata": {},
   "source": [
    "#### create summary stats table"
   ]
  },
  {
   "cell_type": "code",
   "execution_count": null,
   "id": "936150f9-4306-4e4f-a5fe-d217e7079d82",
   "metadata": {},
   "outputs": [],
   "source": [
    "### Python3\n",
    "import json\n",
    "import re\n",
    "\n",
    "infile = \"1cabfce6-b5e2-41df-80bc-fada997d41fc_final_outputs.json\"\n",
    "\n",
    "with open(infile) as f:\n",
    "    data = json.load(f)\n",
    "    data = data[\"outputs\"]\n",
    "    \n",
    "    initial_list = [\"genotype_array_qc_wf.init_samples\", \n",
    "                    \"genotype_array_qc_wf.init_snps\",\n",
    "                    \"genotype_array_qc_wf.duplicate_snps\",\n",
    "                    \"genotype_array_qc_wf.structure_unclassified_samples\"]\n",
    "    \n",
    "    final_list = [\"genotype_array_qc_wf.structure_samples_by_ancestry\",\n",
    "                  \"genotype_array_qc_wf.failed_sex_check_by_ancestry\",\n",
    "                  \"genotype_array_qc_wf.related_samples_by_ancestry\",\n",
    "                  \"genotype_array_qc_wf.hwe_failed_snps_by_ancestry\",\n",
    "                  \"genotype_array_qc_wf.low_call_snps_by_ancestry\",\n",
    "                  \"genotype_array_qc_wf.low_call_samples_by_ancestry\",\n",
    "                  \"genotype_array_qc_wf.unaccounted_samples_by_ancestry\",\n",
    "                  \"genotype_array_qc_wf.excess_homo_samples_by_ancestry\",\n",
    "                  \"genotype_array_qc_wf.total_removed_samples_by_ancestry\",\n",
    "                  \"genotype_array_qc_wf.total_removed_snps_by_ancestry\",\n",
    "                  \"genotype_array_qc_wf.pct_pass_samples_by_ancestry\",\n",
    "                  \"genotype_array_qc_wf.pct_pass_snps_by_ancestry\",\n",
    "                  \"genotype_array_qc_wf.final_qc_snps_by_ancestry\",\n",
    "                  \"genotype_array_qc_wf.final_qc_samples_by_ancestry\"]\n",
    "    \n",
    "    # Print to screen initial_list results\n",
    "    for item in initial_list:\n",
    "        result = data[item]\n",
    "        item = re.sub(r'^.+\\.', '', item)\n",
    "        line = \"{}\\t{}\".format(item, result)\n",
    "        print(line)\n",
    "    \n",
    "    print(\"\\n\\n\")\n",
    "    \n",
    "    # Print to screen final_list results\n",
    "    for item in final_list:\n",
    "        result = data[item]\n",
    "        if type(data[item]) == list:\n",
    "            result = \"\\t\".join(map(str,result))\n",
    "        item = re.sub(r'^.+\\.', '', item)\n",
    "        line = \"{}\\t{}\\n\".format(item, result)\n",
    "        print(line.strip())     "
   ]
  },
  {
   "cell_type": "markdown",
   "id": "6f9e17f2-03c2-4272-bdbc-33a9794d057d",
   "metadata": {},
   "source": [
    "```\n",
    "init_samples    1168\n",
    "init_snps       1077599\n",
    "duplicate_snps  67\n",
    "structure_unclassified_samples  2\n",
    "\n",
    "\n",
    "\n",
    "structure_samples_by_ancestry   119     993     54\n",
    "failed_sex_check_by_ancestry    0       0       0\n",
    "related_samples_by_ancestry     3       11      0\n",
    "hwe_failed_snps_by_ancestry     116     786     175\n",
    "low_call_snps_by_ancestry       128387  124133  127834\n",
    "low_call_samples_by_ancestry    0       0       0\n",
    "unaccounted_samples_by_ancestry 0       0       0\n",
    "excess_homo_samples_by_ancestry 0       0       0\n",
    "total_removed_samples_by_ancestry       3       11      0\n",
    "total_removed_snps_by_ancestry  128570  124986  128076\n",
    "pct_pass_samples_by_ancestry    0.974789915966  0.9889224572    1.0\n",
    "pct_pass_snps_by_ancestry       0.880688456467  0.884014368981  0.881146883024\n",
    "final_qc_snps_by_ancestry       949029  952613  949523\n",
    "final_qc_samples_by_ancestry    116     982     54\n",
    "```"
   ]
  },
  {
   "cell_type": "markdown",
   "id": "f1a3aee8-cd60-48d4-a53a-2170bbfa6e0a",
   "metadata": {},
   "source": [
    "# Pre-imputation"
   ]
  },
  {
   "cell_type": "code",
   "execution_count": null,
   "id": "cb1a5895-740e-4d96-b653-6a361c27ec56",
   "metadata": {},
   "outputs": [],
   "source": [
    "## Prepare analysis environment\n",
    "\n",
    "# parameters\n",
    "base_dir=~/rti-shared/shared_data/post_qc/phs000315_whi_garnet/genotype/array/observed/0001/processing # DO NOT end in forward slash\n",
    "ancestry_list=\"eur\" # space delimited Ex. \"eur afr amr\"\n",
    "study_list=\"whi_garnet_c1 whi_garnet_c2 \" \n",
    "\n",
    "\n",
    "# create directory structure\n",
    "mkdir -p ${base_dir}/{intersect,1000g,impute_prep}\n",
    "for study in ${study_list};do\n",
    "    mkdir -p ${base_dir}/${study}/strand_check\n",
    "    for ancestry in ${ancestry_list};do\n",
    "        mkdir -p ${base_dir}/${study}/genotype/${ancestry}\n",
    "    done\n",
    "done\n",
    "\n",
    "## download reference files\n",
    "mkdir -p ~/rti-common/ref_panels/1000G/2014.10/legend_with_chr/dbsnp_b153_ids/\n",
    "cd ~/rti-common/ref_panels/1000G/2014.10/legend_with_chr/dbsnp_b153_ids/\n",
    "aws s3 cp /shared/rti-common/ref_panels/1000G/2014.10/legend_with_chr/dbsnp_b153_ids/1000GP_Phase3.legend.gz .\n",
    "\n",
    "\n",
    "## Download post-qc genotype data (bed,bim,fam) to the appropriate directory structure\n",
    "aws s3 sync s3://rti-shared/shared_data/post_qc/phs000315_whi_garnet/genotype/array/observed/0001/c1/final/$ancestry/ \\\n",
    "    ${base_dir}/whi_garnet_c1/genotype/$ancestry/\n",
    "aws s3 sync s3://rti-shared/shared_data/post_qc/phs000315_whi_garnet/genotype/array/observed/0001/c2/final/$ancestry/ \\\n",
    "    ${base_dir}/whi_garnet_c2/genotype/$ancestry/\n",
    "    \n",
    "\n",
    "## REMAME TO CORRECT NAMING SCHEMA <study_ancestry.$extension> \n",
    "for study in ${study_list}; do\n",
    "    for ancestry in ${ancestry_list}; do\n",
    "        for ext in {bed,bim,fam}; do\n",
    "            mv ${base_dir}/$study/genotype/$ancestry/${study}.$ext \\\n",
    "                ${base_dir}/$study/genotype/$ancestry/${study}_${ancestry}.$ext\n",
    "        done\n",
    "    done\n",
    "done\n",
    "\n",
    "## unzip the Plink files if necessary\n",
    "\n"
   ]
  },
  {
   "cell_type": "code",
   "execution_count": null,
   "id": "63d02c31-d32f-4062-a454-bc0c21d367f0",
   "metadata": {},
   "outputs": [],
   "source": [
    "#Run the following script on each of the sets of study data, then combine.\n",
    "#https://github.com/RTIInternational/bioinformatics/blob/master/software/python/prepare_imputation_input.py\n",
    "\n",
    "\n",
    "## Perform pre-imputation processing\n",
    "for study in $study_list; do\n",
    "      group=$(echo $ancestry | perl -ne 'print uc($_);')\n",
    "      docker run -v /home/ec2-user/rti-common/ref_panels/1000G/2014.10/legend_with_chr/dbsnp_b153_ids/:/data/rti-common/ref_panels/1000G/2014.10/legend_with_chr/dbsnp_b153_ids/ \\\n",
    "             -v ${base_dir}:/data/ \\\n",
    "             -it rtibiocloud/prepare_imputation_input:v1.0_5a37578 \\\n",
    "        python3 /opt/prepare_imputation_input.py \\\n",
    "          --bfile /data/$study/genotype/$ancestry/${study}_${ancestry} \\\n",
    "          --ref /data/rti-common/ref_panels/1000G/2014.10/legend_with_chr/dbsnp_b153_ids/1000GP_Phase3.legend.gz \\\n",
    "          --ref_group $group \\\n",
    "          --freq_diff_threshold 0.2 \\\n",
    "          --out_prefix /data/$study/genotype/$ancestry/${study}_imputation_ready \\\n",
    "          --working_dir /data/$study/genotype/$ancestry/ \\\n",
    "          --plink /opt/plink \\\n",
    "          --bgzip /opt/bgzip \\\n",
    "          --bgzip_threads 4 \\\n",
    "          --keep_plink True \\\n",
    "          --cohort $study\n",
    "done\n",
    "\n",
    "#Calculating study frequencies\n",
    "#Reading study frequencies\n",
    "#Reading ref\n",
    "#Comparing study and ref\n",
    "#Generating files for imputation.\n",
    "#951529 variants in study\n",
    "#907852 variants overlap with ref\n",
    "#2953 A/T and C/G variants with MAF > 0.4 or freq difference compared to ref > 0.2 (excluded in output)\n",
    "#57 non-plus strand variants (flipped in output)\n",
    "\n",
    "#Calculating study frequencies\n",
    "#Reading study frequencies\n",
    "#Reading ref\n",
    "#Comparing study and ref\n",
    "#Generating files for imputation.\n",
    "#952613 variants in study\n",
    "#906321 variants overlap with ref\n",
    "#2945 A/T and C/G variants with MAF > 0.4 or freq difference compared to ref > 0.2 (excluded in output)\n",
    "#57 non-plus strand variants (flipped in output)"
   ]
  },
  {
   "cell_type": "code",
   "execution_count": null,
   "id": "27e19a42-459c-4f3e-b444-026028838cab",
   "metadata": {},
   "outputs": [],
   "source": [
    "## remove monomorphic variants\n",
    "for study in ${study_list}; do\n",
    "    docker run -it -v ${base_dir}:/data/  rtibiocloud/plink:v1.9_178bb91 \\\n",
    "    plink \\\n",
    "      --noweb \\\n",
    "      --bfile /data/$study/genotype/$ancestry/${study}_imputation_ready \\\n",
    "      --maf 0.000001 \\\n",
    "      --make-bed \\\n",
    "      --out /data/$study/genotype/$ancestry/${study}_imputation_ready_filtered_mono\n",
    "done\n",
    "\n",
    "wc -l ${base_dir}/*/genotype/eur/*mono.bim\n",
    "#  896301 /home/ec2-user/rti-shared/shared_data/post_qc/phs000315_whi_garnet/genotype/array/observed/0001/processing/whi_garnet_c1/genotype/eur/whi_garnet_c1_imputation_ready_filtered_mono.bim\n",
    "#  866015 /home/ec2-user/rti-shared/shared_data/post_qc/phs000315_whi_garnet/genotype/array/observed/0001/processing/whi_garnet_c2/genotype/eur/whi_garnet_c2_imputation_ready_filtered_mono.bim\n",
    "\n",
    "\n",
    "# Get list of variants from all studies\n",
    "studies=($study_list)  #array of study names\n",
    "num=${#studies[@]}\n",
    "\n",
    "## Get intersection set\n",
    "for ancestry in ${ancestry_list};do\n",
    "  bim_files=()\n",
    "  for (( i=0; i<${num}; i++ ));do\n",
    "      bim_files+=(${base_dir}/${studies[$i]}/genotype/$ancestry/${studies[$i]}_imputation_ready_filtered_mono.bim)\n",
    "  done\n",
    "\n",
    "  \n",
    "  echo -e \"\\nCalculating intersection between $ancestry: ${study_list}...\\n\"\n",
    "  cat ${bim_files[@]}| cut -f2 | sort |  uniq -c | awk -v num=$num '$1 == num {print $2}' \\\n",
    "      > ${base_dir}/intersect/${ancestry}_variant_intersection.txt\n",
    "  wc -l ${base_dir}/intersect/${ancestry}_variant_intersection.txt\n",
    "done \n",
    "    \n",
    "    #Calculating intersection between eur: whi_garnet_c1 whi_garnet_c2 ...\n",
    "#859919 /home/ec2-user/rti-shared/shared_data/post_qc/phs000315_whi_garnet/genotype/array/observed/0001/processing/intersect/eur_variant_intersection.txt    \n",
    "    \n",
    "    \n",
    "# Make new PLINK binary file sets\n",
    "for ancestry in ${ancestry_list};do\n",
    "  for study in ${studies[@]}; do\n",
    "      docker run -v \"${base_dir}/:/data/\" rtibiocloud/plink:v2.0_4d3bad3 plink2 \\\n",
    "          --bfile /data/$study/genotype/${ancestry}/${study}_imputation_ready_filtered_mono \\\n",
    "          --extract /data/intersect/${ancestry}_variant_intersection.txt \\\n",
    "          --make-bed \\\n",
    "          --out /data/intersect/${study}_${ancestry}_snp_intersection\n",
    "  done\n",
    "done\n",
    "  \n",
    "ww $base_dir/intersect/*section.txt\n",
    "# 859919 /home/ec2-user/rti-shared/shared_data/post_qc/phs000315_whi_garnet/genotype/array/observed/0001/processing/intersect/eur_variant_intersection.txt\n",
    "    "
   ]
  },
  {
   "cell_type": "code",
   "execution_count": null,
   "id": "fbebf697-cc55-428d-bfa2-985f85549cae",
   "metadata": {},
   "outputs": [],
   "source": [
    "# Merge Data Sets\n",
    "# As a final check to confirm that our data sets are all compatible, \n",
    "# A PLINK file set merge is conducted. If any issues persist then an error will be raised.\n",
    "\n",
    "## create merge list\n",
    "for ancestry in $ancestry_list; do\n",
    "  echo \"Creating $ancestry merge-list\"\n",
    "  truncate -s 0 ${base_dir}/intersect/${ancestry}_merge_list.txt\n",
    "  for study in $study_list; do\n",
    "      echo /data/${study}_${ancestry}_snp_intersection >>\\\n",
    "      ${base_dir}/intersect/${ancestry}_merge_list.txt\n",
    "  done\n",
    "  \n",
    "# Merge file sets\n",
    "  echo -e \"\\n\\n======== ${ancestry} ========\\n\\n\"\n",
    "  docker run -v \"${base_dir}/intersect:/data/\" rtibiocloud/plink:v1.9_178bb91 plink \\\n",
    "      --merge-list /data/${ancestry}_merge_list.txt \\\n",
    "      --make-bed \\\n",
    "      --out /data/${ancestry}_studies_merged\n",
    "done\n",
    "\n",
    "wc -l $base_dir/intersect/*merged*bim\n",
    "# 859919 /home/ec2-user/rti-shared/shared_data/post_qc/phs000315_whi_garnet/genotype/array/observed/0001/processing/intersect/eur_studies_merged.bim"
   ]
  },
  {
   "cell_type": "code",
   "execution_count": null,
   "id": "e2c9d858-1d56-4d0a-921e-2f0556a6c3f8",
   "metadata": {},
   "outputs": [],
   "source": [
    "## Split by chromosome and remove any individuals with missing data for whole chr\n",
    "for ancestry in $ancestry_list; do\n",
    "  for chr in {1..22}; do\n",
    "      # Remove SNPs\n",
    "      docker run -v \"${base_dir}/:/data/\" rtibiocloud/plink:v1.9_178bb91 plink \\\n",
    "          --bfile /data/intersect/${ancestry}_studies_merged \\\n",
    "          --chr ${chr} \\\n",
    "          --mind 0.99 \\\n",
    "          --make-bed \\\n",
    "          --out /data/impute_prep/${ancestry}_studies_merged_chr${chr}_for_phasing \n",
    "  done > ${base_dir}/impute_prep/chr_splitting.log \n",
    "done\n",
    "\n",
    "for ancestry in $ancestry_list; do\n",
    "  grep removed ${base_dir}/impute_prep/${ancestry}*log |\n",
    "      perl -lne '/(\\d+)(\\speople)/;\n",
    "           $mycount += $1; \n",
    "           print $mycount if eof'  > ${base_dir}/$ancestry.removed\n",
    "  any_removed=$(cat ${base_dir}/${ancestry}.removed)\n",
    "  if [ \"$any_removed\" == 0 ]; then\n",
    "      echo \"No $ancestry samples removed\"\n",
    "  else\n",
    "      echo \"Some $ancestry samples removed\"\n",
    "  fi\n",
    "done\n",
    "\n",
    "#No eur samples removed\n",
    "\n",
    "cat *removed\n",
    "\n",
    "## remove those samples from each chromosome\n",
    "#for ancestry in $ancestry_list; do\n",
    "#  for chr in {1..23}; do\n",
    "#      # Remove samples\n",
    "#      docker run -v \"${base_dir}/:/data/\" rtibiocloud/plink:v1.9_178bb91 plink \\\n",
    "#          --bfile /data/impute_prep/${ancestry}_studies_merged_chr${chr}_for_phasing \\\n",
    "#          --remove /data/impute_prep/${ancestry}_studies_merged_chr23_for_phasing.irem \\\n",
    "#          --make-bed \\\n",
    "#          --out /data/impute_prep/${ancestry}_studies_merged_chr${chr}_for_phasing_removed_missing \n",
    "#  done \n",
    "#done\n",
    "  \n",
    "## convert to VCF\n",
    "study=whi_garnet_c1c2\n",
    "for chr in {1..22}; do\n",
    "  for ancestry in ${ancestry_list}; do\n",
    "      final_dir=${base_dir}/impute_prep/${ancestry}/\n",
    "      mkdir $final_dir\n",
    "      docker run -v \"${base_dir}/:/data/\" rtibiocloud/plink:v1.9_178bb91 plink \\\n",
    "          --noweb \\\n",
    "          --bfile /data/impute_prep/${ancestry}_studies_merged_chr${chr}_for_phasing \\\n",
    "          --output-chr M \\\n",
    "          --set-hh-missing \\\n",
    "          --recode vcf bgz \\\n",
    "          --out /data/impute_prep/$ancestry/${study}_${ancestry}_chr${chr}_final\n",
    "  done\n",
    "done "
   ]
  },
  {
   "cell_type": "code",
   "execution_count": null,
   "id": "e77f35ff-d5e5-4437-b9c8-e7f0e91d7d72",
   "metadata": {},
   "outputs": [],
   "source": [
    "## upload to S3\n",
    "\n",
    "# imputation input\n",
    "cd /home/ec2-user/rti-shared/shared_data/post_qc/phs000315_whi_garnet/genotype/array/observed/0001/processing/impute_prep/eur/\n",
    "aws s3 mv . s3://rti-shared/shared_data/post_qc/phs000315_whi_garnet/genotype/array/imputed/minimac4_eagle2.4/topmed_r2/0001/eur/input/ \\\n",
    "    --recursive\n",
    "\n",
    "## merged observed data\n",
    "cd /home/ec2-user/rti-shared/shared_data/post_qc/phs000315_whi_garnet/genotype/array/observed/0001/processing/intersect/\n",
    "for ext in {bed,bim,fam}; do\n",
    "    aws s3 cp eur_studies_merged.$ext s3://rti-shared/shared_data/post_qc/phs000315_whi_garnet/genotype/array/observed/0001/c1c2_merged/final/whi_garnet_c1c2_eur.$ext\n",
    "done"
   ]
  },
  {
   "cell_type": "code",
   "execution_count": 3,
   "id": "1994dab5-3faf-4580-9862-1630077c77ac",
   "metadata": {},
   "outputs": [
    {
     "data": {
      "text/html": [
       "<table class=\"dataframe\">\n",
       "<caption>A matrix: 2 × 2 of type chr</caption>\n",
       "<tbody>\n",
       "\t<tr><td>apples    </td><td>oranges and pears and bananas</td></tr>\n",
       "\t<tr><td>pineapples</td><td>mangos and guavas            </td></tr>\n",
       "</tbody>\n",
       "</table>\n"
      ],
      "text/latex": [
       "A matrix: 2 × 2 of type chr\n",
       "\\begin{tabular}{ll}\n",
       "\t apples     & oranges and pears and bananas\\\\\n",
       "\t pineapples & mangos and guavas            \\\\\n",
       "\\end{tabular}\n"
      ],
      "text/markdown": [
       "\n",
       "A matrix: 2 × 2 of type chr\n",
       "\n",
       "| apples     | oranges and pears and bananas |\n",
       "| pineapples | mangos and guavas             |\n",
       "\n"
      ],
      "text/plain": [
       "     [,1]       [,2]                         \n",
       "[1,] apples     oranges and pears and bananas\n",
       "[2,] pineapples mangos and guavas            "
      ]
     },
     "metadata": {},
     "output_type": "display_data"
    }
   ],
   "source": [
    "library(\"stringr\")                       # Load stringr package\n",
    "# NOT RUN {\n",
    "fruits <- c(\n",
    "  \"apples and oranges and pears and bananas\",\n",
    "  \"pineapples and mangos and guavas\"\n",
    ")\n",
    "\n",
    "#str_split(fruits, \" and \")\n",
    "#str_split(fruits, \" and \", simplify = TRUE)\n",
    "\n",
    "# Specify n to restrict the number of possible matches\n",
    "#str_split(fruits, \" and \", n = 3)\n",
    "#str_split(fruits, \" and \", n = 2)\n",
    "## If n greater than number of pieces, no padding occurs\n",
    "#str_split(fruits, \" and \", n = 5)\n",
    "\n",
    "# Use fixed to return a character matrix\n",
    "str_split_fixed(fruits, \" and \", 2)\n",
    "#str_split_fixed(fruits, \" and \", 4)\n",
    "# }"
   ]
  },
  {
   "cell_type": "code",
   "execution_count": 10,
   "id": "7bae62f5-3b0f-4ce8-84c2-3340712a1150",
   "metadata": {},
   "outputs": [
    {
     "data": {
      "text/html": [
       "<table class=\"dataframe\">\n",
       "<caption>A data.frame: 6 × 2</caption>\n",
       "<thead>\n",
       "\t<tr><th></th><th scope=col>fid</th><th scope=col>iid</th></tr>\n",
       "\t<tr><th></th><th scope=col>&lt;chr&gt;</th><th scope=col>&lt;chr&gt;</th></tr>\n",
       "</thead>\n",
       "<tbody>\n",
       "\t<tr><th scope=row>1</th><td>111000103</td><td>391350</td></tr>\n",
       "\t<tr><th scope=row>2</th><td>111000112</td><td>594602</td></tr>\n",
       "\t<tr><th scope=row>3</th><td>111000135</td><td>305714</td></tr>\n",
       "\t<tr><th scope=row>4</th><td>111000143</td><td>203913</td></tr>\n",
       "\t<tr><th scope=row>5</th><td>111000168</td><td>540927</td></tr>\n",
       "\t<tr><th scope=row>6</th><td>111000176</td><td>189409</td></tr>\n",
       "</tbody>\n",
       "</table>\n"
      ],
      "text/latex": [
       "A data.frame: 6 × 2\n",
       "\\begin{tabular}{r|ll}\n",
       "  & fid & iid\\\\\n",
       "  & <chr> & <chr>\\\\\n",
       "\\hline\n",
       "\t1 & 111000103 & 391350\\\\\n",
       "\t2 & 111000112 & 594602\\\\\n",
       "\t3 & 111000135 & 305714\\\\\n",
       "\t4 & 111000143 & 203913\\\\\n",
       "\t5 & 111000168 & 540927\\\\\n",
       "\t6 & 111000176 & 189409\\\\\n",
       "\\end{tabular}\n"
      ],
      "text/markdown": [
       "\n",
       "A data.frame: 6 × 2\n",
       "\n",
       "| <!--/--> | fid &lt;chr&gt; | iid &lt;chr&gt; |\n",
       "|---|---|---|\n",
       "| 1 | 111000103 | 391350 |\n",
       "| 2 | 111000112 | 594602 |\n",
       "| 3 | 111000135 | 305714 |\n",
       "| 4 | 111000143 | 203913 |\n",
       "| 5 | 111000168 | 540927 |\n",
       "| 6 | 111000176 | 189409 |\n",
       "\n"
      ],
      "text/plain": [
       "  fid       iid   \n",
       "1 111000103 391350\n",
       "2 111000112 594602\n",
       "3 111000135 305714\n",
       "4 111000143 203913\n",
       "5 111000168 540927\n",
       "6 111000176 189409"
      ]
     },
     "metadata": {},
     "output_type": "display_data"
    }
   ],
   "source": [
    "# Read PC file, split IDs, and update column names\n",
    "pcs = read.table(\n",
    "    \"/Users/jmarks/Downloads/tmp_whi_pcs.txt\",\n",
    "    skip=1\n",
    ")\n",
    "#head(pcs)\n",
    "split_ids = as.data.frame(str_split_fixed(pcs$V1, \":\", 2))\n",
    "colnames(split_ids) = c(\"fid\", \"iid\")\n",
    "pc_names = paste0(\"PC\", 1:10)\n",
    "colnames(pcs) = c(\"ID\", pc_names, \"TRASH\")\n",
    "#pcs = cbind(split_ids, pcs[2:11])\n",
    "head(split_ids)"
   ]
  },
  {
   "cell_type": "code",
   "execution_count": null,
   "id": "93711198-c7b1-430b-8728-c0262b2d74e6",
   "metadata": {},
   "outputs": [],
   "source": [
    "# Extract PCs and convert back to original IDs\n",
    "outFile=/shared/rti-hiv/scratch/gwas/vidus/data/vllog10_mean/0002/phenotype/eur/vidus_ld_pruned.evecs\n",
    "echo -e \"fid\\tPC1\\tPC2\\tPC3\\tPC4\\tPC5\\tPC6\\tPC7\\tPC8\\tPC9\\tPC10\" > $outFile\n",
    "tail -n +2 /shared/rti-hiv/scratch/gwas/vidus/data/vllog10_mean/0002/phenotype/eur/vidus_ld_pruned.pca.evec |\n",
    "    perl -lne '\n",
    "        BEGIN {\n",
    "            %xref = ();\n",
    "            open(XREF, \"/shared/rti-hiv/scratch/gwas/vidus/data/vllog10_mean/0002/phenotype/'eur'/id_xref.tsv\");\n",
    "            while (<XREF>) {\n",
    "                chomp;\n",
    "                @fields = split(/\\s/);\n",
    "                $xref{$fields[2]} = $fields[0].\"_\".$fields[1];\n",
    "            }\n",
    "            close XREF;\n",
    "        }\n",
    "        s/:/ /;\n",
    "        @F=split;\n",
    "        $id = $xref{$F[0]};\n",
    "        print join(\"\\t\", $id, @F[2 .. 11]);\n",
    "    ' >> $outFile"
   ]
  },
  {
   "cell_type": "markdown",
   "id": "66f7eba6-963b-43b4-b336-21116f25dd1a",
   "metadata": {},
   "source": [
    "# Download imputed genotype data"
   ]
  },
  {
   "cell_type": "code",
   "execution_count": null,
   "id": "9620d451-9737-4f17-a801-36aaff3d5de0",
   "metadata": {},
   "outputs": [],
   "source": [
    "# QC Statistics\n",
    "curl -sL https://imputation.biodatacatalyst.nhlbi.nih.gov/get/513376/3157c080fbd967daf12d515b77a4bd2805b40cfd686fe8fdf54f789fb45e3542 | bash\n",
    "\n",
    "# Imputation Results\n",
    "curl -sL https://imputation.biodatacatalyst.nhlbi.nih.gov/get/513378/cd8f69a4a465c1a197282dbf21924bc5a4f74aa8f41aa85449c6d225e05ef13a | bash\n",
    "\n",
    "# Logs\n",
    "curl -sL https://imputation.biodatacatalyst.nhlbi.nih.gov/get/513379/5cc2936a242bc59552cfa7c10286d0cec04598629c9b7f5684b09ef416dafbd8 | bash\n",
    "\n",
    "# Quality-Control Report\n",
    "curl -sL https://imputation.biodatacatalyst.nhlbi.nih.gov/get/513372/073ecd2d5a490a3288cb9e8c6b369e8cebc8363ac08100fe29d0c543a03fc1f4 | bash\n",
    "\n",
    "\n",
    "\n",
    "# decrypt downloaded on the RTI sandbox\n",
    "password=\"BxA2eh3eLqwS_N\"\n",
    "for chr in {1..22}; do\n",
    "    file=chr_${chr}.zip\n",
    "    sbatch --wrap \"unzip -P $password $file\"\n",
    "done\n",
    "\n",
    "aws s3 mv . s3://rti-shared/shared_data/post_qc/phs000315_whi_garnet/genotype/array/imputed/minimac4_eagle2.4/topmed_r2/0001/eur/output/ \\\n",
    "    --recursive"
   ]
  },
  {
   "cell_type": "markdown",
   "id": "58c3c900-3cb3-4020-a427-1bfddd368613",
   "metadata": {},
   "source": [
    "# Phenotype Subsetting\n",
    "Firstly we want to create a ternary plot with some samples highlighted. In particular, we want to highlight samples from the phentype file `final_sample_list.txt` that have the value RACE!=5 (self report not EUR). To this end, we need to locate the intermediate files for the genotype QC that was performed above. They are potentially in the following directories\n",
    "* C1 - `s3://rti-cromwell-output/cromwell-execution/genotype_array_qc_wf/1cabfce6-b5e2-41df-80bc-fada997d41fc/call-structure_wf/STRUCTURE.structure_wf/3f5f39c1-b736-4573-9065-7648995c4a3f/call-structure_postprocess/cacheCopy/`\n",
    "* C2 - `s3://rti-cromwell-output/cromwell-execution/genotype_array_qc_wf/a42858b6-c746-4a15-a4bc-0a21a37e0ddb/call-structure_wf/STRUCTURE.structure_wf/17a3b3ed-7598-4f73-8ce2-ca4558573abf/call-structure_postprocess/cacheCopy/`\n",
    "\n",
    "\n",
    "We will also want to perform Genotype PCA and include the top PCs in this GWAS model. "
   ]
  },
  {
   "cell_type": "markdown",
   "id": "761c45a8-193e-4a52-9ce1-2d6194289611",
   "metadata": {},
   "source": [
    "## Original Ternary Plots"
   ]
  },
  {
   "cell_type": "markdown",
   "id": "0780d8b1-52c9-40c2-9c93-1446c77904da",
   "metadata": {},
   "source": [
    "### C1"
   ]
  },
  {
   "cell_type": "code",
   "execution_count": 9,
   "id": "f06a47d5-45c4-41ae-a9a7-967d1147ec11",
   "metadata": {},
   "outputs": [
    {
     "data": {
      "image/png": "[encoded data removed]"
     },
     "metadata": {},
     "output_type": "display_data"
    }
   ],
   "source": [
    "setwd(\"/Users/jmarks/projects/uui/rti-shared/shared_data/post_qc/phs000315_whi_garnet/genotype/array/observed/0001/c1/final/\")\n",
    "library(\"IRdisplay\")\n",
    "display_png(file=\"whi_garnet_c1.structure_triangle.png\")  "
   ]
  },
  {
   "cell_type": "markdown",
   "id": "7267e23c-74ed-4736-b83c-de80a8261207",
   "metadata": {},
   "source": [
    "### C2"
   ]
  },
  {
   "cell_type": "code",
   "execution_count": 10,
   "id": "91726586-88ea-4bce-bdb4-bd6becba96ac",
   "metadata": {},
   "outputs": [
    {
     "data": {
      "image/png": "[encoded data removed]"
     },
     "metadata": {},
     "output_type": "display_data"
    }
   ],
   "source": [
    "setwd(\"/Users/jmarks/projects/uui/rti-shared/shared_data/post_qc/phs000315_whi_garnet/genotype/array/observed/0001/c2/final/\")\n",
    "library(\"IRdisplay\")\n",
    "display_png(file=\"whi_garnet_c2.structure_triangle.png\")  "
   ]
  },
  {
   "cell_type": "markdown",
   "id": "8ce8e805-4577-46e7-ab20-f4eaaebd6495",
   "metadata": {},
   "source": [
    "## Create highlight list\n",
    "All samples that have RACE != 5. We are hoping this will create a cleaner and more homogeneous population. Even though we have filtered these samples down to EUR ancestry using Structure in the genotype QC workflow, the samples that self-identified as not EUR may be right on the verge of being not classified as European. \n",
    "\n",
    "See how in the original ternary plot above it shows many of the Eur-ancestry samples right in the corner but there are few dozen that are not right in the corner. "
   ]
  },
  {
   "cell_type": "code",
   "execution_count": null,
   "id": "4d14b07f-e893-45f2-903f-2e6b9af7ad5e",
   "metadata": {},
   "outputs": [],
   "source": [
    "cd /Users/jmarks/projects/uui/phenotype_finalization/\n",
    "cut -f22 final_sample_list.txt | awk '$1==5' | wc -l # 4226\n",
    "\n",
    "cat final_sample_list.txt | cut -f1,2,22 | awk '$3!=5' | head  # n=154\n",
    "#SAMPLE_ID    SUBJID    RACE\n",
    "#101288    836865    8\n",
    "#105204    778476    1\n",
    "\n",
    "\n",
    "# Just the sample id column will be necessary to keep for the plotting\n",
    "# This corresponds to the \n",
    "cut -f1,22 final_sample_list.txt | tail -n +2 |\\\n",
    "  awk '$2!=5 {print $1}' > final_sample_list_race_ne_5.txt # n=154\n",
    "\n",
    "# search for those iids in the merged fam file\n",
    "# print the first 11 characters\n",
    "grep -f final_sample_list_race_ne_5.txt \\\n",
    "  /Users/jmarks/projects/uui/rti-shared/shared_data/post_qc/phs000315_whi_garnet/genotype/array/observed/0001/c1c2_merged/final/whi_garnet_eur_c1c2_post_qc_samples.txt |\\\n",
    "  awk 'a=$1\"_\"$2 {b=substr(a,1,11)} {print b}' > final_sample_list_race_ne5_fid_iid.txt\n"
   ]
  },
  {
   "cell_type": "markdown",
   "id": "aba7fbfc-028f-4e0d-a32e-f4be65114104",
   "metadata": {},
   "source": [
    "## Create highlighted ternary plots"
   ]
  },
  {
   "cell_type": "code",
   "execution_count": 8,
   "id": "461563c4-c7b1-4dae-9e12-0a90bd7781e4",
   "metadata": {},
   "outputs": [
    {
     "name": "stderr",
     "output_type": "stream",
     "text": [
      "Updating HTML index of packages in '.Library'\n",
      "\n",
      "Making 'packages.html' ...\n",
      " done\n",
      "\n"
     ]
    }
   ],
   "source": [
    "install.packages(\"vcd\")"
   ]
  },
  {
   "cell_type": "markdown",
   "id": "7f0720ea-1929-4b9c-8f0f-efbbf11a3a21",
   "metadata": {},
   "source": [
    "### C1"
   ]
  },
  {
   "cell_type": "code",
   "execution_count": null,
   "id": "df87099e-3a4f-45fc-bb38-608aabc9333a",
   "metadata": {},
   "outputs": [],
   "source": [
    "cd /Users/jmarks/projects/uui/phenotype_finalization/ternary_plots/c1/\n",
    "\n",
    "# structure input file\n",
    "aws s3 cp s3://rti-cromwell-output/cromwell-execution/genotype_array_qc_wf/1cabfce6-b5e2-41df-80bc-fada997d41fc/call-structure_wf/STRUCTURE.structure_wf/3f5f39c1-b736-4573-9065-7648995c4a3f/call-ped2structure/shard-0/cacheCopy/whi_garnet_c1.structure.split.0.structure.input .\n",
    "\n",
    "# structure results\n",
    "aws s3 cp s3://rti-cromwell-output/cromwell-execution/genotype_array_qc_wf/1cabfce6-b5e2-41df-80bc-fada997d41fc/call-structure_wf/STRUCTURE.structure_wf/3f5f39c1-b736-4573-9065-7648995c4a3f/call-structure/shard-0/structure_output/whi_garnet_c1.structure.split.0.structure_f ."
   ]
  },
  {
   "cell_type": "code",
   "execution_count": null,
   "id": "c7099b2a-5bff-4c2d-b390-9e47b7cef6e1",
   "metadata": {},
   "outputs": [],
   "source": [
    "#### AFR, EAS, and EUR ####\n",
    "## Prepare results for triangle plot\n",
    "## note the @datasets should be in the same ancestral order as the inputfile\n",
    "STUDY=c1\n",
    "docker run -i -v  $PWD:/data/ \\\n",
    "    perl:5.30.0 perl -slne \\\n",
    "        'if (/%Miss/) {\n",
    "             $in=1;\n",
    "             print \"num\\tID\\tpop\\tcluster1\\tcluster2\\tcluster3\";\n",
    "         }\n",
    "         if ($in==1 && !/Label/ && !/^\\s+$/) {\n",
    "             @datasets=(\"AFR\",\"EAS\",\"EUR\", $mystudy);\n",
    "             s/^\\s+//g;\n",
    "             @F=split /\\s+/;\n",
    "             # Grab only study groups by ID\n",
    "             if ($F[3] < 1) {\n",
    "                 print $F[0].\"\\t\".$F[1].\"\\t\".$datasets[$F[3]-1].\"\\t\".$F[5].\"\\t\".$F[6].\"\\t\".$F[7];\n",
    "             }\n",
    "         } \n",
    "         s/\\s+//g;\n",
    "         if ($_ eq \"\") { $in=0; }' -- -mystudy=$STUDY \\\n",
    "        /data/whi_garnet_c1.structure.split.0.structure_f | sed \\$d  > \\\n",
    "        afr_eas_eur.triangle_input_c1\n",
    "\n",
    "## note that I couldn't get the code above to stop printing an extra c2 in the last\n",
    "## line so I just use sed to get rid of it. \n",
    "\n",
    "## Prepare id xref file (cross reference file)\n",
    "docker run -i -v  $PWD:/data/  perl:5.30.0 perl -ne \\\n",
    "    'if ($count==0) { print \"num\\tID\\n\"; }\n",
    "     if (!defined $even) { print STDERR \"LALALA\\n\";} \n",
    "     if ($even==0) {/^(\\S+)/; print $count+1; print \"\\t\".$1.\"\\n\"; $count++; $even=1}\n",
    "     else {$even=0}' \\\n",
    "    /data/whi_garnet_c1.structure.split.0.structure.input > \\\n",
    "    afr_eas_eur_id_xref"
   ]
  },
  {
   "cell_type": "code",
   "execution_count": null,
   "id": "8314bd45-d03a-42e3-a352-af4ea5730ad4",
   "metadata": {},
   "outputs": [],
   "source": [
    "## plot RACE!=5 samples blue\n",
    "Rscript ~/bin/triangle_plot.R \\\n",
    "    --data afr_eas_eur.triangle_input_c1 \\\n",
    "    --prefix afr_eas_eur_race_ne5_blue \\\n",
    "    --cluster1 African \\\n",
    "    --cluster2 European \\\n",
    "    --cluster3 Asian \\\n",
    "    --highlight /Users/jmarks/projects/uui/phenotype_finalization/final_sample_list_race_ne5_fid_iid.txt  \\\n",
    "    --xref afr_eas_eur_id_xref\n",
    "\n",
    "\n"
   ]
  },
  {
   "cell_type": "code",
   "execution_count": 11,
   "id": "8e2d2837-b056-4a3c-8787-ba0b10cf2abb",
   "metadata": {},
   "outputs": [
    {
     "data": {
      "image/png": "[encoded data removed]"
     },
     "metadata": {},
     "output_type": "display_data"
    }
   ],
   "source": [
    "setwd(\"/Users/jmarks/projects/uui/phenotype_finalization/ternary_plots/c1/\")\n",
    "library(\"IRdisplay\")\n",
    "display_png(file=\"afr_eas_eur_race_ne5_blue_c1.jpg\")  "
   ]
  },
  {
   "cell_type": "markdown",
   "id": "3cb46720-8bf7-447f-9d7d-9101ac81adb8",
   "metadata": {},
   "source": [
    "### C2"
   ]
  },
  {
   "cell_type": "code",
   "execution_count": null,
   "id": "59f62189-94d7-416e-9125-65968d8c72dd",
   "metadata": {},
   "outputs": [],
   "source": [
    "cd /Users/jmarks/projects/uui/phenotype_finalization/ternary_plots/c2/\n",
    "\n",
    "# structure input file\n",
    "aws s3 cp s3://rti-cromwell-output/cromwell-execution/genotype_array_qc_wf/a42858b6-c746-4a15-a4bc-0a21a37e0ddb/call-structure_wf/STRUCTURE.structure_wf/17a3b3ed-7598-4f73-8ce2-ca4558573abf/call-ped2structure/shard-0/whi_garnet_c2.structure.split.0.structure.input .\n",
    "\n",
    "# structure results\n",
    "aws s3 cp s3://rti-cromwell-output/cromwell-execution/genotype_array_qc_wf/a42858b6-c746-4a15-a4bc-0a21a37e0ddb/call-structure_wf/STRUCTURE.structure_wf/17a3b3ed-7598-4f73-8ce2-ca4558573abf/call-merge_structure_output/cacheCopy/whi_garnet_c2.structure.structure.results.merged.txt ."
   ]
  },
  {
   "cell_type": "code",
   "execution_count": null,
   "id": "c7d1a073-1666-424b-b44d-0f77707d52d8",
   "metadata": {},
   "outputs": [],
   "source": [
    "#### AFR, EAS, and EUR ####\n",
    "## Prepare results for triangle plot\n",
    "## note the @datasets should be in the same ancestral order as the inputfile\n",
    "STUDY=c2\n",
    "docker run -i -v  $PWD:/data/ \\\n",
    "    perl:5.30.0 perl -slne \\\n",
    "        'if (/%Miss/) {\n",
    "             $in=1;\n",
    "             print \"num\\tID\\tpop\\tcluster1\\tcluster2\\tcluster3\";\n",
    "         }\n",
    "         if ($in==1 && !/Label/ && !/^\\s+$/) {\n",
    "             @datasets=(\"AFR\",\"EAS\",\"EUR\", $mystudy);\n",
    "             s/^\\s+//g;\n",
    "             @F=split /\\s+/;\n",
    "             # Grab only study groups by ID\n",
    "             if ($F[3] < 1) {\n",
    "                 print $F[0].\"\\t\".$F[1].\"\\t\".$datasets[$F[3]-1].\"\\t\".$F[5].\"\\t\".$F[6].\"\\t\".$F[7];\n",
    "             }\n",
    "         } \n",
    "         s/\\s+//g;\n",
    "         if ($_ eq \"\") { $in=0; }' -- -mystudy=$STUDY \\\n",
    "        /data/whi_garnet_c2.structure.split.0.structure_f | sed \\$d  > \\\n",
    "        afr_eas_eur.triangle_input_c2\n",
    "\n",
    "## note that I couldn't get the code above to stop printing an extra c2 in the last\n",
    "## line so I just use sed to get rid of it. \n",
    "\n",
    "## Prepare id xref file (cross reference file)\n",
    "docker run -i -v  $PWD:/data/  perl:5.30.0 perl -ne \\\n",
    "    'if ($count==0) { print \"num\\tID\\n\"; }\n",
    "     if (!defined $even) { print STDERR \"LALALA\\n\";} \n",
    "     if ($even==0) {/^(\\S+)/; print $count+1; print \"\\t\".$1.\"\\n\"; $count++; $even=1}\n",
    "     else {$even=0}' \\\n",
    "    /data/whi_garnet_c2.structure.split.0.structure.input > \\\n",
    "    afr_eas_eur_id_xref\n"
   ]
  },
  {
   "cell_type": "code",
   "execution_count": null,
   "id": "48355d65-6471-401f-a2fb-fa803b66e08d",
   "metadata": {},
   "outputs": [],
   "source": [
    "## plot RACE!=5 samples blue\n",
    "#Rscript ~/bin/triangle_plot.R \\\n",
    "Rscript triangle_plot.R \\\n",
    "    --data afr_eas_eur.triangle_input_c2 \\\n",
    "    --prefix afr_eas_eur_race_ne5_blue \\\n",
    "    --cluster1 African \\\n",
    "    --cluster2 European \\\n",
    "    --cluster3 Asian \\\n",
    "    --highlight /Users/jmarks/projects/uui/phenotype_finalization/final_sample_list_race_ne5_fid_iid.txt  \\\n",
    "    --xref afr_eas_eur_id_xref\n",
    "\n",
    "\n"
   ]
  },
  {
   "cell_type": "code",
   "execution_count": 12,
   "id": "3c416750-755d-416e-8e07-ca434ec06aa3",
   "metadata": {},
   "outputs": [
    {
     "data": {
      "image/png": "[encoded data removed]"
     },
     "metadata": {},
     "output_type": "display_data"
    }
   ],
   "source": [
    "setwd(\"/Users/jmarks/projects/uui/phenotype_finalization/ternary_plots/c2/\")\n",
    "library(\"IRdisplay\")\n",
    "display_png(file=\"afr_eas_eur_race_ne5_blue_c2.jpg\")  "
   ]
  },
  {
   "cell_type": "markdown",
   "id": "8c7bbbd8-5e3f-4e93-b27f-e93478f18589",
   "metadata": {},
   "source": [
    "## Interpretation\n",
    "We are going to keep the blue samples that have in the phenotype RACE!=5 (self-report not white) since there are several very close to the center. Here is part of an email thread between Megan and me.\n",
    "```\n",
    "-Jesse\n",
    "I’m thinking to leave them in and use PCs. If we see inflation in the GWAS results then we can go back and be more restrictive on the EUR ancestry threshold, which would remove some of the “less-Eur” samples plus some others that were not in the RACE!=5 list. Especially in consent group1.\n",
    "\n",
    "-Megan\n",
    "Seems reasonable to me. We drop so many people because of the potentially restrictive phenotype it would be great to use as many as we can, as long as we can adjust out any issues. Thanks!!\n",
    "\n",
    "```"
   ]
  },
  {
   "cell_type": "markdown",
   "id": "46ae94fd-124a-49f5-95b4-b04607c93111",
   "metadata": {},
   "source": [
    "## Create final phenotype file\n",
    "Here’s what is needed to clean up the final phenotype column\n",
    " \n",
    "* Case/control needs to be coded (case =2 and control =1)\n",
    "Case\n",
    "“case” = 1\n",
    " \n",
    "Control\n",
    "“control” = 1 && “case” != 1 (N=827)\n",
    " \n",
    "**Covariates**\n",
    " \n",
    "* “diabetes”\n",
    "    * Needs to be recoded 0 -> 1 and 1 -> 2\n",
    "\n",
    "* “obesity:\n",
    "    * Needs to be recoded 0 -> 1 and 1 -> 2\n",
    "    \n",
    "* AGE (continuous)\n",
    "* PARITY\n",
    "    * Needs to be merged in from parity_c1c2_merged.csv\n",
    "    * Recoded as -1&0 = 1 ; 1&2=2 ;  >3=3\n",
    "    \n",
    "Filter dataset by Missing any covariates\n",
    " \n",
    "Distributions (lower priority)\n",
    "* Final sample counts\n",
    "* Age and parity by case status\n",
    "* Frequency tables for diabetes, obesity by case status\n",
    " \n",
    "```\n",
    "Check out these mosaic plots\n",
    " \n",
    "conting_table <- table(FullPhenotype$BMI,FullPhenotype$Case_Control_Final)\n",
    "mosaicplot(conting_table , color = c(\"#69b3a2\", \"#404080\"), main = \"BMI: <30 vs >=30\", cex.axis = 1.1)\n",
    "```"
   ]
  },
  {
   "cell_type": "code",
   "execution_count": 2,
   "id": "4a965ec6-0d37-4a7a-80bb-f133d26ede57",
   "metadata": {},
   "outputs": [
    {
     "name": "stdout",
     "output_type": "stream",
     "text": [
      "-----------Preliminary Counts-------------\n",
      "\n",
      "Number of samples before filtering out samples with NAs:  4378 \n",
      "Number of cases before filtering out samples with NAs:  2342 \n",
      "Number of controls before filtering out samples with NAs:  826 \n",
      "Samples with NA for case/control status:  1210 \n",
      "Samples with NA for diabetes:  6 \n",
      "Samples with NA for parity:  21 \n",
      "Samples with NA for obesity:  17 \n",
      "\n",
      "\n",
      "\n",
      "-----------Final counts-------------\n",
      "\n",
      "Total sample count with complete data:  3139 \n",
      "Number of UUI cases:  2322 \n",
      "Number of UUI controls:  817 \n",
      "Number of diabetes cases:  155 \n",
      "Number of diabetes controls:  2984 \n",
      "Number of parity category==1:  252 \n",
      "Number of parity category==2:  869 \n",
      "Number of parity category==3:  2018 \n",
      "Number of obesity cases:  1369 \n",
      "Number of obesity controls:  1770 \n"
     ]
    }
   ],
   "source": [
    "# load phenotype file\n",
    "pheno <- read.csv(\"/Users/jmarks/projects/uui/phenotype_finalization/final_sample_list.txt\", sep=\"\\t\")\n",
    "# load parity file\n",
    "parity <- read.csv(\"/Users/jmarks/projects/uui/PhenotypeFiles/dbGaP-30943/processing/parity_c1c2_merged.csv\")\n",
    "\n",
    "pheno_all <- merge(pheno, parity, by=\"SUBJID\", all=FALSE)\n",
    "\n",
    "\n",
    "cat(\"-----------Preliminary Counts-------------\\n\\n\")\n",
    "\n",
    "#rename V1 column to FID\n",
    "names(pheno_all)[names(pheno_all)==\"V1\"] <- \"FID\"\n",
    "names(pheno_all)[names(pheno_all)==\"SAMPLE_ID\"] <- \"IID\"\n",
    "\n",
    "# not including PARKINS since it is all 0s and NAs\n",
    "pheno_trimmed <- pheno_all[, c(\"SUBJID\", \"FID\", \"IID\", \"case\", \"control\", \"AGE\", \"diabetes\", \"PARITY\", \"obesity\")]\n",
    "numcase <- length(which(pheno_trimmed$case == 1))\n",
    "numcontrol <- length(which(pheno_trimmed$case != 1 & pheno_trimmed$control == 1))\n",
    "num <- length(pheno_trimmed$IID)\n",
    "cat(\"Number of samples before filtering out samples with NAs: \" , num, \"\\n\") # 4378\n",
    "cat(\"Number of cases before filtering out samples with NAs: \", numcase, \"\\n\") # 2342\n",
    "cat(\"Number of controls before filtering out samples with NAs: \", numcontrol, \"\\n\") # 826\n",
    "\n",
    "\n",
    "# create final phenotype file\n",
    "final_pheno <- pheno_trimmed[, c(\"SUBJID\", \"FID\", \"IID\", \"AGE\")]\n",
    "\n",
    "# define cases\n",
    "final_pheno$UUI_CASE <- NA\n",
    "final_pheno$UUI_CASE[which(pheno_trimmed$case == 1)] <- 2\n",
    "final_pheno$UUI_CASE[which(pheno_trimmed$case != 1 & pheno_trimmed$control == 1)] <- 1\n",
    "\n",
    "numberna <- length(which(is.na(final_pheno$UUI_CASE)))\n",
    "cat(\"Samples with NA for case/control status: \", numberna, \"\\n\") # 1210\n",
    "\n",
    "# recode diabetes\n",
    "final_pheno$DIABETES <- NA\n",
    "final_pheno$DIABETES[which(pheno_trimmed$diabetes == 0)] <- 1\n",
    "final_pheno$DIABETES[which(pheno_trimmed$diabetes == 1)] <- 2\n",
    "numberna <- length(which(is.na(final_pheno$DIABETES))) \n",
    "cat(\"Samples with NA for diabetes: \", numberna, \"\\n\") # 6\n",
    "\n",
    "# recode parity\n",
    "final_pheno$PARITY <- NA\n",
    "final_pheno$PARITY[which(pheno_trimmed$PARITY == -1 | pheno_trimmed$PARITY == 0)] <- 1\n",
    "final_pheno$PARITY[which(pheno_trimmed$PARITY ==  1 | pheno_trimmed$PARITY == 2)] <- 2\n",
    "final_pheno$PARITY[which(pheno_trimmed$PARITY >= 3)] <- 3\n",
    "numberna <- length(which(is.na(final_pheno$PARITY))) \n",
    "cat(\"Samples with NA for parity: \", numberna, \"\\n\") # 21\n",
    "\n",
    "# recode obesity\n",
    "final_pheno$OBESITY <- NA\n",
    "final_pheno$OBESITY[which(pheno_trimmed$obesity == 0)] <- 1\n",
    "final_pheno$OBESITY[which(pheno_trimmed$obesity == 1)] <- 2\n",
    "numberna <- length(which(is.na(final_pheno$OBESITY))) \n",
    "cat(\"Samples with NA for obesity: \", numberna, \"\\n\") # 17\n",
    "\n",
    "# note there were some samples that have -9 values. We will now remove thoses\n",
    "#head -1 final_sample_list.txt | cut -f34-36; grep 861478 final_sample_list.txt | cut -f34-36\n",
    "#obesity control case\n",
    "#-9 0 1\n",
    "\n",
    "final_pheno <- na.omit(final_pheno) \n",
    "\n",
    "cat(\"\\n\\n\\n-----------Final counts-------------\\n\\n\")\n",
    "\n",
    "number_total <- length(final_pheno$IID)\n",
    "cat(\"Total sample count with complete data: \", number_total, \"\\n\") # 3139\n",
    "\n",
    "numcase <- length(which(final_pheno$UUI_CASE == 2))\n",
    "cat(\"Number of UUI cases: \", numcase, \"\\n\") # 2322\n",
    "numcontrol <- length(which(final_pheno$UUI_CASE == 1))\n",
    "cat(\"Number of UUI controls: \", numcontrol, \"\\n\") # 817\n",
    "\n",
    "numcase <- length(which(final_pheno$DIABETES == 2))\n",
    "cat(\"Number of diabetes cases: \", numcase, \"\\n\") # 155\n",
    "numcontrol <- length(which(final_pheno$DIABETES == 1))\n",
    "cat(\"Number of diabetes controls: \", numcontrol, \"\\n\") # 2984\n",
    "\n",
    "num1 <- length(which(final_pheno$PARITY == 1))\n",
    "cat(\"Number of parity category==1: \", num1, \"\\n\") # 252\n",
    "num2 <- length(which(final_pheno$PARITY == 2))\n",
    "cat(\"Number of parity category==2: \", num2, \"\\n\") # 869\n",
    "num3 <- length(which(final_pheno$PARITY == 3))\n",
    "cat(\"Number of parity category==3: \", num3, \"\\n\") # 2018\n",
    "\n",
    "numcase <- length(which(final_pheno$OBESITY == 2))\n",
    "cat(\"Number of obesity cases: \", numcase, \"\\n\") # \n",
    "numcontrol <- length(which(final_pheno$OBESITY == 1))\n",
    "cat(\"Number of obesity controls: \", numcontrol, \"\\n\") # \n",
    "\n",
    "outfile <- \"/Users/jmarks/projects/uui/phenotype_finalization/without_pcs/20220401_final_uui_phenotype_without_pcs.tsv\"\n",
    "write.table(final_pheno, outfile, sep = \"\\t\", quote = FALSE, row.names = FALSE)"
   ]
  },
  {
   "cell_type": "code",
   "execution_count": 3,
   "id": "b263b492-9403-49a0-8d10-185c21a189ea",
   "metadata": {},
   "outputs": [
    {
     "data": {
      "image/png": "[encoded data removed]",
      "text/plain": [
       "Plot with title “UUI Phenotype file”"
      ]
     },
     "metadata": {
      "image/png": {
       "height": 420,
       "width": 420
      }
     },
     "output_type": "display_data"
    }
   ],
   "source": [
    "uui <- table(final_pheno$UUI_CASE)\n",
    "uui <- as.table(c(uui, \"3\" = 0))\n",
    "diabetes <- table(final_pheno$DIABETES)\n",
    "diabetes <- as.table(c(diabetes, \"3\" = 0))\n",
    "parity <- table(final_pheno$PARITY)\n",
    "obesity <- table(final_pheno$OBESITY)\n",
    "obesity <- as.table(c(obesity, \"3\" = 0))\n",
    "\n",
    "uui_table <- rbind(uui, diabetes, obesity, parity)\n",
    "\n",
    "#uui_table <- table(final_pheno$UUI_CASE, final_pheno$DIABETES, final_pheno$PARITY, final_pheno$OBESITY)\n",
    "mosaicplot(uui_table , color = c(\"#69b3a2\", \"#404080\"), main = \"UUI Phenotype file\",\n",
    "           cex.axis = 1.3,\n",
    "           xlab = \"Variables\",\n",
    "           ylab = \"Case Control Status\")"
   ]
  },
  {
   "cell_type": "code",
   "execution_count": 4,
   "id": "7d663549-bdd0-44e6-81a3-64a7eace72a5",
   "metadata": {},
   "outputs": [
    {
     "data": {
      "text/plain": [
       "         \n",
       "          cat1 cat2 cat3\n",
       "  control   86  229  502\n",
       "  case     166  640 1516"
      ]
     },
     "metadata": {},
     "output_type": "display_data"
    },
    {
     "data": {
      "image/png": "[encoded data removed]",
      "text/plain": [
       "Plot with title “UUI Phenotype file”"
      ]
     },
     "metadata": {
      "image/png": {
       "height": 420,
       "width": 420
      }
     },
     "output_type": "display_data"
    }
   ],
   "source": [
    "# Parity by case status\n",
    "parity_bycase <- table(final_pheno$UUI_CASE, final_pheno$PARITY)\n",
    "row.names(parity_bycase) <- c(\"control\", \"case\")\n",
    "colnames(parity_bycase) <- c(\"cat1\", \"cat2\", \"cat3\")\n",
    "parity_bycase\n",
    "\n",
    "mosaicplot(parity_bycase , color = c(\"#69b3a2\", \"#404080\"), main = \"UUI Phenotype file\",\n",
    "           cex.axis = 1.3,\n",
    "           xlab = \"UUI Case/Control status\",\n",
    "           ylab = \"Parity Categories\")"
   ]
  },
  {
   "cell_type": "code",
   "execution_count": 5,
   "id": "e046d268-2a54-4e2c-b39f-6a83ff951305",
   "metadata": {},
   "outputs": [
    {
     "data": {
      "text/plain": [
       "         \n",
       "          (50,57.2] (57.2,64.5] (64.5,71.8] (71.8,79]\n",
       "  control       122         221         301       173\n",
       "  case          279         621         837       585"
      ]
     },
     "metadata": {},
     "output_type": "display_data"
    },
    {
     "data": {
      "image/png": "[encoded data removed]",
      "text/plain": [
       "Plot with title “UUI Phenotype file”"
      ]
     },
     "metadata": {
      "image/png": {
       "height": 420,
       "width": 420
      }
     },
     "output_type": "display_data"
    }
   ],
   "source": [
    "# Age by case status\n",
    "#table(breaks = seq(40, 80, by=10), final_pheno$AGE)\n",
    "age_bycase <- table(final_pheno$UUI_CASE, cut(final_pheno$AGE, breaks = 4))\n",
    "row.names(age_bycase) <- c(\"control\", \"case\")\n",
    "\n",
    "age_bycase\n",
    "mosaicplot(age_bycase , color = c(\"#69b3a2\", \"#404080\"), main = \"UUI Phenotype file\",\n",
    "           cex.axis = 1.3,\n",
    "           xlab = \"UUI Case/Control status\",\n",
    "           ylab = \"Age\")"
   ]
  },
  {
   "cell_type": "code",
   "execution_count": 7,
   "id": "717fda8d-2a40-49a5-ac31-ac83e50704ff",
   "metadata": {},
   "outputs": [
    {
     "data": {
      "text/plain": [
       "         \n",
       "          Obesity control Obesity case\n",
       "  control             570          247\n",
       "  case               1200         1122"
      ]
     },
     "metadata": {},
     "output_type": "display_data"
    },
    {
     "data": {
      "text/plain": [
       "         \n",
       "          Diabetes control Diabetes case\n",
       "  control              793            24\n",
       "  case                2191           131"
      ]
     },
     "metadata": {},
     "output_type": "display_data"
    },
    {
     "data": {
      "image/png": "[encoded data removed]",
      "text/plain": [
       "Plot with title “UUI Phenotype file”"
      ]
     },
     "metadata": {
      "image/png": {
       "height": 420,
       "width": 420
      }
     },
     "output_type": "display_data"
    },
    {
     "data": {
      "image/png": "[encoded data removed]",
      "text/plain": [
       "Plot with title “UUI Phenotype file”"
      ]
     },
     "metadata": {
      "image/png": {
       "height": 420,
       "width": 420
      }
     },
     "output_type": "display_data"
    }
   ],
   "source": [
    "# Obesity & Diabetes by case status\n",
    "obesity_bycase <- table(final_pheno$UUI_CASE, final_pheno$OBESITY)\n",
    "diabetes_bycase <- table(final_pheno$UUI_CASE, final_pheno$DIABETES)\n",
    "row.names(obesity_bycase) <- c(\"control\", \"case\")\n",
    "row.names(diabetes_bycase) <- c(\"control\", \"case\")\n",
    "colnames(obesity_bycase) <- c(\"Obesity control\", \"Obesity case\")\n",
    "colnames(diabetes_bycase) <- c(\"Diabetes control\", \"Diabetes case\")\n",
    "obesity_bycase\n",
    "diabetes_bycase\n",
    "\n",
    "mosaicplot(obesity_bycase , color = c(\"#69b3a2\", \"#404080\"), main = \"UUI Phenotype file\",\n",
    "           cex.axis = 1.3,\n",
    "           xlab = \"UUI Case/Control status\",\n",
    "           ylab = \"Obestity Status\")\n",
    "mosaicplot(diabetes_bycase , color = c(\"red\", \"yellow\"), main = \"UUI Phenotype file\",\n",
    "           cex.axis = 1.3,\n",
    "           xlab = \"UUI Case/Control status\",\n",
    "           ylab = \"Diabetes Status\")"
   ]
  },
  {
   "cell_type": "markdown",
   "id": "d3c41b63-9c6c-4453-a782-6f9658ce671d",
   "metadata": {},
   "source": [
    "# Genotype PCA"
   ]
  },
  {
   "cell_type": "code",
   "execution_count": null,
   "id": "417ab14d-2a64-41be-8946-51823ee05ba3",
   "metadata": {},
   "outputs": [],
   "source": [
    "# download genotype data\n",
    "mkdir -p ~/rti-shared/shared_data/post_qc/phs000315_whi_garnet/genotype/array/observed/0001/c1c2_merged/final/\n",
    "cd ~/rti-shared/shared_data/post_qc/phs000315_whi_garnet/genotype/array/observed/0001/c1c2_merged/final/\n",
    "aws s3 sync s3://rti-shared/shared_data/post_qc/phs000315_whi_garnet/genotype/array/observed/0001/c1c2_merged/final/ .\n",
    "\n",
    "# partition to only the subjects with phenotype data\n",
    "cd ~/projects/uui/phenotype_finalization/without_pcs/\n",
    "cut -f1-2 20220401_final_uui_phenotype_without_pcs.tsv >\\\n",
    "    20220401_final_uui_phenotype_fid_iid_only.tsv\n",
    "\n",
    "# subset genotype data down to those samples with phenotype data\n",
    "\n",
    "docker run -v $PWD:/data/ rtibiocloud/plink:v2.0_c6004f7 plink2 \\\n",
    "    --bfile /data/whi_garnet_c1c2_eur \\\n",
    "    --keep /data/20220401_final_uui_phenotype_fid_iid_only.tsv \\\n",
    "    --make-bed \\\n",
    "    --out /data/whi_garnet_c1c2_eur_uui_phenotype_subset\n",
    "\n",
    "\n",
    "# upload to S3\n",
    "aws s3 cp whi_garnet_c1c2_eur_uui_phenotype_subset.bim s3://rti-shared/scratch/jmarks/\n",
    "aws s3 cp whi_garnet_c1c2_eur_uui_phenotype_subset.bed s3://rti-shared/scratch/jmarks/\n",
    "aws s3 cp whi_garnet_c1c2_eur_uui_phenotype_subset.fam s3://rti-shared/scratch/jmarks/\n"
   ]
  },
  {
   "cell_type": "code",
   "execution_count": null,
   "id": "19f1f54e-e10b-4a8b-8c4e-3b3ccc98d39b",
   "metadata": {},
   "outputs": [],
   "source": [
    "cd /home/ec2-user/rti-shared/shared_data/post_qc/phs000315_whi_garnet/genotype/array/observed/0001/c1c2_merged/pca\n",
    "\n",
    "git clone --recurse-submodules https://github.com/RTIInternational/biocloud_gwas_workflows\n",
    "\n",
    "cd biocloud_gwas_workflows/genotype_pca/\n",
    "# edit config file (inputs.json)\n",
    "\n",
    "cd -\n",
    "\n",
    "zip \\\n",
    "    --exclude=*/var/* \\\n",
    "    --exclude=*.git/* \\\n",
    "    --exclude=*/test/* \\\n",
    "    --exclude=*/.idea/* \\\n",
    "    -r biocloud_gwas_workflows/genotype_pca/biocloud_gwas_workflows.zip \\\n",
    "    biocloud_gwas_workflows/\n",
    "\n",
    "cd -\n",
    "\n",
    "curl -X POST \"http://localhost:8000/api/workflows/v1\" -H \"accept: application/json\" \\\n",
    "    -F \"workflowSource=@/home/ec2-user/rti-shared/shared_data/post_qc/phs000315_whi_garnet/genotype/array/observed/0001/c1c2_merged/pca/biocloud_gwas_workflows/genotype_pca/main.wdl\" \\\n",
    "    -F \"workflowInputs=@/home/ec2-user/rti-shared/shared_data/post_qc/phs000315_whi_garnet/genotype/array/observed/0001/c1c2_merged/pca/biocloud_gwas_workflows/genotype_pca/inputs.json\" \\\n",
    "    -F \"workflowDependencies=@/home/ec2-user/rti-shared/shared_data/post_qc/phs000315_whi_garnet/genotype/array/observed/0001/c1c2_merged/pca/biocloud_gwas_workflows/genotype_pca/biocloud_gwas_workflows.zip\" \\\n",
    "    -F \"workflowOptions=@/home/ec2-user/rti-shared/shared_data/post_qc/phs000315_whi_garnet/genotype/array/observed/0001/c1c2_merged/pca/biocloud_gwas_workflows/workflow_options/spot/0160470.000.044_grier_page_fellows_fund.json\" \\\n",
    "    >> job_id.txt\n",
    "\n",
    "job=27e3bc05-2fde-41c7-a600-b75c107f97c1\n",
    "curl -X GET \"http://localhost:8000/api/workflows/v1/${job}/status\"\n",
    "#{\"status\":\"Succeeded\",\"id\":\"27e3bc05-2fde-41c7-a600-b75c107f97c1\"}ec2-user@ip-172-31-15-238:genotype_pca$"
   ]
  },
  {
   "cell_type": "markdown",
   "id": "6775e0ab-36cc-4dcb-9e91-2d16cf27137b",
   "metadata": {},
   "source": [
    "# Phenotype Finalization"
   ]
  },
  {
   "cell_type": "markdown",
   "id": "3c70d026-1c2b-4ff7-bec9-3681f93ea2cb",
   "metadata": {},
   "source": [
    "## Select top PCs\n",
    "Use our Docker tool https://github.com/RTIInternational/biocloud_docker_tools/blob/master/select_pcs\n",
    "\n",
    "to select the top genotype PCs that explain >= 75% of the non-residual phenotypic variance. \n",
    "\n"
   ]
  },
  {
   "cell_type": "code",
   "execution_count": null,
   "id": "004222ca-0be2-4489-b65b-83af5e6be429",
   "metadata": {},
   "outputs": [],
   "source": [
    "# Format the phenotype file to prepare it for the select-top-pcs pipeline. \n",
    "\n",
    "#Format the phenotype file to prepare it for the select-top-pcs pipeline.\n",
    "# remove subject IDs from phenotype file (only need FID and IID)\n",
    "cd /Users/jmarks/projects/uui/phenotype_finalization/without_pcs/\n",
    "cut -f2- 20220401_final_uui_phenotype_without_pcs.tsv > \\\n",
    "    tmp.file\n",
    "\n",
    "# add requisite fatid, matid, and sex columns\n",
    "echo \"fid iid fatid matid sex uui age diabetes parity obesity\" > \\\n",
    "    20220401_final_uui_phenotype_without_pcs_rvtest_format.txt\n",
    "\n",
    "awk '{print $1, $2, 0, 0, 2, $4, $3, $5, $6, $7}' <(tail -n +2 tmp.file) >>\\\n",
    "    20220401_final_uui_phenotype_without_pcs_rvtest_format.txt\n",
    "\n",
    "# download genotype PCs\n",
    "\n",
    "cd /Users/jmarks/projects/uui/phenotype_finalization/with_pcs\n",
    "aws s3 cp s3://rti-cromwell-output/cromwell-execution/eigenstrat_smartpca/27e3bc05-2fde-41c7-a600-b75c107f97c1/call-create_final_file/whi_garnet_c1c2_eur_ld_pruned_top10_pcs.txt .\n",
    "\n",
    "cd /Users/jmarks/projects/uui/phenotype_finalization\n",
    "\n",
    "docker run -it -v $PWD:/data/ \\\n",
    "  rtibiocloud/select_pcs:v2_bbe9fa4 Rscript /opt/select_pcs.R \\\n",
    "      --file_in_pheno /data/without_pcs/20220401_final_uui_phenotype_without_pcs_rvtest_format.txt \\\n",
    "      --file_in_pcs /data/with_pcs/whi_garnet_c1c2_eur_ld_pruned_top10_pcs.txt \\\n",
    "      --pheno_name \"uui\" \\\n",
    "      --model_type \"logistic\" \\\n",
    "      --coded_12 \\\n",
    "      --ancestry \"eur\" \\\n",
    "      --pve_threshold 75 \\\n",
    "      --combine_fid_iid \\\n",
    "      --file_out_pheno /data/with_pcs/whi_garnet_c1c2_eur_uui_age_diabetes_parity_obesity_pcs_n3139.txt \\\n",
    "      --file_out_prefix /data/with_pcs/whi_garnet_c1c2_eur_uui\n",
    "\n",
    "#Top PCs:  PC1 PC4 PC5 PC8\n",
    "#PVE:      93.27%"
   ]
  },
  {
   "cell_type": "code",
   "execution_count": 2,
   "id": "6f165d1f-d867-4051-bbe5-bbe6c4c9b4f8",
   "metadata": {},
   "outputs": [
    {
     "data": {
      "image/png": "[encoded data removed]"
     },
     "metadata": {},
     "output_type": "display_data"
    }
   ],
   "source": [
    "setwd(\"/Users/jmarks/projects/uui/phenotype_finalization/with_pcs\")\n",
    "library(\"IRdisplay\")\n",
    "display_png(file=\"whi_garnet_c1c2_eur_uui_pve.png\")  \n"
   ]
  },
  {
   "cell_type": "markdown",
   "id": "e1431442-ab13-43a0-b056-96069f589555",
   "metadata": {},
   "source": [
    "## upload to S3"
   ]
  },
  {
   "cell_type": "code",
   "execution_count": null,
   "id": "441621d0-2d1f-4111-987e-7c52806865b0",
   "metadata": {},
   "outputs": [],
   "source": [
    "cd /Users/jmarks/projects/uui/phenotype_finalization/with_pcs/\n",
    "\n",
    "# upload to S3\n",
    "pheno=whi_garnet_c1c2_eur_uui_age_diabetes_parity_obesity_pcs_n3139.txt\n",
    "aws s3 cp $pheno s3://rti-shared/shared_data/post_qc/phs000315_whi_garnet/phenotype/0001/c1c2_merged/"
   ]
  },
  {
   "cell_type": "markdown",
   "id": "b575b472-8141-4ee2-868b-829852939b00",
   "metadata": {},
   "source": [
    "# GWAS"
   ]
  },
  {
   "cell_type": "code",
   "execution_count": null,
   "id": "a3a91f47-6487-4e89-9932-d64faf8c1c1c",
   "metadata": {},
   "outputs": [],
   "source": [
    "cd /home/ec2-user/rti-uui/gwas/phs000315_whi_garnet/results/uui/0001/eur/\n",
    "\n",
    "git clone --recurse-submodules https://github.com/RTIInternational/biocloud_gwas_workflows\n",
    "\n",
    "cd biocloud_gwas_workflows/association_testing/rvtests/\n",
    "\n",
    "# edit config file (inputs.json)\n",
    "vim inputs.json\n",
    "\n",
    "git rev-parse HEAD > git_hash.txt\n",
    "\n",
    "cd -\n",
    "\n",
    "zip \\\n",
    "    --exclude=*/var/* \\\n",
    "    --exclude=*.git/* \\\n",
    "    --exclude=*/test/* \\\n",
    "    --exclude=*/.idea/* \\\n",
    "    -r biocloud_gwas_workflows/association_testing/rvtests/biocloud_gwas_workflows.zip \\\n",
    "    biocloud_gwas_workflows/\n",
    "\n",
    "cd -\n",
    "\n",
    "curl -X POST \"http://localhost:8000/api/workflows/v1\" -H \"accept: application/json\" \\\n",
    "    -F \"workflowSource=@/home/ec2-user/rti-uui/gwas/phs000315_whi_garnet/results/uui/0001/eur/biocloud_gwas_workflows/association_testing/rvtests/rvtests_gwas_wf.wdl\" \\\n",
    "    -F \"workflowInputs=@/home/ec2-user/rti-uui/gwas/phs000315_whi_garnet/results/uui/0001/eur/biocloud_gwas_workflows/association_testing/rvtests/inputs.json\" \\\n",
    "    -F \"workflowDependencies=@/home/ec2-user/rti-uui/gwas/phs000315_whi_garnet/results/uui/0001/eur/biocloud_gwas_workflows/association_testing/rvtests/biocloud_gwas_workflows.zip\" \\\n",
    "    -F \"workflowOptions=@/home/ec2-user/rti-uui/gwas/phs000315_whi_garnet/results/uui/0001/eur/biocloud_gwas_workflows/workflow_options/spot/0160470.000.044_grier_page_fellows_fund.json\" \\\n",
    "    >> job_id.txt\n",
    "\n",
    "job=d3924fde-37cb-41cf-a559-c3a9bc6d3f77     #62632758-33c3-4312-b804-2d60aa970a7e  #7a2060a1-a5be-40f8-93ef-1a02672f5727   #92ea560a-fe62-4ee0-beac-480ac1208a3a\n",
    "curl -X GET \"http://localhost:8000/api/workflows/v1/${job}/status\""
   ]
  },
  {
   "cell_type": "markdown",
   "id": "6991f7e2-7d3c-4f83-9c7d-3643c13154d3",
   "metadata": {},
   "source": [
    "## Copy S3 files\n",
    "To the appropriate bucket on S3."
   ]
  },
  {
   "cell_type": "code",
   "execution_count": null,
   "id": "c5b473cf-afd4-4684-8720-9d4c86766bbc",
   "metadata": {},
   "outputs": [],
   "source": [
    "## EUR\n",
    "# plots\n",
    "outdir=s3://rti-shared/gwas/phs000315_whi_garnet/results/uui/0001/eur/plots/\n",
    "for line in $(aws s3 ls s3://rti-cromwell-output/cromwell-execution/rvtests_gwas_wf/$job/call-summarize_filtered_sumstats/ --recursive | grep \"png\" | awk '{print \"s3://rti-cromwell-output/\"$4}');do\n",
    "    aws s3 cp $line $outdir\n",
    "done\n",
    "\n",
    "# filtered rvtest results\n",
    "outdir=s3://rti-shared/gwas/phs000315_whi_garnet/results/uui/0001/eur/summary_stats/\n",
    "for line in $(aws s3 ls s3://rti-cromwell-output/cromwell-execution/rvtests_gwas_wf/$job/call-summarize_filtered_sumstats/ --recursive | grep  \".tsv.gz\" | awk '{print \"s3://rti-cromwell-output/\"$4}');do\n",
    "    aws s3 cp $line $outdir\n",
    "done\n"
   ]
  },
  {
   "cell_type": "markdown",
   "id": "3100a9d2-5781-46e6-8e26-48f90da0c329",
   "metadata": {},
   "source": [
    "# MAGMA\n",
    "Gene-set analysis. Our collaborators are wanting us to perform gene-set analysis with MAGMA using a gene-window size of 100kb up- and down-stream. This is not permitted on FUMA (max of ±50 gene-window size). So we will need to use the MAGMA CLI program.\n",
    "\n",
    "Need to make a Docker image out of it, but for now it is on GitHub at\n",
    "`bioinformatics/software/third_party/magma_v1.07b/`"
   ]
  },
  {
   "cell_type": "code",
   "execution_count": null,
   "id": "db88b64e-789b-4722-a544-84fa12b8f63c",
   "metadata": {},
   "outputs": [],
   "source": [
    "mkdir -p ~/rti-shared/gwas/phs000315_whi_garnet/results/uui/0001/minimac4_eagle2.4/topmed_r2/eur/{summary_stats,magma}/\n",
    "cd ~/rti-shared/gwas/phs000315_whi_garnet/results/uui/0001/minimac4_eagle2.4/topmed_r2/eur/summary_stats/\n",
    "\n",
    "# download sumstats\n",
    "aws s3 cp s3://rti-shared/gwas/phs000315_whi_garnet/results/uui/0001/minimac4_eagle2.4/topmed_r2/eur/summary_stats/whi_garnet_c1c2_eur.rvtests.MetaAssoc.rsq.0.8.sampleMAF.0.01.tsv.gz ."
   ]
  },
  {
   "cell_type": "markdown",
   "id": "aa10a83a-9cb5-4090-ad71-20fc26fb8b76",
   "metadata": {},
   "source": [
    "## liftover"
   ]
  },
  {
   "cell_type": "code",
   "execution_count": null,
   "id": "a423cae6-9362-40a3-b364-3b1629152fc1",
   "metadata": {},
   "outputs": [],
   "source": [
    "cd ~/rti-shared/gwas/phs000315_whi_garnet/results/uui/0001/minimac4_eagle2.4/topmed_r2/eur/\n",
    "git clone --recurse-submodules https://github.com/RTIInternational/biocloud_gwas_workflows\n",
    "cd biocloud_gwas_workflows/liftover_genomic_annotations/\n",
    "\n",
    "# edit input.file\n",
    "\n",
    "#cd /home/ec2-user/rti-shared/gwas/phs000315_whi_garnet/results/uui/0001/minimac4_eagle2.4/topmed_r2/eur/\n",
    "#\n",
    "#zip \\\n",
    "#    --exclude=*/var/* \\\n",
    "#    --exclude=*.git/* \\\n",
    "#    --exclude=*/test/* \\\n",
    "#    --exclude=*/.idea/* \\\n",
    "#    -r biocloud_gwas_workflows/liftover_genomic_annotations/biocloud_gwas_workflows.zip \\\n",
    "#    biocloud_gwas_workflows/\n",
    "\n",
    "#cd biocloud_gwas_workflows/liftover_genomic_annotations/\n",
    "\n",
    "\n",
    "#curl -X POST \"http://localhost:8000/api/workflows/v1\" -H \"accept: application/json\" \\\n",
    "#    -F \"workflowSource=@/home/ec2-user/rti-shared/gwas/phs000315_whi_garnet/results/uui/0001/minimac4_eagle2.4/topmed_r2/eur/biocloud_gwas_workflows/liftover_genomic_annotations/main.wdl\" \\\n",
    "#    -F \"workflowInputs=@/home/ec2-user/rti-shared/gwas/phs000315_whi_garnet/results/uui/0001/minimac4_eagle2.4/topmed_r2/eur/biocloud_gwas_workflows/liftover_genomic_annotations/input.json\" \\\n",
    "#    -F \"workflowDependencies=@/home/ec2-user/rti-shared/gwas/phs000315_whi_garnet/results/uui/0001/minimac4_eagle2.4/topmed_r2/eur/biocloud_gwas_workflows/liftover_genomic_annotations/biocloud_gwas_workflows.zip\" \\\n",
    "#    -F \"workflowOptions=@/home/ec2-user/rti-shared/gwas/phs000315_whi_garnet/results/uui/0001/minimac4_eagle2.4/topmed_r2/eur/biocloud_gwas_workflows/workflow_options/spot/0160470.000.044_grier_page_fellows_fund.json\" \\\n",
    "#    >> job_id.txt\n",
    "\n",
    "#job=\n",
    "#curl -X GET \"http://localhost:8000/api/workflows/v1/${job}/status\"\n",
    "\n",
    "\n",
    "# just run locally\n",
    "java -jar ~/bin/cromwell/womtool-71.jar validate main.wdl #Success!\n",
    "java -jar ~/bin/cromwell/cromwell-71.jar run main.wdl --inputs input.json\n",
    "\n",
    "# upload results to S3 \n",
    "cd /home/ec2-user/rti-shared/gwas/phs000315_whi_garnet/results/uui/0001/minimac4_eagle2.4/topmed_r2/eur/biocloud_gwas_workflows/liftover_genomic_annotations/cromwell-executions/genome_liftover/f6a90825-fa7c-44fe-853f-552cab16c04f/call-final/execution/\n",
    "gzip whi_garnet_c1c2_eur.rvtests.MetaAssoc.rsq.0.8.sampleMAF.0.01.hg19.tsv\n",
    "# VARIANT_ID CHR GRCh19_POS REF ALT ALT_AF MAF POP_MAF SOURCE IMP_QUAL N ALT_EFFECT SE P\n",
    "\n",
    "gzip unmapped_sumstats.txt # line count 15,291\n",
    "\n",
    "aws s3 cp whi_garnet_c1c2_eur.rvtests.MetaAssoc.rsq.0.8.sampleMAF.0.01.hg19.tsv.gz s3://rti-shared/gwas/phs000315_whi_garnet/results/uui/0001/minimac4_eagle2.4/topmed_r2/eur/hg19_liftover/\n",
    "aws s3 cp unmapped_sumstats.txt.gz s3://rti-shared/gwas/phs000315_whi_garnet/results/uui/0001/minimac4_eagle2.4/topmed_r2/eur/hg19_liftover/"
   ]
  },
  {
   "cell_type": "markdown",
   "id": "a82841b4-c0ad-4625-a9c4-30a1b9278be3",
   "metadata": {},
   "source": [
    "### Generate SNP location & P-value file\n",
    "The SNP location file should contain three columns: SNP ID, chromosome, and base pair position.\n",
    "\n",
    "Make sure using same build for SNP file and Gene file!"
   ]
  },
  {
   "cell_type": "code",
   "execution_count": null,
   "id": "2152d415-ae66-466d-a0c3-c4554177a364",
   "metadata": {},
   "outputs": [],
   "source": [
    "infile=/home/ec2-user/rti-shared/gwas/phs000315_whi_garnet/results/uui/0001/minimac4_eagle2.4/topmed_r2/eur/biocloud_gwas_workflows/liftover_genomic_annotations/cromwell-executions/genome_liftover/f6a90825-fa7c-44fe-853f-552cab16c04f/call-final/execution/whi_garnet_c1c2_eur.rvtests.MetaAssoc.rsq.0.8.sampleMAF.0.01.hg19.tsv.gz\n",
    "outfile=/home/ec2-user/rti-shared/gwas/phs000315_whi_garnet/results/uui/0001/minimac4_eagle2.4/topmed_r2/eur/magma/input/whi_garnet_c1c2_eur_snp_loc.tsv\n",
    "\n",
    "# header\n",
    "printf \"SNP\\tCHR\\tBP\\tP\\tN\\n\" > $outfile\n",
    "\n",
    "# VARIANT_ID CHR GRCh19_POS REF ALT ALT_AF MAF POP_MAF SOURCE IMP_QUAL N ALT_EFFECT SE P\n",
    "zcat $infile | tail -n +2 |\\\n",
    "perl -lane ' print join(\"\\t\",$F[0],$F[1],$F[2], $F[13], $F[10]);' > tmp.txt\n",
    "#perl -lane ' print join(\"\\t\",$F[0],$F[1],$F[2], $F[13], $F[10]);' >> $outfile\n",
    "\n",
    "\n",
    "\n",
    "# make SNP IDs only rsID and not rsID:pos:A1:A2\n",
    "# will cause issues because of a mismatch in SNP ID nomenclature between ref data and SNP p-value file \n",
    "awk ' {split($1,a,\":\") ;$1 = a[1]}  { print $0 }' OFS=\"\\t\" tmp.txt > tmp2.txt\n",
    "\n",
    "# keep only rsIDs\n",
    "grep rs tmp2.txt >> $outfile\n",
    "\n",
    "rm tmp*"
   ]
  },
  {
   "cell_type": "markdown",
   "id": "9bcdee2d-d153-4808-a911-218403279cc3",
   "metadata": {},
   "source": [
    "### Annotate\n",
    "Produces a file `[ANNOT_PREFIX].genes.annot`  containing the mapping of SNPs to genes.\n",
    "\n",
    "For example, a mismatch in SNP ID nomenclature between reference data and a SNP p-value\n",
    "would result in a large percentage of SNPs being dropped from the analysis"
   ]
  },
  {
   "cell_type": "code",
   "execution_count": null,
   "id": "c63db3b0-a02a-4271-841b-a88f26e39db2",
   "metadata": {},
   "outputs": [],
   "source": [
    "#magma=/home/ec2-user/bin/bioinformatics/software/third_party/magma_v1.07b/\n",
    "\n",
    "snploc=whi_garnet_c1c2_eur_snp_loc.tsv\n",
    "outann=annotate_whi_garnet_c1c2_eur\n",
    "cd /home/ec2-user/rti-shared/gwas/phs000315_whi_garnet/results/uui/0001/minimac4_eagle2.4/topmed_r2/eur/magma/input\n",
    "\n",
    "# annotate with 100kb window\n",
    "docker run -i -v $PWD:/data/ rtibiocloud/magma:v1.10_b95f665 \\\n",
    "/opt/magma \\\n",
    "    --annotate window=100 \\\n",
    "    --snp-loc /data/$snploc \\\n",
    "    --gene-loc /opt/NCBI37.3.gene.loc \\\n",
    "    --out /data/$outann\n"
   ]
  },
  {
   "cell_type": "markdown",
   "id": "a3ad96cb-a202-4508-b7e0-b6b8a8437801",
   "metadata": {},
   "source": [
    "### Gene analysis - SNP p-values\n",
    "To perform gene analysis on SNP p-values:\n",
    "magma --bfile [REFDATA] --pval [PVAL_FILE] N=[N] --gene-annot [ANNOT_PREFIX].genes.annot \\\n",
    "--out [GENE_PREFIX]\n",
    "\n",
    "Need a reference data set such as the 1,000 Genomes European panel (available on the MAGMA site)."
   ]
  },
  {
   "cell_type": "code",
   "execution_count": null,
   "id": "c5601506-b44e-46ba-9a50-bcc07c523f0d",
   "metadata": {},
   "outputs": [],
   "source": [
    "# The SNP locations in the data are in reference to human genome Build 37.\n",
    "wget https://ctg.cncr.nl/software/MAGMA/ref_data/g1000_eur.zip\n",
    "unzip g1000_eur.zip\n",
    "\n",
    "# --gene-model snp-wise=mean is default for --pval runs\n",
    "docker run -i -v $PWD:/data/ rtibiocloud/magma:v1.10_4bb4e51 \\\n",
    "/opt/magma \\\n",
    "    --genes-only \\\n",
    "    --bfile /data/g1000_eur \\\n",
    "    --pval /data/whi_garnet_c1c2_eur_snp_loc.tsv  ncol=N \\\n",
    "    --gene-annot /data/annotate_whi_garnet_c1c2_eur.genes.annot \\\n",
    "    --out /data/whi_garnet_c1c2_eur_gene_analysis\n",
    "    #--gene-model multi \\\n",
    "#Reading file /data/g1000_eur.fam... 503 individuals read"
   ]
  },
  {
   "cell_type": "markdown",
   "id": "845620d1-cbb5-443c-ad87-b35d7b3b7863",
   "metadata": {},
   "source": [
    "### Add Gene Symbols"
   ]
  },
  {
   "cell_type": "code",
   "execution_count": null,
   "id": "9127e010-9213-4b24-94f9-9a192736b451",
   "metadata": {},
   "outputs": [],
   "source": [
    "infile=whi_garnet_c1c2_eur_gene_analysis.genes.out\n",
    "outfile=$infile.gene_symbols_added.txt\n",
    "head -n 1 $infile | awk '{print $0, \"SYMBOL\"}' > $outfile\n",
    "\n",
    "# interactive mode\n",
    "docker run -ti -v $PWD:/data/ rtibiocloud/magma:v1.10_b95f665 bash\n",
    "cd /data/\n",
    "\n",
    "infile=whi_garnet_c1c2_eur_gene_analysis.genes.out\n",
    "outfile=$infile.gene_symbols_added.txt\n",
    "\n",
    "# append gene symbol to outfil\n",
    "awk 'FNR==NR{map[$1] = $6; next}\n",
    "      { print $0, map[$1] }' /opt/NCBI37.3.gene.loc <(tail -n +2 $infile) >> $outfile\n"
   ]
  },
  {
   "cell_type": "code",
   "execution_count": null,
   "id": "179ab38f-1e40-4c25-ae14-7dafbbefc49a",
   "metadata": {},
   "outputs": [],
   "source": [
    "infile=whi_garnet_c1c2_eur_gene_analysis.genes.out\n",
    "outfile=$infile.gene_symbols_added.txt\n",
    "head -n 1 $infile |\n",
    "perl -lne '\n",
    "    s/\\s+/\\t/g;\n",
    "    /^(\\S+)\\s+(.+)/;\n",
    "    print join(\"\\t\",$1,\"SYMBOL\",$2);\n",
    "    ' > $outfile\n",
    "\n",
    "# interactive mode\n",
    "docker run -ti -v $PWD:/data/ rtibiocloud/magma:v1.10_b95f665 bash\n",
    "cd /data/\n",
    "\n",
    "infile=whi_garnet_c1c2_eur_gene_analysis.genes.out\n",
    "outfile=$infile.gene_symbols_added.txt\n",
    "tail -n +2 $infile |\n",
    "perl -lne '\n",
    "    BEGIN {\n",
    "        %symbols = ();\n",
    "        open(XREF, \"/opt/NCBI37.3.gene.loc\");\n",
    "        while (<XREF>) {\n",
    "        /(\\S+)(?:\\s+\\S+){4}\\s+(\\S+)/;\n",
    "            $symbols{$1} = $2;\n",
    "        }\n",
    "        close XREF;\n",
    "    }\n",
    "    s/\\s+/\\t/g;\n",
    "    /^(\\S+)\\s+(.+)/;\n",
    "    if (exists($symbols{$1})) {\n",
    "        print join(\"\\t\",$1,$symbols{$1},$2);\n",
    "    } else {\n",
    "        print join(\"\\t\",$1,\"\",$2);\n",
    "    }' >> $outfile\n"
   ]
  },
  {
   "cell_type": "code",
   "execution_count": null,
   "id": "7d47071d-979b-4b58-86d8-9767cd87b446",
   "metadata": {},
   "outputs": [],
   "source": []
  },
  {
   "cell_type": "code",
   "execution_count": null,
   "id": "efe75adb-5243-4f11-ab12-a1c0a7f48c00",
   "metadata": {},
   "outputs": [],
   "source": []
  },
  {
   "cell_type": "code",
   "execution_count": null,
   "id": "051a5578-f8d7-428c-abb8-c8ab525f24d4",
   "metadata": {},
   "outputs": [],
   "source": []
  },
  {
   "cell_type": "code",
   "execution_count": null,
   "id": "793e3c0e-6a41-476c-a8fe-23b625050c7a",
   "metadata": {},
   "outputs": [],
   "source": []
  },
  {
   "cell_type": "code",
   "execution_count": null,
   "id": "b345fc14-987e-448c-bb19-c6eb6dbc4b89",
   "metadata": {},
   "outputs": [],
   "source": []
  },
  {
   "cell_type": "code",
   "execution_count": null,
   "id": "7be65811-c69e-4284-9aa3-457162450f92",
   "metadata": {},
   "outputs": [],
   "source": []
  },
  {
   "cell_type": "code",
   "execution_count": null,
   "id": "073781d9-ce39-4a5b-8fd5-bd9363c6b275",
   "metadata": {},
   "outputs": [],
   "source": []
  },
  {
   "cell_type": "code",
   "execution_count": null,
   "id": "ef69af9e-c978-41fa-81fd-c2e7eef86b08",
   "metadata": {},
   "outputs": [],
   "source": []
  },
  {
   "cell_type": "code",
   "execution_count": null,
   "id": "d48705c1-083e-48e8-8aa1-8910404fefd2",
   "metadata": {},
   "outputs": [],
   "source": []
  },
  {
   "cell_type": "code",
   "execution_count": null,
   "id": "ff61015f-02b9-43ea-a9cc-399f05b21504",
   "metadata": {},
   "outputs": [],
   "source": []
  },
  {
   "cell_type": "code",
   "execution_count": null,
   "id": "1d29da77-87fc-45a9-a47c-6dfce19591c4",
   "metadata": {},
   "outputs": [],
   "source": [
    "\n",
    "\n",
    "\n",
    "\n",
    "\n",
    "\n",
    "\n",
    "\n",
    "\n",
    "\n",
    "\n",
    "\n",
    "\n",
    "\n",
    "\n",
    "\n",
    "\n",
    "\n",
    "\n",
    "\n",
    "\n",
    "\n",
    "\n"
   ]
  }
 ],
 "metadata": {
  "kernelspec": {
   "display_name": "R",
   "language": "R",
   "name": "ir"
  },
  "language_info": {
   "codemirror_mode": "r",
   "file_extension": ".r",
   "mimetype": "text/x-r-source",
   "name": "R",
   "pygments_lexer": "r",
   "version": "4.1.3"
  }
 },
 "nbformat": 4,
 "nbformat_minor": 5
}
